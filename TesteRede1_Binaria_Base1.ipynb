{
  "nbformat": 4,
  "nbformat_minor": 0,
  "metadata": {
    "colab": {
      "name": "TesteRedesBinarias.ipynb",
      "version": "0.3.2",
      "provenance": [],
      "toc_visible": true,
      "include_colab_link": true
    },
    "kernelspec": {
      "name": "python3",
      "display_name": "Python 3"
    },
    "accelerator": "GPU"
  },
  "cells": [
    {
      "cell_type": "markdown",
      "metadata": {
        "id": "view-in-github",
        "colab_type": "text"
      },
      "source": [
        "<a href=\"https://colab.research.google.com/github/FernandaSzAdr/KNN_cromossome/blob/master/TesteRedesBinarias.ipynb\" target=\"_parent\"><img src=\"https://colab.research.google.com/assets/colab-badge.svg\" alt=\"Open In Colab\"/></a>"
      ]
    },
    {
      "metadata": {
        "id": "xN-oUTtcif3Q",
        "colab_type": "code",
        "outputId": "12ce8f66-fd5d-4d40-ba55-19eb8c892557",
        "colab": {
          "base_uri": "https://localhost:8080/",
          "height": 129
        }
      },
      "cell_type": "code",
      "source": [
        "# Load the Drive helper and mount\n",
        "from google.colab import drive\n",
        "\n",
        "# This will prompt for authorization.\n",
        "drive.mount('/content/drive/')"
      ],
      "execution_count": 1,
      "outputs": [
        {
          "output_type": "stream",
          "text": [
            "Go to this URL in a browser: https://accounts.google.com/o/oauth2/auth?client_id=947318989803-6bn6qk8qdgf4n4g3pfee6491hc0brc4i.apps.googleusercontent.com&redirect_uri=urn%3Aietf%3Awg%3Aoauth%3A2.0%3Aoob&scope=email%20https%3A%2F%2Fwww.googleapis.com%2Fauth%2Fdocs.test%20https%3A%2F%2Fwww.googleapis.com%2Fauth%2Fdrive%20https%3A%2F%2Fwww.googleapis.com%2Fauth%2Fdrive.photos.readonly%20https%3A%2F%2Fwww.googleapis.com%2Fauth%2Fpeopleapi.readonly&response_type=code\n",
            "\n",
            "Enter your authorization code:\n",
            "··········\n",
            "Mounted at /content/drive/\n"
          ],
          "name": "stdout"
        }
      ]
    },
    {
      "metadata": {
        "id": "gzcuEGSklnwS",
        "colab_type": "code",
        "outputId": "8fb98dcb-0bac-43c4-a4f7-38b916412b35",
        "colab": {
          "base_uri": "https://localhost:8080/",
          "height": 35
        }
      },
      "cell_type": "code",
      "source": [
        "import numpy as np\n",
        "import keras\n",
        "from keras import backend as K\n",
        "from keras.models import Sequential\n",
        "from keras.layers import Activation\n",
        "from keras.optimizers import SGD\n",
        "from keras.layers.core import Dense, Flatten, Dropout\n",
        "from keras.preprocessing.image import ImageDataGenerator\n",
        "from keras.layers.normalization import BatchNormalization\n",
        "from keras.layers.convolutional import *\n",
        "from keras.callbacks import ModelCheckpoint\n",
        "from matplotlib import pyplot as plt\n",
        "from sklearn.metrics import confusion_matrix\n",
        "import itertools\n",
        "import matplotlib.pyplot as plt"
      ],
      "execution_count": 2,
      "outputs": [
        {
          "output_type": "stream",
          "text": [
            "Using TensorFlow backend.\n"
          ],
          "name": "stderr"
        }
      ]
    },
    {
      "metadata": {
        "id": "ITtEfxrilym7",
        "colab_type": "code",
        "colab": {}
      },
      "cell_type": "code",
      "source": [
        "train_path = 'drive/My Drive/Base_CNN/Binarizado/Train'\n",
        "test_path = 'drive/My Drive/Base_CNN/Binarizado/Test'\n",
        "validation_path = 'drive/My Drive/Base_CNN/Binarizado/Validation'"
      ],
      "execution_count": 0,
      "outputs": []
    },
    {
      "metadata": {
        "id": "WlPBqB_v3x2A",
        "colab_type": "text"
      },
      "cell_type": "markdown",
      "source": [
        "\n",
        "\n",
        "---\n",
        "\n"
      ]
    },
    {
      "metadata": {
        "id": "8KTtm8K7qg1n",
        "colab_type": "text"
      },
      "cell_type": "markdown",
      "source": [
        "## Implementação"
      ]
    },
    {
      "metadata": {
        "id": "ZNfohSUpo1n0",
        "colab_type": "text"
      },
      "cell_type": "markdown",
      "source": [
        "\n",
        "\n",
        "*   Batch size = 32\n",
        "*   Image size = 120x120\n",
        "\n"
      ]
    },
    {
      "metadata": {
        "id": "_TFWtLbQ2fUI",
        "colab_type": "code",
        "colab": {}
      },
      "cell_type": "code",
      "source": [
        "results = {}"
      ],
      "execution_count": 0,
      "outputs": []
    },
    {
      "metadata": {
        "id": "W3zmFDRmnYem",
        "colab_type": "code",
        "colab": {}
      },
      "cell_type": "code",
      "source": [
        "bSize = 32"
      ],
      "execution_count": 0,
      "outputs": []
    },
    {
      "metadata": {
        "id": "dCNH0jPl3WTV",
        "colab_type": "code",
        "colab": {}
      },
      "cell_type": "code",
      "source": [
        "datagen = ImageDataGenerator(rescale=1/255.)"
      ],
      "execution_count": 0,
      "outputs": []
    },
    {
      "metadata": {
        "id": "YiMXe23Vmbo-",
        "colab_type": "code",
        "outputId": "0f19c098-257e-43d0-b29d-8afbd85407be",
        "colab": {
          "base_uri": "https://localhost:8080/",
          "height": 72
        }
      },
      "cell_type": "code",
      "source": [
        "train_batches = datagen.flow_from_directory(train_path, target_size=(120, 120), \n",
        "                                            classes=['C', 'NC'], \n",
        "                                            batch_size=bSize)\n",
        "test_batches = datagen.flow_from_directory(test_path, target_size=(120, 120), \n",
        "                                           classes=['C', 'NC'], \n",
        "                                           batch_size=bSize)\n",
        "validation_batches = datagen.flow_from_directory(validation_path, \n",
        "                                                 target_size=(120, 120), \n",
        "                                                 classes=['C', 'NC'], \n",
        "                                                 batch_size=bSize)"
      ],
      "execution_count": 7,
      "outputs": [
        {
          "output_type": "stream",
          "text": [
            "Found 9769 images belonging to 2 classes.\n",
            "Found 3053 images belonging to 2 classes.\n",
            "Found 2442 images belonging to 2 classes.\n"
          ],
          "name": "stdout"
        }
      ]
    },
    {
      "metadata": {
        "id": "vE-dZtSv5mde",
        "colab_type": "code",
        "colab": {}
      },
      "cell_type": "code",
      "source": [
        "stepsPerEpoche = len(train_batches)/bSize\n",
        "validationSteps = len(validation_batches)/bSize"
      ],
      "execution_count": 0,
      "outputs": []
    },
    {
      "metadata": {
        "id": "WLcoxZya5sQr",
        "colab_type": "code",
        "outputId": "45964cbf-c949-41a2-889e-8fa51678ae15",
        "colab": {
          "base_uri": "https://localhost:8080/",
          "height": 35
        }
      },
      "cell_type": "code",
      "source": [
        "test_batches.class_indices"
      ],
      "execution_count": 9,
      "outputs": [
        {
          "output_type": "execute_result",
          "data": {
            "text/plain": [
              "{'C': 0, 'NC': 1}"
            ]
          },
          "metadata": {
            "tags": []
          },
          "execution_count": 9
        }
      ]
    },
    {
      "metadata": {
        "id": "tY7Fxpczz0wk",
        "colab_type": "text"
      },
      "cell_type": "markdown",
      "source": [
        "\n",
        "\n",
        "---\n",
        "\n"
      ]
    },
    {
      "metadata": {
        "id": "wH56YdE5rlnU",
        "colab_type": "text"
      },
      "cell_type": "markdown",
      "source": [
        "### 1 tentativa Accuracy: 78.52%\n"
      ]
    },
    {
      "metadata": {
        "id": "NBCIFVOlompR",
        "colab_type": "text"
      },
      "cell_type": "markdown",
      "source": [
        "**Descrição**\n",
        "\n",
        "\n",
        "*   Modelo descrito no artigo \"Crowdsourcing for Chromosome Segmentation and Deep Classification\"\n",
        "\n"
      ]
    },
    {
      "metadata": {
        "id": "rNosdG-ioNYU",
        "colab_type": "code",
        "colab": {}
      },
      "cell_type": "code",
      "source": [
        "model = Sequential([\n",
        "    Conv2D(64, (3, 3), activation='relu', input_shape=(120, 120, 3)),\n",
        "    Conv2D(64, (3, 3), activation='relu'),\n",
        "    Dropout(0.2),\n",
        "    MaxPooling2D(pool_size=(2, 2)),\n",
        "   \n",
        "    Conv2D(32, (3, 3), activation='relu'),\n",
        "    Conv2D(32, (3, 3), activation='relu'),\n",
        "    Dropout(0.2),\n",
        "    MaxPooling2D(pool_size=(2, 2)),\n",
        "   \n",
        "    Conv2D(16, (3, 3), activation='relu'),\n",
        "    Conv2D(16, (3, 3), activation='relu'),\n",
        "    Dropout(0.2),\n",
        "    MaxPooling2D(pool_size=(2, 2)),\n",
        "   \n",
        "    Conv2D(8, (3, 3), activation='relu'),\n",
        "    Conv2D(8, (3, 3), activation='relu'),\n",
        "    Dropout(0.2),\n",
        "    MaxPooling2D(pool_size=(2, 2)),\n",
        "    \n",
        "    Flatten(),\n",
        "    Dense(1024, activation='sigmoid'),\n",
        "    Dense(512, activation='sigmoid'),\n",
        "   \n",
        "    Dense(2, activation='softmax')\n",
        "]\n",
        ")"
      ],
      "execution_count": 0,
      "outputs": []
    },
    {
      "metadata": {
        "id": "UBqwdK2Bxagj",
        "colab_type": "code",
        "colab": {}
      },
      "cell_type": "code",
      "source": [
        "model.compile(SGD(lr=0.01, momentum=0.0, decay=0.0, nesterov=False), \n",
        "              loss='categorical_crossentropy', metrics=['accuracy'])"
      ],
      "execution_count": 0,
      "outputs": []
    },
    {
      "metadata": {
        "id": "EvVszbs8mjBb",
        "colab_type": "code",
        "colab": {}
      },
      "cell_type": "code",
      "source": [
        "checkpointer = ModelCheckpoint(filepath='weights_architecture_1.hdf5', verbose=1, save_best_only=True)"
      ],
      "execution_count": 0,
      "outputs": []
    },
    {
      "metadata": {
        "id": "PeyX7Mzf5lDw",
        "colab_type": "code",
        "outputId": "2de0e81d-89e5-4258-a81c-20abc8faa268",
        "colab": {
          "base_uri": "https://localhost:8080/",
          "height": 3690
        }
      },
      "cell_type": "code",
      "source": [
        "training = model.fit_generator(train_batches, steps_per_epoch=stepsPerEpoche, \n",
        "                   validation_data=validation_batches, validation_steps=validationSteps,\n",
        "                   epochs=50, verbose=2, callbacks=[checkpointer])"
      ],
      "execution_count": 13,
      "outputs": [
        {
          "output_type": "stream",
          "text": [
            "Epoch 1/50\n",
            " - 103s - loss: 0.5593 - acc: 0.7250 - val_loss: 0.4886 - val_acc: 0.8229\n",
            "\n",
            "Epoch 00001: val_loss improved from inf to 0.48864, saving model to weights_architecture_1.hdf5\n",
            "Epoch 2/50\n",
            " - 92s - loss: 0.4874 - acc: 0.8125 - val_loss: 0.5387 - val_acc: 0.7708\n",
            "\n",
            "Epoch 00002: val_loss did not improve from 0.48864\n",
            "Epoch 3/50\n",
            " - 101s - loss: 0.5485 - acc: 0.7688 - val_loss: 0.6043 - val_acc: 0.7396\n",
            "\n",
            "Epoch 00003: val_loss did not improve from 0.48864\n",
            "Epoch 4/50\n",
            " - 91s - loss: 0.5433 - acc: 0.7750 - val_loss: 0.4260 - val_acc: 0.8542\n",
            "\n",
            "Epoch 00004: val_loss improved from 0.48864 to 0.42604, saving model to weights_architecture_1.hdf5\n",
            "Epoch 5/50\n",
            " - 90s - loss: 0.5579 - acc: 0.7594 - val_loss: 0.5231 - val_acc: 0.8438\n",
            "\n",
            "Epoch 00005: val_loss did not improve from 0.42604\n",
            "Epoch 6/50\n",
            " - 98s - loss: 0.5406 - acc: 0.7750 - val_loss: 0.4111 - val_acc: 0.8646\n",
            "\n",
            "Epoch 00006: val_loss improved from 0.42604 to 0.41113, saving model to weights_architecture_1.hdf5\n",
            "Epoch 7/50\n",
            " - 87s - loss: 0.4802 - acc: 0.8156 - val_loss: 0.4717 - val_acc: 0.8229\n",
            "\n",
            "Epoch 00007: val_loss did not improve from 0.41113\n",
            "Epoch 8/50\n",
            " - 90s - loss: 0.4854 - acc: 0.8125 - val_loss: 0.5450 - val_acc: 0.7708\n",
            "\n",
            "Epoch 00008: val_loss did not improve from 0.41113\n",
            "Epoch 9/50\n",
            " - 105s - loss: 0.5167 - acc: 0.8000 - val_loss: 0.6154 - val_acc: 0.7292\n",
            "\n",
            "Epoch 00009: val_loss did not improve from 0.41113\n",
            "Epoch 10/50\n",
            " - 89s - loss: 0.5261 - acc: 0.7844 - val_loss: 0.4688 - val_acc: 0.8229\n",
            "\n",
            "Epoch 00010: val_loss did not improve from 0.41113\n",
            "Epoch 11/50\n",
            " - 101s - loss: 0.5536 - acc: 0.7656 - val_loss: 0.5385 - val_acc: 0.7708\n",
            "\n",
            "Epoch 00011: val_loss did not improve from 0.41113\n",
            "Epoch 12/50\n",
            " - 88s - loss: 0.5279 - acc: 0.7844 - val_loss: 0.5065 - val_acc: 0.8021\n",
            "\n",
            "Epoch 00012: val_loss did not improve from 0.41113\n",
            "Epoch 13/50\n",
            " - 103s - loss: 0.4833 - acc: 0.8187 - val_loss: 0.4870 - val_acc: 0.8125\n",
            "\n",
            "Epoch 00013: val_loss did not improve from 0.41113\n",
            "Epoch 14/50\n",
            " - 90s - loss: 0.5260 - acc: 0.7844 - val_loss: 0.5156 - val_acc: 0.7917\n",
            "\n",
            "Epoch 00014: val_loss did not improve from 0.41113\n",
            "Epoch 15/50\n",
            " - 98s - loss: 0.5470 - acc: 0.7688 - val_loss: 0.7059 - val_acc: 0.6771\n",
            "\n",
            "Epoch 00015: val_loss did not improve from 0.41113\n",
            "Epoch 16/50\n",
            " - 90s - loss: 0.4974 - acc: 0.8063 - val_loss: 0.5760 - val_acc: 0.7396\n",
            "\n",
            "Epoch 00016: val_loss did not improve from 0.41113\n",
            "Epoch 17/50\n",
            " - 95s - loss: 0.5506 - acc: 0.7688 - val_loss: 0.5281 - val_acc: 0.7812\n",
            "\n",
            "Epoch 00017: val_loss did not improve from 0.41113\n",
            "Epoch 18/50\n",
            " - 88s - loss: 0.5349 - acc: 0.7812 - val_loss: 0.5158 - val_acc: 0.8125\n",
            "\n",
            "Epoch 00018: val_loss did not improve from 0.41113\n",
            "Epoch 19/50\n",
            " - 97s - loss: 0.5483 - acc: 0.7719 - val_loss: 0.5385 - val_acc: 0.7812\n",
            "\n",
            "Epoch 00019: val_loss did not improve from 0.41113\n",
            "Epoch 20/50\n",
            " - 90s - loss: 0.4947 - acc: 0.8063 - val_loss: 0.5220 - val_acc: 0.7917\n",
            "\n",
            "Epoch 00020: val_loss did not improve from 0.41113\n",
            "Epoch 21/50\n",
            " - 89s - loss: 0.5663 - acc: 0.7594 - val_loss: 0.4700 - val_acc: 0.8333\n",
            "\n",
            "Epoch 00021: val_loss did not improve from 0.41113\n",
            "Epoch 22/50\n",
            " - 89s - loss: 0.5111 - acc: 0.8000 - val_loss: 0.5109 - val_acc: 0.8125\n",
            "\n",
            "Epoch 00022: val_loss did not improve from 0.41113\n",
            "Epoch 23/50\n",
            " - 95s - loss: 0.5656 - acc: 0.7625 - val_loss: 0.5150 - val_acc: 0.7917\n",
            "\n",
            "Epoch 00023: val_loss did not improve from 0.41113\n",
            "Epoch 24/50\n",
            " - 90s - loss: 0.5155 - acc: 0.7937 - val_loss: 0.5254 - val_acc: 0.7812\n",
            "\n",
            "Epoch 00024: val_loss did not improve from 0.41113\n",
            "Epoch 25/50\n",
            " - 94s - loss: 0.4736 - acc: 0.8250 - val_loss: 0.6840 - val_acc: 0.6771\n",
            "\n",
            "Epoch 00025: val_loss did not improve from 0.41113\n",
            "Epoch 26/50\n",
            " - 87s - loss: 0.5526 - acc: 0.7656 - val_loss: 0.5777 - val_acc: 0.7432\n",
            "\n",
            "Epoch 00026: val_loss did not improve from 0.41113\n",
            "Epoch 27/50\n",
            " - 92s - loss: 0.5036 - acc: 0.8031 - val_loss: 0.4682 - val_acc: 0.8229\n",
            "\n",
            "Epoch 00027: val_loss did not improve from 0.41113\n",
            "Epoch 28/50\n",
            " - 88s - loss: 0.5671 - acc: 0.7438 - val_loss: 0.5544 - val_acc: 0.7708\n",
            "\n",
            "Epoch 00028: val_loss did not improve from 0.41113\n",
            "Epoch 29/50\n",
            " - 96s - loss: 0.5173 - acc: 0.7969 - val_loss: 0.5385 - val_acc: 0.7708\n",
            "\n",
            "Epoch 00029: val_loss did not improve from 0.41113\n",
            "Epoch 30/50\n",
            " - 86s - loss: 0.5084 - acc: 0.7969 - val_loss: 0.4345 - val_acc: 0.8438\n",
            "\n",
            "Epoch 00030: val_loss did not improve from 0.41113\n",
            "Epoch 31/50\n",
            " - 65s - loss: 0.4859 - acc: 0.8187 - val_loss: 0.5374 - val_acc: 0.7812\n",
            "\n",
            "Epoch 00031: val_loss did not improve from 0.41113\n",
            "Epoch 32/50\n",
            " - 48s - loss: 0.5454 - acc: 0.7750 - val_loss: 0.5151 - val_acc: 0.7917\n",
            "\n",
            "Epoch 00032: val_loss did not improve from 0.41113\n",
            "Epoch 33/50\n",
            " - 47s - loss: 0.5501 - acc: 0.7688 - val_loss: 0.4993 - val_acc: 0.8021\n",
            "\n",
            "Epoch 00033: val_loss did not improve from 0.41113\n",
            "Epoch 34/50\n",
            " - 48s - loss: 0.5517 - acc: 0.7625 - val_loss: 0.5229 - val_acc: 0.7917\n",
            "\n",
            "Epoch 00034: val_loss did not improve from 0.41113\n",
            "Epoch 35/50\n",
            " - 48s - loss: 0.5308 - acc: 0.7875 - val_loss: 0.5646 - val_acc: 0.7604\n",
            "\n",
            "Epoch 00035: val_loss did not improve from 0.41113\n",
            "Epoch 36/50\n",
            " - 48s - loss: 0.5580 - acc: 0.7594 - val_loss: 0.5294 - val_acc: 0.7812\n",
            "\n",
            "Epoch 00036: val_loss did not improve from 0.41113\n",
            "Epoch 37/50\n",
            " - 48s - loss: 0.4979 - acc: 0.8156 - val_loss: 0.5001 - val_acc: 0.8021\n",
            "\n",
            "Epoch 00037: val_loss did not improve from 0.41113\n",
            "Epoch 38/50\n",
            " - 48s - loss: 0.4913 - acc: 0.8094 - val_loss: 0.4877 - val_acc: 0.8125\n",
            "\n",
            "Epoch 00038: val_loss did not improve from 0.41113\n",
            "Epoch 39/50\n",
            " - 48s - loss: 0.5598 - acc: 0.7594 - val_loss: 0.6427 - val_acc: 0.6771\n",
            "\n",
            "Epoch 00039: val_loss did not improve from 0.41113\n",
            "Epoch 40/50\n",
            " - 48s - loss: 0.5339 - acc: 0.7844 - val_loss: 0.4155 - val_acc: 0.8542\n",
            "\n",
            "Epoch 00040: val_loss did not improve from 0.41113\n",
            "Epoch 41/50\n",
            " - 48s - loss: 0.4569 - acc: 0.8344 - val_loss: 0.3586 - val_acc: 0.8854\n",
            "\n",
            "Epoch 00041: val_loss improved from 0.41113 to 0.35858, saving model to weights_architecture_1.hdf5\n",
            "Epoch 42/50\n",
            " - 48s - loss: 0.5378 - acc: 0.7781 - val_loss: 0.5869 - val_acc: 0.7292\n",
            "\n",
            "Epoch 00042: val_loss did not improve from 0.35858\n",
            "Epoch 43/50\n",
            " - 48s - loss: 0.5189 - acc: 0.7906 - val_loss: 0.5523 - val_acc: 0.7708\n",
            "\n",
            "Epoch 00043: val_loss did not improve from 0.35858\n",
            "Epoch 44/50\n",
            " - 48s - loss: 0.5411 - acc: 0.7781 - val_loss: 0.6106 - val_acc: 0.7188\n",
            "\n",
            "Epoch 00044: val_loss did not improve from 0.35858\n",
            "Epoch 45/50\n",
            " - 48s - loss: 0.5468 - acc: 0.7688 - val_loss: 0.5143 - val_acc: 0.8125\n",
            "\n",
            "Epoch 00045: val_loss did not improve from 0.35858\n",
            "Epoch 46/50\n",
            " - 48s - loss: 0.4821 - acc: 0.8156 - val_loss: 0.5924 - val_acc: 0.7396\n",
            "\n",
            "Epoch 00046: val_loss did not improve from 0.35858\n",
            "Epoch 47/50\n",
            " - 48s - loss: 0.5175 - acc: 0.7937 - val_loss: 0.5210 - val_acc: 0.7917\n",
            "\n",
            "Epoch 00047: val_loss did not improve from 0.35858\n",
            "Epoch 48/50\n",
            " - 48s - loss: 0.5657 - acc: 0.7625 - val_loss: 0.5400 - val_acc: 0.7708\n",
            "\n",
            "Epoch 00048: val_loss did not improve from 0.35858\n",
            "Epoch 49/50\n",
            " - 48s - loss: 0.5195 - acc: 0.7875 - val_loss: 0.4697 - val_acc: 0.8229\n",
            "\n",
            "Epoch 00049: val_loss did not improve from 0.35858\n",
            "Epoch 50/50\n",
            " - 49s - loss: 0.5037 - acc: 0.8031 - val_loss: 0.5506 - val_acc: 0.7604\n",
            "\n",
            "Epoch 00050: val_loss did not improve from 0.35858\n"
          ],
          "name": "stdout"
        }
      ]
    },
    {
      "metadata": {
        "id": "VeLCe59ltne5",
        "colab_type": "code",
        "colab": {
          "base_uri": "https://localhost:8080/",
          "height": 380
        },
        "outputId": "e4e71018-22f1-4ede-c5aa-09135eaf0484"
      },
      "cell_type": "code",
      "source": [
        "# plotar loss e accuracy para os datasets 'train' e 'test'\n",
        "plt.style.use(\"ggplot\")\n",
        "plt.figure()\n",
        "plt.plot(training.history['acc'], label='Accuracy')\n",
        "plt.plot(training.history['loss'], label='Loss')\n",
        "plt.xlabel('Epochs')\n",
        "plt.ylabel('Accuracy')\n",
        "plt.title(\"Training Loss and Accuracy\")\n",
        "plt.ylabel(\"Loss/Accuracy\")\n",
        "plt.legend()\n",
        "plt.savefig('architecture_1.png', bbox_inches='tight')"
      ],
      "execution_count": 14,
      "outputs": [
        {
          "output_type": "display_data",
          "data": {
            "image/png": "[encoded data removed]",
            "text/plain": [
              "<matplotlib.figure.Figure at 0x7f8fc8e34a20>"
            ]
          },
          "metadata": {
            "tags": []
          }
        }
      ]
    },
    {
      "metadata": {
        "id": "c1LR04eV6AJ5",
        "colab_type": "code",
        "colab": {}
      },
      "cell_type": "code",
      "source": [
        "model.load_weights('weights_architecture_1.hdf5')"
      ],
      "execution_count": 0,
      "outputs": []
    },
    {
      "metadata": {
        "id": "gFQR2k7Ns8SN",
        "colab_type": "code",
        "colab": {
          "base_uri": "https://localhost:8080/",
          "height": 35
        },
        "outputId": "94613cfe-6d80-43d0-991b-7028e4811c7e"
      },
      "cell_type": "code",
      "source": [
        "results['architecture_1'] = model.evaluate_generator(test_batches, steps=bSize, use_multiprocessing=True, verbose=1)"
      ],
      "execution_count": 16,
      "outputs": [
        {
          "output_type": "stream",
          "text": [
            "32/32 [==============================] - 292s 9s/step\n"
          ],
          "name": "stdout"
        }
      ]
    },
    {
      "metadata": {
        "id": "Juqn8SXr0VvZ",
        "colab_type": "code",
        "colab": {
          "base_uri": "https://localhost:8080/",
          "height": 35
        },
        "outputId": "252936d9-f0dd-470e-ca69-901ddab9b859"
      },
      "cell_type": "code",
      "source": [
        "print('Test Loss: {} | Test Accuracy: {:.2f}%'.format(results['architecture_1'][0], 100 * results['architecture_1'][1]))"
      ],
      "execution_count": 17,
      "outputs": [
        {
          "output_type": "stream",
          "text": [
            "Test Loss: 0.5415669614449143 | Test Accuracy: 78.52%\n"
          ],
          "name": "stdout"
        }
      ]
    },
    {
      "metadata": {
        "id": "71jZE6lXsmgW",
        "colab_type": "text"
      },
      "cell_type": "markdown",
      "source": [
        "\n",
        "\n",
        "---\n",
        "\n"
      ]
    },
    {
      "metadata": {
        "id": "T7nOK0TDr6Hc",
        "colab_type": "text"
      },
      "cell_type": "markdown",
      "source": [
        "### 2 tentativa Accuracy: 78.91%"
      ]
    },
    {
      "metadata": {
        "colab_type": "text",
        "id": "-DJtvxKNp9sb"
      },
      "cell_type": "markdown",
      "source": [
        "**Descrição**\n",
        "\n",
        "\n",
        "*   Modelo descrito no artigo \"Crowdsourcing for Chromosome Segmentation and Deep Classification\"\n",
        "*   Alteração nas duas ultimas camadas Dense\n",
        "\n",
        "\n",
        "\n"
      ]
    },
    {
      "metadata": {
        "colab_type": "code",
        "id": "2PSEo_Mzr8zK",
        "colab": {}
      },
      "cell_type": "code",
      "source": [
        "model = Sequential([\n",
        "    Conv2D(64, (3, 3), activation='relu', input_shape=(120, 120, 3)),\n",
        "    Conv2D(64, (3, 3), activation='relu'),\n",
        "    Dropout(0.2),\n",
        "    MaxPooling2D(pool_size=(2, 2)),\n",
        "   \n",
        "    Conv2D(32, (3, 3), activation='relu'),\n",
        "    Conv2D(32, (3, 3), activation='relu'),\n",
        "    Dropout(0.2),\n",
        "    MaxPooling2D(pool_size=(2, 2)),\n",
        "   \n",
        "    Conv2D(16, (3, 3), activation='relu'),\n",
        "    Conv2D(16, (3, 3), activation='relu'),\n",
        "    Dropout(0.2),\n",
        "    MaxPooling2D(pool_size=(2, 2)),\n",
        "   \n",
        "    Conv2D(8, (3, 3), activation='relu'),\n",
        "    Conv2D(8, (3, 3), activation='relu'),\n",
        "    Dropout(0.2),\n",
        "    MaxPooling2D(pool_size=(2, 2)),\n",
        "    \n",
        "    Flatten(),\n",
        "    Dense(512, activation='relu'),\n",
        "   \n",
        "    Dense(2, activation='softmax')\n",
        "]\n",
        ")"
      ],
      "execution_count": 0,
      "outputs": []
    },
    {
      "metadata": {
        "colab_type": "code",
        "id": "wTvCLywPr8zj",
        "colab": {}
      },
      "cell_type": "code",
      "source": [
        "model.compile(SGD(lr=0.01, momentum=0.0, decay=0.0, nesterov=False), \n",
        "              loss='categorical_crossentropy', metrics=['accuracy'])"
      ],
      "execution_count": 0,
      "outputs": []
    },
    {
      "metadata": {
        "id": "NzLTzTmS5qOI",
        "colab_type": "code",
        "colab": {}
      },
      "cell_type": "code",
      "source": [
        "checkpointer = ModelCheckpoint(filepath='weights_architecture_2.hdf5', verbose=1, save_best_only=True)"
      ],
      "execution_count": 0,
      "outputs": []
    },
    {
      "metadata": {
        "colab_type": "code",
        "id": "P5mNUnc52wDQ",
        "colab": {
          "base_uri": "https://localhost:8080/",
          "height": 3690
        },
        "outputId": "7151e053-e38b-49b5-b1a7-754695ae8940"
      },
      "cell_type": "code",
      "source": [
        "training = model.fit_generator(train_batches, steps_per_epoch=stepsPerEpoche, \n",
        "                   validation_data=validation_batches, validation_steps=validationSteps,\n",
        "                   epochs=50, verbose=2, callbacks=[checkpointer])"
      ],
      "execution_count": 21,
      "outputs": [
        {
          "output_type": "stream",
          "text": [
            "Epoch 1/50\n",
            " - 49s - loss: 0.6405 - acc: 0.7406 - val_loss: 0.6119 - val_acc: 0.7917\n",
            "\n",
            "Epoch 00001: val_loss improved from inf to 0.61194, saving model to weights_architecture_2.hdf5\n",
            "Epoch 2/50\n",
            " - 47s - loss: 0.5737 - acc: 0.7375 - val_loss: 0.5460 - val_acc: 0.8438\n",
            "\n",
            "Epoch 00002: val_loss improved from 0.61194 to 0.54595, saving model to weights_architecture_2.hdf5\n",
            "Epoch 3/50\n",
            " - 47s - loss: 0.5285 - acc: 0.7750 - val_loss: 0.5899 - val_acc: 0.7708\n",
            "\n",
            "Epoch 00003: val_loss did not improve from 0.54595\n",
            "Epoch 4/50\n",
            " - 47s - loss: 0.4849 - acc: 0.8094 - val_loss: 0.5844 - val_acc: 0.7292\n",
            "\n",
            "Epoch 00004: val_loss did not improve from 0.54595\n",
            "Epoch 5/50\n",
            " - 47s - loss: 0.5029 - acc: 0.7937 - val_loss: 0.5767 - val_acc: 0.7500\n",
            "\n",
            "Epoch 00005: val_loss did not improve from 0.54595\n",
            "Epoch 6/50\n",
            " - 47s - loss: 0.5299 - acc: 0.7812 - val_loss: 0.5464 - val_acc: 0.7917\n",
            "\n",
            "Epoch 00006: val_loss did not improve from 0.54595\n",
            "Epoch 7/50\n",
            " - 47s - loss: 0.4844 - acc: 0.8063 - val_loss: 0.5674 - val_acc: 0.7604\n",
            "\n",
            "Epoch 00007: val_loss did not improve from 0.54595\n",
            "Epoch 8/50\n",
            " - 47s - loss: 0.5095 - acc: 0.7875 - val_loss: 0.5655 - val_acc: 0.7708\n",
            "\n",
            "Epoch 00008: val_loss did not improve from 0.54595\n",
            "Epoch 9/50\n",
            " - 46s - loss: 0.4853 - acc: 0.8094 - val_loss: 0.5540 - val_acc: 0.8021\n",
            "\n",
            "Epoch 00009: val_loss did not improve from 0.54595\n",
            "Epoch 10/50\n",
            " - 46s - loss: 0.4943 - acc: 0.8000 - val_loss: 0.5216 - val_acc: 0.8021\n",
            "\n",
            "Epoch 00010: val_loss improved from 0.54595 to 0.52155, saving model to weights_architecture_2.hdf5\n",
            "Epoch 11/50\n",
            " - 43s - loss: 0.5129 - acc: 0.7841 - val_loss: 0.5743 - val_acc: 0.7604\n",
            "\n",
            "Epoch 00011: val_loss did not improve from 0.52155\n",
            "Epoch 12/50\n",
            " - 46s - loss: 0.5284 - acc: 0.7781 - val_loss: 0.5706 - val_acc: 0.7708\n",
            "\n",
            "Epoch 00012: val_loss did not improve from 0.52155\n",
            "Epoch 13/50\n",
            " - 46s - loss: 0.4770 - acc: 0.8094 - val_loss: 0.5553 - val_acc: 0.7604\n",
            "\n",
            "Epoch 00013: val_loss did not improve from 0.52155\n",
            "Epoch 14/50\n",
            " - 47s - loss: 0.5144 - acc: 0.7875 - val_loss: 0.5676 - val_acc: 0.7812\n",
            "\n",
            "Epoch 00014: val_loss did not improve from 0.52155\n",
            "Epoch 15/50\n",
            " - 47s - loss: 0.4880 - acc: 0.8000 - val_loss: 0.5605 - val_acc: 0.7708\n",
            "\n",
            "Epoch 00015: val_loss did not improve from 0.52155\n",
            "Epoch 16/50\n",
            " - 47s - loss: 0.4775 - acc: 0.8156 - val_loss: 0.5052 - val_acc: 0.8125\n",
            "\n",
            "Epoch 00016: val_loss improved from 0.52155 to 0.50523, saving model to weights_architecture_2.hdf5\n",
            "Epoch 17/50\n",
            " - 47s - loss: 0.5058 - acc: 0.7937 - val_loss: 0.5257 - val_acc: 0.7917\n",
            "\n",
            "Epoch 00017: val_loss did not improve from 0.50523\n",
            "Epoch 18/50\n",
            " - 46s - loss: 0.5092 - acc: 0.7906 - val_loss: 0.5534 - val_acc: 0.7604\n",
            "\n",
            "Epoch 00018: val_loss did not improve from 0.50523\n",
            "Epoch 19/50\n",
            " - 47s - loss: 0.5428 - acc: 0.7594 - val_loss: 0.5686 - val_acc: 0.8125\n",
            "\n",
            "Epoch 00019: val_loss did not improve from 0.50523\n",
            "Epoch 20/50\n",
            " - 47s - loss: 0.4976 - acc: 0.7969 - val_loss: 0.5556 - val_acc: 0.8021\n",
            "\n",
            "Epoch 00020: val_loss did not improve from 0.50523\n",
            "Epoch 21/50\n",
            " - 46s - loss: 0.5779 - acc: 0.7312 - val_loss: 0.5857 - val_acc: 0.8021\n",
            "\n",
            "Epoch 00021: val_loss did not improve from 0.50523\n",
            "Epoch 22/50\n",
            " - 47s - loss: 0.5022 - acc: 0.7750 - val_loss: 0.5301 - val_acc: 0.7917\n",
            "\n",
            "Epoch 00022: val_loss did not improve from 0.50523\n",
            "Epoch 23/50\n",
            " - 47s - loss: 0.4963 - acc: 0.7937 - val_loss: 0.5201 - val_acc: 0.8333\n",
            "\n",
            "Epoch 00023: val_loss did not improve from 0.50523\n",
            "Epoch 24/50\n",
            " - 46s - loss: 0.5193 - acc: 0.7688 - val_loss: 0.4812 - val_acc: 0.8649\n",
            "\n",
            "Epoch 00024: val_loss improved from 0.50523 to 0.48122, saving model to weights_architecture_2.hdf5\n",
            "Epoch 25/50\n",
            " - 46s - loss: 0.5172 - acc: 0.7875 - val_loss: 0.5791 - val_acc: 0.7500\n",
            "\n",
            "Epoch 00025: val_loss did not improve from 0.48122\n",
            "Epoch 26/50\n",
            " - 46s - loss: 0.5378 - acc: 0.7594 - val_loss: 0.5417 - val_acc: 0.8229\n",
            "\n",
            "Epoch 00026: val_loss did not improve from 0.48122\n",
            "Epoch 27/50\n",
            " - 47s - loss: 0.5286 - acc: 0.7656 - val_loss: 0.5450 - val_acc: 0.7917\n",
            "\n",
            "Epoch 00027: val_loss did not improve from 0.48122\n",
            "Epoch 28/50\n",
            " - 46s - loss: 0.4662 - acc: 0.8125 - val_loss: 0.4989 - val_acc: 0.8333\n",
            "\n",
            "Epoch 00028: val_loss did not improve from 0.48122\n",
            "Epoch 29/50\n",
            " - 46s - loss: 0.5067 - acc: 0.7750 - val_loss: 0.5475 - val_acc: 0.8229\n",
            "\n",
            "Epoch 00029: val_loss did not improve from 0.48122\n",
            "Epoch 30/50\n",
            " - 46s - loss: 0.4985 - acc: 0.8000 - val_loss: 0.5528 - val_acc: 0.7812\n",
            "\n",
            "Epoch 00030: val_loss did not improve from 0.48122\n",
            "Epoch 31/50\n",
            " - 46s - loss: 0.4744 - acc: 0.8125 - val_loss: 0.5568 - val_acc: 0.7708\n",
            "\n",
            "Epoch 00031: val_loss did not improve from 0.48122\n",
            "Epoch 32/50\n",
            " - 46s - loss: 0.4468 - acc: 0.8313 - val_loss: 0.5564 - val_acc: 0.7604\n",
            "\n",
            "Epoch 00032: val_loss did not improve from 0.48122\n",
            "Epoch 33/50\n",
            " - 46s - loss: 0.4926 - acc: 0.7937 - val_loss: 0.5663 - val_acc: 0.7500\n",
            "\n",
            "Epoch 00033: val_loss did not improve from 0.48122\n",
            "Epoch 34/50\n",
            " - 47s - loss: 0.5034 - acc: 0.7844 - val_loss: 0.5826 - val_acc: 0.7083\n",
            "\n",
            "Epoch 00034: val_loss did not improve from 0.48122\n",
            "Epoch 35/50\n",
            " - 46s - loss: 0.5277 - acc: 0.7625 - val_loss: 0.5512 - val_acc: 0.7917\n",
            "\n",
            "Epoch 00035: val_loss did not improve from 0.48122\n",
            "Epoch 36/50\n",
            " - 46s - loss: 0.5046 - acc: 0.7781 - val_loss: 0.5541 - val_acc: 0.7812\n",
            "\n",
            "Epoch 00036: val_loss did not improve from 0.48122\n",
            "Epoch 37/50\n",
            " - 46s - loss: 0.5045 - acc: 0.7906 - val_loss: 0.6007 - val_acc: 0.7083\n",
            "\n",
            "Epoch 00037: val_loss did not improve from 0.48122\n",
            "Epoch 38/50\n",
            " - 46s - loss: 0.5316 - acc: 0.7500 - val_loss: 0.5330 - val_acc: 0.7812\n",
            "\n",
            "Epoch 00038: val_loss did not improve from 0.48122\n",
            "Epoch 39/50\n",
            " - 47s - loss: 0.4956 - acc: 0.7906 - val_loss: 0.5189 - val_acc: 0.8125\n",
            "\n",
            "Epoch 00039: val_loss did not improve from 0.48122\n",
            "Epoch 40/50\n",
            " - 46s - loss: 0.4597 - acc: 0.8344 - val_loss: 0.5178 - val_acc: 0.7812\n",
            "\n",
            "Epoch 00040: val_loss did not improve from 0.48122\n",
            "Epoch 41/50\n",
            " - 43s - loss: 0.5398 - acc: 0.7507 - val_loss: 0.5395 - val_acc: 0.8125\n",
            "\n",
            "Epoch 00041: val_loss did not improve from 0.48122\n",
            "Epoch 42/50\n",
            " - 47s - loss: 0.4790 - acc: 0.8000 - val_loss: 0.5206 - val_acc: 0.8125\n",
            "\n",
            "Epoch 00042: val_loss did not improve from 0.48122\n",
            "Epoch 43/50\n",
            " - 47s - loss: 0.5613 - acc: 0.7469 - val_loss: 0.5536 - val_acc: 0.8021\n",
            "\n",
            "Epoch 00043: val_loss did not improve from 0.48122\n",
            "Epoch 44/50\n",
            " - 47s - loss: 0.4907 - acc: 0.7937 - val_loss: 0.4894 - val_acc: 0.8542\n",
            "\n",
            "Epoch 00044: val_loss did not improve from 0.48122\n",
            "Epoch 45/50\n",
            " - 46s - loss: 0.5430 - acc: 0.7469 - val_loss: 0.5774 - val_acc: 0.7500\n",
            "\n",
            "Epoch 00045: val_loss did not improve from 0.48122\n",
            "Epoch 46/50\n",
            " - 46s - loss: 0.4996 - acc: 0.7688 - val_loss: 0.5256 - val_acc: 0.7917\n",
            "\n",
            "Epoch 00046: val_loss did not improve from 0.48122\n",
            "Epoch 47/50\n",
            " - 47s - loss: 0.4979 - acc: 0.7937 - val_loss: 0.5667 - val_acc: 0.7604\n",
            "\n",
            "Epoch 00047: val_loss did not improve from 0.48122\n",
            "Epoch 48/50\n",
            " - 46s - loss: 0.4762 - acc: 0.8156 - val_loss: 0.5075 - val_acc: 0.8125\n",
            "\n",
            "Epoch 00048: val_loss did not improve from 0.48122\n",
            "Epoch 49/50\n",
            " - 46s - loss: 0.4656 - acc: 0.8063 - val_loss: 0.5126 - val_acc: 0.8108\n",
            "\n",
            "Epoch 00049: val_loss did not improve from 0.48122\n",
            "Epoch 50/50\n",
            " - 47s - loss: 0.4794 - acc: 0.7969 - val_loss: 0.5794 - val_acc: 0.7188\n",
            "\n",
            "Epoch 00050: val_loss did not improve from 0.48122\n"
          ],
          "name": "stdout"
        }
      ]
    },
    {
      "metadata": {
        "colab_type": "code",
        "id": "0ObNfroJ2wDb",
        "colab": {
          "base_uri": "https://localhost:8080/",
          "height": 380
        },
        "outputId": "46506ecb-a50c-4e34-a014-aec317577066"
      },
      "cell_type": "code",
      "source": [
        "# plotar loss e accuracy para os datasets 'train' e 'test'\n",
        "plt.style.use(\"ggplot\")\n",
        "plt.figure()\n",
        "plt.plot(training.history['acc'], label='Accuracy')\n",
        "plt.plot(training.history['loss'], label='Loss')\n",
        "plt.xlabel('Epochs')\n",
        "plt.ylabel('Accuracy')\n",
        "plt.title(\"Training Loss and Accuracy\")\n",
        "plt.ylabel(\"Loss/Accuracy\")\n",
        "plt.legend()\n",
        "plt.savefig('architecture_2.png', bbox_inches='tight')"
      ],
      "execution_count": 22,
      "outputs": [
        {
          "output_type": "display_data",
          "data": {
            "image/png": "[encoded data removed]",
            "text/plain": [
              "<matplotlib.figure.Figure at 0x7f8fcb48e320>"
            ]
          },
          "metadata": {
            "tags": []
          }
        }
      ]
    },
    {
      "metadata": {
        "id": "6ygDnB2C5lfp",
        "colab_type": "code",
        "colab": {}
      },
      "cell_type": "code",
      "source": [
        "model.load_weights('weights_architecture_2.hdf5')"
      ],
      "execution_count": 0,
      "outputs": []
    },
    {
      "metadata": {
        "colab_type": "code",
        "id": "tbMLmk6a2wDk",
        "colab": {
          "base_uri": "https://localhost:8080/",
          "height": 35
        },
        "outputId": "9be221c4-96a8-4f81-f4be-dcbc3326703c"
      },
      "cell_type": "code",
      "source": [
        "results['architecture_2'] = model.evaluate_generator(test_batches, steps=bSize, use_multiprocessing=True, verbose=1)"
      ],
      "execution_count": 24,
      "outputs": [
        {
          "output_type": "stream",
          "text": [
            "32/32 [==============================] - 173s 5s/step\n"
          ],
          "name": "stdout"
        }
      ]
    },
    {
      "metadata": {
        "colab_type": "code",
        "id": "uz6TAaay2wDp",
        "colab": {
          "base_uri": "https://localhost:8080/",
          "height": 35
        },
        "outputId": "c75a71be-98b3-488d-c416-ad2f702cb20c"
      },
      "cell_type": "code",
      "source": [
        "print('Test Loss: {} | Test Accuracy: {:.2f}%'.format(results['architecture_2'][0], 100 * results['architecture_2'][1]))"
      ],
      "execution_count": 25,
      "outputs": [
        {
          "output_type": "stream",
          "text": [
            "Test Loss: 0.54514145758003 | Test Accuracy: 78.91%\n"
          ],
          "name": "stdout"
        }
      ]
    },
    {
      "metadata": {
        "id": "r7RpE8wBe4JQ",
        "colab_type": "text"
      },
      "cell_type": "markdown",
      "source": [
        "### 3 tentativa Accuracy: 87.65%"
      ]
    },
    {
      "metadata": {
        "id": "vdP4Yo8OgB4B",
        "colab_type": "text"
      },
      "cell_type": "markdown",
      "source": [
        "Modelo criado pelo **Lucas Valentim**\n",
        "\n",
        "https://github.com/lucasvalentim/chromosome-recognizer/blob/master/chromosome_recognizer.ipynb"
      ]
    },
    {
      "metadata": {
        "id": "3nTNgnrCe33x",
        "colab_type": "code",
        "colab": {}
      },
      "cell_type": "code",
      "source": [
        "from keras.layers import Conv2D, MaxPooling2D, GlobalMaxPooling2D, BatchNormalization\n",
        "from keras.regularizers import l2\n",
        "\n",
        "model = Sequential()\n",
        "\n",
        "model.add(Conv2D(32, (3, 3), activation='relu', kernel_regularizer=l2(1e-4), \n",
        "                 input_shape=(None, None, 3)))\n",
        "model.add(BatchNormalization())\n",
        "model.add(Conv2D(32, (3, 3), activation='relu', kernel_regularizer=l2(1e-4)))\n",
        "model.add(BatchNormalization())\n",
        "model.add(MaxPooling2D((2, 2)))\n",
        "model.add(Dropout(0.25))\n",
        "\n",
        "model.add(Conv2D(64, (3, 3), activation='relu', kernel_regularizer=l2(1e-4)))\n",
        "model.add(BatchNormalization())\n",
        "model.add(Conv2D(64, (3, 3), activation='relu', kernel_regularizer=l2(1e-4)))\n",
        "model.add(BatchNormalization())\n",
        "model.add(MaxPooling2D((2, 2)))\n",
        "model.add(Dropout(0.25))\n",
        "\n",
        "model.add(Conv2D(128, (1,1), kernel_regularizer=l2(1e-4)))\n",
        "model.add(GlobalMaxPooling2D())\n",
        "\n",
        "model.add(Dense(256, activation='relu', kernel_regularizer=l2(1e-4)))\n",
        "model.add(Dropout(0.5))\n",
        "model.add(Dense(2, activation='sigmoid', kernel_regularizer=l2(1e-4)))"
      ],
      "execution_count": 0,
      "outputs": []
    },
    {
      "metadata": {
        "id": "g1okz4QbiBnE",
        "colab_type": "code",
        "colab": {}
      },
      "cell_type": "code",
      "source": [
        "model.compile(optimizer='adam', loss='binary_crossentropy', metrics=['accuracy'])"
      ],
      "execution_count": 0,
      "outputs": []
    },
    {
      "metadata": {
        "colab_type": "code",
        "id": "ceurpIyA3JmM",
        "colab": {}
      },
      "cell_type": "code",
      "source": [
        "checkpointer = ModelCheckpoint(filepath='weights_architecture_3.hdf5', verbose=1, save_best_only=True)"
      ],
      "execution_count": 0,
      "outputs": []
    },
    {
      "metadata": {
        "colab_type": "code",
        "id": "57QCc4Rz3JmS",
        "colab": {
          "base_uri": "https://localhost:8080/",
          "height": 3690
        },
        "outputId": "50912523-36c9-4ac9-c62a-9fa30908bef8"
      },
      "cell_type": "code",
      "source": [
        "training = model.fit_generator(train_batches, steps_per_epoch=stepsPerEpoche, \n",
        "                   validation_data=validation_batches, validation_steps=validationSteps,\n",
        "                   epochs=50, verbose=2, callbacks=[checkpointer])"
      ],
      "execution_count": 29,
      "outputs": [
        {
          "output_type": "stream",
          "text": [
            "Epoch 1/50\n",
            " - 53s - loss: 1.4885 - acc: 0.6813 - val_loss: 0.4728 - val_acc: 0.8073\n",
            "\n",
            "Epoch 00001: val_loss improved from inf to 0.47283, saving model to weights_architecture_3.hdf5\n",
            "Epoch 2/50\n",
            " - 50s - loss: 1.1590 - acc: 0.7078 - val_loss: 0.6849 - val_acc: 0.7865\n",
            "\n",
            "Epoch 00002: val_loss did not improve from 0.47283\n",
            "Epoch 3/50\n",
            " - 50s - loss: 0.7638 - acc: 0.7406 - val_loss: 0.7942 - val_acc: 0.6042\n",
            "\n",
            "Epoch 00003: val_loss did not improve from 0.47283\n",
            "Epoch 4/50\n",
            " - 50s - loss: 0.6407 - acc: 0.7500 - val_loss: 0.8425 - val_acc: 0.4531\n",
            "\n",
            "Epoch 00004: val_loss did not improve from 0.47283\n",
            "Epoch 5/50\n",
            " - 50s - loss: 0.4458 - acc: 0.7969 - val_loss: 0.4957 - val_acc: 0.7812\n",
            "\n",
            "Epoch 00005: val_loss did not improve from 0.47283\n",
            "Epoch 6/50\n",
            " - 50s - loss: 0.4370 - acc: 0.8172 - val_loss: 0.4277 - val_acc: 0.8125\n",
            "\n",
            "Epoch 00006: val_loss improved from 0.47283 to 0.42774, saving model to weights_architecture_3.hdf5\n",
            "Epoch 7/50\n",
            " - 50s - loss: 0.4053 - acc: 0.8453 - val_loss: 0.4063 - val_acc: 0.8854\n",
            "\n",
            "Epoch 00007: val_loss improved from 0.42774 to 0.40627, saving model to weights_architecture_3.hdf5\n",
            "Epoch 8/50\n",
            " - 50s - loss: 0.3761 - acc: 0.8500 - val_loss: 0.3531 - val_acc: 0.9062\n",
            "\n",
            "Epoch 00008: val_loss improved from 0.40627 to 0.35313, saving model to weights_architecture_3.hdf5\n",
            "Epoch 9/50\n",
            " - 50s - loss: 0.3493 - acc: 0.8484 - val_loss: 0.3899 - val_acc: 0.8906\n",
            "\n",
            "Epoch 00009: val_loss did not improve from 0.35313\n",
            "Epoch 10/50\n",
            " - 50s - loss: 0.4016 - acc: 0.8531 - val_loss: 0.4436 - val_acc: 0.8542\n",
            "\n",
            "Epoch 00010: val_loss did not improve from 0.35313\n",
            "Epoch 11/50\n",
            " - 50s - loss: 0.3410 - acc: 0.8828 - val_loss: 0.3892 - val_acc: 0.8958\n",
            "\n",
            "Epoch 00011: val_loss did not improve from 0.35313\n",
            "Epoch 12/50\n",
            " - 51s - loss: 0.3490 - acc: 0.8344 - val_loss: 0.4394 - val_acc: 0.8385\n",
            "\n",
            "Epoch 00012: val_loss did not improve from 0.35313\n",
            "Epoch 13/50\n",
            " - 50s - loss: 0.3409 - acc: 0.8516 - val_loss: 0.3365 - val_acc: 0.9062\n",
            "\n",
            "Epoch 00013: val_loss improved from 0.35313 to 0.33652, saving model to weights_architecture_3.hdf5\n",
            "Epoch 14/50\n",
            " - 50s - loss: 0.3644 - acc: 0.8594 - val_loss: 0.2798 - val_acc: 0.9271\n",
            "\n",
            "Epoch 00014: val_loss improved from 0.33652 to 0.27983, saving model to weights_architecture_3.hdf5\n",
            "Epoch 15/50\n",
            " - 50s - loss: 0.3950 - acc: 0.8359 - val_loss: 0.4529 - val_acc: 0.7917\n",
            "\n",
            "Epoch 00015: val_loss did not improve from 0.27983\n",
            "Epoch 16/50\n",
            " - 50s - loss: 0.3707 - acc: 0.8438 - val_loss: 0.3204 - val_acc: 0.8802\n",
            "\n",
            "Epoch 00016: val_loss did not improve from 0.27983\n",
            "Epoch 17/50\n",
            " - 50s - loss: 0.3661 - acc: 0.8578 - val_loss: 0.3669 - val_acc: 0.8646\n",
            "\n",
            "Epoch 00017: val_loss did not improve from 0.27983\n",
            "Epoch 18/50\n",
            " - 50s - loss: 0.2941 - acc: 0.8797 - val_loss: 0.5623 - val_acc: 0.7240\n",
            "\n",
            "Epoch 00018: val_loss did not improve from 0.27983\n",
            "Epoch 19/50\n",
            " - 51s - loss: 0.2893 - acc: 0.8938 - val_loss: 0.4520 - val_acc: 0.8438\n",
            "\n",
            "Epoch 00019: val_loss did not improve from 0.27983\n",
            "Epoch 20/50\n",
            " - 50s - loss: 0.3587 - acc: 0.8594 - val_loss: 0.3634 - val_acc: 0.8958\n",
            "\n",
            "Epoch 00020: val_loss did not improve from 0.27983\n",
            "Epoch 21/50\n",
            " - 46s - loss: 0.3802 - acc: 0.8722 - val_loss: 0.3807 - val_acc: 0.9122\n",
            "\n",
            "Epoch 00021: val_loss did not improve from 0.27983\n",
            "Epoch 22/50\n",
            " - 50s - loss: 0.3078 - acc: 0.8953 - val_loss: 0.4361 - val_acc: 0.8594\n",
            "\n",
            "Epoch 00022: val_loss did not improve from 0.27983\n",
            "Epoch 23/50\n",
            " - 50s - loss: 0.3073 - acc: 0.8938 - val_loss: 0.4748 - val_acc: 0.8542\n",
            "\n",
            "Epoch 00023: val_loss did not improve from 0.27983\n",
            "Epoch 24/50\n",
            " - 50s - loss: 0.2812 - acc: 0.8812 - val_loss: 0.3529 - val_acc: 0.8750\n",
            "\n",
            "Epoch 00024: val_loss did not improve from 0.27983\n",
            "Epoch 25/50\n",
            " - 51s - loss: 0.3348 - acc: 0.8797 - val_loss: 0.3422 - val_acc: 0.9010\n",
            "\n",
            "Epoch 00025: val_loss did not improve from 0.27983\n",
            "Epoch 26/50\n",
            " - 50s - loss: 0.3150 - acc: 0.8625 - val_loss: 0.5637 - val_acc: 0.7240\n",
            "\n",
            "Epoch 00026: val_loss did not improve from 0.27983\n",
            "Epoch 27/50\n",
            " - 50s - loss: 0.2893 - acc: 0.8984 - val_loss: 0.3257 - val_acc: 0.9062\n",
            "\n",
            "Epoch 00027: val_loss did not improve from 0.27983\n",
            "Epoch 28/50\n",
            " - 50s - loss: 0.3097 - acc: 0.8922 - val_loss: 0.5494 - val_acc: 0.7708\n",
            "\n",
            "Epoch 00028: val_loss did not improve from 0.27983\n",
            "Epoch 29/50\n",
            " - 50s - loss: 0.3612 - acc: 0.8578 - val_loss: 0.4062 - val_acc: 0.8854\n",
            "\n",
            "Epoch 00029: val_loss did not improve from 0.27983\n",
            "Epoch 30/50\n",
            " - 50s - loss: 0.3209 - acc: 0.8703 - val_loss: 0.4183 - val_acc: 0.8594\n",
            "\n",
            "Epoch 00030: val_loss did not improve from 0.27983\n",
            "Epoch 31/50\n",
            " - 51s - loss: 0.2928 - acc: 0.8844 - val_loss: 0.5186 - val_acc: 0.7448\n",
            "\n",
            "Epoch 00031: val_loss did not improve from 0.27983\n",
            "Epoch 32/50\n",
            " - 50s - loss: 0.3062 - acc: 0.8844 - val_loss: 0.4167 - val_acc: 0.8750\n",
            "\n",
            "Epoch 00032: val_loss did not improve from 0.27983\n",
            "Epoch 33/50\n",
            " - 50s - loss: 0.2916 - acc: 0.9016 - val_loss: 0.4377 - val_acc: 0.8385\n",
            "\n",
            "Epoch 00033: val_loss did not improve from 0.27983\n",
            "Epoch 34/50\n",
            " - 50s - loss: 0.2644 - acc: 0.9047 - val_loss: 0.4433 - val_acc: 0.8594\n",
            "\n",
            "Epoch 00034: val_loss did not improve from 0.27983\n",
            "Epoch 35/50\n",
            " - 50s - loss: 0.3029 - acc: 0.8734 - val_loss: 0.3507 - val_acc: 0.9271\n",
            "\n",
            "Epoch 00035: val_loss did not improve from 0.27983\n",
            "Epoch 36/50\n",
            " - 50s - loss: 0.3493 - acc: 0.8750 - val_loss: 0.4165 - val_acc: 0.8229\n",
            "\n",
            "Epoch 00036: val_loss did not improve from 0.27983\n",
            "Epoch 37/50\n",
            " - 51s - loss: 0.3079 - acc: 0.8797 - val_loss: 0.3975 - val_acc: 0.8854\n",
            "\n",
            "Epoch 00037: val_loss did not improve from 0.27983\n",
            "Epoch 38/50\n",
            " - 51s - loss: 0.3513 - acc: 0.8891 - val_loss: 0.3443 - val_acc: 0.9219\n",
            "\n",
            "Epoch 00038: val_loss did not improve from 0.27983\n",
            "Epoch 39/50\n",
            " - 50s - loss: 0.3181 - acc: 0.8688 - val_loss: 0.4078 - val_acc: 0.9167\n",
            "\n",
            "Epoch 00039: val_loss did not improve from 0.27983\n",
            "Epoch 40/50\n",
            " - 50s - loss: 0.3249 - acc: 0.8766 - val_loss: 0.3642 - val_acc: 0.8906\n",
            "\n",
            "Epoch 00040: val_loss did not improve from 0.27983\n",
            "Epoch 41/50\n",
            " - 50s - loss: 0.2405 - acc: 0.8953 - val_loss: 0.4045 - val_acc: 0.8385\n",
            "\n",
            "Epoch 00041: val_loss did not improve from 0.27983\n",
            "Epoch 42/50\n",
            " - 50s - loss: 0.2952 - acc: 0.8891 - val_loss: 0.3019 - val_acc: 0.9167\n",
            "\n",
            "Epoch 00042: val_loss did not improve from 0.27983\n",
            "Epoch 43/50\n",
            " - 50s - loss: 0.3172 - acc: 0.8891 - val_loss: 0.3420 - val_acc: 0.9115\n",
            "\n",
            "Epoch 00043: val_loss did not improve from 0.27983\n",
            "Epoch 44/50\n",
            " - 50s - loss: 0.2226 - acc: 0.9234 - val_loss: 0.4285 - val_acc: 0.8385\n",
            "\n",
            "Epoch 00044: val_loss did not improve from 0.27983\n",
            "Epoch 45/50\n",
            " - 50s - loss: 0.2810 - acc: 0.8859 - val_loss: 0.3620 - val_acc: 0.8854\n",
            "\n",
            "Epoch 00045: val_loss did not improve from 0.27983\n",
            "Epoch 46/50\n",
            " - 50s - loss: 0.2667 - acc: 0.9234 - val_loss: 0.5301 - val_acc: 0.7760\n",
            "\n",
            "Epoch 00046: val_loss did not improve from 0.27983\n",
            "Epoch 47/50\n",
            " - 49s - loss: 0.4072 - acc: 0.8313 - val_loss: 0.4986 - val_acc: 0.8243\n",
            "\n",
            "Epoch 00047: val_loss did not improve from 0.27983\n",
            "Epoch 48/50\n",
            " - 50s - loss: 0.2695 - acc: 0.8844 - val_loss: 0.4300 - val_acc: 0.8542\n",
            "\n",
            "Epoch 00048: val_loss did not improve from 0.27983\n",
            "Epoch 49/50\n",
            " - 50s - loss: 0.2629 - acc: 0.9062 - val_loss: 0.3483 - val_acc: 0.9167\n",
            "\n",
            "Epoch 00049: val_loss did not improve from 0.27983\n",
            "Epoch 50/50\n",
            " - 50s - loss: 0.2736 - acc: 0.9172 - val_loss: 0.3767 - val_acc: 0.8750\n",
            "\n",
            "Epoch 00050: val_loss did not improve from 0.27983\n"
          ],
          "name": "stdout"
        }
      ]
    },
    {
      "metadata": {
        "colab_type": "code",
        "id": "RXVTmOSb3Jmc",
        "colab": {
          "base_uri": "https://localhost:8080/",
          "height": 380
        },
        "outputId": "d6e80d32-9d5a-4da6-bc03-ab5df725f073"
      },
      "cell_type": "code",
      "source": [
        "# plotar loss e accuracy para os datasets 'train' e 'test'\n",
        "plt.style.use(\"ggplot\")\n",
        "plt.figure()\n",
        "plt.plot(training.history['acc'], label='Accuracy')\n",
        "plt.plot(training.history['loss'], label='Loss')\n",
        "plt.xlabel('Epochs')\n",
        "plt.ylabel('Accuracy')\n",
        "plt.title(\"Training Loss and Accuracy\")\n",
        "plt.ylabel(\"Loss/Accuracy\")\n",
        "plt.legend()\n",
        "plt.savefig('architecture_3.png', bbox_inches='tight')"
      ],
      "execution_count": 30,
      "outputs": [
        {
          "output_type": "display_data",
          "data": {
            "image/png": "[encoded data removed]",
            "text/plain": [
              "<matplotlib.figure.Figure at 0x7f8fca50e588>"
            ]
          },
          "metadata": {
            "tags": []
          }
        }
      ]
    },
    {
      "metadata": {
        "id": "beMjDQ5a42rk",
        "colab_type": "code",
        "colab": {}
      },
      "cell_type": "code",
      "source": [
        "model.load_weights('weights_architecture_3.hdf5')"
      ],
      "execution_count": 0,
      "outputs": []
    },
    {
      "metadata": {
        "colab_type": "code",
        "id": "NO1wFDaN3Jmn",
        "colab": {
          "base_uri": "https://localhost:8080/",
          "height": 35
        },
        "outputId": "cdce7f1c-1600-4a9d-c6b5-88cd50ef5adc"
      },
      "cell_type": "code",
      "source": [
        "results['architecture_3'] = model.evaluate_generator(test_batches, steps=bSize, use_multiprocessing=True, verbose=1)"
      ],
      "execution_count": 32,
      "outputs": [
        {
          "output_type": "stream",
          "text": [
            "32/32 [==============================] - 101s 3s/step\n"
          ],
          "name": "stdout"
        }
      ]
    },
    {
      "metadata": {
        "colab_type": "code",
        "id": "-h1AqUQL3Jmz",
        "colab": {
          "base_uri": "https://localhost:8080/",
          "height": 35
        },
        "outputId": "8f608115-43ab-41c7-b2ea-46f0c24201a3"
      },
      "cell_type": "code",
      "source": [
        "print('Test Loss: {} | Test Accuracy: {:.2f}%'.format(results['architecture_3'][0], 100 * results['architecture_3'][1]))"
      ],
      "execution_count": 33,
      "outputs": [
        {
          "output_type": "stream",
          "text": [
            "Test Loss: 0.3577259765006602 | Test Accuracy: 87.65%\n"
          ],
          "name": "stdout"
        }
      ]
    },
    {
      "metadata": {
        "id": "jkrlEFjlw030",
        "colab_type": "text"
      },
      "cell_type": "markdown",
      "source": [
        "### 4 tentativa Accuracy: 90.72%"
      ]
    },
    {
      "metadata": {
        "id": "UJ7JELAiw2kb",
        "colab_type": "text"
      },
      "cell_type": "markdown",
      "source": [
        "Modelo adaptado do **Lucas Albertins**\n",
        "\n",
        "*   Sem os **dropout**\n"
      ]
    },
    {
      "metadata": {
        "colab_type": "code",
        "id": "4N0B_5a2xB3T",
        "colab": {}
      },
      "cell_type": "code",
      "source": [
        "from keras.layers import Conv2D, MaxPooling2D, GlobalMaxPooling2D, BatchNormalization\n",
        "from keras.regularizers import l2\n",
        "\n",
        "model = Sequential()\n",
        "\n",
        "model.add(Conv2D(32, (3, 3), activation='relu', kernel_regularizer=l2(1e-4), \n",
        "                 input_shape=(None, None, 3)))\n",
        "model.add(BatchNormalization())\n",
        "model.add(Conv2D(32, (3, 3), activation='relu', kernel_regularizer=l2(1e-4)))\n",
        "model.add(BatchNormalization())\n",
        "model.add(MaxPooling2D((2, 2)))\n",
        "\n",
        "model.add(Conv2D(64, (3, 3), activation='relu', kernel_regularizer=l2(1e-4)))\n",
        "model.add(BatchNormalization())\n",
        "model.add(Conv2D(64, (3, 3), activation='relu', kernel_regularizer=l2(1e-4)))\n",
        "model.add(BatchNormalization())\n",
        "model.add(MaxPooling2D((2, 2)))\n",
        "\n",
        "model.add(Conv2D(128, (1,1), kernel_regularizer=l2(1e-4)))\n",
        "model.add(GlobalMaxPooling2D())\n",
        "\n",
        "model.add(Dense(256, activation='relu', kernel_regularizer=l2(1e-4)))\n",
        "model.add(BatchNormalization())\n",
        "model.add(Dense(2, activation='sigmoid', kernel_regularizer=l2(1e-4)))"
      ],
      "execution_count": 0,
      "outputs": []
    },
    {
      "metadata": {
        "colab_type": "code",
        "id": "V9VHjygmxB3k",
        "colab": {}
      },
      "cell_type": "code",
      "source": [
        "model.compile(optimizer='adam', loss='binary_crossentropy', metrics=['accuracy'])"
      ],
      "execution_count": 0,
      "outputs": []
    },
    {
      "metadata": {
        "colab_type": "code",
        "id": "B4b-aFhp4RmP",
        "colab": {}
      },
      "cell_type": "code",
      "source": [
        "checkpointer = ModelCheckpoint(filepath='weights_architecture_4.hdf5', verbose=1, save_best_only=True)"
      ],
      "execution_count": 0,
      "outputs": []
    },
    {
      "metadata": {
        "colab_type": "code",
        "id": "gE1pEJNR4RmV",
        "colab": {
          "base_uri": "https://localhost:8080/",
          "height": 3690
        },
        "outputId": "ecba9c85-7243-4f6e-ce99-c36d972372c4"
      },
      "cell_type": "code",
      "source": [
        "training = model.fit_generator(train_batches, steps_per_epoch=stepsPerEpoche, \n",
        "                   validation_data=validation_batches, validation_steps=validationSteps,\n",
        "                   epochs=50, verbose=2, callbacks=[checkpointer])"
      ],
      "execution_count": 12,
      "outputs": [
        {
          "output_type": "stream",
          "text": [
            "Epoch 1/50\n",
            " - 120s - loss: 0.5782 - acc: 0.7516 - val_loss: 1.1438 - val_acc: 0.5521\n",
            "\n",
            "Epoch 00001: val_loss improved from inf to 1.14383, saving model to weights_architecture_4.hdf5\n",
            "Epoch 2/50\n",
            " - 114s - loss: 0.5156 - acc: 0.8422 - val_loss: 1.8804 - val_acc: 0.3281\n",
            "\n",
            "Epoch 00002: val_loss did not improve from 1.14383\n",
            "Epoch 3/50\n",
            " - 129s - loss: 0.4774 - acc: 0.8797 - val_loss: 1.5854 - val_acc: 0.5677\n",
            "\n",
            "Epoch 00003: val_loss did not improve from 1.14383\n",
            "Epoch 4/50\n",
            " - 113s - loss: 0.4428 - acc: 0.8797 - val_loss: 0.6552 - val_acc: 0.8281\n",
            "\n",
            "Epoch 00004: val_loss improved from 1.14383 to 0.65517, saving model to weights_architecture_4.hdf5\n",
            "Epoch 5/50\n",
            " - 117s - loss: 0.3973 - acc: 0.9062 - val_loss: 0.3983 - val_acc: 0.8594\n",
            "\n",
            "Epoch 00005: val_loss improved from 0.65517 to 0.39835, saving model to weights_architecture_4.hdf5\n",
            "Epoch 6/50\n",
            " - 116s - loss: 0.3903 - acc: 0.8781 - val_loss: 0.4637 - val_acc: 0.8021\n",
            "\n",
            "Epoch 00006: val_loss did not improve from 0.39835\n",
            "Epoch 7/50\n",
            " - 114s - loss: 0.3528 - acc: 0.9141 - val_loss: 0.5761 - val_acc: 0.7656\n",
            "\n",
            "Epoch 00007: val_loss did not improve from 0.39835\n",
            "Epoch 8/50\n",
            " - 111s - loss: 0.3350 - acc: 0.9281 - val_loss: 0.3146 - val_acc: 0.8698\n",
            "\n",
            "Epoch 00008: val_loss improved from 0.39835 to 0.31455, saving model to weights_architecture_4.hdf5\n",
            "Epoch 9/50\n",
            " - 115s - loss: 0.3499 - acc: 0.9016 - val_loss: 0.4640 - val_acc: 0.8073\n",
            "\n",
            "Epoch 00009: val_loss did not improve from 0.31455\n",
            "Epoch 10/50\n",
            " - 109s - loss: 0.2640 - acc: 0.9328 - val_loss: 0.1994 - val_acc: 0.9427\n",
            "\n",
            "Epoch 00010: val_loss improved from 0.31455 to 0.19944, saving model to weights_architecture_4.hdf5\n",
            "Epoch 11/50\n",
            " - 110s - loss: 0.3501 - acc: 0.8766 - val_loss: 0.4329 - val_acc: 0.7708\n",
            "\n",
            "Epoch 00011: val_loss did not improve from 0.19944\n",
            "Epoch 12/50\n",
            " - 113s - loss: 0.2419 - acc: 0.9391 - val_loss: 0.5884 - val_acc: 0.7760\n",
            "\n",
            "Epoch 00012: val_loss did not improve from 0.19944\n",
            "Epoch 13/50\n",
            " - 108s - loss: 0.2686 - acc: 0.9047 - val_loss: 0.2987 - val_acc: 0.8958\n",
            "\n",
            "Epoch 00013: val_loss did not improve from 0.19944\n",
            "Epoch 14/50\n",
            " - 111s - loss: 0.3042 - acc: 0.8953 - val_loss: 1.0134 - val_acc: 0.7604\n",
            "\n",
            "Epoch 00014: val_loss did not improve from 0.19944\n",
            "Epoch 15/50\n",
            " - 111s - loss: 0.2346 - acc: 0.9469 - val_loss: 0.4533 - val_acc: 0.8281\n",
            "\n",
            "Epoch 00015: val_loss did not improve from 0.19944\n",
            "Epoch 16/50\n",
            " - 110s - loss: 0.2532 - acc: 0.9203 - val_loss: 0.5498 - val_acc: 0.7812\n",
            "\n",
            "Epoch 00016: val_loss did not improve from 0.19944\n",
            "Epoch 17/50\n",
            " - 113s - loss: 0.2611 - acc: 0.9172 - val_loss: 0.5172 - val_acc: 0.8021\n",
            "\n",
            "Epoch 00017: val_loss did not improve from 0.19944\n",
            "Epoch 18/50\n",
            " - 110s - loss: 0.2873 - acc: 0.9047 - val_loss: 0.4972 - val_acc: 0.7760\n",
            "\n",
            "Epoch 00018: val_loss did not improve from 0.19944\n",
            "Epoch 19/50\n",
            " - 114s - loss: 0.2377 - acc: 0.9219 - val_loss: 0.3158 - val_acc: 0.9427\n",
            "\n",
            "Epoch 00019: val_loss did not improve from 0.19944\n",
            "Epoch 20/50\n",
            " - 113s - loss: 0.2422 - acc: 0.9234 - val_loss: 0.5858 - val_acc: 0.8125\n",
            "\n",
            "Epoch 00020: val_loss did not improve from 0.19944\n",
            "Epoch 21/50\n",
            " - 109s - loss: 0.2617 - acc: 0.9062 - val_loss: 1.4060 - val_acc: 0.5833\n",
            "\n",
            "Epoch 00021: val_loss did not improve from 0.19944\n",
            "Epoch 22/50\n",
            " - 122s - loss: 0.2790 - acc: 0.9172 - val_loss: 1.0289 - val_acc: 0.6250\n",
            "\n",
            "Epoch 00022: val_loss did not improve from 0.19944\n",
            "Epoch 23/50\n",
            " - 120s - loss: 0.2706 - acc: 0.9125 - val_loss: 0.2832 - val_acc: 0.8802\n",
            "\n",
            "Epoch 00023: val_loss did not improve from 0.19944\n",
            "Epoch 24/50\n",
            " - 121s - loss: 0.2297 - acc: 0.9328 - val_loss: 0.9978 - val_acc: 0.7344\n",
            "\n",
            "Epoch 00024: val_loss did not improve from 0.19944\n",
            "Epoch 25/50\n",
            " - 116s - loss: 0.2357 - acc: 0.9234 - val_loss: 0.2525 - val_acc: 0.9167\n",
            "\n",
            "Epoch 00025: val_loss did not improve from 0.19944\n",
            "Epoch 26/50\n",
            " - 113s - loss: 0.2312 - acc: 0.9187 - val_loss: 0.3363 - val_acc: 0.8784\n",
            "\n",
            "Epoch 00026: val_loss did not improve from 0.19944\n",
            "Epoch 27/50\n",
            " - 123s - loss: 0.2640 - acc: 0.9047 - val_loss: 0.3176 - val_acc: 0.9167\n",
            "\n",
            "Epoch 00027: val_loss did not improve from 0.19944\n",
            "Epoch 28/50\n",
            " - 112s - loss: 0.2667 - acc: 0.9203 - val_loss: 0.2899 - val_acc: 0.8802\n",
            "\n",
            "Epoch 00028: val_loss did not improve from 0.19944\n",
            "Epoch 29/50\n",
            " - 104s - loss: 0.2363 - acc: 0.9266 - val_loss: 0.9829 - val_acc: 0.6042\n",
            "\n",
            "Epoch 00029: val_loss did not improve from 0.19944\n",
            "Epoch 30/50\n",
            " - 111s - loss: 0.2676 - acc: 0.9047 - val_loss: 0.2882 - val_acc: 0.9010\n",
            "\n",
            "Epoch 00030: val_loss did not improve from 0.19944\n",
            "Epoch 31/50\n",
            " - 64s - loss: 0.2476 - acc: 0.9178 - val_loss: 0.3533 - val_acc: 0.9219\n",
            "\n",
            "Epoch 00031: val_loss did not improve from 0.19944\n",
            "Epoch 32/50\n",
            " - 1s - loss: 0.2276 - acc: 0.9250 - val_loss: 0.5251 - val_acc: 0.8229\n",
            "\n",
            "Epoch 00032: val_loss did not improve from 0.19944\n",
            "Epoch 33/50\n",
            " - 1s - loss: 0.2532 - acc: 0.9187 - val_loss: 0.6017 - val_acc: 0.8750\n",
            "\n",
            "Epoch 00033: val_loss did not improve from 0.19944\n",
            "Epoch 34/50\n",
            " - 1s - loss: 0.3094 - acc: 0.9172 - val_loss: 0.2663 - val_acc: 0.9115\n",
            "\n",
            "Epoch 00034: val_loss did not improve from 0.19944\n",
            "Epoch 35/50\n",
            " - 1s - loss: 0.2605 - acc: 0.9203 - val_loss: 0.2018 - val_acc: 0.9375\n",
            "\n",
            "Epoch 00035: val_loss did not improve from 0.19944\n",
            "Epoch 36/50\n",
            " - 1s - loss: 0.2611 - acc: 0.9109 - val_loss: 0.3574 - val_acc: 0.8646\n",
            "\n",
            "Epoch 00036: val_loss did not improve from 0.19944\n",
            "Epoch 37/50\n",
            " - 1s - loss: 0.2247 - acc: 0.9266 - val_loss: 0.4992 - val_acc: 0.8385\n",
            "\n",
            "Epoch 00037: val_loss did not improve from 0.19944\n",
            "Epoch 38/50\n",
            " - 1s - loss: 0.2408 - acc: 0.9328 - val_loss: 0.6964 - val_acc: 0.7812\n",
            "\n",
            "Epoch 00038: val_loss did not improve from 0.19944\n",
            "Epoch 39/50\n",
            " - 1s - loss: 0.2607 - acc: 0.9203 - val_loss: 0.2826 - val_acc: 0.8958\n",
            "\n",
            "Epoch 00039: val_loss did not improve from 0.19944\n",
            "Epoch 40/50\n",
            " - 1s - loss: 0.1913 - acc: 0.9531 - val_loss: 0.2522 - val_acc: 0.9375\n",
            "\n",
            "Epoch 00040: val_loss did not improve from 0.19944\n",
            "Epoch 41/50\n",
            " - 1s - loss: 0.2733 - acc: 0.9125 - val_loss: 0.1454 - val_acc: 0.9688\n",
            "\n",
            "Epoch 00041: val_loss improved from 0.19944 to 0.14543, saving model to weights_architecture_4.hdf5\n",
            "Epoch 42/50\n",
            " - 1s - loss: 0.2014 - acc: 0.9391 - val_loss: 0.3366 - val_acc: 0.8125\n",
            "\n",
            "Epoch 00042: val_loss did not improve from 0.14543\n",
            "Epoch 43/50\n",
            " - 1s - loss: 0.2594 - acc: 0.9031 - val_loss: 0.4018 - val_acc: 0.8854\n",
            "\n",
            "Epoch 00043: val_loss did not improve from 0.14543\n",
            "Epoch 44/50\n",
            " - 1s - loss: 0.2729 - acc: 0.9062 - val_loss: 0.3857 - val_acc: 0.9115\n",
            "\n",
            "Epoch 00044: val_loss did not improve from 0.14543\n",
            "Epoch 45/50\n",
            " - 1s - loss: 0.2822 - acc: 0.8953 - val_loss: 0.2958 - val_acc: 0.8854\n",
            "\n",
            "Epoch 00045: val_loss did not improve from 0.14543\n",
            "Epoch 46/50\n",
            " - 1s - loss: 0.2386 - acc: 0.9172 - val_loss: 0.2537 - val_acc: 0.9219\n",
            "\n",
            "Epoch 00046: val_loss did not improve from 0.14543\n",
            "Epoch 47/50\n",
            " - 1s - loss: 0.2059 - acc: 0.9563 - val_loss: 0.4321 - val_acc: 0.8542\n",
            "\n",
            "Epoch 00047: val_loss did not improve from 0.14543\n",
            "Epoch 48/50\n",
            " - 1s - loss: 0.2143 - acc: 0.9406 - val_loss: 0.3373 - val_acc: 0.8646\n",
            "\n",
            "Epoch 00048: val_loss did not improve from 0.14543\n",
            "Epoch 49/50\n",
            " - 1s - loss: 0.2381 - acc: 0.9203 - val_loss: 0.1807 - val_acc: 0.9479\n",
            "\n",
            "Epoch 00049: val_loss did not improve from 0.14543\n",
            "Epoch 50/50\n",
            " - 1s - loss: 0.2524 - acc: 0.9078 - val_loss: 0.3161 - val_acc: 0.9062\n",
            "\n",
            "Epoch 00050: val_loss did not improve from 0.14543\n"
          ],
          "name": "stdout"
        }
      ]
    },
    {
      "metadata": {
        "colab_type": "code",
        "outputId": "39acdcfe-50a1-4b0b-c30e-6577b3d615ba",
        "id": "lFpl5k8o4Rme",
        "colab": {
          "base_uri": "https://localhost:8080/",
          "height": 380
        }
      },
      "cell_type": "code",
      "source": [
        "# plotar loss e accuracy para os datasets 'train' e 'test'\n",
        "plt.style.use(\"ggplot\")\n",
        "plt.figure()\n",
        "plt.plot(training.history['acc'], label='Accuracy')\n",
        "plt.plot(training.history['loss'], label='Loss')\n",
        "plt.xlabel('Epochs')\n",
        "plt.ylabel('Accuracy')\n",
        "plt.title(\"Training Loss and Accuracy\")\n",
        "plt.ylabel(\"Loss/Accuracy\")\n",
        "plt.legend()\n",
        "plt.savefig('architecture_4.png', bbox_inches='tight')"
      ],
      "execution_count": 13,
      "outputs": [
        {
          "output_type": "display_data",
          "data": {
            "image/png": "[encoded data removed]",
            "text/plain": [
              "<matplotlib.figure.Figure at 0x7f0fb4a49da0>"
            ]
          },
          "metadata": {
            "tags": []
          }
        }
      ]
    },
    {
      "metadata": {
        "id": "MhD8Yac15Xio",
        "colab_type": "code",
        "colab": {}
      },
      "cell_type": "code",
      "source": [
        "model.load_weights('weights_architecture_4.hdf5')"
      ],
      "execution_count": 0,
      "outputs": []
    },
    {
      "metadata": {
        "colab_type": "code",
        "id": "ntC2DQb84Rm2",
        "colab": {
          "base_uri": "https://localhost:8080/",
          "height": 35
        },
        "outputId": "cabc3a68-2522-45fb-b7d0-78a13450ad44"
      },
      "cell_type": "code",
      "source": [
        "results['architecture_4'] = model.evaluate_generator(test_batches, steps=bSize, use_multiprocessing=True, verbose=1)"
      ],
      "execution_count": 15,
      "outputs": [
        {
          "output_type": "stream",
          "text": [
            "32/32 [==============================] - 349s 11s/step\n"
          ],
          "name": "stdout"
        }
      ]
    },
    {
      "metadata": {
        "colab_type": "code",
        "id": "AFSvmeU84Rm9",
        "colab": {
          "base_uri": "https://localhost:8080/",
          "height": 35
        },
        "outputId": "383d56ad-9564-4f33-92eb-a95b61d91f45"
      },
      "cell_type": "code",
      "source": [
        "print('Test Loss: {} | Test Accuracy: {:.2f}%'.format(results['architecture_4'][0], 100 * results['architecture_4'][1]))"
      ],
      "execution_count": 16,
      "outputs": [
        {
          "output_type": "stream",
          "text": [
            "Test Loss: 0.28135155187919736 | Test Accuracy: 90.72%\n"
          ],
          "name": "stdout"
        }
      ]
    },
    {
      "metadata": {
        "id": "lX3WANMgB1Ew",
        "colab_type": "text"
      },
      "cell_type": "markdown",
      "source": [
        "### 5 tentativa Accuracy: 90.23%"
      ]
    },
    {
      "metadata": {
        "colab_type": "text",
        "id": "dqed1VQh6WXg"
      },
      "cell_type": "markdown",
      "source": [
        "Modelo adaptado do **Lucas Albertins**\n",
        "\n",
        "*   Sem os **dropout**\n",
        "*   Função **SGD** para compilação\n"
      ]
    },
    {
      "metadata": {
        "colab_type": "code",
        "id": "z9mlUa4mB-ER",
        "colab": {}
      },
      "cell_type": "code",
      "source": [
        "from keras.layers import Conv2D, MaxPooling2D, GlobalMaxPooling2D, BatchNormalization\n",
        "from keras.regularizers import l2\n",
        "\n",
        "model = Sequential()\n",
        "\n",
        "model.add(Conv2D(32, (3, 3), activation='relu', kernel_regularizer=l2(1e-4), \n",
        "                 input_shape=(None, None, 3)))\n",
        "model.add(BatchNormalization())\n",
        "model.add(Conv2D(32, (3, 3), activation='relu', kernel_regularizer=l2(1e-4)))\n",
        "model.add(BatchNormalization())\n",
        "model.add(MaxPooling2D((2, 2)))\n",
        "model.add(Dropout(0.25))\n",
        "\n",
        "model.add(Conv2D(64, (3, 3), activation='relu', kernel_regularizer=l2(1e-4)))\n",
        "model.add(BatchNormalization())\n",
        "model.add(Conv2D(64, (3, 3), activation='relu', kernel_regularizer=l2(1e-4)))\n",
        "model.add(BatchNormalization())\n",
        "model.add(MaxPooling2D((2, 2)))\n",
        "model.add(Dropout(0.25))\n",
        "\n",
        "model.add(Conv2D(128, (1,1), kernel_regularizer=l2(1e-4)))\n",
        "model.add(GlobalMaxPooling2D())\n",
        "\n",
        "model.add(Dense(256, activation='relu', kernel_regularizer=l2(1e-4)))\n",
        "model.add(Dropout(0.5))\n",
        "model.add(Dense(2, activation='sigmoid', kernel_regularizer=l2(1e-4)))"
      ],
      "execution_count": 0,
      "outputs": []
    },
    {
      "metadata": {
        "id": "ukvJwM-lCHtB",
        "colab_type": "code",
        "colab": {}
      },
      "cell_type": "code",
      "source": [
        "model.compile(SGD(lr=0.01, momentum=0.0, decay=0.0, nesterov=False), \n",
        "              loss='binary_crossentropy', metrics=['accuracy'])"
      ],
      "execution_count": 0,
      "outputs": []
    },
    {
      "metadata": {
        "colab_type": "code",
        "id": "BuvCUFsS4gfl",
        "colab": {}
      },
      "cell_type": "code",
      "source": [
        "checkpointer = ModelCheckpoint(filepath='weights_architecture_5.hdf5', verbose=1, save_best_only=True)"
      ],
      "execution_count": 0,
      "outputs": []
    },
    {
      "metadata": {
        "colab_type": "code",
        "id": "06GSgiIj4gfo",
        "colab": {
          "base_uri": "https://localhost:8080/",
          "height": 3690
        },
        "outputId": "89cf5ba8-e08f-4dde-92ff-e107c1127d4e"
      },
      "cell_type": "code",
      "source": [
        "training = model.fit_generator(train_batches, steps_per_epoch=stepsPerEpoche, \n",
        "                   validation_data=validation_batches, validation_steps=validationSteps,\n",
        "                   epochs=50, verbose=2, callbacks=[checkpointer])"
      ],
      "execution_count": 20,
      "outputs": [
        {
          "output_type": "stream",
          "text": [
            "Epoch 1/50\n",
            " - 3s - loss: 1.8421 - acc: 0.6531 - val_loss: 0.8560 - val_acc: 0.6615\n",
            "\n",
            "Epoch 00001: val_loss improved from inf to 0.85596, saving model to weights_architecture_5.hdf5\n",
            "Epoch 2/50\n",
            " - 1s - loss: 1.2014 - acc: 0.6828 - val_loss: 0.7799 - val_acc: 0.5990\n",
            "\n",
            "Epoch 00002: val_loss improved from 0.85596 to 0.77991, saving model to weights_architecture_5.hdf5\n",
            "Epoch 3/50\n",
            " - 1s - loss: 0.7652 - acc: 0.7203 - val_loss: 0.5808 - val_acc: 0.6615\n",
            "\n",
            "Epoch 00003: val_loss improved from 0.77991 to 0.58079, saving model to weights_architecture_5.hdf5\n",
            "Epoch 4/50\n",
            " - 1s - loss: 0.6858 - acc: 0.7328 - val_loss: 0.5996 - val_acc: 0.7135\n",
            "\n",
            "Epoch 00004: val_loss did not improve from 0.58079\n",
            "Epoch 5/50\n",
            " - 1s - loss: 0.5717 - acc: 0.7922 - val_loss: 0.5869 - val_acc: 0.7865\n",
            "\n",
            "Epoch 00005: val_loss did not improve from 0.58079\n",
            "Epoch 6/50\n",
            " - 1s - loss: 0.5214 - acc: 0.7859 - val_loss: 0.9213 - val_acc: 0.4583\n",
            "\n",
            "Epoch 00006: val_loss did not improve from 0.58079\n",
            "Epoch 7/50\n",
            " - 1s - loss: 0.5637 - acc: 0.7688 - val_loss: 0.6088 - val_acc: 0.7500\n",
            "\n",
            "Epoch 00007: val_loss did not improve from 0.58079\n",
            "Epoch 8/50\n",
            " - 1s - loss: 0.4407 - acc: 0.8219 - val_loss: 0.4677 - val_acc: 0.8333\n",
            "\n",
            "Epoch 00008: val_loss improved from 0.58079 to 0.46768, saving model to weights_architecture_5.hdf5\n",
            "Epoch 9/50\n",
            " - 1s - loss: 0.4310 - acc: 0.8156 - val_loss: 0.5057 - val_acc: 0.8594\n",
            "\n",
            "Epoch 00009: val_loss did not improve from 0.46768\n",
            "Epoch 10/50\n",
            " - 1s - loss: 0.4111 - acc: 0.8172 - val_loss: 0.4980 - val_acc: 0.7760\n",
            "\n",
            "Epoch 00010: val_loss did not improve from 0.46768\n",
            "Epoch 11/50\n",
            " - 1s - loss: 0.3546 - acc: 0.8637 - val_loss: 0.4237 - val_acc: 0.8333\n",
            "\n",
            "Epoch 00011: val_loss improved from 0.46768 to 0.42365, saving model to weights_architecture_5.hdf5\n",
            "Epoch 12/50\n",
            " - 1s - loss: 0.4219 - acc: 0.8187 - val_loss: 0.5422 - val_acc: 0.7969\n",
            "\n",
            "Epoch 00012: val_loss did not improve from 0.42365\n",
            "Epoch 13/50\n",
            " - 1s - loss: 0.3920 - acc: 0.8531 - val_loss: 0.4539 - val_acc: 0.8490\n",
            "\n",
            "Epoch 00013: val_loss did not improve from 0.42365\n",
            "Epoch 14/50\n",
            " - 1s - loss: 0.3894 - acc: 0.8297 - val_loss: 0.5296 - val_acc: 0.8021\n",
            "\n",
            "Epoch 00014: val_loss did not improve from 0.42365\n",
            "Epoch 15/50\n",
            " - 1s - loss: 0.3466 - acc: 0.8625 - val_loss: 0.4521 - val_acc: 0.8750\n",
            "\n",
            "Epoch 00015: val_loss did not improve from 0.42365\n",
            "Epoch 16/50\n",
            " - 1s - loss: 0.4350 - acc: 0.8203 - val_loss: 0.6208 - val_acc: 0.7240\n",
            "\n",
            "Epoch 00016: val_loss did not improve from 0.42365\n",
            "Epoch 17/50\n",
            " - 1s - loss: 0.4341 - acc: 0.8094 - val_loss: 0.4539 - val_acc: 0.8750\n",
            "\n",
            "Epoch 00017: val_loss did not improve from 0.42365\n",
            "Epoch 18/50\n",
            " - 1s - loss: 0.3460 - acc: 0.8672 - val_loss: 0.4115 - val_acc: 0.9062\n",
            "\n",
            "Epoch 00018: val_loss improved from 0.42365 to 0.41153, saving model to weights_architecture_5.hdf5\n",
            "Epoch 19/50\n",
            " - 1s - loss: 0.3727 - acc: 0.8391 - val_loss: 0.4229 - val_acc: 0.8750\n",
            "\n",
            "Epoch 00019: val_loss did not improve from 0.41153\n",
            "Epoch 20/50\n",
            " - 1s - loss: 0.3445 - acc: 0.8578 - val_loss: 0.7511 - val_acc: 0.6354\n",
            "\n",
            "Epoch 00020: val_loss did not improve from 0.41153\n",
            "Epoch 21/50\n",
            " - 1s - loss: 0.3930 - acc: 0.8438 - val_loss: 0.4570 - val_acc: 0.9062\n",
            "\n",
            "Epoch 00021: val_loss did not improve from 0.41153\n",
            "Epoch 22/50\n",
            " - 1s - loss: 0.3393 - acc: 0.8766 - val_loss: 0.3471 - val_acc: 0.9479\n",
            "\n",
            "Epoch 00022: val_loss improved from 0.41153 to 0.34712, saving model to weights_architecture_5.hdf5\n",
            "Epoch 23/50\n",
            " - 1s - loss: 0.3095 - acc: 0.8828 - val_loss: 0.4435 - val_acc: 0.8854\n",
            "\n",
            "Epoch 00023: val_loss did not improve from 0.34712\n",
            "Epoch 24/50\n",
            " - 1s - loss: 0.3015 - acc: 0.8797 - val_loss: 0.4086 - val_acc: 0.9122\n",
            "\n",
            "Epoch 00024: val_loss did not improve from 0.34712\n",
            "Epoch 25/50\n",
            " - 1s - loss: 0.3504 - acc: 0.8656 - val_loss: 0.4421 - val_acc: 0.8698\n",
            "\n",
            "Epoch 00025: val_loss did not improve from 0.34712\n",
            "Epoch 26/50\n",
            " - 1s - loss: 0.3272 - acc: 0.8719 - val_loss: 0.5049 - val_acc: 0.8073\n",
            "\n",
            "Epoch 00026: val_loss did not improve from 0.34712\n",
            "Epoch 27/50\n",
            " - 1s - loss: 0.3440 - acc: 0.8547 - val_loss: 0.5053 - val_acc: 0.8698\n",
            "\n",
            "Epoch 00027: val_loss did not improve from 0.34712\n",
            "Epoch 28/50\n",
            " - 1s - loss: 0.3444 - acc: 0.8453 - val_loss: 0.4300 - val_acc: 0.8854\n",
            "\n",
            "Epoch 00028: val_loss did not improve from 0.34712\n",
            "Epoch 29/50\n",
            " - 1s - loss: 0.4182 - acc: 0.8219 - val_loss: 0.5169 - val_acc: 0.8385\n",
            "\n",
            "Epoch 00029: val_loss did not improve from 0.34712\n",
            "Epoch 30/50\n",
            " - 1s - loss: 0.3029 - acc: 0.8797 - val_loss: 0.5021 - val_acc: 0.7969\n",
            "\n",
            "Epoch 00030: val_loss did not improve from 0.34712\n",
            "Epoch 31/50\n",
            " - 1s - loss: 0.3869 - acc: 0.8344 - val_loss: 0.4165 - val_acc: 0.8854\n",
            "\n",
            "Epoch 00031: val_loss did not improve from 0.34712\n",
            "Epoch 32/50\n",
            " - 1s - loss: 0.3357 - acc: 0.8562 - val_loss: 0.3687 - val_acc: 0.9167\n",
            "\n",
            "Epoch 00032: val_loss did not improve from 0.34712\n",
            "Epoch 33/50\n",
            " - 1s - loss: 0.3175 - acc: 0.8688 - val_loss: 0.3784 - val_acc: 0.9167\n",
            "\n",
            "Epoch 00033: val_loss did not improve from 0.34712\n",
            "Epoch 34/50\n",
            " - 1s - loss: 0.3381 - acc: 0.8844 - val_loss: 0.4257 - val_acc: 0.8438\n",
            "\n",
            "Epoch 00034: val_loss did not improve from 0.34712\n",
            "Epoch 35/50\n",
            " - 1s - loss: 0.3146 - acc: 0.8844 - val_loss: 0.4082 - val_acc: 0.9010\n",
            "\n",
            "Epoch 00035: val_loss did not improve from 0.34712\n",
            "Epoch 36/50\n",
            " - 1s - loss: 0.3662 - acc: 0.8484 - val_loss: 0.3313 - val_acc: 0.9062\n",
            "\n",
            "Epoch 00036: val_loss improved from 0.34712 to 0.33128, saving model to weights_architecture_5.hdf5\n",
            "Epoch 37/50\n",
            " - 1s - loss: 0.3257 - acc: 0.8750 - val_loss: 0.4513 - val_acc: 0.8177\n",
            "\n",
            "Epoch 00037: val_loss did not improve from 0.33128\n",
            "Epoch 38/50\n",
            " - 1s - loss: 0.3749 - acc: 0.8453 - val_loss: 0.3151 - val_acc: 0.8958\n",
            "\n",
            "Epoch 00038: val_loss improved from 0.33128 to 0.31507, saving model to weights_architecture_5.hdf5\n",
            "Epoch 39/50\n",
            " - 1s - loss: 0.3621 - acc: 0.8531 - val_loss: 0.4431 - val_acc: 0.8177\n",
            "\n",
            "Epoch 00039: val_loss did not improve from 0.31507\n",
            "Epoch 40/50\n",
            " - 1s - loss: 0.2993 - acc: 0.8812 - val_loss: 0.4507 - val_acc: 0.7917\n",
            "\n",
            "Epoch 00040: val_loss did not improve from 0.31507\n",
            "Epoch 41/50\n",
            " - 1s - loss: 0.2852 - acc: 0.8750 - val_loss: 0.5749 - val_acc: 0.7031\n",
            "\n",
            "Epoch 00041: val_loss did not improve from 0.31507\n",
            "Epoch 42/50\n",
            " - 1s - loss: 0.3799 - acc: 0.8580 - val_loss: 0.4713 - val_acc: 0.8385\n",
            "\n",
            "Epoch 00042: val_loss did not improve from 0.31507\n",
            "Epoch 43/50\n",
            " - 1s - loss: 0.3649 - acc: 0.8453 - val_loss: 0.4224 - val_acc: 0.9271\n",
            "\n",
            "Epoch 00043: val_loss did not improve from 0.31507\n",
            "Epoch 44/50\n",
            " - 1s - loss: 0.3331 - acc: 0.8734 - val_loss: 0.4894 - val_acc: 0.7969\n",
            "\n",
            "Epoch 00044: val_loss did not improve from 0.31507\n",
            "Epoch 45/50\n",
            " - 1s - loss: 0.2850 - acc: 0.8891 - val_loss: 0.4370 - val_acc: 0.8542\n",
            "\n",
            "Epoch 00045: val_loss did not improve from 0.31507\n",
            "Epoch 46/50\n",
            " - 1s - loss: 0.2726 - acc: 0.9078 - val_loss: 0.4596 - val_acc: 0.8281\n",
            "\n",
            "Epoch 00046: val_loss did not improve from 0.31507\n",
            "Epoch 47/50\n",
            " - 1s - loss: 0.3535 - acc: 0.8625 - val_loss: 0.6219 - val_acc: 0.7344\n",
            "\n",
            "Epoch 00047: val_loss did not improve from 0.31507\n",
            "Epoch 48/50\n",
            " - 1s - loss: 0.3464 - acc: 0.8672 - val_loss: 0.4836 - val_acc: 0.8438\n",
            "\n",
            "Epoch 00048: val_loss did not improve from 0.31507\n",
            "Epoch 49/50\n",
            " - 1s - loss: 0.2913 - acc: 0.8891 - val_loss: 0.5009 - val_acc: 0.7865\n",
            "\n",
            "Epoch 00049: val_loss did not improve from 0.31507\n",
            "Epoch 50/50\n",
            " - 1s - loss: 0.3006 - acc: 0.8922 - val_loss: 0.3847 - val_acc: 0.9189\n",
            "\n",
            "Epoch 00050: val_loss did not improve from 0.31507\n"
          ],
          "name": "stdout"
        }
      ]
    },
    {
      "metadata": {
        "colab_type": "code",
        "id": "0mSPug6x4gfs",
        "colab": {
          "base_uri": "https://localhost:8080/",
          "height": 380
        },
        "outputId": "5dc4a219-1dcc-4a3f-f295-5f89d0499906"
      },
      "cell_type": "code",
      "source": [
        "# plotar loss e accuracy para os datasets 'train' e 'test'\n",
        "plt.style.use(\"ggplot\")\n",
        "plt.figure()\n",
        "plt.plot(training.history['acc'], label='Accuracy')\n",
        "plt.plot(training.history['loss'], label='Loss')\n",
        "plt.xlabel('Epochs')\n",
        "plt.ylabel('Accuracy')\n",
        "plt.title(\"Training Loss and Accuracy\")\n",
        "plt.ylabel(\"Loss/Accuracy\")\n",
        "plt.legend()\n",
        "plt.savefig('architecture_5.png', bbox_inches='tight')"
      ],
      "execution_count": 21,
      "outputs": [
        {
          "output_type": "display_data",
          "data": {
            "image/png": "[encoded data removed]",
            "text/plain": [
              "<matplotlib.figure.Figure at 0x7f0fb3f55a90>"
            ]
          },
          "metadata": {
            "tags": []
          }
        }
      ]
    },
    {
      "metadata": {
        "id": "vy2jjjoB5gBo",
        "colab_type": "code",
        "colab": {}
      },
      "cell_type": "code",
      "source": [
        "model.load_weights('weights_architecture_5.hdf5')"
      ],
      "execution_count": 0,
      "outputs": []
    },
    {
      "metadata": {
        "colab_type": "code",
        "id": "_JgTPZOc4gf0",
        "colab": {
          "base_uri": "https://localhost:8080/",
          "height": 35
        },
        "outputId": "b4179931-6331-444a-bc64-209280917a4e"
      },
      "cell_type": "code",
      "source": [
        "results['architecture_5'] = model.evaluate_generator(test_batches, steps=bSize, use_multiprocessing=True, verbose=1)"
      ],
      "execution_count": 23,
      "outputs": [
        {
          "output_type": "stream",
          "text": [
            "32/32 [==============================] - 201s 6s/step\n"
          ],
          "name": "stdout"
        }
      ]
    },
    {
      "metadata": {
        "colab_type": "code",
        "id": "btSZrFLQ4gf5",
        "colab": {
          "base_uri": "https://localhost:8080/",
          "height": 35
        },
        "outputId": "7d878fed-904c-4db8-ab66-f6089d93b246"
      },
      "cell_type": "code",
      "source": [
        "print('Test Loss: {} | Test Accuracy: {:.2f}%'.format(results['architecture_5'][0], 100 * results['architecture_5'][1]))"
      ],
      "execution_count": 24,
      "outputs": [
        {
          "output_type": "stream",
          "text": [
            "Test Loss: 0.34329717699438334 | Test Accuracy: 90.23%\n"
          ],
          "name": "stdout"
        }
      ]
    },
    {
      "metadata": {
        "id": "apfIeirYD2N7",
        "colab_type": "text"
      },
      "cell_type": "markdown",
      "source": [
        "### 6 tentativa Accuracy: 92.09%"
      ]
    },
    {
      "metadata": {
        "colab_type": "text",
        "id": "xaxcjuxn7BAH"
      },
      "cell_type": "markdown",
      "source": [
        "Modelo adaptado do **Lucas Albertins**\n",
        "\n",
        "*   Sem os **dropout**\n",
        "*   Função **SGD** para compilação\n",
        "*   **BatchNormalization** antes da ultima camada Dense\n"
      ]
    },
    {
      "metadata": {
        "colab_type": "code",
        "id": "C2UuO-jqD44u",
        "colab": {}
      },
      "cell_type": "code",
      "source": [
        "from keras.layers import Conv2D, MaxPooling2D, GlobalMaxPooling2D, BatchNormalization\n",
        "from keras.regularizers import l2\n",
        "\n",
        "model = Sequential()\n",
        "\n",
        "model.add(Conv2D(32, (3, 3), activation='relu', kernel_regularizer=l2(1e-4), \n",
        "                 input_shape=(None, None, 3)))\n",
        "model.add(BatchNormalization())\n",
        "model.add(Conv2D(32, (3, 3), activation='relu', kernel_regularizer=l2(1e-4)))\n",
        "model.add(BatchNormalization())\n",
        "model.add(MaxPooling2D((2, 2)))\n",
        "\n",
        "model.add(Conv2D(64, (3, 3), activation='relu', kernel_regularizer=l2(1e-4)))\n",
        "model.add(BatchNormalization())\n",
        "model.add(Conv2D(64, (3, 3), activation='relu', kernel_regularizer=l2(1e-4)))\n",
        "model.add(BatchNormalization())\n",
        "model.add(MaxPooling2D((2, 2)))\n",
        "\n",
        "model.add(Conv2D(128, (1,1), kernel_regularizer=l2(1e-4)))\n",
        "model.add(GlobalMaxPooling2D())\n",
        "\n",
        "model.add(Dense(256, activation='relu', kernel_regularizer=l2(1e-4)))\n",
        "model.add(BatchNormalization())\n",
        "model.add(Dense(2, activation='sigmoid', kernel_regularizer=l2(1e-4)))"
      ],
      "execution_count": 0,
      "outputs": []
    },
    {
      "metadata": {
        "colab_type": "code",
        "id": "I7mu97znD45M",
        "colab": {}
      },
      "cell_type": "code",
      "source": [
        "model.compile(SGD(lr=0.03, momentum=0.0, decay=0.0, nesterov=False), \n",
        "              loss='binary_crossentropy', metrics=['accuracy'])"
      ],
      "execution_count": 0,
      "outputs": []
    },
    {
      "metadata": {
        "colab_type": "code",
        "id": "LEdI9Ilj6scL",
        "colab": {}
      },
      "cell_type": "code",
      "source": [
        "checkpointer = ModelCheckpoint(filepath='weights_architecture_6.hdf5', verbose=1, save_best_only=True)"
      ],
      "execution_count": 0,
      "outputs": []
    },
    {
      "metadata": {
        "colab_type": "code",
        "id": "HRAakAz46scS",
        "colab": {
          "base_uri": "https://localhost:8080/",
          "height": 3690
        },
        "outputId": "f2ce8790-083f-4cc2-9a25-337cca4a30fc"
      },
      "cell_type": "code",
      "source": [
        "training = model.fit_generator(train_batches, steps_per_epoch=stepsPerEpoche, \n",
        "                   validation_data=validation_batches, validation_steps=validationSteps,\n",
        "                   epochs=50, verbose=2, callbacks=[checkpointer])"
      ],
      "execution_count": 28,
      "outputs": [
        {
          "output_type": "stream",
          "text": [
            "Epoch 1/50\n",
            " - 3s - loss: 0.6098 - acc: 0.7188 - val_loss: 1.0684 - val_acc: 0.6927\n",
            "\n",
            "Epoch 00001: val_loss improved from inf to 1.06840, saving model to weights_architecture_6.hdf5\n",
            "Epoch 2/50\n",
            " - 1s - loss: 0.5556 - acc: 0.7766 - val_loss: 0.8130 - val_acc: 0.6979\n",
            "\n",
            "Epoch 00002: val_loss improved from 1.06840 to 0.81301, saving model to weights_architecture_6.hdf5\n",
            "Epoch 3/50\n",
            " - 1s - loss: 0.4985 - acc: 0.8516 - val_loss: 0.5092 - val_acc: 0.8021\n",
            "\n",
            "Epoch 00003: val_loss improved from 0.81301 to 0.50918, saving model to weights_architecture_6.hdf5\n",
            "Epoch 4/50\n",
            " - 1s - loss: 0.4770 - acc: 0.8578 - val_loss: 0.4656 - val_acc: 0.8125\n",
            "\n",
            "Epoch 00004: val_loss improved from 0.50918 to 0.46558, saving model to weights_architecture_6.hdf5\n",
            "Epoch 5/50\n",
            " - 1s - loss: 0.4524 - acc: 0.8703 - val_loss: 0.4045 - val_acc: 0.8906\n",
            "\n",
            "Epoch 00005: val_loss improved from 0.46558 to 0.40448, saving model to weights_architecture_6.hdf5\n",
            "Epoch 6/50\n",
            " - 1s - loss: 0.4021 - acc: 0.8859 - val_loss: 0.4656 - val_acc: 0.8646\n",
            "\n",
            "Epoch 00006: val_loss did not improve from 0.40448\n",
            "Epoch 7/50\n",
            " - 1s - loss: 0.4092 - acc: 0.8891 - val_loss: 0.3230 - val_acc: 0.8802\n",
            "\n",
            "Epoch 00007: val_loss improved from 0.40448 to 0.32300, saving model to weights_architecture_6.hdf5\n",
            "Epoch 8/50\n",
            " - 1s - loss: 0.4145 - acc: 0.8891 - val_loss: 0.7522 - val_acc: 0.8281\n",
            "\n",
            "Epoch 00008: val_loss did not improve from 0.32300\n",
            "Epoch 9/50\n",
            " - 1s - loss: 0.3663 - acc: 0.9078 - val_loss: 0.8042 - val_acc: 0.8177\n",
            "\n",
            "Epoch 00009: val_loss did not improve from 0.32300\n",
            "Epoch 10/50\n",
            " - 1s - loss: 0.4215 - acc: 0.8938 - val_loss: 0.6818 - val_acc: 0.7292\n",
            "\n",
            "Epoch 00010: val_loss did not improve from 0.32300\n",
            "Epoch 11/50\n",
            " - 1s - loss: 0.3423 - acc: 0.9078 - val_loss: 0.3485 - val_acc: 0.8906\n",
            "\n",
            "Epoch 00011: val_loss did not improve from 0.32300\n",
            "Epoch 12/50\n",
            " - 1s - loss: 0.3862 - acc: 0.8688 - val_loss: 0.9134 - val_acc: 0.7760\n",
            "\n",
            "Epoch 00012: val_loss did not improve from 0.32300\n",
            "Epoch 13/50\n",
            " - 1s - loss: 0.3614 - acc: 0.8875 - val_loss: 0.2553 - val_acc: 0.9271\n",
            "\n",
            "Epoch 00013: val_loss improved from 0.32300 to 0.25533, saving model to weights_architecture_6.hdf5\n",
            "Epoch 14/50\n",
            " - 1s - loss: 0.3083 - acc: 0.9016 - val_loss: 0.8664 - val_acc: 0.7396\n",
            "\n",
            "Epoch 00014: val_loss did not improve from 0.25533\n",
            "Epoch 15/50\n",
            " - 1s - loss: 0.3186 - acc: 0.9031 - val_loss: 1.1735 - val_acc: 0.7969\n",
            "\n",
            "Epoch 00015: val_loss did not improve from 0.25533\n",
            "Epoch 16/50\n",
            " - 1s - loss: 0.2997 - acc: 0.9203 - val_loss: 0.9428 - val_acc: 0.8229\n",
            "\n",
            "Epoch 00016: val_loss did not improve from 0.25533\n",
            "Epoch 17/50\n",
            " - 1s - loss: 0.2921 - acc: 0.9250 - val_loss: 0.9492 - val_acc: 0.8333\n",
            "\n",
            "Epoch 00017: val_loss did not improve from 0.25533\n",
            "Epoch 18/50\n",
            " - 1s - loss: 0.3210 - acc: 0.9016 - val_loss: 0.5383 - val_acc: 0.8438\n",
            "\n",
            "Epoch 00018: val_loss did not improve from 0.25533\n",
            "Epoch 19/50\n",
            " - 1s - loss: 0.2903 - acc: 0.9125 - val_loss: 0.3820 - val_acc: 0.8594\n",
            "\n",
            "Epoch 00019: val_loss did not improve from 0.25533\n",
            "Epoch 20/50\n",
            " - 1s - loss: 0.2541 - acc: 0.9484 - val_loss: 0.3253 - val_acc: 0.9271\n",
            "\n",
            "Epoch 00020: val_loss did not improve from 0.25533\n",
            "Epoch 21/50\n",
            " - 1s - loss: 0.3052 - acc: 0.9156 - val_loss: 1.1081 - val_acc: 0.7969\n",
            "\n",
            "Epoch 00021: val_loss did not improve from 0.25533\n",
            "Epoch 22/50\n",
            " - 1s - loss: 0.3291 - acc: 0.9046 - val_loss: 0.8916 - val_acc: 0.7448\n",
            "\n",
            "Epoch 00022: val_loss did not improve from 0.25533\n",
            "Epoch 23/50\n",
            " - 1s - loss: 0.3152 - acc: 0.9016 - val_loss: 0.7425 - val_acc: 0.8311\n",
            "\n",
            "Epoch 00023: val_loss did not improve from 0.25533\n",
            "Epoch 24/50\n",
            " - 1s - loss: 0.3040 - acc: 0.9094 - val_loss: 0.7287 - val_acc: 0.7656\n",
            "\n",
            "Epoch 00024: val_loss did not improve from 0.25533\n",
            "Epoch 25/50\n",
            " - 1s - loss: 0.2495 - acc: 0.9391 - val_loss: 0.4029 - val_acc: 0.8438\n",
            "\n",
            "Epoch 00025: val_loss did not improve from 0.25533\n",
            "Epoch 26/50\n",
            " - 1s - loss: 0.2674 - acc: 0.9266 - val_loss: 0.4699 - val_acc: 0.8021\n",
            "\n",
            "Epoch 00026: val_loss did not improve from 0.25533\n",
            "Epoch 27/50\n",
            " - 1s - loss: 0.2802 - acc: 0.9187 - val_loss: 0.5402 - val_acc: 0.8281\n",
            "\n",
            "Epoch 00027: val_loss did not improve from 0.25533\n",
            "Epoch 28/50\n",
            " - 1s - loss: 0.2934 - acc: 0.8922 - val_loss: 0.7679 - val_acc: 0.7760\n",
            "\n",
            "Epoch 00028: val_loss did not improve from 0.25533\n",
            "Epoch 29/50\n",
            " - 1s - loss: 0.2752 - acc: 0.9234 - val_loss: 0.3329 - val_acc: 0.8906\n",
            "\n",
            "Epoch 00029: val_loss did not improve from 0.25533\n",
            "Epoch 30/50\n",
            " - 1s - loss: 0.2830 - acc: 0.9234 - val_loss: 0.2378 - val_acc: 0.9010\n",
            "\n",
            "Epoch 00030: val_loss improved from 0.25533 to 0.23780, saving model to weights_architecture_6.hdf5\n",
            "Epoch 31/50\n",
            " - 1s - loss: 0.2645 - acc: 0.9125 - val_loss: 0.2299 - val_acc: 0.9375\n",
            "\n",
            "Epoch 00031: val_loss improved from 0.23780 to 0.22987, saving model to weights_architecture_6.hdf5\n",
            "Epoch 32/50\n",
            " - 1s - loss: 0.2620 - acc: 0.9281 - val_loss: 0.3315 - val_acc: 0.8750\n",
            "\n",
            "Epoch 00032: val_loss did not improve from 0.22987\n",
            "Epoch 33/50\n",
            " - 1s - loss: 0.2286 - acc: 0.9516 - val_loss: 0.1898 - val_acc: 0.9531\n",
            "\n",
            "Epoch 00033: val_loss improved from 0.22987 to 0.18981, saving model to weights_architecture_6.hdf5\n",
            "Epoch 34/50\n",
            " - 1s - loss: 0.2668 - acc: 0.9234 - val_loss: 0.2468 - val_acc: 0.9167\n",
            "\n",
            "Epoch 00034: val_loss did not improve from 0.18981\n",
            "Epoch 35/50\n",
            " - 1s - loss: 0.2542 - acc: 0.9344 - val_loss: 0.2645 - val_acc: 0.8854\n",
            "\n",
            "Epoch 00035: val_loss did not improve from 0.18981\n",
            "Epoch 36/50\n",
            " - 1s - loss: 0.2744 - acc: 0.9125 - val_loss: 0.4080 - val_acc: 0.8333\n",
            "\n",
            "Epoch 00036: val_loss did not improve from 0.18981\n",
            "Epoch 37/50\n",
            " - 1s - loss: 0.2480 - acc: 0.9172 - val_loss: 0.1968 - val_acc: 0.9167\n",
            "\n",
            "Epoch 00037: val_loss did not improve from 0.18981\n",
            "Epoch 38/50\n",
            " - 1s - loss: 0.3015 - acc: 0.9000 - val_loss: 0.3817 - val_acc: 0.8229\n",
            "\n",
            "Epoch 00038: val_loss did not improve from 0.18981\n",
            "Epoch 39/50\n",
            " - 1s - loss: 0.2669 - acc: 0.9062 - val_loss: 0.2988 - val_acc: 0.8802\n",
            "\n",
            "Epoch 00039: val_loss did not improve from 0.18981\n",
            "Epoch 40/50\n",
            " - 1s - loss: 0.2409 - acc: 0.9313 - val_loss: 0.3295 - val_acc: 0.8958\n",
            "\n",
            "Epoch 00040: val_loss did not improve from 0.18981\n",
            "Epoch 41/50\n",
            " - 1s - loss: 0.2860 - acc: 0.9125 - val_loss: 0.3829 - val_acc: 0.8490\n",
            "\n",
            "Epoch 00041: val_loss did not improve from 0.18981\n",
            "Epoch 42/50\n",
            " - 1s - loss: 0.2310 - acc: 0.9266 - val_loss: 0.7815 - val_acc: 0.7500\n",
            "\n",
            "Epoch 00042: val_loss did not improve from 0.18981\n",
            "Epoch 43/50\n",
            " - 1s - loss: 0.2789 - acc: 0.9141 - val_loss: 0.4800 - val_acc: 0.7969\n",
            "\n",
            "Epoch 00043: val_loss did not improve from 0.18981\n",
            "Epoch 44/50\n",
            " - 1s - loss: 0.2975 - acc: 0.9000 - val_loss: 0.6632 - val_acc: 0.7656\n",
            "\n",
            "Epoch 00044: val_loss did not improve from 0.18981\n",
            "Epoch 45/50\n",
            " - 1s - loss: 0.2773 - acc: 0.9062 - val_loss: 0.6201 - val_acc: 0.7604\n",
            "\n",
            "Epoch 00045: val_loss did not improve from 0.18981\n",
            "Epoch 46/50\n",
            " - 1s - loss: 0.2195 - acc: 0.9406 - val_loss: 0.2682 - val_acc: 0.8906\n",
            "\n",
            "Epoch 00046: val_loss did not improve from 0.18981\n",
            "Epoch 47/50\n",
            " - 1s - loss: 0.3179 - acc: 0.8844 - val_loss: 0.2664 - val_acc: 0.9167\n",
            "\n",
            "Epoch 00047: val_loss did not improve from 0.18981\n",
            "Epoch 48/50\n",
            " - 1s - loss: 0.2724 - acc: 0.9016 - val_loss: 0.3358 - val_acc: 0.8851\n",
            "\n",
            "Epoch 00048: val_loss did not improve from 0.18981\n",
            "Epoch 49/50\n",
            " - 1s - loss: 0.3140 - acc: 0.9000 - val_loss: 0.2488 - val_acc: 0.9219\n",
            "\n",
            "Epoch 00049: val_loss did not improve from 0.18981\n",
            "Epoch 50/50\n",
            " - 1s - loss: 0.2789 - acc: 0.9094 - val_loss: 0.2729 - val_acc: 0.8802\n",
            "\n",
            "Epoch 00050: val_loss did not improve from 0.18981\n"
          ],
          "name": "stdout"
        }
      ]
    },
    {
      "metadata": {
        "colab_type": "code",
        "id": "uaZTLoX46scd",
        "colab": {
          "base_uri": "https://localhost:8080/",
          "height": 380
        },
        "outputId": "2dfc0a87-dcee-4d35-ce4e-c5574db8108a"
      },
      "cell_type": "code",
      "source": [
        "# plotar loss e accuracy para os datasets 'train' e 'test'\n",
        "plt.style.use(\"ggplot\")\n",
        "plt.figure()\n",
        "plt.plot(training.history['acc'], label='Accuracy')\n",
        "plt.plot(training.history['loss'], label='Loss')\n",
        "plt.xlabel('Epochs')\n",
        "plt.ylabel('Accuracy')\n",
        "plt.title(\"Training Loss and Accuracy\")\n",
        "plt.ylabel(\"Loss/Accuracy\")\n",
        "plt.legend()\n",
        "plt.savefig('architecture_6.png', bbox_inches='tight')"
      ],
      "execution_count": 29,
      "outputs": [
        {
          "output_type": "display_data",
          "data": {
            "image/png": "[encoded data removed]",
            "text/plain": [
              "<matplotlib.figure.Figure at 0x7f0fb08a4ac8>"
            ]
          },
          "metadata": {
            "tags": []
          }
        }
      ]
    },
    {
      "metadata": {
        "colab_type": "code",
        "id": "Z7zyxvAB6sch",
        "colab": {}
      },
      "cell_type": "code",
      "source": [
        "model.load_weights('weights_architecture_6.hdf5')"
      ],
      "execution_count": 0,
      "outputs": []
    },
    {
      "metadata": {
        "colab_type": "code",
        "id": "6F7QMRQn6scm",
        "colab": {
          "base_uri": "https://localhost:8080/",
          "height": 35
        },
        "outputId": "edc0fec3-0736-4ccb-b093-19ff10367ba4"
      },
      "cell_type": "code",
      "source": [
        "results['architecture_6'] = model.evaluate_generator(test_batches, steps=bSize, use_multiprocessing=True, verbose=1)"
      ],
      "execution_count": 31,
      "outputs": [
        {
          "output_type": "stream",
          "text": [
            "32/32 [==============================] - 108s 3s/step\n"
          ],
          "name": "stdout"
        }
      ]
    },
    {
      "metadata": {
        "colab_type": "code",
        "id": "uXAl6yNj6scr",
        "colab": {
          "base_uri": "https://localhost:8080/",
          "height": 35
        },
        "outputId": "2cce2f4e-8c38-42fe-ee1f-baa4d291bd2a"
      },
      "cell_type": "code",
      "source": [
        "print('Test Loss: {} | Test Accuracy: {:.2f}%'.format(results['architecture_6'][0], 100 * results['architecture_6'][1]))"
      ],
      "execution_count": 32,
      "outputs": [
        {
          "output_type": "stream",
          "text": [
            "Test Loss: 0.2649589979555458 | Test Accuracy: 92.09%\n"
          ],
          "name": "stdout"
        }
      ]
    },
    {
      "metadata": {
        "id": "5gk7vmYPHddj",
        "colab_type": "text"
      },
      "cell_type": "markdown",
      "source": [
        "### 7 tentativa Accuracy: 89.99%"
      ]
    },
    {
      "metadata": {
        "colab_type": "text",
        "id": "lxzyd-4L422r"
      },
      "cell_type": "markdown",
      "source": [
        "Modelo adaptado do **Lucas Albertins**\n",
        "\n",
        "*   Sem os **dropout**\n",
        "*   Função **Adadelta** para compilação\n",
        "*   **BatchNormalization** antes da ultima camada Dense\n"
      ]
    },
    {
      "metadata": {
        "colab_type": "code",
        "id": "sIBEdGsyHhJN",
        "colab": {}
      },
      "cell_type": "code",
      "source": [
        "from keras.layers import Conv2D, MaxPooling2D, GlobalMaxPooling2D, BatchNormalization\n",
        "from keras.regularizers import l2\n",
        "from keras.optimizers import Adadelta\n",
        "\n",
        "model = Sequential()\n",
        "\n",
        "model.add(Conv2D(32, (3, 3), activation='relu', kernel_regularizer=l2(1e-4), \n",
        "                 input_shape=(None, None, 3)))\n",
        "model.add(BatchNormalization())\n",
        "model.add(Conv2D(32, (3, 3), activation='relu', kernel_regularizer=l2(1e-4)))\n",
        "model.add(BatchNormalization())\n",
        "model.add(MaxPooling2D((2, 2)))\n",
        "\n",
        "model.add(Conv2D(64, (3, 3), activation='relu', kernel_regularizer=l2(1e-4)))\n",
        "model.add(BatchNormalization())\n",
        "model.add(Conv2D(64, (3, 3), activation='relu', kernel_regularizer=l2(1e-4)))\n",
        "model.add(BatchNormalization())\n",
        "model.add(MaxPooling2D((2, 2)))\n",
        "\n",
        "model.add(Conv2D(128, (1,1), kernel_regularizer=l2(1e-4)))\n",
        "model.add(GlobalMaxPooling2D())\n",
        "\n",
        "model.add(Dense(256, activation='relu', kernel_regularizer=l2(1e-4)))\n",
        "model.add(BatchNormalization())\n",
        "model.add(Dense(2, activation='sigmoid', kernel_regularizer=l2(1e-4)))"
      ],
      "execution_count": 0,
      "outputs": []
    },
    {
      "metadata": {
        "colab_type": "code",
        "id": "P6ZvobfGHhJb",
        "colab": {}
      },
      "cell_type": "code",
      "source": [
        "model.compile(Adadelta(lr=1.0, rho=0.95, epsilon=None, decay=0.0), \n",
        "              loss='binary_crossentropy', metrics=['accuracy'])"
      ],
      "execution_count": 0,
      "outputs": []
    },
    {
      "metadata": {
        "colab_type": "code",
        "id": "HwKsm_5S4l2j",
        "colab": {}
      },
      "cell_type": "code",
      "source": [
        "checkpointer = ModelCheckpoint(filepath='weights_architecture_7.hdf5', verbose=1, save_best_only=True)"
      ],
      "execution_count": 0,
      "outputs": []
    },
    {
      "metadata": {
        "colab_type": "code",
        "id": "mXDKyOFa4l2t",
        "colab": {
          "base_uri": "https://localhost:8080/",
          "height": 3690
        },
        "outputId": "7b7e9596-58eb-4cd9-909f-a8481ac145f0"
      },
      "cell_type": "code",
      "source": [
        "training = model.fit_generator(train_batches, steps_per_epoch=stepsPerEpoche, \n",
        "                   validation_data=validation_batches, validation_steps=validationSteps,\n",
        "                   epochs=50, verbose=2, callbacks=[checkpointer])"
      ],
      "execution_count": 36,
      "outputs": [
        {
          "output_type": "stream",
          "text": [
            "Epoch 1/50\n",
            " - 4s - loss: 0.6774 - acc: 0.6750 - val_loss: 0.9807 - val_acc: 0.5208\n",
            "\n",
            "Epoch 00001: val_loss improved from inf to 0.98070, saving model to weights_architecture_7.hdf5\n",
            "Epoch 2/50\n",
            " - 1s - loss: 0.5133 - acc: 0.8016 - val_loss: 0.4863 - val_acc: 0.8073\n",
            "\n",
            "Epoch 00002: val_loss improved from 0.98070 to 0.48627, saving model to weights_architecture_7.hdf5\n",
            "Epoch 3/50\n",
            " - 1s - loss: 0.4713 - acc: 0.8480 - val_loss: 0.4027 - val_acc: 0.8490\n",
            "\n",
            "Epoch 00003: val_loss improved from 0.48627 to 0.40270, saving model to weights_architecture_7.hdf5\n",
            "Epoch 4/50\n",
            " - 1s - loss: 0.4148 - acc: 0.8688 - val_loss: 0.2817 - val_acc: 0.9271\n",
            "\n",
            "Epoch 00004: val_loss improved from 0.40270 to 0.28173, saving model to weights_architecture_7.hdf5\n",
            "Epoch 5/50\n",
            " - 1s - loss: 0.4143 - acc: 0.8969 - val_loss: 0.3606 - val_acc: 0.8125\n",
            "\n",
            "Epoch 00005: val_loss did not improve from 0.28173\n",
            "Epoch 6/50\n",
            " - 1s - loss: 0.4123 - acc: 0.8828 - val_loss: 0.3910 - val_acc: 0.8594\n",
            "\n",
            "Epoch 00006: val_loss did not improve from 0.28173\n",
            "Epoch 7/50\n",
            " - 1s - loss: 0.3398 - acc: 0.9062 - val_loss: 0.5844 - val_acc: 0.8073\n",
            "\n",
            "Epoch 00007: val_loss did not improve from 0.28173\n",
            "Epoch 8/50\n",
            " - 1s - loss: 0.3402 - acc: 0.9094 - val_loss: 0.4269 - val_acc: 0.8229\n",
            "\n",
            "Epoch 00008: val_loss did not improve from 0.28173\n",
            "Epoch 9/50\n",
            " - 1s - loss: 0.3939 - acc: 0.8734 - val_loss: 1.6306 - val_acc: 0.7240\n",
            "\n",
            "Epoch 00009: val_loss did not improve from 0.28173\n",
            "Epoch 10/50\n",
            " - 1s - loss: 0.2948 - acc: 0.9078 - val_loss: 1.8075 - val_acc: 0.6927\n",
            "\n",
            "Epoch 00010: val_loss did not improve from 0.28173\n",
            "Epoch 11/50\n",
            " - 1s - loss: 0.3329 - acc: 0.8797 - val_loss: 1.5290 - val_acc: 0.6667\n",
            "\n",
            "Epoch 00011: val_loss did not improve from 0.28173\n",
            "Epoch 12/50\n",
            " - 1s - loss: 0.3182 - acc: 0.8891 - val_loss: 0.7274 - val_acc: 0.8021\n",
            "\n",
            "Epoch 00012: val_loss did not improve from 0.28173\n",
            "Epoch 13/50\n",
            " - 1s - loss: 0.2659 - acc: 0.9250 - val_loss: 0.6007 - val_acc: 0.8021\n",
            "\n",
            "Epoch 00013: val_loss did not improve from 0.28173\n",
            "Epoch 14/50\n",
            " - 1s - loss: 0.2806 - acc: 0.9094 - val_loss: 0.6098 - val_acc: 0.8281\n",
            "\n",
            "Epoch 00014: val_loss did not improve from 0.28173\n",
            "Epoch 15/50\n",
            " - 1s - loss: 0.3099 - acc: 0.9047 - val_loss: 0.5006 - val_acc: 0.7708\n",
            "\n",
            "Epoch 00015: val_loss did not improve from 0.28173\n",
            "Epoch 16/50\n",
            " - 1s - loss: 0.3026 - acc: 0.8875 - val_loss: 0.3001 - val_acc: 0.8750\n",
            "\n",
            "Epoch 00016: val_loss did not improve from 0.28173\n",
            "Epoch 17/50\n",
            " - 1s - loss: 0.2342 - acc: 0.9313 - val_loss: 0.3009 - val_acc: 0.8594\n",
            "\n",
            "Epoch 00017: val_loss did not improve from 0.28173\n",
            "Epoch 18/50\n",
            " - 1s - loss: 0.3033 - acc: 0.8828 - val_loss: 0.5377 - val_acc: 0.7812\n",
            "\n",
            "Epoch 00018: val_loss did not improve from 0.28173\n",
            "Epoch 19/50\n",
            " - 1s - loss: 0.3055 - acc: 0.9109 - val_loss: 0.5036 - val_acc: 0.8229\n",
            "\n",
            "Epoch 00019: val_loss did not improve from 0.28173\n",
            "Epoch 20/50\n",
            " - 1s - loss: 0.2555 - acc: 0.9109 - val_loss: 0.3312 - val_acc: 0.8958\n",
            "\n",
            "Epoch 00020: val_loss did not improve from 0.28173\n",
            "Epoch 21/50\n",
            " - 1s - loss: 0.3247 - acc: 0.8953 - val_loss: 0.4659 - val_acc: 0.8919\n",
            "\n",
            "Epoch 00021: val_loss did not improve from 0.28173\n",
            "Epoch 22/50\n",
            " - 1s - loss: 0.2589 - acc: 0.9156 - val_loss: 0.2222 - val_acc: 0.9427\n",
            "\n",
            "Epoch 00022: val_loss improved from 0.28173 to 0.22220, saving model to weights_architecture_7.hdf5\n",
            "Epoch 23/50\n",
            " - 1s - loss: 0.2541 - acc: 0.9125 - val_loss: 0.3090 - val_acc: 0.8802\n",
            "\n",
            "Epoch 00023: val_loss did not improve from 0.22220\n",
            "Epoch 24/50\n",
            " - 1s - loss: 0.2893 - acc: 0.8922 - val_loss: 0.2060 - val_acc: 0.9479\n",
            "\n",
            "Epoch 00024: val_loss improved from 0.22220 to 0.20596, saving model to weights_architecture_7.hdf5\n",
            "Epoch 25/50\n",
            " - 1s - loss: 0.2783 - acc: 0.8984 - val_loss: 0.2612 - val_acc: 0.9271\n",
            "\n",
            "Epoch 00025: val_loss did not improve from 0.20596\n",
            "Epoch 26/50\n",
            " - 1s - loss: 0.2923 - acc: 0.8953 - val_loss: 0.6154 - val_acc: 0.7500\n",
            "\n",
            "Epoch 00026: val_loss did not improve from 0.20596\n",
            "Epoch 27/50\n",
            " - 1s - loss: 0.2539 - acc: 0.9078 - val_loss: 0.3288 - val_acc: 0.9062\n",
            "\n",
            "Epoch 00027: val_loss did not improve from 0.20596\n",
            "Epoch 28/50\n",
            " - 1s - loss: 0.2449 - acc: 0.9109 - val_loss: 0.2556 - val_acc: 0.9479\n",
            "\n",
            "Epoch 00028: val_loss did not improve from 0.20596\n",
            "Epoch 29/50\n",
            " - 1s - loss: 0.2362 - acc: 0.9437 - val_loss: 0.2654 - val_acc: 0.8802\n",
            "\n",
            "Epoch 00029: val_loss did not improve from 0.20596\n",
            "Epoch 30/50\n",
            " - 1s - loss: 0.2649 - acc: 0.9156 - val_loss: 0.3335 - val_acc: 0.9010\n",
            "\n",
            "Epoch 00030: val_loss did not improve from 0.20596\n",
            "Epoch 31/50\n",
            " - 1s - loss: 0.2325 - acc: 0.9281 - val_loss: 0.3896 - val_acc: 0.8750\n",
            "\n",
            "Epoch 00031: val_loss did not improve from 0.20596\n",
            "Epoch 32/50\n",
            " - 1s - loss: 0.2905 - acc: 0.8906 - val_loss: 0.3169 - val_acc: 0.8802\n",
            "\n",
            "Epoch 00032: val_loss did not improve from 0.20596\n",
            "Epoch 33/50\n",
            " - 1s - loss: 0.2844 - acc: 0.8968 - val_loss: 0.3303 - val_acc: 0.8490\n",
            "\n",
            "Epoch 00033: val_loss did not improve from 0.20596\n",
            "Epoch 34/50\n",
            " - 1s - loss: 0.1971 - acc: 0.9391 - val_loss: 0.8305 - val_acc: 0.8021\n",
            "\n",
            "Epoch 00034: val_loss did not improve from 0.20596\n",
            "Epoch 35/50\n",
            " - 1s - loss: 0.2296 - acc: 0.9266 - val_loss: 0.7198 - val_acc: 0.7708\n",
            "\n",
            "Epoch 00035: val_loss did not improve from 0.20596\n",
            "Epoch 36/50\n",
            " - 1s - loss: 0.2616 - acc: 0.9156 - val_loss: 0.3609 - val_acc: 0.8333\n",
            "\n",
            "Epoch 00036: val_loss did not improve from 0.20596\n",
            "Epoch 37/50\n",
            " - 1s - loss: 0.2707 - acc: 0.9219 - val_loss: 0.3866 - val_acc: 0.8438\n",
            "\n",
            "Epoch 00037: val_loss did not improve from 0.20596\n",
            "Epoch 38/50\n",
            " - 1s - loss: 0.1783 - acc: 0.9500 - val_loss: 0.4608 - val_acc: 0.8073\n",
            "\n",
            "Epoch 00038: val_loss did not improve from 0.20596\n",
            "Epoch 39/50\n",
            " - 1s - loss: 0.2267 - acc: 0.9250 - val_loss: 0.2109 - val_acc: 0.9219\n",
            "\n",
            "Epoch 00039: val_loss did not improve from 0.20596\n",
            "Epoch 40/50\n",
            " - 1s - loss: 0.2557 - acc: 0.9172 - val_loss: 0.2978 - val_acc: 0.8906\n",
            "\n",
            "Epoch 00040: val_loss did not improve from 0.20596\n",
            "Epoch 41/50\n",
            " - 1s - loss: 0.2800 - acc: 0.8875 - val_loss: 0.2496 - val_acc: 0.9010\n",
            "\n",
            "Epoch 00041: val_loss did not improve from 0.20596\n",
            "Epoch 42/50\n",
            " - 1s - loss: 0.2325 - acc: 0.9281 - val_loss: 0.4730 - val_acc: 0.8542\n",
            "\n",
            "Epoch 00042: val_loss did not improve from 0.20596\n",
            "Epoch 43/50\n",
            " - 1s - loss: 0.2344 - acc: 0.9313 - val_loss: 0.3171 - val_acc: 0.8698\n",
            "\n",
            "Epoch 00043: val_loss did not improve from 0.20596\n",
            "Epoch 44/50\n",
            " - 1s - loss: 0.2498 - acc: 0.9437 - val_loss: 0.7767 - val_acc: 0.7396\n",
            "\n",
            "Epoch 00044: val_loss did not improve from 0.20596\n",
            "Epoch 45/50\n",
            " - 1s - loss: 0.2484 - acc: 0.9062 - val_loss: 0.2546 - val_acc: 0.9219\n",
            "\n",
            "Epoch 00045: val_loss did not improve from 0.20596\n",
            "Epoch 46/50\n",
            " - 1s - loss: 0.2454 - acc: 0.9234 - val_loss: 0.2390 - val_acc: 0.9167\n",
            "\n",
            "Epoch 00046: val_loss did not improve from 0.20596\n",
            "Epoch 47/50\n",
            " - 1s - loss: 0.2507 - acc: 0.9266 - val_loss: 0.4464 - val_acc: 0.8176\n",
            "\n",
            "Epoch 00047: val_loss did not improve from 0.20596\n",
            "Epoch 48/50\n",
            " - 1s - loss: 0.2576 - acc: 0.9156 - val_loss: 0.7514 - val_acc: 0.6875\n",
            "\n",
            "Epoch 00048: val_loss did not improve from 0.20596\n",
            "Epoch 49/50\n",
            " - 1s - loss: 0.2340 - acc: 0.9281 - val_loss: 0.2835 - val_acc: 0.9219\n",
            "\n",
            "Epoch 00049: val_loss did not improve from 0.20596\n",
            "Epoch 50/50\n",
            " - 1s - loss: 0.2357 - acc: 0.9344 - val_loss: 0.4703 - val_acc: 0.8333\n",
            "\n",
            "Epoch 00050: val_loss did not improve from 0.20596\n"
          ],
          "name": "stdout"
        }
      ]
    },
    {
      "metadata": {
        "colab_type": "code",
        "id": "sy1RK1RR4l28",
        "colab": {
          "base_uri": "https://localhost:8080/",
          "height": 380
        },
        "outputId": "be6e57c1-ed11-414b-f105-4873aaa4d8f5"
      },
      "cell_type": "code",
      "source": [
        "# plotar loss e accuracy para os datasets 'train' e 'test'\n",
        "plt.style.use(\"ggplot\")\n",
        "plt.figure()\n",
        "plt.plot(training.history['acc'], label='Accuracy')\n",
        "plt.plot(training.history['loss'], label='Loss')\n",
        "plt.xlabel('Epochs')\n",
        "plt.ylabel('Accuracy')\n",
        "plt.title(\"Training Loss and Accuracy\")\n",
        "plt.ylabel(\"Loss/Accuracy\")\n",
        "plt.legend()\n",
        "plt.savefig('architecture_7.png', bbox_inches='tight')"
      ],
      "execution_count": 37,
      "outputs": [
        {
          "output_type": "display_data",
          "data": {
            "image/png": "[encoded data removed]",
            "text/plain": [
              "<matplotlib.figure.Figure at 0x7f0fb0650550>"
            ]
          },
          "metadata": {
            "tags": []
          }
        }
      ]
    },
    {
      "metadata": {
        "colab_type": "code",
        "id": "QIKQMVsI4l3E",
        "colab": {}
      },
      "cell_type": "code",
      "source": [
        "model.load_weights('weights_architecture_7.hdf5')"
      ],
      "execution_count": 0,
      "outputs": []
    },
    {
      "metadata": {
        "colab_type": "code",
        "id": "qPguZfCk4l3I",
        "colab": {
          "base_uri": "https://localhost:8080/",
          "height": 35
        },
        "outputId": "66ee153a-5b23-4ea9-bc90-241f8a11b318"
      },
      "cell_type": "code",
      "source": [
        "results['architecture_7'] = model.evaluate_generator(test_batches, steps=bSize, use_multiprocessing=True, verbose=1)"
      ],
      "execution_count": 39,
      "outputs": [
        {
          "output_type": "stream",
          "text": [
            "32/32 [==============================] - 71s 2s/step\n"
          ],
          "name": "stdout"
        }
      ]
    },
    {
      "metadata": {
        "colab_type": "code",
        "id": "9-WWBwrQ4l3V",
        "colab": {
          "base_uri": "https://localhost:8080/",
          "height": 35
        },
        "outputId": "3b9ba558-448a-4636-c3fd-299a2fc6b6ab"
      },
      "cell_type": "code",
      "source": [
        "print('Test Loss: {} | Test Accuracy: {:.2f}%'.format(results['architecture_7'][0], 100 * results['architecture_7'][1]))"
      ],
      "execution_count": 40,
      "outputs": [
        {
          "output_type": "stream",
          "text": [
            "Test Loss: 0.30780918383970857 | Test Accuracy: 89.99%\n"
          ],
          "name": "stdout"
        }
      ]
    },
    {
      "metadata": {
        "id": "xBqqHjZrnDFP",
        "colab_type": "text"
      },
      "cell_type": "markdown",
      "source": [
        "### 8 tentativa Accuracy: 91.16%"
      ]
    },
    {
      "metadata": {
        "colab_type": "text",
        "id": "3Qg1zWbo5W6V"
      },
      "cell_type": "markdown",
      "source": [
        "Modelo adaptado do **Lucas Albertins**\n",
        "\n",
        "*   Função **Adadelta** para compilação\n"
      ]
    },
    {
      "metadata": {
        "colab_type": "code",
        "id": "MvjKH9LWpGsi",
        "colab": {}
      },
      "cell_type": "code",
      "source": [
        "from keras.layers import Conv2D, MaxPooling2D, GlobalMaxPooling2D, BatchNormalization\n",
        "from keras.regularizers import l2\n",
        "from keras.optimizers import Adadelta\n",
        "\n",
        "model = Sequential()\n",
        "\n",
        "model.add(Conv2D(32, (3, 3), activation='relu', kernel_regularizer=l2(1e-4), \n",
        "                 input_shape=(None, None, 3)))\n",
        "model.add(BatchNormalization())\n",
        "model.add(Conv2D(32, (3, 3), activation='relu', kernel_regularizer=l2(1e-4)))\n",
        "model.add(BatchNormalization())\n",
        "model.add(MaxPooling2D((2, 2)))\n",
        "model.add(Dropout(0.25))\n",
        "\n",
        "model.add(Conv2D(64, (3, 3), activation='relu', kernel_regularizer=l2(1e-4)))\n",
        "model.add(BatchNormalization())\n",
        "model.add(Conv2D(64, (3, 3), activation='relu', kernel_regularizer=l2(1e-4)))\n",
        "model.add(BatchNormalization())\n",
        "model.add(MaxPooling2D((2, 2)))\n",
        "model.add(Dropout(0.25))\n",
        "\n",
        "model.add(Conv2D(128, (1,1), kernel_regularizer=l2(1e-4)))\n",
        "model.add(GlobalMaxPooling2D())\n",
        "\n",
        "model.add(Dense(256, activation='relu', kernel_regularizer=l2(1e-4)))\n",
        "model.add(Dropout(0.5))\n",
        "model.add(Dense(2, activation='sigmoid', kernel_regularizer=l2(1e-4)))"
      ],
      "execution_count": 0,
      "outputs": []
    },
    {
      "metadata": {
        "colab_type": "code",
        "id": "civjmdynpGsy",
        "colab": {}
      },
      "cell_type": "code",
      "source": [
        "model.compile(Adadelta(lr=1.0, rho=0.95, epsilon=None, decay=0.0), \n",
        "              loss='binary_crossentropy', metrics=['accuracy'])"
      ],
      "execution_count": 0,
      "outputs": []
    },
    {
      "metadata": {
        "colab_type": "code",
        "id": "X2jVqVfE5iN7",
        "colab": {}
      },
      "cell_type": "code",
      "source": [
        "checkpointer = ModelCheckpoint(filepath='weights_architecture_8.hdf5', verbose=1, save_best_only=True)"
      ],
      "execution_count": 0,
      "outputs": []
    },
    {
      "metadata": {
        "colab_type": "code",
        "id": "w7LbZJly5iOF",
        "colab": {
          "base_uri": "https://localhost:8080/",
          "height": 3690
        },
        "outputId": "b9d1e6ac-dea2-43f5-99d9-04b86721f41f"
      },
      "cell_type": "code",
      "source": [
        "training = model.fit_generator(train_batches, steps_per_epoch=stepsPerEpoche, \n",
        "                   validation_data=validation_batches, validation_steps=validationSteps,\n",
        "                   epochs=50, verbose=2, callbacks=[checkpointer])"
      ],
      "execution_count": 44,
      "outputs": [
        {
          "output_type": "stream",
          "text": [
            "Epoch 1/50\n",
            " - 4s - loss: 1.7423 - acc: 0.6656 - val_loss: 0.8759 - val_acc: 0.5521\n",
            "\n",
            "Epoch 00001: val_loss improved from inf to 0.87590, saving model to weights_architecture_8.hdf5\n",
            "Epoch 2/50\n",
            " - 1s - loss: 1.0613 - acc: 0.6906 - val_loss: 0.5597 - val_acc: 0.7656\n",
            "\n",
            "Epoch 00002: val_loss improved from 0.87590 to 0.55966, saving model to weights_architecture_8.hdf5\n",
            "Epoch 3/50\n",
            " - 1s - loss: 0.6809 - acc: 0.7672 - val_loss: 0.5113 - val_acc: 0.8229\n",
            "\n",
            "Epoch 00003: val_loss improved from 0.55966 to 0.51126, saving model to weights_architecture_8.hdf5\n",
            "Epoch 4/50\n",
            " - 1s - loss: 0.5601 - acc: 0.7531 - val_loss: 0.4771 - val_acc: 0.9115\n",
            "\n",
            "Epoch 00004: val_loss improved from 0.51126 to 0.47711, saving model to weights_architecture_8.hdf5\n",
            "Epoch 5/50\n",
            " - 1s - loss: 0.4149 - acc: 0.8328 - val_loss: 0.6418 - val_acc: 0.7708\n",
            "\n",
            "Epoch 00005: val_loss did not improve from 0.47711\n",
            "Epoch 6/50\n",
            " - 1s - loss: 0.5176 - acc: 0.8063 - val_loss: 0.5624 - val_acc: 0.7708\n",
            "\n",
            "Epoch 00006: val_loss did not improve from 0.47711\n",
            "Epoch 7/50\n",
            " - 1s - loss: 0.4395 - acc: 0.8406 - val_loss: 0.5245 - val_acc: 0.8021\n",
            "\n",
            "Epoch 00007: val_loss did not improve from 0.47711\n",
            "Epoch 8/50\n",
            " - 1s - loss: 0.3795 - acc: 0.8469 - val_loss: 0.3450 - val_acc: 0.8646\n",
            "\n",
            "Epoch 00008: val_loss improved from 0.47711 to 0.34500, saving model to weights_architecture_8.hdf5\n",
            "Epoch 9/50\n",
            " - 1s - loss: 0.3857 - acc: 0.8688 - val_loss: 0.3481 - val_acc: 0.9115\n",
            "\n",
            "Epoch 00009: val_loss did not improve from 0.34500\n",
            "Epoch 10/50\n",
            " - 1s - loss: 0.3454 - acc: 0.8703 - val_loss: 0.3778 - val_acc: 0.9010\n",
            "\n",
            "Epoch 00010: val_loss did not improve from 0.34500\n",
            "Epoch 11/50\n",
            " - 1s - loss: 0.3960 - acc: 0.8562 - val_loss: 0.4250 - val_acc: 0.8854\n",
            "\n",
            "Epoch 00011: val_loss did not improve from 0.34500\n",
            "Epoch 12/50\n",
            " - 1s - loss: 0.3907 - acc: 0.8453 - val_loss: 0.3428 - val_acc: 0.8854\n",
            "\n",
            "Epoch 00012: val_loss improved from 0.34500 to 0.34284, saving model to weights_architecture_8.hdf5\n",
            "Epoch 13/50\n",
            " - 1s - loss: 0.4106 - acc: 0.8219 - val_loss: 0.4121 - val_acc: 0.9115\n",
            "\n",
            "Epoch 00013: val_loss did not improve from 0.34284\n",
            "Epoch 14/50\n",
            " - 1s - loss: 0.3610 - acc: 0.8584 - val_loss: 0.4185 - val_acc: 0.8646\n",
            "\n",
            "Epoch 00014: val_loss did not improve from 0.34284\n",
            "Epoch 15/50\n",
            " - 1s - loss: 0.3126 - acc: 0.8656 - val_loss: 0.3886 - val_acc: 0.9271\n",
            "\n",
            "Epoch 00015: val_loss did not improve from 0.34284\n",
            "Epoch 16/50\n",
            " - 1s - loss: 0.4067 - acc: 0.8375 - val_loss: 0.3745 - val_acc: 0.8646\n",
            "\n",
            "Epoch 00016: val_loss did not improve from 0.34284\n",
            "Epoch 17/50\n",
            " - 1s - loss: 0.3577 - acc: 0.8609 - val_loss: 0.3236 - val_acc: 0.8750\n",
            "\n",
            "Epoch 00017: val_loss improved from 0.34284 to 0.32364, saving model to weights_architecture_8.hdf5\n",
            "Epoch 18/50\n",
            " - 1s - loss: 0.3439 - acc: 0.8625 - val_loss: 0.3382 - val_acc: 0.9323\n",
            "\n",
            "Epoch 00018: val_loss did not improve from 0.32364\n",
            "Epoch 19/50\n",
            " - 1s - loss: 0.3552 - acc: 0.8500 - val_loss: 0.3572 - val_acc: 0.9122\n",
            "\n",
            "Epoch 00019: val_loss did not improve from 0.32364\n",
            "Epoch 20/50\n",
            " - 1s - loss: 0.3440 - acc: 0.8453 - val_loss: 0.3613 - val_acc: 0.8854\n",
            "\n",
            "Epoch 00020: val_loss did not improve from 0.32364\n",
            "Epoch 21/50\n",
            " - 1s - loss: 0.3268 - acc: 0.8906 - val_loss: 0.2814 - val_acc: 0.9427\n",
            "\n",
            "Epoch 00021: val_loss improved from 0.32364 to 0.28140, saving model to weights_architecture_8.hdf5\n",
            "Epoch 22/50\n",
            " - 1s - loss: 0.3991 - acc: 0.8516 - val_loss: 0.3643 - val_acc: 0.8438\n",
            "\n",
            "Epoch 00022: val_loss did not improve from 0.28140\n",
            "Epoch 23/50\n",
            " - 1s - loss: 0.3101 - acc: 0.8828 - val_loss: 0.3016 - val_acc: 0.9167\n",
            "\n",
            "Epoch 00023: val_loss did not improve from 0.28140\n",
            "Epoch 24/50\n",
            " - 1s - loss: 0.2991 - acc: 0.8859 - val_loss: 0.4040 - val_acc: 0.8646\n",
            "\n",
            "Epoch 00024: val_loss did not improve from 0.28140\n",
            "Epoch 25/50\n",
            " - 1s - loss: 0.2726 - acc: 0.8984 - val_loss: 0.5487 - val_acc: 0.7760\n",
            "\n",
            "Epoch 00025: val_loss did not improve from 0.28140\n",
            "Epoch 26/50\n",
            " - 1s - loss: 0.4444 - acc: 0.8469 - val_loss: 0.4771 - val_acc: 0.8750\n",
            "\n",
            "Epoch 00026: val_loss did not improve from 0.28140\n",
            "Epoch 27/50\n",
            " - 1s - loss: 0.3466 - acc: 0.8922 - val_loss: 0.3744 - val_acc: 0.8490\n",
            "\n",
            "Epoch 00027: val_loss did not improve from 0.28140\n",
            "Epoch 28/50\n",
            " - 1s - loss: 0.3066 - acc: 0.8938 - val_loss: 0.3627 - val_acc: 0.8594\n",
            "\n",
            "Epoch 00028: val_loss did not improve from 0.28140\n",
            "Epoch 29/50\n",
            " - 1s - loss: 0.3963 - acc: 0.8594 - val_loss: 0.4407 - val_acc: 0.9271\n",
            "\n",
            "Epoch 00029: val_loss did not improve from 0.28140\n",
            "Epoch 30/50\n",
            " - 1s - loss: 0.2767 - acc: 0.8984 - val_loss: 0.3821 - val_acc: 0.8594\n",
            "\n",
            "Epoch 00030: val_loss did not improve from 0.28140\n",
            "Epoch 31/50\n",
            " - 1s - loss: 0.2761 - acc: 0.8984 - val_loss: 0.3812 - val_acc: 0.9062\n",
            "\n",
            "Epoch 00031: val_loss did not improve from 0.28140\n",
            "Epoch 32/50\n",
            " - 1s - loss: 0.3424 - acc: 0.8812 - val_loss: 0.3596 - val_acc: 0.9010\n",
            "\n",
            "Epoch 00032: val_loss did not improve from 0.28140\n",
            "Epoch 33/50\n",
            " - 1s - loss: 0.3293 - acc: 0.8984 - val_loss: 0.4472 - val_acc: 0.8854\n",
            "\n",
            "Epoch 00033: val_loss did not improve from 0.28140\n",
            "Epoch 34/50\n",
            " - 1s - loss: 0.2681 - acc: 0.9234 - val_loss: 0.4315 - val_acc: 0.8646\n",
            "\n",
            "Epoch 00034: val_loss did not improve from 0.28140\n",
            "Epoch 35/50\n",
            " - 1s - loss: 0.2488 - acc: 0.9062 - val_loss: 0.2105 - val_acc: 0.9583\n",
            "\n",
            "Epoch 00035: val_loss improved from 0.28140 to 0.21050, saving model to weights_architecture_8.hdf5\n",
            "Epoch 36/50\n",
            " - 1s - loss: 0.3012 - acc: 0.8828 - val_loss: 0.3062 - val_acc: 0.9219\n",
            "\n",
            "Epoch 00036: val_loss did not improve from 0.21050\n",
            "Epoch 37/50\n",
            " - 1s - loss: 0.3461 - acc: 0.8562 - val_loss: 0.4142 - val_acc: 0.8490\n",
            "\n",
            "Epoch 00037: val_loss did not improve from 0.21050\n",
            "Epoch 38/50\n",
            " - 1s - loss: 0.3686 - acc: 0.8641 - val_loss: 0.3037 - val_acc: 0.9167\n",
            "\n",
            "Epoch 00038: val_loss did not improve from 0.21050\n",
            "Epoch 39/50\n",
            " - 1s - loss: 0.3542 - acc: 0.8656 - val_loss: 0.3611 - val_acc: 0.9062\n",
            "\n",
            "Epoch 00039: val_loss did not improve from 0.21050\n",
            "Epoch 40/50\n",
            " - 1s - loss: 0.3268 - acc: 0.8828 - val_loss: 0.3483 - val_acc: 0.9062\n",
            "\n",
            "Epoch 00040: val_loss did not improve from 0.21050\n",
            "Epoch 41/50\n",
            " - 1s - loss: 0.3480 - acc: 0.8844 - val_loss: 0.4175 - val_acc: 0.8177\n",
            "\n",
            "Epoch 00041: val_loss did not improve from 0.21050\n",
            "Epoch 42/50\n",
            " - 1s - loss: 0.2650 - acc: 0.9187 - val_loss: 0.4062 - val_acc: 0.7656\n",
            "\n",
            "Epoch 00042: val_loss did not improve from 0.21050\n",
            "Epoch 43/50\n",
            " - 1s - loss: 0.3957 - acc: 0.8578 - val_loss: 0.3627 - val_acc: 0.8542\n",
            "\n",
            "Epoch 00043: val_loss did not improve from 0.21050\n",
            "Epoch 44/50\n",
            " - 1s - loss: 0.2350 - acc: 0.9260 - val_loss: 0.2279 - val_acc: 0.9271\n",
            "\n",
            "Epoch 00044: val_loss did not improve from 0.21050\n",
            "Epoch 45/50\n",
            " - 1s - loss: 0.3373 - acc: 0.8922 - val_loss: 0.4360 - val_acc: 0.8108\n",
            "\n",
            "Epoch 00045: val_loss did not improve from 0.21050\n",
            "Epoch 46/50\n",
            " - 1s - loss: 0.3249 - acc: 0.8922 - val_loss: 0.2610 - val_acc: 0.9531\n",
            "\n",
            "Epoch 00046: val_loss did not improve from 0.21050\n",
            "Epoch 47/50\n",
            " - 1s - loss: 0.3036 - acc: 0.8859 - val_loss: 0.3230 - val_acc: 0.8854\n",
            "\n",
            "Epoch 00047: val_loss did not improve from 0.21050\n",
            "Epoch 48/50\n",
            " - 1s - loss: 0.2912 - acc: 0.9125 - val_loss: 0.2918 - val_acc: 0.8750\n",
            "\n",
            "Epoch 00048: val_loss did not improve from 0.21050\n",
            "Epoch 49/50\n",
            " - 1s - loss: 0.2781 - acc: 0.9172 - val_loss: 0.4105 - val_acc: 0.8698\n",
            "\n",
            "Epoch 00049: val_loss did not improve from 0.21050\n",
            "Epoch 50/50\n",
            " - 1s - loss: 0.3306 - acc: 0.8984 - val_loss: 0.4296 - val_acc: 0.8385\n",
            "\n",
            "Epoch 00050: val_loss did not improve from 0.21050\n"
          ],
          "name": "stdout"
        }
      ]
    },
    {
      "metadata": {
        "colab_type": "code",
        "id": "h8cGfOxz5iOR",
        "colab": {
          "base_uri": "https://localhost:8080/",
          "height": 380
        },
        "outputId": "0c37a9e3-9dd3-4c72-82d2-06f44f6f276e"
      },
      "cell_type": "code",
      "source": [
        "# plotar loss e accuracy para os datasets 'train' e 'test'\n",
        "plt.style.use(\"ggplot\")\n",
        "plt.figure()\n",
        "plt.plot(training.history['acc'], label='Accuracy')\n",
        "plt.plot(training.history['loss'], label='Loss')\n",
        "plt.xlabel('Epochs')\n",
        "plt.ylabel('Accuracy')\n",
        "plt.title(\"Training Loss and Accuracy\")\n",
        "plt.ylabel(\"Loss/Accuracy\")\n",
        "plt.legend()\n",
        "plt.savefig('architecture_8.png', bbox_inches='tight')"
      ],
      "execution_count": 45,
      "outputs": [
        {
          "output_type": "display_data",
          "data": {
            "image/png": "[encoded data removed]",
            "text/plain": [
              "<matplotlib.figure.Figure at 0x7f0f98ce4cf8>"
            ]
          },
          "metadata": {
            "tags": []
          }
        }
      ]
    },
    {
      "metadata": {
        "colab_type": "code",
        "id": "EfQMTY5Z5iOW",
        "colab": {}
      },
      "cell_type": "code",
      "source": [
        "model.load_weights('weights_architecture_8.hdf5')"
      ],
      "execution_count": 0,
      "outputs": []
    },
    {
      "metadata": {
        "colab_type": "code",
        "id": "Zmtm1Uga5iOb",
        "colab": {
          "base_uri": "https://localhost:8080/",
          "height": 35
        },
        "outputId": "44d4a768-ec3e-47ed-e1c1-c077ec6e3dcf"
      },
      "cell_type": "code",
      "source": [
        "results['architecture_8'] = model.evaluate_generator(test_batches, steps=bSize, use_multiprocessing=True, verbose=1)"
      ],
      "execution_count": 47,
      "outputs": [
        {
          "output_type": "stream",
          "text": [
            "32/32 [==============================] - 37s 1s/step\n"
          ],
          "name": "stdout"
        }
      ]
    },
    {
      "metadata": {
        "colab_type": "code",
        "id": "ry8LV6fw5iOf",
        "colab": {
          "base_uri": "https://localhost:8080/",
          "height": 35
        },
        "outputId": "7c2b0784-cb37-4c2b-a685-bf7d3e6f8a6d"
      },
      "cell_type": "code",
      "source": [
        "print('Test Loss: {} | Test Accuracy: {:.2f}%'.format(results['architecture_8'][0], 100 * results['architecture_8'][1]))"
      ],
      "execution_count": 48,
      "outputs": [
        {
          "output_type": "stream",
          "text": [
            "Test Loss: 0.27826320473104715 | Test Accuracy: 91.16%\n"
          ],
          "name": "stdout"
        }
      ]
    },
    {
      "metadata": {
        "id": "csBCokNgxgbn",
        "colab_type": "text"
      },
      "cell_type": "markdown",
      "source": [
        "### 9 tentativa Accuracy: 70.02%"
      ]
    },
    {
      "metadata": {
        "colab_type": "text",
        "id": "qLtNH8xk63El"
      },
      "cell_type": "markdown",
      "source": [
        "Modelo adaptado do **Lucas Albertins**\n",
        "\n",
        "*   Função **SGD** para compilação\n"
      ]
    },
    {
      "metadata": {
        "colab_type": "code",
        "id": "EJjS6pK1xj1f",
        "colab": {}
      },
      "cell_type": "code",
      "source": [
        "from keras.layers import Conv2D, MaxPooling2D, GlobalMaxPooling2D, BatchNormalization\n",
        "from keras.regularizers import l2\n",
        "\n",
        "model = Sequential()\n",
        "\n",
        "model.add(Conv2D(32, (3, 3), activation='relu', kernel_regularizer=l2(1e-4), \n",
        "                 input_shape=(None, None, 3)))\n",
        "model.add(BatchNormalization())\n",
        "model.add(Conv2D(32, (3, 3), activation='relu', kernel_regularizer=l2(1e-4)))\n",
        "model.add(BatchNormalization())\n",
        "model.add(MaxPooling2D((2, 2)))\n",
        "model.add(Dropout(0.25))\n",
        "\n",
        "model.add(Conv2D(64, (3, 3), activation='relu', kernel_regularizer=l2(1e-4)))\n",
        "model.add(BatchNormalization())\n",
        "model.add(Conv2D(64, (3, 3), activation='relu', kernel_regularizer=l2(1e-4)))\n",
        "model.add(BatchNormalization())\n",
        "model.add(MaxPooling2D((2, 2)))\n",
        "model.add(Dropout(0.25))\n",
        "\n",
        "model.add(Conv2D(128, (1,1), kernel_regularizer=l2(1e-4)))\n",
        "model.add(GlobalMaxPooling2D())\n",
        "\n",
        "model.add(Dense(256, activation='relu', kernel_regularizer=l2(1e-4)))\n",
        "model.add(Dropout(0.5))\n",
        "model.add(Dense(2, activation='sigmoid', kernel_regularizer=l2(1e-4)))"
      ],
      "execution_count": 0,
      "outputs": []
    },
    {
      "metadata": {
        "colab_type": "code",
        "id": "9ezdguEZxsWT",
        "colab": {}
      },
      "cell_type": "code",
      "source": [
        "model.compile(SGD(lr=0.03, momentum=0.0, decay=0.0, nesterov=False), \n",
        "              loss='binary_crossentropy', metrics=['accuracy'])"
      ],
      "execution_count": 0,
      "outputs": []
    },
    {
      "metadata": {
        "colab_type": "code",
        "id": "yADpSLiz6XOs",
        "colab": {}
      },
      "cell_type": "code",
      "source": [
        "checkpointer = ModelCheckpoint(filepath='weights_architecture_9.hdf5', verbose=1, save_best_only=True)"
      ],
      "execution_count": 0,
      "outputs": []
    },
    {
      "metadata": {
        "colab_type": "code",
        "id": "6jYgi71R6XO2",
        "colab": {
          "base_uri": "https://localhost:8080/",
          "height": 3690
        },
        "outputId": "21d59ac2-9b9f-4406-f4a5-a294b1bc2205"
      },
      "cell_type": "code",
      "source": [
        "training = model.fit_generator(train_batches, steps_per_epoch=stepsPerEpoche, \n",
        "                   validation_data=validation_batches, validation_steps=validationSteps,\n",
        "                   epochs=50, verbose=2, callbacks=[checkpointer])"
      ],
      "execution_count": 52,
      "outputs": [
        {
          "output_type": "stream",
          "text": [
            "Epoch 1/50\n",
            " - 4s - loss: 3.2175 - acc: 0.7641 - val_loss: 3.9612 - val_acc: 0.7604\n",
            "\n",
            "Epoch 00001: val_loss improved from inf to 3.96121, saving model to weights_architecture_9.hdf5\n",
            "Epoch 2/50\n",
            " - 1s - loss: 3.0784 - acc: 0.8063 - val_loss: 3.4583 - val_acc: 0.7917\n",
            "\n",
            "Epoch 00002: val_loss improved from 3.96121 to 3.45828, saving model to weights_architecture_9.hdf5\n",
            "Epoch 3/50\n",
            " - 1s - loss: 3.2974 - acc: 0.7969 - val_loss: 3.8220 - val_acc: 0.7708\n",
            "\n",
            "Epoch 00003: val_loss did not improve from 3.45828\n",
            "Epoch 4/50\n",
            " - 1s - loss: 3.3582 - acc: 0.7875 - val_loss: 3.6821 - val_acc: 0.7031\n",
            "\n",
            "Epoch 00004: val_loss did not improve from 3.45828\n",
            "Epoch 5/50\n",
            " - 1s - loss: 3.6487 - acc: 0.7750 - val_loss: 3.8689 - val_acc: 0.5833\n",
            "\n",
            "Epoch 00005: val_loss did not improve from 3.45828\n",
            "Epoch 6/50\n",
            " - 1s - loss: 3.2983 - acc: 0.7969 - val_loss: 4.3621 - val_acc: 0.5521\n",
            "\n",
            "Epoch 00006: val_loss did not improve from 3.45828\n",
            "Epoch 7/50\n",
            " - 1s - loss: 3.8491 - acc: 0.7625 - val_loss: 4.3274 - val_acc: 0.5938\n",
            "\n",
            "Epoch 00007: val_loss did not improve from 3.45828\n",
            "Epoch 8/50\n",
            " - 1s - loss: 3.1644 - acc: 0.8031 - val_loss: 3.9819 - val_acc: 0.6250\n",
            "\n",
            "Epoch 00008: val_loss did not improve from 3.45828\n",
            "Epoch 9/50\n",
            " - 1s - loss: 3.3980 - acc: 0.7906 - val_loss: 4.4723 - val_acc: 0.6042\n",
            "\n",
            "Epoch 00009: val_loss did not improve from 3.45828\n",
            "Epoch 10/50\n",
            " - 1s - loss: 3.7120 - acc: 0.7688 - val_loss: 2.4193 - val_acc: 0.5938\n",
            "\n",
            "Epoch 00010: val_loss improved from 3.45828 to 2.41925, saving model to weights_architecture_9.hdf5\n",
            "Epoch 11/50\n",
            " - 1s - loss: 3.1975 - acc: 0.8031 - val_loss: 3.1928 - val_acc: 0.6146\n",
            "\n",
            "Epoch 00011: val_loss did not improve from 2.41925\n",
            "Epoch 12/50\n",
            " - 1s - loss: 2.9475 - acc: 0.8187 - val_loss: 3.9878 - val_acc: 0.6146\n",
            "\n",
            "Epoch 00012: val_loss did not improve from 2.41925\n",
            "Epoch 13/50\n",
            " - 1s - loss: 2.9468 - acc: 0.8187 - val_loss: 2.8184 - val_acc: 0.6875\n",
            "\n",
            "Epoch 00013: val_loss did not improve from 2.41925\n",
            "Epoch 14/50\n",
            " - 1s - loss: 4.0848 - acc: 0.7438 - val_loss: 3.4733 - val_acc: 0.6771\n",
            "\n",
            "Epoch 00014: val_loss did not improve from 2.41925\n",
            "Epoch 15/50\n",
            " - 1s - loss: 3.5490 - acc: 0.7812 - val_loss: 3.7078 - val_acc: 0.5833\n",
            "\n",
            "Epoch 00015: val_loss did not improve from 2.41925\n",
            "Epoch 16/50\n",
            " - 1s - loss: 3.1476 - acc: 0.8063 - val_loss: 3.0799 - val_acc: 0.5729\n",
            "\n",
            "Epoch 00016: val_loss did not improve from 2.41925\n",
            "Epoch 17/50\n",
            " - 1s - loss: 3.0476 - acc: 0.8125 - val_loss: 4.3466 - val_acc: 0.5729\n",
            "\n",
            "Epoch 00017: val_loss did not improve from 2.41925\n",
            "Epoch 18/50\n",
            " - 1s - loss: 3.2480 - acc: 0.8000 - val_loss: 2.3761 - val_acc: 0.6622\n",
            "\n",
            "Epoch 00018: val_loss improved from 2.41925 to 2.37615, saving model to weights_architecture_9.hdf5\n",
            "Epoch 19/50\n",
            " - 1s - loss: 4.0492 - acc: 0.7500 - val_loss: 3.5725 - val_acc: 0.5521\n",
            "\n",
            "Epoch 00019: val_loss did not improve from 2.37615\n",
            "Epoch 20/50\n",
            " - 1s - loss: 4.0197 - acc: 0.7500 - val_loss: 3.3664 - val_acc: 0.7031\n",
            "\n",
            "Epoch 00020: val_loss did not improve from 2.37615\n",
            "Epoch 21/50\n",
            " - 1s - loss: 3.1477 - acc: 0.8063 - val_loss: 3.9602 - val_acc: 0.7083\n",
            "\n",
            "Epoch 00021: val_loss did not improve from 2.37615\n",
            "Epoch 22/50\n",
            " - 1s - loss: 3.3980 - acc: 0.7906 - val_loss: 2.5101 - val_acc: 0.6771\n",
            "\n",
            "Epoch 00022: val_loss did not improve from 2.37615\n",
            "Epoch 23/50\n",
            " - 1s - loss: 3.8634 - acc: 0.7594 - val_loss: 4.3325 - val_acc: 0.6615\n",
            "\n",
            "Epoch 00023: val_loss did not improve from 2.37615\n",
            "Epoch 24/50\n",
            " - 1s - loss: 3.5988 - acc: 0.7781 - val_loss: 2.7970 - val_acc: 0.7188\n",
            "\n",
            "Epoch 00024: val_loss did not improve from 2.37615\n",
            "Epoch 25/50\n",
            " - 1s - loss: 3.3673 - acc: 0.7925 - val_loss: 3.1761 - val_acc: 0.6354\n",
            "\n",
            "Epoch 00025: val_loss did not improve from 2.37615\n",
            "Epoch 26/50\n",
            " - 1s - loss: 2.8972 - acc: 0.8219 - val_loss: 3.6521 - val_acc: 0.7083\n",
            "\n",
            "Epoch 00026: val_loss did not improve from 2.37615\n",
            "Epoch 27/50\n",
            " - 1s - loss: 3.0688 - acc: 0.8094 - val_loss: 3.6394 - val_acc: 0.6562\n",
            "\n",
            "Epoch 00027: val_loss did not improve from 2.37615\n",
            "Epoch 28/50\n",
            " - 1s - loss: 3.5670 - acc: 0.7781 - val_loss: 3.6587 - val_acc: 0.7083\n",
            "\n",
            "Epoch 00028: val_loss did not improve from 2.37615\n",
            "Epoch 29/50\n",
            " - 1s - loss: 3.5987 - acc: 0.7781 - val_loss: 4.8564 - val_acc: 0.6146\n",
            "\n",
            "Epoch 00029: val_loss did not improve from 2.37615\n",
            "Epoch 30/50\n",
            " - 1s - loss: 3.4477 - acc: 0.7875 - val_loss: 3.9811 - val_acc: 0.6927\n",
            "\n",
            "Epoch 00030: val_loss did not improve from 2.37615\n",
            "Epoch 31/50\n",
            " - 1s - loss: 3.7192 - acc: 0.7688 - val_loss: 2.8306 - val_acc: 0.6771\n",
            "\n",
            "Epoch 00031: val_loss did not improve from 2.37615\n",
            "Epoch 32/50\n",
            " - 1s - loss: 4.0170 - acc: 0.7500 - val_loss: 3.1580 - val_acc: 0.6667\n",
            "\n",
            "Epoch 00032: val_loss did not improve from 2.37615\n",
            "Epoch 33/50\n",
            " - 1s - loss: 2.9474 - acc: 0.8187 - val_loss: 3.3629 - val_acc: 0.6042\n",
            "\n",
            "Epoch 00033: val_loss did not improve from 2.37615\n",
            "Epoch 34/50\n",
            " - 1s - loss: 3.5501 - acc: 0.7750 - val_loss: 3.3634 - val_acc: 0.6146\n",
            "\n",
            "Epoch 00034: val_loss did not improve from 2.37615\n",
            "Epoch 35/50\n",
            " - 1s - loss: 3.0494 - acc: 0.8125 - val_loss: 3.9780 - val_acc: 0.6354\n",
            "\n",
            "Epoch 00035: val_loss did not improve from 2.37615\n",
            "Epoch 36/50\n",
            " - 1s - loss: 3.6996 - acc: 0.7719 - val_loss: 4.5634 - val_acc: 0.6042\n",
            "\n",
            "Epoch 00036: val_loss did not improve from 2.37615\n",
            "Epoch 37/50\n",
            " - 1s - loss: 3.3986 - acc: 0.7906 - val_loss: 3.5015 - val_acc: 0.7917\n",
            "\n",
            "Epoch 00037: val_loss did not improve from 2.37615\n",
            "Epoch 38/50\n",
            " - 1s - loss: 3.3487 - acc: 0.7937 - val_loss: 3.3190 - val_acc: 0.8021\n",
            "\n",
            "Epoch 00038: val_loss did not improve from 2.37615\n",
            "Epoch 39/50\n",
            " - 1s - loss: 3.7299 - acc: 0.7656 - val_loss: 3.1730 - val_acc: 0.6562\n",
            "\n",
            "Epoch 00039: val_loss did not improve from 2.37615\n",
            "Epoch 40/50\n",
            " - 1s - loss: 2.6979 - acc: 0.8344 - val_loss: 3.5127 - val_acc: 0.7031\n",
            "\n",
            "Epoch 00040: val_loss did not improve from 2.37615\n",
            "Epoch 41/50\n",
            " - 1s - loss: 3.6993 - acc: 0.7719 - val_loss: 5.2814 - val_acc: 0.6302\n",
            "\n",
            "Epoch 00041: val_loss did not improve from 2.37615\n",
            "Epoch 42/50\n",
            " - 1s - loss: 3.9993 - acc: 0.7531 - val_loss: 2.3067 - val_acc: 0.7917\n",
            "\n",
            "Epoch 00042: val_loss improved from 2.37615 to 2.30673, saving model to weights_architecture_9.hdf5\n",
            "Epoch 43/50\n",
            " - 1s - loss: 3.6988 - acc: 0.7719 - val_loss: 3.8306 - val_acc: 0.7703\n",
            "\n",
            "Epoch 00043: val_loss did not improve from 2.30673\n",
            "Epoch 44/50\n",
            " - 1s - loss: 3.1164 - acc: 0.8063 - val_loss: 4.1427 - val_acc: 0.6823\n",
            "\n",
            "Epoch 00044: val_loss did not improve from 2.30673\n",
            "Epoch 45/50\n",
            " - 1s - loss: 3.7309 - acc: 0.7656 - val_loss: 4.3045 - val_acc: 0.6250\n",
            "\n",
            "Epoch 00045: val_loss did not improve from 2.30673\n",
            "Epoch 46/50\n",
            " - 1s - loss: 3.1988 - acc: 0.8031 - val_loss: 2.8530 - val_acc: 0.6458\n",
            "\n",
            "Epoch 00046: val_loss did not improve from 2.30673\n",
            "Epoch 47/50\n",
            " - 1s - loss: 3.9491 - acc: 0.7562 - val_loss: 2.9657 - val_acc: 0.7083\n",
            "\n",
            "Epoch 00047: val_loss did not improve from 2.30673\n",
            "Epoch 48/50\n",
            " - 1s - loss: 3.4482 - acc: 0.7875 - val_loss: 4.4983 - val_acc: 0.5833\n",
            "\n",
            "Epoch 00048: val_loss did not improve from 2.30673\n",
            "Epoch 49/50\n",
            " - 1s - loss: 3.5986 - acc: 0.7781 - val_loss: 4.1880 - val_acc: 0.5625\n",
            "\n",
            "Epoch 00049: val_loss did not improve from 2.30673\n",
            "Epoch 50/50\n",
            " - 1s - loss: 3.3478 - acc: 0.7937 - val_loss: 3.9893 - val_acc: 0.6875\n",
            "\n",
            "Epoch 00050: val_loss did not improve from 2.30673\n"
          ],
          "name": "stdout"
        }
      ]
    },
    {
      "metadata": {
        "colab_type": "code",
        "id": "LDX_OBkO6XPB",
        "colab": {
          "base_uri": "https://localhost:8080/",
          "height": 380
        },
        "outputId": "e8a23c32-2e9d-4b00-f582-f7b0fe3bbcae"
      },
      "cell_type": "code",
      "source": [
        "# plotar loss e accuracy para os datasets 'train' e 'test'\n",
        "plt.style.use(\"ggplot\")\n",
        "plt.figure()\n",
        "plt.plot(training.history['acc'], label='Accuracy')\n",
        "plt.plot(training.history['loss'], label='Loss')\n",
        "plt.xlabel('Epochs')\n",
        "plt.ylabel('Accuracy')\n",
        "plt.title(\"Training Loss and Accuracy\")\n",
        "plt.ylabel(\"Loss/Accuracy\")\n",
        "plt.legend()\n",
        "plt.savefig('architecture_9.png', bbox_inches='tight')"
      ],
      "execution_count": 53,
      "outputs": [
        {
          "output_type": "display_data",
          "data": {
            "image/png": "[encoded data removed]",
            "text/plain": [
              "<matplotlib.figure.Figure at 0x7f0f97a45d30>"
            ]
          },
          "metadata": {
            "tags": []
          }
        }
      ]
    },
    {
      "metadata": {
        "colab_type": "code",
        "id": "2iYS0M_E6XPL",
        "colab": {}
      },
      "cell_type": "code",
      "source": [
        "model.load_weights('weights_architecture_9.hdf5')"
      ],
      "execution_count": 0,
      "outputs": []
    },
    {
      "metadata": {
        "colab_type": "code",
        "id": "Ui0MQtER6XPR",
        "colab": {
          "base_uri": "https://localhost:8080/",
          "height": 35
        },
        "outputId": "8946c80c-cd80-4284-fc38-8e575d7354f2"
      },
      "cell_type": "code",
      "source": [
        "results['architecture_9'] = model.evaluate_generator(test_batches, steps=bSize, use_multiprocessing=True, verbose=1)"
      ],
      "execution_count": 55,
      "outputs": [
        {
          "output_type": "stream",
          "text": [
            "32/32 [==============================] - 24s 741ms/step\n"
          ],
          "name": "stdout"
        }
      ]
    },
    {
      "metadata": {
        "colab_type": "code",
        "id": "XNL89Dbk6XPU",
        "colab": {
          "base_uri": "https://localhost:8080/",
          "height": 35
        },
        "outputId": "53aa52be-43f5-46a6-dbee-643de0df63ea"
      },
      "cell_type": "code",
      "source": [
        "print('Test Loss: {} | Test Accuracy: {:.2f}%'.format(results['architecture_9'][0], 100 * results['architecture_9'][1]))"
      ],
      "execution_count": 56,
      "outputs": [
        {
          "output_type": "stream",
          "text": [
            "Test Loss: 3.69662893936038 | Test Accuracy: 70.02%\n"
          ],
          "name": "stdout"
        }
      ]
    },
    {
      "metadata": {
        "id": "I_6RPRqZ0ooK",
        "colab_type": "text"
      },
      "cell_type": "markdown",
      "source": [
        "### 10 tentativa Accuracy: 91.70%"
      ]
    },
    {
      "metadata": {
        "colab_type": "text",
        "id": "drBpwd1s7PE3"
      },
      "cell_type": "markdown",
      "source": [
        "Modelo adaptado do **Lucas Albertins**\n",
        "\n",
        "*   Função **adam** para compilação\n",
        "*   Adicionado mais 2 camadas convolutivas"
      ]
    },
    {
      "metadata": {
        "colab_type": "code",
        "id": "6LGTLObK0u-Y",
        "colab": {}
      },
      "cell_type": "code",
      "source": [
        "from keras.layers import Conv2D, MaxPooling2D, GlobalMaxPooling2D, BatchNormalization\n",
        "from keras.regularizers import l2\n",
        "\n",
        "model = Sequential()\n",
        "\n",
        "model.add(Conv2D(32, (3, 3), activation='relu', kernel_regularizer=l2(1e-4), \n",
        "                 input_shape=(None, None, 3)))\n",
        "model.add(BatchNormalization())\n",
        "model.add(Conv2D(32, (3, 3), activation='relu', kernel_regularizer=l2(1e-4)))\n",
        "model.add(BatchNormalization())\n",
        "model.add(MaxPooling2D((2, 2)))\n",
        "model.add(Dropout(0.25))\n",
        "\n",
        "model.add(Conv2D(64, (3, 3), activation='relu', kernel_regularizer=l2(1e-4)))\n",
        "model.add(BatchNormalization())\n",
        "model.add(Conv2D(64, (3, 3), activation='relu', kernel_regularizer=l2(1e-4)))\n",
        "model.add(BatchNormalization())\n",
        "model.add(MaxPooling2D((2, 2)))\n",
        "model.add(Dropout(0.25))\n",
        "\n",
        "model.add(Conv2D(96, (3, 3),activation='relu', kernel_regularizer=l2(1e-4)))\n",
        "model.add(BatchNormalization())\n",
        "model.add(Conv2D(96, (3, 3),activation='relu', kernel_regularizer=l2(1e-4)))\n",
        "model.add(BatchNormalization())\n",
        "model.add(MaxPooling2D((2, 2)))\n",
        "model.add(Dropout(0.25))\n",
        "\n",
        "model.add(Conv2D(128, (1,1), kernel_regularizer=l2(1e-4)))\n",
        "model.add(GlobalMaxPooling2D())\n",
        "\n",
        "model.add(Dense(256, activation='relu', kernel_regularizer=l2(1e-4)))\n",
        "model.add(Dropout(0.5))\n",
        "model.add(Dense(2, activation='sigmoid', kernel_regularizer=l2(1e-4)))"
      ],
      "execution_count": 0,
      "outputs": []
    },
    {
      "metadata": {
        "colab_type": "code",
        "id": "vB92aUkR0u-p",
        "colab": {}
      },
      "cell_type": "code",
      "source": [
        "model.compile(optimizer='adam', loss='binary_crossentropy', metrics=['accuracy'])"
      ],
      "execution_count": 0,
      "outputs": []
    },
    {
      "metadata": {
        "colab_type": "code",
        "id": "AWaPDrSE7bLf",
        "colab": {}
      },
      "cell_type": "code",
      "source": [
        "checkpointer = ModelCheckpoint(filepath='weights_architecture_10.hdf5', verbose=1, save_best_only=True)"
      ],
      "execution_count": 0,
      "outputs": []
    },
    {
      "metadata": {
        "colab_type": "code",
        "id": "mUqvoI5Y7bLp",
        "colab": {
          "base_uri": "https://localhost:8080/",
          "height": 3690
        },
        "outputId": "bcc86ef1-c77c-4418-c818-fb4db9a3b3f8"
      },
      "cell_type": "code",
      "source": [
        "training = model.fit_generator(train_batches, steps_per_epoch=stepsPerEpoche, \n",
        "                   validation_data=validation_batches, validation_steps=validationSteps,\n",
        "                   epochs=50, verbose=2, callbacks=[checkpointer])"
      ],
      "execution_count": 60,
      "outputs": [
        {
          "output_type": "stream",
          "text": [
            "Epoch 1/50\n",
            " - 6s - loss: 1.1817 - acc: 0.6578 - val_loss: 0.6099 - val_acc: 0.7344\n",
            "\n",
            "Epoch 00001: val_loss improved from inf to 0.60993, saving model to weights_architecture_10.hdf5\n",
            "Epoch 2/50\n",
            " - 1s - loss: 0.7331 - acc: 0.7375 - val_loss: 0.4076 - val_acc: 0.8802\n",
            "\n",
            "Epoch 00002: val_loss improved from 0.60993 to 0.40765, saving model to weights_architecture_10.hdf5\n",
            "Epoch 3/50\n",
            " - 1s - loss: 0.4727 - acc: 0.8281 - val_loss: 0.5808 - val_acc: 0.8333\n",
            "\n",
            "Epoch 00003: val_loss did not improve from 0.40765\n",
            "Epoch 4/50\n",
            " - 1s - loss: 0.4102 - acc: 0.8516 - val_loss: 0.4266 - val_acc: 0.8385\n",
            "\n",
            "Epoch 00004: val_loss did not improve from 0.40765\n",
            "Epoch 5/50\n",
            " - 1s - loss: 0.4765 - acc: 0.8333 - val_loss: 0.4677 - val_acc: 0.8333\n",
            "\n",
            "Epoch 00005: val_loss did not improve from 0.40765\n",
            "Epoch 6/50\n",
            " - 1s - loss: 0.4438 - acc: 0.8328 - val_loss: 0.3796 - val_acc: 0.8802\n",
            "\n",
            "Epoch 00006: val_loss improved from 0.40765 to 0.37958, saving model to weights_architecture_10.hdf5\n",
            "Epoch 7/50\n",
            " - 1s - loss: 0.4222 - acc: 0.8219 - val_loss: 0.4413 - val_acc: 0.8385\n",
            "\n",
            "Epoch 00007: val_loss did not improve from 0.37958\n",
            "Epoch 8/50\n",
            " - 1s - loss: 0.4027 - acc: 0.8641 - val_loss: 0.4031 - val_acc: 0.9062\n",
            "\n",
            "Epoch 00008: val_loss did not improve from 0.37958\n",
            "Epoch 9/50\n",
            " - 1s - loss: 0.3552 - acc: 0.8828 - val_loss: 0.3596 - val_acc: 0.9219\n",
            "\n",
            "Epoch 00009: val_loss improved from 0.37958 to 0.35956, saving model to weights_architecture_10.hdf5\n",
            "Epoch 10/50\n",
            " - 1s - loss: 0.3177 - acc: 0.8578 - val_loss: 0.8653 - val_acc: 0.4688\n",
            "\n",
            "Epoch 00010: val_loss did not improve from 0.35956\n",
            "Epoch 11/50\n",
            " - 1s - loss: 0.3431 - acc: 0.8875 - val_loss: 1.1663 - val_acc: 0.2708\n",
            "\n",
            "Epoch 00011: val_loss did not improve from 0.35956\n",
            "Epoch 12/50\n",
            " - 1s - loss: 0.3594 - acc: 0.8625 - val_loss: 1.0779 - val_acc: 0.3906\n",
            "\n",
            "Epoch 00012: val_loss did not improve from 0.35956\n",
            "Epoch 13/50\n",
            " - 1s - loss: 0.3592 - acc: 0.8656 - val_loss: 0.4735 - val_acc: 0.8802\n",
            "\n",
            "Epoch 00013: val_loss did not improve from 0.35956\n",
            "Epoch 14/50\n",
            " - 1s - loss: 0.3137 - acc: 0.8969 - val_loss: 0.3965 - val_acc: 0.8646\n",
            "\n",
            "Epoch 00014: val_loss did not improve from 0.35956\n",
            "Epoch 15/50\n",
            " - 1s - loss: 0.3238 - acc: 0.8781 - val_loss: 0.3751 - val_acc: 0.8802\n",
            "\n",
            "Epoch 00015: val_loss did not improve from 0.35956\n",
            "Epoch 16/50\n",
            " - 1s - loss: 0.2845 - acc: 0.9031 - val_loss: 0.3729 - val_acc: 0.8716\n",
            "\n",
            "Epoch 00016: val_loss did not improve from 0.35956\n",
            "Epoch 17/50\n",
            " - 1s - loss: 0.2758 - acc: 0.9109 - val_loss: 0.2941 - val_acc: 0.8854\n",
            "\n",
            "Epoch 00017: val_loss improved from 0.35956 to 0.29412, saving model to weights_architecture_10.hdf5\n",
            "Epoch 18/50\n",
            " - 1s - loss: 0.3711 - acc: 0.8766 - val_loss: 0.2431 - val_acc: 0.9271\n",
            "\n",
            "Epoch 00018: val_loss improved from 0.29412 to 0.24313, saving model to weights_architecture_10.hdf5\n",
            "Epoch 19/50\n",
            " - 1s - loss: 0.2542 - acc: 0.9281 - val_loss: 0.2737 - val_acc: 0.9271\n",
            "\n",
            "Epoch 00019: val_loss did not improve from 0.24313\n",
            "Epoch 20/50\n",
            " - 1s - loss: 0.3455 - acc: 0.8734 - val_loss: 0.3748 - val_acc: 0.8802\n",
            "\n",
            "Epoch 00020: val_loss did not improve from 0.24313\n",
            "Epoch 21/50\n",
            " - 1s - loss: 0.2503 - acc: 0.9125 - val_loss: 0.3768 - val_acc: 0.8646\n",
            "\n",
            "Epoch 00021: val_loss did not improve from 0.24313\n",
            "Epoch 22/50\n",
            " - 1s - loss: 0.2656 - acc: 0.9141 - val_loss: 0.3314 - val_acc: 0.9219\n",
            "\n",
            "Epoch 00022: val_loss did not improve from 0.24313\n",
            "Epoch 23/50\n",
            " - 1s - loss: 0.2735 - acc: 0.9094 - val_loss: 0.3119 - val_acc: 0.9010\n",
            "\n",
            "Epoch 00023: val_loss did not improve from 0.24313\n",
            "Epoch 24/50\n",
            " - 1s - loss: 0.3489 - acc: 0.8594 - val_loss: 0.2560 - val_acc: 0.9375\n",
            "\n",
            "Epoch 00024: val_loss did not improve from 0.24313\n",
            "Epoch 25/50\n",
            " - 1s - loss: 0.2908 - acc: 0.9047 - val_loss: 0.2688 - val_acc: 0.9010\n",
            "\n",
            "Epoch 00025: val_loss did not improve from 0.24313\n",
            "Epoch 26/50\n",
            " - 1s - loss: 0.3185 - acc: 0.8969 - val_loss: 0.3319 - val_acc: 0.8542\n",
            "\n",
            "Epoch 00026: val_loss did not improve from 0.24313\n",
            "Epoch 27/50\n",
            " - 1s - loss: 0.2580 - acc: 0.9187 - val_loss: 0.1805 - val_acc: 0.9688\n",
            "\n",
            "Epoch 00027: val_loss improved from 0.24313 to 0.18050, saving model to weights_architecture_10.hdf5\n",
            "Epoch 28/50\n",
            " - 1s - loss: 0.2261 - acc: 0.9437 - val_loss: 0.3177 - val_acc: 0.8490\n",
            "\n",
            "Epoch 00028: val_loss did not improve from 0.18050\n",
            "Epoch 29/50\n",
            " - 1s - loss: 0.2796 - acc: 0.9187 - val_loss: 0.5454 - val_acc: 0.7604\n",
            "\n",
            "Epoch 00029: val_loss did not improve from 0.18050\n",
            "Epoch 30/50\n",
            " - 1s - loss: 0.3319 - acc: 0.8953 - val_loss: 0.4763 - val_acc: 0.6771\n",
            "\n",
            "Epoch 00030: val_loss did not improve from 0.18050\n",
            "Epoch 31/50\n",
            " - 1s - loss: 0.3154 - acc: 0.8766 - val_loss: 0.3749 - val_acc: 0.8958\n",
            "\n",
            "Epoch 00031: val_loss did not improve from 0.18050\n",
            "Epoch 32/50\n",
            " - 1s - loss: 0.2896 - acc: 0.9031 - val_loss: 0.3505 - val_acc: 0.9115\n",
            "\n",
            "Epoch 00032: val_loss did not improve from 0.18050\n",
            "Epoch 33/50\n",
            " - 1s - loss: 0.2530 - acc: 0.9187 - val_loss: 0.1933 - val_acc: 0.9479\n",
            "\n",
            "Epoch 00033: val_loss did not improve from 0.18050\n",
            "Epoch 34/50\n",
            " - 1s - loss: 0.2881 - acc: 0.9000 - val_loss: 0.2952 - val_acc: 0.9010\n",
            "\n",
            "Epoch 00034: val_loss did not improve from 0.18050\n",
            "Epoch 35/50\n",
            " - 1s - loss: 0.2931 - acc: 0.8844 - val_loss: 0.2051 - val_acc: 0.9323\n",
            "\n",
            "Epoch 00035: val_loss did not improve from 0.18050\n",
            "Epoch 36/50\n",
            " - 1s - loss: 0.2478 - acc: 0.9219 - val_loss: 0.3048 - val_acc: 0.8854\n",
            "\n",
            "Epoch 00036: val_loss did not improve from 0.18050\n",
            "Epoch 37/50\n",
            " - 1s - loss: 0.2380 - acc: 0.9328 - val_loss: 0.2492 - val_acc: 0.9271\n",
            "\n",
            "Epoch 00037: val_loss did not improve from 0.18050\n",
            "Epoch 38/50\n",
            " - 1s - loss: 0.2714 - acc: 0.9234 - val_loss: 0.3491 - val_acc: 0.8802\n",
            "\n",
            "Epoch 00038: val_loss did not improve from 0.18050\n",
            "Epoch 39/50\n",
            " - 1s - loss: 0.2482 - acc: 0.9281 - val_loss: 0.2224 - val_acc: 0.9219\n",
            "\n",
            "Epoch 00039: val_loss did not improve from 0.18050\n",
            "Epoch 40/50\n",
            " - 1s - loss: 0.2571 - acc: 0.9313 - val_loss: 0.2712 - val_acc: 0.9167\n",
            "\n",
            "Epoch 00040: val_loss did not improve from 0.18050\n",
            "Epoch 41/50\n",
            " - 1s - loss: 0.2460 - acc: 0.9313 - val_loss: 0.3822 - val_acc: 0.9167\n",
            "\n",
            "Epoch 00041: val_loss did not improve from 0.18050\n",
            "Epoch 42/50\n",
            " - 1s - loss: 0.2953 - acc: 0.9141 - val_loss: 0.4059 - val_acc: 0.7500\n",
            "\n",
            "Epoch 00042: val_loss did not improve from 0.18050\n",
            "Epoch 43/50\n",
            " - 1s - loss: 0.3163 - acc: 0.9016 - val_loss: 0.3741 - val_acc: 0.8385\n",
            "\n",
            "Epoch 00043: val_loss did not improve from 0.18050\n",
            "Epoch 44/50\n",
            " - 1s - loss: 0.2784 - acc: 0.9094 - val_loss: 0.4234 - val_acc: 0.8438\n",
            "\n",
            "Epoch 00044: val_loss did not improve from 0.18050\n",
            "Epoch 45/50\n",
            " - 1s - loss: 0.2483 - acc: 0.9172 - val_loss: 0.3141 - val_acc: 0.8698\n",
            "\n",
            "Epoch 00045: val_loss did not improve from 0.18050\n",
            "Epoch 46/50\n",
            " - 1s - loss: 0.2909 - acc: 0.9094 - val_loss: 0.2740 - val_acc: 0.9427\n",
            "\n",
            "Epoch 00046: val_loss did not improve from 0.18050\n",
            "Epoch 47/50\n",
            " - 1s - loss: 0.2624 - acc: 0.8984 - val_loss: 0.3126 - val_acc: 0.9010\n",
            "\n",
            "Epoch 00047: val_loss did not improve from 0.18050\n",
            "Epoch 48/50\n",
            " - 1s - loss: 0.2770 - acc: 0.9094 - val_loss: 0.3189 - val_acc: 0.8542\n",
            "\n",
            "Epoch 00048: val_loss did not improve from 0.18050\n",
            "Epoch 49/50\n",
            " - 1s - loss: 0.2945 - acc: 0.9062 - val_loss: 0.3383 - val_acc: 0.8125\n",
            "\n",
            "Epoch 00049: val_loss did not improve from 0.18050\n",
            "Epoch 50/50\n",
            " - 1s - loss: 0.3061 - acc: 0.9047 - val_loss: 0.2438 - val_acc: 0.9115\n",
            "\n",
            "Epoch 00050: val_loss did not improve from 0.18050\n"
          ],
          "name": "stdout"
        }
      ]
    },
    {
      "metadata": {
        "colab_type": "code",
        "id": "c3-AMkkg7bLw",
        "colab": {
          "base_uri": "https://localhost:8080/",
          "height": 380
        },
        "outputId": "f604418d-9b0f-4684-c2d3-5d0d9b2720c6"
      },
      "cell_type": "code",
      "source": [
        "# plotar loss e accuracy para os datasets 'train' e 'test'\n",
        "plt.style.use(\"ggplot\")\n",
        "plt.figure()\n",
        "plt.plot(training.history['acc'], label='Accuracy')\n",
        "plt.plot(training.history['loss'], label='Loss')\n",
        "plt.xlabel('Epochs')\n",
        "plt.ylabel('Accuracy')\n",
        "plt.title(\"Training Loss and Accuracy\")\n",
        "plt.ylabel(\"Loss/Accuracy\")\n",
        "plt.legend()\n",
        "plt.savefig('architecture_10.png', bbox_inches='tight')"
      ],
      "execution_count": 61,
      "outputs": [
        {
          "output_type": "display_data",
          "data": {
            "image/png": "[encoded data removed]",
            "text/plain": [
              "<matplotlib.figure.Figure at 0x7f0f9c2146a0>"
            ]
          },
          "metadata": {
            "tags": []
          }
        }
      ]
    },
    {
      "metadata": {
        "colab_type": "code",
        "id": "qpPONEiQ7bMB",
        "colab": {}
      },
      "cell_type": "code",
      "source": [
        "model.load_weights('weights_architecture_10.hdf5')"
      ],
      "execution_count": 0,
      "outputs": []
    },
    {
      "metadata": {
        "colab_type": "code",
        "id": "2QghQZHo7bMG",
        "colab": {
          "base_uri": "https://localhost:8080/",
          "height": 35
        },
        "outputId": "e6542e3e-cdf8-4e4a-a5a1-9b6837d0351b"
      },
      "cell_type": "code",
      "source": [
        "results['architecture_10'] = model.evaluate_generator(test_batches, steps=bSize, use_multiprocessing=True, verbose=1)"
      ],
      "execution_count": 63,
      "outputs": [
        {
          "output_type": "stream",
          "text": [
            "32/32 [==============================] - 14s 437ms/step\n"
          ],
          "name": "stdout"
        }
      ]
    },
    {
      "metadata": {
        "colab_type": "code",
        "id": "QaQ-aTxU7bMJ",
        "colab": {
          "base_uri": "https://localhost:8080/",
          "height": 35
        },
        "outputId": "ea5f9d6e-ac5b-4e71-d1e6-1b5450eb569e"
      },
      "cell_type": "code",
      "source": [
        "print('Test Loss: {} | Test Accuracy: {:.2f}%'.format(results['architecture_10'][0], 100 * results['architecture_10'][1]))"
      ],
      "execution_count": 64,
      "outputs": [
        {
          "output_type": "stream",
          "text": [
            "Test Loss: 0.29190240101888776 | Test Accuracy: 91.70%\n"
          ],
          "name": "stdout"
        }
      ]
    },
    {
      "metadata": {
        "id": "t-JuICq46CWp",
        "colab_type": "text"
      },
      "cell_type": "markdown",
      "source": [
        "### 11 tentativa Accuracy: 82.03%"
      ]
    },
    {
      "metadata": {
        "colab_type": "text",
        "id": "MdaiMXVY8RWc"
      },
      "cell_type": "markdown",
      "source": [
        "Modelo adaptado do **Lucas Albertins**\n",
        "\n",
        "*   Função **SGD** para compilação\n",
        "*   Adicionado mais 2 camadas convolutivas"
      ]
    },
    {
      "metadata": {
        "colab_type": "code",
        "id": "vLy1nlhs6HHL",
        "colab": {}
      },
      "cell_type": "code",
      "source": [
        "from keras.layers import Conv2D, MaxPooling2D, GlobalMaxPooling2D, BatchNormalization\n",
        "from keras.regularizers import l2\n",
        "\n",
        "model = Sequential()\n",
        "\n",
        "model.add(Conv2D(32, (3, 3), activation='relu', kernel_regularizer=l2(1e-4), \n",
        "                 input_shape=(None, None, 3)))\n",
        "model.add(BatchNormalization())\n",
        "model.add(Conv2D(32, (3, 3), activation='relu', kernel_regularizer=l2(1e-4)))\n",
        "model.add(BatchNormalization())\n",
        "model.add(MaxPooling2D((2, 2)))\n",
        "model.add(Dropout(0.25))\n",
        "\n",
        "model.add(Conv2D(64, (3, 3), activation='relu', kernel_regularizer=l2(1e-4)))\n",
        "model.add(BatchNormalization())\n",
        "model.add(Conv2D(64, (3, 3), activation='relu', kernel_regularizer=l2(1e-4)))\n",
        "model.add(BatchNormalization())\n",
        "model.add(MaxPooling2D((2, 2)))\n",
        "model.add(Dropout(0.25))\n",
        "\n",
        "model.add(Conv2D(96, (3, 3),activation='relu', kernel_regularizer=l2(1e-4)))\n",
        "model.add(BatchNormalization())\n",
        "model.add(Conv2D(96, (3, 3),activation='relu', kernel_regularizer=l2(1e-4)))\n",
        "model.add(BatchNormalization())\n",
        "model.add(MaxPooling2D((2, 2)))\n",
        "model.add(Dropout(0.25))\n",
        "\n",
        "model.add(Conv2D(128, (1,1), kernel_regularizer=l2(1e-4)))\n",
        "model.add(GlobalMaxPooling2D())\n",
        "\n",
        "model.add(Dense(256, activation='relu', kernel_regularizer=l2(1e-4)))\n",
        "model.add(Dropout(0.5))\n",
        "model.add(Dense(2, activation='sigmoid', kernel_regularizer=l2(1e-4)))"
      ],
      "execution_count": 0,
      "outputs": []
    },
    {
      "metadata": {
        "colab_type": "code",
        "id": "QKpy_s8Z6HHZ",
        "colab": {}
      },
      "cell_type": "code",
      "source": [
        "model.compile(SGD(lr=0.01, momentum=0.0, decay=0.0, nesterov=False), \n",
        "              loss='binary_crossentropy', metrics=['accuracy'])"
      ],
      "execution_count": 0,
      "outputs": []
    },
    {
      "metadata": {
        "colab_type": "code",
        "id": "kv_TvFJq7t1U",
        "colab": {}
      },
      "cell_type": "code",
      "source": [
        "checkpointer = ModelCheckpoint(filepath='weights_architecture_11.hdf5', verbose=1, save_best_only=True)"
      ],
      "execution_count": 0,
      "outputs": []
    },
    {
      "metadata": {
        "colab_type": "code",
        "id": "KGy9-eyM7t1c",
        "colab": {
          "base_uri": "https://localhost:8080/",
          "height": 3690
        },
        "outputId": "c1826ca9-8a65-4845-c9ad-51d0c92ee106"
      },
      "cell_type": "code",
      "source": [
        "training = model.fit_generator(train_batches, steps_per_epoch=stepsPerEpoche, \n",
        "                   validation_data=validation_batches, validation_steps=validationSteps,\n",
        "                   epochs=50, verbose=2, callbacks=[checkpointer])"
      ],
      "execution_count": 68,
      "outputs": [
        {
          "output_type": "stream",
          "text": [
            "Epoch 1/50\n",
            " - 5s - loss: 1.6143 - acc: 0.6234 - val_loss: 0.7192 - val_acc: 0.8125\n",
            "\n",
            "Epoch 00001: val_loss improved from inf to 0.71915, saving model to weights_architecture_11.hdf5\n",
            "Epoch 2/50\n",
            " - 1s - loss: 1.1094 - acc: 0.6906 - val_loss: 0.6679 - val_acc: 0.6562\n",
            "\n",
            "Epoch 00002: val_loss improved from 0.71915 to 0.66786, saving model to weights_architecture_11.hdf5\n",
            "Epoch 3/50\n",
            " - 1s - loss: 0.8418 - acc: 0.7297 - val_loss: 0.7146 - val_acc: 0.6615\n",
            "\n",
            "Epoch 00003: val_loss did not improve from 0.66786\n",
            "Epoch 4/50\n",
            " - 1s - loss: 0.7312 - acc: 0.7078 - val_loss: 0.6832 - val_acc: 0.7083\n",
            "\n",
            "Epoch 00004: val_loss did not improve from 0.66786\n",
            "Epoch 5/50\n",
            " - 1s - loss: 0.6780 - acc: 0.7219 - val_loss: 0.7583 - val_acc: 0.5469\n",
            "\n",
            "Epoch 00005: val_loss did not improve from 0.66786\n",
            "Epoch 6/50\n",
            " - 1s - loss: 0.6267 - acc: 0.7422 - val_loss: 0.6574 - val_acc: 0.8177\n",
            "\n",
            "Epoch 00006: val_loss improved from 0.66786 to 0.65741, saving model to weights_architecture_11.hdf5\n",
            "Epoch 7/50\n",
            " - 1s - loss: 0.5664 - acc: 0.7547 - val_loss: 0.7026 - val_acc: 0.5833\n",
            "\n",
            "Epoch 00007: val_loss did not improve from 0.65741\n",
            "Epoch 8/50\n",
            " - 1s - loss: 0.5303 - acc: 0.7750 - val_loss: 0.6223 - val_acc: 0.7552\n",
            "\n",
            "Epoch 00008: val_loss improved from 0.65741 to 0.62226, saving model to weights_architecture_11.hdf5\n",
            "Epoch 9/50\n",
            " - 1s - loss: 0.4400 - acc: 0.8266 - val_loss: 0.4951 - val_acc: 0.8646\n",
            "\n",
            "Epoch 00009: val_loss improved from 0.62226 to 0.49509, saving model to weights_architecture_11.hdf5\n",
            "Epoch 10/50\n",
            " - 1s - loss: 0.4917 - acc: 0.7984 - val_loss: 0.4426 - val_acc: 0.8177\n",
            "\n",
            "Epoch 00010: val_loss improved from 0.49509 to 0.44257, saving model to weights_architecture_11.hdf5\n",
            "Epoch 11/50\n",
            " - 1s - loss: 0.4522 - acc: 0.8156 - val_loss: 0.6837 - val_acc: 0.7031\n",
            "\n",
            "Epoch 00011: val_loss did not improve from 0.44257\n",
            "Epoch 12/50\n",
            " - 1s - loss: 0.4475 - acc: 0.8172 - val_loss: 0.4506 - val_acc: 0.7292\n",
            "\n",
            "Epoch 00012: val_loss did not improve from 0.44257\n",
            "Epoch 13/50\n",
            " - 1s - loss: 0.4137 - acc: 0.8578 - val_loss: 0.4699 - val_acc: 0.8281\n",
            "\n",
            "Epoch 00013: val_loss did not improve from 0.44257\n",
            "Epoch 14/50\n",
            " - 1s - loss: 0.4527 - acc: 0.8078 - val_loss: 0.4293 - val_acc: 0.8919\n",
            "\n",
            "Epoch 00014: val_loss improved from 0.44257 to 0.42933, saving model to weights_architecture_11.hdf5\n",
            "Epoch 15/50\n",
            " - 1s - loss: 0.4171 - acc: 0.8469 - val_loss: 0.4804 - val_acc: 0.8333\n",
            "\n",
            "Epoch 00015: val_loss did not improve from 0.42933\n",
            "Epoch 16/50\n",
            " - 1s - loss: 0.4377 - acc: 0.8233 - val_loss: 0.4312 - val_acc: 0.9115\n",
            "\n",
            "Epoch 00016: val_loss did not improve from 0.42933\n",
            "Epoch 17/50\n",
            " - 1s - loss: 0.3864 - acc: 0.8594 - val_loss: 0.4515 - val_acc: 0.8646\n",
            "\n",
            "Epoch 00017: val_loss did not improve from 0.42933\n",
            "Epoch 18/50\n",
            " - 1s - loss: 0.3770 - acc: 0.8609 - val_loss: 0.5021 - val_acc: 0.8333\n",
            "\n",
            "Epoch 00018: val_loss did not improve from 0.42933\n",
            "Epoch 19/50\n",
            " - 1s - loss: 0.4000 - acc: 0.8688 - val_loss: 0.4732 - val_acc: 0.8646\n",
            "\n",
            "Epoch 00019: val_loss did not improve from 0.42933\n",
            "Epoch 20/50\n",
            " - 1s - loss: 0.3431 - acc: 0.8656 - val_loss: 0.4570 - val_acc: 0.7760\n",
            "\n",
            "Epoch 00020: val_loss did not improve from 0.42933\n",
            "Epoch 21/50\n",
            " - 1s - loss: 0.3567 - acc: 0.8688 - val_loss: 0.3502 - val_acc: 0.8802\n",
            "\n",
            "Epoch 00021: val_loss improved from 0.42933 to 0.35019, saving model to weights_architecture_11.hdf5\n",
            "Epoch 22/50\n",
            " - 1s - loss: 0.3731 - acc: 0.8438 - val_loss: 0.3881 - val_acc: 0.8281\n",
            "\n",
            "Epoch 00022: val_loss did not improve from 0.35019\n",
            "Epoch 23/50\n",
            " - 1s - loss: 0.3559 - acc: 0.8781 - val_loss: 0.4741 - val_acc: 0.8229\n",
            "\n",
            "Epoch 00023: val_loss did not improve from 0.35019\n",
            "Epoch 24/50\n",
            " - 1s - loss: 0.3872 - acc: 0.8328 - val_loss: 0.3852 - val_acc: 0.8750\n",
            "\n",
            "Epoch 00024: val_loss did not improve from 0.35019\n",
            "Epoch 25/50\n",
            " - 1s - loss: 0.3954 - acc: 0.8453 - val_loss: 0.4093 - val_acc: 0.8281\n",
            "\n",
            "Epoch 00025: val_loss did not improve from 0.35019\n",
            "Epoch 26/50\n",
            " - 1s - loss: 0.3805 - acc: 0.8531 - val_loss: 0.5039 - val_acc: 0.7917\n",
            "\n",
            "Epoch 00026: val_loss did not improve from 0.35019\n",
            "Epoch 27/50\n",
            " - 1s - loss: 0.3614 - acc: 0.8391 - val_loss: 0.3955 - val_acc: 0.8542\n",
            "\n",
            "Epoch 00027: val_loss did not improve from 0.35019\n",
            "Epoch 28/50\n",
            " - 1s - loss: 0.3086 - acc: 0.8875 - val_loss: 0.3597 - val_acc: 0.8281\n",
            "\n",
            "Epoch 00028: val_loss did not improve from 0.35019\n",
            "Epoch 29/50\n",
            " - 1s - loss: 0.2976 - acc: 0.9000 - val_loss: 0.2919 - val_acc: 0.8854\n",
            "\n",
            "Epoch 00029: val_loss improved from 0.35019 to 0.29186, saving model to weights_architecture_11.hdf5\n",
            "Epoch 30/50\n",
            " - 1s - loss: 0.3100 - acc: 0.8703 - val_loss: 0.4293 - val_acc: 0.8281\n",
            "\n",
            "Epoch 00030: val_loss did not improve from 0.29186\n",
            "Epoch 31/50\n",
            " - 1s - loss: 0.2723 - acc: 0.9016 - val_loss: 0.5849 - val_acc: 0.7083\n",
            "\n",
            "Epoch 00031: val_loss did not improve from 0.29186\n",
            "Epoch 32/50\n",
            " - 1s - loss: 0.3688 - acc: 0.8641 - val_loss: 0.3640 - val_acc: 0.8385\n",
            "\n",
            "Epoch 00032: val_loss did not improve from 0.29186\n",
            "Epoch 33/50\n",
            " - 1s - loss: 0.3028 - acc: 0.8984 - val_loss: 0.3342 - val_acc: 0.8333\n",
            "\n",
            "Epoch 00033: val_loss did not improve from 0.29186\n",
            "Epoch 34/50\n",
            " - 1s - loss: 0.3061 - acc: 0.8859 - val_loss: 0.5487 - val_acc: 0.7812\n",
            "\n",
            "Epoch 00034: val_loss did not improve from 0.29186\n",
            "Epoch 35/50\n",
            " - 1s - loss: 0.3958 - acc: 0.8484 - val_loss: 0.4387 - val_acc: 0.8229\n",
            "\n",
            "Epoch 00035: val_loss did not improve from 0.29186\n",
            "Epoch 36/50\n",
            " - 1s - loss: 0.3710 - acc: 0.8734 - val_loss: 0.4173 - val_acc: 0.8073\n",
            "\n",
            "Epoch 00036: val_loss did not improve from 0.29186\n",
            "Epoch 37/50\n",
            " - 1s - loss: 0.3144 - acc: 0.8781 - val_loss: 0.4395 - val_acc: 0.8177\n",
            "\n",
            "Epoch 00037: val_loss did not improve from 0.29186\n",
            "Epoch 38/50\n",
            " - 1s - loss: 0.3211 - acc: 0.8797 - val_loss: 0.2387 - val_acc: 0.8958\n",
            "\n",
            "Epoch 00038: val_loss improved from 0.29186 to 0.23867, saving model to weights_architecture_11.hdf5\n",
            "Epoch 39/50\n",
            " - 1s - loss: 0.3727 - acc: 0.8656 - val_loss: 0.3486 - val_acc: 0.8490\n",
            "\n",
            "Epoch 00039: val_loss did not improve from 0.23867\n",
            "Epoch 40/50\n",
            " - 1s - loss: 0.3072 - acc: 0.8984 - val_loss: 0.4832 - val_acc: 0.7905\n",
            "\n",
            "Epoch 00040: val_loss did not improve from 0.23867\n",
            "Epoch 41/50\n",
            " - 1s - loss: 0.2956 - acc: 0.8984 - val_loss: 0.4181 - val_acc: 0.8177\n",
            "\n",
            "Epoch 00041: val_loss did not improve from 0.23867\n",
            "Epoch 42/50\n",
            " - 1s - loss: 0.3108 - acc: 0.8891 - val_loss: 0.4135 - val_acc: 0.8229\n",
            "\n",
            "Epoch 00042: val_loss did not improve from 0.23867\n",
            "Epoch 43/50\n",
            " - 1s - loss: 0.3691 - acc: 0.8734 - val_loss: 0.3299 - val_acc: 0.8281\n",
            "\n",
            "Epoch 00043: val_loss did not improve from 0.23867\n",
            "Epoch 44/50\n",
            " - 1s - loss: 0.3536 - acc: 0.8719 - val_loss: 0.4456 - val_acc: 0.7448\n",
            "\n",
            "Epoch 00044: val_loss did not improve from 0.23867\n",
            "Epoch 45/50\n",
            " - 1s - loss: 0.2894 - acc: 0.8984 - val_loss: 0.3194 - val_acc: 0.8854\n",
            "\n",
            "Epoch 00045: val_loss did not improve from 0.23867\n",
            "Epoch 46/50\n",
            " - 1s - loss: 0.3337 - acc: 0.8703 - val_loss: 0.4378 - val_acc: 0.9010\n",
            "\n",
            "Epoch 00046: val_loss did not improve from 0.23867\n",
            "Epoch 47/50\n",
            " - 1s - loss: 0.2742 - acc: 0.9062 - val_loss: 0.3350 - val_acc: 0.8490\n",
            "\n",
            "Epoch 00047: val_loss did not improve from 0.23867\n",
            "Epoch 48/50\n",
            " - 1s - loss: 0.3325 - acc: 0.8734 - val_loss: 0.3289 - val_acc: 0.8646\n",
            "\n",
            "Epoch 00048: val_loss did not improve from 0.23867\n",
            "Epoch 49/50\n",
            " - 1s - loss: 0.2900 - acc: 0.9078 - val_loss: 0.3645 - val_acc: 0.7917\n",
            "\n",
            "Epoch 00049: val_loss did not improve from 0.23867\n",
            "Epoch 50/50\n",
            " - 1s - loss: 0.2464 - acc: 0.9078 - val_loss: 0.2834 - val_acc: 0.9010\n",
            "\n",
            "Epoch 00050: val_loss did not improve from 0.23867\n"
          ],
          "name": "stdout"
        }
      ]
    },
    {
      "metadata": {
        "colab_type": "code",
        "id": "Zfc6MOKV7t18",
        "colab": {
          "base_uri": "https://localhost:8080/",
          "height": 380
        },
        "outputId": "5b1db81a-dff1-4f8b-e7e1-3bb5620b2ea0"
      },
      "cell_type": "code",
      "source": [
        "# plotar loss e accuracy para os datasets 'train' e 'test'\n",
        "plt.style.use(\"ggplot\")\n",
        "plt.figure()\n",
        "plt.plot(training.history['acc'], label='Accuracy')\n",
        "plt.plot(training.history['loss'], label='Loss')\n",
        "plt.xlabel('Epochs')\n",
        "plt.ylabel('Accuracy')\n",
        "plt.title(\"Training Loss and Accuracy\")\n",
        "plt.ylabel(\"Loss/Accuracy\")\n",
        "plt.legend()\n",
        "plt.savefig('architecture_11.png', bbox_inches='tight')"
      ],
      "execution_count": 69,
      "outputs": [
        {
          "output_type": "display_data",
          "data": {
            "image/png": "[encoded data removed]",
            "text/plain": [
              "<matplotlib.figure.Figure at 0x7f0f9a0b7e80>"
            ]
          },
          "metadata": {
            "tags": []
          }
        }
      ]
    },
    {
      "metadata": {
        "colab_type": "code",
        "id": "YGPiNIgZ7t2H",
        "colab": {}
      },
      "cell_type": "code",
      "source": [
        "model.load_weights('weights_architecture_11.hdf5')"
      ],
      "execution_count": 0,
      "outputs": []
    },
    {
      "metadata": {
        "colab_type": "code",
        "id": "kxr7AENx7t2N",
        "colab": {
          "base_uri": "https://localhost:8080/",
          "height": 35
        },
        "outputId": "2e81be71-533e-4e47-8bb5-ef61c2cb3ea7"
      },
      "cell_type": "code",
      "source": [
        "results['architecture_11'] = model.evaluate_generator(test_batches, steps=bSize, use_multiprocessing=True, verbose=1)"
      ],
      "execution_count": 71,
      "outputs": [
        {
          "output_type": "stream",
          "text": [
            "32/32 [==============================] - 10s 315ms/step\n"
          ],
          "name": "stdout"
        }
      ]
    },
    {
      "metadata": {
        "colab_type": "code",
        "id": "Bf8AHrqA7t2S",
        "colab": {
          "base_uri": "https://localhost:8080/",
          "height": 35
        },
        "outputId": "e342a6dc-b3f4-4cc0-a352-5ee002c73984"
      },
      "cell_type": "code",
      "source": [
        "print('Test Loss: {} | Test Accuracy: {:.2f}%'.format(results['architecture_11'][0], 100 * results['architecture_11'][1]))"
      ],
      "execution_count": 72,
      "outputs": [
        {
          "output_type": "stream",
          "text": [
            "Test Loss: 0.3931142007932067 | Test Accuracy: 82.03%\n"
          ],
          "name": "stdout"
        }
      ]
    },
    {
      "metadata": {
        "id": "26BCkdp9MAna",
        "colab_type": "text"
      },
      "cell_type": "markdown",
      "source": [
        "### 12 tentativa Accuracy: 88.23%"
      ]
    },
    {
      "metadata": {
        "colab_type": "text",
        "id": "MLvKG40a84F9"
      },
      "cell_type": "markdown",
      "source": [
        "Modelo adaptado do **Lucas Albertins**\n",
        "\n",
        "*   Sem utilização das funções de regularização\n",
        "*   Função **SGD** para compilação\n",
        "*   Adicionado mais 2 camadas convolutivas"
      ]
    },
    {
      "metadata": {
        "colab_type": "code",
        "id": "9LrDSy5AMFDO",
        "colab": {}
      },
      "cell_type": "code",
      "source": [
        "from keras.layers import Conv2D, MaxPooling2D, GlobalMaxPooling2D, BatchNormalization\n",
        "from keras.regularizers import l2\n",
        "\n",
        "model = Sequential()\n",
        "\n",
        "model.add(Conv2D(32, (3, 3), activation='relu',input_shape=(None, None, 3)))\n",
        "model.add(BatchNormalization())\n",
        "model.add(Conv2D(32, (3, 3), activation='relu'))\n",
        "model.add(BatchNormalization())\n",
        "model.add(MaxPooling2D((2, 2)))\n",
        "model.add(Dropout(0.25))\n",
        "\n",
        "model.add(Conv2D(64, (3, 3), activation='relu'))\n",
        "model.add(BatchNormalization())\n",
        "model.add(Conv2D(64, (3, 3), activation='relu'))\n",
        "model.add(BatchNormalization())\n",
        "model.add(MaxPooling2D((2, 2)))\n",
        "model.add(Dropout(0.25))\n",
        "\n",
        "model.add(Conv2D(96, (3, 3),activation='relu'))\n",
        "model.add(BatchNormalization())\n",
        "model.add(Conv2D(96, (3, 3),activation='relu'))\n",
        "model.add(BatchNormalization())\n",
        "model.add(MaxPooling2D((2, 2)))\n",
        "model.add(Dropout(0.25))\n",
        "\n",
        "model.add(Conv2D(128, (1,1)))\n",
        "model.add(GlobalMaxPooling2D())\n",
        "\n",
        "model.add(Dense(256, activation='relu'))\n",
        "model.add(Dropout(0.5))\n",
        "model.add(Dense(2, activation='sigmoid'))"
      ],
      "execution_count": 0,
      "outputs": []
    },
    {
      "metadata": {
        "colab_type": "code",
        "id": "EUZ-2eyUMSxQ",
        "colab": {}
      },
      "cell_type": "code",
      "source": [
        "model.compile(SGD(lr=0.01, momentum=0.0, decay=0.0, nesterov=False), \n",
        "              loss='binary_crossentropy', metrics=['accuracy'])"
      ],
      "execution_count": 0,
      "outputs": []
    },
    {
      "metadata": {
        "colab_type": "code",
        "id": "t9LJH3RP9H7J",
        "colab": {}
      },
      "cell_type": "code",
      "source": [
        "checkpointer = ModelCheckpoint(filepath='weights_architecture_12.hdf5', verbose=1, save_best_only=True)"
      ],
      "execution_count": 0,
      "outputs": []
    },
    {
      "metadata": {
        "colab_type": "code",
        "id": "nnQVNSzq9H7S",
        "colab": {
          "base_uri": "https://localhost:8080/",
          "height": 3690
        },
        "outputId": "07dc0d74-a44e-4c8d-afc3-07909b6d3ca8"
      },
      "cell_type": "code",
      "source": [
        "training = model.fit_generator(train_batches, steps_per_epoch=stepsPerEpoche, \n",
        "                   validation_data=validation_batches, validation_steps=validationSteps,\n",
        "                   epochs=50, verbose=2, callbacks=[checkpointer])"
      ],
      "execution_count": 76,
      "outputs": [
        {
          "output_type": "stream",
          "text": [
            "Epoch 1/50\n",
            " - 5s - loss: 1.4555 - acc: 0.6312 - val_loss: 0.5835 - val_acc: 0.8021\n",
            "\n",
            "Epoch 00001: val_loss improved from inf to 0.58353, saving model to weights_architecture_12.hdf5\n",
            "Epoch 2/50\n",
            " - 1s - loss: 0.8472 - acc: 0.7484 - val_loss: 0.6332 - val_acc: 0.6198\n",
            "\n",
            "Epoch 00002: val_loss did not improve from 0.58353\n",
            "Epoch 3/50\n",
            " - 1s - loss: 0.7756 - acc: 0.7078 - val_loss: 0.4629 - val_acc: 0.7812\n",
            "\n",
            "Epoch 00003: val_loss improved from 0.58353 to 0.46288, saving model to weights_architecture_12.hdf5\n",
            "Epoch 4/50\n",
            " - 1s - loss: 0.6145 - acc: 0.7594 - val_loss: 0.5048 - val_acc: 0.7760\n",
            "\n",
            "Epoch 00004: val_loss did not improve from 0.46288\n",
            "Epoch 5/50\n",
            " - 1s - loss: 0.5574 - acc: 0.7719 - val_loss: 0.4502 - val_acc: 0.8177\n",
            "\n",
            "Epoch 00005: val_loss improved from 0.46288 to 0.45021, saving model to weights_architecture_12.hdf5\n",
            "Epoch 6/50\n",
            " - 1s - loss: 0.5530 - acc: 0.7578 - val_loss: 0.4686 - val_acc: 0.7396\n",
            "\n",
            "Epoch 00006: val_loss did not improve from 0.45021\n",
            "Epoch 7/50\n",
            " - 1s - loss: 0.4724 - acc: 0.7766 - val_loss: 0.5573 - val_acc: 0.6406\n",
            "\n",
            "Epoch 00007: val_loss did not improve from 0.45021\n",
            "Epoch 8/50\n",
            " - 1s - loss: 0.4287 - acc: 0.7922 - val_loss: 0.4484 - val_acc: 0.8542\n",
            "\n",
            "Epoch 00008: val_loss improved from 0.45021 to 0.44845, saving model to weights_architecture_12.hdf5\n",
            "Epoch 9/50\n",
            " - 1s - loss: 0.4601 - acc: 0.8063 - val_loss: 0.5060 - val_acc: 0.7292\n",
            "\n",
            "Epoch 00009: val_loss did not improve from 0.44845\n",
            "Epoch 10/50\n",
            " - 1s - loss: 0.3626 - acc: 0.8422 - val_loss: 0.3740 - val_acc: 0.8229\n",
            "\n",
            "Epoch 00010: val_loss improved from 0.44845 to 0.37401, saving model to weights_architecture_12.hdf5\n",
            "Epoch 11/50\n",
            " - 1s - loss: 0.3717 - acc: 0.8422 - val_loss: 0.3142 - val_acc: 0.8229\n",
            "\n",
            "Epoch 00011: val_loss improved from 0.37401 to 0.31417, saving model to weights_architecture_12.hdf5\n",
            "Epoch 12/50\n",
            " - 1s - loss: 0.3609 - acc: 0.8531 - val_loss: 0.5064 - val_acc: 0.7396\n",
            "\n",
            "Epoch 00012: val_loss did not improve from 0.31417\n",
            "Epoch 13/50\n",
            " - 1s - loss: 0.4072 - acc: 0.8219 - val_loss: 0.3718 - val_acc: 0.8378\n",
            "\n",
            "Epoch 00013: val_loss did not improve from 0.31417\n",
            "Epoch 14/50\n",
            " - 1s - loss: 0.3976 - acc: 0.8172 - val_loss: 0.3187 - val_acc: 0.8802\n",
            "\n",
            "Epoch 00014: val_loss did not improve from 0.31417\n",
            "Epoch 15/50\n",
            " - 1s - loss: 0.3412 - acc: 0.8406 - val_loss: 0.2444 - val_acc: 0.9115\n",
            "\n",
            "Epoch 00015: val_loss improved from 0.31417 to 0.24436, saving model to weights_architecture_12.hdf5\n",
            "Epoch 16/50\n",
            " - 1s - loss: 0.4096 - acc: 0.8187 - val_loss: 0.2846 - val_acc: 0.8542\n",
            "\n",
            "Epoch 00016: val_loss did not improve from 0.24436\n",
            "Epoch 17/50\n",
            " - 1s - loss: 0.3930 - acc: 0.8125 - val_loss: 0.5020 - val_acc: 0.7448\n",
            "\n",
            "Epoch 00017: val_loss did not improve from 0.24436\n",
            "Epoch 18/50\n",
            " - 1s - loss: 0.3357 - acc: 0.8656 - val_loss: 0.4123 - val_acc: 0.9062\n",
            "\n",
            "Epoch 00018: val_loss did not improve from 0.24436\n",
            "Epoch 19/50\n",
            " - 1s - loss: 0.3675 - acc: 0.8187 - val_loss: 0.2924 - val_acc: 0.9271\n",
            "\n",
            "Epoch 00019: val_loss did not improve from 0.24436\n",
            "Epoch 20/50\n",
            " - 1s - loss: 0.3540 - acc: 0.8453 - val_loss: 0.4236 - val_acc: 0.8125\n",
            "\n",
            "Epoch 00020: val_loss did not improve from 0.24436\n",
            "Epoch 21/50\n",
            " - 1s - loss: 0.3527 - acc: 0.8328 - val_loss: 0.4638 - val_acc: 0.7656\n",
            "\n",
            "Epoch 00021: val_loss did not improve from 0.24436\n",
            "Epoch 22/50\n",
            " - 1s - loss: 0.3126 - acc: 0.8641 - val_loss: 0.4467 - val_acc: 0.8333\n",
            "\n",
            "Epoch 00022: val_loss did not improve from 0.24436\n",
            "Epoch 23/50\n",
            " - 1s - loss: 0.3140 - acc: 0.8453 - val_loss: 0.4888 - val_acc: 0.7708\n",
            "\n",
            "Epoch 00023: val_loss did not improve from 0.24436\n",
            "Epoch 24/50\n",
            " - 1s - loss: 0.3302 - acc: 0.8250 - val_loss: 0.5071 - val_acc: 0.8229\n",
            "\n",
            "Epoch 00024: val_loss did not improve from 0.24436\n",
            "Epoch 25/50\n",
            " - 1s - loss: 0.3036 - acc: 0.8578 - val_loss: 0.3971 - val_acc: 0.8594\n",
            "\n",
            "Epoch 00025: val_loss did not improve from 0.24436\n",
            "Epoch 26/50\n",
            " - 1s - loss: 0.3554 - acc: 0.8469 - val_loss: 0.3298 - val_acc: 0.9010\n",
            "\n",
            "Epoch 00026: val_loss did not improve from 0.24436\n",
            "Epoch 27/50\n",
            " - 1s - loss: 0.3719 - acc: 0.8402 - val_loss: 0.3979 - val_acc: 0.8385\n",
            "\n",
            "Epoch 00027: val_loss did not improve from 0.24436\n",
            "Epoch 28/50\n",
            " - 1s - loss: 0.2880 - acc: 0.8703 - val_loss: 0.4120 - val_acc: 0.8698\n",
            "\n",
            "Epoch 00028: val_loss did not improve from 0.24436\n",
            "Epoch 29/50\n",
            " - 1s - loss: 0.3227 - acc: 0.8641 - val_loss: 0.4084 - val_acc: 0.8333\n",
            "\n",
            "Epoch 00029: val_loss did not improve from 0.24436\n",
            "Epoch 30/50\n",
            " - 1s - loss: 0.2845 - acc: 0.8562 - val_loss: 0.4423 - val_acc: 0.8125\n",
            "\n",
            "Epoch 00030: val_loss did not improve from 0.24436\n",
            "Epoch 31/50\n",
            " - 1s - loss: 0.2963 - acc: 0.8656 - val_loss: 0.2817 - val_acc: 0.9115\n",
            "\n",
            "Epoch 00031: val_loss did not improve from 0.24436\n",
            "Epoch 32/50\n",
            " - 1s - loss: 0.3486 - acc: 0.8516 - val_loss: 0.2579 - val_acc: 0.9167\n",
            "\n",
            "Epoch 00032: val_loss did not improve from 0.24436\n",
            "Epoch 33/50\n",
            " - 1s - loss: 0.2680 - acc: 0.8688 - val_loss: 0.3172 - val_acc: 0.8802\n",
            "\n",
            "Epoch 00033: val_loss did not improve from 0.24436\n",
            "Epoch 34/50\n",
            " - 1s - loss: 0.3212 - acc: 0.8531 - val_loss: 0.3081 - val_acc: 0.8594\n",
            "\n",
            "Epoch 00034: val_loss did not improve from 0.24436\n",
            "Epoch 35/50\n",
            " - 1s - loss: 0.2847 - acc: 0.8734 - val_loss: 0.3211 - val_acc: 0.8594\n",
            "\n",
            "Epoch 00035: val_loss did not improve from 0.24436\n",
            "Epoch 36/50\n",
            " - 1s - loss: 0.2871 - acc: 0.8938 - val_loss: 0.3459 - val_acc: 0.8281\n",
            "\n",
            "Epoch 00036: val_loss did not improve from 0.24436\n",
            "Epoch 37/50\n",
            " - 1s - loss: 0.2996 - acc: 0.8766 - val_loss: 0.3457 - val_acc: 0.8594\n",
            "\n",
            "Epoch 00037: val_loss did not improve from 0.24436\n",
            "Epoch 38/50\n",
            " - 1s - loss: 0.2362 - acc: 0.8734 - val_loss: 0.4057 - val_acc: 0.8514\n",
            "\n",
            "Epoch 00038: val_loss did not improve from 0.24436\n",
            "Epoch 39/50\n",
            " - 1s - loss: 0.2841 - acc: 0.8844 - val_loss: 0.3422 - val_acc: 0.8333\n",
            "\n",
            "Epoch 00039: val_loss did not improve from 0.24436\n",
            "Epoch 40/50\n",
            " - 1s - loss: 0.3155 - acc: 0.8641 - val_loss: 0.3184 - val_acc: 0.8646\n",
            "\n",
            "Epoch 00040: val_loss did not improve from 0.24436\n",
            "Epoch 41/50\n",
            " - 1s - loss: 0.2647 - acc: 0.8844 - val_loss: 0.2943 - val_acc: 0.8698\n",
            "\n",
            "Epoch 00041: val_loss did not improve from 0.24436\n",
            "Epoch 42/50\n",
            " - 1s - loss: 0.2799 - acc: 0.8781 - val_loss: 0.2294 - val_acc: 0.8958\n",
            "\n",
            "Epoch 00042: val_loss improved from 0.24436 to 0.22937, saving model to weights_architecture_12.hdf5\n",
            "Epoch 43/50\n",
            " - 1s - loss: 0.2011 - acc: 0.9359 - val_loss: 0.3342 - val_acc: 0.8490\n",
            "\n",
            "Epoch 00043: val_loss did not improve from 0.22937\n",
            "Epoch 44/50\n",
            " - 1s - loss: 0.2750 - acc: 0.8781 - val_loss: 0.2563 - val_acc: 0.9219\n",
            "\n",
            "Epoch 00044: val_loss did not improve from 0.22937\n",
            "Epoch 45/50\n",
            " - 1s - loss: 0.3068 - acc: 0.8844 - val_loss: 0.4237 - val_acc: 0.7656\n",
            "\n",
            "Epoch 00045: val_loss did not improve from 0.22937\n",
            "Epoch 46/50\n",
            " - 1s - loss: 0.3341 - acc: 0.8547 - val_loss: 0.3189 - val_acc: 0.8125\n",
            "\n",
            "Epoch 00046: val_loss did not improve from 0.22937\n",
            "Epoch 47/50\n",
            " - 1s - loss: 0.2424 - acc: 0.9016 - val_loss: 0.3441 - val_acc: 0.8125\n",
            "\n",
            "Epoch 00047: val_loss did not improve from 0.22937\n",
            "Epoch 48/50\n",
            " - 1s - loss: 0.2466 - acc: 0.8969 - val_loss: 0.4849 - val_acc: 0.7604\n",
            "\n",
            "Epoch 00048: val_loss did not improve from 0.22937\n",
            "Epoch 49/50\n",
            " - 1s - loss: 0.2323 - acc: 0.9031 - val_loss: 0.3025 - val_acc: 0.8594\n",
            "\n",
            "Epoch 00049: val_loss did not improve from 0.22937\n",
            "Epoch 50/50\n",
            " - 1s - loss: 0.2314 - acc: 0.8953 - val_loss: 0.3757 - val_acc: 0.8281\n",
            "\n",
            "Epoch 00050: val_loss did not improve from 0.22937\n"
          ],
          "name": "stdout"
        }
      ]
    },
    {
      "metadata": {
        "colab_type": "code",
        "id": "1jTgRNsw9H7Y",
        "colab": {
          "base_uri": "https://localhost:8080/",
          "height": 380
        },
        "outputId": "90f19920-2cbb-46b2-ffeb-172787648af9"
      },
      "cell_type": "code",
      "source": [
        "# plotar loss e accuracy para os datasets 'train' e 'test'\n",
        "plt.style.use(\"ggplot\")\n",
        "plt.figure()\n",
        "plt.plot(training.history['acc'], label='Accuracy')\n",
        "plt.plot(training.history['loss'], label='Loss')\n",
        "plt.xlabel('Epochs')\n",
        "plt.ylabel('Accuracy')\n",
        "plt.title(\"Training Loss and Accuracy\")\n",
        "plt.ylabel(\"Loss/Accuracy\")\n",
        "plt.legend()\n",
        "plt.savefig('architecture_12.png', bbox_inches='tight')"
      ],
      "execution_count": 77,
      "outputs": [
        {
          "output_type": "display_data",
          "data": {
            "image/png": "[encoded data removed]",
            "text/plain": [
              "<matplotlib.figure.Figure at 0x7f0f9ab9abe0>"
            ]
          },
          "metadata": {
            "tags": []
          }
        }
      ]
    },
    {
      "metadata": {
        "colab_type": "code",
        "id": "Bwv3EcY-9H7g",
        "colab": {}
      },
      "cell_type": "code",
      "source": [
        "model.load_weights('weights_architecture_12.hdf5')"
      ],
      "execution_count": 0,
      "outputs": []
    },
    {
      "metadata": {
        "colab_type": "code",
        "id": "nF36tfx69H7v",
        "colab": {
          "base_uri": "https://localhost:8080/",
          "height": 35
        },
        "outputId": "909f7fd8-5da4-474e-af5d-9737131494ec"
      },
      "cell_type": "code",
      "source": [
        "results['architecture_12'] = model.evaluate_generator(test_batches, steps=bSize, use_multiprocessing=True, verbose=1)"
      ],
      "execution_count": 79,
      "outputs": [
        {
          "output_type": "stream",
          "text": [
            "32/32 [==============================] - 7s 212ms/step\n"
          ],
          "name": "stdout"
        }
      ]
    },
    {
      "metadata": {
        "colab_type": "code",
        "id": "tG7HPabu9H76",
        "colab": {
          "base_uri": "https://localhost:8080/",
          "height": 35
        },
        "outputId": "c53dad64-3ed3-401e-a23f-ea5cf4ee0590"
      },
      "cell_type": "code",
      "source": [
        "print('Test Loss: {} | Test Accuracy: {:.2f}%'.format(results['architecture_12'][0], 100 * results['architecture_12'][1]))"
      ],
      "execution_count": 80,
      "outputs": [
        {
          "output_type": "stream",
          "text": [
            "Test Loss: 0.2687366446480155 | Test Accuracy: 88.23%\n"
          ],
          "name": "stdout"
        }
      ]
    }
  ]
}