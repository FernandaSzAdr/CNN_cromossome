{
  "nbformat": 4,
  "nbformat_minor": 0,
  "metadata": {
    "colab": {
      "name": "TesteRede1_Binaria_Base1.ipynb",
      "version": "0.3.2",
      "provenance": [],
      "toc_visible": true,
      "include_colab_link": true
    },
    "kernelspec": {
      "name": "python3",
      "display_name": "Python 3"
    },
    "accelerator": "GPU"
  },
  "cells": [
    {
      "cell_type": "markdown",
      "metadata": {
        "id": "view-in-github",
        "colab_type": "text"
      },
      "source": [
        "<a href=\"https://colab.research.google.com/github/FernandaSzAdr/KNN_cromossome/blob/master/TesteRede1_Binaria_Base1.ipynb\" target=\"_parent\"><img src=\"https://colab.research.google.com/assets/colab-badge.svg\" alt=\"Open In Colab\"/></a>"
      ]
    },
    {
      "metadata": {
        "id": "xN-oUTtcif3Q",
        "colab_type": "code",
        "outputId": "3eec7cb4-8eb1-4356-af84-7db89fcf99a6",
        "colab": {
          "base_uri": "https://localhost:8080/",
          "height": 129
        }
      },
      "cell_type": "code",
      "source": [
        "# Load the Drive helper and mount\n",
        "from google.colab import drive\n",
        "\n",
        "# This will prompt for authorization.\n",
        "drive.mount('/content/drive/')"
      ],
      "execution_count": 0,
      "outputs": [
        {
          "output_type": "stream",
          "text": [
            "Go to this URL in a browser: https://accounts.google.com/o/oauth2/auth?client_id=947318989803-6bn6qk8qdgf4n4g3pfee6491hc0brc4i.apps.googleusercontent.com&redirect_uri=urn%3Aietf%3Awg%3Aoauth%3A2.0%3Aoob&scope=email%20https%3A%2F%2Fwww.googleapis.com%2Fauth%2Fdocs.test%20https%3A%2F%2Fwww.googleapis.com%2Fauth%2Fdrive%20https%3A%2F%2Fwww.googleapis.com%2Fauth%2Fdrive.photos.readonly%20https%3A%2F%2Fwww.googleapis.com%2Fauth%2Fpeopleapi.readonly&response_type=code\n",
            "\n",
            "Enter your authorization code:\n",
            "··········\n",
            "Mounted at /content/drive/\n"
          ],
          "name": "stdout"
        }
      ]
    },
    {
      "metadata": {
        "id": "gzcuEGSklnwS",
        "colab_type": "code",
        "colab": {}
      },
      "cell_type": "code",
      "source": [
        "import numpy as np\n",
        "import keras\n",
        "from keras import backend as K\n",
        "from keras.models import Sequential\n",
        "from keras.layers import Activation\n",
        "from keras.optimizers import SGD\n",
        "from keras.layers.core import Dense, Flatten, Dropout\n",
        "from keras.preprocessing.image import ImageDataGenerator\n",
        "from keras.layers.normalization import BatchNormalization\n",
        "from keras.layers.convolutional import *\n",
        "from keras.callbacks import ModelCheckpoint\n",
        "from matplotlib import pyplot as plt\n",
        "from sklearn.metrics import confusion_matrix\n",
        "import itertools\n",
        "import matplotlib.pyplot as plt"
      ],
      "execution_count": 0,
      "outputs": []
    },
    {
      "metadata": {
        "id": "ITtEfxrilym7",
        "colab_type": "code",
        "colab": {}
      },
      "cell_type": "code",
      "source": [
        "train_path = 'drive/My Drive/Base_CNN/Binarizado/Train'\n",
        "test_path = 'drive/My Drive/Base_CNN/Binarizado/Test'\n",
        "validation_path = 'drive/My Drive/Base_CNN/Binarizado/Validation'"
      ],
      "execution_count": 0,
      "outputs": []
    },
    {
      "metadata": {
        "id": "WlPBqB_v3x2A",
        "colab_type": "text"
      },
      "cell_type": "markdown",
      "source": [
        "\n",
        "\n",
        "---\n",
        "\n"
      ]
    },
    {
      "metadata": {
        "id": "ZNfohSUpo1n0",
        "colab_type": "text"
      },
      "cell_type": "markdown",
      "source": [
        "\n",
        "\n",
        "*   Batch size = 32\n",
        "*   Image size = 120x120\n",
        "\n"
      ]
    },
    {
      "metadata": {
        "id": "8KTtm8K7qg1n",
        "colab_type": "text"
      },
      "cell_type": "markdown",
      "source": [
        "## Implementação"
      ]
    },
    {
      "metadata": {
        "id": "_TFWtLbQ2fUI",
        "colab_type": "code",
        "colab": {}
      },
      "cell_type": "code",
      "source": [
        "results = {}"
      ],
      "execution_count": 0,
      "outputs": []
    },
    {
      "metadata": {
        "id": "W3zmFDRmnYem",
        "colab_type": "code",
        "colab": {}
      },
      "cell_type": "code",
      "source": [
        "bSize = 32"
      ],
      "execution_count": 0,
      "outputs": []
    },
    {
      "metadata": {
        "id": "dCNH0jPl3WTV",
        "colab_type": "code",
        "colab": {}
      },
      "cell_type": "code",
      "source": [
        "datagen = ImageDataGenerator(rescale=1/255.)"
      ],
      "execution_count": 0,
      "outputs": []
    },
    {
      "metadata": {
        "id": "YiMXe23Vmbo-",
        "colab_type": "code",
        "outputId": "fe84a2e5-3b25-43e1-fac7-6e6d3135758f",
        "colab": {
          "base_uri": "https://localhost:8080/",
          "height": 72
        }
      },
      "cell_type": "code",
      "source": [
        "train_batches = datagen.flow_from_directory(train_path, target_size=(120, 120), \n",
        "                                            classes=['C', 'NC'], \n",
        "                                            batch_size=bSize)\n",
        "test_batches = datagen.flow_from_directory(test_path, target_size=(120, 120), \n",
        "                                           classes=['C', 'NC'], \n",
        "                                           batch_size=bSize)\n",
        "validation_batches = datagen.flow_from_directory(validation_path, \n",
        "                                                 target_size=(120, 120), \n",
        "                                                 classes=['C', 'NC'], \n",
        "                                                 batch_size=bSize)"
      ],
      "execution_count": 6,
      "outputs": [
        {
          "output_type": "stream",
          "text": [
            "Found 4228 images belonging to 2 classes.\n",
            "Found 1324 images belonging to 2 classes.\n",
            "Found 1072 images belonging to 2 classes.\n"
          ],
          "name": "stdout"
        }
      ]
    },
    {
      "metadata": {
        "id": "vE-dZtSv5mde",
        "colab_type": "code",
        "colab": {}
      },
      "cell_type": "code",
      "source": [
        "stepsPerEpoche = len(train_batches)/bSize\n",
        "validationSteps = len(validation_batches)/bSize"
      ],
      "execution_count": 0,
      "outputs": []
    },
    {
      "metadata": {
        "id": "WLcoxZya5sQr",
        "colab_type": "code",
        "outputId": "b4a72bca-9c5c-4409-91f9-671d0eb536d1",
        "colab": {
          "base_uri": "https://localhost:8080/",
          "height": 35
        }
      },
      "cell_type": "code",
      "source": [
        "test_batches.class_indices"
      ],
      "execution_count": 0,
      "outputs": [
        {
          "output_type": "execute_result",
          "data": {
            "text/plain": [
              "{'C': 0, 'NC': 1}"
            ]
          },
          "metadata": {
            "tags": []
          },
          "execution_count": 9
        }
      ]
    },
    {
      "metadata": {
        "id": "tY7Fxpczz0wk",
        "colab_type": "text"
      },
      "cell_type": "markdown",
      "source": [
        "\n",
        "\n",
        "---\n",
        "\n"
      ]
    },
    {
      "metadata": {
        "id": "wH56YdE5rlnU",
        "colab_type": "text"
      },
      "cell_type": "markdown",
      "source": [
        "### 1 tentativa  Accuracy: 50.88%\n"
      ]
    },
    {
      "metadata": {
        "id": "NBCIFVOlompR",
        "colab_type": "text"
      },
      "cell_type": "markdown",
      "source": [
        "**Descrição**\n",
        "\n",
        "\n",
        "*   Modelo descrito no artigo \"Crowdsourcing for Chromosome Segmentation and Deep Classification\"\n",
        "\n"
      ]
    },
    {
      "metadata": {
        "id": "rNosdG-ioNYU",
        "colab_type": "code",
        "colab": {}
      },
      "cell_type": "code",
      "source": [
        "model = Sequential([\n",
        "    Conv2D(64, (3, 3), activation='relu', input_shape=(120, 120, 3)),\n",
        "    Conv2D(64, (3, 3), activation='relu'),\n",
        "    Dropout(0.2),\n",
        "    MaxPooling2D(pool_size=(2, 2)),\n",
        "   \n",
        "    Conv2D(32, (3, 3), activation='relu'),\n",
        "    Conv2D(32, (3, 3), activation='relu'),\n",
        "    Dropout(0.2),\n",
        "    MaxPooling2D(pool_size=(2, 2)),\n",
        "   \n",
        "    Conv2D(16, (3, 3), activation='relu'),\n",
        "    Conv2D(16, (3, 3), activation='relu'),\n",
        "    Dropout(0.2),\n",
        "    MaxPooling2D(pool_size=(2, 2)),\n",
        "   \n",
        "    Conv2D(8, (3, 3), activation='relu'),\n",
        "    Conv2D(8, (3, 3), activation='relu'),\n",
        "    Dropout(0.2),\n",
        "    MaxPooling2D(pool_size=(2, 2)),\n",
        "    \n",
        "    Flatten(),\n",
        "    Dense(1024, activation='sigmoid'),\n",
        "    Dense(512, activation='sigmoid'),\n",
        "   \n",
        "    Dense(2, activation='softmax')\n",
        "]\n",
        ")"
      ],
      "execution_count": 0,
      "outputs": []
    },
    {
      "metadata": {
        "id": "UBqwdK2Bxagj",
        "colab_type": "code",
        "colab": {}
      },
      "cell_type": "code",
      "source": [
        "model.compile(SGD(lr=0.01, momentum=0.0, decay=0.0, nesterov=False), \n",
        "              loss='categorical_crossentropy', metrics=['accuracy'])"
      ],
      "execution_count": 0,
      "outputs": []
    },
    {
      "metadata": {
        "id": "EvVszbs8mjBb",
        "colab_type": "code",
        "colab": {}
      },
      "cell_type": "code",
      "source": [
        "checkpointer = ModelCheckpoint(filepath='weights_architecture_1.hdf5', verbose=1, save_best_only=True)"
      ],
      "execution_count": 0,
      "outputs": []
    },
    {
      "metadata": {
        "id": "PeyX7Mzf5lDw",
        "colab_type": "code",
        "outputId": "cf6ff6dd-9e31-46c8-9936-1468aab4c7d0",
        "colab": {
          "base_uri": "https://localhost:8080/",
          "height": 3690
        }
      },
      "cell_type": "code",
      "source": [
        "training = model.fit_generator(train_batches, steps_per_epoch=stepsPerEpoche, \n",
        "                   validation_data=validation_batches, validation_steps=validationSteps,\n",
        "                   epochs=50, verbose=2, callbacks=[checkpointer])"
      ],
      "execution_count": 0,
      "outputs": [
        {
          "output_type": "stream",
          "text": [
            "Epoch 1/50\n",
            " - 48s - loss: 0.7204 - acc: 0.4562 - val_loss: 0.6886 - val_acc: 0.5469\n",
            "\n",
            "Epoch 00001: val_loss improved from inf to 0.68859, saving model to weights_architecture_1.hdf5\n",
            "Epoch 2/50\n",
            " - 40s - loss: 0.6959 - acc: 0.5187 - val_loss: 0.7153 - val_acc: 0.4375\n",
            "\n",
            "Epoch 00002: val_loss did not improve from 0.68859\n",
            "Epoch 3/50\n",
            " - 41s - loss: 0.6902 - acc: 0.5250 - val_loss: 0.6887 - val_acc: 0.5469\n",
            "\n",
            "Epoch 00003: val_loss did not improve from 0.68859\n",
            "Epoch 4/50\n",
            " - 41s - loss: 0.7177 - acc: 0.4688 - val_loss: 0.7004 - val_acc: 0.4844\n",
            "\n",
            "Epoch 00004: val_loss did not improve from 0.68859\n",
            "Epoch 5/50\n",
            " - 41s - loss: 0.6983 - acc: 0.4813 - val_loss: 0.6961 - val_acc: 0.5000\n",
            "\n",
            "Epoch 00005: val_loss did not improve from 0.68859\n",
            "Epoch 6/50\n",
            " - 45s - loss: 0.6983 - acc: 0.5125 - val_loss: 0.7059 - val_acc: 0.4688\n",
            "\n",
            "Epoch 00006: val_loss did not improve from 0.68859\n",
            "Epoch 7/50\n",
            " - 41s - loss: 0.6733 - acc: 0.5812 - val_loss: 0.8641 - val_acc: 0.4531\n",
            "\n",
            "Epoch 00007: val_loss did not improve from 0.68859\n",
            "Epoch 8/50\n",
            " - 40s - loss: 0.6910 - acc: 0.5750 - val_loss: 0.6918 - val_acc: 0.5469\n",
            "\n",
            "Epoch 00008: val_loss did not improve from 0.68859\n",
            "Epoch 9/50\n",
            " - 40s - loss: 0.7139 - acc: 0.4500 - val_loss: 0.6916 - val_acc: 0.5312\n",
            "\n",
            "Epoch 00009: val_loss did not improve from 0.68859\n",
            "Epoch 10/50\n",
            " - 38s - loss: 0.6948 - acc: 0.5062 - val_loss: 0.6918 - val_acc: 0.5312\n",
            "\n",
            "Epoch 00010: val_loss did not improve from 0.68859\n",
            "Epoch 11/50\n",
            " - 42s - loss: 0.7083 - acc: 0.4438 - val_loss: 0.6913 - val_acc: 0.5312\n",
            "\n",
            "Epoch 00011: val_loss did not improve from 0.68859\n",
            "Epoch 12/50\n",
            " - 41s - loss: 0.6865 - acc: 0.5563 - val_loss: 0.6993 - val_acc: 0.5312\n",
            "\n",
            "Epoch 00012: val_loss did not improve from 0.68859\n",
            "Epoch 13/50\n",
            " - 40s - loss: 0.6958 - acc: 0.5312 - val_loss: 0.6968 - val_acc: 0.5156\n",
            "\n",
            "Epoch 00013: val_loss did not improve from 0.68859\n",
            "Epoch 14/50\n",
            " - 43s - loss: 0.6967 - acc: 0.5375 - val_loss: 0.6886 - val_acc: 0.6250\n",
            "\n",
            "Epoch 00014: val_loss did not improve from 0.68859\n",
            "Epoch 15/50\n",
            " - 46s - loss: 0.6971 - acc: 0.4937 - val_loss: 0.6983 - val_acc: 0.5000\n",
            "\n",
            "Epoch 00015: val_loss did not improve from 0.68859\n",
            "Epoch 16/50\n",
            " - 44s - loss: 0.7029 - acc: 0.5062 - val_loss: 0.6971 - val_acc: 0.5156\n",
            "\n",
            "Epoch 00016: val_loss did not improve from 0.68859\n",
            "Epoch 17/50\n",
            " - 42s - loss: 0.7226 - acc: 0.4562 - val_loss: 0.7006 - val_acc: 0.4792\n",
            "\n",
            "Epoch 00017: val_loss did not improve from 0.68859\n",
            "Epoch 18/50\n",
            " - 40s - loss: 0.6991 - acc: 0.5563 - val_loss: 0.7171 - val_acc: 0.4688\n",
            "\n",
            "Epoch 00018: val_loss did not improve from 0.68859\n",
            "Epoch 19/50\n",
            " - 39s - loss: 0.6972 - acc: 0.4937 - val_loss: 0.7136 - val_acc: 0.4844\n",
            "\n",
            "Epoch 00019: val_loss did not improve from 0.68859\n",
            "Epoch 20/50\n",
            " - 41s - loss: 0.7104 - acc: 0.4875 - val_loss: 0.6853 - val_acc: 0.5625\n",
            "\n",
            "Epoch 00020: val_loss improved from 0.68859 to 0.68525, saving model to weights_architecture_1.hdf5\n",
            "Epoch 21/50\n",
            " - 40s - loss: 0.7278 - acc: 0.4625 - val_loss: 0.7815 - val_acc: 0.4688\n",
            "\n",
            "Epoch 00021: val_loss did not improve from 0.68525\n",
            "Epoch 22/50\n",
            " - 41s - loss: 0.7196 - acc: 0.5375 - val_loss: 0.7004 - val_acc: 0.3906\n",
            "\n",
            "Epoch 00022: val_loss did not improve from 0.68525\n",
            "Epoch 23/50\n",
            " - 40s - loss: 0.7052 - acc: 0.4750 - val_loss: 0.6990 - val_acc: 0.5000\n",
            "\n",
            "Epoch 00023: val_loss did not improve from 0.68525\n",
            "Epoch 24/50\n",
            " - 40s - loss: 0.6981 - acc: 0.4438 - val_loss: 0.7212 - val_acc: 0.5312\n",
            "\n",
            "Epoch 00024: val_loss did not improve from 0.68525\n",
            "Epoch 25/50\n",
            " - 39s - loss: 0.7147 - acc: 0.4750 - val_loss: 0.6942 - val_acc: 0.4844\n",
            "\n",
            "Epoch 00025: val_loss did not improve from 0.68525\n",
            "Epoch 26/50\n",
            " - 42s - loss: 0.7033 - acc: 0.4562 - val_loss: 0.7249 - val_acc: 0.5000\n",
            "\n",
            "Epoch 00026: val_loss did not improve from 0.68525\n",
            "Epoch 27/50\n",
            " - 17s - loss: 0.7174 - acc: 0.6506 - val_loss: 0.7192 - val_acc: 0.4062\n",
            "\n",
            "Epoch 00027: val_loss did not improve from 0.68525\n",
            "Epoch 28/50\n",
            " - 1s - loss: 0.6819 - acc: 0.5938 - val_loss: 0.7121 - val_acc: 0.5000\n",
            "\n",
            "Epoch 00028: val_loss did not improve from 0.68525\n",
            "Epoch 29/50\n",
            " - 1s - loss: 0.7076 - acc: 0.5000 - val_loss: 0.6941 - val_acc: 0.5000\n",
            "\n",
            "Epoch 00029: val_loss did not improve from 0.68525\n",
            "Epoch 30/50\n",
            " - 1s - loss: 0.6991 - acc: 0.4750 - val_loss: 0.7167 - val_acc: 0.4531\n",
            "\n",
            "Epoch 00030: val_loss did not improve from 0.68525\n",
            "Epoch 31/50\n",
            " - 1s - loss: 0.7018 - acc: 0.4875 - val_loss: 0.7287 - val_acc: 0.4219\n",
            "\n",
            "Epoch 00031: val_loss did not improve from 0.68525\n",
            "Epoch 32/50\n",
            " - 1s - loss: 0.6990 - acc: 0.5187 - val_loss: 0.6948 - val_acc: 0.5000\n",
            "\n",
            "Epoch 00032: val_loss did not improve from 0.68525\n",
            "Epoch 33/50\n",
            " - 1s - loss: 0.7055 - acc: 0.4562 - val_loss: 0.6925 - val_acc: 0.5469\n",
            "\n",
            "Epoch 00033: val_loss did not improve from 0.68525\n",
            "Epoch 34/50\n",
            " - 1s - loss: 0.6899 - acc: 0.5500 - val_loss: 0.6793 - val_acc: 0.5833\n",
            "\n",
            "Epoch 00034: val_loss improved from 0.68525 to 0.67932, saving model to weights_architecture_1.hdf5\n",
            "Epoch 35/50\n",
            " - 1s - loss: 0.7228 - acc: 0.4375 - val_loss: 0.7246 - val_acc: 0.4844\n",
            "\n",
            "Epoch 00035: val_loss did not improve from 0.67932\n",
            "Epoch 36/50\n",
            " - 1s - loss: 0.6910 - acc: 0.5625 - val_loss: 0.6866 - val_acc: 0.5625\n",
            "\n",
            "Epoch 00036: val_loss did not improve from 0.67932\n",
            "Epoch 37/50\n",
            " - 1s - loss: 0.7126 - acc: 0.5125 - val_loss: 0.7059 - val_acc: 0.5000\n",
            "\n",
            "Epoch 00037: val_loss did not improve from 0.67932\n",
            "Epoch 38/50\n",
            " - 1s - loss: 0.7040 - acc: 0.4813 - val_loss: 0.7259 - val_acc: 0.4219\n",
            "\n",
            "Epoch 00038: val_loss did not improve from 0.67932\n",
            "Epoch 39/50\n",
            " - 1s - loss: 0.6976 - acc: 0.5000 - val_loss: 0.7008 - val_acc: 0.4219\n",
            "\n",
            "Epoch 00039: val_loss did not improve from 0.67932\n",
            "Epoch 40/50\n",
            " - 1s - loss: 0.6960 - acc: 0.5563 - val_loss: 0.6971 - val_acc: 0.4375\n",
            "\n",
            "Epoch 00040: val_loss did not improve from 0.67932\n",
            "Epoch 41/50\n",
            " - 1s - loss: 0.6947 - acc: 0.4937 - val_loss: 0.6854 - val_acc: 0.5781\n",
            "\n",
            "Epoch 00041: val_loss did not improve from 0.67932\n",
            "Epoch 42/50\n",
            " - 1s - loss: 0.7038 - acc: 0.5375 - val_loss: 0.7369 - val_acc: 0.4062\n",
            "\n",
            "Epoch 00042: val_loss did not improve from 0.67932\n",
            "Epoch 43/50\n",
            " - 1s - loss: 0.6989 - acc: 0.5438 - val_loss: 0.7579 - val_acc: 0.4062\n",
            "\n",
            "Epoch 00043: val_loss did not improve from 0.67932\n",
            "Epoch 44/50\n",
            " - 1s - loss: 0.6993 - acc: 0.4937 - val_loss: 0.6951 - val_acc: 0.4844\n",
            "\n",
            "Epoch 00044: val_loss did not improve from 0.67932\n",
            "Epoch 45/50\n",
            " - 1s - loss: 0.6836 - acc: 0.5438 - val_loss: 0.6992 - val_acc: 0.5469\n",
            "\n",
            "Epoch 00045: val_loss did not improve from 0.67932\n",
            "Epoch 46/50\n",
            " - 1s - loss: 0.7048 - acc: 0.5187 - val_loss: 0.8026 - val_acc: 0.4062\n",
            "\n",
            "Epoch 00046: val_loss did not improve from 0.67932\n",
            "Epoch 47/50\n",
            " - 1s - loss: 0.7216 - acc: 0.4312 - val_loss: 0.7953 - val_acc: 0.4062\n",
            "\n",
            "Epoch 00047: val_loss did not improve from 0.67932\n",
            "Epoch 48/50\n",
            " - 1s - loss: 0.7140 - acc: 0.4750 - val_loss: 0.6974 - val_acc: 0.4844\n",
            "\n",
            "Epoch 00048: val_loss did not improve from 0.67932\n",
            "Epoch 49/50\n",
            " - 1s - loss: 0.6993 - acc: 0.4688 - val_loss: 0.6791 - val_acc: 0.5938\n",
            "\n",
            "Epoch 00049: val_loss improved from 0.67932 to 0.67907, saving model to weights_architecture_1.hdf5\n",
            "Epoch 50/50\n",
            " - 1s - loss: 0.7025 - acc: 0.4375 - val_loss: 0.7707 - val_acc: 0.4062\n",
            "\n",
            "Epoch 00050: val_loss did not improve from 0.67907\n"
          ],
          "name": "stdout"
        }
      ]
    },
    {
      "metadata": {
        "id": "VeLCe59ltne5",
        "colab_type": "code",
        "outputId": "40c086dc-d49b-494e-d894-8fda650cba57",
        "colab": {
          "base_uri": "https://localhost:8080/",
          "height": 380
        }
      },
      "cell_type": "code",
      "source": [
        "# plotar loss e accuracy para os datasets 'train' e 'test'\n",
        "plt.style.use(\"ggplot\")\n",
        "plt.figure()\n",
        "plt.plot(training.history['acc'], label='Accuracy')\n",
        "plt.plot(training.history['loss'], label='Loss')\n",
        "plt.xlabel('Epochs')\n",
        "plt.ylabel('Accuracy')\n",
        "plt.title(\"Training Loss and Accuracy\")\n",
        "plt.ylabel(\"Loss/Accuracy\")\n",
        "plt.legend()\n",
        "plt.savefig('architecture_1.png', bbox_inches='tight')"
      ],
      "execution_count": 0,
      "outputs": [
        {
          "output_type": "display_data",
          "data": {
            "image/png": "[encoded data removed]",
            "text/plain": [
              "<matplotlib.figure.Figure at 0x7fe0e44029e8>"
            ]
          },
          "metadata": {
            "tags": []
          }
        }
      ]
    },
    {
      "metadata": {
        "id": "c1LR04eV6AJ5",
        "colab_type": "code",
        "colab": {}
      },
      "cell_type": "code",
      "source": [
        "model.load_weights('weights_architecture_1.hdf5')"
      ],
      "execution_count": 0,
      "outputs": []
    },
    {
      "metadata": {
        "id": "gFQR2k7Ns8SN",
        "colab_type": "code",
        "outputId": "6cee2fbe-d0a7-495c-d66a-34607bc75fb8",
        "colab": {
          "base_uri": "https://localhost:8080/",
          "height": 35
        }
      },
      "cell_type": "code",
      "source": [
        "results['architecture_1'] = model.evaluate_generator(test_batches, steps=bSize, use_multiprocessing=True, verbose=1)"
      ],
      "execution_count": 0,
      "outputs": [
        {
          "output_type": "stream",
          "text": [
            "32/32 [==============================] - 264s 8s/step\n"
          ],
          "name": "stdout"
        }
      ]
    },
    {
      "metadata": {
        "id": "Juqn8SXr0VvZ",
        "colab_type": "code",
        "outputId": "ad2be566-476c-4b04-e5e7-b9e27442bde8",
        "colab": {
          "base_uri": "https://localhost:8080/",
          "height": 35
        }
      },
      "cell_type": "code",
      "source": [
        "print('Test Loss: {} | Test Accuracy: {:.2f}%'.format(results['architecture_1'][0], 100 * results['architecture_1'][1]))"
      ],
      "execution_count": 0,
      "outputs": [
        {
          "output_type": "stream",
          "text": [
            "Test Loss: 0.6963587831705809 | Test Accuracy: 50.88%\n"
          ],
          "name": "stdout"
        }
      ]
    },
    {
      "metadata": {
        "id": "71jZE6lXsmgW",
        "colab_type": "text"
      },
      "cell_type": "markdown",
      "source": [
        "\n",
        "\n",
        "---\n",
        "\n"
      ]
    },
    {
      "metadata": {
        "id": "T7nOK0TDr6Hc",
        "colab_type": "text"
      },
      "cell_type": "markdown",
      "source": [
        "### 2 tentativa Accuracy: 51.56%"
      ]
    },
    {
      "metadata": {
        "colab_type": "text",
        "id": "-DJtvxKNp9sb"
      },
      "cell_type": "markdown",
      "source": [
        "**Descrição**\n",
        "\n",
        "\n",
        "*   Modelo descrito no artigo \"Crowdsourcing for Chromosome Segmentation and Deep Classification\"\n",
        "*   Alteração nas duas ultimas camadas Dense\n",
        "\n",
        "\n",
        "\n"
      ]
    },
    {
      "metadata": {
        "colab_type": "code",
        "id": "2PSEo_Mzr8zK",
        "colab": {}
      },
      "cell_type": "code",
      "source": [
        "model = Sequential([\n",
        "    Conv2D(64, (3, 3), activation='relu', input_shape=(120, 120, 3)),\n",
        "    Conv2D(64, (3, 3), activation='relu'),\n",
        "    Dropout(0.2),\n",
        "    MaxPooling2D(pool_size=(2, 2)),\n",
        "   \n",
        "    Conv2D(32, (3, 3), activation='relu'),\n",
        "    Conv2D(32, (3, 3), activation='relu'),\n",
        "    Dropout(0.2),\n",
        "    MaxPooling2D(pool_size=(2, 2)),\n",
        "   \n",
        "    Conv2D(16, (3, 3), activation='relu'),\n",
        "    Conv2D(16, (3, 3), activation='relu'),\n",
        "    Dropout(0.2),\n",
        "    MaxPooling2D(pool_size=(2, 2)),\n",
        "   \n",
        "    Conv2D(8, (3, 3), activation='relu'),\n",
        "    Conv2D(8, (3, 3), activation='relu'),\n",
        "    Dropout(0.2),\n",
        "    MaxPooling2D(pool_size=(2, 2)),\n",
        "    \n",
        "    Flatten(),\n",
        "    Dense(512, activation='relu'),\n",
        "   \n",
        "    Dense(2, activation='softmax')\n",
        "]\n",
        ")"
      ],
      "execution_count": 0,
      "outputs": []
    },
    {
      "metadata": {
        "colab_type": "code",
        "id": "wTvCLywPr8zj",
        "colab": {}
      },
      "cell_type": "code",
      "source": [
        "model.compile(SGD(lr=0.01, momentum=0.0, decay=0.0, nesterov=False), \n",
        "              loss='categorical_crossentropy', metrics=['accuracy'])"
      ],
      "execution_count": 0,
      "outputs": []
    },
    {
      "metadata": {
        "id": "NzLTzTmS5qOI",
        "colab_type": "code",
        "colab": {}
      },
      "cell_type": "code",
      "source": [
        "checkpointer = ModelCheckpoint(filepath='weights_architecture_2.hdf5', verbose=1, save_best_only=True)"
      ],
      "execution_count": 0,
      "outputs": []
    },
    {
      "metadata": {
        "colab_type": "code",
        "id": "P5mNUnc52wDQ",
        "outputId": "f9abcf50-a924-42cb-bb24-a33a316a6736",
        "colab": {
          "base_uri": "https://localhost:8080/",
          "height": 3690
        }
      },
      "cell_type": "code",
      "source": [
        "training = model.fit_generator(train_batches, steps_per_epoch=stepsPerEpoche, \n",
        "                   validation_data=validation_batches, validation_steps=validationSteps,\n",
        "                   epochs=50, verbose=2, callbacks=[checkpointer])"
      ],
      "execution_count": 0,
      "outputs": [
        {
          "output_type": "stream",
          "text": [
            "Epoch 1/50\n",
            " - 2s - loss: 0.6875 - acc: 0.5753 - val_loss: 0.6962 - val_acc: 0.4375\n",
            "\n",
            "Epoch 00001: val_loss improved from inf to 0.69617, saving model to weights_architecture_2.hdf5\n",
            "Epoch 2/50\n",
            " - 1s - loss: 0.6970 - acc: 0.4688 - val_loss: 0.6911 - val_acc: 0.5469\n",
            "\n",
            "Epoch 00002: val_loss improved from 0.69617 to 0.69113, saving model to weights_architecture_2.hdf5\n",
            "Epoch 3/50\n",
            " - 1s - loss: 0.6937 - acc: 0.5125 - val_loss: 0.6917 - val_acc: 0.5469\n",
            "\n",
            "Epoch 00003: val_loss did not improve from 0.69113\n",
            "Epoch 4/50\n",
            " - 1s - loss: 0.6953 - acc: 0.4625 - val_loss: 0.6921 - val_acc: 0.5625\n",
            "\n",
            "Epoch 00004: val_loss did not improve from 0.69113\n",
            "Epoch 5/50\n",
            " - 1s - loss: 0.6946 - acc: 0.4813 - val_loss: 0.6927 - val_acc: 0.5625\n",
            "\n",
            "Epoch 00005: val_loss did not improve from 0.69113\n",
            "Epoch 6/50\n",
            " - 1s - loss: 0.6947 - acc: 0.4813 - val_loss: 0.6931 - val_acc: 0.4844\n",
            "\n",
            "Epoch 00006: val_loss did not improve from 0.69113\n",
            "Epoch 7/50\n",
            " - 1s - loss: 0.6933 - acc: 0.5000 - val_loss: 0.6930 - val_acc: 0.5156\n",
            "\n",
            "Epoch 00007: val_loss did not improve from 0.69113\n",
            "Epoch 8/50\n",
            " - 1s - loss: 0.6925 - acc: 0.5312 - val_loss: 0.6931 - val_acc: 0.4688\n",
            "\n",
            "Epoch 00008: val_loss did not improve from 0.69113\n",
            "Epoch 9/50\n",
            " - 1s - loss: 0.6928 - acc: 0.4875 - val_loss: 0.6935 - val_acc: 0.5000\n",
            "\n",
            "Epoch 00009: val_loss did not improve from 0.69113\n",
            "Epoch 10/50\n",
            " - 1s - loss: 0.6922 - acc: 0.5563 - val_loss: 0.6929 - val_acc: 0.5000\n",
            "\n",
            "Epoch 00010: val_loss did not improve from 0.69113\n",
            "Epoch 11/50\n",
            " - 1s - loss: 0.6931 - acc: 0.5312 - val_loss: 0.6946 - val_acc: 0.4219\n",
            "\n",
            "Epoch 00011: val_loss did not improve from 0.69113\n",
            "Epoch 12/50\n",
            " - 1s - loss: 0.6927 - acc: 0.5375 - val_loss: 0.6884 - val_acc: 0.6094\n",
            "\n",
            "Epoch 00012: val_loss improved from 0.69113 to 0.68835, saving model to weights_architecture_2.hdf5\n",
            "Epoch 13/50\n",
            " - 1s - loss: 0.6926 - acc: 0.5000 - val_loss: 0.6894 - val_acc: 0.5833\n",
            "\n",
            "Epoch 00013: val_loss did not improve from 0.68835\n",
            "Epoch 14/50\n",
            " - 1s - loss: 0.6929 - acc: 0.4875 - val_loss: 0.6903 - val_acc: 0.5469\n",
            "\n",
            "Epoch 00014: val_loss did not improve from 0.68835\n",
            "Epoch 15/50\n",
            " - 1s - loss: 0.6919 - acc: 0.5375 - val_loss: 0.6971 - val_acc: 0.3438\n",
            "\n",
            "Epoch 00015: val_loss did not improve from 0.68835\n",
            "Epoch 16/50\n",
            " - 1s - loss: 0.6923 - acc: 0.5687 - val_loss: 0.6893 - val_acc: 0.6094\n",
            "\n",
            "Epoch 00016: val_loss did not improve from 0.68835\n",
            "Epoch 17/50\n",
            " - 1s - loss: 0.6924 - acc: 0.5375 - val_loss: 0.6935 - val_acc: 0.4844\n",
            "\n",
            "Epoch 00017: val_loss did not improve from 0.68835\n",
            "Epoch 18/50\n",
            " - 1s - loss: 0.6923 - acc: 0.5812 - val_loss: 0.6949 - val_acc: 0.3906\n",
            "\n",
            "Epoch 00018: val_loss did not improve from 0.68835\n",
            "Epoch 19/50\n",
            " - 1s - loss: 0.6917 - acc: 0.5500 - val_loss: 0.6929 - val_acc: 0.4844\n",
            "\n",
            "Epoch 00019: val_loss did not improve from 0.68835\n",
            "Epoch 20/50\n",
            " - 1s - loss: 0.6911 - acc: 0.5312 - val_loss: 0.6929 - val_acc: 0.5625\n",
            "\n",
            "Epoch 00020: val_loss did not improve from 0.68835\n",
            "Epoch 21/50\n",
            " - 1s - loss: 0.6901 - acc: 0.5438 - val_loss: 0.6925 - val_acc: 0.5938\n",
            "\n",
            "Epoch 00021: val_loss did not improve from 0.68835\n",
            "Epoch 22/50\n",
            " - 1s - loss: 0.6893 - acc: 0.5500 - val_loss: 0.6927 - val_acc: 0.5312\n",
            "\n",
            "Epoch 00022: val_loss did not improve from 0.68835\n",
            "Epoch 23/50\n",
            " - 1s - loss: 0.6902 - acc: 0.5438 - val_loss: 0.6917 - val_acc: 0.5625\n",
            "\n",
            "Epoch 00023: val_loss did not improve from 0.68835\n",
            "Epoch 24/50\n",
            " - 1s - loss: 0.6928 - acc: 0.4937 - val_loss: 0.6928 - val_acc: 0.5000\n",
            "\n",
            "Epoch 00024: val_loss did not improve from 0.68835\n",
            "Epoch 25/50\n",
            " - 1s - loss: 0.6928 - acc: 0.5000 - val_loss: 0.6922 - val_acc: 0.5469\n",
            "\n",
            "Epoch 00025: val_loss did not improve from 0.68835\n",
            "Epoch 26/50\n",
            " - 1s - loss: 0.6922 - acc: 0.4937 - val_loss: 0.6927 - val_acc: 0.6094\n",
            "\n",
            "Epoch 00026: val_loss did not improve from 0.68835\n",
            "Epoch 27/50\n",
            " - 1s - loss: 0.6894 - acc: 0.5563 - val_loss: 0.6922 - val_acc: 0.5938\n",
            "\n",
            "Epoch 00027: val_loss did not improve from 0.68835\n",
            "Epoch 28/50\n",
            " - 1s - loss: 0.6872 - acc: 0.5753 - val_loss: 0.6906 - val_acc: 0.5469\n",
            "\n",
            "Epoch 00028: val_loss did not improve from 0.68835\n",
            "Epoch 29/50\n",
            " - 1s - loss: 0.6833 - acc: 0.5812 - val_loss: 0.6941 - val_acc: 0.4844\n",
            "\n",
            "Epoch 00029: val_loss did not improve from 0.68835\n",
            "Epoch 30/50\n",
            " - 1s - loss: 0.6879 - acc: 0.5250 - val_loss: 0.6882 - val_acc: 0.5000\n",
            "\n",
            "Epoch 00030: val_loss improved from 0.68835 to 0.68818, saving model to weights_architecture_2.hdf5\n",
            "Epoch 31/50\n",
            " - 1s - loss: 0.6870 - acc: 0.5438 - val_loss: 0.6954 - val_acc: 0.4219\n",
            "\n",
            "Epoch 00031: val_loss did not improve from 0.68818\n",
            "Epoch 32/50\n",
            " - 1s - loss: 0.6940 - acc: 0.4813 - val_loss: 0.6889 - val_acc: 0.6250\n",
            "\n",
            "Epoch 00032: val_loss did not improve from 0.68818\n",
            "Epoch 33/50\n",
            " - 1s - loss: 0.6797 - acc: 0.5687 - val_loss: 0.6906 - val_acc: 0.5156\n",
            "\n",
            "Epoch 00033: val_loss did not improve from 0.68818\n",
            "Epoch 34/50\n",
            " - 1s - loss: 0.6877 - acc: 0.5312 - val_loss: 0.6941 - val_acc: 0.4844\n",
            "\n",
            "Epoch 00034: val_loss did not improve from 0.68818\n",
            "Epoch 35/50\n",
            " - 1s - loss: 0.6937 - acc: 0.4875 - val_loss: 0.6898 - val_acc: 0.5938\n",
            "\n",
            "Epoch 00035: val_loss did not improve from 0.68818\n",
            "Epoch 36/50\n",
            " - 1s - loss: 0.6896 - acc: 0.5125 - val_loss: 0.6907 - val_acc: 0.6406\n",
            "\n",
            "Epoch 00036: val_loss did not improve from 0.68818\n",
            "Epoch 37/50\n",
            " - 1s - loss: 0.6911 - acc: 0.5250 - val_loss: 0.6914 - val_acc: 0.6250\n",
            "\n",
            "Epoch 00037: val_loss did not improve from 0.68818\n",
            "Epoch 38/50\n",
            " - 1s - loss: 0.6895 - acc: 0.5062 - val_loss: 0.6929 - val_acc: 0.6250\n",
            "\n",
            "Epoch 00038: val_loss did not improve from 0.68818\n",
            "Epoch 39/50\n",
            " - 1s - loss: 0.6886 - acc: 0.5563 - val_loss: 0.6915 - val_acc: 0.5938\n",
            "\n",
            "Epoch 00039: val_loss did not improve from 0.68818\n",
            "Epoch 40/50\n",
            " - 1s - loss: 0.6912 - acc: 0.5125 - val_loss: 0.6928 - val_acc: 0.4375\n",
            "\n",
            "Epoch 00040: val_loss did not improve from 0.68818\n",
            "Epoch 41/50\n",
            " - 1s - loss: 0.6905 - acc: 0.6000 - val_loss: 0.6914 - val_acc: 0.5312\n",
            "\n",
            "Epoch 00041: val_loss did not improve from 0.68818\n",
            "Epoch 42/50\n",
            " - 1s - loss: 0.6870 - acc: 0.6250 - val_loss: 0.6873 - val_acc: 0.5938\n",
            "\n",
            "Epoch 00042: val_loss improved from 0.68818 to 0.68733, saving model to weights_architecture_2.hdf5\n",
            "Epoch 43/50\n",
            " - 1s - loss: 0.6898 - acc: 0.5625 - val_loss: 0.6863 - val_acc: 0.5625\n",
            "\n",
            "Epoch 00043: val_loss improved from 0.68733 to 0.68634, saving model to weights_architecture_2.hdf5\n",
            "Epoch 44/50\n",
            " - 1s - loss: 0.6890 - acc: 0.5812 - val_loss: 0.6921 - val_acc: 0.4844\n",
            "\n",
            "Epoch 00044: val_loss did not improve from 0.68634\n",
            "Epoch 45/50\n",
            " - 1s - loss: 0.6874 - acc: 0.5812 - val_loss: 0.6888 - val_acc: 0.4844\n",
            "\n",
            "Epoch 00045: val_loss did not improve from 0.68634\n",
            "Epoch 46/50\n",
            " - 1s - loss: 0.6852 - acc: 0.6562 - val_loss: 0.6916 - val_acc: 0.4688\n",
            "\n",
            "Epoch 00046: val_loss did not improve from 0.68634\n",
            "Epoch 47/50\n",
            " - 1s - loss: 0.6883 - acc: 0.6063 - val_loss: 0.6835 - val_acc: 0.5833\n",
            "\n",
            "Epoch 00047: val_loss improved from 0.68634 to 0.68349, saving model to weights_architecture_2.hdf5\n",
            "Epoch 48/50\n",
            " - 1s - loss: 0.6832 - acc: 0.6688 - val_loss: 0.6905 - val_acc: 0.5312\n",
            "\n",
            "Epoch 00048: val_loss did not improve from 0.68349\n",
            "Epoch 49/50\n",
            " - 1s - loss: 0.6898 - acc: 0.5625 - val_loss: 0.6876 - val_acc: 0.5625\n",
            "\n",
            "Epoch 00049: val_loss did not improve from 0.68349\n",
            "Epoch 50/50\n",
            " - 1s - loss: 0.6868 - acc: 0.6000 - val_loss: 0.6845 - val_acc: 0.5781\n",
            "\n",
            "Epoch 00050: val_loss did not improve from 0.68349\n"
          ],
          "name": "stdout"
        }
      ]
    },
    {
      "metadata": {
        "colab_type": "code",
        "id": "0ObNfroJ2wDb",
        "outputId": "2b69332b-c64a-4193-fe39-dc48c117ab03",
        "colab": {
          "base_uri": "https://localhost:8080/",
          "height": 380
        }
      },
      "cell_type": "code",
      "source": [
        "# plotar loss e accuracy para os datasets 'train' e 'test'\n",
        "plt.style.use(\"ggplot\")\n",
        "plt.figure()\n",
        "plt.plot(training.history['acc'], label='Accuracy')\n",
        "plt.plot(training.history['loss'], label='Loss')\n",
        "plt.xlabel('Epochs')\n",
        "plt.ylabel('Accuracy')\n",
        "plt.title(\"Training Loss and Accuracy\")\n",
        "plt.ylabel(\"Loss/Accuracy\")\n",
        "plt.legend()\n",
        "plt.savefig('architecture_2.png', bbox_inches='tight')"
      ],
      "execution_count": 0,
      "outputs": [
        {
          "output_type": "display_data",
          "data": {
            "image/png": "[encoded data removed]",
            "text/plain": [
              "<matplotlib.figure.Figure at 0x7fe0d9901a20>"
            ]
          },
          "metadata": {
            "tags": []
          }
        }
      ]
    },
    {
      "metadata": {
        "id": "6ygDnB2C5lfp",
        "colab_type": "code",
        "colab": {}
      },
      "cell_type": "code",
      "source": [
        "model.load_weights('weights_architecture_2.hdf5')"
      ],
      "execution_count": 0,
      "outputs": []
    },
    {
      "metadata": {
        "colab_type": "code",
        "id": "tbMLmk6a2wDk",
        "outputId": "f2420b0b-3f1f-4e39-f63d-d5960ec8c140",
        "colab": {
          "base_uri": "https://localhost:8080/",
          "height": 35
        }
      },
      "cell_type": "code",
      "source": [
        "results['architecture_2'] = model.evaluate_generator(test_batches, steps=bSize, use_multiprocessing=True, verbose=1)"
      ],
      "execution_count": 0,
      "outputs": [
        {
          "output_type": "stream",
          "text": [
            "32/32 [==============================] - 65s 2s/step\n"
          ],
          "name": "stdout"
        }
      ]
    },
    {
      "metadata": {
        "colab_type": "code",
        "id": "uz6TAaay2wDp",
        "outputId": "a5222eed-0cd8-4c97-cd1d-e26932a851a4",
        "colab": {
          "base_uri": "https://localhost:8080/",
          "height": 35
        }
      },
      "cell_type": "code",
      "source": [
        "print('Test Loss: {} | Test Accuracy: {:.2f}%'.format(results['architecture_2'][0], 100 * results['architecture_2'][1]))"
      ],
      "execution_count": 0,
      "outputs": [
        {
          "output_type": "stream",
          "text": [
            "Test Loss: 0.6891512982547283 | Test Accuracy: 51.56%\n"
          ],
          "name": "stdout"
        }
      ]
    },
    {
      "metadata": {
        "id": "r7RpE8wBe4JQ",
        "colab_type": "text"
      },
      "cell_type": "markdown",
      "source": [
        "### 3 tentativa Accuracy: 90.62%"
      ]
    },
    {
      "metadata": {
        "id": "vdP4Yo8OgB4B",
        "colab_type": "text"
      },
      "cell_type": "markdown",
      "source": [
        "Modelo criado pelo **Lucas Valentim**\n",
        "\n",
        "https://github.com/lucasvalentim/chromosome-recognizer/blob/master/chromosome_recognizer.ipynb"
      ]
    },
    {
      "metadata": {
        "id": "3nTNgnrCe33x",
        "colab_type": "code",
        "colab": {}
      },
      "cell_type": "code",
      "source": [
        "from keras.layers import Conv2D, MaxPooling2D, GlobalMaxPooling2D, BatchNormalization\n",
        "from keras.regularizers import l2\n",
        "\n",
        "model = Sequential()\n",
        "\n",
        "model.add(Conv2D(32, (3, 3), activation='relu', kernel_regularizer=l2(1e-4), \n",
        "                 input_shape=(None, None, 3)))\n",
        "model.add(BatchNormalization())\n",
        "model.add(Conv2D(32, (3, 3), activation='relu', kernel_regularizer=l2(1e-4)))\n",
        "model.add(BatchNormalization())\n",
        "model.add(MaxPooling2D((2, 2)))\n",
        "model.add(Dropout(0.25))\n",
        "\n",
        "model.add(Conv2D(64, (3, 3), activation='relu', kernel_regularizer=l2(1e-4)))\n",
        "model.add(BatchNormalization())\n",
        "model.add(Conv2D(64, (3, 3), activation='relu', kernel_regularizer=l2(1e-4)))\n",
        "model.add(BatchNormalization())\n",
        "model.add(MaxPooling2D((2, 2)))\n",
        "model.add(Dropout(0.25))\n",
        "\n",
        "model.add(Conv2D(128, (1,1), kernel_regularizer=l2(1e-4)))\n",
        "model.add(GlobalMaxPooling2D())\n",
        "\n",
        "model.add(Dense(256, activation='relu', kernel_regularizer=l2(1e-4)))\n",
        "model.add(Dropout(0.5))\n",
        "model.add(Dense(2, activation='sigmoid', kernel_regularizer=l2(1e-4)))"
      ],
      "execution_count": 0,
      "outputs": []
    },
    {
      "metadata": {
        "id": "g1okz4QbiBnE",
        "colab_type": "code",
        "colab": {}
      },
      "cell_type": "code",
      "source": [
        "model.compile(optimizer='adam', loss='binary_crossentropy', metrics=['accuracy'])"
      ],
      "execution_count": 0,
      "outputs": []
    },
    {
      "metadata": {
        "colab_type": "code",
        "id": "ceurpIyA3JmM",
        "colab": {}
      },
      "cell_type": "code",
      "source": [
        "checkpointer = ModelCheckpoint(filepath='weights_architecture_3.hdf5', verbose=1, save_best_only=True)"
      ],
      "execution_count": 0,
      "outputs": []
    },
    {
      "metadata": {
        "colab_type": "code",
        "id": "57QCc4Rz3JmS",
        "outputId": "d05b71e3-2b33-4d9c-b0d7-70455a8159ea",
        "colab": {
          "base_uri": "https://localhost:8080/",
          "height": 3690
        }
      },
      "cell_type": "code",
      "source": [
        "training = model.fit_generator(train_batches, steps_per_epoch=stepsPerEpoche, \n",
        "                   validation_data=validation_batches, validation_steps=validationSteps,\n",
        "                   epochs=50, verbose=2, callbacks=[checkpointer])"
      ],
      "execution_count": 0,
      "outputs": [
        {
          "output_type": "stream",
          "text": [
            "Epoch 1/50\n",
            " - 3s - loss: 2.0591 - acc: 0.5281 - val_loss: 0.7373 - val_acc: 0.5312\n",
            "\n",
            "Epoch 00001: val_loss improved from inf to 0.73728, saving model to weights_architecture_3.hdf5\n",
            "Epoch 2/50\n",
            " - 1s - loss: 1.0502 - acc: 0.6506 - val_loss: 0.6993 - val_acc: 0.6094\n",
            "\n",
            "Epoch 00002: val_loss improved from 0.73728 to 0.69933, saving model to weights_architecture_3.hdf5\n",
            "Epoch 3/50\n",
            " - 1s - loss: 1.1533 - acc: 0.6469 - val_loss: 1.4527 - val_acc: 0.4688\n",
            "\n",
            "Epoch 00003: val_loss did not improve from 0.69933\n",
            "Epoch 4/50\n",
            " - 1s - loss: 0.8386 - acc: 0.6781 - val_loss: 1.3443 - val_acc: 0.4531\n",
            "\n",
            "Epoch 00004: val_loss did not improve from 0.69933\n",
            "Epoch 5/50\n",
            " - 1s - loss: 0.7097 - acc: 0.7438 - val_loss: 1.3452 - val_acc: 0.5156\n",
            "\n",
            "Epoch 00005: val_loss did not improve from 0.69933\n",
            "Epoch 6/50\n",
            " - 1s - loss: 0.8142 - acc: 0.6688 - val_loss: 1.0452 - val_acc: 0.5312\n",
            "\n",
            "Epoch 00006: val_loss did not improve from 0.69933\n",
            "Epoch 7/50\n",
            " - 1s - loss: 0.7679 - acc: 0.6937 - val_loss: 1.1142 - val_acc: 0.4531\n",
            "\n",
            "Epoch 00007: val_loss did not improve from 0.69933\n",
            "Epoch 8/50\n",
            " - 1s - loss: 0.4902 - acc: 0.7938 - val_loss: 0.7504 - val_acc: 0.5547\n",
            "\n",
            "Epoch 00008: val_loss did not improve from 0.69933\n",
            "Epoch 9/50\n",
            " - 1s - loss: 0.3697 - acc: 0.8937 - val_loss: 0.8709 - val_acc: 0.5938\n",
            "\n",
            "Epoch 00009: val_loss did not improve from 0.69933\n",
            "Epoch 10/50\n",
            " - 1s - loss: 0.4390 - acc: 0.8281 - val_loss: 0.6060 - val_acc: 0.6094\n",
            "\n",
            "Epoch 00010: val_loss improved from 0.69933 to 0.60603, saving model to weights_architecture_3.hdf5\n",
            "Epoch 11/50\n",
            " - 1s - loss: 0.5659 - acc: 0.7906 - val_loss: 0.7502 - val_acc: 0.5625\n",
            "\n",
            "Epoch 00011: val_loss did not improve from 0.60603\n",
            "Epoch 12/50\n",
            " - 1s - loss: 0.4364 - acc: 0.8063 - val_loss: 0.7016 - val_acc: 0.5625\n",
            "\n",
            "Epoch 00012: val_loss did not improve from 0.60603\n",
            "Epoch 13/50\n",
            " - 1s - loss: 0.3683 - acc: 0.8719 - val_loss: 1.0065 - val_acc: 0.4688\n",
            "\n",
            "Epoch 00013: val_loss did not improve from 0.60603\n",
            "Epoch 14/50\n",
            " - 1s - loss: 0.3365 - acc: 0.9031 - val_loss: 0.8587 - val_acc: 0.6016\n",
            "\n",
            "Epoch 00014: val_loss did not improve from 0.60603\n",
            "Epoch 15/50\n",
            " - 1s - loss: 0.4455 - acc: 0.8312 - val_loss: 1.0952 - val_acc: 0.4766\n",
            "\n",
            "Epoch 00015: val_loss did not improve from 0.60603\n",
            "Epoch 16/50\n",
            " - 1s - loss: 0.3772 - acc: 0.8844 - val_loss: 0.9956 - val_acc: 0.4922\n",
            "\n",
            "Epoch 00016: val_loss did not improve from 0.60603\n",
            "Epoch 17/50\n",
            " - 1s - loss: 0.3961 - acc: 0.8375 - val_loss: 0.9280 - val_acc: 0.6016\n",
            "\n",
            "Epoch 00017: val_loss did not improve from 0.60603\n",
            "Epoch 18/50\n",
            " - 1s - loss: 0.3793 - acc: 0.8844 - val_loss: 0.6866 - val_acc: 0.6250\n",
            "\n",
            "Epoch 00018: val_loss did not improve from 0.60603\n",
            "Epoch 19/50\n",
            " - 1s - loss: 0.6197 - acc: 0.7844 - val_loss: 0.6674 - val_acc: 0.6094\n",
            "\n",
            "Epoch 00019: val_loss did not improve from 0.60603\n",
            "Epoch 20/50\n",
            " - 1s - loss: 0.4923 - acc: 0.8312 - val_loss: 0.7917 - val_acc: 0.5156\n",
            "\n",
            "Epoch 00020: val_loss did not improve from 0.60603\n",
            "Epoch 21/50\n",
            " - 1s - loss: 0.4132 - acc: 0.8312 - val_loss: 0.7776 - val_acc: 0.5859\n",
            "\n",
            "Epoch 00021: val_loss did not improve from 0.60603\n",
            "Epoch 22/50\n",
            " - 1s - loss: 0.3776 - acc: 0.8844 - val_loss: 0.9334 - val_acc: 0.5469\n",
            "\n",
            "Epoch 00022: val_loss did not improve from 0.60603\n",
            "Epoch 23/50\n",
            " - 1s - loss: 0.3891 - acc: 0.8844 - val_loss: 0.8682 - val_acc: 0.5391\n",
            "\n",
            "Epoch 00023: val_loss did not improve from 0.60603\n",
            "Epoch 24/50\n",
            " - 1s - loss: 0.3452 - acc: 0.8750 - val_loss: 0.6678 - val_acc: 0.5938\n",
            "\n",
            "Epoch 00024: val_loss did not improve from 0.60603\n",
            "Epoch 25/50\n",
            " - 1s - loss: 0.3526 - acc: 0.8469 - val_loss: 0.9098 - val_acc: 0.5312\n",
            "\n",
            "Epoch 00025: val_loss did not improve from 0.60603\n",
            "Epoch 26/50\n",
            " - 1s - loss: 0.4072 - acc: 0.8156 - val_loss: 0.4323 - val_acc: 0.6875\n",
            "\n",
            "Epoch 00026: val_loss improved from 0.60603 to 0.43230, saving model to weights_architecture_3.hdf5\n",
            "Epoch 27/50\n",
            " - 1s - loss: 0.3475 - acc: 0.8531 - val_loss: 0.6294 - val_acc: 0.7266\n",
            "\n",
            "Epoch 00027: val_loss did not improve from 0.43230\n",
            "Epoch 28/50\n",
            " - 1s - loss: 0.3698 - acc: 0.8625 - val_loss: 0.3651 - val_acc: 0.9219\n",
            "\n",
            "Epoch 00028: val_loss improved from 0.43230 to 0.36514, saving model to weights_architecture_3.hdf5\n",
            "Epoch 29/50\n",
            " - 1s - loss: 0.3927 - acc: 0.8641 - val_loss: 0.4496 - val_acc: 0.7891\n",
            "\n",
            "Epoch 00029: val_loss did not improve from 0.36514\n",
            "Epoch 30/50\n",
            " - 1s - loss: 0.3785 - acc: 0.8875 - val_loss: 0.4169 - val_acc: 0.8203\n",
            "\n",
            "Epoch 00030: val_loss did not improve from 0.36514\n",
            "Epoch 31/50\n",
            " - 1s - loss: 0.4027 - acc: 0.8406 - val_loss: 0.3841 - val_acc: 0.9062\n",
            "\n",
            "Epoch 00031: val_loss did not improve from 0.36514\n",
            "Epoch 32/50\n",
            " - 1s - loss: 0.3720 - acc: 0.8594 - val_loss: 0.5173 - val_acc: 0.7812\n",
            "\n",
            "Epoch 00032: val_loss did not improve from 0.36514\n",
            "Epoch 33/50\n",
            " - 1s - loss: 0.4708 - acc: 0.8500 - val_loss: 0.3986 - val_acc: 0.9062\n",
            "\n",
            "Epoch 00033: val_loss did not improve from 0.36514\n",
            "Epoch 34/50\n",
            " - 1s - loss: 0.5927 - acc: 0.7719 - val_loss: 0.3939 - val_acc: 0.8828\n",
            "\n",
            "Epoch 00034: val_loss did not improve from 0.36514\n",
            "Epoch 35/50\n",
            " - 1s - loss: 0.4636 - acc: 0.8469 - val_loss: 0.4447 - val_acc: 0.7969\n",
            "\n",
            "Epoch 00035: val_loss did not improve from 0.36514\n",
            "Epoch 36/50\n",
            " - 1s - loss: 0.3577 - acc: 0.8812 - val_loss: 0.3775 - val_acc: 0.8906\n",
            "\n",
            "Epoch 00036: val_loss did not improve from 0.36514\n",
            "Epoch 37/50\n",
            " - 1s - loss: 0.3579 - acc: 0.8844 - val_loss: 0.3816 - val_acc: 0.8281\n",
            "\n",
            "Epoch 00037: val_loss did not improve from 0.36514\n",
            "Epoch 38/50\n",
            " - 1s - loss: 0.4167 - acc: 0.8438 - val_loss: 0.2699 - val_acc: 0.9453\n",
            "\n",
            "Epoch 00038: val_loss improved from 0.36514 to 0.26991, saving model to weights_architecture_3.hdf5\n",
            "Epoch 39/50\n",
            " - 1s - loss: 0.3334 - acc: 0.8688 - val_loss: 0.3855 - val_acc: 0.8516\n",
            "\n",
            "Epoch 00039: val_loss did not improve from 0.26991\n",
            "Epoch 40/50\n",
            " - 1s - loss: 0.3964 - acc: 0.8781 - val_loss: 0.4159 - val_acc: 0.8672\n",
            "\n",
            "Epoch 00040: val_loss did not improve from 0.26991\n",
            "Epoch 41/50\n",
            " - 1s - loss: 0.3768 - acc: 0.8937 - val_loss: 0.2478 - val_acc: 0.9609\n",
            "\n",
            "Epoch 00041: val_loss improved from 0.26991 to 0.24775, saving model to weights_architecture_3.hdf5\n",
            "Epoch 42/50\n",
            " - 1s - loss: 0.4040 - acc: 0.8563 - val_loss: 0.2810 - val_acc: 0.9219\n",
            "\n",
            "Epoch 00042: val_loss did not improve from 0.24775\n",
            "Epoch 43/50\n",
            " - 1s - loss: 0.3420 - acc: 0.8812 - val_loss: 0.3358 - val_acc: 0.8854\n",
            "\n",
            "Epoch 00043: val_loss did not improve from 0.24775\n",
            "Epoch 44/50\n",
            " - 1s - loss: 0.2310 - acc: 0.9250 - val_loss: 0.2756 - val_acc: 0.9219\n",
            "\n",
            "Epoch 00044: val_loss did not improve from 0.24775\n",
            "Epoch 45/50\n",
            " - 1s - loss: 0.4356 - acc: 0.8438 - val_loss: 0.2632 - val_acc: 0.9297\n",
            "\n",
            "Epoch 00045: val_loss did not improve from 0.24775\n",
            "Epoch 46/50\n",
            " - 1s - loss: 0.3689 - acc: 0.8563 - val_loss: 0.2956 - val_acc: 0.9531\n",
            "\n",
            "Epoch 00046: val_loss did not improve from 0.24775\n",
            "Epoch 47/50\n",
            " - 1s - loss: 0.3078 - acc: 0.8937 - val_loss: 0.3955 - val_acc: 0.8984\n",
            "\n",
            "Epoch 00047: val_loss did not improve from 0.24775\n",
            "Epoch 48/50\n",
            " - 1s - loss: 0.3616 - acc: 0.8750 - val_loss: 0.2581 - val_acc: 0.9453\n",
            "\n",
            "Epoch 00048: val_loss did not improve from 0.24775\n",
            "Epoch 49/50\n",
            " - 1s - loss: 0.4088 - acc: 0.8563 - val_loss: 0.3643 - val_acc: 0.9062\n",
            "\n",
            "Epoch 00049: val_loss did not improve from 0.24775\n",
            "Epoch 50/50\n",
            " - 1s - loss: 0.3491 - acc: 0.8875 - val_loss: 0.2322 - val_acc: 0.9688\n",
            "\n",
            "Epoch 00050: val_loss improved from 0.24775 to 0.23221, saving model to weights_architecture_3.hdf5\n"
          ],
          "name": "stdout"
        }
      ]
    },
    {
      "metadata": {
        "colab_type": "code",
        "id": "RXVTmOSb3Jmc",
        "outputId": "09334e4b-118d-49ce-a81d-eb83290405f3",
        "colab": {
          "base_uri": "https://localhost:8080/",
          "height": 380
        }
      },
      "cell_type": "code",
      "source": [
        "# plotar loss e accuracy para os datasets 'train' e 'test'\n",
        "plt.style.use(\"ggplot\")\n",
        "plt.figure()\n",
        "plt.plot(training.history['acc'], label='Accuracy')\n",
        "plt.plot(training.history['loss'], label='Loss')\n",
        "plt.xlabel('Epochs')\n",
        "plt.ylabel('Accuracy')\n",
        "plt.title(\"Training Loss and Accuracy\")\n",
        "plt.ylabel(\"Loss/Accuracy\")\n",
        "plt.legend()\n",
        "plt.savefig('architecture_3.png', bbox_inches='tight')"
      ],
      "execution_count": 0,
      "outputs": [
        {
          "output_type": "display_data",
          "data": {
            "image/png": "[encoded data removed]",
            "text/plain": [
              "<matplotlib.figure.Figure at 0x7fe0d997aa90>"
            ]
          },
          "metadata": {
            "tags": []
          }
        }
      ]
    },
    {
      "metadata": {
        "id": "beMjDQ5a42rk",
        "colab_type": "code",
        "colab": {}
      },
      "cell_type": "code",
      "source": [
        "model.load_weights('weights_architecture_3.hdf5')"
      ],
      "execution_count": 0,
      "outputs": []
    },
    {
      "metadata": {
        "colab_type": "code",
        "id": "NO1wFDaN3Jmn",
        "outputId": "de965ddd-9ac0-4925-e9ba-8a35810c23e3",
        "colab": {
          "base_uri": "https://localhost:8080/",
          "height": 35
        }
      },
      "cell_type": "code",
      "source": [
        "results['architecture_3'] = model.evaluate_generator(test_batches, steps=bSize, use_multiprocessing=True, verbose=1)"
      ],
      "execution_count": 0,
      "outputs": [
        {
          "output_type": "stream",
          "text": [
            "32/32 [==============================] - 17s 521ms/step\n"
          ],
          "name": "stdout"
        }
      ]
    },
    {
      "metadata": {
        "colab_type": "code",
        "id": "-h1AqUQL3Jmz",
        "outputId": "efe51124-a812-4201-9477-094ba79bee09",
        "colab": {
          "base_uri": "https://localhost:8080/",
          "height": 35
        }
      },
      "cell_type": "code",
      "source": [
        "print('Test Loss: {} | Test Accuracy: {:.2f}%'.format(results['architecture_3'][0], 100 * results['architecture_3'][1]))"
      ],
      "execution_count": 0,
      "outputs": [
        {
          "output_type": "stream",
          "text": [
            "Test Loss: 0.3269681357778609 | Test Accuracy: 90.62%\n"
          ],
          "name": "stdout"
        }
      ]
    },
    {
      "metadata": {
        "id": "jkrlEFjlw030",
        "colab_type": "text"
      },
      "cell_type": "markdown",
      "source": [
        "### 4 tentativa Accuracy: 88.18%"
      ]
    },
    {
      "metadata": {
        "id": "UJ7JELAiw2kb",
        "colab_type": "text"
      },
      "cell_type": "markdown",
      "source": [
        "Modelo adaptado do **Lucas Albertins**\n",
        "\n",
        "*   Sem os **dropout**\n"
      ]
    },
    {
      "metadata": {
        "colab_type": "code",
        "id": "4N0B_5a2xB3T",
        "colab": {}
      },
      "cell_type": "code",
      "source": [
        "from keras.layers import Conv2D, MaxPooling2D, GlobalMaxPooling2D, BatchNormalization\n",
        "from keras.regularizers import l2\n",
        "\n",
        "model = Sequential()\n",
        "\n",
        "model.add(Conv2D(32, (3, 3), activation='relu', kernel_regularizer=l2(1e-4), \n",
        "                 input_shape=(None, None, 3)))\n",
        "model.add(BatchNormalization())\n",
        "model.add(Conv2D(32, (3, 3), activation='relu', kernel_regularizer=l2(1e-4)))\n",
        "model.add(BatchNormalization())\n",
        "model.add(MaxPooling2D((2, 2)))\n",
        "\n",
        "model.add(Conv2D(64, (3, 3), activation='relu', kernel_regularizer=l2(1e-4)))\n",
        "model.add(BatchNormalization())\n",
        "model.add(Conv2D(64, (3, 3), activation='relu', kernel_regularizer=l2(1e-4)))\n",
        "model.add(BatchNormalization())\n",
        "model.add(MaxPooling2D((2, 2)))\n",
        "\n",
        "model.add(Conv2D(128, (1,1), kernel_regularizer=l2(1e-4)))\n",
        "model.add(GlobalMaxPooling2D())\n",
        "\n",
        "model.add(Dense(256, activation='relu', kernel_regularizer=l2(1e-4)))\n",
        "model.add(BatchNormalization())\n",
        "model.add(Dense(2, activation='sigmoid', kernel_regularizer=l2(1e-4)))"
      ],
      "execution_count": 0,
      "outputs": []
    },
    {
      "metadata": {
        "colab_type": "code",
        "id": "V9VHjygmxB3k",
        "colab": {}
      },
      "cell_type": "code",
      "source": [
        "model.compile(optimizer='adam', loss='binary_crossentropy', metrics=['accuracy'])"
      ],
      "execution_count": 0,
      "outputs": []
    },
    {
      "metadata": {
        "colab_type": "code",
        "id": "B4b-aFhp4RmP",
        "colab": {}
      },
      "cell_type": "code",
      "source": [
        "checkpointer = ModelCheckpoint(filepath='weights_architecture_4.hdf5', verbose=1, save_best_only=True)"
      ],
      "execution_count": 0,
      "outputs": []
    },
    {
      "metadata": {
        "colab_type": "code",
        "id": "gE1pEJNR4RmV",
        "outputId": "31e7db84-bcf0-4a65-b142-cbdd95bbed42",
        "colab": {
          "base_uri": "https://localhost:8080/",
          "height": 3690
        }
      },
      "cell_type": "code",
      "source": [
        "training = model.fit_generator(train_batches, steps_per_epoch=stepsPerEpoche, \n",
        "                   validation_data=validation_batches, validation_steps=validationSteps,\n",
        "                   epochs=50, verbose=2, callbacks=[checkpointer])"
      ],
      "execution_count": 0,
      "outputs": [
        {
          "output_type": "stream",
          "text": [
            "Epoch 1/50\n",
            " - 4s - loss: 0.4910 - acc: 0.7844 - val_loss: 1.4333 - val_acc: 0.6172\n",
            "\n",
            "Epoch 00001: val_loss improved from inf to 1.43328, saving model to weights_architecture_4.hdf5\n",
            "Epoch 2/50\n",
            " - 1s - loss: 0.3443 - acc: 0.8656 - val_loss: 1.0764 - val_acc: 0.6484\n",
            "\n",
            "Epoch 00002: val_loss improved from 1.43328 to 1.07636, saving model to weights_architecture_4.hdf5\n",
            "Epoch 3/50\n",
            " - 1s - loss: 0.3576 - acc: 0.8875 - val_loss: 0.9172 - val_acc: 0.6953\n",
            "\n",
            "Epoch 00003: val_loss improved from 1.07636 to 0.91718, saving model to weights_architecture_4.hdf5\n",
            "Epoch 4/50\n",
            " - 1s - loss: 0.4780 - acc: 0.8344 - val_loss: 0.8586 - val_acc: 0.6250\n",
            "\n",
            "Epoch 00004: val_loss improved from 0.91718 to 0.85865, saving model to weights_architecture_4.hdf5\n",
            "Epoch 5/50\n",
            " - 0s - loss: 0.3907 - acc: 0.8803 - val_loss: 0.5123 - val_acc: 0.7917\n",
            "\n",
            "Epoch 00005: val_loss improved from 0.85865 to 0.51233, saving model to weights_architecture_4.hdf5\n",
            "Epoch 6/50\n",
            " - 1s - loss: 0.4022 - acc: 0.8563 - val_loss: 0.5863 - val_acc: 0.8125\n",
            "\n",
            "Epoch 00006: val_loss did not improve from 0.51233\n",
            "Epoch 7/50\n",
            " - 1s - loss: 0.4001 - acc: 0.8406 - val_loss: 0.4832 - val_acc: 0.7812\n",
            "\n",
            "Epoch 00007: val_loss improved from 0.51233 to 0.48322, saving model to weights_architecture_4.hdf5\n",
            "Epoch 8/50\n",
            " - 1s - loss: 0.2992 - acc: 0.8906 - val_loss: 0.6581 - val_acc: 0.7188\n",
            "\n",
            "Epoch 00008: val_loss did not improve from 0.48322\n",
            "Epoch 9/50\n",
            " - 1s - loss: 0.4194 - acc: 0.8531 - val_loss: 0.7582 - val_acc: 0.7031\n",
            "\n",
            "Epoch 00009: val_loss did not improve from 0.48322\n",
            "Epoch 10/50\n",
            " - 1s - loss: 0.3566 - acc: 0.8594 - val_loss: 1.0084 - val_acc: 0.5859\n",
            "\n",
            "Epoch 00010: val_loss did not improve from 0.48322\n",
            "Epoch 11/50\n",
            " - 1s - loss: 0.3083 - acc: 0.9000 - val_loss: 0.9684 - val_acc: 0.7109\n",
            "\n",
            "Epoch 00011: val_loss did not improve from 0.48322\n",
            "Epoch 12/50\n",
            " - 1s - loss: 0.3016 - acc: 0.9250 - val_loss: 0.7174 - val_acc: 0.8047\n",
            "\n",
            "Epoch 00012: val_loss did not improve from 0.48322\n",
            "Epoch 13/50\n",
            " - 1s - loss: 0.2956 - acc: 0.8969 - val_loss: 0.5496 - val_acc: 0.7578\n",
            "\n",
            "Epoch 00013: val_loss did not improve from 0.48322\n",
            "Epoch 14/50\n",
            " - 1s - loss: 0.2766 - acc: 0.8906 - val_loss: 0.3058 - val_acc: 0.8984\n",
            "\n",
            "Epoch 00014: val_loss improved from 0.48322 to 0.30577, saving model to weights_architecture_4.hdf5\n",
            "Epoch 15/50\n",
            " - 1s - loss: 0.3321 - acc: 0.9156 - val_loss: 0.4282 - val_acc: 0.8984\n",
            "\n",
            "Epoch 00015: val_loss did not improve from 0.30577\n",
            "Epoch 16/50\n",
            " - 1s - loss: 0.3252 - acc: 0.8750 - val_loss: 0.7294 - val_acc: 0.8047\n",
            "\n",
            "Epoch 00016: val_loss did not improve from 0.30577\n",
            "Epoch 17/50\n",
            " - 1s - loss: 0.3026 - acc: 0.9031 - val_loss: 0.5158 - val_acc: 0.8516\n",
            "\n",
            "Epoch 00017: val_loss did not improve from 0.30577\n",
            "Epoch 18/50\n",
            " - 1s - loss: 0.3216 - acc: 0.8781 - val_loss: 0.3284 - val_acc: 0.8750\n",
            "\n",
            "Epoch 00018: val_loss did not improve from 0.30577\n",
            "Epoch 19/50\n",
            " - 1s - loss: 0.3199 - acc: 0.8844 - val_loss: 0.4851 - val_acc: 0.8438\n",
            "\n",
            "Epoch 00019: val_loss did not improve from 0.30577\n",
            "Epoch 20/50\n",
            " - 1s - loss: 0.2517 - acc: 0.9156 - val_loss: 0.6538 - val_acc: 0.8125\n",
            "\n",
            "Epoch 00020: val_loss did not improve from 0.30577\n",
            "Epoch 21/50\n",
            " - 1s - loss: 0.2504 - acc: 0.9375 - val_loss: 0.2790 - val_acc: 0.8906\n",
            "\n",
            "Epoch 00021: val_loss improved from 0.30577 to 0.27900, saving model to weights_architecture_4.hdf5\n",
            "Epoch 22/50\n",
            " - 1s - loss: 0.2891 - acc: 0.9125 - val_loss: 0.2717 - val_acc: 0.8958\n",
            "\n",
            "Epoch 00022: val_loss improved from 0.27900 to 0.27171, saving model to weights_architecture_4.hdf5\n",
            "Epoch 23/50\n",
            " - 1s - loss: 0.2644 - acc: 0.9188 - val_loss: 0.2119 - val_acc: 0.9766\n",
            "\n",
            "Epoch 00023: val_loss improved from 0.27171 to 0.21192, saving model to weights_architecture_4.hdf5\n",
            "Epoch 24/50\n",
            " - 1s - loss: 0.2444 - acc: 0.9125 - val_loss: 0.3102 - val_acc: 0.9297\n",
            "\n",
            "Epoch 00024: val_loss did not improve from 0.21192\n",
            "Epoch 25/50\n",
            " - 1s - loss: 0.3292 - acc: 0.9094 - val_loss: 0.3248 - val_acc: 0.8906\n",
            "\n",
            "Epoch 00025: val_loss did not improve from 0.21192\n",
            "Epoch 26/50\n",
            " - 1s - loss: 0.2987 - acc: 0.9094 - val_loss: 0.1939 - val_acc: 0.9453\n",
            "\n",
            "Epoch 00026: val_loss improved from 0.21192 to 0.19391, saving model to weights_architecture_4.hdf5\n",
            "Epoch 27/50\n",
            " - 1s - loss: 0.2745 - acc: 0.9219 - val_loss: 0.1834 - val_acc: 0.9453\n",
            "\n",
            "Epoch 00027: val_loss improved from 0.19391 to 0.18341, saving model to weights_architecture_4.hdf5\n",
            "Epoch 28/50\n",
            " - 1s - loss: 0.3026 - acc: 0.8812 - val_loss: 0.3642 - val_acc: 0.9219\n",
            "\n",
            "Epoch 00028: val_loss did not improve from 0.18341\n",
            "Epoch 29/50\n",
            " - 1s - loss: 0.2840 - acc: 0.9375 - val_loss: 0.3046 - val_acc: 0.8750\n",
            "\n",
            "Epoch 00029: val_loss did not improve from 0.18341\n",
            "Epoch 30/50\n",
            " - 1s - loss: 0.2769 - acc: 0.8969 - val_loss: 0.4995 - val_acc: 0.7734\n",
            "\n",
            "Epoch 00030: val_loss did not improve from 0.18341\n",
            "Epoch 31/50\n",
            " - 1s - loss: 0.3253 - acc: 0.9250 - val_loss: 0.5103 - val_acc: 0.8047\n",
            "\n",
            "Epoch 00031: val_loss did not improve from 0.18341\n",
            "Epoch 32/50\n",
            " - 1s - loss: 0.3640 - acc: 0.8794 - val_loss: 0.1833 - val_acc: 0.9609\n",
            "\n",
            "Epoch 00032: val_loss improved from 0.18341 to 0.18326, saving model to weights_architecture_4.hdf5\n",
            "Epoch 33/50\n",
            " - 1s - loss: 0.3301 - acc: 0.9000 - val_loss: 0.9393 - val_acc: 0.6562\n",
            "\n",
            "Epoch 00033: val_loss did not improve from 0.18326\n",
            "Epoch 34/50\n",
            " - 1s - loss: 0.3241 - acc: 0.8969 - val_loss: 0.5002 - val_acc: 0.8516\n",
            "\n",
            "Epoch 00034: val_loss did not improve from 0.18326\n",
            "Epoch 35/50\n",
            " - 1s - loss: 0.3235 - acc: 0.8906 - val_loss: 0.2163 - val_acc: 0.9297\n",
            "\n",
            "Epoch 00035: val_loss did not improve from 0.18326\n",
            "Epoch 36/50\n",
            " - 1s - loss: 0.3540 - acc: 0.8969 - val_loss: 0.6359 - val_acc: 0.8203\n",
            "\n",
            "Epoch 00036: val_loss did not improve from 0.18326\n",
            "Epoch 37/50\n",
            " - 1s - loss: 0.3124 - acc: 0.9188 - val_loss: 0.9817 - val_acc: 0.6719\n",
            "\n",
            "Epoch 00037: val_loss did not improve from 0.18326\n",
            "Epoch 38/50\n",
            " - 1s - loss: 0.3178 - acc: 0.9250 - val_loss: 0.5720 - val_acc: 0.8047\n",
            "\n",
            "Epoch 00038: val_loss did not improve from 0.18326\n",
            "Epoch 39/50\n",
            " - 1s - loss: 0.2371 - acc: 0.9313 - val_loss: 0.5991 - val_acc: 0.8958\n",
            "\n",
            "Epoch 00039: val_loss did not improve from 0.18326\n",
            "Epoch 40/50\n",
            " - 1s - loss: 0.2563 - acc: 0.9094 - val_loss: 0.2414 - val_acc: 0.8984\n",
            "\n",
            "Epoch 00040: val_loss did not improve from 0.18326\n",
            "Epoch 41/50\n",
            " - 1s - loss: 0.3165 - acc: 0.8969 - val_loss: 0.4406 - val_acc: 0.8828\n",
            "\n",
            "Epoch 00041: val_loss did not improve from 0.18326\n",
            "Epoch 42/50\n",
            " - 1s - loss: 0.2913 - acc: 0.9188 - val_loss: 0.4203 - val_acc: 0.8359\n",
            "\n",
            "Epoch 00042: val_loss did not improve from 0.18326\n",
            "Epoch 43/50\n",
            " - 1s - loss: 0.2993 - acc: 0.9094 - val_loss: 0.3197 - val_acc: 0.8984\n",
            "\n",
            "Epoch 00043: val_loss did not improve from 0.18326\n",
            "Epoch 44/50\n",
            " - 1s - loss: 0.2423 - acc: 0.9094 - val_loss: 0.6272 - val_acc: 0.7891\n",
            "\n",
            "Epoch 00044: val_loss did not improve from 0.18326\n",
            "Epoch 45/50\n",
            " - 1s - loss: 0.3510 - acc: 0.9000 - val_loss: 0.2943 - val_acc: 0.9062\n",
            "\n",
            "Epoch 00045: val_loss did not improve from 0.18326\n",
            "Epoch 46/50\n",
            " - 1s - loss: 0.2854 - acc: 0.9344 - val_loss: 0.4819 - val_acc: 0.8750\n",
            "\n",
            "Epoch 00046: val_loss did not improve from 0.18326\n",
            "Epoch 47/50\n",
            " - 1s - loss: 0.2647 - acc: 0.9250 - val_loss: 0.2448 - val_acc: 0.8906\n",
            "\n",
            "Epoch 00047: val_loss did not improve from 0.18326\n",
            "Epoch 48/50\n",
            " - 1s - loss: 0.3131 - acc: 0.9062 - val_loss: 0.1731 - val_acc: 0.9531\n",
            "\n",
            "Epoch 00048: val_loss improved from 0.18326 to 0.17307, saving model to weights_architecture_4.hdf5\n",
            "Epoch 49/50\n",
            " - 1s - loss: 0.2911 - acc: 0.8781 - val_loss: 0.2324 - val_acc: 0.9297\n",
            "\n",
            "Epoch 00049: val_loss did not improve from 0.17307\n",
            "Epoch 50/50\n",
            " - 1s - loss: 0.2554 - acc: 0.9156 - val_loss: 0.2349 - val_acc: 0.9297\n",
            "\n",
            "Epoch 00050: val_loss did not improve from 0.17307\n"
          ],
          "name": "stdout"
        }
      ]
    },
    {
      "metadata": {
        "colab_type": "code",
        "outputId": "5535eb5d-e01c-4570-8578-ca8348b5b20c",
        "id": "lFpl5k8o4Rme",
        "colab": {
          "base_uri": "https://localhost:8080/",
          "height": 380
        }
      },
      "cell_type": "code",
      "source": [
        "# plotar loss e accuracy para os datasets 'train' e 'test'\n",
        "plt.style.use(\"ggplot\")\n",
        "plt.figure()\n",
        "plt.plot(training.history['acc'], label='Accuracy')\n",
        "plt.plot(training.history['loss'], label='Loss')\n",
        "plt.xlabel('Epochs')\n",
        "plt.ylabel('Accuracy')\n",
        "plt.title(\"Training Loss and Accuracy\")\n",
        "plt.ylabel(\"Loss/Accuracy\")\n",
        "plt.legend()\n",
        "plt.savefig('architecture_4.png', bbox_inches='tight')"
      ],
      "execution_count": 0,
      "outputs": [
        {
          "output_type": "display_data",
          "data": {
            "image/png": "[encoded data removed]",
            "text/plain": [
              "<matplotlib.figure.Figure at 0x7fe0d9d779b0>"
            ]
          },
          "metadata": {
            "tags": []
          }
        }
      ]
    },
    {
      "metadata": {
        "id": "MhD8Yac15Xio",
        "colab_type": "code",
        "colab": {}
      },
      "cell_type": "code",
      "source": [
        "model.load_weights('weights_architecture_4.hdf5')"
      ],
      "execution_count": 0,
      "outputs": []
    },
    {
      "metadata": {
        "colab_type": "code",
        "id": "ntC2DQb84Rm2",
        "outputId": "c3f0807b-665a-4e5f-fb2d-baefabd35a94",
        "colab": {
          "base_uri": "https://localhost:8080/",
          "height": 35
        }
      },
      "cell_type": "code",
      "source": [
        "results['architecture_4'] = model.evaluate_generator(test_batches, steps=bSize, use_multiprocessing=True, verbose=1)"
      ],
      "execution_count": 0,
      "outputs": [
        {
          "output_type": "stream",
          "text": [
            "32/32 [==============================] - 6s 181ms/step\n"
          ],
          "name": "stdout"
        }
      ]
    },
    {
      "metadata": {
        "colab_type": "code",
        "id": "AFSvmeU84Rm9",
        "outputId": "aadbd220-c918-4f63-9ca8-e406e3fb5030",
        "colab": {
          "base_uri": "https://localhost:8080/",
          "height": 35
        }
      },
      "cell_type": "code",
      "source": [
        "print('Test Loss: {} | Test Accuracy: {:.2f}%'.format(results['architecture_4'][0], 100 * results['architecture_4'][1]))"
      ],
      "execution_count": 0,
      "outputs": [
        {
          "output_type": "stream",
          "text": [
            "Test Loss: 0.39068370359018445 | Test Accuracy: 88.18%\n"
          ],
          "name": "stdout"
        }
      ]
    },
    {
      "metadata": {
        "id": "lX3WANMgB1Ew",
        "colab_type": "text"
      },
      "cell_type": "markdown",
      "source": [
        "### 5 tentativa Accuracy: 89.60%"
      ]
    },
    {
      "metadata": {
        "colab_type": "text",
        "id": "dqed1VQh6WXg"
      },
      "cell_type": "markdown",
      "source": [
        "Modelo adaptado do **Lucas Albertins**\n",
        "\n",
        "*   Sem os **dropout**\n",
        "*   Função **SGD** para compilação\n"
      ]
    },
    {
      "metadata": {
        "colab_type": "code",
        "id": "z9mlUa4mB-ER",
        "colab": {}
      },
      "cell_type": "code",
      "source": [
        "from keras.layers import Conv2D, MaxPooling2D, GlobalMaxPooling2D, BatchNormalization\n",
        "from keras.regularizers import l2\n",
        "\n",
        "model = Sequential()\n",
        "\n",
        "model.add(Conv2D(32, (3, 3), activation='relu', kernel_regularizer=l2(1e-4), \n",
        "                 input_shape=(None, None, 3)))\n",
        "model.add(BatchNormalization())\n",
        "model.add(Conv2D(32, (3, 3), activation='relu', kernel_regularizer=l2(1e-4)))\n",
        "model.add(BatchNormalization())\n",
        "model.add(MaxPooling2D((2, 2)))\n",
        "model.add(Dropout(0.25))\n",
        "\n",
        "model.add(Conv2D(64, (3, 3), activation='relu', kernel_regularizer=l2(1e-4)))\n",
        "model.add(BatchNormalization())\n",
        "model.add(Conv2D(64, (3, 3), activation='relu', kernel_regularizer=l2(1e-4)))\n",
        "model.add(BatchNormalization())\n",
        "model.add(MaxPooling2D((2, 2)))\n",
        "model.add(Dropout(0.25))\n",
        "\n",
        "model.add(Conv2D(128, (1,1), kernel_regularizer=l2(1e-4)))\n",
        "model.add(GlobalMaxPooling2D())\n",
        "\n",
        "model.add(Dense(256, activation='relu', kernel_regularizer=l2(1e-4)))\n",
        "model.add(Dropout(0.5))\n",
        "model.add(Dense(2, activation='sigmoid', kernel_regularizer=l2(1e-4)))"
      ],
      "execution_count": 0,
      "outputs": []
    },
    {
      "metadata": {
        "id": "ukvJwM-lCHtB",
        "colab_type": "code",
        "colab": {}
      },
      "cell_type": "code",
      "source": [
        "model.compile(SGD(lr=0.01, momentum=0.0, decay=0.0, nesterov=False), \n",
        "              loss='binary_crossentropy', metrics=['accuracy'])"
      ],
      "execution_count": 0,
      "outputs": []
    },
    {
      "metadata": {
        "colab_type": "code",
        "id": "BuvCUFsS4gfl",
        "colab": {}
      },
      "cell_type": "code",
      "source": [
        "checkpointer = ModelCheckpoint(filepath='weights_architecture_5.hdf5', verbose=1, save_best_only=True)"
      ],
      "execution_count": 0,
      "outputs": []
    },
    {
      "metadata": {
        "colab_type": "code",
        "id": "06GSgiIj4gfo",
        "outputId": "da783e58-5e6f-4a56-bb59-14f53bd34f17",
        "colab": {
          "base_uri": "https://localhost:8080/",
          "height": 3690
        }
      },
      "cell_type": "code",
      "source": [
        "training = model.fit_generator(train_batches, steps_per_epoch=stepsPerEpoche, \n",
        "                   validation_data=validation_batches, validation_steps=validationSteps,\n",
        "                   epochs=50, verbose=2, callbacks=[checkpointer])"
      ],
      "execution_count": 0,
      "outputs": [
        {
          "output_type": "stream",
          "text": [
            "Epoch 1/50\n",
            " - 3s - loss: 3.1173 - acc: 0.4750 - val_loss: 1.0638 - val_acc: 0.5625\n",
            "\n",
            "Epoch 00001: val_loss improved from inf to 1.06379, saving model to weights_architecture_5.hdf5\n",
            "Epoch 2/50\n",
            " - 1s - loss: 2.1624 - acc: 0.4969 - val_loss: 0.7642 - val_acc: 0.5391\n",
            "\n",
            "Epoch 00002: val_loss improved from 1.06379 to 0.76423, saving model to weights_architecture_5.hdf5\n",
            "Epoch 3/50\n",
            " - 0s - loss: 1.2282 - acc: 0.5469 - val_loss: 0.7720 - val_acc: 0.5312\n",
            "\n",
            "Epoch 00003: val_loss did not improve from 0.76423\n",
            "Epoch 4/50\n",
            " - 0s - loss: 1.2432 - acc: 0.4969 - val_loss: 0.6996 - val_acc: 0.5781\n",
            "\n",
            "Epoch 00004: val_loss improved from 0.76423 to 0.69959, saving model to weights_architecture_5.hdf5\n",
            "Epoch 5/50\n",
            " - 0s - loss: 1.0430 - acc: 0.5625 - val_loss: 0.6661 - val_acc: 0.6250\n",
            "\n",
            "Epoch 00005: val_loss improved from 0.69959 to 0.66611, saving model to weights_architecture_5.hdf5\n",
            "Epoch 6/50\n",
            " - 0s - loss: 0.7916 - acc: 0.5969 - val_loss: 0.6721 - val_acc: 0.5938\n",
            "\n",
            "Epoch 00006: val_loss did not improve from 0.66611\n",
            "Epoch 7/50\n",
            " - 0s - loss: 0.7150 - acc: 0.6531 - val_loss: 0.6151 - val_acc: 0.7031\n",
            "\n",
            "Epoch 00007: val_loss improved from 0.66611 to 0.61508, saving model to weights_architecture_5.hdf5\n",
            "Epoch 8/50\n",
            " - 0s - loss: 0.7473 - acc: 0.6594 - val_loss: 0.5661 - val_acc: 0.7969\n",
            "\n",
            "Epoch 00008: val_loss improved from 0.61508 to 0.56615, saving model to weights_architecture_5.hdf5\n",
            "Epoch 9/50\n",
            " - 0s - loss: 0.6399 - acc: 0.7125 - val_loss: 0.5019 - val_acc: 0.7656\n",
            "\n",
            "Epoch 00009: val_loss improved from 0.56615 to 0.50192, saving model to weights_architecture_5.hdf5\n",
            "Epoch 10/50\n",
            " - 1s - loss: 0.6968 - acc: 0.7094 - val_loss: 0.6074 - val_acc: 0.7344\n",
            "\n",
            "Epoch 00010: val_loss did not improve from 0.50192\n",
            "Epoch 11/50\n",
            " - 1s - loss: 0.6897 - acc: 0.6750 - val_loss: 0.6150 - val_acc: 0.7188\n",
            "\n",
            "Epoch 00011: val_loss did not improve from 0.50192\n",
            "Epoch 12/50\n",
            " - 1s - loss: 0.5682 - acc: 0.7438 - val_loss: 0.4933 - val_acc: 0.8203\n",
            "\n",
            "Epoch 00012: val_loss improved from 0.50192 to 0.49326, saving model to weights_architecture_5.hdf5\n",
            "Epoch 13/50\n",
            " - 1s - loss: 0.5277 - acc: 0.8156 - val_loss: 0.5675 - val_acc: 0.7734\n",
            "\n",
            "Epoch 00013: val_loss did not improve from 0.49326\n",
            "Epoch 14/50\n",
            " - 1s - loss: 0.5067 - acc: 0.8000 - val_loss: 0.5277 - val_acc: 0.8281\n",
            "\n",
            "Epoch 00014: val_loss did not improve from 0.49326\n",
            "Epoch 15/50\n",
            " - 1s - loss: 0.4262 - acc: 0.8531 - val_loss: 0.4157 - val_acc: 0.9062\n",
            "\n",
            "Epoch 00015: val_loss improved from 0.49326 to 0.41574, saving model to weights_architecture_5.hdf5\n",
            "Epoch 16/50\n",
            " - 1s - loss: 0.4876 - acc: 0.8031 - val_loss: 0.6631 - val_acc: 0.6406\n",
            "\n",
            "Epoch 00016: val_loss did not improve from 0.41574\n",
            "Epoch 17/50\n",
            " - 1s - loss: 0.6100 - acc: 0.7188 - val_loss: 0.4322 - val_acc: 0.8906\n",
            "\n",
            "Epoch 00017: val_loss did not improve from 0.41574\n",
            "Epoch 18/50\n",
            " - 1s - loss: 0.4473 - acc: 0.8406 - val_loss: 0.4110 - val_acc: 0.8646\n",
            "\n",
            "Epoch 00018: val_loss improved from 0.41574 to 0.41100, saving model to weights_architecture_5.hdf5\n",
            "Epoch 19/50\n",
            " - 1s - loss: 0.5128 - acc: 0.8219 - val_loss: 0.4913 - val_acc: 0.8203\n",
            "\n",
            "Epoch 00019: val_loss did not improve from 0.41100\n",
            "Epoch 20/50\n",
            " - 1s - loss: 0.4568 - acc: 0.8625 - val_loss: 0.4474 - val_acc: 0.8594\n",
            "\n",
            "Epoch 00020: val_loss did not improve from 0.41100\n",
            "Epoch 21/50\n",
            " - 1s - loss: 0.5873 - acc: 0.7594 - val_loss: 0.4678 - val_acc: 0.8438\n",
            "\n",
            "Epoch 00021: val_loss did not improve from 0.41100\n",
            "Epoch 22/50\n",
            " - 1s - loss: 0.4888 - acc: 0.8063 - val_loss: 0.4077 - val_acc: 0.8828\n",
            "\n",
            "Epoch 00022: val_loss improved from 0.41100 to 0.40770, saving model to weights_architecture_5.hdf5\n",
            "Epoch 23/50\n",
            " - 1s - loss: 0.4316 - acc: 0.8719 - val_loss: 0.3860 - val_acc: 0.8750\n",
            "\n",
            "Epoch 00023: val_loss improved from 0.40770 to 0.38605, saving model to weights_architecture_5.hdf5\n",
            "Epoch 24/50\n",
            " - 1s - loss: 0.5020 - acc: 0.8219 - val_loss: 0.4698 - val_acc: 0.8750\n",
            "\n",
            "Epoch 00024: val_loss did not improve from 0.38605\n",
            "Epoch 25/50\n",
            " - 1s - loss: 0.4430 - acc: 0.8406 - val_loss: 0.3863 - val_acc: 0.8906\n",
            "\n",
            "Epoch 00025: val_loss did not improve from 0.38605\n",
            "Epoch 26/50\n",
            " - 1s - loss: 0.4082 - acc: 0.8563 - val_loss: 0.5632 - val_acc: 0.7656\n",
            "\n",
            "Epoch 00026: val_loss did not improve from 0.38605\n",
            "Epoch 27/50\n",
            " - 1s - loss: 0.4674 - acc: 0.8281 - val_loss: 0.3302 - val_acc: 0.9531\n",
            "\n",
            "Epoch 00027: val_loss improved from 0.38605 to 0.33020, saving model to weights_architecture_5.hdf5\n",
            "Epoch 28/50\n",
            " - 1s - loss: 0.4764 - acc: 0.8250 - val_loss: 0.4065 - val_acc: 0.8984\n",
            "\n",
            "Epoch 00028: val_loss did not improve from 0.33020\n",
            "Epoch 29/50\n",
            " - 1s - loss: 0.3949 - acc: 0.8438 - val_loss: 0.4645 - val_acc: 0.8438\n",
            "\n",
            "Epoch 00029: val_loss did not improve from 0.33020\n",
            "Epoch 30/50\n",
            " - 1s - loss: 0.3613 - acc: 0.8656 - val_loss: 0.5085 - val_acc: 0.7891\n",
            "\n",
            "Epoch 00030: val_loss did not improve from 0.33020\n",
            "Epoch 31/50\n",
            " - 1s - loss: 0.4175 - acc: 0.8406 - val_loss: 0.3944 - val_acc: 0.8906\n",
            "\n",
            "Epoch 00031: val_loss did not improve from 0.33020\n",
            "Epoch 32/50\n",
            " - 1s - loss: 0.4289 - acc: 0.8375 - val_loss: 0.4019 - val_acc: 0.8906\n",
            "\n",
            "Epoch 00032: val_loss did not improve from 0.33020\n",
            "Epoch 33/50\n",
            " - 1s - loss: 0.3369 - acc: 0.9031 - val_loss: 0.2872 - val_acc: 0.9453\n",
            "\n",
            "Epoch 00033: val_loss improved from 0.33020 to 0.28718, saving model to weights_architecture_5.hdf5\n",
            "Epoch 34/50\n",
            " - 1s - loss: 0.4024 - acc: 0.8656 - val_loss: 0.3880 - val_acc: 0.8672\n",
            "\n",
            "Epoch 00034: val_loss did not improve from 0.28718\n",
            "Epoch 35/50\n",
            " - 1s - loss: 0.6383 - acc: 0.7435 - val_loss: 0.4187 - val_acc: 0.8750\n",
            "\n",
            "Epoch 00035: val_loss did not improve from 0.28718\n",
            "Epoch 36/50\n",
            " - 1s - loss: 0.3658 - acc: 0.8719 - val_loss: 0.5121 - val_acc: 0.8047\n",
            "\n",
            "Epoch 00036: val_loss did not improve from 0.28718\n",
            "Epoch 37/50\n",
            " - 1s - loss: 0.4687 - acc: 0.8438 - val_loss: 0.4065 - val_acc: 0.8750\n",
            "\n",
            "Epoch 00037: val_loss did not improve from 0.28718\n",
            "Epoch 38/50\n",
            " - 1s - loss: 0.4864 - acc: 0.7938 - val_loss: 0.3604 - val_acc: 0.9375\n",
            "\n",
            "Epoch 00038: val_loss did not improve from 0.28718\n",
            "Epoch 39/50\n",
            " - 1s - loss: 0.3731 - acc: 0.8719 - val_loss: 0.4243 - val_acc: 0.8594\n",
            "\n",
            "Epoch 00039: val_loss did not improve from 0.28718\n",
            "Epoch 40/50\n",
            " - 1s - loss: 0.5238 - acc: 0.7844 - val_loss: 0.4401 - val_acc: 0.8750\n",
            "\n",
            "Epoch 00040: val_loss did not improve from 0.28718\n",
            "Epoch 41/50\n",
            " - 1s - loss: 0.4591 - acc: 0.8563 - val_loss: 0.4176 - val_acc: 0.8828\n",
            "\n",
            "Epoch 00041: val_loss did not improve from 0.28718\n",
            "Epoch 42/50\n",
            " - 1s - loss: 0.3815 - acc: 0.8594 - val_loss: 0.3268 - val_acc: 0.9141\n",
            "\n",
            "Epoch 00042: val_loss did not improve from 0.28718\n",
            "Epoch 43/50\n",
            " - 1s - loss: 0.4122 - acc: 0.8344 - val_loss: 0.4450 - val_acc: 0.8516\n",
            "\n",
            "Epoch 00043: val_loss did not improve from 0.28718\n",
            "Epoch 44/50\n",
            " - 1s - loss: 0.4559 - acc: 0.8344 - val_loss: 0.4805 - val_acc: 0.8281\n",
            "\n",
            "Epoch 00044: val_loss did not improve from 0.28718\n",
            "Epoch 45/50\n",
            " - 1s - loss: 0.3712 - acc: 0.8531 - val_loss: 0.3218 - val_acc: 0.9453\n",
            "\n",
            "Epoch 00045: val_loss did not improve from 0.28718\n",
            "Epoch 46/50\n",
            " - 1s - loss: 0.3662 - acc: 0.8906 - val_loss: 0.4393 - val_acc: 0.8906\n",
            "\n",
            "Epoch 00046: val_loss did not improve from 0.28718\n",
            "Epoch 47/50\n",
            " - 1s - loss: 0.4040 - acc: 0.8844 - val_loss: 0.4858 - val_acc: 0.7734\n",
            "\n",
            "Epoch 00047: val_loss did not improve from 0.28718\n",
            "Epoch 48/50\n",
            " - 1s - loss: 0.3742 - acc: 0.8656 - val_loss: 0.3233 - val_acc: 0.8984\n",
            "\n",
            "Epoch 00048: val_loss did not improve from 0.28718\n",
            "Epoch 49/50\n",
            " - 1s - loss: 0.3926 - acc: 0.8625 - val_loss: 0.4439 - val_acc: 0.8750\n",
            "\n",
            "Epoch 00049: val_loss did not improve from 0.28718\n",
            "Epoch 50/50\n",
            " - 1s - loss: 0.4028 - acc: 0.8781 - val_loss: 0.3156 - val_acc: 0.8984\n",
            "\n",
            "Epoch 00050: val_loss did not improve from 0.28718\n"
          ],
          "name": "stdout"
        }
      ]
    },
    {
      "metadata": {
        "colab_type": "code",
        "id": "0mSPug6x4gfs",
        "outputId": "d4508c04-4bc0-4b44-dcd9-e09b297352ef",
        "colab": {
          "base_uri": "https://localhost:8080/",
          "height": 380
        }
      },
      "cell_type": "code",
      "source": [
        "# plotar loss e accuracy para os datasets 'train' e 'test'\n",
        "plt.style.use(\"ggplot\")\n",
        "plt.figure()\n",
        "plt.plot(training.history['acc'], label='Accuracy')\n",
        "plt.plot(training.history['loss'], label='Loss')\n",
        "plt.xlabel('Epochs')\n",
        "plt.ylabel('Accuracy')\n",
        "plt.title(\"Training Loss and Accuracy\")\n",
        "plt.ylabel(\"Loss/Accuracy\")\n",
        "plt.legend()\n",
        "plt.savefig('architecture_5.png', bbox_inches='tight')"
      ],
      "execution_count": 0,
      "outputs": [
        {
          "output_type": "display_data",
          "data": {
            "image/png": "[encoded data removed]",
            "text/plain": [
              "<matplotlib.figure.Figure at 0x7fe0d9d23a58>"
            ]
          },
          "metadata": {
            "tags": []
          }
        }
      ]
    },
    {
      "metadata": {
        "id": "vy2jjjoB5gBo",
        "colab_type": "code",
        "colab": {}
      },
      "cell_type": "code",
      "source": [
        "model.load_weights('weights_architecture_5.hdf5')"
      ],
      "execution_count": 0,
      "outputs": []
    },
    {
      "metadata": {
        "colab_type": "code",
        "id": "_JgTPZOc4gf0",
        "outputId": "1fd2de2f-5fbd-4ebd-b8da-c9f04d7a41b4",
        "colab": {
          "base_uri": "https://localhost:8080/",
          "height": 35
        }
      },
      "cell_type": "code",
      "source": [
        "results['architecture_5'] = model.evaluate_generator(test_batches, steps=bSize, use_multiprocessing=True, verbose=1)"
      ],
      "execution_count": 0,
      "outputs": [
        {
          "output_type": "stream",
          "text": [
            "32/32 [==============================] - 4s 113ms/step\n"
          ],
          "name": "stdout"
        }
      ]
    },
    {
      "metadata": {
        "colab_type": "code",
        "id": "btSZrFLQ4gf5",
        "outputId": "227a4202-a411-4068-c85c-66b3d9713739",
        "colab": {
          "base_uri": "https://localhost:8080/",
          "height": 35
        }
      },
      "cell_type": "code",
      "source": [
        "print('Test Loss: {} | Test Accuracy: {:.2f}%'.format(results['architecture_5'][0], 100 * results['architecture_5'][1]))"
      ],
      "execution_count": 0,
      "outputs": [
        {
          "output_type": "stream",
          "text": [
            "Test Loss: 0.38777169305831194 | Test Accuracy: 89.60%\n"
          ],
          "name": "stdout"
        }
      ]
    },
    {
      "metadata": {
        "id": "apfIeirYD2N7",
        "colab_type": "text"
      },
      "cell_type": "markdown",
      "source": [
        "### 6 tentativa Accuracy: 91.85%"
      ]
    },
    {
      "metadata": {
        "colab_type": "text",
        "id": "xaxcjuxn7BAH"
      },
      "cell_type": "markdown",
      "source": [
        "Modelo adaptado do **Lucas Albertins**\n",
        "\n",
        "*   Sem os **dropout**\n",
        "*   Função **SGD** para compilação\n",
        "*   **BatchNormalization** antes da ultima camada Dense\n"
      ]
    },
    {
      "metadata": {
        "colab_type": "code",
        "id": "C2UuO-jqD44u",
        "colab": {}
      },
      "cell_type": "code",
      "source": [
        "from keras.layers import Conv2D, MaxPooling2D, GlobalMaxPooling2D, BatchNormalization\n",
        "from keras.regularizers import l2\n",
        "\n",
        "model = Sequential()\n",
        "\n",
        "model.add(Conv2D(32, (3, 3), activation='relu', kernel_regularizer=l2(1e-4), \n",
        "                 input_shape=(None, None, 3)))\n",
        "model.add(BatchNormalization())\n",
        "model.add(Conv2D(32, (3, 3), activation='relu', kernel_regularizer=l2(1e-4)))\n",
        "model.add(BatchNormalization())\n",
        "model.add(MaxPooling2D((2, 2)))\n",
        "\n",
        "model.add(Conv2D(64, (3, 3), activation='relu', kernel_regularizer=l2(1e-4)))\n",
        "model.add(BatchNormalization())\n",
        "model.add(Conv2D(64, (3, 3), activation='relu', kernel_regularizer=l2(1e-4)))\n",
        "model.add(BatchNormalization())\n",
        "model.add(MaxPooling2D((2, 2)))\n",
        "\n",
        "model.add(Conv2D(128, (1,1), kernel_regularizer=l2(1e-4)))\n",
        "model.add(GlobalMaxPooling2D())\n",
        "\n",
        "model.add(Dense(256, activation='relu', kernel_regularizer=l2(1e-4)))\n",
        "model.add(BatchNormalization())\n",
        "model.add(Dense(2, activation='sigmoid', kernel_regularizer=l2(1e-4)))"
      ],
      "execution_count": 0,
      "outputs": []
    },
    {
      "metadata": {
        "colab_type": "code",
        "id": "I7mu97znD45M",
        "colab": {}
      },
      "cell_type": "code",
      "source": [
        "model.compile(SGD(lr=0.03, momentum=0.0, decay=0.0, nesterov=False), \n",
        "              loss='binary_crossentropy', metrics=['accuracy'])"
      ],
      "execution_count": 0,
      "outputs": []
    },
    {
      "metadata": {
        "colab_type": "code",
        "id": "LEdI9Ilj6scL",
        "colab": {}
      },
      "cell_type": "code",
      "source": [
        "checkpointer = ModelCheckpoint(filepath='weights_architecture_6.hdf5', verbose=1, save_best_only=True)"
      ],
      "execution_count": 0,
      "outputs": []
    },
    {
      "metadata": {
        "colab_type": "code",
        "id": "HRAakAz46scS",
        "outputId": "017b9176-1c71-4e11-e7eb-736242e676ed",
        "colab": {
          "base_uri": "https://localhost:8080/",
          "height": 3690
        }
      },
      "cell_type": "code",
      "source": [
        "training = model.fit_generator(train_batches, steps_per_epoch=stepsPerEpoche, \n",
        "                   validation_data=validation_batches, validation_steps=validationSteps,\n",
        "                   epochs=50, verbose=2, callbacks=[checkpointer])"
      ],
      "execution_count": 0,
      "outputs": [
        {
          "output_type": "stream",
          "text": [
            "Epoch 1/50\n",
            " - 3s - loss: 0.5862 - acc: 0.7125 - val_loss: 1.0851 - val_acc: 0.5938\n",
            "\n",
            "Epoch 00001: val_loss improved from inf to 1.08508, saving model to weights_architecture_6.hdf5\n",
            "Epoch 2/50\n",
            " - 0s - loss: 0.4804 - acc: 0.8312 - val_loss: 0.9586 - val_acc: 0.8047\n",
            "\n",
            "Epoch 00002: val_loss improved from 1.08508 to 0.95861, saving model to weights_architecture_6.hdf5\n",
            "Epoch 3/50\n",
            " - 0s - loss: 0.3422 - acc: 0.8781 - val_loss: 0.4609 - val_acc: 0.8438\n",
            "\n",
            "Epoch 00003: val_loss improved from 0.95861 to 0.46090, saving model to weights_architecture_6.hdf5\n",
            "Epoch 4/50\n",
            " - 0s - loss: 0.3014 - acc: 0.9125 - val_loss: 0.4657 - val_acc: 0.7891\n",
            "\n",
            "Epoch 00004: val_loss did not improve from 0.46090\n",
            "Epoch 5/50\n",
            " - 0s - loss: 0.3817 - acc: 0.8812 - val_loss: 0.3769 - val_acc: 0.8594\n",
            "\n",
            "Epoch 00005: val_loss improved from 0.46090 to 0.37688, saving model to weights_architecture_6.hdf5\n",
            "Epoch 6/50\n",
            " - 0s - loss: 0.3280 - acc: 0.9156 - val_loss: 0.5303 - val_acc: 0.8203\n",
            "\n",
            "Epoch 00006: val_loss did not improve from 0.37688\n",
            "Epoch 7/50\n",
            " - 0s - loss: 0.4230 - acc: 0.8219 - val_loss: 0.6108 - val_acc: 0.7734\n",
            "\n",
            "Epoch 00007: val_loss did not improve from 0.37688\n",
            "Epoch 8/50\n",
            " - 1s - loss: 0.3536 - acc: 0.8844 - val_loss: 0.3722 - val_acc: 0.9062\n",
            "\n",
            "Epoch 00008: val_loss improved from 0.37688 to 0.37216, saving model to weights_architecture_6.hdf5\n",
            "Epoch 9/50\n",
            " - 1s - loss: 0.3124 - acc: 0.9094 - val_loss: 0.5832 - val_acc: 0.7500\n",
            "\n",
            "Epoch 00009: val_loss did not improve from 0.37216\n",
            "Epoch 10/50\n",
            " - 1s - loss: 0.2668 - acc: 0.9250 - val_loss: 0.5216 - val_acc: 0.7969\n",
            "\n",
            "Epoch 00010: val_loss did not improve from 0.37216\n",
            "Epoch 11/50\n",
            " - 1s - loss: 0.4448 - acc: 0.7891 - val_loss: 2.8552 - val_acc: 0.6016\n",
            "\n",
            "Epoch 00011: val_loss did not improve from 0.37216\n",
            "Epoch 12/50\n",
            " - 1s - loss: 0.3827 - acc: 0.8750 - val_loss: 1.2108 - val_acc: 0.7188\n",
            "\n",
            "Epoch 00012: val_loss did not improve from 0.37216\n",
            "Epoch 13/50\n",
            " - 1s - loss: 0.3811 - acc: 0.8563 - val_loss: 1.0233 - val_acc: 0.5859\n",
            "\n",
            "Epoch 00013: val_loss did not improve from 0.37216\n",
            "Epoch 14/50\n",
            " - 1s - loss: 0.4276 - acc: 0.8344 - val_loss: 0.6674 - val_acc: 0.8750\n",
            "\n",
            "Epoch 00014: val_loss did not improve from 0.37216\n",
            "Epoch 15/50\n",
            " - 1s - loss: 0.2797 - acc: 0.9125 - val_loss: 0.7159 - val_acc: 0.7188\n",
            "\n",
            "Epoch 00015: val_loss did not improve from 0.37216\n",
            "Epoch 16/50\n",
            " - 1s - loss: 0.2689 - acc: 0.9375 - val_loss: 0.5598 - val_acc: 0.8203\n",
            "\n",
            "Epoch 00016: val_loss did not improve from 0.37216\n",
            "Epoch 17/50\n",
            " - 1s - loss: 0.3030 - acc: 0.8906 - val_loss: 0.7149 - val_acc: 0.8516\n",
            "\n",
            "Epoch 00017: val_loss did not improve from 0.37216\n",
            "Epoch 18/50\n",
            " - 1s - loss: 0.3711 - acc: 0.8750 - val_loss: 1.4352 - val_acc: 0.6797\n",
            "\n",
            "Epoch 00018: val_loss did not improve from 0.37216\n",
            "Epoch 19/50\n",
            " - 1s - loss: 0.2778 - acc: 0.9250 - val_loss: 0.3418 - val_acc: 0.8750\n",
            "\n",
            "Epoch 00019: val_loss improved from 0.37216 to 0.34175, saving model to weights_architecture_6.hdf5\n",
            "Epoch 20/50\n",
            " - 1s - loss: 0.3466 - acc: 0.8812 - val_loss: 0.2396 - val_acc: 0.8984\n",
            "\n",
            "Epoch 00020: val_loss improved from 0.34175 to 0.23957, saving model to weights_architecture_6.hdf5\n",
            "Epoch 21/50\n",
            " - 1s - loss: 0.3043 - acc: 0.9281 - val_loss: 0.2763 - val_acc: 0.9297\n",
            "\n",
            "Epoch 00021: val_loss did not improve from 0.23957\n",
            "Epoch 22/50\n",
            " - 1s - loss: 0.3195 - acc: 0.9156 - val_loss: 0.3546 - val_acc: 0.8516\n",
            "\n",
            "Epoch 00022: val_loss did not improve from 0.23957\n",
            "Epoch 23/50\n",
            " - 1s - loss: 0.2587 - acc: 0.9281 - val_loss: 0.2702 - val_acc: 0.9141\n",
            "\n",
            "Epoch 00023: val_loss did not improve from 0.23957\n",
            "Epoch 24/50\n",
            " - 1s - loss: 0.3161 - acc: 0.8875 - val_loss: 0.1585 - val_acc: 0.9844\n",
            "\n",
            "Epoch 00024: val_loss improved from 0.23957 to 0.15855, saving model to weights_architecture_6.hdf5\n",
            "Epoch 25/50\n",
            " - 1s - loss: 0.3476 - acc: 0.8781 - val_loss: 0.5793 - val_acc: 0.7656\n",
            "\n",
            "Epoch 00025: val_loss did not improve from 0.15855\n",
            "Epoch 26/50\n",
            " - 1s - loss: 0.3105 - acc: 0.9156 - val_loss: 0.5380 - val_acc: 0.7812\n",
            "\n",
            "Epoch 00026: val_loss did not improve from 0.15855\n",
            "Epoch 27/50\n",
            " - 1s - loss: 0.2814 - acc: 0.9188 - val_loss: 0.2795 - val_acc: 0.9141\n",
            "\n",
            "Epoch 00027: val_loss did not improve from 0.15855\n",
            "Epoch 28/50\n",
            " - 1s - loss: 0.2651 - acc: 0.9219 - val_loss: 0.2387 - val_acc: 0.9531\n",
            "\n",
            "Epoch 00028: val_loss did not improve from 0.15855\n",
            "Epoch 29/50\n",
            " - 1s - loss: 0.2835 - acc: 0.9156 - val_loss: 0.3158 - val_acc: 0.9141\n",
            "\n",
            "Epoch 00029: val_loss did not improve from 0.15855\n",
            "Epoch 30/50\n",
            " - 1s - loss: 0.3209 - acc: 0.8937 - val_loss: 0.4898 - val_acc: 0.7969\n",
            "\n",
            "Epoch 00030: val_loss did not improve from 0.15855\n",
            "Epoch 31/50\n",
            " - 1s - loss: 0.2728 - acc: 0.9156 - val_loss: 0.4518 - val_acc: 0.8125\n",
            "\n",
            "Epoch 00031: val_loss did not improve from 0.15855\n",
            "Epoch 32/50\n",
            " - 1s - loss: 0.3480 - acc: 0.8781 - val_loss: 0.4066 - val_acc: 0.8828\n",
            "\n",
            "Epoch 00032: val_loss did not improve from 0.15855\n",
            "Epoch 33/50\n",
            " - 1s - loss: 0.3434 - acc: 0.8875 - val_loss: 0.3337 - val_acc: 0.8828\n",
            "\n",
            "Epoch 00033: val_loss did not improve from 0.15855\n",
            "Epoch 34/50\n",
            " - 1s - loss: 0.2753 - acc: 0.9313 - val_loss: 0.6186 - val_acc: 0.7891\n",
            "\n",
            "Epoch 00034: val_loss did not improve from 0.15855\n",
            "Epoch 35/50\n",
            " - 1s - loss: 0.2747 - acc: 0.9344 - val_loss: 0.4320 - val_acc: 0.8672\n",
            "\n",
            "Epoch 00035: val_loss did not improve from 0.15855\n",
            "Epoch 36/50\n",
            " - 1s - loss: 0.2568 - acc: 0.9219 - val_loss: 0.2881 - val_acc: 0.9453\n",
            "\n",
            "Epoch 00036: val_loss did not improve from 0.15855\n",
            "Epoch 37/50\n",
            " - 1s - loss: 0.2631 - acc: 0.9223 - val_loss: 0.1979 - val_acc: 0.9609\n",
            "\n",
            "Epoch 00037: val_loss did not improve from 0.15855\n",
            "Epoch 38/50\n",
            " - 1s - loss: 0.2315 - acc: 0.9250 - val_loss: 0.4481 - val_acc: 0.8672\n",
            "\n",
            "Epoch 00038: val_loss did not improve from 0.15855\n",
            "Epoch 39/50\n",
            " - 1s - loss: 0.3053 - acc: 0.9156 - val_loss: 0.1979 - val_acc: 0.9609\n",
            "\n",
            "Epoch 00039: val_loss did not improve from 0.15855\n",
            "Epoch 40/50\n",
            " - 1s - loss: 0.2583 - acc: 0.9313 - val_loss: 0.2723 - val_acc: 0.8984\n",
            "\n",
            "Epoch 00040: val_loss did not improve from 0.15855\n",
            "Epoch 41/50\n",
            " - 1s - loss: 0.2350 - acc: 0.9188 - val_loss: 0.3146 - val_acc: 0.8672\n",
            "\n",
            "Epoch 00041: val_loss did not improve from 0.15855\n",
            "Epoch 42/50\n",
            " - 1s - loss: 0.2411 - acc: 0.9188 - val_loss: 0.1395 - val_acc: 0.9688\n",
            "\n",
            "Epoch 00042: val_loss improved from 0.15855 to 0.13950, saving model to weights_architecture_6.hdf5\n",
            "Epoch 43/50\n",
            " - 1s - loss: 0.3146 - acc: 0.8812 - val_loss: 0.1838 - val_acc: 0.9453\n",
            "\n",
            "Epoch 00043: val_loss did not improve from 0.13950\n",
            "Epoch 44/50\n",
            " - 1s - loss: 0.3422 - acc: 0.9062 - val_loss: 0.5112 - val_acc: 0.8516\n",
            "\n",
            "Epoch 00044: val_loss did not improve from 0.13950\n",
            "Epoch 45/50\n",
            " - 1s - loss: 0.3041 - acc: 0.9031 - val_loss: 0.1835 - val_acc: 0.9688\n",
            "\n",
            "Epoch 00045: val_loss did not improve from 0.13950\n",
            "Epoch 46/50\n",
            " - 1s - loss: 0.3234 - acc: 0.9188 - val_loss: 0.3833 - val_acc: 0.8750\n",
            "\n",
            "Epoch 00046: val_loss did not improve from 0.13950\n",
            "Epoch 47/50\n",
            " - 1s - loss: 0.3416 - acc: 0.8844 - val_loss: 0.2199 - val_acc: 0.9297\n",
            "\n",
            "Epoch 00047: val_loss did not improve from 0.13950\n",
            "Epoch 48/50\n",
            " - 1s - loss: 0.2195 - acc: 0.9375 - val_loss: 0.4437 - val_acc: 0.7917\n",
            "\n",
            "Epoch 00048: val_loss did not improve from 0.13950\n",
            "Epoch 49/50\n",
            " - 1s - loss: 0.2016 - acc: 0.9562 - val_loss: 0.3093 - val_acc: 0.8984\n",
            "\n",
            "Epoch 00049: val_loss did not improve from 0.13950\n",
            "Epoch 50/50\n",
            " - 1s - loss: 0.2604 - acc: 0.8937 - val_loss: 0.2895 - val_acc: 0.9297\n",
            "\n",
            "Epoch 00050: val_loss did not improve from 0.13950\n"
          ],
          "name": "stdout"
        }
      ]
    },
    {
      "metadata": {
        "colab_type": "code",
        "id": "uaZTLoX46scd",
        "outputId": "c6874dec-b923-42dc-9ea9-da86c5a6ee86",
        "colab": {
          "base_uri": "https://localhost:8080/",
          "height": 380
        }
      },
      "cell_type": "code",
      "source": [
        "# plotar loss e accuracy para os datasets 'train' e 'test'\n",
        "plt.style.use(\"ggplot\")\n",
        "plt.figure()\n",
        "plt.plot(training.history['acc'], label='Accuracy')\n",
        "plt.plot(training.history['loss'], label='Loss')\n",
        "plt.xlabel('Epochs')\n",
        "plt.ylabel('Accuracy')\n",
        "plt.title(\"Training Loss and Accuracy\")\n",
        "plt.ylabel(\"Loss/Accuracy\")\n",
        "plt.legend()\n",
        "plt.savefig('architecture_6.png', bbox_inches='tight')"
      ],
      "execution_count": 0,
      "outputs": [
        {
          "output_type": "display_data",
          "data": {
            "image/png": "[encoded data removed]",
            "text/plain": [
              "<matplotlib.figure.Figure at 0x7fe0d87dc940>"
            ]
          },
          "metadata": {
            "tags": []
          }
        }
      ]
    },
    {
      "metadata": {
        "colab_type": "code",
        "id": "Z7zyxvAB6sch",
        "colab": {}
      },
      "cell_type": "code",
      "source": [
        "model.load_weights('weights_architecture_6.hdf5')"
      ],
      "execution_count": 0,
      "outputs": []
    },
    {
      "metadata": {
        "colab_type": "code",
        "id": "6F7QMRQn6scm",
        "outputId": "53ccfeec-f105-490e-e750-f64a3b01a782",
        "colab": {
          "base_uri": "https://localhost:8080/",
          "height": 35
        }
      },
      "cell_type": "code",
      "source": [
        "results['architecture_6'] = model.evaluate_generator(test_batches, steps=bSize, use_multiprocessing=True, verbose=1)"
      ],
      "execution_count": 60,
      "outputs": [
        {
          "output_type": "stream",
          "text": [
            "32/32 [==============================] - 3s 94ms/step\n"
          ],
          "name": "stdout"
        }
      ]
    },
    {
      "metadata": {
        "colab_type": "code",
        "id": "uXAl6yNj6scr",
        "colab": {
          "base_uri": "https://localhost:8080/",
          "height": 35
        },
        "outputId": "1ede5ebb-00a3-4356-d243-a16a4be45c7d"
      },
      "cell_type": "code",
      "source": [
        "print('Test Loss: {} | Test Accuracy: {:.2f}%'.format(results['architecture_6'][0], 100 * results['architecture_6'][1]))"
      ],
      "execution_count": 61,
      "outputs": [
        {
          "output_type": "stream",
          "text": [
            "Test Loss: 0.2917801181320101 | Test Accuracy: 91.85%\n"
          ],
          "name": "stdout"
        }
      ]
    },
    {
      "metadata": {
        "id": "5gk7vmYPHddj",
        "colab_type": "text"
      },
      "cell_type": "markdown",
      "source": [
        "### 7 tentativa  Accuracy: 88.43%"
      ]
    },
    {
      "metadata": {
        "colab_type": "text",
        "id": "lxzyd-4L422r"
      },
      "cell_type": "markdown",
      "source": [
        "Modelo adaptado do **Lucas Albertins**\n",
        "\n",
        "*   Sem os **dropout**\n",
        "*   Função **Adadelta** para compilação\n",
        "*   **BatchNormalization** antes da ultima camada Dense\n"
      ]
    },
    {
      "metadata": {
        "colab_type": "code",
        "id": "sIBEdGsyHhJN",
        "colab": {}
      },
      "cell_type": "code",
      "source": [
        "from keras.layers import Conv2D, MaxPooling2D, GlobalMaxPooling2D, BatchNormalization\n",
        "from keras.regularizers import l2\n",
        "from keras.optimizers import Adadelta\n",
        "\n",
        "model = Sequential()\n",
        "\n",
        "model.add(Conv2D(32, (3, 3), activation='relu', kernel_regularizer=l2(1e-4), \n",
        "                 input_shape=(None, None, 3)))\n",
        "model.add(BatchNormalization())\n",
        "model.add(Conv2D(32, (3, 3), activation='relu', kernel_regularizer=l2(1e-4)))\n",
        "model.add(BatchNormalization())\n",
        "model.add(MaxPooling2D((2, 2)))\n",
        "\n",
        "model.add(Conv2D(64, (3, 3), activation='relu', kernel_regularizer=l2(1e-4)))\n",
        "model.add(BatchNormalization())\n",
        "model.add(Conv2D(64, (3, 3), activation='relu', kernel_regularizer=l2(1e-4)))\n",
        "model.add(BatchNormalization())\n",
        "model.add(MaxPooling2D((2, 2)))\n",
        "\n",
        "model.add(Conv2D(128, (1,1), kernel_regularizer=l2(1e-4)))\n",
        "model.add(GlobalMaxPooling2D())\n",
        "\n",
        "model.add(Dense(256, activation='relu', kernel_regularizer=l2(1e-4)))\n",
        "model.add(BatchNormalization())\n",
        "model.add(Dense(2, activation='sigmoid', kernel_regularizer=l2(1e-4)))"
      ],
      "execution_count": 0,
      "outputs": []
    },
    {
      "metadata": {
        "colab_type": "code",
        "id": "P6ZvobfGHhJb",
        "colab": {}
      },
      "cell_type": "code",
      "source": [
        "model.compile(Adadelta(lr=1.0, rho=0.95, epsilon=None, decay=0.0), \n",
        "              loss='binary_crossentropy', metrics=['accuracy'])"
      ],
      "execution_count": 0,
      "outputs": []
    },
    {
      "metadata": {
        "colab_type": "code",
        "id": "HwKsm_5S4l2j",
        "colab": {}
      },
      "cell_type": "code",
      "source": [
        "checkpointer = ModelCheckpoint(filepath='weights_architecture_7.hdf5', verbose=1, save_best_only=True)"
      ],
      "execution_count": 0,
      "outputs": []
    },
    {
      "metadata": {
        "colab_type": "code",
        "id": "mXDKyOFa4l2t",
        "colab": {
          "base_uri": "https://localhost:8080/",
          "height": 3690
        },
        "outputId": "aa099c88-1b41-440e-c50f-5738f9942c20"
      },
      "cell_type": "code",
      "source": [
        "training = model.fit_generator(train_batches, steps_per_epoch=stepsPerEpoche, \n",
        "                   validation_data=validation_batches, validation_steps=validationSteps,\n",
        "                   epochs=50, verbose=2, callbacks=[checkpointer])"
      ],
      "execution_count": 65,
      "outputs": [
        {
          "output_type": "stream",
          "text": [
            "Epoch 1/50\n",
            " - 4s - loss: 0.5382 - acc: 0.7438 - val_loss: 1.8721 - val_acc: 0.5000\n",
            "\n",
            "Epoch 00001: val_loss improved from inf to 1.87215, saving model to weights_architecture_7.hdf5\n",
            "Epoch 2/50\n",
            " - 1s - loss: 0.4823 - acc: 0.8500 - val_loss: 0.5579 - val_acc: 0.7578\n",
            "\n",
            "Epoch 00002: val_loss improved from 1.87215 to 0.55789, saving model to weights_architecture_7.hdf5\n",
            "Epoch 3/50\n",
            " - 1s - loss: 0.3340 - acc: 0.9000 - val_loss: 0.5275 - val_acc: 0.8516\n",
            "\n",
            "Epoch 00003: val_loss improved from 0.55789 to 0.52747, saving model to weights_architecture_7.hdf5\n",
            "Epoch 4/50\n",
            " - 1s - loss: 0.2986 - acc: 0.8812 - val_loss: 1.0883 - val_acc: 0.6016\n",
            "\n",
            "Epoch 00004: val_loss did not improve from 0.52747\n",
            "Epoch 5/50\n",
            " - 1s - loss: 0.3632 - acc: 0.8812 - val_loss: 0.3948 - val_acc: 0.8672\n",
            "\n",
            "Epoch 00005: val_loss improved from 0.52747 to 0.39481, saving model to weights_architecture_7.hdf5\n",
            "Epoch 6/50\n",
            " - 1s - loss: 0.3431 - acc: 0.8812 - val_loss: 0.7640 - val_acc: 0.7734\n",
            "\n",
            "Epoch 00006: val_loss did not improve from 0.39481\n",
            "Epoch 7/50\n",
            " - 1s - loss: 0.2538 - acc: 0.9313 - val_loss: 0.6845 - val_acc: 0.7188\n",
            "\n",
            "Epoch 00007: val_loss did not improve from 0.39481\n",
            "Epoch 8/50\n",
            " - 1s - loss: 0.3997 - acc: 0.8812 - val_loss: 0.3810 - val_acc: 0.8281\n",
            "\n",
            "Epoch 00008: val_loss improved from 0.39481 to 0.38102, saving model to weights_architecture_7.hdf5\n",
            "Epoch 9/50\n",
            " - 1s - loss: 0.3993 - acc: 0.8656 - val_loss: 0.3995 - val_acc: 0.8906\n",
            "\n",
            "Epoch 00009: val_loss did not improve from 0.38102\n",
            "Epoch 10/50\n",
            " - 1s - loss: 0.2152 - acc: 0.9375 - val_loss: 0.3007 - val_acc: 0.8750\n",
            "\n",
            "Epoch 00010: val_loss improved from 0.38102 to 0.30068, saving model to weights_architecture_7.hdf5\n",
            "Epoch 11/50\n",
            " - 1s - loss: 0.2543 - acc: 0.8969 - val_loss: 0.6445 - val_acc: 0.7969\n",
            "\n",
            "Epoch 00011: val_loss did not improve from 0.30068\n",
            "Epoch 12/50\n",
            " - 1s - loss: 0.3214 - acc: 0.8875 - val_loss: 0.8335 - val_acc: 0.7812\n",
            "\n",
            "Epoch 00012: val_loss did not improve from 0.30068\n",
            "Epoch 13/50\n",
            " - 1s - loss: 0.2280 - acc: 0.9562 - val_loss: 0.3254 - val_acc: 0.8594\n",
            "\n",
            "Epoch 00013: val_loss did not improve from 0.30068\n",
            "Epoch 14/50\n",
            " - 1s - loss: 0.3162 - acc: 0.9062 - val_loss: 0.2669 - val_acc: 0.8828\n",
            "\n",
            "Epoch 00014: val_loss improved from 0.30068 to 0.26691, saving model to weights_architecture_7.hdf5\n",
            "Epoch 15/50\n",
            " - 1s - loss: 0.3030 - acc: 0.9000 - val_loss: 0.2220 - val_acc: 0.9297\n",
            "\n",
            "Epoch 00015: val_loss improved from 0.26691 to 0.22204, saving model to weights_architecture_7.hdf5\n",
            "Epoch 16/50\n",
            " - 1s - loss: 0.3112 - acc: 0.8906 - val_loss: 0.4375 - val_acc: 0.8359\n",
            "\n",
            "Epoch 00016: val_loss did not improve from 0.22204\n",
            "Epoch 17/50\n",
            " - 1s - loss: 0.3472 - acc: 0.8969 - val_loss: 0.6429 - val_acc: 0.7031\n",
            "\n",
            "Epoch 00017: val_loss did not improve from 0.22204\n",
            "Epoch 18/50\n",
            " - 1s - loss: 0.4093 - acc: 0.8312 - val_loss: 0.3433 - val_acc: 0.8438\n",
            "\n",
            "Epoch 00018: val_loss did not improve from 0.22204\n",
            "Epoch 19/50\n",
            " - 1s - loss: 0.2830 - acc: 0.9375 - val_loss: 0.2648 - val_acc: 0.8906\n",
            "\n",
            "Epoch 00019: val_loss did not improve from 0.22204\n",
            "Epoch 20/50\n",
            " - 1s - loss: 0.2823 - acc: 0.8844 - val_loss: 0.5629 - val_acc: 0.8359\n",
            "\n",
            "Epoch 00020: val_loss did not improve from 0.22204\n",
            "Epoch 21/50\n",
            " - 1s - loss: 0.2437 - acc: 0.9313 - val_loss: 0.3475 - val_acc: 0.8828\n",
            "\n",
            "Epoch 00021: val_loss did not improve from 0.22204\n",
            "Epoch 22/50\n",
            " - 1s - loss: 0.3096 - acc: 0.9156 - val_loss: 0.8158 - val_acc: 0.8125\n",
            "\n",
            "Epoch 00022: val_loss did not improve from 0.22204\n",
            "Epoch 23/50\n",
            " - 1s - loss: 0.2301 - acc: 0.9344 - val_loss: 0.5518 - val_acc: 0.8516\n",
            "\n",
            "Epoch 00023: val_loss did not improve from 0.22204\n",
            "Epoch 24/50\n",
            " - 1s - loss: 0.3611 - acc: 0.8875 - val_loss: 0.4890 - val_acc: 0.7891\n",
            "\n",
            "Epoch 00024: val_loss did not improve from 0.22204\n",
            "Epoch 25/50\n",
            " - 1s - loss: 0.3293 - acc: 0.9062 - val_loss: 0.4806 - val_acc: 0.7969\n",
            "\n",
            "Epoch 00025: val_loss did not improve from 0.22204\n",
            "Epoch 26/50\n",
            " - 1s - loss: 0.2537 - acc: 0.9125 - val_loss: 0.2540 - val_acc: 0.9453\n",
            "\n",
            "Epoch 00026: val_loss did not improve from 0.22204\n",
            "Epoch 27/50\n",
            " - 1s - loss: 0.2797 - acc: 0.9031 - val_loss: 0.2203 - val_acc: 0.9167\n",
            "\n",
            "Epoch 00027: val_loss improved from 0.22204 to 0.22034, saving model to weights_architecture_7.hdf5\n",
            "Epoch 28/50\n",
            " - 1s - loss: 0.2052 - acc: 0.9531 - val_loss: 0.5645 - val_acc: 0.8516\n",
            "\n",
            "Epoch 00028: val_loss did not improve from 0.22034\n",
            "Epoch 29/50\n",
            " - 1s - loss: 0.2919 - acc: 0.9000 - val_loss: 0.2002 - val_acc: 0.9609\n",
            "\n",
            "Epoch 00029: val_loss improved from 0.22034 to 0.20024, saving model to weights_architecture_7.hdf5\n",
            "Epoch 30/50\n",
            " - 1s - loss: 0.3382 - acc: 0.8969 - val_loss: 0.2575 - val_acc: 0.9453\n",
            "\n",
            "Epoch 00030: val_loss did not improve from 0.20024\n",
            "Epoch 31/50\n",
            " - 1s - loss: 0.3175 - acc: 0.8937 - val_loss: 0.6010 - val_acc: 0.7578\n",
            "\n",
            "Epoch 00031: val_loss did not improve from 0.20024\n",
            "Epoch 32/50\n",
            " - 1s - loss: 0.3233 - acc: 0.8937 - val_loss: 0.3453 - val_acc: 0.8984\n",
            "\n",
            "Epoch 00032: val_loss did not improve from 0.20024\n",
            "Epoch 33/50\n",
            " - 1s - loss: 0.3671 - acc: 0.8594 - val_loss: 0.3122 - val_acc: 0.9062\n",
            "\n",
            "Epoch 00033: val_loss did not improve from 0.20024\n",
            "Epoch 34/50\n",
            " - 1s - loss: 0.3537 - acc: 0.9094 - val_loss: 1.0031 - val_acc: 0.6016\n",
            "\n",
            "Epoch 00034: val_loss did not improve from 0.20024\n",
            "Epoch 35/50\n",
            " - 1s - loss: 0.3575 - acc: 0.8875 - val_loss: 0.4662 - val_acc: 0.8750\n",
            "\n",
            "Epoch 00035: val_loss did not improve from 0.20024\n",
            "Epoch 36/50\n",
            " - 1s - loss: 0.2973 - acc: 0.9000 - val_loss: 0.2911 - val_acc: 0.8984\n",
            "\n",
            "Epoch 00036: val_loss did not improve from 0.20024\n",
            "Epoch 37/50\n",
            " - 1s - loss: 0.2814 - acc: 0.8937 - val_loss: 0.2913 - val_acc: 0.8750\n",
            "\n",
            "Epoch 00037: val_loss did not improve from 0.20024\n",
            "Epoch 38/50\n",
            " - 1s - loss: 0.2766 - acc: 0.9188 - val_loss: 0.2786 - val_acc: 0.9297\n",
            "\n",
            "Epoch 00038: val_loss did not improve from 0.20024\n",
            "Epoch 39/50\n",
            " - 1s - loss: 0.3726 - acc: 0.8719 - val_loss: 0.3030 - val_acc: 0.9062\n",
            "\n",
            "Epoch 00039: val_loss did not improve from 0.20024\n",
            "Epoch 40/50\n",
            " - 1s - loss: 0.2851 - acc: 0.9085 - val_loss: 0.5248 - val_acc: 0.8594\n",
            "\n",
            "Epoch 00040: val_loss did not improve from 0.20024\n",
            "Epoch 41/50\n",
            " - 1s - loss: 0.4030 - acc: 0.8656 - val_loss: 0.2271 - val_acc: 0.9453\n",
            "\n",
            "Epoch 00041: val_loss did not improve from 0.20024\n",
            "Epoch 42/50\n",
            " - 1s - loss: 0.2730 - acc: 0.9125 - val_loss: 0.3107 - val_acc: 0.9062\n",
            "\n",
            "Epoch 00042: val_loss did not improve from 0.20024\n",
            "Epoch 43/50\n",
            " - 1s - loss: 0.2257 - acc: 0.9281 - val_loss: 0.2124 - val_acc: 0.9219\n",
            "\n",
            "Epoch 00043: val_loss did not improve from 0.20024\n",
            "Epoch 44/50\n",
            " - 1s - loss: 0.2576 - acc: 0.9406 - val_loss: 0.3067 - val_acc: 0.9062\n",
            "\n",
            "Epoch 00044: val_loss did not improve from 0.20024\n",
            "Epoch 45/50\n",
            " - 1s - loss: 0.2507 - acc: 0.9406 - val_loss: 0.2799 - val_acc: 0.9219\n",
            "\n",
            "Epoch 00045: val_loss did not improve from 0.20024\n",
            "Epoch 46/50\n",
            " - 1s - loss: 0.3016 - acc: 0.8937 - val_loss: 0.2085 - val_acc: 0.9375\n",
            "\n",
            "Epoch 00046: val_loss did not improve from 0.20024\n",
            "Epoch 47/50\n",
            " - 1s - loss: 0.2947 - acc: 0.9125 - val_loss: 0.2737 - val_acc: 0.9375\n",
            "\n",
            "Epoch 00047: val_loss did not improve from 0.20024\n",
            "Epoch 48/50\n",
            " - 1s - loss: 0.3433 - acc: 0.8969 - val_loss: 0.2073 - val_acc: 0.9062\n",
            "\n",
            "Epoch 00048: val_loss did not improve from 0.20024\n",
            "Epoch 49/50\n",
            " - 1s - loss: 0.2370 - acc: 0.9375 - val_loss: 0.3268 - val_acc: 0.8906\n",
            "\n",
            "Epoch 00049: val_loss did not improve from 0.20024\n",
            "Epoch 50/50\n",
            " - 1s - loss: 0.2783 - acc: 0.9188 - val_loss: 0.3900 - val_acc: 0.8203\n",
            "\n",
            "Epoch 00050: val_loss did not improve from 0.20024\n"
          ],
          "name": "stdout"
        }
      ]
    },
    {
      "metadata": {
        "colab_type": "code",
        "id": "sy1RK1RR4l28",
        "colab": {
          "base_uri": "https://localhost:8080/",
          "height": 380
        },
        "outputId": "c1ef41d2-3549-4f5b-f902-e1bfc0b653b7"
      },
      "cell_type": "code",
      "source": [
        "# plotar loss e accuracy para os datasets 'train' e 'test'\n",
        "plt.style.use(\"ggplot\")\n",
        "plt.figure()\n",
        "plt.plot(training.history['acc'], label='Accuracy')\n",
        "plt.plot(training.history['loss'], label='Loss')\n",
        "plt.xlabel('Epochs')\n",
        "plt.ylabel('Accuracy')\n",
        "plt.title(\"Training Loss and Accuracy\")\n",
        "plt.ylabel(\"Loss/Accuracy\")\n",
        "plt.legend()\n",
        "plt.savefig('architecture_7.png', bbox_inches='tight')"
      ],
      "execution_count": 66,
      "outputs": [
        {
          "output_type": "display_data",
          "data": {
            "image/png": "[encoded data removed]",
            "text/plain": [
              "<matplotlib.figure.Figure at 0x7fe0d33f0f60>"
            ]
          },
          "metadata": {
            "tags": []
          }
        }
      ]
    },
    {
      "metadata": {
        "colab_type": "code",
        "id": "QIKQMVsI4l3E",
        "colab": {}
      },
      "cell_type": "code",
      "source": [
        "model.load_weights('weights_architecture_7.hdf5')"
      ],
      "execution_count": 0,
      "outputs": []
    },
    {
      "metadata": {
        "colab_type": "code",
        "id": "qPguZfCk4l3I",
        "colab": {
          "base_uri": "https://localhost:8080/",
          "height": 35
        },
        "outputId": "7c20a9b0-e735-471a-e979-3ad42d66a060"
      },
      "cell_type": "code",
      "source": [
        "results['architecture_7'] = model.evaluate_generator(test_batches, steps=bSize, use_multiprocessing=True, verbose=1)"
      ],
      "execution_count": 68,
      "outputs": [
        {
          "output_type": "stream",
          "text": [
            "32/32 [==============================] - 3s 104ms/step\n"
          ],
          "name": "stdout"
        }
      ]
    },
    {
      "metadata": {
        "colab_type": "code",
        "id": "9-WWBwrQ4l3V",
        "colab": {
          "base_uri": "https://localhost:8080/",
          "height": 35
        },
        "outputId": "092f1c56-af99-474f-a8bb-1185ab30fb19"
      },
      "cell_type": "code",
      "source": [
        "print('Test Loss: {} | Test Accuracy: {:.2f}%'.format(results['architecture_7'][0], 100 * results['architecture_7'][1]))"
      ],
      "execution_count": 69,
      "outputs": [
        {
          "output_type": "stream",
          "text": [
            "Test Loss: 0.3544805417768657 | Test Accuracy: 88.43%\n"
          ],
          "name": "stdout"
        }
      ]
    },
    {
      "metadata": {
        "id": "xBqqHjZrnDFP",
        "colab_type": "text"
      },
      "cell_type": "markdown",
      "source": [
        "### 8 tentativa Accuracy: 90.97%"
      ]
    },
    {
      "metadata": {
        "colab_type": "text",
        "id": "3Qg1zWbo5W6V"
      },
      "cell_type": "markdown",
      "source": [
        "Modelo adaptado do **Lucas Albertins**\n",
        "\n",
        "*   Função **Adadelta** para compilação\n"
      ]
    },
    {
      "metadata": {
        "colab_type": "code",
        "id": "MvjKH9LWpGsi",
        "colab": {}
      },
      "cell_type": "code",
      "source": [
        "from keras.layers import Conv2D, MaxPooling2D, GlobalMaxPooling2D, BatchNormalization\n",
        "from keras.regularizers import l2\n",
        "from keras.optimizers import Adadelta\n",
        "\n",
        "model = Sequential()\n",
        "\n",
        "model.add(Conv2D(32, (3, 3), activation='relu', kernel_regularizer=l2(1e-4), \n",
        "                 input_shape=(None, None, 3)))\n",
        "model.add(BatchNormalization())\n",
        "model.add(Conv2D(32, (3, 3), activation='relu', kernel_regularizer=l2(1e-4)))\n",
        "model.add(BatchNormalization())\n",
        "model.add(MaxPooling2D((2, 2)))\n",
        "model.add(Dropout(0.25))\n",
        "\n",
        "model.add(Conv2D(64, (3, 3), activation='relu', kernel_regularizer=l2(1e-4)))\n",
        "model.add(BatchNormalization())\n",
        "model.add(Conv2D(64, (3, 3), activation='relu', kernel_regularizer=l2(1e-4)))\n",
        "model.add(BatchNormalization())\n",
        "model.add(MaxPooling2D((2, 2)))\n",
        "model.add(Dropout(0.25))\n",
        "\n",
        "model.add(Conv2D(128, (1,1), kernel_regularizer=l2(1e-4)))\n",
        "model.add(GlobalMaxPooling2D())\n",
        "\n",
        "model.add(Dense(256, activation='relu', kernel_regularizer=l2(1e-4)))\n",
        "model.add(Dropout(0.5))\n",
        "model.add(Dense(2, activation='sigmoid', kernel_regularizer=l2(1e-4)))"
      ],
      "execution_count": 0,
      "outputs": []
    },
    {
      "metadata": {
        "colab_type": "code",
        "id": "civjmdynpGsy",
        "colab": {}
      },
      "cell_type": "code",
      "source": [
        "model.compile(Adadelta(lr=1.0, rho=0.95, epsilon=None, decay=0.0), \n",
        "              loss='binary_crossentropy', metrics=['accuracy'])"
      ],
      "execution_count": 0,
      "outputs": []
    },
    {
      "metadata": {
        "colab_type": "code",
        "id": "X2jVqVfE5iN7",
        "colab": {}
      },
      "cell_type": "code",
      "source": [
        "checkpointer = ModelCheckpoint(filepath='weights_architecture_8.hdf5', verbose=1, save_best_only=True)"
      ],
      "execution_count": 0,
      "outputs": []
    },
    {
      "metadata": {
        "colab_type": "code",
        "id": "w7LbZJly5iOF",
        "colab": {
          "base_uri": "https://localhost:8080/",
          "height": 3690
        },
        "outputId": "647d49e2-ec28-4198-9bc7-2d525d77109d"
      },
      "cell_type": "code",
      "source": [
        "training = model.fit_generator(train_batches, steps_per_epoch=stepsPerEpoche, \n",
        "                   validation_data=validation_batches, validation_steps=validationSteps,\n",
        "                   epochs=50, verbose=2, callbacks=[checkpointer])"
      ],
      "execution_count": 73,
      "outputs": [
        {
          "output_type": "stream",
          "text": [
            "Epoch 1/50\n",
            " - 4s - loss: 2.0264 - acc: 0.5563 - val_loss: 1.3115 - val_acc: 0.6719\n",
            "\n",
            "Epoch 00001: val_loss improved from inf to 1.31146, saving model to weights_architecture_8.hdf5\n",
            "Epoch 2/50\n",
            " - 1s - loss: 1.2551 - acc: 0.6344 - val_loss: 1.2247 - val_acc: 0.5625\n",
            "\n",
            "Epoch 00002: val_loss improved from 1.31146 to 1.22467, saving model to weights_architecture_8.hdf5\n",
            "Epoch 3/50\n",
            " - 1s - loss: 1.0199 - acc: 0.6469 - val_loss: 0.6889 - val_acc: 0.6328\n",
            "\n",
            "Epoch 00003: val_loss improved from 1.22467 to 0.68890, saving model to weights_architecture_8.hdf5\n",
            "Epoch 4/50\n",
            " - 1s - loss: 0.8975 - acc: 0.6063 - val_loss: 0.7748 - val_acc: 0.6797\n",
            "\n",
            "Epoch 00004: val_loss did not improve from 0.68890\n",
            "Epoch 5/50\n",
            " - 1s - loss: 0.7050 - acc: 0.6813 - val_loss: 0.4954 - val_acc: 0.8516\n",
            "\n",
            "Epoch 00005: val_loss improved from 0.68890 to 0.49538, saving model to weights_architecture_8.hdf5\n",
            "Epoch 6/50\n",
            " - 1s - loss: 0.8597 - acc: 0.6437 - val_loss: 0.5494 - val_acc: 0.7188\n",
            "\n",
            "Epoch 00006: val_loss did not improve from 0.49538\n",
            "Epoch 7/50\n",
            " - 1s - loss: 0.6402 - acc: 0.7344 - val_loss: 0.5446 - val_acc: 0.7812\n",
            "\n",
            "Epoch 00007: val_loss did not improve from 0.49538\n",
            "Epoch 8/50\n",
            " - 1s - loss: 0.4296 - acc: 0.8125 - val_loss: 0.4611 - val_acc: 0.8750\n",
            "\n",
            "Epoch 00008: val_loss improved from 0.49538 to 0.46105, saving model to weights_architecture_8.hdf5\n",
            "Epoch 9/50\n",
            " - 1s - loss: 0.5120 - acc: 0.7969 - val_loss: 0.4192 - val_acc: 0.8906\n",
            "\n",
            "Epoch 00009: val_loss improved from 0.46105 to 0.41916, saving model to weights_architecture_8.hdf5\n",
            "Epoch 10/50\n",
            " - 1s - loss: 0.4967 - acc: 0.8063 - val_loss: 0.4727 - val_acc: 0.8594\n",
            "\n",
            "Epoch 00010: val_loss did not improve from 0.41916\n",
            "Epoch 11/50\n",
            " - 1s - loss: 0.7019 - acc: 0.7062 - val_loss: 0.4374 - val_acc: 0.8828\n",
            "\n",
            "Epoch 00011: val_loss did not improve from 0.41916\n",
            "Epoch 12/50\n",
            " - 1s - loss: 0.5510 - acc: 0.7781 - val_loss: 0.5896 - val_acc: 0.7344\n",
            "\n",
            "Epoch 00012: val_loss did not improve from 0.41916\n",
            "Epoch 13/50\n",
            " - 1s - loss: 0.5450 - acc: 0.7812 - val_loss: 0.4517 - val_acc: 0.8359\n",
            "\n",
            "Epoch 00013: val_loss did not improve from 0.41916\n",
            "Epoch 14/50\n",
            " - 1s - loss: 0.3800 - acc: 0.8469 - val_loss: 0.5106 - val_acc: 0.7969\n",
            "\n",
            "Epoch 00014: val_loss did not improve from 0.41916\n",
            "Epoch 15/50\n",
            " - 1s - loss: 0.4059 - acc: 0.8625 - val_loss: 0.4061 - val_acc: 0.8594\n",
            "\n",
            "Epoch 00015: val_loss improved from 0.41916 to 0.40606, saving model to weights_architecture_8.hdf5\n",
            "Epoch 16/50\n",
            " - 1s - loss: 0.3607 - acc: 0.8750 - val_loss: 0.4679 - val_acc: 0.8125\n",
            "\n",
            "Epoch 00016: val_loss did not improve from 0.40606\n",
            "Epoch 17/50\n",
            " - 1s - loss: 0.4160 - acc: 0.8609 - val_loss: 0.3299 - val_acc: 0.9453\n",
            "\n",
            "Epoch 00017: val_loss improved from 0.40606 to 0.32991, saving model to weights_architecture_8.hdf5\n",
            "Epoch 18/50\n",
            " - 1s - loss: 0.4520 - acc: 0.8219 - val_loss: 0.4010 - val_acc: 0.8594\n",
            "\n",
            "Epoch 00018: val_loss did not improve from 0.32991\n",
            "Epoch 19/50\n",
            " - 1s - loss: 0.4427 - acc: 0.8438 - val_loss: 0.4121 - val_acc: 0.8672\n",
            "\n",
            "Epoch 00019: val_loss did not improve from 0.32991\n",
            "Epoch 20/50\n",
            " - 1s - loss: 0.4059 - acc: 0.8594 - val_loss: 0.4762 - val_acc: 0.8438\n",
            "\n",
            "Epoch 00020: val_loss did not improve from 0.32991\n",
            "Epoch 21/50\n",
            " - 1s - loss: 0.7219 - acc: 0.6937 - val_loss: 0.4062 - val_acc: 0.8984\n",
            "\n",
            "Epoch 00021: val_loss did not improve from 0.32991\n",
            "Epoch 22/50\n",
            " - 1s - loss: 0.4187 - acc: 0.8312 - val_loss: 0.5163 - val_acc: 0.8125\n",
            "\n",
            "Epoch 00022: val_loss did not improve from 0.32991\n",
            "Epoch 23/50\n",
            " - 1s - loss: 0.2862 - acc: 0.9219 - val_loss: 0.3525 - val_acc: 0.8646\n",
            "\n",
            "Epoch 00023: val_loss did not improve from 0.32991\n",
            "Epoch 24/50\n",
            " - 1s - loss: 0.4505 - acc: 0.8500 - val_loss: 0.3880 - val_acc: 0.8828\n",
            "\n",
            "Epoch 00024: val_loss did not improve from 0.32991\n",
            "Epoch 25/50\n",
            " - 1s - loss: 0.5126 - acc: 0.7938 - val_loss: 0.4110 - val_acc: 0.9141\n",
            "\n",
            "Epoch 00025: val_loss did not improve from 0.32991\n",
            "Epoch 26/50\n",
            " - 1s - loss: 0.3099 - acc: 0.9031 - val_loss: 0.5956 - val_acc: 0.7500\n",
            "\n",
            "Epoch 00026: val_loss did not improve from 0.32991\n",
            "Epoch 27/50\n",
            " - 1s - loss: 0.4104 - acc: 0.8594 - val_loss: 0.4358 - val_acc: 0.8281\n",
            "\n",
            "Epoch 00027: val_loss did not improve from 0.32991\n",
            "Epoch 28/50\n",
            " - 1s - loss: 0.3288 - acc: 0.8906 - val_loss: 0.5339 - val_acc: 0.7500\n",
            "\n",
            "Epoch 00028: val_loss did not improve from 0.32991\n",
            "Epoch 29/50\n",
            " - 1s - loss: 0.3639 - acc: 0.8781 - val_loss: 0.4565 - val_acc: 0.8359\n",
            "\n",
            "Epoch 00029: val_loss did not improve from 0.32991\n",
            "Epoch 30/50\n",
            " - 1s - loss: 0.2625 - acc: 0.9094 - val_loss: 0.3541 - val_acc: 0.9141\n",
            "\n",
            "Epoch 00030: val_loss did not improve from 0.32991\n",
            "Epoch 31/50\n",
            " - 1s - loss: 0.4491 - acc: 0.8594 - val_loss: 0.4616 - val_acc: 0.8125\n",
            "\n",
            "Epoch 00031: val_loss did not improve from 0.32991\n",
            "Epoch 32/50\n",
            " - 1s - loss: 0.3767 - acc: 0.8625 - val_loss: 0.3798 - val_acc: 0.8984\n",
            "\n",
            "Epoch 00032: val_loss did not improve from 0.32991\n",
            "Epoch 33/50\n",
            " - 1s - loss: 0.4553 - acc: 0.8406 - val_loss: 0.3745 - val_acc: 0.8984\n",
            "\n",
            "Epoch 00033: val_loss did not improve from 0.32991\n",
            "Epoch 34/50\n",
            " - 1s - loss: 0.4194 - acc: 0.8344 - val_loss: 0.3475 - val_acc: 0.9375\n",
            "\n",
            "Epoch 00034: val_loss did not improve from 0.32991\n",
            "Epoch 35/50\n",
            " - 1s - loss: 0.3822 - acc: 0.8594 - val_loss: 0.3623 - val_acc: 0.8828\n",
            "\n",
            "Epoch 00035: val_loss did not improve from 0.32991\n",
            "Epoch 36/50\n",
            " - 1s - loss: 0.3985 - acc: 0.8531 - val_loss: 0.3829 - val_acc: 0.9062\n",
            "\n",
            "Epoch 00036: val_loss did not improve from 0.32991\n",
            "Epoch 37/50\n",
            " - 1s - loss: 0.4809 - acc: 0.8375 - val_loss: 0.5494 - val_acc: 0.7500\n",
            "\n",
            "Epoch 00037: val_loss did not improve from 0.32991\n",
            "Epoch 38/50\n",
            " - 1s - loss: 0.4088 - acc: 0.8531 - val_loss: 0.4998 - val_acc: 0.8359\n",
            "\n",
            "Epoch 00038: val_loss did not improve from 0.32991\n",
            "Epoch 39/50\n",
            " - 1s - loss: 0.2957 - acc: 0.9281 - val_loss: 0.2875 - val_acc: 0.9375\n",
            "\n",
            "Epoch 00039: val_loss improved from 0.32991 to 0.28747, saving model to weights_architecture_8.hdf5\n",
            "Epoch 40/50\n",
            " - 1s - loss: 0.3386 - acc: 0.9000 - val_loss: 0.4260 - val_acc: 0.8646\n",
            "\n",
            "Epoch 00040: val_loss did not improve from 0.28747\n",
            "Epoch 41/50\n",
            " - 1s - loss: 0.3856 - acc: 0.8563 - val_loss: 0.5038 - val_acc: 0.7969\n",
            "\n",
            "Epoch 00041: val_loss did not improve from 0.28747\n",
            "Epoch 42/50\n",
            " - 1s - loss: 0.4535 - acc: 0.8219 - val_loss: 0.4536 - val_acc: 0.9219\n",
            "\n",
            "Epoch 00042: val_loss did not improve from 0.28747\n",
            "Epoch 43/50\n",
            " - 1s - loss: 0.5759 - acc: 0.7338 - val_loss: 0.5550 - val_acc: 0.7266\n",
            "\n",
            "Epoch 00043: val_loss did not improve from 0.28747\n",
            "Epoch 44/50\n",
            " - 1s - loss: 0.4406 - acc: 0.8438 - val_loss: 0.3873 - val_acc: 0.8828\n",
            "\n",
            "Epoch 00044: val_loss did not improve from 0.28747\n",
            "Epoch 45/50\n",
            " - 1s - loss: 0.3755 - acc: 0.8937 - val_loss: 0.3613 - val_acc: 0.9688\n",
            "\n",
            "Epoch 00045: val_loss did not improve from 0.28747\n",
            "Epoch 46/50\n",
            " - 1s - loss: 0.4176 - acc: 0.8500 - val_loss: 0.4353 - val_acc: 0.8672\n",
            "\n",
            "Epoch 00046: val_loss did not improve from 0.28747\n",
            "Epoch 47/50\n",
            " - 1s - loss: 0.4069 - acc: 0.8312 - val_loss: 0.3687 - val_acc: 0.8984\n",
            "\n",
            "Epoch 00047: val_loss did not improve from 0.28747\n",
            "Epoch 48/50\n",
            " - 1s - loss: 0.3781 - acc: 0.8875 - val_loss: 0.2899 - val_acc: 0.9375\n",
            "\n",
            "Epoch 00048: val_loss did not improve from 0.28747\n",
            "Epoch 49/50\n",
            " - 1s - loss: 0.3096 - acc: 0.9000 - val_loss: 0.3750 - val_acc: 0.8984\n",
            "\n",
            "Epoch 00049: val_loss did not improve from 0.28747\n",
            "Epoch 50/50\n",
            " - 1s - loss: 0.2956 - acc: 0.8656 - val_loss: 0.3088 - val_acc: 0.8672\n",
            "\n",
            "Epoch 00050: val_loss did not improve from 0.28747\n"
          ],
          "name": "stdout"
        }
      ]
    },
    {
      "metadata": {
        "colab_type": "code",
        "id": "h8cGfOxz5iOR",
        "colab": {
          "base_uri": "https://localhost:8080/",
          "height": 380
        },
        "outputId": "4df230cc-450d-4aa3-b008-ff37832d74bd"
      },
      "cell_type": "code",
      "source": [
        "# plotar loss e accuracy para os datasets 'train' e 'test'\n",
        "plt.style.use(\"ggplot\")\n",
        "plt.figure()\n",
        "plt.plot(training.history['acc'], label='Accuracy')\n",
        "plt.plot(training.history['loss'], label='Loss')\n",
        "plt.xlabel('Epochs')\n",
        "plt.ylabel('Accuracy')\n",
        "plt.title(\"Training Loss and Accuracy\")\n",
        "plt.ylabel(\"Loss/Accuracy\")\n",
        "plt.legend()\n",
        "plt.savefig('architecture_8.png', bbox_inches='tight')"
      ],
      "execution_count": 74,
      "outputs": [
        {
          "output_type": "display_data",
          "data": {
            "image/png": "[encoded data removed]",
            "text/plain": [
              "<matplotlib.figure.Figure at 0x7fe0d02ec358>"
            ]
          },
          "metadata": {
            "tags": []
          }
        }
      ]
    },
    {
      "metadata": {
        "colab_type": "code",
        "id": "EfQMTY5Z5iOW",
        "colab": {}
      },
      "cell_type": "code",
      "source": [
        "model.load_weights('weights_architecture_8.hdf5')"
      ],
      "execution_count": 0,
      "outputs": []
    },
    {
      "metadata": {
        "colab_type": "code",
        "id": "Zmtm1Uga5iOb",
        "colab": {
          "base_uri": "https://localhost:8080/",
          "height": 35
        },
        "outputId": "385b2ff0-a0f0-4a8d-e391-fb663cf0fe11"
      },
      "cell_type": "code",
      "source": [
        "results['architecture_8'] = model.evaluate_generator(test_batches, steps=bSize, use_multiprocessing=True, verbose=1)"
      ],
      "execution_count": 15,
      "outputs": [
        {
          "output_type": "stream",
          "text": [
            "32/32 [==============================] - 3s 94ms/step\n"
          ],
          "name": "stdout"
        }
      ]
    },
    {
      "metadata": {
        "colab_type": "code",
        "id": "ry8LV6fw5iOf",
        "colab": {
          "base_uri": "https://localhost:8080/",
          "height": 35
        },
        "outputId": "dcd8c45f-492c-44ec-a070-9c8c42e09fe4"
      },
      "cell_type": "code",
      "source": [
        "print('Test Loss: {} | Test Accuracy: {:.2f}%'.format(results['architecture_8'][0], 100 * results['architecture_8'][1]))"
      ],
      "execution_count": 16,
      "outputs": [
        {
          "output_type": "stream",
          "text": [
            "Test Loss: 0.3558833417482674 | Test Accuracy: 90.97%\n"
          ],
          "name": "stdout"
        }
      ]
    },
    {
      "metadata": {
        "id": "csBCokNgxgbn",
        "colab_type": "text"
      },
      "cell_type": "markdown",
      "source": [
        "### 9 tentativa Accuracy: 90.62%"
      ]
    },
    {
      "metadata": {
        "colab_type": "text",
        "id": "qLtNH8xk63El"
      },
      "cell_type": "markdown",
      "source": [
        "Modelo adaptado do **Lucas Albertins**\n",
        "\n",
        "*   Função **SGD** para compilação\n"
      ]
    },
    {
      "metadata": {
        "colab_type": "code",
        "id": "EJjS6pK1xj1f",
        "colab": {}
      },
      "cell_type": "code",
      "source": [
        "from keras.layers import Conv2D, MaxPooling2D, GlobalMaxPooling2D, BatchNormalization\n",
        "from keras.regularizers import l2\n",
        "\n",
        "model = Sequential()\n",
        "\n",
        "model.add(Conv2D(32, (3, 3), activation='relu', kernel_regularizer=l2(1e-4), \n",
        "                 input_shape=(None, None, 3)))\n",
        "model.add(BatchNormalization())\n",
        "model.add(Conv2D(32, (3, 3), activation='relu', kernel_regularizer=l2(1e-4)))\n",
        "model.add(BatchNormalization())\n",
        "model.add(MaxPooling2D((2, 2)))\n",
        "model.add(Dropout(0.25))\n",
        "\n",
        "model.add(Conv2D(64, (3, 3), activation='relu', kernel_regularizer=l2(1e-4)))\n",
        "model.add(BatchNormalization())\n",
        "model.add(Conv2D(64, (3, 3), activation='relu', kernel_regularizer=l2(1e-4)))\n",
        "model.add(BatchNormalization())\n",
        "model.add(MaxPooling2D((2, 2)))\n",
        "model.add(Dropout(0.25))\n",
        "\n",
        "model.add(Conv2D(128, (1,1), kernel_regularizer=l2(1e-4)))\n",
        "model.add(GlobalMaxPooling2D())\n",
        "\n",
        "model.add(Dense(256, activation='relu', kernel_regularizer=l2(1e-4)))\n",
        "model.add(Dropout(0.5))\n",
        "model.add(Dense(2, activation='sigmoid', kernel_regularizer=l2(1e-4)))"
      ],
      "execution_count": 0,
      "outputs": []
    },
    {
      "metadata": {
        "colab_type": "code",
        "id": "9ezdguEZxsWT",
        "colab": {}
      },
      "cell_type": "code",
      "source": [
        "model.compile(SGD(lr=0.03, momentum=0.0, decay=0.0, nesterov=False), \n",
        "              loss='binary_crossentropy', metrics=['accuracy'])"
      ],
      "execution_count": 0,
      "outputs": []
    },
    {
      "metadata": {
        "colab_type": "code",
        "id": "yADpSLiz6XOs",
        "colab": {}
      },
      "cell_type": "code",
      "source": [
        "checkpointer = ModelCheckpoint(filepath='weights_architecture_9.hdf5', verbose=1, save_best_only=True)"
      ],
      "execution_count": 0,
      "outputs": []
    },
    {
      "metadata": {
        "colab_type": "code",
        "id": "6jYgi71R6XO2",
        "colab": {
          "base_uri": "https://localhost:8080/",
          "height": 3690
        },
        "outputId": "1a6d4469-c6c8-4fda-ddb7-3eae42b5c738"
      },
      "cell_type": "code",
      "source": [
        "training = model.fit_generator(train_batches, steps_per_epoch=stepsPerEpoche, \n",
        "                   validation_data=validation_batches, validation_steps=validationSteps,\n",
        "                   epochs=50, verbose=2, callbacks=[checkpointer])"
      ],
      "execution_count": 20,
      "outputs": [
        {
          "output_type": "stream",
          "text": [
            "Epoch 1/50\n",
            " - 2s - loss: 5.3514 - acc: 0.5250 - val_loss: 7.0161 - val_acc: 0.4453\n",
            "\n",
            "Epoch 00001: val_loss improved from inf to 7.01614, saving model to weights_architecture_9.hdf5\n",
            "Epoch 2/50\n",
            " - 0s - loss: 4.1488 - acc: 0.5250 - val_loss: 1.5596 - val_acc: 0.5469\n",
            "\n",
            "Epoch 00002: val_loss improved from 7.01614 to 1.55956, saving model to weights_architecture_9.hdf5\n",
            "Epoch 3/50\n",
            " - 0s - loss: 1.2479 - acc: 0.5219 - val_loss: 0.7141 - val_acc: 0.6641\n",
            "\n",
            "Epoch 00003: val_loss improved from 1.55956 to 0.71413, saving model to weights_architecture_9.hdf5\n",
            "Epoch 4/50\n",
            " - 0s - loss: 0.7168 - acc: 0.6312 - val_loss: 0.6656 - val_acc: 0.5938\n",
            "\n",
            "Epoch 00004: val_loss improved from 0.71413 to 0.66563, saving model to weights_architecture_9.hdf5\n",
            "Epoch 5/50\n",
            " - 0s - loss: 0.6973 - acc: 0.6188 - val_loss: 0.6247 - val_acc: 0.6641\n",
            "\n",
            "Epoch 00005: val_loss improved from 0.66563 to 0.62470, saving model to weights_architecture_9.hdf5\n",
            "Epoch 6/50\n",
            " - 0s - loss: 0.5734 - acc: 0.7281 - val_loss: 0.5789 - val_acc: 0.8750\n",
            "\n",
            "Epoch 00006: val_loss improved from 0.62470 to 0.57886, saving model to weights_architecture_9.hdf5\n",
            "Epoch 7/50\n",
            " - 0s - loss: 0.6815 - acc: 0.6437 - val_loss: 0.5964 - val_acc: 0.6562\n",
            "\n",
            "Epoch 00007: val_loss did not improve from 0.57886\n",
            "Epoch 8/50\n",
            " - 1s - loss: 0.6530 - acc: 0.7188 - val_loss: 0.6089 - val_acc: 0.6562\n",
            "\n",
            "Epoch 00008: val_loss did not improve from 0.57886\n",
            "Epoch 9/50\n",
            " - 1s - loss: 0.5159 - acc: 0.8187 - val_loss: 0.5257 - val_acc: 0.8125\n",
            "\n",
            "Epoch 00009: val_loss improved from 0.57886 to 0.52573, saving model to weights_architecture_9.hdf5\n",
            "Epoch 10/50\n",
            " - 1s - loss: 0.5892 - acc: 0.7219 - val_loss: 0.5208 - val_acc: 0.8516\n",
            "\n",
            "Epoch 00010: val_loss improved from 0.52573 to 0.52085, saving model to weights_architecture_9.hdf5\n",
            "Epoch 11/50\n",
            " - 1s - loss: 0.5508 - acc: 0.8000 - val_loss: 0.5871 - val_acc: 0.7578\n",
            "\n",
            "Epoch 00011: val_loss did not improve from 0.52085\n",
            "Epoch 12/50\n",
            " - 1s - loss: 0.6006 - acc: 0.7375 - val_loss: 0.5460 - val_acc: 0.7812\n",
            "\n",
            "Epoch 00012: val_loss did not improve from 0.52085\n",
            "Epoch 13/50\n",
            " - 1s - loss: 0.6428 - acc: 0.7000 - val_loss: 0.5043 - val_acc: 0.8828\n",
            "\n",
            "Epoch 00013: val_loss improved from 0.52085 to 0.50432, saving model to weights_architecture_9.hdf5\n",
            "Epoch 14/50\n",
            " - 1s - loss: 0.5105 - acc: 0.7844 - val_loss: 0.4128 - val_acc: 0.9531\n",
            "\n",
            "Epoch 00014: val_loss improved from 0.50432 to 0.41276, saving model to weights_architecture_9.hdf5\n",
            "Epoch 15/50\n",
            " - 1s - loss: 0.4673 - acc: 0.8219 - val_loss: 0.4236 - val_acc: 0.8828\n",
            "\n",
            "Epoch 00015: val_loss did not improve from 0.41276\n",
            "Epoch 16/50\n",
            " - 1s - loss: 0.5439 - acc: 0.7562 - val_loss: 0.4702 - val_acc: 0.8594\n",
            "\n",
            "Epoch 00016: val_loss did not improve from 0.41276\n",
            "Epoch 17/50\n",
            " - 1s - loss: 0.5862 - acc: 0.7594 - val_loss: 0.5284 - val_acc: 0.7812\n",
            "\n",
            "Epoch 00017: val_loss did not improve from 0.41276\n",
            "Epoch 18/50\n",
            " - 1s - loss: 0.3902 - acc: 0.8688 - val_loss: 0.4355 - val_acc: 0.8281\n",
            "\n",
            "Epoch 00018: val_loss did not improve from 0.41276\n",
            "Epoch 19/50\n",
            " - 1s - loss: 0.4877 - acc: 0.8031 - val_loss: 0.4748 - val_acc: 0.8125\n",
            "\n",
            "Epoch 00019: val_loss did not improve from 0.41276\n",
            "Epoch 20/50\n",
            " - 1s - loss: 0.4802 - acc: 0.7969 - val_loss: 0.4891 - val_acc: 0.8047\n",
            "\n",
            "Epoch 00020: val_loss did not improve from 0.41276\n",
            "Epoch 21/50\n",
            " - 1s - loss: 0.3639 - acc: 0.8719 - val_loss: 0.4651 - val_acc: 0.8281\n",
            "\n",
            "Epoch 00021: val_loss did not improve from 0.41276\n",
            "Epoch 22/50\n",
            " - 1s - loss: 0.5021 - acc: 0.8094 - val_loss: 0.4373 - val_acc: 0.8594\n",
            "\n",
            "Epoch 00022: val_loss did not improve from 0.41276\n",
            "Epoch 23/50\n",
            " - 1s - loss: 0.4103 - acc: 0.8594 - val_loss: 0.5349 - val_acc: 0.8203\n",
            "\n",
            "Epoch 00023: val_loss did not improve from 0.41276\n",
            "Epoch 24/50\n",
            " - 1s - loss: 0.5449 - acc: 0.7812 - val_loss: 0.5350 - val_acc: 0.7656\n",
            "\n",
            "Epoch 00024: val_loss did not improve from 0.41276\n",
            "Epoch 25/50\n",
            " - 1s - loss: 0.4150 - acc: 0.8375 - val_loss: 0.5711 - val_acc: 0.7734\n",
            "\n",
            "Epoch 00025: val_loss did not improve from 0.41276\n",
            "Epoch 26/50\n",
            " - 1s - loss: 0.4833 - acc: 0.8063 - val_loss: 0.6445 - val_acc: 0.6250\n",
            "\n",
            "Epoch 00026: val_loss did not improve from 0.41276\n",
            "Epoch 27/50\n",
            " - 1s - loss: 0.3915 - acc: 0.8803 - val_loss: 0.3870 - val_acc: 0.9062\n",
            "\n",
            "Epoch 00027: val_loss improved from 0.41276 to 0.38704, saving model to weights_architecture_9.hdf5\n",
            "Epoch 28/50\n",
            " - 1s - loss: 0.3495 - acc: 0.8594 - val_loss: 0.5476 - val_acc: 0.7422\n",
            "\n",
            "Epoch 00028: val_loss did not improve from 0.38704\n",
            "Epoch 29/50\n",
            " - 1s - loss: 0.4153 - acc: 0.8594 - val_loss: 0.5533 - val_acc: 0.7734\n",
            "\n",
            "Epoch 00029: val_loss did not improve from 0.38704\n",
            "Epoch 30/50\n",
            " - 1s - loss: 0.4105 - acc: 0.8625 - val_loss: 0.6605 - val_acc: 0.6641\n",
            "\n",
            "Epoch 00030: val_loss did not improve from 0.38704\n",
            "Epoch 31/50\n",
            " - 1s - loss: 0.4053 - acc: 0.8625 - val_loss: 0.5727 - val_acc: 0.7500\n",
            "\n",
            "Epoch 00031: val_loss did not improve from 0.38704\n",
            "Epoch 32/50\n",
            " - 1s - loss: 0.3722 - acc: 0.8781 - val_loss: 0.4348 - val_acc: 0.8281\n",
            "\n",
            "Epoch 00032: val_loss did not improve from 0.38704\n",
            "Epoch 33/50\n",
            " - 1s - loss: 0.5365 - acc: 0.7906 - val_loss: 0.5301 - val_acc: 0.7422\n",
            "\n",
            "Epoch 00033: val_loss did not improve from 0.38704\n",
            "Epoch 34/50\n",
            " - 1s - loss: 0.3827 - acc: 0.8688 - val_loss: 0.3527 - val_acc: 0.9062\n",
            "\n",
            "Epoch 00034: val_loss improved from 0.38704 to 0.35271, saving model to weights_architecture_9.hdf5\n",
            "Epoch 35/50\n",
            " - 1s - loss: 0.4993 - acc: 0.8125 - val_loss: 0.4118 - val_acc: 0.8594\n",
            "\n",
            "Epoch 00035: val_loss did not improve from 0.35271\n",
            "Epoch 36/50\n",
            " - 1s - loss: 0.3783 - acc: 0.8656 - val_loss: 0.4858 - val_acc: 0.7812\n",
            "\n",
            "Epoch 00036: val_loss did not improve from 0.35271\n",
            "Epoch 37/50\n",
            " - 1s - loss: 0.3779 - acc: 0.8688 - val_loss: 0.4527 - val_acc: 0.7812\n",
            "\n",
            "Epoch 00037: val_loss did not improve from 0.35271\n",
            "Epoch 38/50\n",
            " - 1s - loss: 0.4079 - acc: 0.8281 - val_loss: 0.7953 - val_acc: 0.6562\n",
            "\n",
            "Epoch 00038: val_loss did not improve from 0.35271\n",
            "Epoch 39/50\n",
            " - 1s - loss: 0.4252 - acc: 0.8500 - val_loss: 0.3616 - val_acc: 0.8750\n",
            "\n",
            "Epoch 00039: val_loss did not improve from 0.35271\n",
            "Epoch 40/50\n",
            " - 1s - loss: 0.3582 - acc: 0.9000 - val_loss: 0.3968 - val_acc: 0.8906\n",
            "\n",
            "Epoch 00040: val_loss did not improve from 0.35271\n",
            "Epoch 41/50\n",
            " - 1s - loss: 0.3650 - acc: 0.8750 - val_loss: 0.3631 - val_acc: 0.8516\n",
            "\n",
            "Epoch 00041: val_loss did not improve from 0.35271\n",
            "Epoch 42/50\n",
            " - 1s - loss: 0.3252 - acc: 0.8906 - val_loss: 0.3493 - val_acc: 0.8984\n",
            "\n",
            "Epoch 00042: val_loss improved from 0.35271 to 0.34935, saving model to weights_architecture_9.hdf5\n",
            "Epoch 43/50\n",
            " - 1s - loss: 0.3823 - acc: 0.8844 - val_loss: 0.3408 - val_acc: 0.9297\n",
            "\n",
            "Epoch 00043: val_loss improved from 0.34935 to 0.34084, saving model to weights_architecture_9.hdf5\n",
            "Epoch 44/50\n",
            " - 1s - loss: 0.4236 - acc: 0.8406 - val_loss: 0.3645 - val_acc: 0.8828\n",
            "\n",
            "Epoch 00044: val_loss did not improve from 0.34084\n",
            "Epoch 45/50\n",
            " - 1s - loss: 0.3773 - acc: 0.8531 - val_loss: 0.5776 - val_acc: 0.7188\n",
            "\n",
            "Epoch 00045: val_loss did not improve from 0.34084\n",
            "Epoch 46/50\n",
            " - 1s - loss: 0.3619 - acc: 0.8906 - val_loss: 0.4233 - val_acc: 0.8203\n",
            "\n",
            "Epoch 00046: val_loss did not improve from 0.34084\n",
            "Epoch 47/50\n",
            " - 1s - loss: 0.3995 - acc: 0.8750 - val_loss: 0.3705 - val_acc: 0.8672\n",
            "\n",
            "Epoch 00047: val_loss did not improve from 0.34084\n",
            "Epoch 48/50\n",
            " - 1s - loss: 0.3772 - acc: 0.8688 - val_loss: 0.4201 - val_acc: 0.8125\n",
            "\n",
            "Epoch 00048: val_loss did not improve from 0.34084\n",
            "Epoch 49/50\n",
            " - 1s - loss: 0.3886 - acc: 0.8156 - val_loss: 0.5924 - val_acc: 0.7656\n",
            "\n",
            "Epoch 00049: val_loss did not improve from 0.34084\n",
            "Epoch 50/50\n",
            " - 1s - loss: 0.2614 - acc: 0.9188 - val_loss: 0.2802 - val_acc: 0.9297\n",
            "\n",
            "Epoch 00050: val_loss improved from 0.34084 to 0.28024, saving model to weights_architecture_9.hdf5\n"
          ],
          "name": "stdout"
        }
      ]
    },
    {
      "metadata": {
        "colab_type": "code",
        "id": "LDX_OBkO6XPB",
        "colab": {
          "base_uri": "https://localhost:8080/",
          "height": 380
        },
        "outputId": "fb9e26e8-6ac2-43e5-cf57-104a733798a3"
      },
      "cell_type": "code",
      "source": [
        "# plotar loss e accuracy para os datasets 'train' e 'test'\n",
        "plt.style.use(\"ggplot\")\n",
        "plt.figure()\n",
        "plt.plot(training.history['acc'], label='Accuracy')\n",
        "plt.plot(training.history['loss'], label='Loss')\n",
        "plt.xlabel('Epochs')\n",
        "plt.ylabel('Accuracy')\n",
        "plt.title(\"Training Loss and Accuracy\")\n",
        "plt.ylabel(\"Loss/Accuracy\")\n",
        "plt.legend()\n",
        "plt.savefig('architecture_9.png', bbox_inches='tight')"
      ],
      "execution_count": 21,
      "outputs": [
        {
          "output_type": "display_data",
          "data": {
            "image/png": "[encoded data removed]",
            "text/plain": [
              "<matplotlib.figure.Figure at 0x7f0f72d3f780>"
            ]
          },
          "metadata": {
            "tags": []
          }
        }
      ]
    },
    {
      "metadata": {
        "colab_type": "code",
        "id": "2iYS0M_E6XPL",
        "colab": {}
      },
      "cell_type": "code",
      "source": [
        "model.load_weights('weights_architecture_9.hdf5')"
      ],
      "execution_count": 0,
      "outputs": []
    },
    {
      "metadata": {
        "colab_type": "code",
        "id": "Ui0MQtER6XPR",
        "colab": {
          "base_uri": "https://localhost:8080/",
          "height": 35
        },
        "outputId": "1cb42da9-c285-425a-b0d4-fdb07af7443d"
      },
      "cell_type": "code",
      "source": [
        "results['architecture_9'] = model.evaluate_generator(test_batches, steps=bSize, use_multiprocessing=True, verbose=1)"
      ],
      "execution_count": 23,
      "outputs": [
        {
          "output_type": "stream",
          "text": [
            "32/32 [==============================] - 3s 107ms/step\n"
          ],
          "name": "stdout"
        }
      ]
    },
    {
      "metadata": {
        "colab_type": "code",
        "id": "XNL89Dbk6XPU",
        "colab": {
          "base_uri": "https://localhost:8080/",
          "height": 35
        },
        "outputId": "4f60c15a-7b26-4669-b233-0c07875d54f2"
      },
      "cell_type": "code",
      "source": [
        "print('Test Loss: {} | Test Accuracy: {:.2f}%'.format(results['architecture_9'][0], 100 * results['architecture_9'][1]))"
      ],
      "execution_count": 24,
      "outputs": [
        {
          "output_type": "stream",
          "text": [
            "Test Loss: 0.3659849464893341 | Test Accuracy: 90.62%\n"
          ],
          "name": "stdout"
        }
      ]
    },
    {
      "metadata": {
        "id": "I_6RPRqZ0ooK",
        "colab_type": "text"
      },
      "cell_type": "markdown",
      "source": [
        "### 10 tentativa Accuracy: 92.68%"
      ]
    },
    {
      "metadata": {
        "colab_type": "text",
        "id": "drBpwd1s7PE3"
      },
      "cell_type": "markdown",
      "source": [
        "Modelo adaptado do **Lucas Albertins**\n",
        "\n",
        "*   Função **adam** para compilação\n",
        "*   Adicionado mais 2 camadas convolutivas"
      ]
    },
    {
      "metadata": {
        "colab_type": "code",
        "id": "6LGTLObK0u-Y",
        "colab": {}
      },
      "cell_type": "code",
      "source": [
        "from keras.layers import Conv2D, MaxPooling2D, GlobalMaxPooling2D, BatchNormalization\n",
        "from keras.regularizers import l2\n",
        "\n",
        "model = Sequential()\n",
        "\n",
        "model.add(Conv2D(32, (3, 3), activation='relu', kernel_regularizer=l2(1e-4), \n",
        "                 input_shape=(None, None, 3)))\n",
        "model.add(BatchNormalization())\n",
        "model.add(Conv2D(32, (3, 3), activation='relu', kernel_regularizer=l2(1e-4)))\n",
        "model.add(BatchNormalization())\n",
        "model.add(MaxPooling2D((2, 2)))\n",
        "model.add(Dropout(0.25))\n",
        "\n",
        "model.add(Conv2D(64, (3, 3), activation='relu', kernel_regularizer=l2(1e-4)))\n",
        "model.add(BatchNormalization())\n",
        "model.add(Conv2D(64, (3, 3), activation='relu', kernel_regularizer=l2(1e-4)))\n",
        "model.add(BatchNormalization())\n",
        "model.add(MaxPooling2D((2, 2)))\n",
        "model.add(Dropout(0.25))\n",
        "\n",
        "model.add(Conv2D(96, (3, 3),activation='relu', kernel_regularizer=l2(1e-4)))\n",
        "model.add(BatchNormalization())\n",
        "model.add(Conv2D(96, (3, 3),activation='relu', kernel_regularizer=l2(1e-4)))\n",
        "model.add(BatchNormalization())\n",
        "model.add(MaxPooling2D((2, 2)))\n",
        "model.add(Dropout(0.25))\n",
        "\n",
        "model.add(Conv2D(128, (1,1), kernel_regularizer=l2(1e-4)))\n",
        "model.add(GlobalMaxPooling2D())\n",
        "\n",
        "model.add(Dense(256, activation='relu', kernel_regularizer=l2(1e-4)))\n",
        "model.add(Dropout(0.5))\n",
        "model.add(Dense(2, activation='sigmoid', kernel_regularizer=l2(1e-4)))"
      ],
      "execution_count": 0,
      "outputs": []
    },
    {
      "metadata": {
        "colab_type": "code",
        "id": "vB92aUkR0u-p",
        "colab": {}
      },
      "cell_type": "code",
      "source": [
        "model.compile(optimizer='adam', loss='binary_crossentropy', metrics=['accuracy'])"
      ],
      "execution_count": 0,
      "outputs": []
    },
    {
      "metadata": {
        "colab_type": "code",
        "id": "AWaPDrSE7bLf",
        "colab": {}
      },
      "cell_type": "code",
      "source": [
        "checkpointer = ModelCheckpoint(filepath='weights_architecture_10.hdf5', verbose=1, save_best_only=True)"
      ],
      "execution_count": 0,
      "outputs": []
    },
    {
      "metadata": {
        "colab_type": "code",
        "id": "mUqvoI5Y7bLp",
        "colab": {
          "base_uri": "https://localhost:8080/",
          "height": 3690
        },
        "outputId": "7bd285c4-daab-4bcb-c343-28c5c67423ce"
      },
      "cell_type": "code",
      "source": [
        "training = model.fit_generator(train_batches, steps_per_epoch=stepsPerEpoche, \n",
        "                   validation_data=validation_batches, validation_steps=validationSteps,\n",
        "                   epochs=50, verbose=2, callbacks=[checkpointer])"
      ],
      "execution_count": 11,
      "outputs": [
        {
          "output_type": "stream",
          "text": [
            "Epoch 1/50\n",
            " - 5s - loss: 1.6741 - acc: 0.5438 - val_loss: 0.9193 - val_acc: 0.4609\n",
            "\n",
            "Epoch 00001: val_loss improved from inf to 0.91925, saving model to weights_architecture_10.hdf5\n",
            "Epoch 2/50\n",
            " - 1s - loss: 1.1832 - acc: 0.6000 - val_loss: 0.5616 - val_acc: 0.7500\n",
            "\n",
            "Epoch 00002: val_loss improved from 0.91925 to 0.56160, saving model to weights_architecture_10.hdf5\n",
            "Epoch 3/50\n",
            " - 1s - loss: 1.0042 - acc: 0.5875 - val_loss: 0.6312 - val_acc: 0.7500\n",
            "\n",
            "Epoch 00003: val_loss did not improve from 0.56160\n",
            "Epoch 4/50\n",
            " - 1s - loss: 0.7928 - acc: 0.6813 - val_loss: 0.5479 - val_acc: 0.7578\n",
            "\n",
            "Epoch 00004: val_loss improved from 0.56160 to 0.54791, saving model to weights_architecture_10.hdf5\n",
            "Epoch 5/50\n",
            " - 1s - loss: 0.6245 - acc: 0.7406 - val_loss: 0.5187 - val_acc: 0.8516\n",
            "\n",
            "Epoch 00005: val_loss improved from 0.54791 to 0.51868, saving model to weights_architecture_10.hdf5\n",
            "Epoch 6/50\n",
            " - 1s - loss: 0.5491 - acc: 0.7906 - val_loss: 0.4260 - val_acc: 0.8906\n",
            "\n",
            "Epoch 00006: val_loss improved from 0.51868 to 0.42602, saving model to weights_architecture_10.hdf5\n",
            "Epoch 7/50\n",
            " - 1s - loss: 0.5538 - acc: 0.8000 - val_loss: 0.4659 - val_acc: 0.8438\n",
            "\n",
            "Epoch 00007: val_loss did not improve from 0.42602\n",
            "Epoch 8/50\n",
            " - 1s - loss: 0.5524 - acc: 0.7812 - val_loss: 0.4665 - val_acc: 0.8438\n",
            "\n",
            "Epoch 00008: val_loss did not improve from 0.42602\n",
            "Epoch 9/50\n",
            " - 1s - loss: 0.6402 - acc: 0.7750 - val_loss: 0.4439 - val_acc: 0.8672\n",
            "\n",
            "Epoch 00009: val_loss did not improve from 0.42602\n",
            "Epoch 10/50\n",
            " - 1s - loss: 0.4980 - acc: 0.7844 - val_loss: 0.3614 - val_acc: 0.9297\n",
            "\n",
            "Epoch 00010: val_loss improved from 0.42602 to 0.36143, saving model to weights_architecture_10.hdf5\n",
            "Epoch 11/50\n",
            " - 1s - loss: 0.5673 - acc: 0.7875 - val_loss: 0.3841 - val_acc: 0.9141\n",
            "\n",
            "Epoch 00011: val_loss did not improve from 0.36143\n",
            "Epoch 12/50\n",
            " - 1s - loss: 0.4917 - acc: 0.8281 - val_loss: 0.5114 - val_acc: 0.8047\n",
            "\n",
            "Epoch 00012: val_loss did not improve from 0.36143\n",
            "Epoch 13/50\n",
            " - 1s - loss: 0.3852 - acc: 0.8625 - val_loss: 0.3619 - val_acc: 0.9141\n",
            "\n",
            "Epoch 00013: val_loss did not improve from 0.36143\n",
            "Epoch 14/50\n",
            " - 1s - loss: 0.4195 - acc: 0.8969 - val_loss: 0.4140 - val_acc: 0.8750\n",
            "\n",
            "Epoch 00014: val_loss did not improve from 0.36143\n",
            "Epoch 15/50\n",
            " - 1s - loss: 0.4013 - acc: 0.8875 - val_loss: 0.5793 - val_acc: 0.7344\n",
            "\n",
            "Epoch 00015: val_loss did not improve from 0.36143\n",
            "Epoch 16/50\n",
            " - 1s - loss: 0.3768 - acc: 0.9062 - val_loss: 0.4098 - val_acc: 0.8828\n",
            "\n",
            "Epoch 00016: val_loss did not improve from 0.36143\n",
            "Epoch 17/50\n",
            " - 1s - loss: 0.4381 - acc: 0.8625 - val_loss: 0.3029 - val_acc: 0.8958\n",
            "\n",
            "Epoch 00017: val_loss improved from 0.36143 to 0.30292, saving model to weights_architecture_10.hdf5\n",
            "Epoch 18/50\n",
            " - 1s - loss: 0.4103 - acc: 0.8406 - val_loss: 0.6324 - val_acc: 0.7344\n",
            "\n",
            "Epoch 00018: val_loss did not improve from 0.30292\n",
            "Epoch 19/50\n",
            " - 1s - loss: 0.3990 - acc: 0.8594 - val_loss: 0.3645 - val_acc: 0.8906\n",
            "\n",
            "Epoch 00019: val_loss did not improve from 0.30292\n",
            "Epoch 20/50\n",
            " - 1s - loss: 0.3648 - acc: 0.8906 - val_loss: 0.2693 - val_acc: 0.9062\n",
            "\n",
            "Epoch 00020: val_loss improved from 0.30292 to 0.26934, saving model to weights_architecture_10.hdf5\n",
            "Epoch 21/50\n",
            " - 1s - loss: 0.4285 - acc: 0.8750 - val_loss: 0.4402 - val_acc: 0.8438\n",
            "\n",
            "Epoch 00021: val_loss did not improve from 0.26934\n",
            "Epoch 22/50\n",
            " - 1s - loss: 0.4075 - acc: 0.8750 - val_loss: 0.4972 - val_acc: 0.7891\n",
            "\n",
            "Epoch 00022: val_loss did not improve from 0.26934\n",
            "Epoch 23/50\n",
            " - 1s - loss: 0.4241 - acc: 0.8906 - val_loss: 0.2955 - val_acc: 0.9375\n",
            "\n",
            "Epoch 00023: val_loss did not improve from 0.26934\n",
            "Epoch 24/50\n",
            " - 1s - loss: 0.3000 - acc: 0.9062 - val_loss: 0.3855 - val_acc: 0.8516\n",
            "\n",
            "Epoch 00024: val_loss did not improve from 0.26934\n",
            "Epoch 25/50\n",
            " - 1s - loss: 0.3943 - acc: 0.8406 - val_loss: 0.3633 - val_acc: 0.9062\n",
            "\n",
            "Epoch 00025: val_loss did not improve from 0.26934\n",
            "Epoch 26/50\n",
            " - 1s - loss: 0.3368 - acc: 0.8812 - val_loss: 0.2149 - val_acc: 0.9531\n",
            "\n",
            "Epoch 00026: val_loss improved from 0.26934 to 0.21491, saving model to weights_architecture_10.hdf5\n",
            "Epoch 27/50\n",
            " - 1s - loss: 0.3667 - acc: 0.8932 - val_loss: 0.3266 - val_acc: 0.8984\n",
            "\n",
            "Epoch 00027: val_loss did not improve from 0.21491\n",
            "Epoch 28/50\n",
            " - 1s - loss: 0.3539 - acc: 0.8812 - val_loss: 0.4179 - val_acc: 0.8594\n",
            "\n",
            "Epoch 00028: val_loss did not improve from 0.21491\n",
            "Epoch 29/50\n",
            " - 1s - loss: 0.4212 - acc: 0.8594 - val_loss: 0.2468 - val_acc: 0.9531\n",
            "\n",
            "Epoch 00029: val_loss did not improve from 0.21491\n",
            "Epoch 30/50\n",
            " - 1s - loss: 0.3559 - acc: 0.8844 - val_loss: 0.2757 - val_acc: 0.9375\n",
            "\n",
            "Epoch 00030: val_loss did not improve from 0.21491\n",
            "Epoch 31/50\n",
            " - 1s - loss: 0.2403 - acc: 0.9500 - val_loss: 0.6759 - val_acc: 0.7500\n",
            "\n",
            "Epoch 00031: val_loss did not improve from 0.21491\n",
            "Epoch 32/50\n",
            " - 1s - loss: 0.2995 - acc: 0.8937 - val_loss: 0.3737 - val_acc: 0.8672\n",
            "\n",
            "Epoch 00032: val_loss did not improve from 0.21491\n",
            "Epoch 33/50\n",
            " - 1s - loss: 0.4441 - acc: 0.8781 - val_loss: 0.2244 - val_acc: 0.9688\n",
            "\n",
            "Epoch 00033: val_loss did not improve from 0.21491\n",
            "Epoch 34/50\n",
            " - 1s - loss: 0.4338 - acc: 0.8781 - val_loss: 0.2616 - val_acc: 0.9375\n",
            "\n",
            "Epoch 00034: val_loss did not improve from 0.21491\n",
            "Epoch 35/50\n",
            " - 1s - loss: 0.3766 - acc: 0.9062 - val_loss: 0.2979 - val_acc: 0.9219\n",
            "\n",
            "Epoch 00035: val_loss did not improve from 0.21491\n",
            "Epoch 36/50\n",
            " - 1s - loss: 0.3293 - acc: 0.9156 - val_loss: 0.2899 - val_acc: 0.9297\n",
            "\n",
            "Epoch 00036: val_loss did not improve from 0.21491\n",
            "Epoch 37/50\n",
            " - 1s - loss: 0.2597 - acc: 0.9375 - val_loss: 0.4049 - val_acc: 0.8906\n",
            "\n",
            "Epoch 00037: val_loss did not improve from 0.21491\n",
            "Epoch 38/50\n",
            " - 1s - loss: 0.3669 - acc: 0.8969 - val_loss: 0.2893 - val_acc: 0.9062\n",
            "\n",
            "Epoch 00038: val_loss did not improve from 0.21491\n",
            "Epoch 39/50\n",
            " - 1s - loss: 0.2152 - acc: 0.9500 - val_loss: 0.3338 - val_acc: 0.8906\n",
            "\n",
            "Epoch 00039: val_loss did not improve from 0.21491\n",
            "Epoch 40/50\n",
            " - 1s - loss: 0.3649 - acc: 0.8875 - val_loss: 0.3620 - val_acc: 0.9219\n",
            "\n",
            "Epoch 00040: val_loss did not improve from 0.21491\n",
            "Epoch 41/50\n",
            " - 1s - loss: 0.3204 - acc: 0.8844 - val_loss: 0.2671 - val_acc: 0.9375\n",
            "\n",
            "Epoch 00041: val_loss did not improve from 0.21491\n",
            "Epoch 42/50\n",
            " - 1s - loss: 0.3464 - acc: 0.9062 - val_loss: 0.4088 - val_acc: 0.8906\n",
            "\n",
            "Epoch 00042: val_loss did not improve from 0.21491\n",
            "Epoch 43/50\n",
            " - 1s - loss: 0.2738 - acc: 0.9313 - val_loss: 0.3959 - val_acc: 0.8281\n",
            "\n",
            "Epoch 00043: val_loss did not improve from 0.21491\n",
            "Epoch 44/50\n",
            " - 1s - loss: 0.3862 - acc: 0.8875 - val_loss: 0.6043 - val_acc: 0.6875\n",
            "\n",
            "Epoch 00044: val_loss did not improve from 0.21491\n",
            "Epoch 45/50\n",
            " - 1s - loss: 0.3285 - acc: 0.9094 - val_loss: 0.3471 - val_acc: 0.8984\n",
            "\n",
            "Epoch 00045: val_loss did not improve from 0.21491\n",
            "Epoch 46/50\n",
            " - 1s - loss: 0.3317 - acc: 0.9281 - val_loss: 0.2562 - val_acc: 0.9531\n",
            "\n",
            "Epoch 00046: val_loss did not improve from 0.21491\n",
            "Epoch 47/50\n",
            " - 1s - loss: 0.3577 - acc: 0.8844 - val_loss: 0.3196 - val_acc: 0.9219\n",
            "\n",
            "Epoch 00047: val_loss did not improve from 0.21491\n",
            "Epoch 48/50\n",
            " - 1s - loss: 0.2976 - acc: 0.9250 - val_loss: 0.2482 - val_acc: 0.9141\n",
            "\n",
            "Epoch 00048: val_loss did not improve from 0.21491\n",
            "Epoch 49/50\n",
            " - 1s - loss: 0.3693 - acc: 0.8937 - val_loss: 0.2526 - val_acc: 0.9453\n",
            "\n",
            "Epoch 00049: val_loss did not improve from 0.21491\n",
            "Epoch 50/50\n",
            " - 1s - loss: 0.3053 - acc: 0.9188 - val_loss: 0.2466 - val_acc: 0.9453\n",
            "\n",
            "Epoch 00050: val_loss did not improve from 0.21491\n"
          ],
          "name": "stdout"
        }
      ]
    },
    {
      "metadata": {
        "colab_type": "code",
        "id": "c3-AMkkg7bLw",
        "colab": {
          "base_uri": "https://localhost:8080/",
          "height": 380
        },
        "outputId": "ac61db1b-5acb-4786-800f-8e19676b9fbb"
      },
      "cell_type": "code",
      "source": [
        "# plotar loss e accuracy para os datasets 'train' e 'test'\n",
        "plt.style.use(\"ggplot\")\n",
        "plt.figure()\n",
        "plt.plot(training.history['acc'], label='Accuracy')\n",
        "plt.plot(training.history['loss'], label='Loss')\n",
        "plt.xlabel('Epochs')\n",
        "plt.ylabel('Accuracy')\n",
        "plt.title(\"Training Loss and Accuracy\")\n",
        "plt.ylabel(\"Loss/Accuracy\")\n",
        "plt.legend()\n",
        "plt.savefig('architecture_10.png', bbox_inches='tight')"
      ],
      "execution_count": 12,
      "outputs": [
        {
          "output_type": "display_data",
          "data": {
            "image/png": "[encoded data removed]",
            "text/plain": [
              "<matplotlib.figure.Figure at 0x7fb78b32c5f8>"
            ]
          },
          "metadata": {
            "tags": []
          }
        }
      ]
    },
    {
      "metadata": {
        "colab_type": "code",
        "id": "qpPONEiQ7bMB",
        "colab": {}
      },
      "cell_type": "code",
      "source": [
        "model.load_weights('weights_architecture_10.hdf5')"
      ],
      "execution_count": 0,
      "outputs": []
    },
    {
      "metadata": {
        "colab_type": "code",
        "id": "2QghQZHo7bMG",
        "colab": {
          "base_uri": "https://localhost:8080/",
          "height": 35
        },
        "outputId": "9783585e-af08-4bec-af9f-ff1221d1926d"
      },
      "cell_type": "code",
      "source": [
        "results['architecture_10'] = model.evaluate_generator(test_batches, steps=bSize, use_multiprocessing=True, verbose=1)"
      ],
      "execution_count": 15,
      "outputs": [
        {
          "output_type": "stream",
          "text": [
            "32/32 [==============================] - 3s 94ms/step\n"
          ],
          "name": "stdout"
        }
      ]
    },
    {
      "metadata": {
        "colab_type": "code",
        "id": "QaQ-aTxU7bMJ",
        "colab": {
          "base_uri": "https://localhost:8080/",
          "height": 35
        },
        "outputId": "c8795e43-18a9-4ac6-8137-b4e90b5c8d83"
      },
      "cell_type": "code",
      "source": [
        "print('Test Loss: {} | Test Accuracy: {:.2f}%'.format(results['architecture_10'][0], 100 * results['architecture_10'][1]))"
      ],
      "execution_count": 16,
      "outputs": [
        {
          "output_type": "stream",
          "text": [
            "Test Loss: 0.3035737951286137 | Test Accuracy: 92.68%\n"
          ],
          "name": "stdout"
        }
      ]
    },
    {
      "metadata": {
        "id": "t-JuICq46CWp",
        "colab_type": "text"
      },
      "cell_type": "markdown",
      "source": [
        "### 11 tentativa Accuracy: 90.43%"
      ]
    },
    {
      "metadata": {
        "colab_type": "text",
        "id": "MdaiMXVY8RWc"
      },
      "cell_type": "markdown",
      "source": [
        "Modelo adaptado do **Lucas Albertins**\n",
        "\n",
        "*   Função **SGD** para compilação\n",
        "*   Adicionado mais 2 camadas convolutivas"
      ]
    },
    {
      "metadata": {
        "colab_type": "code",
        "id": "vLy1nlhs6HHL",
        "colab": {}
      },
      "cell_type": "code",
      "source": [
        "from keras.layers import Conv2D, MaxPooling2D, GlobalMaxPooling2D, BatchNormalization\n",
        "from keras.regularizers import l2\n",
        "\n",
        "model = Sequential()\n",
        "\n",
        "model.add(Conv2D(32, (3, 3), activation='relu', kernel_regularizer=l2(1e-4), \n",
        "                 input_shape=(None, None, 3)))\n",
        "model.add(BatchNormalization())\n",
        "model.add(Conv2D(32, (3, 3), activation='relu', kernel_regularizer=l2(1e-4)))\n",
        "model.add(BatchNormalization())\n",
        "model.add(MaxPooling2D((2, 2)))\n",
        "model.add(Dropout(0.25))\n",
        "\n",
        "model.add(Conv2D(64, (3, 3), activation='relu', kernel_regularizer=l2(1e-4)))\n",
        "model.add(BatchNormalization())\n",
        "model.add(Conv2D(64, (3, 3), activation='relu', kernel_regularizer=l2(1e-4)))\n",
        "model.add(BatchNormalization())\n",
        "model.add(MaxPooling2D((2, 2)))\n",
        "model.add(Dropout(0.25))\n",
        "\n",
        "model.add(Conv2D(96, (3, 3),activation='relu', kernel_regularizer=l2(1e-4)))\n",
        "model.add(BatchNormalization())\n",
        "model.add(Conv2D(96, (3, 3),activation='relu', kernel_regularizer=l2(1e-4)))\n",
        "model.add(BatchNormalization())\n",
        "model.add(MaxPooling2D((2, 2)))\n",
        "model.add(Dropout(0.25))\n",
        "\n",
        "model.add(Conv2D(128, (1,1), kernel_regularizer=l2(1e-4)))\n",
        "model.add(GlobalMaxPooling2D())\n",
        "\n",
        "model.add(Dense(256, activation='relu', kernel_regularizer=l2(1e-4)))\n",
        "model.add(Dropout(0.5))\n",
        "model.add(Dense(2, activation='sigmoid', kernel_regularizer=l2(1e-4)))"
      ],
      "execution_count": 0,
      "outputs": []
    },
    {
      "metadata": {
        "colab_type": "code",
        "id": "QKpy_s8Z6HHZ",
        "colab": {}
      },
      "cell_type": "code",
      "source": [
        "model.compile(SGD(lr=0.01, momentum=0.0, decay=0.0, nesterov=False), \n",
        "              loss='binary_crossentropy', metrics=['accuracy'])"
      ],
      "execution_count": 0,
      "outputs": []
    },
    {
      "metadata": {
        "colab_type": "code",
        "id": "kv_TvFJq7t1U",
        "colab": {}
      },
      "cell_type": "code",
      "source": [
        "checkpointer = ModelCheckpoint(filepath='weights_architecture_11.hdf5', verbose=1, save_best_only=True)"
      ],
      "execution_count": 0,
      "outputs": []
    },
    {
      "metadata": {
        "colab_type": "code",
        "id": "KGy9-eyM7t1c",
        "colab": {
          "base_uri": "https://localhost:8080/",
          "height": 3690
        },
        "outputId": "09e9d924-f4bd-47b2-e12a-97a043e16197"
      },
      "cell_type": "code",
      "source": [
        "training = model.fit_generator(train_batches, steps_per_epoch=stepsPerEpoche, \n",
        "                   validation_data=validation_batches, validation_steps=validationSteps,\n",
        "                   epochs=50, verbose=2, callbacks=[checkpointer])"
      ],
      "execution_count": 20,
      "outputs": [
        {
          "output_type": "stream",
          "text": [
            "Epoch 1/50\n",
            " - 2s - loss: 1.8787 - acc: 0.5156 - val_loss: 0.7070 - val_acc: 0.6328\n",
            "\n",
            "Epoch 00001: val_loss improved from inf to 0.70696, saving model to weights_architecture_11.hdf5\n",
            "Epoch 2/50\n",
            " - 1s - loss: 1.3892 - acc: 0.5125 - val_loss: 0.6503 - val_acc: 0.6875\n",
            "\n",
            "Epoch 00002: val_loss improved from 0.70696 to 0.65028, saving model to weights_architecture_11.hdf5\n",
            "Epoch 3/50\n",
            " - 0s - loss: 1.7570 - acc: 0.4871 - val_loss: 0.7622 - val_acc: 0.5625\n",
            "\n",
            "Epoch 00003: val_loss did not improve from 0.65028\n",
            "Epoch 4/50\n",
            " - 1s - loss: 0.9401 - acc: 0.5875 - val_loss: 0.7889 - val_acc: 0.4609\n",
            "\n",
            "Epoch 00004: val_loss did not improve from 0.65028\n",
            "Epoch 5/50\n",
            " - 1s - loss: 0.8441 - acc: 0.6437 - val_loss: 0.7139 - val_acc: 0.6016\n",
            "\n",
            "Epoch 00005: val_loss did not improve from 0.65028\n",
            "Epoch 6/50\n",
            " - 1s - loss: 0.8354 - acc: 0.5687 - val_loss: 0.7120 - val_acc: 0.5938\n",
            "\n",
            "Epoch 00006: val_loss did not improve from 0.65028\n",
            "Epoch 7/50\n",
            " - 1s - loss: 0.8375 - acc: 0.5938 - val_loss: 0.6494 - val_acc: 0.6797\n",
            "\n",
            "Epoch 00007: val_loss improved from 0.65028 to 0.64939, saving model to weights_architecture_11.hdf5\n",
            "Epoch 8/50\n",
            " - 1s - loss: 0.8699 - acc: 0.5406 - val_loss: 0.6579 - val_acc: 0.7188\n",
            "\n",
            "Epoch 00008: val_loss did not improve from 0.64939\n",
            "Epoch 9/50\n",
            " - 1s - loss: 0.7702 - acc: 0.5844 - val_loss: 0.6630 - val_acc: 0.7266\n",
            "\n",
            "Epoch 00009: val_loss did not improve from 0.64939\n",
            "Epoch 10/50\n",
            " - 1s - loss: 0.6747 - acc: 0.6844 - val_loss: 0.6227 - val_acc: 0.7656\n",
            "\n",
            "Epoch 00010: val_loss improved from 0.64939 to 0.62267, saving model to weights_architecture_11.hdf5\n",
            "Epoch 11/50\n",
            " - 1s - loss: 0.6549 - acc: 0.6875 - val_loss: 0.6119 - val_acc: 0.8438\n",
            "\n",
            "Epoch 00011: val_loss improved from 0.62267 to 0.61191, saving model to weights_architecture_11.hdf5\n",
            "Epoch 12/50\n",
            " - 1s - loss: 0.6598 - acc: 0.6750 - val_loss: 0.5566 - val_acc: 0.8281\n",
            "\n",
            "Epoch 00012: val_loss improved from 0.61191 to 0.55661, saving model to weights_architecture_11.hdf5\n",
            "Epoch 13/50\n",
            " - 1s - loss: 0.6611 - acc: 0.6969 - val_loss: 0.6380 - val_acc: 0.7604\n",
            "\n",
            "Epoch 00013: val_loss did not improve from 0.55661\n",
            "Epoch 14/50\n",
            " - 1s - loss: 0.5494 - acc: 0.8094 - val_loss: 0.5815 - val_acc: 0.8359\n",
            "\n",
            "Epoch 00014: val_loss did not improve from 0.55661\n",
            "Epoch 15/50\n",
            " - 1s - loss: 0.5495 - acc: 0.7938 - val_loss: 0.4584 - val_acc: 0.9297\n",
            "\n",
            "Epoch 00015: val_loss improved from 0.55661 to 0.45838, saving model to weights_architecture_11.hdf5\n",
            "Epoch 16/50\n",
            " - 1s - loss: 0.4582 - acc: 0.8156 - val_loss: 0.5557 - val_acc: 0.8125\n",
            "\n",
            "Epoch 00016: val_loss did not improve from 0.45838\n",
            "Epoch 17/50\n",
            " - 1s - loss: 0.5326 - acc: 0.7969 - val_loss: 0.5082 - val_acc: 0.9219\n",
            "\n",
            "Epoch 00017: val_loss did not improve from 0.45838\n",
            "Epoch 18/50\n",
            " - 1s - loss: 0.5361 - acc: 0.7844 - val_loss: 0.4851 - val_acc: 0.9375\n",
            "\n",
            "Epoch 00018: val_loss did not improve from 0.45838\n",
            "Epoch 19/50\n",
            " - 1s - loss: 0.6072 - acc: 0.7500 - val_loss: 0.5697 - val_acc: 0.6797\n",
            "\n",
            "Epoch 00019: val_loss did not improve from 0.45838\n",
            "Epoch 20/50\n",
            " - 1s - loss: 0.4670 - acc: 0.8156 - val_loss: 0.4543 - val_acc: 0.8438\n",
            "\n",
            "Epoch 00020: val_loss improved from 0.45838 to 0.45430, saving model to weights_architecture_11.hdf5\n",
            "Epoch 21/50\n",
            " - 1s - loss: 0.4850 - acc: 0.8094 - val_loss: 0.4682 - val_acc: 0.8594\n",
            "\n",
            "Epoch 00021: val_loss did not improve from 0.45430\n",
            "Epoch 22/50\n",
            " - 1s - loss: 0.5533 - acc: 0.8063 - val_loss: 0.6694 - val_acc: 0.6172\n",
            "\n",
            "Epoch 00022: val_loss did not improve from 0.45430\n",
            "Epoch 23/50\n",
            " - 1s - loss: 0.5071 - acc: 0.8125 - val_loss: 0.3934 - val_acc: 0.8984\n",
            "\n",
            "Epoch 00023: val_loss improved from 0.45430 to 0.39336, saving model to weights_architecture_11.hdf5\n",
            "Epoch 24/50\n",
            " - 1s - loss: 0.4956 - acc: 0.7906 - val_loss: 0.4101 - val_acc: 0.8984\n",
            "\n",
            "Epoch 00024: val_loss did not improve from 0.39336\n",
            "Epoch 25/50\n",
            " - 1s - loss: 0.4694 - acc: 0.8156 - val_loss: 0.4350 - val_acc: 0.8438\n",
            "\n",
            "Epoch 00025: val_loss did not improve from 0.39336\n",
            "Epoch 26/50\n",
            " - 1s - loss: 0.4919 - acc: 0.8250 - val_loss: 0.4799 - val_acc: 0.8281\n",
            "\n",
            "Epoch 00026: val_loss did not improve from 0.39336\n",
            "Epoch 27/50\n",
            " - 1s - loss: 0.4403 - acc: 0.8438 - val_loss: 0.4465 - val_acc: 0.8516\n",
            "\n",
            "Epoch 00027: val_loss did not improve from 0.39336\n",
            "Epoch 28/50\n",
            " - 1s - loss: 0.5051 - acc: 0.7969 - val_loss: 0.4583 - val_acc: 0.8672\n",
            "\n",
            "Epoch 00028: val_loss did not improve from 0.39336\n",
            "Epoch 29/50\n",
            " - 1s - loss: 0.3180 - acc: 0.8875 - val_loss: 0.5252 - val_acc: 0.8047\n",
            "\n",
            "Epoch 00029: val_loss did not improve from 0.39336\n",
            "Epoch 30/50\n",
            " - 1s - loss: 0.6408 - acc: 0.7479 - val_loss: 0.4137 - val_acc: 0.9167\n",
            "\n",
            "Epoch 00030: val_loss did not improve from 0.39336\n",
            "Epoch 31/50\n",
            " - 1s - loss: 0.4055 - acc: 0.8469 - val_loss: 0.4598 - val_acc: 0.8359\n",
            "\n",
            "Epoch 00031: val_loss did not improve from 0.39336\n",
            "Epoch 32/50\n",
            " - 1s - loss: 0.4723 - acc: 0.8187 - val_loss: 0.4091 - val_acc: 0.8984\n",
            "\n",
            "Epoch 00032: val_loss did not improve from 0.39336\n",
            "Epoch 33/50\n",
            " - 1s - loss: 0.4231 - acc: 0.8469 - val_loss: 0.3634 - val_acc: 0.9219\n",
            "\n",
            "Epoch 00033: val_loss improved from 0.39336 to 0.36336, saving model to weights_architecture_11.hdf5\n",
            "Epoch 34/50\n",
            " - 1s - loss: 0.4633 - acc: 0.8438 - val_loss: 0.3987 - val_acc: 0.9375\n",
            "\n",
            "Epoch 00034: val_loss did not improve from 0.36336\n",
            "Epoch 35/50\n",
            " - 1s - loss: 0.4721 - acc: 0.8438 - val_loss: 0.4656 - val_acc: 0.8438\n",
            "\n",
            "Epoch 00035: val_loss did not improve from 0.36336\n",
            "Epoch 36/50\n",
            " - 1s - loss: 0.3992 - acc: 0.8781 - val_loss: 0.4415 - val_acc: 0.8359\n",
            "\n",
            "Epoch 00036: val_loss did not improve from 0.36336\n",
            "Epoch 37/50\n",
            " - 1s - loss: 0.3861 - acc: 0.8937 - val_loss: 0.4782 - val_acc: 0.8125\n",
            "\n",
            "Epoch 00037: val_loss did not improve from 0.36336\n",
            "Epoch 38/50\n",
            " - 1s - loss: 0.4005 - acc: 0.8781 - val_loss: 0.5311 - val_acc: 0.7891\n",
            "\n",
            "Epoch 00038: val_loss did not improve from 0.36336\n",
            "Epoch 39/50\n",
            " - 1s - loss: 0.3618 - acc: 0.8906 - val_loss: 0.4708 - val_acc: 0.8359\n",
            "\n",
            "Epoch 00039: val_loss did not improve from 0.36336\n",
            "Epoch 40/50\n",
            " - 1s - loss: 0.3666 - acc: 0.8719 - val_loss: 0.4774 - val_acc: 0.8359\n",
            "\n",
            "Epoch 00040: val_loss did not improve from 0.36336\n",
            "Epoch 41/50\n",
            " - 1s - loss: 0.3144 - acc: 0.9156 - val_loss: 0.3986 - val_acc: 0.8750\n",
            "\n",
            "Epoch 00041: val_loss did not improve from 0.36336\n",
            "Epoch 42/50\n",
            " - 1s - loss: 0.3697 - acc: 0.8937 - val_loss: 0.3752 - val_acc: 0.8906\n",
            "\n",
            "Epoch 00042: val_loss did not improve from 0.36336\n",
            "Epoch 43/50\n",
            " - 1s - loss: 0.4588 - acc: 0.8625 - val_loss: 0.4165 - val_acc: 0.8281\n",
            "\n",
            "Epoch 00043: val_loss did not improve from 0.36336\n",
            "Epoch 44/50\n",
            " - 1s - loss: 0.3923 - acc: 0.9062 - val_loss: 0.4134 - val_acc: 0.8359\n",
            "\n",
            "Epoch 00044: val_loss did not improve from 0.36336\n",
            "Epoch 45/50\n",
            " - 1s - loss: 0.3368 - acc: 0.9250 - val_loss: 0.3279 - val_acc: 0.9141\n",
            "\n",
            "Epoch 00045: val_loss improved from 0.36336 to 0.32788, saving model to weights_architecture_11.hdf5\n",
            "Epoch 46/50\n",
            " - 1s - loss: 0.4337 - acc: 0.8563 - val_loss: 0.3687 - val_acc: 0.8828\n",
            "\n",
            "Epoch 00046: val_loss did not improve from 0.32788\n",
            "Epoch 47/50\n",
            " - 1s - loss: 0.3868 - acc: 0.8812 - val_loss: 0.3266 - val_acc: 0.9167\n",
            "\n",
            "Epoch 00047: val_loss improved from 0.32788 to 0.32657, saving model to weights_architecture_11.hdf5\n",
            "Epoch 48/50\n",
            " - 1s - loss: 0.3463 - acc: 0.8875 - val_loss: 0.4617 - val_acc: 0.8750\n",
            "\n",
            "Epoch 00048: val_loss did not improve from 0.32657\n",
            "Epoch 49/50\n",
            " - 1s - loss: 0.3130 - acc: 0.9281 - val_loss: 0.2885 - val_acc: 0.9219\n",
            "\n",
            "Epoch 00049: val_loss improved from 0.32657 to 0.28853, saving model to weights_architecture_11.hdf5\n",
            "Epoch 50/50\n",
            " - 1s - loss: 0.3387 - acc: 0.8844 - val_loss: 0.2614 - val_acc: 0.9688\n",
            "\n",
            "Epoch 00050: val_loss improved from 0.28853 to 0.26135, saving model to weights_architecture_11.hdf5\n"
          ],
          "name": "stdout"
        }
      ]
    },
    {
      "metadata": {
        "colab_type": "code",
        "id": "Zfc6MOKV7t18",
        "colab": {
          "base_uri": "https://localhost:8080/",
          "height": 380
        },
        "outputId": "35bddfce-a045-4d5b-cc99-a655472607c8"
      },
      "cell_type": "code",
      "source": [
        "# plotar loss e accuracy para os datasets 'train' e 'test'\n",
        "plt.style.use(\"ggplot\")\n",
        "plt.figure()\n",
        "plt.plot(training.history['acc'], label='Accuracy')\n",
        "plt.plot(training.history['loss'], label='Loss')\n",
        "plt.xlabel('Epochs')\n",
        "plt.ylabel('Accuracy')\n",
        "plt.title(\"Training Loss and Accuracy\")\n",
        "plt.ylabel(\"Loss/Accuracy\")\n",
        "plt.legend()\n",
        "plt.savefig('architecture_11.png', bbox_inches='tight')"
      ],
      "execution_count": 21,
      "outputs": [
        {
          "output_type": "display_data",
          "data": {
            "image/png": "[encoded data removed]",
            "text/plain": [
              "<matplotlib.figure.Figure at 0x7fb78cc54f98>"
            ]
          },
          "metadata": {
            "tags": []
          }
        }
      ]
    },
    {
      "metadata": {
        "colab_type": "code",
        "id": "YGPiNIgZ7t2H",
        "colab": {}
      },
      "cell_type": "code",
      "source": [
        "model.load_weights('weights_architecture_11.hdf5')"
      ],
      "execution_count": 0,
      "outputs": []
    },
    {
      "metadata": {
        "colab_type": "code",
        "id": "kxr7AENx7t2N",
        "colab": {
          "base_uri": "https://localhost:8080/",
          "height": 35
        },
        "outputId": "ffac5aa3-32d5-4ff9-ada1-a30856bc4c47"
      },
      "cell_type": "code",
      "source": [
        "results['architecture_11'] = model.evaluate_generator(test_batches, steps=bSize, use_multiprocessing=True, verbose=1)"
      ],
      "execution_count": 23,
      "outputs": [
        {
          "output_type": "stream",
          "text": [
            "32/32 [==============================] - 3s 104ms/step\n"
          ],
          "name": "stdout"
        }
      ]
    },
    {
      "metadata": {
        "colab_type": "code",
        "id": "Bf8AHrqA7t2S",
        "colab": {
          "base_uri": "https://localhost:8080/",
          "height": 35
        },
        "outputId": "78041e45-71f2-41bf-c3a4-22553cc2dcac"
      },
      "cell_type": "code",
      "source": [
        "print('Test Loss: {} | Test Accuracy: {:.2f}%'.format(results['architecture_11'][0], 100 * results['architecture_11'][1]))"
      ],
      "execution_count": 24,
      "outputs": [
        {
          "output_type": "stream",
          "text": [
            "Test Loss: 0.34909098595380783 | Test Accuracy: 90.43%\n"
          ],
          "name": "stdout"
        }
      ]
    },
    {
      "metadata": {
        "id": "26BCkdp9MAna",
        "colab_type": "text"
      },
      "cell_type": "markdown",
      "source": [
        "### 12 tentativa Accuracy: 90.04%"
      ]
    },
    {
      "metadata": {
        "colab_type": "text",
        "id": "MLvKG40a84F9"
      },
      "cell_type": "markdown",
      "source": [
        "Modelo adaptado do **Lucas Albertins**\n",
        "\n",
        "*   Sem utilização das funções de regularização\n",
        "*   Função **SGD** para compilação\n",
        "*   Adicionado mais 2 camadas convolutivas"
      ]
    },
    {
      "metadata": {
        "colab_type": "code",
        "id": "9LrDSy5AMFDO",
        "colab": {}
      },
      "cell_type": "code",
      "source": [
        "from keras.layers import Conv2D, MaxPooling2D, GlobalMaxPooling2D, BatchNormalization\n",
        "from keras.regularizers import l2\n",
        "\n",
        "model = Sequential()\n",
        "\n",
        "model.add(Conv2D(32, (3, 3), activation='relu',input_shape=(None, None, 3)))\n",
        "model.add(BatchNormalization())\n",
        "model.add(Conv2D(32, (3, 3), activation='relu'))\n",
        "model.add(BatchNormalization())\n",
        "model.add(MaxPooling2D((2, 2)))\n",
        "model.add(Dropout(0.25))\n",
        "\n",
        "model.add(Conv2D(64, (3, 3), activation='relu'))\n",
        "model.add(BatchNormalization())\n",
        "model.add(Conv2D(64, (3, 3), activation='relu'))\n",
        "model.add(BatchNormalization())\n",
        "model.add(MaxPooling2D((2, 2)))\n",
        "model.add(Dropout(0.25))\n",
        "\n",
        "model.add(Conv2D(96, (3, 3),activation='relu'))\n",
        "model.add(BatchNormalization())\n",
        "model.add(Conv2D(96, (3, 3),activation='relu'))\n",
        "model.add(BatchNormalization())\n",
        "model.add(MaxPooling2D((2, 2)))\n",
        "model.add(Dropout(0.25))\n",
        "\n",
        "model.add(Conv2D(128, (1,1)))\n",
        "model.add(GlobalMaxPooling2D())\n",
        "\n",
        "model.add(Dense(256, activation='relu'))\n",
        "model.add(Dropout(0.5))\n",
        "model.add(Dense(2, activation='sigmoid'))"
      ],
      "execution_count": 0,
      "outputs": []
    },
    {
      "metadata": {
        "colab_type": "code",
        "id": "EUZ-2eyUMSxQ",
        "colab": {}
      },
      "cell_type": "code",
      "source": [
        "model.compile(SGD(lr=0.01, momentum=0.0, decay=0.0, nesterov=False), \n",
        "              loss='binary_crossentropy', metrics=['accuracy'])"
      ],
      "execution_count": 0,
      "outputs": []
    },
    {
      "metadata": {
        "colab_type": "code",
        "id": "t9LJH3RP9H7J",
        "colab": {}
      },
      "cell_type": "code",
      "source": [
        "checkpointer = ModelCheckpoint(filepath='weights_architecture_12.hdf5', verbose=1, save_best_only=True)"
      ],
      "execution_count": 0,
      "outputs": []
    },
    {
      "metadata": {
        "colab_type": "code",
        "id": "nnQVNSzq9H7S",
        "colab": {
          "base_uri": "https://localhost:8080/",
          "height": 3690
        },
        "outputId": "92f632b6-de94-4b0d-e6b5-c6ee8dfa64a8"
      },
      "cell_type": "code",
      "source": [
        "training = model.fit_generator(train_batches, steps_per_epoch=stepsPerEpoche, \n",
        "                   validation_data=validation_batches, validation_steps=validationSteps,\n",
        "                   epochs=50, verbose=2, callbacks=[checkpointer])"
      ],
      "execution_count": 28,
      "outputs": [
        {
          "output_type": "stream",
          "text": [
            "Epoch 1/50\n",
            " - 3s - loss: 1.9276 - acc: 0.4594 - val_loss: 1.4336 - val_acc: 0.5156\n",
            "\n",
            "Epoch 00001: val_loss improved from inf to 1.43357, saving model to weights_architecture_12.hdf5\n",
            "Epoch 2/50\n",
            " - 1s - loss: 1.9171 - acc: 0.5187 - val_loss: 0.6154 - val_acc: 0.6875\n",
            "\n",
            "Epoch 00002: val_loss improved from 1.43357 to 0.61538, saving model to weights_architecture_12.hdf5\n",
            "Epoch 3/50\n",
            " - 1s - loss: 1.2434 - acc: 0.5594 - val_loss: 0.5652 - val_acc: 0.7188\n",
            "\n",
            "Epoch 00003: val_loss improved from 0.61538 to 0.56523, saving model to weights_architecture_12.hdf5\n",
            "Epoch 4/50\n",
            " - 1s - loss: 1.0904 - acc: 0.5687 - val_loss: 0.6488 - val_acc: 0.6094\n",
            "\n",
            "Epoch 00004: val_loss did not improve from 0.56523\n",
            "Epoch 5/50\n",
            " - 1s - loss: 0.8088 - acc: 0.6312 - val_loss: 0.5491 - val_acc: 0.7656\n",
            "\n",
            "Epoch 00005: val_loss improved from 0.56523 to 0.54906, saving model to weights_architecture_12.hdf5\n",
            "Epoch 6/50\n",
            " - 0s - loss: 1.0137 - acc: 0.5635 - val_loss: 0.6762 - val_acc: 0.5938\n",
            "\n",
            "Epoch 00006: val_loss did not improve from 0.54906\n",
            "Epoch 7/50\n",
            " - 1s - loss: 0.7063 - acc: 0.6875 - val_loss: 0.5531 - val_acc: 0.6797\n",
            "\n",
            "Epoch 00007: val_loss did not improve from 0.54906\n",
            "Epoch 8/50\n",
            " - 1s - loss: 0.8041 - acc: 0.6188 - val_loss: 0.5399 - val_acc: 0.7578\n",
            "\n",
            "Epoch 00008: val_loss improved from 0.54906 to 0.53987, saving model to weights_architecture_12.hdf5\n",
            "Epoch 9/50\n",
            " - 1s - loss: 0.5564 - acc: 0.7250 - val_loss: 0.5464 - val_acc: 0.7812\n",
            "\n",
            "Epoch 00009: val_loss did not improve from 0.53987\n",
            "Epoch 10/50\n",
            " - 1s - loss: 0.5871 - acc: 0.7000 - val_loss: 0.5818 - val_acc: 0.7031\n",
            "\n",
            "Epoch 00010: val_loss did not improve from 0.53987\n",
            "Epoch 11/50\n",
            " - 1s - loss: 0.6235 - acc: 0.7156 - val_loss: 0.5147 - val_acc: 0.7422\n",
            "\n",
            "Epoch 00011: val_loss improved from 0.53987 to 0.51471, saving model to weights_architecture_12.hdf5\n",
            "Epoch 12/50\n",
            " - 1s - loss: 0.4670 - acc: 0.7687 - val_loss: 0.5132 - val_acc: 0.6797\n",
            "\n",
            "Epoch 00012: val_loss improved from 0.51471 to 0.51323, saving model to weights_architecture_12.hdf5\n",
            "Epoch 13/50\n",
            " - 1s - loss: 0.5615 - acc: 0.7188 - val_loss: 0.3643 - val_acc: 0.8672\n",
            "\n",
            "Epoch 00013: val_loss improved from 0.51323 to 0.36434, saving model to weights_architecture_12.hdf5\n",
            "Epoch 14/50\n",
            " - 1s - loss: 0.5120 - acc: 0.7656 - val_loss: 0.3971 - val_acc: 0.8750\n",
            "\n",
            "Epoch 00014: val_loss did not improve from 0.36434\n",
            "Epoch 15/50\n",
            " - 1s - loss: 0.4764 - acc: 0.7844 - val_loss: 0.3671 - val_acc: 0.8359\n",
            "\n",
            "Epoch 00015: val_loss did not improve from 0.36434\n",
            "Epoch 16/50\n",
            " - 1s - loss: 0.4198 - acc: 0.7938 - val_loss: 0.3374 - val_acc: 0.9062\n",
            "\n",
            "Epoch 00016: val_loss improved from 0.36434 to 0.33745, saving model to weights_architecture_12.hdf5\n",
            "Epoch 17/50\n",
            " - 1s - loss: 0.3956 - acc: 0.8406 - val_loss: 0.2981 - val_acc: 0.9219\n",
            "\n",
            "Epoch 00017: val_loss improved from 0.33745 to 0.29813, saving model to weights_architecture_12.hdf5\n",
            "Epoch 18/50\n",
            " - 1s - loss: 0.4407 - acc: 0.8187 - val_loss: 0.3127 - val_acc: 0.8594\n",
            "\n",
            "Epoch 00018: val_loss did not improve from 0.29813\n",
            "Epoch 19/50\n",
            " - 1s - loss: 0.3944 - acc: 0.8312 - val_loss: 0.4059 - val_acc: 0.8203\n",
            "\n",
            "Epoch 00019: val_loss did not improve from 0.29813\n",
            "Epoch 20/50\n",
            " - 1s - loss: 0.4842 - acc: 0.7375 - val_loss: 0.3718 - val_acc: 0.8828\n",
            "\n",
            "Epoch 00020: val_loss did not improve from 0.29813\n",
            "Epoch 21/50\n",
            " - 1s - loss: 0.4026 - acc: 0.8563 - val_loss: 0.4490 - val_acc: 0.8203\n",
            "\n",
            "Epoch 00021: val_loss did not improve from 0.29813\n",
            "Epoch 22/50\n",
            " - 1s - loss: 0.4932 - acc: 0.7812 - val_loss: 0.5428 - val_acc: 0.7266\n",
            "\n",
            "Epoch 00022: val_loss did not improve from 0.29813\n",
            "Epoch 23/50\n",
            " - 1s - loss: 0.4831 - acc: 0.8156 - val_loss: 0.6245 - val_acc: 0.7109\n",
            "\n",
            "Epoch 00023: val_loss did not improve from 0.29813\n",
            "Epoch 24/50\n",
            " - 1s - loss: 0.3806 - acc: 0.8250 - val_loss: 0.6065 - val_acc: 0.6562\n",
            "\n",
            "Epoch 00024: val_loss did not improve from 0.29813\n",
            "Epoch 25/50\n",
            " - 1s - loss: 0.3127 - acc: 0.8906 - val_loss: 0.4091 - val_acc: 0.8125\n",
            "\n",
            "Epoch 00025: val_loss did not improve from 0.29813\n",
            "Epoch 26/50\n",
            " - 1s - loss: 0.4321 - acc: 0.8531 - val_loss: 0.6213 - val_acc: 0.6979\n",
            "\n",
            "Epoch 00026: val_loss did not improve from 0.29813\n",
            "Epoch 27/50\n",
            " - 1s - loss: 0.3714 - acc: 0.8344 - val_loss: 0.5398 - val_acc: 0.7734\n",
            "\n",
            "Epoch 00027: val_loss did not improve from 0.29813\n",
            "Epoch 28/50\n",
            " - 1s - loss: 0.3536 - acc: 0.8500 - val_loss: 0.8028 - val_acc: 0.6016\n",
            "\n",
            "Epoch 00028: val_loss did not improve from 0.29813\n",
            "Epoch 29/50\n",
            " - 1s - loss: 0.3256 - acc: 0.9031 - val_loss: 0.4215 - val_acc: 0.8359\n",
            "\n",
            "Epoch 00029: val_loss did not improve from 0.29813\n",
            "Epoch 30/50\n",
            " - 1s - loss: 0.3766 - acc: 0.8594 - val_loss: 0.5206 - val_acc: 0.7578\n",
            "\n",
            "Epoch 00030: val_loss did not improve from 0.29813\n",
            "Epoch 31/50\n",
            " - 1s - loss: 0.3918 - acc: 0.8375 - val_loss: 0.3847 - val_acc: 0.8672\n",
            "\n",
            "Epoch 00031: val_loss did not improve from 0.29813\n",
            "Epoch 32/50\n",
            " - 1s - loss: 0.3686 - acc: 0.8469 - val_loss: 0.3502 - val_acc: 0.8125\n",
            "\n",
            "Epoch 00032: val_loss did not improve from 0.29813\n",
            "Epoch 33/50\n",
            " - 1s - loss: 0.5917 - acc: 0.7479 - val_loss: 0.4448 - val_acc: 0.7578\n",
            "\n",
            "Epoch 00033: val_loss did not improve from 0.29813\n",
            "Epoch 34/50\n",
            " - 1s - loss: 0.3998 - acc: 0.8438 - val_loss: 0.3350 - val_acc: 0.8438\n",
            "\n",
            "Epoch 00034: val_loss did not improve from 0.29813\n",
            "Epoch 35/50\n",
            " - 1s - loss: 0.3818 - acc: 0.8344 - val_loss: 0.4824 - val_acc: 0.7656\n",
            "\n",
            "Epoch 00035: val_loss did not improve from 0.29813\n",
            "Epoch 36/50\n",
            " - 1s - loss: 0.3494 - acc: 0.8688 - val_loss: 0.2949 - val_acc: 0.8750\n",
            "\n",
            "Epoch 00036: val_loss improved from 0.29813 to 0.29490, saving model to weights_architecture_12.hdf5\n",
            "Epoch 37/50\n",
            " - 1s - loss: 0.3364 - acc: 0.8594 - val_loss: 0.5890 - val_acc: 0.7266\n",
            "\n",
            "Epoch 00037: val_loss did not improve from 0.29490\n",
            "Epoch 38/50\n",
            " - 1s - loss: 0.3084 - acc: 0.8937 - val_loss: 0.3478 - val_acc: 0.7969\n",
            "\n",
            "Epoch 00038: val_loss did not improve from 0.29490\n",
            "Epoch 39/50\n",
            " - 1s - loss: 0.4055 - acc: 0.8812 - val_loss: 0.3525 - val_acc: 0.8203\n",
            "\n",
            "Epoch 00039: val_loss did not improve from 0.29490\n",
            "Epoch 40/50\n",
            " - 1s - loss: 0.3788 - acc: 0.8438 - val_loss: 0.3927 - val_acc: 0.8516\n",
            "\n",
            "Epoch 00040: val_loss did not improve from 0.29490\n",
            "Epoch 41/50\n",
            " - 1s - loss: 0.4089 - acc: 0.8000 - val_loss: 0.3211 - val_acc: 0.9141\n",
            "\n",
            "Epoch 00041: val_loss did not improve from 0.29490\n",
            "Epoch 42/50\n",
            " - 1s - loss: 0.3221 - acc: 0.8531 - val_loss: 0.4690 - val_acc: 0.7969\n",
            "\n",
            "Epoch 00042: val_loss did not improve from 0.29490\n",
            "Epoch 43/50\n",
            " - 1s - loss: 0.2823 - acc: 0.8937 - val_loss: 0.3332 - val_acc: 0.8854\n",
            "\n",
            "Epoch 00043: val_loss did not improve from 0.29490\n",
            "Epoch 44/50\n",
            " - 1s - loss: 0.3709 - acc: 0.8781 - val_loss: 0.4706 - val_acc: 0.7500\n",
            "\n",
            "Epoch 00044: val_loss did not improve from 0.29490\n",
            "Epoch 45/50\n",
            " - 1s - loss: 0.3016 - acc: 0.9000 - val_loss: 0.2590 - val_acc: 0.9219\n",
            "\n",
            "Epoch 00045: val_loss improved from 0.29490 to 0.25903, saving model to weights_architecture_12.hdf5\n",
            "Epoch 46/50\n",
            " - 1s - loss: 0.3657 - acc: 0.8625 - val_loss: 0.4031 - val_acc: 0.8047\n",
            "\n",
            "Epoch 00046: val_loss did not improve from 0.25903\n",
            "Epoch 47/50\n",
            " - 1s - loss: 0.3354 - acc: 0.8500 - val_loss: 0.4210 - val_acc: 0.8047\n",
            "\n",
            "Epoch 00047: val_loss did not improve from 0.25903\n",
            "Epoch 48/50\n",
            " - 1s - loss: 0.2806 - acc: 0.9156 - val_loss: 0.3716 - val_acc: 0.8672\n",
            "\n",
            "Epoch 00048: val_loss did not improve from 0.25903\n",
            "Epoch 49/50\n",
            " - 1s - loss: 0.3195 - acc: 0.8625 - val_loss: 0.2712 - val_acc: 0.9062\n",
            "\n",
            "Epoch 00049: val_loss did not improve from 0.25903\n",
            "Epoch 50/50\n",
            " - 1s - loss: 0.2228 - acc: 0.9250 - val_loss: 0.2605 - val_acc: 0.8906\n",
            "\n",
            "Epoch 00050: val_loss did not improve from 0.25903\n"
          ],
          "name": "stdout"
        }
      ]
    },
    {
      "metadata": {
        "colab_type": "code",
        "id": "1jTgRNsw9H7Y",
        "colab": {
          "base_uri": "https://localhost:8080/",
          "height": 380
        },
        "outputId": "5cbe13af-9c67-4a07-9eb8-b10e55e10a4a"
      },
      "cell_type": "code",
      "source": [
        "# plotar loss e accuracy para os datasets 'train' e 'test'\n",
        "plt.style.use(\"ggplot\")\n",
        "plt.figure()\n",
        "plt.plot(training.history['acc'], label='Accuracy')\n",
        "plt.plot(training.history['loss'], label='Loss')\n",
        "plt.xlabel('Epochs')\n",
        "plt.ylabel('Accuracy')\n",
        "plt.title(\"Training Loss and Accuracy\")\n",
        "plt.ylabel(\"Loss/Accuracy\")\n",
        "plt.legend()\n",
        "plt.savefig('architecture_12.png', bbox_inches='tight')"
      ],
      "execution_count": 29,
      "outputs": [
        {
          "output_type": "display_data",
          "data": {
            "image/png": "[encoded data removed]",
            "text/plain": [
              "<matplotlib.figure.Figure at 0x7fb786787908>"
            ]
          },
          "metadata": {
            "tags": []
          }
        }
      ]
    },
    {
      "metadata": {
        "colab_type": "code",
        "id": "Bwv3EcY-9H7g",
        "colab": {}
      },
      "cell_type": "code",
      "source": [
        "model.load_weights('weights_architecture_12.hdf5')"
      ],
      "execution_count": 0,
      "outputs": []
    },
    {
      "metadata": {
        "colab_type": "code",
        "id": "nF36tfx69H7v",
        "colab": {
          "base_uri": "https://localhost:8080/",
          "height": 35
        },
        "outputId": "1c9297f8-2cbe-41f7-cd4d-9ea2da55aeca"
      },
      "cell_type": "code",
      "source": [
        "results['architecture_12'] = model.evaluate_generator(test_batches, steps=bSize, use_multiprocessing=True, verbose=1)"
      ],
      "execution_count": 31,
      "outputs": [
        {
          "output_type": "stream",
          "text": [
            "32/32 [==============================] - 3s 107ms/step\n"
          ],
          "name": "stdout"
        }
      ]
    },
    {
      "metadata": {
        "colab_type": "code",
        "id": "tG7HPabu9H76",
        "colab": {
          "base_uri": "https://localhost:8080/",
          "height": 35
        },
        "outputId": "8ab78bf9-b5d7-4704-c1a1-cbdbdd56a405"
      },
      "cell_type": "code",
      "source": [
        "print('Test Loss: {} | Test Accuracy: {:.2f}%'.format(results['architecture_12'][0], 100 * results['architecture_12'][1]))"
      ],
      "execution_count": 32,
      "outputs": [
        {
          "output_type": "stream",
          "text": [
            "Test Loss: 0.30304796900600195 | Test Accuracy: 90.04%\n"
          ],
          "name": "stdout"
        }
      ]
    }
  ]
}