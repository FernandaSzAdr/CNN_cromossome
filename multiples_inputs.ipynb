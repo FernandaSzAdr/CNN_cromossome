{
  "nbformat": 4,
  "nbformat_minor": 0,
  "metadata": {
    "colab": {
      "name": "multiples_inputs.ipynb",
      "version": "0.3.2",
      "provenance": [],
      "collapsed_sections": [
        "Ss-ZhiTXsV8D"
      ],
      "toc_visible": true,
      "include_colab_link": true
    },
    "kernelspec": {
      "name": "python3",
      "display_name": "Python 3"
    },
    "accelerator": "GPU"
  },
  "cells": [
    {
      "cell_type": "markdown",
      "metadata": {
        "id": "view-in-github",
        "colab_type": "text"
      },
      "source": [
        "<a href=\"https://colab.research.google.com/github/FernandaSzAdr/CNN_cromossome/blob/master/multiples_inputs.ipynb\" target=\"_parent\"><img src=\"https://colab.research.google.com/assets/colab-badge.svg\" alt=\"Open In Colab\"/></a>"
      ]
    },
    {
      "cell_type": "code",
      "metadata": {
        "id": "4bhIRncd2LHM",
        "colab_type": "code",
        "outputId": "8101ee4d-a0b1-4846-b75f-b20072995abf",
        "colab": {
          "base_uri": "https://localhost:8080/",
          "height": 122
        }
      },
      "source": [
        "# Load the Drive helper and mount\n",
        "from google.colab import drive\n",
        "\n",
        "# This will prompt for authorization.\n",
        "drive.mount('/content/drive/')"
      ],
      "execution_count": 0,
      "outputs": [
        {
          "output_type": "stream",
          "text": [
            "Go to this URL in a browser: https://accounts.google.com/o/oauth2/auth?client_id=947318989803-6bn6qk8qdgf4n4g3pfee6491hc0brc4i.apps.googleusercontent.com&redirect_uri=urn%3Aietf%3Awg%3Aoauth%3A2.0%3Aoob&scope=email%20https%3A%2F%2Fwww.googleapis.com%2Fauth%2Fdocs.test%20https%3A%2F%2Fwww.googleapis.com%2Fauth%2Fdrive%20https%3A%2F%2Fwww.googleapis.com%2Fauth%2Fdrive.photos.readonly%20https%3A%2F%2Fwww.googleapis.com%2Fauth%2Fpeopleapi.readonly&response_type=code\n",
            "\n",
            "Enter your authorization code:\n",
            "··········\n",
            "Mounted at /content/drive/\n"
          ],
          "name": "stdout"
        }
      ]
    },
    {
      "cell_type": "code",
      "metadata": {
        "id": "ychagw2mwZHd",
        "colab_type": "code",
        "outputId": "430a1d00-104a-43d6-917a-d268ac516d3d",
        "colab": {
          "base_uri": "https://localhost:8080/",
          "height": 34
        }
      },
      "source": [
        "!pip install imutils\n",
        "\n",
        "import os\n",
        "import cv2\n",
        "import numpy as np\n",
        "import pandas as pd\n",
        "\n",
        "from keras import applications\n",
        "from keras.models import Model\n",
        "from keras.layers import Input, Dense, Dropout, Flatten, concatenate\n",
        "from keras.layers import Conv2D, MaxPooling2D, GlobalMaxPooling2D, BatchNormalization\n",
        "from keras.callbacks import ModelCheckpoint\n",
        "from keras.utils import to_categorical\n",
        "\n",
        "import imutils\n",
        "import csv\n",
        "\n",
        "from sklearn.metrics import confusion_matrix\n",
        "from sklearn.metrics import precision_score\n",
        "from sklearn.metrics import roc_curve\n",
        "from sklearn.metrics import roc_auc_score\n",
        "from sklearn.metrics import accuracy_score\n",
        "from sklearn.metrics import precision_recall_curve\n",
        "from sklearn.metrics import auc\n",
        "from sklearn.metrics import average_precision_score\n",
        "\n",
        "import matplotlib.pyplot as plt\n",
        "\n",
        "from skimage import transform"
      ],
      "execution_count": 0,
      "outputs": [
        {
          "output_type": "stream",
          "text": [
            "Requirement already satisfied: imutils in /usr/local/lib/python3.6/dist-packages (0.5.2)\n"
          ],
          "name": "stdout"
        }
      ]
    },
    {
      "cell_type": "code",
      "metadata": {
        "id": "L86cYs_a2SKy",
        "colab_type": "code",
        "colab": {}
      },
      "source": [
        "def load_data(dirname, data_df, filetype=None, grayscale=False, size=None):\n",
        "    mode = 0 if grayscale else 1\n",
        "    attemps = 0\n",
        "    while attemps < 5:\n",
        "      try:\n",
        "        filenames = os.listdir(dirname)\n",
        "        break\n",
        "      except:\n",
        "        attemps += 1\n",
        "    else:\n",
        "      raise Exception('Não foi possivel realizar a leitura de arquivos')\n",
        "    \n",
        "    images = []\n",
        "    areas = []\n",
        "    \n",
        "    if filetype is not None:\n",
        "        filenames = [filename for filename in filenames if filename.endswith('.' + filetype)]\n",
        "        \n",
        "    for filename in filenames:\n",
        "        image = cv2.imread(os.path.join(dirname, filename), mode)\n",
        "        \n",
        "        if size is not None:\n",
        "            image = cv2.resize(image, size)\n",
        "        \n",
        "        number = filename.split('.')[0]\n",
        "        \n",
        "        try:\n",
        "            area = data_df[data_df['Numero'] == number].iloc[0]['area']\n",
        "            \n",
        "        except:\n",
        "            area = 0\n",
        "        \n",
        "        images.append(image)\n",
        "        areas.append(area)\n",
        "    \n",
        "    return images, areas"
      ],
      "execution_count": 0,
      "outputs": []
    },
    {
      "cell_type": "code",
      "metadata": {
        "id": "ollV0CIg2Wj3",
        "colab_type": "code",
        "colab": {}
      },
      "source": [
        "def prepare_data(c_images, nc_images, c_areas, nc_areas, expand_dims=False,\n",
        "                 normalization_method=None, return_y=False, y_categorical=False):\n",
        "    c_images = np.array(c_images) if type(c_images) == list else c_images\n",
        "    nc_images = np.array(nc_images) if type(nc_images) == list else nc_images\n",
        "    c_areas = np.array(c_areas) if type(c_areas) == list else c_areas\n",
        "    nc_areas = np.array(nc_areas) if type(nc_areas) == list else nc_areas\n",
        "    \n",
        "    images = np.concatenate((c_images, nc_images), axis=0)\n",
        "    areas = np.concatenate((c_areas, nc_areas), axis=0)\n",
        "    \n",
        "    if expand_dims:\n",
        "        images = np.expand_dims(images, axis=3)\n",
        "    \n",
        "    if normalization_method is not None:\n",
        "        images = images.astype(np.float32)\n",
        "        \n",
        "        if normalization_method == 1:\n",
        "            images = (images - images.min()) / (images.max() - images.min())\n",
        "        \n",
        "        elif normalization_method == 2:\n",
        "            images = 2 * (images - images.min()) / (images.max() - images.min())\n",
        "            \n",
        "        elif normalization_method == 3:\n",
        "            images = (images - images.mean()) / images.std()\n",
        "    \n",
        "    if return_y:\n",
        "        c_labels = np.ones(c_images.shape[0])\n",
        "        nc_labels = np.zeros(nc_images.shape[0])\n",
        "        \n",
        "        labels = np.concatenate((c_labels, nc_labels), axis=0)\n",
        "        \n",
        "        if y_categorical:\n",
        "            labels = to_categorical(labels)\n",
        "        \n",
        "        return images, areas, labels\n",
        "    \n",
        "    return images, areas"
      ],
      "execution_count": 0,
      "outputs": []
    },
    {
      "cell_type": "code",
      "metadata": {
        "id": "7rQ4KCfP2ZFL",
        "colab_type": "code",
        "colab": {}
      },
      "source": [
        "def train_model(model_builder, weights_path_format, **kwargs):\n",
        "    weights_dirname = '/'.join(weights_path_format.split('/')[:-1])\n",
        "    \n",
        "    weights_path = weights_path_format\n",
        "\n",
        "    checkpointer = ModelCheckpoint(weights_path, save_best_only=True, verbose=0)\n",
        "\n",
        "    model = model_builder()\n",
        "\n",
        "    model.fit(callbacks=[checkpointer], verbose=0, **kwargs)\n",
        "  \n",
        "    return model\n",
        "    "
      ],
      "execution_count": 0,
      "outputs": []
    },
    {
      "cell_type": "markdown",
      "metadata": {
        "id": "Ss-ZhiTXsV8D",
        "colab_type": "text"
      },
      "source": [
        "## Dados da Segmentação"
      ]
    },
    {
      "cell_type": "code",
      "metadata": {
        "id": "kX4l3R56N4Jx",
        "colab_type": "code",
        "colab": {}
      },
      "source": [
        "results = {}"
      ],
      "execution_count": 0,
      "outputs": []
    },
    {
      "cell_type": "code",
      "metadata": {
        "id": "29-yneaV265r",
        "colab_type": "code",
        "colab": {}
      },
      "source": [
        "data_df = pd.read_csv('drive/My Drive/Base_CNN/Binarizado2/posicoes_segmentada.csv')"
      ],
      "execution_count": 0,
      "outputs": []
    },
    {
      "cell_type": "code",
      "metadata": {
        "id": "LnCv5a1asQ9j",
        "colab_type": "code",
        "outputId": "926dceb5-c028-4fb0-95bf-ec154e89b8d0",
        "colab": {
          "base_uri": "https://localhost:8080/",
          "height": 204
        }
      },
      "source": [
        "data_df.head()"
      ],
      "execution_count": 0,
      "outputs": [
        {
          "output_type": "execute_result",
          "data": {
            "text/html": [
              "<div>\n",
              "<style scoped>\n",
              "    .dataframe tbody tr th:only-of-type {\n",
              "        vertical-align: middle;\n",
              "    }\n",
              "\n",
              "    .dataframe tbody tr th {\n",
              "        vertical-align: top;\n",
              "    }\n",
              "\n",
              "    .dataframe thead th {\n",
              "        text-align: right;\n",
              "    }\n",
              "</style>\n",
              "<table border=\"1\" class=\"dataframe\">\n",
              "  <thead>\n",
              "    <tr style=\"text-align: right;\">\n",
              "      <th></th>\n",
              "      <th>Imagem</th>\n",
              "      <th>Tipo</th>\n",
              "      <th>Numero</th>\n",
              "      <th>x</th>\n",
              "      <th>y</th>\n",
              "      <th>w</th>\n",
              "      <th>h</th>\n",
              "      <th>area</th>\n",
              "      <th>perimetro</th>\n",
              "      <th>aspect ratio</th>\n",
              "      <th>extent</th>\n",
              "      <th>solidity</th>\n",
              "    </tr>\n",
              "  </thead>\n",
              "  <tbody>\n",
              "    <tr>\n",
              "      <th>0</th>\n",
              "      <td>1.tif</td>\n",
              "      <td>NC</td>\n",
              "      <td>NC1</td>\n",
              "      <td>715</td>\n",
              "      <td>749</td>\n",
              "      <td>3</td>\n",
              "      <td>1</td>\n",
              "      <td>0.0</td>\n",
              "      <td>4.000000</td>\n",
              "      <td>3.0</td>\n",
              "      <td>0.000000</td>\n",
              "      <td>0.0</td>\n",
              "    </tr>\n",
              "    <tr>\n",
              "      <th>1</th>\n",
              "      <td>1.tif</td>\n",
              "      <td>NC</td>\n",
              "      <td>NC2</td>\n",
              "      <td>635</td>\n",
              "      <td>749</td>\n",
              "      <td>4</td>\n",
              "      <td>1</td>\n",
              "      <td>0.0</td>\n",
              "      <td>6.000000</td>\n",
              "      <td>4.0</td>\n",
              "      <td>0.000000</td>\n",
              "      <td>0.0</td>\n",
              "    </tr>\n",
              "    <tr>\n",
              "      <th>2</th>\n",
              "      <td>1.tif</td>\n",
              "      <td>NC</td>\n",
              "      <td>NC3</td>\n",
              "      <td>672</td>\n",
              "      <td>748</td>\n",
              "      <td>4</td>\n",
              "      <td>2</td>\n",
              "      <td>2.0</td>\n",
              "      <td>6.828427</td>\n",
              "      <td>2.0</td>\n",
              "      <td>0.250000</td>\n",
              "      <td>1.0</td>\n",
              "    </tr>\n",
              "    <tr>\n",
              "      <th>3</th>\n",
              "      <td>1.tif</td>\n",
              "      <td>NC</td>\n",
              "      <td>NC4</td>\n",
              "      <td>490</td>\n",
              "      <td>748</td>\n",
              "      <td>4</td>\n",
              "      <td>2</td>\n",
              "      <td>3.0</td>\n",
              "      <td>8.000000</td>\n",
              "      <td>2.0</td>\n",
              "      <td>0.375000</td>\n",
              "      <td>1.0</td>\n",
              "    </tr>\n",
              "    <tr>\n",
              "      <th>4</th>\n",
              "      <td>1.tif</td>\n",
              "      <td>NC</td>\n",
              "      <td>NC5</td>\n",
              "      <td>233</td>\n",
              "      <td>748</td>\n",
              "      <td>3</td>\n",
              "      <td>2</td>\n",
              "      <td>2.0</td>\n",
              "      <td>6.000000</td>\n",
              "      <td>1.5</td>\n",
              "      <td>0.333333</td>\n",
              "      <td>1.0</td>\n",
              "    </tr>\n",
              "  </tbody>\n",
              "</table>\n",
              "</div>"
            ],
            "text/plain": [
              "  Imagem Tipo Numero    x    y  w  h  area  perimetro  aspect ratio    extent  \\\n",
              "0  1.tif   NC    NC1  715  749  3  1   0.0   4.000000           3.0  0.000000   \n",
              "1  1.tif   NC    NC2  635  749  4  1   0.0   6.000000           4.0  0.000000   \n",
              "2  1.tif   NC    NC3  672  748  4  2   2.0   6.828427           2.0  0.250000   \n",
              "3  1.tif   NC    NC4  490  748  4  2   3.0   8.000000           2.0  0.375000   \n",
              "4  1.tif   NC    NC5  233  748  3  2   2.0   6.000000           1.5  0.333333   \n",
              "\n",
              "   solidity  \n",
              "0       0.0  \n",
              "1       0.0  \n",
              "2       1.0  \n",
              "3       1.0  \n",
              "4       1.0  "
            ]
          },
          "metadata": {
            "tags": []
          },
          "execution_count": 8
        }
      ]
    },
    {
      "cell_type": "markdown",
      "metadata": {
        "id": "J6bo7inAqii6",
        "colab_type": "text"
      },
      "source": [
        "## Modelos"
      ]
    },
    {
      "cell_type": "code",
      "metadata": {
        "id": "M1PV68TM2jP9",
        "colab_type": "code",
        "colab": {}
      },
      "source": [
        "def model_14():\n",
        "    net_input_image = Input(shape=(120, 120, 3), name='input_image')\n",
        "    net_input_area = Input(shape=(1,), name='input_area')\n",
        "    \n",
        "    net_layer = Conv2D(32, (3, 3), activation='relu')(net_input_image)\n",
        "    net_layer = MaxPooling2D((2, 2))(net_layer)\n",
        "    net_layer = BatchNormalization()(net_layer)\n",
        "    net_layer = Dropout(0.25)(net_layer)\n",
        "    \n",
        "    net_layer = Conv2D(64, (5, 5), activation='relu')(net_layer)\n",
        "    net_layer = MaxPooling2D((2, 2))(net_layer)\n",
        "    net_layer = BatchNormalization()(net_layer)\n",
        "    net_layer = Dropout(0.25)(net_layer)\n",
        "    \n",
        "    net_layer = Conv2D(128, (7, 7), activation='relu')(net_layer)\n",
        "    net_layer = MaxPooling2D((2, 2))(net_layer)\n",
        "    net_layer = BatchNormalization()(net_layer)\n",
        "    net_layer = Dropout(0.25)(net_layer)\n",
        "    \n",
        "    net_layer = Conv2D(128, (1,1))(net_layer)\n",
        "    net_layer = GlobalMaxPooling2D()(net_layer)\n",
        "    \n",
        "    net_layer = concatenate([net_layer, net_input_area])\n",
        "    \n",
        "    net_layer = Dense(256, activation='relu')(net_layer)\n",
        "    net_layer = Dropout(0.5)(net_layer)\n",
        "    \n",
        "    net_output = Dense(1, activation='sigmoid')(net_layer)\n",
        "    \n",
        "    model = Model(inputs=[net_input_image, net_input_area], outputs=net_output)\n",
        "    \n",
        "    model.compile(optimizer='adam', loss='binary_crossentropy', metrics=['accuracy'])\n",
        "    \n",
        "    return model"
      ],
      "execution_count": 0,
      "outputs": []
    },
    {
      "cell_type": "markdown",
      "metadata": {
        "id": "6vk0gi3xrf_e",
        "colab_type": "text"
      },
      "source": [
        "## Arquiteturas Coloridas"
      ]
    },
    {
      "cell_type": "code",
      "metadata": {
        "id": "e835RSQgEgA6",
        "colab_type": "code",
        "colab": {}
      },
      "source": [
        "def converte(regiao):\n",
        "   regiao = np.array(regiao).astype('float32')/255\n",
        "   regiao = transform.resize(regiao, (120, 120, 3))\n",
        "   regiao = np.expand_dims(regiao, axis=0)\n",
        "   return regiao\n"
      ],
      "execution_count": 0,
      "outputs": []
    },
    {
      "cell_type": "code",
      "metadata": {
        "id": "9ERJTQ3AgFJb",
        "colab_type": "code",
        "colab": {}
      },
      "source": [
        "def ler_images_teste(arquiteture):\n",
        "  y_true = []\n",
        "  y_predict = []\n",
        "  prob = []\n",
        "  \n",
        "  images_test = os.listdir(test_path)\n",
        "  local = 'drive/My Drive/Resultado/Colorido/Resultado_Image/' + arquiteture\n",
        "  if os.path.isdir(local) == False:\n",
        "    os.mkdir(local)\n",
        "  \n",
        "  for img in images_test:\n",
        "    # Pega cada imagem separadamente do folder de teste\n",
        "    image = cv2.imread(test_path + '/' + img)\n",
        "    image = imutils.resize(image, width=1000)\n",
        "    f = open('drive/My Drive/Base_CNN/Binarizado2/posicoes_segmentada.csv', 'r')\n",
        "    \n",
        "    copia = image.copy()\n",
        "\n",
        "    try:\n",
        "      leitor = csv.reader(f)\n",
        "      leitor = list(leitor)\n",
        "      leitor.pop(0)\n",
        "      for linha in leitor:\n",
        "        if len(linha) > 0:\n",
        "          # Para cada região dessa imagem:\n",
        "          if linha[0] == img:\n",
        "            posicoes = []\n",
        "            x = int(linha[3])\n",
        "            y = int(linha[4])\n",
        "            w = int(linha[5])\n",
        "            h = int(linha[6])\n",
        "            area = float(linha[7])\n",
        "            \n",
        "            # Label da região\n",
        "            label = linha[1]\n",
        "            if label == 'NC':\n",
        "              y_true.append(0)\n",
        "            else:\n",
        "              y_true.append(1)\n",
        "            \n",
        "            # Região\n",
        "            regiao = image[y: y + h, x: x + w]\n",
        "            regiao = converte(regiao)\n",
        "            \n",
        "            # Coloca a região na função e obtem o resultado\n",
        "            predicao = model.predict([regiao, np.array([area])], batch_size=32, verbose=0)\n",
        "            # Probabilidade de ser da classe 1\n",
        "            predicao = predicao[0][0]\n",
        "            prob.append(predicao)\n",
        "            \n",
        "            # Se é um cromossomo:\n",
        "            if (1 - predicao) < predicao:\n",
        "              y_predict.append(1)\n",
        "              cv2.rectangle(copia,(x, y),(x+w, y+h),(0,255,0), 1)\n",
        "            # Se não for um cromossomo:\n",
        "            else:\n",
        "              y_predict.append(0)\n",
        "              cv2.rectangle(copia,(x, y),(x+w, y+h),(0,0,255), 1)\n",
        "                        \n",
        "    finally:\n",
        "      f.close()\n",
        "    \n",
        "    cv2.imwrite(local + '/' + img, copia)\n",
        "  \n",
        "  return y_true, y_predict, prob\n"
      ],
      "execution_count": 0,
      "outputs": []
    },
    {
      "cell_type": "markdown",
      "metadata": {
        "id": "9B3jhfuvroY9",
        "colab_type": "text"
      },
      "source": [
        "### Arquitetura 16 - Colorida 2"
      ]
    },
    {
      "cell_type": "code",
      "metadata": {
        "colab_type": "code",
        "id": "s32z6JHUGE2k",
        "colab": {}
      },
      "source": [
        "architecture = 'architecture_16_colorida2'"
      ],
      "execution_count": 0,
      "outputs": []
    },
    {
      "cell_type": "code",
      "metadata": {
        "id": "ITtEfxrilym7",
        "colab_type": "code",
        "colab": {}
      },
      "source": [
        "test_path = 'drive/My Drive/Base_CNN/Colorido2/Test'"
      ],
      "execution_count": 0,
      "outputs": []
    },
    {
      "cell_type": "markdown",
      "metadata": {
        "id": "yOPaX6xvrZ87",
        "colab_type": "text"
      },
      "source": [
        "#### Treino"
      ]
    },
    {
      "cell_type": "code",
      "metadata": {
        "id": "24Qyi5IY6f8Z",
        "colab_type": "code",
        "colab": {}
      },
      "source": [
        "c_images_train, c_areas_train = load_data('drive/My Drive/Base_CNN/Colorido2/Train/C',\n",
        "                                          data_df, filetype='tif', size=(120, 120))\n",
        "nc_images_train, nc_areas_train = load_data('drive/My Drive/Base_CNN/Colorido2/Train/NC',\n",
        "                                            data_df, filetype='tif', size=(120, 120))\n",
        "\n",
        "c_images_validation, c_areas_validation = load_data('drive/My Drive/Base_CNN/Colorido2/Validation/C',\n",
        "                                                    data_df, filetype='tif', size=(120, 120))\n",
        "nc_images_validation, nc_areas_validation = load_data('drive/My Drive/Base_CNN/Colorido2/Validation/NC',\n",
        "                                                      data_df, filetype='tif', size=(120, 120))"
      ],
      "execution_count": 0,
      "outputs": []
    },
    {
      "cell_type": "code",
      "metadata": {
        "id": "WkZvrh1aCMgk",
        "colab_type": "code",
        "colab": {}
      },
      "source": [
        "images_train, areas_train, labels_train = prepare_data(\n",
        "    c_images_train, nc_images_train, c_areas_train, nc_areas_train,\n",
        "    normalization_method=3, return_y=True\n",
        ")\n",
        "\n",
        "images_validation, areas_validation, labels_validation = prepare_data(\n",
        "    c_images_validation, nc_images_validation, c_areas_validation, nc_areas_validation,\n",
        "    normalization_method=3, return_y=True\n",
        ")"
      ],
      "execution_count": 0,
      "outputs": []
    },
    {
      "cell_type": "code",
      "metadata": {
        "id": "c_hMqqUNGGrT",
        "colab_type": "code",
        "colab": {}
      },
      "source": [
        "model = train_model(\n",
        "    model_builder=model_14, weights_path_format='drive/My Drive/Resultado/Colorido/'\n",
        "                                                 + architecture + '.hdf5',\n",
        "    x=[images_train, areas_train], y=labels_train, batch_size=32, epochs=50,\n",
        "    validation_data=([images_validation, areas_validation], labels_validation)\n",
        ")"
      ],
      "execution_count": 0,
      "outputs": []
    },
    {
      "cell_type": "markdown",
      "metadata": {
        "id": "pW9cDqgznnD5",
        "colab_type": "text"
      },
      "source": [
        "#### Teste - Test Precision: 0.00%, AUC: 0.527, Accuracy: 80.36%"
      ]
    },
    {
      "cell_type": "code",
      "metadata": {
        "colab_type": "code",
        "outputId": "d033d66c-8818-44fb-c05a-71632d3966c3",
        "id": "lw990awDFOnw",
        "colab": {
          "base_uri": "https://localhost:8080/",
          "height": 105
        }
      },
      "source": [
        "y_true, y_predict, prob = ler_images_teste(architecture)"
      ],
      "execution_count": 0,
      "outputs": [
        {
          "output_type": "stream",
          "text": [
            "/usr/local/lib/python3.6/dist-packages/skimage/transform/_warps.py:105: UserWarning: The default mode, 'constant', will be changed to 'reflect' in skimage 0.15.\n",
            "  warn(\"The default mode, 'constant', will be changed to 'reflect' in \"\n",
            "/usr/local/lib/python3.6/dist-packages/skimage/transform/_warps.py:110: UserWarning: Anti-aliasing will be enabled by default in skimage 0.15 to avoid aliasing artifacts when down-sampling images.\n",
            "  warn(\"Anti-aliasing will be enabled by default in skimage 0.15 to \"\n"
          ],
          "name": "stderr"
        }
      ]
    },
    {
      "cell_type": "code",
      "metadata": {
        "colab_type": "code",
        "outputId": "7ceb57a5-a382-4ab6-bcca-2b469b0c09c2",
        "id": "WuLl7InbFOn1",
        "colab": {
          "base_uri": "https://localhost:8080/",
          "height": 88
        }
      },
      "source": [
        "results[architecture] = [precision_score(y_true, y_predict, average='binary'),\n",
        "                         roc_auc_score(y_true, prob),\n",
        "                         accuracy_score(y_true, y_predict)]\n",
        "print('Test Precision: {:.2f}%, AUC: {:.3f}, Accuracy: {:.2f}%'\n",
        "      .format(100 * results[architecture][0], \n",
        "              results[architecture][1],\n",
        "              100 * results[architecture][2]))"
      ],
      "execution_count": 0,
      "outputs": [
        {
          "output_type": "stream",
          "text": [
            "Test Precision: 0.00%, AUC: 0.527, Accuracy: 80.36%\n"
          ],
          "name": "stdout"
        },
        {
          "output_type": "stream",
          "text": [
            "/usr/local/lib/python3.6/dist-packages/sklearn/metrics/classification.py:1143: UndefinedMetricWarning: Precision is ill-defined and being set to 0.0 due to no predicted samples.\n",
            "  'precision', 'predicted', average, warn_for)\n"
          ],
          "name": "stderr"
        }
      ]
    },
    {
      "cell_type": "code",
      "metadata": {
        "colab_type": "code",
        "outputId": "e3bff2f2-e008-4b36-b84d-32eebfc26428",
        "id": "EOFmrNaFFOn6",
        "colab": {
          "base_uri": "https://localhost:8080/",
          "height": 283
        }
      },
      "source": [
        "# calculate roc curve\n",
        "fpr, tpr, thresholds = roc_curve(y_true, prob)\n",
        "# plot no skill\n",
        "plt.plot([0, 1], [0, 1], linestyle='--')\n",
        "# plot the roc curve for the model\n",
        "plt.ylabel('TPR')\n",
        "plt.xlabel('FPR')\n",
        "plt.plot(fpr, tpr, marker='.')\n",
        "plt.savefig('drive/My Drive/Resultado/ColoridoTeste-ROC_CURVE-' + architecture + '.png', bbox_inches='tight')"
      ],
      "execution_count": 0,
      "outputs": [
        {
          "output_type": "display_data",
          "data": {
            "image/png": "[encoded data removed]",
            "text/plain": [
              "<Figure size 432x288 with 1 Axes>"
            ]
          },
          "metadata": {
            "tags": []
          }
        }
      ]
    },
    {
      "cell_type": "markdown",
      "metadata": {
        "colab_type": "text",
        "id": "grX7xjbJNgqF"
      },
      "source": [
        "### Arquitetura 16 - Colorida 3"
      ]
    },
    {
      "cell_type": "code",
      "metadata": {
        "colab_type": "code",
        "id": "C__ZXHW9NgqQ",
        "colab": {}
      },
      "source": [
        "architecture = 'architecture_16_colorida3'"
      ],
      "execution_count": 0,
      "outputs": []
    },
    {
      "cell_type": "code",
      "metadata": {
        "colab_type": "code",
        "id": "WWpI3pXvNgrF",
        "colab": {}
      },
      "source": [
        "test_path = 'drive/My Drive/Base_CNN/Colorido3/Test'"
      ],
      "execution_count": 0,
      "outputs": []
    },
    {
      "cell_type": "markdown",
      "metadata": {
        "colab_type": "text",
        "id": "rlPYewJoNgql"
      },
      "source": [
        "#### Treino"
      ]
    },
    {
      "cell_type": "code",
      "metadata": {
        "colab_type": "code",
        "id": "sy8sRg1WHJ1V",
        "colab": {}
      },
      "source": [
        "c_images_train, c_areas_train = load_data('drive/My Drive/Base_CNN/Colorido3/Train/C',\n",
        "                                          data_df, filetype='tif', size=(120, 120))\n",
        "nc_images_train, nc_areas_train = load_data('drive/My Drive/Base_CNN/Colorido3/Train/NC',\n",
        "                                            data_df, filetype='tif', size=(120, 120))\n",
        "\n",
        "c_images_validation, c_areas_validation = load_data('drive/My Drive/Base_CNN/Colorido3/Validation/C',\n",
        "                                                    data_df, filetype='tif', size=(120, 120))\n",
        "nc_images_validation, nc_areas_validation = load_data('drive/My Drive/Base_CNN/Colorido3/Validation/NC',\n",
        "                                                      data_df, filetype='tif', size=(120, 120))"
      ],
      "execution_count": 0,
      "outputs": []
    },
    {
      "cell_type": "code",
      "metadata": {
        "colab_type": "code",
        "id": "TdRX1t1aHJ1X",
        "colab": {}
      },
      "source": [
        "images_train, areas_train, labels_train = prepare_data(\n",
        "    c_images_train, nc_images_train, c_areas_train, nc_areas_train,\n",
        "    normalization_method=3, return_y=True\n",
        ")\n",
        "\n",
        "images_validation, areas_validation, labels_validation = prepare_data(\n",
        "    c_images_validation, nc_images_validation, c_areas_validation, nc_areas_validation,\n",
        "    normalization_method=3, return_y=True\n",
        ")"
      ],
      "execution_count": 0,
      "outputs": []
    },
    {
      "cell_type": "code",
      "metadata": {
        "colab_type": "code",
        "id": "2c3RZj0vHJ1Z",
        "colab": {}
      },
      "source": [
        "model = train_model(\n",
        "    model_builder=model_14, weights_path_format='drive/My Drive/Resultado/Colorido/'\n",
        "                                                 + architecture + '.hdf5',\n",
        "    x=[images_train, areas_train], y=labels_train, batch_size=32, epochs=50,\n",
        "    validation_data=([images_validation, areas_validation], labels_validation)\n",
        ")"
      ],
      "execution_count": 0,
      "outputs": []
    },
    {
      "cell_type": "markdown",
      "metadata": {
        "colab_type": "text",
        "id": "6M442CkRNgrD"
      },
      "source": [
        "#### Teste - Test Precision: 19.65%, AUC: 0.501, Accuracy: 19.70%"
      ]
    },
    {
      "cell_type": "code",
      "metadata": {
        "colab_type": "code",
        "outputId": "81f6998b-ec3c-463c-e25e-453532b3f7d6",
        "id": "DokVDWFKGi35",
        "colab": {
          "base_uri": "https://localhost:8080/",
          "height": 105
        }
      },
      "source": [
        "y_true, y_predict, prob = ler_images_teste(architecture)"
      ],
      "execution_count": 0,
      "outputs": [
        {
          "output_type": "stream",
          "text": [
            "/usr/local/lib/python3.6/dist-packages/skimage/transform/_warps.py:105: UserWarning: The default mode, 'constant', will be changed to 'reflect' in skimage 0.15.\n",
            "  warn(\"The default mode, 'constant', will be changed to 'reflect' in \"\n",
            "/usr/local/lib/python3.6/dist-packages/skimage/transform/_warps.py:110: UserWarning: Anti-aliasing will be enabled by default in skimage 0.15 to avoid aliasing artifacts when down-sampling images.\n",
            "  warn(\"Anti-aliasing will be enabled by default in skimage 0.15 to \"\n"
          ],
          "name": "stderr"
        }
      ]
    },
    {
      "cell_type": "code",
      "metadata": {
        "colab_type": "code",
        "outputId": "a2bc4758-a064-4950-8c19-3cf9643bd8b9",
        "id": "MHewYbF4Gi38",
        "colab": {
          "base_uri": "https://localhost:8080/",
          "height": 34
        }
      },
      "source": [
        "results[architecture] = [precision_score(y_true, y_predict, average='binary'),\n",
        "                         roc_auc_score(y_true, prob),\n",
        "                         accuracy_score(y_true, y_predict)]\n",
        "print('Test Precision: {:.2f}%, AUC: {:.3f}, Accuracy: {:.2f}%'\n",
        "      .format(100 * results[architecture][0], \n",
        "              results[architecture][1],\n",
        "              100 * results[architecture][2]))"
      ],
      "execution_count": 0,
      "outputs": [
        {
          "output_type": "stream",
          "text": [
            "Test Precision: 19.65%, AUC: 0.501, Accuracy: 19.70%\n"
          ],
          "name": "stdout"
        }
      ]
    },
    {
      "cell_type": "code",
      "metadata": {
        "colab_type": "code",
        "outputId": "89d6b4f1-b4dd-402d-f4ac-335f29ac730d",
        "id": "XQsZIEZYGi4D",
        "colab": {
          "base_uri": "https://localhost:8080/",
          "height": 283
        }
      },
      "source": [
        "# calculate roc curve\n",
        "fpr, tpr, thresholds = roc_curve(y_true, prob)\n",
        "# plot no skill\n",
        "plt.plot([0, 1], [0, 1], linestyle='--')\n",
        "# plot the roc curve for the model\n",
        "plt.ylabel('TPR')\n",
        "plt.xlabel('FPR')\n",
        "plt.plot(fpr, tpr, marker='.')\n",
        "plt.savefig('drive/My Drive/Resultado/Colorido/Teste-ROC_CURVE-' + architecture + '.png', bbox_inches='tight')"
      ],
      "execution_count": 0,
      "outputs": [
        {
          "output_type": "display_data",
          "data": {
            "image/png": "[encoded data removed]",
            "text/plain": [
              "<Figure size 432x288 with 1 Axes>"
            ]
          },
          "metadata": {
            "tags": []
          }
        }
      ]
    },
    {
      "cell_type": "markdown",
      "metadata": {
        "colab_type": "text",
        "id": "uYIPpFyAOT2f"
      },
      "source": [
        "## Arquiteturas Segmentadas"
      ]
    },
    {
      "cell_type": "code",
      "metadata": {
        "colab_type": "code",
        "id": "O2rbxnxCOT2j",
        "colab": {}
      },
      "source": [
        "def converte(regiao):\n",
        "   regiao = np.array(regiao).astype('float32')/255\n",
        "   regiao = transform.resize(regiao, (120, 120, 3))\n",
        "   regiao = np.expand_dims(regiao, axis=0)\n",
        "   return regiao\n"
      ],
      "execution_count": 0,
      "outputs": []
    },
    {
      "cell_type": "code",
      "metadata": {
        "colab_type": "code",
        "id": "pZx05Z3GOT2s",
        "colab": {}
      },
      "source": [
        "def ler_images_teste(arquiteture):\n",
        "  y_true = []\n",
        "  y_predict = []\n",
        "  prob = []\n",
        "  \n",
        "  images_test = os.listdir(test_path)\n",
        "  local = 'drive/My Drive/Resultado/Segmentado/Resultado_Image/' + arquiteture\n",
        "  if os.path.isdir(local) == False:\n",
        "    os.mkdir(local)\n",
        "  \n",
        "  for img in images_test:\n",
        "    # Pega cada imagem separadamente do folder de teste\n",
        "    image = cv2.imread(test_path + '/' + img)\n",
        "    image = imutils.resize(image, width=1000)\n",
        "    f = open('drive/My Drive/Base_CNN/Binarizado2/posicoes_segmentada.csv', 'r')\n",
        "    \n",
        "    copia = image.copy()\n",
        "\n",
        "    try:\n",
        "      leitor = csv.reader(f)\n",
        "      leitor = list(leitor)\n",
        "      leitor.pop(0)\n",
        "      for linha in leitor:\n",
        "        if len(linha) > 0:\n",
        "          # Para cada região dessa imagem:\n",
        "          if linha[0] == img:\n",
        "            posicoes = []\n",
        "            x = int(linha[3])\n",
        "            y = int(linha[4])\n",
        "            w = int(linha[5])\n",
        "            h = int(linha[6])\n",
        "            area = float(linha[7])\n",
        "            \n",
        "            # Label da região\n",
        "            label = linha[1]\n",
        "            if label == 'NC':\n",
        "              y_true.append(0)\n",
        "            else:\n",
        "              y_true.append(1)\n",
        "            \n",
        "            # Região\n",
        "            regiao = image[y: y + h, x: x + w]\n",
        "            regiao = converte(regiao)\n",
        "            \n",
        "            # Coloca a região na função e obtem o resultado\n",
        "            predicao = model.predict([regiao, np.array([area])], batch_size=32, verbose=0)\n",
        "            # Probabilidade de ser da classe 1\n",
        "            predicao = predicao[0][0]\n",
        "            prob.append(predicao)\n",
        "            \n",
        "            # Se é um cromossomo:\n",
        "            if (1 - predicao) < predicao:\n",
        "              y_predict.append(1)\n",
        "              cv2.rectangle(copia,(x, y),(x+w, y+h),(0,255,0), 1)\n",
        "            # Se não for um cromossomo:\n",
        "            else:\n",
        "              y_predict.append(0)\n",
        "              cv2.rectangle(copia,(x, y),(x+w, y+h),(0,0,255), 1)\n",
        "                        \n",
        "    finally:\n",
        "      f.close()\n",
        "    \n",
        "    cv2.imwrite(local + '/' + img, copia)\n",
        "  \n",
        "  return y_true, y_predict, prob"
      ],
      "execution_count": 0,
      "outputs": []
    },
    {
      "cell_type": "markdown",
      "metadata": {
        "colab_type": "text",
        "id": "MbKEmsu0O7da"
      },
      "source": [
        "### Arquitetura 16 - Binarizado 2"
      ]
    },
    {
      "cell_type": "code",
      "metadata": {
        "colab_type": "code",
        "id": "vNi-nMb2O7dV",
        "colab": {}
      },
      "source": [
        "architecture = 'architecture_16_segmentado2'"
      ],
      "execution_count": 0,
      "outputs": []
    },
    {
      "cell_type": "code",
      "metadata": {
        "colab_type": "code",
        "id": "jnUZtf9AO7dO",
        "colab": {}
      },
      "source": [
        "test_path = 'drive/My Drive/Base_CNN/Binarizado2/Test'"
      ],
      "execution_count": 0,
      "outputs": []
    },
    {
      "cell_type": "markdown",
      "metadata": {
        "colab_type": "text",
        "id": "H_IZiykzO7dO"
      },
      "source": [
        "#### Treino"
      ]
    },
    {
      "cell_type": "code",
      "metadata": {
        "colab_type": "code",
        "id": "wYGNKwn2O7dF",
        "colab": {}
      },
      "source": [
        "c_images_train, c_areas_train = load_data('drive/My Drive/Base_CNN/Binarizado2/Train/C',\n",
        "                                          data_df, filetype='tif', size=(120, 120))\n",
        "nc_images_train, nc_areas_train = load_data('drive/My Drive/Base_CNN/Binarizado2/Train/NC',\n",
        "                                            data_df, filetype='tif', size=(120, 120))\n",
        "\n",
        "c_images_validation, c_areas_validation = load_data('drive/My Drive/Base_CNN/Binarizado2/Validation/C',\n",
        "                                                    data_df, filetype='tif', size=(120, 120))\n",
        "nc_images_validation, nc_areas_validation = load_data('drive/My Drive/Base_CNN/Binarizado2/Validation/NC',\n",
        "                                                      data_df, filetype='tif', size=(120, 120))"
      ],
      "execution_count": 0,
      "outputs": []
    },
    {
      "cell_type": "code",
      "metadata": {
        "colab_type": "code",
        "id": "-DF7hw3_O7c9",
        "colab": {}
      },
      "source": [
        "images_train, areas_train, labels_train = prepare_data(\n",
        "    c_images_train, nc_images_train, c_areas_train, nc_areas_train,\n",
        "    normalization_method=3, return_y=True\n",
        ")\n",
        "\n",
        "images_validation, areas_validation, labels_validation = prepare_data(\n",
        "    c_images_validation, nc_images_validation, c_areas_validation, nc_areas_validation,\n",
        "    normalization_method=3, return_y=True\n",
        ")"
      ],
      "execution_count": 0,
      "outputs": []
    },
    {
      "cell_type": "code",
      "metadata": {
        "colab_type": "code",
        "id": "Drx_5OvzO7c2",
        "colab": {}
      },
      "source": [
        "model = train_model(\n",
        "    model_builder=model_14, weights_path_format='drive/My Drive/Resultado/Segmentado/'\n",
        "                                                 + architecture + '.hdf5',\n",
        "    x=[images_train, areas_train], y=labels_train, batch_size=32, epochs=50,\n",
        "    validation_data=([images_validation, areas_validation], labels_validation)\n",
        ")"
      ],
      "execution_count": 0,
      "outputs": []
    },
    {
      "cell_type": "markdown",
      "metadata": {
        "colab_type": "text",
        "id": "5OLlk2uKO7c1"
      },
      "source": [
        "#### Teste - Test Precision: 94.12%, AUC: 0.851, Accuracy: 81.72%"
      ]
    },
    {
      "cell_type": "code",
      "metadata": {
        "colab_type": "code",
        "id": "WDAWWcN3HbVi",
        "outputId": "51c43f57-7804-4675-a677-1fb453902d19",
        "colab": {
          "base_uri": "https://localhost:8080/",
          "height": 105
        }
      },
      "source": [
        "y_true, y_predict, prob = ler_images_teste(architecture)"
      ],
      "execution_count": 0,
      "outputs": [
        {
          "output_type": "stream",
          "text": [
            "/usr/local/lib/python3.6/dist-packages/skimage/transform/_warps.py:105: UserWarning: The default mode, 'constant', will be changed to 'reflect' in skimage 0.15.\n",
            "  warn(\"The default mode, 'constant', will be changed to 'reflect' in \"\n",
            "/usr/local/lib/python3.6/dist-packages/skimage/transform/_warps.py:110: UserWarning: Anti-aliasing will be enabled by default in skimage 0.15 to avoid aliasing artifacts when down-sampling images.\n",
            "  warn(\"Anti-aliasing will be enabled by default in skimage 0.15 to \"\n"
          ],
          "name": "stderr"
        }
      ]
    },
    {
      "cell_type": "code",
      "metadata": {
        "colab_type": "code",
        "id": "jO6Qq5WUHbVk",
        "outputId": "7e2e28ad-f553-4afa-aa63-d89db2af2400",
        "colab": {
          "base_uri": "https://localhost:8080/",
          "height": 34
        }
      },
      "source": [
        "results[architecture] = [precision_score(y_true, y_predict, average='binary'),\n",
        "                         roc_auc_score(y_true, prob),\n",
        "                         accuracy_score(y_true, y_predict)]\n",
        "print('Test Precision: {:.2f}%, AUC: {:.3f}, Accuracy: {:.2f}%'\n",
        "      .format(100 * results[architecture][0], \n",
        "              results[architecture][1],\n",
        "              100 * results[architecture][2]))"
      ],
      "execution_count": 0,
      "outputs": [
        {
          "output_type": "stream",
          "text": [
            "Test Precision: 94.12%, AUC: 0.851, Accuracy: 81.72%\n"
          ],
          "name": "stdout"
        }
      ]
    },
    {
      "cell_type": "code",
      "metadata": {
        "colab_type": "code",
        "id": "5IRERgy6HbVm",
        "outputId": "51d254d3-667f-4b7e-9c67-8070f0f361e0",
        "colab": {
          "base_uri": "https://localhost:8080/",
          "height": 283
        }
      },
      "source": [
        "# calculate roc curve\n",
        "fpr, tpr, thresholds = roc_curve(y_true, prob)\n",
        "# plot no skill\n",
        "plt.plot([0, 1], [0, 1], linestyle='--')\n",
        "# plot the roc curve for the model\n",
        "plt.ylabel('TPR')\n",
        "plt.xlabel('FPR')\n",
        "plt.plot(fpr, tpr, marker='.')\n",
        "plt.savefig('drive/My Drive/Resultado/Segmentado/Teste-ROC_CURVE-' + architecture + '.png', bbox_inches='tight')"
      ],
      "execution_count": 0,
      "outputs": [
        {
          "output_type": "display_data",
          "data": {
            "image/png": "[encoded data removed]",
            "text/plain": [
              "<Figure size 432x288 with 1 Axes>"
            ]
          },
          "metadata": {
            "tags": []
          }
        }
      ]
    },
    {
      "cell_type": "markdown",
      "metadata": {
        "colab_type": "text",
        "id": "ZLf5Iy65O7cO"
      },
      "source": [
        "### Arquitetura 16 - Binarizado 3"
      ]
    },
    {
      "cell_type": "code",
      "metadata": {
        "colab_type": "code",
        "id": "A9cws1mgO7cA",
        "colab": {}
      },
      "source": [
        "architecture = 'architecture_16_segmentado3'"
      ],
      "execution_count": 0,
      "outputs": []
    },
    {
      "cell_type": "code",
      "metadata": {
        "colab_type": "code",
        "id": "XoyA-LROO7b3",
        "colab": {}
      },
      "source": [
        "test_path = 'drive/My Drive/Base_CNN/Binarizado3/Test'"
      ],
      "execution_count": 0,
      "outputs": []
    },
    {
      "cell_type": "markdown",
      "metadata": {
        "colab_type": "text",
        "id": "YT2j53PkO7b2"
      },
      "source": [
        "#### Treino"
      ]
    },
    {
      "cell_type": "code",
      "metadata": {
        "colab_type": "code",
        "id": "QOMSTXL_O7bv",
        "colab": {}
      },
      "source": [
        "c_images_train, c_areas_train = load_data('drive/My Drive/Base_CNN/Binarizado3/Train/C',\n",
        "                                          data_df, filetype='tif', size=(120, 120))\n",
        "nc_images_train, nc_areas_train = load_data('drive/My Drive/Base_CNN/Binarizado3/Train/NC',\n",
        "                                            data_df, filetype='tif', size=(120, 120))\n",
        "\n",
        "c_images_validation, c_areas_validation = load_data('drive/My Drive/Base_CNN/Binarizado3/Validation/C',\n",
        "                                                    data_df, filetype='tif', size=(120, 120))\n",
        "nc_images_validation, nc_areas_validation = load_data('drive/My Drive/Base_CNN/Binarizado3/Validation/NC',\n",
        "                                                      data_df, filetype='tif', size=(120, 120))"
      ],
      "execution_count": 0,
      "outputs": []
    },
    {
      "cell_type": "code",
      "metadata": {
        "colab_type": "code",
        "id": "la3iNWEPO7bn",
        "colab": {}
      },
      "source": [
        "images_train, areas_train, labels_train = prepare_data(\n",
        "    c_images_train, nc_images_train, c_areas_train, nc_areas_train,\n",
        "    normalization_method=3, return_y=True\n",
        ")\n",
        "\n",
        "images_validation, areas_validation, labels_validation = prepare_data(\n",
        "    c_images_validation, nc_images_validation, c_areas_validation, nc_areas_validation,\n",
        "    normalization_method=3, return_y=True\n",
        ")"
      ],
      "execution_count": 0,
      "outputs": []
    },
    {
      "cell_type": "code",
      "metadata": {
        "colab_type": "code",
        "id": "KmAabxiWO7bh",
        "colab": {}
      },
      "source": [
        "model = train_model(\n",
        "    model_builder=model_14, weights_path_format='drive/My Drive/Resultado/Segmentado/'\n",
        "                                                 + architecture + '.hdf5',\n",
        "    x=[images_train, areas_train], y=labels_train, batch_size=32, epochs=50,\n",
        "    validation_data=([images_validation, areas_validation], labels_validation)\n",
        ")"
      ],
      "execution_count": 0,
      "outputs": []
    },
    {
      "cell_type": "markdown",
      "metadata": {
        "colab_type": "text",
        "id": "O410h-maO7be"
      },
      "source": [
        "#### Teste - Test Precision: 19.69%, AUC: 0.808, Accuracy: 19.98%"
      ]
    },
    {
      "cell_type": "code",
      "metadata": {
        "colab_type": "code",
        "id": "DuTUdMZCHgrf",
        "outputId": "381607c5-5284-4257-ad67-fb91bbf8d498",
        "colab": {
          "base_uri": "https://localhost:8080/",
          "height": 105
        }
      },
      "source": [
        "y_true, y_predict, prob = ler_images_teste(architecture)"
      ],
      "execution_count": 0,
      "outputs": [
        {
          "output_type": "stream",
          "text": [
            "/usr/local/lib/python3.6/dist-packages/skimage/transform/_warps.py:105: UserWarning: The default mode, 'constant', will be changed to 'reflect' in skimage 0.15.\n",
            "  warn(\"The default mode, 'constant', will be changed to 'reflect' in \"\n",
            "/usr/local/lib/python3.6/dist-packages/skimage/transform/_warps.py:110: UserWarning: Anti-aliasing will be enabled by default in skimage 0.15 to avoid aliasing artifacts when down-sampling images.\n",
            "  warn(\"Anti-aliasing will be enabled by default in skimage 0.15 to \"\n"
          ],
          "name": "stderr"
        }
      ]
    },
    {
      "cell_type": "code",
      "metadata": {
        "colab_type": "code",
        "id": "TYV1eDn3Hgri",
        "outputId": "e7b2313f-7a7a-4291-8d71-f0101c3d6930",
        "colab": {
          "base_uri": "https://localhost:8080/",
          "height": 34
        }
      },
      "source": [
        "results[architecture] = [precision_score(y_true, y_predict, average='binary'),\n",
        "                         roc_auc_score(y_true, prob),\n",
        "                         accuracy_score(y_true, y_predict)]\n",
        "print('Test Precision: {:.2f}%, AUC: {:.3f}, Accuracy: {:.2f}%'\n",
        "      .format(100 * results[architecture][0], \n",
        "              results[architecture][1],\n",
        "              100 * results[architecture][2]))"
      ],
      "execution_count": 0,
      "outputs": [
        {
          "output_type": "stream",
          "text": [
            "Test Precision: 19.69%, AUC: 0.808, Accuracy: 19.98%\n"
          ],
          "name": "stdout"
        }
      ]
    },
    {
      "cell_type": "code",
      "metadata": {
        "colab_type": "code",
        "id": "DicV9AjNHgrl",
        "outputId": "5266b957-68b3-494c-aafd-6d6014c95110",
        "colab": {
          "base_uri": "https://localhost:8080/",
          "height": 283
        }
      },
      "source": [
        "# calculate roc curve\n",
        "fpr, tpr, thresholds = roc_curve(y_true, prob)\n",
        "# plot no skill\n",
        "plt.plot([0, 1], [0, 1], linestyle='--')\n",
        "# plot the roc curve for the model\n",
        "plt.ylabel('TPR')\n",
        "plt.xlabel('FPR')\n",
        "plt.plot(fpr, tpr, marker='.')\n",
        "plt.savefig('drive/My Drive/Resultado/Segmentado/Teste-ROC_CURVE-' + architecture + '.png', bbox_inches='tight')"
      ],
      "execution_count": 0,
      "outputs": [
        {
          "output_type": "display_data",
          "data": {
            "image/png": "[encoded data removed]",
            "text/plain": [
              "<Figure size 432x288 with 1 Axes>"
            ]
          },
          "metadata": {
            "tags": []
          }
        }
      ]
    }
  ]
}