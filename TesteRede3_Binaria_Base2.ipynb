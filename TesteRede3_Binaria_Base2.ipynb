{
  "nbformat": 4,
  "nbformat_minor": 0,
  "metadata": {
    "colab": {
      "name": "TesteRede3_Binaria_Base2.ipynb",
      "version": "0.3.2",
      "provenance": [],
      "include_colab_link": true
    },
    "kernelspec": {
      "name": "python3",
      "display_name": "Python 3"
    },
    "accelerator": "GPU"
  },
  "cells": [
    {
      "cell_type": "markdown",
      "metadata": {
        "id": "view-in-github",
        "colab_type": "text"
      },
      "source": [
        "<a href=\"https://colab.research.google.com/github/FernandaSzAdr/KNN_cromossome/blob/master/TesteRede3_Binaria_Base2.ipynb\" target=\"_parent\"><img src=\"https://colab.research.google.com/assets/colab-badge.svg\" alt=\"Open In Colab\"/></a>"
      ]
    },
    {
      "metadata": {
        "id": "xN-oUTtcif3Q",
        "colab_type": "code",
        "colab": {
          "base_uri": "https://localhost:8080/",
          "height": 35
        },
        "outputId": "2ff834a5-5c98-4038-9289-fd318871f67c"
      },
      "cell_type": "code",
      "source": [
        "# Load the Drive helper and mount\n",
        "from google.colab import drive\n",
        "\n",
        "# This will prompt for authorization.\n",
        "drive.mount('/content/drive/')"
      ],
      "execution_count": 1,
      "outputs": [
        {
          "output_type": "stream",
          "text": [
            "Drive already mounted at /content/drive/; to attempt to forcibly remount, call drive.mount(\"/content/drive/\", force_remount=True).\n"
          ],
          "name": "stdout"
        }
      ]
    },
    {
      "metadata": {
        "id": "w6ISJXHD4N4K",
        "colab_type": "text"
      },
      "cell_type": "markdown",
      "source": [
        "\n",
        "\n",
        "---\n",
        "\n"
      ]
    },
    {
      "metadata": {
        "id": "gzcuEGSklnwS",
        "colab_type": "code",
        "outputId": "93c884af-f0c9-4354-fbb2-dced902c4663",
        "colab": {
          "base_uri": "https://localhost:8080/",
          "height": 54
        }
      },
      "cell_type": "code",
      "source": [
        "import os\n",
        "import csv\n",
        "!pip install imutils\n",
        "import imutils\n",
        "from skimage import transform\n",
        "import numpy as np\n",
        "import keras\n",
        "from keras.regularizers import l2\n",
        "from keras import backend as K\n",
        "from keras.models import Sequential, Model\n",
        "from keras.layers import Activation, concatenate, Input, Conv2D\n",
        "from keras.layers import MaxPooling2D, GlobalMaxPooling2D\n",
        "from keras.optimizers import SGD\n",
        "from keras.layers.core import Dense, Flatten, Dropout\n",
        "from keras.preprocessing.image import ImageDataGenerator\n",
        "from keras.layers.normalization import BatchNormalization\n",
        "from keras.layers.convolutional import *\n",
        "from keras.callbacks import ModelCheckpoint\n",
        "from matplotlib import pyplot as plt\n",
        "from sklearn.metrics import confusion_matrix\n",
        "from sklearn.metrics import recall_score\n",
        "from sklearn.metrics import precision_score\n",
        "import itertools\n",
        "import matplotlib.pyplot as plt"
      ],
      "execution_count": 2,
      "outputs": [
        {
          "output_type": "stream",
          "text": [
            "Requirement already satisfied: imutils in /usr/local/lib/python3.6/dist-packages (0.5.2)\n"
          ],
          "name": "stdout"
        },
        {
          "output_type": "stream",
          "text": [
            "Using TensorFlow backend.\n"
          ],
          "name": "stderr"
        }
      ]
    },
    {
      "metadata": {
        "id": "CBvSHus84he5",
        "colab_type": "text"
      },
      "cell_type": "markdown",
      "source": [
        "\n",
        "\n",
        "---\n",
        "\n"
      ]
    },
    {
      "metadata": {
        "id": "6OJNLei2iBLQ",
        "colab_type": "text"
      },
      "cell_type": "markdown",
      "source": [
        "## Obtenção de dados estruturais"
      ]
    },
    {
      "metadata": {
        "id": "9OJjBpFIoJMM",
        "colab_type": "text"
      },
      "cell_type": "markdown",
      "source": [
        "**Links interessantes:**\n",
        "\n",
        "*   https://opencv-python-tutroals.readthedocs.io/en/latest/py_tutorials/py_imgproc/py_contours/py_contours_more_functions/py_contours_more_functions.html\n",
        "*   https://opencv-python-tutroals.readthedocs.io/en/latest/py_tutorials/py_imgproc/py_contours/py_contour_properties/py_contour_properties.html\n",
        "*   https://opencv-python-tutroals.readthedocs.io/en/latest/py_tutorials/py_imgproc/py_contours/py_contour_features/py_contour_features.html\n",
        "*   https://docs.python.org/3/library/pickle.html\n",
        "*   https://stackoverflow.com/questions/48456900/how-can-i-pickle-a-python-object-into-a-csv-file\n",
        "\n",
        "\n",
        "\n"
      ]
    },
    {
      "metadata": {
        "id": "rsBOyNnWhva1",
        "colab_type": "code",
        "colab": {}
      },
      "cell_type": "code",
      "source": [
        "def reformatar_vetor(images):\n",
        "  saida = []\n",
        "  for image in images:\n",
        "    arquivo = image.split('/')[1]\n",
        "    saida.append(arquivo)\n",
        "    \n",
        "  return saida"
      ],
      "execution_count": 0,
      "outputs": []
    },
    {
      "metadata": {
        "id": "7ztVNfkYqr0N",
        "colab_type": "code",
        "colab": {}
      },
      "cell_type": "code",
      "source": [
        "def normalizar(vetor):\n",
        "  saida = []\n",
        "  for item in vetor:\n",
        "    valor = (item-min(vetor))/(max(vetor)-min(vetor))\n",
        "    \n",
        "    saida.append(valor)\n",
        "  \n",
        "  return saida\n",
        "  "
      ],
      "execution_count": 0,
      "outputs": []
    },
    {
      "metadata": {
        "id": "Xr-Tv0s7t2Sk",
        "colab_type": "code",
        "colab": {}
      },
      "cell_type": "code",
      "source": [
        "def concatenar_vetores(areas, perimetros, aspect_ratios, extents, solidities):\n",
        "  informacoes = []\n",
        "  for i in range(len(areas)):\n",
        "    informacao = []\n",
        "    informacao.append(areas[i])\n",
        "    informacao.append(perimetros[i])\n",
        "    informacao.append(aspect_ratios[i])\n",
        "    informacao.append(extents[i])\n",
        "    informacao.append(solidities[i])\n",
        "    \n",
        "    informacoes.append(informacao)\n",
        "  \n",
        "  return informacoes"
      ],
      "execution_count": 0,
      "outputs": []
    },
    {
      "metadata": {
        "id": "uZPIn-rpiHqo",
        "colab_type": "code",
        "colab": {}
      },
      "cell_type": "code",
      "source": [
        "def pegar_informacoes_recortes(train_arq):  \n",
        "  f = open('drive/My Drive/Base_CNN/Binarizado2/posicoes_segmentada.csv', 'r')\n",
        "  \n",
        "  areas = []\n",
        "  perimetros = []\n",
        "  aspect_ratios = []\n",
        "  extents = []\n",
        "  solidities = []\n",
        "  \n",
        "  try:\n",
        "    leitor = csv.reader(f)\n",
        "    leitor = list(leitor)\n",
        "    leitor.pop(0)\n",
        "\n",
        "    for linha in leitor:\n",
        "      if len(linha) > 0:\n",
        "        arquivo = linha[2]\n",
        "        arquivo = arquivo + '.tif'\n",
        "        \n",
        "        if arquivo in train_arq:\n",
        "          area = float(linha[7])\n",
        "          areas.append(area)\n",
        "          \n",
        "          perimetro = float(linha[8])\n",
        "          perimetros.append(perimetro)\n",
        "          \n",
        "          aspect_ratio = float(linha[9])\n",
        "          aspect_ratios.append(aspect_ratio)\n",
        "          \n",
        "          extent = float(linha[10])\n",
        "          extents.append(extent)\n",
        "          \n",
        "          solidity = float(linha[11])\n",
        "          solidities.append(solidity)\n",
        "          \n",
        "  finally:\n",
        "    f.close()\n",
        "  \n",
        "  areas = normalizar(areas)\n",
        "  perimetros = normalizar(perimetros)\n",
        "  aspect_ratios = normalizar(aspect_ratios)\n",
        "  extents = normalizar(extents)\n",
        "  solidities = normalizar(solidities)\n",
        " \n",
        "  return concatenar_vetores(areas, perimetros, aspect_ratios, extents, solidities)"
      ],
      "execution_count": 0,
      "outputs": []
    },
    {
      "metadata": {
        "id": "6wA_R_Dc4k1P",
        "colab_type": "text"
      },
      "cell_type": "markdown",
      "source": [
        "## Funções"
      ]
    },
    {
      "metadata": {
        "id": "e835RSQgEgA6",
        "colab_type": "code",
        "colab": {}
      },
      "cell_type": "code",
      "source": [
        "def converte(regiao):\n",
        "   regiao = np.array(regiao).astype('float32')/255\n",
        "   regiao = transform.resize(regiao, (120, 120, 3))\n",
        "   regiao = np.expand_dims(regiao, axis=0)\n",
        "   return regiao\n"
      ],
      "execution_count": 0,
      "outputs": []
    },
    {
      "metadata": {
        "id": "9ERJTQ3AgFJb",
        "colab_type": "code",
        "colab": {}
      },
      "cell_type": "code",
      "source": [
        "def ler_images_teste(arquiteture):\n",
        "  y_true = []\n",
        "  y_predict = []\n",
        "  images_test = os.listdir(test_path)\n",
        "  local = 'drive/My Drive/Base_CNN/Binarizado2/Resultado_Image_Rede3/' + arquiteture\n",
        "  if os.path.isdir(local) == False:\n",
        "    os.mkdir(local)\n",
        "  \n",
        "  for img in images_test:\n",
        "    # Pega cada imagem separadamente do folder de teste\n",
        "    image = cv2.imread(test_path + '/' + img)\n",
        "    image = imutils.resize(image, width=1000)\n",
        "    f = open('drive/My Drive/Base_CNN/Binarizado2/posicoes_segmentada.csv', 'r')\n",
        "    \n",
        "    copia = image.copy()\n",
        "\n",
        "    try:\n",
        "      leitor = csv.reader(f)\n",
        "      leitor = list(leitor)\n",
        "      leitor.pop(0)\n",
        "      for linha in leitor:\n",
        "        if len(linha) > 0:\n",
        "          # Para cada região dessa imagem:\n",
        "          if linha[0] == img:\n",
        "            posicoes = []\n",
        "            x = int(linha[3])\n",
        "            y = int(linha[4])\n",
        "            w = int(linha[5])\n",
        "            h = int(linha[6])\n",
        "            \n",
        "            # Label da região\n",
        "            label = linha[1]\n",
        "            if label == 'NC':\n",
        "              y_true.append(0)\n",
        "            else:\n",
        "              y_true.append(1)\n",
        "            \n",
        "            # Região\n",
        "            regiao = image[y: y + h, x: x + w]\n",
        "            regiao = converte(regiao)\n",
        "            \n",
        "            # Coloca a região na função e obtem o resultado\n",
        "            predicao = model.predict(regiao,batch_size=bSize,verbose=0)\n",
        "            print(predicao)\n",
        "            \n",
        "            # Se é um cromossomo:\n",
        "            if predicao[0][0] > 0.5:\n",
        "              y_predict.append(1)\n",
        "              cv2.rectangle(copia,(x, y),(x+w, y+h),(0,255,0), 1)\n",
        "            # Se não for um cromossomo:\n",
        "            else:\n",
        "              y_predict.append(0)\n",
        "              cv2.rectangle(copia,(x, y),(x+w, y+h),(0,0,255), 1)\n",
        "                        \n",
        "    finally:\n",
        "      f.close()\n",
        "    \n",
        "    img_nova = img.split('.tif')[0] + '.png'\n",
        "    cv2.imwrite(local + '/' + img_nova, copia)\n",
        "  \n",
        "  return y_true, y_predict\n"
      ],
      "execution_count": 0,
      "outputs": []
    },
    {
      "metadata": {
        "id": "WlPBqB_v3x2A",
        "colab_type": "text"
      },
      "cell_type": "markdown",
      "source": [
        "\n",
        "\n",
        "---\n",
        "\n"
      ]
    },
    {
      "metadata": {
        "id": "mUIsWtbr8PgH",
        "colab_type": "text"
      },
      "cell_type": "markdown",
      "source": [
        "## Modelos"
      ]
    },
    {
      "metadata": {
        "id": "dUBds5BoIdXT",
        "colab_type": "code",
        "colab": {}
      },
      "cell_type": "code",
      "source": [
        "def model_1():\n",
        "  input_image = Input(shape=(120, 120, 3))\n",
        "  input_dados = Input(shape=(5,))  # len(dados_recortes[0]) \n",
        "  \n",
        "  x = Conv2D(64, (3, 3))(input_image)\n",
        "  x = Activation('relu')(x)\n",
        "  x = Conv2D(64, (3, 3))(x)\n",
        "  x = Activation('relu')(x)\n",
        "  x = Dropout(0.2)(x)\n",
        "  x = MaxPooling2D((2, 2))(x)\n",
        "  \n",
        "  x = Conv2D(32, (3, 3))(x)\n",
        "  x = Activation('relu')(x)\n",
        "  x = Conv2D(32, (3, 3))(x)\n",
        "  x = Activation('relu')(x)\n",
        "  x = Dropout(0.2)(x)\n",
        "  x = MaxPooling2D((2, 2))(x)\n",
        "  \n",
        "  x = Conv2D(16, (3, 3))(x)\n",
        "  x = Activation('relu')(x)\n",
        "  x = Conv2D(16, (3, 3))(x)\n",
        "  x = Activation('relu')(x)\n",
        "  x = Dropout(0.2)(x)\n",
        "  x = MaxPooling2D((2, 2))(x)\n",
        "  \n",
        "  x = Conv2D(8, (3, 3))(x)\n",
        "  x = Activation('relu')(x)\n",
        "  x = Conv2D(8, (3, 3))(x)\n",
        "  x = Activation('relu')(x)\n",
        "  x = Dropout(0.2)(x)\n",
        "  x = MaxPooling2D((2, 2))(x)\n",
        "  \n",
        "  x = Flatten()(x)\n",
        "  x = concatenate([x, input_dados])\n",
        "  \n",
        "  x = Dense(1024)(x)\n",
        "  x = Activation('sigmoid')(x)\n",
        "  x = Dense(512)(x)\n",
        "  x = Activation('sigmoid')(x)\n",
        "  \n",
        "  output = Dense(2)(x)\n",
        "  output = Activation('softmax')(output)\n",
        "  \n",
        "  model = Model(inputs=[input_image, input_dados], outputs=[output])\n",
        "  \n",
        "  return model\n"
      ],
      "execution_count": 0,
      "outputs": []
    },
    {
      "metadata": {
        "colab_type": "code",
        "id": "iTG2TFqBqkXa",
        "colab": {}
      },
      "cell_type": "code",
      "source": [
        "def model_13():\n",
        "  input_image = Input(shape=(120, 120, 3))\n",
        "  input_dados = Input(shape=(5,))  # len(dados_recortes[0]) \n",
        "\n",
        "  x = Conv2D(32, (3, 3))(input_image)\n",
        "  x = Activation('relu')(x)\n",
        "  x = BatchNormalization()(x)\n",
        "  x = Dropout(0.25)(x)\n",
        "\n",
        "  x = Conv2D(64, (5, 5))(x)\n",
        "  x = Activation('relu')(x)\n",
        "  x = MaxPooling2D(2, 2)(x)\n",
        "  x = BatchNormalization()(x)\n",
        "  x = Dropout(0.25)(x)\n",
        "\n",
        "  x = Conv2D(128, (7, 7))(x)\n",
        "  x = Activation('relu')(x)\n",
        "  x = MaxPooling2D(2, 2)(x)\n",
        "  x = BatchNormalization()(x)\n",
        "  x = Dropout(0.25)(x)\n",
        "\n",
        "  x = Conv2D(128, (1,1))(x)\n",
        "  x = GlobalMaxPooling2D()(x)\n",
        "\n",
        "  x = Flatten()(x)\n",
        "  x = concatenate([x, input_dados])\n",
        "\n",
        "  x = Dense(256)(x)\n",
        "  x = Activation('relu')(x)\n",
        "  x = Dropout(0.5)(x)\n",
        "\n",
        "  output = Dense(2)(x)\n",
        "  output = Activation('sigmoid')(output)\n",
        "\n",
        "  model = Model(inputs=[input_image, input_dados], outputs=[output])\n",
        "  \n",
        "  return model"
      ],
      "execution_count": 0,
      "outputs": []
    },
    {
      "metadata": {
        "id": "8KTtm8K7qg1n",
        "colab_type": "text"
      },
      "cell_type": "markdown",
      "source": [
        "# Implementação"
      ]
    },
    {
      "metadata": {
        "id": "AUzRQ1CrBDKE",
        "colab_type": "text"
      },
      "cell_type": "markdown",
      "source": [
        "## Variaveis globais"
      ]
    },
    {
      "metadata": {
        "id": "ZNfohSUpo1n0",
        "colab_type": "text"
      },
      "cell_type": "markdown",
      "source": [
        "\n",
        "\n",
        "*   Batch size = 32\n",
        "*   Image size = 120x120\n",
        "\n"
      ]
    },
    {
      "metadata": {
        "id": "ITtEfxrilym7",
        "colab_type": "code",
        "colab": {}
      },
      "cell_type": "code",
      "source": [
        "train_path = 'drive/My Drive/Base_CNN/Binarizado3/Train'\n",
        "test_path = 'drive/My Drive/Base_CNN/Binarizado3/Test'\n",
        "validation_path = 'drive/My Drive/Base_CNN/Binarizado3/Validation'"
      ],
      "execution_count": 0,
      "outputs": []
    },
    {
      "metadata": {
        "id": "_TFWtLbQ2fUI",
        "colab_type": "code",
        "colab": {}
      },
      "cell_type": "code",
      "source": [
        "results = {}"
      ],
      "execution_count": 0,
      "outputs": []
    },
    {
      "metadata": {
        "id": "W3zmFDRmnYem",
        "colab_type": "code",
        "colab": {}
      },
      "cell_type": "code",
      "source": [
        "bSize = 32"
      ],
      "execution_count": 0,
      "outputs": []
    },
    {
      "metadata": {
        "id": "dCNH0jPl3WTV",
        "colab_type": "code",
        "colab": {}
      },
      "cell_type": "code",
      "source": [
        "datagen = ImageDataGenerator(featurewise_center=True,\n",
        "                                  featurewise_std_normalization=True)"
      ],
      "execution_count": 0,
      "outputs": []
    },
    {
      "metadata": {
        "id": "YiMXe23Vmbo-",
        "colab_type": "code",
        "outputId": "b778b0dc-2056-4f98-d458-f9ab678ae3eb",
        "colab": {
          "base_uri": "https://localhost:8080/",
          "height": 0
        }
      },
      "cell_type": "code",
      "source": [
        "train_batches = datagen.flow_from_directory(train_path, target_size=(120, 120), \n",
        "                                            classes=['NC', 'C'], \n",
        "                                            batch_size=bSize)\n",
        "validation_batches = datagen.flow_from_directory(validation_path, \n",
        "                                                 target_size=(120, 120), \n",
        "                                                 classes=['NC', 'C'], \n",
        "                                                 batch_size=bSize)"
      ],
      "execution_count": 15,
      "outputs": [
        {
          "output_type": "stream",
          "text": [
            "Found 4230 images belonging to 2 classes.\n",
            "Found 1100 images belonging to 2 classes.\n"
          ],
          "name": "stdout"
        }
      ]
    },
    {
      "metadata": {
        "id": "j5dNuD0yjqu0",
        "colab_type": "code",
        "colab": {}
      },
      "cell_type": "code",
      "source": [
        "train_arq = reformatar_vetor(train_batches.filenames)"
      ],
      "execution_count": 0,
      "outputs": []
    },
    {
      "metadata": {
        "id": "L2t2ryJI9M9I",
        "colab_type": "code",
        "colab": {}
      },
      "cell_type": "code",
      "source": [
        "valid_arq = reformatar_vetor(validation_batches.filenames)"
      ],
      "execution_count": 0,
      "outputs": []
    },
    {
      "metadata": {
        "id": "H7N9ZvMPFRLc",
        "colab_type": "code",
        "colab": {}
      },
      "cell_type": "code",
      "source": [
        "dados_recortes_train = pegar_informacoes_recortes(train_arq)"
      ],
      "execution_count": 0,
      "outputs": []
    },
    {
      "metadata": {
        "id": "9xfOkySD9R77",
        "colab_type": "code",
        "colab": {}
      },
      "cell_type": "code",
      "source": [
        "dados_recortes_valid = pegar_informacoes_recortes(valid_arq)"
      ],
      "execution_count": 0,
      "outputs": []
    },
    {
      "metadata": {
        "id": "vE-dZtSv5mde",
        "colab_type": "code",
        "colab": {}
      },
      "cell_type": "code",
      "source": [
        "stepsPerEpoche = len(train_batches)/bSize\n",
        "validationSteps = len(validation_batches)/bSize"
      ],
      "execution_count": 0,
      "outputs": []
    },
    {
      "metadata": {
        "id": "pOQMFxK5VUPa",
        "colab_type": "code",
        "outputId": "7cbbabf2-8c4d-4c24-ce51-7229cc729b11",
        "colab": {
          "base_uri": "https://localhost:8080/",
          "height": 0
        }
      },
      "cell_type": "code",
      "source": [
        "train_batches.class_indices"
      ],
      "execution_count": 21,
      "outputs": [
        {
          "output_type": "execute_result",
          "data": {
            "text/plain": [
              "{'C': 1, 'NC': 0}"
            ]
          },
          "metadata": {
            "tags": []
          },
          "execution_count": 21
        }
      ]
    },
    {
      "metadata": {
        "id": "tY7Fxpczz0wk",
        "colab_type": "text"
      },
      "cell_type": "markdown",
      "source": [
        "\n",
        "\n",
        "---\n",
        "\n"
      ]
    },
    {
      "metadata": {
        "id": "wH56YdE5rlnU",
        "colab_type": "text"
      },
      "cell_type": "markdown",
      "source": [
        "## 1 tentativa \n"
      ]
    },
    {
      "metadata": {
        "id": "NBCIFVOlompR",
        "colab_type": "text"
      },
      "cell_type": "markdown",
      "source": [
        "**Descrição**\n",
        "\n",
        "\n",
        "*   Modelo descrito no artigo \"Crowdsourcing for Chromosome Segmentation and Deep Classification\"\n",
        "\n"
      ]
    },
    {
      "metadata": {
        "id": "iclhpyXmi_DU",
        "colab_type": "code",
        "colab": {}
      },
      "cell_type": "code",
      "source": [
        "architecture = 'architecture_1'"
      ],
      "execution_count": 0,
      "outputs": []
    },
    {
      "metadata": {
        "id": "IU71NY-9AzSi",
        "colab_type": "text"
      },
      "cell_type": "markdown",
      "source": [
        "### Modelo"
      ]
    },
    {
      "metadata": {
        "colab_type": "code",
        "id": "YgZwVsaKKduV",
        "colab": {}
      },
      "cell_type": "code",
      "source": [
        "model = model_1()"
      ],
      "execution_count": 0,
      "outputs": []
    },
    {
      "metadata": {
        "id": "UBqwdK2Bxagj",
        "colab_type": "code",
        "colab": {}
      },
      "cell_type": "code",
      "source": [
        "model.compile(SGD(lr=0.01, momentum=0.0, decay=0.0, nesterov=False), \n",
        "              loss='binary_crossentropy', metrics=['accuracy'])"
      ],
      "execution_count": 0,
      "outputs": []
    },
    {
      "metadata": {
        "id": "UgIWX7xyBKIz",
        "colab_type": "text"
      },
      "cell_type": "markdown",
      "source": [
        "### Treino\n"
      ]
    },
    {
      "metadata": {
        "colab_type": "code",
        "id": "LqOsSip-k_v7",
        "colab": {}
      },
      "cell_type": "code",
      "source": [
        "checkpointer = ModelCheckpoint(filepath='drive/My Drive/Resultado2/Segmentado/weights_' + architecture + '.hdf5', verbose=1, save_best_only=True)"
      ],
      "execution_count": 0,
      "outputs": []
    },
    {
      "metadata": {
        "id": "GdSb360QLMz8",
        "colab_type": "code",
        "outputId": "596ed980-912a-44d1-d82a-80e661ba1ee8",
        "colab": {
          "base_uri": "https://localhost:8080/",
          "height": 35
        }
      },
      "cell_type": "code",
      "source": [
        "len(train_batches), len(dados_recortes_train)"
      ],
      "execution_count": 0,
      "outputs": [
        {
          "output_type": "execute_result",
          "data": {
            "text/plain": [
              "(133, 4230)"
            ]
          },
          "metadata": {
            "tags": []
          },
          "execution_count": 37
        }
      ]
    },
    {
      "metadata": {
        "id": "PeyX7Mzf5lDw",
        "colab_type": "code",
        "colab": {}
      },
      "cell_type": "code",
      "source": [
        "training = model.fit([train_batches, dados_recortes_train], steps_per_epoch=stepsPerEpoche, \n",
        "                     epochs=50, verbose=2, callbacks=[checkpointer])"
      ],
      "execution_count": 0,
      "outputs": []
    },
    {
      "metadata": {
        "id": "c1LR04eV6AJ5",
        "colab_type": "code",
        "colab": {}
      },
      "cell_type": "code",
      "source": [
        "model.load_weights('drive/My Drive/Resultado2/Segmentado/weights_' + architecture + '.hdf5')"
      ],
      "execution_count": 0,
      "outputs": []
    },
    {
      "metadata": {
        "id": "VeLCe59ltne5",
        "colab_type": "code",
        "colab": {}
      },
      "cell_type": "code",
      "source": [
        "# plotar loss e accuracy para os datasets 'train' e 'test'\n",
        "plt.style.use(\"ggplot\")\n",
        "plt.figure()\n",
        "plt.plot(training.history['acc'], label='Accuracy')\n",
        "plt.plot(training.history['loss'], label='Loss')\n",
        "plt.xlabel('Epochs')\n",
        "plt.ylabel('Accuracy')\n",
        "plt.title(\"Training Loss and Accuracy\")\n",
        "plt.ylabel(\"Loss/Accuracy\")\n",
        "plt.legend()\n",
        "plt.savefig('drive/My Drive/Resultado2/Segmentado/' + architecture + '.png', bbox_inches='tight')"
      ],
      "execution_count": 0,
      "outputs": []
    },
    {
      "metadata": {
        "id": "jc5jL0cxCu5y",
        "colab_type": "text"
      },
      "cell_type": "markdown",
      "source": [
        "### Teste"
      ]
    },
    {
      "metadata": {
        "id": "CuxP4w361rkP",
        "colab_type": "code",
        "colab": {}
      },
      "cell_type": "code",
      "source": [
        "y_true, y_predict = ler_images_teste(architecture)"
      ],
      "execution_count": 0,
      "outputs": []
    },
    {
      "metadata": {
        "id": "Juqn8SXr0VvZ",
        "colab_type": "code",
        "colab": {}
      },
      "cell_type": "code",
      "source": [
        "results[architecture] = precision_score(y_true, y_predict, average='binary')\n",
        "print('Test Precision: {:.2f}%'\n",
        "      .format(100 * results[architecture]))"
      ],
      "execution_count": 0,
      "outputs": []
    },
    {
      "metadata": {
        "colab_type": "text",
        "id": "Un9HtbTIqkXS"
      },
      "cell_type": "markdown",
      "source": [
        "## 13 tentativa\n",
        "\n"
      ]
    },
    {
      "metadata": {
        "colab_type": "text",
        "id": "HNDvvOwsqkXW"
      },
      "cell_type": "markdown",
      "source": [
        "Modelo adaptado do **Lucas Valentim**\n",
        "\n",
        "*   Utilizado outra função de normalização, diferente da utilizada por ele."
      ]
    },
    {
      "metadata": {
        "colab_type": "code",
        "id": "_lp8G0SCqkXt",
        "colab": {}
      },
      "cell_type": "code",
      "source": [
        "architecture = 'architecture_13'"
      ],
      "execution_count": 0,
      "outputs": []
    },
    {
      "metadata": {
        "id": "5PdHZAGMEybs",
        "colab_type": "text"
      },
      "cell_type": "markdown",
      "source": [
        "### Modelo"
      ]
    },
    {
      "metadata": {
        "id": "sPlJtWHG8Kb3",
        "colab_type": "code",
        "colab": {}
      },
      "cell_type": "code",
      "source": [
        "model = model_13()"
      ],
      "execution_count": 0,
      "outputs": []
    },
    {
      "metadata": {
        "colab_type": "code",
        "id": "xbd43caBqkXj",
        "colab": {}
      },
      "cell_type": "code",
      "source": [
        "model.compile(optimizer='adam', loss='binary_crossentropy', metrics=['accuracy'])"
      ],
      "execution_count": 0,
      "outputs": []
    },
    {
      "metadata": {
        "colab_type": "text",
        "id": "gv0ARJgIFvx4"
      },
      "cell_type": "markdown",
      "source": [
        "### Treino\n"
      ]
    },
    {
      "metadata": {
        "colab_type": "code",
        "id": "uUGas3ZsFvx7",
        "colab": {}
      },
      "cell_type": "code",
      "source": [
        "checkpointer = ModelCheckpoint(filepath='drive/My Drive/Resultado2/Segmentado/weights_' + architecture + '.hdf5', verbose=1, save_best_only=True)"
      ],
      "execution_count": 0,
      "outputs": []
    },
    {
      "metadata": {
        "id": "M-kadXT-8x2U",
        "colab_type": "code",
        "colab": {}
      },
      "cell_type": "code",
      "source": [
        "training = model.fit([train_batches, dados_recortes_train], steps_per_epoch=stepsPerEpoche, \n",
        "                     epochs=50, verbose=2, callbacks=[checkpointer])"
      ],
      "execution_count": 0,
      "outputs": []
    },
    {
      "metadata": {
        "colab_type": "code",
        "id": "TvM1WKi8FvyL",
        "colab": {}
      },
      "cell_type": "code",
      "source": [
        "model.load_weights('drive/My Drive/Resultado2/Segmentado/weights_' + architecture + '.hdf5')"
      ],
      "execution_count": 0,
      "outputs": []
    },
    {
      "metadata": {
        "colab_type": "code",
        "id": "Irgg00QxFvyZ",
        "colab": {}
      },
      "cell_type": "code",
      "source": [
        "# plotar loss e accuracy para os datasets 'train' e 'test'\n",
        "plt.style.use(\"ggplot\")\n",
        "plt.figure()\n",
        "plt.plot(training.history['acc'], label='Accuracy')\n",
        "plt.plot(training.history['loss'], label='Loss')\n",
        "plt.xlabel('Epochs')\n",
        "plt.ylabel('Accuracy')\n",
        "plt.title(\"Training Loss and Accuracy\")\n",
        "plt.ylabel(\"Loss/Accuracy\")\n",
        "plt.legend()\n",
        "plt.savefig('drive/My Drive/Resultado2/Segmentado/' + architecture + '.png', bbox_inches='tight')"
      ],
      "execution_count": 0,
      "outputs": []
    },
    {
      "metadata": {
        "colab_type": "text",
        "id": "UR_S-EfFFvyd"
      },
      "cell_type": "markdown",
      "source": [
        "### Teste"
      ]
    },
    {
      "metadata": {
        "colab_type": "code",
        "id": "LyYK2QuwFvye",
        "colab": {}
      },
      "cell_type": "code",
      "source": [
        "y_true, y_predict = ler_images_teste(architecture)"
      ],
      "execution_count": 0,
      "outputs": []
    },
    {
      "metadata": {
        "colab_type": "code",
        "id": "iWvwoq2KFvyk",
        "colab": {}
      },
      "cell_type": "code",
      "source": [
        "results[architecture] = precision_score(y_true, y_predict, average='binary')\n",
        "print('Test Precision: {:.2f}%'\n",
        "      .format(100 * results[architecture]))"
      ],
      "execution_count": 0,
      "outputs": []
    }
  ]
}