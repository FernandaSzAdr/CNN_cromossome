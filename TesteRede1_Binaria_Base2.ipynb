{
  "nbformat": 4,
  "nbformat_minor": 0,
  "metadata": {
    "colab": {
      "name": "TesteRede1_Binaria_Base2.ipynb",
      "version": "0.3.2",
      "provenance": [],
      "toc_visible": true,
      "include_colab_link": true
    },
    "kernelspec": {
      "name": "python3",
      "display_name": "Python 3"
    },
    "accelerator": "GPU"
  },
  "cells": [
    {
      "cell_type": "markdown",
      "metadata": {
        "id": "view-in-github",
        "colab_type": "text"
      },
      "source": [
        "<a href=\"https://colab.research.google.com/github/FernandaSzAdr/KNN_cromossome/blob/master/TesteRede1_Binaria_Base2.ipynb\" target=\"_parent\"><img src=\"https://colab.research.google.com/assets/colab-badge.svg\" alt=\"Open In Colab\"/></a>"
      ]
    },
    {
      "metadata": {
        "id": "xN-oUTtcif3Q",
        "colab_type": "code",
        "outputId": "4b860fc3-07e3-49fa-b293-ae51d33e1485",
        "colab": {
          "base_uri": "https://localhost:8080/",
          "height": 129
        }
      },
      "cell_type": "code",
      "source": [
        "# Load the Drive helper and mount\n",
        "from google.colab import drive\n",
        "\n",
        "# This will prompt for authorization.\n",
        "drive.mount('/content/drive/')"
      ],
      "execution_count": 1,
      "outputs": [
        {
          "output_type": "stream",
          "text": [
            "Go to this URL in a browser: https://accounts.google.com/o/oauth2/auth?client_id=947318989803-6bn6qk8qdgf4n4g3pfee6491hc0brc4i.apps.googleusercontent.com&redirect_uri=urn%3Aietf%3Awg%3Aoauth%3A2.0%3Aoob&scope=email%20https%3A%2F%2Fwww.googleapis.com%2Fauth%2Fdocs.test%20https%3A%2F%2Fwww.googleapis.com%2Fauth%2Fdrive%20https%3A%2F%2Fwww.googleapis.com%2Fauth%2Fdrive.photos.readonly%20https%3A%2F%2Fwww.googleapis.com%2Fauth%2Fpeopleapi.readonly&response_type=code\n",
            "\n",
            "Enter your authorization code:\n",
            "··········\n",
            "Mounted at /content/drive/\n"
          ],
          "name": "stdout"
        }
      ]
    },
    {
      "metadata": {
        "id": "gzcuEGSklnwS",
        "colab_type": "code",
        "outputId": "8259328c-c3d0-49b4-991f-497db0432975",
        "colab": {
          "base_uri": "https://localhost:8080/",
          "height": 35
        }
      },
      "cell_type": "code",
      "source": [
        "import numpy as np\n",
        "import keras\n",
        "from keras import backend as K\n",
        "from keras.models import Sequential\n",
        "from keras.layers import Activation\n",
        "from keras.optimizers import SGD\n",
        "from keras.layers.core import Dense, Flatten, Dropout\n",
        "from keras.preprocessing.image import ImageDataGenerator\n",
        "from keras.layers.normalization import BatchNormalization\n",
        "from keras.layers.convolutional import *\n",
        "from keras.callbacks import ModelCheckpoint\n",
        "from matplotlib import pyplot as plt\n",
        "from sklearn.metrics import confusion_matrix\n",
        "import itertools\n",
        "import matplotlib.pyplot as plt"
      ],
      "execution_count": 2,
      "outputs": [
        {
          "output_type": "stream",
          "text": [
            "Using TensorFlow backend.\n"
          ],
          "name": "stderr"
        }
      ]
    },
    {
      "metadata": {
        "id": "ITtEfxrilym7",
        "colab_type": "code",
        "colab": {}
      },
      "cell_type": "code",
      "source": [
        "train_path = 'drive/My Drive/Base_CNN/Binarizado2/Train'\n",
        "test_path = 'drive/My Drive/Base_CNN/Binarizado2/Test'\n",
        "validation_path = 'drive/My Drive/Base_CNN/Binarizado2/Validation'"
      ],
      "execution_count": 0,
      "outputs": []
    },
    {
      "metadata": {
        "id": "WlPBqB_v3x2A",
        "colab_type": "text"
      },
      "cell_type": "markdown",
      "source": [
        "\n",
        "\n",
        "---\n",
        "\n"
      ]
    },
    {
      "metadata": {
        "id": "8KTtm8K7qg1n",
        "colab_type": "text"
      },
      "cell_type": "markdown",
      "source": [
        "## Implementação"
      ]
    },
    {
      "metadata": {
        "id": "ZNfohSUpo1n0",
        "colab_type": "text"
      },
      "cell_type": "markdown",
      "source": [
        "\n",
        "\n",
        "*   Batch size = 32\n",
        "*   Image size = 120x120\n",
        "\n"
      ]
    },
    {
      "metadata": {
        "id": "_TFWtLbQ2fUI",
        "colab_type": "code",
        "colab": {}
      },
      "cell_type": "code",
      "source": [
        "results = {}"
      ],
      "execution_count": 0,
      "outputs": []
    },
    {
      "metadata": {
        "id": "W3zmFDRmnYem",
        "colab_type": "code",
        "colab": {}
      },
      "cell_type": "code",
      "source": [
        "bSize = 32"
      ],
      "execution_count": 0,
      "outputs": []
    },
    {
      "metadata": {
        "id": "dCNH0jPl3WTV",
        "colab_type": "code",
        "colab": {}
      },
      "cell_type": "code",
      "source": [
        "datagen = ImageDataGenerator(rescale=1/255.)"
      ],
      "execution_count": 0,
      "outputs": []
    },
    {
      "metadata": {
        "id": "YiMXe23Vmbo-",
        "colab_type": "code",
        "outputId": "58ac00da-2feb-4070-ec2f-419bea7dd690",
        "colab": {
          "base_uri": "https://localhost:8080/",
          "height": 72
        }
      },
      "cell_type": "code",
      "source": [
        "train_batches = datagen.flow_from_directory(train_path, target_size=(120, 120), \n",
        "                                            classes=['C', 'NC'], \n",
        "                                            batch_size=bSize)\n",
        "test_batches = datagen.flow_from_directory(test_path, target_size=(120, 120), \n",
        "                                           classes=['C', 'NC'], \n",
        "                                           batch_size=bSize)\n",
        "validation_batches = datagen.flow_from_directory(validation_path, \n",
        "                                                 target_size=(120, 120), \n",
        "                                                 classes=['C', 'NC'], \n",
        "                                                 batch_size=bSize)"
      ],
      "execution_count": 7,
      "outputs": [
        {
          "output_type": "stream",
          "text": [
            "Found 4154 images belonging to 2 classes.\n",
            "Found 1298 images belonging to 2 classes.\n",
            "Found 1038 images belonging to 2 classes.\n"
          ],
          "name": "stdout"
        }
      ]
    },
    {
      "metadata": {
        "id": "vE-dZtSv5mde",
        "colab_type": "code",
        "colab": {}
      },
      "cell_type": "code",
      "source": [
        "stepsPerEpoche = len(train_batches)/bSize\n",
        "validationSteps = len(validation_batches)/bSize"
      ],
      "execution_count": 0,
      "outputs": []
    },
    {
      "metadata": {
        "id": "WLcoxZya5sQr",
        "colab_type": "code",
        "outputId": "0063c6fe-4728-42ba-edab-cc6d88e9eb3c",
        "colab": {
          "base_uri": "https://localhost:8080/",
          "height": 35
        }
      },
      "cell_type": "code",
      "source": [
        "test_batches.class_indices"
      ],
      "execution_count": 0,
      "outputs": [
        {
          "output_type": "execute_result",
          "data": {
            "text/plain": [
              "{'C': 0, 'NC': 1}"
            ]
          },
          "metadata": {
            "tags": []
          },
          "execution_count": 40
        }
      ]
    },
    {
      "metadata": {
        "id": "tY7Fxpczz0wk",
        "colab_type": "text"
      },
      "cell_type": "markdown",
      "source": [
        "\n",
        "\n",
        "---\n",
        "\n"
      ]
    },
    {
      "metadata": {
        "id": "wH56YdE5rlnU",
        "colab_type": "text"
      },
      "cell_type": "markdown",
      "source": [
        "### 1 tentativa Accuracy: 50.20%\n"
      ]
    },
    {
      "metadata": {
        "id": "NBCIFVOlompR",
        "colab_type": "text"
      },
      "cell_type": "markdown",
      "source": [
        "**Descrição**\n",
        "\n",
        "\n",
        "*   Modelo descrito no artigo \"Crowdsourcing for Chromosome Segmentation and Deep Classification\"\n",
        "\n"
      ]
    },
    {
      "metadata": {
        "id": "rNosdG-ioNYU",
        "colab_type": "code",
        "colab": {}
      },
      "cell_type": "code",
      "source": [
        "model = Sequential([\n",
        "    Conv2D(64, (3, 3), activation='relu', input_shape=(120, 120, 3)),\n",
        "    Conv2D(64, (3, 3), activation='relu'),\n",
        "    Dropout(0.2),\n",
        "    MaxPooling2D(pool_size=(2, 2)),\n",
        "   \n",
        "    Conv2D(32, (3, 3), activation='relu'),\n",
        "    Conv2D(32, (3, 3), activation='relu'),\n",
        "    Dropout(0.2),\n",
        "    MaxPooling2D(pool_size=(2, 2)),\n",
        "   \n",
        "    Conv2D(16, (3, 3), activation='relu'),\n",
        "    Conv2D(16, (3, 3), activation='relu'),\n",
        "    Dropout(0.2),\n",
        "    MaxPooling2D(pool_size=(2, 2)),\n",
        "   \n",
        "    Conv2D(8, (3, 3), activation='relu'),\n",
        "    Conv2D(8, (3, 3), activation='relu'),\n",
        "    Dropout(0.2),\n",
        "    MaxPooling2D(pool_size=(2, 2)),\n",
        "    \n",
        "    Flatten(),\n",
        "    Dense(1024, activation='sigmoid'),\n",
        "    Dense(512, activation='sigmoid'),\n",
        "   \n",
        "    Dense(2, activation='softmax')\n",
        "]\n",
        ")"
      ],
      "execution_count": 0,
      "outputs": []
    },
    {
      "metadata": {
        "id": "UBqwdK2Bxagj",
        "colab_type": "code",
        "colab": {}
      },
      "cell_type": "code",
      "source": [
        "model.compile(SGD(lr=0.01, momentum=0.0, decay=0.0, nesterov=False), \n",
        "              loss='categorical_crossentropy', metrics=['accuracy'])"
      ],
      "execution_count": 0,
      "outputs": []
    },
    {
      "metadata": {
        "id": "EvVszbs8mjBb",
        "colab_type": "code",
        "colab": {}
      },
      "cell_type": "code",
      "source": [
        "checkpointer = ModelCheckpoint(filepath='drive/My Drive/Resultado/weights_architecture_1.hdf5', verbose=1, save_best_only=True)"
      ],
      "execution_count": 0,
      "outputs": []
    },
    {
      "metadata": {
        "id": "PeyX7Mzf5lDw",
        "colab_type": "code",
        "outputId": "8879518c-670e-4f29-92cf-5222fec93f91",
        "colab": {
          "base_uri": "https://localhost:8080/",
          "height": 3690
        }
      },
      "cell_type": "code",
      "source": [
        "training = model.fit_generator(train_batches, steps_per_epoch=stepsPerEpoche, \n",
        "                   validation_data=validation_batches, validation_steps=validationSteps,\n",
        "                   epochs=50, verbose=2, callbacks=[checkpointer])"
      ],
      "execution_count": 0,
      "outputs": [
        {
          "output_type": "stream",
          "text": [
            "Epoch 1/50\n",
            " - 77s - loss: 0.6962 - acc: 0.5312 - val_loss: 0.6953 - val_acc: 0.4531\n",
            "\n",
            "Epoch 00001: val_loss improved from inf to 0.69530, saving model to drive/My Drive/Resultado/weights_architecture_1.hdf5\n",
            "Epoch 2/50\n",
            " - 81s - loss: 0.6937 - acc: 0.4937 - val_loss: 0.6857 - val_acc: 0.5625\n",
            "\n",
            "Epoch 00002: val_loss improved from 0.69530 to 0.68566, saving model to drive/My Drive/Resultado/weights_architecture_1.hdf5\n",
            "Epoch 3/50\n",
            " - 84s - loss: 0.6962 - acc: 0.4875 - val_loss: 0.7075 - val_acc: 0.4062\n",
            "\n",
            "Epoch 00003: val_loss did not improve from 0.68566\n",
            "Epoch 4/50\n",
            " - 76s - loss: 0.6956 - acc: 0.5000 - val_loss: 0.6995 - val_acc: 0.4688\n",
            "\n",
            "Epoch 00004: val_loss did not improve from 0.68566\n",
            "Epoch 5/50\n",
            " - 75s - loss: 0.7046 - acc: 0.4875 - val_loss: 0.6712 - val_acc: 0.6094\n",
            "\n",
            "Epoch 00005: val_loss improved from 0.68566 to 0.67122, saving model to drive/My Drive/Resultado/weights_architecture_1.hdf5\n",
            "Epoch 6/50\n",
            " - 76s - loss: 0.7108 - acc: 0.4500 - val_loss: 0.7405 - val_acc: 0.4688\n",
            "\n",
            "Epoch 00006: val_loss did not improve from 0.67122\n",
            "Epoch 7/50\n",
            " - 79s - loss: 0.6921 - acc: 0.5687 - val_loss: 0.6882 - val_acc: 0.5625\n",
            "\n",
            "Epoch 00007: val_loss did not improve from 0.67122\n",
            "Epoch 8/50\n",
            " - 72s - loss: 0.6929 - acc: 0.5687 - val_loss: 0.6700 - val_acc: 0.6094\n",
            "\n",
            "Epoch 00008: val_loss improved from 0.67122 to 0.66996, saving model to drive/My Drive/Resultado/weights_architecture_1.hdf5\n",
            "Epoch 9/50\n",
            " - 73s - loss: 0.7080 - acc: 0.5000 - val_loss: 0.7307 - val_acc: 0.4688\n",
            "\n",
            "Epoch 00009: val_loss did not improve from 0.66996\n",
            "Epoch 10/50\n",
            " - 73s - loss: 0.6938 - acc: 0.5438 - val_loss: 0.7255 - val_acc: 0.5000\n",
            "\n",
            "Epoch 00010: val_loss did not improve from 0.66996\n",
            "Epoch 11/50\n",
            " - 78s - loss: 0.7132 - acc: 0.4500 - val_loss: 0.6912 - val_acc: 0.5312\n",
            "\n",
            "Epoch 00011: val_loss did not improve from 0.66996\n",
            "Epoch 12/50\n",
            " - 76s - loss: 0.6958 - acc: 0.4688 - val_loss: 0.7087 - val_acc: 0.4844\n",
            "\n",
            "Epoch 00012: val_loss did not improve from 0.66996\n",
            "Epoch 13/50\n",
            " - 80s - loss: 0.6942 - acc: 0.5250 - val_loss: 0.6946 - val_acc: 0.5000\n",
            "\n",
            "Epoch 00013: val_loss did not improve from 0.66996\n",
            "Epoch 14/50\n",
            " - 75s - loss: 0.7038 - acc: 0.4937 - val_loss: 0.6958 - val_acc: 0.4219\n",
            "\n",
            "Epoch 00014: val_loss did not improve from 0.66996\n",
            "Epoch 15/50\n",
            " - 81s - loss: 0.6963 - acc: 0.4875 - val_loss: 0.6927 - val_acc: 0.5156\n",
            "\n",
            "Epoch 00015: val_loss did not improve from 0.66996\n",
            "Epoch 16/50\n",
            " - 71s - loss: 0.7094 - acc: 0.4375 - val_loss: 0.7404 - val_acc: 0.4062\n",
            "\n",
            "Epoch 00016: val_loss did not improve from 0.66996\n",
            "Epoch 17/50\n",
            " - 79s - loss: 0.7134 - acc: 0.4875 - val_loss: 0.7204 - val_acc: 0.5435\n",
            "\n",
            "Epoch 00017: val_loss did not improve from 0.66996\n",
            "Epoch 18/50\n",
            " - 77s - loss: 0.6726 - acc: 0.5687 - val_loss: 0.6818 - val_acc: 0.5781\n",
            "\n",
            "Epoch 00018: val_loss did not improve from 0.66996\n",
            "Epoch 19/50\n",
            " - 71s - loss: 0.7023 - acc: 0.5125 - val_loss: 0.6930 - val_acc: 0.5156\n",
            "\n",
            "Epoch 00019: val_loss did not improve from 0.66996\n",
            "Epoch 20/50\n",
            " - 76s - loss: 0.7043 - acc: 0.4813 - val_loss: 0.7156 - val_acc: 0.4844\n",
            "\n",
            "Epoch 00020: val_loss did not improve from 0.66996\n",
            "Epoch 21/50\n",
            " - 81s - loss: 0.7014 - acc: 0.5062 - val_loss: 0.7275 - val_acc: 0.4531\n",
            "\n",
            "Epoch 00021: val_loss did not improve from 0.66996\n",
            "Epoch 22/50\n",
            " - 77s - loss: 0.6992 - acc: 0.5187 - val_loss: 0.6985 - val_acc: 0.5000\n",
            "\n",
            "Epoch 00022: val_loss did not improve from 0.66996\n",
            "Epoch 23/50\n",
            " - 71s - loss: 0.7014 - acc: 0.5125 - val_loss: 0.6912 - val_acc: 0.5312\n",
            "\n",
            "Epoch 00023: val_loss did not improve from 0.66996\n",
            "Epoch 24/50\n",
            " - 73s - loss: 0.6944 - acc: 0.5125 - val_loss: 0.7046 - val_acc: 0.4219\n",
            "\n",
            "Epoch 00024: val_loss did not improve from 0.66996\n",
            "Epoch 25/50\n",
            " - 76s - loss: 0.7218 - acc: 0.5187 - val_loss: 0.6762 - val_acc: 0.5938\n",
            "\n",
            "Epoch 00025: val_loss did not improve from 0.66996\n",
            "Epoch 26/50\n",
            " - 71s - loss: 0.6966 - acc: 0.5389 - val_loss: 0.7021 - val_acc: 0.4844\n",
            "\n",
            "Epoch 00026: val_loss did not improve from 0.66996\n",
            "Epoch 27/50\n",
            " - 1s - loss: 0.7047 - acc: 0.5000 - val_loss: 0.6704 - val_acc: 0.6250\n",
            "\n",
            "Epoch 00027: val_loss did not improve from 0.66996\n",
            "Epoch 28/50\n",
            " - 1s - loss: 0.6907 - acc: 0.5500 - val_loss: 0.7007 - val_acc: 0.4375\n",
            "\n",
            "Epoch 00028: val_loss did not improve from 0.66996\n",
            "Epoch 29/50\n",
            " - 1s - loss: 0.6983 - acc: 0.4625 - val_loss: 0.6943 - val_acc: 0.5312\n",
            "\n",
            "Epoch 00029: val_loss did not improve from 0.66996\n",
            "Epoch 30/50\n",
            " - 1s - loss: 0.6967 - acc: 0.4937 - val_loss: 0.6926 - val_acc: 0.5312\n",
            "\n",
            "Epoch 00030: val_loss did not improve from 0.66996\n",
            "Epoch 31/50\n",
            " - 1s - loss: 0.7111 - acc: 0.4875 - val_loss: 0.6933 - val_acc: 0.5000\n",
            "\n",
            "Epoch 00031: val_loss did not improve from 0.66996\n",
            "Epoch 32/50\n",
            " - 1s - loss: 0.6943 - acc: 0.5125 - val_loss: 0.6891 - val_acc: 0.5469\n",
            "\n",
            "Epoch 00032: val_loss did not improve from 0.66996\n",
            "Epoch 33/50\n",
            " - 1s - loss: 0.7031 - acc: 0.4813 - val_loss: 0.6848 - val_acc: 0.5652\n",
            "\n",
            "Epoch 00033: val_loss did not improve from 0.66996\n",
            "Epoch 34/50\n",
            " - 1s - loss: 0.6938 - acc: 0.5438 - val_loss: 0.6933 - val_acc: 0.4844\n",
            "\n",
            "Epoch 00034: val_loss did not improve from 0.66996\n",
            "Epoch 35/50\n",
            " - 1s - loss: 0.7114 - acc: 0.4625 - val_loss: 0.6979 - val_acc: 0.3750\n",
            "\n",
            "Epoch 00035: val_loss did not improve from 0.66996\n",
            "Epoch 36/50\n",
            " - 1s - loss: 0.6936 - acc: 0.5687 - val_loss: 0.6992 - val_acc: 0.5000\n",
            "\n",
            "Epoch 00036: val_loss did not improve from 0.66996\n",
            "Epoch 37/50\n",
            " - 1s - loss: 0.6986 - acc: 0.4750 - val_loss: 0.7088 - val_acc: 0.5000\n",
            "\n",
            "Epoch 00037: val_loss did not improve from 0.66996\n",
            "Epoch 38/50\n",
            " - 1s - loss: 0.7110 - acc: 0.4688 - val_loss: 0.6986 - val_acc: 0.4375\n",
            "\n",
            "Epoch 00038: val_loss did not improve from 0.66996\n",
            "Epoch 39/50\n",
            " - 1s - loss: 0.7131 - acc: 0.4500 - val_loss: 0.7136 - val_acc: 0.4531\n",
            "\n",
            "Epoch 00039: val_loss did not improve from 0.66996\n",
            "Epoch 40/50\n",
            " - 1s - loss: 0.7045 - acc: 0.5000 - val_loss: 0.6962 - val_acc: 0.4844\n",
            "\n",
            "Epoch 00040: val_loss did not improve from 0.66996\n",
            "Epoch 41/50\n",
            " - 1s - loss: 0.6962 - acc: 0.4875 - val_loss: 0.6935 - val_acc: 0.4844\n",
            "\n",
            "Epoch 00041: val_loss did not improve from 0.66996\n",
            "Epoch 42/50\n",
            " - 1s - loss: 0.7153 - acc: 0.4750 - val_loss: 0.6943 - val_acc: 0.4219\n",
            "\n",
            "Epoch 00042: val_loss did not improve from 0.66996\n",
            "Epoch 43/50\n",
            " - 1s - loss: 0.7134 - acc: 0.4562 - val_loss: 0.6839 - val_acc: 0.5781\n",
            "\n",
            "Epoch 00043: val_loss did not improve from 0.66996\n",
            "Epoch 44/50\n",
            " - 1s - loss: 0.6974 - acc: 0.5062 - val_loss: 0.7122 - val_acc: 0.4219\n",
            "\n",
            "Epoch 00044: val_loss did not improve from 0.66996\n",
            "Epoch 45/50\n",
            " - 1s - loss: 0.7056 - acc: 0.4750 - val_loss: 0.7216 - val_acc: 0.4375\n",
            "\n",
            "Epoch 00045: val_loss did not improve from 0.66996\n",
            "Epoch 46/50\n",
            " - 1s - loss: 0.6989 - acc: 0.5125 - val_loss: 0.7014 - val_acc: 0.4531\n",
            "\n",
            "Epoch 00046: val_loss did not improve from 0.66996\n",
            "Epoch 47/50\n",
            " - 1s - loss: 0.6945 - acc: 0.5125 - val_loss: 0.7241 - val_acc: 0.3750\n",
            "\n",
            "Epoch 00047: val_loss did not improve from 0.66996\n",
            "Epoch 48/50\n",
            " - 1s - loss: 0.7234 - acc: 0.4250 - val_loss: 0.6926 - val_acc: 0.5156\n",
            "\n",
            "Epoch 00048: val_loss did not improve from 0.66996\n",
            "Epoch 49/50\n",
            " - 1s - loss: 0.7034 - acc: 0.5875 - val_loss: 0.7347 - val_acc: 0.5156\n",
            "\n",
            "Epoch 00049: val_loss did not improve from 0.66996\n",
            "Epoch 50/50\n",
            " - 1s - loss: 0.7342 - acc: 0.5062 - val_loss: 0.6931 - val_acc: 0.5652\n",
            "\n",
            "Epoch 00050: val_loss did not improve from 0.66996\n"
          ],
          "name": "stdout"
        }
      ]
    },
    {
      "metadata": {
        "id": "VeLCe59ltne5",
        "colab_type": "code",
        "outputId": "19e83bd5-437d-4177-b559-f0fc49666a1b",
        "colab": {
          "base_uri": "https://localhost:8080/",
          "height": 380
        }
      },
      "cell_type": "code",
      "source": [
        "# plotar loss e accuracy para os datasets 'train' e 'test'\n",
        "plt.style.use(\"ggplot\")\n",
        "plt.figure()\n",
        "plt.plot(training.history['acc'], label='Accuracy')\n",
        "plt.plot(training.history['loss'], label='Loss')\n",
        "plt.xlabel('Epochs')\n",
        "plt.ylabel('Accuracy')\n",
        "plt.title(\"Training Loss and Accuracy\")\n",
        "plt.ylabel(\"Loss/Accuracy\")\n",
        "plt.legend()\n",
        "plt.savefig('drive/My Drive/Resultado/architecture_1.png', bbox_inches='tight')"
      ],
      "execution_count": 0,
      "outputs": [
        {
          "output_type": "display_data",
          "data": {
            "image/png": "[encoded data removed]",
            "text/plain": [
              "<matplotlib.figure.Figure at 0x7f1d3d6eccf8>"
            ]
          },
          "metadata": {
            "tags": []
          }
        }
      ]
    },
    {
      "metadata": {
        "id": "c1LR04eV6AJ5",
        "colab_type": "code",
        "colab": {}
      },
      "cell_type": "code",
      "source": [
        "model.load_weights('drive/My Drive/Resultado/weights_architecture_1.hdf5')"
      ],
      "execution_count": 0,
      "outputs": []
    },
    {
      "metadata": {
        "id": "gFQR2k7Ns8SN",
        "colab_type": "code",
        "outputId": "e684598e-6d6d-4169-bc31-d20bd6c29a54",
        "colab": {
          "base_uri": "https://localhost:8080/",
          "height": 35
        }
      },
      "cell_type": "code",
      "source": [
        "results['architecture_1'] = model.evaluate_generator(test_batches, steps=bSize, use_multiprocessing=True, verbose=1)"
      ],
      "execution_count": 0,
      "outputs": [
        {
          "output_type": "stream",
          "text": [
            "32/32 [==============================] - 574s 18s/step\n"
          ],
          "name": "stdout"
        }
      ]
    },
    {
      "metadata": {
        "id": "Juqn8SXr0VvZ",
        "colab_type": "code",
        "outputId": "1f4fa848-2e74-4e68-89fd-309604085aca",
        "colab": {
          "base_uri": "https://localhost:8080/",
          "height": 35
        }
      },
      "cell_type": "code",
      "source": [
        "print('Test Loss: {} | Test Accuracy: {:.2f}%'.format(results['architecture_1'][0], 100 * results['architecture_1'][1]))"
      ],
      "execution_count": 0,
      "outputs": [
        {
          "output_type": "stream",
          "text": [
            "Test Loss: 0.7272472605109215 | Test Accuracy: 50.20%\n"
          ],
          "name": "stdout"
        }
      ]
    },
    {
      "metadata": {
        "id": "71jZE6lXsmgW",
        "colab_type": "text"
      },
      "cell_type": "markdown",
      "source": [
        "\n",
        "\n",
        "---\n",
        "\n"
      ]
    },
    {
      "metadata": {
        "id": "T7nOK0TDr6Hc",
        "colab_type": "text"
      },
      "cell_type": "markdown",
      "source": [
        "### 2 tentativa Accuracy: 48.83%"
      ]
    },
    {
      "metadata": {
        "colab_type": "text",
        "id": "-DJtvxKNp9sb"
      },
      "cell_type": "markdown",
      "source": [
        "**Descrição**\n",
        "\n",
        "\n",
        "*   Modelo descrito no artigo \"Crowdsourcing for Chromosome Segmentation and Deep Classification\"\n",
        "*   Alteração nas duas ultimas camadas Dense\n",
        "\n",
        "\n",
        "\n"
      ]
    },
    {
      "metadata": {
        "colab_type": "code",
        "id": "2PSEo_Mzr8zK",
        "colab": {}
      },
      "cell_type": "code",
      "source": [
        "model = Sequential([\n",
        "    Conv2D(64, (3, 3), activation='relu', input_shape=(120, 120, 3)),\n",
        "    Conv2D(64, (3, 3), activation='relu'),\n",
        "    Dropout(0.2),\n",
        "    MaxPooling2D(pool_size=(2, 2)),\n",
        "   \n",
        "    Conv2D(32, (3, 3), activation='relu'),\n",
        "    Conv2D(32, (3, 3), activation='relu'),\n",
        "    Dropout(0.2),\n",
        "    MaxPooling2D(pool_size=(2, 2)),\n",
        "   \n",
        "    Conv2D(16, (3, 3), activation='relu'),\n",
        "    Conv2D(16, (3, 3), activation='relu'),\n",
        "    Dropout(0.2),\n",
        "    MaxPooling2D(pool_size=(2, 2)),\n",
        "   \n",
        "    Conv2D(8, (3, 3), activation='relu'),\n",
        "    Conv2D(8, (3, 3), activation='relu'),\n",
        "    Dropout(0.2),\n",
        "    MaxPooling2D(pool_size=(2, 2)),\n",
        "    \n",
        "    Flatten(),\n",
        "    Dense(512, activation='relu'),\n",
        "   \n",
        "    Dense(2, activation='softmax')\n",
        "]\n",
        ")"
      ],
      "execution_count": 0,
      "outputs": []
    },
    {
      "metadata": {
        "colab_type": "code",
        "id": "wTvCLywPr8zj",
        "colab": {}
      },
      "cell_type": "code",
      "source": [
        "model.compile(SGD(lr=0.01, momentum=0.0, decay=0.0, nesterov=False), \n",
        "              loss='categorical_crossentropy', metrics=['accuracy'])"
      ],
      "execution_count": 0,
      "outputs": []
    },
    {
      "metadata": {
        "id": "NzLTzTmS5qOI",
        "colab_type": "code",
        "colab": {}
      },
      "cell_type": "code",
      "source": [
        "checkpointer = ModelCheckpoint(filepath='drive/My Drive/Resultado/weights_architecture_2.hdf5', verbose=1, save_best_only=True)"
      ],
      "execution_count": 0,
      "outputs": []
    },
    {
      "metadata": {
        "colab_type": "code",
        "id": "P5mNUnc52wDQ",
        "outputId": "a784e165-56dc-4e44-a60e-928d7a7e360a",
        "colab": {
          "base_uri": "https://localhost:8080/",
          "height": 3690
        }
      },
      "cell_type": "code",
      "source": [
        "training = model.fit_generator(train_batches, steps_per_epoch=stepsPerEpoche, \n",
        "                   validation_data=validation_batches, validation_steps=validationSteps,\n",
        "                   epochs=50, verbose=2, callbacks=[checkpointer])"
      ],
      "execution_count": 0,
      "outputs": [
        {
          "output_type": "stream",
          "text": [
            "Epoch 1/50\n",
            " - 2s - loss: 0.6948 - acc: 0.4625 - val_loss: 0.6928 - val_acc: 0.6094\n",
            "\n",
            "Epoch 00001: val_loss improved from inf to 0.69282, saving model to drive/My Drive/Resultado/weights_architecture_2.hdf5\n",
            "Epoch 2/50\n",
            " - 1s - loss: 0.6937 - acc: 0.4937 - val_loss: 0.6931 - val_acc: 0.5938\n",
            "\n",
            "Epoch 00002: val_loss did not improve from 0.69282\n",
            "Epoch 3/50\n",
            " - 1s - loss: 0.6933 - acc: 0.5125 - val_loss: 0.6933 - val_acc: 0.5000\n",
            "\n",
            "Epoch 00003: val_loss did not improve from 0.69282\n",
            "Epoch 4/50\n",
            " - 1s - loss: 0.6940 - acc: 0.4750 - val_loss: 0.6933 - val_acc: 0.4531\n",
            "\n",
            "Epoch 00004: val_loss did not improve from 0.69282\n",
            "Epoch 5/50\n",
            " - 1s - loss: 0.6913 - acc: 0.5938 - val_loss: 0.6947 - val_acc: 0.4219\n",
            "\n",
            "Epoch 00005: val_loss did not improve from 0.69282\n",
            "Epoch 6/50\n",
            " - 1s - loss: 0.6941 - acc: 0.4750 - val_loss: 0.6926 - val_acc: 0.5625\n",
            "\n",
            "Epoch 00006: val_loss improved from 0.69282 to 0.69257, saving model to drive/My Drive/Resultado/weights_architecture_2.hdf5\n",
            "Epoch 7/50\n",
            " - 1s - loss: 0.6926 - acc: 0.5125 - val_loss: 0.6923 - val_acc: 0.5781\n",
            "\n",
            "Epoch 00007: val_loss improved from 0.69257 to 0.69231, saving model to drive/My Drive/Resultado/weights_architecture_2.hdf5\n",
            "Epoch 8/50\n",
            " - 1s - loss: 0.6948 - acc: 0.4688 - val_loss: 0.6931 - val_acc: 0.6094\n",
            "\n",
            "Epoch 00008: val_loss did not improve from 0.69231\n",
            "Epoch 9/50\n",
            " - 1s - loss: 0.6939 - acc: 0.4813 - val_loss: 0.6929 - val_acc: 0.5312\n",
            "\n",
            "Epoch 00009: val_loss did not improve from 0.69231\n",
            "Epoch 10/50\n",
            " - 1s - loss: 0.6920 - acc: 0.5312 - val_loss: 0.6929 - val_acc: 0.5938\n",
            "\n",
            "Epoch 00010: val_loss did not improve from 0.69231\n",
            "Epoch 11/50\n",
            " - 1s - loss: 0.6935 - acc: 0.4813 - val_loss: 0.6930 - val_acc: 0.5000\n",
            "\n",
            "Epoch 00011: val_loss did not improve from 0.69231\n",
            "Epoch 12/50\n",
            " - 1s - loss: 0.6943 - acc: 0.4375 - val_loss: 0.6926 - val_acc: 0.5625\n",
            "\n",
            "Epoch 00012: val_loss did not improve from 0.69231\n",
            "Epoch 13/50\n",
            " - 1s - loss: 0.6936 - acc: 0.4750 - val_loss: 0.6937 - val_acc: 0.4531\n",
            "\n",
            "Epoch 00013: val_loss did not improve from 0.69231\n",
            "Epoch 14/50\n",
            " - 1s - loss: 0.6930 - acc: 0.5250 - val_loss: 0.6938 - val_acc: 0.4219\n",
            "\n",
            "Epoch 00014: val_loss did not improve from 0.69231\n",
            "Epoch 15/50\n",
            " - 1s - loss: 0.6931 - acc: 0.5500 - val_loss: 0.6925 - val_acc: 0.5625\n",
            "\n",
            "Epoch 00015: val_loss did not improve from 0.69231\n",
            "Epoch 16/50\n",
            " - 1s - loss: 0.6934 - acc: 0.4750 - val_loss: 0.6922 - val_acc: 0.5312\n",
            "\n",
            "Epoch 00016: val_loss improved from 0.69231 to 0.69225, saving model to drive/My Drive/Resultado/weights_architecture_2.hdf5\n",
            "Epoch 17/50\n",
            " - 1s - loss: 0.6930 - acc: 0.4688 - val_loss: 0.6936 - val_acc: 0.4844\n",
            "\n",
            "Epoch 00017: val_loss did not improve from 0.69225\n",
            "Epoch 18/50\n",
            " - 1s - loss: 0.6924 - acc: 0.5687 - val_loss: 0.6893 - val_acc: 0.6094\n",
            "\n",
            "Epoch 00018: val_loss improved from 0.69225 to 0.68927, saving model to drive/My Drive/Resultado/weights_architecture_2.hdf5\n",
            "Epoch 19/50\n",
            " - 1s - loss: 0.6938 - acc: 0.4312 - val_loss: 0.6933 - val_acc: 0.4844\n",
            "\n",
            "Epoch 00019: val_loss did not improve from 0.68927\n",
            "Epoch 20/50\n",
            " - 1s - loss: 0.6926 - acc: 0.6437 - val_loss: 0.6933 - val_acc: 0.4688\n",
            "\n",
            "Epoch 00020: val_loss did not improve from 0.68927\n",
            "Epoch 21/50\n",
            " - 1s - loss: 0.6939 - acc: 0.4625 - val_loss: 0.6925 - val_acc: 0.5312\n",
            "\n",
            "Epoch 00021: val_loss did not improve from 0.68927\n",
            "Epoch 22/50\n",
            " - 1s - loss: 0.6934 - acc: 0.4438 - val_loss: 0.6953 - val_acc: 0.4219\n",
            "\n",
            "Epoch 00022: val_loss did not improve from 0.68927\n",
            "Epoch 23/50\n",
            " - 1s - loss: 0.6931 - acc: 0.4937 - val_loss: 0.6908 - val_acc: 0.5781\n",
            "\n",
            "Epoch 00023: val_loss did not improve from 0.68927\n",
            "Epoch 24/50\n",
            " - 1s - loss: 0.6935 - acc: 0.4750 - val_loss: 0.6935 - val_acc: 0.4844\n",
            "\n",
            "Epoch 00024: val_loss did not improve from 0.68927\n",
            "Epoch 25/50\n",
            " - 1s - loss: 0.6930 - acc: 0.5563 - val_loss: 0.6928 - val_acc: 0.5156\n",
            "\n",
            "Epoch 00025: val_loss did not improve from 0.68927\n",
            "Epoch 26/50\n",
            " - 1s - loss: 0.6919 - acc: 0.5857 - val_loss: 0.6931 - val_acc: 0.6250\n",
            "\n",
            "Epoch 00026: val_loss did not improve from 0.68927\n",
            "Epoch 27/50\n",
            " - 1s - loss: 0.6914 - acc: 0.5625 - val_loss: 0.6927 - val_acc: 0.5435\n",
            "\n",
            "Epoch 00027: val_loss did not improve from 0.68927\n",
            "Epoch 28/50\n",
            " - 1s - loss: 0.6884 - acc: 0.5875 - val_loss: 0.6917 - val_acc: 0.5312\n",
            "\n",
            "Epoch 00028: val_loss did not improve from 0.68927\n",
            "Epoch 29/50\n",
            " - 1s - loss: 0.6930 - acc: 0.5000 - val_loss: 0.6948 - val_acc: 0.4375\n",
            "\n",
            "Epoch 00029: val_loss did not improve from 0.68927\n",
            "Epoch 30/50\n",
            " - 1s - loss: 0.6914 - acc: 0.5375 - val_loss: 0.6939 - val_acc: 0.4688\n",
            "\n",
            "Epoch 00030: val_loss did not improve from 0.68927\n",
            "Epoch 31/50\n",
            " - 1s - loss: 0.6956 - acc: 0.4562 - val_loss: 0.6932 - val_acc: 0.5000\n",
            "\n",
            "Epoch 00031: val_loss did not improve from 0.68927\n",
            "Epoch 32/50\n",
            " - 1s - loss: 0.6891 - acc: 0.5625 - val_loss: 0.6999 - val_acc: 0.2969\n",
            "\n",
            "Epoch 00032: val_loss did not improve from 0.68927\n",
            "Epoch 33/50\n",
            " - 1s - loss: 0.6954 - acc: 0.4625 - val_loss: 0.6926 - val_acc: 0.5312\n",
            "\n",
            "Epoch 00033: val_loss did not improve from 0.68927\n",
            "Epoch 34/50\n",
            " - 1s - loss: 0.6941 - acc: 0.4937 - val_loss: 0.6920 - val_acc: 0.5938\n",
            "\n",
            "Epoch 00034: val_loss did not improve from 0.68927\n",
            "Epoch 35/50\n",
            " - 1s - loss: 0.6939 - acc: 0.4875 - val_loss: 0.6930 - val_acc: 0.5156\n",
            "\n",
            "Epoch 00035: val_loss did not improve from 0.68927\n",
            "Epoch 36/50\n",
            " - 1s - loss: 0.6939 - acc: 0.4813 - val_loss: 0.6934 - val_acc: 0.4375\n",
            "\n",
            "Epoch 00036: val_loss did not improve from 0.68927\n",
            "Epoch 37/50\n",
            " - 1s - loss: 0.6932 - acc: 0.5000 - val_loss: 0.6923 - val_acc: 0.5781\n",
            "\n",
            "Epoch 00037: val_loss did not improve from 0.68927\n",
            "Epoch 38/50\n",
            " - 1s - loss: 0.6927 - acc: 0.5062 - val_loss: 0.6933 - val_acc: 0.4688\n",
            "\n",
            "Epoch 00038: val_loss did not improve from 0.68927\n",
            "Epoch 39/50\n",
            " - 1s - loss: 0.6914 - acc: 0.5563 - val_loss: 0.6933 - val_acc: 0.4688\n",
            "\n",
            "Epoch 00039: val_loss did not improve from 0.68927\n",
            "Epoch 40/50\n",
            " - 1s - loss: 0.6947 - acc: 0.4562 - val_loss: 0.6942 - val_acc: 0.4375\n",
            "\n",
            "Epoch 00040: val_loss did not improve from 0.68927\n",
            "Epoch 41/50\n",
            " - 1s - loss: 0.6937 - acc: 0.4813 - val_loss: 0.6954 - val_acc: 0.4531\n",
            "\n",
            "Epoch 00041: val_loss did not improve from 0.68927\n",
            "Epoch 42/50\n",
            " - 1s - loss: 0.6933 - acc: 0.4813 - val_loss: 0.6923 - val_acc: 0.5156\n",
            "\n",
            "Epoch 00042: val_loss did not improve from 0.68927\n",
            "Epoch 43/50\n",
            " - 1s - loss: 0.6922 - acc: 0.5563 - val_loss: 0.6965 - val_acc: 0.4062\n",
            "\n",
            "Epoch 00043: val_loss did not improve from 0.68927\n",
            "Epoch 44/50\n",
            " - 1s - loss: 0.6927 - acc: 0.5062 - val_loss: 0.6965 - val_acc: 0.4130\n",
            "\n",
            "Epoch 00044: val_loss did not improve from 0.68927\n",
            "Epoch 45/50\n",
            " - 1s - loss: 0.6917 - acc: 0.5625 - val_loss: 0.6902 - val_acc: 0.5625\n",
            "\n",
            "Epoch 00045: val_loss did not improve from 0.68927\n",
            "Epoch 46/50\n",
            " - 1s - loss: 0.6926 - acc: 0.5062 - val_loss: 0.6910 - val_acc: 0.5469\n",
            "\n",
            "Epoch 00046: val_loss did not improve from 0.68927\n",
            "Epoch 47/50\n",
            " - 1s - loss: 0.6935 - acc: 0.4625 - val_loss: 0.6917 - val_acc: 0.5312\n",
            "\n",
            "Epoch 00047: val_loss did not improve from 0.68927\n",
            "Epoch 48/50\n",
            " - 1s - loss: 0.6926 - acc: 0.5250 - val_loss: 0.6947 - val_acc: 0.4531\n",
            "\n",
            "Epoch 00048: val_loss did not improve from 0.68927\n",
            "Epoch 49/50\n",
            " - 1s - loss: 0.6928 - acc: 0.5687 - val_loss: 0.6964 - val_acc: 0.3906\n",
            "\n",
            "Epoch 00049: val_loss did not improve from 0.68927\n",
            "Epoch 50/50\n",
            " - 1s - loss: 0.6924 - acc: 0.5563 - val_loss: 0.6934 - val_acc: 0.4844\n",
            "\n",
            "Epoch 00050: val_loss did not improve from 0.68927\n"
          ],
          "name": "stdout"
        }
      ]
    },
    {
      "metadata": {
        "colab_type": "code",
        "id": "0ObNfroJ2wDb",
        "outputId": "650daeb6-702a-409a-9eda-c2795c98e8b6",
        "colab": {
          "base_uri": "https://localhost:8080/",
          "height": 380
        }
      },
      "cell_type": "code",
      "source": [
        "# plotar loss e accuracy para os datasets 'train' e 'test'\n",
        "plt.style.use(\"ggplot\")\n",
        "plt.figure()\n",
        "plt.plot(training.history['acc'], label='Accuracy')\n",
        "plt.plot(training.history['loss'], label='Loss')\n",
        "plt.xlabel('Epochs')\n",
        "plt.ylabel('Accuracy')\n",
        "plt.title(\"Training Loss and Accuracy\")\n",
        "plt.ylabel(\"Loss/Accuracy\")\n",
        "plt.legend()\n",
        "plt.savefig('drive/My Drive/Resultado/architecture_2.png', bbox_inches='tight')"
      ],
      "execution_count": 0,
      "outputs": [
        {
          "output_type": "display_data",
          "data": {
            "image/png": "[encoded data removed]",
            "text/plain": [
              "<matplotlib.figure.Figure at 0x7f1d3cb9f5c0>"
            ]
          },
          "metadata": {
            "tags": []
          }
        }
      ]
    },
    {
      "metadata": {
        "id": "6ygDnB2C5lfp",
        "colab_type": "code",
        "colab": {}
      },
      "cell_type": "code",
      "source": [
        "model.load_weights('drive/My Drive/Resultado/weights_architecture_2.hdf5')"
      ],
      "execution_count": 0,
      "outputs": []
    },
    {
      "metadata": {
        "colab_type": "code",
        "id": "tbMLmk6a2wDk",
        "outputId": "9fb66580-57fb-4d4d-d650-839cb0b2db18",
        "colab": {
          "base_uri": "https://localhost:8080/",
          "height": 35
        }
      },
      "cell_type": "code",
      "source": [
        "results['architecture_2'] = model.evaluate_generator(test_batches, steps=bSize, use_multiprocessing=True, verbose=1)"
      ],
      "execution_count": 0,
      "outputs": [
        {
          "output_type": "stream",
          "text": [
            "32/32 [==============================] - 115s 4s/step\n"
          ],
          "name": "stdout"
        }
      ]
    },
    {
      "metadata": {
        "colab_type": "code",
        "id": "uz6TAaay2wDp",
        "outputId": "07822174-8871-4c11-84b7-60093631eec3",
        "colab": {
          "base_uri": "https://localhost:8080/",
          "height": 35
        }
      },
      "cell_type": "code",
      "source": [
        "print('Test Loss: {} | Test Accuracy: {:.2f}%'.format(results['architecture_2'][0], 100 * results['architecture_2'][1]))"
      ],
      "execution_count": 0,
      "outputs": [
        {
          "output_type": "stream",
          "text": [
            "Test Loss: 0.6938245873898268 | Test Accuracy: 48.83%\n"
          ],
          "name": "stdout"
        }
      ]
    },
    {
      "metadata": {
        "id": "r7RpE8wBe4JQ",
        "colab_type": "text"
      },
      "cell_type": "markdown",
      "source": [
        "### 3 tentativa Accuracy: 82.42%"
      ]
    },
    {
      "metadata": {
        "id": "vdP4Yo8OgB4B",
        "colab_type": "text"
      },
      "cell_type": "markdown",
      "source": [
        "Modelo criado pelo **Lucas Valentim**\n",
        "\n",
        "https://github.com/lucasvalentim/chromosome-recognizer/blob/master/chromosome_recognizer.ipynb"
      ]
    },
    {
      "metadata": {
        "id": "3nTNgnrCe33x",
        "colab_type": "code",
        "colab": {}
      },
      "cell_type": "code",
      "source": [
        "from keras.layers import Conv2D, MaxPooling2D, GlobalMaxPooling2D, BatchNormalization\n",
        "from keras.regularizers import l2\n",
        "\n",
        "model = Sequential()\n",
        "\n",
        "model.add(Conv2D(32, (3, 3), activation='relu', kernel_regularizer=l2(1e-4), \n",
        "                 input_shape=(None, None, 3)))\n",
        "model.add(BatchNormalization())\n",
        "model.add(Conv2D(32, (3, 3), activation='relu', kernel_regularizer=l2(1e-4)))\n",
        "model.add(BatchNormalization())\n",
        "model.add(MaxPooling2D((2, 2)))\n",
        "model.add(Dropout(0.25))\n",
        "\n",
        "model.add(Conv2D(64, (3, 3), activation='relu', kernel_regularizer=l2(1e-4)))\n",
        "model.add(BatchNormalization())\n",
        "model.add(Conv2D(64, (3, 3), activation='relu', kernel_regularizer=l2(1e-4)))\n",
        "model.add(BatchNormalization())\n",
        "model.add(MaxPooling2D((2, 2)))\n",
        "model.add(Dropout(0.25))\n",
        "\n",
        "model.add(Conv2D(128, (1,1), kernel_regularizer=l2(1e-4)))\n",
        "model.add(GlobalMaxPooling2D())\n",
        "\n",
        "model.add(Dense(256, activation='relu', kernel_regularizer=l2(1e-4)))\n",
        "model.add(Dropout(0.5))\n",
        "model.add(Dense(2, activation='sigmoid', kernel_regularizer=l2(1e-4)))"
      ],
      "execution_count": 0,
      "outputs": []
    },
    {
      "metadata": {
        "id": "g1okz4QbiBnE",
        "colab_type": "code",
        "colab": {}
      },
      "cell_type": "code",
      "source": [
        "model.compile(optimizer='adam', loss='binary_crossentropy', metrics=['accuracy'])"
      ],
      "execution_count": 0,
      "outputs": []
    },
    {
      "metadata": {
        "colab_type": "code",
        "id": "ceurpIyA3JmM",
        "colab": {}
      },
      "cell_type": "code",
      "source": [
        "checkpointer = ModelCheckpoint(filepath='drive/My Drive/Resultado/weights_architecture_3.hdf5', verbose=1, save_best_only=True)"
      ],
      "execution_count": 0,
      "outputs": []
    },
    {
      "metadata": {
        "colab_type": "code",
        "id": "57QCc4Rz3JmS",
        "outputId": "a6105622-9aba-4597-db88-7441f71aaff1",
        "colab": {
          "base_uri": "https://localhost:8080/",
          "height": 3690
        }
      },
      "cell_type": "code",
      "source": [
        "training = model.fit_generator(train_batches, steps_per_epoch=stepsPerEpoche, \n",
        "                   validation_data=validation_batches, validation_steps=validationSteps,\n",
        "                   epochs=50, verbose=2, callbacks=[checkpointer])"
      ],
      "execution_count": 0,
      "outputs": [
        {
          "output_type": "stream",
          "text": [
            "Epoch 1/50\n",
            " - 4s - loss: 1.9439 - acc: 0.5187 - val_loss: 0.6925 - val_acc: 0.6406\n",
            "\n",
            "Epoch 00001: val_loss improved from inf to 0.69255, saving model to drive/My Drive/Resultado/weights_architecture_3.hdf5\n",
            "Epoch 2/50\n",
            " - 0s - loss: 1.5202 - acc: 0.5094 - val_loss: 0.7297 - val_acc: 0.6719\n",
            "\n",
            "Epoch 00002: val_loss did not improve from 0.69255\n",
            "Epoch 3/50\n",
            " - 1s - loss: 1.2372 - acc: 0.5719 - val_loss: 0.5182 - val_acc: 0.7656\n",
            "\n",
            "Epoch 00003: val_loss improved from 0.69255 to 0.51815, saving model to drive/My Drive/Resultado/weights_architecture_3.hdf5\n",
            "Epoch 4/50\n",
            " - 1s - loss: 0.8357 - acc: 0.6125 - val_loss: 0.5826 - val_acc: 0.7266\n",
            "\n",
            "Epoch 00004: val_loss did not improve from 0.51815\n",
            "Epoch 5/50\n",
            " - 1s - loss: 0.7188 - acc: 0.7062 - val_loss: 0.6042 - val_acc: 0.6739\n",
            "\n",
            "Epoch 00005: val_loss did not improve from 0.51815\n",
            "Epoch 6/50\n",
            " - 1s - loss: 0.6332 - acc: 0.7156 - val_loss: 0.5603 - val_acc: 0.7188\n",
            "\n",
            "Epoch 00006: val_loss did not improve from 0.51815\n",
            "Epoch 7/50\n",
            " - 1s - loss: 0.4847 - acc: 0.7875 - val_loss: 0.4457 - val_acc: 0.8125\n",
            "\n",
            "Epoch 00007: val_loss improved from 0.51815 to 0.44566, saving model to drive/My Drive/Resultado/weights_architecture_3.hdf5\n",
            "Epoch 8/50\n",
            " - 1s - loss: 0.4810 - acc: 0.8063 - val_loss: 0.5910 - val_acc: 0.7578\n",
            "\n",
            "Epoch 00008: val_loss did not improve from 0.44566\n",
            "Epoch 9/50\n",
            " - 1s - loss: 0.5392 - acc: 0.7562 - val_loss: 0.5400 - val_acc: 0.7656\n",
            "\n",
            "Epoch 00009: val_loss did not improve from 0.44566\n",
            "Epoch 10/50\n",
            " - 1s - loss: 0.4059 - acc: 0.8469 - val_loss: 0.7808 - val_acc: 0.6484\n",
            "\n",
            "Epoch 00010: val_loss did not improve from 0.44566\n",
            "Epoch 11/50\n",
            " - 1s - loss: 0.4606 - acc: 0.8375 - val_loss: 0.3907 - val_acc: 0.8828\n",
            "\n",
            "Epoch 00011: val_loss improved from 0.44566 to 0.39068, saving model to drive/My Drive/Resultado/weights_architecture_3.hdf5\n",
            "Epoch 12/50\n",
            " - 1s - loss: 0.3221 - acc: 0.8969 - val_loss: 0.5169 - val_acc: 0.8125\n",
            "\n",
            "Epoch 00012: val_loss did not improve from 0.39068\n",
            "Epoch 13/50\n",
            " - 1s - loss: 0.5305 - acc: 0.8219 - val_loss: 0.5587 - val_acc: 0.7500\n",
            "\n",
            "Epoch 00013: val_loss did not improve from 0.39068\n",
            "Epoch 14/50\n",
            " - 1s - loss: 0.4357 - acc: 0.8250 - val_loss: 0.6456 - val_acc: 0.7031\n",
            "\n",
            "Epoch 00014: val_loss did not improve from 0.39068\n",
            "Epoch 15/50\n",
            " - 1s - loss: 0.4422 - acc: 0.8531 - val_loss: 0.6924 - val_acc: 0.6875\n",
            "\n",
            "Epoch 00015: val_loss did not improve from 0.39068\n",
            "Epoch 16/50\n",
            " - 1s - loss: 0.5523 - acc: 0.8063 - val_loss: 0.4372 - val_acc: 0.8359\n",
            "\n",
            "Epoch 00016: val_loss did not improve from 0.39068\n",
            "Epoch 17/50\n",
            " - 1s - loss: 0.4693 - acc: 0.7844 - val_loss: 0.3972 - val_acc: 0.8984\n",
            "\n",
            "Epoch 00017: val_loss did not improve from 0.39068\n",
            "Epoch 18/50\n",
            " - 1s - loss: 0.3640 - acc: 0.8844 - val_loss: 0.3894 - val_acc: 0.8594\n",
            "\n",
            "Epoch 00018: val_loss improved from 0.39068 to 0.38940, saving model to drive/My Drive/Resultado/weights_architecture_3.hdf5\n",
            "Epoch 19/50\n",
            " - 1s - loss: 0.2979 - acc: 0.8969 - val_loss: 0.4130 - val_acc: 0.8750\n",
            "\n",
            "Epoch 00019: val_loss did not improve from 0.38940\n",
            "Epoch 20/50\n",
            " - 1s - loss: 0.3685 - acc: 0.8812 - val_loss: 0.4194 - val_acc: 0.7422\n",
            "\n",
            "Epoch 00020: val_loss did not improve from 0.38940\n",
            "Epoch 21/50\n",
            " - 1s - loss: 0.5478 - acc: 0.8469 - val_loss: 0.4661 - val_acc: 0.8152\n",
            "\n",
            "Epoch 00021: val_loss did not improve from 0.38940\n",
            "Epoch 22/50\n",
            " - 1s - loss: 0.3610 - acc: 0.8844 - val_loss: 0.2846 - val_acc: 0.8906\n",
            "\n",
            "Epoch 00022: val_loss improved from 0.38940 to 0.28461, saving model to drive/My Drive/Resultado/weights_architecture_3.hdf5\n",
            "Epoch 23/50\n",
            " - 1s - loss: 0.3571 - acc: 0.8844 - val_loss: 0.5875 - val_acc: 0.7188\n",
            "\n",
            "Epoch 00023: val_loss did not improve from 0.28461\n",
            "Epoch 24/50\n",
            " - 1s - loss: 0.4538 - acc: 0.8375 - val_loss: 0.4814 - val_acc: 0.8203\n",
            "\n",
            "Epoch 00024: val_loss did not improve from 0.28461\n",
            "Epoch 25/50\n",
            " - 1s - loss: 0.3568 - acc: 0.8937 - val_loss: 0.6027 - val_acc: 0.7344\n",
            "\n",
            "Epoch 00025: val_loss did not improve from 0.28461\n",
            "Epoch 26/50\n",
            " - 1s - loss: 0.3642 - acc: 0.8826 - val_loss: 0.6444 - val_acc: 0.7266\n",
            "\n",
            "Epoch 00026: val_loss did not improve from 0.28461\n",
            "Epoch 27/50\n",
            " - 1s - loss: 0.3572 - acc: 0.8937 - val_loss: 0.5077 - val_acc: 0.8047\n",
            "\n",
            "Epoch 00027: val_loss did not improve from 0.28461\n",
            "Epoch 28/50\n",
            " - 1s - loss: 0.4128 - acc: 0.8781 - val_loss: 0.4410 - val_acc: 0.8047\n",
            "\n",
            "Epoch 00028: val_loss did not improve from 0.28461\n",
            "Epoch 29/50\n",
            " - 1s - loss: 0.3201 - acc: 0.9062 - val_loss: 0.3920 - val_acc: 0.8516\n",
            "\n",
            "Epoch 00029: val_loss did not improve from 0.28461\n",
            "Epoch 30/50\n",
            " - 1s - loss: 0.4089 - acc: 0.8594 - val_loss: 0.5308 - val_acc: 0.7656\n",
            "\n",
            "Epoch 00030: val_loss did not improve from 0.28461\n",
            "Epoch 31/50\n",
            " - 1s - loss: 0.3589 - acc: 0.8844 - val_loss: 0.4588 - val_acc: 0.8125\n",
            "\n",
            "Epoch 00031: val_loss did not improve from 0.28461\n",
            "Epoch 32/50\n",
            " - 1s - loss: 0.3531 - acc: 0.8656 - val_loss: 0.4291 - val_acc: 0.8203\n",
            "\n",
            "Epoch 00032: val_loss did not improve from 0.28461\n",
            "Epoch 33/50\n",
            " - 1s - loss: 0.3119 - acc: 0.8906 - val_loss: 0.7189 - val_acc: 0.7422\n",
            "\n",
            "Epoch 00033: val_loss did not improve from 0.28461\n",
            "Epoch 34/50\n",
            " - 1s - loss: 0.3983 - acc: 0.8656 - val_loss: 0.3053 - val_acc: 0.8984\n",
            "\n",
            "Epoch 00034: val_loss did not improve from 0.28461\n",
            "Epoch 35/50\n",
            " - 1s - loss: 0.4937 - acc: 0.8094 - val_loss: 0.4212 - val_acc: 0.8203\n",
            "\n",
            "Epoch 00035: val_loss did not improve from 0.28461\n",
            "Epoch 36/50\n",
            " - 1s - loss: 0.3325 - acc: 0.8781 - val_loss: 0.3962 - val_acc: 0.8672\n",
            "\n",
            "Epoch 00036: val_loss did not improve from 0.28461\n",
            "Epoch 37/50\n",
            " - 1s - loss: 0.3362 - acc: 0.9031 - val_loss: 0.4084 - val_acc: 0.8125\n",
            "\n",
            "Epoch 00037: val_loss did not improve from 0.28461\n",
            "Epoch 38/50\n",
            " - 1s - loss: 0.4459 - acc: 0.8719 - val_loss: 0.6633 - val_acc: 0.7283\n",
            "\n",
            "Epoch 00038: val_loss did not improve from 0.28461\n",
            "Epoch 39/50\n",
            " - 1s - loss: 0.3173 - acc: 0.8906 - val_loss: 0.5224 - val_acc: 0.7656\n",
            "\n",
            "Epoch 00039: val_loss did not improve from 0.28461\n",
            "Epoch 40/50\n",
            " - 1s - loss: 0.3232 - acc: 0.9094 - val_loss: 0.3526 - val_acc: 0.8281\n",
            "\n",
            "Epoch 00040: val_loss did not improve from 0.28461\n",
            "Epoch 41/50\n",
            " - 1s - loss: 0.2752 - acc: 0.9313 - val_loss: 0.5158 - val_acc: 0.7656\n",
            "\n",
            "Epoch 00041: val_loss did not improve from 0.28461\n",
            "Epoch 42/50\n",
            " - 1s - loss: 0.4653 - acc: 0.8406 - val_loss: 0.3611 - val_acc: 0.9062\n",
            "\n",
            "Epoch 00042: val_loss did not improve from 0.28461\n",
            "Epoch 43/50\n",
            " - 1s - loss: 0.4788 - acc: 0.8094 - val_loss: 0.2943 - val_acc: 0.9141\n",
            "\n",
            "Epoch 00043: val_loss did not improve from 0.28461\n",
            "Epoch 44/50\n",
            " - 1s - loss: 0.3375 - acc: 0.8875 - val_loss: 0.5074 - val_acc: 0.7656\n",
            "\n",
            "Epoch 00044: val_loss did not improve from 0.28461\n",
            "Epoch 45/50\n",
            " - 1s - loss: 0.4380 - acc: 0.8469 - val_loss: 0.4085 - val_acc: 0.7812\n",
            "\n",
            "Epoch 00045: val_loss did not improve from 0.28461\n",
            "Epoch 46/50\n",
            " - 1s - loss: 0.3893 - acc: 0.8688 - val_loss: 0.3726 - val_acc: 0.8594\n",
            "\n",
            "Epoch 00046: val_loss did not improve from 0.28461\n",
            "Epoch 47/50\n",
            " - 1s - loss: 0.3728 - acc: 0.8750 - val_loss: 0.6097 - val_acc: 0.7344\n",
            "\n",
            "Epoch 00047: val_loss did not improve from 0.28461\n",
            "Epoch 48/50\n",
            " - 1s - loss: 0.3252 - acc: 0.8969 - val_loss: 0.3546 - val_acc: 0.8984\n",
            "\n",
            "Epoch 00048: val_loss did not improve from 0.28461\n",
            "Epoch 49/50\n",
            " - 1s - loss: 0.3786 - acc: 0.8812 - val_loss: 0.3176 - val_acc: 0.9219\n",
            "\n",
            "Epoch 00049: val_loss did not improve from 0.28461\n",
            "Epoch 50/50\n",
            " - 1s - loss: 0.2552 - acc: 0.9125 - val_loss: 0.4562 - val_acc: 0.8281\n",
            "\n",
            "Epoch 00050: val_loss did not improve from 0.28461\n"
          ],
          "name": "stdout"
        }
      ]
    },
    {
      "metadata": {
        "colab_type": "code",
        "id": "RXVTmOSb3Jmc",
        "outputId": "c07ebae6-78fd-451b-f9df-219dda0f964e",
        "colab": {
          "base_uri": "https://localhost:8080/",
          "height": 380
        }
      },
      "cell_type": "code",
      "source": [
        "# plotar loss e accuracy para os datasets 'train' e 'test'\n",
        "plt.style.use(\"ggplot\")\n",
        "plt.figure()\n",
        "plt.plot(training.history['acc'], label='Accuracy')\n",
        "plt.plot(training.history['loss'], label='Loss')\n",
        "plt.xlabel('Epochs')\n",
        "plt.ylabel('Accuracy')\n",
        "plt.title(\"Training Loss and Accuracy\")\n",
        "plt.ylabel(\"Loss/Accuracy\")\n",
        "plt.legend()\n",
        "plt.savefig('drive/My Drive/Resultado/architecture_3.png', bbox_inches='tight')"
      ],
      "execution_count": 0,
      "outputs": [
        {
          "output_type": "display_data",
          "data": {
            "image/png": "[encoded data removed]",
            "text/plain": [
              "<matplotlib.figure.Figure at 0x7f1d3d678390>"
            ]
          },
          "metadata": {
            "tags": []
          }
        }
      ]
    },
    {
      "metadata": {
        "id": "beMjDQ5a42rk",
        "colab_type": "code",
        "colab": {}
      },
      "cell_type": "code",
      "source": [
        "model.load_weights('drive/My Drive/Resultado/weights_architecture_3.hdf5')"
      ],
      "execution_count": 0,
      "outputs": []
    },
    {
      "metadata": {
        "colab_type": "code",
        "id": "NO1wFDaN3Jmn",
        "outputId": "7bfb33d1-805a-4b96-cc96-6ff3524193f1",
        "colab": {
          "base_uri": "https://localhost:8080/",
          "height": 35
        }
      },
      "cell_type": "code",
      "source": [
        "results['architecture_3'] = model.evaluate_generator(test_batches, steps=bSize, use_multiprocessing=True, verbose=1)"
      ],
      "execution_count": 0,
      "outputs": [
        {
          "output_type": "stream",
          "text": [
            "32/32 [==============================] - 26s 820ms/step\n"
          ],
          "name": "stdout"
        }
      ]
    },
    {
      "metadata": {
        "colab_type": "code",
        "id": "-h1AqUQL3Jmz",
        "outputId": "66885a4a-44f7-452c-b3f2-07229b17e271",
        "colab": {
          "base_uri": "https://localhost:8080/",
          "height": 35
        }
      },
      "cell_type": "code",
      "source": [
        "print('Test Loss: {} | Test Accuracy: {:.2f}%'.format(results['architecture_3'][0], 100 * results['architecture_3'][1]))"
      ],
      "execution_count": 0,
      "outputs": [
        {
          "output_type": "stream",
          "text": [
            "Test Loss: 0.4576370036229491 | Test Accuracy: 82.42%\n"
          ],
          "name": "stdout"
        }
      ]
    },
    {
      "metadata": {
        "id": "jkrlEFjlw030",
        "colab_type": "text"
      },
      "cell_type": "markdown",
      "source": [
        "### 4 tentativa  Accuracy: 91.50%"
      ]
    },
    {
      "metadata": {
        "id": "UJ7JELAiw2kb",
        "colab_type": "text"
      },
      "cell_type": "markdown",
      "source": [
        "Modelo adaptado do **Lucas Albertins**\n",
        "\n",
        "*   Sem os **dropout**\n"
      ]
    },
    {
      "metadata": {
        "colab_type": "code",
        "id": "4N0B_5a2xB3T",
        "colab": {}
      },
      "cell_type": "code",
      "source": [
        "from keras.layers import Conv2D, MaxPooling2D, GlobalMaxPooling2D, BatchNormalization\n",
        "from keras.regularizers import l2\n",
        "\n",
        "model = Sequential()\n",
        "\n",
        "model.add(Conv2D(32, (3, 3), activation='relu', kernel_regularizer=l2(1e-4), \n",
        "                 input_shape=(None, None, 3)))\n",
        "model.add(BatchNormalization())\n",
        "model.add(Conv2D(32, (3, 3), activation='relu', kernel_regularizer=l2(1e-4)))\n",
        "model.add(BatchNormalization())\n",
        "model.add(MaxPooling2D((2, 2)))\n",
        "\n",
        "model.add(Conv2D(64, (3, 3), activation='relu', kernel_regularizer=l2(1e-4)))\n",
        "model.add(BatchNormalization())\n",
        "model.add(Conv2D(64, (3, 3), activation='relu', kernel_regularizer=l2(1e-4)))\n",
        "model.add(BatchNormalization())\n",
        "model.add(MaxPooling2D((2, 2)))\n",
        "\n",
        "model.add(Conv2D(128, (1,1), kernel_regularizer=l2(1e-4)))\n",
        "model.add(GlobalMaxPooling2D())\n",
        "\n",
        "model.add(Dense(256, activation='relu', kernel_regularizer=l2(1e-4)))\n",
        "model.add(BatchNormalization())\n",
        "model.add(Dense(2, activation='sigmoid', kernel_regularizer=l2(1e-4)))"
      ],
      "execution_count": 0,
      "outputs": []
    },
    {
      "metadata": {
        "colab_type": "code",
        "id": "V9VHjygmxB3k",
        "colab": {}
      },
      "cell_type": "code",
      "source": [
        "model.compile(optimizer='adam', loss='binary_crossentropy', metrics=['accuracy'])"
      ],
      "execution_count": 0,
      "outputs": []
    },
    {
      "metadata": {
        "colab_type": "code",
        "id": "B4b-aFhp4RmP",
        "colab": {}
      },
      "cell_type": "code",
      "source": [
        "checkpointer = ModelCheckpoint(filepath='drive/My Drive/Resultado/weights_architecture_4.hdf5', verbose=1, save_best_only=True)"
      ],
      "execution_count": 0,
      "outputs": []
    },
    {
      "metadata": {
        "colab_type": "code",
        "id": "gE1pEJNR4RmV",
        "outputId": "779a42f7-666f-415a-8e1e-ec643b9b3290",
        "colab": {
          "base_uri": "https://localhost:8080/",
          "height": 3690
        }
      },
      "cell_type": "code",
      "source": [
        "training = model.fit_generator(train_batches, steps_per_epoch=stepsPerEpoche, \n",
        "                   validation_data=validation_batches, validation_steps=validationSteps,\n",
        "                   epochs=50, verbose=2, callbacks=[checkpointer])"
      ],
      "execution_count": 0,
      "outputs": [
        {
          "output_type": "stream",
          "text": [
            "Epoch 1/50\n",
            " - 3s - loss: 0.5066 - acc: 0.7531 - val_loss: 1.5576 - val_acc: 0.6172\n",
            "\n",
            "Epoch 00001: val_loss improved from inf to 1.55763, saving model to drive/My Drive/Resultado/weights_architecture_4.hdf5\n",
            "Epoch 2/50\n",
            " - 1s - loss: 0.3726 - acc: 0.8706 - val_loss: 1.3294 - val_acc: 0.6250\n",
            "\n",
            "Epoch 00002: val_loss improved from 1.55763 to 1.32936, saving model to drive/My Drive/Resultado/weights_architecture_4.hdf5\n",
            "Epoch 3/50\n",
            " - 1s - loss: 0.3990 - acc: 0.8656 - val_loss: 0.9812 - val_acc: 0.7031\n",
            "\n",
            "Epoch 00003: val_loss improved from 1.32936 to 0.98116, saving model to drive/My Drive/Resultado/weights_architecture_4.hdf5\n",
            "Epoch 4/50\n",
            " - 1s - loss: 0.3897 - acc: 0.8594 - val_loss: 0.5607 - val_acc: 0.8047\n",
            "\n",
            "Epoch 00004: val_loss improved from 0.98116 to 0.56068, saving model to drive/My Drive/Resultado/weights_architecture_4.hdf5\n",
            "Epoch 5/50\n",
            " - 1s - loss: 0.4259 - acc: 0.8563 - val_loss: 0.4963 - val_acc: 0.8594\n",
            "\n",
            "Epoch 00005: val_loss improved from 0.56068 to 0.49634, saving model to drive/My Drive/Resultado/weights_architecture_4.hdf5\n",
            "Epoch 6/50\n",
            " - 1s - loss: 0.3472 - acc: 0.8969 - val_loss: 0.3614 - val_acc: 0.8438\n",
            "\n",
            "Epoch 00006: val_loss improved from 0.49634 to 0.36144, saving model to drive/My Drive/Resultado/weights_architecture_4.hdf5\n",
            "Epoch 7/50\n",
            " - 1s - loss: 0.3329 - acc: 0.8937 - val_loss: 0.4378 - val_acc: 0.8281\n",
            "\n",
            "Epoch 00007: val_loss did not improve from 0.36144\n",
            "Epoch 8/50\n",
            " - 1s - loss: 0.3446 - acc: 0.8656 - val_loss: 0.5006 - val_acc: 0.8203\n",
            "\n",
            "Epoch 00008: val_loss did not improve from 0.36144\n",
            "Epoch 9/50\n",
            " - 1s - loss: 0.2854 - acc: 0.9188 - val_loss: 0.3536 - val_acc: 0.8672\n",
            "\n",
            "Epoch 00009: val_loss improved from 0.36144 to 0.35357, saving model to drive/My Drive/Resultado/weights_architecture_4.hdf5\n",
            "Epoch 10/50\n",
            " - 0s - loss: 0.3702 - acc: 0.8750 - val_loss: 0.3199 - val_acc: 0.8984\n",
            "\n",
            "Epoch 00010: val_loss improved from 0.35357 to 0.31990, saving model to drive/My Drive/Resultado/weights_architecture_4.hdf5\n",
            "Epoch 11/50\n",
            " - 1s - loss: 0.2727 - acc: 0.9000 - val_loss: 0.7239 - val_acc: 0.7734\n",
            "\n",
            "Epoch 00011: val_loss did not improve from 0.31990\n",
            "Epoch 12/50\n",
            " - 1s - loss: 0.3751 - acc: 0.8875 - val_loss: 0.2782 - val_acc: 0.9141\n",
            "\n",
            "Epoch 00012: val_loss improved from 0.31990 to 0.27822, saving model to drive/My Drive/Resultado/weights_architecture_4.hdf5\n",
            "Epoch 13/50\n",
            " - 1s - loss: 0.2405 - acc: 0.9375 - val_loss: 0.4353 - val_acc: 0.8750\n",
            "\n",
            "Epoch 00013: val_loss did not improve from 0.27822\n",
            "Epoch 14/50\n",
            " - 1s - loss: 0.3574 - acc: 0.8969 - val_loss: 1.2397 - val_acc: 0.6016\n",
            "\n",
            "Epoch 00014: val_loss did not improve from 0.27822\n",
            "Epoch 15/50\n",
            " - 1s - loss: 0.3002 - acc: 0.8906 - val_loss: 1.1741 - val_acc: 0.6328\n",
            "\n",
            "Epoch 00015: val_loss did not improve from 0.27822\n",
            "Epoch 16/50\n",
            " - 1s - loss: 0.3295 - acc: 0.8906 - val_loss: 0.5558 - val_acc: 0.8043\n",
            "\n",
            "Epoch 00016: val_loss did not improve from 0.27822\n",
            "Epoch 17/50\n",
            " - 1s - loss: 0.3352 - acc: 0.8906 - val_loss: 0.3550 - val_acc: 0.9062\n",
            "\n",
            "Epoch 00017: val_loss did not improve from 0.27822\n",
            "Epoch 18/50\n",
            " - 1s - loss: 0.2978 - acc: 0.9125 - val_loss: 0.3905 - val_acc: 0.8828\n",
            "\n",
            "Epoch 00018: val_loss did not improve from 0.27822\n",
            "Epoch 19/50\n",
            " - 1s - loss: 0.2889 - acc: 0.9188 - val_loss: 0.2334 - val_acc: 0.9375\n",
            "\n",
            "Epoch 00019: val_loss improved from 0.27822 to 0.23340, saving model to drive/My Drive/Resultado/weights_architecture_4.hdf5\n",
            "Epoch 20/50\n",
            " - 1s - loss: 0.3292 - acc: 0.8937 - val_loss: 0.4323 - val_acc: 0.8672\n",
            "\n",
            "Epoch 00020: val_loss did not improve from 0.23340\n",
            "Epoch 21/50\n",
            " - 1s - loss: 0.3528 - acc: 0.9156 - val_loss: 0.3346 - val_acc: 0.8750\n",
            "\n",
            "Epoch 00021: val_loss did not improve from 0.23340\n",
            "Epoch 22/50\n",
            " - 1s - loss: 0.4079 - acc: 0.8750 - val_loss: 0.4984 - val_acc: 0.7812\n",
            "\n",
            "Epoch 00022: val_loss did not improve from 0.23340\n",
            "Epoch 23/50\n",
            " - 1s - loss: 0.2830 - acc: 0.9156 - val_loss: 0.3231 - val_acc: 0.8828\n",
            "\n",
            "Epoch 00023: val_loss did not improve from 0.23340\n",
            "Epoch 24/50\n",
            " - 1s - loss: 0.3028 - acc: 0.9188 - val_loss: 0.3041 - val_acc: 0.9062\n",
            "\n",
            "Epoch 00024: val_loss did not improve from 0.23340\n",
            "Epoch 25/50\n",
            " - 1s - loss: 0.2596 - acc: 0.9406 - val_loss: 0.5619 - val_acc: 0.8281\n",
            "\n",
            "Epoch 00025: val_loss did not improve from 0.23340\n",
            "Epoch 26/50\n",
            " - 1s - loss: 0.3135 - acc: 0.9250 - val_loss: 0.4427 - val_acc: 0.8281\n",
            "\n",
            "Epoch 00026: val_loss did not improve from 0.23340\n",
            "Epoch 27/50\n",
            " - 1s - loss: 0.2334 - acc: 0.9375 - val_loss: 0.2898 - val_acc: 0.8750\n",
            "\n",
            "Epoch 00027: val_loss did not improve from 0.23340\n",
            "Epoch 28/50\n",
            " - 1s - loss: 0.1696 - acc: 0.9736 - val_loss: 0.3797 - val_acc: 0.9297\n",
            "\n",
            "Epoch 00028: val_loss did not improve from 0.23340\n",
            "Epoch 29/50\n",
            " - 1s - loss: 0.2314 - acc: 0.9188 - val_loss: 0.4052 - val_acc: 0.8828\n",
            "\n",
            "Epoch 00029: val_loss did not improve from 0.23340\n",
            "Epoch 30/50\n",
            " - 1s - loss: 0.3656 - acc: 0.8812 - val_loss: 0.1569 - val_acc: 0.9844\n",
            "\n",
            "Epoch 00030: val_loss improved from 0.23340 to 0.15692, saving model to drive/My Drive/Resultado/weights_architecture_4.hdf5\n",
            "Epoch 31/50\n",
            " - 1s - loss: 0.3804 - acc: 0.8625 - val_loss: 0.2780 - val_acc: 0.9219\n",
            "\n",
            "Epoch 00031: val_loss did not improve from 0.15692\n",
            "Epoch 32/50\n",
            " - 1s - loss: 0.3074 - acc: 0.9344 - val_loss: 0.1477 - val_acc: 0.9783\n",
            "\n",
            "Epoch 00032: val_loss improved from 0.15692 to 0.14774, saving model to drive/My Drive/Resultado/weights_architecture_4.hdf5\n",
            "Epoch 33/50\n",
            " - 1s - loss: 0.3001 - acc: 0.8969 - val_loss: 0.4821 - val_acc: 0.8594\n",
            "\n",
            "Epoch 00033: val_loss did not improve from 0.14774\n",
            "Epoch 34/50\n",
            " - 1s - loss: 0.3216 - acc: 0.8969 - val_loss: 0.2356 - val_acc: 0.9375\n",
            "\n",
            "Epoch 00034: val_loss did not improve from 0.14774\n",
            "Epoch 35/50\n",
            " - 1s - loss: 0.2847 - acc: 0.9156 - val_loss: 0.3480 - val_acc: 0.8906\n",
            "\n",
            "Epoch 00035: val_loss did not improve from 0.14774\n",
            "Epoch 36/50\n",
            " - 1s - loss: 0.3886 - acc: 0.8750 - val_loss: 0.1959 - val_acc: 0.9531\n",
            "\n",
            "Epoch 00036: val_loss did not improve from 0.14774\n",
            "Epoch 37/50\n",
            " - 1s - loss: 0.2639 - acc: 0.9031 - val_loss: 0.3226 - val_acc: 0.8750\n",
            "\n",
            "Epoch 00037: val_loss did not improve from 0.14774\n",
            "Epoch 38/50\n",
            " - 1s - loss: 0.3139 - acc: 0.9062 - val_loss: 0.2368 - val_acc: 0.9141\n",
            "\n",
            "Epoch 00038: val_loss did not improve from 0.14774\n",
            "Epoch 39/50\n",
            " - 1s - loss: 0.2762 - acc: 0.9156 - val_loss: 0.3401 - val_acc: 0.9062\n",
            "\n",
            "Epoch 00039: val_loss did not improve from 0.14774\n",
            "Epoch 40/50\n",
            " - 1s - loss: 0.2065 - acc: 0.9406 - val_loss: 0.2346 - val_acc: 0.9688\n",
            "\n",
            "Epoch 00040: val_loss did not improve from 0.14774\n",
            "Epoch 41/50\n",
            " - 1s - loss: 0.1909 - acc: 0.9531 - val_loss: 0.2824 - val_acc: 0.9062\n",
            "\n",
            "Epoch 00041: val_loss did not improve from 0.14774\n",
            "Epoch 42/50\n",
            " - 1s - loss: 0.3049 - acc: 0.9156 - val_loss: 0.3312 - val_acc: 0.9375\n",
            "\n",
            "Epoch 00042: val_loss did not improve from 0.14774\n",
            "Epoch 43/50\n",
            " - 1s - loss: 0.3322 - acc: 0.9062 - val_loss: 0.4106 - val_acc: 0.8672\n",
            "\n",
            "Epoch 00043: val_loss did not improve from 0.14774\n",
            "Epoch 44/50\n",
            " - 1s - loss: 0.3245 - acc: 0.8906 - val_loss: 0.3538 - val_acc: 0.8750\n",
            "\n",
            "Epoch 00044: val_loss did not improve from 0.14774\n",
            "Epoch 45/50\n",
            " - 1s - loss: 0.2219 - acc: 0.9437 - val_loss: 0.3858 - val_acc: 0.8750\n",
            "\n",
            "Epoch 00045: val_loss did not improve from 0.14774\n",
            "Epoch 46/50\n",
            " - 1s - loss: 0.2590 - acc: 0.9250 - val_loss: 0.3622 - val_acc: 0.9297\n",
            "\n",
            "Epoch 00046: val_loss did not improve from 0.14774\n",
            "Epoch 47/50\n",
            " - 1s - loss: 0.3000 - acc: 0.9219 - val_loss: 0.5247 - val_acc: 0.8359\n",
            "\n",
            "Epoch 00047: val_loss did not improve from 0.14774\n",
            "Epoch 48/50\n",
            " - 1s - loss: 0.2952 - acc: 0.8969 - val_loss: 0.2156 - val_acc: 0.9297\n",
            "\n",
            "Epoch 00048: val_loss did not improve from 0.14774\n",
            "Epoch 49/50\n",
            " - 1s - loss: 0.3291 - acc: 0.9000 - val_loss: 0.4483 - val_acc: 0.8478\n",
            "\n",
            "Epoch 00049: val_loss did not improve from 0.14774\n",
            "Epoch 50/50\n",
            " - 1s - loss: 0.2519 - acc: 0.9250 - val_loss: 0.2426 - val_acc: 0.9062\n",
            "\n",
            "Epoch 00050: val_loss did not improve from 0.14774\n"
          ],
          "name": "stdout"
        }
      ]
    },
    {
      "metadata": {
        "colab_type": "code",
        "outputId": "55cadd9d-96be-4136-e4f7-61342861b1d3",
        "id": "lFpl5k8o4Rme",
        "colab": {
          "base_uri": "https://localhost:8080/",
          "height": 380
        }
      },
      "cell_type": "code",
      "source": [
        "# plotar loss e accuracy para os datasets 'train' e 'test'\n",
        "plt.style.use(\"ggplot\")\n",
        "plt.figure()\n",
        "plt.plot(training.history['acc'], label='Accuracy')\n",
        "plt.plot(training.history['loss'], label='Loss')\n",
        "plt.xlabel('Epochs')\n",
        "plt.ylabel('Accuracy')\n",
        "plt.title(\"Training Loss and Accuracy\")\n",
        "plt.ylabel(\"Loss/Accuracy\")\n",
        "plt.legend()\n",
        "plt.savefig('drive/My Drive/Resultado/architecture_4.png', bbox_inches='tight')"
      ],
      "execution_count": 0,
      "outputs": [
        {
          "output_type": "display_data",
          "data": {
            "image/png": "[encoded data removed]",
            "text/plain": [
              "<matplotlib.figure.Figure at 0x7f1d3d707588>"
            ]
          },
          "metadata": {
            "tags": []
          }
        }
      ]
    },
    {
      "metadata": {
        "id": "MhD8Yac15Xio",
        "colab_type": "code",
        "colab": {}
      },
      "cell_type": "code",
      "source": [
        "model.load_weights('drive/My Drive/Resultado/weights_architecture_4.hdf5')"
      ],
      "execution_count": 0,
      "outputs": []
    },
    {
      "metadata": {
        "colab_type": "code",
        "id": "ntC2DQb84Rm2",
        "colab": {
          "base_uri": "https://localhost:8080/",
          "height": 35
        },
        "outputId": "201b687e-3a6a-4b79-eab3-bf155ac37ad5"
      },
      "cell_type": "code",
      "source": [
        "results['architecture_4'] = model.evaluate_generator(test_batches, steps=bSize, use_multiprocessing=True, verbose=1)"
      ],
      "execution_count": 12,
      "outputs": [
        {
          "output_type": "stream",
          "text": [
            "32/32 [==============================] - 271s 8s/step\n"
          ],
          "name": "stdout"
        }
      ]
    },
    {
      "metadata": {
        "colab_type": "code",
        "id": "AFSvmeU84Rm9",
        "colab": {
          "base_uri": "https://localhost:8080/",
          "height": 35
        },
        "outputId": "8043663c-31fd-48fc-e5a4-b1b03df139f5"
      },
      "cell_type": "code",
      "source": [
        "print('Test Loss: {} | Test Accuracy: {:.2f}%'.format(results['architecture_4'][0], 100 * results['architecture_4'][1]))"
      ],
      "execution_count": 13,
      "outputs": [
        {
          "output_type": "stream",
          "text": [
            "Test Loss: 0.32450786884874105 | Test Accuracy: 91.50%\n"
          ],
          "name": "stdout"
        }
      ]
    },
    {
      "metadata": {
        "id": "lX3WANMgB1Ew",
        "colab_type": "text"
      },
      "cell_type": "markdown",
      "source": [
        "### 5 tentativa Accuracy: 90.23%"
      ]
    },
    {
      "metadata": {
        "colab_type": "text",
        "id": "dqed1VQh6WXg"
      },
      "cell_type": "markdown",
      "source": [
        "Modelo adaptado do **Lucas Albertins**\n",
        "\n",
        "*   Sem os **dropout**\n",
        "*   Função **SGD** para compilação\n"
      ]
    },
    {
      "metadata": {
        "colab_type": "code",
        "id": "z9mlUa4mB-ER",
        "colab": {}
      },
      "cell_type": "code",
      "source": [
        "from keras.layers import Conv2D, MaxPooling2D, GlobalMaxPooling2D, BatchNormalization\n",
        "from keras.regularizers import l2\n",
        "\n",
        "model = Sequential()\n",
        "\n",
        "model.add(Conv2D(32, (3, 3), activation='relu', kernel_regularizer=l2(1e-4), \n",
        "                 input_shape=(None, None, 3)))\n",
        "model.add(BatchNormalization())\n",
        "model.add(Conv2D(32, (3, 3), activation='relu', kernel_regularizer=l2(1e-4)))\n",
        "model.add(BatchNormalization())\n",
        "model.add(MaxPooling2D((2, 2)))\n",
        "model.add(Dropout(0.25))\n",
        "\n",
        "model.add(Conv2D(64, (3, 3), activation='relu', kernel_regularizer=l2(1e-4)))\n",
        "model.add(BatchNormalization())\n",
        "model.add(Conv2D(64, (3, 3), activation='relu', kernel_regularizer=l2(1e-4)))\n",
        "model.add(BatchNormalization())\n",
        "model.add(MaxPooling2D((2, 2)))\n",
        "model.add(Dropout(0.25))\n",
        "\n",
        "model.add(Conv2D(128, (1,1), kernel_regularizer=l2(1e-4)))\n",
        "model.add(GlobalMaxPooling2D())\n",
        "\n",
        "model.add(Dense(256, activation='relu', kernel_regularizer=l2(1e-4)))\n",
        "model.add(Dropout(0.5))\n",
        "model.add(Dense(2, activation='sigmoid', kernel_regularizer=l2(1e-4)))"
      ],
      "execution_count": 0,
      "outputs": []
    },
    {
      "metadata": {
        "id": "ukvJwM-lCHtB",
        "colab_type": "code",
        "colab": {}
      },
      "cell_type": "code",
      "source": [
        "model.compile(SGD(lr=0.01, momentum=0.0, decay=0.0, nesterov=False), \n",
        "              loss='binary_crossentropy', metrics=['accuracy'])"
      ],
      "execution_count": 0,
      "outputs": []
    },
    {
      "metadata": {
        "colab_type": "code",
        "id": "BuvCUFsS4gfl",
        "colab": {}
      },
      "cell_type": "code",
      "source": [
        "checkpointer = ModelCheckpoint(filepath='drive/My Drive/Resultado/weights_architecture_5.hdf5', verbose=1, save_best_only=True)"
      ],
      "execution_count": 0,
      "outputs": []
    },
    {
      "metadata": {
        "colab_type": "code",
        "id": "06GSgiIj4gfo",
        "outputId": "94410879-9c47-4203-b95a-f587c30bc6b1",
        "colab": {
          "base_uri": "https://localhost:8080/",
          "height": 3690
        }
      },
      "cell_type": "code",
      "source": [
        "training = model.fit_generator(train_batches, steps_per_epoch=stepsPerEpoche, \n",
        "                   validation_data=validation_batches, validation_steps=validationSteps,\n",
        "                   epochs=50, verbose=2, callbacks=[checkpointer])"
      ],
      "execution_count": 0,
      "outputs": [
        {
          "output_type": "stream",
          "text": [
            "Epoch 1/50\n",
            " - 3s - loss: 3.1745 - acc: 0.5312 - val_loss: 1.6855 - val_acc: 0.4766\n",
            "\n",
            "Epoch 00001: val_loss improved from inf to 1.68548, saving model to drive/My Drive/Resultado/weights_architecture_5.hdf5\n",
            "Epoch 2/50\n",
            " - 0s - loss: 1.5446 - acc: 0.5906 - val_loss: 0.8405 - val_acc: 0.5000\n",
            "\n",
            "Epoch 00002: val_loss improved from 1.68548 to 0.84046, saving model to drive/My Drive/Resultado/weights_architecture_5.hdf5\n",
            "Epoch 3/50\n",
            " - 0s - loss: 1.6346 - acc: 0.4969 - val_loss: 0.9158 - val_acc: 0.5469\n",
            "\n",
            "Epoch 00003: val_loss did not improve from 0.84046\n",
            "Epoch 4/50\n",
            " - 0s - loss: 1.2386 - acc: 0.4937 - val_loss: 0.6496 - val_acc: 0.6641\n",
            "\n",
            "Epoch 00004: val_loss improved from 0.84046 to 0.64956, saving model to drive/My Drive/Resultado/weights_architecture_5.hdf5\n",
            "Epoch 5/50\n",
            " - 0s - loss: 0.8930 - acc: 0.5781 - val_loss: 0.8542 - val_acc: 0.4141\n",
            "\n",
            "Epoch 00005: val_loss did not improve from 0.64956\n",
            "Epoch 6/50\n",
            " - 0s - loss: 0.7430 - acc: 0.6844 - val_loss: 0.5685 - val_acc: 0.7812\n",
            "\n",
            "Epoch 00006: val_loss improved from 0.64956 to 0.56853, saving model to drive/My Drive/Resultado/weights_architecture_5.hdf5\n",
            "Epoch 7/50\n",
            " - 0s - loss: 0.5881 - acc: 0.7281 - val_loss: 0.5575 - val_acc: 0.7109\n",
            "\n",
            "Epoch 00007: val_loss improved from 0.56853 to 0.55750, saving model to drive/My Drive/Resultado/weights_architecture_5.hdf5\n",
            "Epoch 8/50\n",
            " - 0s - loss: 0.4800 - acc: 0.7969 - val_loss: 0.5709 - val_acc: 0.7344\n",
            "\n",
            "Epoch 00008: val_loss did not improve from 0.55750\n",
            "Epoch 9/50\n",
            " - 1s - loss: 0.5645 - acc: 0.7938 - val_loss: 0.6661 - val_acc: 0.7109\n",
            "\n",
            "Epoch 00009: val_loss did not improve from 0.55750\n",
            "Epoch 10/50\n",
            " - 1s - loss: 0.5808 - acc: 0.7562 - val_loss: 0.6183 - val_acc: 0.7031\n",
            "\n",
            "Epoch 00010: val_loss did not improve from 0.55750\n",
            "Epoch 11/50\n",
            " - 1s - loss: 0.4956 - acc: 0.7625 - val_loss: 0.6506 - val_acc: 0.7031\n",
            "\n",
            "Epoch 00011: val_loss did not improve from 0.55750\n",
            "Epoch 12/50\n",
            " - 1s - loss: 0.5208 - acc: 0.7969 - val_loss: 0.5559 - val_acc: 0.7734\n",
            "\n",
            "Epoch 00012: val_loss improved from 0.55750 to 0.55594, saving model to drive/My Drive/Resultado/weights_architecture_5.hdf5\n",
            "Epoch 13/50\n",
            " - 1s - loss: 0.5254 - acc: 0.8031 - val_loss: 0.5697 - val_acc: 0.8047\n",
            "\n",
            "Epoch 00013: val_loss did not improve from 0.55594\n",
            "Epoch 14/50\n",
            " - 1s - loss: 0.4425 - acc: 0.8125 - val_loss: 0.6019 - val_acc: 0.6719\n",
            "\n",
            "Epoch 00014: val_loss did not improve from 0.55594\n",
            "Epoch 15/50\n",
            " - 1s - loss: 0.4504 - acc: 0.8469 - val_loss: 0.5520 - val_acc: 0.7109\n",
            "\n",
            "Epoch 00015: val_loss improved from 0.55594 to 0.55199, saving model to drive/My Drive/Resultado/weights_architecture_5.hdf5\n",
            "Epoch 16/50\n",
            " - 1s - loss: 0.5349 - acc: 0.8187 - val_loss: 0.5531 - val_acc: 0.7188\n",
            "\n",
            "Epoch 00016: val_loss did not improve from 0.55199\n",
            "Epoch 17/50\n",
            " - 1s - loss: 0.5078 - acc: 0.8219 - val_loss: 0.5376 - val_acc: 0.7065\n",
            "\n",
            "Epoch 00017: val_loss improved from 0.55199 to 0.53765, saving model to drive/My Drive/Resultado/weights_architecture_5.hdf5\n",
            "Epoch 18/50\n",
            " - 1s - loss: 0.5117 - acc: 0.8063 - val_loss: 0.6124 - val_acc: 0.6641\n",
            "\n",
            "Epoch 00018: val_loss did not improve from 0.53765\n",
            "Epoch 19/50\n",
            " - 1s - loss: 0.4400 - acc: 0.8625 - val_loss: 0.5868 - val_acc: 0.7578\n",
            "\n",
            "Epoch 00019: val_loss did not improve from 0.53765\n",
            "Epoch 20/50\n",
            " - 1s - loss: 0.4862 - acc: 0.8344 - val_loss: 0.5401 - val_acc: 0.7812\n",
            "\n",
            "Epoch 00020: val_loss did not improve from 0.53765\n",
            "Epoch 21/50\n",
            " - 1s - loss: 0.4525 - acc: 0.8125 - val_loss: 0.6272 - val_acc: 0.5312\n",
            "\n",
            "Epoch 00021: val_loss did not improve from 0.53765\n",
            "Epoch 22/50\n",
            " - 1s - loss: 0.4471 - acc: 0.8375 - val_loss: 0.6922 - val_acc: 0.5781\n",
            "\n",
            "Epoch 00022: val_loss did not improve from 0.53765\n",
            "Epoch 23/50\n",
            " - 1s - loss: 0.4524 - acc: 0.7875 - val_loss: 0.5797 - val_acc: 0.6953\n",
            "\n",
            "Epoch 00023: val_loss did not improve from 0.53765\n",
            "Epoch 24/50\n",
            " - 1s - loss: 0.4095 - acc: 0.8312 - val_loss: 0.5568 - val_acc: 0.7578\n",
            "\n",
            "Epoch 00024: val_loss did not improve from 0.53765\n",
            "Epoch 25/50\n",
            " - 1s - loss: 0.4627 - acc: 0.8500 - val_loss: 0.5581 - val_acc: 0.7578\n",
            "\n",
            "Epoch 00025: val_loss did not improve from 0.53765\n",
            "Epoch 26/50\n",
            " - 1s - loss: 0.4222 - acc: 0.8466 - val_loss: 0.4362 - val_acc: 0.8125\n",
            "\n",
            "Epoch 00026: val_loss improved from 0.53765 to 0.43616, saving model to drive/My Drive/Resultado/weights_architecture_5.hdf5\n",
            "Epoch 27/50\n",
            " - 0s - loss: 0.3518 - acc: 0.8906 - val_loss: 0.5772 - val_acc: 0.7422\n",
            "\n",
            "Epoch 00027: val_loss did not improve from 0.43616\n",
            "Epoch 28/50\n",
            " - 0s - loss: 0.3399 - acc: 0.9125 - val_loss: 0.6313 - val_acc: 0.6875\n",
            "\n",
            "Epoch 00028: val_loss did not improve from 0.43616\n",
            "Epoch 29/50\n",
            " - 1s - loss: 0.4099 - acc: 0.8500 - val_loss: 0.3834 - val_acc: 0.8828\n",
            "\n",
            "Epoch 00029: val_loss improved from 0.43616 to 0.38337, saving model to drive/My Drive/Resultado/weights_architecture_5.hdf5\n",
            "Epoch 30/50\n",
            " - 1s - loss: 0.3905 - acc: 0.8844 - val_loss: 0.5648 - val_acc: 0.7734\n",
            "\n",
            "Epoch 00030: val_loss did not improve from 0.38337\n",
            "Epoch 31/50\n",
            " - 1s - loss: 0.4173 - acc: 0.8688 - val_loss: 0.5803 - val_acc: 0.7266\n",
            "\n",
            "Epoch 00031: val_loss did not improve from 0.38337\n",
            "Epoch 32/50\n",
            " - 1s - loss: 0.4568 - acc: 0.8469 - val_loss: 0.5355 - val_acc: 0.7188\n",
            "\n",
            "Epoch 00032: val_loss did not improve from 0.38337\n",
            "Epoch 33/50\n",
            " - 1s - loss: 0.4474 - acc: 0.8094 - val_loss: 0.6203 - val_acc: 0.7717\n",
            "\n",
            "Epoch 00033: val_loss did not improve from 0.38337\n",
            "Epoch 34/50\n",
            " - 1s - loss: 0.4731 - acc: 0.8344 - val_loss: 0.6029 - val_acc: 0.6016\n",
            "\n",
            "Epoch 00034: val_loss did not improve from 0.38337\n",
            "Epoch 35/50\n",
            " - 1s - loss: 0.3971 - acc: 0.8563 - val_loss: 0.6434 - val_acc: 0.5469\n",
            "\n",
            "Epoch 00035: val_loss did not improve from 0.38337\n",
            "Epoch 36/50\n",
            " - 1s - loss: 0.3541 - acc: 0.8969 - val_loss: 0.5955 - val_acc: 0.7422\n",
            "\n",
            "Epoch 00036: val_loss did not improve from 0.38337\n",
            "Epoch 37/50\n",
            " - 1s - loss: 0.4068 - acc: 0.8719 - val_loss: 0.6266 - val_acc: 0.6406\n",
            "\n",
            "Epoch 00037: val_loss did not improve from 0.38337\n",
            "Epoch 38/50\n",
            " - 1s - loss: 0.3932 - acc: 0.8812 - val_loss: 0.6001 - val_acc: 0.7031\n",
            "\n",
            "Epoch 00038: val_loss did not improve from 0.38337\n",
            "Epoch 39/50\n",
            " - 1s - loss: 0.4070 - acc: 0.8344 - val_loss: 0.5437 - val_acc: 0.7500\n",
            "\n",
            "Epoch 00039: val_loss did not improve from 0.38337\n",
            "Epoch 40/50\n",
            " - 1s - loss: 0.3391 - acc: 0.9219 - val_loss: 0.4428 - val_acc: 0.8359\n",
            "\n",
            "Epoch 00040: val_loss did not improve from 0.38337\n",
            "Epoch 41/50\n",
            " - 1s - loss: 0.3609 - acc: 0.8719 - val_loss: 0.5546 - val_acc: 0.7656\n",
            "\n",
            "Epoch 00041: val_loss did not improve from 0.38337\n",
            "Epoch 42/50\n",
            " - 1s - loss: 0.3378 - acc: 0.8656 - val_loss: 0.4114 - val_acc: 0.8125\n",
            "\n",
            "Epoch 00042: val_loss did not improve from 0.38337\n",
            "Epoch 43/50\n",
            " - 1s - loss: 0.2955 - acc: 0.9219 - val_loss: 0.4813 - val_acc: 0.8125\n",
            "\n",
            "Epoch 00043: val_loss did not improve from 0.38337\n",
            "Epoch 44/50\n",
            " - 1s - loss: 0.4271 - acc: 0.8250 - val_loss: 0.5858 - val_acc: 0.7109\n",
            "\n",
            "Epoch 00044: val_loss did not improve from 0.38337\n",
            "Epoch 45/50\n",
            " - 1s - loss: 0.5305 - acc: 0.8094 - val_loss: 0.4430 - val_acc: 0.8438\n",
            "\n",
            "Epoch 00045: val_loss did not improve from 0.38337\n",
            "Epoch 46/50\n",
            " - 1s - loss: 0.4092 - acc: 0.8812 - val_loss: 0.4348 - val_acc: 0.8203\n",
            "\n",
            "Epoch 00046: val_loss did not improve from 0.38337\n",
            "Epoch 47/50\n",
            " - 1s - loss: 0.4792 - acc: 0.8312 - val_loss: 0.5596 - val_acc: 0.7109\n",
            "\n",
            "Epoch 00047: val_loss did not improve from 0.38337\n",
            "Epoch 48/50\n",
            " - 1s - loss: 0.3766 - acc: 0.8781 - val_loss: 0.5462 - val_acc: 0.7656\n",
            "\n",
            "Epoch 00048: val_loss did not improve from 0.38337\n",
            "Epoch 49/50\n",
            " - 1s - loss: 0.4196 - acc: 0.8469 - val_loss: 0.5408 - val_acc: 0.7500\n",
            "\n",
            "Epoch 00049: val_loss did not improve from 0.38337\n",
            "Epoch 50/50\n",
            " - 1s - loss: 0.3916 - acc: 0.8719 - val_loss: 0.2560 - val_acc: 0.9348\n",
            "\n",
            "Epoch 00050: val_loss improved from 0.38337 to 0.25599, saving model to drive/My Drive/Resultado/weights_architecture_5.hdf5\n"
          ],
          "name": "stdout"
        }
      ]
    },
    {
      "metadata": {
        "colab_type": "code",
        "id": "0mSPug6x4gfs",
        "outputId": "08c26f68-12e1-47ac-87c5-897ac1cbcf04",
        "colab": {
          "base_uri": "https://localhost:8080/",
          "height": 380
        }
      },
      "cell_type": "code",
      "source": [
        "# plotar loss e accuracy para os datasets 'train' e 'test'\n",
        "plt.style.use(\"ggplot\")\n",
        "plt.figure()\n",
        "plt.plot(training.history['acc'], label='Accuracy')\n",
        "plt.plot(training.history['loss'], label='Loss')\n",
        "plt.xlabel('Epochs')\n",
        "plt.ylabel('Accuracy')\n",
        "plt.title(\"Training Loss and Accuracy\")\n",
        "plt.ylabel(\"Loss/Accuracy\")\n",
        "plt.legend()\n",
        "plt.savefig('drive/My Drive/Resultado/architecture_5.png', bbox_inches='tight')"
      ],
      "execution_count": 0,
      "outputs": [
        {
          "output_type": "display_data",
          "data": {
            "image/png": "[encoded data removed]",
            "text/plain": [
              "<matplotlib.figure.Figure at 0x7f6a875abfd0>"
            ]
          },
          "metadata": {
            "tags": []
          }
        }
      ]
    },
    {
      "metadata": {
        "id": "vy2jjjoB5gBo",
        "colab_type": "code",
        "colab": {}
      },
      "cell_type": "code",
      "source": [
        "model.load_weights('drive/My Drive/Resultado/weights_architecture_5.hdf5')"
      ],
      "execution_count": 0,
      "outputs": []
    },
    {
      "metadata": {
        "colab_type": "code",
        "id": "_JgTPZOc4gf0",
        "outputId": "6ea389a7-61e3-43cb-9c41-5193961f8924",
        "colab": {
          "base_uri": "https://localhost:8080/",
          "height": 35
        }
      },
      "cell_type": "code",
      "source": [
        "results['architecture_5'] = model.evaluate_generator(test_batches, steps=bSize, use_multiprocessing=True, verbose=1)"
      ],
      "execution_count": 0,
      "outputs": [
        {
          "output_type": "stream",
          "text": [
            "32/32 [==============================] - 3s 104ms/step\n"
          ],
          "name": "stdout"
        }
      ]
    },
    {
      "metadata": {
        "colab_type": "code",
        "id": "btSZrFLQ4gf5",
        "outputId": "4ac0077e-a86e-4c89-9799-bb3ff4d24fd0",
        "colab": {
          "base_uri": "https://localhost:8080/",
          "height": 35
        }
      },
      "cell_type": "code",
      "source": [
        "print('Test Loss: {} | Test Accuracy: {:.2f}%'.format(results['architecture_5'][0], 100 * results['architecture_5'][1]))"
      ],
      "execution_count": 0,
      "outputs": [
        {
          "output_type": "stream",
          "text": [
            "Test Loss: 0.550288911908865 | Test Accuracy: 76.66%\n"
          ],
          "name": "stdout"
        }
      ]
    },
    {
      "metadata": {
        "id": "apfIeirYD2N7",
        "colab_type": "text"
      },
      "cell_type": "markdown",
      "source": [
        "### 6 tentativa  Accuracy: 89.26%"
      ]
    },
    {
      "metadata": {
        "colab_type": "text",
        "id": "xaxcjuxn7BAH"
      },
      "cell_type": "markdown",
      "source": [
        "Modelo adaptado do **Lucas Albertins**\n",
        "\n",
        "*   Sem os **dropout**\n",
        "*   Função **SGD** para compilação\n",
        "*   **BatchNormalization** antes da ultima camada Dense\n"
      ]
    },
    {
      "metadata": {
        "colab_type": "code",
        "id": "C2UuO-jqD44u",
        "colab": {}
      },
      "cell_type": "code",
      "source": [
        "from keras.layers import Conv2D, MaxPooling2D, GlobalMaxPooling2D, BatchNormalization\n",
        "from keras.regularizers import l2\n",
        "\n",
        "model = Sequential()\n",
        "\n",
        "model.add(Conv2D(32, (3, 3), activation='relu', kernel_regularizer=l2(1e-4), \n",
        "                 input_shape=(None, None, 3)))\n",
        "model.add(BatchNormalization())\n",
        "model.add(Conv2D(32, (3, 3), activation='relu', kernel_regularizer=l2(1e-4)))\n",
        "model.add(BatchNormalization())\n",
        "model.add(MaxPooling2D((2, 2)))\n",
        "\n",
        "model.add(Conv2D(64, (3, 3), activation='relu', kernel_regularizer=l2(1e-4)))\n",
        "model.add(BatchNormalization())\n",
        "model.add(Conv2D(64, (3, 3), activation='relu', kernel_regularizer=l2(1e-4)))\n",
        "model.add(BatchNormalization())\n",
        "model.add(MaxPooling2D((2, 2)))\n",
        "\n",
        "model.add(Conv2D(128, (1,1), kernel_regularizer=l2(1e-4)))\n",
        "model.add(GlobalMaxPooling2D())\n",
        "\n",
        "model.add(Dense(256, activation='relu', kernel_regularizer=l2(1e-4)))\n",
        "model.add(BatchNormalization())\n",
        "model.add(Dense(2, activation='sigmoid', kernel_regularizer=l2(1e-4)))"
      ],
      "execution_count": 0,
      "outputs": []
    },
    {
      "metadata": {
        "colab_type": "code",
        "id": "I7mu97znD45M",
        "colab": {}
      },
      "cell_type": "code",
      "source": [
        "model.compile(SGD(lr=0.03, momentum=0.0, decay=0.0, nesterov=False), \n",
        "              loss='binary_crossentropy', metrics=['accuracy'])"
      ],
      "execution_count": 0,
      "outputs": []
    },
    {
      "metadata": {
        "colab_type": "code",
        "id": "LEdI9Ilj6scL",
        "colab": {}
      },
      "cell_type": "code",
      "source": [
        "checkpointer = ModelCheckpoint(filepath='drive/My Drive/Resultado/weights_architecture_6.hdf5', verbose=1, save_best_only=True)"
      ],
      "execution_count": 0,
      "outputs": []
    },
    {
      "metadata": {
        "colab_type": "code",
        "id": "HRAakAz46scS",
        "outputId": "6dfb27ef-6c80-412c-9049-c15fd46a0db4",
        "colab": {
          "base_uri": "https://localhost:8080/",
          "height": 3690
        }
      },
      "cell_type": "code",
      "source": [
        "training = model.fit_generator(train_batches, steps_per_epoch=stepsPerEpoche, \n",
        "                   validation_data=validation_batches, validation_steps=validationSteps,\n",
        "                   epochs=50, verbose=2, callbacks=[checkpointer])"
      ],
      "execution_count": 0,
      "outputs": [
        {
          "output_type": "stream",
          "text": [
            "Epoch 1/50\n",
            " - 3s - loss: 0.5518 - acc: 0.7375 - val_loss: 1.6902 - val_acc: 0.6719\n",
            "\n",
            "Epoch 00001: val_loss improved from inf to 1.69021, saving model to drive/My Drive/Resultado/weights_architecture_6.hdf5\n",
            "Epoch 2/50\n",
            " - 0s - loss: 0.3940 - acc: 0.8403 - val_loss: 0.7103 - val_acc: 0.7344\n",
            "\n",
            "Epoch 00002: val_loss improved from 1.69021 to 0.71035, saving model to drive/My Drive/Resultado/weights_architecture_6.hdf5\n",
            "Epoch 3/50\n",
            " - 0s - loss: 0.4291 - acc: 0.8656 - val_loss: 0.6930 - val_acc: 0.7344\n",
            "\n",
            "Epoch 00003: val_loss improved from 0.71035 to 0.69303, saving model to drive/My Drive/Resultado/weights_architecture_6.hdf5\n",
            "Epoch 4/50\n",
            " - 0s - loss: 0.3618 - acc: 0.8750 - val_loss: 0.3394 - val_acc: 0.9062\n",
            "\n",
            "Epoch 00004: val_loss improved from 0.69303 to 0.33942, saving model to drive/My Drive/Resultado/weights_architecture_6.hdf5\n",
            "Epoch 5/50\n",
            " - 0s - loss: 0.3820 - acc: 0.8656 - val_loss: 0.5685 - val_acc: 0.7188\n",
            "\n",
            "Epoch 00005: val_loss did not improve from 0.33942\n",
            "Epoch 6/50\n",
            " - 0s - loss: 0.3558 - acc: 0.8781 - val_loss: 0.3116 - val_acc: 0.9062\n",
            "\n",
            "Epoch 00006: val_loss improved from 0.33942 to 0.31156, saving model to drive/My Drive/Resultado/weights_architecture_6.hdf5\n",
            "Epoch 7/50\n",
            " - 0s - loss: 0.3574 - acc: 0.9031 - val_loss: 1.0612 - val_acc: 0.6953\n",
            "\n",
            "Epoch 00007: val_loss did not improve from 0.31156\n",
            "Epoch 8/50\n",
            " - 0s - loss: 0.2782 - acc: 0.9313 - val_loss: 0.7571 - val_acc: 0.8203\n",
            "\n",
            "Epoch 00008: val_loss did not improve from 0.31156\n",
            "Epoch 9/50\n",
            " - 1s - loss: 0.3982 - acc: 0.8844 - val_loss: 0.3472 - val_acc: 0.8984\n",
            "\n",
            "Epoch 00009: val_loss did not improve from 0.31156\n",
            "Epoch 10/50\n",
            " - 1s - loss: 0.3657 - acc: 0.8937 - val_loss: 0.5284 - val_acc: 0.8359\n",
            "\n",
            "Epoch 00010: val_loss did not improve from 0.31156\n",
            "Epoch 11/50\n",
            " - 1s - loss: 0.4371 - acc: 0.8375 - val_loss: 0.5573 - val_acc: 0.8043\n",
            "\n",
            "Epoch 00011: val_loss did not improve from 0.31156\n",
            "Epoch 12/50\n",
            " - 1s - loss: 0.3664 - acc: 0.8719 - val_loss: 0.2108 - val_acc: 0.9297\n",
            "\n",
            "Epoch 00012: val_loss improved from 0.31156 to 0.21085, saving model to drive/My Drive/Resultado/weights_architecture_6.hdf5\n",
            "Epoch 13/50\n",
            " - 1s - loss: 0.3156 - acc: 0.8937 - val_loss: 0.3433 - val_acc: 0.8828\n",
            "\n",
            "Epoch 00013: val_loss did not improve from 0.21085\n",
            "Epoch 14/50\n",
            " - 1s - loss: 0.2214 - acc: 0.9406 - val_loss: 0.5746 - val_acc: 0.8359\n",
            "\n",
            "Epoch 00014: val_loss did not improve from 0.21085\n",
            "Epoch 15/50\n",
            " - 1s - loss: 0.3609 - acc: 0.8781 - val_loss: 0.6195 - val_acc: 0.7422\n",
            "\n",
            "Epoch 00015: val_loss did not improve from 0.21085\n",
            "Epoch 16/50\n",
            " - 1s - loss: 0.3134 - acc: 0.9219 - val_loss: 1.1510 - val_acc: 0.7344\n",
            "\n",
            "Epoch 00016: val_loss did not improve from 0.21085\n",
            "Epoch 17/50\n",
            " - 1s - loss: 0.3592 - acc: 0.8937 - val_loss: 0.3420 - val_acc: 0.9062\n",
            "\n",
            "Epoch 00017: val_loss did not improve from 0.21085\n",
            "Epoch 18/50\n",
            " - 1s - loss: 0.3565 - acc: 0.8844 - val_loss: 0.3947 - val_acc: 0.8906\n",
            "\n",
            "Epoch 00018: val_loss did not improve from 0.21085\n",
            "Epoch 19/50\n",
            " - 1s - loss: 0.3599 - acc: 0.8937 - val_loss: 0.3586 - val_acc: 0.8750\n",
            "\n",
            "Epoch 00019: val_loss did not improve from 0.21085\n",
            "Epoch 20/50\n",
            " - 1s - loss: 0.2759 - acc: 0.8875 - val_loss: 5.1435 - val_acc: 0.5938\n",
            "\n",
            "Epoch 00020: val_loss did not improve from 0.21085\n",
            "Epoch 21/50\n",
            " - 1s - loss: 0.2534 - acc: 0.9406 - val_loss: 0.7641 - val_acc: 0.7969\n",
            "\n",
            "Epoch 00021: val_loss did not improve from 0.21085\n",
            "Epoch 22/50\n",
            " - 1s - loss: 0.2637 - acc: 0.9313 - val_loss: 0.1851 - val_acc: 0.9531\n",
            "\n",
            "Epoch 00022: val_loss improved from 0.21085 to 0.18507, saving model to drive/My Drive/Resultado/weights_architecture_6.hdf5\n",
            "Epoch 23/50\n",
            " - 1s - loss: 0.2306 - acc: 0.9469 - val_loss: 0.2806 - val_acc: 0.9609\n",
            "\n",
            "Epoch 00023: val_loss did not improve from 0.18507\n",
            "Epoch 24/50\n",
            " - 1s - loss: 0.3934 - acc: 0.9062 - val_loss: 0.2942 - val_acc: 0.8516\n",
            "\n",
            "Epoch 00024: val_loss did not improve from 0.18507\n",
            "Epoch 25/50\n",
            " - 1s - loss: 0.2768 - acc: 0.9062 - val_loss: 0.2734 - val_acc: 0.8906\n",
            "\n",
            "Epoch 00025: val_loss did not improve from 0.18507\n",
            "Epoch 26/50\n",
            " - 1s - loss: 0.3591 - acc: 0.8719 - val_loss: 0.3616 - val_acc: 0.8828\n",
            "\n",
            "Epoch 00026: val_loss did not improve from 0.18507\n",
            "Epoch 27/50\n",
            " - 1s - loss: 0.3336 - acc: 0.9094 - val_loss: 0.4287 - val_acc: 0.8478\n",
            "\n",
            "Epoch 00027: val_loss did not improve from 0.18507\n",
            "Epoch 28/50\n",
            " - 1s - loss: 0.3105 - acc: 0.9233 - val_loss: 0.4856 - val_acc: 0.8281\n",
            "\n",
            "Epoch 00028: val_loss did not improve from 0.18507\n",
            "Epoch 29/50\n",
            " - 1s - loss: 0.2658 - acc: 0.9406 - val_loss: 0.3347 - val_acc: 0.8984\n",
            "\n",
            "Epoch 00029: val_loss did not improve from 0.18507\n",
            "Epoch 30/50\n",
            " - 1s - loss: 0.4008 - acc: 0.8563 - val_loss: 0.3566 - val_acc: 0.8594\n",
            "\n",
            "Epoch 00030: val_loss did not improve from 0.18507\n",
            "Epoch 31/50\n",
            " - 1s - loss: 0.2820 - acc: 0.9156 - val_loss: 0.4977 - val_acc: 0.8359\n",
            "\n",
            "Epoch 00031: val_loss did not improve from 0.18507\n",
            "Epoch 32/50\n",
            " - 1s - loss: 0.3658 - acc: 0.8750 - val_loss: 0.3546 - val_acc: 0.8906\n",
            "\n",
            "Epoch 00032: val_loss did not improve from 0.18507\n",
            "Epoch 33/50\n",
            " - 1s - loss: 0.3775 - acc: 0.8906 - val_loss: 0.3356 - val_acc: 0.8750\n",
            "\n",
            "Epoch 00033: val_loss did not improve from 0.18507\n",
            "Epoch 34/50\n",
            " - 1s - loss: 0.3385 - acc: 0.9062 - val_loss: 0.4326 - val_acc: 0.8672\n",
            "\n",
            "Epoch 00034: val_loss did not improve from 0.18507\n",
            "Epoch 35/50\n",
            " - 1s - loss: 0.2758 - acc: 0.9469 - val_loss: 0.3613 - val_acc: 0.8750\n",
            "\n",
            "Epoch 00035: val_loss did not improve from 0.18507\n",
            "Epoch 36/50\n",
            " - 1s - loss: 0.2752 - acc: 0.9031 - val_loss: 0.3240 - val_acc: 0.8906\n",
            "\n",
            "Epoch 00036: val_loss did not improve from 0.18507\n",
            "Epoch 37/50\n",
            " - 1s - loss: 0.2362 - acc: 0.9469 - val_loss: 0.5131 - val_acc: 0.8281\n",
            "\n",
            "Epoch 00037: val_loss did not improve from 0.18507\n",
            "Epoch 38/50\n",
            " - 1s - loss: 0.3181 - acc: 0.9000 - val_loss: 0.3593 - val_acc: 0.8672\n",
            "\n",
            "Epoch 00038: val_loss did not improve from 0.18507\n",
            "Epoch 39/50\n",
            " - 1s - loss: 0.2146 - acc: 0.9469 - val_loss: 0.3281 - val_acc: 0.8906\n",
            "\n",
            "Epoch 00039: val_loss did not improve from 0.18507\n",
            "Epoch 40/50\n",
            " - 1s - loss: 0.3629 - acc: 0.8563 - val_loss: 0.3247 - val_acc: 0.8984\n",
            "\n",
            "Epoch 00040: val_loss did not improve from 0.18507\n",
            "Epoch 41/50\n",
            " - 1s - loss: 0.2678 - acc: 0.9313 - val_loss: 0.2211 - val_acc: 0.9141\n",
            "\n",
            "Epoch 00041: val_loss did not improve from 0.18507\n",
            "Epoch 42/50\n",
            " - 1s - loss: 0.3018 - acc: 0.9031 - val_loss: 0.2952 - val_acc: 0.8984\n",
            "\n",
            "Epoch 00042: val_loss did not improve from 0.18507\n",
            "Epoch 43/50\n",
            " - 1s - loss: 0.3216 - acc: 0.8969 - val_loss: 0.3216 - val_acc: 0.9062\n",
            "\n",
            "Epoch 00043: val_loss did not improve from 0.18507\n",
            "Epoch 44/50\n",
            " - 1s - loss: 0.3655 - acc: 0.9156 - val_loss: 0.3737 - val_acc: 0.9130\n",
            "\n",
            "Epoch 00044: val_loss did not improve from 0.18507\n",
            "Epoch 45/50\n",
            " - 1s - loss: 0.2773 - acc: 0.9313 - val_loss: 0.3441 - val_acc: 0.8750\n",
            "\n",
            "Epoch 00045: val_loss did not improve from 0.18507\n",
            "Epoch 46/50\n",
            " - 1s - loss: 0.3546 - acc: 0.8906 - val_loss: 0.4041 - val_acc: 0.8359\n",
            "\n",
            "Epoch 00046: val_loss did not improve from 0.18507\n",
            "Epoch 47/50\n",
            " - 1s - loss: 0.2769 - acc: 0.9313 - val_loss: 0.2491 - val_acc: 0.9375\n",
            "\n",
            "Epoch 00047: val_loss did not improve from 0.18507\n",
            "Epoch 48/50\n",
            " - 1s - loss: 0.3063 - acc: 0.9156 - val_loss: 0.2629 - val_acc: 0.9219\n",
            "\n",
            "Epoch 00048: val_loss did not improve from 0.18507\n",
            "Epoch 49/50\n",
            " - 1s - loss: 0.2844 - acc: 0.9219 - val_loss: 0.3572 - val_acc: 0.8672\n",
            "\n",
            "Epoch 00049: val_loss did not improve from 0.18507\n",
            "Epoch 50/50\n",
            " - 1s - loss: 0.2971 - acc: 0.9125 - val_loss: 0.3392 - val_acc: 0.8906\n",
            "\n",
            "Epoch 00050: val_loss did not improve from 0.18507\n"
          ],
          "name": "stdout"
        }
      ]
    },
    {
      "metadata": {
        "colab_type": "code",
        "id": "uaZTLoX46scd",
        "outputId": "389af2fa-b403-456b-d051-bc947186f4a3",
        "colab": {
          "base_uri": "https://localhost:8080/",
          "height": 380
        }
      },
      "cell_type": "code",
      "source": [
        "# plotar loss e accuracy para os datasets 'train' e 'test'\n",
        "plt.style.use(\"ggplot\")\n",
        "plt.figure()\n",
        "plt.plot(training.history['acc'], label='Accuracy')\n",
        "plt.plot(training.history['loss'], label='Loss')\n",
        "plt.xlabel('Epochs')\n",
        "plt.ylabel('Accuracy')\n",
        "plt.title(\"Training Loss and Accuracy\")\n",
        "plt.ylabel(\"Loss/Accuracy\")\n",
        "plt.legend()\n",
        "plt.savefig('drive/My Drive/Resultado/architecture_6.png', bbox_inches='tight')"
      ],
      "execution_count": 0,
      "outputs": [
        {
          "output_type": "display_data",
          "data": {
            "image/png": "[encoded data removed]",
            "text/plain": [
              "<matplotlib.figure.Figure at 0x7f6a8593fc18>"
            ]
          },
          "metadata": {
            "tags": []
          }
        }
      ]
    },
    {
      "metadata": {
        "colab_type": "code",
        "id": "Z7zyxvAB6sch",
        "colab": {}
      },
      "cell_type": "code",
      "source": [
        "model.load_weights('drive/My Drive/Resultado/weights_architecture_6.hdf5')"
      ],
      "execution_count": 0,
      "outputs": []
    },
    {
      "metadata": {
        "colab_type": "code",
        "id": "6F7QMRQn6scm",
        "outputId": "37cdce3a-0f77-4a2d-8dc2-6da0c6b7cade",
        "colab": {
          "base_uri": "https://localhost:8080/",
          "height": 35
        }
      },
      "cell_type": "code",
      "source": [
        "results['architecture_6'] = model.evaluate_generator(test_batches, steps=bSize, use_multiprocessing=True, verbose=1)"
      ],
      "execution_count": 17,
      "outputs": [
        {
          "output_type": "stream",
          "text": [
            "32/32 [==============================] - 11s 337ms/step\n"
          ],
          "name": "stdout"
        }
      ]
    },
    {
      "metadata": {
        "colab_type": "code",
        "id": "uXAl6yNj6scr",
        "colab": {
          "base_uri": "https://localhost:8080/",
          "height": 35
        },
        "outputId": "5d33ba3d-4251-49e1-f56c-6d5d51f05afb"
      },
      "cell_type": "code",
      "source": [
        "print('Test Loss: {} | Test Accuracy: {:.2f}%'.format(results['architecture_6'][0], 100 * results['architecture_6'][1]))"
      ],
      "execution_count": 18,
      "outputs": [
        {
          "output_type": "stream",
          "text": [
            "Test Loss: 0.41866651899181306 | Test Accuracy: 89.26%\n"
          ],
          "name": "stdout"
        }
      ]
    },
    {
      "metadata": {
        "id": "5gk7vmYPHddj",
        "colab_type": "text"
      },
      "cell_type": "markdown",
      "source": [
        "### 7 tentativa  Accuracy: 90.04%"
      ]
    },
    {
      "metadata": {
        "colab_type": "text",
        "id": "lxzyd-4L422r"
      },
      "cell_type": "markdown",
      "source": [
        "Modelo adaptado do **Lucas Albertins**\n",
        "\n",
        "*   Sem os **dropout**\n",
        "*   Função **Adadelta** para compilação\n",
        "*   **BatchNormalization** antes da ultima camada Dense\n"
      ]
    },
    {
      "metadata": {
        "colab_type": "code",
        "id": "sIBEdGsyHhJN",
        "colab": {}
      },
      "cell_type": "code",
      "source": [
        "from keras.layers import Conv2D, MaxPooling2D, GlobalMaxPooling2D, BatchNormalization\n",
        "from keras.regularizers import l2\n",
        "from keras.optimizers import Adadelta\n",
        "\n",
        "model = Sequential()\n",
        "\n",
        "model.add(Conv2D(32, (3, 3), activation='relu', kernel_regularizer=l2(1e-4), \n",
        "                 input_shape=(None, None, 3)))\n",
        "model.add(BatchNormalization())\n",
        "model.add(Conv2D(32, (3, 3), activation='relu', kernel_regularizer=l2(1e-4)))\n",
        "model.add(BatchNormalization())\n",
        "model.add(MaxPooling2D((2, 2)))\n",
        "\n",
        "model.add(Conv2D(64, (3, 3), activation='relu', kernel_regularizer=l2(1e-4)))\n",
        "model.add(BatchNormalization())\n",
        "model.add(Conv2D(64, (3, 3), activation='relu', kernel_regularizer=l2(1e-4)))\n",
        "model.add(BatchNormalization())\n",
        "model.add(MaxPooling2D((2, 2)))\n",
        "\n",
        "model.add(Conv2D(128, (1,1), kernel_regularizer=l2(1e-4)))\n",
        "model.add(GlobalMaxPooling2D())\n",
        "\n",
        "model.add(Dense(256, activation='relu', kernel_regularizer=l2(1e-4)))\n",
        "model.add(BatchNormalization())\n",
        "model.add(Dense(2, activation='sigmoid', kernel_regularizer=l2(1e-4)))"
      ],
      "execution_count": 0,
      "outputs": []
    },
    {
      "metadata": {
        "colab_type": "code",
        "id": "P6ZvobfGHhJb",
        "colab": {}
      },
      "cell_type": "code",
      "source": [
        "model.compile(Adadelta(lr=1.0, rho=0.95, epsilon=None, decay=0.0), \n",
        "              loss='binary_crossentropy', metrics=['accuracy'])"
      ],
      "execution_count": 0,
      "outputs": []
    },
    {
      "metadata": {
        "colab_type": "code",
        "id": "HwKsm_5S4l2j",
        "colab": {}
      },
      "cell_type": "code",
      "source": [
        "checkpointer = ModelCheckpoint(filepath='drive/My Drive/Resultado/weights_architecture_7.hdf5', verbose=1, save_best_only=True)"
      ],
      "execution_count": 0,
      "outputs": []
    },
    {
      "metadata": {
        "colab_type": "code",
        "id": "mXDKyOFa4l2t",
        "colab": {
          "base_uri": "https://localhost:8080/",
          "height": 3690
        },
        "outputId": "6ec24782-d547-43e3-cb3d-38861082e903"
      },
      "cell_type": "code",
      "source": [
        "training = model.fit_generator(train_batches, steps_per_epoch=stepsPerEpoche, \n",
        "                   validation_data=validation_batches, validation_steps=validationSteps,\n",
        "                   epochs=50, verbose=2, callbacks=[checkpointer])"
      ],
      "execution_count": 22,
      "outputs": [
        {
          "output_type": "stream",
          "text": [
            "Epoch 1/50\n",
            " - 41s - loss: 0.4458 - acc: 0.7969 - val_loss: 0.4325 - val_acc: 0.8438\n",
            "\n",
            "Epoch 00001: val_loss improved from inf to 0.43251, saving model to drive/My Drive/Resultado/weights_architecture_7.hdf5\n",
            "Epoch 2/50\n",
            " - 40s - loss: 0.4904 - acc: 0.8094 - val_loss: 0.8663 - val_acc: 0.7422\n",
            "\n",
            "Epoch 00002: val_loss did not improve from 0.43251\n",
            "Epoch 3/50\n",
            " - 43s - loss: 0.4537 - acc: 0.8063 - val_loss: 0.5630 - val_acc: 0.8594\n",
            "\n",
            "Epoch 00003: val_loss did not improve from 0.43251\n",
            "Epoch 4/50\n",
            " - 40s - loss: 0.3213 - acc: 0.8750 - val_loss: 0.7821 - val_acc: 0.7812\n",
            "\n",
            "Epoch 00004: val_loss did not improve from 0.43251\n",
            "Epoch 5/50\n",
            " - 39s - loss: 0.3851 - acc: 0.8625 - val_loss: 0.4852 - val_acc: 0.8125\n",
            "\n",
            "Epoch 00005: val_loss did not improve from 0.43251\n",
            "Epoch 6/50\n",
            " - 36s - loss: 0.4238 - acc: 0.8438 - val_loss: 0.5047 - val_acc: 0.8047\n",
            "\n",
            "Epoch 00006: val_loss did not improve from 0.43251\n",
            "Epoch 7/50\n",
            " - 39s - loss: 0.3031 - acc: 0.9062 - val_loss: 0.8912 - val_acc: 0.7266\n",
            "\n",
            "Epoch 00007: val_loss did not improve from 0.43251\n",
            "Epoch 8/50\n",
            " - 41s - loss: 0.3883 - acc: 0.8688 - val_loss: 0.8772 - val_acc: 0.7109\n",
            "\n",
            "Epoch 00008: val_loss did not improve from 0.43251\n",
            "Epoch 9/50\n",
            " - 37s - loss: 0.2626 - acc: 0.9313 - val_loss: 0.4037 - val_acc: 0.8594\n",
            "\n",
            "Epoch 00009: val_loss improved from 0.43251 to 0.40369, saving model to drive/My Drive/Resultado/weights_architecture_7.hdf5\n",
            "Epoch 10/50\n",
            " - 40s - loss: 0.3094 - acc: 0.8906 - val_loss: 0.4824 - val_acc: 0.8750\n",
            "\n",
            "Epoch 00010: val_loss did not improve from 0.40369\n",
            "Epoch 11/50\n",
            " - 40s - loss: 0.3252 - acc: 0.8906 - val_loss: 0.3576 - val_acc: 0.8594\n",
            "\n",
            "Epoch 00011: val_loss improved from 0.40369 to 0.35755, saving model to drive/My Drive/Resultado/weights_architecture_7.hdf5\n",
            "Epoch 12/50\n",
            " - 37s - loss: 0.3889 - acc: 0.8969 - val_loss: 0.5925 - val_acc: 0.7656\n",
            "\n",
            "Epoch 00012: val_loss did not improve from 0.35755\n",
            "Epoch 13/50\n",
            " - 38s - loss: 0.3608 - acc: 0.8750 - val_loss: 0.8711 - val_acc: 0.7031\n",
            "\n",
            "Epoch 00013: val_loss did not improve from 0.35755\n",
            "Epoch 14/50\n",
            " - 42s - loss: 0.3188 - acc: 0.9000 - val_loss: 1.0010 - val_acc: 0.7031\n",
            "\n",
            "Epoch 00014: val_loss did not improve from 0.35755\n",
            "Epoch 15/50\n",
            " - 43s - loss: 0.4004 - acc: 0.8750 - val_loss: 0.6651 - val_acc: 0.7891\n",
            "\n",
            "Epoch 00015: val_loss did not improve from 0.35755\n",
            "Epoch 16/50\n",
            " - 41s - loss: 0.3040 - acc: 0.9062 - val_loss: 0.7532 - val_acc: 0.7500\n",
            "\n",
            "Epoch 00016: val_loss did not improve from 0.35755\n",
            "Epoch 17/50\n",
            " - 38s - loss: 0.2976 - acc: 0.9094 - val_loss: 0.4979 - val_acc: 0.8478\n",
            "\n",
            "Epoch 00017: val_loss did not improve from 0.35755\n",
            "Epoch 18/50\n",
            " - 39s - loss: 0.2211 - acc: 0.9437 - val_loss: 0.4744 - val_acc: 0.8750\n",
            "\n",
            "Epoch 00018: val_loss did not improve from 0.35755\n",
            "Epoch 19/50\n",
            " - 42s - loss: 0.3413 - acc: 0.8969 - val_loss: 0.8229 - val_acc: 0.6562\n",
            "\n",
            "Epoch 00019: val_loss did not improve from 0.35755\n",
            "Epoch 20/50\n",
            " - 37s - loss: 0.3781 - acc: 0.9094 - val_loss: 0.5469 - val_acc: 0.7891\n",
            "\n",
            "Epoch 00020: val_loss did not improve from 0.35755\n",
            "Epoch 21/50\n",
            " - 39s - loss: 0.2938 - acc: 0.9031 - val_loss: 0.7322 - val_acc: 0.7422\n",
            "\n",
            "Epoch 00021: val_loss did not improve from 0.35755\n",
            "Epoch 22/50\n",
            " - 38s - loss: 0.2666 - acc: 0.9406 - val_loss: 0.1982 - val_acc: 0.9688\n",
            "\n",
            "Epoch 00022: val_loss improved from 0.35755 to 0.19819, saving model to drive/My Drive/Resultado/weights_architecture_7.hdf5\n",
            "Epoch 23/50\n",
            " - 38s - loss: 0.2568 - acc: 0.9500 - val_loss: 0.3124 - val_acc: 0.8906\n",
            "\n",
            "Epoch 00023: val_loss did not improve from 0.19819\n",
            "Epoch 24/50\n",
            " - 38s - loss: 0.3798 - acc: 0.9000 - val_loss: 0.3511 - val_acc: 0.8984\n",
            "\n",
            "Epoch 00024: val_loss did not improve from 0.19819\n",
            "Epoch 25/50\n",
            " - 37s - loss: 0.3231 - acc: 0.8937 - val_loss: 0.3890 - val_acc: 0.8906\n",
            "\n",
            "Epoch 00025: val_loss did not improve from 0.19819\n",
            "Epoch 26/50\n",
            " - 55s - loss: 0.3279 - acc: 0.8965 - val_loss: 0.4399 - val_acc: 0.8750\n",
            "\n",
            "Epoch 00026: val_loss did not improve from 0.19819\n",
            "Epoch 27/50\n",
            " - 1s - loss: 0.2624 - acc: 0.9344 - val_loss: 0.5919 - val_acc: 0.8516\n",
            "\n",
            "Epoch 00027: val_loss did not improve from 0.19819\n",
            "Epoch 28/50\n",
            " - 1s - loss: 0.3093 - acc: 0.9000 - val_loss: 0.8178 - val_acc: 0.7266\n",
            "\n",
            "Epoch 00028: val_loss did not improve from 0.19819\n",
            "Epoch 29/50\n",
            " - 1s - loss: 0.2758 - acc: 0.8969 - val_loss: 0.2299 - val_acc: 0.9609\n",
            "\n",
            "Epoch 00029: val_loss did not improve from 0.19819\n",
            "Epoch 30/50\n",
            " - 1s - loss: 0.2394 - acc: 0.9469 - val_loss: 0.1830 - val_acc: 0.9609\n",
            "\n",
            "Epoch 00030: val_loss improved from 0.19819 to 0.18303, saving model to drive/My Drive/Resultado/weights_architecture_7.hdf5\n",
            "Epoch 31/50\n",
            " - 1s - loss: 0.2022 - acc: 0.9344 - val_loss: 0.2881 - val_acc: 0.9062\n",
            "\n",
            "Epoch 00031: val_loss did not improve from 0.18303\n",
            "Epoch 32/50\n",
            " - 1s - loss: 0.3104 - acc: 0.9125 - val_loss: 0.2201 - val_acc: 0.9531\n",
            "\n",
            "Epoch 00032: val_loss did not improve from 0.18303\n",
            "Epoch 33/50\n",
            " - 1s - loss: 0.2259 - acc: 0.9344 - val_loss: 0.5323 - val_acc: 0.8696\n",
            "\n",
            "Epoch 00033: val_loss did not improve from 0.18303\n",
            "Epoch 34/50\n",
            " - 1s - loss: 0.3976 - acc: 0.8469 - val_loss: 0.8061 - val_acc: 0.7578\n",
            "\n",
            "Epoch 00034: val_loss did not improve from 0.18303\n",
            "Epoch 35/50\n",
            " - 1s - loss: 0.3200 - acc: 0.8969 - val_loss: 0.3386 - val_acc: 0.8828\n",
            "\n",
            "Epoch 00035: val_loss did not improve from 0.18303\n",
            "Epoch 36/50\n",
            " - 1s - loss: 0.3074 - acc: 0.9094 - val_loss: 0.8932 - val_acc: 0.6328\n",
            "\n",
            "Epoch 00036: val_loss did not improve from 0.18303\n",
            "Epoch 37/50\n",
            " - 1s - loss: 0.2957 - acc: 0.9000 - val_loss: 0.5833 - val_acc: 0.7344\n",
            "\n",
            "Epoch 00037: val_loss did not improve from 0.18303\n",
            "Epoch 38/50\n",
            " - 1s - loss: 0.3984 - acc: 0.8750 - val_loss: 0.4710 - val_acc: 0.8594\n",
            "\n",
            "Epoch 00038: val_loss did not improve from 0.18303\n",
            "Epoch 39/50\n",
            " - 1s - loss: 0.3112 - acc: 0.8969 - val_loss: 0.3273 - val_acc: 0.8906\n",
            "\n",
            "Epoch 00039: val_loss did not improve from 0.18303\n",
            "Epoch 40/50\n",
            " - 1s - loss: 0.2925 - acc: 0.9000 - val_loss: 0.3816 - val_acc: 0.9219\n",
            "\n",
            "Epoch 00040: val_loss did not improve from 0.18303\n",
            "Epoch 41/50\n",
            " - 1s - loss: 0.3862 - acc: 0.8750 - val_loss: 0.2153 - val_acc: 0.9219\n",
            "\n",
            "Epoch 00041: val_loss did not improve from 0.18303\n",
            "Epoch 42/50\n",
            " - 1s - loss: 0.2423 - acc: 0.9219 - val_loss: 1.2498 - val_acc: 0.4922\n",
            "\n",
            "Epoch 00042: val_loss did not improve from 0.18303\n",
            "Epoch 43/50\n",
            " - 1s - loss: 0.3194 - acc: 0.9188 - val_loss: 0.2986 - val_acc: 0.8750\n",
            "\n",
            "Epoch 00043: val_loss did not improve from 0.18303\n",
            "Epoch 44/50\n",
            " - 1s - loss: 0.2997 - acc: 0.8969 - val_loss: 0.3812 - val_acc: 0.8750\n",
            "\n",
            "Epoch 00044: val_loss did not improve from 0.18303\n",
            "Epoch 45/50\n",
            " - 1s - loss: 0.3058 - acc: 0.8937 - val_loss: 0.3529 - val_acc: 0.8438\n",
            "\n",
            "Epoch 00045: val_loss did not improve from 0.18303\n",
            "Epoch 46/50\n",
            " - 1s - loss: 0.4141 - acc: 0.8719 - val_loss: 0.3133 - val_acc: 0.9062\n",
            "\n",
            "Epoch 00046: val_loss did not improve from 0.18303\n",
            "Epoch 47/50\n",
            " - 1s - loss: 0.2193 - acc: 0.9437 - val_loss: 0.2897 - val_acc: 0.8906\n",
            "\n",
            "Epoch 00047: val_loss did not improve from 0.18303\n",
            "Epoch 48/50\n",
            " - 1s - loss: 0.2858 - acc: 0.9188 - val_loss: 0.3013 - val_acc: 0.9219\n",
            "\n",
            "Epoch 00048: val_loss did not improve from 0.18303\n",
            "Epoch 49/50\n",
            " - 1s - loss: 0.3494 - acc: 0.8969 - val_loss: 0.3102 - val_acc: 0.8516\n",
            "\n",
            "Epoch 00049: val_loss did not improve from 0.18303\n",
            "Epoch 50/50\n",
            " - 1s - loss: 0.2627 - acc: 0.9375 - val_loss: 0.3628 - val_acc: 0.9348\n",
            "\n",
            "Epoch 00050: val_loss did not improve from 0.18303\n"
          ],
          "name": "stdout"
        }
      ]
    },
    {
      "metadata": {
        "colab_type": "code",
        "id": "sy1RK1RR4l28",
        "colab": {
          "base_uri": "https://localhost:8080/",
          "height": 380
        },
        "outputId": "0ee8d373-1829-4551-e470-71fde168db6b"
      },
      "cell_type": "code",
      "source": [
        "# plotar loss e accuracy para os datasets 'train' e 'test'\n",
        "plt.style.use(\"ggplot\")\n",
        "plt.figure()\n",
        "plt.plot(training.history['acc'], label='Accuracy')\n",
        "plt.plot(training.history['loss'], label='Loss')\n",
        "plt.xlabel('Epochs')\n",
        "plt.ylabel('Accuracy')\n",
        "plt.title(\"Training Loss and Accuracy\")\n",
        "plt.ylabel(\"Loss/Accuracy\")\n",
        "plt.legend()\n",
        "plt.savefig('drive/My Drive/Resultado/architecture_7.png', bbox_inches='tight')"
      ],
      "execution_count": 23,
      "outputs": [
        {
          "output_type": "display_data",
          "data": {
            "image/png": "[encoded data removed]",
            "text/plain": [
              "<matplotlib.figure.Figure at 0x7f68ab3b8588>"
            ]
          },
          "metadata": {
            "tags": []
          }
        }
      ]
    },
    {
      "metadata": {
        "colab_type": "code",
        "id": "QIKQMVsI4l3E",
        "colab": {}
      },
      "cell_type": "code",
      "source": [
        "model.load_weights('drive/My Drive/Resultado/weights_architecture_7.hdf5')"
      ],
      "execution_count": 0,
      "outputs": []
    },
    {
      "metadata": {
        "colab_type": "code",
        "id": "qPguZfCk4l3I",
        "colab": {
          "base_uri": "https://localhost:8080/",
          "height": 35
        },
        "outputId": "57806de0-7560-4330-cb5a-481e05b1922e"
      },
      "cell_type": "code",
      "source": [
        "results['architecture_7'] = model.evaluate_generator(test_batches, steps=bSize, use_multiprocessing=True, verbose=1)"
      ],
      "execution_count": 25,
      "outputs": [
        {
          "output_type": "stream",
          "text": [
            "32/32 [==============================] - 49s 2s/step\n"
          ],
          "name": "stdout"
        }
      ]
    },
    {
      "metadata": {
        "colab_type": "code",
        "id": "9-WWBwrQ4l3V",
        "colab": {
          "base_uri": "https://localhost:8080/",
          "height": 35
        },
        "outputId": "1120b322-5e62-4a25-a14e-b30db0e2030b"
      },
      "cell_type": "code",
      "source": [
        "print('Test Loss: {} | Test Accuracy: {:.2f}%'.format(results['architecture_7'][0], 100 * results['architecture_7'][1]))"
      ],
      "execution_count": 26,
      "outputs": [
        {
          "output_type": "stream",
          "text": [
            "Test Loss: 0.3978253200184554 | Test Accuracy: 90.04%\n"
          ],
          "name": "stdout"
        }
      ]
    },
    {
      "metadata": {
        "id": "xBqqHjZrnDFP",
        "colab_type": "text"
      },
      "cell_type": "markdown",
      "source": [
        "### 8 tentativa  Accuracy: 90.19%"
      ]
    },
    {
      "metadata": {
        "colab_type": "text",
        "id": "3Qg1zWbo5W6V"
      },
      "cell_type": "markdown",
      "source": [
        "Modelo adaptado do **Lucas Albertins**\n",
        "\n",
        "*   Função **Adadelta** para compilação\n"
      ]
    },
    {
      "metadata": {
        "colab_type": "code",
        "id": "MvjKH9LWpGsi",
        "colab": {}
      },
      "cell_type": "code",
      "source": [
        "from keras.layers import Conv2D, MaxPooling2D, GlobalMaxPooling2D, BatchNormalization\n",
        "from keras.regularizers import l2\n",
        "from keras.optimizers import Adadelta\n",
        "\n",
        "model = Sequential()\n",
        "\n",
        "model.add(Conv2D(32, (3, 3), activation='relu', kernel_regularizer=l2(1e-4), \n",
        "                 input_shape=(None, None, 3)))\n",
        "model.add(BatchNormalization())\n",
        "model.add(Conv2D(32, (3, 3), activation='relu', kernel_regularizer=l2(1e-4)))\n",
        "model.add(BatchNormalization())\n",
        "model.add(MaxPooling2D((2, 2)))\n",
        "model.add(Dropout(0.25))\n",
        "\n",
        "model.add(Conv2D(64, (3, 3), activation='relu', kernel_regularizer=l2(1e-4)))\n",
        "model.add(BatchNormalization())\n",
        "model.add(Conv2D(64, (3, 3), activation='relu', kernel_regularizer=l2(1e-4)))\n",
        "model.add(BatchNormalization())\n",
        "model.add(MaxPooling2D((2, 2)))\n",
        "model.add(Dropout(0.25))\n",
        "\n",
        "model.add(Conv2D(128, (1,1), kernel_regularizer=l2(1e-4)))\n",
        "model.add(GlobalMaxPooling2D())\n",
        "\n",
        "model.add(Dense(256, activation='relu', kernel_regularizer=l2(1e-4)))\n",
        "model.add(Dropout(0.5))\n",
        "model.add(Dense(2, activation='sigmoid', kernel_regularizer=l2(1e-4)))"
      ],
      "execution_count": 0,
      "outputs": []
    },
    {
      "metadata": {
        "colab_type": "code",
        "id": "civjmdynpGsy",
        "colab": {}
      },
      "cell_type": "code",
      "source": [
        "model.compile(Adadelta(lr=1.0, rho=0.95, epsilon=None, decay=0.0), \n",
        "              loss='binary_crossentropy', metrics=['accuracy'])"
      ],
      "execution_count": 0,
      "outputs": []
    },
    {
      "metadata": {
        "colab_type": "code",
        "id": "X2jVqVfE5iN7",
        "colab": {}
      },
      "cell_type": "code",
      "source": [
        "checkpointer = ModelCheckpoint(filepath='drive/My Drive/Resultado/weights_architecture_8.hdf5', verbose=1, save_best_only=True)"
      ],
      "execution_count": 0,
      "outputs": []
    },
    {
      "metadata": {
        "colab_type": "code",
        "id": "w7LbZJly5iOF",
        "colab": {
          "base_uri": "https://localhost:8080/",
          "height": 3690
        },
        "outputId": "6b22f979-2718-4238-d214-821f70720f40"
      },
      "cell_type": "code",
      "source": [
        "training = model.fit_generator(train_batches, steps_per_epoch=stepsPerEpoche, \n",
        "                   validation_data=validation_batches, validation_steps=validationSteps,\n",
        "                   epochs=50, verbose=2, callbacks=[checkpointer])"
      ],
      "execution_count": 30,
      "outputs": [
        {
          "output_type": "stream",
          "text": [
            "Epoch 1/50\n",
            " - 3s - loss: 2.4729 - acc: 0.5469 - val_loss: 1.2081 - val_acc: 0.4453\n",
            "\n",
            "Epoch 00001: val_loss improved from inf to 1.20811, saving model to drive/My Drive/Resultado/weights_architecture_8.hdf5\n",
            "Epoch 2/50\n",
            " - 1s - loss: 1.5021 - acc: 0.6031 - val_loss: 1.0068 - val_acc: 0.5938\n",
            "\n",
            "Epoch 00002: val_loss improved from 1.20811 to 1.00678, saving model to drive/My Drive/Resultado/weights_architecture_8.hdf5\n",
            "Epoch 3/50\n",
            " - 1s - loss: 1.1941 - acc: 0.6250 - val_loss: 0.6608 - val_acc: 0.6094\n",
            "\n",
            "Epoch 00003: val_loss improved from 1.00678 to 0.66079, saving model to drive/My Drive/Resultado/weights_architecture_8.hdf5\n",
            "Epoch 4/50\n",
            " - 1s - loss: 0.9243 - acc: 0.6156 - val_loss: 0.7034 - val_acc: 0.6719\n",
            "\n",
            "Epoch 00004: val_loss did not improve from 0.66079\n",
            "Epoch 5/50\n",
            " - 1s - loss: 0.8350 - acc: 0.6531 - val_loss: 0.5445 - val_acc: 0.7500\n",
            "\n",
            "Epoch 00005: val_loss improved from 0.66079 to 0.54446, saving model to drive/My Drive/Resultado/weights_architecture_8.hdf5\n",
            "Epoch 6/50\n",
            " - 1s - loss: 0.6723 - acc: 0.7219 - val_loss: 0.8952 - val_acc: 0.5547\n",
            "\n",
            "Epoch 00006: val_loss did not improve from 0.54446\n",
            "Epoch 7/50\n",
            " - 1s - loss: 0.8744 - acc: 0.6344 - val_loss: 0.5828 - val_acc: 0.7812\n",
            "\n",
            "Epoch 00007: val_loss did not improve from 0.54446\n",
            "Epoch 8/50\n",
            " - 1s - loss: 0.5207 - acc: 0.7844 - val_loss: 0.6493 - val_acc: 0.6641\n",
            "\n",
            "Epoch 00008: val_loss did not improve from 0.54446\n",
            "Epoch 9/50\n",
            " - 1s - loss: 0.5284 - acc: 0.7562 - val_loss: 0.5779 - val_acc: 0.7031\n",
            "\n",
            "Epoch 00009: val_loss did not improve from 0.54446\n",
            "Epoch 10/50\n",
            " - 1s - loss: 0.5633 - acc: 0.7594 - val_loss: 0.6230 - val_acc: 0.7969\n",
            "\n",
            "Epoch 00010: val_loss did not improve from 0.54446\n",
            "Epoch 11/50\n",
            " - 1s - loss: 0.6351 - acc: 0.7188 - val_loss: 0.4189 - val_acc: 0.8261\n",
            "\n",
            "Epoch 00011: val_loss improved from 0.54446 to 0.41887, saving model to drive/My Drive/Resultado/weights_architecture_8.hdf5\n",
            "Epoch 12/50\n",
            " - 1s - loss: 0.4021 - acc: 0.8625 - val_loss: 1.0362 - val_acc: 0.5781\n",
            "\n",
            "Epoch 00012: val_loss did not improve from 0.41887\n",
            "Epoch 13/50\n",
            " - 1s - loss: 0.4705 - acc: 0.8187 - val_loss: 1.0372 - val_acc: 0.5781\n",
            "\n",
            "Epoch 00013: val_loss did not improve from 0.41887\n",
            "Epoch 14/50\n",
            " - 1s - loss: 0.6339 - acc: 0.7625 - val_loss: 0.5780 - val_acc: 0.7344\n",
            "\n",
            "Epoch 00014: val_loss did not improve from 0.41887\n",
            "Epoch 15/50\n",
            " - 1s - loss: 0.3629 - acc: 0.8719 - val_loss: 0.5625 - val_acc: 0.6953\n",
            "\n",
            "Epoch 00015: val_loss did not improve from 0.41887\n",
            "Epoch 16/50\n",
            " - 1s - loss: 0.4063 - acc: 0.8625 - val_loss: 0.5399 - val_acc: 0.7734\n",
            "\n",
            "Epoch 00016: val_loss did not improve from 0.41887\n",
            "Epoch 17/50\n",
            " - 1s - loss: 0.4604 - acc: 0.8531 - val_loss: 0.5742 - val_acc: 0.7109\n",
            "\n",
            "Epoch 00017: val_loss did not improve from 0.41887\n",
            "Epoch 18/50\n",
            " - 1s - loss: 0.4051 - acc: 0.8656 - val_loss: 0.5325 - val_acc: 0.7891\n",
            "\n",
            "Epoch 00018: val_loss did not improve from 0.41887\n",
            "Epoch 19/50\n",
            " - 1s - loss: 0.3996 - acc: 0.8688 - val_loss: 0.6147 - val_acc: 0.6484\n",
            "\n",
            "Epoch 00019: val_loss did not improve from 0.41887\n",
            "Epoch 20/50\n",
            " - 1s - loss: 0.4930 - acc: 0.7938 - val_loss: 0.6900 - val_acc: 0.5703\n",
            "\n",
            "Epoch 00020: val_loss did not improve from 0.41887\n",
            "Epoch 21/50\n",
            " - 1s - loss: 0.3562 - acc: 0.8781 - val_loss: 0.9657 - val_acc: 0.5078\n",
            "\n",
            "Epoch 00021: val_loss did not improve from 0.41887\n",
            "Epoch 22/50\n",
            " - 1s - loss: 0.3670 - acc: 0.8937 - val_loss: 0.8625 - val_acc: 0.5703\n",
            "\n",
            "Epoch 00022: val_loss did not improve from 0.41887\n",
            "Epoch 23/50\n",
            " - 1s - loss: 0.4042 - acc: 0.8656 - val_loss: 0.5086 - val_acc: 0.7734\n",
            "\n",
            "Epoch 00023: val_loss did not improve from 0.41887\n",
            "Epoch 24/50\n",
            " - 1s - loss: 0.3430 - acc: 0.8594 - val_loss: 0.7098 - val_acc: 0.6875\n",
            "\n",
            "Epoch 00024: val_loss did not improve from 0.41887\n",
            "Epoch 25/50\n",
            " - 1s - loss: 0.4433 - acc: 0.8312 - val_loss: 0.6255 - val_acc: 0.6719\n",
            "\n",
            "Epoch 00025: val_loss did not improve from 0.41887\n",
            "Epoch 26/50\n",
            " - 1s - loss: 0.4416 - acc: 0.8531 - val_loss: 0.7984 - val_acc: 0.6484\n",
            "\n",
            "Epoch 00026: val_loss did not improve from 0.41887\n",
            "Epoch 27/50\n",
            " - 1s - loss: 0.4542 - acc: 0.8406 - val_loss: 0.4548 - val_acc: 0.8125\n",
            "\n",
            "Epoch 00027: val_loss did not improve from 0.41887\n",
            "Epoch 28/50\n",
            " - 1s - loss: 0.4724 - acc: 0.8436 - val_loss: 0.5257 - val_acc: 0.6957\n",
            "\n",
            "Epoch 00028: val_loss did not improve from 0.41887\n",
            "Epoch 29/50\n",
            " - 1s - loss: 0.3630 - acc: 0.8937 - val_loss: 0.8967 - val_acc: 0.5234\n",
            "\n",
            "Epoch 00029: val_loss did not improve from 0.41887\n",
            "Epoch 30/50\n",
            " - 1s - loss: 0.4373 - acc: 0.8344 - val_loss: 0.5284 - val_acc: 0.7344\n",
            "\n",
            "Epoch 00030: val_loss did not improve from 0.41887\n",
            "Epoch 31/50\n",
            " - 1s - loss: 0.3998 - acc: 0.8406 - val_loss: 0.6131 - val_acc: 0.7656\n",
            "\n",
            "Epoch 00031: val_loss did not improve from 0.41887\n",
            "Epoch 32/50\n",
            " - 1s - loss: 0.3599 - acc: 0.8812 - val_loss: 0.5264 - val_acc: 0.7344\n",
            "\n",
            "Epoch 00032: val_loss did not improve from 0.41887\n",
            "Epoch 33/50\n",
            " - 1s - loss: 0.3809 - acc: 0.8688 - val_loss: 0.5697 - val_acc: 0.7891\n",
            "\n",
            "Epoch 00033: val_loss did not improve from 0.41887\n",
            "Epoch 34/50\n",
            " - 1s - loss: 0.4080 - acc: 0.8312 - val_loss: 0.5483 - val_acc: 0.7422\n",
            "\n",
            "Epoch 00034: val_loss did not improve from 0.41887\n",
            "Epoch 35/50\n",
            " - 1s - loss: 0.3409 - acc: 0.8750 - val_loss: 0.5065 - val_acc: 0.8281\n",
            "\n",
            "Epoch 00035: val_loss did not improve from 0.41887\n",
            "Epoch 36/50\n",
            " - 1s - loss: 0.3575 - acc: 0.8438 - val_loss: 0.7557 - val_acc: 0.6094\n",
            "\n",
            "Epoch 00036: val_loss did not improve from 0.41887\n",
            "Epoch 37/50\n",
            " - 1s - loss: 0.3213 - acc: 0.8812 - val_loss: 0.6670 - val_acc: 0.6172\n",
            "\n",
            "Epoch 00037: val_loss did not improve from 0.41887\n",
            "Epoch 38/50\n",
            " - 1s - loss: 0.3436 - acc: 0.8688 - val_loss: 0.3668 - val_acc: 0.8750\n",
            "\n",
            "Epoch 00038: val_loss improved from 0.41887 to 0.36680, saving model to drive/My Drive/Resultado/weights_architecture_8.hdf5\n",
            "Epoch 39/50\n",
            " - 1s - loss: 0.3793 - acc: 0.8750 - val_loss: 0.6386 - val_acc: 0.6484\n",
            "\n",
            "Epoch 00039: val_loss did not improve from 0.36680\n",
            "Epoch 40/50\n",
            " - 1s - loss: 0.4459 - acc: 0.8219 - val_loss: 0.7809 - val_acc: 0.5391\n",
            "\n",
            "Epoch 00040: val_loss did not improve from 0.36680\n",
            "Epoch 41/50\n",
            " - 1s - loss: 0.3286 - acc: 0.9156 - val_loss: 0.6881 - val_acc: 0.5781\n",
            "\n",
            "Epoch 00041: val_loss did not improve from 0.36680\n",
            "Epoch 42/50\n",
            " - 1s - loss: 0.5379 - acc: 0.7812 - val_loss: 0.5656 - val_acc: 0.7031\n",
            "\n",
            "Epoch 00042: val_loss did not improve from 0.36680\n",
            "Epoch 43/50\n",
            " - 1s - loss: 0.4787 - acc: 0.8469 - val_loss: 0.7060 - val_acc: 0.6484\n",
            "\n",
            "Epoch 00043: val_loss did not improve from 0.36680\n",
            "Epoch 44/50\n",
            " - 1s - loss: 0.4162 - acc: 0.9062 - val_loss: 0.5975 - val_acc: 0.6413\n",
            "\n",
            "Epoch 00044: val_loss did not improve from 0.36680\n",
            "Epoch 45/50\n",
            " - 1s - loss: 0.3036 - acc: 0.9156 - val_loss: 0.5391 - val_acc: 0.6797\n",
            "\n",
            "Epoch 00045: val_loss did not improve from 0.36680\n",
            "Epoch 46/50\n",
            " - 1s - loss: 0.3725 - acc: 0.9094 - val_loss: 0.8458 - val_acc: 0.5938\n",
            "\n",
            "Epoch 00046: val_loss did not improve from 0.36680\n",
            "Epoch 47/50\n",
            " - 1s - loss: 0.4291 - acc: 0.8531 - val_loss: 0.6827 - val_acc: 0.6328\n",
            "\n",
            "Epoch 00047: val_loss did not improve from 0.36680\n",
            "Epoch 48/50\n",
            " - 1s - loss: 0.2887 - acc: 0.9281 - val_loss: 0.5571 - val_acc: 0.7969\n",
            "\n",
            "Epoch 00048: val_loss did not improve from 0.36680\n",
            "Epoch 49/50\n",
            " - 1s - loss: 0.3616 - acc: 0.8875 - val_loss: 0.6101 - val_acc: 0.7031\n",
            "\n",
            "Epoch 00049: val_loss did not improve from 0.36680\n",
            "Epoch 50/50\n",
            " - 1s - loss: 0.4652 - acc: 0.8469 - val_loss: 0.5572 - val_acc: 0.7031\n",
            "\n",
            "Epoch 00050: val_loss did not improve from 0.36680\n"
          ],
          "name": "stdout"
        }
      ]
    },
    {
      "metadata": {
        "colab_type": "code",
        "id": "h8cGfOxz5iOR",
        "colab": {
          "base_uri": "https://localhost:8080/",
          "height": 380
        },
        "outputId": "41b4bdf8-ea24-4b5d-fb40-7105fd31c481"
      },
      "cell_type": "code",
      "source": [
        "# plotar loss e accuracy para os datasets 'train' e 'test'\n",
        "plt.style.use(\"ggplot\")\n",
        "plt.figure()\n",
        "plt.plot(training.history['acc'], label='Accuracy')\n",
        "plt.plot(training.history['loss'], label='Loss')\n",
        "plt.xlabel('Epochs')\n",
        "plt.ylabel('Accuracy')\n",
        "plt.title(\"Training Loss and Accuracy\")\n",
        "plt.ylabel(\"Loss/Accuracy\")\n",
        "plt.legend()\n",
        "plt.savefig('drive/My Drive/Resultado/architecture_8.png', bbox_inches='tight')"
      ],
      "execution_count": 31,
      "outputs": [
        {
          "output_type": "display_data",
          "data": {
            "image/png": "[encoded data removed]",
            "text/plain": [
              "<matplotlib.figure.Figure at 0x7f68aa2077f0>"
            ]
          },
          "metadata": {
            "tags": []
          }
        }
      ]
    },
    {
      "metadata": {
        "colab_type": "code",
        "id": "EfQMTY5Z5iOW",
        "colab": {}
      },
      "cell_type": "code",
      "source": [
        "model.load_weights('drive/My Drive/Resultado/weights_architecture_8.hdf5')"
      ],
      "execution_count": 0,
      "outputs": []
    },
    {
      "metadata": {
        "colab_type": "code",
        "id": "Zmtm1Uga5iOb",
        "colab": {
          "base_uri": "https://localhost:8080/",
          "height": 35
        },
        "outputId": "5a2271d1-5c44-4e6d-be64-38ec703b962e"
      },
      "cell_type": "code",
      "source": [
        "results['architecture_8'] = model.evaluate_generator(test_batches, steps=bSize, use_multiprocessing=True, verbose=1)"
      ],
      "execution_count": 33,
      "outputs": [
        {
          "output_type": "stream",
          "text": [
            "32/32 [==============================] - 13s 403ms/step\n"
          ],
          "name": "stdout"
        }
      ]
    },
    {
      "metadata": {
        "colab_type": "code",
        "id": "ry8LV6fw5iOf",
        "colab": {
          "base_uri": "https://localhost:8080/",
          "height": 35
        },
        "outputId": "694d5d55-a917-4180-fca5-1ce01e6126b3"
      },
      "cell_type": "code",
      "source": [
        "print('Test Loss: {} | Test Accuracy: {:.2f}%'.format(results['architecture_8'][0], 100 * results['architecture_8'][1]))"
      ],
      "execution_count": 34,
      "outputs": [
        {
          "output_type": "stream",
          "text": [
            "Test Loss: 0.3636344885453582 | Test Accuracy: 90.19%\n"
          ],
          "name": "stdout"
        }
      ]
    },
    {
      "metadata": {
        "id": "csBCokNgxgbn",
        "colab_type": "text"
      },
      "cell_type": "markdown",
      "source": [
        "### 9 tentativa  Accuracy: 86.33%"
      ]
    },
    {
      "metadata": {
        "colab_type": "text",
        "id": "qLtNH8xk63El"
      },
      "cell_type": "markdown",
      "source": [
        "Modelo adaptado do **Lucas Albertins**\n",
        "\n",
        "*   Função **SGD** para compilação\n"
      ]
    },
    {
      "metadata": {
        "colab_type": "code",
        "id": "EJjS6pK1xj1f",
        "colab": {}
      },
      "cell_type": "code",
      "source": [
        "from keras.layers import Conv2D, MaxPooling2D, GlobalMaxPooling2D, BatchNormalization\n",
        "from keras.regularizers import l2\n",
        "\n",
        "model = Sequential()\n",
        "\n",
        "model.add(Conv2D(32, (3, 3), activation='relu', kernel_regularizer=l2(1e-4), \n",
        "                 input_shape=(None, None, 3)))\n",
        "model.add(BatchNormalization())\n",
        "model.add(Conv2D(32, (3, 3), activation='relu', kernel_regularizer=l2(1e-4)))\n",
        "model.add(BatchNormalization())\n",
        "model.add(MaxPooling2D((2, 2)))\n",
        "model.add(Dropout(0.25))\n",
        "\n",
        "model.add(Conv2D(64, (3, 3), activation='relu', kernel_regularizer=l2(1e-4)))\n",
        "model.add(BatchNormalization())\n",
        "model.add(Conv2D(64, (3, 3), activation='relu', kernel_regularizer=l2(1e-4)))\n",
        "model.add(BatchNormalization())\n",
        "model.add(MaxPooling2D((2, 2)))\n",
        "model.add(Dropout(0.25))\n",
        "\n",
        "model.add(Conv2D(128, (1,1), kernel_regularizer=l2(1e-4)))\n",
        "model.add(GlobalMaxPooling2D())\n",
        "\n",
        "model.add(Dense(256, activation='relu', kernel_regularizer=l2(1e-4)))\n",
        "model.add(Dropout(0.5))\n",
        "model.add(Dense(2, activation='sigmoid', kernel_regularizer=l2(1e-4)))"
      ],
      "execution_count": 0,
      "outputs": []
    },
    {
      "metadata": {
        "colab_type": "code",
        "id": "9ezdguEZxsWT",
        "colab": {}
      },
      "cell_type": "code",
      "source": [
        "model.compile(SGD(lr=0.03, momentum=0.0, decay=0.0, nesterov=False), \n",
        "              loss='binary_crossentropy', metrics=['accuracy'])"
      ],
      "execution_count": 0,
      "outputs": []
    },
    {
      "metadata": {
        "colab_type": "code",
        "id": "yADpSLiz6XOs",
        "colab": {}
      },
      "cell_type": "code",
      "source": [
        "checkpointer = ModelCheckpoint(filepath='drive/My Drive/Resultado/weights_architecture_9.hdf5', verbose=1, save_best_only=True)"
      ],
      "execution_count": 0,
      "outputs": []
    },
    {
      "metadata": {
        "colab_type": "code",
        "id": "6jYgi71R6XO2",
        "colab": {
          "base_uri": "https://localhost:8080/",
          "height": 3690
        },
        "outputId": "5b6a29fb-c4da-487f-fb5c-ccac0d18947b"
      },
      "cell_type": "code",
      "source": [
        "training = model.fit_generator(train_batches, steps_per_epoch=stepsPerEpoche, \n",
        "                   validation_data=validation_batches, validation_steps=validationSteps,\n",
        "                   epochs=50, verbose=2, callbacks=[checkpointer])"
      ],
      "execution_count": 38,
      "outputs": [
        {
          "output_type": "stream",
          "text": [
            "Epoch 1/50\n",
            " - 3s - loss: 4.3597 - acc: 0.5781 - val_loss: 3.7852 - val_acc: 0.4531\n",
            "\n",
            "Epoch 00001: val_loss improved from inf to 3.78523, saving model to drive/My Drive/Resultado/weights_architecture_9.hdf5\n",
            "Epoch 2/50\n",
            " - 0s - loss: 2.9763 - acc: 0.5406 - val_loss: 0.9242 - val_acc: 0.5625\n",
            "\n",
            "Epoch 00002: val_loss improved from 3.78523 to 0.92420, saving model to drive/My Drive/Resultado/weights_architecture_9.hdf5\n",
            "Epoch 3/50\n",
            " - 0s - loss: 0.8275 - acc: 0.6312 - val_loss: 0.7643 - val_acc: 0.5469\n",
            "\n",
            "Epoch 00003: val_loss improved from 0.92420 to 0.76425, saving model to drive/My Drive/Resultado/weights_architecture_9.hdf5\n",
            "Epoch 4/50\n",
            " - 0s - loss: 0.9545 - acc: 0.5466 - val_loss: 0.6750 - val_acc: 0.6641\n",
            "\n",
            "Epoch 00004: val_loss improved from 0.76425 to 0.67499, saving model to drive/My Drive/Resultado/weights_architecture_9.hdf5\n",
            "Epoch 5/50\n",
            " - 0s - loss: 0.5948 - acc: 0.7156 - val_loss: 0.5974 - val_acc: 0.6875\n",
            "\n",
            "Epoch 00005: val_loss improved from 0.67499 to 0.59739, saving model to drive/My Drive/Resultado/weights_architecture_9.hdf5\n",
            "Epoch 6/50\n",
            " - 0s - loss: 0.7038 - acc: 0.6437 - val_loss: 0.5915 - val_acc: 0.7609\n",
            "\n",
            "Epoch 00006: val_loss improved from 0.59739 to 0.59153, saving model to drive/My Drive/Resultado/weights_architecture_9.hdf5\n",
            "Epoch 7/50\n",
            " - 0s - loss: 0.5610 - acc: 0.7719 - val_loss: 0.6205 - val_acc: 0.7109\n",
            "\n",
            "Epoch 00007: val_loss did not improve from 0.59153\n",
            "Epoch 8/50\n",
            " - 0s - loss: 0.4948 - acc: 0.8250 - val_loss: 0.5703 - val_acc: 0.7578\n",
            "\n",
            "Epoch 00008: val_loss improved from 0.59153 to 0.57026, saving model to drive/My Drive/Resultado/weights_architecture_9.hdf5\n",
            "Epoch 9/50\n",
            " - 1s - loss: 0.5845 - acc: 0.7375 - val_loss: 0.5636 - val_acc: 0.7266\n",
            "\n",
            "Epoch 00009: val_loss improved from 0.57026 to 0.56358, saving model to drive/My Drive/Resultado/weights_architecture_9.hdf5\n",
            "Epoch 10/50\n",
            " - 1s - loss: 0.5461 - acc: 0.7156 - val_loss: 0.5193 - val_acc: 0.8594\n",
            "\n",
            "Epoch 00010: val_loss improved from 0.56358 to 0.51930, saving model to drive/My Drive/Resultado/weights_architecture_9.hdf5\n",
            "Epoch 11/50\n",
            " - 1s - loss: 0.5485 - acc: 0.7656 - val_loss: 0.5455 - val_acc: 0.7500\n",
            "\n",
            "Epoch 00011: val_loss did not improve from 0.51930\n",
            "Epoch 12/50\n",
            " - 1s - loss: 0.5813 - acc: 0.7687 - val_loss: 0.5563 - val_acc: 0.7812\n",
            "\n",
            "Epoch 00012: val_loss did not improve from 0.51930\n",
            "Epoch 13/50\n",
            " - 1s - loss: 0.4573 - acc: 0.8312 - val_loss: 0.5373 - val_acc: 0.7891\n",
            "\n",
            "Epoch 00013: val_loss did not improve from 0.51930\n",
            "Epoch 14/50\n",
            " - 1s - loss: 0.4933 - acc: 0.7812 - val_loss: 0.4317 - val_acc: 0.8516\n",
            "\n",
            "Epoch 00014: val_loss improved from 0.51930 to 0.43172, saving model to drive/My Drive/Resultado/weights_architecture_9.hdf5\n",
            "Epoch 15/50\n",
            " - 1s - loss: 0.5021 - acc: 0.8125 - val_loss: 0.4580 - val_acc: 0.8984\n",
            "\n",
            "Epoch 00015: val_loss did not improve from 0.43172\n",
            "Epoch 16/50\n",
            " - 1s - loss: 0.4647 - acc: 0.8406 - val_loss: 0.4652 - val_acc: 0.7969\n",
            "\n",
            "Epoch 00016: val_loss did not improve from 0.43172\n",
            "Epoch 17/50\n",
            " - 1s - loss: 0.3786 - acc: 0.9094 - val_loss: 0.4086 - val_acc: 0.9141\n",
            "\n",
            "Epoch 00017: val_loss improved from 0.43172 to 0.40865, saving model to drive/My Drive/Resultado/weights_architecture_9.hdf5\n",
            "Epoch 18/50\n",
            " - 1s - loss: 0.4382 - acc: 0.8281 - val_loss: 0.3942 - val_acc: 0.8438\n",
            "\n",
            "Epoch 00018: val_loss improved from 0.40865 to 0.39419, saving model to drive/My Drive/Resultado/weights_architecture_9.hdf5\n",
            "Epoch 19/50\n",
            " - 1s - loss: 0.3765 - acc: 0.8781 - val_loss: 0.3987 - val_acc: 0.8594\n",
            "\n",
            "Epoch 00019: val_loss did not improve from 0.39419\n",
            "Epoch 20/50\n",
            " - 1s - loss: 0.4088 - acc: 0.8781 - val_loss: 0.4175 - val_acc: 0.8359\n",
            "\n",
            "Epoch 00020: val_loss did not improve from 0.39419\n",
            "Epoch 21/50\n",
            " - 1s - loss: 0.5592 - acc: 0.7906 - val_loss: 0.4542 - val_acc: 0.8750\n",
            "\n",
            "Epoch 00021: val_loss did not improve from 0.39419\n",
            "Epoch 22/50\n",
            " - 1s - loss: 0.3835 - acc: 0.8688 - val_loss: 0.4656 - val_acc: 0.8696\n",
            "\n",
            "Epoch 00022: val_loss did not improve from 0.39419\n",
            "Epoch 23/50\n",
            " - 1s - loss: 0.4597 - acc: 0.8094 - val_loss: 0.4861 - val_acc: 0.8203\n",
            "\n",
            "Epoch 00023: val_loss did not improve from 0.39419\n",
            "Epoch 24/50\n",
            " - 1s - loss: 0.5097 - acc: 0.7906 - val_loss: 0.6715 - val_acc: 0.6797\n",
            "\n",
            "Epoch 00024: val_loss did not improve from 0.39419\n",
            "Epoch 25/50\n",
            " - 1s - loss: 0.4198 - acc: 0.8344 - val_loss: 0.4501 - val_acc: 0.8594\n",
            "\n",
            "Epoch 00025: val_loss did not improve from 0.39419\n",
            "Epoch 26/50\n",
            " - 1s - loss: 0.3242 - acc: 0.8812 - val_loss: 0.5373 - val_acc: 0.7188\n",
            "\n",
            "Epoch 00026: val_loss did not improve from 0.39419\n",
            "Epoch 27/50\n",
            " - 1s - loss: 0.5154 - acc: 0.8156 - val_loss: 0.3770 - val_acc: 0.8438\n",
            "\n",
            "Epoch 00027: val_loss improved from 0.39419 to 0.37700, saving model to drive/My Drive/Resultado/weights_architecture_9.hdf5\n",
            "Epoch 28/50\n",
            " - 1s - loss: 0.3873 - acc: 0.8688 - val_loss: 0.3722 - val_acc: 0.8594\n",
            "\n",
            "Epoch 00028: val_loss improved from 0.37700 to 0.37220, saving model to drive/My Drive/Resultado/weights_architecture_9.hdf5\n",
            "Epoch 29/50\n",
            " - 1s - loss: 0.4362 - acc: 0.8187 - val_loss: 0.6668 - val_acc: 0.6562\n",
            "\n",
            "Epoch 00029: val_loss did not improve from 0.37220\n",
            "Epoch 30/50\n",
            " - 1s - loss: 0.3211 - acc: 0.8887 - val_loss: 0.3660 - val_acc: 0.9453\n",
            "\n",
            "Epoch 00030: val_loss improved from 0.37220 to 0.36604, saving model to drive/My Drive/Resultado/weights_architecture_9.hdf5\n",
            "Epoch 31/50\n",
            " - 1s - loss: 0.5236 - acc: 0.8594 - val_loss: 0.5796 - val_acc: 0.7266\n",
            "\n",
            "Epoch 00031: val_loss did not improve from 0.36604\n",
            "Epoch 32/50\n",
            " - 1s - loss: 0.3976 - acc: 0.8531 - val_loss: 0.4446 - val_acc: 0.8359\n",
            "\n",
            "Epoch 00032: val_loss did not improve from 0.36604\n",
            "Epoch 33/50\n",
            " - 1s - loss: 0.4668 - acc: 0.8438 - val_loss: 0.5552 - val_acc: 0.7344\n",
            "\n",
            "Epoch 00033: val_loss did not improve from 0.36604\n",
            "Epoch 34/50\n",
            " - 1s - loss: 0.4645 - acc: 0.8406 - val_loss: 0.5300 - val_acc: 0.8281\n",
            "\n",
            "Epoch 00034: val_loss did not improve from 0.36604\n",
            "Epoch 35/50\n",
            " - 1s - loss: 0.3772 - acc: 0.8531 - val_loss: 0.5482 - val_acc: 0.7500\n",
            "\n",
            "Epoch 00035: val_loss did not improve from 0.36604\n",
            "Epoch 36/50\n",
            " - 1s - loss: 0.3993 - acc: 0.8500 - val_loss: 0.5927 - val_acc: 0.7578\n",
            "\n",
            "Epoch 00036: val_loss did not improve from 0.36604\n",
            "Epoch 37/50\n",
            " - 1s - loss: 0.4677 - acc: 0.8250 - val_loss: 0.6182 - val_acc: 0.7031\n",
            "\n",
            "Epoch 00037: val_loss did not improve from 0.36604\n",
            "Epoch 38/50\n",
            " - 1s - loss: 0.3334 - acc: 0.9031 - val_loss: 0.5293 - val_acc: 0.8047\n",
            "\n",
            "Epoch 00038: val_loss did not improve from 0.36604\n",
            "Epoch 39/50\n",
            " - 1s - loss: 0.5207 - acc: 0.8063 - val_loss: 0.4980 - val_acc: 0.7935\n",
            "\n",
            "Epoch 00039: val_loss did not improve from 0.36604\n",
            "Epoch 40/50\n",
            " - 1s - loss: 0.3849 - acc: 0.8406 - val_loss: 0.4709 - val_acc: 0.8516\n",
            "\n",
            "Epoch 00040: val_loss did not improve from 0.36604\n",
            "Epoch 41/50\n",
            " - 1s - loss: 0.3853 - acc: 0.8750 - val_loss: 0.3813 - val_acc: 0.8594\n",
            "\n",
            "Epoch 00041: val_loss did not improve from 0.36604\n",
            "Epoch 42/50\n",
            " - 1s - loss: 0.4133 - acc: 0.8594 - val_loss: 0.4586 - val_acc: 0.8672\n",
            "\n",
            "Epoch 00042: val_loss did not improve from 0.36604\n",
            "Epoch 43/50\n",
            " - 1s - loss: 0.3751 - acc: 0.8844 - val_loss: 0.5861 - val_acc: 0.7031\n",
            "\n",
            "Epoch 00043: val_loss did not improve from 0.36604\n",
            "Epoch 44/50\n",
            " - 1s - loss: 0.4051 - acc: 0.8688 - val_loss: 0.4363 - val_acc: 0.8125\n",
            "\n",
            "Epoch 00044: val_loss did not improve from 0.36604\n",
            "Epoch 45/50\n",
            " - 1s - loss: 0.4084 - acc: 0.8750 - val_loss: 0.4148 - val_acc: 0.8672\n",
            "\n",
            "Epoch 00045: val_loss did not improve from 0.36604\n",
            "Epoch 46/50\n",
            " - 1s - loss: 0.3469 - acc: 0.9062 - val_loss: 0.5810 - val_acc: 0.7109\n",
            "\n",
            "Epoch 00046: val_loss did not improve from 0.36604\n",
            "Epoch 47/50\n",
            " - 1s - loss: 0.3428 - acc: 0.8937 - val_loss: 0.3574 - val_acc: 0.8516\n",
            "\n",
            "Epoch 00047: val_loss improved from 0.36604 to 0.35735, saving model to drive/My Drive/Resultado/weights_architecture_9.hdf5\n",
            "Epoch 48/50\n",
            " - 1s - loss: 0.5086 - acc: 0.8250 - val_loss: 0.5137 - val_acc: 0.6953\n",
            "\n",
            "Epoch 00048: val_loss did not improve from 0.35735\n",
            "Epoch 49/50\n",
            " - 1s - loss: 0.3762 - acc: 0.8719 - val_loss: 0.3631 - val_acc: 0.8125\n",
            "\n",
            "Epoch 00049: val_loss did not improve from 0.35735\n",
            "Epoch 50/50\n",
            " - 1s - loss: 0.3237 - acc: 0.9094 - val_loss: 0.4733 - val_acc: 0.7734\n",
            "\n",
            "Epoch 00050: val_loss did not improve from 0.35735\n"
          ],
          "name": "stdout"
        }
      ]
    },
    {
      "metadata": {
        "colab_type": "code",
        "id": "LDX_OBkO6XPB",
        "colab": {
          "base_uri": "https://localhost:8080/",
          "height": 380
        },
        "outputId": "99653d74-9dd5-46cb-ad66-4377527b4aaa"
      },
      "cell_type": "code",
      "source": [
        "# plotar loss e accuracy para os datasets 'train' e 'test'\n",
        "plt.style.use(\"ggplot\")\n",
        "plt.figure()\n",
        "plt.plot(training.history['acc'], label='Accuracy')\n",
        "plt.plot(training.history['loss'], label='Loss')\n",
        "plt.xlabel('Epochs')\n",
        "plt.ylabel('Accuracy')\n",
        "plt.title(\"Training Loss and Accuracy\")\n",
        "plt.ylabel(\"Loss/Accuracy\")\n",
        "plt.legend()\n",
        "plt.savefig('drive/My Drive/Resultado/architecture_9.png', bbox_inches='tight')"
      ],
      "execution_count": 39,
      "outputs": [
        {
          "output_type": "display_data",
          "data": {
            "image/png": "[encoded data removed]",
            "text/plain": [
              "<matplotlib.figure.Figure at 0x7f68acb96f60>"
            ]
          },
          "metadata": {
            "tags": []
          }
        }
      ]
    },
    {
      "metadata": {
        "colab_type": "code",
        "id": "2iYS0M_E6XPL",
        "colab": {}
      },
      "cell_type": "code",
      "source": [
        "model.load_weights('drive/My Drive/Resultado/weights_architecture_9.hdf5')"
      ],
      "execution_count": 0,
      "outputs": []
    },
    {
      "metadata": {
        "colab_type": "code",
        "id": "Ui0MQtER6XPR",
        "colab": {
          "base_uri": "https://localhost:8080/",
          "height": 35
        },
        "outputId": "7eb2f250-ddeb-481b-f50a-1ab62f1b6905"
      },
      "cell_type": "code",
      "source": [
        "results['architecture_9'] = model.evaluate_generator(test_batches, steps=bSize, use_multiprocessing=True, verbose=1)"
      ],
      "execution_count": 41,
      "outputs": [
        {
          "output_type": "stream",
          "text": [
            "32/32 [==============================] - 6s 175ms/step\n"
          ],
          "name": "stdout"
        }
      ]
    },
    {
      "metadata": {
        "colab_type": "code",
        "id": "XNL89Dbk6XPU",
        "colab": {
          "base_uri": "https://localhost:8080/",
          "height": 35
        },
        "outputId": "7e39776e-0a45-4fee-f272-3518edb274c7"
      },
      "cell_type": "code",
      "source": [
        "print('Test Loss: {} | Test Accuracy: {:.2f}%'.format(results['architecture_9'][0], 100 * results['architecture_9'][1]))"
      ],
      "execution_count": 42,
      "outputs": [
        {
          "output_type": "stream",
          "text": [
            "Test Loss: 0.4041961790062487 | Test Accuracy: 86.33%\n"
          ],
          "name": "stdout"
        }
      ]
    },
    {
      "metadata": {
        "id": "I_6RPRqZ0ooK",
        "colab_type": "text"
      },
      "cell_type": "markdown",
      "source": [
        "### 10 tentativa  Accuracy: 89.89%"
      ]
    },
    {
      "metadata": {
        "colab_type": "text",
        "id": "drBpwd1s7PE3"
      },
      "cell_type": "markdown",
      "source": [
        "Modelo adaptado do **Lucas Albertins**\n",
        "\n",
        "*   Função **adam** para compilação\n",
        "*   Adicionado mais 2 camadas convolutivas"
      ]
    },
    {
      "metadata": {
        "colab_type": "code",
        "id": "6LGTLObK0u-Y",
        "colab": {}
      },
      "cell_type": "code",
      "source": [
        "from keras.layers import Conv2D, MaxPooling2D, GlobalMaxPooling2D, BatchNormalization\n",
        "from keras.regularizers import l2\n",
        "\n",
        "model = Sequential()\n",
        "\n",
        "model.add(Conv2D(32, (3, 3), activation='relu', kernel_regularizer=l2(1e-4), \n",
        "                 input_shape=(None, None, 3)))\n",
        "model.add(BatchNormalization())\n",
        "model.add(Conv2D(32, (3, 3), activation='relu', kernel_regularizer=l2(1e-4)))\n",
        "model.add(BatchNormalization())\n",
        "model.add(MaxPooling2D((2, 2)))\n",
        "model.add(Dropout(0.25))\n",
        "\n",
        "model.add(Conv2D(64, (3, 3), activation='relu', kernel_regularizer=l2(1e-4)))\n",
        "model.add(BatchNormalization())\n",
        "model.add(Conv2D(64, (3, 3), activation='relu', kernel_regularizer=l2(1e-4)))\n",
        "model.add(BatchNormalization())\n",
        "model.add(MaxPooling2D((2, 2)))\n",
        "model.add(Dropout(0.25))\n",
        "\n",
        "model.add(Conv2D(96, (3, 3),activation='relu', kernel_regularizer=l2(1e-4)))\n",
        "model.add(BatchNormalization())\n",
        "model.add(Conv2D(96, (3, 3),activation='relu', kernel_regularizer=l2(1e-4)))\n",
        "model.add(BatchNormalization())\n",
        "model.add(MaxPooling2D((2, 2)))\n",
        "model.add(Dropout(0.25))\n",
        "\n",
        "model.add(Conv2D(128, (1,1), kernel_regularizer=l2(1e-4)))\n",
        "model.add(GlobalMaxPooling2D())\n",
        "\n",
        "model.add(Dense(256, activation='relu', kernel_regularizer=l2(1e-4)))\n",
        "model.add(Dropout(0.5))\n",
        "model.add(Dense(2, activation='sigmoid', kernel_regularizer=l2(1e-4)))"
      ],
      "execution_count": 0,
      "outputs": []
    },
    {
      "metadata": {
        "colab_type": "code",
        "id": "vB92aUkR0u-p",
        "colab": {}
      },
      "cell_type": "code",
      "source": [
        "model.compile(optimizer='adam', loss='binary_crossentropy', metrics=['accuracy'])"
      ],
      "execution_count": 0,
      "outputs": []
    },
    {
      "metadata": {
        "colab_type": "code",
        "id": "AWaPDrSE7bLf",
        "colab": {}
      },
      "cell_type": "code",
      "source": [
        "checkpointer = ModelCheckpoint(filepath='drive/My Drive/Resultado/weights_architecture_10.hdf5', verbose=1, save_best_only=True)"
      ],
      "execution_count": 0,
      "outputs": []
    },
    {
      "metadata": {
        "colab_type": "code",
        "id": "mUqvoI5Y7bLp",
        "colab": {
          "base_uri": "https://localhost:8080/",
          "height": 3690
        },
        "outputId": "e0b51c98-b17a-455f-9748-28c17c8bd71c"
      },
      "cell_type": "code",
      "source": [
        "training = model.fit_generator(train_batches, steps_per_epoch=stepsPerEpoche, \n",
        "                   validation_data=validation_batches, validation_steps=validationSteps,\n",
        "                   epochs=50, verbose=2, callbacks=[checkpointer])"
      ],
      "execution_count": 46,
      "outputs": [
        {
          "output_type": "stream",
          "text": [
            "Epoch 1/50\n",
            " - 4s - loss: 2.2787 - acc: 0.5187 - val_loss: 0.9668 - val_acc: 0.4453\n",
            "\n",
            "Epoch 00001: val_loss improved from inf to 0.96676, saving model to drive/My Drive/Resultado/weights_architecture_10.hdf5\n",
            "Epoch 2/50\n",
            " - 1s - loss: 1.3968 - acc: 0.5656 - val_loss: 0.9484 - val_acc: 0.4844\n",
            "\n",
            "Epoch 00002: val_loss improved from 0.96676 to 0.94841, saving model to drive/My Drive/Resultado/weights_architecture_10.hdf5\n",
            "Epoch 3/50\n",
            " - 1s - loss: 1.3370 - acc: 0.5438 - val_loss: 0.6485 - val_acc: 0.6562\n",
            "\n",
            "Epoch 00003: val_loss improved from 0.94841 to 0.64850, saving model to drive/My Drive/Resultado/weights_architecture_10.hdf5\n",
            "Epoch 4/50\n",
            " - 1s - loss: 0.8529 - acc: 0.5906 - val_loss: 1.1023 - val_acc: 0.4062\n",
            "\n",
            "Epoch 00004: val_loss did not improve from 0.64850\n",
            "Epoch 5/50\n",
            " - 1s - loss: 0.7517 - acc: 0.6597 - val_loss: 1.2342 - val_acc: 0.5078\n",
            "\n",
            "Epoch 00005: val_loss did not improve from 0.64850\n",
            "Epoch 6/50\n",
            " - 1s - loss: 0.7066 - acc: 0.6688 - val_loss: 0.7480 - val_acc: 0.6094\n",
            "\n",
            "Epoch 00006: val_loss did not improve from 0.64850\n",
            "Epoch 7/50\n",
            " - 1s - loss: 0.6661 - acc: 0.7094 - val_loss: 0.7971 - val_acc: 0.6016\n",
            "\n",
            "Epoch 00007: val_loss did not improve from 0.64850\n",
            "Epoch 8/50\n",
            " - 1s - loss: 0.5568 - acc: 0.8000 - val_loss: 0.7805 - val_acc: 0.5703\n",
            "\n",
            "Epoch 00008: val_loss did not improve from 0.64850\n",
            "Epoch 9/50\n",
            " - 1s - loss: 0.4578 - acc: 0.7969 - val_loss: 0.8288 - val_acc: 0.5312\n",
            "\n",
            "Epoch 00009: val_loss did not improve from 0.64850\n",
            "Epoch 10/50\n",
            " - 1s - loss: 0.4945 - acc: 0.8063 - val_loss: 1.0595 - val_acc: 0.5781\n",
            "\n",
            "Epoch 00010: val_loss did not improve from 0.64850\n",
            "Epoch 11/50\n",
            " - 1s - loss: 0.5110 - acc: 0.8312 - val_loss: 0.6306 - val_acc: 0.7500\n",
            "\n",
            "Epoch 00011: val_loss improved from 0.64850 to 0.63060, saving model to drive/My Drive/Resultado/weights_architecture_10.hdf5\n",
            "Epoch 12/50\n",
            " - 1s - loss: 0.5357 - acc: 0.7844 - val_loss: 0.3738 - val_acc: 0.9375\n",
            "\n",
            "Epoch 00012: val_loss improved from 0.63060 to 0.37377, saving model to drive/My Drive/Resultado/weights_architecture_10.hdf5\n",
            "Epoch 13/50\n",
            " - 1s - loss: 0.5834 - acc: 0.8031 - val_loss: 0.4518 - val_acc: 0.8828\n",
            "\n",
            "Epoch 00013: val_loss did not improve from 0.37377\n",
            "Epoch 14/50\n",
            " - 1s - loss: 0.5015 - acc: 0.8656 - val_loss: 0.3533 - val_acc: 0.9219\n",
            "\n",
            "Epoch 00014: val_loss improved from 0.37377 to 0.35333, saving model to drive/My Drive/Resultado/weights_architecture_10.hdf5\n",
            "Epoch 15/50\n",
            " - 1s - loss: 0.4571 - acc: 0.8375 - val_loss: 0.4304 - val_acc: 0.8438\n",
            "\n",
            "Epoch 00015: val_loss did not improve from 0.35333\n",
            "Epoch 16/50\n",
            " - 1s - loss: 0.4071 - acc: 0.8656 - val_loss: 0.4538 - val_acc: 0.7935\n",
            "\n",
            "Epoch 00016: val_loss did not improve from 0.35333\n",
            "Epoch 17/50\n",
            " - 1s - loss: 0.3873 - acc: 0.8812 - val_loss: 0.4516 - val_acc: 0.8594\n",
            "\n",
            "Epoch 00017: val_loss did not improve from 0.35333\n",
            "Epoch 18/50\n",
            " - 1s - loss: 0.3922 - acc: 0.8812 - val_loss: 0.4122 - val_acc: 0.8594\n",
            "\n",
            "Epoch 00018: val_loss did not improve from 0.35333\n",
            "Epoch 19/50\n",
            " - 1s - loss: 0.4093 - acc: 0.8812 - val_loss: 0.4740 - val_acc: 0.9219\n",
            "\n",
            "Epoch 00019: val_loss did not improve from 0.35333\n",
            "Epoch 20/50\n",
            " - 1s - loss: 0.4464 - acc: 0.9062 - val_loss: 0.4266 - val_acc: 0.8125\n",
            "\n",
            "Epoch 00020: val_loss did not improve from 0.35333\n",
            "Epoch 21/50\n",
            " - 1s - loss: 0.4270 - acc: 0.8906 - val_loss: 0.3670 - val_acc: 0.8594\n",
            "\n",
            "Epoch 00021: val_loss did not improve from 0.35333\n",
            "Epoch 22/50\n",
            " - 1s - loss: 0.4538 - acc: 0.8438 - val_loss: 0.3647 - val_acc: 0.8672\n",
            "\n",
            "Epoch 00022: val_loss did not improve from 0.35333\n",
            "Epoch 23/50\n",
            " - 1s - loss: 0.4400 - acc: 0.8375 - val_loss: 0.2979 - val_acc: 0.8750\n",
            "\n",
            "Epoch 00023: val_loss improved from 0.35333 to 0.29790, saving model to drive/My Drive/Resultado/weights_architecture_10.hdf5\n",
            "Epoch 24/50\n",
            " - 1s - loss: 0.4525 - acc: 0.8563 - val_loss: 0.4173 - val_acc: 0.8516\n",
            "\n",
            "Epoch 00024: val_loss did not improve from 0.29790\n",
            "Epoch 25/50\n",
            " - 1s - loss: 0.3299 - acc: 0.9094 - val_loss: 0.5725 - val_acc: 0.8125\n",
            "\n",
            "Epoch 00025: val_loss did not improve from 0.29790\n",
            "Epoch 26/50\n",
            " - 1s - loss: 0.3910 - acc: 0.8812 - val_loss: 0.2786 - val_acc: 0.9297\n",
            "\n",
            "Epoch 00026: val_loss improved from 0.29790 to 0.27863, saving model to drive/My Drive/Resultado/weights_architecture_10.hdf5\n",
            "Epoch 27/50\n",
            " - 1s - loss: 0.3718 - acc: 0.9156 - val_loss: 0.2902 - val_acc: 0.9062\n",
            "\n",
            "Epoch 00027: val_loss did not improve from 0.27863\n",
            "Epoch 28/50\n",
            " - 1s - loss: 0.3441 - acc: 0.8844 - val_loss: 0.4030 - val_acc: 0.8516\n",
            "\n",
            "Epoch 00028: val_loss did not improve from 0.27863\n",
            "Epoch 29/50\n",
            " - 1s - loss: 0.3112 - acc: 0.9094 - val_loss: 0.4475 - val_acc: 0.8281\n",
            "\n",
            "Epoch 00029: val_loss did not improve from 0.27863\n",
            "Epoch 30/50\n",
            " - 1s - loss: 0.4393 - acc: 0.8625 - val_loss: 0.3887 - val_acc: 0.8594\n",
            "\n",
            "Epoch 00030: val_loss did not improve from 0.27863\n",
            "Epoch 31/50\n",
            " - 1s - loss: 0.3627 - acc: 0.9008 - val_loss: 0.2691 - val_acc: 0.9375\n",
            "\n",
            "Epoch 00031: val_loss improved from 0.27863 to 0.26909, saving model to drive/My Drive/Resultado/weights_architecture_10.hdf5\n",
            "Epoch 32/50\n",
            " - 1s - loss: 0.4042 - acc: 0.8844 - val_loss: 0.2365 - val_acc: 0.9531\n",
            "\n",
            "Epoch 00032: val_loss improved from 0.26909 to 0.23651, saving model to drive/My Drive/Resultado/weights_architecture_10.hdf5\n",
            "Epoch 33/50\n",
            " - 1s - loss: 0.3928 - acc: 0.9094 - val_loss: 0.5388 - val_acc: 0.8261\n",
            "\n",
            "Epoch 00033: val_loss did not improve from 0.23651\n",
            "Epoch 34/50\n",
            " - 1s - loss: 0.3096 - acc: 0.9313 - val_loss: 0.3108 - val_acc: 0.9297\n",
            "\n",
            "Epoch 00034: val_loss did not improve from 0.23651\n",
            "Epoch 35/50\n",
            " - 1s - loss: 0.4180 - acc: 0.8781 - val_loss: 0.3079 - val_acc: 0.9062\n",
            "\n",
            "Epoch 00035: val_loss did not improve from 0.23651\n",
            "Epoch 36/50\n",
            " - 1s - loss: 0.3605 - acc: 0.9031 - val_loss: 0.4391 - val_acc: 0.8594\n",
            "\n",
            "Epoch 00036: val_loss did not improve from 0.23651\n",
            "Epoch 37/50\n",
            " - 1s - loss: 0.4038 - acc: 0.9000 - val_loss: 0.3013 - val_acc: 0.8906\n",
            "\n",
            "Epoch 00037: val_loss did not improve from 0.23651\n",
            "Epoch 38/50\n",
            " - 1s - loss: 0.3453 - acc: 0.8906 - val_loss: 0.3799 - val_acc: 0.8281\n",
            "\n",
            "Epoch 00038: val_loss did not improve from 0.23651\n",
            "Epoch 39/50\n",
            " - 1s - loss: 0.2752 - acc: 0.9375 - val_loss: 0.3559 - val_acc: 0.8750\n",
            "\n",
            "Epoch 00039: val_loss did not improve from 0.23651\n",
            "Epoch 40/50\n",
            " - 1s - loss: 0.3254 - acc: 0.8875 - val_loss: 0.4237 - val_acc: 0.8594\n",
            "\n",
            "Epoch 00040: val_loss did not improve from 0.23651\n",
            "Epoch 41/50\n",
            " - 1s - loss: 0.4019 - acc: 0.9031 - val_loss: 0.5031 - val_acc: 0.8672\n",
            "\n",
            "Epoch 00041: val_loss did not improve from 0.23651\n",
            "Epoch 42/50\n",
            " - 1s - loss: 0.3765 - acc: 0.8969 - val_loss: 0.4929 - val_acc: 0.8281\n",
            "\n",
            "Epoch 00042: val_loss did not improve from 0.23651\n",
            "Epoch 43/50\n",
            " - 1s - loss: 0.3857 - acc: 0.8844 - val_loss: 0.4194 - val_acc: 0.8594\n",
            "\n",
            "Epoch 00043: val_loss did not improve from 0.23651\n",
            "Epoch 44/50\n",
            " - 1s - loss: 0.4098 - acc: 0.8500 - val_loss: 0.4112 - val_acc: 0.8672\n",
            "\n",
            "Epoch 00044: val_loss did not improve from 0.23651\n",
            "Epoch 45/50\n",
            " - 1s - loss: 0.3403 - acc: 0.9125 - val_loss: 0.3956 - val_acc: 0.9062\n",
            "\n",
            "Epoch 00045: val_loss did not improve from 0.23651\n",
            "Epoch 46/50\n",
            " - 1s - loss: 0.3978 - acc: 0.8906 - val_loss: 0.4178 - val_acc: 0.8594\n",
            "\n",
            "Epoch 00046: val_loss did not improve from 0.23651\n",
            "Epoch 47/50\n",
            " - 1s - loss: 0.2895 - acc: 0.9344 - val_loss: 0.2384 - val_acc: 0.9531\n",
            "\n",
            "Epoch 00047: val_loss did not improve from 0.23651\n",
            "Epoch 48/50\n",
            " - 1s - loss: 0.3191 - acc: 0.9250 - val_loss: 0.3672 - val_acc: 0.9219\n",
            "\n",
            "Epoch 00048: val_loss did not improve from 0.23651\n",
            "Epoch 49/50\n",
            " - 1s - loss: 0.3832 - acc: 0.8688 - val_loss: 0.1943 - val_acc: 0.9783\n",
            "\n",
            "Epoch 00049: val_loss improved from 0.23651 to 0.19432, saving model to drive/My Drive/Resultado/weights_architecture_10.hdf5\n",
            "Epoch 50/50\n",
            " - 1s - loss: 0.2602 - acc: 0.9344 - val_loss: 0.1920 - val_acc: 0.9688\n",
            "\n",
            "Epoch 00050: val_loss improved from 0.19432 to 0.19205, saving model to drive/My Drive/Resultado/weights_architecture_10.hdf5\n"
          ],
          "name": "stdout"
        }
      ]
    },
    {
      "metadata": {
        "colab_type": "code",
        "id": "c3-AMkkg7bLw",
        "colab": {
          "base_uri": "https://localhost:8080/",
          "height": 380
        },
        "outputId": "29c8ff77-4165-4da4-9feb-0f67ecb35872"
      },
      "cell_type": "code",
      "source": [
        "# plotar loss e accuracy para os datasets 'train' e 'test'\n",
        "plt.style.use(\"ggplot\")\n",
        "plt.figure()\n",
        "plt.plot(training.history['acc'], label='Accuracy')\n",
        "plt.plot(training.history['loss'], label='Loss')\n",
        "plt.xlabel('Epochs')\n",
        "plt.ylabel('Accuracy')\n",
        "plt.title(\"Training Loss and Accuracy\")\n",
        "plt.ylabel(\"Loss/Accuracy\")\n",
        "plt.legend()\n",
        "plt.savefig('drive/My Drive/Resultado/architecture_10.png', bbox_inches='tight')"
      ],
      "execution_count": 47,
      "outputs": [
        {
          "output_type": "display_data",
          "data": {
            "image/png": "[encoded data removed]",
            "text/plain": [
              "<matplotlib.figure.Figure at 0x7f68a8b7aeb8>"
            ]
          },
          "metadata": {
            "tags": []
          }
        }
      ]
    },
    {
      "metadata": {
        "colab_type": "code",
        "id": "qpPONEiQ7bMB",
        "colab": {}
      },
      "cell_type": "code",
      "source": [
        "model.load_weights('drive/My Drive/Resultado/weights_architecture_10.hdf5')"
      ],
      "execution_count": 0,
      "outputs": []
    },
    {
      "metadata": {
        "colab_type": "code",
        "id": "2QghQZHo7bMG",
        "colab": {
          "base_uri": "https://localhost:8080/",
          "height": 35
        },
        "outputId": "fa54a1ca-ed3a-408c-c98c-83b5607175cb"
      },
      "cell_type": "code",
      "source": [
        "results['architecture_10'] = model.evaluate_generator(test_batches, steps=bSize, use_multiprocessing=True, verbose=1)"
      ],
      "execution_count": 49,
      "outputs": [
        {
          "output_type": "stream",
          "text": [
            "32/32 [==============================] - 4s 112ms/step\n"
          ],
          "name": "stdout"
        }
      ]
    },
    {
      "metadata": {
        "colab_type": "code",
        "id": "QaQ-aTxU7bMJ",
        "colab": {
          "base_uri": "https://localhost:8080/",
          "height": 35
        },
        "outputId": "9fde7c08-9a90-4f6b-947f-c58de4be43c8"
      },
      "cell_type": "code",
      "source": [
        "print('Test Loss: {} | Test Accuracy: {:.2f}%'.format(results['architecture_10'][0], 100 * results['architecture_10'][1]))"
      ],
      "execution_count": 50,
      "outputs": [
        {
          "output_type": "stream",
          "text": [
            "Test Loss: 0.3267460325732827 | Test Accuracy: 89.89%\n"
          ],
          "name": "stdout"
        }
      ]
    },
    {
      "metadata": {
        "id": "t-JuICq46CWp",
        "colab_type": "text"
      },
      "cell_type": "markdown",
      "source": [
        "### 11 tentativa  Accuracy: 88.96%"
      ]
    },
    {
      "metadata": {
        "colab_type": "text",
        "id": "MdaiMXVY8RWc"
      },
      "cell_type": "markdown",
      "source": [
        "Modelo adaptado do **Lucas Albertins**\n",
        "\n",
        "*   Função **SGD** para compilação\n",
        "*   Adicionado mais 2 camadas convolutivas"
      ]
    },
    {
      "metadata": {
        "colab_type": "code",
        "id": "vLy1nlhs6HHL",
        "colab": {}
      },
      "cell_type": "code",
      "source": [
        "from keras.layers import Conv2D, MaxPooling2D, GlobalMaxPooling2D, BatchNormalization\n",
        "from keras.regularizers import l2\n",
        "\n",
        "model = Sequential()\n",
        "\n",
        "model.add(Conv2D(32, (3, 3), activation='relu', kernel_regularizer=l2(1e-4), \n",
        "                 input_shape=(None, None, 3)))\n",
        "model.add(BatchNormalization())\n",
        "model.add(Conv2D(32, (3, 3), activation='relu', kernel_regularizer=l2(1e-4)))\n",
        "model.add(BatchNormalization())\n",
        "model.add(MaxPooling2D((2, 2)))\n",
        "model.add(Dropout(0.25))\n",
        "\n",
        "model.add(Conv2D(64, (3, 3), activation='relu', kernel_regularizer=l2(1e-4)))\n",
        "model.add(BatchNormalization())\n",
        "model.add(Conv2D(64, (3, 3), activation='relu', kernel_regularizer=l2(1e-4)))\n",
        "model.add(BatchNormalization())\n",
        "model.add(MaxPooling2D((2, 2)))\n",
        "model.add(Dropout(0.25))\n",
        "\n",
        "model.add(Conv2D(96, (3, 3),activation='relu', kernel_regularizer=l2(1e-4)))\n",
        "model.add(BatchNormalization())\n",
        "model.add(Conv2D(96, (3, 3),activation='relu', kernel_regularizer=l2(1e-4)))\n",
        "model.add(BatchNormalization())\n",
        "model.add(MaxPooling2D((2, 2)))\n",
        "model.add(Dropout(0.25))\n",
        "\n",
        "model.add(Conv2D(128, (1,1), kernel_regularizer=l2(1e-4)))\n",
        "model.add(GlobalMaxPooling2D())\n",
        "\n",
        "model.add(Dense(256, activation='relu', kernel_regularizer=l2(1e-4)))\n",
        "model.add(Dropout(0.5))\n",
        "model.add(Dense(2, activation='sigmoid', kernel_regularizer=l2(1e-4)))"
      ],
      "execution_count": 0,
      "outputs": []
    },
    {
      "metadata": {
        "colab_type": "code",
        "id": "QKpy_s8Z6HHZ",
        "colab": {}
      },
      "cell_type": "code",
      "source": [
        "model.compile(SGD(lr=0.01, momentum=0.0, decay=0.0, nesterov=False), \n",
        "              loss='binary_crossentropy', metrics=['accuracy'])"
      ],
      "execution_count": 0,
      "outputs": []
    },
    {
      "metadata": {
        "colab_type": "code",
        "id": "kv_TvFJq7t1U",
        "colab": {}
      },
      "cell_type": "code",
      "source": [
        "checkpointer = ModelCheckpoint(filepath='drive/My Drive/Resultado/weights_architecture_11.hdf5', verbose=1, save_best_only=True)"
      ],
      "execution_count": 0,
      "outputs": []
    },
    {
      "metadata": {
        "colab_type": "code",
        "id": "KGy9-eyM7t1c",
        "colab": {
          "base_uri": "https://localhost:8080/",
          "height": 3690
        },
        "outputId": "f98161d9-059f-43a2-d1e5-eed68fd3dcd8"
      },
      "cell_type": "code",
      "source": [
        "training = model.fit_generator(train_batches, steps_per_epoch=stepsPerEpoche, \n",
        "                   validation_data=validation_batches, validation_steps=validationSteps,\n",
        "                   epochs=50, verbose=2, callbacks=[checkpointer])"
      ],
      "execution_count": 54,
      "outputs": [
        {
          "output_type": "stream",
          "text": [
            "Epoch 1/50\n",
            " - 4s - loss: 2.3261 - acc: 0.5000 - val_loss: 1.0641 - val_acc: 0.5781\n",
            "\n",
            "Epoch 00001: val_loss improved from inf to 1.06413, saving model to drive/My Drive/Resultado/weights_architecture_11.hdf5\n",
            "Epoch 2/50\n",
            " - 1s - loss: 1.6069 - acc: 0.5500 - val_loss: 0.6946 - val_acc: 0.6016\n",
            "\n",
            "Epoch 00002: val_loss improved from 1.06413 to 0.69457, saving model to drive/My Drive/Resultado/weights_architecture_11.hdf5\n",
            "Epoch 3/50\n",
            " - 1s - loss: 1.0486 - acc: 0.5687 - val_loss: 0.7076 - val_acc: 0.6172\n",
            "\n",
            "Epoch 00003: val_loss did not improve from 0.69457\n",
            "Epoch 4/50\n",
            " - 1s - loss: 1.0107 - acc: 0.6219 - val_loss: 0.6284 - val_acc: 0.8047\n",
            "\n",
            "Epoch 00004: val_loss improved from 0.69457 to 0.62838, saving model to drive/My Drive/Resultado/weights_architecture_11.hdf5\n",
            "Epoch 5/50\n",
            " - 1s - loss: 0.8011 - acc: 0.6531 - val_loss: 0.6219 - val_acc: 0.8203\n",
            "\n",
            "Epoch 00005: val_loss improved from 0.62838 to 0.62191, saving model to drive/My Drive/Resultado/weights_architecture_11.hdf5\n",
            "Epoch 6/50\n",
            " - 1s - loss: 0.7167 - acc: 0.7188 - val_loss: 0.6248 - val_acc: 0.7422\n",
            "\n",
            "Epoch 00006: val_loss did not improve from 0.62191\n",
            "Epoch 7/50\n",
            " - 1s - loss: 0.6864 - acc: 0.7167 - val_loss: 0.6162 - val_acc: 0.7734\n",
            "\n",
            "Epoch 00007: val_loss improved from 0.62191 to 0.61617, saving model to drive/My Drive/Resultado/weights_architecture_11.hdf5\n",
            "Epoch 8/50\n",
            " - 1s - loss: 0.6478 - acc: 0.7281 - val_loss: 0.6050 - val_acc: 0.8047\n",
            "\n",
            "Epoch 00008: val_loss improved from 0.61617 to 0.60504, saving model to drive/My Drive/Resultado/weights_architecture_11.hdf5\n",
            "Epoch 9/50\n",
            " - 1s - loss: 0.6580 - acc: 0.6844 - val_loss: 0.6755 - val_acc: 0.5703\n",
            "\n",
            "Epoch 00009: val_loss did not improve from 0.60504\n",
            "Epoch 10/50\n",
            " - 1s - loss: 0.6779 - acc: 0.7031 - val_loss: 0.4920 - val_acc: 0.9130\n",
            "\n",
            "Epoch 00010: val_loss improved from 0.60504 to 0.49203, saving model to drive/My Drive/Resultado/weights_architecture_11.hdf5\n",
            "Epoch 11/50\n",
            " - 1s - loss: 0.5822 - acc: 0.7844 - val_loss: 0.6305 - val_acc: 0.7344\n",
            "\n",
            "Epoch 00011: val_loss did not improve from 0.49203\n",
            "Epoch 12/50\n",
            " - 1s - loss: 0.8080 - acc: 0.6844 - val_loss: 0.6074 - val_acc: 0.7031\n",
            "\n",
            "Epoch 00012: val_loss did not improve from 0.49203\n",
            "Epoch 13/50\n",
            " - 1s - loss: 0.5031 - acc: 0.8219 - val_loss: 0.5771 - val_acc: 0.7500\n",
            "\n",
            "Epoch 00013: val_loss did not improve from 0.49203\n",
            "Epoch 14/50\n",
            " - 1s - loss: 0.5154 - acc: 0.8281 - val_loss: 0.6056 - val_acc: 0.6797\n",
            "\n",
            "Epoch 00014: val_loss did not improve from 0.49203\n",
            "Epoch 15/50\n",
            " - 1s - loss: 0.4901 - acc: 0.8344 - val_loss: 0.4512 - val_acc: 0.8516\n",
            "\n",
            "Epoch 00015: val_loss improved from 0.49203 to 0.45122, saving model to drive/My Drive/Resultado/weights_architecture_11.hdf5\n",
            "Epoch 16/50\n",
            " - 1s - loss: 0.4317 - acc: 0.8375 - val_loss: 0.5538 - val_acc: 0.7422\n",
            "\n",
            "Epoch 00016: val_loss did not improve from 0.45122\n",
            "Epoch 17/50\n",
            " - 1s - loss: 0.4605 - acc: 0.8219 - val_loss: 0.4859 - val_acc: 0.8672\n",
            "\n",
            "Epoch 00017: val_loss did not improve from 0.45122\n",
            "Epoch 18/50\n",
            " - 1s - loss: 0.5331 - acc: 0.8500 - val_loss: 0.3930 - val_acc: 0.8594\n",
            "\n",
            "Epoch 00018: val_loss improved from 0.45122 to 0.39305, saving model to drive/My Drive/Resultado/weights_architecture_11.hdf5\n",
            "Epoch 19/50\n",
            " - 1s - loss: 0.4405 - acc: 0.8469 - val_loss: 0.5879 - val_acc: 0.7500\n",
            "\n",
            "Epoch 00019: val_loss did not improve from 0.39305\n",
            "Epoch 20/50\n",
            " - 1s - loss: 0.4209 - acc: 0.8563 - val_loss: 0.4005 - val_acc: 0.8828\n",
            "\n",
            "Epoch 00020: val_loss did not improve from 0.39305\n",
            "Epoch 21/50\n",
            " - 1s - loss: 0.4189 - acc: 0.8750 - val_loss: 0.5217 - val_acc: 0.7266\n",
            "\n",
            "Epoch 00021: val_loss did not improve from 0.39305\n",
            "Epoch 22/50\n",
            " - 1s - loss: 0.4846 - acc: 0.8250 - val_loss: 0.6944 - val_acc: 0.7266\n",
            "\n",
            "Epoch 00022: val_loss did not improve from 0.39305\n",
            "Epoch 23/50\n",
            " - 1s - loss: 0.4574 - acc: 0.8500 - val_loss: 0.4335 - val_acc: 0.8672\n",
            "\n",
            "Epoch 00023: val_loss did not improve from 0.39305\n",
            "Epoch 24/50\n",
            " - 1s - loss: 0.5102 - acc: 0.8250 - val_loss: 0.7941 - val_acc: 0.6484\n",
            "\n",
            "Epoch 00024: val_loss did not improve from 0.39305\n",
            "Epoch 25/50\n",
            " - 1s - loss: 0.4131 - acc: 0.8406 - val_loss: 0.6030 - val_acc: 0.7500\n",
            "\n",
            "Epoch 00025: val_loss did not improve from 0.39305\n",
            "Epoch 26/50\n",
            " - 1s - loss: 0.4489 - acc: 0.8688 - val_loss: 0.5390 - val_acc: 0.7812\n",
            "\n",
            "Epoch 00026: val_loss did not improve from 0.39305\n",
            "Epoch 27/50\n",
            " - 1s - loss: 0.4446 - acc: 0.8438 - val_loss: 0.5376 - val_acc: 0.7935\n",
            "\n",
            "Epoch 00027: val_loss did not improve from 0.39305\n",
            "Epoch 28/50\n",
            " - 1s - loss: 0.3751 - acc: 0.8625 - val_loss: 0.6451 - val_acc: 0.7188\n",
            "\n",
            "Epoch 00028: val_loss did not improve from 0.39305\n",
            "Epoch 29/50\n",
            " - 1s - loss: 0.4790 - acc: 0.8281 - val_loss: 0.4314 - val_acc: 0.9062\n",
            "\n",
            "Epoch 00029: val_loss did not improve from 0.39305\n",
            "Epoch 30/50\n",
            " - 1s - loss: 0.4720 - acc: 0.8344 - val_loss: 0.2808 - val_acc: 0.9766\n",
            "\n",
            "Epoch 00030: val_loss improved from 0.39305 to 0.28076, saving model to drive/My Drive/Resultado/weights_architecture_11.hdf5\n",
            "Epoch 31/50\n",
            " - 1s - loss: 0.4367 - acc: 0.8500 - val_loss: 0.3289 - val_acc: 0.9297\n",
            "\n",
            "Epoch 00031: val_loss did not improve from 0.28076\n",
            "Epoch 32/50\n",
            " - 1s - loss: 0.4465 - acc: 0.8281 - val_loss: 0.5084 - val_acc: 0.8438\n",
            "\n",
            "Epoch 00032: val_loss did not improve from 0.28076\n",
            "Epoch 33/50\n",
            " - 1s - loss: 0.3909 - acc: 0.8619 - val_loss: 0.2965 - val_acc: 0.9375\n",
            "\n",
            "Epoch 00033: val_loss did not improve from 0.28076\n",
            "Epoch 34/50\n",
            " - 1s - loss: 0.5038 - acc: 0.8594 - val_loss: 0.3701 - val_acc: 0.9141\n",
            "\n",
            "Epoch 00034: val_loss did not improve from 0.28076\n",
            "Epoch 35/50\n",
            " - 1s - loss: 0.3723 - acc: 0.9094 - val_loss: 0.2838 - val_acc: 0.9297\n",
            "\n",
            "Epoch 00035: val_loss did not improve from 0.28076\n",
            "Epoch 36/50\n",
            " - 1s - loss: 0.4417 - acc: 0.8781 - val_loss: 0.4051 - val_acc: 0.8281\n",
            "\n",
            "Epoch 00036: val_loss did not improve from 0.28076\n",
            "Epoch 37/50\n",
            " - 1s - loss: 0.4670 - acc: 0.8688 - val_loss: 0.3055 - val_acc: 0.9062\n",
            "\n",
            "Epoch 00037: val_loss did not improve from 0.28076\n",
            "Epoch 38/50\n",
            " - 1s - loss: 0.3243 - acc: 0.9219 - val_loss: 0.5020 - val_acc: 0.8750\n",
            "\n",
            "Epoch 00038: val_loss did not improve from 0.28076\n",
            "Epoch 39/50\n",
            " - 1s - loss: 0.4142 - acc: 0.9031 - val_loss: 0.3422 - val_acc: 0.9141\n",
            "\n",
            "Epoch 00039: val_loss did not improve from 0.28076\n",
            "Epoch 40/50\n",
            " - 1s - loss: 0.3571 - acc: 0.8969 - val_loss: 0.4359 - val_acc: 0.8906\n",
            "\n",
            "Epoch 00040: val_loss did not improve from 0.28076\n",
            "Epoch 41/50\n",
            " - 1s - loss: 0.3750 - acc: 0.9094 - val_loss: 0.3608 - val_acc: 0.9141\n",
            "\n",
            "Epoch 00041: val_loss did not improve from 0.28076\n",
            "Epoch 42/50\n",
            " - 1s - loss: 0.3226 - acc: 0.9156 - val_loss: 0.4107 - val_acc: 0.8516\n",
            "\n",
            "Epoch 00042: val_loss did not improve from 0.28076\n",
            "Epoch 43/50\n",
            " - 1s - loss: 0.4157 - acc: 0.8406 - val_loss: 0.4051 - val_acc: 0.8913\n",
            "\n",
            "Epoch 00043: val_loss did not improve from 0.28076\n",
            "Epoch 44/50\n",
            " - 1s - loss: 0.5197 - acc: 0.8219 - val_loss: 0.3833 - val_acc: 0.9297\n",
            "\n",
            "Epoch 00044: val_loss did not improve from 0.28076\n",
            "Epoch 45/50\n",
            " - 1s - loss: 0.4205 - acc: 0.8312 - val_loss: 0.4667 - val_acc: 0.9219\n",
            "\n",
            "Epoch 00045: val_loss did not improve from 0.28076\n",
            "Epoch 46/50\n",
            " - 1s - loss: 0.5208 - acc: 0.8688 - val_loss: 0.4551 - val_acc: 0.9141\n",
            "\n",
            "Epoch 00046: val_loss did not improve from 0.28076\n",
            "Epoch 47/50\n",
            " - 1s - loss: 0.3760 - acc: 0.9094 - val_loss: 0.4909 - val_acc: 0.8594\n",
            "\n",
            "Epoch 00047: val_loss did not improve from 0.28076\n",
            "Epoch 48/50\n",
            " - 1s - loss: 0.4315 - acc: 0.8531 - val_loss: 0.5154 - val_acc: 0.7891\n",
            "\n",
            "Epoch 00048: val_loss did not improve from 0.28076\n",
            "Epoch 49/50\n",
            " - 1s - loss: 0.3578 - acc: 0.8937 - val_loss: 0.4057 - val_acc: 0.8984\n",
            "\n",
            "Epoch 00049: val_loss did not improve from 0.28076\n",
            "Epoch 50/50\n",
            " - 1s - loss: 0.2902 - acc: 0.9094 - val_loss: 0.4826 - val_acc: 0.8750\n",
            "\n",
            "Epoch 00050: val_loss did not improve from 0.28076\n"
          ],
          "name": "stdout"
        }
      ]
    },
    {
      "metadata": {
        "colab_type": "code",
        "id": "Zfc6MOKV7t18",
        "colab": {
          "base_uri": "https://localhost:8080/",
          "height": 380
        },
        "outputId": "ed2f659d-8458-42a0-8917-73d1d60c78db"
      },
      "cell_type": "code",
      "source": [
        "# plotar loss e accuracy para os datasets 'train' e 'test'\n",
        "plt.style.use(\"ggplot\")\n",
        "plt.figure()\n",
        "plt.plot(training.history['acc'], label='Accuracy')\n",
        "plt.plot(training.history['loss'], label='Loss')\n",
        "plt.xlabel('Epochs')\n",
        "plt.ylabel('Accuracy')\n",
        "plt.title(\"Training Loss and Accuracy\")\n",
        "plt.ylabel(\"Loss/Accuracy\")\n",
        "plt.legend()\n",
        "plt.savefig('drive/My Drive/Resultado/architecture_11.png', bbox_inches='tight')"
      ],
      "execution_count": 55,
      "outputs": [
        {
          "output_type": "display_data",
          "data": {
            "image/png": "[encoded data removed]",
            "text/plain": [
              "<matplotlib.figure.Figure at 0x7f68a1f73780>"
            ]
          },
          "metadata": {
            "tags": []
          }
        }
      ]
    },
    {
      "metadata": {
        "colab_type": "code",
        "id": "YGPiNIgZ7t2H",
        "colab": {}
      },
      "cell_type": "code",
      "source": [
        "model.load_weights('drive/My Drive/Resultado/weights_architecture_11.hdf5')"
      ],
      "execution_count": 0,
      "outputs": []
    },
    {
      "metadata": {
        "colab_type": "code",
        "id": "kxr7AENx7t2N",
        "colab": {
          "base_uri": "https://localhost:8080/",
          "height": 35
        },
        "outputId": "ed4289f2-86cc-43c6-bbde-0b3ec45d8a52"
      },
      "cell_type": "code",
      "source": [
        "results['architecture_11'] = model.evaluate_generator(test_batches, steps=bSize, use_multiprocessing=True, verbose=1)"
      ],
      "execution_count": 12,
      "outputs": [
        {
          "output_type": "stream",
          "text": [
            "32/32 [==============================] - 221s 7s/step\n"
          ],
          "name": "stdout"
        }
      ]
    },
    {
      "metadata": {
        "colab_type": "code",
        "id": "Bf8AHrqA7t2S",
        "colab": {
          "base_uri": "https://localhost:8080/",
          "height": 35
        },
        "outputId": "6b6915c1-77f6-4d50-e54a-0a473c1c677b"
      },
      "cell_type": "code",
      "source": [
        "print('Test Loss: {} | Test Accuracy: {:.2f}%'.format(results['architecture_11'][0], 100 * results['architecture_11'][1]))"
      ],
      "execution_count": 13,
      "outputs": [
        {
          "output_type": "stream",
          "text": [
            "Test Loss: 0.4066310990601778 | Test Accuracy: 88.96%\n"
          ],
          "name": "stdout"
        }
      ]
    },
    {
      "metadata": {
        "id": "26BCkdp9MAna",
        "colab_type": "text"
      },
      "cell_type": "markdown",
      "source": [
        "### 12 tentativa  Accuracy: 87.74%"
      ]
    },
    {
      "metadata": {
        "colab_type": "text",
        "id": "MLvKG40a84F9"
      },
      "cell_type": "markdown",
      "source": [
        "Modelo adaptado do **Lucas Albertins**\n",
        "\n",
        "*   Sem utilização das funções de regularização\n",
        "*   Função **SGD** para compilação\n",
        "*   Adicionado mais 2 camadas convolutivas"
      ]
    },
    {
      "metadata": {
        "colab_type": "code",
        "id": "9LrDSy5AMFDO",
        "colab": {}
      },
      "cell_type": "code",
      "source": [
        "from keras.layers import Conv2D, MaxPooling2D, GlobalMaxPooling2D, BatchNormalization\n",
        "from keras.regularizers import l2\n",
        "\n",
        "model = Sequential()\n",
        "\n",
        "model.add(Conv2D(32, (3, 3), activation='relu',input_shape=(None, None, 3)))\n",
        "model.add(BatchNormalization())\n",
        "model.add(Conv2D(32, (3, 3), activation='relu'))\n",
        "model.add(BatchNormalization())\n",
        "model.add(MaxPooling2D((2, 2)))\n",
        "model.add(Dropout(0.25))\n",
        "\n",
        "model.add(Conv2D(64, (3, 3), activation='relu'))\n",
        "model.add(BatchNormalization())\n",
        "model.add(Conv2D(64, (3, 3), activation='relu'))\n",
        "model.add(BatchNormalization())\n",
        "model.add(MaxPooling2D((2, 2)))\n",
        "model.add(Dropout(0.25))\n",
        "\n",
        "model.add(Conv2D(96, (3, 3),activation='relu'))\n",
        "model.add(BatchNormalization())\n",
        "model.add(Conv2D(96, (3, 3),activation='relu'))\n",
        "model.add(BatchNormalization())\n",
        "model.add(MaxPooling2D((2, 2)))\n",
        "model.add(Dropout(0.25))\n",
        "\n",
        "model.add(Conv2D(128, (1,1)))\n",
        "model.add(GlobalMaxPooling2D())\n",
        "\n",
        "model.add(Dense(256, activation='relu'))\n",
        "model.add(Dropout(0.5))\n",
        "model.add(Dense(2, activation='sigmoid'))"
      ],
      "execution_count": 0,
      "outputs": []
    },
    {
      "metadata": {
        "colab_type": "code",
        "id": "EUZ-2eyUMSxQ",
        "colab": {}
      },
      "cell_type": "code",
      "source": [
        "model.compile(SGD(lr=0.01, momentum=0.0, decay=0.0, nesterov=False), \n",
        "              loss='binary_crossentropy', metrics=['accuracy'])"
      ],
      "execution_count": 0,
      "outputs": []
    },
    {
      "metadata": {
        "colab_type": "code",
        "id": "t9LJH3RP9H7J",
        "colab": {}
      },
      "cell_type": "code",
      "source": [
        "checkpointer = ModelCheckpoint(filepath='drive/My Drive/Resultado/weights_architecture_12.hdf5', verbose=1, save_best_only=True)"
      ],
      "execution_count": 0,
      "outputs": []
    },
    {
      "metadata": {
        "colab_type": "code",
        "id": "nnQVNSzq9H7S",
        "colab": {
          "base_uri": "https://localhost:8080/",
          "height": 3690
        },
        "outputId": "7d9ece49-28ad-47f4-ccb0-d9a96cff5448"
      },
      "cell_type": "code",
      "source": [
        "training = model.fit_generator(train_batches, steps_per_epoch=stepsPerEpoche, \n",
        "                   validation_data=validation_batches, validation_steps=validationSteps,\n",
        "                   epochs=50, verbose=2, callbacks=[checkpointer])"
      ],
      "execution_count": 17,
      "outputs": [
        {
          "output_type": "stream",
          "text": [
            "Epoch 1/50\n",
            " - 37s - loss: 1.5100 - acc: 0.4844 - val_loss: 0.7369 - val_acc: 0.5234\n",
            "\n",
            "Epoch 00001: val_loss improved from inf to 0.73690, saving model to drive/My Drive/Resultado/weights_architecture_12.hdf5\n",
            "Epoch 2/50\n",
            " - 35s - loss: 1.8112 - acc: 0.4594 - val_loss: 0.6854 - val_acc: 0.5391\n",
            "\n",
            "Epoch 00002: val_loss improved from 0.73690 to 0.68537, saving model to drive/My Drive/Resultado/weights_architecture_12.hdf5\n",
            "Epoch 3/50\n",
            " - 36s - loss: 1.0034 - acc: 0.5375 - val_loss: 0.6720 - val_acc: 0.5703\n",
            "\n",
            "Epoch 00003: val_loss improved from 0.68537 to 0.67203, saving model to drive/My Drive/Resultado/weights_architecture_12.hdf5\n",
            "Epoch 4/50\n",
            " - 35s - loss: 0.9757 - acc: 0.5156 - val_loss: 0.6596 - val_acc: 0.5234\n",
            "\n",
            "Epoch 00004: val_loss improved from 0.67203 to 0.65956, saving model to drive/My Drive/Resultado/weights_architecture_12.hdf5\n",
            "Epoch 5/50\n",
            " - 38s - loss: 0.7198 - acc: 0.6344 - val_loss: 0.6496 - val_acc: 0.6797\n",
            "\n",
            "Epoch 00005: val_loss improved from 0.65956 to 0.64964, saving model to drive/My Drive/Resultado/weights_architecture_12.hdf5\n",
            "Epoch 6/50\n",
            " - 35s - loss: 0.6910 - acc: 0.6188 - val_loss: 0.6345 - val_acc: 0.6562\n",
            "\n",
            "Epoch 00006: val_loss improved from 0.64964 to 0.63450, saving model to drive/My Drive/Resultado/weights_architecture_12.hdf5\n",
            "Epoch 7/50\n",
            " - 36s - loss: 0.6943 - acc: 0.6281 - val_loss: 0.5756 - val_acc: 0.7578\n",
            "\n",
            "Epoch 00007: val_loss improved from 0.63450 to 0.57562, saving model to drive/My Drive/Resultado/weights_architecture_12.hdf5\n",
            "Epoch 8/50\n",
            " - 34s - loss: 0.6663 - acc: 0.6500 - val_loss: 0.6091 - val_acc: 0.7422\n",
            "\n",
            "Epoch 00008: val_loss did not improve from 0.57562\n",
            "Epoch 9/50\n",
            " - 34s - loss: 0.5634 - acc: 0.6781 - val_loss: 0.5070 - val_acc: 0.7812\n",
            "\n",
            "Epoch 00009: val_loss improved from 0.57562 to 0.50701, saving model to drive/My Drive/Resultado/weights_architecture_12.hdf5\n",
            "Epoch 10/50\n",
            " - 34s - loss: 0.6338 - acc: 0.6844 - val_loss: 0.5179 - val_acc: 0.7812\n",
            "\n",
            "Epoch 00010: val_loss did not improve from 0.50701\n",
            "Epoch 11/50\n",
            " - 35s - loss: 0.5093 - acc: 0.7406 - val_loss: 0.5131 - val_acc: 0.8281\n",
            "\n",
            "Epoch 00011: val_loss did not improve from 0.50701\n",
            "Epoch 12/50\n",
            " - 36s - loss: 0.5858 - acc: 0.7031 - val_loss: 0.5425 - val_acc: 0.8438\n",
            "\n",
            "Epoch 00012: val_loss did not improve from 0.50701\n",
            "Epoch 13/50\n",
            " - 37s - loss: 0.5324 - acc: 0.7500 - val_loss: 0.5590 - val_acc: 0.7266\n",
            "\n",
            "Epoch 00013: val_loss did not improve from 0.50701\n",
            "Epoch 14/50\n",
            " - 42s - loss: 0.4531 - acc: 0.7875 - val_loss: 0.5368 - val_acc: 0.7188\n",
            "\n",
            "Epoch 00014: val_loss did not improve from 0.50701\n",
            "Epoch 15/50\n",
            " - 36s - loss: 0.5270 - acc: 0.7562 - val_loss: 0.5759 - val_acc: 0.7500\n",
            "\n",
            "Epoch 00015: val_loss did not improve from 0.50701\n",
            "Epoch 16/50\n",
            " - 36s - loss: 0.4822 - acc: 0.7812 - val_loss: 0.4318 - val_acc: 0.8438\n",
            "\n",
            "Epoch 00016: val_loss improved from 0.50701 to 0.43182, saving model to drive/My Drive/Resultado/weights_architecture_12.hdf5\n",
            "Epoch 17/50\n",
            " - 35s - loss: 0.5305 - acc: 0.7625 - val_loss: 0.5992 - val_acc: 0.5109\n",
            "\n",
            "Epoch 00017: val_loss did not improve from 0.43182\n",
            "Epoch 18/50\n",
            " - 35s - loss: 0.4967 - acc: 0.7594 - val_loss: 0.5879 - val_acc: 0.5703\n",
            "\n",
            "Epoch 00018: val_loss did not improve from 0.43182\n",
            "Epoch 19/50\n",
            " - 38s - loss: 0.4504 - acc: 0.8187 - val_loss: 0.5177 - val_acc: 0.7344\n",
            "\n",
            "Epoch 00019: val_loss did not improve from 0.43182\n",
            "Epoch 20/50\n",
            " - 36s - loss: 0.4206 - acc: 0.8187 - val_loss: 0.3898 - val_acc: 0.8906\n",
            "\n",
            "Epoch 00020: val_loss improved from 0.43182 to 0.38977, saving model to drive/My Drive/Resultado/weights_architecture_12.hdf5\n",
            "Epoch 21/50\n",
            " - 36s - loss: 0.4496 - acc: 0.8000 - val_loss: 0.4278 - val_acc: 0.8828\n",
            "\n",
            "Epoch 00021: val_loss did not improve from 0.38977\n",
            "Epoch 22/50\n",
            " - 35s - loss: 0.5035 - acc: 0.7781 - val_loss: 0.3347 - val_acc: 0.8984\n",
            "\n",
            "Epoch 00022: val_loss improved from 0.38977 to 0.33474, saving model to drive/My Drive/Resultado/weights_architecture_12.hdf5\n",
            "Epoch 23/50\n",
            " - 36s - loss: 0.4361 - acc: 0.8063 - val_loss: 0.3662 - val_acc: 0.8984\n",
            "\n",
            "Epoch 00023: val_loss did not improve from 0.33474\n",
            "Epoch 24/50\n",
            " - 38s - loss: 0.3657 - acc: 0.8406 - val_loss: 0.2883 - val_acc: 0.9062\n",
            "\n",
            "Epoch 00024: val_loss improved from 0.33474 to 0.28832, saving model to drive/My Drive/Resultado/weights_architecture_12.hdf5\n",
            "Epoch 25/50\n",
            " - 39s - loss: 0.4045 - acc: 0.8500 - val_loss: 0.4001 - val_acc: 0.8672\n",
            "\n",
            "Epoch 00025: val_loss did not improve from 0.28832\n",
            "Epoch 26/50\n",
            " - 39s - loss: 0.4224 - acc: 0.8265 - val_loss: 0.3304 - val_acc: 0.8750\n",
            "\n",
            "Epoch 00026: val_loss did not improve from 0.28832\n",
            "Epoch 27/50\n",
            " - 1s - loss: 0.4216 - acc: 0.8625 - val_loss: 0.4805 - val_acc: 0.8203\n",
            "\n",
            "Epoch 00027: val_loss did not improve from 0.28832\n",
            "Epoch 28/50\n",
            " - 1s - loss: 0.4334 - acc: 0.8031 - val_loss: 0.3497 - val_acc: 0.8828\n",
            "\n",
            "Epoch 00028: val_loss did not improve from 0.28832\n",
            "Epoch 29/50\n",
            " - 1s - loss: 0.3780 - acc: 0.8187 - val_loss: 0.3806 - val_acc: 0.8906\n",
            "\n",
            "Epoch 00029: val_loss did not improve from 0.28832\n",
            "Epoch 30/50\n",
            " - 1s - loss: 0.3262 - acc: 0.8875 - val_loss: 0.3537 - val_acc: 0.8984\n",
            "\n",
            "Epoch 00030: val_loss did not improve from 0.28832\n",
            "Epoch 31/50\n",
            " - 1s - loss: 0.3558 - acc: 0.8688 - val_loss: 0.2321 - val_acc: 0.9375\n",
            "\n",
            "Epoch 00031: val_loss improved from 0.28832 to 0.23214, saving model to drive/My Drive/Resultado/weights_architecture_12.hdf5\n",
            "Epoch 32/50\n",
            " - 1s - loss: 0.3368 - acc: 0.8844 - val_loss: 0.2991 - val_acc: 0.9062\n",
            "\n",
            "Epoch 00032: val_loss did not improve from 0.23214\n",
            "Epoch 33/50\n",
            " - 1s - loss: 0.3084 - acc: 0.8844 - val_loss: 0.4534 - val_acc: 0.8370\n",
            "\n",
            "Epoch 00033: val_loss did not improve from 0.23214\n",
            "Epoch 34/50\n",
            " - 1s - loss: 0.3420 - acc: 0.8937 - val_loss: 0.3737 - val_acc: 0.8672\n",
            "\n",
            "Epoch 00034: val_loss did not improve from 0.23214\n",
            "Epoch 35/50\n",
            " - 1s - loss: 0.3720 - acc: 0.8344 - val_loss: 0.3356 - val_acc: 0.8906\n",
            "\n",
            "Epoch 00035: val_loss did not improve from 0.23214\n",
            "Epoch 36/50\n",
            " - 1s - loss: 0.4190 - acc: 0.8500 - val_loss: 0.2111 - val_acc: 0.9297\n",
            "\n",
            "Epoch 00036: val_loss improved from 0.23214 to 0.21108, saving model to drive/My Drive/Resultado/weights_architecture_12.hdf5\n",
            "Epoch 37/50\n",
            " - 1s - loss: 0.3281 - acc: 0.9062 - val_loss: 0.3566 - val_acc: 0.8672\n",
            "\n",
            "Epoch 00037: val_loss did not improve from 0.21108\n",
            "Epoch 38/50\n",
            " - 1s - loss: 0.3385 - acc: 0.8406 - val_loss: 0.3540 - val_acc: 0.8828\n",
            "\n",
            "Epoch 00038: val_loss did not improve from 0.21108\n",
            "Epoch 39/50\n",
            " - 1s - loss: 0.3188 - acc: 0.9000 - val_loss: 0.3142 - val_acc: 0.9375\n",
            "\n",
            "Epoch 00039: val_loss did not improve from 0.21108\n",
            "Epoch 40/50\n",
            " - 1s - loss: 0.3555 - acc: 0.8719 - val_loss: 0.2306 - val_acc: 0.9453\n",
            "\n",
            "Epoch 00040: val_loss did not improve from 0.21108\n",
            "Epoch 41/50\n",
            " - 1s - loss: 0.3337 - acc: 0.8937 - val_loss: 0.2937 - val_acc: 0.8906\n",
            "\n",
            "Epoch 00041: val_loss did not improve from 0.21108\n",
            "Epoch 42/50\n",
            " - 1s - loss: 0.2642 - acc: 0.9219 - val_loss: 0.3371 - val_acc: 0.8125\n",
            "\n",
            "Epoch 00042: val_loss did not improve from 0.21108\n",
            "Epoch 43/50\n",
            " - 1s - loss: 0.3064 - acc: 0.8812 - val_loss: 0.2882 - val_acc: 0.9375\n",
            "\n",
            "Epoch 00043: val_loss did not improve from 0.21108\n",
            "Epoch 44/50\n",
            " - 1s - loss: 0.3144 - acc: 0.8812 - val_loss: 0.5025 - val_acc: 0.8438\n",
            "\n",
            "Epoch 00044: val_loss did not improve from 0.21108\n",
            "Epoch 45/50\n",
            " - 1s - loss: 0.3467 - acc: 0.8875 - val_loss: 0.3404 - val_acc: 0.8750\n",
            "\n",
            "Epoch 00045: val_loss did not improve from 0.21108\n",
            "Epoch 46/50\n",
            " - 1s - loss: 0.3071 - acc: 0.8719 - val_loss: 0.2649 - val_acc: 0.9062\n",
            "\n",
            "Epoch 00046: val_loss did not improve from 0.21108\n",
            "Epoch 47/50\n",
            " - 1s - loss: 0.2650 - acc: 0.9094 - val_loss: 0.2084 - val_acc: 0.9531\n",
            "\n",
            "Epoch 00047: val_loss improved from 0.21108 to 0.20840, saving model to drive/My Drive/Resultado/weights_architecture_12.hdf5\n",
            "Epoch 48/50\n",
            " - 1s - loss: 0.3350 - acc: 0.9000 - val_loss: 0.2675 - val_acc: 0.8984\n",
            "\n",
            "Epoch 00048: val_loss did not improve from 0.20840\n",
            "Epoch 49/50\n",
            " - 1s - loss: 0.3152 - acc: 0.8750 - val_loss: 0.1919 - val_acc: 0.9297\n",
            "\n",
            "Epoch 00049: val_loss improved from 0.20840 to 0.19191, saving model to drive/My Drive/Resultado/weights_architecture_12.hdf5\n",
            "Epoch 50/50\n",
            " - 1s - loss: 0.2979 - acc: 0.9000 - val_loss: 0.2894 - val_acc: 0.8696\n",
            "\n",
            "Epoch 00050: val_loss did not improve from 0.19191\n"
          ],
          "name": "stdout"
        }
      ]
    },
    {
      "metadata": {
        "colab_type": "code",
        "id": "1jTgRNsw9H7Y",
        "colab": {
          "base_uri": "https://localhost:8080/",
          "height": 380
        },
        "outputId": "64e749e0-5cc2-41a0-9d6d-ba0077bbbd14"
      },
      "cell_type": "code",
      "source": [
        "# plotar loss e accuracy para os datasets 'train' e 'test'\n",
        "plt.style.use(\"ggplot\")\n",
        "plt.figure()\n",
        "plt.plot(training.history['acc'], label='Accuracy')\n",
        "plt.plot(training.history['loss'], label='Loss')\n",
        "plt.xlabel('Epochs')\n",
        "plt.ylabel('Accuracy')\n",
        "plt.title(\"Training Loss and Accuracy\")\n",
        "plt.ylabel(\"Loss/Accuracy\")\n",
        "plt.legend()\n",
        "plt.savefig('drive/My Drive/Resultado/architecture_12.png', bbox_inches='tight')"
      ],
      "execution_count": 18,
      "outputs": [
        {
          "output_type": "display_data",
          "data": {
            "image/png": "[encoded data removed]",
            "text/plain": [
              "<matplotlib.figure.Figure at 0x7fcce7076518>"
            ]
          },
          "metadata": {
            "tags": []
          }
        }
      ]
    },
    {
      "metadata": {
        "colab_type": "code",
        "id": "Bwv3EcY-9H7g",
        "colab": {}
      },
      "cell_type": "code",
      "source": [
        "model.load_weights('drive/My Drive/Resultado/weights_architecture_12.hdf5')"
      ],
      "execution_count": 0,
      "outputs": []
    },
    {
      "metadata": {
        "colab_type": "code",
        "id": "nF36tfx69H7v",
        "colab": {
          "base_uri": "https://localhost:8080/",
          "height": 35
        },
        "outputId": "eb095bca-cace-4ebc-f829-6299848c4aeb"
      },
      "cell_type": "code",
      "source": [
        "results['architecture_12'] = model.evaluate_generator(test_batches, steps=bSize, use_multiprocessing=True, verbose=1)"
      ],
      "execution_count": 20,
      "outputs": [
        {
          "output_type": "stream",
          "text": [
            "32/32 [==============================] - 46s 1s/step\n"
          ],
          "name": "stdout"
        }
      ]
    },
    {
      "metadata": {
        "colab_type": "code",
        "id": "tG7HPabu9H76",
        "colab": {
          "base_uri": "https://localhost:8080/",
          "height": 35
        },
        "outputId": "33647707-9c5d-4bc5-9397-7e2eb69b1415"
      },
      "cell_type": "code",
      "source": [
        "print('Test Loss: {} | Test Accuracy: {:.2f}%'.format(results['architecture_12'][0], 100 * results['architecture_12'][1]))"
      ],
      "execution_count": 21,
      "outputs": [
        {
          "output_type": "stream",
          "text": [
            "Test Loss: 0.3209293116815388 | Test Accuracy: 87.74%\n"
          ],
          "name": "stdout"
        }
      ]
    }
  ]
}