{
  "nbformat": 4,
  "nbformat_minor": 0,
  "metadata": {
    "colab": {
      "name": "TesteRedes.ipynb",
      "version": "0.3.2",
      "provenance": [],
      "toc_visible": true,
      "include_colab_link": true
    },
    "kernelspec": {
      "name": "python3",
      "display_name": "Python 3"
    },
    "accelerator": "GPU"
  },
  "cells": [
    {
      "cell_type": "markdown",
      "metadata": {
        "id": "view-in-github",
        "colab_type": "text"
      },
      "source": [
        "<a href=\"https://colab.research.google.com/github/FernandaSzAdr/KNN_cromossome/blob/master/TesteRedes.ipynb\" target=\"_parent\"><img src=\"https://colab.research.google.com/assets/colab-badge.svg\" alt=\"Open In Colab\"/></a>"
      ]
    },
    {
      "metadata": {
        "id": "KpoFwwKru7O6",
        "colab_type": "code",
        "outputId": "e8ca2020-63ff-4944-b552-35e77371e6d5",
        "colab": {
          "base_uri": "https://localhost:8080/",
          "height": 35
        }
      },
      "cell_type": "code",
      "source": [
        "import tensorflow as tf\n",
        "device_name = tf.test.gpu_device_name()\n",
        "if device_name != '/device:GPU:0':\n",
        "  raise SystemError('GPU device not found')\n",
        "print('Found GPU at: {}'.format(device_name))"
      ],
      "execution_count": 0,
      "outputs": [
        {
          "output_type": "stream",
          "text": [
            "Found GPU at: /device:GPU:0\n"
          ],
          "name": "stdout"
        }
      ]
    },
    {
      "metadata": {
        "id": "yIYeoR1DzzZL",
        "colab_type": "code",
        "outputId": "426a5806-5610-4381-f8dc-f3a210959a3e",
        "colab": {
          "base_uri": "https://localhost:8080/",
          "height": 147
        }
      },
      "cell_type": "code",
      "source": [
        "# memory footprint support libraries/code\n",
        "!ln -sf /opt/bin/nvidia-smi /usr/bin/nvidia-smi\n",
        "!pip install gputil\n",
        "!pip install psutil\n",
        "!pip install humanize\n",
        "import psutil\n",
        "import humanize\n",
        "import os\n",
        "import GPUtil as GPU\n",
        "GPUs = GPU.getGPUs()\n",
        "# XXX: only one GPU on Colab and isn’t guaranteed\n",
        "gpu = GPUs[0]\n",
        "def printm():\n",
        " process = psutil.Process(os.getpid())\n",
        " print(\"Gen RAM Free: \" + humanize.naturalsize( psutil.virtual_memory().available ), \" | Proc size: \" + humanize.naturalsize( process.memory_info().rss))\n",
        " print(\"GPU RAM Free: {0:.0f}MB | Used: {1:.0f}MB | Util {2:3.0f}% | Total {3:.0f}MB\".format(gpu.memoryFree, gpu.memoryUsed, gpu.memoryUtil*100, gpu.memoryTotal))\n",
        "printm()"
      ],
      "execution_count": 0,
      "outputs": [
        {
          "output_type": "stream",
          "text": [
            "Requirement already satisfied: gputil in /usr/local/lib/python3.6/dist-packages (1.3.0)\n",
            "Requirement already satisfied: numpy in /usr/local/lib/python3.6/dist-packages (from gputil) (1.14.6)\n",
            "Requirement already satisfied: psutil in /usr/local/lib/python3.6/dist-packages (5.4.7)\n",
            "Requirement already satisfied: humanize in /usr/local/lib/python3.6/dist-packages (0.5.1)\n",
            "Gen RAM Free: 12.4 GB  | Proc size: 665.3 MB\n",
            "GPU RAM Free: 11325MB | Used: 116MB | Util   1% | Total 11441MB\n"
          ],
          "name": "stdout"
        }
      ]
    },
    {
      "metadata": {
        "id": "xN-oUTtcif3Q",
        "colab_type": "code",
        "outputId": "855f8789-9fd1-4584-84a3-e6de5eb63414",
        "colab": {
          "base_uri": "https://localhost:8080/",
          "height": 129
        }
      },
      "cell_type": "code",
      "source": [
        "# Load the Drive helper and mount\n",
        "from google.colab import drive\n",
        "\n",
        "# This will prompt for authorization.\n",
        "drive.mount('/content/drive/')"
      ],
      "execution_count": 1,
      "outputs": [
        {
          "output_type": "stream",
          "text": [
            "Go to this URL in a browser: https://accounts.google.com/o/oauth2/auth?client_id=947318989803-6bn6qk8qdgf4n4g3pfee6491hc0brc4i.apps.googleusercontent.com&redirect_uri=urn%3Aietf%3Awg%3Aoauth%3A2.0%3Aoob&scope=email%20https%3A%2F%2Fwww.googleapis.com%2Fauth%2Fdocs.test%20https%3A%2F%2Fwww.googleapis.com%2Fauth%2Fdrive%20https%3A%2F%2Fwww.googleapis.com%2Fauth%2Fdrive.photos.readonly%20https%3A%2F%2Fwww.googleapis.com%2Fauth%2Fpeopleapi.readonly&response_type=code\n",
            "\n",
            "Enter your authorization code:\n",
            "··········\n",
            "Mounted at /content/drive/\n"
          ],
          "name": "stdout"
        }
      ]
    },
    {
      "metadata": {
        "id": "gzcuEGSklnwS",
        "colab_type": "code",
        "outputId": "ce521655-0cc0-42f4-8c0c-a61e911400e7",
        "colab": {
          "base_uri": "https://localhost:8080/",
          "height": 35
        }
      },
      "cell_type": "code",
      "source": [
        "import numpy as np\n",
        "import keras\n",
        "from keras import backend as K\n",
        "from keras.models import Sequential\n",
        "from keras.layers import Activation\n",
        "from keras.optimizers import SGD\n",
        "from keras.layers.core import Dense, Flatten, Dropout\n",
        "from keras.preprocessing.image import ImageDataGenerator\n",
        "from keras.layers.normalization import BatchNormalization\n",
        "from keras.layers.convolutional import *\n",
        "from keras.callbacks import ModelCheckpoint\n",
        "from matplotlib import pyplot as plt\n",
        "from sklearn.metrics import confusion_matrix\n",
        "import itertools\n",
        "import matplotlib.pyplot as plt"
      ],
      "execution_count": 2,
      "outputs": [
        {
          "output_type": "stream",
          "text": [
            "Using TensorFlow backend.\n"
          ],
          "name": "stderr"
        }
      ]
    },
    {
      "metadata": {
        "id": "ITtEfxrilym7",
        "colab_type": "code",
        "colab": {}
      },
      "cell_type": "code",
      "source": [
        "train_path = 'drive/My Drive/Base_CNN/Colorido/Train'\n",
        "test_path = 'drive/My Drive/Base_CNN/Colorido/Test'\n",
        "validation_path = 'drive/My Drive/Base_CNN/Colorido/Validation'"
      ],
      "execution_count": 0,
      "outputs": []
    },
    {
      "metadata": {
        "id": "WlPBqB_v3x2A",
        "colab_type": "text"
      },
      "cell_type": "markdown",
      "source": [
        "\n",
        "\n",
        "---\n",
        "\n"
      ]
    },
    {
      "metadata": {
        "id": "8KTtm8K7qg1n",
        "colab_type": "text"
      },
      "cell_type": "markdown",
      "source": [
        "## Implementação"
      ]
    },
    {
      "metadata": {
        "id": "ZNfohSUpo1n0",
        "colab_type": "text"
      },
      "cell_type": "markdown",
      "source": [
        "\n",
        "\n",
        "*   Batch size = 32\n",
        "*   Image size = 120x120\n",
        "\n"
      ]
    },
    {
      "metadata": {
        "id": "_TFWtLbQ2fUI",
        "colab_type": "code",
        "colab": {}
      },
      "cell_type": "code",
      "source": [
        "results = {}"
      ],
      "execution_count": 0,
      "outputs": []
    },
    {
      "metadata": {
        "id": "W3zmFDRmnYem",
        "colab_type": "code",
        "colab": {}
      },
      "cell_type": "code",
      "source": [
        "bSize = 32"
      ],
      "execution_count": 0,
      "outputs": []
    },
    {
      "metadata": {
        "id": "dCNH0jPl3WTV",
        "colab_type": "code",
        "colab": {}
      },
      "cell_type": "code",
      "source": [
        "datagen = ImageDataGenerator(rescale=1/255.)"
      ],
      "execution_count": 0,
      "outputs": []
    },
    {
      "metadata": {
        "id": "YiMXe23Vmbo-",
        "colab_type": "code",
        "outputId": "e0edd078-987a-40e0-b927-07bb293bd63a",
        "colab": {
          "base_uri": "https://localhost:8080/",
          "height": 72
        }
      },
      "cell_type": "code",
      "source": [
        "train_batches = datagen.flow_from_directory(train_path, target_size=(120, 120), classes=['C', 'NC'], batch_size=bSize)\n",
        "test_batches = datagen.flow_from_directory(test_path, target_size=(120, 120), classes=['C', 'NC'], batch_size=bSize)\n",
        "validation_batches = datagen.flow_from_directory(validation_path, target_size=(120, 120), classes=['C', 'NC'], batch_size=bSize)"
      ],
      "execution_count": 7,
      "outputs": [
        {
          "output_type": "stream",
          "text": [
            "Found 4276 images belonging to 2 classes.\n",
            "Found 1336 images belonging to 2 classes.\n",
            "Found 1068 images belonging to 2 classes.\n"
          ],
          "name": "stdout"
        }
      ]
    },
    {
      "metadata": {
        "id": "vE-dZtSv5mde",
        "colab_type": "code",
        "colab": {}
      },
      "cell_type": "code",
      "source": [
        "stepsPerEpoche = len(train_batches)/bSize\n",
        "validationSteps = len(validation_batches)/bSize"
      ],
      "execution_count": 0,
      "outputs": []
    },
    {
      "metadata": {
        "id": "WLcoxZya5sQr",
        "colab_type": "code",
        "outputId": "41886e6e-a1d2-4d7e-f255-2fcff91122a5",
        "colab": {
          "base_uri": "https://localhost:8080/",
          "height": 35
        }
      },
      "cell_type": "code",
      "source": [
        "test_batches.class_indices"
      ],
      "execution_count": 0,
      "outputs": [
        {
          "output_type": "execute_result",
          "data": {
            "text/plain": [
              "{'C': 0, 'NC': 1}"
            ]
          },
          "metadata": {
            "tags": []
          },
          "execution_count": 8
        }
      ]
    },
    {
      "metadata": {
        "id": "tY7Fxpczz0wk",
        "colab_type": "text"
      },
      "cell_type": "markdown",
      "source": [
        "\n",
        "\n",
        "---\n",
        "\n"
      ]
    },
    {
      "metadata": {
        "id": "wH56YdE5rlnU",
        "colab_type": "text"
      },
      "cell_type": "markdown",
      "source": [
        "### 1 tentativa Accuracy: 50.20%\n"
      ]
    },
    {
      "metadata": {
        "id": "NBCIFVOlompR",
        "colab_type": "text"
      },
      "cell_type": "markdown",
      "source": [
        "**Descrição**\n",
        "\n",
        "\n",
        "*   Modelo descrito no artigo \"Crowdsourcing for Chromosome Segmentation and Deep Classification\"\n",
        "\n"
      ]
    },
    {
      "metadata": {
        "id": "rNosdG-ioNYU",
        "colab_type": "code",
        "colab": {}
      },
      "cell_type": "code",
      "source": [
        "model = Sequential([\n",
        "    Conv2D(64, (3, 3), activation='relu', input_shape=(120, 120, 3)),\n",
        "    Conv2D(64, (3, 3), activation='relu'),\n",
        "    Dropout(0.2),\n",
        "    MaxPooling2D(pool_size=(2, 2)),\n",
        "   \n",
        "    Conv2D(32, (3, 3), activation='relu'),\n",
        "    Conv2D(32, (3, 3), activation='relu'),\n",
        "    Dropout(0.2),\n",
        "    MaxPooling2D(pool_size=(2, 2)),\n",
        "   \n",
        "    Conv2D(16, (3, 3), activation='relu'),\n",
        "    Conv2D(16, (3, 3), activation='relu'),\n",
        "    Dropout(0.2),\n",
        "    MaxPooling2D(pool_size=(2, 2)),\n",
        "   \n",
        "    Conv2D(8, (3, 3), activation='relu'),\n",
        "    Conv2D(8, (3, 3), activation='relu'),\n",
        "    Dropout(0.2),\n",
        "    MaxPooling2D(pool_size=(2, 2)),\n",
        "    \n",
        "    Flatten(),\n",
        "    Dense(1024, activation='sigmoid'),\n",
        "    Dense(512, activation='sigmoid'),\n",
        "   \n",
        "    Dense(2, activation='softmax')\n",
        "]\n",
        ")"
      ],
      "execution_count": 0,
      "outputs": []
    },
    {
      "metadata": {
        "id": "UBqwdK2Bxagj",
        "colab_type": "code",
        "colab": {}
      },
      "cell_type": "code",
      "source": [
        "model.compile(SGD(lr=0.01, momentum=0.0, decay=0.0, nesterov=False), \n",
        "              loss='categorical_crossentropy', metrics=['accuracy'])"
      ],
      "execution_count": 0,
      "outputs": []
    },
    {
      "metadata": {
        "id": "EvVszbs8mjBb",
        "colab_type": "code",
        "colab": {}
      },
      "cell_type": "code",
      "source": [
        "checkpointer = ModelCheckpoint(filepath='weights_architecture_1.hdf5', verbose=1, save_best_only=True)"
      ],
      "execution_count": 0,
      "outputs": []
    },
    {
      "metadata": {
        "id": "PeyX7Mzf5lDw",
        "colab_type": "code",
        "outputId": "c3ae25cc-9d1e-4e76-f8f8-a557ad1beb50",
        "colab": {
          "base_uri": "https://localhost:8080/",
          "height": 3690
        }
      },
      "cell_type": "code",
      "source": [
        "training = model.fit_generator(train_batches, steps_per_epoch=stepsPerEpoche, \n",
        "                   validation_data=validation_batches, validation_steps=validationSteps,\n",
        "                   epochs=50, verbose=2, callbacks=[checkpointer])"
      ],
      "execution_count": 12,
      "outputs": [
        {
          "output_type": "stream",
          "text": [
            "Epoch 1/50\n",
            " - 94s - loss: 0.6995 - acc: 0.4750 - val_loss: 0.6667 - val_acc: 0.6250\n",
            "\n",
            "Epoch 00001: val_loss improved from inf to 0.66674, saving model to weights_architecture_1.hdf5\n",
            "Epoch 2/50\n",
            " - 92s - loss: 0.7057 - acc: 0.4875 - val_loss: 0.6854 - val_acc: 0.5625\n",
            "\n",
            "Epoch 00002: val_loss did not improve from 0.66674\n",
            "Epoch 3/50\n",
            " - 92s - loss: 0.7142 - acc: 0.4625 - val_loss: 0.7230 - val_acc: 0.4531\n",
            "\n",
            "Epoch 00003: val_loss did not improve from 0.66674\n",
            "Epoch 4/50\n",
            " - 90s - loss: 0.7067 - acc: 0.4438 - val_loss: 0.7593 - val_acc: 0.3750\n",
            "\n",
            "Epoch 00004: val_loss did not improve from 0.66674\n",
            "Epoch 5/50\n",
            " - 97s - loss: 0.7019 - acc: 0.5250 - val_loss: 0.6821 - val_acc: 0.5781\n",
            "\n",
            "Epoch 00005: val_loss did not improve from 0.66674\n",
            "Epoch 6/50\n",
            " - 97s - loss: 0.7132 - acc: 0.4688 - val_loss: 0.6959 - val_acc: 0.4219\n",
            "\n",
            "Epoch 00006: val_loss did not improve from 0.66674\n",
            "Epoch 7/50\n",
            " - 90s - loss: 0.6957 - acc: 0.5687 - val_loss: 0.6835 - val_acc: 0.5781\n",
            "\n",
            "Epoch 00007: val_loss did not improve from 0.66674\n",
            "Epoch 8/50\n",
            " - 93s - loss: 0.7369 - acc: 0.4500 - val_loss: 0.7172 - val_acc: 0.4844\n",
            "\n",
            "Epoch 00008: val_loss did not improve from 0.66674\n",
            "Epoch 9/50\n",
            " - 90s - loss: 0.7045 - acc: 0.5062 - val_loss: 0.6944 - val_acc: 0.4844\n",
            "\n",
            "Epoch 00009: val_loss did not improve from 0.66674\n",
            "Epoch 10/50\n",
            " - 89s - loss: 0.7085 - acc: 0.4875 - val_loss: 0.6912 - val_acc: 0.5312\n",
            "\n",
            "Epoch 00010: val_loss did not improve from 0.66674\n",
            "Epoch 11/50\n",
            " - 89s - loss: 0.6990 - acc: 0.5312 - val_loss: 0.6934 - val_acc: 0.5000\n",
            "\n",
            "Epoch 00011: val_loss did not improve from 0.66674\n",
            "Epoch 12/50\n",
            " - 89s - loss: 0.7070 - acc: 0.5250 - val_loss: 0.6928 - val_acc: 0.5312\n",
            "\n",
            "Epoch 00012: val_loss did not improve from 0.66674\n",
            "Epoch 13/50\n",
            " - 90s - loss: 0.6955 - acc: 0.4688 - val_loss: 0.6918 - val_acc: 0.5312\n",
            "\n",
            "Epoch 00013: val_loss did not improve from 0.66674\n",
            "Epoch 14/50\n",
            " - 89s - loss: 0.7002 - acc: 0.5687 - val_loss: 0.7109 - val_acc: 0.5312\n",
            "\n",
            "Epoch 00014: val_loss did not improve from 0.66674\n",
            "Epoch 15/50\n",
            " - 96s - loss: 0.7524 - acc: 0.4000 - val_loss: 0.6908 - val_acc: 0.5781\n",
            "\n",
            "Epoch 00015: val_loss did not improve from 0.66674\n",
            "Epoch 16/50\n",
            " - 90s - loss: 0.6939 - acc: 0.5500 - val_loss: 0.6908 - val_acc: 0.5625\n",
            "\n",
            "Epoch 00016: val_loss did not improve from 0.66674\n",
            "Epoch 17/50\n",
            " - 89s - loss: 0.7207 - acc: 0.4500 - val_loss: 0.6963 - val_acc: 0.4773\n",
            "\n",
            "Epoch 00017: val_loss did not improve from 0.66674\n",
            "Epoch 18/50\n",
            " - 90s - loss: 0.7044 - acc: 0.5000 - val_loss: 0.6984 - val_acc: 0.4688\n",
            "\n",
            "Epoch 00018: val_loss did not improve from 0.66674\n",
            "Epoch 19/50\n",
            " - 89s - loss: 0.7207 - acc: 0.4250 - val_loss: 0.7325 - val_acc: 0.3906\n",
            "\n",
            "Epoch 00019: val_loss did not improve from 0.66674\n",
            "Epoch 20/50\n",
            " - 92s - loss: 0.6993 - acc: 0.4750 - val_loss: 0.7105 - val_acc: 0.4375\n",
            "\n",
            "Epoch 00020: val_loss did not improve from 0.66674\n",
            "Epoch 21/50\n",
            " - 92s - loss: 0.7110 - acc: 0.5062 - val_loss: 0.6931 - val_acc: 0.5156\n",
            "\n",
            "Epoch 00021: val_loss did not improve from 0.66674\n",
            "Epoch 22/50\n",
            " - 92s - loss: 0.6933 - acc: 0.5375 - val_loss: 0.7368 - val_acc: 0.4375\n",
            "\n",
            "Epoch 00022: val_loss did not improve from 0.66674\n",
            "Epoch 23/50\n",
            " - 90s - loss: 0.7101 - acc: 0.4625 - val_loss: 0.7044 - val_acc: 0.5156\n",
            "\n",
            "Epoch 00023: val_loss did not improve from 0.66674\n",
            "Epoch 24/50\n",
            " - 90s - loss: 0.7394 - acc: 0.4937 - val_loss: 0.6913 - val_acc: 0.5312\n",
            "\n",
            "Epoch 00024: val_loss did not improve from 0.66674\n",
            "Epoch 25/50\n",
            " - 90s - loss: 0.7100 - acc: 0.5375 - val_loss: 0.7018 - val_acc: 0.4219\n",
            "\n",
            "Epoch 00025: val_loss did not improve from 0.66674\n",
            "Epoch 26/50\n",
            " - 91s - loss: 0.6981 - acc: 0.4937 - val_loss: 0.6894 - val_acc: 0.5469\n",
            "\n",
            "Epoch 00026: val_loss did not improve from 0.66674\n",
            "Epoch 27/50\n",
            " - 67s - loss: 0.6963 - acc: 0.4905 - val_loss: 0.6882 - val_acc: 0.6562\n",
            "\n",
            "Epoch 00027: val_loss did not improve from 0.66674\n",
            "Epoch 28/50\n",
            " - 1s - loss: 0.7031 - acc: 0.5062 - val_loss: 0.7863 - val_acc: 0.3750\n",
            "\n",
            "Epoch 00028: val_loss did not improve from 0.66674\n",
            "Epoch 29/50\n",
            " - 1s - loss: 0.7258 - acc: 0.4500 - val_loss: 0.6932 - val_acc: 0.5000\n",
            "\n",
            "Epoch 00029: val_loss did not improve from 0.66674\n",
            "Epoch 30/50\n",
            " - 1s - loss: 0.6983 - acc: 0.4937 - val_loss: 0.6925 - val_acc: 0.5312\n",
            "\n",
            "Epoch 00030: val_loss did not improve from 0.66674\n",
            "Epoch 31/50\n",
            " - 1s - loss: 0.6990 - acc: 0.5125 - val_loss: 0.6923 - val_acc: 0.5312\n",
            "\n",
            "Epoch 00031: val_loss did not improve from 0.66674\n",
            "Epoch 32/50\n",
            " - 1s - loss: 0.7046 - acc: 0.4562 - val_loss: 0.6915 - val_acc: 0.5312\n",
            "\n",
            "Epoch 00032: val_loss did not improve from 0.66674\n",
            "Epoch 33/50\n",
            " - 1s - loss: 0.6924 - acc: 0.5438 - val_loss: 0.6883 - val_acc: 0.5625\n",
            "\n",
            "Epoch 00033: val_loss did not improve from 0.66674\n",
            "Epoch 34/50\n",
            " - 1s - loss: 0.6969 - acc: 0.4937 - val_loss: 0.6928 - val_acc: 0.5227\n",
            "\n",
            "Epoch 00034: val_loss did not improve from 0.66674\n",
            "Epoch 35/50\n",
            " - 1s - loss: 0.7394 - acc: 0.4312 - val_loss: 0.6930 - val_acc: 0.5156\n",
            "\n",
            "Epoch 00035: val_loss did not improve from 0.66674\n",
            "Epoch 36/50\n",
            " - 1s - loss: 0.6932 - acc: 0.5312 - val_loss: 0.6925 - val_acc: 0.5469\n",
            "\n",
            "Epoch 00036: val_loss did not improve from 0.66674\n",
            "Epoch 37/50\n",
            " - 1s - loss: 0.6957 - acc: 0.4813 - val_loss: 0.6859 - val_acc: 0.5625\n",
            "\n",
            "Epoch 00037: val_loss did not improve from 0.66674\n",
            "Epoch 38/50\n",
            " - 1s - loss: 0.6929 - acc: 0.5812 - val_loss: 0.7337 - val_acc: 0.4531\n",
            "\n",
            "Epoch 00038: val_loss did not improve from 0.66674\n",
            "Epoch 39/50\n",
            " - 1s - loss: 0.7240 - acc: 0.4500 - val_loss: 0.7005 - val_acc: 0.4531\n",
            "\n",
            "Epoch 00039: val_loss did not improve from 0.66674\n",
            "Epoch 40/50\n",
            " - 1s - loss: 0.7141 - acc: 0.4688 - val_loss: 0.6923 - val_acc: 0.5469\n",
            "\n",
            "Epoch 00040: val_loss did not improve from 0.66674\n",
            "Epoch 41/50\n",
            " - 1s - loss: 0.7106 - acc: 0.4438 - val_loss: 0.7034 - val_acc: 0.4062\n",
            "\n",
            "Epoch 00041: val_loss did not improve from 0.66674\n",
            "Epoch 42/50\n",
            " - 1s - loss: 0.7138 - acc: 0.4250 - val_loss: 0.7115 - val_acc: 0.3750\n",
            "\n",
            "Epoch 00042: val_loss did not improve from 0.66674\n",
            "Epoch 43/50\n",
            " - 1s - loss: 0.6821 - acc: 0.5938 - val_loss: 0.7023 - val_acc: 0.5000\n",
            "\n",
            "Epoch 00043: val_loss did not improve from 0.66674\n",
            "Epoch 44/50\n",
            " - 1s - loss: 0.7171 - acc: 0.4625 - val_loss: 0.7005 - val_acc: 0.5156\n",
            "\n",
            "Epoch 00044: val_loss did not improve from 0.66674\n",
            "Epoch 45/50\n",
            " - 1s - loss: 0.6985 - acc: 0.4875 - val_loss: 0.6717 - val_acc: 0.6250\n",
            "\n",
            "Epoch 00045: val_loss did not improve from 0.66674\n",
            "Epoch 46/50\n",
            " - 1s - loss: 0.7201 - acc: 0.5125 - val_loss: 0.6977 - val_acc: 0.4844\n",
            "\n",
            "Epoch 00046: val_loss did not improve from 0.66674\n",
            "Epoch 47/50\n",
            " - 1s - loss: 0.7235 - acc: 0.4875 - val_loss: 0.6976 - val_acc: 0.5469\n",
            "\n",
            "Epoch 00047: val_loss did not improve from 0.66674\n",
            "Epoch 48/50\n",
            " - 1s - loss: 0.6964 - acc: 0.5687 - val_loss: 0.6922 - val_acc: 0.5469\n",
            "\n",
            "Epoch 00048: val_loss did not improve from 0.66674\n",
            "Epoch 49/50\n",
            " - 1s - loss: 0.7084 - acc: 0.4750 - val_loss: 0.7069 - val_acc: 0.5000\n",
            "\n",
            "Epoch 00049: val_loss did not improve from 0.66674\n",
            "Epoch 50/50\n",
            " - 1s - loss: 0.7067 - acc: 0.4937 - val_loss: 0.7408 - val_acc: 0.4375\n",
            "\n",
            "Epoch 00050: val_loss did not improve from 0.66674\n"
          ],
          "name": "stdout"
        }
      ]
    },
    {
      "metadata": {
        "id": "VeLCe59ltne5",
        "colab_type": "code",
        "outputId": "fe59da66-bc1a-4943-9218-13acdf374e37",
        "colab": {
          "base_uri": "https://localhost:8080/",
          "height": 380
        }
      },
      "cell_type": "code",
      "source": [
        "# plotar loss e accuracy para os datasets 'train' e 'test'\n",
        "plt.style.use(\"ggplot\")\n",
        "plt.figure()\n",
        "plt.plot(training.history['acc'], label='Accuracy')\n",
        "plt.plot(training.history['loss'], label='Loss')\n",
        "plt.xlabel('Epochs')\n",
        "plt.ylabel('Accuracy')\n",
        "plt.title(\"Training Loss and Accuracy\")\n",
        "plt.ylabel(\"Loss/Accuracy\")\n",
        "plt.legend()\n",
        "plt.savefig('architecture_1.png', bbox_inches='tight')"
      ],
      "execution_count": 13,
      "outputs": [
        {
          "output_type": "display_data",
          "data": {
            "image/png": "[encoded data removed]",
            "text/plain": [
              "<matplotlib.figure.Figure at 0x7f2e838035c0>"
            ]
          },
          "metadata": {
            "tags": []
          }
        }
      ]
    },
    {
      "metadata": {
        "id": "c1LR04eV6AJ5",
        "colab_type": "code",
        "colab": {}
      },
      "cell_type": "code",
      "source": [
        "model.load_weights('weights_architecture_1.hdf5')"
      ],
      "execution_count": 0,
      "outputs": []
    },
    {
      "metadata": {
        "id": "gFQR2k7Ns8SN",
        "colab_type": "code",
        "outputId": "3f1e8cb1-c9d4-44ae-a549-20b9f237c3d7",
        "colab": {
          "base_uri": "https://localhost:8080/",
          "height": 35
        }
      },
      "cell_type": "code",
      "source": [
        "results['architecture_1'] = model.evaluate_generator(test_batches, steps=bSize, use_multiprocessing=True, verbose=1)"
      ],
      "execution_count": 15,
      "outputs": [
        {
          "output_type": "stream",
          "text": [
            "32/32 [==============================] - 573s 18s/step\n"
          ],
          "name": "stdout"
        }
      ]
    },
    {
      "metadata": {
        "id": "Juqn8SXr0VvZ",
        "colab_type": "code",
        "outputId": "2f6e184e-6488-4bad-ca27-d323d5779493",
        "colab": {
          "base_uri": "https://localhost:8080/",
          "height": 35
        }
      },
      "cell_type": "code",
      "source": [
        "print('Test Loss: {} | Test Accuracy: {:.2f}%'.format(results['architecture_1'][0], 100 * results['architecture_1'][1]))"
      ],
      "execution_count": 16,
      "outputs": [
        {
          "output_type": "stream",
          "text": [
            "Test Loss: 0.7039440330117941 | Test Accuracy: 50.20%\n"
          ],
          "name": "stdout"
        }
      ]
    },
    {
      "metadata": {
        "id": "71jZE6lXsmgW",
        "colab_type": "text"
      },
      "cell_type": "markdown",
      "source": [
        "\n",
        "\n",
        "---\n",
        "\n"
      ]
    },
    {
      "metadata": {
        "id": "T7nOK0TDr6Hc",
        "colab_type": "text"
      },
      "cell_type": "markdown",
      "source": [
        "### 2 tentativa Accuracy: 87.50%"
      ]
    },
    {
      "metadata": {
        "colab_type": "text",
        "id": "-DJtvxKNp9sb"
      },
      "cell_type": "markdown",
      "source": [
        "**Descrição**\n",
        "\n",
        "\n",
        "*   Modelo descrito no artigo \"Crowdsourcing for Chromosome Segmentation and Deep Classification\"\n",
        "*   Alteração nas duas ultimas camadas Dense\n",
        "\n",
        "\n",
        "\n"
      ]
    },
    {
      "metadata": {
        "colab_type": "code",
        "id": "2PSEo_Mzr8zK",
        "colab": {}
      },
      "cell_type": "code",
      "source": [
        "model = Sequential([\n",
        "    Conv2D(64, (3, 3), activation='relu', input_shape=(120, 120, 3)),\n",
        "    Conv2D(64, (3, 3), activation='relu'),\n",
        "    Dropout(0.2),\n",
        "    MaxPooling2D(pool_size=(2, 2)),\n",
        "   \n",
        "    Conv2D(32, (3, 3), activation='relu'),\n",
        "    Conv2D(32, (3, 3), activation='relu'),\n",
        "    Dropout(0.2),\n",
        "    MaxPooling2D(pool_size=(2, 2)),\n",
        "   \n",
        "    Conv2D(16, (3, 3), activation='relu'),\n",
        "    Conv2D(16, (3, 3), activation='relu'),\n",
        "    Dropout(0.2),\n",
        "    MaxPooling2D(pool_size=(2, 2)),\n",
        "   \n",
        "    Conv2D(8, (3, 3), activation='relu'),\n",
        "    Conv2D(8, (3, 3), activation='relu'),\n",
        "    Dropout(0.2),\n",
        "    MaxPooling2D(pool_size=(2, 2)),\n",
        "    \n",
        "    Flatten(),\n",
        "    Dense(512, activation='relu'),\n",
        "   \n",
        "    Dense(2, activation='softmax')\n",
        "]\n",
        ")"
      ],
      "execution_count": 0,
      "outputs": []
    },
    {
      "metadata": {
        "colab_type": "code",
        "id": "wTvCLywPr8zj",
        "colab": {}
      },
      "cell_type": "code",
      "source": [
        "model.compile(SGD(lr=0.01, momentum=0.0, decay=0.0, nesterov=False), \n",
        "              loss='categorical_crossentropy', metrics=['accuracy'])"
      ],
      "execution_count": 0,
      "outputs": []
    },
    {
      "metadata": {
        "id": "NzLTzTmS5qOI",
        "colab_type": "code",
        "colab": {}
      },
      "cell_type": "code",
      "source": [
        "checkpointer = ModelCheckpoint(filepath='weights_architecture_2.hdf5', verbose=1, save_best_only=True)"
      ],
      "execution_count": 0,
      "outputs": []
    },
    {
      "metadata": {
        "colab_type": "code",
        "outputId": "772fc08a-c8e9-4677-bfa6-76194ab23909",
        "id": "P5mNUnc52wDQ",
        "colab": {
          "base_uri": "https://localhost:8080/",
          "height": 3690
        }
      },
      "cell_type": "code",
      "source": [
        "training = model.fit_generator(train_batches, steps_per_epoch=stepsPerEpoche, \n",
        "                   validation_data=validation_batches, validation_steps=validationSteps,\n",
        "                   epochs=50, verbose=2, callbacks=[checkpointer])"
      ],
      "execution_count": 20,
      "outputs": [
        {
          "output_type": "stream",
          "text": [
            "Epoch 1/50\n",
            " - 2s - loss: 0.6937 - acc: 0.5000 - val_loss: 0.6933 - val_acc: 0.4688\n",
            "\n",
            "Epoch 00001: val_loss improved from inf to 0.69334, saving model to weights_architecture_2.hdf5\n",
            "Epoch 2/50\n",
            " - 1s - loss: 0.6936 - acc: 0.4999 - val_loss: 0.6932 - val_acc: 0.4844\n",
            "\n",
            "Epoch 00002: val_loss improved from 0.69334 to 0.69324, saving model to weights_architecture_2.hdf5\n",
            "Epoch 3/50\n",
            " - 1s - loss: 0.6936 - acc: 0.4562 - val_loss: 0.6933 - val_acc: 0.4844\n",
            "\n",
            "Epoch 00003: val_loss did not improve from 0.69324\n",
            "Epoch 4/50\n",
            " - 1s - loss: 0.6936 - acc: 0.5062 - val_loss: 0.6932 - val_acc: 0.5156\n",
            "\n",
            "Epoch 00004: val_loss improved from 0.69324 to 0.69317, saving model to weights_architecture_2.hdf5\n",
            "Epoch 5/50\n",
            " - 1s - loss: 0.6936 - acc: 0.5000 - val_loss: 0.6932 - val_acc: 0.4688\n",
            "\n",
            "Epoch 00005: val_loss did not improve from 0.69317\n",
            "Epoch 6/50\n",
            " - 1s - loss: 0.6933 - acc: 0.5187 - val_loss: 0.6931 - val_acc: 0.5000\n",
            "\n",
            "Epoch 00006: val_loss improved from 0.69317 to 0.69312, saving model to weights_architecture_2.hdf5\n",
            "Epoch 7/50\n",
            " - 1s - loss: 0.6923 - acc: 0.5625 - val_loss: 0.6914 - val_acc: 0.5938\n",
            "\n",
            "Epoch 00007: val_loss improved from 0.69312 to 0.69137, saving model to weights_architecture_2.hdf5\n",
            "Epoch 8/50\n",
            " - 1s - loss: 0.6928 - acc: 0.5312 - val_loss: 0.6935 - val_acc: 0.4844\n",
            "\n",
            "Epoch 00008: val_loss did not improve from 0.69137\n",
            "Epoch 9/50\n",
            " - 1s - loss: 0.6922 - acc: 0.5312 - val_loss: 0.6941 - val_acc: 0.4688\n",
            "\n",
            "Epoch 00009: val_loss did not improve from 0.69137\n",
            "Epoch 10/50\n",
            " - 1s - loss: 0.6940 - acc: 0.4875 - val_loss: 0.6931 - val_acc: 0.5000\n",
            "\n",
            "Epoch 00010: val_loss did not improve from 0.69137\n",
            "Epoch 11/50\n",
            " - 1s - loss: 0.6924 - acc: 0.5187 - val_loss: 0.6946 - val_acc: 0.4375\n",
            "\n",
            "Epoch 00011: val_loss did not improve from 0.69137\n",
            "Epoch 12/50\n",
            " - 1s - loss: 0.6918 - acc: 0.5312 - val_loss: 0.6894 - val_acc: 0.6094\n",
            "\n",
            "Epoch 00012: val_loss improved from 0.69137 to 0.68937, saving model to weights_architecture_2.hdf5\n",
            "Epoch 13/50\n",
            " - 1s - loss: 0.6936 - acc: 0.4562 - val_loss: 0.6924 - val_acc: 0.5000\n",
            "\n",
            "Epoch 00013: val_loss did not improve from 0.68937\n",
            "Epoch 14/50\n",
            " - 1s - loss: 0.6929 - acc: 0.4688 - val_loss: 0.6914 - val_acc: 0.5469\n",
            "\n",
            "Epoch 00014: val_loss did not improve from 0.68937\n",
            "Epoch 15/50\n",
            " - 1s - loss: 0.6925 - acc: 0.4688 - val_loss: 0.6921 - val_acc: 0.5938\n",
            "\n",
            "Epoch 00015: val_loss did not improve from 0.68937\n",
            "Epoch 16/50\n",
            " - 1s - loss: 0.6929 - acc: 0.5125 - val_loss: 0.6917 - val_acc: 0.7812\n",
            "\n",
            "Epoch 00016: val_loss did not improve from 0.68937\n",
            "Epoch 17/50\n",
            " - 1s - loss: 0.6914 - acc: 0.6813 - val_loss: 0.6910 - val_acc: 0.6719\n",
            "\n",
            "Epoch 00017: val_loss did not improve from 0.68937\n",
            "Epoch 18/50\n",
            " - 1s - loss: 0.6901 - acc: 0.7375 - val_loss: 0.6917 - val_acc: 0.8594\n",
            "\n",
            "Epoch 00018: val_loss did not improve from 0.68937\n",
            "Epoch 19/50\n",
            " - 1s - loss: 0.6906 - acc: 0.6250 - val_loss: 0.6920 - val_acc: 0.4844\n",
            "\n",
            "Epoch 00019: val_loss did not improve from 0.68937\n",
            "Epoch 20/50\n",
            " - 1s - loss: 0.6910 - acc: 0.5563 - val_loss: 0.6911 - val_acc: 0.8594\n",
            "\n",
            "Epoch 00020: val_loss did not improve from 0.68937\n",
            "Epoch 21/50\n",
            " - 1s - loss: 0.6915 - acc: 0.6250 - val_loss: 0.6901 - val_acc: 0.7188\n",
            "\n",
            "Epoch 00021: val_loss did not improve from 0.68937\n",
            "Epoch 22/50\n",
            " - 1s - loss: 0.6891 - acc: 0.6813 - val_loss: 0.6890 - val_acc: 0.8594\n",
            "\n",
            "Epoch 00022: val_loss improved from 0.68937 to 0.68898, saving model to weights_architecture_2.hdf5\n",
            "Epoch 23/50\n",
            " - 1s - loss: 0.6871 - acc: 0.6750 - val_loss: 0.6904 - val_acc: 0.4375\n",
            "\n",
            "Epoch 00023: val_loss did not improve from 0.68898\n",
            "Epoch 24/50\n",
            " - 1s - loss: 0.6864 - acc: 0.7750 - val_loss: 0.6884 - val_acc: 0.5312\n",
            "\n",
            "Epoch 00024: val_loss improved from 0.68898 to 0.68842, saving model to weights_architecture_2.hdf5\n",
            "Epoch 25/50\n",
            " - 1s - loss: 0.6874 - acc: 0.6875 - val_loss: 0.6899 - val_acc: 0.5312\n",
            "\n",
            "Epoch 00025: val_loss did not improve from 0.68842\n",
            "Epoch 26/50\n",
            " - 1s - loss: 0.6879 - acc: 0.6562 - val_loss: 0.6899 - val_acc: 0.5000\n",
            "\n",
            "Epoch 00026: val_loss did not improve from 0.68842\n",
            "Epoch 27/50\n",
            " - 1s - loss: 0.6865 - acc: 0.6375 - val_loss: 0.6901 - val_acc: 0.6875\n",
            "\n",
            "Epoch 00027: val_loss did not improve from 0.68842\n",
            "Epoch 28/50\n",
            " - 1s - loss: 0.6853 - acc: 0.6937 - val_loss: 0.6887 - val_acc: 0.5781\n",
            "\n",
            "Epoch 00028: val_loss did not improve from 0.68842\n",
            "Epoch 29/50\n",
            " - 1s - loss: 0.6863 - acc: 0.6776 - val_loss: 0.6911 - val_acc: 0.4688\n",
            "\n",
            "Epoch 00029: val_loss did not improve from 0.68842\n",
            "Epoch 30/50\n",
            " - 1s - loss: 0.6850 - acc: 0.7000 - val_loss: 0.6848 - val_acc: 0.7727\n",
            "\n",
            "Epoch 00030: val_loss improved from 0.68842 to 0.68476, saving model to weights_architecture_2.hdf5\n",
            "Epoch 31/50\n",
            " - 1s - loss: 0.6804 - acc: 0.7375 - val_loss: 0.6910 - val_acc: 0.5156\n",
            "\n",
            "Epoch 00031: val_loss did not improve from 0.68476\n",
            "Epoch 32/50\n",
            " - 1s - loss: 0.6849 - acc: 0.6813 - val_loss: 0.6892 - val_acc: 0.4688\n",
            "\n",
            "Epoch 00032: val_loss did not improve from 0.68476\n",
            "Epoch 33/50\n",
            " - 1s - loss: 0.6843 - acc: 0.6500 - val_loss: 0.6877 - val_acc: 0.5781\n",
            "\n",
            "Epoch 00033: val_loss did not improve from 0.68476\n",
            "Epoch 34/50\n",
            " - 1s - loss: 0.6798 - acc: 0.7438 - val_loss: 0.6804 - val_acc: 0.9062\n",
            "\n",
            "Epoch 00034: val_loss improved from 0.68476 to 0.68036, saving model to weights_architecture_2.hdf5\n",
            "Epoch 35/50\n",
            " - 1s - loss: 0.6786 - acc: 0.7438 - val_loss: 0.6845 - val_acc: 0.5938\n",
            "\n",
            "Epoch 00035: val_loss did not improve from 0.68036\n",
            "Epoch 36/50\n",
            " - 1s - loss: 0.6755 - acc: 0.7500 - val_loss: 0.6812 - val_acc: 0.8125\n",
            "\n",
            "Epoch 00036: val_loss did not improve from 0.68036\n",
            "Epoch 37/50\n",
            " - 1s - loss: 0.6793 - acc: 0.7125 - val_loss: 0.6814 - val_acc: 0.7188\n",
            "\n",
            "Epoch 00037: val_loss did not improve from 0.68036\n",
            "Epoch 38/50\n",
            " - 1s - loss: 0.6748 - acc: 0.7188 - val_loss: 0.6739 - val_acc: 0.9219\n",
            "\n",
            "Epoch 00038: val_loss improved from 0.68036 to 0.67393, saving model to weights_architecture_2.hdf5\n",
            "Epoch 39/50\n",
            " - 1s - loss: 0.6629 - acc: 0.8937 - val_loss: 0.6878 - val_acc: 0.4688\n",
            "\n",
            "Epoch 00039: val_loss did not improve from 0.67393\n",
            "Epoch 40/50\n",
            " - 1s - loss: 0.6687 - acc: 0.7250 - val_loss: 0.6731 - val_acc: 0.8594\n",
            "\n",
            "Epoch 00040: val_loss improved from 0.67393 to 0.67315, saving model to weights_architecture_2.hdf5\n",
            "Epoch 41/50\n",
            " - 1s - loss: 0.6699 - acc: 0.7438 - val_loss: 0.6745 - val_acc: 0.7969\n",
            "\n",
            "Epoch 00041: val_loss did not improve from 0.67315\n",
            "Epoch 42/50\n",
            " - 1s - loss: 0.6700 - acc: 0.6875 - val_loss: 0.6685 - val_acc: 0.8906\n",
            "\n",
            "Epoch 00042: val_loss improved from 0.67315 to 0.66848, saving model to weights_architecture_2.hdf5\n",
            "Epoch 43/50\n",
            " - 1s - loss: 0.6613 - acc: 0.7188 - val_loss: 0.6844 - val_acc: 0.5781\n",
            "\n",
            "Epoch 00043: val_loss did not improve from 0.66848\n",
            "Epoch 44/50\n",
            " - 1s - loss: 0.6423 - acc: 0.8563 - val_loss: 0.6608 - val_acc: 0.8125\n",
            "\n",
            "Epoch 00044: val_loss improved from 0.66848 to 0.66079, saving model to weights_architecture_2.hdf5\n",
            "Epoch 45/50\n",
            " - 1s - loss: 0.6406 - acc: 0.8500 - val_loss: 0.6478 - val_acc: 0.8906\n",
            "\n",
            "Epoch 00045: val_loss improved from 0.66079 to 0.64784, saving model to weights_architecture_2.hdf5\n",
            "Epoch 46/50\n",
            " - 1s - loss: 0.6435 - acc: 0.7500 - val_loss: 0.6582 - val_acc: 0.9062\n",
            "\n",
            "Epoch 00046: val_loss did not improve from 0.64784\n",
            "Epoch 47/50\n",
            " - 1s - loss: 0.6511 - acc: 0.7125 - val_loss: 0.6745 - val_acc: 0.4545\n",
            "\n",
            "Epoch 00047: val_loss did not improve from 0.64784\n",
            "Epoch 48/50\n",
            " - 1s - loss: 0.6647 - acc: 0.6063 - val_loss: 0.6615 - val_acc: 0.7969\n",
            "\n",
            "Epoch 00048: val_loss did not improve from 0.64784\n",
            "Epoch 49/50\n",
            " - 1s - loss: 0.6476 - acc: 0.6813 - val_loss: 0.6758 - val_acc: 0.5156\n",
            "\n",
            "Epoch 00049: val_loss did not improve from 0.64784\n",
            "Epoch 50/50\n",
            " - 1s - loss: 0.6094 - acc: 0.7438 - val_loss: 0.6325 - val_acc: 0.9062\n",
            "\n",
            "Epoch 00050: val_loss improved from 0.64784 to 0.63250, saving model to weights_architecture_2.hdf5\n"
          ],
          "name": "stdout"
        }
      ]
    },
    {
      "metadata": {
        "colab_type": "code",
        "outputId": "29795ab8-69b6-41b3-b853-442da9d64eba",
        "id": "0ObNfroJ2wDb",
        "colab": {
          "base_uri": "https://localhost:8080/",
          "height": 380
        }
      },
      "cell_type": "code",
      "source": [
        "# plotar loss e accuracy para os datasets 'train' e 'test'\n",
        "plt.style.use(\"ggplot\")\n",
        "plt.figure()\n",
        "plt.plot(training.history['acc'], label='Accuracy')\n",
        "plt.plot(training.history['loss'], label='Loss')\n",
        "plt.xlabel('Epochs')\n",
        "plt.ylabel('Accuracy')\n",
        "plt.title(\"Training Loss and Accuracy\")\n",
        "plt.ylabel(\"Loss/Accuracy\")\n",
        "plt.legend()\n",
        "plt.savefig('architecture_2.png', bbox_inches='tight')"
      ],
      "execution_count": 21,
      "outputs": [
        {
          "output_type": "display_data",
          "data": {
            "image/png": "[encoded data removed]",
            "text/plain": [
              "<matplotlib.figure.Figure at 0x7f2e78d20668>"
            ]
          },
          "metadata": {
            "tags": []
          }
        }
      ]
    },
    {
      "metadata": {
        "id": "6ygDnB2C5lfp",
        "colab_type": "code",
        "colab": {}
      },
      "cell_type": "code",
      "source": [
        "model.load_weights('weights_architecture_2.hdf5')"
      ],
      "execution_count": 0,
      "outputs": []
    },
    {
      "metadata": {
        "colab_type": "code",
        "outputId": "0f8d8a34-0d3a-4be1-8349-24766d820099",
        "id": "tbMLmk6a2wDk",
        "colab": {
          "base_uri": "https://localhost:8080/",
          "height": 35
        }
      },
      "cell_type": "code",
      "source": [
        "results['architecture_2'] = model.evaluate_generator(test_batches, steps=bSize, use_multiprocessing=True, verbose=1)"
      ],
      "execution_count": 23,
      "outputs": [
        {
          "output_type": "stream",
          "text": [
            "32/32 [==============================] - 64s 2s/step\n"
          ],
          "name": "stdout"
        }
      ]
    },
    {
      "metadata": {
        "colab_type": "code",
        "outputId": "c7dca9b5-ef3f-46f1-bfaa-deafd22db5a0",
        "id": "uz6TAaay2wDp",
        "colab": {
          "base_uri": "https://localhost:8080/",
          "height": 35
        }
      },
      "cell_type": "code",
      "source": [
        "print('Test Loss: {} | Test Accuracy: {:.2f}%'.format(results['architecture_2'][0], 100 * results['architecture_2'][1]))"
      ],
      "execution_count": 24,
      "outputs": [
        {
          "output_type": "stream",
          "text": [
            "Test Loss: 0.6306499112397432 | Test Accuracy: 87.50%\n"
          ],
          "name": "stdout"
        }
      ]
    },
    {
      "metadata": {
        "id": "r7RpE8wBe4JQ",
        "colab_type": "text"
      },
      "cell_type": "markdown",
      "source": [
        "### 3 tentativa Accuracy: 92.87%"
      ]
    },
    {
      "metadata": {
        "id": "vdP4Yo8OgB4B",
        "colab_type": "text"
      },
      "cell_type": "markdown",
      "source": [
        "Modelo criado pelo **Lucas Valentim**\n",
        "\n",
        "https://github.com/lucasvalentim/chromosome-recognizer/blob/master/chromosome_recognizer.ipynb"
      ]
    },
    {
      "metadata": {
        "id": "3nTNgnrCe33x",
        "colab_type": "code",
        "colab": {}
      },
      "cell_type": "code",
      "source": [
        "from keras.layers import Conv2D, MaxPooling2D, GlobalMaxPooling2D, BatchNormalization\n",
        "from keras.regularizers import l2\n",
        "\n",
        "model = Sequential()\n",
        "\n",
        "model.add(Conv2D(32, (3, 3), activation='relu', kernel_regularizer=l2(1e-4), \n",
        "                 input_shape=(None, None, 3)))\n",
        "model.add(BatchNormalization())\n",
        "model.add(Conv2D(32, (3, 3), activation='relu', kernel_regularizer=l2(1e-4)))\n",
        "model.add(BatchNormalization())\n",
        "model.add(MaxPooling2D((2, 2)))\n",
        "model.add(Dropout(0.25))\n",
        "\n",
        "model.add(Conv2D(64, (3, 3), activation='relu', kernel_regularizer=l2(1e-4)))\n",
        "model.add(BatchNormalization())\n",
        "model.add(Conv2D(64, (3, 3), activation='relu', kernel_regularizer=l2(1e-4)))\n",
        "model.add(BatchNormalization())\n",
        "model.add(MaxPooling2D((2, 2)))\n",
        "model.add(Dropout(0.25))\n",
        "\n",
        "model.add(Conv2D(128, (1,1), kernel_regularizer=l2(1e-4)))\n",
        "model.add(GlobalMaxPooling2D())\n",
        "\n",
        "model.add(Dense(256, activation='relu', kernel_regularizer=l2(1e-4)))\n",
        "model.add(Dropout(0.5))\n",
        "model.add(Dense(2, activation='sigmoid', kernel_regularizer=l2(1e-4)))"
      ],
      "execution_count": 0,
      "outputs": []
    },
    {
      "metadata": {
        "id": "g1okz4QbiBnE",
        "colab_type": "code",
        "colab": {}
      },
      "cell_type": "code",
      "source": [
        "model.compile(optimizer='adam', loss='binary_crossentropy', metrics=['accuracy'])"
      ],
      "execution_count": 0,
      "outputs": []
    },
    {
      "metadata": {
        "colab_type": "code",
        "id": "ceurpIyA3JmM",
        "colab": {}
      },
      "cell_type": "code",
      "source": [
        "checkpointer = ModelCheckpoint(filepath='weights_architecture_3.hdf5', verbose=1, save_best_only=True)"
      ],
      "execution_count": 0,
      "outputs": []
    },
    {
      "metadata": {
        "colab_type": "code",
        "outputId": "5174fa6e-5940-42e6-fb2a-70d0fe18c072",
        "id": "57QCc4Rz3JmS",
        "colab": {
          "base_uri": "https://localhost:8080/",
          "height": 3690
        }
      },
      "cell_type": "code",
      "source": [
        "training = model.fit_generator(train_batches, steps_per_epoch=stepsPerEpoche, \n",
        "                   validation_data=validation_batches, validation_steps=validationSteps,\n",
        "                   epochs=50, verbose=2, callbacks=[checkpointer])"
      ],
      "execution_count": 28,
      "outputs": [
        {
          "output_type": "stream",
          "text": [
            "Epoch 1/50\n",
            " - 4s - loss: 1.1374 - acc: 0.5938 - val_loss: 0.4250 - val_acc: 0.8750\n",
            "\n",
            "Epoch 00001: val_loss improved from inf to 0.42496, saving model to weights_architecture_3.hdf5\n",
            "Epoch 2/50\n",
            " - 1s - loss: 0.8151 - acc: 0.7250 - val_loss: 0.6050 - val_acc: 0.7969\n",
            "\n",
            "Epoch 00002: val_loss did not improve from 0.42496\n",
            "Epoch 3/50\n",
            " - 1s - loss: 0.6233 - acc: 0.8031 - val_loss: 1.3997 - val_acc: 0.6250\n",
            "\n",
            "Epoch 00003: val_loss did not improve from 0.42496\n",
            "Epoch 4/50\n",
            " - 1s - loss: 0.4981 - acc: 0.8406 - val_loss: 0.5188 - val_acc: 0.8281\n",
            "\n",
            "Epoch 00004: val_loss did not improve from 0.42496\n",
            "Epoch 5/50\n",
            " - 1s - loss: 0.5567 - acc: 0.8228 - val_loss: 0.4902 - val_acc: 0.8828\n",
            "\n",
            "Epoch 00005: val_loss did not improve from 0.42496\n",
            "Epoch 6/50\n",
            " - 1s - loss: 0.4846 - acc: 0.8281 - val_loss: 0.2996 - val_acc: 0.9219\n",
            "\n",
            "Epoch 00006: val_loss improved from 0.42496 to 0.29957, saving model to weights_architecture_3.hdf5\n",
            "Epoch 7/50\n",
            " - 1s - loss: 0.3127 - acc: 0.8906 - val_loss: 0.7233 - val_acc: 0.6953\n",
            "\n",
            "Epoch 00007: val_loss did not improve from 0.29957\n",
            "Epoch 8/50\n",
            " - 1s - loss: 0.2899 - acc: 0.8906 - val_loss: 0.8181 - val_acc: 0.7266\n",
            "\n",
            "Epoch 00008: val_loss did not improve from 0.29957\n",
            "Epoch 9/50\n",
            " - 1s - loss: 0.3491 - acc: 0.8688 - val_loss: 0.2881 - val_acc: 0.9091\n",
            "\n",
            "Epoch 00009: val_loss improved from 0.29957 to 0.28805, saving model to weights_architecture_3.hdf5\n",
            "Epoch 10/50\n",
            " - 1s - loss: 0.3107 - acc: 0.8812 - val_loss: 0.7138 - val_acc: 0.6641\n",
            "\n",
            "Epoch 00010: val_loss did not improve from 0.28805\n",
            "Epoch 11/50\n",
            " - 1s - loss: 0.4496 - acc: 0.8469 - val_loss: 0.3152 - val_acc: 0.9141\n",
            "\n",
            "Epoch 00011: val_loss did not improve from 0.28805\n",
            "Epoch 12/50\n",
            " - 1s - loss: 0.3632 - acc: 0.8469 - val_loss: 0.4350 - val_acc: 0.8516\n",
            "\n",
            "Epoch 00012: val_loss did not improve from 0.28805\n",
            "Epoch 13/50\n",
            " - 1s - loss: 0.4434 - acc: 0.8812 - val_loss: 0.3963 - val_acc: 0.8125\n",
            "\n",
            "Epoch 00013: val_loss did not improve from 0.28805\n",
            "Epoch 14/50\n",
            " - 1s - loss: 0.3567 - acc: 0.9000 - val_loss: 0.4128 - val_acc: 0.8438\n",
            "\n",
            "Epoch 00014: val_loss did not improve from 0.28805\n",
            "Epoch 15/50\n",
            " - 1s - loss: 0.4658 - acc: 0.8281 - val_loss: 0.4629 - val_acc: 0.7578\n",
            "\n",
            "Epoch 00015: val_loss did not improve from 0.28805\n",
            "Epoch 16/50\n",
            " - 1s - loss: 0.2081 - acc: 0.9281 - val_loss: 0.6023 - val_acc: 0.6641\n",
            "\n",
            "Epoch 00016: val_loss did not improve from 0.28805\n",
            "Epoch 17/50\n",
            " - 1s - loss: 0.3153 - acc: 0.8688 - val_loss: 0.5836 - val_acc: 0.6641\n",
            "\n",
            "Epoch 00017: val_loss did not improve from 0.28805\n",
            "Epoch 18/50\n",
            " - 1s - loss: 0.3365 - acc: 0.8969 - val_loss: 0.4375 - val_acc: 0.8203\n",
            "\n",
            "Epoch 00018: val_loss did not improve from 0.28805\n",
            "Epoch 19/50\n",
            " - 1s - loss: 0.2408 - acc: 0.9062 - val_loss: 0.4963 - val_acc: 0.7734\n",
            "\n",
            "Epoch 00019: val_loss did not improve from 0.28805\n",
            "Epoch 20/50\n",
            " - 1s - loss: 0.2733 - acc: 0.8937 - val_loss: 0.7916 - val_acc: 0.6562\n",
            "\n",
            "Epoch 00020: val_loss did not improve from 0.28805\n",
            "Epoch 21/50\n",
            " - 1s - loss: 0.2999 - acc: 0.9094 - val_loss: 0.7237 - val_acc: 0.6016\n",
            "\n",
            "Epoch 00021: val_loss did not improve from 0.28805\n",
            "Epoch 22/50\n",
            " - 1s - loss: 0.2313 - acc: 0.9219 - val_loss: 0.6291 - val_acc: 0.5859\n",
            "\n",
            "Epoch 00022: val_loss did not improve from 0.28805\n",
            "Epoch 23/50\n",
            " - 1s - loss: 0.2200 - acc: 0.9188 - val_loss: 0.3480 - val_acc: 0.9297\n",
            "\n",
            "Epoch 00023: val_loss did not improve from 0.28805\n",
            "Epoch 24/50\n",
            " - 1s - loss: 0.2304 - acc: 0.9344 - val_loss: 0.3613 - val_acc: 0.8516\n",
            "\n",
            "Epoch 00024: val_loss did not improve from 0.28805\n",
            "Epoch 25/50\n",
            " - 1s - loss: 0.2575 - acc: 0.9125 - val_loss: 0.5488 - val_acc: 0.7969\n",
            "\n",
            "Epoch 00025: val_loss did not improve from 0.28805\n",
            "Epoch 26/50\n",
            " - 1s - loss: 0.3244 - acc: 0.8781 - val_loss: 0.2711 - val_acc: 0.9318\n",
            "\n",
            "Epoch 00026: val_loss improved from 0.28805 to 0.27112, saving model to weights_architecture_3.hdf5\n",
            "Epoch 27/50\n",
            " - 1s - loss: 0.2789 - acc: 0.9094 - val_loss: 0.4776 - val_acc: 0.7891\n",
            "\n",
            "Epoch 00027: val_loss did not improve from 0.27112\n",
            "Epoch 28/50\n",
            " - 1s - loss: 0.4380 - acc: 0.8500 - val_loss: 0.3919 - val_acc: 0.8672\n",
            "\n",
            "Epoch 00028: val_loss did not improve from 0.27112\n",
            "Epoch 29/50\n",
            " - 1s - loss: 0.1972 - acc: 0.9469 - val_loss: 0.2809 - val_acc: 0.8906\n",
            "\n",
            "Epoch 00029: val_loss did not improve from 0.27112\n",
            "Epoch 30/50\n",
            " - 1s - loss: 0.2871 - acc: 0.9188 - val_loss: 0.2731 - val_acc: 0.9062\n",
            "\n",
            "Epoch 00030: val_loss did not improve from 0.27112\n",
            "Epoch 31/50\n",
            " - 1s - loss: 0.2622 - acc: 0.9219 - val_loss: 0.2917 - val_acc: 0.9062\n",
            "\n",
            "Epoch 00031: val_loss did not improve from 0.27112\n",
            "Epoch 32/50\n",
            " - 1s - loss: 0.2893 - acc: 0.9019 - val_loss: 0.3276 - val_acc: 0.8594\n",
            "\n",
            "Epoch 00032: val_loss did not improve from 0.27112\n",
            "Epoch 33/50\n",
            " - 1s - loss: 0.1885 - acc: 0.9688 - val_loss: 0.3027 - val_acc: 0.8828\n",
            "\n",
            "Epoch 00033: val_loss did not improve from 0.27112\n",
            "Epoch 34/50\n",
            " - 1s - loss: 0.1841 - acc: 0.9531 - val_loss: 0.2952 - val_acc: 0.8672\n",
            "\n",
            "Epoch 00034: val_loss did not improve from 0.27112\n",
            "Epoch 35/50\n",
            " - 1s - loss: 0.2544 - acc: 0.9188 - val_loss: 0.3272 - val_acc: 0.9062\n",
            "\n",
            "Epoch 00035: val_loss did not improve from 0.27112\n",
            "Epoch 36/50\n",
            " - 1s - loss: 0.2536 - acc: 0.9437 - val_loss: 0.2002 - val_acc: 0.9453\n",
            "\n",
            "Epoch 00036: val_loss improved from 0.27112 to 0.20017, saving model to weights_architecture_3.hdf5\n",
            "Epoch 37/50\n",
            " - 1s - loss: 0.2410 - acc: 0.9344 - val_loss: 0.3399 - val_acc: 0.8672\n",
            "\n",
            "Epoch 00037: val_loss did not improve from 0.20017\n",
            "Epoch 38/50\n",
            " - 1s - loss: 0.2928 - acc: 0.9250 - val_loss: 0.2162 - val_acc: 0.9844\n",
            "\n",
            "Epoch 00038: val_loss did not improve from 0.20017\n",
            "Epoch 39/50\n",
            " - 1s - loss: 0.3578 - acc: 0.8844 - val_loss: 0.3692 - val_acc: 0.8125\n",
            "\n",
            "Epoch 00039: val_loss did not improve from 0.20017\n",
            "Epoch 40/50\n",
            " - 1s - loss: 0.3638 - acc: 0.8875 - val_loss: 0.3310 - val_acc: 0.8984\n",
            "\n",
            "Epoch 00040: val_loss did not improve from 0.20017\n",
            "Epoch 41/50\n",
            " - 1s - loss: 0.2387 - acc: 0.9062 - val_loss: 0.4462 - val_acc: 0.8047\n",
            "\n",
            "Epoch 00041: val_loss did not improve from 0.20017\n",
            "Epoch 42/50\n",
            " - 1s - loss: 0.2324 - acc: 0.9281 - val_loss: 0.4292 - val_acc: 0.8125\n",
            "\n",
            "Epoch 00042: val_loss did not improve from 0.20017\n",
            "Epoch 43/50\n",
            " - 1s - loss: 0.3619 - acc: 0.9156 - val_loss: 0.3135 - val_acc: 0.8864\n",
            "\n",
            "Epoch 00043: val_loss did not improve from 0.20017\n",
            "Epoch 44/50\n",
            " - 1s - loss: 0.2879 - acc: 0.8937 - val_loss: 0.2950 - val_acc: 0.9297\n",
            "\n",
            "Epoch 00044: val_loss did not improve from 0.20017\n",
            "Epoch 45/50\n",
            " - 1s - loss: 0.2273 - acc: 0.9125 - val_loss: 0.3615 - val_acc: 0.8828\n",
            "\n",
            "Epoch 00045: val_loss did not improve from 0.20017\n",
            "Epoch 46/50\n",
            " - 1s - loss: 0.2411 - acc: 0.9281 - val_loss: 0.2932 - val_acc: 0.9453\n",
            "\n",
            "Epoch 00046: val_loss did not improve from 0.20017\n",
            "Epoch 47/50\n",
            " - 1s - loss: 0.2561 - acc: 0.9125 - val_loss: 0.3938 - val_acc: 0.8125\n",
            "\n",
            "Epoch 00047: val_loss did not improve from 0.20017\n",
            "Epoch 48/50\n",
            " - 1s - loss: 0.2231 - acc: 0.9344 - val_loss: 0.3503 - val_acc: 0.8438\n",
            "\n",
            "Epoch 00048: val_loss did not improve from 0.20017\n",
            "Epoch 49/50\n",
            " - 1s - loss: 0.2262 - acc: 0.9250 - val_loss: 0.3110 - val_acc: 0.9062\n",
            "\n",
            "Epoch 00049: val_loss did not improve from 0.20017\n",
            "Epoch 50/50\n",
            " - 1s - loss: 0.2662 - acc: 0.9094 - val_loss: 0.3536 - val_acc: 0.8125\n",
            "\n",
            "Epoch 00050: val_loss did not improve from 0.20017\n"
          ],
          "name": "stdout"
        }
      ]
    },
    {
      "metadata": {
        "colab_type": "code",
        "outputId": "ac5ed88d-57c6-4c68-e184-5f0ef1b74698",
        "id": "RXVTmOSb3Jmc",
        "colab": {
          "base_uri": "https://localhost:8080/",
          "height": 380
        }
      },
      "cell_type": "code",
      "source": [
        "# plotar loss e accuracy para os datasets 'train' e 'test'\n",
        "plt.style.use(\"ggplot\")\n",
        "plt.figure()\n",
        "plt.plot(training.history['acc'], label='Accuracy')\n",
        "plt.plot(training.history['loss'], label='Loss')\n",
        "plt.xlabel('Epochs')\n",
        "plt.ylabel('Accuracy')\n",
        "plt.title(\"Training Loss and Accuracy\")\n",
        "plt.ylabel(\"Loss/Accuracy\")\n",
        "plt.legend()\n",
        "plt.savefig('architecture_3.png', bbox_inches='tight')"
      ],
      "execution_count": 29,
      "outputs": [
        {
          "output_type": "display_data",
          "data": {
            "image/png": "[encoded data removed]",
            "text/plain": [
              "<matplotlib.figure.Figure at 0x7f2e72ba4710>"
            ]
          },
          "metadata": {
            "tags": []
          }
        }
      ]
    },
    {
      "metadata": {
        "id": "beMjDQ5a42rk",
        "colab_type": "code",
        "colab": {}
      },
      "cell_type": "code",
      "source": [
        "model.load_weights('weights_architecture_3.hdf5')"
      ],
      "execution_count": 0,
      "outputs": []
    },
    {
      "metadata": {
        "colab_type": "code",
        "outputId": "b123a014-69d7-4165-8c44-06b0b4451515",
        "id": "NO1wFDaN3Jmn",
        "colab": {
          "base_uri": "https://localhost:8080/",
          "height": 35
        }
      },
      "cell_type": "code",
      "source": [
        "results['architecture_3'] = model.evaluate_generator(test_batches, steps=bSize, use_multiprocessing=True, verbose=1)"
      ],
      "execution_count": 31,
      "outputs": [
        {
          "output_type": "stream",
          "text": [
            "32/32 [==============================] - 3s 109ms/step\n"
          ],
          "name": "stdout"
        }
      ]
    },
    {
      "metadata": {
        "colab_type": "code",
        "outputId": "c9fcaf06-3bbe-4dc4-cf04-8e28446d4bb1",
        "id": "-h1AqUQL3Jmz",
        "colab": {
          "base_uri": "https://localhost:8080/",
          "height": 35
        }
      },
      "cell_type": "code",
      "source": [
        "print('Test Loss: {} | Test Accuracy: {:.2f}%'.format(results['architecture_3'][0], 100 * results['architecture_3'][1]))"
      ],
      "execution_count": 32,
      "outputs": [
        {
          "output_type": "stream",
          "text": [
            "Test Loss: 0.25643043126910925 | Test Accuracy: 92.87%\n"
          ],
          "name": "stdout"
        }
      ]
    },
    {
      "metadata": {
        "id": "jkrlEFjlw030",
        "colab_type": "text"
      },
      "cell_type": "markdown",
      "source": [
        "### 4 tentativa Accuracy: 94.53%"
      ]
    },
    {
      "metadata": {
        "id": "UJ7JELAiw2kb",
        "colab_type": "text"
      },
      "cell_type": "markdown",
      "source": [
        "Modelo adaptado do **Lucas Albertins**\n",
        "\n",
        "*   Sem os **dropout**\n"
      ]
    },
    {
      "metadata": {
        "colab_type": "code",
        "id": "4N0B_5a2xB3T",
        "colab": {}
      },
      "cell_type": "code",
      "source": [
        "from keras.layers import Conv2D, MaxPooling2D, GlobalMaxPooling2D, BatchNormalization\n",
        "from keras.regularizers import l2\n",
        "\n",
        "model = Sequential()\n",
        "\n",
        "model.add(Conv2D(32, (3, 3), activation='relu', kernel_regularizer=l2(1e-4), \n",
        "                 input_shape=(None, None, 3)))\n",
        "model.add(BatchNormalization())\n",
        "model.add(Conv2D(32, (3, 3), activation='relu', kernel_regularizer=l2(1e-4)))\n",
        "model.add(BatchNormalization())\n",
        "model.add(MaxPooling2D((2, 2)))\n",
        "\n",
        "model.add(Conv2D(64, (3, 3), activation='relu', kernel_regularizer=l2(1e-4)))\n",
        "model.add(BatchNormalization())\n",
        "model.add(Conv2D(64, (3, 3), activation='relu', kernel_regularizer=l2(1e-4)))\n",
        "model.add(BatchNormalization())\n",
        "model.add(MaxPooling2D((2, 2)))\n",
        "\n",
        "model.add(Conv2D(128, (1,1), kernel_regularizer=l2(1e-4)))\n",
        "model.add(GlobalMaxPooling2D())\n",
        "\n",
        "model.add(Dense(256, activation='relu', kernel_regularizer=l2(1e-4)))\n",
        "model.add(BatchNormalization())\n",
        "model.add(Dense(2, activation='sigmoid', kernel_regularizer=l2(1e-4)))"
      ],
      "execution_count": 0,
      "outputs": []
    },
    {
      "metadata": {
        "colab_type": "code",
        "id": "V9VHjygmxB3k",
        "colab": {}
      },
      "cell_type": "code",
      "source": [
        "model.compile(optimizer='adam', loss='binary_crossentropy', metrics=['accuracy'])"
      ],
      "execution_count": 0,
      "outputs": []
    },
    {
      "metadata": {
        "colab_type": "code",
        "id": "B4b-aFhp4RmP",
        "colab": {}
      },
      "cell_type": "code",
      "source": [
        "checkpointer = ModelCheckpoint(filepath='weights_architecture_4.hdf5', verbose=1, save_best_only=True)"
      ],
      "execution_count": 0,
      "outputs": []
    },
    {
      "metadata": {
        "colab_type": "code",
        "outputId": "37f7e5c6-6e67-4693-93d1-caa299074fd2",
        "id": "gE1pEJNR4RmV",
        "colab": {
          "base_uri": "https://localhost:8080/",
          "height": 3690
        }
      },
      "cell_type": "code",
      "source": [
        "training = model.fit_generator(train_batches, steps_per_epoch=stepsPerEpoche, \n",
        "                   validation_data=validation_batches, validation_steps=validationSteps,\n",
        "                   epochs=50, verbose=2, callbacks=[checkpointer])"
      ],
      "execution_count": 36,
      "outputs": [
        {
          "output_type": "stream",
          "text": [
            "Epoch 1/50\n",
            " - 3s - loss: 0.6828 - acc: 0.7094 - val_loss: 0.8983 - val_acc: 0.7031\n",
            "\n",
            "Epoch 00001: val_loss improved from inf to 0.89833, saving model to weights_architecture_4.hdf5\n",
            "Epoch 2/50\n",
            " - 1s - loss: 0.4376 - acc: 0.8500 - val_loss: 1.1364 - val_acc: 0.6484\n",
            "\n",
            "Epoch 00002: val_loss did not improve from 0.89833\n",
            "Epoch 3/50\n",
            " - 0s - loss: 0.3703 - acc: 0.8781 - val_loss: 0.6751 - val_acc: 0.7578\n",
            "\n",
            "Epoch 00003: val_loss improved from 0.89833 to 0.67512, saving model to weights_architecture_4.hdf5\n",
            "Epoch 4/50\n",
            " - 1s - loss: 0.3188 - acc: 0.8750 - val_loss: 0.6540 - val_acc: 0.7891\n",
            "\n",
            "Epoch 00004: val_loss improved from 0.67512 to 0.65398, saving model to weights_architecture_4.hdf5\n",
            "Epoch 5/50\n",
            " - 0s - loss: 0.3378 - acc: 0.8844 - val_loss: 0.3511 - val_acc: 0.8409\n",
            "\n",
            "Epoch 00005: val_loss improved from 0.65398 to 0.35109, saving model to weights_architecture_4.hdf5\n",
            "Epoch 6/50\n",
            " - 1s - loss: 0.2575 - acc: 0.9125 - val_loss: 0.4643 - val_acc: 0.8672\n",
            "\n",
            "Epoch 00006: val_loss did not improve from 0.35109\n",
            "Epoch 7/50\n",
            " - 1s - loss: 0.2929 - acc: 0.8906 - val_loss: 0.4608 - val_acc: 0.8828\n",
            "\n",
            "Epoch 00007: val_loss did not improve from 0.35109\n",
            "Epoch 8/50\n",
            " - 1s - loss: 0.2498 - acc: 0.9094 - val_loss: 0.2733 - val_acc: 0.8906\n",
            "\n",
            "Epoch 00008: val_loss improved from 0.35109 to 0.27335, saving model to weights_architecture_4.hdf5\n",
            "Epoch 9/50\n",
            " - 1s - loss: 0.2506 - acc: 0.9209 - val_loss: 0.1979 - val_acc: 0.9297\n",
            "\n",
            "Epoch 00009: val_loss improved from 0.27335 to 0.19788, saving model to weights_architecture_4.hdf5\n",
            "Epoch 10/50\n",
            " - 1s - loss: 0.2388 - acc: 0.9281 - val_loss: 0.3406 - val_acc: 0.8828\n",
            "\n",
            "Epoch 00010: val_loss did not improve from 0.19788\n",
            "Epoch 11/50\n",
            " - 1s - loss: 0.1988 - acc: 0.9500 - val_loss: 0.2310 - val_acc: 0.9453\n",
            "\n",
            "Epoch 00011: val_loss did not improve from 0.19788\n",
            "Epoch 12/50\n",
            " - 1s - loss: 0.3301 - acc: 0.8688 - val_loss: 0.5192 - val_acc: 0.8672\n",
            "\n",
            "Epoch 00012: val_loss did not improve from 0.19788\n",
            "Epoch 13/50\n",
            " - 1s - loss: 0.2971 - acc: 0.9188 - val_loss: 0.3293 - val_acc: 0.9141\n",
            "\n",
            "Epoch 00013: val_loss did not improve from 0.19788\n",
            "Epoch 14/50\n",
            " - 1s - loss: 0.2947 - acc: 0.8969 - val_loss: 0.3309 - val_acc: 0.9062\n",
            "\n",
            "Epoch 00014: val_loss did not improve from 0.19788\n",
            "Epoch 15/50\n",
            " - 1s - loss: 0.2551 - acc: 0.9156 - val_loss: 0.3724 - val_acc: 0.9062\n",
            "\n",
            "Epoch 00015: val_loss did not improve from 0.19788\n",
            "Epoch 16/50\n",
            " - 1s - loss: 0.1863 - acc: 0.9531 - val_loss: 0.1835 - val_acc: 0.9375\n",
            "\n",
            "Epoch 00016: val_loss improved from 0.19788 to 0.18354, saving model to weights_architecture_4.hdf5\n",
            "Epoch 17/50\n",
            " - 1s - loss: 0.3145 - acc: 0.8969 - val_loss: 0.3297 - val_acc: 0.8984\n",
            "\n",
            "Epoch 00017: val_loss did not improve from 0.18354\n",
            "Epoch 18/50\n",
            " - 1s - loss: 0.2634 - acc: 0.9031 - val_loss: 0.2903 - val_acc: 0.9062\n",
            "\n",
            "Epoch 00018: val_loss did not improve from 0.18354\n",
            "Epoch 19/50\n",
            " - 1s - loss: 0.1850 - acc: 0.9437 - val_loss: 0.3633 - val_acc: 0.8438\n",
            "\n",
            "Epoch 00019: val_loss did not improve from 0.18354\n",
            "Epoch 20/50\n",
            " - 1s - loss: 0.2670 - acc: 0.9219 - val_loss: 0.4495 - val_acc: 0.8203\n",
            "\n",
            "Epoch 00020: val_loss did not improve from 0.18354\n",
            "Epoch 21/50\n",
            " - 1s - loss: 0.2731 - acc: 0.9188 - val_loss: 0.3661 - val_acc: 0.8359\n",
            "\n",
            "Epoch 00021: val_loss did not improve from 0.18354\n",
            "Epoch 22/50\n",
            " - 1s - loss: 0.1870 - acc: 0.9344 - val_loss: 0.3859 - val_acc: 0.8182\n",
            "\n",
            "Epoch 00022: val_loss did not improve from 0.18354\n",
            "Epoch 23/50\n",
            " - 1s - loss: 0.1687 - acc: 0.9531 - val_loss: 0.3124 - val_acc: 0.8828\n",
            "\n",
            "Epoch 00023: val_loss did not improve from 0.18354\n",
            "Epoch 24/50\n",
            " - 1s - loss: 0.2475 - acc: 0.9219 - val_loss: 0.4597 - val_acc: 0.8750\n",
            "\n",
            "Epoch 00024: val_loss did not improve from 0.18354\n",
            "Epoch 25/50\n",
            " - 1s - loss: 0.2789 - acc: 0.9156 - val_loss: 0.1675 - val_acc: 0.9531\n",
            "\n",
            "Epoch 00025: val_loss improved from 0.18354 to 0.16754, saving model to weights_architecture_4.hdf5\n",
            "Epoch 26/50\n",
            " - 1s - loss: 0.1897 - acc: 0.9437 - val_loss: 1.8281 - val_acc: 0.4453\n",
            "\n",
            "Epoch 00026: val_loss did not improve from 0.16754\n",
            "Epoch 27/50\n",
            " - 1s - loss: 0.2049 - acc: 0.9500 - val_loss: 0.9730 - val_acc: 0.6172\n",
            "\n",
            "Epoch 00027: val_loss did not improve from 0.16754\n",
            "Epoch 28/50\n",
            " - 1s - loss: 0.3000 - acc: 0.9031 - val_loss: 0.2547 - val_acc: 0.9062\n",
            "\n",
            "Epoch 00028: val_loss did not improve from 0.16754\n",
            "Epoch 29/50\n",
            " - 1s - loss: 0.2976 - acc: 0.9094 - val_loss: 0.2761 - val_acc: 0.9297\n",
            "\n",
            "Epoch 00029: val_loss did not improve from 0.16754\n",
            "Epoch 30/50\n",
            " - 1s - loss: 0.1847 - acc: 0.9656 - val_loss: 0.3073 - val_acc: 0.9219\n",
            "\n",
            "Epoch 00030: val_loss did not improve from 0.16754\n",
            "Epoch 31/50\n",
            " - 1s - loss: 0.1221 - acc: 0.9813 - val_loss: 0.1651 - val_acc: 0.9609\n",
            "\n",
            "Epoch 00031: val_loss improved from 0.16754 to 0.16515, saving model to weights_architecture_4.hdf5\n",
            "Epoch 32/50\n",
            " - 1s - loss: 0.2662 - acc: 0.9094 - val_loss: 0.1419 - val_acc: 0.9531\n",
            "\n",
            "Epoch 00032: val_loss improved from 0.16515 to 0.14193, saving model to weights_architecture_4.hdf5\n",
            "Epoch 33/50\n",
            " - 1s - loss: 0.2454 - acc: 0.9062 - val_loss: 0.2746 - val_acc: 0.8828\n",
            "\n",
            "Epoch 00033: val_loss did not improve from 0.14193\n",
            "Epoch 34/50\n",
            " - 1s - loss: 0.2958 - acc: 0.9094 - val_loss: 0.5614 - val_acc: 0.7891\n",
            "\n",
            "Epoch 00034: val_loss did not improve from 0.14193\n",
            "Epoch 35/50\n",
            " - 1s - loss: 0.2508 - acc: 0.9193 - val_loss: 0.2122 - val_acc: 0.9375\n",
            "\n",
            "Epoch 00035: val_loss did not improve from 0.14193\n",
            "Epoch 36/50\n",
            " - 1s - loss: 0.2987 - acc: 0.8969 - val_loss: 0.2632 - val_acc: 0.9375\n",
            "\n",
            "Epoch 00036: val_loss did not improve from 0.14193\n",
            "Epoch 37/50\n",
            " - 1s - loss: 0.2480 - acc: 0.9125 - val_loss: 0.2127 - val_acc: 0.9453\n",
            "\n",
            "Epoch 00037: val_loss did not improve from 0.14193\n",
            "Epoch 38/50\n",
            " - 1s - loss: 0.1863 - acc: 0.9406 - val_loss: 0.6005 - val_acc: 0.7500\n",
            "\n",
            "Epoch 00038: val_loss did not improve from 0.14193\n",
            "Epoch 39/50\n",
            " - 1s - loss: 0.2266 - acc: 0.9219 - val_loss: 0.1857 - val_acc: 0.9205\n",
            "\n",
            "Epoch 00039: val_loss did not improve from 0.14193\n",
            "Epoch 40/50\n",
            " - 1s - loss: 0.1816 - acc: 0.9437 - val_loss: 0.6057 - val_acc: 0.7422\n",
            "\n",
            "Epoch 00040: val_loss did not improve from 0.14193\n",
            "Epoch 41/50\n",
            " - 1s - loss: 0.2050 - acc: 0.9313 - val_loss: 1.0510 - val_acc: 0.5469\n",
            "\n",
            "Epoch 00041: val_loss did not improve from 0.14193\n",
            "Epoch 42/50\n",
            " - 1s - loss: 0.1617 - acc: 0.9469 - val_loss: 0.6726 - val_acc: 0.7344\n",
            "\n",
            "Epoch 00042: val_loss did not improve from 0.14193\n",
            "Epoch 43/50\n",
            " - 1s - loss: 0.1872 - acc: 0.9469 - val_loss: 0.2178 - val_acc: 0.9219\n",
            "\n",
            "Epoch 00043: val_loss did not improve from 0.14193\n",
            "Epoch 44/50\n",
            " - 1s - loss: 0.1942 - acc: 0.9531 - val_loss: 0.1380 - val_acc: 0.9766\n",
            "\n",
            "Epoch 00044: val_loss improved from 0.14193 to 0.13801, saving model to weights_architecture_4.hdf5\n",
            "Epoch 45/50\n",
            " - 1s - loss: 0.1661 - acc: 0.9688 - val_loss: 0.3245 - val_acc: 0.8906\n",
            "\n",
            "Epoch 00045: val_loss did not improve from 0.13801\n",
            "Epoch 46/50\n",
            " - 1s - loss: 0.2049 - acc: 0.9344 - val_loss: 0.1269 - val_acc: 0.9688\n",
            "\n",
            "Epoch 00046: val_loss improved from 0.13801 to 0.12692, saving model to weights_architecture_4.hdf5\n",
            "Epoch 47/50\n",
            " - 1s - loss: 0.1700 - acc: 0.9500 - val_loss: 0.3354 - val_acc: 0.8750\n",
            "\n",
            "Epoch 00047: val_loss did not improve from 0.12692\n",
            "Epoch 48/50\n",
            " - 1s - loss: 0.1956 - acc: 0.9313 - val_loss: 0.4850 - val_acc: 0.8125\n",
            "\n",
            "Epoch 00048: val_loss did not improve from 0.12692\n",
            "Epoch 49/50\n",
            " - 1s - loss: 0.2010 - acc: 0.9219 - val_loss: 0.2191 - val_acc: 0.9297\n",
            "\n",
            "Epoch 00049: val_loss did not improve from 0.12692\n",
            "Epoch 50/50\n",
            " - 1s - loss: 0.3256 - acc: 0.8781 - val_loss: 0.4692 - val_acc: 0.8750\n",
            "\n",
            "Epoch 00050: val_loss did not improve from 0.12692\n"
          ],
          "name": "stdout"
        }
      ]
    },
    {
      "metadata": {
        "colab_type": "code",
        "outputId": "9f21a9fd-2475-4022-aea5-d68fe5016412",
        "id": "lFpl5k8o4Rme",
        "colab": {
          "base_uri": "https://localhost:8080/",
          "height": 380
        }
      },
      "cell_type": "code",
      "source": [
        "# plotar loss e accuracy para os datasets 'train' e 'test'\n",
        "plt.style.use(\"ggplot\")\n",
        "plt.figure()\n",
        "plt.plot(training.history['acc'], label='Accuracy')\n",
        "plt.plot(training.history['loss'], label='Loss')\n",
        "plt.xlabel('Epochs')\n",
        "plt.ylabel('Accuracy')\n",
        "plt.title(\"Training Loss and Accuracy\")\n",
        "plt.ylabel(\"Loss/Accuracy\")\n",
        "plt.legend()\n",
        "plt.savefig('architecture_4.png', bbox_inches='tight')"
      ],
      "execution_count": 37,
      "outputs": [
        {
          "output_type": "display_data",
          "data": {
            "image/png": "[encoded data removed]",
            "text/plain": [
              "<matplotlib.figure.Figure at 0x7f2e7f55b470>"
            ]
          },
          "metadata": {
            "tags": []
          }
        }
      ]
    },
    {
      "metadata": {
        "id": "MhD8Yac15Xio",
        "colab_type": "code",
        "colab": {}
      },
      "cell_type": "code",
      "source": [
        "model.load_weights('weights_architecture_4.hdf5')"
      ],
      "execution_count": 0,
      "outputs": []
    },
    {
      "metadata": {
        "colab_type": "code",
        "outputId": "3e564d8f-609a-4f02-8995-cb5ca8036297",
        "id": "ntC2DQb84Rm2",
        "colab": {
          "base_uri": "https://localhost:8080/",
          "height": 35
        }
      },
      "cell_type": "code",
      "source": [
        "results['architecture_4'] = model.evaluate_generator(test_batches, steps=bSize, use_multiprocessing=True, verbose=1)"
      ],
      "execution_count": 39,
      "outputs": [
        {
          "output_type": "stream",
          "text": [
            "32/32 [==============================] - 3s 106ms/step\n"
          ],
          "name": "stdout"
        }
      ]
    },
    {
      "metadata": {
        "colab_type": "code",
        "outputId": "a21ff0e3-0dbc-4f55-c03d-2bfe98e0bc18",
        "id": "AFSvmeU84Rm9",
        "colab": {
          "base_uri": "https://localhost:8080/",
          "height": 35
        }
      },
      "cell_type": "code",
      "source": [
        "print('Test Loss: {} | Test Accuracy: {:.2f}%'.format(results['architecture_4'][0], 100 * results['architecture_4'][1]))"
      ],
      "execution_count": 40,
      "outputs": [
        {
          "output_type": "stream",
          "text": [
            "Test Loss: 0.20258343312889338 | Test Accuracy: 94.53%\n"
          ],
          "name": "stdout"
        }
      ]
    },
    {
      "metadata": {
        "id": "lX3WANMgB1Ew",
        "colab_type": "text"
      },
      "cell_type": "markdown",
      "source": [
        "### 5 tentativa Accuracy: 89.94%"
      ]
    },
    {
      "metadata": {
        "colab_type": "text",
        "id": "dqed1VQh6WXg"
      },
      "cell_type": "markdown",
      "source": [
        "Modelo adaptado do **Lucas Albertins**\n",
        "\n",
        "*   Sem os **dropout**\n",
        "*   Função **SGD** para compilação\n"
      ]
    },
    {
      "metadata": {
        "colab_type": "code",
        "id": "z9mlUa4mB-ER",
        "colab": {}
      },
      "cell_type": "code",
      "source": [
        "from keras.layers import Conv2D, MaxPooling2D, GlobalMaxPooling2D, BatchNormalization\n",
        "from keras.regularizers import l2\n",
        "\n",
        "model = Sequential()\n",
        "\n",
        "model.add(Conv2D(32, (3, 3), activation='relu', kernel_regularizer=l2(1e-4), \n",
        "                 input_shape=(None, None, 3)))\n",
        "model.add(BatchNormalization())\n",
        "model.add(Conv2D(32, (3, 3), activation='relu', kernel_regularizer=l2(1e-4)))\n",
        "model.add(BatchNormalization())\n",
        "model.add(MaxPooling2D((2, 2)))\n",
        "model.add(Dropout(0.25))\n",
        "\n",
        "model.add(Conv2D(64, (3, 3), activation='relu', kernel_regularizer=l2(1e-4)))\n",
        "model.add(BatchNormalization())\n",
        "model.add(Conv2D(64, (3, 3), activation='relu', kernel_regularizer=l2(1e-4)))\n",
        "model.add(BatchNormalization())\n",
        "model.add(MaxPooling2D((2, 2)))\n",
        "model.add(Dropout(0.25))\n",
        "\n",
        "model.add(Conv2D(128, (1,1), kernel_regularizer=l2(1e-4)))\n",
        "model.add(GlobalMaxPooling2D())\n",
        "\n",
        "model.add(Dense(256, activation='relu', kernel_regularizer=l2(1e-4)))\n",
        "model.add(Dropout(0.5))\n",
        "model.add(Dense(2, activation='sigmoid', kernel_regularizer=l2(1e-4)))"
      ],
      "execution_count": 0,
      "outputs": []
    },
    {
      "metadata": {
        "id": "ukvJwM-lCHtB",
        "colab_type": "code",
        "colab": {}
      },
      "cell_type": "code",
      "source": [
        "model.compile(SGD(lr=0.01, momentum=0.0, decay=0.0, nesterov=False), \n",
        "              loss='binary_crossentropy', metrics=['accuracy'])"
      ],
      "execution_count": 0,
      "outputs": []
    },
    {
      "metadata": {
        "colab_type": "code",
        "id": "BuvCUFsS4gfl",
        "colab": {}
      },
      "cell_type": "code",
      "source": [
        "checkpointer = ModelCheckpoint(filepath='weights_architecture_5.hdf5', verbose=1, save_best_only=True)"
      ],
      "execution_count": 0,
      "outputs": []
    },
    {
      "metadata": {
        "colab_type": "code",
        "outputId": "2cb21add-2a91-44d6-e5e8-d005dba2925e",
        "id": "06GSgiIj4gfo",
        "colab": {
          "base_uri": "https://localhost:8080/",
          "height": 3690
        }
      },
      "cell_type": "code",
      "source": [
        "training = model.fit_generator(train_batches, steps_per_epoch=stepsPerEpoche, \n",
        "                   validation_data=validation_batches, validation_steps=validationSteps,\n",
        "                   epochs=50, verbose=2, callbacks=[checkpointer])"
      ],
      "execution_count": 44,
      "outputs": [
        {
          "output_type": "stream",
          "text": [
            "Epoch 1/50\n",
            " - 3s - loss: 1.5031 - acc: 0.5438 - val_loss: 0.7441 - val_acc: 0.5795\n",
            "\n",
            "Epoch 00001: val_loss improved from inf to 0.74407, saving model to weights_architecture_5.hdf5\n",
            "Epoch 2/50\n",
            " - 0s - loss: 0.9128 - acc: 0.6156 - val_loss: 0.7321 - val_acc: 0.6016\n",
            "\n",
            "Epoch 00002: val_loss improved from 0.74407 to 0.73212, saving model to weights_architecture_5.hdf5\n",
            "Epoch 3/50\n",
            " - 0s - loss: 0.7819 - acc: 0.6844 - val_loss: 0.7490 - val_acc: 0.6016\n",
            "\n",
            "Epoch 00003: val_loss did not improve from 0.73212\n",
            "Epoch 4/50\n",
            " - 0s - loss: 0.6477 - acc: 0.7500 - val_loss: 0.4408 - val_acc: 0.8047\n",
            "\n",
            "Epoch 00004: val_loss improved from 0.73212 to 0.44079, saving model to weights_architecture_5.hdf5\n",
            "Epoch 5/50\n",
            " - 0s - loss: 0.6473 - acc: 0.7625 - val_loss: 0.6337 - val_acc: 0.7109\n",
            "\n",
            "Epoch 00005: val_loss did not improve from 0.44079\n",
            "Epoch 6/50\n",
            " - 0s - loss: 0.4703 - acc: 0.8187 - val_loss: 0.5136 - val_acc: 0.8047\n",
            "\n",
            "Epoch 00006: val_loss did not improve from 0.44079\n",
            "Epoch 7/50\n",
            " - 1s - loss: 0.5850 - acc: 0.7719 - val_loss: 0.9223 - val_acc: 0.4453\n",
            "\n",
            "Epoch 00007: val_loss did not improve from 0.44079\n",
            "Epoch 8/50\n",
            " - 1s - loss: 0.5578 - acc: 0.7906 - val_loss: 1.2406 - val_acc: 0.5156\n",
            "\n",
            "Epoch 00008: val_loss did not improve from 0.44079\n",
            "Epoch 9/50\n",
            " - 1s - loss: 0.5565 - acc: 0.7969 - val_loss: 1.0459 - val_acc: 0.4766\n",
            "\n",
            "Epoch 00009: val_loss did not improve from 0.44079\n",
            "Epoch 10/50\n",
            " - 1s - loss: 0.3521 - acc: 0.8875 - val_loss: 0.7625 - val_acc: 0.6172\n",
            "\n",
            "Epoch 00010: val_loss did not improve from 0.44079\n",
            "Epoch 11/50\n",
            " - 1s - loss: 0.2840 - acc: 0.9125 - val_loss: 0.3949 - val_acc: 0.8594\n",
            "\n",
            "Epoch 00011: val_loss improved from 0.44079 to 0.39489, saving model to weights_architecture_5.hdf5\n",
            "Epoch 12/50\n",
            " - 1s - loss: 0.4357 - acc: 0.8308 - val_loss: 0.7816 - val_acc: 0.6016\n",
            "\n",
            "Epoch 00012: val_loss did not improve from 0.39489\n",
            "Epoch 13/50\n",
            " - 1s - loss: 0.4122 - acc: 0.8625 - val_loss: 0.8150 - val_acc: 0.5859\n",
            "\n",
            "Epoch 00013: val_loss did not improve from 0.39489\n",
            "Epoch 14/50\n",
            " - 1s - loss: 0.3820 - acc: 0.8781 - val_loss: 0.6447 - val_acc: 0.6406\n",
            "\n",
            "Epoch 00014: val_loss did not improve from 0.39489\n",
            "Epoch 15/50\n",
            " - 1s - loss: 0.3765 - acc: 0.8563 - val_loss: 0.7033 - val_acc: 0.6406\n",
            "\n",
            "Epoch 00015: val_loss did not improve from 0.39489\n",
            "Epoch 16/50\n",
            " - 1s - loss: 0.3535 - acc: 0.8656 - val_loss: 0.5590 - val_acc: 0.7578\n",
            "\n",
            "Epoch 00016: val_loss did not improve from 0.39489\n",
            "Epoch 17/50\n",
            " - 1s - loss: 0.3059 - acc: 0.8875 - val_loss: 0.8749 - val_acc: 0.5703\n",
            "\n",
            "Epoch 00017: val_loss did not improve from 0.39489\n",
            "Epoch 18/50\n",
            " - 1s - loss: 0.3242 - acc: 0.8812 - val_loss: 1.0104 - val_acc: 0.6023\n",
            "\n",
            "Epoch 00018: val_loss did not improve from 0.39489\n",
            "Epoch 19/50\n",
            " - 1s - loss: 0.2935 - acc: 0.8937 - val_loss: 0.7347 - val_acc: 0.6250\n",
            "\n",
            "Epoch 00019: val_loss did not improve from 0.39489\n",
            "Epoch 20/50\n",
            " - 1s - loss: 0.3194 - acc: 0.8937 - val_loss: 0.3883 - val_acc: 0.8125\n",
            "\n",
            "Epoch 00020: val_loss improved from 0.39489 to 0.38831, saving model to weights_architecture_5.hdf5\n",
            "Epoch 21/50\n",
            " - 1s - loss: 0.4077 - acc: 0.8312 - val_loss: 0.5845 - val_acc: 0.6484\n",
            "\n",
            "Epoch 00021: val_loss did not improve from 0.38831\n",
            "Epoch 22/50\n",
            " - 1s - loss: 0.3212 - acc: 0.9000 - val_loss: 0.5233 - val_acc: 0.7578\n",
            "\n",
            "Epoch 00022: val_loss did not improve from 0.38831\n",
            "Epoch 23/50\n",
            " - 1s - loss: 0.2842 - acc: 0.8937 - val_loss: 0.6016 - val_acc: 0.7031\n",
            "\n",
            "Epoch 00023: val_loss did not improve from 0.38831\n",
            "Epoch 24/50\n",
            " - 1s - loss: 0.3379 - acc: 0.8812 - val_loss: 0.3896 - val_acc: 0.8594\n",
            "\n",
            "Epoch 00024: val_loss did not improve from 0.38831\n",
            "Epoch 25/50\n",
            " - 1s - loss: 0.2877 - acc: 0.8906 - val_loss: 1.0580 - val_acc: 0.4609\n",
            "\n",
            "Epoch 00025: val_loss did not improve from 0.38831\n",
            "Epoch 26/50\n",
            " - 1s - loss: 0.4271 - acc: 0.8531 - val_loss: 0.7364 - val_acc: 0.6953\n",
            "\n",
            "Epoch 00026: val_loss did not improve from 0.38831\n",
            "Epoch 27/50\n",
            " - 1s - loss: 0.3295 - acc: 0.8812 - val_loss: 0.4390 - val_acc: 0.8672\n",
            "\n",
            "Epoch 00027: val_loss did not improve from 0.38831\n",
            "Epoch 28/50\n",
            " - 1s - loss: 0.3349 - acc: 0.8688 - val_loss: 0.4038 - val_acc: 0.9141\n",
            "\n",
            "Epoch 00028: val_loss did not improve from 0.38831\n",
            "Epoch 29/50\n",
            " - 1s - loss: 0.3744 - acc: 0.9000 - val_loss: 0.3958 - val_acc: 0.8594\n",
            "\n",
            "Epoch 00029: val_loss did not improve from 0.38831\n",
            "Epoch 30/50\n",
            " - 1s - loss: 0.2152 - acc: 0.9437 - val_loss: 0.3239 - val_acc: 0.8906\n",
            "\n",
            "Epoch 00030: val_loss improved from 0.38831 to 0.32389, saving model to weights_architecture_5.hdf5\n",
            "Epoch 31/50\n",
            " - 1s - loss: 0.2955 - acc: 0.8906 - val_loss: 0.5693 - val_acc: 0.7266\n",
            "\n",
            "Epoch 00031: val_loss did not improve from 0.32389\n",
            "Epoch 32/50\n",
            " - 1s - loss: 0.2976 - acc: 0.8937 - val_loss: 0.3000 - val_acc: 0.9141\n",
            "\n",
            "Epoch 00032: val_loss improved from 0.32389 to 0.30001, saving model to weights_architecture_5.hdf5\n",
            "Epoch 33/50\n",
            " - 1s - loss: 0.3798 - acc: 0.8781 - val_loss: 0.5665 - val_acc: 0.8047\n",
            "\n",
            "Epoch 00033: val_loss did not improve from 0.30001\n",
            "Epoch 34/50\n",
            " - 1s - loss: 0.2242 - acc: 0.9219 - val_loss: 0.4376 - val_acc: 0.8125\n",
            "\n",
            "Epoch 00034: val_loss did not improve from 0.30001\n",
            "Epoch 35/50\n",
            " - 1s - loss: 0.3566 - acc: 0.8656 - val_loss: 1.3039 - val_acc: 0.5000\n",
            "\n",
            "Epoch 00035: val_loss did not improve from 0.30001\n",
            "Epoch 36/50\n",
            " - 1s - loss: 0.3214 - acc: 0.8844 - val_loss: 0.6568 - val_acc: 0.6719\n",
            "\n",
            "Epoch 00036: val_loss did not improve from 0.30001\n",
            "Epoch 37/50\n",
            " - 1s - loss: 0.2964 - acc: 0.9188 - val_loss: 0.6747 - val_acc: 0.6484\n",
            "\n",
            "Epoch 00037: val_loss did not improve from 0.30001\n",
            "Epoch 38/50\n",
            " - 1s - loss: 0.2705 - acc: 0.8969 - val_loss: 1.6555 - val_acc: 0.5547\n",
            "\n",
            "Epoch 00038: val_loss did not improve from 0.30001\n",
            "Epoch 39/50\n",
            " - 1s - loss: 0.2660 - acc: 0.9114 - val_loss: 0.7142 - val_acc: 0.6562\n",
            "\n",
            "Epoch 00039: val_loss did not improve from 0.30001\n",
            "Epoch 40/50\n",
            " - 1s - loss: 0.3585 - acc: 0.8969 - val_loss: 0.4208 - val_acc: 0.8047\n",
            "\n",
            "Epoch 00040: val_loss did not improve from 0.30001\n",
            "Epoch 41/50\n",
            " - 1s - loss: 0.2248 - acc: 0.9125 - val_loss: 0.5440 - val_acc: 0.6797\n",
            "\n",
            "Epoch 00041: val_loss did not improve from 0.30001\n",
            "Epoch 42/50\n",
            " - 1s - loss: 0.3064 - acc: 0.8844 - val_loss: 0.4273 - val_acc: 0.8281\n",
            "\n",
            "Epoch 00042: val_loss did not improve from 0.30001\n",
            "Epoch 43/50\n",
            " - 1s - loss: 0.2904 - acc: 0.8937 - val_loss: 0.4160 - val_acc: 0.8281\n",
            "\n",
            "Epoch 00043: val_loss did not improve from 0.30001\n",
            "Epoch 44/50\n",
            " - 1s - loss: 0.2982 - acc: 0.9062 - val_loss: 0.5175 - val_acc: 0.7656\n",
            "\n",
            "Epoch 00044: val_loss did not improve from 0.30001\n",
            "Epoch 45/50\n",
            " - 1s - loss: 0.3295 - acc: 0.8656 - val_loss: 0.3185 - val_acc: 0.8984\n",
            "\n",
            "Epoch 00045: val_loss did not improve from 0.30001\n",
            "Epoch 46/50\n",
            " - 1s - loss: 0.3743 - acc: 0.8875 - val_loss: 0.4784 - val_acc: 0.8125\n",
            "\n",
            "Epoch 00046: val_loss did not improve from 0.30001\n",
            "Epoch 47/50\n",
            " - 1s - loss: 0.3287 - acc: 0.8844 - val_loss: 0.4928 - val_acc: 0.8281\n",
            "\n",
            "Epoch 00047: val_loss did not improve from 0.30001\n",
            "Epoch 48/50\n",
            " - 1s - loss: 0.3131 - acc: 0.8906 - val_loss: 0.5501 - val_acc: 0.6953\n",
            "\n",
            "Epoch 00048: val_loss did not improve from 0.30001\n",
            "Epoch 49/50\n",
            " - 1s - loss: 0.2524 - acc: 0.9094 - val_loss: 0.4975 - val_acc: 0.7344\n",
            "\n",
            "Epoch 00049: val_loss did not improve from 0.30001\n",
            "Epoch 50/50\n",
            " - 1s - loss: 0.2172 - acc: 0.9344 - val_loss: 0.8038 - val_acc: 0.5156\n",
            "\n",
            "Epoch 00050: val_loss did not improve from 0.30001\n"
          ],
          "name": "stdout"
        }
      ]
    },
    {
      "metadata": {
        "colab_type": "code",
        "outputId": "c3b8a610-5d55-4130-c051-8e327439ca30",
        "id": "0mSPug6x4gfs",
        "colab": {
          "base_uri": "https://localhost:8080/",
          "height": 380
        }
      },
      "cell_type": "code",
      "source": [
        "# plotar loss e accuracy para os datasets 'train' e 'test'\n",
        "plt.style.use(\"ggplot\")\n",
        "plt.figure()\n",
        "plt.plot(training.history['acc'], label='Accuracy')\n",
        "plt.plot(training.history['loss'], label='Loss')\n",
        "plt.xlabel('Epochs')\n",
        "plt.ylabel('Accuracy')\n",
        "plt.title(\"Training Loss and Accuracy\")\n",
        "plt.ylabel(\"Loss/Accuracy\")\n",
        "plt.legend()\n",
        "plt.savefig('architecture_5.png', bbox_inches='tight')"
      ],
      "execution_count": 45,
      "outputs": [
        {
          "output_type": "display_data",
          "data": {
            "image/png": "[encoded data removed]",
            "text/plain": [
              "<matplotlib.figure.Figure at 0x7f2e801c6668>"
            ]
          },
          "metadata": {
            "tags": []
          }
        }
      ]
    },
    {
      "metadata": {
        "id": "vy2jjjoB5gBo",
        "colab_type": "code",
        "colab": {}
      },
      "cell_type": "code",
      "source": [
        "model.load_weights('weights_architecture_5.hdf5')"
      ],
      "execution_count": 0,
      "outputs": []
    },
    {
      "metadata": {
        "colab_type": "code",
        "outputId": "dd765173-fa82-48aa-e0fe-708eb5ec9a8f",
        "id": "_JgTPZOc4gf0",
        "colab": {
          "base_uri": "https://localhost:8080/",
          "height": 35
        }
      },
      "cell_type": "code",
      "source": [
        "results['architecture_5'] = model.evaluate_generator(test_batches, steps=bSize, use_multiprocessing=True, verbose=1)"
      ],
      "execution_count": 47,
      "outputs": [
        {
          "output_type": "stream",
          "text": [
            "32/32 [==============================] - 3s 108ms/step\n"
          ],
          "name": "stdout"
        }
      ]
    },
    {
      "metadata": {
        "colab_type": "code",
        "outputId": "01b28b8b-e322-4ddf-89fb-d65c39be52cb",
        "id": "btSZrFLQ4gf5",
        "colab": {
          "base_uri": "https://localhost:8080/",
          "height": 35
        }
      },
      "cell_type": "code",
      "source": [
        "print('Test Loss: {} | Test Accuracy: {:.2f}%'.format(results['architecture_5'][0], 100 * results['architecture_5'][1]))"
      ],
      "execution_count": 48,
      "outputs": [
        {
          "output_type": "stream",
          "text": [
            "Test Loss: 0.33731238543987274 | Test Accuracy: 89.94%\n"
          ],
          "name": "stdout"
        }
      ]
    },
    {
      "metadata": {
        "id": "apfIeirYD2N7",
        "colab_type": "text"
      },
      "cell_type": "markdown",
      "source": [
        "### 6 tentativa Accuracy: 93.16%"
      ]
    },
    {
      "metadata": {
        "colab_type": "text",
        "id": "xaxcjuxn7BAH"
      },
      "cell_type": "markdown",
      "source": [
        "Modelo adaptado do **Lucas Albertins**\n",
        "\n",
        "*   Sem os **dropout**\n",
        "*   Função **SGD** para compilação\n",
        "*   **BatchNormalization** antes da ultima camada Dense\n"
      ]
    },
    {
      "metadata": {
        "colab_type": "code",
        "id": "C2UuO-jqD44u",
        "colab": {}
      },
      "cell_type": "code",
      "source": [
        "from keras.layers import Conv2D, MaxPooling2D, GlobalMaxPooling2D, BatchNormalization\n",
        "from keras.regularizers import l2\n",
        "\n",
        "model = Sequential()\n",
        "\n",
        "model.add(Conv2D(32, (3, 3), activation='relu', kernel_regularizer=l2(1e-4), \n",
        "                 input_shape=(None, None, 3)))\n",
        "model.add(BatchNormalization())\n",
        "model.add(Conv2D(32, (3, 3), activation='relu', kernel_regularizer=l2(1e-4)))\n",
        "model.add(BatchNormalization())\n",
        "model.add(MaxPooling2D((2, 2)))\n",
        "\n",
        "model.add(Conv2D(64, (3, 3), activation='relu', kernel_regularizer=l2(1e-4)))\n",
        "model.add(BatchNormalization())\n",
        "model.add(Conv2D(64, (3, 3), activation='relu', kernel_regularizer=l2(1e-4)))\n",
        "model.add(BatchNormalization())\n",
        "model.add(MaxPooling2D((2, 2)))\n",
        "\n",
        "model.add(Conv2D(128, (1,1), kernel_regularizer=l2(1e-4)))\n",
        "model.add(GlobalMaxPooling2D())\n",
        "\n",
        "model.add(Dense(256, activation='relu', kernel_regularizer=l2(1e-4)))\n",
        "model.add(BatchNormalization())\n",
        "model.add(Dense(2, activation='sigmoid', kernel_regularizer=l2(1e-4)))"
      ],
      "execution_count": 0,
      "outputs": []
    },
    {
      "metadata": {
        "colab_type": "code",
        "id": "I7mu97znD45M",
        "colab": {}
      },
      "cell_type": "code",
      "source": [
        "model.compile(SGD(lr=0.03, momentum=0.0, decay=0.0, nesterov=False), \n",
        "              loss='binary_crossentropy', metrics=['accuracy'])"
      ],
      "execution_count": 0,
      "outputs": []
    },
    {
      "metadata": {
        "colab_type": "code",
        "id": "LEdI9Ilj6scL",
        "colab": {}
      },
      "cell_type": "code",
      "source": [
        "checkpointer = ModelCheckpoint(filepath='weights_architecture_6.hdf5', verbose=1, save_best_only=True)"
      ],
      "execution_count": 0,
      "outputs": []
    },
    {
      "metadata": {
        "colab_type": "code",
        "outputId": "fa3d03af-de5c-4cfc-8ce1-65a7fdd2d69d",
        "id": "HRAakAz46scS",
        "colab": {
          "base_uri": "https://localhost:8080/",
          "height": 3690
        }
      },
      "cell_type": "code",
      "source": [
        "training = model.fit_generator(train_batches, steps_per_epoch=stepsPerEpoche, \n",
        "                   validation_data=validation_batches, validation_steps=validationSteps,\n",
        "                   epochs=50, verbose=2, callbacks=[checkpointer])"
      ],
      "execution_count": 52,
      "outputs": [
        {
          "output_type": "stream",
          "text": [
            "Epoch 1/50\n",
            " - 3s - loss: 0.7671 - acc: 0.6375 - val_loss: 1.2500 - val_acc: 0.5781\n",
            "\n",
            "Epoch 00001: val_loss improved from inf to 1.24997, saving model to weights_architecture_6.hdf5\n",
            "Epoch 2/50\n",
            " - 0s - loss: 0.3926 - acc: 0.8844 - val_loss: 0.6023 - val_acc: 0.7500\n",
            "\n",
            "Epoch 00002: val_loss improved from 1.24997 to 0.60234, saving model to weights_architecture_6.hdf5\n",
            "Epoch 3/50\n",
            " - 0s - loss: 0.4375 - acc: 0.8406 - val_loss: 0.8043 - val_acc: 0.6875\n",
            "\n",
            "Epoch 00003: val_loss did not improve from 0.60234\n",
            "Epoch 4/50\n",
            " - 0s - loss: 0.3115 - acc: 0.8969 - val_loss: 0.6845 - val_acc: 0.7109\n",
            "\n",
            "Epoch 00004: val_loss did not improve from 0.60234\n",
            "Epoch 5/50\n",
            " - 0s - loss: 0.3667 - acc: 0.8469 - val_loss: 0.5136 - val_acc: 0.8516\n",
            "\n",
            "Epoch 00005: val_loss improved from 0.60234 to 0.51357, saving model to weights_architecture_6.hdf5\n",
            "Epoch 6/50\n",
            " - 0s - loss: 0.3736 - acc: 0.8656 - val_loss: 0.8194 - val_acc: 0.6094\n",
            "\n",
            "Epoch 00006: val_loss did not improve from 0.51357\n",
            "Epoch 7/50\n",
            " - 1s - loss: 0.4695 - acc: 0.8250 - val_loss: 0.4678 - val_acc: 0.8516\n",
            "\n",
            "Epoch 00007: val_loss improved from 0.51357 to 0.46783, saving model to weights_architecture_6.hdf5\n",
            "Epoch 8/50\n",
            " - 1s - loss: 0.2715 - acc: 0.9000 - val_loss: 0.3187 - val_acc: 0.8672\n",
            "\n",
            "Epoch 00008: val_loss improved from 0.46783 to 0.31866, saving model to weights_architecture_6.hdf5\n",
            "Epoch 9/50\n",
            " - 1s - loss: 0.2760 - acc: 0.9188 - val_loss: 1.1645 - val_acc: 0.5547\n",
            "\n",
            "Epoch 00009: val_loss did not improve from 0.31866\n",
            "Epoch 10/50\n",
            " - 1s - loss: 0.2403 - acc: 0.9125 - val_loss: 0.3702 - val_acc: 0.8828\n",
            "\n",
            "Epoch 00010: val_loss did not improve from 0.31866\n",
            "Epoch 11/50\n",
            " - 1s - loss: 0.3116 - acc: 0.8969 - val_loss: 0.5731 - val_acc: 0.7656\n",
            "\n",
            "Epoch 00011: val_loss did not improve from 0.31866\n",
            "Epoch 12/50\n",
            " - 1s - loss: 0.2493 - acc: 0.9219 - val_loss: 0.4152 - val_acc: 0.8125\n",
            "\n",
            "Epoch 00012: val_loss did not improve from 0.31866\n",
            "Epoch 13/50\n",
            " - 1s - loss: 0.2860 - acc: 0.8812 - val_loss: 1.3257 - val_acc: 0.5078\n",
            "\n",
            "Epoch 00013: val_loss did not improve from 0.31866\n",
            "Epoch 14/50\n",
            " - 1s - loss: 0.2510 - acc: 0.9156 - val_loss: 0.7785 - val_acc: 0.6591\n",
            "\n",
            "Epoch 00014: val_loss did not improve from 0.31866\n",
            "Epoch 15/50\n",
            " - 1s - loss: 0.2328 - acc: 0.9209 - val_loss: 0.8846 - val_acc: 0.6562\n",
            "\n",
            "Epoch 00015: val_loss did not improve from 0.31866\n",
            "Epoch 16/50\n",
            " - 1s - loss: 0.2383 - acc: 0.9281 - val_loss: 1.5844 - val_acc: 0.5156\n",
            "\n",
            "Epoch 00016: val_loss did not improve from 0.31866\n",
            "Epoch 17/50\n",
            " - 1s - loss: 0.2383 - acc: 0.9156 - val_loss: 1.1051 - val_acc: 0.6562\n",
            "\n",
            "Epoch 00017: val_loss did not improve from 0.31866\n",
            "Epoch 18/50\n",
            " - 1s - loss: 0.2094 - acc: 0.9406 - val_loss: 1.3571 - val_acc: 0.5625\n",
            "\n",
            "Epoch 00018: val_loss did not improve from 0.31866\n",
            "Epoch 19/50\n",
            " - 1s - loss: 0.2718 - acc: 0.8937 - val_loss: 1.2107 - val_acc: 0.5156\n",
            "\n",
            "Epoch 00019: val_loss did not improve from 0.31866\n",
            "Epoch 20/50\n",
            " - 1s - loss: 0.1880 - acc: 0.9688 - val_loss: 0.8730 - val_acc: 0.5938\n",
            "\n",
            "Epoch 00020: val_loss did not improve from 0.31866\n",
            "Epoch 21/50\n",
            " - 1s - loss: 0.3465 - acc: 0.8844 - val_loss: 1.4211 - val_acc: 0.5625\n",
            "\n",
            "Epoch 00021: val_loss did not improve from 0.31866\n",
            "Epoch 22/50\n",
            " - 1s - loss: 0.2927 - acc: 0.8875 - val_loss: 1.1369 - val_acc: 0.5469\n",
            "\n",
            "Epoch 00022: val_loss did not improve from 0.31866\n",
            "Epoch 23/50\n",
            " - 1s - loss: 0.3403 - acc: 0.8594 - val_loss: 1.2044 - val_acc: 0.5625\n",
            "\n",
            "Epoch 00023: val_loss did not improve from 0.31866\n",
            "Epoch 24/50\n",
            " - 1s - loss: 0.1723 - acc: 0.9625 - val_loss: 0.7980 - val_acc: 0.6562\n",
            "\n",
            "Epoch 00024: val_loss did not improve from 0.31866\n",
            "Epoch 25/50\n",
            " - 1s - loss: 0.2216 - acc: 0.9250 - val_loss: 0.8450 - val_acc: 0.6641\n",
            "\n",
            "Epoch 00025: val_loss did not improve from 0.31866\n",
            "Epoch 26/50\n",
            " - 1s - loss: 0.2054 - acc: 0.9437 - val_loss: 1.7601 - val_acc: 0.5000\n",
            "\n",
            "Epoch 00026: val_loss did not improve from 0.31866\n",
            "Epoch 27/50\n",
            " - 1s - loss: 0.1852 - acc: 0.9562 - val_loss: 0.3030 - val_acc: 0.9219\n",
            "\n",
            "Epoch 00027: val_loss improved from 0.31866 to 0.30298, saving model to weights_architecture_6.hdf5\n",
            "Epoch 28/50\n",
            " - 1s - loss: 0.2318 - acc: 0.9344 - val_loss: 0.3085 - val_acc: 0.8750\n",
            "\n",
            "Epoch 00028: val_loss did not improve from 0.30298\n",
            "Epoch 29/50\n",
            " - 1s - loss: 0.2014 - acc: 0.9437 - val_loss: 0.9399 - val_acc: 0.6562\n",
            "\n",
            "Epoch 00029: val_loss did not improve from 0.30298\n",
            "Epoch 30/50\n",
            " - 1s - loss: 0.2200 - acc: 0.9344 - val_loss: 1.7626 - val_acc: 0.5625\n",
            "\n",
            "Epoch 00030: val_loss did not improve from 0.30298\n",
            "Epoch 31/50\n",
            " - 1s - loss: 0.2540 - acc: 0.9062 - val_loss: 0.4070 - val_acc: 0.8409\n",
            "\n",
            "Epoch 00031: val_loss did not improve from 0.30298\n",
            "Epoch 32/50\n",
            " - 1s - loss: 0.2444 - acc: 0.9250 - val_loss: 0.4160 - val_acc: 0.8125\n",
            "\n",
            "Epoch 00032: val_loss did not improve from 0.30298\n",
            "Epoch 33/50\n",
            " - 1s - loss: 0.3918 - acc: 0.8531 - val_loss: 1.0109 - val_acc: 0.6016\n",
            "\n",
            "Epoch 00033: val_loss did not improve from 0.30298\n",
            "Epoch 34/50\n",
            " - 1s - loss: 0.2011 - acc: 0.9188 - val_loss: 0.4101 - val_acc: 0.8281\n",
            "\n",
            "Epoch 00034: val_loss did not improve from 0.30298\n",
            "Epoch 35/50\n",
            " - 1s - loss: 0.2906 - acc: 0.8844 - val_loss: 0.4625 - val_acc: 0.8203\n",
            "\n",
            "Epoch 00035: val_loss did not improve from 0.30298\n",
            "Epoch 36/50\n",
            " - 1s - loss: 0.1684 - acc: 0.9469 - val_loss: 0.3355 - val_acc: 0.8594\n",
            "\n",
            "Epoch 00036: val_loss did not improve from 0.30298\n",
            "Epoch 37/50\n",
            " - 1s - loss: 0.2669 - acc: 0.9250 - val_loss: 0.4035 - val_acc: 0.8281\n",
            "\n",
            "Epoch 00037: val_loss did not improve from 0.30298\n",
            "Epoch 38/50\n",
            " - 1s - loss: 0.2122 - acc: 0.9406 - val_loss: 0.3982 - val_acc: 0.8594\n",
            "\n",
            "Epoch 00038: val_loss did not improve from 0.30298\n",
            "Epoch 39/50\n",
            " - 1s - loss: 0.2408 - acc: 0.9062 - val_loss: 0.9269 - val_acc: 0.6016\n",
            "\n",
            "Epoch 00039: val_loss did not improve from 0.30298\n",
            "Epoch 40/50\n",
            " - 1s - loss: 0.2565 - acc: 0.9094 - val_loss: 0.5545 - val_acc: 0.7812\n",
            "\n",
            "Epoch 00040: val_loss did not improve from 0.30298\n",
            "Epoch 41/50\n",
            " - 1s - loss: 0.1592 - acc: 0.9719 - val_loss: 0.2716 - val_acc: 0.8984\n",
            "\n",
            "Epoch 00041: val_loss improved from 0.30298 to 0.27157, saving model to weights_architecture_6.hdf5\n",
            "Epoch 42/50\n",
            " - 1s - loss: 0.2242 - acc: 0.9082 - val_loss: 0.3545 - val_acc: 0.8906\n",
            "\n",
            "Epoch 00042: val_loss did not improve from 0.27157\n",
            "Epoch 43/50\n",
            " - 1s - loss: 0.1910 - acc: 0.9344 - val_loss: 0.4590 - val_acc: 0.8047\n",
            "\n",
            "Epoch 00043: val_loss did not improve from 0.27157\n",
            "Epoch 44/50\n",
            " - 1s - loss: 0.3140 - acc: 0.8688 - val_loss: 1.0002 - val_acc: 0.6406\n",
            "\n",
            "Epoch 00044: val_loss did not improve from 0.27157\n",
            "Epoch 45/50\n",
            " - 1s - loss: 0.2869 - acc: 0.9094 - val_loss: 0.3185 - val_acc: 0.8984\n",
            "\n",
            "Epoch 00045: val_loss did not improve from 0.27157\n",
            "Epoch 46/50\n",
            " - 1s - loss: 0.2566 - acc: 0.9125 - val_loss: 0.9517 - val_acc: 0.6250\n",
            "\n",
            "Epoch 00046: val_loss did not improve from 0.27157\n",
            "Epoch 47/50\n",
            " - 1s - loss: 0.1777 - acc: 0.9625 - val_loss: 0.3615 - val_acc: 0.8125\n",
            "\n",
            "Epoch 00047: val_loss did not improve from 0.27157\n",
            "Epoch 48/50\n",
            " - 1s - loss: 0.2637 - acc: 0.9062 - val_loss: 0.2462 - val_acc: 0.9205\n",
            "\n",
            "Epoch 00048: val_loss improved from 0.27157 to 0.24624, saving model to weights_architecture_6.hdf5\n",
            "Epoch 49/50\n",
            " - 1s - loss: 0.2073 - acc: 0.9313 - val_loss: 0.2212 - val_acc: 0.9453\n",
            "\n",
            "Epoch 00049: val_loss improved from 0.24624 to 0.22119, saving model to weights_architecture_6.hdf5\n",
            "Epoch 50/50\n",
            " - 1s - loss: 0.2629 - acc: 0.9062 - val_loss: 0.3816 - val_acc: 0.8438\n",
            "\n",
            "Epoch 00050: val_loss did not improve from 0.22119\n"
          ],
          "name": "stdout"
        }
      ]
    },
    {
      "metadata": {
        "colab_type": "code",
        "id": "uaZTLoX46scd",
        "outputId": "ed0c40af-db55-4edd-d115-72f9b527f74e",
        "colab": {
          "base_uri": "https://localhost:8080/",
          "height": 380
        }
      },
      "cell_type": "code",
      "source": [
        "# plotar loss e accuracy para os datasets 'train' e 'test'\n",
        "plt.style.use(\"ggplot\")\n",
        "plt.figure()\n",
        "plt.plot(training.history['acc'], label='Accuracy')\n",
        "plt.plot(training.history['loss'], label='Loss')\n",
        "plt.xlabel('Epochs')\n",
        "plt.ylabel('Accuracy')\n",
        "plt.title(\"Training Loss and Accuracy\")\n",
        "plt.ylabel(\"Loss/Accuracy\")\n",
        "plt.legend()\n",
        "plt.savefig('architecture_6.png', bbox_inches='tight')"
      ],
      "execution_count": 53,
      "outputs": [
        {
          "output_type": "display_data",
          "data": {
            "image/png": "[encoded data removed]",
            "text/plain": [
              "<matplotlib.figure.Figure at 0x7f2e7f131a90>"
            ]
          },
          "metadata": {
            "tags": []
          }
        }
      ]
    },
    {
      "metadata": {
        "colab_type": "code",
        "id": "Z7zyxvAB6sch",
        "colab": {}
      },
      "cell_type": "code",
      "source": [
        "model.load_weights('weights_architecture_6.hdf5')"
      ],
      "execution_count": 0,
      "outputs": []
    },
    {
      "metadata": {
        "colab_type": "code",
        "id": "6F7QMRQn6scm",
        "outputId": "1cc54424-5615-4a64-ee70-c050b7ed9d15",
        "colab": {
          "base_uri": "https://localhost:8080/",
          "height": 35
        }
      },
      "cell_type": "code",
      "source": [
        "results['architecture_6'] = model.evaluate_generator(test_batches, steps=bSize, use_multiprocessing=True, verbose=1)"
      ],
      "execution_count": 55,
      "outputs": [
        {
          "output_type": "stream",
          "text": [
            "32/32 [==============================] - 3s 107ms/step\n"
          ],
          "name": "stdout"
        }
      ]
    },
    {
      "metadata": {
        "colab_type": "code",
        "id": "uXAl6yNj6scr",
        "outputId": "4f4b5e6b-9fee-43ee-d757-4537e8c9b477",
        "colab": {
          "base_uri": "https://localhost:8080/",
          "height": 35
        }
      },
      "cell_type": "code",
      "source": [
        "print('Test Loss: {} | Test Accuracy: {:.2f}%'.format(results['architecture_6'][0], 100 * results['architecture_6'][1]))"
      ],
      "execution_count": 56,
      "outputs": [
        {
          "output_type": "stream",
          "text": [
            "Test Loss: 0.22688628640025854 | Test Accuracy: 93.16%\n"
          ],
          "name": "stdout"
        }
      ]
    },
    {
      "metadata": {
        "id": "5gk7vmYPHddj",
        "colab_type": "text"
      },
      "cell_type": "markdown",
      "source": [
        "### 7 tentativa Accuracy: 92.72%"
      ]
    },
    {
      "metadata": {
        "colab_type": "text",
        "id": "lxzyd-4L422r"
      },
      "cell_type": "markdown",
      "source": [
        "Modelo adaptado do **Lucas Albertins**\n",
        "\n",
        "*   Sem os **dropout**\n",
        "*   Função **Adadelta** para compilação\n",
        "*   **BatchNormalization** antes da ultima camada Dense\n"
      ]
    },
    {
      "metadata": {
        "colab_type": "code",
        "id": "sIBEdGsyHhJN",
        "colab": {}
      },
      "cell_type": "code",
      "source": [
        "from keras.layers import Conv2D, MaxPooling2D, GlobalMaxPooling2D, BatchNormalization\n",
        "from keras.regularizers import l2\n",
        "from keras.optimizers import Adadelta\n",
        "\n",
        "model = Sequential()\n",
        "\n",
        "model.add(Conv2D(32, (3, 3), activation='relu', kernel_regularizer=l2(1e-4), \n",
        "                 input_shape=(None, None, 3)))\n",
        "model.add(BatchNormalization())\n",
        "model.add(Conv2D(32, (3, 3), activation='relu', kernel_regularizer=l2(1e-4)))\n",
        "model.add(BatchNormalization())\n",
        "model.add(MaxPooling2D((2, 2)))\n",
        "\n",
        "model.add(Conv2D(64, (3, 3), activation='relu', kernel_regularizer=l2(1e-4)))\n",
        "model.add(BatchNormalization())\n",
        "model.add(Conv2D(64, (3, 3), activation='relu', kernel_regularizer=l2(1e-4)))\n",
        "model.add(BatchNormalization())\n",
        "model.add(MaxPooling2D((2, 2)))\n",
        "\n",
        "model.add(Conv2D(128, (1,1), kernel_regularizer=l2(1e-4)))\n",
        "model.add(GlobalMaxPooling2D())\n",
        "\n",
        "model.add(Dense(256, activation='relu', kernel_regularizer=l2(1e-4)))\n",
        "model.add(BatchNormalization())\n",
        "model.add(Dense(2, activation='sigmoid', kernel_regularizer=l2(1e-4)))"
      ],
      "execution_count": 0,
      "outputs": []
    },
    {
      "metadata": {
        "colab_type": "code",
        "id": "P6ZvobfGHhJb",
        "colab": {}
      },
      "cell_type": "code",
      "source": [
        "model.compile(Adadelta(lr=1.0, rho=0.95, epsilon=None, decay=0.0), \n",
        "              loss='binary_crossentropy', metrics=['accuracy'])"
      ],
      "execution_count": 0,
      "outputs": []
    },
    {
      "metadata": {
        "colab_type": "code",
        "id": "HwKsm_5S4l2j",
        "colab": {}
      },
      "cell_type": "code",
      "source": [
        "checkpointer = ModelCheckpoint(filepath='weights_architecture_7.hdf5', verbose=1, save_best_only=True)"
      ],
      "execution_count": 0,
      "outputs": []
    },
    {
      "metadata": {
        "colab_type": "code",
        "outputId": "76859090-15c6-4cfa-b4cd-1b0bca1ee6a5",
        "id": "mXDKyOFa4l2t",
        "colab": {
          "base_uri": "https://localhost:8080/",
          "height": 3690
        }
      },
      "cell_type": "code",
      "source": [
        "training = model.fit_generator(train_batches, steps_per_epoch=stepsPerEpoche, \n",
        "                   validation_data=validation_batches, validation_steps=validationSteps,\n",
        "                   epochs=50, verbose=2, callbacks=[checkpointer])"
      ],
      "execution_count": 12,
      "outputs": [
        {
          "output_type": "stream",
          "text": [
            "Epoch 1/50\n",
            " - 74s - loss: 0.6153 - acc: 0.6906 - val_loss: 1.7819 - val_acc: 0.4531\n",
            "\n",
            "Epoch 00001: val_loss improved from inf to 1.78193, saving model to weights_architecture_7.hdf5\n",
            "Epoch 2/50\n",
            " - 66s - loss: 0.4968 - acc: 0.8187 - val_loss: 1.0578 - val_acc: 0.4766\n",
            "\n",
            "Epoch 00002: val_loss improved from 1.78193 to 1.05785, saving model to weights_architecture_7.hdf5\n",
            "Epoch 3/50\n",
            " - 62s - loss: 0.4220 - acc: 0.8344 - val_loss: 1.1939 - val_acc: 0.6484\n",
            "\n",
            "Epoch 00003: val_loss did not improve from 1.05785\n",
            "Epoch 4/50\n",
            " - 58s - loss: 0.3527 - acc: 0.8906 - val_loss: 0.4557 - val_acc: 0.8516\n",
            "\n",
            "Epoch 00004: val_loss improved from 1.05785 to 0.45571, saving model to weights_architecture_7.hdf5\n",
            "Epoch 5/50\n",
            " - 59s - loss: 0.3204 - acc: 0.8875 - val_loss: 1.0031 - val_acc: 0.6719\n",
            "\n",
            "Epoch 00005: val_loss did not improve from 0.45571\n",
            "Epoch 6/50\n",
            " - 62s - loss: 0.2629 - acc: 0.9000 - val_loss: 0.5529 - val_acc: 0.7656\n",
            "\n",
            "Epoch 00006: val_loss did not improve from 0.45571\n",
            "Epoch 7/50\n",
            " - 59s - loss: 0.3756 - acc: 0.8406 - val_loss: 0.4442 - val_acc: 0.8438\n",
            "\n",
            "Epoch 00007: val_loss improved from 0.45571 to 0.44420, saving model to weights_architecture_7.hdf5\n",
            "Epoch 8/50\n",
            " - 61s - loss: 0.3014 - acc: 0.8937 - val_loss: 0.3714 - val_acc: 0.8984\n",
            "\n",
            "Epoch 00008: val_loss improved from 0.44420 to 0.37143, saving model to weights_architecture_7.hdf5\n",
            "Epoch 9/50\n",
            " - 57s - loss: 0.3225 - acc: 0.8937 - val_loss: 0.4840 - val_acc: 0.7969\n",
            "\n",
            "Epoch 00009: val_loss did not improve from 0.37143\n",
            "Epoch 10/50\n",
            " - 56s - loss: 0.2496 - acc: 0.9062 - val_loss: 0.3567 - val_acc: 0.8594\n",
            "\n",
            "Epoch 00010: val_loss improved from 0.37143 to 0.35670, saving model to weights_architecture_7.hdf5\n",
            "Epoch 11/50\n",
            " - 57s - loss: 0.2451 - acc: 0.9219 - val_loss: 0.4545 - val_acc: 0.7734\n",
            "\n",
            "Epoch 00011: val_loss did not improve from 0.35670\n",
            "Epoch 12/50\n",
            " - 55s - loss: 0.1980 - acc: 0.9344 - val_loss: 0.6970 - val_acc: 0.7500\n",
            "\n",
            "Epoch 00012: val_loss did not improve from 0.35670\n",
            "Epoch 13/50\n",
            " - 59s - loss: 0.3879 - acc: 0.8812 - val_loss: 0.2974 - val_acc: 0.9141\n",
            "\n",
            "Epoch 00013: val_loss improved from 0.35670 to 0.29737, saving model to weights_architecture_7.hdf5\n",
            "Epoch 14/50\n",
            " - 56s - loss: 0.3760 - acc: 0.8656 - val_loss: 0.3294 - val_acc: 0.8828\n",
            "\n",
            "Epoch 00014: val_loss did not improve from 0.29737\n",
            "Epoch 15/50\n",
            " - 56s - loss: 0.1813 - acc: 0.9594 - val_loss: 1.1021 - val_acc: 0.6094\n",
            "\n",
            "Epoch 00015: val_loss did not improve from 0.29737\n",
            "Epoch 16/50\n",
            " - 57s - loss: 0.2528 - acc: 0.9156 - val_loss: 1.6341 - val_acc: 0.5859\n",
            "\n",
            "Epoch 00016: val_loss did not improve from 0.29737\n",
            "Epoch 17/50\n",
            " - 57s - loss: 0.2954 - acc: 0.9062 - val_loss: 0.7207 - val_acc: 0.8068\n",
            "\n",
            "Epoch 00017: val_loss did not improve from 0.29737\n",
            "Epoch 18/50\n",
            " - 57s - loss: 0.2309 - acc: 0.9156 - val_loss: 0.6108 - val_acc: 0.7656\n",
            "\n",
            "Epoch 00018: val_loss did not improve from 0.29737\n",
            "Epoch 19/50\n",
            " - 56s - loss: 0.2553 - acc: 0.9188 - val_loss: 0.7207 - val_acc: 0.7188\n",
            "\n",
            "Epoch 00019: val_loss did not improve from 0.29737\n",
            "Epoch 20/50\n",
            " - 56s - loss: 0.2152 - acc: 0.9344 - val_loss: 1.2022 - val_acc: 0.6328\n",
            "\n",
            "Epoch 00020: val_loss did not improve from 0.29737\n",
            "Epoch 21/50\n",
            " - 57s - loss: 0.2231 - acc: 0.9188 - val_loss: 0.8118 - val_acc: 0.6406\n",
            "\n",
            "Epoch 00021: val_loss did not improve from 0.29737\n",
            "Epoch 22/50\n",
            " - 58s - loss: 0.2473 - acc: 0.9188 - val_loss: 0.2163 - val_acc: 0.9375\n",
            "\n",
            "Epoch 00022: val_loss improved from 0.29737 to 0.21630, saving model to weights_architecture_7.hdf5\n",
            "Epoch 23/50\n",
            " - 56s - loss: 0.2556 - acc: 0.9156 - val_loss: 0.4092 - val_acc: 0.8516\n",
            "\n",
            "Epoch 00023: val_loss did not improve from 0.21630\n",
            "Epoch 24/50\n",
            " - 56s - loss: 0.3326 - acc: 0.8812 - val_loss: 0.3969 - val_acc: 0.8594\n",
            "\n",
            "Epoch 00024: val_loss did not improve from 0.21630\n",
            "Epoch 25/50\n",
            " - 56s - loss: 0.3023 - acc: 0.9062 - val_loss: 0.5431 - val_acc: 0.8047\n",
            "\n",
            "Epoch 00025: val_loss did not improve from 0.21630\n",
            "Epoch 26/50\n",
            " - 55s - loss: 0.2114 - acc: 0.9156 - val_loss: 0.3293 - val_acc: 0.8594\n",
            "\n",
            "Epoch 00026: val_loss did not improve from 0.21630\n",
            "Epoch 27/50\n",
            " - 40s - loss: 0.2795 - acc: 0.8908 - val_loss: 0.4075 - val_acc: 0.8594\n",
            "\n",
            "Epoch 00027: val_loss did not improve from 0.21630\n",
            "Epoch 28/50\n",
            " - 1s - loss: 0.1911 - acc: 0.9469 - val_loss: 0.4558 - val_acc: 0.8750\n",
            "\n",
            "Epoch 00028: val_loss did not improve from 0.21630\n",
            "Epoch 29/50\n",
            " - 1s - loss: 0.2257 - acc: 0.9313 - val_loss: 0.5367 - val_acc: 0.8438\n",
            "\n",
            "Epoch 00029: val_loss did not improve from 0.21630\n",
            "Epoch 30/50\n",
            " - 1s - loss: 0.3003 - acc: 0.9094 - val_loss: 0.4797 - val_acc: 0.7891\n",
            "\n",
            "Epoch 00030: val_loss did not improve from 0.21630\n",
            "Epoch 31/50\n",
            " - 1s - loss: 0.2347 - acc: 0.9094 - val_loss: 0.4483 - val_acc: 0.8594\n",
            "\n",
            "Epoch 00031: val_loss did not improve from 0.21630\n",
            "Epoch 32/50\n",
            " - 1s - loss: 0.3330 - acc: 0.8875 - val_loss: 0.2012 - val_acc: 0.9375\n",
            "\n",
            "Epoch 00032: val_loss improved from 0.21630 to 0.20125, saving model to weights_architecture_7.hdf5\n",
            "Epoch 33/50\n",
            " - 1s - loss: 0.3103 - acc: 0.8781 - val_loss: 1.3206 - val_acc: 0.5703\n",
            "\n",
            "Epoch 00033: val_loss did not improve from 0.20125\n",
            "Epoch 34/50\n",
            " - 1s - loss: 0.2613 - acc: 0.9375 - val_loss: 0.2228 - val_acc: 0.9432\n",
            "\n",
            "Epoch 00034: val_loss did not improve from 0.20125\n",
            "Epoch 35/50\n",
            " - 1s - loss: 0.2900 - acc: 0.8937 - val_loss: 0.3152 - val_acc: 0.9062\n",
            "\n",
            "Epoch 00035: val_loss did not improve from 0.20125\n",
            "Epoch 36/50\n",
            " - 1s - loss: 0.2710 - acc: 0.9125 - val_loss: 0.2948 - val_acc: 0.9141\n",
            "\n",
            "Epoch 00036: val_loss did not improve from 0.20125\n",
            "Epoch 37/50\n",
            " - 1s - loss: 0.1554 - acc: 0.9375 - val_loss: 0.2081 - val_acc: 0.9297\n",
            "\n",
            "Epoch 00037: val_loss did not improve from 0.20125\n",
            "Epoch 38/50\n",
            " - 1s - loss: 0.1256 - acc: 0.9781 - val_loss: 0.2363 - val_acc: 0.9062\n",
            "\n",
            "Epoch 00038: val_loss did not improve from 0.20125\n",
            "Epoch 39/50\n",
            " - 1s - loss: 0.1405 - acc: 0.9531 - val_loss: 0.3841 - val_acc: 0.8750\n",
            "\n",
            "Epoch 00039: val_loss did not improve from 0.20125\n",
            "Epoch 40/50\n",
            " - 1s - loss: 0.2470 - acc: 0.9094 - val_loss: 0.3606 - val_acc: 0.8750\n",
            "\n",
            "Epoch 00040: val_loss did not improve from 0.20125\n",
            "Epoch 41/50\n",
            " - 1s - loss: 0.2342 - acc: 0.9188 - val_loss: 0.3477 - val_acc: 0.8594\n",
            "\n",
            "Epoch 00041: val_loss did not improve from 0.20125\n",
            "Epoch 42/50\n",
            " - 1s - loss: 0.2396 - acc: 0.9344 - val_loss: 0.5267 - val_acc: 0.8359\n",
            "\n",
            "Epoch 00042: val_loss did not improve from 0.20125\n",
            "Epoch 43/50\n",
            " - 1s - loss: 0.1952 - acc: 0.9406 - val_loss: 0.3345 - val_acc: 0.8984\n",
            "\n",
            "Epoch 00043: val_loss did not improve from 0.20125\n",
            "Epoch 44/50\n",
            " - 1s - loss: 0.2211 - acc: 0.9156 - val_loss: 0.2551 - val_acc: 0.9453\n",
            "\n",
            "Epoch 00044: val_loss did not improve from 0.20125\n",
            "Epoch 45/50\n",
            " - 1s - loss: 0.1731 - acc: 0.9625 - val_loss: 0.6390 - val_acc: 0.8203\n",
            "\n",
            "Epoch 00045: val_loss did not improve from 0.20125\n",
            "Epoch 46/50\n",
            " - 1s - loss: 0.2447 - acc: 0.9062 - val_loss: 0.3086 - val_acc: 0.8594\n",
            "\n",
            "Epoch 00046: val_loss did not improve from 0.20125\n",
            "Epoch 47/50\n",
            " - 1s - loss: 0.2399 - acc: 0.9250 - val_loss: 0.3970 - val_acc: 0.8828\n",
            "\n",
            "Epoch 00047: val_loss did not improve from 0.20125\n",
            "Epoch 48/50\n",
            " - 1s - loss: 0.2365 - acc: 0.9375 - val_loss: 0.1954 - val_acc: 0.9453\n",
            "\n",
            "Epoch 00048: val_loss improved from 0.20125 to 0.19537, saving model to weights_architecture_7.hdf5\n",
            "Epoch 49/50\n",
            " - 1s - loss: 0.2270 - acc: 0.9125 - val_loss: 0.0873 - val_acc: 0.9922\n",
            "\n",
            "Epoch 00049: val_loss improved from 0.19537 to 0.08730, saving model to weights_architecture_7.hdf5\n",
            "Epoch 50/50\n",
            " - 1s - loss: 0.2934 - acc: 0.8969 - val_loss: 1.7274 - val_acc: 0.5781\n",
            "\n",
            "Epoch 00050: val_loss did not improve from 0.08730\n"
          ],
          "name": "stdout"
        }
      ]
    },
    {
      "metadata": {
        "colab_type": "code",
        "outputId": "7bf89b5b-5832-4048-cba7-c387b926ba44",
        "id": "sy1RK1RR4l28",
        "colab": {
          "base_uri": "https://localhost:8080/",
          "height": 380
        }
      },
      "cell_type": "code",
      "source": [
        "# plotar loss e accuracy para os datasets 'train' e 'test'\n",
        "plt.style.use(\"ggplot\")\n",
        "plt.figure()\n",
        "plt.plot(training.history['acc'], label='Accuracy')\n",
        "plt.plot(training.history['loss'], label='Loss')\n",
        "plt.xlabel('Epochs')\n",
        "plt.ylabel('Accuracy')\n",
        "plt.title(\"Training Loss and Accuracy\")\n",
        "plt.ylabel(\"Loss/Accuracy\")\n",
        "plt.legend()\n",
        "plt.savefig('architecture_7.png', bbox_inches='tight')"
      ],
      "execution_count": 13,
      "outputs": [
        {
          "output_type": "display_data",
          "data": {
            "image/png": "[encoded data removed]",
            "text/plain": [
              "<matplotlib.figure.Figure at 0x7f92a59c5e10>"
            ]
          },
          "metadata": {
            "tags": []
          }
        }
      ]
    },
    {
      "metadata": {
        "colab_type": "code",
        "id": "QIKQMVsI4l3E",
        "colab": {}
      },
      "cell_type": "code",
      "source": [
        "model.load_weights('weights_architecture_7.hdf5')"
      ],
      "execution_count": 0,
      "outputs": []
    },
    {
      "metadata": {
        "colab_type": "code",
        "outputId": "6ae3a31d-34fd-425b-c9db-401319e13079",
        "id": "qPguZfCk4l3I",
        "colab": {
          "base_uri": "https://localhost:8080/",
          "height": 35
        }
      },
      "cell_type": "code",
      "source": [
        "results['architecture_7'] = model.evaluate_generator(test_batches, steps=bSize, use_multiprocessing=True, verbose=1)"
      ],
      "execution_count": 15,
      "outputs": [
        {
          "output_type": "stream",
          "text": [
            "32/32 [==============================] - 352s 11s/step\n"
          ],
          "name": "stdout"
        }
      ]
    },
    {
      "metadata": {
        "colab_type": "code",
        "outputId": "acef20c8-d973-45eb-c608-0c921987704d",
        "id": "9-WWBwrQ4l3V",
        "colab": {
          "base_uri": "https://localhost:8080/",
          "height": 35
        }
      },
      "cell_type": "code",
      "source": [
        "print('Test Loss: {} | Test Accuracy: {:.2f}%'.format(results['architecture_7'][0], 100 * results['architecture_7'][1]))"
      ],
      "execution_count": 16,
      "outputs": [
        {
          "output_type": "stream",
          "text": [
            "Test Loss: 0.2244592155329883 | Test Accuracy: 92.72%\n"
          ],
          "name": "stdout"
        }
      ]
    },
    {
      "metadata": {
        "id": "xBqqHjZrnDFP",
        "colab_type": "text"
      },
      "cell_type": "markdown",
      "source": [
        "### 8 tentativa Accuracy: 87.79%"
      ]
    },
    {
      "metadata": {
        "colab_type": "text",
        "id": "3Qg1zWbo5W6V"
      },
      "cell_type": "markdown",
      "source": [
        "Modelo adaptado do **Lucas Albertins**\n",
        "\n",
        "*   Função **Adadelta** para compilação\n"
      ]
    },
    {
      "metadata": {
        "colab_type": "code",
        "id": "MvjKH9LWpGsi",
        "colab": {}
      },
      "cell_type": "code",
      "source": [
        "from keras.layers import Conv2D, MaxPooling2D, GlobalMaxPooling2D, BatchNormalization\n",
        "from keras.regularizers import l2\n",
        "from keras.optimizers import Adadelta\n",
        "\n",
        "model = Sequential()\n",
        "\n",
        "model.add(Conv2D(32, (3, 3), activation='relu', kernel_regularizer=l2(1e-4), \n",
        "                 input_shape=(None, None, 3)))\n",
        "model.add(BatchNormalization())\n",
        "model.add(Conv2D(32, (3, 3), activation='relu', kernel_regularizer=l2(1e-4)))\n",
        "model.add(BatchNormalization())\n",
        "model.add(MaxPooling2D((2, 2)))\n",
        "model.add(Dropout(0.25))\n",
        "\n",
        "model.add(Conv2D(64, (3, 3), activation='relu', kernel_regularizer=l2(1e-4)))\n",
        "model.add(BatchNormalization())\n",
        "model.add(Conv2D(64, (3, 3), activation='relu', kernel_regularizer=l2(1e-4)))\n",
        "model.add(BatchNormalization())\n",
        "model.add(MaxPooling2D((2, 2)))\n",
        "model.add(Dropout(0.25))\n",
        "\n",
        "model.add(Conv2D(128, (1,1), kernel_regularizer=l2(1e-4)))\n",
        "model.add(GlobalMaxPooling2D())\n",
        "\n",
        "model.add(Dense(256, activation='relu', kernel_regularizer=l2(1e-4)))\n",
        "model.add(Dropout(0.5))\n",
        "model.add(Dense(2, activation='sigmoid', kernel_regularizer=l2(1e-4)))"
      ],
      "execution_count": 0,
      "outputs": []
    },
    {
      "metadata": {
        "colab_type": "code",
        "id": "civjmdynpGsy",
        "colab": {}
      },
      "cell_type": "code",
      "source": [
        "model.compile(Adadelta(lr=1.0, rho=0.95, epsilon=None, decay=0.0), \n",
        "              loss='binary_crossentropy', metrics=['accuracy'])"
      ],
      "execution_count": 0,
      "outputs": []
    },
    {
      "metadata": {
        "colab_type": "code",
        "id": "X2jVqVfE5iN7",
        "colab": {}
      },
      "cell_type": "code",
      "source": [
        "checkpointer = ModelCheckpoint(filepath='weights_architecture_8.hdf5', verbose=1, save_best_only=True)"
      ],
      "execution_count": 0,
      "outputs": []
    },
    {
      "metadata": {
        "colab_type": "code",
        "outputId": "e000d3ca-d1c8-471a-d035-839064bc0bdb",
        "id": "w7LbZJly5iOF",
        "colab": {
          "base_uri": "https://localhost:8080/",
          "height": 3690
        }
      },
      "cell_type": "code",
      "source": [
        "training = model.fit_generator(train_batches, steps_per_epoch=stepsPerEpoche, \n",
        "                   validation_data=validation_batches, validation_steps=validationSteps,\n",
        "                   epochs=50, verbose=2, callbacks=[checkpointer])"
      ],
      "execution_count": 20,
      "outputs": [
        {
          "output_type": "stream",
          "text": [
            "Epoch 1/50\n",
            " - 3s - loss: 1.0651 - acc: 0.6562 - val_loss: 0.8945 - val_acc: 0.6719\n",
            "\n",
            "Epoch 00001: val_loss improved from inf to 0.89452, saving model to weights_architecture_8.hdf5\n",
            "Epoch 2/50\n",
            " - 1s - loss: 0.7159 - acc: 0.7625 - val_loss: 0.5161 - val_acc: 0.8125\n",
            "\n",
            "Epoch 00002: val_loss improved from 0.89452 to 0.51606, saving model to weights_architecture_8.hdf5\n",
            "Epoch 3/50\n",
            " - 1s - loss: 0.6157 - acc: 0.7844 - val_loss: 0.4118 - val_acc: 0.8203\n",
            "\n",
            "Epoch 00003: val_loss improved from 0.51606 to 0.41182, saving model to weights_architecture_8.hdf5\n",
            "Epoch 4/50\n",
            " - 1s - loss: 0.4913 - acc: 0.8402 - val_loss: 0.5272 - val_acc: 0.7266\n",
            "\n",
            "Epoch 00004: val_loss did not improve from 0.41182\n",
            "Epoch 5/50\n",
            " - 1s - loss: 0.5695 - acc: 0.7719 - val_loss: 0.7433 - val_acc: 0.6641\n",
            "\n",
            "Epoch 00005: val_loss did not improve from 0.41182\n",
            "Epoch 6/50\n",
            " - 1s - loss: 0.4062 - acc: 0.8469 - val_loss: 0.5129 - val_acc: 0.7969\n",
            "\n",
            "Epoch 00006: val_loss did not improve from 0.41182\n",
            "Epoch 7/50\n",
            " - 1s - loss: 0.3441 - acc: 0.8906 - val_loss: 0.3281 - val_acc: 0.9141\n",
            "\n",
            "Epoch 00007: val_loss improved from 0.41182 to 0.32805, saving model to weights_architecture_8.hdf5\n",
            "Epoch 8/50\n",
            " - 1s - loss: 0.4367 - acc: 0.8406 - val_loss: 0.8057 - val_acc: 0.5625\n",
            "\n",
            "Epoch 00008: val_loss did not improve from 0.32805\n",
            "Epoch 9/50\n",
            " - 1s - loss: 0.3153 - acc: 0.8750 - val_loss: 0.6810 - val_acc: 0.6484\n",
            "\n",
            "Epoch 00009: val_loss did not improve from 0.32805\n",
            "Epoch 10/50\n",
            " - 1s - loss: 0.3781 - acc: 0.8781 - val_loss: 0.7272 - val_acc: 0.6406\n",
            "\n",
            "Epoch 00010: val_loss did not improve from 0.32805\n",
            "Epoch 11/50\n",
            " - 1s - loss: 0.3993 - acc: 0.8625 - val_loss: 0.4957 - val_acc: 0.7578\n",
            "\n",
            "Epoch 00011: val_loss did not improve from 0.32805\n",
            "Epoch 12/50\n",
            " - 1s - loss: 0.3215 - acc: 0.8688 - val_loss: 0.4332 - val_acc: 0.8281\n",
            "\n",
            "Epoch 00012: val_loss did not improve from 0.32805\n",
            "Epoch 13/50\n",
            " - 1s - loss: 0.2775 - acc: 0.9031 - val_loss: 0.3562 - val_acc: 0.8523\n",
            "\n",
            "Epoch 00013: val_loss did not improve from 0.32805\n",
            "Epoch 14/50\n",
            " - 1s - loss: 0.2818 - acc: 0.9031 - val_loss: 0.5061 - val_acc: 0.7734\n",
            "\n",
            "Epoch 00014: val_loss did not improve from 0.32805\n",
            "Epoch 15/50\n",
            " - 1s - loss: 0.2014 - acc: 0.9469 - val_loss: 0.7605 - val_acc: 0.6641\n",
            "\n",
            "Epoch 00015: val_loss did not improve from 0.32805\n",
            "Epoch 16/50\n",
            " - 1s - loss: 0.4169 - acc: 0.8656 - val_loss: 0.4982 - val_acc: 0.7422\n",
            "\n",
            "Epoch 00016: val_loss did not improve from 0.32805\n",
            "Epoch 17/50\n",
            " - 1s - loss: 0.4169 - acc: 0.8406 - val_loss: 0.9724 - val_acc: 0.4844\n",
            "\n",
            "Epoch 00017: val_loss did not improve from 0.32805\n",
            "Epoch 18/50\n",
            " - 1s - loss: 0.3732 - acc: 0.8531 - val_loss: 0.5267 - val_acc: 0.7812\n",
            "\n",
            "Epoch 00018: val_loss did not improve from 0.32805\n",
            "Epoch 19/50\n",
            " - 1s - loss: 0.3323 - acc: 0.8875 - val_loss: 1.0289 - val_acc: 0.5781\n",
            "\n",
            "Epoch 00019: val_loss did not improve from 0.32805\n",
            "Epoch 20/50\n",
            " - 1s - loss: 0.3200 - acc: 0.8750 - val_loss: 0.5713 - val_acc: 0.7188\n",
            "\n",
            "Epoch 00020: val_loss did not improve from 0.32805\n",
            "Epoch 21/50\n",
            " - 1s - loss: 0.2692 - acc: 0.9094 - val_loss: 0.6176 - val_acc: 0.6484\n",
            "\n",
            "Epoch 00021: val_loss did not improve from 0.32805\n",
            "Epoch 22/50\n",
            " - 1s - loss: 0.2909 - acc: 0.8969 - val_loss: 0.5862 - val_acc: 0.6797\n",
            "\n",
            "Epoch 00022: val_loss did not improve from 0.32805\n",
            "Epoch 23/50\n",
            " - 1s - loss: 0.3113 - acc: 0.8844 - val_loss: 0.6220 - val_acc: 0.6641\n",
            "\n",
            "Epoch 00023: val_loss did not improve from 0.32805\n",
            "Epoch 24/50\n",
            " - 1s - loss: 0.3583 - acc: 0.8750 - val_loss: 0.3985 - val_acc: 0.8359\n",
            "\n",
            "Epoch 00024: val_loss did not improve from 0.32805\n",
            "Epoch 25/50\n",
            " - 1s - loss: 0.2768 - acc: 0.9219 - val_loss: 0.4957 - val_acc: 0.7891\n",
            "\n",
            "Epoch 00025: val_loss did not improve from 0.32805\n",
            "Epoch 26/50\n",
            " - 1s - loss: 0.2201 - acc: 0.9188 - val_loss: 0.4421 - val_acc: 0.8047\n",
            "\n",
            "Epoch 00026: val_loss did not improve from 0.32805\n",
            "Epoch 27/50\n",
            " - 1s - loss: 0.3551 - acc: 0.8625 - val_loss: 0.5360 - val_acc: 0.7500\n",
            "\n",
            "Epoch 00027: val_loss did not improve from 0.32805\n",
            "Epoch 28/50\n",
            " - 1s - loss: 0.2343 - acc: 0.9281 - val_loss: 0.6248 - val_acc: 0.6562\n",
            "\n",
            "Epoch 00028: val_loss did not improve from 0.32805\n",
            "Epoch 29/50\n",
            " - 1s - loss: 0.2381 - acc: 0.9219 - val_loss: 0.9990 - val_acc: 0.5000\n",
            "\n",
            "Epoch 00029: val_loss did not improve from 0.32805\n",
            "Epoch 30/50\n",
            " - 1s - loss: 0.2910 - acc: 0.8639 - val_loss: 0.6790 - val_acc: 0.5909\n",
            "\n",
            "Epoch 00030: val_loss did not improve from 0.32805\n",
            "Epoch 31/50\n",
            " - 1s - loss: 0.2880 - acc: 0.9000 - val_loss: 0.6193 - val_acc: 0.6875\n",
            "\n",
            "Epoch 00031: val_loss did not improve from 0.32805\n",
            "Epoch 32/50\n",
            " - 1s - loss: 0.4136 - acc: 0.8312 - val_loss: 0.4301 - val_acc: 0.8672\n",
            "\n",
            "Epoch 00032: val_loss did not improve from 0.32805\n",
            "Epoch 33/50\n",
            " - 1s - loss: 0.2937 - acc: 0.8969 - val_loss: 0.5713 - val_acc: 0.6875\n",
            "\n",
            "Epoch 00033: val_loss did not improve from 0.32805\n",
            "Epoch 34/50\n",
            " - 1s - loss: 0.2041 - acc: 0.9375 - val_loss: 0.7712 - val_acc: 0.5781\n",
            "\n",
            "Epoch 00034: val_loss did not improve from 0.32805\n",
            "Epoch 35/50\n",
            " - 1s - loss: 0.3662 - acc: 0.8688 - val_loss: 0.6388 - val_acc: 0.6094\n",
            "\n",
            "Epoch 00035: val_loss did not improve from 0.32805\n",
            "Epoch 36/50\n",
            " - 1s - loss: 0.2906 - acc: 0.8781 - val_loss: 0.8132 - val_acc: 0.5391\n",
            "\n",
            "Epoch 00036: val_loss did not improve from 0.32805\n",
            "Epoch 37/50\n",
            " - 1s - loss: 0.3299 - acc: 0.8688 - val_loss: 1.2760 - val_acc: 0.5156\n",
            "\n",
            "Epoch 00037: val_loss did not improve from 0.32805\n",
            "Epoch 38/50\n",
            " - 1s - loss: 0.3843 - acc: 0.8781 - val_loss: 0.5459 - val_acc: 0.7734\n",
            "\n",
            "Epoch 00038: val_loss did not improve from 0.32805\n",
            "Epoch 39/50\n",
            " - 1s - loss: 0.4385 - acc: 0.8563 - val_loss: 0.3537 - val_acc: 0.8672\n",
            "\n",
            "Epoch 00039: val_loss did not improve from 0.32805\n",
            "Epoch 40/50\n",
            " - 1s - loss: 0.2650 - acc: 0.9031 - val_loss: 1.3722 - val_acc: 0.4062\n",
            "\n",
            "Epoch 00040: val_loss did not improve from 0.32805\n",
            "Epoch 41/50\n",
            " - 1s - loss: 0.2972 - acc: 0.9125 - val_loss: 0.2416 - val_acc: 0.9297\n",
            "\n",
            "Epoch 00041: val_loss improved from 0.32805 to 0.24161, saving model to weights_architecture_8.hdf5\n",
            "Epoch 42/50\n",
            " - 1s - loss: 0.3035 - acc: 0.8906 - val_loss: 0.4193 - val_acc: 0.8281\n",
            "\n",
            "Epoch 00042: val_loss did not improve from 0.24161\n",
            "Epoch 43/50\n",
            " - 1s - loss: 0.2088 - acc: 0.9437 - val_loss: 0.3757 - val_acc: 0.8750\n",
            "\n",
            "Epoch 00043: val_loss did not improve from 0.24161\n",
            "Epoch 44/50\n",
            " - 1s - loss: 0.3168 - acc: 0.8969 - val_loss: 0.4207 - val_acc: 0.8594\n",
            "\n",
            "Epoch 00044: val_loss did not improve from 0.24161\n",
            "Epoch 45/50\n",
            " - 1s - loss: 0.2216 - acc: 0.9469 - val_loss: 0.3411 - val_acc: 0.8750\n",
            "\n",
            "Epoch 00045: val_loss did not improve from 0.24161\n",
            "Epoch 46/50\n",
            " - 1s - loss: 0.2208 - acc: 0.9156 - val_loss: 0.5528 - val_acc: 0.7812\n",
            "\n",
            "Epoch 00046: val_loss did not improve from 0.24161\n",
            "Epoch 47/50\n",
            " - 1s - loss: 0.3160 - acc: 0.8906 - val_loss: 0.6866 - val_acc: 0.6136\n",
            "\n",
            "Epoch 00047: val_loss did not improve from 0.24161\n",
            "Epoch 48/50\n",
            " - 1s - loss: 0.2728 - acc: 0.8937 - val_loss: 0.3348 - val_acc: 0.9375\n",
            "\n",
            "Epoch 00048: val_loss did not improve from 0.24161\n",
            "Epoch 49/50\n",
            " - 1s - loss: 0.2627 - acc: 0.9031 - val_loss: 0.3308 - val_acc: 0.8672\n",
            "\n",
            "Epoch 00049: val_loss did not improve from 0.24161\n",
            "Epoch 50/50\n",
            " - 1s - loss: 0.3620 - acc: 0.9125 - val_loss: 0.3045 - val_acc: 0.8750\n",
            "\n",
            "Epoch 00050: val_loss did not improve from 0.24161\n"
          ],
          "name": "stdout"
        }
      ]
    },
    {
      "metadata": {
        "colab_type": "code",
        "id": "h8cGfOxz5iOR",
        "outputId": "8ebafeef-c0fb-42ec-bb34-d183020037e9",
        "colab": {
          "base_uri": "https://localhost:8080/",
          "height": 380
        }
      },
      "cell_type": "code",
      "source": [
        "# plotar loss e accuracy para os datasets 'train' e 'test'\n",
        "plt.style.use(\"ggplot\")\n",
        "plt.figure()\n",
        "plt.plot(training.history['acc'], label='Accuracy')\n",
        "plt.plot(training.history['loss'], label='Loss')\n",
        "plt.xlabel('Epochs')\n",
        "plt.ylabel('Accuracy')\n",
        "plt.title(\"Training Loss and Accuracy\")\n",
        "plt.ylabel(\"Loss/Accuracy\")\n",
        "plt.legend()\n",
        "plt.savefig('architecture_8.png', bbox_inches='tight')"
      ],
      "execution_count": 21,
      "outputs": [
        {
          "output_type": "display_data",
          "data": {
            "image/png": "[encoded data removed]",
            "text/plain": [
              "<matplotlib.figure.Figure at 0x7f92a3764908>"
            ]
          },
          "metadata": {
            "tags": []
          }
        }
      ]
    },
    {
      "metadata": {
        "colab_type": "code",
        "id": "EfQMTY5Z5iOW",
        "colab": {}
      },
      "cell_type": "code",
      "source": [
        "model.load_weights('weights_architecture_8.hdf5')"
      ],
      "execution_count": 0,
      "outputs": []
    },
    {
      "metadata": {
        "colab_type": "code",
        "id": "Zmtm1Uga5iOb",
        "outputId": "9a84a149-8bad-4beb-9f41-6be9549d34b4",
        "colab": {
          "base_uri": "https://localhost:8080/",
          "height": 35
        }
      },
      "cell_type": "code",
      "source": [
        "results['architecture_8'] = model.evaluate_generator(test_batches, steps=bSize, use_multiprocessing=True, verbose=1)"
      ],
      "execution_count": 23,
      "outputs": [
        {
          "output_type": "stream",
          "text": [
            "32/32 [==============================] - 34s 1s/step\n"
          ],
          "name": "stdout"
        }
      ]
    },
    {
      "metadata": {
        "colab_type": "code",
        "id": "ry8LV6fw5iOf",
        "outputId": "0c7f5afe-343b-4911-f1ba-05bf8598016d",
        "colab": {
          "base_uri": "https://localhost:8080/",
          "height": 35
        }
      },
      "cell_type": "code",
      "source": [
        "print('Test Loss: {} | Test Accuracy: {:.2f}%'.format(results['architecture_8'][0], 100 * results['architecture_8'][1]))"
      ],
      "execution_count": 24,
      "outputs": [
        {
          "output_type": "stream",
          "text": [
            "Test Loss: 0.3724281615577638 | Test Accuracy: 87.79%\n"
          ],
          "name": "stdout"
        }
      ]
    },
    {
      "metadata": {
        "id": "csBCokNgxgbn",
        "colab_type": "text"
      },
      "cell_type": "markdown",
      "source": [
        "### 9 tentativa Accuracy: 88.67%"
      ]
    },
    {
      "metadata": {
        "colab_type": "text",
        "id": "qLtNH8xk63El"
      },
      "cell_type": "markdown",
      "source": [
        "Modelo adaptado do **Lucas Albertins**\n",
        "\n",
        "*   Função **SGD** para compilação\n"
      ]
    },
    {
      "metadata": {
        "colab_type": "code",
        "id": "EJjS6pK1xj1f",
        "colab": {}
      },
      "cell_type": "code",
      "source": [
        "from keras.layers import Conv2D, MaxPooling2D, GlobalMaxPooling2D, BatchNormalization\n",
        "from keras.regularizers import l2\n",
        "\n",
        "model = Sequential()\n",
        "\n",
        "model.add(Conv2D(32, (3, 3), activation='relu', kernel_regularizer=l2(1e-4), \n",
        "                 input_shape=(None, None, 3)))\n",
        "model.add(BatchNormalization())\n",
        "model.add(Conv2D(32, (3, 3), activation='relu', kernel_regularizer=l2(1e-4)))\n",
        "model.add(BatchNormalization())\n",
        "model.add(MaxPooling2D((2, 2)))\n",
        "model.add(Dropout(0.25))\n",
        "\n",
        "model.add(Conv2D(64, (3, 3), activation='relu', kernel_regularizer=l2(1e-4)))\n",
        "model.add(BatchNormalization())\n",
        "model.add(Conv2D(64, (3, 3), activation='relu', kernel_regularizer=l2(1e-4)))\n",
        "model.add(BatchNormalization())\n",
        "model.add(MaxPooling2D((2, 2)))\n",
        "model.add(Dropout(0.25))\n",
        "\n",
        "model.add(Conv2D(128, (1,1), kernel_regularizer=l2(1e-4)))\n",
        "model.add(GlobalMaxPooling2D())\n",
        "\n",
        "model.add(Dense(256, activation='relu', kernel_regularizer=l2(1e-4)))\n",
        "model.add(Dropout(0.5))\n",
        "model.add(Dense(2, activation='sigmoid', kernel_regularizer=l2(1e-4)))"
      ],
      "execution_count": 0,
      "outputs": []
    },
    {
      "metadata": {
        "colab_type": "code",
        "id": "9ezdguEZxsWT",
        "colab": {}
      },
      "cell_type": "code",
      "source": [
        "model.compile(SGD(lr=0.03, momentum=0.0, decay=0.0, nesterov=False), \n",
        "              loss='binary_crossentropy', metrics=['accuracy'])"
      ],
      "execution_count": 0,
      "outputs": []
    },
    {
      "metadata": {
        "colab_type": "code",
        "id": "yADpSLiz6XOs",
        "colab": {}
      },
      "cell_type": "code",
      "source": [
        "checkpointer = ModelCheckpoint(filepath='weights_architecture_9.hdf5', verbose=1, save_best_only=True)"
      ],
      "execution_count": 0,
      "outputs": []
    },
    {
      "metadata": {
        "colab_type": "code",
        "outputId": "1dfee5a9-86d6-41b1-91ce-c2c46422f014",
        "id": "6jYgi71R6XO2",
        "colab": {
          "base_uri": "https://localhost:8080/",
          "height": 3690
        }
      },
      "cell_type": "code",
      "source": [
        "training = model.fit_generator(train_batches, steps_per_epoch=stepsPerEpoche, \n",
        "                   validation_data=validation_batches, validation_steps=validationSteps,\n",
        "                   epochs=50, verbose=2, callbacks=[checkpointer])"
      ],
      "execution_count": 28,
      "outputs": [
        {
          "output_type": "stream",
          "text": [
            "Epoch 1/50\n",
            " - 3s - loss: 1.4287 - acc: 0.5938 - val_loss: 0.5952 - val_acc: 0.8359\n",
            "\n",
            "Epoch 00001: val_loss improved from inf to 0.59519, saving model to weights_architecture_9.hdf5\n",
            "Epoch 2/50\n",
            " - 0s - loss: 0.9965 - acc: 0.7062 - val_loss: 0.6454 - val_acc: 0.6328\n",
            "\n",
            "Epoch 00002: val_loss did not improve from 0.59519\n",
            "Epoch 3/50\n",
            " - 0s - loss: 0.6175 - acc: 0.7438 - val_loss: 0.6154 - val_acc: 0.6719\n",
            "\n",
            "Epoch 00003: val_loss did not improve from 0.59519\n",
            "Epoch 4/50\n",
            " - 0s - loss: 0.3960 - acc: 0.8469 - val_loss: 0.3871 - val_acc: 0.8906\n",
            "\n",
            "Epoch 00004: val_loss improved from 0.59519 to 0.38713, saving model to weights_architecture_9.hdf5\n",
            "Epoch 5/50\n",
            " - 0s - loss: 0.5977 - acc: 0.8219 - val_loss: 0.4341 - val_acc: 0.8672\n",
            "\n",
            "Epoch 00005: val_loss did not improve from 0.38713\n",
            "Epoch 6/50\n",
            " - 0s - loss: 0.4357 - acc: 0.8250 - val_loss: 0.8468 - val_acc: 0.5234\n",
            "\n",
            "Epoch 00006: val_loss did not improve from 0.38713\n",
            "Epoch 7/50\n",
            " - 0s - loss: 0.4609 - acc: 0.8165 - val_loss: 0.5362 - val_acc: 0.7422\n",
            "\n",
            "Epoch 00007: val_loss did not improve from 0.38713\n",
            "Epoch 8/50\n",
            " - 1s - loss: 0.5703 - acc: 0.7969 - val_loss: 0.6695 - val_acc: 0.6797\n",
            "\n",
            "Epoch 00008: val_loss did not improve from 0.38713\n",
            "Epoch 9/50\n",
            " - 1s - loss: 0.4153 - acc: 0.8563 - val_loss: 0.4467 - val_acc: 0.8295\n",
            "\n",
            "Epoch 00009: val_loss did not improve from 0.38713\n",
            "Epoch 10/50\n",
            " - 1s - loss: 0.3323 - acc: 0.8937 - val_loss: 0.8965 - val_acc: 0.5625\n",
            "\n",
            "Epoch 00010: val_loss did not improve from 0.38713\n",
            "Epoch 11/50\n",
            " - 1s - loss: 0.4023 - acc: 0.8438 - val_loss: 0.7044 - val_acc: 0.5938\n",
            "\n",
            "Epoch 00011: val_loss did not improve from 0.38713\n",
            "Epoch 12/50\n",
            " - 1s - loss: 0.3362 - acc: 0.8625 - val_loss: 0.4265 - val_acc: 0.8516\n",
            "\n",
            "Epoch 00012: val_loss did not improve from 0.38713\n",
            "Epoch 13/50\n",
            " - 1s - loss: 0.3028 - acc: 0.9000 - val_loss: 0.5380 - val_acc: 0.7109\n",
            "\n",
            "Epoch 00013: val_loss did not improve from 0.38713\n",
            "Epoch 14/50\n",
            " - 1s - loss: 0.3434 - acc: 0.8844 - val_loss: 1.1891 - val_acc: 0.4688\n",
            "\n",
            "Epoch 00014: val_loss did not improve from 0.38713\n",
            "Epoch 15/50\n",
            " - 1s - loss: 0.3980 - acc: 0.8594 - val_loss: 0.5209 - val_acc: 0.7500\n",
            "\n",
            "Epoch 00015: val_loss did not improve from 0.38713\n",
            "Epoch 16/50\n",
            " - 1s - loss: 0.4124 - acc: 0.8500 - val_loss: 0.5813 - val_acc: 0.7031\n",
            "\n",
            "Epoch 00016: val_loss did not improve from 0.38713\n",
            "Epoch 17/50\n",
            " - 1s - loss: 0.3838 - acc: 0.8438 - val_loss: 0.7221 - val_acc: 0.5781\n",
            "\n",
            "Epoch 00017: val_loss did not improve from 0.38713\n",
            "Epoch 18/50\n",
            " - 1s - loss: 0.3711 - acc: 0.8844 - val_loss: 0.5828 - val_acc: 0.7188\n",
            "\n",
            "Epoch 00018: val_loss did not improve from 0.38713\n",
            "Epoch 19/50\n",
            " - 1s - loss: 0.2331 - acc: 0.9313 - val_loss: 0.2877 - val_acc: 0.9141\n",
            "\n",
            "Epoch 00019: val_loss improved from 0.38713 to 0.28771, saving model to weights_architecture_9.hdf5\n",
            "Epoch 20/50\n",
            " - 1s - loss: 0.4077 - acc: 0.8406 - val_loss: 0.6937 - val_acc: 0.6094\n",
            "\n",
            "Epoch 00020: val_loss did not improve from 0.28771\n",
            "Epoch 21/50\n",
            " - 1s - loss: 0.2016 - acc: 0.9375 - val_loss: 0.5428 - val_acc: 0.7422\n",
            "\n",
            "Epoch 00021: val_loss did not improve from 0.28771\n",
            "Epoch 22/50\n",
            " - 1s - loss: 0.3538 - acc: 0.8688 - val_loss: 0.5595 - val_acc: 0.7422\n",
            "\n",
            "Epoch 00022: val_loss did not improve from 0.28771\n",
            "Epoch 23/50\n",
            " - 1s - loss: 0.2504 - acc: 0.9406 - val_loss: 0.3465 - val_acc: 0.8828\n",
            "\n",
            "Epoch 00023: val_loss did not improve from 0.28771\n",
            "Epoch 24/50\n",
            " - 1s - loss: 0.3799 - acc: 0.8563 - val_loss: 0.4938 - val_acc: 0.8047\n",
            "\n",
            "Epoch 00024: val_loss did not improve from 0.28771\n",
            "Epoch 25/50\n",
            " - 1s - loss: 0.2513 - acc: 0.9281 - val_loss: 0.3999 - val_acc: 0.8672\n",
            "\n",
            "Epoch 00025: val_loss did not improve from 0.28771\n",
            "Epoch 26/50\n",
            " - 1s - loss: 0.2273 - acc: 0.9250 - val_loss: 0.5573 - val_acc: 0.7045\n",
            "\n",
            "Epoch 00026: val_loss did not improve from 0.28771\n",
            "Epoch 27/50\n",
            " - 1s - loss: 0.2517 - acc: 0.9219 - val_loss: 0.2899 - val_acc: 0.9141\n",
            "\n",
            "Epoch 00027: val_loss did not improve from 0.28771\n",
            "Epoch 28/50\n",
            " - 1s - loss: 0.2485 - acc: 0.9125 - val_loss: 0.3750 - val_acc: 0.8984\n",
            "\n",
            "Epoch 00028: val_loss did not improve from 0.28771\n",
            "Epoch 29/50\n",
            " - 1s - loss: 0.2636 - acc: 0.9094 - val_loss: 0.3473 - val_acc: 0.8906\n",
            "\n",
            "Epoch 00029: val_loss did not improve from 0.28771\n",
            "Epoch 30/50\n",
            " - 1s - loss: 0.3814 - acc: 0.8969 - val_loss: 0.6169 - val_acc: 0.6562\n",
            "\n",
            "Epoch 00030: val_loss did not improve from 0.28771\n",
            "Epoch 31/50\n",
            " - 1s - loss: 0.2907 - acc: 0.8875 - val_loss: 0.4191 - val_acc: 0.8125\n",
            "\n",
            "Epoch 00031: val_loss did not improve from 0.28771\n",
            "Epoch 32/50\n",
            " - 1s - loss: 0.3268 - acc: 0.8812 - val_loss: 0.7168 - val_acc: 0.7109\n",
            "\n",
            "Epoch 00032: val_loss did not improve from 0.28771\n",
            "Epoch 33/50\n",
            " - 1s - loss: 0.2367 - acc: 0.9375 - val_loss: 0.5751 - val_acc: 0.7656\n",
            "\n",
            "Epoch 00033: val_loss did not improve from 0.28771\n",
            "Epoch 34/50\n",
            " - 1s - loss: 0.2637 - acc: 0.9050 - val_loss: 0.7113 - val_acc: 0.7109\n",
            "\n",
            "Epoch 00034: val_loss did not improve from 0.28771\n",
            "Epoch 35/50\n",
            " - 1s - loss: 0.3119 - acc: 0.9125 - val_loss: 0.6750 - val_acc: 0.6562\n",
            "\n",
            "Epoch 00035: val_loss did not improve from 0.28771\n",
            "Epoch 36/50\n",
            " - 1s - loss: 0.3026 - acc: 0.8781 - val_loss: 0.7686 - val_acc: 0.6016\n",
            "\n",
            "Epoch 00036: val_loss did not improve from 0.28771\n",
            "Epoch 37/50\n",
            " - 1s - loss: 0.1995 - acc: 0.9437 - val_loss: 0.5708 - val_acc: 0.6875\n",
            "\n",
            "Epoch 00037: val_loss did not improve from 0.28771\n",
            "Epoch 38/50\n",
            " - 1s - loss: 0.3942 - acc: 0.8688 - val_loss: 0.4543 - val_acc: 0.8203\n",
            "\n",
            "Epoch 00038: val_loss did not improve from 0.28771\n",
            "Epoch 39/50\n",
            " - 1s - loss: 0.4074 - acc: 0.8750 - val_loss: 0.5696 - val_acc: 0.6875\n",
            "\n",
            "Epoch 00039: val_loss did not improve from 0.28771\n",
            "Epoch 40/50\n",
            " - 1s - loss: 0.3247 - acc: 0.8469 - val_loss: 0.8873 - val_acc: 0.5391\n",
            "\n",
            "Epoch 00040: val_loss did not improve from 0.28771\n",
            "Epoch 41/50\n",
            " - 1s - loss: 0.3283 - acc: 0.8781 - val_loss: 0.3846 - val_acc: 0.8672\n",
            "\n",
            "Epoch 00041: val_loss did not improve from 0.28771\n",
            "Epoch 42/50\n",
            " - 1s - loss: 0.2621 - acc: 0.9125 - val_loss: 0.3918 - val_acc: 0.8672\n",
            "\n",
            "Epoch 00042: val_loss did not improve from 0.28771\n",
            "Epoch 43/50\n",
            " - 1s - loss: 0.2477 - acc: 0.9250 - val_loss: 0.7996 - val_acc: 0.5682\n",
            "\n",
            "Epoch 00043: val_loss did not improve from 0.28771\n",
            "Epoch 44/50\n",
            " - 1s - loss: 0.2454 - acc: 0.9188 - val_loss: 0.3791 - val_acc: 0.8750\n",
            "\n",
            "Epoch 00044: val_loss did not improve from 0.28771\n",
            "Epoch 45/50\n",
            " - 1s - loss: 0.2970 - acc: 0.9094 - val_loss: 0.4254 - val_acc: 0.8516\n",
            "\n",
            "Epoch 00045: val_loss did not improve from 0.28771\n",
            "Epoch 46/50\n",
            " - 1s - loss: 0.3896 - acc: 0.8469 - val_loss: 0.7254 - val_acc: 0.6094\n",
            "\n",
            "Epoch 00046: val_loss did not improve from 0.28771\n",
            "Epoch 47/50\n",
            " - 1s - loss: 0.3139 - acc: 0.8719 - val_loss: 0.6431 - val_acc: 0.7734\n",
            "\n",
            "Epoch 00047: val_loss did not improve from 0.28771\n",
            "Epoch 48/50\n",
            " - 1s - loss: 0.2869 - acc: 0.9156 - val_loss: 0.6467 - val_acc: 0.8203\n",
            "\n",
            "Epoch 00048: val_loss did not improve from 0.28771\n",
            "Epoch 49/50\n",
            " - 1s - loss: 0.3623 - acc: 0.8469 - val_loss: 0.7054 - val_acc: 0.6406\n",
            "\n",
            "Epoch 00049: val_loss did not improve from 0.28771\n",
            "Epoch 50/50\n",
            " - 1s - loss: 0.2900 - acc: 0.9156 - val_loss: 1.1462 - val_acc: 0.4922\n",
            "\n",
            "Epoch 00050: val_loss did not improve from 0.28771\n"
          ],
          "name": "stdout"
        }
      ]
    },
    {
      "metadata": {
        "colab_type": "code",
        "id": "LDX_OBkO6XPB",
        "outputId": "c70ebef4-1a61-4c77-e0dd-efeb354d7c84",
        "colab": {
          "base_uri": "https://localhost:8080/",
          "height": 380
        }
      },
      "cell_type": "code",
      "source": [
        "# plotar loss e accuracy para os datasets 'train' e 'test'\n",
        "plt.style.use(\"ggplot\")\n",
        "plt.figure()\n",
        "plt.plot(training.history['acc'], label='Accuracy')\n",
        "plt.plot(training.history['loss'], label='Loss')\n",
        "plt.xlabel('Epochs')\n",
        "plt.ylabel('Accuracy')\n",
        "plt.title(\"Training Loss and Accuracy\")\n",
        "plt.ylabel(\"Loss/Accuracy\")\n",
        "plt.legend()\n",
        "plt.savefig('architecture_9.png', bbox_inches='tight')"
      ],
      "execution_count": 29,
      "outputs": [
        {
          "output_type": "display_data",
          "data": {
            "image/png": "[encoded data removed]",
            "text/plain": [
              "<matplotlib.figure.Figure at 0x7f92a33876d8>"
            ]
          },
          "metadata": {
            "tags": []
          }
        }
      ]
    },
    {
      "metadata": {
        "colab_type": "code",
        "id": "2iYS0M_E6XPL",
        "colab": {}
      },
      "cell_type": "code",
      "source": [
        "model.load_weights('weights_architecture_9.hdf5')"
      ],
      "execution_count": 0,
      "outputs": []
    },
    {
      "metadata": {
        "colab_type": "code",
        "id": "Ui0MQtER6XPR",
        "outputId": "0b556628-0644-4ee9-8e3c-2becd404829f",
        "colab": {
          "base_uri": "https://localhost:8080/",
          "height": 35
        }
      },
      "cell_type": "code",
      "source": [
        "results['architecture_9'] = model.evaluate_generator(test_batches, steps=bSize, use_multiprocessing=True, verbose=1)"
      ],
      "execution_count": 31,
      "outputs": [
        {
          "output_type": "stream",
          "text": [
            "32/32 [==============================] - 4s 110ms/step\n"
          ],
          "name": "stdout"
        }
      ]
    },
    {
      "metadata": {
        "colab_type": "code",
        "id": "XNL89Dbk6XPU",
        "outputId": "099189c0-98b1-43b2-c3d6-46b7da16639d",
        "colab": {
          "base_uri": "https://localhost:8080/",
          "height": 35
        }
      },
      "cell_type": "code",
      "source": [
        "print('Test Loss: {} | Test Accuracy: {:.2f}%'.format(results['architecture_9'][0], 100 * results['architecture_9'][1]))"
      ],
      "execution_count": 32,
      "outputs": [
        {
          "output_type": "stream",
          "text": [
            "Test Loss: 0.3758593238890171 | Test Accuracy: 88.67%\n"
          ],
          "name": "stdout"
        }
      ]
    },
    {
      "metadata": {
        "id": "I_6RPRqZ0ooK",
        "colab_type": "text"
      },
      "cell_type": "markdown",
      "source": [
        "### 10 tentativa Accuracy: 94.04%"
      ]
    },
    {
      "metadata": {
        "colab_type": "text",
        "id": "drBpwd1s7PE3"
      },
      "cell_type": "markdown",
      "source": [
        "Modelo adaptado do **Lucas Albertins**\n",
        "\n",
        "*   Função **adam** para compilação\n",
        "*   Adicionado mais 2 camadas convolutivas"
      ]
    },
    {
      "metadata": {
        "colab_type": "code",
        "id": "6LGTLObK0u-Y",
        "colab": {}
      },
      "cell_type": "code",
      "source": [
        "from keras.layers import Conv2D, MaxPooling2D, GlobalMaxPooling2D, BatchNormalization\n",
        "from keras.regularizers import l2\n",
        "\n",
        "model = Sequential()\n",
        "\n",
        "model.add(Conv2D(32, (3, 3), activation='relu', kernel_regularizer=l2(1e-4), \n",
        "                 input_shape=(None, None, 3)))\n",
        "model.add(BatchNormalization())\n",
        "model.add(Conv2D(32, (3, 3), activation='relu', kernel_regularizer=l2(1e-4)))\n",
        "model.add(BatchNormalization())\n",
        "model.add(MaxPooling2D((2, 2)))\n",
        "model.add(Dropout(0.25))\n",
        "\n",
        "model.add(Conv2D(64, (3, 3), activation='relu', kernel_regularizer=l2(1e-4)))\n",
        "model.add(BatchNormalization())\n",
        "model.add(Conv2D(64, (3, 3), activation='relu', kernel_regularizer=l2(1e-4)))\n",
        "model.add(BatchNormalization())\n",
        "model.add(MaxPooling2D((2, 2)))\n",
        "model.add(Dropout(0.25))\n",
        "\n",
        "model.add(Conv2D(96, (3, 3),activation='relu', kernel_regularizer=l2(1e-4)))\n",
        "model.add(BatchNormalization())\n",
        "model.add(Conv2D(96, (3, 3),activation='relu', kernel_regularizer=l2(1e-4)))\n",
        "model.add(BatchNormalization())\n",
        "model.add(MaxPooling2D((2, 2)))\n",
        "model.add(Dropout(0.25))\n",
        "\n",
        "model.add(Conv2D(128, (1,1), kernel_regularizer=l2(1e-4)))\n",
        "model.add(GlobalMaxPooling2D())\n",
        "\n",
        "model.add(Dense(256, activation='relu', kernel_regularizer=l2(1e-4)))\n",
        "model.add(Dropout(0.5))\n",
        "model.add(Dense(2, activation='sigmoid', kernel_regularizer=l2(1e-4)))"
      ],
      "execution_count": 0,
      "outputs": []
    },
    {
      "metadata": {
        "colab_type": "code",
        "id": "vB92aUkR0u-p",
        "colab": {}
      },
      "cell_type": "code",
      "source": [
        "model.compile(optimizer='adam', loss='binary_crossentropy', metrics=['accuracy'])"
      ],
      "execution_count": 0,
      "outputs": []
    },
    {
      "metadata": {
        "colab_type": "code",
        "id": "AWaPDrSE7bLf",
        "colab": {}
      },
      "cell_type": "code",
      "source": [
        "checkpointer = ModelCheckpoint(filepath='weights_architecture_10.hdf5', verbose=1, save_best_only=True)"
      ],
      "execution_count": 0,
      "outputs": []
    },
    {
      "metadata": {
        "colab_type": "code",
        "id": "mUqvoI5Y7bLp",
        "outputId": "c07e6367-4d8c-43f4-f1a3-b0fe5c04c9d0",
        "colab": {
          "base_uri": "https://localhost:8080/",
          "height": 3690
        }
      },
      "cell_type": "code",
      "source": [
        "training = model.fit_generator(train_batches, steps_per_epoch=stepsPerEpoche, \n",
        "                   validation_data=validation_batches, validation_steps=validationSteps,\n",
        "                   epochs=50, verbose=2, callbacks=[checkpointer])"
      ],
      "execution_count": 36,
      "outputs": [
        {
          "output_type": "stream",
          "text": [
            "Epoch 1/50\n",
            " - 4s - loss: 1.1370 - acc: 0.5812 - val_loss: 0.7932 - val_acc: 0.6172\n",
            "\n",
            "Epoch 00001: val_loss improved from inf to 0.79322, saving model to weights_architecture_10.hdf5\n",
            "Epoch 2/50\n",
            " - 1s - loss: 0.5673 - acc: 0.7938 - val_loss: 1.0158 - val_acc: 0.7109\n",
            "\n",
            "Epoch 00002: val_loss did not improve from 0.79322\n",
            "Epoch 3/50\n",
            " - 1s - loss: 0.4741 - acc: 0.8656 - val_loss: 0.6001 - val_acc: 0.7969\n",
            "\n",
            "Epoch 00003: val_loss improved from 0.79322 to 0.60011, saving model to weights_architecture_10.hdf5\n",
            "Epoch 4/50\n",
            " - 1s - loss: 0.3752 - acc: 0.8625 - val_loss: 0.4622 - val_acc: 0.8203\n",
            "\n",
            "Epoch 00004: val_loss improved from 0.60011 to 0.46225, saving model to weights_architecture_10.hdf5\n",
            "Epoch 5/50\n",
            " - 1s - loss: 0.2864 - acc: 0.9125 - val_loss: 0.4155 - val_acc: 0.8523\n",
            "\n",
            "Epoch 00005: val_loss improved from 0.46225 to 0.41548, saving model to weights_architecture_10.hdf5\n",
            "Epoch 6/50\n",
            " - 1s - loss: 0.3017 - acc: 0.9062 - val_loss: 0.3491 - val_acc: 0.8828\n",
            "\n",
            "Epoch 00006: val_loss improved from 0.41548 to 0.34913, saving model to weights_architecture_10.hdf5\n",
            "Epoch 7/50\n",
            " - 1s - loss: 0.3339 - acc: 0.8875 - val_loss: 0.4985 - val_acc: 0.8203\n",
            "\n",
            "Epoch 00007: val_loss did not improve from 0.34913\n",
            "Epoch 8/50\n",
            " - 1s - loss: 0.2293 - acc: 0.9188 - val_loss: 0.4313 - val_acc: 0.8750\n",
            "\n",
            "Epoch 00008: val_loss did not improve from 0.34913\n",
            "Epoch 9/50\n",
            " - 1s - loss: 0.3495 - acc: 0.9156 - val_loss: 0.3793 - val_acc: 0.8984\n",
            "\n",
            "Epoch 00009: val_loss did not improve from 0.34913\n",
            "Epoch 10/50\n",
            " - 1s - loss: 0.2713 - acc: 0.9162 - val_loss: 0.2171 - val_acc: 0.9297\n",
            "\n",
            "Epoch 00010: val_loss improved from 0.34913 to 0.21711, saving model to weights_architecture_10.hdf5\n",
            "Epoch 11/50\n",
            " - 1s - loss: 0.3101 - acc: 0.8969 - val_loss: 0.3081 - val_acc: 0.8984\n",
            "\n",
            "Epoch 00011: val_loss did not improve from 0.21711\n",
            "Epoch 12/50\n",
            " - 1s - loss: 0.2971 - acc: 0.9156 - val_loss: 0.2717 - val_acc: 0.9219\n",
            "\n",
            "Epoch 00012: val_loss did not improve from 0.21711\n",
            "Epoch 13/50\n",
            " - 1s - loss: 0.2290 - acc: 0.9500 - val_loss: 0.3245 - val_acc: 0.8984\n",
            "\n",
            "Epoch 00013: val_loss did not improve from 0.21711\n",
            "Epoch 14/50\n",
            " - 1s - loss: 0.2608 - acc: 0.9219 - val_loss: 0.4672 - val_acc: 0.8125\n",
            "\n",
            "Epoch 00014: val_loss did not improve from 0.21711\n",
            "Epoch 15/50\n",
            " - 1s - loss: 0.2672 - acc: 0.9188 - val_loss: 0.5298 - val_acc: 0.8047\n",
            "\n",
            "Epoch 00015: val_loss did not improve from 0.21711\n",
            "Epoch 16/50\n",
            " - 1s - loss: 0.2912 - acc: 0.9031 - val_loss: 0.7141 - val_acc: 0.7109\n",
            "\n",
            "Epoch 00016: val_loss did not improve from 0.21711\n",
            "Epoch 17/50\n",
            " - 1s - loss: 0.3639 - acc: 0.8781 - val_loss: 0.3567 - val_acc: 0.8516\n",
            "\n",
            "Epoch 00017: val_loss did not improve from 0.21711\n",
            "Epoch 18/50\n",
            " - 1s - loss: 0.2497 - acc: 0.9437 - val_loss: 0.3494 - val_acc: 0.8828\n",
            "\n",
            "Epoch 00018: val_loss did not improve from 0.21711\n",
            "Epoch 19/50\n",
            " - 1s - loss: 0.2690 - acc: 0.9281 - val_loss: 0.3217 - val_acc: 0.8984\n",
            "\n",
            "Epoch 00019: val_loss did not improve from 0.21711\n",
            "Epoch 20/50\n",
            " - 1s - loss: 0.2689 - acc: 0.9344 - val_loss: 0.2760 - val_acc: 0.9219\n",
            "\n",
            "Epoch 00020: val_loss did not improve from 0.21711\n",
            "Epoch 21/50\n",
            " - 1s - loss: 0.2532 - acc: 0.9375 - val_loss: 0.3108 - val_acc: 0.8828\n",
            "\n",
            "Epoch 00021: val_loss did not improve from 0.21711\n",
            "Epoch 22/50\n",
            " - 1s - loss: 0.3027 - acc: 0.9125 - val_loss: 0.3402 - val_acc: 0.8636\n",
            "\n",
            "Epoch 00022: val_loss did not improve from 0.21711\n",
            "Epoch 23/50\n",
            " - 1s - loss: 0.4462 - acc: 0.8656 - val_loss: 0.6495 - val_acc: 0.7344\n",
            "\n",
            "Epoch 00023: val_loss did not improve from 0.21711\n",
            "Epoch 24/50\n",
            " - 1s - loss: 0.3000 - acc: 0.9125 - val_loss: 0.4540 - val_acc: 0.8359\n",
            "\n",
            "Epoch 00024: val_loss did not improve from 0.21711\n",
            "Epoch 25/50\n",
            " - 1s - loss: 0.3290 - acc: 0.8937 - val_loss: 0.9058 - val_acc: 0.6562\n",
            "\n",
            "Epoch 00025: val_loss did not improve from 0.21711\n",
            "Epoch 26/50\n",
            " - 1s - loss: 0.2553 - acc: 0.9250 - val_loss: 1.0553 - val_acc: 0.6250\n",
            "\n",
            "Epoch 00026: val_loss did not improve from 0.21711\n",
            "Epoch 27/50\n",
            " - 1s - loss: 0.4024 - acc: 0.8812 - val_loss: 0.3984 - val_acc: 0.8047\n",
            "\n",
            "Epoch 00027: val_loss did not improve from 0.21711\n",
            "Epoch 28/50\n",
            " - 1s - loss: 0.2921 - acc: 0.9156 - val_loss: 0.6446 - val_acc: 0.7266\n",
            "\n",
            "Epoch 00028: val_loss did not improve from 0.21711\n",
            "Epoch 29/50\n",
            " - 1s - loss: 0.2684 - acc: 0.8875 - val_loss: 0.8307 - val_acc: 0.6641\n",
            "\n",
            "Epoch 00029: val_loss did not improve from 0.21711\n",
            "Epoch 30/50\n",
            " - 1s - loss: 0.2783 - acc: 0.9094 - val_loss: 0.9194 - val_acc: 0.6406\n",
            "\n",
            "Epoch 00030: val_loss did not improve from 0.21711\n",
            "Epoch 31/50\n",
            " - 1s - loss: 0.3112 - acc: 0.8937 - val_loss: 2.2737 - val_acc: 0.4922\n",
            "\n",
            "Epoch 00031: val_loss did not improve from 0.21711\n",
            "Epoch 32/50\n",
            " - 1s - loss: 0.2491 - acc: 0.9094 - val_loss: 1.6327 - val_acc: 0.6094\n",
            "\n",
            "Epoch 00032: val_loss did not improve from 0.21711\n",
            "Epoch 33/50\n",
            " - 1s - loss: 0.2917 - acc: 0.9188 - val_loss: 1.2946 - val_acc: 0.5469\n",
            "\n",
            "Epoch 00033: val_loss did not improve from 0.21711\n",
            "Epoch 34/50\n",
            " - 1s - loss: 0.1574 - acc: 0.9594 - val_loss: 2.6170 - val_acc: 0.6094\n",
            "\n",
            "Epoch 00034: val_loss did not improve from 0.21711\n",
            "Epoch 35/50\n",
            " - 1s - loss: 0.3270 - acc: 0.8937 - val_loss: 4.5171 - val_acc: 0.5469\n",
            "\n",
            "Epoch 00035: val_loss did not improve from 0.21711\n",
            "Epoch 36/50\n",
            " - 1s - loss: 0.2818 - acc: 0.9344 - val_loss: 1.4537 - val_acc: 0.5703\n",
            "\n",
            "Epoch 00036: val_loss did not improve from 0.21711\n",
            "Epoch 37/50\n",
            " - 1s - loss: 0.2053 - acc: 0.9557 - val_loss: 0.8048 - val_acc: 0.7500\n",
            "\n",
            "Epoch 00037: val_loss did not improve from 0.21711\n",
            "Epoch 38/50\n",
            " - 1s - loss: 0.2079 - acc: 0.9500 - val_loss: 1.6431 - val_acc: 0.6250\n",
            "\n",
            "Epoch 00038: val_loss did not improve from 0.21711\n",
            "Epoch 39/50\n",
            " - 1s - loss: 0.2325 - acc: 0.9250 - val_loss: 0.5671 - val_acc: 0.8068\n",
            "\n",
            "Epoch 00039: val_loss did not improve from 0.21711\n",
            "Epoch 40/50\n",
            " - 1s - loss: 0.1664 - acc: 0.9562 - val_loss: 0.1994 - val_acc: 0.9219\n",
            "\n",
            "Epoch 00040: val_loss improved from 0.21711 to 0.19942, saving model to weights_architecture_10.hdf5\n",
            "Epoch 41/50\n",
            " - 1s - loss: 0.2018 - acc: 0.9437 - val_loss: 0.2952 - val_acc: 0.9062\n",
            "\n",
            "Epoch 00041: val_loss did not improve from 0.19942\n",
            "Epoch 42/50\n",
            " - 1s - loss: 0.1747 - acc: 0.9594 - val_loss: 0.3348 - val_acc: 0.9062\n",
            "\n",
            "Epoch 00042: val_loss did not improve from 0.19942\n",
            "Epoch 43/50\n",
            " - 1s - loss: 0.2328 - acc: 0.9406 - val_loss: 0.1488 - val_acc: 0.9766\n",
            "\n",
            "Epoch 00043: val_loss improved from 0.19942 to 0.14883, saving model to weights_architecture_10.hdf5\n",
            "Epoch 44/50\n",
            " - 1s - loss: 0.1489 - acc: 0.9688 - val_loss: 0.3369 - val_acc: 0.9297\n",
            "\n",
            "Epoch 00044: val_loss did not improve from 0.14883\n",
            "Epoch 45/50\n",
            " - 1s - loss: 0.3803 - acc: 0.8906 - val_loss: 0.7371 - val_acc: 0.7422\n",
            "\n",
            "Epoch 00045: val_loss did not improve from 0.14883\n",
            "Epoch 46/50\n",
            " - 1s - loss: 0.3005 - acc: 0.9031 - val_loss: 0.2545 - val_acc: 0.8906\n",
            "\n",
            "Epoch 00046: val_loss did not improve from 0.14883\n",
            "Epoch 47/50\n",
            " - 1s - loss: 0.2611 - acc: 0.9281 - val_loss: 0.2312 - val_acc: 0.9375\n",
            "\n",
            "Epoch 00047: val_loss did not improve from 0.14883\n",
            "Epoch 48/50\n",
            " - 1s - loss: 0.3345 - acc: 0.9062 - val_loss: 0.3309 - val_acc: 0.9297\n",
            "\n",
            "Epoch 00048: val_loss did not improve from 0.14883\n",
            "Epoch 49/50\n",
            " - 1s - loss: 0.3278 - acc: 0.9000 - val_loss: 0.3643 - val_acc: 0.8906\n",
            "\n",
            "Epoch 00049: val_loss did not improve from 0.14883\n",
            "Epoch 50/50\n",
            " - 1s - loss: 0.2038 - acc: 0.9625 - val_loss: 0.3890 - val_acc: 0.9062\n",
            "\n",
            "Epoch 00050: val_loss did not improve from 0.14883\n"
          ],
          "name": "stdout"
        }
      ]
    },
    {
      "metadata": {
        "colab_type": "code",
        "id": "c3-AMkkg7bLw",
        "outputId": "8cf7732f-b7f3-4463-992c-30f720293429",
        "colab": {
          "base_uri": "https://localhost:8080/",
          "height": 380
        }
      },
      "cell_type": "code",
      "source": [
        "# plotar loss e accuracy para os datasets 'train' e 'test'\n",
        "plt.style.use(\"ggplot\")\n",
        "plt.figure()\n",
        "plt.plot(training.history['acc'], label='Accuracy')\n",
        "plt.plot(training.history['loss'], label='Loss')\n",
        "plt.xlabel('Epochs')\n",
        "plt.ylabel('Accuracy')\n",
        "plt.title(\"Training Loss and Accuracy\")\n",
        "plt.ylabel(\"Loss/Accuracy\")\n",
        "plt.legend()\n",
        "plt.savefig('architecture_10.png', bbox_inches='tight')"
      ],
      "execution_count": 37,
      "outputs": [
        {
          "output_type": "display_data",
          "data": {
            "image/png": "[encoded data removed]",
            "text/plain": [
              "<matplotlib.figure.Figure at 0x7f92a0a7f400>"
            ]
          },
          "metadata": {
            "tags": []
          }
        }
      ]
    },
    {
      "metadata": {
        "colab_type": "code",
        "id": "qpPONEiQ7bMB",
        "colab": {}
      },
      "cell_type": "code",
      "source": [
        "model.load_weights('weights_architecture_10.hdf5')"
      ],
      "execution_count": 0,
      "outputs": []
    },
    {
      "metadata": {
        "colab_type": "code",
        "id": "2QghQZHo7bMG",
        "outputId": "533115a8-a791-41ca-a93d-e8293a45d3e9",
        "colab": {
          "base_uri": "https://localhost:8080/",
          "height": 35
        }
      },
      "cell_type": "code",
      "source": [
        "results['architecture_10'] = model.evaluate_generator(test_batches, steps=bSize, use_multiprocessing=True, verbose=1)"
      ],
      "execution_count": 39,
      "outputs": [
        {
          "output_type": "stream",
          "text": [
            "32/32 [==============================] - 4s 110ms/step\n"
          ],
          "name": "stdout"
        }
      ]
    },
    {
      "metadata": {
        "colab_type": "code",
        "id": "QaQ-aTxU7bMJ",
        "outputId": "3b032baf-9c24-4bfb-875e-09be276fb6c7",
        "colab": {
          "base_uri": "https://localhost:8080/",
          "height": 35
        }
      },
      "cell_type": "code",
      "source": [
        "print('Test Loss: {} | Test Accuracy: {:.2f}%'.format(results['architecture_10'][0], 100 * results['architecture_10'][1]))"
      ],
      "execution_count": 40,
      "outputs": [
        {
          "output_type": "stream",
          "text": [
            "Test Loss: 0.2183251641690731 | Test Accuracy: 94.04%\n"
          ],
          "name": "stdout"
        }
      ]
    },
    {
      "metadata": {
        "id": "t-JuICq46CWp",
        "colab_type": "text"
      },
      "cell_type": "markdown",
      "source": [
        "### 11 tentativa Accuracy: 90.92%"
      ]
    },
    {
      "metadata": {
        "colab_type": "text",
        "id": "MdaiMXVY8RWc"
      },
      "cell_type": "markdown",
      "source": [
        "Modelo adaptado do **Lucas Albertins**\n",
        "\n",
        "*   Função **SGD** para compilação\n",
        "*   Adicionado mais 2 camadas convolutivas"
      ]
    },
    {
      "metadata": {
        "colab_type": "code",
        "id": "vLy1nlhs6HHL",
        "colab": {}
      },
      "cell_type": "code",
      "source": [
        "from keras.layers import Conv2D, MaxPooling2D, GlobalMaxPooling2D, BatchNormalization\n",
        "from keras.regularizers import l2\n",
        "\n",
        "model = Sequential()\n",
        "\n",
        "model.add(Conv2D(32, (3, 3), activation='relu', kernel_regularizer=l2(1e-4), \n",
        "                 input_shape=(None, None, 3)))\n",
        "model.add(BatchNormalization())\n",
        "model.add(Conv2D(32, (3, 3), activation='relu', kernel_regularizer=l2(1e-4)))\n",
        "model.add(BatchNormalization())\n",
        "model.add(MaxPooling2D((2, 2)))\n",
        "model.add(Dropout(0.25))\n",
        "\n",
        "model.add(Conv2D(64, (3, 3), activation='relu', kernel_regularizer=l2(1e-4)))\n",
        "model.add(BatchNormalization())\n",
        "model.add(Conv2D(64, (3, 3), activation='relu', kernel_regularizer=l2(1e-4)))\n",
        "model.add(BatchNormalization())\n",
        "model.add(MaxPooling2D((2, 2)))\n",
        "model.add(Dropout(0.25))\n",
        "\n",
        "model.add(Conv2D(96, (3, 3),activation='relu', kernel_regularizer=l2(1e-4)))\n",
        "model.add(BatchNormalization())\n",
        "model.add(Conv2D(96, (3, 3),activation='relu', kernel_regularizer=l2(1e-4)))\n",
        "model.add(BatchNormalization())\n",
        "model.add(MaxPooling2D((2, 2)))\n",
        "model.add(Dropout(0.25))\n",
        "\n",
        "model.add(Conv2D(128, (1,1), kernel_regularizer=l2(1e-4)))\n",
        "model.add(GlobalMaxPooling2D())\n",
        "\n",
        "model.add(Dense(256, activation='relu', kernel_regularizer=l2(1e-4)))\n",
        "model.add(Dropout(0.5))\n",
        "model.add(Dense(2, activation='sigmoid', kernel_regularizer=l2(1e-4)))"
      ],
      "execution_count": 0,
      "outputs": []
    },
    {
      "metadata": {
        "colab_type": "code",
        "id": "QKpy_s8Z6HHZ",
        "colab": {}
      },
      "cell_type": "code",
      "source": [
        "model.compile(SGD(lr=0.01, momentum=0.0, decay=0.0, nesterov=False), \n",
        "              loss='binary_crossentropy', metrics=['accuracy'])"
      ],
      "execution_count": 0,
      "outputs": []
    },
    {
      "metadata": {
        "colab_type": "code",
        "id": "kv_TvFJq7t1U",
        "colab": {}
      },
      "cell_type": "code",
      "source": [
        "checkpointer = ModelCheckpoint(filepath='weights_architecture_11.hdf5', verbose=1, save_best_only=True)"
      ],
      "execution_count": 0,
      "outputs": []
    },
    {
      "metadata": {
        "colab_type": "code",
        "id": "KGy9-eyM7t1c",
        "outputId": "a9d045a1-edb4-4b44-9f14-70f9633b0fba",
        "colab": {
          "base_uri": "https://localhost:8080/",
          "height": 3690
        }
      },
      "cell_type": "code",
      "source": [
        "training = model.fit_generator(train_batches, steps_per_epoch=stepsPerEpoche, \n",
        "                   validation_data=validation_batches, validation_steps=validationSteps,\n",
        "                   epochs=50, verbose=2, callbacks=[checkpointer])"
      ],
      "execution_count": 44,
      "outputs": [
        {
          "output_type": "stream",
          "text": [
            "Epoch 1/50\n",
            " - 4s - loss: 1.2068 - acc: 0.5750 - val_loss: 0.6299 - val_acc: 0.7273\n",
            "\n",
            "Epoch 00001: val_loss improved from inf to 0.62989, saving model to weights_architecture_11.hdf5\n",
            "Epoch 2/50\n",
            " - 1s - loss: 0.9031 - acc: 0.6500 - val_loss: 0.5859 - val_acc: 0.7891\n",
            "\n",
            "Epoch 00002: val_loss improved from 0.62989 to 0.58592, saving model to weights_architecture_11.hdf5\n",
            "Epoch 3/50\n",
            " - 1s - loss: 0.5377 - acc: 0.7875 - val_loss: 0.8772 - val_acc: 0.5781\n",
            "\n",
            "Epoch 00003: val_loss did not improve from 0.58592\n",
            "Epoch 4/50\n",
            " - 1s - loss: 0.4890 - acc: 0.8469 - val_loss: 0.3745 - val_acc: 0.9375\n",
            "\n",
            "Epoch 00004: val_loss improved from 0.58592 to 0.37453, saving model to weights_architecture_11.hdf5\n",
            "Epoch 5/50\n",
            " - 1s - loss: 0.5772 - acc: 0.8344 - val_loss: 0.5145 - val_acc: 0.7891\n",
            "\n",
            "Epoch 00005: val_loss did not improve from 0.37453\n",
            "Epoch 6/50\n",
            " - 1s - loss: 0.4413 - acc: 0.8469 - val_loss: 0.4145 - val_acc: 0.8359\n",
            "\n",
            "Epoch 00006: val_loss did not improve from 0.37453\n",
            "Epoch 7/50\n",
            " - 1s - loss: 0.4674 - acc: 0.8594 - val_loss: 0.4353 - val_acc: 0.8750\n",
            "\n",
            "Epoch 00007: val_loss did not improve from 0.37453\n",
            "Epoch 8/50\n",
            " - 1s - loss: 0.4154 - acc: 0.8438 - val_loss: 0.6850 - val_acc: 0.6562\n",
            "\n",
            "Epoch 00008: val_loss did not improve from 0.37453\n",
            "Epoch 9/50\n",
            " - 1s - loss: 0.4611 - acc: 0.8688 - val_loss: 0.4322 - val_acc: 0.8203\n",
            "\n",
            "Epoch 00009: val_loss did not improve from 0.37453\n",
            "Epoch 10/50\n",
            " - 1s - loss: 0.4381 - acc: 0.8438 - val_loss: 0.6877 - val_acc: 0.6875\n",
            "\n",
            "Epoch 00010: val_loss did not improve from 0.37453\n",
            "Epoch 11/50\n",
            " - 1s - loss: 0.3757 - acc: 0.8594 - val_loss: 0.4216 - val_acc: 0.8750\n",
            "\n",
            "Epoch 00011: val_loss did not improve from 0.37453\n",
            "Epoch 12/50\n",
            " - 1s - loss: 0.3595 - acc: 0.8844 - val_loss: 0.4266 - val_acc: 0.8516\n",
            "\n",
            "Epoch 00012: val_loss did not improve from 0.37453\n",
            "Epoch 13/50\n",
            " - 1s - loss: 0.3010 - acc: 0.9099 - val_loss: 0.4613 - val_acc: 0.8672\n",
            "\n",
            "Epoch 00013: val_loss did not improve from 0.37453\n",
            "Epoch 14/50\n",
            " - 1s - loss: 0.3588 - acc: 0.8875 - val_loss: 0.7715 - val_acc: 0.6875\n",
            "\n",
            "Epoch 00014: val_loss did not improve from 0.37453\n",
            "Epoch 15/50\n",
            " - 1s - loss: 0.2961 - acc: 0.9094 - val_loss: 0.5245 - val_acc: 0.7578\n",
            "\n",
            "Epoch 00015: val_loss did not improve from 0.37453\n",
            "Epoch 16/50\n",
            " - 1s - loss: 0.1978 - acc: 0.9500 - val_loss: 0.3067 - val_acc: 0.9141\n",
            "\n",
            "Epoch 00016: val_loss improved from 0.37453 to 0.30674, saving model to weights_architecture_11.hdf5\n",
            "Epoch 17/50\n",
            " - 1s - loss: 0.3310 - acc: 0.8906 - val_loss: 0.2954 - val_acc: 0.9609\n",
            "\n",
            "Epoch 00017: val_loss improved from 0.30674 to 0.29539, saving model to weights_architecture_11.hdf5\n",
            "Epoch 18/50\n",
            " - 1s - loss: 0.2974 - acc: 0.9062 - val_loss: 0.4037 - val_acc: 0.8977\n",
            "\n",
            "Epoch 00018: val_loss did not improve from 0.29539\n",
            "Epoch 19/50\n",
            " - 1s - loss: 0.3795 - acc: 0.8688 - val_loss: 0.4218 - val_acc: 0.8203\n",
            "\n",
            "Epoch 00019: val_loss did not improve from 0.29539\n",
            "Epoch 20/50\n",
            " - 1s - loss: 0.3141 - acc: 0.9031 - val_loss: 0.3899 - val_acc: 0.8438\n",
            "\n",
            "Epoch 00020: val_loss did not improve from 0.29539\n",
            "Epoch 21/50\n",
            " - 1s - loss: 0.2966 - acc: 0.9156 - val_loss: 0.4155 - val_acc: 0.8438\n",
            "\n",
            "Epoch 00021: val_loss did not improve from 0.29539\n",
            "Epoch 22/50\n",
            " - 1s - loss: 0.3069 - acc: 0.9156 - val_loss: 0.3716 - val_acc: 0.8906\n",
            "\n",
            "Epoch 00022: val_loss did not improve from 0.29539\n",
            "Epoch 23/50\n",
            " - 1s - loss: 0.3646 - acc: 0.8969 - val_loss: 0.3568 - val_acc: 0.9062\n",
            "\n",
            "Epoch 00023: val_loss did not improve from 0.29539\n",
            "Epoch 24/50\n",
            " - 1s - loss: 0.2930 - acc: 0.8844 - val_loss: 0.3353 - val_acc: 0.9219\n",
            "\n",
            "Epoch 00024: val_loss did not improve from 0.29539\n",
            "Epoch 25/50\n",
            " - 1s - loss: 0.2292 - acc: 0.9281 - val_loss: 0.4166 - val_acc: 0.8438\n",
            "\n",
            "Epoch 00025: val_loss did not improve from 0.29539\n",
            "Epoch 26/50\n",
            " - 1s - loss: 0.2814 - acc: 0.9281 - val_loss: 0.4823 - val_acc: 0.7969\n",
            "\n",
            "Epoch 00026: val_loss did not improve from 0.29539\n",
            "Epoch 27/50\n",
            " - 1s - loss: 0.1779 - acc: 0.9688 - val_loss: 0.3885 - val_acc: 0.8750\n",
            "\n",
            "Epoch 00027: val_loss did not improve from 0.29539\n",
            "Epoch 28/50\n",
            " - 1s - loss: 0.2232 - acc: 0.9406 - val_loss: 0.4679 - val_acc: 0.7656\n",
            "\n",
            "Epoch 00028: val_loss did not improve from 0.29539\n",
            "Epoch 29/50\n",
            " - 1s - loss: 0.3269 - acc: 0.8906 - val_loss: 0.3092 - val_acc: 0.9219\n",
            "\n",
            "Epoch 00029: val_loss did not improve from 0.29539\n",
            "Epoch 30/50\n",
            " - 1s - loss: 0.3079 - acc: 0.8969 - val_loss: 0.2997 - val_acc: 0.9453\n",
            "\n",
            "Epoch 00030: val_loss did not improve from 0.29539\n",
            "Epoch 31/50\n",
            " - 1s - loss: 0.2189 - acc: 0.9375 - val_loss: 0.4527 - val_acc: 0.8203\n",
            "\n",
            "Epoch 00031: val_loss did not improve from 0.29539\n",
            "Epoch 32/50\n",
            " - 1s - loss: 0.3511 - acc: 0.8937 - val_loss: 0.4167 - val_acc: 0.7969\n",
            "\n",
            "Epoch 00032: val_loss did not improve from 0.29539\n",
            "Epoch 33/50\n",
            " - 1s - loss: 0.3476 - acc: 0.8937 - val_loss: 0.3657 - val_acc: 0.8828\n",
            "\n",
            "Epoch 00033: val_loss did not improve from 0.29539\n",
            "Epoch 34/50\n",
            " - 1s - loss: 0.3016 - acc: 0.9125 - val_loss: 0.4336 - val_acc: 0.8047\n",
            "\n",
            "Epoch 00034: val_loss did not improve from 0.29539\n",
            "Epoch 35/50\n",
            " - 1s - loss: 0.2640 - acc: 0.9313 - val_loss: 0.9959 - val_acc: 0.5682\n",
            "\n",
            "Epoch 00035: val_loss did not improve from 0.29539\n",
            "Epoch 36/50\n",
            " - 1s - loss: 0.2384 - acc: 0.9281 - val_loss: 0.3180 - val_acc: 0.9219\n",
            "\n",
            "Epoch 00036: val_loss did not improve from 0.29539\n",
            "Epoch 37/50\n",
            " - 1s - loss: 0.2756 - acc: 0.9250 - val_loss: 0.2698 - val_acc: 0.9219\n",
            "\n",
            "Epoch 00037: val_loss improved from 0.29539 to 0.26982, saving model to weights_architecture_11.hdf5\n",
            "Epoch 38/50\n",
            " - 1s - loss: 0.2374 - acc: 0.9281 - val_loss: 0.3357 - val_acc: 0.8828\n",
            "\n",
            "Epoch 00038: val_loss did not improve from 0.26982\n",
            "Epoch 39/50\n",
            " - 1s - loss: 0.2889 - acc: 0.9125 - val_loss: 0.5259 - val_acc: 0.7969\n",
            "\n",
            "Epoch 00039: val_loss did not improve from 0.26982\n",
            "Epoch 40/50\n",
            " - 1s - loss: 0.2403 - acc: 0.9240 - val_loss: 0.7334 - val_acc: 0.6953\n",
            "\n",
            "Epoch 00040: val_loss did not improve from 0.26982\n",
            "Epoch 41/50\n",
            " - 1s - loss: 0.2282 - acc: 0.9375 - val_loss: 0.5951 - val_acc: 0.7188\n",
            "\n",
            "Epoch 00041: val_loss did not improve from 0.26982\n",
            "Epoch 42/50\n",
            " - 1s - loss: 0.2972 - acc: 0.8812 - val_loss: 0.6371 - val_acc: 0.7656\n",
            "\n",
            "Epoch 00042: val_loss did not improve from 0.26982\n",
            "Epoch 43/50\n",
            " - 1s - loss: 0.2473 - acc: 0.9313 - val_loss: 0.8511 - val_acc: 0.6406\n",
            "\n",
            "Epoch 00043: val_loss did not improve from 0.26982\n",
            "Epoch 44/50\n",
            " - 1s - loss: 0.1777 - acc: 0.9531 - val_loss: 0.9808 - val_acc: 0.6250\n",
            "\n",
            "Epoch 00044: val_loss did not improve from 0.26982\n",
            "Epoch 45/50\n",
            " - 1s - loss: 0.2571 - acc: 0.9062 - val_loss: 0.4159 - val_acc: 0.8828\n",
            "\n",
            "Epoch 00045: val_loss did not improve from 0.26982\n",
            "Epoch 46/50\n",
            " - 1s - loss: 0.2993 - acc: 0.9188 - val_loss: 0.5635 - val_acc: 0.7969\n",
            "\n",
            "Epoch 00046: val_loss did not improve from 0.26982\n",
            "Epoch 47/50\n",
            " - 1s - loss: 0.2367 - acc: 0.9375 - val_loss: 0.5035 - val_acc: 0.7891\n",
            "\n",
            "Epoch 00047: val_loss did not improve from 0.26982\n",
            "Epoch 48/50\n",
            " - 1s - loss: 0.2383 - acc: 0.9156 - val_loss: 0.3039 - val_acc: 0.8906\n",
            "\n",
            "Epoch 00048: val_loss did not improve from 0.26982\n",
            "Epoch 49/50\n",
            " - 1s - loss: 0.2209 - acc: 0.9406 - val_loss: 1.0455 - val_acc: 0.5938\n",
            "\n",
            "Epoch 00049: val_loss did not improve from 0.26982\n",
            "Epoch 50/50\n",
            " - 1s - loss: 0.2357 - acc: 0.9219 - val_loss: 0.3980 - val_acc: 0.8594\n",
            "\n",
            "Epoch 00050: val_loss did not improve from 0.26982\n"
          ],
          "name": "stdout"
        }
      ]
    },
    {
      "metadata": {
        "colab_type": "code",
        "id": "Zfc6MOKV7t18",
        "outputId": "ad1b6ad7-9f7d-4361-f7bb-d51290aa46ac",
        "colab": {
          "base_uri": "https://localhost:8080/",
          "height": 380
        }
      },
      "cell_type": "code",
      "source": [
        "# plotar loss e accuracy para os datasets 'train' e 'test'\n",
        "plt.style.use(\"ggplot\")\n",
        "plt.figure()\n",
        "plt.plot(training.history['acc'], label='Accuracy')\n",
        "plt.plot(training.history['loss'], label='Loss')\n",
        "plt.xlabel('Epochs')\n",
        "plt.ylabel('Accuracy')\n",
        "plt.title(\"Training Loss and Accuracy\")\n",
        "plt.ylabel(\"Loss/Accuracy\")\n",
        "plt.legend()\n",
        "plt.savefig('architecture_11.png', bbox_inches='tight')"
      ],
      "execution_count": 45,
      "outputs": [
        {
          "output_type": "display_data",
          "data": {
            "image/png": "[encoded data removed]",
            "text/plain": [
              "<matplotlib.figure.Figure at 0x7f92a1287828>"
            ]
          },
          "metadata": {
            "tags": []
          }
        }
      ]
    },
    {
      "metadata": {
        "colab_type": "code",
        "id": "YGPiNIgZ7t2H",
        "colab": {}
      },
      "cell_type": "code",
      "source": [
        "model.load_weights('weights_architecture_11.hdf5')"
      ],
      "execution_count": 0,
      "outputs": []
    },
    {
      "metadata": {
        "colab_type": "code",
        "id": "kxr7AENx7t2N",
        "outputId": "83533fef-0c8d-471f-d577-2ca1eb958447",
        "colab": {
          "base_uri": "https://localhost:8080/",
          "height": 35
        }
      },
      "cell_type": "code",
      "source": [
        "results['architecture_11'] = model.evaluate_generator(test_batches, steps=bSize, use_multiprocessing=True, verbose=1)"
      ],
      "execution_count": 47,
      "outputs": [
        {
          "output_type": "stream",
          "text": [
            "32/32 [==============================] - 3s 106ms/step\n"
          ],
          "name": "stdout"
        }
      ]
    },
    {
      "metadata": {
        "colab_type": "code",
        "id": "Bf8AHrqA7t2S",
        "outputId": "2b624cba-c88c-4646-f52e-5d8bf5539e15",
        "colab": {
          "base_uri": "https://localhost:8080/",
          "height": 35
        }
      },
      "cell_type": "code",
      "source": [
        "print('Test Loss: {} | Test Accuracy: {:.2f}%'.format(results['architecture_11'][0], 100 * results['architecture_11'][1]))"
      ],
      "execution_count": 48,
      "outputs": [
        {
          "output_type": "stream",
          "text": [
            "Test Loss: 0.2952674990519881 | Test Accuracy: 90.92%\n"
          ],
          "name": "stdout"
        }
      ]
    },
    {
      "metadata": {
        "id": "26BCkdp9MAna",
        "colab_type": "text"
      },
      "cell_type": "markdown",
      "source": [
        "### 12 tentativa Accuracy: 92.43%"
      ]
    },
    {
      "metadata": {
        "colab_type": "text",
        "id": "MLvKG40a84F9"
      },
      "cell_type": "markdown",
      "source": [
        "Modelo adaptado do **Lucas Albertins**\n",
        "\n",
        "*   Sem utilização das funções de regularização\n",
        "*   Função **SGD** para compilação\n",
        "*   Adicionado mais 2 camadas convolutivas"
      ]
    },
    {
      "metadata": {
        "colab_type": "code",
        "id": "9LrDSy5AMFDO",
        "colab": {}
      },
      "cell_type": "code",
      "source": [
        "from keras.layers import Conv2D, MaxPooling2D, GlobalMaxPooling2D, BatchNormalization\n",
        "from keras.regularizers import l2\n",
        "\n",
        "model = Sequential()\n",
        "\n",
        "model.add(Conv2D(32, (3, 3), activation='relu',input_shape=(None, None, 3)))\n",
        "model.add(BatchNormalization())\n",
        "model.add(Conv2D(32, (3, 3), activation='relu'))\n",
        "model.add(BatchNormalization())\n",
        "model.add(MaxPooling2D((2, 2)))\n",
        "model.add(Dropout(0.25))\n",
        "\n",
        "model.add(Conv2D(64, (3, 3), activation='relu'))\n",
        "model.add(BatchNormalization())\n",
        "model.add(Conv2D(64, (3, 3), activation='relu'))\n",
        "model.add(BatchNormalization())\n",
        "model.add(MaxPooling2D((2, 2)))\n",
        "model.add(Dropout(0.25))\n",
        "\n",
        "model.add(Conv2D(96, (3, 3),activation='relu'))\n",
        "model.add(BatchNormalization())\n",
        "model.add(Conv2D(96, (3, 3),activation='relu'))\n",
        "model.add(BatchNormalization())\n",
        "model.add(MaxPooling2D((2, 2)))\n",
        "model.add(Dropout(0.25))\n",
        "\n",
        "model.add(Conv2D(128, (1,1)))\n",
        "model.add(GlobalMaxPooling2D())\n",
        "\n",
        "model.add(Dense(256, activation='relu'))\n",
        "model.add(Dropout(0.5))\n",
        "model.add(Dense(2, activation='sigmoid'))"
      ],
      "execution_count": 0,
      "outputs": []
    },
    {
      "metadata": {
        "colab_type": "code",
        "id": "EUZ-2eyUMSxQ",
        "colab": {}
      },
      "cell_type": "code",
      "source": [
        "model.compile(SGD(lr=0.01, momentum=0.0, decay=0.0, nesterov=False), \n",
        "              loss='binary_crossentropy', metrics=['accuracy'])"
      ],
      "execution_count": 0,
      "outputs": []
    },
    {
      "metadata": {
        "colab_type": "code",
        "id": "t9LJH3RP9H7J",
        "colab": {}
      },
      "cell_type": "code",
      "source": [
        "checkpointer = ModelCheckpoint(filepath='weights_architecture_12.hdf5', verbose=1, save_best_only=True)"
      ],
      "execution_count": 0,
      "outputs": []
    },
    {
      "metadata": {
        "colab_type": "code",
        "id": "nnQVNSzq9H7S",
        "outputId": "c9c7e8ed-24c4-4e35-a172-ee7aff9e6602",
        "colab": {
          "base_uri": "https://localhost:8080/",
          "height": 3690
        }
      },
      "cell_type": "code",
      "source": [
        "training = model.fit_generator(train_batches, steps_per_epoch=stepsPerEpoche, \n",
        "                   validation_data=validation_batches, validation_steps=validationSteps,\n",
        "                   epochs=50, verbose=2, callbacks=[checkpointer])"
      ],
      "execution_count": 52,
      "outputs": [
        {
          "output_type": "stream",
          "text": [
            "Epoch 1/50\n",
            " - 4s - loss: 1.2021 - acc: 0.5750 - val_loss: 0.6111 - val_acc: 0.6953\n",
            "\n",
            "Epoch 00001: val_loss improved from inf to 0.61105, saving model to weights_architecture_12.hdf5\n",
            "Epoch 2/50\n",
            " - 1s - loss: 0.7221 - acc: 0.6906 - val_loss: 0.6066 - val_acc: 0.6953\n",
            "\n",
            "Epoch 00002: val_loss improved from 0.61105 to 0.60656, saving model to weights_architecture_12.hdf5\n",
            "Epoch 3/50\n",
            " - 1s - loss: 0.6948 - acc: 0.7219 - val_loss: 0.3532 - val_acc: 0.8125\n",
            "\n",
            "Epoch 00003: val_loss improved from 0.60656 to 0.35317, saving model to weights_architecture_12.hdf5\n",
            "Epoch 4/50\n",
            " - 1s - loss: 0.4190 - acc: 0.8344 - val_loss: 0.4618 - val_acc: 0.8594\n",
            "\n",
            "Epoch 00004: val_loss did not improve from 0.35317\n",
            "Epoch 5/50\n",
            " - 1s - loss: 0.3956 - acc: 0.8531 - val_loss: 0.3069 - val_acc: 0.9062\n",
            "\n",
            "Epoch 00005: val_loss improved from 0.35317 to 0.30693, saving model to weights_architecture_12.hdf5\n",
            "Epoch 6/50\n",
            " - 1s - loss: 0.4932 - acc: 0.8250 - val_loss: 1.5594 - val_acc: 0.5938\n",
            "\n",
            "Epoch 00006: val_loss did not improve from 0.30693\n",
            "Epoch 7/50\n",
            " - 1s - loss: 0.4088 - acc: 0.8250 - val_loss: 0.3677 - val_acc: 0.8203\n",
            "\n",
            "Epoch 00007: val_loss did not improve from 0.30693\n",
            "Epoch 8/50\n",
            " - 1s - loss: 0.4004 - acc: 0.8594 - val_loss: 0.3186 - val_acc: 0.8984\n",
            "\n",
            "Epoch 00008: val_loss did not improve from 0.30693\n",
            "Epoch 9/50\n",
            " - 1s - loss: 0.2639 - acc: 0.8750 - val_loss: 0.5949 - val_acc: 0.6875\n",
            "\n",
            "Epoch 00009: val_loss did not improve from 0.30693\n",
            "Epoch 10/50\n",
            " - 1s - loss: 0.3484 - acc: 0.8500 - val_loss: 0.3132 - val_acc: 0.8750\n",
            "\n",
            "Epoch 00010: val_loss did not improve from 0.30693\n",
            "Epoch 11/50\n",
            " - 1s - loss: 0.3272 - acc: 0.8781 - val_loss: 0.5835 - val_acc: 0.7031\n",
            "\n",
            "Epoch 00011: val_loss did not improve from 0.30693\n",
            "Epoch 12/50\n",
            " - 1s - loss: 0.3613 - acc: 0.8625 - val_loss: 0.2707 - val_acc: 0.9062\n",
            "\n",
            "Epoch 00012: val_loss improved from 0.30693 to 0.27068, saving model to weights_architecture_12.hdf5\n",
            "Epoch 13/50\n",
            " - 1s - loss: 0.4153 - acc: 0.8469 - val_loss: 0.7821 - val_acc: 0.5234\n",
            "\n",
            "Epoch 00013: val_loss did not improve from 0.27068\n",
            "Epoch 14/50\n",
            " - 1s - loss: 0.2234 - acc: 0.9188 - val_loss: 0.2999 - val_acc: 0.8750\n",
            "\n",
            "Epoch 00014: val_loss did not improve from 0.27068\n",
            "Epoch 15/50\n",
            " - 1s - loss: 0.2613 - acc: 0.8937 - val_loss: 0.5307 - val_acc: 0.7344\n",
            "\n",
            "Epoch 00015: val_loss did not improve from 0.27068\n",
            "Epoch 16/50\n",
            " - 1s - loss: 0.3553 - acc: 0.8655 - val_loss: 0.3539 - val_acc: 0.8516\n",
            "\n",
            "Epoch 00016: val_loss did not improve from 0.27068\n",
            "Epoch 17/50\n",
            " - 1s - loss: 0.3578 - acc: 0.8812 - val_loss: 0.6659 - val_acc: 0.6094\n",
            "\n",
            "Epoch 00017: val_loss did not improve from 0.27068\n",
            "Epoch 18/50\n",
            " - 1s - loss: 0.2793 - acc: 0.8844 - val_loss: 0.2359 - val_acc: 0.9219\n",
            "\n",
            "Epoch 00018: val_loss improved from 0.27068 to 0.23586, saving model to weights_architecture_12.hdf5\n",
            "Epoch 19/50\n",
            " - 1s - loss: 0.3172 - acc: 0.8875 - val_loss: 0.5323 - val_acc: 0.6953\n",
            "\n",
            "Epoch 00019: val_loss did not improve from 0.23586\n",
            "Epoch 20/50\n",
            " - 1s - loss: 0.2719 - acc: 0.8844 - val_loss: 0.6416 - val_acc: 0.6094\n",
            "\n",
            "Epoch 00020: val_loss did not improve from 0.23586\n",
            "Epoch 21/50\n",
            " - 1s - loss: 0.2758 - acc: 0.9125 - val_loss: 0.4768 - val_acc: 0.7656\n",
            "\n",
            "Epoch 00021: val_loss did not improve from 0.23586\n",
            "Epoch 22/50\n",
            " - 1s - loss: 0.4029 - acc: 0.8438 - val_loss: 0.5906 - val_acc: 0.7188\n",
            "\n",
            "Epoch 00022: val_loss did not improve from 0.23586\n",
            "Epoch 23/50\n",
            " - 1s - loss: 0.3581 - acc: 0.8375 - val_loss: 0.3404 - val_acc: 0.8516\n",
            "\n",
            "Epoch 00023: val_loss did not improve from 0.23586\n",
            "Epoch 24/50\n",
            " - 1s - loss: 0.2436 - acc: 0.9062 - val_loss: 0.2618 - val_acc: 0.8906\n",
            "\n",
            "Epoch 00024: val_loss did not improve from 0.23586\n",
            "Epoch 25/50\n",
            " - 1s - loss: 0.2323 - acc: 0.9031 - val_loss: 0.2624 - val_acc: 0.9062\n",
            "\n",
            "Epoch 00025: val_loss did not improve from 0.23586\n",
            "Epoch 26/50\n",
            " - 1s - loss: 0.2299 - acc: 0.9000 - val_loss: 0.3349 - val_acc: 0.8750\n",
            "\n",
            "Epoch 00026: val_loss did not improve from 0.23586\n",
            "Epoch 27/50\n",
            " - 1s - loss: 0.2495 - acc: 0.8937 - val_loss: 0.4603 - val_acc: 0.8125\n",
            "\n",
            "Epoch 00027: val_loss did not improve from 0.23586\n",
            "Epoch 28/50\n",
            " - 1s - loss: 0.2048 - acc: 0.9281 - val_loss: 0.6171 - val_acc: 0.6953\n",
            "\n",
            "Epoch 00028: val_loss did not improve from 0.23586\n",
            "Epoch 29/50\n",
            " - 1s - loss: 0.2078 - acc: 0.9219 - val_loss: 0.3943 - val_acc: 0.8203\n",
            "\n",
            "Epoch 00029: val_loss did not improve from 0.23586\n",
            "Epoch 30/50\n",
            " - 1s - loss: 0.2632 - acc: 0.8969 - val_loss: 0.2185 - val_acc: 0.9375\n",
            "\n",
            "Epoch 00030: val_loss improved from 0.23586 to 0.21849, saving model to weights_architecture_12.hdf5\n",
            "Epoch 31/50\n",
            " - 1s - loss: 0.2364 - acc: 0.9000 - val_loss: 0.3494 - val_acc: 0.8295\n",
            "\n",
            "Epoch 00031: val_loss did not improve from 0.21849\n",
            "Epoch 32/50\n",
            " - 1s - loss: 0.2243 - acc: 0.9094 - val_loss: 0.5496 - val_acc: 0.7109\n",
            "\n",
            "Epoch 00032: val_loss did not improve from 0.21849\n",
            "Epoch 33/50\n",
            " - 1s - loss: 0.1291 - acc: 0.9594 - val_loss: 0.2687 - val_acc: 0.8906\n",
            "\n",
            "Epoch 00033: val_loss did not improve from 0.21849\n",
            "Epoch 34/50\n",
            " - 1s - loss: 0.1914 - acc: 0.9313 - val_loss: 0.7389 - val_acc: 0.6172\n",
            "\n",
            "Epoch 00034: val_loss did not improve from 0.21849\n",
            "Epoch 35/50\n",
            " - 1s - loss: 0.1436 - acc: 0.9437 - val_loss: 0.3442 - val_acc: 0.8672\n",
            "\n",
            "Epoch 00035: val_loss did not improve from 0.21849\n",
            "Epoch 36/50\n",
            " - 1s - loss: 0.2009 - acc: 0.9219 - val_loss: 0.6912 - val_acc: 0.6250\n",
            "\n",
            "Epoch 00036: val_loss did not improve from 0.21849\n",
            "Epoch 37/50\n",
            " - 1s - loss: 0.2135 - acc: 0.9000 - val_loss: 0.1799 - val_acc: 0.9453\n",
            "\n",
            "Epoch 00037: val_loss improved from 0.21849 to 0.17990, saving model to weights_architecture_12.hdf5\n",
            "Epoch 38/50\n",
            " - 1s - loss: 0.2371 - acc: 0.9094 - val_loss: 1.1935 - val_acc: 0.5156\n",
            "\n",
            "Epoch 00038: val_loss did not improve from 0.17990\n",
            "Epoch 39/50\n",
            " - 1s - loss: 0.1179 - acc: 0.9562 - val_loss: 0.1944 - val_acc: 0.9297\n",
            "\n",
            "Epoch 00039: val_loss did not improve from 0.17990\n",
            "Epoch 40/50\n",
            " - 1s - loss: 0.3104 - acc: 0.8500 - val_loss: 0.4000 - val_acc: 0.8281\n",
            "\n",
            "Epoch 00040: val_loss did not improve from 0.17990\n",
            "Epoch 41/50\n",
            " - 1s - loss: 0.1402 - acc: 0.9469 - val_loss: 0.2559 - val_acc: 0.8984\n",
            "\n",
            "Epoch 00041: val_loss did not improve from 0.17990\n",
            "Epoch 42/50\n",
            " - 1s - loss: 0.2669 - acc: 0.8906 - val_loss: 0.2206 - val_acc: 0.9219\n",
            "\n",
            "Epoch 00042: val_loss did not improve from 0.17990\n",
            "Epoch 43/50\n",
            " - 1s - loss: 0.1992 - acc: 0.9304 - val_loss: 0.4968 - val_acc: 0.7656\n",
            "\n",
            "Epoch 00043: val_loss did not improve from 0.17990\n",
            "Epoch 44/50\n",
            " - 1s - loss: 0.1965 - acc: 0.9281 - val_loss: 0.1387 - val_acc: 0.9766\n",
            "\n",
            "Epoch 00044: val_loss improved from 0.17990 to 0.13873, saving model to weights_architecture_12.hdf5\n",
            "Epoch 45/50\n",
            " - 1s - loss: 0.2372 - acc: 0.9156 - val_loss: 0.3214 - val_acc: 0.8438\n",
            "\n",
            "Epoch 00045: val_loss did not improve from 0.13873\n",
            "Epoch 46/50\n",
            " - 1s - loss: 0.3165 - acc: 0.9000 - val_loss: 0.3280 - val_acc: 0.8516\n",
            "\n",
            "Epoch 00046: val_loss did not improve from 0.13873\n",
            "Epoch 47/50\n",
            " - 1s - loss: 0.1579 - acc: 0.9375 - val_loss: 0.8021 - val_acc: 0.5312\n",
            "\n",
            "Epoch 00047: val_loss did not improve from 0.13873\n",
            "Epoch 48/50\n",
            " - 1s - loss: 0.1390 - acc: 0.9594 - val_loss: 0.2047 - val_acc: 0.9205\n",
            "\n",
            "Epoch 00048: val_loss did not improve from 0.13873\n",
            "Epoch 49/50\n",
            " - 1s - loss: 0.2191 - acc: 0.9125 - val_loss: 0.5404 - val_acc: 0.7500\n",
            "\n",
            "Epoch 00049: val_loss did not improve from 0.13873\n",
            "Epoch 50/50\n",
            " - 1s - loss: 0.2580 - acc: 0.9156 - val_loss: 0.2015 - val_acc: 0.9297\n",
            "\n",
            "Epoch 00050: val_loss did not improve from 0.13873\n"
          ],
          "name": "stdout"
        }
      ]
    },
    {
      "metadata": {
        "colab_type": "code",
        "id": "1jTgRNsw9H7Y",
        "outputId": "c0fca149-8275-4d60-c80f-7545e556bcb5",
        "colab": {
          "base_uri": "https://localhost:8080/",
          "height": 380
        }
      },
      "cell_type": "code",
      "source": [
        "# plotar loss e accuracy para os datasets 'train' e 'test'\n",
        "plt.style.use(\"ggplot\")\n",
        "plt.figure()\n",
        "plt.plot(training.history['acc'], label='Accuracy')\n",
        "plt.plot(training.history['loss'], label='Loss')\n",
        "plt.xlabel('Epochs')\n",
        "plt.ylabel('Accuracy')\n",
        "plt.title(\"Training Loss and Accuracy\")\n",
        "plt.ylabel(\"Loss/Accuracy\")\n",
        "plt.legend()\n",
        "plt.savefig('architecture_12.png', bbox_inches='tight')"
      ],
      "execution_count": 53,
      "outputs": [
        {
          "output_type": "display_data",
          "data": {
            "image/png": "[encoded data removed]",
            "text/plain": [
              "<matplotlib.figure.Figure at 0x7f928dc5f6a0>"
            ]
          },
          "metadata": {
            "tags": []
          }
        }
      ]
    },
    {
      "metadata": {
        "colab_type": "code",
        "id": "Bwv3EcY-9H7g",
        "colab": {}
      },
      "cell_type": "code",
      "source": [
        "model.load_weights('weights_architecture_12.hdf5')"
      ],
      "execution_count": 0,
      "outputs": []
    },
    {
      "metadata": {
        "colab_type": "code",
        "id": "nF36tfx69H7v",
        "outputId": "c3f9313a-d2d6-4144-b6b6-9efa65459653",
        "colab": {
          "base_uri": "https://localhost:8080/",
          "height": 35
        }
      },
      "cell_type": "code",
      "source": [
        "results['architecture_12'] = model.evaluate_generator(test_batches, steps=bSize, use_multiprocessing=True, verbose=1)"
      ],
      "execution_count": 55,
      "outputs": [
        {
          "output_type": "stream",
          "text": [
            "32/32 [==============================] - 3s 108ms/step\n"
          ],
          "name": "stdout"
        }
      ]
    },
    {
      "metadata": {
        "colab_type": "code",
        "id": "tG7HPabu9H76",
        "outputId": "a57b2172-f1e5-4839-aa7e-46224894bf75",
        "colab": {
          "base_uri": "https://localhost:8080/",
          "height": 35
        }
      },
      "cell_type": "code",
      "source": [
        "print('Test Loss: {} | Test Accuracy: {:.2f}%'.format(results['architecture_12'][0], 100 * results['architecture_12'][1]))"
      ],
      "execution_count": 56,
      "outputs": [
        {
          "output_type": "stream",
          "text": [
            "Test Loss: 0.2124328811187297 | Test Accuracy: 92.43%\n"
          ],
          "name": "stdout"
        }
      ]
    },
    {
      "metadata": {
        "id": "tVDMJpV6w_GG",
        "colab_type": "text"
      },
      "cell_type": "markdown",
      "source": [
        "### Graficos"
      ]
    },
    {
      "metadata": {
        "colab_type": "code",
        "id": "_zs8IUimxKD9",
        "outputId": "9923217d-7c7c-44a0-e75a-460550988f70",
        "colab": {
          "base_uri": "https://localhost:8080/",
          "height": 403
        }
      },
      "cell_type": "code",
      "source": [
        "plt.figure(figsize=(9,6))\n",
        "plt.plot(training.history['loss'], label='Train')\n",
        "plt.title('Model Loss')\n",
        "plt.xlabel('Epochs')\n",
        "plt.ylabel('Loss')\n",
        "plt.legend()\n",
        "plt.show()"
      ],
      "execution_count": 0,
      "outputs": [
        {
          "output_type": "display_data",
          "data": {
            "image/png": "[encoded data removed]",
            "text/plain": [
              "<matplotlib.figure.Figure at 0x7fedd75c3400>"
            ]
          },
          "metadata": {
            "tags": []
          }
        }
      ]
    },
    {
      "metadata": {
        "colab_type": "code",
        "id": "DzA7mEgyxKED",
        "outputId": "6db9e9d0-6ff4-4e8d-e64b-c1278a76cb68",
        "colab": {
          "base_uri": "https://localhost:8080/",
          "height": 403
        }
      },
      "cell_type": "code",
      "source": [
        "plt.figure(figsize=(9,6))\n",
        "plt.plot(training.history['acc'], label='Train')\n",
        "plt.title('Model Accuracy')\n",
        "plt.xlabel('Epochs')\n",
        "plt.ylabel('Accuracy')\n",
        "plt.legend()\n",
        "plt.show()"
      ],
      "execution_count": 0,
      "outputs": [
        {
          "output_type": "display_data",
          "data": {
            "image/png": "[encoded data removed]",
            "text/plain": [
              "<matplotlib.figure.Figure at 0x7fa434f9de48>"
            ]
          },
          "metadata": {
            "tags": []
          }
        }
      ]
    },
    {
      "metadata": {
        "id": "eDbaGUgHsnG4",
        "colab_type": "text"
      },
      "cell_type": "markdown",
      "source": [
        "## Implementação código do https://medium.com/@ksusorokina/image-classification-with-convolutional-neural-networks-496815db12a8"
      ]
    },
    {
      "metadata": {
        "id": "CzZXa3jhxuhv",
        "colab_type": "text"
      },
      "cell_type": "markdown",
      "source": [
        "### 1 Teste"
      ]
    },
    {
      "metadata": {
        "id": "J4kzEpYms26N",
        "colab_type": "code",
        "colab": {}
      },
      "cell_type": "code",
      "source": [
        "model = Sequential()"
      ],
      "execution_count": 0,
      "outputs": []
    },
    {
      "metadata": {
        "id": "WYk_9bt-st1M",
        "colab_type": "code",
        "colab": {}
      },
      "cell_type": "code",
      "source": [
        "model.add(Conv2D(32, (3, 3), input_shape=(120, 120, 3)))\n",
        "model.add(Activation('relu'))\n",
        "model.add(MaxPooling2D(pool_size=(2, 2)))\n",
        "\n",
        "model.add(Conv2D(32, (3, 3)))\n",
        "model.add(Activation('relu'))\n",
        "model.add(MaxPooling2D(pool_size=(2, 2)))\n",
        "\n",
        "model.add(Conv2D(64, (3, 3)))\n",
        "model.add(Activation('relu'))\n",
        "model.add(MaxPooling2D(pool_size=(2, 2)))\n",
        "\n",
        "model.add(Flatten()) \n",
        "model.add(Dense(64))\n",
        "model.add(Activation('relu'))\n",
        "model.add(Dropout(0.5))\n",
        "model.add(Dense(2))\n",
        "model.add(Activation('sigmoid'))"
      ],
      "execution_count": 0,
      "outputs": []
    },
    {
      "metadata": {
        "id": "OO4636DEs9UO",
        "colab_type": "code",
        "colab": {}
      },
      "cell_type": "code",
      "source": [
        "model.compile(loss='binary_crossentropy',\n",
        "              optimizer='rmsprop',\n",
        "              metrics=['accuracy'])"
      ],
      "execution_count": 0,
      "outputs": []
    },
    {
      "metadata": {
        "id": "Ffeyo8GwtzF1",
        "colab_type": "text"
      },
      "cell_type": "markdown",
      "source": [
        "\n",
        "\n",
        "---\n",
        "\n"
      ]
    },
    {
      "metadata": {
        "colab_type": "code",
        "id": "kgi7lX9dt0Bg",
        "colab": {}
      },
      "cell_type": "code",
      "source": [
        "bSize = 16"
      ],
      "execution_count": 0,
      "outputs": []
    },
    {
      "metadata": {
        "colab_type": "code",
        "id": "tu6dqL_Rt0By",
        "colab": {}
      },
      "cell_type": "code",
      "source": [
        "datagen = ImageDataGenerator(rescale=1/255.)"
      ],
      "execution_count": 0,
      "outputs": []
    },
    {
      "metadata": {
        "colab_type": "code",
        "outputId": "125eb753-7f43-4039-cb26-fc5de20b4658",
        "id": "iSHrq_pat0B_",
        "colab": {
          "base_uri": "https://localhost:8080/",
          "height": 54
        }
      },
      "cell_type": "code",
      "source": [
        "train_batches = datagen.flow_from_directory(train_path, target_size=(120, 120), classes=['C', 'NC'], batch_size=bSize)\n",
        "test_batches = datagen.flow_from_directory(test_path, target_size=(120, 120), classes=['C', 'NC'], batch_size=bSize)"
      ],
      "execution_count": 0,
      "outputs": [
        {
          "output_type": "stream",
          "text": [
            "Found 5344 images belonging to 2 classes.\n",
            "Found 1336 images belonging to 2 classes.\n"
          ],
          "name": "stdout"
        }
      ]
    },
    {
      "metadata": {
        "colab_type": "code",
        "id": "DzcDkpRuulYK",
        "colab": {}
      },
      "cell_type": "code",
      "source": [
        "stepsPerEpoche = len(train_batches)/bSize"
      ],
      "execution_count": 0,
      "outputs": []
    },
    {
      "metadata": {
        "id": "QXSZi_83utgp",
        "colab_type": "code",
        "colab": {}
      },
      "cell_type": "code",
      "source": [
        "model.fit_generator(train_batches, steps_per_epoch=stepsPerEpoche, \n",
        "                    epochs=5, verbose=2)\n"
      ],
      "execution_count": 0,
      "outputs": []
    },
    {
      "metadata": {
        "id": "x-62f7kIyWdD",
        "colab_type": "code",
        "colab": {}
      },
      "cell_type": "code",
      "source": [
        "model.save_weights('25_epochs_exemplo2.h5')"
      ],
      "execution_count": 0,
      "outputs": []
    },
    {
      "metadata": {
        "id": "uGo-Y9ndH0HD",
        "colab_type": "code",
        "outputId": "5b239bff-48f0-4496-8938-90b6eacf580a",
        "colab": {
          "base_uri": "https://localhost:8080/",
          "height": 1872
        }
      },
      "cell_type": "code",
      "source": [
        "model.fit_generator(train_batches, steps_per_epoch=stepsPerEpoche, \n",
        "                    epochs=50, verbose=2)"
      ],
      "execution_count": 0,
      "outputs": [
        {
          "output_type": "stream",
          "text": [
            "Epoch 1/50\n",
            " - 2s - loss: 0.7353 - acc: 0.4940\n",
            "Epoch 2/50\n",
            " - 1s - loss: 0.6482 - acc: 0.6443\n",
            "Epoch 3/50\n",
            " - 1s - loss: 0.5639 - acc: 0.7693\n",
            "Epoch 4/50\n",
            " - 1s - loss: 0.5024 - acc: 0.7723\n",
            "Epoch 5/50\n",
            " - 1s - loss: 0.4525 - acc: 0.7812\n",
            "Epoch 6/50\n",
            " - 1s - loss: 0.3668 - acc: 0.8631\n",
            "Epoch 7/50\n",
            " - 1s - loss: 0.3639 - acc: 0.8646\n",
            "Epoch 8/50\n",
            " - 1s - loss: 0.3626 - acc: 0.8586\n",
            "Epoch 9/50\n",
            " - 1s - loss: 0.3493 - acc: 0.8527\n",
            "Epoch 10/50\n",
            " - 1s - loss: 0.2751 - acc: 0.8958\n",
            "Epoch 11/50\n",
            " - 1s - loss: 0.4273 - acc: 0.8646\n",
            "Epoch 12/50\n",
            " - 1s - loss: 0.3008 - acc: 0.9241\n",
            "Epoch 13/50\n",
            " - 1s - loss: 0.3326 - acc: 0.8795\n",
            "Epoch 14/50\n",
            " - 1s - loss: 0.2798 - acc: 0.8824\n",
            "Epoch 15/50\n",
            " - 1s - loss: 0.3081 - acc: 0.8899\n",
            "Epoch 16/50\n",
            " - 1s - loss: 0.3306 - acc: 0.8914\n",
            "Epoch 17/50\n",
            " - 1s - loss: 0.3057 - acc: 0.8810\n",
            "Epoch 18/50\n",
            " - 1s - loss: 0.2491 - acc: 0.9226\n",
            "Epoch 19/50\n",
            " - 1s - loss: 0.2335 - acc: 0.9301\n",
            "Epoch 20/50\n",
            " - 1s - loss: 0.3320 - acc: 0.9077\n",
            "Epoch 21/50\n",
            " - 1s - loss: 0.2576 - acc: 0.9167\n",
            "Epoch 22/50\n",
            " - 1s - loss: 0.2542 - acc: 0.9226\n",
            "Epoch 23/50\n",
            " - 1s - loss: 0.2538 - acc: 0.9152\n",
            "Epoch 24/50\n",
            " - 1s - loss: 0.2006 - acc: 0.9301\n",
            "Epoch 25/50\n",
            " - 1s - loss: 0.2526 - acc: 0.9286\n",
            "Epoch 26/50\n",
            " - 1s - loss: 0.1841 - acc: 0.9420\n",
            "Epoch 27/50\n",
            " - 1s - loss: 0.1776 - acc: 0.9449\n",
            "Epoch 28/50\n",
            " - 1s - loss: 0.2435 - acc: 0.9286\n",
            "Epoch 29/50\n",
            " - 1s - loss: 0.2152 - acc: 0.9301\n",
            "Epoch 30/50\n",
            " - 1s - loss: 0.2119 - acc: 0.9330\n",
            "Epoch 31/50\n",
            " - 1s - loss: 0.2390 - acc: 0.9167\n",
            "Epoch 32/50\n",
            " - 1s - loss: 0.2404 - acc: 0.9033\n",
            "Epoch 33/50\n",
            " - 1s - loss: 0.1586 - acc: 0.9479\n",
            "Epoch 34/50\n",
            " - 1s - loss: 0.1678 - acc: 0.9494\n",
            "Epoch 35/50\n",
            " - 1s - loss: 0.2015 - acc: 0.9301\n",
            "Epoch 36/50\n",
            " - 1s - loss: 0.2238 - acc: 0.9390\n",
            "Epoch 37/50\n",
            " - 1s - loss: 0.2243 - acc: 0.9286\n",
            "Epoch 38/50\n",
            " - 1s - loss: 0.1819 - acc: 0.9420\n",
            "Epoch 39/50\n",
            " - 1s - loss: 0.1811 - acc: 0.9375\n",
            "Epoch 40/50\n",
            " - 1s - loss: 0.2420 - acc: 0.9152\n",
            "Epoch 41/50\n",
            " - 1s - loss: 0.2278 - acc: 0.9241\n",
            "Epoch 42/50\n",
            " - 1s - loss: 0.2116 - acc: 0.9435\n",
            "Epoch 43/50\n",
            " - 1s - loss: 0.2600 - acc: 0.9271\n",
            "Epoch 44/50\n",
            " - 1s - loss: 0.2057 - acc: 0.9226\n",
            "Epoch 45/50\n",
            " - 1s - loss: 0.1665 - acc: 0.9360\n",
            "Epoch 46/50\n",
            " - 1s - loss: 0.2349 - acc: 0.9182\n",
            "Epoch 47/50\n",
            " - 1s - loss: 0.2218 - acc: 0.9256\n",
            "Epoch 48/50\n",
            " - 1s - loss: 0.1650 - acc: 0.9256\n",
            "Epoch 49/50\n",
            " - 1s - loss: 0.1958 - acc: 0.9420\n",
            "Epoch 50/50\n",
            " - 1s - loss: 0.1854 - acc: 0.9435\n"
          ],
          "name": "stdout"
        },
        {
          "output_type": "execute_result",
          "data": {
            "text/plain": [
              "<keras.callbacks.History at 0x7fe0a48a1860>"
            ]
          },
          "metadata": {
            "tags": []
          },
          "execution_count": 11
        }
      ]
    },
    {
      "metadata": {
        "id": "WwHPhgxHH2Fi",
        "colab_type": "code",
        "colab": {}
      },
      "cell_type": "code",
      "source": [
        "model.save_weights('50_epochs_exemplo2.h5')"
      ],
      "execution_count": 0,
      "outputs": []
    }
  ]
}