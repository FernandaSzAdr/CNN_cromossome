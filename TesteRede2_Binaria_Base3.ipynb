{
  "nbformat": 4,
  "nbformat_minor": 0,
  "metadata": {
    "colab": {
      "name": "TesteRede2_Binaria_Base3.ipynb",
      "version": "0.3.2",
      "provenance": [],
      "include_colab_link": true
    },
    "kernelspec": {
      "name": "python3",
      "display_name": "Python 3"
    },
    "accelerator": "GPU"
  },
  "cells": [
    {
      "cell_type": "markdown",
      "metadata": {
        "id": "view-in-github",
        "colab_type": "text"
      },
      "source": [
        "<a href=\"https://colab.research.google.com/github/FernandaSzAdr/KNN_cromossome/blob/master/TesteRede2_Binaria_Base3.ipynb\" target=\"_parent\"><img src=\"https://colab.research.google.com/assets/colab-badge.svg\" alt=\"Open In Colab\"/></a>"
      ]
    },
    {
      "metadata": {
        "id": "xN-oUTtcif3Q",
        "colab_type": "code",
        "outputId": "dccfe0fb-c608-4759-e288-52517925b641",
        "colab": {
          "base_uri": "https://localhost:8080/",
          "height": 35
        }
      },
      "cell_type": "code",
      "source": [
        "# Load the Drive helper and mount\n",
        "from google.colab import drive\n",
        "\n",
        "# This will prompt for authorization.\n",
        "drive.mount('/content/drive/')"
      ],
      "execution_count": 4,
      "outputs": [
        {
          "output_type": "stream",
          "text": [
            "Drive already mounted at /content/drive/; to attempt to forcibly remount, call drive.mount(\"/content/drive/\", force_remount=True).\n"
          ],
          "name": "stdout"
        }
      ]
    },
    {
      "metadata": {
        "id": "gzcuEGSklnwS",
        "colab_type": "code",
        "outputId": "0c9ebd7b-c3fc-405c-f3b2-e8eb3295f9ff",
        "colab": {
          "base_uri": "https://localhost:8080/",
          "height": 35
        }
      },
      "cell_type": "code",
      "source": [
        "import os\n",
        "import cv2\n",
        "import csv\n",
        "!pip install imutils\n",
        "import imutils\n",
        "from skimage import transform\n",
        "import numpy as np\n",
        "import keras\n",
        "from keras import backend as K\n",
        "from keras.models import Sequential\n",
        "from keras.layers import Activation\n",
        "from keras.optimizers import SGD\n",
        "from keras.layers.core import Dense, Flatten, Dropout\n",
        "from keras.preprocessing.image import ImageDataGenerator\n",
        "from keras.layers.normalization import BatchNormalization\n",
        "from keras.layers.convolutional import *\n",
        "from keras.callbacks import ModelCheckpoint\n",
        "from matplotlib import pyplot as plt\n",
        "from sklearn.metrics import confusion_matrix\n",
        "from sklearn.metrics import precision_score\n",
        "import itertools\n",
        "import matplotlib.pyplot as plt"
      ],
      "execution_count": 5,
      "outputs": [
        {
          "output_type": "stream",
          "text": [
            "Requirement already satisfied: imutils in /usr/local/lib/python3.6/dist-packages (0.5.2)\n"
          ],
          "name": "stdout"
        }
      ]
    },
    {
      "metadata": {
        "id": "1o2obGj_F7TE",
        "colab_type": "text"
      },
      "cell_type": "markdown",
      "source": [
        "## Funções"
      ]
    },
    {
      "metadata": {
        "id": "e835RSQgEgA6",
        "colab_type": "code",
        "colab": {}
      },
      "cell_type": "code",
      "source": [
        "def converte(regiao):\n",
        "   regiao = np.array(regiao).astype('float32')/255\n",
        "   regiao = transform.resize(regiao, (120, 120, 3))\n",
        "   regiao = np.expand_dims(regiao, axis=0)\n",
        "   return regiao\n"
      ],
      "execution_count": 0,
      "outputs": []
    },
    {
      "metadata": {
        "id": "9ERJTQ3AgFJb",
        "colab_type": "code",
        "colab": {}
      },
      "cell_type": "code",
      "source": [
        "def ler_images_teste(arquiteture):\n",
        "  y_true = []\n",
        "  y_predict = []\n",
        "  images_test = os.listdir(test_path)\n",
        "  local = 'drive/My Drive/Base_CNN/Binarizado3/Resultado_Image/' + arquiteture\n",
        "  if os.path.isdir(local) == False:\n",
        "    os.mkdir(local)\n",
        "  \n",
        "  for img in images_test:\n",
        "    # Pega cada imagem separadamente do folder de teste\n",
        "    image = cv2.imread(test_path + '/' + img)\n",
        "    f = open('drive/My Drive/Base_CNN/Binarizado2/posicoes_segmentada.csv', 'r')\n",
        "    \n",
        "    copia = image.copy()\n",
        "\n",
        "    try:\n",
        "      leitor = csv.reader(f)\n",
        "      leitor = list(leitor)\n",
        "      leitor.pop(0)\n",
        "      for linha in leitor:\n",
        "        if len(linha) > 0:\n",
        "          # Para cada região dessa imagem:\n",
        "          if linha[0] == img:\n",
        "            posicoes = []\n",
        "            x = int(linha[3])\n",
        "            y = int(linha[4])\n",
        "            w = int(linha[5])\n",
        "            h = int(linha[6])\n",
        "            \n",
        "            # Label da região\n",
        "            label = linha[1]\n",
        "            if label == 'NC':\n",
        "              y_true.append(0)\n",
        "            else:\n",
        "              y_true.append(1)\n",
        "            \n",
        "            # Região\n",
        "            regiao = image[y: y + h, x: x + w]\n",
        "            regiao = converte(regiao)\n",
        "            \n",
        "            # Coloca a região na função e obtem o resultado\n",
        "            predicao = model.predict(regiao,batch_size=bSize,verbose=0)\n",
        "            \n",
        "            # Se é um cromossomo:\n",
        "            if predicao[0][0] > predicao[0][1]:\n",
        "              y_predict.append(1)\n",
        "              cv2.rectangle(copia,(x, y),(x+w, y+h),(0,0,255), 1)\n",
        "            # Se não for um cromossomo:\n",
        "            else:\n",
        "              y_predict.append(0)\n",
        "              cv2.rectangle(copia,(x, y),(x+w, y+h),(0,255,0), 1)\n",
        "                        \n",
        "    finally:\n",
        "      f.close()\n",
        "    \n",
        "    cv2.imwrite(local + '/' + img, copia)\n",
        "  \n",
        "  return y_true, y_predict\n"
      ],
      "execution_count": 0,
      "outputs": []
    },
    {
      "metadata": {
        "id": "WlPBqB_v3x2A",
        "colab_type": "text"
      },
      "cell_type": "markdown",
      "source": [
        "\n",
        "\n",
        "---\n",
        "\n"
      ]
    },
    {
      "metadata": {
        "id": "8KTtm8K7qg1n",
        "colab_type": "text"
      },
      "cell_type": "markdown",
      "source": [
        "# Implementação"
      ]
    },
    {
      "metadata": {
        "id": "ZNfohSUpo1n0",
        "colab_type": "text"
      },
      "cell_type": "markdown",
      "source": [
        "\n",
        "\n",
        "*   Batch size = 32\n",
        "*   Image size = 120x120\n",
        "\n"
      ]
    },
    {
      "metadata": {
        "id": "AUzRQ1CrBDKE",
        "colab_type": "text"
      },
      "cell_type": "markdown",
      "source": [
        "## Variaveis globais"
      ]
    },
    {
      "metadata": {
        "colab_type": "text",
        "id": "Vc-_Lcq7GEqt"
      },
      "cell_type": "markdown",
      "source": [
        "\n",
        "\n",
        "*   Batch size = 32\n",
        "*   Image size = 120x120\n",
        "\n"
      ]
    },
    {
      "metadata": {
        "id": "ITtEfxrilym7",
        "colab_type": "code",
        "colab": {}
      },
      "cell_type": "code",
      "source": [
        "train_path = 'drive/My Drive/Base_CNN/Binarizado3/Train'\n",
        "test_path = 'drive/My Drive/Base_CNN/Binarizado3/Test'\n",
        "validation_path = 'drive/My Drive/Base_CNN/Binarizado3/Validation'"
      ],
      "execution_count": 0,
      "outputs": []
    },
    {
      "metadata": {
        "id": "_TFWtLbQ2fUI",
        "colab_type": "code",
        "colab": {}
      },
      "cell_type": "code",
      "source": [
        "results = {}"
      ],
      "execution_count": 0,
      "outputs": []
    },
    {
      "metadata": {
        "id": "W3zmFDRmnYem",
        "colab_type": "code",
        "colab": {}
      },
      "cell_type": "code",
      "source": [
        "bSize = 32"
      ],
      "execution_count": 0,
      "outputs": []
    },
    {
      "metadata": {
        "id": "dCNH0jPl3WTV",
        "colab_type": "code",
        "colab": {}
      },
      "cell_type": "code",
      "source": [
        "datagen = ImageDataGenerator(rescale=1/255.)"
      ],
      "execution_count": 0,
      "outputs": []
    },
    {
      "metadata": {
        "id": "YiMXe23Vmbo-",
        "colab_type": "code",
        "outputId": "6efdb3d2-ee63-4f94-d759-e8a872f62b72",
        "colab": {
          "base_uri": "https://localhost:8080/",
          "height": 54
        }
      },
      "cell_type": "code",
      "source": [
        "train_batches = datagen.flow_from_directory(train_path, target_size=(120, 120), \n",
        "                                            classes=['NC', 'C'], \n",
        "                                            batch_size=bSize)\n",
        "validation_batches = datagen.flow_from_directory(validation_path, \n",
        "                                                 target_size=(120, 120), \n",
        "                                                 classes=['NC', 'C'], \n",
        "                                                 batch_size=bSize)"
      ],
      "execution_count": 12,
      "outputs": [
        {
          "output_type": "stream",
          "text": [
            "Found 4230 images belonging to 2 classes.\n",
            "Found 1100 images belonging to 2 classes.\n"
          ],
          "name": "stdout"
        }
      ]
    },
    {
      "metadata": {
        "id": "vE-dZtSv5mde",
        "colab_type": "code",
        "colab": {}
      },
      "cell_type": "code",
      "source": [
        "stepsPerEpoche = len(train_batches)/bSize\n",
        "validationSteps = len(validation_batches)/bSize"
      ],
      "execution_count": 0,
      "outputs": []
    },
    {
      "metadata": {
        "id": "pOQMFxK5VUPa",
        "colab_type": "code",
        "outputId": "2bf95e51-200c-4970-e1e1-f138a1c57ee8",
        "colab": {
          "base_uri": "https://localhost:8080/",
          "height": 35
        }
      },
      "cell_type": "code",
      "source": [
        "train_batches.class_indices"
      ],
      "execution_count": 14,
      "outputs": [
        {
          "output_type": "execute_result",
          "data": {
            "text/plain": [
              "{'C': 1, 'NC': 0}"
            ]
          },
          "metadata": {
            "tags": []
          },
          "execution_count": 14
        }
      ]
    },
    {
      "metadata": {
        "colab_type": "text",
        "id": "S9IcYhWBGErq"
      },
      "cell_type": "markdown",
      "source": [
        "\n",
        "\n",
        "---\n",
        "\n"
      ]
    },
    {
      "metadata": {
        "id": "wH56YdE5rlnU",
        "colab_type": "text"
      },
      "cell_type": "markdown",
      "source": [
        "## 1 tentativa Precision: 0.00%"
      ]
    },
    {
      "metadata": {
        "id": "NBCIFVOlompR",
        "colab_type": "text"
      },
      "cell_type": "markdown",
      "source": [
        "**Descrição**\n",
        "\n",
        "\n",
        "*   Modelo descrito no artigo \"Crowdsourcing for Chromosome Segmentation and Deep Classification\"\n",
        "\n"
      ]
    },
    {
      "metadata": {
        "id": "iclhpyXmi_DU",
        "colab_type": "code",
        "colab": {}
      },
      "cell_type": "code",
      "source": [
        "architecture = 'architecture_1'"
      ],
      "execution_count": 0,
      "outputs": []
    },
    {
      "metadata": {
        "id": "IU71NY-9AzSi",
        "colab_type": "text"
      },
      "cell_type": "markdown",
      "source": [
        "### Modelo"
      ]
    },
    {
      "metadata": {
        "id": "rNosdG-ioNYU",
        "colab_type": "code",
        "colab": {}
      },
      "cell_type": "code",
      "source": [
        "model = Sequential([\n",
        "    Conv2D(64, (3, 3), activation='relu', input_shape=(120, 120, 3)),\n",
        "    Conv2D(64, (3, 3), activation='relu'),\n",
        "    Dropout(0.2),\n",
        "    MaxPooling2D(pool_size=(2, 2)),\n",
        "   \n",
        "    Conv2D(32, (3, 3), activation='relu'),\n",
        "    Conv2D(32, (3, 3), activation='relu'),\n",
        "    Dropout(0.2),\n",
        "    MaxPooling2D(pool_size=(2, 2)),\n",
        "   \n",
        "    Conv2D(16, (3, 3), activation='relu'),\n",
        "    Conv2D(16, (3, 3), activation='relu'),\n",
        "    Dropout(0.2),\n",
        "    MaxPooling2D(pool_size=(2, 2)),\n",
        "   \n",
        "    Conv2D(8, (3, 3), activation='relu'),\n",
        "    Conv2D(8, (3, 3), activation='relu'),\n",
        "    Dropout(0.2),\n",
        "    MaxPooling2D(pool_size=(2, 2)),\n",
        "    \n",
        "    Flatten(),\n",
        "    Dense(1024, activation='sigmoid'),\n",
        "    Dense(512, activation='sigmoid'),\n",
        "   \n",
        "    Dense(2, activation='softmax')\n",
        "]\n",
        ")"
      ],
      "execution_count": 0,
      "outputs": []
    },
    {
      "metadata": {
        "id": "UBqwdK2Bxagj",
        "colab_type": "code",
        "colab": {}
      },
      "cell_type": "code",
      "source": [
        "model.compile(SGD(lr=0.01, momentum=0.0, decay=0.0, nesterov=False), \n",
        "              loss='binary_crossentropy', metrics=['accuracy'])"
      ],
      "execution_count": 0,
      "outputs": []
    },
    {
      "metadata": {
        "id": "UgIWX7xyBKIz",
        "colab_type": "text"
      },
      "cell_type": "markdown",
      "source": [
        "### Treino\n"
      ]
    },
    {
      "metadata": {
        "colab_type": "code",
        "id": "LqOsSip-k_v7",
        "colab": {}
      },
      "cell_type": "code",
      "source": [
        "checkpointer = ModelCheckpoint(filepath='drive/My Drive/Resultado/Segmentado/weights_' + architecture + '.hdf5', verbose=1, save_best_only=True)"
      ],
      "execution_count": 0,
      "outputs": []
    },
    {
      "metadata": {
        "id": "PeyX7Mzf5lDw",
        "colab_type": "code",
        "outputId": "5fbc4378-082c-40b6-8aaa-9eaf028c393e",
        "colab": {
          "base_uri": "https://localhost:8080/",
          "height": 3690
        }
      },
      "cell_type": "code",
      "source": [
        "training = model.fit_generator(train_batches, steps_per_epoch=stepsPerEpoche, \n",
        "                   validation_data=validation_batches, validation_steps=validationSteps,\n",
        "                   epochs=50, verbose=2, callbacks=[checkpointer])"
      ],
      "execution_count": 19,
      "outputs": [
        {
          "output_type": "stream",
          "text": [
            "Epoch 1/50\n",
            " - 91s - loss: 0.7083 - acc: 0.5125 - val_loss: 0.6920 - val_acc: 0.5312\n",
            "\n",
            "Epoch 00001: val_loss improved from inf to 0.69201, saving model to drive/My Drive/Resultado/Segmentado/weights_architecture_1.hdf5\n",
            "Epoch 2/50\n",
            " - 85s - loss: 0.7023 - acc: 0.5125 - val_loss: 0.6989 - val_acc: 0.5000\n",
            "\n",
            "Epoch 00002: val_loss did not improve from 0.69201\n",
            "Epoch 3/50\n",
            " - 83s - loss: 0.6942 - acc: 0.5187 - val_loss: 0.6935 - val_acc: 0.4531\n",
            "\n",
            "Epoch 00003: val_loss did not improve from 0.69201\n",
            "Epoch 4/50\n",
            " - 80s - loss: 0.6970 - acc: 0.4500 - val_loss: 0.6773 - val_acc: 0.5938\n",
            "\n",
            "Epoch 00004: val_loss improved from 0.69201 to 0.67731, saving model to drive/My Drive/Resultado/Segmentado/weights_architecture_1.hdf5\n",
            "Epoch 5/50\n",
            " - 81s - loss: 0.7026 - acc: 0.5375 - val_loss: 0.6939 - val_acc: 0.5156\n",
            "\n",
            "Epoch 00005: val_loss did not improve from 0.67731\n",
            "Epoch 6/50\n",
            " - 87s - loss: 0.7098 - acc: 0.5250 - val_loss: 0.6980 - val_acc: 0.4844\n",
            "\n",
            "Epoch 00006: val_loss did not improve from 0.67731\n",
            "Epoch 7/50\n",
            " - 80s - loss: 0.6928 - acc: 0.5125 - val_loss: 0.7099 - val_acc: 0.3750\n",
            "\n",
            "Epoch 00007: val_loss did not improve from 0.67731\n",
            "Epoch 8/50\n",
            " - 81s - loss: 0.7339 - acc: 0.4125 - val_loss: 0.6944 - val_acc: 0.5156\n",
            "\n",
            "Epoch 00008: val_loss did not improve from 0.67731\n",
            "Epoch 9/50\n",
            " - 89s - loss: 0.7048 - acc: 0.4813 - val_loss: 0.6989 - val_acc: 0.4844\n",
            "\n",
            "Epoch 00009: val_loss did not improve from 0.67731\n",
            "Epoch 10/50\n",
            " - 82s - loss: 0.7145 - acc: 0.4438 - val_loss: 0.6968 - val_acc: 0.4375\n",
            "\n",
            "Epoch 00010: val_loss did not improve from 0.67731\n",
            "Epoch 11/50\n",
            " - 82s - loss: 0.7194 - acc: 0.4250 - val_loss: 0.6919 - val_acc: 0.5938\n",
            "\n",
            "Epoch 00011: val_loss did not improve from 0.67731\n",
            "Epoch 12/50\n",
            " - 80s - loss: 0.7129 - acc: 0.4813 - val_loss: 0.8795 - val_acc: 0.3750\n",
            "\n",
            "Epoch 00012: val_loss did not improve from 0.67731\n",
            "Epoch 13/50\n",
            " - 78s - loss: 0.6968 - acc: 0.5500 - val_loss: 0.6817 - val_acc: 0.5781\n",
            "\n",
            "Epoch 00013: val_loss did not improve from 0.67731\n",
            "Epoch 14/50\n",
            " - 81s - loss: 0.7155 - acc: 0.4750 - val_loss: 0.6937 - val_acc: 0.5000\n",
            "\n",
            "Epoch 00014: val_loss did not improve from 0.67731\n",
            "Epoch 15/50\n",
            " - 82s - loss: 0.7113 - acc: 0.4375 - val_loss: 0.7017 - val_acc: 0.5156\n",
            "\n",
            "Epoch 00015: val_loss did not improve from 0.67731\n",
            "Epoch 16/50\n",
            " - 79s - loss: 0.7133 - acc: 0.4937 - val_loss: 0.6947 - val_acc: 0.4531\n",
            "\n",
            "Epoch 00016: val_loss did not improve from 0.67731\n",
            "Epoch 17/50\n",
            " - 79s - loss: 0.7087 - acc: 0.4813 - val_loss: 0.6794 - val_acc: 0.5938\n",
            "\n",
            "Epoch 00017: val_loss did not improve from 0.67731\n",
            "Epoch 18/50\n",
            " - 82s - loss: 0.7041 - acc: 0.5062 - val_loss: 0.6884 - val_acc: 0.6364\n",
            "\n",
            "Epoch 00018: val_loss did not improve from 0.67731\n",
            "Epoch 19/50\n",
            " - 79s - loss: 0.7108 - acc: 0.4500 - val_loss: 0.6818 - val_acc: 0.5938\n",
            "\n",
            "Epoch 00019: val_loss did not improve from 0.67731\n",
            "Epoch 20/50\n",
            " - 80s - loss: 0.6940 - acc: 0.5250 - val_loss: 0.6921 - val_acc: 0.5312\n",
            "\n",
            "Epoch 00020: val_loss did not improve from 0.67731\n",
            "Epoch 21/50\n",
            " - 80s - loss: 0.7384 - acc: 0.5125 - val_loss: 0.6936 - val_acc: 0.5000\n",
            "\n",
            "Epoch 00021: val_loss did not improve from 0.67731\n",
            "Epoch 22/50\n",
            " - 78s - loss: 0.7066 - acc: 0.4500 - val_loss: 0.7057 - val_acc: 0.4844\n",
            "\n",
            "Epoch 00022: val_loss did not improve from 0.67731\n",
            "Epoch 23/50\n",
            " - 79s - loss: 0.6810 - acc: 0.5875 - val_loss: 0.6762 - val_acc: 0.6094\n",
            "\n",
            "Epoch 00023: val_loss improved from 0.67731 to 0.67623, saving model to drive/My Drive/Resultado/Segmentado/weights_architecture_1.hdf5\n",
            "Epoch 24/50\n",
            " - 79s - loss: 0.6951 - acc: 0.5250 - val_loss: 0.7166 - val_acc: 0.5000\n",
            "\n",
            "Epoch 00024: val_loss did not improve from 0.67623\n",
            "Epoch 25/50\n",
            " - 79s - loss: 0.7127 - acc: 0.4750 - val_loss: 0.6914 - val_acc: 0.5312\n",
            "\n",
            "Epoch 00025: val_loss did not improve from 0.67623\n",
            "Epoch 26/50\n",
            " - 75s - loss: 0.6921 - acc: 0.5375 - val_loss: 0.6964 - val_acc: 0.5000\n",
            "\n",
            "Epoch 00026: val_loss did not improve from 0.67623\n",
            "Epoch 27/50\n",
            " - 35s - loss: 0.7048 - acc: 0.4903 - val_loss: 0.6695 - val_acc: 0.6406\n",
            "\n",
            "Epoch 00027: val_loss improved from 0.67623 to 0.66952, saving model to drive/My Drive/Resultado/Segmentado/weights_architecture_1.hdf5\n",
            "Epoch 28/50\n",
            " - 1s - loss: 0.6939 - acc: 0.5375 - val_loss: 0.6980 - val_acc: 0.3750\n",
            "\n",
            "Epoch 00028: val_loss did not improve from 0.66952\n",
            "Epoch 29/50\n",
            " - 1s - loss: 0.7153 - acc: 0.4500 - val_loss: 0.7126 - val_acc: 0.4375\n",
            "\n",
            "Epoch 00029: val_loss did not improve from 0.66952\n",
            "Epoch 30/50\n",
            " - 1s - loss: 0.6997 - acc: 0.5250 - val_loss: 0.7061 - val_acc: 0.4688\n",
            "\n",
            "Epoch 00030: val_loss did not improve from 0.66952\n",
            "Epoch 31/50\n",
            " - 1s - loss: 0.7055 - acc: 0.4500 - val_loss: 0.6986 - val_acc: 0.5156\n",
            "\n",
            "Epoch 00031: val_loss did not improve from 0.66952\n",
            "Epoch 32/50\n",
            " - 1s - loss: 0.7062 - acc: 0.5000 - val_loss: 0.7010 - val_acc: 0.4375\n",
            "\n",
            "Epoch 00032: val_loss did not improve from 0.66952\n",
            "Epoch 33/50\n",
            " - 1s - loss: 0.7099 - acc: 0.4438 - val_loss: 0.7186 - val_acc: 0.5000\n",
            "\n",
            "Epoch 00033: val_loss did not improve from 0.66952\n",
            "Epoch 34/50\n",
            " - 1s - loss: 0.7187 - acc: 0.4562 - val_loss: 0.7081 - val_acc: 0.5000\n",
            "\n",
            "Epoch 00034: val_loss did not improve from 0.66952\n",
            "Epoch 35/50\n",
            " - 1s - loss: 0.6999 - acc: 0.5000 - val_loss: 0.6871 - val_acc: 0.5909\n",
            "\n",
            "Epoch 00035: val_loss did not improve from 0.66952\n",
            "Epoch 36/50\n",
            " - 1s - loss: 0.7108 - acc: 0.4250 - val_loss: 0.7330 - val_acc: 0.4375\n",
            "\n",
            "Epoch 00036: val_loss did not improve from 0.66952\n",
            "Epoch 37/50\n",
            " - 1s - loss: 0.6974 - acc: 0.5187 - val_loss: 0.7084 - val_acc: 0.4531\n",
            "\n",
            "Epoch 00037: val_loss did not improve from 0.66952\n",
            "Epoch 38/50\n",
            " - 1s - loss: 0.7276 - acc: 0.4312 - val_loss: 0.7013 - val_acc: 0.5625\n",
            "\n",
            "Epoch 00038: val_loss did not improve from 0.66952\n",
            "Epoch 39/50\n",
            " - 1s - loss: 0.7082 - acc: 0.5062 - val_loss: 0.7279 - val_acc: 0.4531\n",
            "\n",
            "Epoch 00039: val_loss did not improve from 0.66952\n",
            "Epoch 40/50\n",
            " - 1s - loss: 0.6924 - acc: 0.5375 - val_loss: 0.7247 - val_acc: 0.4219\n",
            "\n",
            "Epoch 00040: val_loss did not improve from 0.66952\n",
            "Epoch 41/50\n",
            " - 1s - loss: 0.7071 - acc: 0.4813 - val_loss: 0.7003 - val_acc: 0.4531\n",
            "\n",
            "Epoch 00041: val_loss did not improve from 0.66952\n",
            "Epoch 42/50\n",
            " - 1s - loss: 0.6983 - acc: 0.5000 - val_loss: 0.6886 - val_acc: 0.5469\n",
            "\n",
            "Epoch 00042: val_loss did not improve from 0.66952\n",
            "Epoch 43/50\n",
            " - 1s - loss: 0.6911 - acc: 0.5125 - val_loss: 0.7744 - val_acc: 0.4531\n",
            "\n",
            "Epoch 00043: val_loss did not improve from 0.66952\n",
            "Epoch 44/50\n",
            " - 1s - loss: 0.7093 - acc: 0.4937 - val_loss: 0.7838 - val_acc: 0.3594\n",
            "\n",
            "Epoch 00044: val_loss did not improve from 0.66952\n",
            "Epoch 45/50\n",
            " - 1s - loss: 0.7188 - acc: 0.4625 - val_loss: 0.7066 - val_acc: 0.3750\n",
            "\n",
            "Epoch 00045: val_loss did not improve from 0.66952\n",
            "Epoch 46/50\n",
            " - 1s - loss: 0.6977 - acc: 0.5312 - val_loss: 0.7009 - val_acc: 0.4531\n",
            "\n",
            "Epoch 00046: val_loss did not improve from 0.66952\n",
            "Epoch 47/50\n",
            " - 1s - loss: 0.6908 - acc: 0.5500 - val_loss: 0.6929 - val_acc: 0.5156\n",
            "\n",
            "Epoch 00047: val_loss did not improve from 0.66952\n",
            "Epoch 48/50\n",
            " - 1s - loss: 0.6963 - acc: 0.5563 - val_loss: 0.7025 - val_acc: 0.4688\n",
            "\n",
            "Epoch 00048: val_loss did not improve from 0.66952\n",
            "Epoch 49/50\n",
            " - 1s - loss: 0.6927 - acc: 0.5125 - val_loss: 0.7390 - val_acc: 0.4062\n",
            "\n",
            "Epoch 00049: val_loss did not improve from 0.66952\n",
            "Epoch 50/50\n",
            " - 1s - loss: 0.7179 - acc: 0.4688 - val_loss: 0.6940 - val_acc: 0.5156\n",
            "\n",
            "Epoch 00050: val_loss did not improve from 0.66952\n"
          ],
          "name": "stdout"
        }
      ]
    },
    {
      "metadata": {
        "id": "c1LR04eV6AJ5",
        "colab_type": "code",
        "colab": {}
      },
      "cell_type": "code",
      "source": [
        "model.load_weights('drive/My Drive/Resultado/Segmentado/weights_' + architecture + '.hdf5')"
      ],
      "execution_count": 0,
      "outputs": []
    },
    {
      "metadata": {
        "id": "VeLCe59ltne5",
        "colab_type": "code",
        "outputId": "44900eb6-d4f3-4c5d-b3b5-cbf62899b3b0",
        "colab": {
          "base_uri": "https://localhost:8080/",
          "height": 380
        }
      },
      "cell_type": "code",
      "source": [
        "# plotar loss e accuracy para os datasets 'train' e 'test'\n",
        "plt.style.use(\"ggplot\")\n",
        "plt.figure()\n",
        "plt.plot(training.history['acc'], label='Accuracy')\n",
        "plt.plot(training.history['loss'], label='Loss')\n",
        "plt.xlabel('Epochs')\n",
        "plt.ylabel('Accuracy')\n",
        "plt.title(\"Training Loss and Accuracy\")\n",
        "plt.ylabel(\"Loss/Accuracy\")\n",
        "plt.legend()\n",
        "plt.savefig('drive/My Drive/Resultado/Segmentado/' + architecture + '.png', bbox_inches='tight')"
      ],
      "execution_count": 21,
      "outputs": [
        {
          "output_type": "display_data",
          "data": {
            "image/png": "[encoded data removed]",
            "text/plain": [
              "<matplotlib.figure.Figure at 0x7fac588e45c0>"
            ]
          },
          "metadata": {
            "tags": []
          }
        }
      ]
    },
    {
      "metadata": {
        "id": "jc5jL0cxCu5y",
        "colab_type": "text"
      },
      "cell_type": "markdown",
      "source": [
        "### Teste"
      ]
    },
    {
      "metadata": {
        "id": "CuxP4w361rkP",
        "colab_type": "code",
        "outputId": "59724859-fd10-4bd9-fe10-a4d31bde1262",
        "colab": {
          "base_uri": "https://localhost:8080/",
          "height": 54
        }
      },
      "cell_type": "code",
      "source": [
        "y_true, y_predict = ler_images_teste(architecture)"
      ],
      "execution_count": 22,
      "outputs": [
        {
          "output_type": "stream",
          "text": [
            "/usr/local/lib/python3.6/dist-packages/skimage/transform/_warps.py:84: UserWarning: The default mode, 'constant', will be changed to 'reflect' in skimage 0.15.\n",
            "  warn(\"The default mode, 'constant', will be changed to 'reflect' in \"\n"
          ],
          "name": "stderr"
        }
      ]
    },
    {
      "metadata": {
        "id": "Juqn8SXr0VvZ",
        "colab_type": "code",
        "outputId": "fadab1f2-9db5-436a-fd8f-6324e1909d4a",
        "colab": {
          "base_uri": "https://localhost:8080/",
          "height": 72
        }
      },
      "cell_type": "code",
      "source": [
        "results[architecture] = precision_score(y_true, y_predict, average='binary')\n",
        "print('Test Precision: {:.2f}%'\n",
        "      .format(100 * results[architecture]))"
      ],
      "execution_count": 23,
      "outputs": [
        {
          "output_type": "stream",
          "text": [
            "Test Precision: 0.00%\n"
          ],
          "name": "stdout"
        },
        {
          "output_type": "stream",
          "text": [
            "/usr/local/lib/python3.6/dist-packages/sklearn/metrics/classification.py:1143: UndefinedMetricWarning: Precision is ill-defined and being set to 0.0 due to no predicted samples.\n",
            "  'precision', 'predicted', average, warn_for)\n"
          ],
          "name": "stderr"
        }
      ]
    },
    {
      "metadata": {
        "id": "T7nOK0TDr6Hc",
        "colab_type": "text"
      },
      "cell_type": "markdown",
      "source": [
        "## 2 tentativa  Precision: 20.00%"
      ]
    },
    {
      "metadata": {
        "colab_type": "text",
        "id": "-DJtvxKNp9sb"
      },
      "cell_type": "markdown",
      "source": [
        "**Descrição**\n",
        "\n",
        "\n",
        "*   Modelo descrito no artigo \"Crowdsourcing for Chromosome Segmentation and Deep Classification\"\n",
        "*   Alteração nas duas ultimas camadas Dense\n",
        "\n",
        "\n",
        "\n"
      ]
    },
    {
      "metadata": {
        "colab_type": "code",
        "id": "B1aiec4IjnND",
        "colab": {}
      },
      "cell_type": "code",
      "source": [
        "architecture = 'architecture_2'"
      ],
      "execution_count": 0,
      "outputs": []
    },
    {
      "metadata": {
        "id": "fAPG077EDA_b",
        "colab_type": "text"
      },
      "cell_type": "markdown",
      "source": [
        "### Modelo"
      ]
    },
    {
      "metadata": {
        "colab_type": "code",
        "id": "2PSEo_Mzr8zK",
        "colab": {}
      },
      "cell_type": "code",
      "source": [
        "model = Sequential([\n",
        "    Conv2D(64, (3, 3), activation='relu', input_shape=(120, 120, 3)),\n",
        "    Conv2D(64, (3, 3), activation='relu'),\n",
        "    Dropout(0.2),\n",
        "    MaxPooling2D(pool_size=(2, 2)),\n",
        "   \n",
        "    Conv2D(32, (3, 3), activation='relu'),\n",
        "    Conv2D(32, (3, 3), activation='relu'),\n",
        "    Dropout(0.2),\n",
        "    MaxPooling2D(pool_size=(2, 2)),\n",
        "   \n",
        "    Conv2D(16, (3, 3), activation='relu'),\n",
        "    Conv2D(16, (3, 3), activation='relu'),\n",
        "    Dropout(0.2),\n",
        "    MaxPooling2D(pool_size=(2, 2)),\n",
        "   \n",
        "    Conv2D(8, (3, 3), activation='relu'),\n",
        "    Conv2D(8, (3, 3), activation='relu'),\n",
        "    Dropout(0.2),\n",
        "    MaxPooling2D(pool_size=(2, 2)),\n",
        "    \n",
        "    Flatten(),\n",
        "    Dense(512, activation='relu'),\n",
        "   \n",
        "    Dense(2, activation='softmax')\n",
        "]\n",
        ")"
      ],
      "execution_count": 0,
      "outputs": []
    },
    {
      "metadata": {
        "colab_type": "code",
        "id": "wTvCLywPr8zj",
        "colab": {}
      },
      "cell_type": "code",
      "source": [
        "model.compile(SGD(lr=0.01, momentum=0.0, decay=0.0, nesterov=False), \n",
        "              loss='binary_crossentropy', metrics=['accuracy'])"
      ],
      "execution_count": 0,
      "outputs": []
    },
    {
      "metadata": {
        "colab_type": "text",
        "id": "pNoSxXGOC9mz"
      },
      "cell_type": "markdown",
      "source": [
        "### Treino\n"
      ]
    },
    {
      "metadata": {
        "colab_type": "code",
        "id": "kz0s74Y3C9m8",
        "colab": {}
      },
      "cell_type": "code",
      "source": [
        "checkpointer = ModelCheckpoint(filepath='drive/My Drive/Resultado/Segmentado/weights_' + architecture + '.hdf5', verbose=1, save_best_only=True)"
      ],
      "execution_count": 0,
      "outputs": []
    },
    {
      "metadata": {
        "colab_type": "code",
        "outputId": "aa1e54cd-50ec-4852-c795-0953946f804c",
        "id": "2pPL4gxYC9nL",
        "colab": {
          "base_uri": "https://localhost:8080/",
          "height": 0
        }
      },
      "cell_type": "code",
      "source": [
        "training = model.fit_generator(train_batches, steps_per_epoch=stepsPerEpoche, \n",
        "                   validation_data=validation_batches, validation_steps=validationSteps,\n",
        "                   epochs=50, verbose=2, callbacks=[checkpointer])"
      ],
      "execution_count": 28,
      "outputs": [
        {
          "output_type": "stream",
          "text": [
            "Epoch 1/50\n",
            " - 2s - loss: 0.6895 - acc: 0.5187 - val_loss: 0.6907 - val_acc: 0.4688\n",
            "\n",
            "Epoch 00001: val_loss improved from inf to 0.69075, saving model to drive/My Drive/Resultado/Segmentado/weights_architecture_2.hdf5\n",
            "Epoch 2/50\n",
            " - 1s - loss: 0.6859 - acc: 0.5375 - val_loss: 0.6904 - val_acc: 0.4375\n",
            "\n",
            "Epoch 00002: val_loss improved from 0.69075 to 0.69041, saving model to drive/My Drive/Resultado/Segmentado/weights_architecture_2.hdf5\n",
            "Epoch 3/50\n",
            " - 1s - loss: 0.6859 - acc: 0.4936 - val_loss: 0.6875 - val_acc: 0.8125\n",
            "\n",
            "Epoch 00003: val_loss improved from 0.69041 to 0.68754, saving model to drive/My Drive/Resultado/Segmentado/weights_architecture_2.hdf5\n",
            "Epoch 4/50\n",
            " - 1s - loss: 0.6797 - acc: 0.6063 - val_loss: 0.6857 - val_acc: 0.5312\n",
            "\n",
            "Epoch 00004: val_loss improved from 0.68754 to 0.68567, saving model to drive/My Drive/Resultado/Segmentado/weights_architecture_2.hdf5\n",
            "Epoch 5/50\n",
            " - 1s - loss: 0.6789 - acc: 0.4937 - val_loss: 0.6852 - val_acc: 0.6719\n",
            "\n",
            "Epoch 00005: val_loss improved from 0.68567 to 0.68522, saving model to drive/My Drive/Resultado/Segmentado/weights_architecture_2.hdf5\n",
            "Epoch 6/50\n",
            " - 1s - loss: 0.6761 - acc: 0.6000 - val_loss: 0.6845 - val_acc: 0.7344\n",
            "\n",
            "Epoch 00006: val_loss improved from 0.68522 to 0.68445, saving model to drive/My Drive/Resultado/Segmentado/weights_architecture_2.hdf5\n",
            "Epoch 7/50\n",
            " - 1s - loss: 0.6738 - acc: 0.5812 - val_loss: 0.6846 - val_acc: 0.7500\n",
            "\n",
            "Epoch 00007: val_loss did not improve from 0.68445\n",
            "Epoch 8/50\n",
            " - 1s - loss: 0.6672 - acc: 0.7250 - val_loss: 0.6787 - val_acc: 0.8125\n",
            "\n",
            "Epoch 00008: val_loss improved from 0.68445 to 0.67870, saving model to drive/My Drive/Resultado/Segmentado/weights_architecture_2.hdf5\n",
            "Epoch 9/50\n",
            " - 1s - loss: 0.6555 - acc: 0.7438 - val_loss: 0.6725 - val_acc: 0.7500\n",
            "\n",
            "Epoch 00009: val_loss improved from 0.67870 to 0.67250, saving model to drive/My Drive/Resultado/Segmentado/weights_architecture_2.hdf5\n",
            "Epoch 10/50\n",
            " - 1s - loss: 0.6541 - acc: 0.6375 - val_loss: 0.6629 - val_acc: 0.9062\n",
            "\n",
            "Epoch 00010: val_loss improved from 0.67250 to 0.66289, saving model to drive/My Drive/Resultado/Segmentado/weights_architecture_2.hdf5\n",
            "Epoch 11/50\n",
            " - 1s - loss: 0.6480 - acc: 0.6750 - val_loss: 0.6625 - val_acc: 0.8594\n",
            "\n",
            "Epoch 00011: val_loss improved from 0.66289 to 0.66247, saving model to drive/My Drive/Resultado/Segmentado/weights_architecture_2.hdf5\n",
            "Epoch 12/50\n",
            " - 1s - loss: 0.6329 - acc: 0.7062 - val_loss: 0.6504 - val_acc: 0.7969\n",
            "\n",
            "Epoch 00012: val_loss improved from 0.66247 to 0.65042, saving model to drive/My Drive/Resultado/Segmentado/weights_architecture_2.hdf5\n",
            "Epoch 13/50\n",
            " - 1s - loss: 0.6090 - acc: 0.6562 - val_loss: 0.6257 - val_acc: 0.7969\n",
            "\n",
            "Epoch 00013: val_loss improved from 0.65042 to 0.62574, saving model to drive/My Drive/Resultado/Segmentado/weights_architecture_2.hdf5\n",
            "Epoch 14/50\n",
            " - 1s - loss: 0.5889 - acc: 0.6625 - val_loss: 0.6004 - val_acc: 0.7969\n",
            "\n",
            "Epoch 00014: val_loss improved from 0.62574 to 0.60042, saving model to drive/My Drive/Resultado/Segmentado/weights_architecture_2.hdf5\n",
            "Epoch 15/50\n",
            " - 1s - loss: 0.5748 - acc: 0.6000 - val_loss: 0.5899 - val_acc: 0.8636\n",
            "\n",
            "Epoch 00015: val_loss improved from 0.60042 to 0.58991, saving model to drive/My Drive/Resultado/Segmentado/weights_architecture_2.hdf5\n",
            "Epoch 16/50\n",
            " - 1s - loss: 0.5525 - acc: 0.7687 - val_loss: 0.5975 - val_acc: 0.8125\n",
            "\n",
            "Epoch 00016: val_loss did not improve from 0.58991\n",
            "Epoch 17/50\n",
            " - 1s - loss: 0.4345 - acc: 0.8063 - val_loss: 0.5411 - val_acc: 0.7812\n",
            "\n",
            "Epoch 00017: val_loss improved from 0.58991 to 0.54114, saving model to drive/My Drive/Resultado/Segmentado/weights_architecture_2.hdf5\n",
            "Epoch 18/50\n",
            " - 1s - loss: 0.5032 - acc: 0.7313 - val_loss: 0.5501 - val_acc: 0.9062\n",
            "\n",
            "Epoch 00018: val_loss did not improve from 0.54114\n",
            "Epoch 19/50\n",
            " - 1s - loss: 0.5553 - acc: 0.7062 - val_loss: 0.5886 - val_acc: 0.8906\n",
            "\n",
            "Epoch 00019: val_loss did not improve from 0.54114\n",
            "Epoch 20/50\n",
            " - 1s - loss: 0.4556 - acc: 0.8812 - val_loss: 0.5595 - val_acc: 0.8594\n",
            "\n",
            "Epoch 00020: val_loss did not improve from 0.54114\n",
            "Epoch 21/50\n",
            " - 1s - loss: 0.4608 - acc: 0.8063 - val_loss: 0.5645 - val_acc: 0.8594\n",
            "\n",
            "Epoch 00021: val_loss did not improve from 0.54114\n",
            "Epoch 22/50\n",
            " - 1s - loss: 0.4508 - acc: 0.8375 - val_loss: 0.5195 - val_acc: 0.8906\n",
            "\n",
            "Epoch 00022: val_loss improved from 0.54114 to 0.51950, saving model to drive/My Drive/Resultado/Segmentado/weights_architecture_2.hdf5\n",
            "Epoch 23/50\n",
            " - 1s - loss: 0.4559 - acc: 0.8750 - val_loss: 0.4949 - val_acc: 0.9375\n",
            "\n",
            "Epoch 00023: val_loss improved from 0.51950 to 0.49494, saving model to drive/My Drive/Resultado/Segmentado/weights_architecture_2.hdf5\n",
            "Epoch 24/50\n",
            " - 1s - loss: 0.4016 - acc: 0.8812 - val_loss: 0.5430 - val_acc: 0.8750\n",
            "\n",
            "Epoch 00024: val_loss did not improve from 0.49494\n",
            "Epoch 25/50\n",
            " - 1s - loss: 0.5066 - acc: 0.9000 - val_loss: 0.5153 - val_acc: 0.9219\n",
            "\n",
            "Epoch 00025: val_loss did not improve from 0.49494\n",
            "Epoch 26/50\n",
            " - 1s - loss: 0.4124 - acc: 0.9188 - val_loss: 0.5358 - val_acc: 0.8750\n",
            "\n",
            "Epoch 00026: val_loss did not improve from 0.49494\n",
            "Epoch 27/50\n",
            " - 1s - loss: 0.4509 - acc: 0.8937 - val_loss: 0.5272 - val_acc: 0.9062\n",
            "\n",
            "Epoch 00027: val_loss did not improve from 0.49494\n",
            "Epoch 28/50\n",
            " - 1s - loss: 0.4047 - acc: 0.9188 - val_loss: 0.4930 - val_acc: 0.9219\n",
            "\n",
            "Epoch 00028: val_loss improved from 0.49494 to 0.49296, saving model to drive/My Drive/Resultado/Segmentado/weights_architecture_2.hdf5\n",
            "Epoch 29/50\n",
            " - 1s - loss: 0.3668 - acc: 0.9375 - val_loss: 0.4646 - val_acc: 0.8750\n",
            "\n",
            "Epoch 00029: val_loss improved from 0.49296 to 0.46460, saving model to drive/My Drive/Resultado/Segmentado/weights_architecture_2.hdf5\n",
            "Epoch 30/50\n",
            " - 1s - loss: 0.3989 - acc: 0.8839 - val_loss: 0.5032 - val_acc: 0.8750\n",
            "\n",
            "Epoch 00030: val_loss did not improve from 0.46460\n",
            "Epoch 31/50\n",
            " - 1s - loss: 0.3799 - acc: 0.9125 - val_loss: 0.4885 - val_acc: 0.9062\n",
            "\n",
            "Epoch 00031: val_loss did not improve from 0.46460\n",
            "Epoch 32/50\n",
            " - 1s - loss: 0.4295 - acc: 0.9125 - val_loss: 0.5066 - val_acc: 0.8750\n",
            "\n",
            "Epoch 00032: val_loss did not improve from 0.46460\n",
            "Epoch 33/50\n",
            " - 1s - loss: 0.3709 - acc: 0.9125 - val_loss: 0.5160 - val_acc: 0.9091\n",
            "\n",
            "Epoch 00033: val_loss did not improve from 0.46460\n",
            "Epoch 34/50\n",
            " - 1s - loss: 0.3209 - acc: 0.9437 - val_loss: 0.4165 - val_acc: 0.9062\n",
            "\n",
            "Epoch 00034: val_loss improved from 0.46460 to 0.41648, saving model to drive/My Drive/Resultado/Segmentado/weights_architecture_2.hdf5\n",
            "Epoch 35/50\n",
            " - 1s - loss: 0.3466 - acc: 0.9125 - val_loss: 0.5086 - val_acc: 0.8594\n",
            "\n",
            "Epoch 00035: val_loss did not improve from 0.41648\n",
            "Epoch 36/50\n",
            " - 1s - loss: 0.3521 - acc: 0.9125 - val_loss: 0.4367 - val_acc: 0.9219\n",
            "\n",
            "Epoch 00036: val_loss did not improve from 0.41648\n",
            "Epoch 37/50\n",
            " - 1s - loss: 0.3495 - acc: 0.9375 - val_loss: 0.4621 - val_acc: 0.8438\n",
            "\n",
            "Epoch 00037: val_loss did not improve from 0.41648\n",
            "Epoch 38/50\n",
            " - 1s - loss: 0.3531 - acc: 0.9313 - val_loss: 0.4217 - val_acc: 0.9375\n",
            "\n",
            "Epoch 00038: val_loss did not improve from 0.41648\n",
            "Epoch 39/50\n",
            " - 1s - loss: 0.3941 - acc: 0.9250 - val_loss: 0.4717 - val_acc: 0.8750\n",
            "\n",
            "Epoch 00039: val_loss did not improve from 0.41648\n",
            "Epoch 40/50\n",
            " - 1s - loss: 0.3967 - acc: 0.8937 - val_loss: 0.4902 - val_acc: 0.8438\n",
            "\n",
            "Epoch 00040: val_loss did not improve from 0.41648\n",
            "Epoch 41/50\n",
            " - 1s - loss: 0.3557 - acc: 0.9313 - val_loss: 0.4924 - val_acc: 0.8750\n",
            "\n",
            "Epoch 00041: val_loss did not improve from 0.41648\n",
            "Epoch 42/50\n",
            " - 1s - loss: 0.2887 - acc: 0.9500 - val_loss: 0.4129 - val_acc: 0.9375\n",
            "\n",
            "Epoch 00042: val_loss improved from 0.41648 to 0.41292, saving model to drive/My Drive/Resultado/Segmentado/weights_architecture_2.hdf5\n",
            "Epoch 43/50\n",
            " - 1s - loss: 0.3035 - acc: 0.9437 - val_loss: 0.4409 - val_acc: 0.9219\n",
            "\n",
            "Epoch 00043: val_loss did not improve from 0.41292\n",
            "Epoch 44/50\n",
            " - 1s - loss: 0.2790 - acc: 0.9500 - val_loss: 0.4228 - val_acc: 0.8906\n",
            "\n",
            "Epoch 00044: val_loss did not improve from 0.41292\n",
            "Epoch 45/50\n",
            " - 1s - loss: 0.3113 - acc: 0.9375 - val_loss: 0.5351 - val_acc: 0.7031\n",
            "\n",
            "Epoch 00045: val_loss did not improve from 0.41292\n",
            "Epoch 46/50\n",
            " - 1s - loss: 0.3703 - acc: 0.9250 - val_loss: 0.4743 - val_acc: 0.8125\n",
            "\n",
            "Epoch 00046: val_loss did not improve from 0.41292\n",
            "Epoch 47/50\n",
            " - 1s - loss: 0.3252 - acc: 0.9313 - val_loss: 0.5601 - val_acc: 0.7188\n",
            "\n",
            "Epoch 00047: val_loss did not improve from 0.41292\n",
            "Epoch 48/50\n",
            " - 1s - loss: 0.4230 - acc: 0.8750 - val_loss: 0.4774 - val_acc: 0.8281\n",
            "\n",
            "Epoch 00048: val_loss did not improve from 0.41292\n",
            "Epoch 49/50\n",
            " - 1s - loss: 0.3368 - acc: 0.9250 - val_loss: 0.4905 - val_acc: 0.8125\n",
            "\n",
            "Epoch 00049: val_loss did not improve from 0.41292\n",
            "Epoch 50/50\n",
            " - 1s - loss: 0.2860 - acc: 0.9313 - val_loss: 0.4576 - val_acc: 0.8409\n",
            "\n",
            "Epoch 00050: val_loss did not improve from 0.41292\n"
          ],
          "name": "stdout"
        }
      ]
    },
    {
      "metadata": {
        "colab_type": "code",
        "id": "VHq8LUydC9ng",
        "colab": {}
      },
      "cell_type": "code",
      "source": [
        "model.load_weights('drive/My Drive/Resultado/Segmentado/weights_' + architecture + '.hdf5')"
      ],
      "execution_count": 0,
      "outputs": []
    },
    {
      "metadata": {
        "colab_type": "code",
        "outputId": "3af24f9e-54e8-46c5-f1ac-e89a7a61e9d0",
        "id": "aaqUnt57C9nm",
        "colab": {
          "base_uri": "https://localhost:8080/",
          "height": 0
        }
      },
      "cell_type": "code",
      "source": [
        "# plotar loss e accuracy para os datasets 'train' e 'test'\n",
        "plt.style.use(\"ggplot\")\n",
        "plt.figure()\n",
        "plt.plot(training.history['acc'], label='Accuracy')\n",
        "plt.plot(training.history['loss'], label='Loss')\n",
        "plt.xlabel('Epochs')\n",
        "plt.ylabel('Accuracy')\n",
        "plt.title(\"Training Loss and Accuracy\")\n",
        "plt.ylabel(\"Loss/Accuracy\")\n",
        "plt.legend()\n",
        "plt.savefig('drive/My Drive/Resultado/Segmentado/' + architecture + '.png', bbox_inches='tight')"
      ],
      "execution_count": 30,
      "outputs": [
        {
          "output_type": "display_data",
          "data": {
            "image/png": "[encoded data removed]",
            "text/plain": [
              "<matplotlib.figure.Figure at 0x7fac6453a5c0>"
            ]
          },
          "metadata": {
            "tags": []
          }
        }
      ]
    },
    {
      "metadata": {
        "colab_type": "text",
        "id": "CuegYXR-C9nv"
      },
      "cell_type": "markdown",
      "source": [
        "### Teste"
      ]
    },
    {
      "metadata": {
        "colab_type": "code",
        "outputId": "f3d9da90-6947-4127-fae2-83f5db05eef7",
        "id": "iz7WxlHiC9nw",
        "colab": {
          "base_uri": "https://localhost:8080/",
          "height": 54
        }
      },
      "cell_type": "code",
      "source": [
        "y_true, y_predict = ler_images_teste(architecture)"
      ],
      "execution_count": 31,
      "outputs": [
        {
          "output_type": "stream",
          "text": [
            "/usr/local/lib/python3.6/dist-packages/skimage/transform/_warps.py:84: UserWarning: The default mode, 'constant', will be changed to 'reflect' in skimage 0.15.\n",
            "  warn(\"The default mode, 'constant', will be changed to 'reflect' in \"\n"
          ],
          "name": "stderr"
        }
      ]
    },
    {
      "metadata": {
        "colab_type": "code",
        "id": "Aof67MvTC9n4",
        "outputId": "b2312396-5b86-411d-d5fe-ebb2df95756e",
        "colab": {
          "base_uri": "https://localhost:8080/",
          "height": 35
        }
      },
      "cell_type": "code",
      "source": [
        "results[architecture] = precision_score(y_true, y_predict, average='binary')\n",
        "print('Test Precision: {:.2f}%'\n",
        "      .format(100 * results[architecture]))"
      ],
      "execution_count": 32,
      "outputs": [
        {
          "output_type": "stream",
          "text": [
            "Test Precision: 20.00%\n"
          ],
          "name": "stdout"
        }
      ]
    },
    {
      "metadata": {
        "id": "r7RpE8wBe4JQ",
        "colab_type": "text"
      },
      "cell_type": "markdown",
      "source": [
        "## 3 tentativa Precision: 0.00%"
      ]
    },
    {
      "metadata": {
        "id": "vdP4Yo8OgB4B",
        "colab_type": "text"
      },
      "cell_type": "markdown",
      "source": [
        "Modelo criado pelo **Lucas Valentim**\n",
        "\n",
        "https://github.com/lucasvalentim/chromosome-recognizer/blob/master/chromosome_recognizer.ipynb"
      ]
    },
    {
      "metadata": {
        "colab_type": "code",
        "id": "qGOLNR-RjvlL",
        "colab": {}
      },
      "cell_type": "code",
      "source": [
        "architecture = 'architecture_3'"
      ],
      "execution_count": 0,
      "outputs": []
    },
    {
      "metadata": {
        "id": "1n6OuO9xDwyl",
        "colab_type": "text"
      },
      "cell_type": "markdown",
      "source": [
        "### Modelo"
      ]
    },
    {
      "metadata": {
        "id": "3nTNgnrCe33x",
        "colab_type": "code",
        "colab": {}
      },
      "cell_type": "code",
      "source": [
        "from keras.layers import Conv2D, MaxPooling2D, GlobalMaxPooling2D, BatchNormalization\n",
        "from keras.regularizers import l2\n",
        "\n",
        "model = Sequential()\n",
        "\n",
        "model.add(Conv2D(32, (3, 3), activation='relu', kernel_regularizer=l2(1e-4), \n",
        "                 input_shape=(None, None, 3)))\n",
        "model.add(BatchNormalization())\n",
        "model.add(Conv2D(32, (3, 3), activation='relu', kernel_regularizer=l2(1e-4)))\n",
        "model.add(BatchNormalization())\n",
        "model.add(MaxPooling2D((2, 2)))\n",
        "model.add(Dropout(0.25))\n",
        "\n",
        "model.add(Conv2D(64, (3, 3), activation='relu', kernel_regularizer=l2(1e-4)))\n",
        "model.add(BatchNormalization())\n",
        "model.add(Conv2D(64, (3, 3), activation='relu', kernel_regularizer=l2(1e-4)))\n",
        "model.add(BatchNormalization())\n",
        "model.add(MaxPooling2D((2, 2)))\n",
        "model.add(Dropout(0.25))\n",
        "\n",
        "model.add(Conv2D(128, (1,1), kernel_regularizer=l2(1e-4)))\n",
        "model.add(GlobalMaxPooling2D())\n",
        "\n",
        "model.add(Dense(256, activation='relu', kernel_regularizer=l2(1e-4)))\n",
        "model.add(Dropout(0.5))\n",
        "model.add(Dense(2, activation='sigmoid', kernel_regularizer=l2(1e-4)))"
      ],
      "execution_count": 0,
      "outputs": []
    },
    {
      "metadata": {
        "id": "g1okz4QbiBnE",
        "colab_type": "code",
        "colab": {}
      },
      "cell_type": "code",
      "source": [
        "model.compile(optimizer='adam', loss='binary_crossentropy', metrics=['accuracy'])"
      ],
      "execution_count": 0,
      "outputs": []
    },
    {
      "metadata": {
        "colab_type": "text",
        "id": "K4fpjl01FSYm"
      },
      "cell_type": "markdown",
      "source": [
        "### Treino\n"
      ]
    },
    {
      "metadata": {
        "colab_type": "code",
        "id": "qTcUkJSLFSYy",
        "colab": {}
      },
      "cell_type": "code",
      "source": [
        "checkpointer = ModelCheckpoint(filepath='drive/My Drive/Resultado/Segmentado/weights_' + architecture + '.hdf5', verbose=1, save_best_only=True)"
      ],
      "execution_count": 0,
      "outputs": []
    },
    {
      "metadata": {
        "colab_type": "code",
        "id": "b5BHB-x0FSZE",
        "outputId": "b088ae27-7dc3-41b5-f823-0289afcb6943",
        "colab": {
          "base_uri": "https://localhost:8080/",
          "height": 0
        }
      },
      "cell_type": "code",
      "source": [
        "training = model.fit_generator(train_batches, steps_per_epoch=stepsPerEpoche, \n",
        "                   validation_data=validation_batches, validation_steps=validationSteps,\n",
        "                   epochs=50, verbose=2, callbacks=[checkpointer])"
      ],
      "execution_count": 37,
      "outputs": [
        {
          "output_type": "stream",
          "text": [
            "Epoch 1/50\n",
            " - 4s - loss: 4.3854 - acc: 0.4969 - val_loss: 0.5808 - val_acc: 0.6953\n",
            "\n",
            "Epoch 00001: val_loss improved from inf to 0.58079, saving model to drive/My Drive/Resultado/Segmentado/weights_architecture_3.hdf5\n",
            "Epoch 2/50\n",
            " - 0s - loss: 2.3879 - acc: 0.6375 - val_loss: 0.4611 - val_acc: 0.8672\n",
            "\n",
            "Epoch 00002: val_loss improved from 0.58079 to 0.46115, saving model to drive/My Drive/Resultado/Segmentado/weights_architecture_3.hdf5\n",
            "Epoch 3/50\n",
            " - 1s - loss: 1.7104 - acc: 0.7125 - val_loss: 1.1992 - val_acc: 0.7656\n",
            "\n",
            "Epoch 00003: val_loss did not improve from 0.46115\n",
            "Epoch 4/50\n",
            " - 1s - loss: 1.1141 - acc: 0.7875 - val_loss: 0.8661 - val_acc: 0.8828\n",
            "\n",
            "Epoch 00004: val_loss did not improve from 0.46115\n",
            "Epoch 5/50\n",
            " - 1s - loss: 0.5987 - acc: 0.8500 - val_loss: 0.9106 - val_acc: 0.8906\n",
            "\n",
            "Epoch 00005: val_loss did not improve from 0.46115\n",
            "Epoch 6/50\n",
            " - 1s - loss: 0.6780 - acc: 0.8806 - val_loss: 1.8172 - val_acc: 0.8047\n",
            "\n",
            "Epoch 00006: val_loss did not improve from 0.46115\n",
            "Epoch 7/50\n",
            " - 1s - loss: 0.6108 - acc: 0.9125 - val_loss: 1.0491 - val_acc: 0.9062\n",
            "\n",
            "Epoch 00007: val_loss did not improve from 0.46115\n",
            "Epoch 8/50\n",
            " - 1s - loss: 0.4150 - acc: 0.9281 - val_loss: 1.3501 - val_acc: 0.8750\n",
            "\n",
            "Epoch 00008: val_loss did not improve from 0.46115\n",
            "Epoch 9/50\n",
            " - 1s - loss: 0.6785 - acc: 0.8812 - val_loss: 0.8791 - val_acc: 0.8906\n",
            "\n",
            "Epoch 00009: val_loss did not improve from 0.46115\n",
            "Epoch 10/50\n",
            " - 1s - loss: 0.5619 - acc: 0.9250 - val_loss: 0.4082 - val_acc: 0.9062\n",
            "\n",
            "Epoch 00010: val_loss improved from 0.46115 to 0.40819, saving model to drive/My Drive/Resultado/Segmentado/weights_architecture_3.hdf5\n",
            "Epoch 11/50\n",
            " - 1s - loss: 0.6119 - acc: 0.9125 - val_loss: 0.8717 - val_acc: 0.8359\n",
            "\n",
            "Epoch 00011: val_loss did not improve from 0.40819\n",
            "Epoch 12/50\n",
            " - 1s - loss: 0.3705 - acc: 0.9219 - val_loss: 0.2858 - val_acc: 0.9297\n",
            "\n",
            "Epoch 00012: val_loss improved from 0.40819 to 0.28583, saving model to drive/My Drive/Resultado/Segmentado/weights_architecture_3.hdf5\n",
            "Epoch 13/50\n",
            " - 1s - loss: 0.4352 - acc: 0.9156 - val_loss: 0.2850 - val_acc: 0.8977\n",
            "\n",
            "Epoch 00013: val_loss improved from 0.28583 to 0.28504, saving model to drive/My Drive/Resultado/Segmentado/weights_architecture_3.hdf5\n",
            "Epoch 14/50\n",
            " - 1s - loss: 0.4252 - acc: 0.8969 - val_loss: 0.5688 - val_acc: 0.8906\n",
            "\n",
            "Epoch 00014: val_loss did not improve from 0.28504\n",
            "Epoch 15/50\n",
            " - 1s - loss: 0.2452 - acc: 0.9406 - val_loss: 0.3570 - val_acc: 0.9219\n",
            "\n",
            "Epoch 00015: val_loss did not improve from 0.28504\n",
            "Epoch 16/50\n",
            " - 1s - loss: 0.4381 - acc: 0.9250 - val_loss: 0.3990 - val_acc: 0.9141\n",
            "\n",
            "Epoch 00016: val_loss did not improve from 0.28504\n",
            "Epoch 17/50\n",
            " - 1s - loss: 0.4219 - acc: 0.8937 - val_loss: 0.5045 - val_acc: 0.8594\n",
            "\n",
            "Epoch 00017: val_loss did not improve from 0.28504\n",
            "Epoch 18/50\n",
            " - 1s - loss: 0.3191 - acc: 0.9188 - val_loss: 0.2913 - val_acc: 0.9297\n",
            "\n",
            "Epoch 00018: val_loss did not improve from 0.28504\n",
            "Epoch 19/50\n",
            " - 1s - loss: 0.4438 - acc: 0.8656 - val_loss: 0.4315 - val_acc: 0.8984\n",
            "\n",
            "Epoch 00019: val_loss did not improve from 0.28504\n",
            "Epoch 20/50\n",
            " - 1s - loss: 0.2282 - acc: 0.9406 - val_loss: 0.4349 - val_acc: 0.9375\n",
            "\n",
            "Epoch 00020: val_loss did not improve from 0.28504\n",
            "Epoch 21/50\n",
            " - 1s - loss: 0.2809 - acc: 0.9437 - val_loss: 0.6232 - val_acc: 0.8438\n",
            "\n",
            "Epoch 00021: val_loss did not improve from 0.28504\n",
            "Epoch 22/50\n",
            " - 1s - loss: 0.2308 - acc: 0.9344 - val_loss: 0.2681 - val_acc: 0.9219\n",
            "\n",
            "Epoch 00022: val_loss improved from 0.28504 to 0.26812, saving model to drive/My Drive/Resultado/Segmentado/weights_architecture_3.hdf5\n",
            "Epoch 23/50\n",
            " - 1s - loss: 0.2755 - acc: 0.9250 - val_loss: 0.4113 - val_acc: 0.8281\n",
            "\n",
            "Epoch 00023: val_loss did not improve from 0.26812\n",
            "Epoch 24/50\n",
            " - 1s - loss: 0.3085 - acc: 0.9156 - val_loss: 0.3447 - val_acc: 0.8906\n",
            "\n",
            "Epoch 00024: val_loss did not improve from 0.26812\n",
            "Epoch 25/50\n",
            " - 1s - loss: 0.3996 - acc: 0.9031 - val_loss: 0.3025 - val_acc: 0.9141\n",
            "\n",
            "Epoch 00025: val_loss did not improve from 0.26812\n",
            "Epoch 26/50\n",
            " - 1s - loss: 0.2899 - acc: 0.9219 - val_loss: 0.2798 - val_acc: 0.9219\n",
            "\n",
            "Epoch 00026: val_loss did not improve from 0.26812\n",
            "Epoch 27/50\n",
            " - 1s - loss: 0.2530 - acc: 0.9281 - val_loss: 0.1810 - val_acc: 0.9531\n",
            "\n",
            "Epoch 00027: val_loss improved from 0.26812 to 0.18096, saving model to drive/My Drive/Resultado/Segmentado/weights_architecture_3.hdf5\n",
            "Epoch 28/50\n",
            " - 1s - loss: 0.2247 - acc: 0.9437 - val_loss: 0.2514 - val_acc: 0.9062\n",
            "\n",
            "Epoch 00028: val_loss did not improve from 0.18096\n",
            "Epoch 29/50\n",
            " - 1s - loss: 0.3281 - acc: 0.9062 - val_loss: 0.3896 - val_acc: 0.8828\n",
            "\n",
            "Epoch 00029: val_loss did not improve from 0.18096\n",
            "Epoch 30/50\n",
            " - 1s - loss: 0.3497 - acc: 0.9031 - val_loss: 0.2882 - val_acc: 0.9091\n",
            "\n",
            "Epoch 00030: val_loss did not improve from 0.18096\n",
            "Epoch 31/50\n",
            " - 1s - loss: 0.3544 - acc: 0.9219 - val_loss: 0.2508 - val_acc: 0.9297\n",
            "\n",
            "Epoch 00031: val_loss did not improve from 0.18096\n",
            "Epoch 32/50\n",
            " - 1s - loss: 0.3083 - acc: 0.8969 - val_loss: 0.3722 - val_acc: 0.9062\n",
            "\n",
            "Epoch 00032: val_loss did not improve from 0.18096\n",
            "Epoch 33/50\n",
            " - 1s - loss: 0.2425 - acc: 0.9516 - val_loss: 0.3409 - val_acc: 0.8906\n",
            "\n",
            "Epoch 00033: val_loss did not improve from 0.18096\n",
            "Epoch 34/50\n",
            " - 1s - loss: 0.2813 - acc: 0.9094 - val_loss: 0.4033 - val_acc: 0.8594\n",
            "\n",
            "Epoch 00034: val_loss did not improve from 0.18096\n",
            "Epoch 35/50\n",
            " - 1s - loss: 0.2446 - acc: 0.9313 - val_loss: 0.2169 - val_acc: 0.9609\n",
            "\n",
            "Epoch 00035: val_loss did not improve from 0.18096\n",
            "Epoch 36/50\n",
            " - 1s - loss: 0.1577 - acc: 0.9656 - val_loss: 0.1826 - val_acc: 0.9531\n",
            "\n",
            "Epoch 00036: val_loss did not improve from 0.18096\n",
            "Epoch 37/50\n",
            " - 1s - loss: 0.2748 - acc: 0.9125 - val_loss: 0.4549 - val_acc: 0.8750\n",
            "\n",
            "Epoch 00037: val_loss did not improve from 0.18096\n",
            "Epoch 38/50\n",
            " - 1s - loss: 0.3540 - acc: 0.9156 - val_loss: 0.3715 - val_acc: 0.8750\n",
            "\n",
            "Epoch 00038: val_loss did not improve from 0.18096\n",
            "Epoch 39/50\n",
            " - 1s - loss: 0.2714 - acc: 0.9313 - val_loss: 0.4629 - val_acc: 0.8281\n",
            "\n",
            "Epoch 00039: val_loss did not improve from 0.18096\n",
            "Epoch 40/50\n",
            " - 1s - loss: 0.2541 - acc: 0.9469 - val_loss: 0.1944 - val_acc: 0.9375\n",
            "\n",
            "Epoch 00040: val_loss did not improve from 0.18096\n",
            "Epoch 41/50\n",
            " - 1s - loss: 0.2320 - acc: 0.9437 - val_loss: 0.3399 - val_acc: 0.8984\n",
            "\n",
            "Epoch 00041: val_loss did not improve from 0.18096\n",
            "Epoch 42/50\n",
            " - 1s - loss: 0.1960 - acc: 0.9531 - val_loss: 0.3105 - val_acc: 0.9219\n",
            "\n",
            "Epoch 00042: val_loss did not improve from 0.18096\n",
            "Epoch 43/50\n",
            " - 1s - loss: 0.2395 - acc: 0.9375 - val_loss: 0.2210 - val_acc: 0.9531\n",
            "\n",
            "Epoch 00043: val_loss did not improve from 0.18096\n",
            "Epoch 44/50\n",
            " - 1s - loss: 0.1855 - acc: 0.9375 - val_loss: 0.3373 - val_acc: 0.9219\n",
            "\n",
            "Epoch 00044: val_loss did not improve from 0.18096\n",
            "Epoch 45/50\n",
            " - 1s - loss: 0.3131 - acc: 0.9094 - val_loss: 0.4085 - val_acc: 0.8438\n",
            "\n",
            "Epoch 00045: val_loss did not improve from 0.18096\n",
            "Epoch 46/50\n",
            " - 1s - loss: 0.2327 - acc: 0.9437 - val_loss: 0.2445 - val_acc: 0.9688\n",
            "\n",
            "Epoch 00046: val_loss did not improve from 0.18096\n",
            "Epoch 47/50\n",
            " - 1s - loss: 0.2534 - acc: 0.9250 - val_loss: 0.2539 - val_acc: 0.9297\n",
            "\n",
            "Epoch 00047: val_loss did not improve from 0.18096\n",
            "Epoch 48/50\n",
            " - 1s - loss: 0.2220 - acc: 0.9469 - val_loss: 0.2843 - val_acc: 0.9318\n",
            "\n",
            "Epoch 00048: val_loss did not improve from 0.18096\n",
            "Epoch 49/50\n",
            " - 1s - loss: 0.3208 - acc: 0.9031 - val_loss: 0.3273 - val_acc: 0.9062\n",
            "\n",
            "Epoch 00049: val_loss did not improve from 0.18096\n",
            "Epoch 50/50\n",
            " - 1s - loss: 0.2769 - acc: 0.9188 - val_loss: 0.1903 - val_acc: 0.9688\n",
            "\n",
            "Epoch 00050: val_loss did not improve from 0.18096\n"
          ],
          "name": "stdout"
        }
      ]
    },
    {
      "metadata": {
        "colab_type": "code",
        "id": "AmyvXiE5FSZQ",
        "colab": {}
      },
      "cell_type": "code",
      "source": [
        "model.load_weights('drive/My Drive/Resultado/Segmentado/weights_' + architecture + '.hdf5')"
      ],
      "execution_count": 0,
      "outputs": []
    },
    {
      "metadata": {
        "colab_type": "code",
        "id": "hWZAc28KFSZW",
        "outputId": "e2d0e7d6-657c-4b12-c330-5bdf23a3376a",
        "colab": {
          "base_uri": "https://localhost:8080/",
          "height": 0
        }
      },
      "cell_type": "code",
      "source": [
        "# plotar loss e accuracy para os datasets 'train' e 'test'\n",
        "plt.style.use(\"ggplot\")\n",
        "plt.figure()\n",
        "plt.plot(training.history['acc'], label='Accuracy')\n",
        "plt.plot(training.history['loss'], label='Loss')\n",
        "plt.xlabel('Epochs')\n",
        "plt.ylabel('Accuracy')\n",
        "plt.title(\"Training Loss and Accuracy\")\n",
        "plt.ylabel(\"Loss/Accuracy\")\n",
        "plt.legend()\n",
        "plt.savefig('drive/My Drive/Resultado/Segmentado/' + architecture + '.png', bbox_inches='tight')"
      ],
      "execution_count": 39,
      "outputs": [
        {
          "output_type": "display_data",
          "data": {
            "image/png": "[encoded data removed]",
            "text/plain": [
              "<matplotlib.figure.Figure at 0x7fac64600908>"
            ]
          },
          "metadata": {
            "tags": []
          }
        }
      ]
    },
    {
      "metadata": {
        "colab_type": "text",
        "id": "b4irZawEFSZe"
      },
      "cell_type": "markdown",
      "source": [
        "### Teste"
      ]
    },
    {
      "metadata": {
        "colab_type": "code",
        "outputId": "aac1128c-9d69-4988-c113-2df7b34ff8e5",
        "id": "29iBLdvXFSZg",
        "colab": {
          "base_uri": "https://localhost:8080/",
          "height": 54
        }
      },
      "cell_type": "code",
      "source": [
        "y_true, y_predict = ler_images_teste(architecture)"
      ],
      "execution_count": 40,
      "outputs": [
        {
          "output_type": "stream",
          "text": [
            "/usr/local/lib/python3.6/dist-packages/skimage/transform/_warps.py:84: UserWarning: The default mode, 'constant', will be changed to 'reflect' in skimage 0.15.\n",
            "  warn(\"The default mode, 'constant', will be changed to 'reflect' in \"\n"
          ],
          "name": "stderr"
        }
      ]
    },
    {
      "metadata": {
        "colab_type": "code",
        "id": "ssYgM7CyFSZs",
        "outputId": "3fe0522d-ce74-4644-d504-f41ac1609ab5",
        "colab": {
          "base_uri": "https://localhost:8080/",
          "height": 72
        }
      },
      "cell_type": "code",
      "source": [
        "results[architecture] = precision_score(y_true, y_predict, average='binary')\n",
        "print('Test Precision: {:.2f}%'\n",
        "      .format(100 * results[architecture]))"
      ],
      "execution_count": 41,
      "outputs": [
        {
          "output_type": "stream",
          "text": [
            "Test Precision: 0.00%\n"
          ],
          "name": "stdout"
        },
        {
          "output_type": "stream",
          "text": [
            "/usr/local/lib/python3.6/dist-packages/sklearn/metrics/classification.py:1143: UndefinedMetricWarning: Precision is ill-defined and being set to 0.0 due to no predicted samples.\n",
            "  'precision', 'predicted', average, warn_for)\n"
          ],
          "name": "stderr"
        }
      ]
    },
    {
      "metadata": {
        "id": "jkrlEFjlw030",
        "colab_type": "text"
      },
      "cell_type": "markdown",
      "source": [
        "## 4 tentativa Precision: 0.49%"
      ]
    },
    {
      "metadata": {
        "id": "UJ7JELAiw2kb",
        "colab_type": "text"
      },
      "cell_type": "markdown",
      "source": [
        "Modelo adaptado do **Lucas Albertins**\n",
        "\n",
        "*   Sem os **dropout**\n"
      ]
    },
    {
      "metadata": {
        "colab_type": "code",
        "id": "VMLmVlASj26i",
        "colab": {}
      },
      "cell_type": "code",
      "source": [
        "architecture = 'architecture_4'"
      ],
      "execution_count": 0,
      "outputs": []
    },
    {
      "metadata": {
        "id": "YdF5FzDmD6YV",
        "colab_type": "text"
      },
      "cell_type": "markdown",
      "source": [
        "### Modelo"
      ]
    },
    {
      "metadata": {
        "colab_type": "code",
        "id": "4N0B_5a2xB3T",
        "colab": {}
      },
      "cell_type": "code",
      "source": [
        "from keras.layers import Conv2D, MaxPooling2D, GlobalMaxPooling2D, BatchNormalization\n",
        "from keras.regularizers import l2\n",
        "\n",
        "model = Sequential()\n",
        "\n",
        "model.add(Conv2D(32, (3, 3), activation='relu', kernel_regularizer=l2(1e-4), \n",
        "                 input_shape=(None, None, 3)))\n",
        "model.add(BatchNormalization())\n",
        "model.add(Conv2D(32, (3, 3), activation='relu', kernel_regularizer=l2(1e-4)))\n",
        "model.add(BatchNormalization())\n",
        "model.add(MaxPooling2D((2, 2)))\n",
        "\n",
        "model.add(Conv2D(64, (3, 3), activation='relu', kernel_regularizer=l2(1e-4)))\n",
        "model.add(BatchNormalization())\n",
        "model.add(Conv2D(64, (3, 3), activation='relu', kernel_regularizer=l2(1e-4)))\n",
        "model.add(BatchNormalization())\n",
        "model.add(MaxPooling2D((2, 2)))\n",
        "\n",
        "model.add(Conv2D(128, (1,1), kernel_regularizer=l2(1e-4)))\n",
        "model.add(GlobalMaxPooling2D())\n",
        "\n",
        "model.add(Dense(256, activation='relu', kernel_regularizer=l2(1e-4)))\n",
        "model.add(BatchNormalization())\n",
        "model.add(Dense(2, activation='sigmoid', kernel_regularizer=l2(1e-4)))"
      ],
      "execution_count": 0,
      "outputs": []
    },
    {
      "metadata": {
        "colab_type": "code",
        "id": "V9VHjygmxB3k",
        "colab": {}
      },
      "cell_type": "code",
      "source": [
        "model.compile(optimizer='adam', loss='binary_crossentropy', metrics=['accuracy'])"
      ],
      "execution_count": 0,
      "outputs": []
    },
    {
      "metadata": {
        "colab_type": "text",
        "id": "kcNWBCc7FTxl"
      },
      "cell_type": "markdown",
      "source": [
        "### Treino\n"
      ]
    },
    {
      "metadata": {
        "colab_type": "code",
        "id": "6idT1WYmFTxt",
        "colab": {}
      },
      "cell_type": "code",
      "source": [
        "checkpointer = ModelCheckpoint(filepath='drive/My Drive/Resultado/Segmentado/weights_' + architecture + '.hdf5', verbose=1, save_best_only=True)"
      ],
      "execution_count": 0,
      "outputs": []
    },
    {
      "metadata": {
        "colab_type": "code",
        "id": "f6NCQXC1FTx1",
        "outputId": "76199a8d-dc73-477e-ba71-d46abc1bc953",
        "colab": {
          "base_uri": "https://localhost:8080/",
          "height": 0
        }
      },
      "cell_type": "code",
      "source": [
        "training = model.fit_generator(train_batches, steps_per_epoch=stepsPerEpoche, \n",
        "                   validation_data=validation_batches, validation_steps=validationSteps,\n",
        "                   epochs=50, verbose=2, callbacks=[checkpointer])"
      ],
      "execution_count": 46,
      "outputs": [
        {
          "output_type": "stream",
          "text": [
            "Epoch 1/50\n",
            " - 3s - loss: 0.4724 - acc: 0.8000 - val_loss: 0.4988 - val_acc: 0.8047\n",
            "\n",
            "Epoch 00001: val_loss improved from inf to 0.49879, saving model to drive/My Drive/Resultado/Segmentado/weights_architecture_4.hdf5\n",
            "Epoch 2/50\n",
            " - 1s - loss: 0.2655 - acc: 0.9406 - val_loss: 1.0522 - val_acc: 0.7969\n",
            "\n",
            "Epoch 00002: val_loss did not improve from 0.49879\n",
            "Epoch 3/50\n",
            " - 1s - loss: 0.1975 - acc: 0.9437 - val_loss: 0.8877 - val_acc: 0.8516\n",
            "\n",
            "Epoch 00003: val_loss did not improve from 0.49879\n",
            "Epoch 4/50\n",
            " - 1s - loss: 0.2620 - acc: 0.9250 - val_loss: 0.3803 - val_acc: 0.9062\n",
            "\n",
            "Epoch 00004: val_loss improved from 0.49879 to 0.38028, saving model to drive/My Drive/Resultado/Segmentado/weights_architecture_4.hdf5\n",
            "Epoch 5/50\n",
            " - 0s - loss: 0.2560 - acc: 0.9313 - val_loss: 0.3367 - val_acc: 0.9219\n",
            "\n",
            "Epoch 00005: val_loss improved from 0.38028 to 0.33669, saving model to drive/My Drive/Resultado/Segmentado/weights_architecture_4.hdf5\n",
            "Epoch 6/50\n",
            " - 0s - loss: 0.1946 - acc: 0.9406 - val_loss: 0.5853 - val_acc: 0.8516\n",
            "\n",
            "Epoch 00006: val_loss did not improve from 0.33669\n",
            "Epoch 7/50\n",
            " - 1s - loss: 0.3018 - acc: 0.9188 - val_loss: 0.6944 - val_acc: 0.7266\n",
            "\n",
            "Epoch 00007: val_loss did not improve from 0.33669\n",
            "Epoch 8/50\n",
            " - 1s - loss: 0.2677 - acc: 0.9219 - val_loss: 0.6490 - val_acc: 0.8516\n",
            "\n",
            "Epoch 00008: val_loss did not improve from 0.33669\n",
            "Epoch 9/50\n",
            " - 1s - loss: 0.3178 - acc: 0.9081 - val_loss: 0.9587 - val_acc: 0.6562\n",
            "\n",
            "Epoch 00009: val_loss did not improve from 0.33669\n",
            "Epoch 10/50\n",
            " - 1s - loss: 0.3135 - acc: 0.9188 - val_loss: 0.7652 - val_acc: 0.7614\n",
            "\n",
            "Epoch 00010: val_loss did not improve from 0.33669\n",
            "Epoch 11/50\n",
            " - 1s - loss: 0.1584 - acc: 0.9750 - val_loss: 0.3627 - val_acc: 0.8984\n",
            "\n",
            "Epoch 00011: val_loss did not improve from 0.33669\n",
            "Epoch 12/50\n",
            " - 1s - loss: 0.1576 - acc: 0.9688 - val_loss: 0.3551 - val_acc: 0.9141\n",
            "\n",
            "Epoch 00012: val_loss did not improve from 0.33669\n",
            "Epoch 13/50\n",
            " - 1s - loss: 0.1448 - acc: 0.9625 - val_loss: 0.2746 - val_acc: 0.9141\n",
            "\n",
            "Epoch 00013: val_loss improved from 0.33669 to 0.27457, saving model to drive/My Drive/Resultado/Segmentado/weights_architecture_4.hdf5\n",
            "Epoch 14/50\n",
            " - 1s - loss: 0.2364 - acc: 0.9125 - val_loss: 0.6902 - val_acc: 0.8438\n",
            "\n",
            "Epoch 00014: val_loss did not improve from 0.27457\n",
            "Epoch 15/50\n",
            " - 1s - loss: 0.2143 - acc: 0.9500 - val_loss: 0.8919 - val_acc: 0.8594\n",
            "\n",
            "Epoch 00015: val_loss did not improve from 0.27457\n",
            "Epoch 16/50\n",
            " - 1s - loss: 0.1491 - acc: 0.9688 - val_loss: 0.3281 - val_acc: 0.8906\n",
            "\n",
            "Epoch 00016: val_loss did not improve from 0.27457\n",
            "Epoch 17/50\n",
            " - 1s - loss: 0.1973 - acc: 0.9469 - val_loss: 0.4627 - val_acc: 0.8359\n",
            "\n",
            "Epoch 00017: val_loss did not improve from 0.27457\n",
            "Epoch 18/50\n",
            " - 1s - loss: 0.2322 - acc: 0.9250 - val_loss: 0.3042 - val_acc: 0.8906\n",
            "\n",
            "Epoch 00018: val_loss did not improve from 0.27457\n",
            "Epoch 19/50\n",
            " - 1s - loss: 0.2637 - acc: 0.9094 - val_loss: 0.3519 - val_acc: 0.8984\n",
            "\n",
            "Epoch 00019: val_loss did not improve from 0.27457\n",
            "Epoch 20/50\n",
            " - 1s - loss: 0.3013 - acc: 0.8969 - val_loss: 0.6663 - val_acc: 0.8281\n",
            "\n",
            "Epoch 00020: val_loss did not improve from 0.27457\n",
            "Epoch 21/50\n",
            " - 1s - loss: 0.2005 - acc: 0.9469 - val_loss: 0.6504 - val_acc: 0.7969\n",
            "\n",
            "Epoch 00021: val_loss did not improve from 0.27457\n",
            "Epoch 22/50\n",
            " - 1s - loss: 0.2439 - acc: 0.9344 - val_loss: 0.4674 - val_acc: 0.8984\n",
            "\n",
            "Epoch 00022: val_loss did not improve from 0.27457\n",
            "Epoch 23/50\n",
            " - 1s - loss: 0.1822 - acc: 0.9500 - val_loss: 0.3697 - val_acc: 0.9453\n",
            "\n",
            "Epoch 00023: val_loss did not improve from 0.27457\n",
            "Epoch 24/50\n",
            " - 1s - loss: 0.2532 - acc: 0.9125 - val_loss: 0.4233 - val_acc: 0.9062\n",
            "\n",
            "Epoch 00024: val_loss did not improve from 0.27457\n",
            "Epoch 25/50\n",
            " - 1s - loss: 0.2713 - acc: 0.9250 - val_loss: 0.2465 - val_acc: 0.9219\n",
            "\n",
            "Epoch 00025: val_loss improved from 0.27457 to 0.24652, saving model to drive/My Drive/Resultado/Segmentado/weights_architecture_4.hdf5\n",
            "Epoch 26/50\n",
            " - 1s - loss: 0.2664 - acc: 0.9156 - val_loss: 0.4196 - val_acc: 0.8281\n",
            "\n",
            "Epoch 00026: val_loss did not improve from 0.24652\n",
            "Epoch 27/50\n",
            " - 1s - loss: 0.1929 - acc: 0.9531 - val_loss: 0.6347 - val_acc: 0.8438\n",
            "\n",
            "Epoch 00027: val_loss did not improve from 0.24652\n",
            "Epoch 28/50\n",
            " - 1s - loss: 0.2434 - acc: 0.9281 - val_loss: 0.5140 - val_acc: 0.9205\n",
            "\n",
            "Epoch 00028: val_loss did not improve from 0.24652\n",
            "Epoch 29/50\n",
            " - 1s - loss: 0.2361 - acc: 0.9313 - val_loss: 0.4525 - val_acc: 0.8672\n",
            "\n",
            "Epoch 00029: val_loss did not improve from 0.24652\n",
            "Epoch 30/50\n",
            " - 1s - loss: 0.1932 - acc: 0.9500 - val_loss: 0.5150 - val_acc: 0.8750\n",
            "\n",
            "Epoch 00030: val_loss did not improve from 0.24652\n",
            "Epoch 31/50\n",
            " - 1s - loss: 0.1679 - acc: 0.9594 - val_loss: 0.6848 - val_acc: 0.7578\n",
            "\n",
            "Epoch 00031: val_loss did not improve from 0.24652\n",
            "Epoch 32/50\n",
            " - 1s - loss: 0.2855 - acc: 0.9250 - val_loss: 0.4384 - val_acc: 0.8906\n",
            "\n",
            "Epoch 00032: val_loss did not improve from 0.24652\n",
            "Epoch 33/50\n",
            " - 1s - loss: 0.2543 - acc: 0.9313 - val_loss: 0.4317 - val_acc: 0.8828\n",
            "\n",
            "Epoch 00033: val_loss did not improve from 0.24652\n",
            "Epoch 34/50\n",
            " - 1s - loss: 0.2131 - acc: 0.9250 - val_loss: 0.5609 - val_acc: 0.7656\n",
            "\n",
            "Epoch 00034: val_loss did not improve from 0.24652\n",
            "Epoch 35/50\n",
            " - 1s - loss: 0.2790 - acc: 0.9156 - val_loss: 0.6181 - val_acc: 0.7500\n",
            "\n",
            "Epoch 00035: val_loss did not improve from 0.24652\n",
            "Epoch 36/50\n",
            " - 1s - loss: 0.2080 - acc: 0.9290 - val_loss: 0.8229 - val_acc: 0.6797\n",
            "\n",
            "Epoch 00036: val_loss did not improve from 0.24652\n",
            "Epoch 37/50\n",
            " - 1s - loss: 0.1446 - acc: 0.9688 - val_loss: 0.3104 - val_acc: 0.8906\n",
            "\n",
            "Epoch 00037: val_loss did not improve from 0.24652\n",
            "Epoch 38/50\n",
            " - 1s - loss: 0.2430 - acc: 0.9219 - val_loss: 0.4210 - val_acc: 0.8438\n",
            "\n",
            "Epoch 00038: val_loss did not improve from 0.24652\n",
            "Epoch 39/50\n",
            " - 1s - loss: 0.1140 - acc: 0.9813 - val_loss: 0.6560 - val_acc: 0.7812\n",
            "\n",
            "Epoch 00039: val_loss did not improve from 0.24652\n",
            "Epoch 40/50\n",
            " - 1s - loss: 0.2510 - acc: 0.9344 - val_loss: 0.4418 - val_acc: 0.8125\n",
            "\n",
            "Epoch 00040: val_loss did not improve from 0.24652\n",
            "Epoch 41/50\n",
            " - 1s - loss: 0.2142 - acc: 0.9219 - val_loss: 0.3803 - val_acc: 0.8750\n",
            "\n",
            "Epoch 00041: val_loss did not improve from 0.24652\n",
            "Epoch 42/50\n",
            " - 1s - loss: 0.2058 - acc: 0.9437 - val_loss: 0.5544 - val_acc: 0.7500\n",
            "\n",
            "Epoch 00042: val_loss did not improve from 0.24652\n",
            "Epoch 43/50\n",
            " - 1s - loss: 0.1699 - acc: 0.9688 - val_loss: 0.5638 - val_acc: 0.8125\n",
            "\n",
            "Epoch 00043: val_loss did not improve from 0.24652\n",
            "Epoch 44/50\n",
            " - 1s - loss: 0.2620 - acc: 0.9313 - val_loss: 0.5916 - val_acc: 0.7891\n",
            "\n",
            "Epoch 00044: val_loss did not improve from 0.24652\n",
            "Epoch 45/50\n",
            " - 1s - loss: 0.2080 - acc: 0.9344 - val_loss: 0.4902 - val_acc: 0.7727\n",
            "\n",
            "Epoch 00045: val_loss did not improve from 0.24652\n",
            "Epoch 46/50\n",
            " - 1s - loss: 0.2326 - acc: 0.9281 - val_loss: 0.4596 - val_acc: 0.8359\n",
            "\n",
            "Epoch 00046: val_loss did not improve from 0.24652\n",
            "Epoch 47/50\n",
            " - 1s - loss: 0.1889 - acc: 0.9437 - val_loss: 0.5379 - val_acc: 0.8438\n",
            "\n",
            "Epoch 00047: val_loss did not improve from 0.24652\n",
            "Epoch 48/50\n",
            " - 1s - loss: 0.2759 - acc: 0.9281 - val_loss: 0.2866 - val_acc: 0.9219\n",
            "\n",
            "Epoch 00048: val_loss did not improve from 0.24652\n",
            "Epoch 49/50\n",
            " - 1s - loss: 0.2128 - acc: 0.9375 - val_loss: 0.2544 - val_acc: 0.9219\n",
            "\n",
            "Epoch 00049: val_loss did not improve from 0.24652\n",
            "Epoch 50/50\n",
            " - 1s - loss: 0.2337 - acc: 0.8969 - val_loss: 1.2423 - val_acc: 0.6797\n",
            "\n",
            "Epoch 00050: val_loss did not improve from 0.24652\n"
          ],
          "name": "stdout"
        }
      ]
    },
    {
      "metadata": {
        "colab_type": "code",
        "id": "iJ_tPIvvFTx_",
        "colab": {}
      },
      "cell_type": "code",
      "source": [
        "model.load_weights('drive/My Drive/Resultado/Segmentado/weights_' + architecture + '.hdf5')"
      ],
      "execution_count": 0,
      "outputs": []
    },
    {
      "metadata": {
        "colab_type": "code",
        "id": "mgtuSOjIFTyM",
        "outputId": "8241f5a8-b75e-4ba8-e1f1-f9adf1b05118",
        "colab": {
          "base_uri": "https://localhost:8080/",
          "height": 0
        }
      },
      "cell_type": "code",
      "source": [
        "# plotar loss e accuracy para os datasets 'train' e 'test'\n",
        "plt.style.use(\"ggplot\")\n",
        "plt.figure()\n",
        "plt.plot(training.history['acc'], label='Accuracy')\n",
        "plt.plot(training.history['loss'], label='Loss')\n",
        "plt.xlabel('Epochs')\n",
        "plt.ylabel('Accuracy')\n",
        "plt.title(\"Training Loss and Accuracy\")\n",
        "plt.ylabel(\"Loss/Accuracy\")\n",
        "plt.legend()\n",
        "plt.savefig('drive/My Drive/Resultado/Segmentado/' + architecture + '.png', bbox_inches='tight')"
      ],
      "execution_count": 48,
      "outputs": [
        {
          "output_type": "display_data",
          "data": {
            "image/png": "[encoded data removed]",
            "text/plain": [
              "<matplotlib.figure.Figure at 0x7fac57bcff28>"
            ]
          },
          "metadata": {
            "tags": []
          }
        }
      ]
    },
    {
      "metadata": {
        "colab_type": "text",
        "id": "p5uPlXtaFTyV"
      },
      "cell_type": "markdown",
      "source": [
        "### Teste"
      ]
    },
    {
      "metadata": {
        "colab_type": "code",
        "id": "BlgQSQAcFTyX",
        "outputId": "c8f3d152-d4a6-45bc-ed43-8764dced45be",
        "colab": {
          "base_uri": "https://localhost:8080/",
          "height": 54
        }
      },
      "cell_type": "code",
      "source": [
        "y_true, y_predict = ler_images_teste(architecture)"
      ],
      "execution_count": 49,
      "outputs": [
        {
          "output_type": "stream",
          "text": [
            "/usr/local/lib/python3.6/dist-packages/skimage/transform/_warps.py:84: UserWarning: The default mode, 'constant', will be changed to 'reflect' in skimage 0.15.\n",
            "  warn(\"The default mode, 'constant', will be changed to 'reflect' in \"\n"
          ],
          "name": "stderr"
        }
      ]
    },
    {
      "metadata": {
        "colab_type": "code",
        "id": "8PQ2XJ-SFTye",
        "outputId": "55b0559d-bb7b-4240-d284-3a9b11272586",
        "colab": {
          "base_uri": "https://localhost:8080/",
          "height": 35
        }
      },
      "cell_type": "code",
      "source": [
        "results[architecture] = precision_score(y_true, y_predict, average='binary')\n",
        "print('Test Precision: {:.2f}%'\n",
        "      .format(100 * results[architecture]))"
      ],
      "execution_count": 50,
      "outputs": [
        {
          "output_type": "stream",
          "text": [
            "Test Precision: 0.49%\n"
          ],
          "name": "stdout"
        }
      ]
    },
    {
      "metadata": {
        "id": "lX3WANMgB1Ew",
        "colab_type": "text"
      },
      "cell_type": "markdown",
      "source": [
        "## 5 tentativa Precision: 0.00%"
      ]
    },
    {
      "metadata": {
        "colab_type": "text",
        "id": "dqed1VQh6WXg"
      },
      "cell_type": "markdown",
      "source": [
        "Modelo adaptado do **Lucas Albertins**\n",
        "\n",
        "*   Sem os **dropout**\n",
        "*   Função **SGD** para compilação\n"
      ]
    },
    {
      "metadata": {
        "colab_type": "code",
        "id": "HA_KKMyaj6-L",
        "colab": {}
      },
      "cell_type": "code",
      "source": [
        "architecture = 'architecture_5'"
      ],
      "execution_count": 0,
      "outputs": []
    },
    {
      "metadata": {
        "id": "hWG5bCGfEBAs",
        "colab_type": "text"
      },
      "cell_type": "markdown",
      "source": [
        "### Modelo"
      ]
    },
    {
      "metadata": {
        "colab_type": "code",
        "id": "z9mlUa4mB-ER",
        "colab": {}
      },
      "cell_type": "code",
      "source": [
        "from keras.layers import Conv2D, MaxPooling2D, GlobalMaxPooling2D, BatchNormalization\n",
        "from keras.regularizers import l2\n",
        "\n",
        "model = Sequential()\n",
        "\n",
        "model.add(Conv2D(32, (3, 3), activation='relu', kernel_regularizer=l2(1e-4), \n",
        "                 input_shape=(None, None, 3)))\n",
        "model.add(BatchNormalization())\n",
        "model.add(Conv2D(32, (3, 3), activation='relu', kernel_regularizer=l2(1e-4)))\n",
        "model.add(BatchNormalization())\n",
        "model.add(MaxPooling2D((2, 2)))\n",
        "model.add(Dropout(0.25))\n",
        "\n",
        "model.add(Conv2D(64, (3, 3), activation='relu', kernel_regularizer=l2(1e-4)))\n",
        "model.add(BatchNormalization())\n",
        "model.add(Conv2D(64, (3, 3), activation='relu', kernel_regularizer=l2(1e-4)))\n",
        "model.add(BatchNormalization())\n",
        "model.add(MaxPooling2D((2, 2)))\n",
        "model.add(Dropout(0.25))\n",
        "\n",
        "model.add(Conv2D(128, (1,1), kernel_regularizer=l2(1e-4)))\n",
        "model.add(GlobalMaxPooling2D())\n",
        "\n",
        "model.add(Dense(256, activation='relu', kernel_regularizer=l2(1e-4)))\n",
        "model.add(Dropout(0.5))\n",
        "model.add(Dense(2, activation='sigmoid', kernel_regularizer=l2(1e-4)))"
      ],
      "execution_count": 0,
      "outputs": []
    },
    {
      "metadata": {
        "id": "ukvJwM-lCHtB",
        "colab_type": "code",
        "colab": {}
      },
      "cell_type": "code",
      "source": [
        "model.compile(SGD(lr=0.01, momentum=0.0, decay=0.0, nesterov=False), \n",
        "              loss='binary_crossentropy', metrics=['accuracy'])"
      ],
      "execution_count": 0,
      "outputs": []
    },
    {
      "metadata": {
        "colab_type": "text",
        "id": "mPnh-fAOFVav"
      },
      "cell_type": "markdown",
      "source": [
        "### Treino\n"
      ]
    },
    {
      "metadata": {
        "colab_type": "code",
        "id": "2aFqWUaiFVa8",
        "colab": {}
      },
      "cell_type": "code",
      "source": [
        "checkpointer = ModelCheckpoint(filepath='drive/My Drive/Resultado/Segmentado/weights_' + architecture + '.hdf5', verbose=1, save_best_only=True)"
      ],
      "execution_count": 0,
      "outputs": []
    },
    {
      "metadata": {
        "colab_type": "code",
        "id": "kL5dpxY1FVbN",
        "outputId": "b2dc52b6-7c80-403c-c194-dc2acae80580",
        "colab": {
          "base_uri": "https://localhost:8080/",
          "height": 0
        }
      },
      "cell_type": "code",
      "source": [
        "training = model.fit_generator(train_batches, steps_per_epoch=stepsPerEpoche, \n",
        "                   validation_data=validation_batches, validation_steps=validationSteps,\n",
        "                   epochs=50, verbose=2, callbacks=[checkpointer])"
      ],
      "execution_count": 55,
      "outputs": [
        {
          "output_type": "stream",
          "text": [
            "Epoch 1/50\n",
            " - 3s - loss: 5.3703 - acc: 0.5031 - val_loss: 4.4253 - val_acc: 0.5312\n",
            "\n",
            "Epoch 00001: val_loss improved from inf to 4.42533, saving model to drive/My Drive/Resultado/Segmentado/weights_architecture_5.hdf5\n",
            "Epoch 2/50\n",
            " - 0s - loss: 5.2352 - acc: 0.5531 - val_loss: 4.8423 - val_acc: 0.5234\n",
            "\n",
            "Epoch 00002: val_loss did not improve from 4.42533\n",
            "Epoch 3/50\n",
            " - 0s - loss: 5.1019 - acc: 0.5344 - val_loss: 3.4157 - val_acc: 0.4922\n",
            "\n",
            "Epoch 00003: val_loss improved from 4.42533 to 3.41570, saving model to drive/My Drive/Resultado/Segmentado/weights_architecture_5.hdf5\n",
            "Epoch 4/50\n",
            " - 0s - loss: 2.8325 - acc: 0.6000 - val_loss: 0.9989 - val_acc: 0.7578\n",
            "\n",
            "Epoch 00004: val_loss improved from 3.41570 to 0.99895, saving model to drive/My Drive/Resultado/Segmentado/weights_architecture_5.hdf5\n",
            "Epoch 5/50\n",
            " - 0s - loss: 1.4179 - acc: 0.7281 - val_loss: 1.2544 - val_acc: 0.8516\n",
            "\n",
            "Epoch 00005: val_loss did not improve from 0.99895\n",
            "Epoch 6/50\n",
            " - 0s - loss: 0.4921 - acc: 0.9000 - val_loss: 0.3432 - val_acc: 0.8906\n",
            "\n",
            "Epoch 00006: val_loss improved from 0.99895 to 0.34320, saving model to drive/My Drive/Resultado/Segmentado/weights_architecture_5.hdf5\n",
            "Epoch 7/50\n",
            " - 1s - loss: 0.5028 - acc: 0.8688 - val_loss: 1.8094 - val_acc: 0.7578\n",
            "\n",
            "Epoch 00007: val_loss did not improve from 0.34320\n",
            "Epoch 8/50\n",
            " - 1s - loss: 0.4727 - acc: 0.8625 - val_loss: 0.7156 - val_acc: 0.8409\n",
            "\n",
            "Epoch 00008: val_loss did not improve from 0.34320\n",
            "Epoch 9/50\n",
            " - 1s - loss: 0.3761 - acc: 0.8969 - val_loss: 0.7618 - val_acc: 0.7969\n",
            "\n",
            "Epoch 00009: val_loss did not improve from 0.34320\n",
            "Epoch 10/50\n",
            " - 1s - loss: 0.2448 - acc: 0.9375 - val_loss: 0.7265 - val_acc: 0.8594\n",
            "\n",
            "Epoch 00010: val_loss did not improve from 0.34320\n",
            "Epoch 11/50\n",
            " - 1s - loss: 0.3853 - acc: 0.9031 - val_loss: 0.4865 - val_acc: 0.9062\n",
            "\n",
            "Epoch 00011: val_loss did not improve from 0.34320\n",
            "Epoch 12/50\n",
            " - 1s - loss: 0.6176 - acc: 0.8436 - val_loss: 0.3850 - val_acc: 0.8906\n",
            "\n",
            "Epoch 00012: val_loss did not improve from 0.34320\n",
            "Epoch 13/50\n",
            " - 1s - loss: 0.3065 - acc: 0.9156 - val_loss: 0.3004 - val_acc: 0.8984\n",
            "\n",
            "Epoch 00013: val_loss improved from 0.34320 to 0.30043, saving model to drive/My Drive/Resultado/Segmentado/weights_architecture_5.hdf5\n",
            "Epoch 14/50\n",
            " - 1s - loss: 0.4298 - acc: 0.8625 - val_loss: 0.4193 - val_acc: 0.8828\n",
            "\n",
            "Epoch 00014: val_loss did not improve from 0.30043\n",
            "Epoch 15/50\n",
            " - 1s - loss: 0.2896 - acc: 0.9125 - val_loss: 0.3041 - val_acc: 0.9219\n",
            "\n",
            "Epoch 00015: val_loss did not improve from 0.30043\n",
            "Epoch 16/50\n",
            " - 1s - loss: 0.3790 - acc: 0.8875 - val_loss: 0.2763 - val_acc: 0.9219\n",
            "\n",
            "Epoch 00016: val_loss improved from 0.30043 to 0.27631, saving model to drive/My Drive/Resultado/Segmentado/weights_architecture_5.hdf5\n",
            "Epoch 17/50\n",
            " - 1s - loss: 0.3317 - acc: 0.9125 - val_loss: 0.5494 - val_acc: 0.8750\n",
            "\n",
            "Epoch 00017: val_loss did not improve from 0.27631\n",
            "Epoch 18/50\n",
            " - 1s - loss: 0.2351 - acc: 0.9344 - val_loss: 0.2474 - val_acc: 0.9688\n",
            "\n",
            "Epoch 00018: val_loss improved from 0.27631 to 0.24738, saving model to drive/My Drive/Resultado/Segmentado/weights_architecture_5.hdf5\n",
            "Epoch 19/50\n",
            " - 1s - loss: 0.2474 - acc: 0.9344 - val_loss: 0.3522 - val_acc: 0.8750\n",
            "\n",
            "Epoch 00019: val_loss did not improve from 0.24738\n",
            "Epoch 20/50\n",
            " - 1s - loss: 0.2614 - acc: 0.9281 - val_loss: 0.3707 - val_acc: 0.8984\n",
            "\n",
            "Epoch 00020: val_loss did not improve from 0.24738\n",
            "Epoch 21/50\n",
            " - 1s - loss: 0.2164 - acc: 0.9437 - val_loss: 0.4684 - val_acc: 0.8984\n",
            "\n",
            "Epoch 00021: val_loss did not improve from 0.24738\n",
            "Epoch 22/50\n",
            " - 1s - loss: 0.3006 - acc: 0.9250 - val_loss: 0.3545 - val_acc: 0.9062\n",
            "\n",
            "Epoch 00022: val_loss did not improve from 0.24738\n",
            "Epoch 23/50\n",
            " - 1s - loss: 0.2767 - acc: 0.9000 - val_loss: 0.2130 - val_acc: 0.9375\n",
            "\n",
            "Epoch 00023: val_loss improved from 0.24738 to 0.21298, saving model to drive/My Drive/Resultado/Segmentado/weights_architecture_5.hdf5\n",
            "Epoch 24/50\n",
            " - 1s - loss: 0.2921 - acc: 0.9125 - val_loss: 0.3437 - val_acc: 0.8984\n",
            "\n",
            "Epoch 00024: val_loss did not improve from 0.21298\n",
            "Epoch 25/50\n",
            " - 1s - loss: 0.2842 - acc: 0.9156 - val_loss: 0.3640 - val_acc: 0.9091\n",
            "\n",
            "Epoch 00025: val_loss did not improve from 0.21298\n",
            "Epoch 26/50\n",
            " - 1s - loss: 0.2010 - acc: 0.9375 - val_loss: 0.2251 - val_acc: 0.9531\n",
            "\n",
            "Epoch 00026: val_loss did not improve from 0.21298\n",
            "Epoch 27/50\n",
            " - 1s - loss: 0.3102 - acc: 0.9062 - val_loss: 0.2698 - val_acc: 0.9062\n",
            "\n",
            "Epoch 00027: val_loss did not improve from 0.21298\n",
            "Epoch 28/50\n",
            " - 1s - loss: 0.2346 - acc: 0.9313 - val_loss: 0.3316 - val_acc: 0.9062\n",
            "\n",
            "Epoch 00028: val_loss did not improve from 0.21298\n",
            "Epoch 29/50\n",
            " - 1s - loss: 0.1877 - acc: 0.9469 - val_loss: 0.2681 - val_acc: 0.9219\n",
            "\n",
            "Epoch 00029: val_loss did not improve from 0.21298\n",
            "Epoch 30/50\n",
            " - 1s - loss: 0.3905 - acc: 0.8969 - val_loss: 0.3233 - val_acc: 0.9375\n",
            "\n",
            "Epoch 00030: val_loss did not improve from 0.21298\n",
            "Epoch 31/50\n",
            " - 1s - loss: 0.1944 - acc: 0.9688 - val_loss: 0.5351 - val_acc: 0.8594\n",
            "\n",
            "Epoch 00031: val_loss did not improve from 0.21298\n",
            "Epoch 32/50\n",
            " - 1s - loss: 0.2275 - acc: 0.9594 - val_loss: 0.4137 - val_acc: 0.8984\n",
            "\n",
            "Epoch 00032: val_loss did not improve from 0.21298\n",
            "Epoch 33/50\n",
            " - 1s - loss: 0.1742 - acc: 0.9562 - val_loss: 0.2117 - val_acc: 0.9375\n",
            "\n",
            "Epoch 00033: val_loss improved from 0.21298 to 0.21169, saving model to drive/My Drive/Resultado/Segmentado/weights_architecture_5.hdf5\n",
            "Epoch 34/50\n",
            " - 1s - loss: 0.1515 - acc: 0.9562 - val_loss: 0.4306 - val_acc: 0.8906\n",
            "\n",
            "Epoch 00034: val_loss did not improve from 0.21169\n",
            "Epoch 35/50\n",
            " - 1s - loss: 0.2616 - acc: 0.9500 - val_loss: 0.4823 - val_acc: 0.8750\n",
            "\n",
            "Epoch 00035: val_loss did not improve from 0.21169\n",
            "Epoch 36/50\n",
            " - 1s - loss: 0.2086 - acc: 0.9406 - val_loss: 0.2607 - val_acc: 0.9531\n",
            "\n",
            "Epoch 00036: val_loss did not improve from 0.21169\n",
            "Epoch 37/50\n",
            " - 1s - loss: 0.2653 - acc: 0.9250 - val_loss: 0.5825 - val_acc: 0.8359\n",
            "\n",
            "Epoch 00037: val_loss did not improve from 0.21169\n",
            "Epoch 38/50\n",
            " - 1s - loss: 0.3072 - acc: 0.9219 - val_loss: 0.4563 - val_acc: 0.8750\n",
            "\n",
            "Epoch 00038: val_loss did not improve from 0.21169\n",
            "Epoch 39/50\n",
            " - 1s - loss: 0.6304 - acc: 0.9226 - val_loss: 0.2726 - val_acc: 0.9453\n",
            "\n",
            "Epoch 00039: val_loss did not improve from 0.21169\n",
            "Epoch 40/50\n",
            " - 1s - loss: 0.2544 - acc: 0.9313 - val_loss: 0.2599 - val_acc: 0.9062\n",
            "\n",
            "Epoch 00040: val_loss did not improve from 0.21169\n",
            "Epoch 41/50\n",
            " - 1s - loss: 0.3089 - acc: 0.9188 - val_loss: 0.2872 - val_acc: 0.9297\n",
            "\n",
            "Epoch 00041: val_loss did not improve from 0.21169\n",
            "Epoch 42/50\n",
            " - 1s - loss: 0.3630 - acc: 0.8844 - val_loss: 0.2395 - val_acc: 0.8984\n",
            "\n",
            "Epoch 00042: val_loss did not improve from 0.21169\n",
            "Epoch 43/50\n",
            " - 1s - loss: 0.2542 - acc: 0.9375 - val_loss: 0.4996 - val_acc: 0.8864\n",
            "\n",
            "Epoch 00043: val_loss did not improve from 0.21169\n",
            "Epoch 44/50\n",
            " - 1s - loss: 0.3185 - acc: 0.9094 - val_loss: 0.5663 - val_acc: 0.8438\n",
            "\n",
            "Epoch 00044: val_loss did not improve from 0.21169\n",
            "Epoch 45/50\n",
            " - 1s - loss: 0.1447 - acc: 0.9719 - val_loss: 0.3151 - val_acc: 0.9062\n",
            "\n",
            "Epoch 00045: val_loss did not improve from 0.21169\n",
            "Epoch 46/50\n",
            " - 1s - loss: 0.1923 - acc: 0.9437 - val_loss: 0.1983 - val_acc: 0.9688\n",
            "\n",
            "Epoch 00046: val_loss improved from 0.21169 to 0.19833, saving model to drive/My Drive/Resultado/Segmentado/weights_architecture_5.hdf5\n",
            "Epoch 47/50\n",
            " - 1s - loss: 0.2349 - acc: 0.9344 - val_loss: 0.3531 - val_acc: 0.8672\n",
            "\n",
            "Epoch 00047: val_loss did not improve from 0.19833\n",
            "Epoch 48/50\n",
            " - 1s - loss: 0.2167 - acc: 0.9437 - val_loss: 0.2458 - val_acc: 0.9375\n",
            "\n",
            "Epoch 00048: val_loss did not improve from 0.19833\n",
            "Epoch 49/50\n",
            " - 1s - loss: 0.2400 - acc: 0.9437 - val_loss: 0.3334 - val_acc: 0.9141\n",
            "\n",
            "Epoch 00049: val_loss did not improve from 0.19833\n",
            "Epoch 50/50\n",
            " - 1s - loss: 0.2769 - acc: 0.9031 - val_loss: 0.1204 - val_acc: 0.9844\n",
            "\n",
            "Epoch 00050: val_loss improved from 0.19833 to 0.12041, saving model to drive/My Drive/Resultado/Segmentado/weights_architecture_5.hdf5\n"
          ],
          "name": "stdout"
        }
      ]
    },
    {
      "metadata": {
        "colab_type": "code",
        "id": "Ff7wwKnOFVbb",
        "colab": {}
      },
      "cell_type": "code",
      "source": [
        "model.load_weights('drive/My Drive/Resultado/Segmentado/weights_' + architecture + '.hdf5')"
      ],
      "execution_count": 0,
      "outputs": []
    },
    {
      "metadata": {
        "colab_type": "code",
        "id": "Iw5rgYTXFVbl",
        "outputId": "7ffb2daf-46d9-4198-cd51-c1027647fe22",
        "colab": {
          "base_uri": "https://localhost:8080/",
          "height": 0
        }
      },
      "cell_type": "code",
      "source": [
        "# plotar loss e accuracy para os datasets 'train' e 'test'\n",
        "plt.style.use(\"ggplot\")\n",
        "plt.figure()\n",
        "plt.plot(training.history['acc'], label='Accuracy')\n",
        "plt.plot(training.history['loss'], label='Loss')\n",
        "plt.xlabel('Epochs')\n",
        "plt.ylabel('Accuracy')\n",
        "plt.title(\"Training Loss and Accuracy\")\n",
        "plt.ylabel(\"Loss/Accuracy\")\n",
        "plt.legend()\n",
        "plt.savefig('drive/My Drive/Resultado/Segmentado/' + architecture + '.png', bbox_inches='tight')"
      ],
      "execution_count": 57,
      "outputs": [
        {
          "output_type": "display_data",
          "data": {
            "image/png": "[encoded data removed]",
            "text/plain": [
              "<matplotlib.figure.Figure at 0x7fac564a4ef0>"
            ]
          },
          "metadata": {
            "tags": []
          }
        }
      ]
    },
    {
      "metadata": {
        "colab_type": "text",
        "id": "A7_Jy2WUFVbt"
      },
      "cell_type": "markdown",
      "source": [
        "### Teste"
      ]
    },
    {
      "metadata": {
        "colab_type": "code",
        "id": "b4IWaCBPFVbv",
        "outputId": "c612d46e-c9e7-44e7-f815-e0031a9d47c6",
        "colab": {
          "base_uri": "https://localhost:8080/",
          "height": 54
        }
      },
      "cell_type": "code",
      "source": [
        "y_true, y_predict = ler_images_teste(architecture)"
      ],
      "execution_count": 58,
      "outputs": [
        {
          "output_type": "stream",
          "text": [
            "/usr/local/lib/python3.6/dist-packages/skimage/transform/_warps.py:84: UserWarning: The default mode, 'constant', will be changed to 'reflect' in skimage 0.15.\n",
            "  warn(\"The default mode, 'constant', will be changed to 'reflect' in \"\n"
          ],
          "name": "stderr"
        }
      ]
    },
    {
      "metadata": {
        "colab_type": "code",
        "id": "v5VXY-KLFVb1",
        "outputId": "6d2e024b-9dd2-47c1-f9ae-c8a387341370",
        "colab": {
          "base_uri": "https://localhost:8080/",
          "height": 72
        }
      },
      "cell_type": "code",
      "source": [
        "results[architecture] = precision_score(y_true, y_predict, average='binary')\n",
        "print('Test Precision: {:.2f}%'\n",
        "      .format(100 * results[architecture]))"
      ],
      "execution_count": 59,
      "outputs": [
        {
          "output_type": "stream",
          "text": [
            "Test Precision: 0.00%\n"
          ],
          "name": "stdout"
        },
        {
          "output_type": "stream",
          "text": [
            "/usr/local/lib/python3.6/dist-packages/sklearn/metrics/classification.py:1143: UndefinedMetricWarning: Precision is ill-defined and being set to 0.0 due to no predicted samples.\n",
            "  'precision', 'predicted', average, warn_for)\n"
          ],
          "name": "stderr"
        }
      ]
    },
    {
      "metadata": {
        "id": "apfIeirYD2N7",
        "colab_type": "text"
      },
      "cell_type": "markdown",
      "source": [
        "## 6 tentativa Precision: 15.05%"
      ]
    },
    {
      "metadata": {
        "colab_type": "text",
        "id": "xaxcjuxn7BAH"
      },
      "cell_type": "markdown",
      "source": [
        "Modelo adaptado do **Lucas Albertins**\n",
        "\n",
        "*   Sem os **dropout**\n",
        "*   Função **SGD** para compilação\n",
        "*   **BatchNormalization** antes da ultima camada Dense\n"
      ]
    },
    {
      "metadata": {
        "colab_type": "code",
        "id": "QQFrxD_Rj9wz",
        "colab": {}
      },
      "cell_type": "code",
      "source": [
        "architecture = 'architecture_6'"
      ],
      "execution_count": 0,
      "outputs": []
    },
    {
      "metadata": {
        "id": "oQ6BoR4hEGjh",
        "colab_type": "text"
      },
      "cell_type": "markdown",
      "source": [
        "### Modelo"
      ]
    },
    {
      "metadata": {
        "colab_type": "code",
        "id": "C2UuO-jqD44u",
        "colab": {}
      },
      "cell_type": "code",
      "source": [
        "from keras.layers import Conv2D, MaxPooling2D, GlobalMaxPooling2D, BatchNormalization\n",
        "from keras.regularizers import l2\n",
        "\n",
        "model = Sequential()\n",
        "\n",
        "model.add(Conv2D(32, (3, 3), activation='relu', kernel_regularizer=l2(1e-4), \n",
        "                 input_shape=(None, None, 3)))\n",
        "model.add(BatchNormalization())\n",
        "model.add(Conv2D(32, (3, 3), activation='relu', kernel_regularizer=l2(1e-4)))\n",
        "model.add(BatchNormalization())\n",
        "model.add(MaxPooling2D((2, 2)))\n",
        "\n",
        "model.add(Conv2D(64, (3, 3), activation='relu', kernel_regularizer=l2(1e-4)))\n",
        "model.add(BatchNormalization())\n",
        "model.add(Conv2D(64, (3, 3), activation='relu', kernel_regularizer=l2(1e-4)))\n",
        "model.add(BatchNormalization())\n",
        "model.add(MaxPooling2D((2, 2)))\n",
        "\n",
        "model.add(Conv2D(128, (1,1), kernel_regularizer=l2(1e-4)))\n",
        "model.add(GlobalMaxPooling2D())\n",
        "\n",
        "model.add(Dense(256, activation='relu', kernel_regularizer=l2(1e-4)))\n",
        "model.add(BatchNormalization())\n",
        "model.add(Dense(2, activation='sigmoid', kernel_regularizer=l2(1e-4)))"
      ],
      "execution_count": 0,
      "outputs": []
    },
    {
      "metadata": {
        "colab_type": "code",
        "id": "I7mu97znD45M",
        "colab": {}
      },
      "cell_type": "code",
      "source": [
        "model.compile(SGD(lr=0.03, momentum=0.0, decay=0.0, nesterov=False), \n",
        "              loss='binary_crossentropy', metrics=['accuracy'])"
      ],
      "execution_count": 0,
      "outputs": []
    },
    {
      "metadata": {
        "colab_type": "text",
        "id": "7OF1CBcGFWwI"
      },
      "cell_type": "markdown",
      "source": [
        "### Treino\n"
      ]
    },
    {
      "metadata": {
        "colab_type": "code",
        "id": "70HkYs8VFWwV",
        "colab": {}
      },
      "cell_type": "code",
      "source": [
        "checkpointer = ModelCheckpoint(filepath='drive/My Drive/Resultado/Segmentado/weights_' + architecture + '.hdf5', verbose=1, save_best_only=True)"
      ],
      "execution_count": 0,
      "outputs": []
    },
    {
      "metadata": {
        "colab_type": "code",
        "id": "CMUZOHCEFWwn",
        "outputId": "21e56ed7-ebc2-4a27-cbf2-ec29be8815ec",
        "colab": {
          "base_uri": "https://localhost:8080/",
          "height": 0
        }
      },
      "cell_type": "code",
      "source": [
        "training = model.fit_generator(train_batches, steps_per_epoch=stepsPerEpoche, \n",
        "                   validation_data=validation_batches, validation_steps=validationSteps,\n",
        "                   epochs=50, verbose=2, callbacks=[checkpointer])"
      ],
      "execution_count": 64,
      "outputs": [
        {
          "output_type": "stream",
          "text": [
            "Epoch 1/50\n",
            " - 3s - loss: 0.4827 - acc: 0.7781 - val_loss: 0.6896 - val_acc: 0.8125\n",
            "\n",
            "Epoch 00001: val_loss improved from inf to 0.68957, saving model to drive/My Drive/Resultado/Segmentado/weights_architecture_6.hdf5\n",
            "Epoch 2/50\n",
            " - 0s - loss: 0.2417 - acc: 0.9469 - val_loss: 0.4449 - val_acc: 0.8516\n",
            "\n",
            "Epoch 00002: val_loss improved from 0.68957 to 0.44491, saving model to drive/My Drive/Resultado/Segmentado/weights_architecture_6.hdf5\n",
            "Epoch 3/50\n",
            " - 0s - loss: 0.3139 - acc: 0.9156 - val_loss: 0.4305 - val_acc: 0.8984\n",
            "\n",
            "Epoch 00003: val_loss improved from 0.44491 to 0.43047, saving model to drive/My Drive/Resultado/Segmentado/weights_architecture_6.hdf5\n",
            "Epoch 4/50\n",
            " - 0s - loss: 0.2274 - acc: 0.9531 - val_loss: 0.3489 - val_acc: 0.8750\n",
            "\n",
            "Epoch 00004: val_loss improved from 0.43047 to 0.34894, saving model to drive/My Drive/Resultado/Segmentado/weights_architecture_6.hdf5\n",
            "Epoch 5/50\n",
            " - 0s - loss: 0.2738 - acc: 0.9281 - val_loss: 1.0126 - val_acc: 0.7273\n",
            "\n",
            "Epoch 00005: val_loss did not improve from 0.34894\n",
            "Epoch 6/50\n",
            " - 0s - loss: 0.3345 - acc: 0.9000 - val_loss: 0.4268 - val_acc: 0.8672\n",
            "\n",
            "Epoch 00006: val_loss did not improve from 0.34894\n",
            "Epoch 7/50\n",
            " - 1s - loss: 0.2275 - acc: 0.9406 - val_loss: 0.3680 - val_acc: 0.8828\n",
            "\n",
            "Epoch 00007: val_loss did not improve from 0.34894\n",
            "Epoch 8/50\n",
            " - 1s - loss: 0.2791 - acc: 0.9062 - val_loss: 0.9020 - val_acc: 0.7578\n",
            "\n",
            "Epoch 00008: val_loss did not improve from 0.34894\n",
            "Epoch 9/50\n",
            " - 1s - loss: 0.2037 - acc: 0.9406 - val_loss: 0.3774 - val_acc: 0.8672\n",
            "\n",
            "Epoch 00009: val_loss did not improve from 0.34894\n",
            "Epoch 10/50\n",
            " - 1s - loss: 0.1996 - acc: 0.9469 - val_loss: 0.2589 - val_acc: 0.9141\n",
            "\n",
            "Epoch 00010: val_loss improved from 0.34894 to 0.25891, saving model to drive/My Drive/Resultado/Segmentado/weights_architecture_6.hdf5\n",
            "Epoch 11/50\n",
            " - 1s - loss: 0.1926 - acc: 0.9594 - val_loss: 0.3639 - val_acc: 0.8750\n",
            "\n",
            "Epoch 00011: val_loss did not improve from 0.25891\n",
            "Epoch 12/50\n",
            " - 1s - loss: 0.2386 - acc: 0.9344 - val_loss: 0.2976 - val_acc: 0.9062\n",
            "\n",
            "Epoch 00012: val_loss did not improve from 0.25891\n",
            "Epoch 13/50\n",
            " - 1s - loss: 0.3323 - acc: 0.9031 - val_loss: 0.3044 - val_acc: 0.9141\n",
            "\n",
            "Epoch 00013: val_loss did not improve from 0.25891\n",
            "Epoch 14/50\n",
            " - 1s - loss: 0.2681 - acc: 0.9219 - val_loss: 0.5351 - val_acc: 0.8047\n",
            "\n",
            "Epoch 00014: val_loss did not improve from 0.25891\n",
            "Epoch 15/50\n",
            " - 1s - loss: 0.2940 - acc: 0.9226 - val_loss: 0.6211 - val_acc: 0.6797\n",
            "\n",
            "Epoch 00015: val_loss did not improve from 0.25891\n",
            "Epoch 16/50\n",
            " - 1s - loss: 0.1831 - acc: 0.9531 - val_loss: 0.2751 - val_acc: 0.9141\n",
            "\n",
            "Epoch 00016: val_loss did not improve from 0.25891\n",
            "Epoch 17/50\n",
            " - 1s - loss: 0.1965 - acc: 0.9375 - val_loss: 0.3587 - val_acc: 0.8906\n",
            "\n",
            "Epoch 00017: val_loss did not improve from 0.25891\n",
            "Epoch 18/50\n",
            " - 1s - loss: 0.2006 - acc: 0.9406 - val_loss: 0.4142 - val_acc: 0.8906\n",
            "\n",
            "Epoch 00018: val_loss did not improve from 0.25891\n",
            "Epoch 19/50\n",
            " - 1s - loss: 0.2501 - acc: 0.9219 - val_loss: 0.3737 - val_acc: 0.9062\n",
            "\n",
            "Epoch 00019: val_loss did not improve from 0.25891\n",
            "Epoch 20/50\n",
            " - 1s - loss: 0.2658 - acc: 0.9437 - val_loss: 0.4649 - val_acc: 0.8281\n",
            "\n",
            "Epoch 00020: val_loss did not improve from 0.25891\n",
            "Epoch 21/50\n",
            " - 1s - loss: 0.1695 - acc: 0.9531 - val_loss: 0.5013 - val_acc: 0.8438\n",
            "\n",
            "Epoch 00021: val_loss did not improve from 0.25891\n",
            "Epoch 22/50\n",
            " - 1s - loss: 0.1791 - acc: 0.9531 - val_loss: 0.6357 - val_acc: 0.7422\n",
            "\n",
            "Epoch 00022: val_loss did not improve from 0.25891\n",
            "Epoch 23/50\n",
            " - 1s - loss: 0.2897 - acc: 0.8906 - val_loss: 0.5985 - val_acc: 0.6705\n",
            "\n",
            "Epoch 00023: val_loss did not improve from 0.25891\n",
            "Epoch 24/50\n",
            " - 1s - loss: 0.1299 - acc: 0.9719 - val_loss: 0.4789 - val_acc: 0.8203\n",
            "\n",
            "Epoch 00024: val_loss did not improve from 0.25891\n",
            "Epoch 25/50\n",
            " - 1s - loss: 0.1688 - acc: 0.9406 - val_loss: 0.5184 - val_acc: 0.8594\n",
            "\n",
            "Epoch 00025: val_loss did not improve from 0.25891\n",
            "Epoch 26/50\n",
            " - 1s - loss: 0.1954 - acc: 0.9625 - val_loss: 0.1889 - val_acc: 0.9297\n",
            "\n",
            "Epoch 00026: val_loss improved from 0.25891 to 0.18889, saving model to drive/My Drive/Resultado/Segmentado/weights_architecture_6.hdf5\n",
            "Epoch 27/50\n",
            " - 1s - loss: 0.1992 - acc: 0.9531 - val_loss: 0.6211 - val_acc: 0.8047\n",
            "\n",
            "Epoch 00027: val_loss did not improve from 0.18889\n",
            "Epoch 28/50\n",
            " - 1s - loss: 0.2118 - acc: 0.9406 - val_loss: 0.3618 - val_acc: 0.8750\n",
            "\n",
            "Epoch 00028: val_loss did not improve from 0.18889\n",
            "Epoch 29/50\n",
            " - 1s - loss: 0.2563 - acc: 0.9313 - val_loss: 0.4563 - val_acc: 0.8984\n",
            "\n",
            "Epoch 00029: val_loss did not improve from 0.18889\n",
            "Epoch 30/50\n",
            " - 1s - loss: 0.3207 - acc: 0.9062 - val_loss: 0.6923 - val_acc: 0.7734\n",
            "\n",
            "Epoch 00030: val_loss did not improve from 0.18889\n",
            "Epoch 31/50\n",
            " - 1s - loss: 0.1934 - acc: 0.9594 - val_loss: 0.3847 - val_acc: 0.8359\n",
            "\n",
            "Epoch 00031: val_loss did not improve from 0.18889\n",
            "Epoch 32/50\n",
            " - 1s - loss: 0.1895 - acc: 0.9281 - val_loss: 0.1950 - val_acc: 0.9297\n",
            "\n",
            "Epoch 00032: val_loss did not improve from 0.18889\n",
            "Epoch 33/50\n",
            " - 1s - loss: 0.1919 - acc: 0.9469 - val_loss: 0.4363 - val_acc: 0.8750\n",
            "\n",
            "Epoch 00033: val_loss did not improve from 0.18889\n",
            "Epoch 34/50\n",
            " - 1s - loss: 0.2911 - acc: 0.9000 - val_loss: 0.4707 - val_acc: 0.8672\n",
            "\n",
            "Epoch 00034: val_loss did not improve from 0.18889\n",
            "Epoch 35/50\n",
            " - 1s - loss: 0.2280 - acc: 0.9469 - val_loss: 0.3729 - val_acc: 0.8984\n",
            "\n",
            "Epoch 00035: val_loss did not improve from 0.18889\n",
            "Epoch 36/50\n",
            " - 1s - loss: 0.2842 - acc: 0.9219 - val_loss: 0.4451 - val_acc: 0.8438\n",
            "\n",
            "Epoch 00036: val_loss did not improve from 0.18889\n",
            "Epoch 37/50\n",
            " - 1s - loss: 0.1622 - acc: 0.9625 - val_loss: 0.2598 - val_acc: 0.9297\n",
            "\n",
            "Epoch 00037: val_loss did not improve from 0.18889\n",
            "Epoch 38/50\n",
            " - 1s - loss: 0.2916 - acc: 0.9125 - val_loss: 0.2432 - val_acc: 0.8984\n",
            "\n",
            "Epoch 00038: val_loss did not improve from 0.18889\n",
            "Epoch 39/50\n",
            " - 1s - loss: 0.3044 - acc: 0.8844 - val_loss: 0.3086 - val_acc: 0.8750\n",
            "\n",
            "Epoch 00039: val_loss did not improve from 0.18889\n",
            "Epoch 40/50\n",
            " - 1s - loss: 0.1518 - acc: 0.9562 - val_loss: 0.3888 - val_acc: 0.8864\n",
            "\n",
            "Epoch 00040: val_loss did not improve from 0.18889\n",
            "Epoch 41/50\n",
            " - 1s - loss: 0.2094 - acc: 0.9419 - val_loss: 0.1843 - val_acc: 0.9531\n",
            "\n",
            "Epoch 00041: val_loss improved from 0.18889 to 0.18434, saving model to drive/My Drive/Resultado/Segmentado/weights_architecture_6.hdf5\n",
            "Epoch 42/50\n",
            " - 1s - loss: 0.2660 - acc: 0.9125 - val_loss: 0.3265 - val_acc: 0.8828\n",
            "\n",
            "Epoch 00042: val_loss did not improve from 0.18434\n",
            "Epoch 43/50\n",
            " - 1s - loss: 0.2041 - acc: 0.9531 - val_loss: 0.1909 - val_acc: 0.9609\n",
            "\n",
            "Epoch 00043: val_loss did not improve from 0.18434\n",
            "Epoch 44/50\n",
            " - 1s - loss: 0.2094 - acc: 0.9531 - val_loss: 0.2150 - val_acc: 0.9297\n",
            "\n",
            "Epoch 00044: val_loss did not improve from 0.18434\n",
            "Epoch 45/50\n",
            " - 1s - loss: 0.1696 - acc: 0.9500 - val_loss: 0.5837 - val_acc: 0.8594\n",
            "\n",
            "Epoch 00045: val_loss did not improve from 0.18434\n",
            "Epoch 46/50\n",
            " - 1s - loss: 0.1783 - acc: 0.9531 - val_loss: 0.5204 - val_acc: 0.7578\n",
            "\n",
            "Epoch 00046: val_loss did not improve from 0.18434\n",
            "Epoch 47/50\n",
            " - 1s - loss: 0.1697 - acc: 0.9375 - val_loss: 0.3348 - val_acc: 0.9062\n",
            "\n",
            "Epoch 00047: val_loss did not improve from 0.18434\n",
            "Epoch 48/50\n",
            " - 1s - loss: 0.1896 - acc: 0.9500 - val_loss: 0.3915 - val_acc: 0.8672\n",
            "\n",
            "Epoch 00048: val_loss did not improve from 0.18434\n",
            "Epoch 49/50\n",
            " - 1s - loss: 0.1956 - acc: 0.9469 - val_loss: 0.3392 - val_acc: 0.9297\n",
            "\n",
            "Epoch 00049: val_loss did not improve from 0.18434\n",
            "Epoch 50/50\n",
            " - 1s - loss: 0.1837 - acc: 0.9437 - val_loss: 0.4051 - val_acc: 0.8672\n",
            "\n",
            "Epoch 00050: val_loss did not improve from 0.18434\n"
          ],
          "name": "stdout"
        }
      ]
    },
    {
      "metadata": {
        "colab_type": "code",
        "id": "nR0vN5spFWwx",
        "colab": {}
      },
      "cell_type": "code",
      "source": [
        "model.load_weights('drive/My Drive/Resultado/Segmentado/weights_' + architecture + '.hdf5')"
      ],
      "execution_count": 0,
      "outputs": []
    },
    {
      "metadata": {
        "colab_type": "code",
        "id": "Tt2oHR6WFWw3",
        "outputId": "e03b9295-c0bb-4790-8a15-e71b5392bef1",
        "colab": {
          "base_uri": "https://localhost:8080/",
          "height": 0
        }
      },
      "cell_type": "code",
      "source": [
        "# plotar loss e accuracy para os datasets 'train' e 'test'\n",
        "plt.style.use(\"ggplot\")\n",
        "plt.figure()\n",
        "plt.plot(training.history['acc'], label='Accuracy')\n",
        "plt.plot(training.history['loss'], label='Loss')\n",
        "plt.xlabel('Epochs')\n",
        "plt.ylabel('Accuracy')\n",
        "plt.title(\"Training Loss and Accuracy\")\n",
        "plt.ylabel(\"Loss/Accuracy\")\n",
        "plt.legend()\n",
        "plt.savefig('drive/My Drive/Resultado/Segmentado/' + architecture + '.png', bbox_inches='tight')"
      ],
      "execution_count": 66,
      "outputs": [
        {
          "output_type": "display_data",
          "data": {
            "image/png": "[encoded data removed]",
            "text/plain": [
              "<matplotlib.figure.Figure at 0x7fac5200acc0>"
            ]
          },
          "metadata": {
            "tags": []
          }
        }
      ]
    },
    {
      "metadata": {
        "colab_type": "text",
        "id": "EdoUg--pFWw-"
      },
      "cell_type": "markdown",
      "source": [
        "### Teste"
      ]
    },
    {
      "metadata": {
        "colab_type": "code",
        "id": "GCPqD2CEFWxB",
        "outputId": "11bf1136-9368-4939-9edf-ba530b33f706",
        "colab": {
          "base_uri": "https://localhost:8080/",
          "height": 54
        }
      },
      "cell_type": "code",
      "source": [
        "y_true, y_predict = ler_images_teste(architecture)"
      ],
      "execution_count": 67,
      "outputs": [
        {
          "output_type": "stream",
          "text": [
            "/usr/local/lib/python3.6/dist-packages/skimage/transform/_warps.py:84: UserWarning: The default mode, 'constant', will be changed to 'reflect' in skimage 0.15.\n",
            "  warn(\"The default mode, 'constant', will be changed to 'reflect' in \"\n"
          ],
          "name": "stderr"
        }
      ]
    },
    {
      "metadata": {
        "colab_type": "code",
        "id": "L7gP-PPbFWxI",
        "outputId": "aed6667b-0c19-46a4-ec00-89c4463e4302",
        "colab": {
          "base_uri": "https://localhost:8080/",
          "height": 35
        }
      },
      "cell_type": "code",
      "source": [
        "results[architecture] = precision_score(y_true, y_predict, average='binary')\n",
        "print('Test Precision: {:.2f}%'\n",
        "      .format(100 * results[architecture]))"
      ],
      "execution_count": 68,
      "outputs": [
        {
          "output_type": "stream",
          "text": [
            "Test Precision: 15.05%\n"
          ],
          "name": "stdout"
        }
      ]
    },
    {
      "metadata": {
        "id": "5gk7vmYPHddj",
        "colab_type": "text"
      },
      "cell_type": "markdown",
      "source": [
        "## 7 tentativa Precision: 0.00%"
      ]
    },
    {
      "metadata": {
        "colab_type": "text",
        "id": "lxzyd-4L422r"
      },
      "cell_type": "markdown",
      "source": [
        "Modelo adaptado do **Lucas Albertins**\n",
        "\n",
        "*   Sem os **dropout**\n",
        "*   Função **Adadelta** para compilação\n",
        "*   **BatchNormalization** antes da ultima camada Dense\n"
      ]
    },
    {
      "metadata": {
        "colab_type": "code",
        "id": "ufy24IuYkBYc",
        "colab": {}
      },
      "cell_type": "code",
      "source": [
        "architecture = 'architecture_7'"
      ],
      "execution_count": 0,
      "outputs": []
    },
    {
      "metadata": {
        "id": "Qx405s6NENSz",
        "colab_type": "text"
      },
      "cell_type": "markdown",
      "source": [
        "### Modelo"
      ]
    },
    {
      "metadata": {
        "colab_type": "code",
        "id": "sIBEdGsyHhJN",
        "colab": {}
      },
      "cell_type": "code",
      "source": [
        "from keras.layers import Conv2D, MaxPooling2D, GlobalMaxPooling2D, BatchNormalization\n",
        "from keras.regularizers import l2\n",
        "from keras.optimizers import Adadelta\n",
        "\n",
        "model = Sequential()\n",
        "\n",
        "model.add(Conv2D(32, (3, 3), activation='relu', kernel_regularizer=l2(1e-4), \n",
        "                 input_shape=(None, None, 3)))\n",
        "model.add(BatchNormalization())\n",
        "model.add(Conv2D(32, (3, 3), activation='relu', kernel_regularizer=l2(1e-4)))\n",
        "model.add(BatchNormalization())\n",
        "model.add(MaxPooling2D((2, 2)))\n",
        "\n",
        "model.add(Conv2D(64, (3, 3), activation='relu', kernel_regularizer=l2(1e-4)))\n",
        "model.add(BatchNormalization())\n",
        "model.add(Conv2D(64, (3, 3), activation='relu', kernel_regularizer=l2(1e-4)))\n",
        "model.add(BatchNormalization())\n",
        "model.add(MaxPooling2D((2, 2)))\n",
        "\n",
        "model.add(Conv2D(128, (1,1), kernel_regularizer=l2(1e-4)))\n",
        "model.add(GlobalMaxPooling2D())\n",
        "\n",
        "model.add(Dense(256, activation='relu', kernel_regularizer=l2(1e-4)))\n",
        "model.add(BatchNormalization())\n",
        "model.add(Dense(2, activation='sigmoid', kernel_regularizer=l2(1e-4)))"
      ],
      "execution_count": 0,
      "outputs": []
    },
    {
      "metadata": {
        "colab_type": "code",
        "id": "P6ZvobfGHhJb",
        "colab": {}
      },
      "cell_type": "code",
      "source": [
        "model.compile(Adadelta(lr=1.0, rho=0.95, epsilon=None, decay=0.0), \n",
        "              loss='binary_crossentropy', metrics=['accuracy'])"
      ],
      "execution_count": 0,
      "outputs": []
    },
    {
      "metadata": {
        "colab_type": "text",
        "id": "tIjiKdnkFX7e"
      },
      "cell_type": "markdown",
      "source": [
        "### Treino\n"
      ]
    },
    {
      "metadata": {
        "colab_type": "code",
        "id": "reKucrg1FX7i",
        "colab": {}
      },
      "cell_type": "code",
      "source": [
        "checkpointer = ModelCheckpoint(filepath='drive/My Drive/Resultado/Segmentado/weights_' + architecture + '.hdf5', verbose=1, save_best_only=True)"
      ],
      "execution_count": 0,
      "outputs": []
    },
    {
      "metadata": {
        "colab_type": "code",
        "id": "OvT187HaFX7u",
        "outputId": "238340b0-7dab-447c-dfbf-5c665d547686",
        "colab": {
          "base_uri": "https://localhost:8080/",
          "height": 0
        }
      },
      "cell_type": "code",
      "source": [
        "training = model.fit_generator(train_batches, steps_per_epoch=stepsPerEpoche, \n",
        "                   validation_data=validation_batches, validation_steps=validationSteps,\n",
        "                   epochs=50, verbose=2, callbacks=[checkpointer])"
      ],
      "execution_count": 73,
      "outputs": [
        {
          "output_type": "stream",
          "text": [
            "Epoch 1/50\n",
            " - 4s - loss: 0.6965 - acc: 0.6469 - val_loss: 1.2138 - val_acc: 0.7188\n",
            "\n",
            "Epoch 00001: val_loss improved from inf to 1.21376, saving model to drive/My Drive/Resultado/Segmentado/weights_architecture_7.hdf5\n",
            "Epoch 2/50\n",
            " - 1s - loss: 0.3528 - acc: 0.8906 - val_loss: 0.7866 - val_acc: 0.8068\n",
            "\n",
            "Epoch 00002: val_loss improved from 1.21376 to 0.78664, saving model to drive/My Drive/Resultado/Segmentado/weights_architecture_7.hdf5\n",
            "Epoch 3/50\n",
            " - 1s - loss: 0.2234 - acc: 0.9500 - val_loss: 0.4743 - val_acc: 0.8594\n",
            "\n",
            "Epoch 00003: val_loss improved from 0.78664 to 0.47427, saving model to drive/My Drive/Resultado/Segmentado/weights_architecture_7.hdf5\n",
            "Epoch 4/50\n",
            " - 1s - loss: 0.2760 - acc: 0.9031 - val_loss: 0.6669 - val_acc: 0.8359\n",
            "\n",
            "Epoch 00004: val_loss did not improve from 0.47427\n",
            "Epoch 5/50\n",
            " - 1s - loss: 0.2742 - acc: 0.9188 - val_loss: 0.2231 - val_acc: 0.9219\n",
            "\n",
            "Epoch 00005: val_loss improved from 0.47427 to 0.22309, saving model to drive/My Drive/Resultado/Segmentado/weights_architecture_7.hdf5\n",
            "Epoch 6/50\n",
            " - 1s - loss: 0.2764 - acc: 0.9344 - val_loss: 0.4106 - val_acc: 0.8906\n",
            "\n",
            "Epoch 00006: val_loss did not improve from 0.22309\n",
            "Epoch 7/50\n",
            " - 1s - loss: 0.1990 - acc: 0.9469 - val_loss: 0.3233 - val_acc: 0.8750\n",
            "\n",
            "Epoch 00007: val_loss did not improve from 0.22309\n",
            "Epoch 8/50\n",
            " - 1s - loss: 0.2033 - acc: 0.9500 - val_loss: 0.2817 - val_acc: 0.9219\n",
            "\n",
            "Epoch 00008: val_loss did not improve from 0.22309\n",
            "Epoch 9/50\n",
            " - 1s - loss: 0.2760 - acc: 0.9156 - val_loss: 0.5137 - val_acc: 0.8672\n",
            "\n",
            "Epoch 00009: val_loss did not improve from 0.22309\n",
            "Epoch 10/50\n",
            " - 1s - loss: 0.2435 - acc: 0.9313 - val_loss: 0.9931 - val_acc: 0.5547\n",
            "\n",
            "Epoch 00010: val_loss did not improve from 0.22309\n",
            "Epoch 11/50\n",
            " - 1s - loss: 0.2381 - acc: 0.9344 - val_loss: 4.5343 - val_acc: 0.6328\n",
            "\n",
            "Epoch 00011: val_loss did not improve from 0.22309\n",
            "Epoch 12/50\n",
            " - 1s - loss: 0.1760 - acc: 0.9469 - val_loss: 0.6061 - val_acc: 0.7734\n",
            "\n",
            "Epoch 00012: val_loss did not improve from 0.22309\n",
            "Epoch 13/50\n",
            " - 1s - loss: 0.2222 - acc: 0.9469 - val_loss: 0.5601 - val_acc: 0.8203\n",
            "\n",
            "Epoch 00013: val_loss did not improve from 0.22309\n",
            "Epoch 14/50\n",
            " - 1s - loss: 0.3385 - acc: 0.8906 - val_loss: 0.4807 - val_acc: 0.8281\n",
            "\n",
            "Epoch 00014: val_loss did not improve from 0.22309\n",
            "Epoch 15/50\n",
            " - 1s - loss: 0.1897 - acc: 0.9344 - val_loss: 1.2951 - val_acc: 0.5703\n",
            "\n",
            "Epoch 00015: val_loss did not improve from 0.22309\n",
            "Epoch 16/50\n",
            " - 1s - loss: 0.2583 - acc: 0.9281 - val_loss: 1.0277 - val_acc: 0.5625\n",
            "\n",
            "Epoch 00016: val_loss did not improve from 0.22309\n",
            "Epoch 17/50\n",
            " - 1s - loss: 0.2278 - acc: 0.9375 - val_loss: 0.6100 - val_acc: 0.7266\n",
            "\n",
            "Epoch 00017: val_loss did not improve from 0.22309\n",
            "Epoch 18/50\n",
            " - 1s - loss: 0.2761 - acc: 0.9516 - val_loss: 1.7308 - val_acc: 0.3828\n",
            "\n",
            "Epoch 00018: val_loss did not improve from 0.22309\n",
            "Epoch 19/50\n",
            " - 1s - loss: 0.1969 - acc: 0.9250 - val_loss: 0.6399 - val_acc: 0.6875\n",
            "\n",
            "Epoch 00019: val_loss did not improve from 0.22309\n",
            "Epoch 20/50\n",
            " - 1s - loss: 0.1825 - acc: 0.9562 - val_loss: 0.5718 - val_acc: 0.7045\n",
            "\n",
            "Epoch 00020: val_loss did not improve from 0.22309\n",
            "Epoch 21/50\n",
            " - 1s - loss: 0.2829 - acc: 0.9062 - val_loss: 1.0584 - val_acc: 0.5391\n",
            "\n",
            "Epoch 00021: val_loss did not improve from 0.22309\n",
            "Epoch 22/50\n",
            " - 1s - loss: 0.2233 - acc: 0.9250 - val_loss: 0.3463 - val_acc: 0.8906\n",
            "\n",
            "Epoch 00022: val_loss did not improve from 0.22309\n",
            "Epoch 23/50\n",
            " - 1s - loss: 0.1962 - acc: 0.9656 - val_loss: 0.3490 - val_acc: 0.8750\n",
            "\n",
            "Epoch 00023: val_loss did not improve from 0.22309\n",
            "Epoch 24/50\n",
            " - 1s - loss: 0.1931 - acc: 0.9688 - val_loss: 0.3599 - val_acc: 0.8984\n",
            "\n",
            "Epoch 00024: val_loss did not improve from 0.22309\n",
            "Epoch 25/50\n",
            " - 1s - loss: 0.2119 - acc: 0.9437 - val_loss: 0.1882 - val_acc: 0.9609\n",
            "\n",
            "Epoch 00025: val_loss improved from 0.22309 to 0.18822, saving model to drive/My Drive/Resultado/Segmentado/weights_architecture_7.hdf5\n",
            "Epoch 26/50\n",
            " - 1s - loss: 0.1815 - acc: 0.9531 - val_loss: 0.3095 - val_acc: 0.9375\n",
            "\n",
            "Epoch 00026: val_loss did not improve from 0.18822\n",
            "Epoch 27/50\n",
            " - 1s - loss: 0.2610 - acc: 0.9062 - val_loss: 0.5531 - val_acc: 0.7969\n",
            "\n",
            "Epoch 00027: val_loss did not improve from 0.18822\n",
            "Epoch 28/50\n",
            " - 1s - loss: 0.2194 - acc: 0.9375 - val_loss: 0.3513 - val_acc: 0.8594\n",
            "\n",
            "Epoch 00028: val_loss did not improve from 0.18822\n",
            "Epoch 29/50\n",
            " - 1s - loss: 0.2295 - acc: 0.9188 - val_loss: 0.5800 - val_acc: 0.8203\n",
            "\n",
            "Epoch 00029: val_loss did not improve from 0.18822\n",
            "Epoch 30/50\n",
            " - 1s - loss: 0.1751 - acc: 0.9469 - val_loss: 0.5981 - val_acc: 0.8594\n",
            "\n",
            "Epoch 00030: val_loss did not improve from 0.18822\n",
            "Epoch 31/50\n",
            " - 1s - loss: 0.2928 - acc: 0.9219 - val_loss: 0.2912 - val_acc: 0.9141\n",
            "\n",
            "Epoch 00031: val_loss did not improve from 0.18822\n",
            "Epoch 32/50\n",
            " - 1s - loss: 0.1709 - acc: 0.9406 - val_loss: 0.4901 - val_acc: 0.9062\n",
            "\n",
            "Epoch 00032: val_loss did not improve from 0.18822\n",
            "Epoch 33/50\n",
            " - 1s - loss: 0.2056 - acc: 0.9344 - val_loss: 0.3022 - val_acc: 0.9062\n",
            "\n",
            "Epoch 00033: val_loss did not improve from 0.18822\n",
            "Epoch 34/50\n",
            " - 1s - loss: 0.2032 - acc: 0.9531 - val_loss: 0.5338 - val_acc: 0.8047\n",
            "\n",
            "Epoch 00034: val_loss did not improve from 0.18822\n",
            "Epoch 35/50\n",
            " - 1s - loss: 0.3311 - acc: 0.9125 - val_loss: 1.6337 - val_acc: 0.6094\n",
            "\n",
            "Epoch 00035: val_loss did not improve from 0.18822\n",
            "Epoch 36/50\n",
            " - 1s - loss: 0.2746 - acc: 0.9094 - val_loss: 2.7770 - val_acc: 0.4062\n",
            "\n",
            "Epoch 00036: val_loss did not improve from 0.18822\n",
            "Epoch 37/50\n",
            " - 1s - loss: 0.2538 - acc: 0.9437 - val_loss: 2.9562 - val_acc: 0.3636\n",
            "\n",
            "Epoch 00037: val_loss did not improve from 0.18822\n",
            "Epoch 38/50\n",
            " - 1s - loss: 0.2214 - acc: 0.9500 - val_loss: 1.0336 - val_acc: 0.5234\n",
            "\n",
            "Epoch 00038: val_loss did not improve from 0.18822\n",
            "Epoch 39/50\n",
            " - 1s - loss: 0.2199 - acc: 0.9406 - val_loss: 0.9349 - val_acc: 0.5781\n",
            "\n",
            "Epoch 00039: val_loss did not improve from 0.18822\n",
            "Epoch 40/50\n",
            " - 1s - loss: 0.3616 - acc: 0.9062 - val_loss: 0.9911 - val_acc: 0.6016\n",
            "\n",
            "Epoch 00040: val_loss did not improve from 0.18822\n",
            "Epoch 41/50\n",
            " - 1s - loss: 0.1922 - acc: 0.9500 - val_loss: 0.5570 - val_acc: 0.7422\n",
            "\n",
            "Epoch 00041: val_loss did not improve from 0.18822\n",
            "Epoch 42/50\n",
            " - 1s - loss: 0.2039 - acc: 0.9437 - val_loss: 0.7467 - val_acc: 0.6953\n",
            "\n",
            "Epoch 00042: val_loss did not improve from 0.18822\n",
            "Epoch 43/50\n",
            " - 1s - loss: 0.2327 - acc: 0.9250 - val_loss: 0.3991 - val_acc: 0.8438\n",
            "\n",
            "Epoch 00043: val_loss did not improve from 0.18822\n",
            "Epoch 44/50\n",
            " - 1s - loss: 0.2253 - acc: 0.9113 - val_loss: 0.3666 - val_acc: 0.8984\n",
            "\n",
            "Epoch 00044: val_loss did not improve from 0.18822\n",
            "Epoch 45/50\n",
            " - 1s - loss: 0.1447 - acc: 0.9719 - val_loss: 0.3471 - val_acc: 0.8984\n",
            "\n",
            "Epoch 00045: val_loss did not improve from 0.18822\n",
            "Epoch 46/50\n",
            " - 1s - loss: 0.3379 - acc: 0.8656 - val_loss: 0.4356 - val_acc: 0.8672\n",
            "\n",
            "Epoch 00046: val_loss did not improve from 0.18822\n",
            "Epoch 47/50\n",
            " - 1s - loss: 0.2055 - acc: 0.9437 - val_loss: 0.6840 - val_acc: 0.6719\n",
            "\n",
            "Epoch 00047: val_loss did not improve from 0.18822\n",
            "Epoch 48/50\n",
            " - 1s - loss: 0.1572 - acc: 0.9625 - val_loss: 0.3897 - val_acc: 0.8672\n",
            "\n",
            "Epoch 00048: val_loss did not improve from 0.18822\n",
            "Epoch 49/50\n",
            " - 1s - loss: 0.1236 - acc: 0.9750 - val_loss: 0.3232 - val_acc: 0.9219\n",
            "\n",
            "Epoch 00049: val_loss did not improve from 0.18822\n",
            "Epoch 50/50\n",
            " - 1s - loss: 0.1791 - acc: 0.9500 - val_loss: 0.4940 - val_acc: 0.8203\n",
            "\n",
            "Epoch 00050: val_loss did not improve from 0.18822\n"
          ],
          "name": "stdout"
        }
      ]
    },
    {
      "metadata": {
        "colab_type": "code",
        "id": "8i7mC4fOFX73",
        "colab": {}
      },
      "cell_type": "code",
      "source": [
        "model.load_weights('drive/My Drive/Resultado/Segmentado/weights_' + architecture + '.hdf5')"
      ],
      "execution_count": 0,
      "outputs": []
    },
    {
      "metadata": {
        "colab_type": "code",
        "id": "-reQa0WUFX8B",
        "outputId": "d4cac498-037e-4b87-a5f0-35d2703b6342",
        "colab": {
          "base_uri": "https://localhost:8080/",
          "height": 0
        }
      },
      "cell_type": "code",
      "source": [
        "# plotar loss e accuracy para os datasets 'train' e 'test'\n",
        "plt.style.use(\"ggplot\")\n",
        "plt.figure()\n",
        "plt.plot(training.history['acc'], label='Accuracy')\n",
        "plt.plot(training.history['loss'], label='Loss')\n",
        "plt.xlabel('Epochs')\n",
        "plt.ylabel('Accuracy')\n",
        "plt.title(\"Training Loss and Accuracy\")\n",
        "plt.ylabel(\"Loss/Accuracy\")\n",
        "plt.legend()\n",
        "plt.savefig('drive/My Drive/Resultado/Segmentado/' + architecture + '.png', bbox_inches='tight')"
      ],
      "execution_count": 75,
      "outputs": [
        {
          "output_type": "display_data",
          "data": {
            "image/png": "[encoded data removed]",
            "text/plain": [
              "<matplotlib.figure.Figure at 0x7fac51700b70>"
            ]
          },
          "metadata": {
            "tags": []
          }
        }
      ]
    },
    {
      "metadata": {
        "colab_type": "text",
        "id": "Zlv2yKAwFX8H"
      },
      "cell_type": "markdown",
      "source": [
        "### Teste"
      ]
    },
    {
      "metadata": {
        "colab_type": "code",
        "id": "JEV05eXPFX8K",
        "outputId": "16a100f7-3c9c-4443-b12f-5c1dcb8a674b",
        "colab": {
          "base_uri": "https://localhost:8080/",
          "height": 54
        }
      },
      "cell_type": "code",
      "source": [
        "y_true, y_predict = ler_images_teste(architecture)"
      ],
      "execution_count": 76,
      "outputs": [
        {
          "output_type": "stream",
          "text": [
            "/usr/local/lib/python3.6/dist-packages/skimage/transform/_warps.py:84: UserWarning: The default mode, 'constant', will be changed to 'reflect' in skimage 0.15.\n",
            "  warn(\"The default mode, 'constant', will be changed to 'reflect' in \"\n"
          ],
          "name": "stderr"
        }
      ]
    },
    {
      "metadata": {
        "colab_type": "code",
        "id": "4KcufOKHFX8b",
        "outputId": "5e5e844d-a450-4e7b-8bda-03c57fa4e337",
        "colab": {
          "base_uri": "https://localhost:8080/",
          "height": 72
        }
      },
      "cell_type": "code",
      "source": [
        "results[architecture] = precision_score(y_true, y_predict, average='binary')\n",
        "print('Test Precision: {:.2f}%'\n",
        "      .format(100 * results[architecture]))"
      ],
      "execution_count": 77,
      "outputs": [
        {
          "output_type": "stream",
          "text": [
            "Test Precision: 0.00%\n"
          ],
          "name": "stdout"
        },
        {
          "output_type": "stream",
          "text": [
            "/usr/local/lib/python3.6/dist-packages/sklearn/metrics/classification.py:1143: UndefinedMetricWarning: Precision is ill-defined and being set to 0.0 due to no predicted samples.\n",
            "  'precision', 'predicted', average, warn_for)\n"
          ],
          "name": "stderr"
        }
      ]
    },
    {
      "metadata": {
        "id": "xBqqHjZrnDFP",
        "colab_type": "text"
      },
      "cell_type": "markdown",
      "source": [
        "## 8 tentativa Precision: 0.00%"
      ]
    },
    {
      "metadata": {
        "colab_type": "text",
        "id": "3Qg1zWbo5W6V"
      },
      "cell_type": "markdown",
      "source": [
        "Modelo adaptado do **Lucas Albertins**\n",
        "\n",
        "*   Função **Adadelta** para compilação\n"
      ]
    },
    {
      "metadata": {
        "colab_type": "code",
        "id": "lmwfJa_fkEKz",
        "colab": {}
      },
      "cell_type": "code",
      "source": [
        "architecture = 'architecture_8'"
      ],
      "execution_count": 0,
      "outputs": []
    },
    {
      "metadata": {
        "id": "HwG1z8RnETvS",
        "colab_type": "text"
      },
      "cell_type": "markdown",
      "source": [
        "### Modelo"
      ]
    },
    {
      "metadata": {
        "colab_type": "code",
        "id": "MvjKH9LWpGsi",
        "colab": {}
      },
      "cell_type": "code",
      "source": [
        "from keras.layers import Conv2D, MaxPooling2D, GlobalMaxPooling2D, BatchNormalization\n",
        "from keras.regularizers import l2\n",
        "from keras.optimizers import Adadelta\n",
        "\n",
        "model = Sequential()\n",
        "\n",
        "model.add(Conv2D(32, (3, 3), activation='relu', kernel_regularizer=l2(1e-4), \n",
        "                 input_shape=(None, None, 3)))\n",
        "model.add(BatchNormalization())\n",
        "model.add(Conv2D(32, (3, 3), activation='relu', kernel_regularizer=l2(1e-4)))\n",
        "model.add(BatchNormalization())\n",
        "model.add(MaxPooling2D((2, 2)))\n",
        "model.add(Dropout(0.25))\n",
        "\n",
        "model.add(Conv2D(64, (3, 3), activation='relu', kernel_regularizer=l2(1e-4)))\n",
        "model.add(BatchNormalization())\n",
        "model.add(Conv2D(64, (3, 3), activation='relu', kernel_regularizer=l2(1e-4)))\n",
        "model.add(BatchNormalization())\n",
        "model.add(MaxPooling2D((2, 2)))\n",
        "model.add(Dropout(0.25))\n",
        "\n",
        "model.add(Conv2D(128, (1,1), kernel_regularizer=l2(1e-4)))\n",
        "model.add(GlobalMaxPooling2D())\n",
        "\n",
        "model.add(Dense(256, activation='relu', kernel_regularizer=l2(1e-4)))\n",
        "model.add(Dropout(0.5))\n",
        "model.add(Dense(2, activation='sigmoid', kernel_regularizer=l2(1e-4)))"
      ],
      "execution_count": 0,
      "outputs": []
    },
    {
      "metadata": {
        "colab_type": "code",
        "id": "civjmdynpGsy",
        "colab": {}
      },
      "cell_type": "code",
      "source": [
        "model.compile(Adadelta(lr=1.0, rho=0.95, epsilon=None, decay=0.0), \n",
        "              loss='binary_crossentropy', metrics=['accuracy'])"
      ],
      "execution_count": 0,
      "outputs": []
    },
    {
      "metadata": {
        "colab_type": "text",
        "id": "VzlA9sUOFppf"
      },
      "cell_type": "markdown",
      "source": [
        "### Treino\n"
      ]
    },
    {
      "metadata": {
        "colab_type": "code",
        "id": "-p4Hhs04Fppq",
        "colab": {}
      },
      "cell_type": "code",
      "source": [
        "checkpointer = ModelCheckpoint(filepath='drive/My Drive/Resultado/Segmentado/weights_' + architecture + '.hdf5', verbose=1, save_best_only=True)"
      ],
      "execution_count": 0,
      "outputs": []
    },
    {
      "metadata": {
        "colab_type": "code",
        "id": "OurJTZonFpp8",
        "outputId": "7903914e-5eff-42e4-aaef-fd868782d141",
        "colab": {
          "base_uri": "https://localhost:8080/",
          "height": 0
        }
      },
      "cell_type": "code",
      "source": [
        "training = model.fit_generator(train_batches, steps_per_epoch=stepsPerEpoche, \n",
        "                   validation_data=validation_batches, validation_steps=validationSteps,\n",
        "                   epochs=50, verbose=2, callbacks=[checkpointer])"
      ],
      "execution_count": 82,
      "outputs": [
        {
          "output_type": "stream",
          "text": [
            "Epoch 1/50\n",
            " - 4s - loss: 4.0804 - acc: 0.5375 - val_loss: 1.4310 - val_acc: 0.7344\n",
            "\n",
            "Epoch 00001: val_loss improved from inf to 1.43097, saving model to drive/My Drive/Resultado/Segmentado/weights_architecture_8.hdf5\n",
            "Epoch 2/50\n",
            " - 1s - loss: 3.1687 - acc: 0.6312 - val_loss: 2.4213 - val_acc: 0.6641\n",
            "\n",
            "Epoch 00002: val_loss did not improve from 1.43097\n",
            "Epoch 3/50\n",
            " - 1s - loss: 1.8270 - acc: 0.7219 - val_loss: 0.8360 - val_acc: 0.8750\n",
            "\n",
            "Epoch 00003: val_loss improved from 1.43097 to 0.83596, saving model to drive/My Drive/Resultado/Segmentado/weights_architecture_8.hdf5\n",
            "Epoch 4/50\n",
            " - 1s - loss: 1.1137 - acc: 0.8000 - val_loss: 0.5822 - val_acc: 0.8984\n",
            "\n",
            "Epoch 00004: val_loss improved from 0.83596 to 0.58218, saving model to drive/My Drive/Resultado/Segmentado/weights_architecture_8.hdf5\n",
            "Epoch 5/50\n",
            " - 1s - loss: 0.5995 - acc: 0.8969 - val_loss: 0.5790 - val_acc: 0.9375\n",
            "\n",
            "Epoch 00005: val_loss improved from 0.58218 to 0.57897, saving model to drive/My Drive/Resultado/Segmentado/weights_architecture_8.hdf5\n",
            "Epoch 6/50\n",
            " - 1s - loss: 0.5796 - acc: 0.9031 - val_loss: 1.1549 - val_acc: 0.7734\n",
            "\n",
            "Epoch 00006: val_loss did not improve from 0.57897\n",
            "Epoch 7/50\n",
            " - 1s - loss: 0.5585 - acc: 0.9031 - val_loss: 0.8658 - val_acc: 0.9062\n",
            "\n",
            "Epoch 00007: val_loss did not improve from 0.57897\n",
            "Epoch 8/50\n",
            " - 1s - loss: 0.7191 - acc: 0.8781 - val_loss: 0.6684 - val_acc: 0.8516\n",
            "\n",
            "Epoch 00008: val_loss did not improve from 0.57897\n",
            "Epoch 9/50\n",
            " - 1s - loss: 0.5465 - acc: 0.9125 - val_loss: 0.7608 - val_acc: 0.9062\n",
            "\n",
            "Epoch 00009: val_loss did not improve from 0.57897\n",
            "Epoch 10/50\n",
            " - 1s - loss: 0.4141 - acc: 0.9406 - val_loss: 0.4754 - val_acc: 0.8828\n",
            "\n",
            "Epoch 00010: val_loss improved from 0.57897 to 0.47543, saving model to drive/My Drive/Resultado/Segmentado/weights_architecture_8.hdf5\n",
            "Epoch 11/50\n",
            " - 1s - loss: 0.4351 - acc: 0.8937 - val_loss: 0.9297 - val_acc: 0.8906\n",
            "\n",
            "Epoch 00011: val_loss did not improve from 0.47543\n",
            "Epoch 12/50\n",
            " - 1s - loss: 0.5525 - acc: 0.9031 - val_loss: 0.4547 - val_acc: 0.9531\n",
            "\n",
            "Epoch 00012: val_loss improved from 0.47543 to 0.45472, saving model to drive/My Drive/Resultado/Segmentado/weights_architecture_8.hdf5\n",
            "Epoch 13/50\n",
            " - 1s - loss: 0.4052 - acc: 0.9000 - val_loss: 0.8961 - val_acc: 0.8438\n",
            "\n",
            "Epoch 00013: val_loss did not improve from 0.45472\n",
            "Epoch 14/50\n",
            " - 1s - loss: 0.4504 - acc: 0.9156 - val_loss: 0.3421 - val_acc: 0.9219\n",
            "\n",
            "Epoch 00014: val_loss improved from 0.45472 to 0.34215, saving model to drive/My Drive/Resultado/Segmentado/weights_architecture_8.hdf5\n",
            "Epoch 15/50\n",
            " - 1s - loss: 0.3701 - acc: 0.9188 - val_loss: 0.6223 - val_acc: 0.8750\n",
            "\n",
            "Epoch 00015: val_loss did not improve from 0.34215\n",
            "Epoch 16/50\n",
            " - 1s - loss: 0.4009 - acc: 0.8875 - val_loss: 0.5362 - val_acc: 0.8516\n",
            "\n",
            "Epoch 00016: val_loss did not improve from 0.34215\n",
            "Epoch 17/50\n",
            " - 1s - loss: 0.3411 - acc: 0.9250 - val_loss: 0.3588 - val_acc: 0.9091\n",
            "\n",
            "Epoch 00017: val_loss did not improve from 0.34215\n",
            "Epoch 18/50\n",
            " - 1s - loss: 0.2865 - acc: 0.9406 - val_loss: 0.8770 - val_acc: 0.8281\n",
            "\n",
            "Epoch 00018: val_loss did not improve from 0.34215\n",
            "Epoch 19/50\n",
            " - 1s - loss: 0.3116 - acc: 0.9281 - val_loss: 0.4242 - val_acc: 0.9062\n",
            "\n",
            "Epoch 00019: val_loss did not improve from 0.34215\n",
            "Epoch 20/50\n",
            " - 1s - loss: 0.5079 - acc: 0.8688 - val_loss: 0.6048 - val_acc: 0.8906\n",
            "\n",
            "Epoch 00020: val_loss did not improve from 0.34215\n",
            "Epoch 21/50\n",
            " - 1s - loss: 0.3521 - acc: 0.9032 - val_loss: 0.8052 - val_acc: 0.8594\n",
            "\n",
            "Epoch 00021: val_loss did not improve from 0.34215\n",
            "Epoch 22/50\n",
            " - 1s - loss: 0.3456 - acc: 0.9062 - val_loss: 0.2475 - val_acc: 0.9375\n",
            "\n",
            "Epoch 00022: val_loss improved from 0.34215 to 0.24750, saving model to drive/My Drive/Resultado/Segmentado/weights_architecture_8.hdf5\n",
            "Epoch 23/50\n",
            " - 1s - loss: 0.2783 - acc: 0.9156 - val_loss: 0.3243 - val_acc: 0.9141\n",
            "\n",
            "Epoch 00023: val_loss did not improve from 0.24750\n",
            "Epoch 24/50\n",
            " - 1s - loss: 0.2277 - acc: 0.9500 - val_loss: 0.2913 - val_acc: 0.9062\n",
            "\n",
            "Epoch 00024: val_loss did not improve from 0.24750\n",
            "Epoch 25/50\n",
            " - 1s - loss: 0.3341 - acc: 0.9188 - val_loss: 0.3354 - val_acc: 0.8906\n",
            "\n",
            "Epoch 00025: val_loss did not improve from 0.24750\n",
            "Epoch 26/50\n",
            " - 1s - loss: 0.2920 - acc: 0.9281 - val_loss: 0.3280 - val_acc: 0.8516\n",
            "\n",
            "Epoch 00026: val_loss did not improve from 0.24750\n",
            "Epoch 27/50\n",
            " - 1s - loss: 0.3145 - acc: 0.9188 - val_loss: 0.1905 - val_acc: 0.9453\n",
            "\n",
            "Epoch 00027: val_loss improved from 0.24750 to 0.19050, saving model to drive/My Drive/Resultado/Segmentado/weights_architecture_8.hdf5\n",
            "Epoch 28/50\n",
            " - 1s - loss: 0.3261 - acc: 0.9031 - val_loss: 0.2366 - val_acc: 0.9688\n",
            "\n",
            "Epoch 00028: val_loss did not improve from 0.19050\n",
            "Epoch 29/50\n",
            " - 1s - loss: 0.2970 - acc: 0.9219 - val_loss: 0.2770 - val_acc: 0.9375\n",
            "\n",
            "Epoch 00029: val_loss did not improve from 0.19050\n",
            "Epoch 30/50\n",
            " - 1s - loss: 0.2700 - acc: 0.9313 - val_loss: 0.3253 - val_acc: 0.8750\n",
            "\n",
            "Epoch 00030: val_loss did not improve from 0.19050\n",
            "Epoch 31/50\n",
            " - 1s - loss: 0.3667 - acc: 0.8906 - val_loss: 0.3364 - val_acc: 0.9062\n",
            "\n",
            "Epoch 00031: val_loss did not improve from 0.19050\n",
            "Epoch 32/50\n",
            " - 1s - loss: 0.3167 - acc: 0.9125 - val_loss: 0.5191 - val_acc: 0.8359\n",
            "\n",
            "Epoch 00032: val_loss did not improve from 0.19050\n",
            "Epoch 33/50\n",
            " - 1s - loss: 0.3553 - acc: 0.8969 - val_loss: 0.3825 - val_acc: 0.9219\n",
            "\n",
            "Epoch 00033: val_loss did not improve from 0.19050\n",
            "Epoch 34/50\n",
            " - 1s - loss: 0.2499 - acc: 0.9375 - val_loss: 0.2655 - val_acc: 0.9453\n",
            "\n",
            "Epoch 00034: val_loss did not improve from 0.19050\n",
            "Epoch 35/50\n",
            " - 1s - loss: 0.3435 - acc: 0.9094 - val_loss: 0.3400 - val_acc: 0.9318\n",
            "\n",
            "Epoch 00035: val_loss did not improve from 0.19050\n",
            "Epoch 36/50\n",
            " - 1s - loss: 0.3087 - acc: 0.9437 - val_loss: 0.5053 - val_acc: 0.8516\n",
            "\n",
            "Epoch 00036: val_loss did not improve from 0.19050\n",
            "Epoch 37/50\n",
            " - 1s - loss: 0.2946 - acc: 0.9094 - val_loss: 0.5924 - val_acc: 0.9062\n",
            "\n",
            "Epoch 00037: val_loss did not improve from 0.19050\n",
            "Epoch 38/50\n",
            " - 1s - loss: 0.2497 - acc: 0.9375 - val_loss: 0.2868 - val_acc: 0.9375\n",
            "\n",
            "Epoch 00038: val_loss did not improve from 0.19050\n",
            "Epoch 39/50\n",
            " - 1s - loss: 0.2185 - acc: 0.9406 - val_loss: 0.1942 - val_acc: 0.9531\n",
            "\n",
            "Epoch 00039: val_loss did not improve from 0.19050\n",
            "Epoch 40/50\n",
            " - 1s - loss: 0.1940 - acc: 0.9375 - val_loss: 0.3913 - val_acc: 0.8828\n",
            "\n",
            "Epoch 00040: val_loss did not improve from 0.19050\n",
            "Epoch 41/50\n",
            " - 1s - loss: 0.2158 - acc: 0.9562 - val_loss: 0.4113 - val_acc: 0.8906\n",
            "\n",
            "Epoch 00041: val_loss did not improve from 0.19050\n",
            "Epoch 42/50\n",
            " - 1s - loss: 0.3413 - acc: 0.9156 - val_loss: 0.3029 - val_acc: 0.9375\n",
            "\n",
            "Epoch 00042: val_loss did not improve from 0.19050\n",
            "Epoch 43/50\n",
            " - 1s - loss: 0.2823 - acc: 0.9406 - val_loss: 0.4126 - val_acc: 0.8828\n",
            "\n",
            "Epoch 00043: val_loss did not improve from 0.19050\n",
            "Epoch 44/50\n",
            " - 1s - loss: 0.2101 - acc: 0.9562 - val_loss: 0.3529 - val_acc: 0.9375\n",
            "\n",
            "Epoch 00044: val_loss did not improve from 0.19050\n",
            "Epoch 45/50\n",
            " - 1s - loss: 0.2082 - acc: 0.9469 - val_loss: 0.4318 - val_acc: 0.8906\n",
            "\n",
            "Epoch 00045: val_loss did not improve from 0.19050\n",
            "Epoch 46/50\n",
            " - 1s - loss: 0.1837 - acc: 0.9469 - val_loss: 0.3757 - val_acc: 0.8594\n",
            "\n",
            "Epoch 00046: val_loss did not improve from 0.19050\n",
            "Epoch 47/50\n",
            " - 1s - loss: 0.2259 - acc: 0.9097 - val_loss: 0.4417 - val_acc: 0.8750\n",
            "\n",
            "Epoch 00047: val_loss did not improve from 0.19050\n",
            "Epoch 48/50\n",
            " - 1s - loss: 0.3956 - acc: 0.9062 - val_loss: 0.6943 - val_acc: 0.8359\n",
            "\n",
            "Epoch 00048: val_loss did not improve from 0.19050\n",
            "Epoch 49/50\n",
            " - 1s - loss: 0.2607 - acc: 0.9281 - val_loss: 0.4216 - val_acc: 0.8750\n",
            "\n",
            "Epoch 00049: val_loss did not improve from 0.19050\n",
            "Epoch 50/50\n",
            " - 1s - loss: 0.2004 - acc: 0.9344 - val_loss: 0.4963 - val_acc: 0.8672\n",
            "\n",
            "Epoch 00050: val_loss did not improve from 0.19050\n"
          ],
          "name": "stdout"
        }
      ]
    },
    {
      "metadata": {
        "colab_type": "code",
        "id": "WaKuePNYFpqG",
        "colab": {}
      },
      "cell_type": "code",
      "source": [
        "model.load_weights('drive/My Drive/Resultado/Segmentado/weights_' + architecture + '.hdf5')"
      ],
      "execution_count": 0,
      "outputs": []
    },
    {
      "metadata": {
        "colab_type": "code",
        "id": "t93E4pwLFpqR",
        "outputId": "1ab9d4d3-9048-4c77-9c16-acb7019e2e5a",
        "colab": {
          "base_uri": "https://localhost:8080/",
          "height": 0
        }
      },
      "cell_type": "code",
      "source": [
        "# plotar loss e accuracy para os datasets 'train' e 'test'\n",
        "plt.style.use(\"ggplot\")\n",
        "plt.figure()\n",
        "plt.plot(training.history['acc'], label='Accuracy')\n",
        "plt.plot(training.history['loss'], label='Loss')\n",
        "plt.xlabel('Epochs')\n",
        "plt.ylabel('Accuracy')\n",
        "plt.title(\"Training Loss and Accuracy\")\n",
        "plt.ylabel(\"Loss/Accuracy\")\n",
        "plt.legend()\n",
        "plt.savefig('drive/My Drive/Resultado/Segmentado/' + architecture + '.png', bbox_inches='tight')"
      ],
      "execution_count": 84,
      "outputs": [
        {
          "output_type": "display_data",
          "data": {
            "image/png": "[encoded data removed]",
            "text/plain": [
              "<matplotlib.figure.Figure at 0x7fac53b93d68>"
            ]
          },
          "metadata": {
            "tags": []
          }
        }
      ]
    },
    {
      "metadata": {
        "colab_type": "text",
        "id": "xNiWp86XFpqa"
      },
      "cell_type": "markdown",
      "source": [
        "### Teste"
      ]
    },
    {
      "metadata": {
        "colab_type": "code",
        "id": "zkq42Cz1Fpqb",
        "outputId": "678e15fa-18b2-425c-81bf-a968e72ff354",
        "colab": {
          "base_uri": "https://localhost:8080/",
          "height": 54
        }
      },
      "cell_type": "code",
      "source": [
        "y_true, y_predict = ler_images_teste(architecture)"
      ],
      "execution_count": 85,
      "outputs": [
        {
          "output_type": "stream",
          "text": [
            "/usr/local/lib/python3.6/dist-packages/skimage/transform/_warps.py:84: UserWarning: The default mode, 'constant', will be changed to 'reflect' in skimage 0.15.\n",
            "  warn(\"The default mode, 'constant', will be changed to 'reflect' in \"\n"
          ],
          "name": "stderr"
        }
      ]
    },
    {
      "metadata": {
        "colab_type": "code",
        "id": "XDdF-G6_Fpql",
        "outputId": "06938539-f05a-469e-cb25-1216d5ba788a",
        "colab": {
          "base_uri": "https://localhost:8080/",
          "height": 72
        }
      },
      "cell_type": "code",
      "source": [
        "results[architecture] = precision_score(y_true, y_predict, average='binary')\n",
        "print('Test Precision: {:.2f}%'\n",
        "      .format(100 * results[architecture]))"
      ],
      "execution_count": 86,
      "outputs": [
        {
          "output_type": "stream",
          "text": [
            "Test Precision: 0.00%\n"
          ],
          "name": "stdout"
        },
        {
          "output_type": "stream",
          "text": [
            "/usr/local/lib/python3.6/dist-packages/sklearn/metrics/classification.py:1143: UndefinedMetricWarning: Precision is ill-defined and being set to 0.0 due to no predicted samples.\n",
            "  'precision', 'predicted', average, warn_for)\n"
          ],
          "name": "stderr"
        }
      ]
    },
    {
      "metadata": {
        "id": "csBCokNgxgbn",
        "colab_type": "text"
      },
      "cell_type": "markdown",
      "source": [
        "## 9 tentativa Precision: 0.00%"
      ]
    },
    {
      "metadata": {
        "colab_type": "text",
        "id": "qLtNH8xk63El"
      },
      "cell_type": "markdown",
      "source": [
        "Modelo adaptado do **Lucas Albertins**\n",
        "\n",
        "*   Função **SGD** para compilação\n"
      ]
    },
    {
      "metadata": {
        "colab_type": "code",
        "id": "474-g6XskHLD",
        "colab": {}
      },
      "cell_type": "code",
      "source": [
        "architecture = 'architecture_9'"
      ],
      "execution_count": 0,
      "outputs": []
    },
    {
      "metadata": {
        "id": "Ae5MENvrEYiB",
        "colab_type": "text"
      },
      "cell_type": "markdown",
      "source": [
        "### Modelo"
      ]
    },
    {
      "metadata": {
        "colab_type": "code",
        "id": "EJjS6pK1xj1f",
        "colab": {}
      },
      "cell_type": "code",
      "source": [
        "from keras.layers import Conv2D, MaxPooling2D, GlobalMaxPooling2D, BatchNormalization\n",
        "from keras.regularizers import l2\n",
        "\n",
        "model = Sequential()\n",
        "\n",
        "model.add(Conv2D(32, (3, 3), activation='relu', kernel_regularizer=l2(1e-4), \n",
        "                 input_shape=(None, None, 3)))\n",
        "model.add(BatchNormalization())\n",
        "model.add(Conv2D(32, (3, 3), activation='relu', kernel_regularizer=l2(1e-4)))\n",
        "model.add(BatchNormalization())\n",
        "model.add(MaxPooling2D((2, 2)))\n",
        "model.add(Dropout(0.25))\n",
        "\n",
        "model.add(Conv2D(64, (3, 3), activation='relu', kernel_regularizer=l2(1e-4)))\n",
        "model.add(BatchNormalization())\n",
        "model.add(Conv2D(64, (3, 3), activation='relu', kernel_regularizer=l2(1e-4)))\n",
        "model.add(BatchNormalization())\n",
        "model.add(MaxPooling2D((2, 2)))\n",
        "model.add(Dropout(0.25))\n",
        "\n",
        "model.add(Conv2D(128, (1,1), kernel_regularizer=l2(1e-4)))\n",
        "model.add(GlobalMaxPooling2D())\n",
        "\n",
        "model.add(Dense(256, activation='relu', kernel_regularizer=l2(1e-4)))\n",
        "model.add(Dropout(0.5))\n",
        "model.add(Dense(2, activation='sigmoid', kernel_regularizer=l2(1e-4)))"
      ],
      "execution_count": 0,
      "outputs": []
    },
    {
      "metadata": {
        "colab_type": "code",
        "id": "9ezdguEZxsWT",
        "colab": {}
      },
      "cell_type": "code",
      "source": [
        "model.compile(SGD(lr=0.03, momentum=0.0, decay=0.0, nesterov=False), \n",
        "              loss='binary_crossentropy', metrics=['accuracy'])"
      ],
      "execution_count": 0,
      "outputs": []
    },
    {
      "metadata": {
        "colab_type": "text",
        "id": "W_LJwu-CFrSP"
      },
      "cell_type": "markdown",
      "source": [
        "### Treino\n"
      ]
    },
    {
      "metadata": {
        "colab_type": "code",
        "id": "0jMpgHX9FrSU",
        "colab": {}
      },
      "cell_type": "code",
      "source": [
        "checkpointer = ModelCheckpoint(filepath='drive/My Drive/Resultado/Segmentado/weights_' + architecture + '.hdf5', verbose=1, save_best_only=True)"
      ],
      "execution_count": 0,
      "outputs": []
    },
    {
      "metadata": {
        "colab_type": "code",
        "id": "XAsxzibKFrSc",
        "outputId": "059c6e2b-aade-45d3-a859-68ea66af8865",
        "colab": {
          "base_uri": "https://localhost:8080/",
          "height": 0
        }
      },
      "cell_type": "code",
      "source": [
        "training = model.fit_generator(train_batches, steps_per_epoch=stepsPerEpoche, \n",
        "                   validation_data=validation_batches, validation_steps=validationSteps,\n",
        "                   epochs=50, verbose=2, callbacks=[checkpointer])"
      ],
      "execution_count": 91,
      "outputs": [
        {
          "output_type": "stream",
          "text": [
            "Epoch 1/50\n",
            " - 4s - loss: 7.1477 - acc: 0.4875 - val_loss: 6.8032 - val_acc: 0.5781\n",
            "\n",
            "Epoch 00001: val_loss improved from inf to 6.80316, saving model to drive/My Drive/Resultado/Segmentado/weights_architecture_9.hdf5\n",
            "Epoch 2/50\n",
            " - 1s - loss: 6.9534 - acc: 0.5687 - val_loss: 8.5565 - val_acc: 0.4688\n",
            "\n",
            "Epoch 00002: val_loss did not improve from 6.80316\n",
            "Epoch 3/50\n",
            " - 0s - loss: 7.7549 - acc: 0.5187 - val_loss: 7.0536 - val_acc: 0.5625\n",
            "\n",
            "Epoch 00003: val_loss did not improve from 6.80316\n",
            "Epoch 4/50\n",
            " - 0s - loss: 8.5565 - acc: 0.4688 - val_loss: 7.5546 - val_acc: 0.5312\n",
            "\n",
            "Epoch 00004: val_loss did not improve from 6.80316\n",
            "Epoch 5/50\n",
            " - 0s - loss: 7.6548 - acc: 0.5250 - val_loss: 8.3060 - val_acc: 0.4844\n",
            "\n",
            "Epoch 00005: val_loss did not improve from 6.80316\n",
            "Epoch 6/50\n",
            " - 1s - loss: 7.4544 - acc: 0.5375 - val_loss: 7.3041 - val_acc: 0.5469\n",
            "\n",
            "Epoch 00006: val_loss did not improve from 6.80316\n",
            "Epoch 7/50\n",
            " - 1s - loss: 8.6566 - acc: 0.4625 - val_loss: 8.5565 - val_acc: 0.4688\n",
            "\n",
            "Epoch 00007: val_loss did not improve from 6.80316\n",
            "Epoch 8/50\n",
            " - 1s - loss: 8.1557 - acc: 0.4937 - val_loss: 8.0555 - val_acc: 0.5000\n",
            "\n",
            "Epoch 00008: val_loss did not improve from 6.80316\n",
            "Epoch 9/50\n",
            " - 1s - loss: 7.6547 - acc: 0.5250 - val_loss: 8.3060 - val_acc: 0.4844\n",
            "\n",
            "Epoch 00009: val_loss did not improve from 6.80316\n",
            "Epoch 10/50\n",
            " - 1s - loss: 8.2559 - acc: 0.4875 - val_loss: 10.0593 - val_acc: 0.3750\n",
            "\n",
            "Epoch 00010: val_loss did not improve from 6.80316\n",
            "Epoch 11/50\n",
            " - 1s - loss: 7.9553 - acc: 0.5062 - val_loss: 7.0536 - val_acc: 0.5625\n",
            "\n",
            "Epoch 00011: val_loss did not improve from 6.80316\n",
            "Epoch 12/50\n",
            " - 1s - loss: 7.3542 - acc: 0.5438 - val_loss: 8.5564 - val_acc: 0.4688\n",
            "\n",
            "Epoch 00012: val_loss did not improve from 6.80316\n",
            "Epoch 13/50\n",
            " - 1s - loss: 8.1557 - acc: 0.4937 - val_loss: 7.5545 - val_acc: 0.5312\n",
            "\n",
            "Epoch 00013: val_loss did not improve from 6.80316\n",
            "Epoch 14/50\n",
            " - 1s - loss: 8.6566 - acc: 0.4625 - val_loss: 9.5583 - val_acc: 0.4062\n",
            "\n",
            "Epoch 00014: val_loss did not improve from 6.80316\n",
            "Epoch 15/50\n",
            " - 1s - loss: 7.8551 - acc: 0.5125 - val_loss: 7.3268 - val_acc: 0.5455\n",
            "\n",
            "Epoch 00015: val_loss did not improve from 6.80316\n",
            "Epoch 16/50\n",
            " - 1s - loss: 7.3542 - acc: 0.5438 - val_loss: 7.5545 - val_acc: 0.5312\n",
            "\n",
            "Epoch 00016: val_loss did not improve from 6.80316\n",
            "Epoch 17/50\n",
            " - 1s - loss: 8.1557 - acc: 0.4937 - val_loss: 8.5564 - val_acc: 0.4688\n",
            "\n",
            "Epoch 00017: val_loss did not improve from 6.80316\n",
            "Epoch 18/50\n",
            " - 1s - loss: 8.4541 - acc: 0.4750 - val_loss: 7.0536 - val_acc: 0.5625\n",
            "\n",
            "Epoch 00018: val_loss did not improve from 6.80316\n",
            "Epoch 19/50\n",
            " - 1s - loss: 8.6566 - acc: 0.4625 - val_loss: 7.8050 - val_acc: 0.5156\n",
            "\n",
            "Epoch 00019: val_loss did not improve from 6.80316\n",
            "Epoch 20/50\n",
            " - 1s - loss: 8.3560 - acc: 0.4813 - val_loss: 8.5564 - val_acc: 0.4688\n",
            "\n",
            "Epoch 00020: val_loss did not improve from 6.80316\n",
            "Epoch 21/50\n",
            " - 1s - loss: 7.2540 - acc: 0.5500 - val_loss: 7.0536 - val_acc: 0.5625\n",
            "\n",
            "Epoch 00021: val_loss did not improve from 6.80316\n",
            "Epoch 22/50\n",
            " - 1s - loss: 8.3560 - acc: 0.4813 - val_loss: 8.3059 - val_acc: 0.4844\n",
            "\n",
            "Epoch 00022: val_loss did not improve from 6.80316\n",
            "Epoch 23/50\n",
            " - 1s - loss: 9.4515 - acc: 0.4129 - val_loss: 10.3097 - val_acc: 0.3594\n",
            "\n",
            "Epoch 00023: val_loss did not improve from 6.80316\n",
            "Epoch 24/50\n",
            " - 1s - loss: 8.0555 - acc: 0.5000 - val_loss: 8.0555 - val_acc: 0.5000\n",
            "\n",
            "Epoch 00024: val_loss did not improve from 6.80316\n",
            "Epoch 25/50\n",
            " - 1s - loss: 7.2539 - acc: 0.5500 - val_loss: 7.0536 - val_acc: 0.5625\n",
            "\n",
            "Epoch 00025: val_loss did not improve from 6.80316\n",
            "Epoch 26/50\n",
            " - 1s - loss: 7.2539 - acc: 0.5500 - val_loss: 7.0536 - val_acc: 0.5625\n",
            "\n",
            "Epoch 00026: val_loss did not improve from 6.80316\n",
            "Epoch 27/50\n",
            " - 1s - loss: 8.0555 - acc: 0.5000 - val_loss: 11.3116 - val_acc: 0.2969\n",
            "\n",
            "Epoch 00027: val_loss did not improve from 6.80316\n",
            "Epoch 28/50\n",
            " - 1s - loss: 8.2558 - acc: 0.4875 - val_loss: 8.0555 - val_acc: 0.5000\n",
            "\n",
            "Epoch 00028: val_loss did not improve from 6.80316\n",
            "Epoch 29/50\n",
            " - 1s - loss: 8.7568 - acc: 0.4562 - val_loss: 7.0536 - val_acc: 0.5625\n",
            "\n",
            "Epoch 00029: val_loss did not improve from 6.80316\n",
            "Epoch 30/50\n",
            " - 1s - loss: 8.4562 - acc: 0.4750 - val_loss: 7.8050 - val_acc: 0.5156\n",
            "\n",
            "Epoch 00030: val_loss did not improve from 6.80316\n",
            "Epoch 31/50\n",
            " - 1s - loss: 8.9571 - acc: 0.4438 - val_loss: 8.5564 - val_acc: 0.4688\n",
            "\n",
            "Epoch 00031: val_loss did not improve from 6.80316\n",
            "Epoch 32/50\n",
            " - 1s - loss: 8.1556 - acc: 0.4937 - val_loss: 6.9625 - val_acc: 0.5682\n",
            "\n",
            "Epoch 00032: val_loss did not improve from 6.80316\n",
            "Epoch 33/50\n",
            " - 1s - loss: 8.5475 - acc: 0.4688 - val_loss: 7.3040 - val_acc: 0.5469\n",
            "\n",
            "Epoch 00033: val_loss did not improve from 6.80316\n",
            "Epoch 34/50\n",
            " - 1s - loss: 8.7485 - acc: 0.4562 - val_loss: 10.0592 - val_acc: 0.3750\n",
            "\n",
            "Epoch 00034: val_loss did not improve from 6.80316\n",
            "Epoch 35/50\n",
            " - 1s - loss: 7.9511 - acc: 0.4875 - val_loss: 7.8050 - val_acc: 0.5156\n",
            "\n",
            "Epoch 00035: val_loss did not improve from 6.80316\n",
            "Epoch 36/50\n",
            " - 1s - loss: 7.6247 - acc: 0.5250 - val_loss: 8.8069 - val_acc: 0.4531\n",
            "\n",
            "Epoch 00036: val_loss did not improve from 6.80316\n",
            "Epoch 37/50\n",
            " - 1s - loss: 6.4550 - acc: 0.5750 - val_loss: 8.0994 - val_acc: 0.5000\n",
            "\n",
            "Epoch 00037: val_loss did not improve from 6.80316\n",
            "Epoch 38/50\n",
            " - 1s - loss: 7.5744 - acc: 0.5031 - val_loss: 8.0994 - val_acc: 0.5000\n",
            "\n",
            "Epoch 00038: val_loss did not improve from 6.80316\n",
            "Epoch 39/50\n",
            " - 1s - loss: 8.0994 - acc: 0.5000 - val_loss: 8.0994 - val_acc: 0.5000\n",
            "\n",
            "Epoch 00039: val_loss did not improve from 6.80316\n",
            "Epoch 40/50\n",
            " - 1s - loss: 8.0994 - acc: 0.5000 - val_loss: 8.0994 - val_acc: 0.5000\n",
            "\n",
            "Epoch 00040: val_loss did not improve from 6.80316\n",
            "Epoch 41/50\n",
            " - 1s - loss: 8.0849 - acc: 0.5000 - val_loss: 8.0994 - val_acc: 0.5000\n",
            "\n",
            "Epoch 00041: val_loss did not improve from 6.80316\n",
            "Epoch 42/50\n",
            " - 1s - loss: 8.0994 - acc: 0.5000 - val_loss: 8.0994 - val_acc: 0.5000\n",
            "\n",
            "Epoch 00042: val_loss did not improve from 6.80316\n",
            "Epoch 43/50\n",
            " - 1s - loss: 8.0994 - acc: 0.5000 - val_loss: 8.0994 - val_acc: 0.5000\n",
            "\n",
            "Epoch 00043: val_loss did not improve from 6.80316\n",
            "Epoch 44/50\n",
            " - 1s - loss: 8.0994 - acc: 0.5000 - val_loss: 8.0994 - val_acc: 0.5000\n",
            "\n",
            "Epoch 00044: val_loss did not improve from 6.80316\n",
            "Epoch 45/50\n",
            " - 1s - loss: 8.0994 - acc: 0.5000 - val_loss: 8.0994 - val_acc: 0.5000\n",
            "\n",
            "Epoch 00045: val_loss did not improve from 6.80316\n",
            "Epoch 46/50\n",
            " - 1s - loss: 8.0994 - acc: 0.5000 - val_loss: 8.0994 - val_acc: 0.5000\n",
            "\n",
            "Epoch 00046: val_loss did not improve from 6.80316\n",
            "Epoch 47/50\n",
            " - 1s - loss: 8.0994 - acc: 0.5000 - val_loss: 8.0994 - val_acc: 0.5000\n",
            "\n",
            "Epoch 00047: val_loss did not improve from 6.80316\n",
            "Epoch 48/50\n",
            " - 1s - loss: 8.0994 - acc: 0.5000 - val_loss: 8.0994 - val_acc: 0.5000\n",
            "\n",
            "Epoch 00048: val_loss did not improve from 6.80316\n",
            "Epoch 49/50\n",
            " - 1s - loss: 8.0994 - acc: 0.5000 - val_loss: 8.0994 - val_acc: 0.5000\n",
            "\n",
            "Epoch 00049: val_loss did not improve from 6.80316\n",
            "Epoch 50/50\n",
            " - 1s - loss: 8.0994 - acc: 0.5000 - val_loss: 8.0994 - val_acc: 0.5000\n",
            "\n",
            "Epoch 00050: val_loss did not improve from 6.80316\n"
          ],
          "name": "stdout"
        }
      ]
    },
    {
      "metadata": {
        "colab_type": "code",
        "id": "C9p7BgNVFrSn",
        "colab": {}
      },
      "cell_type": "code",
      "source": [
        "model.load_weights('drive/My Drive/Resultado/Segmentado/weights_' + architecture + '.hdf5')"
      ],
      "execution_count": 0,
      "outputs": []
    },
    {
      "metadata": {
        "colab_type": "code",
        "id": "VjcSjtdkFrS2",
        "outputId": "cb563e43-9f97-42e4-bbdb-79bede52435e",
        "colab": {
          "base_uri": "https://localhost:8080/",
          "height": 0
        }
      },
      "cell_type": "code",
      "source": [
        "# plotar loss e accuracy para os datasets 'train' e 'test'\n",
        "plt.style.use(\"ggplot\")\n",
        "plt.figure()\n",
        "plt.plot(training.history['acc'], label='Accuracy')\n",
        "plt.plot(training.history['loss'], label='Loss')\n",
        "plt.xlabel('Epochs')\n",
        "plt.ylabel('Accuracy')\n",
        "plt.title(\"Training Loss and Accuracy\")\n",
        "plt.ylabel(\"Loss/Accuracy\")\n",
        "plt.legend()\n",
        "plt.savefig('drive/My Drive/Resultado/Segmentado/' + architecture + '.png', bbox_inches='tight')"
      ],
      "execution_count": 93,
      "outputs": [
        {
          "output_type": "display_data",
          "data": {
            "image/png": "[encoded data removed]",
            "text/plain": [
              "<matplotlib.figure.Figure at 0x7fac52fbbc50>"
            ]
          },
          "metadata": {
            "tags": []
          }
        }
      ]
    },
    {
      "metadata": {
        "colab_type": "text",
        "id": "pMqyKtnTFrS_"
      },
      "cell_type": "markdown",
      "source": [
        "### Teste"
      ]
    },
    {
      "metadata": {
        "colab_type": "code",
        "id": "PwCTx5RvFrTB",
        "outputId": "e594eac2-d7e5-4e80-ab23-947fe9a0f477",
        "colab": {
          "base_uri": "https://localhost:8080/",
          "height": 54
        }
      },
      "cell_type": "code",
      "source": [
        "y_true, y_predict = ler_images_teste(architecture)"
      ],
      "execution_count": 94,
      "outputs": [
        {
          "output_type": "stream",
          "text": [
            "/usr/local/lib/python3.6/dist-packages/skimage/transform/_warps.py:84: UserWarning: The default mode, 'constant', will be changed to 'reflect' in skimage 0.15.\n",
            "  warn(\"The default mode, 'constant', will be changed to 'reflect' in \"\n"
          ],
          "name": "stderr"
        }
      ]
    },
    {
      "metadata": {
        "colab_type": "code",
        "id": "Dv96B3jlFrTM",
        "outputId": "233330c6-2ecf-4af2-a515-82d09143d3da",
        "colab": {
          "base_uri": "https://localhost:8080/",
          "height": 72
        }
      },
      "cell_type": "code",
      "source": [
        "results[architecture] = precision_score(y_true, y_predict, average='binary')\n",
        "print('Test Precision: {:.2f}%'\n",
        "      .format(100 * results[architecture]))"
      ],
      "execution_count": 95,
      "outputs": [
        {
          "output_type": "stream",
          "text": [
            "Test Precision: 0.00%\n"
          ],
          "name": "stdout"
        },
        {
          "output_type": "stream",
          "text": [
            "/usr/local/lib/python3.6/dist-packages/sklearn/metrics/classification.py:1143: UndefinedMetricWarning: Precision is ill-defined and being set to 0.0 due to no predicted samples.\n",
            "  'precision', 'predicted', average, warn_for)\n"
          ],
          "name": "stderr"
        }
      ]
    },
    {
      "metadata": {
        "id": "I_6RPRqZ0ooK",
        "colab_type": "text"
      },
      "cell_type": "markdown",
      "source": [
        "## 10 tentativa Precision: 0.00%"
      ]
    },
    {
      "metadata": {
        "colab_type": "text",
        "id": "drBpwd1s7PE3"
      },
      "cell_type": "markdown",
      "source": [
        "Modelo adaptado do **Lucas Albertins**\n",
        "\n",
        "*   Função **adam** para compilação\n",
        "*   Adicionado mais 2 camadas convolutivas"
      ]
    },
    {
      "metadata": {
        "colab_type": "code",
        "id": "7CD_MICYkLAi",
        "colab": {}
      },
      "cell_type": "code",
      "source": [
        "architecture = 'architecture_10'"
      ],
      "execution_count": 0,
      "outputs": []
    },
    {
      "metadata": {
        "id": "t3bAAcsqEeAK",
        "colab_type": "text"
      },
      "cell_type": "markdown",
      "source": [
        "### Modelo"
      ]
    },
    {
      "metadata": {
        "colab_type": "code",
        "id": "6LGTLObK0u-Y",
        "colab": {}
      },
      "cell_type": "code",
      "source": [
        "from keras.layers import Conv2D, MaxPooling2D, GlobalMaxPooling2D, BatchNormalization\n",
        "from keras.regularizers import l2\n",
        "\n",
        "model = Sequential()\n",
        "\n",
        "model.add(Conv2D(32, (3, 3), activation='relu', kernel_regularizer=l2(1e-4), \n",
        "                 input_shape=(None, None, 3)))\n",
        "model.add(BatchNormalization())\n",
        "model.add(Conv2D(32, (3, 3), activation='relu', kernel_regularizer=l2(1e-4)))\n",
        "model.add(BatchNormalization())\n",
        "model.add(MaxPooling2D((2, 2)))\n",
        "model.add(Dropout(0.25))\n",
        "\n",
        "model.add(Conv2D(64, (3, 3), activation='relu', kernel_regularizer=l2(1e-4)))\n",
        "model.add(BatchNormalization())\n",
        "model.add(Conv2D(64, (3, 3), activation='relu', kernel_regularizer=l2(1e-4)))\n",
        "model.add(BatchNormalization())\n",
        "model.add(MaxPooling2D((2, 2)))\n",
        "model.add(Dropout(0.25))\n",
        "\n",
        "model.add(Conv2D(96, (3, 3),activation='relu', kernel_regularizer=l2(1e-4)))\n",
        "model.add(BatchNormalization())\n",
        "model.add(Conv2D(96, (3, 3),activation='relu', kernel_regularizer=l2(1e-4)))\n",
        "model.add(BatchNormalization())\n",
        "model.add(MaxPooling2D((2, 2)))\n",
        "model.add(Dropout(0.25))\n",
        "\n",
        "model.add(Conv2D(128, (1,1), kernel_regularizer=l2(1e-4)))\n",
        "model.add(GlobalMaxPooling2D())\n",
        "\n",
        "model.add(Dense(256, activation='relu', kernel_regularizer=l2(1e-4)))\n",
        "model.add(Dropout(0.5))\n",
        "model.add(Dense(2, activation='sigmoid', kernel_regularizer=l2(1e-4)))"
      ],
      "execution_count": 0,
      "outputs": []
    },
    {
      "metadata": {
        "colab_type": "code",
        "id": "vB92aUkR0u-p",
        "colab": {}
      },
      "cell_type": "code",
      "source": [
        "model.compile(optimizer='adam', loss='binary_crossentropy', metrics=['accuracy'])"
      ],
      "execution_count": 0,
      "outputs": []
    },
    {
      "metadata": {
        "colab_type": "text",
        "id": "r1DyOIXuFske"
      },
      "cell_type": "markdown",
      "source": [
        "### Treino\n"
      ]
    },
    {
      "metadata": {
        "colab_type": "code",
        "id": "vp6MrfPzFskr",
        "colab": {}
      },
      "cell_type": "code",
      "source": [
        "checkpointer = ModelCheckpoint(filepath='drive/My Drive/Resultado/Segmentado/weights_' + architecture + '.hdf5', verbose=1, save_best_only=True)"
      ],
      "execution_count": 0,
      "outputs": []
    },
    {
      "metadata": {
        "colab_type": "code",
        "id": "uEMxGvwLFsk8",
        "outputId": "3ad84aaf-aad7-4e1b-8288-1857206927f7",
        "colab": {
          "base_uri": "https://localhost:8080/",
          "height": 0
        }
      },
      "cell_type": "code",
      "source": [
        "training = model.fit_generator(train_batches, steps_per_epoch=stepsPerEpoche, \n",
        "                   validation_data=validation_batches, validation_steps=validationSteps,\n",
        "                   epochs=50, verbose=2, callbacks=[checkpointer])"
      ],
      "execution_count": 100,
      "outputs": [
        {
          "output_type": "stream",
          "text": [
            "Epoch 1/50\n",
            " - 5s - loss: 2.5820 - acc: 0.4969 - val_loss: 0.6809 - val_acc: 0.6484\n",
            "\n",
            "Epoch 00001: val_loss improved from inf to 0.68087, saving model to drive/My Drive/Resultado/Segmentado/weights_architecture_10.hdf5\n",
            "Epoch 2/50\n",
            " - 1s - loss: 1.5137 - acc: 0.6031 - val_loss: 0.7095 - val_acc: 0.6562\n",
            "\n",
            "Epoch 00002: val_loss did not improve from 0.68087\n",
            "Epoch 3/50\n",
            " - 1s - loss: 0.9499 - acc: 0.6937 - val_loss: 0.4900 - val_acc: 0.8594\n",
            "\n",
            "Epoch 00003: val_loss improved from 0.68087 to 0.49001, saving model to drive/My Drive/Resultado/Segmentado/weights_architecture_10.hdf5\n",
            "Epoch 4/50\n",
            " - 1s - loss: 0.4924 - acc: 0.8469 - val_loss: 0.5556 - val_acc: 0.8438\n",
            "\n",
            "Epoch 00004: val_loss did not improve from 0.49001\n",
            "Epoch 5/50\n",
            " - 1s - loss: 0.5356 - acc: 0.8063 - val_loss: 0.3262 - val_acc: 0.8906\n",
            "\n",
            "Epoch 00005: val_loss improved from 0.49001 to 0.32620, saving model to drive/My Drive/Resultado/Segmentado/weights_architecture_10.hdf5\n",
            "Epoch 6/50\n",
            " - 1s - loss: 0.4009 - acc: 0.8969 - val_loss: 0.4773 - val_acc: 0.8672\n",
            "\n",
            "Epoch 00006: val_loss did not improve from 0.32620\n",
            "Epoch 7/50\n",
            " - 1s - loss: 0.4250 - acc: 0.9125 - val_loss: 0.4821 - val_acc: 0.8594\n",
            "\n",
            "Epoch 00007: val_loss did not improve from 0.32620\n",
            "Epoch 8/50\n",
            " - 1s - loss: 0.4947 - acc: 0.8688 - val_loss: 0.3637 - val_acc: 0.9062\n",
            "\n",
            "Epoch 00008: val_loss did not improve from 0.32620\n",
            "Epoch 9/50\n",
            " - 1s - loss: 0.3853 - acc: 0.8937 - val_loss: 0.1884 - val_acc: 0.9531\n",
            "\n",
            "Epoch 00009: val_loss improved from 0.32620 to 0.18843, saving model to drive/My Drive/Resultado/Segmentado/weights_architecture_10.hdf5\n",
            "Epoch 10/50\n",
            " - 1s - loss: 0.2802 - acc: 0.9000 - val_loss: 0.3643 - val_acc: 0.9062\n",
            "\n",
            "Epoch 00010: val_loss did not improve from 0.18843\n",
            "Epoch 11/50\n",
            " - 1s - loss: 0.3855 - acc: 0.8750 - val_loss: 0.2684 - val_acc: 0.9375\n",
            "\n",
            "Epoch 00011: val_loss did not improve from 0.18843\n",
            "Epoch 12/50\n",
            " - 1s - loss: 0.3214 - acc: 0.8937 - val_loss: 0.5588 - val_acc: 0.8295\n",
            "\n",
            "Epoch 00012: val_loss did not improve from 0.18843\n",
            "Epoch 13/50\n",
            " - 1s - loss: 0.2825 - acc: 0.9188 - val_loss: 0.4827 - val_acc: 0.8672\n",
            "\n",
            "Epoch 00013: val_loss did not improve from 0.18843\n",
            "Epoch 14/50\n",
            " - 1s - loss: 0.4106 - acc: 0.9000 - val_loss: 0.2799 - val_acc: 0.9375\n",
            "\n",
            "Epoch 00014: val_loss did not improve from 0.18843\n",
            "Epoch 15/50\n",
            " - 1s - loss: 0.3717 - acc: 0.8719 - val_loss: 0.6108 - val_acc: 0.8359\n",
            "\n",
            "Epoch 00015: val_loss did not improve from 0.18843\n",
            "Epoch 16/50\n",
            " - 1s - loss: 0.3179 - acc: 0.9281 - val_loss: 0.3793 - val_acc: 0.9062\n",
            "\n",
            "Epoch 00016: val_loss did not improve from 0.18843\n",
            "Epoch 17/50\n",
            " - 1s - loss: 0.3389 - acc: 0.9250 - val_loss: 0.4155 - val_acc: 0.9219\n",
            "\n",
            "Epoch 00017: val_loss did not improve from 0.18843\n",
            "Epoch 18/50\n",
            " - 1s - loss: 0.5009 - acc: 0.8937 - val_loss: 0.2030 - val_acc: 0.9297\n",
            "\n",
            "Epoch 00018: val_loss did not improve from 0.18843\n",
            "Epoch 19/50\n",
            " - 1s - loss: 0.2327 - acc: 0.9500 - val_loss: 0.3212 - val_acc: 0.9297\n",
            "\n",
            "Epoch 00019: val_loss did not improve from 0.18843\n",
            "Epoch 20/50\n",
            " - 1s - loss: 0.3826 - acc: 0.8844 - val_loss: 0.4000 - val_acc: 0.8516\n",
            "\n",
            "Epoch 00020: val_loss did not improve from 0.18843\n",
            "Epoch 21/50\n",
            " - 1s - loss: 0.2135 - acc: 0.9500 - val_loss: 0.5017 - val_acc: 0.8750\n",
            "\n",
            "Epoch 00021: val_loss did not improve from 0.18843\n",
            "Epoch 22/50\n",
            " - 1s - loss: 0.3171 - acc: 0.9344 - val_loss: 0.7933 - val_acc: 0.8047\n",
            "\n",
            "Epoch 00022: val_loss did not improve from 0.18843\n",
            "Epoch 23/50\n",
            " - 1s - loss: 0.2383 - acc: 0.9188 - val_loss: 0.3322 - val_acc: 0.9062\n",
            "\n",
            "Epoch 00023: val_loss did not improve from 0.18843\n",
            "Epoch 24/50\n",
            " - 1s - loss: 0.3008 - acc: 0.9156 - val_loss: 0.3620 - val_acc: 0.9219\n",
            "\n",
            "Epoch 00024: val_loss did not improve from 0.18843\n",
            "Epoch 25/50\n",
            " - 1s - loss: 0.2795 - acc: 0.9156 - val_loss: 0.4049 - val_acc: 0.8906\n",
            "\n",
            "Epoch 00025: val_loss did not improve from 0.18843\n",
            "Epoch 26/50\n",
            " - 1s - loss: 0.3788 - acc: 0.8871 - val_loss: 0.6594 - val_acc: 0.8594\n",
            "\n",
            "Epoch 00026: val_loss did not improve from 0.18843\n",
            "Epoch 27/50\n",
            " - 1s - loss: 0.2345 - acc: 0.9313 - val_loss: 0.4440 - val_acc: 0.9062\n",
            "\n",
            "Epoch 00027: val_loss did not improve from 0.18843\n",
            "Epoch 28/50\n",
            " - 1s - loss: 0.2678 - acc: 0.9469 - val_loss: 0.2821 - val_acc: 0.9141\n",
            "\n",
            "Epoch 00028: val_loss did not improve from 0.18843\n",
            "Epoch 29/50\n",
            " - 1s - loss: 0.2160 - acc: 0.9406 - val_loss: 0.2909 - val_acc: 0.9375\n",
            "\n",
            "Epoch 00029: val_loss did not improve from 0.18843\n",
            "Epoch 30/50\n",
            " - 1s - loss: 0.1695 - acc: 0.9656 - val_loss: 0.2048 - val_acc: 0.9545\n",
            "\n",
            "Epoch 00030: val_loss did not improve from 0.18843\n",
            "Epoch 31/50\n",
            " - 1s - loss: 0.1849 - acc: 0.9562 - val_loss: 0.3598 - val_acc: 0.9219\n",
            "\n",
            "Epoch 00031: val_loss did not improve from 0.18843\n",
            "Epoch 32/50\n",
            " - 1s - loss: 0.2718 - acc: 0.9562 - val_loss: 0.3133 - val_acc: 0.9219\n",
            "\n",
            "Epoch 00032: val_loss did not improve from 0.18843\n",
            "Epoch 33/50\n",
            " - 1s - loss: 0.3437 - acc: 0.9031 - val_loss: 0.3765 - val_acc: 0.9062\n",
            "\n",
            "Epoch 00033: val_loss did not improve from 0.18843\n",
            "Epoch 34/50\n",
            " - 1s - loss: 0.2591 - acc: 0.9156 - val_loss: 0.2840 - val_acc: 0.9375\n",
            "\n",
            "Epoch 00034: val_loss did not improve from 0.18843\n",
            "Epoch 35/50\n",
            " - 1s - loss: 0.2525 - acc: 0.9437 - val_loss: 0.3862 - val_acc: 0.9219\n",
            "\n",
            "Epoch 00035: val_loss did not improve from 0.18843\n",
            "Epoch 36/50\n",
            " - 1s - loss: 0.2355 - acc: 0.9594 - val_loss: 0.2250 - val_acc: 0.9375\n",
            "\n",
            "Epoch 00036: val_loss did not improve from 0.18843\n",
            "Epoch 37/50\n",
            " - 1s - loss: 0.3132 - acc: 0.9375 - val_loss: 0.6645 - val_acc: 0.8828\n",
            "\n",
            "Epoch 00037: val_loss did not improve from 0.18843\n",
            "Epoch 38/50\n",
            " - 1s - loss: 0.1952 - acc: 0.9531 - val_loss: 0.2905 - val_acc: 0.9375\n",
            "\n",
            "Epoch 00038: val_loss did not improve from 0.18843\n",
            "Epoch 39/50\n",
            " - 1s - loss: 0.2645 - acc: 0.9406 - val_loss: 0.3914 - val_acc: 0.8516\n",
            "\n",
            "Epoch 00039: val_loss did not improve from 0.18843\n",
            "Epoch 40/50\n",
            " - 1s - loss: 0.2453 - acc: 0.9344 - val_loss: 0.5222 - val_acc: 0.8594\n",
            "\n",
            "Epoch 00040: val_loss did not improve from 0.18843\n",
            "Epoch 41/50\n",
            " - 1s - loss: 0.3272 - acc: 0.9188 - val_loss: 0.3839 - val_acc: 0.8672\n",
            "\n",
            "Epoch 00041: val_loss did not improve from 0.18843\n",
            "Epoch 42/50\n",
            " - 1s - loss: 0.2461 - acc: 0.9313 - val_loss: 0.2513 - val_acc: 0.9219\n",
            "\n",
            "Epoch 00042: val_loss did not improve from 0.18843\n",
            "Epoch 43/50\n",
            " - 1s - loss: 0.2735 - acc: 0.9125 - val_loss: 0.5858 - val_acc: 0.8750\n",
            "\n",
            "Epoch 00043: val_loss did not improve from 0.18843\n",
            "Epoch 44/50\n",
            " - 1s - loss: 0.3161 - acc: 0.9250 - val_loss: 0.2460 - val_acc: 0.9453\n",
            "\n",
            "Epoch 00044: val_loss did not improve from 0.18843\n",
            "Epoch 45/50\n",
            " - 1s - loss: 0.2886 - acc: 0.9094 - val_loss: 0.3564 - val_acc: 0.8906\n",
            "\n",
            "Epoch 00045: val_loss did not improve from 0.18843\n",
            "Epoch 46/50\n",
            " - 1s - loss: 0.2991 - acc: 0.9125 - val_loss: 0.4664 - val_acc: 0.8594\n",
            "\n",
            "Epoch 00046: val_loss did not improve from 0.18843\n",
            "Epoch 47/50\n",
            " - 1s - loss: 0.2674 - acc: 0.9344 - val_loss: 0.4432 - val_acc: 0.8295\n",
            "\n",
            "Epoch 00047: val_loss did not improve from 0.18843\n",
            "Epoch 48/50\n",
            " - 1s - loss: 0.2343 - acc: 0.9437 - val_loss: 0.4357 - val_acc: 0.8125\n",
            "\n",
            "Epoch 00048: val_loss did not improve from 0.18843\n",
            "Epoch 49/50\n",
            " - 1s - loss: 0.3371 - acc: 0.9125 - val_loss: 0.3788 - val_acc: 0.8594\n",
            "\n",
            "Epoch 00049: val_loss did not improve from 0.18843\n",
            "Epoch 50/50\n",
            " - 1s - loss: 0.1679 - acc: 0.9781 - val_loss: 0.5439 - val_acc: 0.8438\n",
            "\n",
            "Epoch 00050: val_loss did not improve from 0.18843\n"
          ],
          "name": "stdout"
        }
      ]
    },
    {
      "metadata": {
        "colab_type": "code",
        "id": "25_Rx-u0FslH",
        "colab": {}
      },
      "cell_type": "code",
      "source": [
        "model.load_weights('drive/My Drive/Resultado/Segmentado/weights_' + architecture + '.hdf5')"
      ],
      "execution_count": 0,
      "outputs": []
    },
    {
      "metadata": {
        "colab_type": "code",
        "id": "oY5HnCOQFslN",
        "outputId": "c7d35745-bfd1-4752-ae26-79e0fae2d46d",
        "colab": {
          "base_uri": "https://localhost:8080/",
          "height": 0
        }
      },
      "cell_type": "code",
      "source": [
        "# plotar loss e accuracy para os datasets 'train' e 'test'\n",
        "plt.style.use(\"ggplot\")\n",
        "plt.figure()\n",
        "plt.plot(training.history['acc'], label='Accuracy')\n",
        "plt.plot(training.history['loss'], label='Loss')\n",
        "plt.xlabel('Epochs')\n",
        "plt.ylabel('Accuracy')\n",
        "plt.title(\"Training Loss and Accuracy\")\n",
        "plt.ylabel(\"Loss/Accuracy\")\n",
        "plt.legend()\n",
        "plt.savefig('drive/My Drive/Resultado/Segmentado/' + architecture + '.png', bbox_inches='tight')"
      ],
      "execution_count": 102,
      "outputs": [
        {
          "output_type": "display_data",
          "data": {
            "image/png": "[encoded data removed]",
            "text/plain": [
              "<matplotlib.figure.Figure at 0x7fac5033c1d0>"
            ]
          },
          "metadata": {
            "tags": []
          }
        }
      ]
    },
    {
      "metadata": {
        "colab_type": "text",
        "id": "Zsnaw_SJFslV"
      },
      "cell_type": "markdown",
      "source": [
        "### Teste"
      ]
    },
    {
      "metadata": {
        "colab_type": "code",
        "id": "X_QVrYmlFslX",
        "outputId": "d632a51b-654e-41ab-dac0-f62135e6a567",
        "colab": {
          "base_uri": "https://localhost:8080/",
          "height": 54
        }
      },
      "cell_type": "code",
      "source": [
        "y_true, y_predict = ler_images_teste(architecture)"
      ],
      "execution_count": 103,
      "outputs": [
        {
          "output_type": "stream",
          "text": [
            "/usr/local/lib/python3.6/dist-packages/skimage/transform/_warps.py:84: UserWarning: The default mode, 'constant', will be changed to 'reflect' in skimage 0.15.\n",
            "  warn(\"The default mode, 'constant', will be changed to 'reflect' in \"\n"
          ],
          "name": "stderr"
        }
      ]
    },
    {
      "metadata": {
        "colab_type": "code",
        "id": "d7TkNb_gFsli",
        "outputId": "41d379ba-d121-4c99-ef7f-358005c61f31",
        "colab": {
          "base_uri": "https://localhost:8080/",
          "height": 72
        }
      },
      "cell_type": "code",
      "source": [
        "results[architecture] = precision_score(y_true, y_predict, average='binary')\n",
        "print('Test Precision: {:.2f}%'\n",
        "      .format(100 * results[architecture]))"
      ],
      "execution_count": 104,
      "outputs": [
        {
          "output_type": "stream",
          "text": [
            "Test Precision: 0.00%\n"
          ],
          "name": "stdout"
        },
        {
          "output_type": "stream",
          "text": [
            "/usr/local/lib/python3.6/dist-packages/sklearn/metrics/classification.py:1143: UndefinedMetricWarning: Precision is ill-defined and being set to 0.0 due to no predicted samples.\n",
            "  'precision', 'predicted', average, warn_for)\n"
          ],
          "name": "stderr"
        }
      ]
    },
    {
      "metadata": {
        "id": "t-JuICq46CWp",
        "colab_type": "text"
      },
      "cell_type": "markdown",
      "source": [
        "## 11 tentativa Precision: 0.00%"
      ]
    },
    {
      "metadata": {
        "colab_type": "text",
        "id": "MdaiMXVY8RWc"
      },
      "cell_type": "markdown",
      "source": [
        "Modelo adaptado do **Lucas Albertins**\n",
        "\n",
        "*   Função **SGD** para compilação\n",
        "*   Adicionado mais 2 camadas convolutivas"
      ]
    },
    {
      "metadata": {
        "colab_type": "code",
        "id": "oGVeMLcZkPCr",
        "colab": {}
      },
      "cell_type": "code",
      "source": [
        "architecture = 'architecture_11'"
      ],
      "execution_count": 0,
      "outputs": []
    },
    {
      "metadata": {
        "id": "JpeFBqRcElIh",
        "colab_type": "text"
      },
      "cell_type": "markdown",
      "source": [
        "### Modelo"
      ]
    },
    {
      "metadata": {
        "colab_type": "code",
        "id": "vLy1nlhs6HHL",
        "colab": {}
      },
      "cell_type": "code",
      "source": [
        "from keras.layers import Conv2D, MaxPooling2D, GlobalMaxPooling2D, BatchNormalization\n",
        "from keras.regularizers import l2\n",
        "\n",
        "model = Sequential()\n",
        "\n",
        "model.add(Conv2D(32, (3, 3), activation='relu', kernel_regularizer=l2(1e-4), \n",
        "                 input_shape=(None, None, 3)))\n",
        "model.add(BatchNormalization())\n",
        "model.add(Conv2D(32, (3, 3), activation='relu', kernel_regularizer=l2(1e-4)))\n",
        "model.add(BatchNormalization())\n",
        "model.add(MaxPooling2D((2, 2)))\n",
        "model.add(Dropout(0.25))\n",
        "\n",
        "model.add(Conv2D(64, (3, 3), activation='relu', kernel_regularizer=l2(1e-4)))\n",
        "model.add(BatchNormalization())\n",
        "model.add(Conv2D(64, (3, 3), activation='relu', kernel_regularizer=l2(1e-4)))\n",
        "model.add(BatchNormalization())\n",
        "model.add(MaxPooling2D((2, 2)))\n",
        "model.add(Dropout(0.25))\n",
        "\n",
        "model.add(Conv2D(96, (3, 3),activation='relu', kernel_regularizer=l2(1e-4)))\n",
        "model.add(BatchNormalization())\n",
        "model.add(Conv2D(96, (3, 3),activation='relu', kernel_regularizer=l2(1e-4)))\n",
        "model.add(BatchNormalization())\n",
        "model.add(MaxPooling2D((2, 2)))\n",
        "model.add(Dropout(0.25))\n",
        "\n",
        "model.add(Conv2D(128, (1,1), kernel_regularizer=l2(1e-4)))\n",
        "model.add(GlobalMaxPooling2D())\n",
        "\n",
        "model.add(Dense(256, activation='relu', kernel_regularizer=l2(1e-4)))\n",
        "model.add(Dropout(0.5))\n",
        "model.add(Dense(2, activation='sigmoid', kernel_regularizer=l2(1e-4)))"
      ],
      "execution_count": 0,
      "outputs": []
    },
    {
      "metadata": {
        "colab_type": "code",
        "id": "QKpy_s8Z6HHZ",
        "colab": {}
      },
      "cell_type": "code",
      "source": [
        "model.compile(SGD(lr=0.01, momentum=0.0, decay=0.0, nesterov=False), \n",
        "              loss='binary_crossentropy', metrics=['accuracy'])"
      ],
      "execution_count": 0,
      "outputs": []
    },
    {
      "metadata": {
        "colab_type": "text",
        "id": "mnM7JFOGFt1B"
      },
      "cell_type": "markdown",
      "source": [
        "### Treino\n"
      ]
    },
    {
      "metadata": {
        "colab_type": "code",
        "id": "o_2GHpKZFt1O",
        "colab": {}
      },
      "cell_type": "code",
      "source": [
        "checkpointer = ModelCheckpoint(filepath='drive/My Drive/Resultado/Segmentado/weights_' + architecture + '.hdf5', verbose=1, save_best_only=True)"
      ],
      "execution_count": 0,
      "outputs": []
    },
    {
      "metadata": {
        "colab_type": "code",
        "id": "MLd0RlChFt1Y",
        "outputId": "e2e57a2a-d656-4fe2-f712-fc02d3983659",
        "colab": {
          "base_uri": "https://localhost:8080/",
          "height": 0
        }
      },
      "cell_type": "code",
      "source": [
        "training = model.fit_generator(train_batches, steps_per_epoch=stepsPerEpoche, \n",
        "                   validation_data=validation_batches, validation_steps=validationSteps,\n",
        "                   epochs=50, verbose=2, callbacks=[checkpointer])"
      ],
      "execution_count": 109,
      "outputs": [
        {
          "output_type": "stream",
          "text": [
            "Epoch 1/50\n",
            " - 5s - loss: 2.3927 - acc: 0.5656 - val_loss: 1.6947 - val_acc: 0.4688\n",
            "\n",
            "Epoch 00001: val_loss improved from inf to 1.69474, saving model to drive/My Drive/Resultado/Segmentado/weights_architecture_11.hdf5\n",
            "Epoch 2/50\n",
            " - 1s - loss: 2.9637 - acc: 0.5187 - val_loss: 0.6780 - val_acc: 0.7031\n",
            "\n",
            "Epoch 00002: val_loss improved from 1.69474 to 0.67801, saving model to drive/My Drive/Resultado/Segmentado/weights_architecture_11.hdf5\n",
            "Epoch 3/50\n",
            " - 0s - loss: 1.2093 - acc: 0.5774 - val_loss: 1.0170 - val_acc: 0.5547\n",
            "\n",
            "Epoch 00003: val_loss did not improve from 0.67801\n",
            "Epoch 4/50\n",
            " - 1s - loss: 0.8195 - acc: 0.6844 - val_loss: 0.7321 - val_acc: 0.6094\n",
            "\n",
            "Epoch 00004: val_loss did not improve from 0.67801\n",
            "Epoch 5/50\n",
            " - 1s - loss: 0.5510 - acc: 0.7875 - val_loss: 0.6335 - val_acc: 0.7812\n",
            "\n",
            "Epoch 00005: val_loss improved from 0.67801 to 0.63351, saving model to drive/My Drive/Resultado/Segmentado/weights_architecture_11.hdf5\n",
            "Epoch 6/50\n",
            " - 1s - loss: 0.5643 - acc: 0.8000 - val_loss: 0.3300 - val_acc: 0.8984\n",
            "\n",
            "Epoch 00006: val_loss improved from 0.63351 to 0.33003, saving model to drive/My Drive/Resultado/Segmentado/weights_architecture_11.hdf5\n",
            "Epoch 7/50\n",
            " - 1s - loss: 0.8553 - acc: 0.7031 - val_loss: 0.5596 - val_acc: 0.7812\n",
            "\n",
            "Epoch 00007: val_loss did not improve from 0.33003\n",
            "Epoch 8/50\n",
            " - 1s - loss: 0.3191 - acc: 0.8937 - val_loss: 0.7366 - val_acc: 0.8281\n",
            "\n",
            "Epoch 00008: val_loss did not improve from 0.33003\n",
            "Epoch 9/50\n",
            " - 1s - loss: 0.3804 - acc: 0.8844 - val_loss: 0.4495 - val_acc: 0.8438\n",
            "\n",
            "Epoch 00009: val_loss did not improve from 0.33003\n",
            "Epoch 10/50\n",
            " - 1s - loss: 0.2870 - acc: 0.9219 - val_loss: 0.7490 - val_acc: 0.8182\n",
            "\n",
            "Epoch 00010: val_loss did not improve from 0.33003\n",
            "Epoch 11/50\n",
            " - 1s - loss: 0.3576 - acc: 0.9188 - val_loss: 0.3784 - val_acc: 0.8906\n",
            "\n",
            "Epoch 00011: val_loss did not improve from 0.33003\n",
            "Epoch 12/50\n",
            " - 1s - loss: 0.3794 - acc: 0.8937 - val_loss: 0.4728 - val_acc: 0.8516\n",
            "\n",
            "Epoch 00012: val_loss did not improve from 0.33003\n",
            "Epoch 13/50\n",
            " - 1s - loss: 0.3248 - acc: 0.9188 - val_loss: 0.5355 - val_acc: 0.8125\n",
            "\n",
            "Epoch 00013: val_loss did not improve from 0.33003\n",
            "Epoch 14/50\n",
            " - 1s - loss: 0.3991 - acc: 0.8844 - val_loss: 0.3509 - val_acc: 0.8984\n",
            "\n",
            "Epoch 00014: val_loss did not improve from 0.33003\n",
            "Epoch 15/50\n",
            " - 1s - loss: 0.3269 - acc: 0.9062 - val_loss: 0.4144 - val_acc: 0.8984\n",
            "\n",
            "Epoch 00015: val_loss did not improve from 0.33003\n",
            "Epoch 16/50\n",
            " - 1s - loss: 0.3132 - acc: 0.9281 - val_loss: 0.4033 - val_acc: 0.9062\n",
            "\n",
            "Epoch 00016: val_loss did not improve from 0.33003\n",
            "Epoch 17/50\n",
            " - 1s - loss: 0.3101 - acc: 0.9406 - val_loss: 0.5633 - val_acc: 0.8438\n",
            "\n",
            "Epoch 00017: val_loss did not improve from 0.33003\n",
            "Epoch 18/50\n",
            " - 1s - loss: 0.3000 - acc: 0.9094 - val_loss: 0.6285 - val_acc: 0.8203\n",
            "\n",
            "Epoch 00018: val_loss did not improve from 0.33003\n",
            "Epoch 19/50\n",
            " - 1s - loss: 0.3295 - acc: 0.9062 - val_loss: 0.3311 - val_acc: 0.9062\n",
            "\n",
            "Epoch 00019: val_loss did not improve from 0.33003\n",
            "Epoch 20/50\n",
            " - 1s - loss: 0.3228 - acc: 0.9062 - val_loss: 0.1847 - val_acc: 0.9609\n",
            "\n",
            "Epoch 00020: val_loss improved from 0.33003 to 0.18473, saving model to drive/My Drive/Resultado/Segmentado/weights_architecture_11.hdf5\n",
            "Epoch 21/50\n",
            " - 1s - loss: 0.2747 - acc: 0.9313 - val_loss: 0.3708 - val_acc: 0.9219\n",
            "\n",
            "Epoch 00021: val_loss did not improve from 0.18473\n",
            "Epoch 22/50\n",
            " - 1s - loss: 0.3930 - acc: 0.9313 - val_loss: 0.4679 - val_acc: 0.8594\n",
            "\n",
            "Epoch 00022: val_loss did not improve from 0.18473\n",
            "Epoch 23/50\n",
            " - 1s - loss: 0.3069 - acc: 0.8937 - val_loss: 0.3857 - val_acc: 0.8672\n",
            "\n",
            "Epoch 00023: val_loss did not improve from 0.18473\n",
            "Epoch 24/50\n",
            " - 1s - loss: 0.2765 - acc: 0.9344 - val_loss: 0.4141 - val_acc: 0.9219\n",
            "\n",
            "Epoch 00024: val_loss did not improve from 0.18473\n",
            "Epoch 25/50\n",
            " - 1s - loss: 0.2540 - acc: 0.9281 - val_loss: 0.4629 - val_acc: 0.8750\n",
            "\n",
            "Epoch 00025: val_loss did not improve from 0.18473\n",
            "Epoch 26/50\n",
            " - 1s - loss: 0.2995 - acc: 0.9313 - val_loss: 0.3210 - val_acc: 0.9375\n",
            "\n",
            "Epoch 00026: val_loss did not improve from 0.18473\n",
            "Epoch 27/50\n",
            " - 1s - loss: 0.3569 - acc: 0.8656 - val_loss: 0.2372 - val_acc: 0.9545\n",
            "\n",
            "Epoch 00027: val_loss did not improve from 0.18473\n",
            "Epoch 28/50\n",
            " - 1s - loss: 0.3339 - acc: 0.9156 - val_loss: 0.3848 - val_acc: 0.8750\n",
            "\n",
            "Epoch 00028: val_loss did not improve from 0.18473\n",
            "Epoch 29/50\n",
            " - 1s - loss: 0.3451 - acc: 0.9032 - val_loss: 0.3859 - val_acc: 0.8672\n",
            "\n",
            "Epoch 00029: val_loss did not improve from 0.18473\n",
            "Epoch 30/50\n",
            " - 1s - loss: 0.3404 - acc: 0.9094 - val_loss: 0.2576 - val_acc: 0.9141\n",
            "\n",
            "Epoch 00030: val_loss did not improve from 0.18473\n",
            "Epoch 31/50\n",
            " - 1s - loss: 0.3524 - acc: 0.9000 - val_loss: 0.3621 - val_acc: 0.9141\n",
            "\n",
            "Epoch 00031: val_loss did not improve from 0.18473\n",
            "Epoch 32/50\n",
            " - 1s - loss: 0.3738 - acc: 0.8906 - val_loss: 0.3646 - val_acc: 0.9219\n",
            "\n",
            "Epoch 00032: val_loss did not improve from 0.18473\n",
            "Epoch 33/50\n",
            " - 1s - loss: 0.2246 - acc: 0.9625 - val_loss: 0.5161 - val_acc: 0.8359\n",
            "\n",
            "Epoch 00033: val_loss did not improve from 0.18473\n",
            "Epoch 34/50\n",
            " - 1s - loss: 0.2889 - acc: 0.9437 - val_loss: 0.3785 - val_acc: 0.8906\n",
            "\n",
            "Epoch 00034: val_loss did not improve from 0.18473\n",
            "Epoch 35/50\n",
            " - 1s - loss: 0.2977 - acc: 0.9188 - val_loss: 0.3632 - val_acc: 0.9062\n",
            "\n",
            "Epoch 00035: val_loss did not improve from 0.18473\n",
            "Epoch 36/50\n",
            " - 1s - loss: 0.3504 - acc: 0.8969 - val_loss: 0.4987 - val_acc: 0.8438\n",
            "\n",
            "Epoch 00036: val_loss did not improve from 0.18473\n",
            "Epoch 37/50\n",
            " - 1s - loss: 0.2756 - acc: 0.9375 - val_loss: 0.2988 - val_acc: 0.9375\n",
            "\n",
            "Epoch 00037: val_loss did not improve from 0.18473\n",
            "Epoch 38/50\n",
            " - 1s - loss: 0.3082 - acc: 0.9188 - val_loss: 0.2926 - val_acc: 0.9375\n",
            "\n",
            "Epoch 00038: val_loss did not improve from 0.18473\n",
            "Epoch 39/50\n",
            " - 1s - loss: 0.2957 - acc: 0.9344 - val_loss: 0.3991 - val_acc: 0.9062\n",
            "\n",
            "Epoch 00039: val_loss did not improve from 0.18473\n",
            "Epoch 40/50\n",
            " - 1s - loss: 0.2777 - acc: 0.9281 - val_loss: 0.3507 - val_acc: 0.9375\n",
            "\n",
            "Epoch 00040: val_loss did not improve from 0.18473\n",
            "Epoch 41/50\n",
            " - 1s - loss: 0.2666 - acc: 0.9281 - val_loss: 0.2147 - val_acc: 0.9609\n",
            "\n",
            "Epoch 00041: val_loss did not improve from 0.18473\n",
            "Epoch 42/50\n",
            " - 1s - loss: 0.1793 - acc: 0.9688 - val_loss: 0.2295 - val_acc: 0.9375\n",
            "\n",
            "Epoch 00042: val_loss did not improve from 0.18473\n",
            "Epoch 43/50\n",
            " - 1s - loss: 0.2942 - acc: 0.9156 - val_loss: 0.3268 - val_acc: 0.8828\n",
            "\n",
            "Epoch 00043: val_loss did not improve from 0.18473\n",
            "Epoch 44/50\n",
            " - 1s - loss: 0.2426 - acc: 0.9375 - val_loss: 0.4692 - val_acc: 0.9062\n",
            "\n",
            "Epoch 00044: val_loss did not improve from 0.18473\n",
            "Epoch 45/50\n",
            " - 1s - loss: 0.3044 - acc: 0.8969 - val_loss: 0.6317 - val_acc: 0.7727\n",
            "\n",
            "Epoch 00045: val_loss did not improve from 0.18473\n",
            "Epoch 46/50\n",
            " - 1s - loss: 0.1858 - acc: 0.9656 - val_loss: 0.6079 - val_acc: 0.8594\n",
            "\n",
            "Epoch 00046: val_loss did not improve from 0.18473\n",
            "Epoch 47/50\n",
            " - 1s - loss: 0.2184 - acc: 0.9344 - val_loss: 0.3571 - val_acc: 0.8906\n",
            "\n",
            "Epoch 00047: val_loss did not improve from 0.18473\n",
            "Epoch 48/50\n",
            " - 1s - loss: 0.3512 - acc: 0.9219 - val_loss: 0.6039 - val_acc: 0.8047\n",
            "\n",
            "Epoch 00048: val_loss did not improve from 0.18473\n",
            "Epoch 49/50\n",
            " - 1s - loss: 0.2346 - acc: 0.9562 - val_loss: 0.3931 - val_acc: 0.8984\n",
            "\n",
            "Epoch 00049: val_loss did not improve from 0.18473\n",
            "Epoch 50/50\n",
            " - 1s - loss: 0.2659 - acc: 0.9156 - val_loss: 0.4209 - val_acc: 0.8984\n",
            "\n",
            "Epoch 00050: val_loss did not improve from 0.18473\n"
          ],
          "name": "stdout"
        }
      ]
    },
    {
      "metadata": {
        "colab_type": "code",
        "id": "lA6cwhmYFt1h",
        "colab": {}
      },
      "cell_type": "code",
      "source": [
        "model.load_weights('drive/My Drive/Resultado/Segmentado/weights_' + architecture + '.hdf5')"
      ],
      "execution_count": 0,
      "outputs": []
    },
    {
      "metadata": {
        "colab_type": "code",
        "id": "kPplRfrIFt1m",
        "outputId": "652200a6-43fc-4d1f-f812-1c5848b0ea54",
        "colab": {
          "base_uri": "https://localhost:8080/",
          "height": 0
        }
      },
      "cell_type": "code",
      "source": [
        "# plotar loss e accuracy para os datasets 'train' e 'test'\n",
        "plt.style.use(\"ggplot\")\n",
        "plt.figure()\n",
        "plt.plot(training.history['acc'], label='Accuracy')\n",
        "plt.plot(training.history['loss'], label='Loss')\n",
        "plt.xlabel('Epochs')\n",
        "plt.ylabel('Accuracy')\n",
        "plt.title(\"Training Loss and Accuracy\")\n",
        "plt.ylabel(\"Loss/Accuracy\")\n",
        "plt.legend()\n",
        "plt.savefig('drive/My Drive/Resultado/Segmentado/' + architecture + '.png', bbox_inches='tight')"
      ],
      "execution_count": 111,
      "outputs": [
        {
          "output_type": "display_data",
          "data": {
            "image/png": "[encoded data removed]",
            "text/plain": [
              "<matplotlib.figure.Figure at 0x7fac5022cdd8>"
            ]
          },
          "metadata": {
            "tags": []
          }
        }
      ]
    },
    {
      "metadata": {
        "colab_type": "text",
        "id": "slwgit7bFt1t"
      },
      "cell_type": "markdown",
      "source": [
        "### Teste"
      ]
    },
    {
      "metadata": {
        "colab_type": "code",
        "id": "WFVIipDXFt1v",
        "outputId": "c79e128c-1d82-4011-d7a7-113fb3585366",
        "colab": {
          "base_uri": "https://localhost:8080/",
          "height": 54
        }
      },
      "cell_type": "code",
      "source": [
        "y_true, y_predict = ler_images_teste(architecture)"
      ],
      "execution_count": 112,
      "outputs": [
        {
          "output_type": "stream",
          "text": [
            "/usr/local/lib/python3.6/dist-packages/skimage/transform/_warps.py:84: UserWarning: The default mode, 'constant', will be changed to 'reflect' in skimage 0.15.\n",
            "  warn(\"The default mode, 'constant', will be changed to 'reflect' in \"\n"
          ],
          "name": "stderr"
        }
      ]
    },
    {
      "metadata": {
        "colab_type": "code",
        "id": "3T07io2oFt12",
        "outputId": "fe9554fd-5cf9-4217-9fca-e43b5e97ff4c",
        "colab": {
          "base_uri": "https://localhost:8080/",
          "height": 72
        }
      },
      "cell_type": "code",
      "source": [
        "results[architecture] = precision_score(y_true, y_predict, average='binary')\n",
        "print('Test Precision: {:.2f}%'\n",
        "      .format(100 * results[architecture]))"
      ],
      "execution_count": 113,
      "outputs": [
        {
          "output_type": "stream",
          "text": [
            "Test Precision: 0.00%\n"
          ],
          "name": "stdout"
        },
        {
          "output_type": "stream",
          "text": [
            "/usr/local/lib/python3.6/dist-packages/sklearn/metrics/classification.py:1143: UndefinedMetricWarning: Precision is ill-defined and being set to 0.0 due to no predicted samples.\n",
            "  'precision', 'predicted', average, warn_for)\n"
          ],
          "name": "stderr"
        }
      ]
    },
    {
      "metadata": {
        "id": "26BCkdp9MAna",
        "colab_type": "text"
      },
      "cell_type": "markdown",
      "source": [
        "## 12 tentativa Precision: 0.00%"
      ]
    },
    {
      "metadata": {
        "colab_type": "text",
        "id": "MLvKG40a84F9"
      },
      "cell_type": "markdown",
      "source": [
        "Modelo adaptado do **Lucas Albertins**\n",
        "\n",
        "*   Sem utilização das funções de regularização\n",
        "*   Função **SGD** para compilação\n",
        "*   Adicionado mais 2 camadas convolutivas"
      ]
    },
    {
      "metadata": {
        "colab_type": "code",
        "id": "-_TE6KwakRoT",
        "colab": {}
      },
      "cell_type": "code",
      "source": [
        "architecture = 'architecture_12'"
      ],
      "execution_count": 0,
      "outputs": []
    },
    {
      "metadata": {
        "id": "Re-dc0YXEr3p",
        "colab_type": "text"
      },
      "cell_type": "markdown",
      "source": [
        "### Modelo"
      ]
    },
    {
      "metadata": {
        "colab_type": "code",
        "id": "9LrDSy5AMFDO",
        "colab": {}
      },
      "cell_type": "code",
      "source": [
        "from keras.layers import Conv2D, MaxPooling2D, GlobalMaxPooling2D, BatchNormalization\n",
        "from keras.regularizers import l2\n",
        "\n",
        "model = Sequential()\n",
        "\n",
        "model.add(Conv2D(32, (3, 3), activation='relu',input_shape=(None, None, 3)))\n",
        "model.add(BatchNormalization())\n",
        "model.add(Conv2D(32, (3, 3), activation='relu'))\n",
        "model.add(BatchNormalization())\n",
        "model.add(MaxPooling2D((2, 2)))\n",
        "model.add(Dropout(0.25))\n",
        "\n",
        "model.add(Conv2D(64, (3, 3), activation='relu'))\n",
        "model.add(BatchNormalization())\n",
        "model.add(Conv2D(64, (3, 3), activation='relu'))\n",
        "model.add(BatchNormalization())\n",
        "model.add(MaxPooling2D((2, 2)))\n",
        "model.add(Dropout(0.25))\n",
        "\n",
        "model.add(Conv2D(96, (3, 3),activation='relu'))\n",
        "model.add(BatchNormalization())\n",
        "model.add(Conv2D(96, (3, 3),activation='relu'))\n",
        "model.add(BatchNormalization())\n",
        "model.add(MaxPooling2D((2, 2)))\n",
        "model.add(Dropout(0.25))\n",
        "\n",
        "model.add(Conv2D(128, (1,1)))\n",
        "model.add(GlobalMaxPooling2D())\n",
        "\n",
        "model.add(Dense(256, activation='relu'))\n",
        "model.add(Dropout(0.5))\n",
        "model.add(Dense(2, activation='sigmoid'))"
      ],
      "execution_count": 0,
      "outputs": []
    },
    {
      "metadata": {
        "colab_type": "code",
        "id": "EUZ-2eyUMSxQ",
        "colab": {}
      },
      "cell_type": "code",
      "source": [
        "model.compile(SGD(lr=0.01, momentum=0.0, decay=0.0, nesterov=False), \n",
        "              loss='binary_crossentropy', metrics=['accuracy'])"
      ],
      "execution_count": 0,
      "outputs": []
    },
    {
      "metadata": {
        "colab_type": "text",
        "id": "pNDlQBYdFu45"
      },
      "cell_type": "markdown",
      "source": [
        "### Treino\n"
      ]
    },
    {
      "metadata": {
        "colab_type": "code",
        "id": "TxUOYvuWFu5F",
        "colab": {}
      },
      "cell_type": "code",
      "source": [
        "checkpointer = ModelCheckpoint(filepath='drive/My Drive/Resultado/Segmentado/weights_' + architecture + '.hdf5', verbose=1, save_best_only=True)"
      ],
      "execution_count": 0,
      "outputs": []
    },
    {
      "metadata": {
        "colab_type": "code",
        "id": "RUa8IqkCFu5X",
        "outputId": "fdea8855-1358-4c9a-c471-6b82214a20cf",
        "colab": {
          "base_uri": "https://localhost:8080/",
          "height": 0
        }
      },
      "cell_type": "code",
      "source": [
        "training = model.fit_generator(train_batches, steps_per_epoch=stepsPerEpoche, \n",
        "                   validation_data=validation_batches, validation_steps=validationSteps,\n",
        "                   epochs=50, verbose=2, callbacks=[checkpointer])"
      ],
      "execution_count": 118,
      "outputs": [
        {
          "output_type": "stream",
          "text": [
            "Epoch 1/50\n",
            " - 5s - loss: 4.2034 - acc: 0.4625 - val_loss: 3.1069 - val_acc: 0.5312\n",
            "\n",
            "Epoch 00001: val_loss improved from inf to 3.10685, saving model to drive/My Drive/Resultado/Segmentado/weights_architecture_12.hdf5\n",
            "Epoch 2/50\n",
            " - 1s - loss: 2.5390 - acc: 0.5312 - val_loss: 0.6128 - val_acc: 0.7031\n",
            "\n",
            "Epoch 00002: val_loss improved from 3.10685 to 0.61277, saving model to drive/My Drive/Resultado/Segmentado/weights_architecture_12.hdf5\n",
            "Epoch 3/50\n",
            " - 1s - loss: 1.2193 - acc: 0.5687 - val_loss: 0.5663 - val_acc: 0.7266\n",
            "\n",
            "Epoch 00003: val_loss improved from 0.61277 to 0.56625, saving model to drive/My Drive/Resultado/Segmentado/weights_architecture_12.hdf5\n",
            "Epoch 4/50\n",
            " - 1s - loss: 0.6924 - acc: 0.7313 - val_loss: 0.3638 - val_acc: 0.8359\n",
            "\n",
            "Epoch 00004: val_loss improved from 0.56625 to 0.36382, saving model to drive/My Drive/Resultado/Segmentado/weights_architecture_12.hdf5\n",
            "Epoch 5/50\n",
            " - 1s - loss: 0.3919 - acc: 0.8531 - val_loss: 0.3342 - val_acc: 0.8594\n",
            "\n",
            "Epoch 00005: val_loss improved from 0.36382 to 0.33422, saving model to drive/My Drive/Resultado/Segmentado/weights_architecture_12.hdf5\n",
            "Epoch 6/50\n",
            " - 0s - loss: 0.3913 - acc: 0.8677 - val_loss: 0.5539 - val_acc: 0.8047\n",
            "\n",
            "Epoch 00006: val_loss did not improve from 0.33422\n",
            "Epoch 7/50\n",
            " - 1s - loss: 0.3345 - acc: 0.8563 - val_loss: 0.2529 - val_acc: 0.9091\n",
            "\n",
            "Epoch 00007: val_loss improved from 0.33422 to 0.25291, saving model to drive/My Drive/Resultado/Segmentado/weights_architecture_12.hdf5\n",
            "Epoch 8/50\n",
            " - 1s - loss: 0.3194 - acc: 0.9156 - val_loss: 0.1932 - val_acc: 0.9375\n",
            "\n",
            "Epoch 00008: val_loss improved from 0.25291 to 0.19323, saving model to drive/My Drive/Resultado/Segmentado/weights_architecture_12.hdf5\n",
            "Epoch 9/50\n",
            " - 1s - loss: 0.4051 - acc: 0.8594 - val_loss: 0.3008 - val_acc: 0.8984\n",
            "\n",
            "Epoch 00009: val_loss did not improve from 0.19323\n",
            "Epoch 10/50\n",
            " - 1s - loss: 0.4597 - acc: 0.8375 - val_loss: 0.5165 - val_acc: 0.8750\n",
            "\n",
            "Epoch 00010: val_loss did not improve from 0.19323\n",
            "Epoch 11/50\n",
            " - 1s - loss: 0.3131 - acc: 0.9031 - val_loss: 0.4518 - val_acc: 0.8672\n",
            "\n",
            "Epoch 00011: val_loss did not improve from 0.19323\n",
            "Epoch 12/50\n",
            " - 1s - loss: 0.2765 - acc: 0.9156 - val_loss: 0.1398 - val_acc: 0.9531\n",
            "\n",
            "Epoch 00012: val_loss improved from 0.19323 to 0.13982, saving model to drive/My Drive/Resultado/Segmentado/weights_architecture_12.hdf5\n",
            "Epoch 13/50\n",
            " - 1s - loss: 0.2844 - acc: 0.9125 - val_loss: 0.4014 - val_acc: 0.8828\n",
            "\n",
            "Epoch 00013: val_loss did not improve from 0.13982\n",
            "Epoch 14/50\n",
            " - 1s - loss: 0.2052 - acc: 0.9406 - val_loss: 0.2607 - val_acc: 0.8906\n",
            "\n",
            "Epoch 00014: val_loss did not improve from 0.13982\n",
            "Epoch 15/50\n",
            " - 1s - loss: 0.3267 - acc: 0.9062 - val_loss: 0.1630 - val_acc: 0.9531\n",
            "\n",
            "Epoch 00015: val_loss did not improve from 0.13982\n",
            "Epoch 16/50\n",
            " - 1s - loss: 0.2972 - acc: 0.8906 - val_loss: 0.4589 - val_acc: 0.8438\n",
            "\n",
            "Epoch 00016: val_loss did not improve from 0.13982\n",
            "Epoch 17/50\n",
            " - 1s - loss: 0.2075 - acc: 0.9250 - val_loss: 0.4955 - val_acc: 0.8594\n",
            "\n",
            "Epoch 00017: val_loss did not improve from 0.13982\n",
            "Epoch 18/50\n",
            " - 1s - loss: 0.2381 - acc: 0.9156 - val_loss: 0.2661 - val_acc: 0.9141\n",
            "\n",
            "Epoch 00018: val_loss did not improve from 0.13982\n",
            "Epoch 19/50\n",
            " - 1s - loss: 0.2143 - acc: 0.9313 - val_loss: 0.4344 - val_acc: 0.8750\n",
            "\n",
            "Epoch 00019: val_loss did not improve from 0.13982\n",
            "Epoch 20/50\n",
            " - 1s - loss: 0.3221 - acc: 0.9125 - val_loss: 0.3989 - val_acc: 0.8984\n",
            "\n",
            "Epoch 00020: val_loss did not improve from 0.13982\n",
            "Epoch 21/50\n",
            " - 1s - loss: 0.3277 - acc: 0.9031 - val_loss: 0.4036 - val_acc: 0.8594\n",
            "\n",
            "Epoch 00021: val_loss did not improve from 0.13982\n",
            "Epoch 22/50\n",
            " - 1s - loss: 0.1566 - acc: 0.9594 - val_loss: 0.4314 - val_acc: 0.8828\n",
            "\n",
            "Epoch 00022: val_loss did not improve from 0.13982\n",
            "Epoch 23/50\n",
            " - 1s - loss: 0.2762 - acc: 0.8875 - val_loss: 0.2629 - val_acc: 0.9141\n",
            "\n",
            "Epoch 00023: val_loss did not improve from 0.13982\n",
            "Epoch 24/50\n",
            " - 1s - loss: 0.2678 - acc: 0.9281 - val_loss: 0.1816 - val_acc: 0.9545\n",
            "\n",
            "Epoch 00024: val_loss did not improve from 0.13982\n",
            "Epoch 25/50\n",
            " - 1s - loss: 0.1699 - acc: 0.9344 - val_loss: 0.2372 - val_acc: 0.8984\n",
            "\n",
            "Epoch 00025: val_loss did not improve from 0.13982\n",
            "Epoch 26/50\n",
            " - 1s - loss: 0.3334 - acc: 0.8688 - val_loss: 0.3846 - val_acc: 0.8594\n",
            "\n",
            "Epoch 00026: val_loss did not improve from 0.13982\n",
            "Epoch 27/50\n",
            " - 1s - loss: 0.3161 - acc: 0.9188 - val_loss: 0.2707 - val_acc: 0.8672\n",
            "\n",
            "Epoch 00027: val_loss did not improve from 0.13982\n",
            "Epoch 28/50\n",
            " - 1s - loss: 0.2383 - acc: 0.9094 - val_loss: 0.2821 - val_acc: 0.9062\n",
            "\n",
            "Epoch 00028: val_loss did not improve from 0.13982\n",
            "Epoch 29/50\n",
            " - 1s - loss: 0.2233 - acc: 0.9344 - val_loss: 0.2247 - val_acc: 0.9297\n",
            "\n",
            "Epoch 00029: val_loss did not improve from 0.13982\n",
            "Epoch 30/50\n",
            " - 1s - loss: 0.1630 - acc: 0.9406 - val_loss: 0.3555 - val_acc: 0.9062\n",
            "\n",
            "Epoch 00030: val_loss did not improve from 0.13982\n",
            "Epoch 31/50\n",
            " - 1s - loss: 0.2445 - acc: 0.9094 - val_loss: 0.3078 - val_acc: 0.9062\n",
            "\n",
            "Epoch 00031: val_loss did not improve from 0.13982\n",
            "Epoch 32/50\n",
            " - 1s - loss: 0.1723 - acc: 0.9387 - val_loss: 0.2758 - val_acc: 0.8906\n",
            "\n",
            "Epoch 00032: val_loss did not improve from 0.13982\n",
            "Epoch 33/50\n",
            " - 1s - loss: 0.2758 - acc: 0.8781 - val_loss: 0.2145 - val_acc: 0.9375\n",
            "\n",
            "Epoch 00033: val_loss did not improve from 0.13982\n",
            "Epoch 34/50\n",
            " - 1s - loss: 0.2950 - acc: 0.9094 - val_loss: 0.2238 - val_acc: 0.9219\n",
            "\n",
            "Epoch 00034: val_loss did not improve from 0.13982\n",
            "Epoch 35/50\n",
            " - 1s - loss: 0.3248 - acc: 0.8844 - val_loss: 0.3715 - val_acc: 0.8750\n",
            "\n",
            "Epoch 00035: val_loss did not improve from 0.13982\n",
            "Epoch 36/50\n",
            " - 1s - loss: 0.1678 - acc: 0.9500 - val_loss: 0.1762 - val_acc: 0.9062\n",
            "\n",
            "Epoch 00036: val_loss did not improve from 0.13982\n",
            "Epoch 37/50\n",
            " - 1s - loss: 0.2004 - acc: 0.9344 - val_loss: 0.3308 - val_acc: 0.8906\n",
            "\n",
            "Epoch 00037: val_loss did not improve from 0.13982\n",
            "Epoch 38/50\n",
            " - 1s - loss: 0.2469 - acc: 0.9000 - val_loss: 0.4256 - val_acc: 0.8750\n",
            "\n",
            "Epoch 00038: val_loss did not improve from 0.13982\n",
            "Epoch 39/50\n",
            " - 1s - loss: 0.2341 - acc: 0.9406 - val_loss: 0.3676 - val_acc: 0.8906\n",
            "\n",
            "Epoch 00039: val_loss did not improve from 0.13982\n",
            "Epoch 40/50\n",
            " - 1s - loss: 0.1960 - acc: 0.9344 - val_loss: 0.3773 - val_acc: 0.8984\n",
            "\n",
            "Epoch 00040: val_loss did not improve from 0.13982\n",
            "Epoch 41/50\n",
            " - 1s - loss: 0.1817 - acc: 0.9250 - val_loss: 0.1902 - val_acc: 0.9453\n",
            "\n",
            "Epoch 00041: val_loss did not improve from 0.13982\n",
            "Epoch 42/50\n",
            " - 1s - loss: 0.2558 - acc: 0.8969 - val_loss: 0.2765 - val_acc: 0.9318\n",
            "\n",
            "Epoch 00042: val_loss did not improve from 0.13982\n",
            "Epoch 43/50\n",
            " - 1s - loss: 0.1628 - acc: 0.9375 - val_loss: 0.1370 - val_acc: 0.9453\n",
            "\n",
            "Epoch 00043: val_loss improved from 0.13982 to 0.13696, saving model to drive/My Drive/Resultado/Segmentado/weights_architecture_12.hdf5\n",
            "Epoch 44/50\n",
            " - 1s - loss: 0.1889 - acc: 0.9437 - val_loss: 0.1660 - val_acc: 0.9375\n",
            "\n",
            "Epoch 00044: val_loss did not improve from 0.13696\n",
            "Epoch 45/50\n",
            " - 1s - loss: 0.2289 - acc: 0.9406 - val_loss: 0.4030 - val_acc: 0.8906\n",
            "\n",
            "Epoch 00045: val_loss did not improve from 0.13696\n",
            "Epoch 46/50\n",
            " - 1s - loss: 0.1391 - acc: 0.9656 - val_loss: 0.2717 - val_acc: 0.9219\n",
            "\n",
            "Epoch 00046: val_loss did not improve from 0.13696\n",
            "Epoch 47/50\n",
            " - 1s - loss: 0.2174 - acc: 0.9406 - val_loss: 0.1906 - val_acc: 0.9375\n",
            "\n",
            "Epoch 00047: val_loss did not improve from 0.13696\n",
            "Epoch 48/50\n",
            " - 1s - loss: 0.2146 - acc: 0.9344 - val_loss: 0.4124 - val_acc: 0.8750\n",
            "\n",
            "Epoch 00048: val_loss did not improve from 0.13696\n",
            "Epoch 49/50\n",
            " - 1s - loss: 0.2127 - acc: 0.9375 - val_loss: 0.2701 - val_acc: 0.9219\n",
            "\n",
            "Epoch 00049: val_loss did not improve from 0.13696\n",
            "Epoch 50/50\n",
            " - 1s - loss: 0.1927 - acc: 0.9469 - val_loss: 0.2141 - val_acc: 0.9219\n",
            "\n",
            "Epoch 00050: val_loss did not improve from 0.13696\n"
          ],
          "name": "stdout"
        }
      ]
    },
    {
      "metadata": {
        "colab_type": "code",
        "id": "QhygibHlFu5l",
        "colab": {}
      },
      "cell_type": "code",
      "source": [
        "model.load_weights('drive/My Drive/Resultado/Segmentado/weights_' + architecture + '.hdf5')"
      ],
      "execution_count": 0,
      "outputs": []
    },
    {
      "metadata": {
        "colab_type": "code",
        "id": "F2shlKGTFu5s",
        "outputId": "02093819-6493-4268-aa1f-b7f2568ae0c7",
        "colab": {
          "base_uri": "https://localhost:8080/",
          "height": 0
        }
      },
      "cell_type": "code",
      "source": [
        "# plotar loss e accuracy para os datasets 'train' e 'test'\n",
        "plt.style.use(\"ggplot\")\n",
        "plt.figure()\n",
        "plt.plot(training.history['acc'], label='Accuracy')\n",
        "plt.plot(training.history['loss'], label='Loss')\n",
        "plt.xlabel('Epochs')\n",
        "plt.ylabel('Accuracy')\n",
        "plt.title(\"Training Loss and Accuracy\")\n",
        "plt.ylabel(\"Loss/Accuracy\")\n",
        "plt.legend()\n",
        "plt.savefig('drive/My Drive/Resultado/Segmentado/' + architecture + '.png', bbox_inches='tight')"
      ],
      "execution_count": 120,
      "outputs": [
        {
          "output_type": "display_data",
          "data": {
            "image/png": "[encoded data removed]",
            "text/plain": [
              "<matplotlib.figure.Figure at 0x7fac50de75c0>"
            ]
          },
          "metadata": {
            "tags": []
          }
        }
      ]
    },
    {
      "metadata": {
        "colab_type": "text",
        "id": "hZ1w_EwwFu50"
      },
      "cell_type": "markdown",
      "source": [
        "### Teste"
      ]
    },
    {
      "metadata": {
        "colab_type": "code",
        "id": "OzBcgvjFFu51",
        "outputId": "f505f650-cd8d-4e1e-c7c4-e957574aa5df",
        "colab": {
          "base_uri": "https://localhost:8080/",
          "height": 54
        }
      },
      "cell_type": "code",
      "source": [
        "y_true, y_predict = ler_images_teste(architecture)"
      ],
      "execution_count": 121,
      "outputs": [
        {
          "output_type": "stream",
          "text": [
            "/usr/local/lib/python3.6/dist-packages/skimage/transform/_warps.py:84: UserWarning: The default mode, 'constant', will be changed to 'reflect' in skimage 0.15.\n",
            "  warn(\"The default mode, 'constant', will be changed to 'reflect' in \"\n"
          ],
          "name": "stderr"
        }
      ]
    },
    {
      "metadata": {
        "colab_type": "code",
        "id": "ngYLIAbLFu57",
        "outputId": "f3af8891-ef64-43dd-b8a4-57130c4e95e4",
        "colab": {
          "base_uri": "https://localhost:8080/",
          "height": 72
        }
      },
      "cell_type": "code",
      "source": [
        "results[architecture] = precision_score(y_true, y_predict, average='binary')\n",
        "print('Test Precision: {:.2f}%'\n",
        "      .format(100 * results[architecture]))"
      ],
      "execution_count": 122,
      "outputs": [
        {
          "output_type": "stream",
          "text": [
            "Test Precision: 0.00%\n"
          ],
          "name": "stdout"
        },
        {
          "output_type": "stream",
          "text": [
            "/usr/local/lib/python3.6/dist-packages/sklearn/metrics/classification.py:1143: UndefinedMetricWarning: Precision is ill-defined and being set to 0.0 due to no predicted samples.\n",
            "  'precision', 'predicted', average, warn_for)\n"
          ],
          "name": "stderr"
        }
      ]
    },
    {
      "metadata": {
        "colab_type": "text",
        "id": "Un9HtbTIqkXS"
      },
      "cell_type": "markdown",
      "source": [
        "## 13 tentativa Precision: 0.00%"
      ]
    },
    {
      "metadata": {
        "colab_type": "text",
        "id": "HNDvvOwsqkXW"
      },
      "cell_type": "markdown",
      "source": [
        "Modelo adaptado do **Lucas Albertins**\n",
        "\n",
        "*   Utilizado outra função de normalização, diferente da utilizada por ele."
      ]
    },
    {
      "metadata": {
        "colab_type": "code",
        "id": "_lp8G0SCqkXt",
        "colab": {}
      },
      "cell_type": "code",
      "source": [
        "architecture = 'architecture_13'"
      ],
      "execution_count": 0,
      "outputs": []
    },
    {
      "metadata": {
        "id": "5PdHZAGMEybs",
        "colab_type": "text"
      },
      "cell_type": "markdown",
      "source": [
        "### Modelo"
      ]
    },
    {
      "metadata": {
        "colab_type": "code",
        "id": "iTG2TFqBqkXa",
        "colab": {}
      },
      "cell_type": "code",
      "source": [
        "from keras.layers import Conv2D, MaxPooling2D, GlobalMaxPooling2D, BatchNormalization\n",
        "from keras.regularizers import l2\n",
        "\n",
        "model = Sequential()\n",
        "\n",
        "model.add(Conv2D(32, (3, 3), activation='relu',input_shape=(None, None, 3)))\n",
        "model.add(MaxPooling2D((2, 2)))\n",
        "model.add(BatchNormalization())\n",
        "model.add(Dropout(0.25))\n",
        "\n",
        "model.add(Conv2D(64, (5, 5), activation='relu'))\n",
        "model.add(MaxPooling2D((2, 2)))\n",
        "model.add(BatchNormalization())\n",
        "model.add(Dropout(0.25))\n",
        "\n",
        "model.add(Conv2D(128, (7, 7),activation='relu'))\n",
        "model.add(MaxPooling2D((2, 2)))\n",
        "model.add(BatchNormalization())\n",
        "model.add(Dropout(0.25))\n",
        "\n",
        "model.add(Conv2D(128, (1,1)))\n",
        "model.add(GlobalMaxPooling2D())\n",
        "\n",
        "model.add(Dense(256, activation='relu'))\n",
        "model.add(Dropout(0.5))\n",
        "model.add(Dense(2, activation='sigmoid'))"
      ],
      "execution_count": 0,
      "outputs": []
    },
    {
      "metadata": {
        "colab_type": "code",
        "id": "xbd43caBqkXj",
        "colab": {}
      },
      "cell_type": "code",
      "source": [
        "model.compile(optimizer='adam', loss='binary_crossentropy', metrics=['accuracy'])"
      ],
      "execution_count": 0,
      "outputs": []
    },
    {
      "metadata": {
        "colab_type": "text",
        "id": "gv0ARJgIFvx4"
      },
      "cell_type": "markdown",
      "source": [
        "### Treino\n"
      ]
    },
    {
      "metadata": {
        "colab_type": "code",
        "id": "uUGas3ZsFvx7",
        "colab": {}
      },
      "cell_type": "code",
      "source": [
        "checkpointer = ModelCheckpoint(filepath='drive/My Drive/Resultado/Segmentado/weights_' + architecture + '.hdf5', verbose=1, save_best_only=True)"
      ],
      "execution_count": 0,
      "outputs": []
    },
    {
      "metadata": {
        "colab_type": "code",
        "id": "0EA4oJFcFvyD",
        "outputId": "b2b96dc6-12bd-4717-e9eb-ff9e43066626",
        "colab": {
          "base_uri": "https://localhost:8080/",
          "height": 0
        }
      },
      "cell_type": "code",
      "source": [
        "training = model.fit_generator(train_batches, steps_per_epoch=stepsPerEpoche, \n",
        "                   validation_data=validation_batches, validation_steps=validationSteps,\n",
        "                   epochs=50, verbose=2, callbacks=[checkpointer])"
      ],
      "execution_count": 127,
      "outputs": [
        {
          "output_type": "stream",
          "text": [
            "Epoch 1/50\n",
            " - 5s - loss: 1.1174 - acc: 0.5969 - val_loss: 0.4837 - val_acc: 0.8438\n",
            "\n",
            "Epoch 00001: val_loss improved from inf to 0.48366, saving model to drive/My Drive/Resultado/Segmentado/weights_architecture_13.hdf5\n",
            "Epoch 2/50\n",
            " - 0s - loss: 0.5510 - acc: 0.7938 - val_loss: 0.5045 - val_acc: 0.8516\n",
            "\n",
            "Epoch 00002: val_loss did not improve from 0.48366\n",
            "Epoch 3/50\n",
            " - 0s - loss: 0.3929 - acc: 0.8219 - val_loss: 0.2261 - val_acc: 0.9219\n",
            "\n",
            "Epoch 00003: val_loss improved from 0.48366 to 0.22607, saving model to drive/My Drive/Resultado/Segmentado/weights_architecture_13.hdf5\n",
            "Epoch 4/50\n",
            " - 0s - loss: 0.3276 - acc: 0.9031 - val_loss: 0.4414 - val_acc: 0.8182\n",
            "\n",
            "Epoch 00004: val_loss did not improve from 0.22607\n",
            "Epoch 5/50\n",
            " - 1s - loss: 0.3080 - acc: 0.9219 - val_loss: 0.1353 - val_acc: 0.9531\n",
            "\n",
            "Epoch 00005: val_loss improved from 0.22607 to 0.13527, saving model to drive/My Drive/Resultado/Segmentado/weights_architecture_13.hdf5\n",
            "Epoch 6/50\n",
            " - 1s - loss: 0.2968 - acc: 0.9062 - val_loss: 0.4744 - val_acc: 0.9062\n",
            "\n",
            "Epoch 00006: val_loss did not improve from 0.13527\n",
            "Epoch 7/50\n",
            " - 1s - loss: 0.3138 - acc: 0.9031 - val_loss: 0.7947 - val_acc: 0.8281\n",
            "\n",
            "Epoch 00007: val_loss did not improve from 0.13527\n",
            "Epoch 8/50\n",
            " - 1s - loss: 0.5722 - acc: 0.8387 - val_loss: 0.3939 - val_acc: 0.9062\n",
            "\n",
            "Epoch 00008: val_loss did not improve from 0.13527\n",
            "Epoch 9/50\n",
            " - 1s - loss: 0.3369 - acc: 0.8563 - val_loss: 0.3128 - val_acc: 0.9297\n",
            "\n",
            "Epoch 00009: val_loss did not improve from 0.13527\n",
            "Epoch 10/50\n",
            " - 1s - loss: 0.3010 - acc: 0.9188 - val_loss: 0.4869 - val_acc: 0.8438\n",
            "\n",
            "Epoch 00010: val_loss did not improve from 0.13527\n",
            "Epoch 11/50\n",
            " - 1s - loss: 0.2333 - acc: 0.9156 - val_loss: 0.4620 - val_acc: 0.8594\n",
            "\n",
            "Epoch 00011: val_loss did not improve from 0.13527\n",
            "Epoch 12/50\n",
            " - 1s - loss: 0.1475 - acc: 0.9594 - val_loss: 0.2680 - val_acc: 0.9297\n",
            "\n",
            "Epoch 00012: val_loss did not improve from 0.13527\n",
            "Epoch 13/50\n",
            " - 1s - loss: 0.2080 - acc: 0.9094 - val_loss: 0.3546 - val_acc: 0.8906\n",
            "\n",
            "Epoch 00013: val_loss did not improve from 0.13527\n",
            "Epoch 14/50\n",
            " - 1s - loss: 0.2742 - acc: 0.9188 - val_loss: 0.2115 - val_acc: 0.9375\n",
            "\n",
            "Epoch 00014: val_loss did not improve from 0.13527\n",
            "Epoch 15/50\n",
            " - 1s - loss: 0.1860 - acc: 0.9500 - val_loss: 0.3112 - val_acc: 0.9375\n",
            "\n",
            "Epoch 00015: val_loss did not improve from 0.13527\n",
            "Epoch 16/50\n",
            " - 1s - loss: 0.2124 - acc: 0.9156 - val_loss: 0.2482 - val_acc: 0.8984\n",
            "\n",
            "Epoch 00016: val_loss did not improve from 0.13527\n",
            "Epoch 17/50\n",
            " - 1s - loss: 0.2364 - acc: 0.9156 - val_loss: 0.2488 - val_acc: 0.9375\n",
            "\n",
            "Epoch 00017: val_loss did not improve from 0.13527\n",
            "Epoch 18/50\n",
            " - 1s - loss: 0.1390 - acc: 0.9594 - val_loss: 0.3401 - val_acc: 0.8750\n",
            "\n",
            "Epoch 00018: val_loss did not improve from 0.13527\n",
            "Epoch 19/50\n",
            " - 1s - loss: 0.2897 - acc: 0.9156 - val_loss: 0.3827 - val_acc: 0.8828\n",
            "\n",
            "Epoch 00019: val_loss did not improve from 0.13527\n",
            "Epoch 20/50\n",
            " - 1s - loss: 0.2883 - acc: 0.8969 - val_loss: 0.4900 - val_acc: 0.8359\n",
            "\n",
            "Epoch 00020: val_loss did not improve from 0.13527\n",
            "Epoch 21/50\n",
            " - 1s - loss: 0.2666 - acc: 0.9156 - val_loss: 0.2825 - val_acc: 0.9297\n",
            "\n",
            "Epoch 00021: val_loss did not improve from 0.13527\n",
            "Epoch 22/50\n",
            " - 1s - loss: 0.2252 - acc: 0.9250 - val_loss: 0.5016 - val_acc: 0.8182\n",
            "\n",
            "Epoch 00022: val_loss did not improve from 0.13527\n",
            "Epoch 23/50\n",
            " - 1s - loss: 0.2148 - acc: 0.9469 - val_loss: 0.2971 - val_acc: 0.8906\n",
            "\n",
            "Epoch 00023: val_loss did not improve from 0.13527\n",
            "Epoch 24/50\n",
            " - 1s - loss: 0.1719 - acc: 0.9281 - val_loss: 0.6238 - val_acc: 0.7500\n",
            "\n",
            "Epoch 00024: val_loss did not improve from 0.13527\n",
            "Epoch 25/50\n",
            " - 1s - loss: 0.2040 - acc: 0.9250 - val_loss: 0.1869 - val_acc: 0.9688\n",
            "\n",
            "Epoch 00025: val_loss did not improve from 0.13527\n",
            "Epoch 26/50\n",
            " - 1s - loss: 0.1320 - acc: 0.9625 - val_loss: 0.3511 - val_acc: 0.8906\n",
            "\n",
            "Epoch 00026: val_loss did not improve from 0.13527\n",
            "Epoch 27/50\n",
            " - 1s - loss: 0.1830 - acc: 0.9156 - val_loss: 0.2119 - val_acc: 0.9297\n",
            "\n",
            "Epoch 00027: val_loss did not improve from 0.13527\n",
            "Epoch 28/50\n",
            " - 1s - loss: 0.2328 - acc: 0.9188 - val_loss: 0.1574 - val_acc: 0.9219\n",
            "\n",
            "Epoch 00028: val_loss did not improve from 0.13527\n",
            "Epoch 29/50\n",
            " - 1s - loss: 0.2441 - acc: 0.9156 - val_loss: 0.1736 - val_acc: 0.9453\n",
            "\n",
            "Epoch 00029: val_loss did not improve from 0.13527\n",
            "Epoch 30/50\n",
            " - 1s - loss: 0.1766 - acc: 0.9594 - val_loss: 0.4403 - val_acc: 0.8438\n",
            "\n",
            "Epoch 00030: val_loss did not improve from 0.13527\n",
            "Epoch 31/50\n",
            " - 1s - loss: 0.3226 - acc: 0.8812 - val_loss: 0.6529 - val_acc: 0.7656\n",
            "\n",
            "Epoch 00031: val_loss did not improve from 0.13527\n",
            "Epoch 32/50\n",
            " - 1s - loss: 0.2119 - acc: 0.9250 - val_loss: 0.3558 - val_acc: 0.8906\n",
            "\n",
            "Epoch 00032: val_loss did not improve from 0.13527\n",
            "Epoch 33/50\n",
            " - 1s - loss: 0.1772 - acc: 0.9500 - val_loss: 0.2823 - val_acc: 0.8906\n",
            "\n",
            "Epoch 00033: val_loss did not improve from 0.13527\n",
            "Epoch 34/50\n",
            " - 1s - loss: 0.0998 - acc: 0.9750 - val_loss: 0.4291 - val_acc: 0.9062\n",
            "\n",
            "Epoch 00034: val_loss did not improve from 0.13527\n",
            "Epoch 35/50\n",
            " - 1s - loss: 0.2021 - acc: 0.9290 - val_loss: 0.2141 - val_acc: 0.9375\n",
            "\n",
            "Epoch 00035: val_loss did not improve from 0.13527\n",
            "Epoch 36/50\n",
            " - 1s - loss: 0.2259 - acc: 0.9375 - val_loss: 0.4906 - val_acc: 0.8906\n",
            "\n",
            "Epoch 00036: val_loss did not improve from 0.13527\n",
            "Epoch 37/50\n",
            " - 1s - loss: 0.1956 - acc: 0.9188 - val_loss: 0.4153 - val_acc: 0.8906\n",
            "\n",
            "Epoch 00037: val_loss did not improve from 0.13527\n",
            "Epoch 38/50\n",
            " - 1s - loss: 0.1899 - acc: 0.9406 - val_loss: 0.2923 - val_acc: 0.9062\n",
            "\n",
            "Epoch 00038: val_loss did not improve from 0.13527\n",
            "Epoch 39/50\n",
            " - 1s - loss: 0.1788 - acc: 0.9313 - val_loss: 0.1834 - val_acc: 0.8864\n",
            "\n",
            "Epoch 00039: val_loss did not improve from 0.13527\n",
            "Epoch 40/50\n",
            " - 1s - loss: 0.2153 - acc: 0.9406 - val_loss: 0.2134 - val_acc: 0.9062\n",
            "\n",
            "Epoch 00040: val_loss did not improve from 0.13527\n",
            "Epoch 41/50\n",
            " - 1s - loss: 0.1314 - acc: 0.9500 - val_loss: 0.3262 - val_acc: 0.8828\n",
            "\n",
            "Epoch 00041: val_loss did not improve from 0.13527\n",
            "Epoch 42/50\n",
            " - 1s - loss: 0.1715 - acc: 0.9531 - val_loss: 0.1884 - val_acc: 0.8906\n",
            "\n",
            "Epoch 00042: val_loss did not improve from 0.13527\n",
            "Epoch 43/50\n",
            " - 1s - loss: 0.1697 - acc: 0.9406 - val_loss: 0.7298 - val_acc: 0.8047\n",
            "\n",
            "Epoch 00043: val_loss did not improve from 0.13527\n",
            "Epoch 44/50\n",
            " - 1s - loss: 0.1368 - acc: 0.9625 - val_loss: 0.5593 - val_acc: 0.7109\n",
            "\n",
            "Epoch 00044: val_loss did not improve from 0.13527\n",
            "Epoch 45/50\n",
            " - 1s - loss: 0.2145 - acc: 0.9281 - val_loss: 0.9103 - val_acc: 0.6641\n",
            "\n",
            "Epoch 00045: val_loss did not improve from 0.13527\n",
            "Epoch 46/50\n",
            " - 1s - loss: 0.2348 - acc: 0.9000 - val_loss: 1.2046 - val_acc: 0.5625\n",
            "\n",
            "Epoch 00046: val_loss did not improve from 0.13527\n",
            "Epoch 47/50\n",
            " - 1s - loss: 0.1576 - acc: 0.9562 - val_loss: 0.3029 - val_acc: 0.8906\n",
            "\n",
            "Epoch 00047: val_loss did not improve from 0.13527\n",
            "Epoch 48/50\n",
            " - 1s - loss: 0.2589 - acc: 0.9000 - val_loss: 0.4076 - val_acc: 0.8828\n",
            "\n",
            "Epoch 00048: val_loss did not improve from 0.13527\n",
            "Epoch 49/50\n",
            " - 1s - loss: 0.1390 - acc: 0.9625 - val_loss: 0.2490 - val_acc: 0.9062\n",
            "\n",
            "Epoch 00049: val_loss did not improve from 0.13527\n",
            "Epoch 50/50\n",
            " - 1s - loss: 0.2362 - acc: 0.9281 - val_loss: 0.1782 - val_acc: 0.9375\n",
            "\n",
            "Epoch 00050: val_loss did not improve from 0.13527\n"
          ],
          "name": "stdout"
        }
      ]
    },
    {
      "metadata": {
        "colab_type": "code",
        "id": "TvM1WKi8FvyL",
        "colab": {}
      },
      "cell_type": "code",
      "source": [
        "model.load_weights('drive/My Drive/Resultado/Segmentado/weights_' + architecture + '.hdf5')"
      ],
      "execution_count": 0,
      "outputs": []
    },
    {
      "metadata": {
        "colab_type": "code",
        "id": "Irgg00QxFvyZ",
        "outputId": "b13d7341-27cb-472f-8d59-1de6eba95d57",
        "colab": {
          "base_uri": "https://localhost:8080/",
          "height": 0
        }
      },
      "cell_type": "code",
      "source": [
        "# plotar loss e accuracy para os datasets 'train' e 'test'\n",
        "plt.style.use(\"ggplot\")\n",
        "plt.figure()\n",
        "plt.plot(training.history['acc'], label='Accuracy')\n",
        "plt.plot(training.history['loss'], label='Loss')\n",
        "plt.xlabel('Epochs')\n",
        "plt.ylabel('Accuracy')\n",
        "plt.title(\"Training Loss and Accuracy\")\n",
        "plt.ylabel(\"Loss/Accuracy\")\n",
        "plt.legend()\n",
        "plt.savefig('drive/My Drive/Resultado/Segmentado/' + architecture + '.png', bbox_inches='tight')"
      ],
      "execution_count": 129,
      "outputs": [
        {
          "output_type": "display_data",
          "data": {
            "image/png": "[encoded data removed]",
            "text/plain": [
              "<matplotlib.figure.Figure at 0x7fac50baf9b0>"
            ]
          },
          "metadata": {
            "tags": []
          }
        }
      ]
    },
    {
      "metadata": {
        "colab_type": "text",
        "id": "UR_S-EfFFvyd"
      },
      "cell_type": "markdown",
      "source": [
        "### Teste"
      ]
    },
    {
      "metadata": {
        "colab_type": "code",
        "id": "LyYK2QuwFvye",
        "outputId": "2d190a71-a1c2-47d3-c213-a2ad25400694",
        "colab": {
          "base_uri": "https://localhost:8080/",
          "height": 54
        }
      },
      "cell_type": "code",
      "source": [
        "y_true, y_predict = ler_images_teste(architecture)"
      ],
      "execution_count": 130,
      "outputs": [
        {
          "output_type": "stream",
          "text": [
            "/usr/local/lib/python3.6/dist-packages/skimage/transform/_warps.py:84: UserWarning: The default mode, 'constant', will be changed to 'reflect' in skimage 0.15.\n",
            "  warn(\"The default mode, 'constant', will be changed to 'reflect' in \"\n"
          ],
          "name": "stderr"
        }
      ]
    },
    {
      "metadata": {
        "colab_type": "code",
        "id": "iWvwoq2KFvyk",
        "outputId": "26c5e2a5-cbd1-43b9-c66c-f0e404384e65",
        "colab": {
          "base_uri": "https://localhost:8080/",
          "height": 72
        }
      },
      "cell_type": "code",
      "source": [
        "results[architecture] = precision_score(y_true, y_predict, average='binary')\n",
        "print('Test Precision: {:.2f}%'\n",
        "      .format(100 * results[architecture]))"
      ],
      "execution_count": 131,
      "outputs": [
        {
          "output_type": "stream",
          "text": [
            "Test Precision: 0.00%\n"
          ],
          "name": "stdout"
        },
        {
          "output_type": "stream",
          "text": [
            "/usr/local/lib/python3.6/dist-packages/sklearn/metrics/classification.py:1143: UndefinedMetricWarning: Precision is ill-defined and being set to 0.0 due to no predicted samples.\n",
            "  'precision', 'predicted', average, warn_for)\n"
          ],
          "name": "stderr"
        }
      ]
    }
  ]
}