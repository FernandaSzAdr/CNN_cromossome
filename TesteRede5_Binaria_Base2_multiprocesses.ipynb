{
  "nbformat": 4,
  "nbformat_minor": 0,
  "metadata": {
    "colab": {
      "name": "TesteRede5_Binaria_Base2_multiprocesses.ipynb",
      "version": "0.3.2",
      "provenance": [],
      "collapsed_sections": [
        "ya3jKykqbWys"
      ],
      "include_colab_link": true
    },
    "kernelspec": {
      "display_name": "Python 3",
      "language": "python",
      "name": "python3"
    },
    "accelerator": "GPU"
  },
  "cells": [
    {
      "cell_type": "markdown",
      "metadata": {
        "id": "view-in-github",
        "colab_type": "text"
      },
      "source": [
        "<a href=\"https://colab.research.google.com/github/FernandaSzAdr/CNN_cromossome/blob/master/TesteRede5_Binaria_Base2_multiprocesses.ipynb\" target=\"_parent\"><img src=\"https://colab.research.google.com/assets/colab-badge.svg\" alt=\"Open In Colab\"/></a>"
      ]
    },
    {
      "metadata": {
        "colab_type": "code",
        "id": "xN-oUTtcif3Q",
        "outputId": "425f224f-2d59-471c-8125-b273e56a12d7",
        "colab": {
          "base_uri": "https://localhost:8080/",
          "height": 55
        }
      },
      "cell_type": "code",
      "source": [
        "# Load the Drive helper and mount\n",
        "from google.colab import drive\n",
        "\n",
        "# This will prompt for authorization.\n",
        "drive.mount('/content/drive/')"
      ],
      "execution_count": 1,
      "outputs": [
        {
          "output_type": "stream",
          "text": [
            "Drive already mounted at /content/drive/; to attempt to forcibly remount, call drive.mount(\"/content/drive/\", force_remount=True).\n"
          ],
          "name": "stdout"
        }
      ]
    },
    {
      "metadata": {
        "colab_type": "code",
        "id": "gzcuEGSklnwS",
        "outputId": "53eb95cf-16fe-4256-a12a-85dceef338b3",
        "colab": {
          "base_uri": "https://localhost:8080/",
          "height": 72
        }
      },
      "cell_type": "code",
      "source": [
        "!pip install imutils\n",
        "!pip install pypeln\n",
        "\n",
        "import keras\n",
        "from keras import backend as K\n",
        "from keras.models import Sequential\n",
        "from keras.layers import Activation\n",
        "from keras.optimizers import SGD\n",
        "from keras.layers.core import Dense, Flatten, Dropout\n",
        "from keras.preprocessing.image import ImageDataGenerator\n",
        "from keras.layers.normalization import BatchNormalization\n",
        "from keras.layers.convolutional import *\n",
        "from keras.callbacks import ModelCheckpoint\n",
        "\n",
        "from sklearn.metrics import confusion_matrix\n",
        "from sklearn.metrics import precision_score\n",
        "from sklearn.metrics import roc_curve\n",
        "from sklearn.metrics import roc_auc_score\n",
        "from sklearn.metrics import accuracy_score\n",
        "from sklearn.metrics import precision_recall_curve\n",
        "from sklearn.metrics import auc\n",
        "from sklearn.metrics import average_precision_score\n",
        "\n",
        "from skimage import transform\n",
        "\n",
        "import cv2\n",
        "import csv\n",
        "import imutils\n",
        "import itertools\n",
        "import matplotlib.pyplot as plt\n",
        "import numpy as np\n",
        "import os"
      ],
      "execution_count": 175,
      "outputs": [
        {
          "output_type": "stream",
          "text": [
            "Requirement already satisfied: imutils in /usr/local/lib/python3.6/dist-packages (0.5.2)\n",
            "Requirement already satisfied: pypeln in /usr/local/lib/python3.6/dist-packages (0.1.8)\n",
            "Requirement already satisfied: six in /usr/local/lib/python3.6/dist-packages (from pypeln) (1.11.0)\n"
          ],
          "name": "stdout"
        }
      ]
    },
    {
      "metadata": {
        "colab_type": "text",
        "id": "1o2obGj_F7TE"
      },
      "cell_type": "markdown",
      "source": [
        "## Funções"
      ]
    },
    {
      "metadata": {
        "colab_type": "code",
        "id": "e835RSQgEgA6",
        "colab": {}
      },
      "cell_type": "code",
      "source": [
        "def converte(regiao):\n",
        "   regiao = np.array(regiao).astype('float32')/255\n",
        "   regiao = transform.resize(regiao, (120, 120, 3))\n",
        "   regiao = np.expand_dims(regiao, axis=0)\n",
        "   return regiao\n"
      ],
      "execution_count": 0,
      "outputs": []
    },
    {
      "metadata": {
        "colab_type": "text",
        "id": "YwwCcriwvTMB"
      },
      "cell_type": "markdown",
      "source": [
        "[NMS Object Detection](https://www.pyimagesearch.com/2014/11/17/non-maximum-suppression-object-detection-python)"
      ]
    },
    {
      "metadata": {
        "colab_type": "code",
        "id": "4U3L67rhvPLa",
        "colab": {}
      },
      "cell_type": "code",
      "source": [
        "def non_max_suppression_slow(boxes, overlapThresh):\n",
        "\t# if there are no boxes, return an empty list\n",
        "\tif len(boxes) == 0:\n",
        "\t\treturn []\n",
        "\n",
        "\t# initialize the list of picked indexes\n",
        "\tpick = []\n",
        "\n",
        "\t# grab the coordinates of the bounding boxes\n",
        "\tx1 = boxes[:,0]\n",
        "\ty1 = boxes[:,1]\n",
        "\tx2 = boxes[:,2]\n",
        "\ty2 = boxes[:,3]\n",
        "\n",
        "\t# compute the area of the bounding boxes and sort the bounding\n",
        "\t# boxes by the bottom-right y-coordinate of the bounding box\n",
        "\tarea = (x2 - x1 + 1) * (y2 - y1 + 1)\n",
        "\tidxs = np.argsort(y2)\n",
        "\n",
        "\t# keep looping while some indexes still remain in the indexes\n",
        "\t# list\n",
        "\twhile len(idxs) > 0:\n",
        "\t\t# grab the last index in the indexes list, add the index\n",
        "\t\t# value to the list of picked indexes, then initialize\n",
        "\t\t# the suppression list (i.e. indexes that will be deleted)\n",
        "\t\t# using the last index\n",
        "\t\tlast = len(idxs) - 1\n",
        "\t\ti = idxs[last]\n",
        "\t\tpick.append(i)\n",
        "\t\tsuppress = [last]\n",
        "\n",
        "\t\t# loop over all indexes in the indexes list\n",
        "\t\tfor pos in range(0, last):\n",
        "\t\t\t# grab the current index\n",
        "\t\t\tj = idxs[pos]\n",
        "\n",
        "\t\t\t# find the largest (x, y) coordinates for the start of\n",
        "\t\t\t# the bounding box and the smallest (x, y) coordinates\n",
        "\t\t\t# for the end of the bounding box\n",
        "\t\t\txx1 = max(x1[i], x1[j])\n",
        "\t\t\tyy1 = max(y1[i], y1[j])\n",
        "\t\t\txx2 = min(x2[i], x2[j])\n",
        "\t\t\tyy2 = min(y2[i], y2[j])\n",
        "\n",
        "\t\t\t# compute the width and height of the bounding box\n",
        "\t\t\tw = max(0, xx2 - xx1 + 1)\n",
        "\t\t\th = max(0, yy2 - yy1 + 1)\n",
        "\n",
        "\t\t\t# compute the ratio of overlap between the computed\n",
        "\t\t\t# bounding box and the bounding box in the area list\n",
        "\t\t\toverlap = float(w * h) / area[j]\n",
        "\n",
        "\t\t\t# if there is sufficient overlap, suppress the\n",
        "\t\t\t# current bounding box\n",
        "\t\t\tif overlap > overlapThresh:\n",
        "\t\t\t\tsuppress.append(pos)\n",
        "\n",
        "\t\t# delete all indexes from the index list that are in the\n",
        "\t\t# suppression list\n",
        "\t\tidxs = np.delete(idxs, suppress)\n",
        "\n",
        "\t# return only the bounding boxes that were picked\n",
        "\treturn boxes[pick]"
      ],
      "execution_count": 0,
      "outputs": []
    },
    {
      "metadata": {
        "colab_type": "text",
        "id": "v1u69KqFDQeo"
      },
      "cell_type": "markdown",
      "source": [
        " [Sliding Windows](https://www.pyimagesearch.com/2015/03/23/sliding-windows-for-object-detection-with-python-and-opencv/)\n",
        "\n",
        "\n",
        "\n"
      ]
    },
    {
      "metadata": {
        "colab_type": "code",
        "id": "qtUzuXZW4szI",
        "colab": {}
      },
      "cell_type": "code",
      "source": [
        "def sliding_window(image, stepSize, windowSize):\n",
        "\t# slide a window across the image\n",
        "\tfor y in range(0, image.shape[0], stepSize):\n",
        "\t\tfor x in range(0, image.shape[1], stepSize):\n",
        "\t\t\t# yield the current window\n",
        "\t\t\tyield (x, y, image[y:y + windowSize[1], x:x + windowSize[0]])"
      ],
      "execution_count": 0,
      "outputs": []
    },
    {
      "metadata": {
        "colab_type": "code",
        "id": "mYGZdkbzS3BC",
        "colab": {}
      },
      "cell_type": "code",
      "source": [
        "def regioes_cromossomos(image):\n",
        "  f = open('drive/My Drive/Base_CNN/Binarizado2/posicoes_segmentada.csv', 'r')\n",
        "  boxesOriginal = []\n",
        "  \n",
        "  try:\n",
        "    leitor = csv.reader(f)\n",
        "    leitor = list(leitor)\n",
        "    leitor.pop(0)\n",
        "\n",
        "    for linha in leitor:\n",
        "      if len(linha) > 0:\n",
        "        pick = []\n",
        "        # Para cada região dessa imagem:\n",
        "        if linha[0] == image and linha[1] == 'C':\n",
        "          x = int(linha[3])\n",
        "          y = int(linha[4])\n",
        "          w = int(linha[5])\n",
        "          h = int(linha[6])\n",
        "          pick.extend([x, y, x+w, y+h])        \n",
        "          \n",
        "          boxesOriginal.append(pick)\n",
        "\n",
        "  finally:\n",
        "    f.close()\n",
        "    \n",
        "  return boxesOriginal"
      ],
      "execution_count": 0,
      "outputs": []
    },
    {
      "metadata": {
        "colab_type": "text",
        "id": "s-Kk0hVRlYYb"
      },
      "cell_type": "markdown",
      "source": [
        "[Intersection Over Union (IoU)](https://www.pyimagesearch.com/2016/11/07/intersection-over-union-iou-for-object-detection/)\n",
        "\n",
        "[More about mAP](https://www.pyimagesearch.com/2018/05/14/a-gentle-guide-to-deep-learning-object-detection/)\n",
        "\n",
        "[The confusing metrics of AP and mAP for object detection](https://mc.ai/the-confusing-metrics-of-ap-and-map-for-object-detection/)"
      ]
    },
    {
      "metadata": {
        "colab_type": "code",
        "id": "pXFBAHK2Uevi",
        "colab": {}
      },
      "cell_type": "code",
      "source": [
        "def calcula_iou(boxesPredicao, boxesOriginal, local_arquivos, local, img, image, taxa_iou):\n",
        "  \n",
        "  with open(local_arquivos + '/precisao_images.csv', 'a', newline='') as csv_file:\n",
        "    fieldnames = ['image', 'precision', 'taxa_iou']\n",
        "    writer = csv.DictWriter(csv_file, fieldnames=fieldnames)    \n",
        "  \n",
        "    image_clone = image.copy()\n",
        "\n",
        "    TP = 0\n",
        "    FP = 0\n",
        "\n",
        "    for (startX_pred, startY_pred, endX_pred, endY_pred) in boxesPredicao:\n",
        "      for (startX_ori, startY_ori, endX_ori, endY_ori) in boxesOriginal:\n",
        "        xA = max(startX_pred, startX_ori)\n",
        "        yA = max(startY_pred, startY_ori)\n",
        "        xB = min(endX_pred, endX_ori)\n",
        "        yB = min(endY_pred, endY_ori)\n",
        "\n",
        "        # compute the area of intersection rectangle\n",
        "        interArea = max(0, xB - xA + 1) * max(0, yB - yA + 1)\n",
        "\n",
        "        # compute the area of both the prediction and ground-truth\n",
        "        # rectangles\n",
        "        boxAArea = (endX_pred - startX_pred + 1) * (endY_pred - startY_pred + 1)\n",
        "        boxBArea = (endX_ori - startX_ori + 1) * (endY_ori - startY_ori + 1)\n",
        "\n",
        "        # compute the intersection over union by taking the intersection\n",
        "        # area and dividing it by the sum of prediction + ground-truth\n",
        "        # areas - the interesection area\n",
        "        iou = interArea / float(boxAArea + boxBArea - interArea)\n",
        "\n",
        "        if iou > taxa_iou:\n",
        "          cv2.rectangle(image,(startX_pred, startY_pred),(endX_pred, endY_pred),\n",
        "                        (255, 0, 0), 1)\n",
        "          cv2.rectangle(image,(startX_ori, startY_ori),(endX_ori, endY_ori),\n",
        "                        (0, 255, 0), 1)\n",
        "\n",
        "          cv2.rectangle(image_clone,(startX_pred, startY_pred),(endX_pred, endY_pred),\n",
        "                        (255, 0, 0), 1)\n",
        "          cv2.putText(image_clone, \"IoU: {:.4f}\".format(iou), (startX_pred+15,\n",
        "                                                         startY_pred),\n",
        "                        cv2.FONT_HERSHEY_SIMPLEX, 0.5, (255, 0, 0), 1)\n",
        "\n",
        "          TP += 1\n",
        "        else:\n",
        "          FP += 1\n",
        "\n",
        "    precision = TP / (TP+FP)\n",
        "\n",
        "    cv2.imwrite(local + '/iou' + str(taxa_iou) + '_img' + img, image)\n",
        "    cv2.imwrite(local + '/iou_taxas' + str(taxa_iou) + '_img' + img, image_clone)\n",
        "    \n",
        "    writer.writeheader()\n",
        "    writer.writerow({\n",
        "      'image': img,\n",
        "      'precision': precision,\n",
        "      'taxa_iou': taxa_iou\n",
        "    })\n",
        "\n",
        "  return precision"
      ],
      "execution_count": 0,
      "outputs": []
    },
    {
      "metadata": {
        "colab_type": "code",
        "id": "9ERJTQ3AgFJb",
        "colab": {}
      },
      "cell_type": "code",
      "source": [
        "def ler_images_teste(args):\n",
        "  architecture, model = args[0], args[1]\n",
        "  test_path = 'drive/My Drive/Base_CNN/Binarizado2/Test'\n",
        "  images_test = os.listdir(test_path)\n",
        "  \n",
        "  mAP_values_total = []\n",
        "  \n",
        "  for bSize in range(10, 21, 5):\n",
        "    for win in range(20, 41, 5):\n",
        "      print('bSize {} -  win {}'.format(bSize, win))\n",
        "      (winW, winH) = (win, win)\n",
        "      \n",
        "      local_mAP = 'drive/My Drive/Resultado/Segmentado/{}'.format(architecture)\n",
        "      local_arquivos = local_mAP + '/Janela{}-Batch{}'.format(winH, bSize)\n",
        "      local = local_arquivos + '/Resultado_Image'\n",
        "      if os.path.isdir(local) == False:\n",
        "        os.makedirs(local)\n",
        "        print('Criou-se a pasta {}'.format(local))\n",
        "\n",
        "      mAP_values = []\n",
        "\n",
        "      with open(local_mAP + '/average_precision.csv', 'a', newline='') as csv_file:\n",
        "        fieldnames = ['average_precision', 'taxa_iou', 'precision', 'janela', 'batch']\n",
        "        writer = csv.DictWriter(csv_file, fieldnames=fieldnames)\n",
        "\n",
        "        for taxa_iou in range(4, 11):\n",
        "          local_iou = local + '/IOU{}'.format(taxa_iou)\n",
        "          if os.path.isdir(local_iou) == False:\n",
        "            os.mkdir(local_iou)\n",
        "            print('Criou-se a pasta {}'.format(local_iou))\n",
        "\n",
        "          print(\"IoU {}\".format(taxa_iou))\n",
        "          taxa_iou = taxa_iou/10\n",
        "          precisao_total = 0\n",
        "\n",
        "          for img in images_test:\n",
        "            print(\"Run image {}\".format(img))\n",
        "            # Pega cada imagem separadamente do folder de teste\n",
        "            image = cv2.imread(test_path + '/' + img)\n",
        "            image_after = image.copy()\n",
        "\n",
        "            boxesOriginal = regioes_cromossomos(img)\n",
        "\n",
        "            image_sem_formato = img.split('.tif')[0]\n",
        "            img = image_sem_formato + '.png'\n",
        "\n",
        "            boudingBoxes = []\n",
        "\n",
        "            # sliding window\n",
        "            for (x, y, window) in sliding_window(image, stepSize=bSize, windowSize=(winW, winH)):\n",
        "              # if the window does not meet our desired window size, ignore it\n",
        "              if window.shape[0] != winH or window.shape[1] != winW:\n",
        "                continue\n",
        "\n",
        "              regiao = converte(window)\n",
        "\n",
        "              # Coloca a região na função e obtem o resultado\n",
        "              predicao = model.predict(regiao, batch_size=bSize, verbose=0)\n",
        "\n",
        "              # Se é um cromossomo:\n",
        "              if predicao[0][1] > predicao[0][0]:\n",
        "                endX = x + winW\n",
        "                endY = y + winH\n",
        "\n",
        "                boudingBox = (x, y, endX, endY)\n",
        "                boudingBoxes.append(boudingBox)\n",
        "\n",
        "            boxesPredicao = np.array(boudingBoxes)\n",
        "\n",
        "            precisao_total += calcula_iou(boxesPredicao, boxesOriginal, local_arquivos,\n",
        "                                                    local_iou, img, image, taxa_iou)\n",
        "\n",
        "          average_precision = precisao_total / len(images_test)\n",
        "          mAP_values.append(average_precision)\n",
        "\n",
        "        writer.writeheader()\n",
        "        writer.writerow({\n",
        "          'average_precision': average_precision,\n",
        "          'precision': precisao_total,\n",
        "          'janela': winH,\n",
        "          'batch': bSize\n",
        "        })\n",
        "\n",
        "      mAP_values_total.append({\n",
        "          'win': win,\n",
        "          'bSize': bSize,\n",
        "          'mAP_values': mAP_values,\n",
        "          'media': np.mean(mAP_values)}) \n",
        "  \n",
        "  return architecture, mAP_values_total"
      ],
      "execution_count": 0,
      "outputs": []
    },
    {
      "metadata": {
        "colab_type": "text",
        "id": "WlPBqB_v3x2A"
      },
      "cell_type": "markdown",
      "source": [
        "\n",
        "\n",
        "---\n",
        "\n"
      ]
    },
    {
      "metadata": {
        "colab_type": "text",
        "id": "8KTtm8K7qg1n"
      },
      "cell_type": "markdown",
      "source": [
        "# Implementação"
      ]
    },
    {
      "metadata": {
        "colab_type": "text",
        "id": "ZNfohSUpo1n0"
      },
      "cell_type": "markdown",
      "source": [
        "\n",
        "\n",
        "*   Batch size = 32\n",
        "*   Image size = 120x120\n",
        "\n"
      ]
    },
    {
      "metadata": {
        "colab_type": "text",
        "id": "AUzRQ1CrBDKE"
      },
      "cell_type": "markdown",
      "source": [
        "## Variaveis globais"
      ]
    },
    {
      "metadata": {
        "colab_type": "text",
        "id": "Vc-_Lcq7GEqt"
      },
      "cell_type": "markdown",
      "source": [
        "\n",
        "\n",
        "*   Batch size = 32\n",
        "*   Image size = 120x120\n",
        "\n"
      ]
    },
    {
      "metadata": {
        "colab_type": "code",
        "id": "ITtEfxrilym7",
        "colab": {}
      },
      "cell_type": "code",
      "source": [
        "train_path = 'drive/My Drive/Base_CNN/Binarizado2/Train'\n",
        "test_path = 'drive/My Drive/Base_CNN/Binarizado2/Test'\n",
        "validation_path = 'drive/My Drive/Base_CNN/Binarizado2/Validation'"
      ],
      "execution_count": 0,
      "outputs": []
    },
    {
      "metadata": {
        "colab_type": "code",
        "id": "_TFWtLbQ2fUI",
        "colab": {}
      },
      "cell_type": "code",
      "source": [
        "results = {}"
      ],
      "execution_count": 0,
      "outputs": []
    },
    {
      "metadata": {
        "colab_type": "code",
        "id": "W3zmFDRmnYem",
        "colab": {}
      },
      "cell_type": "code",
      "source": [
        "bSize = 32"
      ],
      "execution_count": 0,
      "outputs": []
    },
    {
      "metadata": {
        "colab_type": "code",
        "id": "dCNH0jPl3WTV",
        "colab": {}
      },
      "cell_type": "code",
      "source": [
        "datagen = ImageDataGenerator(rescale=1/255.)"
      ],
      "execution_count": 0,
      "outputs": []
    },
    {
      "metadata": {
        "colab_type": "code",
        "id": "YiMXe23Vmbo-",
        "outputId": "c61306cb-2bd0-4f94-d658-466ef96618aa",
        "colab": {
          "base_uri": "https://localhost:8080/",
          "height": 0
        }
      },
      "cell_type": "code",
      "source": [
        "train_batches = datagen.flow_from_directory(train_path, target_size=(120, 120), \n",
        "                                            classes=['NC', 'C'], \n",
        "                                            batch_size=bSize)\n",
        "validation_batches = datagen.flow_from_directory(validation_path, \n",
        "                                                 target_size=(120, 120), \n",
        "                                                 classes=['NC', 'C'], \n",
        "                                                 batch_size=bSize)\n",
        "stepsPerEpoche = len(train_batches)/bSize\n",
        "validationSteps = len(validation_batches)/bSize"
      ],
      "execution_count": 106,
      "outputs": [
        {
          "output_type": "stream",
          "text": [
            "Found 5675 images belonging to 2 classes.\n",
            "Found 1509 images belonging to 2 classes.\n"
          ],
          "name": "stdout"
        }
      ]
    },
    {
      "metadata": {
        "colab_type": "code",
        "id": "pOQMFxK5VUPa",
        "outputId": "451993b6-a27a-4417-9e72-2259ca730896",
        "colab": {
          "base_uri": "https://localhost:8080/",
          "height": 0
        }
      },
      "cell_type": "code",
      "source": [
        "train_batches.class_indices"
      ],
      "execution_count": 107,
      "outputs": [
        {
          "output_type": "execute_result",
          "data": {
            "text/plain": [
              "{'C': 1, 'NC': 0}"
            ]
          },
          "metadata": {
            "tags": []
          },
          "execution_count": 107
        }
      ]
    },
    {
      "metadata": {
        "id": "V65rxOK3ndse",
        "colab_type": "code",
        "colab": {}
      },
      "cell_type": "code",
      "source": [
        "models = {}"
      ],
      "execution_count": 0,
      "outputs": []
    },
    {
      "metadata": {
        "colab_type": "text",
        "id": "S9IcYhWBGErq"
      },
      "cell_type": "markdown",
      "source": [
        "\n",
        "\n",
        "---\n",
        "\n"
      ]
    },
    {
      "metadata": {
        "colab_type": "text",
        "id": "wH56YdE5rlnU"
      },
      "cell_type": "markdown",
      "source": [
        "## 1 tentativa - "
      ]
    },
    {
      "metadata": {
        "colab_type": "text",
        "id": "NBCIFVOlompR"
      },
      "cell_type": "markdown",
      "source": [
        "**Descrição**\n",
        "\n",
        "\n",
        "*   Modelo descrito no artigo \"Crowdsourcing for Chromosome Segmentation and Deep Classification\"\n",
        "\n"
      ]
    },
    {
      "metadata": {
        "colab_type": "code",
        "id": "iclhpyXmi_DU",
        "colab": {}
      },
      "cell_type": "code",
      "source": [
        "architecture = 'architecture_1'"
      ],
      "execution_count": 0,
      "outputs": []
    },
    {
      "metadata": {
        "colab_type": "text",
        "id": "IU71NY-9AzSi"
      },
      "cell_type": "markdown",
      "source": [
        "### Modelo"
      ]
    },
    {
      "metadata": {
        "colab_type": "code",
        "id": "rNosdG-ioNYU",
        "colab": {}
      },
      "cell_type": "code",
      "source": [
        "model_1 = Sequential([\n",
        "    Conv2D(64, (3, 3), activation='relu', input_shape=(120, 120, 3)),\n",
        "    Conv2D(64, (3, 3), activation='relu'),\n",
        "    Dropout(0.2),\n",
        "    MaxPooling2D(pool_size=(2, 2)),\n",
        "   \n",
        "    Conv2D(32, (3, 3), activation='relu'),\n",
        "    Conv2D(32, (3, 3), activation='relu'),\n",
        "    Dropout(0.2),\n",
        "    MaxPooling2D(pool_size=(2, 2)),\n",
        "   \n",
        "    Conv2D(16, (3, 3), activation='relu'),\n",
        "    Conv2D(16, (3, 3), activation='relu'),\n",
        "    Dropout(0.2),\n",
        "    MaxPooling2D(pool_size=(2, 2)),\n",
        "   \n",
        "    Conv2D(8, (3, 3), activation='relu'),\n",
        "    Conv2D(8, (3, 3), activation='relu'),\n",
        "    Dropout(0.2),\n",
        "    MaxPooling2D(pool_size=(2, 2)),\n",
        "    \n",
        "    Flatten(),\n",
        "    Dense(1024, activation='sigmoid'),\n",
        "    Dense(512, activation='sigmoid'),\n",
        "   \n",
        "    Dense(2, activation='softmax')\n",
        "]\n",
        ")"
      ],
      "execution_count": 0,
      "outputs": []
    },
    {
      "metadata": {
        "colab_type": "code",
        "id": "UBqwdK2Bxagj",
        "colab": {}
      },
      "cell_type": "code",
      "source": [
        "model_1.compile(SGD(lr=0.01, momentum=0.0, decay=0.0, nesterov=False), \n",
        "                loss='binary_crossentropy', metrics=['accuracy'])"
      ],
      "execution_count": 0,
      "outputs": []
    },
    {
      "metadata": {
        "colab_type": "text",
        "id": "ya3jKykqbWys"
      },
      "cell_type": "markdown",
      "source": [
        "### Treino\n"
      ]
    },
    {
      "metadata": {
        "colab_type": "code",
        "id": "C3T_4Qk9bWzS",
        "colab": {}
      },
      "cell_type": "code",
      "source": [
        "model_1.load_weights('drive/My Drive/Resultado/Segmentado/weights_' + architecture + '.hdf5')"
      ],
      "execution_count": 0,
      "outputs": []
    },
    {
      "metadata": {
        "id": "MAv3-B40ndtk",
        "colab_type": "code",
        "colab": {}
      },
      "cell_type": "code",
      "source": [
        "models[architecture] = model_1"
      ],
      "execution_count": 0,
      "outputs": []
    },
    {
      "metadata": {
        "colab_type": "text",
        "id": "T7nOK0TDr6Hc"
      },
      "cell_type": "markdown",
      "source": [
        "## 2 tentativa  - "
      ]
    },
    {
      "metadata": {
        "colab_type": "text",
        "id": "-DJtvxKNp9sb"
      },
      "cell_type": "markdown",
      "source": [
        "**Descrição**\n",
        "\n",
        "\n",
        "*   Modelo descrito no artigo \"Crowdsourcing for Chromosome Segmentation and Deep Classification\"\n",
        "*   Alteração nas duas ultimas camadas Dense\n",
        "\n",
        "\n",
        "\n"
      ]
    },
    {
      "metadata": {
        "colab_type": "code",
        "id": "B1aiec4IjnND",
        "colab": {}
      },
      "cell_type": "code",
      "source": [
        "architecture = 'architecture_2'"
      ],
      "execution_count": 0,
      "outputs": []
    },
    {
      "metadata": {
        "colab_type": "text",
        "id": "fAPG077EDA_b"
      },
      "cell_type": "markdown",
      "source": [
        "### Modelo"
      ]
    },
    {
      "metadata": {
        "colab_type": "code",
        "id": "2PSEo_Mzr8zK",
        "colab": {}
      },
      "cell_type": "code",
      "source": [
        "model_2 = Sequential([\n",
        "    Conv2D(64, (3, 3), activation='relu', input_shape=(120, 120, 3)),\n",
        "    Conv2D(64, (3, 3), activation='relu'),\n",
        "    Dropout(0.2),\n",
        "    MaxPooling2D(pool_size=(2, 2)),\n",
        "   \n",
        "    Conv2D(32, (3, 3), activation='relu'),\n",
        "    Conv2D(32, (3, 3), activation='relu'),\n",
        "    Dropout(0.2),\n",
        "    MaxPooling2D(pool_size=(2, 2)),\n",
        "   \n",
        "    Conv2D(16, (3, 3), activation='relu'),\n",
        "    Conv2D(16, (3, 3), activation='relu'),\n",
        "    Dropout(0.2),\n",
        "    MaxPooling2D(pool_size=(2, 2)),\n",
        "   \n",
        "    Conv2D(8, (3, 3), activation='relu'),\n",
        "    Conv2D(8, (3, 3), activation='relu'),\n",
        "    Dropout(0.2),\n",
        "    MaxPooling2D(pool_size=(2, 2)),\n",
        "    \n",
        "    Flatten(),\n",
        "    Dense(512, activation='relu'),\n",
        "   \n",
        "    Dense(2, activation='softmax')\n",
        "]\n",
        ")"
      ],
      "execution_count": 0,
      "outputs": []
    },
    {
      "metadata": {
        "colab_type": "code",
        "id": "wTvCLywPr8zj",
        "colab": {}
      },
      "cell_type": "code",
      "source": [
        "model_2.compile(SGD(lr=0.01, momentum=0.0, decay=0.0, nesterov=False), \n",
        "                loss='binary_crossentropy', metrics=['accuracy'])"
      ],
      "execution_count": 0,
      "outputs": []
    },
    {
      "metadata": {
        "colab_type": "text",
        "id": "ACyTqp00e-zr"
      },
      "cell_type": "markdown",
      "source": [
        "### Treino\n"
      ]
    },
    {
      "metadata": {
        "colab_type": "code",
        "id": "YvN7el4He-0T",
        "colab": {}
      },
      "cell_type": "code",
      "source": [
        "model_2.load_weights('drive/My Drive/Resultado/Segmentado/weights_' + architecture + '.hdf5')"
      ],
      "execution_count": 0,
      "outputs": []
    },
    {
      "metadata": {
        "id": "QppBgEiIndub",
        "colab_type": "code",
        "colab": {}
      },
      "cell_type": "code",
      "source": [
        "models[architecture] = model_2"
      ],
      "execution_count": 0,
      "outputs": []
    },
    {
      "metadata": {
        "colab_type": "text",
        "id": "r7RpE8wBe4JQ"
      },
      "cell_type": "markdown",
      "source": [
        "## 3 tentativa - "
      ]
    },
    {
      "metadata": {
        "colab_type": "text",
        "id": "vdP4Yo8OgB4B"
      },
      "cell_type": "markdown",
      "source": [
        "Modelo criado pelo **Lucas Valentim**\n",
        "\n",
        "https://github.com/lucasvalentim/chromosome-recognizer/blob/master/chromosome_recognizer.ipynb"
      ]
    },
    {
      "metadata": {
        "colab_type": "code",
        "id": "qGOLNR-RjvlL",
        "colab": {}
      },
      "cell_type": "code",
      "source": [
        "architecture = 'architecture_3'"
      ],
      "execution_count": 0,
      "outputs": []
    },
    {
      "metadata": {
        "colab_type": "text",
        "id": "1n6OuO9xDwyl"
      },
      "cell_type": "markdown",
      "source": [
        "### Modelo"
      ]
    },
    {
      "metadata": {
        "colab_type": "code",
        "id": "3nTNgnrCe33x",
        "colab": {}
      },
      "cell_type": "code",
      "source": [
        "from keras.layers import Conv2D, MaxPooling2D, GlobalMaxPooling2D, BatchNormalization\n",
        "from keras.regularizers import l2\n",
        "\n",
        "model_3 = Sequential()\n",
        "\n",
        "model_3.add(Conv2D(32, (3, 3), activation='relu', kernel_regularizer=l2(1e-4), \n",
        "                 input_shape=(None, None, 3)))\n",
        "model_3.add(BatchNormalization())\n",
        "model_3.add(Conv2D(32, (3, 3), activation='relu', kernel_regularizer=l2(1e-4)))\n",
        "model_3.add(BatchNormalization())\n",
        "model_3.add(MaxPooling2D((2, 2)))\n",
        "model_3.add(Dropout(0.25))\n",
        "\n",
        "model_3.add(Conv2D(64, (3, 3), activation='relu', kernel_regularizer=l2(1e-4)))\n",
        "model_3.add(BatchNormalization())\n",
        "model_3.add(Conv2D(64, (3, 3), activation='relu', kernel_regularizer=l2(1e-4)))\n",
        "model_3.add(BatchNormalization())\n",
        "model_3.add(MaxPooling2D((2, 2)))\n",
        "model_3.add(Dropout(0.25))\n",
        "\n",
        "model_3.add(Conv2D(128, (1,1), kernel_regularizer=l2(1e-4)))\n",
        "model_3.add(GlobalMaxPooling2D())\n",
        "\n",
        "model_3.add(Dense(256, activation='relu', kernel_regularizer=l2(1e-4)))\n",
        "model_3.add(Dropout(0.5))\n",
        "model_3.add(Dense(2, activation='sigmoid', kernel_regularizer=l2(1e-4)))"
      ],
      "execution_count": 0,
      "outputs": []
    },
    {
      "metadata": {
        "colab_type": "code",
        "id": "g1okz4QbiBnE",
        "colab": {}
      },
      "cell_type": "code",
      "source": [
        "model_3.compile(optimizer='adam', loss='binary_crossentropy', metrics=['accuracy'])"
      ],
      "execution_count": 0,
      "outputs": []
    },
    {
      "metadata": {
        "colab_type": "text",
        "id": "blp1Tr_efBYS"
      },
      "cell_type": "markdown",
      "source": [
        "### Treino\n"
      ]
    },
    {
      "metadata": {
        "colab_type": "code",
        "id": "PbMIDRHCfBYv",
        "colab": {}
      },
      "cell_type": "code",
      "source": [
        "model_3.load_weights('drive/My Drive/Resultado/Segmentado/weights_' + architecture + '.hdf5')"
      ],
      "execution_count": 0,
      "outputs": []
    },
    {
      "metadata": {
        "id": "r4g0wc-HndvH",
        "colab_type": "code",
        "colab": {}
      },
      "cell_type": "code",
      "source": [
        "models[architecture] = model_3"
      ],
      "execution_count": 0,
      "outputs": []
    },
    {
      "metadata": {
        "colab_type": "text",
        "id": "jkrlEFjlw030"
      },
      "cell_type": "markdown",
      "source": [
        "## 4 tentativa - "
      ]
    },
    {
      "metadata": {
        "colab_type": "text",
        "id": "UJ7JELAiw2kb"
      },
      "cell_type": "markdown",
      "source": [
        "Modelo adaptado do **Lucas Valentim**\n",
        "\n",
        "*   Sem os **dropout**\n"
      ]
    },
    {
      "metadata": {
        "colab_type": "code",
        "id": "VMLmVlASj26i",
        "colab": {}
      },
      "cell_type": "code",
      "source": [
        "architecture = 'architecture_4'"
      ],
      "execution_count": 0,
      "outputs": []
    },
    {
      "metadata": {
        "colab_type": "text",
        "id": "YdF5FzDmD6YV"
      },
      "cell_type": "markdown",
      "source": [
        "### Modelo"
      ]
    },
    {
      "metadata": {
        "colab_type": "code",
        "id": "4N0B_5a2xB3T",
        "colab": {}
      },
      "cell_type": "code",
      "source": [
        "from keras.layers import Conv2D, MaxPooling2D, GlobalMaxPooling2D, BatchNormalization\n",
        "from keras.regularizers import l2\n",
        "\n",
        "model_4 = Sequential()\n",
        "\n",
        "model_4.add(Conv2D(32, (3, 3), activation='relu', kernel_regularizer=l2(1e-4), \n",
        "                 input_shape=(None, None, 3)))\n",
        "model_4.add(BatchNormalization())\n",
        "model_4.add(Conv2D(32, (3, 3), activation='relu', kernel_regularizer=l2(1e-4)))\n",
        "model_4.add(BatchNormalization())\n",
        "model_4.add(MaxPooling2D((2, 2)))\n",
        "\n",
        "model_4.add(Conv2D(64, (3, 3), activation='relu', kernel_regularizer=l2(1e-4)))\n",
        "model_4.add(BatchNormalization())\n",
        "model_4.add(Conv2D(64, (3, 3), activation='relu', kernel_regularizer=l2(1e-4)))\n",
        "model_4.add(BatchNormalization())\n",
        "model_4.add(MaxPooling2D((2, 2)))\n",
        "\n",
        "model_4.add(Conv2D(128, (1,1), kernel_regularizer=l2(1e-4)))\n",
        "model_4.add(GlobalMaxPooling2D())\n",
        "\n",
        "model_4.add(Dense(256, activation='relu', kernel_regularizer=l2(1e-4)))\n",
        "model_4.add(BatchNormalization())\n",
        "model_4.add(Dense(2, activation='sigmoid', kernel_regularizer=l2(1e-4)))"
      ],
      "execution_count": 0,
      "outputs": []
    },
    {
      "metadata": {
        "colab_type": "code",
        "id": "V9VHjygmxB3k",
        "colab": {}
      },
      "cell_type": "code",
      "source": [
        "model_4.compile(optimizer='adam', loss='binary_crossentropy', metrics=['accuracy'])"
      ],
      "execution_count": 0,
      "outputs": []
    },
    {
      "metadata": {
        "colab_type": "text",
        "id": "NclejfjBfDep"
      },
      "cell_type": "markdown",
      "source": [
        "### Treino\n"
      ]
    },
    {
      "metadata": {
        "colab_type": "code",
        "id": "AVRepxwKfDfG",
        "colab": {}
      },
      "cell_type": "code",
      "source": [
        "model_4.load_weights('drive/My Drive/Resultado/Segmentado/weights_' + architecture + '.hdf5')"
      ],
      "execution_count": 0,
      "outputs": []
    },
    {
      "metadata": {
        "id": "gUDGb8Znndvf",
        "colab_type": "code",
        "colab": {}
      },
      "cell_type": "code",
      "source": [
        "models[architecture] = model_4"
      ],
      "execution_count": 0,
      "outputs": []
    },
    {
      "metadata": {
        "colab_type": "text",
        "id": "lX3WANMgB1Ew"
      },
      "cell_type": "markdown",
      "source": [
        "## 5 tentativa - "
      ]
    },
    {
      "metadata": {
        "colab_type": "text",
        "id": "dqed1VQh6WXg"
      },
      "cell_type": "markdown",
      "source": [
        "Modelo adaptado do **Lucas Valentim**\n",
        "\n",
        "*   Sem os **dropout**\n",
        "*   Função **SGD** para compilação\n"
      ]
    },
    {
      "metadata": {
        "colab_type": "code",
        "id": "HA_KKMyaj6-L",
        "colab": {}
      },
      "cell_type": "code",
      "source": [
        "architecture = 'architecture_5'"
      ],
      "execution_count": 0,
      "outputs": []
    },
    {
      "metadata": {
        "colab_type": "text",
        "id": "hWG5bCGfEBAs"
      },
      "cell_type": "markdown",
      "source": [
        "### Modelo"
      ]
    },
    {
      "metadata": {
        "colab_type": "code",
        "id": "z9mlUa4mB-ER",
        "colab": {}
      },
      "cell_type": "code",
      "source": [
        "from keras.layers import Conv2D, MaxPooling2D, GlobalMaxPooling2D, BatchNormalization\n",
        "from keras.regularizers import l2\n",
        "\n",
        "model_5 = Sequential()\n",
        "\n",
        "model_5.add(Conv2D(32, (3, 3), activation='relu', kernel_regularizer=l2(1e-4), \n",
        "                 input_shape=(None, None, 3)))\n",
        "model_5.add(BatchNormalization())\n",
        "model_5.add(Conv2D(32, (3, 3), activation='relu', kernel_regularizer=l2(1e-4)))\n",
        "model_5.add(BatchNormalization())\n",
        "model_5.add(MaxPooling2D((2, 2)))\n",
        "model_5.add(Dropout(0.25))\n",
        "\n",
        "model_5.add(Conv2D(64, (3, 3), activation='relu', kernel_regularizer=l2(1e-4)))\n",
        "model_5.add(BatchNormalization())\n",
        "model_5.add(Conv2D(64, (3, 3), activation='relu', kernel_regularizer=l2(1e-4)))\n",
        "model_5.add(BatchNormalization())\n",
        "model_5.add(MaxPooling2D((2, 2)))\n",
        "model_5.add(Dropout(0.25))\n",
        "\n",
        "model_5.add(Conv2D(128, (1,1), kernel_regularizer=l2(1e-4)))\n",
        "model_5.add(GlobalMaxPooling2D())\n",
        "\n",
        "model_5.add(Dense(256, activation='relu', kernel_regularizer=l2(1e-4)))\n",
        "model_5.add(Dropout(0.5))\n",
        "model_5.add(Dense(2, activation='sigmoid', kernel_regularizer=l2(1e-4)))"
      ],
      "execution_count": 0,
      "outputs": []
    },
    {
      "metadata": {
        "colab_type": "code",
        "id": "ukvJwM-lCHtB",
        "colab": {}
      },
      "cell_type": "code",
      "source": [
        "model_5.compile(SGD(lr=0.01, momentum=0.0, decay=0.0, nesterov=False), \n",
        "                loss='binary_crossentropy', metrics=['accuracy'])"
      ],
      "execution_count": 0,
      "outputs": []
    },
    {
      "metadata": {
        "colab_type": "text",
        "id": "bnegkgWxfFRy"
      },
      "cell_type": "markdown",
      "source": [
        "### Treino\n"
      ]
    },
    {
      "metadata": {
        "colab_type": "code",
        "id": "aF9q3hAYfFSO",
        "colab": {}
      },
      "cell_type": "code",
      "source": [
        "model_5.load_weights('drive/My Drive/Resultado/Segmentado/weights_' + architecture + '.hdf5')"
      ],
      "execution_count": 0,
      "outputs": []
    },
    {
      "metadata": {
        "id": "iISzYV0andwI",
        "colab_type": "code",
        "colab": {}
      },
      "cell_type": "code",
      "source": [
        "models[architecture] = model_5"
      ],
      "execution_count": 0,
      "outputs": []
    },
    {
      "metadata": {
        "colab_type": "text",
        "id": "apfIeirYD2N7"
      },
      "cell_type": "markdown",
      "source": [
        "## 6 tentativa - "
      ]
    },
    {
      "metadata": {
        "colab_type": "text",
        "id": "xaxcjuxn7BAH"
      },
      "cell_type": "markdown",
      "source": [
        "Modelo adaptado do **Lucas Valentim**\n",
        "\n",
        "*   Sem os **dropout**\n",
        "*   Função **SGD** para compilação\n",
        "*   **BatchNormalization** antes da ultima camada Dense\n"
      ]
    },
    {
      "metadata": {
        "colab_type": "code",
        "id": "QQFrxD_Rj9wz",
        "colab": {}
      },
      "cell_type": "code",
      "source": [
        "architecture = 'architecture_6'"
      ],
      "execution_count": 0,
      "outputs": []
    },
    {
      "metadata": {
        "colab_type": "text",
        "id": "oQ6BoR4hEGjh"
      },
      "cell_type": "markdown",
      "source": [
        "### Modelo"
      ]
    },
    {
      "metadata": {
        "colab_type": "code",
        "id": "C2UuO-jqD44u",
        "colab": {}
      },
      "cell_type": "code",
      "source": [
        "from keras.layers import Conv2D, MaxPooling2D, GlobalMaxPooling2D, BatchNormalization\n",
        "from keras.regularizers import l2\n",
        "\n",
        "model_6 = Sequential()\n",
        "\n",
        "model_6.add(Conv2D(32, (3, 3), activation='relu', kernel_regularizer=l2(1e-4), \n",
        "                 input_shape=(None, None, 3)))\n",
        "model_6.add(BatchNormalization())\n",
        "model_6.add(Conv2D(32, (3, 3), activation='relu', kernel_regularizer=l2(1e-4)))\n",
        "model_6.add(BatchNormalization())\n",
        "model_6.add(MaxPooling2D((2, 2)))\n",
        "\n",
        "model_6.add(Conv2D(64, (3, 3), activation='relu', kernel_regularizer=l2(1e-4)))\n",
        "model_6.add(BatchNormalization())\n",
        "model_6.add(Conv2D(64, (3, 3), activation='relu', kernel_regularizer=l2(1e-4)))\n",
        "model_6.add(BatchNormalization())\n",
        "model_6.add(MaxPooling2D((2, 2)))\n",
        "\n",
        "model_6.add(Conv2D(128, (1,1), kernel_regularizer=l2(1e-4)))\n",
        "model_6.add(GlobalMaxPooling2D())\n",
        "\n",
        "model_6.add(Dense(256, activation='relu', kernel_regularizer=l2(1e-4)))\n",
        "model_6.add(BatchNormalization())\n",
        "model_6.add(Dense(2, activation='sigmoid', kernel_regularizer=l2(1e-4)))"
      ],
      "execution_count": 0,
      "outputs": []
    },
    {
      "metadata": {
        "colab_type": "code",
        "id": "I7mu97znD45M",
        "colab": {}
      },
      "cell_type": "code",
      "source": [
        "model_6.compile(SGD(lr=0.03, momentum=0.0, decay=0.0, nesterov=False), \n",
        "                loss='binary_crossentropy', metrics=['accuracy'])"
      ],
      "execution_count": 0,
      "outputs": []
    },
    {
      "metadata": {
        "colab_type": "text",
        "id": "2TV-nZAUfHVb"
      },
      "cell_type": "markdown",
      "source": [
        "### Treino\n"
      ]
    },
    {
      "metadata": {
        "colab_type": "code",
        "id": "0QosYrN3fHV1",
        "colab": {}
      },
      "cell_type": "code",
      "source": [
        "model_6.load_weights('drive/My Drive/Resultado/Segmentado/weights_' + architecture + '.hdf5')"
      ],
      "execution_count": 0,
      "outputs": []
    },
    {
      "metadata": {
        "id": "skpbJyOBndwc",
        "colab_type": "code",
        "colab": {}
      },
      "cell_type": "code",
      "source": [
        "models[architecture] = model_6"
      ],
      "execution_count": 0,
      "outputs": []
    },
    {
      "metadata": {
        "colab_type": "text",
        "id": "5gk7vmYPHddj"
      },
      "cell_type": "markdown",
      "source": [
        "## 7 tentativa - "
      ]
    },
    {
      "metadata": {
        "colab_type": "text",
        "id": "lxzyd-4L422r"
      },
      "cell_type": "markdown",
      "source": [
        "Modelo adaptado do **Lucas Valentim**\n",
        "\n",
        "*   Sem os **dropout**\n",
        "*   Função **Adadelta** para compilação\n",
        "*   **BatchNormalization** antes da ultima camada Dense\n"
      ]
    },
    {
      "metadata": {
        "colab_type": "code",
        "id": "ufy24IuYkBYc",
        "colab": {}
      },
      "cell_type": "code",
      "source": [
        "architecture = 'architecture_7'"
      ],
      "execution_count": 0,
      "outputs": []
    },
    {
      "metadata": {
        "colab_type": "text",
        "id": "Qx405s6NENSz"
      },
      "cell_type": "markdown",
      "source": [
        "### Modelo"
      ]
    },
    {
      "metadata": {
        "colab_type": "code",
        "id": "sIBEdGsyHhJN",
        "colab": {}
      },
      "cell_type": "code",
      "source": [
        "from keras.layers import Conv2D, MaxPooling2D, GlobalMaxPooling2D, BatchNormalization\n",
        "from keras.regularizers import l2\n",
        "from keras.optimizers import Adadelta\n",
        "\n",
        "model_7 = Sequential()\n",
        "\n",
        "model_7.add(Conv2D(32, (3, 3), activation='relu', kernel_regularizer=l2(1e-4), \n",
        "                 input_shape=(None, None, 3)))\n",
        "model_7.add(BatchNormalization())\n",
        "model_7.add(Conv2D(32, (3, 3), activation='relu', kernel_regularizer=l2(1e-4)))\n",
        "model_7.add(BatchNormalization())\n",
        "model_7.add(MaxPooling2D((2, 2)))\n",
        "\n",
        "model_7.add(Conv2D(64, (3, 3), activation='relu', kernel_regularizer=l2(1e-4)))\n",
        "model_7.add(BatchNormalization())\n",
        "model_7.add(Conv2D(64, (3, 3), activation='relu', kernel_regularizer=l2(1e-4)))\n",
        "model_7.add(BatchNormalization())\n",
        "model_7.add(MaxPooling2D((2, 2)))\n",
        "\n",
        "model_7.add(Conv2D(128, (1,1), kernel_regularizer=l2(1e-4)))\n",
        "model_7.add(GlobalMaxPooling2D())\n",
        "\n",
        "model_7.add(Dense(256, activation='relu', kernel_regularizer=l2(1e-4)))\n",
        "model_7.add(BatchNormalization())\n",
        "model_7.add(Dense(2, activation='sigmoid', kernel_regularizer=l2(1e-4)))"
      ],
      "execution_count": 0,
      "outputs": []
    },
    {
      "metadata": {
        "colab_type": "code",
        "id": "P6ZvobfGHhJb",
        "colab": {}
      },
      "cell_type": "code",
      "source": [
        "model_7.compile(Adadelta(lr=1.0, rho=0.95, epsilon=None, decay=0.0), \n",
        "                loss='binary_crossentropy', metrics=['accuracy'])"
      ],
      "execution_count": 0,
      "outputs": []
    },
    {
      "metadata": {
        "colab_type": "text",
        "id": "kYb1bzdAfJdK"
      },
      "cell_type": "markdown",
      "source": [
        "### Treino\n"
      ]
    },
    {
      "metadata": {
        "colab_type": "code",
        "id": "m9kWWhd6fJdj",
        "colab": {}
      },
      "cell_type": "code",
      "source": [
        "model_7.load_weights('drive/My Drive/Resultado/Segmentado/weights_' + architecture + '.hdf5')"
      ],
      "execution_count": 0,
      "outputs": []
    },
    {
      "metadata": {
        "id": "HfG4O6akndw_",
        "colab_type": "code",
        "colab": {}
      },
      "cell_type": "code",
      "source": [
        "models[architecture] = model_7"
      ],
      "execution_count": 0,
      "outputs": []
    },
    {
      "metadata": {
        "colab_type": "text",
        "id": "xBqqHjZrnDFP"
      },
      "cell_type": "markdown",
      "source": [
        "## 8 tentativa - "
      ]
    },
    {
      "metadata": {
        "colab_type": "text",
        "id": "3Qg1zWbo5W6V"
      },
      "cell_type": "markdown",
      "source": [
        "Modelo adaptado do **Lucas Valentim**\n",
        "\n",
        "*   Função **Adadelta** para compilação\n"
      ]
    },
    {
      "metadata": {
        "colab_type": "code",
        "id": "lmwfJa_fkEKz",
        "colab": {}
      },
      "cell_type": "code",
      "source": [
        "architecture = 'architecture_8'"
      ],
      "execution_count": 0,
      "outputs": []
    },
    {
      "metadata": {
        "colab_type": "text",
        "id": "HwG1z8RnETvS"
      },
      "cell_type": "markdown",
      "source": [
        "### Modelo"
      ]
    },
    {
      "metadata": {
        "colab_type": "code",
        "id": "MvjKH9LWpGsi",
        "colab": {}
      },
      "cell_type": "code",
      "source": [
        "from keras.layers import Conv2D, MaxPooling2D, GlobalMaxPooling2D, BatchNormalization\n",
        "from keras.regularizers import l2\n",
        "from keras.optimizers import Adadelta\n",
        "\n",
        "model_8 = Sequential()\n",
        "\n",
        "model_8.add(Conv2D(32, (3, 3), activation='relu', kernel_regularizer=l2(1e-4), \n",
        "                 input_shape=(None, None, 3)))\n",
        "model_8.add(BatchNormalization())\n",
        "model_8.add(Conv2D(32, (3, 3), activation='relu', kernel_regularizer=l2(1e-4)))\n",
        "model_8.add(BatchNormalization())\n",
        "model_8.add(MaxPooling2D((2, 2)))\n",
        "model_8.add(Dropout(0.25))\n",
        "\n",
        "model_8.add(Conv2D(64, (3, 3), activation='relu', kernel_regularizer=l2(1e-4)))\n",
        "model_8.add(BatchNormalization())\n",
        "model_8.add(Conv2D(64, (3, 3), activation='relu', kernel_regularizer=l2(1e-4)))\n",
        "model_8.add(BatchNormalization())\n",
        "model_8.add(MaxPooling2D((2, 2)))\n",
        "model_8.add(Dropout(0.25))\n",
        "\n",
        "model_8.add(Conv2D(128, (1,1), kernel_regularizer=l2(1e-4)))\n",
        "model_8.add(GlobalMaxPooling2D())\n",
        "\n",
        "model_8.add(Dense(256, activation='relu', kernel_regularizer=l2(1e-4)))\n",
        "model_8.add(Dropout(0.5))\n",
        "model_8.add(Dense(2, activation='sigmoid', kernel_regularizer=l2(1e-4)))"
      ],
      "execution_count": 0,
      "outputs": []
    },
    {
      "metadata": {
        "colab_type": "code",
        "id": "civjmdynpGsy",
        "colab": {}
      },
      "cell_type": "code",
      "source": [
        "model_8.compile(Adadelta(lr=1.0, rho=0.95, epsilon=None, decay=0.0), \n",
        "                loss='binary_crossentropy', metrics=['accuracy'])"
      ],
      "execution_count": 0,
      "outputs": []
    },
    {
      "metadata": {
        "colab_type": "text",
        "id": "-jAAeAB5fLmT"
      },
      "cell_type": "markdown",
      "source": [
        "### Treino\n"
      ]
    },
    {
      "metadata": {
        "colab_type": "code",
        "id": "SnKWNlN9fLmt",
        "colab": {}
      },
      "cell_type": "code",
      "source": [
        "model_8.load_weights('drive/My Drive/Resultado/Segmentado/weights_' + architecture + '.hdf5')"
      ],
      "execution_count": 0,
      "outputs": []
    },
    {
      "metadata": {
        "id": "uH2WuIZandxY",
        "colab_type": "code",
        "colab": {}
      },
      "cell_type": "code",
      "source": [
        "models[architecture] = model_8"
      ],
      "execution_count": 0,
      "outputs": []
    },
    {
      "metadata": {
        "colab_type": "text",
        "id": "csBCokNgxgbn"
      },
      "cell_type": "markdown",
      "source": [
        "## 9 tentativa - "
      ]
    },
    {
      "metadata": {
        "colab_type": "text",
        "id": "qLtNH8xk63El"
      },
      "cell_type": "markdown",
      "source": [
        "Modelo adaptado do**Lucas Valentim**\n",
        "\n",
        "*   Função **SGD** para compilação\n"
      ]
    },
    {
      "metadata": {
        "colab_type": "code",
        "id": "474-g6XskHLD",
        "colab": {}
      },
      "cell_type": "code",
      "source": [
        "architecture = 'architecture_9'"
      ],
      "execution_count": 0,
      "outputs": []
    },
    {
      "metadata": {
        "colab_type": "text",
        "id": "Ae5MENvrEYiB"
      },
      "cell_type": "markdown",
      "source": [
        "### Modelo"
      ]
    },
    {
      "metadata": {
        "colab_type": "code",
        "id": "EJjS6pK1xj1f",
        "colab": {}
      },
      "cell_type": "code",
      "source": [
        "from keras.layers import Conv2D, MaxPooling2D, GlobalMaxPooling2D, BatchNormalization\n",
        "from keras.regularizers import l2\n",
        "\n",
        "model_9 = Sequential()\n",
        "\n",
        "model_9.add(Conv2D(32, (3, 3), activation='relu', kernel_regularizer=l2(1e-4), \n",
        "                 input_shape=(None, None, 3)))\n",
        "model_9.add(BatchNormalization())\n",
        "model_9.add(Conv2D(32, (3, 3), activation='relu', kernel_regularizer=l2(1e-4)))\n",
        "model_9.add(BatchNormalization())\n",
        "model_9.add(MaxPooling2D((2, 2)))\n",
        "model_9.add(Dropout(0.25))\n",
        "\n",
        "model_9.add(Conv2D(64, (3, 3), activation='relu', kernel_regularizer=l2(1e-4)))\n",
        "model_9.add(BatchNormalization())\n",
        "model_9.add(Conv2D(64, (3, 3), activation='relu', kernel_regularizer=l2(1e-4)))\n",
        "model_9.add(BatchNormalization())\n",
        "model_9.add(MaxPooling2D((2, 2)))\n",
        "model_9.add(Dropout(0.25))\n",
        "\n",
        "model_9.add(Conv2D(128, (1,1), kernel_regularizer=l2(1e-4)))\n",
        "model_9.add(GlobalMaxPooling2D())\n",
        "\n",
        "model_9.add(Dense(256, activation='relu', kernel_regularizer=l2(1e-4)))\n",
        "model_9.add(Dropout(0.5))\n",
        "model_9.add(Dense(2, activation='sigmoid', kernel_regularizer=l2(1e-4)))"
      ],
      "execution_count": 0,
      "outputs": []
    },
    {
      "metadata": {
        "colab_type": "code",
        "id": "9ezdguEZxsWT",
        "colab": {}
      },
      "cell_type": "code",
      "source": [
        "model_9.compile(SGD(lr=0.03, momentum=0.0, decay=0.0, nesterov=False), \n",
        "              loss='binary_crossentropy', metrics=['accuracy'])"
      ],
      "execution_count": 0,
      "outputs": []
    },
    {
      "metadata": {
        "colab_type": "text",
        "id": "kC1oe1imfOWa"
      },
      "cell_type": "markdown",
      "source": [
        "### Treino\n"
      ]
    },
    {
      "metadata": {
        "colab_type": "code",
        "id": "wvL23UJQfOXB",
        "colab": {}
      },
      "cell_type": "code",
      "source": [
        "model_9.load_weights('drive/My Drive/Resultado/Segmentado/weights_' + architecture + '.hdf5')"
      ],
      "execution_count": 0,
      "outputs": []
    },
    {
      "metadata": {
        "id": "BMWgPAeundx_",
        "colab_type": "code",
        "colab": {}
      },
      "cell_type": "code",
      "source": [
        "models[architecture] = model_9"
      ],
      "execution_count": 0,
      "outputs": []
    },
    {
      "metadata": {
        "colab_type": "text",
        "id": "I_6RPRqZ0ooK"
      },
      "cell_type": "markdown",
      "source": [
        "## 10 tentativa - "
      ]
    },
    {
      "metadata": {
        "colab_type": "text",
        "id": "drBpwd1s7PE3"
      },
      "cell_type": "markdown",
      "source": [
        "Modelo adaptado do **Lucas Valentim**\n",
        "\n",
        "*   Função **adam** para compilação\n",
        "*   Adicionado mais 2 camadas convolutivas"
      ]
    },
    {
      "metadata": {
        "colab_type": "code",
        "id": "7CD_MICYkLAi",
        "colab": {}
      },
      "cell_type": "code",
      "source": [
        "architecture = 'architecture_10'"
      ],
      "execution_count": 0,
      "outputs": []
    },
    {
      "metadata": {
        "colab_type": "text",
        "id": "t3bAAcsqEeAK"
      },
      "cell_type": "markdown",
      "source": [
        "### Modelo"
      ]
    },
    {
      "metadata": {
        "colab_type": "code",
        "id": "6LGTLObK0u-Y",
        "colab": {}
      },
      "cell_type": "code",
      "source": [
        "from keras.layers import Conv2D, MaxPooling2D, GlobalMaxPooling2D, BatchNormalization\n",
        "from keras.regularizers import l2\n",
        "\n",
        "model_10 = Sequential()\n",
        "\n",
        "model_10.add(Conv2D(32, (3, 3), activation='relu', kernel_regularizer=l2(1e-4), \n",
        "                 input_shape=(None, None, 3)))\n",
        "model_10.add(BatchNormalization())\n",
        "model_10.add(Conv2D(32, (3, 3), activation='relu', kernel_regularizer=l2(1e-4)))\n",
        "model_10.add(BatchNormalization())\n",
        "model_10.add(MaxPooling2D((2, 2)))\n",
        "model_10.add(Dropout(0.25))\n",
        "\n",
        "model_10.add(Conv2D(64, (3, 3), activation='relu', kernel_regularizer=l2(1e-4)))\n",
        "model_10.add(BatchNormalization())\n",
        "model_10.add(Conv2D(64, (3, 3), activation='relu', kernel_regularizer=l2(1e-4)))\n",
        "model_10.add(BatchNormalization())\n",
        "model_10.add(MaxPooling2D((2, 2)))\n",
        "model_10.add(Dropout(0.25))\n",
        "\n",
        "model_10.add(Conv2D(96, (3, 3),activation='relu', kernel_regularizer=l2(1e-4)))\n",
        "model_10.add(BatchNormalization())\n",
        "model_10.add(Conv2D(96, (3, 3),activation='relu', kernel_regularizer=l2(1e-4)))\n",
        "model_10.add(BatchNormalization())\n",
        "model_10.add(MaxPooling2D((2, 2)))\n",
        "model_10.add(Dropout(0.25))\n",
        "\n",
        "model_10.add(Conv2D(128, (1,1), kernel_regularizer=l2(1e-4)))\n",
        "model_10.add(GlobalMaxPooling2D())\n",
        "\n",
        "model_10.add(Dense(256, activation='relu', kernel_regularizer=l2(1e-4)))\n",
        "model_10.add(Dropout(0.5))\n",
        "model_10.add(Dense(2, activation='sigmoid', kernel_regularizer=l2(1e-4)))"
      ],
      "execution_count": 0,
      "outputs": []
    },
    {
      "metadata": {
        "colab_type": "code",
        "id": "vB92aUkR0u-p",
        "colab": {}
      },
      "cell_type": "code",
      "source": [
        "model_10.compile(optimizer='adam', loss='binary_crossentropy', metrics=['accuracy'])"
      ],
      "execution_count": 0,
      "outputs": []
    },
    {
      "metadata": {
        "colab_type": "text",
        "id": "-OkP3ApOfQFL"
      },
      "cell_type": "markdown",
      "source": [
        "### Treino\n"
      ]
    },
    {
      "metadata": {
        "colab_type": "code",
        "id": "WYriaNfVfQFi",
        "colab": {}
      },
      "cell_type": "code",
      "source": [
        "model_10.load_weights('drive/My Drive/Resultado/Segmentado/weights_' + architecture + '.hdf5')"
      ],
      "execution_count": 0,
      "outputs": []
    },
    {
      "metadata": {
        "id": "kED7q_iondyV",
        "colab_type": "code",
        "colab": {}
      },
      "cell_type": "code",
      "source": [
        "models[architecture] = model_10"
      ],
      "execution_count": 0,
      "outputs": []
    },
    {
      "metadata": {
        "colab_type": "text",
        "id": "t-JuICq46CWp"
      },
      "cell_type": "markdown",
      "source": [
        "## 11 tentativa - "
      ]
    },
    {
      "metadata": {
        "colab_type": "text",
        "id": "MdaiMXVY8RWc"
      },
      "cell_type": "markdown",
      "source": [
        "Modelo adaptado do **Lucas Valentim**\n",
        "\n",
        "*   Função **SGD** para compilação\n",
        "*   Adicionado mais 2 camadas convolutivas"
      ]
    },
    {
      "metadata": {
        "colab_type": "code",
        "id": "oGVeMLcZkPCr",
        "colab": {}
      },
      "cell_type": "code",
      "source": [
        "architecture = 'architecture_11'"
      ],
      "execution_count": 0,
      "outputs": []
    },
    {
      "metadata": {
        "colab_type": "text",
        "id": "JpeFBqRcElIh"
      },
      "cell_type": "markdown",
      "source": [
        "### Modelo"
      ]
    },
    {
      "metadata": {
        "colab_type": "code",
        "id": "vLy1nlhs6HHL",
        "colab": {}
      },
      "cell_type": "code",
      "source": [
        "from keras.layers import Conv2D, MaxPooling2D, GlobalMaxPooling2D, BatchNormalization\n",
        "from keras.regularizers import l2\n",
        "\n",
        "model_11 = Sequential()\n",
        "\n",
        "model_11.add(Conv2D(32, (3, 3), activation='relu', kernel_regularizer=l2(1e-4), \n",
        "                 input_shape=(None, None, 3)))\n",
        "model_11.add(BatchNormalization())\n",
        "model_11.add(Conv2D(32, (3, 3), activation='relu', kernel_regularizer=l2(1e-4)))\n",
        "model_11.add(BatchNormalization())\n",
        "model_11.add(MaxPooling2D((2, 2)))\n",
        "model_11.add(Dropout(0.25))\n",
        "\n",
        "model_11.add(Conv2D(64, (3, 3), activation='relu', kernel_regularizer=l2(1e-4)))\n",
        "model_11.add(BatchNormalization())\n",
        "model_11.add(Conv2D(64, (3, 3), activation='relu', kernel_regularizer=l2(1e-4)))\n",
        "model_11.add(BatchNormalization())\n",
        "model_11.add(MaxPooling2D((2, 2)))\n",
        "model_11.add(Dropout(0.25))\n",
        "\n",
        "model_11.add(Conv2D(96, (3, 3),activation='relu', kernel_regularizer=l2(1e-4)))\n",
        "model_11.add(BatchNormalization())\n",
        "model_11.add(Conv2D(96, (3, 3),activation='relu', kernel_regularizer=l2(1e-4)))\n",
        "model_11.add(BatchNormalization())\n",
        "model_11.add(MaxPooling2D((2, 2)))\n",
        "model_11.add(Dropout(0.25))\n",
        "\n",
        "model_11.add(Conv2D(128, (1,1), kernel_regularizer=l2(1e-4)))\n",
        "model_11.add(GlobalMaxPooling2D())\n",
        "\n",
        "model_11.add(Dense(256, activation='relu', kernel_regularizer=l2(1e-4)))\n",
        "model_11.add(Dropout(0.5))\n",
        "model_11.add(Dense(2, activation='sigmoid', kernel_regularizer=l2(1e-4)))"
      ],
      "execution_count": 0,
      "outputs": []
    },
    {
      "metadata": {
        "colab_type": "code",
        "id": "QKpy_s8Z6HHZ",
        "colab": {}
      },
      "cell_type": "code",
      "source": [
        "model_11.compile(SGD(lr=0.01, momentum=0.0, decay=0.0, nesterov=False), \n",
        "              loss='binary_crossentropy', metrics=['accuracy'])"
      ],
      "execution_count": 0,
      "outputs": []
    },
    {
      "metadata": {
        "colab_type": "text",
        "id": "RJCQ22EsfR5d"
      },
      "cell_type": "markdown",
      "source": [
        "### Treino\n"
      ]
    },
    {
      "metadata": {
        "colab_type": "code",
        "id": "uNkmNZeVfR6A",
        "colab": {}
      },
      "cell_type": "code",
      "source": [
        "model_11.load_weights('drive/My Drive/Resultado/Segmentado/weights_' + architecture + '.hdf5')"
      ],
      "execution_count": 0,
      "outputs": []
    },
    {
      "metadata": {
        "id": "ElGEdmXTndyk",
        "colab_type": "code",
        "colab": {}
      },
      "cell_type": "code",
      "source": [
        "models[architecture] = model_11"
      ],
      "execution_count": 0,
      "outputs": []
    },
    {
      "metadata": {
        "colab_type": "text",
        "id": "26BCkdp9MAna"
      },
      "cell_type": "markdown",
      "source": [
        "## 12 tentativa - "
      ]
    },
    {
      "metadata": {
        "colab_type": "text",
        "id": "MLvKG40a84F9"
      },
      "cell_type": "markdown",
      "source": [
        "Modelo adaptado do **Lucas Valentim**\n",
        "\n",
        "*   Sem utilização das funções de regularização\n",
        "*   Função **SGD** para compilação\n",
        "*   Adicionado mais 2 camadas convolutivas"
      ]
    },
    {
      "metadata": {
        "colab_type": "code",
        "id": "-_TE6KwakRoT",
        "colab": {}
      },
      "cell_type": "code",
      "source": [
        "architecture = 'architecture_12'"
      ],
      "execution_count": 0,
      "outputs": []
    },
    {
      "metadata": {
        "colab_type": "text",
        "id": "Re-dc0YXEr3p"
      },
      "cell_type": "markdown",
      "source": [
        "### Modelo"
      ]
    },
    {
      "metadata": {
        "colab_type": "code",
        "id": "9LrDSy5AMFDO",
        "colab": {}
      },
      "cell_type": "code",
      "source": [
        "from keras.layers import Conv2D, MaxPooling2D, GlobalMaxPooling2D, BatchNormalization\n",
        "from keras.regularizers import l2\n",
        "\n",
        "model_12 = Sequential()\n",
        "\n",
        "model_12.add(Conv2D(32, (3, 3), activation='relu',input_shape=(None, None, 3)))\n",
        "model_12.add(BatchNormalization())\n",
        "model_12.add(Conv2D(32, (3, 3), activation='relu'))\n",
        "model_12.add(BatchNormalization())\n",
        "model_12.add(MaxPooling2D((2, 2)))\n",
        "model_12.add(Dropout(0.25))\n",
        "\n",
        "model_12.add(Conv2D(64, (3, 3), activation='relu'))\n",
        "model_12.add(BatchNormalization())\n",
        "model_12.add(Conv2D(64, (3, 3), activation='relu'))\n",
        "model_12.add(BatchNormalization())\n",
        "model_12.add(MaxPooling2D((2, 2)))\n",
        "model_12.add(Dropout(0.25))\n",
        "\n",
        "model_12.add(Conv2D(96, (3, 3),activation='relu'))\n",
        "model_12.add(BatchNormalization())\n",
        "model_12.add(Conv2D(96, (3, 3),activation='relu'))\n",
        "model_12.add(BatchNormalization())\n",
        "model_12.add(MaxPooling2D((2, 2)))\n",
        "model_12.add(Dropout(0.25))\n",
        "\n",
        "model_12.add(Conv2D(128, (1,1)))\n",
        "model_12.add(GlobalMaxPooling2D())\n",
        "\n",
        "model_12.add(Dense(256, activation='relu'))\n",
        "model_12.add(Dropout(0.5))\n",
        "model_12.add(Dense(2, activation='sigmoid'))"
      ],
      "execution_count": 0,
      "outputs": []
    },
    {
      "metadata": {
        "colab_type": "code",
        "id": "EUZ-2eyUMSxQ",
        "colab": {}
      },
      "cell_type": "code",
      "source": [
        "model_12.compile(SGD(lr=0.01, momentum=0.0, decay=0.0, nesterov=False), \n",
        "                loss='binary_crossentropy', metrics=['accuracy'])"
      ],
      "execution_count": 0,
      "outputs": []
    },
    {
      "metadata": {
        "colab_type": "text",
        "id": "vYNKNJDJfTu7"
      },
      "cell_type": "markdown",
      "source": [
        "### Treino\n"
      ]
    },
    {
      "metadata": {
        "colab_type": "code",
        "id": "7zELpFQefTvi",
        "colab": {}
      },
      "cell_type": "code",
      "source": [
        "model_12.load_weights('drive/My Drive/Resultado/Segmentado/weights_' + architecture + '.hdf5')"
      ],
      "execution_count": 0,
      "outputs": []
    },
    {
      "metadata": {
        "id": "q_EEnBGIndy2",
        "colab_type": "code",
        "colab": {}
      },
      "cell_type": "code",
      "source": [
        "models[architecture] = model_12"
      ],
      "execution_count": 0,
      "outputs": []
    },
    {
      "metadata": {
        "colab_type": "text",
        "id": "Un9HtbTIqkXS"
      },
      "cell_type": "markdown",
      "source": [
        "## 13 tentativa - "
      ]
    },
    {
      "metadata": {
        "colab_type": "text",
        "id": "HNDvvOwsqkXW"
      },
      "cell_type": "markdown",
      "source": [
        "Modelo adaptado do **Lucas Valentim**\n",
        "\n",
        "*   Utilizado outra função de normalização, diferente da utilizada por ele."
      ]
    },
    {
      "metadata": {
        "colab_type": "code",
        "id": "_lp8G0SCqkXt",
        "colab": {}
      },
      "cell_type": "code",
      "source": [
        "architecture = 'architecture_13'"
      ],
      "execution_count": 0,
      "outputs": []
    },
    {
      "metadata": {
        "colab_type": "text",
        "id": "5PdHZAGMEybs"
      },
      "cell_type": "markdown",
      "source": [
        "### Modelo"
      ]
    },
    {
      "metadata": {
        "colab_type": "code",
        "id": "iTG2TFqBqkXa",
        "colab": {}
      },
      "cell_type": "code",
      "source": [
        "from keras.layers import Conv2D, MaxPooling2D, GlobalMaxPooling2D, BatchNormalization\n",
        "from keras.regularizers import l2\n",
        "\n",
        "model_13 = Sequential()\n",
        "\n",
        "model_13.add(Conv2D(32, (3, 3), activation='relu',input_shape=(None, None, 3)))\n",
        "model_13.add(MaxPooling2D((2, 2)))\n",
        "model_13.add(BatchNormalization())\n",
        "model_13.add(Dropout(0.25))\n",
        "\n",
        "model_13.add(Conv2D(64, (5, 5), activation='relu'))\n",
        "model_13.add(MaxPooling2D((2, 2)))\n",
        "model_13.add(BatchNormalization())\n",
        "model_13.add(Dropout(0.25))\n",
        "\n",
        "model_13.add(Conv2D(128, (7, 7),activation='relu'))\n",
        "model_13.add(MaxPooling2D((2, 2)))\n",
        "model_13.add(BatchNormalization())\n",
        "model_13.add(Dropout(0.25))\n",
        "\n",
        "model_13.add(Conv2D(128, (1,1)))\n",
        "model_13.add(GlobalMaxPooling2D())\n",
        "\n",
        "model_13.add(Dense(256, activation='relu'))\n",
        "model_13.add(Dropout(0.5))\n",
        "model_13.add(Dense(2, activation='sigmoid'))"
      ],
      "execution_count": 0,
      "outputs": []
    },
    {
      "metadata": {
        "colab_type": "code",
        "id": "xbd43caBqkXj",
        "colab": {}
      },
      "cell_type": "code",
      "source": [
        "model_13.compile(optimizer='adam', loss='binary_crossentropy', metrics=['accuracy'])"
      ],
      "execution_count": 0,
      "outputs": []
    },
    {
      "metadata": {
        "colab_type": "text",
        "id": "31xDyZpCfVhb"
      },
      "cell_type": "markdown",
      "source": [
        "### Treino\n"
      ]
    },
    {
      "metadata": {
        "colab_type": "code",
        "id": "LKBRV6o1fVh0",
        "colab": {}
      },
      "cell_type": "code",
      "source": [
        "model_13.load_weights('drive/My Drive/Resultado/Segmentado/weights_' + architecture + '.hdf5')"
      ],
      "execution_count": 0,
      "outputs": []
    },
    {
      "metadata": {
        "id": "bbQPoO1endzB",
        "colab_type": "code",
        "colab": {}
      },
      "cell_type": "code",
      "source": [
        "models[architecture] = model_13"
      ],
      "execution_count": 0,
      "outputs": []
    },
    {
      "metadata": {
        "id": "VQ1FOw8VndzF",
        "colab_type": "text"
      },
      "cell_type": "markdown",
      "source": [
        "# PyPeln"
      ]
    },
    {
      "metadata": {
        "id": "Mnnsz61SndzG",
        "colab_type": "code",
        "colab": {
          "base_uri": "https://localhost:8080/",
          "height": 1017
        },
        "outputId": "838ef49d-8c2a-4fb0-b655-02a955827728"
      },
      "cell_type": "code",
      "source": [
        "import pypeln\n",
        "from pypeln import process as pr\n",
        "from pypeln import thread as th\n",
        "\n",
        "data = models.items()\n",
        "# data = th.map(ler_images_teste, data, workers = 13)\n",
        "data = pr.map(ler_images_teste, data, workers = 2, maxsize = 13)\n",
        "result = list(data)\n",
        "\n",
        "for architecture, mAP_values_total in result:\n",
        "    print(architecture, mAP_values_total)"
      ],
      "execution_count": 179,
      "outputs": [
        {
          "output_type": "error",
          "ename": "FileNotFoundError",
          "evalue": "ignored",
          "traceback": [
            "\u001b[0;31m---------------------------------------------------------------------------\u001b[0m",
            "\u001b[0;31mFileNotFoundError\u001b[0m                         Traceback (most recent call last)",
            "\u001b[0;32m<ipython-input-179-02390c89ffe1>\u001b[0m in \u001b[0;36m<module>\u001b[0;34m()\u001b[0m\n\u001b[1;32m      6\u001b[0m \u001b[0;31m# data = th.map(ler_images_teste, data, workers = 13)\u001b[0m\u001b[0;34m\u001b[0m\u001b[0;34m\u001b[0m\u001b[0;34m\u001b[0m\u001b[0m\n\u001b[1;32m      7\u001b[0m \u001b[0mdata\u001b[0m \u001b[0;34m=\u001b[0m \u001b[0mpr\u001b[0m\u001b[0;34m.\u001b[0m\u001b[0mmap\u001b[0m\u001b[0;34m(\u001b[0m\u001b[0mler_images_teste\u001b[0m\u001b[0;34m,\u001b[0m \u001b[0mdata\u001b[0m\u001b[0;34m,\u001b[0m \u001b[0mworkers\u001b[0m \u001b[0;34m=\u001b[0m \u001b[0;36m2\u001b[0m\u001b[0;34m,\u001b[0m \u001b[0mmaxsize\u001b[0m \u001b[0;34m=\u001b[0m \u001b[0;36m13\u001b[0m\u001b[0;34m)\u001b[0m\u001b[0;34m\u001b[0m\u001b[0;34m\u001b[0m\u001b[0m\n\u001b[0;32m----> 8\u001b[0;31m \u001b[0mresult\u001b[0m \u001b[0;34m=\u001b[0m \u001b[0mlist\u001b[0m\u001b[0;34m(\u001b[0m\u001b[0mdata\u001b[0m\u001b[0;34m)\u001b[0m\u001b[0;34m\u001b[0m\u001b[0;34m\u001b[0m\u001b[0m\n\u001b[0m\u001b[1;32m      9\u001b[0m \u001b[0;34m\u001b[0m\u001b[0m\n\u001b[1;32m     10\u001b[0m \u001b[0;32mfor\u001b[0m \u001b[0marchitecture\u001b[0m\u001b[0;34m,\u001b[0m \u001b[0mmAP_values_total\u001b[0m \u001b[0;32min\u001b[0m \u001b[0mresult\u001b[0m\u001b[0;34m:\u001b[0m\u001b[0;34m\u001b[0m\u001b[0;34m\u001b[0m\u001b[0m\n",
            "\u001b[0;32m/usr/local/lib/python3.6/dist-packages/pypeln/process.py\u001b[0m in \u001b[0;36m_to_iterable\u001b[0;34m(stage, maxsize)\u001b[0m\n\u001b[1;32m    815\u001b[0m \u001b[0;32mdef\u001b[0m \u001b[0m_to_iterable\u001b[0m\u001b[0;34m(\u001b[0m\u001b[0mstage\u001b[0m\u001b[0;34m,\u001b[0m \u001b[0mmaxsize\u001b[0m\u001b[0;34m)\u001b[0m\u001b[0;34m:\u001b[0m\u001b[0;34m\u001b[0m\u001b[0;34m\u001b[0m\u001b[0m\n\u001b[1;32m    816\u001b[0m \u001b[0;34m\u001b[0m\u001b[0m\n\u001b[0;32m--> 817\u001b[0;31m     \u001b[0mpipeline_namespace\u001b[0m \u001b[0;34m=\u001b[0m \u001b[0m_get_namespace\u001b[0m\u001b[0;34m(\u001b[0m\u001b[0;34m)\u001b[0m\u001b[0;34m\u001b[0m\u001b[0;34m\u001b[0m\u001b[0m\n\u001b[0m\u001b[1;32m    818\u001b[0m     \u001b[0mpipeline_namespace\u001b[0m\u001b[0;34m.\u001b[0m\u001b[0merror\u001b[0m \u001b[0;34m=\u001b[0m \u001b[0;32mFalse\u001b[0m\u001b[0;34m\u001b[0m\u001b[0;34m\u001b[0m\u001b[0m\n\u001b[1;32m    819\u001b[0m     \u001b[0mpipeline_error_queue\u001b[0m \u001b[0;34m=\u001b[0m \u001b[0mQueue\u001b[0m\u001b[0;34m(\u001b[0m\u001b[0;34m)\u001b[0m\u001b[0;34m\u001b[0m\u001b[0;34m\u001b[0m\u001b[0m\n",
            "\u001b[0;32m/usr/local/lib/python3.6/dist-packages/pypeln/process.py\u001b[0m in \u001b[0;36m_get_namespace\u001b[0;34m()\u001b[0m\n\u001b[1;32m    134\u001b[0m \u001b[0;34m\u001b[0m\u001b[0m\n\u001b[1;32m    135\u001b[0m \u001b[0;32mdef\u001b[0m \u001b[0m_get_namespace\u001b[0m\u001b[0;34m(\u001b[0m\u001b[0;34m)\u001b[0m\u001b[0;34m:\u001b[0m\u001b[0;34m\u001b[0m\u001b[0;34m\u001b[0m\u001b[0m\n\u001b[0;32m--> 136\u001b[0;31m     \u001b[0;32mreturn\u001b[0m \u001b[0m_MANAGER\u001b[0m\u001b[0;34m.\u001b[0m\u001b[0mNamespace\u001b[0m\u001b[0;34m(\u001b[0m\u001b[0;34m)\u001b[0m\u001b[0;34m\u001b[0m\u001b[0;34m\u001b[0m\u001b[0m\n\u001b[0m\u001b[1;32m    137\u001b[0m \u001b[0;34m\u001b[0m\u001b[0m\n\u001b[1;32m    138\u001b[0m \u001b[0;31m#############\u001b[0m\u001b[0;34m\u001b[0m\u001b[0;34m\u001b[0m\u001b[0;34m\u001b[0m\u001b[0m\n",
            "\u001b[0;32m/usr/lib/python3.6/multiprocessing/managers.py\u001b[0m in \u001b[0;36mtemp\u001b[0;34m(self, *args, **kwds)\u001b[0m\n\u001b[1;32m    660\u001b[0m             \u001b[0;32mdef\u001b[0m \u001b[0mtemp\u001b[0m\u001b[0;34m(\u001b[0m\u001b[0mself\u001b[0m\u001b[0;34m,\u001b[0m \u001b[0;34m*\u001b[0m\u001b[0margs\u001b[0m\u001b[0;34m,\u001b[0m \u001b[0;34m**\u001b[0m\u001b[0mkwds\u001b[0m\u001b[0;34m)\u001b[0m\u001b[0;34m:\u001b[0m\u001b[0;34m\u001b[0m\u001b[0;34m\u001b[0m\u001b[0m\n\u001b[1;32m    661\u001b[0m                 \u001b[0mutil\u001b[0m\u001b[0;34m.\u001b[0m\u001b[0mdebug\u001b[0m\u001b[0;34m(\u001b[0m\u001b[0;34m'requesting creation of a shared %r object'\u001b[0m\u001b[0;34m,\u001b[0m \u001b[0mtypeid\u001b[0m\u001b[0;34m)\u001b[0m\u001b[0;34m\u001b[0m\u001b[0;34m\u001b[0m\u001b[0m\n\u001b[0;32m--> 662\u001b[0;31m                 \u001b[0mtoken\u001b[0m\u001b[0;34m,\u001b[0m \u001b[0mexp\u001b[0m \u001b[0;34m=\u001b[0m \u001b[0mself\u001b[0m\u001b[0;34m.\u001b[0m\u001b[0m_create\u001b[0m\u001b[0;34m(\u001b[0m\u001b[0mtypeid\u001b[0m\u001b[0;34m,\u001b[0m \u001b[0;34m*\u001b[0m\u001b[0margs\u001b[0m\u001b[0;34m,\u001b[0m \u001b[0;34m**\u001b[0m\u001b[0mkwds\u001b[0m\u001b[0;34m)\u001b[0m\u001b[0;34m\u001b[0m\u001b[0;34m\u001b[0m\u001b[0m\n\u001b[0m\u001b[1;32m    663\u001b[0m                 proxy = proxytype(\n\u001b[1;32m    664\u001b[0m                     \u001b[0mtoken\u001b[0m\u001b[0;34m,\u001b[0m \u001b[0mself\u001b[0m\u001b[0;34m.\u001b[0m\u001b[0m_serializer\u001b[0m\u001b[0;34m,\u001b[0m \u001b[0mmanager\u001b[0m\u001b[0;34m=\u001b[0m\u001b[0mself\u001b[0m\u001b[0;34m,\u001b[0m\u001b[0;34m\u001b[0m\u001b[0;34m\u001b[0m\u001b[0m\n",
            "\u001b[0;32m/usr/lib/python3.6/multiprocessing/managers.py\u001b[0m in \u001b[0;36m_create\u001b[0;34m(self, typeid, *args, **kwds)\u001b[0m\n\u001b[1;32m    552\u001b[0m         '''\n\u001b[1;32m    553\u001b[0m         \u001b[0;32massert\u001b[0m \u001b[0mself\u001b[0m\u001b[0;34m.\u001b[0m\u001b[0m_state\u001b[0m\u001b[0;34m.\u001b[0m\u001b[0mvalue\u001b[0m \u001b[0;34m==\u001b[0m \u001b[0mState\u001b[0m\u001b[0;34m.\u001b[0m\u001b[0mSTARTED\u001b[0m\u001b[0;34m,\u001b[0m \u001b[0;34m'server not yet started'\u001b[0m\u001b[0;34m\u001b[0m\u001b[0;34m\u001b[0m\u001b[0m\n\u001b[0;32m--> 554\u001b[0;31m         \u001b[0mconn\u001b[0m \u001b[0;34m=\u001b[0m \u001b[0mself\u001b[0m\u001b[0;34m.\u001b[0m\u001b[0m_Client\u001b[0m\u001b[0;34m(\u001b[0m\u001b[0mself\u001b[0m\u001b[0;34m.\u001b[0m\u001b[0m_address\u001b[0m\u001b[0;34m,\u001b[0m \u001b[0mauthkey\u001b[0m\u001b[0;34m=\u001b[0m\u001b[0mself\u001b[0m\u001b[0;34m.\u001b[0m\u001b[0m_authkey\u001b[0m\u001b[0;34m)\u001b[0m\u001b[0;34m\u001b[0m\u001b[0;34m\u001b[0m\u001b[0m\n\u001b[0m\u001b[1;32m    555\u001b[0m         \u001b[0;32mtry\u001b[0m\u001b[0;34m:\u001b[0m\u001b[0;34m\u001b[0m\u001b[0;34m\u001b[0m\u001b[0m\n\u001b[1;32m    556\u001b[0m             \u001b[0mid\u001b[0m\u001b[0;34m,\u001b[0m \u001b[0mexposed\u001b[0m \u001b[0;34m=\u001b[0m \u001b[0mdispatch\u001b[0m\u001b[0;34m(\u001b[0m\u001b[0mconn\u001b[0m\u001b[0;34m,\u001b[0m \u001b[0;32mNone\u001b[0m\u001b[0;34m,\u001b[0m \u001b[0;34m'create'\u001b[0m\u001b[0;34m,\u001b[0m \u001b[0;34m(\u001b[0m\u001b[0mtypeid\u001b[0m\u001b[0;34m,\u001b[0m\u001b[0;34m)\u001b[0m\u001b[0;34m+\u001b[0m\u001b[0margs\u001b[0m\u001b[0;34m,\u001b[0m \u001b[0mkwds\u001b[0m\u001b[0;34m)\u001b[0m\u001b[0;34m\u001b[0m\u001b[0;34m\u001b[0m\u001b[0m\n",
            "\u001b[0;32m/usr/lib/python3.6/multiprocessing/connection.py\u001b[0m in \u001b[0;36mClient\u001b[0;34m(address, family, authkey)\u001b[0m\n\u001b[1;32m    485\u001b[0m         \u001b[0mc\u001b[0m \u001b[0;34m=\u001b[0m \u001b[0mPipeClient\u001b[0m\u001b[0;34m(\u001b[0m\u001b[0maddress\u001b[0m\u001b[0;34m)\u001b[0m\u001b[0;34m\u001b[0m\u001b[0;34m\u001b[0m\u001b[0m\n\u001b[1;32m    486\u001b[0m     \u001b[0;32melse\u001b[0m\u001b[0;34m:\u001b[0m\u001b[0;34m\u001b[0m\u001b[0;34m\u001b[0m\u001b[0m\n\u001b[0;32m--> 487\u001b[0;31m         \u001b[0mc\u001b[0m \u001b[0;34m=\u001b[0m \u001b[0mSocketClient\u001b[0m\u001b[0;34m(\u001b[0m\u001b[0maddress\u001b[0m\u001b[0;34m)\u001b[0m\u001b[0;34m\u001b[0m\u001b[0;34m\u001b[0m\u001b[0m\n\u001b[0m\u001b[1;32m    488\u001b[0m \u001b[0;34m\u001b[0m\u001b[0m\n\u001b[1;32m    489\u001b[0m     \u001b[0;32mif\u001b[0m \u001b[0mauthkey\u001b[0m \u001b[0;32mis\u001b[0m \u001b[0;32mnot\u001b[0m \u001b[0;32mNone\u001b[0m \u001b[0;32mand\u001b[0m \u001b[0;32mnot\u001b[0m \u001b[0misinstance\u001b[0m\u001b[0;34m(\u001b[0m\u001b[0mauthkey\u001b[0m\u001b[0;34m,\u001b[0m \u001b[0mbytes\u001b[0m\u001b[0;34m)\u001b[0m\u001b[0;34m:\u001b[0m\u001b[0;34m\u001b[0m\u001b[0;34m\u001b[0m\u001b[0m\n",
            "\u001b[0;32m/usr/lib/python3.6/multiprocessing/connection.py\u001b[0m in \u001b[0;36mSocketClient\u001b[0;34m(address)\u001b[0m\n\u001b[1;32m    612\u001b[0m     \u001b[0;32mwith\u001b[0m \u001b[0msocket\u001b[0m\u001b[0;34m.\u001b[0m\u001b[0msocket\u001b[0m\u001b[0;34m(\u001b[0m \u001b[0mgetattr\u001b[0m\u001b[0;34m(\u001b[0m\u001b[0msocket\u001b[0m\u001b[0;34m,\u001b[0m \u001b[0mfamily\u001b[0m\u001b[0;34m)\u001b[0m \u001b[0;34m)\u001b[0m \u001b[0;32mas\u001b[0m \u001b[0ms\u001b[0m\u001b[0;34m:\u001b[0m\u001b[0;34m\u001b[0m\u001b[0;34m\u001b[0m\u001b[0m\n\u001b[1;32m    613\u001b[0m         \u001b[0ms\u001b[0m\u001b[0;34m.\u001b[0m\u001b[0msetblocking\u001b[0m\u001b[0;34m(\u001b[0m\u001b[0;32mTrue\u001b[0m\u001b[0;34m)\u001b[0m\u001b[0;34m\u001b[0m\u001b[0;34m\u001b[0m\u001b[0m\n\u001b[0;32m--> 614\u001b[0;31m         \u001b[0ms\u001b[0m\u001b[0;34m.\u001b[0m\u001b[0mconnect\u001b[0m\u001b[0;34m(\u001b[0m\u001b[0maddress\u001b[0m\u001b[0;34m)\u001b[0m\u001b[0;34m\u001b[0m\u001b[0;34m\u001b[0m\u001b[0m\n\u001b[0m\u001b[1;32m    615\u001b[0m         \u001b[0;32mreturn\u001b[0m \u001b[0mConnection\u001b[0m\u001b[0;34m(\u001b[0m\u001b[0ms\u001b[0m\u001b[0;34m.\u001b[0m\u001b[0mdetach\u001b[0m\u001b[0;34m(\u001b[0m\u001b[0;34m)\u001b[0m\u001b[0;34m)\u001b[0m\u001b[0;34m\u001b[0m\u001b[0;34m\u001b[0m\u001b[0m\n\u001b[1;32m    616\u001b[0m \u001b[0;34m\u001b[0m\u001b[0m\n",
            "\u001b[0;31mFileNotFoundError\u001b[0m: [Errno 2] No such file or directory"
          ]
        }
      ]
    }
  ]
}