{
  "nbformat": 4,
  "nbformat_minor": 0,
  "metadata": {
    "colab": {
      "name": "TesteRedes.ipynb",
      "version": "0.3.2",
      "provenance": [],
      "toc_visible": true,
      "include_colab_link": true
    },
    "kernelspec": {
      "name": "python3",
      "display_name": "Python 3"
    },
    "accelerator": "GPU"
  },
  "cells": [
    {
      "cell_type": "markdown",
      "metadata": {
        "id": "view-in-github",
        "colab_type": "text"
      },
      "source": [
        "<a href=\"https://colab.research.google.com/github/FernandaSzAdr/KNN_cromossome/blob/master/TesteRedes.ipynb\" target=\"_parent\"><img src=\"https://colab.research.google.com/assets/colab-badge.svg\" alt=\"Open In Colab\"/></a>"
      ]
    },
    {
      "metadata": {
        "id": "KpoFwwKru7O6",
        "colab_type": "code",
        "outputId": "e8ca2020-63ff-4944-b552-35e77371e6d5",
        "colab": {
          "base_uri": "https://localhost:8080/",
          "height": 35
        }
      },
      "cell_type": "code",
      "source": [
        "import tensorflow as tf\n",
        "device_name = tf.test.gpu_device_name()\n",
        "if device_name != '/device:GPU:0':\n",
        "  raise SystemError('GPU device not found')\n",
        "print('Found GPU at: {}'.format(device_name))"
      ],
      "execution_count": 0,
      "outputs": [
        {
          "output_type": "stream",
          "text": [
            "Found GPU at: /device:GPU:0\n"
          ],
          "name": "stdout"
        }
      ]
    },
    {
      "metadata": {
        "id": "yIYeoR1DzzZL",
        "colab_type": "code",
        "outputId": "426a5806-5610-4381-f8dc-f3a210959a3e",
        "colab": {
          "base_uri": "https://localhost:8080/",
          "height": 147
        }
      },
      "cell_type": "code",
      "source": [
        "# memory footprint support libraries/code\n",
        "!ln -sf /opt/bin/nvidia-smi /usr/bin/nvidia-smi\n",
        "!pip install gputil\n",
        "!pip install psutil\n",
        "!pip install humanize\n",
        "import psutil\n",
        "import humanize\n",
        "import os\n",
        "import GPUtil as GPU\n",
        "GPUs = GPU.getGPUs()\n",
        "# XXX: only one GPU on Colab and isn’t guaranteed\n",
        "gpu = GPUs[0]\n",
        "def printm():\n",
        " process = psutil.Process(os.getpid())\n",
        " print(\"Gen RAM Free: \" + humanize.naturalsize( psutil.virtual_memory().available ), \" | Proc size: \" + humanize.naturalsize( process.memory_info().rss))\n",
        " print(\"GPU RAM Free: {0:.0f}MB | Used: {1:.0f}MB | Util {2:3.0f}% | Total {3:.0f}MB\".format(gpu.memoryFree, gpu.memoryUsed, gpu.memoryUtil*100, gpu.memoryTotal))\n",
        "printm()"
      ],
      "execution_count": 0,
      "outputs": [
        {
          "output_type": "stream",
          "text": [
            "Requirement already satisfied: gputil in /usr/local/lib/python3.6/dist-packages (1.3.0)\n",
            "Requirement already satisfied: numpy in /usr/local/lib/python3.6/dist-packages (from gputil) (1.14.6)\n",
            "Requirement already satisfied: psutil in /usr/local/lib/python3.6/dist-packages (5.4.7)\n",
            "Requirement already satisfied: humanize in /usr/local/lib/python3.6/dist-packages (0.5.1)\n",
            "Gen RAM Free: 12.4 GB  | Proc size: 665.3 MB\n",
            "GPU RAM Free: 11325MB | Used: 116MB | Util   1% | Total 11441MB\n"
          ],
          "name": "stdout"
        }
      ]
    },
    {
      "metadata": {
        "id": "xN-oUTtcif3Q",
        "colab_type": "code",
        "outputId": "8f26c11c-c393-49a9-93e5-88bdb36b7051",
        "colab": {
          "base_uri": "https://localhost:8080/",
          "height": 122
        }
      },
      "cell_type": "code",
      "source": [
        "# Load the Drive helper and mount\n",
        "from google.colab import drive\n",
        "\n",
        "# This will prompt for authorization.\n",
        "drive.mount('/content/drive/')"
      ],
      "execution_count": 0,
      "outputs": [
        {
          "output_type": "stream",
          "text": [
            "Go to this URL in a browser: https://accounts.google.com/o/oauth2/auth?client_id=947318989803-6bn6qk8qdgf4n4g3pfee6491hc0brc4i.apps.googleusercontent.com&redirect_uri=urn%3Aietf%3Awg%3Aoauth%3A2.0%3Aoob&scope=email%20https%3A%2F%2Fwww.googleapis.com%2Fauth%2Fdocs.test%20https%3A%2F%2Fwww.googleapis.com%2Fauth%2Fdrive%20https%3A%2F%2Fwww.googleapis.com%2Fauth%2Fdrive.photos.readonly%20https%3A%2F%2Fwww.googleapis.com%2Fauth%2Fpeopleapi.readonly&response_type=code\n",
            "\n",
            "Enter your authorization code:\n",
            "··········\n",
            "Mounted at /content/drive/\n"
          ],
          "name": "stdout"
        }
      ]
    },
    {
      "metadata": {
        "id": "gzcuEGSklnwS",
        "colab_type": "code",
        "outputId": "3b941eae-3b18-46d3-9f44-067c67d8b774",
        "colab": {
          "base_uri": "https://localhost:8080/",
          "height": 34
        }
      },
      "cell_type": "code",
      "source": [
        "import numpy as np\n",
        "import keras\n",
        "from keras import backend as K\n",
        "from keras.models import Sequential\n",
        "from keras.layers import Activation\n",
        "from keras.optimizers import SGD\n",
        "from keras.layers.core import Dense, Flatten, Dropout\n",
        "from keras.preprocessing.image import ImageDataGenerator\n",
        "from keras.layers.normalization import BatchNormalization\n",
        "from keras.layers.convolutional import *\n",
        "from keras.callbacks import ModelCheckpoint\n",
        "from matplotlib import pyplot as plt\n",
        "from sklearn.metrics import confusion_matrix\n",
        "import itertools\n",
        "import matplotlib.pyplot as plt"
      ],
      "execution_count": 0,
      "outputs": [
        {
          "output_type": "stream",
          "text": [
            "Using TensorFlow backend.\n"
          ],
          "name": "stderr"
        }
      ]
    },
    {
      "metadata": {
        "id": "ITtEfxrilym7",
        "colab_type": "code",
        "colab": {}
      },
      "cell_type": "code",
      "source": [
        "train_path = 'drive/My Drive/Base_CNN/Train'\n",
        "test_path = 'drive/My Drive/Base_CNN/Test'\n",
        "validation_path = 'drive/My Drive/Base_CNN/Validation'"
      ],
      "execution_count": 0,
      "outputs": []
    },
    {
      "metadata": {
        "id": "WlPBqB_v3x2A",
        "colab_type": "text"
      },
      "cell_type": "markdown",
      "source": [
        "\n",
        "\n",
        "---\n",
        "\n"
      ]
    },
    {
      "metadata": {
        "id": "8KTtm8K7qg1n",
        "colab_type": "text"
      },
      "cell_type": "markdown",
      "source": [
        "## Implementação"
      ]
    },
    {
      "metadata": {
        "id": "ZNfohSUpo1n0",
        "colab_type": "text"
      },
      "cell_type": "markdown",
      "source": [
        "\n",
        "\n",
        "*   Batch size = 32\n",
        "*   Image size = 120x120\n",
        "\n"
      ]
    },
    {
      "metadata": {
        "id": "_TFWtLbQ2fUI",
        "colab_type": "code",
        "colab": {}
      },
      "cell_type": "code",
      "source": [
        "results = {}"
      ],
      "execution_count": 0,
      "outputs": []
    },
    {
      "metadata": {
        "id": "W3zmFDRmnYem",
        "colab_type": "code",
        "colab": {}
      },
      "cell_type": "code",
      "source": [
        "bSize = 32"
      ],
      "execution_count": 0,
      "outputs": []
    },
    {
      "metadata": {
        "id": "dCNH0jPl3WTV",
        "colab_type": "code",
        "colab": {}
      },
      "cell_type": "code",
      "source": [
        "datagen = ImageDataGenerator(rescale=1/255.)"
      ],
      "execution_count": 0,
      "outputs": []
    },
    {
      "metadata": {
        "id": "YiMXe23Vmbo-",
        "colab_type": "code",
        "outputId": "9256833b-ceb5-4bac-d115-531014846f6a",
        "colab": {
          "base_uri": "https://localhost:8080/",
          "height": 68
        }
      },
      "cell_type": "code",
      "source": [
        "train_batches = datagen.flow_from_directory(train_path, target_size=(120, 120), classes=['C', 'NC'], batch_size=bSize)\n",
        "test_batches = datagen.flow_from_directory(test_path, target_size=(120, 120), classes=['C', 'NC'], batch_size=bSize)\n",
        "validation_batches = datagen.flow_from_directory(validation_path, target_size=(120, 120), classes=['C', 'NC'], batch_size=bSize)"
      ],
      "execution_count": 0,
      "outputs": [
        {
          "output_type": "stream",
          "text": [
            "Found 4810 images belonging to 2 classes.\n",
            "Found 1336 images belonging to 2 classes.\n",
            "Found 534 images belonging to 2 classes.\n"
          ],
          "name": "stdout"
        }
      ]
    },
    {
      "metadata": {
        "id": "vE-dZtSv5mde",
        "colab_type": "code",
        "colab": {}
      },
      "cell_type": "code",
      "source": [
        "stepsPerEpoche = len(train_batches)/bSize\n",
        "validationSteps = len(validation_batches)/bSize"
      ],
      "execution_count": 0,
      "outputs": []
    },
    {
      "metadata": {
        "id": "WLcoxZya5sQr",
        "colab_type": "code",
        "outputId": "41886e6e-a1d2-4d7e-f255-2fcff91122a5",
        "colab": {
          "base_uri": "https://localhost:8080/",
          "height": 35
        }
      },
      "cell_type": "code",
      "source": [
        "test_batches.class_indices"
      ],
      "execution_count": 0,
      "outputs": [
        {
          "output_type": "execute_result",
          "data": {
            "text/plain": [
              "{'C': 0, 'NC': 1}"
            ]
          },
          "metadata": {
            "tags": []
          },
          "execution_count": 8
        }
      ]
    },
    {
      "metadata": {
        "id": "tY7Fxpczz0wk",
        "colab_type": "text"
      },
      "cell_type": "markdown",
      "source": [
        "\n",
        "\n",
        "---\n",
        "\n"
      ]
    },
    {
      "metadata": {
        "id": "wH56YdE5rlnU",
        "colab_type": "text"
      },
      "cell_type": "markdown",
      "source": [
        "### 1 tentativa\n"
      ]
    },
    {
      "metadata": {
        "id": "NBCIFVOlompR",
        "colab_type": "text"
      },
      "cell_type": "markdown",
      "source": [
        "**Descrição**\n",
        "\n",
        "\n",
        "*   Modelo descrito no artigo \"Crowdsourcing for Chromosome Segmentation and Deep Classification\"\n",
        "\n"
      ]
    },
    {
      "metadata": {
        "id": "rNosdG-ioNYU",
        "colab_type": "code",
        "colab": {}
      },
      "cell_type": "code",
      "source": [
        "model = Sequential([\n",
        "    Conv2D(64, (3, 3), activation='relu', input_shape=(120, 120, 3)),\n",
        "    Conv2D(64, (3, 3), activation='relu'),\n",
        "    Dropout(0.2),\n",
        "    MaxPooling2D(pool_size=(2, 2)),\n",
        "   \n",
        "    Conv2D(32, (3, 3), activation='relu'),\n",
        "    Conv2D(32, (3, 3), activation='relu'),\n",
        "    Dropout(0.2),\n",
        "    MaxPooling2D(pool_size=(2, 2)),\n",
        "   \n",
        "    Conv2D(16, (3, 3), activation='relu'),\n",
        "    Conv2D(16, (3, 3), activation='relu'),\n",
        "    Dropout(0.2),\n",
        "    MaxPooling2D(pool_size=(2, 2)),\n",
        "   \n",
        "    Conv2D(8, (3, 3), activation='relu'),\n",
        "    Conv2D(8, (3, 3), activation='relu'),\n",
        "    Dropout(0.2),\n",
        "    MaxPooling2D(pool_size=(2, 2)),\n",
        "    \n",
        "    Flatten(),\n",
        "    Dense(1024, activation='sigmoid'),\n",
        "    Dense(512, activation='sigmoid'),\n",
        "   \n",
        "    Dense(2, activation='softmax')\n",
        "]\n",
        ")"
      ],
      "execution_count": 0,
      "outputs": []
    },
    {
      "metadata": {
        "id": "UBqwdK2Bxagj",
        "colab_type": "code",
        "colab": {}
      },
      "cell_type": "code",
      "source": [
        "model.compile(SGD(lr=0.01, momentum=0.0, decay=0.0, nesterov=False), \n",
        "              loss='categorical_crossentropy', metrics=['accuracy'])"
      ],
      "execution_count": 0,
      "outputs": []
    },
    {
      "metadata": {
        "id": "EvVszbs8mjBb",
        "colab_type": "code",
        "colab": {}
      },
      "cell_type": "code",
      "source": [
        "checkpointer = ModelCheckpoint(filepath='weights_architecture_1.hdf5', verbose=1, save_best_only=True)"
      ],
      "execution_count": 0,
      "outputs": []
    },
    {
      "metadata": {
        "id": "PeyX7Mzf5lDw",
        "colab_type": "code",
        "outputId": "d4519e4d-ec96-45a3-dede-2102fc37903f",
        "colab": {
          "base_uri": "https://localhost:8080/",
          "height": 3417
        }
      },
      "cell_type": "code",
      "source": [
        "training = model.fit_generator(train_batches, steps_per_epoch=stepsPerEpoche, \n",
        "                   validation_data=validation_batches, validation_steps=validationSteps,\n",
        "                   epochs=50, verbose=2, callbacks=[checkpointer])"
      ],
      "execution_count": 0,
      "outputs": [
        {
          "output_type": "stream",
          "text": [
            "Epoch 1/50\n",
            " - 67s - loss: 0.7149 - acc: 0.4813 - val_loss: 0.6964 - val_acc: 0.4375\n",
            "\n",
            "Epoch 00001: val_loss improved from inf to 0.69639, saving model to weights_architecture_1.hdf5\n",
            "Epoch 2/50\n",
            " - 65s - loss: 0.6992 - acc: 0.4875 - val_loss: 0.7075 - val_acc: 0.5000\n",
            "\n",
            "Epoch 00002: val_loss did not improve from 0.69639\n",
            "Epoch 3/50\n",
            " - 58s - loss: 0.6870 - acc: 0.5625 - val_loss: 0.7056 - val_acc: 0.3125\n",
            "\n",
            "Epoch 00003: val_loss did not improve from 0.69639\n",
            "Epoch 4/50\n",
            " - 57s - loss: 0.7081 - acc: 0.4750 - val_loss: 0.7215 - val_acc: 0.5000\n",
            "\n",
            "Epoch 00004: val_loss did not improve from 0.69639\n",
            "Epoch 5/50\n",
            " - 62s - loss: 0.6913 - acc: 0.5438 - val_loss: 0.7009 - val_acc: 0.5000\n",
            "\n",
            "Epoch 00005: val_loss did not improve from 0.69639\n",
            "Epoch 6/50\n",
            " - 68s - loss: 0.6891 - acc: 0.5438 - val_loss: 0.7077 - val_acc: 0.4688\n",
            "\n",
            "Epoch 00006: val_loss did not improve from 0.69639\n",
            "Epoch 7/50\n",
            " - 65s - loss: 0.7034 - acc: 0.4937 - val_loss: 0.7093 - val_acc: 0.4375\n",
            "\n",
            "Epoch 00007: val_loss did not improve from 0.69639\n",
            "Epoch 8/50\n",
            " - 62s - loss: 0.7108 - acc: 0.4937 - val_loss: 0.7055 - val_acc: 0.5000\n",
            "\n",
            "Epoch 00008: val_loss did not improve from 0.69639\n",
            "Epoch 9/50\n",
            " - 62s - loss: 0.6891 - acc: 0.5563 - val_loss: 0.8147 - val_acc: 0.4375\n",
            "\n",
            "Epoch 00009: val_loss did not improve from 0.69639\n",
            "Epoch 10/50\n",
            " - 66s - loss: 0.7035 - acc: 0.5312 - val_loss: 0.7088 - val_acc: 0.4688\n",
            "\n",
            "Epoch 00010: val_loss did not improve from 0.69639\n",
            "Epoch 11/50\n",
            " - 63s - loss: 0.6981 - acc: 0.5500 - val_loss: 0.6923 - val_acc: 0.5312\n",
            "\n",
            "Epoch 00011: val_loss improved from 0.69639 to 0.69231, saving model to weights_architecture_1.hdf5\n",
            "Epoch 12/50\n",
            " - 57s - loss: 0.7068 - acc: 0.4937 - val_loss: 0.6712 - val_acc: 0.6875\n",
            "\n",
            "Epoch 00012: val_loss improved from 0.69231 to 0.67123, saving model to weights_architecture_1.hdf5\n",
            "Epoch 13/50\n",
            " - 59s - loss: 0.6819 - acc: 0.6000 - val_loss: 0.7138 - val_acc: 0.4375\n",
            "\n",
            "Epoch 00013: val_loss did not improve from 0.67123\n",
            "Epoch 14/50\n",
            " - 61s - loss: 0.7049 - acc: 0.4562 - val_loss: 0.6827 - val_acc: 0.6250\n",
            "\n",
            "Epoch 00014: val_loss did not improve from 0.67123\n",
            "Epoch 15/50\n",
            " - 60s - loss: 0.7140 - acc: 0.5312 - val_loss: 0.7155 - val_acc: 0.4062\n",
            "\n",
            "Epoch 00015: val_loss did not improve from 0.67123\n",
            "Epoch 16/50\n",
            " - 66s - loss: 0.7033 - acc: 0.5375 - val_loss: 0.6952 - val_acc: 0.5000\n",
            "\n",
            "Epoch 00016: val_loss did not improve from 0.67123\n",
            "Epoch 17/50\n",
            " - 61s - loss: 0.6950 - acc: 0.5125 - val_loss: 0.6931 - val_acc: 0.5000\n",
            "\n",
            "Epoch 00017: val_loss did not improve from 0.67123\n",
            "Epoch 18/50\n",
            " - 64s - loss: 0.6937 - acc: 0.4937 - val_loss: 0.7231 - val_acc: 0.4062\n",
            "\n",
            "Epoch 00018: val_loss did not improve from 0.67123\n",
            "Epoch 19/50\n",
            " - 64s - loss: 0.6924 - acc: 0.5375 - val_loss: 0.6926 - val_acc: 0.5312\n",
            "\n",
            "Epoch 00019: val_loss did not improve from 0.67123\n",
            "Epoch 20/50\n",
            " - 60s - loss: 0.7032 - acc: 0.4937 - val_loss: 0.7652 - val_acc: 0.4688\n",
            "\n",
            "Epoch 00020: val_loss did not improve from 0.67123\n",
            "Epoch 21/50\n",
            " - 68s - loss: 0.7123 - acc: 0.5187 - val_loss: 0.6975 - val_acc: 0.5312\n",
            "\n",
            "Epoch 00021: val_loss did not improve from 0.67123\n",
            "Epoch 22/50\n",
            " - 60s - loss: 0.6925 - acc: 0.5312 - val_loss: 0.6776 - val_acc: 0.5938\n",
            "\n",
            "Epoch 00022: val_loss did not improve from 0.67123\n",
            "Epoch 23/50\n",
            " - 58s - loss: 0.7031 - acc: 0.4875 - val_loss: 0.6929 - val_acc: 0.5312\n",
            "\n",
            "Epoch 00023: val_loss did not improve from 0.67123\n",
            "Epoch 24/50\n",
            " - 60s - loss: 0.6940 - acc: 0.4750 - val_loss: 0.6885 - val_acc: 0.5625\n",
            "\n",
            "Epoch 00024: val_loss did not improve from 0.67123\n",
            "Epoch 25/50\n",
            " - 58s - loss: 0.7414 - acc: 0.4562 - val_loss: 0.6934 - val_acc: 0.4375\n",
            "\n",
            "Epoch 00025: val_loss did not improve from 0.67123\n",
            "Epoch 26/50\n",
            " - 63s - loss: 0.7023 - acc: 0.5250 - val_loss: 0.6912 - val_acc: 0.5312\n",
            "\n",
            "Epoch 00026: val_loss did not improve from 0.67123\n",
            "Epoch 27/50\n",
            " - 62s - loss: 0.6939 - acc: 0.5062 - val_loss: 0.7053 - val_acc: 0.4688\n",
            "\n",
            "Epoch 00027: val_loss did not improve from 0.67123\n",
            "Epoch 28/50\n",
            " - 60s - loss: 0.7003 - acc: 0.4875 - val_loss: 0.7320 - val_acc: 0.4062\n",
            "\n",
            "Epoch 00028: val_loss did not improve from 0.67123\n",
            "Epoch 29/50\n",
            " - 64s - loss: 0.7196 - acc: 0.4375 - val_loss: 0.6914 - val_acc: 0.5312\n",
            "\n",
            "Epoch 00029: val_loss did not improve from 0.67123\n",
            "Epoch 30/50\n",
            " - 69s - loss: 0.6856 - acc: 0.5812 - val_loss: 0.6511 - val_acc: 0.6562\n",
            "\n",
            "Epoch 00030: val_loss improved from 0.67123 to 0.65109, saving model to weights_architecture_1.hdf5\n",
            "Epoch 31/50\n",
            " - 4s - loss: 0.7012 - acc: 0.4986 - val_loss: 0.6934 - val_acc: 0.5312\n",
            "\n",
            "Epoch 00031: val_loss did not improve from 0.65109\n",
            "Epoch 32/50\n",
            " - 1s - loss: 0.6952 - acc: 0.5000 - val_loss: 0.6968 - val_acc: 0.5312\n",
            "\n",
            "Epoch 00032: val_loss did not improve from 0.65109\n",
            "Epoch 33/50\n",
            " - 1s - loss: 0.6997 - acc: 0.5187 - val_loss: 0.6876 - val_acc: 0.5625\n",
            "\n",
            "Epoch 00033: val_loss did not improve from 0.65109\n",
            "Epoch 34/50\n",
            " - 1s - loss: 0.6939 - acc: 0.5125 - val_loss: 0.7212 - val_acc: 0.4545\n",
            "\n",
            "Epoch 00034: val_loss did not improve from 0.65109\n",
            "Epoch 35/50\n",
            " - 1s - loss: 0.6996 - acc: 0.5187 - val_loss: 0.7149 - val_acc: 0.4688\n",
            "\n",
            "Epoch 00035: val_loss did not improve from 0.65109\n",
            "Epoch 36/50\n",
            " - 1s - loss: 0.7004 - acc: 0.4937 - val_loss: 0.6949 - val_acc: 0.5000\n",
            "\n",
            "Epoch 00036: val_loss did not improve from 0.65109\n",
            "Epoch 37/50\n",
            " - 1s - loss: 0.6997 - acc: 0.4625 - val_loss: 0.7180 - val_acc: 0.4062\n",
            "\n",
            "Epoch 00037: val_loss did not improve from 0.65109\n",
            "Epoch 38/50\n",
            " - 1s - loss: 0.7104 - acc: 0.4625 - val_loss: 0.6988 - val_acc: 0.5312\n",
            "\n",
            "Epoch 00038: val_loss did not improve from 0.65109\n",
            "Epoch 39/50\n",
            " - 1s - loss: 0.6947 - acc: 0.5375 - val_loss: 0.6853 - val_acc: 0.5625\n",
            "\n",
            "Epoch 00039: val_loss did not improve from 0.65109\n",
            "Epoch 40/50\n",
            " - 1s - loss: 0.6946 - acc: 0.5187 - val_loss: 0.6912 - val_acc: 0.5312\n",
            "\n",
            "Epoch 00040: val_loss did not improve from 0.65109\n",
            "Epoch 41/50\n",
            " - 1s - loss: 0.6899 - acc: 0.5500 - val_loss: 0.7297 - val_acc: 0.3750\n",
            "\n",
            "Epoch 00041: val_loss did not improve from 0.65109\n",
            "Epoch 42/50\n",
            " - 1s - loss: 0.6963 - acc: 0.5312 - val_loss: 0.6947 - val_acc: 0.5312\n",
            "\n",
            "Epoch 00042: val_loss did not improve from 0.65109\n",
            "Epoch 43/50\n",
            " - 1s - loss: 0.6895 - acc: 0.5563 - val_loss: 0.6932 - val_acc: 0.5000\n",
            "\n",
            "Epoch 00043: val_loss did not improve from 0.65109\n",
            "Epoch 44/50\n",
            " - 1s - loss: 0.7003 - acc: 0.5375 - val_loss: 0.6933 - val_acc: 0.5000\n",
            "\n",
            "Epoch 00044: val_loss did not improve from 0.65109\n",
            "Epoch 45/50\n",
            " - 1s - loss: 0.6978 - acc: 0.5187 - val_loss: 0.6782 - val_acc: 0.6562\n",
            "\n",
            "Epoch 00045: val_loss did not improve from 0.65109\n",
            "Epoch 46/50\n",
            " - 1s - loss: 0.7015 - acc: 0.4438 - val_loss: 0.7333 - val_acc: 0.4062\n",
            "\n",
            "Epoch 00046: val_loss did not improve from 0.65109\n",
            "Epoch 47/50\n",
            " - 1s - loss: 0.6987 - acc: 0.5187 - val_loss: 0.6905 - val_acc: 0.5625\n",
            "\n",
            "Epoch 00047: val_loss did not improve from 0.65109\n",
            "Epoch 48/50\n",
            " - 1s - loss: 0.7142 - acc: 0.4625 - val_loss: 0.7272 - val_acc: 0.4688\n",
            "\n",
            "Epoch 00048: val_loss did not improve from 0.65109\n",
            "Epoch 49/50\n",
            " - 1s - loss: 0.6993 - acc: 0.5062 - val_loss: 0.7093 - val_acc: 0.3750\n",
            "\n",
            "Epoch 00049: val_loss did not improve from 0.65109\n",
            "Epoch 50/50\n",
            " - 1s - loss: 0.7183 - acc: 0.4375 - val_loss: 0.7091 - val_acc: 0.4375\n",
            "\n",
            "Epoch 00050: val_loss did not improve from 0.65109\n"
          ],
          "name": "stdout"
        }
      ]
    },
    {
      "metadata": {
        "id": "VeLCe59ltne5",
        "colab_type": "code",
        "outputId": "57c11464-9d4c-4825-86e2-38cc471c7b08",
        "colab": {
          "base_uri": "https://localhost:8080/",
          "height": 380
        }
      },
      "cell_type": "code",
      "source": [
        "# plotar loss e accuracy para os datasets 'train' e 'test'\n",
        "plt.style.use(\"ggplot\")\n",
        "plt.figure()\n",
        "plt.plot(training.history['acc'], label='Accuracy')\n",
        "plt.plot(training.history['loss'], label='Loss')\n",
        "plt.xlabel('Epochs')\n",
        "plt.ylabel('Accuracy')\n",
        "plt.title(\"Training Loss and Accuracy\")\n",
        "plt.ylabel(\"Loss/Accuracy\")\n",
        "plt.legend()\n",
        "plt.savefig('architecture_1.png', bbox_inches='tight')"
      ],
      "execution_count": 0,
      "outputs": [
        {
          "output_type": "display_data",
          "data": {
            "image/png": "[encoded data removed]",
            "text/plain": [
              "<matplotlib.figure.Figure at 0x7fb8fb44fe80>"
            ]
          },
          "metadata": {
            "tags": []
          }
        }
      ]
    },
    {
      "metadata": {
        "id": "c1LR04eV6AJ5",
        "colab_type": "code",
        "colab": {}
      },
      "cell_type": "code",
      "source": [
        "model.load_weights('weights_architecture_1.hdf5')"
      ],
      "execution_count": 0,
      "outputs": []
    },
    {
      "metadata": {
        "id": "gFQR2k7Ns8SN",
        "colab_type": "code",
        "outputId": "ea89e2a3-cbb7-4463-bd4d-72d5ff7a6272",
        "colab": {
          "base_uri": "https://localhost:8080/",
          "height": 34
        }
      },
      "cell_type": "code",
      "source": [
        "results['architecture_1'] = model.evaluate_generator(test_batches, steps=bSize, use_multiprocessing=True, verbose=1)"
      ],
      "execution_count": 0,
      "outputs": [
        {
          "output_type": "stream",
          "text": [
            "32/32 [==============================] - 3s 96ms/step\n"
          ],
          "name": "stdout"
        }
      ]
    },
    {
      "metadata": {
        "id": "Juqn8SXr0VvZ",
        "colab_type": "code",
        "outputId": "3369af82-fc67-4be5-d40b-bbca37aad9f0",
        "colab": {
          "base_uri": "https://localhost:8080/",
          "height": 34
        }
      },
      "cell_type": "code",
      "source": [
        "print('Test Loss: {} | Test Accuracy: {:.2f}%'.format(results['architecture_1'][0], 100 * results['architecture_1'][1]))"
      ],
      "execution_count": 0,
      "outputs": [
        {
          "output_type": "stream",
          "text": [
            "Test Loss: 0.7104545029129569 | Test Accuracy: 50.39%\n"
          ],
          "name": "stdout"
        }
      ]
    },
    {
      "metadata": {
        "id": "71jZE6lXsmgW",
        "colab_type": "text"
      },
      "cell_type": "markdown",
      "source": [
        "\n",
        "\n",
        "---\n",
        "\n"
      ]
    },
    {
      "metadata": {
        "id": "T7nOK0TDr6Hc",
        "colab_type": "text"
      },
      "cell_type": "markdown",
      "source": [
        "### 2 tentativa"
      ]
    },
    {
      "metadata": {
        "colab_type": "text",
        "id": "-DJtvxKNp9sb"
      },
      "cell_type": "markdown",
      "source": [
        "**Descrição**\n",
        "\n",
        "\n",
        "*   Modelo descrito no artigo \"Crowdsourcing for Chromosome Segmentation and Deep Classification\"\n",
        "*   Alteração nas duas ultimas camadas Dense\n",
        "\n",
        "\n",
        "\n"
      ]
    },
    {
      "metadata": {
        "colab_type": "code",
        "id": "2PSEo_Mzr8zK",
        "colab": {}
      },
      "cell_type": "code",
      "source": [
        "model = Sequential([\n",
        "    Conv2D(64, (3, 3), activation='relu', input_shape=(120, 120, 3)),\n",
        "    Conv2D(64, (3, 3), activation='relu'),\n",
        "    Dropout(0.2),\n",
        "    MaxPooling2D(pool_size=(2, 2)),\n",
        "   \n",
        "    Conv2D(32, (3, 3), activation='relu'),\n",
        "    Conv2D(32, (3, 3), activation='relu'),\n",
        "    Dropout(0.2),\n",
        "    MaxPooling2D(pool_size=(2, 2)),\n",
        "   \n",
        "    Conv2D(16, (3, 3), activation='relu'),\n",
        "    Conv2D(16, (3, 3), activation='relu'),\n",
        "    Dropout(0.2),\n",
        "    MaxPooling2D(pool_size=(2, 2)),\n",
        "   \n",
        "    Conv2D(8, (3, 3), activation='relu'),\n",
        "    Conv2D(8, (3, 3), activation='relu'),\n",
        "    Dropout(0.2),\n",
        "    MaxPooling2D(pool_size=(2, 2)),\n",
        "    \n",
        "    Flatten(),\n",
        "    Dense(512, activation='relu'),\n",
        "   \n",
        "    Dense(2, activation='softmax')\n",
        "]\n",
        ")"
      ],
      "execution_count": 0,
      "outputs": []
    },
    {
      "metadata": {
        "colab_type": "code",
        "id": "wTvCLywPr8zj",
        "colab": {}
      },
      "cell_type": "code",
      "source": [
        "model.compile(SGD(lr=0.01, momentum=0.0, decay=0.0, nesterov=False), \n",
        "              loss='categorical_crossentropy', metrics=['accuracy'])"
      ],
      "execution_count": 0,
      "outputs": []
    },
    {
      "metadata": {
        "id": "NzLTzTmS5qOI",
        "colab_type": "code",
        "colab": {}
      },
      "cell_type": "code",
      "source": [
        "checkpointer = ModelCheckpoint(filepath='weights_architecture_2.hdf5', verbose=1, save_best_only=True)"
      ],
      "execution_count": 0,
      "outputs": []
    },
    {
      "metadata": {
        "colab_type": "code",
        "outputId": "57be67d8-d0e5-4c53-84d3-f4f13e31f86f",
        "id": "P5mNUnc52wDQ",
        "colab": {
          "base_uri": "https://localhost:8080/",
          "height": 3417
        }
      },
      "cell_type": "code",
      "source": [
        "training = model.fit_generator(train_batches, steps_per_epoch=stepsPerEpoche, \n",
        "                   validation_data=validation_batches, validation_steps=validationSteps,\n",
        "                   epochs=50, verbose=2, callbacks=[checkpointer])"
      ],
      "execution_count": 0,
      "outputs": [
        {
          "output_type": "stream",
          "text": [
            "Epoch 1/50\n",
            " - 2s - loss: 0.6936 - acc: 0.4937 - val_loss: 0.6926 - val_acc: 0.5938\n",
            "\n",
            "Epoch 00001: val_loss improved from inf to 0.69259, saving model to weights_architecture_2.hdf5\n",
            "Epoch 2/50\n",
            " - 1s - loss: 0.6931 - acc: 0.4937 - val_loss: 0.6914 - val_acc: 0.6562\n",
            "\n",
            "Epoch 00002: val_loss improved from 0.69259 to 0.69138, saving model to weights_architecture_2.hdf5\n",
            "Epoch 3/50\n",
            " - 1s - loss: 0.6918 - acc: 0.6500 - val_loss: 0.6914 - val_acc: 0.5938\n",
            "\n",
            "Epoch 00003: val_loss did not improve from 0.69138\n",
            "Epoch 4/50\n",
            " - 1s - loss: 0.6911 - acc: 0.7250 - val_loss: 0.6917 - val_acc: 0.7812\n",
            "\n",
            "Epoch 00004: val_loss did not improve from 0.69138\n",
            "Epoch 5/50\n",
            " - 1s - loss: 0.6899 - acc: 0.7188 - val_loss: 0.6900 - val_acc: 0.5938\n",
            "\n",
            "Epoch 00005: val_loss improved from 0.69138 to 0.68996, saving model to weights_architecture_2.hdf5\n",
            "Epoch 6/50\n",
            " - 1s - loss: 0.6886 - acc: 0.7562 - val_loss: 0.6914 - val_acc: 0.5625\n",
            "\n",
            "Epoch 00006: val_loss did not improve from 0.68996\n",
            "Epoch 7/50\n",
            " - 1s - loss: 0.6888 - acc: 0.6875 - val_loss: 0.6895 - val_acc: 0.8636\n",
            "\n",
            "Epoch 00007: val_loss improved from 0.68996 to 0.68952, saving model to weights_architecture_2.hdf5\n",
            "Epoch 8/50\n",
            " - 1s - loss: 0.6864 - acc: 0.7875 - val_loss: 0.6882 - val_acc: 0.6250\n",
            "\n",
            "Epoch 00008: val_loss improved from 0.68952 to 0.68817, saving model to weights_architecture_2.hdf5\n",
            "Epoch 9/50\n",
            " - 1s - loss: 0.6876 - acc: 0.5985 - val_loss: 0.6917 - val_acc: 0.7188\n",
            "\n",
            "Epoch 00009: val_loss did not improve from 0.68817\n",
            "Epoch 10/50\n",
            " - 1s - loss: 0.6843 - acc: 0.7687 - val_loss: 0.6873 - val_acc: 0.8438\n",
            "\n",
            "Epoch 00010: val_loss improved from 0.68817 to 0.68734, saving model to weights_architecture_2.hdf5\n",
            "Epoch 11/50\n",
            " - 1s - loss: 0.6838 - acc: 0.7188 - val_loss: 0.6884 - val_acc: 0.5312\n",
            "\n",
            "Epoch 00011: val_loss did not improve from 0.68734\n",
            "Epoch 12/50\n",
            " - 1s - loss: 0.6844 - acc: 0.6625 - val_loss: 0.6889 - val_acc: 0.5625\n",
            "\n",
            "Epoch 00012: val_loss did not improve from 0.68734\n",
            "Epoch 13/50\n",
            " - 1s - loss: 0.6882 - acc: 0.5312 - val_loss: 0.6844 - val_acc: 0.7188\n",
            "\n",
            "Epoch 00013: val_loss improved from 0.68734 to 0.68443, saving model to weights_architecture_2.hdf5\n",
            "Epoch 14/50\n",
            " - 1s - loss: 0.6805 - acc: 0.7438 - val_loss: 0.6829 - val_acc: 0.8125\n",
            "\n",
            "Epoch 00014: val_loss improved from 0.68443 to 0.68288, saving model to weights_architecture_2.hdf5\n",
            "Epoch 15/50\n",
            " - 1s - loss: 0.6822 - acc: 0.6688 - val_loss: 0.6839 - val_acc: 0.8125\n",
            "\n",
            "Epoch 00015: val_loss did not improve from 0.68288\n",
            "Epoch 16/50\n",
            " - 1s - loss: 0.6730 - acc: 0.8250 - val_loss: 0.6898 - val_acc: 0.4688\n",
            "\n",
            "Epoch 00016: val_loss did not improve from 0.68288\n",
            "Epoch 17/50\n",
            " - 1s - loss: 0.6822 - acc: 0.6125 - val_loss: 0.6830 - val_acc: 0.6250\n",
            "\n",
            "Epoch 00017: val_loss did not improve from 0.68288\n",
            "Epoch 18/50\n",
            " - 1s - loss: 0.6753 - acc: 0.7500 - val_loss: 0.6834 - val_acc: 0.7500\n",
            "\n",
            "Epoch 00018: val_loss did not improve from 0.68288\n",
            "Epoch 19/50\n",
            " - 1s - loss: 0.6740 - acc: 0.7375 - val_loss: 0.6878 - val_acc: 0.5625\n",
            "\n",
            "Epoch 00019: val_loss did not improve from 0.68288\n",
            "Epoch 20/50\n",
            " - 1s - loss: 0.6752 - acc: 0.6813 - val_loss: 0.6823 - val_acc: 0.5312\n",
            "\n",
            "Epoch 00020: val_loss improved from 0.68288 to 0.68225, saving model to weights_architecture_2.hdf5\n",
            "Epoch 21/50\n",
            " - 1s - loss: 0.6733 - acc: 0.6688 - val_loss: 0.6797 - val_acc: 0.7812\n",
            "\n",
            "Epoch 00021: val_loss improved from 0.68225 to 0.67969, saving model to weights_architecture_2.hdf5\n",
            "Epoch 22/50\n",
            " - 1s - loss: 0.6719 - acc: 0.6937 - val_loss: 0.6661 - val_acc: 0.9375\n",
            "\n",
            "Epoch 00022: val_loss improved from 0.67969 to 0.66606, saving model to weights_architecture_2.hdf5\n",
            "Epoch 23/50\n",
            " - 1s - loss: 0.6595 - acc: 0.7812 - val_loss: 0.6666 - val_acc: 0.7812\n",
            "\n",
            "Epoch 00023: val_loss did not improve from 0.66606\n",
            "Epoch 24/50\n",
            " - 1s - loss: 0.6675 - acc: 0.6688 - val_loss: 0.6811 - val_acc: 0.5000\n",
            "\n",
            "Epoch 00024: val_loss did not improve from 0.66606\n",
            "Epoch 25/50\n",
            " - 1s - loss: 0.6709 - acc: 0.6437 - val_loss: 0.6814 - val_acc: 0.5625\n",
            "\n",
            "Epoch 00025: val_loss did not improve from 0.66606\n",
            "Epoch 26/50\n",
            " - 1s - loss: 0.6782 - acc: 0.6063 - val_loss: 0.6767 - val_acc: 0.6250\n",
            "\n",
            "Epoch 00026: val_loss did not improve from 0.66606\n",
            "Epoch 27/50\n",
            " - 1s - loss: 0.6661 - acc: 0.6250 - val_loss: 0.6666 - val_acc: 0.7812\n",
            "\n",
            "Epoch 00027: val_loss did not improve from 0.66606\n",
            "Epoch 28/50\n",
            " - 1s - loss: 0.6368 - acc: 0.8000 - val_loss: 0.6378 - val_acc: 0.9375\n",
            "\n",
            "Epoch 00028: val_loss improved from 0.66606 to 0.63777, saving model to weights_architecture_2.hdf5\n",
            "Epoch 29/50\n",
            " - 1s - loss: 0.6897 - acc: 0.5438 - val_loss: 0.6966 - val_acc: 0.5000\n",
            "\n",
            "Epoch 00029: val_loss did not improve from 0.63777\n",
            "Epoch 30/50\n",
            " - 1s - loss: 0.6492 - acc: 0.7375 - val_loss: 0.6605 - val_acc: 0.7812\n",
            "\n",
            "Epoch 00030: val_loss did not improve from 0.63777\n",
            "Epoch 31/50\n",
            " - 1s - loss: 0.6391 - acc: 0.7188 - val_loss: 0.6970 - val_acc: 0.4375\n",
            "\n",
            "Epoch 00031: val_loss did not improve from 0.63777\n",
            "Epoch 32/50\n",
            " - 1s - loss: 0.6313 - acc: 0.7125 - val_loss: 0.6371 - val_acc: 0.6562\n",
            "\n",
            "Epoch 00032: val_loss improved from 0.63777 to 0.63708, saving model to weights_architecture_2.hdf5\n",
            "Epoch 33/50\n",
            " - 1s - loss: 0.6515 - acc: 0.6063 - val_loss: 0.6432 - val_acc: 0.9062\n",
            "\n",
            "Epoch 00033: val_loss did not improve from 0.63708\n",
            "Epoch 34/50\n",
            " - 1s - loss: 0.6182 - acc: 0.7500 - val_loss: 0.6773 - val_acc: 0.5625\n",
            "\n",
            "Epoch 00034: val_loss did not improve from 0.63708\n",
            "Epoch 35/50\n",
            " - 1s - loss: 0.6719 - acc: 0.5938 - val_loss: 0.6453 - val_acc: 0.7812\n",
            "\n",
            "Epoch 00035: val_loss did not improve from 0.63708\n",
            "Epoch 36/50\n",
            " - 1s - loss: 0.6087 - acc: 0.7375 - val_loss: 0.6469 - val_acc: 0.6250\n",
            "\n",
            "Epoch 00036: val_loss did not improve from 0.63708\n",
            "Epoch 37/50\n",
            " - 1s - loss: 0.6666 - acc: 0.5938 - val_loss: 0.6328 - val_acc: 0.7500\n",
            "\n",
            "Epoch 00037: val_loss improved from 0.63708 to 0.63278, saving model to weights_architecture_2.hdf5\n",
            "Epoch 38/50\n",
            " - 1s - loss: 0.6546 - acc: 0.6125 - val_loss: 0.6093 - val_acc: 0.9062\n",
            "\n",
            "Epoch 00038: val_loss improved from 0.63278 to 0.60935, saving model to weights_architecture_2.hdf5\n",
            "Epoch 39/50\n",
            " - 1s - loss: 0.6618 - acc: 0.6141 - val_loss: 0.6315 - val_acc: 0.8125\n",
            "\n",
            "Epoch 00039: val_loss did not improve from 0.60935\n",
            "Epoch 40/50\n",
            " - 1s - loss: 0.5836 - acc: 0.7875 - val_loss: 0.6308 - val_acc: 0.5938\n",
            "\n",
            "Epoch 00040: val_loss did not improve from 0.60935\n",
            "Epoch 41/50\n",
            " - 1s - loss: 0.6943 - acc: 0.5125 - val_loss: 0.6588 - val_acc: 0.5455\n",
            "\n",
            "Epoch 00041: val_loss did not improve from 0.60935\n",
            "Epoch 42/50\n",
            " - 1s - loss: 0.5494 - acc: 0.8187 - val_loss: 0.5844 - val_acc: 0.8750\n",
            "\n",
            "Epoch 00042: val_loss improved from 0.60935 to 0.58442, saving model to weights_architecture_2.hdf5\n",
            "Epoch 43/50\n",
            " - 1s - loss: 0.6167 - acc: 0.6437 - val_loss: 0.7288 - val_acc: 0.5000\n",
            "\n",
            "Epoch 00043: val_loss did not improve from 0.58442\n",
            "Epoch 44/50\n",
            " - 1s - loss: 0.5609 - acc: 0.7938 - val_loss: 0.5391 - val_acc: 0.9375\n",
            "\n",
            "Epoch 00044: val_loss improved from 0.58442 to 0.53911, saving model to weights_architecture_2.hdf5\n",
            "Epoch 45/50\n",
            " - 1s - loss: 0.4088 - acc: 0.8937 - val_loss: 0.6341 - val_acc: 0.6250\n",
            "\n",
            "Epoch 00045: val_loss did not improve from 0.53911\n",
            "Epoch 46/50\n",
            " - 1s - loss: 0.8055 - acc: 0.5125 - val_loss: 0.7343 - val_acc: 0.4375\n",
            "\n",
            "Epoch 00046: val_loss did not improve from 0.53911\n",
            "Epoch 47/50\n",
            " - 1s - loss: 0.7282 - acc: 0.4750 - val_loss: 0.7393 - val_acc: 0.3438\n",
            "\n",
            "Epoch 00047: val_loss did not improve from 0.53911\n",
            "Epoch 48/50\n",
            " - 1s - loss: 0.6979 - acc: 0.5062 - val_loss: 0.7424 - val_acc: 0.3125\n",
            "\n",
            "Epoch 00048: val_loss did not improve from 0.53911\n",
            "Epoch 49/50\n",
            " - 1s - loss: 0.6895 - acc: 0.5250 - val_loss: 0.6826 - val_acc: 0.5312\n",
            "\n",
            "Epoch 00049: val_loss did not improve from 0.53911\n",
            "Epoch 50/50\n",
            " - 1s - loss: 0.6782 - acc: 0.5438 - val_loss: 0.6993 - val_acc: 0.4688\n",
            "\n",
            "Epoch 00050: val_loss did not improve from 0.53911\n"
          ],
          "name": "stdout"
        }
      ]
    },
    {
      "metadata": {
        "colab_type": "code",
        "outputId": "a517a011-67ad-46ae-c95a-64c2c4a67edf",
        "id": "0ObNfroJ2wDb",
        "colab": {
          "base_uri": "https://localhost:8080/",
          "height": 380
        }
      },
      "cell_type": "code",
      "source": [
        "# plotar loss e accuracy para os datasets 'train' e 'test'\n",
        "plt.style.use(\"ggplot\")\n",
        "plt.figure()\n",
        "plt.plot(training.history['acc'], label='Accuracy')\n",
        "plt.plot(training.history['loss'], label='Loss')\n",
        "plt.xlabel('Epochs')\n",
        "plt.ylabel('Accuracy')\n",
        "plt.title(\"Training Loss and Accuracy\")\n",
        "plt.ylabel(\"Loss/Accuracy\")\n",
        "plt.legend()\n",
        "plt.savefig('architecture_2.png', bbox_inches='tight')"
      ],
      "execution_count": 0,
      "outputs": [
        {
          "output_type": "display_data",
          "data": {
            "image/png": "[encoded data removed]",
            "text/plain": [
              "<matplotlib.figure.Figure at 0x7fb8fb865c50>"
            ]
          },
          "metadata": {
            "tags": []
          }
        }
      ]
    },
    {
      "metadata": {
        "id": "6ygDnB2C5lfp",
        "colab_type": "code",
        "colab": {}
      },
      "cell_type": "code",
      "source": [
        "model.load_weights('weights_architecture_2.hdf5')"
      ],
      "execution_count": 0,
      "outputs": []
    },
    {
      "metadata": {
        "colab_type": "code",
        "outputId": "d801f655-11e2-4f12-ad77-a4c43b54e937",
        "id": "tbMLmk6a2wDk",
        "colab": {
          "base_uri": "https://localhost:8080/",
          "height": 34
        }
      },
      "cell_type": "code",
      "source": [
        "results['architecture_2'] = model.evaluate_generator(test_batches, steps=bSize, use_multiprocessing=True, verbose=1)"
      ],
      "execution_count": 0,
      "outputs": [
        {
          "output_type": "stream",
          "text": [
            "32/32 [==============================] - 4s 111ms/step\n"
          ],
          "name": "stdout"
        }
      ]
    },
    {
      "metadata": {
        "colab_type": "code",
        "outputId": "cef57918-233f-44b6-98dd-efe10949ac64",
        "id": "uz6TAaay2wDp",
        "colab": {
          "base_uri": "https://localhost:8080/",
          "height": 34
        }
      },
      "cell_type": "code",
      "source": [
        "print('Test Loss: {} | Test Accuracy: {:.2f}%'.format(results['architecture_2'][0], 100 * results['architecture_2'][1]))"
      ],
      "execution_count": 0,
      "outputs": [
        {
          "output_type": "stream",
          "text": [
            "Test Loss: 0.5513530415812815 | Test Accuracy: 87.30%\n"
          ],
          "name": "stdout"
        }
      ]
    },
    {
      "metadata": {
        "id": "r7RpE8wBe4JQ",
        "colab_type": "text"
      },
      "cell_type": "markdown",
      "source": [
        "### 3 tentativa"
      ]
    },
    {
      "metadata": {
        "id": "vdP4Yo8OgB4B",
        "colab_type": "text"
      },
      "cell_type": "markdown",
      "source": [
        "Modelo criado pelo **Lucas Valentim**\n",
        "\n",
        "https://github.com/lucasvalentim/chromosome-recognizer/blob/master/chromosome_recognizer.ipynb"
      ]
    },
    {
      "metadata": {
        "id": "3nTNgnrCe33x",
        "colab_type": "code",
        "colab": {}
      },
      "cell_type": "code",
      "source": [
        "from keras.layers import Conv2D, MaxPooling2D, GlobalMaxPooling2D, BatchNormalization\n",
        "from keras.regularizers import l2\n",
        "\n",
        "model = Sequential()\n",
        "\n",
        "model.add(Conv2D(32, (3, 3), activation='relu', kernel_regularizer=l2(1e-4), \n",
        "                 input_shape=(None, None, 3)))\n",
        "model.add(BatchNormalization())\n",
        "model.add(Conv2D(32, (3, 3), activation='relu', kernel_regularizer=l2(1e-4)))\n",
        "model.add(BatchNormalization())\n",
        "model.add(MaxPooling2D((2, 2)))\n",
        "model.add(Dropout(0.25))\n",
        "\n",
        "model.add(Conv2D(64, (3, 3), activation='relu', kernel_regularizer=l2(1e-4)))\n",
        "model.add(BatchNormalization())\n",
        "model.add(Conv2D(64, (3, 3), activation='relu', kernel_regularizer=l2(1e-4)))\n",
        "model.add(BatchNormalization())\n",
        "model.add(MaxPooling2D((2, 2)))\n",
        "model.add(Dropout(0.25))\n",
        "\n",
        "model.add(Conv2D(128, (1,1), kernel_regularizer=l2(1e-4)))\n",
        "model.add(GlobalMaxPooling2D())\n",
        "\n",
        "model.add(Dense(256, activation='relu', kernel_regularizer=l2(1e-4)))\n",
        "model.add(Dropout(0.5))\n",
        "model.add(Dense(2, activation='sigmoid', kernel_regularizer=l2(1e-4)))"
      ],
      "execution_count": 0,
      "outputs": []
    },
    {
      "metadata": {
        "id": "g1okz4QbiBnE",
        "colab_type": "code",
        "colab": {}
      },
      "cell_type": "code",
      "source": [
        "model.compile(optimizer='adam', loss='binary_crossentropy', metrics=['accuracy'])"
      ],
      "execution_count": 0,
      "outputs": []
    },
    {
      "metadata": {
        "colab_type": "code",
        "id": "ceurpIyA3JmM",
        "colab": {}
      },
      "cell_type": "code",
      "source": [
        "checkpointer = ModelCheckpoint(filepath='weights_architecture_3.hdf5', verbose=1, save_best_only=True)"
      ],
      "execution_count": 0,
      "outputs": []
    },
    {
      "metadata": {
        "colab_type": "code",
        "outputId": "4c6d9561-9245-4f1b-b150-cf08774a27fb",
        "id": "57QCc4Rz3JmS",
        "colab": {
          "base_uri": "https://localhost:8080/",
          "height": 3417
        }
      },
      "cell_type": "code",
      "source": [
        "training = model.fit_generator(train_batches, steps_per_epoch=stepsPerEpoche, \n",
        "                   validation_data=validation_batches, validation_steps=validationSteps,\n",
        "                   epochs=50, verbose=2, callbacks=[checkpointer])"
      ],
      "execution_count": 0,
      "outputs": [
        {
          "output_type": "stream",
          "text": [
            "Epoch 1/50\n",
            " - 3s - loss: 1.2343 - acc: 0.5500 - val_loss: 0.5575 - val_acc: 0.8125\n",
            "\n",
            "Epoch 00001: val_loss improved from inf to 0.55752, saving model to weights_architecture_3.hdf5\n",
            "Epoch 2/50\n",
            " - 0s - loss: 0.7688 - acc: 0.7250 - val_loss: 0.5724 - val_acc: 0.8125\n",
            "\n",
            "Epoch 00002: val_loss did not improve from 0.55752\n",
            "Epoch 3/50\n",
            " - 0s - loss: 0.5285 - acc: 0.8000 - val_loss: 0.5969 - val_acc: 0.7656\n",
            "\n",
            "Epoch 00003: val_loss did not improve from 0.55752\n",
            "Epoch 4/50\n",
            " - 0s - loss: 0.4802 - acc: 0.8469 - val_loss: 0.3248 - val_acc: 0.9219\n",
            "\n",
            "Epoch 00004: val_loss improved from 0.55752 to 0.32484, saving model to weights_architecture_3.hdf5\n",
            "Epoch 5/50\n",
            " - 0s - loss: 0.6265 - acc: 0.7844 - val_loss: 0.4608 - val_acc: 0.8125\n",
            "\n",
            "Epoch 00005: val_loss did not improve from 0.32484\n",
            "Epoch 6/50\n",
            " - 0s - loss: 0.3263 - acc: 0.8781 - val_loss: 0.5143 - val_acc: 0.7344\n",
            "\n",
            "Epoch 00006: val_loss did not improve from 0.32484\n",
            "Epoch 7/50\n",
            " - 0s - loss: 0.4817 - acc: 0.8156 - val_loss: 0.9058 - val_acc: 0.5000\n",
            "\n",
            "Epoch 00007: val_loss did not improve from 0.32484\n",
            "Epoch 8/50\n",
            " - 0s - loss: 0.2938 - acc: 0.9188 - val_loss: 1.1001 - val_acc: 0.5625\n",
            "\n",
            "Epoch 00008: val_loss did not improve from 0.32484\n",
            "Epoch 9/50\n",
            " - 0s - loss: 0.2557 - acc: 0.9188 - val_loss: 1.2284 - val_acc: 0.5781\n",
            "\n",
            "Epoch 00009: val_loss did not improve from 0.32484\n",
            "Epoch 10/50\n",
            " - 0s - loss: 0.3384 - acc: 0.8688 - val_loss: 0.7141 - val_acc: 0.7188\n",
            "\n",
            "Epoch 00010: val_loss did not improve from 0.32484\n",
            "Epoch 11/50\n",
            " - 1s - loss: 0.2953 - acc: 0.8969 - val_loss: 0.4890 - val_acc: 0.7188\n",
            "\n",
            "Epoch 00011: val_loss did not improve from 0.32484\n",
            "Epoch 12/50\n",
            " - 1s - loss: 0.2617 - acc: 0.9313 - val_loss: 0.2012 - val_acc: 1.0000\n",
            "\n",
            "Epoch 00012: val_loss improved from 0.32484 to 0.20115, saving model to weights_architecture_3.hdf5\n",
            "Epoch 13/50\n",
            " - 1s - loss: 0.1784 - acc: 0.9500 - val_loss: 0.4022 - val_acc: 0.8281\n",
            "\n",
            "Epoch 00013: val_loss did not improve from 0.20115\n",
            "Epoch 14/50\n",
            " - 1s - loss: 0.3481 - acc: 0.8875 - val_loss: 0.8679 - val_acc: 0.5455\n",
            "\n",
            "Epoch 00014: val_loss did not improve from 0.20115\n",
            "Epoch 15/50\n",
            " - 0s - loss: 0.2601 - acc: 0.9188 - val_loss: 0.7993 - val_acc: 0.6875\n",
            "\n",
            "Epoch 00015: val_loss did not improve from 0.20115\n",
            "Epoch 16/50\n",
            " - 1s - loss: 0.2911 - acc: 0.8906 - val_loss: 1.0341 - val_acc: 0.6562\n",
            "\n",
            "Epoch 00016: val_loss did not improve from 0.20115\n",
            "Epoch 17/50\n",
            " - 1s - loss: 0.3663 - acc: 0.8962 - val_loss: 1.0132 - val_acc: 0.5469\n",
            "\n",
            "Epoch 00017: val_loss did not improve from 0.20115\n",
            "Epoch 18/50\n",
            " - 1s - loss: 0.4310 - acc: 0.8469 - val_loss: 0.3626 - val_acc: 0.8281\n",
            "\n",
            "Epoch 00018: val_loss did not improve from 0.20115\n",
            "Epoch 19/50\n",
            " - 1s - loss: 0.4072 - acc: 0.8781 - val_loss: 0.4191 - val_acc: 0.7969\n",
            "\n",
            "Epoch 00019: val_loss did not improve from 0.20115\n",
            "Epoch 20/50\n",
            " - 1s - loss: 0.2556 - acc: 0.9094 - val_loss: 0.4091 - val_acc: 0.7969\n",
            "\n",
            "Epoch 00020: val_loss did not improve from 0.20115\n",
            "Epoch 21/50\n",
            " - 1s - loss: 0.3531 - acc: 0.8906 - val_loss: 0.9117 - val_acc: 0.5312\n",
            "\n",
            "Epoch 00021: val_loss did not improve from 0.20115\n",
            "Epoch 22/50\n",
            " - 1s - loss: 0.3402 - acc: 0.8750 - val_loss: 1.5028 - val_acc: 0.4844\n",
            "\n",
            "Epoch 00022: val_loss did not improve from 0.20115\n",
            "Epoch 23/50\n",
            " - 1s - loss: 0.2855 - acc: 0.8875 - val_loss: 0.6762 - val_acc: 0.6562\n",
            "\n",
            "Epoch 00023: val_loss did not improve from 0.20115\n",
            "Epoch 24/50\n",
            " - 1s - loss: 0.3029 - acc: 0.8937 - val_loss: 0.4440 - val_acc: 0.7969\n",
            "\n",
            "Epoch 00024: val_loss did not improve from 0.20115\n",
            "Epoch 25/50\n",
            " - 1s - loss: 0.2034 - acc: 0.9437 - val_loss: 1.5632 - val_acc: 0.4688\n",
            "\n",
            "Epoch 00025: val_loss did not improve from 0.20115\n",
            "Epoch 26/50\n",
            " - 1s - loss: 0.2350 - acc: 0.9375 - val_loss: 0.3792 - val_acc: 0.8125\n",
            "\n",
            "Epoch 00026: val_loss did not improve from 0.20115\n",
            "Epoch 27/50\n",
            " - 1s - loss: 0.2086 - acc: 0.9469 - val_loss: 0.8755 - val_acc: 0.6562\n",
            "\n",
            "Epoch 00027: val_loss did not improve from 0.20115\n",
            "Epoch 28/50\n",
            " - 1s - loss: 0.2935 - acc: 0.8937 - val_loss: 1.5071 - val_acc: 0.4219\n",
            "\n",
            "Epoch 00028: val_loss did not improve from 0.20115\n",
            "Epoch 29/50\n",
            " - 1s - loss: 0.3029 - acc: 0.9156 - val_loss: 0.5210 - val_acc: 0.7344\n",
            "\n",
            "Epoch 00029: val_loss did not improve from 0.20115\n",
            "Epoch 30/50\n",
            " - 1s - loss: 0.3394 - acc: 0.8688 - val_loss: 1.4503 - val_acc: 0.5156\n",
            "\n",
            "Epoch 00030: val_loss did not improve from 0.20115\n",
            "Epoch 31/50\n",
            " - 1s - loss: 0.3917 - acc: 0.8594 - val_loss: 0.5430 - val_acc: 0.8409\n",
            "\n",
            "Epoch 00031: val_loss did not improve from 0.20115\n",
            "Epoch 32/50\n",
            " - 1s - loss: 0.1962 - acc: 0.9625 - val_loss: 0.4625 - val_acc: 0.7969\n",
            "\n",
            "Epoch 00032: val_loss did not improve from 0.20115\n",
            "Epoch 33/50\n",
            " - 1s - loss: 0.2656 - acc: 0.9000 - val_loss: 0.1717 - val_acc: 0.9375\n",
            "\n",
            "Epoch 00033: val_loss improved from 0.20115 to 0.17174, saving model to weights_architecture_3.hdf5\n",
            "Epoch 34/50\n",
            " - 1s - loss: 0.1826 - acc: 0.9437 - val_loss: 0.5186 - val_acc: 0.7969\n",
            "\n",
            "Epoch 00034: val_loss did not improve from 0.17174\n",
            "Epoch 35/50\n",
            " - 1s - loss: 0.3656 - acc: 0.8625 - val_loss: 0.4715 - val_acc: 0.7188\n",
            "\n",
            "Epoch 00035: val_loss did not improve from 0.17174\n",
            "Epoch 36/50\n",
            " - 1s - loss: 0.2155 - acc: 0.9313 - val_loss: 0.3214 - val_acc: 0.8438\n",
            "\n",
            "Epoch 00036: val_loss did not improve from 0.17174\n",
            "Epoch 37/50\n",
            " - 1s - loss: 0.3165 - acc: 0.8750 - val_loss: 0.3765 - val_acc: 0.8125\n",
            "\n",
            "Epoch 00037: val_loss did not improve from 0.17174\n",
            "Epoch 38/50\n",
            " - 1s - loss: 0.1739 - acc: 0.9281 - val_loss: 0.2593 - val_acc: 0.9062\n",
            "\n",
            "Epoch 00038: val_loss did not improve from 0.17174\n",
            "Epoch 39/50\n",
            " - 1s - loss: 0.2413 - acc: 0.9156 - val_loss: 0.2610 - val_acc: 0.8906\n",
            "\n",
            "Epoch 00039: val_loss did not improve from 0.17174\n",
            "Epoch 40/50\n",
            " - 1s - loss: 0.2185 - acc: 0.9313 - val_loss: 0.2408 - val_acc: 0.9531\n",
            "\n",
            "Epoch 00040: val_loss did not improve from 0.17174\n",
            "Epoch 41/50\n",
            " - 1s - loss: 0.2349 - acc: 0.9125 - val_loss: 0.4305 - val_acc: 0.8125\n",
            "\n",
            "Epoch 00041: val_loss did not improve from 0.17174\n",
            "Epoch 42/50\n",
            " - 1s - loss: 0.3306 - acc: 0.8844 - val_loss: 0.2220 - val_acc: 0.9062\n",
            "\n",
            "Epoch 00042: val_loss did not improve from 0.17174\n",
            "Epoch 43/50\n",
            " - 1s - loss: 0.2108 - acc: 0.9188 - val_loss: 0.2208 - val_acc: 0.9531\n",
            "\n",
            "Epoch 00043: val_loss did not improve from 0.17174\n",
            "Epoch 44/50\n",
            " - 1s - loss: 0.2871 - acc: 0.8812 - val_loss: 0.6639 - val_acc: 0.7500\n",
            "\n",
            "Epoch 00044: val_loss did not improve from 0.17174\n",
            "Epoch 45/50\n",
            " - 1s - loss: 0.2416 - acc: 0.9250 - val_loss: 0.3844 - val_acc: 0.8281\n",
            "\n",
            "Epoch 00045: val_loss did not improve from 0.17174\n",
            "Epoch 46/50\n",
            " - 1s - loss: 0.2257 - acc: 0.9188 - val_loss: 0.3940 - val_acc: 0.7812\n",
            "\n",
            "Epoch 00046: val_loss did not improve from 0.17174\n",
            "Epoch 47/50\n",
            " - 1s - loss: 0.2470 - acc: 0.9012 - val_loss: 0.2300 - val_acc: 0.9531\n",
            "\n",
            "Epoch 00047: val_loss did not improve from 0.17174\n",
            "Epoch 48/50\n",
            " - 1s - loss: 0.1917 - acc: 0.9156 - val_loss: 0.2705 - val_acc: 0.9545\n",
            "\n",
            "Epoch 00048: val_loss did not improve from 0.17174\n",
            "Epoch 49/50\n",
            " - 1s - loss: 0.2236 - acc: 0.9250 - val_loss: 1.6564 - val_acc: 0.5312\n",
            "\n",
            "Epoch 00049: val_loss did not improve from 0.17174\n",
            "Epoch 50/50\n",
            " - 1s - loss: 0.1833 - acc: 0.9531 - val_loss: 1.4435 - val_acc: 0.5625\n",
            "\n",
            "Epoch 00050: val_loss did not improve from 0.17174\n"
          ],
          "name": "stdout"
        }
      ]
    },
    {
      "metadata": {
        "colab_type": "code",
        "outputId": "1b16adae-6f06-4c7c-f394-3be4e5d11f6a",
        "id": "RXVTmOSb3Jmc",
        "colab": {
          "base_uri": "https://localhost:8080/",
          "height": 380
        }
      },
      "cell_type": "code",
      "source": [
        "# plotar loss e accuracy para os datasets 'train' e 'test'\n",
        "plt.style.use(\"ggplot\")\n",
        "plt.figure()\n",
        "plt.plot(training.history['acc'], label='Accuracy')\n",
        "plt.plot(training.history['loss'], label='Loss')\n",
        "plt.xlabel('Epochs')\n",
        "plt.ylabel('Accuracy')\n",
        "plt.title(\"Training Loss and Accuracy\")\n",
        "plt.ylabel(\"Loss/Accuracy\")\n",
        "plt.legend()\n",
        "plt.savefig('architecture_3.png', bbox_inches='tight')"
      ],
      "execution_count": 0,
      "outputs": [
        {
          "output_type": "display_data",
          "data": {
            "image/png": "[encoded data removed]",
            "text/plain": [
              "<matplotlib.figure.Figure at 0x7fb8f8bbcb38>"
            ]
          },
          "metadata": {
            "tags": []
          }
        }
      ]
    },
    {
      "metadata": {
        "id": "beMjDQ5a42rk",
        "colab_type": "code",
        "colab": {}
      },
      "cell_type": "code",
      "source": [
        "model.load_weights('weights_architecture_3.hdf5')"
      ],
      "execution_count": 0,
      "outputs": []
    },
    {
      "metadata": {
        "colab_type": "code",
        "outputId": "a522ef6b-f312-4d31-e7af-207dcc9ff129",
        "id": "NO1wFDaN3Jmn",
        "colab": {
          "base_uri": "https://localhost:8080/",
          "height": 34
        }
      },
      "cell_type": "code",
      "source": [
        "results['architecture_3'] = model.evaluate_generator(test_batches, steps=bSize, use_multiprocessing=True, verbose=1)"
      ],
      "execution_count": 0,
      "outputs": [
        {
          "output_type": "stream",
          "text": [
            "32/32 [==============================] - 4s 115ms/step\n"
          ],
          "name": "stdout"
        }
      ]
    },
    {
      "metadata": {
        "colab_type": "code",
        "outputId": "5d45b53d-1cfb-460f-d342-7956560706dc",
        "id": "-h1AqUQL3Jmz",
        "colab": {
          "base_uri": "https://localhost:8080/",
          "height": 34
        }
      },
      "cell_type": "code",
      "source": [
        "print('Test Loss: {} | Test Accuracy: {:.2f}%'.format(results['architecture_3'][0], 100 * results['architecture_3'][1]))"
      ],
      "execution_count": 0,
      "outputs": [
        {
          "output_type": "stream",
          "text": [
            "Test Loss: 0.32302195443881776 | Test Accuracy: 87.75%\n"
          ],
          "name": "stdout"
        }
      ]
    },
    {
      "metadata": {
        "id": "jkrlEFjlw030",
        "colab_type": "text"
      },
      "cell_type": "markdown",
      "source": [
        "### 4 tentativa"
      ]
    },
    {
      "metadata": {
        "id": "UJ7JELAiw2kb",
        "colab_type": "text"
      },
      "cell_type": "markdown",
      "source": [
        "Modelo adaptado do **Lucas Albertins**\n",
        "\n",
        "*   Sem os **dropout**\n"
      ]
    },
    {
      "metadata": {
        "colab_type": "code",
        "id": "4N0B_5a2xB3T",
        "colab": {}
      },
      "cell_type": "code",
      "source": [
        "from keras.layers import Conv2D, MaxPooling2D, GlobalMaxPooling2D, BatchNormalization\n",
        "from keras.regularizers import l2\n",
        "\n",
        "model = Sequential()\n",
        "\n",
        "model.add(Conv2D(32, (3, 3), activation='relu', kernel_regularizer=l2(1e-4), \n",
        "                 input_shape=(None, None, 3)))\n",
        "model.add(BatchNormalization())\n",
        "model.add(Conv2D(32, (3, 3), activation='relu', kernel_regularizer=l2(1e-4)))\n",
        "model.add(BatchNormalization())\n",
        "model.add(MaxPooling2D((2, 2)))\n",
        "\n",
        "model.add(Conv2D(64, (3, 3), activation='relu', kernel_regularizer=l2(1e-4)))\n",
        "model.add(BatchNormalization())\n",
        "model.add(Conv2D(64, (3, 3), activation='relu', kernel_regularizer=l2(1e-4)))\n",
        "model.add(BatchNormalization())\n",
        "model.add(MaxPooling2D((2, 2)))\n",
        "\n",
        "model.add(Conv2D(128, (1,1), kernel_regularizer=l2(1e-4)))\n",
        "model.add(GlobalMaxPooling2D())\n",
        "\n",
        "model.add(Dense(256, activation='relu', kernel_regularizer=l2(1e-4)))\n",
        "model.add(BatchNormalization())\n",
        "model.add(Dense(2, activation='sigmoid', kernel_regularizer=l2(1e-4)))"
      ],
      "execution_count": 0,
      "outputs": []
    },
    {
      "metadata": {
        "colab_type": "code",
        "id": "V9VHjygmxB3k",
        "colab": {}
      },
      "cell_type": "code",
      "source": [
        "model.compile(optimizer='adam', loss='binary_crossentropy', metrics=['accuracy'])"
      ],
      "execution_count": 0,
      "outputs": []
    },
    {
      "metadata": {
        "colab_type": "code",
        "id": "B4b-aFhp4RmP",
        "colab": {}
      },
      "cell_type": "code",
      "source": [
        "checkpointer = ModelCheckpoint(filepath='weights_architecture_4.hdf5', verbose=1, save_best_only=True)"
      ],
      "execution_count": 0,
      "outputs": []
    },
    {
      "metadata": {
        "colab_type": "code",
        "outputId": "e0553370-dc02-46cf-823b-7e14ec4cb56e",
        "id": "gE1pEJNR4RmV",
        "colab": {
          "base_uri": "https://localhost:8080/",
          "height": 3417
        }
      },
      "cell_type": "code",
      "source": [
        "training = model.fit_generator(train_batches, steps_per_epoch=stepsPerEpoche, \n",
        "                   validation_data=validation_batches, validation_steps=validationSteps,\n",
        "                   epochs=50, verbose=2, callbacks=[checkpointer])"
      ],
      "execution_count": 0,
      "outputs": [
        {
          "output_type": "stream",
          "text": [
            "Epoch 1/50\n",
            " - 3s - loss: 0.4948 - acc: 0.7969 - val_loss: 0.4625 - val_acc: 0.8438\n",
            "\n",
            "Epoch 00001: val_loss improved from inf to 0.46252, saving model to weights_architecture_4.hdf5\n",
            "Epoch 2/50\n",
            " - 0s - loss: 0.3706 - acc: 0.8563 - val_loss: 0.2746 - val_acc: 0.9219\n",
            "\n",
            "Epoch 00002: val_loss improved from 0.46252 to 0.27464, saving model to weights_architecture_4.hdf5\n",
            "Epoch 3/50\n",
            " - 0s - loss: 0.3508 - acc: 0.8844 - val_loss: 0.4417 - val_acc: 0.8281\n",
            "\n",
            "Epoch 00003: val_loss did not improve from 0.27464\n",
            "Epoch 4/50\n",
            " - 0s - loss: 0.3224 - acc: 0.8937 - val_loss: 0.3499 - val_acc: 0.8636\n",
            "\n",
            "Epoch 00004: val_loss did not improve from 0.27464\n",
            "Epoch 5/50\n",
            " - 0s - loss: 0.3156 - acc: 0.8563 - val_loss: 0.4850 - val_acc: 0.8438\n",
            "\n",
            "Epoch 00005: val_loss did not improve from 0.27464\n",
            "Epoch 6/50\n",
            " - 0s - loss: 0.2291 - acc: 0.9469 - val_loss: 0.4429 - val_acc: 0.9219\n",
            "\n",
            "Epoch 00006: val_loss did not improve from 0.27464\n",
            "Epoch 7/50\n",
            " - 0s - loss: 0.3910 - acc: 0.8594 - val_loss: 0.1628 - val_acc: 0.9688\n",
            "\n",
            "Epoch 00007: val_loss improved from 0.27464 to 0.16275, saving model to weights_architecture_4.hdf5\n",
            "Epoch 8/50\n",
            " - 0s - loss: 0.2576 - acc: 0.9000 - val_loss: 1.1319 - val_acc: 0.6719\n",
            "\n",
            "Epoch 00008: val_loss did not improve from 0.16275\n",
            "Epoch 9/50\n",
            " - 0s - loss: 0.3543 - acc: 0.8906 - val_loss: 1.3172 - val_acc: 0.6406\n",
            "\n",
            "Epoch 00009: val_loss did not improve from 0.16275\n",
            "Epoch 10/50\n",
            " - 1s - loss: 0.2031 - acc: 0.9375 - val_loss: 0.8122 - val_acc: 0.7188\n",
            "\n",
            "Epoch 00010: val_loss did not improve from 0.16275\n",
            "Epoch 11/50\n",
            " - 1s - loss: 0.2472 - acc: 0.9156 - val_loss: 0.4012 - val_acc: 0.8438\n",
            "\n",
            "Epoch 00011: val_loss did not improve from 0.16275\n",
            "Epoch 12/50\n",
            " - 1s - loss: 0.2182 - acc: 0.9375 - val_loss: 0.1547 - val_acc: 0.9688\n",
            "\n",
            "Epoch 00012: val_loss improved from 0.16275 to 0.15466, saving model to weights_architecture_4.hdf5\n",
            "Epoch 13/50\n",
            " - 1s - loss: 0.3867 - acc: 0.8656 - val_loss: 0.9916 - val_acc: 0.7500\n",
            "\n",
            "Epoch 00013: val_loss did not improve from 0.15466\n",
            "Epoch 14/50\n",
            " - 1s - loss: 0.1683 - acc: 0.9406 - val_loss: 0.4671 - val_acc: 0.8594\n",
            "\n",
            "Epoch 00014: val_loss did not improve from 0.15466\n",
            "Epoch 15/50\n",
            " - 1s - loss: 0.2650 - acc: 0.8969 - val_loss: 0.6076 - val_acc: 0.8438\n",
            "\n",
            "Epoch 00015: val_loss did not improve from 0.15466\n",
            "Epoch 16/50\n",
            " - 1s - loss: 0.2541 - acc: 0.9125 - val_loss: 0.3670 - val_acc: 0.8594\n",
            "\n",
            "Epoch 00016: val_loss did not improve from 0.15466\n",
            "Epoch 17/50\n",
            " - 1s - loss: 0.1726 - acc: 0.9562 - val_loss: 1.0299 - val_acc: 0.7031\n",
            "\n",
            "Epoch 00017: val_loss did not improve from 0.15466\n",
            "Epoch 18/50\n",
            " - 1s - loss: 0.2337 - acc: 0.9188 - val_loss: 1.4383 - val_acc: 0.6875\n",
            "\n",
            "Epoch 00018: val_loss did not improve from 0.15466\n",
            "Epoch 19/50\n",
            " - 1s - loss: 0.3073 - acc: 0.8969 - val_loss: 1.8000 - val_acc: 0.6094\n",
            "\n",
            "Epoch 00019: val_loss did not improve from 0.15466\n",
            "Epoch 20/50\n",
            " - 1s - loss: 0.3076 - acc: 0.8500 - val_loss: 1.9643 - val_acc: 0.4844\n",
            "\n",
            "Epoch 00020: val_loss did not improve from 0.15466\n",
            "Epoch 21/50\n",
            " - 1s - loss: 0.1809 - acc: 0.9656 - val_loss: 3.2890 - val_acc: 0.3864\n",
            "\n",
            "Epoch 00021: val_loss did not improve from 0.15466\n",
            "Epoch 22/50\n",
            " - 1s - loss: 0.2226 - acc: 0.9219 - val_loss: 1.7926 - val_acc: 0.5469\n",
            "\n",
            "Epoch 00022: val_loss did not improve from 0.15466\n",
            "Epoch 23/50\n",
            " - 1s - loss: 0.2038 - acc: 0.9406 - val_loss: 2.2706 - val_acc: 0.5781\n",
            "\n",
            "Epoch 00023: val_loss did not improve from 0.15466\n",
            "Epoch 24/50\n",
            " - 1s - loss: 0.1973 - acc: 0.9344 - val_loss: 0.8047 - val_acc: 0.7812\n",
            "\n",
            "Epoch 00024: val_loss did not improve from 0.15466\n",
            "Epoch 25/50\n",
            " - 1s - loss: 0.2075 - acc: 0.9250 - val_loss: 1.0152 - val_acc: 0.8281\n",
            "\n",
            "Epoch 00025: val_loss did not improve from 0.15466\n",
            "Epoch 26/50\n",
            " - 1s - loss: 0.2437 - acc: 0.9313 - val_loss: 0.5741 - val_acc: 0.8438\n",
            "\n",
            "Epoch 00026: val_loss did not improve from 0.15466\n",
            "Epoch 27/50\n",
            " - 1s - loss: 0.1804 - acc: 0.9551 - val_loss: 0.6317 - val_acc: 0.8281\n",
            "\n",
            "Epoch 00027: val_loss did not improve from 0.15466\n",
            "Epoch 28/50\n",
            " - 1s - loss: 0.2354 - acc: 0.9344 - val_loss: 0.5878 - val_acc: 0.8125\n",
            "\n",
            "Epoch 00028: val_loss did not improve from 0.15466\n",
            "Epoch 29/50\n",
            " - 1s - loss: 0.2293 - acc: 0.9281 - val_loss: 0.4281 - val_acc: 0.8906\n",
            "\n",
            "Epoch 00029: val_loss did not improve from 0.15466\n",
            "Epoch 30/50\n",
            " - 1s - loss: 0.2738 - acc: 0.9125 - val_loss: 1.3271 - val_acc: 0.6406\n",
            "\n",
            "Epoch 00030: val_loss did not improve from 0.15466\n",
            "Epoch 31/50\n",
            " - 1s - loss: 0.2538 - acc: 0.9000 - val_loss: 0.4944 - val_acc: 0.8281\n",
            "\n",
            "Epoch 00031: val_loss did not improve from 0.15466\n",
            "Epoch 32/50\n",
            " - 1s - loss: 0.2867 - acc: 0.9031 - val_loss: 0.7852 - val_acc: 0.6875\n",
            "\n",
            "Epoch 00032: val_loss did not improve from 0.15466\n",
            "Epoch 33/50\n",
            " - 1s - loss: 0.1848 - acc: 0.9375 - val_loss: 0.2608 - val_acc: 0.8438\n",
            "\n",
            "Epoch 00033: val_loss did not improve from 0.15466\n",
            "Epoch 34/50\n",
            " - 1s - loss: 0.2251 - acc: 0.9344 - val_loss: 0.2807 - val_acc: 0.8906\n",
            "\n",
            "Epoch 00034: val_loss did not improve from 0.15466\n",
            "Epoch 35/50\n",
            " - 1s - loss: 0.2103 - acc: 0.9469 - val_loss: 0.2205 - val_acc: 0.9062\n",
            "\n",
            "Epoch 00035: val_loss did not improve from 0.15466\n",
            "Epoch 36/50\n",
            " - 1s - loss: 0.1625 - acc: 0.9625 - val_loss: 0.6839 - val_acc: 0.7656\n",
            "\n",
            "Epoch 00036: val_loss did not improve from 0.15466\n",
            "Epoch 37/50\n",
            " - 1s - loss: 0.1749 - acc: 0.9469 - val_loss: 0.2065 - val_acc: 0.9062\n",
            "\n",
            "Epoch 00037: val_loss did not improve from 0.15466\n",
            "Epoch 38/50\n",
            " - 1s - loss: 0.2052 - acc: 0.9250 - val_loss: 0.4463 - val_acc: 0.8182\n",
            "\n",
            "Epoch 00038: val_loss did not improve from 0.15466\n",
            "Epoch 39/50\n",
            " - 1s - loss: 0.2064 - acc: 0.9406 - val_loss: 0.9942 - val_acc: 0.6719\n",
            "\n",
            "Epoch 00039: val_loss did not improve from 0.15466\n",
            "Epoch 40/50\n",
            " - 1s - loss: 0.1782 - acc: 0.9406 - val_loss: 1.2926 - val_acc: 0.5781\n",
            "\n",
            "Epoch 00040: val_loss did not improve from 0.15466\n",
            "Epoch 41/50\n",
            " - 1s - loss: 0.1418 - acc: 0.9719 - val_loss: 0.4754 - val_acc: 0.7969\n",
            "\n",
            "Epoch 00041: val_loss did not improve from 0.15466\n",
            "Epoch 42/50\n",
            " - 1s - loss: 0.2634 - acc: 0.9156 - val_loss: 0.8861 - val_acc: 0.6875\n",
            "\n",
            "Epoch 00042: val_loss did not improve from 0.15466\n",
            "Epoch 43/50\n",
            " - 1s - loss: 0.2698 - acc: 0.9125 - val_loss: 0.6174 - val_acc: 0.7188\n",
            "\n",
            "Epoch 00043: val_loss did not improve from 0.15466\n",
            "Epoch 44/50\n",
            " - 1s - loss: 0.3335 - acc: 0.8844 - val_loss: 0.3888 - val_acc: 0.8438\n",
            "\n",
            "Epoch 00044: val_loss did not improve from 0.15466\n",
            "Epoch 45/50\n",
            " - 1s - loss: 0.2989 - acc: 0.9000 - val_loss: 0.2511 - val_acc: 0.9531\n",
            "\n",
            "Epoch 00045: val_loss did not improve from 0.15466\n",
            "Epoch 46/50\n",
            " - 1s - loss: 0.2726 - acc: 0.8969 - val_loss: 0.2730 - val_acc: 0.9062\n",
            "\n",
            "Epoch 00046: val_loss did not improve from 0.15466\n",
            "Epoch 47/50\n",
            " - 1s - loss: 0.2574 - acc: 0.9156 - val_loss: 0.2080 - val_acc: 0.9375\n",
            "\n",
            "Epoch 00047: val_loss did not improve from 0.15466\n",
            "Epoch 48/50\n",
            " - 1s - loss: 0.2438 - acc: 0.9188 - val_loss: 0.4277 - val_acc: 0.8125\n",
            "\n",
            "Epoch 00048: val_loss did not improve from 0.15466\n",
            "Epoch 49/50\n",
            " - 1s - loss: 0.2871 - acc: 0.8969 - val_loss: 0.4918 - val_acc: 0.7969\n",
            "\n",
            "Epoch 00049: val_loss did not improve from 0.15466\n",
            "Epoch 50/50\n",
            " - 1s - loss: 0.2203 - acc: 0.9344 - val_loss: 0.8683 - val_acc: 0.6875\n",
            "\n",
            "Epoch 00050: val_loss did not improve from 0.15466\n"
          ],
          "name": "stdout"
        }
      ]
    },
    {
      "metadata": {
        "colab_type": "code",
        "outputId": "f283b7af-3625-4307-f9b5-0abb147afb66",
        "id": "lFpl5k8o4Rme",
        "colab": {
          "base_uri": "https://localhost:8080/",
          "height": 380
        }
      },
      "cell_type": "code",
      "source": [
        "# plotar loss e accuracy para os datasets 'train' e 'test'\n",
        "plt.style.use(\"ggplot\")\n",
        "plt.figure()\n",
        "plt.plot(training.history['acc'], label='Accuracy')\n",
        "plt.plot(training.history['loss'], label='Loss')\n",
        "plt.xlabel('Epochs')\n",
        "plt.ylabel('Accuracy')\n",
        "plt.title(\"Training Loss and Accuracy\")\n",
        "plt.ylabel(\"Loss/Accuracy\")\n",
        "plt.legend()\n",
        "plt.savefig('architecture_4.png', bbox_inches='tight')"
      ],
      "execution_count": 0,
      "outputs": [
        {
          "output_type": "display_data",
          "data": {
            "image/png": "[encoded data removed]",
            "text/plain": [
              "<matplotlib.figure.Figure at 0x7fb8f8bbcfd0>"
            ]
          },
          "metadata": {
            "tags": []
          }
        }
      ]
    },
    {
      "metadata": {
        "id": "MhD8Yac15Xio",
        "colab_type": "code",
        "colab": {}
      },
      "cell_type": "code",
      "source": [
        "model.load_weights('weights_architecture_4.hdf5')"
      ],
      "execution_count": 0,
      "outputs": []
    },
    {
      "metadata": {
        "colab_type": "code",
        "outputId": "ab310cd4-955f-4f1c-d958-43c36e51bc90",
        "id": "ntC2DQb84Rm2",
        "colab": {
          "base_uri": "https://localhost:8080/",
          "height": 34
        }
      },
      "cell_type": "code",
      "source": [
        "results['architecture_4'] = model.evaluate_generator(test_batches, steps=bSize, use_multiprocessing=True, verbose=1)"
      ],
      "execution_count": 0,
      "outputs": [
        {
          "output_type": "stream",
          "text": [
            "32/32 [==============================] - 4s 114ms/step\n"
          ],
          "name": "stdout"
        }
      ]
    },
    {
      "metadata": {
        "colab_type": "code",
        "outputId": "522e8176-5fb2-45ff-e909-2fd9fbdbf1a3",
        "id": "AFSvmeU84Rm9",
        "colab": {
          "base_uri": "https://localhost:8080/",
          "height": 34
        }
      },
      "cell_type": "code",
      "source": [
        "print('Test Loss: {} | Test Accuracy: {:.2f}%'.format(results['architecture_4'][0], 100 * results['architecture_4'][1]))"
      ],
      "execution_count": 0,
      "outputs": [
        {
          "output_type": "stream",
          "text": [
            "Test Loss: 0.4284676597343655 | Test Accuracy: 84.89%\n"
          ],
          "name": "stdout"
        }
      ]
    },
    {
      "metadata": {
        "id": "lX3WANMgB1Ew",
        "colab_type": "text"
      },
      "cell_type": "markdown",
      "source": [
        "### 5 tentativa"
      ]
    },
    {
      "metadata": {
        "colab_type": "text",
        "id": "dqed1VQh6WXg"
      },
      "cell_type": "markdown",
      "source": [
        "Modelo adaptado do **Lucas Albertins**\n",
        "\n",
        "*   Sem os **dropout**\n",
        "*   Função **SGD** para compilação\n"
      ]
    },
    {
      "metadata": {
        "colab_type": "code",
        "id": "z9mlUa4mB-ER",
        "colab": {}
      },
      "cell_type": "code",
      "source": [
        "from keras.layers import Conv2D, MaxPooling2D, GlobalMaxPooling2D, BatchNormalization\n",
        "from keras.regularizers import l2\n",
        "\n",
        "model = Sequential()\n",
        "\n",
        "model.add(Conv2D(32, (3, 3), activation='relu', kernel_regularizer=l2(1e-4), \n",
        "                 input_shape=(None, None, 3)))\n",
        "model.add(BatchNormalization())\n",
        "model.add(Conv2D(32, (3, 3), activation='relu', kernel_regularizer=l2(1e-4)))\n",
        "model.add(BatchNormalization())\n",
        "model.add(MaxPooling2D((2, 2)))\n",
        "model.add(Dropout(0.25))\n",
        "\n",
        "model.add(Conv2D(64, (3, 3), activation='relu', kernel_regularizer=l2(1e-4)))\n",
        "model.add(BatchNormalization())\n",
        "model.add(Conv2D(64, (3, 3), activation='relu', kernel_regularizer=l2(1e-4)))\n",
        "model.add(BatchNormalization())\n",
        "model.add(MaxPooling2D((2, 2)))\n",
        "model.add(Dropout(0.25))\n",
        "\n",
        "model.add(Conv2D(128, (1,1), kernel_regularizer=l2(1e-4)))\n",
        "model.add(GlobalMaxPooling2D())\n",
        "\n",
        "model.add(Dense(256, activation='relu', kernel_regularizer=l2(1e-4)))\n",
        "model.add(Dropout(0.5))\n",
        "model.add(Dense(2, activation='sigmoid', kernel_regularizer=l2(1e-4)))"
      ],
      "execution_count": 0,
      "outputs": []
    },
    {
      "metadata": {
        "id": "ukvJwM-lCHtB",
        "colab_type": "code",
        "colab": {}
      },
      "cell_type": "code",
      "source": [
        "model.compile(SGD(lr=0.01, momentum=0.0, decay=0.0, nesterov=False), \n",
        "              loss='binary_crossentropy', metrics=['accuracy'])"
      ],
      "execution_count": 0,
      "outputs": []
    },
    {
      "metadata": {
        "colab_type": "code",
        "id": "BuvCUFsS4gfl",
        "colab": {}
      },
      "cell_type": "code",
      "source": [
        "checkpointer = ModelCheckpoint(filepath='weights_architecture_5.hdf5', verbose=1, save_best_only=True)"
      ],
      "execution_count": 0,
      "outputs": []
    },
    {
      "metadata": {
        "colab_type": "code",
        "outputId": "210c98df-a4ba-4bb2-f74c-bdb565b1df42",
        "id": "06GSgiIj4gfo",
        "colab": {
          "base_uri": "https://localhost:8080/",
          "height": 3417
        }
      },
      "cell_type": "code",
      "source": [
        "training = model.fit_generator(train_batches, steps_per_epoch=stepsPerEpoche, \n",
        "                   validation_data=validation_batches, validation_steps=validationSteps,\n",
        "                   epochs=50, verbose=2, callbacks=[checkpointer])"
      ],
      "execution_count": 0,
      "outputs": [
        {
          "output_type": "stream",
          "text": [
            "Epoch 1/50\n",
            " - 3s - loss: 1.2712 - acc: 0.5875 - val_loss: 0.7546 - val_acc: 0.4531\n",
            "\n",
            "Epoch 00001: val_loss improved from inf to 0.75457, saving model to weights_architecture_5.hdf5\n",
            "Epoch 2/50\n",
            " - 0s - loss: 0.8985 - acc: 0.6156 - val_loss: 0.5960 - val_acc: 0.6719\n",
            "\n",
            "Epoch 00002: val_loss improved from 0.75457 to 0.59596, saving model to weights_architecture_5.hdf5\n",
            "Epoch 3/50\n",
            " - 0s - loss: 0.8895 - acc: 0.6844 - val_loss: 0.8353 - val_acc: 0.5625\n",
            "\n",
            "Epoch 00003: val_loss did not improve from 0.59596\n",
            "Epoch 4/50\n",
            " - 0s - loss: 0.6863 - acc: 0.7719 - val_loss: 0.7966 - val_acc: 0.5938\n",
            "\n",
            "Epoch 00004: val_loss did not improve from 0.59596\n",
            "Epoch 5/50\n",
            " - 0s - loss: 0.5734 - acc: 0.8063 - val_loss: 0.5991 - val_acc: 0.6562\n",
            "\n",
            "Epoch 00005: val_loss did not improve from 0.59596\n",
            "Epoch 6/50\n",
            " - 0s - loss: 0.4898 - acc: 0.8344 - val_loss: 0.7487 - val_acc: 0.6094\n",
            "\n",
            "Epoch 00006: val_loss did not improve from 0.59596\n",
            "Epoch 7/50\n",
            " - 0s - loss: 0.6408 - acc: 0.7789 - val_loss: 0.4867 - val_acc: 0.8438\n",
            "\n",
            "Epoch 00007: val_loss improved from 0.59596 to 0.48672, saving model to weights_architecture_5.hdf5\n",
            "Epoch 8/50\n",
            " - 0s - loss: 0.5847 - acc: 0.8187 - val_loss: 0.7161 - val_acc: 0.6094\n",
            "\n",
            "Epoch 00008: val_loss did not improve from 0.48672\n",
            "Epoch 9/50\n",
            " - 0s - loss: 0.4509 - acc: 0.8625 - val_loss: 0.4354 - val_acc: 0.8594\n",
            "\n",
            "Epoch 00009: val_loss improved from 0.48672 to 0.43539, saving model to weights_architecture_5.hdf5\n",
            "Epoch 10/50\n",
            " - 1s - loss: 0.4702 - acc: 0.8500 - val_loss: 0.5623 - val_acc: 0.7500\n",
            "\n",
            "Epoch 00010: val_loss did not improve from 0.43539\n",
            "Epoch 11/50\n",
            " - 1s - loss: 0.4830 - acc: 0.8156 - val_loss: 0.5692 - val_acc: 0.7273\n",
            "\n",
            "Epoch 00011: val_loss did not improve from 0.43539\n",
            "Epoch 12/50\n",
            " - 1s - loss: 0.4750 - acc: 0.8156 - val_loss: 0.3722 - val_acc: 0.8594\n",
            "\n",
            "Epoch 00012: val_loss improved from 0.43539 to 0.37221, saving model to weights_architecture_5.hdf5\n",
            "Epoch 13/50\n",
            " - 1s - loss: 0.3452 - acc: 0.8906 - val_loss: 0.8387 - val_acc: 0.6250\n",
            "\n",
            "Epoch 00013: val_loss did not improve from 0.37221\n",
            "Epoch 14/50\n",
            " - 1s - loss: 0.3735 - acc: 0.8844 - val_loss: 0.3249 - val_acc: 0.9375\n",
            "\n",
            "Epoch 00014: val_loss improved from 0.37221 to 0.32492, saving model to weights_architecture_5.hdf5\n",
            "Epoch 15/50\n",
            " - 1s - loss: 0.3986 - acc: 0.8750 - val_loss: 0.6633 - val_acc: 0.6094\n",
            "\n",
            "Epoch 00015: val_loss did not improve from 0.32492\n",
            "Epoch 16/50\n",
            " - 1s - loss: 0.4330 - acc: 0.8594 - val_loss: 0.6365 - val_acc: 0.6562\n",
            "\n",
            "Epoch 00016: val_loss did not improve from 0.32492\n",
            "Epoch 17/50\n",
            " - 1s - loss: 0.3704 - acc: 0.8688 - val_loss: 0.4618 - val_acc: 0.8281\n",
            "\n",
            "Epoch 00017: val_loss did not improve from 0.32492\n",
            "Epoch 18/50\n",
            " - 1s - loss: 0.4084 - acc: 0.8469 - val_loss: 0.5214 - val_acc: 0.7656\n",
            "\n",
            "Epoch 00018: val_loss did not improve from 0.32492\n",
            "Epoch 19/50\n",
            " - 1s - loss: 0.4379 - acc: 0.8469 - val_loss: 0.4484 - val_acc: 0.9062\n",
            "\n",
            "Epoch 00019: val_loss did not improve from 0.32492\n",
            "Epoch 20/50\n",
            " - 1s - loss: 0.4352 - acc: 0.8563 - val_loss: 0.5316 - val_acc: 0.7344\n",
            "\n",
            "Epoch 00020: val_loss did not improve from 0.32492\n",
            "Epoch 21/50\n",
            " - 1s - loss: 0.4017 - acc: 0.8688 - val_loss: 0.6117 - val_acc: 0.7500\n",
            "\n",
            "Epoch 00021: val_loss did not improve from 0.32492\n",
            "Epoch 22/50\n",
            " - 1s - loss: 0.2977 - acc: 0.8969 - val_loss: 0.3508 - val_acc: 0.9375\n",
            "\n",
            "Epoch 00022: val_loss did not improve from 0.32492\n",
            "Epoch 23/50\n",
            " - 1s - loss: 0.3496 - acc: 0.8563 - val_loss: 0.4026 - val_acc: 0.8438\n",
            "\n",
            "Epoch 00023: val_loss did not improve from 0.32492\n",
            "Epoch 24/50\n",
            " - 1s - loss: 0.3252 - acc: 0.8625 - val_loss: 0.3299 - val_acc: 0.8906\n",
            "\n",
            "Epoch 00024: val_loss did not improve from 0.32492\n",
            "Epoch 25/50\n",
            " - 1s - loss: 0.2821 - acc: 0.9125 - val_loss: 0.5194 - val_acc: 0.7812\n",
            "\n",
            "Epoch 00025: val_loss did not improve from 0.32492\n",
            "Epoch 26/50\n",
            " - 1s - loss: 0.2380 - acc: 0.9094 - val_loss: 0.3393 - val_acc: 0.9219\n",
            "\n",
            "Epoch 00026: val_loss did not improve from 0.32492\n",
            "Epoch 27/50\n",
            " - 1s - loss: 0.3199 - acc: 0.8937 - val_loss: 1.2325 - val_acc: 0.4688\n",
            "\n",
            "Epoch 00027: val_loss did not improve from 0.32492\n",
            "Epoch 28/50\n",
            " - 1s - loss: 0.3361 - acc: 0.8812 - val_loss: 0.8214 - val_acc: 0.5227\n",
            "\n",
            "Epoch 00028: val_loss did not improve from 0.32492\n",
            "Epoch 29/50\n",
            " - 1s - loss: 0.3569 - acc: 0.8906 - val_loss: 0.5083 - val_acc: 0.7656\n",
            "\n",
            "Epoch 00029: val_loss did not improve from 0.32492\n",
            "Epoch 30/50\n",
            " - 1s - loss: 0.4378 - acc: 0.8438 - val_loss: 0.6247 - val_acc: 0.7188\n",
            "\n",
            "Epoch 00030: val_loss did not improve from 0.32492\n",
            "Epoch 31/50\n",
            " - 1s - loss: 0.3451 - acc: 0.8469 - val_loss: 0.9729 - val_acc: 0.5312\n",
            "\n",
            "Epoch 00031: val_loss did not improve from 0.32492\n",
            "Epoch 32/50\n",
            " - 1s - loss: 0.3081 - acc: 0.8969 - val_loss: 0.8687 - val_acc: 0.4531\n",
            "\n",
            "Epoch 00032: val_loss did not improve from 0.32492\n",
            "Epoch 33/50\n",
            " - 1s - loss: 0.3165 - acc: 0.8656 - val_loss: 0.9407 - val_acc: 0.5469\n",
            "\n",
            "Epoch 00033: val_loss did not improve from 0.32492\n",
            "Epoch 34/50\n",
            " - 1s - loss: 0.3457 - acc: 0.8781 - val_loss: 0.8598 - val_acc: 0.4375\n",
            "\n",
            "Epoch 00034: val_loss did not improve from 0.32492\n",
            "Epoch 35/50\n",
            " - 1s - loss: 0.3252 - acc: 0.8844 - val_loss: 1.0072 - val_acc: 0.5938\n",
            "\n",
            "Epoch 00035: val_loss did not improve from 0.32492\n",
            "Epoch 36/50\n",
            " - 1s - loss: 0.2583 - acc: 0.9375 - val_loss: 0.4687 - val_acc: 0.8125\n",
            "\n",
            "Epoch 00036: val_loss did not improve from 0.32492\n",
            "Epoch 37/50\n",
            " - 1s - loss: 0.3420 - acc: 0.8987 - val_loss: 0.4239 - val_acc: 0.8750\n",
            "\n",
            "Epoch 00037: val_loss did not improve from 0.32492\n",
            "Epoch 38/50\n",
            " - 1s - loss: 0.4794 - acc: 0.8250 - val_loss: 0.6388 - val_acc: 0.6250\n",
            "\n",
            "Epoch 00038: val_loss did not improve from 0.32492\n",
            "Epoch 39/50\n",
            " - 1s - loss: 0.3060 - acc: 0.9125 - val_loss: 0.7596 - val_acc: 0.6406\n",
            "\n",
            "Epoch 00039: val_loss did not improve from 0.32492\n",
            "Epoch 40/50\n",
            " - 1s - loss: 0.2674 - acc: 0.9031 - val_loss: 0.4278 - val_acc: 0.8594\n",
            "\n",
            "Epoch 00040: val_loss did not improve from 0.32492\n",
            "Epoch 41/50\n",
            " - 1s - loss: 0.2230 - acc: 0.9313 - val_loss: 1.3467 - val_acc: 0.3750\n",
            "\n",
            "Epoch 00041: val_loss did not improve from 0.32492\n",
            "Epoch 42/50\n",
            " - 1s - loss: 0.2240 - acc: 0.9375 - val_loss: 0.8718 - val_acc: 0.4844\n",
            "\n",
            "Epoch 00042: val_loss did not improve from 0.32492\n",
            "Epoch 43/50\n",
            " - 1s - loss: 0.3139 - acc: 0.8844 - val_loss: 1.1972 - val_acc: 0.5000\n",
            "\n",
            "Epoch 00043: val_loss did not improve from 0.32492\n",
            "Epoch 44/50\n",
            " - 1s - loss: 0.4042 - acc: 0.8594 - val_loss: 0.5150 - val_acc: 0.7188\n",
            "\n",
            "Epoch 00044: val_loss did not improve from 0.32492\n",
            "Epoch 45/50\n",
            " - 1s - loss: 0.3079 - acc: 0.9062 - val_loss: 0.5372 - val_acc: 0.6818\n",
            "\n",
            "Epoch 00045: val_loss did not improve from 0.32492\n",
            "Epoch 46/50\n",
            " - 1s - loss: 0.2324 - acc: 0.9219 - val_loss: 1.0382 - val_acc: 0.5156\n",
            "\n",
            "Epoch 00046: val_loss did not improve from 0.32492\n",
            "Epoch 47/50\n",
            " - 1s - loss: 0.2843 - acc: 0.8937 - val_loss: 0.3677 - val_acc: 0.9062\n",
            "\n",
            "Epoch 00047: val_loss did not improve from 0.32492\n",
            "Epoch 48/50\n",
            " - 1s - loss: 0.2515 - acc: 0.9094 - val_loss: 0.3849 - val_acc: 0.8438\n",
            "\n",
            "Epoch 00048: val_loss did not improve from 0.32492\n",
            "Epoch 49/50\n",
            " - 1s - loss: 0.3238 - acc: 0.8594 - val_loss: 0.4340 - val_acc: 0.8594\n",
            "\n",
            "Epoch 00049: val_loss did not improve from 0.32492\n",
            "Epoch 50/50\n",
            " - 1s - loss: 0.2685 - acc: 0.9188 - val_loss: 0.3927 - val_acc: 0.8438\n",
            "\n",
            "Epoch 00050: val_loss did not improve from 0.32492\n"
          ],
          "name": "stdout"
        }
      ]
    },
    {
      "metadata": {
        "colab_type": "code",
        "outputId": "ab19003c-64c8-490e-8d45-b296e4a5f191",
        "id": "0mSPug6x4gfs",
        "colab": {
          "base_uri": "https://localhost:8080/",
          "height": 380
        }
      },
      "cell_type": "code",
      "source": [
        "# plotar loss e accuracy para os datasets 'train' e 'test'\n",
        "plt.style.use(\"ggplot\")\n",
        "plt.figure()\n",
        "plt.plot(training.history['acc'], label='Accuracy')\n",
        "plt.plot(training.history['loss'], label='Loss')\n",
        "plt.xlabel('Epochs')\n",
        "plt.ylabel('Accuracy')\n",
        "plt.title(\"Training Loss and Accuracy\")\n",
        "plt.ylabel(\"Loss/Accuracy\")\n",
        "plt.legend()\n",
        "plt.savefig('architecture_5.png', bbox_inches='tight')"
      ],
      "execution_count": 0,
      "outputs": [
        {
          "output_type": "display_data",
          "data": {
            "image/png": "[encoded data removed]",
            "text/plain": [
              "<matplotlib.figure.Figure at 0x7fb8f807c2b0>"
            ]
          },
          "metadata": {
            "tags": []
          }
        }
      ]
    },
    {
      "metadata": {
        "id": "vy2jjjoB5gBo",
        "colab_type": "code",
        "colab": {}
      },
      "cell_type": "code",
      "source": [
        "model.load_weights('weights_architecture_5.hdf5')"
      ],
      "execution_count": 0,
      "outputs": []
    },
    {
      "metadata": {
        "colab_type": "code",
        "outputId": "1b073c3f-7284-4a8b-8cb8-2b202fe23f38",
        "id": "_JgTPZOc4gf0",
        "colab": {
          "base_uri": "https://localhost:8080/",
          "height": 34
        }
      },
      "cell_type": "code",
      "source": [
        "results['architecture_5'] = model.evaluate_generator(test_batches, steps=bSize, use_multiprocessing=True, verbose=1)"
      ],
      "execution_count": 0,
      "outputs": [
        {
          "output_type": "stream",
          "text": [
            "32/32 [==============================] - 4s 113ms/step\n"
          ],
          "name": "stdout"
        }
      ]
    },
    {
      "metadata": {
        "colab_type": "code",
        "outputId": "5146de37-f430-47b4-bb2f-586088a310d7",
        "id": "btSZrFLQ4gf5",
        "colab": {
          "base_uri": "https://localhost:8080/",
          "height": 34
        }
      },
      "cell_type": "code",
      "source": [
        "print('Test Loss: {} | Test Accuracy: {:.2f}%'.format(results['architecture_5'][0], 100 * results['architecture_5'][1]))"
      ],
      "execution_count": 0,
      "outputs": [
        {
          "output_type": "stream",
          "text": [
            "Test Loss: 0.3866214484680356 | Test Accuracy: 87.16%\n"
          ],
          "name": "stdout"
        }
      ]
    },
    {
      "metadata": {
        "id": "apfIeirYD2N7",
        "colab_type": "text"
      },
      "cell_type": "markdown",
      "source": [
        "### 6 tentativa"
      ]
    },
    {
      "metadata": {
        "colab_type": "text",
        "id": "xaxcjuxn7BAH"
      },
      "cell_type": "markdown",
      "source": [
        "Modelo adaptado do **Lucas Albertins**\n",
        "\n",
        "*   Sem os **dropout**\n",
        "*   Função **SGD** para compilação\n",
        "*   **BatchNormalization** antes da ultima camada Dense\n"
      ]
    },
    {
      "metadata": {
        "colab_type": "code",
        "id": "C2UuO-jqD44u",
        "colab": {}
      },
      "cell_type": "code",
      "source": [
        "from keras.layers import Conv2D, MaxPooling2D, GlobalMaxPooling2D, BatchNormalization\n",
        "from keras.regularizers import l2\n",
        "\n",
        "model = Sequential()\n",
        "\n",
        "model.add(Conv2D(32, (3, 3), activation='relu', kernel_regularizer=l2(1e-4), \n",
        "                 input_shape=(None, None, 3)))\n",
        "model.add(BatchNormalization())\n",
        "model.add(Conv2D(32, (3, 3), activation='relu', kernel_regularizer=l2(1e-4)))\n",
        "model.add(BatchNormalization())\n",
        "model.add(MaxPooling2D((2, 2)))\n",
        "\n",
        "model.add(Conv2D(64, (3, 3), activation='relu', kernel_regularizer=l2(1e-4)))\n",
        "model.add(BatchNormalization())\n",
        "model.add(Conv2D(64, (3, 3), activation='relu', kernel_regularizer=l2(1e-4)))\n",
        "model.add(BatchNormalization())\n",
        "model.add(MaxPooling2D((2, 2)))\n",
        "\n",
        "model.add(Conv2D(128, (1,1), kernel_regularizer=l2(1e-4)))\n",
        "model.add(GlobalMaxPooling2D())\n",
        "\n",
        "model.add(Dense(256, activation='relu', kernel_regularizer=l2(1e-4)))\n",
        "model.add(BatchNormalization())\n",
        "model.add(Dense(2, activation='sigmoid', kernel_regularizer=l2(1e-4)))"
      ],
      "execution_count": 0,
      "outputs": []
    },
    {
      "metadata": {
        "colab_type": "code",
        "id": "I7mu97znD45M",
        "colab": {}
      },
      "cell_type": "code",
      "source": [
        "model.compile(SGD(lr=0.03, momentum=0.0, decay=0.0, nesterov=False), \n",
        "              loss='binary_crossentropy', metrics=['accuracy'])"
      ],
      "execution_count": 0,
      "outputs": []
    },
    {
      "metadata": {
        "colab_type": "code",
        "id": "LEdI9Ilj6scL",
        "colab": {}
      },
      "cell_type": "code",
      "source": [
        "checkpointer = ModelCheckpoint(filepath='weights_architecture_6.hdf5', verbose=1, save_best_only=True)"
      ],
      "execution_count": 0,
      "outputs": []
    },
    {
      "metadata": {
        "colab_type": "code",
        "outputId": "3cd891b9-dc49-451d-9f51-f99b22287036",
        "id": "HRAakAz46scS",
        "colab": {
          "base_uri": "https://localhost:8080/",
          "height": 3417
        }
      },
      "cell_type": "code",
      "source": [
        "training = model.fit_generator(train_batches, steps_per_epoch=stepsPerEpoche, \n",
        "                   validation_data=validation_batches, validation_steps=validationSteps,\n",
        "                   epochs=50, verbose=2, callbacks=[checkpointer])"
      ],
      "execution_count": 0,
      "outputs": [
        {
          "output_type": "stream",
          "text": [
            "Epoch 1/50\n",
            " - 3s - loss: 0.6067 - acc: 0.7375 - val_loss: 1.8438 - val_acc: 0.4773\n",
            "\n",
            "Epoch 00001: val_loss improved from inf to 1.84379, saving model to weights_architecture_6.hdf5\n",
            "Epoch 2/50\n",
            " - 1s - loss: 0.5261 - acc: 0.8063 - val_loss: 1.9166 - val_acc: 0.4531\n",
            "\n",
            "Epoch 00002: val_loss did not improve from 1.84379\n",
            "Epoch 3/50\n",
            " - 0s - loss: 0.3956 - acc: 0.8281 - val_loss: 1.4849 - val_acc: 0.5156\n",
            "\n",
            "Epoch 00003: val_loss improved from 1.84379 to 1.48494, saving model to weights_architecture_6.hdf5\n",
            "Epoch 4/50\n",
            " - 0s - loss: 0.3594 - acc: 0.8531 - val_loss: 1.3778 - val_acc: 0.5312\n",
            "\n",
            "Epoch 00004: val_loss improved from 1.48494 to 1.37784, saving model to weights_architecture_6.hdf5\n",
            "Epoch 5/50\n",
            " - 0s - loss: 0.3125 - acc: 0.9062 - val_loss: 0.6184 - val_acc: 0.6562\n",
            "\n",
            "Epoch 00005: val_loss improved from 1.37784 to 0.61835, saving model to weights_architecture_6.hdf5\n",
            "Epoch 6/50\n",
            " - 0s - loss: 0.2455 - acc: 0.9281 - val_loss: 1.3630 - val_acc: 0.7031\n",
            "\n",
            "Epoch 00006: val_loss did not improve from 0.61835\n",
            "Epoch 7/50\n",
            " - 0s - loss: 0.3153 - acc: 0.8937 - val_loss: 2.1090 - val_acc: 0.4844\n",
            "\n",
            "Epoch 00007: val_loss did not improve from 0.61835\n",
            "Epoch 8/50\n",
            " - 0s - loss: 0.2673 - acc: 0.9062 - val_loss: 0.9092 - val_acc: 0.7344\n",
            "\n",
            "Epoch 00008: val_loss did not improve from 0.61835\n",
            "Epoch 9/50\n",
            " - 0s - loss: 0.3979 - acc: 0.8375 - val_loss: 5.6492 - val_acc: 0.5000\n",
            "\n",
            "Epoch 00009: val_loss did not improve from 0.61835\n",
            "Epoch 10/50\n",
            " - 1s - loss: 0.3921 - acc: 0.8500 - val_loss: 3.9084 - val_acc: 0.4688\n",
            "\n",
            "Epoch 00010: val_loss did not improve from 0.61835\n",
            "Epoch 11/50\n",
            " - 1s - loss: 0.2702 - acc: 0.9125 - val_loss: 0.6210 - val_acc: 0.7969\n",
            "\n",
            "Epoch 00011: val_loss did not improve from 0.61835\n",
            "Epoch 12/50\n",
            " - 1s - loss: 0.2639 - acc: 0.9031 - val_loss: 0.3792 - val_acc: 0.8438\n",
            "\n",
            "Epoch 00012: val_loss improved from 0.61835 to 0.37923, saving model to weights_architecture_6.hdf5\n",
            "Epoch 13/50\n",
            " - 1s - loss: 0.2742 - acc: 0.8844 - val_loss: 2.4643 - val_acc: 0.4688\n",
            "\n",
            "Epoch 00013: val_loss did not improve from 0.37923\n",
            "Epoch 14/50\n",
            " - 1s - loss: 0.3297 - acc: 0.8937 - val_loss: 0.8304 - val_acc: 0.7344\n",
            "\n",
            "Epoch 00014: val_loss did not improve from 0.37923\n",
            "Epoch 15/50\n",
            " - 1s - loss: 0.1784 - acc: 0.9469 - val_loss: 0.7605 - val_acc: 0.6875\n",
            "\n",
            "Epoch 00015: val_loss did not improve from 0.37923\n",
            "Epoch 16/50\n",
            " - 1s - loss: 0.3344 - acc: 0.8812 - val_loss: 0.7907 - val_acc: 0.6875\n",
            "\n",
            "Epoch 00016: val_loss did not improve from 0.37923\n",
            "Epoch 17/50\n",
            " - 1s - loss: 0.3169 - acc: 0.8756 - val_loss: 1.4842 - val_acc: 0.5000\n",
            "\n",
            "Epoch 00017: val_loss did not improve from 0.37923\n",
            "Epoch 18/50\n",
            " - 1s - loss: 0.1826 - acc: 0.9562 - val_loss: 1.3591 - val_acc: 0.4545\n",
            "\n",
            "Epoch 00018: val_loss did not improve from 0.37923\n",
            "Epoch 19/50\n",
            " - 1s - loss: 0.1976 - acc: 0.9313 - val_loss: 0.7706 - val_acc: 0.6406\n",
            "\n",
            "Epoch 00019: val_loss did not improve from 0.37923\n",
            "Epoch 20/50\n",
            " - 1s - loss: 0.2359 - acc: 0.9281 - val_loss: 0.7328 - val_acc: 0.7188\n",
            "\n",
            "Epoch 00020: val_loss did not improve from 0.37923\n",
            "Epoch 21/50\n",
            " - 1s - loss: 0.3030 - acc: 0.9062 - val_loss: 0.4359 - val_acc: 0.8125\n",
            "\n",
            "Epoch 00021: val_loss did not improve from 0.37923\n",
            "Epoch 22/50\n",
            " - 1s - loss: 0.2719 - acc: 0.9031 - val_loss: 0.9411 - val_acc: 0.6250\n",
            "\n",
            "Epoch 00022: val_loss did not improve from 0.37923\n",
            "Epoch 23/50\n",
            " - 1s - loss: 0.2165 - acc: 0.9437 - val_loss: 0.3390 - val_acc: 0.9062\n",
            "\n",
            "Epoch 00023: val_loss improved from 0.37923 to 0.33899, saving model to weights_architecture_6.hdf5\n",
            "Epoch 24/50\n",
            " - 1s - loss: 0.2278 - acc: 0.9281 - val_loss: 0.3439 - val_acc: 0.8594\n",
            "\n",
            "Epoch 00024: val_loss did not improve from 0.33899\n",
            "Epoch 25/50\n",
            " - 1s - loss: 0.3056 - acc: 0.8937 - val_loss: 0.7236 - val_acc: 0.6406\n",
            "\n",
            "Epoch 00025: val_loss did not improve from 0.33899\n",
            "Epoch 26/50\n",
            " - 1s - loss: 0.2493 - acc: 0.9156 - val_loss: 0.3876 - val_acc: 0.8906\n",
            "\n",
            "Epoch 00026: val_loss did not improve from 0.33899\n",
            "Epoch 27/50\n",
            " - 1s - loss: 0.2266 - acc: 0.9281 - val_loss: 0.6042 - val_acc: 0.7656\n",
            "\n",
            "Epoch 00027: val_loss did not improve from 0.33899\n",
            "Epoch 28/50\n",
            " - 1s - loss: 0.3097 - acc: 0.8906 - val_loss: 0.4773 - val_acc: 0.8438\n",
            "\n",
            "Epoch 00028: val_loss did not improve from 0.33899\n",
            "Epoch 29/50\n",
            " - 1s - loss: 0.2694 - acc: 0.9219 - val_loss: 0.4554 - val_acc: 0.7500\n",
            "\n",
            "Epoch 00029: val_loss did not improve from 0.33899\n",
            "Epoch 30/50\n",
            " - 1s - loss: 0.2419 - acc: 0.9125 - val_loss: 0.2999 - val_acc: 0.9062\n",
            "\n",
            "Epoch 00030: val_loss improved from 0.33899 to 0.29993, saving model to weights_architecture_6.hdf5\n",
            "Epoch 31/50\n",
            " - 1s - loss: 0.2643 - acc: 0.9156 - val_loss: 0.5157 - val_acc: 0.7500\n",
            "\n",
            "Epoch 00031: val_loss did not improve from 0.29993\n",
            "Epoch 32/50\n",
            " - 1s - loss: 0.2470 - acc: 0.9219 - val_loss: 0.3027 - val_acc: 0.8594\n",
            "\n",
            "Epoch 00032: val_loss did not improve from 0.29993\n",
            "Epoch 33/50\n",
            " - 1s - loss: 0.2016 - acc: 0.9500 - val_loss: 0.1429 - val_acc: 0.9844\n",
            "\n",
            "Epoch 00033: val_loss improved from 0.29993 to 0.14294, saving model to weights_architecture_6.hdf5\n",
            "Epoch 34/50\n",
            " - 1s - loss: 0.1800 - acc: 0.9437 - val_loss: 0.2727 - val_acc: 0.9375\n",
            "\n",
            "Epoch 00034: val_loss did not improve from 0.14294\n",
            "Epoch 35/50\n",
            " - 1s - loss: 0.2245 - acc: 0.9219 - val_loss: 0.5217 - val_acc: 0.6591\n",
            "\n",
            "Epoch 00035: val_loss did not improve from 0.14294\n",
            "Epoch 36/50\n",
            " - 1s - loss: 0.1738 - acc: 0.9594 - val_loss: 0.2790 - val_acc: 0.9219\n",
            "\n",
            "Epoch 00036: val_loss did not improve from 0.14294\n",
            "Epoch 37/50\n",
            " - 1s - loss: 0.2929 - acc: 0.8969 - val_loss: 0.6347 - val_acc: 0.7656\n",
            "\n",
            "Epoch 00037: val_loss did not improve from 0.14294\n",
            "Epoch 38/50\n",
            " - 1s - loss: 0.2521 - acc: 0.9062 - val_loss: 0.2493 - val_acc: 0.9375\n",
            "\n",
            "Epoch 00038: val_loss did not improve from 0.14294\n",
            "Epoch 39/50\n",
            " - 1s - loss: 0.2756 - acc: 0.8969 - val_loss: 0.2923 - val_acc: 0.9062\n",
            "\n",
            "Epoch 00039: val_loss did not improve from 0.14294\n",
            "Epoch 40/50\n",
            " - 1s - loss: 0.2659 - acc: 0.9219 - val_loss: 0.9530 - val_acc: 0.6406\n",
            "\n",
            "Epoch 00040: val_loss did not improve from 0.14294\n",
            "Epoch 41/50\n",
            " - 1s - loss: 0.2399 - acc: 0.9219 - val_loss: 0.4959 - val_acc: 0.7812\n",
            "\n",
            "Epoch 00041: val_loss did not improve from 0.14294\n",
            "Epoch 42/50\n",
            " - 1s - loss: 0.2080 - acc: 0.9437 - val_loss: 0.3457 - val_acc: 0.8906\n",
            "\n",
            "Epoch 00042: val_loss did not improve from 0.14294\n",
            "Epoch 43/50\n",
            " - 1s - loss: 0.2562 - acc: 0.9281 - val_loss: 0.1579 - val_acc: 0.9375\n",
            "\n",
            "Epoch 00043: val_loss did not improve from 0.14294\n",
            "Epoch 44/50\n",
            " - 1s - loss: 0.3447 - acc: 0.8719 - val_loss: 0.1191 - val_acc: 1.0000\n",
            "\n",
            "Epoch 00044: val_loss improved from 0.14294 to 0.11910, saving model to weights_architecture_6.hdf5\n",
            "Epoch 45/50\n",
            " - 1s - loss: 0.2239 - acc: 0.9375 - val_loss: 0.1835 - val_acc: 0.9219\n",
            "\n",
            "Epoch 00045: val_loss did not improve from 0.11910\n",
            "Epoch 46/50\n",
            " - 1s - loss: 0.2455 - acc: 0.9125 - val_loss: 0.4374 - val_acc: 0.8906\n",
            "\n",
            "Epoch 00046: val_loss did not improve from 0.11910\n",
            "Epoch 47/50\n",
            " - 1s - loss: 0.1603 - acc: 0.9629 - val_loss: 0.3388 - val_acc: 0.8750\n",
            "\n",
            "Epoch 00047: val_loss did not improve from 0.11910\n",
            "Epoch 48/50\n",
            " - 1s - loss: 0.2196 - acc: 0.9219 - val_loss: 0.6566 - val_acc: 0.7969\n",
            "\n",
            "Epoch 00048: val_loss did not improve from 0.11910\n",
            "Epoch 49/50\n",
            " - 1s - loss: 0.1503 - acc: 0.9594 - val_loss: 0.1015 - val_acc: 1.0000\n",
            "\n",
            "Epoch 00049: val_loss improved from 0.11910 to 0.10155, saving model to weights_architecture_6.hdf5\n",
            "Epoch 50/50\n",
            " - 1s - loss: 0.2911 - acc: 0.8750 - val_loss: 0.2228 - val_acc: 0.9219\n",
            "\n",
            "Epoch 00050: val_loss did not improve from 0.10155\n"
          ],
          "name": "stdout"
        }
      ]
    },
    {
      "metadata": {
        "colab_type": "code",
        "id": "uaZTLoX46scd",
        "outputId": "83616b78-3b6a-4c37-f529-d632c7c1e8ec",
        "colab": {
          "base_uri": "https://localhost:8080/",
          "height": 380
        }
      },
      "cell_type": "code",
      "source": [
        "# plotar loss e accuracy para os datasets 'train' e 'test'\n",
        "plt.style.use(\"ggplot\")\n",
        "plt.figure()\n",
        "plt.plot(training.history['acc'], label='Accuracy')\n",
        "plt.plot(training.history['loss'], label='Loss')\n",
        "plt.xlabel('Epochs')\n",
        "plt.ylabel('Accuracy')\n",
        "plt.title(\"Training Loss and Accuracy\")\n",
        "plt.ylabel(\"Loss/Accuracy\")\n",
        "plt.legend()\n",
        "plt.savefig('architecture_6.png', bbox_inches='tight')"
      ],
      "execution_count": 0,
      "outputs": [
        {
          "output_type": "display_data",
          "data": {
            "image/png": "[encoded data removed]",
            "text/plain": [
              "<matplotlib.figure.Figure at 0x7fb8dcb63080>"
            ]
          },
          "metadata": {
            "tags": []
          }
        }
      ]
    },
    {
      "metadata": {
        "colab_type": "code",
        "id": "Z7zyxvAB6sch",
        "colab": {}
      },
      "cell_type": "code",
      "source": [
        "model.load_weights('weights_architecture_6.hdf5')"
      ],
      "execution_count": 0,
      "outputs": []
    },
    {
      "metadata": {
        "colab_type": "code",
        "id": "6F7QMRQn6scm",
        "outputId": "8b0f15f9-69f5-444f-da53-4f2b136cc44b",
        "colab": {
          "base_uri": "https://localhost:8080/",
          "height": 34
        }
      },
      "cell_type": "code",
      "source": [
        "results['architecture_6'] = model.evaluate_generator(test_batches, steps=bSize, use_multiprocessing=True, verbose=1)"
      ],
      "execution_count": 0,
      "outputs": [
        {
          "output_type": "stream",
          "text": [
            "32/32 [==============================] - 3s 108ms/step\n"
          ],
          "name": "stdout"
        }
      ]
    },
    {
      "metadata": {
        "colab_type": "code",
        "id": "uXAl6yNj6scr",
        "outputId": "0acdacd8-c028-4b99-be6f-97c2df78f460",
        "colab": {
          "base_uri": "https://localhost:8080/",
          "height": 34
        }
      },
      "cell_type": "code",
      "source": [
        "print('Test Loss: {} | Test Accuracy: {:.2f}%'.format(results['architecture_6'][0], 100 * results['architecture_6'][1]))"
      ],
      "execution_count": 0,
      "outputs": [
        {
          "output_type": "stream",
          "text": [
            "Test Loss: 0.19943998718824912 | Test Accuracy: 94.29%\n"
          ],
          "name": "stdout"
        }
      ]
    },
    {
      "metadata": {
        "id": "5gk7vmYPHddj",
        "colab_type": "text"
      },
      "cell_type": "markdown",
      "source": [
        "### 7 tentativa"
      ]
    },
    {
      "metadata": {
        "colab_type": "text",
        "id": "lxzyd-4L422r"
      },
      "cell_type": "markdown",
      "source": [
        "Modelo adaptado do **Lucas Albertins**\n",
        "\n",
        "*   Sem os **dropout**\n",
        "*   Função **Adadelta** para compilação\n",
        "*   **BatchNormalization** antes da ultima camada Dense\n"
      ]
    },
    {
      "metadata": {
        "colab_type": "code",
        "id": "sIBEdGsyHhJN",
        "colab": {}
      },
      "cell_type": "code",
      "source": [
        "from keras.layers import Conv2D, MaxPooling2D, GlobalMaxPooling2D, BatchNormalization\n",
        "from keras.regularizers import l2\n",
        "from keras.optimizers import Adadelta\n",
        "\n",
        "model = Sequential()\n",
        "\n",
        "model.add(Conv2D(32, (3, 3), activation='relu', kernel_regularizer=l2(1e-4), \n",
        "                 input_shape=(None, None, 3)))\n",
        "model.add(BatchNormalization())\n",
        "model.add(Conv2D(32, (3, 3), activation='relu', kernel_regularizer=l2(1e-4)))\n",
        "model.add(BatchNormalization())\n",
        "model.add(MaxPooling2D((2, 2)))\n",
        "\n",
        "model.add(Conv2D(64, (3, 3), activation='relu', kernel_regularizer=l2(1e-4)))\n",
        "model.add(BatchNormalization())\n",
        "model.add(Conv2D(64, (3, 3), activation='relu', kernel_regularizer=l2(1e-4)))\n",
        "model.add(BatchNormalization())\n",
        "model.add(MaxPooling2D((2, 2)))\n",
        "\n",
        "model.add(Conv2D(128, (1,1), kernel_regularizer=l2(1e-4)))\n",
        "model.add(GlobalMaxPooling2D())\n",
        "\n",
        "model.add(Dense(256, activation='relu', kernel_regularizer=l2(1e-4)))\n",
        "model.add(BatchNormalization())\n",
        "model.add(Dense(2, activation='sigmoid', kernel_regularizer=l2(1e-4)))"
      ],
      "execution_count": 0,
      "outputs": []
    },
    {
      "metadata": {
        "colab_type": "code",
        "id": "P6ZvobfGHhJb",
        "colab": {}
      },
      "cell_type": "code",
      "source": [
        "model.compile(Adadelta(lr=1.0, rho=0.95, epsilon=None, decay=0.0), \n",
        "              loss='binary_crossentropy', metrics=['accuracy'])"
      ],
      "execution_count": 0,
      "outputs": []
    },
    {
      "metadata": {
        "colab_type": "code",
        "id": "HwKsm_5S4l2j",
        "colab": {}
      },
      "cell_type": "code",
      "source": [
        "checkpointer = ModelCheckpoint(filepath='weights_architecture_7.hdf5', verbose=1, save_best_only=True)"
      ],
      "execution_count": 0,
      "outputs": []
    },
    {
      "metadata": {
        "colab_type": "code",
        "outputId": "a3c76258-c70d-48fa-e4bb-8ad0ebfbe2c0",
        "id": "mXDKyOFa4l2t",
        "colab": {
          "base_uri": "https://localhost:8080/",
          "height": 3417
        }
      },
      "cell_type": "code",
      "source": [
        "training = model.fit_generator(train_batches, steps_per_epoch=stepsPerEpoche, \n",
        "                   validation_data=validation_batches, validation_steps=validationSteps,\n",
        "                   epochs=50, verbose=2, callbacks=[checkpointer])"
      ],
      "execution_count": 0,
      "outputs": [
        {
          "output_type": "stream",
          "text": [
            "Epoch 1/50\n",
            " - 105s - loss: 0.5088 - acc: 0.7562 - val_loss: 0.7514 - val_acc: 0.8125\n",
            "\n",
            "Epoch 00001: val_loss improved from inf to 0.75139, saving model to weights_architecture_7.hdf5\n",
            "Epoch 2/50\n",
            " - 96s - loss: 0.4131 - acc: 0.8594 - val_loss: 0.5286 - val_acc: 0.8125\n",
            "\n",
            "Epoch 00002: val_loss improved from 0.75139 to 0.52856, saving model to weights_architecture_7.hdf5\n",
            "Epoch 3/50\n",
            " - 96s - loss: 0.4844 - acc: 0.8031 - val_loss: 0.4347 - val_acc: 0.8281\n",
            "\n",
            "Epoch 00003: val_loss improved from 0.52856 to 0.43468, saving model to weights_architecture_7.hdf5\n",
            "Epoch 4/50\n",
            " - 100s - loss: 0.2983 - acc: 0.8969 - val_loss: 0.5128 - val_acc: 0.8594\n",
            "\n",
            "Epoch 00004: val_loss did not improve from 0.43468\n",
            "Epoch 5/50\n",
            " - 98s - loss: 0.2387 - acc: 0.9313 - val_loss: 1.2124 - val_acc: 0.7500\n",
            "\n",
            "Epoch 00005: val_loss did not improve from 0.43468\n",
            "Epoch 6/50\n",
            " - 99s - loss: 0.3415 - acc: 0.8594 - val_loss: 0.3629 - val_acc: 0.9062\n",
            "\n",
            "Epoch 00006: val_loss improved from 0.43468 to 0.36287, saving model to weights_architecture_7.hdf5\n",
            "Epoch 7/50\n",
            " - 100s - loss: 0.1974 - acc: 0.9500 - val_loss: 0.2022 - val_acc: 0.9531\n",
            "\n",
            "Epoch 00007: val_loss improved from 0.36287 to 0.20218, saving model to weights_architecture_7.hdf5\n",
            "Epoch 8/50\n",
            " - 98s - loss: 0.2258 - acc: 0.9188 - val_loss: 0.2551 - val_acc: 0.9062\n",
            "\n",
            "Epoch 00008: val_loss did not improve from 0.20218\n",
            "Epoch 9/50\n",
            " - 103s - loss: 0.2166 - acc: 0.9469 - val_loss: 0.5134 - val_acc: 0.8281\n",
            "\n",
            "Epoch 00009: val_loss did not improve from 0.20218\n",
            "Epoch 10/50\n",
            " - 112s - loss: 0.2900 - acc: 0.9062 - val_loss: 0.2186 - val_acc: 0.9375\n",
            "\n",
            "Epoch 00010: val_loss did not improve from 0.20218\n",
            "Epoch 11/50\n",
            " - 93s - loss: 0.2359 - acc: 0.9188 - val_loss: 0.1991 - val_acc: 0.9062\n",
            "\n",
            "Epoch 00011: val_loss improved from 0.20218 to 0.19908, saving model to weights_architecture_7.hdf5\n",
            "Epoch 12/50\n",
            " - 94s - loss: 0.3756 - acc: 0.8844 - val_loss: 0.2990 - val_acc: 0.9062\n",
            "\n",
            "Epoch 00012: val_loss did not improve from 0.19908\n",
            "Epoch 13/50\n",
            " - 110s - loss: 0.2807 - acc: 0.8875 - val_loss: 0.1642 - val_acc: 0.9531\n",
            "\n",
            "Epoch 00013: val_loss improved from 0.19908 to 0.16420, saving model to weights_architecture_7.hdf5\n",
            "Epoch 14/50\n",
            " - 104s - loss: 0.2358 - acc: 0.9344 - val_loss: 0.3814 - val_acc: 0.8750\n",
            "\n",
            "Epoch 00014: val_loss did not improve from 0.16420\n",
            "Epoch 15/50\n",
            " - 104s - loss: 0.2184 - acc: 0.9469 - val_loss: 0.4261 - val_acc: 0.7969\n",
            "\n",
            "Epoch 00015: val_loss did not improve from 0.16420\n",
            "Epoch 16/50\n",
            " - 95s - loss: 0.3399 - acc: 0.8750 - val_loss: 0.3627 - val_acc: 0.8594\n",
            "\n",
            "Epoch 00016: val_loss did not improve from 0.16420\n",
            "Epoch 17/50\n",
            " - 96s - loss: 0.2969 - acc: 0.9156 - val_loss: 0.6588 - val_acc: 0.8182\n",
            "\n",
            "Epoch 00017: val_loss did not improve from 0.16420\n",
            "Epoch 18/50\n",
            " - 99s - loss: 0.2362 - acc: 0.9188 - val_loss: 0.1336 - val_acc: 0.9688\n",
            "\n",
            "Epoch 00018: val_loss improved from 0.16420 to 0.13363, saving model to weights_architecture_7.hdf5\n",
            "Epoch 19/50\n",
            " - 92s - loss: 0.4044 - acc: 0.8625 - val_loss: 0.5456 - val_acc: 0.8281\n",
            "\n",
            "Epoch 00019: val_loss did not improve from 0.13363\n",
            "Epoch 20/50\n",
            " - 97s - loss: 0.2452 - acc: 0.9125 - val_loss: 0.5285 - val_acc: 0.7656\n",
            "\n",
            "Epoch 00020: val_loss did not improve from 0.13363\n",
            "Epoch 21/50\n",
            " - 95s - loss: 0.1888 - acc: 0.9625 - val_loss: 0.4341 - val_acc: 0.8906\n",
            "\n",
            "Epoch 00021: val_loss did not improve from 0.13363\n",
            "Epoch 22/50\n",
            " - 99s - loss: 0.2978 - acc: 0.8969 - val_loss: 1.0396 - val_acc: 0.5781\n",
            "\n",
            "Epoch 00022: val_loss did not improve from 0.13363\n",
            "Epoch 23/50\n",
            " - 94s - loss: 0.3181 - acc: 0.8625 - val_loss: 0.6876 - val_acc: 0.6719\n",
            "\n",
            "Epoch 00023: val_loss did not improve from 0.13363\n",
            "Epoch 24/50\n",
            " - 97s - loss: 0.1813 - acc: 0.9344 - val_loss: 1.0754 - val_acc: 0.6719\n",
            "\n",
            "Epoch 00024: val_loss did not improve from 0.13363\n",
            "Epoch 25/50\n",
            " - 95s - loss: 0.2503 - acc: 0.9250 - val_loss: 1.9687 - val_acc: 0.4062\n",
            "\n",
            "Epoch 00025: val_loss did not improve from 0.13363\n",
            "Epoch 26/50\n",
            " - 94s - loss: 0.3429 - acc: 0.8781 - val_loss: 0.5014 - val_acc: 0.7344\n",
            "\n",
            "Epoch 00026: val_loss did not improve from 0.13363\n",
            "Epoch 27/50\n",
            " - 94s - loss: 0.2120 - acc: 0.9375 - val_loss: 0.9977 - val_acc: 0.6250\n",
            "\n",
            "Epoch 00027: val_loss did not improve from 0.13363\n",
            "Epoch 28/50\n",
            " - 94s - loss: 0.2204 - acc: 0.9375 - val_loss: 0.7008 - val_acc: 0.7656\n",
            "\n",
            "Epoch 00028: val_loss did not improve from 0.13363\n",
            "Epoch 29/50\n",
            " - 95s - loss: 0.2579 - acc: 0.9156 - val_loss: 0.2519 - val_acc: 0.8906\n",
            "\n",
            "Epoch 00029: val_loss did not improve from 0.13363\n",
            "Epoch 30/50\n",
            " - 97s - loss: 0.2967 - acc: 0.8844 - val_loss: 0.3957 - val_acc: 0.8438\n",
            "\n",
            "Epoch 00030: val_loss did not improve from 0.13363\n",
            "Epoch 31/50\n",
            " - 6s - loss: 0.2963 - acc: 0.8980 - val_loss: 0.4247 - val_acc: 0.8906\n",
            "\n",
            "Epoch 00031: val_loss did not improve from 0.13363\n",
            "Epoch 32/50\n",
            " - 0s - loss: 0.1987 - acc: 0.9313 - val_loss: 2.1294 - val_acc: 0.4062\n",
            "\n",
            "Epoch 00032: val_loss did not improve from 0.13363\n",
            "Epoch 33/50\n",
            " - 1s - loss: 0.3424 - acc: 0.8594 - val_loss: 0.4331 - val_acc: 0.8281\n",
            "\n",
            "Epoch 00033: val_loss did not improve from 0.13363\n",
            "Epoch 34/50\n",
            " - 1s - loss: 0.1898 - acc: 0.9406 - val_loss: 0.6429 - val_acc: 0.7045\n",
            "\n",
            "Epoch 00034: val_loss did not improve from 0.13363\n",
            "Epoch 35/50\n",
            " - 1s - loss: 0.2340 - acc: 0.9219 - val_loss: 0.5869 - val_acc: 0.7344\n",
            "\n",
            "Epoch 00035: val_loss did not improve from 0.13363\n",
            "Epoch 36/50\n",
            " - 1s - loss: 0.2721 - acc: 0.8875 - val_loss: 0.3317 - val_acc: 0.8594\n",
            "\n",
            "Epoch 00036: val_loss did not improve from 0.13363\n",
            "Epoch 37/50\n",
            " - 1s - loss: 0.2066 - acc: 0.9375 - val_loss: 0.7944 - val_acc: 0.6875\n",
            "\n",
            "Epoch 00037: val_loss did not improve from 0.13363\n",
            "Epoch 38/50\n",
            " - 1s - loss: 0.1891 - acc: 0.9406 - val_loss: 0.2732 - val_acc: 0.8906\n",
            "\n",
            "Epoch 00038: val_loss did not improve from 0.13363\n",
            "Epoch 39/50\n",
            " - 1s - loss: 0.2480 - acc: 0.9156 - val_loss: 0.6834 - val_acc: 0.6875\n",
            "\n",
            "Epoch 00039: val_loss did not improve from 0.13363\n",
            "Epoch 40/50\n",
            " - 1s - loss: 0.2440 - acc: 0.9125 - val_loss: 0.6501 - val_acc: 0.7812\n",
            "\n",
            "Epoch 00040: val_loss did not improve from 0.13363\n",
            "Epoch 41/50\n",
            " - 1s - loss: 0.2176 - acc: 0.9437 - val_loss: 0.1914 - val_acc: 0.9531\n",
            "\n",
            "Epoch 00041: val_loss did not improve from 0.13363\n",
            "Epoch 42/50\n",
            " - 1s - loss: 0.2407 - acc: 0.9469 - val_loss: 0.3923 - val_acc: 0.8125\n",
            "\n",
            "Epoch 00042: val_loss did not improve from 0.13363\n",
            "Epoch 43/50\n",
            " - 1s - loss: 0.2085 - acc: 0.9406 - val_loss: 0.3029 - val_acc: 0.8906\n",
            "\n",
            "Epoch 00043: val_loss did not improve from 0.13363\n",
            "Epoch 44/50\n",
            " - 1s - loss: 0.1980 - acc: 0.9313 - val_loss: 0.8149 - val_acc: 0.5938\n",
            "\n",
            "Epoch 00044: val_loss did not improve from 0.13363\n",
            "Epoch 45/50\n",
            " - 1s - loss: 0.2426 - acc: 0.9188 - val_loss: 0.2261 - val_acc: 0.8906\n",
            "\n",
            "Epoch 00045: val_loss did not improve from 0.13363\n",
            "Epoch 46/50\n",
            " - 1s - loss: 0.2724 - acc: 0.9062 - val_loss: 0.4479 - val_acc: 0.8281\n",
            "\n",
            "Epoch 00046: val_loss did not improve from 0.13363\n",
            "Epoch 47/50\n",
            " - 1s - loss: 0.1721 - acc: 0.9562 - val_loss: 0.4103 - val_acc: 0.8281\n",
            "\n",
            "Epoch 00047: val_loss did not improve from 0.13363\n",
            "Epoch 48/50\n",
            " - 1s - loss: 0.2356 - acc: 0.9250 - val_loss: 0.1256 - val_acc: 0.9688\n",
            "\n",
            "Epoch 00048: val_loss improved from 0.13363 to 0.12563, saving model to weights_architecture_7.hdf5\n",
            "Epoch 49/50\n",
            " - 1s - loss: 0.1422 - acc: 0.9719 - val_loss: 0.5823 - val_acc: 0.8750\n",
            "\n",
            "Epoch 00049: val_loss did not improve from 0.12563\n",
            "Epoch 50/50\n",
            " - 1s - loss: 0.2283 - acc: 0.9344 - val_loss: 0.6196 - val_acc: 0.7656\n",
            "\n",
            "Epoch 00050: val_loss did not improve from 0.12563\n"
          ],
          "name": "stdout"
        }
      ]
    },
    {
      "metadata": {
        "colab_type": "code",
        "outputId": "ba0e20c1-4da0-4455-a781-8a780536aabc",
        "id": "sy1RK1RR4l28",
        "colab": {
          "base_uri": "https://localhost:8080/",
          "height": 380
        }
      },
      "cell_type": "code",
      "source": [
        "# plotar loss e accuracy para os datasets 'train' e 'test'\n",
        "plt.style.use(\"ggplot\")\n",
        "plt.figure()\n",
        "plt.plot(training.history['acc'], label='Accuracy')\n",
        "plt.plot(training.history['loss'], label='Loss')\n",
        "plt.xlabel('Epochs')\n",
        "plt.ylabel('Accuracy')\n",
        "plt.title(\"Training Loss and Accuracy\")\n",
        "plt.ylabel(\"Loss/Accuracy\")\n",
        "plt.legend()\n",
        "plt.savefig('architecture_7.png', bbox_inches='tight')"
      ],
      "execution_count": 0,
      "outputs": [
        {
          "output_type": "display_data",
          "data": {
            "image/png": "[encoded data removed]",
            "text/plain": [
              "<matplotlib.figure.Figure at 0x7fa7650e2b38>"
            ]
          },
          "metadata": {
            "tags": []
          }
        }
      ]
    },
    {
      "metadata": {
        "colab_type": "code",
        "id": "QIKQMVsI4l3E",
        "colab": {}
      },
      "cell_type": "code",
      "source": [
        "model.load_weights('weights_architecture_7.hdf5')"
      ],
      "execution_count": 0,
      "outputs": []
    },
    {
      "metadata": {
        "colab_type": "code",
        "outputId": "8d249319-70f2-4d34-c395-583e05e58ec3",
        "id": "qPguZfCk4l3I",
        "colab": {
          "base_uri": "https://localhost:8080/",
          "height": 34
        }
      },
      "cell_type": "code",
      "source": [
        "results['architecture_7'] = model.evaluate_generator(test_batches, steps=bSize, use_multiprocessing=True, verbose=1)"
      ],
      "execution_count": 0,
      "outputs": [
        {
          "output_type": "stream",
          "text": [
            "32/32 [==============================] - 453s 14s/step\n"
          ],
          "name": "stdout"
        }
      ]
    },
    {
      "metadata": {
        "colab_type": "code",
        "outputId": "b87e4bbc-a552-4ce1-e33b-df60551745fd",
        "id": "9-WWBwrQ4l3V",
        "colab": {
          "base_uri": "https://localhost:8080/",
          "height": 34
        }
      },
      "cell_type": "code",
      "source": [
        "print('Test Loss: {} | Test Accuracy: {:.2f}%'.format(results['architecture_7'][0], 100 * results['architecture_7'][1]))"
      ],
      "execution_count": 0,
      "outputs": [
        {
          "output_type": "stream",
          "text": [
            "Test Loss: 0.20241341670043766 | Test Accuracy: 94.04%\n"
          ],
          "name": "stdout"
        }
      ]
    },
    {
      "metadata": {
        "id": "xBqqHjZrnDFP",
        "colab_type": "text"
      },
      "cell_type": "markdown",
      "source": [
        "### 8 tentativa"
      ]
    },
    {
      "metadata": {
        "colab_type": "text",
        "id": "3Qg1zWbo5W6V"
      },
      "cell_type": "markdown",
      "source": [
        "Modelo adaptado do **Lucas Albertins**\n",
        "\n",
        "*   Função **Adadelta** para compilação\n"
      ]
    },
    {
      "metadata": {
        "colab_type": "code",
        "id": "MvjKH9LWpGsi",
        "colab": {}
      },
      "cell_type": "code",
      "source": [
        "from keras.layers import Conv2D, MaxPooling2D, GlobalMaxPooling2D, BatchNormalization\n",
        "from keras.regularizers import l2\n",
        "from keras.optimizers import Adadelta\n",
        "\n",
        "model = Sequential()\n",
        "\n",
        "model.add(Conv2D(32, (3, 3), activation='relu', kernel_regularizer=l2(1e-4), \n",
        "                 input_shape=(None, None, 3)))\n",
        "model.add(BatchNormalization())\n",
        "model.add(Conv2D(32, (3, 3), activation='relu', kernel_regularizer=l2(1e-4)))\n",
        "model.add(BatchNormalization())\n",
        "model.add(MaxPooling2D((2, 2)))\n",
        "model.add(Dropout(0.25))\n",
        "\n",
        "model.add(Conv2D(64, (3, 3), activation='relu', kernel_regularizer=l2(1e-4)))\n",
        "model.add(BatchNormalization())\n",
        "model.add(Conv2D(64, (3, 3), activation='relu', kernel_regularizer=l2(1e-4)))\n",
        "model.add(BatchNormalization())\n",
        "model.add(MaxPooling2D((2, 2)))\n",
        "model.add(Dropout(0.25))\n",
        "\n",
        "model.add(Conv2D(128, (1,1), kernel_regularizer=l2(1e-4)))\n",
        "model.add(GlobalMaxPooling2D())\n",
        "\n",
        "model.add(Dense(256, activation='relu', kernel_regularizer=l2(1e-4)))\n",
        "model.add(Dropout(0.5))\n",
        "model.add(Dense(2, activation='sigmoid', kernel_regularizer=l2(1e-4)))"
      ],
      "execution_count": 0,
      "outputs": []
    },
    {
      "metadata": {
        "colab_type": "code",
        "id": "civjmdynpGsy",
        "colab": {}
      },
      "cell_type": "code",
      "source": [
        "model.compile(Adadelta(lr=1.0, rho=0.95, epsilon=None, decay=0.0), \n",
        "              loss='binary_crossentropy', metrics=['accuracy'])"
      ],
      "execution_count": 0,
      "outputs": []
    },
    {
      "metadata": {
        "colab_type": "code",
        "id": "X2jVqVfE5iN7",
        "colab": {}
      },
      "cell_type": "code",
      "source": [
        "checkpointer = ModelCheckpoint(filepath='weights_architecture_8.hdf5', verbose=1, save_best_only=True)"
      ],
      "execution_count": 0,
      "outputs": []
    },
    {
      "metadata": {
        "colab_type": "code",
        "outputId": "0dbac179-76ff-4e8d-ace0-0e858d641e53",
        "id": "w7LbZJly5iOF",
        "colab": {
          "base_uri": "https://localhost:8080/",
          "height": 3417
        }
      },
      "cell_type": "code",
      "source": [
        "training = model.fit_generator(train_batches, steps_per_epoch=stepsPerEpoche, \n",
        "                   validation_data=validation_batches, validation_steps=validationSteps,\n",
        "                   epochs=50, verbose=2, callbacks=[checkpointer])"
      ],
      "execution_count": 0,
      "outputs": [
        {
          "output_type": "stream",
          "text": [
            "Epoch 1/50\n",
            " - 3s - loss: 1.3220 - acc: 0.5687 - val_loss: 0.5457 - val_acc: 0.7812\n",
            "\n",
            "Epoch 00001: val_loss improved from inf to 0.54567, saving model to weights_architecture_8.hdf5\n",
            "Epoch 2/50\n",
            " - 1s - loss: 0.8648 - acc: 0.7219 - val_loss: 0.4319 - val_acc: 0.8906\n",
            "\n",
            "Epoch 00002: val_loss improved from 0.54567 to 0.43193, saving model to weights_architecture_8.hdf5\n",
            "Epoch 3/50\n",
            " - 1s - loss: 0.4733 - acc: 0.8187 - val_loss: 0.9716 - val_acc: 0.5469\n",
            "\n",
            "Epoch 00003: val_loss did not improve from 0.43193\n",
            "Epoch 4/50\n",
            " - 0s - loss: 0.5483 - acc: 0.8031 - val_loss: 0.9690 - val_acc: 0.5156\n",
            "\n",
            "Epoch 00004: val_loss did not improve from 0.43193\n",
            "Epoch 5/50\n",
            " - 1s - loss: 0.5059 - acc: 0.8000 - val_loss: 0.6594 - val_acc: 0.6094\n",
            "\n",
            "Epoch 00005: val_loss did not improve from 0.43193\n",
            "Epoch 6/50\n",
            " - 0s - loss: 0.5445 - acc: 0.8063 - val_loss: 0.9652 - val_acc: 0.5625\n",
            "\n",
            "Epoch 00006: val_loss did not improve from 0.43193\n",
            "Epoch 7/50\n",
            " - 0s - loss: 0.3193 - acc: 0.8969 - val_loss: 1.4963 - val_acc: 0.4773\n",
            "\n",
            "Epoch 00007: val_loss did not improve from 0.43193\n",
            "Epoch 8/50\n",
            " - 0s - loss: 0.4221 - acc: 0.8250 - val_loss: 1.2794 - val_acc: 0.5938\n",
            "\n",
            "Epoch 00008: val_loss did not improve from 0.43193\n",
            "Epoch 9/50\n",
            " - 0s - loss: 0.3624 - acc: 0.8812 - val_loss: 0.1851 - val_acc: 0.9844\n",
            "\n",
            "Epoch 00009: val_loss improved from 0.43193 to 0.18508, saving model to weights_architecture_8.hdf5\n",
            "Epoch 10/50\n",
            " - 0s - loss: 0.6180 - acc: 0.8183 - val_loss: 3.8334 - val_acc: 0.3750\n",
            "\n",
            "Epoch 00010: val_loss did not improve from 0.18508\n",
            "Epoch 11/50\n",
            " - 1s - loss: 0.6046 - acc: 0.7687 - val_loss: 0.5909 - val_acc: 0.7812\n",
            "\n",
            "Epoch 00011: val_loss did not improve from 0.18508\n",
            "Epoch 12/50\n",
            " - 1s - loss: 0.4307 - acc: 0.8625 - val_loss: 1.0420 - val_acc: 0.4688\n",
            "\n",
            "Epoch 00012: val_loss did not improve from 0.18508\n",
            "Epoch 13/50\n",
            " - 1s - loss: 0.3675 - acc: 0.8906 - val_loss: 0.5770 - val_acc: 0.6562\n",
            "\n",
            "Epoch 00013: val_loss did not improve from 0.18508\n",
            "Epoch 14/50\n",
            " - 1s - loss: 0.4532 - acc: 0.8312 - val_loss: 0.5768 - val_acc: 0.8438\n",
            "\n",
            "Epoch 00014: val_loss did not improve from 0.18508\n",
            "Epoch 15/50\n",
            " - 1s - loss: 0.2753 - acc: 0.9188 - val_loss: 0.4023 - val_acc: 0.8438\n",
            "\n",
            "Epoch 00015: val_loss did not improve from 0.18508\n",
            "Epoch 16/50\n",
            " - 1s - loss: 0.3196 - acc: 0.8844 - val_loss: 0.5943 - val_acc: 0.7656\n",
            "\n",
            "Epoch 00016: val_loss did not improve from 0.18508\n",
            "Epoch 17/50\n",
            " - 1s - loss: 0.3059 - acc: 0.8844 - val_loss: 0.3988 - val_acc: 0.8125\n",
            "\n",
            "Epoch 00017: val_loss did not improve from 0.18508\n",
            "Epoch 18/50\n",
            " - 1s - loss: 0.3148 - acc: 0.8906 - val_loss: 0.4793 - val_acc: 0.7969\n",
            "\n",
            "Epoch 00018: val_loss did not improve from 0.18508\n",
            "Epoch 19/50\n",
            " - 1s - loss: 0.2797 - acc: 0.8875 - val_loss: 0.4819 - val_acc: 0.7500\n",
            "\n",
            "Epoch 00019: val_loss did not improve from 0.18508\n",
            "Epoch 20/50\n",
            " - 1s - loss: 0.2183 - acc: 0.9531 - val_loss: 0.4277 - val_acc: 0.8594\n",
            "\n",
            "Epoch 00020: val_loss did not improve from 0.18508\n",
            "Epoch 21/50\n",
            " - 1s - loss: 0.3169 - acc: 0.9031 - val_loss: 0.4240 - val_acc: 0.8125\n",
            "\n",
            "Epoch 00021: val_loss did not improve from 0.18508\n",
            "Epoch 22/50\n",
            " - 1s - loss: 0.2854 - acc: 0.9031 - val_loss: 0.3236 - val_acc: 0.8906\n",
            "\n",
            "Epoch 00022: val_loss did not improve from 0.18508\n",
            "Epoch 23/50\n",
            " - 1s - loss: 0.2386 - acc: 0.9094 - val_loss: 0.6378 - val_acc: 0.7188\n",
            "\n",
            "Epoch 00023: val_loss did not improve from 0.18508\n",
            "Epoch 24/50\n",
            " - 1s - loss: 0.3141 - acc: 0.8906 - val_loss: 0.2378 - val_acc: 1.0000\n",
            "\n",
            "Epoch 00024: val_loss did not improve from 0.18508\n",
            "Epoch 25/50\n",
            " - 1s - loss: 0.2183 - acc: 0.9094 - val_loss: 0.7665 - val_acc: 0.6562\n",
            "\n",
            "Epoch 00025: val_loss did not improve from 0.18508\n",
            "Epoch 26/50\n",
            " - 1s - loss: 0.2819 - acc: 0.9188 - val_loss: 1.0511 - val_acc: 0.5469\n",
            "\n",
            "Epoch 00026: val_loss did not improve from 0.18508\n",
            "Epoch 27/50\n",
            " - 1s - loss: 0.3091 - acc: 0.8969 - val_loss: 0.5361 - val_acc: 0.7031\n",
            "\n",
            "Epoch 00027: val_loss did not improve from 0.18508\n",
            "Epoch 28/50\n",
            " - 1s - loss: 0.3008 - acc: 0.8969 - val_loss: 0.6842 - val_acc: 0.7344\n",
            "\n",
            "Epoch 00028: val_loss did not improve from 0.18508\n",
            "Epoch 29/50\n",
            " - 1s - loss: 0.3612 - acc: 0.8719 - val_loss: 0.4204 - val_acc: 0.7812\n",
            "\n",
            "Epoch 00029: val_loss did not improve from 0.18508\n",
            "Epoch 30/50\n",
            " - 1s - loss: 0.2167 - acc: 0.9469 - val_loss: 0.2392 - val_acc: 0.9375\n",
            "\n",
            "Epoch 00030: val_loss did not improve from 0.18508\n",
            "Epoch 31/50\n",
            " - 1s - loss: 0.2295 - acc: 0.9313 - val_loss: 0.2572 - val_acc: 0.8906\n",
            "\n",
            "Epoch 00031: val_loss did not improve from 0.18508\n",
            "Epoch 32/50\n",
            " - 1s - loss: 0.2913 - acc: 0.8781 - val_loss: 0.3101 - val_acc: 0.8906\n",
            "\n",
            "Epoch 00032: val_loss did not improve from 0.18508\n",
            "Epoch 33/50\n",
            " - 1s - loss: 0.2698 - acc: 0.9031 - val_loss: 0.3721 - val_acc: 0.8438\n",
            "\n",
            "Epoch 00033: val_loss did not improve from 0.18508\n",
            "Epoch 34/50\n",
            " - 1s - loss: 0.2442 - acc: 0.9313 - val_loss: 0.8281 - val_acc: 0.5938\n",
            "\n",
            "Epoch 00034: val_loss did not improve from 0.18508\n",
            "Epoch 35/50\n",
            " - 1s - loss: 0.2071 - acc: 0.9500 - val_loss: 0.2612 - val_acc: 0.8750\n",
            "\n",
            "Epoch 00035: val_loss did not improve from 0.18508\n",
            "Epoch 36/50\n",
            " - 1s - loss: 0.2205 - acc: 0.9188 - val_loss: 0.3048 - val_acc: 0.9062\n",
            "\n",
            "Epoch 00036: val_loss did not improve from 0.18508\n",
            "Epoch 37/50\n",
            " - 1s - loss: 0.4373 - acc: 0.8531 - val_loss: 0.2531 - val_acc: 0.9375\n",
            "\n",
            "Epoch 00037: val_loss did not improve from 0.18508\n",
            "Epoch 38/50\n",
            " - 1s - loss: 0.2748 - acc: 0.8969 - val_loss: 0.4243 - val_acc: 0.8281\n",
            "\n",
            "Epoch 00038: val_loss did not improve from 0.18508\n",
            "Epoch 39/50\n",
            " - 1s - loss: 0.3138 - acc: 0.8750 - val_loss: 0.3290 - val_acc: 0.9219\n",
            "\n",
            "Epoch 00039: val_loss did not improve from 0.18508\n",
            "Epoch 40/50\n",
            " - 1s - loss: 0.2582 - acc: 0.9219 - val_loss: 0.2560 - val_acc: 0.9219\n",
            "\n",
            "Epoch 00040: val_loss did not improve from 0.18508\n",
            "Epoch 41/50\n",
            " - 1s - loss: 0.3289 - acc: 0.8937 - val_loss: 0.2270 - val_acc: 0.9773\n",
            "\n",
            "Epoch 00041: val_loss did not improve from 0.18508\n",
            "Epoch 42/50\n",
            " - 1s - loss: 0.2412 - acc: 0.9250 - val_loss: 0.2283 - val_acc: 0.9375\n",
            "\n",
            "Epoch 00042: val_loss did not improve from 0.18508\n",
            "Epoch 43/50\n",
            " - 1s - loss: 0.2742 - acc: 0.9156 - val_loss: 0.3050 - val_acc: 0.9062\n",
            "\n",
            "Epoch 00043: val_loss did not improve from 0.18508\n",
            "Epoch 44/50\n",
            " - 1s - loss: 0.2862 - acc: 0.9062 - val_loss: 0.5132 - val_acc: 0.7344\n",
            "\n",
            "Epoch 00044: val_loss did not improve from 0.18508\n",
            "Epoch 45/50\n",
            " - 1s - loss: 0.2918 - acc: 0.9031 - val_loss: 0.3119 - val_acc: 0.8906\n",
            "\n",
            "Epoch 00045: val_loss did not improve from 0.18508\n",
            "Epoch 46/50\n",
            " - 1s - loss: 0.3437 - acc: 0.8594 - val_loss: 0.2001 - val_acc: 0.9688\n",
            "\n",
            "Epoch 00046: val_loss did not improve from 0.18508\n",
            "Epoch 47/50\n",
            " - 1s - loss: 0.2129 - acc: 0.9188 - val_loss: 0.3982 - val_acc: 0.9062\n",
            "\n",
            "Epoch 00047: val_loss did not improve from 0.18508\n",
            "Epoch 48/50\n",
            " - 1s - loss: 0.1684 - acc: 0.9531 - val_loss: 0.2077 - val_acc: 0.9375\n",
            "\n",
            "Epoch 00048: val_loss did not improve from 0.18508\n",
            "Epoch 49/50\n",
            " - 1s - loss: 0.3104 - acc: 0.9062 - val_loss: 0.5263 - val_acc: 0.8125\n",
            "\n",
            "Epoch 00049: val_loss did not improve from 0.18508\n",
            "Epoch 50/50\n",
            " - 1s - loss: 0.2334 - acc: 0.9281 - val_loss: 0.4807 - val_acc: 0.7500\n",
            "\n",
            "Epoch 00050: val_loss did not improve from 0.18508\n"
          ],
          "name": "stdout"
        }
      ]
    },
    {
      "metadata": {
        "colab_type": "code",
        "id": "h8cGfOxz5iOR",
        "outputId": "a49dc052-b93a-4559-b6a0-123fc1fa8bd6",
        "colab": {
          "base_uri": "https://localhost:8080/",
          "height": 380
        }
      },
      "cell_type": "code",
      "source": [
        "# plotar loss e accuracy para os datasets 'train' e 'test'\n",
        "plt.style.use(\"ggplot\")\n",
        "plt.figure()\n",
        "plt.plot(training.history['acc'], label='Accuracy')\n",
        "plt.plot(training.history['loss'], label='Loss')\n",
        "plt.xlabel('Epochs')\n",
        "plt.ylabel('Accuracy')\n",
        "plt.title(\"Training Loss and Accuracy\")\n",
        "plt.ylabel(\"Loss/Accuracy\")\n",
        "plt.legend()\n",
        "plt.savefig('architecture_8.png', bbox_inches='tight')"
      ],
      "execution_count": 0,
      "outputs": [
        {
          "output_type": "display_data",
          "data": {
            "image/png": "[encoded data removed]",
            "text/plain": [
              "<matplotlib.figure.Figure at 0x7fa7681adac8>"
            ]
          },
          "metadata": {
            "tags": []
          }
        }
      ]
    },
    {
      "metadata": {
        "colab_type": "code",
        "id": "EfQMTY5Z5iOW",
        "colab": {}
      },
      "cell_type": "code",
      "source": [
        "model.load_weights('weights_architecture_8.hdf5')"
      ],
      "execution_count": 0,
      "outputs": []
    },
    {
      "metadata": {
        "colab_type": "code",
        "id": "Zmtm1Uga5iOb",
        "outputId": "6e502a83-1aae-4e83-8931-b9b0656699e4",
        "colab": {
          "base_uri": "https://localhost:8080/",
          "height": 34
        }
      },
      "cell_type": "code",
      "source": [
        "results['architecture_8'] = model.evaluate_generator(test_batches, steps=bSize, use_multiprocessing=True, verbose=1)"
      ],
      "execution_count": 0,
      "outputs": [
        {
          "output_type": "stream",
          "text": [
            "32/32 [==============================] - 50s 2s/step\n"
          ],
          "name": "stdout"
        }
      ]
    },
    {
      "metadata": {
        "colab_type": "code",
        "id": "ry8LV6fw5iOf",
        "outputId": "3e661f3d-3b66-46fa-933a-9e1a22a43e16",
        "colab": {
          "base_uri": "https://localhost:8080/",
          "height": 34
        }
      },
      "cell_type": "code",
      "source": [
        "print('Test Loss: {} | Test Accuracy: {:.2f}%'.format(results['architecture_8'][0], 100 * results['architecture_8'][1]))"
      ],
      "execution_count": 0,
      "outputs": [
        {
          "output_type": "stream",
          "text": [
            "Test Loss: 0.30322768446058035 | Test Accuracy: 89.89%\n"
          ],
          "name": "stdout"
        }
      ]
    },
    {
      "metadata": {
        "id": "csBCokNgxgbn",
        "colab_type": "text"
      },
      "cell_type": "markdown",
      "source": [
        "### 9 tentativa"
      ]
    },
    {
      "metadata": {
        "colab_type": "text",
        "id": "qLtNH8xk63El"
      },
      "cell_type": "markdown",
      "source": [
        "Modelo adaptado do **Lucas Albertins**\n",
        "\n",
        "*   Função **SGD** para compilação\n"
      ]
    },
    {
      "metadata": {
        "colab_type": "code",
        "id": "EJjS6pK1xj1f",
        "colab": {}
      },
      "cell_type": "code",
      "source": [
        "from keras.layers import Conv2D, MaxPooling2D, GlobalMaxPooling2D, BatchNormalization\n",
        "from keras.regularizers import l2\n",
        "\n",
        "model = Sequential()\n",
        "\n",
        "model.add(Conv2D(32, (3, 3), activation='relu', kernel_regularizer=l2(1e-4), \n",
        "                 input_shape=(None, None, 3)))\n",
        "model.add(BatchNormalization())\n",
        "model.add(Conv2D(32, (3, 3), activation='relu', kernel_regularizer=l2(1e-4)))\n",
        "model.add(BatchNormalization())\n",
        "model.add(MaxPooling2D((2, 2)))\n",
        "model.add(Dropout(0.25))\n",
        "\n",
        "model.add(Conv2D(64, (3, 3), activation='relu', kernel_regularizer=l2(1e-4)))\n",
        "model.add(BatchNormalization())\n",
        "model.add(Conv2D(64, (3, 3), activation='relu', kernel_regularizer=l2(1e-4)))\n",
        "model.add(BatchNormalization())\n",
        "model.add(MaxPooling2D((2, 2)))\n",
        "model.add(Dropout(0.25))\n",
        "\n",
        "model.add(Conv2D(128, (1,1), kernel_regularizer=l2(1e-4)))\n",
        "model.add(GlobalMaxPooling2D())\n",
        "\n",
        "model.add(Dense(256, activation='relu', kernel_regularizer=l2(1e-4)))\n",
        "model.add(Dropout(0.5))\n",
        "model.add(Dense(2, activation='sigmoid', kernel_regularizer=l2(1e-4)))"
      ],
      "execution_count": 0,
      "outputs": []
    },
    {
      "metadata": {
        "colab_type": "code",
        "id": "9ezdguEZxsWT",
        "colab": {}
      },
      "cell_type": "code",
      "source": [
        "model.compile(SGD(lr=0.03, momentum=0.0, decay=0.0, nesterov=False), \n",
        "              loss='binary_crossentropy', metrics=['accuracy'])"
      ],
      "execution_count": 0,
      "outputs": []
    },
    {
      "metadata": {
        "colab_type": "code",
        "id": "yADpSLiz6XOs",
        "colab": {}
      },
      "cell_type": "code",
      "source": [
        "checkpointer = ModelCheckpoint(filepath='weights_architecture_9.hdf5', verbose=1, save_best_only=True)"
      ],
      "execution_count": 0,
      "outputs": []
    },
    {
      "metadata": {
        "colab_type": "code",
        "outputId": "e42d972d-7f3b-4152-8a91-279538c742c0",
        "id": "6jYgi71R6XO2",
        "colab": {
          "base_uri": "https://localhost:8080/",
          "height": 3417
        }
      },
      "cell_type": "code",
      "source": [
        "training = model.fit_generator(train_batches, steps_per_epoch=stepsPerEpoche, \n",
        "                   validation_data=validation_batches, validation_steps=validationSteps,\n",
        "                   epochs=50, verbose=2, callbacks=[checkpointer])"
      ],
      "execution_count": 0,
      "outputs": [
        {
          "output_type": "stream",
          "text": [
            "Epoch 1/50\n",
            " - 3s - loss: 2.2166 - acc: 0.5062 - val_loss: 0.5331 - val_acc: 0.8438\n",
            "\n",
            "Epoch 00001: val_loss improved from inf to 0.53314, saving model to weights_architecture_9.hdf5\n",
            "Epoch 2/50\n",
            " - 0s - loss: 0.5364 - acc: 0.7531 - val_loss: 0.4718 - val_acc: 0.8125\n",
            "\n",
            "Epoch 00002: val_loss improved from 0.53314 to 0.47184, saving model to weights_architecture_9.hdf5\n",
            "Epoch 3/50\n",
            " - 0s - loss: 0.4942 - acc: 0.8312 - val_loss: 0.6131 - val_acc: 0.7031\n",
            "\n",
            "Epoch 00003: val_loss did not improve from 0.47184\n",
            "Epoch 4/50\n",
            " - 0s - loss: 0.4164 - acc: 0.8563 - val_loss: 0.4350 - val_acc: 0.8750\n",
            "\n",
            "Epoch 00004: val_loss improved from 0.47184 to 0.43499, saving model to weights_architecture_9.hdf5\n",
            "Epoch 5/50\n",
            " - 0s - loss: 0.5066 - acc: 0.8156 - val_loss: 0.9477 - val_acc: 0.4062\n",
            "\n",
            "Epoch 00005: val_loss did not improve from 0.43499\n",
            "Epoch 6/50\n",
            " - 0s - loss: 0.4188 - acc: 0.8719 - val_loss: 0.7618 - val_acc: 0.5312\n",
            "\n",
            "Epoch 00006: val_loss did not improve from 0.43499\n",
            "Epoch 7/50\n",
            " - 0s - loss: 0.3156 - acc: 0.9094 - val_loss: 0.9205 - val_acc: 0.4688\n",
            "\n",
            "Epoch 00007: val_loss did not improve from 0.43499\n",
            "Epoch 8/50\n",
            " - 0s - loss: 0.4463 - acc: 0.8156 - val_loss: 0.8731 - val_acc: 0.4375\n",
            "\n",
            "Epoch 00008: val_loss did not improve from 0.43499\n",
            "Epoch 9/50\n",
            " - 0s - loss: 0.4179 - acc: 0.8375 - val_loss: 0.5235 - val_acc: 0.8125\n",
            "\n",
            "Epoch 00009: val_loss did not improve from 0.43499\n",
            "Epoch 10/50\n",
            " - 1s - loss: 0.4560 - acc: 0.8344 - val_loss: 0.5920 - val_acc: 0.7969\n",
            "\n",
            "Epoch 00010: val_loss did not improve from 0.43499\n",
            "Epoch 11/50\n",
            " - 1s - loss: 0.5011 - acc: 0.8312 - val_loss: 0.6752 - val_acc: 0.6094\n",
            "\n",
            "Epoch 00011: val_loss did not improve from 0.43499\n",
            "Epoch 12/50\n",
            " - 1s - loss: 0.3934 - acc: 0.8625 - val_loss: 0.8702 - val_acc: 0.4531\n",
            "\n",
            "Epoch 00012: val_loss did not improve from 0.43499\n",
            "Epoch 13/50\n",
            " - 1s - loss: 0.3608 - acc: 0.8594 - val_loss: 0.6018 - val_acc: 0.6719\n",
            "\n",
            "Epoch 00013: val_loss did not improve from 0.43499\n",
            "Epoch 14/50\n",
            " - 1s - loss: 0.2822 - acc: 0.9156 - val_loss: 0.4849 - val_acc: 0.7500\n",
            "\n",
            "Epoch 00014: val_loss did not improve from 0.43499\n",
            "Epoch 15/50\n",
            " - 1s - loss: 0.3132 - acc: 0.9031 - val_loss: 0.5166 - val_acc: 0.8281\n",
            "\n",
            "Epoch 00015: val_loss did not improve from 0.43499\n",
            "Epoch 16/50\n",
            " - 1s - loss: 0.2709 - acc: 0.9156 - val_loss: 0.6231 - val_acc: 0.6406\n",
            "\n",
            "Epoch 00016: val_loss did not improve from 0.43499\n",
            "Epoch 17/50\n",
            " - 1s - loss: 0.4063 - acc: 0.8563 - val_loss: 0.8384 - val_acc: 0.5469\n",
            "\n",
            "Epoch 00017: val_loss did not improve from 0.43499\n",
            "Epoch 18/50\n",
            " - 1s - loss: 0.3638 - acc: 0.8750 - val_loss: 0.4612 - val_acc: 0.7969\n",
            "\n",
            "Epoch 00018: val_loss did not improve from 0.43499\n",
            "Epoch 19/50\n",
            " - 1s - loss: 0.3009 - acc: 0.9156 - val_loss: 0.9749 - val_acc: 0.4688\n",
            "\n",
            "Epoch 00019: val_loss did not improve from 0.43499\n",
            "Epoch 20/50\n",
            " - 1s - loss: 0.3054 - acc: 0.8827 - val_loss: 0.6259 - val_acc: 0.6875\n",
            "\n",
            "Epoch 00020: val_loss did not improve from 0.43499\n",
            "Epoch 21/50\n",
            " - 1s - loss: 0.2881 - acc: 0.9156 - val_loss: 0.7901 - val_acc: 0.5000\n",
            "\n",
            "Epoch 00021: val_loss did not improve from 0.43499\n",
            "Epoch 22/50\n",
            " - 1s - loss: 0.3606 - acc: 0.8750 - val_loss: 0.3588 - val_acc: 0.9375\n",
            "\n",
            "Epoch 00022: val_loss improved from 0.43499 to 0.35880, saving model to weights_architecture_9.hdf5\n",
            "Epoch 23/50\n",
            " - 1s - loss: 0.3718 - acc: 0.8594 - val_loss: 0.7492 - val_acc: 0.5469\n",
            "\n",
            "Epoch 00023: val_loss did not improve from 0.35880\n",
            "Epoch 24/50\n",
            " - 1s - loss: 0.2727 - acc: 0.9125 - val_loss: 0.3961 - val_acc: 0.8750\n",
            "\n",
            "Epoch 00024: val_loss did not improve from 0.35880\n",
            "Epoch 25/50\n",
            " - 1s - loss: 0.2879 - acc: 0.9094 - val_loss: 0.9647 - val_acc: 0.4688\n",
            "\n",
            "Epoch 00025: val_loss did not improve from 0.35880\n",
            "Epoch 26/50\n",
            " - 1s - loss: 0.2956 - acc: 0.9062 - val_loss: 0.8193 - val_acc: 0.5000\n",
            "\n",
            "Epoch 00026: val_loss did not improve from 0.35880\n",
            "Epoch 27/50\n",
            " - 1s - loss: 0.2839 - acc: 0.9219 - val_loss: 0.4312 - val_acc: 0.8125\n",
            "\n",
            "Epoch 00027: val_loss did not improve from 0.35880\n",
            "Epoch 28/50\n",
            " - 1s - loss: 0.3983 - acc: 0.8844 - val_loss: 0.3067 - val_acc: 0.9062\n",
            "\n",
            "Epoch 00028: val_loss improved from 0.35880 to 0.30671, saving model to weights_architecture_9.hdf5\n",
            "Epoch 29/50\n",
            " - 1s - loss: 0.4012 - acc: 0.8750 - val_loss: 0.2653 - val_acc: 0.9375\n",
            "\n",
            "Epoch 00029: val_loss improved from 0.30671 to 0.26533, saving model to weights_architecture_9.hdf5\n",
            "Epoch 30/50\n",
            " - 1s - loss: 0.2338 - acc: 0.9250 - val_loss: 0.3277 - val_acc: 0.8906\n",
            "\n",
            "Epoch 00030: val_loss did not improve from 0.26533\n",
            "Epoch 31/50\n",
            " - 1s - loss: 0.3378 - acc: 0.8781 - val_loss: 0.7111 - val_acc: 0.7273\n",
            "\n",
            "Epoch 00031: val_loss did not improve from 0.26533\n",
            "Epoch 32/50\n",
            " - 1s - loss: 0.2657 - acc: 0.9125 - val_loss: 1.0595 - val_acc: 0.5000\n",
            "\n",
            "Epoch 00032: val_loss did not improve from 0.26533\n",
            "Epoch 33/50\n",
            " - 1s - loss: 0.2993 - acc: 0.8719 - val_loss: 0.8377 - val_acc: 0.5469\n",
            "\n",
            "Epoch 00033: val_loss did not improve from 0.26533\n",
            "Epoch 34/50\n",
            " - 1s - loss: 0.3192 - acc: 0.8688 - val_loss: 0.3192 - val_acc: 0.9219\n",
            "\n",
            "Epoch 00034: val_loss did not improve from 0.26533\n",
            "Epoch 35/50\n",
            " - 1s - loss: 0.2999 - acc: 0.8969 - val_loss: 0.4722 - val_acc: 0.7812\n",
            "\n",
            "Epoch 00035: val_loss did not improve from 0.26533\n",
            "Epoch 36/50\n",
            " - 1s - loss: 0.2822 - acc: 0.9094 - val_loss: 0.7909 - val_acc: 0.6406\n",
            "\n",
            "Epoch 00036: val_loss did not improve from 0.26533\n",
            "Epoch 37/50\n",
            " - 1s - loss: 0.2353 - acc: 0.9281 - val_loss: 0.3280 - val_acc: 0.9531\n",
            "\n",
            "Epoch 00037: val_loss did not improve from 0.26533\n",
            "Epoch 38/50\n",
            " - 1s - loss: 0.3755 - acc: 0.8781 - val_loss: 0.9736 - val_acc: 0.5625\n",
            "\n",
            "Epoch 00038: val_loss did not improve from 0.26533\n",
            "Epoch 39/50\n",
            " - 1s - loss: 0.3341 - acc: 0.8937 - val_loss: 1.3081 - val_acc: 0.5000\n",
            "\n",
            "Epoch 00039: val_loss did not improve from 0.26533\n",
            "Epoch 40/50\n",
            " - 1s - loss: 0.2343 - acc: 0.8937 - val_loss: 0.3656 - val_acc: 0.8438\n",
            "\n",
            "Epoch 00040: val_loss did not improve from 0.26533\n",
            "Epoch 41/50\n",
            " - 1s - loss: 0.2836 - acc: 0.9219 - val_loss: 0.5552 - val_acc: 0.7656\n",
            "\n",
            "Epoch 00041: val_loss did not improve from 0.26533\n",
            "Epoch 42/50\n",
            " - 1s - loss: 0.2129 - acc: 0.9437 - val_loss: 0.3805 - val_acc: 0.9219\n",
            "\n",
            "Epoch 00042: val_loss did not improve from 0.26533\n",
            "Epoch 43/50\n",
            " - 1s - loss: 0.2881 - acc: 0.8969 - val_loss: 0.4750 - val_acc: 0.7969\n",
            "\n",
            "Epoch 00043: val_loss did not improve from 0.26533\n",
            "Epoch 44/50\n",
            " - 1s - loss: 0.1959 - acc: 0.9313 - val_loss: 0.2382 - val_acc: 0.9531\n",
            "\n",
            "Epoch 00044: val_loss improved from 0.26533 to 0.23817, saving model to weights_architecture_9.hdf5\n",
            "Epoch 45/50\n",
            " - 1s - loss: 0.1890 - acc: 0.9688 - val_loss: 0.5486 - val_acc: 0.7500\n",
            "\n",
            "Epoch 00045: val_loss did not improve from 0.23817\n",
            "Epoch 46/50\n",
            " - 1s - loss: 0.2402 - acc: 0.9000 - val_loss: 0.5098 - val_acc: 0.7969\n",
            "\n",
            "Epoch 00046: val_loss did not improve from 0.23817\n",
            "Epoch 47/50\n",
            " - 1s - loss: 0.2660 - acc: 0.8906 - val_loss: 0.3608 - val_acc: 0.8125\n",
            "\n",
            "Epoch 00047: val_loss did not improve from 0.23817\n",
            "Epoch 48/50\n",
            " - 1s - loss: 0.4540 - acc: 0.8406 - val_loss: 8.0555 - val_acc: 0.5000\n",
            "\n",
            "Epoch 00048: val_loss did not improve from 0.23817\n",
            "Epoch 49/50\n",
            " - 1s - loss: 0.4194 - acc: 0.8219 - val_loss: 8.9655 - val_acc: 0.4375\n",
            "\n",
            "Epoch 00049: val_loss did not improve from 0.23817\n",
            "Epoch 50/50\n",
            " - 1s - loss: 0.3405 - acc: 0.8812 - val_loss: 4.6261 - val_acc: 0.6562\n",
            "\n",
            "Epoch 00050: val_loss did not improve from 0.23817\n"
          ],
          "name": "stdout"
        }
      ]
    },
    {
      "metadata": {
        "colab_type": "code",
        "id": "LDX_OBkO6XPB",
        "outputId": "65bd1230-59ee-4808-8db3-ca39f1d735a3",
        "colab": {
          "base_uri": "https://localhost:8080/",
          "height": 380
        }
      },
      "cell_type": "code",
      "source": [
        "# plotar loss e accuracy para os datasets 'train' e 'test'\n",
        "plt.style.use(\"ggplot\")\n",
        "plt.figure()\n",
        "plt.plot(training.history['acc'], label='Accuracy')\n",
        "plt.plot(training.history['loss'], label='Loss')\n",
        "plt.xlabel('Epochs')\n",
        "plt.ylabel('Accuracy')\n",
        "plt.title(\"Training Loss and Accuracy\")\n",
        "plt.ylabel(\"Loss/Accuracy\")\n",
        "plt.legend()\n",
        "plt.savefig('architecture_9.png', bbox_inches='tight')"
      ],
      "execution_count": 0,
      "outputs": [
        {
          "output_type": "display_data",
          "data": {
            "image/png": "[encoded data removed]",
            "text/plain": [
              "<matplotlib.figure.Figure at 0x7fa767ff56d8>"
            ]
          },
          "metadata": {
            "tags": []
          }
        }
      ]
    },
    {
      "metadata": {
        "colab_type": "code",
        "id": "2iYS0M_E6XPL",
        "colab": {}
      },
      "cell_type": "code",
      "source": [
        "model.load_weights('weights_architecture_9.hdf5')"
      ],
      "execution_count": 0,
      "outputs": []
    },
    {
      "metadata": {
        "colab_type": "code",
        "id": "Ui0MQtER6XPR",
        "outputId": "2dc00625-d19b-49fd-f1e2-bf9926b787a4",
        "colab": {
          "base_uri": "https://localhost:8080/",
          "height": 34
        }
      },
      "cell_type": "code",
      "source": [
        "results['architecture_9'] = model.evaluate_generator(test_batches, steps=bSize, use_multiprocessing=True, verbose=1)"
      ],
      "execution_count": 0,
      "outputs": [
        {
          "output_type": "stream",
          "text": [
            "32/32 [==============================] - 3s 106ms/step\n"
          ],
          "name": "stdout"
        }
      ]
    },
    {
      "metadata": {
        "colab_type": "code",
        "id": "XNL89Dbk6XPU",
        "outputId": "53db2b8e-7553-4f62-c236-200bf5b75693",
        "colab": {
          "base_uri": "https://localhost:8080/",
          "height": 34
        }
      },
      "cell_type": "code",
      "source": [
        "print('Test Loss: {} | Test Accuracy: {:.2f}%'.format(results['architecture_9'][0], 100 * results['architecture_9'][1]))"
      ],
      "execution_count": 0,
      "outputs": [
        {
          "output_type": "stream",
          "text": [
            "Test Loss: 0.3442880939692259 | Test Accuracy: 88.13%\n"
          ],
          "name": "stdout"
        }
      ]
    },
    {
      "metadata": {
        "id": "I_6RPRqZ0ooK",
        "colab_type": "text"
      },
      "cell_type": "markdown",
      "source": [
        "### 10 tentativa"
      ]
    },
    {
      "metadata": {
        "colab_type": "text",
        "id": "drBpwd1s7PE3"
      },
      "cell_type": "markdown",
      "source": [
        "Modelo adaptado do **Lucas Albertins**\n",
        "\n",
        "*   Função **adam** para compilação\n",
        "*   Adicionado mais 2 camadas convolutivas"
      ]
    },
    {
      "metadata": {
        "colab_type": "code",
        "id": "6LGTLObK0u-Y",
        "colab": {}
      },
      "cell_type": "code",
      "source": [
        "from keras.layers import Conv2D, MaxPooling2D, GlobalMaxPooling2D, BatchNormalization\n",
        "from keras.regularizers import l2\n",
        "\n",
        "model = Sequential()\n",
        "\n",
        "model.add(Conv2D(32, (3, 3), activation='relu', kernel_regularizer=l2(1e-4), \n",
        "                 input_shape=(None, None, 3)))\n",
        "model.add(BatchNormalization())\n",
        "model.add(Conv2D(32, (3, 3), activation='relu', kernel_regularizer=l2(1e-4)))\n",
        "model.add(BatchNormalization())\n",
        "model.add(MaxPooling2D((2, 2)))\n",
        "model.add(Dropout(0.25))\n",
        "\n",
        "model.add(Conv2D(64, (3, 3), activation='relu', kernel_regularizer=l2(1e-4)))\n",
        "model.add(BatchNormalization())\n",
        "model.add(Conv2D(64, (3, 3), activation='relu', kernel_regularizer=l2(1e-4)))\n",
        "model.add(BatchNormalization())\n",
        "model.add(MaxPooling2D((2, 2)))\n",
        "model.add(Dropout(0.25))\n",
        "\n",
        "model.add(Conv2D(96, (3, 3),activation='relu', kernel_regularizer=l2(1e-4)))\n",
        "model.add(BatchNormalization())\n",
        "model.add(Conv2D(96, (3, 3),activation='relu', kernel_regularizer=l2(1e-4)))\n",
        "model.add(BatchNormalization())\n",
        "model.add(MaxPooling2D((2, 2)))\n",
        "model.add(Dropout(0.25))\n",
        "\n",
        "model.add(Conv2D(128, (1,1), kernel_regularizer=l2(1e-4)))\n",
        "model.add(GlobalMaxPooling2D())\n",
        "\n",
        "model.add(Dense(256, activation='relu', kernel_regularizer=l2(1e-4)))\n",
        "model.add(Dropout(0.5))\n",
        "model.add(Dense(2, activation='sigmoid', kernel_regularizer=l2(1e-4)))"
      ],
      "execution_count": 0,
      "outputs": []
    },
    {
      "metadata": {
        "colab_type": "code",
        "id": "vB92aUkR0u-p",
        "colab": {}
      },
      "cell_type": "code",
      "source": [
        "model.compile(optimizer='adam', loss='binary_crossentropy', metrics=['accuracy'])"
      ],
      "execution_count": 0,
      "outputs": []
    },
    {
      "metadata": {
        "colab_type": "code",
        "id": "AWaPDrSE7bLf",
        "colab": {}
      },
      "cell_type": "code",
      "source": [
        "checkpointer = ModelCheckpoint(filepath='weights_architecture_10.hdf5', verbose=1, save_best_only=True)"
      ],
      "execution_count": 0,
      "outputs": []
    },
    {
      "metadata": {
        "colab_type": "code",
        "id": "mUqvoI5Y7bLp",
        "outputId": "61903104-f5ce-41ee-ce29-a6bd59b6ea54",
        "colab": {
          "base_uri": "https://localhost:8080/",
          "height": 3437
        }
      },
      "cell_type": "code",
      "source": [
        "training = model.fit_generator(train_batches, steps_per_epoch=stepsPerEpoche, \n",
        "                   validation_data=validation_batches, validation_steps=validationSteps,\n",
        "                   epochs=50, verbose=2, callbacks=[checkpointer])"
      ],
      "execution_count": 0,
      "outputs": [
        {
          "output_type": "stream",
          "text": [
            "Epoch 1/50\n",
            " - 4s - loss: 0.9520 - acc: 0.6594 - val_loss: 0.5854 - val_acc: 0.7188\n",
            "\n",
            "Epoch 00001: val_loss improved from inf to 0.58536, saving model to weights_architecture_10.hdf5\n",
            "Epoch 2/50\n",
            " - 1s - loss: 0.4780 - acc: 0.8344 - val_loss: 0.5586 - val_acc: 0.7969\n",
            "\n",
            "Epoch 00002: val_loss improved from 0.58536 to 0.55860, saving model to weights_architecture_10.hdf5\n",
            "Epoch 3/50\n",
            " - 1s - loss: 0.4208 - acc: 0.8563 - val_loss: 0.5534 - val_acc: 0.7188\n",
            "\n",
            "Epoch 00003: val_loss improved from 0.55860 to 0.55336, saving model to weights_architecture_10.hdf5\n",
            "Epoch 4/50\n",
            " - 1s - loss: 0.4595 - acc: 0.8312 - val_loss: 0.6689 - val_acc: 0.8182\n",
            "\n",
            "Epoch 00004: val_loss did not improve from 0.55336\n",
            "Epoch 5/50\n",
            " - 1s - loss: 0.5661 - acc: 0.8438 - val_loss: 0.4260 - val_acc: 0.8438\n",
            "\n",
            "Epoch 00005: val_loss improved from 0.55336 to 0.42604, saving model to weights_architecture_10.hdf5\n",
            "Epoch 6/50\n",
            " - 1s - loss: 0.3732 - acc: 0.8688 - val_loss: 0.2853 - val_acc: 0.8906\n",
            "\n",
            "Epoch 00006: val_loss improved from 0.42604 to 0.28530, saving model to weights_architecture_10.hdf5\n",
            "Epoch 7/50\n",
            " - 1s - loss: 0.4078 - acc: 0.8438 - val_loss: 0.4940 - val_acc: 0.7812\n",
            "\n",
            "Epoch 00007: val_loss did not improve from 0.28530\n",
            "Epoch 8/50\n",
            " - 1s - loss: 0.2683 - acc: 0.9250 - val_loss: 0.8660 - val_acc: 0.5781\n",
            "\n",
            "Epoch 00008: val_loss did not improve from 0.28530\n",
            "Epoch 9/50\n",
            " - 1s - loss: 0.3781 - acc: 0.8531 - val_loss: 0.6575 - val_acc: 0.6406\n",
            "\n",
            "Epoch 00009: val_loss did not improve from 0.28530\n",
            "Epoch 10/50\n",
            " - 1s - loss: 0.2378 - acc: 0.9406 - val_loss: 0.4779 - val_acc: 0.8125\n",
            "\n",
            "Epoch 00010: val_loss did not improve from 0.28530\n",
            "Epoch 11/50\n",
            " - 1s - loss: 0.4251 - acc: 0.8750 - val_loss: 0.2928 - val_acc: 0.9062\n",
            "\n",
            "Epoch 00011: val_loss did not improve from 0.28530\n",
            "Epoch 12/50\n",
            " - 1s - loss: 0.3845 - acc: 0.8625 - val_loss: 0.3924 - val_acc: 0.8125\n",
            "\n",
            "Epoch 00012: val_loss did not improve from 0.28530\n",
            "Epoch 13/50\n",
            " - 1s - loss: 0.3426 - acc: 0.8781 - val_loss: 0.5236 - val_acc: 0.7344\n",
            "\n",
            "Epoch 00013: val_loss did not improve from 0.28530\n",
            "Epoch 14/50\n",
            " - 1s - loss: 0.3586 - acc: 0.8906 - val_loss: 0.8079 - val_acc: 0.7188\n",
            "\n",
            "Epoch 00014: val_loss did not improve from 0.28530\n",
            "Epoch 15/50\n",
            " - 1s - loss: 0.3488 - acc: 0.8750 - val_loss: 0.3308 - val_acc: 0.9062\n",
            "\n",
            "Epoch 00015: val_loss did not improve from 0.28530\n",
            "Epoch 16/50\n",
            " - 1s - loss: 0.2957 - acc: 0.9031 - val_loss: 0.4511 - val_acc: 0.8594\n",
            "\n",
            "Epoch 00016: val_loss did not improve from 0.28530\n",
            "Epoch 17/50\n",
            " - 1s - loss: 0.4399 - acc: 0.8563 - val_loss: 0.3080 - val_acc: 0.8438\n",
            "\n",
            "Epoch 00017: val_loss did not improve from 0.28530\n",
            "Epoch 18/50\n",
            " - 1s - loss: 0.2739 - acc: 0.9219 - val_loss: 0.5952 - val_acc: 0.7500\n",
            "\n",
            "Epoch 00018: val_loss did not improve from 0.28530\n",
            "Epoch 19/50\n",
            " - 1s - loss: 0.2951 - acc: 0.9031 - val_loss: 0.6779 - val_acc: 0.7031\n",
            "\n",
            "Epoch 00019: val_loss did not improve from 0.28530\n",
            "Epoch 20/50\n",
            " - 1s - loss: 0.2176 - acc: 0.9437 - val_loss: 0.5282 - val_acc: 0.7812\n",
            "\n",
            "Epoch 00020: val_loss did not improve from 0.28530\n",
            "Epoch 21/50\n",
            " - 1s - loss: 0.2641 - acc: 0.9094 - val_loss: 0.3522 - val_acc: 0.9318\n",
            "\n",
            "Epoch 00021: val_loss did not improve from 0.28530\n",
            "Epoch 22/50\n",
            " - 1s - loss: 0.2609 - acc: 0.9281 - val_loss: 0.4116 - val_acc: 0.8750\n",
            "\n",
            "Epoch 00022: val_loss did not improve from 0.28530\n",
            "Epoch 23/50\n",
            " - 1s - loss: 0.3877 - acc: 0.8781 - val_loss: 0.1996 - val_acc: 0.9531\n",
            "\n",
            "Epoch 00023: val_loss improved from 0.28530 to 0.19965, saving model to weights_architecture_10.hdf5\n",
            "Epoch 24/50\n",
            " - 1s - loss: 0.2089 - acc: 0.9562 - val_loss: 0.1602 - val_acc: 0.9688\n",
            "\n",
            "Epoch 00024: val_loss improved from 0.19965 to 0.16018, saving model to weights_architecture_10.hdf5\n",
            "Epoch 25/50\n",
            " - 1s - loss: 0.2534 - acc: 0.9156 - val_loss: 0.2694 - val_acc: 0.9375\n",
            "\n",
            "Epoch 00025: val_loss did not improve from 0.16018\n",
            "Epoch 26/50\n",
            " - 1s - loss: 0.2572 - acc: 0.9094 - val_loss: 0.6576 - val_acc: 0.7969\n",
            "\n",
            "Epoch 00026: val_loss did not improve from 0.16018\n",
            "Epoch 27/50\n",
            " - 1s - loss: 0.2843 - acc: 0.9062 - val_loss: 0.7236 - val_acc: 0.8125\n",
            "\n",
            "Epoch 00027: val_loss did not improve from 0.16018\n",
            "Epoch 28/50\n",
            " - 1s - loss: 0.2229 - acc: 0.9344 - val_loss: 0.5563 - val_acc: 0.7656\n",
            "\n",
            "Epoch 00028: val_loss did not improve from 0.16018\n",
            "Epoch 29/50\n",
            " - 1s - loss: 0.3948 - acc: 0.8812 - val_loss: 0.3628 - val_acc: 0.9062\n",
            "\n",
            "Epoch 00029: val_loss did not improve from 0.16018\n",
            "Epoch 30/50\n",
            " - 1s - loss: 0.2371 - acc: 0.9372 - val_loss: 1.5258 - val_acc: 0.5938\n",
            "\n",
            "Epoch 00030: val_loss did not improve from 0.16018\n",
            "Epoch 31/50\n",
            " - 1s - loss: 0.3217 - acc: 0.8937 - val_loss: 1.3667 - val_acc: 0.6406\n",
            "\n",
            "Epoch 00031: val_loss did not improve from 0.16018\n",
            "Epoch 32/50\n",
            " - 1s - loss: 0.3261 - acc: 0.9219 - val_loss: 1.9184 - val_acc: 0.5625\n",
            "\n",
            "Epoch 00032: val_loss did not improve from 0.16018\n",
            "Epoch 33/50\n",
            " - 1s - loss: 0.2521 - acc: 0.9281 - val_loss: 0.9610 - val_acc: 0.6406\n",
            "\n",
            "Epoch 00033: val_loss did not improve from 0.16018\n",
            "Epoch 34/50\n",
            " - 1s - loss: 0.2424 - acc: 0.9375 - val_loss: 1.3192 - val_acc: 0.6719\n",
            "\n",
            "Epoch 00034: val_loss did not improve from 0.16018\n",
            "Epoch 35/50\n",
            " - 1s - loss: 0.3349 - acc: 0.8969 - val_loss: 0.7347 - val_acc: 0.7656\n",
            "\n",
            "Epoch 00035: val_loss did not improve from 0.16018\n",
            "Epoch 36/50\n",
            " - 1s - loss: 0.3082 - acc: 0.9094 - val_loss: 0.4947 - val_acc: 0.7812\n",
            "\n",
            "Epoch 00036: val_loss did not improve from 0.16018\n",
            "Epoch 37/50\n",
            " - 1s - loss: 0.2925 - acc: 0.9313 - val_loss: 1.0785 - val_acc: 0.7031\n",
            "\n",
            "Epoch 00037: val_loss did not improve from 0.16018\n",
            "Epoch 38/50\n",
            " - 1s - loss: 0.2139 - acc: 0.9500 - val_loss: 1.0477 - val_acc: 0.5455\n",
            "\n",
            "Epoch 00038: val_loss did not improve from 0.16018\n",
            "Epoch 39/50\n",
            " - 1s - loss: 0.2379 - acc: 0.9281 - val_loss: 1.1839 - val_acc: 0.6719\n",
            "\n",
            "Epoch 00039: val_loss did not improve from 0.16018\n",
            "Epoch 40/50\n",
            " - 1s - loss: 0.1677 - acc: 0.9750 - val_loss: 0.3509 - val_acc: 0.9062\n",
            "\n",
            "Epoch 00040: val_loss did not improve from 0.16018\n",
            "Epoch 41/50\n",
            " - 1s - loss: 0.2453 - acc: 0.9313 - val_loss: 0.9593 - val_acc: 0.7500\n",
            "\n",
            "Epoch 00041: val_loss did not improve from 0.16018\n",
            "Epoch 42/50\n",
            " - 1s - loss: 0.2324 - acc: 0.9500 - val_loss: 0.3442 - val_acc: 0.8750\n",
            "\n",
            "Epoch 00042: val_loss did not improve from 0.16018\n",
            "Epoch 43/50\n",
            " - 1s - loss: 0.2503 - acc: 0.9156 - val_loss: 0.6960 - val_acc: 0.8125\n",
            "\n",
            "Epoch 00043: val_loss did not improve from 0.16018\n",
            "Epoch 44/50\n",
            " - 1s - loss: 0.3831 - acc: 0.9031 - val_loss: 1.3081 - val_acc: 0.6875\n",
            "\n",
            "Epoch 00044: val_loss did not improve from 0.16018\n",
            "Epoch 45/50\n",
            " - 1s - loss: 0.3591 - acc: 0.9062 - val_loss: 0.3748 - val_acc: 0.8438\n",
            "\n",
            "Epoch 00045: val_loss did not improve from 0.16018\n",
            "Epoch 46/50\n",
            " - 1s - loss: 0.2445 - acc: 0.9406 - val_loss: 0.2842 - val_acc: 0.9375\n",
            "\n",
            "Epoch 00046: val_loss did not improve from 0.16018\n",
            "Epoch 47/50\n",
            " - 1s - loss: 0.2557 - acc: 0.9406 - val_loss: 0.5409 - val_acc: 0.8125\n",
            "\n",
            "Epoch 00047: val_loss did not improve from 0.16018\n",
            "Epoch 48/50\n",
            " - 1s - loss: 0.2476 - acc: 0.9375 - val_loss: 0.2317 - val_acc: 0.9375\n",
            "\n",
            "Epoch 00048: val_loss did not improve from 0.16018\n",
            "Epoch 49/50\n",
            " - 1s - loss: 0.2755 - acc: 0.9094 - val_loss: 0.2975 - val_acc: 0.9375\n",
            "\n",
            "Epoch 00049: val_loss did not improve from 0.16018\n",
            "Epoch 50/50\n",
            " - 1s - loss: 0.2340 - acc: 0.9250 - val_loss: 0.1872 - val_acc: 0.9375\n",
            "\n",
            "Epoch 00050: val_loss did not improve from 0.16018\n"
          ],
          "name": "stdout"
        }
      ]
    },
    {
      "metadata": {
        "colab_type": "code",
        "id": "c3-AMkkg7bLw",
        "outputId": "1605389d-61c0-42bc-b4a7-d6942e7208bf",
        "colab": {
          "base_uri": "https://localhost:8080/",
          "height": 400
        }
      },
      "cell_type": "code",
      "source": [
        "# plotar loss e accuracy para os datasets 'train' e 'test'\n",
        "plt.style.use(\"ggplot\")\n",
        "plt.figure()\n",
        "plt.plot(training.history['acc'], label='Accuracy')\n",
        "plt.plot(training.history['loss'], label='Loss')\n",
        "plt.xlabel('Epochs')\n",
        "plt.ylabel('Accuracy')\n",
        "plt.title(\"Training Loss and Accuracy\")\n",
        "plt.ylabel(\"Loss/Accuracy\")\n",
        "plt.legend()\n",
        "plt.savefig('architecture_10.png', bbox_inches='tight')"
      ],
      "execution_count": 0,
      "outputs": [
        {
          "output_type": "display_data",
          "data": {
            "image/png": "[encoded data removed]",
            "text/plain": [
              "<matplotlib.figure.Figure at 0x7fa7682cc748>"
            ]
          },
          "metadata": {
            "tags": []
          }
        }
      ]
    },
    {
      "metadata": {
        "colab_type": "code",
        "id": "qpPONEiQ7bMB",
        "colab": {}
      },
      "cell_type": "code",
      "source": [
        "model.load_weights('weights_architecture_10.hdf5')"
      ],
      "execution_count": 0,
      "outputs": []
    },
    {
      "metadata": {
        "colab_type": "code",
        "id": "2QghQZHo7bMG",
        "outputId": "8886077e-acc4-421d-b3e1-6704861a215e",
        "colab": {
          "base_uri": "https://localhost:8080/",
          "height": 54
        }
      },
      "cell_type": "code",
      "source": [
        "results['architecture_10'] = model.evaluate_generator(test_batches, steps=bSize, use_multiprocessing=True, verbose=1)"
      ],
      "execution_count": 0,
      "outputs": [
        {
          "output_type": "stream",
          "text": [
            "32/32 [==============================] - 3s 106ms/step\n"
          ],
          "name": "stdout"
        }
      ]
    },
    {
      "metadata": {
        "colab_type": "code",
        "id": "QaQ-aTxU7bMJ",
        "outputId": "723f1ef5-ac1a-4f98-9cf3-600fa4f06cfe",
        "colab": {
          "base_uri": "https://localhost:8080/",
          "height": 54
        }
      },
      "cell_type": "code",
      "source": [
        "print('Test Loss: {} | Test Accuracy: {:.2f}%'.format(results['architecture_10'][0], 100 * results['architecture_10'][1]))"
      ],
      "execution_count": 0,
      "outputs": [
        {
          "output_type": "stream",
          "text": [
            "Test Loss: 0.27117166738025844 | Test Accuracy: 91.60%\n"
          ],
          "name": "stdout"
        }
      ]
    },
    {
      "metadata": {
        "id": "t-JuICq46CWp",
        "colab_type": "text"
      },
      "cell_type": "markdown",
      "source": [
        "### 11 tentativa"
      ]
    },
    {
      "metadata": {
        "colab_type": "text",
        "id": "MdaiMXVY8RWc"
      },
      "cell_type": "markdown",
      "source": [
        "Modelo adaptado do **Lucas Albertins**\n",
        "\n",
        "*   Função **SGD** para compilação\n",
        "*   Adicionado mais 2 camadas convolutivas"
      ]
    },
    {
      "metadata": {
        "colab_type": "code",
        "id": "vLy1nlhs6HHL",
        "colab": {}
      },
      "cell_type": "code",
      "source": [
        "from keras.layers import Conv2D, MaxPooling2D, GlobalMaxPooling2D, BatchNormalization\n",
        "from keras.regularizers import l2\n",
        "\n",
        "model = Sequential()\n",
        "\n",
        "model.add(Conv2D(32, (3, 3), activation='relu', kernel_regularizer=l2(1e-4), \n",
        "                 input_shape=(None, None, 3)))\n",
        "model.add(BatchNormalization())\n",
        "model.add(Conv2D(32, (3, 3), activation='relu', kernel_regularizer=l2(1e-4)))\n",
        "model.add(BatchNormalization())\n",
        "model.add(MaxPooling2D((2, 2)))\n",
        "model.add(Dropout(0.25))\n",
        "\n",
        "model.add(Conv2D(64, (3, 3), activation='relu', kernel_regularizer=l2(1e-4)))\n",
        "model.add(BatchNormalization())\n",
        "model.add(Conv2D(64, (3, 3), activation='relu', kernel_regularizer=l2(1e-4)))\n",
        "model.add(BatchNormalization())\n",
        "model.add(MaxPooling2D((2, 2)))\n",
        "model.add(Dropout(0.25))\n",
        "\n",
        "model.add(Conv2D(96, (3, 3),activation='relu', kernel_regularizer=l2(1e-4)))\n",
        "model.add(BatchNormalization())\n",
        "model.add(Conv2D(96, (3, 3),activation='relu', kernel_regularizer=l2(1e-4)))\n",
        "model.add(BatchNormalization())\n",
        "model.add(MaxPooling2D((2, 2)))\n",
        "model.add(Dropout(0.25))\n",
        "\n",
        "model.add(Conv2D(128, (1,1), kernel_regularizer=l2(1e-4)))\n",
        "model.add(GlobalMaxPooling2D())\n",
        "\n",
        "model.add(Dense(256, activation='relu', kernel_regularizer=l2(1e-4)))\n",
        "model.add(Dropout(0.5))\n",
        "model.add(Dense(2, activation='sigmoid', kernel_regularizer=l2(1e-4)))"
      ],
      "execution_count": 0,
      "outputs": []
    },
    {
      "metadata": {
        "colab_type": "code",
        "id": "QKpy_s8Z6HHZ",
        "colab": {}
      },
      "cell_type": "code",
      "source": [
        "model.compile(SGD(lr=0.01, momentum=0.0, decay=0.0, nesterov=False), \n",
        "              loss='binary_crossentropy', metrics=['accuracy'])"
      ],
      "execution_count": 0,
      "outputs": []
    },
    {
      "metadata": {
        "colab_type": "code",
        "id": "kv_TvFJq7t1U",
        "colab": {}
      },
      "cell_type": "code",
      "source": [
        "checkpointer = ModelCheckpoint(filepath='weights_architecture_11.hdf5', verbose=1, save_best_only=True)"
      ],
      "execution_count": 0,
      "outputs": []
    },
    {
      "metadata": {
        "colab_type": "code",
        "id": "KGy9-eyM7t1c",
        "outputId": "08c5959a-f746-4346-ce63-dccde77f763c",
        "colab": {
          "base_uri": "https://localhost:8080/",
          "height": 3437
        }
      },
      "cell_type": "code",
      "source": [
        "training = model.fit_generator(train_batches, steps_per_epoch=stepsPerEpoche, \n",
        "                   validation_data=validation_batches, validation_steps=validationSteps,\n",
        "                   epochs=50, verbose=2, callbacks=[checkpointer])"
      ],
      "execution_count": 0,
      "outputs": [
        {
          "output_type": "stream",
          "text": [
            "Epoch 1/50\n",
            " - 4s - loss: 1.2345 - acc: 0.6188 - val_loss: 0.7005 - val_acc: 0.5625\n",
            "\n",
            "Epoch 00001: val_loss improved from inf to 0.70047, saving model to weights_architecture_11.hdf5\n",
            "Epoch 2/50\n",
            " - 1s - loss: 0.6995 - acc: 0.7562 - val_loss: 0.4903 - val_acc: 0.8906\n",
            "\n",
            "Epoch 00002: val_loss improved from 0.70047 to 0.49034, saving model to weights_architecture_11.hdf5\n",
            "Epoch 3/50\n",
            " - 1s - loss: 0.6543 - acc: 0.7906 - val_loss: 0.5471 - val_acc: 0.7500\n",
            "\n",
            "Epoch 00003: val_loss did not improve from 0.49034\n",
            "Epoch 4/50\n",
            " - 1s - loss: 0.5720 - acc: 0.8125 - val_loss: 0.4368 - val_acc: 0.9062\n",
            "\n",
            "Epoch 00004: val_loss improved from 0.49034 to 0.43685, saving model to weights_architecture_11.hdf5\n",
            "Epoch 5/50\n",
            " - 1s - loss: 0.4690 - acc: 0.8438 - val_loss: 1.2263 - val_acc: 0.6094\n",
            "\n",
            "Epoch 00005: val_loss did not improve from 0.43685\n",
            "Epoch 6/50\n",
            " - 1s - loss: 0.4698 - acc: 0.8375 - val_loss: 0.5978 - val_acc: 0.6562\n",
            "\n",
            "Epoch 00006: val_loss did not improve from 0.43685\n",
            "Epoch 7/50\n",
            " - 1s - loss: 0.3687 - acc: 0.8906 - val_loss: 0.7007 - val_acc: 0.6719\n",
            "\n",
            "Epoch 00007: val_loss did not improve from 0.43685\n",
            "Epoch 8/50\n",
            " - 1s - loss: 0.2382 - acc: 0.9375 - val_loss: 0.2764 - val_acc: 0.8750\n",
            "\n",
            "Epoch 00008: val_loss improved from 0.43685 to 0.27641, saving model to weights_architecture_11.hdf5\n",
            "Epoch 9/50\n",
            " - 1s - loss: 0.6543 - acc: 0.7969 - val_loss: 0.3451 - val_acc: 0.8906\n",
            "\n",
            "Epoch 00009: val_loss did not improve from 0.27641\n",
            "Epoch 10/50\n",
            " - 0s - loss: 0.6128 - acc: 0.8071 - val_loss: 0.5370 - val_acc: 0.7031\n",
            "\n",
            "Epoch 00010: val_loss did not improve from 0.27641\n",
            "Epoch 11/50\n",
            " - 1s - loss: 0.3845 - acc: 0.8812 - val_loss: 0.4413 - val_acc: 0.8182\n",
            "\n",
            "Epoch 00011: val_loss did not improve from 0.27641\n",
            "Epoch 12/50\n",
            " - 1s - loss: 0.3825 - acc: 0.8719 - val_loss: 0.3492 - val_acc: 0.8594\n",
            "\n",
            "Epoch 00012: val_loss did not improve from 0.27641\n",
            "Epoch 13/50\n",
            " - 1s - loss: 0.4273 - acc: 0.8656 - val_loss: 0.3531 - val_acc: 0.8594\n",
            "\n",
            "Epoch 00013: val_loss did not improve from 0.27641\n",
            "Epoch 14/50\n",
            " - 1s - loss: 0.2961 - acc: 0.9031 - val_loss: 0.9084 - val_acc: 0.5781\n",
            "\n",
            "Epoch 00014: val_loss did not improve from 0.27641\n",
            "Epoch 15/50\n",
            " - 1s - loss: 0.3867 - acc: 0.8656 - val_loss: 0.2753 - val_acc: 0.9219\n",
            "\n",
            "Epoch 00015: val_loss improved from 0.27641 to 0.27526, saving model to weights_architecture_11.hdf5\n",
            "Epoch 16/50\n",
            " - 1s - loss: 0.3294 - acc: 0.8844 - val_loss: 0.4889 - val_acc: 0.8281\n",
            "\n",
            "Epoch 00016: val_loss did not improve from 0.27526\n",
            "Epoch 17/50\n",
            " - 1s - loss: 0.3289 - acc: 0.9094 - val_loss: 0.6369 - val_acc: 0.6875\n",
            "\n",
            "Epoch 00017: val_loss did not improve from 0.27526\n",
            "Epoch 18/50\n",
            " - 1s - loss: 0.4180 - acc: 0.8844 - val_loss: 0.3535 - val_acc: 0.8750\n",
            "\n",
            "Epoch 00018: val_loss did not improve from 0.27526\n",
            "Epoch 19/50\n",
            " - 1s - loss: 0.2992 - acc: 0.9000 - val_loss: 0.7913 - val_acc: 0.6562\n",
            "\n",
            "Epoch 00019: val_loss did not improve from 0.27526\n",
            "Epoch 20/50\n",
            " - 1s - loss: 0.2875 - acc: 0.9156 - val_loss: 0.8065 - val_acc: 0.5625\n",
            "\n",
            "Epoch 00020: val_loss did not improve from 0.27526\n",
            "Epoch 21/50\n",
            " - 1s - loss: 0.4205 - acc: 0.8656 - val_loss: 0.7927 - val_acc: 0.6719\n",
            "\n",
            "Epoch 00021: val_loss did not improve from 0.27526\n",
            "Epoch 22/50\n",
            " - 1s - loss: 0.2823 - acc: 0.9094 - val_loss: 0.9654 - val_acc: 0.5312\n",
            "\n",
            "Epoch 00022: val_loss did not improve from 0.27526\n",
            "Epoch 23/50\n",
            " - 1s - loss: 0.3690 - acc: 0.8750 - val_loss: 0.3354 - val_acc: 0.8906\n",
            "\n",
            "Epoch 00023: val_loss did not improve from 0.27526\n",
            "Epoch 24/50\n",
            " - 1s - loss: 0.3392 - acc: 0.9156 - val_loss: 0.4312 - val_acc: 0.8125\n",
            "\n",
            "Epoch 00024: val_loss did not improve from 0.27526\n",
            "Epoch 25/50\n",
            " - 1s - loss: 0.3197 - acc: 0.9062 - val_loss: 0.3059 - val_acc: 0.9062\n",
            "\n",
            "Epoch 00025: val_loss did not improve from 0.27526\n",
            "Epoch 26/50\n",
            " - 1s - loss: 0.2003 - acc: 0.9531 - val_loss: 0.2880 - val_acc: 0.8906\n",
            "\n",
            "Epoch 00026: val_loss did not improve from 0.27526\n",
            "Epoch 27/50\n",
            " - 1s - loss: 0.3350 - acc: 0.8844 - val_loss: 0.4248 - val_acc: 0.8125\n",
            "\n",
            "Epoch 00027: val_loss did not improve from 0.27526\n",
            "Epoch 28/50\n",
            " - 1s - loss: 0.3860 - acc: 0.8688 - val_loss: 0.2221 - val_acc: 0.9318\n",
            "\n",
            "Epoch 00028: val_loss improved from 0.27526 to 0.22208, saving model to weights_architecture_11.hdf5\n",
            "Epoch 29/50\n",
            " - 1s - loss: 0.2748 - acc: 0.9313 - val_loss: 0.4306 - val_acc: 0.8594\n",
            "\n",
            "Epoch 00029: val_loss did not improve from 0.22208\n",
            "Epoch 30/50\n",
            " - 1s - loss: 0.2844 - acc: 0.9156 - val_loss: 0.2708 - val_acc: 0.9375\n",
            "\n",
            "Epoch 00030: val_loss did not improve from 0.22208\n",
            "Epoch 31/50\n",
            " - 1s - loss: 0.2132 - acc: 0.9313 - val_loss: 0.3415 - val_acc: 0.8594\n",
            "\n",
            "Epoch 00031: val_loss did not improve from 0.22208\n",
            "Epoch 32/50\n",
            " - 1s - loss: 0.2915 - acc: 0.9250 - val_loss: 0.6867 - val_acc: 0.7031\n",
            "\n",
            "Epoch 00032: val_loss did not improve from 0.22208\n",
            "Epoch 33/50\n",
            " - 1s - loss: 0.1857 - acc: 0.9469 - val_loss: 0.3192 - val_acc: 0.8906\n",
            "\n",
            "Epoch 00033: val_loss did not improve from 0.22208\n",
            "Epoch 34/50\n",
            " - 1s - loss: 0.3569 - acc: 0.9094 - val_loss: 0.6634 - val_acc: 0.6250\n",
            "\n",
            "Epoch 00034: val_loss did not improve from 0.22208\n",
            "Epoch 35/50\n",
            " - 1s - loss: 0.2245 - acc: 0.9250 - val_loss: 0.6173 - val_acc: 0.7500\n",
            "\n",
            "Epoch 00035: val_loss did not improve from 0.22208\n",
            "Epoch 36/50\n",
            " - 1s - loss: 0.1940 - acc: 0.9531 - val_loss: 0.5782 - val_acc: 0.7656\n",
            "\n",
            "Epoch 00036: val_loss did not improve from 0.22208\n",
            "Epoch 37/50\n",
            " - 1s - loss: 0.2998 - acc: 0.8969 - val_loss: 0.5687 - val_acc: 0.7031\n",
            "\n",
            "Epoch 00037: val_loss did not improve from 0.22208\n",
            "Epoch 38/50\n",
            " - 1s - loss: 0.3210 - acc: 0.8969 - val_loss: 0.5510 - val_acc: 0.6875\n",
            "\n",
            "Epoch 00038: val_loss did not improve from 0.22208\n",
            "Epoch 39/50\n",
            " - 1s - loss: 0.2862 - acc: 0.9156 - val_loss: 0.7176 - val_acc: 0.5312\n",
            "\n",
            "Epoch 00039: val_loss did not improve from 0.22208\n",
            "Epoch 40/50\n",
            " - 1s - loss: 0.3562 - acc: 0.8751 - val_loss: 1.3504 - val_acc: 0.4688\n",
            "\n",
            "Epoch 00040: val_loss did not improve from 0.22208\n",
            "Epoch 41/50\n",
            " - 1s - loss: 0.3137 - acc: 0.8875 - val_loss: 0.7573 - val_acc: 0.6875\n",
            "\n",
            "Epoch 00041: val_loss did not improve from 0.22208\n",
            "Epoch 42/50\n",
            " - 1s - loss: 0.3051 - acc: 0.8969 - val_loss: 0.4695 - val_acc: 0.8281\n",
            "\n",
            "Epoch 00042: val_loss did not improve from 0.22208\n",
            "Epoch 43/50\n",
            " - 1s - loss: 0.2661 - acc: 0.9156 - val_loss: 0.3245 - val_acc: 0.9688\n",
            "\n",
            "Epoch 00043: val_loss did not improve from 0.22208\n",
            "Epoch 44/50\n",
            " - 1s - loss: 0.3041 - acc: 0.8969 - val_loss: 0.4782 - val_acc: 0.7969\n",
            "\n",
            "Epoch 00044: val_loss did not improve from 0.22208\n",
            "Epoch 45/50\n",
            " - 1s - loss: 0.3218 - acc: 0.9094 - val_loss: 0.3149 - val_acc: 0.9091\n",
            "\n",
            "Epoch 00045: val_loss did not improve from 0.22208\n",
            "Epoch 46/50\n",
            " - 1s - loss: 0.3793 - acc: 0.8656 - val_loss: 0.6003 - val_acc: 0.7812\n",
            "\n",
            "Epoch 00046: val_loss did not improve from 0.22208\n",
            "Epoch 47/50\n",
            " - 1s - loss: 0.2514 - acc: 0.9250 - val_loss: 0.5048 - val_acc: 0.8125\n",
            "\n",
            "Epoch 00047: val_loss did not improve from 0.22208\n",
            "Epoch 48/50\n",
            " - 1s - loss: 0.2463 - acc: 0.9313 - val_loss: 0.4670 - val_acc: 0.8438\n",
            "\n",
            "Epoch 00048: val_loss did not improve from 0.22208\n",
            "Epoch 49/50\n",
            " - 1s - loss: 0.2213 - acc: 0.9313 - val_loss: 1.0848 - val_acc: 0.5156\n",
            "\n",
            "Epoch 00049: val_loss did not improve from 0.22208\n",
            "Epoch 50/50\n",
            " - 1s - loss: 0.2073 - acc: 0.9562 - val_loss: 1.0460 - val_acc: 0.5000\n",
            "\n",
            "Epoch 00050: val_loss did not improve from 0.22208\n"
          ],
          "name": "stdout"
        }
      ]
    },
    {
      "metadata": {
        "colab_type": "code",
        "id": "Zfc6MOKV7t18",
        "outputId": "6f6117b1-efbc-459d-8c7a-136ce488ce11",
        "colab": {
          "base_uri": "https://localhost:8080/",
          "height": 400
        }
      },
      "cell_type": "code",
      "source": [
        "# plotar loss e accuracy para os datasets 'train' e 'test'\n",
        "plt.style.use(\"ggplot\")\n",
        "plt.figure()\n",
        "plt.plot(training.history['acc'], label='Accuracy')\n",
        "plt.plot(training.history['loss'], label='Loss')\n",
        "plt.xlabel('Epochs')\n",
        "plt.ylabel('Accuracy')\n",
        "plt.title(\"Training Loss and Accuracy\")\n",
        "plt.ylabel(\"Loss/Accuracy\")\n",
        "plt.legend()\n",
        "plt.savefig('architecture_11.png', bbox_inches='tight')"
      ],
      "execution_count": 0,
      "outputs": [
        {
          "output_type": "display_data",
          "data": {
            "image/png": "[encoded data removed]",
            "text/plain": [
              "<matplotlib.figure.Figure at 0x7fa762858be0>"
            ]
          },
          "metadata": {
            "tags": []
          }
        }
      ]
    },
    {
      "metadata": {
        "colab_type": "code",
        "id": "YGPiNIgZ7t2H",
        "colab": {}
      },
      "cell_type": "code",
      "source": [
        "model.load_weights('weights_architecture_11.hdf5')"
      ],
      "execution_count": 0,
      "outputs": []
    },
    {
      "metadata": {
        "colab_type": "code",
        "id": "kxr7AENx7t2N",
        "outputId": "eb1b2e80-37c9-4a6e-f6d2-efbb610d50bf",
        "colab": {
          "base_uri": "https://localhost:8080/",
          "height": 54
        }
      },
      "cell_type": "code",
      "source": [
        "results['architecture_11'] = model.evaluate_generator(test_batches, steps=bSize, use_multiprocessing=True, verbose=1)"
      ],
      "execution_count": 0,
      "outputs": [
        {
          "output_type": "stream",
          "text": [
            "32/32 [==============================] - 3s 107ms/step\n"
          ],
          "name": "stdout"
        }
      ]
    },
    {
      "metadata": {
        "colab_type": "code",
        "id": "Bf8AHrqA7t2S",
        "outputId": "76ebbd20-7ef2-4f7c-e121-4e30365ad44e",
        "colab": {
          "base_uri": "https://localhost:8080/",
          "height": 54
        }
      },
      "cell_type": "code",
      "source": [
        "print('Test Loss: {} | Test Accuracy: {:.2f}%'.format(results['architecture_11'][0], 100 * results['architecture_11'][1]))"
      ],
      "execution_count": 0,
      "outputs": [
        {
          "output_type": "stream",
          "text": [
            "Test Loss: 0.28384022461250424 | Test Accuracy: 91.75%\n"
          ],
          "name": "stdout"
        }
      ]
    },
    {
      "metadata": {
        "id": "26BCkdp9MAna",
        "colab_type": "text"
      },
      "cell_type": "markdown",
      "source": [
        "### 12 tentativa"
      ]
    },
    {
      "metadata": {
        "colab_type": "text",
        "id": "MLvKG40a84F9"
      },
      "cell_type": "markdown",
      "source": [
        "Modelo adaptado do **Lucas Albertins**\n",
        "\n",
        "*   Sem utilização das funções de regularização\n",
        "*   Função **SGD** para compilação\n",
        "*   Adicionado mais 2 camadas convolutivas"
      ]
    },
    {
      "metadata": {
        "colab_type": "code",
        "id": "9LrDSy5AMFDO",
        "colab": {}
      },
      "cell_type": "code",
      "source": [
        "from keras.layers import Conv2D, MaxPooling2D, GlobalMaxPooling2D, BatchNormalization\n",
        "from keras.regularizers import l2\n",
        "\n",
        "model = Sequential()\n",
        "\n",
        "model.add(Conv2D(32, (3, 3), activation='relu',input_shape=(None, None, 3)))\n",
        "model.add(BatchNormalization())\n",
        "model.add(Conv2D(32, (3, 3), activation='relu'))\n",
        "model.add(BatchNormalization())\n",
        "model.add(MaxPooling2D((2, 2)))\n",
        "model.add(Dropout(0.25))\n",
        "\n",
        "model.add(Conv2D(64, (3, 3), activation='relu'))\n",
        "model.add(BatchNormalization())\n",
        "model.add(Conv2D(64, (3, 3), activation='relu'))\n",
        "model.add(BatchNormalization())\n",
        "model.add(MaxPooling2D((2, 2)))\n",
        "model.add(Dropout(0.25))\n",
        "\n",
        "model.add(Conv2D(96, (3, 3),activation='relu'))\n",
        "model.add(BatchNormalization())\n",
        "model.add(Conv2D(96, (3, 3),activation='relu'))\n",
        "model.add(BatchNormalization())\n",
        "model.add(MaxPooling2D((2, 2)))\n",
        "model.add(Dropout(0.25))\n",
        "\n",
        "model.add(Conv2D(128, (1,1)))\n",
        "model.add(GlobalMaxPooling2D())\n",
        "\n",
        "model.add(Dense(256, activation='relu'))\n",
        "model.add(Dropout(0.5))\n",
        "model.add(Dense(2, activation='sigmoid'))"
      ],
      "execution_count": 0,
      "outputs": []
    },
    {
      "metadata": {
        "colab_type": "code",
        "id": "EUZ-2eyUMSxQ",
        "colab": {}
      },
      "cell_type": "code",
      "source": [
        "model.compile(SGD(lr=0.01, momentum=0.0, decay=0.0, nesterov=False), \n",
        "              loss='binary_crossentropy', metrics=['accuracy'])"
      ],
      "execution_count": 0,
      "outputs": []
    },
    {
      "metadata": {
        "colab_type": "code",
        "id": "t9LJH3RP9H7J",
        "colab": {}
      },
      "cell_type": "code",
      "source": [
        "checkpointer = ModelCheckpoint(filepath='weights_architecture_12.hdf5', verbose=1, save_best_only=True)"
      ],
      "execution_count": 0,
      "outputs": []
    },
    {
      "metadata": {
        "colab_type": "code",
        "id": "nnQVNSzq9H7S",
        "outputId": "a3cce440-88b8-4e90-cbb9-fc39afb90143",
        "colab": {
          "base_uri": "https://localhost:8080/",
          "height": 3417
        }
      },
      "cell_type": "code",
      "source": [
        "training = model.fit_generator(train_batches, steps_per_epoch=stepsPerEpoche, \n",
        "                   validation_data=validation_batches, validation_steps=validationSteps,\n",
        "                   epochs=50, verbose=2, callbacks=[checkpointer])"
      ],
      "execution_count": 0,
      "outputs": [
        {
          "output_type": "stream",
          "text": [
            "Epoch 1/50\n",
            " - 4s - loss: 1.6069 - acc: 0.4719 - val_loss: 0.7831 - val_acc: 0.4318\n",
            "\n",
            "Epoch 00001: val_loss improved from inf to 0.78306, saving model to weights_architecture_12.hdf5\n",
            "Epoch 2/50\n",
            " - 1s - loss: 0.7505 - acc: 0.6656 - val_loss: 0.7362 - val_acc: 0.6406\n",
            "\n",
            "Epoch 00002: val_loss improved from 0.78306 to 0.73616, saving model to weights_architecture_12.hdf5\n",
            "Epoch 3/50\n",
            " - 1s - loss: 0.5770 - acc: 0.7844 - val_loss: 0.2476 - val_acc: 0.9219\n",
            "\n",
            "Epoch 00003: val_loss improved from 0.73616 to 0.24763, saving model to weights_architecture_12.hdf5\n",
            "Epoch 4/50\n",
            " - 1s - loss: 0.5750 - acc: 0.7594 - val_loss: 0.4358 - val_acc: 0.8281\n",
            "\n",
            "Epoch 00004: val_loss did not improve from 0.24763\n",
            "Epoch 5/50\n",
            " - 1s - loss: 0.3430 - acc: 0.8719 - val_loss: 0.4338 - val_acc: 0.7969\n",
            "\n",
            "Epoch 00005: val_loss did not improve from 0.24763\n",
            "Epoch 6/50\n",
            " - 1s - loss: 0.4492 - acc: 0.8281 - val_loss: 0.4041 - val_acc: 0.8906\n",
            "\n",
            "Epoch 00006: val_loss did not improve from 0.24763\n",
            "Epoch 7/50\n",
            " - 1s - loss: 0.3062 - acc: 0.9031 - val_loss: 0.3597 - val_acc: 0.8750\n",
            "\n",
            "Epoch 00007: val_loss did not improve from 0.24763\n",
            "Epoch 8/50\n",
            " - 1s - loss: 0.3395 - acc: 0.8750 - val_loss: 0.7451 - val_acc: 0.4375\n",
            "\n",
            "Epoch 00008: val_loss did not improve from 0.24763\n",
            "Epoch 9/50\n",
            " - 1s - loss: 0.3531 - acc: 0.8625 - val_loss: 0.7956 - val_acc: 0.4844\n",
            "\n",
            "Epoch 00009: val_loss did not improve from 0.24763\n",
            "Epoch 10/50\n",
            " - 1s - loss: 0.3725 - acc: 0.8625 - val_loss: 0.4930 - val_acc: 0.7500\n",
            "\n",
            "Epoch 00010: val_loss did not improve from 0.24763\n",
            "Epoch 11/50\n",
            " - 1s - loss: 0.3311 - acc: 0.8656 - val_loss: 0.5183 - val_acc: 0.7500\n",
            "\n",
            "Epoch 00011: val_loss did not improve from 0.24763\n",
            "Epoch 12/50\n",
            " - 1s - loss: 0.2164 - acc: 0.9062 - val_loss: 0.5378 - val_acc: 0.7344\n",
            "\n",
            "Epoch 00012: val_loss did not improve from 0.24763\n",
            "Epoch 13/50\n",
            " - 1s - loss: 0.2594 - acc: 0.9094 - val_loss: 0.5863 - val_acc: 0.6875\n",
            "\n",
            "Epoch 00013: val_loss did not improve from 0.24763\n",
            "Epoch 14/50\n",
            " - 1s - loss: 0.3059 - acc: 0.8906 - val_loss: 0.6910 - val_acc: 0.5469\n",
            "\n",
            "Epoch 00014: val_loss did not improve from 0.24763\n",
            "Epoch 15/50\n",
            " - 1s - loss: 0.2177 - acc: 0.8969 - val_loss: 0.9783 - val_acc: 0.5469\n",
            "\n",
            "Epoch 00015: val_loss did not improve from 0.24763\n",
            "Epoch 16/50\n",
            " - 1s - loss: 0.3553 - acc: 0.8563 - val_loss: 0.7268 - val_acc: 0.6562\n",
            "\n",
            "Epoch 00016: val_loss did not improve from 0.24763\n",
            "Epoch 17/50\n",
            " - 1s - loss: 0.2542 - acc: 0.9062 - val_loss: 0.4576 - val_acc: 0.7656\n",
            "\n",
            "Epoch 00017: val_loss did not improve from 0.24763\n",
            "Epoch 18/50\n",
            " - 1s - loss: 0.2429 - acc: 0.9031 - val_loss: 0.3606 - val_acc: 0.7955\n",
            "\n",
            "Epoch 00018: val_loss did not improve from 0.24763\n",
            "Epoch 19/50\n",
            " - 1s - loss: 0.3486 - acc: 0.8500 - val_loss: 0.3642 - val_acc: 0.8125\n",
            "\n",
            "Epoch 00019: val_loss did not improve from 0.24763\n",
            "Epoch 20/50\n",
            " - 1s - loss: 0.2986 - acc: 0.8781 - val_loss: 0.8207 - val_acc: 0.6094\n",
            "\n",
            "Epoch 00020: val_loss did not improve from 0.24763\n",
            "Epoch 21/50\n",
            " - 1s - loss: 0.3239 - acc: 0.8563 - val_loss: 0.3418 - val_acc: 0.8594\n",
            "\n",
            "Epoch 00021: val_loss did not improve from 0.24763\n",
            "Epoch 22/50\n",
            " - 1s - loss: 0.3025 - acc: 0.8781 - val_loss: 0.3838 - val_acc: 0.8594\n",
            "\n",
            "Epoch 00022: val_loss did not improve from 0.24763\n",
            "Epoch 23/50\n",
            " - 1s - loss: 0.3609 - acc: 0.8406 - val_loss: 0.2129 - val_acc: 0.9375\n",
            "\n",
            "Epoch 00023: val_loss improved from 0.24763 to 0.21285, saving model to weights_architecture_12.hdf5\n",
            "Epoch 24/50\n",
            " - 1s - loss: 0.2095 - acc: 0.9062 - val_loss: 0.2724 - val_acc: 0.8281\n",
            "\n",
            "Epoch 00024: val_loss did not improve from 0.21285\n",
            "Epoch 25/50\n",
            " - 1s - loss: 0.2857 - acc: 0.8969 - val_loss: 0.3276 - val_acc: 0.8438\n",
            "\n",
            "Epoch 00025: val_loss did not improve from 0.21285\n",
            "Epoch 26/50\n",
            " - 1s - loss: 0.2039 - acc: 0.9219 - val_loss: 0.2682 - val_acc: 0.8594\n",
            "\n",
            "Epoch 00026: val_loss did not improve from 0.21285\n",
            "Epoch 27/50\n",
            " - 1s - loss: 0.1949 - acc: 0.9313 - val_loss: 0.2737 - val_acc: 0.8750\n",
            "\n",
            "Epoch 00027: val_loss did not improve from 0.21285\n",
            "Epoch 28/50\n",
            " - 1s - loss: 0.2737 - acc: 0.8937 - val_loss: 0.4326 - val_acc: 0.8281\n",
            "\n",
            "Epoch 00028: val_loss did not improve from 0.21285\n",
            "Epoch 29/50\n",
            " - 1s - loss: 0.2156 - acc: 0.9156 - val_loss: 0.3679 - val_acc: 0.7812\n",
            "\n",
            "Epoch 00029: val_loss did not improve from 0.21285\n",
            "Epoch 30/50\n",
            " - 1s - loss: 0.1757 - acc: 0.9344 - val_loss: 0.1883 - val_acc: 0.9531\n",
            "\n",
            "Epoch 00030: val_loss improved from 0.21285 to 0.18834, saving model to weights_architecture_12.hdf5\n",
            "Epoch 31/50\n",
            " - 1s - loss: 0.3214 - acc: 0.8688 - val_loss: 0.3111 - val_acc: 0.8594\n",
            "\n",
            "Epoch 00031: val_loss did not improve from 0.18834\n",
            "Epoch 32/50\n",
            " - 1s - loss: 0.2148 - acc: 0.9313 - val_loss: 0.2887 - val_acc: 0.9062\n",
            "\n",
            "Epoch 00032: val_loss did not improve from 0.18834\n",
            "Epoch 33/50\n",
            " - 1s - loss: 0.2159 - acc: 0.9219 - val_loss: 0.2520 - val_acc: 0.8906\n",
            "\n",
            "Epoch 00033: val_loss did not improve from 0.18834\n",
            "Epoch 34/50\n",
            " - 1s - loss: 0.1939 - acc: 0.9156 - val_loss: 0.2963 - val_acc: 0.8750\n",
            "\n",
            "Epoch 00034: val_loss did not improve from 0.18834\n",
            "Epoch 35/50\n",
            " - 1s - loss: 0.1512 - acc: 0.9531 - val_loss: 0.7617 - val_acc: 0.6591\n",
            "\n",
            "Epoch 00035: val_loss did not improve from 0.18834\n",
            "Epoch 36/50\n",
            " - 1s - loss: 0.2625 - acc: 0.9000 - val_loss: 0.3771 - val_acc: 0.8281\n",
            "\n",
            "Epoch 00036: val_loss did not improve from 0.18834\n",
            "Epoch 37/50\n",
            " - 1s - loss: 0.2570 - acc: 0.9125 - val_loss: 0.9018 - val_acc: 0.6719\n",
            "\n",
            "Epoch 00037: val_loss did not improve from 0.18834\n",
            "Epoch 38/50\n",
            " - 1s - loss: 0.1537 - acc: 0.9469 - val_loss: 1.1237 - val_acc: 0.5938\n",
            "\n",
            "Epoch 00038: val_loss did not improve from 0.18834\n",
            "Epoch 39/50\n",
            " - 1s - loss: 0.2591 - acc: 0.8969 - val_loss: 1.2568 - val_acc: 0.5938\n",
            "\n",
            "Epoch 00039: val_loss did not improve from 0.18834\n",
            "Epoch 40/50\n",
            " - 1s - loss: 0.1560 - acc: 0.9219 - val_loss: 0.9883 - val_acc: 0.6094\n",
            "\n",
            "Epoch 00040: val_loss did not improve from 0.18834\n",
            "Epoch 41/50\n",
            " - 1s - loss: 0.1613 - acc: 0.9406 - val_loss: 0.2605 - val_acc: 0.8906\n",
            "\n",
            "Epoch 00041: val_loss did not improve from 0.18834\n",
            "Epoch 42/50\n",
            " - 1s - loss: 0.2975 - acc: 0.8969 - val_loss: 0.3907 - val_acc: 0.8125\n",
            "\n",
            "Epoch 00042: val_loss did not improve from 0.18834\n",
            "Epoch 43/50\n",
            " - 1s - loss: 0.1614 - acc: 0.9406 - val_loss: 0.3063 - val_acc: 0.8750\n",
            "\n",
            "Epoch 00043: val_loss did not improve from 0.18834\n",
            "Epoch 44/50\n",
            " - 1s - loss: 0.3354 - acc: 0.8906 - val_loss: 0.4929 - val_acc: 0.7656\n",
            "\n",
            "Epoch 00044: val_loss did not improve from 0.18834\n",
            "Epoch 45/50\n",
            " - 1s - loss: 0.2060 - acc: 0.9031 - val_loss: 0.2979 - val_acc: 0.9062\n",
            "\n",
            "Epoch 00045: val_loss did not improve from 0.18834\n",
            "Epoch 46/50\n",
            " - 1s - loss: 0.1607 - acc: 0.9437 - val_loss: 0.2319 - val_acc: 0.9375\n",
            "\n",
            "Epoch 00046: val_loss did not improve from 0.18834\n",
            "Epoch 47/50\n",
            " - 1s - loss: 0.1662 - acc: 0.9406 - val_loss: 0.2507 - val_acc: 0.9219\n",
            "\n",
            "Epoch 00047: val_loss did not improve from 0.18834\n",
            "Epoch 48/50\n",
            " - 1s - loss: 0.2139 - acc: 0.9313 - val_loss: 0.2370 - val_acc: 0.8594\n",
            "\n",
            "Epoch 00048: val_loss did not improve from 0.18834\n",
            "Epoch 49/50\n",
            " - 1s - loss: 0.2508 - acc: 0.9062 - val_loss: 0.4937 - val_acc: 0.7656\n",
            "\n",
            "Epoch 00049: val_loss did not improve from 0.18834\n",
            "Epoch 50/50\n",
            " - 1s - loss: 0.1559 - acc: 0.9679 - val_loss: 0.2563 - val_acc: 0.9219\n",
            "\n",
            "Epoch 00050: val_loss did not improve from 0.18834\n"
          ],
          "name": "stdout"
        }
      ]
    },
    {
      "metadata": {
        "colab_type": "code",
        "id": "1jTgRNsw9H7Y",
        "outputId": "fd4c9f1b-1200-4255-a76d-e214b4691db2",
        "colab": {
          "base_uri": "https://localhost:8080/",
          "height": 380
        }
      },
      "cell_type": "code",
      "source": [
        "# plotar loss e accuracy para os datasets 'train' e 'test'\n",
        "plt.style.use(\"ggplot\")\n",
        "plt.figure()\n",
        "plt.plot(training.history['acc'], label='Accuracy')\n",
        "plt.plot(training.history['loss'], label='Loss')\n",
        "plt.xlabel('Epochs')\n",
        "plt.ylabel('Accuracy')\n",
        "plt.title(\"Training Loss and Accuracy\")\n",
        "plt.ylabel(\"Loss/Accuracy\")\n",
        "plt.legend()\n",
        "plt.savefig('architecture_12.png', bbox_inches='tight')"
      ],
      "execution_count": 0,
      "outputs": [
        {
          "output_type": "display_data",
          "data": {
            "image/png": "[encoded data removed]",
            "text/plain": [
              "<matplotlib.figure.Figure at 0x7fa765d3c320>"
            ]
          },
          "metadata": {
            "tags": []
          }
        }
      ]
    },
    {
      "metadata": {
        "colab_type": "code",
        "id": "Bwv3EcY-9H7g",
        "colab": {}
      },
      "cell_type": "code",
      "source": [
        "model.load_weights('weights_architecture_12.hdf5')"
      ],
      "execution_count": 0,
      "outputs": []
    },
    {
      "metadata": {
        "colab_type": "code",
        "id": "nF36tfx69H7v",
        "outputId": "148e9f1f-80d9-4ca7-c264-cffcc0100cf9",
        "colab": {
          "base_uri": "https://localhost:8080/",
          "height": 34
        }
      },
      "cell_type": "code",
      "source": [
        "results['architecture_12'] = model.evaluate_generator(test_batches, steps=bSize, use_multiprocessing=True, verbose=1)"
      ],
      "execution_count": 0,
      "outputs": [
        {
          "output_type": "stream",
          "text": [
            "32/32 [==============================] - 3s 108ms/step\n"
          ],
          "name": "stdout"
        }
      ]
    },
    {
      "metadata": {
        "colab_type": "code",
        "id": "tG7HPabu9H76",
        "outputId": "6e2a07dc-f633-4333-975e-a53641045ebb",
        "colab": {
          "base_uri": "https://localhost:8080/",
          "height": 34
        }
      },
      "cell_type": "code",
      "source": [
        "print('Test Loss: {} | Test Accuracy: {:.2f}%'.format(results['architecture_12'][0], 100 * results['architecture_12'][1]))"
      ],
      "execution_count": 0,
      "outputs": [
        {
          "output_type": "stream",
          "text": [
            "Test Loss: 0.24311775481328368 | Test Accuracy: 90.38%\n"
          ],
          "name": "stdout"
        }
      ]
    },
    {
      "metadata": {
        "id": "tVDMJpV6w_GG",
        "colab_type": "text"
      },
      "cell_type": "markdown",
      "source": [
        "### Graficos"
      ]
    },
    {
      "metadata": {
        "colab_type": "code",
        "id": "_zs8IUimxKD9",
        "outputId": "9923217d-7c7c-44a0-e75a-460550988f70",
        "colab": {
          "base_uri": "https://localhost:8080/",
          "height": 403
        }
      },
      "cell_type": "code",
      "source": [
        "plt.figure(figsize=(9,6))\n",
        "plt.plot(training.history['loss'], label='Train')\n",
        "plt.title('Model Loss')\n",
        "plt.xlabel('Epochs')\n",
        "plt.ylabel('Loss')\n",
        "plt.legend()\n",
        "plt.show()"
      ],
      "execution_count": 0,
      "outputs": [
        {
          "output_type": "display_data",
          "data": {
            "image/png": "[encoded data removed]",
            "text/plain": [
              "<matplotlib.figure.Figure at 0x7fedd75c3400>"
            ]
          },
          "metadata": {
            "tags": []
          }
        }
      ]
    },
    {
      "metadata": {
        "colab_type": "code",
        "id": "DzA7mEgyxKED",
        "outputId": "6db9e9d0-6ff4-4e8d-e64b-c1278a76cb68",
        "colab": {
          "base_uri": "https://localhost:8080/",
          "height": 403
        }
      },
      "cell_type": "code",
      "source": [
        "plt.figure(figsize=(9,6))\n",
        "plt.plot(training.history['acc'], label='Train')\n",
        "plt.title('Model Accuracy')\n",
        "plt.xlabel('Epochs')\n",
        "plt.ylabel('Accuracy')\n",
        "plt.legend()\n",
        "plt.show()"
      ],
      "execution_count": 0,
      "outputs": [
        {
          "output_type": "display_data",
          "data": {
            "image/png": "[encoded data removed]",
            "text/plain": [
              "<matplotlib.figure.Figure at 0x7fa434f9de48>"
            ]
          },
          "metadata": {
            "tags": []
          }
        }
      ]
    },
    {
      "metadata": {
        "id": "eDbaGUgHsnG4",
        "colab_type": "text"
      },
      "cell_type": "markdown",
      "source": [
        "## Implementação código do https://medium.com/@ksusorokina/image-classification-with-convolutional-neural-networks-496815db12a8"
      ]
    },
    {
      "metadata": {
        "id": "CzZXa3jhxuhv",
        "colab_type": "text"
      },
      "cell_type": "markdown",
      "source": [
        "### 1 Teste"
      ]
    },
    {
      "metadata": {
        "id": "J4kzEpYms26N",
        "colab_type": "code",
        "colab": {}
      },
      "cell_type": "code",
      "source": [
        "model = Sequential()"
      ],
      "execution_count": 0,
      "outputs": []
    },
    {
      "metadata": {
        "id": "WYk_9bt-st1M",
        "colab_type": "code",
        "colab": {}
      },
      "cell_type": "code",
      "source": [
        "model.add(Conv2D(32, (3, 3), input_shape=(120, 120, 3)))\n",
        "model.add(Activation('relu'))\n",
        "model.add(MaxPooling2D(pool_size=(2, 2)))\n",
        "\n",
        "model.add(Conv2D(32, (3, 3)))\n",
        "model.add(Activation('relu'))\n",
        "model.add(MaxPooling2D(pool_size=(2, 2)))\n",
        "\n",
        "model.add(Conv2D(64, (3, 3)))\n",
        "model.add(Activation('relu'))\n",
        "model.add(MaxPooling2D(pool_size=(2, 2)))\n",
        "\n",
        "model.add(Flatten()) \n",
        "model.add(Dense(64))\n",
        "model.add(Activation('relu'))\n",
        "model.add(Dropout(0.5))\n",
        "model.add(Dense(2))\n",
        "model.add(Activation('sigmoid'))"
      ],
      "execution_count": 0,
      "outputs": []
    },
    {
      "metadata": {
        "id": "OO4636DEs9UO",
        "colab_type": "code",
        "colab": {}
      },
      "cell_type": "code",
      "source": [
        "model.compile(loss='binary_crossentropy',\n",
        "              optimizer='rmsprop',\n",
        "              metrics=['accuracy'])"
      ],
      "execution_count": 0,
      "outputs": []
    },
    {
      "metadata": {
        "id": "Ffeyo8GwtzF1",
        "colab_type": "text"
      },
      "cell_type": "markdown",
      "source": [
        "\n",
        "\n",
        "---\n",
        "\n"
      ]
    },
    {
      "metadata": {
        "colab_type": "code",
        "id": "kgi7lX9dt0Bg",
        "colab": {}
      },
      "cell_type": "code",
      "source": [
        "bSize = 16"
      ],
      "execution_count": 0,
      "outputs": []
    },
    {
      "metadata": {
        "colab_type": "code",
        "id": "tu6dqL_Rt0By",
        "colab": {}
      },
      "cell_type": "code",
      "source": [
        "datagen = ImageDataGenerator(rescale=1/255.)"
      ],
      "execution_count": 0,
      "outputs": []
    },
    {
      "metadata": {
        "colab_type": "code",
        "outputId": "125eb753-7f43-4039-cb26-fc5de20b4658",
        "id": "iSHrq_pat0B_",
        "colab": {
          "base_uri": "https://localhost:8080/",
          "height": 54
        }
      },
      "cell_type": "code",
      "source": [
        "train_batches = datagen.flow_from_directory(train_path, target_size=(120, 120), classes=['C', 'NC'], batch_size=bSize)\n",
        "test_batches = datagen.flow_from_directory(test_path, target_size=(120, 120), classes=['C', 'NC'], batch_size=bSize)"
      ],
      "execution_count": 0,
      "outputs": [
        {
          "output_type": "stream",
          "text": [
            "Found 5344 images belonging to 2 classes.\n",
            "Found 1336 images belonging to 2 classes.\n"
          ],
          "name": "stdout"
        }
      ]
    },
    {
      "metadata": {
        "colab_type": "code",
        "id": "DzcDkpRuulYK",
        "colab": {}
      },
      "cell_type": "code",
      "source": [
        "stepsPerEpoche = len(train_batches)/bSize"
      ],
      "execution_count": 0,
      "outputs": []
    },
    {
      "metadata": {
        "id": "QXSZi_83utgp",
        "colab_type": "code",
        "colab": {}
      },
      "cell_type": "code",
      "source": [
        "model.fit_generator(train_batches, steps_per_epoch=stepsPerEpoche, \n",
        "                    epochs=5, verbose=2)\n"
      ],
      "execution_count": 0,
      "outputs": []
    },
    {
      "metadata": {
        "id": "x-62f7kIyWdD",
        "colab_type": "code",
        "colab": {}
      },
      "cell_type": "code",
      "source": [
        "model.save_weights('25_epochs_exemplo2.h5')"
      ],
      "execution_count": 0,
      "outputs": []
    },
    {
      "metadata": {
        "id": "uGo-Y9ndH0HD",
        "colab_type": "code",
        "outputId": "5b239bff-48f0-4496-8938-90b6eacf580a",
        "colab": {
          "base_uri": "https://localhost:8080/",
          "height": 1872
        }
      },
      "cell_type": "code",
      "source": [
        "model.fit_generator(train_batches, steps_per_epoch=stepsPerEpoche, \n",
        "                    epochs=50, verbose=2)"
      ],
      "execution_count": 0,
      "outputs": [
        {
          "output_type": "stream",
          "text": [
            "Epoch 1/50\n",
            " - 2s - loss: 0.7353 - acc: 0.4940\n",
            "Epoch 2/50\n",
            " - 1s - loss: 0.6482 - acc: 0.6443\n",
            "Epoch 3/50\n",
            " - 1s - loss: 0.5639 - acc: 0.7693\n",
            "Epoch 4/50\n",
            " - 1s - loss: 0.5024 - acc: 0.7723\n",
            "Epoch 5/50\n",
            " - 1s - loss: 0.4525 - acc: 0.7812\n",
            "Epoch 6/50\n",
            " - 1s - loss: 0.3668 - acc: 0.8631\n",
            "Epoch 7/50\n",
            " - 1s - loss: 0.3639 - acc: 0.8646\n",
            "Epoch 8/50\n",
            " - 1s - loss: 0.3626 - acc: 0.8586\n",
            "Epoch 9/50\n",
            " - 1s - loss: 0.3493 - acc: 0.8527\n",
            "Epoch 10/50\n",
            " - 1s - loss: 0.2751 - acc: 0.8958\n",
            "Epoch 11/50\n",
            " - 1s - loss: 0.4273 - acc: 0.8646\n",
            "Epoch 12/50\n",
            " - 1s - loss: 0.3008 - acc: 0.9241\n",
            "Epoch 13/50\n",
            " - 1s - loss: 0.3326 - acc: 0.8795\n",
            "Epoch 14/50\n",
            " - 1s - loss: 0.2798 - acc: 0.8824\n",
            "Epoch 15/50\n",
            " - 1s - loss: 0.3081 - acc: 0.8899\n",
            "Epoch 16/50\n",
            " - 1s - loss: 0.3306 - acc: 0.8914\n",
            "Epoch 17/50\n",
            " - 1s - loss: 0.3057 - acc: 0.8810\n",
            "Epoch 18/50\n",
            " - 1s - loss: 0.2491 - acc: 0.9226\n",
            "Epoch 19/50\n",
            " - 1s - loss: 0.2335 - acc: 0.9301\n",
            "Epoch 20/50\n",
            " - 1s - loss: 0.3320 - acc: 0.9077\n",
            "Epoch 21/50\n",
            " - 1s - loss: 0.2576 - acc: 0.9167\n",
            "Epoch 22/50\n",
            " - 1s - loss: 0.2542 - acc: 0.9226\n",
            "Epoch 23/50\n",
            " - 1s - loss: 0.2538 - acc: 0.9152\n",
            "Epoch 24/50\n",
            " - 1s - loss: 0.2006 - acc: 0.9301\n",
            "Epoch 25/50\n",
            " - 1s - loss: 0.2526 - acc: 0.9286\n",
            "Epoch 26/50\n",
            " - 1s - loss: 0.1841 - acc: 0.9420\n",
            "Epoch 27/50\n",
            " - 1s - loss: 0.1776 - acc: 0.9449\n",
            "Epoch 28/50\n",
            " - 1s - loss: 0.2435 - acc: 0.9286\n",
            "Epoch 29/50\n",
            " - 1s - loss: 0.2152 - acc: 0.9301\n",
            "Epoch 30/50\n",
            " - 1s - loss: 0.2119 - acc: 0.9330\n",
            "Epoch 31/50\n",
            " - 1s - loss: 0.2390 - acc: 0.9167\n",
            "Epoch 32/50\n",
            " - 1s - loss: 0.2404 - acc: 0.9033\n",
            "Epoch 33/50\n",
            " - 1s - loss: 0.1586 - acc: 0.9479\n",
            "Epoch 34/50\n",
            " - 1s - loss: 0.1678 - acc: 0.9494\n",
            "Epoch 35/50\n",
            " - 1s - loss: 0.2015 - acc: 0.9301\n",
            "Epoch 36/50\n",
            " - 1s - loss: 0.2238 - acc: 0.9390\n",
            "Epoch 37/50\n",
            " - 1s - loss: 0.2243 - acc: 0.9286\n",
            "Epoch 38/50\n",
            " - 1s - loss: 0.1819 - acc: 0.9420\n",
            "Epoch 39/50\n",
            " - 1s - loss: 0.1811 - acc: 0.9375\n",
            "Epoch 40/50\n",
            " - 1s - loss: 0.2420 - acc: 0.9152\n",
            "Epoch 41/50\n",
            " - 1s - loss: 0.2278 - acc: 0.9241\n",
            "Epoch 42/50\n",
            " - 1s - loss: 0.2116 - acc: 0.9435\n",
            "Epoch 43/50\n",
            " - 1s - loss: 0.2600 - acc: 0.9271\n",
            "Epoch 44/50\n",
            " - 1s - loss: 0.2057 - acc: 0.9226\n",
            "Epoch 45/50\n",
            " - 1s - loss: 0.1665 - acc: 0.9360\n",
            "Epoch 46/50\n",
            " - 1s - loss: 0.2349 - acc: 0.9182\n",
            "Epoch 47/50\n",
            " - 1s - loss: 0.2218 - acc: 0.9256\n",
            "Epoch 48/50\n",
            " - 1s - loss: 0.1650 - acc: 0.9256\n",
            "Epoch 49/50\n",
            " - 1s - loss: 0.1958 - acc: 0.9420\n",
            "Epoch 50/50\n",
            " - 1s - loss: 0.1854 - acc: 0.9435\n"
          ],
          "name": "stdout"
        },
        {
          "output_type": "execute_result",
          "data": {
            "text/plain": [
              "<keras.callbacks.History at 0x7fe0a48a1860>"
            ]
          },
          "metadata": {
            "tags": []
          },
          "execution_count": 11
        }
      ]
    },
    {
      "metadata": {
        "id": "WwHPhgxHH2Fi",
        "colab_type": "code",
        "colab": {}
      },
      "cell_type": "code",
      "source": [
        "model.save_weights('50_epochs_exemplo2.h5')"
      ],
      "execution_count": 0,
      "outputs": []
    }
  ]
}