{
  "nbformat": 4,
  "nbformat_minor": 0,
  "metadata": {
    "colab": {
      "name": "TesteRedes.ipynb",
      "version": "0.3.2",
      "provenance": [],
      "toc_visible": true,
      "include_colab_link": true
    },
    "kernelspec": {
      "name": "python3",
      "display_name": "Python 3"
    },
    "accelerator": "GPU"
  },
  "cells": [
    {
      "cell_type": "markdown",
      "metadata": {
        "id": "view-in-github",
        "colab_type": "text"
      },
      "source": [
        "<a href=\"https://colab.research.google.com/github/FernandaSzAdr/KNN_cromossome/blob/master/TesteRedes.ipynb\" target=\"_parent\"><img src=\"https://colab.research.google.com/assets/colab-badge.svg\" alt=\"Open In Colab\"/></a>"
      ]
    },
    {
      "metadata": {
        "id": "KpoFwwKru7O6",
        "colab_type": "code",
        "colab": {
          "base_uri": "https://localhost:8080/",
          "height": 35
        },
        "outputId": "e8ca2020-63ff-4944-b552-35e77371e6d5"
      },
      "cell_type": "code",
      "source": [
        "import tensorflow as tf\n",
        "device_name = tf.test.gpu_device_name()\n",
        "if device_name != '/device:GPU:0':\n",
        "  raise SystemError('GPU device not found')\n",
        "print('Found GPU at: {}'.format(device_name))"
      ],
      "execution_count": 1,
      "outputs": [
        {
          "output_type": "stream",
          "text": [
            "Found GPU at: /device:GPU:0\n"
          ],
          "name": "stdout"
        }
      ]
    },
    {
      "metadata": {
        "id": "yIYeoR1DzzZL",
        "colab_type": "code",
        "outputId": "426a5806-5610-4381-f8dc-f3a210959a3e",
        "colab": {
          "base_uri": "https://localhost:8080/",
          "height": 147
        }
      },
      "cell_type": "code",
      "source": [
        "# memory footprint support libraries/code\n",
        "!ln -sf /opt/bin/nvidia-smi /usr/bin/nvidia-smi\n",
        "!pip install gputil\n",
        "!pip install psutil\n",
        "!pip install humanize\n",
        "import psutil\n",
        "import humanize\n",
        "import os\n",
        "import GPUtil as GPU\n",
        "GPUs = GPU.getGPUs()\n",
        "# XXX: only one GPU on Colab and isn’t guaranteed\n",
        "gpu = GPUs[0]\n",
        "def printm():\n",
        " process = psutil.Process(os.getpid())\n",
        " print(\"Gen RAM Free: \" + humanize.naturalsize( psutil.virtual_memory().available ), \" | Proc size: \" + humanize.naturalsize( process.memory_info().rss))\n",
        " print(\"GPU RAM Free: {0:.0f}MB | Used: {1:.0f}MB | Util {2:3.0f}% | Total {3:.0f}MB\".format(gpu.memoryFree, gpu.memoryUsed, gpu.memoryUtil*100, gpu.memoryTotal))\n",
        "printm()"
      ],
      "execution_count": 2,
      "outputs": [
        {
          "output_type": "stream",
          "text": [
            "Requirement already satisfied: gputil in /usr/local/lib/python3.6/dist-packages (1.3.0)\n",
            "Requirement already satisfied: numpy in /usr/local/lib/python3.6/dist-packages (from gputil) (1.14.6)\n",
            "Requirement already satisfied: psutil in /usr/local/lib/python3.6/dist-packages (5.4.7)\n",
            "Requirement already satisfied: humanize in /usr/local/lib/python3.6/dist-packages (0.5.1)\n",
            "Gen RAM Free: 12.4 GB  | Proc size: 665.3 MB\n",
            "GPU RAM Free: 11325MB | Used: 116MB | Util   1% | Total 11441MB\n"
          ],
          "name": "stdout"
        }
      ]
    },
    {
      "metadata": {
        "id": "xN-oUTtcif3Q",
        "colab_type": "code",
        "colab": {
          "base_uri": "https://localhost:8080/",
          "height": 129
        },
        "outputId": "004edc2d-8cfd-4384-916c-c68e52b275ef"
      },
      "cell_type": "code",
      "source": [
        "# Load the Drive helper and mount\n",
        "from google.colab import drive\n",
        "\n",
        "# This will prompt for authorization.\n",
        "drive.mount('/content/drive/')"
      ],
      "execution_count": 1,
      "outputs": [
        {
          "output_type": "stream",
          "text": [
            "Go to this URL in a browser: https://accounts.google.com/o/oauth2/auth?client_id=947318989803-6bn6qk8qdgf4n4g3pfee6491hc0brc4i.apps.googleusercontent.com&redirect_uri=urn%3Aietf%3Awg%3Aoauth%3A2.0%3Aoob&scope=email%20https%3A%2F%2Fwww.googleapis.com%2Fauth%2Fdocs.test%20https%3A%2F%2Fwww.googleapis.com%2Fauth%2Fdrive%20https%3A%2F%2Fwww.googleapis.com%2Fauth%2Fdrive.photos.readonly%20https%3A%2F%2Fwww.googleapis.com%2Fauth%2Fpeopleapi.readonly&response_type=code\n",
            "\n",
            "Enter your authorization code:\n",
            "··········\n",
            "Mounted at /content/drive/\n"
          ],
          "name": "stdout"
        }
      ]
    },
    {
      "metadata": {
        "id": "gzcuEGSklnwS",
        "colab_type": "code",
        "colab": {
          "base_uri": "https://localhost:8080/",
          "height": 35
        },
        "outputId": "e72b8780-b881-4148-ed57-8c4f0067518b"
      },
      "cell_type": "code",
      "source": [
        "import numpy as np\n",
        "import keras\n",
        "from keras import backend as K\n",
        "from keras.models import Sequential\n",
        "from keras.layers import Activation\n",
        "from keras.optimizers import SGD\n",
        "from keras.layers.core import Dense, Flatten, Dropout\n",
        "from keras.preprocessing.image import ImageDataGenerator\n",
        "from keras.layers.normalization import BatchNormalization\n",
        "from keras.layers.convolutional import *\n",
        "from matplotlib import pyplot as plt\n",
        "from sklearn.metrics import confusion_matrix\n",
        "import itertools\n",
        "import matplotlib.pyplot as plt"
      ],
      "execution_count": 2,
      "outputs": [
        {
          "output_type": "stream",
          "text": [
            "Using TensorFlow backend.\n"
          ],
          "name": "stderr"
        }
      ]
    },
    {
      "metadata": {
        "id": "ITtEfxrilym7",
        "colab_type": "code",
        "colab": {}
      },
      "cell_type": "code",
      "source": [
        "train_path = 'drive/My Drive/base_crcn/Base/Train'\n",
        "test_path = 'drive/My Drive/base_crcn/Base/Test'"
      ],
      "execution_count": 0,
      "outputs": []
    },
    {
      "metadata": {
        "id": "WlPBqB_v3x2A",
        "colab_type": "text"
      },
      "cell_type": "markdown",
      "source": [
        "\n",
        "\n",
        "---\n",
        "\n"
      ]
    },
    {
      "metadata": {
        "id": "8KTtm8K7qg1n",
        "colab_type": "text"
      },
      "cell_type": "markdown",
      "source": [
        "## Implementação do código descrito em **\"Crowdsourcing for Chromosome Segmentation and Deep Classification\"**"
      ]
    },
    {
      "metadata": {
        "id": "W3zmFDRmnYem",
        "colab_type": "code",
        "colab": {}
      },
      "cell_type": "code",
      "source": [
        "bSize = 32"
      ],
      "execution_count": 0,
      "outputs": []
    },
    {
      "metadata": {
        "id": "dCNH0jPl3WTV",
        "colab_type": "code",
        "colab": {}
      },
      "cell_type": "code",
      "source": [
        "datagen = ImageDataGenerator(rescale=1/255.)"
      ],
      "execution_count": 0,
      "outputs": []
    },
    {
      "metadata": {
        "id": "YiMXe23Vmbo-",
        "colab_type": "code",
        "colab": {
          "base_uri": "https://localhost:8080/",
          "height": 54
        },
        "outputId": "6eb40f16-787f-4756-9f22-c7f3039a2917"
      },
      "cell_type": "code",
      "source": [
        "train_batches = datagen.flow_from_directory(train_path, target_size=(120, 120), classes=['C', 'NC'], batch_size=bSize)\n",
        "test_batches = datagen.flow_from_directory(test_path, target_size=(120, 120), classes=['C', 'NC'], batch_size=bSize)"
      ],
      "execution_count": 6,
      "outputs": [
        {
          "output_type": "stream",
          "text": [
            "Found 5344 images belonging to 2 classes.\n",
            "Found 1336 images belonging to 2 classes.\n"
          ],
          "name": "stdout"
        }
      ]
    },
    {
      "metadata": {
        "id": "WLcoxZya5sQr",
        "colab_type": "code",
        "colab": {
          "base_uri": "https://localhost:8080/",
          "height": 35
        },
        "outputId": "41886e6e-a1d2-4d7e-f255-2fcff91122a5"
      },
      "cell_type": "code",
      "source": [
        "test_batches.class_indices"
      ],
      "execution_count": 8,
      "outputs": [
        {
          "output_type": "execute_result",
          "data": {
            "text/plain": [
              "{'C': 0, 'NC': 1}"
            ]
          },
          "metadata": {
            "tags": []
          },
          "execution_count": 8
        }
      ]
    },
    {
      "metadata": {
        "id": "tY7Fxpczz0wk",
        "colab_type": "text"
      },
      "cell_type": "markdown",
      "source": [
        "\n",
        "\n",
        "---\n",
        "\n"
      ]
    },
    {
      "metadata": {
        "id": "wH56YdE5rlnU",
        "colab_type": "text"
      },
      "cell_type": "markdown",
      "source": [
        "### 1 tentativa\n"
      ]
    },
    {
      "metadata": {
        "id": "rNosdG-ioNYU",
        "colab_type": "code",
        "colab": {}
      },
      "cell_type": "code",
      "source": [
        "model = Sequential([\n",
        "    Conv2D(64, (3, 3), activation='relu', input_shape=(120, 120, 3)),\n",
        "    Conv2D(64, (3, 3), activation='relu'),\n",
        "    Dropout(0.2),\n",
        "    MaxPooling2D(pool_size=(2, 2)),\n",
        "   \n",
        "    Conv2D(32, (3, 3), activation='relu'),\n",
        "    Conv2D(32, (3, 3), activation='relu'),\n",
        "    Dropout(0.2),\n",
        "    MaxPooling2D(pool_size=(2, 2)),\n",
        "   \n",
        "    Conv2D(16, (3, 3), activation='relu'),\n",
        "    Conv2D(16, (3, 3), activation='relu'),\n",
        "    Dropout(0.2),\n",
        "    MaxPooling2D(pool_size=(2, 2)),\n",
        "   \n",
        "    Conv2D(8, (3, 3), activation='relu'),\n",
        "    Conv2D(8, (3, 3), activation='relu'),\n",
        "    Dropout(0.2),\n",
        "    MaxPooling2D(pool_size=(2, 2)),\n",
        "    \n",
        "    Flatten(),\n",
        "    Dense(1024, activation='sigmoid'),\n",
        "    Dense(512, activation='sigmoid'),\n",
        "   \n",
        "    Dense(2, activation='softmax')\n",
        "]\n",
        ")"
      ],
      "execution_count": 0,
      "outputs": []
    },
    {
      "metadata": {
        "id": "B8lrsdDTTZtN",
        "colab_type": "code",
        "colab": {}
      },
      "cell_type": "code",
      "source": [
        "model.summary()"
      ],
      "execution_count": 0,
      "outputs": []
    },
    {
      "metadata": {
        "id": "UBqwdK2Bxagj",
        "colab_type": "code",
        "colab": {}
      },
      "cell_type": "code",
      "source": [
        "model.compile(SGD(lr=0.01, momentum=0.0, decay=0.0, nesterov=False), \n",
        "              loss='categorical_crossentropy', metrics=['accuracy'])"
      ],
      "execution_count": 0,
      "outputs": []
    },
    {
      "metadata": {
        "id": "vE-dZtSv5mde",
        "colab_type": "code",
        "colab": {}
      },
      "cell_type": "code",
      "source": [
        "stepsPerEpoche = len(train_batches)/bSize"
      ],
      "execution_count": 0,
      "outputs": []
    },
    {
      "metadata": {
        "id": "PeyX7Mzf5lDw",
        "colab_type": "code",
        "colab": {
          "base_uri": "https://localhost:8080/",
          "height": 1872
        },
        "outputId": "ba9b31da-6f06-4367-f8b4-4162bdf88e1a"
      },
      "cell_type": "code",
      "source": [
        "training = model.fit_generator(train_batches, steps_per_epoch=stepsPerEpoche, epochs=50, verbose=2)"
      ],
      "execution_count": 21,
      "outputs": [
        {
          "output_type": "stream",
          "text": [
            "Epoch 1/50\n",
            " - 1s - loss: 0.7173 - acc: 0.4740\n",
            "Epoch 2/50\n",
            " - 1s - loss: 0.6992 - acc: 0.5208\n",
            "Epoch 3/50\n",
            " - 1s - loss: 0.6939 - acc: 0.4896\n",
            "Epoch 4/50\n",
            " - 1s - loss: 0.6954 - acc: 0.4896\n",
            "Epoch 5/50\n",
            " - 1s - loss: 0.7159 - acc: 0.5677\n",
            "Epoch 6/50\n",
            " - 1s - loss: 0.7185 - acc: 0.5156\n",
            "Epoch 7/50\n",
            " - 8s - loss: 0.7071 - acc: 0.4948\n",
            "Epoch 8/50\n",
            " - 9s - loss: 0.6952 - acc: 0.5104\n",
            "Epoch 9/50\n",
            " - 1s - loss: 0.7090 - acc: 0.4948\n",
            "Epoch 10/50\n",
            " - 1s - loss: 0.7067 - acc: 0.4740\n",
            "Epoch 11/50\n",
            " - 1s - loss: 0.6985 - acc: 0.4688\n",
            "Epoch 12/50\n",
            " - 1s - loss: 0.7077 - acc: 0.4740\n",
            "Epoch 13/50\n",
            " - 8s - loss: 0.6971 - acc: 0.5156\n",
            "Epoch 14/50\n",
            " - 9s - loss: 0.7062 - acc: 0.4688\n",
            "Epoch 15/50\n",
            " - 1s - loss: 0.7003 - acc: 0.5260\n",
            "Epoch 16/50\n",
            " - 1s - loss: 0.6913 - acc: 0.5469\n",
            "Epoch 17/50\n",
            " - 1s - loss: 0.6959 - acc: 0.5052\n",
            "Epoch 18/50\n",
            " - 9s - loss: 0.7211 - acc: 0.4948\n",
            "Epoch 19/50\n",
            " - 8s - loss: 0.7078 - acc: 0.4740\n",
            "Epoch 20/50\n",
            " - 1s - loss: 0.7006 - acc: 0.5000\n",
            "Epoch 21/50\n",
            " - 10s - loss: 0.7003 - acc: 0.4531\n",
            "Epoch 22/50\n",
            " - 1s - loss: 0.6908 - acc: 0.5000\n",
            "Epoch 23/50\n",
            " - 33s - loss: 0.7055 - acc: 0.4844\n",
            "Epoch 24/50\n",
            " - 1s - loss: 0.6950 - acc: 0.5781\n",
            "Epoch 25/50\n",
            " - 1s - loss: 0.7149 - acc: 0.4844\n",
            "Epoch 26/50\n",
            " - 10s - loss: 0.7119 - acc: 0.4948\n",
            "Epoch 27/50\n",
            " - 1s - loss: 0.7026 - acc: 0.4844\n",
            "Epoch 28/50\n",
            " - 1s - loss: 0.7019 - acc: 0.5208\n",
            "Epoch 29/50\n",
            " - 1s - loss: 0.6970 - acc: 0.5156\n",
            "Epoch 30/50\n",
            " - 1s - loss: 0.7231 - acc: 0.4583\n",
            "Epoch 31/50\n",
            " - 1s - loss: 0.7134 - acc: 0.4948\n",
            "Epoch 32/50\n",
            " - 1s - loss: 0.6917 - acc: 0.5521\n",
            "Epoch 33/50\n",
            " - 1s - loss: 0.7259 - acc: 0.4583\n",
            "Epoch 34/50\n",
            " - 1s - loss: 0.7441 - acc: 0.4010\n",
            "Epoch 35/50\n",
            " - 1s - loss: 0.7094 - acc: 0.4583\n",
            "Epoch 36/50\n",
            " - 1s - loss: 0.7365 - acc: 0.4271\n",
            "Epoch 37/50\n",
            " - 1s - loss: 0.7015 - acc: 0.5104\n",
            "Epoch 38/50\n",
            " - 1s - loss: 0.6889 - acc: 0.5312\n",
            "Epoch 39/50\n",
            " - 1s - loss: 0.7124 - acc: 0.4427\n",
            "Epoch 40/50\n",
            " - 1s - loss: 0.7044 - acc: 0.5208\n",
            "Epoch 41/50\n",
            " - 1s - loss: 0.7015 - acc: 0.5469\n",
            "Epoch 42/50\n",
            " - 1s - loss: 0.6987 - acc: 0.5052\n",
            "Epoch 43/50\n",
            " - 1s - loss: 0.6946 - acc: 0.5365\n",
            "Epoch 44/50\n",
            " - 1s - loss: 0.6804 - acc: 0.5625\n",
            "Epoch 45/50\n",
            " - 1s - loss: 0.6956 - acc: 0.5781\n",
            "Epoch 46/50\n",
            " - 1s - loss: 0.6957 - acc: 0.5156\n",
            "Epoch 47/50\n",
            " - 1s - loss: 0.6962 - acc: 0.5000\n",
            "Epoch 48/50\n",
            " - 1s - loss: 0.7080 - acc: 0.4688\n",
            "Epoch 49/50\n",
            " - 1s - loss: 0.7034 - acc: 0.4844\n",
            "Epoch 50/50\n",
            " - 1s - loss: 0.7228 - acc: 0.4375\n"
          ],
          "name": "stdout"
        },
        {
          "output_type": "execute_result",
          "data": {
            "text/plain": [
              "<keras.callbacks.History at 0x7fa114ddde80>"
            ]
          },
          "metadata": {
            "tags": []
          },
          "execution_count": 21
        }
      ]
    },
    {
      "metadata": {
        "id": "66uGM7aFojuN",
        "colab_type": "code",
        "colab": {}
      },
      "cell_type": "code",
      "source": [
        "model.save_weights('50_epochs_exemplo1.h5')"
      ],
      "execution_count": 0,
      "outputs": []
    },
    {
      "metadata": {
        "id": "71jZE6lXsmgW",
        "colab_type": "text"
      },
      "cell_type": "markdown",
      "source": [
        "\n",
        "\n",
        "---\n",
        "\n"
      ]
    },
    {
      "metadata": {
        "id": "T7nOK0TDr6Hc",
        "colab_type": "text"
      },
      "cell_type": "markdown",
      "source": [
        "### 2 tentativa"
      ]
    },
    {
      "metadata": {
        "colab_type": "code",
        "id": "2PSEo_Mzr8zK",
        "colab": {}
      },
      "cell_type": "code",
      "source": [
        "model = Sequential([\n",
        "    Conv2D(64, (3, 3), activation='relu', input_shape=(120, 120, 3)),\n",
        "    Conv2D(64, (3, 3), activation='relu'),\n",
        "    Dropout(0.2),\n",
        "    MaxPooling2D(pool_size=(2, 2)),\n",
        "   \n",
        "    Conv2D(32, (3, 3), activation='relu'),\n",
        "    Conv2D(32, (3, 3), activation='relu'),\n",
        "    Dropout(0.2),\n",
        "    MaxPooling2D(pool_size=(2, 2)),\n",
        "   \n",
        "    Conv2D(16, (3, 3), activation='relu'),\n",
        "    Conv2D(16, (3, 3), activation='relu'),\n",
        "    Dropout(0.2),\n",
        "    MaxPooling2D(pool_size=(2, 2)),\n",
        "   \n",
        "    Conv2D(8, (3, 3), activation='relu'),\n",
        "    Conv2D(8, (3, 3), activation='relu'),\n",
        "    Dropout(0.2),\n",
        "    MaxPooling2D(pool_size=(2, 2)),\n",
        "    \n",
        "    Flatten(),\n",
        "    Dense(512, activation='relu'),\n",
        "   \n",
        "    Dense(2, activation='softmax')\n",
        "]\n",
        ")"
      ],
      "execution_count": 0,
      "outputs": []
    },
    {
      "metadata": {
        "colab_type": "code",
        "id": "wTvCLywPr8zj",
        "colab": {}
      },
      "cell_type": "code",
      "source": [
        "model.compile(SGD(lr=0.01, momentum=0.0, decay=0.0, nesterov=False), \n",
        "              loss='categorical_crossentropy', metrics=['accuracy'])"
      ],
      "execution_count": 0,
      "outputs": []
    },
    {
      "metadata": {
        "colab_type": "code",
        "id": "tgrzA6A9r8zr",
        "colab": {}
      },
      "cell_type": "code",
      "source": [
        "stepsPerEpoche = len(train_batches)/bSize"
      ],
      "execution_count": 0,
      "outputs": []
    },
    {
      "metadata": {
        "colab_type": "code",
        "outputId": "5f3684de-4910-4786-e9aa-320f86ae18ac",
        "id": "T-qRa41or8zw",
        "colab": {
          "base_uri": "https://localhost:8080/",
          "height": 1854
        }
      },
      "cell_type": "code",
      "source": [
        "training = model.fit_generator(train_batches, steps_per_epoch=stepsPerEpoche, epochs=50, verbose=2)"
      ],
      "execution_count": 56,
      "outputs": [
        {
          "output_type": "stream",
          "text": [
            "Epoch 1/50\n",
            " - 2s - loss: 0.6932 - acc: 0.5000\n",
            "Epoch 2/50\n",
            " - 1s - loss: 0.6932 - acc: 0.4688\n",
            "Epoch 3/50\n",
            " - 1s - loss: 0.6925 - acc: 0.5938\n",
            "Epoch 4/50\n",
            " - 1s - loss: 0.6914 - acc: 0.5938\n",
            "Epoch 5/50\n",
            " - 1s - loss: 0.6909 - acc: 0.7240\n",
            "Epoch 6/50\n",
            " - 1s - loss: 0.6897 - acc: 0.6979\n",
            "Epoch 7/50\n",
            " - 1s - loss: 0.6882 - acc: 0.7448\n",
            "Epoch 8/50\n",
            " - 1s - loss: 0.6882 - acc: 0.7031\n",
            "Epoch 9/50\n",
            " - 1s - loss: 0.6883 - acc: 0.6615\n",
            "Epoch 10/50\n",
            " - 1s - loss: 0.6850 - acc: 0.7344\n",
            "Epoch 11/50\n",
            " - 1s - loss: 0.6869 - acc: 0.6406\n",
            "Epoch 12/50\n",
            " - 1s - loss: 0.6845 - acc: 0.6927\n",
            "Epoch 13/50\n",
            " - 1s - loss: 0.6836 - acc: 0.7083\n",
            "Epoch 14/50\n",
            " - 1s - loss: 0.6796 - acc: 0.7500\n",
            "Epoch 15/50\n",
            " - 1s - loss: 0.6739 - acc: 0.8125\n",
            "Epoch 16/50\n",
            " - 1s - loss: 0.6805 - acc: 0.6823\n",
            "Epoch 17/50\n",
            " - 1s - loss: 0.6710 - acc: 0.8125\n",
            "Epoch 18/50\n",
            " - 1s - loss: 0.6624 - acc: 0.8750\n",
            "Epoch 19/50\n",
            " - 1s - loss: 0.6674 - acc: 0.7812\n",
            "Epoch 20/50\n",
            " - 1s - loss: 0.6663 - acc: 0.7552\n",
            "Epoch 21/50\n",
            " - 1s - loss: 0.6592 - acc: 0.7812\n",
            "Epoch 22/50\n",
            " - 1s - loss: 0.6598 - acc: 0.7344\n",
            "Epoch 23/50\n",
            " - 1s - loss: 0.6631 - acc: 0.6823\n",
            "Epoch 24/50\n",
            " - 1s - loss: 0.6482 - acc: 0.7552\n",
            "Epoch 25/50\n",
            " - 1s - loss: 0.6583 - acc: 0.6823\n",
            "Epoch 26/50\n",
            " - 1s - loss: 0.6478 - acc: 0.7135\n",
            "Epoch 27/50\n",
            " - 1s - loss: 0.6447 - acc: 0.7135\n",
            "Epoch 28/50\n",
            " - 1s - loss: 0.6481 - acc: 0.6719\n",
            "Epoch 29/50\n",
            " - 1s - loss: 0.6666 - acc: 0.5990\n",
            "Epoch 30/50\n",
            " - 1s - loss: 0.6191 - acc: 0.7708\n",
            "Epoch 31/50\n",
            " - 1s - loss: 0.6633 - acc: 0.6458\n",
            "Epoch 32/50\n",
            " - 1s - loss: 0.5926 - acc: 0.7812\n",
            "Epoch 33/50\n",
            " - 1s - loss: 0.6355 - acc: 0.6823\n",
            "Epoch 34/50\n",
            " - 1s - loss: 0.6485 - acc: 0.6562\n",
            "Epoch 35/50\n",
            " - 1s - loss: 0.6090 - acc: 0.7604\n",
            "Epoch 36/50\n",
            " - 1s - loss: 0.5228 - acc: 0.8333\n",
            "Epoch 37/50\n",
            " - 1s - loss: 0.5520 - acc: 0.8177\n",
            "Epoch 38/50\n",
            " - 1s - loss: 0.6270 - acc: 0.6927\n",
            "Epoch 39/50\n",
            " - 1s - loss: 0.7140 - acc: 0.4792\n",
            "Epoch 40/50\n",
            " - 1s - loss: 0.5973 - acc: 0.7188\n",
            "Epoch 41/50\n",
            " - 1s - loss: 0.5589 - acc: 0.7604\n",
            "Epoch 42/50\n",
            " - 1s - loss: 0.5325 - acc: 0.7760\n",
            "Epoch 43/50\n",
            " - 1s - loss: 0.6087 - acc: 0.7552\n",
            "Epoch 44/50\n",
            " - 1s - loss: 0.4902 - acc: 0.8385\n",
            "Epoch 45/50\n",
            " - 1s - loss: 0.5950 - acc: 0.6875\n",
            "Epoch 46/50\n",
            " - 1s - loss: 0.5156 - acc: 0.7812\n",
            "Epoch 47/50\n",
            " - 1s - loss: 0.4329 - acc: 0.8281\n",
            "Epoch 48/50\n",
            " - 1s - loss: 0.4273 - acc: 0.8438\n",
            "Epoch 49/50\n",
            " - 1s - loss: 0.6568 - acc: 0.6875\n",
            "Epoch 50/50\n",
            " - 1s - loss: 0.6954 - acc: 0.5208\n"
          ],
          "name": "stdout"
        }
      ]
    },
    {
      "metadata": {
        "colab_type": "code",
        "id": "8GqACIgyr8z4",
        "colab": {}
      },
      "cell_type": "code",
      "source": [
        "model.save_weights('50_epochs_exemplo1_tentativa2.h5')"
      ],
      "execution_count": 0,
      "outputs": []
    },
    {
      "metadata": {
        "id": "r7RpE8wBe4JQ",
        "colab_type": "text"
      },
      "cell_type": "markdown",
      "source": [
        "### 3 tentativa"
      ]
    },
    {
      "metadata": {
        "id": "vdP4Yo8OgB4B",
        "colab_type": "text"
      },
      "cell_type": "markdown",
      "source": [
        "Modelo criado pelo **Lucas Valentim**\n",
        "\n",
        "https://github.com/lucasvalentim/chromosome-recognizer/blob/master/chromosome_recognizer.ipynb"
      ]
    },
    {
      "metadata": {
        "id": "3nTNgnrCe33x",
        "colab_type": "code",
        "colab": {}
      },
      "cell_type": "code",
      "source": [
        "from keras.layers import Conv2D, MaxPooling2D, GlobalMaxPooling2D, BatchNormalization\n",
        "from keras.regularizers import l2\n",
        "\n",
        "model = Sequential()\n",
        "\n",
        "model.add(Conv2D(32, (3, 3), activation='relu', kernel_regularizer=l2(1e-4), \n",
        "                 input_shape=(None, None, 3)))\n",
        "model.add(BatchNormalization())\n",
        "model.add(Conv2D(32, (3, 3), activation='relu', kernel_regularizer=l2(1e-4)))\n",
        "model.add(BatchNormalization())\n",
        "model.add(MaxPooling2D((2, 2)))\n",
        "model.add(Dropout(0.25))\n",
        "\n",
        "model.add(Conv2D(64, (3, 3), activation='relu', kernel_regularizer=l2(1e-4)))\n",
        "model.add(BatchNormalization())\n",
        "model.add(Conv2D(64, (3, 3), activation='relu', kernel_regularizer=l2(1e-4)))\n",
        "model.add(BatchNormalization())\n",
        "model.add(MaxPooling2D((2, 2)))\n",
        "model.add(Dropout(0.25))\n",
        "\n",
        "model.add(Conv2D(128, (1,1), kernel_regularizer=l2(1e-4)))\n",
        "model.add(GlobalMaxPooling2D())\n",
        "\n",
        "model.add(Dense(256, activation='relu', kernel_regularizer=l2(1e-4)))\n",
        "model.add(Dropout(0.5))\n",
        "model.add(Dense(2, activation='sigmoid', kernel_regularizer=l2(1e-4)))"
      ],
      "execution_count": 0,
      "outputs": []
    },
    {
      "metadata": {
        "id": "g1okz4QbiBnE",
        "colab_type": "code",
        "colab": {}
      },
      "cell_type": "code",
      "source": [
        "model.compile(optimizer='adam', loss='binary_crossentropy', metrics=['accuracy'])"
      ],
      "execution_count": 0,
      "outputs": []
    },
    {
      "metadata": {
        "id": "37Ia57jrhQlU",
        "colab_type": "code",
        "colab": {}
      },
      "cell_type": "code",
      "source": [
        "stepsPerEpoche = len(train_batches)/bSize"
      ],
      "execution_count": 0,
      "outputs": []
    },
    {
      "metadata": {
        "id": "mYe5HOwAgrzn",
        "colab_type": "code",
        "colab": {
          "base_uri": "https://localhost:8080/",
          "height": 1119
        },
        "outputId": "2844adff-aec3-499c-ab2a-744443db63fb"
      },
      "cell_type": "code",
      "source": [
        "training = model.fit_generator(train_batches, steps_per_epoch=stepsPerEpoche, epochs=30, verbose=2)"
      ],
      "execution_count": 22,
      "outputs": [
        {
          "output_type": "stream",
          "text": [
            "Epoch 1/30\n",
            " - 2s - loss: 1.1848 - acc: 0.6042\n",
            "Epoch 2/30\n",
            " - 0s - loss: 0.7054 - acc: 0.7474\n",
            "Epoch 3/30\n",
            " - 0s - loss: 0.4734 - acc: 0.8203\n",
            "Epoch 4/30\n",
            " - 1s - loss: 0.2849 - acc: 0.9089\n",
            "Epoch 5/30\n",
            " - 1s - loss: 0.3073 - acc: 0.8932\n",
            "Epoch 6/30\n",
            " - 1s - loss: 0.3756 - acc: 0.8516\n",
            "Epoch 7/30\n",
            " - 1s - loss: 0.2656 - acc: 0.9193\n",
            "Epoch 8/30\n",
            " - 1s - loss: 0.3373 - acc: 0.8750\n",
            "Epoch 9/30\n",
            " - 1s - loss: 0.2958 - acc: 0.8880\n",
            "Epoch 10/30\n",
            " - 1s - loss: 0.2095 - acc: 0.9193\n",
            "Epoch 11/30\n",
            " - 1s - loss: 0.2575 - acc: 0.9193\n",
            "Epoch 12/30\n",
            " - 1s - loss: 0.3576 - acc: 0.8464\n",
            "Epoch 13/30\n",
            " - 1s - loss: 0.2631 - acc: 0.9167\n",
            "Epoch 14/30\n",
            " - 1s - loss: 0.2697 - acc: 0.9245\n",
            "Epoch 15/30\n",
            " - 1s - loss: 0.3589 - acc: 0.8854\n",
            "Epoch 16/30\n",
            " - 1s - loss: 0.2730 - acc: 0.8958\n",
            "Epoch 17/30\n",
            " - 1s - loss: 0.2342 - acc: 0.9427\n",
            "Epoch 18/30\n",
            " - 1s - loss: 0.2381 - acc: 0.9193\n",
            "Epoch 19/30\n",
            " - 1s - loss: 0.2966 - acc: 0.8828\n",
            "Epoch 20/30\n",
            " - 1s - loss: 0.2638 - acc: 0.9010\n",
            "Epoch 21/30\n",
            " - 1s - loss: 0.3888 - acc: 0.8568\n",
            "Epoch 22/30\n",
            " - 1s - loss: 0.4475 - acc: 0.8542\n",
            "Epoch 23/30\n",
            " - 1s - loss: 0.2279 - acc: 0.9271\n",
            "Epoch 24/30\n",
            " - 1s - loss: 0.2130 - acc: 0.9453\n",
            "Epoch 25/30\n",
            " - 1s - loss: 0.2733 - acc: 0.9167\n",
            "Epoch 26/30\n",
            " - 1s - loss: 0.2685 - acc: 0.8984\n",
            "Epoch 27/30\n",
            " - 1s - loss: 0.2605 - acc: 0.8932\n",
            "Epoch 28/30\n",
            " - 1s - loss: 0.2276 - acc: 0.9375\n",
            "Epoch 29/30\n",
            " - 1s - loss: 0.3150 - acc: 0.9062\n",
            "Epoch 30/30\n",
            " - 1s - loss: 0.2030 - acc: 0.9583\n"
          ],
          "name": "stdout"
        }
      ]
    },
    {
      "metadata": {
        "id": "jkrlEFjlw030",
        "colab_type": "text"
      },
      "cell_type": "markdown",
      "source": [
        "### 4 tentativa"
      ]
    },
    {
      "metadata": {
        "id": "UJ7JELAiw2kb",
        "colab_type": "text"
      },
      "cell_type": "markdown",
      "source": [
        "Modelo adaptado do **Lucas Albertins**"
      ]
    },
    {
      "metadata": {
        "colab_type": "code",
        "id": "4N0B_5a2xB3T",
        "colab": {}
      },
      "cell_type": "code",
      "source": [
        "from keras.layers import Conv2D, MaxPooling2D, GlobalMaxPooling2D, BatchNormalization\n",
        "from keras.regularizers import l2\n",
        "\n",
        "model = Sequential()\n",
        "\n",
        "model.add(Conv2D(32, (3, 3), activation='relu', kernel_regularizer=l2(1e-4), \n",
        "                 input_shape=(None, None, 3)))\n",
        "model.add(BatchNormalization())\n",
        "model.add(Conv2D(32, (3, 3), activation='relu', kernel_regularizer=l2(1e-4)))\n",
        "model.add(BatchNormalization())\n",
        "model.add(MaxPooling2D((2, 2)))\n",
        "\n",
        "model.add(Conv2D(64, (3, 3), activation='relu', kernel_regularizer=l2(1e-4)))\n",
        "model.add(BatchNormalization())\n",
        "model.add(Conv2D(64, (3, 3), activation='relu', kernel_regularizer=l2(1e-4)))\n",
        "model.add(BatchNormalization())\n",
        "model.add(MaxPooling2D((2, 2)))\n",
        "\n",
        "model.add(Conv2D(128, (1,1), kernel_regularizer=l2(1e-4)))\n",
        "model.add(GlobalMaxPooling2D())\n",
        "\n",
        "model.add(Dense(256, activation='relu', kernel_regularizer=l2(1e-4)))\n",
        "model.add(BatchNormalization())\n",
        "model.add(Dense(2, activation='sigmoid', kernel_regularizer=l2(1e-4)))"
      ],
      "execution_count": 0,
      "outputs": []
    },
    {
      "metadata": {
        "colab_type": "code",
        "id": "V9VHjygmxB3k",
        "colab": {}
      },
      "cell_type": "code",
      "source": [
        "model.compile(optimizer='adam', loss='binary_crossentropy', metrics=['accuracy'])"
      ],
      "execution_count": 0,
      "outputs": []
    },
    {
      "metadata": {
        "colab_type": "code",
        "id": "lPrj_y7BxB3t",
        "colab": {}
      },
      "cell_type": "code",
      "source": [
        "stepsPerEpoche = len(train_batches)/bSize"
      ],
      "execution_count": 0,
      "outputs": []
    },
    {
      "metadata": {
        "colab_type": "code",
        "outputId": "dd8a8f1b-ebfd-4a28-bcce-63c003288bd3",
        "id": "yACMHOBExB35",
        "colab": {
          "base_uri": "https://localhost:8080/",
          "height": 1119
        }
      },
      "cell_type": "code",
      "source": [
        "training = model.fit_generator(train_batches, steps_per_epoch=stepsPerEpoche, epochs=30, verbose=2)"
      ],
      "execution_count": 10,
      "outputs": [
        {
          "output_type": "stream",
          "text": [
            "Epoch 1/30\n",
            " - 75s - loss: 0.5929 - acc: 0.7031\n",
            "Epoch 2/30\n",
            " - 76s - loss: 0.4821 - acc: 0.8438\n",
            "Epoch 3/30\n",
            " - 74s - loss: 0.2968 - acc: 0.8880\n",
            "Epoch 4/30\n",
            " - 73s - loss: 0.3173 - acc: 0.8620\n",
            "Epoch 5/30\n",
            " - 73s - loss: 0.2545 - acc: 0.9036\n",
            "Epoch 6/30\n",
            " - 71s - loss: 0.2841 - acc: 0.9062\n",
            "Epoch 7/30\n",
            " - 72s - loss: 0.1496 - acc: 0.9479\n",
            "Epoch 8/30\n",
            " - 69s - loss: 0.2816 - acc: 0.9089\n",
            "Epoch 9/30\n",
            " - 73s - loss: 0.2914 - acc: 0.8958\n",
            "Epoch 10/30\n",
            " - 71s - loss: 0.3742 - acc: 0.8516\n",
            "Epoch 11/30\n",
            " - 71s - loss: 0.3404 - acc: 0.8854\n",
            "Epoch 12/30\n",
            " - 72s - loss: 0.2673 - acc: 0.8958\n",
            "Epoch 13/30\n",
            " - 71s - loss: 0.2032 - acc: 0.9557\n",
            "Epoch 14/30\n",
            " - 72s - loss: 0.2265 - acc: 0.9375\n",
            "Epoch 15/30\n",
            " - 71s - loss: 0.2155 - acc: 0.9505\n",
            "Epoch 16/30\n",
            " - 72s - loss: 0.2321 - acc: 0.9375\n",
            "Epoch 17/30\n",
            " - 72s - loss: 0.1800 - acc: 0.9427\n",
            "Epoch 18/30\n",
            " - 70s - loss: 0.2309 - acc: 0.9167\n",
            "Epoch 19/30\n",
            " - 72s - loss: 0.2364 - acc: 0.9349\n",
            "Epoch 20/30\n",
            " - 70s - loss: 0.3061 - acc: 0.8880\n",
            "Epoch 21/30\n",
            " - 72s - loss: 0.2030 - acc: 0.9401\n",
            "Epoch 22/30\n",
            " - 73s - loss: 0.2293 - acc: 0.9271\n",
            "Epoch 23/30\n",
            " - 70s - loss: 0.2241 - acc: 0.9219\n",
            "Epoch 24/30\n",
            " - 71s - loss: 0.2627 - acc: 0.9036\n",
            "Epoch 25/30\n",
            " - 70s - loss: 0.2169 - acc: 0.9427\n",
            "Epoch 26/30\n",
            " - 71s - loss: 0.2024 - acc: 0.9505\n",
            "Epoch 27/30\n",
            " - 71s - loss: 0.1944 - acc: 0.9297\n",
            "Epoch 28/30\n",
            " - 58s - loss: 0.2038 - acc: 0.9479\n",
            "Epoch 29/30\n",
            " - 0s - loss: 0.2379 - acc: 0.9375\n",
            "Epoch 30/30\n",
            " - 0s - loss: 0.2533 - acc: 0.9141\n"
          ],
          "name": "stdout"
        }
      ]
    },
    {
      "metadata": {
        "id": "zZYM6IWGzIac",
        "colab_type": "code",
        "colab": {}
      },
      "cell_type": "code",
      "source": [
        "model.save_weights('30_epochs_exemplo1_tentativa3.h5')"
      ],
      "execution_count": 0,
      "outputs": []
    },
    {
      "metadata": {
        "id": "lX3WANMgB1Ew",
        "colab_type": "text"
      },
      "cell_type": "markdown",
      "source": [
        "### 5 tentativa"
      ]
    },
    {
      "metadata": {
        "colab_type": "code",
        "id": "z9mlUa4mB-ER",
        "colab": {}
      },
      "cell_type": "code",
      "source": [
        "from keras.layers import Conv2D, MaxPooling2D, GlobalMaxPooling2D, BatchNormalization\n",
        "from keras.regularizers import l2\n",
        "\n",
        "model = Sequential()\n",
        "\n",
        "model.add(Conv2D(32, (3, 3), activation='relu', kernel_regularizer=l2(1e-4), \n",
        "                 input_shape=(None, None, 3)))\n",
        "model.add(BatchNormalization())\n",
        "model.add(Conv2D(32, (3, 3), activation='relu', kernel_regularizer=l2(1e-4)))\n",
        "model.add(BatchNormalization())\n",
        "model.add(MaxPooling2D((2, 2)))\n",
        "model.add(Dropout(0.25))\n",
        "\n",
        "model.add(Conv2D(64, (3, 3), activation='relu', kernel_regularizer=l2(1e-4)))\n",
        "model.add(BatchNormalization())\n",
        "model.add(Conv2D(64, (3, 3), activation='relu', kernel_regularizer=l2(1e-4)))\n",
        "model.add(BatchNormalization())\n",
        "model.add(MaxPooling2D((2, 2)))\n",
        "model.add(Dropout(0.25))\n",
        "\n",
        "model.add(Conv2D(128, (1,1), kernel_regularizer=l2(1e-4)))\n",
        "model.add(GlobalMaxPooling2D())\n",
        "\n",
        "model.add(Dense(256, activation='relu', kernel_regularizer=l2(1e-4)))\n",
        "model.add(Dropout(0.5))\n",
        "model.add(Dense(2, activation='sigmoid', kernel_regularizer=l2(1e-4)))"
      ],
      "execution_count": 0,
      "outputs": []
    },
    {
      "metadata": {
        "id": "ukvJwM-lCHtB",
        "colab_type": "code",
        "colab": {}
      },
      "cell_type": "code",
      "source": [
        "model.compile(SGD(lr=0.01, momentum=0.0, decay=0.0, nesterov=False), \n",
        "              loss='binary_crossentropy', metrics=['accuracy'])"
      ],
      "execution_count": 0,
      "outputs": []
    },
    {
      "metadata": {
        "colab_type": "code",
        "id": "Fk5hNRjIB-Eo",
        "colab": {}
      },
      "cell_type": "code",
      "source": [
        "stepsPerEpoche = len(train_batches)/bSize"
      ],
      "execution_count": 0,
      "outputs": []
    },
    {
      "metadata": {
        "colab_type": "code",
        "outputId": "9d5dc7a4-e8e2-49f9-c8d0-ae865a1b1bb2",
        "id": "KjJ7AWZEB-Ev",
        "colab": {
          "base_uri": "https://localhost:8080/",
          "height": 1119
        }
      },
      "cell_type": "code",
      "source": [
        "training = model.fit_generator(train_batches, steps_per_epoch=stepsPerEpoche, epochs=30, verbose=2)"
      ],
      "execution_count": 62,
      "outputs": [
        {
          "output_type": "stream",
          "text": [
            "Epoch 1/30\n",
            " - 3s - loss: 1.1862 - acc: 0.5755\n",
            "Epoch 2/30\n",
            " - 1s - loss: 0.9307 - acc: 0.6562\n",
            "Epoch 3/30\n",
            " - 1s - loss: 0.6890 - acc: 0.7422\n",
            "Epoch 4/30\n",
            " - 1s - loss: 0.6586 - acc: 0.7760\n",
            "Epoch 5/30\n",
            " - 1s - loss: 0.5062 - acc: 0.7995\n",
            "Epoch 6/30\n",
            " - 1s - loss: 0.4317 - acc: 0.8255\n",
            "Epoch 7/30\n",
            " - 1s - loss: 0.5070 - acc: 0.8203\n",
            "Epoch 8/30\n",
            " - 1s - loss: 0.4476 - acc: 0.8411\n",
            "Epoch 9/30\n",
            " - 1s - loss: 0.4132 - acc: 0.8594\n",
            "Epoch 10/30\n",
            " - 1s - loss: 0.4208 - acc: 0.8646\n",
            "Epoch 11/30\n",
            " - 1s - loss: 0.4211 - acc: 0.8438\n",
            "Epoch 12/30\n",
            " - 1s - loss: 0.3867 - acc: 0.8646\n",
            "Epoch 13/30\n",
            " - 1s - loss: 0.3282 - acc: 0.8750\n",
            "Epoch 14/30\n",
            " - 1s - loss: 0.3877 - acc: 0.8620\n",
            "Epoch 15/30\n",
            " - 1s - loss: 0.3113 - acc: 0.9193\n",
            "Epoch 16/30\n",
            " - 1s - loss: 0.4160 - acc: 0.8672\n",
            "Epoch 17/30\n",
            " - 1s - loss: 0.3628 - acc: 0.8854\n",
            "Epoch 18/30\n",
            " - 1s - loss: 0.3778 - acc: 0.8698\n",
            "Epoch 19/30\n",
            " - 1s - loss: 0.3078 - acc: 0.9036\n",
            "Epoch 20/30\n",
            " - 1s - loss: 0.2651 - acc: 0.9167\n",
            "Epoch 21/30\n",
            " - 1s - loss: 0.1983 - acc: 0.9505\n",
            "Epoch 22/30\n",
            " - 1s - loss: 0.2432 - acc: 0.9193\n",
            "Epoch 23/30\n",
            " - 1s - loss: 0.1713 - acc: 0.9557\n",
            "Epoch 24/30\n",
            " - 1s - loss: 0.2593 - acc: 0.9089\n",
            "Epoch 25/30\n",
            " - 1s - loss: 0.4082 - acc: 0.8802\n",
            "Epoch 26/30\n",
            " - 1s - loss: 0.2578 - acc: 0.8880\n",
            "Epoch 27/30\n",
            " - 1s - loss: 0.3444 - acc: 0.8750\n",
            "Epoch 28/30\n",
            " - 1s - loss: 0.3439 - acc: 0.8698\n",
            "Epoch 29/30\n",
            " - 1s - loss: 0.2151 - acc: 0.9271\n",
            "Epoch 30/30\n",
            " - 1s - loss: 0.2530 - acc: 0.8984\n"
          ],
          "name": "stdout"
        }
      ]
    },
    {
      "metadata": {
        "id": "hA14O9tFCTMO",
        "colab_type": "code",
        "colab": {}
      },
      "cell_type": "code",
      "source": [
        "model.save_weights('30_epochs_exemplo1_tentativa5_binary_crossentropy.h5')"
      ],
      "execution_count": 0,
      "outputs": []
    },
    {
      "metadata": {
        "id": "apfIeirYD2N7",
        "colab_type": "text"
      },
      "cell_type": "markdown",
      "source": [
        "### 6 tentativa"
      ]
    },
    {
      "metadata": {
        "colab_type": "code",
        "id": "C2UuO-jqD44u",
        "colab": {}
      },
      "cell_type": "code",
      "source": [
        "from keras.layers import Conv2D, MaxPooling2D, GlobalMaxPooling2D, BatchNormalization\n",
        "from keras.regularizers import l2\n",
        "\n",
        "model = Sequential()\n",
        "\n",
        "model.add(Conv2D(32, (3, 3), activation='relu', kernel_regularizer=l2(1e-4), \n",
        "                 input_shape=(None, None, 3)))\n",
        "model.add(BatchNormalization())\n",
        "model.add(Conv2D(32, (3, 3), activation='relu', kernel_regularizer=l2(1e-4)))\n",
        "model.add(BatchNormalization())\n",
        "model.add(MaxPooling2D((2, 2)))\n",
        "\n",
        "model.add(Conv2D(64, (3, 3), activation='relu', kernel_regularizer=l2(1e-4)))\n",
        "model.add(BatchNormalization())\n",
        "model.add(Conv2D(64, (3, 3), activation='relu', kernel_regularizer=l2(1e-4)))\n",
        "model.add(BatchNormalization())\n",
        "model.add(MaxPooling2D((2, 2)))\n",
        "\n",
        "model.add(Conv2D(128, (1,1), kernel_regularizer=l2(1e-4)))\n",
        "model.add(GlobalMaxPooling2D())\n",
        "\n",
        "model.add(Dense(256, activation='relu', kernel_regularizer=l2(1e-4)))\n",
        "model.add(BatchNormalization())\n",
        "model.add(Dense(2, activation='sigmoid', kernel_regularizer=l2(1e-4)))"
      ],
      "execution_count": 0,
      "outputs": []
    },
    {
      "metadata": {
        "colab_type": "code",
        "id": "I7mu97znD45M",
        "colab": {}
      },
      "cell_type": "code",
      "source": [
        "model.compile(SGD(lr=0.03, momentum=0.0, decay=0.0, nesterov=False), \n",
        "              loss='binary_crossentropy', metrics=['accuracy'])"
      ],
      "execution_count": 0,
      "outputs": []
    },
    {
      "metadata": {
        "colab_type": "code",
        "id": "nQ-3Zq_zD45d",
        "colab": {}
      },
      "cell_type": "code",
      "source": [
        "stepsPerEpoche = len(train_batches)/bSize"
      ],
      "execution_count": 0,
      "outputs": []
    },
    {
      "metadata": {
        "colab_type": "code",
        "outputId": "f378ce20-f178-4b1a-ba00-336df675a4c5",
        "id": "ZvXQ_VWOD45n",
        "colab": {
          "base_uri": "https://localhost:8080/",
          "height": 1119
        }
      },
      "cell_type": "code",
      "source": [
        "training = model.fit_generator(train_batches, steps_per_epoch=stepsPerEpoche, epochs=30, verbose=2)"
      ],
      "execution_count": 10,
      "outputs": [
        {
          "output_type": "stream",
          "text": [
            "Epoch 1/30\n",
            " - 106s - loss: 0.6140 - acc: 0.7370\n",
            "Epoch 2/30\n",
            " - 85s - loss: 0.5185 - acc: 0.8047\n",
            "Epoch 3/30\n",
            " - 79s - loss: 0.4396 - acc: 0.8333\n",
            "Epoch 4/30\n",
            " - 82s - loss: 0.4523 - acc: 0.8229\n",
            "Epoch 5/30\n",
            " - 89s - loss: 0.3949 - acc: 0.8646\n",
            "Epoch 6/30\n",
            " - 92s - loss: 0.3079 - acc: 0.9010\n",
            "Epoch 7/30\n",
            " - 84s - loss: 0.3546 - acc: 0.8672\n",
            "Epoch 8/30\n",
            " - 89s - loss: 0.3477 - acc: 0.8620\n",
            "Epoch 9/30\n",
            " - 86s - loss: 0.2444 - acc: 0.9167\n",
            "Epoch 10/30\n",
            " - 105s - loss: 0.1980 - acc: 0.9505\n",
            "Epoch 11/30\n",
            " - 87s - loss: 0.2399 - acc: 0.9193\n",
            "Epoch 12/30\n",
            " - 73s - loss: 0.2744 - acc: 0.8932\n",
            "Epoch 13/30\n",
            " - 96s - loss: 0.2907 - acc: 0.8984\n",
            "Epoch 14/30\n",
            " - 81s - loss: 0.2040 - acc: 0.9479\n",
            "Epoch 15/30\n",
            " - 80s - loss: 0.1726 - acc: 0.9557\n",
            "Epoch 16/30\n",
            " - 86s - loss: 0.1516 - acc: 0.9583\n",
            "Epoch 17/30\n",
            " - 75s - loss: 0.3262 - acc: 0.8854\n",
            "Epoch 18/30\n",
            " - 78s - loss: 0.2916 - acc: 0.8906\n",
            "Epoch 19/30\n",
            " - 83s - loss: 0.1986 - acc: 0.9323\n",
            "Epoch 20/30\n",
            " - 101s - loss: 0.3127 - acc: 0.8906\n",
            "Epoch 21/30\n",
            " - 99s - loss: 0.2563 - acc: 0.9297\n",
            "Epoch 22/30\n",
            " - 75s - loss: 0.2638 - acc: 0.9219\n",
            "Epoch 23/30\n",
            " - 76s - loss: 0.2755 - acc: 0.9271\n",
            "Epoch 24/30\n",
            " - 75s - loss: 0.2779 - acc: 0.8984\n",
            "Epoch 25/30\n",
            " - 79s - loss: 0.3057 - acc: 0.8906\n",
            "Epoch 26/30\n",
            " - 88s - loss: 0.2088 - acc: 0.9349\n",
            "Epoch 27/30\n",
            " - 73s - loss: 0.2463 - acc: 0.9062\n",
            "Epoch 28/30\n",
            " - 64s - loss: 0.2780 - acc: 0.9062\n",
            "Epoch 29/30\n",
            " - 1s - loss: 0.2481 - acc: 0.9297\n",
            "Epoch 30/30\n",
            " - 0s - loss: 0.2472 - acc: 0.9193\n"
          ],
          "name": "stdout"
        }
      ]
    },
    {
      "metadata": {
        "colab_type": "code",
        "id": "ULSpolRCHo8V",
        "colab": {}
      },
      "cell_type": "code",
      "source": [
        "model.save_weights('30_epochs_exemplo1_tentativa6.h5')"
      ],
      "execution_count": 0,
      "outputs": []
    },
    {
      "metadata": {
        "id": "5gk7vmYPHddj",
        "colab_type": "text"
      },
      "cell_type": "markdown",
      "source": [
        "### 7 tentativa"
      ]
    },
    {
      "metadata": {
        "colab_type": "code",
        "id": "sIBEdGsyHhJN",
        "colab": {}
      },
      "cell_type": "code",
      "source": [
        "from keras.layers import Conv2D, MaxPooling2D, GlobalMaxPooling2D, BatchNormalization\n",
        "from keras.regularizers import l2\n",
        "from keras.optimizers import Adadelta\n",
        "\n",
        "model = Sequential()\n",
        "\n",
        "model.add(Conv2D(32, (3, 3), activation='relu', kernel_regularizer=l2(1e-4), \n",
        "                 input_shape=(None, None, 3)))\n",
        "model.add(BatchNormalization())\n",
        "model.add(Conv2D(32, (3, 3), activation='relu', kernel_regularizer=l2(1e-4)))\n",
        "model.add(BatchNormalization())\n",
        "model.add(MaxPooling2D((2, 2)))\n",
        "\n",
        "model.add(Conv2D(64, (3, 3), activation='relu', kernel_regularizer=l2(1e-4)))\n",
        "model.add(BatchNormalization())\n",
        "model.add(Conv2D(64, (3, 3), activation='relu', kernel_regularizer=l2(1e-4)))\n",
        "model.add(BatchNormalization())\n",
        "model.add(MaxPooling2D((2, 2)))\n",
        "\n",
        "model.add(Conv2D(128, (1,1), kernel_regularizer=l2(1e-4)))\n",
        "model.add(GlobalMaxPooling2D())\n",
        "\n",
        "model.add(Dense(256, activation='relu', kernel_regularizer=l2(1e-4)))\n",
        "model.add(BatchNormalization())\n",
        "model.add(Dense(2, activation='sigmoid', kernel_regularizer=l2(1e-4)))"
      ],
      "execution_count": 0,
      "outputs": []
    },
    {
      "metadata": {
        "colab_type": "code",
        "id": "P6ZvobfGHhJb",
        "colab": {}
      },
      "cell_type": "code",
      "source": [
        "model.compile(Adadelta(lr=1.0, rho=0.95, epsilon=None, decay=0.0), \n",
        "              loss='binary_crossentropy', metrics=['accuracy'])"
      ],
      "execution_count": 0,
      "outputs": []
    },
    {
      "metadata": {
        "colab_type": "code",
        "id": "TChFH3BMHhJm",
        "colab": {}
      },
      "cell_type": "code",
      "source": [
        "stepsPerEpoche = len(train_batches)/bSize"
      ],
      "execution_count": 0,
      "outputs": []
    },
    {
      "metadata": {
        "colab_type": "code",
        "outputId": "5876df94-0116-4a5a-8edb-8d89be17274b",
        "id": "E0iJrNjqHhJv",
        "colab": {
          "base_uri": "https://localhost:8080/",
          "height": 1119
        }
      },
      "cell_type": "code",
      "source": [
        "training = model.fit_generator(train_batches, steps_per_epoch=stepsPerEpoche, epochs=30, verbose=2)"
      ],
      "execution_count": 18,
      "outputs": [
        {
          "output_type": "stream",
          "text": [
            "Epoch 1/30\n",
            " - 3s - loss: 0.5937 - acc: 0.7188\n",
            "Epoch 2/30\n",
            " - 1s - loss: 0.4451 - acc: 0.8151\n",
            "Epoch 3/30\n",
            " - 1s - loss: 0.5363 - acc: 0.7865\n",
            "Epoch 4/30\n",
            " - 1s - loss: 0.3696 - acc: 0.8568\n",
            "Epoch 5/30\n",
            " - 1s - loss: 0.4339 - acc: 0.8151\n",
            "Epoch 6/30\n",
            " - 1s - loss: 0.3401 - acc: 0.8438\n",
            "Epoch 7/30\n",
            " - 1s - loss: 0.2716 - acc: 0.9089\n",
            "Epoch 8/30\n",
            " - 1s - loss: 0.2917 - acc: 0.9010\n",
            "Epoch 9/30\n",
            " - 1s - loss: 0.3841 - acc: 0.8698\n",
            "Epoch 10/30\n",
            " - 1s - loss: 0.2998 - acc: 0.8984\n",
            "Epoch 11/30\n",
            " - 1s - loss: 0.2560 - acc: 0.9062\n",
            "Epoch 12/30\n",
            " - 1s - loss: 0.2665 - acc: 0.9089\n",
            "Epoch 13/30\n",
            " - 1s - loss: 0.2062 - acc: 0.9271\n",
            "Epoch 14/30\n",
            " - 1s - loss: 0.2380 - acc: 0.9271\n",
            "Epoch 15/30\n",
            " - 1s - loss: 0.3244 - acc: 0.8802\n",
            "Epoch 16/30\n",
            " - 1s - loss: 0.2815 - acc: 0.9141\n",
            "Epoch 17/30\n",
            " - 1s - loss: 0.2824 - acc: 0.8984\n",
            "Epoch 18/30\n",
            " - 1s - loss: 0.2782 - acc: 0.9036\n",
            "Epoch 19/30\n",
            " - 1s - loss: 0.1714 - acc: 0.9505\n",
            "Epoch 20/30\n",
            " - 1s - loss: 0.1472 - acc: 0.9609\n",
            "Epoch 21/30\n",
            " - 1s - loss: 0.2214 - acc: 0.9297\n",
            "Epoch 22/30\n",
            " - 1s - loss: 0.1825 - acc: 0.9427\n",
            "Epoch 23/30\n",
            " - 1s - loss: 0.3596 - acc: 0.8620\n",
            "Epoch 24/30\n",
            " - 1s - loss: 0.2875 - acc: 0.9115\n",
            "Epoch 25/30\n",
            " - 1s - loss: 0.2848 - acc: 0.8932\n",
            "Epoch 26/30\n",
            " - 1s - loss: 0.2271 - acc: 0.9323\n",
            "Epoch 27/30\n",
            " - 1s - loss: 0.2968 - acc: 0.9089\n",
            "Epoch 28/30\n",
            " - 1s - loss: 0.2253 - acc: 0.9297\n",
            "Epoch 29/30\n",
            " - 1s - loss: 0.2958 - acc: 0.8854\n",
            "Epoch 30/30\n",
            " - 1s - loss: 0.2425 - acc: 0.9167\n"
          ],
          "name": "stdout"
        }
      ]
    },
    {
      "metadata": {
        "id": "dFAF_BmKkfGz",
        "colab_type": "code",
        "colab": {}
      },
      "cell_type": "code",
      "source": [
        "model.save_weights('30_epochs_exemplo1_tentativa7.h5')"
      ],
      "execution_count": 0,
      "outputs": []
    },
    {
      "metadata": {
        "id": "xBqqHjZrnDFP",
        "colab_type": "text"
      },
      "cell_type": "markdown",
      "source": [
        "### 8 tentativa"
      ]
    },
    {
      "metadata": {
        "colab_type": "code",
        "id": "MvjKH9LWpGsi",
        "colab": {}
      },
      "cell_type": "code",
      "source": [
        "from keras.layers import Conv2D, MaxPooling2D, GlobalMaxPooling2D, BatchNormalization\n",
        "from keras.regularizers import l2\n",
        "from keras.optimizers import Adadelta\n",
        "\n",
        "model = Sequential()\n",
        "\n",
        "model.add(Conv2D(32, (3, 3), activation='relu', kernel_regularizer=l2(1e-4), \n",
        "                 input_shape=(None, None, 3)))\n",
        "model.add(BatchNormalization())\n",
        "model.add(Conv2D(32, (3, 3), activation='relu', kernel_regularizer=l2(1e-4)))\n",
        "model.add(BatchNormalization())\n",
        "model.add(MaxPooling2D((2, 2)))\n",
        "model.add(Dropout(0.25))\n",
        "\n",
        "model.add(Conv2D(64, (3, 3), activation='relu', kernel_regularizer=l2(1e-4)))\n",
        "model.add(BatchNormalization())\n",
        "model.add(Conv2D(64, (3, 3), activation='relu', kernel_regularizer=l2(1e-4)))\n",
        "model.add(BatchNormalization())\n",
        "model.add(MaxPooling2D((2, 2)))\n",
        "model.add(Dropout(0.25))\n",
        "\n",
        "model.add(Conv2D(128, (1,1), kernel_regularizer=l2(1e-4)))\n",
        "model.add(GlobalMaxPooling2D())\n",
        "\n",
        "model.add(Dense(256, activation='relu', kernel_regularizer=l2(1e-4)))\n",
        "model.add(Dropout(0.5))\n",
        "model.add(Dense(2, activation='sigmoid', kernel_regularizer=l2(1e-4)))"
      ],
      "execution_count": 0,
      "outputs": []
    },
    {
      "metadata": {
        "colab_type": "code",
        "id": "civjmdynpGsy",
        "colab": {}
      },
      "cell_type": "code",
      "source": [
        "model.compile(Adadelta(lr=1.0, rho=0.95, epsilon=None, decay=0.0), \n",
        "              loss='binary_crossentropy', metrics=['accuracy'])"
      ],
      "execution_count": 0,
      "outputs": []
    },
    {
      "metadata": {
        "colab_type": "code",
        "id": "kDkm7fanpGs9",
        "colab": {}
      },
      "cell_type": "code",
      "source": [
        "stepsPerEpoche = len(train_batches)/bSize"
      ],
      "execution_count": 0,
      "outputs": []
    },
    {
      "metadata": {
        "colab_type": "code",
        "outputId": "9e5fa303-262f-4b83-94f8-7d4d2e5e1aa4",
        "id": "eOVXDIiupGtC",
        "colab": {
          "base_uri": "https://localhost:8080/",
          "height": 1119
        }
      },
      "cell_type": "code",
      "source": [
        "training = model.fit_generator(train_batches, steps_per_epoch=stepsPerEpoche, epochs=30, verbose=2)"
      ],
      "execution_count": 30,
      "outputs": [
        {
          "output_type": "stream",
          "text": [
            "Epoch 1/30\n",
            " - 2s - loss: 1.1130 - acc: 0.6198\n",
            "Epoch 2/30\n",
            " - 1s - loss: 0.7651 - acc: 0.7656\n",
            "Epoch 3/30\n",
            " - 1s - loss: 0.6726 - acc: 0.7995\n",
            "Epoch 4/30\n",
            " - 1s - loss: 0.5574 - acc: 0.8125\n",
            "Epoch 5/30\n",
            " - 1s - loss: 0.4142 - acc: 0.8646\n",
            "Epoch 6/30\n",
            " - 1s - loss: 0.4157 - acc: 0.8568\n",
            "Epoch 7/30\n",
            " - 1s - loss: 0.4196 - acc: 0.8464\n",
            "Epoch 8/30\n",
            " - 1s - loss: 0.3461 - acc: 0.8724\n",
            "Epoch 9/30\n",
            " - 1s - loss: 0.4350 - acc: 0.8307\n",
            "Epoch 10/30\n",
            " - 1s - loss: 0.2611 - acc: 0.9036\n",
            "Epoch 11/30\n",
            " - 1s - loss: 0.4079 - acc: 0.8750\n",
            "Epoch 12/30\n",
            " - 1s - loss: 0.2975 - acc: 0.9089\n",
            "Epoch 13/30\n",
            " - 1s - loss: 0.3260 - acc: 0.8880\n",
            "Epoch 14/30\n",
            " - 1s - loss: 0.3398 - acc: 0.8932\n",
            "Epoch 15/30\n",
            " - 1s - loss: 0.2972 - acc: 0.8906\n",
            "Epoch 16/30\n",
            " - 1s - loss: 0.3120 - acc: 0.9036\n",
            "Epoch 17/30\n",
            " - 1s - loss: 0.2124 - acc: 0.9271\n",
            "Epoch 18/30\n",
            " - 1s - loss: 0.2755 - acc: 0.9245\n",
            "Epoch 19/30\n",
            " - 1s - loss: 0.2738 - acc: 0.8932\n",
            "Epoch 20/30\n",
            " - 1s - loss: 0.2998 - acc: 0.9115\n",
            "Epoch 21/30\n",
            " - 1s - loss: 0.2101 - acc: 0.9453\n",
            "Epoch 22/30\n",
            " - 1s - loss: 0.3237 - acc: 0.8984\n",
            "Epoch 23/30\n",
            " - 1s - loss: 0.3294 - acc: 0.8776\n",
            "Epoch 24/30\n",
            " - 1s - loss: 0.2450 - acc: 0.9271\n",
            "Epoch 25/30\n",
            " - 1s - loss: 0.2743 - acc: 0.9089\n",
            "Epoch 26/30\n",
            " - 1s - loss: 0.4010 - acc: 0.8385\n",
            "Epoch 27/30\n",
            " - 1s - loss: 0.2388 - acc: 0.9245\n",
            "Epoch 28/30\n",
            " - 1s - loss: 0.3320 - acc: 0.8750\n",
            "Epoch 29/30\n",
            " - 1s - loss: 0.2927 - acc: 0.8984\n",
            "Epoch 30/30\n",
            " - 1s - loss: 0.2304 - acc: 0.9167\n"
          ],
          "name": "stdout"
        }
      ]
    },
    {
      "metadata": {
        "colab_type": "code",
        "id": "12rulg6crSGC",
        "colab": {}
      },
      "cell_type": "code",
      "source": [
        "model.save_weights('30_epochs_exemplo1_tentativa8.h5')"
      ],
      "execution_count": 0,
      "outputs": []
    },
    {
      "metadata": {
        "id": "csBCokNgxgbn",
        "colab_type": "text"
      },
      "cell_type": "markdown",
      "source": [
        "### 9 tentativa"
      ]
    },
    {
      "metadata": {
        "colab_type": "code",
        "id": "EJjS6pK1xj1f",
        "colab": {}
      },
      "cell_type": "code",
      "source": [
        "from keras.layers import Conv2D, MaxPooling2D, GlobalMaxPooling2D, BatchNormalization\n",
        "from keras.regularizers import l2\n",
        "\n",
        "model = Sequential()\n",
        "\n",
        "model.add(Conv2D(32, (3, 3), activation='relu', kernel_regularizer=l2(1e-4), \n",
        "                 input_shape=(None, None, 3)))\n",
        "model.add(BatchNormalization())\n",
        "model.add(Conv2D(32, (3, 3), activation='relu', kernel_regularizer=l2(1e-4)))\n",
        "model.add(BatchNormalization())\n",
        "model.add(MaxPooling2D((2, 2)))\n",
        "model.add(Dropout(0.25))\n",
        "\n",
        "model.add(Conv2D(64, (3, 3), activation='relu', kernel_regularizer=l2(1e-4)))\n",
        "model.add(BatchNormalization())\n",
        "model.add(Conv2D(64, (3, 3), activation='relu', kernel_regularizer=l2(1e-4)))\n",
        "model.add(BatchNormalization())\n",
        "model.add(MaxPooling2D((2, 2)))\n",
        "model.add(Dropout(0.25))\n",
        "\n",
        "model.add(Conv2D(128, (1,1), kernel_regularizer=l2(1e-4)))\n",
        "model.add(GlobalMaxPooling2D())\n",
        "\n",
        "model.add(Dense(256, activation='relu', kernel_regularizer=l2(1e-4)))\n",
        "model.add(Dropout(0.5))\n",
        "model.add(Dense(2, activation='sigmoid', kernel_regularizer=l2(1e-4)))"
      ],
      "execution_count": 0,
      "outputs": []
    },
    {
      "metadata": {
        "colab_type": "code",
        "id": "9ezdguEZxsWT",
        "colab": {}
      },
      "cell_type": "code",
      "source": [
        "model.compile(SGD(lr=0.03, momentum=0.0, decay=0.0, nesterov=False), \n",
        "              loss='binary_crossentropy', metrics=['accuracy'])"
      ],
      "execution_count": 0,
      "outputs": []
    },
    {
      "metadata": {
        "colab_type": "code",
        "id": "h-DliNTgxj1_",
        "colab": {}
      },
      "cell_type": "code",
      "source": [
        "stepsPerEpoche = len(train_batches)/bSize"
      ],
      "execution_count": 0,
      "outputs": []
    },
    {
      "metadata": {
        "colab_type": "code",
        "outputId": "14712495-721a-4091-f6d1-e559f319aa42",
        "id": "fae2F-2Ixj2H",
        "colab": {
          "base_uri": "https://localhost:8080/",
          "height": 1119
        }
      },
      "cell_type": "code",
      "source": [
        "training = model.fit_generator(train_batches, steps_per_epoch=stepsPerEpoche, epochs=30, verbose=2)"
      ],
      "execution_count": 43,
      "outputs": [
        {
          "output_type": "stream",
          "text": [
            "Epoch 1/30\n",
            " - 3s - loss: 1.8551 - acc: 0.5443\n",
            "Epoch 2/30\n",
            " - 1s - loss: 1.0299 - acc: 0.6745\n",
            "Epoch 3/30\n",
            " - 1s - loss: 0.6365 - acc: 0.7734\n",
            "Epoch 4/30\n",
            " - 1s - loss: 0.6020 - acc: 0.7969\n",
            "Epoch 5/30\n",
            " - 1s - loss: 0.6337 - acc: 0.7786\n",
            "Epoch 6/30\n",
            " - 1s - loss: 0.5335 - acc: 0.7943\n",
            "Epoch 7/30\n",
            " - 1s - loss: 0.4278 - acc: 0.8359\n",
            "Epoch 8/30\n",
            " - 1s - loss: 0.3947 - acc: 0.8698\n",
            "Epoch 9/30\n",
            " - 1s - loss: 0.3562 - acc: 0.8620\n",
            "Epoch 10/30\n",
            " - 1s - loss: 0.4505 - acc: 0.8333\n",
            "Epoch 11/30\n",
            " - 1s - loss: 0.3003 - acc: 0.8906\n",
            "Epoch 12/30\n",
            " - 1s - loss: 0.3435 - acc: 0.8750\n",
            "Epoch 13/30\n",
            " - 1s - loss: 0.3416 - acc: 0.8984\n",
            "Epoch 14/30\n",
            " - 1s - loss: 0.5341 - acc: 0.8073\n",
            "Epoch 15/30\n",
            " - 1s - loss: 0.3304 - acc: 0.8932\n",
            "Epoch 16/30\n",
            " - 1s - loss: 0.3117 - acc: 0.8958\n",
            "Epoch 17/30\n",
            " - 1s - loss: 0.3621 - acc: 0.8802\n",
            "Epoch 18/30\n",
            " - 1s - loss: 0.5339 - acc: 0.8229\n",
            "Epoch 19/30\n",
            " - 1s - loss: 0.3190 - acc: 0.8984\n",
            "Epoch 20/30\n",
            " - 1s - loss: 0.2984 - acc: 0.8958\n",
            "Epoch 21/30\n",
            " - 1s - loss: 0.4128 - acc: 0.8464\n",
            "Epoch 22/30\n",
            " - 1s - loss: 0.2776 - acc: 0.9089\n",
            "Epoch 23/30\n",
            " - 1s - loss: 0.3645 - acc: 0.8776\n",
            "Epoch 24/30\n",
            " - 1s - loss: 0.2253 - acc: 0.9401\n",
            "Epoch 25/30\n",
            " - 1s - loss: 0.3343 - acc: 0.8776\n",
            "Epoch 26/30\n",
            " - 1s - loss: 0.2379 - acc: 0.9401\n",
            "Epoch 27/30\n",
            " - 1s - loss: 0.2880 - acc: 0.9089\n",
            "Epoch 28/30\n",
            " - 1s - loss: 0.2325 - acc: 0.9245\n",
            "Epoch 29/30\n",
            " - 1s - loss: 0.2944 - acc: 0.8880\n",
            "Epoch 30/30\n",
            " - 1s - loss: 0.2873 - acc: 0.9219\n"
          ],
          "name": "stdout"
        }
      ]
    },
    {
      "metadata": {
        "colab_type": "code",
        "id": "QRaUXI2Axl8E",
        "colab": {}
      },
      "cell_type": "code",
      "source": [
        "model.save_weights('30_epochs_exemplo1_tentativa9.h5')"
      ],
      "execution_count": 0,
      "outputs": []
    },
    {
      "metadata": {
        "id": "I_6RPRqZ0ooK",
        "colab_type": "text"
      },
      "cell_type": "markdown",
      "source": [
        "### 10 tentativa"
      ]
    },
    {
      "metadata": {
        "colab_type": "code",
        "id": "6LGTLObK0u-Y",
        "colab": {}
      },
      "cell_type": "code",
      "source": [
        "from keras.layers import Conv2D, MaxPooling2D, GlobalMaxPooling2D, BatchNormalization\n",
        "from keras.regularizers import l2\n",
        "\n",
        "model = Sequential()\n",
        "\n",
        "model.add(Conv2D(32, (3, 3), activation='relu', kernel_regularizer=l2(1e-4), \n",
        "                 input_shape=(None, None, 3)))\n",
        "model.add(BatchNormalization())\n",
        "model.add(Conv2D(32, (3, 3), activation='relu', kernel_regularizer=l2(1e-4)))\n",
        "model.add(BatchNormalization())\n",
        "model.add(MaxPooling2D((2, 2)))\n",
        "model.add(Dropout(0.25))\n",
        "\n",
        "model.add(Conv2D(64, (3, 3), activation='relu', kernel_regularizer=l2(1e-4)))\n",
        "model.add(BatchNormalization())\n",
        "model.add(Conv2D(64, (3, 3), activation='relu', kernel_regularizer=l2(1e-4)))\n",
        "model.add(BatchNormalization())\n",
        "model.add(MaxPooling2D((2, 2)))\n",
        "model.add(Dropout(0.25))\n",
        "\n",
        "model.add(Conv2D(96, (3, 3),activation='relu', kernel_regularizer=l2(1e-4)))\n",
        "model.add(BatchNormalization())\n",
        "model.add(Conv2D(96, (3, 3),activation='relu', kernel_regularizer=l2(1e-4)))\n",
        "model.add(BatchNormalization())\n",
        "model.add(MaxPooling2D((2, 2)))\n",
        "model.add(Dropout(0.25))\n",
        "\n",
        "model.add(Conv2D(128, (1,1), kernel_regularizer=l2(1e-4)))\n",
        "model.add(GlobalMaxPooling2D())\n",
        "\n",
        "model.add(Dense(256, activation='relu', kernel_regularizer=l2(1e-4)))\n",
        "model.add(Dropout(0.5))\n",
        "model.add(Dense(2, activation='sigmoid', kernel_regularizer=l2(1e-4)))"
      ],
      "execution_count": 0,
      "outputs": []
    },
    {
      "metadata": {
        "colab_type": "code",
        "id": "vB92aUkR0u-p",
        "colab": {}
      },
      "cell_type": "code",
      "source": [
        "model.compile(optimizer='adam', loss='binary_crossentropy', metrics=['accuracy'])"
      ],
      "execution_count": 0,
      "outputs": []
    },
    {
      "metadata": {
        "colab_type": "code",
        "id": "HHPYZNfe0u-z",
        "colab": {}
      },
      "cell_type": "code",
      "source": [
        "stepsPerEpoche = len(train_batches)/bSize"
      ],
      "execution_count": 0,
      "outputs": []
    },
    {
      "metadata": {
        "colab_type": "code",
        "outputId": "36fd3bf1-468a-44d6-9ce0-1a77cfdb9fc9",
        "id": "FrboQTEP0u-9",
        "colab": {
          "base_uri": "https://localhost:8080/",
          "height": 1119
        }
      },
      "cell_type": "code",
      "source": [
        "training = model.fit_generator(train_batches, steps_per_epoch=stepsPerEpoche, epochs=30, verbose=2)"
      ],
      "execution_count": 49,
      "outputs": [
        {
          "output_type": "stream",
          "text": [
            "Epoch 1/30\n",
            " - 4s - loss: 0.9190 - acc: 0.6927\n",
            "Epoch 2/30\n",
            " - 1s - loss: 0.5206 - acc: 0.8411\n",
            "Epoch 3/30\n",
            " - 1s - loss: 0.4260 - acc: 0.8724\n",
            "Epoch 4/30\n",
            " - 1s - loss: 0.3978 - acc: 0.8750\n",
            "Epoch 5/30\n",
            " - 1s - loss: 0.4417 - acc: 0.8646\n",
            "Epoch 6/30\n",
            " - 1s - loss: 0.3517 - acc: 0.8776\n",
            "Epoch 7/30\n",
            " - 1s - loss: 0.2609 - acc: 0.9219\n",
            "Epoch 8/30\n",
            " - 1s - loss: 0.3548 - acc: 0.9141\n",
            "Epoch 9/30\n",
            " - 1s - loss: 0.2640 - acc: 0.9115\n",
            "Epoch 10/30\n",
            " - 1s - loss: 0.2525 - acc: 0.9219\n",
            "Epoch 11/30\n",
            " - 1s - loss: 0.3130 - acc: 0.9141\n",
            "Epoch 12/30\n",
            " - 1s - loss: 0.2596 - acc: 0.9167\n",
            "Epoch 13/30\n",
            " - 1s - loss: 0.3560 - acc: 0.8724\n",
            "Epoch 14/30\n",
            " - 1s - loss: 0.2580 - acc: 0.9036\n",
            "Epoch 15/30\n",
            " - 1s - loss: 0.2936 - acc: 0.9062\n",
            "Epoch 16/30\n",
            " - 1s - loss: 0.3105 - acc: 0.9089\n",
            "Epoch 17/30\n",
            " - 1s - loss: 0.4118 - acc: 0.8750\n",
            "Epoch 18/30\n",
            " - 1s - loss: 0.3638 - acc: 0.9010\n",
            "Epoch 19/30\n",
            " - 1s - loss: 0.3270 - acc: 0.8802\n",
            "Epoch 20/30\n",
            " - 1s - loss: 0.3421 - acc: 0.8828\n",
            "Epoch 21/30\n",
            " - 1s - loss: 0.3827 - acc: 0.8672\n",
            "Epoch 22/30\n",
            " - 1s - loss: 0.2613 - acc: 0.9141\n",
            "Epoch 23/30\n",
            " - 1s - loss: 0.2670 - acc: 0.9089\n",
            "Epoch 24/30\n",
            " - 1s - loss: 0.2058 - acc: 0.9609\n",
            "Epoch 25/30\n",
            " - 1s - loss: 0.2784 - acc: 0.9115\n",
            "Epoch 26/30\n",
            " - 1s - loss: 0.2425 - acc: 0.9271\n",
            "Epoch 27/30\n",
            " - 1s - loss: 0.2516 - acc: 0.9141\n",
            "Epoch 28/30\n",
            " - 1s - loss: 0.3102 - acc: 0.8802\n",
            "Epoch 29/30\n",
            " - 1s - loss: 0.2506 - acc: 0.9219\n",
            "Epoch 30/30\n",
            " - 1s - loss: 0.2612 - acc: 0.9219\n"
          ],
          "name": "stdout"
        }
      ]
    },
    {
      "metadata": {
        "colab_type": "code",
        "id": "mqGGMw_t01KA",
        "colab": {}
      },
      "cell_type": "code",
      "source": [
        "model.save_weights('30_epochs_exemplo1_tentativa10.h5')"
      ],
      "execution_count": 0,
      "outputs": []
    },
    {
      "metadata": {
        "id": "t-JuICq46CWp",
        "colab_type": "text"
      },
      "cell_type": "markdown",
      "source": [
        "### 11 tentativa"
      ]
    },
    {
      "metadata": {
        "colab_type": "code",
        "id": "vLy1nlhs6HHL",
        "colab": {}
      },
      "cell_type": "code",
      "source": [
        "from keras.layers import Conv2D, MaxPooling2D, GlobalMaxPooling2D, BatchNormalization\n",
        "from keras.regularizers import l2\n",
        "\n",
        "model = Sequential()\n",
        "\n",
        "model.add(Conv2D(32, (3, 3), activation='relu', kernel_regularizer=l2(1e-4), \n",
        "                 input_shape=(None, None, 3)))\n",
        "model.add(BatchNormalization())\n",
        "model.add(Conv2D(32, (3, 3), activation='relu', kernel_regularizer=l2(1e-4)))\n",
        "model.add(BatchNormalization())\n",
        "model.add(MaxPooling2D((2, 2)))\n",
        "model.add(Dropout(0.25))\n",
        "\n",
        "model.add(Conv2D(64, (3, 3), activation='relu', kernel_regularizer=l2(1e-4)))\n",
        "model.add(BatchNormalization())\n",
        "model.add(Conv2D(64, (3, 3), activation='relu', kernel_regularizer=l2(1e-4)))\n",
        "model.add(BatchNormalization())\n",
        "model.add(MaxPooling2D((2, 2)))\n",
        "model.add(Dropout(0.25))\n",
        "\n",
        "model.add(Conv2D(96, (3, 3),activation='relu', kernel_regularizer=l2(1e-4)))\n",
        "model.add(BatchNormalization())\n",
        "model.add(Conv2D(96, (3, 3),activation='relu', kernel_regularizer=l2(1e-4)))\n",
        "model.add(BatchNormalization())\n",
        "model.add(MaxPooling2D((2, 2)))\n",
        "model.add(Dropout(0.25))\n",
        "\n",
        "model.add(Conv2D(128, (1,1), kernel_regularizer=l2(1e-4)))\n",
        "model.add(GlobalMaxPooling2D())\n",
        "\n",
        "model.add(Dense(256, activation='relu', kernel_regularizer=l2(1e-4)))\n",
        "model.add(Dropout(0.5))\n",
        "model.add(Dense(2, activation='sigmoid', kernel_regularizer=l2(1e-4)))"
      ],
      "execution_count": 0,
      "outputs": []
    },
    {
      "metadata": {
        "colab_type": "code",
        "id": "QKpy_s8Z6HHZ",
        "colab": {}
      },
      "cell_type": "code",
      "source": [
        "model.compile(SGD(lr=0.01, momentum=0.0, decay=0.0, nesterov=False), \n",
        "              loss='binary_crossentropy', metrics=['accuracy'])"
      ],
      "execution_count": 0,
      "outputs": []
    },
    {
      "metadata": {
        "colab_type": "code",
        "id": "LRqfQjJc6HHi",
        "colab": {}
      },
      "cell_type": "code",
      "source": [
        "stepsPerEpoche = len(train_batches)/bSize"
      ],
      "execution_count": 0,
      "outputs": []
    },
    {
      "metadata": {
        "colab_type": "code",
        "outputId": "5c330661-7755-4148-a090-0a14ceff2ebd",
        "id": "kD5k2rkk6HHt",
        "colab": {
          "base_uri": "https://localhost:8080/",
          "height": 1119
        }
      },
      "cell_type": "code",
      "source": [
        "training = model.fit_generator(train_batches, steps_per_epoch=stepsPerEpoche, epochs=30, verbose=2)"
      ],
      "execution_count": 55,
      "outputs": [
        {
          "output_type": "stream",
          "text": [
            "Epoch 1/30\n",
            " - 4s - loss: 1.2626 - acc: 0.5677\n",
            "Epoch 2/30\n",
            " - 1s - loss: 0.7668 - acc: 0.7031\n",
            "Epoch 3/30\n",
            " - 1s - loss: 0.6446 - acc: 0.7708\n",
            "Epoch 4/30\n",
            " - 1s - loss: 0.5695 - acc: 0.7865\n",
            "Epoch 5/30\n",
            " - 1s - loss: 0.4265 - acc: 0.8594\n",
            "Epoch 6/30\n",
            " - 1s - loss: 0.5021 - acc: 0.8151\n",
            "Epoch 7/30\n",
            " - 1s - loss: 0.4667 - acc: 0.8490\n",
            "Epoch 8/30\n",
            " - 1s - loss: 0.4164 - acc: 0.8359\n",
            "Epoch 9/30\n",
            " - 1s - loss: 0.4077 - acc: 0.8802\n",
            "Epoch 10/30\n",
            " - 1s - loss: 0.4799 - acc: 0.8229\n",
            "Epoch 11/30\n",
            " - 1s - loss: 0.3791 - acc: 0.8932\n",
            "Epoch 12/30\n",
            " - 1s - loss: 0.4920 - acc: 0.8411\n",
            "Epoch 13/30\n",
            " - 1s - loss: 0.3571 - acc: 0.8646\n",
            "Epoch 14/30\n",
            " - 1s - loss: 0.2708 - acc: 0.9219\n",
            "Epoch 15/30\n",
            " - 1s - loss: 0.3271 - acc: 0.8932\n",
            "Epoch 16/30\n",
            " - 1s - loss: 0.2973 - acc: 0.9167\n",
            "Epoch 17/30\n",
            " - 1s - loss: 0.3730 - acc: 0.8750\n",
            "Epoch 18/30\n",
            " - 1s - loss: 0.3420 - acc: 0.8646\n",
            "Epoch 19/30\n",
            " - 1s - loss: 0.3131 - acc: 0.9219\n",
            "Epoch 20/30\n",
            " - 1s - loss: 0.3118 - acc: 0.8932\n",
            "Epoch 21/30\n",
            " - 1s - loss: 0.3154 - acc: 0.8958\n",
            "Epoch 22/30\n",
            " - 1s - loss: 0.3415 - acc: 0.9010\n",
            "Epoch 23/30\n",
            " - 1s - loss: 0.3208 - acc: 0.9036\n",
            "Epoch 24/30\n",
            " - 1s - loss: 0.3107 - acc: 0.9167\n",
            "Epoch 25/30\n",
            " - 1s - loss: 0.3652 - acc: 0.8854\n",
            "Epoch 26/30\n",
            " - 1s - loss: 0.3562 - acc: 0.8776\n",
            "Epoch 27/30\n",
            " - 1s - loss: 0.4015 - acc: 0.8620\n",
            "Epoch 28/30\n",
            " - 1s - loss: 0.2985 - acc: 0.9036\n",
            "Epoch 29/30\n",
            " - 1s - loss: 0.3290 - acc: 0.8880\n",
            "Epoch 30/30\n",
            " - 1s - loss: 0.3882 - acc: 0.8516\n"
          ],
          "name": "stdout"
        }
      ]
    },
    {
      "metadata": {
        "colab_type": "code",
        "id": "r4cxuwsn6UBS",
        "colab": {}
      },
      "cell_type": "code",
      "source": [
        "model.save_weights('30_epochs_exemplo1_tentativa11.h5')"
      ],
      "execution_count": 0,
      "outputs": []
    },
    {
      "metadata": {
        "id": "tVDMJpV6w_GG",
        "colab_type": "text"
      },
      "cell_type": "markdown",
      "source": [
        "### Graficos"
      ]
    },
    {
      "metadata": {
        "colab_type": "code",
        "id": "_zs8IUimxKD9",
        "colab": {
          "base_uri": "https://localhost:8080/",
          "height": 403
        },
        "outputId": "9923217d-7c7c-44a0-e75a-460550988f70"
      },
      "cell_type": "code",
      "source": [
        "plt.figure(figsize=(9,6))\n",
        "plt.plot(training.history['loss'], label='Train')\n",
        "plt.title('Model Loss')\n",
        "plt.xlabel('Epochs')\n",
        "plt.ylabel('Loss')\n",
        "plt.legend()\n",
        "plt.show()"
      ],
      "execution_count": 39,
      "outputs": [
        {
          "output_type": "display_data",
          "data": {
            "image/png": "[encoded data removed]",
            "text/plain": [
              "<matplotlib.figure.Figure at 0x7fedd75c3400>"
            ]
          },
          "metadata": {
            "tags": []
          }
        }
      ]
    },
    {
      "metadata": {
        "colab_type": "code",
        "id": "DzA7mEgyxKED",
        "colab": {
          "base_uri": "https://localhost:8080/",
          "height": 403
        },
        "outputId": "d8f5906c-72a4-4d6d-8afa-6fa409abe142"
      },
      "cell_type": "code",
      "source": [
        "plt.figure(figsize=(9,6))\n",
        "plt.plot(training.history['acc'], label='Train')\n",
        "plt.title('Model Accuracy')\n",
        "plt.xlabel('Epochs')\n",
        "plt.ylabel('Accuracy')\n",
        "plt.legend()\n",
        "plt.show()"
      ],
      "execution_count": 57,
      "outputs": [
        {
          "output_type": "display_data",
          "data": {
            "image/png": "[encoded data removed]",
            "text/plain": [
              "<matplotlib.figure.Figure at 0x7f3652c64b70>"
            ]
          },
          "metadata": {
            "tags": []
          }
        }
      ]
    },
    {
      "metadata": {
        "colab_type": "code",
        "id": "adBSNQWNxHd-",
        "colab": {}
      },
      "cell_type": "code",
      "source": [
        "predictions = model.predict_generator(test_batches, steps=1, verbose=0)"
      ],
      "execution_count": 0,
      "outputs": []
    },
    {
      "metadata": {
        "id": "eDbaGUgHsnG4",
        "colab_type": "text"
      },
      "cell_type": "markdown",
      "source": [
        "## Implementação código do https://medium.com/@ksusorokina/image-classification-with-convolutional-neural-networks-496815db12a8"
      ]
    },
    {
      "metadata": {
        "id": "CzZXa3jhxuhv",
        "colab_type": "text"
      },
      "cell_type": "markdown",
      "source": [
        "### 1 Teste"
      ]
    },
    {
      "metadata": {
        "id": "J4kzEpYms26N",
        "colab_type": "code",
        "colab": {}
      },
      "cell_type": "code",
      "source": [
        "model = Sequential()"
      ],
      "execution_count": 0,
      "outputs": []
    },
    {
      "metadata": {
        "id": "WYk_9bt-st1M",
        "colab_type": "code",
        "colab": {}
      },
      "cell_type": "code",
      "source": [
        "model.add(Conv2D(32, (3, 3), input_shape=(120, 120, 3)))\n",
        "model.add(Activation('relu'))\n",
        "model.add(MaxPooling2D(pool_size=(2, 2)))\n",
        "\n",
        "model.add(Conv2D(32, (3, 3)))\n",
        "model.add(Activation('relu'))\n",
        "model.add(MaxPooling2D(pool_size=(2, 2)))\n",
        "\n",
        "model.add(Conv2D(64, (3, 3)))\n",
        "model.add(Activation('relu'))\n",
        "model.add(MaxPooling2D(pool_size=(2, 2)))\n",
        "\n",
        "model.add(Flatten()) \n",
        "model.add(Dense(64))\n",
        "model.add(Activation('relu'))\n",
        "model.add(Dropout(0.5))\n",
        "model.add(Dense(2))\n",
        "model.add(Activation('sigmoid'))"
      ],
      "execution_count": 0,
      "outputs": []
    },
    {
      "metadata": {
        "id": "OO4636DEs9UO",
        "colab_type": "code",
        "colab": {}
      },
      "cell_type": "code",
      "source": [
        "model.compile(loss='binary_crossentropy',\n",
        "              optimizer='rmsprop',\n",
        "              metrics=['accuracy'])"
      ],
      "execution_count": 0,
      "outputs": []
    },
    {
      "metadata": {
        "id": "Ffeyo8GwtzF1",
        "colab_type": "text"
      },
      "cell_type": "markdown",
      "source": [
        "\n",
        "\n",
        "---\n",
        "\n"
      ]
    },
    {
      "metadata": {
        "colab_type": "code",
        "id": "kgi7lX9dt0Bg",
        "colab": {}
      },
      "cell_type": "code",
      "source": [
        "bSize = 16"
      ],
      "execution_count": 0,
      "outputs": []
    },
    {
      "metadata": {
        "colab_type": "code",
        "id": "tu6dqL_Rt0By",
        "colab": {}
      },
      "cell_type": "code",
      "source": [
        "datagen = ImageDataGenerator(rescale=1/255.)"
      ],
      "execution_count": 0,
      "outputs": []
    },
    {
      "metadata": {
        "colab_type": "code",
        "outputId": "125eb753-7f43-4039-cb26-fc5de20b4658",
        "id": "iSHrq_pat0B_",
        "colab": {
          "base_uri": "https://localhost:8080/",
          "height": 54
        }
      },
      "cell_type": "code",
      "source": [
        "train_batches = datagen.flow_from_directory(train_path, target_size=(120, 120), classes=['C', 'NC'], batch_size=bSize)\n",
        "test_batches = datagen.flow_from_directory(test_path, target_size=(120, 120), classes=['C', 'NC'], batch_size=bSize)"
      ],
      "execution_count": 11,
      "outputs": [
        {
          "output_type": "stream",
          "text": [
            "Found 5344 images belonging to 2 classes.\n",
            "Found 1336 images belonging to 2 classes.\n"
          ],
          "name": "stdout"
        }
      ]
    },
    {
      "metadata": {
        "colab_type": "code",
        "id": "DzcDkpRuulYK",
        "colab": {}
      },
      "cell_type": "code",
      "source": [
        "stepsPerEpoche = len(train_batches)/bSize"
      ],
      "execution_count": 0,
      "outputs": []
    },
    {
      "metadata": {
        "id": "QXSZi_83utgp",
        "colab_type": "code",
        "colab": {}
      },
      "cell_type": "code",
      "source": [
        "model.fit_generator(train_batches, steps_per_epoch=stepsPerEpoche, \n",
        "                    epochs=5, verbose=2)\n"
      ],
      "execution_count": 0,
      "outputs": []
    },
    {
      "metadata": {
        "id": "x-62f7kIyWdD",
        "colab_type": "code",
        "colab": {}
      },
      "cell_type": "code",
      "source": [
        "model.save_weights('25_epochs_exemplo2.h5')"
      ],
      "execution_count": 0,
      "outputs": []
    },
    {
      "metadata": {
        "id": "uGo-Y9ndH0HD",
        "colab_type": "code",
        "colab": {
          "base_uri": "https://localhost:8080/",
          "height": 1872
        },
        "outputId": "5b239bff-48f0-4496-8938-90b6eacf580a"
      },
      "cell_type": "code",
      "source": [
        "model.fit_generator(train_batches, steps_per_epoch=stepsPerEpoche, \n",
        "                    epochs=50, verbose=2)"
      ],
      "execution_count": 11,
      "outputs": [
        {
          "output_type": "stream",
          "text": [
            "Epoch 1/50\n",
            " - 2s - loss: 0.7353 - acc: 0.4940\n",
            "Epoch 2/50\n",
            " - 1s - loss: 0.6482 - acc: 0.6443\n",
            "Epoch 3/50\n",
            " - 1s - loss: 0.5639 - acc: 0.7693\n",
            "Epoch 4/50\n",
            " - 1s - loss: 0.5024 - acc: 0.7723\n",
            "Epoch 5/50\n",
            " - 1s - loss: 0.4525 - acc: 0.7812\n",
            "Epoch 6/50\n",
            " - 1s - loss: 0.3668 - acc: 0.8631\n",
            "Epoch 7/50\n",
            " - 1s - loss: 0.3639 - acc: 0.8646\n",
            "Epoch 8/50\n",
            " - 1s - loss: 0.3626 - acc: 0.8586\n",
            "Epoch 9/50\n",
            " - 1s - loss: 0.3493 - acc: 0.8527\n",
            "Epoch 10/50\n",
            " - 1s - loss: 0.2751 - acc: 0.8958\n",
            "Epoch 11/50\n",
            " - 1s - loss: 0.4273 - acc: 0.8646\n",
            "Epoch 12/50\n",
            " - 1s - loss: 0.3008 - acc: 0.9241\n",
            "Epoch 13/50\n",
            " - 1s - loss: 0.3326 - acc: 0.8795\n",
            "Epoch 14/50\n",
            " - 1s - loss: 0.2798 - acc: 0.8824\n",
            "Epoch 15/50\n",
            " - 1s - loss: 0.3081 - acc: 0.8899\n",
            "Epoch 16/50\n",
            " - 1s - loss: 0.3306 - acc: 0.8914\n",
            "Epoch 17/50\n",
            " - 1s - loss: 0.3057 - acc: 0.8810\n",
            "Epoch 18/50\n",
            " - 1s - loss: 0.2491 - acc: 0.9226\n",
            "Epoch 19/50\n",
            " - 1s - loss: 0.2335 - acc: 0.9301\n",
            "Epoch 20/50\n",
            " - 1s - loss: 0.3320 - acc: 0.9077\n",
            "Epoch 21/50\n",
            " - 1s - loss: 0.2576 - acc: 0.9167\n",
            "Epoch 22/50\n",
            " - 1s - loss: 0.2542 - acc: 0.9226\n",
            "Epoch 23/50\n",
            " - 1s - loss: 0.2538 - acc: 0.9152\n",
            "Epoch 24/50\n",
            " - 1s - loss: 0.2006 - acc: 0.9301\n",
            "Epoch 25/50\n",
            " - 1s - loss: 0.2526 - acc: 0.9286\n",
            "Epoch 26/50\n",
            " - 1s - loss: 0.1841 - acc: 0.9420\n",
            "Epoch 27/50\n",
            " - 1s - loss: 0.1776 - acc: 0.9449\n",
            "Epoch 28/50\n",
            " - 1s - loss: 0.2435 - acc: 0.9286\n",
            "Epoch 29/50\n",
            " - 1s - loss: 0.2152 - acc: 0.9301\n",
            "Epoch 30/50\n",
            " - 1s - loss: 0.2119 - acc: 0.9330\n",
            "Epoch 31/50\n",
            " - 1s - loss: 0.2390 - acc: 0.9167\n",
            "Epoch 32/50\n",
            " - 1s - loss: 0.2404 - acc: 0.9033\n",
            "Epoch 33/50\n",
            " - 1s - loss: 0.1586 - acc: 0.9479\n",
            "Epoch 34/50\n",
            " - 1s - loss: 0.1678 - acc: 0.9494\n",
            "Epoch 35/50\n",
            " - 1s - loss: 0.2015 - acc: 0.9301\n",
            "Epoch 36/50\n",
            " - 1s - loss: 0.2238 - acc: 0.9390\n",
            "Epoch 37/50\n",
            " - 1s - loss: 0.2243 - acc: 0.9286\n",
            "Epoch 38/50\n",
            " - 1s - loss: 0.1819 - acc: 0.9420\n",
            "Epoch 39/50\n",
            " - 1s - loss: 0.1811 - acc: 0.9375\n",
            "Epoch 40/50\n",
            " - 1s - loss: 0.2420 - acc: 0.9152\n",
            "Epoch 41/50\n",
            " - 1s - loss: 0.2278 - acc: 0.9241\n",
            "Epoch 42/50\n",
            " - 1s - loss: 0.2116 - acc: 0.9435\n",
            "Epoch 43/50\n",
            " - 1s - loss: 0.2600 - acc: 0.9271\n",
            "Epoch 44/50\n",
            " - 1s - loss: 0.2057 - acc: 0.9226\n",
            "Epoch 45/50\n",
            " - 1s - loss: 0.1665 - acc: 0.9360\n",
            "Epoch 46/50\n",
            " - 1s - loss: 0.2349 - acc: 0.9182\n",
            "Epoch 47/50\n",
            " - 1s - loss: 0.2218 - acc: 0.9256\n",
            "Epoch 48/50\n",
            " - 1s - loss: 0.1650 - acc: 0.9256\n",
            "Epoch 49/50\n",
            " - 1s - loss: 0.1958 - acc: 0.9420\n",
            "Epoch 50/50\n",
            " - 1s - loss: 0.1854 - acc: 0.9435\n"
          ],
          "name": "stdout"
        },
        {
          "output_type": "execute_result",
          "data": {
            "text/plain": [
              "<keras.callbacks.History at 0x7fe0a48a1860>"
            ]
          },
          "metadata": {
            "tags": []
          },
          "execution_count": 11
        }
      ]
    },
    {
      "metadata": {
        "id": "WwHPhgxHH2Fi",
        "colab_type": "code",
        "colab": {}
      },
      "cell_type": "code",
      "source": [
        "model.save_weights('50_epochs_exemplo2.h5')"
      ],
      "execution_count": 0,
      "outputs": []
    }
  ]
}