{
  "nbformat": 4,
  "nbformat_minor": 0,
  "metadata": {
    "colab": {
      "name": "TesteRedes.ipynb",
      "version": "0.3.2",
      "provenance": [],
      "toc_visible": true,
      "include_colab_link": true
    },
    "kernelspec": {
      "name": "python3",
      "display_name": "Python 3"
    },
    "accelerator": "GPU"
  },
  "cells": [
    {
      "cell_type": "markdown",
      "metadata": {
        "id": "view-in-github",
        "colab_type": "text"
      },
      "source": [
        "<a href=\"https://colab.research.google.com/github/FernandaSzAdr/KNN_cromossome/blob/master/TesteRedes.ipynb\" target=\"_parent\"><img src=\"https://colab.research.google.com/assets/colab-badge.svg\" alt=\"Open In Colab\"/></a>"
      ]
    },
    {
      "metadata": {
        "id": "KpoFwwKru7O6",
        "colab_type": "code",
        "colab": {
          "base_uri": "https://localhost:8080/",
          "height": 35
        },
        "outputId": "629036fd-eaf9-4fdd-84a8-627d54ffe6ca"
      },
      "cell_type": "code",
      "source": [
        "import tensorflow as tf\n",
        "device_name = tf.test.gpu_device_name()\n",
        "if device_name != '/device:GPU:0':\n",
        "  raise SystemError('GPU device not found')\n",
        "print('Found GPU at: {}'.format(device_name))"
      ],
      "execution_count": 5,
      "outputs": [
        {
          "output_type": "stream",
          "text": [
            "Found GPU at: /device:GPU:0\n"
          ],
          "name": "stdout"
        }
      ]
    },
    {
      "metadata": {
        "id": "yIYeoR1DzzZL",
        "colab_type": "code",
        "colab": {}
      },
      "cell_type": "code",
      "source": [
        "# memory footprint support libraries/code\n",
        "!ln -sf /opt/bin/nvidia-smi /usr/bin/nvidia-smi\n",
        "!pip install gputil\n",
        "!pip install psutil\n",
        "!pip install humanize\n",
        "import psutil\n",
        "import humanize\n",
        "import os\n",
        "import GPUtil as GPU\n",
        "GPUs = GPU.getGPUs()\n",
        "# XXX: only one GPU on Colab and isn’t guaranteed\n",
        "gpu = GPUs[0]\n",
        "def printm():\n",
        " process = psutil.Process(os.getpid())\n",
        " print(\"Gen RAM Free: \" + humanize.naturalsize( psutil.virtual_memory().available ), \" | Proc size: \" + humanize.naturalsize( process.memory_info().rss))\n",
        " print(\"GPU RAM Free: {0:.0f}MB | Used: {1:.0f}MB | Util {2:3.0f}% | Total {3:.0f}MB\".format(gpu.memoryFree, gpu.memoryUsed, gpu.memoryUtil*100, gpu.memoryTotal))\n",
        "printm()"
      ],
      "execution_count": 0,
      "outputs": []
    },
    {
      "metadata": {
        "id": "xN-oUTtcif3Q",
        "colab_type": "code",
        "colab": {
          "base_uri": "https://localhost:8080/",
          "height": 129
        },
        "outputId": "c053960a-472c-4b9b-b2e4-b5fb848ddc2d"
      },
      "cell_type": "code",
      "source": [
        "# Load the Drive helper and mount\n",
        "from google.colab import drive\n",
        "\n",
        "# This will prompt for authorization.\n",
        "drive.mount('/content/drive/')"
      ],
      "execution_count": 2,
      "outputs": [
        {
          "output_type": "stream",
          "text": [
            "Go to this URL in a browser: https://accounts.google.com/o/oauth2/auth?client_id=947318989803-6bn6qk8qdgf4n4g3pfee6491hc0brc4i.apps.googleusercontent.com&redirect_uri=urn%3Aietf%3Awg%3Aoauth%3A2.0%3Aoob&scope=email%20https%3A%2F%2Fwww.googleapis.com%2Fauth%2Fdocs.test%20https%3A%2F%2Fwww.googleapis.com%2Fauth%2Fdrive%20https%3A%2F%2Fwww.googleapis.com%2Fauth%2Fdrive.photos.readonly%20https%3A%2F%2Fwww.googleapis.com%2Fauth%2Fpeopleapi.readonly&response_type=code\n",
            "\n",
            "Enter your authorization code:\n",
            "··········\n",
            "Mounted at /content/drive/\n"
          ],
          "name": "stdout"
        }
      ]
    },
    {
      "metadata": {
        "id": "gzcuEGSklnwS",
        "colab_type": "code",
        "colab": {
          "base_uri": "https://localhost:8080/",
          "height": 35
        },
        "outputId": "63f76206-7b53-4e55-ac33-991be8a1949b"
      },
      "cell_type": "code",
      "source": [
        "import numpy as np\n",
        "import keras\n",
        "from keras import backend as K\n",
        "from keras.models import Sequential\n",
        "from keras.layers import Activation\n",
        "from keras.optimizers import SGD\n",
        "from keras.layers.core import Dense, Flatten, Dropout\n",
        "from keras.preprocessing.image import ImageDataGenerator\n",
        "from keras.layers.normalization import BatchNormalization\n",
        "from keras.layers.convolutional import *\n",
        "from matplotlib import pyplot as plt\n",
        "from sklearn.metrics import confusion_matrix\n",
        "import itertools\n",
        "import matplotlib.pyplot as plt"
      ],
      "execution_count": 3,
      "outputs": [
        {
          "output_type": "stream",
          "text": [
            "Using TensorFlow backend.\n"
          ],
          "name": "stderr"
        }
      ]
    },
    {
      "metadata": {
        "id": "ITtEfxrilym7",
        "colab_type": "code",
        "colab": {}
      },
      "cell_type": "code",
      "source": [
        "train_path = 'drive/My Drive/base_crcn/Base/Train'\n",
        "test_path = 'drive/My Drive/base_crcn/Base/Test'"
      ],
      "execution_count": 0,
      "outputs": []
    },
    {
      "metadata": {
        "id": "WlPBqB_v3x2A",
        "colab_type": "text"
      },
      "cell_type": "markdown",
      "source": [
        "\n",
        "\n",
        "---\n",
        "\n"
      ]
    },
    {
      "metadata": {
        "id": "8KTtm8K7qg1n",
        "colab_type": "text"
      },
      "cell_type": "markdown",
      "source": [
        "## Implementação do código descrito em **\"Crowdsourcing for Chromosome Segmentation and Deep Classification\"**"
      ]
    },
    {
      "metadata": {
        "id": "W3zmFDRmnYem",
        "colab_type": "code",
        "colab": {}
      },
      "cell_type": "code",
      "source": [
        "bSize = 32"
      ],
      "execution_count": 0,
      "outputs": []
    },
    {
      "metadata": {
        "id": "dCNH0jPl3WTV",
        "colab_type": "code",
        "colab": {}
      },
      "cell_type": "code",
      "source": [
        "datagen = ImageDataGenerator(rescale=1/255.)"
      ],
      "execution_count": 0,
      "outputs": []
    },
    {
      "metadata": {
        "id": "YiMXe23Vmbo-",
        "colab_type": "code",
        "colab": {
          "base_uri": "https://localhost:8080/",
          "height": 54
        },
        "outputId": "c2283933-3ed3-424f-e088-d2cfa843e536"
      },
      "cell_type": "code",
      "source": [
        "train_batches = datagen.flow_from_directory(train_path, target_size=(120, 120), classes=['C', 'NC'], batch_size=bSize)\n",
        "test_batches = datagen.flow_from_directory(test_path, target_size=(120, 120), classes=['C', 'NC'], batch_size=bSize)"
      ],
      "execution_count": 7,
      "outputs": [
        {
          "output_type": "stream",
          "text": [
            "Found 5344 images belonging to 2 classes.\n",
            "Found 1336 images belonging to 2 classes.\n"
          ],
          "name": "stdout"
        }
      ]
    },
    {
      "metadata": {
        "id": "WLcoxZya5sQr",
        "colab_type": "code",
        "colab": {
          "base_uri": "https://localhost:8080/",
          "height": 35
        },
        "outputId": "41886e6e-a1d2-4d7e-f255-2fcff91122a5"
      },
      "cell_type": "code",
      "source": [
        "test_batches.class_indices"
      ],
      "execution_count": 8,
      "outputs": [
        {
          "output_type": "execute_result",
          "data": {
            "text/plain": [
              "{'C': 0, 'NC': 1}"
            ]
          },
          "metadata": {
            "tags": []
          },
          "execution_count": 8
        }
      ]
    },
    {
      "metadata": {
        "id": "tY7Fxpczz0wk",
        "colab_type": "text"
      },
      "cell_type": "markdown",
      "source": [
        "\n",
        "\n",
        "---\n",
        "\n"
      ]
    },
    {
      "metadata": {
        "id": "wH56YdE5rlnU",
        "colab_type": "text"
      },
      "cell_type": "markdown",
      "source": [
        "### 1 tentativa\n"
      ]
    },
    {
      "metadata": {
        "id": "rNosdG-ioNYU",
        "colab_type": "code",
        "colab": {}
      },
      "cell_type": "code",
      "source": [
        "model = Sequential([\n",
        "    Conv2D(64, (3, 3), activation='relu', input_shape=(120, 120, 3)),\n",
        "    Conv2D(64, (3, 3), activation='relu'),\n",
        "    Dropout(0.2),\n",
        "    MaxPooling2D(pool_size=(2, 2)),\n",
        "   \n",
        "    Conv2D(32, (3, 3), activation='relu'),\n",
        "    Conv2D(32, (3, 3), activation='relu'),\n",
        "    Dropout(0.2),\n",
        "    MaxPooling2D(pool_size=(2, 2)),\n",
        "   \n",
        "    Conv2D(16, (3, 3), activation='relu'),\n",
        "    Conv2D(16, (3, 3), activation='relu'),\n",
        "    Dropout(0.2),\n",
        "    MaxPooling2D(pool_size=(2, 2)),\n",
        "   \n",
        "    Conv2D(8, (3, 3), activation='relu'),\n",
        "    Conv2D(8, (3, 3), activation='relu'),\n",
        "    Dropout(0.2),\n",
        "    MaxPooling2D(pool_size=(2, 2)),\n",
        "    \n",
        "    Flatten(),\n",
        "    Dense(1024, activation='sigmoid'),\n",
        "    Dense(512, activation='sigmoid'),\n",
        "   \n",
        "    Dense(2, activation='softmax')\n",
        "]\n",
        ")"
      ],
      "execution_count": 0,
      "outputs": []
    },
    {
      "metadata": {
        "id": "B8lrsdDTTZtN",
        "colab_type": "code",
        "colab": {}
      },
      "cell_type": "code",
      "source": [
        "model.summary()"
      ],
      "execution_count": 0,
      "outputs": []
    },
    {
      "metadata": {
        "id": "UBqwdK2Bxagj",
        "colab_type": "code",
        "colab": {}
      },
      "cell_type": "code",
      "source": [
        "model.compile(SGD(lr=0.01, momentum=0.0, decay=0.0, nesterov=False), \n",
        "              loss='categorical_crossentropy', metrics=['accuracy'])"
      ],
      "execution_count": 0,
      "outputs": []
    },
    {
      "metadata": {
        "id": "vE-dZtSv5mde",
        "colab_type": "code",
        "colab": {}
      },
      "cell_type": "code",
      "source": [
        "stepsPerEpoche = len(train_batches)/bSize"
      ],
      "execution_count": 0,
      "outputs": []
    },
    {
      "metadata": {
        "id": "PeyX7Mzf5lDw",
        "colab_type": "code",
        "colab": {
          "base_uri": "https://localhost:8080/",
          "height": 1872
        },
        "outputId": "ba9b31da-6f06-4367-f8b4-4162bdf88e1a"
      },
      "cell_type": "code",
      "source": [
        "model.fit_generator(train_batches, steps_per_epoch=stepsPerEpoche, epochs=50, verbose=2)"
      ],
      "execution_count": 21,
      "outputs": [
        {
          "output_type": "stream",
          "text": [
            "Epoch 1/50\n",
            " - 1s - loss: 0.7173 - acc: 0.4740\n",
            "Epoch 2/50\n",
            " - 1s - loss: 0.6992 - acc: 0.5208\n",
            "Epoch 3/50\n",
            " - 1s - loss: 0.6939 - acc: 0.4896\n",
            "Epoch 4/50\n",
            " - 1s - loss: 0.6954 - acc: 0.4896\n",
            "Epoch 5/50\n",
            " - 1s - loss: 0.7159 - acc: 0.5677\n",
            "Epoch 6/50\n",
            " - 1s - loss: 0.7185 - acc: 0.5156\n",
            "Epoch 7/50\n",
            " - 8s - loss: 0.7071 - acc: 0.4948\n",
            "Epoch 8/50\n",
            " - 9s - loss: 0.6952 - acc: 0.5104\n",
            "Epoch 9/50\n",
            " - 1s - loss: 0.7090 - acc: 0.4948\n",
            "Epoch 10/50\n",
            " - 1s - loss: 0.7067 - acc: 0.4740\n",
            "Epoch 11/50\n",
            " - 1s - loss: 0.6985 - acc: 0.4688\n",
            "Epoch 12/50\n",
            " - 1s - loss: 0.7077 - acc: 0.4740\n",
            "Epoch 13/50\n",
            " - 8s - loss: 0.6971 - acc: 0.5156\n",
            "Epoch 14/50\n",
            " - 9s - loss: 0.7062 - acc: 0.4688\n",
            "Epoch 15/50\n",
            " - 1s - loss: 0.7003 - acc: 0.5260\n",
            "Epoch 16/50\n",
            " - 1s - loss: 0.6913 - acc: 0.5469\n",
            "Epoch 17/50\n",
            " - 1s - loss: 0.6959 - acc: 0.5052\n",
            "Epoch 18/50\n",
            " - 9s - loss: 0.7211 - acc: 0.4948\n",
            "Epoch 19/50\n",
            " - 8s - loss: 0.7078 - acc: 0.4740\n",
            "Epoch 20/50\n",
            " - 1s - loss: 0.7006 - acc: 0.5000\n",
            "Epoch 21/50\n",
            " - 10s - loss: 0.7003 - acc: 0.4531\n",
            "Epoch 22/50\n",
            " - 1s - loss: 0.6908 - acc: 0.5000\n",
            "Epoch 23/50\n",
            " - 33s - loss: 0.7055 - acc: 0.4844\n",
            "Epoch 24/50\n",
            " - 1s - loss: 0.6950 - acc: 0.5781\n",
            "Epoch 25/50\n",
            " - 1s - loss: 0.7149 - acc: 0.4844\n",
            "Epoch 26/50\n",
            " - 10s - loss: 0.7119 - acc: 0.4948\n",
            "Epoch 27/50\n",
            " - 1s - loss: 0.7026 - acc: 0.4844\n",
            "Epoch 28/50\n",
            " - 1s - loss: 0.7019 - acc: 0.5208\n",
            "Epoch 29/50\n",
            " - 1s - loss: 0.6970 - acc: 0.5156\n",
            "Epoch 30/50\n",
            " - 1s - loss: 0.7231 - acc: 0.4583\n",
            "Epoch 31/50\n",
            " - 1s - loss: 0.7134 - acc: 0.4948\n",
            "Epoch 32/50\n",
            " - 1s - loss: 0.6917 - acc: 0.5521\n",
            "Epoch 33/50\n",
            " - 1s - loss: 0.7259 - acc: 0.4583\n",
            "Epoch 34/50\n",
            " - 1s - loss: 0.7441 - acc: 0.4010\n",
            "Epoch 35/50\n",
            " - 1s - loss: 0.7094 - acc: 0.4583\n",
            "Epoch 36/50\n",
            " - 1s - loss: 0.7365 - acc: 0.4271\n",
            "Epoch 37/50\n",
            " - 1s - loss: 0.7015 - acc: 0.5104\n",
            "Epoch 38/50\n",
            " - 1s - loss: 0.6889 - acc: 0.5312\n",
            "Epoch 39/50\n",
            " - 1s - loss: 0.7124 - acc: 0.4427\n",
            "Epoch 40/50\n",
            " - 1s - loss: 0.7044 - acc: 0.5208\n",
            "Epoch 41/50\n",
            " - 1s - loss: 0.7015 - acc: 0.5469\n",
            "Epoch 42/50\n",
            " - 1s - loss: 0.6987 - acc: 0.5052\n",
            "Epoch 43/50\n",
            " - 1s - loss: 0.6946 - acc: 0.5365\n",
            "Epoch 44/50\n",
            " - 1s - loss: 0.6804 - acc: 0.5625\n",
            "Epoch 45/50\n",
            " - 1s - loss: 0.6956 - acc: 0.5781\n",
            "Epoch 46/50\n",
            " - 1s - loss: 0.6957 - acc: 0.5156\n",
            "Epoch 47/50\n",
            " - 1s - loss: 0.6962 - acc: 0.5000\n",
            "Epoch 48/50\n",
            " - 1s - loss: 0.7080 - acc: 0.4688\n",
            "Epoch 49/50\n",
            " - 1s - loss: 0.7034 - acc: 0.4844\n",
            "Epoch 50/50\n",
            " - 1s - loss: 0.7228 - acc: 0.4375\n"
          ],
          "name": "stdout"
        },
        {
          "output_type": "execute_result",
          "data": {
            "text/plain": [
              "<keras.callbacks.History at 0x7fa114ddde80>"
            ]
          },
          "metadata": {
            "tags": []
          },
          "execution_count": 21
        }
      ]
    },
    {
      "metadata": {
        "id": "66uGM7aFojuN",
        "colab_type": "code",
        "colab": {}
      },
      "cell_type": "code",
      "source": [
        "model.save_weights('50_epochs_exemplo1.h5')"
      ],
      "execution_count": 0,
      "outputs": []
    },
    {
      "metadata": {
        "id": "71jZE6lXsmgW",
        "colab_type": "text"
      },
      "cell_type": "markdown",
      "source": [
        "\n",
        "\n",
        "---\n",
        "\n"
      ]
    },
    {
      "metadata": {
        "id": "T7nOK0TDr6Hc",
        "colab_type": "text"
      },
      "cell_type": "markdown",
      "source": [
        "### 2 tentativa"
      ]
    },
    {
      "metadata": {
        "colab_type": "code",
        "id": "2PSEo_Mzr8zK",
        "colab": {}
      },
      "cell_type": "code",
      "source": [
        "model = Sequential([\n",
        "    Conv2D(64, (3, 3), activation='relu', input_shape=(120, 120, 3)),\n",
        "    Conv2D(64, (3, 3), activation='relu'),\n",
        "    Dropout(0.2),\n",
        "    MaxPooling2D(pool_size=(2, 2)),\n",
        "   \n",
        "    Conv2D(32, (3, 3), activation='relu'),\n",
        "    Conv2D(32, (3, 3), activation='relu'),\n",
        "    Dropout(0.2),\n",
        "    MaxPooling2D(pool_size=(2, 2)),\n",
        "   \n",
        "    Conv2D(16, (3, 3), activation='relu'),\n",
        "    Conv2D(16, (3, 3), activation='relu'),\n",
        "    Dropout(0.2),\n",
        "    MaxPooling2D(pool_size=(2, 2)),\n",
        "   \n",
        "    Conv2D(8, (3, 3), activation='relu'),\n",
        "    Conv2D(8, (3, 3), activation='relu'),\n",
        "    Dropout(0.2),\n",
        "    MaxPooling2D(pool_size=(2, 2)),\n",
        "    \n",
        "    Flatten(),\n",
        "    Dense(512, activation='relu'),\n",
        "   \n",
        "    Dense(2, activation='softmax')\n",
        "]\n",
        ")"
      ],
      "execution_count": 0,
      "outputs": []
    },
    {
      "metadata": {
        "colab_type": "code",
        "id": "wTvCLywPr8zj",
        "colab": {}
      },
      "cell_type": "code",
      "source": [
        "model.compile(SGD(lr=0.01, momentum=0.0, decay=0.0, nesterov=False), \n",
        "              loss='categorical_crossentropy', metrics=['accuracy'])"
      ],
      "execution_count": 0,
      "outputs": []
    },
    {
      "metadata": {
        "colab_type": "code",
        "id": "tgrzA6A9r8zr",
        "colab": {}
      },
      "cell_type": "code",
      "source": [
        "stepsPerEpoche = len(train_batches)/bSize"
      ],
      "execution_count": 0,
      "outputs": []
    },
    {
      "metadata": {
        "colab_type": "code",
        "outputId": "0252835a-a60a-42e5-c6f1-16136a0d2917",
        "id": "T-qRa41or8zw",
        "colab": {
          "base_uri": "https://localhost:8080/",
          "height": 1872
        }
      },
      "cell_type": "code",
      "source": [
        "model.fit_generator(train_batches, steps_per_epoch=stepsPerEpoche, epochs=50, verbose=2)"
      ],
      "execution_count": 27,
      "outputs": [
        {
          "output_type": "stream",
          "text": [
            "Epoch 1/50\n",
            " - 2s - loss: 0.6931 - acc: 0.4948\n",
            "Epoch 2/50\n",
            " - 1s - loss: 0.6932 - acc: 0.4896\n",
            "Epoch 3/50\n",
            " - 1s - loss: 0.6932 - acc: 0.4792\n",
            "Epoch 4/50\n",
            " - 1s - loss: 0.6932 - acc: 0.5312\n",
            "Epoch 5/50\n",
            " - 1s - loss: 0.6929 - acc: 0.5052\n",
            "Epoch 6/50\n",
            " - 1s - loss: 0.6928 - acc: 0.5208\n",
            "Epoch 7/50\n",
            " - 1s - loss: 0.6924 - acc: 0.5104\n",
            "Epoch 8/50\n",
            " - 1s - loss: 0.6926 - acc: 0.5990\n",
            "Epoch 9/50\n",
            " - 1s - loss: 0.6923 - acc: 0.6302\n",
            "Epoch 10/50\n",
            " - 1s - loss: 0.6918 - acc: 0.5729\n",
            "Epoch 11/50\n",
            " - 1s - loss: 0.6919 - acc: 0.5000\n",
            "Epoch 12/50\n",
            " - 1s - loss: 0.6916 - acc: 0.5365\n",
            "Epoch 13/50\n",
            " - 1s - loss: 0.6905 - acc: 0.7500\n",
            "Epoch 14/50\n",
            " - 1s - loss: 0.6894 - acc: 0.5365\n",
            "Epoch 15/50\n",
            " - 1s - loss: 0.6884 - acc: 0.5625\n",
            "Epoch 16/50\n",
            " - 1s - loss: 0.6891 - acc: 0.4844\n",
            "Epoch 17/50\n",
            " - 1s - loss: 0.6862 - acc: 0.5781\n",
            "Epoch 18/50\n",
            " - 1s - loss: 0.6909 - acc: 0.4844\n",
            "Epoch 19/50\n",
            " - 1s - loss: 0.6891 - acc: 0.5260\n",
            "Epoch 20/50\n",
            " - 1s - loss: 0.6888 - acc: 0.6510\n",
            "Epoch 21/50\n",
            " - 1s - loss: 0.6846 - acc: 0.7500\n",
            "Epoch 22/50\n",
            " - 1s - loss: 0.6841 - acc: 0.7812\n",
            "Epoch 23/50\n",
            " - 1s - loss: 0.6838 - acc: 0.7917\n",
            "Epoch 24/50\n",
            " - 1s - loss: 0.6820 - acc: 0.8646\n",
            "Epoch 25/50\n",
            " - 1s - loss: 0.6810 - acc: 0.8385\n",
            "Epoch 26/50\n",
            " - 1s - loss: 0.6827 - acc: 0.7448\n",
            "Epoch 27/50\n",
            " - 1s - loss: 0.6786 - acc: 0.7917\n",
            "Epoch 28/50\n",
            " - 1s - loss: 0.6735 - acc: 0.8438\n",
            "Epoch 29/50\n",
            " - 1s - loss: 0.6693 - acc: 0.8854\n",
            "Epoch 30/50\n",
            " - 1s - loss: 0.6699 - acc: 0.8490\n",
            "Epoch 31/50\n",
            " - 1s - loss: 0.6752 - acc: 0.7135\n",
            "Epoch 32/50\n",
            " - 1s - loss: 0.6660 - acc: 0.7865\n",
            "Epoch 33/50\n",
            " - 1s - loss: 0.6639 - acc: 0.7604\n",
            "Epoch 34/50\n",
            " - 1s - loss: 0.6613 - acc: 0.7865\n",
            "Epoch 35/50\n",
            " - 1s - loss: 0.6480 - acc: 0.8542\n",
            "Epoch 36/50\n",
            " - 1s - loss: 0.6506 - acc: 0.7708\n",
            "Epoch 37/50\n",
            " - 1s - loss: 0.6356 - acc: 0.8125\n",
            "Epoch 38/50\n",
            " - 1s - loss: 0.6260 - acc: 0.7865\n",
            "Epoch 39/50\n",
            " - 1s - loss: 0.6424 - acc: 0.6771\n",
            "Epoch 40/50\n",
            " - 1s - loss: 0.6426 - acc: 0.6719\n",
            "Epoch 41/50\n",
            " - 1s - loss: 0.5948 - acc: 0.7969\n",
            "Epoch 42/50\n",
            " - 1s - loss: 0.6020 - acc: 0.6771\n",
            "Epoch 43/50\n",
            " - 1s - loss: 0.5594 - acc: 0.8021\n",
            "Epoch 44/50\n",
            " - 1s - loss: 0.6068 - acc: 0.6667\n",
            "Epoch 45/50\n",
            " - 1s - loss: 0.6879 - acc: 0.5260\n",
            "Epoch 46/50\n",
            " - 1s - loss: 0.5642 - acc: 0.7500\n",
            "Epoch 47/50\n",
            " - 1s - loss: 0.5817 - acc: 0.6979\n",
            "Epoch 48/50\n",
            " - 1s - loss: 0.6416 - acc: 0.6146\n",
            "Epoch 49/50\n",
            " - 1s - loss: 0.6166 - acc: 0.6562\n",
            "Epoch 50/50\n",
            " - 1s - loss: 0.4610 - acc: 0.8490\n"
          ],
          "name": "stdout"
        },
        {
          "output_type": "execute_result",
          "data": {
            "text/plain": [
              "<keras.callbacks.History at 0x7fa11c30bb70>"
            ]
          },
          "metadata": {
            "tags": []
          },
          "execution_count": 27
        }
      ]
    },
    {
      "metadata": {
        "colab_type": "code",
        "id": "8GqACIgyr8z4",
        "colab": {}
      },
      "cell_type": "code",
      "source": [
        "model.save_weights('50_epochs_exemplo1_2.h5')"
      ],
      "execution_count": 0,
      "outputs": []
    },
    {
      "metadata": {
        "id": "r7RpE8wBe4JQ",
        "colab_type": "text"
      },
      "cell_type": "markdown",
      "source": [
        "### 3 tentativa"
      ]
    },
    {
      "metadata": {
        "id": "3nTNgnrCe33x",
        "colab_type": "code",
        "colab": {}
      },
      "cell_type": "code",
      "source": [
        "model = Sequential()\n",
        "\n",
        "model.add(Conv2D(32, (3, 3), activation='relu', kernel_regularizer=l2(1e-4), \n",
        "                 input_shape=(None, None, X_train.shape[3])))\n",
        "model.add(BatchNormalization())\n",
        "model.add(Conv2D(32, (3, 3), activation='relu', kernel_regularizer=l2(1e-4)))\n",
        "model.add(BatchNormalization())\n",
        "model.add(MaxPooling2D((2, 2)))\n",
        "model.add(Dropout(0.25))\n",
        "\n",
        "model.add(Conv2D(64, (3, 3), activation='relu', kernel_regularizer=l2(1e-4)))\n",
        "model.add(BatchNormalization())\n",
        "model.add(Conv2D(64, (3, 3), activation='relu', kernel_regularizer=l2(1e-4)))\n",
        "model.add(BatchNormalization())\n",
        "model.add(MaxPooling2D((2, 2)))\n",
        "model.add(Dropout(0.25))\n",
        "\n",
        "model.add(Conv2D(128, (1,1), kernel_regularizer=l2(1e-4)))\n",
        "model.add(GlobalMaxPooling2D())\n",
        "\n",
        "model.add(Dense(256, activation='relu', kernel_regularizer=l2(1e-4)))\n",
        "model.add(Dropout(0.5))\n",
        "model.add(Dense(1, activation='sigmoid', kernel_regularizer=l2(1e-4)))\n",
        "\n",
        "model.summary()\n",
        "\n",
        "model.compile(optimizer='adam', loss='binary_crossentropy', metrics=['accuracy'])"
      ],
      "execution_count": 0,
      "outputs": []
    },
    {
      "metadata": {
        "id": "eDbaGUgHsnG4",
        "colab_type": "text"
      },
      "cell_type": "markdown",
      "source": [
        "## Implementação código do https://medium.com/@ksusorokina/image-classification-with-convolutional-neural-networks-496815db12a8"
      ]
    },
    {
      "metadata": {
        "id": "J4kzEpYms26N",
        "colab_type": "code",
        "colab": {}
      },
      "cell_type": "code",
      "source": [
        "model = Sequential()"
      ],
      "execution_count": 0,
      "outputs": []
    },
    {
      "metadata": {
        "id": "WYk_9bt-st1M",
        "colab_type": "code",
        "colab": {}
      },
      "cell_type": "code",
      "source": [
        "model.add(Conv2D(32, (3, 3), input_shape=(120, 120, 3)))\n",
        "model.add(Activation('relu'))\n",
        "model.add(MaxPooling2D(pool_size=(2, 2)))\n",
        "\n",
        "model.add(Conv2D(32, (3, 3)))\n",
        "model.add(Activation('relu'))\n",
        "model.add(MaxPooling2D(pool_size=(2, 2)))\n",
        "\n",
        "model.add(Conv2D(64, (3, 3)))\n",
        "model.add(Activation('relu'))\n",
        "model.add(MaxPooling2D(pool_size=(2, 2)))\n",
        "\n",
        "model.add(Flatten()) \n",
        "model.add(Dense(64))\n",
        "model.add(Activation('relu'))\n",
        "model.add(Dropout(0.5))\n",
        "model.add(Dense(2))\n",
        "model.add(Activation('sigmoid'))"
      ],
      "execution_count": 0,
      "outputs": []
    },
    {
      "metadata": {
        "id": "OO4636DEs9UO",
        "colab_type": "code",
        "colab": {}
      },
      "cell_type": "code",
      "source": [
        "model.compile(loss='binary_crossentropy',\n",
        "              optimizer='rmsprop',\n",
        "              metrics=['accuracy'])"
      ],
      "execution_count": 0,
      "outputs": []
    },
    {
      "metadata": {
        "id": "Ffeyo8GwtzF1",
        "colab_type": "text"
      },
      "cell_type": "markdown",
      "source": [
        "\n",
        "\n",
        "---\n",
        "\n"
      ]
    },
    {
      "metadata": {
        "colab_type": "code",
        "id": "kgi7lX9dt0Bg",
        "colab": {}
      },
      "cell_type": "code",
      "source": [
        "bSize = 16"
      ],
      "execution_count": 0,
      "outputs": []
    },
    {
      "metadata": {
        "colab_type": "code",
        "id": "tu6dqL_Rt0By",
        "colab": {}
      },
      "cell_type": "code",
      "source": [
        "datagen = ImageDataGenerator(rescale=1/255.)"
      ],
      "execution_count": 0,
      "outputs": []
    },
    {
      "metadata": {
        "colab_type": "code",
        "outputId": "8ee8c287-f3a3-4be5-f20e-504ae3c26de7",
        "id": "iSHrq_pat0B_",
        "colab": {
          "base_uri": "https://localhost:8080/",
          "height": 54
        }
      },
      "cell_type": "code",
      "source": [
        "train_batches = datagen.flow_from_directory(train_path, target_size=(120, 120), classes=['C', 'NC'], batch_size=bSize)\n",
        "test_batches = datagen.flow_from_directory(test_path, target_size=(120, 120), classes=['C', 'NC'], batch_size=bSize)"
      ],
      "execution_count": 9,
      "outputs": [
        {
          "output_type": "stream",
          "text": [
            "Found 5344 images belonging to 2 classes.\n",
            "Found 1336 images belonging to 2 classes.\n"
          ],
          "name": "stdout"
        }
      ]
    },
    {
      "metadata": {
        "colab_type": "code",
        "id": "DzcDkpRuulYK",
        "colab": {}
      },
      "cell_type": "code",
      "source": [
        "stepsPerEpoche = len(train_batches)/bSize"
      ],
      "execution_count": 0,
      "outputs": []
    },
    {
      "metadata": {
        "id": "QXSZi_83utgp",
        "colab_type": "code",
        "colab": {
          "base_uri": "https://localhost:8080/",
          "height": 954
        },
        "outputId": "71bec5ea-a08e-45a5-82e2-18222403dd7a"
      },
      "cell_type": "code",
      "source": [
        "model.fit_generator(train_batches, steps_per_epoch=stepsPerEpoche, \n",
        "                    epochs=25, verbose=2)\n"
      ],
      "execution_count": 11,
      "outputs": [
        {
          "output_type": "stream",
          "text": [
            "Epoch 1/25\n",
            " - 175s - loss: 0.7446 - acc: 0.5357\n",
            "Epoch 2/25\n",
            " - 165s - loss: 0.6525 - acc: 0.6473\n",
            "Epoch 3/25\n",
            " - 171s - loss: 0.5413 - acc: 0.7634\n",
            "Epoch 4/25\n",
            " - 163s - loss: 0.4807 - acc: 0.8185\n",
            "Epoch 5/25\n",
            " - 164s - loss: 0.3512 - acc: 0.8661\n",
            "Epoch 6/25\n",
            " - 154s - loss: 0.4099 - acc: 0.8482\n",
            "Epoch 7/25\n",
            " - 159s - loss: 0.3730 - acc: 0.8676\n",
            "Epoch 8/25\n",
            " - 156s - loss: 0.3657 - acc: 0.8527\n",
            "Epoch 9/25\n",
            " - 167s - loss: 0.3642 - acc: 0.8646\n",
            "Epoch 10/25\n",
            " - 157s - loss: 0.3688 - acc: 0.8631\n",
            "Epoch 11/25\n",
            " - 158s - loss: 0.2333 - acc: 0.9196\n",
            "Epoch 12/25\n",
            " - 165s - loss: 0.2734 - acc: 0.8810\n",
            "Epoch 13/25\n",
            " - 163s - loss: 0.3091 - acc: 0.9003\n",
            "Epoch 14/25\n",
            " - 161s - loss: 0.3166 - acc: 0.8973\n",
            "Epoch 15/25\n",
            " - 179s - loss: 0.2324 - acc: 0.9226\n",
            "Epoch 16/25\n",
            " - 149s - loss: 0.3429 - acc: 0.9018\n",
            "Epoch 17/25\n",
            " - 1s - loss: 0.2660 - acc: 0.9003\n",
            "Epoch 18/25\n",
            " - 1s - loss: 0.2177 - acc: 0.9226\n",
            "Epoch 19/25\n",
            " - 1s - loss: 0.2947 - acc: 0.9033\n",
            "Epoch 20/25\n",
            " - 1s - loss: 0.1697 - acc: 0.9360\n",
            "Epoch 21/25\n",
            " - 1s - loss: 0.2140 - acc: 0.9137\n",
            "Epoch 22/25\n",
            " - 1s - loss: 0.3118 - acc: 0.9122\n",
            "Epoch 23/25\n",
            " - 1s - loss: 0.1371 - acc: 0.9539\n",
            "Epoch 24/25\n",
            " - 1s - loss: 0.2866 - acc: 0.9077\n",
            "Epoch 25/25\n",
            " - 1s - loss: 0.2167 - acc: 0.9211\n"
          ],
          "name": "stdout"
        },
        {
          "output_type": "execute_result",
          "data": {
            "text/plain": [
              "<keras.callbacks.History at 0x7f124c48ddd8>"
            ]
          },
          "metadata": {
            "tags": []
          },
          "execution_count": 11
        }
      ]
    },
    {
      "metadata": {
        "id": "x-62f7kIyWdD",
        "colab_type": "code",
        "colab": {}
      },
      "cell_type": "code",
      "source": [
        "model.save_weights('25_epochs_exemplo2.h5')"
      ],
      "execution_count": 0,
      "outputs": []
    },
    {
      "metadata": {
        "id": "uGo-Y9ndH0HD",
        "colab_type": "code",
        "colab": {
          "base_uri": "https://localhost:8080/",
          "height": 1872
        },
        "outputId": "5b239bff-48f0-4496-8938-90b6eacf580a"
      },
      "cell_type": "code",
      "source": [
        "model.fit_generator(train_batches, steps_per_epoch=stepsPerEpoche, \n",
        "                    epochs=50, verbose=2)"
      ],
      "execution_count": 11,
      "outputs": [
        {
          "output_type": "stream",
          "text": [
            "Epoch 1/50\n",
            " - 2s - loss: 0.7353 - acc: 0.4940\n",
            "Epoch 2/50\n",
            " - 1s - loss: 0.6482 - acc: 0.6443\n",
            "Epoch 3/50\n",
            " - 1s - loss: 0.5639 - acc: 0.7693\n",
            "Epoch 4/50\n",
            " - 1s - loss: 0.5024 - acc: 0.7723\n",
            "Epoch 5/50\n",
            " - 1s - loss: 0.4525 - acc: 0.7812\n",
            "Epoch 6/50\n",
            " - 1s - loss: 0.3668 - acc: 0.8631\n",
            "Epoch 7/50\n",
            " - 1s - loss: 0.3639 - acc: 0.8646\n",
            "Epoch 8/50\n",
            " - 1s - loss: 0.3626 - acc: 0.8586\n",
            "Epoch 9/50\n",
            " - 1s - loss: 0.3493 - acc: 0.8527\n",
            "Epoch 10/50\n",
            " - 1s - loss: 0.2751 - acc: 0.8958\n",
            "Epoch 11/50\n",
            " - 1s - loss: 0.4273 - acc: 0.8646\n",
            "Epoch 12/50\n",
            " - 1s - loss: 0.3008 - acc: 0.9241\n",
            "Epoch 13/50\n",
            " - 1s - loss: 0.3326 - acc: 0.8795\n",
            "Epoch 14/50\n",
            " - 1s - loss: 0.2798 - acc: 0.8824\n",
            "Epoch 15/50\n",
            " - 1s - loss: 0.3081 - acc: 0.8899\n",
            "Epoch 16/50\n",
            " - 1s - loss: 0.3306 - acc: 0.8914\n",
            "Epoch 17/50\n",
            " - 1s - loss: 0.3057 - acc: 0.8810\n",
            "Epoch 18/50\n",
            " - 1s - loss: 0.2491 - acc: 0.9226\n",
            "Epoch 19/50\n",
            " - 1s - loss: 0.2335 - acc: 0.9301\n",
            "Epoch 20/50\n",
            " - 1s - loss: 0.3320 - acc: 0.9077\n",
            "Epoch 21/50\n",
            " - 1s - loss: 0.2576 - acc: 0.9167\n",
            "Epoch 22/50\n",
            " - 1s - loss: 0.2542 - acc: 0.9226\n",
            "Epoch 23/50\n",
            " - 1s - loss: 0.2538 - acc: 0.9152\n",
            "Epoch 24/50\n",
            " - 1s - loss: 0.2006 - acc: 0.9301\n",
            "Epoch 25/50\n",
            " - 1s - loss: 0.2526 - acc: 0.9286\n",
            "Epoch 26/50\n",
            " - 1s - loss: 0.1841 - acc: 0.9420\n",
            "Epoch 27/50\n",
            " - 1s - loss: 0.1776 - acc: 0.9449\n",
            "Epoch 28/50\n",
            " - 1s - loss: 0.2435 - acc: 0.9286\n",
            "Epoch 29/50\n",
            " - 1s - loss: 0.2152 - acc: 0.9301\n",
            "Epoch 30/50\n",
            " - 1s - loss: 0.2119 - acc: 0.9330\n",
            "Epoch 31/50\n",
            " - 1s - loss: 0.2390 - acc: 0.9167\n",
            "Epoch 32/50\n",
            " - 1s - loss: 0.2404 - acc: 0.9033\n",
            "Epoch 33/50\n",
            " - 1s - loss: 0.1586 - acc: 0.9479\n",
            "Epoch 34/50\n",
            " - 1s - loss: 0.1678 - acc: 0.9494\n",
            "Epoch 35/50\n",
            " - 1s - loss: 0.2015 - acc: 0.9301\n",
            "Epoch 36/50\n",
            " - 1s - loss: 0.2238 - acc: 0.9390\n",
            "Epoch 37/50\n",
            " - 1s - loss: 0.2243 - acc: 0.9286\n",
            "Epoch 38/50\n",
            " - 1s - loss: 0.1819 - acc: 0.9420\n",
            "Epoch 39/50\n",
            " - 1s - loss: 0.1811 - acc: 0.9375\n",
            "Epoch 40/50\n",
            " - 1s - loss: 0.2420 - acc: 0.9152\n",
            "Epoch 41/50\n",
            " - 1s - loss: 0.2278 - acc: 0.9241\n",
            "Epoch 42/50\n",
            " - 1s - loss: 0.2116 - acc: 0.9435\n",
            "Epoch 43/50\n",
            " - 1s - loss: 0.2600 - acc: 0.9271\n",
            "Epoch 44/50\n",
            " - 1s - loss: 0.2057 - acc: 0.9226\n",
            "Epoch 45/50\n",
            " - 1s - loss: 0.1665 - acc: 0.9360\n",
            "Epoch 46/50\n",
            " - 1s - loss: 0.2349 - acc: 0.9182\n",
            "Epoch 47/50\n",
            " - 1s - loss: 0.2218 - acc: 0.9256\n",
            "Epoch 48/50\n",
            " - 1s - loss: 0.1650 - acc: 0.9256\n",
            "Epoch 49/50\n",
            " - 1s - loss: 0.1958 - acc: 0.9420\n",
            "Epoch 50/50\n",
            " - 1s - loss: 0.1854 - acc: 0.9435\n"
          ],
          "name": "stdout"
        },
        {
          "output_type": "execute_result",
          "data": {
            "text/plain": [
              "<keras.callbacks.History at 0x7fe0a48a1860>"
            ]
          },
          "metadata": {
            "tags": []
          },
          "execution_count": 11
        }
      ]
    },
    {
      "metadata": {
        "id": "WwHPhgxHH2Fi",
        "colab_type": "code",
        "colab": {}
      },
      "cell_type": "code",
      "source": [
        "model.save_weights('50_epochs_exemplo2.h5')"
      ],
      "execution_count": 0,
      "outputs": []
    }
  ]
}