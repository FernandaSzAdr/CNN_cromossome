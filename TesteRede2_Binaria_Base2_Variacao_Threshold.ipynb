{
  "nbformat": 4,
  "nbformat_minor": 0,
  "metadata": {
    "colab": {
      "name": "TesteRede2_Binaria_Base2_Variacao_Threshold.ipynb",
      "version": "0.3.2",
      "provenance": [],
      "include_colab_link": true
    },
    "kernelspec": {
      "name": "python3",
      "display_name": "Python 3"
    },
    "accelerator": "GPU"
  },
  "cells": [
    {
      "cell_type": "markdown",
      "metadata": {
        "id": "view-in-github",
        "colab_type": "text"
      },
      "source": [
        "<a href=\"https://colab.research.google.com/github/FernandaSzAdr/KNN_cromossome/blob/master/TesteRede2_Binaria_Base2_Variacao_Threshold.ipynb\" target=\"_parent\"><img src=\"https://colab.research.google.com/assets/colab-badge.svg\" alt=\"Open In Colab\"/></a>"
      ]
    },
    {
      "metadata": {
        "id": "xN-oUTtcif3Q",
        "colab_type": "code",
        "outputId": "c543486e-d35f-42cc-cacf-45cc7cc6d445",
        "colab": {
          "base_uri": "https://localhost:8080/",
          "height": 129
        }
      },
      "cell_type": "code",
      "source": [
        "# Load the Drive helper and mount\n",
        "from google.colab import drive\n",
        "\n",
        "# This will prompt for authorization.\n",
        "drive.mount('/content/drive/')"
      ],
      "execution_count": 1,
      "outputs": [
        {
          "output_type": "stream",
          "text": [
            "Go to this URL in a browser: https://accounts.google.com/o/oauth2/auth?client_id=947318989803-6bn6qk8qdgf4n4g3pfee6491hc0brc4i.apps.googleusercontent.com&redirect_uri=urn%3Aietf%3Awg%3Aoauth%3A2.0%3Aoob&scope=email%20https%3A%2F%2Fwww.googleapis.com%2Fauth%2Fdocs.test%20https%3A%2F%2Fwww.googleapis.com%2Fauth%2Fdrive%20https%3A%2F%2Fwww.googleapis.com%2Fauth%2Fdrive.photos.readonly%20https%3A%2F%2Fwww.googleapis.com%2Fauth%2Fpeopleapi.readonly&response_type=code\n",
            "\n",
            "Enter your authorization code:\n",
            "··········\n",
            "Mounted at /content/drive/\n"
          ],
          "name": "stdout"
        }
      ]
    },
    {
      "metadata": {
        "id": "gzcuEGSklnwS",
        "colab_type": "code",
        "outputId": "56555f00-aec6-4aa8-ce37-9da7c4fb7323",
        "colab": {
          "base_uri": "https://localhost:8080/",
          "height": 54
        }
      },
      "cell_type": "code",
      "source": [
        "import os\n",
        "import cv2\n",
        "import csv\n",
        "!pip install imutils\n",
        "import imutils\n",
        "from skimage import transform\n",
        "import numpy as np\n",
        "import keras\n",
        "from keras import backend as K\n",
        "from keras.models import Sequential\n",
        "from keras.layers import Activation\n",
        "from keras.optimizers import SGD\n",
        "from keras.layers.core import Dense, Flatten, Dropout\n",
        "from keras.preprocessing.image import ImageDataGenerator\n",
        "from keras.layers.normalization import BatchNormalization\n",
        "from keras.layers.convolutional import *\n",
        "from keras.callbacks import ModelCheckpoint\n",
        "from matplotlib import pyplot as plt\n",
        "from sklearn.metrics import confusion_matrix\n",
        "from sklearn.metrics import precision_score, recall_score\n",
        "import itertools\n",
        "import matplotlib.pyplot as plt"
      ],
      "execution_count": 2,
      "outputs": [
        {
          "output_type": "stream",
          "text": [
            "Requirement already satisfied: imutils in /usr/local/lib/python3.6/dist-packages (0.5.2)\n"
          ],
          "name": "stdout"
        },
        {
          "output_type": "stream",
          "text": [
            "Using TensorFlow backend.\n"
          ],
          "name": "stderr"
        }
      ]
    },
    {
      "metadata": {
        "id": "1o2obGj_F7TE",
        "colab_type": "text"
      },
      "cell_type": "markdown",
      "source": [
        "## Funções"
      ]
    },
    {
      "metadata": {
        "id": "4ecC5JHA2ojc",
        "colab_type": "text"
      },
      "cell_type": "markdown",
      "source": [
        "https://www.kaggle.com/questions-and-answers/39659"
      ]
    },
    {
      "metadata": {
        "id": "j47_0ZpvwM2H",
        "colab_type": "code",
        "colab": {}
      },
      "cell_type": "code",
      "source": [
        "def plot_prec_recall_vs_tresh(precisions, recalls, thresholds):\n",
        "    plt.plot(precisions[:-1], 'b--', label='precision')\n",
        "    plt.plot(recalls[:-1], 'g--', label = 'recall')\n",
        "    plt.xlabel('Threshold')\n",
        "    plt.legend(loc='upper left')\n",
        "    plt.ylim(thresholds)"
      ],
      "execution_count": 0,
      "outputs": []
    },
    {
      "metadata": {
        "id": "dDXFcAQ72p_e",
        "colab_type": "text"
      },
      "cell_type": "markdown",
      "source": [
        "\n",
        "\n",
        "---\n",
        "\n"
      ]
    },
    {
      "metadata": {
        "id": "e835RSQgEgA6",
        "colab_type": "code",
        "colab": {}
      },
      "cell_type": "code",
      "source": [
        "def converte(regiao):\n",
        "   regiao = np.array(regiao).astype('float32')/255\n",
        "   regiao = transform.resize(regiao, (120, 120, 3))\n",
        "   regiao = np.expand_dims(regiao, axis=0)\n",
        "   return regiao\n"
      ],
      "execution_count": 0,
      "outputs": []
    },
    {
      "metadata": {
        "id": "9ERJTQ3AgFJb",
        "colab_type": "code",
        "colab": {}
      },
      "cell_type": "code",
      "source": [
        "def ler_images_teste(architecture):\n",
        "  precision = []\n",
        "  recall = []\n",
        "  \n",
        "  images_test = os.listdir(test_path)\n",
        "  local = 'drive/My Drive/Resultado3/Segmentado/Resultado_Image/' + architecture\n",
        "  if os.path.isdir(local) == False:\n",
        "    os.mkdir(local)\n",
        "      \n",
        "  thresholds = np.arange(0.1, 1.0, 0.03)\n",
        "  for threshold in thresholds: \n",
        "    local = 'drive/My Drive/Resultado3/Segmentado/Resultado_Image/' + architecture + '/Threshold-' + str(threshold)\n",
        "    if os.path.isdir(local) == False:\n",
        "      os.mkdir(local)\n",
        "      \n",
        "    y_true = []\n",
        "    y_predict = []\n",
        "    \n",
        "    for img in images_test:\n",
        "      # Pega cada imagem separadamente do folder de teste\n",
        "      image = cv2.imread(test_path + '/' + img)\n",
        "      f = open('drive/My Drive/Base_CNN/Binarizado2/posicoes_segmentada.csv', 'r')\n",
        "\n",
        "      copia = image.copy()\n",
        "\n",
        "      try:\n",
        "        leitor = csv.reader(f)\n",
        "        leitor = list(leitor)\n",
        "        leitor.pop(0)\n",
        "        for linha in leitor:\n",
        "          if len(linha) > 0:\n",
        "            # Para cada região dessa imagem:\n",
        "            if linha[0] == img:\n",
        "              posicoes = []\n",
        "              x = int(linha[3])\n",
        "              y = int(linha[4])\n",
        "              w = int(linha[5])\n",
        "              h = int(linha[6])\n",
        "\n",
        "              # Label da região\n",
        "              label = linha[1]\n",
        "              if label == 'NC':\n",
        "                y_true.append(0)\n",
        "              else:\n",
        "                y_true.append(1)\n",
        "\n",
        "              # Região\n",
        "              regiao = image[y: y + h, x: x + w]\n",
        "              regiao = converte(regiao)\n",
        "\n",
        "              # Coloca a região na função e obtem o resultado\n",
        "              predicao = model.predict(regiao,batch_size=bSize,verbose=0)\n",
        "\n",
        "              # Se é um cromossomo:\n",
        "              if predicao[0][1] > threshold:\n",
        "                y_predict.append(1)\n",
        "                cv2.rectangle(copia,(x, y),(x+w, y+h),(0,0,255), 1)\n",
        "              # Se não for um cromossomo:\n",
        "              else:\n",
        "                y_predict.append(0)\n",
        "                cv2.rectangle(copia,(x, y),(x+w, y+h),(0,255,0), 1)\n",
        "\n",
        "      finally:\n",
        "        f.close()\n",
        "\n",
        "      cv2.imwrite(local + '/' + img, copia)\n",
        "      \n",
        "    precision.append(precision_score(y_true, y_predict, average='binary'))\n",
        "    recall.append(recall_score(y_true, y_predict, average='binary'))\n",
        "    \n",
        "    print('Threshold: {}  Precision: {}  Recall: {}'.format(threshold, precision[-1], recall[-1]))\n",
        "  return precision, recall, thresholds\n"
      ],
      "execution_count": 0,
      "outputs": []
    },
    {
      "metadata": {
        "id": "WlPBqB_v3x2A",
        "colab_type": "text"
      },
      "cell_type": "markdown",
      "source": [
        "\n",
        "\n",
        "---\n",
        "\n"
      ]
    },
    {
      "metadata": {
        "id": "8KTtm8K7qg1n",
        "colab_type": "text"
      },
      "cell_type": "markdown",
      "source": [
        "# Implementação"
      ]
    },
    {
      "metadata": {
        "id": "ZNfohSUpo1n0",
        "colab_type": "text"
      },
      "cell_type": "markdown",
      "source": [
        "\n",
        "\n",
        "*   Batch size = 32\n",
        "*   Image size = 120x120\n",
        "\n"
      ]
    },
    {
      "metadata": {
        "id": "AUzRQ1CrBDKE",
        "colab_type": "text"
      },
      "cell_type": "markdown",
      "source": [
        "## Variaveis globais"
      ]
    },
    {
      "metadata": {
        "colab_type": "text",
        "id": "Vc-_Lcq7GEqt"
      },
      "cell_type": "markdown",
      "source": [
        "\n",
        "\n",
        "*   Batch size = 32\n",
        "*   Image size = 120x120\n",
        "\n"
      ]
    },
    {
      "metadata": {
        "id": "ITtEfxrilym7",
        "colab_type": "code",
        "colab": {}
      },
      "cell_type": "code",
      "source": [
        "train_path = 'drive/My Drive/Base_CNN/Binarizado2/Train'\n",
        "test_path = 'drive/My Drive/Base_CNN/Binarizado2/Test'\n",
        "validation_path = 'drive/My Drive/Base_CNN/Binarizado2/Validation'"
      ],
      "execution_count": 0,
      "outputs": []
    },
    {
      "metadata": {
        "id": "_TFWtLbQ2fUI",
        "colab_type": "code",
        "colab": {}
      },
      "cell_type": "code",
      "source": [
        "results = {}"
      ],
      "execution_count": 0,
      "outputs": []
    },
    {
      "metadata": {
        "id": "W3zmFDRmnYem",
        "colab_type": "code",
        "colab": {}
      },
      "cell_type": "code",
      "source": [
        "bSize = 32"
      ],
      "execution_count": 0,
      "outputs": []
    },
    {
      "metadata": {
        "id": "dCNH0jPl3WTV",
        "colab_type": "code",
        "colab": {}
      },
      "cell_type": "code",
      "source": [
        "datagen = ImageDataGenerator(rescale=1/255.)"
      ],
      "execution_count": 0,
      "outputs": []
    },
    {
      "metadata": {
        "id": "YiMXe23Vmbo-",
        "colab_type": "code",
        "outputId": "e16ed050-faef-48a3-b68b-3a4826f96e69",
        "colab": {
          "base_uri": "https://localhost:8080/",
          "height": 0
        }
      },
      "cell_type": "code",
      "source": [
        "train_batches = datagen.flow_from_directory(train_path, target_size=(120, 120), \n",
        "                                            classes=['NC', 'C'], \n",
        "                                            batch_size=bSize)\n",
        "validation_batches = datagen.flow_from_directory(validation_path, \n",
        "                                                 target_size=(120, 120), \n",
        "                                                 classes=['NC', 'C'], \n",
        "                                                 batch_size=bSize)"
      ],
      "execution_count": 10,
      "outputs": [
        {
          "output_type": "stream",
          "text": [
            "Found 5675 images belonging to 2 classes.\n",
            "Found 1509 images belonging to 2 classes.\n"
          ],
          "name": "stdout"
        }
      ]
    },
    {
      "metadata": {
        "id": "vE-dZtSv5mde",
        "colab_type": "code",
        "colab": {}
      },
      "cell_type": "code",
      "source": [
        "stepsPerEpoche = len(train_batches)/bSize\n",
        "validationSteps = len(validation_batches)/bSize"
      ],
      "execution_count": 0,
      "outputs": []
    },
    {
      "metadata": {
        "id": "pOQMFxK5VUPa",
        "colab_type": "code",
        "outputId": "bc454070-a04e-4b2e-ca81-287fd862afd1",
        "colab": {
          "base_uri": "https://localhost:8080/",
          "height": 0
        }
      },
      "cell_type": "code",
      "source": [
        "train_batches.class_indices"
      ],
      "execution_count": 12,
      "outputs": [
        {
          "output_type": "execute_result",
          "data": {
            "text/plain": [
              "{'C': 1, 'NC': 0}"
            ]
          },
          "metadata": {
            "tags": []
          },
          "execution_count": 12
        }
      ]
    },
    {
      "metadata": {
        "colab_type": "text",
        "id": "S9IcYhWBGErq"
      },
      "cell_type": "markdown",
      "source": [
        "\n",
        "\n",
        "---\n",
        "\n"
      ]
    },
    {
      "metadata": {
        "id": "wH56YdE5rlnU",
        "colab_type": "text"
      },
      "cell_type": "markdown",
      "source": [
        "## 1 tentativa"
      ]
    },
    {
      "metadata": {
        "id": "NBCIFVOlompR",
        "colab_type": "text"
      },
      "cell_type": "markdown",
      "source": [
        "**Descrição**\n",
        "\n",
        "\n",
        "*   Modelo descrito no artigo \"Crowdsourcing for Chromosome Segmentation and Deep Classification\"\n",
        "\n"
      ]
    },
    {
      "metadata": {
        "id": "iclhpyXmi_DU",
        "colab_type": "code",
        "colab": {}
      },
      "cell_type": "code",
      "source": [
        "architecture = 'architecture_1'"
      ],
      "execution_count": 0,
      "outputs": []
    },
    {
      "metadata": {
        "id": "IU71NY-9AzSi",
        "colab_type": "text"
      },
      "cell_type": "markdown",
      "source": [
        "### Modelo"
      ]
    },
    {
      "metadata": {
        "id": "rNosdG-ioNYU",
        "colab_type": "code",
        "colab": {}
      },
      "cell_type": "code",
      "source": [
        "model = Sequential([\n",
        "    Conv2D(64, (3, 3), activation='relu', input_shape=(120, 120, 3)),\n",
        "    Conv2D(64, (3, 3), activation='relu'),\n",
        "    Dropout(0.2),\n",
        "    MaxPooling2D(pool_size=(2, 2)),\n",
        "   \n",
        "    Conv2D(32, (3, 3), activation='relu'),\n",
        "    Conv2D(32, (3, 3), activation='relu'),\n",
        "    Dropout(0.2),\n",
        "    MaxPooling2D(pool_size=(2, 2)),\n",
        "   \n",
        "    Conv2D(16, (3, 3), activation='relu'),\n",
        "    Conv2D(16, (3, 3), activation='relu'),\n",
        "    Dropout(0.2),\n",
        "    MaxPooling2D(pool_size=(2, 2)),\n",
        "   \n",
        "    Conv2D(8, (3, 3), activation='relu'),\n",
        "    Conv2D(8, (3, 3), activation='relu'),\n",
        "    Dropout(0.2),\n",
        "    MaxPooling2D(pool_size=(2, 2)),\n",
        "    \n",
        "    Flatten(),\n",
        "    Dense(1024, activation='sigmoid'),\n",
        "    Dense(512, activation='sigmoid'),\n",
        "   \n",
        "    Dense(2, activation='softmax')\n",
        "]\n",
        ")"
      ],
      "execution_count": 0,
      "outputs": []
    },
    {
      "metadata": {
        "id": "UBqwdK2Bxagj",
        "colab_type": "code",
        "colab": {}
      },
      "cell_type": "code",
      "source": [
        "model.compile(SGD(lr=0.01, momentum=0.0, decay=0.0, nesterov=False), \n",
        "              loss='binary_crossentropy', metrics=['accuracy'])"
      ],
      "execution_count": 0,
      "outputs": []
    },
    {
      "metadata": {
        "colab_type": "code",
        "id": "7tu3fxiXvxE-",
        "colab": {}
      },
      "cell_type": "code",
      "source": [
        "model.load_weights('drive/My Drive/Resultado/Segmentado/weights_' + architecture + '.hdf5')"
      ],
      "execution_count": 0,
      "outputs": []
    },
    {
      "metadata": {
        "colab_type": "text",
        "id": "osGwhknAvxFM"
      },
      "cell_type": "markdown",
      "source": [
        "### Teste"
      ]
    },
    {
      "metadata": {
        "colab_type": "code",
        "id": "pDyJD5INvxFR",
        "colab": {
          "base_uri": "https://localhost:8080/",
          "height": 660
        },
        "outputId": "8cbdb8f3-3e78-42a6-c7bd-ad5b07d08766"
      },
      "cell_type": "code",
      "source": [
        "precision, recall, thresholds = ler_images_teste(architecture)"
      ],
      "execution_count": 17,
      "outputs": [
        {
          "output_type": "stream",
          "text": [
            "/usr/local/lib/python3.6/dist-packages/skimage/transform/_warps.py:84: UserWarning: The default mode, 'constant', will be changed to 'reflect' in skimage 0.15.\n",
            "  warn(\"The default mode, 'constant', will be changed to 'reflect' in \"\n"
          ],
          "name": "stderr"
        },
        {
          "output_type": "stream",
          "text": [
            "Threshold: 0.1  Precision: 0.19641772920461445  Recall: 1.0\n",
            "Threshold: 0.13  Precision: 0.19641772920461445  Recall: 1.0\n",
            "Threshold: 0.16  Precision: 0.19641772920461445  Recall: 1.0\n",
            "Threshold: 0.19  Precision: 0.19641772920461445  Recall: 1.0\n",
            "Threshold: 0.22  Precision: 0.19641772920461445  Recall: 1.0\n",
            "Threshold: 0.25  Precision: 0.19641772920461445  Recall: 1.0\n",
            "Threshold: 0.28  Precision: 0.19641772920461445  Recall: 1.0\n",
            "Threshold: 0.31  Precision: 0.19641772920461445  Recall: 1.0\n",
            "Threshold: 0.33999999999999997  Precision: 0.19641772920461445  Recall: 1.0\n",
            "Threshold: 0.37  Precision: 0.19641772920461445  Recall: 1.0\n"
          ],
          "name": "stdout"
        },
        {
          "output_type": "stream",
          "text": [
            "/usr/local/lib/python3.6/dist-packages/sklearn/metrics/classification.py:1143: UndefinedMetricWarning: Precision is ill-defined and being set to 0.0 due to no predicted samples.\n",
            "  'precision', 'predicted', average, warn_for)\n"
          ],
          "name": "stderr"
        },
        {
          "output_type": "stream",
          "text": [
            "Threshold: 0.4  Precision: 0.0  Recall: 0.0\n",
            "Threshold: 0.42999999999999994  Precision: 0.0  Recall: 0.0\n",
            "Threshold: 0.45999999999999996  Precision: 0.0  Recall: 0.0\n",
            "Threshold: 0.49  Precision: 0.0  Recall: 0.0\n",
            "Threshold: 0.52  Precision: 0.0  Recall: 0.0\n",
            "Threshold: 0.5499999999999999  Precision: 0.0  Recall: 0.0\n",
            "Threshold: 0.58  Precision: 0.0  Recall: 0.0\n",
            "Threshold: 0.61  Precision: 0.0  Recall: 0.0\n",
            "Threshold: 0.64  Precision: 0.0  Recall: 0.0\n",
            "Threshold: 0.6699999999999999  Precision: 0.0  Recall: 0.0\n",
            "Threshold: 0.7  Precision: 0.0  Recall: 0.0\n",
            "Threshold: 0.73  Precision: 0.0  Recall: 0.0\n",
            "Threshold: 0.7599999999999999  Precision: 0.0  Recall: 0.0\n",
            "Threshold: 0.7899999999999999  Precision: 0.0  Recall: 0.0\n",
            "Threshold: 0.82  Precision: 0.0  Recall: 0.0\n",
            "Threshold: 0.85  Precision: 0.0  Recall: 0.0\n",
            "Threshold: 0.88  Precision: 0.0  Recall: 0.0\n",
            "Threshold: 0.9099999999999999  Precision: 0.0  Recall: 0.0\n",
            "Threshold: 0.94  Precision: 0.0  Recall: 0.0\n",
            "Threshold: 0.97  Precision: 0.0  Recall: 0.0\n",
            "Threshold: 0.9999999999999999  Precision: 0.0  Recall: 0.0\n"
          ],
          "name": "stdout"
        }
      ]
    },
    {
      "metadata": {
        "colab_type": "code",
        "id": "Cg_4Uwo7vxFY",
        "colab": {}
      },
      "cell_type": "code",
      "source": [
        "precision = np.array(precision)\n",
        "recall = np.array(recall)"
      ],
      "execution_count": 0,
      "outputs": []
    },
    {
      "metadata": {
        "colab_type": "code",
        "id": "Lgq1YWuevxFh",
        "colab": {
          "base_uri": "https://localhost:8080/",
          "height": 363
        },
        "outputId": "ed769f77-87f2-461d-b04e-44cb76c8c665"
      },
      "cell_type": "code",
      "source": [
        "plt.style.use(\"ggplot\")\n",
        "plt.figure()\n",
        "plt.plot(thresholds, precision, 'b--', label='Precision')\n",
        "plt.plot(thresholds, recall, 'r--', label='Recall')\n",
        "plt.xlabel('Threshold')\n",
        "plt.xlim([0.09, 1.01])\n",
        "plt.ylabel('Precision vs Recall')\n",
        "plt.legend()\n",
        "plt.savefig('drive/My Drive/Resultado/Segmentado/Resultado_Image/' + architecture + '/' + architecture + '_PrecisionVSRecall.png', bbox_inches='tight')"
      ],
      "execution_count": 20,
      "outputs": [
        {
          "output_type": "display_data",
          "data": {
            "image/png": "[encoded data removed]",
            "text/plain": [
              "<matplotlib.figure.Figure at 0x7ff74a022320>"
            ]
          },
          "metadata": {
            "tags": []
          }
        }
      ]
    },
    {
      "metadata": {
        "id": "T7nOK0TDr6Hc",
        "colab_type": "text"
      },
      "cell_type": "markdown",
      "source": [
        "## 2 tentativa"
      ]
    },
    {
      "metadata": {
        "colab_type": "text",
        "id": "-DJtvxKNp9sb"
      },
      "cell_type": "markdown",
      "source": [
        "**Descrição**\n",
        "\n",
        "\n",
        "*   Modelo descrito no artigo \"Crowdsourcing for Chromosome Segmentation and Deep Classification\"\n",
        "*   Alteração nas duas ultimas camadas Dense\n",
        "\n",
        "\n",
        "\n"
      ]
    },
    {
      "metadata": {
        "colab_type": "code",
        "id": "B1aiec4IjnND",
        "colab": {}
      },
      "cell_type": "code",
      "source": [
        "architecture = 'architecture_2'"
      ],
      "execution_count": 0,
      "outputs": []
    },
    {
      "metadata": {
        "id": "fAPG077EDA_b",
        "colab_type": "text"
      },
      "cell_type": "markdown",
      "source": [
        "### Modelo"
      ]
    },
    {
      "metadata": {
        "colab_type": "code",
        "id": "2PSEo_Mzr8zK",
        "colab": {}
      },
      "cell_type": "code",
      "source": [
        "model = Sequential([\n",
        "    Conv2D(64, (3, 3), activation='relu', input_shape=(120, 120, 3)),\n",
        "    Conv2D(64, (3, 3), activation='relu'),\n",
        "    Dropout(0.2),\n",
        "    MaxPooling2D(pool_size=(2, 2)),\n",
        "   \n",
        "    Conv2D(32, (3, 3), activation='relu'),\n",
        "    Conv2D(32, (3, 3), activation='relu'),\n",
        "    Dropout(0.2),\n",
        "    MaxPooling2D(pool_size=(2, 2)),\n",
        "   \n",
        "    Conv2D(16, (3, 3), activation='relu'),\n",
        "    Conv2D(16, (3, 3), activation='relu'),\n",
        "    Dropout(0.2),\n",
        "    MaxPooling2D(pool_size=(2, 2)),\n",
        "   \n",
        "    Conv2D(8, (3, 3), activation='relu'),\n",
        "    Conv2D(8, (3, 3), activation='relu'),\n",
        "    Dropout(0.2),\n",
        "    MaxPooling2D(pool_size=(2, 2)),\n",
        "    \n",
        "    Flatten(),\n",
        "    Dense(512, activation='relu'),\n",
        "   \n",
        "    Dense(2, activation='softmax')\n",
        "]\n",
        ")"
      ],
      "execution_count": 0,
      "outputs": []
    },
    {
      "metadata": {
        "colab_type": "code",
        "id": "wTvCLywPr8zj",
        "colab": {}
      },
      "cell_type": "code",
      "source": [
        "model.compile(SGD(lr=0.01, momentum=0.0, decay=0.0, nesterov=False), \n",
        "              loss='binary_crossentropy', metrics=['accuracy'])"
      ],
      "execution_count": 0,
      "outputs": []
    },
    {
      "metadata": {
        "colab_type": "code",
        "id": "6cXzugCxvu7t",
        "colab": {}
      },
      "cell_type": "code",
      "source": [
        "model.load_weights('drive/My Drive/Resultado/Segmentado/weights_' + architecture + '.hdf5')"
      ],
      "execution_count": 0,
      "outputs": []
    },
    {
      "metadata": {
        "colab_type": "text",
        "id": "ewTWd_0Wvu76"
      },
      "cell_type": "markdown",
      "source": [
        "### Teste"
      ]
    },
    {
      "metadata": {
        "colab_type": "code",
        "id": "4uA6M-0Cvu7-",
        "colab": {
          "base_uri": "https://localhost:8080/",
          "height": 660
        },
        "outputId": "92b5e68a-4c70-4fca-df8e-c8b25ba5e217"
      },
      "cell_type": "code",
      "source": [
        "precision, recall, thresholds = ler_images_teste(architecture)"
      ],
      "execution_count": 25,
      "outputs": [
        {
          "output_type": "stream",
          "text": [
            "/usr/local/lib/python3.6/dist-packages/skimage/transform/_warps.py:84: UserWarning: The default mode, 'constant', will be changed to 'reflect' in skimage 0.15.\n",
            "  warn(\"The default mode, 'constant', will be changed to 'reflect' in \"\n"
          ],
          "name": "stderr"
        },
        {
          "output_type": "stream",
          "text": [
            "Threshold: 0.1  Precision: 0.19641772920461445  Recall: 1.0\n",
            "Threshold: 0.13  Precision: 0.19641772920461445  Recall: 1.0\n",
            "Threshold: 0.16  Precision: 0.19641772920461445  Recall: 1.0\n",
            "Threshold: 0.19  Precision: 0.19641772920461445  Recall: 1.0\n",
            "Threshold: 0.22  Precision: 0.19641772920461445  Recall: 1.0\n",
            "Threshold: 0.25  Precision: 0.19641772920461445  Recall: 1.0\n",
            "Threshold: 0.28  Precision: 0.19641772920461445  Recall: 1.0\n",
            "Threshold: 0.31  Precision: 0.19641772920461445  Recall: 1.0\n",
            "Threshold: 0.33999999999999997  Precision: 0.19641772920461445  Recall: 1.0\n",
            "Threshold: 0.37  Precision: 0.19641772920461445  Recall: 1.0\n",
            "Threshold: 0.4  Precision: 0.17216494845360825  Recall: 0.7743431221020093\n"
          ],
          "name": "stdout"
        },
        {
          "output_type": "stream",
          "text": [
            "/usr/local/lib/python3.6/dist-packages/sklearn/metrics/classification.py:1143: UndefinedMetricWarning: Precision is ill-defined and being set to 0.0 due to no predicted samples.\n",
            "  'precision', 'predicted', average, warn_for)\n"
          ],
          "name": "stderr"
        },
        {
          "output_type": "stream",
          "text": [
            "Threshold: 0.42999999999999994  Precision: 0.0  Recall: 0.0\n",
            "Threshold: 0.45999999999999996  Precision: 0.0  Recall: 0.0\n",
            "Threshold: 0.49  Precision: 0.0  Recall: 0.0\n",
            "Threshold: 0.52  Precision: 0.0  Recall: 0.0\n",
            "Threshold: 0.5499999999999999  Precision: 0.0  Recall: 0.0\n",
            "Threshold: 0.58  Precision: 0.0  Recall: 0.0\n",
            "Threshold: 0.61  Precision: 0.0  Recall: 0.0\n",
            "Threshold: 0.64  Precision: 0.0  Recall: 0.0\n",
            "Threshold: 0.6699999999999999  Precision: 0.0  Recall: 0.0\n",
            "Threshold: 0.7  Precision: 0.0  Recall: 0.0\n",
            "Threshold: 0.73  Precision: 0.0  Recall: 0.0\n",
            "Threshold: 0.7599999999999999  Precision: 0.0  Recall: 0.0\n",
            "Threshold: 0.7899999999999999  Precision: 0.0  Recall: 0.0\n",
            "Threshold: 0.82  Precision: 0.0  Recall: 0.0\n",
            "Threshold: 0.85  Precision: 0.0  Recall: 0.0\n",
            "Threshold: 0.88  Precision: 0.0  Recall: 0.0\n",
            "Threshold: 0.9099999999999999  Precision: 0.0  Recall: 0.0\n",
            "Threshold: 0.94  Precision: 0.0  Recall: 0.0\n",
            "Threshold: 0.97  Precision: 0.0  Recall: 0.0\n",
            "Threshold: 0.9999999999999999  Precision: 0.0  Recall: 0.0\n"
          ],
          "name": "stdout"
        }
      ]
    },
    {
      "metadata": {
        "colab_type": "code",
        "id": "TXM6-zmIvu8G",
        "colab": {}
      },
      "cell_type": "code",
      "source": [
        "precision = np.array(precision)\n",
        "recall = np.array(recall)"
      ],
      "execution_count": 0,
      "outputs": []
    },
    {
      "metadata": {
        "colab_type": "code",
        "id": "OMuGoPegvu8N",
        "colab": {
          "base_uri": "https://localhost:8080/",
          "height": 363
        },
        "outputId": "9eb24b86-9113-4ec0-bddd-7cbcf9a8ccc9"
      },
      "cell_type": "code",
      "source": [
        "plt.style.use(\"ggplot\")\n",
        "plt.figure()\n",
        "plt.plot(thresholds, precision, 'b--', label='Precision')\n",
        "plt.plot(thresholds, recall, 'r--', label='Recall')\n",
        "plt.xlabel('Threshold')\n",
        "plt.xlim([0.09, 1.01])\n",
        "plt.ylabel('Precision vs Recall')\n",
        "plt.legend()\n",
        "plt.savefig('drive/My Drive/Resultado/Segmentado/Resultado_Image/' + architecture + '/' + architecture + '_PrecisionVSRecall.png', bbox_inches='tight')"
      ],
      "execution_count": 28,
      "outputs": [
        {
          "output_type": "display_data",
          "data": {
            "image/png": "[encoded data removed]",
            "text/plain": [
              "<matplotlib.figure.Figure at 0x7ff6f722a550>"
            ]
          },
          "metadata": {
            "tags": []
          }
        }
      ]
    },
    {
      "metadata": {
        "id": "r7RpE8wBe4JQ",
        "colab_type": "text"
      },
      "cell_type": "markdown",
      "source": [
        "## 3 tentativa "
      ]
    },
    {
      "metadata": {
        "id": "vdP4Yo8OgB4B",
        "colab_type": "text"
      },
      "cell_type": "markdown",
      "source": [
        "Modelo criado pelo **Lucas Valentim**\n",
        "\n",
        "https://github.com/lucasvalentim/chromosome-recognizer/blob/master/chromosome_recognizer.ipynb"
      ]
    },
    {
      "metadata": {
        "colab_type": "code",
        "id": "qGOLNR-RjvlL",
        "colab": {}
      },
      "cell_type": "code",
      "source": [
        "architecture = 'architecture_3'"
      ],
      "execution_count": 0,
      "outputs": []
    },
    {
      "metadata": {
        "id": "1n6OuO9xDwyl",
        "colab_type": "text"
      },
      "cell_type": "markdown",
      "source": [
        "### Modelo"
      ]
    },
    {
      "metadata": {
        "id": "3nTNgnrCe33x",
        "colab_type": "code",
        "colab": {}
      },
      "cell_type": "code",
      "source": [
        "from keras.layers import Conv2D, MaxPooling2D, GlobalMaxPooling2D, BatchNormalization\n",
        "from keras.regularizers import l2\n",
        "\n",
        "model = Sequential()\n",
        "\n",
        "model.add(Conv2D(32, (3, 3), activation='relu', kernel_regularizer=l2(1e-4), \n",
        "                 input_shape=(None, None, 3)))\n",
        "model.add(BatchNormalization())\n",
        "model.add(Conv2D(32, (3, 3), activation='relu', kernel_regularizer=l2(1e-4)))\n",
        "model.add(BatchNormalization())\n",
        "model.add(MaxPooling2D((2, 2)))\n",
        "model.add(Dropout(0.25))\n",
        "\n",
        "model.add(Conv2D(64, (3, 3), activation='relu', kernel_regularizer=l2(1e-4)))\n",
        "model.add(BatchNormalization())\n",
        "model.add(Conv2D(64, (3, 3), activation='relu', kernel_regularizer=l2(1e-4)))\n",
        "model.add(BatchNormalization())\n",
        "model.add(MaxPooling2D((2, 2)))\n",
        "model.add(Dropout(0.25))\n",
        "\n",
        "model.add(Conv2D(128, (1,1), kernel_regularizer=l2(1e-4)))\n",
        "model.add(GlobalMaxPooling2D())\n",
        "\n",
        "model.add(Dense(256, activation='relu', kernel_regularizer=l2(1e-4)))\n",
        "model.add(Dropout(0.5))\n",
        "model.add(Dense(2, activation='sigmoid', kernel_regularizer=l2(1e-4)))"
      ],
      "execution_count": 0,
      "outputs": []
    },
    {
      "metadata": {
        "id": "g1okz4QbiBnE",
        "colab_type": "code",
        "colab": {}
      },
      "cell_type": "code",
      "source": [
        "model.compile(optimizer='adam', loss='binary_crossentropy', metrics=['accuracy'])"
      ],
      "execution_count": 0,
      "outputs": []
    },
    {
      "metadata": {
        "colab_type": "code",
        "id": "UtpRR1Krvs0t",
        "colab": {}
      },
      "cell_type": "code",
      "source": [
        "model.load_weights('drive/My Drive/Resultado/Segmentado/weights_' + architecture + '.hdf5')"
      ],
      "execution_count": 0,
      "outputs": []
    },
    {
      "metadata": {
        "colab_type": "text",
        "id": "B4Ww4I_jvs05"
      },
      "cell_type": "markdown",
      "source": [
        "### Teste"
      ]
    },
    {
      "metadata": {
        "colab_type": "code",
        "id": "M2Cx2xYqvs09",
        "colab": {
          "base_uri": "https://localhost:8080/",
          "height": 660
        },
        "outputId": "320327c3-a786-48d5-c918-06cccce11ea9"
      },
      "cell_type": "code",
      "source": [
        "precision, recall, thresholds = ler_images_teste(architecture)"
      ],
      "execution_count": 33,
      "outputs": [
        {
          "output_type": "stream",
          "text": [
            "/usr/local/lib/python3.6/dist-packages/skimage/transform/_warps.py:84: UserWarning: The default mode, 'constant', will be changed to 'reflect' in skimage 0.15.\n",
            "  warn(\"The default mode, 'constant', will be changed to 'reflect' in \"\n"
          ],
          "name": "stderr"
        },
        {
          "output_type": "stream",
          "text": [
            "Threshold: 0.1  Precision: 0.7371794871794872  Recall: 0.3554868624420402\n",
            "Threshold: 0.13  Precision: 0.7172131147540983  Recall: 0.2704791344667697\n",
            "Threshold: 0.16  Precision: 0.6789473684210526  Recall: 0.19938176197836166\n",
            "Threshold: 0.19  Precision: 0.6474358974358975  Recall: 0.1561051004636785\n",
            "Threshold: 0.22  Precision: 0.6044776119402985  Recall: 0.125193199381762\n",
            "Threshold: 0.25  Precision: 0.514018691588785  Recall: 0.08500772797527048\n",
            "Threshold: 0.28  Precision: 0.4523809523809524  Recall: 0.05873261205564142\n",
            "Threshold: 0.31  Precision: 0.3888888888888889  Recall: 0.04327666151468315\n",
            "Threshold: 0.33999999999999997  Precision: 0.373134328358209  Recall: 0.03863987635239567\n",
            "Threshold: 0.37  Precision: 0.3387096774193548  Recall: 0.03245749613601236\n",
            "Threshold: 0.4  Precision: 0.3157894736842105  Recall: 0.027820710973724884\n",
            "Threshold: 0.42999999999999994  Precision: 0.29411764705882354  Recall: 0.023183925811437404\n",
            "Threshold: 0.45999999999999996  Precision: 0.3191489361702128  Recall: 0.023183925811437404\n",
            "Threshold: 0.49  Precision: 0.3055555555555556  Recall: 0.017001545595054096\n",
            "Threshold: 0.52  Precision: 0.2903225806451613  Recall: 0.013910355486862442\n",
            "Threshold: 0.5499999999999999  Precision: 0.32  Recall: 0.012364760432766615\n",
            "Threshold: 0.58  Precision: 0.16666666666666666  Recall: 0.00463678516228748\n",
            "Threshold: 0.61  Precision: 0.16666666666666666  Recall: 0.00463678516228748\n",
            "Threshold: 0.64  Precision: 0.23076923076923078  Recall: 0.00463678516228748\n",
            "Threshold: 0.6699999999999999  Precision: 0.125  Recall: 0.0015455950540958269\n",
            "Threshold: 0.7  Precision: 0.125  Recall: 0.0015455950540958269\n",
            "Threshold: 0.73  Precision: 0.25  Recall: 0.0015455950540958269\n",
            "Threshold: 0.7599999999999999  Precision: 0.0  Recall: 0.0\n",
            "Threshold: 0.7899999999999999  Precision: 0.0  Recall: 0.0\n"
          ],
          "name": "stdout"
        },
        {
          "output_type": "stream",
          "text": [
            "/usr/local/lib/python3.6/dist-packages/sklearn/metrics/classification.py:1143: UndefinedMetricWarning: Precision is ill-defined and being set to 0.0 due to no predicted samples.\n",
            "  'precision', 'predicted', average, warn_for)\n"
          ],
          "name": "stderr"
        },
        {
          "output_type": "stream",
          "text": [
            "Threshold: 0.82  Precision: 0.0  Recall: 0.0\n",
            "Threshold: 0.85  Precision: 0.0  Recall: 0.0\n",
            "Threshold: 0.88  Precision: 0.0  Recall: 0.0\n",
            "Threshold: 0.9099999999999999  Precision: 0.0  Recall: 0.0\n",
            "Threshold: 0.94  Precision: 0.0  Recall: 0.0\n",
            "Threshold: 0.97  Precision: 0.0  Recall: 0.0\n",
            "Threshold: 0.9999999999999999  Precision: 0.0  Recall: 0.0\n"
          ],
          "name": "stdout"
        }
      ]
    },
    {
      "metadata": {
        "colab_type": "code",
        "id": "v8T0Kno6vs1H",
        "colab": {}
      },
      "cell_type": "code",
      "source": [
        "precision = np.array(precision)\n",
        "recall = np.array(recall)"
      ],
      "execution_count": 0,
      "outputs": []
    },
    {
      "metadata": {
        "colab_type": "code",
        "id": "1br6J0aSvs1O",
        "colab": {
          "base_uri": "https://localhost:8080/",
          "height": 363
        },
        "outputId": "b82ffe0f-797f-4d44-caa8-b6f87270ff0c"
      },
      "cell_type": "code",
      "source": [
        "plt.style.use(\"ggplot\")\n",
        "plt.figure()\n",
        "plt.plot(thresholds, precision, 'b--', label='Precision')\n",
        "plt.plot(thresholds, recall, 'r--', label='Recall')\n",
        "plt.xlabel('Threshold')\n",
        "plt.xlim([0.09, 1.01])\n",
        "plt.ylabel('Precision vs Recall')\n",
        "plt.legend()\n",
        "plt.savefig('drive/My Drive/Resultado/Segmentado/Resultado_Image/' + architecture + '/' + architecture + '_PrecisionVSRecall.png', bbox_inches='tight')"
      ],
      "execution_count": 36,
      "outputs": [
        {
          "output_type": "display_data",
          "data": {
            "image/png": "[encoded data removed]",
            "text/plain": [
              "<matplotlib.figure.Figure at 0x7ff6f7008b70>"
            ]
          },
          "metadata": {
            "tags": []
          }
        }
      ]
    },
    {
      "metadata": {
        "id": "jkrlEFjlw030",
        "colab_type": "text"
      },
      "cell_type": "markdown",
      "source": [
        "## 4 tentativa"
      ]
    },
    {
      "metadata": {
        "id": "UJ7JELAiw2kb",
        "colab_type": "text"
      },
      "cell_type": "markdown",
      "source": [
        "Modelo adaptado do **Lucas Albertins**\n",
        "\n",
        "*   Sem os **dropout**\n"
      ]
    },
    {
      "metadata": {
        "colab_type": "code",
        "id": "VMLmVlASj26i",
        "colab": {}
      },
      "cell_type": "code",
      "source": [
        "architecture = 'architecture_4'"
      ],
      "execution_count": 0,
      "outputs": []
    },
    {
      "metadata": {
        "id": "YdF5FzDmD6YV",
        "colab_type": "text"
      },
      "cell_type": "markdown",
      "source": [
        "### Modelo"
      ]
    },
    {
      "metadata": {
        "colab_type": "code",
        "id": "4N0B_5a2xB3T",
        "colab": {}
      },
      "cell_type": "code",
      "source": [
        "from keras.layers import Conv2D, MaxPooling2D, GlobalMaxPooling2D, BatchNormalization\n",
        "from keras.regularizers import l2\n",
        "\n",
        "model = Sequential()\n",
        "\n",
        "model.add(Conv2D(32, (3, 3), activation='relu', kernel_regularizer=l2(1e-4), \n",
        "                 input_shape=(None, None, 3)))\n",
        "model.add(BatchNormalization())\n",
        "model.add(Conv2D(32, (3, 3), activation='relu', kernel_regularizer=l2(1e-4)))\n",
        "model.add(BatchNormalization())\n",
        "model.add(MaxPooling2D((2, 2)))\n",
        "\n",
        "model.add(Conv2D(64, (3, 3), activation='relu', kernel_regularizer=l2(1e-4)))\n",
        "model.add(BatchNormalization())\n",
        "model.add(Conv2D(64, (3, 3), activation='relu', kernel_regularizer=l2(1e-4)))\n",
        "model.add(BatchNormalization())\n",
        "model.add(MaxPooling2D((2, 2)))\n",
        "\n",
        "model.add(Conv2D(128, (1,1), kernel_regularizer=l2(1e-4)))\n",
        "model.add(GlobalMaxPooling2D())\n",
        "\n",
        "model.add(Dense(256, activation='relu', kernel_regularizer=l2(1e-4)))\n",
        "model.add(BatchNormalization())\n",
        "model.add(Dense(2, activation='sigmoid', kernel_regularizer=l2(1e-4)))"
      ],
      "execution_count": 0,
      "outputs": []
    },
    {
      "metadata": {
        "colab_type": "code",
        "id": "V9VHjygmxB3k",
        "colab": {}
      },
      "cell_type": "code",
      "source": [
        "model.compile(optimizer='adam', loss='binary_crossentropy', metrics=['accuracy'])"
      ],
      "execution_count": 0,
      "outputs": []
    },
    {
      "metadata": {
        "colab_type": "code",
        "id": "BHIvtUzMvqCG",
        "colab": {}
      },
      "cell_type": "code",
      "source": [
        "model.load_weights('drive/My Drive/Resultado/Segmentado/weights_' + architecture + '.hdf5')"
      ],
      "execution_count": 0,
      "outputs": []
    },
    {
      "metadata": {
        "colab_type": "text",
        "id": "Eo1RTOcgvqCf"
      },
      "cell_type": "markdown",
      "source": [
        "### Teste"
      ]
    },
    {
      "metadata": {
        "colab_type": "code",
        "id": "17UYy3LavqCj",
        "colab": {
          "base_uri": "https://localhost:8080/",
          "height": 660
        },
        "outputId": "4192189c-6c14-4c03-a9de-1ead73eefc68"
      },
      "cell_type": "code",
      "source": [
        "precision, recall, thresholds = ler_images_teste(architecture)"
      ],
      "execution_count": 41,
      "outputs": [
        {
          "output_type": "stream",
          "text": [
            "/usr/local/lib/python3.6/dist-packages/skimage/transform/_warps.py:84: UserWarning: The default mode, 'constant', will be changed to 'reflect' in skimage 0.15.\n",
            "  warn(\"The default mode, 'constant', will be changed to 'reflect' in \"\n"
          ],
          "name": "stderr"
        },
        {
          "output_type": "stream",
          "text": [
            "Threshold: 0.1  Precision: 0.0  Recall: 0.0\n"
          ],
          "name": "stdout"
        },
        {
          "output_type": "stream",
          "text": [
            "/usr/local/lib/python3.6/dist-packages/sklearn/metrics/classification.py:1143: UndefinedMetricWarning: Precision is ill-defined and being set to 0.0 due to no predicted samples.\n",
            "  'precision', 'predicted', average, warn_for)\n"
          ],
          "name": "stderr"
        },
        {
          "output_type": "stream",
          "text": [
            "Threshold: 0.13  Precision: 0.0  Recall: 0.0\n",
            "Threshold: 0.16  Precision: 0.0  Recall: 0.0\n",
            "Threshold: 0.19  Precision: 0.0  Recall: 0.0\n",
            "Threshold: 0.22  Precision: 0.0  Recall: 0.0\n",
            "Threshold: 0.25  Precision: 0.0  Recall: 0.0\n",
            "Threshold: 0.28  Precision: 0.0  Recall: 0.0\n",
            "Threshold: 0.31  Precision: 0.0  Recall: 0.0\n",
            "Threshold: 0.33999999999999997  Precision: 0.0  Recall: 0.0\n",
            "Threshold: 0.37  Precision: 0.0  Recall: 0.0\n",
            "Threshold: 0.4  Precision: 0.0  Recall: 0.0\n",
            "Threshold: 0.42999999999999994  Precision: 0.0  Recall: 0.0\n",
            "Threshold: 0.45999999999999996  Precision: 0.0  Recall: 0.0\n",
            "Threshold: 0.49  Precision: 0.0  Recall: 0.0\n",
            "Threshold: 0.52  Precision: 0.0  Recall: 0.0\n",
            "Threshold: 0.5499999999999999  Precision: 0.0  Recall: 0.0\n",
            "Threshold: 0.58  Precision: 0.0  Recall: 0.0\n",
            "Threshold: 0.61  Precision: 0.0  Recall: 0.0\n",
            "Threshold: 0.64  Precision: 0.0  Recall: 0.0\n",
            "Threshold: 0.6699999999999999  Precision: 0.0  Recall: 0.0\n",
            "Threshold: 0.7  Precision: 0.0  Recall: 0.0\n",
            "Threshold: 0.73  Precision: 0.0  Recall: 0.0\n",
            "Threshold: 0.7599999999999999  Precision: 0.0  Recall: 0.0\n",
            "Threshold: 0.7899999999999999  Precision: 0.0  Recall: 0.0\n",
            "Threshold: 0.82  Precision: 0.0  Recall: 0.0\n",
            "Threshold: 0.85  Precision: 0.0  Recall: 0.0\n",
            "Threshold: 0.88  Precision: 0.0  Recall: 0.0\n",
            "Threshold: 0.9099999999999999  Precision: 0.0  Recall: 0.0\n",
            "Threshold: 0.94  Precision: 0.0  Recall: 0.0\n",
            "Threshold: 0.97  Precision: 0.0  Recall: 0.0\n",
            "Threshold: 0.9999999999999999  Precision: 0.0  Recall: 0.0\n"
          ],
          "name": "stdout"
        }
      ]
    },
    {
      "metadata": {
        "colab_type": "code",
        "id": "Iyfb_vG6vqCw",
        "colab": {}
      },
      "cell_type": "code",
      "source": [
        "precision = np.array(precision)\n",
        "recall = np.array(recall)"
      ],
      "execution_count": 0,
      "outputs": []
    },
    {
      "metadata": {
        "colab_type": "code",
        "id": "AHnxIae6vqC2",
        "colab": {
          "base_uri": "https://localhost:8080/",
          "height": 363
        },
        "outputId": "f57cfbd1-074c-48ba-ff02-62318623b233"
      },
      "cell_type": "code",
      "source": [
        "plt.style.use(\"ggplot\")\n",
        "plt.figure()\n",
        "plt.plot(thresholds, precision, 'b--', label='Precision')\n",
        "plt.plot(thresholds, recall, 'r--', label='Recall')\n",
        "plt.xlabel('Threshold')\n",
        "plt.xlim([0.09, 1.01])\n",
        "plt.ylabel('Precision vs Recall')\n",
        "plt.legend()\n",
        "plt.savefig('drive/My Drive/Resultado/Segmentado/Resultado_Image/' + architecture + '/' + architecture + '_PrecisionVSRecall.png', bbox_inches='tight')"
      ],
      "execution_count": 44,
      "outputs": [
        {
          "output_type": "display_data",
          "data": {
            "image/png": "[encoded data removed]",
            "text/plain": [
              "<matplotlib.figure.Figure at 0x7ff6f6e97fd0>"
            ]
          },
          "metadata": {
            "tags": []
          }
        }
      ]
    },
    {
      "metadata": {
        "id": "lX3WANMgB1Ew",
        "colab_type": "text"
      },
      "cell_type": "markdown",
      "source": [
        "## 5 tentativa "
      ]
    },
    {
      "metadata": {
        "colab_type": "text",
        "id": "dqed1VQh6WXg"
      },
      "cell_type": "markdown",
      "source": [
        "Modelo adaptado do **Lucas Albertins**\n",
        "\n",
        "*   Sem os **dropout**\n",
        "*   Função **SGD** para compilação\n"
      ]
    },
    {
      "metadata": {
        "colab_type": "code",
        "id": "HA_KKMyaj6-L",
        "colab": {}
      },
      "cell_type": "code",
      "source": [
        "architecture = 'architecture_5'"
      ],
      "execution_count": 0,
      "outputs": []
    },
    {
      "metadata": {
        "id": "hWG5bCGfEBAs",
        "colab_type": "text"
      },
      "cell_type": "markdown",
      "source": [
        "### Modelo"
      ]
    },
    {
      "metadata": {
        "colab_type": "code",
        "id": "z9mlUa4mB-ER",
        "colab": {}
      },
      "cell_type": "code",
      "source": [
        "from keras.layers import Conv2D, MaxPooling2D, GlobalMaxPooling2D, BatchNormalization\n",
        "from keras.regularizers import l2\n",
        "\n",
        "model = Sequential()\n",
        "\n",
        "model.add(Conv2D(32, (3, 3), activation='relu', kernel_regularizer=l2(1e-4), \n",
        "                 input_shape=(None, None, 3)))\n",
        "model.add(BatchNormalization())\n",
        "model.add(Conv2D(32, (3, 3), activation='relu', kernel_regularizer=l2(1e-4)))\n",
        "model.add(BatchNormalization())\n",
        "model.add(MaxPooling2D((2, 2)))\n",
        "model.add(Dropout(0.25))\n",
        "\n",
        "model.add(Conv2D(64, (3, 3), activation='relu', kernel_regularizer=l2(1e-4)))\n",
        "model.add(BatchNormalization())\n",
        "model.add(Conv2D(64, (3, 3), activation='relu', kernel_regularizer=l2(1e-4)))\n",
        "model.add(BatchNormalization())\n",
        "model.add(MaxPooling2D((2, 2)))\n",
        "model.add(Dropout(0.25))\n",
        "\n",
        "model.add(Conv2D(128, (1,1), kernel_regularizer=l2(1e-4)))\n",
        "model.add(GlobalMaxPooling2D())\n",
        "\n",
        "model.add(Dense(256, activation='relu', kernel_regularizer=l2(1e-4)))\n",
        "model.add(Dropout(0.5))\n",
        "model.add(Dense(2, activation='sigmoid', kernel_regularizer=l2(1e-4)))"
      ],
      "execution_count": 0,
      "outputs": []
    },
    {
      "metadata": {
        "id": "ukvJwM-lCHtB",
        "colab_type": "code",
        "colab": {}
      },
      "cell_type": "code",
      "source": [
        "model.compile(SGD(lr=0.01, momentum=0.0, decay=0.0, nesterov=False), \n",
        "              loss='binary_crossentropy', metrics=['accuracy'])"
      ],
      "execution_count": 0,
      "outputs": []
    },
    {
      "metadata": {
        "colab_type": "code",
        "id": "rLE_GGQuvnS2",
        "colab": {}
      },
      "cell_type": "code",
      "source": [
        "model.load_weights('drive/My Drive/Resultado/Segmentado/weights_' + architecture + '.hdf5')"
      ],
      "execution_count": 0,
      "outputs": []
    },
    {
      "metadata": {
        "colab_type": "text",
        "id": "eDL9FIE3vnTH"
      },
      "cell_type": "markdown",
      "source": [
        "### Teste"
      ]
    },
    {
      "metadata": {
        "colab_type": "code",
        "id": "irChHj7QvnTK",
        "colab": {
          "base_uri": "https://localhost:8080/",
          "height": 660
        },
        "outputId": "013e7c09-1129-4f9b-daa9-e951eaf5b11a"
      },
      "cell_type": "code",
      "source": [
        "precision, recall, thresholds = ler_images_teste(architecture)"
      ],
      "execution_count": 49,
      "outputs": [
        {
          "output_type": "stream",
          "text": [
            "/usr/local/lib/python3.6/dist-packages/skimage/transform/_warps.py:84: UserWarning: The default mode, 'constant', will be changed to 'reflect' in skimage 0.15.\n",
            "  warn(\"The default mode, 'constant', will be changed to 'reflect' in \"\n"
          ],
          "name": "stderr"
        },
        {
          "output_type": "stream",
          "text": [
            "Threshold: 0.1  Precision: 0.19641772920461445  Recall: 1.0\n",
            "Threshold: 0.13  Precision: 0.19641772920461445  Recall: 1.0\n",
            "Threshold: 0.16  Precision: 0.19641772920461445  Recall: 1.0\n",
            "Threshold: 0.19  Precision: 0.19300398895366677  Recall: 0.9721792890262752\n",
            "Threshold: 0.22  Precision: 0.12489626556016598  Recall: 0.4652241112828439\n",
            "Threshold: 0.25  Precision: 0.15193370165745856  Recall: 0.2550231839258114\n",
            "Threshold: 0.28  Precision: 0.12237762237762238  Recall: 0.16228748068006182\n",
            "Threshold: 0.31  Precision: 0.07901907356948229  Recall: 0.08964451313755796\n",
            "Threshold: 0.33999999999999997  Precision: 0.056417489421720736  Recall: 0.061823802163833076\n",
            "Threshold: 0.37  Precision: 0.034934497816593885  Recall: 0.03709428129829984\n",
            "Threshold: 0.4  Precision: 0.02666666666666667  Recall: 0.027820710973724884\n",
            "Threshold: 0.42999999999999994  Precision: 0.024096385542168676  Recall: 0.02472952086553323\n",
            "Threshold: 0.45999999999999996  Precision: 0.0183206106870229  Recall: 0.01854714064914992\n",
            "Threshold: 0.49  Precision: 0.25  Recall: 0.0077279752704791345\n",
            "Threshold: 0.52  Precision: 0.21428571428571427  Recall: 0.00463678516228748\n",
            "Threshold: 0.5499999999999999  Precision: 0.18181818181818182  Recall: 0.0030911901081916537\n",
            "Threshold: 0.58  Precision: 0.14285714285714285  Recall: 0.0015455950540958269\n",
            "Threshold: 0.61  Precision: 0.16666666666666666  Recall: 0.0015455950540958269\n",
            "Threshold: 0.64  Precision: 0.3333333333333333  Recall: 0.0015455950540958269\n",
            "Threshold: 0.6699999999999999  Precision: 0.0  Recall: 0.0\n",
            "Threshold: 0.7  Precision: 0.0  Recall: 0.0\n",
            "Threshold: 0.73  Precision: 0.0  Recall: 0.0\n",
            "Threshold: 0.7599999999999999  Precision: 0.0  Recall: 0.0\n",
            "Threshold: 0.7899999999999999  Precision: 0.0  Recall: 0.0\n"
          ],
          "name": "stdout"
        },
        {
          "output_type": "stream",
          "text": [
            "/usr/local/lib/python3.6/dist-packages/sklearn/metrics/classification.py:1143: UndefinedMetricWarning: Precision is ill-defined and being set to 0.0 due to no predicted samples.\n",
            "  'precision', 'predicted', average, warn_for)\n"
          ],
          "name": "stderr"
        },
        {
          "output_type": "stream",
          "text": [
            "Threshold: 0.82  Precision: 0.0  Recall: 0.0\n",
            "Threshold: 0.85  Precision: 0.0  Recall: 0.0\n",
            "Threshold: 0.88  Precision: 0.0  Recall: 0.0\n",
            "Threshold: 0.9099999999999999  Precision: 0.0  Recall: 0.0\n",
            "Threshold: 0.94  Precision: 0.0  Recall: 0.0\n",
            "Threshold: 0.97  Precision: 0.0  Recall: 0.0\n",
            "Threshold: 0.9999999999999999  Precision: 0.0  Recall: 0.0\n"
          ],
          "name": "stdout"
        }
      ]
    },
    {
      "metadata": {
        "colab_type": "code",
        "id": "2B4EnnepvnTT",
        "colab": {}
      },
      "cell_type": "code",
      "source": [
        "precision = np.array(precision)\n",
        "recall = np.array(recall)"
      ],
      "execution_count": 0,
      "outputs": []
    },
    {
      "metadata": {
        "colab_type": "code",
        "id": "SjsLhWU0vnTb",
        "colab": {
          "base_uri": "https://localhost:8080/",
          "height": 363
        },
        "outputId": "ca0a4ee5-19b8-4a96-bc5e-cf6c820caf98"
      },
      "cell_type": "code",
      "source": [
        "plt.style.use(\"ggplot\")\n",
        "plt.figure()\n",
        "plt.plot(thresholds, precision, 'b--', label='Precision')\n",
        "plt.plot(thresholds, recall, 'r--', label='Recall')\n",
        "plt.xlabel('Threshold')\n",
        "plt.xlim([0.09, 1.01])\n",
        "plt.ylabel('Precision vs Recall')\n",
        "plt.legend()\n",
        "plt.savefig('drive/My Drive/Resultado/Segmentado/Resultado_Image/' + architecture + '/' + architecture + '_PrecisionVSRecall.png', bbox_inches='tight')"
      ],
      "execution_count": 52,
      "outputs": [
        {
          "output_type": "display_data",
          "data": {
            "image/png": "[encoded data removed]",
            "text/plain": [
              "<matplotlib.figure.Figure at 0x7ff6f738ed68>"
            ]
          },
          "metadata": {
            "tags": []
          }
        }
      ]
    },
    {
      "metadata": {
        "id": "apfIeirYD2N7",
        "colab_type": "text"
      },
      "cell_type": "markdown",
      "source": [
        "## 6 tentativa"
      ]
    },
    {
      "metadata": {
        "colab_type": "text",
        "id": "xaxcjuxn7BAH"
      },
      "cell_type": "markdown",
      "source": [
        "Modelo adaptado do **Lucas Albertins**\n",
        "\n",
        "*   Sem os **dropout**\n",
        "*   Função **SGD** para compilação\n",
        "*   **BatchNormalization** antes da ultima camada Dense\n"
      ]
    },
    {
      "metadata": {
        "colab_type": "code",
        "id": "QQFrxD_Rj9wz",
        "colab": {}
      },
      "cell_type": "code",
      "source": [
        "architecture = 'architecture_6'"
      ],
      "execution_count": 0,
      "outputs": []
    },
    {
      "metadata": {
        "id": "oQ6BoR4hEGjh",
        "colab_type": "text"
      },
      "cell_type": "markdown",
      "source": [
        "### Modelo"
      ]
    },
    {
      "metadata": {
        "colab_type": "code",
        "id": "C2UuO-jqD44u",
        "colab": {}
      },
      "cell_type": "code",
      "source": [
        "from keras.layers import Conv2D, MaxPooling2D, GlobalMaxPooling2D, BatchNormalization\n",
        "from keras.regularizers import l2\n",
        "\n",
        "model = Sequential()\n",
        "\n",
        "model.add(Conv2D(32, (3, 3), activation='relu', kernel_regularizer=l2(1e-4), \n",
        "                 input_shape=(None, None, 3)))\n",
        "model.add(BatchNormalization())\n",
        "model.add(Conv2D(32, (3, 3), activation='relu', kernel_regularizer=l2(1e-4)))\n",
        "model.add(BatchNormalization())\n",
        "model.add(MaxPooling2D((2, 2)))\n",
        "\n",
        "model.add(Conv2D(64, (3, 3), activation='relu', kernel_regularizer=l2(1e-4)))\n",
        "model.add(BatchNormalization())\n",
        "model.add(Conv2D(64, (3, 3), activation='relu', kernel_regularizer=l2(1e-4)))\n",
        "model.add(BatchNormalization())\n",
        "model.add(MaxPooling2D((2, 2)))\n",
        "\n",
        "model.add(Conv2D(128, (1,1), kernel_regularizer=l2(1e-4)))\n",
        "model.add(GlobalMaxPooling2D())\n",
        "\n",
        "model.add(Dense(256, activation='relu', kernel_regularizer=l2(1e-4)))\n",
        "model.add(BatchNormalization())\n",
        "model.add(Dense(2, activation='sigmoid', kernel_regularizer=l2(1e-4)))"
      ],
      "execution_count": 0,
      "outputs": []
    },
    {
      "metadata": {
        "colab_type": "code",
        "id": "I7mu97znD45M",
        "colab": {}
      },
      "cell_type": "code",
      "source": [
        "model.compile(SGD(lr=0.03, momentum=0.0, decay=0.0, nesterov=False), \n",
        "              loss='binary_crossentropy', metrics=['accuracy'])"
      ],
      "execution_count": 0,
      "outputs": []
    },
    {
      "metadata": {
        "colab_type": "code",
        "id": "0h__EQ-7vidV",
        "colab": {}
      },
      "cell_type": "code",
      "source": [
        "model.load_weights('drive/My Drive/Resultado/Segmentado/weights_' + architecture + '.hdf5')"
      ],
      "execution_count": 0,
      "outputs": []
    },
    {
      "metadata": {
        "colab_type": "text",
        "id": "W5peEtIKvidq"
      },
      "cell_type": "markdown",
      "source": [
        "### Teste"
      ]
    },
    {
      "metadata": {
        "colab_type": "code",
        "id": "3dZHyaI4vids",
        "colab": {
          "base_uri": "https://localhost:8080/",
          "height": 660
        },
        "outputId": "e3f7cff1-1209-467b-80ed-782b1e19a27e"
      },
      "cell_type": "code",
      "source": [
        "precision, recall, thresholds = ler_images_teste(architecture)"
      ],
      "execution_count": 57,
      "outputs": [
        {
          "output_type": "stream",
          "text": [
            "/usr/local/lib/python3.6/dist-packages/skimage/transform/_warps.py:84: UserWarning: The default mode, 'constant', will be changed to 'reflect' in skimage 0.15.\n",
            "  warn(\"The default mode, 'constant', will be changed to 'reflect' in \"\n"
          ],
          "name": "stderr"
        },
        {
          "output_type": "stream",
          "text": [
            "Threshold: 0.1  Precision: 0.3157894736842105  Recall: 0.00927357032457496\n",
            "Threshold: 0.13  Precision: 0.2  Recall: 0.0015455950540958269\n",
            "Threshold: 0.16  Precision: 0.0  Recall: 0.0\n",
            "Threshold: 0.19  Precision: 0.0  Recall: 0.0\n"
          ],
          "name": "stdout"
        },
        {
          "output_type": "stream",
          "text": [
            "/usr/local/lib/python3.6/dist-packages/sklearn/metrics/classification.py:1143: UndefinedMetricWarning: Precision is ill-defined and being set to 0.0 due to no predicted samples.\n",
            "  'precision', 'predicted', average, warn_for)\n"
          ],
          "name": "stderr"
        },
        {
          "output_type": "stream",
          "text": [
            "Threshold: 0.22  Precision: 0.0  Recall: 0.0\n",
            "Threshold: 0.25  Precision: 0.0  Recall: 0.0\n",
            "Threshold: 0.28  Precision: 0.0  Recall: 0.0\n",
            "Threshold: 0.31  Precision: 0.0  Recall: 0.0\n",
            "Threshold: 0.33999999999999997  Precision: 0.0  Recall: 0.0\n",
            "Threshold: 0.37  Precision: 0.0  Recall: 0.0\n",
            "Threshold: 0.4  Precision: 0.0  Recall: 0.0\n",
            "Threshold: 0.42999999999999994  Precision: 0.0  Recall: 0.0\n",
            "Threshold: 0.45999999999999996  Precision: 0.0  Recall: 0.0\n",
            "Threshold: 0.49  Precision: 0.0  Recall: 0.0\n",
            "Threshold: 0.52  Precision: 0.0  Recall: 0.0\n",
            "Threshold: 0.5499999999999999  Precision: 0.0  Recall: 0.0\n",
            "Threshold: 0.58  Precision: 0.0  Recall: 0.0\n",
            "Threshold: 0.61  Precision: 0.0  Recall: 0.0\n",
            "Threshold: 0.64  Precision: 0.0  Recall: 0.0\n",
            "Threshold: 0.6699999999999999  Precision: 0.0  Recall: 0.0\n",
            "Threshold: 0.7  Precision: 0.0  Recall: 0.0\n",
            "Threshold: 0.73  Precision: 0.0  Recall: 0.0\n",
            "Threshold: 0.7599999999999999  Precision: 0.0  Recall: 0.0\n",
            "Threshold: 0.7899999999999999  Precision: 0.0  Recall: 0.0\n",
            "Threshold: 0.82  Precision: 0.0  Recall: 0.0\n",
            "Threshold: 0.85  Precision: 0.0  Recall: 0.0\n",
            "Threshold: 0.88  Precision: 0.0  Recall: 0.0\n",
            "Threshold: 0.9099999999999999  Precision: 0.0  Recall: 0.0\n",
            "Threshold: 0.94  Precision: 0.0  Recall: 0.0\n",
            "Threshold: 0.97  Precision: 0.0  Recall: 0.0\n",
            "Threshold: 0.9999999999999999  Precision: 0.0  Recall: 0.0\n"
          ],
          "name": "stdout"
        }
      ]
    },
    {
      "metadata": {
        "colab_type": "code",
        "id": "yllgN81mvid3",
        "colab": {}
      },
      "cell_type": "code",
      "source": [
        "precision = np.array(precision)\n",
        "recall = np.array(recall)"
      ],
      "execution_count": 0,
      "outputs": []
    },
    {
      "metadata": {
        "colab_type": "code",
        "id": "3j9wPIWXvieA",
        "colab": {
          "base_uri": "https://localhost:8080/",
          "height": 363
        },
        "outputId": "204f78eb-9150-4bac-ff73-6093752e966a"
      },
      "cell_type": "code",
      "source": [
        "plt.style.use(\"ggplot\")\n",
        "plt.figure()\n",
        "plt.plot(thresholds, precision, 'b--', label='Precision')\n",
        "plt.plot(thresholds, recall, 'r--', label='Recall')\n",
        "plt.xlabel('Threshold')\n",
        "plt.xlim([0.09, 1.01])\n",
        "plt.ylabel('Precision vs Recall')\n",
        "plt.legend()\n",
        "plt.savefig('drive/My Drive/Resultado/Segmentado/Resultado_Image/' + architecture + '/' + architecture + '_PrecisionVSRecall.png', bbox_inches='tight')"
      ],
      "execution_count": 60,
      "outputs": [
        {
          "output_type": "display_data",
          "data": {
            "image/png": "[encoded data removed]",
            "text/plain": [
              "<matplotlib.figure.Figure at 0x7ff6f7008e10>"
            ]
          },
          "metadata": {
            "tags": []
          }
        }
      ]
    },
    {
      "metadata": {
        "id": "5gk7vmYPHddj",
        "colab_type": "text"
      },
      "cell_type": "markdown",
      "source": [
        "## 7 tentativa "
      ]
    },
    {
      "metadata": {
        "colab_type": "text",
        "id": "lxzyd-4L422r"
      },
      "cell_type": "markdown",
      "source": [
        "Modelo adaptado do **Lucas Albertins**\n",
        "\n",
        "*   Sem os **dropout**\n",
        "*   Função **Adadelta** para compilação\n",
        "*   **BatchNormalization** antes da ultima camada Dense\n"
      ]
    },
    {
      "metadata": {
        "colab_type": "code",
        "id": "ufy24IuYkBYc",
        "colab": {}
      },
      "cell_type": "code",
      "source": [
        "architecture = 'architecture_7'"
      ],
      "execution_count": 0,
      "outputs": []
    },
    {
      "metadata": {
        "id": "Qx405s6NENSz",
        "colab_type": "text"
      },
      "cell_type": "markdown",
      "source": [
        "### Modelo"
      ]
    },
    {
      "metadata": {
        "colab_type": "code",
        "id": "sIBEdGsyHhJN",
        "colab": {}
      },
      "cell_type": "code",
      "source": [
        "from keras.layers import Conv2D, MaxPooling2D, GlobalMaxPooling2D, BatchNormalization\n",
        "from keras.regularizers import l2\n",
        "from keras.optimizers import Adadelta\n",
        "\n",
        "model = Sequential()\n",
        "\n",
        "model.add(Conv2D(32, (3, 3), activation='relu', kernel_regularizer=l2(1e-4), \n",
        "                 input_shape=(None, None, 3)))\n",
        "model.add(BatchNormalization())\n",
        "model.add(Conv2D(32, (3, 3), activation='relu', kernel_regularizer=l2(1e-4)))\n",
        "model.add(BatchNormalization())\n",
        "model.add(MaxPooling2D((2, 2)))\n",
        "\n",
        "model.add(Conv2D(64, (3, 3), activation='relu', kernel_regularizer=l2(1e-4)))\n",
        "model.add(BatchNormalization())\n",
        "model.add(Conv2D(64, (3, 3), activation='relu', kernel_regularizer=l2(1e-4)))\n",
        "model.add(BatchNormalization())\n",
        "model.add(MaxPooling2D((2, 2)))\n",
        "\n",
        "model.add(Conv2D(128, (1,1), kernel_regularizer=l2(1e-4)))\n",
        "model.add(GlobalMaxPooling2D())\n",
        "\n",
        "model.add(Dense(256, activation='relu', kernel_regularizer=l2(1e-4)))\n",
        "model.add(BatchNormalization())\n",
        "model.add(Dense(2, activation='sigmoid', kernel_regularizer=l2(1e-4)))"
      ],
      "execution_count": 0,
      "outputs": []
    },
    {
      "metadata": {
        "colab_type": "code",
        "id": "P6ZvobfGHhJb",
        "colab": {}
      },
      "cell_type": "code",
      "source": [
        "model.compile(Adadelta(lr=1.0, rho=0.95, epsilon=None, decay=0.0), \n",
        "              loss='binary_crossentropy', metrics=['accuracy'])"
      ],
      "execution_count": 0,
      "outputs": []
    },
    {
      "metadata": {
        "colab_type": "code",
        "id": "GwNR8OgevFUl",
        "colab": {}
      },
      "cell_type": "code",
      "source": [
        "model.load_weights('drive/My Drive/Resultado/Segmentado/weights_' + architecture + '.hdf5')"
      ],
      "execution_count": 0,
      "outputs": []
    },
    {
      "metadata": {
        "colab_type": "text",
        "id": "EjlnSUT6vFU0"
      },
      "cell_type": "markdown",
      "source": [
        "### Teste"
      ]
    },
    {
      "metadata": {
        "colab_type": "code",
        "id": "nD34AfLyvFU4",
        "colab": {
          "base_uri": "https://localhost:8080/",
          "height": 660
        },
        "outputId": "d8dafc25-9fa1-44e3-9802-bc3a661de20b"
      },
      "cell_type": "code",
      "source": [
        "precision, recall, thresholds = ler_images_teste(architecture)"
      ],
      "execution_count": 65,
      "outputs": [
        {
          "output_type": "stream",
          "text": [
            "/usr/local/lib/python3.6/dist-packages/skimage/transform/_warps.py:84: UserWarning: The default mode, 'constant', will be changed to 'reflect' in skimage 0.15.\n",
            "  warn(\"The default mode, 'constant', will be changed to 'reflect' in \"\n"
          ],
          "name": "stderr"
        },
        {
          "output_type": "stream",
          "text": [
            "Threshold: 0.1  Precision: 0.5384615384615384  Recall: 0.07573415765069552\n",
            "Threshold: 0.13  Precision: 0.4426229508196721  Recall: 0.04173106646058733\n",
            "Threshold: 0.16  Precision: 0.275  Recall: 0.017001545595054096\n",
            "Threshold: 0.19  Precision: 0.23076923076923078  Recall: 0.00927357032457496\n",
            "Threshold: 0.22  Precision: 0.21428571428571427  Recall: 0.00463678516228748\n",
            "Threshold: 0.25  Precision: 0.2727272727272727  Recall: 0.00463678516228748\n",
            "Threshold: 0.28  Precision: 0.25  Recall: 0.0030911901081916537\n",
            "Threshold: 0.31  Precision: 0.2  Recall: 0.0015455950540958269\n",
            "Threshold: 0.33999999999999997  Precision: 0.0  Recall: 0.0\n",
            "Threshold: 0.37  Precision: 0.0  Recall: 0.0\n",
            "Threshold: 0.4  Precision: 0.0  Recall: 0.0\n",
            "Threshold: 0.42999999999999994  Precision: 0.0  Recall: 0.0\n"
          ],
          "name": "stdout"
        },
        {
          "output_type": "stream",
          "text": [
            "/usr/local/lib/python3.6/dist-packages/sklearn/metrics/classification.py:1143: UndefinedMetricWarning: Precision is ill-defined and being set to 0.0 due to no predicted samples.\n",
            "  'precision', 'predicted', average, warn_for)\n"
          ],
          "name": "stderr"
        },
        {
          "output_type": "stream",
          "text": [
            "Threshold: 0.45999999999999996  Precision: 0.0  Recall: 0.0\n",
            "Threshold: 0.49  Precision: 0.0  Recall: 0.0\n",
            "Threshold: 0.52  Precision: 0.0  Recall: 0.0\n",
            "Threshold: 0.5499999999999999  Precision: 0.0  Recall: 0.0\n",
            "Threshold: 0.58  Precision: 0.0  Recall: 0.0\n",
            "Threshold: 0.61  Precision: 0.0  Recall: 0.0\n",
            "Threshold: 0.64  Precision: 0.0  Recall: 0.0\n",
            "Threshold: 0.6699999999999999  Precision: 0.0  Recall: 0.0\n",
            "Threshold: 0.7  Precision: 0.0  Recall: 0.0\n",
            "Threshold: 0.73  Precision: 0.0  Recall: 0.0\n",
            "Threshold: 0.7599999999999999  Precision: 0.0  Recall: 0.0\n",
            "Threshold: 0.7899999999999999  Precision: 0.0  Recall: 0.0\n",
            "Threshold: 0.82  Precision: 0.0  Recall: 0.0\n",
            "Threshold: 0.85  Precision: 0.0  Recall: 0.0\n",
            "Threshold: 0.88  Precision: 0.0  Recall: 0.0\n",
            "Threshold: 0.9099999999999999  Precision: 0.0  Recall: 0.0\n",
            "Threshold: 0.94  Precision: 0.0  Recall: 0.0\n",
            "Threshold: 0.97  Precision: 0.0  Recall: 0.0\n",
            "Threshold: 0.9999999999999999  Precision: 0.0  Recall: 0.0\n"
          ],
          "name": "stdout"
        }
      ]
    },
    {
      "metadata": {
        "colab_type": "code",
        "id": "SiNtq05lvFVA",
        "colab": {}
      },
      "cell_type": "code",
      "source": [
        "precision = np.array(precision)\n",
        "recall = np.array(recall)"
      ],
      "execution_count": 0,
      "outputs": []
    },
    {
      "metadata": {
        "colab_type": "code",
        "id": "_hhJ5e9fvFVL",
        "colab": {
          "base_uri": "https://localhost:8080/",
          "height": 363
        },
        "outputId": "c1c0406c-2623-48c2-cb6c-dc5feaaab8d9"
      },
      "cell_type": "code",
      "source": [
        "plt.style.use(\"ggplot\")\n",
        "plt.figure()\n",
        "plt.plot(thresholds, precision, 'b--', label='Precision')\n",
        "plt.plot(thresholds, recall, 'r--', label='Recall')\n",
        "plt.xlabel('Threshold')\n",
        "plt.xlim([0.09, 1.01])\n",
        "plt.ylabel('Precision vs Recall')\n",
        "plt.legend()\n",
        "plt.savefig('drive/My Drive/Resultado/Segmentado/Resultado_Image/' + architecture + '/' + architecture + '_PrecisionVSRecall.png', bbox_inches='tight')"
      ],
      "execution_count": 68,
      "outputs": [
        {
          "output_type": "display_data",
          "data": {
            "image/png": "[encoded data removed]",
            "text/plain": [
              "<matplotlib.figure.Figure at 0x7ff6f722a208>"
            ]
          },
          "metadata": {
            "tags": []
          }
        }
      ]
    },
    {
      "metadata": {
        "id": "xBqqHjZrnDFP",
        "colab_type": "text"
      },
      "cell_type": "markdown",
      "source": [
        "## 8 tentativa"
      ]
    },
    {
      "metadata": {
        "colab_type": "text",
        "id": "3Qg1zWbo5W6V"
      },
      "cell_type": "markdown",
      "source": [
        "Modelo adaptado do **Lucas Albertins**\n",
        "\n",
        "*   Função **Adadelta** para compilação\n"
      ]
    },
    {
      "metadata": {
        "colab_type": "code",
        "id": "lmwfJa_fkEKz",
        "colab": {}
      },
      "cell_type": "code",
      "source": [
        "architecture = 'architecture_8'"
      ],
      "execution_count": 0,
      "outputs": []
    },
    {
      "metadata": {
        "id": "HwG1z8RnETvS",
        "colab_type": "text"
      },
      "cell_type": "markdown",
      "source": [
        "### Modelo"
      ]
    },
    {
      "metadata": {
        "colab_type": "code",
        "id": "MvjKH9LWpGsi",
        "colab": {}
      },
      "cell_type": "code",
      "source": [
        "from keras.layers import Conv2D, MaxPooling2D, GlobalMaxPooling2D, BatchNormalization\n",
        "from keras.regularizers import l2\n",
        "from keras.optimizers import Adadelta\n",
        "\n",
        "model = Sequential()\n",
        "\n",
        "model.add(Conv2D(32, (3, 3), activation='relu', kernel_regularizer=l2(1e-4), \n",
        "                 input_shape=(None, None, 3)))\n",
        "model.add(BatchNormalization())\n",
        "model.add(Conv2D(32, (3, 3), activation='relu', kernel_regularizer=l2(1e-4)))\n",
        "model.add(BatchNormalization())\n",
        "model.add(MaxPooling2D((2, 2)))\n",
        "model.add(Dropout(0.25))\n",
        "\n",
        "model.add(Conv2D(64, (3, 3), activation='relu', kernel_regularizer=l2(1e-4)))\n",
        "model.add(BatchNormalization())\n",
        "model.add(Conv2D(64, (3, 3), activation='relu', kernel_regularizer=l2(1e-4)))\n",
        "model.add(BatchNormalization())\n",
        "model.add(MaxPooling2D((2, 2)))\n",
        "model.add(Dropout(0.25))\n",
        "\n",
        "model.add(Conv2D(128, (1,1), kernel_regularizer=l2(1e-4)))\n",
        "model.add(GlobalMaxPooling2D())\n",
        "\n",
        "model.add(Dense(256, activation='relu', kernel_regularizer=l2(1e-4)))\n",
        "model.add(Dropout(0.5))\n",
        "model.add(Dense(2, activation='sigmoid', kernel_regularizer=l2(1e-4)))"
      ],
      "execution_count": 0,
      "outputs": []
    },
    {
      "metadata": {
        "colab_type": "code",
        "id": "civjmdynpGsy",
        "colab": {}
      },
      "cell_type": "code",
      "source": [
        "model.compile(Adadelta(lr=1.0, rho=0.95, epsilon=None, decay=0.0), \n",
        "              loss='binary_crossentropy', metrics=['accuracy'])"
      ],
      "execution_count": 0,
      "outputs": []
    },
    {
      "metadata": {
        "colab_type": "code",
        "id": "o4Kg0ps3vAqN",
        "colab": {}
      },
      "cell_type": "code",
      "source": [
        "model.load_weights('drive/My Drive/Resultado/Segmentado/weights_' + architecture + '.hdf5')"
      ],
      "execution_count": 0,
      "outputs": []
    },
    {
      "metadata": {
        "colab_type": "text",
        "id": "n46-h3FEvAqn"
      },
      "cell_type": "markdown",
      "source": [
        "### Teste"
      ]
    },
    {
      "metadata": {
        "colab_type": "code",
        "id": "8rgd_XuVvAqr",
        "colab": {
          "base_uri": "https://localhost:8080/",
          "height": 660
        },
        "outputId": "6cc7aef3-2690-4deb-dc01-e76a43692d6b"
      },
      "cell_type": "code",
      "source": [
        "precision, recall, thresholds = ler_images_teste(architecture)"
      ],
      "execution_count": 73,
      "outputs": [
        {
          "output_type": "stream",
          "text": [
            "/usr/local/lib/python3.6/dist-packages/skimage/transform/_warps.py:84: UserWarning: The default mode, 'constant', will be changed to 'reflect' in skimage 0.15.\n",
            "  warn(\"The default mode, 'constant', will be changed to 'reflect' in \"\n"
          ],
          "name": "stderr"
        },
        {
          "output_type": "stream",
          "text": [
            "Threshold: 0.1  Precision: 0.06536856745479833  Recall: 0.07264296754250386\n",
            "Threshold: 0.13  Precision: 0.045714285714285714  Recall: 0.04945904173106646\n",
            "Threshold: 0.16  Precision: 0.3275862068965517  Recall: 0.02936630602782071\n",
            "Threshold: 0.19  Precision: 0.2692307692307692  Recall: 0.021638330757341576\n",
            "Threshold: 0.22  Precision: 0.22727272727272727  Recall: 0.015455950540958269\n",
            "Threshold: 0.25  Precision: 0.18421052631578946  Recall: 0.010819165378670788\n",
            "Threshold: 0.28  Precision: 0.16129032258064516  Recall: 0.0077279752704791345\n",
            "Threshold: 0.31  Precision: 0.15384615384615385  Recall: 0.0061823802163833074\n",
            "Threshold: 0.33999999999999997  Precision: 0.16666666666666666  Recall: 0.0061823802163833074\n",
            "Threshold: 0.37  Precision: 0.19047619047619047  Recall: 0.0061823802163833074\n",
            "Threshold: 0.4  Precision: 0.17647058823529413  Recall: 0.00463678516228748\n",
            "Threshold: 0.42999999999999994  Precision: 0.16666666666666666  Recall: 0.0030911901081916537\n",
            "Threshold: 0.45999999999999996  Precision: 0.09090909090909091  Recall: 0.0015455950540958269\n",
            "Threshold: 0.49  Precision: 0.09090909090909091  Recall: 0.0015455950540958269\n",
            "Threshold: 0.52  Precision: 0.1  Recall: 0.0015455950540958269\n",
            "Threshold: 0.5499999999999999  Precision: 0.125  Recall: 0.0015455950540958269\n",
            "Threshold: 0.58  Precision: 0.2  Recall: 0.0015455950540958269\n",
            "Threshold: 0.61  Precision: 0.2  Recall: 0.0015455950540958269\n",
            "Threshold: 0.64  Precision: 0.0  Recall: 0.0\n",
            "Threshold: 0.6699999999999999  Precision: 0.0  Recall: 0.0\n"
          ],
          "name": "stdout"
        },
        {
          "output_type": "stream",
          "text": [
            "/usr/local/lib/python3.6/dist-packages/sklearn/metrics/classification.py:1143: UndefinedMetricWarning: Precision is ill-defined and being set to 0.0 due to no predicted samples.\n",
            "  'precision', 'predicted', average, warn_for)\n"
          ],
          "name": "stderr"
        },
        {
          "output_type": "stream",
          "text": [
            "Threshold: 0.7  Precision: 0.0  Recall: 0.0\n",
            "Threshold: 0.73  Precision: 0.0  Recall: 0.0\n",
            "Threshold: 0.7599999999999999  Precision: 0.0  Recall: 0.0\n",
            "Threshold: 0.7899999999999999  Precision: 0.0  Recall: 0.0\n",
            "Threshold: 0.82  Precision: 0.0  Recall: 0.0\n",
            "Threshold: 0.85  Precision: 0.0  Recall: 0.0\n",
            "Threshold: 0.88  Precision: 0.0  Recall: 0.0\n",
            "Threshold: 0.9099999999999999  Precision: 0.0  Recall: 0.0\n",
            "Threshold: 0.94  Precision: 0.0  Recall: 0.0\n",
            "Threshold: 0.97  Precision: 0.0  Recall: 0.0\n",
            "Threshold: 0.9999999999999999  Precision: 0.0  Recall: 0.0\n"
          ],
          "name": "stdout"
        }
      ]
    },
    {
      "metadata": {
        "colab_type": "code",
        "id": "uV-TeDxdvAq2",
        "colab": {}
      },
      "cell_type": "code",
      "source": [
        "precision = np.array(precision)\n",
        "recall = np.array(recall)"
      ],
      "execution_count": 0,
      "outputs": []
    },
    {
      "metadata": {
        "colab_type": "code",
        "id": "huRRF4eqvAq_",
        "colab": {
          "base_uri": "https://localhost:8080/",
          "height": 363
        },
        "outputId": "7b205c5e-a882-4b96-ed54-424ece3aa30d"
      },
      "cell_type": "code",
      "source": [
        "plt.style.use(\"ggplot\")\n",
        "plt.figure()\n",
        "plt.plot(thresholds, precision, 'b--', label='Precision')\n",
        "plt.plot(thresholds, recall, 'r--', label='Recall')\n",
        "plt.xlabel('Threshold')\n",
        "plt.xlim([0.09, 1.01])\n",
        "plt.ylabel('Precision vs Recall')\n",
        "plt.legend()\n",
        "plt.savefig('drive/My Drive/Resultado/Segmentado/Resultado_Image/' + architecture + '/' + architecture + '_PrecisionVSRecall.png', bbox_inches='tight')"
      ],
      "execution_count": 76,
      "outputs": [
        {
          "output_type": "display_data",
          "data": {
            "image/png": "[encoded data removed]",
            "text/plain": [
              "<matplotlib.figure.Figure at 0x7ff6f2ee0a20>"
            ]
          },
          "metadata": {
            "tags": []
          }
        }
      ]
    },
    {
      "metadata": {
        "id": "csBCokNgxgbn",
        "colab_type": "text"
      },
      "cell_type": "markdown",
      "source": [
        "## 9 tentativa"
      ]
    },
    {
      "metadata": {
        "colab_type": "text",
        "id": "qLtNH8xk63El"
      },
      "cell_type": "markdown",
      "source": [
        "Modelo adaptado do **Lucas Albertins**\n",
        "\n",
        "*   Função **SGD** para compilação\n"
      ]
    },
    {
      "metadata": {
        "colab_type": "code",
        "id": "474-g6XskHLD",
        "colab": {}
      },
      "cell_type": "code",
      "source": [
        "architecture = 'architecture_9'"
      ],
      "execution_count": 0,
      "outputs": []
    },
    {
      "metadata": {
        "id": "Ae5MENvrEYiB",
        "colab_type": "text"
      },
      "cell_type": "markdown",
      "source": [
        "### Modelo"
      ]
    },
    {
      "metadata": {
        "colab_type": "code",
        "id": "EJjS6pK1xj1f",
        "colab": {}
      },
      "cell_type": "code",
      "source": [
        "from keras.layers import Conv2D, MaxPooling2D, GlobalMaxPooling2D, BatchNormalization\n",
        "from keras.regularizers import l2\n",
        "\n",
        "model = Sequential()\n",
        "\n",
        "model.add(Conv2D(32, (3, 3), activation='relu', kernel_regularizer=l2(1e-4), \n",
        "                 input_shape=(None, None, 3)))\n",
        "model.add(BatchNormalization())\n",
        "model.add(Conv2D(32, (3, 3), activation='relu', kernel_regularizer=l2(1e-4)))\n",
        "model.add(BatchNormalization())\n",
        "model.add(MaxPooling2D((2, 2)))\n",
        "model.add(Dropout(0.25))\n",
        "\n",
        "model.add(Conv2D(64, (3, 3), activation='relu', kernel_regularizer=l2(1e-4)))\n",
        "model.add(BatchNormalization())\n",
        "model.add(Conv2D(64, (3, 3), activation='relu', kernel_regularizer=l2(1e-4)))\n",
        "model.add(BatchNormalization())\n",
        "model.add(MaxPooling2D((2, 2)))\n",
        "model.add(Dropout(0.25))\n",
        "\n",
        "model.add(Conv2D(128, (1,1), kernel_regularizer=l2(1e-4)))\n",
        "model.add(GlobalMaxPooling2D())\n",
        "\n",
        "model.add(Dense(256, activation='relu', kernel_regularizer=l2(1e-4)))\n",
        "model.add(Dropout(0.5))\n",
        "model.add(Dense(2, activation='sigmoid', kernel_regularizer=l2(1e-4)))"
      ],
      "execution_count": 0,
      "outputs": []
    },
    {
      "metadata": {
        "colab_type": "code",
        "id": "9ezdguEZxsWT",
        "colab": {}
      },
      "cell_type": "code",
      "source": [
        "model.compile(SGD(lr=0.03, momentum=0.0, decay=0.0, nesterov=False), \n",
        "              loss='binary_crossentropy', metrics=['accuracy'])"
      ],
      "execution_count": 0,
      "outputs": []
    },
    {
      "metadata": {
        "colab_type": "code",
        "id": "Li52uskku89d",
        "colab": {}
      },
      "cell_type": "code",
      "source": [
        "model.load_weights('drive/My Drive/Resultado/Segmentado/weights_' + architecture + '.hdf5')"
      ],
      "execution_count": 0,
      "outputs": []
    },
    {
      "metadata": {
        "colab_type": "text",
        "id": "wwzbcNeQu893"
      },
      "cell_type": "markdown",
      "source": [
        "### Teste"
      ]
    },
    {
      "metadata": {
        "colab_type": "code",
        "id": "lO6fKcp2u897",
        "colab": {
          "base_uri": "https://localhost:8080/",
          "height": 660
        },
        "outputId": "3bebc996-788b-46cb-83e1-062b3a181f04"
      },
      "cell_type": "code",
      "source": [
        "precision, recall, thresholds = ler_images_teste(architecture)"
      ],
      "execution_count": 81,
      "outputs": [
        {
          "output_type": "stream",
          "text": [
            "/usr/local/lib/python3.6/dist-packages/skimage/transform/_warps.py:84: UserWarning: The default mode, 'constant', will be changed to 'reflect' in skimage 0.15.\n",
            "  warn(\"The default mode, 'constant', will be changed to 'reflect' in \"\n"
          ],
          "name": "stderr"
        },
        {
          "output_type": "stream",
          "text": [
            "Threshold: 0.1  Precision: 0.3392857142857143  Recall: 0.02936630602782071\n",
            "Threshold: 0.13  Precision: 0.2653061224489796  Recall: 0.02009273570324575\n",
            "Threshold: 0.16  Precision: 0.23255813953488372  Recall: 0.015455950540958269\n",
            "Threshold: 0.19  Precision: 0.15789473684210525  Recall: 0.00927357032457496\n",
            "Threshold: 0.22  Precision: 0.15625  Recall: 0.0077279752704791345\n",
            "Threshold: 0.25  Precision: 0.16  Recall: 0.0061823802163833074\n",
            "Threshold: 0.28  Precision: 0.13636363636363635  Recall: 0.00463678516228748\n",
            "Threshold: 0.31  Precision: 0.15  Recall: 0.00463678516228748\n",
            "Threshold: 0.33999999999999997  Precision: 0.15789473684210525  Recall: 0.00463678516228748\n",
            "Threshold: 0.37  Precision: 0.17647058823529413  Recall: 0.00463678516228748\n",
            "Threshold: 0.4  Precision: 0.15384615384615385  Recall: 0.0030911901081916537\n",
            "Threshold: 0.42999999999999994  Precision: 0.09090909090909091  Recall: 0.0015455950540958269\n",
            "Threshold: 0.45999999999999996  Precision: 0.1  Recall: 0.0015455950540958269\n",
            "Threshold: 0.49  Precision: 0.14285714285714285  Recall: 0.0015455950540958269\n",
            "Threshold: 0.52  Precision: 0.2  Recall: 0.0015455950540958269\n",
            "Threshold: 0.5499999999999999  Precision: 0.25  Recall: 0.0015455950540958269\n",
            "Threshold: 0.58  Precision: 0.0  Recall: 0.0\n",
            "Threshold: 0.61  Precision: 0.0  Recall: 0.0\n",
            "Threshold: 0.64  Precision: 0.0  Recall: 0.0\n",
            "Threshold: 0.6699999999999999  Precision: 0.0  Recall: 0.0\n"
          ],
          "name": "stdout"
        },
        {
          "output_type": "stream",
          "text": [
            "/usr/local/lib/python3.6/dist-packages/sklearn/metrics/classification.py:1143: UndefinedMetricWarning: Precision is ill-defined and being set to 0.0 due to no predicted samples.\n",
            "  'precision', 'predicted', average, warn_for)\n"
          ],
          "name": "stderr"
        },
        {
          "output_type": "stream",
          "text": [
            "Threshold: 0.7  Precision: 0.0  Recall: 0.0\n",
            "Threshold: 0.73  Precision: 0.0  Recall: 0.0\n",
            "Threshold: 0.7599999999999999  Precision: 0.0  Recall: 0.0\n",
            "Threshold: 0.7899999999999999  Precision: 0.0  Recall: 0.0\n",
            "Threshold: 0.82  Precision: 0.0  Recall: 0.0\n",
            "Threshold: 0.85  Precision: 0.0  Recall: 0.0\n",
            "Threshold: 0.88  Precision: 0.0  Recall: 0.0\n",
            "Threshold: 0.9099999999999999  Precision: 0.0  Recall: 0.0\n",
            "Threshold: 0.94  Precision: 0.0  Recall: 0.0\n",
            "Threshold: 0.97  Precision: 0.0  Recall: 0.0\n",
            "Threshold: 0.9999999999999999  Precision: 0.0  Recall: 0.0\n"
          ],
          "name": "stdout"
        }
      ]
    },
    {
      "metadata": {
        "colab_type": "code",
        "id": "XHMUULLzu8-F",
        "colab": {}
      },
      "cell_type": "code",
      "source": [
        "precision = np.array(precision)\n",
        "recall = np.array(recall)"
      ],
      "execution_count": 0,
      "outputs": []
    },
    {
      "metadata": {
        "colab_type": "code",
        "id": "GXAKpGJ6u8-O",
        "colab": {
          "base_uri": "https://localhost:8080/",
          "height": 363
        },
        "outputId": "8bb5cdc6-c0f7-4bf7-f5d3-1526ef1b2f0f"
      },
      "cell_type": "code",
      "source": [
        "plt.style.use(\"ggplot\")\n",
        "plt.figure()\n",
        "plt.plot(thresholds, precision, 'b--', label='Precision')\n",
        "plt.plot(thresholds, recall, 'r--', label='Recall')\n",
        "plt.xlabel('Threshold')\n",
        "plt.xlim([0.09, 1.01])\n",
        "plt.ylabel('Precision vs Recall')\n",
        "plt.legend()\n",
        "plt.savefig('drive/My Drive/Resultado/Segmentado/Resultado_Image/' + architecture + '/' + architecture + '_PrecisionVSRecall.png', bbox_inches='tight')"
      ],
      "execution_count": 84,
      "outputs": [
        {
          "output_type": "display_data",
          "data": {
            "image/png": "[encoded data removed]",
            "text/plain": [
              "<matplotlib.figure.Figure at 0x7ff6f1bd4278>"
            ]
          },
          "metadata": {
            "tags": []
          }
        }
      ]
    },
    {
      "metadata": {
        "id": "I_6RPRqZ0ooK",
        "colab_type": "text"
      },
      "cell_type": "markdown",
      "source": [
        "## 10 tentativa"
      ]
    },
    {
      "metadata": {
        "colab_type": "text",
        "id": "drBpwd1s7PE3"
      },
      "cell_type": "markdown",
      "source": [
        "Modelo adaptado do **Lucas Albertins**\n",
        "\n",
        "*   Função **adam** para compilação\n",
        "*   Adicionado mais 2 camadas convolutivas"
      ]
    },
    {
      "metadata": {
        "colab_type": "code",
        "id": "7CD_MICYkLAi",
        "colab": {}
      },
      "cell_type": "code",
      "source": [
        "architecture = 'architecture_10'"
      ],
      "execution_count": 0,
      "outputs": []
    },
    {
      "metadata": {
        "id": "t3bAAcsqEeAK",
        "colab_type": "text"
      },
      "cell_type": "markdown",
      "source": [
        "### Modelo"
      ]
    },
    {
      "metadata": {
        "colab_type": "code",
        "id": "6LGTLObK0u-Y",
        "colab": {}
      },
      "cell_type": "code",
      "source": [
        "from keras.layers import Conv2D, MaxPooling2D, GlobalMaxPooling2D, BatchNormalization\n",
        "from keras.regularizers import l2\n",
        "\n",
        "model = Sequential()\n",
        "\n",
        "model.add(Conv2D(32, (3, 3), activation='relu', kernel_regularizer=l2(1e-4), \n",
        "                 input_shape=(None, None, 3)))\n",
        "model.add(BatchNormalization())\n",
        "model.add(Conv2D(32, (3, 3), activation='relu', kernel_regularizer=l2(1e-4)))\n",
        "model.add(BatchNormalization())\n",
        "model.add(MaxPooling2D((2, 2)))\n",
        "model.add(Dropout(0.25))\n",
        "\n",
        "model.add(Conv2D(64, (3, 3), activation='relu', kernel_regularizer=l2(1e-4)))\n",
        "model.add(BatchNormalization())\n",
        "model.add(Conv2D(64, (3, 3), activation='relu', kernel_regularizer=l2(1e-4)))\n",
        "model.add(BatchNormalization())\n",
        "model.add(MaxPooling2D((2, 2)))\n",
        "model.add(Dropout(0.25))\n",
        "\n",
        "model.add(Conv2D(96, (3, 3),activation='relu', kernel_regularizer=l2(1e-4)))\n",
        "model.add(BatchNormalization())\n",
        "model.add(Conv2D(96, (3, 3),activation='relu', kernel_regularizer=l2(1e-4)))\n",
        "model.add(BatchNormalization())\n",
        "model.add(MaxPooling2D((2, 2)))\n",
        "model.add(Dropout(0.25))\n",
        "\n",
        "model.add(Conv2D(128, (1,1), kernel_regularizer=l2(1e-4)))\n",
        "model.add(GlobalMaxPooling2D())\n",
        "\n",
        "model.add(Dense(256, activation='relu', kernel_regularizer=l2(1e-4)))\n",
        "model.add(Dropout(0.5))\n",
        "model.add(Dense(2, activation='sigmoid', kernel_regularizer=l2(1e-4)))"
      ],
      "execution_count": 0,
      "outputs": []
    },
    {
      "metadata": {
        "colab_type": "code",
        "id": "vB92aUkR0u-p",
        "colab": {}
      },
      "cell_type": "code",
      "source": [
        "model.compile(optimizer='adam', loss='binary_crossentropy', metrics=['accuracy'])"
      ],
      "execution_count": 0,
      "outputs": []
    },
    {
      "metadata": {
        "colab_type": "code",
        "id": "YXnCGdunu3cd",
        "colab": {}
      },
      "cell_type": "code",
      "source": [
        "model.load_weights('drive/My Drive/Resultado/Segmentado/weights_' + architecture + '.hdf5')"
      ],
      "execution_count": 0,
      "outputs": []
    },
    {
      "metadata": {
        "colab_type": "text",
        "id": "rcy2sKltu3c3"
      },
      "cell_type": "markdown",
      "source": [
        "### Teste"
      ]
    },
    {
      "metadata": {
        "colab_type": "code",
        "id": "Qt5q9v4ru3c7",
        "colab": {
          "base_uri": "https://localhost:8080/",
          "height": 660
        },
        "outputId": "1fe515d3-9bbc-4f63-bb96-a4c441625cc9"
      },
      "cell_type": "code",
      "source": [
        "precision, recall, thresholds = ler_images_teste(architecture)"
      ],
      "execution_count": 89,
      "outputs": [
        {
          "output_type": "stream",
          "text": [
            "/usr/local/lib/python3.6/dist-packages/skimage/transform/_warps.py:84: UserWarning: The default mode, 'constant', will be changed to 'reflect' in skimage 0.15.\n",
            "  warn(\"The default mode, 'constant', will be changed to 'reflect' in \"\n"
          ],
          "name": "stderr"
        },
        {
          "output_type": "stream",
          "text": [
            "Threshold: 0.1  Precision: 0.13333333333333333  Recall: 0.0061823802163833074\n",
            "Threshold: 0.13  Precision: 0.05555555555555555  Recall: 0.0015455950540958269\n",
            "Threshold: 0.16  Precision: 0.07142857142857142  Recall: 0.0015455950540958269\n",
            "Threshold: 0.19  Precision: 0.09090909090909091  Recall: 0.0015455950540958269\n",
            "Threshold: 0.22  Precision: 0.0  Recall: 0.0\n",
            "Threshold: 0.25  Precision: 0.0  Recall: 0.0\n",
            "Threshold: 0.28  Precision: 0.0  Recall: 0.0\n",
            "Threshold: 0.31  Precision: 0.0  Recall: 0.0\n",
            "Threshold: 0.33999999999999997  Precision: 0.0  Recall: 0.0\n"
          ],
          "name": "stdout"
        },
        {
          "output_type": "stream",
          "text": [
            "/usr/local/lib/python3.6/dist-packages/sklearn/metrics/classification.py:1143: UndefinedMetricWarning: Precision is ill-defined and being set to 0.0 due to no predicted samples.\n",
            "  'precision', 'predicted', average, warn_for)\n"
          ],
          "name": "stderr"
        },
        {
          "output_type": "stream",
          "text": [
            "Threshold: 0.37  Precision: 0.0  Recall: 0.0\n",
            "Threshold: 0.4  Precision: 0.0  Recall: 0.0\n",
            "Threshold: 0.42999999999999994  Precision: 0.0  Recall: 0.0\n",
            "Threshold: 0.45999999999999996  Precision: 0.0  Recall: 0.0\n",
            "Threshold: 0.49  Precision: 0.0  Recall: 0.0\n",
            "Threshold: 0.52  Precision: 0.0  Recall: 0.0\n",
            "Threshold: 0.5499999999999999  Precision: 0.0  Recall: 0.0\n",
            "Threshold: 0.58  Precision: 0.0  Recall: 0.0\n",
            "Threshold: 0.61  Precision: 0.0  Recall: 0.0\n",
            "Threshold: 0.64  Precision: 0.0  Recall: 0.0\n",
            "Threshold: 0.6699999999999999  Precision: 0.0  Recall: 0.0\n",
            "Threshold: 0.7  Precision: 0.0  Recall: 0.0\n",
            "Threshold: 0.73  Precision: 0.0  Recall: 0.0\n",
            "Threshold: 0.7599999999999999  Precision: 0.0  Recall: 0.0\n",
            "Threshold: 0.7899999999999999  Precision: 0.0  Recall: 0.0\n",
            "Threshold: 0.82  Precision: 0.0  Recall: 0.0\n",
            "Threshold: 0.85  Precision: 0.0  Recall: 0.0\n",
            "Threshold: 0.88  Precision: 0.0  Recall: 0.0\n",
            "Threshold: 0.9099999999999999  Precision: 0.0  Recall: 0.0\n",
            "Threshold: 0.94  Precision: 0.0  Recall: 0.0\n",
            "Threshold: 0.97  Precision: 0.0  Recall: 0.0\n",
            "Threshold: 0.9999999999999999  Precision: 0.0  Recall: 0.0\n"
          ],
          "name": "stdout"
        }
      ]
    },
    {
      "metadata": {
        "colab_type": "code",
        "id": "PZei3eHyu3dI",
        "colab": {}
      },
      "cell_type": "code",
      "source": [
        "precision = np.array(precision)\n",
        "recall = np.array(recall)"
      ],
      "execution_count": 0,
      "outputs": []
    },
    {
      "metadata": {
        "colab_type": "code",
        "id": "lWc3J-vZu3dQ",
        "colab": {
          "base_uri": "https://localhost:8080/",
          "height": 367
        },
        "outputId": "8cf4dee7-78f5-41b6-9233-cca888751215"
      },
      "cell_type": "code",
      "source": [
        "plt.style.use(\"ggplot\")\n",
        "plt.figure()\n",
        "plt.plot(thresholds, precision, 'b--', label='Precision')\n",
        "plt.plot(thresholds, recall, 'r--', label='Recall')\n",
        "plt.xlabel('Threshold')\n",
        "plt.xlim([0.09, 1.01])\n",
        "plt.ylabel('Precision vs Recall')\n",
        "plt.legend()\n",
        "plt.savefig('drive/My Drive/Resultado/Segmentado/Resultado_Image/' + architecture + '/' + architecture + '_PrecisionVSRecall.png', bbox_inches='tight')"
      ],
      "execution_count": 92,
      "outputs": [
        {
          "output_type": "display_data",
          "data": {
            "image/png": "[encoded data removed]",
            "text/plain": [
              "<matplotlib.figure.Figure at 0x7ff6f1bd49b0>"
            ]
          },
          "metadata": {
            "tags": []
          }
        }
      ]
    },
    {
      "metadata": {
        "id": "t-JuICq46CWp",
        "colab_type": "text"
      },
      "cell_type": "markdown",
      "source": [
        "## 11 tentativa"
      ]
    },
    {
      "metadata": {
        "colab_type": "text",
        "id": "MdaiMXVY8RWc"
      },
      "cell_type": "markdown",
      "source": [
        "Modelo adaptado do **Lucas Albertins**\n",
        "\n",
        "*   Função **SGD** para compilação\n",
        "*   Adicionado mais 2 camadas convolutivas"
      ]
    },
    {
      "metadata": {
        "colab_type": "code",
        "id": "oGVeMLcZkPCr",
        "colab": {}
      },
      "cell_type": "code",
      "source": [
        "architecture = 'architecture_11'"
      ],
      "execution_count": 0,
      "outputs": []
    },
    {
      "metadata": {
        "id": "JpeFBqRcElIh",
        "colab_type": "text"
      },
      "cell_type": "markdown",
      "source": [
        "### Modelo"
      ]
    },
    {
      "metadata": {
        "colab_type": "code",
        "id": "vLy1nlhs6HHL",
        "colab": {}
      },
      "cell_type": "code",
      "source": [
        "from keras.layers import Conv2D, MaxPooling2D, GlobalMaxPooling2D, BatchNormalization\n",
        "from keras.regularizers import l2\n",
        "\n",
        "model = Sequential()\n",
        "\n",
        "model.add(Conv2D(32, (3, 3), activation='relu', kernel_regularizer=l2(1e-4), \n",
        "                 input_shape=(None, None, 3)))\n",
        "model.add(BatchNormalization())\n",
        "model.add(Conv2D(32, (3, 3), activation='relu', kernel_regularizer=l2(1e-4)))\n",
        "model.add(BatchNormalization())\n",
        "model.add(MaxPooling2D((2, 2)))\n",
        "model.add(Dropout(0.25))\n",
        "\n",
        "model.add(Conv2D(64, (3, 3), activation='relu', kernel_regularizer=l2(1e-4)))\n",
        "model.add(BatchNormalization())\n",
        "model.add(Conv2D(64, (3, 3), activation='relu', kernel_regularizer=l2(1e-4)))\n",
        "model.add(BatchNormalization())\n",
        "model.add(MaxPooling2D((2, 2)))\n",
        "model.add(Dropout(0.25))\n",
        "\n",
        "model.add(Conv2D(96, (3, 3),activation='relu', kernel_regularizer=l2(1e-4)))\n",
        "model.add(BatchNormalization())\n",
        "model.add(Conv2D(96, (3, 3),activation='relu', kernel_regularizer=l2(1e-4)))\n",
        "model.add(BatchNormalization())\n",
        "model.add(MaxPooling2D((2, 2)))\n",
        "model.add(Dropout(0.25))\n",
        "\n",
        "model.add(Conv2D(128, (1,1), kernel_regularizer=l2(1e-4)))\n",
        "model.add(GlobalMaxPooling2D())\n",
        "\n",
        "model.add(Dense(256, activation='relu', kernel_regularizer=l2(1e-4)))\n",
        "model.add(Dropout(0.5))\n",
        "model.add(Dense(2, activation='sigmoid', kernel_regularizer=l2(1e-4)))"
      ],
      "execution_count": 0,
      "outputs": []
    },
    {
      "metadata": {
        "colab_type": "code",
        "id": "QKpy_s8Z6HHZ",
        "colab": {}
      },
      "cell_type": "code",
      "source": [
        "model.compile(SGD(lr=0.01, momentum=0.0, decay=0.0, nesterov=False), \n",
        "              loss='binary_crossentropy', metrics=['accuracy'])"
      ],
      "execution_count": 0,
      "outputs": []
    },
    {
      "metadata": {
        "colab_type": "code",
        "id": "ZSbWxWQCuxlO",
        "colab": {}
      },
      "cell_type": "code",
      "source": [
        "model.load_weights('drive/My Drive/Resultado/Segmentado/weights_' + architecture + '.hdf5')"
      ],
      "execution_count": 0,
      "outputs": []
    },
    {
      "metadata": {
        "colab_type": "text",
        "id": "no0nGAChuxlo"
      },
      "cell_type": "markdown",
      "source": [
        "### Teste"
      ]
    },
    {
      "metadata": {
        "colab_type": "code",
        "id": "74dMTPE0uxlr",
        "outputId": "ce8e60c5-21f2-4ea4-9dc2-c4257af1b346",
        "colab": {
          "base_uri": "https://localhost:8080/",
          "height": 660
        }
      },
      "cell_type": "code",
      "source": [
        "precision, recall, thresholds = ler_images_teste(architecture)"
      ],
      "execution_count": 97,
      "outputs": [
        {
          "output_type": "stream",
          "text": [
            "/usr/local/lib/python3.6/dist-packages/skimage/transform/_warps.py:84: UserWarning: The default mode, 'constant', will be changed to 'reflect' in skimage 0.15.\n",
            "  warn(\"The default mode, 'constant', will be changed to 'reflect' in \"\n"
          ],
          "name": "stderr"
        },
        {
          "output_type": "stream",
          "text": [
            "Threshold: 0.1  Precision: 0.19435736677115986  Recall: 0.2874806800618238\n",
            "Threshold: 0.13  Precision: 0.47474747474747475  Recall: 0.07264296754250386\n",
            "Threshold: 0.16  Precision: 0.36764705882352944  Recall: 0.03863987635239567\n",
            "Threshold: 0.19  Precision: 0.24  Recall: 0.01854714064914992\n",
            "Threshold: 0.22  Precision: 0.23404255319148937  Recall: 0.017001545595054096\n",
            "Threshold: 0.25  Precision: 0.2222222222222222  Recall: 0.012364760432766615\n",
            "Threshold: 0.28  Precision: 0.22580645161290322  Recall: 0.010819165378670788\n",
            "Threshold: 0.31  Precision: 0.16  Recall: 0.0061823802163833074\n",
            "Threshold: 0.33999999999999997  Precision: 0.16666666666666666  Recall: 0.00463678516228748\n",
            "Threshold: 0.37  Precision: 0.1875  Recall: 0.00463678516228748\n",
            "Threshold: 0.4  Precision: 0.2  Recall: 0.00463678516228748\n",
            "Threshold: 0.42999999999999994  Precision: 0.23076923076923078  Recall: 0.00463678516228748\n",
            "Threshold: 0.45999999999999996  Precision: 0.2222222222222222  Recall: 0.0030911901081916537\n",
            "Threshold: 0.49  Precision: 0.25  Recall: 0.0015455950540958269\n",
            "Threshold: 0.52  Precision: 0.3333333333333333  Recall: 0.0015455950540958269\n",
            "Threshold: 0.5499999999999999  Precision: 0.0  Recall: 0.0\n"
          ],
          "name": "stdout"
        },
        {
          "output_type": "stream",
          "text": [
            "/usr/local/lib/python3.6/dist-packages/sklearn/metrics/classification.py:1143: UndefinedMetricWarning: Precision is ill-defined and being set to 0.0 due to no predicted samples.\n",
            "  'precision', 'predicted', average, warn_for)\n"
          ],
          "name": "stderr"
        },
        {
          "output_type": "stream",
          "text": [
            "Threshold: 0.58  Precision: 0.0  Recall: 0.0\n",
            "Threshold: 0.61  Precision: 0.0  Recall: 0.0\n",
            "Threshold: 0.64  Precision: 0.0  Recall: 0.0\n",
            "Threshold: 0.6699999999999999  Precision: 0.0  Recall: 0.0\n",
            "Threshold: 0.7  Precision: 0.0  Recall: 0.0\n",
            "Threshold: 0.73  Precision: 0.0  Recall: 0.0\n",
            "Threshold: 0.7599999999999999  Precision: 0.0  Recall: 0.0\n",
            "Threshold: 0.7899999999999999  Precision: 0.0  Recall: 0.0\n",
            "Threshold: 0.82  Precision: 0.0  Recall: 0.0\n",
            "Threshold: 0.85  Precision: 0.0  Recall: 0.0\n",
            "Threshold: 0.88  Precision: 0.0  Recall: 0.0\n",
            "Threshold: 0.9099999999999999  Precision: 0.0  Recall: 0.0\n",
            "Threshold: 0.94  Precision: 0.0  Recall: 0.0\n",
            "Threshold: 0.97  Precision: 0.0  Recall: 0.0\n",
            "Threshold: 0.9999999999999999  Precision: 0.0  Recall: 0.0\n"
          ],
          "name": "stdout"
        }
      ]
    },
    {
      "metadata": {
        "colab_type": "code",
        "id": "H9btJlF7uxlz",
        "colab": {}
      },
      "cell_type": "code",
      "source": [
        "precision = np.array(precision)\n",
        "recall = np.array(recall)"
      ],
      "execution_count": 0,
      "outputs": []
    },
    {
      "metadata": {
        "colab_type": "code",
        "id": "Xu_2I-Aeuxl5",
        "outputId": "3c1ad699-dc52-47e7-e987-aa87c41ec734",
        "colab": {
          "base_uri": "https://localhost:8080/",
          "height": 363
        }
      },
      "cell_type": "code",
      "source": [
        "plt.style.use(\"ggplot\")\n",
        "plt.figure()\n",
        "plt.plot(thresholds, precision, 'b--', label='Precision')\n",
        "plt.plot(thresholds, recall, 'r--', label='Recall')\n",
        "plt.xlabel('Threshold')\n",
        "plt.xlim([0.09, 1.01])\n",
        "plt.ylabel('Precision vs Recall')\n",
        "plt.legend()\n",
        "plt.savefig('drive/My Drive/Resultado/Segmentado/Resultado_Image/' + architecture + '/' + architecture + '_PrecisionVSRecall.png', bbox_inches='tight')"
      ],
      "execution_count": 100,
      "outputs": [
        {
          "output_type": "display_data",
          "data": {
            "image/png": "[encoded data removed]",
            "text/plain": [
              "<matplotlib.figure.Figure at 0x7ff6f1a4fba8>"
            ]
          },
          "metadata": {
            "tags": []
          }
        }
      ]
    },
    {
      "metadata": {
        "id": "26BCkdp9MAna",
        "colab_type": "text"
      },
      "cell_type": "markdown",
      "source": [
        "## 12 tentativa"
      ]
    },
    {
      "metadata": {
        "colab_type": "text",
        "id": "MLvKG40a84F9"
      },
      "cell_type": "markdown",
      "source": [
        "Modelo adaptado do **Lucas Albertins**\n",
        "\n",
        "*   Sem utilização das funções de regularização\n",
        "*   Função **SGD** para compilação\n",
        "*   Adicionado mais 2 camadas convolutivas"
      ]
    },
    {
      "metadata": {
        "colab_type": "code",
        "id": "-_TE6KwakRoT",
        "colab": {}
      },
      "cell_type": "code",
      "source": [
        "architecture = 'architecture_12'"
      ],
      "execution_count": 0,
      "outputs": []
    },
    {
      "metadata": {
        "id": "Re-dc0YXEr3p",
        "colab_type": "text"
      },
      "cell_type": "markdown",
      "source": [
        "### Modelo"
      ]
    },
    {
      "metadata": {
        "colab_type": "code",
        "id": "9LrDSy5AMFDO",
        "colab": {}
      },
      "cell_type": "code",
      "source": [
        "from keras.layers import Conv2D, MaxPooling2D, GlobalMaxPooling2D, BatchNormalization\n",
        "from keras.regularizers import l2\n",
        "\n",
        "model = Sequential()\n",
        "\n",
        "model.add(Conv2D(32, (3, 3), activation='relu',input_shape=(None, None, 3)))\n",
        "model.add(BatchNormalization())\n",
        "model.add(Conv2D(32, (3, 3), activation='relu'))\n",
        "model.add(BatchNormalization())\n",
        "model.add(MaxPooling2D((2, 2)))\n",
        "model.add(Dropout(0.25))\n",
        "\n",
        "model.add(Conv2D(64, (3, 3), activation='relu'))\n",
        "model.add(BatchNormalization())\n",
        "model.add(Conv2D(64, (3, 3), activation='relu'))\n",
        "model.add(BatchNormalization())\n",
        "model.add(MaxPooling2D((2, 2)))\n",
        "model.add(Dropout(0.25))\n",
        "\n",
        "model.add(Conv2D(96, (3, 3),activation='relu'))\n",
        "model.add(BatchNormalization())\n",
        "model.add(Conv2D(96, (3, 3),activation='relu'))\n",
        "model.add(BatchNormalization())\n",
        "model.add(MaxPooling2D((2, 2)))\n",
        "model.add(Dropout(0.25))\n",
        "\n",
        "model.add(Conv2D(128, (1,1)))\n",
        "model.add(GlobalMaxPooling2D())\n",
        "\n",
        "model.add(Dense(256, activation='relu'))\n",
        "model.add(Dropout(0.5))\n",
        "model.add(Dense(2, activation='sigmoid'))"
      ],
      "execution_count": 0,
      "outputs": []
    },
    {
      "metadata": {
        "colab_type": "code",
        "id": "EUZ-2eyUMSxQ",
        "colab": {}
      },
      "cell_type": "code",
      "source": [
        "model.compile(SGD(lr=0.01, momentum=0.0, decay=0.0, nesterov=False), \n",
        "              loss='binary_crossentropy', metrics=['accuracy'])"
      ],
      "execution_count": 0,
      "outputs": []
    },
    {
      "metadata": {
        "colab_type": "code",
        "id": "3vEqNaaEurfN",
        "colab": {}
      },
      "cell_type": "code",
      "source": [
        "model.load_weights('drive/My Drive/Resultado/Segmentado/weights_' + architecture + '.hdf5')"
      ],
      "execution_count": 0,
      "outputs": []
    },
    {
      "metadata": {
        "colab_type": "text",
        "id": "wQj_R9DOurfo"
      },
      "cell_type": "markdown",
      "source": [
        "### Teste"
      ]
    },
    {
      "metadata": {
        "colab_type": "code",
        "id": "GRiCytLuurfr",
        "colab": {
          "base_uri": "https://localhost:8080/",
          "height": 660
        },
        "outputId": "cc591c4b-8a5b-4c7f-c551-8d8a6aebdd22"
      },
      "cell_type": "code",
      "source": [
        "precision, recall, thresholds = ler_images_teste(architecture)"
      ],
      "execution_count": 105,
      "outputs": [
        {
          "output_type": "stream",
          "text": [
            "/usr/local/lib/python3.6/dist-packages/skimage/transform/_warps.py:84: UserWarning: The default mode, 'constant', will be changed to 'reflect' in skimage 0.15.\n",
            "  warn(\"The default mode, 'constant', will be changed to 'reflect' in \"\n"
          ],
          "name": "stderr"
        },
        {
          "output_type": "stream",
          "text": [
            "Threshold: 0.1  Precision: 0.01524390243902439  Recall: 0.015455950540958269\n",
            "Threshold: 0.13  Precision: 0.21052631578947367  Recall: 0.0061823802163833074\n",
            "Threshold: 0.16  Precision: 0.125  Recall: 0.0030911901081916537\n",
            "Threshold: 0.19  Precision: 0.1111111111111111  Recall: 0.0015455950540958269\n",
            "Threshold: 0.22  Precision: 0.16666666666666666  Recall: 0.0015455950540958269\n",
            "Threshold: 0.25  Precision: 0.2  Recall: 0.0015455950540958269\n",
            "Threshold: 0.28  Precision: 0.0  Recall: 0.0\n",
            "Threshold: 0.31  Precision: 0.0  Recall: 0.0\n",
            "Threshold: 0.33999999999999997  Precision: 0.0  Recall: 0.0\n",
            "Threshold: 0.37  Precision: 0.0  Recall: 0.0\n"
          ],
          "name": "stdout"
        },
        {
          "output_type": "stream",
          "text": [
            "/usr/local/lib/python3.6/dist-packages/sklearn/metrics/classification.py:1143: UndefinedMetricWarning: Precision is ill-defined and being set to 0.0 due to no predicted samples.\n",
            "  'precision', 'predicted', average, warn_for)\n"
          ],
          "name": "stderr"
        },
        {
          "output_type": "stream",
          "text": [
            "Threshold: 0.4  Precision: 0.0  Recall: 0.0\n",
            "Threshold: 0.42999999999999994  Precision: 0.0  Recall: 0.0\n",
            "Threshold: 0.45999999999999996  Precision: 0.0  Recall: 0.0\n",
            "Threshold: 0.49  Precision: 0.0  Recall: 0.0\n",
            "Threshold: 0.52  Precision: 0.0  Recall: 0.0\n",
            "Threshold: 0.5499999999999999  Precision: 0.0  Recall: 0.0\n",
            "Threshold: 0.58  Precision: 0.0  Recall: 0.0\n",
            "Threshold: 0.61  Precision: 0.0  Recall: 0.0\n",
            "Threshold: 0.64  Precision: 0.0  Recall: 0.0\n",
            "Threshold: 0.6699999999999999  Precision: 0.0  Recall: 0.0\n",
            "Threshold: 0.7  Precision: 0.0  Recall: 0.0\n",
            "Threshold: 0.73  Precision: 0.0  Recall: 0.0\n",
            "Threshold: 0.7599999999999999  Precision: 0.0  Recall: 0.0\n",
            "Threshold: 0.7899999999999999  Precision: 0.0  Recall: 0.0\n",
            "Threshold: 0.82  Precision: 0.0  Recall: 0.0\n",
            "Threshold: 0.85  Precision: 0.0  Recall: 0.0\n",
            "Threshold: 0.88  Precision: 0.0  Recall: 0.0\n",
            "Threshold: 0.9099999999999999  Precision: 0.0  Recall: 0.0\n",
            "Threshold: 0.94  Precision: 0.0  Recall: 0.0\n",
            "Threshold: 0.97  Precision: 0.0  Recall: 0.0\n",
            "Threshold: 0.9999999999999999  Precision: 0.0  Recall: 0.0\n"
          ],
          "name": "stdout"
        }
      ]
    },
    {
      "metadata": {
        "colab_type": "code",
        "id": "wEgRdBC_urf6",
        "colab": {}
      },
      "cell_type": "code",
      "source": [
        "precision = np.array(precision)\n",
        "recall = np.array(recall)"
      ],
      "execution_count": 0,
      "outputs": []
    },
    {
      "metadata": {
        "colab_type": "code",
        "id": "2hfDG1nuurgC",
        "colab": {
          "base_uri": "https://localhost:8080/",
          "height": 363
        },
        "outputId": "1a70a962-5aa2-449b-b8fd-0e28b4ef01a4"
      },
      "cell_type": "code",
      "source": [
        "plt.style.use(\"ggplot\")\n",
        "plt.figure()\n",
        "plt.plot(thresholds, precision, 'b--', label='Precision')\n",
        "plt.plot(thresholds, recall, 'r--', label='Recall')\n",
        "plt.xlabel('Threshold')\n",
        "plt.xlim([0.09, 1.01])\n",
        "plt.ylabel('Precision vs Recall')\n",
        "plt.legend()\n",
        "plt.savefig('drive/My Drive/Resultado/Segmentado/Resultado_Image/' + architecture + '/' + architecture + '_PrecisionVSRecall.png', bbox_inches='tight')"
      ],
      "execution_count": 108,
      "outputs": [
        {
          "output_type": "display_data",
          "data": {
            "image/png": "[encoded data removed]",
            "text/plain": [
              "<matplotlib.figure.Figure at 0x7ff6f07c4240>"
            ]
          },
          "metadata": {
            "tags": []
          }
        }
      ]
    },
    {
      "metadata": {
        "colab_type": "text",
        "id": "Un9HtbTIqkXS"
      },
      "cell_type": "markdown",
      "source": [
        "## 13 tentativa "
      ]
    },
    {
      "metadata": {
        "colab_type": "text",
        "id": "HNDvvOwsqkXW"
      },
      "cell_type": "markdown",
      "source": [
        "Modelo adaptado do **Lucas Albertins**\n",
        "\n",
        "*   Utilizado outra função de normalização, diferente da utilizada por ele."
      ]
    },
    {
      "metadata": {
        "colab_type": "code",
        "id": "_lp8G0SCqkXt",
        "colab": {}
      },
      "cell_type": "code",
      "source": [
        "architecture = 'architecture_13'"
      ],
      "execution_count": 0,
      "outputs": []
    },
    {
      "metadata": {
        "id": "5PdHZAGMEybs",
        "colab_type": "text"
      },
      "cell_type": "markdown",
      "source": [
        "### Modelo"
      ]
    },
    {
      "metadata": {
        "colab_type": "code",
        "id": "iTG2TFqBqkXa",
        "colab": {}
      },
      "cell_type": "code",
      "source": [
        "from keras.layers import Conv2D, MaxPooling2D, GlobalMaxPooling2D, BatchNormalization\n",
        "from keras.regularizers import l2\n",
        "\n",
        "model = Sequential()\n",
        "\n",
        "model.add(Conv2D(32, (3, 3), activation='relu',input_shape=(None, None, 3)))\n",
        "model.add(MaxPooling2D((2, 2)))\n",
        "model.add(BatchNormalization())\n",
        "model.add(Dropout(0.25))\n",
        "\n",
        "model.add(Conv2D(64, (5, 5), activation='relu'))\n",
        "model.add(MaxPooling2D((2, 2)))\n",
        "model.add(BatchNormalization())\n",
        "model.add(Dropout(0.25))\n",
        "\n",
        "model.add(Conv2D(128, (7, 7),activation='relu'))\n",
        "model.add(MaxPooling2D((2, 2)))\n",
        "model.add(BatchNormalization())\n",
        "model.add(Dropout(0.25))\n",
        "\n",
        "model.add(Conv2D(128, (1,1)))\n",
        "model.add(GlobalMaxPooling2D())\n",
        "\n",
        "model.add(Dense(256, activation='relu'))\n",
        "model.add(Dropout(0.5))\n",
        "model.add(Dense(2, activation='sigmoid'))"
      ],
      "execution_count": 0,
      "outputs": []
    },
    {
      "metadata": {
        "colab_type": "code",
        "id": "xbd43caBqkXj",
        "colab": {}
      },
      "cell_type": "code",
      "source": [
        "model.compile(optimizer='adam', loss='binary_crossentropy', metrics=['accuracy'])"
      ],
      "execution_count": 0,
      "outputs": []
    },
    {
      "metadata": {
        "colab_type": "code",
        "id": "TvM1WKi8FvyL",
        "colab": {}
      },
      "cell_type": "code",
      "source": [
        "model.load_weights('drive/My Drive/Resultado/Segmentado/weights_' + architecture + '.hdf5')"
      ],
      "execution_count": 0,
      "outputs": []
    },
    {
      "metadata": {
        "colab_type": "text",
        "id": "UR_S-EfFFvyd"
      },
      "cell_type": "markdown",
      "source": [
        "### Teste"
      ]
    },
    {
      "metadata": {
        "id": "0whaIdld292j",
        "colab_type": "code",
        "outputId": "191aca60-3889-49aa-be00-3788e97cdeae",
        "colab": {
          "base_uri": "https://localhost:8080/",
          "height": 660
        }
      },
      "cell_type": "code",
      "source": [
        "precision, recall, thresholds = ler_images_teste(architecture)"
      ],
      "execution_count": 17,
      "outputs": [
        {
          "output_type": "stream",
          "text": [
            "/usr/local/lib/python3.6/dist-packages/skimage/transform/_warps.py:84: UserWarning: The default mode, 'constant', will be changed to 'reflect' in skimage 0.15.\n",
            "  warn(\"The default mode, 'constant', will be changed to 'reflect' in \"\n"
          ],
          "name": "stderr"
        },
        {
          "output_type": "stream",
          "text": [
            "Threshold: 0.1  Precision: 0.19230769230769232  Recall: 0.0077279752704791345\n",
            "Threshold: 0.13  Precision: 0.16666666666666666  Recall: 0.00463678516228748\n",
            "Threshold: 0.16  Precision: 0.1875  Recall: 0.00463678516228748\n",
            "Threshold: 0.19  Precision: 0.15384615384615385  Recall: 0.0030911901081916537\n",
            "Threshold: 0.22  Precision: 0.09090909090909091  Recall: 0.0015455950540958269\n",
            "Threshold: 0.25  Precision: 0.125  Recall: 0.0015455950540958269\n",
            "Threshold: 0.28  Precision: 0.16666666666666666  Recall: 0.0015455950540958269\n",
            "Threshold: 0.31  Precision: 0.0  Recall: 0.0\n",
            "Threshold: 0.33999999999999997  Precision: 0.0  Recall: 0.0\n",
            "Threshold: 0.37  Precision: 0.0  Recall: 0.0\n",
            "Threshold: 0.4  Precision: 0.0  Recall: 0.0\n",
            "Threshold: 0.42999999999999994  Precision: 0.0  Recall: 0.0\n"
          ],
          "name": "stdout"
        },
        {
          "output_type": "stream",
          "text": [
            "/usr/local/lib/python3.6/dist-packages/sklearn/metrics/classification.py:1143: UndefinedMetricWarning: Precision is ill-defined and being set to 0.0 due to no predicted samples.\n",
            "  'precision', 'predicted', average, warn_for)\n"
          ],
          "name": "stderr"
        },
        {
          "output_type": "stream",
          "text": [
            "Threshold: 0.45999999999999996  Precision: 0.0  Recall: 0.0\n",
            "Threshold: 0.49  Precision: 0.0  Recall: 0.0\n",
            "Threshold: 0.52  Precision: 0.0  Recall: 0.0\n",
            "Threshold: 0.5499999999999999  Precision: 0.0  Recall: 0.0\n",
            "Threshold: 0.58  Precision: 0.0  Recall: 0.0\n",
            "Threshold: 0.61  Precision: 0.0  Recall: 0.0\n",
            "Threshold: 0.64  Precision: 0.0  Recall: 0.0\n",
            "Threshold: 0.6699999999999999  Precision: 0.0  Recall: 0.0\n",
            "Threshold: 0.7  Precision: 0.0  Recall: 0.0\n",
            "Threshold: 0.73  Precision: 0.0  Recall: 0.0\n",
            "Threshold: 0.7599999999999999  Precision: 0.0  Recall: 0.0\n",
            "Threshold: 0.7899999999999999  Precision: 0.0  Recall: 0.0\n",
            "Threshold: 0.82  Precision: 0.0  Recall: 0.0\n",
            "Threshold: 0.85  Precision: 0.0  Recall: 0.0\n",
            "Threshold: 0.88  Precision: 0.0  Recall: 0.0\n",
            "Threshold: 0.9099999999999999  Precision: 0.0  Recall: 0.0\n",
            "Threshold: 0.94  Precision: 0.0  Recall: 0.0\n",
            "Threshold: 0.97  Precision: 0.0  Recall: 0.0\n",
            "Threshold: 0.9999999999999999  Precision: 0.0  Recall: 0.0\n"
          ],
          "name": "stdout"
        }
      ]
    },
    {
      "metadata": {
        "id": "kZdNB8iYIzP0",
        "colab_type": "code",
        "colab": {}
      },
      "cell_type": "code",
      "source": [
        "precision = np.array(precision)\n",
        "recall = np.array(recall)"
      ],
      "execution_count": 0,
      "outputs": []
    },
    {
      "metadata": {
        "id": "ilpMj_gML9Ys",
        "colab_type": "code",
        "outputId": "b7a71ffd-a1b0-4aa4-e593-40869c09e568",
        "colab": {
          "base_uri": "https://localhost:8080/",
          "height": 364
        }
      },
      "cell_type": "code",
      "source": [
        "plt.style.use(\"ggplot\")\n",
        "plt.figure()\n",
        "plt.plot(thresholds, precision, 'b--', label='Precision')\n",
        "plt.plot(thresholds, recall, 'r--', label='Recall')\n",
        "plt.xlabel('Threshold')\n",
        "plt.xlim([0.09, 1.01])\n",
        "plt.ylabel('Precision vs Recall')\n",
        "plt.legend()\n",
        "plt.savefig('drive/My Drive/Resultado/Segmentado/Resultado_Image/' + architecture + '/' + architecture + '_PrecisionVSRecall.png', bbox_inches='tight')"
      ],
      "execution_count": 19,
      "outputs": [
        {
          "output_type": "display_data",
          "data": {
            "image/png": "[encoded data removed]",
            "text/plain": [
              "<matplotlib.figure.Figure at 0x7f372dbd01d0>"
            ]
          },
          "metadata": {
            "tags": []
          }
        }
      ]
    }
  ]
}