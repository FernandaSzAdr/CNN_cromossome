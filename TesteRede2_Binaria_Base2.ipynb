{
  "nbformat": 4,
  "nbformat_minor": 0,
  "metadata": {
    "colab": {
      "name": "TesteRede2_Binaria_Base2.ipynb",
      "version": "0.3.2",
      "provenance": [],
      "toc_visible": true,
      "include_colab_link": true
    },
    "kernelspec": {
      "name": "python3",
      "display_name": "Python 3"
    },
    "accelerator": "GPU"
  },
  "cells": [
    {
      "cell_type": "markdown",
      "metadata": {
        "id": "view-in-github",
        "colab_type": "text"
      },
      "source": [
        "<a href=\"https://colab.research.google.com/github/FernandaSzAdr/KNN_cromossome/blob/master/TesteRede2_Binaria_Base2.ipynb\" target=\"_parent\"><img src=\"https://colab.research.google.com/assets/colab-badge.svg\" alt=\"Open In Colab\"/></a>"
      ]
    },
    {
      "metadata": {
        "id": "xN-oUTtcif3Q",
        "colab_type": "code",
        "outputId": "12dbb4ed-3f18-44ac-b8e5-5769994650f2",
        "colab": {
          "base_uri": "https://localhost:8080/",
          "height": 129
        }
      },
      "cell_type": "code",
      "source": [
        "# Load the Drive helper and mount\n",
        "from google.colab import drive\n",
        "\n",
        "# This will prompt for authorization.\n",
        "drive.mount('/content/drive/')"
      ],
      "execution_count": 1,
      "outputs": [
        {
          "output_type": "stream",
          "text": [
            "Go to this URL in a browser: https://accounts.google.com/o/oauth2/auth?client_id=947318989803-6bn6qk8qdgf4n4g3pfee6491hc0brc4i.apps.googleusercontent.com&redirect_uri=urn%3Aietf%3Awg%3Aoauth%3A2.0%3Aoob&scope=email%20https%3A%2F%2Fwww.googleapis.com%2Fauth%2Fdocs.test%20https%3A%2F%2Fwww.googleapis.com%2Fauth%2Fdrive%20https%3A%2F%2Fwww.googleapis.com%2Fauth%2Fdrive.photos.readonly%20https%3A%2F%2Fwww.googleapis.com%2Fauth%2Fpeopleapi.readonly&response_type=code\n",
            "\n",
            "Enter your authorization code:\n",
            "··········\n",
            "Mounted at /content/drive/\n"
          ],
          "name": "stdout"
        }
      ]
    },
    {
      "metadata": {
        "id": "gzcuEGSklnwS",
        "colab_type": "code",
        "outputId": "2c0536a7-d392-4905-a02c-cc01c1b54341",
        "colab": {
          "base_uri": "https://localhost:8080/",
          "height": 35
        }
      },
      "cell_type": "code",
      "source": [
        "import os\n",
        "import cv2\n",
        "import csv\n",
        "!pip install imutils\n",
        "import imutils\n",
        "from skimage import transform\n",
        "import numpy as np\n",
        "import keras\n",
        "from keras import backend as K\n",
        "from keras.models import Sequential\n",
        "from keras.layers import Activation\n",
        "from keras.optimizers import SGD\n",
        "from keras.layers.core import Dense, Flatten, Dropout\n",
        "from keras.preprocessing.image import ImageDataGenerator\n",
        "from keras.layers.normalization import BatchNormalization\n",
        "from keras.layers.convolutional import *\n",
        "from keras.callbacks import ModelCheckpoint\n",
        "from matplotlib import pyplot as plt\n",
        "from sklearn.metrics import confusion_matrix\n",
        "from sklearn.metrics import accuracy_score\n",
        "import itertools\n",
        "import matplotlib.pyplot as plt"
      ],
      "execution_count": 3,
      "outputs": [
        {
          "output_type": "stream",
          "text": [
            "Requirement already satisfied: imutils in /usr/local/lib/python3.6/dist-packages (0.5.1)\n"
          ],
          "name": "stdout"
        }
      ]
    },
    {
      "metadata": {
        "id": "ITtEfxrilym7",
        "colab_type": "code",
        "colab": {}
      },
      "cell_type": "code",
      "source": [
        "train_path = 'drive/My Drive/Base_CNN/Binarizado2/Train'\n",
        "test_path = 'drive/My Drive/Base_CNN/Binarizado2/Test'\n",
        "validation_path = 'drive/My Drive/Base_CNN/Binarizado2/Validation'"
      ],
      "execution_count": 0,
      "outputs": []
    },
    {
      "metadata": {
        "id": "e835RSQgEgA6",
        "colab_type": "code",
        "colab": {}
      },
      "cell_type": "code",
      "source": [
        "def converte(regiao):\n",
        "   regiao = np.array(regiao).astype('float32')/255\n",
        "   regiao = transform.resize(regiao, (120, 120, 3))\n",
        "   regiao = np.expand_dims(regiao, axis=0)\n",
        "   return regiao\n"
      ],
      "execution_count": 0,
      "outputs": []
    },
    {
      "metadata": {
        "id": "9ERJTQ3AgFJb",
        "colab_type": "code",
        "colab": {}
      },
      "cell_type": "code",
      "source": [
        "def ler_images_teste(arquiteture):\n",
        "  y_true = []\n",
        "  y_predict = []\n",
        "  images_test = os.listdir(test_path)\n",
        "  local = 'drive/My Drive/Base_CNN/Binarizado2/Resultado_Image/' + arquiteture\n",
        "  if os.path.isdir(local) == False:\n",
        "    os.mkdir(local)\n",
        "  \n",
        "  for img in images_test:\n",
        "    # Pega cada imagem separadamente do folder de teste\n",
        "    image = cv2.imread(test_path + '/' + img)\n",
        "    f = open('drive/My Drive/Base_CNN/Binarizado2/posicoes_segmentada.csv', 'r')\n",
        "    \n",
        "    copia = image.copy()\n",
        "\n",
        "    try:\n",
        "      leitor = csv.reader(f)\n",
        "      leitor = list(leitor)\n",
        "      leitor.pop(0)\n",
        "      for linha in leitor:\n",
        "        if len(linha) > 0:\n",
        "          # Para cada região dessa imagem:\n",
        "          if linha[0] == img:\n",
        "            posicoes = []\n",
        "            x = int(linha[3])\n",
        "            y = int(linha[4])\n",
        "            w = int(linha[5])\n",
        "            h = int(linha[6])\n",
        "            \n",
        "            # Label da região\n",
        "            label = linha[1]\n",
        "            if label == 'NC':\n",
        "              y_true.append(1)\n",
        "            else:\n",
        "              y_true.append(0)\n",
        "            \n",
        "            # Região\n",
        "            regiao = image[y: y + h, x: x + w]\n",
        "            regiao = converte(regiao)\n",
        "            \n",
        "            # Coloca a região na função e obtem o resultado\n",
        "            predicao = model.predict(regiao,batch_size=bSize,verbose=0)\n",
        "            \n",
        "            # Se é um cromossomo:\n",
        "            if predicao[0][0] > predicao[0][1]:\n",
        "              y_predict.append(0)\n",
        "              cv2.rectangle(copia,(x, y),(x+w, y+h),(0,255,0), 1)\n",
        "            # Se não for um cromossomo:\n",
        "            else:\n",
        "              y_predict.append(1)\n",
        "              cv2.rectangle(copia,(x, y),(x+w, y+h),(0,0,255), 1)\n",
        "                        \n",
        "    finally:\n",
        "      f.close()\n",
        "    \n",
        "    cv2.imwrite(local + '/' + img, copia)\n",
        "  \n",
        "  return y_true, y_predict\n"
      ],
      "execution_count": 0,
      "outputs": []
    },
    {
      "metadata": {
        "id": "WlPBqB_v3x2A",
        "colab_type": "text"
      },
      "cell_type": "markdown",
      "source": [
        "\n",
        "\n",
        "---\n",
        "\n"
      ]
    },
    {
      "metadata": {
        "id": "8KTtm8K7qg1n",
        "colab_type": "text"
      },
      "cell_type": "markdown",
      "source": [
        "## Implementação"
      ]
    },
    {
      "metadata": {
        "id": "ZNfohSUpo1n0",
        "colab_type": "text"
      },
      "cell_type": "markdown",
      "source": [
        "\n",
        "\n",
        "*   Batch size = 32\n",
        "*   Image size = 120x120\n",
        "\n"
      ]
    },
    {
      "metadata": {
        "id": "_TFWtLbQ2fUI",
        "colab_type": "code",
        "colab": {}
      },
      "cell_type": "code",
      "source": [
        "results = {}"
      ],
      "execution_count": 0,
      "outputs": []
    },
    {
      "metadata": {
        "id": "W3zmFDRmnYem",
        "colab_type": "code",
        "colab": {}
      },
      "cell_type": "code",
      "source": [
        "bSize = 32"
      ],
      "execution_count": 0,
      "outputs": []
    },
    {
      "metadata": {
        "id": "dCNH0jPl3WTV",
        "colab_type": "code",
        "colab": {}
      },
      "cell_type": "code",
      "source": [
        "datagen = ImageDataGenerator(rescale=1/255.)"
      ],
      "execution_count": 0,
      "outputs": []
    },
    {
      "metadata": {
        "id": "YiMXe23Vmbo-",
        "colab_type": "code",
        "outputId": "4caf6985-f138-44b4-f596-9d5e2016e615",
        "colab": {
          "base_uri": "https://localhost:8080/",
          "height": 54
        }
      },
      "cell_type": "code",
      "source": [
        "train_batches = datagen.flow_from_directory(train_path, target_size=(120, 120), \n",
        "                                            classes=['C', 'NC'], \n",
        "                                            batch_size=bSize)\n",
        "validation_batches = datagen.flow_from_directory(validation_path, \n",
        "                                                 target_size=(120, 120), \n",
        "                                                 classes=['C', 'NC'], \n",
        "                                                 batch_size=bSize)"
      ],
      "execution_count": 10,
      "outputs": [
        {
          "output_type": "stream",
          "text": [
            "Found 5675 images belonging to 2 classes.\n",
            "Found 1509 images belonging to 2 classes.\n"
          ],
          "name": "stdout"
        }
      ]
    },
    {
      "metadata": {
        "id": "vE-dZtSv5mde",
        "colab_type": "code",
        "colab": {}
      },
      "cell_type": "code",
      "source": [
        "stepsPerEpoche = len(train_batches)/bSize\n",
        "validationSteps = len(validation_batches)/bSize"
      ],
      "execution_count": 0,
      "outputs": []
    },
    {
      "metadata": {
        "id": "tY7Fxpczz0wk",
        "colab_type": "text"
      },
      "cell_type": "markdown",
      "source": [
        "\n",
        "\n",
        "---\n",
        "\n"
      ]
    },
    {
      "metadata": {
        "id": "wH56YdE5rlnU",
        "colab_type": "text"
      },
      "cell_type": "markdown",
      "source": [
        "### 1 tentativa Accuracy: 80.36%\n"
      ]
    },
    {
      "metadata": {
        "id": "NBCIFVOlompR",
        "colab_type": "text"
      },
      "cell_type": "markdown",
      "source": [
        "**Descrição**\n",
        "\n",
        "\n",
        "*   Modelo descrito no artigo \"Crowdsourcing for Chromosome Segmentation and Deep Classification\"\n",
        "\n"
      ]
    },
    {
      "metadata": {
        "id": "rNosdG-ioNYU",
        "colab_type": "code",
        "colab": {}
      },
      "cell_type": "code",
      "source": [
        "model = Sequential([\n",
        "    Conv2D(64, (3, 3), activation='relu', input_shape=(120, 120, 3)),\n",
        "    Conv2D(64, (3, 3), activation='relu'),\n",
        "    Dropout(0.2),\n",
        "    MaxPooling2D(pool_size=(2, 2)),\n",
        "   \n",
        "    Conv2D(32, (3, 3), activation='relu'),\n",
        "    Conv2D(32, (3, 3), activation='relu'),\n",
        "    Dropout(0.2),\n",
        "    MaxPooling2D(pool_size=(2, 2)),\n",
        "   \n",
        "    Conv2D(16, (3, 3), activation='relu'),\n",
        "    Conv2D(16, (3, 3), activation='relu'),\n",
        "    Dropout(0.2),\n",
        "    MaxPooling2D(pool_size=(2, 2)),\n",
        "   \n",
        "    Conv2D(8, (3, 3), activation='relu'),\n",
        "    Conv2D(8, (3, 3), activation='relu'),\n",
        "    Dropout(0.2),\n",
        "    MaxPooling2D(pool_size=(2, 2)),\n",
        "    \n",
        "    Flatten(),\n",
        "    Dense(1024, activation='sigmoid'),\n",
        "    Dense(512, activation='sigmoid'),\n",
        "   \n",
        "    Dense(2, activation='softmax')\n",
        "]\n",
        ")"
      ],
      "execution_count": 0,
      "outputs": []
    },
    {
      "metadata": {
        "id": "UBqwdK2Bxagj",
        "colab_type": "code",
        "colab": {}
      },
      "cell_type": "code",
      "source": [
        "model.compile(SGD(lr=0.01, momentum=0.0, decay=0.0, nesterov=False), \n",
        "              loss='categorical_crossentropy', metrics=['accuracy'])"
      ],
      "execution_count": 0,
      "outputs": []
    },
    {
      "metadata": {
        "id": "iclhpyXmi_DU",
        "colab_type": "code",
        "colab": {}
      },
      "cell_type": "code",
      "source": [
        "arquiteture = 'architecture_1'"
      ],
      "execution_count": 0,
      "outputs": []
    },
    {
      "metadata": {
        "colab_type": "code",
        "id": "LqOsSip-k_v7",
        "colab": {}
      },
      "cell_type": "code",
      "source": [
        "checkpointer = ModelCheckpoint(filepath='drive/My Drive/Resultado/weights_' + arquiteture + '.hdf5', verbose=1, save_best_only=True)"
      ],
      "execution_count": 0,
      "outputs": []
    },
    {
      "metadata": {
        "id": "PeyX7Mzf5lDw",
        "colab_type": "code",
        "outputId": "423a5b7c-97d2-4406-fa31-d9eec2c1d3c6",
        "colab": {
          "base_uri": "https://localhost:8080/",
          "height": 3690
        }
      },
      "cell_type": "code",
      "source": [
        "training = model.fit_generator(train_batches, steps_per_epoch=stepsPerEpoche, \n",
        "                   validation_data=validation_batches, validation_steps=validationSteps,\n",
        "                   epochs=50, verbose=2, callbacks=[checkpointer])"
      ],
      "execution_count": 16,
      "outputs": [
        {
          "output_type": "stream",
          "text": [
            "Epoch 1/50\n",
            " - 77s - loss: 0.6711 - acc: 0.5677 - val_loss: 0.6894 - val_acc: 0.5938\n",
            "\n",
            "Epoch 00001: val_loss improved from inf to 0.68935, saving model to drive/My Drive/Resultado/weights_architecture_1.hdf5\n",
            "Epoch 2/50\n",
            " - 77s - loss: 0.6949 - acc: 0.5365 - val_loss: 0.6874 - val_acc: 0.5625\n",
            "\n",
            "Epoch 00002: val_loss improved from 0.68935 to 0.68741, saving model to drive/My Drive/Resultado/weights_architecture_1.hdf5\n",
            "Epoch 3/50\n",
            " - 73s - loss: 0.6861 - acc: 0.5677 - val_loss: 0.6136 - val_acc: 0.7188\n",
            "\n",
            "Epoch 00003: val_loss improved from 0.68741 to 0.61360, saving model to drive/My Drive/Resultado/weights_architecture_1.hdf5\n",
            "Epoch 4/50\n",
            " - 71s - loss: 0.6874 - acc: 0.6354 - val_loss: 0.6519 - val_acc: 0.6719\n",
            "\n",
            "Epoch 00004: val_loss did not improve from 0.61360\n",
            "Epoch 5/50\n",
            " - 75s - loss: 0.6988 - acc: 0.5833 - val_loss: 0.6772 - val_acc: 0.6094\n",
            "\n",
            "Epoch 00005: val_loss did not improve from 0.61360\n",
            "Epoch 6/50\n",
            " - 71s - loss: 0.6771 - acc: 0.6198 - val_loss: 0.6330 - val_acc: 0.6719\n",
            "\n",
            "Epoch 00006: val_loss did not improve from 0.61360\n",
            "Epoch 7/50\n",
            " - 75s - loss: 0.6922 - acc: 0.6250 - val_loss: 0.6797 - val_acc: 0.6094\n",
            "\n",
            "Epoch 00007: val_loss did not improve from 0.61360\n",
            "Epoch 8/50\n",
            " - 70s - loss: 0.6735 - acc: 0.5677 - val_loss: 0.6553 - val_acc: 0.6406\n",
            "\n",
            "Epoch 00008: val_loss did not improve from 0.61360\n",
            "Epoch 9/50\n",
            " - 73s - loss: 0.6539 - acc: 0.6354 - val_loss: 0.6946 - val_acc: 0.4062\n",
            "\n",
            "Epoch 00009: val_loss did not improve from 0.61360\n",
            "Epoch 10/50\n",
            " - 69s - loss: 0.6490 - acc: 0.5990 - val_loss: 0.6691 - val_acc: 0.6094\n",
            "\n",
            "Epoch 00010: val_loss did not improve from 0.61360\n",
            "Epoch 11/50\n",
            " - 66s - loss: 0.7070 - acc: 0.5990 - val_loss: 0.6711 - val_acc: 0.6094\n",
            "\n",
            "Epoch 00011: val_loss did not improve from 0.61360\n",
            "Epoch 12/50\n",
            " - 74s - loss: 0.6492 - acc: 0.6615 - val_loss: 0.6779 - val_acc: 0.6094\n",
            "\n",
            "Epoch 00012: val_loss did not improve from 0.61360\n",
            "Epoch 13/50\n",
            " - 70s - loss: 0.6743 - acc: 0.6146 - val_loss: 0.6902 - val_acc: 0.6562\n",
            "\n",
            "Epoch 00013: val_loss did not improve from 0.61360\n",
            "Epoch 14/50\n",
            " - 77s - loss: 0.6860 - acc: 0.5625 - val_loss: 0.6661 - val_acc: 0.6562\n",
            "\n",
            "Epoch 00014: val_loss did not improve from 0.61360\n",
            "Epoch 15/50\n",
            " - 77s - loss: 0.6718 - acc: 0.6302 - val_loss: 0.6652 - val_acc: 0.6250\n",
            "\n",
            "Epoch 00015: val_loss did not improve from 0.61360\n",
            "Epoch 16/50\n",
            " - 73s - loss: 0.6870 - acc: 0.5938 - val_loss: 0.6531 - val_acc: 0.6406\n",
            "\n",
            "Epoch 00016: val_loss did not improve from 0.61360\n",
            "Epoch 17/50\n",
            " - 67s - loss: 0.6270 - acc: 0.6823 - val_loss: 0.6825 - val_acc: 0.5938\n",
            "\n",
            "Epoch 00017: val_loss did not improve from 0.61360\n",
            "Epoch 18/50\n",
            " - 68s - loss: 0.6922 - acc: 0.5781 - val_loss: 0.6287 - val_acc: 0.6875\n",
            "\n",
            "Epoch 00018: val_loss did not improve from 0.61360\n",
            "Epoch 19/50\n",
            " - 71s - loss: 0.6642 - acc: 0.6354 - val_loss: 0.6534 - val_acc: 0.6406\n",
            "\n",
            "Epoch 00019: val_loss did not improve from 0.61360\n",
            "Epoch 20/50\n",
            " - 71s - loss: 0.6524 - acc: 0.6510 - val_loss: 0.6446 - val_acc: 0.6562\n",
            "\n",
            "Epoch 00020: val_loss did not improve from 0.61360\n",
            "Epoch 21/50\n",
            " - 70s - loss: 0.6730 - acc: 0.6562 - val_loss: 0.7182 - val_acc: 0.5781\n",
            "\n",
            "Epoch 00021: val_loss did not improve from 0.61360\n",
            "Epoch 22/50\n",
            " - 70s - loss: 0.6512 - acc: 0.6510 - val_loss: 0.6520 - val_acc: 0.6562\n",
            "\n",
            "Epoch 00022: val_loss did not improve from 0.61360\n",
            "Epoch 23/50\n",
            " - 67s - loss: 0.6760 - acc: 0.6354 - val_loss: 0.6047 - val_acc: 0.7188\n",
            "\n",
            "Epoch 00023: val_loss improved from 0.61360 to 0.60470, saving model to drive/My Drive/Resultado/weights_architecture_1.hdf5\n",
            "Epoch 24/50\n",
            " - 68s - loss: 0.6375 - acc: 0.6562 - val_loss: 0.6875 - val_acc: 0.6486\n",
            "\n",
            "Epoch 00024: val_loss did not improve from 0.60470\n",
            "Epoch 25/50\n",
            " - 79s - loss: 0.6999 - acc: 0.5156 - val_loss: 0.6582 - val_acc: 0.6875\n",
            "\n",
            "Epoch 00025: val_loss did not improve from 0.60470\n",
            "Epoch 26/50\n",
            " - 66s - loss: 0.6774 - acc: 0.6042 - val_loss: 0.6643 - val_acc: 0.6250\n",
            "\n",
            "Epoch 00026: val_loss did not improve from 0.60470\n",
            "Epoch 27/50\n",
            " - 84s - loss: 0.6486 - acc: 0.6510 - val_loss: 0.6615 - val_acc: 0.6250\n",
            "\n",
            "Epoch 00027: val_loss did not improve from 0.60470\n",
            "Epoch 28/50\n",
            " - 69s - loss: 0.6751 - acc: 0.6094 - val_loss: 0.6669 - val_acc: 0.7031\n",
            "\n",
            "Epoch 00028: val_loss did not improve from 0.60470\n",
            "Epoch 29/50\n",
            " - 76s - loss: 0.6596 - acc: 0.6354 - val_loss: 0.6212 - val_acc: 0.6875\n",
            "\n",
            "Epoch 00029: val_loss did not improve from 0.60470\n",
            "Epoch 30/50\n",
            " - 42s - loss: 0.6963 - acc: 0.5302 - val_loss: 0.6779 - val_acc: 0.6094\n",
            "\n",
            "Epoch 00030: val_loss did not improve from 0.60470\n",
            "Epoch 31/50\n",
            " - 1s - loss: 0.6753 - acc: 0.5990 - val_loss: 0.6781 - val_acc: 0.5938\n",
            "\n",
            "Epoch 00031: val_loss did not improve from 0.60470\n",
            "Epoch 32/50\n",
            " - 1s - loss: 0.6565 - acc: 0.6354 - val_loss: 0.7202 - val_acc: 0.5625\n",
            "\n",
            "Epoch 00032: val_loss did not improve from 0.60470\n",
            "Epoch 33/50\n",
            " - 1s - loss: 0.6649 - acc: 0.6250 - val_loss: 0.6646 - val_acc: 0.6406\n",
            "\n",
            "Epoch 00033: val_loss did not improve from 0.60470\n",
            "Epoch 34/50\n",
            " - 1s - loss: 0.6450 - acc: 0.6562 - val_loss: 0.6096 - val_acc: 0.7031\n",
            "\n",
            "Epoch 00034: val_loss did not improve from 0.60470\n",
            "Epoch 35/50\n",
            " - 1s - loss: 0.6953 - acc: 0.5781 - val_loss: 0.6576 - val_acc: 0.6562\n",
            "\n",
            "Epoch 00035: val_loss did not improve from 0.60470\n",
            "Epoch 36/50\n",
            " - 1s - loss: 0.6638 - acc: 0.6250 - val_loss: 0.6692 - val_acc: 0.6094\n",
            "\n",
            "Epoch 00036: val_loss did not improve from 0.60470\n",
            "Epoch 37/50\n",
            " - 1s - loss: 0.6888 - acc: 0.6146 - val_loss: 0.6825 - val_acc: 0.6094\n",
            "\n",
            "Epoch 00037: val_loss did not improve from 0.60470\n",
            "Epoch 38/50\n",
            " - 1s - loss: 0.6824 - acc: 0.6146 - val_loss: 0.6442 - val_acc: 0.6562\n",
            "\n",
            "Epoch 00038: val_loss did not improve from 0.60470\n",
            "Epoch 39/50\n",
            " - 1s - loss: 0.7119 - acc: 0.5833 - val_loss: 0.6941 - val_acc: 0.4375\n",
            "\n",
            "Epoch 00039: val_loss did not improve from 0.60470\n",
            "Epoch 40/50\n",
            " - 1s - loss: 0.6731 - acc: 0.5990 - val_loss: 0.6416 - val_acc: 0.6719\n",
            "\n",
            "Epoch 00040: val_loss did not improve from 0.60470\n",
            "Epoch 41/50\n",
            " - 1s - loss: 0.6862 - acc: 0.5469 - val_loss: 0.6618 - val_acc: 0.6250\n",
            "\n",
            "Epoch 00041: val_loss did not improve from 0.60470\n",
            "Epoch 42/50\n",
            " - 1s - loss: 0.7153 - acc: 0.5833 - val_loss: 0.6845 - val_acc: 0.6250\n",
            "\n",
            "Epoch 00042: val_loss did not improve from 0.60470\n",
            "Epoch 43/50\n",
            " - 1s - loss: 0.6573 - acc: 0.6302 - val_loss: 0.7149 - val_acc: 0.5469\n",
            "\n",
            "Epoch 00043: val_loss did not improve from 0.60470\n",
            "Epoch 44/50\n",
            " - 1s - loss: 0.6774 - acc: 0.5990 - val_loss: 0.6868 - val_acc: 0.7500\n",
            "\n",
            "Epoch 00044: val_loss did not improve from 0.60470\n",
            "Epoch 45/50\n",
            " - 1s - loss: 0.6676 - acc: 0.6146 - val_loss: 0.7055 - val_acc: 0.6406\n",
            "\n",
            "Epoch 00045: val_loss did not improve from 0.60470\n",
            "Epoch 46/50\n",
            " - 1s - loss: 0.6379 - acc: 0.6927 - val_loss: 0.6858 - val_acc: 0.5938\n",
            "\n",
            "Epoch 00046: val_loss did not improve from 0.60470\n",
            "Epoch 47/50\n",
            " - 1s - loss: 0.6706 - acc: 0.6302 - val_loss: 0.6435 - val_acc: 0.6562\n",
            "\n",
            "Epoch 00047: val_loss did not improve from 0.60470\n",
            "Epoch 48/50\n",
            " - 1s - loss: 0.6466 - acc: 0.6771 - val_loss: 0.7490 - val_acc: 0.5946\n",
            "\n",
            "Epoch 00048: val_loss did not improve from 0.60470\n",
            "Epoch 49/50\n",
            " - 1s - loss: 0.6848 - acc: 0.6250 - val_loss: 0.6355 - val_acc: 0.7188\n",
            "\n",
            "Epoch 00049: val_loss did not improve from 0.60470\n",
            "Epoch 50/50\n",
            " - 1s - loss: 0.6755 - acc: 0.6250 - val_loss: 0.6539 - val_acc: 0.6406\n",
            "\n",
            "Epoch 00050: val_loss did not improve from 0.60470\n"
          ],
          "name": "stdout"
        }
      ]
    },
    {
      "metadata": {
        "id": "c1LR04eV6AJ5",
        "colab_type": "code",
        "colab": {}
      },
      "cell_type": "code",
      "source": [
        "model.load_weights('drive/My Drive/Resultado/weights_architecture_1.hdf5')"
      ],
      "execution_count": 0,
      "outputs": []
    },
    {
      "metadata": {
        "id": "VeLCe59ltne5",
        "colab_type": "code",
        "outputId": "80f649a8-8b13-46a4-e1c7-a3b693f9fe77",
        "colab": {
          "base_uri": "https://localhost:8080/",
          "height": 380
        }
      },
      "cell_type": "code",
      "source": [
        "# plotar loss e accuracy para os datasets 'train' e 'test'\n",
        "plt.style.use(\"ggplot\")\n",
        "plt.figure()\n",
        "plt.plot(training.history['acc'], label='Accuracy')\n",
        "plt.plot(training.history['loss'], label='Loss')\n",
        "plt.xlabel('Epochs')\n",
        "plt.ylabel('Accuracy')\n",
        "plt.title(\"Training Loss and Accuracy\")\n",
        "plt.ylabel(\"Loss/Accuracy\")\n",
        "plt.legend()\n",
        "plt.savefig('drive/My Drive/Resultado/' + arquiteture + '.png', bbox_inches='tight')"
      ],
      "execution_count": 18,
      "outputs": [
        {
          "output_type": "display_data",
          "data": {
            "image/png": "[encoded data removed]",
            "text/plain": [
              "<matplotlib.figure.Figure at 0x7fd1fa2055f8>"
            ]
          },
          "metadata": {
            "tags": []
          }
        }
      ]
    },
    {
      "metadata": {
        "id": "CuxP4w361rkP",
        "colab_type": "code",
        "outputId": "839d8e73-49ae-492f-d2e7-cafc7067b8aa",
        "colab": {
          "base_uri": "https://localhost:8080/",
          "height": 54
        }
      },
      "cell_type": "code",
      "source": [
        "y_true, y_predict = ler_images_teste(arquiteture)"
      ],
      "execution_count": 19,
      "outputs": [
        {
          "output_type": "stream",
          "text": [
            "/usr/local/lib/python3.6/dist-packages/skimage/transform/_warps.py:84: UserWarning: The default mode, 'constant', will be changed to 'reflect' in skimage 0.15.\n",
            "  warn(\"The default mode, 'constant', will be changed to 'reflect' in \"\n"
          ],
          "name": "stderr"
        }
      ]
    },
    {
      "metadata": {
        "id": "Juqn8SXr0VvZ",
        "colab_type": "code",
        "outputId": "e033fdd1-c2ca-4793-f35b-b5003dd25545",
        "colab": {
          "base_uri": "https://localhost:8080/",
          "height": 35
        }
      },
      "cell_type": "code",
      "source": [
        "results[arquiteture] = accuracy_score(y_true, y_predict)\n",
        "print('Test Accuracy: {:.2f}%'.format(100 * results[arquiteture]))"
      ],
      "execution_count": 20,
      "outputs": [
        {
          "output_type": "stream",
          "text": [
            "Test Accuracy: 80.36%\n"
          ],
          "name": "stdout"
        }
      ]
    },
    {
      "metadata": {
        "id": "71jZE6lXsmgW",
        "colab_type": "text"
      },
      "cell_type": "markdown",
      "source": [
        "\n",
        "\n",
        "---\n",
        "\n"
      ]
    },
    {
      "metadata": {
        "id": "T7nOK0TDr6Hc",
        "colab_type": "text"
      },
      "cell_type": "markdown",
      "source": [
        "### 2 tentativa Accuracy: 80.36%"
      ]
    },
    {
      "metadata": {
        "colab_type": "text",
        "id": "-DJtvxKNp9sb"
      },
      "cell_type": "markdown",
      "source": [
        "**Descrição**\n",
        "\n",
        "\n",
        "*   Modelo descrito no artigo \"Crowdsourcing for Chromosome Segmentation and Deep Classification\"\n",
        "*   Alteração nas duas ultimas camadas Dense\n",
        "\n",
        "\n",
        "\n"
      ]
    },
    {
      "metadata": {
        "colab_type": "code",
        "id": "2PSEo_Mzr8zK",
        "colab": {}
      },
      "cell_type": "code",
      "source": [
        "model = Sequential([\n",
        "    Conv2D(64, (3, 3), activation='relu', input_shape=(120, 120, 3)),\n",
        "    Conv2D(64, (3, 3), activation='relu'),\n",
        "    Dropout(0.2),\n",
        "    MaxPooling2D(pool_size=(2, 2)),\n",
        "   \n",
        "    Conv2D(32, (3, 3), activation='relu'),\n",
        "    Conv2D(32, (3, 3), activation='relu'),\n",
        "    Dropout(0.2),\n",
        "    MaxPooling2D(pool_size=(2, 2)),\n",
        "   \n",
        "    Conv2D(16, (3, 3), activation='relu'),\n",
        "    Conv2D(16, (3, 3), activation='relu'),\n",
        "    Dropout(0.2),\n",
        "    MaxPooling2D(pool_size=(2, 2)),\n",
        "   \n",
        "    Conv2D(8, (3, 3), activation='relu'),\n",
        "    Conv2D(8, (3, 3), activation='relu'),\n",
        "    Dropout(0.2),\n",
        "    MaxPooling2D(pool_size=(2, 2)),\n",
        "    \n",
        "    Flatten(),\n",
        "    Dense(512, activation='relu'),\n",
        "   \n",
        "    Dense(2, activation='softmax')\n",
        "]\n",
        ")"
      ],
      "execution_count": 0,
      "outputs": []
    },
    {
      "metadata": {
        "colab_type": "code",
        "id": "wTvCLywPr8zj",
        "colab": {}
      },
      "cell_type": "code",
      "source": [
        "model.compile(SGD(lr=0.01, momentum=0.0, decay=0.0, nesterov=False), \n",
        "              loss='categorical_crossentropy', metrics=['accuracy'])"
      ],
      "execution_count": 0,
      "outputs": []
    },
    {
      "metadata": {
        "colab_type": "code",
        "id": "B1aiec4IjnND",
        "colab": {}
      },
      "cell_type": "code",
      "source": [
        "arquiteture = 'architecture_2'"
      ],
      "execution_count": 0,
      "outputs": []
    },
    {
      "metadata": {
        "colab_type": "code",
        "id": "KF_vnzR7k8bw",
        "colab": {}
      },
      "cell_type": "code",
      "source": [
        "checkpointer = ModelCheckpoint(filepath='drive/My Drive/Resultado/weights_' + arquiteture + '.hdf5', verbose=1, save_best_only=True)"
      ],
      "execution_count": 0,
      "outputs": []
    },
    {
      "metadata": {
        "colab_type": "code",
        "id": "P5mNUnc52wDQ",
        "outputId": "d5dd89ab-ae35-4231-f704-64112ad70988",
        "colab": {
          "base_uri": "https://localhost:8080/",
          "height": 3690
        }
      },
      "cell_type": "code",
      "source": [
        "training = model.fit_generator(train_batches, steps_per_epoch=stepsPerEpoche, \n",
        "                   validation_data=validation_batches, validation_steps=validationSteps,\n",
        "                   epochs=50, verbose=2, callbacks=[checkpointer])"
      ],
      "execution_count": 25,
      "outputs": [
        {
          "output_type": "stream",
          "text": [
            "Epoch 1/50\n",
            " - 2s - loss: 0.6927 - acc: 0.5469 - val_loss: 0.6908 - val_acc: 0.6406\n",
            "\n",
            "Epoch 00001: val_loss improved from inf to 0.69084, saving model to drive/My Drive/Resultado/weights_architecture_2.hdf5\n",
            "Epoch 2/50\n",
            " - 1s - loss: 0.6899 - acc: 0.6198 - val_loss: 0.6908 - val_acc: 0.5625\n",
            "\n",
            "Epoch 00002: val_loss improved from 0.69084 to 0.69075, saving model to drive/My Drive/Resultado/weights_architecture_2.hdf5\n",
            "Epoch 3/50\n",
            " - 1s - loss: 0.6834 - acc: 0.6719 - val_loss: 0.6828 - val_acc: 0.6406\n",
            "\n",
            "Epoch 00003: val_loss improved from 0.69075 to 0.68284, saving model to drive/My Drive/Resultado/weights_architecture_2.hdf5\n",
            "Epoch 4/50\n",
            " - 1s - loss: 0.6821 - acc: 0.6302 - val_loss: 0.6816 - val_acc: 0.6250\n",
            "\n",
            "Epoch 00004: val_loss improved from 0.68284 to 0.68158, saving model to drive/My Drive/Resultado/weights_architecture_2.hdf5\n",
            "Epoch 5/50\n",
            " - 1s - loss: 0.6759 - acc: 0.6562 - val_loss: 0.6787 - val_acc: 0.6250\n",
            "\n",
            "Epoch 00005: val_loss improved from 0.68158 to 0.67868, saving model to drive/My Drive/Resultado/weights_architecture_2.hdf5\n",
            "Epoch 6/50\n",
            " - 1s - loss: 0.6793 - acc: 0.6094 - val_loss: 0.6746 - val_acc: 0.6406\n",
            "\n",
            "Epoch 00006: val_loss improved from 0.67868 to 0.67458, saving model to drive/My Drive/Resultado/weights_architecture_2.hdf5\n",
            "Epoch 7/50\n",
            " - 1s - loss: 0.6701 - acc: 0.6510 - val_loss: 0.6746 - val_acc: 0.6250\n",
            "\n",
            "Epoch 00007: val_loss did not improve from 0.67458\n",
            "Epoch 8/50\n",
            " - 1s - loss: 0.6572 - acc: 0.6915 - val_loss: 0.6781 - val_acc: 0.5938\n",
            "\n",
            "Epoch 00008: val_loss did not improve from 0.67458\n",
            "Epoch 9/50\n",
            " - 1s - loss: 0.6790 - acc: 0.5885 - val_loss: 0.6708 - val_acc: 0.6250\n",
            "\n",
            "Epoch 00009: val_loss improved from 0.67458 to 0.67082, saving model to drive/My Drive/Resultado/weights_architecture_2.hdf5\n",
            "Epoch 10/50\n",
            " - 1s - loss: 0.6587 - acc: 0.6615 - val_loss: 0.6736 - val_acc: 0.6094\n",
            "\n",
            "Epoch 00010: val_loss did not improve from 0.67082\n",
            "Epoch 11/50\n",
            " - 1s - loss: 0.6707 - acc: 0.6094 - val_loss: 0.6640 - val_acc: 0.6406\n",
            "\n",
            "Epoch 00011: val_loss improved from 0.67082 to 0.66404, saving model to drive/My Drive/Resultado/weights_architecture_2.hdf5\n",
            "Epoch 12/50\n",
            " - 1s - loss: 0.6651 - acc: 0.6250 - val_loss: 0.6892 - val_acc: 0.5469\n",
            "\n",
            "Epoch 00012: val_loss did not improve from 0.66404\n",
            "Epoch 13/50\n",
            " - 1s - loss: 0.6478 - acc: 0.6719 - val_loss: 0.6803 - val_acc: 0.5781\n",
            "\n",
            "Epoch 00013: val_loss did not improve from 0.66404\n",
            "Epoch 14/50\n",
            " - 1s - loss: 0.6666 - acc: 0.6146 - val_loss: 0.6492 - val_acc: 0.6719\n",
            "\n",
            "Epoch 00014: val_loss improved from 0.66404 to 0.64921, saving model to drive/My Drive/Resultado/weights_architecture_2.hdf5\n",
            "Epoch 15/50\n",
            " - 1s - loss: 0.6326 - acc: 0.6875 - val_loss: 0.6271 - val_acc: 0.7188\n",
            "\n",
            "Epoch 00015: val_loss improved from 0.64921 to 0.62710, saving model to drive/My Drive/Resultado/weights_architecture_2.hdf5\n",
            "Epoch 16/50\n",
            " - 1s - loss: 0.6829 - acc: 0.5781 - val_loss: 0.6533 - val_acc: 0.6562\n",
            "\n",
            "Epoch 00016: val_loss did not improve from 0.62710\n",
            "Epoch 17/50\n",
            " - 1s - loss: 0.6705 - acc: 0.6042 - val_loss: 0.6263 - val_acc: 0.7297\n",
            "\n",
            "Epoch 00017: val_loss improved from 0.62710 to 0.62627, saving model to drive/My Drive/Resultado/weights_architecture_2.hdf5\n",
            "Epoch 18/50\n",
            " - 1s - loss: 0.6661 - acc: 0.6094 - val_loss: 0.6913 - val_acc: 0.5469\n",
            "\n",
            "Epoch 00018: val_loss did not improve from 0.62627\n",
            "Epoch 19/50\n",
            " - 1s - loss: 0.6732 - acc: 0.5938 - val_loss: 0.6581 - val_acc: 0.6406\n",
            "\n",
            "Epoch 00019: val_loss did not improve from 0.62627\n",
            "Epoch 20/50\n",
            " - 1s - loss: 0.6652 - acc: 0.6146 - val_loss: 0.6347 - val_acc: 0.7031\n",
            "\n",
            "Epoch 00020: val_loss did not improve from 0.62627\n",
            "Epoch 21/50\n",
            " - 1s - loss: 0.6314 - acc: 0.6823 - val_loss: 0.6381 - val_acc: 0.6875\n",
            "\n",
            "Epoch 00021: val_loss did not improve from 0.62627\n",
            "Epoch 22/50\n",
            " - 1s - loss: 0.6247 - acc: 0.6875 - val_loss: 0.6379 - val_acc: 0.6719\n",
            "\n",
            "Epoch 00022: val_loss did not improve from 0.62627\n",
            "Epoch 23/50\n",
            " - 1s - loss: 0.6509 - acc: 0.6406 - val_loss: 0.6384 - val_acc: 0.6719\n",
            "\n",
            "Epoch 00023: val_loss did not improve from 0.62627\n",
            "Epoch 24/50\n",
            " - 1s - loss: 0.6517 - acc: 0.6354 - val_loss: 0.6810 - val_acc: 0.5781\n",
            "\n",
            "Epoch 00024: val_loss did not improve from 0.62627\n",
            "Epoch 25/50\n",
            " - 1s - loss: 0.6570 - acc: 0.6302 - val_loss: 0.6489 - val_acc: 0.6562\n",
            "\n",
            "Epoch 00025: val_loss did not improve from 0.62627\n",
            "Epoch 26/50\n",
            " - 1s - loss: 0.6572 - acc: 0.6354 - val_loss: 0.6657 - val_acc: 0.6094\n",
            "\n",
            "Epoch 00026: val_loss did not improve from 0.62627\n",
            "Epoch 27/50\n",
            " - 1s - loss: 0.6530 - acc: 0.6354 - val_loss: 0.6564 - val_acc: 0.6406\n",
            "\n",
            "Epoch 00027: val_loss did not improve from 0.62627\n",
            "Epoch 28/50\n",
            " - 1s - loss: 0.6551 - acc: 0.6354 - val_loss: 0.6781 - val_acc: 0.5781\n",
            "\n",
            "Epoch 00028: val_loss did not improve from 0.62627\n",
            "Epoch 29/50\n",
            " - 1s - loss: 0.6729 - acc: 0.5990 - val_loss: 0.6996 - val_acc: 0.5312\n",
            "\n",
            "Epoch 00029: val_loss did not improve from 0.62627\n",
            "Epoch 30/50\n",
            " - 1s - loss: 0.6855 - acc: 0.5729 - val_loss: 0.6941 - val_acc: 0.5312\n",
            "\n",
            "Epoch 00030: val_loss did not improve from 0.62627\n",
            "Epoch 31/50\n",
            " - 1s - loss: 0.6606 - acc: 0.6198 - val_loss: 0.6620 - val_acc: 0.6250\n",
            "\n",
            "Epoch 00031: val_loss did not improve from 0.62627\n",
            "Epoch 32/50\n",
            " - 1s - loss: 0.6333 - acc: 0.6719 - val_loss: 0.6507 - val_acc: 0.6562\n",
            "\n",
            "Epoch 00032: val_loss did not improve from 0.62627\n",
            "Epoch 33/50\n",
            " - 1s - loss: 0.6517 - acc: 0.6406 - val_loss: 0.6740 - val_acc: 0.5938\n",
            "\n",
            "Epoch 00033: val_loss did not improve from 0.62627\n",
            "Epoch 34/50\n",
            " - 1s - loss: 0.6550 - acc: 0.6354 - val_loss: 0.6382 - val_acc: 0.6875\n",
            "\n",
            "Epoch 00034: val_loss did not improve from 0.62627\n",
            "Epoch 35/50\n",
            " - 1s - loss: 0.6785 - acc: 0.5885 - val_loss: 0.6278 - val_acc: 0.7188\n",
            "\n",
            "Epoch 00035: val_loss did not improve from 0.62627\n",
            "Epoch 36/50\n",
            " - 1s - loss: 0.6803 - acc: 0.5781 - val_loss: 0.6427 - val_acc: 0.6875\n",
            "\n",
            "Epoch 00036: val_loss did not improve from 0.62627\n",
            "Epoch 37/50\n",
            " - 1s - loss: 0.6532 - acc: 0.6406 - val_loss: 0.6379 - val_acc: 0.6875\n",
            "\n",
            "Epoch 00037: val_loss did not improve from 0.62627\n",
            "Epoch 38/50\n",
            " - 1s - loss: 0.6868 - acc: 0.5620 - val_loss: 0.6738 - val_acc: 0.5938\n",
            "\n",
            "Epoch 00038: val_loss did not improve from 0.62627\n",
            "Epoch 39/50\n",
            " - 1s - loss: 0.6419 - acc: 0.6562 - val_loss: 0.6370 - val_acc: 0.6875\n",
            "\n",
            "Epoch 00039: val_loss did not improve from 0.62627\n",
            "Epoch 40/50\n",
            " - 1s - loss: 0.6714 - acc: 0.6042 - val_loss: 0.6692 - val_acc: 0.6094\n",
            "\n",
            "Epoch 00040: val_loss did not improve from 0.62627\n",
            "Epoch 41/50\n",
            " - 1s - loss: 0.6307 - acc: 0.6771 - val_loss: 0.6417 - val_acc: 0.6757\n",
            "\n",
            "Epoch 00041: val_loss did not improve from 0.62627\n",
            "Epoch 42/50\n",
            " - 1s - loss: 0.6674 - acc: 0.6094 - val_loss: 0.6247 - val_acc: 0.7188\n",
            "\n",
            "Epoch 00042: val_loss improved from 0.62627 to 0.62473, saving model to drive/My Drive/Resultado/weights_architecture_2.hdf5\n",
            "Epoch 43/50\n",
            " - 1s - loss: 0.6473 - acc: 0.6406 - val_loss: 0.6288 - val_acc: 0.7031\n",
            "\n",
            "Epoch 00043: val_loss did not improve from 0.62473\n",
            "Epoch 44/50\n",
            " - 1s - loss: 0.6434 - acc: 0.6510 - val_loss: 0.6453 - val_acc: 0.6562\n",
            "\n",
            "Epoch 00044: val_loss did not improve from 0.62473\n",
            "Epoch 45/50\n",
            " - 1s - loss: 0.6618 - acc: 0.6198 - val_loss: 0.6964 - val_acc: 0.5312\n",
            "\n",
            "Epoch 00045: val_loss did not improve from 0.62473\n",
            "Epoch 46/50\n",
            " - 1s - loss: 0.6590 - acc: 0.6250 - val_loss: 0.6206 - val_acc: 0.7344\n",
            "\n",
            "Epoch 00046: val_loss improved from 0.62473 to 0.62059, saving model to drive/My Drive/Resultado/weights_architecture_2.hdf5\n",
            "Epoch 47/50\n",
            " - 1s - loss: 0.6737 - acc: 0.5938 - val_loss: 0.6564 - val_acc: 0.6406\n",
            "\n",
            "Epoch 00047: val_loss did not improve from 0.62059\n",
            "Epoch 48/50\n",
            " - 1s - loss: 0.6726 - acc: 0.5938 - val_loss: 0.6429 - val_acc: 0.6875\n",
            "\n",
            "Epoch 00048: val_loss did not improve from 0.62059\n",
            "Epoch 49/50\n",
            " - 1s - loss: 0.6651 - acc: 0.5990 - val_loss: 0.6563 - val_acc: 0.6406\n",
            "\n",
            "Epoch 00049: val_loss did not improve from 0.62059\n",
            "Epoch 50/50\n",
            " - 1s - loss: 0.6366 - acc: 0.6667 - val_loss: 0.7069 - val_acc: 0.5000\n",
            "\n",
            "Epoch 00050: val_loss did not improve from 0.62059\n"
          ],
          "name": "stdout"
        }
      ]
    },
    {
      "metadata": {
        "colab_type": "code",
        "id": "37HQ427_jnNY",
        "outputId": "bb668437-03e8-467e-c180-8cdd1543a595",
        "colab": {
          "base_uri": "https://localhost:8080/",
          "height": 380
        }
      },
      "cell_type": "code",
      "source": [
        "# plotar loss e accuracy para os datasets 'train' e 'test'\n",
        "plt.style.use(\"ggplot\")\n",
        "plt.figure()\n",
        "plt.plot(training.history['acc'], label='Accuracy')\n",
        "plt.plot(training.history['loss'], label='Loss')\n",
        "plt.xlabel('Epochs')\n",
        "plt.ylabel('Accuracy')\n",
        "plt.title(\"Training Loss and Accuracy\")\n",
        "plt.ylabel(\"Loss/Accuracy\")\n",
        "plt.legend()\n",
        "plt.savefig('drive/My Drive/Resultado/' + arquiteture + '.png', bbox_inches='tight')"
      ],
      "execution_count": 26,
      "outputs": [
        {
          "output_type": "display_data",
          "data": {
            "image/png": "[encoded data removed]",
            "text/plain": [
              "<matplotlib.figure.Figure at 0x7fd20474def0>"
            ]
          },
          "metadata": {
            "tags": []
          }
        }
      ]
    },
    {
      "metadata": {
        "colab_type": "code",
        "id": "bpfoCpyTjnNk",
        "outputId": "590e5903-7c5c-41d3-ce4a-20a5d7faada3",
        "colab": {
          "base_uri": "https://localhost:8080/",
          "height": 54
        }
      },
      "cell_type": "code",
      "source": [
        "y_true, y_predict = ler_images_teste(arquiteture)"
      ],
      "execution_count": 27,
      "outputs": [
        {
          "output_type": "stream",
          "text": [
            "/usr/local/lib/python3.6/dist-packages/skimage/transform/_warps.py:84: UserWarning: The default mode, 'constant', will be changed to 'reflect' in skimage 0.15.\n",
            "  warn(\"The default mode, 'constant', will be changed to 'reflect' in \"\n"
          ],
          "name": "stderr"
        }
      ]
    },
    {
      "metadata": {
        "colab_type": "code",
        "id": "37KhZdImjnNs",
        "outputId": "d3b14b86-876c-459e-f925-6c303692052b",
        "colab": {
          "base_uri": "https://localhost:8080/",
          "height": 35
        }
      },
      "cell_type": "code",
      "source": [
        "results[arquiteture] = accuracy_score(y_true, y_predict)\n",
        "print('Test Accuracy: {:.2f}%'.format(100 * results[arquiteture]))"
      ],
      "execution_count": 28,
      "outputs": [
        {
          "output_type": "stream",
          "text": [
            "Test Accuracy: 80.36%\n"
          ],
          "name": "stdout"
        }
      ]
    },
    {
      "metadata": {
        "id": "r7RpE8wBe4JQ",
        "colab_type": "text"
      },
      "cell_type": "markdown",
      "source": [
        "### 3 tentativa Accuracy: 79.90%"
      ]
    },
    {
      "metadata": {
        "id": "vdP4Yo8OgB4B",
        "colab_type": "text"
      },
      "cell_type": "markdown",
      "source": [
        "Modelo criado pelo **Lucas Valentim**\n",
        "\n",
        "https://github.com/lucasvalentim/chromosome-recognizer/blob/master/chromosome_recognizer.ipynb"
      ]
    },
    {
      "metadata": {
        "id": "3nTNgnrCe33x",
        "colab_type": "code",
        "colab": {}
      },
      "cell_type": "code",
      "source": [
        "from keras.layers import Conv2D, MaxPooling2D, GlobalMaxPooling2D, BatchNormalization\n",
        "from keras.regularizers import l2\n",
        "\n",
        "model = Sequential()\n",
        "\n",
        "model.add(Conv2D(32, (3, 3), activation='relu', kernel_regularizer=l2(1e-4), \n",
        "                 input_shape=(None, None, 3)))\n",
        "model.add(BatchNormalization())\n",
        "model.add(Conv2D(32, (3, 3), activation='relu', kernel_regularizer=l2(1e-4)))\n",
        "model.add(BatchNormalization())\n",
        "model.add(MaxPooling2D((2, 2)))\n",
        "model.add(Dropout(0.25))\n",
        "\n",
        "model.add(Conv2D(64, (3, 3), activation='relu', kernel_regularizer=l2(1e-4)))\n",
        "model.add(BatchNormalization())\n",
        "model.add(Conv2D(64, (3, 3), activation='relu', kernel_regularizer=l2(1e-4)))\n",
        "model.add(BatchNormalization())\n",
        "model.add(MaxPooling2D((2, 2)))\n",
        "model.add(Dropout(0.25))\n",
        "\n",
        "model.add(Conv2D(128, (1,1), kernel_regularizer=l2(1e-4)))\n",
        "model.add(GlobalMaxPooling2D())\n",
        "\n",
        "model.add(Dense(256, activation='relu', kernel_regularizer=l2(1e-4)))\n",
        "model.add(Dropout(0.5))\n",
        "model.add(Dense(2, activation='sigmoid', kernel_regularizer=l2(1e-4)))"
      ],
      "execution_count": 0,
      "outputs": []
    },
    {
      "metadata": {
        "id": "g1okz4QbiBnE",
        "colab_type": "code",
        "colab": {}
      },
      "cell_type": "code",
      "source": [
        "model.compile(optimizer='adam', loss='binary_crossentropy', metrics=['accuracy'])"
      ],
      "execution_count": 0,
      "outputs": []
    },
    {
      "metadata": {
        "colab_type": "code",
        "id": "qGOLNR-RjvlL",
        "colab": {}
      },
      "cell_type": "code",
      "source": [
        "arquiteture = 'architecture_3'"
      ],
      "execution_count": 0,
      "outputs": []
    },
    {
      "metadata": {
        "colab_type": "code",
        "id": "Zd6E33WLk6B5",
        "colab": {}
      },
      "cell_type": "code",
      "source": [
        "checkpointer = ModelCheckpoint(filepath='drive/My Drive/Resultado/weights_' + arquiteture + '.hdf5', verbose=1, save_best_only=True)"
      ],
      "execution_count": 0,
      "outputs": []
    },
    {
      "metadata": {
        "colab_type": "code",
        "id": "57QCc4Rz3JmS",
        "outputId": "08ff9ba4-01bf-46e5-f5ee-166392b65346",
        "colab": {
          "base_uri": "https://localhost:8080/",
          "height": 3690
        }
      },
      "cell_type": "code",
      "source": [
        "training = model.fit_generator(train_batches, steps_per_epoch=stepsPerEpoche, \n",
        "                   validation_data=validation_batches, validation_steps=validationSteps,\n",
        "                   epochs=50, verbose=2, callbacks=[checkpointer])"
      ],
      "execution_count": 33,
      "outputs": [
        {
          "output_type": "stream",
          "text": [
            "Epoch 1/50\n",
            " - 3s - loss: 1.9586 - acc: 0.5000 - val_loss: 0.8092 - val_acc: 0.5234\n",
            "\n",
            "Epoch 00001: val_loss improved from inf to 0.80916, saving model to drive/My Drive/Resultado/weights_architecture_3.hdf5\n",
            "Epoch 2/50\n",
            " - 1s - loss: 1.2905 - acc: 0.6094 - val_loss: 0.6314 - val_acc: 0.6953\n",
            "\n",
            "Epoch 00002: val_loss improved from 0.80916 to 0.63142, saving model to drive/My Drive/Resultado/weights_architecture_3.hdf5\n",
            "Epoch 3/50\n",
            " - 1s - loss: 0.9236 - acc: 0.6068 - val_loss: 0.6385 - val_acc: 0.7188\n",
            "\n",
            "Epoch 00003: val_loss did not improve from 0.63142\n",
            "Epoch 4/50\n",
            " - 1s - loss: 0.6904 - acc: 0.7083 - val_loss: 0.7850 - val_acc: 0.5625\n",
            "\n",
            "Epoch 00004: val_loss did not improve from 0.63142\n",
            "Epoch 5/50\n",
            " - 1s - loss: 0.6311 - acc: 0.7005 - val_loss: 0.5146 - val_acc: 0.8125\n",
            "\n",
            "Epoch 00005: val_loss improved from 0.63142 to 0.51461, saving model to drive/My Drive/Resultado/weights_architecture_3.hdf5\n",
            "Epoch 6/50\n",
            " - 1s - loss: 0.5532 - acc: 0.7656 - val_loss: 0.7941 - val_acc: 0.5078\n",
            "\n",
            "Epoch 00006: val_loss did not improve from 0.51461\n",
            "Epoch 7/50\n",
            " - 1s - loss: 0.5575 - acc: 0.7865 - val_loss: 0.5310 - val_acc: 0.7969\n",
            "\n",
            "Epoch 00007: val_loss did not improve from 0.51461\n",
            "Epoch 8/50\n",
            " - 1s - loss: 0.5506 - acc: 0.7682 - val_loss: 0.6923 - val_acc: 0.6484\n",
            "\n",
            "Epoch 00008: val_loss did not improve from 0.51461\n",
            "Epoch 9/50\n",
            " - 1s - loss: 0.4920 - acc: 0.8099 - val_loss: 0.4540 - val_acc: 0.8750\n",
            "\n",
            "Epoch 00009: val_loss improved from 0.51461 to 0.45403, saving model to drive/My Drive/Resultado/weights_architecture_3.hdf5\n",
            "Epoch 10/50\n",
            " - 1s - loss: 0.4191 - acc: 0.8438 - val_loss: 0.5342 - val_acc: 0.7297\n",
            "\n",
            "Epoch 00010: val_loss did not improve from 0.45403\n",
            "Epoch 11/50\n",
            " - 1s - loss: 0.4293 - acc: 0.8438 - val_loss: 0.6480 - val_acc: 0.6953\n",
            "\n",
            "Epoch 00011: val_loss did not improve from 0.45403\n",
            "Epoch 12/50\n",
            " - 1s - loss: 0.4078 - acc: 0.8229 - val_loss: 0.4896 - val_acc: 0.8125\n",
            "\n",
            "Epoch 00012: val_loss did not improve from 0.45403\n",
            "Epoch 13/50\n",
            " - 1s - loss: 0.4207 - acc: 0.8255 - val_loss: 0.4337 - val_acc: 0.8516\n",
            "\n",
            "Epoch 00013: val_loss improved from 0.45403 to 0.43375, saving model to drive/My Drive/Resultado/weights_architecture_3.hdf5\n",
            "Epoch 14/50\n",
            " - 1s - loss: 0.4317 - acc: 0.8229 - val_loss: 0.4586 - val_acc: 0.7734\n",
            "\n",
            "Epoch 00014: val_loss did not improve from 0.43375\n",
            "Epoch 15/50\n",
            " - 1s - loss: 0.3634 - acc: 0.8521 - val_loss: 0.4314 - val_acc: 0.8438\n",
            "\n",
            "Epoch 00015: val_loss improved from 0.43375 to 0.43136, saving model to drive/My Drive/Resultado/weights_architecture_3.hdf5\n",
            "Epoch 16/50\n",
            " - 1s - loss: 0.3693 - acc: 0.8411 - val_loss: 0.4146 - val_acc: 0.8516\n",
            "\n",
            "Epoch 00016: val_loss improved from 0.43136 to 0.41457, saving model to drive/My Drive/Resultado/weights_architecture_3.hdf5\n",
            "Epoch 17/50\n",
            " - 1s - loss: 0.4472 - acc: 0.7969 - val_loss: 0.4460 - val_acc: 0.7891\n",
            "\n",
            "Epoch 00017: val_loss did not improve from 0.41457\n",
            "Epoch 18/50\n",
            " - 1s - loss: 0.4770 - acc: 0.7943 - val_loss: 0.5072 - val_acc: 0.7812\n",
            "\n",
            "Epoch 00018: val_loss did not improve from 0.41457\n",
            "Epoch 19/50\n",
            " - 1s - loss: 0.3742 - acc: 0.8776 - val_loss: 0.3943 - val_acc: 0.8438\n",
            "\n",
            "Epoch 00019: val_loss improved from 0.41457 to 0.39431, saving model to drive/My Drive/Resultado/weights_architecture_3.hdf5\n",
            "Epoch 20/50\n",
            " - 1s - loss: 0.3538 - acc: 0.8776 - val_loss: 0.4969 - val_acc: 0.7734\n",
            "\n",
            "Epoch 00020: val_loss did not improve from 0.39431\n",
            "Epoch 21/50\n",
            " - 1s - loss: 0.3727 - acc: 0.8724 - val_loss: 0.4288 - val_acc: 0.8516\n",
            "\n",
            "Epoch 00021: val_loss did not improve from 0.39431\n",
            "Epoch 22/50\n",
            " - 1s - loss: 0.4460 - acc: 0.8125 - val_loss: 0.5100 - val_acc: 0.7422\n",
            "\n",
            "Epoch 00022: val_loss did not improve from 0.39431\n",
            "Epoch 23/50\n",
            " - 1s - loss: 0.5075 - acc: 0.8099 - val_loss: 0.4988 - val_acc: 0.8281\n",
            "\n",
            "Epoch 00023: val_loss did not improve from 0.39431\n",
            "Epoch 24/50\n",
            " - 1s - loss: 0.3766 - acc: 0.8333 - val_loss: 0.3766 - val_acc: 0.9062\n",
            "\n",
            "Epoch 00024: val_loss improved from 0.39431 to 0.37657, saving model to drive/My Drive/Resultado/weights_architecture_3.hdf5\n",
            "Epoch 25/50\n",
            " - 1s - loss: 0.4160 - acc: 0.8594 - val_loss: 0.4218 - val_acc: 0.8203\n",
            "\n",
            "Epoch 00025: val_loss did not improve from 0.37657\n",
            "Epoch 26/50\n",
            " - 1s - loss: 0.4157 - acc: 0.8698 - val_loss: 0.3371 - val_acc: 0.9219\n",
            "\n",
            "Epoch 00026: val_loss improved from 0.37657 to 0.33707, saving model to drive/My Drive/Resultado/weights_architecture_3.hdf5\n",
            "Epoch 27/50\n",
            " - 1s - loss: 0.3276 - acc: 0.8776 - val_loss: 0.2925 - val_acc: 0.9531\n",
            "\n",
            "Epoch 00027: val_loss improved from 0.33707 to 0.29252, saving model to drive/My Drive/Resultado/weights_architecture_3.hdf5\n",
            "Epoch 28/50\n",
            " - 1s - loss: 0.3912 - acc: 0.8542 - val_loss: 0.4546 - val_acc: 0.8203\n",
            "\n",
            "Epoch 00028: val_loss did not improve from 0.29252\n",
            "Epoch 29/50\n",
            " - 1s - loss: 0.3820 - acc: 0.8802 - val_loss: 0.3768 - val_acc: 0.8359\n",
            "\n",
            "Epoch 00029: val_loss did not improve from 0.29252\n",
            "Epoch 30/50\n",
            " - 1s - loss: 0.3354 - acc: 0.9089 - val_loss: 0.4654 - val_acc: 0.8125\n",
            "\n",
            "Epoch 00030: val_loss did not improve from 0.29252\n",
            "Epoch 31/50\n",
            " - 1s - loss: 0.3446 - acc: 0.9167 - val_loss: 0.2542 - val_acc: 0.9688\n",
            "\n",
            "Epoch 00031: val_loss improved from 0.29252 to 0.25424, saving model to drive/My Drive/Resultado/weights_architecture_3.hdf5\n",
            "Epoch 32/50\n",
            " - 1s - loss: 0.3490 - acc: 0.8802 - val_loss: 0.2241 - val_acc: 0.9844\n",
            "\n",
            "Epoch 00032: val_loss improved from 0.25424 to 0.22414, saving model to drive/My Drive/Resultado/weights_architecture_3.hdf5\n",
            "Epoch 33/50\n",
            " - 1s - loss: 0.3695 - acc: 0.8594 - val_loss: 0.2850 - val_acc: 0.9453\n",
            "\n",
            "Epoch 00033: val_loss did not improve from 0.22414\n",
            "Epoch 34/50\n",
            " - 1s - loss: 0.3710 - acc: 0.8698 - val_loss: 0.3798 - val_acc: 0.8243\n",
            "\n",
            "Epoch 00034: val_loss did not improve from 0.22414\n",
            "Epoch 35/50\n",
            " - 1s - loss: 0.3876 - acc: 0.8464 - val_loss: 0.3778 - val_acc: 0.9141\n",
            "\n",
            "Epoch 00035: val_loss did not improve from 0.22414\n",
            "Epoch 36/50\n",
            " - 1s - loss: 0.3000 - acc: 0.8750 - val_loss: 0.3731 - val_acc: 0.8906\n",
            "\n",
            "Epoch 00036: val_loss did not improve from 0.22414\n",
            "Epoch 37/50\n",
            " - 1s - loss: 0.3068 - acc: 0.9089 - val_loss: 0.5149 - val_acc: 0.7656\n",
            "\n",
            "Epoch 00037: val_loss did not improve from 0.22414\n",
            "Epoch 38/50\n",
            " - 1s - loss: 0.2545 - acc: 0.9036 - val_loss: 0.3869 - val_acc: 0.8984\n",
            "\n",
            "Epoch 00038: val_loss did not improve from 0.22414\n",
            "Epoch 39/50\n",
            " - 1s - loss: 0.2659 - acc: 0.9036 - val_loss: 0.2549 - val_acc: 0.9688\n",
            "\n",
            "Epoch 00039: val_loss did not improve from 0.22414\n",
            "Epoch 40/50\n",
            " - 1s - loss: 0.4078 - acc: 0.8776 - val_loss: 0.4514 - val_acc: 0.7812\n",
            "\n",
            "Epoch 00040: val_loss did not improve from 0.22414\n",
            "Epoch 41/50\n",
            " - 1s - loss: 0.3965 - acc: 0.8516 - val_loss: 0.3627 - val_acc: 0.9219\n",
            "\n",
            "Epoch 00041: val_loss did not improve from 0.22414\n",
            "Epoch 42/50\n",
            " - 1s - loss: 0.3443 - acc: 0.8594 - val_loss: 0.4048 - val_acc: 0.8516\n",
            "\n",
            "Epoch 00042: val_loss did not improve from 0.22414\n",
            "Epoch 43/50\n",
            " - 1s - loss: 0.3202 - acc: 0.8880 - val_loss: 0.3735 - val_acc: 0.8906\n",
            "\n",
            "Epoch 00043: val_loss did not improve from 0.22414\n",
            "Epoch 44/50\n",
            " - 1s - loss: 0.3403 - acc: 0.9010 - val_loss: 0.4201 - val_acc: 0.7891\n",
            "\n",
            "Epoch 00044: val_loss did not improve from 0.22414\n",
            "Epoch 45/50\n",
            " - 1s - loss: 0.3882 - acc: 0.8717 - val_loss: 0.3852 - val_acc: 0.8516\n",
            "\n",
            "Epoch 00045: val_loss did not improve from 0.22414\n",
            "Epoch 46/50\n",
            " - 1s - loss: 0.3872 - acc: 0.8359 - val_loss: 0.3640 - val_acc: 0.8984\n",
            "\n",
            "Epoch 00046: val_loss did not improve from 0.22414\n",
            "Epoch 47/50\n",
            " - 1s - loss: 0.3201 - acc: 0.8802 - val_loss: 0.4086 - val_acc: 0.8516\n",
            "\n",
            "Epoch 00047: val_loss did not improve from 0.22414\n",
            "Epoch 48/50\n",
            " - 1s - loss: 0.4159 - acc: 0.8542 - val_loss: 0.3745 - val_acc: 0.9453\n",
            "\n",
            "Epoch 00048: val_loss did not improve from 0.22414\n",
            "Epoch 49/50\n",
            " - 1s - loss: 0.3335 - acc: 0.8932 - val_loss: 0.4801 - val_acc: 0.7422\n",
            "\n",
            "Epoch 00049: val_loss did not improve from 0.22414\n",
            "Epoch 50/50\n",
            " - 1s - loss: 0.4059 - acc: 0.8724 - val_loss: 0.3229 - val_acc: 0.9062\n",
            "\n",
            "Epoch 00050: val_loss did not improve from 0.22414\n"
          ],
          "name": "stdout"
        }
      ]
    },
    {
      "metadata": {
        "colab_type": "code",
        "id": "UbMAcdw1jvlY",
        "outputId": "3be51a3d-7a76-405e-b17b-97d1830f0a92",
        "colab": {
          "base_uri": "https://localhost:8080/",
          "height": 380
        }
      },
      "cell_type": "code",
      "source": [
        "# plotar loss e accuracy para os datasets 'train' e 'test'\n",
        "plt.style.use(\"ggplot\")\n",
        "plt.figure()\n",
        "plt.plot(training.history['acc'], label='Accuracy')\n",
        "plt.plot(training.history['loss'], label='Loss')\n",
        "plt.xlabel('Epochs')\n",
        "plt.ylabel('Accuracy')\n",
        "plt.title(\"Training Loss and Accuracy\")\n",
        "plt.ylabel(\"Loss/Accuracy\")\n",
        "plt.legend()\n",
        "plt.savefig('drive/My Drive/Resultado/' + arquiteture + '.png', bbox_inches='tight')"
      ],
      "execution_count": 34,
      "outputs": [
        {
          "output_type": "display_data",
          "data": {
            "image/png": "[encoded data removed]",
            "text/plain": [
              "<matplotlib.figure.Figure at 0x7fd200b836d8>"
            ]
          },
          "metadata": {
            "tags": []
          }
        }
      ]
    },
    {
      "metadata": {
        "colab_type": "code",
        "id": "JZXZyAjrjvli",
        "outputId": "e121c669-28bb-455e-8ca9-396648a6d837",
        "colab": {
          "base_uri": "https://localhost:8080/",
          "height": 54
        }
      },
      "cell_type": "code",
      "source": [
        "y_true, y_predict = ler_images_teste(arquiteture)"
      ],
      "execution_count": 35,
      "outputs": [
        {
          "output_type": "stream",
          "text": [
            "/usr/local/lib/python3.6/dist-packages/skimage/transform/_warps.py:84: UserWarning: The default mode, 'constant', will be changed to 'reflect' in skimage 0.15.\n",
            "  warn(\"The default mode, 'constant', will be changed to 'reflect' in \"\n"
          ],
          "name": "stderr"
        }
      ]
    },
    {
      "metadata": {
        "colab_type": "code",
        "id": "rRqF6tcYjvlm",
        "outputId": "f265bb1c-8f25-4185-c216-9d7f2b039018",
        "colab": {
          "base_uri": "https://localhost:8080/",
          "height": 35
        }
      },
      "cell_type": "code",
      "source": [
        "results[arquiteture] = accuracy_score(y_true, y_predict)\n",
        "print('Test Accuracy: {:.2f}%'.format(100 * results[arquiteture]))"
      ],
      "execution_count": 36,
      "outputs": [
        {
          "output_type": "stream",
          "text": [
            "Test Accuracy: 79.90%\n"
          ],
          "name": "stdout"
        }
      ]
    },
    {
      "metadata": {
        "id": "jkrlEFjlw030",
        "colab_type": "text"
      },
      "cell_type": "markdown",
      "source": [
        "### 4 tentativa Accuracy: 80.30%"
      ]
    },
    {
      "metadata": {
        "id": "UJ7JELAiw2kb",
        "colab_type": "text"
      },
      "cell_type": "markdown",
      "source": [
        "Modelo adaptado do **Lucas Albertins**\n",
        "\n",
        "*   Sem os **dropout**\n"
      ]
    },
    {
      "metadata": {
        "colab_type": "code",
        "id": "4N0B_5a2xB3T",
        "colab": {}
      },
      "cell_type": "code",
      "source": [
        "from keras.layers import Conv2D, MaxPooling2D, GlobalMaxPooling2D, BatchNormalization\n",
        "from keras.regularizers import l2\n",
        "\n",
        "model = Sequential()\n",
        "\n",
        "model.add(Conv2D(32, (3, 3), activation='relu', kernel_regularizer=l2(1e-4), \n",
        "                 input_shape=(None, None, 3)))\n",
        "model.add(BatchNormalization())\n",
        "model.add(Conv2D(32, (3, 3), activation='relu', kernel_regularizer=l2(1e-4)))\n",
        "model.add(BatchNormalization())\n",
        "model.add(MaxPooling2D((2, 2)))\n",
        "\n",
        "model.add(Conv2D(64, (3, 3), activation='relu', kernel_regularizer=l2(1e-4)))\n",
        "model.add(BatchNormalization())\n",
        "model.add(Conv2D(64, (3, 3), activation='relu', kernel_regularizer=l2(1e-4)))\n",
        "model.add(BatchNormalization())\n",
        "model.add(MaxPooling2D((2, 2)))\n",
        "\n",
        "model.add(Conv2D(128, (1,1), kernel_regularizer=l2(1e-4)))\n",
        "model.add(GlobalMaxPooling2D())\n",
        "\n",
        "model.add(Dense(256, activation='relu', kernel_regularizer=l2(1e-4)))\n",
        "model.add(BatchNormalization())\n",
        "model.add(Dense(2, activation='sigmoid', kernel_regularizer=l2(1e-4)))"
      ],
      "execution_count": 0,
      "outputs": []
    },
    {
      "metadata": {
        "colab_type": "code",
        "id": "V9VHjygmxB3k",
        "colab": {}
      },
      "cell_type": "code",
      "source": [
        "model.compile(optimizer='adam', loss='binary_crossentropy', metrics=['accuracy'])"
      ],
      "execution_count": 0,
      "outputs": []
    },
    {
      "metadata": {
        "colab_type": "code",
        "id": "VMLmVlASj26i",
        "colab": {}
      },
      "cell_type": "code",
      "source": [
        "arquiteture = 'architecture_4'"
      ],
      "execution_count": 0,
      "outputs": []
    },
    {
      "metadata": {
        "colab_type": "code",
        "id": "dZRIAn0Bk37B",
        "colab": {}
      },
      "cell_type": "code",
      "source": [
        "checkpointer = ModelCheckpoint(filepath='drive/My Drive/Resultado/weights_' + arquiteture + '.hdf5', verbose=1, save_best_only=True)"
      ],
      "execution_count": 0,
      "outputs": []
    },
    {
      "metadata": {
        "colab_type": "code",
        "id": "gE1pEJNR4RmV",
        "outputId": "de88a41b-853b-4bca-b6f4-8db867a75b61",
        "colab": {
          "base_uri": "https://localhost:8080/",
          "height": 3690
        }
      },
      "cell_type": "code",
      "source": [
        "training = model.fit_generator(train_batches, steps_per_epoch=stepsPerEpoche, \n",
        "                   validation_data=validation_batches, validation_steps=validationSteps,\n",
        "                   epochs=50, verbose=2, callbacks=[checkpointer])"
      ],
      "execution_count": 41,
      "outputs": [
        {
          "output_type": "stream",
          "text": [
            "Epoch 1/50\n",
            " - 3s - loss: 0.6002 - acc: 0.7318 - val_loss: 1.1938 - val_acc: 0.6250\n",
            "\n",
            "Epoch 00001: val_loss improved from inf to 1.19379, saving model to drive/My Drive/Resultado/weights_architecture_4.hdf5\n",
            "Epoch 2/50\n",
            " - 1s - loss: 0.4849 - acc: 0.8229 - val_loss: 1.0196 - val_acc: 0.5469\n",
            "\n",
            "Epoch 00002: val_loss improved from 1.19379 to 1.01962, saving model to drive/My Drive/Resultado/weights_architecture_4.hdf5\n",
            "Epoch 3/50\n",
            " - 1s - loss: 0.4360 - acc: 0.8516 - val_loss: 1.1624 - val_acc: 0.6486\n",
            "\n",
            "Epoch 00003: val_loss did not improve from 1.01962\n",
            "Epoch 4/50\n",
            " - 1s - loss: 0.3982 - acc: 0.8464 - val_loss: 0.6334 - val_acc: 0.8125\n",
            "\n",
            "Epoch 00004: val_loss improved from 1.01962 to 0.63339, saving model to drive/My Drive/Resultado/weights_architecture_4.hdf5\n",
            "Epoch 5/50\n",
            " - 1s - loss: 0.3035 - acc: 0.9271 - val_loss: 0.7741 - val_acc: 0.7188\n",
            "\n",
            "Epoch 00005: val_loss did not improve from 0.63339\n",
            "Epoch 6/50\n",
            " - 1s - loss: 0.3342 - acc: 0.9010 - val_loss: 0.6244 - val_acc: 0.7109\n",
            "\n",
            "Epoch 00006: val_loss improved from 0.63339 to 0.62443, saving model to drive/My Drive/Resultado/weights_architecture_4.hdf5\n",
            "Epoch 7/50\n",
            " - 1s - loss: 0.2504 - acc: 0.9323 - val_loss: 0.9032 - val_acc: 0.6641\n",
            "\n",
            "Epoch 00007: val_loss did not improve from 0.62443\n",
            "Epoch 8/50\n",
            " - 1s - loss: 0.2410 - acc: 0.9349 - val_loss: 1.2481 - val_acc: 0.6953\n",
            "\n",
            "Epoch 00008: val_loss did not improve from 0.62443\n",
            "Epoch 9/50\n",
            " - 1s - loss: 0.4069 - acc: 0.8698 - val_loss: 0.8816 - val_acc: 0.6562\n",
            "\n",
            "Epoch 00009: val_loss did not improve from 0.62443\n",
            "Epoch 10/50\n",
            " - 1s - loss: 0.3134 - acc: 0.9141 - val_loss: 0.8751 - val_acc: 0.6641\n",
            "\n",
            "Epoch 00010: val_loss did not improve from 0.62443\n",
            "Epoch 11/50\n",
            " - 1s - loss: 0.3332 - acc: 0.8776 - val_loss: 0.4267 - val_acc: 0.7734\n",
            "\n",
            "Epoch 00011: val_loss improved from 0.62443 to 0.42667, saving model to drive/My Drive/Resultado/weights_architecture_4.hdf5\n",
            "Epoch 12/50\n",
            " - 1s - loss: 0.3138 - acc: 0.9089 - val_loss: 0.4356 - val_acc: 0.8438\n",
            "\n",
            "Epoch 00012: val_loss did not improve from 0.42667\n",
            "Epoch 13/50\n",
            " - 1s - loss: 0.3042 - acc: 0.8932 - val_loss: 0.8004 - val_acc: 0.7656\n",
            "\n",
            "Epoch 00013: val_loss did not improve from 0.42667\n",
            "Epoch 14/50\n",
            " - 1s - loss: 0.2340 - acc: 0.9401 - val_loss: 0.4728 - val_acc: 0.7969\n",
            "\n",
            "Epoch 00014: val_loss did not improve from 0.42667\n",
            "Epoch 15/50\n",
            " - 1s - loss: 0.2818 - acc: 0.9193 - val_loss: 0.3566 - val_acc: 0.9141\n",
            "\n",
            "Epoch 00015: val_loss improved from 0.42667 to 0.35661, saving model to drive/My Drive/Resultado/weights_architecture_4.hdf5\n",
            "Epoch 16/50\n",
            " - 1s - loss: 0.3095 - acc: 0.8958 - val_loss: 0.8321 - val_acc: 0.6875\n",
            "\n",
            "Epoch 00016: val_loss did not improve from 0.35661\n",
            "Epoch 17/50\n",
            " - 1s - loss: 0.3071 - acc: 0.9089 - val_loss: 0.3531 - val_acc: 0.8516\n",
            "\n",
            "Epoch 00017: val_loss improved from 0.35661 to 0.35313, saving model to drive/My Drive/Resultado/weights_architecture_4.hdf5\n",
            "Epoch 18/50\n",
            " - 1s - loss: 0.2928 - acc: 0.9193 - val_loss: 0.3495 - val_acc: 0.8594\n",
            "\n",
            "Epoch 00018: val_loss improved from 0.35313 to 0.34948, saving model to drive/My Drive/Resultado/weights_architecture_4.hdf5\n",
            "Epoch 19/50\n",
            " - 1s - loss: 0.3018 - acc: 0.9115 - val_loss: 0.4109 - val_acc: 0.8359\n",
            "\n",
            "Epoch 00019: val_loss did not improve from 0.34948\n",
            "Epoch 20/50\n",
            " - 1s - loss: 0.3151 - acc: 0.9010 - val_loss: 0.6593 - val_acc: 0.7656\n",
            "\n",
            "Epoch 00020: val_loss did not improve from 0.34948\n",
            "Epoch 21/50\n",
            " - 1s - loss: 0.2839 - acc: 0.9115 - val_loss: 0.5604 - val_acc: 0.7969\n",
            "\n",
            "Epoch 00021: val_loss did not improve from 0.34948\n",
            "Epoch 22/50\n",
            " - 1s - loss: 0.2888 - acc: 0.9062 - val_loss: 0.8712 - val_acc: 0.6484\n",
            "\n",
            "Epoch 00022: val_loss did not improve from 0.34948\n",
            "Epoch 23/50\n",
            " - 1s - loss: 0.2743 - acc: 0.9062 - val_loss: 0.6564 - val_acc: 0.8359\n",
            "\n",
            "Epoch 00023: val_loss did not improve from 0.34948\n",
            "Epoch 24/50\n",
            " - 1s - loss: 0.2250 - acc: 0.9517 - val_loss: 0.4029 - val_acc: 0.8672\n",
            "\n",
            "Epoch 00024: val_loss did not improve from 0.34948\n",
            "Epoch 25/50\n",
            " - 1s - loss: 0.2654 - acc: 0.9297 - val_loss: 0.4219 - val_acc: 0.8984\n",
            "\n",
            "Epoch 00025: val_loss did not improve from 0.34948\n",
            "Epoch 26/50\n",
            " - 1s - loss: 0.2999 - acc: 0.9089 - val_loss: 0.1861 - val_acc: 0.9609\n",
            "\n",
            "Epoch 00026: val_loss improved from 0.34948 to 0.18609, saving model to drive/My Drive/Resultado/weights_architecture_4.hdf5\n",
            "Epoch 27/50\n",
            " - 1s - loss: 0.4031 - acc: 0.8281 - val_loss: 0.3453 - val_acc: 0.8919\n",
            "\n",
            "Epoch 00027: val_loss did not improve from 0.18609\n",
            "Epoch 28/50\n",
            " - 1s - loss: 0.2534 - acc: 0.9271 - val_loss: 0.3574 - val_acc: 0.8828\n",
            "\n",
            "Epoch 00028: val_loss did not improve from 0.18609\n",
            "Epoch 29/50\n",
            " - 1s - loss: 0.2705 - acc: 0.9115 - val_loss: 0.5171 - val_acc: 0.8047\n",
            "\n",
            "Epoch 00029: val_loss did not improve from 0.18609\n",
            "Epoch 30/50\n",
            " - 1s - loss: 0.2984 - acc: 0.8958 - val_loss: 0.2587 - val_acc: 0.9219\n",
            "\n",
            "Epoch 00030: val_loss did not improve from 0.18609\n",
            "Epoch 31/50\n",
            " - 1s - loss: 0.2727 - acc: 0.9062 - val_loss: 0.5005 - val_acc: 0.8750\n",
            "\n",
            "Epoch 00031: val_loss did not improve from 0.18609\n",
            "Epoch 32/50\n",
            " - 1s - loss: 0.2447 - acc: 0.9219 - val_loss: 1.2406 - val_acc: 0.6797\n",
            "\n",
            "Epoch 00032: val_loss did not improve from 0.18609\n",
            "Epoch 33/50\n",
            " - 1s - loss: 0.2993 - acc: 0.8880 - val_loss: 0.5839 - val_acc: 0.8516\n",
            "\n",
            "Epoch 00033: val_loss did not improve from 0.18609\n",
            "Epoch 34/50\n",
            " - 1s - loss: 0.2419 - acc: 0.9062 - val_loss: 0.4022 - val_acc: 0.8594\n",
            "\n",
            "Epoch 00034: val_loss did not improve from 0.18609\n",
            "Epoch 35/50\n",
            " - 1s - loss: 0.2521 - acc: 0.9401 - val_loss: 0.6536 - val_acc: 0.8281\n",
            "\n",
            "Epoch 00035: val_loss did not improve from 0.18609\n",
            "Epoch 36/50\n",
            " - 1s - loss: 0.2103 - acc: 0.9479 - val_loss: 0.6276 - val_acc: 0.7891\n",
            "\n",
            "Epoch 00036: val_loss did not improve from 0.18609\n",
            "Epoch 37/50\n",
            " - 1s - loss: 0.2703 - acc: 0.9167 - val_loss: 0.2895 - val_acc: 0.8984\n",
            "\n",
            "Epoch 00037: val_loss did not improve from 0.18609\n",
            "Epoch 38/50\n",
            " - 1s - loss: 0.3472 - acc: 0.8750 - val_loss: 0.6290 - val_acc: 0.7422\n",
            "\n",
            "Epoch 00038: val_loss did not improve from 0.18609\n",
            "Epoch 39/50\n",
            " - 1s - loss: 0.2595 - acc: 0.9271 - val_loss: 0.6404 - val_acc: 0.7109\n",
            "\n",
            "Epoch 00039: val_loss did not improve from 0.18609\n",
            "Epoch 40/50\n",
            " - 1s - loss: 0.3151 - acc: 0.9036 - val_loss: 0.6890 - val_acc: 0.8125\n",
            "\n",
            "Epoch 00040: val_loss did not improve from 0.18609\n",
            "Epoch 41/50\n",
            " - 1s - loss: 0.2734 - acc: 0.9375 - val_loss: 0.6811 - val_acc: 0.8203\n",
            "\n",
            "Epoch 00041: val_loss did not improve from 0.18609\n",
            "Epoch 42/50\n",
            " - 1s - loss: 0.2926 - acc: 0.9193 - val_loss: 0.2771 - val_acc: 0.9297\n",
            "\n",
            "Epoch 00042: val_loss did not improve from 0.18609\n",
            "Epoch 43/50\n",
            " - 1s - loss: 0.2286 - acc: 0.9167 - val_loss: 0.4389 - val_acc: 0.8594\n",
            "\n",
            "Epoch 00043: val_loss did not improve from 0.18609\n",
            "Epoch 44/50\n",
            " - 1s - loss: 0.3540 - acc: 0.8750 - val_loss: 0.4136 - val_acc: 0.8359\n",
            "\n",
            "Epoch 00044: val_loss did not improve from 0.18609\n",
            "Epoch 45/50\n",
            " - 1s - loss: 0.2266 - acc: 0.9505 - val_loss: 0.2994 - val_acc: 0.9062\n",
            "\n",
            "Epoch 00045: val_loss did not improve from 0.18609\n",
            "Epoch 46/50\n",
            " - 1s - loss: 0.2495 - acc: 0.9193 - val_loss: 0.3728 - val_acc: 0.8828\n",
            "\n",
            "Epoch 00046: val_loss did not improve from 0.18609\n",
            "Epoch 47/50\n",
            " - 1s - loss: 0.2553 - acc: 0.9245 - val_loss: 0.2995 - val_acc: 0.9141\n",
            "\n",
            "Epoch 00047: val_loss did not improve from 0.18609\n",
            "Epoch 48/50\n",
            " - 1s - loss: 0.2365 - acc: 0.9349 - val_loss: 0.3868 - val_acc: 0.9141\n",
            "\n",
            "Epoch 00048: val_loss did not improve from 0.18609\n",
            "Epoch 49/50\n",
            " - 1s - loss: 0.2855 - acc: 0.9062 - val_loss: 0.5369 - val_acc: 0.8438\n",
            "\n",
            "Epoch 00049: val_loss did not improve from 0.18609\n",
            "Epoch 50/50\n",
            " - 1s - loss: 0.2193 - acc: 0.9349 - val_loss: 0.6512 - val_acc: 0.8125\n",
            "\n",
            "Epoch 00050: val_loss did not improve from 0.18609\n"
          ],
          "name": "stdout"
        }
      ]
    },
    {
      "metadata": {
        "colab_type": "code",
        "id": "J32DdUl5j261",
        "outputId": "25adbc59-5cb0-4e8c-f21a-b23789b86f11",
        "colab": {
          "base_uri": "https://localhost:8080/",
          "height": 380
        }
      },
      "cell_type": "code",
      "source": [
        "# plotar loss e accuracy para os datasets 'train' e 'test'\n",
        "plt.style.use(\"ggplot\")\n",
        "plt.figure()\n",
        "plt.plot(training.history['acc'], label='Accuracy')\n",
        "plt.plot(training.history['loss'], label='Loss')\n",
        "plt.xlabel('Epochs')\n",
        "plt.ylabel('Accuracy')\n",
        "plt.title(\"Training Loss and Accuracy\")\n",
        "plt.ylabel(\"Loss/Accuracy\")\n",
        "plt.legend()\n",
        "plt.savefig('drive/My Drive/Resultado/' + arquiteture + '.png', bbox_inches='tight')"
      ],
      "execution_count": 42,
      "outputs": [
        {
          "output_type": "display_data",
          "data": {
            "image/png": "[encoded data removed]",
            "text/plain": [
              "<matplotlib.figure.Figure at 0x7fd1f5f524e0>"
            ]
          },
          "metadata": {
            "tags": []
          }
        }
      ]
    },
    {
      "metadata": {
        "colab_type": "code",
        "id": "w0epZConj269",
        "outputId": "c7254dbf-37de-4777-d98e-bb713c6e6677",
        "colab": {
          "base_uri": "https://localhost:8080/",
          "height": 54
        }
      },
      "cell_type": "code",
      "source": [
        "y_true, y_predict = ler_images_teste(arquiteture)"
      ],
      "execution_count": 43,
      "outputs": [
        {
          "output_type": "stream",
          "text": [
            "/usr/local/lib/python3.6/dist-packages/skimage/transform/_warps.py:84: UserWarning: The default mode, 'constant', will be changed to 'reflect' in skimage 0.15.\n",
            "  warn(\"The default mode, 'constant', will be changed to 'reflect' in \"\n"
          ],
          "name": "stderr"
        }
      ]
    },
    {
      "metadata": {
        "colab_type": "code",
        "id": "raSeJjACj27G",
        "outputId": "fd171b55-ad33-4f92-8ad5-8473953ebf71",
        "colab": {
          "base_uri": "https://localhost:8080/",
          "height": 35
        }
      },
      "cell_type": "code",
      "source": [
        "results[arquiteture] = accuracy_score(y_true, y_predict)\n",
        "print('Test Accuracy: {:.2f}%'.format(100 * results[arquiteture]))"
      ],
      "execution_count": 44,
      "outputs": [
        {
          "output_type": "stream",
          "text": [
            "Test Accuracy: 80.30%\n"
          ],
          "name": "stdout"
        }
      ]
    },
    {
      "metadata": {
        "id": "lX3WANMgB1Ew",
        "colab_type": "text"
      },
      "cell_type": "markdown",
      "source": [
        "### 5 tentativa Accuracy: 80.12%"
      ]
    },
    {
      "metadata": {
        "colab_type": "text",
        "id": "dqed1VQh6WXg"
      },
      "cell_type": "markdown",
      "source": [
        "Modelo adaptado do **Lucas Albertins**\n",
        "\n",
        "*   Sem os **dropout**\n",
        "*   Função **SGD** para compilação\n"
      ]
    },
    {
      "metadata": {
        "colab_type": "code",
        "id": "z9mlUa4mB-ER",
        "colab": {}
      },
      "cell_type": "code",
      "source": [
        "from keras.layers import Conv2D, MaxPooling2D, GlobalMaxPooling2D, BatchNormalization\n",
        "from keras.regularizers import l2\n",
        "\n",
        "model = Sequential()\n",
        "\n",
        "model.add(Conv2D(32, (3, 3), activation='relu', kernel_regularizer=l2(1e-4), \n",
        "                 input_shape=(None, None, 3)))\n",
        "model.add(BatchNormalization())\n",
        "model.add(Conv2D(32, (3, 3), activation='relu', kernel_regularizer=l2(1e-4)))\n",
        "model.add(BatchNormalization())\n",
        "model.add(MaxPooling2D((2, 2)))\n",
        "model.add(Dropout(0.25))\n",
        "\n",
        "model.add(Conv2D(64, (3, 3), activation='relu', kernel_regularizer=l2(1e-4)))\n",
        "model.add(BatchNormalization())\n",
        "model.add(Conv2D(64, (3, 3), activation='relu', kernel_regularizer=l2(1e-4)))\n",
        "model.add(BatchNormalization())\n",
        "model.add(MaxPooling2D((2, 2)))\n",
        "model.add(Dropout(0.25))\n",
        "\n",
        "model.add(Conv2D(128, (1,1), kernel_regularizer=l2(1e-4)))\n",
        "model.add(GlobalMaxPooling2D())\n",
        "\n",
        "model.add(Dense(256, activation='relu', kernel_regularizer=l2(1e-4)))\n",
        "model.add(Dropout(0.5))\n",
        "model.add(Dense(2, activation='sigmoid', kernel_regularizer=l2(1e-4)))"
      ],
      "execution_count": 0,
      "outputs": []
    },
    {
      "metadata": {
        "id": "ukvJwM-lCHtB",
        "colab_type": "code",
        "colab": {}
      },
      "cell_type": "code",
      "source": [
        "model.compile(SGD(lr=0.01, momentum=0.0, decay=0.0, nesterov=False), \n",
        "              loss='binary_crossentropy', metrics=['accuracy'])"
      ],
      "execution_count": 0,
      "outputs": []
    },
    {
      "metadata": {
        "colab_type": "code",
        "id": "HA_KKMyaj6-L",
        "colab": {}
      },
      "cell_type": "code",
      "source": [
        "arquiteture = 'architecture_5'"
      ],
      "execution_count": 0,
      "outputs": []
    },
    {
      "metadata": {
        "colab_type": "code",
        "id": "eWpMObq1k1cL",
        "colab": {}
      },
      "cell_type": "code",
      "source": [
        "checkpointer = ModelCheckpoint(filepath='drive/My Drive/Resultado/weights_' + arquiteture + '.hdf5', verbose=1, save_best_only=True)"
      ],
      "execution_count": 0,
      "outputs": []
    },
    {
      "metadata": {
        "colab_type": "code",
        "id": "06GSgiIj4gfo",
        "outputId": "1ae2fb3b-bca2-4927-b217-84617ec69bda",
        "colab": {
          "base_uri": "https://localhost:8080/",
          "height": 3690
        }
      },
      "cell_type": "code",
      "source": [
        "training = model.fit_generator(train_batches, steps_per_epoch=stepsPerEpoche, \n",
        "                   validation_data=validation_batches, validation_steps=validationSteps,\n",
        "                   epochs=50, verbose=2, callbacks=[checkpointer])"
      ],
      "execution_count": 49,
      "outputs": [
        {
          "output_type": "stream",
          "text": [
            "Epoch 1/50\n",
            " - 3s - loss: 2.2279 - acc: 0.5312 - val_loss: 1.5258 - val_acc: 0.6250\n",
            "\n",
            "Epoch 00001: val_loss improved from inf to 1.52580, saving model to drive/My Drive/Resultado/weights_architecture_5.hdf5\n",
            "Epoch 2/50\n",
            " - 1s - loss: 1.8797 - acc: 0.5130 - val_loss: 0.8693 - val_acc: 0.5703\n",
            "\n",
            "Epoch 00002: val_loss improved from 1.52580 to 0.86929, saving model to drive/My Drive/Resultado/weights_architecture_5.hdf5\n",
            "Epoch 3/50\n",
            " - 1s - loss: 0.9866 - acc: 0.6458 - val_loss: 0.8823 - val_acc: 0.6641\n",
            "\n",
            "Epoch 00003: val_loss did not improve from 0.86929\n",
            "Epoch 4/50\n",
            " - 1s - loss: 0.8407 - acc: 0.6506 - val_loss: 0.6648 - val_acc: 0.6016\n",
            "\n",
            "Epoch 00004: val_loss improved from 0.86929 to 0.66483, saving model to drive/My Drive/Resultado/weights_architecture_5.hdf5\n",
            "Epoch 5/50\n",
            " - 1s - loss: 0.7257 - acc: 0.6927 - val_loss: 0.6051 - val_acc: 0.7344\n",
            "\n",
            "Epoch 00005: val_loss improved from 0.66483 to 0.60514, saving model to drive/My Drive/Resultado/weights_architecture_5.hdf5\n",
            "Epoch 6/50\n",
            " - 1s - loss: 0.8139 - acc: 0.6536 - val_loss: 0.6150 - val_acc: 0.7500\n",
            "\n",
            "Epoch 00006: val_loss did not improve from 0.60514\n",
            "Epoch 7/50\n",
            " - 1s - loss: 0.6368 - acc: 0.7161 - val_loss: 0.5375 - val_acc: 0.7578\n",
            "\n",
            "Epoch 00007: val_loss improved from 0.60514 to 0.53752, saving model to drive/My Drive/Resultado/weights_architecture_5.hdf5\n",
            "Epoch 8/50\n",
            " - 1s - loss: 0.6153 - acc: 0.7161 - val_loss: 0.5676 - val_acc: 0.7891\n",
            "\n",
            "Epoch 00008: val_loss did not improve from 0.53752\n",
            "Epoch 9/50\n",
            " - 1s - loss: 0.6751 - acc: 0.6875 - val_loss: 0.5910 - val_acc: 0.7109\n",
            "\n",
            "Epoch 00009: val_loss did not improve from 0.53752\n",
            "Epoch 10/50\n",
            " - 1s - loss: 0.5774 - acc: 0.7448 - val_loss: 0.6213 - val_acc: 0.6953\n",
            "\n",
            "Epoch 00010: val_loss did not improve from 0.53752\n",
            "Epoch 11/50\n",
            " - 1s - loss: 0.5807 - acc: 0.7630 - val_loss: 0.6224 - val_acc: 0.6875\n",
            "\n",
            "Epoch 00011: val_loss did not improve from 0.53752\n",
            "Epoch 12/50\n",
            " - 1s - loss: 0.4557 - acc: 0.8047 - val_loss: 0.5931 - val_acc: 0.7422\n",
            "\n",
            "Epoch 00012: val_loss did not improve from 0.53752\n",
            "Epoch 13/50\n",
            " - 1s - loss: 0.5136 - acc: 0.7917 - val_loss: 0.6732 - val_acc: 0.6250\n",
            "\n",
            "Epoch 00013: val_loss did not improve from 0.53752\n",
            "Epoch 14/50\n",
            " - 1s - loss: 0.5276 - acc: 0.7552 - val_loss: 0.5257 - val_acc: 0.7656\n",
            "\n",
            "Epoch 00014: val_loss improved from 0.53752 to 0.52565, saving model to drive/My Drive/Resultado/weights_architecture_5.hdf5\n",
            "Epoch 15/50\n",
            " - 1s - loss: 0.5179 - acc: 0.7943 - val_loss: 0.4905 - val_acc: 0.8438\n",
            "\n",
            "Epoch 00015: val_loss improved from 0.52565 to 0.49052, saving model to drive/My Drive/Resultado/weights_architecture_5.hdf5\n",
            "Epoch 16/50\n",
            " - 1s - loss: 0.4101 - acc: 0.8594 - val_loss: 0.5149 - val_acc: 0.7969\n",
            "\n",
            "Epoch 00016: val_loss did not improve from 0.49052\n",
            "Epoch 17/50\n",
            " - 1s - loss: 0.5255 - acc: 0.8099 - val_loss: 0.4865 - val_acc: 0.8672\n",
            "\n",
            "Epoch 00017: val_loss improved from 0.49052 to 0.48648, saving model to drive/My Drive/Resultado/weights_architecture_5.hdf5\n",
            "Epoch 18/50\n",
            " - 1s - loss: 0.4417 - acc: 0.8333 - val_loss: 0.4650 - val_acc: 0.8672\n",
            "\n",
            "Epoch 00018: val_loss improved from 0.48648 to 0.46498, saving model to drive/My Drive/Resultado/weights_architecture_5.hdf5\n",
            "Epoch 19/50\n",
            " - 1s - loss: 0.3907 - acc: 0.8464 - val_loss: 0.6542 - val_acc: 0.6797\n",
            "\n",
            "Epoch 00019: val_loss did not improve from 0.46498\n",
            "Epoch 20/50\n",
            " - 1s - loss: 0.4762 - acc: 0.8333 - val_loss: 0.6304 - val_acc: 0.6486\n",
            "\n",
            "Epoch 00020: val_loss did not improve from 0.46498\n",
            "Epoch 21/50\n",
            " - 1s - loss: 0.4879 - acc: 0.7865 - val_loss: 0.4799 - val_acc: 0.8750\n",
            "\n",
            "Epoch 00021: val_loss did not improve from 0.46498\n",
            "Epoch 22/50\n",
            " - 1s - loss: 0.4303 - acc: 0.8411 - val_loss: 0.4302 - val_acc: 0.8750\n",
            "\n",
            "Epoch 00022: val_loss improved from 0.46498 to 0.43023, saving model to drive/My Drive/Resultado/weights_architecture_5.hdf5\n",
            "Epoch 23/50\n",
            " - 1s - loss: 0.4380 - acc: 0.8073 - val_loss: 0.3869 - val_acc: 0.9141\n",
            "\n",
            "Epoch 00023: val_loss improved from 0.43023 to 0.38685, saving model to drive/My Drive/Resultado/weights_architecture_5.hdf5\n",
            "Epoch 24/50\n",
            " - 1s - loss: 0.4151 - acc: 0.8411 - val_loss: 0.4792 - val_acc: 0.8359\n",
            "\n",
            "Epoch 00024: val_loss did not improve from 0.38685\n",
            "Epoch 25/50\n",
            " - 1s - loss: 0.4400 - acc: 0.8099 - val_loss: 0.4124 - val_acc: 0.8750\n",
            "\n",
            "Epoch 00025: val_loss did not improve from 0.38685\n",
            "Epoch 26/50\n",
            " - 1s - loss: 0.3199 - acc: 0.8906 - val_loss: 0.4270 - val_acc: 0.8828\n",
            "\n",
            "Epoch 00026: val_loss did not improve from 0.38685\n",
            "Epoch 27/50\n",
            " - 1s - loss: 0.5083 - acc: 0.8099 - val_loss: 0.4127 - val_acc: 0.8438\n",
            "\n",
            "Epoch 00027: val_loss did not improve from 0.38685\n",
            "Epoch 28/50\n",
            " - 1s - loss: 0.4507 - acc: 0.7995 - val_loss: 0.6582 - val_acc: 0.6641\n",
            "\n",
            "Epoch 00028: val_loss did not improve from 0.38685\n",
            "Epoch 29/50\n",
            " - 1s - loss: 0.4256 - acc: 0.8203 - val_loss: 0.5846 - val_acc: 0.7422\n",
            "\n",
            "Epoch 00029: val_loss did not improve from 0.38685\n",
            "Epoch 30/50\n",
            " - 1s - loss: 0.4177 - acc: 0.8411 - val_loss: 0.5365 - val_acc: 0.8281\n",
            "\n",
            "Epoch 00030: val_loss did not improve from 0.38685\n",
            "Epoch 31/50\n",
            " - 1s - loss: 0.3991 - acc: 0.8490 - val_loss: 0.4008 - val_acc: 0.8594\n",
            "\n",
            "Epoch 00031: val_loss did not improve from 0.38685\n",
            "Epoch 32/50\n",
            " - 1s - loss: 0.4132 - acc: 0.8333 - val_loss: 0.4023 - val_acc: 0.8672\n",
            "\n",
            "Epoch 00032: val_loss did not improve from 0.38685\n",
            "Epoch 33/50\n",
            " - 1s - loss: 0.3716 - acc: 0.8712 - val_loss: 0.7003 - val_acc: 0.6328\n",
            "\n",
            "Epoch 00033: val_loss did not improve from 0.38685\n",
            "Epoch 34/50\n",
            " - 1s - loss: 0.3803 - acc: 0.8385 - val_loss: 0.4826 - val_acc: 0.8438\n",
            "\n",
            "Epoch 00034: val_loss did not improve from 0.38685\n",
            "Epoch 35/50\n",
            " - 1s - loss: 0.3409 - acc: 0.8698 - val_loss: 0.3402 - val_acc: 0.9062\n",
            "\n",
            "Epoch 00035: val_loss improved from 0.38685 to 0.34024, saving model to drive/My Drive/Resultado/weights_architecture_5.hdf5\n",
            "Epoch 36/50\n",
            " - 1s - loss: 0.3976 - acc: 0.8594 - val_loss: 0.4464 - val_acc: 0.8359\n",
            "\n",
            "Epoch 00036: val_loss did not improve from 0.34024\n",
            "Epoch 37/50\n",
            " - 1s - loss: 0.4009 - acc: 0.8568 - val_loss: 0.3350 - val_acc: 0.8906\n",
            "\n",
            "Epoch 00037: val_loss improved from 0.34024 to 0.33500, saving model to drive/My Drive/Resultado/weights_architecture_5.hdf5\n",
            "Epoch 38/50\n",
            " - 1s - loss: 0.3877 - acc: 0.8568 - val_loss: 0.4122 - val_acc: 0.8047\n",
            "\n",
            "Epoch 00038: val_loss did not improve from 0.33500\n",
            "Epoch 39/50\n",
            " - 1s - loss: 0.3668 - acc: 0.8594 - val_loss: 0.4925 - val_acc: 0.8047\n",
            "\n",
            "Epoch 00039: val_loss did not improve from 0.33500\n",
            "Epoch 40/50\n",
            " - 1s - loss: 0.3730 - acc: 0.8542 - val_loss: 0.5067 - val_acc: 0.7734\n",
            "\n",
            "Epoch 00040: val_loss did not improve from 0.33500\n",
            "Epoch 41/50\n",
            " - 1s - loss: 0.4145 - acc: 0.8464 - val_loss: 0.5129 - val_acc: 0.7500\n",
            "\n",
            "Epoch 00041: val_loss did not improve from 0.33500\n",
            "Epoch 42/50\n",
            " - 1s - loss: 0.4477 - acc: 0.7969 - val_loss: 0.3851 - val_acc: 0.8984\n",
            "\n",
            "Epoch 00042: val_loss did not improve from 0.33500\n",
            "Epoch 43/50\n",
            " - 1s - loss: 0.3957 - acc: 0.8542 - val_loss: 0.4006 - val_acc: 0.8906\n",
            "\n",
            "Epoch 00043: val_loss did not improve from 0.33500\n",
            "Epoch 44/50\n",
            " - 1s - loss: 0.4187 - acc: 0.8125 - val_loss: 0.4606 - val_acc: 0.9189\n",
            "\n",
            "Epoch 00044: val_loss did not improve from 0.33500\n",
            "Epoch 45/50\n",
            " - 1s - loss: 0.3436 - acc: 0.8828 - val_loss: 0.3904 - val_acc: 0.8750\n",
            "\n",
            "Epoch 00045: val_loss did not improve from 0.33500\n",
            "Epoch 46/50\n",
            " - 1s - loss: 0.3287 - acc: 0.8932 - val_loss: 0.2942 - val_acc: 0.9688\n",
            "\n",
            "Epoch 00046: val_loss improved from 0.33500 to 0.29418, saving model to drive/My Drive/Resultado/weights_architecture_5.hdf5\n",
            "Epoch 47/50\n",
            " - 1s - loss: 0.3934 - acc: 0.8620 - val_loss: 0.4335 - val_acc: 0.8516\n",
            "\n",
            "Epoch 00047: val_loss did not improve from 0.29418\n",
            "Epoch 48/50\n",
            " - 1s - loss: 0.4245 - acc: 0.8411 - val_loss: 0.4772 - val_acc: 0.8281\n",
            "\n",
            "Epoch 00048: val_loss did not improve from 0.29418\n",
            "Epoch 49/50\n",
            " - 1s - loss: 0.2947 - acc: 0.9167 - val_loss: 0.4409 - val_acc: 0.8438\n",
            "\n",
            "Epoch 00049: val_loss did not improve from 0.29418\n",
            "Epoch 50/50\n",
            " - 1s - loss: 0.3901 - acc: 0.8542 - val_loss: 0.3512 - val_acc: 0.8750\n",
            "\n",
            "Epoch 00050: val_loss did not improve from 0.29418\n"
          ],
          "name": "stdout"
        }
      ]
    },
    {
      "metadata": {
        "colab_type": "code",
        "id": "bqNxaqg5j6-Q",
        "outputId": "e5212bfd-6001-423b-fef2-f915dbc8267a",
        "colab": {
          "base_uri": "https://localhost:8080/",
          "height": 380
        }
      },
      "cell_type": "code",
      "source": [
        "# plotar loss e accuracy para os datasets 'train' e 'test'\n",
        "plt.style.use(\"ggplot\")\n",
        "plt.figure()\n",
        "plt.plot(training.history['acc'], label='Accuracy')\n",
        "plt.plot(training.history['loss'], label='Loss')\n",
        "plt.xlabel('Epochs')\n",
        "plt.ylabel('Accuracy')\n",
        "plt.title(\"Training Loss and Accuracy\")\n",
        "plt.ylabel(\"Loss/Accuracy\")\n",
        "plt.legend()\n",
        "plt.savefig('drive/My Drive/Resultado/' + arquiteture + '.png', bbox_inches='tight')"
      ],
      "execution_count": 50,
      "outputs": [
        {
          "output_type": "display_data",
          "data": {
            "image/png": "[encoded data removed]",
            "text/plain": [
              "<matplotlib.figure.Figure at 0x7fd1f76aef28>"
            ]
          },
          "metadata": {
            "tags": []
          }
        }
      ]
    },
    {
      "metadata": {
        "colab_type": "code",
        "id": "PNDCeMfZj6-X",
        "outputId": "bf53c3db-d143-444a-c07d-7dbd006fcb76",
        "colab": {
          "base_uri": "https://localhost:8080/",
          "height": 54
        }
      },
      "cell_type": "code",
      "source": [
        "y_true, y_predict = ler_images_teste(arquiteture)"
      ],
      "execution_count": 51,
      "outputs": [
        {
          "output_type": "stream",
          "text": [
            "/usr/local/lib/python3.6/dist-packages/skimage/transform/_warps.py:84: UserWarning: The default mode, 'constant', will be changed to 'reflect' in skimage 0.15.\n",
            "  warn(\"The default mode, 'constant', will be changed to 'reflect' in \"\n"
          ],
          "name": "stderr"
        }
      ]
    },
    {
      "metadata": {
        "colab_type": "code",
        "id": "atPv7K2Jj6-g",
        "outputId": "909d417d-828f-4902-d631-92df2aa0af7b",
        "colab": {
          "base_uri": "https://localhost:8080/",
          "height": 35
        }
      },
      "cell_type": "code",
      "source": [
        "results[arquiteture] = accuracy_score(y_true, y_predict)\n",
        "print('Test Accuracy: {:.2f}%'.format(100 * results[arquiteture]))"
      ],
      "execution_count": 52,
      "outputs": [
        {
          "output_type": "stream",
          "text": [
            "Test Accuracy: 80.12%\n"
          ],
          "name": "stdout"
        }
      ]
    },
    {
      "metadata": {
        "id": "apfIeirYD2N7",
        "colab_type": "text"
      },
      "cell_type": "markdown",
      "source": [
        "### 6 tentativa Accuracy: 80.36%"
      ]
    },
    {
      "metadata": {
        "colab_type": "text",
        "id": "xaxcjuxn7BAH"
      },
      "cell_type": "markdown",
      "source": [
        "Modelo adaptado do **Lucas Albertins**\n",
        "\n",
        "*   Sem os **dropout**\n",
        "*   Função **SGD** para compilação\n",
        "*   **BatchNormalization** antes da ultima camada Dense\n"
      ]
    },
    {
      "metadata": {
        "colab_type": "code",
        "id": "C2UuO-jqD44u",
        "colab": {}
      },
      "cell_type": "code",
      "source": [
        "from keras.layers import Conv2D, MaxPooling2D, GlobalMaxPooling2D, BatchNormalization\n",
        "from keras.regularizers import l2\n",
        "\n",
        "model = Sequential()\n",
        "\n",
        "model.add(Conv2D(32, (3, 3), activation='relu', kernel_regularizer=l2(1e-4), \n",
        "                 input_shape=(None, None, 3)))\n",
        "model.add(BatchNormalization())\n",
        "model.add(Conv2D(32, (3, 3), activation='relu', kernel_regularizer=l2(1e-4)))\n",
        "model.add(BatchNormalization())\n",
        "model.add(MaxPooling2D((2, 2)))\n",
        "\n",
        "model.add(Conv2D(64, (3, 3), activation='relu', kernel_regularizer=l2(1e-4)))\n",
        "model.add(BatchNormalization())\n",
        "model.add(Conv2D(64, (3, 3), activation='relu', kernel_regularizer=l2(1e-4)))\n",
        "model.add(BatchNormalization())\n",
        "model.add(MaxPooling2D((2, 2)))\n",
        "\n",
        "model.add(Conv2D(128, (1,1), kernel_regularizer=l2(1e-4)))\n",
        "model.add(GlobalMaxPooling2D())\n",
        "\n",
        "model.add(Dense(256, activation='relu', kernel_regularizer=l2(1e-4)))\n",
        "model.add(BatchNormalization())\n",
        "model.add(Dense(2, activation='sigmoid', kernel_regularizer=l2(1e-4)))"
      ],
      "execution_count": 0,
      "outputs": []
    },
    {
      "metadata": {
        "colab_type": "code",
        "id": "I7mu97znD45M",
        "colab": {}
      },
      "cell_type": "code",
      "source": [
        "model.compile(SGD(lr=0.03, momentum=0.0, decay=0.0, nesterov=False), \n",
        "              loss='binary_crossentropy', metrics=['accuracy'])"
      ],
      "execution_count": 0,
      "outputs": []
    },
    {
      "metadata": {
        "colab_type": "code",
        "id": "QQFrxD_Rj9wz",
        "colab": {}
      },
      "cell_type": "code",
      "source": [
        "arquiteture = 'architecture_6'"
      ],
      "execution_count": 0,
      "outputs": []
    },
    {
      "metadata": {
        "colab_type": "code",
        "id": "ihB-VbCRkyUR",
        "colab": {}
      },
      "cell_type": "code",
      "source": [
        "checkpointer = ModelCheckpoint(filepath='drive/My Drive/Resultado/weights_' + arquiteture + '.hdf5', verbose=1, save_best_only=True)"
      ],
      "execution_count": 0,
      "outputs": []
    },
    {
      "metadata": {
        "colab_type": "code",
        "id": "HRAakAz46scS",
        "outputId": "3205f15b-6c26-4e4c-ed12-aa9d716c00f2",
        "colab": {
          "base_uri": "https://localhost:8080/",
          "height": 3690
        }
      },
      "cell_type": "code",
      "source": [
        "training = model.fit_generator(train_batches, steps_per_epoch=stepsPerEpoche, \n",
        "                   validation_data=validation_batches, validation_steps=validationSteps,\n",
        "                   epochs=50, verbose=2, callbacks=[checkpointer])"
      ],
      "execution_count": 57,
      "outputs": [
        {
          "output_type": "stream",
          "text": [
            "Epoch 1/50\n",
            " - 3s - loss: 0.6404 - acc: 0.6771 - val_loss: 0.6157 - val_acc: 0.7188\n",
            "\n",
            "Epoch 00001: val_loss improved from inf to 0.61569, saving model to drive/My Drive/Resultado/weights_architecture_6.hdf5\n",
            "Epoch 2/50\n",
            " - 1s - loss: 0.4375 - acc: 0.8490 - val_loss: 0.3974 - val_acc: 0.8672\n",
            "\n",
            "Epoch 00002: val_loss improved from 0.61569 to 0.39738, saving model to drive/My Drive/Resultado/weights_architecture_6.hdf5\n",
            "Epoch 3/50\n",
            " - 1s - loss: 0.4285 - acc: 0.8385 - val_loss: 0.5488 - val_acc: 0.8125\n",
            "\n",
            "Epoch 00003: val_loss did not improve from 0.39738\n",
            "Epoch 4/50\n",
            " - 1s - loss: 0.4488 - acc: 0.8229 - val_loss: 1.1031 - val_acc: 0.7891\n",
            "\n",
            "Epoch 00004: val_loss did not improve from 0.39738\n",
            "Epoch 5/50\n",
            " - 1s - loss: 0.3984 - acc: 0.8724 - val_loss: 0.7973 - val_acc: 0.6953\n",
            "\n",
            "Epoch 00005: val_loss did not improve from 0.39738\n",
            "Epoch 6/50\n",
            " - 1s - loss: 0.3694 - acc: 0.8776 - val_loss: 0.8581 - val_acc: 0.6953\n",
            "\n",
            "Epoch 00006: val_loss did not improve from 0.39738\n",
            "Epoch 7/50\n",
            " - 1s - loss: 0.4003 - acc: 0.8542 - val_loss: 0.3732 - val_acc: 0.9062\n",
            "\n",
            "Epoch 00007: val_loss improved from 0.39738 to 0.37317, saving model to drive/My Drive/Resultado/weights_architecture_6.hdf5\n",
            "Epoch 8/50\n",
            " - 1s - loss: 0.3419 - acc: 0.9089 - val_loss: 0.5785 - val_acc: 0.7812\n",
            "\n",
            "Epoch 00008: val_loss did not improve from 0.37317\n",
            "Epoch 9/50\n",
            " - 1s - loss: 0.4189 - acc: 0.8958 - val_loss: 0.4705 - val_acc: 0.8750\n",
            "\n",
            "Epoch 00009: val_loss did not improve from 0.37317\n",
            "Epoch 10/50\n",
            " - 1s - loss: 0.4124 - acc: 0.8906 - val_loss: 0.4578 - val_acc: 0.8594\n",
            "\n",
            "Epoch 00010: val_loss did not improve from 0.37317\n",
            "Epoch 11/50\n",
            " - 1s - loss: 0.3950 - acc: 0.8568 - val_loss: 0.4567 - val_acc: 0.8125\n",
            "\n",
            "Epoch 00011: val_loss did not improve from 0.37317\n",
            "Epoch 12/50\n",
            " - 1s - loss: 0.3099 - acc: 0.9167 - val_loss: 0.7200 - val_acc: 0.7266\n",
            "\n",
            "Epoch 00012: val_loss did not improve from 0.37317\n",
            "Epoch 13/50\n",
            " - 1s - loss: 0.3418 - acc: 0.8902 - val_loss: 0.8781 - val_acc: 0.7162\n",
            "\n",
            "Epoch 00013: val_loss did not improve from 0.37317\n",
            "Epoch 14/50\n",
            " - 1s - loss: 0.3141 - acc: 0.9036 - val_loss: 0.5287 - val_acc: 0.8281\n",
            "\n",
            "Epoch 00014: val_loss did not improve from 0.37317\n",
            "Epoch 15/50\n",
            " - 1s - loss: 0.3477 - acc: 0.8906 - val_loss: 0.4324 - val_acc: 0.8516\n",
            "\n",
            "Epoch 00015: val_loss did not improve from 0.37317\n",
            "Epoch 16/50\n",
            " - 1s - loss: 0.3185 - acc: 0.9193 - val_loss: 0.3077 - val_acc: 0.8672\n",
            "\n",
            "Epoch 00016: val_loss improved from 0.37317 to 0.30774, saving model to drive/My Drive/Resultado/weights_architecture_6.hdf5\n",
            "Epoch 17/50\n",
            " - 1s - loss: 0.2870 - acc: 0.9115 - val_loss: 0.3915 - val_acc: 0.8594\n",
            "\n",
            "Epoch 00017: val_loss did not improve from 0.30774\n",
            "Epoch 18/50\n",
            " - 1s - loss: 0.3400 - acc: 0.8958 - val_loss: 0.4222 - val_acc: 0.8516\n",
            "\n",
            "Epoch 00018: val_loss did not improve from 0.30774\n",
            "Epoch 19/50\n",
            " - 1s - loss: 0.3182 - acc: 0.9271 - val_loss: 0.3617 - val_acc: 0.8672\n",
            "\n",
            "Epoch 00019: val_loss did not improve from 0.30774\n",
            "Epoch 20/50\n",
            " - 1s - loss: 0.2787 - acc: 0.9219 - val_loss: 0.2500 - val_acc: 0.9062\n",
            "\n",
            "Epoch 00020: val_loss improved from 0.30774 to 0.25004, saving model to drive/My Drive/Resultado/weights_architecture_6.hdf5\n",
            "Epoch 21/50\n",
            " - 1s - loss: 0.3551 - acc: 0.8932 - val_loss: 0.5027 - val_acc: 0.8672\n",
            "\n",
            "Epoch 00021: val_loss did not improve from 0.25004\n",
            "Epoch 22/50\n",
            " - 1s - loss: 0.3289 - acc: 0.8828 - val_loss: 0.2581 - val_acc: 0.9141\n",
            "\n",
            "Epoch 00022: val_loss did not improve from 0.25004\n",
            "Epoch 23/50\n",
            " - 1s - loss: 0.3323 - acc: 0.8958 - val_loss: 0.3554 - val_acc: 0.8516\n",
            "\n",
            "Epoch 00023: val_loss did not improve from 0.25004\n",
            "Epoch 24/50\n",
            " - 1s - loss: 0.3359 - acc: 0.8984 - val_loss: 0.2120 - val_acc: 0.9609\n",
            "\n",
            "Epoch 00024: val_loss improved from 0.25004 to 0.21203, saving model to drive/My Drive/Resultado/weights_architecture_6.hdf5\n",
            "Epoch 25/50\n",
            " - 1s - loss: 0.2978 - acc: 0.9062 - val_loss: 0.4806 - val_acc: 0.8594\n",
            "\n",
            "Epoch 00025: val_loss did not improve from 0.21203\n",
            "Epoch 26/50\n",
            " - 1s - loss: 0.2503 - acc: 0.9245 - val_loss: 0.3072 - val_acc: 0.9219\n",
            "\n",
            "Epoch 00026: val_loss did not improve from 0.21203\n",
            "Epoch 27/50\n",
            " - 1s - loss: 0.2736 - acc: 0.9141 - val_loss: 0.2940 - val_acc: 0.9297\n",
            "\n",
            "Epoch 00027: val_loss did not improve from 0.21203\n",
            "Epoch 28/50\n",
            " - 1s - loss: 0.3305 - acc: 0.9193 - val_loss: 0.6267 - val_acc: 0.6875\n",
            "\n",
            "Epoch 00028: val_loss did not improve from 0.21203\n",
            "Epoch 29/50\n",
            " - 1s - loss: 0.3564 - acc: 0.8776 - val_loss: 0.8754 - val_acc: 0.7500\n",
            "\n",
            "Epoch 00029: val_loss did not improve from 0.21203\n",
            "Epoch 30/50\n",
            " - 1s - loss: 0.2373 - acc: 0.9401 - val_loss: 0.4204 - val_acc: 0.8438\n",
            "\n",
            "Epoch 00030: val_loss did not improve from 0.21203\n",
            "Epoch 31/50\n",
            " - 1s - loss: 0.3602 - acc: 0.8776 - val_loss: 0.3465 - val_acc: 0.8438\n",
            "\n",
            "Epoch 00031: val_loss did not improve from 0.21203\n",
            "Epoch 32/50\n",
            " - 1s - loss: 0.2775 - acc: 0.9115 - val_loss: 0.6390 - val_acc: 0.7188\n",
            "\n",
            "Epoch 00032: val_loss did not improve from 0.21203\n",
            "Epoch 33/50\n",
            " - 1s - loss: 0.2678 - acc: 0.9245 - val_loss: 0.4800 - val_acc: 0.7656\n",
            "\n",
            "Epoch 00033: val_loss did not improve from 0.21203\n",
            "Epoch 34/50\n",
            " - 1s - loss: 0.3325 - acc: 0.9036 - val_loss: 1.9847 - val_acc: 0.5469\n",
            "\n",
            "Epoch 00034: val_loss did not improve from 0.21203\n",
            "Epoch 35/50\n",
            " - 1s - loss: 0.3305 - acc: 0.9036 - val_loss: 1.0337 - val_acc: 0.6641\n",
            "\n",
            "Epoch 00035: val_loss did not improve from 0.21203\n",
            "Epoch 36/50\n",
            " - 1s - loss: 0.3552 - acc: 0.8984 - val_loss: 0.6625 - val_acc: 0.7188\n",
            "\n",
            "Epoch 00036: val_loss did not improve from 0.21203\n",
            "Epoch 37/50\n",
            " - 1s - loss: 0.2326 - acc: 0.9401 - val_loss: 0.4524 - val_acc: 0.8243\n",
            "\n",
            "Epoch 00037: val_loss did not improve from 0.21203\n",
            "Epoch 38/50\n",
            " - 1s - loss: 0.3093 - acc: 0.8932 - val_loss: 0.6195 - val_acc: 0.7500\n",
            "\n",
            "Epoch 00038: val_loss did not improve from 0.21203\n",
            "Epoch 39/50\n",
            " - 1s - loss: 0.3433 - acc: 0.8854 - val_loss: 0.6386 - val_acc: 0.7344\n",
            "\n",
            "Epoch 00039: val_loss did not improve from 0.21203\n",
            "Epoch 40/50\n",
            " - 1s - loss: 0.3410 - acc: 0.8958 - val_loss: 0.3101 - val_acc: 0.8672\n",
            "\n",
            "Epoch 00040: val_loss did not improve from 0.21203\n",
            "Epoch 41/50\n",
            " - 1s - loss: 0.2909 - acc: 0.9089 - val_loss: 0.3053 - val_acc: 0.8828\n",
            "\n",
            "Epoch 00041: val_loss did not improve from 0.21203\n",
            "Epoch 42/50\n",
            " - 1s - loss: 0.2961 - acc: 0.9141 - val_loss: 1.0597 - val_acc: 0.6484\n",
            "\n",
            "Epoch 00042: val_loss did not improve from 0.21203\n",
            "Epoch 43/50\n",
            " - 1s - loss: 0.2666 - acc: 0.9245 - val_loss: 0.4198 - val_acc: 0.8281\n",
            "\n",
            "Epoch 00043: val_loss did not improve from 0.21203\n",
            "Epoch 44/50\n",
            " - 1s - loss: 0.2920 - acc: 0.9141 - val_loss: 0.3706 - val_acc: 0.8438\n",
            "\n",
            "Epoch 00044: val_loss did not improve from 0.21203\n",
            "Epoch 45/50\n",
            " - 1s - loss: 0.2842 - acc: 0.9271 - val_loss: 0.3651 - val_acc: 0.8672\n",
            "\n",
            "Epoch 00045: val_loss did not improve from 0.21203\n",
            "Epoch 46/50\n",
            " - 1s - loss: 0.2651 - acc: 0.9193 - val_loss: 0.2093 - val_acc: 0.9375\n",
            "\n",
            "Epoch 00046: val_loss improved from 0.21203 to 0.20925, saving model to drive/My Drive/Resultado/weights_architecture_6.hdf5\n",
            "Epoch 47/50\n",
            " - 1s - loss: 0.2966 - acc: 0.8984 - val_loss: 0.6381 - val_acc: 0.8203\n",
            "\n",
            "Epoch 00047: val_loss did not improve from 0.20925\n",
            "Epoch 48/50\n",
            " - 1s - loss: 0.2528 - acc: 0.9245 - val_loss: 0.3518 - val_acc: 0.8828\n",
            "\n",
            "Epoch 00048: val_loss did not improve from 0.20925\n",
            "Epoch 49/50\n",
            " - 1s - loss: 0.2426 - acc: 0.9167 - val_loss: 0.2822 - val_acc: 0.8828\n",
            "\n",
            "Epoch 00049: val_loss did not improve from 0.20925\n",
            "Epoch 50/50\n",
            " - 1s - loss: 0.2931 - acc: 0.9141 - val_loss: 0.2267 - val_acc: 0.9688\n",
            "\n",
            "Epoch 00050: val_loss did not improve from 0.20925\n"
          ],
          "name": "stdout"
        }
      ]
    },
    {
      "metadata": {
        "colab_type": "code",
        "id": "OqkWIHX3j9w7",
        "outputId": "039f4669-ff05-4534-a7b0-422b50bdabf6",
        "colab": {
          "base_uri": "https://localhost:8080/",
          "height": 380
        }
      },
      "cell_type": "code",
      "source": [
        "# plotar loss e accuracy para os datasets 'train' e 'test'\n",
        "plt.style.use(\"ggplot\")\n",
        "plt.figure()\n",
        "plt.plot(training.history['acc'], label='Accuracy')\n",
        "plt.plot(training.history['loss'], label='Loss')\n",
        "plt.xlabel('Epochs')\n",
        "plt.ylabel('Accuracy')\n",
        "plt.title(\"Training Loss and Accuracy\")\n",
        "plt.ylabel(\"Loss/Accuracy\")\n",
        "plt.legend()\n",
        "plt.savefig('drive/My Drive/Resultado/' + arquiteture + '.png', bbox_inches='tight')"
      ],
      "execution_count": 58,
      "outputs": [
        {
          "output_type": "display_data",
          "data": {
            "image/png": "[encoded data removed]",
            "text/plain": [
              "<matplotlib.figure.Figure at 0x7fd1fa6d4080>"
            ]
          },
          "metadata": {
            "tags": []
          }
        }
      ]
    },
    {
      "metadata": {
        "colab_type": "code",
        "id": "4Gkm9_wVj9w_",
        "outputId": "9be7c6d2-1c92-4fbb-999c-2e0e85d6bd83",
        "colab": {
          "base_uri": "https://localhost:8080/",
          "height": 54
        }
      },
      "cell_type": "code",
      "source": [
        "y_true, y_predict = ler_images_teste(arquiteture)"
      ],
      "execution_count": 59,
      "outputs": [
        {
          "output_type": "stream",
          "text": [
            "/usr/local/lib/python3.6/dist-packages/skimage/transform/_warps.py:84: UserWarning: The default mode, 'constant', will be changed to 'reflect' in skimage 0.15.\n",
            "  warn(\"The default mode, 'constant', will be changed to 'reflect' in \"\n"
          ],
          "name": "stderr"
        }
      ]
    },
    {
      "metadata": {
        "colab_type": "code",
        "id": "seI9o-8_j9xD",
        "outputId": "9efbc5f7-d262-4369-e13b-eeb3efb9570b",
        "colab": {
          "base_uri": "https://localhost:8080/",
          "height": 35
        }
      },
      "cell_type": "code",
      "source": [
        "results[arquiteture] = accuracy_score(y_true, y_predict)\n",
        "print('Test Accuracy: {:.2f}%'.format(100 * results[arquiteture]))"
      ],
      "execution_count": 60,
      "outputs": [
        {
          "output_type": "stream",
          "text": [
            "Test Accuracy: 80.36%\n"
          ],
          "name": "stdout"
        }
      ]
    },
    {
      "metadata": {
        "id": "5gk7vmYPHddj",
        "colab_type": "text"
      },
      "cell_type": "markdown",
      "source": [
        "### 7 tentativa Accuracy: 80.36%"
      ]
    },
    {
      "metadata": {
        "colab_type": "text",
        "id": "lxzyd-4L422r"
      },
      "cell_type": "markdown",
      "source": [
        "Modelo adaptado do **Lucas Albertins**\n",
        "\n",
        "*   Sem os **dropout**\n",
        "*   Função **Adadelta** para compilação\n",
        "*   **BatchNormalization** antes da ultima camada Dense\n"
      ]
    },
    {
      "metadata": {
        "colab_type": "code",
        "id": "sIBEdGsyHhJN",
        "colab": {}
      },
      "cell_type": "code",
      "source": [
        "from keras.layers import Conv2D, MaxPooling2D, GlobalMaxPooling2D, BatchNormalization\n",
        "from keras.regularizers import l2\n",
        "from keras.optimizers import Adadelta\n",
        "\n",
        "model = Sequential()\n",
        "\n",
        "model.add(Conv2D(32, (3, 3), activation='relu', kernel_regularizer=l2(1e-4), \n",
        "                 input_shape=(None, None, 3)))\n",
        "model.add(BatchNormalization())\n",
        "model.add(Conv2D(32, (3, 3), activation='relu', kernel_regularizer=l2(1e-4)))\n",
        "model.add(BatchNormalization())\n",
        "model.add(MaxPooling2D((2, 2)))\n",
        "\n",
        "model.add(Conv2D(64, (3, 3), activation='relu', kernel_regularizer=l2(1e-4)))\n",
        "model.add(BatchNormalization())\n",
        "model.add(Conv2D(64, (3, 3), activation='relu', kernel_regularizer=l2(1e-4)))\n",
        "model.add(BatchNormalization())\n",
        "model.add(MaxPooling2D((2, 2)))\n",
        "\n",
        "model.add(Conv2D(128, (1,1), kernel_regularizer=l2(1e-4)))\n",
        "model.add(GlobalMaxPooling2D())\n",
        "\n",
        "model.add(Dense(256, activation='relu', kernel_regularizer=l2(1e-4)))\n",
        "model.add(BatchNormalization())\n",
        "model.add(Dense(2, activation='sigmoid', kernel_regularizer=l2(1e-4)))"
      ],
      "execution_count": 0,
      "outputs": []
    },
    {
      "metadata": {
        "colab_type": "code",
        "id": "P6ZvobfGHhJb",
        "colab": {}
      },
      "cell_type": "code",
      "source": [
        "model.compile(Adadelta(lr=1.0, rho=0.95, epsilon=None, decay=0.0), \n",
        "              loss='binary_crossentropy', metrics=['accuracy'])"
      ],
      "execution_count": 0,
      "outputs": []
    },
    {
      "metadata": {
        "colab_type": "code",
        "id": "ufy24IuYkBYc",
        "colab": {}
      },
      "cell_type": "code",
      "source": [
        "arquiteture = 'architecture_7'"
      ],
      "execution_count": 0,
      "outputs": []
    },
    {
      "metadata": {
        "colab_type": "code",
        "id": "TayAngUFkwJa",
        "colab": {}
      },
      "cell_type": "code",
      "source": [
        "checkpointer = ModelCheckpoint(filepath='drive/My Drive/Resultado/weights_' + arquiteture + '.hdf5', verbose=1, save_best_only=True)"
      ],
      "execution_count": 0,
      "outputs": []
    },
    {
      "metadata": {
        "colab_type": "code",
        "id": "mXDKyOFa4l2t",
        "outputId": "1b172aca-fedd-46ff-fee8-6625371662c9",
        "colab": {
          "base_uri": "https://localhost:8080/",
          "height": 3690
        }
      },
      "cell_type": "code",
      "source": [
        "training = model.fit_generator(train_batches, steps_per_epoch=stepsPerEpoche, \n",
        "                   validation_data=validation_batches, validation_steps=validationSteps,\n",
        "                   epochs=50, verbose=2, callbacks=[checkpointer])"
      ],
      "execution_count": 65,
      "outputs": [
        {
          "output_type": "stream",
          "text": [
            "Epoch 1/50\n",
            " - 4s - loss: 0.5079 - acc: 0.7943 - val_loss: 1.3232 - val_acc: 0.7500\n",
            "\n",
            "Epoch 00001: val_loss improved from inf to 1.32323, saving model to drive/My Drive/Resultado/weights_architecture_7.hdf5\n",
            "Epoch 2/50\n",
            " - 1s - loss: 0.3531 - acc: 0.8854 - val_loss: 0.7122 - val_acc: 0.7344\n",
            "\n",
            "Epoch 00002: val_loss improved from 1.32323 to 0.71218, saving model to drive/My Drive/Resultado/weights_architecture_7.hdf5\n",
            "Epoch 3/50\n",
            " - 1s - loss: 0.4409 - acc: 0.8438 - val_loss: 0.4438 - val_acc: 0.8125\n",
            "\n",
            "Epoch 00003: val_loss improved from 0.71218 to 0.44378, saving model to drive/My Drive/Resultado/weights_architecture_7.hdf5\n",
            "Epoch 4/50\n",
            " - 1s - loss: 0.3344 - acc: 0.8750 - val_loss: 0.4605 - val_acc: 0.8906\n",
            "\n",
            "Epoch 00004: val_loss did not improve from 0.44378\n",
            "Epoch 5/50\n",
            " - 1s - loss: 0.3323 - acc: 0.8854 - val_loss: 0.7504 - val_acc: 0.7422\n",
            "\n",
            "Epoch 00005: val_loss did not improve from 0.44378\n",
            "Epoch 6/50\n",
            " - 1s - loss: 0.4051 - acc: 0.8594 - val_loss: 0.6796 - val_acc: 0.7162\n",
            "\n",
            "Epoch 00006: val_loss did not improve from 0.44378\n",
            "Epoch 7/50\n",
            " - 1s - loss: 0.3751 - acc: 0.8698 - val_loss: 0.6425 - val_acc: 0.7734\n",
            "\n",
            "Epoch 00007: val_loss did not improve from 0.44378\n",
            "Epoch 8/50\n",
            " - 1s - loss: 0.3774 - acc: 0.8698 - val_loss: 0.6147 - val_acc: 0.8047\n",
            "\n",
            "Epoch 00008: val_loss did not improve from 0.44378\n",
            "Epoch 9/50\n",
            " - 1s - loss: 0.3495 - acc: 0.8880 - val_loss: 0.5040 - val_acc: 0.8047\n",
            "\n",
            "Epoch 00009: val_loss did not improve from 0.44378\n",
            "Epoch 10/50\n",
            " - 1s - loss: 0.2798 - acc: 0.9375 - val_loss: 0.3035 - val_acc: 0.9062\n",
            "\n",
            "Epoch 00010: val_loss improved from 0.44378 to 0.30345, saving model to drive/My Drive/Resultado/weights_architecture_7.hdf5\n",
            "Epoch 11/50\n",
            " - 1s - loss: 0.3975 - acc: 0.8776 - val_loss: 0.5246 - val_acc: 0.7500\n",
            "\n",
            "Epoch 00011: val_loss did not improve from 0.30345\n",
            "Epoch 12/50\n",
            " - 1s - loss: 0.3208 - acc: 0.8958 - val_loss: 0.5778 - val_acc: 0.7109\n",
            "\n",
            "Epoch 00012: val_loss did not improve from 0.30345\n",
            "Epoch 13/50\n",
            " - 1s - loss: 0.2698 - acc: 0.9245 - val_loss: 0.6571 - val_acc: 0.8672\n",
            "\n",
            "Epoch 00013: val_loss did not improve from 0.30345\n",
            "Epoch 14/50\n",
            " - 1s - loss: 0.3125 - acc: 0.8880 - val_loss: 0.7259 - val_acc: 0.7734\n",
            "\n",
            "Epoch 00014: val_loss did not improve from 0.30345\n",
            "Epoch 15/50\n",
            " - 1s - loss: 0.3184 - acc: 0.8854 - val_loss: 0.4702 - val_acc: 0.8359\n",
            "\n",
            "Epoch 00015: val_loss did not improve from 0.30345\n",
            "Epoch 16/50\n",
            " - 1s - loss: 0.3058 - acc: 0.9036 - val_loss: 0.4063 - val_acc: 0.8750\n",
            "\n",
            "Epoch 00016: val_loss did not improve from 0.30345\n",
            "Epoch 17/50\n",
            " - 1s - loss: 0.3358 - acc: 0.8828 - val_loss: 0.3947 - val_acc: 0.8438\n",
            "\n",
            "Epoch 00017: val_loss did not improve from 0.30345\n",
            "Epoch 18/50\n",
            " - 1s - loss: 0.3496 - acc: 0.8828 - val_loss: 0.3634 - val_acc: 0.8438\n",
            "\n",
            "Epoch 00018: val_loss did not improve from 0.30345\n",
            "Epoch 19/50\n",
            " - 1s - loss: 0.2939 - acc: 0.9036 - val_loss: 0.4594 - val_acc: 0.8516\n",
            "\n",
            "Epoch 00019: val_loss did not improve from 0.30345\n",
            "Epoch 20/50\n",
            " - 1s - loss: 0.2792 - acc: 0.9036 - val_loss: 0.7436 - val_acc: 0.7656\n",
            "\n",
            "Epoch 00020: val_loss did not improve from 0.30345\n",
            "Epoch 21/50\n",
            " - 1s - loss: 0.2790 - acc: 0.9115 - val_loss: 0.3241 - val_acc: 0.9219\n",
            "\n",
            "Epoch 00021: val_loss did not improve from 0.30345\n",
            "Epoch 22/50\n",
            " - 1s - loss: 0.3380 - acc: 0.8770 - val_loss: 0.4143 - val_acc: 0.8125\n",
            "\n",
            "Epoch 00022: val_loss did not improve from 0.30345\n",
            "Epoch 23/50\n",
            " - 1s - loss: 0.3032 - acc: 0.9115 - val_loss: 1.1429 - val_acc: 0.6875\n",
            "\n",
            "Epoch 00023: val_loss did not improve from 0.30345\n",
            "Epoch 24/50\n",
            " - 1s - loss: 0.2852 - acc: 0.8906 - val_loss: 1.6480 - val_acc: 0.5000\n",
            "\n",
            "Epoch 00024: val_loss did not improve from 0.30345\n",
            "Epoch 25/50\n",
            " - 1s - loss: 0.2352 - acc: 0.9401 - val_loss: 0.4728 - val_acc: 0.9062\n",
            "\n",
            "Epoch 00025: val_loss did not improve from 0.30345\n",
            "Epoch 26/50\n",
            " - 1s - loss: 0.2850 - acc: 0.9062 - val_loss: 0.3693 - val_acc: 0.8516\n",
            "\n",
            "Epoch 00026: val_loss did not improve from 0.30345\n",
            "Epoch 27/50\n",
            " - 1s - loss: 0.2897 - acc: 0.9115 - val_loss: 0.3018 - val_acc: 0.8906\n",
            "\n",
            "Epoch 00027: val_loss improved from 0.30345 to 0.30181, saving model to drive/My Drive/Resultado/weights_architecture_7.hdf5\n",
            "Epoch 28/50\n",
            " - 1s - loss: 0.2271 - acc: 0.9557 - val_loss: 1.1756 - val_acc: 0.6094\n",
            "\n",
            "Epoch 00028: val_loss did not improve from 0.30181\n",
            "Epoch 29/50\n",
            " - 1s - loss: 0.2575 - acc: 0.9115 - val_loss: 0.2416 - val_acc: 0.9219\n",
            "\n",
            "Epoch 00029: val_loss improved from 0.30181 to 0.24164, saving model to drive/My Drive/Resultado/weights_architecture_7.hdf5\n",
            "Epoch 30/50\n",
            " - 1s - loss: 0.2533 - acc: 0.9089 - val_loss: 0.5232 - val_acc: 0.8784\n",
            "\n",
            "Epoch 00030: val_loss did not improve from 0.24164\n",
            "Epoch 31/50\n",
            " - 1s - loss: 0.2618 - acc: 0.9245 - val_loss: 0.4647 - val_acc: 0.8281\n",
            "\n",
            "Epoch 00031: val_loss did not improve from 0.24164\n",
            "Epoch 32/50\n",
            " - 1s - loss: 0.2873 - acc: 0.9036 - val_loss: 0.6247 - val_acc: 0.7969\n",
            "\n",
            "Epoch 00032: val_loss did not improve from 0.24164\n",
            "Epoch 33/50\n",
            " - 1s - loss: 0.2490 - acc: 0.9193 - val_loss: 0.1298 - val_acc: 0.9609\n",
            "\n",
            "Epoch 00033: val_loss improved from 0.24164 to 0.12978, saving model to drive/My Drive/Resultado/weights_architecture_7.hdf5\n",
            "Epoch 34/50\n",
            " - 1s - loss: 0.2718 - acc: 0.9323 - val_loss: 0.6157 - val_acc: 0.7891\n",
            "\n",
            "Epoch 00034: val_loss did not improve from 0.12978\n",
            "Epoch 35/50\n",
            " - 1s - loss: 0.3364 - acc: 0.8750 - val_loss: 0.2969 - val_acc: 0.9062\n",
            "\n",
            "Epoch 00035: val_loss did not improve from 0.12978\n",
            "Epoch 36/50\n",
            " - 1s - loss: 0.2381 - acc: 0.9297 - val_loss: 0.4293 - val_acc: 0.8047\n",
            "\n",
            "Epoch 00036: val_loss did not improve from 0.12978\n",
            "Epoch 37/50\n",
            " - 1s - loss: 0.2520 - acc: 0.9219 - val_loss: 0.3188 - val_acc: 0.9141\n",
            "\n",
            "Epoch 00037: val_loss did not improve from 0.12978\n",
            "Epoch 38/50\n",
            " - 1s - loss: 0.2366 - acc: 0.9375 - val_loss: 1.0885 - val_acc: 0.6250\n",
            "\n",
            "Epoch 00038: val_loss did not improve from 0.12978\n",
            "Epoch 39/50\n",
            " - 1s - loss: 0.2327 - acc: 0.9323 - val_loss: 0.2327 - val_acc: 0.9453\n",
            "\n",
            "Epoch 00039: val_loss did not improve from 0.12978\n",
            "Epoch 40/50\n",
            " - 1s - loss: 0.2866 - acc: 0.9036 - val_loss: 0.4465 - val_acc: 0.8516\n",
            "\n",
            "Epoch 00040: val_loss did not improve from 0.12978\n",
            "Epoch 41/50\n",
            " - 1s - loss: 0.2838 - acc: 0.9036 - val_loss: 0.4692 - val_acc: 0.8516\n",
            "\n",
            "Epoch 00041: val_loss did not improve from 0.12978\n",
            "Epoch 42/50\n",
            " - 1s - loss: 0.2926 - acc: 0.9010 - val_loss: 1.9858 - val_acc: 0.6172\n",
            "\n",
            "Epoch 00042: val_loss did not improve from 0.12978\n",
            "Epoch 43/50\n",
            " - 1s - loss: 0.2906 - acc: 0.9141 - val_loss: 1.9851 - val_acc: 0.5781\n",
            "\n",
            "Epoch 00043: val_loss did not improve from 0.12978\n",
            "Epoch 44/50\n",
            " - 1s - loss: 0.2271 - acc: 0.9349 - val_loss: 0.4920 - val_acc: 0.8594\n",
            "\n",
            "Epoch 00044: val_loss did not improve from 0.12978\n",
            "Epoch 45/50\n",
            " - 1s - loss: 0.2547 - acc: 0.9089 - val_loss: 0.3250 - val_acc: 0.8672\n",
            "\n",
            "Epoch 00045: val_loss did not improve from 0.12978\n",
            "Epoch 46/50\n",
            " - 1s - loss: 0.2265 - acc: 0.9531 - val_loss: 0.6472 - val_acc: 0.7422\n",
            "\n",
            "Epoch 00046: val_loss did not improve from 0.12978\n",
            "Epoch 47/50\n",
            " - 1s - loss: 0.2656 - acc: 0.9297 - val_loss: 0.3712 - val_acc: 0.8438\n",
            "\n",
            "Epoch 00047: val_loss did not improve from 0.12978\n",
            "Epoch 48/50\n",
            " - 1s - loss: 0.2509 - acc: 0.9219 - val_loss: 0.2645 - val_acc: 0.9453\n",
            "\n",
            "Epoch 00048: val_loss did not improve from 0.12978\n",
            "Epoch 49/50\n",
            " - 1s - loss: 0.2419 - acc: 0.9297 - val_loss: 0.3686 - val_acc: 0.8672\n",
            "\n",
            "Epoch 00049: val_loss did not improve from 0.12978\n",
            "Epoch 50/50\n",
            " - 1s - loss: 0.2280 - acc: 0.9323 - val_loss: 0.4126 - val_acc: 0.8359\n",
            "\n",
            "Epoch 00050: val_loss did not improve from 0.12978\n"
          ],
          "name": "stdout"
        }
      ]
    },
    {
      "metadata": {
        "colab_type": "code",
        "id": "g3H7fijRkBYt",
        "outputId": "6d5cd270-cd87-4399-a72c-db894a434552",
        "colab": {
          "base_uri": "https://localhost:8080/",
          "height": 380
        }
      },
      "cell_type": "code",
      "source": [
        "# plotar loss e accuracy para os datasets 'train' e 'test'\n",
        "plt.style.use(\"ggplot\")\n",
        "plt.figure()\n",
        "plt.plot(training.history['acc'], label='Accuracy')\n",
        "plt.plot(training.history['loss'], label='Loss')\n",
        "plt.xlabel('Epochs')\n",
        "plt.ylabel('Accuracy')\n",
        "plt.title(\"Training Loss and Accuracy\")\n",
        "plt.ylabel(\"Loss/Accuracy\")\n",
        "plt.legend()\n",
        "plt.savefig('drive/My Drive/Resultado/' + arquiteture + '.png', bbox_inches='tight')"
      ],
      "execution_count": 66,
      "outputs": [
        {
          "output_type": "display_data",
          "data": {
            "image/png": "[encoded data removed]",
            "text/plain": [
              "<matplotlib.figure.Figure at 0x7fd1f75854e0>"
            ]
          },
          "metadata": {
            "tags": []
          }
        }
      ]
    },
    {
      "metadata": {
        "colab_type": "code",
        "id": "AXYT6WUakBY3",
        "outputId": "fabaa0e0-f7f0-4b24-d7f9-14802b883a95",
        "colab": {
          "base_uri": "https://localhost:8080/",
          "height": 54
        }
      },
      "cell_type": "code",
      "source": [
        "y_true, y_predict = ler_images_teste(arquiteture)"
      ],
      "execution_count": 67,
      "outputs": [
        {
          "output_type": "stream",
          "text": [
            "/usr/local/lib/python3.6/dist-packages/skimage/transform/_warps.py:84: UserWarning: The default mode, 'constant', will be changed to 'reflect' in skimage 0.15.\n",
            "  warn(\"The default mode, 'constant', will be changed to 'reflect' in \"\n"
          ],
          "name": "stderr"
        }
      ]
    },
    {
      "metadata": {
        "colab_type": "code",
        "id": "zKvHFps_kBZA",
        "outputId": "ad9841c8-373a-44af-c0e4-d5998aecf8eb",
        "colab": {
          "base_uri": "https://localhost:8080/",
          "height": 35
        }
      },
      "cell_type": "code",
      "source": [
        "results[arquiteture] = accuracy_score(y_true, y_predict)\n",
        "print('Test Accuracy: {:.2f}%'.format(100 * results[arquiteture]))"
      ],
      "execution_count": 68,
      "outputs": [
        {
          "output_type": "stream",
          "text": [
            "Test Accuracy: 80.36%\n"
          ],
          "name": "stdout"
        }
      ]
    },
    {
      "metadata": {
        "id": "xBqqHjZrnDFP",
        "colab_type": "text"
      },
      "cell_type": "markdown",
      "source": [
        "### 8 tentativa Accuracy: 79.66% "
      ]
    },
    {
      "metadata": {
        "colab_type": "text",
        "id": "3Qg1zWbo5W6V"
      },
      "cell_type": "markdown",
      "source": [
        "Modelo adaptado do **Lucas Albertins**\n",
        "\n",
        "*   Função **Adadelta** para compilação\n"
      ]
    },
    {
      "metadata": {
        "colab_type": "code",
        "id": "MvjKH9LWpGsi",
        "colab": {}
      },
      "cell_type": "code",
      "source": [
        "from keras.layers import Conv2D, MaxPooling2D, GlobalMaxPooling2D, BatchNormalization\n",
        "from keras.regularizers import l2\n",
        "from keras.optimizers import Adadelta\n",
        "\n",
        "model = Sequential()\n",
        "\n",
        "model.add(Conv2D(32, (3, 3), activation='relu', kernel_regularizer=l2(1e-4), \n",
        "                 input_shape=(None, None, 3)))\n",
        "model.add(BatchNormalization())\n",
        "model.add(Conv2D(32, (3, 3), activation='relu', kernel_regularizer=l2(1e-4)))\n",
        "model.add(BatchNormalization())\n",
        "model.add(MaxPooling2D((2, 2)))\n",
        "model.add(Dropout(0.25))\n",
        "\n",
        "model.add(Conv2D(64, (3, 3), activation='relu', kernel_regularizer=l2(1e-4)))\n",
        "model.add(BatchNormalization())\n",
        "model.add(Conv2D(64, (3, 3), activation='relu', kernel_regularizer=l2(1e-4)))\n",
        "model.add(BatchNormalization())\n",
        "model.add(MaxPooling2D((2, 2)))\n",
        "model.add(Dropout(0.25))\n",
        "\n",
        "model.add(Conv2D(128, (1,1), kernel_regularizer=l2(1e-4)))\n",
        "model.add(GlobalMaxPooling2D())\n",
        "\n",
        "model.add(Dense(256, activation='relu', kernel_regularizer=l2(1e-4)))\n",
        "model.add(Dropout(0.5))\n",
        "model.add(Dense(2, activation='sigmoid', kernel_regularizer=l2(1e-4)))"
      ],
      "execution_count": 0,
      "outputs": []
    },
    {
      "metadata": {
        "colab_type": "code",
        "id": "civjmdynpGsy",
        "colab": {}
      },
      "cell_type": "code",
      "source": [
        "model.compile(Adadelta(lr=1.0, rho=0.95, epsilon=None, decay=0.0), \n",
        "              loss='binary_crossentropy', metrics=['accuracy'])"
      ],
      "execution_count": 0,
      "outputs": []
    },
    {
      "metadata": {
        "colab_type": "code",
        "id": "lmwfJa_fkEKz",
        "colab": {}
      },
      "cell_type": "code",
      "source": [
        "arquiteture = 'architecture_8'"
      ],
      "execution_count": 0,
      "outputs": []
    },
    {
      "metadata": {
        "colab_type": "code",
        "id": "cl6Lxs-6ktsK",
        "colab": {}
      },
      "cell_type": "code",
      "source": [
        "checkpointer = ModelCheckpoint(filepath='drive/My Drive/Resultado/weights_' + arquiteture + '.hdf5', verbose=1, save_best_only=True)"
      ],
      "execution_count": 0,
      "outputs": []
    },
    {
      "metadata": {
        "colab_type": "code",
        "id": "w7LbZJly5iOF",
        "outputId": "eaae9fa9-9331-4ec8-9c42-280f7a151701",
        "colab": {
          "base_uri": "https://localhost:8080/",
          "height": 3690
        }
      },
      "cell_type": "code",
      "source": [
        "training = model.fit_generator(train_batches, steps_per_epoch=stepsPerEpoche, \n",
        "                   validation_data=validation_batches, validation_steps=validationSteps,\n",
        "                   epochs=50, verbose=2, callbacks=[checkpointer])"
      ],
      "execution_count": 73,
      "outputs": [
        {
          "output_type": "stream",
          "text": [
            "Epoch 1/50\n",
            " - 4s - loss: 2.3035 - acc: 0.5562 - val_loss: 1.0998 - val_acc: 0.5469\n",
            "\n",
            "Epoch 00001: val_loss improved from inf to 1.09977, saving model to drive/My Drive/Resultado/weights_architecture_8.hdf5\n",
            "Epoch 2/50\n",
            " - 1s - loss: 1.2170 - acc: 0.6641 - val_loss: 0.7758 - val_acc: 0.5703\n",
            "\n",
            "Epoch 00002: val_loss improved from 1.09977 to 0.77582, saving model to drive/My Drive/Resultado/weights_architecture_8.hdf5\n",
            "Epoch 3/50\n",
            " - 1s - loss: 1.0140 - acc: 0.6250 - val_loss: 0.5433 - val_acc: 0.7656\n",
            "\n",
            "Epoch 00003: val_loss improved from 0.77582 to 0.54325, saving model to drive/My Drive/Resultado/weights_architecture_8.hdf5\n",
            "Epoch 4/50\n",
            " - 1s - loss: 0.7493 - acc: 0.6875 - val_loss: 0.7679 - val_acc: 0.5859\n",
            "\n",
            "Epoch 00004: val_loss did not improve from 0.54325\n",
            "Epoch 5/50\n",
            " - 1s - loss: 0.5868 - acc: 0.7578 - val_loss: 0.5201 - val_acc: 0.7578\n",
            "\n",
            "Epoch 00005: val_loss improved from 0.54325 to 0.52011, saving model to drive/My Drive/Resultado/weights_architecture_8.hdf5\n",
            "Epoch 6/50\n",
            " - 1s - loss: 0.9975 - acc: 0.6146 - val_loss: 0.5446 - val_acc: 0.8047\n",
            "\n",
            "Epoch 00006: val_loss did not improve from 0.52011\n",
            "Epoch 7/50\n",
            " - 1s - loss: 0.5813 - acc: 0.7578 - val_loss: 0.4915 - val_acc: 0.8125\n",
            "\n",
            "Epoch 00007: val_loss improved from 0.52011 to 0.49151, saving model to drive/My Drive/Resultado/weights_architecture_8.hdf5\n",
            "Epoch 8/50\n",
            " - 1s - loss: 0.4754 - acc: 0.8021 - val_loss: 0.4246 - val_acc: 0.8359\n",
            "\n",
            "Epoch 00008: val_loss improved from 0.49151 to 0.42458, saving model to drive/My Drive/Resultado/weights_architecture_8.hdf5\n",
            "Epoch 9/50\n",
            " - 1s - loss: 0.4611 - acc: 0.7995 - val_loss: 0.4191 - val_acc: 0.8906\n",
            "\n",
            "Epoch 00009: val_loss improved from 0.42458 to 0.41914, saving model to drive/My Drive/Resultado/weights_architecture_8.hdf5\n",
            "Epoch 10/50\n",
            " - 1s - loss: 0.4886 - acc: 0.8021 - val_loss: 0.4160 - val_acc: 0.8594\n",
            "\n",
            "Epoch 00010: val_loss improved from 0.41914 to 0.41597, saving model to drive/My Drive/Resultado/weights_architecture_8.hdf5\n",
            "Epoch 11/50\n",
            " - 1s - loss: 0.5587 - acc: 0.7526 - val_loss: 0.6135 - val_acc: 0.6719\n",
            "\n",
            "Epoch 00011: val_loss did not improve from 0.41597\n",
            "Epoch 12/50\n",
            " - 1s - loss: 0.5319 - acc: 0.7474 - val_loss: 0.3925 - val_acc: 0.9062\n",
            "\n",
            "Epoch 00012: val_loss improved from 0.41597 to 0.39249, saving model to drive/My Drive/Resultado/weights_architecture_8.hdf5\n",
            "Epoch 13/50\n",
            " - 1s - loss: 0.4486 - acc: 0.8281 - val_loss: 0.3939 - val_acc: 0.8750\n",
            "\n",
            "Epoch 00013: val_loss did not improve from 0.39249\n",
            "Epoch 14/50\n",
            " - 1s - loss: 0.4789 - acc: 0.8099 - val_loss: 0.4677 - val_acc: 0.8281\n",
            "\n",
            "Epoch 00014: val_loss did not improve from 0.39249\n",
            "Epoch 15/50\n",
            " - 1s - loss: 0.3853 - acc: 0.8542 - val_loss: 0.5651 - val_acc: 0.7500\n",
            "\n",
            "Epoch 00015: val_loss did not improve from 0.39249\n",
            "Epoch 16/50\n",
            " - 1s - loss: 0.5357 - acc: 0.7839 - val_loss: 0.5139 - val_acc: 0.8203\n",
            "\n",
            "Epoch 00016: val_loss did not improve from 0.39249\n",
            "Epoch 17/50\n",
            " - 1s - loss: 0.4086 - acc: 0.8698 - val_loss: 0.4586 - val_acc: 0.8125\n",
            "\n",
            "Epoch 00017: val_loss did not improve from 0.39249\n",
            "Epoch 18/50\n",
            " - 1s - loss: 0.4181 - acc: 0.8307 - val_loss: 0.4289 - val_acc: 0.8203\n",
            "\n",
            "Epoch 00018: val_loss did not improve from 0.39249\n",
            "Epoch 19/50\n",
            " - 1s - loss: 0.3335 - acc: 0.8646 - val_loss: 0.5825 - val_acc: 0.7734\n",
            "\n",
            "Epoch 00019: val_loss did not improve from 0.39249\n",
            "Epoch 20/50\n",
            " - 1s - loss: 0.3213 - acc: 0.9115 - val_loss: 0.8970 - val_acc: 0.5625\n",
            "\n",
            "Epoch 00020: val_loss did not improve from 0.39249\n",
            "Epoch 21/50\n",
            " - 1s - loss: 0.5145 - acc: 0.7943 - val_loss: 0.5863 - val_acc: 0.7578\n",
            "\n",
            "Epoch 00021: val_loss did not improve from 0.39249\n",
            "Epoch 22/50\n",
            " - 1s - loss: 0.4211 - acc: 0.8151 - val_loss: 0.4859 - val_acc: 0.8203\n",
            "\n",
            "Epoch 00022: val_loss did not improve from 0.39249\n",
            "Epoch 23/50\n",
            " - 1s - loss: 0.3657 - acc: 0.8411 - val_loss: 0.4377 - val_acc: 0.8108\n",
            "\n",
            "Epoch 00023: val_loss did not improve from 0.39249\n",
            "Epoch 24/50\n",
            " - 1s - loss: 0.4928 - acc: 0.7760 - val_loss: 0.3811 - val_acc: 0.9062\n",
            "\n",
            "Epoch 00024: val_loss improved from 0.39249 to 0.38114, saving model to drive/My Drive/Resultado/weights_architecture_8.hdf5\n",
            "Epoch 25/50\n",
            " - 1s - loss: 0.4671 - acc: 0.7917 - val_loss: 0.4005 - val_acc: 0.8750\n",
            "\n",
            "Epoch 00025: val_loss did not improve from 0.38114\n",
            "Epoch 26/50\n",
            " - 1s - loss: 0.4028 - acc: 0.8724 - val_loss: 0.4344 - val_acc: 0.8594\n",
            "\n",
            "Epoch 00026: val_loss did not improve from 0.38114\n",
            "Epoch 27/50\n",
            " - 1s - loss: 0.3836 - acc: 0.8828 - val_loss: 0.4120 - val_acc: 0.8359\n",
            "\n",
            "Epoch 00027: val_loss did not improve from 0.38114\n",
            "Epoch 28/50\n",
            " - 1s - loss: 0.4713 - acc: 0.7969 - val_loss: 0.3729 - val_acc: 0.9297\n",
            "\n",
            "Epoch 00028: val_loss improved from 0.38114 to 0.37290, saving model to drive/My Drive/Resultado/weights_architecture_8.hdf5\n",
            "Epoch 29/50\n",
            " - 1s - loss: 0.3829 - acc: 0.8594 - val_loss: 0.4971 - val_acc: 0.8047\n",
            "\n",
            "Epoch 00029: val_loss did not improve from 0.37290\n",
            "Epoch 30/50\n",
            " - 1s - loss: 0.3637 - acc: 0.8698 - val_loss: 0.3509 - val_acc: 0.8516\n",
            "\n",
            "Epoch 00030: val_loss improved from 0.37290 to 0.35089, saving model to drive/My Drive/Resultado/weights_architecture_8.hdf5\n",
            "Epoch 31/50\n",
            " - 1s - loss: 0.4834 - acc: 0.7878 - val_loss: 0.4151 - val_acc: 0.8828\n",
            "\n",
            "Epoch 00031: val_loss did not improve from 0.35089\n",
            "Epoch 32/50\n",
            " - 1s - loss: 0.3804 - acc: 0.8620 - val_loss: 0.3882 - val_acc: 0.8438\n",
            "\n",
            "Epoch 00032: val_loss did not improve from 0.35089\n",
            "Epoch 33/50\n",
            " - 1s - loss: 0.2823 - acc: 0.8984 - val_loss: 0.5826 - val_acc: 0.7500\n",
            "\n",
            "Epoch 00033: val_loss did not improve from 0.35089\n",
            "Epoch 34/50\n",
            " - 1s - loss: 0.3806 - acc: 0.8802 - val_loss: 0.4366 - val_acc: 0.7891\n",
            "\n",
            "Epoch 00034: val_loss did not improve from 0.35089\n",
            "Epoch 35/50\n",
            " - 1s - loss: 0.3551 - acc: 0.8750 - val_loss: 0.3047 - val_acc: 0.8906\n",
            "\n",
            "Epoch 00035: val_loss improved from 0.35089 to 0.30469, saving model to drive/My Drive/Resultado/weights_architecture_8.hdf5\n",
            "Epoch 36/50\n",
            " - 1s - loss: 0.4535 - acc: 0.8151 - val_loss: 0.3045 - val_acc: 0.9141\n",
            "\n",
            "Epoch 00036: val_loss improved from 0.30469 to 0.30454, saving model to drive/My Drive/Resultado/weights_architecture_8.hdf5\n",
            "Epoch 37/50\n",
            " - 1s - loss: 0.3915 - acc: 0.8568 - val_loss: 0.4793 - val_acc: 0.7188\n",
            "\n",
            "Epoch 00037: val_loss did not improve from 0.30454\n",
            "Epoch 38/50\n",
            " - 1s - loss: 0.3865 - acc: 0.8672 - val_loss: 0.3164 - val_acc: 0.9375\n",
            "\n",
            "Epoch 00038: val_loss did not improve from 0.30454\n",
            "Epoch 39/50\n",
            " - 1s - loss: 0.3889 - acc: 0.8776 - val_loss: 0.4663 - val_acc: 0.8359\n",
            "\n",
            "Epoch 00039: val_loss did not improve from 0.30454\n",
            "Epoch 40/50\n",
            " - 1s - loss: 0.4618 - acc: 0.8125 - val_loss: 0.6776 - val_acc: 0.6562\n",
            "\n",
            "Epoch 00040: val_loss did not improve from 0.30454\n",
            "Epoch 41/50\n",
            " - 1s - loss: 0.2923 - acc: 0.8906 - val_loss: 0.2830 - val_acc: 0.9141\n",
            "\n",
            "Epoch 00041: val_loss improved from 0.30454 to 0.28299, saving model to drive/My Drive/Resultado/weights_architecture_8.hdf5\n",
            "Epoch 42/50\n",
            " - 1s - loss: 0.3023 - acc: 0.9089 - val_loss: 0.3301 - val_acc: 0.8828\n",
            "\n",
            "Epoch 00042: val_loss did not improve from 0.28299\n",
            "Epoch 43/50\n",
            " - 1s - loss: 0.3668 - acc: 0.8698 - val_loss: 0.4101 - val_acc: 0.8281\n",
            "\n",
            "Epoch 00043: val_loss did not improve from 0.28299\n",
            "Epoch 44/50\n",
            " - 1s - loss: 0.3863 - acc: 0.8594 - val_loss: 0.4579 - val_acc: 0.7812\n",
            "\n",
            "Epoch 00044: val_loss did not improve from 0.28299\n",
            "Epoch 45/50\n",
            " - 1s - loss: 0.3934 - acc: 0.8490 - val_loss: 0.3716 - val_acc: 0.8594\n",
            "\n",
            "Epoch 00045: val_loss did not improve from 0.28299\n",
            "Epoch 46/50\n",
            " - 1s - loss: 0.3820 - acc: 0.8698 - val_loss: 0.5016 - val_acc: 0.7969\n",
            "\n",
            "Epoch 00046: val_loss did not improve from 0.28299\n",
            "Epoch 47/50\n",
            " - 1s - loss: 0.2877 - acc: 0.9141 - val_loss: 0.8934 - val_acc: 0.6081\n",
            "\n",
            "Epoch 00047: val_loss did not improve from 0.28299\n",
            "Epoch 48/50\n",
            " - 1s - loss: 0.2808 - acc: 0.9167 - val_loss: 0.3843 - val_acc: 0.8750\n",
            "\n",
            "Epoch 00048: val_loss did not improve from 0.28299\n",
            "Epoch 49/50\n",
            " - 1s - loss: 0.3557 - acc: 0.8854 - val_loss: 0.3093 - val_acc: 0.9219\n",
            "\n",
            "Epoch 00049: val_loss did not improve from 0.28299\n",
            "Epoch 50/50\n",
            " - 1s - loss: 0.4057 - acc: 0.8568 - val_loss: 0.3092 - val_acc: 0.8984\n",
            "\n",
            "Epoch 00050: val_loss did not improve from 0.28299\n"
          ],
          "name": "stdout"
        }
      ]
    },
    {
      "metadata": {
        "colab_type": "code",
        "id": "8zBVma0TkELH",
        "outputId": "6e8783ea-7cbf-4803-f59e-46d01b19e973",
        "colab": {
          "base_uri": "https://localhost:8080/",
          "height": 380
        }
      },
      "cell_type": "code",
      "source": [
        "# plotar loss e accuracy para os datasets 'train' e 'test'\n",
        "plt.style.use(\"ggplot\")\n",
        "plt.figure()\n",
        "plt.plot(training.history['acc'], label='Accuracy')\n",
        "plt.plot(training.history['loss'], label='Loss')\n",
        "plt.xlabel('Epochs')\n",
        "plt.ylabel('Accuracy')\n",
        "plt.title(\"Training Loss and Accuracy\")\n",
        "plt.ylabel(\"Loss/Accuracy\")\n",
        "plt.legend()\n",
        "plt.savefig('drive/My Drive/Resultado/' + arquiteture + '.png', bbox_inches='tight')"
      ],
      "execution_count": 74,
      "outputs": [
        {
          "output_type": "display_data",
          "data": {
            "image/png": "[encoded data removed]",
            "text/plain": [
              "<matplotlib.figure.Figure at 0x7fd1f359ec18>"
            ]
          },
          "metadata": {
            "tags": []
          }
        }
      ]
    },
    {
      "metadata": {
        "colab_type": "code",
        "id": "5B4aLvCvkELT",
        "outputId": "bb4e35e9-b3a1-4d9d-ccb6-13f87c5a7322",
        "colab": {
          "base_uri": "https://localhost:8080/",
          "height": 54
        }
      },
      "cell_type": "code",
      "source": [
        "y_true, y_predict = ler_images_teste(arquiteture)"
      ],
      "execution_count": 75,
      "outputs": [
        {
          "output_type": "stream",
          "text": [
            "/usr/local/lib/python3.6/dist-packages/skimage/transform/_warps.py:84: UserWarning: The default mode, 'constant', will be changed to 'reflect' in skimage 0.15.\n",
            "  warn(\"The default mode, 'constant', will be changed to 'reflect' in \"\n"
          ],
          "name": "stderr"
        }
      ]
    },
    {
      "metadata": {
        "colab_type": "code",
        "id": "8qEpN64tkELc",
        "outputId": "e6ee2174-2919-4ca1-f2d6-697f16cb24cb",
        "colab": {
          "base_uri": "https://localhost:8080/",
          "height": 35
        }
      },
      "cell_type": "code",
      "source": [
        "results[arquiteture] = accuracy_score(y_true, y_predict)\n",
        "print('Test Accuracy: {:.2f}%'.format(100 * results[arquiteture]))"
      ],
      "execution_count": 76,
      "outputs": [
        {
          "output_type": "stream",
          "text": [
            "Test Accuracy: 79.66%\n"
          ],
          "name": "stdout"
        }
      ]
    },
    {
      "metadata": {
        "id": "csBCokNgxgbn",
        "colab_type": "text"
      },
      "cell_type": "markdown",
      "source": [
        "### 9 tentativa Accuracy: 80.15%"
      ]
    },
    {
      "metadata": {
        "colab_type": "text",
        "id": "qLtNH8xk63El"
      },
      "cell_type": "markdown",
      "source": [
        "Modelo adaptado do **Lucas Albertins**\n",
        "\n",
        "*   Função **SGD** para compilação\n"
      ]
    },
    {
      "metadata": {
        "colab_type": "code",
        "id": "EJjS6pK1xj1f",
        "colab": {}
      },
      "cell_type": "code",
      "source": [
        "from keras.layers import Conv2D, MaxPooling2D, GlobalMaxPooling2D, BatchNormalization\n",
        "from keras.regularizers import l2\n",
        "\n",
        "model = Sequential()\n",
        "\n",
        "model.add(Conv2D(32, (3, 3), activation='relu', kernel_regularizer=l2(1e-4), \n",
        "                 input_shape=(None, None, 3)))\n",
        "model.add(BatchNormalization())\n",
        "model.add(Conv2D(32, (3, 3), activation='relu', kernel_regularizer=l2(1e-4)))\n",
        "model.add(BatchNormalization())\n",
        "model.add(MaxPooling2D((2, 2)))\n",
        "model.add(Dropout(0.25))\n",
        "\n",
        "model.add(Conv2D(64, (3, 3), activation='relu', kernel_regularizer=l2(1e-4)))\n",
        "model.add(BatchNormalization())\n",
        "model.add(Conv2D(64, (3, 3), activation='relu', kernel_regularizer=l2(1e-4)))\n",
        "model.add(BatchNormalization())\n",
        "model.add(MaxPooling2D((2, 2)))\n",
        "model.add(Dropout(0.25))\n",
        "\n",
        "model.add(Conv2D(128, (1,1), kernel_regularizer=l2(1e-4)))\n",
        "model.add(GlobalMaxPooling2D())\n",
        "\n",
        "model.add(Dense(256, activation='relu', kernel_regularizer=l2(1e-4)))\n",
        "model.add(Dropout(0.5))\n",
        "model.add(Dense(2, activation='sigmoid', kernel_regularizer=l2(1e-4)))"
      ],
      "execution_count": 0,
      "outputs": []
    },
    {
      "metadata": {
        "colab_type": "code",
        "id": "9ezdguEZxsWT",
        "colab": {}
      },
      "cell_type": "code",
      "source": [
        "model.compile(SGD(lr=0.03, momentum=0.0, decay=0.0, nesterov=False), \n",
        "              loss='binary_crossentropy', metrics=['accuracy'])"
      ],
      "execution_count": 0,
      "outputs": []
    },
    {
      "metadata": {
        "colab_type": "code",
        "id": "474-g6XskHLD",
        "colab": {}
      },
      "cell_type": "code",
      "source": [
        "arquiteture = 'architecture_9'"
      ],
      "execution_count": 0,
      "outputs": []
    },
    {
      "metadata": {
        "colab_type": "code",
        "id": "L_3cTA3AkqpU",
        "colab": {}
      },
      "cell_type": "code",
      "source": [
        "checkpointer = ModelCheckpoint(filepath='drive/My Drive/Resultado/weights_' + arquiteture + '.hdf5', verbose=1, save_best_only=True)"
      ],
      "execution_count": 0,
      "outputs": []
    },
    {
      "metadata": {
        "colab_type": "code",
        "id": "6jYgi71R6XO2",
        "outputId": "fa52976e-1235-4bd8-998c-609f59a58b5e",
        "colab": {
          "base_uri": "https://localhost:8080/",
          "height": 3690
        }
      },
      "cell_type": "code",
      "source": [
        "training = model.fit_generator(train_batches, steps_per_epoch=stepsPerEpoche, \n",
        "                   validation_data=validation_batches, validation_steps=validationSteps,\n",
        "                   epochs=50, verbose=2, callbacks=[checkpointer])"
      ],
      "execution_count": 81,
      "outputs": [
        {
          "output_type": "stream",
          "text": [
            "Epoch 1/50\n",
            " - 4s - loss: 4.7223 - acc: 0.5625 - val_loss: 5.7919 - val_acc: 0.5469\n",
            "\n",
            "Epoch 00001: val_loss improved from inf to 5.79185, saving model to drive/My Drive/Resultado/weights_architecture_9.hdf5\n",
            "Epoch 2/50\n",
            " - 1s - loss: 3.4873 - acc: 0.5807 - val_loss: 1.2979 - val_acc: 0.5469\n",
            "\n",
            "Epoch 00002: val_loss improved from 5.79185 to 1.29794, saving model to drive/My Drive/Resultado/weights_architecture_9.hdf5\n",
            "Epoch 3/50\n",
            " - 1s - loss: 0.9184 - acc: 0.5938 - val_loss: 0.6583 - val_acc: 0.6875\n",
            "\n",
            "Epoch 00003: val_loss improved from 1.29794 to 0.65830, saving model to drive/My Drive/Resultado/weights_architecture_9.hdf5\n",
            "Epoch 4/50\n",
            " - 1s - loss: 0.7309 - acc: 0.5885 - val_loss: 0.6920 - val_acc: 0.5781\n",
            "\n",
            "Epoch 00004: val_loss did not improve from 0.65830\n",
            "Epoch 5/50\n",
            " - 1s - loss: 0.8004 - acc: 0.5417 - val_loss: 0.6574 - val_acc: 0.7812\n",
            "\n",
            "Epoch 00005: val_loss improved from 0.65830 to 0.65741, saving model to drive/My Drive/Resultado/weights_architecture_9.hdf5\n",
            "Epoch 6/50\n",
            " - 1s - loss: 0.6385 - acc: 0.6719 - val_loss: 0.6291 - val_acc: 0.7031\n",
            "\n",
            "Epoch 00006: val_loss improved from 0.65741 to 0.62913, saving model to drive/My Drive/Resultado/weights_architecture_9.hdf5\n",
            "Epoch 7/50\n",
            " - 1s - loss: 0.5719 - acc: 0.7005 - val_loss: 0.6000 - val_acc: 0.7969\n",
            "\n",
            "Epoch 00007: val_loss improved from 0.62913 to 0.59996, saving model to drive/My Drive/Resultado/weights_architecture_9.hdf5\n",
            "Epoch 8/50\n",
            " - 1s - loss: 0.5394 - acc: 0.7370 - val_loss: 0.5281 - val_acc: 0.8438\n",
            "\n",
            "Epoch 00008: val_loss improved from 0.59996 to 0.52809, saving model to drive/My Drive/Resultado/weights_architecture_9.hdf5\n",
            "Epoch 9/50\n",
            " - 1s - loss: 0.5974 - acc: 0.7266 - val_loss: 0.6212 - val_acc: 0.7031\n",
            "\n",
            "Epoch 00009: val_loss did not improve from 0.52809\n",
            "Epoch 10/50\n",
            " - 1s - loss: 0.4786 - acc: 0.8207 - val_loss: 0.5145 - val_acc: 0.8594\n",
            "\n",
            "Epoch 00010: val_loss improved from 0.52809 to 0.51454, saving model to drive/My Drive/Resultado/weights_architecture_9.hdf5\n",
            "Epoch 11/50\n",
            " - 1s - loss: 0.5476 - acc: 0.7500 - val_loss: 0.5841 - val_acc: 0.7266\n",
            "\n",
            "Epoch 00011: val_loss did not improve from 0.51454\n",
            "Epoch 12/50\n",
            " - 1s - loss: 0.5275 - acc: 0.7604 - val_loss: 0.5027 - val_acc: 0.8672\n",
            "\n",
            "Epoch 00012: val_loss improved from 0.51454 to 0.50266, saving model to drive/My Drive/Resultado/weights_architecture_9.hdf5\n",
            "Epoch 13/50\n",
            " - 1s - loss: 0.5826 - acc: 0.7422 - val_loss: 0.5158 - val_acc: 0.8438\n",
            "\n",
            "Epoch 00013: val_loss did not improve from 0.50266\n",
            "Epoch 14/50\n",
            " - 1s - loss: 0.3964 - acc: 0.8359 - val_loss: 0.4833 - val_acc: 0.8516\n",
            "\n",
            "Epoch 00014: val_loss improved from 0.50266 to 0.48334, saving model to drive/My Drive/Resultado/weights_architecture_9.hdf5\n",
            "Epoch 15/50\n",
            " - 1s - loss: 0.5239 - acc: 0.7708 - val_loss: 0.6370 - val_acc: 0.7031\n",
            "\n",
            "Epoch 00015: val_loss did not improve from 0.48334\n",
            "Epoch 16/50\n",
            " - 1s - loss: 0.4609 - acc: 0.8021 - val_loss: 0.7043 - val_acc: 0.7297\n",
            "\n",
            "Epoch 00016: val_loss did not improve from 0.48334\n",
            "Epoch 17/50\n",
            " - 1s - loss: 0.4331 - acc: 0.8151 - val_loss: 0.5335 - val_acc: 0.8281\n",
            "\n",
            "Epoch 00017: val_loss did not improve from 0.48334\n",
            "Epoch 18/50\n",
            " - 1s - loss: 0.3904 - acc: 0.8594 - val_loss: 0.4906 - val_acc: 0.8359\n",
            "\n",
            "Epoch 00018: val_loss did not improve from 0.48334\n",
            "Epoch 19/50\n",
            " - 1s - loss: 0.4354 - acc: 0.8229 - val_loss: 0.6455 - val_acc: 0.6719\n",
            "\n",
            "Epoch 00019: val_loss did not improve from 0.48334\n",
            "Epoch 20/50\n",
            " - 1s - loss: 0.4665 - acc: 0.8047 - val_loss: 0.6447 - val_acc: 0.6875\n",
            "\n",
            "Epoch 00020: val_loss did not improve from 0.48334\n",
            "Epoch 21/50\n",
            " - 1s - loss: 0.4079 - acc: 0.8281 - val_loss: 0.5731 - val_acc: 0.7422\n",
            "\n",
            "Epoch 00021: val_loss did not improve from 0.48334\n",
            "Epoch 22/50\n",
            " - 1s - loss: 0.4324 - acc: 0.8073 - val_loss: 0.6486 - val_acc: 0.6016\n",
            "\n",
            "Epoch 00022: val_loss did not improve from 0.48334\n",
            "Epoch 23/50\n",
            " - 1s - loss: 0.4611 - acc: 0.8125 - val_loss: 0.4764 - val_acc: 0.8516\n",
            "\n",
            "Epoch 00023: val_loss improved from 0.48334 to 0.47639, saving model to drive/My Drive/Resultado/weights_architecture_9.hdf5\n",
            "Epoch 24/50\n",
            " - 1s - loss: 0.4689 - acc: 0.8099 - val_loss: 0.5201 - val_acc: 0.7812\n",
            "\n",
            "Epoch 00024: val_loss did not improve from 0.47639\n",
            "Epoch 25/50\n",
            " - 1s - loss: 0.3900 - acc: 0.8359 - val_loss: 0.7153 - val_acc: 0.6797\n",
            "\n",
            "Epoch 00025: val_loss did not improve from 0.47639\n",
            "Epoch 26/50\n",
            " - 1s - loss: 0.4703 - acc: 0.8151 - val_loss: 0.6782 - val_acc: 0.5781\n",
            "\n",
            "Epoch 00026: val_loss did not improve from 0.47639\n",
            "Epoch 27/50\n",
            " - 1s - loss: 0.4323 - acc: 0.8255 - val_loss: 0.5958 - val_acc: 0.7109\n",
            "\n",
            "Epoch 00027: val_loss did not improve from 0.47639\n",
            "Epoch 28/50\n",
            " - 1s - loss: 0.3599 - acc: 0.8594 - val_loss: 0.4383 - val_acc: 0.8516\n",
            "\n",
            "Epoch 00028: val_loss improved from 0.47639 to 0.43827, saving model to drive/My Drive/Resultado/weights_architecture_9.hdf5\n",
            "Epoch 29/50\n",
            " - 1s - loss: 0.3281 - acc: 0.8932 - val_loss: 0.5781 - val_acc: 0.7109\n",
            "\n",
            "Epoch 00029: val_loss did not improve from 0.43827\n",
            "Epoch 30/50\n",
            " - 1s - loss: 0.3951 - acc: 0.8698 - val_loss: 0.5022 - val_acc: 0.8125\n",
            "\n",
            "Epoch 00030: val_loss did not improve from 0.43827\n",
            "Epoch 31/50\n",
            " - 1s - loss: 0.3673 - acc: 0.8568 - val_loss: 0.5639 - val_acc: 0.7188\n",
            "\n",
            "Epoch 00031: val_loss did not improve from 0.43827\n",
            "Epoch 32/50\n",
            " - 1s - loss: 0.3996 - acc: 0.8594 - val_loss: 0.5236 - val_acc: 0.7578\n",
            "\n",
            "Epoch 00032: val_loss did not improve from 0.43827\n",
            "Epoch 33/50\n",
            " - 1s - loss: 0.3837 - acc: 0.8672 - val_loss: 0.6766 - val_acc: 0.6719\n",
            "\n",
            "Epoch 00033: val_loss did not improve from 0.43827\n",
            "Epoch 34/50\n",
            " - 1s - loss: 0.4528 - acc: 0.7995 - val_loss: 0.3855 - val_acc: 0.8984\n",
            "\n",
            "Epoch 00034: val_loss improved from 0.43827 to 0.38554, saving model to drive/My Drive/Resultado/weights_architecture_9.hdf5\n",
            "Epoch 35/50\n",
            " - 1s - loss: 0.3808 - acc: 0.8724 - val_loss: 0.3552 - val_acc: 0.9297\n",
            "\n",
            "Epoch 00035: val_loss improved from 0.38554 to 0.35520, saving model to drive/My Drive/Resultado/weights_architecture_9.hdf5\n",
            "Epoch 36/50\n",
            " - 1s - loss: 0.4094 - acc: 0.8490 - val_loss: 0.4785 - val_acc: 0.7812\n",
            "\n",
            "Epoch 00036: val_loss did not improve from 0.35520\n",
            "Epoch 37/50\n",
            " - 1s - loss: 0.3896 - acc: 0.8411 - val_loss: 0.7001 - val_acc: 0.5703\n",
            "\n",
            "Epoch 00037: val_loss did not improve from 0.35520\n",
            "Epoch 38/50\n",
            " - 1s - loss: 0.3705 - acc: 0.8620 - val_loss: 0.5195 - val_acc: 0.7500\n",
            "\n",
            "Epoch 00038: val_loss did not improve from 0.35520\n",
            "Epoch 39/50\n",
            " - 1s - loss: 0.3649 - acc: 0.8750 - val_loss: 0.3930 - val_acc: 0.8750\n",
            "\n",
            "Epoch 00039: val_loss did not improve from 0.35520\n",
            "Epoch 40/50\n",
            " - 1s - loss: 0.3759 - acc: 0.8755 - val_loss: 0.4523 - val_acc: 0.7838\n",
            "\n",
            "Epoch 00040: val_loss did not improve from 0.35520\n",
            "Epoch 41/50\n",
            " - 1s - loss: 0.4127 - acc: 0.8411 - val_loss: 0.5024 - val_acc: 0.7969\n",
            "\n",
            "Epoch 00041: val_loss did not improve from 0.35520\n",
            "Epoch 42/50\n",
            " - 1s - loss: 0.3347 - acc: 0.8958 - val_loss: 0.4190 - val_acc: 0.8828\n",
            "\n",
            "Epoch 00042: val_loss did not improve from 0.35520\n",
            "Epoch 43/50\n",
            " - 1s - loss: 0.3609 - acc: 0.8594 - val_loss: 0.4132 - val_acc: 0.8750\n",
            "\n",
            "Epoch 00043: val_loss did not improve from 0.35520\n",
            "Epoch 44/50\n",
            " - 1s - loss: 0.4234 - acc: 0.8411 - val_loss: 0.7600 - val_acc: 0.6328\n",
            "\n",
            "Epoch 00044: val_loss did not improve from 0.35520\n",
            "Epoch 45/50\n",
            " - 1s - loss: 0.4035 - acc: 0.8411 - val_loss: 0.4069 - val_acc: 0.8438\n",
            "\n",
            "Epoch 00045: val_loss did not improve from 0.35520\n",
            "Epoch 46/50\n",
            " - 1s - loss: 0.3960 - acc: 0.8542 - val_loss: 0.3104 - val_acc: 0.8906\n",
            "\n",
            "Epoch 00046: val_loss improved from 0.35520 to 0.31039, saving model to drive/My Drive/Resultado/weights_architecture_9.hdf5\n",
            "Epoch 47/50\n",
            " - 1s - loss: 0.3099 - acc: 0.8854 - val_loss: 0.3490 - val_acc: 0.8672\n",
            "\n",
            "Epoch 00047: val_loss did not improve from 0.31039\n",
            "Epoch 48/50\n",
            " - 1s - loss: 0.3421 - acc: 0.8776 - val_loss: 0.4237 - val_acc: 0.7969\n",
            "\n",
            "Epoch 00048: val_loss did not improve from 0.31039\n",
            "Epoch 49/50\n",
            " - 1s - loss: 0.2963 - acc: 0.9115 - val_loss: 0.3389 - val_acc: 0.9375\n",
            "\n",
            "Epoch 00049: val_loss did not improve from 0.31039\n",
            "Epoch 50/50\n",
            " - 1s - loss: 0.4201 - acc: 0.8333 - val_loss: 0.6234 - val_acc: 0.6719\n",
            "\n",
            "Epoch 00050: val_loss did not improve from 0.31039\n"
          ],
          "name": "stdout"
        }
      ]
    },
    {
      "metadata": {
        "colab_type": "code",
        "id": "M6Yz3lQwkHLX",
        "outputId": "8717b3c8-e742-4f07-9ec5-27c366e9a082",
        "colab": {
          "base_uri": "https://localhost:8080/",
          "height": 380
        }
      },
      "cell_type": "code",
      "source": [
        "# plotar loss e accuracy para os datasets 'train' e 'test'\n",
        "plt.style.use(\"ggplot\")\n",
        "plt.figure()\n",
        "plt.plot(training.history['acc'], label='Accuracy')\n",
        "plt.plot(training.history['loss'], label='Loss')\n",
        "plt.xlabel('Epochs')\n",
        "plt.ylabel('Accuracy')\n",
        "plt.title(\"Training Loss and Accuracy\")\n",
        "plt.ylabel(\"Loss/Accuracy\")\n",
        "plt.legend()\n",
        "plt.savefig('drive/My Drive/Resultado/' + arquiteture + '.png', bbox_inches='tight')"
      ],
      "execution_count": 82,
      "outputs": [
        {
          "output_type": "display_data",
          "data": {
            "image/png": "[encoded data removed]",
            "text/plain": [
              "<matplotlib.figure.Figure at 0x7fd1f1ffe8d0>"
            ]
          },
          "metadata": {
            "tags": []
          }
        }
      ]
    },
    {
      "metadata": {
        "colab_type": "code",
        "id": "5LAzY6JfkHLh",
        "outputId": "39e0f2fc-b715-4e63-cda1-a0ddbed5fbf5",
        "colab": {
          "base_uri": "https://localhost:8080/",
          "height": 54
        }
      },
      "cell_type": "code",
      "source": [
        "y_true, y_predict = ler_images_teste(arquiteture)"
      ],
      "execution_count": 83,
      "outputs": [
        {
          "output_type": "stream",
          "text": [
            "/usr/local/lib/python3.6/dist-packages/skimage/transform/_warps.py:84: UserWarning: The default mode, 'constant', will be changed to 'reflect' in skimage 0.15.\n",
            "  warn(\"The default mode, 'constant', will be changed to 'reflect' in \"\n"
          ],
          "name": "stderr"
        }
      ]
    },
    {
      "metadata": {
        "colab_type": "code",
        "id": "8X-QY2SokHLo",
        "outputId": "c9930764-9938-41da-8c0f-1615230d1d29",
        "colab": {
          "base_uri": "https://localhost:8080/",
          "height": 35
        }
      },
      "cell_type": "code",
      "source": [
        "results[arquiteture] = accuracy_score(y_true, y_predict)\n",
        "print('Test Accuracy: {:.2f}%'.format(100 * results[arquiteture]))"
      ],
      "execution_count": 84,
      "outputs": [
        {
          "output_type": "stream",
          "text": [
            "Test Accuracy: 80.15%\n"
          ],
          "name": "stdout"
        }
      ]
    },
    {
      "metadata": {
        "id": "I_6RPRqZ0ooK",
        "colab_type": "text"
      },
      "cell_type": "markdown",
      "source": [
        "### 10 tentativa Accuracy: 80.36%"
      ]
    },
    {
      "metadata": {
        "colab_type": "text",
        "id": "drBpwd1s7PE3"
      },
      "cell_type": "markdown",
      "source": [
        "Modelo adaptado do **Lucas Albertins**\n",
        "\n",
        "*   Função **adam** para compilação\n",
        "*   Adicionado mais 2 camadas convolutivas"
      ]
    },
    {
      "metadata": {
        "colab_type": "code",
        "id": "6LGTLObK0u-Y",
        "colab": {}
      },
      "cell_type": "code",
      "source": [
        "from keras.layers import Conv2D, MaxPooling2D, GlobalMaxPooling2D, BatchNormalization\n",
        "from keras.regularizers import l2\n",
        "\n",
        "model = Sequential()\n",
        "\n",
        "model.add(Conv2D(32, (3, 3), activation='relu', kernel_regularizer=l2(1e-4), \n",
        "                 input_shape=(None, None, 3)))\n",
        "model.add(BatchNormalization())\n",
        "model.add(Conv2D(32, (3, 3), activation='relu', kernel_regularizer=l2(1e-4)))\n",
        "model.add(BatchNormalization())\n",
        "model.add(MaxPooling2D((2, 2)))\n",
        "model.add(Dropout(0.25))\n",
        "\n",
        "model.add(Conv2D(64, (3, 3), activation='relu', kernel_regularizer=l2(1e-4)))\n",
        "model.add(BatchNormalization())\n",
        "model.add(Conv2D(64, (3, 3), activation='relu', kernel_regularizer=l2(1e-4)))\n",
        "model.add(BatchNormalization())\n",
        "model.add(MaxPooling2D((2, 2)))\n",
        "model.add(Dropout(0.25))\n",
        "\n",
        "model.add(Conv2D(96, (3, 3),activation='relu', kernel_regularizer=l2(1e-4)))\n",
        "model.add(BatchNormalization())\n",
        "model.add(Conv2D(96, (3, 3),activation='relu', kernel_regularizer=l2(1e-4)))\n",
        "model.add(BatchNormalization())\n",
        "model.add(MaxPooling2D((2, 2)))\n",
        "model.add(Dropout(0.25))\n",
        "\n",
        "model.add(Conv2D(128, (1,1), kernel_regularizer=l2(1e-4)))\n",
        "model.add(GlobalMaxPooling2D())\n",
        "\n",
        "model.add(Dense(256, activation='relu', kernel_regularizer=l2(1e-4)))\n",
        "model.add(Dropout(0.5))\n",
        "model.add(Dense(2, activation='sigmoid', kernel_regularizer=l2(1e-4)))"
      ],
      "execution_count": 0,
      "outputs": []
    },
    {
      "metadata": {
        "colab_type": "code",
        "id": "vB92aUkR0u-p",
        "colab": {}
      },
      "cell_type": "code",
      "source": [
        "model.compile(optimizer='adam', loss='binary_crossentropy', metrics=['accuracy'])"
      ],
      "execution_count": 0,
      "outputs": []
    },
    {
      "metadata": {
        "colab_type": "code",
        "id": "7CD_MICYkLAi",
        "colab": {}
      },
      "cell_type": "code",
      "source": [
        "arquiteture = 'architecture_10'"
      ],
      "execution_count": 0,
      "outputs": []
    },
    {
      "metadata": {
        "colab_type": "code",
        "id": "aGtfVb9qknXd",
        "colab": {}
      },
      "cell_type": "code",
      "source": [
        "checkpointer = ModelCheckpoint(filepath='drive/My Drive/Resultado/weights_' + arquiteture + '.hdf5', verbose=1, save_best_only=True)"
      ],
      "execution_count": 0,
      "outputs": []
    },
    {
      "metadata": {
        "colab_type": "code",
        "id": "mUqvoI5Y7bLp",
        "outputId": "6272ea6a-bf62-480c-9870-a134c5b12c41",
        "colab": {
          "base_uri": "https://localhost:8080/",
          "height": 3690
        }
      },
      "cell_type": "code",
      "source": [
        "training = model.fit_generator(train_batches, steps_per_epoch=stepsPerEpoche, \n",
        "                   validation_data=validation_batches, validation_steps=validationSteps,\n",
        "                   epochs=50, verbose=2, callbacks=[checkpointer])"
      ],
      "execution_count": 89,
      "outputs": [
        {
          "output_type": "stream",
          "text": [
            "Epoch 1/50\n",
            " - 5s - loss: 1.7577 - acc: 0.5339 - val_loss: 0.6599 - val_acc: 0.6562\n",
            "\n",
            "Epoch 00001: val_loss improved from inf to 0.65990, saving model to drive/My Drive/Resultado/weights_architecture_10.hdf5\n",
            "Epoch 2/50\n",
            " - 1s - loss: 1.0249 - acc: 0.6328 - val_loss: 0.6795 - val_acc: 0.5938\n",
            "\n",
            "Epoch 00002: val_loss did not improve from 0.65990\n",
            "Epoch 3/50\n",
            " - 1s - loss: 0.8813 - acc: 0.6536 - val_loss: 0.5218 - val_acc: 0.8281\n",
            "\n",
            "Epoch 00003: val_loss improved from 0.65990 to 0.52180, saving model to drive/My Drive/Resultado/weights_architecture_10.hdf5\n",
            "Epoch 4/50\n",
            " - 1s - loss: 0.6140 - acc: 0.7344 - val_loss: 0.5121 - val_acc: 0.7891\n",
            "\n",
            "Epoch 00004: val_loss improved from 0.52180 to 0.51208, saving model to drive/My Drive/Resultado/weights_architecture_10.hdf5\n",
            "Epoch 5/50\n",
            " - 1s - loss: 0.5303 - acc: 0.7839 - val_loss: 0.6627 - val_acc: 0.7266\n",
            "\n",
            "Epoch 00005: val_loss did not improve from 0.51208\n",
            "Epoch 6/50\n",
            " - 1s - loss: 0.5726 - acc: 0.7812 - val_loss: 0.4495 - val_acc: 0.8594\n",
            "\n",
            "Epoch 00006: val_loss improved from 0.51208 to 0.44953, saving model to drive/My Drive/Resultado/weights_architecture_10.hdf5\n",
            "Epoch 7/50\n",
            " - 1s - loss: 0.4627 - acc: 0.8411 - val_loss: 0.4938 - val_acc: 0.8594\n",
            "\n",
            "Epoch 00007: val_loss did not improve from 0.44953\n",
            "Epoch 8/50\n",
            " - 1s - loss: 0.3285 - acc: 0.8854 - val_loss: 0.4903 - val_acc: 0.8125\n",
            "\n",
            "Epoch 00008: val_loss did not improve from 0.44953\n",
            "Epoch 9/50\n",
            " - 1s - loss: 0.5403 - acc: 0.8177 - val_loss: 0.4183 - val_acc: 0.7838\n",
            "\n",
            "Epoch 00009: val_loss improved from 0.44953 to 0.41827, saving model to drive/My Drive/Resultado/weights_architecture_10.hdf5\n",
            "Epoch 10/50\n",
            " - 1s - loss: 0.4482 - acc: 0.8464 - val_loss: 0.5920 - val_acc: 0.7734\n",
            "\n",
            "Epoch 00010: val_loss did not improve from 0.41827\n",
            "Epoch 11/50\n",
            " - 1s - loss: 0.4038 - acc: 0.8307 - val_loss: 0.4063 - val_acc: 0.8672\n",
            "\n",
            "Epoch 00011: val_loss improved from 0.41827 to 0.40632, saving model to drive/My Drive/Resultado/weights_architecture_10.hdf5\n",
            "Epoch 12/50\n",
            " - 1s - loss: 0.4418 - acc: 0.8385 - val_loss: 0.5273 - val_acc: 0.8281\n",
            "\n",
            "Epoch 00012: val_loss did not improve from 0.40632\n",
            "Epoch 13/50\n",
            " - 1s - loss: 0.3853 - acc: 0.8672 - val_loss: 0.2919 - val_acc: 0.9531\n",
            "\n",
            "Epoch 00013: val_loss improved from 0.40632 to 0.29193, saving model to drive/My Drive/Resultado/weights_architecture_10.hdf5\n",
            "Epoch 14/50\n",
            " - 1s - loss: 0.3488 - acc: 0.8932 - val_loss: 0.2961 - val_acc: 0.9219\n",
            "\n",
            "Epoch 00014: val_loss did not improve from 0.29193\n",
            "Epoch 15/50\n",
            " - 1s - loss: 0.3830 - acc: 0.8620 - val_loss: 0.4940 - val_acc: 0.8203\n",
            "\n",
            "Epoch 00015: val_loss did not improve from 0.29193\n",
            "Epoch 16/50\n",
            " - 1s - loss: 0.4323 - acc: 0.8620 - val_loss: 0.4485 - val_acc: 0.8594\n",
            "\n",
            "Epoch 00016: val_loss did not improve from 0.29193\n",
            "Epoch 17/50\n",
            " - 1s - loss: 0.4595 - acc: 0.8255 - val_loss: 0.2446 - val_acc: 0.9297\n",
            "\n",
            "Epoch 00017: val_loss improved from 0.29193 to 0.24464, saving model to drive/My Drive/Resultado/weights_architecture_10.hdf5\n",
            "Epoch 18/50\n",
            " - 1s - loss: 0.4042 - acc: 0.8542 - val_loss: 0.2731 - val_acc: 0.9141\n",
            "\n",
            "Epoch 00018: val_loss did not improve from 0.24464\n",
            "Epoch 19/50\n",
            " - 1s - loss: 0.3825 - acc: 0.8578 - val_loss: 0.3521 - val_acc: 0.8594\n",
            "\n",
            "Epoch 00019: val_loss did not improve from 0.24464\n",
            "Epoch 20/50\n",
            " - 1s - loss: 0.3109 - acc: 0.9089 - val_loss: 0.5283 - val_acc: 0.8281\n",
            "\n",
            "Epoch 00020: val_loss did not improve from 0.24464\n",
            "Epoch 21/50\n",
            " - 1s - loss: 0.3288 - acc: 0.8906 - val_loss: 0.4207 - val_acc: 0.8125\n",
            "\n",
            "Epoch 00021: val_loss did not improve from 0.24464\n",
            "Epoch 22/50\n",
            " - 1s - loss: 0.3221 - acc: 0.9010 - val_loss: 0.5806 - val_acc: 0.7656\n",
            "\n",
            "Epoch 00022: val_loss did not improve from 0.24464\n",
            "Epoch 23/50\n",
            " - 1s - loss: 0.3453 - acc: 0.8932 - val_loss: 0.7236 - val_acc: 0.7344\n",
            "\n",
            "Epoch 00023: val_loss did not improve from 0.24464\n",
            "Epoch 24/50\n",
            " - 1s - loss: 0.4175 - acc: 0.8516 - val_loss: 0.5143 - val_acc: 0.7891\n",
            "\n",
            "Epoch 00024: val_loss did not improve from 0.24464\n",
            "Epoch 25/50\n",
            " - 1s - loss: 0.3010 - acc: 0.9219 - val_loss: 0.3773 - val_acc: 0.8672\n",
            "\n",
            "Epoch 00025: val_loss did not improve from 0.24464\n",
            "Epoch 26/50\n",
            " - 1s - loss: 0.2724 - acc: 0.9193 - val_loss: 0.3732 - val_acc: 0.8828\n",
            "\n",
            "Epoch 00026: val_loss did not improve from 0.24464\n",
            "Epoch 27/50\n",
            " - 1s - loss: 0.3714 - acc: 0.8932 - val_loss: 0.3348 - val_acc: 0.8828\n",
            "\n",
            "Epoch 00027: val_loss did not improve from 0.24464\n",
            "Epoch 28/50\n",
            " - 1s - loss: 0.3599 - acc: 0.8932 - val_loss: 0.2219 - val_acc: 0.9531\n",
            "\n",
            "Epoch 00028: val_loss improved from 0.24464 to 0.22186, saving model to drive/My Drive/Resultado/weights_architecture_10.hdf5\n",
            "Epoch 29/50\n",
            " - 1s - loss: 0.3178 - acc: 0.9115 - val_loss: 0.3853 - val_acc: 0.8750\n",
            "\n",
            "Epoch 00029: val_loss did not improve from 0.22186\n",
            "Epoch 30/50\n",
            " - 1s - loss: 0.3202 - acc: 0.8984 - val_loss: 0.6407 - val_acc: 0.7656\n",
            "\n",
            "Epoch 00030: val_loss did not improve from 0.22186\n",
            "Epoch 31/50\n",
            " - 1s - loss: 0.4176 - acc: 0.8802 - val_loss: 0.6304 - val_acc: 0.7578\n",
            "\n",
            "Epoch 00031: val_loss did not improve from 0.22186\n",
            "Epoch 32/50\n",
            " - 1s - loss: 0.3803 - acc: 0.8828 - val_loss: 0.5672 - val_acc: 0.8125\n",
            "\n",
            "Epoch 00032: val_loss did not improve from 0.22186\n",
            "Epoch 33/50\n",
            " - 1s - loss: 0.2809 - acc: 0.9062 - val_loss: 0.3832 - val_acc: 0.8919\n",
            "\n",
            "Epoch 00033: val_loss did not improve from 0.22186\n",
            "Epoch 34/50\n",
            " - 1s - loss: 0.2331 - acc: 0.9505 - val_loss: 0.2865 - val_acc: 0.9219\n",
            "\n",
            "Epoch 00034: val_loss did not improve from 0.22186\n",
            "Epoch 35/50\n",
            " - 1s - loss: 0.3744 - acc: 0.8854 - val_loss: 0.4014 - val_acc: 0.8438\n",
            "\n",
            "Epoch 00035: val_loss did not improve from 0.22186\n",
            "Epoch 36/50\n",
            " - 1s - loss: 0.2786 - acc: 0.9271 - val_loss: 0.1957 - val_acc: 0.9844\n",
            "\n",
            "Epoch 00036: val_loss improved from 0.22186 to 0.19574, saving model to drive/My Drive/Resultado/weights_architecture_10.hdf5\n",
            "Epoch 37/50\n",
            " - 1s - loss: 0.2915 - acc: 0.9141 - val_loss: 0.3199 - val_acc: 0.8750\n",
            "\n",
            "Epoch 00037: val_loss did not improve from 0.19574\n",
            "Epoch 38/50\n",
            " - 1s - loss: 0.3193 - acc: 0.8984 - val_loss: 0.2790 - val_acc: 0.9141\n",
            "\n",
            "Epoch 00038: val_loss did not improve from 0.19574\n",
            "Epoch 39/50\n",
            " - 1s - loss: 0.3167 - acc: 0.9062 - val_loss: 0.2906 - val_acc: 0.9219\n",
            "\n",
            "Epoch 00039: val_loss did not improve from 0.19574\n",
            "Epoch 40/50\n",
            " - 1s - loss: 0.3127 - acc: 0.9141 - val_loss: 0.2073 - val_acc: 0.9688\n",
            "\n",
            "Epoch 00040: val_loss did not improve from 0.19574\n",
            "Epoch 41/50\n",
            " - 1s - loss: 0.3445 - acc: 0.8932 - val_loss: 0.6120 - val_acc: 0.8125\n",
            "\n",
            "Epoch 00041: val_loss did not improve from 0.19574\n",
            "Epoch 42/50\n",
            " - 1s - loss: 0.2484 - acc: 0.9141 - val_loss: 0.3747 - val_acc: 0.8359\n",
            "\n",
            "Epoch 00042: val_loss did not improve from 0.19574\n",
            "Epoch 43/50\n",
            " - 1s - loss: 0.2413 - acc: 0.9505 - val_loss: 0.4872 - val_acc: 0.8281\n",
            "\n",
            "Epoch 00043: val_loss did not improve from 0.19574\n",
            "Epoch 44/50\n",
            " - 1s - loss: 0.2716 - acc: 0.9062 - val_loss: 0.2717 - val_acc: 0.9375\n",
            "\n",
            "Epoch 00044: val_loss did not improve from 0.19574\n",
            "Epoch 45/50\n",
            " - 1s - loss: 0.3958 - acc: 0.8750 - val_loss: 0.2243 - val_acc: 0.9531\n",
            "\n",
            "Epoch 00045: val_loss did not improve from 0.19574\n",
            "Epoch 46/50\n",
            " - 1s - loss: 0.3077 - acc: 0.9036 - val_loss: 0.4646 - val_acc: 0.8750\n",
            "\n",
            "Epoch 00046: val_loss did not improve from 0.19574\n",
            "Epoch 47/50\n",
            " - 1s - loss: 0.3315 - acc: 0.8854 - val_loss: 0.4876 - val_acc: 0.8281\n",
            "\n",
            "Epoch 00047: val_loss did not improve from 0.19574\n",
            "Epoch 48/50\n",
            " - 1s - loss: 0.3741 - acc: 0.8854 - val_loss: 0.3523 - val_acc: 0.9219\n",
            "\n",
            "Epoch 00048: val_loss did not improve from 0.19574\n",
            "Epoch 49/50\n",
            " - 1s - loss: 0.3257 - acc: 0.8743 - val_loss: 0.3274 - val_acc: 0.8984\n",
            "\n",
            "Epoch 00049: val_loss did not improve from 0.19574\n",
            "Epoch 50/50\n",
            " - 1s - loss: 0.2179 - acc: 0.9375 - val_loss: 0.4203 - val_acc: 0.8359\n",
            "\n",
            "Epoch 00050: val_loss did not improve from 0.19574\n"
          ],
          "name": "stdout"
        }
      ]
    },
    {
      "metadata": {
        "colab_type": "code",
        "id": "4mLcVI5OkLAx",
        "outputId": "970de813-405f-4323-d6e3-e30e6dd2dfe9",
        "colab": {
          "base_uri": "https://localhost:8080/",
          "height": 380
        }
      },
      "cell_type": "code",
      "source": [
        "# plotar loss e accuracy para os datasets 'train' e 'test'\n",
        "plt.style.use(\"ggplot\")\n",
        "plt.figure()\n",
        "plt.plot(training.history['acc'], label='Accuracy')\n",
        "plt.plot(training.history['loss'], label='Loss')\n",
        "plt.xlabel('Epochs')\n",
        "plt.ylabel('Accuracy')\n",
        "plt.title(\"Training Loss and Accuracy\")\n",
        "plt.ylabel(\"Loss/Accuracy\")\n",
        "plt.legend()\n",
        "plt.savefig('drive/My Drive/Resultado/' + arquiteture + '.png', bbox_inches='tight')"
      ],
      "execution_count": 90,
      "outputs": [
        {
          "output_type": "display_data",
          "data": {
            "image/png": "[encoded data removed]",
            "text/plain": [
              "<matplotlib.figure.Figure at 0x7fd1f1f73390>"
            ]
          },
          "metadata": {
            "tags": []
          }
        }
      ]
    },
    {
      "metadata": {
        "colab_type": "code",
        "id": "MXfjnNaekLA8",
        "outputId": "57fad907-25e4-465f-f77a-cf551ee6ba4b",
        "colab": {
          "base_uri": "https://localhost:8080/",
          "height": 54
        }
      },
      "cell_type": "code",
      "source": [
        "y_true, y_predict = ler_images_teste(arquiteture)"
      ],
      "execution_count": 91,
      "outputs": [
        {
          "output_type": "stream",
          "text": [
            "/usr/local/lib/python3.6/dist-packages/skimage/transform/_warps.py:84: UserWarning: The default mode, 'constant', will be changed to 'reflect' in skimage 0.15.\n",
            "  warn(\"The default mode, 'constant', will be changed to 'reflect' in \"\n"
          ],
          "name": "stderr"
        }
      ]
    },
    {
      "metadata": {
        "colab_type": "code",
        "id": "mxweJBcKkLBA",
        "outputId": "89bedd06-621b-4cc0-8c27-dff09ba70f19",
        "colab": {
          "base_uri": "https://localhost:8080/",
          "height": 35
        }
      },
      "cell_type": "code",
      "source": [
        "results[arquiteture] = accuracy_score(y_true, y_predict)\n",
        "print('Test Accuracy: {:.2f}%'.format(100 * results[arquiteture]))"
      ],
      "execution_count": 92,
      "outputs": [
        {
          "output_type": "stream",
          "text": [
            "Test Accuracy: 80.36%\n"
          ],
          "name": "stdout"
        }
      ]
    },
    {
      "metadata": {
        "id": "t-JuICq46CWp",
        "colab_type": "text"
      },
      "cell_type": "markdown",
      "source": [
        "### 11 tentativa Accuracy: 80.36%"
      ]
    },
    {
      "metadata": {
        "colab_type": "text",
        "id": "MdaiMXVY8RWc"
      },
      "cell_type": "markdown",
      "source": [
        "Modelo adaptado do **Lucas Albertins**\n",
        "\n",
        "*   Função **SGD** para compilação\n",
        "*   Adicionado mais 2 camadas convolutivas"
      ]
    },
    {
      "metadata": {
        "colab_type": "code",
        "id": "vLy1nlhs6HHL",
        "colab": {}
      },
      "cell_type": "code",
      "source": [
        "from keras.layers import Conv2D, MaxPooling2D, GlobalMaxPooling2D, BatchNormalization\n",
        "from keras.regularizers import l2\n",
        "\n",
        "model = Sequential()\n",
        "\n",
        "model.add(Conv2D(32, (3, 3), activation='relu', kernel_regularizer=l2(1e-4), \n",
        "                 input_shape=(None, None, 3)))\n",
        "model.add(BatchNormalization())\n",
        "model.add(Conv2D(32, (3, 3), activation='relu', kernel_regularizer=l2(1e-4)))\n",
        "model.add(BatchNormalization())\n",
        "model.add(MaxPooling2D((2, 2)))\n",
        "model.add(Dropout(0.25))\n",
        "\n",
        "model.add(Conv2D(64, (3, 3), activation='relu', kernel_regularizer=l2(1e-4)))\n",
        "model.add(BatchNormalization())\n",
        "model.add(Conv2D(64, (3, 3), activation='relu', kernel_regularizer=l2(1e-4)))\n",
        "model.add(BatchNormalization())\n",
        "model.add(MaxPooling2D((2, 2)))\n",
        "model.add(Dropout(0.25))\n",
        "\n",
        "model.add(Conv2D(96, (3, 3),activation='relu', kernel_regularizer=l2(1e-4)))\n",
        "model.add(BatchNormalization())\n",
        "model.add(Conv2D(96, (3, 3),activation='relu', kernel_regularizer=l2(1e-4)))\n",
        "model.add(BatchNormalization())\n",
        "model.add(MaxPooling2D((2, 2)))\n",
        "model.add(Dropout(0.25))\n",
        "\n",
        "model.add(Conv2D(128, (1,1), kernel_regularizer=l2(1e-4)))\n",
        "model.add(GlobalMaxPooling2D())\n",
        "\n",
        "model.add(Dense(256, activation='relu', kernel_regularizer=l2(1e-4)))\n",
        "model.add(Dropout(0.5))\n",
        "model.add(Dense(2, activation='sigmoid', kernel_regularizer=l2(1e-4)))"
      ],
      "execution_count": 0,
      "outputs": []
    },
    {
      "metadata": {
        "colab_type": "code",
        "id": "QKpy_s8Z6HHZ",
        "colab": {}
      },
      "cell_type": "code",
      "source": [
        "model.compile(SGD(lr=0.01, momentum=0.0, decay=0.0, nesterov=False), \n",
        "              loss='binary_crossentropy', metrics=['accuracy'])"
      ],
      "execution_count": 0,
      "outputs": []
    },
    {
      "metadata": {
        "colab_type": "code",
        "id": "oGVeMLcZkPCr",
        "colab": {}
      },
      "cell_type": "code",
      "source": [
        "arquiteture = 'architecture_11'"
      ],
      "execution_count": 0,
      "outputs": []
    },
    {
      "metadata": {
        "colab_type": "code",
        "id": "rvsDdCnxkjhS",
        "colab": {}
      },
      "cell_type": "code",
      "source": [
        "checkpointer = ModelCheckpoint(filepath='drive/My Drive/Resultado/weights_' + arquiteture + '.hdf5', verbose=1, save_best_only=True)"
      ],
      "execution_count": 0,
      "outputs": []
    },
    {
      "metadata": {
        "colab_type": "code",
        "id": "KGy9-eyM7t1c",
        "outputId": "168af7b9-ef32-416b-ec60-7686f5cb5e35",
        "colab": {
          "base_uri": "https://localhost:8080/",
          "height": 3690
        }
      },
      "cell_type": "code",
      "source": [
        "training = model.fit_generator(train_batches, steps_per_epoch=stepsPerEpoche, \n",
        "                   validation_data=validation_batches, validation_steps=validationSteps,\n",
        "                   epochs=50, verbose=2, callbacks=[checkpointer])"
      ],
      "execution_count": 97,
      "outputs": [
        {
          "output_type": "stream",
          "text": [
            "Epoch 1/50\n",
            " - 5s - loss: 1.8679 - acc: 0.5365 - val_loss: 0.9108 - val_acc: 0.7027\n",
            "\n",
            "Epoch 00001: val_loss improved from inf to 0.91079, saving model to drive/My Drive/Resultado/weights_architecture_11.hdf5\n",
            "Epoch 2/50\n",
            " - 1s - loss: 1.5559 - acc: 0.5417 - val_loss: 0.6903 - val_acc: 0.6406\n",
            "\n",
            "Epoch 00002: val_loss improved from 0.91079 to 0.69032, saving model to drive/My Drive/Resultado/weights_architecture_11.hdf5\n",
            "Epoch 3/50\n",
            " - 1s - loss: 1.2198 - acc: 0.5469 - val_loss: 0.6594 - val_acc: 0.7109\n",
            "\n",
            "Epoch 00003: val_loss improved from 0.69032 to 0.65941, saving model to drive/My Drive/Resultado/weights_architecture_11.hdf5\n",
            "Epoch 4/50\n",
            " - 1s - loss: 1.0842 - acc: 0.5599 - val_loss: 0.7648 - val_acc: 0.5938\n",
            "\n",
            "Epoch 00004: val_loss did not improve from 0.65941\n",
            "Epoch 5/50\n",
            " - 1s - loss: 0.8187 - acc: 0.6615 - val_loss: 0.6021 - val_acc: 0.7422\n",
            "\n",
            "Epoch 00005: val_loss improved from 0.65941 to 0.60210, saving model to drive/My Drive/Resultado/weights_architecture_11.hdf5\n",
            "Epoch 6/50\n",
            " - 1s - loss: 0.7428 - acc: 0.6562 - val_loss: 0.6074 - val_acc: 0.7266\n",
            "\n",
            "Epoch 00006: val_loss did not improve from 0.60210\n",
            "Epoch 7/50\n",
            " - 1s - loss: 0.6600 - acc: 0.7083 - val_loss: 0.5829 - val_acc: 0.7812\n",
            "\n",
            "Epoch 00007: val_loss improved from 0.60210 to 0.58291, saving model to drive/My Drive/Resultado/weights_architecture_11.hdf5\n",
            "Epoch 8/50\n",
            " - 1s - loss: 0.6882 - acc: 0.6615 - val_loss: 0.5823 - val_acc: 0.7812\n",
            "\n",
            "Epoch 00008: val_loss improved from 0.58291 to 0.58227, saving model to drive/My Drive/Resultado/weights_architecture_11.hdf5\n",
            "Epoch 9/50\n",
            " - 1s - loss: 0.6599 - acc: 0.6823 - val_loss: 0.5444 - val_acc: 0.8750\n",
            "\n",
            "Epoch 00009: val_loss improved from 0.58227 to 0.54436, saving model to drive/My Drive/Resultado/weights_architecture_11.hdf5\n",
            "Epoch 10/50\n",
            " - 1s - loss: 0.5382 - acc: 0.7969 - val_loss: 0.5211 - val_acc: 0.8125\n",
            "\n",
            "Epoch 00010: val_loss improved from 0.54436 to 0.52107, saving model to drive/My Drive/Resultado/weights_architecture_11.hdf5\n",
            "Epoch 11/50\n",
            " - 1s - loss: 0.5471 - acc: 0.7865 - val_loss: 0.4789 - val_acc: 0.8281\n",
            "\n",
            "Epoch 00011: val_loss improved from 0.52107 to 0.47889, saving model to drive/My Drive/Resultado/weights_architecture_11.hdf5\n",
            "Epoch 12/50\n",
            " - 1s - loss: 0.5700 - acc: 0.7526 - val_loss: 0.4954 - val_acc: 0.8516\n",
            "\n",
            "Epoch 00012: val_loss did not improve from 0.47889\n",
            "Epoch 13/50\n",
            " - 1s - loss: 0.5398 - acc: 0.7656 - val_loss: 0.6023 - val_acc: 0.7500\n",
            "\n",
            "Epoch 00013: val_loss did not improve from 0.47889\n",
            "Epoch 14/50\n",
            " - 1s - loss: 0.7190 - acc: 0.7161 - val_loss: 0.5704 - val_acc: 0.8516\n",
            "\n",
            "Epoch 00014: val_loss did not improve from 0.47889\n",
            "Epoch 15/50\n",
            " - 1s - loss: 0.5586 - acc: 0.7500 - val_loss: 0.5063 - val_acc: 0.8438\n",
            "\n",
            "Epoch 00015: val_loss did not improve from 0.47889\n",
            "Epoch 16/50\n",
            " - 1s - loss: 0.4370 - acc: 0.8490 - val_loss: 0.5060 - val_acc: 0.6953\n",
            "\n",
            "Epoch 00016: val_loss did not improve from 0.47889\n",
            "Epoch 17/50\n",
            " - 1s - loss: 0.5223 - acc: 0.8203 - val_loss: 0.5110 - val_acc: 0.8359\n",
            "\n",
            "Epoch 00017: val_loss did not improve from 0.47889\n",
            "Epoch 18/50\n",
            " - 1s - loss: 0.4934 - acc: 0.8255 - val_loss: 0.5796 - val_acc: 0.7734\n",
            "\n",
            "Epoch 00018: val_loss did not improve from 0.47889\n",
            "Epoch 19/50\n",
            " - 1s - loss: 0.5366 - acc: 0.7891 - val_loss: 0.4241 - val_acc: 0.9375\n",
            "\n",
            "Epoch 00019: val_loss improved from 0.47889 to 0.42407, saving model to drive/My Drive/Resultado/weights_architecture_11.hdf5\n",
            "Epoch 20/50\n",
            " - 1s - loss: 0.4740 - acc: 0.8151 - val_loss: 0.4767 - val_acc: 0.8906\n",
            "\n",
            "Epoch 00020: val_loss did not improve from 0.42407\n",
            "Epoch 21/50\n",
            " - 1s - loss: 0.5195 - acc: 0.7891 - val_loss: 0.5342 - val_acc: 0.7891\n",
            "\n",
            "Epoch 00021: val_loss did not improve from 0.42407\n",
            "Epoch 22/50\n",
            " - 1s - loss: 0.5033 - acc: 0.7943 - val_loss: 0.7359 - val_acc: 0.6250\n",
            "\n",
            "Epoch 00022: val_loss did not improve from 0.42407\n",
            "Epoch 23/50\n",
            " - 1s - loss: 0.4209 - acc: 0.8307 - val_loss: 0.4160 - val_acc: 0.8750\n",
            "\n",
            "Epoch 00023: val_loss improved from 0.42407 to 0.41603, saving model to drive/My Drive/Resultado/weights_architecture_11.hdf5\n",
            "Epoch 24/50\n",
            " - 1s - loss: 0.4116 - acc: 0.8646 - val_loss: 0.4746 - val_acc: 0.8750\n",
            "\n",
            "Epoch 00024: val_loss did not improve from 0.41603\n",
            "Epoch 25/50\n",
            " - 1s - loss: 0.4264 - acc: 0.8333 - val_loss: 0.5480 - val_acc: 0.7838\n",
            "\n",
            "Epoch 00025: val_loss did not improve from 0.41603\n",
            "Epoch 26/50\n",
            " - 1s - loss: 0.4476 - acc: 0.8568 - val_loss: 0.6269 - val_acc: 0.7656\n",
            "\n",
            "Epoch 00026: val_loss did not improve from 0.41603\n",
            "Epoch 27/50\n",
            " - 1s - loss: 0.4267 - acc: 0.8672 - val_loss: 0.4857 - val_acc: 0.9141\n",
            "\n",
            "Epoch 00027: val_loss did not improve from 0.41603\n",
            "Epoch 28/50\n",
            " - 1s - loss: 0.4442 - acc: 0.8437 - val_loss: 0.4911 - val_acc: 0.8672\n",
            "\n",
            "Epoch 00028: val_loss did not improve from 0.41603\n",
            "Epoch 29/50\n",
            " - 1s - loss: 0.4581 - acc: 0.8047 - val_loss: 0.3723 - val_acc: 0.9453\n",
            "\n",
            "Epoch 00029: val_loss improved from 0.41603 to 0.37231, saving model to drive/My Drive/Resultado/weights_architecture_11.hdf5\n",
            "Epoch 30/50\n",
            " - 1s - loss: 0.3837 - acc: 0.8698 - val_loss: 0.4473 - val_acc: 0.8828\n",
            "\n",
            "Epoch 00030: val_loss did not improve from 0.37231\n",
            "Epoch 31/50\n",
            " - 1s - loss: 0.4525 - acc: 0.8333 - val_loss: 0.3341 - val_acc: 0.9531\n",
            "\n",
            "Epoch 00031: val_loss improved from 0.37231 to 0.33409, saving model to drive/My Drive/Resultado/weights_architecture_11.hdf5\n",
            "Epoch 32/50\n",
            " - 1s - loss: 0.4474 - acc: 0.8359 - val_loss: 0.4853 - val_acc: 0.7812\n",
            "\n",
            "Epoch 00032: val_loss did not improve from 0.33409\n",
            "Epoch 33/50\n",
            " - 1s - loss: 0.3431 - acc: 0.8776 - val_loss: 0.5043 - val_acc: 0.7891\n",
            "\n",
            "Epoch 00033: val_loss did not improve from 0.33409\n",
            "Epoch 34/50\n",
            " - 1s - loss: 0.3323 - acc: 0.8932 - val_loss: 0.3943 - val_acc: 0.8359\n",
            "\n",
            "Epoch 00034: val_loss did not improve from 0.33409\n",
            "Epoch 35/50\n",
            " - 1s - loss: 0.3458 - acc: 0.8932 - val_loss: 0.3781 - val_acc: 0.8984\n",
            "\n",
            "Epoch 00035: val_loss did not improve from 0.33409\n",
            "Epoch 36/50\n",
            " - 1s - loss: 0.3286 - acc: 0.8958 - val_loss: 0.3509 - val_acc: 0.9375\n",
            "\n",
            "Epoch 00036: val_loss did not improve from 0.33409\n",
            "Epoch 37/50\n",
            " - 1s - loss: 0.3938 - acc: 0.8438 - val_loss: 0.5501 - val_acc: 0.8125\n",
            "\n",
            "Epoch 00037: val_loss did not improve from 0.33409\n",
            "Epoch 38/50\n",
            " - 1s - loss: 0.4034 - acc: 0.8490 - val_loss: 0.4921 - val_acc: 0.8281\n",
            "\n",
            "Epoch 00038: val_loss did not improve from 0.33409\n",
            "Epoch 39/50\n",
            " - 1s - loss: 0.4092 - acc: 0.8490 - val_loss: 0.3896 - val_acc: 0.8984\n",
            "\n",
            "Epoch 00039: val_loss did not improve from 0.33409\n",
            "Epoch 40/50\n",
            " - 1s - loss: 0.3433 - acc: 0.8932 - val_loss: 0.3270 - val_acc: 0.9375\n",
            "\n",
            "Epoch 00040: val_loss improved from 0.33409 to 0.32703, saving model to drive/My Drive/Resultado/weights_architecture_11.hdf5\n",
            "Epoch 41/50\n",
            " - 1s - loss: 0.3812 - acc: 0.8750 - val_loss: 0.3754 - val_acc: 0.8984\n",
            "\n",
            "Epoch 00041: val_loss did not improve from 0.32703\n",
            "Epoch 42/50\n",
            " - 1s - loss: 0.3886 - acc: 0.8698 - val_loss: 0.3873 - val_acc: 0.9062\n",
            "\n",
            "Epoch 00042: val_loss did not improve from 0.32703\n",
            "Epoch 43/50\n",
            " - 1s - loss: 0.3643 - acc: 0.8750 - val_loss: 0.4036 - val_acc: 0.8750\n",
            "\n",
            "Epoch 00043: val_loss did not improve from 0.32703\n",
            "Epoch 44/50\n",
            " - 1s - loss: 0.3642 - acc: 0.8880 - val_loss: 0.4008 - val_acc: 0.8906\n",
            "\n",
            "Epoch 00044: val_loss did not improve from 0.32703\n",
            "Epoch 45/50\n",
            " - 1s - loss: 0.2531 - acc: 0.9453 - val_loss: 0.3856 - val_acc: 0.8750\n",
            "\n",
            "Epoch 00045: val_loss did not improve from 0.32703\n",
            "Epoch 46/50\n",
            " - 1s - loss: 0.3107 - acc: 0.8984 - val_loss: 0.4815 - val_acc: 0.8125\n",
            "\n",
            "Epoch 00046: val_loss did not improve from 0.32703\n",
            "Epoch 47/50\n",
            " - 1s - loss: 0.3743 - acc: 0.8698 - val_loss: 0.3091 - val_acc: 0.9141\n",
            "\n",
            "Epoch 00047: val_loss improved from 0.32703 to 0.30914, saving model to drive/My Drive/Resultado/weights_architecture_11.hdf5\n",
            "Epoch 48/50\n",
            " - 1s - loss: 0.3431 - acc: 0.8724 - val_loss: 0.2769 - val_acc: 0.9297\n",
            "\n",
            "Epoch 00048: val_loss improved from 0.30914 to 0.27693, saving model to drive/My Drive/Resultado/weights_architecture_11.hdf5\n",
            "Epoch 49/50\n",
            " - 1s - loss: 0.4042 - acc: 0.8542 - val_loss: 0.4482 - val_acc: 0.7838\n",
            "\n",
            "Epoch 00049: val_loss did not improve from 0.27693\n",
            "Epoch 50/50\n",
            " - 1s - loss: 0.4030 - acc: 0.8568 - val_loss: 0.3721 - val_acc: 0.9141\n",
            "\n",
            "Epoch 00050: val_loss did not improve from 0.27693\n"
          ],
          "name": "stdout"
        }
      ]
    },
    {
      "metadata": {
        "colab_type": "code",
        "id": "n6AWbI6ikPC5",
        "outputId": "412bc398-68a0-41bb-a5f2-759c526c3b87",
        "colab": {
          "base_uri": "https://localhost:8080/",
          "height": 380
        }
      },
      "cell_type": "code",
      "source": [
        "# plotar loss e accuracy para os datasets 'train' e 'test'\n",
        "plt.style.use(\"ggplot\")\n",
        "plt.figure()\n",
        "plt.plot(training.history['acc'], label='Accuracy')\n",
        "plt.plot(training.history['loss'], label='Loss')\n",
        "plt.xlabel('Epochs')\n",
        "plt.ylabel('Accuracy')\n",
        "plt.title(\"Training Loss and Accuracy\")\n",
        "plt.ylabel(\"Loss/Accuracy\")\n",
        "plt.legend()\n",
        "plt.savefig('drive/My Drive/Resultado/' + arquiteture + '.png', bbox_inches='tight')"
      ],
      "execution_count": 98,
      "outputs": [
        {
          "output_type": "display_data",
          "data": {
            "image/png": "[encoded data removed]",
            "text/plain": [
              "<matplotlib.figure.Figure at 0x7fd1dfd8ea58>"
            ]
          },
          "metadata": {
            "tags": []
          }
        }
      ]
    },
    {
      "metadata": {
        "colab_type": "code",
        "id": "SspLcUTBkPDF",
        "outputId": "5876b2e9-6add-4f30-ea3b-7c2708a4b105",
        "colab": {
          "base_uri": "https://localhost:8080/",
          "height": 54
        }
      },
      "cell_type": "code",
      "source": [
        "y_true, y_predict = ler_images_teste(arquiteture)"
      ],
      "execution_count": 99,
      "outputs": [
        {
          "output_type": "stream",
          "text": [
            "/usr/local/lib/python3.6/dist-packages/skimage/transform/_warps.py:84: UserWarning: The default mode, 'constant', will be changed to 'reflect' in skimage 0.15.\n",
            "  warn(\"The default mode, 'constant', will be changed to 'reflect' in \"\n"
          ],
          "name": "stderr"
        }
      ]
    },
    {
      "metadata": {
        "colab_type": "code",
        "id": "ppoXzpt-kPDO",
        "outputId": "4bb25355-3adc-4905-94d4-4fe6a5c65759",
        "colab": {
          "base_uri": "https://localhost:8080/",
          "height": 35
        }
      },
      "cell_type": "code",
      "source": [
        "results[arquiteture] = accuracy_score(y_true, y_predict)\n",
        "print('Test Accuracy: {:.2f}%'.format(100 * results[arquiteture]))"
      ],
      "execution_count": 100,
      "outputs": [
        {
          "output_type": "stream",
          "text": [
            "Test Accuracy: 80.36%\n"
          ],
          "name": "stdout"
        }
      ]
    },
    {
      "metadata": {
        "id": "26BCkdp9MAna",
        "colab_type": "text"
      },
      "cell_type": "markdown",
      "source": [
        "### 12 tentativa Accuracy: 80.15%"
      ]
    },
    {
      "metadata": {
        "colab_type": "text",
        "id": "MLvKG40a84F9"
      },
      "cell_type": "markdown",
      "source": [
        "Modelo adaptado do **Lucas Albertins**\n",
        "\n",
        "*   Sem utilização das funções de regularização\n",
        "*   Função **SGD** para compilação\n",
        "*   Adicionado mais 2 camadas convolutivas"
      ]
    },
    {
      "metadata": {
        "colab_type": "code",
        "id": "9LrDSy5AMFDO",
        "colab": {}
      },
      "cell_type": "code",
      "source": [
        "from keras.layers import Conv2D, MaxPooling2D, GlobalMaxPooling2D, BatchNormalization\n",
        "from keras.regularizers import l2\n",
        "\n",
        "model = Sequential()\n",
        "\n",
        "model.add(Conv2D(32, (3, 3), activation='relu',input_shape=(None, None, 3)))\n",
        "model.add(BatchNormalization())\n",
        "model.add(Conv2D(32, (3, 3), activation='relu'))\n",
        "model.add(BatchNormalization())\n",
        "model.add(MaxPooling2D((2, 2)))\n",
        "model.add(Dropout(0.25))\n",
        "\n",
        "model.add(Conv2D(64, (3, 3), activation='relu'))\n",
        "model.add(BatchNormalization())\n",
        "model.add(Conv2D(64, (3, 3), activation='relu'))\n",
        "model.add(BatchNormalization())\n",
        "model.add(MaxPooling2D((2, 2)))\n",
        "model.add(Dropout(0.25))\n",
        "\n",
        "model.add(Conv2D(96, (3, 3),activation='relu'))\n",
        "model.add(BatchNormalization())\n",
        "model.add(Conv2D(96, (3, 3),activation='relu'))\n",
        "model.add(BatchNormalization())\n",
        "model.add(MaxPooling2D((2, 2)))\n",
        "model.add(Dropout(0.25))\n",
        "\n",
        "model.add(Conv2D(128, (1,1)))\n",
        "model.add(GlobalMaxPooling2D())\n",
        "\n",
        "model.add(Dense(256, activation='relu'))\n",
        "model.add(Dropout(0.5))\n",
        "model.add(Dense(2, activation='sigmoid'))"
      ],
      "execution_count": 0,
      "outputs": []
    },
    {
      "metadata": {
        "colab_type": "code",
        "id": "EUZ-2eyUMSxQ",
        "colab": {}
      },
      "cell_type": "code",
      "source": [
        "model.compile(SGD(lr=0.01, momentum=0.0, decay=0.0, nesterov=False), \n",
        "              loss='binary_crossentropy', metrics=['accuracy'])"
      ],
      "execution_count": 0,
      "outputs": []
    },
    {
      "metadata": {
        "colab_type": "code",
        "id": "-_TE6KwakRoT",
        "colab": {}
      },
      "cell_type": "code",
      "source": [
        "arquiteture = 'architecture_12'"
      ],
      "execution_count": 0,
      "outputs": []
    },
    {
      "metadata": {
        "colab_type": "code",
        "id": "t9LJH3RP9H7J",
        "colab": {}
      },
      "cell_type": "code",
      "source": [
        "checkpointer = ModelCheckpoint(filepath='drive/My Drive/Resultado/weights_' + arquiteture + '.hdf5', verbose=1, save_best_only=True)"
      ],
      "execution_count": 0,
      "outputs": []
    },
    {
      "metadata": {
        "colab_type": "code",
        "id": "nnQVNSzq9H7S",
        "outputId": "f2b69247-d35e-4983-8000-ec97fc6798ff",
        "colab": {
          "base_uri": "https://localhost:8080/",
          "height": 3690
        }
      },
      "cell_type": "code",
      "source": [
        "training = model.fit_generator(train_batches, steps_per_epoch=stepsPerEpoche, \n",
        "                   validation_data=validation_batches, validation_steps=validationSteps,\n",
        "                   epochs=50, verbose=2, callbacks=[checkpointer])"
      ],
      "execution_count": 105,
      "outputs": [
        {
          "output_type": "stream",
          "text": [
            "Epoch 1/50\n",
            " - 5s - loss: 1.6287 - acc: 0.4974 - val_loss: 0.8824 - val_acc: 0.4531\n",
            "\n",
            "Epoch 00001: val_loss improved from inf to 0.88238, saving model to drive/My Drive/Resultado/weights_architecture_12.hdf5\n",
            "Epoch 2/50\n",
            " - 1s - loss: 1.1796 - acc: 0.5703 - val_loss: 0.6158 - val_acc: 0.7344\n",
            "\n",
            "Epoch 00002: val_loss improved from 0.88238 to 0.61577, saving model to drive/My Drive/Resultado/weights_architecture_12.hdf5\n",
            "Epoch 3/50\n",
            " - 1s - loss: 1.1686 - acc: 0.5859 - val_loss: 0.6608 - val_acc: 0.5547\n",
            "\n",
            "Epoch 00003: val_loss did not improve from 0.61577\n",
            "Epoch 4/50\n",
            " - 1s - loss: 0.7947 - acc: 0.6224 - val_loss: 0.8727 - val_acc: 0.4453\n",
            "\n",
            "Epoch 00004: val_loss did not improve from 0.61577\n",
            "Epoch 5/50\n",
            " - 1s - loss: 0.8261 - acc: 0.6016 - val_loss: 0.6243 - val_acc: 0.7656\n",
            "\n",
            "Epoch 00005: val_loss did not improve from 0.61577\n",
            "Epoch 6/50\n",
            " - 1s - loss: 0.7019 - acc: 0.6615 - val_loss: 0.6559 - val_acc: 0.6016\n",
            "\n",
            "Epoch 00006: val_loss did not improve from 0.61577\n",
            "Epoch 7/50\n",
            " - 1s - loss: 0.7826 - acc: 0.5944 - val_loss: 0.6199 - val_acc: 0.7109\n",
            "\n",
            "Epoch 00007: val_loss did not improve from 0.61577\n",
            "Epoch 8/50\n",
            " - 1s - loss: 0.5772 - acc: 0.7396 - val_loss: 0.5570 - val_acc: 0.7812\n",
            "\n",
            "Epoch 00008: val_loss improved from 0.61577 to 0.55703, saving model to drive/My Drive/Resultado/weights_architecture_12.hdf5\n",
            "Epoch 9/50\n",
            " - 1s - loss: 0.5538 - acc: 0.7292 - val_loss: 0.5213 - val_acc: 0.8594\n",
            "\n",
            "Epoch 00009: val_loss improved from 0.55703 to 0.52131, saving model to drive/My Drive/Resultado/weights_architecture_12.hdf5\n",
            "Epoch 10/50\n",
            " - 1s - loss: 0.4828 - acc: 0.7943 - val_loss: 0.5241 - val_acc: 0.8281\n",
            "\n",
            "Epoch 00010: val_loss did not improve from 0.52131\n",
            "Epoch 11/50\n",
            " - 1s - loss: 0.4898 - acc: 0.7734 - val_loss: 0.4557 - val_acc: 0.7969\n",
            "\n",
            "Epoch 00011: val_loss improved from 0.52131 to 0.45571, saving model to drive/My Drive/Resultado/weights_architecture_12.hdf5\n",
            "Epoch 12/50\n",
            " - 1s - loss: 0.5212 - acc: 0.7630 - val_loss: 0.5351 - val_acc: 0.7891\n",
            "\n",
            "Epoch 00012: val_loss did not improve from 0.45571\n",
            "Epoch 13/50\n",
            " - 1s - loss: 0.4669 - acc: 0.7943 - val_loss: 0.5996 - val_acc: 0.6328\n",
            "\n",
            "Epoch 00013: val_loss did not improve from 0.45571\n",
            "Epoch 14/50\n",
            " - 1s - loss: 0.5589 - acc: 0.7500 - val_loss: 0.4372 - val_acc: 0.7969\n",
            "\n",
            "Epoch 00014: val_loss improved from 0.45571 to 0.43723, saving model to drive/My Drive/Resultado/weights_architecture_12.hdf5\n",
            "Epoch 15/50\n",
            " - 1s - loss: 0.5052 - acc: 0.7734 - val_loss: 0.4942 - val_acc: 0.7578\n",
            "\n",
            "Epoch 00015: val_loss did not improve from 0.43723\n",
            "Epoch 16/50\n",
            " - 1s - loss: 0.4912 - acc: 0.7734 - val_loss: 0.3618 - val_acc: 0.8906\n",
            "\n",
            "Epoch 00016: val_loss improved from 0.43723 to 0.36183, saving model to drive/My Drive/Resultado/weights_architecture_12.hdf5\n",
            "Epoch 17/50\n",
            " - 1s - loss: 0.5041 - acc: 0.7812 - val_loss: 0.4600 - val_acc: 0.7891\n",
            "\n",
            "Epoch 00017: val_loss did not improve from 0.36183\n",
            "Epoch 18/50\n",
            " - 1s - loss: 0.5011 - acc: 0.7708 - val_loss: 0.4053 - val_acc: 0.7838\n",
            "\n",
            "Epoch 00018: val_loss did not improve from 0.36183\n",
            "Epoch 19/50\n",
            " - 1s - loss: 0.4314 - acc: 0.8021 - val_loss: 0.4311 - val_acc: 0.8203\n",
            "\n",
            "Epoch 00019: val_loss did not improve from 0.36183\n",
            "Epoch 20/50\n",
            " - 1s - loss: 0.4325 - acc: 0.7917 - val_loss: 0.3012 - val_acc: 0.8750\n",
            "\n",
            "Epoch 00020: val_loss improved from 0.36183 to 0.30122, saving model to drive/My Drive/Resultado/weights_architecture_12.hdf5\n",
            "Epoch 21/50\n",
            " - 1s - loss: 0.4330 - acc: 0.8125 - val_loss: 0.3915 - val_acc: 0.8516\n",
            "\n",
            "Epoch 00021: val_loss did not improve from 0.30122\n",
            "Epoch 22/50\n",
            " - 1s - loss: 0.3240 - acc: 0.8594 - val_loss: 0.2808 - val_acc: 0.9297\n",
            "\n",
            "Epoch 00022: val_loss improved from 0.30122 to 0.28085, saving model to drive/My Drive/Resultado/weights_architecture_12.hdf5\n",
            "Epoch 23/50\n",
            " - 1s - loss: 0.4851 - acc: 0.7760 - val_loss: 0.4644 - val_acc: 0.7734\n",
            "\n",
            "Epoch 00023: val_loss did not improve from 0.28085\n",
            "Epoch 24/50\n",
            " - 1s - loss: 0.3241 - acc: 0.8776 - val_loss: 0.3540 - val_acc: 0.8906\n",
            "\n",
            "Epoch 00024: val_loss did not improve from 0.28085\n",
            "Epoch 25/50\n",
            " - 1s - loss: 0.3915 - acc: 0.8568 - val_loss: 0.4532 - val_acc: 0.7969\n",
            "\n",
            "Epoch 00025: val_loss did not improve from 0.28085\n",
            "Epoch 26/50\n",
            " - 1s - loss: 0.3695 - acc: 0.8438 - val_loss: 0.4554 - val_acc: 0.8359\n",
            "\n",
            "Epoch 00026: val_loss did not improve from 0.28085\n",
            "Epoch 27/50\n",
            " - 1s - loss: 0.4437 - acc: 0.8073 - val_loss: 0.3878 - val_acc: 0.8984\n",
            "\n",
            "Epoch 00027: val_loss did not improve from 0.28085\n",
            "Epoch 28/50\n",
            " - 1s - loss: 0.3534 - acc: 0.8464 - val_loss: 0.4171 - val_acc: 0.8750\n",
            "\n",
            "Epoch 00028: val_loss did not improve from 0.28085\n",
            "Epoch 29/50\n",
            " - 1s - loss: 0.4128 - acc: 0.8281 - val_loss: 0.4224 - val_acc: 0.8047\n",
            "\n",
            "Epoch 00029: val_loss did not improve from 0.28085\n",
            "Epoch 30/50\n",
            " - 1s - loss: 0.4064 - acc: 0.8203 - val_loss: 0.4093 - val_acc: 0.8594\n",
            "\n",
            "Epoch 00030: val_loss did not improve from 0.28085\n",
            "Epoch 31/50\n",
            " - 1s - loss: 0.3821 - acc: 0.8333 - val_loss: 0.3717 - val_acc: 0.8906\n",
            "\n",
            "Epoch 00031: val_loss did not improve from 0.28085\n",
            "Epoch 32/50\n",
            " - 1s - loss: 0.4086 - acc: 0.8307 - val_loss: 0.3610 - val_acc: 0.9062\n",
            "\n",
            "Epoch 00032: val_loss did not improve from 0.28085\n",
            "Epoch 33/50\n",
            " - 1s - loss: 0.3409 - acc: 0.8646 - val_loss: 0.3251 - val_acc: 0.9531\n",
            "\n",
            "Epoch 00033: val_loss did not improve from 0.28085\n",
            "Epoch 34/50\n",
            " - 1s - loss: 0.3214 - acc: 0.8802 - val_loss: 0.4137 - val_acc: 0.8750\n",
            "\n",
            "Epoch 00034: val_loss did not improve from 0.28085\n",
            "Epoch 35/50\n",
            " - 1s - loss: 0.3334 - acc: 0.8880 - val_loss: 0.3501 - val_acc: 0.9062\n",
            "\n",
            "Epoch 00035: val_loss did not improve from 0.28085\n",
            "Epoch 36/50\n",
            " - 1s - loss: 0.3157 - acc: 0.8776 - val_loss: 0.3304 - val_acc: 0.8984\n",
            "\n",
            "Epoch 00036: val_loss did not improve from 0.28085\n",
            "Epoch 37/50\n",
            " - 1s - loss: 0.4019 - acc: 0.8419 - val_loss: 0.3287 - val_acc: 0.9219\n",
            "\n",
            "Epoch 00037: val_loss did not improve from 0.28085\n",
            "Epoch 38/50\n",
            " - 1s - loss: 0.3078 - acc: 0.8568 - val_loss: 0.2836 - val_acc: 0.8984\n",
            "\n",
            "Epoch 00038: val_loss did not improve from 0.28085\n",
            "Epoch 39/50\n",
            " - 1s - loss: 0.3691 - acc: 0.8594 - val_loss: 0.3836 - val_acc: 0.8125\n",
            "\n",
            "Epoch 00039: val_loss did not improve from 0.28085\n",
            "Epoch 40/50\n",
            " - 1s - loss: 0.2888 - acc: 0.8802 - val_loss: 0.3638 - val_acc: 0.8516\n",
            "\n",
            "Epoch 00040: val_loss did not improve from 0.28085\n",
            "Epoch 41/50\n",
            " - 1s - loss: 0.2983 - acc: 0.8802 - val_loss: 0.2893 - val_acc: 0.8750\n",
            "\n",
            "Epoch 00041: val_loss did not improve from 0.28085\n",
            "Epoch 42/50\n",
            " - 1s - loss: 0.3271 - acc: 0.8620 - val_loss: 0.3009 - val_acc: 0.8514\n",
            "\n",
            "Epoch 00042: val_loss did not improve from 0.28085\n",
            "Epoch 43/50\n",
            " - 1s - loss: 0.3281 - acc: 0.8802 - val_loss: 0.4228 - val_acc: 0.8047\n",
            "\n",
            "Epoch 00043: val_loss did not improve from 0.28085\n",
            "Epoch 44/50\n",
            " - 1s - loss: 0.3063 - acc: 0.9115 - val_loss: 0.3435 - val_acc: 0.8359\n",
            "\n",
            "Epoch 00044: val_loss did not improve from 0.28085\n",
            "Epoch 45/50\n",
            " - 1s - loss: 0.3401 - acc: 0.8385 - val_loss: 0.3201 - val_acc: 0.8828\n",
            "\n",
            "Epoch 00045: val_loss did not improve from 0.28085\n",
            "Epoch 46/50\n",
            " - 1s - loss: 0.3381 - acc: 0.8568 - val_loss: 0.2757 - val_acc: 0.8906\n",
            "\n",
            "Epoch 00046: val_loss improved from 0.28085 to 0.27571, saving model to drive/My Drive/Resultado/weights_architecture_12.hdf5\n",
            "Epoch 47/50\n",
            " - 1s - loss: 0.2388 - acc: 0.9115 - val_loss: 0.3037 - val_acc: 0.8516\n",
            "\n",
            "Epoch 00047: val_loss did not improve from 0.27571\n",
            "Epoch 48/50\n",
            " - 1s - loss: 0.2595 - acc: 0.9089 - val_loss: 0.3032 - val_acc: 0.8594\n",
            "\n",
            "Epoch 00048: val_loss did not improve from 0.27571\n",
            "Epoch 49/50\n",
            " - 1s - loss: 0.4188 - acc: 0.8099 - val_loss: 0.2998 - val_acc: 0.8906\n",
            "\n",
            "Epoch 00049: val_loss did not improve from 0.27571\n",
            "Epoch 50/50\n",
            " - 1s - loss: 0.3195 - acc: 0.9036 - val_loss: 0.3083 - val_acc: 0.8750\n",
            "\n",
            "Epoch 00050: val_loss did not improve from 0.27571\n"
          ],
          "name": "stdout"
        }
      ]
    },
    {
      "metadata": {
        "colab_type": "code",
        "id": "5Z2o5TCGkRoi",
        "outputId": "ee55affd-46b1-459d-8538-8a5474d66446",
        "colab": {
          "base_uri": "https://localhost:8080/",
          "height": 380
        }
      },
      "cell_type": "code",
      "source": [
        "# plotar loss e accuracy para os datasets 'train' e 'test'\n",
        "plt.style.use(\"ggplot\")\n",
        "plt.figure()\n",
        "plt.plot(training.history['acc'], label='Accuracy')\n",
        "plt.plot(training.history['loss'], label='Loss')\n",
        "plt.xlabel('Epochs')\n",
        "plt.ylabel('Accuracy')\n",
        "plt.title(\"Training Loss and Accuracy\")\n",
        "plt.ylabel(\"Loss/Accuracy\")\n",
        "plt.legend()\n",
        "plt.savefig('drive/My Drive/Resultado/' + arquiteture + '.png', bbox_inches='tight')"
      ],
      "execution_count": 106,
      "outputs": [
        {
          "output_type": "display_data",
          "data": {
            "image/png": "[encoded data removed]",
            "text/plain": [
              "<matplotlib.figure.Figure at 0x7fd1ded667f0>"
            ]
          },
          "metadata": {
            "tags": []
          }
        }
      ]
    },
    {
      "metadata": {
        "colab_type": "code",
        "id": "gNjIuvcfkRou",
        "outputId": "8a4e8b27-f013-4ea5-ce7d-64f6c32dc603",
        "colab": {
          "base_uri": "https://localhost:8080/",
          "height": 54
        }
      },
      "cell_type": "code",
      "source": [
        "y_true, y_predict = ler_images_teste(arquiteture)"
      ],
      "execution_count": 107,
      "outputs": [
        {
          "output_type": "stream",
          "text": [
            "/usr/local/lib/python3.6/dist-packages/skimage/transform/_warps.py:84: UserWarning: The default mode, 'constant', will be changed to 'reflect' in skimage 0.15.\n",
            "  warn(\"The default mode, 'constant', will be changed to 'reflect' in \"\n"
          ],
          "name": "stderr"
        }
      ]
    },
    {
      "metadata": {
        "colab_type": "code",
        "id": "GpyaeT1LkRo2",
        "outputId": "b385ed4d-ffc2-4fde-e18b-5bc6bf668b6d",
        "colab": {
          "base_uri": "https://localhost:8080/",
          "height": 35
        }
      },
      "cell_type": "code",
      "source": [
        "results[arquiteture] = accuracy_score(y_true, y_predict)\n",
        "print('Test Accuracy: {:.2f}%'.format(100 * results[arquiteture]))"
      ],
      "execution_count": 108,
      "outputs": [
        {
          "output_type": "stream",
          "text": [
            "Test Accuracy: 80.15%\n"
          ],
          "name": "stdout"
        }
      ]
    }
  ]
}