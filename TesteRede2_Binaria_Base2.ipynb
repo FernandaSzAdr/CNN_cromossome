{
  "nbformat": 4,
  "nbformat_minor": 0,
  "metadata": {
    "colab": {
      "name": "TesteRede2_Binaria_Base2.ipynb",
      "version": "0.3.2",
      "provenance": [],
      "toc_visible": true,
      "include_colab_link": true
    },
    "kernelspec": {
      "name": "python3",
      "display_name": "Python 3"
    },
    "accelerator": "GPU"
  },
  "cells": [
    {
      "cell_type": "markdown",
      "metadata": {
        "id": "view-in-github",
        "colab_type": "text"
      },
      "source": [
        "<a href=\"https://colab.research.google.com/github/FernandaSzAdr/KNN_cromossome/blob/master/TesteRede2_Binaria_Base2.ipynb\" target=\"_parent\"><img src=\"https://colab.research.google.com/assets/colab-badge.svg\" alt=\"Open In Colab\"/></a>"
      ]
    },
    {
      "metadata": {
        "id": "xN-oUTtcif3Q",
        "colab_type": "code",
        "outputId": "a8cec1ef-6fce-4b49-8989-f0cc13c169bd",
        "colab": {
          "base_uri": "https://localhost:8080/",
          "height": 35
        }
      },
      "cell_type": "code",
      "source": [
        "# Load the Drive helper and mount\n",
        "from google.colab import drive\n",
        "\n",
        "# This will prompt for authorization.\n",
        "drive.mount('/content/drive/')"
      ],
      "execution_count": 1,
      "outputs": [
        {
          "output_type": "stream",
          "text": [
            "Drive already mounted at /content/drive/; to attempt to forcibly remount, call drive.mount(\"/content/drive/\", force_remount=True).\n"
          ],
          "name": "stdout"
        }
      ]
    },
    {
      "metadata": {
        "id": "gzcuEGSklnwS",
        "colab_type": "code",
        "outputId": "8ff03d81-0c80-4f83-e03d-e2f5578653a4",
        "colab": {
          "base_uri": "https://localhost:8080/",
          "height": 54
        }
      },
      "cell_type": "code",
      "source": [
        "import os\n",
        "import cv2\n",
        "import csv\n",
        "!pip install imutils\n",
        "import imutils\n",
        "from skimage import transform\n",
        "import numpy as np\n",
        "import keras\n",
        "from keras import backend as K\n",
        "from keras.models import Sequential\n",
        "from keras.layers import Activation\n",
        "from keras.optimizers import SGD\n",
        "from keras.layers.core import Dense, Flatten, Dropout\n",
        "from keras.preprocessing.image import ImageDataGenerator\n",
        "from keras.layers.normalization import BatchNormalization\n",
        "from keras.layers.convolutional import *\n",
        "from keras.callbacks import ModelCheckpoint\n",
        "from matplotlib import pyplot as plt\n",
        "from sklearn.metrics import confusion_matrix\n",
        "from sklearn.metrics import accuracy_score\n",
        "import itertools\n",
        "import matplotlib.pyplot as plt"
      ],
      "execution_count": 2,
      "outputs": [
        {
          "output_type": "stream",
          "text": [
            "Requirement already satisfied: imutils in /usr/local/lib/python3.6/dist-packages (0.5.1)\n"
          ],
          "name": "stdout"
        },
        {
          "output_type": "stream",
          "text": [
            "Using TensorFlow backend.\n"
          ],
          "name": "stderr"
        }
      ]
    },
    {
      "metadata": {
        "id": "ITtEfxrilym7",
        "colab_type": "code",
        "colab": {}
      },
      "cell_type": "code",
      "source": [
        "train_path = 'drive/My Drive/Base_CNN/Binarizado2/Train'\n",
        "test_path = 'drive/My Drive/Base_CNN/Binarizado2/Test'\n",
        "validation_path = 'drive/My Drive/Base_CNN/Binarizado2/Validation'"
      ],
      "execution_count": 0,
      "outputs": []
    },
    {
      "metadata": {
        "id": "e835RSQgEgA6",
        "colab_type": "code",
        "colab": {}
      },
      "cell_type": "code",
      "source": [
        "def converte(regiao):\n",
        "   regiao = np.array(regiao).astype('float32')/255\n",
        "   regiao = transform.resize(regiao, (120, 120, 3))\n",
        "   regiao = np.expand_dims(regiao, axis=0)\n",
        "   return regiao\n"
      ],
      "execution_count": 0,
      "outputs": []
    },
    {
      "metadata": {
        "id": "9ERJTQ3AgFJb",
        "colab_type": "code",
        "colab": {}
      },
      "cell_type": "code",
      "source": [
        "def ler_images_teste(arquiteture):\n",
        "  y_true = []\n",
        "  y_predict = []\n",
        "  images_test = os.listdir(test_path)\n",
        "  local = 'drive/My Drive/Base_CNN/Binarizado2/Resultado_Image/' + arquiteture\n",
        "  if os.path.isdir(local) == False:\n",
        "    os.mkdir(local)\n",
        "  \n",
        "  for img in images_test:\n",
        "    image = cv2.imread(test_path + '/' + img)\n",
        "    f = open('drive/My Drive/Base_CNN/Binarizado2/posicoes_segmentada.csv', 'r')\n",
        "    \n",
        "    copia = image.copy()\n",
        "\n",
        "    try:\n",
        "      leitor = csv.reader(f)\n",
        "      leitor = list(leitor)\n",
        "      leitor.pop(0)\n",
        "      for linha in leitor:\n",
        "        if len(linha) > 0:\n",
        "          if linha[0] == img:\n",
        "            posicoes = []\n",
        "            x = int(linha[3])\n",
        "            y = int(linha[4])\n",
        "            w = int(linha[5])\n",
        "            h = int(linha[6])\n",
        "            \n",
        "            label = linha[1]\n",
        "            if label == 'NC':\n",
        "              y_true.append(1)\n",
        "            else:\n",
        "              y_true.append(0)\n",
        "\n",
        "            regiao = image[y: y + h, x: x + w]\n",
        "            regiao = converte(regiao)\n",
        "\n",
        "            predicao = model.predict(regiao,batch_size=bSize,verbose=0)\n",
        "            \n",
        "            if predicao[0][0] > predicao[0][1]:\n",
        "              y_predict.append(0)\n",
        "              cv2.rectangle(copia,(x, y),(x+w, y+h),(0,255,0), 1)\n",
        "            else:\n",
        "              y_predict.append(1)\n",
        "              cv2.rectangle(copia,(x, y),(x+w, y+h),(0,0,255), 1)\n",
        "                        \n",
        "    finally:\n",
        "      f.close()\n",
        "    \n",
        "    cv2.imwrite(local + '/' + img, copia)\n",
        "  \n",
        "  return y_true, y_predict\n"
      ],
      "execution_count": 0,
      "outputs": []
    },
    {
      "metadata": {
        "id": "WlPBqB_v3x2A",
        "colab_type": "text"
      },
      "cell_type": "markdown",
      "source": [
        "\n",
        "\n",
        "---\n",
        "\n"
      ]
    },
    {
      "metadata": {
        "id": "8KTtm8K7qg1n",
        "colab_type": "text"
      },
      "cell_type": "markdown",
      "source": [
        "## Implementação"
      ]
    },
    {
      "metadata": {
        "id": "ZNfohSUpo1n0",
        "colab_type": "text"
      },
      "cell_type": "markdown",
      "source": [
        "\n",
        "\n",
        "*   Batch size = 32\n",
        "*   Image size = 120x120\n",
        "\n"
      ]
    },
    {
      "metadata": {
        "id": "_TFWtLbQ2fUI",
        "colab_type": "code",
        "colab": {}
      },
      "cell_type": "code",
      "source": [
        "results = {}"
      ],
      "execution_count": 0,
      "outputs": []
    },
    {
      "metadata": {
        "id": "W3zmFDRmnYem",
        "colab_type": "code",
        "colab": {}
      },
      "cell_type": "code",
      "source": [
        "bSize = 32"
      ],
      "execution_count": 0,
      "outputs": []
    },
    {
      "metadata": {
        "id": "dCNH0jPl3WTV",
        "colab_type": "code",
        "colab": {}
      },
      "cell_type": "code",
      "source": [
        "datagen = ImageDataGenerator(rescale=1/255.)"
      ],
      "execution_count": 0,
      "outputs": []
    },
    {
      "metadata": {
        "id": "YiMXe23Vmbo-",
        "colab_type": "code",
        "outputId": "c0592bd9-6ced-4c85-b6b4-a0bfe0877ae2",
        "colab": {
          "base_uri": "https://localhost:8080/",
          "height": 54
        }
      },
      "cell_type": "code",
      "source": [
        "train_batches = datagen.flow_from_directory(train_path, target_size=(120, 120), \n",
        "                                            classes=['C', 'NC'], \n",
        "                                            batch_size=bSize)\n",
        "validation_batches = datagen.flow_from_directory(validation_path, \n",
        "                                                 target_size=(120, 120), \n",
        "                                                 classes=['C', 'NC'], \n",
        "                                                 batch_size=bSize)"
      ],
      "execution_count": 9,
      "outputs": [
        {
          "output_type": "stream",
          "text": [
            "Found 4230 images belonging to 2 classes.\n",
            "Found 1100 images belonging to 2 classes.\n"
          ],
          "name": "stdout"
        }
      ]
    },
    {
      "metadata": {
        "id": "vE-dZtSv5mde",
        "colab_type": "code",
        "colab": {}
      },
      "cell_type": "code",
      "source": [
        "stepsPerEpoche = len(train_batches)/bSize\n",
        "validationSteps = len(validation_batches)/bSize"
      ],
      "execution_count": 0,
      "outputs": []
    },
    {
      "metadata": {
        "id": "tY7Fxpczz0wk",
        "colab_type": "text"
      },
      "cell_type": "markdown",
      "source": [
        "\n",
        "\n",
        "---\n",
        "\n"
      ]
    },
    {
      "metadata": {
        "id": "wH56YdE5rlnU",
        "colab_type": "text"
      },
      "cell_type": "markdown",
      "source": [
        "### 1 tentativa Accuracy: 83.02%\n"
      ]
    },
    {
      "metadata": {
        "id": "NBCIFVOlompR",
        "colab_type": "text"
      },
      "cell_type": "markdown",
      "source": [
        "**Descrição**\n",
        "\n",
        "\n",
        "*   Modelo descrito no artigo \"Crowdsourcing for Chromosome Segmentation and Deep Classification\"\n",
        "\n"
      ]
    },
    {
      "metadata": {
        "id": "rNosdG-ioNYU",
        "colab_type": "code",
        "colab": {}
      },
      "cell_type": "code",
      "source": [
        "model = Sequential([\n",
        "    Conv2D(64, (3, 3), activation='relu', input_shape=(120, 120, 3)),\n",
        "    Conv2D(64, (3, 3), activation='relu'),\n",
        "    Dropout(0.2),\n",
        "    MaxPooling2D(pool_size=(2, 2)),\n",
        "   \n",
        "    Conv2D(32, (3, 3), activation='relu'),\n",
        "    Conv2D(32, (3, 3), activation='relu'),\n",
        "    Dropout(0.2),\n",
        "    MaxPooling2D(pool_size=(2, 2)),\n",
        "   \n",
        "    Conv2D(16, (3, 3), activation='relu'),\n",
        "    Conv2D(16, (3, 3), activation='relu'),\n",
        "    Dropout(0.2),\n",
        "    MaxPooling2D(pool_size=(2, 2)),\n",
        "   \n",
        "    Conv2D(8, (3, 3), activation='relu'),\n",
        "    Conv2D(8, (3, 3), activation='relu'),\n",
        "    Dropout(0.2),\n",
        "    MaxPooling2D(pool_size=(2, 2)),\n",
        "    \n",
        "    Flatten(),\n",
        "    Dense(1024, activation='sigmoid'),\n",
        "    Dense(512, activation='sigmoid'),\n",
        "   \n",
        "    Dense(2, activation='softmax')\n",
        "]\n",
        ")"
      ],
      "execution_count": 0,
      "outputs": []
    },
    {
      "metadata": {
        "id": "UBqwdK2Bxagj",
        "colab_type": "code",
        "colab": {}
      },
      "cell_type": "code",
      "source": [
        "model.compile(SGD(lr=0.01, momentum=0.0, decay=0.0, nesterov=False), \n",
        "              loss='categorical_crossentropy', metrics=['accuracy'])"
      ],
      "execution_count": 0,
      "outputs": []
    },
    {
      "metadata": {
        "id": "iclhpyXmi_DU",
        "colab_type": "code",
        "colab": {}
      },
      "cell_type": "code",
      "source": [
        "arquiteture = 'architecture_1'"
      ],
      "execution_count": 0,
      "outputs": []
    },
    {
      "metadata": {
        "colab_type": "code",
        "id": "LqOsSip-k_v7",
        "colab": {}
      },
      "cell_type": "code",
      "source": [
        "checkpointer = ModelCheckpoint(filepath='drive/My Drive/Resultado/weights_' + arquiteture + '.hdf5', verbose=1, save_best_only=True)"
      ],
      "execution_count": 0,
      "outputs": []
    },
    {
      "metadata": {
        "id": "PeyX7Mzf5lDw",
        "colab_type": "code",
        "colab": {
          "base_uri": "https://localhost:8080/",
          "height": 3690
        },
        "outputId": "66149ed0-b4f7-4745-b0c7-41049e1c37b2"
      },
      "cell_type": "code",
      "source": [
        "training = model.fit_generator(train_batches, steps_per_epoch=stepsPerEpoche, \n",
        "                   validation_data=validation_batches, validation_steps=validationSteps,\n",
        "                   epochs=50, verbose=2, callbacks=[checkpointer])"
      ],
      "execution_count": 15,
      "outputs": [
        {
          "output_type": "stream",
          "text": [
            "Epoch 1/50\n",
            " - 4s - loss: 0.6949 - acc: 0.4813 - val_loss: 0.6862 - val_acc: 0.5625\n",
            "\n",
            "Epoch 00001: val_loss improved from inf to 0.68623, saving model to drive/My Drive/Resultado/weights_architecture_1.hdf5\n",
            "Epoch 2/50\n",
            " - 1s - loss: 0.6963 - acc: 0.5187 - val_loss: 0.6920 - val_acc: 0.5312\n",
            "\n",
            "Epoch 00002: val_loss did not improve from 0.68623\n",
            "Epoch 3/50\n",
            " - 1s - loss: 0.6811 - acc: 0.5625 - val_loss: 0.7284 - val_acc: 0.5312\n",
            "\n",
            "Epoch 00003: val_loss did not improve from 0.68623\n",
            "Epoch 4/50\n",
            " - 1s - loss: 0.7277 - acc: 0.4937 - val_loss: 0.6904 - val_acc: 0.5469\n",
            "\n",
            "Epoch 00004: val_loss did not improve from 0.68623\n",
            "Epoch 5/50\n",
            " - 1s - loss: 0.6948 - acc: 0.5125 - val_loss: 0.7025 - val_acc: 0.5156\n",
            "\n",
            "Epoch 00005: val_loss did not improve from 0.68623\n",
            "Epoch 6/50\n",
            " - 1s - loss: 0.6707 - acc: 0.5750 - val_loss: 0.8698 - val_acc: 0.4375\n",
            "\n",
            "Epoch 00006: val_loss did not improve from 0.68623\n",
            "Epoch 7/50\n",
            " - 1s - loss: 0.7390 - acc: 0.5062 - val_loss: 0.6936 - val_acc: 0.5000\n",
            "\n",
            "Epoch 00007: val_loss did not improve from 0.68623\n",
            "Epoch 8/50\n",
            " - 1s - loss: 0.7064 - acc: 0.4875 - val_loss: 0.6794 - val_acc: 0.6094\n",
            "\n",
            "Epoch 00008: val_loss improved from 0.68623 to 0.67938, saving model to drive/My Drive/Resultado/weights_architecture_1.hdf5\n",
            "Epoch 9/50\n",
            " - 1s - loss: 0.7109 - acc: 0.5250 - val_loss: 0.6642 - val_acc: 0.6250\n",
            "\n",
            "Epoch 00009: val_loss improved from 0.67938 to 0.66424, saving model to drive/My Drive/Resultado/weights_architecture_1.hdf5\n",
            "Epoch 10/50\n",
            " - 1s - loss: 0.7046 - acc: 0.4688 - val_loss: 0.6960 - val_acc: 0.5156\n",
            "\n",
            "Epoch 00010: val_loss did not improve from 0.66424\n",
            "Epoch 11/50\n",
            " - 1s - loss: 0.6918 - acc: 0.5375 - val_loss: 0.7020 - val_acc: 0.5156\n",
            "\n",
            "Epoch 00011: val_loss did not improve from 0.66424\n",
            "Epoch 12/50\n",
            " - 1s - loss: 0.7041 - acc: 0.4875 - val_loss: 0.7040 - val_acc: 0.4219\n",
            "\n",
            "Epoch 00012: val_loss did not improve from 0.66424\n",
            "Epoch 13/50\n",
            " - 1s - loss: 0.6989 - acc: 0.4875 - val_loss: 0.6835 - val_acc: 0.5938\n",
            "\n",
            "Epoch 00013: val_loss did not improve from 0.66424\n",
            "Epoch 14/50\n",
            " - 1s - loss: 0.6967 - acc: 0.4813 - val_loss: 0.6818 - val_acc: 0.6094\n",
            "\n",
            "Epoch 00014: val_loss did not improve from 0.66424\n",
            "Epoch 15/50\n",
            " - 1s - loss: 0.7037 - acc: 0.5000 - val_loss: 0.6929 - val_acc: 0.5156\n",
            "\n",
            "Epoch 00015: val_loss did not improve from 0.66424\n",
            "Epoch 16/50\n",
            " - 1s - loss: 0.6965 - acc: 0.4875 - val_loss: 0.6948 - val_acc: 0.4688\n",
            "\n",
            "Epoch 00016: val_loss did not improve from 0.66424\n",
            "Epoch 17/50\n",
            " - 1s - loss: 0.6957 - acc: 0.4875 - val_loss: 0.7185 - val_acc: 0.3906\n",
            "\n",
            "Epoch 00017: val_loss did not improve from 0.66424\n",
            "Epoch 18/50\n",
            " - 1s - loss: 0.7090 - acc: 0.5375 - val_loss: 0.6860 - val_acc: 0.5909\n",
            "\n",
            "Epoch 00018: val_loss did not improve from 0.66424\n",
            "Epoch 19/50\n",
            " - 1s - loss: 0.6935 - acc: 0.5000 - val_loss: 0.7046 - val_acc: 0.4688\n",
            "\n",
            "Epoch 00019: val_loss did not improve from 0.66424\n",
            "Epoch 20/50\n",
            " - 1s - loss: 0.6966 - acc: 0.5125 - val_loss: 0.7292 - val_acc: 0.4375\n",
            "\n",
            "Epoch 00020: val_loss did not improve from 0.66424\n",
            "Epoch 21/50\n",
            " - 1s - loss: 0.7009 - acc: 0.5563 - val_loss: 0.6934 - val_acc: 0.5000\n",
            "\n",
            "Epoch 00021: val_loss did not improve from 0.66424\n",
            "Epoch 22/50\n",
            " - 1s - loss: 0.7050 - acc: 0.4438 - val_loss: 0.6765 - val_acc: 0.5938\n",
            "\n",
            "Epoch 00022: val_loss did not improve from 0.66424\n",
            "Epoch 23/50\n",
            " - 1s - loss: 0.7253 - acc: 0.4125 - val_loss: 0.6824 - val_acc: 0.5781\n",
            "\n",
            "Epoch 00023: val_loss did not improve from 0.66424\n",
            "Epoch 24/50\n",
            " - 1s - loss: 0.7056 - acc: 0.4688 - val_loss: 0.6990 - val_acc: 0.5000\n",
            "\n",
            "Epoch 00024: val_loss did not improve from 0.66424\n",
            "Epoch 25/50\n",
            " - 1s - loss: 0.6976 - acc: 0.4937 - val_loss: 0.7285 - val_acc: 0.4531\n",
            "\n",
            "Epoch 00025: val_loss did not improve from 0.66424\n",
            "Epoch 26/50\n",
            " - 1s - loss: 0.6969 - acc: 0.5375 - val_loss: 0.7007 - val_acc: 0.4531\n",
            "\n",
            "Epoch 00026: val_loss did not improve from 0.66424\n",
            "Epoch 27/50\n",
            " - 1s - loss: 0.7161 - acc: 0.4516 - val_loss: 0.6900 - val_acc: 0.5469\n",
            "\n",
            "Epoch 00027: val_loss did not improve from 0.66424\n",
            "Epoch 28/50\n",
            " - 1s - loss: 0.7006 - acc: 0.5438 - val_loss: 0.7310 - val_acc: 0.4844\n",
            "\n",
            "Epoch 00028: val_loss did not improve from 0.66424\n",
            "Epoch 29/50\n",
            " - 1s - loss: 0.7140 - acc: 0.4750 - val_loss: 0.7725 - val_acc: 0.3281\n",
            "\n",
            "Epoch 00029: val_loss did not improve from 0.66424\n",
            "Epoch 30/50\n",
            " - 1s - loss: 0.7013 - acc: 0.5062 - val_loss: 0.6764 - val_acc: 0.6094\n",
            "\n",
            "Epoch 00030: val_loss did not improve from 0.66424\n",
            "Epoch 31/50\n",
            " - 1s - loss: 0.7205 - acc: 0.4562 - val_loss: 0.6908 - val_acc: 0.5625\n",
            "\n",
            "Epoch 00031: val_loss did not improve from 0.66424\n",
            "Epoch 32/50\n",
            " - 1s - loss: 0.7078 - acc: 0.5062 - val_loss: 0.7045 - val_acc: 0.4531\n",
            "\n",
            "Epoch 00032: val_loss did not improve from 0.66424\n",
            "Epoch 33/50\n",
            " - 1s - loss: 0.6971 - acc: 0.5062 - val_loss: 0.6943 - val_acc: 0.4688\n",
            "\n",
            "Epoch 00033: val_loss did not improve from 0.66424\n",
            "Epoch 34/50\n",
            " - 1s - loss: 0.6920 - acc: 0.5812 - val_loss: 0.7083 - val_acc: 0.4844\n",
            "\n",
            "Epoch 00034: val_loss did not improve from 0.66424\n",
            "Epoch 35/50\n",
            " - 1s - loss: 0.6975 - acc: 0.4875 - val_loss: 0.6968 - val_acc: 0.5000\n",
            "\n",
            "Epoch 00035: val_loss did not improve from 0.66424\n",
            "Epoch 36/50\n",
            " - 1s - loss: 0.7026 - acc: 0.5000 - val_loss: 0.6933 - val_acc: 0.4844\n",
            "\n",
            "Epoch 00036: val_loss did not improve from 0.66424\n",
            "Epoch 37/50\n",
            " - 1s - loss: 0.7127 - acc: 0.4562 - val_loss: 0.6901 - val_acc: 0.5781\n",
            "\n",
            "Epoch 00037: val_loss did not improve from 0.66424\n",
            "Epoch 38/50\n",
            " - 1s - loss: 0.6900 - acc: 0.5250 - val_loss: 0.7107 - val_acc: 0.5000\n",
            "\n",
            "Epoch 00038: val_loss did not improve from 0.66424\n",
            "Epoch 39/50\n",
            " - 1s - loss: 0.6957 - acc: 0.5187 - val_loss: 0.6872 - val_acc: 0.5625\n",
            "\n",
            "Epoch 00039: val_loss did not improve from 0.66424\n",
            "Epoch 40/50\n",
            " - 1s - loss: 0.7015 - acc: 0.4875 - val_loss: 0.7162 - val_acc: 0.4062\n",
            "\n",
            "Epoch 00040: val_loss did not improve from 0.66424\n",
            "Epoch 41/50\n",
            " - 1s - loss: 0.6987 - acc: 0.5687 - val_loss: 0.7107 - val_acc: 0.4531\n",
            "\n",
            "Epoch 00041: val_loss did not improve from 0.66424\n",
            "Epoch 42/50\n",
            " - 1s - loss: 0.6994 - acc: 0.4688 - val_loss: 0.7033 - val_acc: 0.5000\n",
            "\n",
            "Epoch 00042: val_loss did not improve from 0.66424\n",
            "Epoch 43/50\n",
            " - 1s - loss: 0.7215 - acc: 0.4250 - val_loss: 0.6928 - val_acc: 0.5156\n",
            "\n",
            "Epoch 00043: val_loss did not improve from 0.66424\n",
            "Epoch 44/50\n",
            " - 1s - loss: 0.7099 - acc: 0.4188 - val_loss: 0.7123 - val_acc: 0.5156\n",
            "\n",
            "Epoch 00044: val_loss did not improve from 0.66424\n",
            "Epoch 45/50\n",
            " - 1s - loss: 0.7004 - acc: 0.5250 - val_loss: 0.7087 - val_acc: 0.4531\n",
            "\n",
            "Epoch 00045: val_loss did not improve from 0.66424\n",
            "Epoch 46/50\n",
            " - 1s - loss: 0.7306 - acc: 0.4125 - val_loss: 0.6939 - val_acc: 0.4531\n",
            "\n",
            "Epoch 00046: val_loss did not improve from 0.66424\n",
            "Epoch 47/50\n",
            " - 1s - loss: 0.7213 - acc: 0.4875 - val_loss: 0.7013 - val_acc: 0.4531\n",
            "\n",
            "Epoch 00047: val_loss did not improve from 0.66424\n",
            "Epoch 48/50\n",
            " - 1s - loss: 0.6905 - acc: 0.5312 - val_loss: 0.7313 - val_acc: 0.4688\n",
            "\n",
            "Epoch 00048: val_loss did not improve from 0.66424\n",
            "Epoch 49/50\n",
            " - 1s - loss: 0.7006 - acc: 0.5062 - val_loss: 0.6903 - val_acc: 0.5781\n",
            "\n",
            "Epoch 00049: val_loss did not improve from 0.66424\n",
            "Epoch 50/50\n",
            " - 1s - loss: 0.6927 - acc: 0.5250 - val_loss: 0.6899 - val_acc: 0.5469\n",
            "\n",
            "Epoch 00050: val_loss did not improve from 0.66424\n"
          ],
          "name": "stdout"
        }
      ]
    },
    {
      "metadata": {
        "id": "c1LR04eV6AJ5",
        "colab_type": "code",
        "colab": {}
      },
      "cell_type": "code",
      "source": [
        "model.load_weights('drive/My Drive/Resultado/weights_architecture_1.hdf5')"
      ],
      "execution_count": 0,
      "outputs": []
    },
    {
      "metadata": {
        "id": "VeLCe59ltne5",
        "colab_type": "code",
        "colab": {
          "base_uri": "https://localhost:8080/",
          "height": 380
        },
        "outputId": "33d56200-5374-4db5-c089-af805e4ee520"
      },
      "cell_type": "code",
      "source": [
        "# plotar loss e accuracy para os datasets 'train' e 'test'\n",
        "plt.style.use(\"ggplot\")\n",
        "plt.figure()\n",
        "plt.plot(training.history['acc'], label='Accuracy')\n",
        "plt.plot(training.history['loss'], label='Loss')\n",
        "plt.xlabel('Epochs')\n",
        "plt.ylabel('Accuracy')\n",
        "plt.title(\"Training Loss and Accuracy\")\n",
        "plt.ylabel(\"Loss/Accuracy\")\n",
        "plt.legend()\n",
        "plt.savefig('drive/My Drive/Resultado/' + arquiteture + '.png', bbox_inches='tight')"
      ],
      "execution_count": 17,
      "outputs": [
        {
          "output_type": "display_data",
          "data": {
            "image/png": "[encoded data removed]",
            "text/plain": [
              "<matplotlib.figure.Figure at 0x7f61d7eb7dd8>"
            ]
          },
          "metadata": {
            "tags": []
          }
        }
      ]
    },
    {
      "metadata": {
        "id": "CuxP4w361rkP",
        "colab_type": "code",
        "colab": {
          "base_uri": "https://localhost:8080/",
          "height": 54
        },
        "outputId": "6bb3d4ad-a2b3-498c-c7f8-5979f4252933"
      },
      "cell_type": "code",
      "source": [
        "y_true, y_predict = ler_images_teste(arquiteture)"
      ],
      "execution_count": 18,
      "outputs": [
        {
          "output_type": "stream",
          "text": [
            "/usr/local/lib/python3.6/dist-packages/skimage/transform/_warps.py:84: UserWarning: The default mode, 'constant', will be changed to 'reflect' in skimage 0.15.\n",
            "  warn(\"The default mode, 'constant', will be changed to 'reflect' in \"\n"
          ],
          "name": "stderr"
        }
      ]
    },
    {
      "metadata": {
        "id": "Juqn8SXr0VvZ",
        "colab_type": "code",
        "colab": {
          "base_uri": "https://localhost:8080/",
          "height": 35
        },
        "outputId": "38b54518-e58e-4874-b9fb-91f3403a12ed"
      },
      "cell_type": "code",
      "source": [
        "results[arquiteture] = accuracy_score(y_true, y_predict)\n",
        "print('Test Accuracy: {:.2f}%'.format(100 * results[arquiteture]))"
      ],
      "execution_count": 19,
      "outputs": [
        {
          "output_type": "stream",
          "text": [
            "Test Accuracy: 83.02%\n"
          ],
          "name": "stdout"
        }
      ]
    },
    {
      "metadata": {
        "id": "71jZE6lXsmgW",
        "colab_type": "text"
      },
      "cell_type": "markdown",
      "source": [
        "\n",
        "\n",
        "---\n",
        "\n"
      ]
    },
    {
      "metadata": {
        "id": "T7nOK0TDr6Hc",
        "colab_type": "text"
      },
      "cell_type": "markdown",
      "source": [
        "### 2 tentativa Accuracy: 80.87%"
      ]
    },
    {
      "metadata": {
        "colab_type": "text",
        "id": "-DJtvxKNp9sb"
      },
      "cell_type": "markdown",
      "source": [
        "**Descrição**\n",
        "\n",
        "\n",
        "*   Modelo descrito no artigo \"Crowdsourcing for Chromosome Segmentation and Deep Classification\"\n",
        "*   Alteração nas duas ultimas camadas Dense\n",
        "\n",
        "\n",
        "\n"
      ]
    },
    {
      "metadata": {
        "colab_type": "code",
        "id": "2PSEo_Mzr8zK",
        "colab": {}
      },
      "cell_type": "code",
      "source": [
        "model = Sequential([\n",
        "    Conv2D(64, (3, 3), activation='relu', input_shape=(120, 120, 3)),\n",
        "    Conv2D(64, (3, 3), activation='relu'),\n",
        "    Dropout(0.2),\n",
        "    MaxPooling2D(pool_size=(2, 2)),\n",
        "   \n",
        "    Conv2D(32, (3, 3), activation='relu'),\n",
        "    Conv2D(32, (3, 3), activation='relu'),\n",
        "    Dropout(0.2),\n",
        "    MaxPooling2D(pool_size=(2, 2)),\n",
        "   \n",
        "    Conv2D(16, (3, 3), activation='relu'),\n",
        "    Conv2D(16, (3, 3), activation='relu'),\n",
        "    Dropout(0.2),\n",
        "    MaxPooling2D(pool_size=(2, 2)),\n",
        "   \n",
        "    Conv2D(8, (3, 3), activation='relu'),\n",
        "    Conv2D(8, (3, 3), activation='relu'),\n",
        "    Dropout(0.2),\n",
        "    MaxPooling2D(pool_size=(2, 2)),\n",
        "    \n",
        "    Flatten(),\n",
        "    Dense(512, activation='relu'),\n",
        "   \n",
        "    Dense(2, activation='softmax')\n",
        "]\n",
        ")"
      ],
      "execution_count": 0,
      "outputs": []
    },
    {
      "metadata": {
        "colab_type": "code",
        "id": "wTvCLywPr8zj",
        "colab": {}
      },
      "cell_type": "code",
      "source": [
        "model.compile(SGD(lr=0.01, momentum=0.0, decay=0.0, nesterov=False), \n",
        "              loss='categorical_crossentropy', metrics=['accuracy'])"
      ],
      "execution_count": 0,
      "outputs": []
    },
    {
      "metadata": {
        "colab_type": "code",
        "id": "B1aiec4IjnND",
        "colab": {}
      },
      "cell_type": "code",
      "source": [
        "arquiteture = 'architecture_2'"
      ],
      "execution_count": 0,
      "outputs": []
    },
    {
      "metadata": {
        "colab_type": "code",
        "id": "KF_vnzR7k8bw",
        "colab": {}
      },
      "cell_type": "code",
      "source": [
        "checkpointer = ModelCheckpoint(filepath='drive/My Drive/Resultado/weights_' + arquiteture + '.hdf5', verbose=1, save_best_only=True)"
      ],
      "execution_count": 0,
      "outputs": []
    },
    {
      "metadata": {
        "colab_type": "code",
        "id": "P5mNUnc52wDQ",
        "colab": {
          "base_uri": "https://localhost:8080/",
          "height": 3690
        },
        "outputId": "7688e58f-979f-4652-87b0-0469ec4ffc6a"
      },
      "cell_type": "code",
      "source": [
        "training = model.fit_generator(train_batches, steps_per_epoch=stepsPerEpoche, \n",
        "                   validation_data=validation_batches, validation_steps=validationSteps,\n",
        "                   epochs=50, verbose=2, callbacks=[checkpointer])"
      ],
      "execution_count": 24,
      "outputs": [
        {
          "output_type": "stream",
          "text": [
            "Epoch 1/50\n",
            " - 2s - loss: 0.6927 - acc: 0.5484 - val_loss: 0.6935 - val_acc: 0.4844\n",
            "\n",
            "Epoch 00001: val_loss improved from inf to 0.69350, saving model to drive/My Drive/Resultado/weights_architecture_2.hdf5\n",
            "Epoch 2/50\n",
            " - 1s - loss: 0.6938 - acc: 0.4750 - val_loss: 0.6928 - val_acc: 0.5156\n",
            "\n",
            "Epoch 00002: val_loss improved from 0.69350 to 0.69279, saving model to drive/My Drive/Resultado/weights_architecture_2.hdf5\n",
            "Epoch 3/50\n",
            " - 1s - loss: 0.6940 - acc: 0.4562 - val_loss: 0.6929 - val_acc: 0.5781\n",
            "\n",
            "Epoch 00003: val_loss did not improve from 0.69279\n",
            "Epoch 4/50\n",
            " - 1s - loss: 0.6933 - acc: 0.5000 - val_loss: 0.6921 - val_acc: 0.5625\n",
            "\n",
            "Epoch 00004: val_loss improved from 0.69279 to 0.69213, saving model to drive/My Drive/Resultado/weights_architecture_2.hdf5\n",
            "Epoch 5/50\n",
            " - 1s - loss: 0.6931 - acc: 0.4500 - val_loss: 0.6929 - val_acc: 0.5156\n",
            "\n",
            "Epoch 00005: val_loss did not improve from 0.69213\n",
            "Epoch 6/50\n",
            " - 1s - loss: 0.6928 - acc: 0.5250 - val_loss: 0.6928 - val_acc: 0.5781\n",
            "\n",
            "Epoch 00006: val_loss did not improve from 0.69213\n",
            "Epoch 7/50\n",
            " - 1s - loss: 0.6928 - acc: 0.5375 - val_loss: 0.6931 - val_acc: 0.5312\n",
            "\n",
            "Epoch 00007: val_loss did not improve from 0.69213\n",
            "Epoch 8/50\n",
            " - 1s - loss: 0.6935 - acc: 0.4375 - val_loss: 0.6928 - val_acc: 0.5781\n",
            "\n",
            "Epoch 00008: val_loss did not improve from 0.69213\n",
            "Epoch 9/50\n",
            " - 1s - loss: 0.6920 - acc: 0.5500 - val_loss: 0.6926 - val_acc: 0.5156\n",
            "\n",
            "Epoch 00009: val_loss did not improve from 0.69213\n",
            "Epoch 10/50\n",
            " - 1s - loss: 0.6934 - acc: 0.4562 - val_loss: 0.6927 - val_acc: 0.5625\n",
            "\n",
            "Epoch 00010: val_loss did not improve from 0.69213\n",
            "Epoch 11/50\n",
            " - 1s - loss: 0.6927 - acc: 0.5500 - val_loss: 0.6927 - val_acc: 0.5469\n",
            "\n",
            "Epoch 00011: val_loss did not improve from 0.69213\n",
            "Epoch 12/50\n",
            " - 1s - loss: 0.6908 - acc: 0.6000 - val_loss: 0.6915 - val_acc: 0.5781\n",
            "\n",
            "Epoch 00012: val_loss improved from 0.69213 to 0.69154, saving model to drive/My Drive/Resultado/weights_architecture_2.hdf5\n",
            "Epoch 13/50\n",
            " - 1s - loss: 0.6912 - acc: 0.5563 - val_loss: 0.6925 - val_acc: 0.4844\n",
            "\n",
            "Epoch 00013: val_loss did not improve from 0.69154\n",
            "Epoch 14/50\n",
            " - 1s - loss: 0.6943 - acc: 0.4562 - val_loss: 0.6930 - val_acc: 0.4688\n",
            "\n",
            "Epoch 00014: val_loss did not improve from 0.69154\n",
            "Epoch 15/50\n",
            " - 1s - loss: 0.6900 - acc: 0.5563 - val_loss: 0.6927 - val_acc: 0.5000\n",
            "\n",
            "Epoch 00015: val_loss did not improve from 0.69154\n",
            "Epoch 16/50\n",
            " - 1s - loss: 0.6921 - acc: 0.5000 - val_loss: 0.6903 - val_acc: 0.5781\n",
            "\n",
            "Epoch 00016: val_loss improved from 0.69154 to 0.69032, saving model to drive/My Drive/Resultado/weights_architecture_2.hdf5\n",
            "Epoch 17/50\n",
            " - 1s - loss: 0.6925 - acc: 0.4875 - val_loss: 0.6940 - val_acc: 0.4531\n",
            "\n",
            "Epoch 00017: val_loss did not improve from 0.69032\n",
            "Epoch 18/50\n",
            " - 1s - loss: 0.6896 - acc: 0.5563 - val_loss: 0.6908 - val_acc: 0.5312\n",
            "\n",
            "Epoch 00018: val_loss did not improve from 0.69032\n",
            "Epoch 19/50\n",
            " - 1s - loss: 0.6923 - acc: 0.5000 - val_loss: 0.6918 - val_acc: 0.5000\n",
            "\n",
            "Epoch 00019: val_loss did not improve from 0.69032\n",
            "Epoch 20/50\n",
            " - 1s - loss: 0.6914 - acc: 0.5125 - val_loss: 0.6925 - val_acc: 0.4844\n",
            "\n",
            "Epoch 00020: val_loss did not improve from 0.69032\n",
            "Epoch 21/50\n",
            " - 1s - loss: 0.6916 - acc: 0.5187 - val_loss: 0.6919 - val_acc: 0.5156\n",
            "\n",
            "Epoch 00021: val_loss did not improve from 0.69032\n",
            "Epoch 22/50\n",
            " - 1s - loss: 0.6923 - acc: 0.4750 - val_loss: 0.6923 - val_acc: 0.4844\n",
            "\n",
            "Epoch 00022: val_loss did not improve from 0.69032\n",
            "Epoch 23/50\n",
            " - 1s - loss: 0.6922 - acc: 0.4875 - val_loss: 0.6923 - val_acc: 0.5000\n",
            "\n",
            "Epoch 00023: val_loss did not improve from 0.69032\n",
            "Epoch 24/50\n",
            " - 1s - loss: 0.6914 - acc: 0.4750 - val_loss: 0.6933 - val_acc: 0.4062\n",
            "\n",
            "Epoch 00024: val_loss did not improve from 0.69032\n",
            "Epoch 25/50\n",
            " - 1s - loss: 0.6912 - acc: 0.5438 - val_loss: 0.6907 - val_acc: 0.5469\n",
            "\n",
            "Epoch 00025: val_loss did not improve from 0.69032\n",
            "Epoch 26/50\n",
            " - 1s - loss: 0.6914 - acc: 0.5125 - val_loss: 0.6913 - val_acc: 0.5156\n",
            "\n",
            "Epoch 00026: val_loss did not improve from 0.69032\n",
            "Epoch 27/50\n",
            " - 1s - loss: 0.6935 - acc: 0.4375 - val_loss: 0.6919 - val_acc: 0.6562\n",
            "\n",
            "Epoch 00027: val_loss did not improve from 0.69032\n",
            "Epoch 28/50\n",
            " - 1s - loss: 0.6922 - acc: 0.5516 - val_loss: 0.6915 - val_acc: 0.6094\n",
            "\n",
            "Epoch 00028: val_loss did not improve from 0.69032\n",
            "Epoch 29/50\n",
            " - 1s - loss: 0.6913 - acc: 0.6125 - val_loss: 0.6911 - val_acc: 0.6406\n",
            "\n",
            "Epoch 00029: val_loss did not improve from 0.69032\n",
            "Epoch 30/50\n",
            " - 1s - loss: 0.6907 - acc: 0.6125 - val_loss: 0.6905 - val_acc: 0.7031\n",
            "\n",
            "Epoch 00030: val_loss did not improve from 0.69032\n",
            "Epoch 31/50\n",
            " - 1s - loss: 0.6922 - acc: 0.5563 - val_loss: 0.6934 - val_acc: 0.4375\n",
            "\n",
            "Epoch 00031: val_loss did not improve from 0.69032\n",
            "Epoch 32/50\n",
            " - 1s - loss: 0.6915 - acc: 0.5875 - val_loss: 0.6921 - val_acc: 0.5312\n",
            "\n",
            "Epoch 00032: val_loss did not improve from 0.69032\n",
            "Epoch 33/50\n",
            " - 1s - loss: 0.6902 - acc: 0.6750 - val_loss: 0.6908 - val_acc: 0.7500\n",
            "\n",
            "Epoch 00033: val_loss did not improve from 0.69032\n",
            "Epoch 34/50\n",
            " - 1s - loss: 0.6898 - acc: 0.6875 - val_loss: 0.6909 - val_acc: 0.7031\n",
            "\n",
            "Epoch 00034: val_loss did not improve from 0.69032\n",
            "Epoch 35/50\n",
            " - 1s - loss: 0.6888 - acc: 0.6250 - val_loss: 0.6918 - val_acc: 0.4688\n",
            "\n",
            "Epoch 00035: val_loss did not improve from 0.69032\n",
            "Epoch 36/50\n",
            " - 1s - loss: 0.6892 - acc: 0.5750 - val_loss: 0.6920 - val_acc: 0.4531\n",
            "\n",
            "Epoch 00036: val_loss did not improve from 0.69032\n",
            "Epoch 37/50\n",
            " - 1s - loss: 0.6913 - acc: 0.5375 - val_loss: 0.6904 - val_acc: 0.5156\n",
            "\n",
            "Epoch 00037: val_loss did not improve from 0.69032\n",
            "Epoch 38/50\n",
            " - 1s - loss: 0.6898 - acc: 0.5812 - val_loss: 0.6919 - val_acc: 0.5000\n",
            "\n",
            "Epoch 00038: val_loss did not improve from 0.69032\n",
            "Epoch 39/50\n",
            " - 1s - loss: 0.6900 - acc: 0.5125 - val_loss: 0.6903 - val_acc: 0.6406\n",
            "\n",
            "Epoch 00039: val_loss did not improve from 0.69032\n",
            "Epoch 40/50\n",
            " - 1s - loss: 0.6913 - acc: 0.5625 - val_loss: 0.6904 - val_acc: 0.7188\n",
            "\n",
            "Epoch 00040: val_loss did not improve from 0.69032\n",
            "Epoch 41/50\n",
            " - 1s - loss: 0.6905 - acc: 0.6375 - val_loss: 0.6902 - val_acc: 0.6562\n",
            "\n",
            "Epoch 00041: val_loss improved from 0.69032 to 0.69019, saving model to drive/My Drive/Resultado/weights_architecture_2.hdf5\n",
            "Epoch 42/50\n",
            " - 1s - loss: 0.6886 - acc: 0.6688 - val_loss: 0.6920 - val_acc: 0.5781\n",
            "\n",
            "Epoch 00042: val_loss did not improve from 0.69019\n",
            "Epoch 43/50\n",
            " - 1s - loss: 0.6902 - acc: 0.5875 - val_loss: 0.6910 - val_acc: 0.7188\n",
            "\n",
            "Epoch 00043: val_loss did not improve from 0.69019\n",
            "Epoch 44/50\n",
            " - 1s - loss: 0.6899 - acc: 0.6125 - val_loss: 0.6905 - val_acc: 0.5625\n",
            "\n",
            "Epoch 00044: val_loss did not improve from 0.69019\n",
            "Epoch 45/50\n",
            " - 1s - loss: 0.6888 - acc: 0.6562 - val_loss: 0.6894 - val_acc: 0.6719\n",
            "\n",
            "Epoch 00045: val_loss improved from 0.69019 to 0.68938, saving model to drive/My Drive/Resultado/weights_architecture_2.hdf5\n",
            "Epoch 46/50\n",
            " - 1s - loss: 0.6886 - acc: 0.6500 - val_loss: 0.6863 - val_acc: 0.7656\n",
            "\n",
            "Epoch 00046: val_loss improved from 0.68938 to 0.68631, saving model to drive/My Drive/Resultado/weights_architecture_2.hdf5\n",
            "Epoch 47/50\n",
            " - 1s - loss: 0.6878 - acc: 0.6625 - val_loss: 0.6904 - val_acc: 0.6406\n",
            "\n",
            "Epoch 00047: val_loss did not improve from 0.68631\n",
            "Epoch 48/50\n",
            " - 1s - loss: 0.6882 - acc: 0.6562 - val_loss: 0.6904 - val_acc: 0.6719\n",
            "\n",
            "Epoch 00048: val_loss did not improve from 0.68631\n",
            "Epoch 49/50\n",
            " - 1s - loss: 0.6915 - acc: 0.5312 - val_loss: 0.6902 - val_acc: 0.6406\n",
            "\n",
            "Epoch 00049: val_loss did not improve from 0.68631\n",
            "Epoch 50/50\n",
            " - 1s - loss: 0.6884 - acc: 0.6125 - val_loss: 0.6891 - val_acc: 0.7500\n",
            "\n",
            "Epoch 00050: val_loss did not improve from 0.68631\n"
          ],
          "name": "stdout"
        }
      ]
    },
    {
      "metadata": {
        "colab_type": "code",
        "id": "37HQ427_jnNY",
        "colab": {
          "base_uri": "https://localhost:8080/",
          "height": 380
        },
        "outputId": "c8299b94-1a66-47c6-d46e-75f2584c7ad3"
      },
      "cell_type": "code",
      "source": [
        "# plotar loss e accuracy para os datasets 'train' e 'test'\n",
        "plt.style.use(\"ggplot\")\n",
        "plt.figure()\n",
        "plt.plot(training.history['acc'], label='Accuracy')\n",
        "plt.plot(training.history['loss'], label='Loss')\n",
        "plt.xlabel('Epochs')\n",
        "plt.ylabel('Accuracy')\n",
        "plt.title(\"Training Loss and Accuracy\")\n",
        "plt.ylabel(\"Loss/Accuracy\")\n",
        "plt.legend()\n",
        "plt.savefig('drive/My Drive/Resultado/' + arquiteture + '.png', bbox_inches='tight')"
      ],
      "execution_count": 25,
      "outputs": [
        {
          "output_type": "display_data",
          "data": {
            "image/png": "[encoded data removed]",
            "text/plain": [
              "<matplotlib.figure.Figure at 0x7f61e210ff98>"
            ]
          },
          "metadata": {
            "tags": []
          }
        }
      ]
    },
    {
      "metadata": {
        "colab_type": "code",
        "id": "bpfoCpyTjnNk",
        "colab": {
          "base_uri": "https://localhost:8080/",
          "height": 54
        },
        "outputId": "97886098-87da-4fb6-f7e6-64fbef000e54"
      },
      "cell_type": "code",
      "source": [
        "y_true, y_predict = ler_images_teste(arquiteture)"
      ],
      "execution_count": 26,
      "outputs": [
        {
          "output_type": "stream",
          "text": [
            "/usr/local/lib/python3.6/dist-packages/skimage/transform/_warps.py:84: UserWarning: The default mode, 'constant', will be changed to 'reflect' in skimage 0.15.\n",
            "  warn(\"The default mode, 'constant', will be changed to 'reflect' in \"\n"
          ],
          "name": "stderr"
        }
      ]
    },
    {
      "metadata": {
        "colab_type": "code",
        "id": "37KhZdImjnNs",
        "colab": {
          "base_uri": "https://localhost:8080/",
          "height": 35
        },
        "outputId": "8891ea01-d324-4702-b6ca-975c12c6b1f9"
      },
      "cell_type": "code",
      "source": [
        "results[arquiteture] = accuracy_score(y_true, y_predict)\n",
        "print('Test Accuracy: {:.2f}%'.format(100 * results[arquiteture]))"
      ],
      "execution_count": 27,
      "outputs": [
        {
          "output_type": "stream",
          "text": [
            "Test Accuracy: 80.87%\n"
          ],
          "name": "stdout"
        }
      ]
    },
    {
      "metadata": {
        "id": "r7RpE8wBe4JQ",
        "colab_type": "text"
      },
      "cell_type": "markdown",
      "source": [
        "### 3 tentativa Accuracy: 82.78%"
      ]
    },
    {
      "metadata": {
        "id": "vdP4Yo8OgB4B",
        "colab_type": "text"
      },
      "cell_type": "markdown",
      "source": [
        "Modelo criado pelo **Lucas Valentim**\n",
        "\n",
        "https://github.com/lucasvalentim/chromosome-recognizer/blob/master/chromosome_recognizer.ipynb"
      ]
    },
    {
      "metadata": {
        "id": "3nTNgnrCe33x",
        "colab_type": "code",
        "colab": {}
      },
      "cell_type": "code",
      "source": [
        "from keras.layers import Conv2D, MaxPooling2D, GlobalMaxPooling2D, BatchNormalization\n",
        "from keras.regularizers import l2\n",
        "\n",
        "model = Sequential()\n",
        "\n",
        "model.add(Conv2D(32, (3, 3), activation='relu', kernel_regularizer=l2(1e-4), \n",
        "                 input_shape=(None, None, 3)))\n",
        "model.add(BatchNormalization())\n",
        "model.add(Conv2D(32, (3, 3), activation='relu', kernel_regularizer=l2(1e-4)))\n",
        "model.add(BatchNormalization())\n",
        "model.add(MaxPooling2D((2, 2)))\n",
        "model.add(Dropout(0.25))\n",
        "\n",
        "model.add(Conv2D(64, (3, 3), activation='relu', kernel_regularizer=l2(1e-4)))\n",
        "model.add(BatchNormalization())\n",
        "model.add(Conv2D(64, (3, 3), activation='relu', kernel_regularizer=l2(1e-4)))\n",
        "model.add(BatchNormalization())\n",
        "model.add(MaxPooling2D((2, 2)))\n",
        "model.add(Dropout(0.25))\n",
        "\n",
        "model.add(Conv2D(128, (1,1), kernel_regularizer=l2(1e-4)))\n",
        "model.add(GlobalMaxPooling2D())\n",
        "\n",
        "model.add(Dense(256, activation='relu', kernel_regularizer=l2(1e-4)))\n",
        "model.add(Dropout(0.5))\n",
        "model.add(Dense(2, activation='sigmoid', kernel_regularizer=l2(1e-4)))"
      ],
      "execution_count": 0,
      "outputs": []
    },
    {
      "metadata": {
        "id": "g1okz4QbiBnE",
        "colab_type": "code",
        "colab": {}
      },
      "cell_type": "code",
      "source": [
        "model.compile(optimizer='adam', loss='binary_crossentropy', metrics=['accuracy'])"
      ],
      "execution_count": 0,
      "outputs": []
    },
    {
      "metadata": {
        "colab_type": "code",
        "id": "qGOLNR-RjvlL",
        "colab": {}
      },
      "cell_type": "code",
      "source": [
        "arquiteture = 'architecture_3'"
      ],
      "execution_count": 0,
      "outputs": []
    },
    {
      "metadata": {
        "colab_type": "code",
        "id": "Zd6E33WLk6B5",
        "colab": {}
      },
      "cell_type": "code",
      "source": [
        "checkpointer = ModelCheckpoint(filepath='drive/My Drive/Resultado/weights_' + arquiteture + '.hdf5', verbose=1, save_best_only=True)"
      ],
      "execution_count": 0,
      "outputs": []
    },
    {
      "metadata": {
        "colab_type": "code",
        "id": "57QCc4Rz3JmS",
        "colab": {
          "base_uri": "https://localhost:8080/",
          "height": 3690
        },
        "outputId": "71fbab0e-7168-4627-fe00-a53329a3523e"
      },
      "cell_type": "code",
      "source": [
        "training = model.fit_generator(train_batches, steps_per_epoch=stepsPerEpoche, \n",
        "                   validation_data=validation_batches, validation_steps=validationSteps,\n",
        "                   epochs=50, verbose=2, callbacks=[checkpointer])"
      ],
      "execution_count": 32,
      "outputs": [
        {
          "output_type": "stream",
          "text": [
            "Epoch 1/50\n",
            " - 3s - loss: 2.0575 - acc: 0.5219 - val_loss: 0.6510 - val_acc: 0.7266\n",
            "\n",
            "Epoch 00001: val_loss improved from inf to 0.65102, saving model to drive/My Drive/Resultado/weights_architecture_3.hdf5\n",
            "Epoch 2/50\n",
            " - 1s - loss: 1.7303 - acc: 0.5344 - val_loss: 0.5918 - val_acc: 0.7656\n",
            "\n",
            "Epoch 00002: val_loss improved from 0.65102 to 0.59183, saving model to drive/My Drive/Resultado/weights_architecture_3.hdf5\n",
            "Epoch 3/50\n",
            " - 1s - loss: 1.1543 - acc: 0.5781 - val_loss: 0.5345 - val_acc: 0.7734\n",
            "\n",
            "Epoch 00003: val_loss improved from 0.59183 to 0.53446, saving model to drive/My Drive/Resultado/weights_architecture_3.hdf5\n",
            "Epoch 4/50\n",
            " - 1s - loss: 0.8532 - acc: 0.6710 - val_loss: 0.5488 - val_acc: 0.7812\n",
            "\n",
            "Epoch 00004: val_loss did not improve from 0.53446\n",
            "Epoch 5/50\n",
            " - 1s - loss: 0.7388 - acc: 0.6781 - val_loss: 0.5677 - val_acc: 0.7734\n",
            "\n",
            "Epoch 00005: val_loss did not improve from 0.53446\n",
            "Epoch 6/50\n",
            " - 1s - loss: 0.5005 - acc: 0.8063 - val_loss: 0.3702 - val_acc: 0.8594\n",
            "\n",
            "Epoch 00006: val_loss improved from 0.53446 to 0.37018, saving model to drive/My Drive/Resultado/weights_architecture_3.hdf5\n",
            "Epoch 7/50\n",
            " - 1s - loss: 0.4932 - acc: 0.8375 - val_loss: 0.6400 - val_acc: 0.7891\n",
            "\n",
            "Epoch 00007: val_loss did not improve from 0.37018\n",
            "Epoch 8/50\n",
            " - 1s - loss: 0.6092 - acc: 0.7375 - val_loss: 0.5189 - val_acc: 0.7812\n",
            "\n",
            "Epoch 00008: val_loss did not improve from 0.37018\n",
            "Epoch 9/50\n",
            " - 1s - loss: 0.4480 - acc: 0.8031 - val_loss: 0.4321 - val_acc: 0.8516\n",
            "\n",
            "Epoch 00009: val_loss did not improve from 0.37018\n",
            "Epoch 10/50\n",
            " - 1s - loss: 0.4269 - acc: 0.8406 - val_loss: 0.4204 - val_acc: 0.8516\n",
            "\n",
            "Epoch 00010: val_loss did not improve from 0.37018\n",
            "Epoch 11/50\n",
            " - 1s - loss: 0.3724 - acc: 0.8781 - val_loss: 0.5095 - val_acc: 0.8047\n",
            "\n",
            "Epoch 00011: val_loss did not improve from 0.37018\n",
            "Epoch 12/50\n",
            " - 1s - loss: 0.4803 - acc: 0.8312 - val_loss: 0.5035 - val_acc: 0.7812\n",
            "\n",
            "Epoch 00012: val_loss did not improve from 0.37018\n",
            "Epoch 13/50\n",
            " - 1s - loss: 0.3466 - acc: 0.8844 - val_loss: 0.4765 - val_acc: 0.8295\n",
            "\n",
            "Epoch 00013: val_loss did not improve from 0.37018\n",
            "Epoch 14/50\n",
            " - 1s - loss: 0.4575 - acc: 0.8375 - val_loss: 0.4356 - val_acc: 0.8594\n",
            "\n",
            "Epoch 00014: val_loss did not improve from 0.37018\n",
            "Epoch 15/50\n",
            " - 1s - loss: 0.3491 - acc: 0.8688 - val_loss: 0.5288 - val_acc: 0.7812\n",
            "\n",
            "Epoch 00015: val_loss did not improve from 0.37018\n",
            "Epoch 16/50\n",
            " - 1s - loss: 0.3722 - acc: 0.8688 - val_loss: 0.4190 - val_acc: 0.8750\n",
            "\n",
            "Epoch 00016: val_loss did not improve from 0.37018\n",
            "Epoch 17/50\n",
            " - 1s - loss: 0.3731 - acc: 0.8688 - val_loss: 0.3698 - val_acc: 0.8750\n",
            "\n",
            "Epoch 00017: val_loss improved from 0.37018 to 0.36981, saving model to drive/My Drive/Resultado/weights_architecture_3.hdf5\n",
            "Epoch 18/50\n",
            " - 1s - loss: 0.3759 - acc: 0.8656 - val_loss: 0.4893 - val_acc: 0.7812\n",
            "\n",
            "Epoch 00018: val_loss did not improve from 0.36981\n",
            "Epoch 19/50\n",
            " - 1s - loss: 0.3855 - acc: 0.9000 - val_loss: 0.5079 - val_acc: 0.7969\n",
            "\n",
            "Epoch 00019: val_loss did not improve from 0.36981\n",
            "Epoch 20/50\n",
            " - 1s - loss: 0.3276 - acc: 0.8812 - val_loss: 0.4097 - val_acc: 0.8281\n",
            "\n",
            "Epoch 00020: val_loss did not improve from 0.36981\n",
            "Epoch 21/50\n",
            " - 1s - loss: 0.3314 - acc: 0.8750 - val_loss: 0.4745 - val_acc: 0.7578\n",
            "\n",
            "Epoch 00021: val_loss did not improve from 0.36981\n",
            "Epoch 22/50\n",
            " - 1s - loss: 0.5393 - acc: 0.8219 - val_loss: 0.3946 - val_acc: 0.8516\n",
            "\n",
            "Epoch 00022: val_loss did not improve from 0.36981\n",
            "Epoch 23/50\n",
            " - 1s - loss: 0.4868 - acc: 0.8063 - val_loss: 0.4336 - val_acc: 0.9219\n",
            "\n",
            "Epoch 00023: val_loss did not improve from 0.36981\n",
            "Epoch 24/50\n",
            " - 1s - loss: 0.4035 - acc: 0.8594 - val_loss: 0.5734 - val_acc: 0.7578\n",
            "\n",
            "Epoch 00024: val_loss did not improve from 0.36981\n",
            "Epoch 25/50\n",
            " - 1s - loss: 0.4238 - acc: 0.8812 - val_loss: 0.3587 - val_acc: 0.8828\n",
            "\n",
            "Epoch 00025: val_loss improved from 0.36981 to 0.35868, saving model to drive/My Drive/Resultado/weights_architecture_3.hdf5\n",
            "Epoch 26/50\n",
            " - 1s - loss: 0.3771 - acc: 0.8719 - val_loss: 0.4441 - val_acc: 0.8438\n",
            "\n",
            "Epoch 00026: val_loss did not improve from 0.35868\n",
            "Epoch 27/50\n",
            " - 1s - loss: 0.3833 - acc: 0.8406 - val_loss: 0.3369 - val_acc: 0.9375\n",
            "\n",
            "Epoch 00027: val_loss improved from 0.35868 to 0.33692, saving model to drive/My Drive/Resultado/weights_architecture_3.hdf5\n",
            "Epoch 28/50\n",
            " - 1s - loss: 0.4750 - acc: 0.8375 - val_loss: 0.3738 - val_acc: 0.8359\n",
            "\n",
            "Epoch 00028: val_loss did not improve from 0.33692\n",
            "Epoch 29/50\n",
            " - 1s - loss: 0.3660 - acc: 0.8844 - val_loss: 0.3771 - val_acc: 0.8125\n",
            "\n",
            "Epoch 00029: val_loss did not improve from 0.33692\n",
            "Epoch 30/50\n",
            " - 1s - loss: 0.2956 - acc: 0.8906 - val_loss: 0.3422 - val_acc: 0.9205\n",
            "\n",
            "Epoch 00030: val_loss did not improve from 0.33692\n",
            "Epoch 31/50\n",
            " - 1s - loss: 0.3360 - acc: 0.8677 - val_loss: 0.4425 - val_acc: 0.8281\n",
            "\n",
            "Epoch 00031: val_loss did not improve from 0.33692\n",
            "Epoch 32/50\n",
            " - 1s - loss: 0.4160 - acc: 0.8625 - val_loss: 0.3518 - val_acc: 0.8438\n",
            "\n",
            "Epoch 00032: val_loss did not improve from 0.33692\n",
            "Epoch 33/50\n",
            " - 1s - loss: 0.3758 - acc: 0.8812 - val_loss: 0.4132 - val_acc: 0.8438\n",
            "\n",
            "Epoch 00033: val_loss did not improve from 0.33692\n",
            "Epoch 34/50\n",
            " - 1s - loss: 0.3434 - acc: 0.8875 - val_loss: 0.5025 - val_acc: 0.7734\n",
            "\n",
            "Epoch 00034: val_loss did not improve from 0.33692\n",
            "Epoch 35/50\n",
            " - 1s - loss: 0.3222 - acc: 0.8875 - val_loss: 0.3984 - val_acc: 0.8516\n",
            "\n",
            "Epoch 00035: val_loss did not improve from 0.33692\n",
            "Epoch 36/50\n",
            " - 1s - loss: 0.2953 - acc: 0.9094 - val_loss: 0.5537 - val_acc: 0.7656\n",
            "\n",
            "Epoch 00036: val_loss did not improve from 0.33692\n",
            "Epoch 37/50\n",
            " - 1s - loss: 0.2937 - acc: 0.9031 - val_loss: 0.3923 - val_acc: 0.8438\n",
            "\n",
            "Epoch 00037: val_loss did not improve from 0.33692\n",
            "Epoch 38/50\n",
            " - 1s - loss: 0.3652 - acc: 0.8875 - val_loss: 0.3750 - val_acc: 0.8828\n",
            "\n",
            "Epoch 00038: val_loss did not improve from 0.33692\n",
            "Epoch 39/50\n",
            " - 1s - loss: 0.2870 - acc: 0.9094 - val_loss: 0.4681 - val_acc: 0.7891\n",
            "\n",
            "Epoch 00039: val_loss did not improve from 0.33692\n",
            "Epoch 40/50\n",
            " - 1s - loss: 0.3950 - acc: 0.8656 - val_loss: 0.3889 - val_acc: 0.8438\n",
            "\n",
            "Epoch 00040: val_loss did not improve from 0.33692\n",
            "Epoch 41/50\n",
            " - 1s - loss: 0.3845 - acc: 0.8500 - val_loss: 0.3330 - val_acc: 0.8906\n",
            "\n",
            "Epoch 00041: val_loss improved from 0.33692 to 0.33299, saving model to drive/My Drive/Resultado/weights_architecture_3.hdf5\n",
            "Epoch 42/50\n",
            " - 1s - loss: 0.3487 - acc: 0.9125 - val_loss: 0.7376 - val_acc: 0.6562\n",
            "\n",
            "Epoch 00042: val_loss did not improve from 0.33299\n",
            "Epoch 43/50\n",
            " - 1s - loss: 0.3943 - acc: 0.8625 - val_loss: 0.3929 - val_acc: 0.8516\n",
            "\n",
            "Epoch 00043: val_loss did not improve from 0.33299\n",
            "Epoch 44/50\n",
            " - 1s - loss: 0.4018 - acc: 0.8500 - val_loss: 0.4164 - val_acc: 0.8750\n",
            "\n",
            "Epoch 00044: val_loss did not improve from 0.33299\n",
            "Epoch 45/50\n",
            " - 1s - loss: 0.3637 - acc: 0.8719 - val_loss: 0.4758 - val_acc: 0.7500\n",
            "\n",
            "Epoch 00045: val_loss did not improve from 0.33299\n",
            "Epoch 46/50\n",
            " - 1s - loss: 0.3220 - acc: 0.9031 - val_loss: 0.4504 - val_acc: 0.7812\n",
            "\n",
            "Epoch 00046: val_loss did not improve from 0.33299\n",
            "Epoch 47/50\n",
            " - 1s - loss: 0.4021 - acc: 0.8656 - val_loss: 0.3184 - val_acc: 0.9219\n",
            "\n",
            "Epoch 00047: val_loss improved from 0.33299 to 0.31840, saving model to drive/My Drive/Resultado/weights_architecture_3.hdf5\n",
            "Epoch 48/50\n",
            " - 1s - loss: 0.3559 - acc: 0.8750 - val_loss: 0.6409 - val_acc: 0.6818\n",
            "\n",
            "Epoch 00048: val_loss did not improve from 0.31840\n",
            "Epoch 49/50\n",
            " - 1s - loss: 0.3714 - acc: 0.8688 - val_loss: 0.4450 - val_acc: 0.8438\n",
            "\n",
            "Epoch 00049: val_loss did not improve from 0.31840\n",
            "Epoch 50/50\n",
            " - 1s - loss: 0.3273 - acc: 0.8875 - val_loss: 0.4039 - val_acc: 0.8750\n",
            "\n",
            "Epoch 00050: val_loss did not improve from 0.31840\n"
          ],
          "name": "stdout"
        }
      ]
    },
    {
      "metadata": {
        "colab_type": "code",
        "id": "UbMAcdw1jvlY",
        "colab": {
          "base_uri": "https://localhost:8080/",
          "height": 380
        },
        "outputId": "9c127235-1576-4e2d-e32c-5bfbe148319e"
      },
      "cell_type": "code",
      "source": [
        "# plotar loss e accuracy para os datasets 'train' e 'test'\n",
        "plt.style.use(\"ggplot\")\n",
        "plt.figure()\n",
        "plt.plot(training.history['acc'], label='Accuracy')\n",
        "plt.plot(training.history['loss'], label='Loss')\n",
        "plt.xlabel('Epochs')\n",
        "plt.ylabel('Accuracy')\n",
        "plt.title(\"Training Loss and Accuracy\")\n",
        "plt.ylabel(\"Loss/Accuracy\")\n",
        "plt.legend()\n",
        "plt.savefig('drive/My Drive/Resultado/' + arquiteture + '.png', bbox_inches='tight')"
      ],
      "execution_count": 33,
      "outputs": [
        {
          "output_type": "display_data",
          "data": {
            "image/png": "[encoded data removed]",
            "text/plain": [
              "<matplotlib.figure.Figure at 0x7f61d760bef0>"
            ]
          },
          "metadata": {
            "tags": []
          }
        }
      ]
    },
    {
      "metadata": {
        "colab_type": "code",
        "id": "JZXZyAjrjvli",
        "colab": {
          "base_uri": "https://localhost:8080/",
          "height": 54
        },
        "outputId": "04d26ed3-e504-46f9-c327-8ec871bd5c7f"
      },
      "cell_type": "code",
      "source": [
        "y_true, y_predict = ler_images_teste(arquiteture)"
      ],
      "execution_count": 34,
      "outputs": [
        {
          "output_type": "stream",
          "text": [
            "/usr/local/lib/python3.6/dist-packages/skimage/transform/_warps.py:84: UserWarning: The default mode, 'constant', will be changed to 'reflect' in skimage 0.15.\n",
            "  warn(\"The default mode, 'constant', will be changed to 'reflect' in \"\n"
          ],
          "name": "stderr"
        }
      ]
    },
    {
      "metadata": {
        "colab_type": "code",
        "id": "rRqF6tcYjvlm",
        "colab": {
          "base_uri": "https://localhost:8080/",
          "height": 35
        },
        "outputId": "05403da0-1b8c-44bb-ecbb-d8c27f78a065"
      },
      "cell_type": "code",
      "source": [
        "results[arquiteture] = accuracy_score(y_true, y_predict)\n",
        "print('Test Accuracy: {:.2f}%'.format(100 * results[arquiteture]))"
      ],
      "execution_count": 35,
      "outputs": [
        {
          "output_type": "stream",
          "text": [
            "Test Accuracy: 82.78%\n"
          ],
          "name": "stdout"
        }
      ]
    },
    {
      "metadata": {
        "id": "jkrlEFjlw030",
        "colab_type": "text"
      },
      "cell_type": "markdown",
      "source": [
        "### 4 tentativa  Accuracy: 83.02%"
      ]
    },
    {
      "metadata": {
        "id": "UJ7JELAiw2kb",
        "colab_type": "text"
      },
      "cell_type": "markdown",
      "source": [
        "Modelo adaptado do **Lucas Albertins**\n",
        "\n",
        "*   Sem os **dropout**\n"
      ]
    },
    {
      "metadata": {
        "colab_type": "code",
        "id": "4N0B_5a2xB3T",
        "colab": {}
      },
      "cell_type": "code",
      "source": [
        "from keras.layers import Conv2D, MaxPooling2D, GlobalMaxPooling2D, BatchNormalization\n",
        "from keras.regularizers import l2\n",
        "\n",
        "model = Sequential()\n",
        "\n",
        "model.add(Conv2D(32, (3, 3), activation='relu', kernel_regularizer=l2(1e-4), \n",
        "                 input_shape=(None, None, 3)))\n",
        "model.add(BatchNormalization())\n",
        "model.add(Conv2D(32, (3, 3), activation='relu', kernel_regularizer=l2(1e-4)))\n",
        "model.add(BatchNormalization())\n",
        "model.add(MaxPooling2D((2, 2)))\n",
        "\n",
        "model.add(Conv2D(64, (3, 3), activation='relu', kernel_regularizer=l2(1e-4)))\n",
        "model.add(BatchNormalization())\n",
        "model.add(Conv2D(64, (3, 3), activation='relu', kernel_regularizer=l2(1e-4)))\n",
        "model.add(BatchNormalization())\n",
        "model.add(MaxPooling2D((2, 2)))\n",
        "\n",
        "model.add(Conv2D(128, (1,1), kernel_regularizer=l2(1e-4)))\n",
        "model.add(GlobalMaxPooling2D())\n",
        "\n",
        "model.add(Dense(256, activation='relu', kernel_regularizer=l2(1e-4)))\n",
        "model.add(BatchNormalization())\n",
        "model.add(Dense(2, activation='sigmoid', kernel_regularizer=l2(1e-4)))"
      ],
      "execution_count": 0,
      "outputs": []
    },
    {
      "metadata": {
        "colab_type": "code",
        "id": "V9VHjygmxB3k",
        "colab": {}
      },
      "cell_type": "code",
      "source": [
        "model.compile(optimizer='adam', loss='binary_crossentropy', metrics=['accuracy'])"
      ],
      "execution_count": 0,
      "outputs": []
    },
    {
      "metadata": {
        "colab_type": "code",
        "id": "VMLmVlASj26i",
        "colab": {}
      },
      "cell_type": "code",
      "source": [
        "arquiteture = 'architecture_4'"
      ],
      "execution_count": 0,
      "outputs": []
    },
    {
      "metadata": {
        "colab_type": "code",
        "id": "dZRIAn0Bk37B",
        "colab": {}
      },
      "cell_type": "code",
      "source": [
        "checkpointer = ModelCheckpoint(filepath='drive/My Drive/Resultado/weights_' + arquiteture + '.hdf5', verbose=1, save_best_only=True)"
      ],
      "execution_count": 0,
      "outputs": []
    },
    {
      "metadata": {
        "colab_type": "code",
        "id": "gE1pEJNR4RmV",
        "colab": {
          "base_uri": "https://localhost:8080/",
          "height": 3690
        },
        "outputId": "8ecb2951-ca74-4fef-ee2d-1d1c0cc16486"
      },
      "cell_type": "code",
      "source": [
        "training = model.fit_generator(train_batches, steps_per_epoch=stepsPerEpoche, \n",
        "                   validation_data=validation_batches, validation_steps=validationSteps,\n",
        "                   epochs=50, verbose=2, callbacks=[checkpointer])"
      ],
      "execution_count": 40,
      "outputs": [
        {
          "output_type": "stream",
          "text": [
            "Epoch 1/50\n",
            " - 4s - loss: 0.5351 - acc: 0.7625 - val_loss: 1.9134 - val_acc: 0.6328\n",
            "\n",
            "Epoch 00001: val_loss improved from inf to 1.91339, saving model to drive/My Drive/Resultado/weights_architecture_4.hdf5\n",
            "Epoch 2/50\n",
            " - 1s - loss: 0.4383 - acc: 0.8156 - val_loss: 1.1704 - val_acc: 0.6953\n",
            "\n",
            "Epoch 00002: val_loss improved from 1.91339 to 1.17036, saving model to drive/My Drive/Resultado/weights_architecture_4.hdf5\n",
            "Epoch 3/50\n",
            " - 1s - loss: 0.2808 - acc: 0.9250 - val_loss: 1.0352 - val_acc: 0.6875\n",
            "\n",
            "Epoch 00003: val_loss improved from 1.17036 to 1.03518, saving model to drive/My Drive/Resultado/weights_architecture_4.hdf5\n",
            "Epoch 4/50\n",
            " - 1s - loss: 0.2945 - acc: 0.9094 - val_loss: 0.5649 - val_acc: 0.7969\n",
            "\n",
            "Epoch 00004: val_loss improved from 1.03518 to 0.56488, saving model to drive/My Drive/Resultado/weights_architecture_4.hdf5\n",
            "Epoch 5/50\n",
            " - 1s - loss: 0.3466 - acc: 0.8969 - val_loss: 0.6418 - val_acc: 0.8047\n",
            "\n",
            "Epoch 00005: val_loss did not improve from 0.56488\n",
            "Epoch 6/50\n",
            " - 1s - loss: 0.2650 - acc: 0.9094 - val_loss: 0.7048 - val_acc: 0.7656\n",
            "\n",
            "Epoch 00006: val_loss did not improve from 0.56488\n",
            "Epoch 7/50\n",
            " - 0s - loss: 0.2491 - acc: 0.9226 - val_loss: 0.8165 - val_acc: 0.7500\n",
            "\n",
            "Epoch 00007: val_loss did not improve from 0.56488\n",
            "Epoch 8/50\n",
            " - 1s - loss: 0.2380 - acc: 0.9250 - val_loss: 0.1939 - val_acc: 0.9297\n",
            "\n",
            "Epoch 00008: val_loss improved from 0.56488 to 0.19393, saving model to drive/My Drive/Resultado/weights_architecture_4.hdf5\n",
            "Epoch 9/50\n",
            " - 1s - loss: 0.2548 - acc: 0.8906 - val_loss: 1.0103 - val_acc: 0.7188\n",
            "\n",
            "Epoch 00009: val_loss did not improve from 0.19393\n",
            "Epoch 10/50\n",
            " - 1s - loss: 0.3204 - acc: 0.8750 - val_loss: 0.5081 - val_acc: 0.8182\n",
            "\n",
            "Epoch 00010: val_loss did not improve from 0.19393\n",
            "Epoch 11/50\n",
            " - 1s - loss: 0.2658 - acc: 0.9219 - val_loss: 0.5473 - val_acc: 0.8594\n",
            "\n",
            "Epoch 00011: val_loss did not improve from 0.19393\n",
            "Epoch 12/50\n",
            " - 1s - loss: 0.2443 - acc: 0.9156 - val_loss: 0.5306 - val_acc: 0.8125\n",
            "\n",
            "Epoch 00012: val_loss did not improve from 0.19393\n",
            "Epoch 13/50\n",
            " - 1s - loss: 0.2727 - acc: 0.9219 - val_loss: 0.4997 - val_acc: 0.8438\n",
            "\n",
            "Epoch 00013: val_loss did not improve from 0.19393\n",
            "Epoch 14/50\n",
            " - 1s - loss: 0.2545 - acc: 0.9094 - val_loss: 0.3151 - val_acc: 0.8828\n",
            "\n",
            "Epoch 00014: val_loss did not improve from 0.19393\n",
            "Epoch 15/50\n",
            " - 1s - loss: 0.1992 - acc: 0.9594 - val_loss: 0.5954 - val_acc: 0.8672\n",
            "\n",
            "Epoch 00015: val_loss did not improve from 0.19393\n",
            "Epoch 16/50\n",
            " - 1s - loss: 0.3107 - acc: 0.9031 - val_loss: 0.4449 - val_acc: 0.8594\n",
            "\n",
            "Epoch 00016: val_loss did not improve from 0.19393\n",
            "Epoch 17/50\n",
            " - 1s - loss: 0.2363 - acc: 0.9219 - val_loss: 0.4515 - val_acc: 0.8281\n",
            "\n",
            "Epoch 00017: val_loss did not improve from 0.19393\n",
            "Epoch 18/50\n",
            " - 1s - loss: 0.2579 - acc: 0.9344 - val_loss: 0.7616 - val_acc: 0.8750\n",
            "\n",
            "Epoch 00018: val_loss did not improve from 0.19393\n",
            "Epoch 19/50\n",
            " - 1s - loss: 0.2932 - acc: 0.9000 - val_loss: 0.3785 - val_acc: 0.9141\n",
            "\n",
            "Epoch 00019: val_loss did not improve from 0.19393\n",
            "Epoch 20/50\n",
            " - 1s - loss: 0.3026 - acc: 0.9125 - val_loss: 1.2922 - val_acc: 0.6797\n",
            "\n",
            "Epoch 00020: val_loss did not improve from 0.19393\n",
            "Epoch 21/50\n",
            " - 1s - loss: 0.2706 - acc: 0.9094 - val_loss: 0.5482 - val_acc: 0.8047\n",
            "\n",
            "Epoch 00021: val_loss did not improve from 0.19393\n",
            "Epoch 22/50\n",
            " - 1s - loss: 0.3244 - acc: 0.8875 - val_loss: 0.7181 - val_acc: 0.7969\n",
            "\n",
            "Epoch 00022: val_loss did not improve from 0.19393\n",
            "Epoch 23/50\n",
            " - 1s - loss: 0.2409 - acc: 0.9125 - val_loss: 0.5107 - val_acc: 0.8047\n",
            "\n",
            "Epoch 00023: val_loss did not improve from 0.19393\n",
            "Epoch 24/50\n",
            " - 1s - loss: 0.2017 - acc: 0.9375 - val_loss: 0.1694 - val_acc: 0.9531\n",
            "\n",
            "Epoch 00024: val_loss improved from 0.19393 to 0.16935, saving model to drive/My Drive/Resultado/weights_architecture_4.hdf5\n",
            "Epoch 25/50\n",
            " - 1s - loss: 0.3627 - acc: 0.8875 - val_loss: 0.3584 - val_acc: 0.8984\n",
            "\n",
            "Epoch 00025: val_loss did not improve from 0.16935\n",
            "Epoch 26/50\n",
            " - 1s - loss: 0.3371 - acc: 0.8906 - val_loss: 0.3752 - val_acc: 0.8750\n",
            "\n",
            "Epoch 00026: val_loss did not improve from 0.16935\n",
            "Epoch 27/50\n",
            " - 1s - loss: 0.2550 - acc: 0.9125 - val_loss: 0.4715 - val_acc: 0.8438\n",
            "\n",
            "Epoch 00027: val_loss did not improve from 0.16935\n",
            "Epoch 28/50\n",
            " - 1s - loss: 0.2922 - acc: 0.9031 - val_loss: 0.3183 - val_acc: 0.9318\n",
            "\n",
            "Epoch 00028: val_loss did not improve from 0.16935\n",
            "Epoch 29/50\n",
            " - 1s - loss: 0.2811 - acc: 0.8875 - val_loss: 0.3041 - val_acc: 0.9062\n",
            "\n",
            "Epoch 00029: val_loss did not improve from 0.16935\n",
            "Epoch 30/50\n",
            " - 1s - loss: 0.2475 - acc: 0.9406 - val_loss: 0.5722 - val_acc: 0.8359\n",
            "\n",
            "Epoch 00030: val_loss did not improve from 0.16935\n",
            "Epoch 31/50\n",
            " - 1s - loss: 0.3524 - acc: 0.8719 - val_loss: 0.5311 - val_acc: 0.8594\n",
            "\n",
            "Epoch 00031: val_loss did not improve from 0.16935\n",
            "Epoch 32/50\n",
            " - 1s - loss: 0.2675 - acc: 0.9188 - val_loss: 0.3174 - val_acc: 0.8750\n",
            "\n",
            "Epoch 00032: val_loss did not improve from 0.16935\n",
            "Epoch 33/50\n",
            " - 1s - loss: 0.2861 - acc: 0.9062 - val_loss: 0.4763 - val_acc: 0.8594\n",
            "\n",
            "Epoch 00033: val_loss did not improve from 0.16935\n",
            "Epoch 34/50\n",
            " - 1s - loss: 0.2474 - acc: 0.9145 - val_loss: 0.7547 - val_acc: 0.7891\n",
            "\n",
            "Epoch 00034: val_loss did not improve from 0.16935\n",
            "Epoch 35/50\n",
            " - 1s - loss: 0.2002 - acc: 0.9375 - val_loss: 0.6072 - val_acc: 0.8281\n",
            "\n",
            "Epoch 00035: val_loss did not improve from 0.16935\n",
            "Epoch 36/50\n",
            " - 1s - loss: 0.2417 - acc: 0.9156 - val_loss: 1.4021 - val_acc: 0.6562\n",
            "\n",
            "Epoch 00036: val_loss did not improve from 0.16935\n",
            "Epoch 37/50\n",
            " - 1s - loss: 0.1904 - acc: 0.9562 - val_loss: 0.8852 - val_acc: 0.8125\n",
            "\n",
            "Epoch 00037: val_loss did not improve from 0.16935\n",
            "Epoch 38/50\n",
            " - 1s - loss: 0.2475 - acc: 0.9188 - val_loss: 0.7538 - val_acc: 0.8438\n",
            "\n",
            "Epoch 00038: val_loss did not improve from 0.16935\n",
            "Epoch 39/50\n",
            " - 1s - loss: 0.2792 - acc: 0.9219 - val_loss: 0.5486 - val_acc: 0.8281\n",
            "\n",
            "Epoch 00039: val_loss did not improve from 0.16935\n",
            "Epoch 40/50\n",
            " - 1s - loss: 0.2009 - acc: 0.9344 - val_loss: 0.5070 - val_acc: 0.8438\n",
            "\n",
            "Epoch 00040: val_loss did not improve from 0.16935\n",
            "Epoch 41/50\n",
            " - 1s - loss: 0.2952 - acc: 0.9094 - val_loss: 0.2802 - val_acc: 0.9375\n",
            "\n",
            "Epoch 00041: val_loss did not improve from 0.16935\n",
            "Epoch 42/50\n",
            " - 1s - loss: 0.3271 - acc: 0.8875 - val_loss: 0.3343 - val_acc: 0.9375\n",
            "\n",
            "Epoch 00042: val_loss did not improve from 0.16935\n",
            "Epoch 43/50\n",
            " - 1s - loss: 0.2832 - acc: 0.9031 - val_loss: 0.4574 - val_acc: 0.8125\n",
            "\n",
            "Epoch 00043: val_loss did not improve from 0.16935\n",
            "Epoch 44/50\n",
            " - 1s - loss: 0.2446 - acc: 0.9219 - val_loss: 0.3272 - val_acc: 0.8594\n",
            "\n",
            "Epoch 00044: val_loss did not improve from 0.16935\n",
            "Epoch 45/50\n",
            " - 1s - loss: 0.3087 - acc: 0.9031 - val_loss: 0.5531 - val_acc: 0.7955\n",
            "\n",
            "Epoch 00045: val_loss did not improve from 0.16935\n",
            "Epoch 46/50\n",
            " - 1s - loss: 0.2459 - acc: 0.9313 - val_loss: 0.4577 - val_acc: 0.8203\n",
            "\n",
            "Epoch 00046: val_loss did not improve from 0.16935\n",
            "Epoch 47/50\n",
            " - 1s - loss: 0.2631 - acc: 0.9031 - val_loss: 0.6093 - val_acc: 0.8125\n",
            "\n",
            "Epoch 00047: val_loss did not improve from 0.16935\n",
            "Epoch 48/50\n",
            " - 1s - loss: 0.1978 - acc: 0.9313 - val_loss: 0.9758 - val_acc: 0.6875\n",
            "\n",
            "Epoch 00048: val_loss did not improve from 0.16935\n",
            "Epoch 49/50\n",
            " - 1s - loss: 0.3619 - acc: 0.8719 - val_loss: 0.5130 - val_acc: 0.7969\n",
            "\n",
            "Epoch 00049: val_loss did not improve from 0.16935\n",
            "Epoch 50/50\n",
            " - 1s - loss: 0.2778 - acc: 0.9406 - val_loss: 0.3929 - val_acc: 0.8438\n",
            "\n",
            "Epoch 00050: val_loss did not improve from 0.16935\n"
          ],
          "name": "stdout"
        }
      ]
    },
    {
      "metadata": {
        "colab_type": "code",
        "id": "J32DdUl5j261",
        "colab": {
          "base_uri": "https://localhost:8080/",
          "height": 380
        },
        "outputId": "2b24997c-7627-4f56-bd08-fbb8f78a77e5"
      },
      "cell_type": "code",
      "source": [
        "# plotar loss e accuracy para os datasets 'train' e 'test'\n",
        "plt.style.use(\"ggplot\")\n",
        "plt.figure()\n",
        "plt.plot(training.history['acc'], label='Accuracy')\n",
        "plt.plot(training.history['loss'], label='Loss')\n",
        "plt.xlabel('Epochs')\n",
        "plt.ylabel('Accuracy')\n",
        "plt.title(\"Training Loss and Accuracy\")\n",
        "plt.ylabel(\"Loss/Accuracy\")\n",
        "plt.legend()\n",
        "plt.savefig('drive/My Drive/Resultado/' + arquiteture + '.png', bbox_inches='tight')"
      ],
      "execution_count": 41,
      "outputs": [
        {
          "output_type": "display_data",
          "data": {
            "image/png": "[encoded data removed]",
            "text/plain": [
              "<matplotlib.figure.Figure at 0x7f61d60da4e0>"
            ]
          },
          "metadata": {
            "tags": []
          }
        }
      ]
    },
    {
      "metadata": {
        "colab_type": "code",
        "id": "w0epZConj269",
        "colab": {
          "base_uri": "https://localhost:8080/",
          "height": 54
        },
        "outputId": "c83de831-18d8-4f83-a96a-f84d790b2c7d"
      },
      "cell_type": "code",
      "source": [
        "y_true, y_predict = ler_images_teste(arquiteture)"
      ],
      "execution_count": 42,
      "outputs": [
        {
          "output_type": "stream",
          "text": [
            "/usr/local/lib/python3.6/dist-packages/skimage/transform/_warps.py:84: UserWarning: The default mode, 'constant', will be changed to 'reflect' in skimage 0.15.\n",
            "  warn(\"The default mode, 'constant', will be changed to 'reflect' in \"\n"
          ],
          "name": "stderr"
        }
      ]
    },
    {
      "metadata": {
        "colab_type": "code",
        "id": "raSeJjACj27G",
        "colab": {
          "base_uri": "https://localhost:8080/",
          "height": 35
        },
        "outputId": "d007833d-5312-40a3-deb4-26dc30cccb15"
      },
      "cell_type": "code",
      "source": [
        "results[arquiteture] = accuracy_score(y_true, y_predict)\n",
        "print('Test Accuracy: {:.2f}%'.format(100 * results[arquiteture]))"
      ],
      "execution_count": 43,
      "outputs": [
        {
          "output_type": "stream",
          "text": [
            "Test Accuracy: 83.02%\n"
          ],
          "name": "stdout"
        }
      ]
    },
    {
      "metadata": {
        "id": "lX3WANMgB1Ew",
        "colab_type": "text"
      },
      "cell_type": "markdown",
      "source": [
        "### 5 tentativa Accuracy: 83.73%"
      ]
    },
    {
      "metadata": {
        "colab_type": "text",
        "id": "dqed1VQh6WXg"
      },
      "cell_type": "markdown",
      "source": [
        "Modelo adaptado do **Lucas Albertins**\n",
        "\n",
        "*   Sem os **dropout**\n",
        "*   Função **SGD** para compilação\n"
      ]
    },
    {
      "metadata": {
        "colab_type": "code",
        "id": "z9mlUa4mB-ER",
        "colab": {}
      },
      "cell_type": "code",
      "source": [
        "from keras.layers import Conv2D, MaxPooling2D, GlobalMaxPooling2D, BatchNormalization\n",
        "from keras.regularizers import l2\n",
        "\n",
        "model = Sequential()\n",
        "\n",
        "model.add(Conv2D(32, (3, 3), activation='relu', kernel_regularizer=l2(1e-4), \n",
        "                 input_shape=(None, None, 3)))\n",
        "model.add(BatchNormalization())\n",
        "model.add(Conv2D(32, (3, 3), activation='relu', kernel_regularizer=l2(1e-4)))\n",
        "model.add(BatchNormalization())\n",
        "model.add(MaxPooling2D((2, 2)))\n",
        "model.add(Dropout(0.25))\n",
        "\n",
        "model.add(Conv2D(64, (3, 3), activation='relu', kernel_regularizer=l2(1e-4)))\n",
        "model.add(BatchNormalization())\n",
        "model.add(Conv2D(64, (3, 3), activation='relu', kernel_regularizer=l2(1e-4)))\n",
        "model.add(BatchNormalization())\n",
        "model.add(MaxPooling2D((2, 2)))\n",
        "model.add(Dropout(0.25))\n",
        "\n",
        "model.add(Conv2D(128, (1,1), kernel_regularizer=l2(1e-4)))\n",
        "model.add(GlobalMaxPooling2D())\n",
        "\n",
        "model.add(Dense(256, activation='relu', kernel_regularizer=l2(1e-4)))\n",
        "model.add(Dropout(0.5))\n",
        "model.add(Dense(2, activation='sigmoid', kernel_regularizer=l2(1e-4)))"
      ],
      "execution_count": 0,
      "outputs": []
    },
    {
      "metadata": {
        "id": "ukvJwM-lCHtB",
        "colab_type": "code",
        "colab": {}
      },
      "cell_type": "code",
      "source": [
        "model.compile(SGD(lr=0.01, momentum=0.0, decay=0.0, nesterov=False), \n",
        "              loss='binary_crossentropy', metrics=['accuracy'])"
      ],
      "execution_count": 0,
      "outputs": []
    },
    {
      "metadata": {
        "colab_type": "code",
        "id": "HA_KKMyaj6-L",
        "colab": {}
      },
      "cell_type": "code",
      "source": [
        "arquiteture = 'architecture_5'"
      ],
      "execution_count": 0,
      "outputs": []
    },
    {
      "metadata": {
        "colab_type": "code",
        "id": "eWpMObq1k1cL",
        "colab": {}
      },
      "cell_type": "code",
      "source": [
        "checkpointer = ModelCheckpoint(filepath='drive/My Drive/Resultado/weights_' + arquiteture + '.hdf5', verbose=1, save_best_only=True)"
      ],
      "execution_count": 0,
      "outputs": []
    },
    {
      "metadata": {
        "colab_type": "code",
        "id": "06GSgiIj4gfo",
        "colab": {
          "base_uri": "https://localhost:8080/",
          "height": 3690
        },
        "outputId": "b92eae10-7e20-4d9c-bfdf-2764adc31fda"
      },
      "cell_type": "code",
      "source": [
        "training = model.fit_generator(train_batches, steps_per_epoch=stepsPerEpoche, \n",
        "                   validation_data=validation_batches, validation_steps=validationSteps,\n",
        "                   epochs=50, verbose=2, callbacks=[checkpointer])"
      ],
      "execution_count": 48,
      "outputs": [
        {
          "output_type": "stream",
          "text": [
            "Epoch 1/50\n",
            " - 3s - loss: 3.9349 - acc: 0.4688 - val_loss: 1.5235 - val_acc: 0.6250\n",
            "\n",
            "Epoch 00001: val_loss improved from inf to 1.52346, saving model to drive/My Drive/Resultado/weights_architecture_5.hdf5\n",
            "Epoch 2/50\n",
            " - 1s - loss: 1.7098 - acc: 0.5625 - val_loss: 0.6115 - val_acc: 0.6797\n",
            "\n",
            "Epoch 00002: val_loss improved from 1.52346 to 0.61153, saving model to drive/My Drive/Resultado/weights_architecture_5.hdf5\n",
            "Epoch 3/50\n",
            " - 0s - loss: 1.8008 - acc: 0.5344 - val_loss: 1.0614 - val_acc: 0.4922\n",
            "\n",
            "Epoch 00003: val_loss did not improve from 0.61153\n",
            "Epoch 4/50\n",
            " - 1s - loss: 1.2126 - acc: 0.6094 - val_loss: 0.6276 - val_acc: 0.7109\n",
            "\n",
            "Epoch 00004: val_loss did not improve from 0.61153\n",
            "Epoch 5/50\n",
            " - 0s - loss: 0.7302 - acc: 0.6594 - val_loss: 0.7085 - val_acc: 0.6250\n",
            "\n",
            "Epoch 00005: val_loss did not improve from 0.61153\n",
            "Epoch 6/50\n",
            " - 1s - loss: 0.7225 - acc: 0.7000 - val_loss: 0.6077 - val_acc: 0.6875\n",
            "\n",
            "Epoch 00006: val_loss improved from 0.61153 to 0.60770, saving model to drive/My Drive/Resultado/weights_architecture_5.hdf5\n",
            "Epoch 7/50\n",
            " - 1s - loss: 0.7811 - acc: 0.6469 - val_loss: 0.5479 - val_acc: 0.7422\n",
            "\n",
            "Epoch 00007: val_loss improved from 0.60770 to 0.54791, saving model to drive/My Drive/Resultado/weights_architecture_5.hdf5\n",
            "Epoch 8/50\n",
            " - 1s - loss: 0.6152 - acc: 0.7406 - val_loss: 0.4859 - val_acc: 0.8409\n",
            "\n",
            "Epoch 00008: val_loss improved from 0.54791 to 0.48588, saving model to drive/My Drive/Resultado/weights_architecture_5.hdf5\n",
            "Epoch 9/50\n",
            " - 1s - loss: 0.4727 - acc: 0.7969 - val_loss: 0.5207 - val_acc: 0.8047\n",
            "\n",
            "Epoch 00009: val_loss did not improve from 0.48588\n",
            "Epoch 10/50\n",
            " - 1s - loss: 0.4765 - acc: 0.8258 - val_loss: 0.4965 - val_acc: 0.8359\n",
            "\n",
            "Epoch 00010: val_loss did not improve from 0.48588\n",
            "Epoch 11/50\n",
            " - 1s - loss: 0.5947 - acc: 0.7594 - val_loss: 0.4237 - val_acc: 0.8906\n",
            "\n",
            "Epoch 00011: val_loss improved from 0.48588 to 0.42372, saving model to drive/My Drive/Resultado/weights_architecture_5.hdf5\n",
            "Epoch 12/50\n",
            " - 1s - loss: 0.5367 - acc: 0.7844 - val_loss: 0.5063 - val_acc: 0.7656\n",
            "\n",
            "Epoch 00012: val_loss did not improve from 0.42372\n",
            "Epoch 13/50\n",
            " - 1s - loss: 0.5436 - acc: 0.7906 - val_loss: 0.5169 - val_acc: 0.8047\n",
            "\n",
            "Epoch 00013: val_loss did not improve from 0.42372\n",
            "Epoch 14/50\n",
            " - 1s - loss: 0.5226 - acc: 0.7969 - val_loss: 0.5218 - val_acc: 0.7812\n",
            "\n",
            "Epoch 00014: val_loss did not improve from 0.42372\n",
            "Epoch 15/50\n",
            " - 1s - loss: 0.5278 - acc: 0.7687 - val_loss: 0.6686 - val_acc: 0.6406\n",
            "\n",
            "Epoch 00015: val_loss did not improve from 0.42372\n",
            "Epoch 16/50\n",
            " - 1s - loss: 0.5958 - acc: 0.7687 - val_loss: 0.4399 - val_acc: 0.8828\n",
            "\n",
            "Epoch 00016: val_loss did not improve from 0.42372\n",
            "Epoch 17/50\n",
            " - 1s - loss: 0.4423 - acc: 0.8375 - val_loss: 0.5115 - val_acc: 0.8203\n",
            "\n",
            "Epoch 00017: val_loss did not improve from 0.42372\n",
            "Epoch 18/50\n",
            " - 1s - loss: 0.4546 - acc: 0.8344 - val_loss: 0.4991 - val_acc: 0.8281\n",
            "\n",
            "Epoch 00018: val_loss did not improve from 0.42372\n",
            "Epoch 19/50\n",
            " - 1s - loss: 0.4890 - acc: 0.8312 - val_loss: 0.4705 - val_acc: 0.7969\n",
            "\n",
            "Epoch 00019: val_loss did not improve from 0.42372\n",
            "Epoch 20/50\n",
            " - 1s - loss: 0.4780 - acc: 0.8250 - val_loss: 0.5755 - val_acc: 0.7422\n",
            "\n",
            "Epoch 00020: val_loss did not improve from 0.42372\n",
            "Epoch 21/50\n",
            " - 1s - loss: 0.4644 - acc: 0.8219 - val_loss: 0.5256 - val_acc: 0.7812\n",
            "\n",
            "Epoch 00021: val_loss did not improve from 0.42372\n",
            "Epoch 22/50\n",
            " - 1s - loss: 0.4105 - acc: 0.8594 - val_loss: 0.4428 - val_acc: 0.8438\n",
            "\n",
            "Epoch 00022: val_loss did not improve from 0.42372\n",
            "Epoch 23/50\n",
            " - 1s - loss: 0.4710 - acc: 0.8438 - val_loss: 0.4632 - val_acc: 0.8281\n",
            "\n",
            "Epoch 00023: val_loss did not improve from 0.42372\n",
            "Epoch 24/50\n",
            " - 1s - loss: 0.4238 - acc: 0.8469 - val_loss: 0.4330 - val_acc: 0.8281\n",
            "\n",
            "Epoch 00024: val_loss did not improve from 0.42372\n",
            "Epoch 25/50\n",
            " - 1s - loss: 0.4032 - acc: 0.8375 - val_loss: 0.5330 - val_acc: 0.7273\n",
            "\n",
            "Epoch 00025: val_loss did not improve from 0.42372\n",
            "Epoch 26/50\n",
            " - 1s - loss: 0.3851 - acc: 0.8688 - val_loss: 0.4239 - val_acc: 0.8438\n",
            "\n",
            "Epoch 00026: val_loss did not improve from 0.42372\n",
            "Epoch 27/50\n",
            " - 1s - loss: 0.4115 - acc: 0.8344 - val_loss: 0.4392 - val_acc: 0.7734\n",
            "\n",
            "Epoch 00027: val_loss did not improve from 0.42372\n",
            "Epoch 28/50\n",
            " - 1s - loss: 0.3415 - acc: 0.8937 - val_loss: 0.5148 - val_acc: 0.7500\n",
            "\n",
            "Epoch 00028: val_loss did not improve from 0.42372\n",
            "Epoch 29/50\n",
            " - 1s - loss: 0.3407 - acc: 0.8844 - val_loss: 0.5058 - val_acc: 0.7656\n",
            "\n",
            "Epoch 00029: val_loss did not improve from 0.42372\n",
            "Epoch 30/50\n",
            " - 1s - loss: 0.3786 - acc: 0.8406 - val_loss: 0.7195 - val_acc: 0.6875\n",
            "\n",
            "Epoch 00030: val_loss did not improve from 0.42372\n",
            "Epoch 31/50\n",
            " - 1s - loss: 0.3827 - acc: 0.8625 - val_loss: 0.4833 - val_acc: 0.7969\n",
            "\n",
            "Epoch 00031: val_loss did not improve from 0.42372\n",
            "Epoch 32/50\n",
            " - 1s - loss: 0.3611 - acc: 0.8875 - val_loss: 0.4177 - val_acc: 0.8203\n",
            "\n",
            "Epoch 00032: val_loss improved from 0.42372 to 0.41767, saving model to drive/My Drive/Resultado/weights_architecture_5.hdf5\n",
            "Epoch 33/50\n",
            " - 1s - loss: 0.3012 - acc: 0.9125 - val_loss: 0.4636 - val_acc: 0.7812\n",
            "\n",
            "Epoch 00033: val_loss did not improve from 0.41767\n",
            "Epoch 34/50\n",
            " - 1s - loss: 0.3907 - acc: 0.8844 - val_loss: 0.5236 - val_acc: 0.7812\n",
            "\n",
            "Epoch 00034: val_loss did not improve from 0.41767\n",
            "Epoch 35/50\n",
            " - 1s - loss: 0.3746 - acc: 0.9062 - val_loss: 0.6027 - val_acc: 0.6953\n",
            "\n",
            "Epoch 00035: val_loss did not improve from 0.41767\n",
            "Epoch 36/50\n",
            " - 1s - loss: 0.2916 - acc: 0.9355 - val_loss: 0.3992 - val_acc: 0.7812\n",
            "\n",
            "Epoch 00036: val_loss improved from 0.41767 to 0.39919, saving model to drive/My Drive/Resultado/weights_architecture_5.hdf5\n",
            "Epoch 37/50\n",
            " - 1s - loss: 0.5398 - acc: 0.8219 - val_loss: 0.6032 - val_acc: 0.7109\n",
            "\n",
            "Epoch 00037: val_loss did not improve from 0.39919\n",
            "Epoch 38/50\n",
            " - 1s - loss: 0.3484 - acc: 0.8781 - val_loss: 0.5625 - val_acc: 0.6641\n",
            "\n",
            "Epoch 00038: val_loss did not improve from 0.39919\n",
            "Epoch 39/50\n",
            " - 1s - loss: 0.4941 - acc: 0.8000 - val_loss: 0.4258 - val_acc: 0.8516\n",
            "\n",
            "Epoch 00039: val_loss did not improve from 0.39919\n",
            "Epoch 40/50\n",
            " - 1s - loss: 0.3374 - acc: 0.8969 - val_loss: 0.4579 - val_acc: 0.8359\n",
            "\n",
            "Epoch 00040: val_loss did not improve from 0.39919\n",
            "Epoch 41/50\n",
            " - 1s - loss: 0.3642 - acc: 0.8719 - val_loss: 0.3961 - val_acc: 0.9062\n",
            "\n",
            "Epoch 00041: val_loss improved from 0.39919 to 0.39610, saving model to drive/My Drive/Resultado/weights_architecture_5.hdf5\n",
            "Epoch 42/50\n",
            " - 1s - loss: 0.4606 - acc: 0.8375 - val_loss: 0.4647 - val_acc: 0.8281\n",
            "\n",
            "Epoch 00042: val_loss did not improve from 0.39610\n",
            "Epoch 43/50\n",
            " - 1s - loss: 0.3276 - acc: 0.8937 - val_loss: 0.5102 - val_acc: 0.7273\n",
            "\n",
            "Epoch 00043: val_loss did not improve from 0.39610\n",
            "Epoch 44/50\n",
            " - 1s - loss: 0.3271 - acc: 0.8969 - val_loss: 0.4012 - val_acc: 0.8125\n",
            "\n",
            "Epoch 00044: val_loss did not improve from 0.39610\n",
            "Epoch 45/50\n",
            " - 1s - loss: 0.3694 - acc: 0.8844 - val_loss: 0.6045 - val_acc: 0.7266\n",
            "\n",
            "Epoch 00045: val_loss did not improve from 0.39610\n",
            "Epoch 46/50\n",
            " - 1s - loss: 0.4507 - acc: 0.8187 - val_loss: 0.5677 - val_acc: 0.7344\n",
            "\n",
            "Epoch 00046: val_loss did not improve from 0.39610\n",
            "Epoch 47/50\n",
            " - 1s - loss: 0.4142 - acc: 0.8469 - val_loss: 0.4167 - val_acc: 0.8047\n",
            "\n",
            "Epoch 00047: val_loss did not improve from 0.39610\n",
            "Epoch 48/50\n",
            " - 1s - loss: 0.4068 - acc: 0.8406 - val_loss: 0.3557 - val_acc: 0.9062\n",
            "\n",
            "Epoch 00048: val_loss improved from 0.39610 to 0.35573, saving model to drive/My Drive/Resultado/weights_architecture_5.hdf5\n",
            "Epoch 49/50\n",
            " - 1s - loss: 0.3985 - acc: 0.8594 - val_loss: 0.6900 - val_acc: 0.6719\n",
            "\n",
            "Epoch 00049: val_loss did not improve from 0.35573\n",
            "Epoch 50/50\n",
            " - 1s - loss: 0.4170 - acc: 0.8500 - val_loss: 0.5766 - val_acc: 0.7266\n",
            "\n",
            "Epoch 00050: val_loss did not improve from 0.35573\n"
          ],
          "name": "stdout"
        }
      ]
    },
    {
      "metadata": {
        "colab_type": "code",
        "id": "bqNxaqg5j6-Q",
        "colab": {
          "base_uri": "https://localhost:8080/",
          "height": 380
        },
        "outputId": "25776b1d-bc51-4001-a72e-4aaa07bfea7e"
      },
      "cell_type": "code",
      "source": [
        "# plotar loss e accuracy para os datasets 'train' e 'test'\n",
        "plt.style.use(\"ggplot\")\n",
        "plt.figure()\n",
        "plt.plot(training.history['acc'], label='Accuracy')\n",
        "plt.plot(training.history['loss'], label='Loss')\n",
        "plt.xlabel('Epochs')\n",
        "plt.ylabel('Accuracy')\n",
        "plt.title(\"Training Loss and Accuracy\")\n",
        "plt.ylabel(\"Loss/Accuracy\")\n",
        "plt.legend()\n",
        "plt.savefig('drive/My Drive/Resultado/' + arquiteture + '.png', bbox_inches='tight')"
      ],
      "execution_count": 49,
      "outputs": [
        {
          "output_type": "display_data",
          "data": {
            "image/png": "[encoded data removed]",
            "text/plain": [
              "<matplotlib.figure.Figure at 0x7f61d5de2eb8>"
            ]
          },
          "metadata": {
            "tags": []
          }
        }
      ]
    },
    {
      "metadata": {
        "colab_type": "code",
        "id": "PNDCeMfZj6-X",
        "colab": {
          "base_uri": "https://localhost:8080/",
          "height": 54
        },
        "outputId": "8dfd5343-0701-4a4a-832e-dfdb586a448a"
      },
      "cell_type": "code",
      "source": [
        "y_true, y_predict = ler_images_teste(arquiteture)"
      ],
      "execution_count": 50,
      "outputs": [
        {
          "output_type": "stream",
          "text": [
            "/usr/local/lib/python3.6/dist-packages/skimage/transform/_warps.py:84: UserWarning: The default mode, 'constant', will be changed to 'reflect' in skimage 0.15.\n",
            "  warn(\"The default mode, 'constant', will be changed to 'reflect' in \"\n"
          ],
          "name": "stderr"
        }
      ]
    },
    {
      "metadata": {
        "colab_type": "code",
        "id": "atPv7K2Jj6-g",
        "colab": {
          "base_uri": "https://localhost:8080/",
          "height": 35
        },
        "outputId": "8eebe249-d973-4921-b2e0-01f9dca7fb07"
      },
      "cell_type": "code",
      "source": [
        "results[arquiteture] = accuracy_score(y_true, y_predict)\n",
        "print('Test Accuracy: {:.2f}%'.format(100 * results[arquiteture]))"
      ],
      "execution_count": 51,
      "outputs": [
        {
          "output_type": "stream",
          "text": [
            "Test Accuracy: 83.73%\n"
          ],
          "name": "stdout"
        }
      ]
    },
    {
      "metadata": {
        "id": "apfIeirYD2N7",
        "colab_type": "text"
      },
      "cell_type": "markdown",
      "source": [
        "### 6 tentativa Accuracy: 83.02%"
      ]
    },
    {
      "metadata": {
        "colab_type": "text",
        "id": "xaxcjuxn7BAH"
      },
      "cell_type": "markdown",
      "source": [
        "Modelo adaptado do **Lucas Albertins**\n",
        "\n",
        "*   Sem os **dropout**\n",
        "*   Função **SGD** para compilação\n",
        "*   **BatchNormalization** antes da ultima camada Dense\n"
      ]
    },
    {
      "metadata": {
        "colab_type": "code",
        "id": "C2UuO-jqD44u",
        "colab": {}
      },
      "cell_type": "code",
      "source": [
        "from keras.layers import Conv2D, MaxPooling2D, GlobalMaxPooling2D, BatchNormalization\n",
        "from keras.regularizers import l2\n",
        "\n",
        "model = Sequential()\n",
        "\n",
        "model.add(Conv2D(32, (3, 3), activation='relu', kernel_regularizer=l2(1e-4), \n",
        "                 input_shape=(None, None, 3)))\n",
        "model.add(BatchNormalization())\n",
        "model.add(Conv2D(32, (3, 3), activation='relu', kernel_regularizer=l2(1e-4)))\n",
        "model.add(BatchNormalization())\n",
        "model.add(MaxPooling2D((2, 2)))\n",
        "\n",
        "model.add(Conv2D(64, (3, 3), activation='relu', kernel_regularizer=l2(1e-4)))\n",
        "model.add(BatchNormalization())\n",
        "model.add(Conv2D(64, (3, 3), activation='relu', kernel_regularizer=l2(1e-4)))\n",
        "model.add(BatchNormalization())\n",
        "model.add(MaxPooling2D((2, 2)))\n",
        "\n",
        "model.add(Conv2D(128, (1,1), kernel_regularizer=l2(1e-4)))\n",
        "model.add(GlobalMaxPooling2D())\n",
        "\n",
        "model.add(Dense(256, activation='relu', kernel_regularizer=l2(1e-4)))\n",
        "model.add(BatchNormalization())\n",
        "model.add(Dense(2, activation='sigmoid', kernel_regularizer=l2(1e-4)))"
      ],
      "execution_count": 0,
      "outputs": []
    },
    {
      "metadata": {
        "colab_type": "code",
        "id": "I7mu97znD45M",
        "colab": {}
      },
      "cell_type": "code",
      "source": [
        "model.compile(SGD(lr=0.03, momentum=0.0, decay=0.0, nesterov=False), \n",
        "              loss='binary_crossentropy', metrics=['accuracy'])"
      ],
      "execution_count": 0,
      "outputs": []
    },
    {
      "metadata": {
        "colab_type": "code",
        "id": "QQFrxD_Rj9wz",
        "colab": {}
      },
      "cell_type": "code",
      "source": [
        "arquiteture = 'architecture_6'"
      ],
      "execution_count": 0,
      "outputs": []
    },
    {
      "metadata": {
        "colab_type": "code",
        "id": "ihB-VbCRkyUR",
        "colab": {}
      },
      "cell_type": "code",
      "source": [
        "checkpointer = ModelCheckpoint(filepath='drive/My Drive/Resultado/weights_' + arquiteture + '.hdf5', verbose=1, save_best_only=True)"
      ],
      "execution_count": 0,
      "outputs": []
    },
    {
      "metadata": {
        "colab_type": "code",
        "id": "HRAakAz46scS",
        "colab": {
          "base_uri": "https://localhost:8080/",
          "height": 3690
        },
        "outputId": "81b15355-fc3d-4761-b6ef-71b4c71b2a9c"
      },
      "cell_type": "code",
      "source": [
        "training = model.fit_generator(train_batches, steps_per_epoch=stepsPerEpoche, \n",
        "                   validation_data=validation_batches, validation_steps=validationSteps,\n",
        "                   epochs=50, verbose=2, callbacks=[checkpointer])"
      ],
      "execution_count": 56,
      "outputs": [
        {
          "output_type": "stream",
          "text": [
            "Epoch 1/50\n",
            " - 3s - loss: 0.5375 - acc: 0.7625 - val_loss: 0.8103 - val_acc: 0.7266\n",
            "\n",
            "Epoch 00001: val_loss improved from inf to 0.81034, saving model to drive/My Drive/Resultado/weights_architecture_6.hdf5\n",
            "Epoch 2/50\n",
            " - 0s - loss: 0.4498 - acc: 0.8344 - val_loss: 0.7153 - val_acc: 0.7031\n",
            "\n",
            "Epoch 00002: val_loss improved from 0.81034 to 0.71527, saving model to drive/My Drive/Resultado/weights_architecture_6.hdf5\n",
            "Epoch 3/50\n",
            " - 0s - loss: 0.3966 - acc: 0.8594 - val_loss: 0.3156 - val_acc: 0.9141\n",
            "\n",
            "Epoch 00003: val_loss improved from 0.71527 to 0.31555, saving model to drive/My Drive/Resultado/weights_architecture_6.hdf5\n",
            "Epoch 4/50\n",
            " - 0s - loss: 0.3327 - acc: 0.9094 - val_loss: 0.4104 - val_acc: 0.8281\n",
            "\n",
            "Epoch 00004: val_loss did not improve from 0.31555\n",
            "Epoch 5/50\n",
            " - 0s - loss: 0.3436 - acc: 0.8875 - val_loss: 0.4606 - val_acc: 0.7841\n",
            "\n",
            "Epoch 00005: val_loss did not improve from 0.31555\n",
            "Epoch 6/50\n",
            " - 0s - loss: 0.2944 - acc: 0.9281 - val_loss: 0.5463 - val_acc: 0.8125\n",
            "\n",
            "Epoch 00006: val_loss did not improve from 0.31555\n",
            "Epoch 7/50\n",
            " - 1s - loss: 0.3307 - acc: 0.8875 - val_loss: 0.4159 - val_acc: 0.8359\n",
            "\n",
            "Epoch 00007: val_loss did not improve from 0.31555\n",
            "Epoch 8/50\n",
            " - 1s - loss: 0.3708 - acc: 0.8656 - val_loss: 0.5875 - val_acc: 0.7578\n",
            "\n",
            "Epoch 00008: val_loss did not improve from 0.31555\n",
            "Epoch 9/50\n",
            " - 1s - loss: 0.2817 - acc: 0.9188 - val_loss: 0.6288 - val_acc: 0.8516\n",
            "\n",
            "Epoch 00009: val_loss did not improve from 0.31555\n",
            "Epoch 10/50\n",
            " - 1s - loss: 0.3165 - acc: 0.9281 - val_loss: 0.4986 - val_acc: 0.8281\n",
            "\n",
            "Epoch 00010: val_loss did not improve from 0.31555\n",
            "Epoch 11/50\n",
            " - 1s - loss: 0.3147 - acc: 0.8875 - val_loss: 0.7850 - val_acc: 0.7344\n",
            "\n",
            "Epoch 00011: val_loss did not improve from 0.31555\n",
            "Epoch 12/50\n",
            " - 1s - loss: 0.3306 - acc: 0.8750 - val_loss: 0.5520 - val_acc: 0.7734\n",
            "\n",
            "Epoch 00012: val_loss did not improve from 0.31555\n",
            "Epoch 13/50\n",
            " - 1s - loss: 0.3678 - acc: 0.8613 - val_loss: 0.4906 - val_acc: 0.8359\n",
            "\n",
            "Epoch 00013: val_loss did not improve from 0.31555\n",
            "Epoch 14/50\n",
            " - 1s - loss: 0.2952 - acc: 0.9000 - val_loss: 0.4174 - val_acc: 0.8516\n",
            "\n",
            "Epoch 00014: val_loss did not improve from 0.31555\n",
            "Epoch 15/50\n",
            " - 1s - loss: 0.3219 - acc: 0.9188 - val_loss: 0.5062 - val_acc: 0.8047\n",
            "\n",
            "Epoch 00015: val_loss did not improve from 0.31555\n",
            "Epoch 16/50\n",
            " - 1s - loss: 0.2742 - acc: 0.9094 - val_loss: 0.5673 - val_acc: 0.7266\n",
            "\n",
            "Epoch 00016: val_loss did not improve from 0.31555\n",
            "Epoch 17/50\n",
            " - 1s - loss: 0.2683 - acc: 0.9094 - val_loss: 0.9777 - val_acc: 0.8047\n",
            "\n",
            "Epoch 00017: val_loss did not improve from 0.31555\n",
            "Epoch 18/50\n",
            " - 1s - loss: 0.3699 - acc: 0.9000 - val_loss: 0.3605 - val_acc: 0.8672\n",
            "\n",
            "Epoch 00018: val_loss did not improve from 0.31555\n",
            "Epoch 19/50\n",
            " - 1s - loss: 0.2103 - acc: 0.9375 - val_loss: 0.3641 - val_acc: 0.9062\n",
            "\n",
            "Epoch 00019: val_loss did not improve from 0.31555\n",
            "Epoch 20/50\n",
            " - 1s - loss: 0.2919 - acc: 0.9188 - val_loss: 0.8431 - val_acc: 0.6406\n",
            "\n",
            "Epoch 00020: val_loss did not improve from 0.31555\n",
            "Epoch 21/50\n",
            " - 1s - loss: 0.3375 - acc: 0.9094 - val_loss: 0.2415 - val_acc: 0.8906\n",
            "\n",
            "Epoch 00021: val_loss improved from 0.31555 to 0.24152, saving model to drive/My Drive/Resultado/weights_architecture_6.hdf5\n",
            "Epoch 22/50\n",
            " - 1s - loss: 0.3707 - acc: 0.9031 - val_loss: 0.4711 - val_acc: 0.8047\n",
            "\n",
            "Epoch 00022: val_loss did not improve from 0.24152\n",
            "Epoch 23/50\n",
            " - 1s - loss: 0.2312 - acc: 0.9437 - val_loss: 0.2434 - val_acc: 0.9318\n",
            "\n",
            "Epoch 00023: val_loss did not improve from 0.24152\n",
            "Epoch 24/50\n",
            " - 1s - loss: 0.1927 - acc: 0.9562 - val_loss: 0.4192 - val_acc: 0.8984\n",
            "\n",
            "Epoch 00024: val_loss did not improve from 0.24152\n",
            "Epoch 25/50\n",
            " - 1s - loss: 0.2409 - acc: 0.9375 - val_loss: 0.6068 - val_acc: 0.8047\n",
            "\n",
            "Epoch 00025: val_loss did not improve from 0.24152\n",
            "Epoch 26/50\n",
            " - 1s - loss: 0.3208 - acc: 0.8656 - val_loss: 0.3475 - val_acc: 0.9219\n",
            "\n",
            "Epoch 00026: val_loss did not improve from 0.24152\n",
            "Epoch 27/50\n",
            " - 1s - loss: 0.3137 - acc: 0.9094 - val_loss: 0.3980 - val_acc: 0.8750\n",
            "\n",
            "Epoch 00027: val_loss did not improve from 0.24152\n",
            "Epoch 28/50\n",
            " - 1s - loss: 0.2987 - acc: 0.8969 - val_loss: 0.3215 - val_acc: 0.8750\n",
            "\n",
            "Epoch 00028: val_loss did not improve from 0.24152\n",
            "Epoch 29/50\n",
            " - 1s - loss: 0.3087 - acc: 0.8969 - val_loss: 0.4001 - val_acc: 0.9141\n",
            "\n",
            "Epoch 00029: val_loss did not improve from 0.24152\n",
            "Epoch 30/50\n",
            " - 1s - loss: 0.2907 - acc: 0.9219 - val_loss: 0.7314 - val_acc: 0.8359\n",
            "\n",
            "Epoch 00030: val_loss did not improve from 0.24152\n",
            "Epoch 31/50\n",
            " - 1s - loss: 0.2784 - acc: 0.9375 - val_loss: 0.3794 - val_acc: 0.9219\n",
            "\n",
            "Epoch 00031: val_loss did not improve from 0.24152\n",
            "Epoch 32/50\n",
            " - 1s - loss: 0.3371 - acc: 0.8781 - val_loss: 0.3712 - val_acc: 0.8750\n",
            "\n",
            "Epoch 00032: val_loss did not improve from 0.24152\n",
            "Epoch 33/50\n",
            " - 1s - loss: 0.2478 - acc: 0.9313 - val_loss: 0.3603 - val_acc: 0.8828\n",
            "\n",
            "Epoch 00033: val_loss did not improve from 0.24152\n",
            "Epoch 34/50\n",
            " - 1s - loss: 0.2824 - acc: 0.9188 - val_loss: 0.3730 - val_acc: 0.8984\n",
            "\n",
            "Epoch 00034: val_loss did not improve from 0.24152\n",
            "Epoch 35/50\n",
            " - 1s - loss: 0.2737 - acc: 0.9250 - val_loss: 0.2728 - val_acc: 0.8984\n",
            "\n",
            "Epoch 00035: val_loss did not improve from 0.24152\n",
            "Epoch 36/50\n",
            " - 1s - loss: 0.3078 - acc: 0.8969 - val_loss: 1.2692 - val_acc: 0.4609\n",
            "\n",
            "Epoch 00036: val_loss did not improve from 0.24152\n",
            "Epoch 37/50\n",
            " - 1s - loss: 0.3101 - acc: 0.9156 - val_loss: 0.4795 - val_acc: 0.8906\n",
            "\n",
            "Epoch 00037: val_loss did not improve from 0.24152\n",
            "Epoch 38/50\n",
            " - 1s - loss: 0.2936 - acc: 0.9031 - val_loss: 0.5431 - val_acc: 0.8438\n",
            "\n",
            "Epoch 00038: val_loss did not improve from 0.24152\n",
            "Epoch 39/50\n",
            " - 1s - loss: 0.2704 - acc: 0.9226 - val_loss: 0.4817 - val_acc: 0.8594\n",
            "\n",
            "Epoch 00039: val_loss did not improve from 0.24152\n",
            "Epoch 40/50\n",
            " - 1s - loss: 0.2298 - acc: 0.9156 - val_loss: 0.6761 - val_acc: 0.7614\n",
            "\n",
            "Epoch 00040: val_loss did not improve from 0.24152\n",
            "Epoch 41/50\n",
            " - 1s - loss: 0.2071 - acc: 0.9594 - val_loss: 0.4724 - val_acc: 0.8594\n",
            "\n",
            "Epoch 00041: val_loss did not improve from 0.24152\n",
            "Epoch 42/50\n",
            " - 1s - loss: 0.2347 - acc: 0.9406 - val_loss: 0.4349 - val_acc: 0.8359\n",
            "\n",
            "Epoch 00042: val_loss did not improve from 0.24152\n",
            "Epoch 43/50\n",
            " - 1s - loss: 0.2299 - acc: 0.9437 - val_loss: 0.4428 - val_acc: 0.8203\n",
            "\n",
            "Epoch 00043: val_loss did not improve from 0.24152\n",
            "Epoch 44/50\n",
            " - 1s - loss: 0.2846 - acc: 0.9188 - val_loss: 0.5761 - val_acc: 0.7891\n",
            "\n",
            "Epoch 00044: val_loss did not improve from 0.24152\n",
            "Epoch 45/50\n",
            " - 1s - loss: 0.2826 - acc: 0.8969 - val_loss: 0.8047 - val_acc: 0.7578\n",
            "\n",
            "Epoch 00045: val_loss did not improve from 0.24152\n",
            "Epoch 46/50\n",
            " - 1s - loss: 0.2994 - acc: 0.9344 - val_loss: 0.4029 - val_acc: 0.8828\n",
            "\n",
            "Epoch 00046: val_loss did not improve from 0.24152\n",
            "Epoch 47/50\n",
            " - 1s - loss: 0.2153 - acc: 0.9469 - val_loss: 0.2690 - val_acc: 0.9375\n",
            "\n",
            "Epoch 00047: val_loss did not improve from 0.24152\n",
            "Epoch 48/50\n",
            " - 1s - loss: 0.1811 - acc: 0.9594 - val_loss: 0.2361 - val_acc: 0.9297\n",
            "\n",
            "Epoch 00048: val_loss improved from 0.24152 to 0.23611, saving model to drive/My Drive/Resultado/weights_architecture_6.hdf5\n",
            "Epoch 49/50\n",
            " - 1s - loss: 0.2061 - acc: 0.9437 - val_loss: 0.1922 - val_acc: 0.9609\n",
            "\n",
            "Epoch 00049: val_loss improved from 0.23611 to 0.19219, saving model to drive/My Drive/Resultado/weights_architecture_6.hdf5\n",
            "Epoch 50/50\n",
            " - 1s - loss: 0.2395 - acc: 0.9313 - val_loss: 0.5102 - val_acc: 0.8906\n",
            "\n",
            "Epoch 00050: val_loss did not improve from 0.19219\n"
          ],
          "name": "stdout"
        }
      ]
    },
    {
      "metadata": {
        "colab_type": "code",
        "id": "OqkWIHX3j9w7",
        "colab": {
          "base_uri": "https://localhost:8080/",
          "height": 380
        },
        "outputId": "6038ba6b-12a9-42ed-adca-2349f9c0b4a8"
      },
      "cell_type": "code",
      "source": [
        "# plotar loss e accuracy para os datasets 'train' e 'test'\n",
        "plt.style.use(\"ggplot\")\n",
        "plt.figure()\n",
        "plt.plot(training.history['acc'], label='Accuracy')\n",
        "plt.plot(training.history['loss'], label='Loss')\n",
        "plt.xlabel('Epochs')\n",
        "plt.ylabel('Accuracy')\n",
        "plt.title(\"Training Loss and Accuracy\")\n",
        "plt.ylabel(\"Loss/Accuracy\")\n",
        "plt.legend()\n",
        "plt.savefig('drive/My Drive/Resultado/' + arquiteture + '.png', bbox_inches='tight')"
      ],
      "execution_count": 57,
      "outputs": [
        {
          "output_type": "display_data",
          "data": {
            "image/png": "[encoded data removed]",
            "text/plain": [
              "<matplotlib.figure.Figure at 0x7f61d60da4a8>"
            ]
          },
          "metadata": {
            "tags": []
          }
        }
      ]
    },
    {
      "metadata": {
        "colab_type": "code",
        "id": "4Gkm9_wVj9w_",
        "colab": {
          "base_uri": "https://localhost:8080/",
          "height": 54
        },
        "outputId": "047fa2e3-840e-4f77-b681-eab8304ad44c"
      },
      "cell_type": "code",
      "source": [
        "y_true, y_predict = ler_images_teste(arquiteture)"
      ],
      "execution_count": 58,
      "outputs": [
        {
          "output_type": "stream",
          "text": [
            "/usr/local/lib/python3.6/dist-packages/skimage/transform/_warps.py:84: UserWarning: The default mode, 'constant', will be changed to 'reflect' in skimage 0.15.\n",
            "  warn(\"The default mode, 'constant', will be changed to 'reflect' in \"\n"
          ],
          "name": "stderr"
        }
      ]
    },
    {
      "metadata": {
        "colab_type": "code",
        "id": "seI9o-8_j9xD",
        "colab": {
          "base_uri": "https://localhost:8080/",
          "height": 35
        },
        "outputId": "7a1446c0-af2a-4195-aff5-770fab142f4f"
      },
      "cell_type": "code",
      "source": [
        "results[arquiteture] = accuracy_score(y_true, y_predict)\n",
        "print('Test Accuracy: {:.2f}%'.format(100 * results[arquiteture]))"
      ],
      "execution_count": 59,
      "outputs": [
        {
          "output_type": "stream",
          "text": [
            "Test Accuracy: 83.02%\n"
          ],
          "name": "stdout"
        }
      ]
    },
    {
      "metadata": {
        "id": "5gk7vmYPHddj",
        "colab_type": "text"
      },
      "cell_type": "markdown",
      "source": [
        "### 7 tentativa Accuracy: 83.02%"
      ]
    },
    {
      "metadata": {
        "colab_type": "text",
        "id": "lxzyd-4L422r"
      },
      "cell_type": "markdown",
      "source": [
        "Modelo adaptado do **Lucas Albertins**\n",
        "\n",
        "*   Sem os **dropout**\n",
        "*   Função **Adadelta** para compilação\n",
        "*   **BatchNormalization** antes da ultima camada Dense\n"
      ]
    },
    {
      "metadata": {
        "colab_type": "code",
        "id": "sIBEdGsyHhJN",
        "colab": {}
      },
      "cell_type": "code",
      "source": [
        "from keras.layers import Conv2D, MaxPooling2D, GlobalMaxPooling2D, BatchNormalization\n",
        "from keras.regularizers import l2\n",
        "from keras.optimizers import Adadelta\n",
        "\n",
        "model = Sequential()\n",
        "\n",
        "model.add(Conv2D(32, (3, 3), activation='relu', kernel_regularizer=l2(1e-4), \n",
        "                 input_shape=(None, None, 3)))\n",
        "model.add(BatchNormalization())\n",
        "model.add(Conv2D(32, (3, 3), activation='relu', kernel_regularizer=l2(1e-4)))\n",
        "model.add(BatchNormalization())\n",
        "model.add(MaxPooling2D((2, 2)))\n",
        "\n",
        "model.add(Conv2D(64, (3, 3), activation='relu', kernel_regularizer=l2(1e-4)))\n",
        "model.add(BatchNormalization())\n",
        "model.add(Conv2D(64, (3, 3), activation='relu', kernel_regularizer=l2(1e-4)))\n",
        "model.add(BatchNormalization())\n",
        "model.add(MaxPooling2D((2, 2)))\n",
        "\n",
        "model.add(Conv2D(128, (1,1), kernel_regularizer=l2(1e-4)))\n",
        "model.add(GlobalMaxPooling2D())\n",
        "\n",
        "model.add(Dense(256, activation='relu', kernel_regularizer=l2(1e-4)))\n",
        "model.add(BatchNormalization())\n",
        "model.add(Dense(2, activation='sigmoid', kernel_regularizer=l2(1e-4)))"
      ],
      "execution_count": 0,
      "outputs": []
    },
    {
      "metadata": {
        "colab_type": "code",
        "id": "P6ZvobfGHhJb",
        "colab": {}
      },
      "cell_type": "code",
      "source": [
        "model.compile(Adadelta(lr=1.0, rho=0.95, epsilon=None, decay=0.0), \n",
        "              loss='binary_crossentropy', metrics=['accuracy'])"
      ],
      "execution_count": 0,
      "outputs": []
    },
    {
      "metadata": {
        "colab_type": "code",
        "id": "ufy24IuYkBYc",
        "colab": {}
      },
      "cell_type": "code",
      "source": [
        "arquiteture = 'architecture_7'"
      ],
      "execution_count": 0,
      "outputs": []
    },
    {
      "metadata": {
        "colab_type": "code",
        "id": "TayAngUFkwJa",
        "colab": {}
      },
      "cell_type": "code",
      "source": [
        "checkpointer = ModelCheckpoint(filepath='drive/My Drive/Resultado/weights_' + arquiteture + '.hdf5', verbose=1, save_best_only=True)"
      ],
      "execution_count": 0,
      "outputs": []
    },
    {
      "metadata": {
        "colab_type": "code",
        "id": "mXDKyOFa4l2t",
        "colab": {
          "base_uri": "https://localhost:8080/",
          "height": 3690
        },
        "outputId": "bdf7cf80-e2e0-48f5-f649-f6593aebd4ba"
      },
      "cell_type": "code",
      "source": [
        "training = model.fit_generator(train_batches, steps_per_epoch=stepsPerEpoche, \n",
        "                   validation_data=validation_batches, validation_steps=validationSteps,\n",
        "                   epochs=50, verbose=2, callbacks=[checkpointer])"
      ],
      "execution_count": 64,
      "outputs": [
        {
          "output_type": "stream",
          "text": [
            "Epoch 1/50\n",
            " - 4s - loss: 0.5706 - acc: 0.7500 - val_loss: 1.0763 - val_acc: 0.6797\n",
            "\n",
            "Epoch 00001: val_loss improved from inf to 1.07627, saving model to drive/My Drive/Resultado/weights_architecture_7.hdf5\n",
            "Epoch 2/50\n",
            " - 1s - loss: 0.4230 - acc: 0.8406 - val_loss: 1.8755 - val_acc: 0.6016\n",
            "\n",
            "Epoch 00002: val_loss did not improve from 1.07627\n",
            "Epoch 3/50\n",
            " - 1s - loss: 0.3684 - acc: 0.8719 - val_loss: 0.4494 - val_acc: 0.8409\n",
            "\n",
            "Epoch 00003: val_loss improved from 1.07627 to 0.44935, saving model to drive/My Drive/Resultado/weights_architecture_7.hdf5\n",
            "Epoch 4/50\n",
            " - 1s - loss: 0.3549 - acc: 0.8906 - val_loss: 0.3305 - val_acc: 0.8984\n",
            "\n",
            "Epoch 00004: val_loss improved from 0.44935 to 0.33052, saving model to drive/My Drive/Resultado/weights_architecture_7.hdf5\n",
            "Epoch 5/50\n",
            " - 1s - loss: 0.4211 - acc: 0.8500 - val_loss: 0.4817 - val_acc: 0.8438\n",
            "\n",
            "Epoch 00005: val_loss did not improve from 0.33052\n",
            "Epoch 6/50\n",
            " - 1s - loss: 0.3239 - acc: 0.8875 - val_loss: 0.8946 - val_acc: 0.7422\n",
            "\n",
            "Epoch 00006: val_loss did not improve from 0.33052\n",
            "Epoch 7/50\n",
            " - 1s - loss: 0.2766 - acc: 0.9156 - val_loss: 0.4636 - val_acc: 0.8203\n",
            "\n",
            "Epoch 00007: val_loss did not improve from 0.33052\n",
            "Epoch 8/50\n",
            " - 1s - loss: 0.3730 - acc: 0.8781 - val_loss: 0.6701 - val_acc: 0.8203\n",
            "\n",
            "Epoch 00008: val_loss did not improve from 0.33052\n",
            "Epoch 9/50\n",
            " - 1s - loss: 0.3303 - acc: 0.8750 - val_loss: 0.9355 - val_acc: 0.6719\n",
            "\n",
            "Epoch 00009: val_loss did not improve from 0.33052\n",
            "Epoch 10/50\n",
            " - 1s - loss: 0.3408 - acc: 0.9000 - val_loss: 0.2793 - val_acc: 0.9219\n",
            "\n",
            "Epoch 00010: val_loss improved from 0.33052 to 0.27926, saving model to drive/My Drive/Resultado/weights_architecture_7.hdf5\n",
            "Epoch 11/50\n",
            " - 1s - loss: 0.3188 - acc: 0.8844 - val_loss: 0.6446 - val_acc: 0.8594\n",
            "\n",
            "Epoch 00011: val_loss did not improve from 0.27926\n",
            "Epoch 12/50\n",
            " - 1s - loss: 0.3929 - acc: 0.8625 - val_loss: 0.3428 - val_acc: 0.9062\n",
            "\n",
            "Epoch 00012: val_loss did not improve from 0.27926\n",
            "Epoch 13/50\n",
            " - 1s - loss: 0.2798 - acc: 0.9313 - val_loss: 0.4078 - val_acc: 0.8438\n",
            "\n",
            "Epoch 00013: val_loss did not improve from 0.27926\n",
            "Epoch 14/50\n",
            " - 1s - loss: 0.2831 - acc: 0.9156 - val_loss: 0.4300 - val_acc: 0.8516\n",
            "\n",
            "Epoch 00014: val_loss did not improve from 0.27926\n",
            "Epoch 15/50\n",
            " - 1s - loss: 0.2517 - acc: 0.9452 - val_loss: 0.6636 - val_acc: 0.8047\n",
            "\n",
            "Epoch 00015: val_loss did not improve from 0.27926\n",
            "Epoch 16/50\n",
            " - 1s - loss: 0.2493 - acc: 0.9344 - val_loss: 0.4212 - val_acc: 0.8594\n",
            "\n",
            "Epoch 00016: val_loss did not improve from 0.27926\n",
            "Epoch 17/50\n",
            " - 1s - loss: 0.2635 - acc: 0.9156 - val_loss: 0.4592 - val_acc: 0.8828\n",
            "\n",
            "Epoch 00017: val_loss did not improve from 0.27926\n",
            "Epoch 18/50\n",
            " - 1s - loss: 0.3104 - acc: 0.8812 - val_loss: 0.6918 - val_acc: 0.7422\n",
            "\n",
            "Epoch 00018: val_loss did not improve from 0.27926\n",
            "Epoch 19/50\n",
            " - 1s - loss: 0.3011 - acc: 0.9156 - val_loss: 0.9705 - val_acc: 0.6406\n",
            "\n",
            "Epoch 00019: val_loss did not improve from 0.27926\n",
            "Epoch 20/50\n",
            " - 1s - loss: 0.3349 - acc: 0.8906 - val_loss: 0.4794 - val_acc: 0.8295\n",
            "\n",
            "Epoch 00020: val_loss did not improve from 0.27926\n",
            "Epoch 21/50\n",
            " - 1s - loss: 0.2875 - acc: 0.9437 - val_loss: 0.5236 - val_acc: 0.8594\n",
            "\n",
            "Epoch 00021: val_loss did not improve from 0.27926\n",
            "Epoch 22/50\n",
            " - 1s - loss: 0.2409 - acc: 0.9250 - val_loss: 0.4933 - val_acc: 0.8984\n",
            "\n",
            "Epoch 00022: val_loss did not improve from 0.27926\n",
            "Epoch 23/50\n",
            " - 1s - loss: 0.3764 - acc: 0.8844 - val_loss: 0.9998 - val_acc: 0.5781\n",
            "\n",
            "Epoch 00023: val_loss did not improve from 0.27926\n",
            "Epoch 24/50\n",
            " - 1s - loss: 0.2719 - acc: 0.9062 - val_loss: 0.1637 - val_acc: 0.9609\n",
            "\n",
            "Epoch 00024: val_loss improved from 0.27926 to 0.16374, saving model to drive/My Drive/Resultado/weights_architecture_7.hdf5\n",
            "Epoch 25/50\n",
            " - 1s - loss: 0.3586 - acc: 0.9000 - val_loss: 0.6924 - val_acc: 0.8359\n",
            "\n",
            "Epoch 00025: val_loss did not improve from 0.16374\n",
            "Epoch 26/50\n",
            " - 1s - loss: 0.1968 - acc: 0.9562 - val_loss: 1.3077 - val_acc: 0.7500\n",
            "\n",
            "Epoch 00026: val_loss did not improve from 0.16374\n",
            "Epoch 27/50\n",
            " - 1s - loss: 0.2237 - acc: 0.9375 - val_loss: 0.2960 - val_acc: 0.9219\n",
            "\n",
            "Epoch 00027: val_loss did not improve from 0.16374\n",
            "Epoch 28/50\n",
            " - 1s - loss: 0.4258 - acc: 0.8688 - val_loss: 0.4232 - val_acc: 0.8594\n",
            "\n",
            "Epoch 00028: val_loss did not improve from 0.16374\n",
            "Epoch 29/50\n",
            " - 1s - loss: 0.3047 - acc: 0.8969 - val_loss: 0.5206 - val_acc: 0.8672\n",
            "\n",
            "Epoch 00029: val_loss did not improve from 0.16374\n",
            "Epoch 30/50\n",
            " - 1s - loss: 0.2771 - acc: 0.9250 - val_loss: 0.7106 - val_acc: 0.8047\n",
            "\n",
            "Epoch 00030: val_loss did not improve from 0.16374\n",
            "Epoch 31/50\n",
            " - 1s - loss: 0.3588 - acc: 0.8906 - val_loss: 0.3637 - val_acc: 0.9062\n",
            "\n",
            "Epoch 00031: val_loss did not improve from 0.16374\n",
            "Epoch 32/50\n",
            " - 1s - loss: 0.3049 - acc: 0.9062 - val_loss: 0.3656 - val_acc: 0.8828\n",
            "\n",
            "Epoch 00032: val_loss did not improve from 0.16374\n",
            "Epoch 33/50\n",
            " - 1s - loss: 0.2496 - acc: 0.9188 - val_loss: 0.5407 - val_acc: 0.8594\n",
            "\n",
            "Epoch 00033: val_loss did not improve from 0.16374\n",
            "Epoch 34/50\n",
            " - 1s - loss: 0.2138 - acc: 0.9500 - val_loss: 0.5682 - val_acc: 0.7734\n",
            "\n",
            "Epoch 00034: val_loss did not improve from 0.16374\n",
            "Epoch 35/50\n",
            " - 1s - loss: 0.1685 - acc: 0.9625 - val_loss: 0.3364 - val_acc: 0.9062\n",
            "\n",
            "Epoch 00035: val_loss did not improve from 0.16374\n",
            "Epoch 36/50\n",
            " - 1s - loss: 0.2722 - acc: 0.9250 - val_loss: 0.9963 - val_acc: 0.7734\n",
            "\n",
            "Epoch 00036: val_loss did not improve from 0.16374\n",
            "Epoch 37/50\n",
            " - 1s - loss: 0.2636 - acc: 0.9219 - val_loss: 1.4537 - val_acc: 0.6641\n",
            "\n",
            "Epoch 00037: val_loss did not improve from 0.16374\n",
            "Epoch 38/50\n",
            " - 1s - loss: 0.2786 - acc: 0.9062 - val_loss: 0.3172 - val_acc: 0.9091\n",
            "\n",
            "Epoch 00038: val_loss did not improve from 0.16374\n",
            "Epoch 39/50\n",
            " - 1s - loss: 0.2463 - acc: 0.9531 - val_loss: 0.4689 - val_acc: 0.8984\n",
            "\n",
            "Epoch 00039: val_loss did not improve from 0.16374\n",
            "Epoch 40/50\n",
            " - 1s - loss: 0.2457 - acc: 0.9094 - val_loss: 0.1979 - val_acc: 0.9141\n",
            "\n",
            "Epoch 00040: val_loss did not improve from 0.16374\n",
            "Epoch 41/50\n",
            " - 1s - loss: 0.2103 - acc: 0.9406 - val_loss: 0.5858 - val_acc: 0.8203\n",
            "\n",
            "Epoch 00041: val_loss did not improve from 0.16374\n",
            "Epoch 42/50\n",
            " - 1s - loss: 0.4140 - acc: 0.8903 - val_loss: 0.6522 - val_acc: 0.8203\n",
            "\n",
            "Epoch 00042: val_loss did not improve from 0.16374\n",
            "Epoch 43/50\n",
            " - 1s - loss: 0.2432 - acc: 0.9344 - val_loss: 0.2635 - val_acc: 0.9375\n",
            "\n",
            "Epoch 00043: val_loss did not improve from 0.16374\n",
            "Epoch 44/50\n",
            " - 1s - loss: 0.1703 - acc: 0.9625 - val_loss: 0.3295 - val_acc: 0.8906\n",
            "\n",
            "Epoch 00044: val_loss did not improve from 0.16374\n",
            "Epoch 45/50\n",
            " - 1s - loss: 0.2765 - acc: 0.9156 - val_loss: 0.8289 - val_acc: 0.7031\n",
            "\n",
            "Epoch 00045: val_loss did not improve from 0.16374\n",
            "Epoch 46/50\n",
            " - 1s - loss: 0.2472 - acc: 0.9219 - val_loss: 0.2856 - val_acc: 0.9062\n",
            "\n",
            "Epoch 00046: val_loss did not improve from 0.16374\n",
            "Epoch 47/50\n",
            " - 1s - loss: 0.2944 - acc: 0.9219 - val_loss: 0.2748 - val_acc: 0.9297\n",
            "\n",
            "Epoch 00047: val_loss did not improve from 0.16374\n",
            "Epoch 48/50\n",
            " - 1s - loss: 0.3360 - acc: 0.8812 - val_loss: 0.5875 - val_acc: 0.7656\n",
            "\n",
            "Epoch 00048: val_loss did not improve from 0.16374\n",
            "Epoch 49/50\n",
            " - 1s - loss: 0.3488 - acc: 0.8750 - val_loss: 1.5055 - val_acc: 0.5469\n",
            "\n",
            "Epoch 00049: val_loss did not improve from 0.16374\n",
            "Epoch 50/50\n",
            " - 1s - loss: 0.2495 - acc: 0.9344 - val_loss: 0.7265 - val_acc: 0.7422\n",
            "\n",
            "Epoch 00050: val_loss did not improve from 0.16374\n"
          ],
          "name": "stdout"
        }
      ]
    },
    {
      "metadata": {
        "colab_type": "code",
        "id": "g3H7fijRkBYt",
        "colab": {
          "base_uri": "https://localhost:8080/",
          "height": 380
        },
        "outputId": "db28f30b-26f3-4b05-a14c-ffc8c6958afb"
      },
      "cell_type": "code",
      "source": [
        "# plotar loss e accuracy para os datasets 'train' e 'test'\n",
        "plt.style.use(\"ggplot\")\n",
        "plt.figure()\n",
        "plt.plot(training.history['acc'], label='Accuracy')\n",
        "plt.plot(training.history['loss'], label='Loss')\n",
        "plt.xlabel('Epochs')\n",
        "plt.ylabel('Accuracy')\n",
        "plt.title(\"Training Loss and Accuracy\")\n",
        "plt.ylabel(\"Loss/Accuracy\")\n",
        "plt.legend()\n",
        "plt.savefig('drive/My Drive/Resultado/' + arquiteture + '.png', bbox_inches='tight')"
      ],
      "execution_count": 65,
      "outputs": [
        {
          "output_type": "display_data",
          "data": {
            "image/png": "[encoded data removed]",
            "text/plain": [
              "<matplotlib.figure.Figure at 0x7f61d2b48f60>"
            ]
          },
          "metadata": {
            "tags": []
          }
        }
      ]
    },
    {
      "metadata": {
        "colab_type": "code",
        "id": "AXYT6WUakBY3",
        "colab": {
          "base_uri": "https://localhost:8080/",
          "height": 54
        },
        "outputId": "cb2540da-4025-4572-93c4-8c430f83acef"
      },
      "cell_type": "code",
      "source": [
        "y_true, y_predict = ler_images_teste(arquiteture)"
      ],
      "execution_count": 66,
      "outputs": [
        {
          "output_type": "stream",
          "text": [
            "/usr/local/lib/python3.6/dist-packages/skimage/transform/_warps.py:84: UserWarning: The default mode, 'constant', will be changed to 'reflect' in skimage 0.15.\n",
            "  warn(\"The default mode, 'constant', will be changed to 'reflect' in \"\n"
          ],
          "name": "stderr"
        }
      ]
    },
    {
      "metadata": {
        "colab_type": "code",
        "id": "zKvHFps_kBZA",
        "colab": {
          "base_uri": "https://localhost:8080/",
          "height": 35
        },
        "outputId": "5a4ef398-84ce-4edb-8b6e-6fd364e5d96c"
      },
      "cell_type": "code",
      "source": [
        "results[arquiteture] = accuracy_score(y_true, y_predict)\n",
        "print('Test Accuracy: {:.2f}%'.format(100 * results[arquiteture]))"
      ],
      "execution_count": 67,
      "outputs": [
        {
          "output_type": "stream",
          "text": [
            "Test Accuracy: 83.02%\n"
          ],
          "name": "stdout"
        }
      ]
    },
    {
      "metadata": {
        "id": "xBqqHjZrnDFP",
        "colab_type": "text"
      },
      "cell_type": "markdown",
      "source": [
        "### 8 tentativa Accuracy: 83.25%  "
      ]
    },
    {
      "metadata": {
        "colab_type": "text",
        "id": "3Qg1zWbo5W6V"
      },
      "cell_type": "markdown",
      "source": [
        "Modelo adaptado do **Lucas Albertins**\n",
        "\n",
        "*   Função **Adadelta** para compilação\n"
      ]
    },
    {
      "metadata": {
        "colab_type": "code",
        "id": "MvjKH9LWpGsi",
        "colab": {}
      },
      "cell_type": "code",
      "source": [
        "from keras.layers import Conv2D, MaxPooling2D, GlobalMaxPooling2D, BatchNormalization\n",
        "from keras.regularizers import l2\n",
        "from keras.optimizers import Adadelta\n",
        "\n",
        "model = Sequential()\n",
        "\n",
        "model.add(Conv2D(32, (3, 3), activation='relu', kernel_regularizer=l2(1e-4), \n",
        "                 input_shape=(None, None, 3)))\n",
        "model.add(BatchNormalization())\n",
        "model.add(Conv2D(32, (3, 3), activation='relu', kernel_regularizer=l2(1e-4)))\n",
        "model.add(BatchNormalization())\n",
        "model.add(MaxPooling2D((2, 2)))\n",
        "model.add(Dropout(0.25))\n",
        "\n",
        "model.add(Conv2D(64, (3, 3), activation='relu', kernel_regularizer=l2(1e-4)))\n",
        "model.add(BatchNormalization())\n",
        "model.add(Conv2D(64, (3, 3), activation='relu', kernel_regularizer=l2(1e-4)))\n",
        "model.add(BatchNormalization())\n",
        "model.add(MaxPooling2D((2, 2)))\n",
        "model.add(Dropout(0.25))\n",
        "\n",
        "model.add(Conv2D(128, (1,1), kernel_regularizer=l2(1e-4)))\n",
        "model.add(GlobalMaxPooling2D())\n",
        "\n",
        "model.add(Dense(256, activation='relu', kernel_regularizer=l2(1e-4)))\n",
        "model.add(Dropout(0.5))\n",
        "model.add(Dense(2, activation='sigmoid', kernel_regularizer=l2(1e-4)))"
      ],
      "execution_count": 0,
      "outputs": []
    },
    {
      "metadata": {
        "colab_type": "code",
        "id": "civjmdynpGsy",
        "colab": {}
      },
      "cell_type": "code",
      "source": [
        "model.compile(Adadelta(lr=1.0, rho=0.95, epsilon=None, decay=0.0), \n",
        "              loss='binary_crossentropy', metrics=['accuracy'])"
      ],
      "execution_count": 0,
      "outputs": []
    },
    {
      "metadata": {
        "colab_type": "code",
        "id": "lmwfJa_fkEKz",
        "colab": {}
      },
      "cell_type": "code",
      "source": [
        "arquiteture = 'architecture_8'"
      ],
      "execution_count": 0,
      "outputs": []
    },
    {
      "metadata": {
        "colab_type": "code",
        "id": "cl6Lxs-6ktsK",
        "colab": {}
      },
      "cell_type": "code",
      "source": [
        "checkpointer = ModelCheckpoint(filepath='drive/My Drive/Resultado/weights_' + arquiteture + '.hdf5', verbose=1, save_best_only=True)"
      ],
      "execution_count": 0,
      "outputs": []
    },
    {
      "metadata": {
        "colab_type": "code",
        "id": "w7LbZJly5iOF",
        "colab": {
          "base_uri": "https://localhost:8080/",
          "height": 3690
        },
        "outputId": "3aa3aca0-76b6-4112-a0fc-628c7223381d"
      },
      "cell_type": "code",
      "source": [
        "training = model.fit_generator(train_batches, steps_per_epoch=stepsPerEpoche, \n",
        "                   validation_data=validation_batches, validation_steps=validationSteps,\n",
        "                   epochs=50, verbose=2, callbacks=[checkpointer])"
      ],
      "execution_count": 72,
      "outputs": [
        {
          "output_type": "stream",
          "text": [
            "Epoch 1/50\n",
            " - 4s - loss: 2.8900 - acc: 0.5469 - val_loss: 0.7068 - val_acc: 0.6094\n",
            "\n",
            "Epoch 00001: val_loss improved from inf to 0.70678, saving model to drive/My Drive/Resultado/weights_architecture_8.hdf5\n",
            "Epoch 2/50\n",
            " - 1s - loss: 1.7621 - acc: 0.5875 - val_loss: 1.1158 - val_acc: 0.6406\n",
            "\n",
            "Epoch 00002: val_loss did not improve from 0.70678\n",
            "Epoch 3/50\n",
            " - 1s - loss: 1.1496 - acc: 0.6031 - val_loss: 0.9372 - val_acc: 0.5938\n",
            "\n",
            "Epoch 00003: val_loss did not improve from 0.70678\n",
            "Epoch 4/50\n",
            " - 1s - loss: 0.7862 - acc: 0.7000 - val_loss: 0.6493 - val_acc: 0.7031\n",
            "\n",
            "Epoch 00004: val_loss improved from 0.70678 to 0.64933, saving model to drive/My Drive/Resultado/weights_architecture_8.hdf5\n",
            "Epoch 5/50\n",
            " - 1s - loss: 0.8598 - acc: 0.6594 - val_loss: 0.7645 - val_acc: 0.6250\n",
            "\n",
            "Epoch 00005: val_loss did not improve from 0.64933\n",
            "Epoch 6/50\n",
            " - 1s - loss: 0.6882 - acc: 0.7156 - val_loss: 0.4829 - val_acc: 0.8047\n",
            "\n",
            "Epoch 00006: val_loss improved from 0.64933 to 0.48291, saving model to drive/My Drive/Resultado/weights_architecture_8.hdf5\n",
            "Epoch 7/50\n",
            " - 1s - loss: 0.7719 - acc: 0.7125 - val_loss: 0.7419 - val_acc: 0.6172\n",
            "\n",
            "Epoch 00007: val_loss did not improve from 0.48291\n",
            "Epoch 8/50\n",
            " - 1s - loss: 0.6198 - acc: 0.7562 - val_loss: 0.7651 - val_acc: 0.6016\n",
            "\n",
            "Epoch 00008: val_loss did not improve from 0.48291\n",
            "Epoch 9/50\n",
            " - 1s - loss: 0.8493 - acc: 0.7000 - val_loss: 0.8350 - val_acc: 0.5938\n",
            "\n",
            "Epoch 00009: val_loss did not improve from 0.48291\n",
            "Epoch 10/50\n",
            " - 1s - loss: 0.5951 - acc: 0.7438 - val_loss: 0.9269 - val_acc: 0.5391\n",
            "\n",
            "Epoch 00010: val_loss did not improve from 0.48291\n",
            "Epoch 11/50\n",
            " - 1s - loss: 0.5372 - acc: 0.8187 - val_loss: 0.6828 - val_acc: 0.7031\n",
            "\n",
            "Epoch 00011: val_loss did not improve from 0.48291\n",
            "Epoch 12/50\n",
            " - 1s - loss: 0.4462 - acc: 0.8438 - val_loss: 0.5342 - val_acc: 0.7891\n",
            "\n",
            "Epoch 00012: val_loss did not improve from 0.48291\n",
            "Epoch 13/50\n",
            " - 1s - loss: 0.3998 - acc: 0.8563 - val_loss: 0.6622 - val_acc: 0.6875\n",
            "\n",
            "Epoch 00013: val_loss did not improve from 0.48291\n",
            "Epoch 14/50\n",
            " - 1s - loss: 0.3722 - acc: 0.8656 - val_loss: 0.6380 - val_acc: 0.7656\n",
            "\n",
            "Epoch 00014: val_loss did not improve from 0.48291\n",
            "Epoch 15/50\n",
            " - 1s - loss: 0.4593 - acc: 0.8281 - val_loss: 0.5674 - val_acc: 0.7188\n",
            "\n",
            "Epoch 00015: val_loss did not improve from 0.48291\n",
            "Epoch 16/50\n",
            " - 1s - loss: 0.3457 - acc: 0.8750 - val_loss: 0.3686 - val_acc: 0.8516\n",
            "\n",
            "Epoch 00016: val_loss improved from 0.48291 to 0.36859, saving model to drive/My Drive/Resultado/weights_architecture_8.hdf5\n",
            "Epoch 17/50\n",
            " - 1s - loss: 0.5984 - acc: 0.8063 - val_loss: 0.5043 - val_acc: 0.7841\n",
            "\n",
            "Epoch 00017: val_loss did not improve from 0.36859\n",
            "Epoch 18/50\n",
            " - 1s - loss: 0.4201 - acc: 0.8290 - val_loss: 0.4947 - val_acc: 0.8281\n",
            "\n",
            "Epoch 00018: val_loss did not improve from 0.36859\n",
            "Epoch 19/50\n",
            " - 1s - loss: 0.3514 - acc: 0.9031 - val_loss: 0.6660 - val_acc: 0.7188\n",
            "\n",
            "Epoch 00019: val_loss did not improve from 0.36859\n",
            "Epoch 20/50\n",
            " - 1s - loss: 0.3623 - acc: 0.8563 - val_loss: 0.4654 - val_acc: 0.7969\n",
            "\n",
            "Epoch 00020: val_loss did not improve from 0.36859\n",
            "Epoch 21/50\n",
            " - 1s - loss: 0.4235 - acc: 0.8281 - val_loss: 0.4237 - val_acc: 0.8516\n",
            "\n",
            "Epoch 00021: val_loss did not improve from 0.36859\n",
            "Epoch 22/50\n",
            " - 1s - loss: 0.3833 - acc: 0.8812 - val_loss: 0.4431 - val_acc: 0.7969\n",
            "\n",
            "Epoch 00022: val_loss did not improve from 0.36859\n",
            "Epoch 23/50\n",
            " - 1s - loss: 0.3574 - acc: 0.8812 - val_loss: 0.5264 - val_acc: 0.8047\n",
            "\n",
            "Epoch 00023: val_loss did not improve from 0.36859\n",
            "Epoch 24/50\n",
            " - 1s - loss: 0.4004 - acc: 0.8812 - val_loss: 0.5150 - val_acc: 0.7656\n",
            "\n",
            "Epoch 00024: val_loss did not improve from 0.36859\n",
            "Epoch 25/50\n",
            " - 1s - loss: 0.2959 - acc: 0.9062 - val_loss: 0.3424 - val_acc: 0.8594\n",
            "\n",
            "Epoch 00025: val_loss improved from 0.36859 to 0.34239, saving model to drive/My Drive/Resultado/weights_architecture_8.hdf5\n",
            "Epoch 26/50\n",
            " - 1s - loss: 0.4359 - acc: 0.8375 - val_loss: 0.5347 - val_acc: 0.7656\n",
            "\n",
            "Epoch 00026: val_loss did not improve from 0.34239\n",
            "Epoch 27/50\n",
            " - 1s - loss: 0.4920 - acc: 0.8063 - val_loss: 0.6075 - val_acc: 0.7578\n",
            "\n",
            "Epoch 00027: val_loss did not improve from 0.34239\n",
            "Epoch 28/50\n",
            " - 1s - loss: 0.3254 - acc: 0.8937 - val_loss: 0.4104 - val_acc: 0.8438\n",
            "\n",
            "Epoch 00028: val_loss did not improve from 0.34239\n",
            "Epoch 29/50\n",
            " - 1s - loss: 0.3680 - acc: 0.8719 - val_loss: 0.4653 - val_acc: 0.7656\n",
            "\n",
            "Epoch 00029: val_loss did not improve from 0.34239\n",
            "Epoch 30/50\n",
            " - 1s - loss: 0.4701 - acc: 0.8187 - val_loss: 0.4523 - val_acc: 0.7969\n",
            "\n",
            "Epoch 00030: val_loss did not improve from 0.34239\n",
            "Epoch 31/50\n",
            " - 1s - loss: 0.4075 - acc: 0.8469 - val_loss: 0.5739 - val_acc: 0.7891\n",
            "\n",
            "Epoch 00031: val_loss did not improve from 0.34239\n",
            "Epoch 32/50\n",
            " - 1s - loss: 0.3762 - acc: 0.8500 - val_loss: 0.6070 - val_acc: 0.7031\n",
            "\n",
            "Epoch 00032: val_loss did not improve from 0.34239\n",
            "Epoch 33/50\n",
            " - 1s - loss: 0.3703 - acc: 0.8750 - val_loss: 0.3466 - val_acc: 0.8906\n",
            "\n",
            "Epoch 00033: val_loss did not improve from 0.34239\n",
            "Epoch 34/50\n",
            " - 1s - loss: 0.4308 - acc: 0.8250 - val_loss: 0.4063 - val_acc: 0.8594\n",
            "\n",
            "Epoch 00034: val_loss did not improve from 0.34239\n",
            "Epoch 35/50\n",
            " - 1s - loss: 0.3273 - acc: 0.9000 - val_loss: 0.5353 - val_acc: 0.7273\n",
            "\n",
            "Epoch 00035: val_loss did not improve from 0.34239\n",
            "Epoch 36/50\n",
            " - 1s - loss: 0.3593 - acc: 0.8812 - val_loss: 0.4077 - val_acc: 0.8750\n",
            "\n",
            "Epoch 00036: val_loss did not improve from 0.34239\n",
            "Epoch 37/50\n",
            " - 1s - loss: 0.3124 - acc: 0.8969 - val_loss: 0.6204 - val_acc: 0.7500\n",
            "\n",
            "Epoch 00037: val_loss did not improve from 0.34239\n",
            "Epoch 38/50\n",
            " - 1s - loss: 0.5488 - acc: 0.7594 - val_loss: 0.4811 - val_acc: 0.8281\n",
            "\n",
            "Epoch 00038: val_loss did not improve from 0.34239\n",
            "Epoch 39/50\n",
            " - 1s - loss: 0.3903 - acc: 0.8531 - val_loss: 0.6077 - val_acc: 0.7578\n",
            "\n",
            "Epoch 00039: val_loss did not improve from 0.34239\n",
            "Epoch 40/50\n",
            " - 1s - loss: 0.3300 - acc: 0.8781 - val_loss: 0.4849 - val_acc: 0.7891\n",
            "\n",
            "Epoch 00040: val_loss did not improve from 0.34239\n",
            "Epoch 41/50\n",
            " - 1s - loss: 0.3969 - acc: 0.8594 - val_loss: 0.5802 - val_acc: 0.7344\n",
            "\n",
            "Epoch 00041: val_loss did not improve from 0.34239\n",
            "Epoch 42/50\n",
            " - 1s - loss: 0.3217 - acc: 0.8781 - val_loss: 0.5489 - val_acc: 0.7500\n",
            "\n",
            "Epoch 00042: val_loss did not improve from 0.34239\n",
            "Epoch 43/50\n",
            " - 1s - loss: 0.3453 - acc: 0.8781 - val_loss: 0.5472 - val_acc: 0.7891\n",
            "\n",
            "Epoch 00043: val_loss did not improve from 0.34239\n",
            "Epoch 44/50\n",
            " - 1s - loss: 0.4104 - acc: 0.8469 - val_loss: 0.4322 - val_acc: 0.8203\n",
            "\n",
            "Epoch 00044: val_loss did not improve from 0.34239\n",
            "Epoch 45/50\n",
            " - 1s - loss: 0.3731 - acc: 0.8484 - val_loss: 0.5773 - val_acc: 0.7500\n",
            "\n",
            "Epoch 00045: val_loss did not improve from 0.34239\n",
            "Epoch 46/50\n",
            " - 1s - loss: 0.3081 - acc: 0.9062 - val_loss: 0.4485 - val_acc: 0.8125\n",
            "\n",
            "Epoch 00046: val_loss did not improve from 0.34239\n",
            "Epoch 47/50\n",
            " - 1s - loss: 0.2901 - acc: 0.9250 - val_loss: 0.4393 - val_acc: 0.8438\n",
            "\n",
            "Epoch 00047: val_loss did not improve from 0.34239\n",
            "Epoch 48/50\n",
            " - 1s - loss: 0.3492 - acc: 0.8906 - val_loss: 0.4985 - val_acc: 0.7891\n",
            "\n",
            "Epoch 00048: val_loss did not improve from 0.34239\n",
            "Epoch 49/50\n",
            " - 1s - loss: 0.3543 - acc: 0.8812 - val_loss: 0.4101 - val_acc: 0.8281\n",
            "\n",
            "Epoch 00049: val_loss did not improve from 0.34239\n",
            "Epoch 50/50\n",
            " - 1s - loss: 0.4444 - acc: 0.8063 - val_loss: 0.6400 - val_acc: 0.6875\n",
            "\n",
            "Epoch 00050: val_loss did not improve from 0.34239\n"
          ],
          "name": "stdout"
        }
      ]
    },
    {
      "metadata": {
        "colab_type": "code",
        "id": "8zBVma0TkELH",
        "colab": {
          "base_uri": "https://localhost:8080/",
          "height": 380
        },
        "outputId": "8f77ee51-9318-490c-fa69-8804e3670976"
      },
      "cell_type": "code",
      "source": [
        "# plotar loss e accuracy para os datasets 'train' e 'test'\n",
        "plt.style.use(\"ggplot\")\n",
        "plt.figure()\n",
        "plt.plot(training.history['acc'], label='Accuracy')\n",
        "plt.plot(training.history['loss'], label='Loss')\n",
        "plt.xlabel('Epochs')\n",
        "plt.ylabel('Accuracy')\n",
        "plt.title(\"Training Loss and Accuracy\")\n",
        "plt.ylabel(\"Loss/Accuracy\")\n",
        "plt.legend()\n",
        "plt.savefig('drive/My Drive/Resultado/' + arquiteture + '.png', bbox_inches='tight')"
      ],
      "execution_count": 73,
      "outputs": [
        {
          "output_type": "display_data",
          "data": {
            "image/png": "[encoded data removed]",
            "text/plain": [
              "<matplotlib.figure.Figure at 0x7f61d215e588>"
            ]
          },
          "metadata": {
            "tags": []
          }
        }
      ]
    },
    {
      "metadata": {
        "colab_type": "code",
        "id": "5B4aLvCvkELT",
        "colab": {
          "base_uri": "https://localhost:8080/",
          "height": 54
        },
        "outputId": "aa3e375a-7707-48a8-84a7-68e905f1b485"
      },
      "cell_type": "code",
      "source": [
        "y_true, y_predict = ler_images_teste(arquiteture)"
      ],
      "execution_count": 74,
      "outputs": [
        {
          "output_type": "stream",
          "text": [
            "/usr/local/lib/python3.6/dist-packages/skimage/transform/_warps.py:84: UserWarning: The default mode, 'constant', will be changed to 'reflect' in skimage 0.15.\n",
            "  warn(\"The default mode, 'constant', will be changed to 'reflect' in \"\n"
          ],
          "name": "stderr"
        }
      ]
    },
    {
      "metadata": {
        "colab_type": "code",
        "id": "8qEpN64tkELc",
        "colab": {
          "base_uri": "https://localhost:8080/",
          "height": 35
        },
        "outputId": "d4ba6dc8-ce33-4ec6-e8c2-4b89fcddc744"
      },
      "cell_type": "code",
      "source": [
        "results[arquiteture] = accuracy_score(y_true, y_predict)\n",
        "print('Test Accuracy: {:.2f}%'.format(100 * results[arquiteture]))"
      ],
      "execution_count": 75,
      "outputs": [
        {
          "output_type": "stream",
          "text": [
            "Test Accuracy: 83.25%\n"
          ],
          "name": "stdout"
        }
      ]
    },
    {
      "metadata": {
        "id": "csBCokNgxgbn",
        "colab_type": "text"
      },
      "cell_type": "markdown",
      "source": [
        "### 9 tentativa Accuracy: 82.83%"
      ]
    },
    {
      "metadata": {
        "colab_type": "text",
        "id": "qLtNH8xk63El"
      },
      "cell_type": "markdown",
      "source": [
        "Modelo adaptado do **Lucas Albertins**\n",
        "\n",
        "*   Função **SGD** para compilação\n"
      ]
    },
    {
      "metadata": {
        "colab_type": "code",
        "id": "EJjS6pK1xj1f",
        "colab": {}
      },
      "cell_type": "code",
      "source": [
        "from keras.layers import Conv2D, MaxPooling2D, GlobalMaxPooling2D, BatchNormalization\n",
        "from keras.regularizers import l2\n",
        "\n",
        "model = Sequential()\n",
        "\n",
        "model.add(Conv2D(32, (3, 3), activation='relu', kernel_regularizer=l2(1e-4), \n",
        "                 input_shape=(None, None, 3)))\n",
        "model.add(BatchNormalization())\n",
        "model.add(Conv2D(32, (3, 3), activation='relu', kernel_regularizer=l2(1e-4)))\n",
        "model.add(BatchNormalization())\n",
        "model.add(MaxPooling2D((2, 2)))\n",
        "model.add(Dropout(0.25))\n",
        "\n",
        "model.add(Conv2D(64, (3, 3), activation='relu', kernel_regularizer=l2(1e-4)))\n",
        "model.add(BatchNormalization())\n",
        "model.add(Conv2D(64, (3, 3), activation='relu', kernel_regularizer=l2(1e-4)))\n",
        "model.add(BatchNormalization())\n",
        "model.add(MaxPooling2D((2, 2)))\n",
        "model.add(Dropout(0.25))\n",
        "\n",
        "model.add(Conv2D(128, (1,1), kernel_regularizer=l2(1e-4)))\n",
        "model.add(GlobalMaxPooling2D())\n",
        "\n",
        "model.add(Dense(256, activation='relu', kernel_regularizer=l2(1e-4)))\n",
        "model.add(Dropout(0.5))\n",
        "model.add(Dense(2, activation='sigmoid', kernel_regularizer=l2(1e-4)))"
      ],
      "execution_count": 0,
      "outputs": []
    },
    {
      "metadata": {
        "colab_type": "code",
        "id": "9ezdguEZxsWT",
        "colab": {}
      },
      "cell_type": "code",
      "source": [
        "model.compile(SGD(lr=0.03, momentum=0.0, decay=0.0, nesterov=False), \n",
        "              loss='binary_crossentropy', metrics=['accuracy'])"
      ],
      "execution_count": 0,
      "outputs": []
    },
    {
      "metadata": {
        "colab_type": "code",
        "id": "474-g6XskHLD",
        "colab": {}
      },
      "cell_type": "code",
      "source": [
        "arquiteture = 'architecture_9'"
      ],
      "execution_count": 0,
      "outputs": []
    },
    {
      "metadata": {
        "colab_type": "code",
        "id": "L_3cTA3AkqpU",
        "colab": {}
      },
      "cell_type": "code",
      "source": [
        "checkpointer = ModelCheckpoint(filepath='drive/My Drive/Resultado/weights_' + arquiteture + '.hdf5', verbose=1, save_best_only=True)"
      ],
      "execution_count": 0,
      "outputs": []
    },
    {
      "metadata": {
        "colab_type": "code",
        "id": "6jYgi71R6XO2",
        "colab": {
          "base_uri": "https://localhost:8080/",
          "height": 3690
        },
        "outputId": "1eb48d65-372a-41fc-e78e-4a9269235ecf"
      },
      "cell_type": "code",
      "source": [
        "training = model.fit_generator(train_batches, steps_per_epoch=stepsPerEpoche, \n",
        "                   validation_data=validation_batches, validation_steps=validationSteps,\n",
        "                   epochs=50, verbose=2, callbacks=[checkpointer])"
      ],
      "execution_count": 80,
      "outputs": [
        {
          "output_type": "stream",
          "text": [
            "Epoch 1/50\n",
            " - 4s - loss: 6.6776 - acc: 0.4750 - val_loss: 4.7773 - val_acc: 0.4531\n",
            "\n",
            "Epoch 00001: val_loss improved from inf to 4.77731, saving model to drive/My Drive/Resultado/weights_architecture_9.hdf5\n",
            "Epoch 2/50\n",
            " - 1s - loss: 5.3851 - acc: 0.5031 - val_loss: 1.9973 - val_acc: 0.5781\n",
            "\n",
            "Epoch 00002: val_loss improved from 4.77731 to 1.99732, saving model to drive/My Drive/Resultado/weights_architecture_9.hdf5\n",
            "Epoch 3/50\n",
            " - 0s - loss: 2.0676 - acc: 0.5781 - val_loss: 0.9574 - val_acc: 0.3750\n",
            "\n",
            "Epoch 00003: val_loss improved from 1.99732 to 0.95745, saving model to drive/My Drive/Resultado/weights_architecture_9.hdf5\n",
            "Epoch 4/50\n",
            " - 0s - loss: 0.9300 - acc: 0.5969 - val_loss: 0.8145 - val_acc: 0.5625\n",
            "\n",
            "Epoch 00004: val_loss improved from 0.95745 to 0.81450, saving model to drive/My Drive/Resultado/weights_architecture_9.hdf5\n",
            "Epoch 5/50\n",
            " - 0s - loss: 0.6813 - acc: 0.6937 - val_loss: 0.6595 - val_acc: 0.7656\n",
            "\n",
            "Epoch 00005: val_loss improved from 0.81450 to 0.65954, saving model to drive/My Drive/Resultado/weights_architecture_9.hdf5\n",
            "Epoch 6/50\n",
            " - 0s - loss: 0.6799 - acc: 0.6500 - val_loss: 0.8061 - val_acc: 0.4688\n",
            "\n",
            "Epoch 00006: val_loss did not improve from 0.65954\n",
            "Epoch 7/50\n",
            " - 1s - loss: 0.6961 - acc: 0.6781 - val_loss: 0.6820 - val_acc: 0.6641\n",
            "\n",
            "Epoch 00007: val_loss did not improve from 0.65954\n",
            "Epoch 8/50\n",
            " - 1s - loss: 0.5593 - acc: 0.7406 - val_loss: 0.5767 - val_acc: 0.6719\n",
            "\n",
            "Epoch 00008: val_loss improved from 0.65954 to 0.57673, saving model to drive/My Drive/Resultado/weights_architecture_9.hdf5\n",
            "Epoch 9/50\n",
            " - 1s - loss: 0.6184 - acc: 0.7156 - val_loss: 0.6333 - val_acc: 0.7500\n",
            "\n",
            "Epoch 00009: val_loss did not improve from 0.57673\n",
            "Epoch 10/50\n",
            " - 1s - loss: 0.5031 - acc: 0.8250 - val_loss: 0.7246 - val_acc: 0.5703\n",
            "\n",
            "Epoch 00010: val_loss did not improve from 0.57673\n",
            "Epoch 11/50\n",
            " - 1s - loss: 0.6224 - acc: 0.7125 - val_loss: 0.6244 - val_acc: 0.7109\n",
            "\n",
            "Epoch 00011: val_loss did not improve from 0.57673\n",
            "Epoch 12/50\n",
            " - 1s - loss: 0.4940 - acc: 0.7969 - val_loss: 0.6853 - val_acc: 0.6094\n",
            "\n",
            "Epoch 00012: val_loss did not improve from 0.57673\n",
            "Epoch 13/50\n",
            " - 1s - loss: 0.4093 - acc: 0.8688 - val_loss: 0.4709 - val_acc: 0.8125\n",
            "\n",
            "Epoch 00013: val_loss improved from 0.57673 to 0.47090, saving model to drive/My Drive/Resultado/weights_architecture_9.hdf5\n",
            "Epoch 14/50\n",
            " - 1s - loss: 0.4494 - acc: 0.8063 - val_loss: 0.5792 - val_acc: 0.7734\n",
            "\n",
            "Epoch 00014: val_loss did not improve from 0.47090\n",
            "Epoch 15/50\n",
            " - 1s - loss: 0.5078 - acc: 0.7875 - val_loss: 0.5846 - val_acc: 0.6250\n",
            "\n",
            "Epoch 00015: val_loss did not improve from 0.47090\n",
            "Epoch 16/50\n",
            " - 1s - loss: 0.5291 - acc: 0.7875 - val_loss: 0.5318 - val_acc: 0.7969\n",
            "\n",
            "Epoch 00016: val_loss did not improve from 0.47090\n",
            "Epoch 17/50\n",
            " - 1s - loss: 0.5243 - acc: 0.8063 - val_loss: 0.5474 - val_acc: 0.7812\n",
            "\n",
            "Epoch 00017: val_loss did not improve from 0.47090\n",
            "Epoch 18/50\n",
            " - 1s - loss: 0.3853 - acc: 0.8844 - val_loss: 0.5493 - val_acc: 0.7578\n",
            "\n",
            "Epoch 00018: val_loss did not improve from 0.47090\n",
            "Epoch 19/50\n",
            " - 1s - loss: 0.4332 - acc: 0.8563 - val_loss: 0.6204 - val_acc: 0.6484\n",
            "\n",
            "Epoch 00019: val_loss did not improve from 0.47090\n",
            "Epoch 20/50\n",
            " - 1s - loss: 0.3892 - acc: 0.8719 - val_loss: 0.4543 - val_acc: 0.8281\n",
            "\n",
            "Epoch 00020: val_loss improved from 0.47090 to 0.45428, saving model to drive/My Drive/Resultado/weights_architecture_9.hdf5\n",
            "Epoch 21/50\n",
            " - 1s - loss: 0.4572 - acc: 0.8548 - val_loss: 1.0589 - val_acc: 0.5625\n",
            "\n",
            "Epoch 00021: val_loss did not improve from 0.45428\n",
            "Epoch 22/50\n",
            " - 1s - loss: 0.3964 - acc: 0.8969 - val_loss: 0.9566 - val_acc: 0.5156\n",
            "\n",
            "Epoch 00022: val_loss did not improve from 0.45428\n",
            "Epoch 23/50\n",
            " - 1s - loss: 0.5564 - acc: 0.7750 - val_loss: 0.8099 - val_acc: 0.4609\n",
            "\n",
            "Epoch 00023: val_loss did not improve from 0.45428\n",
            "Epoch 24/50\n",
            " - 1s - loss: 0.4126 - acc: 0.8594 - val_loss: 0.5536 - val_acc: 0.7734\n",
            "\n",
            "Epoch 00024: val_loss did not improve from 0.45428\n",
            "Epoch 25/50\n",
            " - 1s - loss: 0.3791 - acc: 0.8438 - val_loss: 0.5186 - val_acc: 0.7500\n",
            "\n",
            "Epoch 00025: val_loss did not improve from 0.45428\n",
            "Epoch 26/50\n",
            " - 1s - loss: 0.5500 - acc: 0.7750 - val_loss: 0.5287 - val_acc: 0.8125\n",
            "\n",
            "Epoch 00026: val_loss did not improve from 0.45428\n",
            "Epoch 27/50\n",
            " - 1s - loss: 0.4486 - acc: 0.8219 - val_loss: 0.7250 - val_acc: 0.6172\n",
            "\n",
            "Epoch 00027: val_loss did not improve from 0.45428\n",
            "Epoch 28/50\n",
            " - 1s - loss: 0.4331 - acc: 0.8281 - val_loss: 0.4998 - val_acc: 0.7656\n",
            "\n",
            "Epoch 00028: val_loss did not improve from 0.45428\n",
            "Epoch 29/50\n",
            " - 1s - loss: 0.4024 - acc: 0.8688 - val_loss: 0.6922 - val_acc: 0.6797\n",
            "\n",
            "Epoch 00029: val_loss did not improve from 0.45428\n",
            "Epoch 30/50\n",
            " - 1s - loss: 0.4743 - acc: 0.8000 - val_loss: 0.4534 - val_acc: 0.7812\n",
            "\n",
            "Epoch 00030: val_loss improved from 0.45428 to 0.45337, saving model to drive/My Drive/Resultado/weights_architecture_9.hdf5\n",
            "Epoch 31/50\n",
            " - 1s - loss: 0.3352 - acc: 0.9062 - val_loss: 0.6051 - val_acc: 0.7500\n",
            "\n",
            "Epoch 00031: val_loss did not improve from 0.45337\n",
            "Epoch 32/50\n",
            " - 1s - loss: 0.3965 - acc: 0.8375 - val_loss: 0.6559 - val_acc: 0.7500\n",
            "\n",
            "Epoch 00032: val_loss did not improve from 0.45337\n",
            "Epoch 33/50\n",
            " - 1s - loss: 0.3494 - acc: 0.8937 - val_loss: 0.4081 - val_acc: 0.8438\n",
            "\n",
            "Epoch 00033: val_loss improved from 0.45337 to 0.40807, saving model to drive/My Drive/Resultado/weights_architecture_9.hdf5\n",
            "Epoch 34/50\n",
            " - 1s - loss: 0.4695 - acc: 0.8281 - val_loss: 0.5069 - val_acc: 0.7656\n",
            "\n",
            "Epoch 00034: val_loss did not improve from 0.40807\n",
            "Epoch 35/50\n",
            " - 1s - loss: 0.3352 - acc: 0.8781 - val_loss: 0.5565 - val_acc: 0.7266\n",
            "\n",
            "Epoch 00035: val_loss did not improve from 0.40807\n",
            "Epoch 36/50\n",
            " - 1s - loss: 0.3772 - acc: 0.8719 - val_loss: 0.5160 - val_acc: 0.7578\n",
            "\n",
            "Epoch 00036: val_loss did not improve from 0.40807\n",
            "Epoch 37/50\n",
            " - 1s - loss: 0.4139 - acc: 0.8594 - val_loss: 0.4923 - val_acc: 0.8125\n",
            "\n",
            "Epoch 00037: val_loss did not improve from 0.40807\n",
            "Epoch 38/50\n",
            " - 1s - loss: 0.3156 - acc: 0.9156 - val_loss: 0.4561 - val_acc: 0.8594\n",
            "\n",
            "Epoch 00038: val_loss did not improve from 0.40807\n",
            "Epoch 39/50\n",
            " - 1s - loss: 0.4301 - acc: 0.8156 - val_loss: 0.4045 - val_acc: 0.8594\n",
            "\n",
            "Epoch 00039: val_loss improved from 0.40807 to 0.40447, saving model to drive/My Drive/Resultado/weights_architecture_9.hdf5\n",
            "Epoch 40/50\n",
            " - 1s - loss: 0.3645 - acc: 0.8625 - val_loss: 0.5441 - val_acc: 0.7969\n",
            "\n",
            "Epoch 00040: val_loss did not improve from 0.40447\n",
            "Epoch 41/50\n",
            " - 1s - loss: 0.4933 - acc: 0.8438 - val_loss: 0.5592 - val_acc: 0.6562\n",
            "\n",
            "Epoch 00041: val_loss did not improve from 0.40447\n",
            "Epoch 42/50\n",
            " - 1s - loss: 0.4851 - acc: 0.8125 - val_loss: 0.5289 - val_acc: 0.7812\n",
            "\n",
            "Epoch 00042: val_loss did not improve from 0.40447\n",
            "Epoch 43/50\n",
            " - 1s - loss: 0.3727 - acc: 0.8688 - val_loss: 0.5439 - val_acc: 0.7656\n",
            "\n",
            "Epoch 00043: val_loss did not improve from 0.40447\n",
            "Epoch 44/50\n",
            " - 1s - loss: 0.3968 - acc: 0.8563 - val_loss: 0.3860 - val_acc: 0.8828\n",
            "\n",
            "Epoch 00044: val_loss improved from 0.40447 to 0.38603, saving model to drive/My Drive/Resultado/weights_architecture_9.hdf5\n",
            "Epoch 45/50\n",
            " - 1s - loss: 0.3301 - acc: 0.8844 - val_loss: 0.4707 - val_acc: 0.7969\n",
            "\n",
            "Epoch 00045: val_loss did not improve from 0.38603\n",
            "Epoch 46/50\n",
            " - 1s - loss: 0.3771 - acc: 0.8531 - val_loss: 0.4934 - val_acc: 0.7656\n",
            "\n",
            "Epoch 00046: val_loss did not improve from 0.38603\n",
            "Epoch 47/50\n",
            " - 1s - loss: 0.5143 - acc: 0.8219 - val_loss: 0.4458 - val_acc: 0.8594\n",
            "\n",
            "Epoch 00047: val_loss did not improve from 0.38603\n",
            "Epoch 48/50\n",
            " - 1s - loss: 0.4412 - acc: 0.8339 - val_loss: 0.5064 - val_acc: 0.7344\n",
            "\n",
            "Epoch 00048: val_loss did not improve from 0.38603\n",
            "Epoch 49/50\n",
            " - 1s - loss: 0.3610 - acc: 0.8875 - val_loss: 0.5699 - val_acc: 0.7422\n",
            "\n",
            "Epoch 00049: val_loss did not improve from 0.38603\n",
            "Epoch 50/50\n",
            " - 1s - loss: 0.3175 - acc: 0.9062 - val_loss: 0.5516 - val_acc: 0.7386\n",
            "\n",
            "Epoch 00050: val_loss did not improve from 0.38603\n"
          ],
          "name": "stdout"
        }
      ]
    },
    {
      "metadata": {
        "colab_type": "code",
        "id": "M6Yz3lQwkHLX",
        "colab": {
          "base_uri": "https://localhost:8080/",
          "height": 380
        },
        "outputId": "ec2a4958-a41b-42c3-d832-bf2f4a2f91fa"
      },
      "cell_type": "code",
      "source": [
        "# plotar loss e accuracy para os datasets 'train' e 'test'\n",
        "plt.style.use(\"ggplot\")\n",
        "plt.figure()\n",
        "plt.plot(training.history['acc'], label='Accuracy')\n",
        "plt.plot(training.history['loss'], label='Loss')\n",
        "plt.xlabel('Epochs')\n",
        "plt.ylabel('Accuracy')\n",
        "plt.title(\"Training Loss and Accuracy\")\n",
        "plt.ylabel(\"Loss/Accuracy\")\n",
        "plt.legend()\n",
        "plt.savefig('drive/My Drive/Resultado/' + arquiteture + '.png', bbox_inches='tight')"
      ],
      "execution_count": 81,
      "outputs": [
        {
          "output_type": "display_data",
          "data": {
            "image/png": "[encoded data removed]",
            "text/plain": [
              "<matplotlib.figure.Figure at 0x7f61d1d258d0>"
            ]
          },
          "metadata": {
            "tags": []
          }
        }
      ]
    },
    {
      "metadata": {
        "colab_type": "code",
        "id": "5LAzY6JfkHLh",
        "colab": {
          "base_uri": "https://localhost:8080/",
          "height": 54
        },
        "outputId": "86dceb0b-963c-4b5f-a81e-cf5c0c88bedc"
      },
      "cell_type": "code",
      "source": [
        "y_true, y_predict = ler_images_teste(arquiteture)"
      ],
      "execution_count": 82,
      "outputs": [
        {
          "output_type": "stream",
          "text": [
            "/usr/local/lib/python3.6/dist-packages/skimage/transform/_warps.py:84: UserWarning: The default mode, 'constant', will be changed to 'reflect' in skimage 0.15.\n",
            "  warn(\"The default mode, 'constant', will be changed to 'reflect' in \"\n"
          ],
          "name": "stderr"
        }
      ]
    },
    {
      "metadata": {
        "colab_type": "code",
        "id": "8X-QY2SokHLo",
        "colab": {
          "base_uri": "https://localhost:8080/",
          "height": 35
        },
        "outputId": "e6a4b8cc-cb3b-4c2b-a030-95b46fb964a4"
      },
      "cell_type": "code",
      "source": [
        "results[arquiteture] = accuracy_score(y_true, y_predict)\n",
        "print('Test Accuracy: {:.2f}%'.format(100 * results[arquiteture]))"
      ],
      "execution_count": 83,
      "outputs": [
        {
          "output_type": "stream",
          "text": [
            "Test Accuracy: 82.83%\n"
          ],
          "name": "stdout"
        }
      ]
    },
    {
      "metadata": {
        "id": "I_6RPRqZ0ooK",
        "colab_type": "text"
      },
      "cell_type": "markdown",
      "source": [
        "### 10 tentativa Accuracy: 83.02%"
      ]
    },
    {
      "metadata": {
        "colab_type": "text",
        "id": "drBpwd1s7PE3"
      },
      "cell_type": "markdown",
      "source": [
        "Modelo adaptado do **Lucas Albertins**\n",
        "\n",
        "*   Função **adam** para compilação\n",
        "*   Adicionado mais 2 camadas convolutivas"
      ]
    },
    {
      "metadata": {
        "colab_type": "code",
        "id": "6LGTLObK0u-Y",
        "colab": {}
      },
      "cell_type": "code",
      "source": [
        "from keras.layers import Conv2D, MaxPooling2D, GlobalMaxPooling2D, BatchNormalization\n",
        "from keras.regularizers import l2\n",
        "\n",
        "model = Sequential()\n",
        "\n",
        "model.add(Conv2D(32, (3, 3), activation='relu', kernel_regularizer=l2(1e-4), \n",
        "                 input_shape=(None, None, 3)))\n",
        "model.add(BatchNormalization())\n",
        "model.add(Conv2D(32, (3, 3), activation='relu', kernel_regularizer=l2(1e-4)))\n",
        "model.add(BatchNormalization())\n",
        "model.add(MaxPooling2D((2, 2)))\n",
        "model.add(Dropout(0.25))\n",
        "\n",
        "model.add(Conv2D(64, (3, 3), activation='relu', kernel_regularizer=l2(1e-4)))\n",
        "model.add(BatchNormalization())\n",
        "model.add(Conv2D(64, (3, 3), activation='relu', kernel_regularizer=l2(1e-4)))\n",
        "model.add(BatchNormalization())\n",
        "model.add(MaxPooling2D((2, 2)))\n",
        "model.add(Dropout(0.25))\n",
        "\n",
        "model.add(Conv2D(96, (3, 3),activation='relu', kernel_regularizer=l2(1e-4)))\n",
        "model.add(BatchNormalization())\n",
        "model.add(Conv2D(96, (3, 3),activation='relu', kernel_regularizer=l2(1e-4)))\n",
        "model.add(BatchNormalization())\n",
        "model.add(MaxPooling2D((2, 2)))\n",
        "model.add(Dropout(0.25))\n",
        "\n",
        "model.add(Conv2D(128, (1,1), kernel_regularizer=l2(1e-4)))\n",
        "model.add(GlobalMaxPooling2D())\n",
        "\n",
        "model.add(Dense(256, activation='relu', kernel_regularizer=l2(1e-4)))\n",
        "model.add(Dropout(0.5))\n",
        "model.add(Dense(2, activation='sigmoid', kernel_regularizer=l2(1e-4)))"
      ],
      "execution_count": 0,
      "outputs": []
    },
    {
      "metadata": {
        "colab_type": "code",
        "id": "vB92aUkR0u-p",
        "colab": {}
      },
      "cell_type": "code",
      "source": [
        "model.compile(optimizer='adam', loss='binary_crossentropy', metrics=['accuracy'])"
      ],
      "execution_count": 0,
      "outputs": []
    },
    {
      "metadata": {
        "colab_type": "code",
        "id": "7CD_MICYkLAi",
        "colab": {}
      },
      "cell_type": "code",
      "source": [
        "arquiteture = 'architecture_10'"
      ],
      "execution_count": 0,
      "outputs": []
    },
    {
      "metadata": {
        "colab_type": "code",
        "id": "aGtfVb9qknXd",
        "colab": {}
      },
      "cell_type": "code",
      "source": [
        "checkpointer = ModelCheckpoint(filepath='drive/My Drive/Resultado/weights_' + arquiteture + '.hdf5', verbose=1, save_best_only=True)"
      ],
      "execution_count": 0,
      "outputs": []
    },
    {
      "metadata": {
        "colab_type": "code",
        "id": "mUqvoI5Y7bLp",
        "colab": {
          "base_uri": "https://localhost:8080/",
          "height": 3690
        },
        "outputId": "d1e09844-6631-4df9-991c-ae4a8bdaa245"
      },
      "cell_type": "code",
      "source": [
        "training = model.fit_generator(train_batches, steps_per_epoch=stepsPerEpoche, \n",
        "                   validation_data=validation_batches, validation_steps=validationSteps,\n",
        "                   epochs=50, verbose=2, callbacks=[checkpointer])"
      ],
      "execution_count": 88,
      "outputs": [
        {
          "output_type": "stream",
          "text": [
            "Epoch 1/50\n",
            " - 6s - loss: 1.4607 - acc: 0.5406 - val_loss: 0.9277 - val_acc: 0.5156\n",
            "\n",
            "Epoch 00001: val_loss improved from inf to 0.92768, saving model to drive/My Drive/Resultado/weights_architecture_10.hdf5\n",
            "Epoch 2/50\n",
            " - 1s - loss: 1.0576 - acc: 0.6312 - val_loss: 0.7264 - val_acc: 0.5938\n",
            "\n",
            "Epoch 00002: val_loss improved from 0.92768 to 0.72640, saving model to drive/My Drive/Resultado/weights_architecture_10.hdf5\n",
            "Epoch 3/50\n",
            " - 1s - loss: 0.9568 - acc: 0.6219 - val_loss: 0.6704 - val_acc: 0.6484\n",
            "\n",
            "Epoch 00003: val_loss improved from 0.72640 to 0.67044, saving model to drive/My Drive/Resultado/weights_architecture_10.hdf5\n",
            "Epoch 4/50\n",
            " - 1s - loss: 0.8496 - acc: 0.6844 - val_loss: 0.4924 - val_acc: 0.8281\n",
            "\n",
            "Epoch 00004: val_loss improved from 0.67044 to 0.49244, saving model to drive/My Drive/Resultado/weights_architecture_10.hdf5\n",
            "Epoch 5/50\n",
            " - 1s - loss: 0.6853 - acc: 0.7188 - val_loss: 0.9348 - val_acc: 0.6094\n",
            "\n",
            "Epoch 00005: val_loss did not improve from 0.49244\n",
            "Epoch 6/50\n",
            " - 1s - loss: 0.6813 - acc: 0.7094 - val_loss: 0.5244 - val_acc: 0.8203\n",
            "\n",
            "Epoch 00006: val_loss did not improve from 0.49244\n",
            "Epoch 7/50\n",
            " - 1s - loss: 0.5575 - acc: 0.7687 - val_loss: 0.3718 - val_acc: 0.9141\n",
            "\n",
            "Epoch 00007: val_loss improved from 0.49244 to 0.37184, saving model to drive/My Drive/Resultado/weights_architecture_10.hdf5\n",
            "Epoch 8/50\n",
            " - 1s - loss: 0.5646 - acc: 0.8281 - val_loss: 0.4602 - val_acc: 0.8594\n",
            "\n",
            "Epoch 00008: val_loss did not improve from 0.37184\n",
            "Epoch 9/50\n",
            " - 1s - loss: 0.5908 - acc: 0.7625 - val_loss: 0.4502 - val_acc: 0.8594\n",
            "\n",
            "Epoch 00009: val_loss did not improve from 0.37184\n",
            "Epoch 10/50\n",
            " - 1s - loss: 0.5092 - acc: 0.8125 - val_loss: 0.4346 - val_acc: 0.8516\n",
            "\n",
            "Epoch 00010: val_loss did not improve from 0.37184\n",
            "Epoch 11/50\n",
            " - 1s - loss: 0.4040 - acc: 0.8812 - val_loss: 0.4537 - val_acc: 0.8906\n",
            "\n",
            "Epoch 00011: val_loss did not improve from 0.37184\n",
            "Epoch 12/50\n",
            " - 1s - loss: 0.3919 - acc: 0.8812 - val_loss: 0.3620 - val_acc: 0.8864\n",
            "\n",
            "Epoch 00012: val_loss improved from 0.37184 to 0.36202, saving model to drive/My Drive/Resultado/weights_architecture_10.hdf5\n",
            "Epoch 13/50\n",
            " - 1s - loss: 0.4487 - acc: 0.8438 - val_loss: 0.5515 - val_acc: 0.8281\n",
            "\n",
            "Epoch 00013: val_loss did not improve from 0.36202\n",
            "Epoch 14/50\n",
            " - 1s - loss: 0.3213 - acc: 0.9156 - val_loss: 0.3358 - val_acc: 0.8828\n",
            "\n",
            "Epoch 00014: val_loss improved from 0.36202 to 0.33576, saving model to drive/My Drive/Resultado/weights_architecture_10.hdf5\n",
            "Epoch 15/50\n",
            " - 1s - loss: 0.2963 - acc: 0.9156 - val_loss: 0.3644 - val_acc: 0.9062\n",
            "\n",
            "Epoch 00015: val_loss did not improve from 0.33576\n",
            "Epoch 16/50\n",
            " - 1s - loss: 0.3884 - acc: 0.8656 - val_loss: 0.3837 - val_acc: 0.8750\n",
            "\n",
            "Epoch 00016: val_loss did not improve from 0.33576\n",
            "Epoch 17/50\n",
            " - 1s - loss: 0.3247 - acc: 0.8875 - val_loss: 0.2961 - val_acc: 0.9219\n",
            "\n",
            "Epoch 00017: val_loss improved from 0.33576 to 0.29608, saving model to drive/My Drive/Resultado/weights_architecture_10.hdf5\n",
            "Epoch 18/50\n",
            " - 1s - loss: 0.3972 - acc: 0.9219 - val_loss: 0.2955 - val_acc: 0.9141\n",
            "\n",
            "Epoch 00018: val_loss improved from 0.29608 to 0.29553, saving model to drive/My Drive/Resultado/weights_architecture_10.hdf5\n",
            "Epoch 19/50\n",
            " - 1s - loss: 0.2553 - acc: 0.9406 - val_loss: 0.2525 - val_acc: 0.9219\n",
            "\n",
            "Epoch 00019: val_loss improved from 0.29553 to 0.25255, saving model to drive/My Drive/Resultado/weights_architecture_10.hdf5\n",
            "Epoch 20/50\n",
            " - 1s - loss: 0.2770 - acc: 0.9375 - val_loss: 0.4099 - val_acc: 0.8750\n",
            "\n",
            "Epoch 00020: val_loss did not improve from 0.25255\n",
            "Epoch 21/50\n",
            " - 1s - loss: 0.3335 - acc: 0.9094 - val_loss: 0.4562 - val_acc: 0.7969\n",
            "\n",
            "Epoch 00021: val_loss did not improve from 0.25255\n",
            "Epoch 22/50\n",
            " - 1s - loss: 0.3117 - acc: 0.9188 - val_loss: 0.4572 - val_acc: 0.8281\n",
            "\n",
            "Epoch 00022: val_loss did not improve from 0.25255\n",
            "Epoch 23/50\n",
            " - 1s - loss: 0.2898 - acc: 0.9125 - val_loss: 0.4274 - val_acc: 0.7969\n",
            "\n",
            "Epoch 00023: val_loss did not improve from 0.25255\n",
            "Epoch 24/50\n",
            " - 1s - loss: 0.3513 - acc: 0.8968 - val_loss: 0.4123 - val_acc: 0.9062\n",
            "\n",
            "Epoch 00024: val_loss did not improve from 0.25255\n",
            "Epoch 25/50\n",
            " - 1s - loss: 0.2584 - acc: 0.9375 - val_loss: 0.5263 - val_acc: 0.8203\n",
            "\n",
            "Epoch 00025: val_loss did not improve from 0.25255\n",
            "Epoch 26/50\n",
            " - 1s - loss: 0.3398 - acc: 0.9031 - val_loss: 0.4905 - val_acc: 0.8125\n",
            "\n",
            "Epoch 00026: val_loss did not improve from 0.25255\n",
            "Epoch 27/50\n",
            " - 1s - loss: 0.3211 - acc: 0.9094 - val_loss: 0.3053 - val_acc: 0.9141\n",
            "\n",
            "Epoch 00027: val_loss did not improve from 0.25255\n",
            "Epoch 28/50\n",
            " - 1s - loss: 0.3261 - acc: 0.9156 - val_loss: 0.3284 - val_acc: 0.8750\n",
            "\n",
            "Epoch 00028: val_loss did not improve from 0.25255\n",
            "Epoch 29/50\n",
            " - 1s - loss: 0.3352 - acc: 0.9062 - val_loss: 0.3784 - val_acc: 0.8594\n",
            "\n",
            "Epoch 00029: val_loss did not improve from 0.25255\n",
            "Epoch 30/50\n",
            " - 1s - loss: 0.3005 - acc: 0.9188 - val_loss: 0.2535 - val_acc: 0.9432\n",
            "\n",
            "Epoch 00030: val_loss did not improve from 0.25255\n",
            "Epoch 31/50\n",
            " - 1s - loss: 0.2350 - acc: 0.9406 - val_loss: 0.4245 - val_acc: 0.8672\n",
            "\n",
            "Epoch 00031: val_loss did not improve from 0.25255\n",
            "Epoch 32/50\n",
            " - 1s - loss: 0.2546 - acc: 0.9344 - val_loss: 0.5912 - val_acc: 0.7344\n",
            "\n",
            "Epoch 00032: val_loss did not improve from 0.25255\n",
            "Epoch 33/50\n",
            " - 1s - loss: 0.2673 - acc: 0.9219 - val_loss: 0.3313 - val_acc: 0.8750\n",
            "\n",
            "Epoch 00033: val_loss did not improve from 0.25255\n",
            "Epoch 34/50\n",
            " - 1s - loss: 0.3219 - acc: 0.9125 - val_loss: 0.3097 - val_acc: 0.9062\n",
            "\n",
            "Epoch 00034: val_loss did not improve from 0.25255\n",
            "Epoch 35/50\n",
            " - 1s - loss: 0.3370 - acc: 0.8937 - val_loss: 0.3168 - val_acc: 0.9062\n",
            "\n",
            "Epoch 00035: val_loss did not improve from 0.25255\n",
            "Epoch 36/50\n",
            " - 1s - loss: 0.2363 - acc: 0.9313 - val_loss: 0.2497 - val_acc: 0.9219\n",
            "\n",
            "Epoch 00036: val_loss improved from 0.25255 to 0.24972, saving model to drive/My Drive/Resultado/weights_architecture_10.hdf5\n",
            "Epoch 37/50\n",
            " - 1s - loss: 0.3726 - acc: 0.8969 - val_loss: 0.4096 - val_acc: 0.8750\n",
            "\n",
            "Epoch 00037: val_loss did not improve from 0.24972\n",
            "Epoch 38/50\n",
            " - 1s - loss: 0.3347 - acc: 0.9156 - val_loss: 0.3122 - val_acc: 0.9062\n",
            "\n",
            "Epoch 00038: val_loss did not improve from 0.24972\n",
            "Epoch 39/50\n",
            " - 1s - loss: 0.2690 - acc: 0.9250 - val_loss: 0.4914 - val_acc: 0.8438\n",
            "\n",
            "Epoch 00039: val_loss did not improve from 0.24972\n",
            "Epoch 40/50\n",
            " - 1s - loss: 0.4194 - acc: 0.8812 - val_loss: 0.3471 - val_acc: 0.9219\n",
            "\n",
            "Epoch 00040: val_loss did not improve from 0.24972\n",
            "Epoch 41/50\n",
            " - 1s - loss: 0.2777 - acc: 0.9062 - val_loss: 0.3359 - val_acc: 0.8906\n",
            "\n",
            "Epoch 00041: val_loss did not improve from 0.24972\n",
            "Epoch 42/50\n",
            " - 1s - loss: 0.3403 - acc: 0.8906 - val_loss: 0.6657 - val_acc: 0.6953\n",
            "\n",
            "Epoch 00042: val_loss did not improve from 0.24972\n",
            "Epoch 43/50\n",
            " - 1s - loss: 0.2736 - acc: 0.9469 - val_loss: 0.4475 - val_acc: 0.8516\n",
            "\n",
            "Epoch 00043: val_loss did not improve from 0.24972\n",
            "Epoch 44/50\n",
            " - 1s - loss: 0.2168 - acc: 0.9594 - val_loss: 0.4586 - val_acc: 0.8359\n",
            "\n",
            "Epoch 00044: val_loss did not improve from 0.24972\n",
            "Epoch 45/50\n",
            " - 1s - loss: 0.2563 - acc: 0.9281 - val_loss: 0.5058 - val_acc: 0.8516\n",
            "\n",
            "Epoch 00045: val_loss did not improve from 0.24972\n",
            "Epoch 46/50\n",
            " - 1s - loss: 0.3402 - acc: 0.8906 - val_loss: 0.5906 - val_acc: 0.8203\n",
            "\n",
            "Epoch 00046: val_loss did not improve from 0.24972\n",
            "Epoch 47/50\n",
            " - 1s - loss: 0.2781 - acc: 0.9188 - val_loss: 0.3620 - val_acc: 0.8864\n",
            "\n",
            "Epoch 00047: val_loss did not improve from 0.24972\n",
            "Epoch 48/50\n",
            " - 1s - loss: 0.3176 - acc: 0.8812 - val_loss: 0.2628 - val_acc: 0.9453\n",
            "\n",
            "Epoch 00048: val_loss did not improve from 0.24972\n",
            "Epoch 49/50\n",
            " - 1s - loss: 0.2860 - acc: 0.8812 - val_loss: 0.2361 - val_acc: 0.9531\n",
            "\n",
            "Epoch 00049: val_loss improved from 0.24972 to 0.23612, saving model to drive/My Drive/Resultado/weights_architecture_10.hdf5\n",
            "Epoch 50/50\n",
            " - 1s - loss: 0.3475 - acc: 0.8936 - val_loss: 0.3392 - val_acc: 0.9297\n",
            "\n",
            "Epoch 00050: val_loss did not improve from 0.23612\n"
          ],
          "name": "stdout"
        }
      ]
    },
    {
      "metadata": {
        "colab_type": "code",
        "id": "4mLcVI5OkLAx",
        "colab": {
          "base_uri": "https://localhost:8080/",
          "height": 380
        },
        "outputId": "78d5bf63-1388-48b2-d2ff-53708e7451c8"
      },
      "cell_type": "code",
      "source": [
        "# plotar loss e accuracy para os datasets 'train' e 'test'\n",
        "plt.style.use(\"ggplot\")\n",
        "plt.figure()\n",
        "plt.plot(training.history['acc'], label='Accuracy')\n",
        "plt.plot(training.history['loss'], label='Loss')\n",
        "plt.xlabel('Epochs')\n",
        "plt.ylabel('Accuracy')\n",
        "plt.title(\"Training Loss and Accuracy\")\n",
        "plt.ylabel(\"Loss/Accuracy\")\n",
        "plt.legend()\n",
        "plt.savefig('drive/My Drive/Resultado/' + arquiteture + '.png', bbox_inches='tight')"
      ],
      "execution_count": 89,
      "outputs": [
        {
          "output_type": "display_data",
          "data": {
            "image/png": "[encoded data removed]",
            "text/plain": [
              "<matplotlib.figure.Figure at 0x7f61bfc35cf8>"
            ]
          },
          "metadata": {
            "tags": []
          }
        }
      ]
    },
    {
      "metadata": {
        "colab_type": "code",
        "id": "MXfjnNaekLA8",
        "colab": {
          "base_uri": "https://localhost:8080/",
          "height": 54
        },
        "outputId": "d8ad2e4d-0f6f-487d-9999-3c38756ada54"
      },
      "cell_type": "code",
      "source": [
        "y_true, y_predict = ler_images_teste(arquiteture)"
      ],
      "execution_count": 90,
      "outputs": [
        {
          "output_type": "stream",
          "text": [
            "/usr/local/lib/python3.6/dist-packages/skimage/transform/_warps.py:84: UserWarning: The default mode, 'constant', will be changed to 'reflect' in skimage 0.15.\n",
            "  warn(\"The default mode, 'constant', will be changed to 'reflect' in \"\n"
          ],
          "name": "stderr"
        }
      ]
    },
    {
      "metadata": {
        "colab_type": "code",
        "id": "mxweJBcKkLBA",
        "colab": {
          "base_uri": "https://localhost:8080/",
          "height": 35
        },
        "outputId": "fec8da37-d3df-495c-85b1-aff40ab80e42"
      },
      "cell_type": "code",
      "source": [
        "results[arquiteture] = accuracy_score(y_true, y_predict)\n",
        "print('Test Accuracy: {:.2f}%'.format(100 * results[arquiteture]))"
      ],
      "execution_count": 91,
      "outputs": [
        {
          "output_type": "stream",
          "text": [
            "Test Accuracy: 83.02%\n"
          ],
          "name": "stdout"
        }
      ]
    },
    {
      "metadata": {
        "id": "t-JuICq46CWp",
        "colab_type": "text"
      },
      "cell_type": "markdown",
      "source": [
        "### 11 tentativa Accuracy: 64.59%"
      ]
    },
    {
      "metadata": {
        "colab_type": "text",
        "id": "MdaiMXVY8RWc"
      },
      "cell_type": "markdown",
      "source": [
        "Modelo adaptado do **Lucas Albertins**\n",
        "\n",
        "*   Função **SGD** para compilação\n",
        "*   Adicionado mais 2 camadas convolutivas"
      ]
    },
    {
      "metadata": {
        "colab_type": "code",
        "id": "vLy1nlhs6HHL",
        "colab": {}
      },
      "cell_type": "code",
      "source": [
        "from keras.layers import Conv2D, MaxPooling2D, GlobalMaxPooling2D, BatchNormalization\n",
        "from keras.regularizers import l2\n",
        "\n",
        "model = Sequential()\n",
        "\n",
        "model.add(Conv2D(32, (3, 3), activation='relu', kernel_regularizer=l2(1e-4), \n",
        "                 input_shape=(None, None, 3)))\n",
        "model.add(BatchNormalization())\n",
        "model.add(Conv2D(32, (3, 3), activation='relu', kernel_regularizer=l2(1e-4)))\n",
        "model.add(BatchNormalization())\n",
        "model.add(MaxPooling2D((2, 2)))\n",
        "model.add(Dropout(0.25))\n",
        "\n",
        "model.add(Conv2D(64, (3, 3), activation='relu', kernel_regularizer=l2(1e-4)))\n",
        "model.add(BatchNormalization())\n",
        "model.add(Conv2D(64, (3, 3), activation='relu', kernel_regularizer=l2(1e-4)))\n",
        "model.add(BatchNormalization())\n",
        "model.add(MaxPooling2D((2, 2)))\n",
        "model.add(Dropout(0.25))\n",
        "\n",
        "model.add(Conv2D(96, (3, 3),activation='relu', kernel_regularizer=l2(1e-4)))\n",
        "model.add(BatchNormalization())\n",
        "model.add(Conv2D(96, (3, 3),activation='relu', kernel_regularizer=l2(1e-4)))\n",
        "model.add(BatchNormalization())\n",
        "model.add(MaxPooling2D((2, 2)))\n",
        "model.add(Dropout(0.25))\n",
        "\n",
        "model.add(Conv2D(128, (1,1), kernel_regularizer=l2(1e-4)))\n",
        "model.add(GlobalMaxPooling2D())\n",
        "\n",
        "model.add(Dense(256, activation='relu', kernel_regularizer=l2(1e-4)))\n",
        "model.add(Dropout(0.5))\n",
        "model.add(Dense(2, activation='sigmoid', kernel_regularizer=l2(1e-4)))"
      ],
      "execution_count": 0,
      "outputs": []
    },
    {
      "metadata": {
        "colab_type": "code",
        "id": "QKpy_s8Z6HHZ",
        "colab": {}
      },
      "cell_type": "code",
      "source": [
        "model.compile(SGD(lr=0.01, momentum=0.0, decay=0.0, nesterov=False), \n",
        "              loss='binary_crossentropy', metrics=['accuracy'])"
      ],
      "execution_count": 0,
      "outputs": []
    },
    {
      "metadata": {
        "colab_type": "code",
        "id": "oGVeMLcZkPCr",
        "colab": {}
      },
      "cell_type": "code",
      "source": [
        "arquiteture = 'architecture_11'"
      ],
      "execution_count": 0,
      "outputs": []
    },
    {
      "metadata": {
        "colab_type": "code",
        "id": "rvsDdCnxkjhS",
        "colab": {}
      },
      "cell_type": "code",
      "source": [
        "checkpointer = ModelCheckpoint(filepath='drive/My Drive/Resultado/weights_' + arquiteture + '.hdf5', verbose=1, save_best_only=True)"
      ],
      "execution_count": 0,
      "outputs": []
    },
    {
      "metadata": {
        "colab_type": "code",
        "id": "KGy9-eyM7t1c",
        "colab": {
          "base_uri": "https://localhost:8080/",
          "height": 3690
        },
        "outputId": "a9feed73-a6de-4a30-f47a-dce1c81d3671"
      },
      "cell_type": "code",
      "source": [
        "training = model.fit_generator(train_batches, steps_per_epoch=stepsPerEpoche, \n",
        "                   validation_data=validation_batches, validation_steps=validationSteps,\n",
        "                   epochs=50, verbose=2, callbacks=[checkpointer])"
      ],
      "execution_count": 96,
      "outputs": [
        {
          "output_type": "stream",
          "text": [
            "Epoch 1/50\n",
            " - 6s - loss: 2.3217 - acc: 0.4937 - val_loss: 1.3679 - val_acc: 0.4688\n",
            "\n",
            "Epoch 00001: val_loss improved from inf to 1.36794, saving model to drive/My Drive/Resultado/weights_architecture_11.hdf5\n",
            "Epoch 2/50\n",
            " - 1s - loss: 1.6049 - acc: 0.5406 - val_loss: 0.8884 - val_acc: 0.4766\n",
            "\n",
            "Epoch 00002: val_loss improved from 1.36794 to 0.88836, saving model to drive/My Drive/Resultado/weights_architecture_11.hdf5\n",
            "Epoch 3/50\n",
            " - 1s - loss: 1.2529 - acc: 0.5469 - val_loss: 0.6189 - val_acc: 0.7266\n",
            "\n",
            "Epoch 00003: val_loss improved from 0.88836 to 0.61893, saving model to drive/My Drive/Resultado/weights_architecture_11.hdf5\n",
            "Epoch 4/50\n",
            " - 1s - loss: 1.1070 - acc: 0.5625 - val_loss: 0.7349 - val_acc: 0.5625\n",
            "\n",
            "Epoch 00004: val_loss did not improve from 0.61893\n",
            "Epoch 5/50\n",
            " - 1s - loss: 0.9283 - acc: 0.5906 - val_loss: 0.7582 - val_acc: 0.5234\n",
            "\n",
            "Epoch 00005: val_loss did not improve from 0.61893\n",
            "Epoch 6/50\n",
            " - 1s - loss: 1.1251 - acc: 0.5656 - val_loss: 0.7527 - val_acc: 0.5938\n",
            "\n",
            "Epoch 00006: val_loss did not improve from 0.61893\n",
            "Epoch 7/50\n",
            " - 1s - loss: 0.7121 - acc: 0.6594 - val_loss: 0.6612 - val_acc: 0.7500\n",
            "\n",
            "Epoch 00007: val_loss did not improve from 0.61893\n",
            "Epoch 8/50\n",
            " - 1s - loss: 0.7650 - acc: 0.6406 - val_loss: 0.6373 - val_acc: 0.7578\n",
            "\n",
            "Epoch 00008: val_loss did not improve from 0.61893\n",
            "Epoch 9/50\n",
            " - 1s - loss: 0.7335 - acc: 0.6156 - val_loss: 0.7034 - val_acc: 0.5469\n",
            "\n",
            "Epoch 00009: val_loss did not improve from 0.61893\n",
            "Epoch 10/50\n",
            " - 1s - loss: 0.6174 - acc: 0.7500 - val_loss: 0.6317 - val_acc: 0.7159\n",
            "\n",
            "Epoch 00010: val_loss did not improve from 0.61893\n",
            "Epoch 11/50\n",
            " - 1s - loss: 0.6914 - acc: 0.7000 - val_loss: 0.7134 - val_acc: 0.6094\n",
            "\n",
            "Epoch 00011: val_loss did not improve from 0.61893\n",
            "Epoch 12/50\n",
            " - 1s - loss: 0.6285 - acc: 0.7281 - val_loss: 0.6007 - val_acc: 0.8516\n",
            "\n",
            "Epoch 00012: val_loss improved from 0.61893 to 0.60066, saving model to drive/My Drive/Resultado/weights_architecture_11.hdf5\n",
            "Epoch 13/50\n",
            " - 1s - loss: 0.5800 - acc: 0.7781 - val_loss: 0.5451 - val_acc: 0.8203\n",
            "\n",
            "Epoch 00013: val_loss improved from 0.60066 to 0.54511, saving model to drive/My Drive/Resultado/weights_architecture_11.hdf5\n",
            "Epoch 14/50\n",
            " - 1s - loss: 0.6487 - acc: 0.7687 - val_loss: 0.5912 - val_acc: 0.7969\n",
            "\n",
            "Epoch 00014: val_loss did not improve from 0.54511\n",
            "Epoch 15/50\n",
            " - 1s - loss: 0.6071 - acc: 0.7625 - val_loss: 0.6997 - val_acc: 0.5703\n",
            "\n",
            "Epoch 00015: val_loss did not improve from 0.54511\n",
            "Epoch 16/50\n",
            " - 1s - loss: 0.5078 - acc: 0.7812 - val_loss: 0.5075 - val_acc: 0.8125\n",
            "\n",
            "Epoch 00016: val_loss improved from 0.54511 to 0.50751, saving model to drive/My Drive/Resultado/weights_architecture_11.hdf5\n",
            "Epoch 17/50\n",
            " - 1s - loss: 0.5757 - acc: 0.7625 - val_loss: 0.6295 - val_acc: 0.7266\n",
            "\n",
            "Epoch 00017: val_loss did not improve from 0.50751\n",
            "Epoch 18/50\n",
            " - 1s - loss: 0.5072 - acc: 0.7906 - val_loss: 0.4914 - val_acc: 0.8750\n",
            "\n",
            "Epoch 00018: val_loss improved from 0.50751 to 0.49139, saving model to drive/My Drive/Resultado/weights_architecture_11.hdf5\n",
            "Epoch 19/50\n",
            " - 1s - loss: 0.5136 - acc: 0.8344 - val_loss: 0.6216 - val_acc: 0.6719\n",
            "\n",
            "Epoch 00019: val_loss did not improve from 0.49139\n",
            "Epoch 20/50\n",
            " - 1s - loss: 0.5080 - acc: 0.7875 - val_loss: 0.5434 - val_acc: 0.7891\n",
            "\n",
            "Epoch 00020: val_loss did not improve from 0.49139\n",
            "Epoch 21/50\n",
            " - 1s - loss: 0.4098 - acc: 0.8750 - val_loss: 0.5861 - val_acc: 0.7344\n",
            "\n",
            "Epoch 00021: val_loss did not improve from 0.49139\n",
            "Epoch 22/50\n",
            " - 1s - loss: 0.6415 - acc: 0.7687 - val_loss: 0.6069 - val_acc: 0.7734\n",
            "\n",
            "Epoch 00022: val_loss did not improve from 0.49139\n",
            "Epoch 23/50\n",
            " - 1s - loss: 0.5782 - acc: 0.7750 - val_loss: 0.5354 - val_acc: 0.7969\n",
            "\n",
            "Epoch 00023: val_loss did not improve from 0.49139\n",
            "Epoch 24/50\n",
            " - 1s - loss: 0.5340 - acc: 0.7812 - val_loss: 0.6122 - val_acc: 0.7109\n",
            "\n",
            "Epoch 00024: val_loss did not improve from 0.49139\n",
            "Epoch 25/50\n",
            " - 1s - loss: 0.4853 - acc: 0.8312 - val_loss: 0.5290 - val_acc: 0.7891\n",
            "\n",
            "Epoch 00025: val_loss did not improve from 0.49139\n",
            "Epoch 26/50\n",
            " - 1s - loss: 0.4778 - acc: 0.8125 - val_loss: 0.3666 - val_acc: 0.9297\n",
            "\n",
            "Epoch 00026: val_loss improved from 0.49139 to 0.36663, saving model to drive/My Drive/Resultado/weights_architecture_11.hdf5\n",
            "Epoch 27/50\n",
            " - 1s - loss: 0.4895 - acc: 0.7903 - val_loss: 0.5236 - val_acc: 0.7841\n",
            "\n",
            "Epoch 00027: val_loss did not improve from 0.36663\n",
            "Epoch 28/50\n",
            " - 1s - loss: 0.4418 - acc: 0.8344 - val_loss: 0.6012 - val_acc: 0.7656\n",
            "\n",
            "Epoch 00028: val_loss did not improve from 0.36663\n",
            "Epoch 29/50\n",
            " - 1s - loss: 0.4168 - acc: 0.8594 - val_loss: 0.4327 - val_acc: 0.8984\n",
            "\n",
            "Epoch 00029: val_loss did not improve from 0.36663\n",
            "Epoch 30/50\n",
            " - 1s - loss: 0.3644 - acc: 0.8937 - val_loss: 0.4710 - val_acc: 0.8359\n",
            "\n",
            "Epoch 00030: val_loss did not improve from 0.36663\n",
            "Epoch 31/50\n",
            " - 1s - loss: 0.5034 - acc: 0.8219 - val_loss: 0.4908 - val_acc: 0.8125\n",
            "\n",
            "Epoch 00031: val_loss did not improve from 0.36663\n",
            "Epoch 32/50\n",
            " - 1s - loss: 0.4078 - acc: 0.8656 - val_loss: 0.4336 - val_acc: 0.8984\n",
            "\n",
            "Epoch 00032: val_loss did not improve from 0.36663\n",
            "Epoch 33/50\n",
            " - 1s - loss: 0.4022 - acc: 0.8719 - val_loss: 0.4242 - val_acc: 0.9297\n",
            "\n",
            "Epoch 00033: val_loss did not improve from 0.36663\n",
            "Epoch 34/50\n",
            " - 1s - loss: 0.5346 - acc: 0.8406 - val_loss: 0.3970 - val_acc: 0.8672\n",
            "\n",
            "Epoch 00034: val_loss did not improve from 0.36663\n",
            "Epoch 35/50\n",
            " - 1s - loss: 0.4190 - acc: 0.8375 - val_loss: 0.5056 - val_acc: 0.8516\n",
            "\n",
            "Epoch 00035: val_loss did not improve from 0.36663\n",
            "Epoch 36/50\n",
            " - 1s - loss: 0.5419 - acc: 0.8531 - val_loss: 0.5216 - val_acc: 0.7891\n",
            "\n",
            "Epoch 00036: val_loss did not improve from 0.36663\n",
            "Epoch 37/50\n",
            " - 1s - loss: 0.3638 - acc: 0.8969 - val_loss: 0.3761 - val_acc: 0.9297\n",
            "\n",
            "Epoch 00037: val_loss did not improve from 0.36663\n",
            "Epoch 38/50\n",
            " - 1s - loss: 0.3983 - acc: 0.8906 - val_loss: 0.3679 - val_acc: 0.9375\n",
            "\n",
            "Epoch 00038: val_loss did not improve from 0.36663\n",
            "Epoch 39/50\n",
            " - 1s - loss: 0.4785 - acc: 0.8469 - val_loss: 0.5128 - val_acc: 0.7891\n",
            "\n",
            "Epoch 00039: val_loss did not improve from 0.36663\n",
            "Epoch 40/50\n",
            " - 1s - loss: 0.4102 - acc: 0.8719 - val_loss: 0.4330 - val_acc: 0.8594\n",
            "\n",
            "Epoch 00040: val_loss did not improve from 0.36663\n",
            "Epoch 41/50\n",
            " - 1s - loss: 0.4131 - acc: 0.8656 - val_loss: 0.5102 - val_acc: 0.8047\n",
            "\n",
            "Epoch 00041: val_loss did not improve from 0.36663\n",
            "Epoch 42/50\n",
            " - 1s - loss: 0.3975 - acc: 0.8531 - val_loss: 0.4152 - val_acc: 0.8516\n",
            "\n",
            "Epoch 00042: val_loss did not improve from 0.36663\n",
            "Epoch 43/50\n",
            " - 1s - loss: 0.4736 - acc: 0.8281 - val_loss: 0.4768 - val_acc: 0.8125\n",
            "\n",
            "Epoch 00043: val_loss did not improve from 0.36663\n",
            "Epoch 44/50\n",
            " - 1s - loss: 0.4748 - acc: 0.8312 - val_loss: 0.5484 - val_acc: 0.7344\n",
            "\n",
            "Epoch 00044: val_loss did not improve from 0.36663\n",
            "Epoch 45/50\n",
            " - 1s - loss: 0.4977 - acc: 0.8375 - val_loss: 0.5207 - val_acc: 0.7841\n",
            "\n",
            "Epoch 00045: val_loss did not improve from 0.36663\n",
            "Epoch 46/50\n",
            " - 1s - loss: 0.3763 - acc: 0.8844 - val_loss: 0.4625 - val_acc: 0.8281\n",
            "\n",
            "Epoch 00046: val_loss did not improve from 0.36663\n",
            "Epoch 47/50\n",
            " - 1s - loss: 0.4677 - acc: 0.8500 - val_loss: 0.5078 - val_acc: 0.7578\n",
            "\n",
            "Epoch 00047: val_loss did not improve from 0.36663\n",
            "Epoch 48/50\n",
            " - 1s - loss: 0.4116 - acc: 0.8812 - val_loss: 0.3901 - val_acc: 0.8750\n",
            "\n",
            "Epoch 00048: val_loss did not improve from 0.36663\n",
            "Epoch 49/50\n",
            " - 1s - loss: 0.3663 - acc: 0.8937 - val_loss: 0.4381 - val_acc: 0.7812\n",
            "\n",
            "Epoch 00049: val_loss did not improve from 0.36663\n",
            "Epoch 50/50\n",
            " - 1s - loss: 0.4623 - acc: 0.8656 - val_loss: 0.4364 - val_acc: 0.8125\n",
            "\n",
            "Epoch 00050: val_loss did not improve from 0.36663\n"
          ],
          "name": "stdout"
        }
      ]
    },
    {
      "metadata": {
        "colab_type": "code",
        "id": "n6AWbI6ikPC5",
        "colab": {
          "base_uri": "https://localhost:8080/",
          "height": 380
        },
        "outputId": "8a4bb12c-efe0-43c4-a71a-7a2d05d147aa"
      },
      "cell_type": "code",
      "source": [
        "# plotar loss e accuracy para os datasets 'train' e 'test'\n",
        "plt.style.use(\"ggplot\")\n",
        "plt.figure()\n",
        "plt.plot(training.history['acc'], label='Accuracy')\n",
        "plt.plot(training.history['loss'], label='Loss')\n",
        "plt.xlabel('Epochs')\n",
        "plt.ylabel('Accuracy')\n",
        "plt.title(\"Training Loss and Accuracy\")\n",
        "plt.ylabel(\"Loss/Accuracy\")\n",
        "plt.legend()\n",
        "plt.savefig('drive/My Drive/Resultado/' + arquiteture + '.png', bbox_inches='tight')"
      ],
      "execution_count": 97,
      "outputs": [
        {
          "output_type": "display_data",
          "data": {
            "image/png": "[encoded data removed]",
            "text/plain": [
              "<matplotlib.figure.Figure at 0x7f61bfab4cf8>"
            ]
          },
          "metadata": {
            "tags": []
          }
        }
      ]
    },
    {
      "metadata": {
        "colab_type": "code",
        "id": "SspLcUTBkPDF",
        "colab": {
          "base_uri": "https://localhost:8080/",
          "height": 54
        },
        "outputId": "0c463339-7021-43fb-9b31-c2e280d35424"
      },
      "cell_type": "code",
      "source": [
        "y_true, y_predict = ler_images_teste(arquiteture)"
      ],
      "execution_count": 98,
      "outputs": [
        {
          "output_type": "stream",
          "text": [
            "/usr/local/lib/python3.6/dist-packages/skimage/transform/_warps.py:84: UserWarning: The default mode, 'constant', will be changed to 'reflect' in skimage 0.15.\n",
            "  warn(\"The default mode, 'constant', will be changed to 'reflect' in \"\n"
          ],
          "name": "stderr"
        }
      ]
    },
    {
      "metadata": {
        "colab_type": "code",
        "id": "ppoXzpt-kPDO",
        "colab": {
          "base_uri": "https://localhost:8080/",
          "height": 35
        },
        "outputId": "89d9e826-5f44-423a-fb03-5f096c3157b6"
      },
      "cell_type": "code",
      "source": [
        "results[arquiteture] = accuracy_score(y_true, y_predict)\n",
        "print('Test Accuracy: {:.2f}%'.format(100 * results[arquiteture]))"
      ],
      "execution_count": 99,
      "outputs": [
        {
          "output_type": "stream",
          "text": [
            "Test Accuracy: 64.59%\n"
          ],
          "name": "stdout"
        }
      ]
    },
    {
      "metadata": {
        "id": "26BCkdp9MAna",
        "colab_type": "text"
      },
      "cell_type": "markdown",
      "source": [
        "### 12 tentativa  Accuracy: 82.68%"
      ]
    },
    {
      "metadata": {
        "colab_type": "text",
        "id": "MLvKG40a84F9"
      },
      "cell_type": "markdown",
      "source": [
        "Modelo adaptado do **Lucas Albertins**\n",
        "\n",
        "*   Sem utilização das funções de regularização\n",
        "*   Função **SGD** para compilação\n",
        "*   Adicionado mais 2 camadas convolutivas"
      ]
    },
    {
      "metadata": {
        "colab_type": "code",
        "id": "9LrDSy5AMFDO",
        "colab": {}
      },
      "cell_type": "code",
      "source": [
        "from keras.layers import Conv2D, MaxPooling2D, GlobalMaxPooling2D, BatchNormalization\n",
        "from keras.regularizers import l2\n",
        "\n",
        "model = Sequential()\n",
        "\n",
        "model.add(Conv2D(32, (3, 3), activation='relu',input_shape=(None, None, 3)))\n",
        "model.add(BatchNormalization())\n",
        "model.add(Conv2D(32, (3, 3), activation='relu'))\n",
        "model.add(BatchNormalization())\n",
        "model.add(MaxPooling2D((2, 2)))\n",
        "model.add(Dropout(0.25))\n",
        "\n",
        "model.add(Conv2D(64, (3, 3), activation='relu'))\n",
        "model.add(BatchNormalization())\n",
        "model.add(Conv2D(64, (3, 3), activation='relu'))\n",
        "model.add(BatchNormalization())\n",
        "model.add(MaxPooling2D((2, 2)))\n",
        "model.add(Dropout(0.25))\n",
        "\n",
        "model.add(Conv2D(96, (3, 3),activation='relu'))\n",
        "model.add(BatchNormalization())\n",
        "model.add(Conv2D(96, (3, 3),activation='relu'))\n",
        "model.add(BatchNormalization())\n",
        "model.add(MaxPooling2D((2, 2)))\n",
        "model.add(Dropout(0.25))\n",
        "\n",
        "model.add(Conv2D(128, (1,1)))\n",
        "model.add(GlobalMaxPooling2D())\n",
        "\n",
        "model.add(Dense(256, activation='relu'))\n",
        "model.add(Dropout(0.5))\n",
        "model.add(Dense(2, activation='sigmoid'))"
      ],
      "execution_count": 0,
      "outputs": []
    },
    {
      "metadata": {
        "colab_type": "code",
        "id": "EUZ-2eyUMSxQ",
        "colab": {}
      },
      "cell_type": "code",
      "source": [
        "model.compile(SGD(lr=0.01, momentum=0.0, decay=0.0, nesterov=False), \n",
        "              loss='binary_crossentropy', metrics=['accuracy'])"
      ],
      "execution_count": 0,
      "outputs": []
    },
    {
      "metadata": {
        "colab_type": "code",
        "id": "-_TE6KwakRoT",
        "colab": {}
      },
      "cell_type": "code",
      "source": [
        "arquiteture = 'architecture_12'"
      ],
      "execution_count": 0,
      "outputs": []
    },
    {
      "metadata": {
        "colab_type": "code",
        "id": "t9LJH3RP9H7J",
        "colab": {}
      },
      "cell_type": "code",
      "source": [
        "checkpointer = ModelCheckpoint(filepath='drive/My Drive/Resultado/weights_' + arquiteture + '.hdf5', verbose=1, save_best_only=True)"
      ],
      "execution_count": 0,
      "outputs": []
    },
    {
      "metadata": {
        "colab_type": "code",
        "id": "nnQVNSzq9H7S",
        "colab": {
          "base_uri": "https://localhost:8080/",
          "height": 3690
        },
        "outputId": "2096dc46-f4d5-4a50-d916-8c444c39d79a"
      },
      "cell_type": "code",
      "source": [
        "training = model.fit_generator(train_batches, steps_per_epoch=stepsPerEpoche, \n",
        "                   validation_data=validation_batches, validation_steps=validationSteps,\n",
        "                   epochs=50, verbose=2, callbacks=[checkpointer])"
      ],
      "execution_count": 104,
      "outputs": [
        {
          "output_type": "stream",
          "text": [
            "Epoch 1/50\n",
            " - 6s - loss: 2.2936 - acc: 0.5031 - val_loss: 0.7501 - val_acc: 0.5391\n",
            "\n",
            "Epoch 00001: val_loss improved from inf to 0.75010, saving model to drive/My Drive/Resultado/weights_architecture_12.hdf5\n",
            "Epoch 2/50\n",
            " - 1s - loss: 1.4131 - acc: 0.5125 - val_loss: 0.6710 - val_acc: 0.5781\n",
            "\n",
            "Epoch 00002: val_loss improved from 0.75010 to 0.67098, saving model to drive/My Drive/Resultado/weights_architecture_12.hdf5\n",
            "Epoch 3/50\n",
            " - 1s - loss: 1.3399 - acc: 0.5516 - val_loss: 0.6480 - val_acc: 0.6094\n",
            "\n",
            "Epoch 00003: val_loss improved from 0.67098 to 0.64797, saving model to drive/My Drive/Resultado/weights_architecture_12.hdf5\n",
            "Epoch 4/50\n",
            " - 1s - loss: 1.0420 - acc: 0.5281 - val_loss: 0.7061 - val_acc: 0.5156\n",
            "\n",
            "Epoch 00004: val_loss did not improve from 0.64797\n",
            "Epoch 5/50\n",
            " - 1s - loss: 0.9026 - acc: 0.5594 - val_loss: 0.5924 - val_acc: 0.8125\n",
            "\n",
            "Epoch 00005: val_loss improved from 0.64797 to 0.59235, saving model to drive/My Drive/Resultado/weights_architecture_12.hdf5\n",
            "Epoch 6/50\n",
            " - 1s - loss: 0.8433 - acc: 0.6125 - val_loss: 0.5673 - val_acc: 0.6875\n",
            "\n",
            "Epoch 00006: val_loss improved from 0.59235 to 0.56726, saving model to drive/My Drive/Resultado/weights_architecture_12.hdf5\n",
            "Epoch 7/50\n",
            " - 1s - loss: 0.7011 - acc: 0.6188 - val_loss: 0.5646 - val_acc: 0.7273\n",
            "\n",
            "Epoch 00007: val_loss improved from 0.56726 to 0.56464, saving model to drive/My Drive/Resultado/weights_architecture_12.hdf5\n",
            "Epoch 8/50\n",
            " - 1s - loss: 0.8089 - acc: 0.5969 - val_loss: 0.5909 - val_acc: 0.6797\n",
            "\n",
            "Epoch 00008: val_loss did not improve from 0.56464\n",
            "Epoch 9/50\n",
            " - 1s - loss: 0.6428 - acc: 0.6688 - val_loss: 0.5294 - val_acc: 0.7266\n",
            "\n",
            "Epoch 00009: val_loss improved from 0.56464 to 0.52937, saving model to drive/My Drive/Resultado/weights_architecture_12.hdf5\n",
            "Epoch 10/50\n",
            " - 1s - loss: 0.7820 - acc: 0.6094 - val_loss: 0.7078 - val_acc: 0.5078\n",
            "\n",
            "Epoch 00010: val_loss did not improve from 0.52937\n",
            "Epoch 11/50\n",
            " - 1s - loss: 0.5885 - acc: 0.6813 - val_loss: 0.6776 - val_acc: 0.5625\n",
            "\n",
            "Epoch 00011: val_loss did not improve from 0.52937\n",
            "Epoch 12/50\n",
            " - 1s - loss: 0.5870 - acc: 0.7281 - val_loss: 0.6365 - val_acc: 0.6094\n",
            "\n",
            "Epoch 00012: val_loss did not improve from 0.52937\n",
            "Epoch 13/50\n",
            " - 1s - loss: 0.5565 - acc: 0.7375 - val_loss: 0.5340 - val_acc: 0.7578\n",
            "\n",
            "Epoch 00013: val_loss did not improve from 0.52937\n",
            "Epoch 14/50\n",
            " - 1s - loss: 0.4878 - acc: 0.7875 - val_loss: 0.5547 - val_acc: 0.7422\n",
            "\n",
            "Epoch 00014: val_loss did not improve from 0.52937\n",
            "Epoch 15/50\n",
            " - 1s - loss: 0.5180 - acc: 0.7313 - val_loss: 0.5089 - val_acc: 0.7969\n",
            "\n",
            "Epoch 00015: val_loss improved from 0.52937 to 0.50890, saving model to drive/My Drive/Resultado/weights_architecture_12.hdf5\n",
            "Epoch 16/50\n",
            " - 1s - loss: 0.4216 - acc: 0.8094 - val_loss: 0.5278 - val_acc: 0.8359\n",
            "\n",
            "Epoch 00016: val_loss did not improve from 0.50890\n",
            "Epoch 17/50\n",
            " - 1s - loss: 0.6263 - acc: 0.7500 - val_loss: 0.5771 - val_acc: 0.7734\n",
            "\n",
            "Epoch 00017: val_loss did not improve from 0.50890\n",
            "Epoch 18/50\n",
            " - 1s - loss: 0.4972 - acc: 0.7438 - val_loss: 0.5743 - val_acc: 0.7266\n",
            "\n",
            "Epoch 00018: val_loss did not improve from 0.50890\n",
            "Epoch 19/50\n",
            " - 1s - loss: 0.4865 - acc: 0.7906 - val_loss: 0.5789 - val_acc: 0.7266\n",
            "\n",
            "Epoch 00019: val_loss did not improve from 0.50890\n",
            "Epoch 20/50\n",
            " - 1s - loss: 0.4512 - acc: 0.8344 - val_loss: 0.5978 - val_acc: 0.6250\n",
            "\n",
            "Epoch 00020: val_loss did not improve from 0.50890\n",
            "Epoch 21/50\n",
            " - 1s - loss: 0.4779 - acc: 0.8000 - val_loss: 0.5014 - val_acc: 0.7891\n",
            "\n",
            "Epoch 00021: val_loss improved from 0.50890 to 0.50135, saving model to drive/My Drive/Resultado/weights_architecture_12.hdf5\n",
            "Epoch 22/50\n",
            " - 1s - loss: 0.4524 - acc: 0.8000 - val_loss: 0.5692 - val_acc: 0.6797\n",
            "\n",
            "Epoch 00022: val_loss did not improve from 0.50135\n",
            "Epoch 23/50\n",
            " - 1s - loss: 0.3668 - acc: 0.8781 - val_loss: 0.4924 - val_acc: 0.7969\n",
            "\n",
            "Epoch 00023: val_loss improved from 0.50135 to 0.49239, saving model to drive/My Drive/Resultado/weights_architecture_12.hdf5\n",
            "Epoch 24/50\n",
            " - 1s - loss: 0.4268 - acc: 0.8094 - val_loss: 0.5330 - val_acc: 0.6875\n",
            "\n",
            "Epoch 00024: val_loss did not improve from 0.49239\n",
            "Epoch 25/50\n",
            " - 1s - loss: 0.3718 - acc: 0.8375 - val_loss: 0.6190 - val_acc: 0.5341\n",
            "\n",
            "Epoch 00025: val_loss did not improve from 0.49239\n",
            "Epoch 26/50\n",
            " - 1s - loss: 0.3866 - acc: 0.8594 - val_loss: 0.5877 - val_acc: 0.6719\n",
            "\n",
            "Epoch 00026: val_loss did not improve from 0.49239\n",
            "Epoch 27/50\n",
            " - 1s - loss: 0.4739 - acc: 0.8219 - val_loss: 0.5805 - val_acc: 0.6562\n",
            "\n",
            "Epoch 00027: val_loss did not improve from 0.49239\n",
            "Epoch 28/50\n",
            " - 1s - loss: 0.4219 - acc: 0.8406 - val_loss: 0.5019 - val_acc: 0.7734\n",
            "\n",
            "Epoch 00028: val_loss did not improve from 0.49239\n",
            "Epoch 29/50\n",
            " - 1s - loss: 0.3361 - acc: 0.8919 - val_loss: 0.7707 - val_acc: 0.4844\n",
            "\n",
            "Epoch 00029: val_loss did not improve from 0.49239\n",
            "Epoch 30/50\n",
            " - 1s - loss: 0.4233 - acc: 0.8688 - val_loss: 0.7407 - val_acc: 0.5000\n",
            "\n",
            "Epoch 00030: val_loss did not improve from 0.49239\n",
            "Epoch 31/50\n",
            " - 1s - loss: 0.3973 - acc: 0.8625 - val_loss: 0.5552 - val_acc: 0.5938\n",
            "\n",
            "Epoch 00031: val_loss did not improve from 0.49239\n",
            "Epoch 32/50\n",
            " - 1s - loss: 0.3274 - acc: 0.8719 - val_loss: 0.6094 - val_acc: 0.6953\n",
            "\n",
            "Epoch 00032: val_loss did not improve from 0.49239\n",
            "Epoch 33/50\n",
            " - 1s - loss: 0.3323 - acc: 0.8937 - val_loss: 0.4415 - val_acc: 0.7969\n",
            "\n",
            "Epoch 00033: val_loss improved from 0.49239 to 0.44147, saving model to drive/My Drive/Resultado/weights_architecture_12.hdf5\n",
            "Epoch 34/50\n",
            " - 1s - loss: 0.3600 - acc: 0.8625 - val_loss: 0.3112 - val_acc: 0.9062\n",
            "\n",
            "Epoch 00034: val_loss improved from 0.44147 to 0.31115, saving model to drive/My Drive/Resultado/weights_architecture_12.hdf5\n",
            "Epoch 35/50\n",
            " - 1s - loss: 0.3236 - acc: 0.8937 - val_loss: 0.3761 - val_acc: 0.8125\n",
            "\n",
            "Epoch 00035: val_loss did not improve from 0.31115\n",
            "Epoch 36/50\n",
            " - 1s - loss: 0.2962 - acc: 0.8844 - val_loss: 0.3548 - val_acc: 0.8828\n",
            "\n",
            "Epoch 00036: val_loss did not improve from 0.31115\n",
            "Epoch 37/50\n",
            " - 1s - loss: 0.2912 - acc: 0.8875 - val_loss: 0.5806 - val_acc: 0.7266\n",
            "\n",
            "Epoch 00037: val_loss did not improve from 0.31115\n",
            "Epoch 38/50\n",
            " - 1s - loss: 0.3673 - acc: 0.8656 - val_loss: 0.4121 - val_acc: 0.8516\n",
            "\n",
            "Epoch 00038: val_loss did not improve from 0.31115\n",
            "Epoch 39/50\n",
            " - 1s - loss: 0.3615 - acc: 0.8406 - val_loss: 0.3919 - val_acc: 0.8359\n",
            "\n",
            "Epoch 00039: val_loss did not improve from 0.31115\n",
            "Epoch 40/50\n",
            " - 1s - loss: 0.2824 - acc: 0.9125 - val_loss: 0.4471 - val_acc: 0.8047\n",
            "\n",
            "Epoch 00040: val_loss did not improve from 0.31115\n",
            "Epoch 41/50\n",
            " - 1s - loss: 0.3761 - acc: 0.8625 - val_loss: 0.4331 - val_acc: 0.8438\n",
            "\n",
            "Epoch 00041: val_loss did not improve from 0.31115\n",
            "Epoch 42/50\n",
            " - 1s - loss: 0.3365 - acc: 0.8688 - val_loss: 0.4886 - val_acc: 0.7045\n",
            "\n",
            "Epoch 00042: val_loss did not improve from 0.31115\n",
            "Epoch 43/50\n",
            " - 1s - loss: 0.2756 - acc: 0.9000 - val_loss: 0.4088 - val_acc: 0.7891\n",
            "\n",
            "Epoch 00043: val_loss did not improve from 0.31115\n",
            "Epoch 44/50\n",
            " - 1s - loss: 0.4091 - acc: 0.8750 - val_loss: 0.6312 - val_acc: 0.5703\n",
            "\n",
            "Epoch 00044: val_loss did not improve from 0.31115\n",
            "Epoch 45/50\n",
            " - 1s - loss: 0.3796 - acc: 0.8563 - val_loss: 0.6785 - val_acc: 0.5391\n",
            "\n",
            "Epoch 00045: val_loss did not improve from 0.31115\n",
            "Epoch 46/50\n",
            " - 1s - loss: 0.3531 - acc: 0.8688 - val_loss: 0.5974 - val_acc: 0.6406\n",
            "\n",
            "Epoch 00046: val_loss did not improve from 0.31115\n",
            "Epoch 47/50\n",
            " - 1s - loss: 0.3950 - acc: 0.8531 - val_loss: 0.5681 - val_acc: 0.6641\n",
            "\n",
            "Epoch 00047: val_loss did not improve from 0.31115\n",
            "Epoch 48/50\n",
            " - 1s - loss: 0.2756 - acc: 0.9375 - val_loss: 0.4699 - val_acc: 0.7422\n",
            "\n",
            "Epoch 00048: val_loss did not improve from 0.31115\n",
            "Epoch 49/50\n",
            " - 1s - loss: 0.2744 - acc: 0.9156 - val_loss: 0.6047 - val_acc: 0.6562\n",
            "\n",
            "Epoch 00049: val_loss did not improve from 0.31115\n",
            "Epoch 50/50\n",
            " - 1s - loss: 0.3180 - acc: 0.8719 - val_loss: 0.3525 - val_acc: 0.9531\n",
            "\n",
            "Epoch 00050: val_loss did not improve from 0.31115\n"
          ],
          "name": "stdout"
        }
      ]
    },
    {
      "metadata": {
        "colab_type": "code",
        "id": "5Z2o5TCGkRoi",
        "colab": {
          "base_uri": "https://localhost:8080/",
          "height": 380
        },
        "outputId": "793d6812-5a0b-446a-e40b-392a4cf29f96"
      },
      "cell_type": "code",
      "source": [
        "# plotar loss e accuracy para os datasets 'train' e 'test'\n",
        "plt.style.use(\"ggplot\")\n",
        "plt.figure()\n",
        "plt.plot(training.history['acc'], label='Accuracy')\n",
        "plt.plot(training.history['loss'], label='Loss')\n",
        "plt.xlabel('Epochs')\n",
        "plt.ylabel('Accuracy')\n",
        "plt.title(\"Training Loss and Accuracy\")\n",
        "plt.ylabel(\"Loss/Accuracy\")\n",
        "plt.legend()\n",
        "plt.savefig('drive/My Drive/Resultado/' + arquiteture + '.png', bbox_inches='tight')"
      ],
      "execution_count": 105,
      "outputs": [
        {
          "output_type": "display_data",
          "data": {
            "image/png": "[encoded data removed]",
            "text/plain": [
              "<matplotlib.figure.Figure at 0x7f61be8be828>"
            ]
          },
          "metadata": {
            "tags": []
          }
        }
      ]
    },
    {
      "metadata": {
        "colab_type": "code",
        "id": "gNjIuvcfkRou",
        "colab": {
          "base_uri": "https://localhost:8080/",
          "height": 54
        },
        "outputId": "0aef122a-826a-41cd-bdc1-33e02ea54705"
      },
      "cell_type": "code",
      "source": [
        "y_true, y_predict = ler_images_teste(arquiteture)"
      ],
      "execution_count": 106,
      "outputs": [
        {
          "output_type": "stream",
          "text": [
            "/usr/local/lib/python3.6/dist-packages/skimage/transform/_warps.py:84: UserWarning: The default mode, 'constant', will be changed to 'reflect' in skimage 0.15.\n",
            "  warn(\"The default mode, 'constant', will be changed to 'reflect' in \"\n"
          ],
          "name": "stderr"
        }
      ]
    },
    {
      "metadata": {
        "colab_type": "code",
        "id": "GpyaeT1LkRo2",
        "colab": {
          "base_uri": "https://localhost:8080/",
          "height": 35
        },
        "outputId": "c21083e6-1543-45ee-cb7a-00b1dcae3fa9"
      },
      "cell_type": "code",
      "source": [
        "results[arquiteture] = accuracy_score(y_true, y_predict)\n",
        "print('Test Accuracy: {:.2f}%'.format(100 * results[arquiteture]))"
      ],
      "execution_count": 107,
      "outputs": [
        {
          "output_type": "stream",
          "text": [
            "Test Accuracy: 82.68%\n"
          ],
          "name": "stdout"
        }
      ]
    }
  ]
}