{
  "nbformat": 4,
  "nbformat_minor": 0,
  "metadata": {
    "colab": {
      "name": "TesteRede2_Binaria_Base2.ipynb",
      "version": "0.3.2",
      "provenance": [],
      "toc_visible": true,
      "include_colab_link": true
    },
    "kernelspec": {
      "name": "python3",
      "display_name": "Python 3"
    },
    "accelerator": "GPU"
  },
  "cells": [
    {
      "cell_type": "markdown",
      "metadata": {
        "id": "view-in-github",
        "colab_type": "text"
      },
      "source": [
        "<a href=\"https://colab.research.google.com/github/FernandaSzAdr/KNN_cromossome/blob/master/TesteRede2_Binaria_Base2.ipynb\" target=\"_parent\"><img src=\"https://colab.research.google.com/assets/colab-badge.svg\" alt=\"Open In Colab\"/></a>"
      ]
    },
    {
      "metadata": {
        "id": "xN-oUTtcif3Q",
        "colab_type": "code",
        "outputId": "ce680096-d609-4f47-b9fa-3da8fbaecae9",
        "colab": {
          "base_uri": "https://localhost:8080/",
          "height": 55
        }
      },
      "cell_type": "code",
      "source": [
        "# Load the Drive helper and mount\n",
        "from google.colab import drive\n",
        "\n",
        "# This will prompt for authorization.\n",
        "drive.mount('/content/drive/')"
      ],
      "execution_count": 108,
      "outputs": [
        {
          "output_type": "stream",
          "text": [
            "Drive already mounted at /content/drive/; to attempt to forcibly remount, call drive.mount(\"/content/drive/\", force_remount=True).\n"
          ],
          "name": "stdout"
        }
      ]
    },
    {
      "metadata": {
        "id": "gzcuEGSklnwS",
        "colab_type": "code",
        "outputId": "046c79bd-a7bb-401d-ae04-3390464e9407",
        "colab": {
          "base_uri": "https://localhost:8080/",
          "height": 55
        }
      },
      "cell_type": "code",
      "source": [
        "import os\n",
        "import cv2\n",
        "import csv\n",
        "!pip install imutils\n",
        "import imutils\n",
        "from skimage import transform\n",
        "import numpy as np\n",
        "import keras\n",
        "from keras import backend as K\n",
        "from keras.models import Sequential\n",
        "from keras.layers import Activation\n",
        "from keras.optimizers import SGD\n",
        "from keras.layers.core import Dense, Flatten, Dropout\n",
        "from keras.preprocessing.image import ImageDataGenerator\n",
        "from keras.layers.normalization import BatchNormalization\n",
        "from keras.layers.convolutional import *\n",
        "from keras.callbacks import ModelCheckpoint\n",
        "from matplotlib import pyplot as plt\n",
        "from sklearn.metrics import confusion_matrix\n",
        "from sklearn.metrics import precision_score\n",
        "import itertools\n",
        "import matplotlib.pyplot as plt"
      ],
      "execution_count": 109,
      "outputs": [
        {
          "output_type": "stream",
          "text": [
            "Requirement already satisfied: imutils in /usr/local/lib/python3.6/dist-packages (0.5.1)\n"
          ],
          "name": "stdout"
        }
      ]
    },
    {
      "metadata": {
        "id": "ITtEfxrilym7",
        "colab_type": "code",
        "colab": {}
      },
      "cell_type": "code",
      "source": [
        "train_path = 'drive/My Drive/Base_CNN/Binarizado2/Train'\n",
        "test_path = 'drive/My Drive/Base_CNN/Binarizado2/Test'\n",
        "validation_path = 'drive/My Drive/Base_CNN/Binarizado2/Validation'"
      ],
      "execution_count": 0,
      "outputs": []
    },
    {
      "metadata": {
        "id": "e835RSQgEgA6",
        "colab_type": "code",
        "colab": {}
      },
      "cell_type": "code",
      "source": [
        "def converte(regiao):\n",
        "   regiao = np.array(regiao).astype('float32')/255\n",
        "   regiao = transform.resize(regiao, (120, 120, 3))\n",
        "   regiao = np.expand_dims(regiao, axis=0)\n",
        "   return regiao\n"
      ],
      "execution_count": 0,
      "outputs": []
    },
    {
      "metadata": {
        "id": "9ERJTQ3AgFJb",
        "colab_type": "code",
        "colab": {}
      },
      "cell_type": "code",
      "source": [
        "def ler_images_teste(arquiteture):\n",
        "  y_true = []\n",
        "  y_predict = []\n",
        "  images_test = os.listdir(test_path)\n",
        "  local = 'drive/My Drive/Base_CNN/Binarizado2/Resultado_Image/' + arquiteture\n",
        "  if os.path.isdir(local) == False:\n",
        "    os.mkdir(local)\n",
        "  \n",
        "  for img in images_test:\n",
        "    # Pega cada imagem separadamente do folder de teste\n",
        "    image = cv2.imread(test_path + '/' + img)\n",
        "    f = open('drive/My Drive/Base_CNN/Binarizado2/posicoes_segmentada.csv', 'r')\n",
        "    \n",
        "    copia = image.copy()\n",
        "\n",
        "    try:\n",
        "      leitor = csv.reader(f)\n",
        "      leitor = list(leitor)\n",
        "      leitor.pop(0)\n",
        "      for linha in leitor:\n",
        "        if len(linha) > 0:\n",
        "          # Para cada região dessa imagem:\n",
        "          if linha[0] == img:\n",
        "            posicoes = []\n",
        "            x = int(linha[3])\n",
        "            y = int(linha[4])\n",
        "            w = int(linha[5])\n",
        "            h = int(linha[6])\n",
        "            \n",
        "            # Label da região\n",
        "            label = linha[1]\n",
        "            if label == 'NC':\n",
        "              y_true.append(0)\n",
        "            else:\n",
        "              y_true.append(1)\n",
        "            \n",
        "            # Região\n",
        "            regiao = image[y: y + h, x: x + w]\n",
        "            regiao = converte(regiao)\n",
        "            \n",
        "            # Coloca a região na função e obtem o resultado\n",
        "            predicao = model.predict(regiao,batch_size=bSize,verbose=0)\n",
        "            \n",
        "            # Se é um cromossomo:\n",
        "            if predicao[0][0] > predicao[0][1]:\n",
        "              y_predict.append(1)\n",
        "              cv2.rectangle(copia,(x, y),(x+w, y+h),(0,0,255), 1)\n",
        "            # Se não for um cromossomo:\n",
        "            else:\n",
        "              y_predict.append(0)\n",
        "              cv2.rectangle(copia,(x, y),(x+w, y+h),(0,255,0), 1)\n",
        "                        \n",
        "    finally:\n",
        "      f.close()\n",
        "    \n",
        "    cv2.imwrite(local + '/' + img, copia)\n",
        "  \n",
        "  return y_true, y_predict\n"
      ],
      "execution_count": 0,
      "outputs": []
    },
    {
      "metadata": {
        "id": "WlPBqB_v3x2A",
        "colab_type": "text"
      },
      "cell_type": "markdown",
      "source": [
        "\n",
        "\n",
        "---\n",
        "\n"
      ]
    },
    {
      "metadata": {
        "id": "8KTtm8K7qg1n",
        "colab_type": "text"
      },
      "cell_type": "markdown",
      "source": [
        "## Implementação"
      ]
    },
    {
      "metadata": {
        "id": "ZNfohSUpo1n0",
        "colab_type": "text"
      },
      "cell_type": "markdown",
      "source": [
        "\n",
        "\n",
        "*   Batch size = 32\n",
        "*   Image size = 120x120\n",
        "\n"
      ]
    },
    {
      "metadata": {
        "id": "_TFWtLbQ2fUI",
        "colab_type": "code",
        "colab": {}
      },
      "cell_type": "code",
      "source": [
        "results = {}"
      ],
      "execution_count": 0,
      "outputs": []
    },
    {
      "metadata": {
        "id": "W3zmFDRmnYem",
        "colab_type": "code",
        "colab": {}
      },
      "cell_type": "code",
      "source": [
        "bSize = 32"
      ],
      "execution_count": 0,
      "outputs": []
    },
    {
      "metadata": {
        "id": "dCNH0jPl3WTV",
        "colab_type": "code",
        "colab": {}
      },
      "cell_type": "code",
      "source": [
        "datagen = ImageDataGenerator(rescale=1/255.)"
      ],
      "execution_count": 0,
      "outputs": []
    },
    {
      "metadata": {
        "id": "YiMXe23Vmbo-",
        "colab_type": "code",
        "outputId": "2159b895-1190-4bd9-8a6f-829eaa608d92",
        "colab": {
          "base_uri": "https://localhost:8080/",
          "height": 54
        }
      },
      "cell_type": "code",
      "source": [
        "train_batches = datagen.flow_from_directory(train_path, target_size=(120, 120), \n",
        "                                            classes=['NC', 'C'], \n",
        "                                            batch_size=bSize)\n",
        "validation_batches = datagen.flow_from_directory(validation_path, \n",
        "                                                 target_size=(120, 120), \n",
        "                                                 classes=['NC', 'C'], \n",
        "                                                 batch_size=bSize)"
      ],
      "execution_count": 116,
      "outputs": [
        {
          "output_type": "stream",
          "text": [
            "Found 5675 images belonging to 2 classes.\n",
            "Found 1509 images belonging to 2 classes.\n"
          ],
          "name": "stdout"
        }
      ]
    },
    {
      "metadata": {
        "id": "vE-dZtSv5mde",
        "colab_type": "code",
        "colab": {}
      },
      "cell_type": "code",
      "source": [
        "stepsPerEpoche = len(train_batches)/bSize\n",
        "validationSteps = len(validation_batches)/bSize"
      ],
      "execution_count": 0,
      "outputs": []
    },
    {
      "metadata": {
        "id": "tY7Fxpczz0wk",
        "colab_type": "text"
      },
      "cell_type": "markdown",
      "source": [
        "\n",
        "\n",
        "---\n",
        "\n"
      ]
    },
    {
      "metadata": {
        "id": "wH56YdE5rlnU",
        "colab_type": "text"
      },
      "cell_type": "markdown",
      "source": [
        "### 1 tentativa Precision: 19.64%"
      ]
    },
    {
      "metadata": {
        "id": "NBCIFVOlompR",
        "colab_type": "text"
      },
      "cell_type": "markdown",
      "source": [
        "**Descrição**\n",
        "\n",
        "\n",
        "*   Modelo descrito no artigo \"Crowdsourcing for Chromosome Segmentation and Deep Classification\"\n",
        "\n"
      ]
    },
    {
      "metadata": {
        "id": "rNosdG-ioNYU",
        "colab_type": "code",
        "colab": {}
      },
      "cell_type": "code",
      "source": [
        "model = Sequential([\n",
        "    Conv2D(64, (3, 3), activation='relu', input_shape=(120, 120, 3)),\n",
        "    Conv2D(64, (3, 3), activation='relu'),\n",
        "    Dropout(0.2),\n",
        "    MaxPooling2D(pool_size=(2, 2)),\n",
        "   \n",
        "    Conv2D(32, (3, 3), activation='relu'),\n",
        "    Conv2D(32, (3, 3), activation='relu'),\n",
        "    Dropout(0.2),\n",
        "    MaxPooling2D(pool_size=(2, 2)),\n",
        "   \n",
        "    Conv2D(16, (3, 3), activation='relu'),\n",
        "    Conv2D(16, (3, 3), activation='relu'),\n",
        "    Dropout(0.2),\n",
        "    MaxPooling2D(pool_size=(2, 2)),\n",
        "   \n",
        "    Conv2D(8, (3, 3), activation='relu'),\n",
        "    Conv2D(8, (3, 3), activation='relu'),\n",
        "    Dropout(0.2),\n",
        "    MaxPooling2D(pool_size=(2, 2)),\n",
        "    \n",
        "    Flatten(),\n",
        "    Dense(1024, activation='sigmoid'),\n",
        "    Dense(512, activation='sigmoid'),\n",
        "   \n",
        "    Dense(2, activation='softmax')\n",
        "]\n",
        ")"
      ],
      "execution_count": 0,
      "outputs": []
    },
    {
      "metadata": {
        "id": "UBqwdK2Bxagj",
        "colab_type": "code",
        "colab": {}
      },
      "cell_type": "code",
      "source": [
        "model.compile(SGD(lr=0.01, momentum=0.0, decay=0.0, nesterov=False), \n",
        "              loss='categorical_crossentropy', metrics=['accuracy'])"
      ],
      "execution_count": 0,
      "outputs": []
    },
    {
      "metadata": {
        "id": "iclhpyXmi_DU",
        "colab_type": "code",
        "colab": {}
      },
      "cell_type": "code",
      "source": [
        "arquiteture = 'architecture_1'"
      ],
      "execution_count": 0,
      "outputs": []
    },
    {
      "metadata": {
        "colab_type": "code",
        "id": "LqOsSip-k_v7",
        "colab": {}
      },
      "cell_type": "code",
      "source": [
        "checkpointer = ModelCheckpoint(filepath='drive/My Drive/Resultado/weights_' + arquiteture + '.hdf5', verbose=1, save_best_only=True)"
      ],
      "execution_count": 0,
      "outputs": []
    },
    {
      "metadata": {
        "id": "PeyX7Mzf5lDw",
        "colab_type": "code",
        "outputId": "d8dd62cf-64ee-4190-ec40-7031ff15148b",
        "colab": {
          "base_uri": "https://localhost:8080/",
          "height": 3710
        }
      },
      "cell_type": "code",
      "source": [
        "training = model.fit_generator(train_batches, steps_per_epoch=stepsPerEpoche, \n",
        "                   validation_data=validation_batches, validation_steps=validationSteps,\n",
        "                   epochs=50, verbose=2, callbacks=[checkpointer])"
      ],
      "execution_count": 0,
      "outputs": [
        {
          "output_type": "stream",
          "text": [
            "Epoch 1/50\n",
            " - 4s - loss: 0.6548 - acc: 0.6146 - val_loss: 0.6276 - val_acc: 0.6875\n",
            "\n",
            "Epoch 00001: val_loss improved from inf to 0.62755, saving model to drive/My Drive/Resultado/weights_architecture_1.hdf5\n",
            "Epoch 2/50\n",
            " - 1s - loss: 0.7229 - acc: 0.5104 - val_loss: 0.6760 - val_acc: 0.5938\n",
            "\n",
            "Epoch 00002: val_loss did not improve from 0.62755\n",
            "Epoch 3/50\n",
            " - 1s - loss: 0.6503 - acc: 0.6562 - val_loss: 0.6436 - val_acc: 0.6562\n",
            "\n",
            "Epoch 00003: val_loss did not improve from 0.62755\n",
            "Epoch 4/50\n",
            " - 1s - loss: 0.6294 - acc: 0.6979 - val_loss: 0.6766 - val_acc: 0.6562\n",
            "\n",
            "Epoch 00004: val_loss did not improve from 0.62755\n",
            "Epoch 5/50\n",
            " - 1s - loss: 0.7032 - acc: 0.5781 - val_loss: 0.6853 - val_acc: 0.5625\n",
            "\n",
            "Epoch 00005: val_loss did not improve from 0.62755\n",
            "Epoch 6/50\n",
            " - 1s - loss: 0.6765 - acc: 0.6198 - val_loss: 0.6782 - val_acc: 0.5938\n",
            "\n",
            "Epoch 00006: val_loss did not improve from 0.62755\n",
            "Epoch 7/50\n",
            " - 1s - loss: 0.7096 - acc: 0.5781 - val_loss: 0.6769 - val_acc: 0.6250\n",
            "\n",
            "Epoch 00007: val_loss did not improve from 0.62755\n",
            "Epoch 8/50\n",
            " - 1s - loss: 0.6818 - acc: 0.5833 - val_loss: 0.6838 - val_acc: 0.8281\n",
            "\n",
            "Epoch 00008: val_loss did not improve from 0.62755\n",
            "Epoch 9/50\n",
            " - 1s - loss: 0.6881 - acc: 0.6094 - val_loss: 0.7092 - val_acc: 0.5312\n",
            "\n",
            "Epoch 00009: val_loss did not improve from 0.62755\n",
            "Epoch 10/50\n",
            " - 1s - loss: 0.6463 - acc: 0.6823 - val_loss: 0.6485 - val_acc: 0.6562\n",
            "\n",
            "Epoch 00010: val_loss did not improve from 0.62755\n",
            "Epoch 11/50\n",
            " - 1s - loss: 0.6453 - acc: 0.6615 - val_loss: 0.6811 - val_acc: 0.5781\n",
            "\n",
            "Epoch 00011: val_loss did not improve from 0.62755\n",
            "Epoch 12/50\n",
            " - 1s - loss: 0.6738 - acc: 0.6042 - val_loss: 0.6703 - val_acc: 0.6250\n",
            "\n",
            "Epoch 00012: val_loss did not improve from 0.62755\n",
            "Epoch 13/50\n",
            " - 1s - loss: 0.6955 - acc: 0.5156 - val_loss: 0.5941 - val_acc: 0.7188\n",
            "\n",
            "Epoch 00013: val_loss improved from 0.62755 to 0.59414, saving model to drive/My Drive/Resultado/weights_architecture_1.hdf5\n",
            "Epoch 14/50\n",
            " - 1s - loss: 0.6998 - acc: 0.5781 - val_loss: 0.6729 - val_acc: 0.6094\n",
            "\n",
            "Epoch 00014: val_loss did not improve from 0.59414\n",
            "Epoch 15/50\n",
            " - 1s - loss: 0.6749 - acc: 0.6615 - val_loss: 0.7294 - val_acc: 0.5625\n",
            "\n",
            "Epoch 00015: val_loss did not improve from 0.59414\n",
            "Epoch 16/50\n",
            " - 1s - loss: 0.6787 - acc: 0.6198 - val_loss: 0.6725 - val_acc: 0.6094\n",
            "\n",
            "Epoch 00016: val_loss did not improve from 0.59414\n",
            "Epoch 17/50\n",
            " - 1s - loss: 0.6860 - acc: 0.5729 - val_loss: 0.6701 - val_acc: 0.6094\n",
            "\n",
            "Epoch 00017: val_loss did not improve from 0.59414\n",
            "Epoch 18/50\n",
            " - 1s - loss: 0.6639 - acc: 0.6354 - val_loss: 0.6345 - val_acc: 0.7031\n",
            "\n",
            "Epoch 00018: val_loss did not improve from 0.59414\n",
            "Epoch 19/50\n",
            " - 1s - loss: 0.6740 - acc: 0.6094 - val_loss: 0.6465 - val_acc: 0.6562\n",
            "\n",
            "Epoch 00019: val_loss did not improve from 0.59414\n",
            "Epoch 20/50\n",
            " - 1s - loss: 0.6591 - acc: 0.6354 - val_loss: 0.7018 - val_acc: 0.5625\n",
            "\n",
            "Epoch 00020: val_loss did not improve from 0.59414\n",
            "Epoch 21/50\n",
            " - 1s - loss: 0.6742 - acc: 0.5990 - val_loss: 0.6332 - val_acc: 0.6875\n",
            "\n",
            "Epoch 00021: val_loss did not improve from 0.59414\n",
            "Epoch 22/50\n",
            " - 1s - loss: 0.6662 - acc: 0.6250 - val_loss: 0.6754 - val_acc: 0.5938\n",
            "\n",
            "Epoch 00022: val_loss did not improve from 0.59414\n",
            "Epoch 23/50\n",
            " - 1s - loss: 0.6597 - acc: 0.6562 - val_loss: 0.6625 - val_acc: 0.6719\n",
            "\n",
            "Epoch 00023: val_loss did not improve from 0.59414\n",
            "Epoch 24/50\n",
            " - 1s - loss: 0.6751 - acc: 0.6406 - val_loss: 0.6162 - val_acc: 0.7027\n",
            "\n",
            "Epoch 00024: val_loss did not improve from 0.59414\n",
            "Epoch 25/50\n",
            " - 1s - loss: 0.6823 - acc: 0.6250 - val_loss: 0.6664 - val_acc: 0.6562\n",
            "\n",
            "Epoch 00025: val_loss did not improve from 0.59414\n",
            "Epoch 26/50\n",
            " - 1s - loss: 0.6481 - acc: 0.6667 - val_loss: 0.6242 - val_acc: 0.6875\n",
            "\n",
            "Epoch 00026: val_loss did not improve from 0.59414\n",
            "Epoch 27/50\n",
            " - 1s - loss: 0.6566 - acc: 0.6719 - val_loss: 0.6692 - val_acc: 0.6094\n",
            "\n",
            "Epoch 00027: val_loss did not improve from 0.59414\n",
            "Epoch 28/50\n",
            " - 1s - loss: 0.6655 - acc: 0.6250 - val_loss: 0.6720 - val_acc: 0.6094\n",
            "\n",
            "Epoch 00028: val_loss did not improve from 0.59414\n",
            "Epoch 29/50\n",
            " - 1s - loss: 0.6906 - acc: 0.5521 - val_loss: 0.5772 - val_acc: 0.7656\n",
            "\n",
            "Epoch 00029: val_loss improved from 0.59414 to 0.57717, saving model to drive/My Drive/Resultado/weights_architecture_1.hdf5\n",
            "Epoch 30/50\n",
            " - 1s - loss: 0.6554 - acc: 0.5823 - val_loss: 0.6811 - val_acc: 0.6094\n",
            "\n",
            "Epoch 00030: val_loss did not improve from 0.57717\n",
            "Epoch 31/50\n",
            " - 1s - loss: 0.6927 - acc: 0.6302 - val_loss: 0.6926 - val_acc: 0.6094\n",
            "\n",
            "Epoch 00031: val_loss did not improve from 0.57717\n",
            "Epoch 32/50\n",
            " - 1s - loss: 0.6690 - acc: 0.6302 - val_loss: 0.7045 - val_acc: 0.6094\n",
            "\n",
            "Epoch 00032: val_loss did not improve from 0.57717\n",
            "Epoch 33/50\n",
            " - 1s - loss: 0.6683 - acc: 0.6458 - val_loss: 0.6339 - val_acc: 0.6719\n",
            "\n",
            "Epoch 00033: val_loss did not improve from 0.57717\n",
            "Epoch 34/50\n",
            " - 1s - loss: 0.7043 - acc: 0.5729 - val_loss: 0.6583 - val_acc: 0.6719\n",
            "\n",
            "Epoch 00034: val_loss did not improve from 0.57717\n",
            "Epoch 35/50\n",
            " - 1s - loss: 0.6794 - acc: 0.5938 - val_loss: 0.6608 - val_acc: 0.6719\n",
            "\n",
            "Epoch 00035: val_loss did not improve from 0.57717\n",
            "Epoch 36/50\n",
            " - 1s - loss: 0.6604 - acc: 0.6510 - val_loss: 0.6436 - val_acc: 0.6562\n",
            "\n",
            "Epoch 00036: val_loss did not improve from 0.57717\n",
            "Epoch 37/50\n",
            " - 1s - loss: 0.6576 - acc: 0.6354 - val_loss: 0.6871 - val_acc: 0.5625\n",
            "\n",
            "Epoch 00037: val_loss did not improve from 0.57717\n",
            "Epoch 38/50\n",
            " - 1s - loss: 0.6453 - acc: 0.6562 - val_loss: 0.6992 - val_acc: 0.5625\n",
            "\n",
            "Epoch 00038: val_loss did not improve from 0.57717\n",
            "Epoch 39/50\n",
            " - 1s - loss: 0.6801 - acc: 0.6094 - val_loss: 0.6775 - val_acc: 0.5938\n",
            "\n",
            "Epoch 00039: val_loss did not improve from 0.57717\n",
            "Epoch 40/50\n",
            " - 1s - loss: 0.6479 - acc: 0.6562 - val_loss: 0.5825 - val_acc: 0.7344\n",
            "\n",
            "Epoch 00040: val_loss did not improve from 0.57717\n",
            "Epoch 41/50\n",
            " - 1s - loss: 0.6574 - acc: 0.6458 - val_loss: 0.6693 - val_acc: 0.6094\n",
            "\n",
            "Epoch 00041: val_loss did not improve from 0.57717\n",
            "Epoch 42/50\n",
            " - 1s - loss: 0.6633 - acc: 0.6667 - val_loss: 0.7732 - val_acc: 0.5469\n",
            "\n",
            "Epoch 00042: val_loss did not improve from 0.57717\n",
            "Epoch 43/50\n",
            " - 1s - loss: 0.6974 - acc: 0.6198 - val_loss: 0.6565 - val_acc: 0.6406\n",
            "\n",
            "Epoch 00043: val_loss did not improve from 0.57717\n",
            "Epoch 44/50\n",
            " - 1s - loss: 0.6577 - acc: 0.6354 - val_loss: 0.6349 - val_acc: 0.6875\n",
            "\n",
            "Epoch 00044: val_loss did not improve from 0.57717\n",
            "Epoch 45/50\n",
            " - 1s - loss: 0.6903 - acc: 0.6198 - val_loss: 0.6838 - val_acc: 0.5781\n",
            "\n",
            "Epoch 00045: val_loss did not improve from 0.57717\n",
            "Epoch 46/50\n",
            " - 1s - loss: 0.6694 - acc: 0.6510 - val_loss: 0.6649 - val_acc: 0.6250\n",
            "\n",
            "Epoch 00046: val_loss did not improve from 0.57717\n",
            "Epoch 47/50\n",
            " - 1s - loss: 0.6652 - acc: 0.6250 - val_loss: 0.6442 - val_acc: 0.6562\n",
            "\n",
            "Epoch 00047: val_loss did not improve from 0.57717\n",
            "Epoch 48/50\n",
            " - 1s - loss: 0.6812 - acc: 0.5833 - val_loss: 0.6647 - val_acc: 0.6216\n",
            "\n",
            "Epoch 00048: val_loss did not improve from 0.57717\n",
            "Epoch 49/50\n",
            " - 1s - loss: 0.6894 - acc: 0.5625 - val_loss: 0.6891 - val_acc: 0.5781\n",
            "\n",
            "Epoch 00049: val_loss did not improve from 0.57717\n",
            "Epoch 50/50\n",
            " - 1s - loss: 0.6449 - acc: 0.6562 - val_loss: 0.6483 - val_acc: 0.7344\n",
            "\n",
            "Epoch 00050: val_loss did not improve from 0.57717\n"
          ],
          "name": "stdout"
        }
      ]
    },
    {
      "metadata": {
        "id": "c1LR04eV6AJ5",
        "colab_type": "code",
        "colab": {}
      },
      "cell_type": "code",
      "source": [
        "model.load_weights('drive/My Drive/Resultado/weights_architecture_1.hdf5')"
      ],
      "execution_count": 0,
      "outputs": []
    },
    {
      "metadata": {
        "id": "VeLCe59ltne5",
        "colab_type": "code",
        "outputId": "2db49db9-ed5e-4ed4-965c-aec764c708ab",
        "colab": {
          "base_uri": "https://localhost:8080/",
          "height": 380
        }
      },
      "cell_type": "code",
      "source": [
        "# plotar loss e accuracy para os datasets 'train' e 'test'\n",
        "plt.style.use(\"ggplot\")\n",
        "plt.figure()\n",
        "plt.plot(training.history['acc'], label='Accuracy')\n",
        "plt.plot(training.history['loss'], label='Loss')\n",
        "plt.xlabel('Epochs')\n",
        "plt.ylabel('Accuracy')\n",
        "plt.title(\"Training Loss and Accuracy\")\n",
        "plt.ylabel(\"Loss/Accuracy\")\n",
        "plt.legend()\n",
        "plt.savefig('drive/My Drive/Resultado/' + arquiteture + '.png', bbox_inches='tight')"
      ],
      "execution_count": 0,
      "outputs": [
        {
          "output_type": "display_data",
          "data": {
            "image/png": "[encoded data removed]",
            "text/plain": [
              "<matplotlib.figure.Figure at 0x7f359c3d1358>"
            ]
          },
          "metadata": {
            "tags": []
          }
        }
      ]
    },
    {
      "metadata": {
        "id": "CuxP4w361rkP",
        "colab_type": "code",
        "outputId": "dd1530df-881d-4881-d634-797aa228324c",
        "colab": {
          "base_uri": "https://localhost:8080/",
          "height": 74
        }
      },
      "cell_type": "code",
      "source": [
        "y_true, y_predict = ler_images_teste(arquiteture)"
      ],
      "execution_count": 0,
      "outputs": [
        {
          "output_type": "stream",
          "text": [
            "/usr/local/lib/python3.6/dist-packages/skimage/transform/_warps.py:84: UserWarning: The default mode, 'constant', will be changed to 'reflect' in skimage 0.15.\n",
            "  warn(\"The default mode, 'constant', will be changed to 'reflect' in \"\n"
          ],
          "name": "stderr"
        }
      ]
    },
    {
      "metadata": {
        "id": "Juqn8SXr0VvZ",
        "colab_type": "code",
        "outputId": "648894e7-4546-41e0-99e2-eef4ad1b5510",
        "colab": {
          "base_uri": "https://localhost:8080/",
          "height": 35
        }
      },
      "cell_type": "code",
      "source": [
        "results[arquiteture] = precision_score(y_true, y_predict, average='binary')\n",
        "print('Test Precision: {:.2f}%'\n",
        "      .format(100 * results[arquiteture]))"
      ],
      "execution_count": 0,
      "outputs": [
        {
          "output_type": "stream",
          "text": [
            "Test Precision: 19.64%\n"
          ],
          "name": "stdout"
        }
      ]
    },
    {
      "metadata": {
        "id": "71jZE6lXsmgW",
        "colab_type": "text"
      },
      "cell_type": "markdown",
      "source": [
        "\n",
        "\n",
        "---\n",
        "\n"
      ]
    },
    {
      "metadata": {
        "id": "T7nOK0TDr6Hc",
        "colab_type": "text"
      },
      "cell_type": "markdown",
      "source": [
        "### 2 tentativa Precision: 19.64%"
      ]
    },
    {
      "metadata": {
        "colab_type": "text",
        "id": "-DJtvxKNp9sb"
      },
      "cell_type": "markdown",
      "source": [
        "**Descrição**\n",
        "\n",
        "\n",
        "*   Modelo descrito no artigo \"Crowdsourcing for Chromosome Segmentation and Deep Classification\"\n",
        "*   Alteração nas duas ultimas camadas Dense\n",
        "\n",
        "\n",
        "\n"
      ]
    },
    {
      "metadata": {
        "colab_type": "code",
        "id": "2PSEo_Mzr8zK",
        "colab": {}
      },
      "cell_type": "code",
      "source": [
        "model = Sequential([\n",
        "    Conv2D(64, (3, 3), activation='relu', input_shape=(120, 120, 3)),\n",
        "    Conv2D(64, (3, 3), activation='relu'),\n",
        "    Dropout(0.2),\n",
        "    MaxPooling2D(pool_size=(2, 2)),\n",
        "   \n",
        "    Conv2D(32, (3, 3), activation='relu'),\n",
        "    Conv2D(32, (3, 3), activation='relu'),\n",
        "    Dropout(0.2),\n",
        "    MaxPooling2D(pool_size=(2, 2)),\n",
        "   \n",
        "    Conv2D(16, (3, 3), activation='relu'),\n",
        "    Conv2D(16, (3, 3), activation='relu'),\n",
        "    Dropout(0.2),\n",
        "    MaxPooling2D(pool_size=(2, 2)),\n",
        "   \n",
        "    Conv2D(8, (3, 3), activation='relu'),\n",
        "    Conv2D(8, (3, 3), activation='relu'),\n",
        "    Dropout(0.2),\n",
        "    MaxPooling2D(pool_size=(2, 2)),\n",
        "    \n",
        "    Flatten(),\n",
        "    Dense(512, activation='relu'),\n",
        "   \n",
        "    Dense(2, activation='softmax')\n",
        "]\n",
        ")"
      ],
      "execution_count": 0,
      "outputs": []
    },
    {
      "metadata": {
        "colab_type": "code",
        "id": "wTvCLywPr8zj",
        "colab": {}
      },
      "cell_type": "code",
      "source": [
        "model.compile(SGD(lr=0.01, momentum=0.0, decay=0.0, nesterov=False), \n",
        "              loss='categorical_crossentropy', metrics=['accuracy'])"
      ],
      "execution_count": 0,
      "outputs": []
    },
    {
      "metadata": {
        "colab_type": "code",
        "id": "B1aiec4IjnND",
        "colab": {}
      },
      "cell_type": "code",
      "source": [
        "arquiteture = 'architecture_2'"
      ],
      "execution_count": 0,
      "outputs": []
    },
    {
      "metadata": {
        "colab_type": "code",
        "id": "KF_vnzR7k8bw",
        "colab": {}
      },
      "cell_type": "code",
      "source": [
        "checkpointer = ModelCheckpoint(filepath='drive/My Drive/Resultado/weights_' + arquiteture + '.hdf5', verbose=1, save_best_only=True)"
      ],
      "execution_count": 0,
      "outputs": []
    },
    {
      "metadata": {
        "colab_type": "code",
        "id": "P5mNUnc52wDQ",
        "outputId": "4f99b6dd-227e-45b2-a3cb-f37928e17f2a",
        "colab": {
          "base_uri": "https://localhost:8080/",
          "height": 3710
        }
      },
      "cell_type": "code",
      "source": [
        "training = model.fit_generator(train_batches, steps_per_epoch=stepsPerEpoche, \n",
        "                   validation_data=validation_batches, validation_steps=validationSteps,\n",
        "                   epochs=50, verbose=2, callbacks=[checkpointer])"
      ],
      "execution_count": 0,
      "outputs": [
        {
          "output_type": "stream",
          "text": [
            "Epoch 1/50\n",
            " - 2s - loss: 0.6922 - acc: 0.5990 - val_loss: 0.6913 - val_acc: 0.5781\n",
            "\n",
            "Epoch 00001: val_loss improved from inf to 0.69133, saving model to drive/My Drive/Resultado/weights_architecture_2.hdf5\n",
            "Epoch 2/50\n",
            " - 1s - loss: 0.6865 - acc: 0.6719 - val_loss: 0.6834 - val_acc: 0.6719\n",
            "\n",
            "Epoch 00002: val_loss improved from 0.69133 to 0.68344, saving model to drive/My Drive/Resultado/weights_architecture_2.hdf5\n",
            "Epoch 3/50\n",
            " - 1s - loss: 0.6874 - acc: 0.5885 - val_loss: 0.6782 - val_acc: 0.7031\n",
            "\n",
            "Epoch 00003: val_loss improved from 0.68344 to 0.67820, saving model to drive/My Drive/Resultado/weights_architecture_2.hdf5\n",
            "Epoch 4/50\n",
            " - 1s - loss: 0.6830 - acc: 0.6198 - val_loss: 0.6788 - val_acc: 0.6562\n",
            "\n",
            "Epoch 00004: val_loss did not improve from 0.67820\n",
            "Epoch 5/50\n",
            " - 1s - loss: 0.6808 - acc: 0.6250 - val_loss: 0.6832 - val_acc: 0.5938\n",
            "\n",
            "Epoch 00005: val_loss did not improve from 0.67820\n",
            "Epoch 6/50\n",
            " - 1s - loss: 0.6738 - acc: 0.6562 - val_loss: 0.6750 - val_acc: 0.6406\n",
            "\n",
            "Epoch 00006: val_loss improved from 0.67820 to 0.67496, saving model to drive/My Drive/Resultado/weights_architecture_2.hdf5\n",
            "Epoch 7/50\n",
            " - 1s - loss: 0.6736 - acc: 0.6354 - val_loss: 0.6858 - val_acc: 0.5625\n",
            "\n",
            "Epoch 00007: val_loss did not improve from 0.67496\n",
            "Epoch 8/50\n",
            " - 1s - loss: 0.6747 - acc: 0.6182 - val_loss: 0.6910 - val_acc: 0.5312\n",
            "\n",
            "Epoch 00008: val_loss did not improve from 0.67496\n",
            "Epoch 9/50\n",
            " - 1s - loss: 0.6732 - acc: 0.6198 - val_loss: 0.6820 - val_acc: 0.5781\n",
            "\n",
            "Epoch 00009: val_loss did not improve from 0.67496\n",
            "Epoch 10/50\n",
            " - 1s - loss: 0.6682 - acc: 0.6354 - val_loss: 0.6740 - val_acc: 0.6094\n",
            "\n",
            "Epoch 00010: val_loss improved from 0.67496 to 0.67401, saving model to drive/My Drive/Resultado/weights_architecture_2.hdf5\n",
            "Epoch 11/50\n",
            " - 1s - loss: 0.6709 - acc: 0.6198 - val_loss: 0.6737 - val_acc: 0.6094\n",
            "\n",
            "Epoch 00011: val_loss improved from 0.67401 to 0.67366, saving model to drive/My Drive/Resultado/weights_architecture_2.hdf5\n",
            "Epoch 12/50\n",
            " - 1s - loss: 0.6622 - acc: 0.6458 - val_loss: 0.6392 - val_acc: 0.7344\n",
            "\n",
            "Epoch 00012: val_loss improved from 0.67366 to 0.63922, saving model to drive/My Drive/Resultado/weights_architecture_2.hdf5\n",
            "Epoch 13/50\n",
            " - 1s - loss: 0.6602 - acc: 0.6510 - val_loss: 0.6801 - val_acc: 0.5781\n",
            "\n",
            "Epoch 00013: val_loss did not improve from 0.63922\n",
            "Epoch 14/50\n",
            " - 1s - loss: 0.6709 - acc: 0.6094 - val_loss: 0.6715 - val_acc: 0.6094\n",
            "\n",
            "Epoch 00014: val_loss did not improve from 0.63922\n",
            "Epoch 15/50\n",
            " - 1s - loss: 0.6648 - acc: 0.6250 - val_loss: 0.6614 - val_acc: 0.6406\n",
            "\n",
            "Epoch 00015: val_loss did not improve from 0.63922\n",
            "Epoch 16/50\n",
            " - 1s - loss: 0.6711 - acc: 0.6042 - val_loss: 0.6658 - val_acc: 0.6250\n",
            "\n",
            "Epoch 00016: val_loss did not improve from 0.63922\n",
            "Epoch 17/50\n",
            " - 1s - loss: 0.6626 - acc: 0.6302 - val_loss: 0.6405 - val_acc: 0.7027\n",
            "\n",
            "Epoch 00017: val_loss did not improve from 0.63922\n",
            "Epoch 18/50\n",
            " - 1s - loss: 0.6626 - acc: 0.6250 - val_loss: 0.6794 - val_acc: 0.5781\n",
            "\n",
            "Epoch 00018: val_loss did not improve from 0.63922\n",
            "Epoch 19/50\n",
            " - 1s - loss: 0.6728 - acc: 0.5990 - val_loss: 0.6541 - val_acc: 0.6562\n",
            "\n",
            "Epoch 00019: val_loss did not improve from 0.63922\n",
            "Epoch 20/50\n",
            " - 1s - loss: 0.6607 - acc: 0.6302 - val_loss: 0.6310 - val_acc: 0.7188\n",
            "\n",
            "Epoch 00020: val_loss improved from 0.63922 to 0.63102, saving model to drive/My Drive/Resultado/weights_architecture_2.hdf5\n",
            "Epoch 21/50\n",
            " - 1s - loss: 0.6516 - acc: 0.6562 - val_loss: 0.6584 - val_acc: 0.6406\n",
            "\n",
            "Epoch 00021: val_loss did not improve from 0.63102\n",
            "Epoch 22/50\n",
            " - 1s - loss: 0.6552 - acc: 0.6406 - val_loss: 0.6393 - val_acc: 0.6875\n",
            "\n",
            "Epoch 00022: val_loss did not improve from 0.63102\n",
            "Epoch 23/50\n",
            " - 1s - loss: 0.6716 - acc: 0.5990 - val_loss: 0.7040 - val_acc: 0.5156\n",
            "\n",
            "Epoch 00023: val_loss did not improve from 0.63102\n",
            "Epoch 24/50\n",
            " - 1s - loss: 0.6602 - acc: 0.6250 - val_loss: 0.6676 - val_acc: 0.6094\n",
            "\n",
            "Epoch 00024: val_loss did not improve from 0.63102\n",
            "Epoch 25/50\n",
            " - 1s - loss: 0.6886 - acc: 0.5573 - val_loss: 0.6440 - val_acc: 0.6719\n",
            "\n",
            "Epoch 00025: val_loss did not improve from 0.63102\n",
            "Epoch 26/50\n",
            " - 1s - loss: 0.6616 - acc: 0.6250 - val_loss: 0.6217 - val_acc: 0.7344\n",
            "\n",
            "Epoch 00026: val_loss improved from 0.63102 to 0.62171, saving model to drive/My Drive/Resultado/weights_architecture_2.hdf5\n",
            "Epoch 27/50\n",
            " - 1s - loss: 0.6547 - acc: 0.6406 - val_loss: 0.6567 - val_acc: 0.6406\n",
            "\n",
            "Epoch 00027: val_loss did not improve from 0.62171\n",
            "Epoch 28/50\n",
            " - 1s - loss: 0.6400 - acc: 0.6719 - val_loss: 0.6416 - val_acc: 0.6719\n",
            "\n",
            "Epoch 00028: val_loss did not improve from 0.62171\n",
            "Epoch 29/50\n",
            " - 1s - loss: 0.6585 - acc: 0.6250 - val_loss: 0.6548 - val_acc: 0.6406\n",
            "\n",
            "Epoch 00029: val_loss did not improve from 0.62171\n",
            "Epoch 30/50\n",
            " - 1s - loss: 0.6614 - acc: 0.6198 - val_loss: 0.6466 - val_acc: 0.6562\n",
            "\n",
            "Epoch 00030: val_loss did not improve from 0.62171\n",
            "Epoch 31/50\n",
            " - 1s - loss: 0.6689 - acc: 0.6042 - val_loss: 0.6782 - val_acc: 0.5781\n",
            "\n",
            "Epoch 00031: val_loss did not improve from 0.62171\n",
            "Epoch 32/50\n",
            " - 1s - loss: 0.6645 - acc: 0.6094 - val_loss: 0.6530 - val_acc: 0.6406\n",
            "\n",
            "Epoch 00032: val_loss did not improve from 0.62171\n",
            "Epoch 33/50\n",
            " - 1s - loss: 0.6441 - acc: 0.6562 - val_loss: 0.6527 - val_acc: 0.6406\n",
            "\n",
            "Epoch 00033: val_loss did not improve from 0.62171\n",
            "Epoch 34/50\n",
            " - 1s - loss: 0.6458 - acc: 0.6510 - val_loss: 0.6647 - val_acc: 0.6094\n",
            "\n",
            "Epoch 00034: val_loss did not improve from 0.62171\n",
            "Epoch 35/50\n",
            " - 1s - loss: 0.6532 - acc: 0.6354 - val_loss: 0.6457 - val_acc: 0.6562\n",
            "\n",
            "Epoch 00035: val_loss did not improve from 0.62171\n",
            "Epoch 36/50\n",
            " - 1s - loss: 0.6591 - acc: 0.6198 - val_loss: 0.6589 - val_acc: 0.6250\n",
            "\n",
            "Epoch 00036: val_loss did not improve from 0.62171\n",
            "Epoch 37/50\n",
            " - 1s - loss: 0.6419 - acc: 0.6562 - val_loss: 0.6448 - val_acc: 0.6562\n",
            "\n",
            "Epoch 00037: val_loss did not improve from 0.62171\n",
            "Epoch 38/50\n",
            " - 1s - loss: 0.6440 - acc: 0.6532 - val_loss: 0.6586 - val_acc: 0.6250\n",
            "\n",
            "Epoch 00038: val_loss did not improve from 0.62171\n",
            "Epoch 39/50\n",
            " - 1s - loss: 0.6414 - acc: 0.6562 - val_loss: 0.6435 - val_acc: 0.6562\n",
            "\n",
            "Epoch 00039: val_loss did not improve from 0.62171\n",
            "Epoch 40/50\n",
            " - 1s - loss: 0.6391 - acc: 0.6615 - val_loss: 0.7244 - val_acc: 0.4844\n",
            "\n",
            "Epoch 00040: val_loss did not improve from 0.62171\n",
            "Epoch 41/50\n",
            " - 1s - loss: 0.6552 - acc: 0.6302 - val_loss: 0.6341 - val_acc: 0.6757\n",
            "\n",
            "Epoch 00041: val_loss did not improve from 0.62171\n",
            "Epoch 42/50\n",
            " - 1s - loss: 0.6112 - acc: 0.7083 - val_loss: 0.6588 - val_acc: 0.6250\n",
            "\n",
            "Epoch 00042: val_loss did not improve from 0.62171\n",
            "Epoch 43/50\n",
            " - 1s - loss: 0.6292 - acc: 0.6719 - val_loss: 0.6730 - val_acc: 0.5938\n",
            "\n",
            "Epoch 00043: val_loss did not improve from 0.62171\n",
            "Epoch 44/50\n",
            " - 1s - loss: 0.6570 - acc: 0.6250 - val_loss: 0.6572 - val_acc: 0.6250\n",
            "\n",
            "Epoch 00044: val_loss did not improve from 0.62171\n",
            "Epoch 45/50\n",
            " - 1s - loss: 0.6661 - acc: 0.6094 - val_loss: 0.7115 - val_acc: 0.5156\n",
            "\n",
            "Epoch 00045: val_loss did not improve from 0.62171\n",
            "Epoch 46/50\n",
            " - 1s - loss: 0.6599 - acc: 0.6198 - val_loss: 0.6634 - val_acc: 0.6094\n",
            "\n",
            "Epoch 00046: val_loss did not improve from 0.62171\n",
            "Epoch 47/50\n",
            " - 1s - loss: 0.6683 - acc: 0.6042 - val_loss: 0.6636 - val_acc: 0.6094\n",
            "\n",
            "Epoch 00047: val_loss did not improve from 0.62171\n",
            "Epoch 48/50\n",
            " - 1s - loss: 0.6942 - acc: 0.5469 - val_loss: 0.6528 - val_acc: 0.6406\n",
            "\n",
            "Epoch 00048: val_loss did not improve from 0.62171\n",
            "Epoch 49/50\n",
            " - 1s - loss: 0.6677 - acc: 0.6042 - val_loss: 0.6401 - val_acc: 0.6562\n",
            "\n",
            "Epoch 00049: val_loss did not improve from 0.62171\n",
            "Epoch 50/50\n",
            " - 1s - loss: 0.6659 - acc: 0.6042 - val_loss: 0.6863 - val_acc: 0.5625\n",
            "\n",
            "Epoch 00050: val_loss did not improve from 0.62171\n"
          ],
          "name": "stdout"
        }
      ]
    },
    {
      "metadata": {
        "colab_type": "code",
        "id": "37HQ427_jnNY",
        "outputId": "ea6c27c2-7641-4e93-8a37-c321487780ef",
        "colab": {
          "base_uri": "https://localhost:8080/",
          "height": 380
        }
      },
      "cell_type": "code",
      "source": [
        "# plotar loss e accuracy para os datasets 'train' e 'test'\n",
        "plt.style.use(\"ggplot\")\n",
        "plt.figure()\n",
        "plt.plot(training.history['acc'], label='Accuracy')\n",
        "plt.plot(training.history['loss'], label='Loss')\n",
        "plt.xlabel('Epochs')\n",
        "plt.ylabel('Accuracy')\n",
        "plt.title(\"Training Loss and Accuracy\")\n",
        "plt.ylabel(\"Loss/Accuracy\")\n",
        "plt.legend()\n",
        "plt.savefig('drive/My Drive/Resultado/' + arquiteture + '.png', bbox_inches='tight')"
      ],
      "execution_count": 0,
      "outputs": [
        {
          "output_type": "display_data",
          "data": {
            "image/png": "[encoded data removed]",
            "text/plain": [
              "<matplotlib.figure.Figure at 0x7f359fc044e0>"
            ]
          },
          "metadata": {
            "tags": []
          }
        }
      ]
    },
    {
      "metadata": {
        "colab_type": "code",
        "id": "bpfoCpyTjnNk",
        "outputId": "b2808ccd-a3cf-4c83-f562-17f7a3a23639",
        "colab": {
          "base_uri": "https://localhost:8080/",
          "height": 74
        }
      },
      "cell_type": "code",
      "source": [
        "y_true, y_predict = ler_images_teste(arquiteture)"
      ],
      "execution_count": 0,
      "outputs": [
        {
          "output_type": "stream",
          "text": [
            "/usr/local/lib/python3.6/dist-packages/skimage/transform/_warps.py:84: UserWarning: The default mode, 'constant', will be changed to 'reflect' in skimage 0.15.\n",
            "  warn(\"The default mode, 'constant', will be changed to 'reflect' in \"\n"
          ],
          "name": "stderr"
        }
      ]
    },
    {
      "metadata": {
        "colab_type": "code",
        "id": "37KhZdImjnNs",
        "outputId": "b20e6bc9-26b0-4507-e0f7-fbd27fd3bf6d",
        "colab": {
          "base_uri": "https://localhost:8080/",
          "height": 35
        }
      },
      "cell_type": "code",
      "source": [
        "results[arquiteture] = precision_score(y_true, y_predict, average='binary')\n",
        "print('Test Precision: {:.2f}%'\n",
        "      .format(100 * results[arquiteture]))"
      ],
      "execution_count": 0,
      "outputs": [
        {
          "output_type": "stream",
          "text": [
            "Test Precision: 19.64%\n"
          ],
          "name": "stdout"
        }
      ]
    },
    {
      "metadata": {
        "id": "r7RpE8wBe4JQ",
        "colab_type": "text"
      },
      "cell_type": "markdown",
      "source": [
        "### 3 tentativa Precision: 19.10%"
      ]
    },
    {
      "metadata": {
        "id": "vdP4Yo8OgB4B",
        "colab_type": "text"
      },
      "cell_type": "markdown",
      "source": [
        "Modelo criado pelo **Lucas Valentim**\n",
        "\n",
        "https://github.com/lucasvalentim/chromosome-recognizer/blob/master/chromosome_recognizer.ipynb"
      ]
    },
    {
      "metadata": {
        "id": "3nTNgnrCe33x",
        "colab_type": "code",
        "colab": {}
      },
      "cell_type": "code",
      "source": [
        "from keras.layers import Conv2D, MaxPooling2D, GlobalMaxPooling2D, BatchNormalization\n",
        "from keras.regularizers import l2\n",
        "\n",
        "model = Sequential()\n",
        "\n",
        "model.add(Conv2D(32, (3, 3), activation='relu', kernel_regularizer=l2(1e-4), \n",
        "                 input_shape=(None, None, 3)))\n",
        "model.add(BatchNormalization())\n",
        "model.add(Conv2D(32, (3, 3), activation='relu', kernel_regularizer=l2(1e-4)))\n",
        "model.add(BatchNormalization())\n",
        "model.add(MaxPooling2D((2, 2)))\n",
        "model.add(Dropout(0.25))\n",
        "\n",
        "model.add(Conv2D(64, (3, 3), activation='relu', kernel_regularizer=l2(1e-4)))\n",
        "model.add(BatchNormalization())\n",
        "model.add(Conv2D(64, (3, 3), activation='relu', kernel_regularizer=l2(1e-4)))\n",
        "model.add(BatchNormalization())\n",
        "model.add(MaxPooling2D((2, 2)))\n",
        "model.add(Dropout(0.25))\n",
        "\n",
        "model.add(Conv2D(128, (1,1), kernel_regularizer=l2(1e-4)))\n",
        "model.add(GlobalMaxPooling2D())\n",
        "\n",
        "model.add(Dense(256, activation='relu', kernel_regularizer=l2(1e-4)))\n",
        "model.add(Dropout(0.5))\n",
        "model.add(Dense(2, activation='sigmoid', kernel_regularizer=l2(1e-4)))"
      ],
      "execution_count": 0,
      "outputs": []
    },
    {
      "metadata": {
        "id": "g1okz4QbiBnE",
        "colab_type": "code",
        "colab": {}
      },
      "cell_type": "code",
      "source": [
        "model.compile(optimizer='adam', loss='binary_crossentropy', metrics=['accuracy'])"
      ],
      "execution_count": 0,
      "outputs": []
    },
    {
      "metadata": {
        "colab_type": "code",
        "id": "qGOLNR-RjvlL",
        "colab": {}
      },
      "cell_type": "code",
      "source": [
        "arquiteture = 'architecture_3'"
      ],
      "execution_count": 0,
      "outputs": []
    },
    {
      "metadata": {
        "colab_type": "code",
        "id": "Zd6E33WLk6B5",
        "colab": {}
      },
      "cell_type": "code",
      "source": [
        "checkpointer = ModelCheckpoint(filepath='drive/My Drive/Resultado/weights_' + arquiteture + '.hdf5', verbose=1, save_best_only=True)"
      ],
      "execution_count": 0,
      "outputs": []
    },
    {
      "metadata": {
        "colab_type": "code",
        "id": "57QCc4Rz3JmS",
        "outputId": "ac38956a-655e-4937-8dcd-865b1061ff5f",
        "colab": {
          "base_uri": "https://localhost:8080/",
          "height": 3710
        }
      },
      "cell_type": "code",
      "source": [
        "training = model.fit_generator(train_batches, steps_per_epoch=stepsPerEpoche, \n",
        "                   validation_data=validation_batches, validation_steps=validationSteps,\n",
        "                   epochs=50, verbose=2, callbacks=[checkpointer])"
      ],
      "execution_count": 0,
      "outputs": [
        {
          "output_type": "stream",
          "text": [
            "Epoch 1/50\n",
            " - 4s - loss: 2.2186 - acc: 0.5964 - val_loss: 0.6182 - val_acc: 0.7656\n",
            "\n",
            "Epoch 00001: val_loss improved from inf to 0.61823, saving model to drive/My Drive/Resultado/weights_architecture_3.hdf5\n",
            "Epoch 2/50\n",
            " - 1s - loss: 1.4348 - acc: 0.5833 - val_loss: 0.6454 - val_acc: 0.6328\n",
            "\n",
            "Epoch 00002: val_loss did not improve from 0.61823\n",
            "Epoch 3/50\n",
            " - 1s - loss: 0.9975 - acc: 0.6797 - val_loss: 0.6645 - val_acc: 0.5859\n",
            "\n",
            "Epoch 00003: val_loss did not improve from 0.61823\n",
            "Epoch 4/50\n",
            " - 1s - loss: 0.7507 - acc: 0.7109 - val_loss: 0.7850 - val_acc: 0.5000\n",
            "\n",
            "Epoch 00004: val_loss did not improve from 0.61823\n",
            "Epoch 5/50\n",
            " - 1s - loss: 0.7154 - acc: 0.6771 - val_loss: 0.7531 - val_acc: 0.4531\n",
            "\n",
            "Epoch 00005: val_loss did not improve from 0.61823\n",
            "Epoch 6/50\n",
            " - 1s - loss: 0.5523 - acc: 0.7917 - val_loss: 0.9201 - val_acc: 0.5000\n",
            "\n",
            "Epoch 00006: val_loss did not improve from 0.61823\n",
            "Epoch 7/50\n",
            " - 1s - loss: 0.5539 - acc: 0.7396 - val_loss: 0.6877 - val_acc: 0.6641\n",
            "\n",
            "Epoch 00007: val_loss did not improve from 0.61823\n",
            "Epoch 8/50\n",
            " - 1s - loss: 0.5199 - acc: 0.7943 - val_loss: 0.7216 - val_acc: 0.5312\n",
            "\n",
            "Epoch 00008: val_loss did not improve from 0.61823\n",
            "Epoch 9/50\n",
            " - 1s - loss: 0.4262 - acc: 0.7995 - val_loss: 0.5854 - val_acc: 0.7422\n",
            "\n",
            "Epoch 00009: val_loss improved from 0.61823 to 0.58539, saving model to drive/My Drive/Resultado/weights_architecture_3.hdf5\n",
            "Epoch 10/50\n",
            " - 1s - loss: 0.3863 - acc: 0.8490 - val_loss: 0.6351 - val_acc: 0.6892\n",
            "\n",
            "Epoch 00010: val_loss did not improve from 0.58539\n",
            "Epoch 11/50\n",
            " - 1s - loss: 0.4268 - acc: 0.8125 - val_loss: 0.5452 - val_acc: 0.7734\n",
            "\n",
            "Epoch 00011: val_loss improved from 0.58539 to 0.54519, saving model to drive/My Drive/Resultado/weights_architecture_3.hdf5\n",
            "Epoch 12/50\n",
            " - 1s - loss: 0.3737 - acc: 0.8646 - val_loss: 0.6469 - val_acc: 0.6875\n",
            "\n",
            "Epoch 00012: val_loss did not improve from 0.54519\n",
            "Epoch 13/50\n",
            " - 1s - loss: 0.4958 - acc: 0.8333 - val_loss: 0.5914 - val_acc: 0.7422\n",
            "\n",
            "Epoch 00013: val_loss did not improve from 0.54519\n",
            "Epoch 14/50\n",
            " - 1s - loss: 0.5118 - acc: 0.7969 - val_loss: 0.5760 - val_acc: 0.7812\n",
            "\n",
            "Epoch 00014: val_loss did not improve from 0.54519\n",
            "Epoch 15/50\n",
            " - 1s - loss: 0.3698 - acc: 0.8632 - val_loss: 0.6963 - val_acc: 0.6797\n",
            "\n",
            "Epoch 00015: val_loss did not improve from 0.54519\n",
            "Epoch 16/50\n",
            " - 1s - loss: 0.3804 - acc: 0.8594 - val_loss: 0.6165 - val_acc: 0.7891\n",
            "\n",
            "Epoch 00016: val_loss did not improve from 0.54519\n",
            "Epoch 17/50\n",
            " - 1s - loss: 0.4288 - acc: 0.8516 - val_loss: 0.5291 - val_acc: 0.7969\n",
            "\n",
            "Epoch 00017: val_loss improved from 0.54519 to 0.52907, saving model to drive/My Drive/Resultado/weights_architecture_3.hdf5\n",
            "Epoch 18/50\n",
            " - 1s - loss: 0.3771 - acc: 0.8490 - val_loss: 0.4708 - val_acc: 0.8125\n",
            "\n",
            "Epoch 00018: val_loss improved from 0.52907 to 0.47077, saving model to drive/My Drive/Resultado/weights_architecture_3.hdf5\n",
            "Epoch 19/50\n",
            " - 1s - loss: 0.3624 - acc: 0.8490 - val_loss: 0.5206 - val_acc: 0.7812\n",
            "\n",
            "Epoch 00019: val_loss did not improve from 0.47077\n",
            "Epoch 20/50\n",
            " - 1s - loss: 0.3948 - acc: 0.8516 - val_loss: 0.4401 - val_acc: 0.8125\n",
            "\n",
            "Epoch 00020: val_loss improved from 0.47077 to 0.44013, saving model to drive/My Drive/Resultado/weights_architecture_3.hdf5\n",
            "Epoch 21/50\n",
            " - 1s - loss: 0.4149 - acc: 0.8568 - val_loss: 0.4394 - val_acc: 0.8516\n",
            "\n",
            "Epoch 00021: val_loss improved from 0.44013 to 0.43943, saving model to drive/My Drive/Resultado/weights_architecture_3.hdf5\n",
            "Epoch 22/50\n",
            " - 1s - loss: 0.3672 - acc: 0.8802 - val_loss: 0.4165 - val_acc: 0.9062\n",
            "\n",
            "Epoch 00022: val_loss improved from 0.43943 to 0.41648, saving model to drive/My Drive/Resultado/weights_architecture_3.hdf5\n",
            "Epoch 23/50\n",
            " - 1s - loss: 0.3983 - acc: 0.8698 - val_loss: 0.5488 - val_acc: 0.7578\n",
            "\n",
            "Epoch 00023: val_loss did not improve from 0.41648\n",
            "Epoch 24/50\n",
            " - 1s - loss: 0.3695 - acc: 0.8568 - val_loss: 0.4312 - val_acc: 0.8828\n",
            "\n",
            "Epoch 00024: val_loss did not improve from 0.41648\n",
            "Epoch 25/50\n",
            " - 1s - loss: 0.3730 - acc: 0.8724 - val_loss: 0.5581 - val_acc: 0.8438\n",
            "\n",
            "Epoch 00025: val_loss did not improve from 0.41648\n",
            "Epoch 26/50\n",
            " - 1s - loss: 0.3247 - acc: 0.9062 - val_loss: 0.5762 - val_acc: 0.7734\n",
            "\n",
            "Epoch 00026: val_loss did not improve from 0.41648\n",
            "Epoch 27/50\n",
            " - 1s - loss: 0.3320 - acc: 0.8906 - val_loss: 0.4615 - val_acc: 0.8281\n",
            "\n",
            "Epoch 00027: val_loss did not improve from 0.41648\n",
            "Epoch 28/50\n",
            " - 1s - loss: 0.3122 - acc: 0.9036 - val_loss: 0.5983 - val_acc: 0.7109\n",
            "\n",
            "Epoch 00028: val_loss did not improve from 0.41648\n",
            "Epoch 29/50\n",
            " - 1s - loss: 0.3185 - acc: 0.8880 - val_loss: 0.5616 - val_acc: 0.7344\n",
            "\n",
            "Epoch 00029: val_loss did not improve from 0.41648\n",
            "Epoch 30/50\n",
            " - 1s - loss: 0.2645 - acc: 0.9115 - val_loss: 0.5786 - val_acc: 0.6719\n",
            "\n",
            "Epoch 00030: val_loss did not improve from 0.41648\n",
            "Epoch 31/50\n",
            " - 1s - loss: 0.2999 - acc: 0.8984 - val_loss: 0.4212 - val_acc: 0.8281\n",
            "\n",
            "Epoch 00031: val_loss did not improve from 0.41648\n",
            "Epoch 32/50\n",
            " - 1s - loss: 0.3042 - acc: 0.9036 - val_loss: 0.4748 - val_acc: 0.8438\n",
            "\n",
            "Epoch 00032: val_loss did not improve from 0.41648\n",
            "Epoch 33/50\n",
            " - 1s - loss: 0.4170 - acc: 0.8672 - val_loss: 0.6309 - val_acc: 0.6875\n",
            "\n",
            "Epoch 00033: val_loss did not improve from 0.41648\n",
            "Epoch 34/50\n",
            " - 1s - loss: 0.3706 - acc: 0.8776 - val_loss: 0.4565 - val_acc: 0.8108\n",
            "\n",
            "Epoch 00034: val_loss did not improve from 0.41648\n",
            "Epoch 35/50\n",
            " - 1s - loss: 0.3667 - acc: 0.8490 - val_loss: 0.4674 - val_acc: 0.8125\n",
            "\n",
            "Epoch 00035: val_loss did not improve from 0.41648\n",
            "Epoch 36/50\n",
            " - 1s - loss: 0.3267 - acc: 0.8958 - val_loss: 0.4999 - val_acc: 0.7656\n",
            "\n",
            "Epoch 00036: val_loss did not improve from 0.41648\n",
            "Epoch 37/50\n",
            " - 1s - loss: 0.3107 - acc: 0.9036 - val_loss: 0.4909 - val_acc: 0.7969\n",
            "\n",
            "Epoch 00037: val_loss did not improve from 0.41648\n",
            "Epoch 38/50\n",
            " - 1s - loss: 0.3069 - acc: 0.9062 - val_loss: 0.7460 - val_acc: 0.6094\n",
            "\n",
            "Epoch 00038: val_loss did not improve from 0.41648\n",
            "Epoch 39/50\n",
            " - 1s - loss: 0.3824 - acc: 0.8594 - val_loss: 0.5179 - val_acc: 0.7500\n",
            "\n",
            "Epoch 00039: val_loss did not improve from 0.41648\n",
            "Epoch 40/50\n",
            " - 1s - loss: 0.3373 - acc: 0.8854 - val_loss: 0.7127 - val_acc: 0.6328\n",
            "\n",
            "Epoch 00040: val_loss did not improve from 0.41648\n",
            "Epoch 41/50\n",
            " - 1s - loss: 0.3080 - acc: 0.8724 - val_loss: 0.6717 - val_acc: 0.6406\n",
            "\n",
            "Epoch 00041: val_loss did not improve from 0.41648\n",
            "Epoch 42/50\n",
            " - 1s - loss: 0.3574 - acc: 0.8620 - val_loss: 0.6942 - val_acc: 0.6641\n",
            "\n",
            "Epoch 00042: val_loss did not improve from 0.41648\n",
            "Epoch 43/50\n",
            " - 1s - loss: 0.3975 - acc: 0.8698 - val_loss: 0.3980 - val_acc: 0.8359\n",
            "\n",
            "Epoch 00043: val_loss improved from 0.41648 to 0.39798, saving model to drive/My Drive/Resultado/weights_architecture_3.hdf5\n",
            "Epoch 44/50\n",
            " - 1s - loss: 0.3604 - acc: 0.8776 - val_loss: 0.4594 - val_acc: 0.8203\n",
            "\n",
            "Epoch 00044: val_loss did not improve from 0.39798\n",
            "Epoch 45/50\n",
            " - 1s - loss: 0.3429 - acc: 0.8876 - val_loss: 0.4291 - val_acc: 0.7969\n",
            "\n",
            "Epoch 00045: val_loss did not improve from 0.39798\n",
            "Epoch 46/50\n",
            " - 1s - loss: 0.3349 - acc: 0.8854 - val_loss: 0.4477 - val_acc: 0.8047\n",
            "\n",
            "Epoch 00046: val_loss did not improve from 0.39798\n",
            "Epoch 47/50\n",
            " - 1s - loss: 0.3577 - acc: 0.8776 - val_loss: 0.4567 - val_acc: 0.7734\n",
            "\n",
            "Epoch 00047: val_loss did not improve from 0.39798\n",
            "Epoch 48/50\n",
            " - 1s - loss: 0.2741 - acc: 0.9010 - val_loss: 0.6440 - val_acc: 0.7188\n",
            "\n",
            "Epoch 00048: val_loss did not improve from 0.39798\n",
            "Epoch 49/50\n",
            " - 1s - loss: 0.3782 - acc: 0.8750 - val_loss: 0.4561 - val_acc: 0.7656\n",
            "\n",
            "Epoch 00049: val_loss did not improve from 0.39798\n",
            "Epoch 50/50\n",
            " - 1s - loss: 0.3704 - acc: 0.8359 - val_loss: 0.6569 - val_acc: 0.6875\n",
            "\n",
            "Epoch 00050: val_loss did not improve from 0.39798\n"
          ],
          "name": "stdout"
        }
      ]
    },
    {
      "metadata": {
        "colab_type": "code",
        "id": "UbMAcdw1jvlY",
        "outputId": "c58cd21f-6a6e-483e-b880-50b622f07e5d",
        "colab": {
          "base_uri": "https://localhost:8080/",
          "height": 380
        }
      },
      "cell_type": "code",
      "source": [
        "# plotar loss e accuracy para os datasets 'train' e 'test'\n",
        "plt.style.use(\"ggplot\")\n",
        "plt.figure()\n",
        "plt.plot(training.history['acc'], label='Accuracy')\n",
        "plt.plot(training.history['loss'], label='Loss')\n",
        "plt.xlabel('Epochs')\n",
        "plt.ylabel('Accuracy')\n",
        "plt.title(\"Training Loss and Accuracy\")\n",
        "plt.ylabel(\"Loss/Accuracy\")\n",
        "plt.legend()\n",
        "plt.savefig('drive/My Drive/Resultado/' + arquiteture + '.png', bbox_inches='tight')"
      ],
      "execution_count": 0,
      "outputs": [
        {
          "output_type": "display_data",
          "data": {
            "image/png": "[encoded data removed]",
            "text/plain": [
              "<matplotlib.figure.Figure at 0x7f359ba9da20>"
            ]
          },
          "metadata": {
            "tags": []
          }
        }
      ]
    },
    {
      "metadata": {
        "colab_type": "code",
        "id": "JZXZyAjrjvli",
        "outputId": "31f7d967-e2e3-4308-c3e2-63399ad50fb7",
        "colab": {
          "base_uri": "https://localhost:8080/",
          "height": 74
        }
      },
      "cell_type": "code",
      "source": [
        "y_true, y_predict = ler_images_teste(arquiteture)"
      ],
      "execution_count": 0,
      "outputs": [
        {
          "output_type": "stream",
          "text": [
            "/usr/local/lib/python3.6/dist-packages/skimage/transform/_warps.py:84: UserWarning: The default mode, 'constant', will be changed to 'reflect' in skimage 0.15.\n",
            "  warn(\"The default mode, 'constant', will be changed to 'reflect' in \"\n"
          ],
          "name": "stderr"
        }
      ]
    },
    {
      "metadata": {
        "colab_type": "code",
        "id": "rRqF6tcYjvlm",
        "outputId": "2925f34e-0bc4-405d-e035-67bc2d8f06f9",
        "colab": {
          "base_uri": "https://localhost:8080/",
          "height": 35
        }
      },
      "cell_type": "code",
      "source": [
        "results[arquiteture] = precision_score(y_true, y_predict, average='binary')\n",
        "print('Test Precision: {:.2f}%'\n",
        "      .format(100 * results[arquiteture]))"
      ],
      "execution_count": 0,
      "outputs": [
        {
          "output_type": "stream",
          "text": [
            "Test Precision: 19.10%\n"
          ],
          "name": "stdout"
        }
      ]
    },
    {
      "metadata": {
        "id": "jkrlEFjlw030",
        "colab_type": "text"
      },
      "cell_type": "markdown",
      "source": [
        "### 4 tentativa Precision: 19.65%"
      ]
    },
    {
      "metadata": {
        "id": "UJ7JELAiw2kb",
        "colab_type": "text"
      },
      "cell_type": "markdown",
      "source": [
        "Modelo adaptado do **Lucas Albertins**\n",
        "\n",
        "*   Sem os **dropout**\n"
      ]
    },
    {
      "metadata": {
        "colab_type": "code",
        "id": "4N0B_5a2xB3T",
        "colab": {}
      },
      "cell_type": "code",
      "source": [
        "from keras.layers import Conv2D, MaxPooling2D, GlobalMaxPooling2D, BatchNormalization\n",
        "from keras.regularizers import l2\n",
        "\n",
        "model = Sequential()\n",
        "\n",
        "model.add(Conv2D(32, (3, 3), activation='relu', kernel_regularizer=l2(1e-4), \n",
        "                 input_shape=(None, None, 3)))\n",
        "model.add(BatchNormalization())\n",
        "model.add(Conv2D(32, (3, 3), activation='relu', kernel_regularizer=l2(1e-4)))\n",
        "model.add(BatchNormalization())\n",
        "model.add(MaxPooling2D((2, 2)))\n",
        "\n",
        "model.add(Conv2D(64, (3, 3), activation='relu', kernel_regularizer=l2(1e-4)))\n",
        "model.add(BatchNormalization())\n",
        "model.add(Conv2D(64, (3, 3), activation='relu', kernel_regularizer=l2(1e-4)))\n",
        "model.add(BatchNormalization())\n",
        "model.add(MaxPooling2D((2, 2)))\n",
        "\n",
        "model.add(Conv2D(128, (1,1), kernel_regularizer=l2(1e-4)))\n",
        "model.add(GlobalMaxPooling2D())\n",
        "\n",
        "model.add(Dense(256, activation='relu', kernel_regularizer=l2(1e-4)))\n",
        "model.add(BatchNormalization())\n",
        "model.add(Dense(2, activation='sigmoid', kernel_regularizer=l2(1e-4)))"
      ],
      "execution_count": 0,
      "outputs": []
    },
    {
      "metadata": {
        "colab_type": "code",
        "id": "V9VHjygmxB3k",
        "colab": {}
      },
      "cell_type": "code",
      "source": [
        "model.compile(optimizer='adam', loss='binary_crossentropy', metrics=['accuracy'])"
      ],
      "execution_count": 0,
      "outputs": []
    },
    {
      "metadata": {
        "colab_type": "code",
        "id": "VMLmVlASj26i",
        "colab": {}
      },
      "cell_type": "code",
      "source": [
        "arquiteture = 'architecture_4'"
      ],
      "execution_count": 0,
      "outputs": []
    },
    {
      "metadata": {
        "colab_type": "code",
        "id": "dZRIAn0Bk37B",
        "colab": {}
      },
      "cell_type": "code",
      "source": [
        "checkpointer = ModelCheckpoint(filepath='drive/My Drive/Resultado/weights_' + arquiteture + '.hdf5', verbose=1, save_best_only=True)"
      ],
      "execution_count": 0,
      "outputs": []
    },
    {
      "metadata": {
        "colab_type": "code",
        "id": "gE1pEJNR4RmV",
        "outputId": "4fc953fe-c661-449b-80c5-9c322a43d23d",
        "colab": {
          "base_uri": "https://localhost:8080/",
          "height": 3710
        }
      },
      "cell_type": "code",
      "source": [
        "training = model.fit_generator(train_batches, steps_per_epoch=stepsPerEpoche, \n",
        "                   validation_data=validation_batches, validation_steps=validationSteps,\n",
        "                   epochs=50, verbose=2, callbacks=[checkpointer])"
      ],
      "execution_count": 0,
      "outputs": [
        {
          "output_type": "stream",
          "text": [
            "Epoch 1/50\n",
            " - 3s - loss: 0.5060 - acc: 0.7786 - val_loss: 1.1585 - val_acc: 0.5781\n",
            "\n",
            "Epoch 00001: val_loss improved from inf to 1.15849, saving model to drive/My Drive/Resultado/weights_architecture_4.hdf5\n",
            "Epoch 2/50\n",
            " - 1s - loss: 0.4034 - acc: 0.8776 - val_loss: 0.9871 - val_acc: 0.5234\n",
            "\n",
            "Epoch 00002: val_loss improved from 1.15849 to 0.98715, saving model to drive/My Drive/Resultado/weights_architecture_4.hdf5\n",
            "Epoch 3/50\n",
            " - 1s - loss: 0.4055 - acc: 0.8698 - val_loss: 0.3995 - val_acc: 0.8514\n",
            "\n",
            "Epoch 00003: val_loss improved from 0.98715 to 0.39953, saving model to drive/My Drive/Resultado/weights_architecture_4.hdf5\n",
            "Epoch 4/50\n",
            " - 1s - loss: 0.2471 - acc: 0.9505 - val_loss: 0.4220 - val_acc: 0.8672\n",
            "\n",
            "Epoch 00004: val_loss did not improve from 0.39953\n",
            "Epoch 5/50\n",
            " - 1s - loss: 0.3744 - acc: 0.9010 - val_loss: 0.9067 - val_acc: 0.7266\n",
            "\n",
            "Epoch 00005: val_loss did not improve from 0.39953\n",
            "Epoch 6/50\n",
            " - 1s - loss: 0.3889 - acc: 0.8516 - val_loss: 0.3755 - val_acc: 0.8594\n",
            "\n",
            "Epoch 00006: val_loss improved from 0.39953 to 0.37549, saving model to drive/My Drive/Resultado/weights_architecture_4.hdf5\n",
            "Epoch 7/50\n",
            " - 1s - loss: 0.3368 - acc: 0.8984 - val_loss: 0.5196 - val_acc: 0.7891\n",
            "\n",
            "Epoch 00007: val_loss did not improve from 0.37549\n",
            "Epoch 8/50\n",
            " - 1s - loss: 0.3455 - acc: 0.8802 - val_loss: 0.4235 - val_acc: 0.8438\n",
            "\n",
            "Epoch 00008: val_loss did not improve from 0.37549\n",
            "Epoch 9/50\n",
            " - 1s - loss: 0.3337 - acc: 0.9219 - val_loss: 0.3267 - val_acc: 0.8750\n",
            "\n",
            "Epoch 00009: val_loss improved from 0.37549 to 0.32667, saving model to drive/My Drive/Resultado/weights_architecture_4.hdf5\n",
            "Epoch 10/50\n",
            " - 1s - loss: 0.3460 - acc: 0.8932 - val_loss: 0.4036 - val_acc: 0.9219\n",
            "\n",
            "Epoch 00010: val_loss did not improve from 0.32667\n",
            "Epoch 11/50\n",
            " - 1s - loss: 0.3410 - acc: 0.8906 - val_loss: 0.5397 - val_acc: 0.8516\n",
            "\n",
            "Epoch 00011: val_loss did not improve from 0.32667\n",
            "Epoch 12/50\n",
            " - 1s - loss: 0.3500 - acc: 0.8828 - val_loss: 0.9017 - val_acc: 0.7500\n",
            "\n",
            "Epoch 00012: val_loss did not improve from 0.32667\n",
            "Epoch 13/50\n",
            " - 1s - loss: 0.3597 - acc: 0.8802 - val_loss: 0.6522 - val_acc: 0.7188\n",
            "\n",
            "Epoch 00013: val_loss did not improve from 0.32667\n",
            "Epoch 14/50\n",
            " - 1s - loss: 0.2577 - acc: 0.9271 - val_loss: 0.7549 - val_acc: 0.7969\n",
            "\n",
            "Epoch 00014: val_loss did not improve from 0.32667\n",
            "Epoch 15/50\n",
            " - 1s - loss: 0.3553 - acc: 0.9036 - val_loss: 0.7571 - val_acc: 0.8516\n",
            "\n",
            "Epoch 00015: val_loss did not improve from 0.32667\n",
            "Epoch 16/50\n",
            " - 1s - loss: 0.2666 - acc: 0.9245 - val_loss: 0.4143 - val_acc: 0.8203\n",
            "\n",
            "Epoch 00016: val_loss did not improve from 0.32667\n",
            "Epoch 17/50\n",
            " - 1s - loss: 0.2985 - acc: 0.8880 - val_loss: 0.5188 - val_acc: 0.8516\n",
            "\n",
            "Epoch 00017: val_loss did not improve from 0.32667\n",
            "Epoch 18/50\n",
            " - 1s - loss: 0.2392 - acc: 0.9271 - val_loss: 0.4939 - val_acc: 0.8672\n",
            "\n",
            "Epoch 00018: val_loss did not improve from 0.32667\n",
            "Epoch 19/50\n",
            " - 1s - loss: 0.3355 - acc: 0.8672 - val_loss: 0.2476 - val_acc: 0.9062\n",
            "\n",
            "Epoch 00019: val_loss improved from 0.32667 to 0.24757, saving model to drive/My Drive/Resultado/weights_architecture_4.hdf5\n",
            "Epoch 20/50\n",
            " - 1s - loss: 0.2977 - acc: 0.8750 - val_loss: 0.3920 - val_acc: 0.8516\n",
            "\n",
            "Epoch 00020: val_loss did not improve from 0.24757\n",
            "Epoch 21/50\n",
            " - 1s - loss: 0.2558 - acc: 0.9167 - val_loss: 0.3982 - val_acc: 0.8125\n",
            "\n",
            "Epoch 00021: val_loss did not improve from 0.24757\n",
            "Epoch 22/50\n",
            " - 1s - loss: 0.2551 - acc: 0.9271 - val_loss: 0.2049 - val_acc: 0.9531\n",
            "\n",
            "Epoch 00022: val_loss improved from 0.24757 to 0.20488, saving model to drive/My Drive/Resultado/weights_architecture_4.hdf5\n",
            "Epoch 23/50\n",
            " - 1s - loss: 0.2959 - acc: 0.9115 - val_loss: 0.7543 - val_acc: 0.7422\n",
            "\n",
            "Epoch 00023: val_loss did not improve from 0.20488\n",
            "Epoch 24/50\n",
            " - 1s - loss: 0.2441 - acc: 0.9385 - val_loss: 0.5772 - val_acc: 0.7812\n",
            "\n",
            "Epoch 00024: val_loss did not improve from 0.20488\n",
            "Epoch 25/50\n",
            " - 1s - loss: 0.2599 - acc: 0.9167 - val_loss: 0.2648 - val_acc: 0.9375\n",
            "\n",
            "Epoch 00025: val_loss did not improve from 0.20488\n",
            "Epoch 26/50\n",
            " - 1s - loss: 0.2553 - acc: 0.9062 - val_loss: 0.8679 - val_acc: 0.7656\n",
            "\n",
            "Epoch 00026: val_loss did not improve from 0.20488\n",
            "Epoch 27/50\n",
            " - 1s - loss: 0.2694 - acc: 0.9115 - val_loss: 1.1953 - val_acc: 0.5811\n",
            "\n",
            "Epoch 00027: val_loss did not improve from 0.20488\n",
            "Epoch 28/50\n",
            " - 1s - loss: 0.3153 - acc: 0.8984 - val_loss: 0.4217 - val_acc: 0.7969\n",
            "\n",
            "Epoch 00028: val_loss did not improve from 0.20488\n",
            "Epoch 29/50\n",
            " - 1s - loss: 0.2859 - acc: 0.9219 - val_loss: 0.4223 - val_acc: 0.8359\n",
            "\n",
            "Epoch 00029: val_loss did not improve from 0.20488\n",
            "Epoch 30/50\n",
            " - 1s - loss: 0.2620 - acc: 0.9115 - val_loss: 0.3456 - val_acc: 0.8984\n",
            "\n",
            "Epoch 00030: val_loss did not improve from 0.20488\n",
            "Epoch 31/50\n",
            " - 1s - loss: 0.2883 - acc: 0.8958 - val_loss: 0.2465 - val_acc: 0.9297\n",
            "\n",
            "Epoch 00031: val_loss did not improve from 0.20488\n",
            "Epoch 32/50\n",
            " - 1s - loss: 0.2114 - acc: 0.9427 - val_loss: 0.5070 - val_acc: 0.8906\n",
            "\n",
            "Epoch 00032: val_loss did not improve from 0.20488\n",
            "Epoch 33/50\n",
            " - 1s - loss: 0.2716 - acc: 0.9036 - val_loss: 0.8359 - val_acc: 0.7891\n",
            "\n",
            "Epoch 00033: val_loss did not improve from 0.20488\n",
            "Epoch 34/50\n",
            " - 1s - loss: 0.2201 - acc: 0.9375 - val_loss: 0.5852 - val_acc: 0.7812\n",
            "\n",
            "Epoch 00034: val_loss did not improve from 0.20488\n",
            "Epoch 35/50\n",
            " - 1s - loss: 0.1961 - acc: 0.9792 - val_loss: 0.7359 - val_acc: 0.7734\n",
            "\n",
            "Epoch 00035: val_loss did not improve from 0.20488\n",
            "Epoch 36/50\n",
            " - 1s - loss: 0.2823 - acc: 0.9062 - val_loss: 1.4181 - val_acc: 0.6172\n",
            "\n",
            "Epoch 00036: val_loss did not improve from 0.20488\n",
            "Epoch 37/50\n",
            " - 1s - loss: 0.2428 - acc: 0.9271 - val_loss: 1.1335 - val_acc: 0.5859\n",
            "\n",
            "Epoch 00037: val_loss did not improve from 0.20488\n",
            "Epoch 38/50\n",
            " - 1s - loss: 0.2819 - acc: 0.9193 - val_loss: 0.6286 - val_acc: 0.7656\n",
            "\n",
            "Epoch 00038: val_loss did not improve from 0.20488\n",
            "Epoch 39/50\n",
            " - 1s - loss: 0.2571 - acc: 0.9089 - val_loss: 0.3371 - val_acc: 0.8906\n",
            "\n",
            "Epoch 00039: val_loss did not improve from 0.20488\n",
            "Epoch 40/50\n",
            " - 1s - loss: 0.2465 - acc: 0.9115 - val_loss: 0.2348 - val_acc: 0.9375\n",
            "\n",
            "Epoch 00040: val_loss did not improve from 0.20488\n",
            "Epoch 41/50\n",
            " - 1s - loss: 0.2337 - acc: 0.9219 - val_loss: 1.0594 - val_acc: 0.6641\n",
            "\n",
            "Epoch 00041: val_loss did not improve from 0.20488\n",
            "Epoch 42/50\n",
            " - 1s - loss: 0.2788 - acc: 0.9193 - val_loss: 1.1730 - val_acc: 0.7500\n",
            "\n",
            "Epoch 00042: val_loss did not improve from 0.20488\n",
            "Epoch 43/50\n",
            " - 1s - loss: 0.3212 - acc: 0.9167 - val_loss: 0.4699 - val_acc: 0.8203\n",
            "\n",
            "Epoch 00043: val_loss did not improve from 0.20488\n",
            "Epoch 44/50\n",
            " - 1s - loss: 0.2339 - acc: 0.9323 - val_loss: 1.3851 - val_acc: 0.6250\n",
            "\n",
            "Epoch 00044: val_loss did not improve from 0.20488\n",
            "Epoch 45/50\n",
            " - 1s - loss: 0.2904 - acc: 0.8828 - val_loss: 0.5758 - val_acc: 0.7500\n",
            "\n",
            "Epoch 00045: val_loss did not improve from 0.20488\n",
            "Epoch 46/50\n",
            " - 1s - loss: 0.2706 - acc: 0.9062 - val_loss: 0.2891 - val_acc: 0.8984\n",
            "\n",
            "Epoch 00046: val_loss did not improve from 0.20488\n",
            "Epoch 47/50\n",
            " - 1s - loss: 0.3557 - acc: 0.9010 - val_loss: 0.3718 - val_acc: 0.8828\n",
            "\n",
            "Epoch 00047: val_loss did not improve from 0.20488\n",
            "Epoch 48/50\n",
            " - 1s - loss: 0.2753 - acc: 0.9089 - val_loss: 0.3125 - val_acc: 0.8984\n",
            "\n",
            "Epoch 00048: val_loss did not improve from 0.20488\n",
            "Epoch 49/50\n",
            " - 1s - loss: 0.2667 - acc: 0.9089 - val_loss: 0.4056 - val_acc: 0.8906\n",
            "\n",
            "Epoch 00049: val_loss did not improve from 0.20488\n",
            "Epoch 50/50\n",
            " - 1s - loss: 0.3274 - acc: 0.8958 - val_loss: 0.7682 - val_acc: 0.7344\n",
            "\n",
            "Epoch 00050: val_loss did not improve from 0.20488\n"
          ],
          "name": "stdout"
        }
      ]
    },
    {
      "metadata": {
        "colab_type": "code",
        "id": "J32DdUl5j261",
        "outputId": "75c29532-38bf-4153-d461-a1c159c2885c",
        "colab": {
          "base_uri": "https://localhost:8080/",
          "height": 380
        }
      },
      "cell_type": "code",
      "source": [
        "# plotar loss e accuracy para os datasets 'train' e 'test'\n",
        "plt.style.use(\"ggplot\")\n",
        "plt.figure()\n",
        "plt.plot(training.history['acc'], label='Accuracy')\n",
        "plt.plot(training.history['loss'], label='Loss')\n",
        "plt.xlabel('Epochs')\n",
        "plt.ylabel('Accuracy')\n",
        "plt.title(\"Training Loss and Accuracy\")\n",
        "plt.ylabel(\"Loss/Accuracy\")\n",
        "plt.legend()\n",
        "plt.savefig('drive/My Drive/Resultado/' + arquiteture + '.png', bbox_inches='tight')"
      ],
      "execution_count": 0,
      "outputs": [
        {
          "output_type": "display_data",
          "data": {
            "image/png": "[encoded data removed]",
            "text/plain": [
              "<matplotlib.figure.Figure at 0x7f359b88dac8>"
            ]
          },
          "metadata": {
            "tags": []
          }
        }
      ]
    },
    {
      "metadata": {
        "colab_type": "code",
        "id": "w0epZConj269",
        "outputId": "f8bc0707-0de9-4359-9810-bee0c31f7b77",
        "colab": {
          "base_uri": "https://localhost:8080/",
          "height": 74
        }
      },
      "cell_type": "code",
      "source": [
        "y_true, y_predict = ler_images_teste(arquiteture)"
      ],
      "execution_count": 0,
      "outputs": [
        {
          "output_type": "stream",
          "text": [
            "/usr/local/lib/python3.6/dist-packages/skimage/transform/_warps.py:84: UserWarning: The default mode, 'constant', will be changed to 'reflect' in skimage 0.15.\n",
            "  warn(\"The default mode, 'constant', will be changed to 'reflect' in \"\n"
          ],
          "name": "stderr"
        }
      ]
    },
    {
      "metadata": {
        "colab_type": "code",
        "id": "raSeJjACj27G",
        "outputId": "97717b1b-b950-4d90-8e36-ebade317a388",
        "colab": {
          "base_uri": "https://localhost:8080/",
          "height": 35
        }
      },
      "cell_type": "code",
      "source": [
        "results[arquiteture] = precision_score(y_true, y_predict, average='binary')\n",
        "print('Test Precision: {:.2f}%'\n",
        "      .format(100 * results[arquiteture]))"
      ],
      "execution_count": 0,
      "outputs": [
        {
          "output_type": "stream",
          "text": [
            "Test Precision: 19.65%\n"
          ],
          "name": "stdout"
        }
      ]
    },
    {
      "metadata": {
        "id": "lX3WANMgB1Ew",
        "colab_type": "text"
      },
      "cell_type": "markdown",
      "source": [
        "### 5 tentativa Precision: 19.63%"
      ]
    },
    {
      "metadata": {
        "colab_type": "text",
        "id": "dqed1VQh6WXg"
      },
      "cell_type": "markdown",
      "source": [
        "Modelo adaptado do **Lucas Albertins**\n",
        "\n",
        "*   Sem os **dropout**\n",
        "*   Função **SGD** para compilação\n"
      ]
    },
    {
      "metadata": {
        "colab_type": "code",
        "id": "z9mlUa4mB-ER",
        "colab": {}
      },
      "cell_type": "code",
      "source": [
        "from keras.layers import Conv2D, MaxPooling2D, GlobalMaxPooling2D, BatchNormalization\n",
        "from keras.regularizers import l2\n",
        "\n",
        "model = Sequential()\n",
        "\n",
        "model.add(Conv2D(32, (3, 3), activation='relu', kernel_regularizer=l2(1e-4), \n",
        "                 input_shape=(None, None, 3)))\n",
        "model.add(BatchNormalization())\n",
        "model.add(Conv2D(32, (3, 3), activation='relu', kernel_regularizer=l2(1e-4)))\n",
        "model.add(BatchNormalization())\n",
        "model.add(MaxPooling2D((2, 2)))\n",
        "model.add(Dropout(0.25))\n",
        "\n",
        "model.add(Conv2D(64, (3, 3), activation='relu', kernel_regularizer=l2(1e-4)))\n",
        "model.add(BatchNormalization())\n",
        "model.add(Conv2D(64, (3, 3), activation='relu', kernel_regularizer=l2(1e-4)))\n",
        "model.add(BatchNormalization())\n",
        "model.add(MaxPooling2D((2, 2)))\n",
        "model.add(Dropout(0.25))\n",
        "\n",
        "model.add(Conv2D(128, (1,1), kernel_regularizer=l2(1e-4)))\n",
        "model.add(GlobalMaxPooling2D())\n",
        "\n",
        "model.add(Dense(256, activation='relu', kernel_regularizer=l2(1e-4)))\n",
        "model.add(Dropout(0.5))\n",
        "model.add(Dense(2, activation='sigmoid', kernel_regularizer=l2(1e-4)))"
      ],
      "execution_count": 0,
      "outputs": []
    },
    {
      "metadata": {
        "id": "ukvJwM-lCHtB",
        "colab_type": "code",
        "colab": {}
      },
      "cell_type": "code",
      "source": [
        "model.compile(SGD(lr=0.01, momentum=0.0, decay=0.0, nesterov=False), \n",
        "              loss='binary_crossentropy', metrics=['accuracy'])"
      ],
      "execution_count": 0,
      "outputs": []
    },
    {
      "metadata": {
        "colab_type": "code",
        "id": "HA_KKMyaj6-L",
        "colab": {}
      },
      "cell_type": "code",
      "source": [
        "arquiteture = 'architecture_5'"
      ],
      "execution_count": 0,
      "outputs": []
    },
    {
      "metadata": {
        "colab_type": "code",
        "id": "eWpMObq1k1cL",
        "colab": {}
      },
      "cell_type": "code",
      "source": [
        "checkpointer = ModelCheckpoint(filepath='drive/My Drive/Resultado/weights_' + arquiteture + '.hdf5', verbose=1, save_best_only=True)"
      ],
      "execution_count": 0,
      "outputs": []
    },
    {
      "metadata": {
        "colab_type": "code",
        "id": "06GSgiIj4gfo",
        "outputId": "3ac12a25-bb8b-4ba6-e0f8-9d09cf485cc9",
        "colab": {
          "base_uri": "https://localhost:8080/",
          "height": 3710
        }
      },
      "cell_type": "code",
      "source": [
        "training = model.fit_generator(train_batches, steps_per_epoch=stepsPerEpoche, \n",
        "                   validation_data=validation_batches, validation_steps=validationSteps,\n",
        "                   epochs=50, verbose=2, callbacks=[checkpointer])"
      ],
      "execution_count": 0,
      "outputs": [
        {
          "output_type": "stream",
          "text": [
            "Epoch 1/50\n",
            " - 3s - loss: 2.5658 - acc: 0.5052 - val_loss: 0.9890 - val_acc: 0.4688\n",
            "\n",
            "Epoch 00001: val_loss improved from inf to 0.98903, saving model to drive/My Drive/Resultado/weights_architecture_5.hdf5\n",
            "Epoch 2/50\n",
            " - 1s - loss: 1.2655 - acc: 0.5651 - val_loss: 0.6795 - val_acc: 0.5938\n",
            "\n",
            "Epoch 00002: val_loss improved from 0.98903 to 0.67954, saving model to drive/My Drive/Resultado/weights_architecture_5.hdf5\n",
            "Epoch 3/50\n",
            " - 1s - loss: 1.1245 - acc: 0.5885 - val_loss: 0.6007 - val_acc: 0.7109\n",
            "\n",
            "Epoch 00003: val_loss improved from 0.67954 to 0.60067, saving model to drive/My Drive/Resultado/weights_architecture_5.hdf5\n",
            "Epoch 4/50\n",
            " - 1s - loss: 0.8045 - acc: 0.6617 - val_loss: 0.6336 - val_acc: 0.6562\n",
            "\n",
            "Epoch 00004: val_loss did not improve from 0.60067\n",
            "Epoch 5/50\n",
            " - 1s - loss: 0.7439 - acc: 0.6667 - val_loss: 0.6079 - val_acc: 0.7344\n",
            "\n",
            "Epoch 00005: val_loss did not improve from 0.60067\n",
            "Epoch 6/50\n",
            " - 1s - loss: 0.6386 - acc: 0.7396 - val_loss: 0.5185 - val_acc: 0.8359\n",
            "\n",
            "Epoch 00006: val_loss improved from 0.60067 to 0.51851, saving model to drive/My Drive/Resultado/weights_architecture_5.hdf5\n",
            "Epoch 7/50\n",
            " - 1s - loss: 0.6777 - acc: 0.7240 - val_loss: 0.5358 - val_acc: 0.7734\n",
            "\n",
            "Epoch 00007: val_loss did not improve from 0.51851\n",
            "Epoch 8/50\n",
            " - 1s - loss: 0.5811 - acc: 0.7604 - val_loss: 0.6006 - val_acc: 0.7578\n",
            "\n",
            "Epoch 00008: val_loss did not improve from 0.51851\n",
            "Epoch 9/50\n",
            " - 1s - loss: 0.6320 - acc: 0.7214 - val_loss: 0.4683 - val_acc: 0.8359\n",
            "\n",
            "Epoch 00009: val_loss improved from 0.51851 to 0.46829, saving model to drive/My Drive/Resultado/weights_architecture_5.hdf5\n",
            "Epoch 10/50\n",
            " - 1s - loss: 0.6351 - acc: 0.7344 - val_loss: 0.4413 - val_acc: 0.8281\n",
            "\n",
            "Epoch 00010: val_loss improved from 0.46829 to 0.44128, saving model to drive/My Drive/Resultado/weights_architecture_5.hdf5\n",
            "Epoch 11/50\n",
            " - 1s - loss: 0.5361 - acc: 0.7604 - val_loss: 0.5222 - val_acc: 0.7656\n",
            "\n",
            "Epoch 00011: val_loss did not improve from 0.44128\n",
            "Epoch 12/50\n",
            " - 1s - loss: 0.4566 - acc: 0.8229 - val_loss: 0.4684 - val_acc: 0.8672\n",
            "\n",
            "Epoch 00012: val_loss did not improve from 0.44128\n",
            "Epoch 13/50\n",
            " - 1s - loss: 0.6066 - acc: 0.7188 - val_loss: 0.5564 - val_acc: 0.8125\n",
            "\n",
            "Epoch 00013: val_loss did not improve from 0.44128\n",
            "Epoch 14/50\n",
            " - 1s - loss: 0.5260 - acc: 0.7708 - val_loss: 0.5211 - val_acc: 0.8359\n",
            "\n",
            "Epoch 00014: val_loss did not improve from 0.44128\n",
            "Epoch 15/50\n",
            " - 1s - loss: 0.4613 - acc: 0.8229 - val_loss: 0.4225 - val_acc: 0.9062\n",
            "\n",
            "Epoch 00015: val_loss improved from 0.44128 to 0.42252, saving model to drive/My Drive/Resultado/weights_architecture_5.hdf5\n",
            "Epoch 16/50\n",
            " - 1s - loss: 0.5494 - acc: 0.7656 - val_loss: 0.5807 - val_acc: 0.7344\n",
            "\n",
            "Epoch 00016: val_loss did not improve from 0.42252\n",
            "Epoch 17/50\n",
            " - 1s - loss: 0.4527 - acc: 0.8203 - val_loss: 0.4893 - val_acc: 0.8516\n",
            "\n",
            "Epoch 00017: val_loss did not improve from 0.42252\n",
            "Epoch 18/50\n",
            " - 1s - loss: 0.4747 - acc: 0.7917 - val_loss: 0.4222 - val_acc: 0.8359\n",
            "\n",
            "Epoch 00018: val_loss improved from 0.42252 to 0.42222, saving model to drive/My Drive/Resultado/weights_architecture_5.hdf5\n",
            "Epoch 19/50\n",
            " - 1s - loss: 0.3441 - acc: 0.8776 - val_loss: 0.5064 - val_acc: 0.7422\n",
            "\n",
            "Epoch 00019: val_loss did not improve from 0.42222\n",
            "Epoch 20/50\n",
            " - 1s - loss: 0.4339 - acc: 0.8411 - val_loss: 0.4213 - val_acc: 0.9324\n",
            "\n",
            "Epoch 00020: val_loss improved from 0.42222 to 0.42126, saving model to drive/My Drive/Resultado/weights_architecture_5.hdf5\n",
            "Epoch 21/50\n",
            " - 1s - loss: 0.3769 - acc: 0.8594 - val_loss: 0.5267 - val_acc: 0.7812\n",
            "\n",
            "Epoch 00021: val_loss did not improve from 0.42126\n",
            "Epoch 22/50\n",
            " - 1s - loss: 0.4304 - acc: 0.8620 - val_loss: 0.5136 - val_acc: 0.8125\n",
            "\n",
            "Epoch 00022: val_loss did not improve from 0.42126\n",
            "Epoch 23/50\n",
            " - 1s - loss: 0.4552 - acc: 0.8073 - val_loss: 0.5840 - val_acc: 0.7578\n",
            "\n",
            "Epoch 00023: val_loss did not improve from 0.42126\n",
            "Epoch 24/50\n",
            " - 1s - loss: 0.4355 - acc: 0.8620 - val_loss: 0.5894 - val_acc: 0.6875\n",
            "\n",
            "Epoch 00024: val_loss did not improve from 0.42126\n",
            "Epoch 25/50\n",
            " - 1s - loss: 0.4844 - acc: 0.7969 - val_loss: 0.5796 - val_acc: 0.7500\n",
            "\n",
            "Epoch 00025: val_loss did not improve from 0.42126\n",
            "Epoch 26/50\n",
            " - 1s - loss: 0.4228 - acc: 0.8516 - val_loss: 0.4464 - val_acc: 0.8906\n",
            "\n",
            "Epoch 00026: val_loss did not improve from 0.42126\n",
            "Epoch 27/50\n",
            " - 1s - loss: 0.4945 - acc: 0.8047 - val_loss: 0.5839 - val_acc: 0.7344\n",
            "\n",
            "Epoch 00027: val_loss did not improve from 0.42126\n",
            "Epoch 28/50\n",
            " - 1s - loss: 0.4277 - acc: 0.8281 - val_loss: 0.8041 - val_acc: 0.5156\n",
            "\n",
            "Epoch 00028: val_loss did not improve from 0.42126\n",
            "Epoch 29/50\n",
            " - 1s - loss: 0.4658 - acc: 0.8151 - val_loss: 0.7098 - val_acc: 0.6484\n",
            "\n",
            "Epoch 00029: val_loss did not improve from 0.42126\n",
            "Epoch 30/50\n",
            " - 1s - loss: 0.3747 - acc: 0.8750 - val_loss: 0.5181 - val_acc: 0.7812\n",
            "\n",
            "Epoch 00030: val_loss did not improve from 0.42126\n",
            "Epoch 31/50\n",
            " - 1s - loss: 0.4409 - acc: 0.8464 - val_loss: 0.5247 - val_acc: 0.8125\n",
            "\n",
            "Epoch 00031: val_loss did not improve from 0.42126\n",
            "Epoch 32/50\n",
            " - 1s - loss: 0.3906 - acc: 0.8438 - val_loss: 0.7190 - val_acc: 0.6562\n",
            "\n",
            "Epoch 00032: val_loss did not improve from 0.42126\n",
            "Epoch 33/50\n",
            " - 1s - loss: 0.3303 - acc: 0.9067 - val_loss: 0.5301 - val_acc: 0.7734\n",
            "\n",
            "Epoch 00033: val_loss did not improve from 0.42126\n",
            "Epoch 34/50\n",
            " - 1s - loss: 0.3703 - acc: 0.8594 - val_loss: 0.5467 - val_acc: 0.7344\n",
            "\n",
            "Epoch 00034: val_loss did not improve from 0.42126\n",
            "Epoch 35/50\n",
            " - 1s - loss: 0.4068 - acc: 0.8229 - val_loss: 0.3801 - val_acc: 0.8828\n",
            "\n",
            "Epoch 00035: val_loss improved from 0.42126 to 0.38015, saving model to drive/My Drive/Resultado/weights_architecture_5.hdf5\n",
            "Epoch 36/50\n",
            " - 1s - loss: 0.3638 - acc: 0.8724 - val_loss: 0.4458 - val_acc: 0.8203\n",
            "\n",
            "Epoch 00036: val_loss did not improve from 0.38015\n",
            "Epoch 37/50\n",
            " - 1s - loss: 0.4586 - acc: 0.8047 - val_loss: 0.4859 - val_acc: 0.8203\n",
            "\n",
            "Epoch 00037: val_loss did not improve from 0.38015\n",
            "Epoch 38/50\n",
            " - 1s - loss: 0.3711 - acc: 0.8828 - val_loss: 0.4034 - val_acc: 0.8984\n",
            "\n",
            "Epoch 00038: val_loss did not improve from 0.38015\n",
            "Epoch 39/50\n",
            " - 1s - loss: 0.2883 - acc: 0.9167 - val_loss: 0.5439 - val_acc: 0.7578\n",
            "\n",
            "Epoch 00039: val_loss did not improve from 0.38015\n",
            "Epoch 40/50\n",
            " - 1s - loss: 0.4408 - acc: 0.8385 - val_loss: 0.4999 - val_acc: 0.7734\n",
            "\n",
            "Epoch 00040: val_loss did not improve from 0.38015\n",
            "Epoch 41/50\n",
            " - 1s - loss: 0.3430 - acc: 0.8828 - val_loss: 0.5268 - val_acc: 0.7891\n",
            "\n",
            "Epoch 00041: val_loss did not improve from 0.38015\n",
            "Epoch 42/50\n",
            " - 1s - loss: 0.4118 - acc: 0.8516 - val_loss: 0.6128 - val_acc: 0.7188\n",
            "\n",
            "Epoch 00042: val_loss did not improve from 0.38015\n",
            "Epoch 43/50\n",
            " - 1s - loss: 0.3044 - acc: 0.9036 - val_loss: 0.3927 - val_acc: 0.8281\n",
            "\n",
            "Epoch 00043: val_loss did not improve from 0.38015\n",
            "Epoch 44/50\n",
            " - 1s - loss: 0.4006 - acc: 0.8672 - val_loss: 0.5088 - val_acc: 0.7703\n",
            "\n",
            "Epoch 00044: val_loss did not improve from 0.38015\n",
            "Epoch 45/50\n",
            " - 1s - loss: 0.3340 - acc: 0.8828 - val_loss: 0.7095 - val_acc: 0.7109\n",
            "\n",
            "Epoch 00045: val_loss did not improve from 0.38015\n",
            "Epoch 46/50\n",
            " - 1s - loss: 0.3467 - acc: 0.8880 - val_loss: 0.5075 - val_acc: 0.7891\n",
            "\n",
            "Epoch 00046: val_loss did not improve from 0.38015\n",
            "Epoch 47/50\n",
            " - 1s - loss: 0.3652 - acc: 0.8542 - val_loss: 0.4696 - val_acc: 0.8516\n",
            "\n",
            "Epoch 00047: val_loss did not improve from 0.38015\n",
            "Epoch 48/50\n",
            " - 1s - loss: 0.4093 - acc: 0.8568 - val_loss: 0.4224 - val_acc: 0.8359\n",
            "\n",
            "Epoch 00048: val_loss did not improve from 0.38015\n",
            "Epoch 49/50\n",
            " - 1s - loss: 0.3853 - acc: 0.8724 - val_loss: 0.4816 - val_acc: 0.7656\n",
            "\n",
            "Epoch 00049: val_loss did not improve from 0.38015\n",
            "Epoch 50/50\n",
            " - 1s - loss: 0.3678 - acc: 0.8880 - val_loss: 0.4412 - val_acc: 0.7891\n",
            "\n",
            "Epoch 00050: val_loss did not improve from 0.38015\n"
          ],
          "name": "stdout"
        }
      ]
    },
    {
      "metadata": {
        "colab_type": "code",
        "id": "bqNxaqg5j6-Q",
        "outputId": "e1aab9e7-09e6-41db-adb8-e67e8535e981",
        "colab": {
          "base_uri": "https://localhost:8080/",
          "height": 380
        }
      },
      "cell_type": "code",
      "source": [
        "# plotar loss e accuracy para os datasets 'train' e 'test'\n",
        "plt.style.use(\"ggplot\")\n",
        "plt.figure()\n",
        "plt.plot(training.history['acc'], label='Accuracy')\n",
        "plt.plot(training.history['loss'], label='Loss')\n",
        "plt.xlabel('Epochs')\n",
        "plt.ylabel('Accuracy')\n",
        "plt.title(\"Training Loss and Accuracy\")\n",
        "plt.ylabel(\"Loss/Accuracy\")\n",
        "plt.legend()\n",
        "plt.savefig('drive/My Drive/Resultado/' + arquiteture + '.png', bbox_inches='tight')"
      ],
      "execution_count": 0,
      "outputs": [
        {
          "output_type": "display_data",
          "data": {
            "image/png": "[encoded data removed]",
            "text/plain": [
              "<matplotlib.figure.Figure at 0x7f359a199828>"
            ]
          },
          "metadata": {
            "tags": []
          }
        }
      ]
    },
    {
      "metadata": {
        "colab_type": "code",
        "id": "PNDCeMfZj6-X",
        "outputId": "d4f80e15-14db-4f32-9175-6d8903af5f14",
        "colab": {
          "base_uri": "https://localhost:8080/",
          "height": 74
        }
      },
      "cell_type": "code",
      "source": [
        "y_true, y_predict = ler_images_teste(arquiteture)"
      ],
      "execution_count": 0,
      "outputs": [
        {
          "output_type": "stream",
          "text": [
            "/usr/local/lib/python3.6/dist-packages/skimage/transform/_warps.py:84: UserWarning: The default mode, 'constant', will be changed to 'reflect' in skimage 0.15.\n",
            "  warn(\"The default mode, 'constant', will be changed to 'reflect' in \"\n"
          ],
          "name": "stderr"
        }
      ]
    },
    {
      "metadata": {
        "colab_type": "code",
        "id": "atPv7K2Jj6-g",
        "outputId": "2a313c9a-cb23-4a9e-8ad8-e34a13d23d41",
        "colab": {
          "base_uri": "https://localhost:8080/",
          "height": 35
        }
      },
      "cell_type": "code",
      "source": [
        "results[arquiteture] = precision_score(y_true, y_predict, average='binary')\n",
        "print('Test Precision: {:.2f}%'\n",
        "      .format(100 * results[arquiteture]))"
      ],
      "execution_count": 0,
      "outputs": [
        {
          "output_type": "stream",
          "text": [
            "Test Precision: 19.63%\n"
          ],
          "name": "stdout"
        }
      ]
    },
    {
      "metadata": {
        "id": "apfIeirYD2N7",
        "colab_type": "text"
      },
      "cell_type": "markdown",
      "source": [
        "### 6 tentativa Precision: 19.64%"
      ]
    },
    {
      "metadata": {
        "colab_type": "text",
        "id": "xaxcjuxn7BAH"
      },
      "cell_type": "markdown",
      "source": [
        "Modelo adaptado do **Lucas Albertins**\n",
        "\n",
        "*   Sem os **dropout**\n",
        "*   Função **SGD** para compilação\n",
        "*   **BatchNormalization** antes da ultima camada Dense\n"
      ]
    },
    {
      "metadata": {
        "colab_type": "code",
        "id": "C2UuO-jqD44u",
        "colab": {}
      },
      "cell_type": "code",
      "source": [
        "from keras.layers import Conv2D, MaxPooling2D, GlobalMaxPooling2D, BatchNormalization\n",
        "from keras.regularizers import l2\n",
        "\n",
        "model = Sequential()\n",
        "\n",
        "model.add(Conv2D(32, (3, 3), activation='relu', kernel_regularizer=l2(1e-4), \n",
        "                 input_shape=(None, None, 3)))\n",
        "model.add(BatchNormalization())\n",
        "model.add(Conv2D(32, (3, 3), activation='relu', kernel_regularizer=l2(1e-4)))\n",
        "model.add(BatchNormalization())\n",
        "model.add(MaxPooling2D((2, 2)))\n",
        "\n",
        "model.add(Conv2D(64, (3, 3), activation='relu', kernel_regularizer=l2(1e-4)))\n",
        "model.add(BatchNormalization())\n",
        "model.add(Conv2D(64, (3, 3), activation='relu', kernel_regularizer=l2(1e-4)))\n",
        "model.add(BatchNormalization())\n",
        "model.add(MaxPooling2D((2, 2)))\n",
        "\n",
        "model.add(Conv2D(128, (1,1), kernel_regularizer=l2(1e-4)))\n",
        "model.add(GlobalMaxPooling2D())\n",
        "\n",
        "model.add(Dense(256, activation='relu', kernel_regularizer=l2(1e-4)))\n",
        "model.add(BatchNormalization())\n",
        "model.add(Dense(2, activation='sigmoid', kernel_regularizer=l2(1e-4)))"
      ],
      "execution_count": 0,
      "outputs": []
    },
    {
      "metadata": {
        "colab_type": "code",
        "id": "I7mu97znD45M",
        "colab": {}
      },
      "cell_type": "code",
      "source": [
        "model.compile(SGD(lr=0.03, momentum=0.0, decay=0.0, nesterov=False), \n",
        "              loss='binary_crossentropy', metrics=['accuracy'])"
      ],
      "execution_count": 0,
      "outputs": []
    },
    {
      "metadata": {
        "colab_type": "code",
        "id": "QQFrxD_Rj9wz",
        "colab": {}
      },
      "cell_type": "code",
      "source": [
        "arquiteture = 'architecture_6'"
      ],
      "execution_count": 0,
      "outputs": []
    },
    {
      "metadata": {
        "colab_type": "code",
        "id": "ihB-VbCRkyUR",
        "colab": {}
      },
      "cell_type": "code",
      "source": [
        "checkpointer = ModelCheckpoint(filepath='drive/My Drive/Resultado/weights_' + arquiteture + '.hdf5', verbose=1, save_best_only=True)"
      ],
      "execution_count": 0,
      "outputs": []
    },
    {
      "metadata": {
        "colab_type": "code",
        "id": "HRAakAz46scS",
        "outputId": "6ed2f089-cd1e-4e7f-f6ab-efd2f67942d5",
        "colab": {
          "base_uri": "https://localhost:8080/",
          "height": 3710
        }
      },
      "cell_type": "code",
      "source": [
        "training = model.fit_generator(train_batches, steps_per_epoch=stepsPerEpoche, \n",
        "                   validation_data=validation_batches, validation_steps=validationSteps,\n",
        "                   epochs=50, verbose=2, callbacks=[checkpointer])"
      ],
      "execution_count": 0,
      "outputs": [
        {
          "output_type": "stream",
          "text": [
            "Epoch 1/50\n",
            " - 4s - loss: 0.7308 - acc: 0.6354 - val_loss: 1.7829 - val_acc: 0.4766\n",
            "\n",
            "Epoch 00001: val_loss improved from inf to 1.78295, saving model to drive/My Drive/Resultado/weights_architecture_6.hdf5\n",
            "Epoch 2/50\n",
            " - 1s - loss: 0.5896 - acc: 0.7526 - val_loss: 1.2335 - val_acc: 0.6641\n",
            "\n",
            "Epoch 00002: val_loss improved from 1.78295 to 1.23350, saving model to drive/My Drive/Resultado/weights_architecture_6.hdf5\n",
            "Epoch 3/50\n",
            " - 1s - loss: 0.4124 - acc: 0.8516 - val_loss: 1.3325 - val_acc: 0.6328\n",
            "\n",
            "Epoch 00003: val_loss did not improve from 1.23350\n",
            "Epoch 4/50\n",
            " - 1s - loss: 0.4654 - acc: 0.8333 - val_loss: 0.5790 - val_acc: 0.8125\n",
            "\n",
            "Epoch 00004: val_loss improved from 1.23350 to 0.57900, saving model to drive/My Drive/Resultado/weights_architecture_6.hdf5\n",
            "Epoch 5/50\n",
            " - 1s - loss: 0.4516 - acc: 0.8203 - val_loss: 0.9700 - val_acc: 0.7422\n",
            "\n",
            "Epoch 00005: val_loss did not improve from 0.57900\n",
            "Epoch 6/50\n",
            " - 1s - loss: 0.4187 - acc: 0.8672 - val_loss: 1.5928 - val_acc: 0.6016\n",
            "\n",
            "Epoch 00006: val_loss did not improve from 0.57900\n",
            "Epoch 7/50\n",
            " - 1s - loss: 0.2993 - acc: 0.9010 - val_loss: 0.7059 - val_acc: 0.8672\n",
            "\n",
            "Epoch 00007: val_loss did not improve from 0.57900\n",
            "Epoch 8/50\n",
            " - 1s - loss: 0.3759 - acc: 0.8854 - val_loss: 1.0545 - val_acc: 0.7969\n",
            "\n",
            "Epoch 00008: val_loss did not improve from 0.57900\n",
            "Epoch 9/50\n",
            " - 1s - loss: 0.3970 - acc: 0.8516 - val_loss: 0.6276 - val_acc: 0.8047\n",
            "\n",
            "Epoch 00009: val_loss did not improve from 0.57900\n",
            "Epoch 10/50\n",
            " - 1s - loss: 0.3679 - acc: 0.8906 - val_loss: 0.5334 - val_acc: 0.8047\n",
            "\n",
            "Epoch 00010: val_loss improved from 0.57900 to 0.53338, saving model to drive/My Drive/Resultado/weights_architecture_6.hdf5\n",
            "Epoch 11/50\n",
            " - 1s - loss: 0.3831 - acc: 0.8854 - val_loss: 1.4776 - val_acc: 0.4688\n",
            "\n",
            "Epoch 00011: val_loss did not improve from 0.53338\n",
            "Epoch 12/50\n",
            " - 1s - loss: 0.3771 - acc: 0.8594 - val_loss: 0.8973 - val_acc: 0.6719\n",
            "\n",
            "Epoch 00012: val_loss did not improve from 0.53338\n",
            "Epoch 13/50\n",
            " - 1s - loss: 0.3464 - acc: 0.8865 - val_loss: 0.6231 - val_acc: 0.7297\n",
            "\n",
            "Epoch 00013: val_loss did not improve from 0.53338\n",
            "Epoch 14/50\n",
            " - 1s - loss: 0.2970 - acc: 0.9141 - val_loss: 0.6760 - val_acc: 0.8203\n",
            "\n",
            "Epoch 00014: val_loss did not improve from 0.53338\n",
            "Epoch 15/50\n",
            " - 1s - loss: 0.3605 - acc: 0.9010 - val_loss: 0.5056 - val_acc: 0.8750\n",
            "\n",
            "Epoch 00015: val_loss improved from 0.53338 to 0.50563, saving model to drive/My Drive/Resultado/weights_architecture_6.hdf5\n",
            "Epoch 16/50\n",
            " - 1s - loss: 0.3522 - acc: 0.8854 - val_loss: 0.4746 - val_acc: 0.7656\n",
            "\n",
            "Epoch 00016: val_loss improved from 0.50563 to 0.47457, saving model to drive/My Drive/Resultado/weights_architecture_6.hdf5\n",
            "Epoch 17/50\n",
            " - 1s - loss: 0.3286 - acc: 0.8906 - val_loss: 0.6344 - val_acc: 0.7422\n",
            "\n",
            "Epoch 00017: val_loss did not improve from 0.47457\n",
            "Epoch 18/50\n",
            " - 1s - loss: 0.3463 - acc: 0.8802 - val_loss: 0.6202 - val_acc: 0.7812\n",
            "\n",
            "Epoch 00018: val_loss did not improve from 0.47457\n",
            "Epoch 19/50\n",
            " - 1s - loss: 0.3427 - acc: 0.8724 - val_loss: 0.9018 - val_acc: 0.7031\n",
            "\n",
            "Epoch 00019: val_loss did not improve from 0.47457\n",
            "Epoch 20/50\n",
            " - 1s - loss: 0.3069 - acc: 0.9115 - val_loss: 0.4790 - val_acc: 0.8594\n",
            "\n",
            "Epoch 00020: val_loss did not improve from 0.47457\n",
            "Epoch 21/50\n",
            " - 1s - loss: 0.3251 - acc: 0.9036 - val_loss: 0.4485 - val_acc: 0.8281\n",
            "\n",
            "Epoch 00021: val_loss improved from 0.47457 to 0.44847, saving model to drive/My Drive/Resultado/weights_architecture_6.hdf5\n",
            "Epoch 22/50\n",
            " - 1s - loss: 0.2856 - acc: 0.9193 - val_loss: 0.3110 - val_acc: 0.9062\n",
            "\n",
            "Epoch 00022: val_loss improved from 0.44847 to 0.31097, saving model to drive/My Drive/Resultado/weights_architecture_6.hdf5\n",
            "Epoch 23/50\n",
            " - 1s - loss: 0.3679 - acc: 0.8776 - val_loss: 0.4456 - val_acc: 0.8047\n",
            "\n",
            "Epoch 00023: val_loss did not improve from 0.31097\n",
            "Epoch 24/50\n",
            " - 1s - loss: 0.2543 - acc: 0.9141 - val_loss: 0.4677 - val_acc: 0.8125\n",
            "\n",
            "Epoch 00024: val_loss did not improve from 0.31097\n",
            "Epoch 25/50\n",
            " - 1s - loss: 0.3743 - acc: 0.8828 - val_loss: 0.3802 - val_acc: 0.8359\n",
            "\n",
            "Epoch 00025: val_loss did not improve from 0.31097\n",
            "Epoch 26/50\n",
            " - 1s - loss: 0.2810 - acc: 0.9193 - val_loss: 0.3109 - val_acc: 0.9453\n",
            "\n",
            "Epoch 00026: val_loss improved from 0.31097 to 0.31088, saving model to drive/My Drive/Resultado/weights_architecture_6.hdf5\n",
            "Epoch 27/50\n",
            " - 1s - loss: 0.3497 - acc: 0.9010 - val_loss: 0.2101 - val_acc: 0.9375\n",
            "\n",
            "Epoch 00027: val_loss improved from 0.31088 to 0.21013, saving model to drive/My Drive/Resultado/weights_architecture_6.hdf5\n",
            "Epoch 28/50\n",
            " - 1s - loss: 0.2738 - acc: 0.9297 - val_loss: 0.4083 - val_acc: 0.8594\n",
            "\n",
            "Epoch 00028: val_loss did not improve from 0.21013\n",
            "Epoch 29/50\n",
            " - 1s - loss: 0.3546 - acc: 0.8958 - val_loss: 0.3592 - val_acc: 0.9141\n",
            "\n",
            "Epoch 00029: val_loss did not improve from 0.21013\n",
            "Epoch 30/50\n",
            " - 1s - loss: 0.2993 - acc: 0.9193 - val_loss: 0.5061 - val_acc: 0.8438\n",
            "\n",
            "Epoch 00030: val_loss did not improve from 0.21013\n",
            "Epoch 31/50\n",
            " - 1s - loss: 0.2966 - acc: 0.9323 - val_loss: 0.4253 - val_acc: 0.8906\n",
            "\n",
            "Epoch 00031: val_loss did not improve from 0.21013\n",
            "Epoch 32/50\n",
            " - 1s - loss: 0.2986 - acc: 0.9141 - val_loss: 0.5953 - val_acc: 0.8125\n",
            "\n",
            "Epoch 00032: val_loss did not improve from 0.21013\n",
            "Epoch 33/50\n",
            " - 1s - loss: 0.2907 - acc: 0.9323 - val_loss: 0.8380 - val_acc: 0.9141\n",
            "\n",
            "Epoch 00033: val_loss did not improve from 0.21013\n",
            "Epoch 34/50\n",
            " - 1s - loss: 0.4045 - acc: 0.8724 - val_loss: 0.8508 - val_acc: 0.8359\n",
            "\n",
            "Epoch 00034: val_loss did not improve from 0.21013\n",
            "Epoch 35/50\n",
            " - 1s - loss: 0.2389 - acc: 0.9271 - val_loss: 0.7915 - val_acc: 0.7969\n",
            "\n",
            "Epoch 00035: val_loss did not improve from 0.21013\n",
            "Epoch 36/50\n",
            " - 1s - loss: 0.3347 - acc: 0.8880 - val_loss: 0.7643 - val_acc: 0.8359\n",
            "\n",
            "Epoch 00036: val_loss did not improve from 0.21013\n",
            "Epoch 37/50\n",
            " - 1s - loss: 0.2571 - acc: 0.9297 - val_loss: 0.4285 - val_acc: 0.8919\n",
            "\n",
            "Epoch 00037: val_loss did not improve from 0.21013\n",
            "Epoch 38/50\n",
            " - 1s - loss: 0.2843 - acc: 0.9401 - val_loss: 0.2521 - val_acc: 0.9219\n",
            "\n",
            "Epoch 00038: val_loss did not improve from 0.21013\n",
            "Epoch 39/50\n",
            " - 1s - loss: 0.2776 - acc: 0.9297 - val_loss: 0.4527 - val_acc: 0.8594\n",
            "\n",
            "Epoch 00039: val_loss did not improve from 0.21013\n",
            "Epoch 40/50\n",
            " - 1s - loss: 0.3086 - acc: 0.9036 - val_loss: 0.4891 - val_acc: 0.8438\n",
            "\n",
            "Epoch 00040: val_loss did not improve from 0.21013\n",
            "Epoch 41/50\n",
            " - 1s - loss: 0.2603 - acc: 0.9167 - val_loss: 0.4954 - val_acc: 0.8672\n",
            "\n",
            "Epoch 00041: val_loss did not improve from 0.21013\n",
            "Epoch 42/50\n",
            " - 1s - loss: 0.3081 - acc: 0.9046 - val_loss: 0.3305 - val_acc: 0.8906\n",
            "\n",
            "Epoch 00042: val_loss did not improve from 0.21013\n",
            "Epoch 43/50\n",
            " - 1s - loss: 0.2949 - acc: 0.9245 - val_loss: 0.3224 - val_acc: 0.9375\n",
            "\n",
            "Epoch 00043: val_loss did not improve from 0.21013\n",
            "Epoch 44/50\n",
            " - 1s - loss: 0.3083 - acc: 0.8984 - val_loss: 0.2987 - val_acc: 0.8984\n",
            "\n",
            "Epoch 00044: val_loss did not improve from 0.21013\n",
            "Epoch 45/50\n",
            " - 1s - loss: 0.2753 - acc: 0.9141 - val_loss: 0.3238 - val_acc: 0.9062\n",
            "\n",
            "Epoch 00045: val_loss did not improve from 0.21013\n",
            "Epoch 46/50\n",
            " - 1s - loss: 0.2629 - acc: 0.9375 - val_loss: 0.4201 - val_acc: 0.8516\n",
            "\n",
            "Epoch 00046: val_loss did not improve from 0.21013\n",
            "Epoch 47/50\n",
            " - 1s - loss: 0.3517 - acc: 0.8932 - val_loss: 0.2768 - val_acc: 0.9062\n",
            "\n",
            "Epoch 00047: val_loss did not improve from 0.21013\n",
            "Epoch 48/50\n",
            " - 1s - loss: 0.3270 - acc: 0.9036 - val_loss: 0.3854 - val_acc: 0.8828\n",
            "\n",
            "Epoch 00048: val_loss did not improve from 0.21013\n",
            "Epoch 49/50\n",
            " - 1s - loss: 0.2752 - acc: 0.9245 - val_loss: 0.2340 - val_acc: 0.8906\n",
            "\n",
            "Epoch 00049: val_loss did not improve from 0.21013\n",
            "Epoch 50/50\n",
            " - 1s - loss: 0.2956 - acc: 0.9193 - val_loss: 0.4222 - val_acc: 0.8750\n",
            "\n",
            "Epoch 00050: val_loss did not improve from 0.21013\n"
          ],
          "name": "stdout"
        }
      ]
    },
    {
      "metadata": {
        "colab_type": "code",
        "id": "OqkWIHX3j9w7",
        "outputId": "4d4e385b-b865-48be-bc5e-84f1c527a566",
        "colab": {
          "base_uri": "https://localhost:8080/",
          "height": 380
        }
      },
      "cell_type": "code",
      "source": [
        "# plotar loss e accuracy para os datasets 'train' e 'test'\n",
        "plt.style.use(\"ggplot\")\n",
        "plt.figure()\n",
        "plt.plot(training.history['acc'], label='Accuracy')\n",
        "plt.plot(training.history['loss'], label='Loss')\n",
        "plt.xlabel('Epochs')\n",
        "plt.ylabel('Accuracy')\n",
        "plt.title(\"Training Loss and Accuracy\")\n",
        "plt.ylabel(\"Loss/Accuracy\")\n",
        "plt.legend()\n",
        "plt.savefig('drive/My Drive/Resultado/' + arquiteture + '.png', bbox_inches='tight')"
      ],
      "execution_count": 0,
      "outputs": [
        {
          "output_type": "display_data",
          "data": {
            "image/png": "[encoded data removed]",
            "text/plain": [
              "<matplotlib.figure.Figure at 0x7f35995b1c50>"
            ]
          },
          "metadata": {
            "tags": []
          }
        }
      ]
    },
    {
      "metadata": {
        "colab_type": "code",
        "id": "4Gkm9_wVj9w_",
        "outputId": "a0e11db6-e3b3-4548-e6b5-24f434dbb67f",
        "colab": {
          "base_uri": "https://localhost:8080/",
          "height": 74
        }
      },
      "cell_type": "code",
      "source": [
        "y_true, y_predict = ler_images_teste(arquiteture)"
      ],
      "execution_count": 0,
      "outputs": [
        {
          "output_type": "stream",
          "text": [
            "/usr/local/lib/python3.6/dist-packages/skimage/transform/_warps.py:84: UserWarning: The default mode, 'constant', will be changed to 'reflect' in skimage 0.15.\n",
            "  warn(\"The default mode, 'constant', will be changed to 'reflect' in \"\n"
          ],
          "name": "stderr"
        }
      ]
    },
    {
      "metadata": {
        "colab_type": "code",
        "id": "seI9o-8_j9xD",
        "outputId": "3c1ad9c7-6173-4ce1-c06c-7aad2a970c8e",
        "colab": {
          "base_uri": "https://localhost:8080/",
          "height": 35
        }
      },
      "cell_type": "code",
      "source": [
        "results[arquiteture] = precision_score(y_true, y_predict, average='binary')\n",
        "print('Test Precision: {:.2f}%'\n",
        "      .format(100 * results[arquiteture]))"
      ],
      "execution_count": 0,
      "outputs": [
        {
          "output_type": "stream",
          "text": [
            "Test Precision: 19.64%\n"
          ],
          "name": "stdout"
        }
      ]
    },
    {
      "metadata": {
        "id": "5gk7vmYPHddj",
        "colab_type": "text"
      },
      "cell_type": "markdown",
      "source": [
        "### 7 tentativa Precision: 19.67%"
      ]
    },
    {
      "metadata": {
        "colab_type": "text",
        "id": "lxzyd-4L422r"
      },
      "cell_type": "markdown",
      "source": [
        "Modelo adaptado do **Lucas Albertins**\n",
        "\n",
        "*   Sem os **dropout**\n",
        "*   Função **Adadelta** para compilação\n",
        "*   **BatchNormalization** antes da ultima camada Dense\n"
      ]
    },
    {
      "metadata": {
        "colab_type": "code",
        "id": "sIBEdGsyHhJN",
        "colab": {}
      },
      "cell_type": "code",
      "source": [
        "from keras.layers import Conv2D, MaxPooling2D, GlobalMaxPooling2D, BatchNormalization\n",
        "from keras.regularizers import l2\n",
        "from keras.optimizers import Adadelta\n",
        "\n",
        "model = Sequential()\n",
        "\n",
        "model.add(Conv2D(32, (3, 3), activation='relu', kernel_regularizer=l2(1e-4), \n",
        "                 input_shape=(None, None, 3)))\n",
        "model.add(BatchNormalization())\n",
        "model.add(Conv2D(32, (3, 3), activation='relu', kernel_regularizer=l2(1e-4)))\n",
        "model.add(BatchNormalization())\n",
        "model.add(MaxPooling2D((2, 2)))\n",
        "\n",
        "model.add(Conv2D(64, (3, 3), activation='relu', kernel_regularizer=l2(1e-4)))\n",
        "model.add(BatchNormalization())\n",
        "model.add(Conv2D(64, (3, 3), activation='relu', kernel_regularizer=l2(1e-4)))\n",
        "model.add(BatchNormalization())\n",
        "model.add(MaxPooling2D((2, 2)))\n",
        "\n",
        "model.add(Conv2D(128, (1,1), kernel_regularizer=l2(1e-4)))\n",
        "model.add(GlobalMaxPooling2D())\n",
        "\n",
        "model.add(Dense(256, activation='relu', kernel_regularizer=l2(1e-4)))\n",
        "model.add(BatchNormalization())\n",
        "model.add(Dense(2, activation='sigmoid', kernel_regularizer=l2(1e-4)))"
      ],
      "execution_count": 0,
      "outputs": []
    },
    {
      "metadata": {
        "colab_type": "code",
        "id": "P6ZvobfGHhJb",
        "colab": {}
      },
      "cell_type": "code",
      "source": [
        "model.compile(Adadelta(lr=1.0, rho=0.95, epsilon=None, decay=0.0), \n",
        "              loss='binary_crossentropy', metrics=['accuracy'])"
      ],
      "execution_count": 0,
      "outputs": []
    },
    {
      "metadata": {
        "colab_type": "code",
        "id": "ufy24IuYkBYc",
        "colab": {}
      },
      "cell_type": "code",
      "source": [
        "arquiteture = 'architecture_7'"
      ],
      "execution_count": 0,
      "outputs": []
    },
    {
      "metadata": {
        "colab_type": "code",
        "id": "TayAngUFkwJa",
        "colab": {}
      },
      "cell_type": "code",
      "source": [
        "checkpointer = ModelCheckpoint(filepath='drive/My Drive/Resultado/weights_' + arquiteture + '.hdf5', verbose=1, save_best_only=True)"
      ],
      "execution_count": 0,
      "outputs": []
    },
    {
      "metadata": {
        "colab_type": "code",
        "id": "mXDKyOFa4l2t",
        "outputId": "674738e8-a57e-48f6-b208-451143f08f77",
        "colab": {
          "base_uri": "https://localhost:8080/",
          "height": 3710
        }
      },
      "cell_type": "code",
      "source": [
        "training = model.fit_generator(train_batches, steps_per_epoch=stepsPerEpoche, \n",
        "                   validation_data=validation_batches, validation_steps=validationSteps,\n",
        "                   epochs=50, verbose=2, callbacks=[checkpointer])"
      ],
      "execution_count": 0,
      "outputs": [
        {
          "output_type": "stream",
          "text": [
            "Epoch 1/50\n",
            " - 4s - loss: 0.5861 - acc: 0.7448 - val_loss: 1.5821 - val_acc: 0.4766\n",
            "\n",
            "Epoch 00001: val_loss improved from inf to 1.58207, saving model to drive/My Drive/Resultado/weights_architecture_7.hdf5\n",
            "Epoch 2/50\n",
            " - 1s - loss: 0.4513 - acc: 0.8464 - val_loss: 1.0811 - val_acc: 0.6250\n",
            "\n",
            "Epoch 00002: val_loss improved from 1.58207 to 1.08114, saving model to drive/My Drive/Resultado/weights_architecture_7.hdf5\n",
            "Epoch 3/50\n",
            " - 1s - loss: 0.4273 - acc: 0.8516 - val_loss: 0.4524 - val_acc: 0.8438\n",
            "\n",
            "Epoch 00003: val_loss improved from 1.08114 to 0.45235, saving model to drive/My Drive/Resultado/weights_architecture_7.hdf5\n",
            "Epoch 4/50\n",
            " - 1s - loss: 0.3448 - acc: 0.8958 - val_loss: 0.6398 - val_acc: 0.7344\n",
            "\n",
            "Epoch 00004: val_loss did not improve from 0.45235\n",
            "Epoch 5/50\n",
            " - 1s - loss: 0.3958 - acc: 0.8776 - val_loss: 0.4579 - val_acc: 0.8516\n",
            "\n",
            "Epoch 00005: val_loss did not improve from 0.45235\n",
            "Epoch 6/50\n",
            " - 1s - loss: 0.3903 - acc: 0.8750 - val_loss: 0.6677 - val_acc: 0.6622\n",
            "\n",
            "Epoch 00006: val_loss did not improve from 0.45235\n",
            "Epoch 7/50\n",
            " - 1s - loss: 0.3112 - acc: 0.9115 - val_loss: 0.4880 - val_acc: 0.8125\n",
            "\n",
            "Epoch 00007: val_loss did not improve from 0.45235\n",
            "Epoch 8/50\n",
            " - 1s - loss: 0.3047 - acc: 0.8880 - val_loss: 0.5981 - val_acc: 0.6875\n",
            "\n",
            "Epoch 00008: val_loss did not improve from 0.45235\n",
            "Epoch 9/50\n",
            " - 1s - loss: 0.2888 - acc: 0.9193 - val_loss: 0.4058 - val_acc: 0.7734\n",
            "\n",
            "Epoch 00009: val_loss improved from 0.45235 to 0.40579, saving model to drive/My Drive/Resultado/weights_architecture_7.hdf5\n",
            "Epoch 10/50\n",
            " - 1s - loss: 0.2169 - acc: 0.9349 - val_loss: 0.3870 - val_acc: 0.8438\n",
            "\n",
            "Epoch 00010: val_loss improved from 0.40579 to 0.38703, saving model to drive/My Drive/Resultado/weights_architecture_7.hdf5\n",
            "Epoch 11/50\n",
            " - 1s - loss: 0.4043 - acc: 0.8568 - val_loss: 1.2885 - val_acc: 0.7188\n",
            "\n",
            "Epoch 00011: val_loss did not improve from 0.38703\n",
            "Epoch 12/50\n",
            " - 1s - loss: 0.2692 - acc: 0.9036 - val_loss: 0.9241 - val_acc: 0.7188\n",
            "\n",
            "Epoch 00012: val_loss did not improve from 0.38703\n",
            "Epoch 13/50\n",
            " - 1s - loss: 0.3797 - acc: 0.8750 - val_loss: 0.4322 - val_acc: 0.8359\n",
            "\n",
            "Epoch 00013: val_loss did not improve from 0.38703\n",
            "Epoch 14/50\n",
            " - 1s - loss: 0.3319 - acc: 0.8854 - val_loss: 0.4449 - val_acc: 0.8438\n",
            "\n",
            "Epoch 00014: val_loss did not improve from 0.38703\n",
            "Epoch 15/50\n",
            " - 1s - loss: 0.2411 - acc: 0.9271 - val_loss: 0.3203 - val_acc: 0.9219\n",
            "\n",
            "Epoch 00015: val_loss improved from 0.38703 to 0.32032, saving model to drive/My Drive/Resultado/weights_architecture_7.hdf5\n",
            "Epoch 16/50\n",
            " - 1s - loss: 0.2896 - acc: 0.9245 - val_loss: 0.5489 - val_acc: 0.8438\n",
            "\n",
            "Epoch 00016: val_loss did not improve from 0.32032\n",
            "Epoch 17/50\n",
            " - 1s - loss: 0.2965 - acc: 0.9167 - val_loss: 0.5371 - val_acc: 0.7344\n",
            "\n",
            "Epoch 00017: val_loss did not improve from 0.32032\n",
            "Epoch 18/50\n",
            " - 1s - loss: 0.2304 - acc: 0.9323 - val_loss: 0.2960 - val_acc: 0.9141\n",
            "\n",
            "Epoch 00018: val_loss improved from 0.32032 to 0.29602, saving model to drive/My Drive/Resultado/weights_architecture_7.hdf5\n",
            "Epoch 19/50\n",
            " - 1s - loss: 0.3255 - acc: 0.9062 - val_loss: 0.6663 - val_acc: 0.8281\n",
            "\n",
            "Epoch 00019: val_loss did not improve from 0.29602\n",
            "Epoch 20/50\n",
            " - 1s - loss: 0.2537 - acc: 0.9219 - val_loss: 0.6207 - val_acc: 0.8047\n",
            "\n",
            "Epoch 00020: val_loss did not improve from 0.29602\n",
            "Epoch 21/50\n",
            " - 1s - loss: 0.2169 - acc: 0.9401 - val_loss: 0.3704 - val_acc: 0.9219\n",
            "\n",
            "Epoch 00021: val_loss did not improve from 0.29602\n",
            "Epoch 22/50\n",
            " - 1s - loss: 0.2883 - acc: 0.9279 - val_loss: 0.4095 - val_acc: 0.8750\n",
            "\n",
            "Epoch 00022: val_loss did not improve from 0.29602\n",
            "Epoch 23/50\n",
            " - 1s - loss: 0.2586 - acc: 0.9219 - val_loss: 0.5844 - val_acc: 0.7422\n",
            "\n",
            "Epoch 00023: val_loss did not improve from 0.29602\n",
            "Epoch 24/50\n",
            " - 1s - loss: 0.2606 - acc: 0.9115 - val_loss: 0.7624 - val_acc: 0.7656\n",
            "\n",
            "Epoch 00024: val_loss did not improve from 0.29602\n",
            "Epoch 25/50\n",
            " - 1s - loss: 0.2457 - acc: 0.9062 - val_loss: 0.5244 - val_acc: 0.8359\n",
            "\n",
            "Epoch 00025: val_loss did not improve from 0.29602\n",
            "Epoch 26/50\n",
            " - 1s - loss: 0.3039 - acc: 0.8880 - val_loss: 0.9215 - val_acc: 0.7422\n",
            "\n",
            "Epoch 00026: val_loss did not improve from 0.29602\n",
            "Epoch 27/50\n",
            " - 1s - loss: 0.2415 - acc: 0.9453 - val_loss: 0.5506 - val_acc: 0.7969\n",
            "\n",
            "Epoch 00027: val_loss did not improve from 0.29602\n",
            "Epoch 28/50\n",
            " - 1s - loss: 0.2984 - acc: 0.8958 - val_loss: 0.5221 - val_acc: 0.8438\n",
            "\n",
            "Epoch 00028: val_loss did not improve from 0.29602\n",
            "Epoch 29/50\n",
            " - 1s - loss: 0.3345 - acc: 0.9036 - val_loss: 0.2337 - val_acc: 0.9375\n",
            "\n",
            "Epoch 00029: val_loss improved from 0.29602 to 0.23367, saving model to drive/My Drive/Resultado/weights_architecture_7.hdf5\n",
            "Epoch 30/50\n",
            " - 1s - loss: 0.3009 - acc: 0.9036 - val_loss: 0.3967 - val_acc: 0.8108\n",
            "\n",
            "Epoch 00030: val_loss did not improve from 0.23367\n",
            "Epoch 31/50\n",
            " - 1s - loss: 0.3043 - acc: 0.8854 - val_loss: 0.4519 - val_acc: 0.8594\n",
            "\n",
            "Epoch 00031: val_loss did not improve from 0.23367\n",
            "Epoch 32/50\n",
            " - 1s - loss: 0.2301 - acc: 0.9245 - val_loss: 0.3717 - val_acc: 0.8516\n",
            "\n",
            "Epoch 00032: val_loss did not improve from 0.23367\n",
            "Epoch 33/50\n",
            " - 1s - loss: 0.3149 - acc: 0.8854 - val_loss: 0.7683 - val_acc: 0.7891\n",
            "\n",
            "Epoch 00033: val_loss did not improve from 0.23367\n",
            "Epoch 34/50\n",
            " - 1s - loss: 0.2499 - acc: 0.9193 - val_loss: 0.3013 - val_acc: 0.9219\n",
            "\n",
            "Epoch 00034: val_loss did not improve from 0.23367\n",
            "Epoch 35/50\n",
            " - 1s - loss: 0.2583 - acc: 0.9167 - val_loss: 0.2876 - val_acc: 0.8984\n",
            "\n",
            "Epoch 00035: val_loss did not improve from 0.23367\n",
            "Epoch 36/50\n",
            " - 1s - loss: 0.2524 - acc: 0.9193 - val_loss: 0.3680 - val_acc: 0.8359\n",
            "\n",
            "Epoch 00036: val_loss did not improve from 0.23367\n",
            "Epoch 37/50\n",
            " - 1s - loss: 0.3065 - acc: 0.8984 - val_loss: 0.3149 - val_acc: 0.8984\n",
            "\n",
            "Epoch 00037: val_loss did not improve from 0.23367\n",
            "Epoch 38/50\n",
            " - 1s - loss: 0.2164 - acc: 0.9245 - val_loss: 0.4813 - val_acc: 0.8750\n",
            "\n",
            "Epoch 00038: val_loss did not improve from 0.23367\n",
            "Epoch 39/50\n",
            " - 1s - loss: 0.3859 - acc: 0.8828 - val_loss: 0.3867 - val_acc: 0.8906\n",
            "\n",
            "Epoch 00039: val_loss did not improve from 0.23367\n",
            "Epoch 40/50\n",
            " - 1s - loss: 0.3157 - acc: 0.8984 - val_loss: 0.6817 - val_acc: 0.8438\n",
            "\n",
            "Epoch 00040: val_loss did not improve from 0.23367\n",
            "Epoch 41/50\n",
            " - 1s - loss: 0.2712 - acc: 0.9401 - val_loss: 0.5935 - val_acc: 0.8125\n",
            "\n",
            "Epoch 00041: val_loss did not improve from 0.23367\n",
            "Epoch 42/50\n",
            " - 1s - loss: 0.2956 - acc: 0.8984 - val_loss: 0.7124 - val_acc: 0.6953\n",
            "\n",
            "Epoch 00042: val_loss did not improve from 0.23367\n",
            "Epoch 43/50\n",
            " - 1s - loss: 0.2395 - acc: 0.9219 - val_loss: 0.5261 - val_acc: 0.8750\n",
            "\n",
            "Epoch 00043: val_loss did not improve from 0.23367\n",
            "Epoch 44/50\n",
            " - 1s - loss: 0.2550 - acc: 0.9141 - val_loss: 0.2482 - val_acc: 0.9219\n",
            "\n",
            "Epoch 00044: val_loss did not improve from 0.23367\n",
            "Epoch 45/50\n",
            " - 1s - loss: 0.2732 - acc: 0.9010 - val_loss: 0.4142 - val_acc: 0.8672\n",
            "\n",
            "Epoch 00045: val_loss did not improve from 0.23367\n",
            "Epoch 46/50\n",
            " - 1s - loss: 0.2474 - acc: 0.9323 - val_loss: 0.2202 - val_acc: 0.9453\n",
            "\n",
            "Epoch 00046: val_loss improved from 0.23367 to 0.22020, saving model to drive/My Drive/Resultado/weights_architecture_7.hdf5\n",
            "Epoch 47/50\n",
            " - 1s - loss: 0.2814 - acc: 0.9271 - val_loss: 0.3758 - val_acc: 0.9141\n",
            "\n",
            "Epoch 00047: val_loss did not improve from 0.22020\n",
            "Epoch 48/50\n",
            " - 1s - loss: 0.3077 - acc: 0.9115 - val_loss: 0.5752 - val_acc: 0.8281\n",
            "\n",
            "Epoch 00048: val_loss did not improve from 0.22020\n",
            "Epoch 49/50\n",
            " - 1s - loss: 0.2766 - acc: 0.9167 - val_loss: 0.3054 - val_acc: 0.8984\n",
            "\n",
            "Epoch 00049: val_loss did not improve from 0.22020\n",
            "Epoch 50/50\n",
            " - 1s - loss: 0.2414 - acc: 0.9219 - val_loss: 0.2763 - val_acc: 0.9219\n",
            "\n",
            "Epoch 00050: val_loss did not improve from 0.22020\n"
          ],
          "name": "stdout"
        }
      ]
    },
    {
      "metadata": {
        "colab_type": "code",
        "id": "g3H7fijRkBYt",
        "outputId": "dd8cfba8-4392-405f-c242-6e1c9f362484",
        "colab": {
          "base_uri": "https://localhost:8080/",
          "height": 380
        }
      },
      "cell_type": "code",
      "source": [
        "# plotar loss e accuracy para os datasets 'train' e 'test'\n",
        "plt.style.use(\"ggplot\")\n",
        "plt.figure()\n",
        "plt.plot(training.history['acc'], label='Accuracy')\n",
        "plt.plot(training.history['loss'], label='Loss')\n",
        "plt.xlabel('Epochs')\n",
        "plt.ylabel('Accuracy')\n",
        "plt.title(\"Training Loss and Accuracy\")\n",
        "plt.ylabel(\"Loss/Accuracy\")\n",
        "plt.legend()\n",
        "plt.savefig('drive/My Drive/Resultado/' + arquiteture + '.png', bbox_inches='tight')"
      ],
      "execution_count": 0,
      "outputs": [
        {
          "output_type": "display_data",
          "data": {
            "image/png": "[encoded data removed]",
            "text/plain": [
              "<matplotlib.figure.Figure at 0x7f3599f87940>"
            ]
          },
          "metadata": {
            "tags": []
          }
        }
      ]
    },
    {
      "metadata": {
        "colab_type": "code",
        "id": "AXYT6WUakBY3",
        "outputId": "70c762a1-4736-43ac-e3f7-32630454ef2a",
        "colab": {
          "base_uri": "https://localhost:8080/",
          "height": 74
        }
      },
      "cell_type": "code",
      "source": [
        "y_true, y_predict = ler_images_teste(arquiteture)"
      ],
      "execution_count": 0,
      "outputs": [
        {
          "output_type": "stream",
          "text": [
            "/usr/local/lib/python3.6/dist-packages/skimage/transform/_warps.py:84: UserWarning: The default mode, 'constant', will be changed to 'reflect' in skimage 0.15.\n",
            "  warn(\"The default mode, 'constant', will be changed to 'reflect' in \"\n"
          ],
          "name": "stderr"
        }
      ]
    },
    {
      "metadata": {
        "colab_type": "code",
        "id": "zKvHFps_kBZA",
        "outputId": "04ceb566-8d8c-4dbd-9d05-ffcda8ca1882",
        "colab": {
          "base_uri": "https://localhost:8080/",
          "height": 35
        }
      },
      "cell_type": "code",
      "source": [
        "results[arquiteture] = precision_score(y_true, y_predict, average='binary')\n",
        "print('Test Precision: {:.2f}%'\n",
        "      .format(100 * results[arquiteture]))"
      ],
      "execution_count": 0,
      "outputs": [
        {
          "output_type": "stream",
          "text": [
            "Test Precision: 19.67%\n"
          ],
          "name": "stdout"
        }
      ]
    },
    {
      "metadata": {
        "id": "xBqqHjZrnDFP",
        "colab_type": "text"
      },
      "cell_type": "markdown",
      "source": [
        "### 8 tentativa Precision: 19.46% "
      ]
    },
    {
      "metadata": {
        "colab_type": "text",
        "id": "3Qg1zWbo5W6V"
      },
      "cell_type": "markdown",
      "source": [
        "Modelo adaptado do **Lucas Albertins**\n",
        "\n",
        "*   Função **Adadelta** para compilação\n"
      ]
    },
    {
      "metadata": {
        "colab_type": "code",
        "id": "MvjKH9LWpGsi",
        "colab": {}
      },
      "cell_type": "code",
      "source": [
        "from keras.layers import Conv2D, MaxPooling2D, GlobalMaxPooling2D, BatchNormalization\n",
        "from keras.regularizers import l2\n",
        "from keras.optimizers import Adadelta\n",
        "\n",
        "model = Sequential()\n",
        "\n",
        "model.add(Conv2D(32, (3, 3), activation='relu', kernel_regularizer=l2(1e-4), \n",
        "                 input_shape=(None, None, 3)))\n",
        "model.add(BatchNormalization())\n",
        "model.add(Conv2D(32, (3, 3), activation='relu', kernel_regularizer=l2(1e-4)))\n",
        "model.add(BatchNormalization())\n",
        "model.add(MaxPooling2D((2, 2)))\n",
        "model.add(Dropout(0.25))\n",
        "\n",
        "model.add(Conv2D(64, (3, 3), activation='relu', kernel_regularizer=l2(1e-4)))\n",
        "model.add(BatchNormalization())\n",
        "model.add(Conv2D(64, (3, 3), activation='relu', kernel_regularizer=l2(1e-4)))\n",
        "model.add(BatchNormalization())\n",
        "model.add(MaxPooling2D((2, 2)))\n",
        "model.add(Dropout(0.25))\n",
        "\n",
        "model.add(Conv2D(128, (1,1), kernel_regularizer=l2(1e-4)))\n",
        "model.add(GlobalMaxPooling2D())\n",
        "\n",
        "model.add(Dense(256, activation='relu', kernel_regularizer=l2(1e-4)))\n",
        "model.add(Dropout(0.5))\n",
        "model.add(Dense(2, activation='sigmoid', kernel_regularizer=l2(1e-4)))"
      ],
      "execution_count": 0,
      "outputs": []
    },
    {
      "metadata": {
        "colab_type": "code",
        "id": "civjmdynpGsy",
        "colab": {}
      },
      "cell_type": "code",
      "source": [
        "model.compile(Adadelta(lr=1.0, rho=0.95, epsilon=None, decay=0.0), \n",
        "              loss='binary_crossentropy', metrics=['accuracy'])"
      ],
      "execution_count": 0,
      "outputs": []
    },
    {
      "metadata": {
        "colab_type": "code",
        "id": "lmwfJa_fkEKz",
        "colab": {}
      },
      "cell_type": "code",
      "source": [
        "arquiteture = 'architecture_8'"
      ],
      "execution_count": 0,
      "outputs": []
    },
    {
      "metadata": {
        "colab_type": "code",
        "id": "cl6Lxs-6ktsK",
        "colab": {}
      },
      "cell_type": "code",
      "source": [
        "checkpointer = ModelCheckpoint(filepath='drive/My Drive/Resultado/weights_' + arquiteture + '.hdf5', verbose=1, save_best_only=True)"
      ],
      "execution_count": 0,
      "outputs": []
    },
    {
      "metadata": {
        "colab_type": "code",
        "id": "w7LbZJly5iOF",
        "outputId": "44137987-45bd-4fcb-e9c5-775f93010c05",
        "colab": {
          "base_uri": "https://localhost:8080/",
          "height": 3710
        }
      },
      "cell_type": "code",
      "source": [
        "training = model.fit_generator(train_batches, steps_per_epoch=stepsPerEpoche, \n",
        "                   validation_data=validation_batches, validation_steps=validationSteps,\n",
        "                   epochs=50, verbose=2, callbacks=[checkpointer])"
      ],
      "execution_count": 0,
      "outputs": [
        {
          "output_type": "stream",
          "text": [
            "Epoch 1/50\n",
            " - 4s - loss: 3.3239 - acc: 0.4687 - val_loss: 0.9781 - val_acc: 0.6719\n",
            "\n",
            "Epoch 00001: val_loss improved from inf to 0.97810, saving model to drive/My Drive/Resultado/weights_architecture_8.hdf5\n",
            "Epoch 2/50\n",
            " - 1s - loss: 1.4210 - acc: 0.6068 - val_loss: 0.6637 - val_acc: 0.6797\n",
            "\n",
            "Epoch 00002: val_loss improved from 0.97810 to 0.66371, saving model to drive/My Drive/Resultado/weights_architecture_8.hdf5\n",
            "Epoch 3/50\n",
            " - 1s - loss: 1.2798 - acc: 0.6016 - val_loss: 1.3570 - val_acc: 0.3906\n",
            "\n",
            "Epoch 00003: val_loss did not improve from 0.66371\n",
            "Epoch 4/50\n",
            " - 1s - loss: 0.8695 - acc: 0.6719 - val_loss: 0.6053 - val_acc: 0.7031\n",
            "\n",
            "Epoch 00004: val_loss improved from 0.66371 to 0.60530, saving model to drive/My Drive/Resultado/weights_architecture_8.hdf5\n",
            "Epoch 5/50\n",
            " - 1s - loss: 0.9721 - acc: 0.6458 - val_loss: 0.6218 - val_acc: 0.7266\n",
            "\n",
            "Epoch 00005: val_loss did not improve from 0.60530\n",
            "Epoch 6/50\n",
            " - 1s - loss: 0.7925 - acc: 0.6901 - val_loss: 0.6237 - val_acc: 0.7188\n",
            "\n",
            "Epoch 00006: val_loss did not improve from 0.60530\n",
            "Epoch 7/50\n",
            " - 1s - loss: 0.6170 - acc: 0.7604 - val_loss: 0.4783 - val_acc: 0.8438\n",
            "\n",
            "Epoch 00007: val_loss improved from 0.60530 to 0.47828, saving model to drive/My Drive/Resultado/weights_architecture_8.hdf5\n",
            "Epoch 8/50\n",
            " - 1s - loss: 0.6981 - acc: 0.7344 - val_loss: 0.5542 - val_acc: 0.7578\n",
            "\n",
            "Epoch 00008: val_loss did not improve from 0.47828\n",
            "Epoch 9/50\n",
            " - 1s - loss: 0.5245 - acc: 0.7891 - val_loss: 0.6542 - val_acc: 0.6719\n",
            "\n",
            "Epoch 00009: val_loss did not improve from 0.47828\n",
            "Epoch 10/50\n",
            " - 1s - loss: 0.5195 - acc: 0.8125 - val_loss: 0.4739 - val_acc: 0.8438\n",
            "\n",
            "Epoch 00010: val_loss improved from 0.47828 to 0.47387, saving model to drive/My Drive/Resultado/weights_architecture_8.hdf5\n",
            "Epoch 11/50\n",
            " - 1s - loss: 0.4613 - acc: 0.8073 - val_loss: 0.4323 - val_acc: 0.7812\n",
            "\n",
            "Epoch 00011: val_loss improved from 0.47387 to 0.43227, saving model to drive/My Drive/Resultado/weights_architecture_8.hdf5\n",
            "Epoch 12/50\n",
            " - 1s - loss: 0.5170 - acc: 0.7969 - val_loss: 0.3981 - val_acc: 0.8438\n",
            "\n",
            "Epoch 00012: val_loss improved from 0.43227 to 0.39808, saving model to drive/My Drive/Resultado/weights_architecture_8.hdf5\n",
            "Epoch 13/50\n",
            " - 1s - loss: 0.4200 - acc: 0.8281 - val_loss: 0.4576 - val_acc: 0.7656\n",
            "\n",
            "Epoch 00013: val_loss did not improve from 0.39808\n",
            "Epoch 14/50\n",
            " - 1s - loss: 0.4771 - acc: 0.8021 - val_loss: 0.3505 - val_acc: 0.9141\n",
            "\n",
            "Epoch 00014: val_loss improved from 0.39808 to 0.35047, saving model to drive/My Drive/Resultado/weights_architecture_8.hdf5\n",
            "Epoch 15/50\n",
            " - 1s - loss: 0.4031 - acc: 0.8255 - val_loss: 0.5699 - val_acc: 0.7344\n",
            "\n",
            "Epoch 00015: val_loss did not improve from 0.35047\n",
            "Epoch 16/50\n",
            " - 1s - loss: 0.4410 - acc: 0.8125 - val_loss: 0.6911 - val_acc: 0.6719\n",
            "\n",
            "Epoch 00016: val_loss did not improve from 0.35047\n",
            "Epoch 17/50\n",
            " - 1s - loss: 0.3138 - acc: 0.8906 - val_loss: 0.4281 - val_acc: 0.8672\n",
            "\n",
            "Epoch 00017: val_loss did not improve from 0.35047\n",
            "Epoch 18/50\n",
            " - 1s - loss: 0.5282 - acc: 0.7995 - val_loss: 0.4659 - val_acc: 0.8281\n",
            "\n",
            "Epoch 00018: val_loss did not improve from 0.35047\n",
            "Epoch 19/50\n",
            " - 1s - loss: 0.6087 - acc: 0.7396 - val_loss: 0.4059 - val_acc: 0.9375\n",
            "\n",
            "Epoch 00019: val_loss did not improve from 0.35047\n",
            "Epoch 20/50\n",
            " - 1s - loss: 0.3749 - acc: 0.8646 - val_loss: 0.5833 - val_acc: 0.7500\n",
            "\n",
            "Epoch 00020: val_loss did not improve from 0.35047\n",
            "Epoch 21/50\n",
            " - 1s - loss: 0.3210 - acc: 0.9036 - val_loss: 0.6162 - val_acc: 0.7422\n",
            "\n",
            "Epoch 00021: val_loss did not improve from 0.35047\n",
            "Epoch 22/50\n",
            " - 1s - loss: 0.4792 - acc: 0.7995 - val_loss: 0.3526 - val_acc: 0.8649\n",
            "\n",
            "Epoch 00022: val_loss did not improve from 0.35047\n",
            "Epoch 23/50\n",
            " - 1s - loss: 0.4136 - acc: 0.8438 - val_loss: 0.5600 - val_acc: 0.7422\n",
            "\n",
            "Epoch 00023: val_loss did not improve from 0.35047\n",
            "Epoch 24/50\n",
            " - 1s - loss: 0.3789 - acc: 0.8646 - val_loss: 0.3457 - val_acc: 0.8906\n",
            "\n",
            "Epoch 00024: val_loss improved from 0.35047 to 0.34572, saving model to drive/My Drive/Resultado/weights_architecture_8.hdf5\n",
            "Epoch 25/50\n",
            " - 1s - loss: 0.3511 - acc: 0.8802 - val_loss: 0.5975 - val_acc: 0.7109\n",
            "\n",
            "Epoch 00025: val_loss did not improve from 0.34572\n",
            "Epoch 26/50\n",
            " - 1s - loss: 0.3536 - acc: 0.8802 - val_loss: 0.3932 - val_acc: 0.8750\n",
            "\n",
            "Epoch 00026: val_loss did not improve from 0.34572\n",
            "Epoch 27/50\n",
            " - 1s - loss: 0.4926 - acc: 0.7891 - val_loss: 0.4901 - val_acc: 0.7812\n",
            "\n",
            "Epoch 00027: val_loss did not improve from 0.34572\n",
            "Epoch 28/50\n",
            " - 1s - loss: 0.4857 - acc: 0.7917 - val_loss: 0.4209 - val_acc: 0.8672\n",
            "\n",
            "Epoch 00028: val_loss did not improve from 0.34572\n",
            "Epoch 29/50\n",
            " - 1s - loss: 0.3639 - acc: 0.8776 - val_loss: 0.3783 - val_acc: 0.8516\n",
            "\n",
            "Epoch 00029: val_loss did not improve from 0.34572\n",
            "Epoch 30/50\n",
            " - 1s - loss: 0.4663 - acc: 0.8307 - val_loss: 0.4217 - val_acc: 0.8594\n",
            "\n",
            "Epoch 00030: val_loss did not improve from 0.34572\n",
            "Epoch 31/50\n",
            " - 1s - loss: 0.4763 - acc: 0.8032 - val_loss: 0.5576 - val_acc: 0.7266\n",
            "\n",
            "Epoch 00031: val_loss did not improve from 0.34572\n",
            "Epoch 32/50\n",
            " - 1s - loss: 0.3161 - acc: 0.8750 - val_loss: 0.4802 - val_acc: 0.7891\n",
            "\n",
            "Epoch 00032: val_loss did not improve from 0.34572\n",
            "Epoch 33/50\n",
            " - 1s - loss: 0.4021 - acc: 0.8333 - val_loss: 0.6689 - val_acc: 0.6484\n",
            "\n",
            "Epoch 00033: val_loss did not improve from 0.34572\n",
            "Epoch 34/50\n",
            " - 1s - loss: 0.4209 - acc: 0.8490 - val_loss: 0.5091 - val_acc: 0.7891\n",
            "\n",
            "Epoch 00034: val_loss did not improve from 0.34572\n",
            "Epoch 35/50\n",
            " - 1s - loss: 0.4514 - acc: 0.8073 - val_loss: 0.5376 - val_acc: 0.7891\n",
            "\n",
            "Epoch 00035: val_loss did not improve from 0.34572\n",
            "Epoch 36/50\n",
            " - 1s - loss: 0.4385 - acc: 0.8229 - val_loss: 0.3462 - val_acc: 0.9453\n",
            "\n",
            "Epoch 00036: val_loss did not improve from 0.34572\n",
            "Epoch 37/50\n",
            " - 1s - loss: 0.3877 - acc: 0.8594 - val_loss: 0.4551 - val_acc: 0.7969\n",
            "\n",
            "Epoch 00037: val_loss did not improve from 0.34572\n",
            "Epoch 38/50\n",
            " - 1s - loss: 0.3072 - acc: 0.8932 - val_loss: 0.3500 - val_acc: 0.8984\n",
            "\n",
            "Epoch 00038: val_loss did not improve from 0.34572\n",
            "Epoch 39/50\n",
            " - 1s - loss: 0.3613 - acc: 0.8568 - val_loss: 0.4198 - val_acc: 0.7891\n",
            "\n",
            "Epoch 00039: val_loss did not improve from 0.34572\n",
            "Epoch 40/50\n",
            " - 1s - loss: 0.3758 - acc: 0.8516 - val_loss: 0.6135 - val_acc: 0.7344\n",
            "\n",
            "Epoch 00040: val_loss did not improve from 0.34572\n",
            "Epoch 41/50\n",
            " - 1s - loss: 0.3245 - acc: 0.9036 - val_loss: 0.7842 - val_acc: 0.5625\n",
            "\n",
            "Epoch 00041: val_loss did not improve from 0.34572\n",
            "Epoch 42/50\n",
            " - 1s - loss: 0.4007 - acc: 0.8646 - val_loss: 0.4688 - val_acc: 0.7891\n",
            "\n",
            "Epoch 00042: val_loss did not improve from 0.34572\n",
            "Epoch 43/50\n",
            " - 1s - loss: 0.4392 - acc: 0.8464 - val_loss: 0.4094 - val_acc: 0.8359\n",
            "\n",
            "Epoch 00043: val_loss did not improve from 0.34572\n",
            "Epoch 44/50\n",
            " - 1s - loss: 0.3536 - acc: 0.8698 - val_loss: 0.4048 - val_acc: 0.8594\n",
            "\n",
            "Epoch 00044: val_loss did not improve from 0.34572\n",
            "Epoch 45/50\n",
            " - 1s - loss: 0.4480 - acc: 0.8177 - val_loss: 0.4751 - val_acc: 0.7812\n",
            "\n",
            "Epoch 00045: val_loss did not improve from 0.34572\n",
            "Epoch 46/50\n",
            " - 1s - loss: 0.3425 - acc: 0.8854 - val_loss: 0.4253 - val_acc: 0.8378\n",
            "\n",
            "Epoch 00046: val_loss did not improve from 0.34572\n",
            "Epoch 47/50\n",
            " - 1s - loss: 0.3505 - acc: 0.8828 - val_loss: 0.5219 - val_acc: 0.8047\n",
            "\n",
            "Epoch 00047: val_loss did not improve from 0.34572\n",
            "Epoch 48/50\n",
            " - 1s - loss: 0.4069 - acc: 0.8464 - val_loss: 0.4550 - val_acc: 0.8047\n",
            "\n",
            "Epoch 00048: val_loss did not improve from 0.34572\n",
            "Epoch 49/50\n",
            " - 1s - loss: 0.3715 - acc: 0.8542 - val_loss: 0.4229 - val_acc: 0.8516\n",
            "\n",
            "Epoch 00049: val_loss did not improve from 0.34572\n",
            "Epoch 50/50\n",
            " - 1s - loss: 0.2593 - acc: 0.9141 - val_loss: 0.6061 - val_acc: 0.6719\n",
            "\n",
            "Epoch 00050: val_loss did not improve from 0.34572\n"
          ],
          "name": "stdout"
        }
      ]
    },
    {
      "metadata": {
        "colab_type": "code",
        "id": "8zBVma0TkELH",
        "outputId": "1edd29a9-e23d-4e26-fb4f-72babb55076f",
        "colab": {
          "base_uri": "https://localhost:8080/",
          "height": 380
        }
      },
      "cell_type": "code",
      "source": [
        "# plotar loss e accuracy para os datasets 'train' e 'test'\n",
        "plt.style.use(\"ggplot\")\n",
        "plt.figure()\n",
        "plt.plot(training.history['acc'], label='Accuracy')\n",
        "plt.plot(training.history['loss'], label='Loss')\n",
        "plt.xlabel('Epochs')\n",
        "plt.ylabel('Accuracy')\n",
        "plt.title(\"Training Loss and Accuracy\")\n",
        "plt.ylabel(\"Loss/Accuracy\")\n",
        "plt.legend()\n",
        "plt.savefig('drive/My Drive/Resultado/' + arquiteture + '.png', bbox_inches='tight')"
      ],
      "execution_count": 0,
      "outputs": [
        {
          "output_type": "display_data",
          "data": {
            "image/png": "[encoded data removed]",
            "text/plain": [
              "<matplotlib.figure.Figure at 0x7f3596808588>"
            ]
          },
          "metadata": {
            "tags": []
          }
        }
      ]
    },
    {
      "metadata": {
        "colab_type": "code",
        "id": "5B4aLvCvkELT",
        "outputId": "9740eb0c-b376-4458-f420-619f5c0e6a4d",
        "colab": {
          "base_uri": "https://localhost:8080/",
          "height": 74
        }
      },
      "cell_type": "code",
      "source": [
        "y_true, y_predict = ler_images_teste(arquiteture)"
      ],
      "execution_count": 0,
      "outputs": [
        {
          "output_type": "stream",
          "text": [
            "/usr/local/lib/python3.6/dist-packages/skimage/transform/_warps.py:84: UserWarning: The default mode, 'constant', will be changed to 'reflect' in skimage 0.15.\n",
            "  warn(\"The default mode, 'constant', will be changed to 'reflect' in \"\n"
          ],
          "name": "stderr"
        }
      ]
    },
    {
      "metadata": {
        "colab_type": "code",
        "id": "8qEpN64tkELc",
        "outputId": "a3d7a8d5-1380-48cc-8f4c-a4f54dfb4f74",
        "colab": {
          "base_uri": "https://localhost:8080/",
          "height": 35
        }
      },
      "cell_type": "code",
      "source": [
        "results[arquiteture] = precision_score(y_true, y_predict, average='binary')\n",
        "print('Test Precision: {:.2f}%'\n",
        "      .format(100 * results[arquiteture]))"
      ],
      "execution_count": 0,
      "outputs": [
        {
          "output_type": "stream",
          "text": [
            "Test Precision: 19.46%\n"
          ],
          "name": "stdout"
        }
      ]
    },
    {
      "metadata": {
        "id": "csBCokNgxgbn",
        "colab_type": "text"
      },
      "cell_type": "markdown",
      "source": [
        "### 9 tentativa Precision: 18.62%"
      ]
    },
    {
      "metadata": {
        "colab_type": "text",
        "id": "qLtNH8xk63El"
      },
      "cell_type": "markdown",
      "source": [
        "Modelo adaptado do **Lucas Albertins**\n",
        "\n",
        "*   Função **SGD** para compilação\n"
      ]
    },
    {
      "metadata": {
        "colab_type": "code",
        "id": "EJjS6pK1xj1f",
        "colab": {}
      },
      "cell_type": "code",
      "source": [
        "from keras.layers import Conv2D, MaxPooling2D, GlobalMaxPooling2D, BatchNormalization\n",
        "from keras.regularizers import l2\n",
        "\n",
        "model = Sequential()\n",
        "\n",
        "model.add(Conv2D(32, (3, 3), activation='relu', kernel_regularizer=l2(1e-4), \n",
        "                 input_shape=(None, None, 3)))\n",
        "model.add(BatchNormalization())\n",
        "model.add(Conv2D(32, (3, 3), activation='relu', kernel_regularizer=l2(1e-4)))\n",
        "model.add(BatchNormalization())\n",
        "model.add(MaxPooling2D((2, 2)))\n",
        "model.add(Dropout(0.25))\n",
        "\n",
        "model.add(Conv2D(64, (3, 3), activation='relu', kernel_regularizer=l2(1e-4)))\n",
        "model.add(BatchNormalization())\n",
        "model.add(Conv2D(64, (3, 3), activation='relu', kernel_regularizer=l2(1e-4)))\n",
        "model.add(BatchNormalization())\n",
        "model.add(MaxPooling2D((2, 2)))\n",
        "model.add(Dropout(0.25))\n",
        "\n",
        "model.add(Conv2D(128, (1,1), kernel_regularizer=l2(1e-4)))\n",
        "model.add(GlobalMaxPooling2D())\n",
        "\n",
        "model.add(Dense(256, activation='relu', kernel_regularizer=l2(1e-4)))\n",
        "model.add(Dropout(0.5))\n",
        "model.add(Dense(2, activation='sigmoid', kernel_regularizer=l2(1e-4)))"
      ],
      "execution_count": 0,
      "outputs": []
    },
    {
      "metadata": {
        "colab_type": "code",
        "id": "9ezdguEZxsWT",
        "colab": {}
      },
      "cell_type": "code",
      "source": [
        "model.compile(SGD(lr=0.03, momentum=0.0, decay=0.0, nesterov=False), \n",
        "              loss='binary_crossentropy', metrics=['accuracy'])"
      ],
      "execution_count": 0,
      "outputs": []
    },
    {
      "metadata": {
        "colab_type": "code",
        "id": "474-g6XskHLD",
        "colab": {}
      },
      "cell_type": "code",
      "source": [
        "arquiteture = 'architecture_9'"
      ],
      "execution_count": 0,
      "outputs": []
    },
    {
      "metadata": {
        "colab_type": "code",
        "id": "L_3cTA3AkqpU",
        "colab": {}
      },
      "cell_type": "code",
      "source": [
        "checkpointer = ModelCheckpoint(filepath='drive/My Drive/Resultado/weights_' + arquiteture + '.hdf5', verbose=1, save_best_only=True)"
      ],
      "execution_count": 0,
      "outputs": []
    },
    {
      "metadata": {
        "colab_type": "code",
        "id": "6jYgi71R6XO2",
        "outputId": "e7e79045-8b70-4686-ac74-f936318d4aa5",
        "colab": {
          "base_uri": "https://localhost:8080/",
          "height": 3710
        }
      },
      "cell_type": "code",
      "source": [
        "training = model.fit_generator(train_batches, steps_per_epoch=stepsPerEpoche, \n",
        "                   validation_data=validation_batches, validation_steps=validationSteps,\n",
        "                   epochs=50, verbose=2, callbacks=[checkpointer])"
      ],
      "execution_count": 0,
      "outputs": [
        {
          "output_type": "stream",
          "text": [
            "Epoch 1/50\n",
            " - 4s - loss: 6.2621 - acc: 0.5260 - val_loss: 3.1540 - val_acc: 0.7344\n",
            "\n",
            "Epoch 00001: val_loss improved from inf to 3.15397, saving model to drive/My Drive/Resultado/weights_architecture_9.hdf5\n",
            "Epoch 2/50\n",
            " - 1s - loss: 4.6515 - acc: 0.6328 - val_loss: 3.1687 - val_acc: 0.5703\n",
            "\n",
            "Epoch 00002: val_loss did not improve from 3.15397\n",
            "Epoch 3/50\n",
            " - 1s - loss: 1.6842 - acc: 0.5573 - val_loss: 0.6642 - val_acc: 0.7344\n",
            "\n",
            "Epoch 00003: val_loss improved from 3.15397 to 0.66424, saving model to drive/My Drive/Resultado/weights_architecture_9.hdf5\n",
            "Epoch 4/50\n",
            " - 1s - loss: 0.7828 - acc: 0.5885 - val_loss: 0.6693 - val_acc: 0.6797\n",
            "\n",
            "Epoch 00004: val_loss did not improve from 0.66424\n",
            "Epoch 5/50\n",
            " - 1s - loss: 0.6984 - acc: 0.6354 - val_loss: 0.6815 - val_acc: 0.7031\n",
            "\n",
            "Epoch 00005: val_loss did not improve from 0.66424\n",
            "Epoch 6/50\n",
            " - 1s - loss: 0.6885 - acc: 0.5990 - val_loss: 0.6714 - val_acc: 0.7578\n",
            "\n",
            "Epoch 00006: val_loss did not improve from 0.66424\n",
            "Epoch 7/50\n",
            " - 1s - loss: 0.5938 - acc: 0.7188 - val_loss: 0.6652 - val_acc: 0.7422\n",
            "\n",
            "Epoch 00007: val_loss did not improve from 0.66424\n",
            "Epoch 8/50\n",
            " - 1s - loss: 0.5624 - acc: 0.7188 - val_loss: 0.6446 - val_acc: 0.7578\n",
            "\n",
            "Epoch 00008: val_loss improved from 0.66424 to 0.64458, saving model to drive/My Drive/Resultado/weights_architecture_9.hdf5\n",
            "Epoch 9/50\n",
            " - 1s - loss: 0.5002 - acc: 0.7891 - val_loss: 0.7435 - val_acc: 0.5625\n",
            "\n",
            "Epoch 00009: val_loss did not improve from 0.64458\n",
            "Epoch 10/50\n",
            " - 1s - loss: 0.4983 - acc: 0.8086 - val_loss: 0.9951 - val_acc: 0.4219\n",
            "\n",
            "Epoch 00010: val_loss did not improve from 0.64458\n",
            "Epoch 11/50\n",
            " - 1s - loss: 0.5190 - acc: 0.7682 - val_loss: 0.6981 - val_acc: 0.6484\n",
            "\n",
            "Epoch 00011: val_loss did not improve from 0.64458\n",
            "Epoch 12/50\n",
            " - 1s - loss: 0.5261 - acc: 0.7630 - val_loss: 0.7723 - val_acc: 0.4766\n",
            "\n",
            "Epoch 00012: val_loss did not improve from 0.64458\n",
            "Epoch 13/50\n",
            " - 1s - loss: 0.4543 - acc: 0.8099 - val_loss: 0.8118 - val_acc: 0.5859\n",
            "\n",
            "Epoch 00013: val_loss did not improve from 0.64458\n",
            "Epoch 14/50\n",
            " - 1s - loss: 0.3921 - acc: 0.8620 - val_loss: 0.5882 - val_acc: 0.8203\n",
            "\n",
            "Epoch 00014: val_loss improved from 0.64458 to 0.58823, saving model to drive/My Drive/Resultado/weights_architecture_9.hdf5\n",
            "Epoch 15/50\n",
            " - 1s - loss: 0.5669 - acc: 0.7448 - val_loss: 0.6440 - val_acc: 0.7027\n",
            "\n",
            "Epoch 00015: val_loss did not improve from 0.58823\n",
            "Epoch 16/50\n",
            " - 1s - loss: 0.4147 - acc: 0.8516 - val_loss: 0.6094 - val_acc: 0.7344\n",
            "\n",
            "Epoch 00016: val_loss did not improve from 0.58823\n",
            "Epoch 17/50\n",
            " - 1s - loss: 0.5079 - acc: 0.7995 - val_loss: 0.6333 - val_acc: 0.6406\n",
            "\n",
            "Epoch 00017: val_loss did not improve from 0.58823\n",
            "Epoch 18/50\n",
            " - 1s - loss: 0.4258 - acc: 0.8359 - val_loss: 0.6076 - val_acc: 0.7422\n",
            "\n",
            "Epoch 00018: val_loss did not improve from 0.58823\n",
            "Epoch 19/50\n",
            " - 1s - loss: 0.4545 - acc: 0.8021 - val_loss: 0.5841 - val_acc: 0.7031\n",
            "\n",
            "Epoch 00019: val_loss improved from 0.58823 to 0.58405, saving model to drive/My Drive/Resultado/weights_architecture_9.hdf5\n",
            "Epoch 20/50\n",
            " - 1s - loss: 0.4276 - acc: 0.8177 - val_loss: 0.4736 - val_acc: 0.8516\n",
            "\n",
            "Epoch 00020: val_loss improved from 0.58405 to 0.47359, saving model to drive/My Drive/Resultado/weights_architecture_9.hdf5\n",
            "Epoch 21/50\n",
            " - 1s - loss: 0.4691 - acc: 0.8255 - val_loss: 0.5506 - val_acc: 0.8203\n",
            "\n",
            "Epoch 00021: val_loss did not improve from 0.47359\n",
            "Epoch 22/50\n",
            " - 1s - loss: 0.3649 - acc: 0.8724 - val_loss: 0.6383 - val_acc: 0.6719\n",
            "\n",
            "Epoch 00022: val_loss did not improve from 0.47359\n",
            "Epoch 23/50\n",
            " - 1s - loss: 0.4789 - acc: 0.8073 - val_loss: 0.5850 - val_acc: 0.7188\n",
            "\n",
            "Epoch 00023: val_loss did not improve from 0.47359\n",
            "Epoch 24/50\n",
            " - 1s - loss: 0.3763 - acc: 0.8568 - val_loss: 0.4157 - val_acc: 0.9062\n",
            "\n",
            "Epoch 00024: val_loss improved from 0.47359 to 0.41569, saving model to drive/My Drive/Resultado/weights_architecture_9.hdf5\n",
            "Epoch 25/50\n",
            " - 1s - loss: 0.4645 - acc: 0.7995 - val_loss: 0.5192 - val_acc: 0.8281\n",
            "\n",
            "Epoch 00025: val_loss did not improve from 0.41569\n",
            "Epoch 26/50\n",
            " - 1s - loss: 0.4544 - acc: 0.7917 - val_loss: 0.5115 - val_acc: 0.8203\n",
            "\n",
            "Epoch 00026: val_loss did not improve from 0.41569\n",
            "Epoch 27/50\n",
            " - 1s - loss: 0.5098 - acc: 0.7969 - val_loss: 0.4787 - val_acc: 0.8594\n",
            "\n",
            "Epoch 00027: val_loss did not improve from 0.41569\n",
            "Epoch 28/50\n",
            " - 1s - loss: 0.4716 - acc: 0.8021 - val_loss: 0.4214 - val_acc: 0.9219\n",
            "\n",
            "Epoch 00028: val_loss did not improve from 0.41569\n",
            "Epoch 29/50\n",
            " - 1s - loss: 0.4400 - acc: 0.8177 - val_loss: 0.3721 - val_acc: 0.9531\n",
            "\n",
            "Epoch 00029: val_loss improved from 0.41569 to 0.37211, saving model to drive/My Drive/Resultado/weights_architecture_9.hdf5\n",
            "Epoch 30/50\n",
            " - 1s - loss: 0.4639 - acc: 0.8438 - val_loss: 0.6836 - val_acc: 0.7266\n",
            "\n",
            "Epoch 00030: val_loss did not improve from 0.37211\n",
            "Epoch 31/50\n",
            " - 1s - loss: 0.3608 - acc: 0.8880 - val_loss: 0.4622 - val_acc: 0.8281\n",
            "\n",
            "Epoch 00031: val_loss did not improve from 0.37211\n",
            "Epoch 32/50\n",
            " - 1s - loss: 0.5038 - acc: 0.7526 - val_loss: 0.4932 - val_acc: 0.7734\n",
            "\n",
            "Epoch 00032: val_loss did not improve from 0.37211\n",
            "Epoch 33/50\n",
            " - 1s - loss: 0.3619 - acc: 0.8646 - val_loss: 0.6113 - val_acc: 0.7266\n",
            "\n",
            "Epoch 00033: val_loss did not improve from 0.37211\n",
            "Epoch 34/50\n",
            " - 1s - loss: 0.3651 - acc: 0.8698 - val_loss: 0.4529 - val_acc: 0.8750\n",
            "\n",
            "Epoch 00034: val_loss did not improve from 0.37211\n",
            "Epoch 35/50\n",
            " - 1s - loss: 0.3812 - acc: 0.8438 - val_loss: 0.5115 - val_acc: 0.7188\n",
            "\n",
            "Epoch 00035: val_loss did not improve from 0.37211\n",
            "Epoch 36/50\n",
            " - 1s - loss: 0.3642 - acc: 0.8542 - val_loss: 0.5211 - val_acc: 0.7734\n",
            "\n",
            "Epoch 00036: val_loss did not improve from 0.37211\n",
            "Epoch 37/50\n",
            " - 1s - loss: 0.4263 - acc: 0.8099 - val_loss: 0.4153 - val_acc: 0.8125\n",
            "\n",
            "Epoch 00037: val_loss did not improve from 0.37211\n",
            "Epoch 38/50\n",
            " - 1s - loss: 0.4169 - acc: 0.8333 - val_loss: 0.5287 - val_acc: 0.8281\n",
            "\n",
            "Epoch 00038: val_loss did not improve from 0.37211\n",
            "Epoch 39/50\n",
            " - 1s - loss: 0.3112 - acc: 0.8984 - val_loss: 0.6390 - val_acc: 0.7568\n",
            "\n",
            "Epoch 00039: val_loss did not improve from 0.37211\n",
            "Epoch 40/50\n",
            " - 1s - loss: 0.4561 - acc: 0.8357 - val_loss: 0.5884 - val_acc: 0.7422\n",
            "\n",
            "Epoch 00040: val_loss did not improve from 0.37211\n",
            "Epoch 41/50\n",
            " - 1s - loss: 0.3542 - acc: 0.8724 - val_loss: 0.5319 - val_acc: 0.7969\n",
            "\n",
            "Epoch 00041: val_loss did not improve from 0.37211\n",
            "Epoch 42/50\n",
            " - 1s - loss: 0.3818 - acc: 0.8724 - val_loss: 0.5694 - val_acc: 0.7188\n",
            "\n",
            "Epoch 00042: val_loss did not improve from 0.37211\n",
            "Epoch 43/50\n",
            " - 1s - loss: 0.4484 - acc: 0.8333 - val_loss: 0.5169 - val_acc: 0.7891\n",
            "\n",
            "Epoch 00043: val_loss did not improve from 0.37211\n",
            "Epoch 44/50\n",
            " - 1s - loss: 0.4717 - acc: 0.8438 - val_loss: 0.5209 - val_acc: 0.8125\n",
            "\n",
            "Epoch 00044: val_loss did not improve from 0.37211\n",
            "Epoch 45/50\n",
            " - 1s - loss: 0.3884 - acc: 0.8802 - val_loss: 0.5314 - val_acc: 0.8203\n",
            "\n",
            "Epoch 00045: val_loss did not improve from 0.37211\n",
            "Epoch 46/50\n",
            " - 1s - loss: 0.4489 - acc: 0.8099 - val_loss: 0.4740 - val_acc: 0.8438\n",
            "\n",
            "Epoch 00046: val_loss did not improve from 0.37211\n",
            "Epoch 47/50\n",
            " - 1s - loss: 0.2971 - acc: 0.9167 - val_loss: 0.5064 - val_acc: 0.8594\n",
            "\n",
            "Epoch 00047: val_loss did not improve from 0.37211\n",
            "Epoch 48/50\n",
            " - 1s - loss: 0.4441 - acc: 0.8594 - val_loss: 0.5023 - val_acc: 0.8750\n",
            "\n",
            "Epoch 00048: val_loss did not improve from 0.37211\n",
            "Epoch 49/50\n",
            " - 1s - loss: 0.3143 - acc: 0.9089 - val_loss: 0.5408 - val_acc: 0.7500\n",
            "\n",
            "Epoch 00049: val_loss did not improve from 0.37211\n",
            "Epoch 50/50\n",
            " - 1s - loss: 0.3768 - acc: 0.8802 - val_loss: 0.5803 - val_acc: 0.6406\n",
            "\n",
            "Epoch 00050: val_loss did not improve from 0.37211\n"
          ],
          "name": "stdout"
        }
      ]
    },
    {
      "metadata": {
        "colab_type": "code",
        "id": "M6Yz3lQwkHLX",
        "outputId": "e9090615-4fd2-4b69-fbff-40ddd9c16fcd",
        "colab": {
          "base_uri": "https://localhost:8080/",
          "height": 380
        }
      },
      "cell_type": "code",
      "source": [
        "# plotar loss e accuracy para os datasets 'train' e 'test'\n",
        "plt.style.use(\"ggplot\")\n",
        "plt.figure()\n",
        "plt.plot(training.history['acc'], label='Accuracy')\n",
        "plt.plot(training.history['loss'], label='Loss')\n",
        "plt.xlabel('Epochs')\n",
        "plt.ylabel('Accuracy')\n",
        "plt.title(\"Training Loss and Accuracy\")\n",
        "plt.ylabel(\"Loss/Accuracy\")\n",
        "plt.legend()\n",
        "plt.savefig('drive/My Drive/Resultado/' + arquiteture + '.png', bbox_inches='tight')"
      ],
      "execution_count": 0,
      "outputs": [
        {
          "output_type": "display_data",
          "data": {
            "image/png": "[encoded data removed]",
            "text/plain": [
              "<matplotlib.figure.Figure at 0x7f359648ba90>"
            ]
          },
          "metadata": {
            "tags": []
          }
        }
      ]
    },
    {
      "metadata": {
        "colab_type": "code",
        "id": "5LAzY6JfkHLh",
        "outputId": "d9a2ec03-3809-4338-994b-6098a15ab107",
        "colab": {
          "base_uri": "https://localhost:8080/",
          "height": 74
        }
      },
      "cell_type": "code",
      "source": [
        "y_true, y_predict = ler_images_teste(arquiteture)"
      ],
      "execution_count": 0,
      "outputs": [
        {
          "output_type": "stream",
          "text": [
            "/usr/local/lib/python3.6/dist-packages/skimage/transform/_warps.py:84: UserWarning: The default mode, 'constant', will be changed to 'reflect' in skimage 0.15.\n",
            "  warn(\"The default mode, 'constant', will be changed to 'reflect' in \"\n"
          ],
          "name": "stderr"
        }
      ]
    },
    {
      "metadata": {
        "colab_type": "code",
        "id": "8X-QY2SokHLo",
        "outputId": "3b18303c-77ef-41cc-a86e-ca963255f623",
        "colab": {
          "base_uri": "https://localhost:8080/",
          "height": 35
        }
      },
      "cell_type": "code",
      "source": [
        "results[arquiteture] = precision_score(y_true, y_predict, average='binary')\n",
        "print('Test Precision: {:.2f}%'\n",
        "      .format(100 * results[arquiteture]))"
      ],
      "execution_count": 0,
      "outputs": [
        {
          "output_type": "stream",
          "text": [
            "Test Precision: 18.62%\n"
          ],
          "name": "stdout"
        }
      ]
    },
    {
      "metadata": {
        "id": "I_6RPRqZ0ooK",
        "colab_type": "text"
      },
      "cell_type": "markdown",
      "source": [
        "### 10 tentativa Precision: 19.64%"
      ]
    },
    {
      "metadata": {
        "colab_type": "text",
        "id": "drBpwd1s7PE3"
      },
      "cell_type": "markdown",
      "source": [
        "Modelo adaptado do **Lucas Albertins**\n",
        "\n",
        "*   Função **adam** para compilação\n",
        "*   Adicionado mais 2 camadas convolutivas"
      ]
    },
    {
      "metadata": {
        "colab_type": "code",
        "id": "6LGTLObK0u-Y",
        "colab": {}
      },
      "cell_type": "code",
      "source": [
        "from keras.layers import Conv2D, MaxPooling2D, GlobalMaxPooling2D, BatchNormalization\n",
        "from keras.regularizers import l2\n",
        "\n",
        "model = Sequential()\n",
        "\n",
        "model.add(Conv2D(32, (3, 3), activation='relu', kernel_regularizer=l2(1e-4), \n",
        "                 input_shape=(None, None, 3)))\n",
        "model.add(BatchNormalization())\n",
        "model.add(Conv2D(32, (3, 3), activation='relu', kernel_regularizer=l2(1e-4)))\n",
        "model.add(BatchNormalization())\n",
        "model.add(MaxPooling2D((2, 2)))\n",
        "model.add(Dropout(0.25))\n",
        "\n",
        "model.add(Conv2D(64, (3, 3), activation='relu', kernel_regularizer=l2(1e-4)))\n",
        "model.add(BatchNormalization())\n",
        "model.add(Conv2D(64, (3, 3), activation='relu', kernel_regularizer=l2(1e-4)))\n",
        "model.add(BatchNormalization())\n",
        "model.add(MaxPooling2D((2, 2)))\n",
        "model.add(Dropout(0.25))\n",
        "\n",
        "model.add(Conv2D(96, (3, 3),activation='relu', kernel_regularizer=l2(1e-4)))\n",
        "model.add(BatchNormalization())\n",
        "model.add(Conv2D(96, (3, 3),activation='relu', kernel_regularizer=l2(1e-4)))\n",
        "model.add(BatchNormalization())\n",
        "model.add(MaxPooling2D((2, 2)))\n",
        "model.add(Dropout(0.25))\n",
        "\n",
        "model.add(Conv2D(128, (1,1), kernel_regularizer=l2(1e-4)))\n",
        "model.add(GlobalMaxPooling2D())\n",
        "\n",
        "model.add(Dense(256, activation='relu', kernel_regularizer=l2(1e-4)))\n",
        "model.add(Dropout(0.5))\n",
        "model.add(Dense(2, activation='sigmoid', kernel_regularizer=l2(1e-4)))"
      ],
      "execution_count": 0,
      "outputs": []
    },
    {
      "metadata": {
        "colab_type": "code",
        "id": "vB92aUkR0u-p",
        "colab": {}
      },
      "cell_type": "code",
      "source": [
        "model.compile(optimizer='adam', loss='binary_crossentropy', metrics=['accuracy'])"
      ],
      "execution_count": 0,
      "outputs": []
    },
    {
      "metadata": {
        "colab_type": "code",
        "id": "7CD_MICYkLAi",
        "colab": {}
      },
      "cell_type": "code",
      "source": [
        "arquiteture = 'architecture_10'"
      ],
      "execution_count": 0,
      "outputs": []
    },
    {
      "metadata": {
        "colab_type": "code",
        "id": "aGtfVb9qknXd",
        "colab": {}
      },
      "cell_type": "code",
      "source": [
        "checkpointer = ModelCheckpoint(filepath='drive/My Drive/Resultado/weights_' + arquiteture + '.hdf5', verbose=1, save_best_only=True)"
      ],
      "execution_count": 0,
      "outputs": []
    },
    {
      "metadata": {
        "colab_type": "code",
        "id": "mUqvoI5Y7bLp",
        "outputId": "9d2ba9f0-abb2-4da9-8dd7-97b0ae3aeaec",
        "colab": {
          "base_uri": "https://localhost:8080/",
          "height": 3710
        }
      },
      "cell_type": "code",
      "source": [
        "training = model.fit_generator(train_batches, steps_per_epoch=stepsPerEpoche, \n",
        "                   validation_data=validation_batches, validation_steps=validationSteps,\n",
        "                   epochs=50, verbose=2, callbacks=[checkpointer])"
      ],
      "execution_count": 0,
      "outputs": [
        {
          "output_type": "stream",
          "text": [
            "Epoch 1/50\n",
            " - 6s - loss: 1.7492 - acc: 0.5495 - val_loss: 0.6597 - val_acc: 0.6719\n",
            "\n",
            "Epoch 00001: val_loss improved from inf to 0.65970, saving model to drive/My Drive/Resultado/weights_architecture_10.hdf5\n",
            "Epoch 2/50\n",
            " - 1s - loss: 1.0735 - acc: 0.6172 - val_loss: 0.8710 - val_acc: 0.5547\n",
            "\n",
            "Epoch 00002: val_loss did not improve from 0.65970\n",
            "Epoch 3/50\n",
            " - 1s - loss: 1.0488 - acc: 0.6094 - val_loss: 0.9046 - val_acc: 0.3906\n",
            "\n",
            "Epoch 00003: val_loss did not improve from 0.65970\n",
            "Epoch 4/50\n",
            " - 1s - loss: 0.7166 - acc: 0.6979 - val_loss: 1.0135 - val_acc: 0.4844\n",
            "\n",
            "Epoch 00004: val_loss did not improve from 0.65970\n",
            "Epoch 5/50\n",
            " - 1s - loss: 0.6306 - acc: 0.7344 - val_loss: 0.9412 - val_acc: 0.3906\n",
            "\n",
            "Epoch 00005: val_loss did not improve from 0.65970\n",
            "Epoch 6/50\n",
            " - 1s - loss: 0.5290 - acc: 0.7682 - val_loss: 1.0716 - val_acc: 0.3516\n",
            "\n",
            "Epoch 00006: val_loss did not improve from 0.65970\n",
            "Epoch 7/50\n",
            " - 1s - loss: 0.3880 - acc: 0.8698 - val_loss: 0.6960 - val_acc: 0.6250\n",
            "\n",
            "Epoch 00007: val_loss did not improve from 0.65970\n",
            "Epoch 8/50\n",
            " - 1s - loss: 0.3916 - acc: 0.8750 - val_loss: 0.6588 - val_acc: 0.6351\n",
            "\n",
            "Epoch 00008: val_loss improved from 0.65970 to 0.65877, saving model to drive/My Drive/Resultado/weights_architecture_10.hdf5\n",
            "Epoch 9/50\n",
            " - 1s - loss: 0.4216 - acc: 0.8594 - val_loss: 0.6507 - val_acc: 0.6484\n",
            "\n",
            "Epoch 00009: val_loss improved from 0.65877 to 0.65070, saving model to drive/My Drive/Resultado/weights_architecture_10.hdf5\n",
            "Epoch 10/50\n",
            " - 1s - loss: 0.4044 - acc: 0.8594 - val_loss: 0.5701 - val_acc: 0.7656\n",
            "\n",
            "Epoch 00010: val_loss improved from 0.65070 to 0.57007, saving model to drive/My Drive/Resultado/weights_architecture_10.hdf5\n",
            "Epoch 11/50\n",
            " - 1s - loss: 0.3607 - acc: 0.8750 - val_loss: 0.4926 - val_acc: 0.8125\n",
            "\n",
            "Epoch 00011: val_loss improved from 0.57007 to 0.49259, saving model to drive/My Drive/Resultado/weights_architecture_10.hdf5\n",
            "Epoch 12/50\n",
            " - 1s - loss: 0.4420 - acc: 0.8438 - val_loss: 0.4375 - val_acc: 0.8672\n",
            "\n",
            "Epoch 00012: val_loss improved from 0.49259 to 0.43747, saving model to drive/My Drive/Resultado/weights_architecture_10.hdf5\n",
            "Epoch 13/50\n",
            " - 1s - loss: 0.4737 - acc: 0.8229 - val_loss: 0.4639 - val_acc: 0.7812\n",
            "\n",
            "Epoch 00013: val_loss did not improve from 0.43747\n",
            "Epoch 14/50\n",
            " - 1s - loss: 0.4683 - acc: 0.8151 - val_loss: 0.4094 - val_acc: 0.8516\n",
            "\n",
            "Epoch 00014: val_loss improved from 0.43747 to 0.40938, saving model to drive/My Drive/Resultado/weights_architecture_10.hdf5\n",
            "Epoch 15/50\n",
            " - 1s - loss: 0.4613 - acc: 0.7865 - val_loss: 0.4351 - val_acc: 0.8672\n",
            "\n",
            "Epoch 00015: val_loss did not improve from 0.40938\n",
            "Epoch 16/50\n",
            " - 1s - loss: 0.3810 - acc: 0.8698 - val_loss: 0.3772 - val_acc: 0.8594\n",
            "\n",
            "Epoch 00016: val_loss improved from 0.40938 to 0.37723, saving model to drive/My Drive/Resultado/weights_architecture_10.hdf5\n",
            "Epoch 17/50\n",
            " - 1s - loss: 0.4047 - acc: 0.8620 - val_loss: 0.5916 - val_acc: 0.7812\n",
            "\n",
            "Epoch 00017: val_loss did not improve from 0.37723\n",
            "Epoch 18/50\n",
            " - 1s - loss: 0.4342 - acc: 0.8542 - val_loss: 0.3252 - val_acc: 0.8984\n",
            "\n",
            "Epoch 00018: val_loss improved from 0.37723 to 0.32516, saving model to drive/My Drive/Resultado/weights_architecture_10.hdf5\n",
            "Epoch 19/50\n",
            " - 1s - loss: 0.4524 - acc: 0.8796 - val_loss: 0.3961 - val_acc: 0.9141\n",
            "\n",
            "Epoch 00019: val_loss did not improve from 0.32516\n",
            "Epoch 20/50\n",
            " - 1s - loss: 0.3605 - acc: 0.8750 - val_loss: 0.4898 - val_acc: 0.8047\n",
            "\n",
            "Epoch 00020: val_loss did not improve from 0.32516\n",
            "Epoch 21/50\n",
            " - 1s - loss: 0.3865 - acc: 0.8620 - val_loss: 0.3971 - val_acc: 0.8750\n",
            "\n",
            "Epoch 00021: val_loss did not improve from 0.32516\n",
            "Epoch 22/50\n",
            " - 1s - loss: 0.3284 - acc: 0.9036 - val_loss: 0.3473 - val_acc: 0.9141\n",
            "\n",
            "Epoch 00022: val_loss did not improve from 0.32516\n",
            "Epoch 23/50\n",
            " - 1s - loss: 0.2968 - acc: 0.9089 - val_loss: 0.2808 - val_acc: 0.9375\n",
            "\n",
            "Epoch 00023: val_loss improved from 0.32516 to 0.28080, saving model to drive/My Drive/Resultado/weights_architecture_10.hdf5\n",
            "Epoch 24/50\n",
            " - 1s - loss: 0.3454 - acc: 0.9089 - val_loss: 0.2956 - val_acc: 0.9141\n",
            "\n",
            "Epoch 00024: val_loss did not improve from 0.28080\n",
            "Epoch 25/50\n",
            " - 1s - loss: 0.3162 - acc: 0.9193 - val_loss: 0.5863 - val_acc: 0.8359\n",
            "\n",
            "Epoch 00025: val_loss did not improve from 0.28080\n",
            "Epoch 26/50\n",
            " - 1s - loss: 0.2716 - acc: 0.9271 - val_loss: 0.6465 - val_acc: 0.7891\n",
            "\n",
            "Epoch 00026: val_loss did not improve from 0.28080\n",
            "Epoch 27/50\n",
            " - 1s - loss: 0.3310 - acc: 0.8880 - val_loss: 0.2534 - val_acc: 0.9531\n",
            "\n",
            "Epoch 00027: val_loss improved from 0.28080 to 0.25337, saving model to drive/My Drive/Resultado/weights_architecture_10.hdf5\n",
            "Epoch 28/50\n",
            " - 1s - loss: 0.2822 - acc: 0.9089 - val_loss: 0.5810 - val_acc: 0.7891\n",
            "\n",
            "Epoch 00028: val_loss did not improve from 0.25337\n",
            "Epoch 29/50\n",
            " - 1s - loss: 0.3069 - acc: 0.9141 - val_loss: 0.5493 - val_acc: 0.8281\n",
            "\n",
            "Epoch 00029: val_loss did not improve from 0.25337\n",
            "Epoch 30/50\n",
            " - 1s - loss: 0.3667 - acc: 0.8906 - val_loss: 0.5908 - val_acc: 0.7891\n",
            "\n",
            "Epoch 00030: val_loss did not improve from 0.25337\n",
            "Epoch 31/50\n",
            " - 1s - loss: 0.3442 - acc: 0.9062 - val_loss: 1.1059 - val_acc: 0.6562\n",
            "\n",
            "Epoch 00031: val_loss did not improve from 0.25337\n",
            "Epoch 32/50\n",
            " - 1s - loss: 0.2904 - acc: 0.8958 - val_loss: 1.0451 - val_acc: 0.6486\n",
            "\n",
            "Epoch 00032: val_loss did not improve from 0.25337\n",
            "Epoch 33/50\n",
            " - 1s - loss: 0.2985 - acc: 0.9167 - val_loss: 0.8296 - val_acc: 0.7656\n",
            "\n",
            "Epoch 00033: val_loss did not improve from 0.25337\n",
            "Epoch 34/50\n",
            " - 1s - loss: 0.3634 - acc: 0.8698 - val_loss: 0.6121 - val_acc: 0.7734\n",
            "\n",
            "Epoch 00034: val_loss did not improve from 0.25337\n",
            "Epoch 35/50\n",
            " - 1s - loss: 0.2888 - acc: 0.9036 - val_loss: 0.5407 - val_acc: 0.7891\n",
            "\n",
            "Epoch 00035: val_loss did not improve from 0.25337\n",
            "Epoch 36/50\n",
            " - 1s - loss: 0.2958 - acc: 0.9036 - val_loss: 0.6764 - val_acc: 0.8047\n",
            "\n",
            "Epoch 00036: val_loss did not improve from 0.25337\n",
            "Epoch 37/50\n",
            " - 1s - loss: 0.3055 - acc: 0.8984 - val_loss: 0.3954 - val_acc: 0.8750\n",
            "\n",
            "Epoch 00037: val_loss did not improve from 0.25337\n",
            "Epoch 38/50\n",
            " - 1s - loss: 0.3521 - acc: 0.8906 - val_loss: 0.3234 - val_acc: 0.8750\n",
            "\n",
            "Epoch 00038: val_loss did not improve from 0.25337\n",
            "Epoch 39/50\n",
            " - 1s - loss: 0.2546 - acc: 0.9089 - val_loss: 0.3570 - val_acc: 0.8359\n",
            "\n",
            "Epoch 00039: val_loss did not improve from 0.25337\n",
            "Epoch 40/50\n",
            " - 1s - loss: 0.3605 - acc: 0.8724 - val_loss: 0.2578 - val_acc: 0.9219\n",
            "\n",
            "Epoch 00040: val_loss did not improve from 0.25337\n",
            "Epoch 41/50\n",
            " - 1s - loss: 0.3872 - acc: 0.8724 - val_loss: 0.3140 - val_acc: 0.8906\n",
            "\n",
            "Epoch 00041: val_loss did not improve from 0.25337\n",
            "Epoch 42/50\n",
            " - 1s - loss: 0.2981 - acc: 0.9167 - val_loss: 0.4117 - val_acc: 0.8906\n",
            "\n",
            "Epoch 00042: val_loss did not improve from 0.25337\n",
            "Epoch 43/50\n",
            " - 1s - loss: 0.2591 - acc: 0.9193 - val_loss: 0.3318 - val_acc: 0.9062\n",
            "\n",
            "Epoch 00043: val_loss did not improve from 0.25337\n",
            "Epoch 44/50\n",
            " - 1s - loss: 0.2370 - acc: 0.9271 - val_loss: 0.4152 - val_acc: 0.8750\n",
            "\n",
            "Epoch 00044: val_loss did not improve from 0.25337\n",
            "Epoch 45/50\n",
            " - 1s - loss: 0.1951 - acc: 0.9583 - val_loss: 0.6865 - val_acc: 0.7812\n",
            "\n",
            "Epoch 00045: val_loss did not improve from 0.25337\n",
            "Epoch 46/50\n",
            " - 1s - loss: 0.2952 - acc: 0.9167 - val_loss: 0.6142 - val_acc: 0.8125\n",
            "\n",
            "Epoch 00046: val_loss did not improve from 0.25337\n",
            "Epoch 47/50\n",
            " - 1s - loss: 0.3701 - acc: 0.8984 - val_loss: 0.5601 - val_acc: 0.8594\n",
            "\n",
            "Epoch 00047: val_loss did not improve from 0.25337\n",
            "Epoch 48/50\n",
            " - 1s - loss: 0.3135 - acc: 0.9167 - val_loss: 0.3824 - val_acc: 0.8438\n",
            "\n",
            "Epoch 00048: val_loss did not improve from 0.25337\n",
            "Epoch 49/50\n",
            " - 1s - loss: 0.3241 - acc: 0.8940 - val_loss: 0.3194 - val_acc: 0.9062\n",
            "\n",
            "Epoch 00049: val_loss did not improve from 0.25337\n",
            "Epoch 50/50\n",
            " - 1s - loss: 0.3389 - acc: 0.8932 - val_loss: 0.3160 - val_acc: 0.9062\n",
            "\n",
            "Epoch 00050: val_loss did not improve from 0.25337\n"
          ],
          "name": "stdout"
        }
      ]
    },
    {
      "metadata": {
        "colab_type": "code",
        "id": "4mLcVI5OkLAx",
        "outputId": "87d4173f-d645-41f2-d397-f6f354c13f7c",
        "colab": {
          "base_uri": "https://localhost:8080/",
          "height": 380
        }
      },
      "cell_type": "code",
      "source": [
        "# plotar loss e accuracy para os datasets 'train' e 'test'\n",
        "plt.style.use(\"ggplot\")\n",
        "plt.figure()\n",
        "plt.plot(training.history['acc'], label='Accuracy')\n",
        "plt.plot(training.history['loss'], label='Loss')\n",
        "plt.xlabel('Epochs')\n",
        "plt.ylabel('Accuracy')\n",
        "plt.title(\"Training Loss and Accuracy\")\n",
        "plt.ylabel(\"Loss/Accuracy\")\n",
        "plt.legend()\n",
        "plt.savefig('drive/My Drive/Resultado/' + arquiteture + '.png', bbox_inches='tight')"
      ],
      "execution_count": 0,
      "outputs": [
        {
          "output_type": "display_data",
          "data": {
            "image/png": "[encoded data removed]",
            "text/plain": [
              "<matplotlib.figure.Figure at 0x7f359415db70>"
            ]
          },
          "metadata": {
            "tags": []
          }
        }
      ]
    },
    {
      "metadata": {
        "colab_type": "code",
        "id": "MXfjnNaekLA8",
        "outputId": "781b8bb5-c298-419e-e372-d70f8f6ece32",
        "colab": {
          "base_uri": "https://localhost:8080/",
          "height": 74
        }
      },
      "cell_type": "code",
      "source": [
        "y_true, y_predict = ler_images_teste(arquiteture)"
      ],
      "execution_count": 0,
      "outputs": [
        {
          "output_type": "stream",
          "text": [
            "/usr/local/lib/python3.6/dist-packages/skimage/transform/_warps.py:84: UserWarning: The default mode, 'constant', will be changed to 'reflect' in skimage 0.15.\n",
            "  warn(\"The default mode, 'constant', will be changed to 'reflect' in \"\n"
          ],
          "name": "stderr"
        }
      ]
    },
    {
      "metadata": {
        "colab_type": "code",
        "id": "mxweJBcKkLBA",
        "outputId": "04680d21-e8eb-4578-e3e5-9896e2a0383c",
        "colab": {
          "base_uri": "https://localhost:8080/",
          "height": 35
        }
      },
      "cell_type": "code",
      "source": [
        "results[arquiteture] = precision_score(y_true, y_predict, average='binary')\n",
        "print('Test Precision: {:.2f}%'\n",
        "      .format(100 * results[arquiteture]))"
      ],
      "execution_count": 0,
      "outputs": [
        {
          "output_type": "stream",
          "text": [
            "Test Precision: 19.64%\n"
          ],
          "name": "stdout"
        }
      ]
    },
    {
      "metadata": {
        "id": "t-JuICq46CWp",
        "colab_type": "text"
      },
      "cell_type": "markdown",
      "source": [
        "### 11 tentativa Precision: 19.58%"
      ]
    },
    {
      "metadata": {
        "colab_type": "text",
        "id": "MdaiMXVY8RWc"
      },
      "cell_type": "markdown",
      "source": [
        "Modelo adaptado do **Lucas Albertins**\n",
        "\n",
        "*   Função **SGD** para compilação\n",
        "*   Adicionado mais 2 camadas convolutivas"
      ]
    },
    {
      "metadata": {
        "colab_type": "code",
        "id": "vLy1nlhs6HHL",
        "colab": {}
      },
      "cell_type": "code",
      "source": [
        "from keras.layers import Conv2D, MaxPooling2D, GlobalMaxPooling2D, BatchNormalization\n",
        "from keras.regularizers import l2\n",
        "\n",
        "model = Sequential()\n",
        "\n",
        "model.add(Conv2D(32, (3, 3), activation='relu', kernel_regularizer=l2(1e-4), \n",
        "                 input_shape=(None, None, 3)))\n",
        "model.add(BatchNormalization())\n",
        "model.add(Conv2D(32, (3, 3), activation='relu', kernel_regularizer=l2(1e-4)))\n",
        "model.add(BatchNormalization())\n",
        "model.add(MaxPooling2D((2, 2)))\n",
        "model.add(Dropout(0.25))\n",
        "\n",
        "model.add(Conv2D(64, (3, 3), activation='relu', kernel_regularizer=l2(1e-4)))\n",
        "model.add(BatchNormalization())\n",
        "model.add(Conv2D(64, (3, 3), activation='relu', kernel_regularizer=l2(1e-4)))\n",
        "model.add(BatchNormalization())\n",
        "model.add(MaxPooling2D((2, 2)))\n",
        "model.add(Dropout(0.25))\n",
        "\n",
        "model.add(Conv2D(96, (3, 3),activation='relu', kernel_regularizer=l2(1e-4)))\n",
        "model.add(BatchNormalization())\n",
        "model.add(Conv2D(96, (3, 3),activation='relu', kernel_regularizer=l2(1e-4)))\n",
        "model.add(BatchNormalization())\n",
        "model.add(MaxPooling2D((2, 2)))\n",
        "model.add(Dropout(0.25))\n",
        "\n",
        "model.add(Conv2D(128, (1,1), kernel_regularizer=l2(1e-4)))\n",
        "model.add(GlobalMaxPooling2D())\n",
        "\n",
        "model.add(Dense(256, activation='relu', kernel_regularizer=l2(1e-4)))\n",
        "model.add(Dropout(0.5))\n",
        "model.add(Dense(2, activation='sigmoid', kernel_regularizer=l2(1e-4)))"
      ],
      "execution_count": 0,
      "outputs": []
    },
    {
      "metadata": {
        "colab_type": "code",
        "id": "QKpy_s8Z6HHZ",
        "colab": {}
      },
      "cell_type": "code",
      "source": [
        "model.compile(SGD(lr=0.01, momentum=0.0, decay=0.0, nesterov=False), \n",
        "              loss='binary_crossentropy', metrics=['accuracy'])"
      ],
      "execution_count": 0,
      "outputs": []
    },
    {
      "metadata": {
        "colab_type": "code",
        "id": "oGVeMLcZkPCr",
        "colab": {}
      },
      "cell_type": "code",
      "source": [
        "arquiteture = 'architecture_11'"
      ],
      "execution_count": 0,
      "outputs": []
    },
    {
      "metadata": {
        "colab_type": "code",
        "id": "rvsDdCnxkjhS",
        "colab": {}
      },
      "cell_type": "code",
      "source": [
        "checkpointer = ModelCheckpoint(filepath='drive/My Drive/Resultado/weights_' + arquiteture + '.hdf5', verbose=1, save_best_only=True)"
      ],
      "execution_count": 0,
      "outputs": []
    },
    {
      "metadata": {
        "colab_type": "code",
        "id": "KGy9-eyM7t1c",
        "outputId": "6bfaa0a2-bf55-4fc6-9a17-be6a7c72f5bb",
        "colab": {
          "base_uri": "https://localhost:8080/",
          "height": 3710
        }
      },
      "cell_type": "code",
      "source": [
        "training = model.fit_generator(train_batches, steps_per_epoch=stepsPerEpoche, \n",
        "                   validation_data=validation_batches, validation_steps=validationSteps,\n",
        "                   epochs=50, verbose=2, callbacks=[checkpointer])"
      ],
      "execution_count": 0,
      "outputs": [
        {
          "output_type": "stream",
          "text": [
            "Epoch 1/50\n",
            " - 5s - loss: 1.6530 - acc: 0.6094 - val_loss: 0.8869 - val_acc: 0.6216\n",
            "\n",
            "Epoch 00001: val_loss improved from inf to 0.88691, saving model to drive/My Drive/Resultado/weights_architecture_11.hdf5\n",
            "Epoch 2/50\n",
            " - 1s - loss: 1.4449 - acc: 0.5938 - val_loss: 0.7646 - val_acc: 0.5781\n",
            "\n",
            "Epoch 00002: val_loss improved from 0.88691 to 0.76458, saving model to drive/My Drive/Resultado/weights_architecture_11.hdf5\n",
            "Epoch 3/50\n",
            " - 1s - loss: 1.1465 - acc: 0.5964 - val_loss: 0.7964 - val_acc: 0.5391\n",
            "\n",
            "Epoch 00003: val_loss did not improve from 0.76458\n",
            "Epoch 4/50\n",
            " - 1s - loss: 1.1448 - acc: 0.5781 - val_loss: 0.7279 - val_acc: 0.5156\n",
            "\n",
            "Epoch 00004: val_loss improved from 0.76458 to 0.72792, saving model to drive/My Drive/Resultado/weights_architecture_11.hdf5\n",
            "Epoch 5/50\n",
            " - 1s - loss: 0.9168 - acc: 0.6250 - val_loss: 0.8794 - val_acc: 0.4766\n",
            "\n",
            "Epoch 00005: val_loss did not improve from 0.72792\n",
            "Epoch 6/50\n",
            " - 1s - loss: 0.8169 - acc: 0.6042 - val_loss: 0.9099 - val_acc: 0.5391\n",
            "\n",
            "Epoch 00006: val_loss did not improve from 0.72792\n",
            "Epoch 7/50\n",
            " - 1s - loss: 0.7605 - acc: 0.6589 - val_loss: 0.6722 - val_acc: 0.7031\n",
            "\n",
            "Epoch 00007: val_loss improved from 0.72792 to 0.67217, saving model to drive/My Drive/Resultado/weights_architecture_11.hdf5\n",
            "Epoch 8/50\n",
            " - 1s - loss: 0.6794 - acc: 0.6979 - val_loss: 0.6762 - val_acc: 0.7578\n",
            "\n",
            "Epoch 00008: val_loss did not improve from 0.67217\n",
            "Epoch 9/50\n",
            " - 1s - loss: 0.5646 - acc: 0.7474 - val_loss: 0.6615 - val_acc: 0.6328\n",
            "\n",
            "Epoch 00009: val_loss improved from 0.67217 to 0.66152, saving model to drive/My Drive/Resultado/weights_architecture_11.hdf5\n",
            "Epoch 10/50\n",
            " - 1s - loss: 0.5967 - acc: 0.7422 - val_loss: 0.6775 - val_acc: 0.6562\n",
            "\n",
            "Epoch 00010: val_loss did not improve from 0.66152\n",
            "Epoch 11/50\n",
            " - 1s - loss: 0.6177 - acc: 0.7214 - val_loss: 0.5393 - val_acc: 0.8203\n",
            "\n",
            "Epoch 00011: val_loss improved from 0.66152 to 0.53926, saving model to drive/My Drive/Resultado/weights_architecture_11.hdf5\n",
            "Epoch 12/50\n",
            " - 1s - loss: 0.6481 - acc: 0.7344 - val_loss: 0.5691 - val_acc: 0.7656\n",
            "\n",
            "Epoch 00012: val_loss did not improve from 0.53926\n",
            "Epoch 13/50\n",
            " - 1s - loss: 0.5830 - acc: 0.7396 - val_loss: 0.6428 - val_acc: 0.6953\n",
            "\n",
            "Epoch 00013: val_loss did not improve from 0.53926\n",
            "Epoch 14/50\n",
            " - 1s - loss: 0.4973 - acc: 0.7969 - val_loss: 0.5480 - val_acc: 0.7812\n",
            "\n",
            "Epoch 00014: val_loss did not improve from 0.53926\n",
            "Epoch 15/50\n",
            " - 1s - loss: 0.5757 - acc: 0.7344 - val_loss: 0.6534 - val_acc: 0.6719\n",
            "\n",
            "Epoch 00015: val_loss did not improve from 0.53926\n",
            "Epoch 16/50\n",
            " - 1s - loss: 0.5510 - acc: 0.7812 - val_loss: 0.5834 - val_acc: 0.7266\n",
            "\n",
            "Epoch 00016: val_loss did not improve from 0.53926\n",
            "Epoch 17/50\n",
            " - 1s - loss: 0.6082 - acc: 0.7448 - val_loss: 0.6580 - val_acc: 0.7500\n",
            "\n",
            "Epoch 00017: val_loss did not improve from 0.53926\n",
            "Epoch 18/50\n",
            " - 1s - loss: 0.4663 - acc: 0.8047 - val_loss: 0.6129 - val_acc: 0.6562\n",
            "\n",
            "Epoch 00018: val_loss did not improve from 0.53926\n",
            "Epoch 19/50\n",
            " - 1s - loss: 0.6526 - acc: 0.7188 - val_loss: 0.5804 - val_acc: 0.7109\n",
            "\n",
            "Epoch 00019: val_loss did not improve from 0.53926\n",
            "Epoch 20/50\n",
            " - 1s - loss: 0.4893 - acc: 0.8177 - val_loss: 0.6168 - val_acc: 0.7109\n",
            "\n",
            "Epoch 00020: val_loss did not improve from 0.53926\n",
            "Epoch 21/50\n",
            " - 1s - loss: 0.4966 - acc: 0.7865 - val_loss: 0.5471 - val_acc: 0.6953\n",
            "\n",
            "Epoch 00021: val_loss did not improve from 0.53926\n",
            "Epoch 22/50\n",
            " - 1s - loss: 0.4166 - acc: 0.8854 - val_loss: 0.5966 - val_acc: 0.6875\n",
            "\n",
            "Epoch 00022: val_loss did not improve from 0.53926\n",
            "Epoch 23/50\n",
            " - 1s - loss: 0.4562 - acc: 0.8177 - val_loss: 0.6750 - val_acc: 0.7031\n",
            "\n",
            "Epoch 00023: val_loss did not improve from 0.53926\n",
            "Epoch 24/50\n",
            " - 1s - loss: 0.4622 - acc: 0.8307 - val_loss: 0.6090 - val_acc: 0.6953\n",
            "\n",
            "Epoch 00024: val_loss did not improve from 0.53926\n",
            "Epoch 25/50\n",
            " - 1s - loss: 0.3848 - acc: 0.8750 - val_loss: 0.8089 - val_acc: 0.6351\n",
            "\n",
            "Epoch 00025: val_loss did not improve from 0.53926\n",
            "Epoch 26/50\n",
            " - 1s - loss: 0.4089 - acc: 0.8672 - val_loss: 0.5419 - val_acc: 0.7891\n",
            "\n",
            "Epoch 00026: val_loss did not improve from 0.53926\n",
            "Epoch 27/50\n",
            " - 1s - loss: 0.4790 - acc: 0.8255 - val_loss: 0.6404 - val_acc: 0.6875\n",
            "\n",
            "Epoch 00027: val_loss did not improve from 0.53926\n",
            "Epoch 28/50\n",
            " - 1s - loss: 0.5301 - acc: 0.7948 - val_loss: 0.5324 - val_acc: 0.7344\n",
            "\n",
            "Epoch 00028: val_loss improved from 0.53926 to 0.53239, saving model to drive/My Drive/Resultado/weights_architecture_11.hdf5\n",
            "Epoch 29/50\n",
            " - 1s - loss: 0.4517 - acc: 0.8099 - val_loss: 0.3912 - val_acc: 0.8906\n",
            "\n",
            "Epoch 00029: val_loss improved from 0.53239 to 0.39117, saving model to drive/My Drive/Resultado/weights_architecture_11.hdf5\n",
            "Epoch 30/50\n",
            " - 1s - loss: 0.5496 - acc: 0.7604 - val_loss: 0.3659 - val_acc: 0.8750\n",
            "\n",
            "Epoch 00030: val_loss improved from 0.39117 to 0.36588, saving model to drive/My Drive/Resultado/weights_architecture_11.hdf5\n",
            "Epoch 31/50\n",
            " - 1s - loss: 0.4037 - acc: 0.8646 - val_loss: 0.3236 - val_acc: 0.9062\n",
            "\n",
            "Epoch 00031: val_loss improved from 0.36588 to 0.32365, saving model to drive/My Drive/Resultado/weights_architecture_11.hdf5\n",
            "Epoch 32/50\n",
            " - 1s - loss: 0.4352 - acc: 0.8333 - val_loss: 0.3903 - val_acc: 0.8438\n",
            "\n",
            "Epoch 00032: val_loss did not improve from 0.32365\n",
            "Epoch 33/50\n",
            " - 1s - loss: 0.3805 - acc: 0.8880 - val_loss: 0.4043 - val_acc: 0.8828\n",
            "\n",
            "Epoch 00033: val_loss did not improve from 0.32365\n",
            "Epoch 34/50\n",
            " - 1s - loss: 0.3872 - acc: 0.8750 - val_loss: 0.4060 - val_acc: 0.8203\n",
            "\n",
            "Epoch 00034: val_loss did not improve from 0.32365\n",
            "Epoch 35/50\n",
            " - 1s - loss: 0.3767 - acc: 0.8516 - val_loss: 0.3607 - val_acc: 0.8906\n",
            "\n",
            "Epoch 00035: val_loss did not improve from 0.32365\n",
            "Epoch 36/50\n",
            " - 1s - loss: 0.3685 - acc: 0.8776 - val_loss: 0.4880 - val_acc: 0.7969\n",
            "\n",
            "Epoch 00036: val_loss did not improve from 0.32365\n",
            "Epoch 37/50\n",
            " - 1s - loss: 0.4029 - acc: 0.8568 - val_loss: 0.5079 - val_acc: 0.8281\n",
            "\n",
            "Epoch 00037: val_loss did not improve from 0.32365\n",
            "Epoch 38/50\n",
            " - 1s - loss: 0.3945 - acc: 0.8646 - val_loss: 0.3683 - val_acc: 0.8750\n",
            "\n",
            "Epoch 00038: val_loss did not improve from 0.32365\n",
            "Epoch 39/50\n",
            " - 1s - loss: 0.4120 - acc: 0.8724 - val_loss: 0.3007 - val_acc: 0.8984\n",
            "\n",
            "Epoch 00039: val_loss improved from 0.32365 to 0.30071, saving model to drive/My Drive/Resultado/weights_architecture_11.hdf5\n",
            "Epoch 40/50\n",
            " - 1s - loss: 0.3602 - acc: 0.8958 - val_loss: 0.3377 - val_acc: 0.9141\n",
            "\n",
            "Epoch 00040: val_loss did not improve from 0.30071\n",
            "Epoch 41/50\n",
            " - 1s - loss: 0.3306 - acc: 0.8906 - val_loss: 0.3614 - val_acc: 0.8750\n",
            "\n",
            "Epoch 00041: val_loss did not improve from 0.30071\n",
            "Epoch 42/50\n",
            " - 1s - loss: 0.3850 - acc: 0.8698 - val_loss: 0.5192 - val_acc: 0.8047\n",
            "\n",
            "Epoch 00042: val_loss did not improve from 0.30071\n",
            "Epoch 43/50\n",
            " - 1s - loss: 0.3011 - acc: 0.8932 - val_loss: 0.3765 - val_acc: 0.8516\n",
            "\n",
            "Epoch 00043: val_loss did not improve from 0.30071\n",
            "Epoch 44/50\n",
            " - 1s - loss: 0.3533 - acc: 0.8802 - val_loss: 0.4262 - val_acc: 0.8047\n",
            "\n",
            "Epoch 00044: val_loss did not improve from 0.30071\n",
            "Epoch 45/50\n",
            " - 1s - loss: 0.3662 - acc: 0.8620 - val_loss: 0.4598 - val_acc: 0.7578\n",
            "\n",
            "Epoch 00045: val_loss did not improve from 0.30071\n",
            "Epoch 46/50\n",
            " - 1s - loss: 0.3500 - acc: 0.8958 - val_loss: 0.4770 - val_acc: 0.7266\n",
            "\n",
            "Epoch 00046: val_loss did not improve from 0.30071\n",
            "Epoch 47/50\n",
            " - 1s - loss: 0.3766 - acc: 0.8646 - val_loss: 0.2840 - val_acc: 0.9062\n",
            "\n",
            "Epoch 00047: val_loss improved from 0.30071 to 0.28395, saving model to drive/My Drive/Resultado/weights_architecture_11.hdf5\n",
            "Epoch 48/50\n",
            " - 1s - loss: 0.2982 - acc: 0.9245 - val_loss: 0.3076 - val_acc: 0.9375\n",
            "\n",
            "Epoch 00048: val_loss did not improve from 0.28395\n",
            "Epoch 49/50\n",
            " - 1s - loss: 0.4350 - acc: 0.8385 - val_loss: 0.3545 - val_acc: 0.9054\n",
            "\n",
            "Epoch 00049: val_loss did not improve from 0.28395\n",
            "Epoch 50/50\n",
            " - 1s - loss: 0.3208 - acc: 0.9193 - val_loss: 0.3307 - val_acc: 0.8828\n",
            "\n",
            "Epoch 00050: val_loss did not improve from 0.28395\n"
          ],
          "name": "stdout"
        }
      ]
    },
    {
      "metadata": {
        "colab_type": "code",
        "id": "n6AWbI6ikPC5",
        "outputId": "b444f4bc-4502-493c-a477-ca0005b85fdf",
        "colab": {
          "base_uri": "https://localhost:8080/",
          "height": 380
        }
      },
      "cell_type": "code",
      "source": [
        "# plotar loss e accuracy para os datasets 'train' e 'test'\n",
        "plt.style.use(\"ggplot\")\n",
        "plt.figure()\n",
        "plt.plot(training.history['acc'], label='Accuracy')\n",
        "plt.plot(training.history['loss'], label='Loss')\n",
        "plt.xlabel('Epochs')\n",
        "plt.ylabel('Accuracy')\n",
        "plt.title(\"Training Loss and Accuracy\")\n",
        "plt.ylabel(\"Loss/Accuracy\")\n",
        "plt.legend()\n",
        "plt.savefig('drive/My Drive/Resultado/' + arquiteture + '.png', bbox_inches='tight')"
      ],
      "execution_count": 0,
      "outputs": [
        {
          "output_type": "display_data",
          "data": {
            "image/png": "[encoded data removed]",
            "text/plain": [
              "<matplotlib.figure.Figure at 0x7f3592fa9438>"
            ]
          },
          "metadata": {
            "tags": []
          }
        }
      ]
    },
    {
      "metadata": {
        "colab_type": "code",
        "id": "SspLcUTBkPDF",
        "outputId": "8a5e44c4-6280-4234-85e5-395664479987",
        "colab": {
          "base_uri": "https://localhost:8080/",
          "height": 74
        }
      },
      "cell_type": "code",
      "source": [
        "y_true, y_predict = ler_images_teste(arquiteture)"
      ],
      "execution_count": 0,
      "outputs": [
        {
          "output_type": "stream",
          "text": [
            "/usr/local/lib/python3.6/dist-packages/skimage/transform/_warps.py:84: UserWarning: The default mode, 'constant', will be changed to 'reflect' in skimage 0.15.\n",
            "  warn(\"The default mode, 'constant', will be changed to 'reflect' in \"\n"
          ],
          "name": "stderr"
        }
      ]
    },
    {
      "metadata": {
        "colab_type": "code",
        "id": "ppoXzpt-kPDO",
        "outputId": "826d0bbf-86cb-40cd-ba26-f1d0068adc0f",
        "colab": {
          "base_uri": "https://localhost:8080/",
          "height": 35
        }
      },
      "cell_type": "code",
      "source": [
        "results[arquiteture] = precision_score(y_true, y_predict, average='binary')\n",
        "print('Test Precision: {:.2f}%'\n",
        "      .format(100 * results[arquiteture]))"
      ],
      "execution_count": 0,
      "outputs": [
        {
          "output_type": "stream",
          "text": [
            "Test Precision: 19.58%\n"
          ],
          "name": "stdout"
        }
      ]
    },
    {
      "metadata": {
        "id": "26BCkdp9MAna",
        "colab_type": "text"
      },
      "cell_type": "markdown",
      "source": [
        "### 12 tentativa Precision: 19.64%"
      ]
    },
    {
      "metadata": {
        "colab_type": "text",
        "id": "MLvKG40a84F9"
      },
      "cell_type": "markdown",
      "source": [
        "Modelo adaptado do **Lucas Albertins**\n",
        "\n",
        "*   Sem utilização das funções de regularização\n",
        "*   Função **SGD** para compilação\n",
        "*   Adicionado mais 2 camadas convolutivas"
      ]
    },
    {
      "metadata": {
        "colab_type": "code",
        "id": "9LrDSy5AMFDO",
        "colab": {}
      },
      "cell_type": "code",
      "source": [
        "from keras.layers import Conv2D, MaxPooling2D, GlobalMaxPooling2D, BatchNormalization\n",
        "from keras.regularizers import l2\n",
        "\n",
        "model = Sequential()\n",
        "\n",
        "model.add(Conv2D(32, (3, 3), activation='relu',input_shape=(None, None, 3)))\n",
        "model.add(BatchNormalization())\n",
        "model.add(Conv2D(32, (3, 3), activation='relu'))\n",
        "model.add(BatchNormalization())\n",
        "model.add(MaxPooling2D((2, 2)))\n",
        "model.add(Dropout(0.25))\n",
        "\n",
        "model.add(Conv2D(64, (3, 3), activation='relu'))\n",
        "model.add(BatchNormalization())\n",
        "model.add(Conv2D(64, (3, 3), activation='relu'))\n",
        "model.add(BatchNormalization())\n",
        "model.add(MaxPooling2D((2, 2)))\n",
        "model.add(Dropout(0.25))\n",
        "\n",
        "model.add(Conv2D(96, (3, 3),activation='relu'))\n",
        "model.add(BatchNormalization())\n",
        "model.add(Conv2D(96, (3, 3),activation='relu'))\n",
        "model.add(BatchNormalization())\n",
        "model.add(MaxPooling2D((2, 2)))\n",
        "model.add(Dropout(0.25))\n",
        "\n",
        "model.add(Conv2D(128, (1,1)))\n",
        "model.add(GlobalMaxPooling2D())\n",
        "\n",
        "model.add(Dense(256, activation='relu'))\n",
        "model.add(Dropout(0.5))\n",
        "model.add(Dense(2, activation='sigmoid'))"
      ],
      "execution_count": 0,
      "outputs": []
    },
    {
      "metadata": {
        "colab_type": "code",
        "id": "EUZ-2eyUMSxQ",
        "colab": {}
      },
      "cell_type": "code",
      "source": [
        "model.compile(SGD(lr=0.01, momentum=0.0, decay=0.0, nesterov=False), \n",
        "              loss='binary_crossentropy', metrics=['accuracy'])"
      ],
      "execution_count": 0,
      "outputs": []
    },
    {
      "metadata": {
        "colab_type": "code",
        "id": "-_TE6KwakRoT",
        "colab": {}
      },
      "cell_type": "code",
      "source": [
        "arquiteture = 'architecture_12'"
      ],
      "execution_count": 0,
      "outputs": []
    },
    {
      "metadata": {
        "colab_type": "code",
        "id": "t9LJH3RP9H7J",
        "colab": {}
      },
      "cell_type": "code",
      "source": [
        "checkpointer = ModelCheckpoint(filepath='drive/My Drive/Resultado/weights_' + arquiteture + '.hdf5', verbose=1, save_best_only=True)"
      ],
      "execution_count": 0,
      "outputs": []
    },
    {
      "metadata": {
        "colab_type": "code",
        "id": "nnQVNSzq9H7S",
        "outputId": "0c67ccdc-41da-40a5-db1b-2257aa067fe8",
        "colab": {
          "base_uri": "https://localhost:8080/",
          "height": 3710
        }
      },
      "cell_type": "code",
      "source": [
        "training = model.fit_generator(train_batches, steps_per_epoch=stepsPerEpoche, \n",
        "                   validation_data=validation_batches, validation_steps=validationSteps,\n",
        "                   epochs=50, verbose=2, callbacks=[checkpointer])"
      ],
      "execution_count": 0,
      "outputs": [
        {
          "output_type": "stream",
          "text": [
            "Epoch 1/50\n",
            " - 6s - loss: 1.6909 - acc: 0.5052 - val_loss: 0.8028 - val_acc: 0.4766\n",
            "\n",
            "Epoch 00001: val_loss improved from inf to 0.80285, saving model to drive/My Drive/Resultado/weights_architecture_12.hdf5\n",
            "Epoch 2/50\n",
            " - 1s - loss: 1.1832 - acc: 0.5755 - val_loss: 0.7011 - val_acc: 0.6172\n",
            "\n",
            "Epoch 00002: val_loss improved from 0.80285 to 0.70112, saving model to drive/My Drive/Resultado/weights_architecture_12.hdf5\n",
            "Epoch 3/50\n",
            " - 1s - loss: 1.0629 - acc: 0.6198 - val_loss: 0.7831 - val_acc: 0.4219\n",
            "\n",
            "Epoch 00003: val_loss did not improve from 0.70112\n",
            "Epoch 4/50\n",
            " - 1s - loss: 0.9439 - acc: 0.5990 - val_loss: 0.6420 - val_acc: 0.6797\n",
            "\n",
            "Epoch 00004: val_loss improved from 0.70112 to 0.64199, saving model to drive/My Drive/Resultado/weights_architecture_12.hdf5\n",
            "Epoch 5/50\n",
            " - 1s - loss: 0.7203 - acc: 0.6406 - val_loss: 0.6314 - val_acc: 0.6094\n",
            "\n",
            "Epoch 00005: val_loss improved from 0.64199 to 0.63144, saving model to drive/My Drive/Resultado/weights_architecture_12.hdf5\n",
            "Epoch 6/50\n",
            " - 1s - loss: 0.5829 - acc: 0.7109 - val_loss: 0.6925 - val_acc: 0.6016\n",
            "\n",
            "Epoch 00006: val_loss did not improve from 0.63144\n",
            "Epoch 7/50\n",
            " - 1s - loss: 0.5950 - acc: 0.7465 - val_loss: 0.6545 - val_acc: 0.6562\n",
            "\n",
            "Epoch 00007: val_loss did not improve from 0.63144\n",
            "Epoch 8/50\n",
            " - 1s - loss: 0.7132 - acc: 0.6823 - val_loss: 0.4517 - val_acc: 0.8203\n",
            "\n",
            "Epoch 00008: val_loss improved from 0.63144 to 0.45169, saving model to drive/My Drive/Resultado/weights_architecture_12.hdf5\n",
            "Epoch 9/50\n",
            " - 1s - loss: 0.5572 - acc: 0.7135 - val_loss: 0.4302 - val_acc: 0.7734\n",
            "\n",
            "Epoch 00009: val_loss improved from 0.45169 to 0.43019, saving model to drive/My Drive/Resultado/weights_architecture_12.hdf5\n",
            "Epoch 10/50\n",
            " - 1s - loss: 0.4237 - acc: 0.8099 - val_loss: 0.4402 - val_acc: 0.8203\n",
            "\n",
            "Epoch 00010: val_loss did not improve from 0.43019\n",
            "Epoch 11/50\n",
            " - 1s - loss: 0.5500 - acc: 0.7630 - val_loss: 0.5644 - val_acc: 0.8047\n",
            "\n",
            "Epoch 00011: val_loss did not improve from 0.43019\n",
            "Epoch 12/50\n",
            " - 1s - loss: 0.5084 - acc: 0.7526 - val_loss: 0.3840 - val_acc: 0.9219\n",
            "\n",
            "Epoch 00012: val_loss improved from 0.43019 to 0.38400, saving model to drive/My Drive/Resultado/weights_architecture_12.hdf5\n",
            "Epoch 13/50\n",
            " - 1s - loss: 0.3758 - acc: 0.8307 - val_loss: 0.4277 - val_acc: 0.7891\n",
            "\n",
            "Epoch 00013: val_loss did not improve from 0.38400\n",
            "Epoch 14/50\n",
            " - 1s - loss: 0.4136 - acc: 0.8073 - val_loss: 0.4050 - val_acc: 0.8750\n",
            "\n",
            "Epoch 00014: val_loss did not improve from 0.38400\n",
            "Epoch 15/50\n",
            " - 1s - loss: 0.4829 - acc: 0.8099 - val_loss: 0.3714 - val_acc: 0.8359\n",
            "\n",
            "Epoch 00015: val_loss improved from 0.38400 to 0.37137, saving model to drive/My Drive/Resultado/weights_architecture_12.hdf5\n",
            "Epoch 16/50\n",
            " - 1s - loss: 0.4245 - acc: 0.8359 - val_loss: 0.4434 - val_acc: 0.8281\n",
            "\n",
            "Epoch 00016: val_loss did not improve from 0.37137\n",
            "Epoch 17/50\n",
            " - 1s - loss: 0.4340 - acc: 0.7839 - val_loss: 0.4107 - val_acc: 0.8359\n",
            "\n",
            "Epoch 00017: val_loss did not improve from 0.37137\n",
            "Epoch 18/50\n",
            " - 1s - loss: 0.4208 - acc: 0.8203 - val_loss: 0.4799 - val_acc: 0.8378\n",
            "\n",
            "Epoch 00018: val_loss did not improve from 0.37137\n",
            "Epoch 19/50\n",
            " - 1s - loss: 0.4159 - acc: 0.8177 - val_loss: 0.3486 - val_acc: 0.8750\n",
            "\n",
            "Epoch 00019: val_loss improved from 0.37137 to 0.34855, saving model to drive/My Drive/Resultado/weights_architecture_12.hdf5\n",
            "Epoch 20/50\n",
            " - 1s - loss: 0.4273 - acc: 0.7995 - val_loss: 0.3154 - val_acc: 0.8984\n",
            "\n",
            "Epoch 00020: val_loss improved from 0.34855 to 0.31537, saving model to drive/My Drive/Resultado/weights_architecture_12.hdf5\n",
            "Epoch 21/50\n",
            " - 1s - loss: 0.4294 - acc: 0.8125 - val_loss: 0.2987 - val_acc: 0.9531\n",
            "\n",
            "Epoch 00021: val_loss improved from 0.31537 to 0.29869, saving model to drive/My Drive/Resultado/weights_architecture_12.hdf5\n",
            "Epoch 22/50\n",
            " - 1s - loss: 0.4503 - acc: 0.7995 - val_loss: 0.4683 - val_acc: 0.8203\n",
            "\n",
            "Epoch 00022: val_loss did not improve from 0.29869\n",
            "Epoch 23/50\n",
            " - 1s - loss: 0.4539 - acc: 0.8151 - val_loss: 0.3971 - val_acc: 0.9062\n",
            "\n",
            "Epoch 00023: val_loss did not improve from 0.29869\n",
            "Epoch 24/50\n",
            " - 1s - loss: 0.3230 - acc: 0.8542 - val_loss: 0.3927 - val_acc: 0.8672\n",
            "\n",
            "Epoch 00024: val_loss did not improve from 0.29869\n",
            "Epoch 25/50\n",
            " - 1s - loss: 0.3934 - acc: 0.8542 - val_loss: 0.4397 - val_acc: 0.7656\n",
            "\n",
            "Epoch 00025: val_loss did not improve from 0.29869\n",
            "Epoch 26/50\n",
            " - 1s - loss: 0.3777 - acc: 0.8385 - val_loss: 0.5992 - val_acc: 0.6797\n",
            "\n",
            "Epoch 00026: val_loss did not improve from 0.29869\n",
            "Epoch 27/50\n",
            " - 1s - loss: 0.3710 - acc: 0.8594 - val_loss: 0.5614 - val_acc: 0.7266\n",
            "\n",
            "Epoch 00027: val_loss did not improve from 0.29869\n",
            "Epoch 28/50\n",
            " - 1s - loss: 0.3429 - acc: 0.8594 - val_loss: 0.4959 - val_acc: 0.7656\n",
            "\n",
            "Epoch 00028: val_loss did not improve from 0.29869\n",
            "Epoch 29/50\n",
            " - 1s - loss: 0.3654 - acc: 0.8333 - val_loss: 0.4143 - val_acc: 0.8125\n",
            "\n",
            "Epoch 00029: val_loss did not improve from 0.29869\n",
            "Epoch 30/50\n",
            " - 1s - loss: 0.3600 - acc: 0.8229 - val_loss: 0.5039 - val_acc: 0.6953\n",
            "\n",
            "Epoch 00030: val_loss did not improve from 0.29869\n",
            "Epoch 31/50\n",
            " - 1s - loss: 0.4403 - acc: 0.8359 - val_loss: 0.4164 - val_acc: 0.7969\n",
            "\n",
            "Epoch 00031: val_loss did not improve from 0.29869\n",
            "Epoch 32/50\n",
            " - 1s - loss: 0.3026 - acc: 0.8880 - val_loss: 0.4479 - val_acc: 0.8438\n",
            "\n",
            "Epoch 00032: val_loss did not improve from 0.29869\n",
            "Epoch 33/50\n",
            " - 1s - loss: 0.2964 - acc: 0.9036 - val_loss: 0.5582 - val_acc: 0.6953\n",
            "\n",
            "Epoch 00033: val_loss did not improve from 0.29869\n",
            "Epoch 34/50\n",
            " - 1s - loss: 0.4124 - acc: 0.8333 - val_loss: 0.3419 - val_acc: 0.8750\n",
            "\n",
            "Epoch 00034: val_loss did not improve from 0.29869\n",
            "Epoch 35/50\n",
            " - 1s - loss: 0.3492 - acc: 0.8464 - val_loss: 0.4058 - val_acc: 0.8047\n",
            "\n",
            "Epoch 00035: val_loss did not improve from 0.29869\n",
            "Epoch 36/50\n",
            " - 1s - loss: 0.3792 - acc: 0.8568 - val_loss: 0.6284 - val_acc: 0.6484\n",
            "\n",
            "Epoch 00036: val_loss did not improve from 0.29869\n",
            "Epoch 37/50\n",
            " - 1s - loss: 0.3682 - acc: 0.8505 - val_loss: 0.3982 - val_acc: 0.8672\n",
            "\n",
            "Epoch 00037: val_loss did not improve from 0.29869\n",
            "Epoch 38/50\n",
            " - 1s - loss: 0.3526 - acc: 0.8698 - val_loss: 0.4013 - val_acc: 0.8438\n",
            "\n",
            "Epoch 00038: val_loss did not improve from 0.29869\n",
            "Epoch 39/50\n",
            " - 1s - loss: 0.3919 - acc: 0.8359 - val_loss: 0.3859 - val_acc: 0.8828\n",
            "\n",
            "Epoch 00039: val_loss did not improve from 0.29869\n",
            "Epoch 40/50\n",
            " - 1s - loss: 0.3151 - acc: 0.8932 - val_loss: 0.3290 - val_acc: 0.8359\n",
            "\n",
            "Epoch 00040: val_loss did not improve from 0.29869\n",
            "Epoch 41/50\n",
            " - 1s - loss: 0.3752 - acc: 0.8464 - val_loss: 0.3723 - val_acc: 0.7656\n",
            "\n",
            "Epoch 00041: val_loss did not improve from 0.29869\n",
            "Epoch 42/50\n",
            " - 1s - loss: 0.2892 - acc: 0.8906 - val_loss: 0.4446 - val_acc: 0.8649\n",
            "\n",
            "Epoch 00042: val_loss did not improve from 0.29869\n",
            "Epoch 43/50\n",
            " - 1s - loss: 0.4329 - acc: 0.8568 - val_loss: 0.3254 - val_acc: 0.8906\n",
            "\n",
            "Epoch 00043: val_loss did not improve from 0.29869\n",
            "Epoch 44/50\n",
            " - 1s - loss: 0.2914 - acc: 0.9010 - val_loss: 0.2887 - val_acc: 0.8906\n",
            "\n",
            "Epoch 00044: val_loss improved from 0.29869 to 0.28866, saving model to drive/My Drive/Resultado/weights_architecture_12.hdf5\n",
            "Epoch 45/50\n",
            " - 1s - loss: 0.2938 - acc: 0.8984 - val_loss: 0.4936 - val_acc: 0.7734\n",
            "\n",
            "Epoch 00045: val_loss did not improve from 0.28866\n",
            "Epoch 46/50\n",
            " - 1s - loss: 0.3675 - acc: 0.8490 - val_loss: 0.3072 - val_acc: 0.8750\n",
            "\n",
            "Epoch 00046: val_loss did not improve from 0.28866\n",
            "Epoch 47/50\n",
            " - 1s - loss: 0.3171 - acc: 0.8854 - val_loss: 0.3121 - val_acc: 0.9141\n",
            "\n",
            "Epoch 00047: val_loss did not improve from 0.28866\n",
            "Epoch 48/50\n",
            " - 1s - loss: 0.2896 - acc: 0.8854 - val_loss: 0.3429 - val_acc: 0.8594\n",
            "\n",
            "Epoch 00048: val_loss did not improve from 0.28866\n",
            "Epoch 49/50\n",
            " - 1s - loss: 0.2623 - acc: 0.9089 - val_loss: 0.3571 - val_acc: 0.8438\n",
            "\n",
            "Epoch 00049: val_loss did not improve from 0.28866\n",
            "Epoch 50/50\n",
            " - 1s - loss: 0.3522 - acc: 0.8411 - val_loss: 0.2717 - val_acc: 0.9453\n",
            "\n",
            "Epoch 00050: val_loss improved from 0.28866 to 0.27169, saving model to drive/My Drive/Resultado/weights_architecture_12.hdf5\n"
          ],
          "name": "stdout"
        }
      ]
    },
    {
      "metadata": {
        "colab_type": "code",
        "id": "5Z2o5TCGkRoi",
        "outputId": "34c980d2-a130-4318-cfa7-b8b2f162c7c8",
        "colab": {
          "base_uri": "https://localhost:8080/",
          "height": 380
        }
      },
      "cell_type": "code",
      "source": [
        "# plotar loss e accuracy para os datasets 'train' e 'test'\n",
        "plt.style.use(\"ggplot\")\n",
        "plt.figure()\n",
        "plt.plot(training.history['acc'], label='Accuracy')\n",
        "plt.plot(training.history['loss'], label='Loss')\n",
        "plt.xlabel('Epochs')\n",
        "plt.ylabel('Accuracy')\n",
        "plt.title(\"Training Loss and Accuracy\")\n",
        "plt.ylabel(\"Loss/Accuracy\")\n",
        "plt.legend()\n",
        "plt.savefig('drive/My Drive/Resultado/' + arquiteture + '.png', bbox_inches='tight')"
      ],
      "execution_count": 0,
      "outputs": [
        {
          "output_type": "display_data",
          "data": {
            "image/png": "[encoded data removed]",
            "text/plain": [
              "<matplotlib.figure.Figure at 0x7f359106fba8>"
            ]
          },
          "metadata": {
            "tags": []
          }
        }
      ]
    },
    {
      "metadata": {
        "colab_type": "code",
        "id": "gNjIuvcfkRou",
        "outputId": "cf9b1a66-3905-4d4c-b33f-a61986f3cda5",
        "colab": {
          "base_uri": "https://localhost:8080/",
          "height": 74
        }
      },
      "cell_type": "code",
      "source": [
        "y_true, y_predict = ler_images_teste(arquiteture)"
      ],
      "execution_count": 0,
      "outputs": [
        {
          "output_type": "stream",
          "text": [
            "/usr/local/lib/python3.6/dist-packages/skimage/transform/_warps.py:84: UserWarning: The default mode, 'constant', will be changed to 'reflect' in skimage 0.15.\n",
            "  warn(\"The default mode, 'constant', will be changed to 'reflect' in \"\n"
          ],
          "name": "stderr"
        }
      ]
    },
    {
      "metadata": {
        "colab_type": "code",
        "id": "GpyaeT1LkRo2",
        "outputId": "57a36662-69a0-4f2d-e755-4cad62c27375",
        "colab": {
          "base_uri": "https://localhost:8080/",
          "height": 35
        }
      },
      "cell_type": "code",
      "source": [
        "results[arquiteture] = precision_score(y_true, y_predict, average='binary')\n",
        "print('Test Precision: {:.2f}%'\n",
        "      .format(100 * results[arquiteture]))"
      ],
      "execution_count": 0,
      "outputs": [
        {
          "output_type": "stream",
          "text": [
            "Test Precision: 19.64%\n"
          ],
          "name": "stdout"
        }
      ]
    },
    {
      "metadata": {
        "colab_type": "text",
        "id": "Un9HtbTIqkXS"
      },
      "cell_type": "markdown",
      "source": [
        "### 13 tentativa Precision: 19.45%"
      ]
    },
    {
      "metadata": {
        "colab_type": "text",
        "id": "HNDvvOwsqkXW"
      },
      "cell_type": "markdown",
      "source": [
        "Modelo adaptado do **Lucas Albertins**\n",
        "\n",
        "*   Utilizado outra função de normalização, diferente da utilizada por ele."
      ]
    },
    {
      "metadata": {
        "colab_type": "code",
        "id": "iTG2TFqBqkXa",
        "colab": {}
      },
      "cell_type": "code",
      "source": [
        "from keras.layers import Conv2D, MaxPooling2D, GlobalMaxPooling2D, BatchNormalization\n",
        "from keras.regularizers import l2\n",
        "\n",
        "model = Sequential()\n",
        "\n",
        "model.add(Conv2D(32, (3, 3), activation='relu',input_shape=(None, None, 3)))\n",
        "model.add(MaxPooling2D((2, 2)))\n",
        "model.add(BatchNormalization())\n",
        "model.add(Dropout(0.25))\n",
        "\n",
        "model.add(Conv2D(64, (5, 5), activation='relu'))\n",
        "model.add(MaxPooling2D((2, 2)))\n",
        "model.add(BatchNormalization())\n",
        "model.add(Dropout(0.25))\n",
        "\n",
        "model.add(Conv2D(128, (7, 7),activation='relu'))\n",
        "model.add(MaxPooling2D((2, 2)))\n",
        "model.add(BatchNormalization())\n",
        "model.add(Dropout(0.25))\n",
        "\n",
        "model.add(Conv2D(128, (1,1)))\n",
        "model.add(GlobalMaxPooling2D())\n",
        "\n",
        "model.add(Dense(256, activation='relu'))\n",
        "model.add(Dropout(0.5))\n",
        "model.add(Dense(2, activation='sigmoid'))"
      ],
      "execution_count": 0,
      "outputs": []
    },
    {
      "metadata": {
        "colab_type": "code",
        "id": "xbd43caBqkXj",
        "colab": {}
      },
      "cell_type": "code",
      "source": [
        "model.compile(optimizer='adam', loss='binary_crossentropy', metrics=['accuracy'])"
      ],
      "execution_count": 0,
      "outputs": []
    },
    {
      "metadata": {
        "colab_type": "code",
        "id": "_lp8G0SCqkXt",
        "colab": {}
      },
      "cell_type": "code",
      "source": [
        "arquiteture = 'architecture_13'"
      ],
      "execution_count": 0,
      "outputs": []
    },
    {
      "metadata": {
        "colab_type": "code",
        "id": "n4GGlT-uqkX1",
        "colab": {}
      },
      "cell_type": "code",
      "source": [
        "checkpointer = ModelCheckpoint(filepath='drive/My Drive/Resultado/weights_' + arquiteture + '.hdf5', verbose=1, save_best_only=True)"
      ],
      "execution_count": 0,
      "outputs": []
    },
    {
      "metadata": {
        "colab_type": "code",
        "id": "smcZvzFyqkX7",
        "outputId": "3a09fb7c-4c19-45f2-e3f3-5bbad6476625",
        "colab": {
          "base_uri": "https://localhost:8080/",
          "height": 3710
        }
      },
      "cell_type": "code",
      "source": [
        "training = model.fit_generator(train_batches, steps_per_epoch=stepsPerEpoche, \n",
        "                   validation_data=validation_batches, validation_steps=validationSteps,\n",
        "                   epochs=50, verbose=2, callbacks=[checkpointer])"
      ],
      "execution_count": 122,
      "outputs": [
        {
          "output_type": "stream",
          "text": [
            "Epoch 1/50\n",
            " - 5s - loss: 1.1785 - acc: 0.5365 - val_loss: 0.5480 - val_acc: 0.7891\n",
            "\n",
            "Epoch 00001: val_loss improved from inf to 0.54803, saving model to drive/My Drive/Resultado/weights_architecture_13.hdf5\n",
            "Epoch 2/50\n",
            " - 0s - loss: 0.7457 - acc: 0.6641 - val_loss: 0.3901 - val_acc: 0.8438\n",
            "\n",
            "Epoch 00002: val_loss improved from 0.54803 to 0.39010, saving model to drive/My Drive/Resultado/weights_architecture_13.hdf5\n",
            "Epoch 3/50\n",
            " - 0s - loss: 0.6859 - acc: 0.6797 - val_loss: 0.4452 - val_acc: 0.8359\n",
            "\n",
            "Epoch 00003: val_loss did not improve from 0.39010\n",
            "Epoch 4/50\n",
            " - 0s - loss: 0.5139 - acc: 0.7188 - val_loss: 0.2742 - val_acc: 0.8672\n",
            "\n",
            "Epoch 00004: val_loss improved from 0.39010 to 0.27424, saving model to drive/My Drive/Resultado/weights_architecture_13.hdf5\n",
            "Epoch 5/50\n",
            " - 1s - loss: 0.5853 - acc: 0.7240 - val_loss: 0.4439 - val_acc: 0.8047\n",
            "\n",
            "Epoch 00005: val_loss did not improve from 0.27424\n",
            "Epoch 6/50\n",
            " - 1s - loss: 0.5183 - acc: 0.7995 - val_loss: 0.3316 - val_acc: 0.8906\n",
            "\n",
            "Epoch 00006: val_loss did not improve from 0.27424\n",
            "Epoch 7/50\n",
            " - 1s - loss: 0.4255 - acc: 0.8464 - val_loss: 0.6519 - val_acc: 0.6797\n",
            "\n",
            "Epoch 00007: val_loss did not improve from 0.27424\n",
            "Epoch 8/50\n",
            " - 1s - loss: 0.5072 - acc: 0.7786 - val_loss: 0.2885 - val_acc: 0.8672\n",
            "\n",
            "Epoch 00008: val_loss did not improve from 0.27424\n",
            "Epoch 9/50\n",
            " - 1s - loss: 0.4345 - acc: 0.8281 - val_loss: 0.2798 - val_acc: 0.8750\n",
            "\n",
            "Epoch 00009: val_loss did not improve from 0.27424\n",
            "Epoch 10/50\n",
            " - 1s - loss: 0.3558 - acc: 0.8151 - val_loss: 0.4477 - val_acc: 0.7422\n",
            "\n",
            "Epoch 00010: val_loss did not improve from 0.27424\n",
            "Epoch 11/50\n",
            " - 1s - loss: 0.3241 - acc: 0.8594 - val_loss: 0.4564 - val_acc: 0.7891\n",
            "\n",
            "Epoch 00011: val_loss did not improve from 0.27424\n",
            "Epoch 12/50\n",
            " - 1s - loss: 0.2408 - acc: 0.8828 - val_loss: 0.4185 - val_acc: 0.8203\n",
            "\n",
            "Epoch 00012: val_loss did not improve from 0.27424\n",
            "Epoch 13/50\n",
            " - 1s - loss: 0.2654 - acc: 0.8750 - val_loss: 0.3549 - val_acc: 0.8438\n",
            "\n",
            "Epoch 00013: val_loss did not improve from 0.27424\n",
            "Epoch 14/50\n",
            " - 1s - loss: 0.2233 - acc: 0.9375 - val_loss: 0.2419 - val_acc: 0.9062\n",
            "\n",
            "Epoch 00014: val_loss improved from 0.27424 to 0.24187, saving model to drive/My Drive/Resultado/weights_architecture_13.hdf5\n",
            "Epoch 15/50\n",
            " - 1s - loss: 0.2083 - acc: 0.9193 - val_loss: 0.3188 - val_acc: 0.8672\n",
            "\n",
            "Epoch 00015: val_loss did not improve from 0.24187\n",
            "Epoch 16/50\n",
            " - 1s - loss: 0.2979 - acc: 0.8724 - val_loss: 0.3866 - val_acc: 0.8516\n",
            "\n",
            "Epoch 00016: val_loss did not improve from 0.24187\n",
            "Epoch 17/50\n",
            " - 1s - loss: 0.2485 - acc: 0.9297 - val_loss: 0.2620 - val_acc: 0.8672\n",
            "\n",
            "Epoch 00017: val_loss did not improve from 0.24187\n",
            "Epoch 18/50\n",
            " - 1s - loss: 0.1857 - acc: 0.9297 - val_loss: 0.2367 - val_acc: 0.9141\n",
            "\n",
            "Epoch 00018: val_loss improved from 0.24187 to 0.23675, saving model to drive/My Drive/Resultado/weights_architecture_13.hdf5\n",
            "Epoch 19/50\n",
            " - 1s - loss: 0.2220 - acc: 0.9036 - val_loss: 0.2773 - val_acc: 0.8516\n",
            "\n",
            "Epoch 00019: val_loss did not improve from 0.23675\n",
            "Epoch 20/50\n",
            " - 1s - loss: 0.3037 - acc: 0.8932 - val_loss: 0.3847 - val_acc: 0.8828\n",
            "\n",
            "Epoch 00020: val_loss did not improve from 0.23675\n",
            "Epoch 21/50\n",
            " - 1s - loss: 0.2118 - acc: 0.9245 - val_loss: 0.2089 - val_acc: 0.9375\n",
            "\n",
            "Epoch 00021: val_loss improved from 0.23675 to 0.20892, saving model to drive/My Drive/Resultado/weights_architecture_13.hdf5\n",
            "Epoch 22/50\n",
            " - 1s - loss: 0.2177 - acc: 0.9036 - val_loss: 0.2453 - val_acc: 0.9062\n",
            "\n",
            "Epoch 00022: val_loss did not improve from 0.20892\n",
            "Epoch 23/50\n",
            " - 1s - loss: 0.2451 - acc: 0.9167 - val_loss: 0.3992 - val_acc: 0.8047\n",
            "\n",
            "Epoch 00023: val_loss did not improve from 0.20892\n",
            "Epoch 24/50\n",
            " - 1s - loss: 0.1967 - acc: 0.9323 - val_loss: 0.2660 - val_acc: 0.8919\n",
            "\n",
            "Epoch 00024: val_loss did not improve from 0.20892\n",
            "Epoch 25/50\n",
            " - 1s - loss: 0.1535 - acc: 0.9505 - val_loss: 0.3131 - val_acc: 0.9219\n",
            "\n",
            "Epoch 00025: val_loss did not improve from 0.20892\n",
            "Epoch 26/50\n",
            " - 1s - loss: 0.1992 - acc: 0.9167 - val_loss: 0.1800 - val_acc: 0.9375\n",
            "\n",
            "Epoch 00026: val_loss improved from 0.20892 to 0.18000, saving model to drive/My Drive/Resultado/weights_architecture_13.hdf5\n",
            "Epoch 27/50\n",
            " - 1s - loss: 0.1839 - acc: 0.9245 - val_loss: 0.5344 - val_acc: 0.7891\n",
            "\n",
            "Epoch 00027: val_loss did not improve from 0.18000\n",
            "Epoch 28/50\n",
            " - 1s - loss: 0.3020 - acc: 0.8984 - val_loss: 0.9673 - val_acc: 0.7578\n",
            "\n",
            "Epoch 00028: val_loss did not improve from 0.18000\n",
            "Epoch 29/50\n",
            " - 1s - loss: 0.2845 - acc: 0.8854 - val_loss: 0.4504 - val_acc: 0.7891\n",
            "\n",
            "Epoch 00029: val_loss did not improve from 0.18000\n",
            "Epoch 30/50\n",
            " - 1s - loss: 0.2277 - acc: 0.9179 - val_loss: 0.2405 - val_acc: 0.8906\n",
            "\n",
            "Epoch 00030: val_loss did not improve from 0.18000\n",
            "Epoch 31/50\n",
            " - 1s - loss: 0.2553 - acc: 0.9062 - val_loss: 0.3251 - val_acc: 0.8516\n",
            "\n",
            "Epoch 00031: val_loss did not improve from 0.18000\n",
            "Epoch 32/50\n",
            " - 1s - loss: 0.1972 - acc: 0.9271 - val_loss: 0.3930 - val_acc: 0.9141\n",
            "\n",
            "Epoch 00032: val_loss did not improve from 0.18000\n",
            "Epoch 33/50\n",
            " - 1s - loss: 0.2356 - acc: 0.9219 - val_loss: 0.1886 - val_acc: 0.9062\n",
            "\n",
            "Epoch 00033: val_loss did not improve from 0.18000\n",
            "Epoch 34/50\n",
            " - 1s - loss: 0.2918 - acc: 0.9062 - val_loss: 0.7985 - val_acc: 0.7891\n",
            "\n",
            "Epoch 00034: val_loss did not improve from 0.18000\n",
            "Epoch 35/50\n",
            " - 1s - loss: 0.1876 - acc: 0.9427 - val_loss: 0.3682 - val_acc: 0.8906\n",
            "\n",
            "Epoch 00035: val_loss did not improve from 0.18000\n",
            "Epoch 36/50\n",
            " - 1s - loss: 0.2247 - acc: 0.9219 - val_loss: 0.1996 - val_acc: 0.9375\n",
            "\n",
            "Epoch 00036: val_loss did not improve from 0.18000\n",
            "Epoch 37/50\n",
            " - 1s - loss: 0.1737 - acc: 0.9245 - val_loss: 0.1603 - val_acc: 0.9375\n",
            "\n",
            "Epoch 00037: val_loss improved from 0.18000 to 0.16032, saving model to drive/My Drive/Resultado/weights_architecture_13.hdf5\n",
            "Epoch 38/50\n",
            " - 1s - loss: 0.2247 - acc: 0.9036 - val_loss: 0.3255 - val_acc: 0.8672\n",
            "\n",
            "Epoch 00038: val_loss did not improve from 0.16032\n",
            "Epoch 39/50\n",
            " - 1s - loss: 0.2235 - acc: 0.8958 - val_loss: 0.3829 - val_acc: 0.8594\n",
            "\n",
            "Epoch 00039: val_loss did not improve from 0.16032\n",
            "Epoch 40/50\n",
            " - 1s - loss: 0.1619 - acc: 0.9557 - val_loss: 0.1461 - val_acc: 0.9375\n",
            "\n",
            "Epoch 00040: val_loss improved from 0.16032 to 0.14606, saving model to drive/My Drive/Resultado/weights_architecture_13.hdf5\n",
            "Epoch 41/50\n",
            " - 1s - loss: 0.1600 - acc: 0.9401 - val_loss: 0.1438 - val_acc: 0.9609\n",
            "\n",
            "Epoch 00041: val_loss improved from 0.14606 to 0.14381, saving model to drive/My Drive/Resultado/weights_architecture_13.hdf5\n",
            "Epoch 42/50\n",
            " - 1s - loss: 0.1752 - acc: 0.9401 - val_loss: 0.1428 - val_acc: 0.9531\n",
            "\n",
            "Epoch 00042: val_loss improved from 0.14381 to 0.14276, saving model to drive/My Drive/Resultado/weights_architecture_13.hdf5\n",
            "Epoch 43/50\n",
            " - 1s - loss: 0.1576 - acc: 0.9297 - val_loss: 0.1620 - val_acc: 0.9219\n",
            "\n",
            "Epoch 00043: val_loss did not improve from 0.14276\n",
            "Epoch 44/50\n",
            " - 1s - loss: 0.1388 - acc: 0.9401 - val_loss: 0.7351 - val_acc: 0.7969\n",
            "\n",
            "Epoch 00044: val_loss did not improve from 0.14276\n",
            "Epoch 45/50\n",
            " - 1s - loss: 0.1683 - acc: 0.9323 - val_loss: 0.4207 - val_acc: 0.8438\n",
            "\n",
            "Epoch 00045: val_loss did not improve from 0.14276\n",
            "Epoch 46/50\n",
            " - 1s - loss: 0.1712 - acc: 0.9349 - val_loss: 0.2727 - val_acc: 0.9062\n",
            "\n",
            "Epoch 00046: val_loss did not improve from 0.14276\n",
            "Epoch 47/50\n",
            " - 1s - loss: 0.2060 - acc: 0.9167 - val_loss: 0.2313 - val_acc: 0.9141\n",
            "\n",
            "Epoch 00047: val_loss did not improve from 0.14276\n",
            "Epoch 48/50\n",
            " - 1s - loss: 0.2002 - acc: 0.9193 - val_loss: 0.2793 - val_acc: 0.9189\n",
            "\n",
            "Epoch 00048: val_loss did not improve from 0.14276\n",
            "Epoch 49/50\n",
            " - 1s - loss: 0.1863 - acc: 0.9401 - val_loss: 0.1576 - val_acc: 0.9453\n",
            "\n",
            "Epoch 00049: val_loss did not improve from 0.14276\n",
            "Epoch 50/50\n",
            " - 1s - loss: 0.1799 - acc: 0.9401 - val_loss: 0.3793 - val_acc: 0.8438\n",
            "\n",
            "Epoch 00050: val_loss did not improve from 0.14276\n"
          ],
          "name": "stdout"
        }
      ]
    },
    {
      "metadata": {
        "colab_type": "code",
        "id": "3R7d3EckqkYB",
        "outputId": "762026cc-fca4-454b-eb8e-01a0d7652251",
        "colab": {
          "base_uri": "https://localhost:8080/",
          "height": 380
        }
      },
      "cell_type": "code",
      "source": [
        "# plotar loss e accuracy para os datasets 'train' e 'test'\n",
        "plt.style.use(\"ggplot\")\n",
        "plt.figure()\n",
        "plt.plot(training.history['acc'], label='Accuracy')\n",
        "plt.plot(training.history['loss'], label='Loss')\n",
        "plt.xlabel('Epochs')\n",
        "plt.ylabel('Accuracy')\n",
        "plt.title(\"Training Loss and Accuracy\")\n",
        "plt.ylabel(\"Loss/Accuracy\")\n",
        "plt.legend()\n",
        "plt.savefig('drive/My Drive/Resultado/' + arquiteture + '.png', bbox_inches='tight')"
      ],
      "execution_count": 123,
      "outputs": [
        {
          "output_type": "display_data",
          "data": {
            "image/png": "[encoded data removed]",
            "text/plain": [
              "<matplotlib.figure.Figure at 0x7f3592fa9b70>"
            ]
          },
          "metadata": {
            "tags": []
          }
        }
      ]
    },
    {
      "metadata": {
        "colab_type": "code",
        "id": "7Z7zuKAgqkYH",
        "outputId": "7e664756-6d7e-4355-c0e8-815816883f71",
        "colab": {
          "base_uri": "https://localhost:8080/",
          "height": 74
        }
      },
      "cell_type": "code",
      "source": [
        "y_true, y_predict = ler_images_teste(arquiteture)"
      ],
      "execution_count": 124,
      "outputs": [
        {
          "output_type": "stream",
          "text": [
            "/usr/local/lib/python3.6/dist-packages/skimage/transform/_warps.py:84: UserWarning: The default mode, 'constant', will be changed to 'reflect' in skimage 0.15.\n",
            "  warn(\"The default mode, 'constant', will be changed to 'reflect' in \"\n"
          ],
          "name": "stderr"
        }
      ]
    },
    {
      "metadata": {
        "colab_type": "code",
        "id": "qSEvKX_YqkYP",
        "outputId": "cc4280a5-9f97-4920-e6f8-b8870326ffd7",
        "colab": {
          "base_uri": "https://localhost:8080/",
          "height": 35
        }
      },
      "cell_type": "code",
      "source": [
        "results[arquiteture] = precision_score(y_true, y_predict, average='binary')\n",
        "print('Test Precision: {:.2f}%'\n",
        "      .format(100 * results[arquiteture]))"
      ],
      "execution_count": 125,
      "outputs": [
        {
          "output_type": "stream",
          "text": [
            "Test Precision: 19.45%\n"
          ],
          "name": "stdout"
        }
      ]
    }
  ]
}