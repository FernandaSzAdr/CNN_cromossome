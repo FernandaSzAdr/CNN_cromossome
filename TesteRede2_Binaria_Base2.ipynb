{
  "nbformat": 4,
  "nbformat_minor": 0,
  "metadata": {
    "colab": {
      "name": "TesteRede2_Binaria_Base2.ipynb",
      "version": "0.3.2",
      "provenance": [],
      "include_colab_link": true
    },
    "kernelspec": {
      "name": "python3",
      "display_name": "Python 3"
    },
    "accelerator": "GPU"
  },
  "cells": [
    {
      "cell_type": "markdown",
      "metadata": {
        "id": "view-in-github",
        "colab_type": "text"
      },
      "source": [
        "<a href=\"https://colab.research.google.com/github/FernandaSzAdr/KNN_cromossome/blob/master/TesteRede2_Binaria_Base2.ipynb\" target=\"_parent\"><img src=\"https://colab.research.google.com/assets/colab-badge.svg\" alt=\"Open In Colab\"/></a>"
      ]
    },
    {
      "metadata": {
        "id": "xN-oUTtcif3Q",
        "colab_type": "code",
        "outputId": "61ecba56-f2f1-4210-b88b-adb5125c80f1",
        "colab": {
          "base_uri": "https://localhost:8080/",
          "height": 55
        }
      },
      "cell_type": "code",
      "source": [
        "# Load the Drive helper and mount\n",
        "from google.colab import drive\n",
        "\n",
        "# This will prompt for authorization.\n",
        "drive.mount('/content/drive/')"
      ],
      "execution_count": 142,
      "outputs": [
        {
          "output_type": "stream",
          "text": [
            "Drive already mounted at /content/drive/; to attempt to forcibly remount, call drive.mount(\"/content/drive/\", force_remount=True).\n"
          ],
          "name": "stdout"
        }
      ]
    },
    {
      "metadata": {
        "id": "gzcuEGSklnwS",
        "colab_type": "code",
        "outputId": "6bd9fb10-18fe-4768-a0e7-e17649f2da58",
        "colab": {
          "base_uri": "https://localhost:8080/",
          "height": 35
        }
      },
      "cell_type": "code",
      "source": [
        "import os\n",
        "import cv2\n",
        "import csv\n",
        "!pip install imutils\n",
        "import imutils\n",
        "from skimage import transform\n",
        "import numpy as np\n",
        "import keras\n",
        "from keras import backend as K\n",
        "from keras.models import Sequential\n",
        "from keras.layers import Activation\n",
        "from keras.optimizers import SGD\n",
        "from keras.layers.core import Dense, Flatten, Dropout\n",
        "from keras.preprocessing.image import ImageDataGenerator\n",
        "from keras.layers.normalization import BatchNormalization\n",
        "from keras.layers.convolutional import *\n",
        "from keras.callbacks import ModelCheckpoint\n",
        "from matplotlib import pyplot as plt\n",
        "from sklearn.metrics import confusion_matrix\n",
        "from sklearn.metrics import precision_score\n",
        "import itertools\n",
        "import matplotlib.pyplot as plt"
      ],
      "execution_count": 143,
      "outputs": [
        {
          "output_type": "stream",
          "text": [
            "Requirement already satisfied: imutils in /usr/local/lib/python3.6/dist-packages (0.5.1)\n"
          ],
          "name": "stdout"
        }
      ]
    },
    {
      "metadata": {
        "id": "1o2obGj_F7TE",
        "colab_type": "text"
      },
      "cell_type": "markdown",
      "source": [
        "## Funções"
      ]
    },
    {
      "metadata": {
        "id": "ITtEfxrilym7",
        "colab_type": "code",
        "colab": {}
      },
      "cell_type": "code",
      "source": [
        "train_path = 'drive/My Drive/Base_CNN/Binarizado2/Train'\n",
        "test_path = 'drive/My Drive/Base_CNN/Binarizado2/Test'\n",
        "validation_path = 'drive/My Drive/Base_CNN/Binarizado2/Validation'"
      ],
      "execution_count": 0,
      "outputs": []
    },
    {
      "metadata": {
        "id": "e835RSQgEgA6",
        "colab_type": "code",
        "colab": {}
      },
      "cell_type": "code",
      "source": [
        "def converte(regiao):\n",
        "   regiao = np.array(regiao).astype('float32')/255\n",
        "   regiao = transform.resize(regiao, (120, 120, 3))\n",
        "   regiao = np.expand_dims(regiao, axis=0)\n",
        "   return regiao\n"
      ],
      "execution_count": 0,
      "outputs": []
    },
    {
      "metadata": {
        "id": "9ERJTQ3AgFJb",
        "colab_type": "code",
        "colab": {}
      },
      "cell_type": "code",
      "source": [
        "def ler_images_teste(arquiteture):\n",
        "  y_true = []\n",
        "  y_predict = []\n",
        "  images_test = os.listdir(test_path)\n",
        "  local = 'drive/My Drive/Base_CNN/Binarizado2/Resultado_Image/' + arquiteture\n",
        "  if os.path.isdir(local) == False:\n",
        "    os.mkdir(local)\n",
        "  \n",
        "  for img in images_test:\n",
        "    # Pega cada imagem separadamente do folder de teste\n",
        "    image = cv2.imread(test_path + '/' + img)\n",
        "    f = open('drive/My Drive/Base_CNN/Binarizado2/posicoes_segmentada.csv', 'r')\n",
        "    \n",
        "    copia = image.copy()\n",
        "\n",
        "    try:\n",
        "      leitor = csv.reader(f)\n",
        "      leitor = list(leitor)\n",
        "      leitor.pop(0)\n",
        "      for linha in leitor:\n",
        "        if len(linha) > 0:\n",
        "          # Para cada região dessa imagem:\n",
        "          if linha[0] == img:\n",
        "            posicoes = []\n",
        "            x = int(linha[3])\n",
        "            y = int(linha[4])\n",
        "            w = int(linha[5])\n",
        "            h = int(linha[6])\n",
        "            \n",
        "            # Label da região\n",
        "            label = linha[1]\n",
        "            if label == 'NC':\n",
        "              y_true.append(0)\n",
        "            else:\n",
        "              y_true.append(1)\n",
        "            \n",
        "            # Região\n",
        "            regiao = image[y: y + h, x: x + w]\n",
        "            regiao = converte(regiao)\n",
        "            \n",
        "            # Coloca a região na função e obtem o resultado\n",
        "            predicao = model.predict(regiao,batch_size=bSize,verbose=0)\n",
        "            \n",
        "            # Se é um cromossomo:\n",
        "            if predicao[0][0] > predicao[0][1]:\n",
        "              y_predict.append(1)\n",
        "              cv2.rectangle(copia,(x, y),(x+w, y+h),(0,0,255), 1)\n",
        "            # Se não for um cromossomo:\n",
        "            else:\n",
        "              y_predict.append(0)\n",
        "              cv2.rectangle(copia,(x, y),(x+w, y+h),(0,255,0), 1)\n",
        "                        \n",
        "    finally:\n",
        "      f.close()\n",
        "    \n",
        "    cv2.imwrite(local + '/' + img, copia)\n",
        "  \n",
        "  return y_true, y_predict\n"
      ],
      "execution_count": 0,
      "outputs": []
    },
    {
      "metadata": {
        "id": "WlPBqB_v3x2A",
        "colab_type": "text"
      },
      "cell_type": "markdown",
      "source": [
        "\n",
        "\n",
        "---\n",
        "\n"
      ]
    },
    {
      "metadata": {
        "id": "8KTtm8K7qg1n",
        "colab_type": "text"
      },
      "cell_type": "markdown",
      "source": [
        "# Implementação"
      ]
    },
    {
      "metadata": {
        "id": "ZNfohSUpo1n0",
        "colab_type": "text"
      },
      "cell_type": "markdown",
      "source": [
        "\n",
        "\n",
        "*   Batch size = 32\n",
        "*   Image size = 120x120\n",
        "\n"
      ]
    },
    {
      "metadata": {
        "id": "AUzRQ1CrBDKE",
        "colab_type": "text"
      },
      "cell_type": "markdown",
      "source": [
        "## Variaveis globais"
      ]
    },
    {
      "metadata": {
        "colab_type": "text",
        "id": "Vc-_Lcq7GEqt"
      },
      "cell_type": "markdown",
      "source": [
        "\n",
        "\n",
        "*   Batch size = 32\n",
        "*   Image size = 120x120\n",
        "\n"
      ]
    },
    {
      "metadata": {
        "id": "_TFWtLbQ2fUI",
        "colab_type": "code",
        "colab": {}
      },
      "cell_type": "code",
      "source": [
        "results = {}"
      ],
      "execution_count": 0,
      "outputs": []
    },
    {
      "metadata": {
        "id": "W3zmFDRmnYem",
        "colab_type": "code",
        "colab": {}
      },
      "cell_type": "code",
      "source": [
        "bSize = 32"
      ],
      "execution_count": 0,
      "outputs": []
    },
    {
      "metadata": {
        "id": "dCNH0jPl3WTV",
        "colab_type": "code",
        "colab": {}
      },
      "cell_type": "code",
      "source": [
        "datagen = ImageDataGenerator(rescale=1/255.)"
      ],
      "execution_count": 0,
      "outputs": []
    },
    {
      "metadata": {
        "id": "YiMXe23Vmbo-",
        "colab_type": "code",
        "outputId": "3940025d-fce5-489f-f9ab-600f60dcc3e6",
        "colab": {
          "base_uri": "https://localhost:8080/",
          "height": 54
        }
      },
      "cell_type": "code",
      "source": [
        "train_batches = datagen.flow_from_directory(train_path, target_size=(120, 120), \n",
        "                                            classes=['NC', 'C'], \n",
        "                                            batch_size=bSize)\n",
        "validation_batches = datagen.flow_from_directory(validation_path, \n",
        "                                                 target_size=(120, 120), \n",
        "                                                 classes=['NC', 'C'], \n",
        "                                                 batch_size=bSize)"
      ],
      "execution_count": 150,
      "outputs": [
        {
          "output_type": "stream",
          "text": [
            "Found 5675 images belonging to 2 classes.\n",
            "Found 1509 images belonging to 2 classes.\n"
          ],
          "name": "stdout"
        }
      ]
    },
    {
      "metadata": {
        "id": "vE-dZtSv5mde",
        "colab_type": "code",
        "colab": {}
      },
      "cell_type": "code",
      "source": [
        "stepsPerEpoche = len(train_batches)/bSize\n",
        "validationSteps = len(validation_batches)/bSize"
      ],
      "execution_count": 0,
      "outputs": []
    },
    {
      "metadata": {
        "id": "pOQMFxK5VUPa",
        "colab_type": "code",
        "outputId": "307c3cf9-4002-4651-d345-f2699abd1717",
        "colab": {
          "base_uri": "https://localhost:8080/",
          "height": 35
        }
      },
      "cell_type": "code",
      "source": [
        "train_batches.class_indices"
      ],
      "execution_count": 152,
      "outputs": [
        {
          "output_type": "execute_result",
          "data": {
            "text/plain": [
              "{'C': 1, 'NC': 0}"
            ]
          },
          "metadata": {
            "tags": []
          },
          "execution_count": 152
        }
      ]
    },
    {
      "metadata": {
        "colab_type": "text",
        "id": "S9IcYhWBGErq"
      },
      "cell_type": "markdown",
      "source": [
        "\n",
        "\n",
        "---\n",
        "\n"
      ]
    },
    {
      "metadata": {
        "id": "wH56YdE5rlnU",
        "colab_type": "text"
      },
      "cell_type": "markdown",
      "source": [
        "## 1 tentativa Precision: 19.64%"
      ]
    },
    {
      "metadata": {
        "id": "NBCIFVOlompR",
        "colab_type": "text"
      },
      "cell_type": "markdown",
      "source": [
        "**Descrição**\n",
        "\n",
        "\n",
        "*   Modelo descrito no artigo \"Crowdsourcing for Chromosome Segmentation and Deep Classification\"\n",
        "\n"
      ]
    },
    {
      "metadata": {
        "id": "iclhpyXmi_DU",
        "colab_type": "code",
        "colab": {}
      },
      "cell_type": "code",
      "source": [
        "architecture = 'architecture_1'"
      ],
      "execution_count": 0,
      "outputs": []
    },
    {
      "metadata": {
        "id": "IU71NY-9AzSi",
        "colab_type": "text"
      },
      "cell_type": "markdown",
      "source": [
        "### Modelo"
      ]
    },
    {
      "metadata": {
        "id": "rNosdG-ioNYU",
        "colab_type": "code",
        "colab": {}
      },
      "cell_type": "code",
      "source": [
        "model = Sequential([\n",
        "    Conv2D(64, (3, 3), activation='relu', input_shape=(120, 120, 3)),\n",
        "    Conv2D(64, (3, 3), activation='relu'),\n",
        "    Dropout(0.2),\n",
        "    MaxPooling2D(pool_size=(2, 2)),\n",
        "   \n",
        "    Conv2D(32, (3, 3), activation='relu'),\n",
        "    Conv2D(32, (3, 3), activation='relu'),\n",
        "    Dropout(0.2),\n",
        "    MaxPooling2D(pool_size=(2, 2)),\n",
        "   \n",
        "    Conv2D(16, (3, 3), activation='relu'),\n",
        "    Conv2D(16, (3, 3), activation='relu'),\n",
        "    Dropout(0.2),\n",
        "    MaxPooling2D(pool_size=(2, 2)),\n",
        "   \n",
        "    Conv2D(8, (3, 3), activation='relu'),\n",
        "    Conv2D(8, (3, 3), activation='relu'),\n",
        "    Dropout(0.2),\n",
        "    MaxPooling2D(pool_size=(2, 2)),\n",
        "    \n",
        "    Flatten(),\n",
        "    Dense(1024, activation='sigmoid'),\n",
        "    Dense(512, activation='sigmoid'),\n",
        "   \n",
        "    Dense(2, activation='softmax')\n",
        "]\n",
        ")"
      ],
      "execution_count": 0,
      "outputs": []
    },
    {
      "metadata": {
        "id": "UBqwdK2Bxagj",
        "colab_type": "code",
        "colab": {}
      },
      "cell_type": "code",
      "source": [
        "model.compile(SGD(lr=0.01, momentum=0.0, decay=0.0, nesterov=False), \n",
        "              loss='binary_crossentropy', metrics=['accuracy'])"
      ],
      "execution_count": 0,
      "outputs": []
    },
    {
      "metadata": {
        "id": "UgIWX7xyBKIz",
        "colab_type": "text"
      },
      "cell_type": "markdown",
      "source": [
        "### Treino\n"
      ]
    },
    {
      "metadata": {
        "colab_type": "code",
        "id": "LqOsSip-k_v7",
        "colab": {}
      },
      "cell_type": "code",
      "source": [
        "checkpointer = ModelCheckpoint(filepath='drive/My Drive/Resultado/Segmentado/weights_' + architecture + '.hdf5', verbose=1, save_best_only=True)"
      ],
      "execution_count": 0,
      "outputs": []
    },
    {
      "metadata": {
        "id": "PeyX7Mzf5lDw",
        "colab_type": "code",
        "outputId": "38bff5a1-11ae-4493-e336-2a4121b7f6df",
        "colab": {
          "base_uri": "https://localhost:8080/",
          "height": 3710
        }
      },
      "cell_type": "code",
      "source": [
        "training = model.fit_generator(train_batches, steps_per_epoch=stepsPerEpoche, \n",
        "                   validation_data=validation_batches, validation_steps=validationSteps,\n",
        "                   epochs=50, verbose=2, callbacks=[checkpointer])"
      ],
      "execution_count": 157,
      "outputs": [
        {
          "output_type": "stream",
          "text": [
            "Epoch 1/50\n",
            " - 5s - loss: 0.7587 - acc: 0.5990 - val_loss: 0.6538 - val_acc: 0.6406\n",
            "\n",
            "Epoch 00001: val_loss improved from inf to 0.65376, saving model to drive/My Drive/Resultado/Segmentado/weights_architecture_1.hdf5\n",
            "Epoch 2/50\n",
            " - 1s - loss: 0.6371 - acc: 0.6771 - val_loss: 0.7317 - val_acc: 0.5625\n",
            "\n",
            "Epoch 00002: val_loss did not improve from 0.65376\n",
            "Epoch 3/50\n",
            " - 1s - loss: 0.6716 - acc: 0.6354 - val_loss: 0.6512 - val_acc: 0.6719\n",
            "\n",
            "Epoch 00003: val_loss improved from 0.65376 to 0.65120, saving model to drive/My Drive/Resultado/Segmentado/weights_architecture_1.hdf5\n",
            "Epoch 4/50\n",
            " - 1s - loss: 0.6867 - acc: 0.5260 - val_loss: 0.6211 - val_acc: 0.6875\n",
            "\n",
            "Epoch 00004: val_loss improved from 0.65120 to 0.62111, saving model to drive/My Drive/Resultado/Segmentado/weights_architecture_1.hdf5\n",
            "Epoch 5/50\n",
            " - 1s - loss: 0.6590 - acc: 0.6354 - val_loss: 0.6776 - val_acc: 0.5938\n",
            "\n",
            "Epoch 00005: val_loss did not improve from 0.62111\n",
            "Epoch 6/50\n",
            " - 1s - loss: 0.6751 - acc: 0.6406 - val_loss: 0.6489 - val_acc: 0.6562\n",
            "\n",
            "Epoch 00006: val_loss did not improve from 0.62111\n",
            "Epoch 7/50\n",
            " - 1s - loss: 0.6768 - acc: 0.6042 - val_loss: 0.6871 - val_acc: 0.5781\n",
            "\n",
            "Epoch 00007: val_loss did not improve from 0.62111\n",
            "Epoch 8/50\n",
            " - 1s - loss: 0.6487 - acc: 0.6510 - val_loss: 0.6104 - val_acc: 0.7031\n",
            "\n",
            "Epoch 00008: val_loss improved from 0.62111 to 0.61043, saving model to drive/My Drive/Resultado/Segmentado/weights_architecture_1.hdf5\n",
            "Epoch 9/50\n",
            " - 1s - loss: 0.6861 - acc: 0.6042 - val_loss: 0.6469 - val_acc: 0.6562\n",
            "\n",
            "Epoch 00009: val_loss did not improve from 0.61043\n",
            "Epoch 10/50\n",
            " - 1s - loss: 0.6701 - acc: 0.6302 - val_loss: 0.6664 - val_acc: 0.6719\n",
            "\n",
            "Epoch 00010: val_loss did not improve from 0.61043\n",
            "Epoch 11/50\n",
            " - 1s - loss: 0.6412 - acc: 0.6667 - val_loss: 0.6864 - val_acc: 0.5938\n",
            "\n",
            "Epoch 00011: val_loss did not improve from 0.61043\n",
            "Epoch 12/50\n",
            " - 1s - loss: 0.6713 - acc: 0.6094 - val_loss: 0.6836 - val_acc: 0.5938\n",
            "\n",
            "Epoch 00012: val_loss did not improve from 0.61043\n",
            "Epoch 13/50\n",
            " - 1s - loss: 0.6610 - acc: 0.6458 - val_loss: 0.6233 - val_acc: 0.6875\n",
            "\n",
            "Epoch 00013: val_loss did not improve from 0.61043\n",
            "Epoch 14/50\n",
            " - 1s - loss: 0.6382 - acc: 0.6771 - val_loss: 0.6893 - val_acc: 0.6094\n",
            "\n",
            "Epoch 00014: val_loss did not improve from 0.61043\n",
            "Epoch 15/50\n",
            " - 1s - loss: 0.6844 - acc: 0.5469 - val_loss: 0.6535 - val_acc: 0.6406\n",
            "\n",
            "Epoch 00015: val_loss did not improve from 0.61043\n",
            "Epoch 16/50\n",
            " - 1s - loss: 0.6392 - acc: 0.6719 - val_loss: 0.6123 - val_acc: 0.7031\n",
            "\n",
            "Epoch 00016: val_loss did not improve from 0.61043\n",
            "Epoch 17/50\n",
            " - 1s - loss: 0.6569 - acc: 0.6354 - val_loss: 0.6552 - val_acc: 0.6406\n",
            "\n",
            "Epoch 00017: val_loss did not improve from 0.61043\n",
            "Epoch 18/50\n",
            " - 1s - loss: 0.6796 - acc: 0.5885 - val_loss: 0.6699 - val_acc: 0.6094\n",
            "\n",
            "Epoch 00018: val_loss did not improve from 0.61043\n",
            "Epoch 19/50\n",
            " - 1s - loss: 0.6495 - acc: 0.6615 - val_loss: 0.7042 - val_acc: 0.5469\n",
            "\n",
            "Epoch 00019: val_loss did not improve from 0.61043\n",
            "Epoch 20/50\n",
            " - 1s - loss: 0.6539 - acc: 0.6615 - val_loss: 0.6448 - val_acc: 0.6562\n",
            "\n",
            "Epoch 00020: val_loss did not improve from 0.61043\n",
            "Epoch 21/50\n",
            " - 1s - loss: 0.6519 - acc: 0.6510 - val_loss: 0.6680 - val_acc: 0.6250\n",
            "\n",
            "Epoch 00021: val_loss did not improve from 0.61043\n",
            "Epoch 22/50\n",
            " - 1s - loss: 0.6383 - acc: 0.6667 - val_loss: 0.6447 - val_acc: 0.6562\n",
            "\n",
            "Epoch 00022: val_loss did not improve from 0.61043\n",
            "Epoch 23/50\n",
            " - 1s - loss: 0.6820 - acc: 0.5885 - val_loss: 0.6694 - val_acc: 0.6094\n",
            "\n",
            "Epoch 00023: val_loss did not improve from 0.61043\n",
            "Epoch 24/50\n",
            " - 1s - loss: 0.6962 - acc: 0.5990 - val_loss: 0.6351 - val_acc: 0.6757\n",
            "\n",
            "Epoch 00024: val_loss did not improve from 0.61043\n",
            "Epoch 25/50\n",
            " - 1s - loss: 0.7078 - acc: 0.5365 - val_loss: 0.6717 - val_acc: 0.6875\n",
            "\n",
            "Epoch 00025: val_loss did not improve from 0.61043\n",
            "Epoch 26/50\n",
            " - 1s - loss: 0.6716 - acc: 0.6094 - val_loss: 0.6624 - val_acc: 0.6250\n",
            "\n",
            "Epoch 00026: val_loss did not improve from 0.61043\n",
            "Epoch 27/50\n",
            " - 1s - loss: 0.6891 - acc: 0.5885 - val_loss: 0.6453 - val_acc: 0.6562\n",
            "\n",
            "Epoch 00027: val_loss did not improve from 0.61043\n",
            "Epoch 28/50\n",
            " - 1s - loss: 0.6602 - acc: 0.6302 - val_loss: 0.6763 - val_acc: 0.5938\n",
            "\n",
            "Epoch 00028: val_loss did not improve from 0.61043\n",
            "Epoch 29/50\n",
            " - 1s - loss: 0.6915 - acc: 0.5260 - val_loss: 0.6716 - val_acc: 0.6094\n",
            "\n",
            "Epoch 00029: val_loss did not improve from 0.61043\n",
            "Epoch 30/50\n",
            " - 1s - loss: 0.6819 - acc: 0.5949 - val_loss: 0.6809 - val_acc: 0.5781\n",
            "\n",
            "Epoch 00030: val_loss did not improve from 0.61043\n",
            "Epoch 31/50\n",
            " - 1s - loss: 0.6575 - acc: 0.6406 - val_loss: 0.6808 - val_acc: 0.5781\n",
            "\n",
            "Epoch 00031: val_loss did not improve from 0.61043\n",
            "Epoch 32/50\n",
            " - 1s - loss: 0.6509 - acc: 0.6510 - val_loss: 0.7020 - val_acc: 0.5938\n",
            "\n",
            "Epoch 00032: val_loss did not improve from 0.61043\n",
            "Epoch 33/50\n",
            " - 1s - loss: 0.6741 - acc: 0.6302 - val_loss: 0.7113 - val_acc: 0.5312\n",
            "\n",
            "Epoch 00033: val_loss did not improve from 0.61043\n",
            "Epoch 34/50\n",
            " - 1s - loss: 0.6677 - acc: 0.6406 - val_loss: 0.6820 - val_acc: 0.6875\n",
            "\n",
            "Epoch 00034: val_loss did not improve from 0.61043\n",
            "Epoch 35/50\n",
            " - 1s - loss: 0.6686 - acc: 0.6302 - val_loss: 0.6540 - val_acc: 0.6406\n",
            "\n",
            "Epoch 00035: val_loss did not improve from 0.61043\n",
            "Epoch 36/50\n",
            " - 1s - loss: 0.6631 - acc: 0.6354 - val_loss: 0.7171 - val_acc: 0.5312\n",
            "\n",
            "Epoch 00036: val_loss did not improve from 0.61043\n",
            "Epoch 37/50\n",
            " - 1s - loss: 0.6661 - acc: 0.6302 - val_loss: 0.6844 - val_acc: 0.5938\n",
            "\n",
            "Epoch 00037: val_loss did not improve from 0.61043\n",
            "Epoch 38/50\n",
            " - 1s - loss: 0.6990 - acc: 0.5833 - val_loss: 0.6597 - val_acc: 0.6562\n",
            "\n",
            "Epoch 00038: val_loss did not improve from 0.61043\n",
            "Epoch 39/50\n",
            " - 1s - loss: 0.6900 - acc: 0.5990 - val_loss: 0.7288 - val_acc: 0.2500\n",
            "\n",
            "Epoch 00039: val_loss did not improve from 0.61043\n",
            "Epoch 40/50\n",
            " - 1s - loss: 0.6823 - acc: 0.5625 - val_loss: 0.7097 - val_acc: 0.3438\n",
            "\n",
            "Epoch 00040: val_loss did not improve from 0.61043\n",
            "Epoch 41/50\n",
            " - 1s - loss: 0.6552 - acc: 0.6094 - val_loss: 0.6137 - val_acc: 0.7031\n",
            "\n",
            "Epoch 00041: val_loss did not improve from 0.61043\n",
            "Epoch 42/50\n",
            " - 1s - loss: 0.6808 - acc: 0.5677 - val_loss: 0.6090 - val_acc: 0.7188\n",
            "\n",
            "Epoch 00042: val_loss improved from 0.61043 to 0.60903, saving model to drive/My Drive/Resultado/Segmentado/weights_architecture_1.hdf5\n",
            "Epoch 43/50\n",
            " - 1s - loss: 0.6296 - acc: 0.6823 - val_loss: 0.6327 - val_acc: 0.6719\n",
            "\n",
            "Epoch 00043: val_loss did not improve from 0.60903\n",
            "Epoch 44/50\n",
            " - 1s - loss: 0.6982 - acc: 0.5052 - val_loss: 0.5999 - val_acc: 0.7500\n",
            "\n",
            "Epoch 00044: val_loss improved from 0.60903 to 0.59991, saving model to drive/My Drive/Resultado/Segmentado/weights_architecture_1.hdf5\n",
            "Epoch 45/50\n",
            " - 1s - loss: 0.6948 - acc: 0.5833 - val_loss: 0.6755 - val_acc: 0.5938\n",
            "\n",
            "Epoch 00045: val_loss did not improve from 0.59991\n",
            "Epoch 46/50\n",
            " - 1s - loss: 0.6627 - acc: 0.6458 - val_loss: 0.6758 - val_acc: 0.5938\n",
            "\n",
            "Epoch 00046: val_loss did not improve from 0.59991\n",
            "Epoch 47/50\n",
            " - 1s - loss: 0.6748 - acc: 0.5938 - val_loss: 0.6553 - val_acc: 0.6406\n",
            "\n",
            "Epoch 00047: val_loss did not improve from 0.59991\n",
            "Epoch 48/50\n",
            " - 1s - loss: 0.6108 - acc: 0.7083 - val_loss: 0.6903 - val_acc: 0.5946\n",
            "\n",
            "Epoch 00048: val_loss did not improve from 0.59991\n",
            "Epoch 49/50\n",
            " - 1s - loss: 0.6699 - acc: 0.6094 - val_loss: 0.6573 - val_acc: 0.6406\n",
            "\n",
            "Epoch 00049: val_loss did not improve from 0.59991\n",
            "Epoch 50/50\n",
            " - 1s - loss: 0.6805 - acc: 0.6302 - val_loss: 0.6663 - val_acc: 0.6250\n",
            "\n",
            "Epoch 00050: val_loss did not improve from 0.59991\n"
          ],
          "name": "stdout"
        }
      ]
    },
    {
      "metadata": {
        "id": "c1LR04eV6AJ5",
        "colab_type": "code",
        "colab": {}
      },
      "cell_type": "code",
      "source": [
        "model.load_weights('drive/My Drive/Resultado/Segmentado/weights_' + architecture + '.hdf5')"
      ],
      "execution_count": 0,
      "outputs": []
    },
    {
      "metadata": {
        "id": "VeLCe59ltne5",
        "colab_type": "code",
        "outputId": "276d190b-55ae-4354-c2c3-d36d147b953d",
        "colab": {
          "base_uri": "https://localhost:8080/",
          "height": 380
        }
      },
      "cell_type": "code",
      "source": [
        "# plotar loss e accuracy para os datasets 'train' e 'test'\n",
        "plt.style.use(\"ggplot\")\n",
        "plt.figure()\n",
        "plt.plot(training.history['acc'], label='Accuracy')\n",
        "plt.plot(training.history['loss'], label='Loss')\n",
        "plt.xlabel('Epochs')\n",
        "plt.ylabel('Accuracy')\n",
        "plt.title(\"Training Loss and Accuracy\")\n",
        "plt.ylabel(\"Loss/Accuracy\")\n",
        "plt.legend()\n",
        "plt.savefig('drive/My Drive/Resultado/Segmentado/' + architecture + '.png', bbox_inches='tight')"
      ],
      "execution_count": 159,
      "outputs": [
        {
          "output_type": "display_data",
          "data": {
            "image/png": "[encoded data removed]",
            "text/plain": [
              "<matplotlib.figure.Figure at 0x7f359073ca58>"
            ]
          },
          "metadata": {
            "tags": []
          }
        }
      ]
    },
    {
      "metadata": {
        "id": "jc5jL0cxCu5y",
        "colab_type": "text"
      },
      "cell_type": "markdown",
      "source": [
        "### Teste"
      ]
    },
    {
      "metadata": {
        "id": "CuxP4w361rkP",
        "colab_type": "code",
        "outputId": "4d6570fc-7066-4a21-bbbe-16da733c23d8",
        "colab": {
          "base_uri": "https://localhost:8080/",
          "height": 54
        }
      },
      "cell_type": "code",
      "source": [
        "y_true, y_predict = ler_images_teste(architecture)"
      ],
      "execution_count": 160,
      "outputs": [
        {
          "output_type": "stream",
          "text": [
            "/usr/local/lib/python3.6/dist-packages/skimage/transform/_warps.py:84: UserWarning: The default mode, 'constant', will be changed to 'reflect' in skimage 0.15.\n",
            "  warn(\"The default mode, 'constant', will be changed to 'reflect' in \"\n"
          ],
          "name": "stderr"
        }
      ]
    },
    {
      "metadata": {
        "id": "Juqn8SXr0VvZ",
        "colab_type": "code",
        "outputId": "e2ef0c03-a80d-4a1c-db8b-b087b16ca0c5",
        "colab": {
          "base_uri": "https://localhost:8080/",
          "height": 35
        }
      },
      "cell_type": "code",
      "source": [
        "results[architecture] = precision_score(y_true, y_predict, average='binary')\n",
        "print('Test Precision: {:.2f}%'\n",
        "      .format(100 * results[architecture]))"
      ],
      "execution_count": 161,
      "outputs": [
        {
          "output_type": "stream",
          "text": [
            "Test Precision: 19.64%\n"
          ],
          "name": "stdout"
        }
      ]
    },
    {
      "metadata": {
        "id": "T7nOK0TDr6Hc",
        "colab_type": "text"
      },
      "cell_type": "markdown",
      "source": [
        "## 2 tentativa  Precision: 19.64%"
      ]
    },
    {
      "metadata": {
        "colab_type": "text",
        "id": "-DJtvxKNp9sb"
      },
      "cell_type": "markdown",
      "source": [
        "**Descrição**\n",
        "\n",
        "\n",
        "*   Modelo descrito no artigo \"Crowdsourcing for Chromosome Segmentation and Deep Classification\"\n",
        "*   Alteração nas duas ultimas camadas Dense\n",
        "\n",
        "\n",
        "\n"
      ]
    },
    {
      "metadata": {
        "colab_type": "code",
        "id": "B1aiec4IjnND",
        "colab": {}
      },
      "cell_type": "code",
      "source": [
        "architecture = 'architecture_2'"
      ],
      "execution_count": 0,
      "outputs": []
    },
    {
      "metadata": {
        "id": "fAPG077EDA_b",
        "colab_type": "text"
      },
      "cell_type": "markdown",
      "source": [
        "### Modelo"
      ]
    },
    {
      "metadata": {
        "colab_type": "code",
        "id": "2PSEo_Mzr8zK",
        "colab": {}
      },
      "cell_type": "code",
      "source": [
        "model = Sequential([\n",
        "    Conv2D(64, (3, 3), activation='relu', input_shape=(120, 120, 3)),\n",
        "    Conv2D(64, (3, 3), activation='relu'),\n",
        "    Dropout(0.2),\n",
        "    MaxPooling2D(pool_size=(2, 2)),\n",
        "   \n",
        "    Conv2D(32, (3, 3), activation='relu'),\n",
        "    Conv2D(32, (3, 3), activation='relu'),\n",
        "    Dropout(0.2),\n",
        "    MaxPooling2D(pool_size=(2, 2)),\n",
        "   \n",
        "    Conv2D(16, (3, 3), activation='relu'),\n",
        "    Conv2D(16, (3, 3), activation='relu'),\n",
        "    Dropout(0.2),\n",
        "    MaxPooling2D(pool_size=(2, 2)),\n",
        "   \n",
        "    Conv2D(8, (3, 3), activation='relu'),\n",
        "    Conv2D(8, (3, 3), activation='relu'),\n",
        "    Dropout(0.2),\n",
        "    MaxPooling2D(pool_size=(2, 2)),\n",
        "    \n",
        "    Flatten(),\n",
        "    Dense(512, activation='relu'),\n",
        "   \n",
        "    Dense(2, activation='softmax')\n",
        "]\n",
        ")"
      ],
      "execution_count": 0,
      "outputs": []
    },
    {
      "metadata": {
        "colab_type": "code",
        "id": "wTvCLywPr8zj",
        "colab": {}
      },
      "cell_type": "code",
      "source": [
        "model.compile(SGD(lr=0.01, momentum=0.0, decay=0.0, nesterov=False), \n",
        "              loss='binary_crossentropy', metrics=['accuracy'])"
      ],
      "execution_count": 0,
      "outputs": []
    },
    {
      "metadata": {
        "colab_type": "text",
        "id": "pNoSxXGOC9mz"
      },
      "cell_type": "markdown",
      "source": [
        "### Treino\n"
      ]
    },
    {
      "metadata": {
        "colab_type": "code",
        "id": "kz0s74Y3C9m8",
        "colab": {}
      },
      "cell_type": "code",
      "source": [
        "checkpointer = ModelCheckpoint(filepath='drive/My Drive/Resultado/Segmentado/weights_' + architecture + '.hdf5', verbose=1, save_best_only=True)"
      ],
      "execution_count": 0,
      "outputs": []
    },
    {
      "metadata": {
        "colab_type": "code",
        "outputId": "61bd5d0c-c0d3-43c7-ad33-b1d786a5506f",
        "id": "2pPL4gxYC9nL",
        "colab": {
          "base_uri": "https://localhost:8080/",
          "height": 0
        }
      },
      "cell_type": "code",
      "source": [
        "training = model.fit_generator(train_batches, steps_per_epoch=stepsPerEpoche, \n",
        "                   validation_data=validation_batches, validation_steps=validationSteps,\n",
        "                   epochs=50, verbose=2, callbacks=[checkpointer])"
      ],
      "execution_count": 166,
      "outputs": [
        {
          "output_type": "stream",
          "text": [
            "Epoch 1/50\n",
            " - 5s - loss: 0.6924 - acc: 0.5573 - val_loss: 0.6871 - val_acc: 0.7188\n",
            "\n",
            "Epoch 00001: val_loss improved from inf to 0.68712, saving model to drive/My Drive/Resultado/Segmentado/weights_architecture_2.hdf5\n",
            "Epoch 2/50\n",
            " - 1s - loss: 0.6890 - acc: 0.6250 - val_loss: 0.6872 - val_acc: 0.6250\n",
            "\n",
            "Epoch 00002: val_loss did not improve from 0.68712\n",
            "Epoch 3/50\n",
            " - 1s - loss: 0.6844 - acc: 0.6458 - val_loss: 0.6799 - val_acc: 0.6875\n",
            "\n",
            "Epoch 00003: val_loss improved from 0.68712 to 0.67995, saving model to drive/My Drive/Resultado/Segmentado/weights_architecture_2.hdf5\n",
            "Epoch 4/50\n",
            " - 1s - loss: 0.6794 - acc: 0.6615 - val_loss: 0.6802 - val_acc: 0.6406\n",
            "\n",
            "Epoch 00004: val_loss did not improve from 0.67995\n",
            "Epoch 5/50\n",
            " - 1s - loss: 0.6782 - acc: 0.6354 - val_loss: 0.6896 - val_acc: 0.5469\n",
            "\n",
            "Epoch 00005: val_loss did not improve from 0.67995\n",
            "Epoch 6/50\n",
            " - 1s - loss: 0.6784 - acc: 0.6198 - val_loss: 0.6802 - val_acc: 0.6094\n",
            "\n",
            "Epoch 00006: val_loss did not improve from 0.67995\n",
            "Epoch 7/50\n",
            " - 1s - loss: 0.6692 - acc: 0.6667 - val_loss: 0.6948 - val_acc: 0.5156\n",
            "\n",
            "Epoch 00007: val_loss did not improve from 0.67995\n",
            "Epoch 8/50\n",
            " - 1s - loss: 0.6821 - acc: 0.5823 - val_loss: 0.6751 - val_acc: 0.6250\n",
            "\n",
            "Epoch 00008: val_loss improved from 0.67995 to 0.67505, saving model to drive/My Drive/Resultado/Segmentado/weights_architecture_2.hdf5\n",
            "Epoch 9/50\n",
            " - 1s - loss: 0.6688 - acc: 0.6458 - val_loss: 0.6831 - val_acc: 0.5781\n",
            "\n",
            "Epoch 00009: val_loss did not improve from 0.67505\n",
            "Epoch 10/50\n",
            " - 1s - loss: 0.6785 - acc: 0.5938 - val_loss: 0.6565 - val_acc: 0.7031\n",
            "\n",
            "Epoch 00010: val_loss improved from 0.67505 to 0.65651, saving model to drive/My Drive/Resultado/Segmentado/weights_architecture_2.hdf5\n",
            "Epoch 11/50\n",
            " - 1s - loss: 0.6719 - acc: 0.6198 - val_loss: 0.6615 - val_acc: 0.6719\n",
            "\n",
            "Epoch 00011: val_loss did not improve from 0.65651\n",
            "Epoch 12/50\n",
            " - 1s - loss: 0.6612 - acc: 0.6615 - val_loss: 0.6666 - val_acc: 0.6406\n",
            "\n",
            "Epoch 00012: val_loss did not improve from 0.65651\n",
            "Epoch 13/50\n",
            " - 1s - loss: 0.6632 - acc: 0.6458 - val_loss: 0.6409 - val_acc: 0.7344\n",
            "\n",
            "Epoch 00013: val_loss improved from 0.65651 to 0.64085, saving model to drive/My Drive/Resultado/Segmentado/weights_architecture_2.hdf5\n",
            "Epoch 14/50\n",
            " - 1s - loss: 0.6466 - acc: 0.6979 - val_loss: 0.6814 - val_acc: 0.5781\n",
            "\n",
            "Epoch 00014: val_loss did not improve from 0.64085\n",
            "Epoch 15/50\n",
            " - 1s - loss: 0.6448 - acc: 0.6927 - val_loss: 0.6667 - val_acc: 0.6250\n",
            "\n",
            "Epoch 00015: val_loss did not improve from 0.64085\n",
            "Epoch 16/50\n",
            " - 1s - loss: 0.6437 - acc: 0.6875 - val_loss: 0.6603 - val_acc: 0.6406\n",
            "\n",
            "Epoch 00016: val_loss did not improve from 0.64085\n",
            "Epoch 17/50\n",
            " - 1s - loss: 0.6655 - acc: 0.6198 - val_loss: 0.6942 - val_acc: 0.5405\n",
            "\n",
            "Epoch 00017: val_loss did not improve from 0.64085\n",
            "Epoch 18/50\n",
            " - 1s - loss: 0.6689 - acc: 0.6094 - val_loss: 0.6543 - val_acc: 0.6562\n",
            "\n",
            "Epoch 00018: val_loss did not improve from 0.64085\n",
            "Epoch 19/50\n",
            " - 1s - loss: 0.6711 - acc: 0.6042 - val_loss: 0.6372 - val_acc: 0.7031\n",
            "\n",
            "Epoch 00019: val_loss improved from 0.64085 to 0.63721, saving model to drive/My Drive/Resultado/Segmentado/weights_architecture_2.hdf5\n",
            "Epoch 20/50\n",
            " - 1s - loss: 0.6709 - acc: 0.6042 - val_loss: 0.6536 - val_acc: 0.6562\n",
            "\n",
            "Epoch 00020: val_loss did not improve from 0.63721\n",
            "Epoch 21/50\n",
            " - 1s - loss: 0.6628 - acc: 0.6250 - val_loss: 0.6873 - val_acc: 0.5625\n",
            "\n",
            "Epoch 00021: val_loss did not improve from 0.63721\n",
            "Epoch 22/50\n",
            " - 1s - loss: 0.6688 - acc: 0.6094 - val_loss: 0.6362 - val_acc: 0.7031\n",
            "\n",
            "Epoch 00022: val_loss improved from 0.63721 to 0.63615, saving model to drive/My Drive/Resultado/Segmentado/weights_architecture_2.hdf5\n",
            "Epoch 23/50\n",
            " - 1s - loss: 0.6469 - acc: 0.6667 - val_loss: 0.6345 - val_acc: 0.7031\n",
            "\n",
            "Epoch 00023: val_loss improved from 0.63615 to 0.63451, saving model to drive/My Drive/Resultado/Segmentado/weights_architecture_2.hdf5\n",
            "Epoch 24/50\n",
            " - 1s - loss: 0.6624 - acc: 0.6250 - val_loss: 0.6638 - val_acc: 0.6250\n",
            "\n",
            "Epoch 00024: val_loss did not improve from 0.63451\n",
            "Epoch 25/50\n",
            " - 1s - loss: 0.6751 - acc: 0.5938 - val_loss: 0.6824 - val_acc: 0.5781\n",
            "\n",
            "Epoch 00025: val_loss did not improve from 0.63451\n",
            "Epoch 26/50\n",
            " - 1s - loss: 0.6370 - acc: 0.6875 - val_loss: 0.6698 - val_acc: 0.6094\n",
            "\n",
            "Epoch 00026: val_loss did not improve from 0.63451\n",
            "Epoch 27/50\n",
            " - 1s - loss: 0.6618 - acc: 0.6250 - val_loss: 0.6763 - val_acc: 0.5938\n",
            "\n",
            "Epoch 00027: val_loss did not improve from 0.63451\n",
            "Epoch 28/50\n",
            " - 1s - loss: 0.6435 - acc: 0.6667 - val_loss: 0.6824 - val_acc: 0.5781\n",
            "\n",
            "Epoch 00028: val_loss did not improve from 0.63451\n",
            "Epoch 29/50\n",
            " - 1s - loss: 0.6696 - acc: 0.6042 - val_loss: 0.6830 - val_acc: 0.5781\n",
            "\n",
            "Epoch 00029: val_loss did not improve from 0.63451\n",
            "Epoch 30/50\n",
            " - 1s - loss: 0.6788 - acc: 0.5833 - val_loss: 0.6436 - val_acc: 0.6719\n",
            "\n",
            "Epoch 00030: val_loss did not improve from 0.63451\n",
            "Epoch 31/50\n",
            " - 1s - loss: 0.7030 - acc: 0.5260 - val_loss: 0.6325 - val_acc: 0.7031\n",
            "\n",
            "Epoch 00031: val_loss improved from 0.63451 to 0.63250, saving model to drive/My Drive/Resultado/Segmentado/weights_architecture_2.hdf5\n",
            "Epoch 32/50\n",
            " - 1s - loss: 0.6576 - acc: 0.6354 - val_loss: 0.6381 - val_acc: 0.6875\n",
            "\n",
            "Epoch 00032: val_loss did not improve from 0.63250\n",
            "Epoch 33/50\n",
            " - 1s - loss: 0.6805 - acc: 0.5781 - val_loss: 0.6759 - val_acc: 0.5938\n",
            "\n",
            "Epoch 00033: val_loss did not improve from 0.63250\n",
            "Epoch 34/50\n",
            " - 1s - loss: 0.6608 - acc: 0.6250 - val_loss: 0.6125 - val_acc: 0.7500\n",
            "\n",
            "Epoch 00034: val_loss improved from 0.63250 to 0.61250, saving model to drive/My Drive/Resultado/Segmentado/weights_architecture_2.hdf5\n",
            "Epoch 35/50\n",
            " - 1s - loss: 0.6703 - acc: 0.6042 - val_loss: 0.6751 - val_acc: 0.5938\n",
            "\n",
            "Epoch 00035: val_loss did not improve from 0.61250\n",
            "Epoch 36/50\n",
            " - 1s - loss: 0.6851 - acc: 0.5677 - val_loss: 0.6629 - val_acc: 0.6250\n",
            "\n",
            "Epoch 00036: val_loss did not improve from 0.61250\n",
            "Epoch 37/50\n",
            " - 1s - loss: 0.6310 - acc: 0.6979 - val_loss: 0.6623 - val_acc: 0.6250\n",
            "\n",
            "Epoch 00037: val_loss did not improve from 0.61250\n",
            "Epoch 38/50\n",
            " - 1s - loss: 0.6779 - acc: 0.5855 - val_loss: 0.6243 - val_acc: 0.7188\n",
            "\n",
            "Epoch 00038: val_loss did not improve from 0.61250\n",
            "Epoch 39/50\n",
            " - 1s - loss: 0.6615 - acc: 0.6250 - val_loss: 0.6885 - val_acc: 0.5625\n",
            "\n",
            "Epoch 00039: val_loss did not improve from 0.61250\n",
            "Epoch 40/50\n",
            " - 1s - loss: 0.6722 - acc: 0.5990 - val_loss: 0.6890 - val_acc: 0.5625\n",
            "\n",
            "Epoch 00040: val_loss did not improve from 0.61250\n",
            "Epoch 41/50\n",
            " - 1s - loss: 0.6331 - acc: 0.6875 - val_loss: 0.7101 - val_acc: 0.5135\n",
            "\n",
            "Epoch 00041: val_loss did not improve from 0.61250\n",
            "Epoch 42/50\n",
            " - 1s - loss: 0.6586 - acc: 0.6302 - val_loss: 0.6628 - val_acc: 0.6250\n",
            "\n",
            "Epoch 00042: val_loss did not improve from 0.61250\n",
            "Epoch 43/50\n",
            " - 1s - loss: 0.6841 - acc: 0.5729 - val_loss: 0.6957 - val_acc: 0.5469\n",
            "\n",
            "Epoch 00043: val_loss did not improve from 0.61250\n",
            "Epoch 44/50\n",
            " - 1s - loss: 0.6560 - acc: 0.6354 - val_loss: 0.6760 - val_acc: 0.5938\n",
            "\n",
            "Epoch 00044: val_loss did not improve from 0.61250\n",
            "Epoch 45/50\n",
            " - 1s - loss: 0.6619 - acc: 0.6198 - val_loss: 0.6346 - val_acc: 0.6875\n",
            "\n",
            "Epoch 00045: val_loss did not improve from 0.61250\n",
            "Epoch 46/50\n",
            " - 1s - loss: 0.6624 - acc: 0.6198 - val_loss: 0.6281 - val_acc: 0.7031\n",
            "\n",
            "Epoch 00046: val_loss did not improve from 0.61250\n",
            "Epoch 47/50\n",
            " - 1s - loss: 0.6538 - acc: 0.6354 - val_loss: 0.6415 - val_acc: 0.6719\n",
            "\n",
            "Epoch 00047: val_loss did not improve from 0.61250\n",
            "Epoch 48/50\n",
            " - 1s - loss: 0.6369 - acc: 0.6719 - val_loss: 0.6969 - val_acc: 0.5469\n",
            "\n",
            "Epoch 00048: val_loss did not improve from 0.61250\n",
            "Epoch 49/50\n",
            " - 1s - loss: 0.6896 - acc: 0.5625 - val_loss: 0.6690 - val_acc: 0.6094\n",
            "\n",
            "Epoch 00049: val_loss did not improve from 0.61250\n",
            "Epoch 50/50\n",
            " - 1s - loss: 0.6375 - acc: 0.6719 - val_loss: 0.6769 - val_acc: 0.5938\n",
            "\n",
            "Epoch 00050: val_loss did not improve from 0.61250\n"
          ],
          "name": "stdout"
        }
      ]
    },
    {
      "metadata": {
        "colab_type": "code",
        "id": "VHq8LUydC9ng",
        "colab": {}
      },
      "cell_type": "code",
      "source": [
        "model.load_weights('drive/My Drive/Resultado/Segmentado/weights_' + architecture + '.hdf5')"
      ],
      "execution_count": 0,
      "outputs": []
    },
    {
      "metadata": {
        "colab_type": "code",
        "outputId": "b796cba1-c307-4bb9-c51a-a3c694458c19",
        "id": "aaqUnt57C9nm",
        "colab": {
          "base_uri": "https://localhost:8080/",
          "height": 380
        }
      },
      "cell_type": "code",
      "source": [
        "# plotar loss e accuracy para os datasets 'train' e 'test'\n",
        "plt.style.use(\"ggplot\")\n",
        "plt.figure()\n",
        "plt.plot(training.history['acc'], label='Accuracy')\n",
        "plt.plot(training.history['loss'], label='Loss')\n",
        "plt.xlabel('Epochs')\n",
        "plt.ylabel('Accuracy')\n",
        "plt.title(\"Training Loss and Accuracy\")\n",
        "plt.ylabel(\"Loss/Accuracy\")\n",
        "plt.legend()\n",
        "plt.savefig('drive/My Drive/Resultado/Segmentado/' + architecture + '.png', bbox_inches='tight')"
      ],
      "execution_count": 168,
      "outputs": [
        {
          "output_type": "display_data",
          "data": {
            "image/png": "[encoded data removed]",
            "text/plain": [
              "<matplotlib.figure.Figure at 0x7f3592622b00>"
            ]
          },
          "metadata": {
            "tags": []
          }
        }
      ]
    },
    {
      "metadata": {
        "colab_type": "text",
        "id": "CuegYXR-C9nv"
      },
      "cell_type": "markdown",
      "source": [
        "### Teste"
      ]
    },
    {
      "metadata": {
        "colab_type": "code",
        "outputId": "9fd073bb-33e8-4f79-b516-d14eadaf4252",
        "id": "iz7WxlHiC9nw",
        "colab": {
          "base_uri": "https://localhost:8080/",
          "height": 54
        }
      },
      "cell_type": "code",
      "source": [
        "y_true, y_predict = ler_images_teste(architecture)"
      ],
      "execution_count": 169,
      "outputs": [
        {
          "output_type": "stream",
          "text": [
            "/usr/local/lib/python3.6/dist-packages/skimage/transform/_warps.py:84: UserWarning: The default mode, 'constant', will be changed to 'reflect' in skimage 0.15.\n",
            "  warn(\"The default mode, 'constant', will be changed to 'reflect' in \"\n"
          ],
          "name": "stderr"
        }
      ]
    },
    {
      "metadata": {
        "colab_type": "code",
        "id": "Aof67MvTC9n4",
        "outputId": "71023ebc-ec3c-4350-f5cc-75de1743da58",
        "colab": {
          "base_uri": "https://localhost:8080/",
          "height": 35
        }
      },
      "cell_type": "code",
      "source": [
        "results[architecture] = precision_score(y_true, y_predict, average='binary')\n",
        "print('Test Precision: {:.2f}%'\n",
        "      .format(100 * results[architecture]))"
      ],
      "execution_count": 170,
      "outputs": [
        {
          "output_type": "stream",
          "text": [
            "Test Precision: 19.64%\n"
          ],
          "name": "stdout"
        }
      ]
    },
    {
      "metadata": {
        "id": "r7RpE8wBe4JQ",
        "colab_type": "text"
      },
      "cell_type": "markdown",
      "source": [
        "## 3 tentativa Precision: 19.50%"
      ]
    },
    {
      "metadata": {
        "id": "vdP4Yo8OgB4B",
        "colab_type": "text"
      },
      "cell_type": "markdown",
      "source": [
        "Modelo criado pelo **Lucas Valentim**\n",
        "\n",
        "https://github.com/lucasvalentim/chromosome-recognizer/blob/master/chromosome_recognizer.ipynb"
      ]
    },
    {
      "metadata": {
        "colab_type": "code",
        "id": "qGOLNR-RjvlL",
        "colab": {}
      },
      "cell_type": "code",
      "source": [
        "architecture = 'architecture_3'"
      ],
      "execution_count": 0,
      "outputs": []
    },
    {
      "metadata": {
        "id": "1n6OuO9xDwyl",
        "colab_type": "text"
      },
      "cell_type": "markdown",
      "source": [
        "### Modelo"
      ]
    },
    {
      "metadata": {
        "id": "3nTNgnrCe33x",
        "colab_type": "code",
        "colab": {}
      },
      "cell_type": "code",
      "source": [
        "from keras.layers import Conv2D, MaxPooling2D, GlobalMaxPooling2D, BatchNormalization\n",
        "from keras.regularizers import l2\n",
        "\n",
        "model = Sequential()\n",
        "\n",
        "model.add(Conv2D(32, (3, 3), activation='relu', kernel_regularizer=l2(1e-4), \n",
        "                 input_shape=(None, None, 3)))\n",
        "model.add(BatchNormalization())\n",
        "model.add(Conv2D(32, (3, 3), activation='relu', kernel_regularizer=l2(1e-4)))\n",
        "model.add(BatchNormalization())\n",
        "model.add(MaxPooling2D((2, 2)))\n",
        "model.add(Dropout(0.25))\n",
        "\n",
        "model.add(Conv2D(64, (3, 3), activation='relu', kernel_regularizer=l2(1e-4)))\n",
        "model.add(BatchNormalization())\n",
        "model.add(Conv2D(64, (3, 3), activation='relu', kernel_regularizer=l2(1e-4)))\n",
        "model.add(BatchNormalization())\n",
        "model.add(MaxPooling2D((2, 2)))\n",
        "model.add(Dropout(0.25))\n",
        "\n",
        "model.add(Conv2D(128, (1,1), kernel_regularizer=l2(1e-4)))\n",
        "model.add(GlobalMaxPooling2D())\n",
        "\n",
        "model.add(Dense(256, activation='relu', kernel_regularizer=l2(1e-4)))\n",
        "model.add(Dropout(0.5))\n",
        "model.add(Dense(2, activation='sigmoid', kernel_regularizer=l2(1e-4)))"
      ],
      "execution_count": 0,
      "outputs": []
    },
    {
      "metadata": {
        "id": "g1okz4QbiBnE",
        "colab_type": "code",
        "colab": {}
      },
      "cell_type": "code",
      "source": [
        "model.compile(optimizer='adam', loss='binary_crossentropy', metrics=['accuracy'])"
      ],
      "execution_count": 0,
      "outputs": []
    },
    {
      "metadata": {
        "colab_type": "text",
        "id": "K4fpjl01FSYm"
      },
      "cell_type": "markdown",
      "source": [
        "### Treino\n"
      ]
    },
    {
      "metadata": {
        "colab_type": "code",
        "id": "qTcUkJSLFSYy",
        "colab": {}
      },
      "cell_type": "code",
      "source": [
        "checkpointer = ModelCheckpoint(filepath='drive/My Drive/Resultado/Segmentado/weights_' + architecture + '.hdf5', verbose=1, save_best_only=True)"
      ],
      "execution_count": 0,
      "outputs": []
    },
    {
      "metadata": {
        "colab_type": "code",
        "id": "b5BHB-x0FSZE",
        "outputId": "f343eb3f-cfc0-4781-e9d1-c59adad9a914",
        "colab": {
          "base_uri": "https://localhost:8080/",
          "height": 0
        }
      },
      "cell_type": "code",
      "source": [
        "training = model.fit_generator(train_batches, steps_per_epoch=stepsPerEpoche, \n",
        "                   validation_data=validation_batches, validation_steps=validationSteps,\n",
        "                   epochs=50, verbose=2, callbacks=[checkpointer])"
      ],
      "execution_count": 175,
      "outputs": [
        {
          "output_type": "stream",
          "text": [
            "Epoch 1/50\n",
            " - 6s - loss: 2.1012 - acc: 0.5000 - val_loss: 0.6046 - val_acc: 0.6875\n",
            "\n",
            "Epoch 00001: val_loss improved from inf to 0.60459, saving model to drive/My Drive/Resultado/Segmentado/weights_architecture_3.hdf5\n",
            "Epoch 2/50\n",
            " - 1s - loss: 1.3763 - acc: 0.5625 - val_loss: 0.7083 - val_acc: 0.5703\n",
            "\n",
            "Epoch 00002: val_loss did not improve from 0.60459\n",
            "Epoch 3/50\n",
            " - 1s - loss: 0.8030 - acc: 0.6797 - val_loss: 0.4730 - val_acc: 0.8281\n",
            "\n",
            "Epoch 00003: val_loss improved from 0.60459 to 0.47301, saving model to drive/My Drive/Resultado/Segmentado/weights_architecture_3.hdf5\n",
            "Epoch 4/50\n",
            " - 1s - loss: 0.7298 - acc: 0.7109 - val_loss: 0.9080 - val_acc: 0.5391\n",
            "\n",
            "Epoch 00004: val_loss did not improve from 0.47301\n",
            "Epoch 5/50\n",
            " - 1s - loss: 0.6199 - acc: 0.7318 - val_loss: 0.6619 - val_acc: 0.6406\n",
            "\n",
            "Epoch 00005: val_loss did not improve from 0.47301\n",
            "Epoch 6/50\n",
            " - 1s - loss: 0.5448 - acc: 0.7734 - val_loss: 0.7161 - val_acc: 0.6484\n",
            "\n",
            "Epoch 00006: val_loss did not improve from 0.47301\n",
            "Epoch 7/50\n",
            " - 1s - loss: 0.5484 - acc: 0.7630 - val_loss: 0.8143 - val_acc: 0.5078\n",
            "\n",
            "Epoch 00007: val_loss did not improve from 0.47301\n",
            "Epoch 8/50\n",
            " - 1s - loss: 0.5025 - acc: 0.7734 - val_loss: 0.5699 - val_acc: 0.8125\n",
            "\n",
            "Epoch 00008: val_loss did not improve from 0.47301\n",
            "Epoch 9/50\n",
            " - 1s - loss: 0.4547 - acc: 0.8125 - val_loss: 0.7414 - val_acc: 0.5270\n",
            "\n",
            "Epoch 00009: val_loss did not improve from 0.47301\n",
            "Epoch 10/50\n",
            " - 1s - loss: 0.4241 - acc: 0.8151 - val_loss: 0.4484 - val_acc: 0.8203\n",
            "\n",
            "Epoch 00010: val_loss improved from 0.47301 to 0.44837, saving model to drive/My Drive/Resultado/Segmentado/weights_architecture_3.hdf5\n",
            "Epoch 11/50\n",
            " - 1s - loss: 0.4275 - acc: 0.8307 - val_loss: 0.6119 - val_acc: 0.6797\n",
            "\n",
            "Epoch 00011: val_loss did not improve from 0.44837\n",
            "Epoch 12/50\n",
            " - 1s - loss: 0.3987 - acc: 0.8646 - val_loss: 0.5128 - val_acc: 0.7266\n",
            "\n",
            "Epoch 00012: val_loss did not improve from 0.44837\n",
            "Epoch 13/50\n",
            " - 1s - loss: 0.4255 - acc: 0.8177 - val_loss: 0.5536 - val_acc: 0.7266\n",
            "\n",
            "Epoch 00013: val_loss did not improve from 0.44837\n",
            "Epoch 14/50\n",
            " - 1s - loss: 0.4338 - acc: 0.8333 - val_loss: 0.4754 - val_acc: 0.8203\n",
            "\n",
            "Epoch 00014: val_loss did not improve from 0.44837\n",
            "Epoch 15/50\n",
            " - 1s - loss: 0.3049 - acc: 0.8914 - val_loss: 0.4335 - val_acc: 0.8438\n",
            "\n",
            "Epoch 00015: val_loss improved from 0.44837 to 0.43349, saving model to drive/My Drive/Resultado/Segmentado/weights_architecture_3.hdf5\n",
            "Epoch 16/50\n",
            " - 1s - loss: 0.3920 - acc: 0.8177 - val_loss: 0.4540 - val_acc: 0.7891\n",
            "\n",
            "Epoch 00016: val_loss did not improve from 0.43349\n",
            "Epoch 17/50\n",
            " - 1s - loss: 0.3208 - acc: 0.8880 - val_loss: 0.4816 - val_acc: 0.7656\n",
            "\n",
            "Epoch 00017: val_loss did not improve from 0.43349\n",
            "Epoch 18/50\n",
            " - 1s - loss: 0.3822 - acc: 0.8750 - val_loss: 0.3666 - val_acc: 0.8672\n",
            "\n",
            "Epoch 00018: val_loss improved from 0.43349 to 0.36659, saving model to drive/My Drive/Resultado/Segmentado/weights_architecture_3.hdf5\n",
            "Epoch 19/50\n",
            " - 1s - loss: 0.3860 - acc: 0.8464 - val_loss: 0.5252 - val_acc: 0.7891\n",
            "\n",
            "Epoch 00019: val_loss did not improve from 0.36659\n",
            "Epoch 20/50\n",
            " - 1s - loss: 0.5011 - acc: 0.7839 - val_loss: 0.4589 - val_acc: 0.8438\n",
            "\n",
            "Epoch 00020: val_loss did not improve from 0.36659\n",
            "Epoch 21/50\n",
            " - 1s - loss: 0.3752 - acc: 0.8698 - val_loss: 0.4983 - val_acc: 0.8203\n",
            "\n",
            "Epoch 00021: val_loss did not improve from 0.36659\n",
            "Epoch 22/50\n",
            " - 1s - loss: 0.4564 - acc: 0.8151 - val_loss: 0.3352 - val_acc: 0.9297\n",
            "\n",
            "Epoch 00022: val_loss improved from 0.36659 to 0.33524, saving model to drive/My Drive/Resultado/Segmentado/weights_architecture_3.hdf5\n",
            "Epoch 23/50\n",
            " - 1s - loss: 0.3797 - acc: 0.8281 - val_loss: 0.5799 - val_acc: 0.6953\n",
            "\n",
            "Epoch 00023: val_loss did not improve from 0.33524\n",
            "Epoch 24/50\n",
            " - 1s - loss: 0.4043 - acc: 0.8542 - val_loss: 0.3553 - val_acc: 0.8828\n",
            "\n",
            "Epoch 00024: val_loss did not improve from 0.33524\n",
            "Epoch 25/50\n",
            " - 1s - loss: 0.3384 - acc: 0.8620 - val_loss: 0.4131 - val_acc: 0.8906\n",
            "\n",
            "Epoch 00025: val_loss did not improve from 0.33524\n",
            "Epoch 26/50\n",
            " - 1s - loss: 0.3718 - acc: 0.8724 - val_loss: 0.3363 - val_acc: 0.8750\n",
            "\n",
            "Epoch 00026: val_loss did not improve from 0.33524\n",
            "Epoch 27/50\n",
            " - 1s - loss: 0.2957 - acc: 0.8958 - val_loss: 0.4038 - val_acc: 0.8672\n",
            "\n",
            "Epoch 00027: val_loss did not improve from 0.33524\n",
            "Epoch 28/50\n",
            " - 1s - loss: 0.2107 - acc: 0.9427 - val_loss: 0.4684 - val_acc: 0.7969\n",
            "\n",
            "Epoch 00028: val_loss did not improve from 0.33524\n",
            "Epoch 29/50\n",
            " - 1s - loss: 0.4019 - acc: 0.8542 - val_loss: 0.4186 - val_acc: 0.8750\n",
            "\n",
            "Epoch 00029: val_loss did not improve from 0.33524\n",
            "Epoch 30/50\n",
            " - 1s - loss: 0.3264 - acc: 0.8776 - val_loss: 0.3948 - val_acc: 0.8516\n",
            "\n",
            "Epoch 00030: val_loss did not improve from 0.33524\n",
            "Epoch 31/50\n",
            " - 1s - loss: 0.3365 - acc: 0.8672 - val_loss: 0.4336 - val_acc: 0.8281\n",
            "\n",
            "Epoch 00031: val_loss did not improve from 0.33524\n",
            "Epoch 32/50\n",
            " - 1s - loss: 0.3620 - acc: 0.8802 - val_loss: 0.3335 - val_acc: 0.8672\n",
            "\n",
            "Epoch 00032: val_loss improved from 0.33524 to 0.33346, saving model to drive/My Drive/Resultado/Segmentado/weights_architecture_3.hdf5\n",
            "Epoch 33/50\n",
            " - 1s - loss: 0.2496 - acc: 0.9115 - val_loss: 0.3069 - val_acc: 0.9189\n",
            "\n",
            "Epoch 00033: val_loss improved from 0.33346 to 0.30693, saving model to drive/My Drive/Resultado/Segmentado/weights_architecture_3.hdf5\n",
            "Epoch 34/50\n",
            " - 1s - loss: 0.3342 - acc: 0.8854 - val_loss: 0.5302 - val_acc: 0.7734\n",
            "\n",
            "Epoch 00034: val_loss did not improve from 0.30693\n",
            "Epoch 35/50\n",
            " - 1s - loss: 0.3030 - acc: 0.8906 - val_loss: 0.4212 - val_acc: 0.8438\n",
            "\n",
            "Epoch 00035: val_loss did not improve from 0.30693\n",
            "Epoch 36/50\n",
            " - 1s - loss: 0.2787 - acc: 0.8932 - val_loss: 0.3241 - val_acc: 0.9062\n",
            "\n",
            "Epoch 00036: val_loss did not improve from 0.30693\n",
            "Epoch 37/50\n",
            " - 1s - loss: 0.3157 - acc: 0.9089 - val_loss: 0.4224 - val_acc: 0.8594\n",
            "\n",
            "Epoch 00037: val_loss did not improve from 0.30693\n",
            "Epoch 38/50\n",
            " - 1s - loss: 0.3198 - acc: 0.8984 - val_loss: 0.3500 - val_acc: 0.8906\n",
            "\n",
            "Epoch 00038: val_loss did not improve from 0.30693\n",
            "Epoch 39/50\n",
            " - 1s - loss: 0.2674 - acc: 0.8880 - val_loss: 0.3902 - val_acc: 0.8359\n",
            "\n",
            "Epoch 00039: val_loss did not improve from 0.30693\n",
            "Epoch 40/50\n",
            " - 1s - loss: 0.2907 - acc: 0.9089 - val_loss: 0.4127 - val_acc: 0.8281\n",
            "\n",
            "Epoch 00040: val_loss did not improve from 0.30693\n",
            "Epoch 41/50\n",
            " - 1s - loss: 0.2848 - acc: 0.9010 - val_loss: 0.4411 - val_acc: 0.7969\n",
            "\n",
            "Epoch 00041: val_loss did not improve from 0.30693\n",
            "Epoch 42/50\n",
            " - 1s - loss: 0.4670 - acc: 0.8490 - val_loss: 0.3440 - val_acc: 0.8906\n",
            "\n",
            "Epoch 00042: val_loss did not improve from 0.30693\n",
            "Epoch 43/50\n",
            " - 1s - loss: 0.2787 - acc: 0.9141 - val_loss: 0.4393 - val_acc: 0.8359\n",
            "\n",
            "Epoch 00043: val_loss did not improve from 0.30693\n",
            "Epoch 44/50\n",
            " - 1s - loss: 0.3275 - acc: 0.8958 - val_loss: 0.5588 - val_acc: 0.7656\n",
            "\n",
            "Epoch 00044: val_loss did not improve from 0.30693\n",
            "Epoch 45/50\n",
            " - 1s - loss: 0.3410 - acc: 0.8924 - val_loss: 0.3618 - val_acc: 0.8203\n",
            "\n",
            "Epoch 00045: val_loss did not improve from 0.30693\n",
            "Epoch 46/50\n",
            " - 1s - loss: 0.3768 - acc: 0.8490 - val_loss: 0.4462 - val_acc: 0.7500\n",
            "\n",
            "Epoch 00046: val_loss did not improve from 0.30693\n",
            "Epoch 47/50\n",
            " - 1s - loss: 0.4432 - acc: 0.8438 - val_loss: 0.5430 - val_acc: 0.6641\n",
            "\n",
            "Epoch 00047: val_loss did not improve from 0.30693\n",
            "Epoch 48/50\n",
            " - 1s - loss: 0.3896 - acc: 0.8594 - val_loss: 0.6894 - val_acc: 0.6250\n",
            "\n",
            "Epoch 00048: val_loss did not improve from 0.30693\n",
            "Epoch 49/50\n",
            " - 1s - loss: 0.3296 - acc: 0.8646 - val_loss: 0.5245 - val_acc: 0.7031\n",
            "\n",
            "Epoch 00049: val_loss did not improve from 0.30693\n",
            "Epoch 50/50\n",
            " - 1s - loss: 0.3255 - acc: 0.8906 - val_loss: 0.5426 - val_acc: 0.7500\n",
            "\n",
            "Epoch 00050: val_loss did not improve from 0.30693\n"
          ],
          "name": "stdout"
        }
      ]
    },
    {
      "metadata": {
        "colab_type": "code",
        "id": "AmyvXiE5FSZQ",
        "colab": {}
      },
      "cell_type": "code",
      "source": [
        "model.load_weights('drive/My Drive/Resultado/Segmentado/weights_' + architecture + '.hdf5')"
      ],
      "execution_count": 0,
      "outputs": []
    },
    {
      "metadata": {
        "colab_type": "code",
        "id": "hWZAc28KFSZW",
        "outputId": "1af83be5-15e9-45d3-db9d-84c3044ddb11",
        "colab": {
          "base_uri": "https://localhost:8080/",
          "height": 0
        }
      },
      "cell_type": "code",
      "source": [
        "# plotar loss e accuracy para os datasets 'train' e 'test'\n",
        "plt.style.use(\"ggplot\")\n",
        "plt.figure()\n",
        "plt.plot(training.history['acc'], label='Accuracy')\n",
        "plt.plot(training.history['loss'], label='Loss')\n",
        "plt.xlabel('Epochs')\n",
        "plt.ylabel('Accuracy')\n",
        "plt.title(\"Training Loss and Accuracy\")\n",
        "plt.ylabel(\"Loss/Accuracy\")\n",
        "plt.legend()\n",
        "plt.savefig('drive/My Drive/Resultado/Segmentado/' + architecture + '.png', bbox_inches='tight')"
      ],
      "execution_count": 177,
      "outputs": [
        {
          "output_type": "display_data",
          "data": {
            "image/png": "[encoded data removed]",
            "text/plain": [
              "<matplotlib.figure.Figure at 0x7f357db85a90>"
            ]
          },
          "metadata": {
            "tags": []
          }
        }
      ]
    },
    {
      "metadata": {
        "colab_type": "text",
        "id": "b4irZawEFSZe"
      },
      "cell_type": "markdown",
      "source": [
        "### Teste"
      ]
    },
    {
      "metadata": {
        "colab_type": "code",
        "outputId": "987f5a81-f808-444e-b578-0f848d1d86d7",
        "id": "29iBLdvXFSZg",
        "colab": {
          "base_uri": "https://localhost:8080/",
          "height": 74
        }
      },
      "cell_type": "code",
      "source": [
        "y_true, y_predict = ler_images_teste(architecture)"
      ],
      "execution_count": 178,
      "outputs": [
        {
          "output_type": "stream",
          "text": [
            "/usr/local/lib/python3.6/dist-packages/skimage/transform/_warps.py:84: UserWarning: The default mode, 'constant', will be changed to 'reflect' in skimage 0.15.\n",
            "  warn(\"The default mode, 'constant', will be changed to 'reflect' in \"\n"
          ],
          "name": "stderr"
        }
      ]
    },
    {
      "metadata": {
        "colab_type": "code",
        "id": "ssYgM7CyFSZs",
        "colab": {
          "base_uri": "https://localhost:8080/",
          "height": 35
        },
        "outputId": "5866f71f-29d6-405a-fc8e-1de335ee08e4"
      },
      "cell_type": "code",
      "source": [
        "results[architecture] = precision_score(y_true, y_predict, average='binary')\n",
        "print('Test Precision: {:.2f}%'\n",
        "      .format(100 * results[architecture]))"
      ],
      "execution_count": 179,
      "outputs": [
        {
          "output_type": "stream",
          "text": [
            "Test Precision: 19.50%\n"
          ],
          "name": "stdout"
        }
      ]
    },
    {
      "metadata": {
        "id": "jkrlEFjlw030",
        "colab_type": "text"
      },
      "cell_type": "markdown",
      "source": [
        "## 4 tentativa Precision: 19.64%"
      ]
    },
    {
      "metadata": {
        "id": "UJ7JELAiw2kb",
        "colab_type": "text"
      },
      "cell_type": "markdown",
      "source": [
        "Modelo adaptado do **Lucas Albertins**\n",
        "\n",
        "*   Sem os **dropout**\n"
      ]
    },
    {
      "metadata": {
        "colab_type": "code",
        "id": "VMLmVlASj26i",
        "colab": {}
      },
      "cell_type": "code",
      "source": [
        "architecture = 'architecture_4'"
      ],
      "execution_count": 0,
      "outputs": []
    },
    {
      "metadata": {
        "id": "YdF5FzDmD6YV",
        "colab_type": "text"
      },
      "cell_type": "markdown",
      "source": [
        "### Modelo"
      ]
    },
    {
      "metadata": {
        "colab_type": "code",
        "id": "4N0B_5a2xB3T",
        "colab": {}
      },
      "cell_type": "code",
      "source": [
        "from keras.layers import Conv2D, MaxPooling2D, GlobalMaxPooling2D, BatchNormalization\n",
        "from keras.regularizers import l2\n",
        "\n",
        "model = Sequential()\n",
        "\n",
        "model.add(Conv2D(32, (3, 3), activation='relu', kernel_regularizer=l2(1e-4), \n",
        "                 input_shape=(None, None, 3)))\n",
        "model.add(BatchNormalization())\n",
        "model.add(Conv2D(32, (3, 3), activation='relu', kernel_regularizer=l2(1e-4)))\n",
        "model.add(BatchNormalization())\n",
        "model.add(MaxPooling2D((2, 2)))\n",
        "\n",
        "model.add(Conv2D(64, (3, 3), activation='relu', kernel_regularizer=l2(1e-4)))\n",
        "model.add(BatchNormalization())\n",
        "model.add(Conv2D(64, (3, 3), activation='relu', kernel_regularizer=l2(1e-4)))\n",
        "model.add(BatchNormalization())\n",
        "model.add(MaxPooling2D((2, 2)))\n",
        "\n",
        "model.add(Conv2D(128, (1,1), kernel_regularizer=l2(1e-4)))\n",
        "model.add(GlobalMaxPooling2D())\n",
        "\n",
        "model.add(Dense(256, activation='relu', kernel_regularizer=l2(1e-4)))\n",
        "model.add(BatchNormalization())\n",
        "model.add(Dense(2, activation='sigmoid', kernel_regularizer=l2(1e-4)))"
      ],
      "execution_count": 0,
      "outputs": []
    },
    {
      "metadata": {
        "colab_type": "code",
        "id": "V9VHjygmxB3k",
        "colab": {}
      },
      "cell_type": "code",
      "source": [
        "model.compile(optimizer='adam', loss='binary_crossentropy', metrics=['accuracy'])"
      ],
      "execution_count": 0,
      "outputs": []
    },
    {
      "metadata": {
        "colab_type": "text",
        "id": "kcNWBCc7FTxl"
      },
      "cell_type": "markdown",
      "source": [
        "### Treino\n"
      ]
    },
    {
      "metadata": {
        "colab_type": "code",
        "id": "6idT1WYmFTxt",
        "colab": {}
      },
      "cell_type": "code",
      "source": [
        "checkpointer = ModelCheckpoint(filepath='drive/My Drive/Resultado/Segmentado/weights_' + architecture + '.hdf5', verbose=1, save_best_only=True)"
      ],
      "execution_count": 0,
      "outputs": []
    },
    {
      "metadata": {
        "colab_type": "code",
        "id": "f6NCQXC1FTx1",
        "colab": {
          "base_uri": "https://localhost:8080/",
          "height": 3710
        },
        "outputId": "1ebea967-32eb-4cbf-c633-6287bdff8fde"
      },
      "cell_type": "code",
      "source": [
        "training = model.fit_generator(train_batches, steps_per_epoch=stepsPerEpoche, \n",
        "                   validation_data=validation_batches, validation_steps=validationSteps,\n",
        "                   epochs=50, verbose=2, callbacks=[checkpointer])"
      ],
      "execution_count": 184,
      "outputs": [
        {
          "output_type": "stream",
          "text": [
            "Epoch 1/50\n",
            " - 7s - loss: 0.5196 - acc: 0.7865 - val_loss: 1.4706 - val_acc: 0.6562\n",
            "\n",
            "Epoch 00001: val_loss improved from inf to 1.47065, saving model to drive/My Drive/Resultado/Segmentado/weights_architecture_4.hdf5\n",
            "Epoch 2/50\n",
            " - 1s - loss: 0.4075 - acc: 0.8594 - val_loss: 1.5410 - val_acc: 0.5946\n",
            "\n",
            "Epoch 00002: val_loss did not improve from 1.47065\n",
            "Epoch 3/50\n",
            " - 1s - loss: 0.3526 - acc: 0.8724 - val_loss: 1.0795 - val_acc: 0.5312\n",
            "\n",
            "Epoch 00003: val_loss improved from 1.47065 to 1.07948, saving model to drive/My Drive/Resultado/Segmentado/weights_architecture_4.hdf5\n",
            "Epoch 4/50\n",
            " - 1s - loss: 0.2851 - acc: 0.9245 - val_loss: 0.4492 - val_acc: 0.8594\n",
            "\n",
            "Epoch 00004: val_loss improved from 1.07948 to 0.44916, saving model to drive/My Drive/Resultado/Segmentado/weights_architecture_4.hdf5\n",
            "Epoch 5/50\n",
            " - 1s - loss: 0.4031 - acc: 0.8906 - val_loss: 0.4779 - val_acc: 0.8047\n",
            "\n",
            "Epoch 00005: val_loss did not improve from 0.44916\n",
            "Epoch 6/50\n",
            " - 1s - loss: 0.2927 - acc: 0.9375 - val_loss: 0.3694 - val_acc: 0.8359\n",
            "\n",
            "Epoch 00006: val_loss improved from 0.44916 to 0.36941, saving model to drive/My Drive/Resultado/Segmentado/weights_architecture_4.hdf5\n",
            "Epoch 7/50\n",
            " - 1s - loss: 0.3387 - acc: 0.8776 - val_loss: 0.5648 - val_acc: 0.8125\n",
            "\n",
            "Epoch 00007: val_loss did not improve from 0.36941\n",
            "Epoch 8/50\n",
            " - 1s - loss: 0.4073 - acc: 0.8672 - val_loss: 0.6413 - val_acc: 0.8438\n",
            "\n",
            "Epoch 00008: val_loss did not improve from 0.36941\n",
            "Epoch 9/50\n",
            " - 1s - loss: 0.2614 - acc: 0.9349 - val_loss: 0.8047 - val_acc: 0.8047\n",
            "\n",
            "Epoch 00009: val_loss did not improve from 0.36941\n",
            "Epoch 10/50\n",
            " - 1s - loss: 0.3010 - acc: 0.9089 - val_loss: 0.4778 - val_acc: 0.7969\n",
            "\n",
            "Epoch 00010: val_loss did not improve from 0.36941\n",
            "Epoch 11/50\n",
            " - 1s - loss: 0.3290 - acc: 0.9036 - val_loss: 0.8866 - val_acc: 0.6641\n",
            "\n",
            "Epoch 00011: val_loss did not improve from 0.36941\n",
            "Epoch 12/50\n",
            " - 1s - loss: 0.3595 - acc: 0.8750 - val_loss: 0.8297 - val_acc: 0.6016\n",
            "\n",
            "Epoch 00012: val_loss did not improve from 0.36941\n",
            "Epoch 13/50\n",
            " - 1s - loss: 0.3688 - acc: 0.8646 - val_loss: 0.5729 - val_acc: 0.7422\n",
            "\n",
            "Epoch 00013: val_loss did not improve from 0.36941\n",
            "Epoch 14/50\n",
            " - 1s - loss: 0.3099 - acc: 0.9036 - val_loss: 0.7007 - val_acc: 0.7422\n",
            "\n",
            "Epoch 00014: val_loss did not improve from 0.36941\n",
            "Epoch 15/50\n",
            " - 1s - loss: 0.2835 - acc: 0.9062 - val_loss: 1.4481 - val_acc: 0.5859\n",
            "\n",
            "Epoch 00015: val_loss did not improve from 0.36941\n",
            "Epoch 16/50\n",
            " - 1s - loss: 0.2513 - acc: 0.9193 - val_loss: 0.7925 - val_acc: 0.6641\n",
            "\n",
            "Epoch 00016: val_loss did not improve from 0.36941\n",
            "Epoch 17/50\n",
            " - 1s - loss: 0.2715 - acc: 0.9036 - val_loss: 0.5931 - val_acc: 0.7578\n",
            "\n",
            "Epoch 00017: val_loss did not improve from 0.36941\n",
            "Epoch 18/50\n",
            " - 1s - loss: 0.3453 - acc: 0.8880 - val_loss: 0.2668 - val_acc: 0.8984\n",
            "\n",
            "Epoch 00018: val_loss improved from 0.36941 to 0.26677, saving model to drive/My Drive/Resultado/Segmentado/weights_architecture_4.hdf5\n",
            "Epoch 19/50\n",
            " - 1s - loss: 0.2841 - acc: 0.9271 - val_loss: 0.2677 - val_acc: 0.9453\n",
            "\n",
            "Epoch 00019: val_loss did not improve from 0.26677\n",
            "Epoch 20/50\n",
            " - 1s - loss: 0.3346 - acc: 0.8906 - val_loss: 0.3093 - val_acc: 0.8906\n",
            "\n",
            "Epoch 00020: val_loss did not improve from 0.26677\n",
            "Epoch 21/50\n",
            " - 1s - loss: 0.3674 - acc: 0.8932 - val_loss: 0.3447 - val_acc: 0.8828\n",
            "\n",
            "Epoch 00021: val_loss did not improve from 0.26677\n",
            "Epoch 22/50\n",
            " - 1s - loss: 0.2883 - acc: 0.9167 - val_loss: 0.2997 - val_acc: 0.9062\n",
            "\n",
            "Epoch 00022: val_loss did not improve from 0.26677\n",
            "Epoch 23/50\n",
            " - 1s - loss: 0.2385 - acc: 0.9323 - val_loss: 0.1875 - val_acc: 0.9219\n",
            "\n",
            "Epoch 00023: val_loss improved from 0.26677 to 0.18747, saving model to drive/My Drive/Resultado/Segmentado/weights_architecture_4.hdf5\n",
            "Epoch 24/50\n",
            " - 1s - loss: 0.2348 - acc: 0.9576 - val_loss: 0.2484 - val_acc: 0.9375\n",
            "\n",
            "Epoch 00024: val_loss did not improve from 0.18747\n",
            "Epoch 25/50\n",
            " - 1s - loss: 0.2380 - acc: 0.9036 - val_loss: 1.0331 - val_acc: 0.7422\n",
            "\n",
            "Epoch 00025: val_loss did not improve from 0.18747\n",
            "Epoch 26/50\n",
            " - 1s - loss: 0.2746 - acc: 0.9141 - val_loss: 0.6701 - val_acc: 0.7162\n",
            "\n",
            "Epoch 00026: val_loss did not improve from 0.18747\n",
            "Epoch 27/50\n",
            " - 1s - loss: 0.3331 - acc: 0.9062 - val_loss: 0.2199 - val_acc: 0.9219\n",
            "\n",
            "Epoch 00027: val_loss did not improve from 0.18747\n",
            "Epoch 28/50\n",
            " - 1s - loss: 0.2497 - acc: 0.9323 - val_loss: 0.2456 - val_acc: 0.9297\n",
            "\n",
            "Epoch 00028: val_loss did not improve from 0.18747\n",
            "Epoch 29/50\n",
            " - 1s - loss: 0.2456 - acc: 0.9193 - val_loss: 0.3021 - val_acc: 0.8828\n",
            "\n",
            "Epoch 00029: val_loss did not improve from 0.18747\n",
            "Epoch 30/50\n",
            " - 1s - loss: 0.2847 - acc: 0.9115 - val_loss: 0.4390 - val_acc: 0.8750\n",
            "\n",
            "Epoch 00030: val_loss did not improve from 0.18747\n",
            "Epoch 31/50\n",
            " - 1s - loss: 0.2420 - acc: 0.9193 - val_loss: 0.6635 - val_acc: 0.8125\n",
            "\n",
            "Epoch 00031: val_loss did not improve from 0.18747\n",
            "Epoch 32/50\n",
            " - 1s - loss: 0.3547 - acc: 0.8958 - val_loss: 0.4514 - val_acc: 0.8438\n",
            "\n",
            "Epoch 00032: val_loss did not improve from 0.18747\n",
            "Epoch 33/50\n",
            " - 1s - loss: 0.2966 - acc: 0.9010 - val_loss: 0.2905 - val_acc: 0.8984\n",
            "\n",
            "Epoch 00033: val_loss did not improve from 0.18747\n",
            "Epoch 34/50\n",
            " - 1s - loss: 0.2753 - acc: 0.9089 - val_loss: 0.3289 - val_acc: 0.8828\n",
            "\n",
            "Epoch 00034: val_loss did not improve from 0.18747\n",
            "Epoch 35/50\n",
            " - 1s - loss: 0.2927 - acc: 0.9010 - val_loss: 0.2393 - val_acc: 0.9375\n",
            "\n",
            "Epoch 00035: val_loss did not improve from 0.18747\n",
            "Epoch 36/50\n",
            " - 1s - loss: 0.2641 - acc: 0.9219 - val_loss: 0.3340 - val_acc: 0.8750\n",
            "\n",
            "Epoch 00036: val_loss did not improve from 0.18747\n",
            "Epoch 37/50\n",
            " - 1s - loss: 0.2684 - acc: 0.9115 - val_loss: 0.3326 - val_acc: 0.8906\n",
            "\n",
            "Epoch 00037: val_loss did not improve from 0.18747\n",
            "Epoch 38/50\n",
            " - 1s - loss: 0.2272 - acc: 0.9375 - val_loss: 0.4352 - val_acc: 0.8438\n",
            "\n",
            "Epoch 00038: val_loss did not improve from 0.18747\n",
            "Epoch 39/50\n",
            " - 1s - loss: 0.3438 - acc: 0.8958 - val_loss: 0.4141 - val_acc: 0.8750\n",
            "\n",
            "Epoch 00039: val_loss did not improve from 0.18747\n",
            "Epoch 40/50\n",
            " - 1s - loss: 0.3386 - acc: 0.8620 - val_loss: 0.3094 - val_acc: 0.9219\n",
            "\n",
            "Epoch 00040: val_loss did not improve from 0.18747\n",
            "Epoch 41/50\n",
            " - 1s - loss: 0.2486 - acc: 0.9271 - val_loss: 0.5398 - val_acc: 0.8047\n",
            "\n",
            "Epoch 00041: val_loss did not improve from 0.18747\n",
            "Epoch 42/50\n",
            " - 1s - loss: 0.2110 - acc: 0.9349 - val_loss: 0.3636 - val_acc: 0.8828\n",
            "\n",
            "Epoch 00042: val_loss did not improve from 0.18747\n",
            "Epoch 43/50\n",
            " - 1s - loss: 0.3150 - acc: 0.8906 - val_loss: 0.4440 - val_acc: 0.8516\n",
            "\n",
            "Epoch 00043: val_loss did not improve from 0.18747\n",
            "Epoch 44/50\n",
            " - 1s - loss: 0.2181 - acc: 0.9349 - val_loss: 0.1972 - val_acc: 0.9297\n",
            "\n",
            "Epoch 00044: val_loss did not improve from 0.18747\n",
            "Epoch 45/50\n",
            " - 1s - loss: 0.1489 - acc: 0.9792 - val_loss: 0.2987 - val_acc: 0.9375\n",
            "\n",
            "Epoch 00045: val_loss did not improve from 0.18747\n",
            "Epoch 46/50\n",
            " - 1s - loss: 0.3272 - acc: 0.8880 - val_loss: 0.4513 - val_acc: 0.8438\n",
            "\n",
            "Epoch 00046: val_loss did not improve from 0.18747\n",
            "Epoch 47/50\n",
            " - 1s - loss: 0.2469 - acc: 0.9193 - val_loss: 0.6720 - val_acc: 0.7891\n",
            "\n",
            "Epoch 00047: val_loss did not improve from 0.18747\n",
            "Epoch 48/50\n",
            " - 1s - loss: 0.2464 - acc: 0.9141 - val_loss: 1.5246 - val_acc: 0.6094\n",
            "\n",
            "Epoch 00048: val_loss did not improve from 0.18747\n",
            "Epoch 49/50\n",
            " - 1s - loss: 0.3148 - acc: 0.8828 - val_loss: 1.9580 - val_acc: 0.6172\n",
            "\n",
            "Epoch 00049: val_loss did not improve from 0.18747\n",
            "Epoch 50/50\n",
            " - 1s - loss: 0.4136 - acc: 0.8776 - val_loss: 0.7954 - val_acc: 0.7432\n",
            "\n",
            "Epoch 00050: val_loss did not improve from 0.18747\n"
          ],
          "name": "stdout"
        }
      ]
    },
    {
      "metadata": {
        "colab_type": "code",
        "id": "iJ_tPIvvFTx_",
        "colab": {}
      },
      "cell_type": "code",
      "source": [
        "model.load_weights('drive/My Drive/Resultado/Segmentado/weights_' + architecture + '.hdf5')"
      ],
      "execution_count": 0,
      "outputs": []
    },
    {
      "metadata": {
        "colab_type": "code",
        "id": "mgtuSOjIFTyM",
        "colab": {
          "base_uri": "https://localhost:8080/",
          "height": 380
        },
        "outputId": "6a93b109-f828-4b46-da18-e3916ee325fb"
      },
      "cell_type": "code",
      "source": [
        "# plotar loss e accuracy para os datasets 'train' e 'test'\n",
        "plt.style.use(\"ggplot\")\n",
        "plt.figure()\n",
        "plt.plot(training.history['acc'], label='Accuracy')\n",
        "plt.plot(training.history['loss'], label='Loss')\n",
        "plt.xlabel('Epochs')\n",
        "plt.ylabel('Accuracy')\n",
        "plt.title(\"Training Loss and Accuracy\")\n",
        "plt.ylabel(\"Loss/Accuracy\")\n",
        "plt.legend()\n",
        "plt.savefig('drive/My Drive/Resultado/Segmentado/' + architecture + '.png', bbox_inches='tight')"
      ],
      "execution_count": 186,
      "outputs": [
        {
          "output_type": "display_data",
          "data": {
            "image/png": "[encoded data removed]",
            "text/plain": [
              "<matplotlib.figure.Figure at 0x7f357b739f98>"
            ]
          },
          "metadata": {
            "tags": []
          }
        }
      ]
    },
    {
      "metadata": {
        "colab_type": "text",
        "id": "p5uPlXtaFTyV"
      },
      "cell_type": "markdown",
      "source": [
        "### Teste"
      ]
    },
    {
      "metadata": {
        "colab_type": "code",
        "id": "BlgQSQAcFTyX",
        "colab": {
          "base_uri": "https://localhost:8080/",
          "height": 74
        },
        "outputId": "3279bc9e-d721-4488-8814-30623327b759"
      },
      "cell_type": "code",
      "source": [
        "y_true, y_predict = ler_images_teste(architecture)"
      ],
      "execution_count": 187,
      "outputs": [
        {
          "output_type": "stream",
          "text": [
            "/usr/local/lib/python3.6/dist-packages/skimage/transform/_warps.py:84: UserWarning: The default mode, 'constant', will be changed to 'reflect' in skimage 0.15.\n",
            "  warn(\"The default mode, 'constant', will be changed to 'reflect' in \"\n"
          ],
          "name": "stderr"
        }
      ]
    },
    {
      "metadata": {
        "colab_type": "code",
        "id": "8PQ2XJ-SFTye",
        "colab": {
          "base_uri": "https://localhost:8080/",
          "height": 35
        },
        "outputId": "77f90215-c505-4cc4-f850-e51c4cdef4a1"
      },
      "cell_type": "code",
      "source": [
        "results[architecture] = precision_score(y_true, y_predict, average='binary')\n",
        "print('Test Precision: {:.2f}%'\n",
        "      .format(100 * results[architecture]))"
      ],
      "execution_count": 188,
      "outputs": [
        {
          "output_type": "stream",
          "text": [
            "Test Precision: 19.64%\n"
          ],
          "name": "stdout"
        }
      ]
    },
    {
      "metadata": {
        "id": "lX3WANMgB1Ew",
        "colab_type": "text"
      },
      "cell_type": "markdown",
      "source": [
        "## 5 tentativa Precision: 19.66%"
      ]
    },
    {
      "metadata": {
        "colab_type": "text",
        "id": "dqed1VQh6WXg"
      },
      "cell_type": "markdown",
      "source": [
        "Modelo adaptado do **Lucas Albertins**\n",
        "\n",
        "*   Sem os **dropout**\n",
        "*   Função **SGD** para compilação\n"
      ]
    },
    {
      "metadata": {
        "colab_type": "code",
        "id": "HA_KKMyaj6-L",
        "colab": {}
      },
      "cell_type": "code",
      "source": [
        "architecture = 'architecture_5'"
      ],
      "execution_count": 0,
      "outputs": []
    },
    {
      "metadata": {
        "id": "hWG5bCGfEBAs",
        "colab_type": "text"
      },
      "cell_type": "markdown",
      "source": [
        "### Modelo"
      ]
    },
    {
      "metadata": {
        "colab_type": "code",
        "id": "z9mlUa4mB-ER",
        "colab": {}
      },
      "cell_type": "code",
      "source": [
        "from keras.layers import Conv2D, MaxPooling2D, GlobalMaxPooling2D, BatchNormalization\n",
        "from keras.regularizers import l2\n",
        "\n",
        "model = Sequential()\n",
        "\n",
        "model.add(Conv2D(32, (3, 3), activation='relu', kernel_regularizer=l2(1e-4), \n",
        "                 input_shape=(None, None, 3)))\n",
        "model.add(BatchNormalization())\n",
        "model.add(Conv2D(32, (3, 3), activation='relu', kernel_regularizer=l2(1e-4)))\n",
        "model.add(BatchNormalization())\n",
        "model.add(MaxPooling2D((2, 2)))\n",
        "model.add(Dropout(0.25))\n",
        "\n",
        "model.add(Conv2D(64, (3, 3), activation='relu', kernel_regularizer=l2(1e-4)))\n",
        "model.add(BatchNormalization())\n",
        "model.add(Conv2D(64, (3, 3), activation='relu', kernel_regularizer=l2(1e-4)))\n",
        "model.add(BatchNormalization())\n",
        "model.add(MaxPooling2D((2, 2)))\n",
        "model.add(Dropout(0.25))\n",
        "\n",
        "model.add(Conv2D(128, (1,1), kernel_regularizer=l2(1e-4)))\n",
        "model.add(GlobalMaxPooling2D())\n",
        "\n",
        "model.add(Dense(256, activation='relu', kernel_regularizer=l2(1e-4)))\n",
        "model.add(Dropout(0.5))\n",
        "model.add(Dense(2, activation='sigmoid', kernel_regularizer=l2(1e-4)))"
      ],
      "execution_count": 0,
      "outputs": []
    },
    {
      "metadata": {
        "id": "ukvJwM-lCHtB",
        "colab_type": "code",
        "colab": {}
      },
      "cell_type": "code",
      "source": [
        "model.compile(SGD(lr=0.01, momentum=0.0, decay=0.0, nesterov=False), \n",
        "              loss='binary_crossentropy', metrics=['accuracy'])"
      ],
      "execution_count": 0,
      "outputs": []
    },
    {
      "metadata": {
        "colab_type": "text",
        "id": "mPnh-fAOFVav"
      },
      "cell_type": "markdown",
      "source": [
        "### Treino\n"
      ]
    },
    {
      "metadata": {
        "colab_type": "code",
        "id": "2aFqWUaiFVa8",
        "colab": {}
      },
      "cell_type": "code",
      "source": [
        "checkpointer = ModelCheckpoint(filepath='drive/My Drive/Resultado/Segmentado/weights_' + architecture + '.hdf5', verbose=1, save_best_only=True)"
      ],
      "execution_count": 0,
      "outputs": []
    },
    {
      "metadata": {
        "colab_type": "code",
        "id": "kL5dpxY1FVbN",
        "colab": {
          "base_uri": "https://localhost:8080/",
          "height": 0
        },
        "outputId": "c3aba861-8a99-4872-edcc-a11c65bd22f4"
      },
      "cell_type": "code",
      "source": [
        "training = model.fit_generator(train_batches, steps_per_epoch=stepsPerEpoche, \n",
        "                   validation_data=validation_batches, validation_steps=validationSteps,\n",
        "                   epochs=50, verbose=2, callbacks=[checkpointer])"
      ],
      "execution_count": 193,
      "outputs": [
        {
          "output_type": "stream",
          "text": [
            "Epoch 1/50\n",
            " - 7s - loss: 3.4989 - acc: 0.5339 - val_loss: 1.5055 - val_acc: 0.5000\n",
            "\n",
            "Epoch 00001: val_loss improved from inf to 1.50550, saving model to drive/My Drive/Resultado/Segmentado/weights_architecture_5.hdf5\n",
            "Epoch 2/50\n",
            " - 1s - loss: 1.8813 - acc: 0.5599 - val_loss: 0.7845 - val_acc: 0.6016\n",
            "\n",
            "Epoch 00002: val_loss improved from 1.50550 to 0.78448, saving model to drive/My Drive/Resultado/Segmentado/weights_architecture_5.hdf5\n",
            "Epoch 3/50\n",
            " - 1s - loss: 1.2079 - acc: 0.6094 - val_loss: 0.6431 - val_acc: 0.6406\n",
            "\n",
            "Epoch 00003: val_loss improved from 0.78448 to 0.64305, saving model to drive/My Drive/Resultado/Segmentado/weights_architecture_5.hdf5\n",
            "Epoch 4/50\n",
            " - 1s - loss: 0.7594 - acc: 0.7158 - val_loss: 1.0169 - val_acc: 0.4531\n",
            "\n",
            "Epoch 00004: val_loss did not improve from 0.64305\n",
            "Epoch 5/50\n",
            " - 1s - loss: 0.7479 - acc: 0.6823 - val_loss: 0.6100 - val_acc: 0.5859\n",
            "\n",
            "Epoch 00005: val_loss improved from 0.64305 to 0.61005, saving model to drive/My Drive/Resultado/Segmentado/weights_architecture_5.hdf5\n",
            "Epoch 6/50\n",
            " - 1s - loss: 0.7596 - acc: 0.7109 - val_loss: 0.6823 - val_acc: 0.6875\n",
            "\n",
            "Epoch 00006: val_loss did not improve from 0.61005\n",
            "Epoch 7/50\n",
            " - 1s - loss: 0.9212 - acc: 0.6354 - val_loss: 0.6776 - val_acc: 0.6016\n",
            "\n",
            "Epoch 00007: val_loss did not improve from 0.61005\n",
            "Epoch 8/50\n",
            " - 1s - loss: 0.6184 - acc: 0.7161 - val_loss: 0.6314 - val_acc: 0.7344\n",
            "\n",
            "Epoch 00008: val_loss did not improve from 0.61005\n",
            "Epoch 9/50\n",
            " - 1s - loss: 0.6833 - acc: 0.6849 - val_loss: 0.5724 - val_acc: 0.7734\n",
            "\n",
            "Epoch 00009: val_loss improved from 0.61005 to 0.57245, saving model to drive/My Drive/Resultado/Segmentado/weights_architecture_5.hdf5\n",
            "Epoch 10/50\n",
            " - 1s - loss: 0.5614 - acc: 0.7396 - val_loss: 0.8945 - val_acc: 0.4062\n",
            "\n",
            "Epoch 00010: val_loss did not improve from 0.57245\n",
            "Epoch 11/50\n",
            " - 1s - loss: 0.5024 - acc: 0.8047 - val_loss: 0.8429 - val_acc: 0.5000\n",
            "\n",
            "Epoch 00011: val_loss did not improve from 0.57245\n",
            "Epoch 12/50\n",
            " - 1s - loss: 0.4577 - acc: 0.8151 - val_loss: 0.7184 - val_acc: 0.5391\n",
            "\n",
            "Epoch 00012: val_loss did not improve from 0.57245\n",
            "Epoch 13/50\n",
            " - 1s - loss: 0.5798 - acc: 0.7708 - val_loss: 0.9166 - val_acc: 0.4766\n",
            "\n",
            "Epoch 00013: val_loss did not improve from 0.57245\n",
            "Epoch 14/50\n",
            " - 1s - loss: 0.6022 - acc: 0.7786 - val_loss: 0.5285 - val_acc: 0.7500\n",
            "\n",
            "Epoch 00014: val_loss improved from 0.57245 to 0.52849, saving model to drive/My Drive/Resultado/Segmentado/weights_architecture_5.hdf5\n",
            "Epoch 15/50\n",
            " - 1s - loss: 0.4239 - acc: 0.8594 - val_loss: 0.4306 - val_acc: 0.8906\n",
            "\n",
            "Epoch 00015: val_loss improved from 0.52849 to 0.43061, saving model to drive/My Drive/Resultado/Segmentado/weights_architecture_5.hdf5\n",
            "Epoch 16/50\n",
            " - 1s - loss: 0.4880 - acc: 0.8490 - val_loss: 0.6122 - val_acc: 0.6953\n",
            "\n",
            "Epoch 00016: val_loss did not improve from 0.43061\n",
            "Epoch 17/50\n",
            " - 1s - loss: 0.4469 - acc: 0.8073 - val_loss: 0.8249 - val_acc: 0.5938\n",
            "\n",
            "Epoch 00017: val_loss did not improve from 0.43061\n",
            "Epoch 18/50\n",
            " - 1s - loss: 0.4778 - acc: 0.8359 - val_loss: 0.7392 - val_acc: 0.6406\n",
            "\n",
            "Epoch 00018: val_loss did not improve from 0.43061\n",
            "Epoch 19/50\n",
            " - 1s - loss: 0.4862 - acc: 0.7786 - val_loss: 0.4665 - val_acc: 0.8514\n",
            "\n",
            "Epoch 00019: val_loss did not improve from 0.43061\n",
            "Epoch 20/50\n",
            " - 1s - loss: 0.4650 - acc: 0.7995 - val_loss: 0.4416 - val_acc: 0.8594\n",
            "\n",
            "Epoch 00020: val_loss did not improve from 0.43061\n",
            "Epoch 21/50\n",
            " - 1s - loss: 0.4501 - acc: 0.8229 - val_loss: 0.5531 - val_acc: 0.8203\n",
            "\n",
            "Epoch 00021: val_loss did not improve from 0.43061\n",
            "Epoch 22/50\n",
            " - 1s - loss: 0.4973 - acc: 0.7917 - val_loss: 0.8446 - val_acc: 0.4453\n",
            "\n",
            "Epoch 00022: val_loss did not improve from 0.43061\n",
            "Epoch 23/50\n",
            " - 1s - loss: 0.6018 - acc: 0.7500 - val_loss: 0.6159 - val_acc: 0.7578\n",
            "\n",
            "Epoch 00023: val_loss did not improve from 0.43061\n",
            "Epoch 24/50\n",
            " - 1s - loss: 0.3951 - acc: 0.8854 - val_loss: 0.6579 - val_acc: 0.6875\n",
            "\n",
            "Epoch 00024: val_loss did not improve from 0.43061\n",
            "Epoch 25/50\n",
            " - 1s - loss: 0.4603 - acc: 0.8255 - val_loss: 0.5045 - val_acc: 0.8281\n",
            "\n",
            "Epoch 00025: val_loss did not improve from 0.43061\n",
            "Epoch 26/50\n",
            " - 1s - loss: 0.4446 - acc: 0.8281 - val_loss: 0.5204 - val_acc: 0.7891\n",
            "\n",
            "Epoch 00026: val_loss did not improve from 0.43061\n",
            "Epoch 27/50\n",
            " - 1s - loss: 0.3998 - acc: 0.8359 - val_loss: 0.6447 - val_acc: 0.6562\n",
            "\n",
            "Epoch 00027: val_loss did not improve from 0.43061\n",
            "Epoch 28/50\n",
            " - 1s - loss: 0.4396 - acc: 0.8307 - val_loss: 0.7101 - val_acc: 0.6797\n",
            "\n",
            "Epoch 00028: val_loss did not improve from 0.43061\n",
            "Epoch 29/50\n",
            " - 1s - loss: 0.4469 - acc: 0.8359 - val_loss: 0.5205 - val_acc: 0.8125\n",
            "\n",
            "Epoch 00029: val_loss did not improve from 0.43061\n",
            "Epoch 30/50\n",
            " - 1s - loss: 0.3833 - acc: 0.8776 - val_loss: 0.4990 - val_acc: 0.7656\n",
            "\n",
            "Epoch 00030: val_loss did not improve from 0.43061\n",
            "Epoch 31/50\n",
            " - 1s - loss: 0.4539 - acc: 0.8516 - val_loss: 0.6157 - val_acc: 0.6953\n",
            "\n",
            "Epoch 00031: val_loss did not improve from 0.43061\n",
            "Epoch 32/50\n",
            " - 1s - loss: 0.4012 - acc: 0.8411 - val_loss: 0.6397 - val_acc: 0.7109\n",
            "\n",
            "Epoch 00032: val_loss did not improve from 0.43061\n",
            "Epoch 33/50\n",
            " - 1s - loss: 0.3746 - acc: 0.8724 - val_loss: 0.6772 - val_acc: 0.7109\n",
            "\n",
            "Epoch 00033: val_loss did not improve from 0.43061\n",
            "Epoch 34/50\n",
            " - 1s - loss: 0.3308 - acc: 0.8993 - val_loss: 0.4774 - val_acc: 0.7812\n",
            "\n",
            "Epoch 00034: val_loss did not improve from 0.43061\n",
            "Epoch 35/50\n",
            " - 1s - loss: 0.3688 - acc: 0.8620 - val_loss: 0.8723 - val_acc: 0.6250\n",
            "\n",
            "Epoch 00035: val_loss did not improve from 0.43061\n",
            "Epoch 36/50\n",
            " - 1s - loss: 0.5071 - acc: 0.8047 - val_loss: 0.6810 - val_acc: 0.6719\n",
            "\n",
            "Epoch 00036: val_loss did not improve from 0.43061\n",
            "Epoch 37/50\n",
            " - 1s - loss: 0.3878 - acc: 0.8438 - val_loss: 0.5965 - val_acc: 0.7266\n",
            "\n",
            "Epoch 00037: val_loss did not improve from 0.43061\n",
            "Epoch 38/50\n",
            " - 1s - loss: 0.3735 - acc: 0.8724 - val_loss: 0.6350 - val_acc: 0.6484\n",
            "\n",
            "Epoch 00038: val_loss did not improve from 0.43061\n",
            "Epoch 39/50\n",
            " - 1s - loss: 0.4602 - acc: 0.8229 - val_loss: 0.7796 - val_acc: 0.5703\n",
            "\n",
            "Epoch 00039: val_loss did not improve from 0.43061\n",
            "Epoch 40/50\n",
            " - 1s - loss: 0.3593 - acc: 0.8880 - val_loss: 0.4198 - val_acc: 0.8359\n",
            "\n",
            "Epoch 00040: val_loss improved from 0.43061 to 0.41981, saving model to drive/My Drive/Resultado/Segmentado/weights_architecture_5.hdf5\n",
            "Epoch 41/50\n",
            " - 1s - loss: 0.3586 - acc: 0.8750 - val_loss: 0.6456 - val_acc: 0.7031\n",
            "\n",
            "Epoch 00041: val_loss did not improve from 0.41981\n",
            "Epoch 42/50\n",
            " - 1s - loss: 0.3907 - acc: 0.8490 - val_loss: 0.4407 - val_acc: 0.9062\n",
            "\n",
            "Epoch 00042: val_loss did not improve from 0.41981\n",
            "Epoch 43/50\n",
            " - 1s - loss: 0.3719 - acc: 0.8854 - val_loss: 0.4239 - val_acc: 0.8784\n",
            "\n",
            "Epoch 00043: val_loss did not improve from 0.41981\n",
            "Epoch 44/50\n",
            " - 1s - loss: 0.3651 - acc: 0.8958 - val_loss: 0.7351 - val_acc: 0.6172\n",
            "\n",
            "Epoch 00044: val_loss did not improve from 0.41981\n",
            "Epoch 45/50\n",
            " - 1s - loss: 0.3765 - acc: 0.8828 - val_loss: 0.4237 - val_acc: 0.8750\n",
            "\n",
            "Epoch 00045: val_loss did not improve from 0.41981\n",
            "Epoch 46/50\n",
            " - 1s - loss: 0.3769 - acc: 0.8516 - val_loss: 0.6140 - val_acc: 0.6172\n",
            "\n",
            "Epoch 00046: val_loss did not improve from 0.41981\n",
            "Epoch 47/50\n",
            " - 1s - loss: 0.3505 - acc: 0.8802 - val_loss: 0.7939 - val_acc: 0.5078\n",
            "\n",
            "Epoch 00047: val_loss did not improve from 0.41981\n",
            "Epoch 48/50\n",
            " - 1s - loss: 0.3698 - acc: 0.8724 - val_loss: 0.5744 - val_acc: 0.7031\n",
            "\n",
            "Epoch 00048: val_loss did not improve from 0.41981\n",
            "Epoch 49/50\n",
            " - 1s - loss: 0.3897 - acc: 0.8620 - val_loss: 0.5166 - val_acc: 0.8750\n",
            "\n",
            "Epoch 00049: val_loss did not improve from 0.41981\n",
            "Epoch 50/50\n",
            " - 1s - loss: 0.4124 - acc: 0.8620 - val_loss: 0.4627 - val_acc: 0.8828\n",
            "\n",
            "Epoch 00050: val_loss did not improve from 0.41981\n"
          ],
          "name": "stdout"
        }
      ]
    },
    {
      "metadata": {
        "colab_type": "code",
        "id": "Ff7wwKnOFVbb",
        "colab": {}
      },
      "cell_type": "code",
      "source": [
        "model.load_weights('drive/My Drive/Resultado/Segmentado/weights_' + architecture + '.hdf5')"
      ],
      "execution_count": 0,
      "outputs": []
    },
    {
      "metadata": {
        "colab_type": "code",
        "id": "Iw5rgYTXFVbl",
        "colab": {
          "base_uri": "https://localhost:8080/",
          "height": 0
        },
        "outputId": "5613aea0-91f8-4022-c6bc-05cd6955e394"
      },
      "cell_type": "code",
      "source": [
        "# plotar loss e accuracy para os datasets 'train' e 'test'\n",
        "plt.style.use(\"ggplot\")\n",
        "plt.figure()\n",
        "plt.plot(training.history['acc'], label='Accuracy')\n",
        "plt.plot(training.history['loss'], label='Loss')\n",
        "plt.xlabel('Epochs')\n",
        "plt.ylabel('Accuracy')\n",
        "plt.title(\"Training Loss and Accuracy\")\n",
        "plt.ylabel(\"Loss/Accuracy\")\n",
        "plt.legend()\n",
        "plt.savefig('drive/My Drive/Resultado/Segmentado/' + architecture + '.png', bbox_inches='tight')"
      ],
      "execution_count": 195,
      "outputs": [
        {
          "output_type": "display_data",
          "data": {
            "image/png": "[encoded data removed]",
            "text/plain": [
              "<matplotlib.figure.Figure at 0x7f357bbb0358>"
            ]
          },
          "metadata": {
            "tags": []
          }
        }
      ]
    },
    {
      "metadata": {
        "colab_type": "text",
        "id": "A7_Jy2WUFVbt"
      },
      "cell_type": "markdown",
      "source": [
        "### Teste"
      ]
    },
    {
      "metadata": {
        "colab_type": "code",
        "id": "b4IWaCBPFVbv",
        "colab": {
          "base_uri": "https://localhost:8080/",
          "height": 74
        },
        "outputId": "69e414f1-f4a3-4343-effc-3a3193360cbd"
      },
      "cell_type": "code",
      "source": [
        "y_true, y_predict = ler_images_teste(architecture)"
      ],
      "execution_count": 196,
      "outputs": [
        {
          "output_type": "stream",
          "text": [
            "/usr/local/lib/python3.6/dist-packages/skimage/transform/_warps.py:84: UserWarning: The default mode, 'constant', will be changed to 'reflect' in skimage 0.15.\n",
            "  warn(\"The default mode, 'constant', will be changed to 'reflect' in \"\n"
          ],
          "name": "stderr"
        }
      ]
    },
    {
      "metadata": {
        "colab_type": "code",
        "id": "v5VXY-KLFVb1",
        "colab": {
          "base_uri": "https://localhost:8080/",
          "height": 35
        },
        "outputId": "22c529be-bc7f-4599-87e4-3b0b5fb0f487"
      },
      "cell_type": "code",
      "source": [
        "results[architecture] = precision_score(y_true, y_predict, average='binary')\n",
        "print('Test Precision: {:.2f}%'\n",
        "      .format(100 * results[architecture]))"
      ],
      "execution_count": 197,
      "outputs": [
        {
          "output_type": "stream",
          "text": [
            "Test Precision: 19.66%\n"
          ],
          "name": "stdout"
        }
      ]
    },
    {
      "metadata": {
        "id": "apfIeirYD2N7",
        "colab_type": "text"
      },
      "cell_type": "markdown",
      "source": [
        "## 6 tentativa Precision: 19.64%"
      ]
    },
    {
      "metadata": {
        "colab_type": "text",
        "id": "xaxcjuxn7BAH"
      },
      "cell_type": "markdown",
      "source": [
        "Modelo adaptado do **Lucas Albertins**\n",
        "\n",
        "*   Sem os **dropout**\n",
        "*   Função **SGD** para compilação\n",
        "*   **BatchNormalization** antes da ultima camada Dense\n"
      ]
    },
    {
      "metadata": {
        "colab_type": "code",
        "id": "QQFrxD_Rj9wz",
        "colab": {}
      },
      "cell_type": "code",
      "source": [
        "architecture = 'architecture_6'"
      ],
      "execution_count": 0,
      "outputs": []
    },
    {
      "metadata": {
        "id": "oQ6BoR4hEGjh",
        "colab_type": "text"
      },
      "cell_type": "markdown",
      "source": [
        "### Modelo"
      ]
    },
    {
      "metadata": {
        "colab_type": "code",
        "id": "C2UuO-jqD44u",
        "colab": {}
      },
      "cell_type": "code",
      "source": [
        "from keras.layers import Conv2D, MaxPooling2D, GlobalMaxPooling2D, BatchNormalization\n",
        "from keras.regularizers import l2\n",
        "\n",
        "model = Sequential()\n",
        "\n",
        "model.add(Conv2D(32, (3, 3), activation='relu', kernel_regularizer=l2(1e-4), \n",
        "                 input_shape=(None, None, 3)))\n",
        "model.add(BatchNormalization())\n",
        "model.add(Conv2D(32, (3, 3), activation='relu', kernel_regularizer=l2(1e-4)))\n",
        "model.add(BatchNormalization())\n",
        "model.add(MaxPooling2D((2, 2)))\n",
        "\n",
        "model.add(Conv2D(64, (3, 3), activation='relu', kernel_regularizer=l2(1e-4)))\n",
        "model.add(BatchNormalization())\n",
        "model.add(Conv2D(64, (3, 3), activation='relu', kernel_regularizer=l2(1e-4)))\n",
        "model.add(BatchNormalization())\n",
        "model.add(MaxPooling2D((2, 2)))\n",
        "\n",
        "model.add(Conv2D(128, (1,1), kernel_regularizer=l2(1e-4)))\n",
        "model.add(GlobalMaxPooling2D())\n",
        "\n",
        "model.add(Dense(256, activation='relu', kernel_regularizer=l2(1e-4)))\n",
        "model.add(BatchNormalization())\n",
        "model.add(Dense(2, activation='sigmoid', kernel_regularizer=l2(1e-4)))"
      ],
      "execution_count": 0,
      "outputs": []
    },
    {
      "metadata": {
        "colab_type": "code",
        "id": "I7mu97znD45M",
        "colab": {}
      },
      "cell_type": "code",
      "source": [
        "model.compile(SGD(lr=0.03, momentum=0.0, decay=0.0, nesterov=False), \n",
        "              loss='binary_crossentropy', metrics=['accuracy'])"
      ],
      "execution_count": 0,
      "outputs": []
    },
    {
      "metadata": {
        "colab_type": "text",
        "id": "7OF1CBcGFWwI"
      },
      "cell_type": "markdown",
      "source": [
        "### Treino\n"
      ]
    },
    {
      "metadata": {
        "colab_type": "code",
        "id": "70HkYs8VFWwV",
        "colab": {}
      },
      "cell_type": "code",
      "source": [
        "checkpointer = ModelCheckpoint(filepath='drive/My Drive/Resultado/Segmentado/weights_' + architecture + '.hdf5', verbose=1, save_best_only=True)"
      ],
      "execution_count": 0,
      "outputs": []
    },
    {
      "metadata": {
        "colab_type": "code",
        "id": "CMUZOHCEFWwn",
        "colab": {
          "base_uri": "https://localhost:8080/",
          "height": 0
        },
        "outputId": "d77d33a4-720b-4608-93c4-01b02e0707bc"
      },
      "cell_type": "code",
      "source": [
        "training = model.fit_generator(train_batches, steps_per_epoch=stepsPerEpoche, \n",
        "                   validation_data=validation_batches, validation_steps=validationSteps,\n",
        "                   epochs=50, verbose=2, callbacks=[checkpointer])"
      ],
      "execution_count": 202,
      "outputs": [
        {
          "output_type": "stream",
          "text": [
            "Epoch 1/50\n",
            " - 7s - loss: 0.5910 - acc: 0.7448 - val_loss: 1.0117 - val_acc: 0.5469\n",
            "\n",
            "Epoch 00001: val_loss improved from inf to 1.01165, saving model to drive/My Drive/Resultado/Segmentado/weights_architecture_6.hdf5\n",
            "Epoch 2/50\n",
            " - 1s - loss: 0.5499 - acc: 0.7344 - val_loss: 1.1698 - val_acc: 0.6172\n",
            "\n",
            "Epoch 00002: val_loss did not improve from 1.01165\n",
            "Epoch 3/50\n",
            " - 1s - loss: 0.4836 - acc: 0.8021 - val_loss: 0.6376 - val_acc: 0.6562\n",
            "\n",
            "Epoch 00003: val_loss improved from 1.01165 to 0.63758, saving model to drive/My Drive/Resultado/Segmentado/weights_architecture_6.hdf5\n",
            "Epoch 4/50\n",
            " - 1s - loss: 0.4357 - acc: 0.8672 - val_loss: 0.5831 - val_acc: 0.6953\n",
            "\n",
            "Epoch 00004: val_loss improved from 0.63758 to 0.58315, saving model to drive/My Drive/Resultado/Segmentado/weights_architecture_6.hdf5\n",
            "Epoch 5/50\n",
            " - 1s - loss: 0.4346 - acc: 0.8464 - val_loss: 0.5233 - val_acc: 0.8125\n",
            "\n",
            "Epoch 00005: val_loss improved from 0.58315 to 0.52327, saving model to drive/My Drive/Resultado/Segmentado/weights_architecture_6.hdf5\n",
            "Epoch 6/50\n",
            " - 1s - loss: 0.4023 - acc: 0.8516 - val_loss: 0.5124 - val_acc: 0.8047\n",
            "\n",
            "Epoch 00006: val_loss improved from 0.52327 to 0.51245, saving model to drive/My Drive/Resultado/Segmentado/weights_architecture_6.hdf5\n",
            "Epoch 7/50\n",
            " - 1s - loss: 0.3721 - acc: 0.8906 - val_loss: 0.5576 - val_acc: 0.8594\n",
            "\n",
            "Epoch 00007: val_loss did not improve from 0.51245\n",
            "Epoch 8/50\n",
            " - 1s - loss: 0.4380 - acc: 0.8698 - val_loss: 0.8094 - val_acc: 0.6953\n",
            "\n",
            "Epoch 00008: val_loss did not improve from 0.51245\n",
            "Epoch 9/50\n",
            " - 1s - loss: 0.2985 - acc: 0.9141 - val_loss: 0.5928 - val_acc: 0.7656\n",
            "\n",
            "Epoch 00009: val_loss did not improve from 0.51245\n",
            "Epoch 10/50\n",
            " - 1s - loss: 0.3100 - acc: 0.8984 - val_loss: 0.3715 - val_acc: 0.8906\n",
            "\n",
            "Epoch 00010: val_loss improved from 0.51245 to 0.37146, saving model to drive/My Drive/Resultado/Segmentado/weights_architecture_6.hdf5\n",
            "Epoch 11/50\n",
            " - 1s - loss: 0.3550 - acc: 0.8828 - val_loss: 0.6961 - val_acc: 0.7188\n",
            "\n",
            "Epoch 00011: val_loss did not improve from 0.37146\n",
            "Epoch 12/50\n",
            " - 1s - loss: 0.2953 - acc: 0.8932 - val_loss: 0.3395 - val_acc: 0.9054\n",
            "\n",
            "Epoch 00012: val_loss improved from 0.37146 to 0.33950, saving model to drive/My Drive/Resultado/Segmentado/weights_architecture_6.hdf5\n",
            "Epoch 13/50\n",
            " - 1s - loss: 0.2616 - acc: 0.9311 - val_loss: 0.4550 - val_acc: 0.8281\n",
            "\n",
            "Epoch 00013: val_loss did not improve from 0.33950\n",
            "Epoch 14/50\n",
            " - 1s - loss: 0.3198 - acc: 0.8906 - val_loss: 0.4147 - val_acc: 0.8359\n",
            "\n",
            "Epoch 00014: val_loss did not improve from 0.33950\n",
            "Epoch 15/50\n",
            " - 1s - loss: 0.3456 - acc: 0.8906 - val_loss: 0.4811 - val_acc: 0.8594\n",
            "\n",
            "Epoch 00015: val_loss did not improve from 0.33950\n",
            "Epoch 16/50\n",
            " - 1s - loss: 0.2902 - acc: 0.8932 - val_loss: 0.3045 - val_acc: 0.9141\n",
            "\n",
            "Epoch 00016: val_loss improved from 0.33950 to 0.30455, saving model to drive/My Drive/Resultado/Segmentado/weights_architecture_6.hdf5\n",
            "Epoch 17/50\n",
            " - 1s - loss: 0.3622 - acc: 0.8776 - val_loss: 0.5404 - val_acc: 0.7734\n",
            "\n",
            "Epoch 00017: val_loss did not improve from 0.30455\n",
            "Epoch 18/50\n",
            " - 1s - loss: 0.3078 - acc: 0.8932 - val_loss: 0.4778 - val_acc: 0.8516\n",
            "\n",
            "Epoch 00018: val_loss did not improve from 0.30455\n",
            "Epoch 19/50\n",
            " - 1s - loss: 0.2578 - acc: 0.9297 - val_loss: 0.2665 - val_acc: 0.9062\n",
            "\n",
            "Epoch 00019: val_loss improved from 0.30455 to 0.26654, saving model to drive/My Drive/Resultado/Segmentado/weights_architecture_6.hdf5\n",
            "Epoch 20/50\n",
            " - 1s - loss: 0.3356 - acc: 0.9115 - val_loss: 0.3387 - val_acc: 0.9219\n",
            "\n",
            "Epoch 00020: val_loss did not improve from 0.26654\n",
            "Epoch 21/50\n",
            " - 1s - loss: 0.3440 - acc: 0.8906 - val_loss: 0.5380 - val_acc: 0.8750\n",
            "\n",
            "Epoch 00021: val_loss did not improve from 0.26654\n",
            "Epoch 22/50\n",
            " - 1s - loss: 0.3709 - acc: 0.8776 - val_loss: 0.2889 - val_acc: 0.8750\n",
            "\n",
            "Epoch 00022: val_loss did not improve from 0.26654\n",
            "Epoch 23/50\n",
            " - 1s - loss: 0.2918 - acc: 0.9167 - val_loss: 0.5264 - val_acc: 0.8984\n",
            "\n",
            "Epoch 00023: val_loss did not improve from 0.26654\n",
            "Epoch 24/50\n",
            " - 1s - loss: 0.2938 - acc: 0.9115 - val_loss: 0.2419 - val_acc: 0.8906\n",
            "\n",
            "Epoch 00024: val_loss improved from 0.26654 to 0.24191, saving model to drive/My Drive/Resultado/Segmentado/weights_architecture_6.hdf5\n",
            "Epoch 25/50\n",
            " - 1s - loss: 0.2486 - acc: 0.9453 - val_loss: 0.2938 - val_acc: 0.8906\n",
            "\n",
            "Epoch 00025: val_loss did not improve from 0.24191\n",
            "Epoch 26/50\n",
            " - 1s - loss: 0.2727 - acc: 0.9349 - val_loss: 0.2414 - val_acc: 0.9531\n",
            "\n",
            "Epoch 00026: val_loss improved from 0.24191 to 0.24139, saving model to drive/My Drive/Resultado/Segmentado/weights_architecture_6.hdf5\n",
            "Epoch 27/50\n",
            " - 1s - loss: 0.3343 - acc: 0.8932 - val_loss: 0.4269 - val_acc: 0.8750\n",
            "\n",
            "Epoch 00027: val_loss did not improve from 0.24139\n",
            "Epoch 28/50\n",
            " - 1s - loss: 0.2817 - acc: 0.9245 - val_loss: 0.5371 - val_acc: 0.7266\n",
            "\n",
            "Epoch 00028: val_loss did not improve from 0.24139\n",
            "Epoch 29/50\n",
            " - 1s - loss: 0.2765 - acc: 0.9245 - val_loss: 0.2098 - val_acc: 0.9531\n",
            "\n",
            "Epoch 00029: val_loss improved from 0.24139 to 0.20983, saving model to drive/My Drive/Resultado/Segmentado/weights_architecture_6.hdf5\n",
            "Epoch 30/50\n",
            " - 1s - loss: 0.2611 - acc: 0.9245 - val_loss: 0.5806 - val_acc: 0.8438\n",
            "\n",
            "Epoch 00030: val_loss did not improve from 0.20983\n",
            "Epoch 31/50\n",
            " - 1s - loss: 0.3335 - acc: 0.8932 - val_loss: 1.3798 - val_acc: 0.5938\n",
            "\n",
            "Epoch 00031: val_loss did not improve from 0.20983\n",
            "Epoch 32/50\n",
            " - 1s - loss: 0.2960 - acc: 0.8932 - val_loss: 0.2945 - val_acc: 0.8750\n",
            "\n",
            "Epoch 00032: val_loss did not improve from 0.20983\n",
            "Epoch 33/50\n",
            " - 1s - loss: 0.3284 - acc: 0.8906 - val_loss: 0.4125 - val_acc: 0.8203\n",
            "\n",
            "Epoch 00033: val_loss did not improve from 0.20983\n",
            "Epoch 34/50\n",
            " - 1s - loss: 0.2751 - acc: 0.9141 - val_loss: 0.2145 - val_acc: 0.9141\n",
            "\n",
            "Epoch 00034: val_loss did not improve from 0.20983\n",
            "Epoch 35/50\n",
            " - 1s - loss: 0.3179 - acc: 0.9036 - val_loss: 0.2917 - val_acc: 0.8984\n",
            "\n",
            "Epoch 00035: val_loss did not improve from 0.20983\n",
            "Epoch 36/50\n",
            " - 1s - loss: 0.2371 - acc: 0.9089 - val_loss: 0.4799 - val_acc: 0.8108\n",
            "\n",
            "Epoch 00036: val_loss did not improve from 0.20983\n",
            "Epoch 37/50\n",
            " - 1s - loss: 0.3791 - acc: 0.8672 - val_loss: 0.3981 - val_acc: 0.8281\n",
            "\n",
            "Epoch 00037: val_loss did not improve from 0.20983\n",
            "Epoch 38/50\n",
            " - 1s - loss: 0.2626 - acc: 0.9375 - val_loss: 0.4925 - val_acc: 0.8672\n",
            "\n",
            "Epoch 00038: val_loss did not improve from 0.20983\n",
            "Epoch 39/50\n",
            " - 1s - loss: 0.2047 - acc: 0.9323 - val_loss: 0.4300 - val_acc: 0.8750\n",
            "\n",
            "Epoch 00039: val_loss did not improve from 0.20983\n",
            "Epoch 40/50\n",
            " - 1s - loss: 0.2919 - acc: 0.9271 - val_loss: 0.2548 - val_acc: 0.9141\n",
            "\n",
            "Epoch 00040: val_loss did not improve from 0.20983\n",
            "Epoch 41/50\n",
            " - 1s - loss: 0.2341 - acc: 0.9349 - val_loss: 0.4194 - val_acc: 0.9062\n",
            "\n",
            "Epoch 00041: val_loss did not improve from 0.20983\n",
            "Epoch 42/50\n",
            " - 1s - loss: 0.2984 - acc: 0.9036 - val_loss: 0.3110 - val_acc: 0.8672\n",
            "\n",
            "Epoch 00042: val_loss did not improve from 0.20983\n",
            "Epoch 43/50\n",
            " - 1s - loss: 0.2297 - acc: 0.9364 - val_loss: 0.4321 - val_acc: 0.8516\n",
            "\n",
            "Epoch 00043: val_loss did not improve from 0.20983\n",
            "Epoch 44/50\n",
            " - 1s - loss: 0.2748 - acc: 0.9271 - val_loss: 0.3370 - val_acc: 0.8359\n",
            "\n",
            "Epoch 00044: val_loss did not improve from 0.20983\n",
            "Epoch 45/50\n",
            " - 1s - loss: 0.2652 - acc: 0.9167 - val_loss: 0.3002 - val_acc: 0.8906\n",
            "\n",
            "Epoch 00045: val_loss did not improve from 0.20983\n",
            "Epoch 46/50\n",
            " - 1s - loss: 0.3668 - acc: 0.8750 - val_loss: 0.4407 - val_acc: 0.8906\n",
            "\n",
            "Epoch 00046: val_loss did not improve from 0.20983\n",
            "Epoch 47/50\n",
            " - 1s - loss: 0.2039 - acc: 0.9505 - val_loss: 0.4976 - val_acc: 0.8828\n",
            "\n",
            "Epoch 00047: val_loss did not improve from 0.20983\n",
            "Epoch 48/50\n",
            " - 1s - loss: 0.3146 - acc: 0.8802 - val_loss: 0.3536 - val_acc: 0.8828\n",
            "\n",
            "Epoch 00048: val_loss did not improve from 0.20983\n",
            "Epoch 49/50\n",
            " - 1s - loss: 0.3220 - acc: 0.8932 - val_loss: 0.3794 - val_acc: 0.9141\n",
            "\n",
            "Epoch 00049: val_loss did not improve from 0.20983\n",
            "Epoch 50/50\n",
            " - 1s - loss: 0.2127 - acc: 0.9323 - val_loss: 0.4671 - val_acc: 0.8750\n",
            "\n",
            "Epoch 00050: val_loss did not improve from 0.20983\n"
          ],
          "name": "stdout"
        }
      ]
    },
    {
      "metadata": {
        "colab_type": "code",
        "id": "nR0vN5spFWwx",
        "colab": {}
      },
      "cell_type": "code",
      "source": [
        "model.load_weights('drive/My Drive/Resultado/Segmentado/weights_' + architecture + '.hdf5')"
      ],
      "execution_count": 0,
      "outputs": []
    },
    {
      "metadata": {
        "colab_type": "code",
        "id": "Tt2oHR6WFWw3",
        "colab": {
          "base_uri": "https://localhost:8080/",
          "height": 0
        },
        "outputId": "2dc40e08-fa52-43cf-a705-1c848012146e"
      },
      "cell_type": "code",
      "source": [
        "# plotar loss e accuracy para os datasets 'train' e 'test'\n",
        "plt.style.use(\"ggplot\")\n",
        "plt.figure()\n",
        "plt.plot(training.history['acc'], label='Accuracy')\n",
        "plt.plot(training.history['loss'], label='Loss')\n",
        "plt.xlabel('Epochs')\n",
        "plt.ylabel('Accuracy')\n",
        "plt.title(\"Training Loss and Accuracy\")\n",
        "plt.ylabel(\"Loss/Accuracy\")\n",
        "plt.legend()\n",
        "plt.savefig('drive/My Drive/Resultado/Segmentado/' + architecture + '.png', bbox_inches='tight')"
      ],
      "execution_count": 204,
      "outputs": [
        {
          "output_type": "display_data",
          "data": {
            "image/png": "[encoded data removed]",
            "text/plain": [
              "<matplotlib.figure.Figure at 0x7f357bb0bda0>"
            ]
          },
          "metadata": {
            "tags": []
          }
        }
      ]
    },
    {
      "metadata": {
        "colab_type": "text",
        "id": "EdoUg--pFWw-"
      },
      "cell_type": "markdown",
      "source": [
        "### Teste"
      ]
    },
    {
      "metadata": {
        "colab_type": "code",
        "id": "GCPqD2CEFWxB",
        "colab": {
          "base_uri": "https://localhost:8080/",
          "height": 74
        },
        "outputId": "1cee4378-392d-48dd-9bd1-be0e75645ab1"
      },
      "cell_type": "code",
      "source": [
        "y_true, y_predict = ler_images_teste(architecture)"
      ],
      "execution_count": 205,
      "outputs": [
        {
          "output_type": "stream",
          "text": [
            "/usr/local/lib/python3.6/dist-packages/skimage/transform/_warps.py:84: UserWarning: The default mode, 'constant', will be changed to 'reflect' in skimage 0.15.\n",
            "  warn(\"The default mode, 'constant', will be changed to 'reflect' in \"\n"
          ],
          "name": "stderr"
        }
      ]
    },
    {
      "metadata": {
        "colab_type": "code",
        "id": "L7gP-PPbFWxI",
        "colab": {
          "base_uri": "https://localhost:8080/",
          "height": 35
        },
        "outputId": "99fd3fe1-3d1a-4306-e58b-0bb4ac062924"
      },
      "cell_type": "code",
      "source": [
        "results[architecture] = precision_score(y_true, y_predict, average='binary')\n",
        "print('Test Precision: {:.2f}%'\n",
        "      .format(100 * results[architecture]))"
      ],
      "execution_count": 206,
      "outputs": [
        {
          "output_type": "stream",
          "text": [
            "Test Precision: 19.64%\n"
          ],
          "name": "stdout"
        }
      ]
    },
    {
      "metadata": {
        "id": "5gk7vmYPHddj",
        "colab_type": "text"
      },
      "cell_type": "markdown",
      "source": [
        "## 7 tentativa Precision: 19.64%"
      ]
    },
    {
      "metadata": {
        "colab_type": "text",
        "id": "lxzyd-4L422r"
      },
      "cell_type": "markdown",
      "source": [
        "Modelo adaptado do **Lucas Albertins**\n",
        "\n",
        "*   Sem os **dropout**\n",
        "*   Função **Adadelta** para compilação\n",
        "*   **BatchNormalization** antes da ultima camada Dense\n"
      ]
    },
    {
      "metadata": {
        "colab_type": "code",
        "id": "ufy24IuYkBYc",
        "colab": {}
      },
      "cell_type": "code",
      "source": [
        "architecture = 'architecture_7'"
      ],
      "execution_count": 0,
      "outputs": []
    },
    {
      "metadata": {
        "id": "Qx405s6NENSz",
        "colab_type": "text"
      },
      "cell_type": "markdown",
      "source": [
        "### Modelo"
      ]
    },
    {
      "metadata": {
        "colab_type": "code",
        "id": "sIBEdGsyHhJN",
        "colab": {}
      },
      "cell_type": "code",
      "source": [
        "from keras.layers import Conv2D, MaxPooling2D, GlobalMaxPooling2D, BatchNormalization\n",
        "from keras.regularizers import l2\n",
        "from keras.optimizers import Adadelta\n",
        "\n",
        "model = Sequential()\n",
        "\n",
        "model.add(Conv2D(32, (3, 3), activation='relu', kernel_regularizer=l2(1e-4), \n",
        "                 input_shape=(None, None, 3)))\n",
        "model.add(BatchNormalization())\n",
        "model.add(Conv2D(32, (3, 3), activation='relu', kernel_regularizer=l2(1e-4)))\n",
        "model.add(BatchNormalization())\n",
        "model.add(MaxPooling2D((2, 2)))\n",
        "\n",
        "model.add(Conv2D(64, (3, 3), activation='relu', kernel_regularizer=l2(1e-4)))\n",
        "model.add(BatchNormalization())\n",
        "model.add(Conv2D(64, (3, 3), activation='relu', kernel_regularizer=l2(1e-4)))\n",
        "model.add(BatchNormalization())\n",
        "model.add(MaxPooling2D((2, 2)))\n",
        "\n",
        "model.add(Conv2D(128, (1,1), kernel_regularizer=l2(1e-4)))\n",
        "model.add(GlobalMaxPooling2D())\n",
        "\n",
        "model.add(Dense(256, activation='relu', kernel_regularizer=l2(1e-4)))\n",
        "model.add(BatchNormalization())\n",
        "model.add(Dense(2, activation='sigmoid', kernel_regularizer=l2(1e-4)))"
      ],
      "execution_count": 0,
      "outputs": []
    },
    {
      "metadata": {
        "colab_type": "code",
        "id": "P6ZvobfGHhJb",
        "colab": {}
      },
      "cell_type": "code",
      "source": [
        "model.compile(Adadelta(lr=1.0, rho=0.95, epsilon=None, decay=0.0), \n",
        "              loss='binary_crossentropy', metrics=['accuracy'])"
      ],
      "execution_count": 0,
      "outputs": []
    },
    {
      "metadata": {
        "colab_type": "text",
        "id": "tIjiKdnkFX7e"
      },
      "cell_type": "markdown",
      "source": [
        "### Treino\n"
      ]
    },
    {
      "metadata": {
        "colab_type": "code",
        "id": "reKucrg1FX7i",
        "colab": {}
      },
      "cell_type": "code",
      "source": [
        "checkpointer = ModelCheckpoint(filepath='drive/My Drive/Resultado/Segmentado/weights_' + architecture + '.hdf5', verbose=1, save_best_only=True)"
      ],
      "execution_count": 0,
      "outputs": []
    },
    {
      "metadata": {
        "colab_type": "code",
        "id": "OvT187HaFX7u",
        "colab": {
          "base_uri": "https://localhost:8080/",
          "height": 3710
        },
        "outputId": "3fc2afb6-8674-4a73-b41c-542b32d86402"
      },
      "cell_type": "code",
      "source": [
        "training = model.fit_generator(train_batches, steps_per_epoch=stepsPerEpoche, \n",
        "                   validation_data=validation_batches, validation_steps=validationSteps,\n",
        "                   epochs=50, verbose=2, callbacks=[checkpointer])"
      ],
      "execution_count": 211,
      "outputs": [
        {
          "output_type": "stream",
          "text": [
            "Epoch 1/50\n",
            " - 8s - loss: 0.6326 - acc: 0.7109 - val_loss: 0.9091 - val_acc: 0.7031\n",
            "\n",
            "Epoch 00001: val_loss improved from inf to 0.90913, saving model to drive/My Drive/Resultado/Segmentado/weights_architecture_7.hdf5\n",
            "Epoch 2/50\n",
            " - 1s - loss: 0.4593 - acc: 0.8385 - val_loss: 1.3066 - val_acc: 0.6172\n",
            "\n",
            "Epoch 00002: val_loss did not improve from 0.90913\n",
            "Epoch 3/50\n",
            " - 1s - loss: 0.3797 - acc: 0.8620 - val_loss: 0.9731 - val_acc: 0.6328\n",
            "\n",
            "Epoch 00003: val_loss did not improve from 0.90913\n",
            "Epoch 4/50\n",
            " - 1s - loss: 0.3590 - acc: 0.8958 - val_loss: 0.4167 - val_acc: 0.8125\n",
            "\n",
            "Epoch 00004: val_loss improved from 0.90913 to 0.41667, saving model to drive/My Drive/Resultado/Segmentado/weights_architecture_7.hdf5\n",
            "Epoch 5/50\n",
            " - 1s - loss: 0.4138 - acc: 0.8802 - val_loss: 1.1963 - val_acc: 0.5405\n",
            "\n",
            "Epoch 00005: val_loss did not improve from 0.41667\n",
            "Epoch 6/50\n",
            " - 1s - loss: 0.2759 - acc: 0.9193 - val_loss: 0.9726 - val_acc: 0.6641\n",
            "\n",
            "Epoch 00006: val_loss did not improve from 0.41667\n",
            "Epoch 7/50\n",
            " - 1s - loss: 0.3518 - acc: 0.8802 - val_loss: 0.4868 - val_acc: 0.8125\n",
            "\n",
            "Epoch 00007: val_loss did not improve from 0.41667\n",
            "Epoch 8/50\n",
            " - 1s - loss: 0.3568 - acc: 0.8698 - val_loss: 0.2848 - val_acc: 0.8984\n",
            "\n",
            "Epoch 00008: val_loss improved from 0.41667 to 0.28477, saving model to drive/My Drive/Resultado/Segmentado/weights_architecture_7.hdf5\n",
            "Epoch 9/50\n",
            " - 1s - loss: 0.2588 - acc: 0.9323 - val_loss: 0.4475 - val_acc: 0.8359\n",
            "\n",
            "Epoch 00009: val_loss did not improve from 0.28477\n",
            "Epoch 10/50\n",
            " - 1s - loss: 0.3006 - acc: 0.9062 - val_loss: 0.5941 - val_acc: 0.8281\n",
            "\n",
            "Epoch 00010: val_loss did not improve from 0.28477\n",
            "Epoch 11/50\n",
            " - 1s - loss: 0.3667 - acc: 0.8854 - val_loss: 0.9292 - val_acc: 0.6562\n",
            "\n",
            "Epoch 00011: val_loss did not improve from 0.28477\n",
            "Epoch 12/50\n",
            " - 1s - loss: 0.2643 - acc: 0.9245 - val_loss: 0.6134 - val_acc: 0.7422\n",
            "\n",
            "Epoch 00012: val_loss did not improve from 0.28477\n",
            "Epoch 13/50\n",
            " - 1s - loss: 0.3597 - acc: 0.8906 - val_loss: 0.4562 - val_acc: 0.8125\n",
            "\n",
            "Epoch 00013: val_loss did not improve from 0.28477\n",
            "Epoch 14/50\n",
            " - 1s - loss: 0.2326 - acc: 0.9557 - val_loss: 0.3635 - val_acc: 0.8594\n",
            "\n",
            "Epoch 00014: val_loss did not improve from 0.28477\n",
            "Epoch 15/50\n",
            " - 1s - loss: 0.2195 - acc: 0.9531 - val_loss: 0.6607 - val_acc: 0.7812\n",
            "\n",
            "Epoch 00015: val_loss did not improve from 0.28477\n",
            "Epoch 16/50\n",
            " - 1s - loss: 0.3525 - acc: 0.8932 - val_loss: 0.4657 - val_acc: 0.8906\n",
            "\n",
            "Epoch 00016: val_loss did not improve from 0.28477\n",
            "Epoch 17/50\n",
            " - 1s - loss: 0.3506 - acc: 0.8724 - val_loss: 0.7996 - val_acc: 0.6953\n",
            "\n",
            "Epoch 00017: val_loss did not improve from 0.28477\n",
            "Epoch 18/50\n",
            " - 1s - loss: 0.3176 - acc: 0.9010 - val_loss: 0.6319 - val_acc: 0.7891\n",
            "\n",
            "Epoch 00018: val_loss did not improve from 0.28477\n",
            "Epoch 19/50\n",
            " - 1s - loss: 0.2862 - acc: 0.9219 - val_loss: 0.7146 - val_acc: 0.6953\n",
            "\n",
            "Epoch 00019: val_loss did not improve from 0.28477\n",
            "Epoch 20/50\n",
            " - 1s - loss: 0.3319 - acc: 0.8776 - val_loss: 0.4058 - val_acc: 0.8672\n",
            "\n",
            "Epoch 00020: val_loss did not improve from 0.28477\n",
            "Epoch 21/50\n",
            " - 1s - loss: 0.3147 - acc: 0.9010 - val_loss: 0.4256 - val_acc: 0.8438\n",
            "\n",
            "Epoch 00021: val_loss did not improve from 0.28477\n",
            "Epoch 22/50\n",
            " - 1s - loss: 0.2987 - acc: 0.9046 - val_loss: 0.2352 - val_acc: 0.9141\n",
            "\n",
            "Epoch 00022: val_loss improved from 0.28477 to 0.23517, saving model to drive/My Drive/Resultado/Segmentado/weights_architecture_7.hdf5\n",
            "Epoch 23/50\n",
            " - 1s - loss: 0.2703 - acc: 0.8906 - val_loss: 0.9602 - val_acc: 0.7031\n",
            "\n",
            "Epoch 00023: val_loss did not improve from 0.23517\n",
            "Epoch 24/50\n",
            " - 1s - loss: 0.3623 - acc: 0.8724 - val_loss: 0.5643 - val_acc: 0.8203\n",
            "\n",
            "Epoch 00024: val_loss did not improve from 0.23517\n",
            "Epoch 25/50\n",
            " - 1s - loss: 0.2897 - acc: 0.9036 - val_loss: 1.2503 - val_acc: 0.5938\n",
            "\n",
            "Epoch 00025: val_loss did not improve from 0.23517\n",
            "Epoch 26/50\n",
            " - 1s - loss: 0.3233 - acc: 0.8828 - val_loss: 1.1280 - val_acc: 0.6641\n",
            "\n",
            "Epoch 00026: val_loss did not improve from 0.23517\n",
            "Epoch 27/50\n",
            " - 1s - loss: 0.2875 - acc: 0.9036 - val_loss: 0.4776 - val_acc: 0.8438\n",
            "\n",
            "Epoch 00027: val_loss did not improve from 0.23517\n",
            "Epoch 28/50\n",
            " - 1s - loss: 0.3652 - acc: 0.8802 - val_loss: 0.1980 - val_acc: 0.9531\n",
            "\n",
            "Epoch 00028: val_loss improved from 0.23517 to 0.19799, saving model to drive/My Drive/Resultado/Segmentado/weights_architecture_7.hdf5\n",
            "Epoch 29/50\n",
            " - 1s - loss: 0.3778 - acc: 0.8750 - val_loss: 0.1438 - val_acc: 0.9865\n",
            "\n",
            "Epoch 00029: val_loss improved from 0.19799 to 0.14381, saving model to drive/My Drive/Resultado/Segmentado/weights_architecture_7.hdf5\n",
            "Epoch 30/50\n",
            " - 1s - loss: 0.3064 - acc: 0.9141 - val_loss: 0.8294 - val_acc: 0.7422\n",
            "\n",
            "Epoch 00030: val_loss did not improve from 0.14381\n",
            "Epoch 31/50\n",
            " - 1s - loss: 0.2953 - acc: 0.9010 - val_loss: 0.6417 - val_acc: 0.8359\n",
            "\n",
            "Epoch 00031: val_loss did not improve from 0.14381\n",
            "Epoch 32/50\n",
            " - 1s - loss: 0.2198 - acc: 0.9375 - val_loss: 0.7168 - val_acc: 0.7266\n",
            "\n",
            "Epoch 00032: val_loss did not improve from 0.14381\n",
            "Epoch 33/50\n",
            " - 1s - loss: 0.2933 - acc: 0.9219 - val_loss: 0.8035 - val_acc: 0.8750\n",
            "\n",
            "Epoch 00033: val_loss did not improve from 0.14381\n",
            "Epoch 34/50\n",
            " - 1s - loss: 0.2893 - acc: 0.9062 - val_loss: 0.5550 - val_acc: 0.7734\n",
            "\n",
            "Epoch 00034: val_loss did not improve from 0.14381\n",
            "Epoch 35/50\n",
            " - 1s - loss: 0.2944 - acc: 0.9062 - val_loss: 1.1594 - val_acc: 0.7344\n",
            "\n",
            "Epoch 00035: val_loss did not improve from 0.14381\n",
            "Epoch 36/50\n",
            " - 1s - loss: 0.3124 - acc: 0.8932 - val_loss: 0.9448 - val_acc: 0.7969\n",
            "\n",
            "Epoch 00036: val_loss did not improve from 0.14381\n",
            "Epoch 37/50\n",
            " - 1s - loss: 0.2286 - acc: 0.9427 - val_loss: 0.1786 - val_acc: 0.9375\n",
            "\n",
            "Epoch 00037: val_loss did not improve from 0.14381\n",
            "Epoch 38/50\n",
            " - 1s - loss: 0.2980 - acc: 0.8958 - val_loss: 0.3700 - val_acc: 0.9219\n",
            "\n",
            "Epoch 00038: val_loss did not improve from 0.14381\n",
            "Epoch 39/50\n",
            " - 1s - loss: 0.2576 - acc: 0.9115 - val_loss: 0.5706 - val_acc: 0.7891\n",
            "\n",
            "Epoch 00039: val_loss did not improve from 0.14381\n",
            "Epoch 40/50\n",
            " - 1s - loss: 0.3015 - acc: 0.9036 - val_loss: 0.5308 - val_acc: 0.8438\n",
            "\n",
            "Epoch 00040: val_loss did not improve from 0.14381\n",
            "Epoch 41/50\n",
            " - 1s - loss: 0.3186 - acc: 0.8854 - val_loss: 0.2934 - val_acc: 0.8828\n",
            "\n",
            "Epoch 00041: val_loss did not improve from 0.14381\n",
            "Epoch 42/50\n",
            " - 1s - loss: 0.2429 - acc: 0.9245 - val_loss: 0.3895 - val_acc: 0.8438\n",
            "\n",
            "Epoch 00042: val_loss did not improve from 0.14381\n",
            "Epoch 43/50\n",
            " - 1s - loss: 0.2282 - acc: 0.9062 - val_loss: 0.3084 - val_acc: 0.9375\n",
            "\n",
            "Epoch 00043: val_loss did not improve from 0.14381\n",
            "Epoch 44/50\n",
            " - 1s - loss: 0.3216 - acc: 0.8828 - val_loss: 0.5268 - val_acc: 0.8359\n",
            "\n",
            "Epoch 00044: val_loss did not improve from 0.14381\n",
            "Epoch 45/50\n",
            " - 1s - loss: 0.2880 - acc: 0.8932 - val_loss: 0.9591 - val_acc: 0.6875\n",
            "\n",
            "Epoch 00045: val_loss did not improve from 0.14381\n",
            "Epoch 46/50\n",
            " - 1s - loss: 0.2772 - acc: 0.9323 - val_loss: 0.4369 - val_acc: 0.8203\n",
            "\n",
            "Epoch 00046: val_loss did not improve from 0.14381\n",
            "Epoch 47/50\n",
            " - 1s - loss: 0.3019 - acc: 0.9167 - val_loss: 0.4050 - val_acc: 0.8828\n",
            "\n",
            "Epoch 00047: val_loss did not improve from 0.14381\n",
            "Epoch 48/50\n",
            " - 1s - loss: 0.2570 - acc: 0.9271 - val_loss: 0.4734 - val_acc: 0.8672\n",
            "\n",
            "Epoch 00048: val_loss did not improve from 0.14381\n",
            "Epoch 49/50\n",
            " - 1s - loss: 0.2621 - acc: 0.9375 - val_loss: 0.3738 - val_acc: 0.8828\n",
            "\n",
            "Epoch 00049: val_loss did not improve from 0.14381\n",
            "Epoch 50/50\n",
            " - 1s - loss: 0.2651 - acc: 0.9271 - val_loss: 0.2059 - val_acc: 0.9531\n",
            "\n",
            "Epoch 00050: val_loss did not improve from 0.14381\n"
          ],
          "name": "stdout"
        }
      ]
    },
    {
      "metadata": {
        "colab_type": "code",
        "id": "8i7mC4fOFX73",
        "colab": {}
      },
      "cell_type": "code",
      "source": [
        "model.load_weights('drive/My Drive/Resultado/Segmentado/weights_' + architecture + '.hdf5')"
      ],
      "execution_count": 0,
      "outputs": []
    },
    {
      "metadata": {
        "colab_type": "code",
        "id": "-reQa0WUFX8B",
        "colab": {
          "base_uri": "https://localhost:8080/",
          "height": 380
        },
        "outputId": "200f0a3e-2b63-4684-f57d-810762800532"
      },
      "cell_type": "code",
      "source": [
        "# plotar loss e accuracy para os datasets 'train' e 'test'\n",
        "plt.style.use(\"ggplot\")\n",
        "plt.figure()\n",
        "plt.plot(training.history['acc'], label='Accuracy')\n",
        "plt.plot(training.history['loss'], label='Loss')\n",
        "plt.xlabel('Epochs')\n",
        "plt.ylabel('Accuracy')\n",
        "plt.title(\"Training Loss and Accuracy\")\n",
        "plt.ylabel(\"Loss/Accuracy\")\n",
        "plt.legend()\n",
        "plt.savefig('drive/My Drive/Resultado/Segmentado/' + architecture + '.png', bbox_inches='tight')"
      ],
      "execution_count": 213,
      "outputs": [
        {
          "output_type": "display_data",
          "data": {
            "image/png": "[encoded data removed]",
            "text/plain": [
              "<matplotlib.figure.Figure at 0x7f357bb00780>"
            ]
          },
          "metadata": {
            "tags": []
          }
        }
      ]
    },
    {
      "metadata": {
        "colab_type": "text",
        "id": "Zlv2yKAwFX8H"
      },
      "cell_type": "markdown",
      "source": [
        "### Teste"
      ]
    },
    {
      "metadata": {
        "colab_type": "code",
        "id": "JEV05eXPFX8K",
        "colab": {
          "base_uri": "https://localhost:8080/",
          "height": 74
        },
        "outputId": "0eb3f524-b616-4c4e-e033-5ea95483a8f0"
      },
      "cell_type": "code",
      "source": [
        "y_true, y_predict = ler_images_teste(architecture)"
      ],
      "execution_count": 214,
      "outputs": [
        {
          "output_type": "stream",
          "text": [
            "/usr/local/lib/python3.6/dist-packages/skimage/transform/_warps.py:84: UserWarning: The default mode, 'constant', will be changed to 'reflect' in skimage 0.15.\n",
            "  warn(\"The default mode, 'constant', will be changed to 'reflect' in \"\n"
          ],
          "name": "stderr"
        }
      ]
    },
    {
      "metadata": {
        "colab_type": "code",
        "id": "4KcufOKHFX8b",
        "colab": {
          "base_uri": "https://localhost:8080/",
          "height": 35
        },
        "outputId": "e1319f7f-dd99-4be2-af46-0ada44ce9326"
      },
      "cell_type": "code",
      "source": [
        "results[architecture] = precision_score(y_true, y_predict, average='binary')\n",
        "print('Test Precision: {:.2f}%'\n",
        "      .format(100 * results[architecture]))"
      ],
      "execution_count": 215,
      "outputs": [
        {
          "output_type": "stream",
          "text": [
            "Test Precision: 19.64%\n"
          ],
          "name": "stdout"
        }
      ]
    },
    {
      "metadata": {
        "id": "xBqqHjZrnDFP",
        "colab_type": "text"
      },
      "cell_type": "markdown",
      "source": [
        "## 8 tentativa Precision: 19.68%"
      ]
    },
    {
      "metadata": {
        "colab_type": "text",
        "id": "3Qg1zWbo5W6V"
      },
      "cell_type": "markdown",
      "source": [
        "Modelo adaptado do **Lucas Albertins**\n",
        "\n",
        "*   Função **Adadelta** para compilação\n"
      ]
    },
    {
      "metadata": {
        "colab_type": "code",
        "id": "lmwfJa_fkEKz",
        "colab": {}
      },
      "cell_type": "code",
      "source": [
        "architecture = 'architecture_8'"
      ],
      "execution_count": 0,
      "outputs": []
    },
    {
      "metadata": {
        "id": "HwG1z8RnETvS",
        "colab_type": "text"
      },
      "cell_type": "markdown",
      "source": [
        "### Modelo"
      ]
    },
    {
      "metadata": {
        "colab_type": "code",
        "id": "MvjKH9LWpGsi",
        "colab": {}
      },
      "cell_type": "code",
      "source": [
        "from keras.layers import Conv2D, MaxPooling2D, GlobalMaxPooling2D, BatchNormalization\n",
        "from keras.regularizers import l2\n",
        "from keras.optimizers import Adadelta\n",
        "\n",
        "model = Sequential()\n",
        "\n",
        "model.add(Conv2D(32, (3, 3), activation='relu', kernel_regularizer=l2(1e-4), \n",
        "                 input_shape=(None, None, 3)))\n",
        "model.add(BatchNormalization())\n",
        "model.add(Conv2D(32, (3, 3), activation='relu', kernel_regularizer=l2(1e-4)))\n",
        "model.add(BatchNormalization())\n",
        "model.add(MaxPooling2D((2, 2)))\n",
        "model.add(Dropout(0.25))\n",
        "\n",
        "model.add(Conv2D(64, (3, 3), activation='relu', kernel_regularizer=l2(1e-4)))\n",
        "model.add(BatchNormalization())\n",
        "model.add(Conv2D(64, (3, 3), activation='relu', kernel_regularizer=l2(1e-4)))\n",
        "model.add(BatchNormalization())\n",
        "model.add(MaxPooling2D((2, 2)))\n",
        "model.add(Dropout(0.25))\n",
        "\n",
        "model.add(Conv2D(128, (1,1), kernel_regularizer=l2(1e-4)))\n",
        "model.add(GlobalMaxPooling2D())\n",
        "\n",
        "model.add(Dense(256, activation='relu', kernel_regularizer=l2(1e-4)))\n",
        "model.add(Dropout(0.5))\n",
        "model.add(Dense(2, activation='sigmoid', kernel_regularizer=l2(1e-4)))"
      ],
      "execution_count": 0,
      "outputs": []
    },
    {
      "metadata": {
        "colab_type": "code",
        "id": "civjmdynpGsy",
        "colab": {}
      },
      "cell_type": "code",
      "source": [
        "model.compile(Adadelta(lr=1.0, rho=0.95, epsilon=None, decay=0.0), \n",
        "              loss='binary_crossentropy', metrics=['accuracy'])"
      ],
      "execution_count": 0,
      "outputs": []
    },
    {
      "metadata": {
        "colab_type": "text",
        "id": "VzlA9sUOFppf"
      },
      "cell_type": "markdown",
      "source": [
        "### Treino\n"
      ]
    },
    {
      "metadata": {
        "colab_type": "code",
        "id": "-p4Hhs04Fppq",
        "colab": {}
      },
      "cell_type": "code",
      "source": [
        "checkpointer = ModelCheckpoint(filepath='drive/My Drive/Resultado/Segmentado/weights_' + architecture + '.hdf5', verbose=1, save_best_only=True)"
      ],
      "execution_count": 0,
      "outputs": []
    },
    {
      "metadata": {
        "colab_type": "code",
        "id": "OurJTZonFpp8",
        "colab": {
          "base_uri": "https://localhost:8080/",
          "height": 0
        },
        "outputId": "99854003-1d2c-4daa-cd1c-d8ef2305e1dd"
      },
      "cell_type": "code",
      "source": [
        "training = model.fit_generator(train_batches, steps_per_epoch=stepsPerEpoche, \n",
        "                   validation_data=validation_batches, validation_steps=validationSteps,\n",
        "                   epochs=50, verbose=2, callbacks=[checkpointer])"
      ],
      "execution_count": 220,
      "outputs": [
        {
          "output_type": "stream",
          "text": [
            "Epoch 1/50\n",
            " - 8s - loss: 2.1750 - acc: 0.5344 - val_loss: 0.6916 - val_acc: 0.6641\n",
            "\n",
            "Epoch 00001: val_loss improved from inf to 0.69158, saving model to drive/My Drive/Resultado/Segmentado/weights_architecture_8.hdf5\n",
            "Epoch 2/50\n",
            " - 1s - loss: 1.2558 - acc: 0.5859 - val_loss: 0.8050 - val_acc: 0.6172\n",
            "\n",
            "Epoch 00002: val_loss did not improve from 0.69158\n",
            "Epoch 3/50\n",
            " - 1s - loss: 0.9947 - acc: 0.6224 - val_loss: 0.5814 - val_acc: 0.6953\n",
            "\n",
            "Epoch 00003: val_loss improved from 0.69158 to 0.58135, saving model to drive/My Drive/Resultado/Segmentado/weights_architecture_8.hdf5\n",
            "Epoch 4/50\n",
            " - 1s - loss: 0.8660 - acc: 0.6302 - val_loss: 0.5669 - val_acc: 0.7422\n",
            "\n",
            "Epoch 00004: val_loss improved from 0.58135 to 0.56692, saving model to drive/My Drive/Resultado/Segmentado/weights_architecture_8.hdf5\n",
            "Epoch 5/50\n",
            " - 1s - loss: 0.7563 - acc: 0.7031 - val_loss: 0.5954 - val_acc: 0.7422\n",
            "\n",
            "Epoch 00005: val_loss did not improve from 0.56692\n",
            "Epoch 6/50\n",
            " - 1s - loss: 0.5556 - acc: 0.7370 - val_loss: 0.6312 - val_acc: 0.7344\n",
            "\n",
            "Epoch 00006: val_loss did not improve from 0.56692\n",
            "Epoch 7/50\n",
            " - 1s - loss: 0.5788 - acc: 0.7448 - val_loss: 0.5503 - val_acc: 0.7891\n",
            "\n",
            "Epoch 00007: val_loss improved from 0.56692 to 0.55029, saving model to drive/My Drive/Resultado/Segmentado/weights_architecture_8.hdf5\n",
            "Epoch 8/50\n",
            " - 1s - loss: 0.6147 - acc: 0.7214 - val_loss: 0.4665 - val_acc: 0.8438\n",
            "\n",
            "Epoch 00008: val_loss improved from 0.55029 to 0.46649, saving model to drive/My Drive/Resultado/Segmentado/weights_architecture_8.hdf5\n",
            "Epoch 9/50\n",
            " - 1s - loss: 0.5495 - acc: 0.7578 - val_loss: 0.5274 - val_acc: 0.8281\n",
            "\n",
            "Epoch 00009: val_loss did not improve from 0.46649\n",
            "Epoch 10/50\n",
            " - 1s - loss: 0.4934 - acc: 0.7839 - val_loss: 0.5817 - val_acc: 0.7422\n",
            "\n",
            "Epoch 00010: val_loss did not improve from 0.46649\n",
            "Epoch 11/50\n",
            " - 1s - loss: 0.5567 - acc: 0.7839 - val_loss: 0.7024 - val_acc: 0.5781\n",
            "\n",
            "Epoch 00011: val_loss did not improve from 0.46649\n",
            "Epoch 12/50\n",
            " - 1s - loss: 0.6981 - acc: 0.7370 - val_loss: 0.6649 - val_acc: 0.6094\n",
            "\n",
            "Epoch 00012: val_loss did not improve from 0.46649\n",
            "Epoch 13/50\n",
            " - 1s - loss: 0.5633 - acc: 0.7422 - val_loss: 0.5033 - val_acc: 0.8906\n",
            "\n",
            "Epoch 00013: val_loss did not improve from 0.46649\n",
            "Epoch 14/50\n",
            " - 1s - loss: 0.4167 - acc: 0.8568 - val_loss: 0.5472 - val_acc: 0.7344\n",
            "\n",
            "Epoch 00014: val_loss did not improve from 0.46649\n",
            "Epoch 15/50\n",
            " - 1s - loss: 0.4807 - acc: 0.8229 - val_loss: 0.4256 - val_acc: 0.8750\n",
            "\n",
            "Epoch 00015: val_loss improved from 0.46649 to 0.42565, saving model to drive/My Drive/Resultado/Segmentado/weights_architecture_8.hdf5\n",
            "Epoch 16/50\n",
            " - 1s - loss: 0.4413 - acc: 0.8125 - val_loss: 0.3886 - val_acc: 0.8594\n",
            "\n",
            "Epoch 00016: val_loss improved from 0.42565 to 0.38859, saving model to drive/My Drive/Resultado/Segmentado/weights_architecture_8.hdf5\n",
            "Epoch 17/50\n",
            " - 1s - loss: 0.4709 - acc: 0.8229 - val_loss: 0.6918 - val_acc: 0.6406\n",
            "\n",
            "Epoch 00017: val_loss did not improve from 0.38859\n",
            "Epoch 18/50\n",
            " - 1s - loss: 0.4709 - acc: 0.7943 - val_loss: 0.5634 - val_acc: 0.7812\n",
            "\n",
            "Epoch 00018: val_loss did not improve from 0.38859\n",
            "Epoch 19/50\n",
            " - 1s - loss: 0.4703 - acc: 0.7891 - val_loss: 0.3822 - val_acc: 0.9219\n",
            "\n",
            "Epoch 00019: val_loss improved from 0.38859 to 0.38218, saving model to drive/My Drive/Resultado/Segmentado/weights_architecture_8.hdf5\n",
            "Epoch 20/50\n",
            " - 1s - loss: 0.4146 - acc: 0.8672 - val_loss: 0.3807 - val_acc: 0.8672\n",
            "\n",
            "Epoch 00020: val_loss improved from 0.38218 to 0.38074, saving model to drive/My Drive/Resultado/Segmentado/weights_architecture_8.hdf5\n",
            "Epoch 21/50\n",
            " - 1s - loss: 0.4467 - acc: 0.8125 - val_loss: 0.5391 - val_acc: 0.7578\n",
            "\n",
            "Epoch 00021: val_loss did not improve from 0.38074\n",
            "Epoch 22/50\n",
            " - 1s - loss: 0.4880 - acc: 0.7969 - val_loss: 0.6292 - val_acc: 0.6486\n",
            "\n",
            "Epoch 00022: val_loss did not improve from 0.38074\n",
            "Epoch 23/50\n",
            " - 1s - loss: 0.4909 - acc: 0.8151 - val_loss: 0.3481 - val_acc: 0.9453\n",
            "\n",
            "Epoch 00023: val_loss improved from 0.38074 to 0.34806, saving model to drive/My Drive/Resultado/Segmentado/weights_architecture_8.hdf5\n",
            "Epoch 24/50\n",
            " - 1s - loss: 0.4020 - acc: 0.8490 - val_loss: 0.4756 - val_acc: 0.8281\n",
            "\n",
            "Epoch 00024: val_loss did not improve from 0.34806\n",
            "Epoch 25/50\n",
            " - 1s - loss: 0.4124 - acc: 0.8516 - val_loss: 0.4052 - val_acc: 0.8906\n",
            "\n",
            "Epoch 00025: val_loss did not improve from 0.34806\n",
            "Epoch 26/50\n",
            " - 1s - loss: 0.3794 - acc: 0.8646 - val_loss: 0.3212 - val_acc: 0.9219\n",
            "\n",
            "Epoch 00026: val_loss improved from 0.34806 to 0.32119, saving model to drive/My Drive/Resultado/Segmentado/weights_architecture_8.hdf5\n",
            "Epoch 27/50\n",
            " - 1s - loss: 0.4150 - acc: 0.8411 - val_loss: 0.4719 - val_acc: 0.7656\n",
            "\n",
            "Epoch 00027: val_loss did not improve from 0.32119\n",
            "Epoch 28/50\n",
            " - 1s - loss: 0.4189 - acc: 0.8516 - val_loss: 0.4116 - val_acc: 0.9297\n",
            "\n",
            "Epoch 00028: val_loss did not improve from 0.32119\n",
            "Epoch 29/50\n",
            " - 1s - loss: 0.4611 - acc: 0.8411 - val_loss: 0.3966 - val_acc: 0.8672\n",
            "\n",
            "Epoch 00029: val_loss did not improve from 0.32119\n",
            "Epoch 30/50\n",
            " - 1s - loss: 0.3750 - acc: 0.8698 - val_loss: 0.4064 - val_acc: 0.8672\n",
            "\n",
            "Epoch 00030: val_loss did not improve from 0.32119\n",
            "Epoch 31/50\n",
            " - 1s - loss: 0.4132 - acc: 0.8282 - val_loss: 0.3933 - val_acc: 0.8594\n",
            "\n",
            "Epoch 00031: val_loss did not improve from 0.32119\n",
            "Epoch 32/50\n",
            " - 1s - loss: 0.3775 - acc: 0.8594 - val_loss: 0.4165 - val_acc: 0.8594\n",
            "\n",
            "Epoch 00032: val_loss did not improve from 0.32119\n",
            "Epoch 33/50\n",
            " - 1s - loss: 0.3985 - acc: 0.8359 - val_loss: 0.3813 - val_acc: 0.8203\n",
            "\n",
            "Epoch 00033: val_loss did not improve from 0.32119\n",
            "Epoch 34/50\n",
            " - 1s - loss: 0.3672 - acc: 0.8672 - val_loss: 0.3361 - val_acc: 0.8984\n",
            "\n",
            "Epoch 00034: val_loss did not improve from 0.32119\n",
            "Epoch 35/50\n",
            " - 1s - loss: 0.3454 - acc: 0.8880 - val_loss: 0.3534 - val_acc: 0.8594\n",
            "\n",
            "Epoch 00035: val_loss did not improve from 0.32119\n",
            "Epoch 36/50\n",
            " - 1s - loss: 0.4331 - acc: 0.8516 - val_loss: 0.5520 - val_acc: 0.6719\n",
            "\n",
            "Epoch 00036: val_loss did not improve from 0.32119\n",
            "Epoch 37/50\n",
            " - 1s - loss: 0.3678 - acc: 0.8542 - val_loss: 0.3220 - val_acc: 0.9219\n",
            "\n",
            "Epoch 00037: val_loss did not improve from 0.32119\n",
            "Epoch 38/50\n",
            " - 1s - loss: 0.5309 - acc: 0.7917 - val_loss: 0.3591 - val_acc: 0.8906\n",
            "\n",
            "Epoch 00038: val_loss did not improve from 0.32119\n",
            "Epoch 39/50\n",
            " - 1s - loss: 0.4725 - acc: 0.8021 - val_loss: 0.4268 - val_acc: 0.8828\n",
            "\n",
            "Epoch 00039: val_loss did not improve from 0.32119\n",
            "Epoch 40/50\n",
            " - 1s - loss: 0.3667 - acc: 0.8958 - val_loss: 0.6778 - val_acc: 0.6562\n",
            "\n",
            "Epoch 00040: val_loss did not improve from 0.32119\n",
            "Epoch 41/50\n",
            " - 1s - loss: 0.4000 - acc: 0.8776 - val_loss: 0.3521 - val_acc: 0.8906\n",
            "\n",
            "Epoch 00041: val_loss did not improve from 0.32119\n",
            "Epoch 42/50\n",
            " - 1s - loss: 0.3207 - acc: 0.8958 - val_loss: 0.3381 - val_acc: 0.8516\n",
            "\n",
            "Epoch 00042: val_loss did not improve from 0.32119\n",
            "Epoch 43/50\n",
            " - 1s - loss: 0.2837 - acc: 0.8958 - val_loss: 0.4458 - val_acc: 0.8359\n",
            "\n",
            "Epoch 00043: val_loss did not improve from 0.32119\n",
            "Epoch 44/50\n",
            " - 1s - loss: 0.3138 - acc: 0.9089 - val_loss: 0.6123 - val_acc: 0.7578\n",
            "\n",
            "Epoch 00044: val_loss did not improve from 0.32119\n",
            "Epoch 45/50\n",
            " - 1s - loss: 0.4097 - acc: 0.8490 - val_loss: 0.4144 - val_acc: 0.8281\n",
            "\n",
            "Epoch 00045: val_loss did not improve from 0.32119\n",
            "Epoch 46/50\n",
            " - 1s - loss: 0.3113 - acc: 0.9141 - val_loss: 0.2644 - val_acc: 0.9324\n",
            "\n",
            "Epoch 00046: val_loss improved from 0.32119 to 0.26442, saving model to drive/My Drive/Resultado/Segmentado/weights_architecture_8.hdf5\n",
            "Epoch 47/50\n",
            " - 1s - loss: 0.4215 - acc: 0.8177 - val_loss: 0.4553 - val_acc: 0.8281\n",
            "\n",
            "Epoch 00047: val_loss did not improve from 0.26442\n",
            "Epoch 48/50\n",
            " - 1s - loss: 0.3715 - acc: 0.8594 - val_loss: 0.5650 - val_acc: 0.6641\n",
            "\n",
            "Epoch 00048: val_loss did not improve from 0.26442\n",
            "Epoch 49/50\n",
            " - 1s - loss: 0.3494 - acc: 0.8958 - val_loss: 0.3872 - val_acc: 0.8906\n",
            "\n",
            "Epoch 00049: val_loss did not improve from 0.26442\n",
            "Epoch 50/50\n",
            " - 1s - loss: 0.4775 - acc: 0.8099 - val_loss: 0.3186 - val_acc: 0.9219\n",
            "\n",
            "Epoch 00050: val_loss did not improve from 0.26442\n"
          ],
          "name": "stdout"
        }
      ]
    },
    {
      "metadata": {
        "colab_type": "code",
        "id": "WaKuePNYFpqG",
        "colab": {}
      },
      "cell_type": "code",
      "source": [
        "model.load_weights('drive/My Drive/Resultado/Segmentado/weights_' + architecture + '.hdf5')"
      ],
      "execution_count": 0,
      "outputs": []
    },
    {
      "metadata": {
        "colab_type": "code",
        "id": "t93E4pwLFpqR",
        "colab": {
          "base_uri": "https://localhost:8080/",
          "height": 0
        },
        "outputId": "97fd6788-185b-446b-faac-ca858046c361"
      },
      "cell_type": "code",
      "source": [
        "# plotar loss e accuracy para os datasets 'train' e 'test'\n",
        "plt.style.use(\"ggplot\")\n",
        "plt.figure()\n",
        "plt.plot(training.history['acc'], label='Accuracy')\n",
        "plt.plot(training.history['loss'], label='Loss')\n",
        "plt.xlabel('Epochs')\n",
        "plt.ylabel('Accuracy')\n",
        "plt.title(\"Training Loss and Accuracy\")\n",
        "plt.ylabel(\"Loss/Accuracy\")\n",
        "plt.legend()\n",
        "plt.savefig('drive/My Drive/Resultado/Segmentado/' + architecture + '.png', bbox_inches='tight')"
      ],
      "execution_count": 222,
      "outputs": [
        {
          "output_type": "display_data",
          "data": {
            "image/png": "[encoded data removed]",
            "text/plain": [
              "<matplotlib.figure.Figure at 0x7f3578789a58>"
            ]
          },
          "metadata": {
            "tags": []
          }
        }
      ]
    },
    {
      "metadata": {
        "colab_type": "text",
        "id": "xNiWp86XFpqa"
      },
      "cell_type": "markdown",
      "source": [
        "### Teste"
      ]
    },
    {
      "metadata": {
        "colab_type": "code",
        "id": "zkq42Cz1Fpqb",
        "colab": {
          "base_uri": "https://localhost:8080/",
          "height": 74
        },
        "outputId": "4fda0b5b-c475-40d4-8daf-12537e98b1b6"
      },
      "cell_type": "code",
      "source": [
        "y_true, y_predict = ler_images_teste(architecture)"
      ],
      "execution_count": 223,
      "outputs": [
        {
          "output_type": "stream",
          "text": [
            "/usr/local/lib/python3.6/dist-packages/skimage/transform/_warps.py:84: UserWarning: The default mode, 'constant', will be changed to 'reflect' in skimage 0.15.\n",
            "  warn(\"The default mode, 'constant', will be changed to 'reflect' in \"\n"
          ],
          "name": "stderr"
        }
      ]
    },
    {
      "metadata": {
        "colab_type": "code",
        "id": "XDdF-G6_Fpql",
        "colab": {
          "base_uri": "https://localhost:8080/",
          "height": 35
        },
        "outputId": "afd73b40-4d51-4409-fc26-1256f88cd306"
      },
      "cell_type": "code",
      "source": [
        "results[architecture] = precision_score(y_true, y_predict, average='binary')\n",
        "print('Test Precision: {:.2f}%'\n",
        "      .format(100 * results[architecture]))"
      ],
      "execution_count": 224,
      "outputs": [
        {
          "output_type": "stream",
          "text": [
            "Test Precision: 19.68%\n"
          ],
          "name": "stdout"
        }
      ]
    },
    {
      "metadata": {
        "id": "csBCokNgxgbn",
        "colab_type": "text"
      },
      "cell_type": "markdown",
      "source": [
        "## 9 tentativa Precision: 19.65%"
      ]
    },
    {
      "metadata": {
        "colab_type": "text",
        "id": "qLtNH8xk63El"
      },
      "cell_type": "markdown",
      "source": [
        "Modelo adaptado do **Lucas Albertins**\n",
        "\n",
        "*   Função **SGD** para compilação\n"
      ]
    },
    {
      "metadata": {
        "colab_type": "code",
        "id": "474-g6XskHLD",
        "colab": {}
      },
      "cell_type": "code",
      "source": [
        "architecture = 'architecture_9'"
      ],
      "execution_count": 0,
      "outputs": []
    },
    {
      "metadata": {
        "id": "Ae5MENvrEYiB",
        "colab_type": "text"
      },
      "cell_type": "markdown",
      "source": [
        "### Modelo"
      ]
    },
    {
      "metadata": {
        "colab_type": "code",
        "id": "EJjS6pK1xj1f",
        "colab": {}
      },
      "cell_type": "code",
      "source": [
        "from keras.layers import Conv2D, MaxPooling2D, GlobalMaxPooling2D, BatchNormalization\n",
        "from keras.regularizers import l2\n",
        "\n",
        "model = Sequential()\n",
        "\n",
        "model.add(Conv2D(32, (3, 3), activation='relu', kernel_regularizer=l2(1e-4), \n",
        "                 input_shape=(None, None, 3)))\n",
        "model.add(BatchNormalization())\n",
        "model.add(Conv2D(32, (3, 3), activation='relu', kernel_regularizer=l2(1e-4)))\n",
        "model.add(BatchNormalization())\n",
        "model.add(MaxPooling2D((2, 2)))\n",
        "model.add(Dropout(0.25))\n",
        "\n",
        "model.add(Conv2D(64, (3, 3), activation='relu', kernel_regularizer=l2(1e-4)))\n",
        "model.add(BatchNormalization())\n",
        "model.add(Conv2D(64, (3, 3), activation='relu', kernel_regularizer=l2(1e-4)))\n",
        "model.add(BatchNormalization())\n",
        "model.add(MaxPooling2D((2, 2)))\n",
        "model.add(Dropout(0.25))\n",
        "\n",
        "model.add(Conv2D(128, (1,1), kernel_regularizer=l2(1e-4)))\n",
        "model.add(GlobalMaxPooling2D())\n",
        "\n",
        "model.add(Dense(256, activation='relu', kernel_regularizer=l2(1e-4)))\n",
        "model.add(Dropout(0.5))\n",
        "model.add(Dense(2, activation='sigmoid', kernel_regularizer=l2(1e-4)))"
      ],
      "execution_count": 0,
      "outputs": []
    },
    {
      "metadata": {
        "colab_type": "code",
        "id": "9ezdguEZxsWT",
        "colab": {}
      },
      "cell_type": "code",
      "source": [
        "model.compile(SGD(lr=0.03, momentum=0.0, decay=0.0, nesterov=False), \n",
        "              loss='binary_crossentropy', metrics=['accuracy'])"
      ],
      "execution_count": 0,
      "outputs": []
    },
    {
      "metadata": {
        "colab_type": "text",
        "id": "W_LJwu-CFrSP"
      },
      "cell_type": "markdown",
      "source": [
        "### Treino\n"
      ]
    },
    {
      "metadata": {
        "colab_type": "code",
        "id": "0jMpgHX9FrSU",
        "colab": {}
      },
      "cell_type": "code",
      "source": [
        "checkpointer = ModelCheckpoint(filepath='drive/My Drive/Resultado/Segmentado/weights_' + architecture + '.hdf5', verbose=1, save_best_only=True)"
      ],
      "execution_count": 0,
      "outputs": []
    },
    {
      "metadata": {
        "colab_type": "code",
        "id": "XAsxzibKFrSc",
        "colab": {
          "base_uri": "https://localhost:8080/",
          "height": 0
        },
        "outputId": "b7540e15-0a46-4070-aad0-563b75c8f79d"
      },
      "cell_type": "code",
      "source": [
        "training = model.fit_generator(train_batches, steps_per_epoch=stepsPerEpoche, \n",
        "                   validation_data=validation_batches, validation_steps=validationSteps,\n",
        "                   epochs=50, verbose=2, callbacks=[checkpointer])"
      ],
      "execution_count": 229,
      "outputs": [
        {
          "output_type": "stream",
          "text": [
            "Epoch 1/50\n",
            " - 8s - loss: 5.8182 - acc: 0.5026 - val_loss: 5.5984 - val_acc: 0.4531\n",
            "\n",
            "Epoch 00001: val_loss improved from inf to 5.59842, saving model to drive/My Drive/Resultado/Segmentado/weights_architecture_9.hdf5\n",
            "Epoch 2/50\n",
            " - 1s - loss: 6.2543 - acc: 0.5026 - val_loss: 6.6733 - val_acc: 0.4453\n",
            "\n",
            "Epoch 00002: val_loss did not improve from 5.59842\n",
            "Epoch 3/50\n",
            " - 1s - loss: 3.2866 - acc: 0.5911 - val_loss: 1.0067 - val_acc: 0.5000\n",
            "\n",
            "Epoch 00003: val_loss improved from 5.59842 to 1.00669, saving model to drive/My Drive/Resultado/Segmentado/weights_architecture_9.hdf5\n",
            "Epoch 4/50\n",
            " - 1s - loss: 1.0623 - acc: 0.5833 - val_loss: 0.6859 - val_acc: 0.6094\n",
            "\n",
            "Epoch 00004: val_loss improved from 1.00669 to 0.68587, saving model to drive/My Drive/Resultado/Segmentado/weights_architecture_9.hdf5\n",
            "Epoch 5/50\n",
            " - 1s - loss: 0.8248 - acc: 0.5417 - val_loss: 0.6514 - val_acc: 0.6797\n",
            "\n",
            "Epoch 00005: val_loss improved from 0.68587 to 0.65138, saving model to drive/My Drive/Resultado/Segmentado/weights_architecture_9.hdf5\n",
            "Epoch 6/50\n",
            " - 1s - loss: 0.6197 - acc: 0.6693 - val_loss: 0.6458 - val_acc: 0.7266\n",
            "\n",
            "Epoch 00006: val_loss improved from 0.65138 to 0.64583, saving model to drive/My Drive/Resultado/Segmentado/weights_architecture_9.hdf5\n",
            "Epoch 7/50\n",
            " - 1s - loss: 0.5585 - acc: 0.7318 - val_loss: 0.5910 - val_acc: 0.7031\n",
            "\n",
            "Epoch 00007: val_loss improved from 0.64583 to 0.59099, saving model to drive/My Drive/Resultado/Segmentado/weights_architecture_9.hdf5\n",
            "Epoch 8/50\n",
            " - 1s - loss: 0.4874 - acc: 0.8073 - val_loss: 0.5300 - val_acc: 0.8125\n",
            "\n",
            "Epoch 00008: val_loss improved from 0.59099 to 0.53002, saving model to drive/My Drive/Resultado/Segmentado/weights_architecture_9.hdf5\n",
            "Epoch 9/50\n",
            " - 1s - loss: 0.5218 - acc: 0.7734 - val_loss: 0.5526 - val_acc: 0.8125\n",
            "\n",
            "Epoch 00009: val_loss did not improve from 0.53002\n",
            "Epoch 10/50\n",
            " - 1s - loss: 0.4802 - acc: 0.7901 - val_loss: 0.5251 - val_acc: 0.8125\n",
            "\n",
            "Epoch 00010: val_loss improved from 0.53002 to 0.52508, saving model to drive/My Drive/Resultado/Segmentado/weights_architecture_9.hdf5\n",
            "Epoch 11/50\n",
            " - 1s - loss: 0.3850 - acc: 0.8594 - val_loss: 0.4482 - val_acc: 0.8984\n",
            "\n",
            "Epoch 00011: val_loss improved from 0.52508 to 0.44824, saving model to drive/My Drive/Resultado/Segmentado/weights_architecture_9.hdf5\n",
            "Epoch 12/50\n",
            " - 1s - loss: 0.5542 - acc: 0.7422 - val_loss: 0.6310 - val_acc: 0.6953\n",
            "\n",
            "Epoch 00012: val_loss did not improve from 0.44824\n",
            "Epoch 13/50\n",
            " - 1s - loss: 0.5242 - acc: 0.7891 - val_loss: 0.6297 - val_acc: 0.6484\n",
            "\n",
            "Epoch 00013: val_loss did not improve from 0.44824\n",
            "Epoch 14/50\n",
            " - 1s - loss: 0.4805 - acc: 0.8021 - val_loss: 0.8700 - val_acc: 0.3828\n",
            "\n",
            "Epoch 00014: val_loss did not improve from 0.44824\n",
            "Epoch 15/50\n",
            " - 1s - loss: 0.5201 - acc: 0.7682 - val_loss: 0.6163 - val_acc: 0.7568\n",
            "\n",
            "Epoch 00015: val_loss did not improve from 0.44824\n",
            "Epoch 16/50\n",
            " - 1s - loss: 0.4286 - acc: 0.8333 - val_loss: 0.6729 - val_acc: 0.6719\n",
            "\n",
            "Epoch 00016: val_loss did not improve from 0.44824\n",
            "Epoch 17/50\n",
            " - 1s - loss: 0.5380 - acc: 0.7396 - val_loss: 0.6812 - val_acc: 0.6406\n",
            "\n",
            "Epoch 00017: val_loss did not improve from 0.44824\n",
            "Epoch 18/50\n",
            " - 1s - loss: 0.4376 - acc: 0.8359 - val_loss: 0.5956 - val_acc: 0.7969\n",
            "\n",
            "Epoch 00018: val_loss did not improve from 0.44824\n",
            "Epoch 19/50\n",
            " - 1s - loss: 0.4711 - acc: 0.8229 - val_loss: 0.6101 - val_acc: 0.6719\n",
            "\n",
            "Epoch 00019: val_loss did not improve from 0.44824\n",
            "Epoch 20/50\n",
            " - 1s - loss: 0.3991 - acc: 0.8203 - val_loss: 0.6908 - val_acc: 0.5859\n",
            "\n",
            "Epoch 00020: val_loss did not improve from 0.44824\n",
            "Epoch 21/50\n",
            " - 1s - loss: 0.3851 - acc: 0.8516 - val_loss: 0.5952 - val_acc: 0.7109\n",
            "\n",
            "Epoch 00021: val_loss did not improve from 0.44824\n",
            "Epoch 22/50\n",
            " - 1s - loss: 0.3737 - acc: 0.8672 - val_loss: 0.4928 - val_acc: 0.8125\n",
            "\n",
            "Epoch 00022: val_loss did not improve from 0.44824\n",
            "Epoch 23/50\n",
            " - 1s - loss: 0.4540 - acc: 0.7969 - val_loss: 0.4859 - val_acc: 0.8672\n",
            "\n",
            "Epoch 00023: val_loss did not improve from 0.44824\n",
            "Epoch 24/50\n",
            " - 1s - loss: 0.4744 - acc: 0.7839 - val_loss: 0.4436 - val_acc: 0.9062\n",
            "\n",
            "Epoch 00024: val_loss improved from 0.44824 to 0.44357, saving model to drive/My Drive/Resultado/Segmentado/weights_architecture_9.hdf5\n",
            "Epoch 25/50\n",
            " - 1s - loss: 0.3914 - acc: 0.8203 - val_loss: 0.4657 - val_acc: 0.8438\n",
            "\n",
            "Epoch 00025: val_loss did not improve from 0.44357\n",
            "Epoch 26/50\n",
            " - 1s - loss: 0.3451 - acc: 0.8672 - val_loss: 0.4089 - val_acc: 0.8594\n",
            "\n",
            "Epoch 00026: val_loss improved from 0.44357 to 0.40894, saving model to drive/My Drive/Resultado/Segmentado/weights_architecture_9.hdf5\n",
            "Epoch 27/50\n",
            " - 1s - loss: 0.5044 - acc: 0.7917 - val_loss: 0.4745 - val_acc: 0.8672\n",
            "\n",
            "Epoch 00027: val_loss did not improve from 0.40894\n",
            "Epoch 28/50\n",
            " - 1s - loss: 0.3356 - acc: 0.8932 - val_loss: 0.3549 - val_acc: 0.9219\n",
            "\n",
            "Epoch 00028: val_loss improved from 0.40894 to 0.35485, saving model to drive/My Drive/Resultado/Segmentado/weights_architecture_9.hdf5\n",
            "Epoch 29/50\n",
            " - 1s - loss: 0.4340 - acc: 0.7943 - val_loss: 0.7931 - val_acc: 0.6094\n",
            "\n",
            "Epoch 00029: val_loss did not improve from 0.35485\n",
            "Epoch 30/50\n",
            " - 1s - loss: 0.4049 - acc: 0.8385 - val_loss: 0.5630 - val_acc: 0.6797\n",
            "\n",
            "Epoch 00030: val_loss did not improve from 0.35485\n",
            "Epoch 31/50\n",
            " - 1s - loss: 0.4458 - acc: 0.8307 - val_loss: 0.3766 - val_acc: 0.8516\n",
            "\n",
            "Epoch 00031: val_loss did not improve from 0.35485\n",
            "Epoch 32/50\n",
            " - 1s - loss: 0.4336 - acc: 0.8464 - val_loss: 0.4218 - val_acc: 0.8906\n",
            "\n",
            "Epoch 00032: val_loss did not improve from 0.35485\n",
            "Epoch 33/50\n",
            " - 1s - loss: 0.3827 - acc: 0.8359 - val_loss: 0.3936 - val_acc: 0.8047\n",
            "\n",
            "Epoch 00033: val_loss did not improve from 0.35485\n",
            "Epoch 34/50\n",
            " - 1s - loss: 0.4492 - acc: 0.8229 - val_loss: 0.4227 - val_acc: 0.8438\n",
            "\n",
            "Epoch 00034: val_loss did not improve from 0.35485\n",
            "Epoch 35/50\n",
            " - 1s - loss: 0.3770 - acc: 0.8307 - val_loss: 0.5537 - val_acc: 0.7266\n",
            "\n",
            "Epoch 00035: val_loss did not improve from 0.35485\n",
            "Epoch 36/50\n",
            " - 1s - loss: 0.3204 - acc: 0.8932 - val_loss: 0.3379 - val_acc: 0.9141\n",
            "\n",
            "Epoch 00036: val_loss improved from 0.35485 to 0.33788, saving model to drive/My Drive/Resultado/Segmentado/weights_architecture_9.hdf5\n",
            "Epoch 37/50\n",
            " - 1s - loss: 0.4127 - acc: 0.8542 - val_loss: 0.4492 - val_acc: 0.8125\n",
            "\n",
            "Epoch 00037: val_loss did not improve from 0.33788\n",
            "Epoch 38/50\n",
            " - 1s - loss: 0.3722 - acc: 0.8411 - val_loss: 0.4897 - val_acc: 0.7734\n",
            "\n",
            "Epoch 00038: val_loss did not improve from 0.33788\n",
            "Epoch 39/50\n",
            " - 1s - loss: 0.3756 - acc: 0.8542 - val_loss: 0.4046 - val_acc: 0.8514\n",
            "\n",
            "Epoch 00039: val_loss did not improve from 0.33788\n",
            "Epoch 40/50\n",
            " - 1s - loss: 0.3937 - acc: 0.8543 - val_loss: 0.4208 - val_acc: 0.8594\n",
            "\n",
            "Epoch 00040: val_loss did not improve from 0.33788\n",
            "Epoch 41/50\n",
            " - 1s - loss: 0.3723 - acc: 0.8411 - val_loss: 0.5861 - val_acc: 0.7344\n",
            "\n",
            "Epoch 00041: val_loss did not improve from 0.33788\n",
            "Epoch 42/50\n",
            " - 1s - loss: 0.3521 - acc: 0.8594 - val_loss: 0.4132 - val_acc: 0.8672\n",
            "\n",
            "Epoch 00042: val_loss did not improve from 0.33788\n",
            "Epoch 43/50\n",
            " - 1s - loss: 0.4135 - acc: 0.8516 - val_loss: 0.3389 - val_acc: 0.9141\n",
            "\n",
            "Epoch 00043: val_loss did not improve from 0.33788\n",
            "Epoch 44/50\n",
            " - 1s - loss: 0.3593 - acc: 0.8724 - val_loss: 0.3564 - val_acc: 0.9062\n",
            "\n",
            "Epoch 00044: val_loss did not improve from 0.33788\n",
            "Epoch 45/50\n",
            " - 1s - loss: 0.3036 - acc: 0.8932 - val_loss: 0.2938 - val_acc: 0.9141\n",
            "\n",
            "Epoch 00045: val_loss improved from 0.33788 to 0.29378, saving model to drive/My Drive/Resultado/Segmentado/weights_architecture_9.hdf5\n",
            "Epoch 46/50\n",
            " - 1s - loss: 0.3489 - acc: 0.8698 - val_loss: 0.2869 - val_acc: 0.9375\n",
            "\n",
            "Epoch 00046: val_loss improved from 0.29378 to 0.28686, saving model to drive/My Drive/Resultado/Segmentado/weights_architecture_9.hdf5\n",
            "Epoch 47/50\n",
            " - 1s - loss: 0.3636 - acc: 0.8516 - val_loss: 0.3672 - val_acc: 0.8750\n",
            "\n",
            "Epoch 00047: val_loss did not improve from 0.28686\n",
            "Epoch 48/50\n",
            " - 1s - loss: 0.4254 - acc: 0.8411 - val_loss: 0.4912 - val_acc: 0.8047\n",
            "\n",
            "Epoch 00048: val_loss did not improve from 0.28686\n",
            "Epoch 49/50\n",
            " - 1s - loss: 0.3044 - acc: 0.9141 - val_loss: 0.3349 - val_acc: 0.8984\n",
            "\n",
            "Epoch 00049: val_loss did not improve from 0.28686\n",
            "Epoch 50/50\n",
            " - 1s - loss: 0.4252 - acc: 0.8177 - val_loss: 0.4299 - val_acc: 0.7891\n",
            "\n",
            "Epoch 00050: val_loss did not improve from 0.28686\n"
          ],
          "name": "stdout"
        }
      ]
    },
    {
      "metadata": {
        "colab_type": "code",
        "id": "C9p7BgNVFrSn",
        "colab": {}
      },
      "cell_type": "code",
      "source": [
        "model.load_weights('drive/My Drive/Resultado/Segmentado/weights_' + architecture + '.hdf5')"
      ],
      "execution_count": 0,
      "outputs": []
    },
    {
      "metadata": {
        "colab_type": "code",
        "id": "VjcSjtdkFrS2",
        "colab": {
          "base_uri": "https://localhost:8080/",
          "height": 0
        },
        "outputId": "6caebfdd-359f-4fb0-ef0f-0f59c868ebab"
      },
      "cell_type": "code",
      "source": [
        "# plotar loss e accuracy para os datasets 'train' e 'test'\n",
        "plt.style.use(\"ggplot\")\n",
        "plt.figure()\n",
        "plt.plot(training.history['acc'], label='Accuracy')\n",
        "plt.plot(training.history['loss'], label='Loss')\n",
        "plt.xlabel('Epochs')\n",
        "plt.ylabel('Accuracy')\n",
        "plt.title(\"Training Loss and Accuracy\")\n",
        "plt.ylabel(\"Loss/Accuracy\")\n",
        "plt.legend()\n",
        "plt.savefig('drive/My Drive/Resultado/Segmentado/' + architecture + '.png', bbox_inches='tight')"
      ],
      "execution_count": 231,
      "outputs": [
        {
          "output_type": "display_data",
          "data": {
            "image/png": "[encoded data removed]",
            "text/plain": [
              "<matplotlib.figure.Figure at 0x7f35787b0710>"
            ]
          },
          "metadata": {
            "tags": []
          }
        }
      ]
    },
    {
      "metadata": {
        "colab_type": "text",
        "id": "pMqyKtnTFrS_"
      },
      "cell_type": "markdown",
      "source": [
        "### Teste"
      ]
    },
    {
      "metadata": {
        "colab_type": "code",
        "id": "PwCTx5RvFrTB",
        "colab": {
          "base_uri": "https://localhost:8080/",
          "height": 74
        },
        "outputId": "6d567329-03e4-488a-ee6b-53dd937ff9bd"
      },
      "cell_type": "code",
      "source": [
        "y_true, y_predict = ler_images_teste(architecture)"
      ],
      "execution_count": 232,
      "outputs": [
        {
          "output_type": "stream",
          "text": [
            "/usr/local/lib/python3.6/dist-packages/skimage/transform/_warps.py:84: UserWarning: The default mode, 'constant', will be changed to 'reflect' in skimage 0.15.\n",
            "  warn(\"The default mode, 'constant', will be changed to 'reflect' in \"\n"
          ],
          "name": "stderr"
        }
      ]
    },
    {
      "metadata": {
        "colab_type": "code",
        "id": "Dv96B3jlFrTM",
        "colab": {
          "base_uri": "https://localhost:8080/",
          "height": 35
        },
        "outputId": "db97be6f-f4d4-47c3-b00e-67737f683bbc"
      },
      "cell_type": "code",
      "source": [
        "results[architecture] = precision_score(y_true, y_predict, average='binary')\n",
        "print('Test Precision: {:.2f}%'\n",
        "      .format(100 * results[architecture]))"
      ],
      "execution_count": 233,
      "outputs": [
        {
          "output_type": "stream",
          "text": [
            "Test Precision: 19.65%\n"
          ],
          "name": "stdout"
        }
      ]
    },
    {
      "metadata": {
        "id": "I_6RPRqZ0ooK",
        "colab_type": "text"
      },
      "cell_type": "markdown",
      "source": [
        "## 10 tentativa Precision: 19.64%"
      ]
    },
    {
      "metadata": {
        "colab_type": "text",
        "id": "drBpwd1s7PE3"
      },
      "cell_type": "markdown",
      "source": [
        "Modelo adaptado do **Lucas Albertins**\n",
        "\n",
        "*   Função **adam** para compilação\n",
        "*   Adicionado mais 2 camadas convolutivas"
      ]
    },
    {
      "metadata": {
        "colab_type": "code",
        "id": "7CD_MICYkLAi",
        "colab": {}
      },
      "cell_type": "code",
      "source": [
        "architecture = 'architecture_10'"
      ],
      "execution_count": 0,
      "outputs": []
    },
    {
      "metadata": {
        "id": "t3bAAcsqEeAK",
        "colab_type": "text"
      },
      "cell_type": "markdown",
      "source": [
        "### Modelo"
      ]
    },
    {
      "metadata": {
        "colab_type": "code",
        "id": "6LGTLObK0u-Y",
        "colab": {}
      },
      "cell_type": "code",
      "source": [
        "from keras.layers import Conv2D, MaxPooling2D, GlobalMaxPooling2D, BatchNormalization\n",
        "from keras.regularizers import l2\n",
        "\n",
        "model = Sequential()\n",
        "\n",
        "model.add(Conv2D(32, (3, 3), activation='relu', kernel_regularizer=l2(1e-4), \n",
        "                 input_shape=(None, None, 3)))\n",
        "model.add(BatchNormalization())\n",
        "model.add(Conv2D(32, (3, 3), activation='relu', kernel_regularizer=l2(1e-4)))\n",
        "model.add(BatchNormalization())\n",
        "model.add(MaxPooling2D((2, 2)))\n",
        "model.add(Dropout(0.25))\n",
        "\n",
        "model.add(Conv2D(64, (3, 3), activation='relu', kernel_regularizer=l2(1e-4)))\n",
        "model.add(BatchNormalization())\n",
        "model.add(Conv2D(64, (3, 3), activation='relu', kernel_regularizer=l2(1e-4)))\n",
        "model.add(BatchNormalization())\n",
        "model.add(MaxPooling2D((2, 2)))\n",
        "model.add(Dropout(0.25))\n",
        "\n",
        "model.add(Conv2D(96, (3, 3),activation='relu', kernel_regularizer=l2(1e-4)))\n",
        "model.add(BatchNormalization())\n",
        "model.add(Conv2D(96, (3, 3),activation='relu', kernel_regularizer=l2(1e-4)))\n",
        "model.add(BatchNormalization())\n",
        "model.add(MaxPooling2D((2, 2)))\n",
        "model.add(Dropout(0.25))\n",
        "\n",
        "model.add(Conv2D(128, (1,1), kernel_regularizer=l2(1e-4)))\n",
        "model.add(GlobalMaxPooling2D())\n",
        "\n",
        "model.add(Dense(256, activation='relu', kernel_regularizer=l2(1e-4)))\n",
        "model.add(Dropout(0.5))\n",
        "model.add(Dense(2, activation='sigmoid', kernel_regularizer=l2(1e-4)))"
      ],
      "execution_count": 0,
      "outputs": []
    },
    {
      "metadata": {
        "colab_type": "code",
        "id": "vB92aUkR0u-p",
        "colab": {}
      },
      "cell_type": "code",
      "source": [
        "model.compile(optimizer='adam', loss='binary_crossentropy', metrics=['accuracy'])"
      ],
      "execution_count": 0,
      "outputs": []
    },
    {
      "metadata": {
        "colab_type": "text",
        "id": "r1DyOIXuFske"
      },
      "cell_type": "markdown",
      "source": [
        "### Treino\n"
      ]
    },
    {
      "metadata": {
        "colab_type": "code",
        "id": "vp6MrfPzFskr",
        "colab": {}
      },
      "cell_type": "code",
      "source": [
        "checkpointer = ModelCheckpoint(filepath='drive/My Drive/Resultado/Segmentado/weights_' + architecture + '.hdf5', verbose=1, save_best_only=True)"
      ],
      "execution_count": 0,
      "outputs": []
    },
    {
      "metadata": {
        "colab_type": "code",
        "id": "uEMxGvwLFsk8",
        "colab": {
          "base_uri": "https://localhost:8080/",
          "height": 0
        },
        "outputId": "2c7662f9-217f-4d34-a9bf-b73a2404d5fa"
      },
      "cell_type": "code",
      "source": [
        "training = model.fit_generator(train_batches, steps_per_epoch=stepsPerEpoche, \n",
        "                   validation_data=validation_batches, validation_steps=validationSteps,\n",
        "                   epochs=50, verbose=2, callbacks=[checkpointer])"
      ],
      "execution_count": 238,
      "outputs": [
        {
          "output_type": "stream",
          "text": [
            "Epoch 1/50\n",
            " - 9s - loss: 1.6225 - acc: 0.5417 - val_loss: 0.7600 - val_acc: 0.5000\n",
            "\n",
            "Epoch 00001: val_loss improved from inf to 0.76003, saving model to drive/My Drive/Resultado/Segmentado/weights_architecture_10.hdf5\n",
            "Epoch 2/50\n",
            " - 1s - loss: 1.1344 - acc: 0.6380 - val_loss: 0.5734 - val_acc: 0.7422\n",
            "\n",
            "Epoch 00002: val_loss improved from 0.76003 to 0.57343, saving model to drive/My Drive/Resultado/Segmentado/weights_architecture_10.hdf5\n",
            "Epoch 3/50\n",
            " - 1s - loss: 0.8573 - acc: 0.6380 - val_loss: 0.8993 - val_acc: 0.5078\n",
            "\n",
            "Epoch 00003: val_loss did not improve from 0.57343\n",
            "Epoch 4/50\n",
            " - 1s - loss: 0.7105 - acc: 0.6641 - val_loss: 0.6354 - val_acc: 0.6875\n",
            "\n",
            "Epoch 00004: val_loss did not improve from 0.57343\n",
            "Epoch 5/50\n",
            " - 1s - loss: 0.6801 - acc: 0.7135 - val_loss: 0.5237 - val_acc: 0.8203\n",
            "\n",
            "Epoch 00005: val_loss improved from 0.57343 to 0.52366, saving model to drive/My Drive/Resultado/Segmentado/weights_architecture_10.hdf5\n",
            "Epoch 6/50\n",
            " - 1s - loss: 0.6309 - acc: 0.7578 - val_loss: 0.3606 - val_acc: 0.8906\n",
            "\n",
            "Epoch 00006: val_loss improved from 0.52366 to 0.36064, saving model to drive/My Drive/Resultado/Segmentado/weights_architecture_10.hdf5\n",
            "Epoch 7/50\n",
            " - 1s - loss: 0.5018 - acc: 0.7917 - val_loss: 0.5269 - val_acc: 0.8594\n",
            "\n",
            "Epoch 00007: val_loss did not improve from 0.36064\n",
            "Epoch 8/50\n",
            " - 1s - loss: 0.5343 - acc: 0.8151 - val_loss: 0.4988 - val_acc: 0.7703\n",
            "\n",
            "Epoch 00008: val_loss did not improve from 0.36064\n",
            "Epoch 9/50\n",
            " - 1s - loss: 0.4586 - acc: 0.8281 - val_loss: 0.4184 - val_acc: 0.8750\n",
            "\n",
            "Epoch 00009: val_loss did not improve from 0.36064\n",
            "Epoch 10/50\n",
            " - 1s - loss: 0.3754 - acc: 0.9010 - val_loss: 0.4883 - val_acc: 0.8438\n",
            "\n",
            "Epoch 00010: val_loss did not improve from 0.36064\n",
            "Epoch 11/50\n",
            " - 1s - loss: 0.3946 - acc: 0.8698 - val_loss: 0.3123 - val_acc: 0.9297\n",
            "\n",
            "Epoch 00011: val_loss improved from 0.36064 to 0.31232, saving model to drive/My Drive/Resultado/Segmentado/weights_architecture_10.hdf5\n",
            "Epoch 12/50\n",
            " - 1s - loss: 0.4404 - acc: 0.8568 - val_loss: 0.4718 - val_acc: 0.8359\n",
            "\n",
            "Epoch 00012: val_loss did not improve from 0.31232\n",
            "Epoch 13/50\n",
            " - 1s - loss: 0.3856 - acc: 0.8594 - val_loss: 0.3194 - val_acc: 0.8672\n",
            "\n",
            "Epoch 00013: val_loss did not improve from 0.31232\n",
            "Epoch 14/50\n",
            " - 1s - loss: 0.3104 - acc: 0.9062 - val_loss: 0.2724 - val_acc: 0.9453\n",
            "\n",
            "Epoch 00014: val_loss improved from 0.31232 to 0.27241, saving model to drive/My Drive/Resultado/Segmentado/weights_architecture_10.hdf5\n",
            "Epoch 15/50\n",
            " - 1s - loss: 0.4689 - acc: 0.8281 - val_loss: 0.3044 - val_acc: 0.8984\n",
            "\n",
            "Epoch 00015: val_loss did not improve from 0.27241\n",
            "Epoch 16/50\n",
            " - 1s - loss: 0.3813 - acc: 0.8672 - val_loss: 0.3486 - val_acc: 0.8906\n",
            "\n",
            "Epoch 00016: val_loss did not improve from 0.27241\n",
            "Epoch 17/50\n",
            " - 1s - loss: 0.3243 - acc: 0.9167 - val_loss: 0.3153 - val_acc: 0.9062\n",
            "\n",
            "Epoch 00017: val_loss did not improve from 0.27241\n",
            "Epoch 18/50\n",
            " - 1s - loss: 0.3664 - acc: 0.8698 - val_loss: 0.4358 - val_acc: 0.8516\n",
            "\n",
            "Epoch 00018: val_loss did not improve from 0.27241\n",
            "Epoch 19/50\n",
            " - 1s - loss: 0.3608 - acc: 0.8881 - val_loss: 0.3929 - val_acc: 0.8203\n",
            "\n",
            "Epoch 00019: val_loss did not improve from 0.27241\n",
            "Epoch 20/50\n",
            " - 1s - loss: 0.3325 - acc: 0.8646 - val_loss: 0.3287 - val_acc: 0.8906\n",
            "\n",
            "Epoch 00020: val_loss did not improve from 0.27241\n",
            "Epoch 21/50\n",
            " - 1s - loss: 0.3117 - acc: 0.9193 - val_loss: 0.4129 - val_acc: 0.8359\n",
            "\n",
            "Epoch 00021: val_loss did not improve from 0.27241\n",
            "Epoch 22/50\n",
            " - 1s - loss: 0.3933 - acc: 0.8646 - val_loss: 0.3250 - val_acc: 0.9141\n",
            "\n",
            "Epoch 00022: val_loss did not improve from 0.27241\n",
            "Epoch 23/50\n",
            " - 1s - loss: 0.3713 - acc: 0.8802 - val_loss: 0.3165 - val_acc: 0.9062\n",
            "\n",
            "Epoch 00023: val_loss did not improve from 0.27241\n",
            "Epoch 24/50\n",
            " - 1s - loss: 0.3296 - acc: 0.8854 - val_loss: 0.3067 - val_acc: 0.9219\n",
            "\n",
            "Epoch 00024: val_loss did not improve from 0.27241\n",
            "Epoch 25/50\n",
            " - 1s - loss: 0.2810 - acc: 0.9401 - val_loss: 0.4069 - val_acc: 0.8281\n",
            "\n",
            "Epoch 00025: val_loss did not improve from 0.27241\n",
            "Epoch 26/50\n",
            " - 1s - loss: 0.3185 - acc: 0.8880 - val_loss: 0.2927 - val_acc: 0.9219\n",
            "\n",
            "Epoch 00026: val_loss did not improve from 0.27241\n",
            "Epoch 27/50\n",
            " - 1s - loss: 0.3612 - acc: 0.9089 - val_loss: 0.4788 - val_acc: 0.8281\n",
            "\n",
            "Epoch 00027: val_loss did not improve from 0.27241\n",
            "Epoch 28/50\n",
            " - 1s - loss: 0.3427 - acc: 0.8906 - val_loss: 0.3855 - val_acc: 0.8984\n",
            "\n",
            "Epoch 00028: val_loss did not improve from 0.27241\n",
            "Epoch 29/50\n",
            " - 1s - loss: 0.3598 - acc: 0.9219 - val_loss: 0.4117 - val_acc: 0.8672\n",
            "\n",
            "Epoch 00029: val_loss did not improve from 0.27241\n",
            "Epoch 30/50\n",
            " - 1s - loss: 0.3195 - acc: 0.9141 - val_loss: 0.3880 - val_acc: 0.9297\n",
            "\n",
            "Epoch 00030: val_loss did not improve from 0.27241\n",
            "Epoch 31/50\n",
            " - 1s - loss: 0.2947 - acc: 0.9062 - val_loss: 0.2790 - val_acc: 0.9062\n",
            "\n",
            "Epoch 00031: val_loss did not improve from 0.27241\n",
            "Epoch 32/50\n",
            " - 1s - loss: 0.4030 - acc: 0.8385 - val_loss: 0.3979 - val_acc: 0.7838\n",
            "\n",
            "Epoch 00032: val_loss did not improve from 0.27241\n",
            "Epoch 33/50\n",
            " - 1s - loss: 0.3537 - acc: 0.8932 - val_loss: 0.6144 - val_acc: 0.6094\n",
            "\n",
            "Epoch 00033: val_loss did not improve from 0.27241\n",
            "Epoch 34/50\n",
            " - 1s - loss: 0.3145 - acc: 0.9167 - val_loss: 0.4478 - val_acc: 0.7734\n",
            "\n",
            "Epoch 00034: val_loss did not improve from 0.27241\n",
            "Epoch 35/50\n",
            " - 1s - loss: 0.2765 - acc: 0.9245 - val_loss: 0.4674 - val_acc: 0.7969\n",
            "\n",
            "Epoch 00035: val_loss did not improve from 0.27241\n",
            "Epoch 36/50\n",
            " - 1s - loss: 0.2968 - acc: 0.9062 - val_loss: 0.4409 - val_acc: 0.7500\n",
            "\n",
            "Epoch 00036: val_loss did not improve from 0.27241\n",
            "Epoch 37/50\n",
            " - 1s - loss: 0.2442 - acc: 0.9453 - val_loss: 0.4577 - val_acc: 0.7734\n",
            "\n",
            "Epoch 00037: val_loss did not improve from 0.27241\n",
            "Epoch 38/50\n",
            " - 1s - loss: 0.3662 - acc: 0.8802 - val_loss: 0.5945 - val_acc: 0.6094\n",
            "\n",
            "Epoch 00038: val_loss did not improve from 0.27241\n",
            "Epoch 39/50\n",
            " - 1s - loss: 0.2652 - acc: 0.9115 - val_loss: 0.4661 - val_acc: 0.8047\n",
            "\n",
            "Epoch 00039: val_loss did not improve from 0.27241\n",
            "Epoch 40/50\n",
            " - 1s - loss: 0.2904 - acc: 0.9219 - val_loss: 0.3542 - val_acc: 0.8125\n",
            "\n",
            "Epoch 00040: val_loss did not improve from 0.27241\n",
            "Epoch 41/50\n",
            " - 1s - loss: 0.2299 - acc: 0.9323 - val_loss: 0.3968 - val_acc: 0.8203\n",
            "\n",
            "Epoch 00041: val_loss did not improve from 0.27241\n",
            "Epoch 42/50\n",
            " - 1s - loss: 0.2222 - acc: 0.9583 - val_loss: 0.3147 - val_acc: 0.8672\n",
            "\n",
            "Epoch 00042: val_loss did not improve from 0.27241\n",
            "Epoch 43/50\n",
            " - 1s - loss: 0.3114 - acc: 0.9089 - val_loss: 0.7684 - val_acc: 0.7344\n",
            "\n",
            "Epoch 00043: val_loss did not improve from 0.27241\n",
            "Epoch 44/50\n",
            " - 1s - loss: 0.2591 - acc: 0.9089 - val_loss: 0.3581 - val_acc: 0.8047\n",
            "\n",
            "Epoch 00044: val_loss did not improve from 0.27241\n",
            "Epoch 45/50\n",
            " - 1s - loss: 0.3271 - acc: 0.8776 - val_loss: 0.4202 - val_acc: 0.8906\n",
            "\n",
            "Epoch 00045: val_loss did not improve from 0.27241\n",
            "Epoch 46/50\n",
            " - 1s - loss: 0.2262 - acc: 0.9531 - val_loss: 0.1851 - val_acc: 0.9688\n",
            "\n",
            "Epoch 00046: val_loss improved from 0.27241 to 0.18510, saving model to drive/My Drive/Resultado/Segmentado/weights_architecture_10.hdf5\n",
            "Epoch 47/50\n",
            " - 1s - loss: 0.2801 - acc: 0.9245 - val_loss: 0.4282 - val_acc: 0.7891\n",
            "\n",
            "Epoch 00047: val_loss did not improve from 0.18510\n",
            "Epoch 48/50\n",
            " - 1s - loss: 0.2229 - acc: 0.9323 - val_loss: 0.3294 - val_acc: 0.9062\n",
            "\n",
            "Epoch 00048: val_loss did not improve from 0.18510\n",
            "Epoch 49/50\n",
            " - 1s - loss: 0.3235 - acc: 0.8961 - val_loss: 0.3093 - val_acc: 0.9062\n",
            "\n",
            "Epoch 00049: val_loss did not improve from 0.18510\n",
            "Epoch 50/50\n",
            " - 1s - loss: 0.2651 - acc: 0.9193 - val_loss: 0.2799 - val_acc: 0.9219\n",
            "\n",
            "Epoch 00050: val_loss did not improve from 0.18510\n"
          ],
          "name": "stdout"
        }
      ]
    },
    {
      "metadata": {
        "colab_type": "code",
        "id": "25_Rx-u0FslH",
        "colab": {}
      },
      "cell_type": "code",
      "source": [
        "model.load_weights('drive/My Drive/Resultado/Segmentado/weights_' + architecture + '.hdf5')"
      ],
      "execution_count": 0,
      "outputs": []
    },
    {
      "metadata": {
        "colab_type": "code",
        "id": "oY5HnCOQFslN",
        "colab": {
          "base_uri": "https://localhost:8080/",
          "height": 0
        },
        "outputId": "385a93ee-2f81-46c4-fdab-518501ea0c34"
      },
      "cell_type": "code",
      "source": [
        "# plotar loss e accuracy para os datasets 'train' e 'test'\n",
        "plt.style.use(\"ggplot\")\n",
        "plt.figure()\n",
        "plt.plot(training.history['acc'], label='Accuracy')\n",
        "plt.plot(training.history['loss'], label='Loss')\n",
        "plt.xlabel('Epochs')\n",
        "plt.ylabel('Accuracy')\n",
        "plt.title(\"Training Loss and Accuracy\")\n",
        "plt.ylabel(\"Loss/Accuracy\")\n",
        "plt.legend()\n",
        "plt.savefig('drive/My Drive/Resultado/Segmentado/' + architecture + '.png', bbox_inches='tight')"
      ],
      "execution_count": 240,
      "outputs": [
        {
          "output_type": "display_data",
          "data": {
            "image/png": "[encoded data removed]",
            "text/plain": [
              "<matplotlib.figure.Figure at 0x7f3571771208>"
            ]
          },
          "metadata": {
            "tags": []
          }
        }
      ]
    },
    {
      "metadata": {
        "colab_type": "text",
        "id": "Zsnaw_SJFslV"
      },
      "cell_type": "markdown",
      "source": [
        "### Teste"
      ]
    },
    {
      "metadata": {
        "colab_type": "code",
        "id": "X_QVrYmlFslX",
        "colab": {
          "base_uri": "https://localhost:8080/",
          "height": 74
        },
        "outputId": "49f57862-c748-4785-d18a-2ed2e139de8c"
      },
      "cell_type": "code",
      "source": [
        "y_true, y_predict = ler_images_teste(architecture)"
      ],
      "execution_count": 241,
      "outputs": [
        {
          "output_type": "stream",
          "text": [
            "/usr/local/lib/python3.6/dist-packages/skimage/transform/_warps.py:84: UserWarning: The default mode, 'constant', will be changed to 'reflect' in skimage 0.15.\n",
            "  warn(\"The default mode, 'constant', will be changed to 'reflect' in \"\n"
          ],
          "name": "stderr"
        }
      ]
    },
    {
      "metadata": {
        "colab_type": "code",
        "id": "d7TkNb_gFsli",
        "colab": {
          "base_uri": "https://localhost:8080/",
          "height": 35
        },
        "outputId": "58c59997-9304-4ad3-9172-2f5d74310f92"
      },
      "cell_type": "code",
      "source": [
        "results[architecture] = precision_score(y_true, y_predict, average='binary')\n",
        "print('Test Precision: {:.2f}%'\n",
        "      .format(100 * results[architecture]))"
      ],
      "execution_count": 242,
      "outputs": [
        {
          "output_type": "stream",
          "text": [
            "Test Precision: 19.64%\n"
          ],
          "name": "stdout"
        }
      ]
    },
    {
      "metadata": {
        "id": "t-JuICq46CWp",
        "colab_type": "text"
      },
      "cell_type": "markdown",
      "source": [
        "## 11 tentativa recision: 19.65%"
      ]
    },
    {
      "metadata": {
        "colab_type": "text",
        "id": "MdaiMXVY8RWc"
      },
      "cell_type": "markdown",
      "source": [
        "Modelo adaptado do **Lucas Albertins**\n",
        "\n",
        "*   Função **SGD** para compilação\n",
        "*   Adicionado mais 2 camadas convolutivas"
      ]
    },
    {
      "metadata": {
        "colab_type": "code",
        "id": "oGVeMLcZkPCr",
        "colab": {}
      },
      "cell_type": "code",
      "source": [
        "architecture = 'architecture_11'"
      ],
      "execution_count": 0,
      "outputs": []
    },
    {
      "metadata": {
        "id": "JpeFBqRcElIh",
        "colab_type": "text"
      },
      "cell_type": "markdown",
      "source": [
        "### Modelo"
      ]
    },
    {
      "metadata": {
        "colab_type": "code",
        "id": "vLy1nlhs6HHL",
        "colab": {}
      },
      "cell_type": "code",
      "source": [
        "from keras.layers import Conv2D, MaxPooling2D, GlobalMaxPooling2D, BatchNormalization\n",
        "from keras.regularizers import l2\n",
        "\n",
        "model = Sequential()\n",
        "\n",
        "model.add(Conv2D(32, (3, 3), activation='relu', kernel_regularizer=l2(1e-4), \n",
        "                 input_shape=(None, None, 3)))\n",
        "model.add(BatchNormalization())\n",
        "model.add(Conv2D(32, (3, 3), activation='relu', kernel_regularizer=l2(1e-4)))\n",
        "model.add(BatchNormalization())\n",
        "model.add(MaxPooling2D((2, 2)))\n",
        "model.add(Dropout(0.25))\n",
        "\n",
        "model.add(Conv2D(64, (3, 3), activation='relu', kernel_regularizer=l2(1e-4)))\n",
        "model.add(BatchNormalization())\n",
        "model.add(Conv2D(64, (3, 3), activation='relu', kernel_regularizer=l2(1e-4)))\n",
        "model.add(BatchNormalization())\n",
        "model.add(MaxPooling2D((2, 2)))\n",
        "model.add(Dropout(0.25))\n",
        "\n",
        "model.add(Conv2D(96, (3, 3),activation='relu', kernel_regularizer=l2(1e-4)))\n",
        "model.add(BatchNormalization())\n",
        "model.add(Conv2D(96, (3, 3),activation='relu', kernel_regularizer=l2(1e-4)))\n",
        "model.add(BatchNormalization())\n",
        "model.add(MaxPooling2D((2, 2)))\n",
        "model.add(Dropout(0.25))\n",
        "\n",
        "model.add(Conv2D(128, (1,1), kernel_regularizer=l2(1e-4)))\n",
        "model.add(GlobalMaxPooling2D())\n",
        "\n",
        "model.add(Dense(256, activation='relu', kernel_regularizer=l2(1e-4)))\n",
        "model.add(Dropout(0.5))\n",
        "model.add(Dense(2, activation='sigmoid', kernel_regularizer=l2(1e-4)))"
      ],
      "execution_count": 0,
      "outputs": []
    },
    {
      "metadata": {
        "colab_type": "code",
        "id": "QKpy_s8Z6HHZ",
        "colab": {}
      },
      "cell_type": "code",
      "source": [
        "model.compile(SGD(lr=0.01, momentum=0.0, decay=0.0, nesterov=False), \n",
        "              loss='binary_crossentropy', metrics=['accuracy'])"
      ],
      "execution_count": 0,
      "outputs": []
    },
    {
      "metadata": {
        "colab_type": "text",
        "id": "mnM7JFOGFt1B"
      },
      "cell_type": "markdown",
      "source": [
        "### Treino\n"
      ]
    },
    {
      "metadata": {
        "colab_type": "code",
        "id": "o_2GHpKZFt1O",
        "colab": {}
      },
      "cell_type": "code",
      "source": [
        "checkpointer = ModelCheckpoint(filepath='drive/My Drive/Resultado/Segmentado/weights_' + architecture + '.hdf5', verbose=1, save_best_only=True)"
      ],
      "execution_count": 0,
      "outputs": []
    },
    {
      "metadata": {
        "colab_type": "code",
        "id": "MLd0RlChFt1Y",
        "colab": {
          "base_uri": "https://localhost:8080/",
          "height": 0
        },
        "outputId": "d84970da-6134-4bf2-c780-5a3ef2b488cc"
      },
      "cell_type": "code",
      "source": [
        "training = model.fit_generator(train_batches, steps_per_epoch=stepsPerEpoche, \n",
        "                   validation_data=validation_batches, validation_steps=validationSteps,\n",
        "                   epochs=50, verbose=2, callbacks=[checkpointer])"
      ],
      "execution_count": 247,
      "outputs": [
        {
          "output_type": "stream",
          "text": [
            "Epoch 1/50\n",
            " - 9s - loss: 2.1092 - acc: 0.5312 - val_loss: 1.1008 - val_acc: 0.5270\n",
            "\n",
            "Epoch 00001: val_loss improved from inf to 1.10076, saving model to drive/My Drive/Resultado/Segmentado/weights_architecture_11.hdf5\n",
            "Epoch 2/50\n",
            " - 1s - loss: 1.8341 - acc: 0.5391 - val_loss: 0.8953 - val_acc: 0.5234\n",
            "\n",
            "Epoch 00002: val_loss improved from 1.10076 to 0.89526, saving model to drive/My Drive/Resultado/Segmentado/weights_architecture_11.hdf5\n",
            "Epoch 3/50\n",
            " - 1s - loss: 1.3053 - acc: 0.5599 - val_loss: 0.6777 - val_acc: 0.6562\n",
            "\n",
            "Epoch 00003: val_loss improved from 0.89526 to 0.67774, saving model to drive/My Drive/Resultado/Segmentado/weights_architecture_11.hdf5\n",
            "Epoch 4/50\n",
            " - 1s - loss: 1.0581 - acc: 0.5547 - val_loss: 0.6224 - val_acc: 0.6797\n",
            "\n",
            "Epoch 00004: val_loss improved from 0.67774 to 0.62236, saving model to drive/My Drive/Resultado/Segmentado/weights_architecture_11.hdf5\n",
            "Epoch 5/50\n",
            " - 1s - loss: 0.8375 - acc: 0.6589 - val_loss: 0.7411 - val_acc: 0.5547\n",
            "\n",
            "Epoch 00005: val_loss did not improve from 0.62236\n",
            "Epoch 6/50\n",
            " - 1s - loss: 0.7508 - acc: 0.7031 - val_loss: 0.5874 - val_acc: 0.7734\n",
            "\n",
            "Epoch 00006: val_loss improved from 0.62236 to 0.58740, saving model to drive/My Drive/Resultado/Segmentado/weights_architecture_11.hdf5\n",
            "Epoch 7/50\n",
            " - 1s - loss: 0.7197 - acc: 0.6797 - val_loss: 0.4210 - val_acc: 0.8516\n",
            "\n",
            "Epoch 00007: val_loss improved from 0.58740 to 0.42097, saving model to drive/My Drive/Resultado/Segmentado/weights_architecture_11.hdf5\n",
            "Epoch 8/50\n",
            " - 1s - loss: 0.7279 - acc: 0.6719 - val_loss: 0.5977 - val_acc: 0.6953\n",
            "\n",
            "Epoch 00008: val_loss did not improve from 0.42097\n",
            "Epoch 9/50\n",
            " - 1s - loss: 0.6852 - acc: 0.6875 - val_loss: 0.7698 - val_acc: 0.6172\n",
            "\n",
            "Epoch 00009: val_loss did not improve from 0.42097\n",
            "Epoch 10/50\n",
            " - 1s - loss: 0.7488 - acc: 0.6667 - val_loss: 0.4686 - val_acc: 0.8594\n",
            "\n",
            "Epoch 00010: val_loss did not improve from 0.42097\n",
            "Epoch 11/50\n",
            " - 1s - loss: 0.4914 - acc: 0.7865 - val_loss: 0.5647 - val_acc: 0.7656\n",
            "\n",
            "Epoch 00011: val_loss did not improve from 0.42097\n",
            "Epoch 12/50\n",
            " - 1s - loss: 0.5829 - acc: 0.7448 - val_loss: 0.5904 - val_acc: 0.7422\n",
            "\n",
            "Epoch 00012: val_loss did not improve from 0.42097\n",
            "Epoch 13/50\n",
            " - 1s - loss: 0.5120 - acc: 0.7682 - val_loss: 0.6097 - val_acc: 0.7266\n",
            "\n",
            "Epoch 00013: val_loss did not improve from 0.42097\n",
            "Epoch 14/50\n",
            " - 1s - loss: 0.5272 - acc: 0.7865 - val_loss: 0.4632 - val_acc: 0.8516\n",
            "\n",
            "Epoch 00014: val_loss did not improve from 0.42097\n",
            "Epoch 15/50\n",
            " - 1s - loss: 0.5958 - acc: 0.7448 - val_loss: 0.4981 - val_acc: 0.7969\n",
            "\n",
            "Epoch 00015: val_loss did not improve from 0.42097\n",
            "Epoch 16/50\n",
            " - 1s - loss: 0.5426 - acc: 0.7630 - val_loss: 0.3627 - val_acc: 0.8984\n",
            "\n",
            "Epoch 00016: val_loss improved from 0.42097 to 0.36272, saving model to drive/My Drive/Resultado/Segmentado/weights_architecture_11.hdf5\n",
            "Epoch 17/50\n",
            " - 1s - loss: 0.5905 - acc: 0.7682 - val_loss: 0.4930 - val_acc: 0.8203\n",
            "\n",
            "Epoch 00017: val_loss did not improve from 0.36272\n",
            "Epoch 18/50\n",
            " - 1s - loss: 0.5192 - acc: 0.8281 - val_loss: 0.4690 - val_acc: 0.8125\n",
            "\n",
            "Epoch 00018: val_loss did not improve from 0.36272\n",
            "Epoch 19/50\n",
            " - 1s - loss: 0.6184 - acc: 0.7448 - val_loss: 0.4775 - val_acc: 0.8359\n",
            "\n",
            "Epoch 00019: val_loss did not improve from 0.36272\n",
            "Epoch 20/50\n",
            " - 1s - loss: 0.4756 - acc: 0.8411 - val_loss: 0.5470 - val_acc: 0.7109\n",
            "\n",
            "Epoch 00020: val_loss did not improve from 0.36272\n",
            "Epoch 21/50\n",
            " - 1s - loss: 0.4195 - acc: 0.8438 - val_loss: 0.3993 - val_acc: 0.8438\n",
            "\n",
            "Epoch 00021: val_loss did not improve from 0.36272\n",
            "Epoch 22/50\n",
            " - 1s - loss: 0.5107 - acc: 0.7969 - val_loss: 0.5593 - val_acc: 0.7578\n",
            "\n",
            "Epoch 00022: val_loss did not improve from 0.36272\n",
            "Epoch 23/50\n",
            " - 1s - loss: 0.4917 - acc: 0.8385 - val_loss: 0.5346 - val_acc: 0.7344\n",
            "\n",
            "Epoch 00023: val_loss did not improve from 0.36272\n",
            "Epoch 24/50\n",
            " - 1s - loss: 0.5063 - acc: 0.8255 - val_loss: 0.6820 - val_acc: 0.6719\n",
            "\n",
            "Epoch 00024: val_loss did not improve from 0.36272\n",
            "Epoch 25/50\n",
            " - 1s - loss: 0.5023 - acc: 0.7891 - val_loss: 0.6501 - val_acc: 0.7568\n",
            "\n",
            "Epoch 00025: val_loss did not improve from 0.36272\n",
            "Epoch 26/50\n",
            " - 1s - loss: 0.4524 - acc: 0.8411 - val_loss: 0.4240 - val_acc: 0.8047\n",
            "\n",
            "Epoch 00026: val_loss did not improve from 0.36272\n",
            "Epoch 27/50\n",
            " - 1s - loss: 0.4742 - acc: 0.8620 - val_loss: 0.6504 - val_acc: 0.6953\n",
            "\n",
            "Epoch 00027: val_loss did not improve from 0.36272\n",
            "Epoch 28/50\n",
            " - 1s - loss: 0.4910 - acc: 0.7704 - val_loss: 0.5420 - val_acc: 0.7500\n",
            "\n",
            "Epoch 00028: val_loss did not improve from 0.36272\n",
            "Epoch 29/50\n",
            " - 1s - loss: 0.5382 - acc: 0.8021 - val_loss: 0.4264 - val_acc: 0.8438\n",
            "\n",
            "Epoch 00029: val_loss did not improve from 0.36272\n",
            "Epoch 30/50\n",
            " - 1s - loss: 0.4472 - acc: 0.8203 - val_loss: 0.3879 - val_acc: 0.8281\n",
            "\n",
            "Epoch 00030: val_loss did not improve from 0.36272\n",
            "Epoch 31/50\n",
            " - 1s - loss: 0.4030 - acc: 0.8516 - val_loss: 0.4223 - val_acc: 0.8125\n",
            "\n",
            "Epoch 00031: val_loss did not improve from 0.36272\n",
            "Epoch 32/50\n",
            " - 1s - loss: 0.4498 - acc: 0.8620 - val_loss: 0.3404 - val_acc: 0.8828\n",
            "\n",
            "Epoch 00032: val_loss improved from 0.36272 to 0.34039, saving model to drive/My Drive/Resultado/Segmentado/weights_architecture_11.hdf5\n",
            "Epoch 33/50\n",
            " - 1s - loss: 0.4495 - acc: 0.8411 - val_loss: 0.4351 - val_acc: 0.7969\n",
            "\n",
            "Epoch 00033: val_loss did not improve from 0.34039\n",
            "Epoch 34/50\n",
            " - 1s - loss: 0.4460 - acc: 0.8646 - val_loss: 0.4601 - val_acc: 0.8281\n",
            "\n",
            "Epoch 00034: val_loss did not improve from 0.34039\n",
            "Epoch 35/50\n",
            " - 1s - loss: 0.3699 - acc: 0.8802 - val_loss: 0.4574 - val_acc: 0.7891\n",
            "\n",
            "Epoch 00035: val_loss did not improve from 0.34039\n",
            "Epoch 36/50\n",
            " - 1s - loss: 0.3057 - acc: 0.9193 - val_loss: 0.5141 - val_acc: 0.7266\n",
            "\n",
            "Epoch 00036: val_loss did not improve from 0.34039\n",
            "Epoch 37/50\n",
            " - 1s - loss: 0.4651 - acc: 0.8490 - val_loss: 0.4363 - val_acc: 0.8125\n",
            "\n",
            "Epoch 00037: val_loss did not improve from 0.34039\n",
            "Epoch 38/50\n",
            " - 1s - loss: 0.3929 - acc: 0.8672 - val_loss: 0.3886 - val_acc: 0.8672\n",
            "\n",
            "Epoch 00038: val_loss did not improve from 0.34039\n",
            "Epoch 39/50\n",
            " - 1s - loss: 0.4337 - acc: 0.8438 - val_loss: 0.3092 - val_acc: 0.8828\n",
            "\n",
            "Epoch 00039: val_loss improved from 0.34039 to 0.30921, saving model to drive/My Drive/Resultado/Segmentado/weights_architecture_11.hdf5\n",
            "Epoch 40/50\n",
            " - 1s - loss: 0.4743 - acc: 0.8333 - val_loss: 0.4654 - val_acc: 0.7812\n",
            "\n",
            "Epoch 00040: val_loss did not improve from 0.30921\n",
            "Epoch 41/50\n",
            " - 1s - loss: 0.4256 - acc: 0.8385 - val_loss: 0.4268 - val_acc: 0.8828\n",
            "\n",
            "Epoch 00041: val_loss did not improve from 0.30921\n",
            "Epoch 42/50\n",
            " - 1s - loss: 0.3340 - acc: 0.8958 - val_loss: 0.4465 - val_acc: 0.8672\n",
            "\n",
            "Epoch 00042: val_loss did not improve from 0.30921\n",
            "Epoch 43/50\n",
            " - 1s - loss: 0.3187 - acc: 0.8984 - val_loss: 0.4290 - val_acc: 0.9062\n",
            "\n",
            "Epoch 00043: val_loss did not improve from 0.30921\n",
            "Epoch 44/50\n",
            " - 1s - loss: 0.3506 - acc: 0.8906 - val_loss: 0.4669 - val_acc: 0.8281\n",
            "\n",
            "Epoch 00044: val_loss did not improve from 0.30921\n",
            "Epoch 45/50\n",
            " - 1s - loss: 0.3760 - acc: 0.8672 - val_loss: 0.4605 - val_acc: 0.8125\n",
            "\n",
            "Epoch 00045: val_loss did not improve from 0.30921\n",
            "Epoch 46/50\n",
            " - 1s - loss: 0.3878 - acc: 0.8932 - val_loss: 0.4275 - val_acc: 0.8750\n",
            "\n",
            "Epoch 00046: val_loss did not improve from 0.30921\n",
            "Epoch 47/50\n",
            " - 1s - loss: 0.3256 - acc: 0.8776 - val_loss: 0.3381 - val_acc: 0.8438\n",
            "\n",
            "Epoch 00047: val_loss did not improve from 0.30921\n",
            "Epoch 48/50\n",
            " - 1s - loss: 0.3842 - acc: 0.8672 - val_loss: 0.3634 - val_acc: 0.8594\n",
            "\n",
            "Epoch 00048: val_loss did not improve from 0.30921\n",
            "Epoch 49/50\n",
            " - 1s - loss: 0.4245 - acc: 0.8411 - val_loss: 0.3631 - val_acc: 0.9595\n",
            "\n",
            "Epoch 00049: val_loss did not improve from 0.30921\n",
            "Epoch 50/50\n",
            " - 1s - loss: 0.3084 - acc: 0.9010 - val_loss: 0.3478 - val_acc: 0.9141\n",
            "\n",
            "Epoch 00050: val_loss did not improve from 0.30921\n"
          ],
          "name": "stdout"
        }
      ]
    },
    {
      "metadata": {
        "colab_type": "code",
        "id": "lA6cwhmYFt1h",
        "colab": {}
      },
      "cell_type": "code",
      "source": [
        "model.load_weights('drive/My Drive/Resultado/Segmentado/weights_' + architecture + '.hdf5')"
      ],
      "execution_count": 0,
      "outputs": []
    },
    {
      "metadata": {
        "colab_type": "code",
        "id": "kPplRfrIFt1m",
        "colab": {
          "base_uri": "https://localhost:8080/",
          "height": 0
        },
        "outputId": "6331d589-827b-48ff-e787-0dfbf264bcdd"
      },
      "cell_type": "code",
      "source": [
        "# plotar loss e accuracy para os datasets 'train' e 'test'\n",
        "plt.style.use(\"ggplot\")\n",
        "plt.figure()\n",
        "plt.plot(training.history['acc'], label='Accuracy')\n",
        "plt.plot(training.history['loss'], label='Loss')\n",
        "plt.xlabel('Epochs')\n",
        "plt.ylabel('Accuracy')\n",
        "plt.title(\"Training Loss and Accuracy\")\n",
        "plt.ylabel(\"Loss/Accuracy\")\n",
        "plt.legend()\n",
        "plt.savefig('drive/My Drive/Resultado/Segmentado/' + architecture + '.png', bbox_inches='tight')"
      ],
      "execution_count": 249,
      "outputs": [
        {
          "output_type": "display_data",
          "data": {
            "image/png": "[encoded data removed]",
            "text/plain": [
              "<matplotlib.figure.Figure at 0x7f3570dcdbe0>"
            ]
          },
          "metadata": {
            "tags": []
          }
        }
      ]
    },
    {
      "metadata": {
        "colab_type": "text",
        "id": "slwgit7bFt1t"
      },
      "cell_type": "markdown",
      "source": [
        "### Teste"
      ]
    },
    {
      "metadata": {
        "colab_type": "code",
        "id": "WFVIipDXFt1v",
        "colab": {
          "base_uri": "https://localhost:8080/",
          "height": 74
        },
        "outputId": "7f04c93b-6be4-43c1-94ec-aac58aabef4f"
      },
      "cell_type": "code",
      "source": [
        "y_true, y_predict = ler_images_teste(architecture)"
      ],
      "execution_count": 250,
      "outputs": [
        {
          "output_type": "stream",
          "text": [
            "/usr/local/lib/python3.6/dist-packages/skimage/transform/_warps.py:84: UserWarning: The default mode, 'constant', will be changed to 'reflect' in skimage 0.15.\n",
            "  warn(\"The default mode, 'constant', will be changed to 'reflect' in \"\n"
          ],
          "name": "stderr"
        }
      ]
    },
    {
      "metadata": {
        "colab_type": "code",
        "id": "3T07io2oFt12",
        "colab": {
          "base_uri": "https://localhost:8080/",
          "height": 35
        },
        "outputId": "e5c151f2-1572-4eec-e1e6-768e045854fc"
      },
      "cell_type": "code",
      "source": [
        "results[architecture] = precision_score(y_true, y_predict, average='binary')\n",
        "print('Test Precision: {:.2f}%'\n",
        "      .format(100 * results[architecture]))"
      ],
      "execution_count": 251,
      "outputs": [
        {
          "output_type": "stream",
          "text": [
            "Test Precision: 19.65%\n"
          ],
          "name": "stdout"
        }
      ]
    },
    {
      "metadata": {
        "id": "26BCkdp9MAna",
        "colab_type": "text"
      },
      "cell_type": "markdown",
      "source": [
        "## 12 tentativa Precision: 19.64%"
      ]
    },
    {
      "metadata": {
        "colab_type": "text",
        "id": "MLvKG40a84F9"
      },
      "cell_type": "markdown",
      "source": [
        "Modelo adaptado do **Lucas Albertins**\n",
        "\n",
        "*   Sem utilização das funções de regularização\n",
        "*   Função **SGD** para compilação\n",
        "*   Adicionado mais 2 camadas convolutivas"
      ]
    },
    {
      "metadata": {
        "colab_type": "code",
        "id": "-_TE6KwakRoT",
        "colab": {}
      },
      "cell_type": "code",
      "source": [
        "architecture = 'architecture_12'"
      ],
      "execution_count": 0,
      "outputs": []
    },
    {
      "metadata": {
        "id": "Re-dc0YXEr3p",
        "colab_type": "text"
      },
      "cell_type": "markdown",
      "source": [
        "### Modelo"
      ]
    },
    {
      "metadata": {
        "colab_type": "code",
        "id": "9LrDSy5AMFDO",
        "colab": {}
      },
      "cell_type": "code",
      "source": [
        "from keras.layers import Conv2D, MaxPooling2D, GlobalMaxPooling2D, BatchNormalization\n",
        "from keras.regularizers import l2\n",
        "\n",
        "model = Sequential()\n",
        "\n",
        "model.add(Conv2D(32, (3, 3), activation='relu',input_shape=(None, None, 3)))\n",
        "model.add(BatchNormalization())\n",
        "model.add(Conv2D(32, (3, 3), activation='relu'))\n",
        "model.add(BatchNormalization())\n",
        "model.add(MaxPooling2D((2, 2)))\n",
        "model.add(Dropout(0.25))\n",
        "\n",
        "model.add(Conv2D(64, (3, 3), activation='relu'))\n",
        "model.add(BatchNormalization())\n",
        "model.add(Conv2D(64, (3, 3), activation='relu'))\n",
        "model.add(BatchNormalization())\n",
        "model.add(MaxPooling2D((2, 2)))\n",
        "model.add(Dropout(0.25))\n",
        "\n",
        "model.add(Conv2D(96, (3, 3),activation='relu'))\n",
        "model.add(BatchNormalization())\n",
        "model.add(Conv2D(96, (3, 3),activation='relu'))\n",
        "model.add(BatchNormalization())\n",
        "model.add(MaxPooling2D((2, 2)))\n",
        "model.add(Dropout(0.25))\n",
        "\n",
        "model.add(Conv2D(128, (1,1)))\n",
        "model.add(GlobalMaxPooling2D())\n",
        "\n",
        "model.add(Dense(256, activation='relu'))\n",
        "model.add(Dropout(0.5))\n",
        "model.add(Dense(2, activation='sigmoid'))"
      ],
      "execution_count": 0,
      "outputs": []
    },
    {
      "metadata": {
        "colab_type": "code",
        "id": "EUZ-2eyUMSxQ",
        "colab": {}
      },
      "cell_type": "code",
      "source": [
        "model.compile(SGD(lr=0.01, momentum=0.0, decay=0.0, nesterov=False), \n",
        "              loss='binary_crossentropy', metrics=['accuracy'])"
      ],
      "execution_count": 0,
      "outputs": []
    },
    {
      "metadata": {
        "colab_type": "text",
        "id": "pNDlQBYdFu45"
      },
      "cell_type": "markdown",
      "source": [
        "### Treino\n"
      ]
    },
    {
      "metadata": {
        "colab_type": "code",
        "id": "TxUOYvuWFu5F",
        "colab": {}
      },
      "cell_type": "code",
      "source": [
        "checkpointer = ModelCheckpoint(filepath='drive/My Drive/Resultado/Segmentado/weights_' + architecture + '.hdf5', verbose=1, save_best_only=True)"
      ],
      "execution_count": 0,
      "outputs": []
    },
    {
      "metadata": {
        "colab_type": "code",
        "id": "RUa8IqkCFu5X",
        "colab": {
          "base_uri": "https://localhost:8080/",
          "height": 0
        },
        "outputId": "566c46fd-88e9-4e2e-88d6-5ecd8fc4fe41"
      },
      "cell_type": "code",
      "source": [
        "training = model.fit_generator(train_batches, steps_per_epoch=stepsPerEpoche, \n",
        "                   validation_data=validation_batches, validation_steps=validationSteps,\n",
        "                   epochs=50, verbose=2, callbacks=[checkpointer])"
      ],
      "execution_count": 256,
      "outputs": [
        {
          "output_type": "stream",
          "text": [
            "Epoch 1/50\n",
            " - 9s - loss: 1.7031 - acc: 0.5000 - val_loss: 0.7088 - val_acc: 0.6172\n",
            "\n",
            "Epoch 00001: val_loss improved from inf to 0.70882, saving model to drive/My Drive/Resultado/Segmentado/weights_architecture_12.hdf5\n",
            "Epoch 2/50\n",
            " - 1s - loss: 1.3478 - acc: 0.5729 - val_loss: 0.7013 - val_acc: 0.5156\n",
            "\n",
            "Epoch 00002: val_loss improved from 0.70882 to 0.70134, saving model to drive/My Drive/Resultado/Segmentado/weights_architecture_12.hdf5\n",
            "Epoch 3/50\n",
            " - 1s - loss: 1.0541 - acc: 0.5625 - val_loss: 0.5993 - val_acc: 0.6562\n",
            "\n",
            "Epoch 00003: val_loss improved from 0.70134 to 0.59929, saving model to drive/My Drive/Resultado/Segmentado/weights_architecture_12.hdf5\n",
            "Epoch 4/50\n",
            " - 1s - loss: 0.9551 - acc: 0.6432 - val_loss: 0.6516 - val_acc: 0.5625\n",
            "\n",
            "Epoch 00004: val_loss did not improve from 0.59929\n",
            "Epoch 5/50\n",
            " - 1s - loss: 0.9130 - acc: 0.5911 - val_loss: 0.5716 - val_acc: 0.7344\n",
            "\n",
            "Epoch 00005: val_loss improved from 0.59929 to 0.57164, saving model to drive/My Drive/Resultado/Segmentado/weights_architecture_12.hdf5\n",
            "Epoch 6/50\n",
            " - 1s - loss: 0.7349 - acc: 0.6406 - val_loss: 0.6902 - val_acc: 0.6016\n",
            "\n",
            "Epoch 00006: val_loss did not improve from 0.57164\n",
            "Epoch 7/50\n",
            " - 1s - loss: 0.7213 - acc: 0.6198 - val_loss: 0.5593 - val_acc: 0.7891\n",
            "\n",
            "Epoch 00007: val_loss improved from 0.57164 to 0.55928, saving model to drive/My Drive/Resultado/Segmentado/weights_architecture_12.hdf5\n",
            "Epoch 8/50\n",
            " - 1s - loss: 0.6526 - acc: 0.6373 - val_loss: 0.4997 - val_acc: 0.7422\n",
            "\n",
            "Epoch 00008: val_loss improved from 0.55928 to 0.49967, saving model to drive/My Drive/Resultado/Segmentado/weights_architecture_12.hdf5\n",
            "Epoch 9/50\n",
            " - 1s - loss: 0.5388 - acc: 0.7161 - val_loss: 0.4995 - val_acc: 0.7344\n",
            "\n",
            "Epoch 00009: val_loss improved from 0.49967 to 0.49951, saving model to drive/My Drive/Resultado/Segmentado/weights_architecture_12.hdf5\n",
            "Epoch 10/50\n",
            " - 1s - loss: 0.5831 - acc: 0.7083 - val_loss: 0.4198 - val_acc: 0.7656\n",
            "\n",
            "Epoch 00010: val_loss improved from 0.49951 to 0.41981, saving model to drive/My Drive/Resultado/Segmentado/weights_architecture_12.hdf5\n",
            "Epoch 11/50\n",
            " - 1s - loss: 0.4998 - acc: 0.7526 - val_loss: 0.4953 - val_acc: 0.7031\n",
            "\n",
            "Epoch 00011: val_loss did not improve from 0.41981\n",
            "Epoch 12/50\n",
            " - 1s - loss: 0.5168 - acc: 0.7448 - val_loss: 0.4660 - val_acc: 0.7344\n",
            "\n",
            "Epoch 00012: val_loss did not improve from 0.41981\n",
            "Epoch 13/50\n",
            " - 1s - loss: 0.5016 - acc: 0.7604 - val_loss: 0.4218 - val_acc: 0.8359\n",
            "\n",
            "Epoch 00013: val_loss did not improve from 0.41981\n",
            "Epoch 14/50\n",
            " - 1s - loss: 0.4560 - acc: 0.8099 - val_loss: 0.4754 - val_acc: 0.7266\n",
            "\n",
            "Epoch 00014: val_loss did not improve from 0.41981\n",
            "Epoch 15/50\n",
            " - 1s - loss: 0.4715 - acc: 0.7760 - val_loss: 0.5402 - val_acc: 0.7578\n",
            "\n",
            "Epoch 00015: val_loss did not improve from 0.41981\n",
            "Epoch 16/50\n",
            " - 1s - loss: 0.4154 - acc: 0.8307 - val_loss: 0.3501 - val_acc: 0.9141\n",
            "\n",
            "Epoch 00016: val_loss improved from 0.41981 to 0.35012, saving model to drive/My Drive/Resultado/Segmentado/weights_architecture_12.hdf5\n",
            "Epoch 17/50\n",
            " - 1s - loss: 0.4861 - acc: 0.8151 - val_loss: 0.4762 - val_acc: 0.7891\n",
            "\n",
            "Epoch 00017: val_loss did not improve from 0.35012\n",
            "Epoch 18/50\n",
            " - 1s - loss: 0.3975 - acc: 0.8125 - val_loss: 0.4149 - val_acc: 0.7703\n",
            "\n",
            "Epoch 00018: val_loss did not improve from 0.35012\n",
            "Epoch 19/50\n",
            " - 1s - loss: 0.4621 - acc: 0.8125 - val_loss: 0.5012 - val_acc: 0.7422\n",
            "\n",
            "Epoch 00019: val_loss did not improve from 0.35012\n",
            "Epoch 20/50\n",
            " - 1s - loss: 0.4629 - acc: 0.8047 - val_loss: 0.4806 - val_acc: 0.7109\n",
            "\n",
            "Epoch 00020: val_loss did not improve from 0.35012\n",
            "Epoch 21/50\n",
            " - 1s - loss: 0.4411 - acc: 0.7917 - val_loss: 0.3929 - val_acc: 0.8203\n",
            "\n",
            "Epoch 00021: val_loss did not improve from 0.35012\n",
            "Epoch 22/50\n",
            " - 1s - loss: 0.4324 - acc: 0.8333 - val_loss: 0.3316 - val_acc: 0.8594\n",
            "\n",
            "Epoch 00022: val_loss improved from 0.35012 to 0.33164, saving model to drive/My Drive/Resultado/Segmentado/weights_architecture_12.hdf5\n",
            "Epoch 23/50\n",
            " - 1s - loss: 0.4601 - acc: 0.8047 - val_loss: 0.5023 - val_acc: 0.7344\n",
            "\n",
            "Epoch 00023: val_loss did not improve from 0.33164\n",
            "Epoch 24/50\n",
            " - 1s - loss: 0.4023 - acc: 0.8255 - val_loss: 0.4826 - val_acc: 0.7344\n",
            "\n",
            "Epoch 00024: val_loss did not improve from 0.33164\n",
            "Epoch 25/50\n",
            " - 1s - loss: 0.3978 - acc: 0.8359 - val_loss: 0.4407 - val_acc: 0.7812\n",
            "\n",
            "Epoch 00025: val_loss did not improve from 0.33164\n",
            "Epoch 26/50\n",
            " - 1s - loss: 0.4341 - acc: 0.7839 - val_loss: 0.4786 - val_acc: 0.7500\n",
            "\n",
            "Epoch 00026: val_loss did not improve from 0.33164\n",
            "Epoch 27/50\n",
            " - 1s - loss: 0.2838 - acc: 0.8802 - val_loss: 0.5279 - val_acc: 0.7422\n",
            "\n",
            "Epoch 00027: val_loss did not improve from 0.33164\n",
            "Epoch 28/50\n",
            " - 1s - loss: 0.3679 - acc: 0.8203 - val_loss: 0.3865 - val_acc: 0.8047\n",
            "\n",
            "Epoch 00028: val_loss did not improve from 0.33164\n",
            "Epoch 29/50\n",
            " - 1s - loss: 0.3770 - acc: 0.8542 - val_loss: 0.4008 - val_acc: 0.7734\n",
            "\n",
            "Epoch 00029: val_loss did not improve from 0.33164\n",
            "Epoch 30/50\n",
            " - 1s - loss: 0.3494 - acc: 0.8828 - val_loss: 0.3052 - val_acc: 0.9062\n",
            "\n",
            "Epoch 00030: val_loss improved from 0.33164 to 0.30522, saving model to drive/My Drive/Resultado/Segmentado/weights_architecture_12.hdf5\n",
            "Epoch 31/50\n",
            " - 1s - loss: 0.3805 - acc: 0.8542 - val_loss: 0.3642 - val_acc: 0.8125\n",
            "\n",
            "Epoch 00031: val_loss did not improve from 0.30522\n",
            "Epoch 32/50\n",
            " - 1s - loss: 0.3617 - acc: 0.8333 - val_loss: 0.2785 - val_acc: 0.9141\n",
            "\n",
            "Epoch 00032: val_loss improved from 0.30522 to 0.27855, saving model to drive/My Drive/Resultado/Segmentado/weights_architecture_12.hdf5\n",
            "Epoch 33/50\n",
            " - 1s - loss: 0.3217 - acc: 0.8828 - val_loss: 0.2924 - val_acc: 0.8672\n",
            "\n",
            "Epoch 00033: val_loss did not improve from 0.27855\n",
            "Epoch 34/50\n",
            " - 1s - loss: 0.3579 - acc: 0.8672 - val_loss: 0.2417 - val_acc: 0.9375\n",
            "\n",
            "Epoch 00034: val_loss improved from 0.27855 to 0.24172, saving model to drive/My Drive/Resultado/Segmentado/weights_architecture_12.hdf5\n",
            "Epoch 35/50\n",
            " - 1s - loss: 0.2086 - acc: 0.9245 - val_loss: 0.2376 - val_acc: 0.9297\n",
            "\n",
            "Epoch 00035: val_loss improved from 0.24172 to 0.23763, saving model to drive/My Drive/Resultado/Segmentado/weights_architecture_12.hdf5\n",
            "Epoch 36/50\n",
            " - 1s - loss: 0.4142 - acc: 0.8411 - val_loss: 0.4157 - val_acc: 0.8047\n",
            "\n",
            "Epoch 00036: val_loss did not improve from 0.23763\n",
            "Epoch 37/50\n",
            " - 1s - loss: 0.3123 - acc: 0.8627 - val_loss: 0.2580 - val_acc: 0.9375\n",
            "\n",
            "Epoch 00037: val_loss did not improve from 0.23763\n",
            "Epoch 38/50\n",
            " - 1s - loss: 0.2960 - acc: 0.8880 - val_loss: 0.3171 - val_acc: 0.8594\n",
            "\n",
            "Epoch 00038: val_loss did not improve from 0.23763\n",
            "Epoch 39/50\n",
            " - 1s - loss: 0.3039 - acc: 0.8932 - val_loss: 0.3208 - val_acc: 0.8281\n",
            "\n",
            "Epoch 00039: val_loss did not improve from 0.23763\n",
            "Epoch 40/50\n",
            " - 1s - loss: 0.3309 - acc: 0.8750 - val_loss: 0.2291 - val_acc: 0.8906\n",
            "\n",
            "Epoch 00040: val_loss improved from 0.23763 to 0.22911, saving model to drive/My Drive/Resultado/Segmentado/weights_architecture_12.hdf5\n",
            "Epoch 41/50\n",
            " - 1s - loss: 0.3393 - acc: 0.8724 - val_loss: 0.2596 - val_acc: 0.9375\n",
            "\n",
            "Epoch 00041: val_loss did not improve from 0.22911\n",
            "Epoch 42/50\n",
            " - 1s - loss: 0.2630 - acc: 0.9141 - val_loss: 0.2541 - val_acc: 0.8784\n",
            "\n",
            "Epoch 00042: val_loss did not improve from 0.22911\n",
            "Epoch 43/50\n",
            " - 1s - loss: 0.3260 - acc: 0.8906 - val_loss: 0.3023 - val_acc: 0.8984\n",
            "\n",
            "Epoch 00043: val_loss did not improve from 0.22911\n",
            "Epoch 44/50\n",
            " - 1s - loss: 0.2740 - acc: 0.9141 - val_loss: 0.3557 - val_acc: 0.8359\n",
            "\n",
            "Epoch 00044: val_loss did not improve from 0.22911\n",
            "Epoch 45/50\n",
            " - 1s - loss: 0.2564 - acc: 0.9141 - val_loss: 0.3723 - val_acc: 0.8906\n",
            "\n",
            "Epoch 00045: val_loss did not improve from 0.22911\n",
            "Epoch 46/50\n",
            " - 1s - loss: 0.2656 - acc: 0.9141 - val_loss: 0.3612 - val_acc: 0.8906\n",
            "\n",
            "Epoch 00046: val_loss did not improve from 0.22911\n",
            "Epoch 47/50\n",
            " - 1s - loss: 0.3560 - acc: 0.8620 - val_loss: 0.3532 - val_acc: 0.8516\n",
            "\n",
            "Epoch 00047: val_loss did not improve from 0.22911\n",
            "Epoch 48/50\n",
            " - 1s - loss: 0.2066 - acc: 0.9193 - val_loss: 0.1541 - val_acc: 0.9531\n",
            "\n",
            "Epoch 00048: val_loss improved from 0.22911 to 0.15411, saving model to drive/My Drive/Resultado/Segmentado/weights_architecture_12.hdf5\n",
            "Epoch 49/50\n",
            " - 1s - loss: 0.3499 - acc: 0.8854 - val_loss: 0.1822 - val_acc: 0.9453\n",
            "\n",
            "Epoch 00049: val_loss did not improve from 0.15411\n",
            "Epoch 50/50\n",
            " - 1s - loss: 0.2755 - acc: 0.8880 - val_loss: 0.2462 - val_acc: 0.9219\n",
            "\n",
            "Epoch 00050: val_loss did not improve from 0.15411\n"
          ],
          "name": "stdout"
        }
      ]
    },
    {
      "metadata": {
        "colab_type": "code",
        "id": "QhygibHlFu5l",
        "colab": {}
      },
      "cell_type": "code",
      "source": [
        "model.load_weights('drive/My Drive/Resultado/Segmentado/weights_' + architecture + '.hdf5')"
      ],
      "execution_count": 0,
      "outputs": []
    },
    {
      "metadata": {
        "colab_type": "code",
        "id": "F2shlKGTFu5s",
        "colab": {
          "base_uri": "https://localhost:8080/",
          "height": 0
        },
        "outputId": "4da2abf0-a7f6-48e1-ee85-43835d2054e0"
      },
      "cell_type": "code",
      "source": [
        "# plotar loss e accuracy para os datasets 'train' e 'test'\n",
        "plt.style.use(\"ggplot\")\n",
        "plt.figure()\n",
        "plt.plot(training.history['acc'], label='Accuracy')\n",
        "plt.plot(training.history['loss'], label='Loss')\n",
        "plt.xlabel('Epochs')\n",
        "plt.ylabel('Accuracy')\n",
        "plt.title(\"Training Loss and Accuracy\")\n",
        "plt.ylabel(\"Loss/Accuracy\")\n",
        "plt.legend()\n",
        "plt.savefig('drive/My Drive/Resultado/Segmentado/' + architecture + '.png', bbox_inches='tight')"
      ],
      "execution_count": 258,
      "outputs": [
        {
          "output_type": "display_data",
          "data": {
            "image/png": "[encoded data removed]",
            "text/plain": [
              "<matplotlib.figure.Figure at 0x7f3572f86470>"
            ]
          },
          "metadata": {
            "tags": []
          }
        }
      ]
    },
    {
      "metadata": {
        "colab_type": "text",
        "id": "hZ1w_EwwFu50"
      },
      "cell_type": "markdown",
      "source": [
        "### Teste"
      ]
    },
    {
      "metadata": {
        "colab_type": "code",
        "id": "OzBcgvjFFu51",
        "colab": {
          "base_uri": "https://localhost:8080/",
          "height": 74
        },
        "outputId": "49762976-3bb7-417b-8daf-87b4329cfa21"
      },
      "cell_type": "code",
      "source": [
        "y_true, y_predict = ler_images_teste(architecture)"
      ],
      "execution_count": 259,
      "outputs": [
        {
          "output_type": "stream",
          "text": [
            "/usr/local/lib/python3.6/dist-packages/skimage/transform/_warps.py:84: UserWarning: The default mode, 'constant', will be changed to 'reflect' in skimage 0.15.\n",
            "  warn(\"The default mode, 'constant', will be changed to 'reflect' in \"\n"
          ],
          "name": "stderr"
        }
      ]
    },
    {
      "metadata": {
        "colab_type": "code",
        "id": "ngYLIAbLFu57",
        "colab": {
          "base_uri": "https://localhost:8080/",
          "height": 35
        },
        "outputId": "8a3e6d64-c35a-490a-fe12-b55c2b6b6292"
      },
      "cell_type": "code",
      "source": [
        "results[architecture] = precision_score(y_true, y_predict, average='binary')\n",
        "print('Test Precision: {:.2f}%'\n",
        "      .format(100 * results[architecture]))"
      ],
      "execution_count": 260,
      "outputs": [
        {
          "output_type": "stream",
          "text": [
            "Test Precision: 19.64%\n"
          ],
          "name": "stdout"
        }
      ]
    },
    {
      "metadata": {
        "colab_type": "text",
        "id": "Un9HtbTIqkXS"
      },
      "cell_type": "markdown",
      "source": [
        "## 13 tentativa Precision: 19.64%"
      ]
    },
    {
      "metadata": {
        "colab_type": "text",
        "id": "HNDvvOwsqkXW"
      },
      "cell_type": "markdown",
      "source": [
        "Modelo adaptado do **Lucas Albertins**\n",
        "\n",
        "*   Utilizado outra função de normalização, diferente da utilizada por ele."
      ]
    },
    {
      "metadata": {
        "colab_type": "code",
        "id": "_lp8G0SCqkXt",
        "colab": {}
      },
      "cell_type": "code",
      "source": [
        "architecture = 'architecture_13'"
      ],
      "execution_count": 0,
      "outputs": []
    },
    {
      "metadata": {
        "id": "5PdHZAGMEybs",
        "colab_type": "text"
      },
      "cell_type": "markdown",
      "source": [
        "### Modelo"
      ]
    },
    {
      "metadata": {
        "colab_type": "code",
        "id": "iTG2TFqBqkXa",
        "colab": {}
      },
      "cell_type": "code",
      "source": [
        "from keras.layers import Conv2D, MaxPooling2D, GlobalMaxPooling2D, BatchNormalization\n",
        "from keras.regularizers import l2\n",
        "\n",
        "model = Sequential()\n",
        "\n",
        "model.add(Conv2D(32, (3, 3), activation='relu',input_shape=(None, None, 3)))\n",
        "model.add(MaxPooling2D((2, 2)))\n",
        "model.add(BatchNormalization())\n",
        "model.add(Dropout(0.25))\n",
        "\n",
        "model.add(Conv2D(64, (5, 5), activation='relu'))\n",
        "model.add(MaxPooling2D((2, 2)))\n",
        "model.add(BatchNormalization())\n",
        "model.add(Dropout(0.25))\n",
        "\n",
        "model.add(Conv2D(128, (7, 7),activation='relu'))\n",
        "model.add(MaxPooling2D((2, 2)))\n",
        "model.add(BatchNormalization())\n",
        "model.add(Dropout(0.25))\n",
        "\n",
        "model.add(Conv2D(128, (1,1)))\n",
        "model.add(GlobalMaxPooling2D())\n",
        "\n",
        "model.add(Dense(256, activation='relu'))\n",
        "model.add(Dropout(0.5))\n",
        "model.add(Dense(2, activation='sigmoid'))"
      ],
      "execution_count": 0,
      "outputs": []
    },
    {
      "metadata": {
        "colab_type": "code",
        "id": "xbd43caBqkXj",
        "colab": {}
      },
      "cell_type": "code",
      "source": [
        "model.compile(optimizer='adam', loss='binary_crossentropy', metrics=['accuracy'])"
      ],
      "execution_count": 0,
      "outputs": []
    },
    {
      "metadata": {
        "colab_type": "text",
        "id": "gv0ARJgIFvx4"
      },
      "cell_type": "markdown",
      "source": [
        "### Treino\n"
      ]
    },
    {
      "metadata": {
        "colab_type": "code",
        "id": "uUGas3ZsFvx7",
        "colab": {}
      },
      "cell_type": "code",
      "source": [
        "checkpointer = ModelCheckpoint(filepath='drive/My Drive/Resultado/Segmentado/weights_' + architecture + '.hdf5', verbose=1, save_best_only=True)"
      ],
      "execution_count": 0,
      "outputs": []
    },
    {
      "metadata": {
        "colab_type": "code",
        "id": "0EA4oJFcFvyD",
        "colab": {
          "base_uri": "https://localhost:8080/",
          "height": 3710
        },
        "outputId": "8b3d5ebe-a4ee-469a-e884-10bcc7316659"
      },
      "cell_type": "code",
      "source": [
        "training = model.fit_generator(train_batches, steps_per_epoch=stepsPerEpoche, \n",
        "                   validation_data=validation_batches, validation_steps=validationSteps,\n",
        "                   epochs=50, verbose=2, callbacks=[checkpointer])"
      ],
      "execution_count": 265,
      "outputs": [
        {
          "output_type": "stream",
          "text": [
            "Epoch 1/50\n",
            " - 10s - loss: 1.1454 - acc: 0.5807 - val_loss: 0.5419 - val_acc: 0.7266\n",
            "\n",
            "Epoch 00001: val_loss improved from inf to 0.54189, saving model to drive/My Drive/Resultado/Segmentado/weights_architecture_13.hdf5\n",
            "Epoch 2/50\n",
            " - 0s - loss: 0.7736 - acc: 0.6615 - val_loss: 0.5672 - val_acc: 0.6562\n",
            "\n",
            "Epoch 00002: val_loss did not improve from 0.54189\n",
            "Epoch 3/50\n",
            " - 0s - loss: 0.6865 - acc: 0.6693 - val_loss: 0.4630 - val_acc: 0.7734\n",
            "\n",
            "Epoch 00003: val_loss improved from 0.54189 to 0.46297, saving model to drive/My Drive/Resultado/Segmentado/weights_architecture_13.hdf5\n",
            "Epoch 4/50\n",
            " - 0s - loss: 0.5893 - acc: 0.7266 - val_loss: 0.4784 - val_acc: 0.7031\n",
            "\n",
            "Epoch 00004: val_loss did not improve from 0.46297\n",
            "Epoch 5/50\n",
            " - 1s - loss: 0.5017 - acc: 0.7526 - val_loss: 0.4501 - val_acc: 0.7734\n",
            "\n",
            "Epoch 00005: val_loss improved from 0.46297 to 0.45013, saving model to drive/My Drive/Resultado/Segmentado/weights_architecture_13.hdf5\n",
            "Epoch 6/50\n",
            " - 1s - loss: 0.5857 - acc: 0.7005 - val_loss: 0.3499 - val_acc: 0.7500\n",
            "\n",
            "Epoch 00006: val_loss improved from 0.45013 to 0.34994, saving model to drive/My Drive/Resultado/Segmentado/weights_architecture_13.hdf5\n",
            "Epoch 7/50\n",
            " - 1s - loss: 0.3473 - acc: 0.8333 - val_loss: 0.2981 - val_acc: 0.8984\n",
            "\n",
            "Epoch 00007: val_loss improved from 0.34994 to 0.29812, saving model to drive/My Drive/Resultado/Segmentado/weights_architecture_13.hdf5\n",
            "Epoch 8/50\n",
            " - 1s - loss: 0.3193 - acc: 0.8854 - val_loss: 0.4457 - val_acc: 0.7891\n",
            "\n",
            "Epoch 00008: val_loss did not improve from 0.29812\n",
            "Epoch 9/50\n",
            " - 1s - loss: 0.3744 - acc: 0.8151 - val_loss: 0.3156 - val_acc: 0.8281\n",
            "\n",
            "Epoch 00009: val_loss did not improve from 0.29812\n",
            "Epoch 10/50\n",
            " - 1s - loss: 0.4517 - acc: 0.8307 - val_loss: 0.3108 - val_acc: 0.8828\n",
            "\n",
            "Epoch 00010: val_loss did not improve from 0.29812\n",
            "Epoch 11/50\n",
            " - 1s - loss: 0.3149 - acc: 0.8646 - val_loss: 0.9366 - val_acc: 0.5811\n",
            "\n",
            "Epoch 00011: val_loss did not improve from 0.29812\n",
            "Epoch 12/50\n",
            " - 1s - loss: 0.3358 - acc: 0.8620 - val_loss: 0.2554 - val_acc: 0.8906\n",
            "\n",
            "Epoch 00012: val_loss improved from 0.29812 to 0.25537, saving model to drive/My Drive/Resultado/Segmentado/weights_architecture_13.hdf5\n",
            "Epoch 13/50\n",
            " - 1s - loss: 0.2435 - acc: 0.9062 - val_loss: 0.2566 - val_acc: 0.8750\n",
            "\n",
            "Epoch 00013: val_loss did not improve from 0.25537\n",
            "Epoch 14/50\n",
            " - 1s - loss: 0.2050 - acc: 0.9349 - val_loss: 0.5365 - val_acc: 0.8438\n",
            "\n",
            "Epoch 00014: val_loss did not improve from 0.25537\n",
            "Epoch 15/50\n",
            " - 1s - loss: 0.2303 - acc: 0.9167 - val_loss: 0.1852 - val_acc: 0.8984\n",
            "\n",
            "Epoch 00015: val_loss improved from 0.25537 to 0.18524, saving model to drive/My Drive/Resultado/Segmentado/weights_architecture_13.hdf5\n",
            "Epoch 16/50\n",
            " - 1s - loss: 0.2898 - acc: 0.8802 - val_loss: 0.2882 - val_acc: 0.8672\n",
            "\n",
            "Epoch 00016: val_loss did not improve from 0.18524\n",
            "Epoch 17/50\n",
            " - 1s - loss: 0.3911 - acc: 0.8828 - val_loss: 0.3065 - val_acc: 0.8516\n",
            "\n",
            "Epoch 00017: val_loss did not improve from 0.18524\n",
            "Epoch 18/50\n",
            " - 1s - loss: 0.2573 - acc: 0.8984 - val_loss: 0.4126 - val_acc: 0.8281\n",
            "\n",
            "Epoch 00018: val_loss did not improve from 0.18524\n",
            "Epoch 19/50\n",
            " - 1s - loss: 0.2649 - acc: 0.9062 - val_loss: 0.4485 - val_acc: 0.8359\n",
            "\n",
            "Epoch 00019: val_loss did not improve from 0.18524\n",
            "Epoch 20/50\n",
            " - 1s - loss: 0.2923 - acc: 0.8776 - val_loss: 0.3554 - val_acc: 0.8203\n",
            "\n",
            "Epoch 00020: val_loss did not improve from 0.18524\n",
            "Epoch 21/50\n",
            " - 1s - loss: 0.2210 - acc: 0.9297 - val_loss: 0.2539 - val_acc: 0.9141\n",
            "\n",
            "Epoch 00021: val_loss did not improve from 0.18524\n",
            "Epoch 22/50\n",
            " - 1s - loss: 0.2964 - acc: 0.8932 - val_loss: 0.4216 - val_acc: 0.8516\n",
            "\n",
            "Epoch 00022: val_loss did not improve from 0.18524\n",
            "Epoch 23/50\n",
            " - 1s - loss: 0.1584 - acc: 0.9531 - val_loss: 0.3362 - val_acc: 0.8906\n",
            "\n",
            "Epoch 00023: val_loss did not improve from 0.18524\n",
            "Epoch 24/50\n",
            " - 1s - loss: 0.1676 - acc: 0.9479 - val_loss: 0.4613 - val_acc: 0.9062\n",
            "\n",
            "Epoch 00024: val_loss did not improve from 0.18524\n",
            "Epoch 25/50\n",
            " - 1s - loss: 0.3354 - acc: 0.9010 - val_loss: 0.4964 - val_acc: 0.8047\n",
            "\n",
            "Epoch 00025: val_loss did not improve from 0.18524\n",
            "Epoch 26/50\n",
            " - 1s - loss: 0.1714 - acc: 0.9271 - val_loss: 0.4713 - val_acc: 0.8672\n",
            "\n",
            "Epoch 00026: val_loss did not improve from 0.18524\n",
            "Epoch 27/50\n",
            " - 1s - loss: 0.3027 - acc: 0.9010 - val_loss: 0.2884 - val_acc: 0.8984\n",
            "\n",
            "Epoch 00027: val_loss did not improve from 0.18524\n",
            "Epoch 28/50\n",
            " - 1s - loss: 0.2510 - acc: 0.8958 - val_loss: 0.4848 - val_acc: 0.8203\n",
            "\n",
            "Epoch 00028: val_loss did not improve from 0.18524\n",
            "Epoch 29/50\n",
            " - 1s - loss: 0.2145 - acc: 0.9193 - val_loss: 0.3923 - val_acc: 0.8672\n",
            "\n",
            "Epoch 00029: val_loss did not improve from 0.18524\n",
            "Epoch 30/50\n",
            " - 1s - loss: 0.2179 - acc: 0.9297 - val_loss: 0.5772 - val_acc: 0.7500\n",
            "\n",
            "Epoch 00030: val_loss did not improve from 0.18524\n",
            "Epoch 31/50\n",
            " - 1s - loss: 0.2802 - acc: 0.8698 - val_loss: 0.1126 - val_acc: 0.9531\n",
            "\n",
            "Epoch 00031: val_loss improved from 0.18524 to 0.11255, saving model to drive/My Drive/Resultado/Segmentado/weights_architecture_13.hdf5\n",
            "Epoch 32/50\n",
            " - 1s - loss: 0.2539 - acc: 0.9297 - val_loss: 0.7024 - val_acc: 0.5625\n",
            "\n",
            "Epoch 00032: val_loss did not improve from 0.11255\n",
            "Epoch 33/50\n",
            " - 1s - loss: 0.2307 - acc: 0.9219 - val_loss: 0.4087 - val_acc: 0.8281\n",
            "\n",
            "Epoch 00033: val_loss did not improve from 0.11255\n",
            "Epoch 34/50\n",
            " - 1s - loss: 0.2470 - acc: 0.9245 - val_loss: 0.2359 - val_acc: 0.9375\n",
            "\n",
            "Epoch 00034: val_loss did not improve from 0.11255\n",
            "Epoch 35/50\n",
            " - 1s - loss: 0.2144 - acc: 0.9349 - val_loss: 0.1981 - val_acc: 0.9459\n",
            "\n",
            "Epoch 00035: val_loss did not improve from 0.11255\n",
            "Epoch 36/50\n",
            " - 1s - loss: 0.1654 - acc: 0.9401 - val_loss: 0.1511 - val_acc: 0.9219\n",
            "\n",
            "Epoch 00036: val_loss did not improve from 0.11255\n",
            "Epoch 37/50\n",
            " - 1s - loss: 0.2702 - acc: 0.9089 - val_loss: 0.3200 - val_acc: 0.8516\n",
            "\n",
            "Epoch 00037: val_loss did not improve from 0.11255\n",
            "Epoch 38/50\n",
            " - 1s - loss: 0.1984 - acc: 0.9323 - val_loss: 0.2580 - val_acc: 0.9062\n",
            "\n",
            "Epoch 00038: val_loss did not improve from 0.11255\n",
            "Epoch 39/50\n",
            " - 1s - loss: 0.1133 - acc: 0.9714 - val_loss: 0.2363 - val_acc: 0.9062\n",
            "\n",
            "Epoch 00039: val_loss did not improve from 0.11255\n",
            "Epoch 40/50\n",
            " - 1s - loss: 0.2253 - acc: 0.9089 - val_loss: 0.3377 - val_acc: 0.8594\n",
            "\n",
            "Epoch 00040: val_loss did not improve from 0.11255\n",
            "Epoch 41/50\n",
            " - 1s - loss: 0.2118 - acc: 0.9193 - val_loss: 0.2004 - val_acc: 0.9531\n",
            "\n",
            "Epoch 00041: val_loss did not improve from 0.11255\n",
            "Epoch 42/50\n",
            " - 1s - loss: 0.1559 - acc: 0.9583 - val_loss: 0.2206 - val_acc: 0.9219\n",
            "\n",
            "Epoch 00042: val_loss did not improve from 0.11255\n",
            "Epoch 43/50\n",
            " - 1s - loss: 0.2549 - acc: 0.9036 - val_loss: 0.4859 - val_acc: 0.8438\n",
            "\n",
            "Epoch 00043: val_loss did not improve from 0.11255\n",
            "Epoch 44/50\n",
            " - 1s - loss: 0.1826 - acc: 0.9427 - val_loss: 0.4344 - val_acc: 0.8438\n",
            "\n",
            "Epoch 00044: val_loss did not improve from 0.11255\n",
            "Epoch 45/50\n",
            " - 1s - loss: 0.2675 - acc: 0.9010 - val_loss: 0.1469 - val_acc: 0.9375\n",
            "\n",
            "Epoch 00045: val_loss did not improve from 0.11255\n",
            "Epoch 46/50\n",
            " - 1s - loss: 0.2006 - acc: 0.9104 - val_loss: 0.1906 - val_acc: 0.9141\n",
            "\n",
            "Epoch 00046: val_loss did not improve from 0.11255\n",
            "Epoch 47/50\n",
            " - 1s - loss: 0.2011 - acc: 0.9167 - val_loss: 0.4050 - val_acc: 0.9062\n",
            "\n",
            "Epoch 00047: val_loss did not improve from 0.11255\n",
            "Epoch 48/50\n",
            " - 1s - loss: 0.2410 - acc: 0.9167 - val_loss: 0.6120 - val_acc: 0.8125\n",
            "\n",
            "Epoch 00048: val_loss did not improve from 0.11255\n",
            "Epoch 49/50\n",
            " - 1s - loss: 0.1678 - acc: 0.9427 - val_loss: 0.1652 - val_acc: 0.9531\n",
            "\n",
            "Epoch 00049: val_loss did not improve from 0.11255\n",
            "Epoch 50/50\n",
            " - 1s - loss: 0.1873 - acc: 0.9297 - val_loss: 0.1184 - val_acc: 0.9688\n",
            "\n",
            "Epoch 00050: val_loss did not improve from 0.11255\n"
          ],
          "name": "stdout"
        }
      ]
    },
    {
      "metadata": {
        "colab_type": "code",
        "id": "TvM1WKi8FvyL",
        "colab": {}
      },
      "cell_type": "code",
      "source": [
        "model.load_weights('drive/My Drive/Resultado/Segmentado/weights_' + architecture + '.hdf5')"
      ],
      "execution_count": 0,
      "outputs": []
    },
    {
      "metadata": {
        "colab_type": "code",
        "id": "Irgg00QxFvyZ",
        "colab": {
          "base_uri": "https://localhost:8080/",
          "height": 380
        },
        "outputId": "57a27557-6f1b-484a-96ad-0172471c3495"
      },
      "cell_type": "code",
      "source": [
        "# plotar loss e accuracy para os datasets 'train' e 'test'\n",
        "plt.style.use(\"ggplot\")\n",
        "plt.figure()\n",
        "plt.plot(training.history['acc'], label='Accuracy')\n",
        "plt.plot(training.history['loss'], label='Loss')\n",
        "plt.xlabel('Epochs')\n",
        "plt.ylabel('Accuracy')\n",
        "plt.title(\"Training Loss and Accuracy\")\n",
        "plt.ylabel(\"Loss/Accuracy\")\n",
        "plt.legend()\n",
        "plt.savefig('drive/My Drive/Resultado/Segmentado/' + architecture + '.png', bbox_inches='tight')"
      ],
      "execution_count": 267,
      "outputs": [
        {
          "output_type": "display_data",
          "data": {
            "image/png": "[encoded data removed]",
            "text/plain": [
              "<matplotlib.figure.Figure at 0x7f357370e7b8>"
            ]
          },
          "metadata": {
            "tags": []
          }
        }
      ]
    },
    {
      "metadata": {
        "colab_type": "text",
        "id": "UR_S-EfFFvyd"
      },
      "cell_type": "markdown",
      "source": [
        "### Teste"
      ]
    },
    {
      "metadata": {
        "colab_type": "code",
        "id": "LyYK2QuwFvye",
        "colab": {
          "base_uri": "https://localhost:8080/",
          "height": 74
        },
        "outputId": "8dea2b4d-dfa0-44a7-c4ca-a6746fa278ca"
      },
      "cell_type": "code",
      "source": [
        "y_true, y_predict = ler_images_teste(architecture)"
      ],
      "execution_count": 268,
      "outputs": [
        {
          "output_type": "stream",
          "text": [
            "/usr/local/lib/python3.6/dist-packages/skimage/transform/_warps.py:84: UserWarning: The default mode, 'constant', will be changed to 'reflect' in skimage 0.15.\n",
            "  warn(\"The default mode, 'constant', will be changed to 'reflect' in \"\n"
          ],
          "name": "stderr"
        }
      ]
    },
    {
      "metadata": {
        "colab_type": "code",
        "id": "iWvwoq2KFvyk",
        "colab": {
          "base_uri": "https://localhost:8080/",
          "height": 35
        },
        "outputId": "bbcc431a-c975-4153-88ee-f32eaafe451b"
      },
      "cell_type": "code",
      "source": [
        "results[architecture] = precision_score(y_true, y_predict, average='binary')\n",
        "print('Test Precision: {:.2f}%'\n",
        "      .format(100 * results[architecture]))"
      ],
      "execution_count": 269,
      "outputs": [
        {
          "output_type": "stream",
          "text": [
            "Test Precision: 19.64%\n"
          ],
          "name": "stdout"
        }
      ]
    }
  ]
}