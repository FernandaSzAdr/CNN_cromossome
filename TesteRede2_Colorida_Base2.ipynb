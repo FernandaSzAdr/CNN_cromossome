{
  "nbformat": 4,
  "nbformat_minor": 0,
  "metadata": {
    "colab": {
      "name": "TesteRede2_Colorida_Base2.ipynb",
      "version": "0.3.2",
      "provenance": [],
      "include_colab_link": true
    },
    "kernelspec": {
      "name": "python3",
      "display_name": "Python 3"
    },
    "accelerator": "GPU"
  },
  "cells": [
    {
      "cell_type": "markdown",
      "metadata": {
        "id": "view-in-github",
        "colab_type": "text"
      },
      "source": [
        "<a href=\"https://colab.research.google.com/github/FernandaSzAdr/KNN_cromossome/blob/master/TesteRede2_Colorida_Base2.ipynb\" target=\"_parent\"><img src=\"https://colab.research.google.com/assets/colab-badge.svg\" alt=\"Open In Colab\"/></a>"
      ]
    },
    {
      "metadata": {
        "id": "xN-oUTtcif3Q",
        "colab_type": "code",
        "outputId": "e2d94f4a-bdc8-47c6-ff21-eb700e0cf5d3",
        "colab": {
          "base_uri": "https://localhost:8080/",
          "height": 55
        }
      },
      "cell_type": "code",
      "source": [
        "# Load the Drive helper and mount\n",
        "from google.colab import drive\n",
        "\n",
        "# This will prompt for authorization.\n",
        "drive.mount('/content/drive/')"
      ],
      "execution_count": 0,
      "outputs": [
        {
          "output_type": "stream",
          "text": [
            "Drive already mounted at /content/drive/; to attempt to forcibly remount, call drive.mount(\"/content/drive/\", force_remount=True).\n"
          ],
          "name": "stdout"
        }
      ]
    },
    {
      "metadata": {
        "id": "w6ISJXHD4N4K",
        "colab_type": "text"
      },
      "cell_type": "markdown",
      "source": [
        "\n",
        "\n",
        "---\n",
        "\n"
      ]
    },
    {
      "metadata": {
        "id": "gzcuEGSklnwS",
        "colab_type": "code",
        "outputId": "f2856e44-89db-4e19-b96e-8a0cbf832d33",
        "colab": {
          "base_uri": "https://localhost:8080/",
          "height": 35
        }
      },
      "cell_type": "code",
      "source": [
        "import os\n",
        "import cv2\n",
        "import csv\n",
        "!pip install imutils\n",
        "import imutils\n",
        "from skimage import transform\n",
        "import numpy as np\n",
        "import keras\n",
        "from keras import backend as K\n",
        "from keras.models import Sequential\n",
        "from keras.layers import Activation\n",
        "from keras.optimizers import SGD\n",
        "from keras.layers.core import Dense, Flatten, Dropout\n",
        "from keras.preprocessing.image import ImageDataGenerator\n",
        "from keras.layers.normalization import BatchNormalization\n",
        "from keras.layers.convolutional import *\n",
        "from keras.callbacks import ModelCheckpoint\n",
        "from matplotlib import pyplot as plt\n",
        "from sklearn.metrics import confusion_matrix\n",
        "from sklearn.metrics import recall_score\n",
        "from sklearn.metrics import precision_score\n",
        "import itertools\n",
        "import matplotlib.pyplot as plt"
      ],
      "execution_count": 0,
      "outputs": [
        {
          "output_type": "stream",
          "text": [
            "Requirement already satisfied: imutils in /usr/local/lib/python3.6/dist-packages (0.5.1)\n"
          ],
          "name": "stdout"
        }
      ]
    },
    {
      "metadata": {
        "id": "CBvSHus84he5",
        "colab_type": "text"
      },
      "cell_type": "markdown",
      "source": [
        "\n",
        "\n",
        "---\n",
        "\n"
      ]
    },
    {
      "metadata": {
        "id": "6wA_R_Dc4k1P",
        "colab_type": "text"
      },
      "cell_type": "markdown",
      "source": [
        "## Funções"
      ]
    },
    {
      "metadata": {
        "id": "ITtEfxrilym7",
        "colab_type": "code",
        "colab": {}
      },
      "cell_type": "code",
      "source": [
        "train_path = 'drive/My Drive/Base_CNN/Colorido2/Train'\n",
        "test_path = 'drive/My Drive/Base_CNN/Colorido2/Test'\n",
        "validation_path = 'drive/My Drive/Base_CNN/Colorido2/Validation'"
      ],
      "execution_count": 0,
      "outputs": []
    },
    {
      "metadata": {
        "id": "e835RSQgEgA6",
        "colab_type": "code",
        "colab": {}
      },
      "cell_type": "code",
      "source": [
        "def converte(regiao):\n",
        "   regiao = np.array(regiao).astype('float32')/255\n",
        "   regiao = transform.resize(regiao, (120, 120, 3))\n",
        "   regiao = np.expand_dims(regiao, axis=0)\n",
        "   return regiao\n"
      ],
      "execution_count": 0,
      "outputs": []
    },
    {
      "metadata": {
        "id": "9ERJTQ3AgFJb",
        "colab_type": "code",
        "colab": {}
      },
      "cell_type": "code",
      "source": [
        "def ler_images_teste(arquiteture):\n",
        "  y_true = []\n",
        "  y_predict = []\n",
        "  images_test = os.listdir(test_path)\n",
        "  local = 'drive/My Drive/Base_CNN/Colorido2/Resultado_Image/' + arquiteture\n",
        "  if os.path.isdir(local) == False:\n",
        "    os.mkdir(local)\n",
        "  \n",
        "  for img in images_test:\n",
        "    # Pega cada imagem separadamente do folder de teste\n",
        "    image = cv2.imread(test_path + '/' + img)\n",
        "    image = imutils.resize(image, width=1000)\n",
        "    f = open('drive/My Drive/Base_CNN/Binarizado2/posicoes_segmentada.csv', 'r')\n",
        "    \n",
        "    copia = image.copy()\n",
        "\n",
        "    try:\n",
        "      leitor = csv.reader(f)\n",
        "      leitor = list(leitor)\n",
        "      leitor.pop(0)\n",
        "      for linha in leitor:\n",
        "        if len(linha) > 0:\n",
        "          # Para cada região dessa imagem:\n",
        "          if linha[0] == img:\n",
        "            posicoes = []\n",
        "            x = int(linha[3])\n",
        "            y = int(linha[4])\n",
        "            w = int(linha[5])\n",
        "            h = int(linha[6])\n",
        "            \n",
        "            # Label da região\n",
        "            label = linha[1]\n",
        "            if label == 'NC':\n",
        "              y_true.append(0)\n",
        "            else:\n",
        "              y_true.append(1)\n",
        "            \n",
        "            # Região\n",
        "            regiao = image[y: y + h, x: x + w]\n",
        "            regiao = converte(regiao)\n",
        "            \n",
        "            # Coloca a região na função e obtem o resultado\n",
        "            predicao = model.predict(regiao,batch_size=bSize,verbose=0)\n",
        "            \n",
        "            # Se é um cromossomo:\n",
        "            if predicao[0][0] > predicao[0][1]:\n",
        "              y_predict.append(1)\n",
        "              cv2.rectangle(copia,(x, y),(x+w, y+h),(0,255,0), 1)\n",
        "            # Se não for um cromossomo:\n",
        "            else:\n",
        "              y_predict.append(0)\n",
        "              cv2.rectangle(copia,(x, y),(x+w, y+h),(0,0,255), 1)\n",
        "                        \n",
        "    finally:\n",
        "      f.close()\n",
        "    \n",
        "    cv2.imwrite(local + '/' + img, copia)\n",
        "  \n",
        "  return y_true, y_predict\n"
      ],
      "execution_count": 0,
      "outputs": []
    },
    {
      "metadata": {
        "id": "WlPBqB_v3x2A",
        "colab_type": "text"
      },
      "cell_type": "markdown",
      "source": [
        "\n",
        "\n",
        "---\n",
        "\n"
      ]
    },
    {
      "metadata": {
        "id": "8KTtm8K7qg1n",
        "colab_type": "text"
      },
      "cell_type": "markdown",
      "source": [
        "# Implementação"
      ]
    },
    {
      "metadata": {
        "id": "AUzRQ1CrBDKE",
        "colab_type": "text"
      },
      "cell_type": "markdown",
      "source": [
        "## Variaveis globais"
      ]
    },
    {
      "metadata": {
        "id": "ZNfohSUpo1n0",
        "colab_type": "text"
      },
      "cell_type": "markdown",
      "source": [
        "\n",
        "\n",
        "*   Batch size = 32\n",
        "*   Image size = 120x120\n",
        "\n"
      ]
    },
    {
      "metadata": {
        "id": "_TFWtLbQ2fUI",
        "colab_type": "code",
        "colab": {}
      },
      "cell_type": "code",
      "source": [
        "results = {}"
      ],
      "execution_count": 0,
      "outputs": []
    },
    {
      "metadata": {
        "id": "W3zmFDRmnYem",
        "colab_type": "code",
        "colab": {}
      },
      "cell_type": "code",
      "source": [
        "bSize = 32"
      ],
      "execution_count": 0,
      "outputs": []
    },
    {
      "metadata": {
        "id": "dCNH0jPl3WTV",
        "colab_type": "code",
        "colab": {}
      },
      "cell_type": "code",
      "source": [
        "datagen = ImageDataGenerator(rescale=1/255.)"
      ],
      "execution_count": 0,
      "outputs": []
    },
    {
      "metadata": {
        "id": "YiMXe23Vmbo-",
        "colab_type": "code",
        "outputId": "14248998-5793-475b-d577-459184b932a6",
        "colab": {
          "base_uri": "https://localhost:8080/"
        }
      },
      "cell_type": "code",
      "source": [
        "train_batches = datagen.flow_from_directory(train_path, target_size=(120, 120), \n",
        "                                            classes=['NC', 'C'], \n",
        "                                            batch_size=bSize)\n",
        "validation_batches = datagen.flow_from_directory(validation_path, \n",
        "                                                 target_size=(120, 120), \n",
        "                                                 classes=['NC', 'C'], \n",
        "                                                 batch_size=bSize)"
      ],
      "execution_count": 0,
      "outputs": [
        {
          "output_type": "stream",
          "text": [
            "Found 4369 images belonging to 2 classes.\n",
            "Found 991 images belonging to 2 classes.\n"
          ],
          "name": "stdout"
        }
      ]
    },
    {
      "metadata": {
        "id": "vE-dZtSv5mde",
        "colab_type": "code",
        "colab": {}
      },
      "cell_type": "code",
      "source": [
        "stepsPerEpoche = len(train_batches)/bSize\n",
        "validationSteps = len(validation_batches)/bSize"
      ],
      "execution_count": 0,
      "outputs": []
    },
    {
      "metadata": {
        "id": "pOQMFxK5VUPa",
        "colab_type": "code",
        "outputId": "105411f6-b353-4d6b-9f4c-0ddabb7c3b70",
        "colab": {
          "base_uri": "https://localhost:8080/"
        }
      },
      "cell_type": "code",
      "source": [
        "train_batches.class_indices"
      ],
      "execution_count": 0,
      "outputs": [
        {
          "output_type": "execute_result",
          "data": {
            "text/plain": [
              "{'C': 1, 'NC': 0}"
            ]
          },
          "metadata": {
            "tags": []
          },
          "execution_count": 42
        }
      ]
    },
    {
      "metadata": {
        "id": "tY7Fxpczz0wk",
        "colab_type": "text"
      },
      "cell_type": "markdown",
      "source": [
        "\n",
        "\n",
        "---\n",
        "\n"
      ]
    },
    {
      "metadata": {
        "id": "wH56YdE5rlnU",
        "colab_type": "text"
      },
      "cell_type": "markdown",
      "source": [
        "## 1 tentativa Precision: 0.00%"
      ]
    },
    {
      "metadata": {
        "id": "NBCIFVOlompR",
        "colab_type": "text"
      },
      "cell_type": "markdown",
      "source": [
        "**Descrição**\n",
        "\n",
        "\n",
        "*   Modelo descrito no artigo \"Crowdsourcing for Chromosome Segmentation and Deep Classification\"\n",
        "\n"
      ]
    },
    {
      "metadata": {
        "id": "iclhpyXmi_DU",
        "colab_type": "code",
        "colab": {}
      },
      "cell_type": "code",
      "source": [
        "architecture = 'architecture_1'"
      ],
      "execution_count": 0,
      "outputs": []
    },
    {
      "metadata": {
        "id": "IU71NY-9AzSi",
        "colab_type": "text"
      },
      "cell_type": "markdown",
      "source": [
        "### Modelo"
      ]
    },
    {
      "metadata": {
        "id": "rNosdG-ioNYU",
        "colab_type": "code",
        "colab": {}
      },
      "cell_type": "code",
      "source": [
        "model = Sequential([\n",
        "    Conv2D(64, (3, 3), activation='relu', input_shape=(120, 120, 3)),\n",
        "    Conv2D(64, (3, 3), activation='relu'),\n",
        "    Dropout(0.2),\n",
        "    MaxPooling2D(pool_size=(2, 2)),\n",
        "   \n",
        "    Conv2D(32, (3, 3), activation='relu'),\n",
        "    Conv2D(32, (3, 3), activation='relu'),\n",
        "    Dropout(0.2),\n",
        "    MaxPooling2D(pool_size=(2, 2)),\n",
        "   \n",
        "    Conv2D(16, (3, 3), activation='relu'),\n",
        "    Conv2D(16, (3, 3), activation='relu'),\n",
        "    Dropout(0.2),\n",
        "    MaxPooling2D(pool_size=(2, 2)),\n",
        "   \n",
        "    Conv2D(8, (3, 3), activation='relu'),\n",
        "    Conv2D(8, (3, 3), activation='relu'),\n",
        "    Dropout(0.2),\n",
        "    MaxPooling2D(pool_size=(2, 2)),\n",
        "    \n",
        "    Flatten(),\n",
        "    Dense(1024, activation='sigmoid'),\n",
        "    Dense(512, activation='sigmoid'),\n",
        "   \n",
        "    Dense(2, activation='softmax')\n",
        "]\n",
        ")"
      ],
      "execution_count": 0,
      "outputs": []
    },
    {
      "metadata": {
        "id": "UBqwdK2Bxagj",
        "colab_type": "code",
        "colab": {}
      },
      "cell_type": "code",
      "source": [
        "model.compile(SGD(lr=0.01, momentum=0.0, decay=0.0, nesterov=False), \n",
        "              loss='binary_crossentropy', metrics=['accuracy'])"
      ],
      "execution_count": 0,
      "outputs": []
    },
    {
      "metadata": {
        "id": "UgIWX7xyBKIz",
        "colab_type": "text"
      },
      "cell_type": "markdown",
      "source": [
        "### Treino\n"
      ]
    },
    {
      "metadata": {
        "colab_type": "code",
        "id": "LqOsSip-k_v7",
        "colab": {}
      },
      "cell_type": "code",
      "source": [
        "checkpointer = ModelCheckpoint(filepath='drive/My Drive/Resultado/Colorido/weights_' + architecture + '.hdf5', verbose=1, save_best_only=True)"
      ],
      "execution_count": 0,
      "outputs": []
    },
    {
      "metadata": {
        "id": "PeyX7Mzf5lDw",
        "colab_type": "code",
        "outputId": "498f3bb7-6c0d-4097-e09d-2bb15e5f799c",
        "colab": {
          "base_uri": "https://localhost:8080/",
          "height": 3710
        }
      },
      "cell_type": "code",
      "source": [
        "training = model.fit_generator(train_batches, steps_per_epoch=stepsPerEpoche, \n",
        "                   validation_data=validation_batches, validation_steps=validationSteps,\n",
        "                   epochs=50, verbose=2, callbacks=[checkpointer])"
      ],
      "execution_count": 0,
      "outputs": [
        {
          "output_type": "stream",
          "text": [
            "Epoch 1/50\n",
            " - 2s - loss: 0.7046 - acc: 0.5250 - val_loss: 0.7064 - val_acc: 0.4688\n",
            "\n",
            "Epoch 00001: val_loss improved from inf to 0.70645, saving model to drive/My Drive/Resultado/Colorido/weights_architecture_1.hdf5\n",
            "Epoch 2/50\n",
            " - 1s - loss: 0.6990 - acc: 0.4813 - val_loss: 0.7049 - val_acc: 0.4688\n",
            "\n",
            "Epoch 00002: val_loss improved from 0.70645 to 0.70493, saving model to drive/My Drive/Resultado/Colorido/weights_architecture_1.hdf5\n",
            "Epoch 3/50\n",
            " - 1s - loss: 0.6956 - acc: 0.5062 - val_loss: 0.7215 - val_acc: 0.4062\n",
            "\n",
            "Epoch 00003: val_loss did not improve from 0.70493\n",
            "Epoch 4/50\n",
            " - 1s - loss: 0.7012 - acc: 0.5500 - val_loss: 0.7033 - val_acc: 0.4688\n",
            "\n",
            "Epoch 00004: val_loss improved from 0.70493 to 0.70327, saving model to drive/My Drive/Resultado/Colorido/weights_architecture_1.hdf5\n",
            "Epoch 5/50\n",
            " - 1s - loss: 0.7076 - acc: 0.4688 - val_loss: 0.6759 - val_acc: 0.5938\n",
            "\n",
            "Epoch 00005: val_loss improved from 0.70327 to 0.67594, saving model to drive/My Drive/Resultado/Colorido/weights_architecture_1.hdf5\n",
            "Epoch 6/50\n",
            " - 1s - loss: 0.6973 - acc: 0.5438 - val_loss: 0.6939 - val_acc: 0.5000\n",
            "\n",
            "Epoch 00006: val_loss did not improve from 0.67594\n",
            "Epoch 7/50\n",
            " - 1s - loss: 0.6970 - acc: 0.5187 - val_loss: 0.7216 - val_acc: 0.3125\n",
            "\n",
            "Epoch 00007: val_loss did not improve from 0.67594\n",
            "Epoch 8/50\n",
            " - 1s - loss: 0.7016 - acc: 0.5125 - val_loss: 0.6855 - val_acc: 0.5625\n",
            "\n",
            "Epoch 00008: val_loss did not improve from 0.67594\n",
            "Epoch 9/50\n",
            " - 1s - loss: 0.7044 - acc: 0.5000 - val_loss: 0.6929 - val_acc: 0.5312\n",
            "\n",
            "Epoch 00009: val_loss did not improve from 0.67594\n",
            "Epoch 10/50\n",
            " - 1s - loss: 0.7291 - acc: 0.5000 - val_loss: 0.6945 - val_acc: 0.5000\n",
            "\n",
            "Epoch 00010: val_loss did not improve from 0.67594\n",
            "Epoch 11/50\n",
            " - 1s - loss: 0.7009 - acc: 0.4875 - val_loss: 0.6944 - val_acc: 0.4062\n",
            "\n",
            "Epoch 00011: val_loss did not improve from 0.67594\n",
            "Epoch 12/50\n",
            " - 1s - loss: 0.6935 - acc: 0.5312 - val_loss: 0.7268 - val_acc: 0.4688\n",
            "\n",
            "Epoch 00012: val_loss did not improve from 0.67594\n",
            "Epoch 13/50\n",
            " - 1s - loss: 0.6981 - acc: 0.5125 - val_loss: 0.6891 - val_acc: 0.5625\n",
            "\n",
            "Epoch 00013: val_loss did not improve from 0.67594\n",
            "Epoch 14/50\n",
            " - 1s - loss: 0.6970 - acc: 0.4750 - val_loss: 0.6825 - val_acc: 0.5938\n",
            "\n",
            "Epoch 00014: val_loss did not improve from 0.67594\n",
            "Epoch 15/50\n",
            " - 1s - loss: 0.6960 - acc: 0.5125 - val_loss: 0.6957 - val_acc: 0.5312\n",
            "\n",
            "Epoch 00015: val_loss did not improve from 0.67594\n",
            "Epoch 16/50\n",
            " - 1s - loss: 0.7080 - acc: 0.4750 - val_loss: 0.6912 - val_acc: 0.5312\n",
            "\n",
            "Epoch 00016: val_loss did not improve from 0.67594\n",
            "Epoch 17/50\n",
            " - 1s - loss: 0.7030 - acc: 0.4813 - val_loss: 0.6948 - val_acc: 0.5000\n",
            "\n",
            "Epoch 00017: val_loss did not improve from 0.67594\n",
            "Epoch 18/50\n",
            " - 1s - loss: 0.6918 - acc: 0.5687 - val_loss: 0.7308 - val_acc: 0.4375\n",
            "\n",
            "Epoch 00018: val_loss did not improve from 0.67594\n",
            "Epoch 19/50\n",
            " - 1s - loss: 0.7271 - acc: 0.4813 - val_loss: 0.6956 - val_acc: 0.4688\n",
            "\n",
            "Epoch 00019: val_loss did not improve from 0.67594\n",
            "Epoch 20/50\n",
            " - 1s - loss: 0.6843 - acc: 0.5625 - val_loss: 0.6629 - val_acc: 0.6250\n",
            "\n",
            "Epoch 00020: val_loss improved from 0.67594 to 0.66294, saving model to drive/My Drive/Resultado/Colorido/weights_architecture_1.hdf5\n",
            "Epoch 21/50\n",
            " - 1s - loss: 0.6870 - acc: 0.5438 - val_loss: 0.6789 - val_acc: 0.5938\n",
            "\n",
            "Epoch 00021: val_loss did not improve from 0.66294\n",
            "Epoch 22/50\n",
            " - 1s - loss: 0.6848 - acc: 0.5563 - val_loss: 0.7080 - val_acc: 0.3125\n",
            "\n",
            "Epoch 00022: val_loss did not improve from 0.66294\n",
            "Epoch 23/50\n",
            " - 1s - loss: 0.7015 - acc: 0.5000 - val_loss: 0.6932 - val_acc: 0.5312\n",
            "\n",
            "Epoch 00023: val_loss did not improve from 0.66294\n",
            "Epoch 24/50\n",
            " - 1s - loss: 0.7057 - acc: 0.3875 - val_loss: 0.7902 - val_acc: 0.4062\n",
            "\n",
            "Epoch 00024: val_loss did not improve from 0.66294\n",
            "Epoch 25/50\n",
            " - 1s - loss: 0.7074 - acc: 0.4625 - val_loss: 0.6918 - val_acc: 0.5312\n",
            "\n",
            "Epoch 00025: val_loss did not improve from 0.66294\n",
            "Epoch 26/50\n",
            " - 1s - loss: 0.7391 - acc: 0.4500 - val_loss: 0.6956 - val_acc: 0.5000\n",
            "\n",
            "Epoch 00026: val_loss did not improve from 0.66294\n",
            "Epoch 27/50\n",
            " - 1s - loss: 0.6983 - acc: 0.4625 - val_loss: 0.6742 - val_acc: 0.6250\n",
            "\n",
            "Epoch 00027: val_loss did not improve from 0.66294\n",
            "Epoch 28/50\n",
            " - 1s - loss: 0.7335 - acc: 0.4154 - val_loss: 0.6635 - val_acc: 0.6250\n",
            "\n",
            "Epoch 00028: val_loss did not improve from 0.66294\n",
            "Epoch 29/50\n",
            " - 1s - loss: 0.6912 - acc: 0.5438 - val_loss: 0.6617 - val_acc: 0.6250\n",
            "\n",
            "Epoch 00029: val_loss improved from 0.66294 to 0.66168, saving model to drive/My Drive/Resultado/Colorido/weights_architecture_1.hdf5\n",
            "Epoch 30/50\n",
            " - 1s - loss: 0.7289 - acc: 0.4688 - val_loss: 0.7386 - val_acc: 0.3125\n",
            "\n",
            "Epoch 00030: val_loss did not improve from 0.66168\n",
            "Epoch 31/50\n",
            " - 1s - loss: 0.7198 - acc: 0.4312 - val_loss: 0.6667 - val_acc: 0.7097\n",
            "\n",
            "Epoch 00031: val_loss did not improve from 0.66168\n",
            "Epoch 32/50\n",
            " - 1s - loss: 0.6930 - acc: 0.5250 - val_loss: 0.7253 - val_acc: 0.5000\n",
            "\n",
            "Epoch 00032: val_loss did not improve from 0.66168\n",
            "Epoch 33/50\n",
            " - 1s - loss: 0.7001 - acc: 0.5312 - val_loss: 0.6936 - val_acc: 0.5000\n",
            "\n",
            "Epoch 00033: val_loss did not improve from 0.66168\n",
            "Epoch 34/50\n",
            " - 1s - loss: 0.7239 - acc: 0.5000 - val_loss: 0.7134 - val_acc: 0.5000\n",
            "\n",
            "Epoch 00034: val_loss did not improve from 0.66168\n",
            "Epoch 35/50\n",
            " - 1s - loss: 0.7030 - acc: 0.4937 - val_loss: 0.7036 - val_acc: 0.5000\n",
            "\n",
            "Epoch 00035: val_loss did not improve from 0.66168\n",
            "Epoch 36/50\n",
            " - 1s - loss: 0.6873 - acc: 0.5750 - val_loss: 0.6854 - val_acc: 0.5625\n",
            "\n",
            "Epoch 00036: val_loss did not improve from 0.66168\n",
            "Epoch 37/50\n",
            " - 1s - loss: 0.6992 - acc: 0.4875 - val_loss: 0.7345 - val_acc: 0.3750\n",
            "\n",
            "Epoch 00037: val_loss did not improve from 0.66168\n",
            "Epoch 38/50\n",
            " - 1s - loss: 0.7110 - acc: 0.4562 - val_loss: 0.6923 - val_acc: 0.6250\n",
            "\n",
            "Epoch 00038: val_loss did not improve from 0.66168\n",
            "Epoch 39/50\n",
            " - 1s - loss: 0.7019 - acc: 0.4625 - val_loss: 0.6892 - val_acc: 0.5625\n",
            "\n",
            "Epoch 00039: val_loss did not improve from 0.66168\n",
            "Epoch 40/50\n",
            " - 1s - loss: 0.6961 - acc: 0.4750 - val_loss: 0.6825 - val_acc: 0.6250\n",
            "\n",
            "Epoch 00040: val_loss did not improve from 0.66168\n",
            "Epoch 41/50\n",
            " - 1s - loss: 0.6923 - acc: 0.5125 - val_loss: 0.6863 - val_acc: 0.5625\n",
            "\n",
            "Epoch 00041: val_loss did not improve from 0.66168\n",
            "Epoch 42/50\n",
            " - 1s - loss: 0.7071 - acc: 0.5187 - val_loss: 0.6935 - val_acc: 0.4375\n",
            "\n",
            "Epoch 00042: val_loss did not improve from 0.66168\n",
            "Epoch 43/50\n",
            " - 1s - loss: 0.6963 - acc: 0.5312 - val_loss: 0.6915 - val_acc: 0.5312\n",
            "\n",
            "Epoch 00043: val_loss did not improve from 0.66168\n",
            "Epoch 44/50\n",
            " - 1s - loss: 0.7072 - acc: 0.5000 - val_loss: 0.6971 - val_acc: 0.4688\n",
            "\n",
            "Epoch 00044: val_loss did not improve from 0.66168\n",
            "Epoch 45/50\n",
            " - 1s - loss: 0.6959 - acc: 0.4937 - val_loss: 0.6936 - val_acc: 0.5000\n",
            "\n",
            "Epoch 00045: val_loss did not improve from 0.66168\n",
            "Epoch 46/50\n",
            " - 1s - loss: 0.7211 - acc: 0.5062 - val_loss: 0.6855 - val_acc: 0.5625\n",
            "\n",
            "Epoch 00046: val_loss did not improve from 0.66168\n",
            "Epoch 47/50\n",
            " - 1s - loss: 0.6949 - acc: 0.5250 - val_loss: 0.6855 - val_acc: 0.5938\n",
            "\n",
            "Epoch 00047: val_loss did not improve from 0.66168\n",
            "Epoch 48/50\n",
            " - 1s - loss: 0.6976 - acc: 0.4688 - val_loss: 0.6936 - val_acc: 0.5000\n",
            "\n",
            "Epoch 00048: val_loss did not improve from 0.66168\n",
            "Epoch 49/50\n",
            " - 1s - loss: 0.6936 - acc: 0.5000 - val_loss: 0.6795 - val_acc: 0.5938\n",
            "\n",
            "Epoch 00049: val_loss did not improve from 0.66168\n",
            "Epoch 50/50\n",
            " - 1s - loss: 0.6970 - acc: 0.5062 - val_loss: 0.7192 - val_acc: 0.4062\n",
            "\n",
            "Epoch 00050: val_loss did not improve from 0.66168\n"
          ],
          "name": "stdout"
        }
      ]
    },
    {
      "metadata": {
        "id": "c1LR04eV6AJ5",
        "colab_type": "code",
        "colab": {}
      },
      "cell_type": "code",
      "source": [
        "model.load_weights('drive/My Drive/Resultado/Colorido/weights_' + architecture + '.hdf5')"
      ],
      "execution_count": 0,
      "outputs": []
    },
    {
      "metadata": {
        "id": "VeLCe59ltne5",
        "colab_type": "code",
        "outputId": "42227849-db50-4475-b21c-cac3a82f511a",
        "colab": {
          "base_uri": "https://localhost:8080/",
          "height": 380
        }
      },
      "cell_type": "code",
      "source": [
        "# plotar loss e accuracy para os datasets 'train' e 'test'\n",
        "plt.style.use(\"ggplot\")\n",
        "plt.figure()\n",
        "plt.plot(training.history['acc'], label='Accuracy')\n",
        "plt.plot(training.history['loss'], label='Loss')\n",
        "plt.xlabel('Epochs')\n",
        "plt.ylabel('Accuracy')\n",
        "plt.title(\"Training Loss and Accuracy\")\n",
        "plt.ylabel(\"Loss/Accuracy\")\n",
        "plt.legend()\n",
        "plt.savefig('drive/My Drive/Resultado/Colorido/' + architecture + '.png', bbox_inches='tight')"
      ],
      "execution_count": 0,
      "outputs": [
        {
          "output_type": "display_data",
          "data": {
            "image/png": "[encoded data removed]",
            "text/plain": [
              "<matplotlib.figure.Figure at 0x7f8ab78438d0>"
            ]
          },
          "metadata": {
            "tags": []
          }
        }
      ]
    },
    {
      "metadata": {
        "id": "jc5jL0cxCu5y",
        "colab_type": "text"
      },
      "cell_type": "markdown",
      "source": [
        "### Teste"
      ]
    },
    {
      "metadata": {
        "id": "CuxP4w361rkP",
        "colab_type": "code",
        "outputId": "ec052274-0ede-44cb-d5ba-e21ea9f1f2bd",
        "colab": {
          "base_uri": "https://localhost:8080/",
          "height": 74
        }
      },
      "cell_type": "code",
      "source": [
        "y_true, y_predict = ler_images_teste(architecture)"
      ],
      "execution_count": 0,
      "outputs": [
        {
          "output_type": "stream",
          "text": [
            "/usr/local/lib/python3.6/dist-packages/skimage/transform/_warps.py:84: UserWarning: The default mode, 'constant', will be changed to 'reflect' in skimage 0.15.\n",
            "  warn(\"The default mode, 'constant', will be changed to 'reflect' in \"\n"
          ],
          "name": "stderr"
        }
      ]
    },
    {
      "metadata": {
        "id": "Juqn8SXr0VvZ",
        "colab_type": "code",
        "outputId": "7d18f5b6-2d6d-487d-8666-bafa363d2cd4",
        "colab": {
          "base_uri": "https://localhost:8080/",
          "height": 92
        }
      },
      "cell_type": "code",
      "source": [
        "results[architecture] = precision_score(y_true, y_predict, average='binary')\n",
        "print('Test Precision: {:.2f}%'\n",
        "      .format(100 * results[architecture]))"
      ],
      "execution_count": 0,
      "outputs": [
        {
          "output_type": "stream",
          "text": [
            "Test Precision: 0.00%\n"
          ],
          "name": "stdout"
        },
        {
          "output_type": "stream",
          "text": [
            "/usr/local/lib/python3.6/dist-packages/sklearn/metrics/classification.py:1135: UndefinedMetricWarning: Precision is ill-defined and being set to 0.0 due to no predicted samples.\n",
            "  'precision', 'predicted', average, warn_for)\n"
          ],
          "name": "stderr"
        }
      ]
    },
    {
      "metadata": {
        "id": "T7nOK0TDr6Hc",
        "colab_type": "text"
      },
      "cell_type": "markdown",
      "source": [
        "## 2 tentativa  Precision: 9.09%"
      ]
    },
    {
      "metadata": {
        "colab_type": "text",
        "id": "-DJtvxKNp9sb"
      },
      "cell_type": "markdown",
      "source": [
        "**Descrição**\n",
        "\n",
        "\n",
        "*   Modelo descrito no artigo \"Crowdsourcing for Chromosome Segmentation and Deep Classification\"\n",
        "*   Alteração nas duas ultimas camadas Dense\n",
        "\n",
        "\n",
        "\n"
      ]
    },
    {
      "metadata": {
        "colab_type": "code",
        "id": "B1aiec4IjnND",
        "colab": {}
      },
      "cell_type": "code",
      "source": [
        "architecture = 'architecture_2'"
      ],
      "execution_count": 0,
      "outputs": []
    },
    {
      "metadata": {
        "id": "fAPG077EDA_b",
        "colab_type": "text"
      },
      "cell_type": "markdown",
      "source": [
        "### Modelo"
      ]
    },
    {
      "metadata": {
        "colab_type": "code",
        "id": "2PSEo_Mzr8zK",
        "colab": {}
      },
      "cell_type": "code",
      "source": [
        "model = Sequential([\n",
        "    Conv2D(64, (3, 3), activation='relu', input_shape=(120, 120, 3)),\n",
        "    Conv2D(64, (3, 3), activation='relu'),\n",
        "    Dropout(0.2),\n",
        "    MaxPooling2D(pool_size=(2, 2)),\n",
        "   \n",
        "    Conv2D(32, (3, 3), activation='relu'),\n",
        "    Conv2D(32, (3, 3), activation='relu'),\n",
        "    Dropout(0.2),\n",
        "    MaxPooling2D(pool_size=(2, 2)),\n",
        "   \n",
        "    Conv2D(16, (3, 3), activation='relu'),\n",
        "    Conv2D(16, (3, 3), activation='relu'),\n",
        "    Dropout(0.2),\n",
        "    MaxPooling2D(pool_size=(2, 2)),\n",
        "   \n",
        "    Conv2D(8, (3, 3), activation='relu'),\n",
        "    Conv2D(8, (3, 3), activation='relu'),\n",
        "    Dropout(0.2),\n",
        "    MaxPooling2D(pool_size=(2, 2)),\n",
        "    \n",
        "    Flatten(),\n",
        "    Dense(512, activation='relu'),\n",
        "   \n",
        "    Dense(2, activation='softmax')\n",
        "]\n",
        ")"
      ],
      "execution_count": 0,
      "outputs": []
    },
    {
      "metadata": {
        "colab_type": "code",
        "id": "wTvCLywPr8zj",
        "colab": {}
      },
      "cell_type": "code",
      "source": [
        "model.compile(SGD(lr=0.01, momentum=0.0, decay=0.0, nesterov=False), \n",
        "              loss='binary_crossentropy', metrics=['accuracy'])"
      ],
      "execution_count": 0,
      "outputs": []
    },
    {
      "metadata": {
        "colab_type": "text",
        "id": "pNoSxXGOC9mz"
      },
      "cell_type": "markdown",
      "source": [
        "### Treino\n"
      ]
    },
    {
      "metadata": {
        "colab_type": "code",
        "id": "kz0s74Y3C9m8",
        "colab": {}
      },
      "cell_type": "code",
      "source": [
        "checkpointer = ModelCheckpoint(filepath='drive/My Drive/Resultado/Colorido/weights_' + architecture + '.hdf5', verbose=1, save_best_only=True)"
      ],
      "execution_count": 0,
      "outputs": []
    },
    {
      "metadata": {
        "colab_type": "code",
        "outputId": "3d51b3ba-8a4a-4207-dd37-75701f49de45",
        "id": "2pPL4gxYC9nL",
        "colab": {
          "base_uri": "https://localhost:8080/",
          "height": 3710
        }
      },
      "cell_type": "code",
      "source": [
        "training = model.fit_generator(train_batches, steps_per_epoch=stepsPerEpoche, \n",
        "                   validation_data=validation_batches, validation_steps=validationSteps,\n",
        "                   epochs=50, verbose=2, callbacks=[checkpointer])"
      ],
      "execution_count": 0,
      "outputs": [
        {
          "output_type": "stream",
          "text": [
            "Epoch 1/50\n",
            " - 2s - loss: 0.6932 - acc: 0.4562 - val_loss: 0.6937 - val_acc: 0.4516\n",
            "\n",
            "Epoch 00001: val_loss improved from inf to 0.69370, saving model to drive/My Drive/Resultado/Colorido/weights_architecture_2.hdf5\n",
            "Epoch 2/50\n",
            " - 1s - loss: 0.6935 - acc: 0.4813 - val_loss: 0.6927 - val_acc: 0.5625\n",
            "\n",
            "Epoch 00002: val_loss improved from 0.69370 to 0.69271, saving model to drive/My Drive/Resultado/Colorido/weights_architecture_2.hdf5\n",
            "Epoch 3/50\n",
            " - 1s - loss: 0.6934 - acc: 0.4663 - val_loss: 0.6927 - val_acc: 0.6250\n",
            "\n",
            "Epoch 00003: val_loss improved from 0.69271 to 0.69271, saving model to drive/My Drive/Resultado/Colorido/weights_architecture_2.hdf5\n",
            "Epoch 4/50\n",
            " - 1s - loss: 0.6931 - acc: 0.5375 - val_loss: 0.6930 - val_acc: 0.5312\n",
            "\n",
            "Epoch 00004: val_loss did not improve from 0.69271\n",
            "Epoch 5/50\n",
            " - 1s - loss: 0.6930 - acc: 0.5438 - val_loss: 0.6936 - val_acc: 0.4375\n",
            "\n",
            "Epoch 00005: val_loss did not improve from 0.69271\n",
            "Epoch 6/50\n",
            " - 1s - loss: 0.6930 - acc: 0.5312 - val_loss: 0.6933 - val_acc: 0.4688\n",
            "\n",
            "Epoch 00006: val_loss did not improve from 0.69271\n",
            "Epoch 7/50\n",
            " - 1s - loss: 0.6929 - acc: 0.5500 - val_loss: 0.6929 - val_acc: 0.5312\n",
            "\n",
            "Epoch 00007: val_loss did not improve from 0.69271\n",
            "Epoch 8/50\n",
            " - 1s - loss: 0.6928 - acc: 0.6063 - val_loss: 0.6924 - val_acc: 0.5938\n",
            "\n",
            "Epoch 00008: val_loss improved from 0.69271 to 0.69236, saving model to drive/My Drive/Resultado/Colorido/weights_architecture_2.hdf5\n",
            "Epoch 9/50\n",
            " - 1s - loss: 0.6926 - acc: 0.5750 - val_loss: 0.6931 - val_acc: 0.5000\n",
            "\n",
            "Epoch 00009: val_loss did not improve from 0.69236\n",
            "Epoch 10/50\n",
            " - 1s - loss: 0.6925 - acc: 0.5812 - val_loss: 0.6929 - val_acc: 0.5000\n",
            "\n",
            "Epoch 00010: val_loss did not improve from 0.69236\n",
            "Epoch 11/50\n",
            " - 1s - loss: 0.6927 - acc: 0.5062 - val_loss: 0.6931 - val_acc: 0.4375\n",
            "\n",
            "Epoch 00011: val_loss did not improve from 0.69236\n",
            "Epoch 12/50\n",
            " - 1s - loss: 0.6926 - acc: 0.4688 - val_loss: 0.6929 - val_acc: 0.5000\n",
            "\n",
            "Epoch 00012: val_loss did not improve from 0.69236\n",
            "Epoch 13/50\n",
            " - 1s - loss: 0.6918 - acc: 0.5125 - val_loss: 0.6925 - val_acc: 0.5625\n",
            "\n",
            "Epoch 00013: val_loss did not improve from 0.69236\n",
            "Epoch 14/50\n",
            " - 1s - loss: 0.6917 - acc: 0.5375 - val_loss: 0.6919 - val_acc: 0.8438\n",
            "\n",
            "Epoch 00014: val_loss improved from 0.69236 to 0.69187, saving model to drive/My Drive/Resultado/Colorido/weights_architecture_2.hdf5\n",
            "Epoch 15/50\n",
            " - 1s - loss: 0.6921 - acc: 0.4813 - val_loss: 0.6929 - val_acc: 0.5312\n",
            "\n",
            "Epoch 00015: val_loss did not improve from 0.69187\n",
            "Epoch 16/50\n",
            " - 1s - loss: 0.6920 - acc: 0.4813 - val_loss: 0.6907 - val_acc: 0.6250\n",
            "\n",
            "Epoch 00016: val_loss improved from 0.69187 to 0.69067, saving model to drive/My Drive/Resultado/Colorido/weights_architecture_2.hdf5\n",
            "Epoch 17/50\n",
            " - 1s - loss: 0.6908 - acc: 0.6875 - val_loss: 0.6899 - val_acc: 0.6562\n",
            "\n",
            "Epoch 00017: val_loss improved from 0.69067 to 0.68986, saving model to drive/My Drive/Resultado/Colorido/weights_architecture_2.hdf5\n",
            "Epoch 18/50\n",
            " - 1s - loss: 0.6907 - acc: 0.5375 - val_loss: 0.6918 - val_acc: 0.5625\n",
            "\n",
            "Epoch 00018: val_loss did not improve from 0.68986\n",
            "Epoch 19/50\n",
            " - 1s - loss: 0.6907 - acc: 0.5000 - val_loss: 0.6905 - val_acc: 0.7500\n",
            "\n",
            "Epoch 00019: val_loss did not improve from 0.68986\n",
            "Epoch 20/50\n",
            " - 1s - loss: 0.6905 - acc: 0.4750 - val_loss: 0.6920 - val_acc: 0.5625\n",
            "\n",
            "Epoch 00020: val_loss did not improve from 0.68986\n",
            "Epoch 21/50\n",
            " - 1s - loss: 0.6877 - acc: 0.6000 - val_loss: 0.6888 - val_acc: 0.6875\n",
            "\n",
            "Epoch 00021: val_loss improved from 0.68986 to 0.68876, saving model to drive/My Drive/Resultado/Colorido/weights_architecture_2.hdf5\n",
            "Epoch 22/50\n",
            " - 1s - loss: 0.6858 - acc: 0.5500 - val_loss: 0.6929 - val_acc: 0.4375\n",
            "\n",
            "Epoch 00022: val_loss did not improve from 0.68876\n",
            "Epoch 23/50\n",
            " - 1s - loss: 0.6915 - acc: 0.4500 - val_loss: 0.6901 - val_acc: 0.7500\n",
            "\n",
            "Epoch 00023: val_loss did not improve from 0.68876\n",
            "Epoch 24/50\n",
            " - 1s - loss: 0.6878 - acc: 0.4875 - val_loss: 0.6892 - val_acc: 0.6562\n",
            "\n",
            "Epoch 00024: val_loss did not improve from 0.68876\n",
            "Epoch 25/50\n",
            " - 1s - loss: 0.6793 - acc: 0.5687 - val_loss: 0.6875 - val_acc: 0.6250\n",
            "\n",
            "Epoch 00025: val_loss improved from 0.68876 to 0.68746, saving model to drive/My Drive/Resultado/Colorido/weights_architecture_2.hdf5\n",
            "Epoch 26/50\n",
            " - 1s - loss: 0.6791 - acc: 0.5500 - val_loss: 0.6924 - val_acc: 0.5000\n",
            "\n",
            "Epoch 00026: val_loss did not improve from 0.68746\n",
            "Epoch 27/50\n",
            " - 1s - loss: 0.6905 - acc: 0.4625 - val_loss: 0.6866 - val_acc: 0.6250\n",
            "\n",
            "Epoch 00027: val_loss improved from 0.68746 to 0.68658, saving model to drive/My Drive/Resultado/Colorido/weights_architecture_2.hdf5\n",
            "Epoch 28/50\n",
            " - 1s - loss: 0.6788 - acc: 0.5312 - val_loss: 0.6841 - val_acc: 0.5625\n",
            "\n",
            "Epoch 00028: val_loss improved from 0.68658 to 0.68412, saving model to drive/My Drive/Resultado/Colorido/weights_architecture_2.hdf5\n",
            "Epoch 29/50\n",
            " - 1s - loss: 0.6755 - acc: 0.5375 - val_loss: 0.6887 - val_acc: 0.4375\n",
            "\n",
            "Epoch 00029: val_loss did not improve from 0.68412\n",
            "Epoch 30/50\n",
            " - 1s - loss: 0.6825 - acc: 0.4921 - val_loss: 0.6930 - val_acc: 0.4375\n",
            "\n",
            "Epoch 00030: val_loss did not improve from 0.68412\n",
            "Epoch 31/50\n",
            " - 1s - loss: 0.6835 - acc: 0.5000 - val_loss: 0.6865 - val_acc: 0.5312\n",
            "\n",
            "Epoch 00031: val_loss did not improve from 0.68412\n",
            "Epoch 32/50\n",
            " - 1s - loss: 0.6722 - acc: 0.5062 - val_loss: 0.6862 - val_acc: 0.5806\n",
            "\n",
            "Epoch 00032: val_loss did not improve from 0.68412\n",
            "Epoch 33/50\n",
            " - 1s - loss: 0.6796 - acc: 0.4750 - val_loss: 0.6802 - val_acc: 0.6875\n",
            "\n",
            "Epoch 00033: val_loss improved from 0.68412 to 0.68021, saving model to drive/My Drive/Resultado/Colorido/weights_architecture_2.hdf5\n",
            "Epoch 34/50\n",
            " - 1s - loss: 0.6733 - acc: 0.4937 - val_loss: 0.6804 - val_acc: 0.8438\n",
            "\n",
            "Epoch 00034: val_loss did not improve from 0.68021\n",
            "Epoch 35/50\n",
            " - 1s - loss: 0.6547 - acc: 0.5312 - val_loss: 0.6778 - val_acc: 0.6875\n",
            "\n",
            "Epoch 00035: val_loss improved from 0.68021 to 0.67777, saving model to drive/My Drive/Resultado/Colorido/weights_architecture_2.hdf5\n",
            "Epoch 36/50\n",
            " - 1s - loss: 0.6622 - acc: 0.5438 - val_loss: 0.6819 - val_acc: 0.6562\n",
            "\n",
            "Epoch 00036: val_loss did not improve from 0.67777\n",
            "Epoch 37/50\n",
            " - 1s - loss: 0.6547 - acc: 0.5062 - val_loss: 0.6792 - val_acc: 0.6875\n",
            "\n",
            "Epoch 00037: val_loss did not improve from 0.67777\n",
            "Epoch 38/50\n",
            " - 1s - loss: 0.6471 - acc: 0.6437 - val_loss: 0.6619 - val_acc: 0.7812\n",
            "\n",
            "Epoch 00038: val_loss improved from 0.67777 to 0.66190, saving model to drive/My Drive/Resultado/Colorido/weights_architecture_2.hdf5\n",
            "Epoch 39/50\n",
            " - 1s - loss: 0.6097 - acc: 0.6250 - val_loss: 0.6783 - val_acc: 0.7188\n",
            "\n",
            "Epoch 00039: val_loss did not improve from 0.66190\n",
            "Epoch 40/50\n",
            " - 1s - loss: 0.6172 - acc: 0.6188 - val_loss: 0.6461 - val_acc: 0.7812\n",
            "\n",
            "Epoch 00040: val_loss improved from 0.66190 to 0.64607, saving model to drive/My Drive/Resultado/Colorido/weights_architecture_2.hdf5\n",
            "Epoch 41/50\n",
            " - 1s - loss: 0.5962 - acc: 0.6437 - val_loss: 0.6306 - val_acc: 0.7500\n",
            "\n",
            "Epoch 00041: val_loss improved from 0.64607 to 0.63056, saving model to drive/My Drive/Resultado/Colorido/weights_architecture_2.hdf5\n",
            "Epoch 42/50\n",
            " - 1s - loss: 0.6134 - acc: 0.5938 - val_loss: 0.6865 - val_acc: 0.5625\n",
            "\n",
            "Epoch 00042: val_loss did not improve from 0.63056\n",
            "Epoch 43/50\n",
            " - 1s - loss: 0.6444 - acc: 0.6125 - val_loss: 0.6750 - val_acc: 0.5938\n",
            "\n",
            "Epoch 00043: val_loss did not improve from 0.63056\n",
            "Epoch 44/50\n",
            " - 1s - loss: 0.5837 - acc: 0.7313 - val_loss: 0.6529 - val_acc: 0.6562\n",
            "\n",
            "Epoch 00044: val_loss did not improve from 0.63056\n",
            "Epoch 45/50\n",
            " - 1s - loss: 0.6884 - acc: 0.5687 - val_loss: 0.6959 - val_acc: 0.5000\n",
            "\n",
            "Epoch 00045: val_loss did not improve from 0.63056\n",
            "Epoch 46/50\n",
            " - 1s - loss: 0.6975 - acc: 0.4875 - val_loss: 0.6869 - val_acc: 0.5625\n",
            "\n",
            "Epoch 00046: val_loss did not improve from 0.63056\n",
            "Epoch 47/50\n",
            " - 1s - loss: 0.6967 - acc: 0.4875 - val_loss: 0.6749 - val_acc: 0.6562\n",
            "\n",
            "Epoch 00047: val_loss did not improve from 0.63056\n",
            "Epoch 48/50\n",
            " - 1s - loss: 0.7005 - acc: 0.4562 - val_loss: 0.6985 - val_acc: 0.4688\n",
            "\n",
            "Epoch 00048: val_loss did not improve from 0.63056\n",
            "Epoch 49/50\n",
            " - 1s - loss: 0.6955 - acc: 0.4875 - val_loss: 0.6980 - val_acc: 0.4688\n",
            "\n",
            "Epoch 00049: val_loss did not improve from 0.63056\n",
            "Epoch 50/50\n",
            " - 1s - loss: 0.6914 - acc: 0.5187 - val_loss: 0.6978 - val_acc: 0.4688\n",
            "\n",
            "Epoch 00050: val_loss did not improve from 0.63056\n"
          ],
          "name": "stdout"
        }
      ]
    },
    {
      "metadata": {
        "colab_type": "code",
        "id": "VHq8LUydC9ng",
        "colab": {}
      },
      "cell_type": "code",
      "source": [
        "model.load_weights('drive/My Drive/Resultado/Colorido/weights_' + architecture + '.hdf5')"
      ],
      "execution_count": 0,
      "outputs": []
    },
    {
      "metadata": {
        "colab_type": "code",
        "outputId": "157a6514-f399-4b72-b633-71566b4b5701",
        "id": "aaqUnt57C9nm",
        "colab": {
          "base_uri": "https://localhost:8080/",
          "height": 380
        }
      },
      "cell_type": "code",
      "source": [
        "# plotar loss e accuracy para os datasets 'train' e 'test'\n",
        "plt.style.use(\"ggplot\")\n",
        "plt.figure()\n",
        "plt.plot(training.history['acc'], label='Accuracy')\n",
        "plt.plot(training.history['loss'], label='Loss')\n",
        "plt.xlabel('Epochs')\n",
        "plt.ylabel('Accuracy')\n",
        "plt.title(\"Training Loss and Accuracy\")\n",
        "plt.ylabel(\"Loss/Accuracy\")\n",
        "plt.legend()\n",
        "plt.savefig('drive/My Drive/Resultado/Colorido/' + architecture + '.png', bbox_inches='tight')"
      ],
      "execution_count": 0,
      "outputs": [
        {
          "output_type": "display_data",
          "data": {
            "image/png": "[encoded data removed]",
            "text/plain": [
              "<matplotlib.figure.Figure at 0x7f8ac2cfcfd0>"
            ]
          },
          "metadata": {
            "tags": []
          }
        }
      ]
    },
    {
      "metadata": {
        "colab_type": "text",
        "id": "CuegYXR-C9nv"
      },
      "cell_type": "markdown",
      "source": [
        "### Teste"
      ]
    },
    {
      "metadata": {
        "colab_type": "code",
        "outputId": "fe483157-596b-4035-f393-bba511e4132d",
        "id": "iz7WxlHiC9nw",
        "colab": {
          "base_uri": "https://localhost:8080/"
        }
      },
      "cell_type": "code",
      "source": [
        "y_true, y_predict = ler_images_teste(architecture)"
      ],
      "execution_count": 0,
      "outputs": [
        {
          "output_type": "stream",
          "text": [
            "/usr/local/lib/python3.6/dist-packages/skimage/transform/_warps.py:84: UserWarning: The default mode, 'constant', will be changed to 'reflect' in skimage 0.15.\n",
            "  warn(\"The default mode, 'constant', will be changed to 'reflect' in \"\n"
          ],
          "name": "stderr"
        }
      ]
    },
    {
      "metadata": {
        "colab_type": "code",
        "id": "Aof67MvTC9n4",
        "outputId": "808d6955-1c8e-437a-b950-d3d3f314af4d",
        "colab": {
          "base_uri": "https://localhost:8080/",
          "height": 35
        }
      },
      "cell_type": "code",
      "source": [
        "results[architecture] = precision_score(y_true, y_predict, average='binary')\n",
        "print('Test Precision: {:.2f}%'\n",
        "      .format(100 * results[architecture]))"
      ],
      "execution_count": 0,
      "outputs": [
        {
          "output_type": "stream",
          "text": [
            "Test Precision: 9.09%\n"
          ],
          "name": "stdout"
        }
      ]
    },
    {
      "metadata": {
        "id": "r7RpE8wBe4JQ",
        "colab_type": "text"
      },
      "cell_type": "markdown",
      "source": [
        "## 3 tentativa Precision: 3.59%"
      ]
    },
    {
      "metadata": {
        "id": "vdP4Yo8OgB4B",
        "colab_type": "text"
      },
      "cell_type": "markdown",
      "source": [
        "Modelo criado pelo **Lucas Valentim**\n",
        "\n",
        "https://github.com/lucasvalentim/chromosome-recognizer/blob/master/chromosome_recognizer.ipynb"
      ]
    },
    {
      "metadata": {
        "colab_type": "code",
        "id": "qGOLNR-RjvlL",
        "colab": {}
      },
      "cell_type": "code",
      "source": [
        "architecture = 'architecture_3'"
      ],
      "execution_count": 0,
      "outputs": []
    },
    {
      "metadata": {
        "id": "1n6OuO9xDwyl",
        "colab_type": "text"
      },
      "cell_type": "markdown",
      "source": [
        "### Modelo"
      ]
    },
    {
      "metadata": {
        "id": "3nTNgnrCe33x",
        "colab_type": "code",
        "colab": {}
      },
      "cell_type": "code",
      "source": [
        "from keras.layers import Conv2D, MaxPooling2D, GlobalMaxPooling2D, BatchNormalization\n",
        "from keras.regularizers import l2\n",
        "\n",
        "model = Sequential()\n",
        "\n",
        "model.add(Conv2D(32, (3, 3), activation='relu', kernel_regularizer=l2(1e-4), \n",
        "                 input_shape=(None, None, 3)))\n",
        "model.add(BatchNormalization())\n",
        "model.add(Conv2D(32, (3, 3), activation='relu', kernel_regularizer=l2(1e-4)))\n",
        "model.add(BatchNormalization())\n",
        "model.add(MaxPooling2D((2, 2)))\n",
        "model.add(Dropout(0.25))\n",
        "\n",
        "model.add(Conv2D(64, (3, 3), activation='relu', kernel_regularizer=l2(1e-4)))\n",
        "model.add(BatchNormalization())\n",
        "model.add(Conv2D(64, (3, 3), activation='relu', kernel_regularizer=l2(1e-4)))\n",
        "model.add(BatchNormalization())\n",
        "model.add(MaxPooling2D((2, 2)))\n",
        "model.add(Dropout(0.25))\n",
        "\n",
        "model.add(Conv2D(128, (1,1), kernel_regularizer=l2(1e-4)))\n",
        "model.add(GlobalMaxPooling2D())\n",
        "\n",
        "model.add(Dense(256, activation='relu', kernel_regularizer=l2(1e-4)))\n",
        "model.add(Dropout(0.5))\n",
        "model.add(Dense(2, activation='sigmoid', kernel_regularizer=l2(1e-4)))"
      ],
      "execution_count": 0,
      "outputs": []
    },
    {
      "metadata": {
        "id": "g1okz4QbiBnE",
        "colab_type": "code",
        "colab": {}
      },
      "cell_type": "code",
      "source": [
        "model.compile(optimizer='adam', loss='binary_crossentropy', metrics=['accuracy'])"
      ],
      "execution_count": 0,
      "outputs": []
    },
    {
      "metadata": {
        "colab_type": "text",
        "id": "K4fpjl01FSYm"
      },
      "cell_type": "markdown",
      "source": [
        "### Treino\n"
      ]
    },
    {
      "metadata": {
        "colab_type": "code",
        "id": "qTcUkJSLFSYy",
        "colab": {}
      },
      "cell_type": "code",
      "source": [
        "checkpointer = ModelCheckpoint(filepath='drive/My Drive/Resultado/Colorido/weights_' + architecture + '.hdf5', verbose=1, save_best_only=True)"
      ],
      "execution_count": 0,
      "outputs": []
    },
    {
      "metadata": {
        "colab_type": "code",
        "id": "b5BHB-x0FSZE",
        "outputId": "0982a028-c992-4e0b-eec7-b213d00d671a",
        "colab": {
          "base_uri": "https://localhost:8080/",
          "height": 3710
        }
      },
      "cell_type": "code",
      "source": [
        "training = model.fit_generator(train_batches, steps_per_epoch=stepsPerEpoche, \n",
        "                   validation_data=validation_batches, validation_steps=validationSteps,\n",
        "                   epochs=50, verbose=2, callbacks=[checkpointer])"
      ],
      "execution_count": 0,
      "outputs": [
        {
          "output_type": "stream",
          "text": [
            "Epoch 1/50\n",
            " - 4s - loss: 1.6661 - acc: 0.5719 - val_loss: 0.6994 - val_acc: 0.7812\n",
            "\n",
            "Epoch 00001: val_loss improved from inf to 0.69941, saving model to drive/My Drive/Resultado/Colorido/weights_architecture_3.hdf5\n",
            "Epoch 2/50\n",
            " - 1s - loss: 0.9299 - acc: 0.6969 - val_loss: 1.0565 - val_acc: 0.6774\n",
            "\n",
            "Epoch 00002: val_loss did not improve from 0.69941\n",
            "Epoch 3/50\n",
            " - 0s - loss: 0.6013 - acc: 0.8094 - val_loss: 0.4184 - val_acc: 0.8438\n",
            "\n",
            "Epoch 00003: val_loss improved from 0.69941 to 0.41840, saving model to drive/My Drive/Resultado/Colorido/weights_architecture_3.hdf5\n",
            "Epoch 4/50\n",
            " - 0s - loss: 0.4985 - acc: 0.8625 - val_loss: 0.7689 - val_acc: 0.8750\n",
            "\n",
            "Epoch 00004: val_loss did not improve from 0.41840\n",
            "Epoch 5/50\n",
            " - 0s - loss: 0.4148 - acc: 0.8781 - val_loss: 0.9890 - val_acc: 0.6719\n",
            "\n",
            "Epoch 00005: val_loss did not improve from 0.41840\n",
            "Epoch 6/50\n",
            " - 1s - loss: 0.3480 - acc: 0.9023 - val_loss: 0.6942 - val_acc: 0.7344\n",
            "\n",
            "Epoch 00006: val_loss did not improve from 0.41840\n",
            "Epoch 7/50\n",
            " - 0s - loss: 0.3374 - acc: 0.8844 - val_loss: 0.9666 - val_acc: 0.6562\n",
            "\n",
            "Epoch 00007: val_loss did not improve from 0.41840\n",
            "Epoch 8/50\n",
            " - 0s - loss: 0.3880 - acc: 0.8531 - val_loss: 0.8435 - val_acc: 0.6875\n",
            "\n",
            "Epoch 00008: val_loss did not improve from 0.41840\n",
            "Epoch 9/50\n",
            " - 0s - loss: 0.2675 - acc: 0.9062 - val_loss: 0.8349 - val_acc: 0.6875\n",
            "\n",
            "Epoch 00009: val_loss did not improve from 0.41840\n",
            "Epoch 10/50\n",
            " - 0s - loss: 0.4182 - acc: 0.8563 - val_loss: 1.1332 - val_acc: 0.5938\n",
            "\n",
            "Epoch 00010: val_loss did not improve from 0.41840\n",
            "Epoch 11/50\n",
            " - 0s - loss: 0.3218 - acc: 0.8906 - val_loss: 1.7710 - val_acc: 0.4062\n",
            "\n",
            "Epoch 00011: val_loss did not improve from 0.41840\n",
            "Epoch 12/50\n",
            " - 0s - loss: 0.2894 - acc: 0.9000 - val_loss: 0.3435 - val_acc: 0.8906\n",
            "\n",
            "Epoch 00012: val_loss improved from 0.41840 to 0.34351, saving model to drive/My Drive/Resultado/Colorido/weights_architecture_3.hdf5\n",
            "Epoch 13/50\n",
            " - 1s - loss: 0.3196 - acc: 0.9156 - val_loss: 0.2618 - val_acc: 0.9375\n",
            "\n",
            "Epoch 00013: val_loss improved from 0.34351 to 0.26178, saving model to drive/My Drive/Resultado/Colorido/weights_architecture_3.hdf5\n",
            "Epoch 14/50\n",
            " - 1s - loss: 0.2258 - acc: 0.9406 - val_loss: 0.6249 - val_acc: 0.7031\n",
            "\n",
            "Epoch 00014: val_loss did not improve from 0.26178\n",
            "Epoch 15/50\n",
            " - 1s - loss: 0.2744 - acc: 0.9125 - val_loss: 0.3101 - val_acc: 0.8125\n",
            "\n",
            "Epoch 00015: val_loss did not improve from 0.26178\n",
            "Epoch 16/50\n",
            " - 1s - loss: 0.3614 - acc: 0.8500 - val_loss: 0.2715 - val_acc: 0.8750\n",
            "\n",
            "Epoch 00016: val_loss did not improve from 0.26178\n",
            "Epoch 17/50\n",
            " - 1s - loss: 0.3038 - acc: 0.9062 - val_loss: 0.4577 - val_acc: 0.8125\n",
            "\n",
            "Epoch 00017: val_loss did not improve from 0.26178\n",
            "Epoch 18/50\n",
            " - 1s - loss: 0.3476 - acc: 0.8719 - val_loss: 0.4626 - val_acc: 0.7969\n",
            "\n",
            "Epoch 00018: val_loss did not improve from 0.26178\n",
            "Epoch 19/50\n",
            " - 1s - loss: 0.1757 - acc: 0.9437 - val_loss: 0.3874 - val_acc: 0.8281\n",
            "\n",
            "Epoch 00019: val_loss did not improve from 0.26178\n",
            "Epoch 20/50\n",
            " - 1s - loss: 0.2692 - acc: 0.9156 - val_loss: 0.4334 - val_acc: 0.7969\n",
            "\n",
            "Epoch 00020: val_loss did not improve from 0.26178\n",
            "Epoch 21/50\n",
            " - 1s - loss: 0.3277 - acc: 0.8812 - val_loss: 1.2494 - val_acc: 0.5469\n",
            "\n",
            "Epoch 00021: val_loss did not improve from 0.26178\n",
            "Epoch 22/50\n",
            " - 1s - loss: 0.3400 - acc: 0.9031 - val_loss: 1.7111 - val_acc: 0.4688\n",
            "\n",
            "Epoch 00022: val_loss did not improve from 0.26178\n",
            "Epoch 23/50\n",
            " - 1s - loss: 0.2903 - acc: 0.8969 - val_loss: 0.4714 - val_acc: 0.7500\n",
            "\n",
            "Epoch 00023: val_loss did not improve from 0.26178\n",
            "Epoch 24/50\n",
            " - 1s - loss: 0.3114 - acc: 0.8688 - val_loss: 0.3492 - val_acc: 0.8438\n",
            "\n",
            "Epoch 00024: val_loss did not improve from 0.26178\n",
            "Epoch 25/50\n",
            " - 1s - loss: 0.2398 - acc: 0.9156 - val_loss: 1.0654 - val_acc: 0.5000\n",
            "\n",
            "Epoch 00025: val_loss did not improve from 0.26178\n",
            "Epoch 26/50\n",
            " - 1s - loss: 0.2560 - acc: 0.9000 - val_loss: 1.5022 - val_acc: 0.4844\n",
            "\n",
            "Epoch 00026: val_loss did not improve from 0.26178\n",
            "Epoch 27/50\n",
            " - 1s - loss: 0.3185 - acc: 0.8719 - val_loss: 0.7063 - val_acc: 0.7031\n",
            "\n",
            "Epoch 00027: val_loss did not improve from 0.26178\n",
            "Epoch 28/50\n",
            " - 1s - loss: 0.3377 - acc: 0.8969 - val_loss: 0.4608 - val_acc: 0.8281\n",
            "\n",
            "Epoch 00028: val_loss did not improve from 0.26178\n",
            "Epoch 29/50\n",
            " - 1s - loss: 0.3292 - acc: 0.8781 - val_loss: 0.5433 - val_acc: 0.7500\n",
            "\n",
            "Epoch 00029: val_loss did not improve from 0.26178\n",
            "Epoch 30/50\n",
            " - 1s - loss: 0.2595 - acc: 0.9094 - val_loss: 0.3847 - val_acc: 0.8438\n",
            "\n",
            "Epoch 00030: val_loss did not improve from 0.26178\n",
            "Epoch 31/50\n",
            " - 1s - loss: 0.2913 - acc: 0.8906 - val_loss: 0.3234 - val_acc: 0.8750\n",
            "\n",
            "Epoch 00031: val_loss did not improve from 0.26178\n",
            "Epoch 32/50\n",
            " - 1s - loss: 0.2598 - acc: 0.9156 - val_loss: 0.2568 - val_acc: 0.9375\n",
            "\n",
            "Epoch 00032: val_loss improved from 0.26178 to 0.25679, saving model to drive/My Drive/Resultado/Colorido/weights_architecture_3.hdf5\n",
            "Epoch 33/50\n",
            " - 1s - loss: 0.3068 - acc: 0.8923 - val_loss: 0.4019 - val_acc: 0.7903\n",
            "\n",
            "Epoch 00033: val_loss did not improve from 0.25679\n",
            "Epoch 34/50\n",
            " - 1s - loss: 0.2570 - acc: 0.9125 - val_loss: 0.6678 - val_acc: 0.6562\n",
            "\n",
            "Epoch 00034: val_loss did not improve from 0.25679\n",
            "Epoch 35/50\n",
            " - 1s - loss: 0.3726 - acc: 0.8719 - val_loss: 0.3751 - val_acc: 0.8125\n",
            "\n",
            "Epoch 00035: val_loss did not improve from 0.25679\n",
            "Epoch 36/50\n",
            " - 1s - loss: 0.2054 - acc: 0.9500 - val_loss: 0.3018 - val_acc: 0.9375\n",
            "\n",
            "Epoch 00036: val_loss did not improve from 0.25679\n",
            "Epoch 37/50\n",
            " - 1s - loss: 0.2886 - acc: 0.9062 - val_loss: 0.3535 - val_acc: 0.8125\n",
            "\n",
            "Epoch 00037: val_loss did not improve from 0.25679\n",
            "Epoch 38/50\n",
            " - 1s - loss: 0.1833 - acc: 0.9500 - val_loss: 1.0725 - val_acc: 0.4688\n",
            "\n",
            "Epoch 00038: val_loss did not improve from 0.25679\n",
            "Epoch 39/50\n",
            " - 1s - loss: 0.1942 - acc: 0.9406 - val_loss: 1.0226 - val_acc: 0.5312\n",
            "\n",
            "Epoch 00039: val_loss did not improve from 0.25679\n",
            "Epoch 40/50\n",
            " - 1s - loss: 0.2107 - acc: 0.9469 - val_loss: 0.2457 - val_acc: 0.9219\n",
            "\n",
            "Epoch 00040: val_loss improved from 0.25679 to 0.24572, saving model to drive/My Drive/Resultado/Colorido/weights_architecture_3.hdf5\n",
            "Epoch 41/50\n",
            " - 1s - loss: 0.2257 - acc: 0.9094 - val_loss: 0.4730 - val_acc: 0.8438\n",
            "\n",
            "Epoch 00041: val_loss did not improve from 0.24572\n",
            "Epoch 42/50\n",
            " - 1s - loss: 0.2284 - acc: 0.9313 - val_loss: 0.5471 - val_acc: 0.6875\n",
            "\n",
            "Epoch 00042: val_loss did not improve from 0.24572\n",
            "Epoch 43/50\n",
            " - 1s - loss: 0.2329 - acc: 0.9125 - val_loss: 0.9159 - val_acc: 0.5312\n",
            "\n",
            "Epoch 00043: val_loss did not improve from 0.24572\n",
            "Epoch 44/50\n",
            " - 1s - loss: 0.2174 - acc: 0.9344 - val_loss: 1.2712 - val_acc: 0.6250\n",
            "\n",
            "Epoch 00044: val_loss did not improve from 0.24572\n",
            "Epoch 45/50\n",
            " - 1s - loss: 0.1879 - acc: 0.9531 - val_loss: 1.8997 - val_acc: 0.4062\n",
            "\n",
            "Epoch 00045: val_loss did not improve from 0.24572\n",
            "Epoch 46/50\n",
            " - 1s - loss: 0.2602 - acc: 0.9094 - val_loss: 0.7743 - val_acc: 0.5469\n",
            "\n",
            "Epoch 00046: val_loss did not improve from 0.24572\n",
            "Epoch 47/50\n",
            " - 1s - loss: 0.2450 - acc: 0.9313 - val_loss: 0.4882 - val_acc: 0.7344\n",
            "\n",
            "Epoch 00047: val_loss did not improve from 0.24572\n",
            "Epoch 48/50\n",
            " - 1s - loss: 0.2191 - acc: 0.9188 - val_loss: 0.5191 - val_acc: 0.8125\n",
            "\n",
            "Epoch 00048: val_loss did not improve from 0.24572\n",
            "Epoch 49/50\n",
            " - 1s - loss: 0.3187 - acc: 0.8812 - val_loss: 0.3166 - val_acc: 0.9531\n",
            "\n",
            "Epoch 00049: val_loss did not improve from 0.24572\n",
            "Epoch 50/50\n",
            " - 1s - loss: 0.1937 - acc: 0.9344 - val_loss: 0.3750 - val_acc: 0.8438\n",
            "\n",
            "Epoch 00050: val_loss did not improve from 0.24572\n"
          ],
          "name": "stdout"
        }
      ]
    },
    {
      "metadata": {
        "colab_type": "code",
        "id": "AmyvXiE5FSZQ",
        "colab": {}
      },
      "cell_type": "code",
      "source": [
        "model.load_weights('drive/My Drive/Resultado/Colorido/weights_' + architecture + '.hdf5')"
      ],
      "execution_count": 0,
      "outputs": []
    },
    {
      "metadata": {
        "colab_type": "code",
        "id": "hWZAc28KFSZW",
        "outputId": "6e3493f1-11eb-4f80-97d7-9cb504539baa",
        "colab": {
          "base_uri": "https://localhost:8080/",
          "height": 380
        }
      },
      "cell_type": "code",
      "source": [
        "# plotar loss e accuracy para os datasets 'train' e 'test'\n",
        "plt.style.use(\"ggplot\")\n",
        "plt.figure()\n",
        "plt.plot(training.history['acc'], label='Accuracy')\n",
        "plt.plot(training.history['loss'], label='Loss')\n",
        "plt.xlabel('Epochs')\n",
        "plt.ylabel('Accuracy')\n",
        "plt.title(\"Training Loss and Accuracy\")\n",
        "plt.ylabel(\"Loss/Accuracy\")\n",
        "plt.legend()\n",
        "plt.savefig('drive/My Drive/Resultado/Colorido/' + architecture + '.png', bbox_inches='tight')"
      ],
      "execution_count": 0,
      "outputs": [
        {
          "output_type": "display_data",
          "data": {
            "image/png": "[encoded data removed]",
            "text/plain": [
              "<matplotlib.figure.Figure at 0x7f8ac2ad7f60>"
            ]
          },
          "metadata": {
            "tags": []
          }
        }
      ]
    },
    {
      "metadata": {
        "colab_type": "text",
        "id": "b4irZawEFSZe"
      },
      "cell_type": "markdown",
      "source": [
        "### Teste"
      ]
    },
    {
      "metadata": {
        "colab_type": "code",
        "outputId": "23b85c05-1081-4420-f6f0-f47c239ea97e",
        "id": "29iBLdvXFSZg",
        "colab": {
          "base_uri": "https://localhost:8080/",
          "height": 74
        }
      },
      "cell_type": "code",
      "source": [
        "y_true, y_predict = ler_images_teste(architecture)"
      ],
      "execution_count": 0,
      "outputs": [
        {
          "output_type": "stream",
          "text": [
            "/usr/local/lib/python3.6/dist-packages/skimage/transform/_warps.py:84: UserWarning: The default mode, 'constant', will be changed to 'reflect' in skimage 0.15.\n",
            "  warn(\"The default mode, 'constant', will be changed to 'reflect' in \"\n"
          ],
          "name": "stderr"
        }
      ]
    },
    {
      "metadata": {
        "colab_type": "code",
        "id": "ssYgM7CyFSZs",
        "outputId": "07d8fe95-4061-4ee6-b2ab-c3f6400c755f",
        "colab": {
          "base_uri": "https://localhost:8080/",
          "height": 35
        }
      },
      "cell_type": "code",
      "source": [
        "results[architecture] = precision_score(y_true, y_predict, average='binary')\n",
        "print('Test Precision: {:.2f}%'\n",
        "      .format(100 * results[architecture]))"
      ],
      "execution_count": 0,
      "outputs": [
        {
          "output_type": "stream",
          "text": [
            "Test Precision: 3.59%\n"
          ],
          "name": "stdout"
        }
      ]
    },
    {
      "metadata": {
        "id": "jkrlEFjlw030",
        "colab_type": "text"
      },
      "cell_type": "markdown",
      "source": [
        "## 4 tentativa Precision: 4.47%"
      ]
    },
    {
      "metadata": {
        "id": "UJ7JELAiw2kb",
        "colab_type": "text"
      },
      "cell_type": "markdown",
      "source": [
        "Modelo adaptado do **Lucas Valentim**\n",
        "\n",
        "*   Sem os **dropout**\n"
      ]
    },
    {
      "metadata": {
        "colab_type": "code",
        "id": "VMLmVlASj26i",
        "colab": {}
      },
      "cell_type": "code",
      "source": [
        "architecture = 'architecture_4'"
      ],
      "execution_count": 0,
      "outputs": []
    },
    {
      "metadata": {
        "id": "YdF5FzDmD6YV",
        "colab_type": "text"
      },
      "cell_type": "markdown",
      "source": [
        "### Modelo"
      ]
    },
    {
      "metadata": {
        "colab_type": "code",
        "id": "4N0B_5a2xB3T",
        "colab": {}
      },
      "cell_type": "code",
      "source": [
        "from keras.layers import Conv2D, MaxPooling2D, GlobalMaxPooling2D, BatchNormalization\n",
        "from keras.regularizers import l2\n",
        "\n",
        "model = Sequential()\n",
        "\n",
        "model.add(Conv2D(32, (3, 3), activation='relu', kernel_regularizer=l2(1e-4), \n",
        "                 input_shape=(None, None, 3)))\n",
        "model.add(BatchNormalization())\n",
        "model.add(Conv2D(32, (3, 3), activation='relu', kernel_regularizer=l2(1e-4)))\n",
        "model.add(BatchNormalization())\n",
        "model.add(MaxPooling2D((2, 2)))\n",
        "\n",
        "model.add(Conv2D(64, (3, 3), activation='relu', kernel_regularizer=l2(1e-4)))\n",
        "model.add(BatchNormalization())\n",
        "model.add(Conv2D(64, (3, 3), activation='relu', kernel_regularizer=l2(1e-4)))\n",
        "model.add(BatchNormalization())\n",
        "model.add(MaxPooling2D((2, 2)))\n",
        "\n",
        "model.add(Conv2D(128, (1,1), kernel_regularizer=l2(1e-4)))\n",
        "model.add(GlobalMaxPooling2D())\n",
        "\n",
        "model.add(Dense(256, activation='relu', kernel_regularizer=l2(1e-4)))\n",
        "model.add(BatchNormalization())\n",
        "model.add(Dense(2, activation='sigmoid', kernel_regularizer=l2(1e-4)))"
      ],
      "execution_count": 0,
      "outputs": []
    },
    {
      "metadata": {
        "colab_type": "code",
        "id": "V9VHjygmxB3k",
        "colab": {}
      },
      "cell_type": "code",
      "source": [
        "model.compile(optimizer='adam', loss='binary_crossentropy', metrics=['accuracy'])"
      ],
      "execution_count": 0,
      "outputs": []
    },
    {
      "metadata": {
        "colab_type": "text",
        "id": "kcNWBCc7FTxl"
      },
      "cell_type": "markdown",
      "source": [
        "### Treino\n"
      ]
    },
    {
      "metadata": {
        "colab_type": "code",
        "id": "6idT1WYmFTxt",
        "colab": {}
      },
      "cell_type": "code",
      "source": [
        "checkpointer = ModelCheckpoint(filepath='drive/My Drive/Resultado/Colorido/weights_' + architecture + '.hdf5', verbose=1, save_best_only=True)"
      ],
      "execution_count": 0,
      "outputs": []
    },
    {
      "metadata": {
        "colab_type": "code",
        "id": "f6NCQXC1FTx1",
        "outputId": "d5d9f8c9-cee9-4439-b1e9-1c26ea4e26ec",
        "colab": {
          "base_uri": "https://localhost:8080/",
          "height": 3710
        }
      },
      "cell_type": "code",
      "source": [
        "training = model.fit_generator(train_batches, steps_per_epoch=stepsPerEpoche, \n",
        "                   validation_data=validation_batches, validation_steps=validationSteps,\n",
        "                   epochs=50, verbose=2, callbacks=[checkpointer])"
      ],
      "execution_count": 0,
      "outputs": [
        {
          "output_type": "stream",
          "text": [
            "Epoch 1/50\n",
            " - 3s - loss: 0.5769 - acc: 0.7156 - val_loss: 0.5710 - val_acc: 0.8594\n",
            "\n",
            "Epoch 00001: val_loss improved from inf to 0.57098, saving model to drive/My Drive/Resultado/Colorido/weights_architecture_4.hdf5\n",
            "Epoch 2/50\n",
            " - 0s - loss: 0.4239 - acc: 0.8344 - val_loss: 0.4629 - val_acc: 0.8281\n",
            "\n",
            "Epoch 00002: val_loss improved from 0.57098 to 0.46286, saving model to drive/My Drive/Resultado/Colorido/weights_architecture_4.hdf5\n",
            "Epoch 3/50\n",
            " - 0s - loss: 0.3146 - acc: 0.9156 - val_loss: 0.6049 - val_acc: 0.7097\n",
            "\n",
            "Epoch 00003: val_loss did not improve from 0.46286\n",
            "Epoch 4/50\n",
            " - 0s - loss: 0.3017 - acc: 0.9000 - val_loss: 0.8854 - val_acc: 0.6406\n",
            "\n",
            "Epoch 00004: val_loss did not improve from 0.46286\n",
            "Epoch 5/50\n",
            " - 0s - loss: 0.2347 - acc: 0.9250 - val_loss: 0.7610 - val_acc: 0.7500\n",
            "\n",
            "Epoch 00005: val_loss did not improve from 0.46286\n",
            "Epoch 6/50\n",
            " - 0s - loss: 0.2574 - acc: 0.9219 - val_loss: 1.0454 - val_acc: 0.5938\n",
            "\n",
            "Epoch 00006: val_loss did not improve from 0.46286\n",
            "Epoch 7/50\n",
            " - 0s - loss: 0.2504 - acc: 0.9281 - val_loss: 2.3220 - val_acc: 0.4844\n",
            "\n",
            "Epoch 00007: val_loss did not improve from 0.46286\n",
            "Epoch 8/50\n",
            " - 0s - loss: 0.3224 - acc: 0.8656 - val_loss: 1.1884 - val_acc: 0.5938\n",
            "\n",
            "Epoch 00008: val_loss did not improve from 0.46286\n",
            "Epoch 9/50\n",
            " - 1s - loss: 0.3686 - acc: 0.8875 - val_loss: 0.6483 - val_acc: 0.7500\n",
            "\n",
            "Epoch 00009: val_loss did not improve from 0.46286\n",
            "Epoch 10/50\n",
            " - 1s - loss: 0.2046 - acc: 0.9336 - val_loss: 0.2461 - val_acc: 0.9219\n",
            "\n",
            "Epoch 00010: val_loss improved from 0.46286 to 0.24607, saving model to drive/My Drive/Resultado/Colorido/weights_architecture_4.hdf5\n",
            "Epoch 11/50\n",
            " - 1s - loss: 0.2591 - acc: 0.9156 - val_loss: 0.1801 - val_acc: 0.9375\n",
            "\n",
            "Epoch 00011: val_loss improved from 0.24607 to 0.18015, saving model to drive/My Drive/Resultado/Colorido/weights_architecture_4.hdf5\n",
            "Epoch 12/50\n",
            " - 1s - loss: 0.2560 - acc: 0.9062 - val_loss: 1.1073 - val_acc: 0.6875\n",
            "\n",
            "Epoch 00012: val_loss did not improve from 0.18015\n",
            "Epoch 13/50\n",
            " - 1s - loss: 0.2704 - acc: 0.8844 - val_loss: 2.1216 - val_acc: 0.5469\n",
            "\n",
            "Epoch 00013: val_loss did not improve from 0.18015\n",
            "Epoch 14/50\n",
            " - 1s - loss: 0.2172 - acc: 0.9406 - val_loss: 2.7259 - val_acc: 0.6250\n",
            "\n",
            "Epoch 00014: val_loss did not improve from 0.18015\n",
            "Epoch 15/50\n",
            " - 1s - loss: 0.2604 - acc: 0.9125 - val_loss: 2.5863 - val_acc: 0.5625\n",
            "\n",
            "Epoch 00015: val_loss did not improve from 0.18015\n",
            "Epoch 16/50\n",
            " - 1s - loss: 0.2067 - acc: 0.9250 - val_loss: 2.5277 - val_acc: 0.5000\n",
            "\n",
            "Epoch 00016: val_loss did not improve from 0.18015\n",
            "Epoch 17/50\n",
            " - 1s - loss: 0.2184 - acc: 0.9406 - val_loss: 2.8797 - val_acc: 0.5469\n",
            "\n",
            "Epoch 00017: val_loss did not improve from 0.18015\n",
            "Epoch 18/50\n",
            " - 1s - loss: 0.2299 - acc: 0.9188 - val_loss: 3.0343 - val_acc: 0.4531\n",
            "\n",
            "Epoch 00018: val_loss did not improve from 0.18015\n",
            "Epoch 19/50\n",
            " - 1s - loss: 0.2506 - acc: 0.9188 - val_loss: 2.6514 - val_acc: 0.5781\n",
            "\n",
            "Epoch 00019: val_loss did not improve from 0.18015\n",
            "Epoch 20/50\n",
            " - 1s - loss: 0.3146 - acc: 0.8906 - val_loss: 2.6940 - val_acc: 0.6250\n",
            "\n",
            "Epoch 00020: val_loss did not improve from 0.18015\n",
            "Epoch 21/50\n",
            " - 1s - loss: 0.2166 - acc: 0.9313 - val_loss: 1.5323 - val_acc: 0.6875\n",
            "\n",
            "Epoch 00021: val_loss did not improve from 0.18015\n",
            "Epoch 22/50\n",
            " - 1s - loss: 0.2281 - acc: 0.9313 - val_loss: 3.0915 - val_acc: 0.4688\n",
            "\n",
            "Epoch 00022: val_loss did not improve from 0.18015\n",
            "Epoch 23/50\n",
            " - 1s - loss: 0.2232 - acc: 0.9219 - val_loss: 2.2807 - val_acc: 0.4844\n",
            "\n",
            "Epoch 00023: val_loss did not improve from 0.18015\n",
            "Epoch 24/50\n",
            " - 1s - loss: 0.2623 - acc: 0.9125 - val_loss: 3.2317 - val_acc: 0.5156\n",
            "\n",
            "Epoch 00024: val_loss did not improve from 0.18015\n",
            "Epoch 25/50\n",
            " - 1s - loss: 0.2963 - acc: 0.9094 - val_loss: 1.7208 - val_acc: 0.6562\n",
            "\n",
            "Epoch 00025: val_loss did not improve from 0.18015\n",
            "Epoch 26/50\n",
            " - 1s - loss: 0.1670 - acc: 0.9688 - val_loss: 3.0409 - val_acc: 0.4375\n",
            "\n",
            "Epoch 00026: val_loss did not improve from 0.18015\n",
            "Epoch 27/50\n",
            " - 1s - loss: 0.1480 - acc: 0.9562 - val_loss: 3.6210 - val_acc: 0.6250\n",
            "\n",
            "Epoch 00027: val_loss did not improve from 0.18015\n",
            "Epoch 28/50\n",
            " - 1s - loss: 0.2809 - acc: 0.9188 - val_loss: 3.1467 - val_acc: 0.5312\n",
            "\n",
            "Epoch 00028: val_loss did not improve from 0.18015\n",
            "Epoch 29/50\n",
            " - 1s - loss: 0.2117 - acc: 0.9469 - val_loss: 5.3613 - val_acc: 0.3594\n",
            "\n",
            "Epoch 00029: val_loss did not improve from 0.18015\n",
            "Epoch 30/50\n",
            " - 1s - loss: 0.1872 - acc: 0.9500 - val_loss: 2.9668 - val_acc: 0.5156\n",
            "\n",
            "Epoch 00030: val_loss did not improve from 0.18015\n",
            "Epoch 31/50\n",
            " - 1s - loss: 0.2551 - acc: 0.9062 - val_loss: 1.6567 - val_acc: 0.6719\n",
            "\n",
            "Epoch 00031: val_loss did not improve from 0.18015\n",
            "Epoch 32/50\n",
            " - 1s - loss: 0.2391 - acc: 0.9437 - val_loss: 1.4337 - val_acc: 0.5625\n",
            "\n",
            "Epoch 00032: val_loss did not improve from 0.18015\n",
            "Epoch 33/50\n",
            " - 1s - loss: 0.3164 - acc: 0.8750 - val_loss: 1.0387 - val_acc: 0.6875\n",
            "\n",
            "Epoch 00033: val_loss did not improve from 0.18015\n",
            "Epoch 34/50\n",
            " - 1s - loss: 0.2280 - acc: 0.9219 - val_loss: 1.2438 - val_acc: 0.6935\n",
            "\n",
            "Epoch 00034: val_loss did not improve from 0.18015\n",
            "Epoch 35/50\n",
            " - 1s - loss: 0.3205 - acc: 0.9313 - val_loss: 2.0290 - val_acc: 0.5469\n",
            "\n",
            "Epoch 00035: val_loss did not improve from 0.18015\n",
            "Epoch 36/50\n",
            " - 1s - loss: 0.1932 - acc: 0.9344 - val_loss: 1.8961 - val_acc: 0.6094\n",
            "\n",
            "Epoch 00036: val_loss did not improve from 0.18015\n",
            "Epoch 37/50\n",
            " - 1s - loss: 0.2297 - acc: 0.9541 - val_loss: 1.4911 - val_acc: 0.5625\n",
            "\n",
            "Epoch 00037: val_loss did not improve from 0.18015\n",
            "Epoch 38/50\n",
            " - 1s - loss: 0.2423 - acc: 0.9094 - val_loss: 1.7687 - val_acc: 0.5156\n",
            "\n",
            "Epoch 00038: val_loss did not improve from 0.18015\n",
            "Epoch 39/50\n",
            " - 1s - loss: 0.1519 - acc: 0.9469 - val_loss: 1.0226 - val_acc: 0.6406\n",
            "\n",
            "Epoch 00039: val_loss did not improve from 0.18015\n",
            "Epoch 40/50\n",
            " - 1s - loss: 0.2410 - acc: 0.9156 - val_loss: 1.2247 - val_acc: 0.6719\n",
            "\n",
            "Epoch 00040: val_loss did not improve from 0.18015\n",
            "Epoch 41/50\n",
            " - 1s - loss: 0.1544 - acc: 0.9625 - val_loss: 1.4187 - val_acc: 0.5781\n",
            "\n",
            "Epoch 00041: val_loss did not improve from 0.18015\n",
            "Epoch 42/50\n",
            " - 1s - loss: 0.2280 - acc: 0.9313 - val_loss: 2.1419 - val_acc: 0.4688\n",
            "\n",
            "Epoch 00042: val_loss did not improve from 0.18015\n",
            "Epoch 43/50\n",
            " - 1s - loss: 0.1856 - acc: 0.9437 - val_loss: 0.9819 - val_acc: 0.7344\n",
            "\n",
            "Epoch 00043: val_loss did not improve from 0.18015\n",
            "Epoch 44/50\n",
            " - 1s - loss: 0.1563 - acc: 0.9531 - val_loss: 0.9607 - val_acc: 0.6875\n",
            "\n",
            "Epoch 00044: val_loss did not improve from 0.18015\n",
            "Epoch 45/50\n",
            " - 1s - loss: 0.1827 - acc: 0.9531 - val_loss: 0.3545 - val_acc: 0.9062\n",
            "\n",
            "Epoch 00045: val_loss did not improve from 0.18015\n",
            "Epoch 46/50\n",
            " - 1s - loss: 0.2296 - acc: 0.9281 - val_loss: 0.1823 - val_acc: 0.9219\n",
            "\n",
            "Epoch 00046: val_loss did not improve from 0.18015\n",
            "Epoch 47/50\n",
            " - 1s - loss: 0.2666 - acc: 0.9375 - val_loss: 0.1632 - val_acc: 0.9531\n",
            "\n",
            "Epoch 00047: val_loss improved from 0.18015 to 0.16317, saving model to drive/My Drive/Resultado/Colorido/weights_architecture_4.hdf5\n",
            "Epoch 48/50\n",
            " - 1s - loss: 0.1876 - acc: 0.9281 - val_loss: 0.1895 - val_acc: 0.9375\n",
            "\n",
            "Epoch 00048: val_loss did not improve from 0.16317\n",
            "Epoch 49/50\n",
            " - 1s - loss: 0.1830 - acc: 0.9313 - val_loss: 0.9500 - val_acc: 0.7500\n",
            "\n",
            "Epoch 00049: val_loss did not improve from 0.16317\n",
            "Epoch 50/50\n",
            " - 1s - loss: 0.2656 - acc: 0.9000 - val_loss: 0.9671 - val_acc: 0.6875\n",
            "\n",
            "Epoch 00050: val_loss did not improve from 0.16317\n"
          ],
          "name": "stdout"
        }
      ]
    },
    {
      "metadata": {
        "colab_type": "code",
        "id": "iJ_tPIvvFTx_",
        "colab": {}
      },
      "cell_type": "code",
      "source": [
        "model.load_weights('drive/My Drive/Resultado/Colorido/weights_' + architecture + '.hdf5')"
      ],
      "execution_count": 0,
      "outputs": []
    },
    {
      "metadata": {
        "colab_type": "code",
        "id": "mgtuSOjIFTyM",
        "outputId": "063b014f-9991-4bed-bd81-72b4b580019e",
        "colab": {
          "base_uri": "https://localhost:8080/",
          "height": 380
        }
      },
      "cell_type": "code",
      "source": [
        "# plotar loss e accuracy para os datasets 'train' e 'test'\n",
        "plt.style.use(\"ggplot\")\n",
        "plt.figure()\n",
        "plt.plot(training.history['acc'], label='Accuracy')\n",
        "plt.plot(training.history['loss'], label='Loss')\n",
        "plt.xlabel('Epochs')\n",
        "plt.ylabel('Accuracy')\n",
        "plt.title(\"Training Loss and Accuracy\")\n",
        "plt.ylabel(\"Loss/Accuracy\")\n",
        "plt.legend()\n",
        "plt.savefig('drive/My Drive/Resultado/Colorido/' + architecture + '.png', bbox_inches='tight')"
      ],
      "execution_count": 0,
      "outputs": [
        {
          "output_type": "display_data",
          "data": {
            "image/png": "[encoded data removed]",
            "text/plain": [
              "<matplotlib.figure.Figure at 0x7f8ab52da4e0>"
            ]
          },
          "metadata": {
            "tags": []
          }
        }
      ]
    },
    {
      "metadata": {
        "colab_type": "text",
        "id": "p5uPlXtaFTyV"
      },
      "cell_type": "markdown",
      "source": [
        "### Teste"
      ]
    },
    {
      "metadata": {
        "colab_type": "code",
        "outputId": "80aa7e87-041f-4abb-c37a-105525e17a2b",
        "id": "BlgQSQAcFTyX",
        "colab": {
          "base_uri": "https://localhost:8080/",
          "height": 74
        }
      },
      "cell_type": "code",
      "source": [
        "y_true, y_predict = ler_images_teste(architecture)"
      ],
      "execution_count": 0,
      "outputs": [
        {
          "output_type": "stream",
          "text": [
            "/usr/local/lib/python3.6/dist-packages/skimage/transform/_warps.py:84: UserWarning: The default mode, 'constant', will be changed to 'reflect' in skimage 0.15.\n",
            "  warn(\"The default mode, 'constant', will be changed to 'reflect' in \"\n"
          ],
          "name": "stderr"
        }
      ]
    },
    {
      "metadata": {
        "colab_type": "code",
        "id": "8PQ2XJ-SFTye",
        "outputId": "d8d8cbd8-8933-4fed-d21c-8e6d990d3de1",
        "colab": {
          "base_uri": "https://localhost:8080/",
          "height": 35
        }
      },
      "cell_type": "code",
      "source": [
        "results[architecture] = precision_score(y_true, y_predict, average='binary')\n",
        "print('Test Precision: {:.2f}%'\n",
        "      .format(100 * results[architecture]))"
      ],
      "execution_count": 0,
      "outputs": [
        {
          "output_type": "stream",
          "text": [
            "Test Precision: 4.47%\n"
          ],
          "name": "stdout"
        }
      ]
    },
    {
      "metadata": {
        "id": "lX3WANMgB1Ew",
        "colab_type": "text"
      },
      "cell_type": "markdown",
      "source": [
        "## 5 tentativa Precision: 4.94%"
      ]
    },
    {
      "metadata": {
        "colab_type": "text",
        "id": "dqed1VQh6WXg"
      },
      "cell_type": "markdown",
      "source": [
        "Modelo adaptado do **Lucas Valentim**\n",
        "\n",
        "*   Sem os **dropout**\n",
        "*   Função **SGD** para compilação\n"
      ]
    },
    {
      "metadata": {
        "colab_type": "code",
        "id": "HA_KKMyaj6-L",
        "colab": {}
      },
      "cell_type": "code",
      "source": [
        "architecture = 'architecture_5'"
      ],
      "execution_count": 0,
      "outputs": []
    },
    {
      "metadata": {
        "id": "hWG5bCGfEBAs",
        "colab_type": "text"
      },
      "cell_type": "markdown",
      "source": [
        "### Modelo"
      ]
    },
    {
      "metadata": {
        "colab_type": "code",
        "id": "z9mlUa4mB-ER",
        "colab": {}
      },
      "cell_type": "code",
      "source": [
        "from keras.layers import Conv2D, MaxPooling2D, GlobalMaxPooling2D, BatchNormalization\n",
        "from keras.regularizers import l2\n",
        "\n",
        "model = Sequential()\n",
        "\n",
        "model.add(Conv2D(32, (3, 3), activation='relu', kernel_regularizer=l2(1e-4), \n",
        "                 input_shape=(None, None, 3)))\n",
        "model.add(BatchNormalization())\n",
        "model.add(Conv2D(32, (3, 3), activation='relu', kernel_regularizer=l2(1e-4)))\n",
        "model.add(BatchNormalization())\n",
        "model.add(MaxPooling2D((2, 2)))\n",
        "model.add(Dropout(0.25))\n",
        "\n",
        "model.add(Conv2D(64, (3, 3), activation='relu', kernel_regularizer=l2(1e-4)))\n",
        "model.add(BatchNormalization())\n",
        "model.add(Conv2D(64, (3, 3), activation='relu', kernel_regularizer=l2(1e-4)))\n",
        "model.add(BatchNormalization())\n",
        "model.add(MaxPooling2D((2, 2)))\n",
        "model.add(Dropout(0.25))\n",
        "\n",
        "model.add(Conv2D(128, (1,1), kernel_regularizer=l2(1e-4)))\n",
        "model.add(GlobalMaxPooling2D())\n",
        "\n",
        "model.add(Dense(256, activation='relu', kernel_regularizer=l2(1e-4)))\n",
        "model.add(Dropout(0.5))\n",
        "model.add(Dense(2, activation='sigmoid', kernel_regularizer=l2(1e-4)))"
      ],
      "execution_count": 0,
      "outputs": []
    },
    {
      "metadata": {
        "id": "ukvJwM-lCHtB",
        "colab_type": "code",
        "colab": {}
      },
      "cell_type": "code",
      "source": [
        "model.compile(SGD(lr=0.01, momentum=0.0, decay=0.0, nesterov=False), \n",
        "              loss='binary_crossentropy', metrics=['accuracy'])"
      ],
      "execution_count": 0,
      "outputs": []
    },
    {
      "metadata": {
        "colab_type": "text",
        "id": "mPnh-fAOFVav"
      },
      "cell_type": "markdown",
      "source": [
        "### Treino\n"
      ]
    },
    {
      "metadata": {
        "colab_type": "code",
        "id": "2aFqWUaiFVa8",
        "colab": {}
      },
      "cell_type": "code",
      "source": [
        "checkpointer = ModelCheckpoint(filepath='drive/My Drive/Resultado/Colorido/weights_' + architecture + '.hdf5', verbose=1, save_best_only=True)"
      ],
      "execution_count": 0,
      "outputs": []
    },
    {
      "metadata": {
        "colab_type": "code",
        "id": "kL5dpxY1FVbN",
        "outputId": "2fe6bf11-337d-4377-e5a9-681a685565c6",
        "colab": {
          "base_uri": "https://localhost:8080/",
          "height": 3710
        }
      },
      "cell_type": "code",
      "source": [
        "training = model.fit_generator(train_batches, steps_per_epoch=stepsPerEpoche, \n",
        "                   validation_data=validation_batches, validation_steps=validationSteps,\n",
        "                   epochs=50, verbose=2, callbacks=[checkpointer])"
      ],
      "execution_count": 0,
      "outputs": [
        {
          "output_type": "stream",
          "text": [
            "Epoch 1/50\n",
            " - 3s - loss: 1.2552 - acc: 0.5625 - val_loss: 1.0283 - val_acc: 0.5469\n",
            "\n",
            "Epoch 00001: val_loss improved from inf to 1.02829, saving model to drive/My Drive/Resultado/Colorido/weights_architecture_5.hdf5\n",
            "Epoch 2/50\n",
            " - 0s - loss: 0.8645 - acc: 0.6875 - val_loss: 0.5879 - val_acc: 0.7656\n",
            "\n",
            "Epoch 00002: val_loss improved from 1.02829 to 0.58785, saving model to drive/My Drive/Resultado/Colorido/weights_architecture_5.hdf5\n",
            "Epoch 3/50\n",
            " - 0s - loss: 0.7541 - acc: 0.7125 - val_loss: 0.8615 - val_acc: 0.5000\n",
            "\n",
            "Epoch 00003: val_loss did not improve from 0.58785\n",
            "Epoch 4/50\n",
            " - 0s - loss: 0.5284 - acc: 0.7906 - val_loss: 0.6368 - val_acc: 0.7903\n",
            "\n",
            "Epoch 00004: val_loss did not improve from 0.58785\n",
            "Epoch 5/50\n",
            " - 0s - loss: 0.5427 - acc: 0.7875 - val_loss: 0.7693 - val_acc: 0.6250\n",
            "\n",
            "Epoch 00005: val_loss did not improve from 0.58785\n",
            "Epoch 6/50\n",
            " - 0s - loss: 0.7195 - acc: 0.7219 - val_loss: 1.3292 - val_acc: 0.4531\n",
            "\n",
            "Epoch 00006: val_loss did not improve from 0.58785\n",
            "Epoch 7/50\n",
            " - 0s - loss: 0.4469 - acc: 0.8625 - val_loss: 0.8504 - val_acc: 0.5938\n",
            "\n",
            "Epoch 00007: val_loss did not improve from 0.58785\n",
            "Epoch 8/50\n",
            " - 0s - loss: 0.4523 - acc: 0.8375 - val_loss: 0.7738 - val_acc: 0.5000\n",
            "\n",
            "Epoch 00008: val_loss did not improve from 0.58785\n",
            "Epoch 9/50\n",
            " - 1s - loss: 0.3728 - acc: 0.8625 - val_loss: 0.4980 - val_acc: 0.7656\n",
            "\n",
            "Epoch 00009: val_loss improved from 0.58785 to 0.49796, saving model to drive/My Drive/Resultado/Colorido/weights_architecture_5.hdf5\n",
            "Epoch 10/50\n",
            " - 1s - loss: 0.4409 - acc: 0.8344 - val_loss: 0.4506 - val_acc: 0.7969\n",
            "\n",
            "Epoch 00010: val_loss improved from 0.49796 to 0.45057, saving model to drive/My Drive/Resultado/Colorido/weights_architecture_5.hdf5\n",
            "Epoch 11/50\n",
            " - 1s - loss: 0.3186 - acc: 0.8969 - val_loss: 0.9109 - val_acc: 0.5625\n",
            "\n",
            "Epoch 00011: val_loss did not improve from 0.45057\n",
            "Epoch 12/50\n",
            " - 1s - loss: 0.3701 - acc: 0.8625 - val_loss: 0.9616 - val_acc: 0.5469\n",
            "\n",
            "Epoch 00012: val_loss did not improve from 0.45057\n",
            "Epoch 13/50\n",
            " - 1s - loss: 0.4391 - acc: 0.8563 - val_loss: 1.2639 - val_acc: 0.3125\n",
            "\n",
            "Epoch 00013: val_loss did not improve from 0.45057\n",
            "Epoch 14/50\n",
            " - 1s - loss: 0.3744 - acc: 0.9062 - val_loss: 0.7844 - val_acc: 0.6250\n",
            "\n",
            "Epoch 00014: val_loss did not improve from 0.45057\n",
            "Epoch 15/50\n",
            " - 1s - loss: 0.5820 - acc: 0.7632 - val_loss: 0.4992 - val_acc: 0.7656\n",
            "\n",
            "Epoch 00015: val_loss did not improve from 0.45057\n",
            "Epoch 16/50\n",
            " - 1s - loss: 0.3204 - acc: 0.8969 - val_loss: 0.8138 - val_acc: 0.6719\n",
            "\n",
            "Epoch 00016: val_loss did not improve from 0.45057\n",
            "Epoch 17/50\n",
            " - 1s - loss: 0.3400 - acc: 0.8750 - val_loss: 0.5294 - val_acc: 0.7812\n",
            "\n",
            "Epoch 00017: val_loss did not improve from 0.45057\n",
            "Epoch 18/50\n",
            " - 1s - loss: 0.3995 - acc: 0.8594 - val_loss: 0.4612 - val_acc: 0.9062\n",
            "\n",
            "Epoch 00018: val_loss did not improve from 0.45057\n",
            "Epoch 19/50\n",
            " - 1s - loss: 0.3649 - acc: 0.8500 - val_loss: 0.5588 - val_acc: 0.6406\n",
            "\n",
            "Epoch 00019: val_loss did not improve from 0.45057\n",
            "Epoch 20/50\n",
            " - 1s - loss: 0.3282 - acc: 0.8812 - val_loss: 0.8283 - val_acc: 0.4531\n",
            "\n",
            "Epoch 00020: val_loss did not improve from 0.45057\n",
            "Epoch 21/50\n",
            " - 1s - loss: 0.3781 - acc: 0.8312 - val_loss: 0.6570 - val_acc: 0.5781\n",
            "\n",
            "Epoch 00021: val_loss did not improve from 0.45057\n",
            "Epoch 22/50\n",
            " - 1s - loss: 0.2586 - acc: 0.9219 - val_loss: 0.7181 - val_acc: 0.6094\n",
            "\n",
            "Epoch 00022: val_loss did not improve from 0.45057\n",
            "Epoch 23/50\n",
            " - 1s - loss: 0.2476 - acc: 0.9219 - val_loss: 0.4844 - val_acc: 0.8125\n",
            "\n",
            "Epoch 00023: val_loss did not improve from 0.45057\n",
            "Epoch 24/50\n",
            " - 1s - loss: 0.2910 - acc: 0.8937 - val_loss: 0.9704 - val_acc: 0.6250\n",
            "\n",
            "Epoch 00024: val_loss did not improve from 0.45057\n",
            "Epoch 25/50\n",
            " - 1s - loss: 0.2518 - acc: 0.9281 - val_loss: 1.0716 - val_acc: 0.5625\n",
            "\n",
            "Epoch 00025: val_loss did not improve from 0.45057\n",
            "Epoch 26/50\n",
            " - 1s - loss: 0.3087 - acc: 0.8844 - val_loss: 0.3553 - val_acc: 0.9375\n",
            "\n",
            "Epoch 00026: val_loss improved from 0.45057 to 0.35534, saving model to drive/My Drive/Resultado/Colorido/weights_architecture_5.hdf5\n",
            "Epoch 27/50\n",
            " - 1s - loss: 0.3029 - acc: 0.9031 - val_loss: 0.4739 - val_acc: 0.8281\n",
            "\n",
            "Epoch 00027: val_loss did not improve from 0.35534\n",
            "Epoch 28/50\n",
            " - 1s - loss: 0.3772 - acc: 0.8594 - val_loss: 0.6011 - val_acc: 0.6406\n",
            "\n",
            "Epoch 00028: val_loss did not improve from 0.35534\n",
            "Epoch 29/50\n",
            " - 1s - loss: 0.2041 - acc: 0.9406 - val_loss: 0.6499 - val_acc: 0.6562\n",
            "\n",
            "Epoch 00029: val_loss did not improve from 0.35534\n",
            "Epoch 30/50\n",
            " - 1s - loss: 0.3117 - acc: 0.8906 - val_loss: 0.8721 - val_acc: 0.5625\n",
            "\n",
            "Epoch 00030: val_loss did not improve from 0.35534\n",
            "Epoch 31/50\n",
            " - 1s - loss: 0.3320 - acc: 0.8906 - val_loss: 0.4631 - val_acc: 0.8906\n",
            "\n",
            "Epoch 00031: val_loss did not improve from 0.35534\n",
            "Epoch 32/50\n",
            " - 1s - loss: 0.2846 - acc: 0.9031 - val_loss: 0.5625 - val_acc: 0.7031\n",
            "\n",
            "Epoch 00032: val_loss did not improve from 0.35534\n",
            "Epoch 33/50\n",
            " - 1s - loss: 0.2877 - acc: 0.9031 - val_loss: 1.1281 - val_acc: 0.5312\n",
            "\n",
            "Epoch 00033: val_loss did not improve from 0.35534\n",
            "Epoch 34/50\n",
            " - 1s - loss: 0.2735 - acc: 0.9156 - val_loss: 0.3460 - val_acc: 0.9062\n",
            "\n",
            "Epoch 00034: val_loss improved from 0.35534 to 0.34601, saving model to drive/My Drive/Resultado/Colorido/weights_architecture_5.hdf5\n",
            "Epoch 35/50\n",
            " - 1s - loss: 0.2412 - acc: 0.9437 - val_loss: 0.6815 - val_acc: 0.5968\n",
            "\n",
            "Epoch 00035: val_loss did not improve from 0.34601\n",
            "Epoch 36/50\n",
            " - 1s - loss: 0.2252 - acc: 0.9250 - val_loss: 0.6025 - val_acc: 0.6406\n",
            "\n",
            "Epoch 00036: val_loss did not improve from 0.34601\n",
            "Epoch 37/50\n",
            " - 1s - loss: 0.3389 - acc: 0.8688 - val_loss: 0.8825 - val_acc: 0.6094\n",
            "\n",
            "Epoch 00037: val_loss did not improve from 0.34601\n",
            "Epoch 38/50\n",
            " - 1s - loss: 0.2005 - acc: 0.9594 - val_loss: 0.8907 - val_acc: 0.5312\n",
            "\n",
            "Epoch 00038: val_loss did not improve from 0.34601\n",
            "Epoch 39/50\n",
            " - 1s - loss: 0.3037 - acc: 0.9094 - val_loss: 0.4746 - val_acc: 0.7812\n",
            "\n",
            "Epoch 00039: val_loss did not improve from 0.34601\n",
            "Epoch 40/50\n",
            " - 1s - loss: 0.1760 - acc: 0.9562 - val_loss: 0.5997 - val_acc: 0.6719\n",
            "\n",
            "Epoch 00040: val_loss did not improve from 0.34601\n",
            "Epoch 41/50\n",
            " - 1s - loss: 0.1858 - acc: 0.9437 - val_loss: 0.4239 - val_acc: 0.8750\n",
            "\n",
            "Epoch 00041: val_loss did not improve from 0.34601\n",
            "Epoch 42/50\n",
            " - 1s - loss: 0.2765 - acc: 0.8986 - val_loss: 0.4559 - val_acc: 0.7969\n",
            "\n",
            "Epoch 00042: val_loss did not improve from 0.34601\n",
            "Epoch 43/50\n",
            " - 1s - loss: 0.3683 - acc: 0.8625 - val_loss: 0.4467 - val_acc: 0.7812\n",
            "\n",
            "Epoch 00043: val_loss did not improve from 0.34601\n",
            "Epoch 44/50\n",
            " - 1s - loss: 0.2528 - acc: 0.9375 - val_loss: 0.6280 - val_acc: 0.7188\n",
            "\n",
            "Epoch 00044: val_loss did not improve from 0.34601\n",
            "Epoch 45/50\n",
            " - 1s - loss: 0.2844 - acc: 0.9375 - val_loss: 0.9958 - val_acc: 0.4531\n",
            "\n",
            "Epoch 00045: val_loss did not improve from 0.34601\n",
            "Epoch 46/50\n",
            " - 1s - loss: 0.3432 - acc: 0.8844 - val_loss: 0.9002 - val_acc: 0.5625\n",
            "\n",
            "Epoch 00046: val_loss did not improve from 0.34601\n",
            "Epoch 47/50\n",
            " - 1s - loss: 0.2895 - acc: 0.9156 - val_loss: 0.4209 - val_acc: 0.8438\n",
            "\n",
            "Epoch 00047: val_loss did not improve from 0.34601\n",
            "Epoch 48/50\n",
            " - 1s - loss: 0.1921 - acc: 0.9313 - val_loss: 1.0883 - val_acc: 0.5312\n",
            "\n",
            "Epoch 00048: val_loss did not improve from 0.34601\n",
            "Epoch 49/50\n",
            " - 1s - loss: 0.3727 - acc: 0.8500 - val_loss: 0.4557 - val_acc: 0.7969\n",
            "\n",
            "Epoch 00049: val_loss did not improve from 0.34601\n",
            "Epoch 50/50\n",
            " - 1s - loss: 0.3165 - acc: 0.8812 - val_loss: 0.4564 - val_acc: 0.8125\n",
            "\n",
            "Epoch 00050: val_loss did not improve from 0.34601\n"
          ],
          "name": "stdout"
        }
      ]
    },
    {
      "metadata": {
        "colab_type": "code",
        "id": "Ff7wwKnOFVbb",
        "colab": {}
      },
      "cell_type": "code",
      "source": [
        "model.load_weights('drive/My Drive/Resultado/Colorido/weights_' + architecture + '.hdf5')"
      ],
      "execution_count": 0,
      "outputs": []
    },
    {
      "metadata": {
        "colab_type": "code",
        "id": "Iw5rgYTXFVbl",
        "outputId": "3a76b200-bd7f-45d0-bc67-289935bf36f9",
        "colab": {
          "base_uri": "https://localhost:8080/",
          "height": 380
        }
      },
      "cell_type": "code",
      "source": [
        "# plotar loss e accuracy para os datasets 'train' e 'test'\n",
        "plt.style.use(\"ggplot\")\n",
        "plt.figure()\n",
        "plt.plot(training.history['acc'], label='Accuracy')\n",
        "plt.plot(training.history['loss'], label='Loss')\n",
        "plt.xlabel('Epochs')\n",
        "plt.ylabel('Accuracy')\n",
        "plt.title(\"Training Loss and Accuracy\")\n",
        "plt.ylabel(\"Loss/Accuracy\")\n",
        "plt.legend()\n",
        "plt.savefig('drive/My Drive/Resultado/Colorido/' + architecture + '.png', bbox_inches='tight')"
      ],
      "execution_count": 0,
      "outputs": [
        {
          "output_type": "display_data",
          "data": {
            "image/png": "[encoded data removed]",
            "text/plain": [
              "<matplotlib.figure.Figure at 0x7f8ab50ef710>"
            ]
          },
          "metadata": {
            "tags": []
          }
        }
      ]
    },
    {
      "metadata": {
        "colab_type": "text",
        "id": "A7_Jy2WUFVbt"
      },
      "cell_type": "markdown",
      "source": [
        "### Teste"
      ]
    },
    {
      "metadata": {
        "colab_type": "code",
        "outputId": "7254772e-48b2-4654-ab19-1aa155215e6c",
        "id": "b4IWaCBPFVbv",
        "colab": {
          "base_uri": "https://localhost:8080/",
          "height": 74
        }
      },
      "cell_type": "code",
      "source": [
        "y_true, y_predict = ler_images_teste(architecture)"
      ],
      "execution_count": 0,
      "outputs": [
        {
          "output_type": "stream",
          "text": [
            "/usr/local/lib/python3.6/dist-packages/skimage/transform/_warps.py:84: UserWarning: The default mode, 'constant', will be changed to 'reflect' in skimage 0.15.\n",
            "  warn(\"The default mode, 'constant', will be changed to 'reflect' in \"\n"
          ],
          "name": "stderr"
        }
      ]
    },
    {
      "metadata": {
        "colab_type": "code",
        "id": "v5VXY-KLFVb1",
        "outputId": "d6cf3c0a-5b19-46a1-c9bd-853c79542c6a",
        "colab": {
          "base_uri": "https://localhost:8080/",
          "height": 35
        }
      },
      "cell_type": "code",
      "source": [
        "results[architecture] = precision_score(y_true, y_predict, average='binary')\n",
        "print('Test Precision: {:.2f}%'\n",
        "      .format(100 * results[architecture]))"
      ],
      "execution_count": 0,
      "outputs": [
        {
          "output_type": "stream",
          "text": [
            "Test Precision: 4.94%\n"
          ],
          "name": "stdout"
        }
      ]
    },
    {
      "metadata": {
        "id": "apfIeirYD2N7",
        "colab_type": "text"
      },
      "cell_type": "markdown",
      "source": [
        "## 6 tentativa Precision: 4.80%"
      ]
    },
    {
      "metadata": {
        "colab_type": "text",
        "id": "xaxcjuxn7BAH"
      },
      "cell_type": "markdown",
      "source": [
        "Modelo adaptado do **Lucas Valentim**\n",
        "\n",
        "*   Sem os **dropout**\n",
        "*   Função **SGD** para compilação\n",
        "*   **BatchNormalization** antes da ultima camada Dense\n"
      ]
    },
    {
      "metadata": {
        "colab_type": "code",
        "id": "QQFrxD_Rj9wz",
        "colab": {}
      },
      "cell_type": "code",
      "source": [
        "architecture = 'architecture_6'"
      ],
      "execution_count": 0,
      "outputs": []
    },
    {
      "metadata": {
        "id": "oQ6BoR4hEGjh",
        "colab_type": "text"
      },
      "cell_type": "markdown",
      "source": [
        "### Modelo"
      ]
    },
    {
      "metadata": {
        "colab_type": "code",
        "id": "C2UuO-jqD44u",
        "colab": {}
      },
      "cell_type": "code",
      "source": [
        "from keras.layers import Conv2D, MaxPooling2D, GlobalMaxPooling2D, BatchNormalization\n",
        "from keras.regularizers import l2\n",
        "\n",
        "model = Sequential()\n",
        "\n",
        "model.add(Conv2D(32, (3, 3), activation='relu', kernel_regularizer=l2(1e-4), \n",
        "                 input_shape=(None, None, 3)))\n",
        "model.add(BatchNormalization())\n",
        "model.add(Conv2D(32, (3, 3), activation='relu', kernel_regularizer=l2(1e-4)))\n",
        "model.add(BatchNormalization())\n",
        "model.add(MaxPooling2D((2, 2)))\n",
        "\n",
        "model.add(Conv2D(64, (3, 3), activation='relu', kernel_regularizer=l2(1e-4)))\n",
        "model.add(BatchNormalization())\n",
        "model.add(Conv2D(64, (3, 3), activation='relu', kernel_regularizer=l2(1e-4)))\n",
        "model.add(BatchNormalization())\n",
        "model.add(MaxPooling2D((2, 2)))\n",
        "\n",
        "model.add(Conv2D(128, (1,1), kernel_regularizer=l2(1e-4)))\n",
        "model.add(GlobalMaxPooling2D())\n",
        "\n",
        "model.add(Dense(256, activation='relu', kernel_regularizer=l2(1e-4)))\n",
        "model.add(BatchNormalization())\n",
        "model.add(Dense(2, activation='sigmoid', kernel_regularizer=l2(1e-4)))"
      ],
      "execution_count": 0,
      "outputs": []
    },
    {
      "metadata": {
        "colab_type": "code",
        "id": "I7mu97znD45M",
        "colab": {}
      },
      "cell_type": "code",
      "source": [
        "model.compile(SGD(lr=0.03, momentum=0.0, decay=0.0, nesterov=False), \n",
        "              loss='binary_crossentropy', metrics=['accuracy'])"
      ],
      "execution_count": 0,
      "outputs": []
    },
    {
      "metadata": {
        "colab_type": "text",
        "id": "7OF1CBcGFWwI"
      },
      "cell_type": "markdown",
      "source": [
        "### Treino\n"
      ]
    },
    {
      "metadata": {
        "colab_type": "code",
        "id": "70HkYs8VFWwV",
        "colab": {}
      },
      "cell_type": "code",
      "source": [
        "checkpointer = ModelCheckpoint(filepath='drive/My Drive/Resultado/Colorido/weights_' + architecture + '.hdf5', verbose=1, save_best_only=True)"
      ],
      "execution_count": 0,
      "outputs": []
    },
    {
      "metadata": {
        "colab_type": "code",
        "id": "CMUZOHCEFWwn",
        "outputId": "454a7c6f-e786-48fc-a093-df072d54d72a",
        "colab": {
          "base_uri": "https://localhost:8080/",
          "height": 3710
        }
      },
      "cell_type": "code",
      "source": [
        "training = model.fit_generator(train_batches, steps_per_epoch=stepsPerEpoche, \n",
        "                   validation_data=validation_batches, validation_steps=validationSteps,\n",
        "                   epochs=50, verbose=2, callbacks=[checkpointer])"
      ],
      "execution_count": 0,
      "outputs": [
        {
          "output_type": "stream",
          "text": [
            "Epoch 1/50\n",
            " - 4s - loss: 0.5855 - acc: 0.7531 - val_loss: 4.9565 - val_acc: 0.5000\n",
            "\n",
            "Epoch 00001: val_loss improved from inf to 4.95652, saving model to drive/My Drive/Resultado/Colorido/weights_architecture_6.hdf5\n",
            "Epoch 2/50\n",
            " - 0s - loss: 0.4295 - acc: 0.8500 - val_loss: 1.2303 - val_acc: 0.5469\n",
            "\n",
            "Epoch 00002: val_loss improved from 4.95652 to 1.23031, saving model to drive/My Drive/Resultado/Colorido/weights_architecture_6.hdf5\n",
            "Epoch 3/50\n",
            " - 0s - loss: 0.4160 - acc: 0.8125 - val_loss: 1.8433 - val_acc: 0.5000\n",
            "\n",
            "Epoch 00003: val_loss did not improve from 1.23031\n",
            "Epoch 4/50\n",
            " - 0s - loss: 0.3099 - acc: 0.8812 - val_loss: 1.3212 - val_acc: 0.5625\n",
            "\n",
            "Epoch 00004: val_loss did not improve from 1.23031\n",
            "Epoch 5/50\n",
            " - 0s - loss: 0.2980 - acc: 0.8937 - val_loss: 0.4221 - val_acc: 0.8710\n",
            "\n",
            "Epoch 00005: val_loss improved from 1.23031 to 0.42206, saving model to drive/My Drive/Resultado/Colorido/weights_architecture_6.hdf5\n",
            "Epoch 6/50\n",
            " - 0s - loss: 0.2915 - acc: 0.9094 - val_loss: 0.8667 - val_acc: 0.7031\n",
            "\n",
            "Epoch 00006: val_loss did not improve from 0.42206\n",
            "Epoch 7/50\n",
            " - 0s - loss: 0.3006 - acc: 0.9031 - val_loss: 0.8295 - val_acc: 0.6562\n",
            "\n",
            "Epoch 00007: val_loss did not improve from 0.42206\n",
            "Epoch 8/50\n",
            " - 1s - loss: 0.3217 - acc: 0.8781 - val_loss: 0.9733 - val_acc: 0.6875\n",
            "\n",
            "Epoch 00008: val_loss did not improve from 0.42206\n",
            "Epoch 9/50\n",
            " - 1s - loss: 0.2457 - acc: 0.9281 - val_loss: 0.1817 - val_acc: 0.9531\n",
            "\n",
            "Epoch 00009: val_loss improved from 0.42206 to 0.18172, saving model to drive/My Drive/Resultado/Colorido/weights_architecture_6.hdf5\n",
            "Epoch 10/50\n",
            " - 1s - loss: 0.2557 - acc: 0.9156 - val_loss: 0.3536 - val_acc: 0.8125\n",
            "\n",
            "Epoch 00010: val_loss did not improve from 0.18172\n",
            "Epoch 11/50\n",
            " - 1s - loss: 0.3596 - acc: 0.8875 - val_loss: 1.3182 - val_acc: 0.6719\n",
            "\n",
            "Epoch 00011: val_loss did not improve from 0.18172\n",
            "Epoch 12/50\n",
            " - 1s - loss: 0.3256 - acc: 0.9188 - val_loss: 1.0269 - val_acc: 0.7031\n",
            "\n",
            "Epoch 00012: val_loss did not improve from 0.18172\n",
            "Epoch 13/50\n",
            " - 1s - loss: 0.3335 - acc: 0.8969 - val_loss: 0.4830 - val_acc: 0.7812\n",
            "\n",
            "Epoch 00013: val_loss did not improve from 0.18172\n",
            "Epoch 14/50\n",
            " - 1s - loss: 0.2404 - acc: 0.9344 - val_loss: 0.9473 - val_acc: 0.6719\n",
            "\n",
            "Epoch 00014: val_loss did not improve from 0.18172\n",
            "Epoch 15/50\n",
            " - 1s - loss: 0.2585 - acc: 0.9313 - val_loss: 0.5094 - val_acc: 0.7656\n",
            "\n",
            "Epoch 00015: val_loss did not improve from 0.18172\n",
            "Epoch 16/50\n",
            " - 1s - loss: 0.2876 - acc: 0.8906 - val_loss: 0.9636 - val_acc: 0.6562\n",
            "\n",
            "Epoch 00016: val_loss did not improve from 0.18172\n",
            "Epoch 17/50\n",
            " - 1s - loss: 0.2309 - acc: 0.9375 - val_loss: 1.5602 - val_acc: 0.5781\n",
            "\n",
            "Epoch 00017: val_loss did not improve from 0.18172\n",
            "Epoch 18/50\n",
            " - 1s - loss: 0.2502 - acc: 0.9219 - val_loss: 0.4985 - val_acc: 0.8281\n",
            "\n",
            "Epoch 00018: val_loss did not improve from 0.18172\n",
            "Epoch 19/50\n",
            " - 1s - loss: 0.1912 - acc: 0.9523 - val_loss: 1.2229 - val_acc: 0.6250\n",
            "\n",
            "Epoch 00019: val_loss did not improve from 0.18172\n",
            "Epoch 20/50\n",
            " - 1s - loss: 0.2500 - acc: 0.9281 - val_loss: 2.7292 - val_acc: 0.5312\n",
            "\n",
            "Epoch 00020: val_loss did not improve from 0.18172\n",
            "Epoch 21/50\n",
            " - 1s - loss: 0.3025 - acc: 0.8937 - val_loss: 1.5722 - val_acc: 0.5312\n",
            "\n",
            "Epoch 00021: val_loss did not improve from 0.18172\n",
            "Epoch 22/50\n",
            " - 1s - loss: 0.2104 - acc: 0.9344 - val_loss: 1.3888 - val_acc: 0.6250\n",
            "\n",
            "Epoch 00022: val_loss did not improve from 0.18172\n",
            "Epoch 23/50\n",
            " - 1s - loss: 0.2146 - acc: 0.9406 - val_loss: 2.0452 - val_acc: 0.6562\n",
            "\n",
            "Epoch 00023: val_loss did not improve from 0.18172\n",
            "Epoch 24/50\n",
            " - 1s - loss: 0.2896 - acc: 0.8906 - val_loss: 2.4147 - val_acc: 0.4844\n",
            "\n",
            "Epoch 00024: val_loss did not improve from 0.18172\n",
            "Epoch 25/50\n",
            " - 1s - loss: 0.2024 - acc: 0.9281 - val_loss: 2.0030 - val_acc: 0.5000\n",
            "\n",
            "Epoch 00025: val_loss did not improve from 0.18172\n",
            "Epoch 26/50\n",
            " - 1s - loss: 0.1770 - acc: 0.9594 - val_loss: 0.5294 - val_acc: 0.7656\n",
            "\n",
            "Epoch 00026: val_loss did not improve from 0.18172\n",
            "Epoch 27/50\n",
            " - 1s - loss: 0.2025 - acc: 0.9437 - val_loss: 1.1520 - val_acc: 0.5938\n",
            "\n",
            "Epoch 00027: val_loss did not improve from 0.18172\n",
            "Epoch 28/50\n",
            " - 1s - loss: 0.2457 - acc: 0.9250 - val_loss: 0.8399 - val_acc: 0.6875\n",
            "\n",
            "Epoch 00028: val_loss did not improve from 0.18172\n",
            "Epoch 29/50\n",
            " - 1s - loss: 0.3170 - acc: 0.8875 - val_loss: 1.1297 - val_acc: 0.5625\n",
            "\n",
            "Epoch 00029: val_loss did not improve from 0.18172\n",
            "Epoch 30/50\n",
            " - 1s - loss: 0.2549 - acc: 0.9219 - val_loss: 0.4983 - val_acc: 0.7500\n",
            "\n",
            "Epoch 00030: val_loss did not improve from 0.18172\n",
            "Epoch 31/50\n",
            " - 1s - loss: 0.2060 - acc: 0.9344 - val_loss: 0.9570 - val_acc: 0.6875\n",
            "\n",
            "Epoch 00031: val_loss did not improve from 0.18172\n",
            "Epoch 32/50\n",
            " - 1s - loss: 0.1786 - acc: 0.9375 - val_loss: 0.3796 - val_acc: 0.8594\n",
            "\n",
            "Epoch 00032: val_loss did not improve from 0.18172\n",
            "Epoch 33/50\n",
            " - 1s - loss: 0.1571 - acc: 0.9562 - val_loss: 0.4459 - val_acc: 0.8438\n",
            "\n",
            "Epoch 00033: val_loss did not improve from 0.18172\n",
            "Epoch 34/50\n",
            " - 1s - loss: 0.2488 - acc: 0.9250 - val_loss: 2.1584 - val_acc: 0.4688\n",
            "\n",
            "Epoch 00034: val_loss did not improve from 0.18172\n",
            "Epoch 35/50\n",
            " - 1s - loss: 0.2852 - acc: 0.9156 - val_loss: 2.3994 - val_acc: 0.5469\n",
            "\n",
            "Epoch 00035: val_loss did not improve from 0.18172\n",
            "Epoch 36/50\n",
            " - 1s - loss: 0.2977 - acc: 0.8969 - val_loss: 0.4166 - val_acc: 0.7903\n",
            "\n",
            "Epoch 00036: val_loss did not improve from 0.18172\n",
            "Epoch 37/50\n",
            " - 1s - loss: 0.2825 - acc: 0.9188 - val_loss: 2.9142 - val_acc: 0.4219\n",
            "\n",
            "Epoch 00037: val_loss did not improve from 0.18172\n",
            "Epoch 38/50\n",
            " - 1s - loss: 0.2205 - acc: 0.9313 - val_loss: 2.0521 - val_acc: 0.5938\n",
            "\n",
            "Epoch 00038: val_loss did not improve from 0.18172\n",
            "Epoch 39/50\n",
            " - 1s - loss: 0.2044 - acc: 0.9437 - val_loss: 1.8026 - val_acc: 0.4375\n",
            "\n",
            "Epoch 00039: val_loss did not improve from 0.18172\n",
            "Epoch 40/50\n",
            " - 1s - loss: 0.2430 - acc: 0.9125 - val_loss: 1.8107 - val_acc: 0.5625\n",
            "\n",
            "Epoch 00040: val_loss did not improve from 0.18172\n",
            "Epoch 41/50\n",
            " - 1s - loss: 0.1472 - acc: 0.9656 - val_loss: 1.8755 - val_acc: 0.4844\n",
            "\n",
            "Epoch 00041: val_loss did not improve from 0.18172\n",
            "Epoch 42/50\n",
            " - 1s - loss: 0.2890 - acc: 0.8937 - val_loss: 1.6287 - val_acc: 0.6094\n",
            "\n",
            "Epoch 00042: val_loss did not improve from 0.18172\n",
            "Epoch 43/50\n",
            " - 1s - loss: 0.2250 - acc: 0.9406 - val_loss: 2.7451 - val_acc: 0.5625\n",
            "\n",
            "Epoch 00043: val_loss did not improve from 0.18172\n",
            "Epoch 44/50\n",
            " - 1s - loss: 0.1993 - acc: 0.9406 - val_loss: 0.3297 - val_acc: 0.8906\n",
            "\n",
            "Epoch 00044: val_loss did not improve from 0.18172\n",
            "Epoch 45/50\n",
            " - 1s - loss: 0.1669 - acc: 0.9500 - val_loss: 0.8318 - val_acc: 0.7188\n",
            "\n",
            "Epoch 00045: val_loss did not improve from 0.18172\n",
            "Epoch 46/50\n",
            " - 1s - loss: 0.2355 - acc: 0.9188 - val_loss: 0.4523 - val_acc: 0.7812\n",
            "\n",
            "Epoch 00046: val_loss did not improve from 0.18172\n",
            "Epoch 47/50\n",
            " - 1s - loss: 0.1738 - acc: 0.9627 - val_loss: 0.9162 - val_acc: 0.7500\n",
            "\n",
            "Epoch 00047: val_loss did not improve from 0.18172\n",
            "Epoch 48/50\n",
            " - 1s - loss: 0.2085 - acc: 0.9344 - val_loss: 0.8984 - val_acc: 0.7500\n",
            "\n",
            "Epoch 00048: val_loss did not improve from 0.18172\n",
            "Epoch 49/50\n",
            " - 1s - loss: 0.1819 - acc: 0.9500 - val_loss: 0.2859 - val_acc: 0.8906\n",
            "\n",
            "Epoch 00049: val_loss did not improve from 0.18172\n",
            "Epoch 50/50\n",
            " - 1s - loss: 0.1769 - acc: 0.9625 - val_loss: 1.2438 - val_acc: 0.5469\n",
            "\n",
            "Epoch 00050: val_loss did not improve from 0.18172\n"
          ],
          "name": "stdout"
        }
      ]
    },
    {
      "metadata": {
        "colab_type": "code",
        "id": "nR0vN5spFWwx",
        "colab": {}
      },
      "cell_type": "code",
      "source": [
        "model.load_weights('drive/My Drive/Resultado/Colorido/weights_' + architecture + '.hdf5')"
      ],
      "execution_count": 0,
      "outputs": []
    },
    {
      "metadata": {
        "colab_type": "code",
        "id": "Tt2oHR6WFWw3",
        "outputId": "6ba6921c-9a05-4a90-b949-92a4dceca7bc",
        "colab": {
          "base_uri": "https://localhost:8080/",
          "height": 380
        }
      },
      "cell_type": "code",
      "source": [
        "# plotar loss e accuracy para os datasets 'train' e 'test'\n",
        "plt.style.use(\"ggplot\")\n",
        "plt.figure()\n",
        "plt.plot(training.history['acc'], label='Accuracy')\n",
        "plt.plot(training.history['loss'], label='Loss')\n",
        "plt.xlabel('Epochs')\n",
        "plt.ylabel('Accuracy')\n",
        "plt.title(\"Training Loss and Accuracy\")\n",
        "plt.ylabel(\"Loss/Accuracy\")\n",
        "plt.legend()\n",
        "plt.savefig('drive/My Drive/Resultado/Colorido/' + architecture + '.png', bbox_inches='tight')"
      ],
      "execution_count": 0,
      "outputs": [
        {
          "output_type": "display_data",
          "data": {
            "image/png": "[encoded data removed]",
            "text/plain": [
              "<matplotlib.figure.Figure at 0x7f8ab42f8710>"
            ]
          },
          "metadata": {
            "tags": []
          }
        }
      ]
    },
    {
      "metadata": {
        "colab_type": "text",
        "id": "EdoUg--pFWw-"
      },
      "cell_type": "markdown",
      "source": [
        "### Teste"
      ]
    },
    {
      "metadata": {
        "colab_type": "code",
        "outputId": "65adca26-b6f7-46de-aa1c-5ad073c73b4e",
        "id": "GCPqD2CEFWxB",
        "colab": {
          "base_uri": "https://localhost:8080/",
          "height": 74
        }
      },
      "cell_type": "code",
      "source": [
        "y_true, y_predict = ler_images_teste(architecture)"
      ],
      "execution_count": 0,
      "outputs": [
        {
          "output_type": "stream",
          "text": [
            "/usr/local/lib/python3.6/dist-packages/skimage/transform/_warps.py:84: UserWarning: The default mode, 'constant', will be changed to 'reflect' in skimage 0.15.\n",
            "  warn(\"The default mode, 'constant', will be changed to 'reflect' in \"\n"
          ],
          "name": "stderr"
        }
      ]
    },
    {
      "metadata": {
        "colab_type": "code",
        "id": "L7gP-PPbFWxI",
        "outputId": "e1421005-4af3-4a02-ecca-07e7e11be803",
        "colab": {
          "base_uri": "https://localhost:8080/",
          "height": 35
        }
      },
      "cell_type": "code",
      "source": [
        "results[architecture] = precision_score(y_true, y_predict, average='binary')\n",
        "print('Test Precision: {:.2f}%'\n",
        "      .format(100 * results[architecture]))"
      ],
      "execution_count": 0,
      "outputs": [
        {
          "output_type": "stream",
          "text": [
            "Test Precision: 4.80%\n"
          ],
          "name": "stdout"
        }
      ]
    },
    {
      "metadata": {
        "id": "5gk7vmYPHddj",
        "colab_type": "text"
      },
      "cell_type": "markdown",
      "source": [
        "## 7 tentativa Precision: 3.88%"
      ]
    },
    {
      "metadata": {
        "colab_type": "text",
        "id": "lxzyd-4L422r"
      },
      "cell_type": "markdown",
      "source": [
        "Modelo adaptado do **Lucas Valentim**\n",
        "\n",
        "*   Sem os **dropout**\n",
        "*   Função **Adadelta** para compilação\n",
        "*   **BatchNormalization** antes da ultima camada Dense\n"
      ]
    },
    {
      "metadata": {
        "colab_type": "code",
        "id": "ufy24IuYkBYc",
        "colab": {}
      },
      "cell_type": "code",
      "source": [
        "architecture = 'architecture_7'"
      ],
      "execution_count": 0,
      "outputs": []
    },
    {
      "metadata": {
        "id": "Qx405s6NENSz",
        "colab_type": "text"
      },
      "cell_type": "markdown",
      "source": [
        "### Modelo"
      ]
    },
    {
      "metadata": {
        "colab_type": "code",
        "id": "sIBEdGsyHhJN",
        "colab": {}
      },
      "cell_type": "code",
      "source": [
        "from keras.layers import Conv2D, MaxPooling2D, GlobalMaxPooling2D, BatchNormalization\n",
        "from keras.regularizers import l2\n",
        "from keras.optimizers import Adadelta\n",
        "\n",
        "model = Sequential()\n",
        "\n",
        "model.add(Conv2D(32, (3, 3), activation='relu', kernel_regularizer=l2(1e-4), \n",
        "                 input_shape=(None, None, 3)))\n",
        "model.add(BatchNormalization())\n",
        "model.add(Conv2D(32, (3, 3), activation='relu', kernel_regularizer=l2(1e-4)))\n",
        "model.add(BatchNormalization())\n",
        "model.add(MaxPooling2D((2, 2)))\n",
        "\n",
        "model.add(Conv2D(64, (3, 3), activation='relu', kernel_regularizer=l2(1e-4)))\n",
        "model.add(BatchNormalization())\n",
        "model.add(Conv2D(64, (3, 3), activation='relu', kernel_regularizer=l2(1e-4)))\n",
        "model.add(BatchNormalization())\n",
        "model.add(MaxPooling2D((2, 2)))\n",
        "\n",
        "model.add(Conv2D(128, (1,1), kernel_regularizer=l2(1e-4)))\n",
        "model.add(GlobalMaxPooling2D())\n",
        "\n",
        "model.add(Dense(256, activation='relu', kernel_regularizer=l2(1e-4)))\n",
        "model.add(BatchNormalization())\n",
        "model.add(Dense(2, activation='sigmoid', kernel_regularizer=l2(1e-4)))"
      ],
      "execution_count": 0,
      "outputs": []
    },
    {
      "metadata": {
        "colab_type": "code",
        "id": "P6ZvobfGHhJb",
        "colab": {}
      },
      "cell_type": "code",
      "source": [
        "model.compile(Adadelta(lr=1.0, rho=0.95, epsilon=None, decay=0.0), \n",
        "              loss='binary_crossentropy', metrics=['accuracy'])"
      ],
      "execution_count": 0,
      "outputs": []
    },
    {
      "metadata": {
        "colab_type": "text",
        "id": "tIjiKdnkFX7e"
      },
      "cell_type": "markdown",
      "source": [
        "### Treino\n"
      ]
    },
    {
      "metadata": {
        "colab_type": "code",
        "id": "reKucrg1FX7i",
        "colab": {}
      },
      "cell_type": "code",
      "source": [
        "checkpointer = ModelCheckpoint(filepath='drive/My Drive/Resultado/Colorido/weights_' + architecture + '.hdf5', verbose=1, save_best_only=True)"
      ],
      "execution_count": 0,
      "outputs": []
    },
    {
      "metadata": {
        "colab_type": "code",
        "id": "OvT187HaFX7u",
        "outputId": "e8ec2f6a-3180-438f-9ded-681aca7256f6",
        "colab": {
          "base_uri": "https://localhost:8080/",
          "height": 3710
        }
      },
      "cell_type": "code",
      "source": [
        "training = model.fit_generator(train_batches, steps_per_epoch=stepsPerEpoche, \n",
        "                   validation_data=validation_batches, validation_steps=validationSteps,\n",
        "                   epochs=50, verbose=2, callbacks=[checkpointer])"
      ],
      "execution_count": 0,
      "outputs": [
        {
          "output_type": "stream",
          "text": [
            "Epoch 1/50\n",
            " - 4s - loss: 0.4944 - acc: 0.8063 - val_loss: 0.8788 - val_acc: 0.6094\n",
            "\n",
            "Epoch 00001: val_loss improved from inf to 0.87882, saving model to drive/My Drive/Resultado/Colorido/weights_architecture_7.hdf5\n",
            "Epoch 2/50\n",
            " - 0s - loss: 0.4839 - acc: 0.8125 - val_loss: 1.0816 - val_acc: 0.6875\n",
            "\n",
            "Epoch 00002: val_loss did not improve from 0.87882\n",
            "Epoch 3/50\n",
            " - 0s - loss: 0.4399 - acc: 0.8344 - val_loss: 0.6590 - val_acc: 0.7812\n",
            "\n",
            "Epoch 00003: val_loss improved from 0.87882 to 0.65895, saving model to drive/My Drive/Resultado/Colorido/weights_architecture_7.hdf5\n",
            "Epoch 4/50\n",
            " - 0s - loss: 0.3426 - acc: 0.8812 - val_loss: 1.4067 - val_acc: 0.5156\n",
            "\n",
            "Epoch 00004: val_loss did not improve from 0.65895\n",
            "Epoch 5/50\n",
            " - 0s - loss: 0.3550 - acc: 0.8781 - val_loss: 1.1207 - val_acc: 0.5781\n",
            "\n",
            "Epoch 00005: val_loss did not improve from 0.65895\n",
            "Epoch 6/50\n",
            " - 0s - loss: 0.2632 - acc: 0.9156 - val_loss: 0.5476 - val_acc: 0.7581\n",
            "\n",
            "Epoch 00006: val_loss improved from 0.65895 to 0.54763, saving model to drive/My Drive/Resultado/Colorido/weights_architecture_7.hdf5\n",
            "Epoch 7/50\n",
            " - 0s - loss: 0.3221 - acc: 0.8844 - val_loss: 0.6324 - val_acc: 0.8125\n",
            "\n",
            "Epoch 00007: val_loss did not improve from 0.54763\n",
            "Epoch 8/50\n",
            " - 0s - loss: 0.2406 - acc: 0.9188 - val_loss: 0.5450 - val_acc: 0.7969\n",
            "\n",
            "Epoch 00008: val_loss improved from 0.54763 to 0.54496, saving model to drive/My Drive/Resultado/Colorido/weights_architecture_7.hdf5\n",
            "Epoch 9/50\n",
            " - 0s - loss: 0.3590 - acc: 0.8781 - val_loss: 1.7713 - val_acc: 0.5469\n",
            "\n",
            "Epoch 00009: val_loss did not improve from 0.54496\n",
            "Epoch 10/50\n",
            " - 1s - loss: 0.2750 - acc: 0.9031 - val_loss: 0.4928 - val_acc: 0.7969\n",
            "\n",
            "Epoch 00010: val_loss improved from 0.54496 to 0.49279, saving model to drive/My Drive/Resultado/Colorido/weights_architecture_7.hdf5\n",
            "Epoch 11/50\n",
            " - 1s - loss: 0.2387 - acc: 0.9125 - val_loss: 1.9482 - val_acc: 0.5312\n",
            "\n",
            "Epoch 00011: val_loss did not improve from 0.49279\n",
            "Epoch 12/50\n",
            " - 1s - loss: 0.3342 - acc: 0.8906 - val_loss: 0.8855 - val_acc: 0.7188\n",
            "\n",
            "Epoch 00012: val_loss did not improve from 0.49279\n",
            "Epoch 13/50\n",
            " - 1s - loss: 0.2437 - acc: 0.9125 - val_loss: 1.5437 - val_acc: 0.6562\n",
            "\n",
            "Epoch 00013: val_loss did not improve from 0.49279\n",
            "Epoch 14/50\n",
            " - 1s - loss: 0.3519 - acc: 0.8969 - val_loss: 0.4121 - val_acc: 0.7812\n",
            "\n",
            "Epoch 00014: val_loss improved from 0.49279 to 0.41214, saving model to drive/My Drive/Resultado/Colorido/weights_architecture_7.hdf5\n",
            "Epoch 15/50\n",
            " - 1s - loss: 0.2819 - acc: 0.9156 - val_loss: 0.3050 - val_acc: 0.8750\n",
            "\n",
            "Epoch 00015: val_loss improved from 0.41214 to 0.30501, saving model to drive/My Drive/Resultado/Colorido/weights_architecture_7.hdf5\n",
            "Epoch 16/50\n",
            " - 1s - loss: 0.2550 - acc: 0.9219 - val_loss: 0.4769 - val_acc: 0.7344\n",
            "\n",
            "Epoch 00016: val_loss did not improve from 0.30501\n",
            "Epoch 17/50\n",
            " - 1s - loss: 0.2595 - acc: 0.9281 - val_loss: 0.5280 - val_acc: 0.8438\n",
            "\n",
            "Epoch 00017: val_loss did not improve from 0.30501\n",
            "Epoch 18/50\n",
            " - 1s - loss: 0.2433 - acc: 0.9313 - val_loss: 0.3105 - val_acc: 0.9219\n",
            "\n",
            "Epoch 00018: val_loss did not improve from 0.30501\n",
            "Epoch 19/50\n",
            " - 1s - loss: 0.2600 - acc: 0.9031 - val_loss: 0.4862 - val_acc: 0.8438\n",
            "\n",
            "Epoch 00019: val_loss did not improve from 0.30501\n",
            "Epoch 20/50\n",
            " - 1s - loss: 0.3151 - acc: 0.8969 - val_loss: 0.5405 - val_acc: 0.7656\n",
            "\n",
            "Epoch 00020: val_loss did not improve from 0.30501\n",
            "Epoch 21/50\n",
            " - 1s - loss: 0.2487 - acc: 0.9000 - val_loss: 0.4285 - val_acc: 0.8594\n",
            "\n",
            "Epoch 00021: val_loss did not improve from 0.30501\n",
            "Epoch 22/50\n",
            " - 1s - loss: 0.2623 - acc: 0.9125 - val_loss: 0.5454 - val_acc: 0.7969\n",
            "\n",
            "Epoch 00022: val_loss did not improve from 0.30501\n",
            "Epoch 23/50\n",
            " - 1s - loss: 0.2793 - acc: 0.8969 - val_loss: 0.4154 - val_acc: 0.8594\n",
            "\n",
            "Epoch 00023: val_loss did not improve from 0.30501\n",
            "Epoch 24/50\n",
            " - 1s - loss: 0.2824 - acc: 0.8845 - val_loss: 0.5557 - val_acc: 0.8125\n",
            "\n",
            "Epoch 00024: val_loss did not improve from 0.30501\n",
            "Epoch 25/50\n",
            " - 1s - loss: 0.1828 - acc: 0.9406 - val_loss: 0.4247 - val_acc: 0.8438\n",
            "\n",
            "Epoch 00025: val_loss did not improve from 0.30501\n",
            "Epoch 26/50\n",
            " - 1s - loss: 0.1883 - acc: 0.9406 - val_loss: 0.7594 - val_acc: 0.6719\n",
            "\n",
            "Epoch 00026: val_loss did not improve from 0.30501\n",
            "Epoch 27/50\n",
            " - 1s - loss: 0.3084 - acc: 0.8594 - val_loss: 0.7436 - val_acc: 0.7656\n",
            "\n",
            "Epoch 00027: val_loss did not improve from 0.30501\n",
            "Epoch 28/50\n",
            " - 1s - loss: 0.3191 - acc: 0.9000 - val_loss: 0.4558 - val_acc: 0.8594\n",
            "\n",
            "Epoch 00028: val_loss did not improve from 0.30501\n",
            "Epoch 29/50\n",
            " - 1s - loss: 0.1927 - acc: 0.9594 - val_loss: 0.3191 - val_acc: 0.8906\n",
            "\n",
            "Epoch 00029: val_loss did not improve from 0.30501\n",
            "Epoch 30/50\n",
            " - 1s - loss: 0.2369 - acc: 0.9094 - val_loss: 0.4234 - val_acc: 0.8281\n",
            "\n",
            "Epoch 00030: val_loss did not improve from 0.30501\n",
            "Epoch 31/50\n",
            " - 1s - loss: 0.2022 - acc: 0.9625 - val_loss: 0.3164 - val_acc: 0.8906\n",
            "\n",
            "Epoch 00031: val_loss did not improve from 0.30501\n",
            "Epoch 32/50\n",
            " - 1s - loss: 0.1706 - acc: 0.9437 - val_loss: 1.2816 - val_acc: 0.6719\n",
            "\n",
            "Epoch 00032: val_loss did not improve from 0.30501\n",
            "Epoch 33/50\n",
            " - 1s - loss: 0.2832 - acc: 0.9188 - val_loss: 0.3687 - val_acc: 0.8281\n",
            "\n",
            "Epoch 00033: val_loss did not improve from 0.30501\n",
            "Epoch 34/50\n",
            " - 1s - loss: 0.2700 - acc: 0.8906 - val_loss: 0.1639 - val_acc: 0.9688\n",
            "\n",
            "Epoch 00034: val_loss improved from 0.30501 to 0.16393, saving model to drive/My Drive/Resultado/Colorido/weights_architecture_7.hdf5\n",
            "Epoch 35/50\n",
            " - 1s - loss: 0.2425 - acc: 0.9125 - val_loss: 1.0683 - val_acc: 0.7188\n",
            "\n",
            "Epoch 00035: val_loss did not improve from 0.16393\n",
            "Epoch 36/50\n",
            " - 1s - loss: 0.2943 - acc: 0.8844 - val_loss: 0.4007 - val_acc: 0.8438\n",
            "\n",
            "Epoch 00036: val_loss did not improve from 0.16393\n",
            "Epoch 37/50\n",
            " - 1s - loss: 0.2404 - acc: 0.9313 - val_loss: 0.8237 - val_acc: 0.6774\n",
            "\n",
            "Epoch 00037: val_loss did not improve from 0.16393\n",
            "Epoch 38/50\n",
            " - 1s - loss: 0.2094 - acc: 0.9375 - val_loss: 0.2741 - val_acc: 0.8906\n",
            "\n",
            "Epoch 00038: val_loss did not improve from 0.16393\n",
            "Epoch 39/50\n",
            " - 1s - loss: 0.1859 - acc: 0.9281 - val_loss: 0.1221 - val_acc: 0.9844\n",
            "\n",
            "Epoch 00039: val_loss improved from 0.16393 to 0.12208, saving model to drive/My Drive/Resultado/Colorido/weights_architecture_7.hdf5\n",
            "Epoch 40/50\n",
            " - 1s - loss: 0.2511 - acc: 0.9156 - val_loss: 0.5568 - val_acc: 0.7969\n",
            "\n",
            "Epoch 00040: val_loss did not improve from 0.12208\n",
            "Epoch 41/50\n",
            " - 1s - loss: 0.3283 - acc: 0.8844 - val_loss: 2.8521 - val_acc: 0.4062\n",
            "\n",
            "Epoch 00041: val_loss did not improve from 0.12208\n",
            "Epoch 42/50\n",
            " - 1s - loss: 0.2607 - acc: 0.9250 - val_loss: 0.6913 - val_acc: 0.6875\n",
            "\n",
            "Epoch 00042: val_loss did not improve from 0.12208\n",
            "Epoch 43/50\n",
            " - 1s - loss: 0.2761 - acc: 0.9125 - val_loss: 0.3851 - val_acc: 0.7969\n",
            "\n",
            "Epoch 00043: val_loss did not improve from 0.12208\n",
            "Epoch 44/50\n",
            " - 1s - loss: 0.1779 - acc: 0.9406 - val_loss: 1.2091 - val_acc: 0.6250\n",
            "\n",
            "Epoch 00044: val_loss did not improve from 0.12208\n",
            "Epoch 45/50\n",
            " - 1s - loss: 0.2291 - acc: 0.9313 - val_loss: 2.5324 - val_acc: 0.5938\n",
            "\n",
            "Epoch 00045: val_loss did not improve from 0.12208\n",
            "Epoch 46/50\n",
            " - 1s - loss: 0.1878 - acc: 0.9500 - val_loss: 0.9332 - val_acc: 0.7188\n",
            "\n",
            "Epoch 00046: val_loss did not improve from 0.12208\n",
            "Epoch 47/50\n",
            " - 1s - loss: 0.1424 - acc: 0.9531 - val_loss: 0.5174 - val_acc: 0.7969\n",
            "\n",
            "Epoch 00047: val_loss did not improve from 0.12208\n",
            "Epoch 48/50\n",
            " - 1s - loss: 0.2107 - acc: 0.9375 - val_loss: 0.2991 - val_acc: 0.9062\n",
            "\n",
            "Epoch 00048: val_loss did not improve from 0.12208\n",
            "Epoch 49/50\n",
            " - 1s - loss: 0.1488 - acc: 0.9656 - val_loss: 0.5165 - val_acc: 0.7656\n",
            "\n",
            "Epoch 00049: val_loss did not improve from 0.12208\n",
            "Epoch 50/50\n",
            " - 1s - loss: 0.2355 - acc: 0.9125 - val_loss: 0.4056 - val_acc: 0.8438\n",
            "\n",
            "Epoch 00050: val_loss did not improve from 0.12208\n"
          ],
          "name": "stdout"
        }
      ]
    },
    {
      "metadata": {
        "colab_type": "code",
        "id": "8i7mC4fOFX73",
        "colab": {}
      },
      "cell_type": "code",
      "source": [
        "model.load_weights('drive/My Drive/Resultado/Colorido/weights_' + architecture + '.hdf5')"
      ],
      "execution_count": 0,
      "outputs": []
    },
    {
      "metadata": {
        "colab_type": "code",
        "id": "-reQa0WUFX8B",
        "outputId": "002706f4-6368-474e-9ccd-12b2ebb78abf",
        "colab": {
          "base_uri": "https://localhost:8080/",
          "height": 380
        }
      },
      "cell_type": "code",
      "source": [
        "# plotar loss e accuracy para os datasets 'train' e 'test'\n",
        "plt.style.use(\"ggplot\")\n",
        "plt.figure()\n",
        "plt.plot(training.history['acc'], label='Accuracy')\n",
        "plt.plot(training.history['loss'], label='Loss')\n",
        "plt.xlabel('Epochs')\n",
        "plt.ylabel('Accuracy')\n",
        "plt.title(\"Training Loss and Accuracy\")\n",
        "plt.ylabel(\"Loss/Accuracy\")\n",
        "plt.legend()\n",
        "plt.savefig('drive/My Drive/Resultado/Colorido/' + architecture + '.png', bbox_inches='tight')"
      ],
      "execution_count": 0,
      "outputs": [
        {
          "output_type": "display_data",
          "data": {
            "image/png": "[encoded data removed]",
            "text/plain": [
              "<matplotlib.figure.Figure at 0x7f8ab29e1d30>"
            ]
          },
          "metadata": {
            "tags": []
          }
        }
      ]
    },
    {
      "metadata": {
        "colab_type": "text",
        "id": "Zlv2yKAwFX8H"
      },
      "cell_type": "markdown",
      "source": [
        "### Teste"
      ]
    },
    {
      "metadata": {
        "colab_type": "code",
        "outputId": "c6b9f866-11e0-42bc-8c04-f14f3af49534",
        "id": "JEV05eXPFX8K",
        "colab": {
          "base_uri": "https://localhost:8080/",
          "height": 74
        }
      },
      "cell_type": "code",
      "source": [
        "y_true, y_predict = ler_images_teste(architecture)"
      ],
      "execution_count": 0,
      "outputs": [
        {
          "output_type": "stream",
          "text": [
            "/usr/local/lib/python3.6/dist-packages/skimage/transform/_warps.py:84: UserWarning: The default mode, 'constant', will be changed to 'reflect' in skimage 0.15.\n",
            "  warn(\"The default mode, 'constant', will be changed to 'reflect' in \"\n"
          ],
          "name": "stderr"
        }
      ]
    },
    {
      "metadata": {
        "colab_type": "code",
        "id": "4KcufOKHFX8b",
        "outputId": "08499c7a-d91a-48da-9dc7-77a74bd48a77",
        "colab": {
          "base_uri": "https://localhost:8080/",
          "height": 35
        }
      },
      "cell_type": "code",
      "source": [
        "results[architecture] = precision_score(y_true, y_predict, average='binary')\n",
        "print('Test Precision: {:.2f}%'\n",
        "      .format(100 * results[architecture]))"
      ],
      "execution_count": 0,
      "outputs": [
        {
          "output_type": "stream",
          "text": [
            "Test Precision: 3.88%\n"
          ],
          "name": "stdout"
        }
      ]
    },
    {
      "metadata": {
        "id": "xBqqHjZrnDFP",
        "colab_type": "text"
      },
      "cell_type": "markdown",
      "source": [
        "## 8 tentativa  Precision: 4.67%"
      ]
    },
    {
      "metadata": {
        "colab_type": "text",
        "id": "3Qg1zWbo5W6V"
      },
      "cell_type": "markdown",
      "source": [
        "Modelo adaptado do **Lucas Valentim**\n",
        "\n",
        "*   Função **Adadelta** para compilação\n"
      ]
    },
    {
      "metadata": {
        "colab_type": "code",
        "id": "lmwfJa_fkEKz",
        "colab": {}
      },
      "cell_type": "code",
      "source": [
        "architecture = 'architecture_8'"
      ],
      "execution_count": 0,
      "outputs": []
    },
    {
      "metadata": {
        "id": "HwG1z8RnETvS",
        "colab_type": "text"
      },
      "cell_type": "markdown",
      "source": [
        "### Modelo"
      ]
    },
    {
      "metadata": {
        "colab_type": "code",
        "id": "MvjKH9LWpGsi",
        "colab": {}
      },
      "cell_type": "code",
      "source": [
        "from keras.layers import Conv2D, MaxPooling2D, GlobalMaxPooling2D, BatchNormalization\n",
        "from keras.regularizers import l2\n",
        "from keras.optimizers import Adadelta\n",
        "\n",
        "model = Sequential()\n",
        "\n",
        "model.add(Conv2D(32, (3, 3), activation='relu', kernel_regularizer=l2(1e-4), \n",
        "                 input_shape=(None, None, 3)))\n",
        "model.add(BatchNormalization())\n",
        "model.add(Conv2D(32, (3, 3), activation='relu', kernel_regularizer=l2(1e-4)))\n",
        "model.add(BatchNormalization())\n",
        "model.add(MaxPooling2D((2, 2)))\n",
        "model.add(Dropout(0.25))\n",
        "\n",
        "model.add(Conv2D(64, (3, 3), activation='relu', kernel_regularizer=l2(1e-4)))\n",
        "model.add(BatchNormalization())\n",
        "model.add(Conv2D(64, (3, 3), activation='relu', kernel_regularizer=l2(1e-4)))\n",
        "model.add(BatchNormalization())\n",
        "model.add(MaxPooling2D((2, 2)))\n",
        "model.add(Dropout(0.25))\n",
        "\n",
        "model.add(Conv2D(128, (1,1), kernel_regularizer=l2(1e-4)))\n",
        "model.add(GlobalMaxPooling2D())\n",
        "\n",
        "model.add(Dense(256, activation='relu', kernel_regularizer=l2(1e-4)))\n",
        "model.add(Dropout(0.5))\n",
        "model.add(Dense(2, activation='sigmoid', kernel_regularizer=l2(1e-4)))"
      ],
      "execution_count": 0,
      "outputs": []
    },
    {
      "metadata": {
        "colab_type": "code",
        "id": "civjmdynpGsy",
        "colab": {}
      },
      "cell_type": "code",
      "source": [
        "model.compile(Adadelta(lr=1.0, rho=0.95, epsilon=None, decay=0.0), \n",
        "              loss='binary_crossentropy', metrics=['accuracy'])"
      ],
      "execution_count": 0,
      "outputs": []
    },
    {
      "metadata": {
        "colab_type": "text",
        "id": "VzlA9sUOFppf"
      },
      "cell_type": "markdown",
      "source": [
        "### Treino\n"
      ]
    },
    {
      "metadata": {
        "colab_type": "code",
        "id": "-p4Hhs04Fppq",
        "colab": {}
      },
      "cell_type": "code",
      "source": [
        "checkpointer = ModelCheckpoint(filepath='drive/My Drive/Resultado/Colorido/weights_' + architecture + '.hdf5', verbose=1, save_best_only=True)"
      ],
      "execution_count": 0,
      "outputs": []
    },
    {
      "metadata": {
        "colab_type": "code",
        "id": "OurJTZonFpp8",
        "outputId": "6225c46a-0275-4e6d-ec77-23d8c1200495",
        "colab": {
          "base_uri": "https://localhost:8080/",
          "height": 3710
        }
      },
      "cell_type": "code",
      "source": [
        "training = model.fit_generator(train_batches, steps_per_epoch=stepsPerEpoche, \n",
        "                   validation_data=validation_batches, validation_steps=validationSteps,\n",
        "                   epochs=50, verbose=2, callbacks=[checkpointer])"
      ],
      "execution_count": 0,
      "outputs": [
        {
          "output_type": "stream",
          "text": [
            "Epoch 1/50\n",
            " - 4s - loss: 1.1569 - acc: 0.6028 - val_loss: 0.5399 - val_acc: 0.7812\n",
            "\n",
            "Epoch 00001: val_loss improved from inf to 0.53992, saving model to drive/My Drive/Resultado/Colorido/weights_architecture_8.hdf5\n",
            "Epoch 2/50\n",
            " - 1s - loss: 0.7477 - acc: 0.7562 - val_loss: 0.7579 - val_acc: 0.6250\n",
            "\n",
            "Epoch 00002: val_loss did not improve from 0.53992\n",
            "Epoch 3/50\n",
            " - 0s - loss: 0.6941 - acc: 0.7656 - val_loss: 0.8062 - val_acc: 0.6094\n",
            "\n",
            "Epoch 00003: val_loss did not improve from 0.53992\n",
            "Epoch 4/50\n",
            " - 0s - loss: 0.5731 - acc: 0.7969 - val_loss: 0.5026 - val_acc: 0.7500\n",
            "\n",
            "Epoch 00004: val_loss improved from 0.53992 to 0.50265, saving model to drive/My Drive/Resultado/Colorido/weights_architecture_8.hdf5\n",
            "Epoch 5/50\n",
            " - 0s - loss: 0.4221 - acc: 0.8781 - val_loss: 0.8144 - val_acc: 0.5625\n",
            "\n",
            "Epoch 00005: val_loss did not improve from 0.50265\n",
            "Epoch 6/50\n",
            " - 1s - loss: 0.3155 - acc: 0.8875 - val_loss: 0.6823 - val_acc: 0.6719\n",
            "\n",
            "Epoch 00006: val_loss did not improve from 0.50265\n",
            "Epoch 7/50\n",
            " - 0s - loss: 0.4057 - acc: 0.8469 - val_loss: 0.3370 - val_acc: 0.9032\n",
            "\n",
            "Epoch 00007: val_loss improved from 0.50265 to 0.33696, saving model to drive/My Drive/Resultado/Colorido/weights_architecture_8.hdf5\n",
            "Epoch 8/50\n",
            " - 0s - loss: 0.5730 - acc: 0.8125 - val_loss: 0.4193 - val_acc: 0.8438\n",
            "\n",
            "Epoch 00008: val_loss did not improve from 0.33696\n",
            "Epoch 9/50\n",
            " - 0s - loss: 0.3469 - acc: 0.8937 - val_loss: 0.4770 - val_acc: 0.8750\n",
            "\n",
            "Epoch 00009: val_loss did not improve from 0.33696\n",
            "Epoch 10/50\n",
            " - 0s - loss: 0.3495 - acc: 0.8688 - val_loss: 0.6499 - val_acc: 0.6562\n",
            "\n",
            "Epoch 00010: val_loss did not improve from 0.33696\n",
            "Epoch 11/50\n",
            " - 1s - loss: 0.2438 - acc: 0.9156 - val_loss: 0.3149 - val_acc: 0.8750\n",
            "\n",
            "Epoch 00011: val_loss improved from 0.33696 to 0.31487, saving model to drive/My Drive/Resultado/Colorido/weights_architecture_8.hdf5\n",
            "Epoch 12/50\n",
            " - 1s - loss: 0.4190 - acc: 0.8594 - val_loss: 0.4735 - val_acc: 0.7500\n",
            "\n",
            "Epoch 00012: val_loss did not improve from 0.31487\n",
            "Epoch 13/50\n",
            " - 1s - loss: 0.4155 - acc: 0.8812 - val_loss: 0.3721 - val_acc: 0.8594\n",
            "\n",
            "Epoch 00013: val_loss did not improve from 0.31487\n",
            "Epoch 14/50\n",
            " - 1s - loss: 0.3075 - acc: 0.8750 - val_loss: 0.6688 - val_acc: 0.7656\n",
            "\n",
            "Epoch 00014: val_loss did not improve from 0.31487\n",
            "Epoch 15/50\n",
            " - 1s - loss: 0.3532 - acc: 0.8812 - val_loss: 0.4066 - val_acc: 0.8594\n",
            "\n",
            "Epoch 00015: val_loss did not improve from 0.31487\n",
            "Epoch 16/50\n",
            " - 1s - loss: 0.3002 - acc: 0.9031 - val_loss: 0.2093 - val_acc: 0.9531\n",
            "\n",
            "Epoch 00016: val_loss improved from 0.31487 to 0.20929, saving model to drive/My Drive/Resultado/Colorido/weights_architecture_8.hdf5\n",
            "Epoch 17/50\n",
            " - 1s - loss: 0.2778 - acc: 0.9250 - val_loss: 0.6792 - val_acc: 0.7188\n",
            "\n",
            "Epoch 00017: val_loss did not improve from 0.20929\n",
            "Epoch 18/50\n",
            " - 1s - loss: 0.2566 - acc: 0.9031 - val_loss: 1.1788 - val_acc: 0.5156\n",
            "\n",
            "Epoch 00018: val_loss did not improve from 0.20929\n",
            "Epoch 19/50\n",
            " - 1s - loss: 0.5025 - acc: 0.8187 - val_loss: 1.1463 - val_acc: 0.5000\n",
            "\n",
            "Epoch 00019: val_loss did not improve from 0.20929\n",
            "Epoch 20/50\n",
            " - 1s - loss: 0.3529 - acc: 0.8531 - val_loss: 0.4036 - val_acc: 0.7812\n",
            "\n",
            "Epoch 00020: val_loss did not improve from 0.20929\n",
            "Epoch 21/50\n",
            " - 1s - loss: 0.4151 - acc: 0.8500 - val_loss: 0.3894 - val_acc: 0.8750\n",
            "\n",
            "Epoch 00021: val_loss did not improve from 0.20929\n",
            "Epoch 22/50\n",
            " - 1s - loss: 0.3020 - acc: 0.9125 - val_loss: 0.2698 - val_acc: 0.9531\n",
            "\n",
            "Epoch 00022: val_loss did not improve from 0.20929\n",
            "Epoch 23/50\n",
            " - 1s - loss: 0.2733 - acc: 0.8812 - val_loss: 0.3997 - val_acc: 0.8594\n",
            "\n",
            "Epoch 00023: val_loss did not improve from 0.20929\n",
            "Epoch 24/50\n",
            " - 1s - loss: 0.2687 - acc: 0.9156 - val_loss: 0.3707 - val_acc: 0.8594\n",
            "\n",
            "Epoch 00024: val_loss did not improve from 0.20929\n",
            "Epoch 25/50\n",
            " - 1s - loss: 0.2588 - acc: 0.9094 - val_loss: 1.1555 - val_acc: 0.4531\n",
            "\n",
            "Epoch 00025: val_loss did not improve from 0.20929\n",
            "Epoch 26/50\n",
            " - 1s - loss: 0.1825 - acc: 0.9688 - val_loss: 0.4413 - val_acc: 0.8594\n",
            "\n",
            "Epoch 00026: val_loss did not improve from 0.20929\n",
            "Epoch 27/50\n",
            " - 1s - loss: 0.2539 - acc: 0.9313 - val_loss: 0.2418 - val_acc: 0.9375\n",
            "\n",
            "Epoch 00027: val_loss did not improve from 0.20929\n",
            "Epoch 28/50\n",
            " - 1s - loss: 0.5402 - acc: 0.7868 - val_loss: 0.6911 - val_acc: 0.6094\n",
            "\n",
            "Epoch 00028: val_loss did not improve from 0.20929\n",
            "Epoch 29/50\n",
            " - 1s - loss: 0.3293 - acc: 0.8875 - val_loss: 0.6127 - val_acc: 0.6875\n",
            "\n",
            "Epoch 00029: val_loss did not improve from 0.20929\n",
            "Epoch 30/50\n",
            " - 1s - loss: 0.2038 - acc: 0.9344 - val_loss: 0.7272 - val_acc: 0.5938\n",
            "\n",
            "Epoch 00030: val_loss did not improve from 0.20929\n",
            "Epoch 31/50\n",
            " - 1s - loss: 0.2590 - acc: 0.9188 - val_loss: 0.3986 - val_acc: 0.8281\n",
            "\n",
            "Epoch 00031: val_loss did not improve from 0.20929\n",
            "Epoch 32/50\n",
            " - 1s - loss: 0.2474 - acc: 0.8906 - val_loss: 0.2716 - val_acc: 0.9375\n",
            "\n",
            "Epoch 00032: val_loss did not improve from 0.20929\n",
            "Epoch 33/50\n",
            " - 1s - loss: 0.2751 - acc: 0.9094 - val_loss: 0.3138 - val_acc: 0.9375\n",
            "\n",
            "Epoch 00033: val_loss did not improve from 0.20929\n",
            "Epoch 34/50\n",
            " - 1s - loss: 0.1514 - acc: 0.9594 - val_loss: 0.3785 - val_acc: 0.8438\n",
            "\n",
            "Epoch 00034: val_loss did not improve from 0.20929\n",
            "Epoch 35/50\n",
            " - 1s - loss: 0.1980 - acc: 0.9469 - val_loss: 0.3230 - val_acc: 0.8438\n",
            "\n",
            "Epoch 00035: val_loss did not improve from 0.20929\n",
            "Epoch 36/50\n",
            " - 1s - loss: 0.2322 - acc: 0.9406 - val_loss: 0.3365 - val_acc: 0.8906\n",
            "\n",
            "Epoch 00036: val_loss did not improve from 0.20929\n",
            "Epoch 37/50\n",
            " - 1s - loss: 0.2740 - acc: 0.9062 - val_loss: 0.5366 - val_acc: 0.7656\n",
            "\n",
            "Epoch 00037: val_loss did not improve from 0.20929\n",
            "Epoch 38/50\n",
            " - 1s - loss: 0.2264 - acc: 0.9344 - val_loss: 0.3447 - val_acc: 0.8871\n",
            "\n",
            "Epoch 00038: val_loss did not improve from 0.20929\n",
            "Epoch 39/50\n",
            " - 1s - loss: 0.2629 - acc: 0.9188 - val_loss: 0.6255 - val_acc: 0.7031\n",
            "\n",
            "Epoch 00039: val_loss did not improve from 0.20929\n",
            "Epoch 40/50\n",
            " - 1s - loss: 0.5157 - acc: 0.8563 - val_loss: 0.9489 - val_acc: 0.4688\n",
            "\n",
            "Epoch 00040: val_loss did not improve from 0.20929\n",
            "Epoch 41/50\n",
            " - 1s - loss: 0.3918 - acc: 0.8531 - val_loss: 0.6637 - val_acc: 0.7344\n",
            "\n",
            "Epoch 00041: val_loss did not improve from 0.20929\n",
            "Epoch 42/50\n",
            " - 1s - loss: 0.2885 - acc: 0.9094 - val_loss: 0.8293 - val_acc: 0.5938\n",
            "\n",
            "Epoch 00042: val_loss did not improve from 0.20929\n",
            "Epoch 43/50\n",
            " - 1s - loss: 0.2660 - acc: 0.9156 - val_loss: 0.7666 - val_acc: 0.6562\n",
            "\n",
            "Epoch 00043: val_loss did not improve from 0.20929\n",
            "Epoch 44/50\n",
            " - 1s - loss: 0.4079 - acc: 0.8438 - val_loss: 0.7764 - val_acc: 0.5781\n",
            "\n",
            "Epoch 00044: val_loss did not improve from 0.20929\n",
            "Epoch 45/50\n",
            " - 1s - loss: 0.2087 - acc: 0.9375 - val_loss: 0.8686 - val_acc: 0.5781\n",
            "\n",
            "Epoch 00045: val_loss did not improve from 0.20929\n",
            "Epoch 46/50\n",
            " - 1s - loss: 0.4309 - acc: 0.8563 - val_loss: 0.4250 - val_acc: 0.7656\n",
            "\n",
            "Epoch 00046: val_loss did not improve from 0.20929\n",
            "Epoch 47/50\n",
            " - 1s - loss: 0.2653 - acc: 0.9188 - val_loss: 0.8218 - val_acc: 0.6562\n",
            "\n",
            "Epoch 00047: val_loss did not improve from 0.20929\n",
            "Epoch 48/50\n",
            " - 1s - loss: 0.2410 - acc: 0.9406 - val_loss: 0.7637 - val_acc: 0.7188\n",
            "\n",
            "Epoch 00048: val_loss did not improve from 0.20929\n",
            "Epoch 49/50\n",
            " - 1s - loss: 0.2375 - acc: 0.9375 - val_loss: 1.0451 - val_acc: 0.5000\n",
            "\n",
            "Epoch 00049: val_loss did not improve from 0.20929\n",
            "Epoch 50/50\n",
            " - 1s - loss: 0.2867 - acc: 0.9156 - val_loss: 1.3627 - val_acc: 0.4375\n",
            "\n",
            "Epoch 00050: val_loss did not improve from 0.20929\n"
          ],
          "name": "stdout"
        }
      ]
    },
    {
      "metadata": {
        "colab_type": "code",
        "id": "WaKuePNYFpqG",
        "colab": {}
      },
      "cell_type": "code",
      "source": [
        "model.load_weights('drive/My Drive/Resultado/Colorido/weights_' + architecture + '.hdf5')"
      ],
      "execution_count": 0,
      "outputs": []
    },
    {
      "metadata": {
        "colab_type": "code",
        "id": "t93E4pwLFpqR",
        "outputId": "1aec436b-7fb7-41f0-82bd-cfc08e33ccd3",
        "colab": {
          "base_uri": "https://localhost:8080/",
          "height": 380
        }
      },
      "cell_type": "code",
      "source": [
        "# plotar loss e accuracy para os datasets 'train' e 'test'\n",
        "plt.style.use(\"ggplot\")\n",
        "plt.figure()\n",
        "plt.plot(training.history['acc'], label='Accuracy')\n",
        "plt.plot(training.history['loss'], label='Loss')\n",
        "plt.xlabel('Epochs')\n",
        "plt.ylabel('Accuracy')\n",
        "plt.title(\"Training Loss and Accuracy\")\n",
        "plt.ylabel(\"Loss/Accuracy\")\n",
        "plt.legend()\n",
        "plt.savefig('drive/My Drive/Resultado/Colorido/' + architecture + '.png', bbox_inches='tight')"
      ],
      "execution_count": 0,
      "outputs": [
        {
          "output_type": "display_data",
          "data": {
            "image/png": "[encoded data removed]",
            "text/plain": [
              "<matplotlib.figure.Figure at 0x7f8ab210da20>"
            ]
          },
          "metadata": {
            "tags": []
          }
        }
      ]
    },
    {
      "metadata": {
        "colab_type": "text",
        "id": "xNiWp86XFpqa"
      },
      "cell_type": "markdown",
      "source": [
        "### Teste"
      ]
    },
    {
      "metadata": {
        "colab_type": "code",
        "outputId": "d9bbf82d-044a-459c-ee0b-185ca6bccbe6",
        "id": "zkq42Cz1Fpqb",
        "colab": {
          "base_uri": "https://localhost:8080/",
          "height": 74
        }
      },
      "cell_type": "code",
      "source": [
        "y_true, y_predict = ler_images_teste(architecture)"
      ],
      "execution_count": 0,
      "outputs": [
        {
          "output_type": "stream",
          "text": [
            "/usr/local/lib/python3.6/dist-packages/skimage/transform/_warps.py:84: UserWarning: The default mode, 'constant', will be changed to 'reflect' in skimage 0.15.\n",
            "  warn(\"The default mode, 'constant', will be changed to 'reflect' in \"\n"
          ],
          "name": "stderr"
        }
      ]
    },
    {
      "metadata": {
        "colab_type": "code",
        "id": "XDdF-G6_Fpql",
        "outputId": "fbf17c57-22e8-404c-d109-7afba0a3fc5d",
        "colab": {
          "base_uri": "https://localhost:8080/",
          "height": 35
        }
      },
      "cell_type": "code",
      "source": [
        "results[architecture] = precision_score(y_true, y_predict, average='binary')\n",
        "print('Test Precision: {:.2f}%'\n",
        "      .format(100 * results[architecture]))"
      ],
      "execution_count": 0,
      "outputs": [
        {
          "output_type": "stream",
          "text": [
            "Test Precision: 4.67%\n"
          ],
          "name": "stdout"
        }
      ]
    },
    {
      "metadata": {
        "id": "csBCokNgxgbn",
        "colab_type": "text"
      },
      "cell_type": "markdown",
      "source": [
        "## 9 tentativa Precision: 3.78%"
      ]
    },
    {
      "metadata": {
        "colab_type": "text",
        "id": "qLtNH8xk63El"
      },
      "cell_type": "markdown",
      "source": [
        "Modelo adaptado do **Lucas Valentim**\n",
        "\n",
        "*   Função **SGD** para compilação\n"
      ]
    },
    {
      "metadata": {
        "colab_type": "code",
        "id": "474-g6XskHLD",
        "colab": {}
      },
      "cell_type": "code",
      "source": [
        "architecture = 'architecture_9'"
      ],
      "execution_count": 0,
      "outputs": []
    },
    {
      "metadata": {
        "id": "Ae5MENvrEYiB",
        "colab_type": "text"
      },
      "cell_type": "markdown",
      "source": [
        "### Modelo"
      ]
    },
    {
      "metadata": {
        "colab_type": "code",
        "id": "EJjS6pK1xj1f",
        "colab": {}
      },
      "cell_type": "code",
      "source": [
        "from keras.layers import Conv2D, MaxPooling2D, GlobalMaxPooling2D, BatchNormalization\n",
        "from keras.regularizers import l2\n",
        "\n",
        "model = Sequential()\n",
        "\n",
        "model.add(Conv2D(32, (3, 3), activation='relu', kernel_regularizer=l2(1e-4), \n",
        "                 input_shape=(None, None, 3)))\n",
        "model.add(BatchNormalization())\n",
        "model.add(Conv2D(32, (3, 3), activation='relu', kernel_regularizer=l2(1e-4)))\n",
        "model.add(BatchNormalization())\n",
        "model.add(MaxPooling2D((2, 2)))\n",
        "model.add(Dropout(0.25))\n",
        "\n",
        "model.add(Conv2D(64, (3, 3), activation='relu', kernel_regularizer=l2(1e-4)))\n",
        "model.add(BatchNormalization())\n",
        "model.add(Conv2D(64, (3, 3), activation='relu', kernel_regularizer=l2(1e-4)))\n",
        "model.add(BatchNormalization())\n",
        "model.add(MaxPooling2D((2, 2)))\n",
        "model.add(Dropout(0.25))\n",
        "\n",
        "model.add(Conv2D(128, (1,1), kernel_regularizer=l2(1e-4)))\n",
        "model.add(GlobalMaxPooling2D())\n",
        "\n",
        "model.add(Dense(256, activation='relu', kernel_regularizer=l2(1e-4)))\n",
        "model.add(Dropout(0.5))\n",
        "model.add(Dense(2, activation='sigmoid', kernel_regularizer=l2(1e-4)))"
      ],
      "execution_count": 0,
      "outputs": []
    },
    {
      "metadata": {
        "colab_type": "code",
        "id": "9ezdguEZxsWT",
        "colab": {}
      },
      "cell_type": "code",
      "source": [
        "model.compile(SGD(lr=0.03, momentum=0.0, decay=0.0, nesterov=False), \n",
        "              loss='binary_crossentropy', metrics=['accuracy'])"
      ],
      "execution_count": 0,
      "outputs": []
    },
    {
      "metadata": {
        "colab_type": "text",
        "id": "W_LJwu-CFrSP"
      },
      "cell_type": "markdown",
      "source": [
        "### Treino\n"
      ]
    },
    {
      "metadata": {
        "colab_type": "code",
        "id": "0jMpgHX9FrSU",
        "colab": {}
      },
      "cell_type": "code",
      "source": [
        "checkpointer = ModelCheckpoint(filepath='drive/My Drive/Resultado/Colorido/weights_' + architecture + '.hdf5', verbose=1, save_best_only=True)"
      ],
      "execution_count": 0,
      "outputs": []
    },
    {
      "metadata": {
        "colab_type": "code",
        "id": "XAsxzibKFrSc",
        "outputId": "377d6846-b0e5-4d20-bfdc-f1023f1a0af8",
        "colab": {
          "base_uri": "https://localhost:8080/",
          "height": 3710
        }
      },
      "cell_type": "code",
      "source": [
        "training = model.fit_generator(train_batches, steps_per_epoch=stepsPerEpoche, \n",
        "                   validation_data=validation_batches, validation_steps=validationSteps,\n",
        "                   epochs=50, verbose=2, callbacks=[checkpointer])"
      ],
      "execution_count": 0,
      "outputs": [
        {
          "output_type": "stream",
          "text": [
            "Epoch 1/50\n",
            " - 4s - loss: 1.7169 - acc: 0.6031 - val_loss: 1.0006 - val_acc: 0.4062\n",
            "\n",
            "Epoch 00001: val_loss improved from inf to 1.00056, saving model to drive/My Drive/Resultado/Colorido/weights_architecture_9.hdf5\n",
            "Epoch 2/50\n",
            " - 0s - loss: 0.6563 - acc: 0.7500 - val_loss: 0.4168 - val_acc: 0.8438\n",
            "\n",
            "Epoch 00002: val_loss improved from 1.00056 to 0.41684, saving model to drive/My Drive/Resultado/Colorido/weights_architecture_9.hdf5\n",
            "Epoch 3/50\n",
            " - 0s - loss: 0.7934 - acc: 0.7844 - val_loss: 0.6912 - val_acc: 0.6875\n",
            "\n",
            "Epoch 00003: val_loss did not improve from 0.41684\n",
            "Epoch 4/50\n",
            " - 0s - loss: 0.5690 - acc: 0.7906 - val_loss: 0.8809 - val_acc: 0.5938\n",
            "\n",
            "Epoch 00004: val_loss did not improve from 0.41684\n",
            "Epoch 5/50\n",
            " - 0s - loss: 0.4964 - acc: 0.8587 - val_loss: 0.5722 - val_acc: 0.7344\n",
            "\n",
            "Epoch 00005: val_loss did not improve from 0.41684\n",
            "Epoch 6/50\n",
            " - 0s - loss: 0.4305 - acc: 0.8312 - val_loss: 0.4299 - val_acc: 0.8750\n",
            "\n",
            "Epoch 00006: val_loss did not improve from 0.41684\n",
            "Epoch 7/50\n",
            " - 0s - loss: 0.3859 - acc: 0.8688 - val_loss: 0.7532 - val_acc: 0.5000\n",
            "\n",
            "Epoch 00007: val_loss did not improve from 0.41684\n",
            "Epoch 8/50\n",
            " - 0s - loss: 0.4626 - acc: 0.8375 - val_loss: 0.8066 - val_acc: 0.6129\n",
            "\n",
            "Epoch 00008: val_loss did not improve from 0.41684\n",
            "Epoch 9/50\n",
            " - 1s - loss: 0.2947 - acc: 0.9031 - val_loss: 0.3248 - val_acc: 0.8594\n",
            "\n",
            "Epoch 00009: val_loss improved from 0.41684 to 0.32479, saving model to drive/My Drive/Resultado/Colorido/weights_architecture_9.hdf5\n",
            "Epoch 10/50\n",
            " - 1s - loss: 0.5345 - acc: 0.8375 - val_loss: 0.4203 - val_acc: 0.7812\n",
            "\n",
            "Epoch 00010: val_loss did not improve from 0.32479\n",
            "Epoch 11/50\n",
            " - 1s - loss: 0.3316 - acc: 0.8781 - val_loss: 0.4061 - val_acc: 0.8594\n",
            "\n",
            "Epoch 00011: val_loss did not improve from 0.32479\n",
            "Epoch 12/50\n",
            " - 1s - loss: 0.2739 - acc: 0.8906 - val_loss: 0.9567 - val_acc: 0.6094\n",
            "\n",
            "Epoch 00012: val_loss did not improve from 0.32479\n",
            "Epoch 13/50\n",
            " - 1s - loss: 0.3432 - acc: 0.8844 - val_loss: 0.5855 - val_acc: 0.7188\n",
            "\n",
            "Epoch 00013: val_loss did not improve from 0.32479\n",
            "Epoch 14/50\n",
            " - 1s - loss: 0.2478 - acc: 0.9062 - val_loss: 0.4166 - val_acc: 0.7969\n",
            "\n",
            "Epoch 00014: val_loss did not improve from 0.32479\n",
            "Epoch 15/50\n",
            " - 1s - loss: 0.3334 - acc: 0.8750 - val_loss: 0.3123 - val_acc: 0.9062\n",
            "\n",
            "Epoch 00015: val_loss improved from 0.32479 to 0.31232, saving model to drive/My Drive/Resultado/Colorido/weights_architecture_9.hdf5\n",
            "Epoch 16/50\n",
            " - 1s - loss: 0.2432 - acc: 0.9125 - val_loss: 1.2674 - val_acc: 0.5625\n",
            "\n",
            "Epoch 00016: val_loss did not improve from 0.31232\n",
            "Epoch 17/50\n",
            " - 1s - loss: 0.4282 - acc: 0.8594 - val_loss: 0.3303 - val_acc: 0.8906\n",
            "\n",
            "Epoch 00017: val_loss did not improve from 0.31232\n",
            "Epoch 18/50\n",
            " - 1s - loss: 0.1876 - acc: 0.9500 - val_loss: 0.5378 - val_acc: 0.6719\n",
            "\n",
            "Epoch 00018: val_loss did not improve from 0.31232\n",
            "Epoch 19/50\n",
            " - 1s - loss: 0.3616 - acc: 0.8312 - val_loss: 0.4489 - val_acc: 0.7969\n",
            "\n",
            "Epoch 00019: val_loss did not improve from 0.31232\n",
            "Epoch 20/50\n",
            " - 1s - loss: 0.2069 - acc: 0.9406 - val_loss: 1.4897 - val_acc: 0.3125\n",
            "\n",
            "Epoch 00020: val_loss did not improve from 0.31232\n",
            "Epoch 21/50\n",
            " - 1s - loss: 0.3883 - acc: 0.8531 - val_loss: 0.3744 - val_acc: 0.8594\n",
            "\n",
            "Epoch 00021: val_loss did not improve from 0.31232\n",
            "Epoch 22/50\n",
            " - 1s - loss: 0.2392 - acc: 0.9375 - val_loss: 0.6463 - val_acc: 0.6250\n",
            "\n",
            "Epoch 00022: val_loss did not improve from 0.31232\n",
            "Epoch 23/50\n",
            " - 1s - loss: 0.2584 - acc: 0.9344 - val_loss: 0.4074 - val_acc: 0.8438\n",
            "\n",
            "Epoch 00023: val_loss did not improve from 0.31232\n",
            "Epoch 24/50\n",
            " - 1s - loss: 0.3346 - acc: 0.8750 - val_loss: 1.3319 - val_acc: 0.3906\n",
            "\n",
            "Epoch 00024: val_loss did not improve from 0.31232\n",
            "Epoch 25/50\n",
            " - 1s - loss: 0.2695 - acc: 0.9156 - val_loss: 0.6272 - val_acc: 0.6250\n",
            "\n",
            "Epoch 00025: val_loss did not improve from 0.31232\n",
            "Epoch 26/50\n",
            " - 1s - loss: 0.2988 - acc: 0.9094 - val_loss: 0.4622 - val_acc: 0.7656\n",
            "\n",
            "Epoch 00026: val_loss did not improve from 0.31232\n",
            "Epoch 27/50\n",
            " - 1s - loss: 0.2772 - acc: 0.9094 - val_loss: 0.6897 - val_acc: 0.7500\n",
            "\n",
            "Epoch 00027: val_loss did not improve from 0.31232\n",
            "Epoch 28/50\n",
            " - 1s - loss: 0.2733 - acc: 0.9062 - val_loss: 0.2720 - val_acc: 0.9062\n",
            "\n",
            "Epoch 00028: val_loss improved from 0.31232 to 0.27202, saving model to drive/My Drive/Resultado/Colorido/weights_architecture_9.hdf5\n",
            "Epoch 29/50\n",
            " - 1s - loss: 0.4652 - acc: 0.8312 - val_loss: 0.4615 - val_acc: 0.6875\n",
            "\n",
            "Epoch 00029: val_loss did not improve from 0.27202\n",
            "Epoch 30/50\n",
            " - 1s - loss: 0.2667 - acc: 0.8969 - val_loss: 1.2856 - val_acc: 0.4062\n",
            "\n",
            "Epoch 00030: val_loss did not improve from 0.27202\n",
            "Epoch 31/50\n",
            " - 1s - loss: 0.3002 - acc: 0.8906 - val_loss: 0.5709 - val_acc: 0.7500\n",
            "\n",
            "Epoch 00031: val_loss did not improve from 0.27202\n",
            "Epoch 32/50\n",
            " - 1s - loss: 0.2424 - acc: 0.9313 - val_loss: 0.5961 - val_acc: 0.6875\n",
            "\n",
            "Epoch 00032: val_loss did not improve from 0.27202\n",
            "Epoch 33/50\n",
            " - 1s - loss: 0.3292 - acc: 0.8723 - val_loss: 0.5533 - val_acc: 0.7344\n",
            "\n",
            "Epoch 00033: val_loss did not improve from 0.27202\n",
            "Epoch 34/50\n",
            " - 1s - loss: 0.2009 - acc: 0.9531 - val_loss: 0.8070 - val_acc: 0.6094\n",
            "\n",
            "Epoch 00034: val_loss did not improve from 0.27202\n",
            "Epoch 35/50\n",
            " - 1s - loss: 0.3055 - acc: 0.8969 - val_loss: 0.4124 - val_acc: 0.8281\n",
            "\n",
            "Epoch 00035: val_loss did not improve from 0.27202\n",
            "Epoch 36/50\n",
            " - 1s - loss: 0.1843 - acc: 0.9344 - val_loss: 0.7151 - val_acc: 0.5938\n",
            "\n",
            "Epoch 00036: val_loss did not improve from 0.27202\n",
            "Epoch 37/50\n",
            " - 1s - loss: 0.3785 - acc: 0.8625 - val_loss: 0.5154 - val_acc: 0.8125\n",
            "\n",
            "Epoch 00037: val_loss did not improve from 0.27202\n",
            "Epoch 38/50\n",
            " - 1s - loss: 0.2491 - acc: 0.9250 - val_loss: 0.5226 - val_acc: 0.8125\n",
            "\n",
            "Epoch 00038: val_loss did not improve from 0.27202\n",
            "Epoch 39/50\n",
            " - 1s - loss: 0.2418 - acc: 0.9188 - val_loss: 0.4833 - val_acc: 0.8065\n",
            "\n",
            "Epoch 00039: val_loss did not improve from 0.27202\n",
            "Epoch 40/50\n",
            " - 1s - loss: 0.2975 - acc: 0.9094 - val_loss: 0.4695 - val_acc: 0.8750\n",
            "\n",
            "Epoch 00040: val_loss did not improve from 0.27202\n",
            "Epoch 41/50\n",
            " - 1s - loss: 0.2897 - acc: 0.8906 - val_loss: 0.3378 - val_acc: 0.9375\n",
            "\n",
            "Epoch 00041: val_loss did not improve from 0.27202\n",
            "Epoch 42/50\n",
            " - 1s - loss: 0.2735 - acc: 0.9031 - val_loss: 0.4899 - val_acc: 0.7188\n",
            "\n",
            "Epoch 00042: val_loss did not improve from 0.27202\n",
            "Epoch 43/50\n",
            " - 1s - loss: 0.2797 - acc: 0.9188 - val_loss: 0.5055 - val_acc: 0.8594\n",
            "\n",
            "Epoch 00043: val_loss did not improve from 0.27202\n",
            "Epoch 44/50\n",
            " - 1s - loss: 0.3140 - acc: 0.8719 - val_loss: 0.6610 - val_acc: 0.6562\n",
            "\n",
            "Epoch 00044: val_loss did not improve from 0.27202\n",
            "Epoch 45/50\n",
            " - 1s - loss: 0.2096 - acc: 0.9188 - val_loss: 0.9912 - val_acc: 0.5156\n",
            "\n",
            "Epoch 00045: val_loss did not improve from 0.27202\n",
            "Epoch 46/50\n",
            " - 1s - loss: 0.1926 - acc: 0.9375 - val_loss: 0.3907 - val_acc: 0.8594\n",
            "\n",
            "Epoch 00046: val_loss did not improve from 0.27202\n",
            "Epoch 47/50\n",
            " - 1s - loss: 0.3382 - acc: 0.8656 - val_loss: 0.9898 - val_acc: 0.5469\n",
            "\n",
            "Epoch 00047: val_loss did not improve from 0.27202\n",
            "Epoch 48/50\n",
            " - 1s - loss: 0.3252 - acc: 0.9031 - val_loss: 0.5110 - val_acc: 0.7969\n",
            "\n",
            "Epoch 00048: val_loss did not improve from 0.27202\n",
            "Epoch 49/50\n",
            " - 1s - loss: 0.2812 - acc: 0.8969 - val_loss: 0.5413 - val_acc: 0.7812\n",
            "\n",
            "Epoch 00049: val_loss did not improve from 0.27202\n",
            "Epoch 50/50\n",
            " - 1s - loss: 0.3048 - acc: 0.8937 - val_loss: 0.4539 - val_acc: 0.8125\n",
            "\n",
            "Epoch 00050: val_loss did not improve from 0.27202\n"
          ],
          "name": "stdout"
        }
      ]
    },
    {
      "metadata": {
        "colab_type": "code",
        "id": "C9p7BgNVFrSn",
        "colab": {}
      },
      "cell_type": "code",
      "source": [
        "model.load_weights('drive/My Drive/Resultado/Colorido/weights_' + architecture + '.hdf5')"
      ],
      "execution_count": 0,
      "outputs": []
    },
    {
      "metadata": {
        "colab_type": "code",
        "id": "VjcSjtdkFrS2",
        "outputId": "ef41d449-1227-4363-b9c7-e88191eadd80",
        "colab": {
          "base_uri": "https://localhost:8080/",
          "height": 380
        }
      },
      "cell_type": "code",
      "source": [
        "# plotar loss e accuracy para os datasets 'train' e 'test'\n",
        "plt.style.use(\"ggplot\")\n",
        "plt.figure()\n",
        "plt.plot(training.history['acc'], label='Accuracy')\n",
        "plt.plot(training.history['loss'], label='Loss')\n",
        "plt.xlabel('Epochs')\n",
        "plt.ylabel('Accuracy')\n",
        "plt.title(\"Training Loss and Accuracy\")\n",
        "plt.ylabel(\"Loss/Accuracy\")\n",
        "plt.legend()\n",
        "plt.savefig('drive/My Drive/Resultado/Colorido/' + architecture + '.png', bbox_inches='tight')"
      ],
      "execution_count": 0,
      "outputs": [
        {
          "output_type": "display_data",
          "data": {
            "image/png": "[encoded data removed]",
            "text/plain": [
              "<matplotlib.figure.Figure at 0x7f8ab143c4e0>"
            ]
          },
          "metadata": {
            "tags": []
          }
        }
      ]
    },
    {
      "metadata": {
        "colab_type": "text",
        "id": "pMqyKtnTFrS_"
      },
      "cell_type": "markdown",
      "source": [
        "### Teste"
      ]
    },
    {
      "metadata": {
        "colab_type": "code",
        "outputId": "a70b8a7b-2eef-4ff0-9b62-8c9eaff35920",
        "id": "PwCTx5RvFrTB",
        "colab": {
          "base_uri": "https://localhost:8080/",
          "height": 74
        }
      },
      "cell_type": "code",
      "source": [
        "y_true, y_predict = ler_images_teste(architecture)"
      ],
      "execution_count": 0,
      "outputs": [
        {
          "output_type": "stream",
          "text": [
            "/usr/local/lib/python3.6/dist-packages/skimage/transform/_warps.py:84: UserWarning: The default mode, 'constant', will be changed to 'reflect' in skimage 0.15.\n",
            "  warn(\"The default mode, 'constant', will be changed to 'reflect' in \"\n"
          ],
          "name": "stderr"
        }
      ]
    },
    {
      "metadata": {
        "colab_type": "code",
        "id": "Dv96B3jlFrTM",
        "outputId": "e236d1c3-189f-44f1-c470-199f57a6e3c1",
        "colab": {
          "base_uri": "https://localhost:8080/",
          "height": 35
        }
      },
      "cell_type": "code",
      "source": [
        "results[architecture] = precision_score(y_true, y_predict, average='binary')\n",
        "print('Test Precision: {:.2f}%'\n",
        "      .format(100 * results[architecture]))"
      ],
      "execution_count": 0,
      "outputs": [
        {
          "output_type": "stream",
          "text": [
            "Test Precision: 3.78%\n"
          ],
          "name": "stdout"
        }
      ]
    },
    {
      "metadata": {
        "id": "I_6RPRqZ0ooK",
        "colab_type": "text"
      },
      "cell_type": "markdown",
      "source": [
        "## 10 tentativa Precision: 6.57%"
      ]
    },
    {
      "metadata": {
        "colab_type": "text",
        "id": "drBpwd1s7PE3"
      },
      "cell_type": "markdown",
      "source": [
        "Modelo adaptado do **Lucas Valentim**\n",
        "\n",
        "*   Função **adam** para compilação\n",
        "*   Adicionado mais 2 camadas convolutivas"
      ]
    },
    {
      "metadata": {
        "colab_type": "code",
        "id": "7CD_MICYkLAi",
        "colab": {}
      },
      "cell_type": "code",
      "source": [
        "architecture = 'architecture_10'"
      ],
      "execution_count": 0,
      "outputs": []
    },
    {
      "metadata": {
        "id": "t3bAAcsqEeAK",
        "colab_type": "text"
      },
      "cell_type": "markdown",
      "source": [
        "### Modelo"
      ]
    },
    {
      "metadata": {
        "colab_type": "code",
        "id": "6LGTLObK0u-Y",
        "colab": {}
      },
      "cell_type": "code",
      "source": [
        "from keras.layers import Conv2D, MaxPooling2D, GlobalMaxPooling2D, BatchNormalization\n",
        "from keras.regularizers import l2\n",
        "\n",
        "model = Sequential()\n",
        "\n",
        "model.add(Conv2D(32, (3, 3), activation='relu', kernel_regularizer=l2(1e-4), \n",
        "                 input_shape=(None, None, 3)))\n",
        "model.add(BatchNormalization())\n",
        "model.add(Conv2D(32, (3, 3), activation='relu', kernel_regularizer=l2(1e-4)))\n",
        "model.add(BatchNormalization())\n",
        "model.add(MaxPooling2D((2, 2)))\n",
        "model.add(Dropout(0.25))\n",
        "\n",
        "model.add(Conv2D(64, (3, 3), activation='relu', kernel_regularizer=l2(1e-4)))\n",
        "model.add(BatchNormalization())\n",
        "model.add(Conv2D(64, (3, 3), activation='relu', kernel_regularizer=l2(1e-4)))\n",
        "model.add(BatchNormalization())\n",
        "model.add(MaxPooling2D((2, 2)))\n",
        "model.add(Dropout(0.25))\n",
        "\n",
        "model.add(Conv2D(96, (3, 3),activation='relu', kernel_regularizer=l2(1e-4)))\n",
        "model.add(BatchNormalization())\n",
        "model.add(Conv2D(96, (3, 3),activation='relu', kernel_regularizer=l2(1e-4)))\n",
        "model.add(BatchNormalization())\n",
        "model.add(MaxPooling2D((2, 2)))\n",
        "model.add(Dropout(0.25))\n",
        "\n",
        "model.add(Conv2D(128, (1,1), kernel_regularizer=l2(1e-4)))\n",
        "model.add(GlobalMaxPooling2D())\n",
        "\n",
        "model.add(Dense(256, activation='relu', kernel_regularizer=l2(1e-4)))\n",
        "model.add(Dropout(0.5))\n",
        "model.add(Dense(2, activation='sigmoid', kernel_regularizer=l2(1e-4)))"
      ],
      "execution_count": 0,
      "outputs": []
    },
    {
      "metadata": {
        "colab_type": "code",
        "id": "vB92aUkR0u-p",
        "colab": {}
      },
      "cell_type": "code",
      "source": [
        "model.compile(optimizer='adam', loss='binary_crossentropy', metrics=['accuracy'])"
      ],
      "execution_count": 0,
      "outputs": []
    },
    {
      "metadata": {
        "colab_type": "text",
        "id": "r1DyOIXuFske"
      },
      "cell_type": "markdown",
      "source": [
        "### Treino\n"
      ]
    },
    {
      "metadata": {
        "colab_type": "code",
        "id": "vp6MrfPzFskr",
        "colab": {}
      },
      "cell_type": "code",
      "source": [
        "checkpointer = ModelCheckpoint(filepath='drive/My Drive/Resultado/Colorido/weights_' + architecture + '.hdf5', verbose=1, save_best_only=True)"
      ],
      "execution_count": 0,
      "outputs": []
    },
    {
      "metadata": {
        "colab_type": "code",
        "id": "uEMxGvwLFsk8",
        "outputId": "ccec2636-7829-4b9c-d0ae-602e51b1d029",
        "colab": {
          "base_uri": "https://localhost:8080/",
          "height": 3710
        }
      },
      "cell_type": "code",
      "source": [
        "training = model.fit_generator(train_batches, steps_per_epoch=stepsPerEpoche, \n",
        "                   validation_data=validation_batches, validation_steps=validationSteps,\n",
        "                   epochs=50, verbose=2, callbacks=[checkpointer])"
      ],
      "execution_count": 0,
      "outputs": [
        {
          "output_type": "stream",
          "text": [
            "Epoch 1/50\n",
            " - 7s - loss: 1.0974 - acc: 0.6531 - val_loss: 0.6160 - val_acc: 0.6094\n",
            "\n",
            "Epoch 00001: val_loss improved from inf to 0.61597, saving model to drive/My Drive/Resultado/Colorido/weights_architecture_10.hdf5\n",
            "Epoch 2/50\n",
            " - 1s - loss: 0.7510 - acc: 0.7594 - val_loss: 0.3343 - val_acc: 0.8750\n",
            "\n",
            "Epoch 00002: val_loss improved from 0.61597 to 0.33430, saving model to drive/My Drive/Resultado/Colorido/weights_architecture_10.hdf5\n",
            "Epoch 3/50\n",
            " - 1s - loss: 0.4653 - acc: 0.8281 - val_loss: 0.7528 - val_acc: 0.7344\n",
            "\n",
            "Epoch 00003: val_loss did not improve from 0.33430\n",
            "Epoch 4/50\n",
            " - 1s - loss: 0.4293 - acc: 0.8406 - val_loss: 0.8095 - val_acc: 0.7188\n",
            "\n",
            "Epoch 00004: val_loss did not improve from 0.33430\n",
            "Epoch 5/50\n",
            " - 1s - loss: 0.3842 - acc: 0.8875 - val_loss: 0.4527 - val_acc: 0.8125\n",
            "\n",
            "Epoch 00005: val_loss did not improve from 0.33430\n",
            "Epoch 6/50\n",
            " - 1s - loss: 0.4031 - acc: 0.8719 - val_loss: 0.2740 - val_acc: 0.9219\n",
            "\n",
            "Epoch 00006: val_loss improved from 0.33430 to 0.27403, saving model to drive/My Drive/Resultado/Colorido/weights_architecture_10.hdf5\n",
            "Epoch 7/50\n",
            " - 1s - loss: 0.3788 - acc: 0.8750 - val_loss: 0.1623 - val_acc: 0.9531\n",
            "\n",
            "Epoch 00007: val_loss improved from 0.27403 to 0.16235, saving model to drive/My Drive/Resultado/Colorido/weights_architecture_10.hdf5\n",
            "Epoch 8/50\n",
            " - 1s - loss: 0.2531 - acc: 0.9344 - val_loss: 0.2673 - val_acc: 0.8906\n",
            "\n",
            "Epoch 00008: val_loss did not improve from 0.16235\n",
            "Epoch 9/50\n",
            " - 1s - loss: 0.3310 - acc: 0.8812 - val_loss: 0.2500 - val_acc: 0.9062\n",
            "\n",
            "Epoch 00009: val_loss did not improve from 0.16235\n",
            "Epoch 10/50\n",
            " - 1s - loss: 0.3164 - acc: 0.9344 - val_loss: 0.3329 - val_acc: 0.9062\n",
            "\n",
            "Epoch 00010: val_loss did not improve from 0.16235\n",
            "Epoch 11/50\n",
            " - 1s - loss: 0.2926 - acc: 0.9188 - val_loss: 0.3559 - val_acc: 0.8594\n",
            "\n",
            "Epoch 00011: val_loss did not improve from 0.16235\n",
            "Epoch 12/50\n",
            " - 1s - loss: 0.3090 - acc: 0.9188 - val_loss: 0.6328 - val_acc: 0.7500\n",
            "\n",
            "Epoch 00012: val_loss did not improve from 0.16235\n",
            "Epoch 13/50\n",
            " - 1s - loss: 0.4147 - acc: 0.8656 - val_loss: 0.2753 - val_acc: 0.8906\n",
            "\n",
            "Epoch 00013: val_loss did not improve from 0.16235\n",
            "Epoch 14/50\n",
            " - 1s - loss: 0.3152 - acc: 0.9031 - val_loss: 0.6124 - val_acc: 0.7344\n",
            "\n",
            "Epoch 00014: val_loss did not improve from 0.16235\n",
            "Epoch 15/50\n",
            " - 1s - loss: 0.3459 - acc: 0.8750 - val_loss: 0.3657 - val_acc: 0.8281\n",
            "\n",
            "Epoch 00015: val_loss did not improve from 0.16235\n",
            "Epoch 16/50\n",
            " - 1s - loss: 0.3282 - acc: 0.9000 - val_loss: 0.2142 - val_acc: 0.9375\n",
            "\n",
            "Epoch 00016: val_loss did not improve from 0.16235\n",
            "Epoch 17/50\n",
            " - 1s - loss: 0.4303 - acc: 0.8563 - val_loss: 0.3012 - val_acc: 0.9219\n",
            "\n",
            "Epoch 00017: val_loss did not improve from 0.16235\n",
            "Epoch 18/50\n",
            " - 1s - loss: 0.2609 - acc: 0.9219 - val_loss: 0.2975 - val_acc: 0.9375\n",
            "\n",
            "Epoch 00018: val_loss did not improve from 0.16235\n",
            "Epoch 19/50\n",
            " - 1s - loss: 0.2265 - acc: 0.9437 - val_loss: 0.3241 - val_acc: 0.8438\n",
            "\n",
            "Epoch 00019: val_loss did not improve from 0.16235\n",
            "Epoch 20/50\n",
            " - 1s - loss: 0.2493 - acc: 0.9469 - val_loss: 0.3709 - val_acc: 0.8438\n",
            "\n",
            "Epoch 00020: val_loss did not improve from 0.16235\n",
            "Epoch 21/50\n",
            " - 1s - loss: 0.1974 - acc: 0.9562 - val_loss: 0.3539 - val_acc: 0.8750\n",
            "\n",
            "Epoch 00021: val_loss did not improve from 0.16235\n",
            "Epoch 22/50\n",
            " - 1s - loss: 0.3033 - acc: 0.9250 - val_loss: 0.3218 - val_acc: 0.8594\n",
            "\n",
            "Epoch 00022: val_loss did not improve from 0.16235\n",
            "Epoch 23/50\n",
            " - 1s - loss: 0.2607 - acc: 0.9156 - val_loss: 0.3441 - val_acc: 0.8548\n",
            "\n",
            "Epoch 00023: val_loss did not improve from 0.16235\n",
            "Epoch 24/50\n",
            " - 1s - loss: 0.2380 - acc: 0.9364 - val_loss: 0.5382 - val_acc: 0.7656\n",
            "\n",
            "Epoch 00024: val_loss did not improve from 0.16235\n",
            "Epoch 25/50\n",
            " - 1s - loss: 0.3123 - acc: 0.9156 - val_loss: 0.4836 - val_acc: 0.8125\n",
            "\n",
            "Epoch 00025: val_loss did not improve from 0.16235\n",
            "Epoch 26/50\n",
            " - 1s - loss: 0.3280 - acc: 0.8906 - val_loss: 0.4738 - val_acc: 0.8438\n",
            "\n",
            "Epoch 00026: val_loss did not improve from 0.16235\n",
            "Epoch 27/50\n",
            " - 1s - loss: 0.3434 - acc: 0.8781 - val_loss: 0.6785 - val_acc: 0.7031\n",
            "\n",
            "Epoch 00027: val_loss did not improve from 0.16235\n",
            "Epoch 28/50\n",
            " - 1s - loss: 0.2520 - acc: 0.9156 - val_loss: 0.3247 - val_acc: 0.9062\n",
            "\n",
            "Epoch 00028: val_loss did not improve from 0.16235\n",
            "Epoch 29/50\n",
            " - 1s - loss: 0.3526 - acc: 0.8812 - val_loss: 0.2940 - val_acc: 0.8750\n",
            "\n",
            "Epoch 00029: val_loss did not improve from 0.16235\n",
            "Epoch 30/50\n",
            " - 1s - loss: 0.2496 - acc: 0.9250 - val_loss: 0.4367 - val_acc: 0.8438\n",
            "\n",
            "Epoch 00030: val_loss did not improve from 0.16235\n",
            "Epoch 31/50\n",
            " - 1s - loss: 0.1572 - acc: 0.9719 - val_loss: 0.4245 - val_acc: 0.7812\n",
            "\n",
            "Epoch 00031: val_loss did not improve from 0.16235\n",
            "Epoch 32/50\n",
            " - 1s - loss: 0.2273 - acc: 0.9562 - val_loss: 0.9238 - val_acc: 0.6875\n",
            "\n",
            "Epoch 00032: val_loss did not improve from 0.16235\n",
            "Epoch 33/50\n",
            " - 1s - loss: 0.2437 - acc: 0.9250 - val_loss: 0.7181 - val_acc: 0.7812\n",
            "\n",
            "Epoch 00033: val_loss did not improve from 0.16235\n",
            "Epoch 34/50\n",
            " - 1s - loss: 0.3096 - acc: 0.8937 - val_loss: 0.4096 - val_acc: 0.7812\n",
            "\n",
            "Epoch 00034: val_loss did not improve from 0.16235\n",
            "Epoch 35/50\n",
            " - 1s - loss: 0.2086 - acc: 0.9469 - val_loss: 0.7160 - val_acc: 0.7188\n",
            "\n",
            "Epoch 00035: val_loss did not improve from 0.16235\n",
            "Epoch 36/50\n",
            " - 1s - loss: 0.2197 - acc: 0.9437 - val_loss: 0.4330 - val_acc: 0.8438\n",
            "\n",
            "Epoch 00036: val_loss did not improve from 0.16235\n",
            "Epoch 37/50\n",
            " - 1s - loss: 0.2938 - acc: 0.9313 - val_loss: 0.3155 - val_acc: 0.9062\n",
            "\n",
            "Epoch 00037: val_loss did not improve from 0.16235\n",
            "Epoch 38/50\n",
            " - 1s - loss: 0.2217 - acc: 0.9469 - val_loss: 0.2824 - val_acc: 0.9219\n",
            "\n",
            "Epoch 00038: val_loss did not improve from 0.16235\n",
            "Epoch 39/50\n",
            " - 1s - loss: 0.2079 - acc: 0.9406 - val_loss: 0.3931 - val_acc: 0.9062\n",
            "\n",
            "Epoch 00039: val_loss did not improve from 0.16235\n",
            "Epoch 40/50\n",
            " - 1s - loss: 0.3037 - acc: 0.8906 - val_loss: 0.3550 - val_acc: 0.8906\n",
            "\n",
            "Epoch 00040: val_loss did not improve from 0.16235\n",
            "Epoch 41/50\n",
            " - 1s - loss: 0.2077 - acc: 0.9437 - val_loss: 0.4035 - val_acc: 0.8750\n",
            "\n",
            "Epoch 00041: val_loss did not improve from 0.16235\n",
            "Epoch 42/50\n",
            " - 1s - loss: 0.2319 - acc: 0.9437 - val_loss: 0.1859 - val_acc: 0.9531\n",
            "\n",
            "Epoch 00042: val_loss did not improve from 0.16235\n",
            "Epoch 43/50\n",
            " - 1s - loss: 0.2914 - acc: 0.9188 - val_loss: 0.3390 - val_acc: 0.8438\n",
            "\n",
            "Epoch 00043: val_loss did not improve from 0.16235\n",
            "Epoch 44/50\n",
            " - 1s - loss: 0.3246 - acc: 0.9031 - val_loss: 0.3315 - val_acc: 0.8750\n",
            "\n",
            "Epoch 00044: val_loss did not improve from 0.16235\n",
            "Epoch 45/50\n",
            " - 1s - loss: 0.2444 - acc: 0.9250 - val_loss: 0.9444 - val_acc: 0.5938\n",
            "\n",
            "Epoch 00045: val_loss did not improve from 0.16235\n",
            "Epoch 46/50\n",
            " - 1s - loss: 0.2618 - acc: 0.9313 - val_loss: 1.1972 - val_acc: 0.6875\n",
            "\n",
            "Epoch 00046: val_loss did not improve from 0.16235\n",
            "Epoch 47/50\n",
            " - 1s - loss: 0.3587 - acc: 0.8875 - val_loss: 0.5496 - val_acc: 0.8125\n",
            "\n",
            "Epoch 00047: val_loss did not improve from 0.16235\n",
            "Epoch 48/50\n",
            " - 1s - loss: 0.3002 - acc: 0.9062 - val_loss: 0.4800 - val_acc: 0.8125\n",
            "\n",
            "Epoch 00048: val_loss did not improve from 0.16235\n",
            "Epoch 49/50\n",
            " - 1s - loss: 0.2042 - acc: 0.9500 - val_loss: 0.9573 - val_acc: 0.7188\n",
            "\n",
            "Epoch 00049: val_loss did not improve from 0.16235\n",
            "Epoch 50/50\n",
            " - 1s - loss: 0.2558 - acc: 0.9000 - val_loss: 2.3984 - val_acc: 0.4688\n",
            "\n",
            "Epoch 00050: val_loss did not improve from 0.16235\n"
          ],
          "name": "stdout"
        }
      ]
    },
    {
      "metadata": {
        "colab_type": "code",
        "id": "25_Rx-u0FslH",
        "colab": {}
      },
      "cell_type": "code",
      "source": [
        "model.load_weights('drive/My Drive/Resultado/Colorido/weights_' + architecture + '.hdf5')"
      ],
      "execution_count": 0,
      "outputs": []
    },
    {
      "metadata": {
        "colab_type": "code",
        "id": "oY5HnCOQFslN",
        "outputId": "dfefe94f-c236-458f-8129-95253a6481dc",
        "colab": {
          "base_uri": "https://localhost:8080/",
          "height": 380
        }
      },
      "cell_type": "code",
      "source": [
        "# plotar loss e accuracy para os datasets 'train' e 'test'\n",
        "plt.style.use(\"ggplot\")\n",
        "plt.figure()\n",
        "plt.plot(training.history['acc'], label='Accuracy')\n",
        "plt.plot(training.history['loss'], label='Loss')\n",
        "plt.xlabel('Epochs')\n",
        "plt.ylabel('Accuracy')\n",
        "plt.title(\"Training Loss and Accuracy\")\n",
        "plt.ylabel(\"Loss/Accuracy\")\n",
        "plt.legend()\n",
        "plt.savefig('drive/My Drive/Resultado/Colorido/' + architecture + '.png', bbox_inches='tight')"
      ],
      "execution_count": 0,
      "outputs": [
        {
          "output_type": "display_data",
          "data": {
            "image/png": "[encoded data removed]",
            "text/plain": [
              "<matplotlib.figure.Figure at 0x7f8a9a1733c8>"
            ]
          },
          "metadata": {
            "tags": []
          }
        }
      ]
    },
    {
      "metadata": {
        "colab_type": "text",
        "id": "Zsnaw_SJFslV"
      },
      "cell_type": "markdown",
      "source": [
        "### Teste"
      ]
    },
    {
      "metadata": {
        "colab_type": "code",
        "outputId": "887f3211-7cc9-4c11-91d9-e98c4b833f8a",
        "id": "X_QVrYmlFslX",
        "colab": {
          "base_uri": "https://localhost:8080/",
          "height": 74
        }
      },
      "cell_type": "code",
      "source": [
        "y_true, y_predict = ler_images_teste(architecture)"
      ],
      "execution_count": 0,
      "outputs": [
        {
          "output_type": "stream",
          "text": [
            "/usr/local/lib/python3.6/dist-packages/skimage/transform/_warps.py:84: UserWarning: The default mode, 'constant', will be changed to 'reflect' in skimage 0.15.\n",
            "  warn(\"The default mode, 'constant', will be changed to 'reflect' in \"\n"
          ],
          "name": "stderr"
        }
      ]
    },
    {
      "metadata": {
        "colab_type": "code",
        "id": "d7TkNb_gFsli",
        "outputId": "557858da-7af0-40ef-f1bd-20a9bd9f1a29",
        "colab": {
          "base_uri": "https://localhost:8080/",
          "height": 35
        }
      },
      "cell_type": "code",
      "source": [
        "results[architecture] = precision_score(y_true, y_predict, average='binary')\n",
        "print('Test Precision: {:.2f}%'\n",
        "      .format(100 * results[architecture]))"
      ],
      "execution_count": 0,
      "outputs": [
        {
          "output_type": "stream",
          "text": [
            "Test Precision: 6.57%\n"
          ],
          "name": "stdout"
        }
      ]
    },
    {
      "metadata": {
        "id": "t-JuICq46CWp",
        "colab_type": "text"
      },
      "cell_type": "markdown",
      "source": [
        "## 11 tentativa Precision: 2.82%"
      ]
    },
    {
      "metadata": {
        "colab_type": "text",
        "id": "MdaiMXVY8RWc"
      },
      "cell_type": "markdown",
      "source": [
        "Modelo adaptado do **Lucas Albertins**\n",
        "\n",
        "*   Função **SGD** para compilação\n",
        "*   Adicionado mais 2 camadas convolutivas"
      ]
    },
    {
      "metadata": {
        "colab_type": "code",
        "id": "oGVeMLcZkPCr",
        "colab": {}
      },
      "cell_type": "code",
      "source": [
        "architecture = 'architecture_11'"
      ],
      "execution_count": 0,
      "outputs": []
    },
    {
      "metadata": {
        "id": "JpeFBqRcElIh",
        "colab_type": "text"
      },
      "cell_type": "markdown",
      "source": [
        "### Modelo"
      ]
    },
    {
      "metadata": {
        "colab_type": "code",
        "id": "vLy1nlhs6HHL",
        "colab": {}
      },
      "cell_type": "code",
      "source": [
        "from keras.layers import Conv2D, MaxPooling2D, GlobalMaxPooling2D, BatchNormalization\n",
        "from keras.regularizers import l2\n",
        "\n",
        "model = Sequential()\n",
        "\n",
        "model.add(Conv2D(32, (3, 3), activation='relu', kernel_regularizer=l2(1e-4), \n",
        "                 input_shape=(None, None, 3)))\n",
        "model.add(BatchNormalization())\n",
        "model.add(Conv2D(32, (3, 3), activation='relu', kernel_regularizer=l2(1e-4)))\n",
        "model.add(BatchNormalization())\n",
        "model.add(MaxPooling2D((2, 2)))\n",
        "model.add(Dropout(0.25))\n",
        "\n",
        "model.add(Conv2D(64, (3, 3), activation='relu', kernel_regularizer=l2(1e-4)))\n",
        "model.add(BatchNormalization())\n",
        "model.add(Conv2D(64, (3, 3), activation='relu', kernel_regularizer=l2(1e-4)))\n",
        "model.add(BatchNormalization())\n",
        "model.add(MaxPooling2D((2, 2)))\n",
        "model.add(Dropout(0.25))\n",
        "\n",
        "model.add(Conv2D(96, (3, 3),activation='relu', kernel_regularizer=l2(1e-4)))\n",
        "model.add(BatchNormalization())\n",
        "model.add(Conv2D(96, (3, 3),activation='relu', kernel_regularizer=l2(1e-4)))\n",
        "model.add(BatchNormalization())\n",
        "model.add(MaxPooling2D((2, 2)))\n",
        "model.add(Dropout(0.25))\n",
        "\n",
        "model.add(Conv2D(128, (1,1), kernel_regularizer=l2(1e-4)))\n",
        "model.add(GlobalMaxPooling2D())\n",
        "\n",
        "model.add(Dense(256, activation='relu', kernel_regularizer=l2(1e-4)))\n",
        "model.add(Dropout(0.5))\n",
        "model.add(Dense(2, activation='sigmoid', kernel_regularizer=l2(1e-4)))"
      ],
      "execution_count": 0,
      "outputs": []
    },
    {
      "metadata": {
        "colab_type": "code",
        "id": "QKpy_s8Z6HHZ",
        "colab": {}
      },
      "cell_type": "code",
      "source": [
        "model.compile(SGD(lr=0.01, momentum=0.0, decay=0.0, nesterov=False), \n",
        "              loss='binary_crossentropy', metrics=['accuracy'])"
      ],
      "execution_count": 0,
      "outputs": []
    },
    {
      "metadata": {
        "colab_type": "text",
        "id": "mnM7JFOGFt1B"
      },
      "cell_type": "markdown",
      "source": [
        "### Treino\n"
      ]
    },
    {
      "metadata": {
        "colab_type": "code",
        "id": "o_2GHpKZFt1O",
        "colab": {}
      },
      "cell_type": "code",
      "source": [
        "checkpointer = ModelCheckpoint(filepath='drive/My Drive/Resultado/Colorido/weights_' + architecture + '.hdf5', verbose=1, save_best_only=True)"
      ],
      "execution_count": 0,
      "outputs": []
    },
    {
      "metadata": {
        "colab_type": "code",
        "id": "MLd0RlChFt1Y",
        "outputId": "2e48b47b-0dc6-4fce-cb56-203d4b549230",
        "colab": {
          "base_uri": "https://localhost:8080/"
        }
      },
      "cell_type": "code",
      "source": [
        "training = model.fit_generator(train_batches, steps_per_epoch=stepsPerEpoche, \n",
        "                   validation_data=validation_batches, validation_steps=validationSteps,\n",
        "                   epochs=50, verbose=2, callbacks=[checkpointer])"
      ],
      "execution_count": 0,
      "outputs": [
        {
          "output_type": "stream",
          "text": [
            "Epoch 1/50\n",
            " - 5s - loss: 1.0251 - acc: 0.5969 - val_loss: 0.8134 - val_acc: 0.5938\n",
            "\n",
            "Epoch 00001: val_loss improved from inf to 0.81337, saving model to drive/My Drive/Resultado/Colorido/weights_architecture_11.hdf5\n",
            "Epoch 2/50\n",
            " - 1s - loss: 0.7192 - acc: 0.7375 - val_loss: 0.7414 - val_acc: 0.6094\n",
            "\n",
            "Epoch 00002: val_loss improved from 0.81337 to 0.74143, saving model to drive/My Drive/Resultado/Colorido/weights_architecture_11.hdf5\n",
            "Epoch 3/50\n",
            " - 1s - loss: 0.7567 - acc: 0.7406 - val_loss: 0.6935 - val_acc: 0.7500\n",
            "\n",
            "Epoch 00003: val_loss improved from 0.74143 to 0.69352, saving model to drive/My Drive/Resultado/Colorido/weights_architecture_11.hdf5\n",
            "Epoch 4/50\n",
            " - 1s - loss: 0.7217 - acc: 0.7719 - val_loss: 0.4735 - val_acc: 0.9531\n",
            "\n",
            "Epoch 00004: val_loss improved from 0.69352 to 0.47345, saving model to drive/My Drive/Resultado/Colorido/weights_architecture_11.hdf5\n",
            "Epoch 5/50\n",
            " - 1s - loss: 0.4495 - acc: 0.8406 - val_loss: 1.0295 - val_acc: 0.4688\n",
            "\n",
            "Epoch 00005: val_loss did not improve from 0.47345\n",
            "Epoch 6/50\n",
            " - 1s - loss: 0.4325 - acc: 0.8312 - val_loss: 0.7988 - val_acc: 0.5625\n",
            "\n",
            "Epoch 00006: val_loss did not improve from 0.47345\n",
            "Epoch 7/50\n",
            " - 1s - loss: 0.4339 - acc: 0.8563 - val_loss: 0.9097 - val_acc: 0.4531\n",
            "\n",
            "Epoch 00007: val_loss did not improve from 0.47345\n",
            "Epoch 8/50\n",
            " - 1s - loss: 0.3254 - acc: 0.8844 - val_loss: 0.8959 - val_acc: 0.4688\n",
            "\n",
            "Epoch 00008: val_loss did not improve from 0.47345\n",
            "Epoch 9/50\n",
            " - 1s - loss: 0.3276 - acc: 0.8906 - val_loss: 0.2883 - val_acc: 0.9531\n",
            "\n",
            "Epoch 00009: val_loss improved from 0.47345 to 0.28831, saving model to drive/My Drive/Resultado/Colorido/weights_architecture_11.hdf5\n",
            "Epoch 10/50\n",
            " - 1s - loss: 0.3456 - acc: 0.8844 - val_loss: 0.8126 - val_acc: 0.5968\n",
            "\n",
            "Epoch 00010: val_loss did not improve from 0.28831\n",
            "Epoch 11/50\n",
            " - 1s - loss: 0.4464 - acc: 0.8688 - val_loss: 0.6007 - val_acc: 0.7656\n",
            "\n",
            "Epoch 00011: val_loss did not improve from 0.28831\n",
            "Epoch 12/50\n",
            " - 1s - loss: 0.2879 - acc: 0.9125 - val_loss: 0.3726 - val_acc: 0.9062\n",
            "\n",
            "Epoch 00012: val_loss did not improve from 0.28831\n",
            "Epoch 13/50\n",
            " - 1s - loss: 0.3812 - acc: 0.8625 - val_loss: 0.9790 - val_acc: 0.5938\n",
            "\n",
            "Epoch 00013: val_loss did not improve from 0.28831\n",
            "Epoch 14/50\n",
            " - 1s - loss: 0.3098 - acc: 0.9094 - val_loss: 0.7316 - val_acc: 0.6719\n",
            "\n",
            "Epoch 00014: val_loss did not improve from 0.28831\n",
            "Epoch 15/50\n",
            " - 1s - loss: 0.3170 - acc: 0.8928 - val_loss: 0.5857 - val_acc: 0.7656\n",
            "\n",
            "Epoch 00015: val_loss did not improve from 0.28831\n",
            "Epoch 16/50\n",
            " - 1s - loss: 0.3166 - acc: 0.8844 - val_loss: 0.5194 - val_acc: 0.7656\n",
            "\n",
            "Epoch 00016: val_loss did not improve from 0.28831\n",
            "Epoch 17/50\n",
            " - 1s - loss: 0.3458 - acc: 0.8937 - val_loss: 0.5104 - val_acc: 0.8438\n",
            "\n",
            "Epoch 00017: val_loss did not improve from 0.28831\n",
            "Epoch 18/50\n",
            " - 1s - loss: 0.3418 - acc: 0.8812 - val_loss: 0.6793 - val_acc: 0.6875\n",
            "\n",
            "Epoch 00018: val_loss did not improve from 0.28831\n",
            "Epoch 19/50\n",
            " - 1s - loss: 0.3077 - acc: 0.9094 - val_loss: 0.7516 - val_acc: 0.5625\n",
            "\n",
            "Epoch 00019: val_loss did not improve from 0.28831\n",
            "Epoch 20/50\n",
            " - 1s - loss: 0.2114 - acc: 0.9375 - val_loss: 0.6368 - val_acc: 0.6406\n",
            "\n",
            "Epoch 00020: val_loss did not improve from 0.28831\n",
            "Epoch 21/50\n",
            " - 1s - loss: 0.2500 - acc: 0.9250 - val_loss: 0.7153 - val_acc: 0.5781\n",
            "\n",
            "Epoch 00021: val_loss did not improve from 0.28831\n",
            "Epoch 22/50\n",
            " - 1s - loss: 0.4129 - acc: 0.8844 - val_loss: 0.6363 - val_acc: 0.6719\n",
            "\n",
            "Epoch 00022: val_loss did not improve from 0.28831\n",
            "Epoch 23/50\n",
            " - 1s - loss: 0.3373 - acc: 0.8906 - val_loss: 0.5668 - val_acc: 0.6719\n",
            "\n",
            "Epoch 00023: val_loss did not improve from 0.28831\n",
            "Epoch 24/50\n",
            " - 1s - loss: 0.3953 - acc: 0.8781 - val_loss: 1.0320 - val_acc: 0.4375\n",
            "\n",
            "Epoch 00024: val_loss did not improve from 0.28831\n",
            "Epoch 25/50\n",
            " - 1s - loss: 0.2610 - acc: 0.9156 - val_loss: 1.3271 - val_acc: 0.4844\n",
            "\n",
            "Epoch 00025: val_loss did not improve from 0.28831\n",
            "Epoch 26/50\n",
            " - 1s - loss: 0.2414 - acc: 0.9344 - val_loss: 1.1215 - val_acc: 0.5469\n",
            "\n",
            "Epoch 00026: val_loss did not improve from 0.28831\n",
            "Epoch 27/50\n",
            " - 1s - loss: 0.2006 - acc: 0.9594 - val_loss: 1.2639 - val_acc: 0.5469\n",
            "\n",
            "Epoch 00027: val_loss did not improve from 0.28831\n",
            "Epoch 28/50\n",
            " - 1s - loss: 0.2822 - acc: 0.9156 - val_loss: 1.2418 - val_acc: 0.5156\n",
            "\n",
            "Epoch 00028: val_loss did not improve from 0.28831\n",
            "Epoch 29/50\n",
            " - 1s - loss: 0.2661 - acc: 0.9188 - val_loss: 0.9529 - val_acc: 0.6250\n",
            "\n",
            "Epoch 00029: val_loss did not improve from 0.28831\n",
            "Epoch 30/50\n",
            " - 1s - loss: 0.2554 - acc: 0.9313 - val_loss: 1.2266 - val_acc: 0.5000\n",
            "\n",
            "Epoch 00030: val_loss did not improve from 0.28831\n",
            "Epoch 31/50\n",
            " - 1s - loss: 0.3179 - acc: 0.8937 - val_loss: 0.2698 - val_acc: 0.9219\n",
            "\n",
            "Epoch 00031: val_loss improved from 0.28831 to 0.26984, saving model to drive/My Drive/Resultado/Colorido/weights_architecture_11.hdf5\n",
            "Epoch 32/50\n",
            " - 1s - loss: 0.2628 - acc: 0.9344 - val_loss: 0.8492 - val_acc: 0.6250\n",
            "\n",
            "Epoch 00032: val_loss did not improve from 0.26984\n",
            "Epoch 33/50\n",
            " - 1s - loss: 0.2844 - acc: 0.9281 - val_loss: 0.3951 - val_acc: 0.8906\n",
            "\n",
            "Epoch 00033: val_loss did not improve from 0.26984\n",
            "Epoch 34/50\n",
            " - 1s - loss: 0.2281 - acc: 0.9500 - val_loss: 0.7145 - val_acc: 0.7031\n",
            "\n",
            "Epoch 00034: val_loss did not improve from 0.26984\n",
            "Epoch 35/50\n",
            " - 1s - loss: 0.2687 - acc: 0.9250 - val_loss: 0.4104 - val_acc: 0.9375\n",
            "\n",
            "Epoch 00035: val_loss did not improve from 0.26984\n",
            "Epoch 36/50\n",
            " - 1s - loss: 0.2365 - acc: 0.9344 - val_loss: 0.4690 - val_acc: 0.7344\n",
            "\n",
            "Epoch 00036: val_loss did not improve from 0.26984\n",
            "Epoch 37/50\n",
            " - 1s - loss: 0.2369 - acc: 0.9406 - val_loss: 0.6640 - val_acc: 0.7344\n",
            "\n",
            "Epoch 00037: val_loss did not improve from 0.26984\n",
            "Epoch 38/50\n",
            " - 1s - loss: 0.2365 - acc: 0.9344 - val_loss: 0.4145 - val_acc: 0.8906\n",
            "\n",
            "Epoch 00038: val_loss did not improve from 0.26984\n",
            "Epoch 39/50\n",
            " - 1s - loss: 0.3477 - acc: 0.8937 - val_loss: 0.4084 - val_acc: 0.8438\n",
            "\n",
            "Epoch 00039: val_loss did not improve from 0.26984\n",
            "Epoch 40/50\n",
            " - 1s - loss: 0.2563 - acc: 0.9219 - val_loss: 0.5814 - val_acc: 0.8281\n",
            "\n",
            "Epoch 00040: val_loss did not improve from 0.26984\n",
            "Epoch 41/50\n",
            " - 1s - loss: 0.2710 - acc: 0.9219 - val_loss: 0.6673 - val_acc: 0.7419\n",
            "\n",
            "Epoch 00041: val_loss did not improve from 0.26984\n",
            "Epoch 42/50\n",
            " - 1s - loss: 0.2776 - acc: 0.9046 - val_loss: 0.5409 - val_acc: 0.7500\n",
            "\n",
            "Epoch 00042: val_loss did not improve from 0.26984\n",
            "Epoch 43/50\n",
            " - 1s - loss: 0.2133 - acc: 0.9594 - val_loss: 0.3328 - val_acc: 0.9062\n",
            "\n",
            "Epoch 00043: val_loss did not improve from 0.26984\n",
            "Epoch 44/50\n",
            " - 1s - loss: 0.2354 - acc: 0.9219 - val_loss: 0.9719 - val_acc: 0.5000\n",
            "\n",
            "Epoch 00044: val_loss did not improve from 0.26984\n",
            "Epoch 45/50\n",
            " - 1s - loss: 0.2112 - acc: 0.9344 - val_loss: 0.5247 - val_acc: 0.7969\n",
            "\n",
            "Epoch 00045: val_loss did not improve from 0.26984\n",
            "Epoch 46/50\n",
            " - 1s - loss: 0.3495 - acc: 0.9062 - val_loss: 0.9191 - val_acc: 0.6406\n",
            "\n",
            "Epoch 00046: val_loss did not improve from 0.26984\n",
            "Epoch 47/50\n",
            " - 1s - loss: 0.2357 - acc: 0.9281 - val_loss: 1.3850 - val_acc: 0.4375\n",
            "\n",
            "Epoch 00047: val_loss did not improve from 0.26984\n",
            "Epoch 48/50\n",
            " - 1s - loss: 0.3498 - acc: 0.9062 - val_loss: 0.4976 - val_acc: 0.7656\n",
            "\n",
            "Epoch 00048: val_loss did not improve from 0.26984\n",
            "Epoch 49/50\n",
            " - 1s - loss: 0.2394 - acc: 0.9313 - val_loss: 0.9752 - val_acc: 0.5625\n",
            "\n",
            "Epoch 00049: val_loss did not improve from 0.26984\n",
            "Epoch 50/50\n",
            " - 1s - loss: 0.2336 - acc: 0.9375 - val_loss: 0.6029 - val_acc: 0.7188\n",
            "\n",
            "Epoch 00050: val_loss did not improve from 0.26984\n"
          ],
          "name": "stdout"
        }
      ]
    },
    {
      "metadata": {
        "colab_type": "code",
        "id": "lA6cwhmYFt1h",
        "colab": {}
      },
      "cell_type": "code",
      "source": [
        "model.load_weights('drive/My Drive/Resultado/Colorido/weights_' + architecture + '.hdf5')"
      ],
      "execution_count": 0,
      "outputs": []
    },
    {
      "metadata": {
        "colab_type": "code",
        "id": "kPplRfrIFt1m",
        "outputId": "b72c0596-0efa-4030-b1c4-8531d8ac56b1",
        "colab": {
          "base_uri": "https://localhost:8080/"
        }
      },
      "cell_type": "code",
      "source": [
        "# plotar loss e accuracy para os datasets 'train' e 'test'\n",
        "plt.style.use(\"ggplot\")\n",
        "plt.figure()\n",
        "plt.plot(training.history['acc'], label='Accuracy')\n",
        "plt.plot(training.history['loss'], label='Loss')\n",
        "plt.xlabel('Epochs')\n",
        "plt.ylabel('Accuracy')\n",
        "plt.title(\"Training Loss and Accuracy\")\n",
        "plt.ylabel(\"Loss/Accuracy\")\n",
        "plt.legend()\n",
        "plt.savefig('drive/My Drive/Resultado/Colorido/' + architecture + '.png', bbox_inches='tight')"
      ],
      "execution_count": 0,
      "outputs": [
        {
          "output_type": "display_data",
          "data": {
            "image/png": "[encoded data removed]",
            "text/plain": [
              "<matplotlib.figure.Figure at 0x7f8a9df48630>"
            ]
          },
          "metadata": {
            "tags": []
          }
        }
      ]
    },
    {
      "metadata": {
        "colab_type": "text",
        "id": "slwgit7bFt1t"
      },
      "cell_type": "markdown",
      "source": [
        "### Teste"
      ]
    },
    {
      "metadata": {
        "colab_type": "code",
        "outputId": "ce414b08-34c8-42ef-fe22-94d6e0e96d20",
        "id": "WFVIipDXFt1v",
        "colab": {
          "base_uri": "https://localhost:8080/"
        }
      },
      "cell_type": "code",
      "source": [
        "y_true, y_predict = ler_images_teste(architecture)"
      ],
      "execution_count": 0,
      "outputs": [
        {
          "output_type": "stream",
          "text": [
            "/usr/local/lib/python3.6/dist-packages/skimage/transform/_warps.py:84: UserWarning: The default mode, 'constant', will be changed to 'reflect' in skimage 0.15.\n",
            "  warn(\"The default mode, 'constant', will be changed to 'reflect' in \"\n"
          ],
          "name": "stderr"
        }
      ]
    },
    {
      "metadata": {
        "colab_type": "code",
        "id": "3T07io2oFt12",
        "outputId": "21c9528c-3eb4-43bc-ce60-8b6648bded30",
        "colab": {
          "base_uri": "https://localhost:8080/"
        }
      },
      "cell_type": "code",
      "source": [
        "results[architecture] = precision_score(y_true, y_predict, average='binary')\n",
        "print('Test Precision: {:.2f}%'\n",
        "      .format(100 * results[architecture]))"
      ],
      "execution_count": 0,
      "outputs": [
        {
          "output_type": "stream",
          "text": [
            "Test Precision: 2.82%\n"
          ],
          "name": "stdout"
        }
      ]
    },
    {
      "metadata": {
        "id": "26BCkdp9MAna",
        "colab_type": "text"
      },
      "cell_type": "markdown",
      "source": [
        "## 12 tentativa Precision: 5.48%"
      ]
    },
    {
      "metadata": {
        "colab_type": "text",
        "id": "MLvKG40a84F9"
      },
      "cell_type": "markdown",
      "source": [
        "Modelo adaptado do **Lucas Valentim**\n",
        "\n",
        "*   Sem utilização das funções de regularização\n",
        "*   Função **SGD** para compilação\n",
        "*   Adicionado mais 2 camadas convolutivas"
      ]
    },
    {
      "metadata": {
        "colab_type": "code",
        "id": "-_TE6KwakRoT",
        "colab": {}
      },
      "cell_type": "code",
      "source": [
        "architecture = 'architecture_12'"
      ],
      "execution_count": 0,
      "outputs": []
    },
    {
      "metadata": {
        "id": "Re-dc0YXEr3p",
        "colab_type": "text"
      },
      "cell_type": "markdown",
      "source": [
        "### Modelo"
      ]
    },
    {
      "metadata": {
        "colab_type": "code",
        "id": "9LrDSy5AMFDO",
        "colab": {}
      },
      "cell_type": "code",
      "source": [
        "from keras.layers import Conv2D, MaxPooling2D, GlobalMaxPooling2D, BatchNormalization\n",
        "from keras.regularizers import l2\n",
        "\n",
        "model = Sequential()\n",
        "\n",
        "model.add(Conv2D(32, (3, 3), activation='relu',input_shape=(None, None, 3)))\n",
        "model.add(BatchNormalization())\n",
        "model.add(Conv2D(32, (3, 3), activation='relu'))\n",
        "model.add(BatchNormalization())\n",
        "model.add(MaxPooling2D((2, 2)))\n",
        "model.add(Dropout(0.25))\n",
        "\n",
        "model.add(Conv2D(64, (3, 3), activation='relu'))\n",
        "model.add(BatchNormalization())\n",
        "model.add(Conv2D(64, (3, 3), activation='relu'))\n",
        "model.add(BatchNormalization())\n",
        "model.add(MaxPooling2D((2, 2)))\n",
        "model.add(Dropout(0.25))\n",
        "\n",
        "model.add(Conv2D(96, (3, 3),activation='relu'))\n",
        "model.add(BatchNormalization())\n",
        "model.add(Conv2D(96, (3, 3),activation='relu'))\n",
        "model.add(BatchNormalization())\n",
        "model.add(MaxPooling2D((2, 2)))\n",
        "model.add(Dropout(0.25))\n",
        "\n",
        "model.add(Conv2D(128, (1,1)))\n",
        "model.add(GlobalMaxPooling2D())\n",
        "\n",
        "model.add(Dense(256, activation='relu'))\n",
        "model.add(Dropout(0.5))\n",
        "model.add(Dense(2, activation='sigmoid'))"
      ],
      "execution_count": 0,
      "outputs": []
    },
    {
      "metadata": {
        "colab_type": "code",
        "id": "EUZ-2eyUMSxQ",
        "colab": {}
      },
      "cell_type": "code",
      "source": [
        "model.compile(SGD(lr=0.01, momentum=0.0, decay=0.0, nesterov=False), \n",
        "              loss='binary_crossentropy', metrics=['accuracy'])"
      ],
      "execution_count": 0,
      "outputs": []
    },
    {
      "metadata": {
        "colab_type": "text",
        "id": "pNDlQBYdFu45"
      },
      "cell_type": "markdown",
      "source": [
        "### Treino\n"
      ]
    },
    {
      "metadata": {
        "colab_type": "code",
        "id": "TxUOYvuWFu5F",
        "colab": {}
      },
      "cell_type": "code",
      "source": [
        "checkpointer = ModelCheckpoint(filepath='drive/My Drive/Resultado/Colorido/weights_' + architecture + '.hdf5', verbose=1, save_best_only=True)"
      ],
      "execution_count": 0,
      "outputs": []
    },
    {
      "metadata": {
        "colab_type": "code",
        "id": "RUa8IqkCFu5X",
        "outputId": "8fd0e560-d8a0-4740-fab4-a35a50d0584d",
        "colab": {
          "base_uri": "https://localhost:8080/",
          "height": 3710
        }
      },
      "cell_type": "code",
      "source": [
        "training = model.fit_generator(train_batches, steps_per_epoch=stepsPerEpoche, \n",
        "                   validation_data=validation_batches, validation_steps=validationSteps,\n",
        "                   epochs=50, verbose=2, callbacks=[checkpointer])"
      ],
      "execution_count": 0,
      "outputs": [
        {
          "output_type": "stream",
          "text": [
            "Epoch 1/50\n",
            " - 6s - loss: 1.2082 - acc: 0.5438 - val_loss: 0.6704 - val_acc: 0.5625\n",
            "\n",
            "Epoch 00001: val_loss improved from inf to 0.67037, saving model to drive/My Drive/Resultado/Colorido/weights_architecture_12.hdf5\n",
            "Epoch 2/50\n",
            " - 1s - loss: 0.7539 - acc: 0.6969 - val_loss: 0.6444 - val_acc: 0.7344\n",
            "\n",
            "Epoch 00002: val_loss improved from 0.67037 to 0.64442, saving model to drive/My Drive/Resultado/Colorido/weights_architecture_12.hdf5\n",
            "Epoch 3/50\n",
            " - 1s - loss: 0.5346 - acc: 0.7781 - val_loss: 0.4628 - val_acc: 0.8281\n",
            "\n",
            "Epoch 00003: val_loss improved from 0.64442 to 0.46277, saving model to drive/My Drive/Resultado/Colorido/weights_architecture_12.hdf5\n",
            "Epoch 4/50\n",
            " - 1s - loss: 0.6388 - acc: 0.7812 - val_loss: 0.7190 - val_acc: 0.5469\n",
            "\n",
            "Epoch 00004: val_loss did not improve from 0.46277\n",
            "Epoch 5/50\n",
            " - 1s - loss: 0.4762 - acc: 0.8125 - val_loss: 0.7049 - val_acc: 0.5938\n",
            "\n",
            "Epoch 00005: val_loss did not improve from 0.46277\n",
            "Epoch 6/50\n",
            " - 1s - loss: 0.4194 - acc: 0.8438 - val_loss: 0.6388 - val_acc: 0.7344\n",
            "\n",
            "Epoch 00006: val_loss did not improve from 0.46277\n",
            "Epoch 7/50\n",
            " - 1s - loss: 0.3059 - acc: 0.8750 - val_loss: 0.9477 - val_acc: 0.4062\n",
            "\n",
            "Epoch 00007: val_loss did not improve from 0.46277\n",
            "Epoch 8/50\n",
            " - 1s - loss: 0.3780 - acc: 0.8812 - val_loss: 0.3338 - val_acc: 0.9375\n",
            "\n",
            "Epoch 00008: val_loss improved from 0.46277 to 0.33382, saving model to drive/My Drive/Resultado/Colorido/weights_architecture_12.hdf5\n",
            "Epoch 9/50\n",
            " - 1s - loss: 0.3922 - acc: 0.8500 - val_loss: 0.6754 - val_acc: 0.5781\n",
            "\n",
            "Epoch 00009: val_loss did not improve from 0.33382\n",
            "Epoch 10/50\n",
            " - 1s - loss: 0.2646 - acc: 0.9031 - val_loss: 0.8688 - val_acc: 0.5312\n",
            "\n",
            "Epoch 00010: val_loss did not improve from 0.33382\n",
            "Epoch 11/50\n",
            " - 1s - loss: 0.3267 - acc: 0.8781 - val_loss: 0.6266 - val_acc: 0.6452\n",
            "\n",
            "Epoch 00011: val_loss did not improve from 0.33382\n",
            "Epoch 12/50\n",
            " - 1s - loss: 0.2166 - acc: 0.9344 - val_loss: 0.7095 - val_acc: 0.6562\n",
            "\n",
            "Epoch 00012: val_loss did not improve from 0.33382\n",
            "Epoch 13/50\n",
            " - 1s - loss: 0.3361 - acc: 0.8719 - val_loss: 0.3504 - val_acc: 0.8750\n",
            "\n",
            "Epoch 00013: val_loss did not improve from 0.33382\n",
            "Epoch 14/50\n",
            " - 1s - loss: 0.2359 - acc: 0.9156 - val_loss: 0.4043 - val_acc: 0.8438\n",
            "\n",
            "Epoch 00014: val_loss did not improve from 0.33382\n",
            "Epoch 15/50\n",
            " - 1s - loss: 0.3914 - acc: 0.8469 - val_loss: 0.4537 - val_acc: 0.8281\n",
            "\n",
            "Epoch 00015: val_loss did not improve from 0.33382\n",
            "Epoch 16/50\n",
            " - 1s - loss: 0.1802 - acc: 0.9313 - val_loss: 0.5269 - val_acc: 0.7031\n",
            "\n",
            "Epoch 00016: val_loss did not improve from 0.33382\n",
            "Epoch 17/50\n",
            " - 1s - loss: 0.1896 - acc: 0.9250 - val_loss: 0.4990 - val_acc: 0.6719\n",
            "\n",
            "Epoch 00017: val_loss did not improve from 0.33382\n",
            "Epoch 18/50\n",
            " - 1s - loss: 0.1997 - acc: 0.9469 - val_loss: 0.4448 - val_acc: 0.8125\n",
            "\n",
            "Epoch 00018: val_loss did not improve from 0.33382\n",
            "Epoch 19/50\n",
            " - 1s - loss: 0.2378 - acc: 0.9078 - val_loss: 0.7716 - val_acc: 0.5938\n",
            "\n",
            "Epoch 00019: val_loss did not improve from 0.33382\n",
            "Epoch 20/50\n",
            " - 1s - loss: 0.2839 - acc: 0.9062 - val_loss: 0.4467 - val_acc: 0.7500\n",
            "\n",
            "Epoch 00020: val_loss did not improve from 0.33382\n",
            "Epoch 21/50\n",
            " - 1s - loss: 0.2412 - acc: 0.9094 - val_loss: 0.8854 - val_acc: 0.5000\n",
            "\n",
            "Epoch 00021: val_loss did not improve from 0.33382\n",
            "Epoch 22/50\n",
            " - 1s - loss: 0.2255 - acc: 0.9094 - val_loss: 0.9996 - val_acc: 0.4688\n",
            "\n",
            "Epoch 00022: val_loss did not improve from 0.33382\n",
            "Epoch 23/50\n",
            " - 1s - loss: 0.2462 - acc: 0.9031 - val_loss: 0.3890 - val_acc: 0.7812\n",
            "\n",
            "Epoch 00023: val_loss did not improve from 0.33382\n",
            "Epoch 24/50\n",
            " - 1s - loss: 0.2173 - acc: 0.9219 - val_loss: 0.8739 - val_acc: 0.4531\n",
            "\n",
            "Epoch 00024: val_loss did not improve from 0.33382\n",
            "Epoch 25/50\n",
            " - 1s - loss: 0.2618 - acc: 0.9094 - val_loss: 0.3713 - val_acc: 0.8438\n",
            "\n",
            "Epoch 00025: val_loss did not improve from 0.33382\n",
            "Epoch 26/50\n",
            " - 1s - loss: 0.2129 - acc: 0.9375 - val_loss: 0.7311 - val_acc: 0.5156\n",
            "\n",
            "Epoch 00026: val_loss did not improve from 0.33382\n",
            "Epoch 27/50\n",
            " - 1s - loss: 0.2454 - acc: 0.9156 - val_loss: 0.9017 - val_acc: 0.5469\n",
            "\n",
            "Epoch 00027: val_loss did not improve from 0.33382\n",
            "Epoch 28/50\n",
            " - 1s - loss: 0.1900 - acc: 0.9281 - val_loss: 0.8560 - val_acc: 0.5625\n",
            "\n",
            "Epoch 00028: val_loss did not improve from 0.33382\n",
            "Epoch 29/50\n",
            " - 1s - loss: 0.2537 - acc: 0.8969 - val_loss: 0.8965 - val_acc: 0.4219\n",
            "\n",
            "Epoch 00029: val_loss did not improve from 0.33382\n",
            "Epoch 30/50\n",
            " - 1s - loss: 0.2734 - acc: 0.9000 - val_loss: 0.9504 - val_acc: 0.3906\n",
            "\n",
            "Epoch 00030: val_loss did not improve from 0.33382\n",
            "Epoch 31/50\n",
            " - 1s - loss: 0.1991 - acc: 0.9281 - val_loss: 0.6233 - val_acc: 0.6406\n",
            "\n",
            "Epoch 00031: val_loss did not improve from 0.33382\n",
            "Epoch 32/50\n",
            " - 1s - loss: 0.1163 - acc: 0.9500 - val_loss: 1.1553 - val_acc: 0.5312\n",
            "\n",
            "Epoch 00032: val_loss did not improve from 0.33382\n",
            "Epoch 33/50\n",
            " - 1s - loss: 0.2283 - acc: 0.9094 - val_loss: 0.4877 - val_acc: 0.7344\n",
            "\n",
            "Epoch 00033: val_loss did not improve from 0.33382\n",
            "Epoch 34/50\n",
            " - 1s - loss: 0.2141 - acc: 0.9406 - val_loss: 0.9365 - val_acc: 0.5469\n",
            "\n",
            "Epoch 00034: val_loss did not improve from 0.33382\n",
            "Epoch 35/50\n",
            " - 1s - loss: 0.2069 - acc: 0.9313 - val_loss: 0.6966 - val_acc: 0.6406\n",
            "\n",
            "Epoch 00035: val_loss did not improve from 0.33382\n",
            "Epoch 36/50\n",
            " - 1s - loss: 0.1534 - acc: 0.9313 - val_loss: 0.2831 - val_acc: 0.9375\n",
            "\n",
            "Epoch 00036: val_loss improved from 0.33382 to 0.28313, saving model to drive/My Drive/Resultado/Colorido/weights_architecture_12.hdf5\n",
            "Epoch 37/50\n",
            " - 1s - loss: 0.1745 - acc: 0.9281 - val_loss: 0.4255 - val_acc: 0.7969\n",
            "\n",
            "Epoch 00037: val_loss did not improve from 0.28313\n",
            "Epoch 38/50\n",
            " - 1s - loss: 0.1441 - acc: 0.9469 - val_loss: 0.3973 - val_acc: 0.8906\n",
            "\n",
            "Epoch 00038: val_loss did not improve from 0.28313\n",
            "Epoch 39/50\n",
            " - 1s - loss: 0.1557 - acc: 0.9344 - val_loss: 0.4636 - val_acc: 0.8125\n",
            "\n",
            "Epoch 00039: val_loss did not improve from 0.28313\n",
            "Epoch 40/50\n",
            " - 1s - loss: 0.2026 - acc: 0.9219 - val_loss: 0.5191 - val_acc: 0.7969\n",
            "\n",
            "Epoch 00040: val_loss did not improve from 0.28313\n",
            "Epoch 41/50\n",
            " - 1s - loss: 0.1433 - acc: 0.9562 - val_loss: 0.3911 - val_acc: 0.8906\n",
            "\n",
            "Epoch 00041: val_loss did not improve from 0.28313\n",
            "Epoch 42/50\n",
            " - 1s - loss: 0.1623 - acc: 0.9281 - val_loss: 0.5240 - val_acc: 0.7581\n",
            "\n",
            "Epoch 00042: val_loss did not improve from 0.28313\n",
            "Epoch 43/50\n",
            " - 1s - loss: 0.2222 - acc: 0.9125 - val_loss: 0.6085 - val_acc: 0.6875\n",
            "\n",
            "Epoch 00043: val_loss did not improve from 0.28313\n",
            "Epoch 44/50\n",
            " - 1s - loss: 0.1865 - acc: 0.9125 - val_loss: 0.3858 - val_acc: 0.8594\n",
            "\n",
            "Epoch 00044: val_loss did not improve from 0.28313\n",
            "Epoch 45/50\n",
            " - 1s - loss: 0.2341 - acc: 0.9062 - val_loss: 0.4331 - val_acc: 0.7969\n",
            "\n",
            "Epoch 00045: val_loss did not improve from 0.28313\n",
            "Epoch 46/50\n",
            " - 1s - loss: 0.2387 - acc: 0.9163 - val_loss: 0.5919 - val_acc: 0.5625\n",
            "\n",
            "Epoch 00046: val_loss did not improve from 0.28313\n",
            "Epoch 47/50\n",
            " - 1s - loss: 0.3254 - acc: 0.8656 - val_loss: 0.5809 - val_acc: 0.6719\n",
            "\n",
            "Epoch 00047: val_loss did not improve from 0.28313\n",
            "Epoch 48/50\n",
            " - 1s - loss: 0.3285 - acc: 0.8563 - val_loss: 0.5537 - val_acc: 0.6719\n",
            "\n",
            "Epoch 00048: val_loss did not improve from 0.28313\n",
            "Epoch 49/50\n",
            " - 1s - loss: 0.1828 - acc: 0.9375 - val_loss: 0.3764 - val_acc: 0.9219\n",
            "\n",
            "Epoch 00049: val_loss did not improve from 0.28313\n",
            "Epoch 50/50\n",
            " - 1s - loss: 0.1737 - acc: 0.9344 - val_loss: 0.2549 - val_acc: 0.9375\n",
            "\n",
            "Epoch 00050: val_loss improved from 0.28313 to 0.25485, saving model to drive/My Drive/Resultado/Colorido/weights_architecture_12.hdf5\n"
          ],
          "name": "stdout"
        }
      ]
    },
    {
      "metadata": {
        "colab_type": "code",
        "id": "QhygibHlFu5l",
        "colab": {}
      },
      "cell_type": "code",
      "source": [
        "model.load_weights('drive/My Drive/Resultado/Colorido/weights_' + architecture + '.hdf5')"
      ],
      "execution_count": 0,
      "outputs": []
    },
    {
      "metadata": {
        "colab_type": "code",
        "id": "F2shlKGTFu5s",
        "outputId": "c216f558-c178-4b62-a8c7-a8793187b749",
        "colab": {
          "base_uri": "https://localhost:8080/",
          "height": 380
        }
      },
      "cell_type": "code",
      "source": [
        "# plotar loss e accuracy para os datasets 'train' e 'test'\n",
        "plt.style.use(\"ggplot\")\n",
        "plt.figure()\n",
        "plt.plot(training.history['acc'], label='Accuracy')\n",
        "plt.plot(training.history['loss'], label='Loss')\n",
        "plt.xlabel('Epochs')\n",
        "plt.ylabel('Accuracy')\n",
        "plt.title(\"Training Loss and Accuracy\")\n",
        "plt.ylabel(\"Loss/Accuracy\")\n",
        "plt.legend()\n",
        "plt.savefig('drive/My Drive/Resultado/Colorido/' + architecture + '.png', bbox_inches='tight')"
      ],
      "execution_count": 0,
      "outputs": [
        {
          "output_type": "display_data",
          "data": {
            "image/png": "[encoded data removed]",
            "text/plain": [
              "<matplotlib.figure.Figure at 0x7f8a9d6d3fd0>"
            ]
          },
          "metadata": {
            "tags": []
          }
        }
      ]
    },
    {
      "metadata": {
        "colab_type": "text",
        "id": "hZ1w_EwwFu50"
      },
      "cell_type": "markdown",
      "source": [
        "### Teste"
      ]
    },
    {
      "metadata": {
        "colab_type": "code",
        "outputId": "4e86fc27-bb65-491d-f298-3a301c92549e",
        "id": "OzBcgvjFFu51",
        "colab": {
          "base_uri": "https://localhost:8080/",
          "height": 74
        }
      },
      "cell_type": "code",
      "source": [
        "y_true, y_predict = ler_images_teste(architecture)"
      ],
      "execution_count": 0,
      "outputs": [
        {
          "output_type": "stream",
          "text": [
            "/usr/local/lib/python3.6/dist-packages/skimage/transform/_warps.py:84: UserWarning: The default mode, 'constant', will be changed to 'reflect' in skimage 0.15.\n",
            "  warn(\"The default mode, 'constant', will be changed to 'reflect' in \"\n"
          ],
          "name": "stderr"
        }
      ]
    },
    {
      "metadata": {
        "colab_type": "code",
        "id": "ngYLIAbLFu57",
        "outputId": "066e4043-2178-4a8e-94f8-c823507f46c5",
        "colab": {
          "base_uri": "https://localhost:8080/",
          "height": 35
        }
      },
      "cell_type": "code",
      "source": [
        "results[architecture] = precision_score(y_true, y_predict, average='binary')\n",
        "print('Test Precision: {:.2f}%'\n",
        "      .format(100 * results[architecture]))"
      ],
      "execution_count": 0,
      "outputs": [
        {
          "output_type": "stream",
          "text": [
            "Test Precision: 5.48%\n"
          ],
          "name": "stdout"
        }
      ]
    },
    {
      "metadata": {
        "colab_type": "text",
        "id": "Un9HtbTIqkXS"
      },
      "cell_type": "markdown",
      "source": [
        "## 13 tentativa Precision: 6.18%"
      ]
    },
    {
      "metadata": {
        "colab_type": "text",
        "id": "HNDvvOwsqkXW"
      },
      "cell_type": "markdown",
      "source": [
        "Modelo adaptado do ** Lucas Valentim**\n",
        "\n",
        "*   Utilizado outra função de normalização, diferente da utilizada por ele."
      ]
    },
    {
      "metadata": {
        "colab_type": "code",
        "id": "_lp8G0SCqkXt",
        "colab": {}
      },
      "cell_type": "code",
      "source": [
        "architecture = 'architecture_13'"
      ],
      "execution_count": 0,
      "outputs": []
    },
    {
      "metadata": {
        "id": "5PdHZAGMEybs",
        "colab_type": "text"
      },
      "cell_type": "markdown",
      "source": [
        "### Modelo"
      ]
    },
    {
      "metadata": {
        "colab_type": "code",
        "id": "iTG2TFqBqkXa",
        "colab": {}
      },
      "cell_type": "code",
      "source": [
        "from keras.layers import Conv2D, MaxPooling2D, GlobalMaxPooling2D, BatchNormalization\n",
        "from keras.regularizers import l2\n",
        "\n",
        "model = Sequential()\n",
        "\n",
        "model.add(Conv2D(32, (3, 3), activation='relu',input_shape=(None, None, 3)))\n",
        "model.add(MaxPooling2D((2, 2)))\n",
        "model.add(BatchNormalization())\n",
        "model.add(Dropout(0.25))\n",
        "\n",
        "model.add(Conv2D(64, (5, 5), activation='relu'))\n",
        "model.add(MaxPooling2D((2, 2)))\n",
        "model.add(BatchNormalization())\n",
        "model.add(Dropout(0.25))\n",
        "\n",
        "model.add(Conv2D(128, (7, 7),activation='relu'))\n",
        "model.add(MaxPooling2D((2, 2)))\n",
        "model.add(BatchNormalization())\n",
        "model.add(Dropout(0.25))\n",
        "\n",
        "model.add(Conv2D(128, (1,1)))\n",
        "model.add(GlobalMaxPooling2D())\n",
        "\n",
        "model.add(Dense(256, activation='relu'))\n",
        "model.add(Dropout(0.5))\n",
        "model.add(Dense(2, activation='sigmoid'))"
      ],
      "execution_count": 0,
      "outputs": []
    },
    {
      "metadata": {
        "colab_type": "code",
        "id": "xbd43caBqkXj",
        "colab": {}
      },
      "cell_type": "code",
      "source": [
        "model.compile(optimizer='adam', loss='binary_crossentropy', metrics=['accuracy'])"
      ],
      "execution_count": 0,
      "outputs": []
    },
    {
      "metadata": {
        "colab_type": "text",
        "id": "gv0ARJgIFvx4"
      },
      "cell_type": "markdown",
      "source": [
        "### Treino\n"
      ]
    },
    {
      "metadata": {
        "colab_type": "code",
        "id": "uUGas3ZsFvx7",
        "colab": {}
      },
      "cell_type": "code",
      "source": [
        "checkpointer = ModelCheckpoint(filepath='drive/My Drive/Resultado/Colorido/weights_' + architecture + '.hdf5', verbose=1, save_best_only=True)"
      ],
      "execution_count": 0,
      "outputs": []
    },
    {
      "metadata": {
        "colab_type": "code",
        "id": "0EA4oJFcFvyD",
        "outputId": "a563152b-b667-46d8-900e-66134d849132",
        "colab": {
          "base_uri": "https://localhost:8080/",
          "height": 3710
        }
      },
      "cell_type": "code",
      "source": [
        "training = model.fit_generator(train_batches, steps_per_epoch=stepsPerEpoche, \n",
        "                   validation_data=validation_batches, validation_steps=validationSteps,\n",
        "                   epochs=50, verbose=2, callbacks=[checkpointer])"
      ],
      "execution_count": 0,
      "outputs": [
        {
          "output_type": "stream",
          "text": [
            "Epoch 1/50\n",
            " - 6s - loss: 0.8736 - acc: 0.6906 - val_loss: 0.4373 - val_acc: 0.8125\n",
            "\n",
            "Epoch 00001: val_loss improved from inf to 0.43730, saving model to drive/My Drive/Resultado/Colorido/weights_architecture_13.hdf5\n",
            "Epoch 2/50\n",
            " - 0s - loss: 0.5753 - acc: 0.7719 - val_loss: 0.2276 - val_acc: 0.9062\n",
            "\n",
            "Epoch 00002: val_loss improved from 0.43730 to 0.22759, saving model to drive/My Drive/Resultado/Colorido/weights_architecture_13.hdf5\n",
            "Epoch 3/50\n",
            " - 0s - loss: 0.4685 - acc: 0.8344 - val_loss: 0.7685 - val_acc: 0.7500\n",
            "\n",
            "Epoch 00003: val_loss did not improve from 0.22759\n",
            "Epoch 4/50\n",
            " - 0s - loss: 0.2977 - acc: 0.9094 - val_loss: 0.5917 - val_acc: 0.7656\n",
            "\n",
            "Epoch 00004: val_loss did not improve from 0.22759\n",
            "Epoch 5/50\n",
            " - 0s - loss: 0.3119 - acc: 0.8937 - val_loss: 0.3599 - val_acc: 0.8594\n",
            "\n",
            "Epoch 00005: val_loss did not improve from 0.22759\n",
            "Epoch 6/50\n",
            " - 1s - loss: 0.4312 - acc: 0.8594 - val_loss: 0.7040 - val_acc: 0.7500\n",
            "\n",
            "Epoch 00006: val_loss did not improve from 0.22759\n",
            "Epoch 7/50\n",
            " - 1s - loss: 0.3013 - acc: 0.9000 - val_loss: 0.5948 - val_acc: 0.6250\n",
            "\n",
            "Epoch 00007: val_loss did not improve from 0.22759\n",
            "Epoch 8/50\n",
            " - 1s - loss: 0.3580 - acc: 0.8750 - val_loss: 0.2554 - val_acc: 0.8750\n",
            "\n",
            "Epoch 00008: val_loss did not improve from 0.22759\n",
            "Epoch 9/50\n",
            " - 1s - loss: 0.2729 - acc: 0.9000 - val_loss: 0.1655 - val_acc: 0.9688\n",
            "\n",
            "Epoch 00009: val_loss improved from 0.22759 to 0.16554, saving model to drive/My Drive/Resultado/Colorido/weights_architecture_13.hdf5\n",
            "Epoch 10/50\n",
            " - 1s - loss: 0.2317 - acc: 0.9125 - val_loss: 0.3989 - val_acc: 0.7812\n",
            "\n",
            "Epoch 00010: val_loss did not improve from 0.16554\n",
            "Epoch 11/50\n",
            " - 1s - loss: 0.2415 - acc: 0.9250 - val_loss: 0.6836 - val_acc: 0.6719\n",
            "\n",
            "Epoch 00011: val_loss did not improve from 0.16554\n",
            "Epoch 12/50\n",
            " - 1s - loss: 0.2592 - acc: 0.9094 - val_loss: 0.8420 - val_acc: 0.6719\n",
            "\n",
            "Epoch 00012: val_loss did not improve from 0.16554\n",
            "Epoch 13/50\n",
            " - 1s - loss: 0.2616 - acc: 0.9062 - val_loss: 1.1521 - val_acc: 0.5938\n",
            "\n",
            "Epoch 00013: val_loss did not improve from 0.16554\n",
            "Epoch 14/50\n",
            " - 1s - loss: 0.3972 - acc: 0.8563 - val_loss: 0.8332 - val_acc: 0.6094\n",
            "\n",
            "Epoch 00014: val_loss did not improve from 0.16554\n",
            "Epoch 15/50\n",
            " - 1s - loss: 0.3390 - acc: 0.8906 - val_loss: 0.4466 - val_acc: 0.8438\n",
            "\n",
            "Epoch 00015: val_loss did not improve from 0.16554\n",
            "Epoch 16/50\n",
            " - 1s - loss: 0.2255 - acc: 0.9250 - val_loss: 0.3684 - val_acc: 0.8438\n",
            "\n",
            "Epoch 00016: val_loss did not improve from 0.16554\n",
            "Epoch 17/50\n",
            " - 1s - loss: 0.2963 - acc: 0.8906 - val_loss: 0.6741 - val_acc: 0.6250\n",
            "\n",
            "Epoch 00017: val_loss did not improve from 0.16554\n",
            "Epoch 18/50\n",
            " - 1s - loss: 0.1993 - acc: 0.9250 - val_loss: 0.3223 - val_acc: 0.8438\n",
            "\n",
            "Epoch 00018: val_loss did not improve from 0.16554\n",
            "Epoch 19/50\n",
            " - 1s - loss: 0.3582 - acc: 0.8714 - val_loss: 1.1151 - val_acc: 0.5000\n",
            "\n",
            "Epoch 00019: val_loss did not improve from 0.16554\n",
            "Epoch 20/50\n",
            " - 1s - loss: 0.2004 - acc: 0.9156 - val_loss: 0.9303 - val_acc: 0.6562\n",
            "\n",
            "Epoch 00020: val_loss did not improve from 0.16554\n",
            "Epoch 21/50\n",
            " - 1s - loss: 0.2833 - acc: 0.8750 - val_loss: 1.3111 - val_acc: 0.5781\n",
            "\n",
            "Epoch 00021: val_loss did not improve from 0.16554\n",
            "Epoch 22/50\n",
            " - 1s - loss: 0.1581 - acc: 0.9313 - val_loss: 0.9006 - val_acc: 0.6935\n",
            "\n",
            "Epoch 00022: val_loss did not improve from 0.16554\n",
            "Epoch 23/50\n",
            " - 0s - loss: 0.1797 - acc: 0.9406 - val_loss: 1.2172 - val_acc: 0.5781\n",
            "\n",
            "Epoch 00023: val_loss did not improve from 0.16554\n",
            "Epoch 24/50\n",
            " - 1s - loss: 0.1545 - acc: 0.9531 - val_loss: 1.2695 - val_acc: 0.5625\n",
            "\n",
            "Epoch 00024: val_loss did not improve from 0.16554\n",
            "Epoch 25/50\n",
            " - 1s - loss: 0.2368 - acc: 0.9188 - val_loss: 0.8081 - val_acc: 0.7344\n",
            "\n",
            "Epoch 00025: val_loss did not improve from 0.16554\n",
            "Epoch 26/50\n",
            " - 1s - loss: 0.1723 - acc: 0.9250 - val_loss: 1.8124 - val_acc: 0.5000\n",
            "\n",
            "Epoch 00026: val_loss did not improve from 0.16554\n",
            "Epoch 27/50\n",
            " - 1s - loss: 0.2618 - acc: 0.9188 - val_loss: 1.5360 - val_acc: 0.5156\n",
            "\n",
            "Epoch 00027: val_loss did not improve from 0.16554\n",
            "Epoch 28/50\n",
            " - 1s - loss: 0.1884 - acc: 0.9375 - val_loss: 2.1771 - val_acc: 0.3438\n",
            "\n",
            "Epoch 00028: val_loss did not improve from 0.16554\n",
            "Epoch 29/50\n",
            " - 1s - loss: 0.2201 - acc: 0.9062 - val_loss: 1.0015 - val_acc: 0.6406\n",
            "\n",
            "Epoch 00029: val_loss did not improve from 0.16554\n",
            "Epoch 30/50\n",
            " - 1s - loss: 0.2194 - acc: 0.9250 - val_loss: 1.2800 - val_acc: 0.5469\n",
            "\n",
            "Epoch 00030: val_loss did not improve from 0.16554\n",
            "Epoch 31/50\n",
            " - 1s - loss: 0.2940 - acc: 0.8656 - val_loss: 0.8484 - val_acc: 0.6562\n",
            "\n",
            "Epoch 00031: val_loss did not improve from 0.16554\n",
            "Epoch 32/50\n",
            " - 1s - loss: 0.2206 - acc: 0.8937 - val_loss: 0.7324 - val_acc: 0.6562\n",
            "\n",
            "Epoch 00032: val_loss did not improve from 0.16554\n",
            "Epoch 33/50\n",
            " - 1s - loss: 0.2270 - acc: 0.9250 - val_loss: 0.1227 - val_acc: 0.9531\n",
            "\n",
            "Epoch 00033: val_loss improved from 0.16554 to 0.12269, saving model to drive/My Drive/Resultado/Colorido/weights_architecture_13.hdf5\n",
            "Epoch 34/50\n",
            " - 1s - loss: 0.1913 - acc: 0.9313 - val_loss: 0.2763 - val_acc: 0.8750\n",
            "\n",
            "Epoch 00034: val_loss did not improve from 0.12269\n",
            "Epoch 35/50\n",
            " - 1s - loss: 0.1816 - acc: 0.9313 - val_loss: 0.4994 - val_acc: 0.7812\n",
            "\n",
            "Epoch 00035: val_loss did not improve from 0.12269\n",
            "Epoch 36/50\n",
            " - 1s - loss: 0.2547 - acc: 0.8875 - val_loss: 0.8298 - val_acc: 0.6562\n",
            "\n",
            "Epoch 00036: val_loss did not improve from 0.12269\n",
            "Epoch 37/50\n",
            " - 1s - loss: 0.1169 - acc: 0.9625 - val_loss: 0.4302 - val_acc: 0.8125\n",
            "\n",
            "Epoch 00037: val_loss did not improve from 0.12269\n",
            "Epoch 38/50\n",
            " - 1s - loss: 0.1614 - acc: 0.9500 - val_loss: 0.7062 - val_acc: 0.6719\n",
            "\n",
            "Epoch 00038: val_loss did not improve from 0.12269\n",
            "Epoch 39/50\n",
            " - 1s - loss: 0.2465 - acc: 0.9156 - val_loss: 0.2103 - val_acc: 0.8594\n",
            "\n",
            "Epoch 00039: val_loss did not improve from 0.12269\n",
            "Epoch 40/50\n",
            " - 1s - loss: 0.1815 - acc: 0.9313 - val_loss: 0.4416 - val_acc: 0.8750\n",
            "\n",
            "Epoch 00040: val_loss did not improve from 0.12269\n",
            "Epoch 41/50\n",
            " - 1s - loss: 0.1932 - acc: 0.9125 - val_loss: 0.2967 - val_acc: 0.8750\n",
            "\n",
            "Epoch 00041: val_loss did not improve from 0.12269\n",
            "Epoch 42/50\n",
            " - 1s - loss: 0.3105 - acc: 0.8719 - val_loss: 0.3844 - val_acc: 0.8281\n",
            "\n",
            "Epoch 00042: val_loss did not improve from 0.12269\n",
            "Epoch 43/50\n",
            " - 1s - loss: 0.2148 - acc: 0.9156 - val_loss: 0.5623 - val_acc: 0.7500\n",
            "\n",
            "Epoch 00043: val_loss did not improve from 0.12269\n",
            "Epoch 44/50\n",
            " - 1s - loss: 0.1475 - acc: 0.9656 - val_loss: 0.4617 - val_acc: 0.8594\n",
            "\n",
            "Epoch 00044: val_loss did not improve from 0.12269\n",
            "Epoch 45/50\n",
            " - 1s - loss: 0.2085 - acc: 0.9062 - val_loss: 0.2903 - val_acc: 0.8594\n",
            "\n",
            "Epoch 00045: val_loss did not improve from 0.12269\n",
            "Epoch 46/50\n",
            " - 1s - loss: 0.1326 - acc: 0.9587 - val_loss: 0.2097 - val_acc: 0.9062\n",
            "\n",
            "Epoch 00046: val_loss did not improve from 0.12269\n",
            "Epoch 47/50\n",
            " - 1s - loss: 0.1583 - acc: 0.9531 - val_loss: 0.3990 - val_acc: 0.8750\n",
            "\n",
            "Epoch 00047: val_loss did not improve from 0.12269\n",
            "Epoch 48/50\n",
            " - 1s - loss: 0.1257 - acc: 0.9625 - val_loss: 0.1264 - val_acc: 0.9531\n",
            "\n",
            "Epoch 00048: val_loss did not improve from 0.12269\n",
            "Epoch 49/50\n",
            " - 1s - loss: 0.2281 - acc: 0.9094 - val_loss: 0.4148 - val_acc: 0.8438\n",
            "\n",
            "Epoch 00049: val_loss did not improve from 0.12269\n",
            "Epoch 50/50\n",
            " - 1s - loss: 0.1263 - acc: 0.9562 - val_loss: 0.7738 - val_acc: 0.6406\n",
            "\n",
            "Epoch 00050: val_loss did not improve from 0.12269\n"
          ],
          "name": "stdout"
        }
      ]
    },
    {
      "metadata": {
        "colab_type": "code",
        "id": "TvM1WKi8FvyL",
        "colab": {}
      },
      "cell_type": "code",
      "source": [
        "model.load_weights('drive/My Drive/Resultado/Colorido/weights_' + architecture + '.hdf5')"
      ],
      "execution_count": 0,
      "outputs": []
    },
    {
      "metadata": {
        "colab_type": "code",
        "id": "Irgg00QxFvyZ",
        "outputId": "de089dd1-0cd1-4b04-8659-41bc9989bde0",
        "colab": {
          "base_uri": "https://localhost:8080/",
          "height": 380
        }
      },
      "cell_type": "code",
      "source": [
        "# plotar loss e accuracy para os datasets 'train' e 'test'\n",
        "plt.style.use(\"ggplot\")\n",
        "plt.figure()\n",
        "plt.plot(training.history['acc'], label='Accuracy')\n",
        "plt.plot(training.history['loss'], label='Loss')\n",
        "plt.xlabel('Epochs')\n",
        "plt.ylabel('Accuracy')\n",
        "plt.title(\"Training Loss and Accuracy\")\n",
        "plt.ylabel(\"Loss/Accuracy\")\n",
        "plt.legend()\n",
        "plt.savefig('drive/My Drive/Resultado/Colorido/' + architecture + '.png', bbox_inches='tight')"
      ],
      "execution_count": 0,
      "outputs": [
        {
          "output_type": "display_data",
          "data": {
            "image/png": "[encoded data removed]",
            "text/plain": [
              "<matplotlib.figure.Figure at 0x7f8a9a8832b0>"
            ]
          },
          "metadata": {
            "tags": []
          }
        }
      ]
    },
    {
      "metadata": {
        "colab_type": "text",
        "id": "UR_S-EfFFvyd"
      },
      "cell_type": "markdown",
      "source": [
        "### Teste"
      ]
    },
    {
      "metadata": {
        "colab_type": "code",
        "outputId": "b43a7c54-3d71-4bf5-ed29-49e4a3ceaef6",
        "id": "LyYK2QuwFvye",
        "colab": {
          "base_uri": "https://localhost:8080/",
          "height": 74
        }
      },
      "cell_type": "code",
      "source": [
        "y_true, y_predict = ler_images_teste(architecture)"
      ],
      "execution_count": 0,
      "outputs": [
        {
          "output_type": "stream",
          "text": [
            "/usr/local/lib/python3.6/dist-packages/skimage/transform/_warps.py:84: UserWarning: The default mode, 'constant', will be changed to 'reflect' in skimage 0.15.\n",
            "  warn(\"The default mode, 'constant', will be changed to 'reflect' in \"\n"
          ],
          "name": "stderr"
        }
      ]
    },
    {
      "metadata": {
        "colab_type": "code",
        "id": "iWvwoq2KFvyk",
        "outputId": "b7984c0d-5e48-4efb-f3c6-93eb1dbfb1a1",
        "colab": {
          "base_uri": "https://localhost:8080/",
          "height": 35
        }
      },
      "cell_type": "code",
      "source": [
        "results[architecture] = precision_score(y_true, y_predict, average='binary')\n",
        "print('Test Precision: {:.2f}%'\n",
        "      .format(100 * results[architecture]))"
      ],
      "execution_count": 0,
      "outputs": [
        {
          "output_type": "stream",
          "text": [
            "Test Precision: 6.18%\n"
          ],
          "name": "stdout"
        }
      ]
    }
  ]
}