{
  "nbformat": 4,
  "nbformat_minor": 0,
  "metadata": {
    "colab": {
      "name": "TesteRede2_Colorida_Base2.ipynb",
      "version": "0.3.2",
      "provenance": [],
      "include_colab_link": true
    },
    "kernelspec": {
      "name": "python3",
      "display_name": "Python 3"
    },
    "accelerator": "GPU"
  },
  "cells": [
    {
      "cell_type": "markdown",
      "metadata": {
        "id": "view-in-github",
        "colab_type": "text"
      },
      "source": [
        "<a href=\"https://colab.research.google.com/github/FernandaSzAdr/KNN_cromossome/blob/master/TesteRede2_Colorida_Base2.ipynb\" target=\"_parent\"><img src=\"https://colab.research.google.com/assets/colab-badge.svg\" alt=\"Open In Colab\"/></a>"
      ]
    },
    {
      "metadata": {
        "id": "xN-oUTtcif3Q",
        "colab_type": "code",
        "outputId": "10562418-4783-4311-e74d-edfd5e206de8",
        "colab": {
          "base_uri": "https://localhost:8080/",
          "height": 55
        }
      },
      "cell_type": "code",
      "source": [
        "# Load the Drive helper and mount\n",
        "from google.colab import drive\n",
        "\n",
        "# This will prompt for authorization.\n",
        "drive.mount('/content/drive/')"
      ],
      "execution_count": 3,
      "outputs": [
        {
          "output_type": "stream",
          "text": [
            "Drive already mounted at /content/drive/; to attempt to forcibly remount, call drive.mount(\"/content/drive/\", force_remount=True).\n"
          ],
          "name": "stdout"
        }
      ]
    },
    {
      "metadata": {
        "id": "w6ISJXHD4N4K",
        "colab_type": "text"
      },
      "cell_type": "markdown",
      "source": [
        "\n",
        "\n",
        "---\n",
        "\n"
      ]
    },
    {
      "metadata": {
        "id": "gzcuEGSklnwS",
        "colab_type": "code",
        "outputId": "b1650159-3121-4769-bbaf-e6a50ceab4f5",
        "colab": {
          "base_uri": "https://localhost:8080/",
          "height": 54
        }
      },
      "cell_type": "code",
      "source": [
        "import os\n",
        "import cv2\n",
        "import csv\n",
        "!pip install imutils\n",
        "import imutils\n",
        "from skimage import transform\n",
        "import numpy as np\n",
        "import keras\n",
        "from keras import backend as K\n",
        "from keras.models import Sequential\n",
        "from keras.layers import Activation\n",
        "from keras.optimizers import SGD\n",
        "from keras.layers.core import Dense, Flatten, Dropout\n",
        "from keras.preprocessing.image import ImageDataGenerator\n",
        "from keras.layers.normalization import BatchNormalization\n",
        "from keras.layers.convolutional import *\n",
        "from keras.callbacks import ModelCheckpoint\n",
        "from matplotlib import pyplot as plt\n",
        "from sklearn.metrics import confusion_matrix\n",
        "from sklearn.metrics import recall_score\n",
        "from sklearn.metrics import precision_score\n",
        "import itertools\n",
        "import matplotlib.pyplot as plt"
      ],
      "execution_count": 4,
      "outputs": [
        {
          "output_type": "stream",
          "text": [
            "Requirement already satisfied: imutils in /usr/local/lib/python3.6/dist-packages (0.5.1)\n"
          ],
          "name": "stdout"
        },
        {
          "output_type": "stream",
          "text": [
            "Using TensorFlow backend.\n"
          ],
          "name": "stderr"
        }
      ]
    },
    {
      "metadata": {
        "id": "CBvSHus84he5",
        "colab_type": "text"
      },
      "cell_type": "markdown",
      "source": [
        "\n",
        "\n",
        "---\n",
        "\n"
      ]
    },
    {
      "metadata": {
        "id": "6wA_R_Dc4k1P",
        "colab_type": "text"
      },
      "cell_type": "markdown",
      "source": [
        "## Funções"
      ]
    },
    {
      "metadata": {
        "id": "ITtEfxrilym7",
        "colab_type": "code",
        "colab": {}
      },
      "cell_type": "code",
      "source": [
        "train_path = 'drive/My Drive/Base_CNN/Colorido2/Train'\n",
        "test_path = 'drive/My Drive/Base_CNN/Colorido2/Test'\n",
        "validation_path = 'drive/My Drive/Base_CNN/Colorido2/Validation'"
      ],
      "execution_count": 0,
      "outputs": []
    },
    {
      "metadata": {
        "id": "e835RSQgEgA6",
        "colab_type": "code",
        "colab": {}
      },
      "cell_type": "code",
      "source": [
        "def converte(regiao):\n",
        "   regiao = np.array(regiao).astype('float32')/255\n",
        "   regiao = transform.resize(regiao, (120, 120, 3))\n",
        "   regiao = np.expand_dims(regiao, axis=0)\n",
        "   return regiao\n"
      ],
      "execution_count": 0,
      "outputs": []
    },
    {
      "metadata": {
        "id": "9ERJTQ3AgFJb",
        "colab_type": "code",
        "colab": {}
      },
      "cell_type": "code",
      "source": [
        "def ler_images_teste(arquiteture):\n",
        "  y_true = []\n",
        "  y_predict = []\n",
        "  images_test = os.listdir(test_path)\n",
        "  local = 'drive/My Drive/Base_CNN/Colorido2/Resultado_Image/' + arquiteture\n",
        "  if os.path.isdir(local) == False:\n",
        "    os.mkdir(local)\n",
        "  \n",
        "  for img in images_test:\n",
        "    # Pega cada imagem separadamente do folder de teste\n",
        "    image = cv2.imread(test_path + '/' + img)\n",
        "    image = imutils.resize(image, width=1000)\n",
        "    f = open('drive/My Drive/Base_CNN/Binarizado2/posicoes_segmentada.csv', 'r')\n",
        "    \n",
        "    copia = image.copy()\n",
        "\n",
        "    try:\n",
        "      leitor = csv.reader(f)\n",
        "      leitor = list(leitor)\n",
        "      leitor.pop(0)\n",
        "      for linha in leitor:\n",
        "        if len(linha) > 0:\n",
        "          # Para cada região dessa imagem:\n",
        "          if linha[0] == img:\n",
        "            posicoes = []\n",
        "            x = int(linha[3])\n",
        "            y = int(linha[4])\n",
        "            w = int(linha[5])\n",
        "            h = int(linha[6])\n",
        "            \n",
        "            # Label da região\n",
        "            label = linha[1]\n",
        "            if label == 'NC':\n",
        "              y_true.append(0)\n",
        "            else:\n",
        "              y_true.append(1)\n",
        "            \n",
        "            # Região\n",
        "            regiao = image[y: y + h, x: x + w]\n",
        "            regiao = converte(regiao)\n",
        "            \n",
        "            # Coloca a região na função e obtem o resultado\n",
        "            predicao = model.predict(regiao,batch_size=bSize,verbose=0)\n",
        "            \n",
        "            # Se é um cromossomo:\n",
        "            if predicao[0][0] > predicao[0][1]:\n",
        "              y_predict.append(1)\n",
        "              cv2.rectangle(copia,(x, y),(x+w, y+h),(0,0,255), 1)\n",
        "            # Se não for um cromossomo:\n",
        "            else:\n",
        "              y_predict.append(0)\n",
        "              cv2.rectangle(copia,(x, y),(x+w, y+h),(0,255,0), 1)\n",
        "                        \n",
        "    finally:\n",
        "      f.close()\n",
        "    \n",
        "    cv2.imwrite(local + '/' + img, copia)\n",
        "  \n",
        "  return y_true, y_predict\n"
      ],
      "execution_count": 0,
      "outputs": []
    },
    {
      "metadata": {
        "id": "WlPBqB_v3x2A",
        "colab_type": "text"
      },
      "cell_type": "markdown",
      "source": [
        "\n",
        "\n",
        "---\n",
        "\n"
      ]
    },
    {
      "metadata": {
        "id": "8KTtm8K7qg1n",
        "colab_type": "text"
      },
      "cell_type": "markdown",
      "source": [
        "## Implementação"
      ]
    },
    {
      "metadata": {
        "id": "ZNfohSUpo1n0",
        "colab_type": "text"
      },
      "cell_type": "markdown",
      "source": [
        "\n",
        "\n",
        "*   Batch size = 32\n",
        "*   Image size = 120x120\n",
        "\n"
      ]
    },
    {
      "metadata": {
        "id": "_TFWtLbQ2fUI",
        "colab_type": "code",
        "colab": {}
      },
      "cell_type": "code",
      "source": [
        "results = {}"
      ],
      "execution_count": 0,
      "outputs": []
    },
    {
      "metadata": {
        "id": "W3zmFDRmnYem",
        "colab_type": "code",
        "colab": {}
      },
      "cell_type": "code",
      "source": [
        "bSize = 32"
      ],
      "execution_count": 0,
      "outputs": []
    },
    {
      "metadata": {
        "id": "dCNH0jPl3WTV",
        "colab_type": "code",
        "colab": {}
      },
      "cell_type": "code",
      "source": [
        "datagen = ImageDataGenerator(rescale=1/255.)"
      ],
      "execution_count": 0,
      "outputs": []
    },
    {
      "metadata": {
        "id": "YiMXe23Vmbo-",
        "colab_type": "code",
        "outputId": "fc4d92e4-10a3-42fa-b4f2-0484e3bfbfa9",
        "colab": {
          "base_uri": "https://localhost:8080/",
          "height": 54
        }
      },
      "cell_type": "code",
      "source": [
        "train_batches = datagen.flow_from_directory(train_path, target_size=(120, 120), \n",
        "                                            classes=['NC', 'C'], \n",
        "                                            batch_size=bSize)\n",
        "validation_batches = datagen.flow_from_directory(validation_path, \n",
        "                                                 target_size=(120, 120), \n",
        "                                                 classes=['NC', 'C'], \n",
        "                                                 batch_size=bSize)"
      ],
      "execution_count": 11,
      "outputs": [
        {
          "output_type": "stream",
          "text": [
            "Found 4369 images belonging to 2 classes.\n",
            "Found 991 images belonging to 2 classes.\n"
          ],
          "name": "stdout"
        }
      ]
    },
    {
      "metadata": {
        "id": "vE-dZtSv5mde",
        "colab_type": "code",
        "colab": {}
      },
      "cell_type": "code",
      "source": [
        "stepsPerEpoche = len(train_batches)/bSize\n",
        "validationSteps = len(validation_batches)/bSize"
      ],
      "execution_count": 0,
      "outputs": []
    },
    {
      "metadata": {
        "id": "pOQMFxK5VUPa",
        "colab_type": "code",
        "outputId": "4d9879e0-cdc0-4a6d-b66c-8c347ad82ade",
        "colab": {
          "base_uri": "https://localhost:8080/",
          "height": 35
        }
      },
      "cell_type": "code",
      "source": [
        "train_batches.class_indices"
      ],
      "execution_count": 13,
      "outputs": [
        {
          "output_type": "execute_result",
          "data": {
            "text/plain": [
              "{'C': 1, 'NC': 0}"
            ]
          },
          "metadata": {
            "tags": []
          },
          "execution_count": 13
        }
      ]
    },
    {
      "metadata": {
        "id": "tY7Fxpczz0wk",
        "colab_type": "text"
      },
      "cell_type": "markdown",
      "source": [
        "\n",
        "\n",
        "---\n",
        "\n"
      ]
    },
    {
      "metadata": {
        "id": "wH56YdE5rlnU",
        "colab_type": "text"
      },
      "cell_type": "markdown",
      "source": [
        "### 1 tentativa Precision: 19.64%"
      ]
    },
    {
      "metadata": {
        "id": "NBCIFVOlompR",
        "colab_type": "text"
      },
      "cell_type": "markdown",
      "source": [
        "**Descrição**\n",
        "\n",
        "\n",
        "*   Modelo descrito no artigo \"Crowdsourcing for Chromosome Segmentation and Deep Classification\"\n",
        "\n"
      ]
    },
    {
      "metadata": {
        "id": "rNosdG-ioNYU",
        "colab_type": "code",
        "colab": {}
      },
      "cell_type": "code",
      "source": [
        "model = Sequential([\n",
        "    Conv2D(64, (3, 3), activation='relu', input_shape=(120, 120, 3)),\n",
        "    Conv2D(64, (3, 3), activation='relu'),\n",
        "    Dropout(0.2),\n",
        "    MaxPooling2D(pool_size=(2, 2)),\n",
        "   \n",
        "    Conv2D(32, (3, 3), activation='relu'),\n",
        "    Conv2D(32, (3, 3), activation='relu'),\n",
        "    Dropout(0.2),\n",
        "    MaxPooling2D(pool_size=(2, 2)),\n",
        "   \n",
        "    Conv2D(16, (3, 3), activation='relu'),\n",
        "    Conv2D(16, (3, 3), activation='relu'),\n",
        "    Dropout(0.2),\n",
        "    MaxPooling2D(pool_size=(2, 2)),\n",
        "   \n",
        "    Conv2D(8, (3, 3), activation='relu'),\n",
        "    Conv2D(8, (3, 3), activation='relu'),\n",
        "    Dropout(0.2),\n",
        "    MaxPooling2D(pool_size=(2, 2)),\n",
        "    \n",
        "    Flatten(),\n",
        "    Dense(1024, activation='sigmoid'),\n",
        "    Dense(512, activation='sigmoid'),\n",
        "   \n",
        "    Dense(2, activation='softmax')\n",
        "]\n",
        ")"
      ],
      "execution_count": 0,
      "outputs": []
    },
    {
      "metadata": {
        "id": "UBqwdK2Bxagj",
        "colab_type": "code",
        "colab": {}
      },
      "cell_type": "code",
      "source": [
        "model.compile(SGD(lr=0.01, momentum=0.0, decay=0.0, nesterov=False), \n",
        "              loss='categorical_crossentropy', metrics=['accuracy'])"
      ],
      "execution_count": 0,
      "outputs": []
    },
    {
      "metadata": {
        "id": "iclhpyXmi_DU",
        "colab_type": "code",
        "colab": {}
      },
      "cell_type": "code",
      "source": [
        "arquiteture = 'architecture_1'"
      ],
      "execution_count": 0,
      "outputs": []
    },
    {
      "metadata": {
        "colab_type": "code",
        "id": "LqOsSip-k_v7",
        "colab": {}
      },
      "cell_type": "code",
      "source": [
        "checkpointer = ModelCheckpoint(filepath='drive/My Drive/Resultado/weights_' + arquiteture + '.hdf5', verbose=1, save_best_only=True)"
      ],
      "execution_count": 0,
      "outputs": []
    },
    {
      "metadata": {
        "id": "PeyX7Mzf5lDw",
        "colab_type": "code",
        "outputId": "2c08fc5b-0c30-4790-8b46-ab2e4262af1c",
        "colab": {
          "base_uri": "https://localhost:8080/",
          "height": 3710
        }
      },
      "cell_type": "code",
      "source": [
        "training = model.fit_generator(train_batches, steps_per_epoch=stepsPerEpoche, \n",
        "                   validation_data=validation_batches, validation_steps=validationSteps,\n",
        "                   epochs=50, verbose=2, callbacks=[checkpointer])"
      ],
      "execution_count": 18,
      "outputs": [
        {
          "output_type": "stream",
          "text": [
            "Epoch 1/50\n",
            " - 80s - loss: 0.6936 - acc: 0.5312 - val_loss: 0.7158 - val_acc: 0.4375\n",
            "\n",
            "Epoch 00001: val_loss improved from inf to 0.71584, saving model to drive/My Drive/Resultado/weights_architecture_1.hdf5\n",
            "Epoch 2/50\n",
            " - 75s - loss: 0.7160 - acc: 0.4875 - val_loss: 0.7060 - val_acc: 0.3750\n",
            "\n",
            "Epoch 00002: val_loss improved from 0.71584 to 0.70599, saving model to drive/My Drive/Resultado/weights_architecture_1.hdf5\n",
            "Epoch 3/50\n",
            " - 73s - loss: 0.7032 - acc: 0.4688 - val_loss: 0.6916 - val_acc: 0.5312\n",
            "\n",
            "Epoch 00003: val_loss improved from 0.70599 to 0.69160, saving model to drive/My Drive/Resultado/weights_architecture_1.hdf5\n",
            "Epoch 4/50\n",
            " - 74s - loss: 0.7022 - acc: 0.4937 - val_loss: 0.7010 - val_acc: 0.4062\n",
            "\n",
            "Epoch 00004: val_loss did not improve from 0.69160\n",
            "Epoch 5/50\n",
            " - 72s - loss: 0.6948 - acc: 0.4937 - val_loss: 0.7477 - val_acc: 0.3750\n",
            "\n",
            "Epoch 00005: val_loss did not improve from 0.69160\n",
            "Epoch 6/50\n",
            " - 75s - loss: 0.7212 - acc: 0.4750 - val_loss: 0.7816 - val_acc: 0.3750\n",
            "\n",
            "Epoch 00006: val_loss did not improve from 0.69160\n",
            "Epoch 7/50\n",
            " - 78s - loss: 0.7041 - acc: 0.5250 - val_loss: 0.6998 - val_acc: 0.4062\n",
            "\n",
            "Epoch 00007: val_loss did not improve from 0.69160\n",
            "Epoch 8/50\n",
            " - 72s - loss: 0.7048 - acc: 0.4500 - val_loss: 0.7214 - val_acc: 0.3438\n",
            "\n",
            "Epoch 00008: val_loss did not improve from 0.69160\n",
            "Epoch 9/50\n",
            " - 77s - loss: 0.7029 - acc: 0.5250 - val_loss: 0.6958 - val_acc: 0.4375\n",
            "\n",
            "Epoch 00009: val_loss did not improve from 0.69160\n",
            "Epoch 10/50\n",
            " - 74s - loss: 0.7078 - acc: 0.4813 - val_loss: 0.6912 - val_acc: 0.6250\n",
            "\n",
            "Epoch 00010: val_loss improved from 0.69160 to 0.69117, saving model to drive/My Drive/Resultado/weights_architecture_1.hdf5\n",
            "Epoch 11/50\n",
            " - 68s - loss: 0.7015 - acc: 0.5563 - val_loss: 0.8008 - val_acc: 0.4062\n",
            "\n",
            "Epoch 00011: val_loss did not improve from 0.69117\n",
            "Epoch 12/50\n",
            " - 70s - loss: 0.7070 - acc: 0.5000 - val_loss: 0.6995 - val_acc: 0.5312\n",
            "\n",
            "Epoch 00012: val_loss did not improve from 0.69117\n",
            "Epoch 13/50\n",
            " - 70s - loss: 0.6969 - acc: 0.5187 - val_loss: 0.6933 - val_acc: 0.5312\n",
            "\n",
            "Epoch 00013: val_loss did not improve from 0.69117\n",
            "Epoch 14/50\n",
            " - 76s - loss: 0.6948 - acc: 0.4750 - val_loss: 0.7536 - val_acc: 0.4062\n",
            "\n",
            "Epoch 00014: val_loss did not improve from 0.69117\n",
            "Epoch 15/50\n",
            " - 75s - loss: 0.7088 - acc: 0.5000 - val_loss: 0.6978 - val_acc: 0.3750\n",
            "\n",
            "Epoch 00015: val_loss did not improve from 0.69117\n",
            "Epoch 16/50\n",
            " - 88s - loss: 0.6909 - acc: 0.5500 - val_loss: 0.7576 - val_acc: 0.3750\n",
            "\n",
            "Epoch 00016: val_loss did not improve from 0.69117\n",
            "Epoch 17/50\n",
            " - 73s - loss: 0.6918 - acc: 0.5250 - val_loss: 0.6883 - val_acc: 0.5625\n",
            "\n",
            "Epoch 00017: val_loss improved from 0.69117 to 0.68830, saving model to drive/My Drive/Resultado/weights_architecture_1.hdf5\n",
            "Epoch 18/50\n",
            " - 77s - loss: 0.7087 - acc: 0.4937 - val_loss: 0.7088 - val_acc: 0.4375\n",
            "\n",
            "Epoch 00018: val_loss did not improve from 0.68830\n",
            "Epoch 19/50\n",
            " - 69s - loss: 0.7135 - acc: 0.4438 - val_loss: 0.6882 - val_acc: 0.5625\n",
            "\n",
            "Epoch 00019: val_loss improved from 0.68830 to 0.68820, saving model to drive/My Drive/Resultado/weights_architecture_1.hdf5\n",
            "Epoch 20/50\n",
            " - 77s - loss: 0.7616 - acc: 0.4000 - val_loss: 0.6918 - val_acc: 0.6562\n",
            "\n",
            "Epoch 00020: val_loss did not improve from 0.68820\n",
            "Epoch 21/50\n",
            " - 74s - loss: 0.7102 - acc: 0.4500 - val_loss: 0.6913 - val_acc: 0.5312\n",
            "\n",
            "Epoch 00021: val_loss did not improve from 0.68820\n",
            "Epoch 22/50\n",
            " - 80s - loss: 0.6980 - acc: 0.5875 - val_loss: 0.6572 - val_acc: 0.6562\n",
            "\n",
            "Epoch 00022: val_loss improved from 0.68820 to 0.65720, saving model to drive/My Drive/Resultado/weights_architecture_1.hdf5\n",
            "Epoch 23/50\n",
            " - 72s - loss: 0.7005 - acc: 0.5375 - val_loss: 0.6939 - val_acc: 0.4688\n",
            "\n",
            "Epoch 00023: val_loss did not improve from 0.65720\n",
            "Epoch 24/50\n",
            " - 76s - loss: 0.6912 - acc: 0.5438 - val_loss: 0.6971 - val_acc: 0.4062\n",
            "\n",
            "Epoch 00024: val_loss did not improve from 0.65720\n",
            "Epoch 25/50\n",
            " - 79s - loss: 0.6979 - acc: 0.5000 - val_loss: 0.7132 - val_acc: 0.4375\n",
            "\n",
            "Epoch 00025: val_loss did not improve from 0.65720\n",
            "Epoch 26/50\n",
            " - 71s - loss: 0.7056 - acc: 0.4562 - val_loss: 0.7551 - val_acc: 0.4375\n",
            "\n",
            "Epoch 00026: val_loss did not improve from 0.65720\n",
            "Epoch 27/50\n",
            " - 73s - loss: 0.7112 - acc: 0.4875 - val_loss: 0.7162 - val_acc: 0.5000\n",
            "\n",
            "Epoch 00027: val_loss did not improve from 0.65720\n",
            "Epoch 28/50\n",
            " - 21s - loss: 0.7041 - acc: 0.5037 - val_loss: 0.6948 - val_acc: 0.5000\n",
            "\n",
            "Epoch 00028: val_loss did not improve from 0.65720\n",
            "Epoch 29/50\n",
            " - 1s - loss: 0.6908 - acc: 0.5187 - val_loss: 0.6985 - val_acc: 0.5312\n",
            "\n",
            "Epoch 00029: val_loss did not improve from 0.65720\n",
            "Epoch 30/50\n",
            " - 1s - loss: 0.7036 - acc: 0.4625 - val_loss: 0.6859 - val_acc: 0.5625\n",
            "\n",
            "Epoch 00030: val_loss did not improve from 0.65720\n",
            "Epoch 31/50\n",
            " - 1s - loss: 0.6993 - acc: 0.4875 - val_loss: 0.7246 - val_acc: 0.4516\n",
            "\n",
            "Epoch 00031: val_loss did not improve from 0.65720\n",
            "Epoch 32/50\n",
            " - 1s - loss: 0.7065 - acc: 0.4750 - val_loss: 0.6912 - val_acc: 0.5312\n",
            "\n",
            "Epoch 00032: val_loss did not improve from 0.65720\n",
            "Epoch 33/50\n",
            " - 1s - loss: 0.7250 - acc: 0.4500 - val_loss: 0.6990 - val_acc: 0.4062\n",
            "\n",
            "Epoch 00033: val_loss did not improve from 0.65720\n",
            "Epoch 34/50\n",
            " - 1s - loss: 0.6997 - acc: 0.5438 - val_loss: 0.6945 - val_acc: 0.4688\n",
            "\n",
            "Epoch 00034: val_loss did not improve from 0.65720\n",
            "Epoch 35/50\n",
            " - 1s - loss: 0.7031 - acc: 0.4688 - val_loss: 0.6914 - val_acc: 0.5312\n",
            "\n",
            "Epoch 00035: val_loss did not improve from 0.65720\n",
            "Epoch 36/50\n",
            " - 1s - loss: 0.7001 - acc: 0.4937 - val_loss: 0.7041 - val_acc: 0.5000\n",
            "\n",
            "Epoch 00036: val_loss did not improve from 0.65720\n",
            "Epoch 37/50\n",
            " - 1s - loss: 0.6973 - acc: 0.5375 - val_loss: 0.6924 - val_acc: 0.7188\n",
            "\n",
            "Epoch 00037: val_loss did not improve from 0.65720\n",
            "Epoch 38/50\n",
            " - 1s - loss: 0.6940 - acc: 0.5563 - val_loss: 0.6977 - val_acc: 0.4688\n",
            "\n",
            "Epoch 00038: val_loss did not improve from 0.65720\n",
            "Epoch 39/50\n",
            " - 1s - loss: 0.6737 - acc: 0.5563 - val_loss: 0.8651 - val_acc: 0.3750\n",
            "\n",
            "Epoch 00039: val_loss did not improve from 0.65720\n",
            "Epoch 40/50\n",
            " - 1s - loss: 0.7063 - acc: 0.5000 - val_loss: 0.6849 - val_acc: 0.5938\n",
            "\n",
            "Epoch 00040: val_loss did not improve from 0.65720\n",
            "Epoch 41/50\n",
            " - 1s - loss: 0.7011 - acc: 0.5062 - val_loss: 0.6938 - val_acc: 0.4688\n",
            "\n",
            "Epoch 00041: val_loss did not improve from 0.65720\n",
            "Epoch 42/50\n",
            " - 1s - loss: 0.6844 - acc: 0.5812 - val_loss: 0.7072 - val_acc: 0.4375\n",
            "\n",
            "Epoch 00042: val_loss did not improve from 0.65720\n",
            "Epoch 43/50\n",
            " - 1s - loss: 0.7027 - acc: 0.5125 - val_loss: 0.6878 - val_acc: 0.5625\n",
            "\n",
            "Epoch 00043: val_loss did not improve from 0.65720\n",
            "Epoch 44/50\n",
            " - 1s - loss: 0.7358 - acc: 0.3937 - val_loss: 0.7471 - val_acc: 0.4062\n",
            "\n",
            "Epoch 00044: val_loss did not improve from 0.65720\n",
            "Epoch 45/50\n",
            " - 1s - loss: 0.7033 - acc: 0.4625 - val_loss: 0.6980 - val_acc: 0.5000\n",
            "\n",
            "Epoch 00045: val_loss did not improve from 0.65720\n",
            "Epoch 46/50\n",
            " - 1s - loss: 0.7268 - acc: 0.4937 - val_loss: 0.7116 - val_acc: 0.4375\n",
            "\n",
            "Epoch 00046: val_loss did not improve from 0.65720\n",
            "Epoch 47/50\n",
            " - 1s - loss: 0.7046 - acc: 0.4750 - val_loss: 0.6917 - val_acc: 0.5312\n",
            "\n",
            "Epoch 00047: val_loss did not improve from 0.65720\n",
            "Epoch 48/50\n",
            " - 1s - loss: 0.7072 - acc: 0.5062 - val_loss: 0.7114 - val_acc: 0.5312\n",
            "\n",
            "Epoch 00048: val_loss did not improve from 0.65720\n",
            "Epoch 49/50\n",
            " - 1s - loss: 0.7030 - acc: 0.5125 - val_loss: 0.6932 - val_acc: 0.4375\n",
            "\n",
            "Epoch 00049: val_loss did not improve from 0.65720\n",
            "Epoch 50/50\n",
            " - 1s - loss: 0.6989 - acc: 0.5125 - val_loss: 0.7059 - val_acc: 0.5000\n",
            "\n",
            "Epoch 00050: val_loss did not improve from 0.65720\n"
          ],
          "name": "stdout"
        }
      ]
    },
    {
      "metadata": {
        "id": "c1LR04eV6AJ5",
        "colab_type": "code",
        "colab": {}
      },
      "cell_type": "code",
      "source": [
        "model.load_weights('drive/My Drive/Resultado/weights_architecture_1.hdf5')"
      ],
      "execution_count": 0,
      "outputs": []
    },
    {
      "metadata": {
        "id": "VeLCe59ltne5",
        "colab_type": "code",
        "outputId": "5c0287ea-e015-4b7a-ec14-a88cd57eb27c",
        "colab": {
          "base_uri": "https://localhost:8080/",
          "height": 380
        }
      },
      "cell_type": "code",
      "source": [
        "# plotar loss e accuracy para os datasets 'train' e 'test'\n",
        "plt.style.use(\"ggplot\")\n",
        "plt.figure()\n",
        "plt.plot(training.history['acc'], label='Accuracy')\n",
        "plt.plot(training.history['loss'], label='Loss')\n",
        "plt.xlabel('Epochs')\n",
        "plt.ylabel('Accuracy')\n",
        "plt.title(\"Training Loss and Accuracy\")\n",
        "plt.ylabel(\"Loss/Accuracy\")\n",
        "plt.legend()\n",
        "plt.savefig('drive/My Drive/Resultado/' + arquiteture + '.png', bbox_inches='tight')"
      ],
      "execution_count": 20,
      "outputs": [
        {
          "output_type": "display_data",
          "data": {
            "image/png": "[encoded data removed]",
            "text/plain": [
              "<matplotlib.figure.Figure at 0x7f73400f6f60>"
            ]
          },
          "metadata": {
            "tags": []
          }
        }
      ]
    },
    {
      "metadata": {
        "id": "CuxP4w361rkP",
        "colab_type": "code",
        "outputId": "b06c01fe-4709-41ce-f89c-d3dffd654699",
        "colab": {
          "base_uri": "https://localhost:8080/",
          "height": 74
        }
      },
      "cell_type": "code",
      "source": [
        "y_true, y_predict = ler_images_teste(arquiteture)"
      ],
      "execution_count": 21,
      "outputs": [
        {
          "output_type": "stream",
          "text": [
            "/usr/local/lib/python3.6/dist-packages/skimage/transform/_warps.py:84: UserWarning: The default mode, 'constant', will be changed to 'reflect' in skimage 0.15.\n",
            "  warn(\"The default mode, 'constant', will be changed to 'reflect' in \"\n"
          ],
          "name": "stderr"
        }
      ]
    },
    {
      "metadata": {
        "id": "Juqn8SXr0VvZ",
        "colab_type": "code",
        "outputId": "7f6d9624-238d-48ac-e43a-fef9547926aa",
        "colab": {
          "base_uri": "https://localhost:8080/",
          "height": 35
        }
      },
      "cell_type": "code",
      "source": [
        "results[arquiteture] = precision_score(y_true, y_predict, average='binary')\n",
        "print('Test Precision: {:.2f}%'\n",
        "      .format(100 * results[arquiteture]))"
      ],
      "execution_count": 22,
      "outputs": [
        {
          "output_type": "stream",
          "text": [
            "Test Precision: 19.64%\n"
          ],
          "name": "stdout"
        }
      ]
    },
    {
      "metadata": {
        "id": "71jZE6lXsmgW",
        "colab_type": "text"
      },
      "cell_type": "markdown",
      "source": [
        "\n",
        "\n",
        "---\n",
        "\n"
      ]
    },
    {
      "metadata": {
        "id": "T7nOK0TDr6Hc",
        "colab_type": "text"
      },
      "cell_type": "markdown",
      "source": [
        "### 2 tentativa  Precision: 3.63%"
      ]
    },
    {
      "metadata": {
        "colab_type": "text",
        "id": "-DJtvxKNp9sb"
      },
      "cell_type": "markdown",
      "source": [
        "**Descrição**\n",
        "\n",
        "\n",
        "*   Modelo descrito no artigo \"Crowdsourcing for Chromosome Segmentation and Deep Classification\"\n",
        "*   Alteração nas duas ultimas camadas Dense\n",
        "\n",
        "\n",
        "\n"
      ]
    },
    {
      "metadata": {
        "colab_type": "code",
        "id": "2PSEo_Mzr8zK",
        "colab": {}
      },
      "cell_type": "code",
      "source": [
        "model = Sequential([\n",
        "    Conv2D(64, (3, 3), activation='relu', input_shape=(120, 120, 3)),\n",
        "    Conv2D(64, (3, 3), activation='relu'),\n",
        "    Dropout(0.2),\n",
        "    MaxPooling2D(pool_size=(2, 2)),\n",
        "   \n",
        "    Conv2D(32, (3, 3), activation='relu'),\n",
        "    Conv2D(32, (3, 3), activation='relu'),\n",
        "    Dropout(0.2),\n",
        "    MaxPooling2D(pool_size=(2, 2)),\n",
        "   \n",
        "    Conv2D(16, (3, 3), activation='relu'),\n",
        "    Conv2D(16, (3, 3), activation='relu'),\n",
        "    Dropout(0.2),\n",
        "    MaxPooling2D(pool_size=(2, 2)),\n",
        "   \n",
        "    Conv2D(8, (3, 3), activation='relu'),\n",
        "    Conv2D(8, (3, 3), activation='relu'),\n",
        "    Dropout(0.2),\n",
        "    MaxPooling2D(pool_size=(2, 2)),\n",
        "    \n",
        "    Flatten(),\n",
        "    Dense(512, activation='relu'),\n",
        "   \n",
        "    Dense(2, activation='softmax')\n",
        "]\n",
        ")"
      ],
      "execution_count": 0,
      "outputs": []
    },
    {
      "metadata": {
        "colab_type": "code",
        "id": "wTvCLywPr8zj",
        "colab": {}
      },
      "cell_type": "code",
      "source": [
        "model.compile(SGD(lr=0.01, momentum=0.0, decay=0.0, nesterov=False), \n",
        "              loss='categorical_crossentropy', metrics=['accuracy'])"
      ],
      "execution_count": 0,
      "outputs": []
    },
    {
      "metadata": {
        "colab_type": "code",
        "id": "B1aiec4IjnND",
        "colab": {}
      },
      "cell_type": "code",
      "source": [
        "arquiteture = 'architecture_2'"
      ],
      "execution_count": 0,
      "outputs": []
    },
    {
      "metadata": {
        "colab_type": "code",
        "id": "KF_vnzR7k8bw",
        "colab": {}
      },
      "cell_type": "code",
      "source": [
        "checkpointer = ModelCheckpoint(filepath='drive/My Drive/Resultado/weights_' + arquiteture + '.hdf5', verbose=1, save_best_only=True)"
      ],
      "execution_count": 0,
      "outputs": []
    },
    {
      "metadata": {
        "colab_type": "code",
        "id": "P5mNUnc52wDQ",
        "outputId": "66c1046c-3eb2-49c0-d801-d312da40cebc",
        "colab": {
          "base_uri": "https://localhost:8080/",
          "height": 3710
        }
      },
      "cell_type": "code",
      "source": [
        "training = model.fit_generator(train_batches, steps_per_epoch=stepsPerEpoche, \n",
        "                   validation_data=validation_batches, validation_steps=validationSteps,\n",
        "                   epochs=50, verbose=2, callbacks=[checkpointer])"
      ],
      "execution_count": 27,
      "outputs": [
        {
          "output_type": "stream",
          "text": [
            "Epoch 1/50\n",
            " - 2s - loss: 0.6911 - acc: 0.5438 - val_loss: 0.6930 - val_acc: 0.4839\n",
            "\n",
            "Epoch 00001: val_loss improved from inf to 0.69301, saving model to drive/My Drive/Resultado/weights_architecture_2.hdf5\n",
            "Epoch 2/50\n",
            " - 1s - loss: 0.6907 - acc: 0.6125 - val_loss: 0.6914 - val_acc: 0.5312\n",
            "\n",
            "Epoch 00002: val_loss improved from 0.69301 to 0.69137, saving model to drive/My Drive/Resultado/weights_architecture_2.hdf5\n",
            "Epoch 3/50\n",
            " - 1s - loss: 0.6867 - acc: 0.5800 - val_loss: 0.6885 - val_acc: 0.8438\n",
            "\n",
            "Epoch 00003: val_loss improved from 0.69137 to 0.68852, saving model to drive/My Drive/Resultado/weights_architecture_2.hdf5\n",
            "Epoch 4/50\n",
            " - 1s - loss: 0.6832 - acc: 0.7438 - val_loss: 0.6860 - val_acc: 0.6250\n",
            "\n",
            "Epoch 00004: val_loss improved from 0.68852 to 0.68598, saving model to drive/My Drive/Resultado/weights_architecture_2.hdf5\n",
            "Epoch 5/50\n",
            " - 1s - loss: 0.6774 - acc: 0.7875 - val_loss: 0.6859 - val_acc: 0.8438\n",
            "\n",
            "Epoch 00005: val_loss improved from 0.68598 to 0.68589, saving model to drive/My Drive/Resultado/weights_architecture_2.hdf5\n",
            "Epoch 6/50\n",
            " - 1s - loss: 0.6833 - acc: 0.6063 - val_loss: 0.6820 - val_acc: 0.8438\n",
            "\n",
            "Epoch 00006: val_loss improved from 0.68589 to 0.68202, saving model to drive/My Drive/Resultado/weights_architecture_2.hdf5\n",
            "Epoch 7/50\n",
            " - 1s - loss: 0.6705 - acc: 0.8000 - val_loss: 0.6802 - val_acc: 0.6562\n",
            "\n",
            "Epoch 00007: val_loss improved from 0.68202 to 0.68023, saving model to drive/My Drive/Resultado/weights_architecture_2.hdf5\n",
            "Epoch 8/50\n",
            " - 1s - loss: 0.6616 - acc: 0.8187 - val_loss: 0.6744 - val_acc: 0.7812\n",
            "\n",
            "Epoch 00008: val_loss improved from 0.68023 to 0.67441, saving model to drive/My Drive/Resultado/weights_architecture_2.hdf5\n",
            "Epoch 9/50\n",
            " - 1s - loss: 0.6645 - acc: 0.7313 - val_loss: 0.6775 - val_acc: 0.8125\n",
            "\n",
            "Epoch 00009: val_loss did not improve from 0.67441\n",
            "Epoch 10/50\n",
            " - 1s - loss: 0.6592 - acc: 0.7188 - val_loss: 0.6883 - val_acc: 0.5000\n",
            "\n",
            "Epoch 00010: val_loss did not improve from 0.67441\n",
            "Epoch 11/50\n",
            " - 1s - loss: 0.6734 - acc: 0.5500 - val_loss: 0.6724 - val_acc: 0.7188\n",
            "\n",
            "Epoch 00011: val_loss improved from 0.67441 to 0.67241, saving model to drive/My Drive/Resultado/weights_architecture_2.hdf5\n",
            "Epoch 12/50\n",
            " - 1s - loss: 0.6503 - acc: 0.6063 - val_loss: 0.6555 - val_acc: 0.9688\n",
            "\n",
            "Epoch 00012: val_loss improved from 0.67241 to 0.65546, saving model to drive/My Drive/Resultado/weights_architecture_2.hdf5\n",
            "Epoch 13/50\n",
            " - 1s - loss: 0.6401 - acc: 0.6875 - val_loss: 0.6566 - val_acc: 0.8125\n",
            "\n",
            "Epoch 00013: val_loss did not improve from 0.65546\n",
            "Epoch 14/50\n",
            " - 1s - loss: 0.6397 - acc: 0.6750 - val_loss: 0.6688 - val_acc: 0.5625\n",
            "\n",
            "Epoch 00014: val_loss did not improve from 0.65546\n",
            "Epoch 15/50\n",
            " - 1s - loss: 0.6287 - acc: 0.6188 - val_loss: 0.6522 - val_acc: 0.7812\n",
            "\n",
            "Epoch 00015: val_loss improved from 0.65546 to 0.65217, saving model to drive/My Drive/Resultado/weights_architecture_2.hdf5\n",
            "Epoch 16/50\n",
            " - 1s - loss: 0.6232 - acc: 0.6625 - val_loss: 0.6170 - val_acc: 0.9062\n",
            "\n",
            "Epoch 00016: val_loss improved from 0.65217 to 0.61700, saving model to drive/My Drive/Resultado/weights_architecture_2.hdf5\n",
            "Epoch 17/50\n",
            " - 1s - loss: 0.6197 - acc: 0.6188 - val_loss: 0.6265 - val_acc: 0.8438\n",
            "\n",
            "Epoch 00017: val_loss did not improve from 0.61700\n",
            "Epoch 18/50\n",
            " - 1s - loss: 0.6478 - acc: 0.5750 - val_loss: 0.6271 - val_acc: 0.7500\n",
            "\n",
            "Epoch 00018: val_loss did not improve from 0.61700\n",
            "Epoch 19/50\n",
            " - 1s - loss: 0.6169 - acc: 0.6875 - val_loss: 0.6070 - val_acc: 0.8438\n",
            "\n",
            "Epoch 00019: val_loss improved from 0.61700 to 0.60702, saving model to drive/My Drive/Resultado/weights_architecture_2.hdf5\n",
            "Epoch 20/50\n",
            " - 1s - loss: 0.6144 - acc: 0.7000 - val_loss: 0.6074 - val_acc: 0.9062\n",
            "\n",
            "Epoch 00020: val_loss did not improve from 0.60702\n",
            "Epoch 21/50\n",
            " - 1s - loss: 0.5892 - acc: 0.8000 - val_loss: 0.7505 - val_acc: 0.4375\n",
            "\n",
            "Epoch 00021: val_loss did not improve from 0.60702\n",
            "Epoch 22/50\n",
            " - 1s - loss: 0.6675 - acc: 0.6125 - val_loss: 0.6561 - val_acc: 0.7500\n",
            "\n",
            "Epoch 00022: val_loss did not improve from 0.60702\n",
            "Epoch 23/50\n",
            " - 1s - loss: 0.4904 - acc: 0.8625 - val_loss: 0.6871 - val_acc: 0.5312\n",
            "\n",
            "Epoch 00023: val_loss did not improve from 0.60702\n",
            "Epoch 24/50\n",
            " - 1s - loss: 0.6492 - acc: 0.6250 - val_loss: 0.6322 - val_acc: 0.7188\n",
            "\n",
            "Epoch 00024: val_loss did not improve from 0.60702\n",
            "Epoch 25/50\n",
            " - 1s - loss: 0.5340 - acc: 0.8187 - val_loss: 0.7300 - val_acc: 0.5312\n",
            "\n",
            "Epoch 00025: val_loss did not improve from 0.60702\n",
            "Epoch 26/50\n",
            " - 1s - loss: 0.6407 - acc: 0.7062 - val_loss: 0.6675 - val_acc: 0.5312\n",
            "\n",
            "Epoch 00026: val_loss did not improve from 0.60702\n",
            "Epoch 27/50\n",
            " - 1s - loss: 0.5187 - acc: 0.7938 - val_loss: 0.5405 - val_acc: 0.8438\n",
            "\n",
            "Epoch 00027: val_loss improved from 0.60702 to 0.54051, saving model to drive/My Drive/Resultado/weights_architecture_2.hdf5\n",
            "Epoch 28/50\n",
            " - 1s - loss: 0.5906 - acc: 0.8187 - val_loss: 0.6435 - val_acc: 0.6562\n",
            "\n",
            "Epoch 00028: val_loss did not improve from 0.54051\n",
            "Epoch 29/50\n",
            " - 1s - loss: 0.5758 - acc: 0.7313 - val_loss: 0.5909 - val_acc: 0.8438\n",
            "\n",
            "Epoch 00029: val_loss did not improve from 0.54051\n",
            "Epoch 30/50\n",
            " - 1s - loss: 0.4405 - acc: 0.8562 - val_loss: 0.6019 - val_acc: 0.6562\n",
            "\n",
            "Epoch 00030: val_loss did not improve from 0.54051\n",
            "Epoch 31/50\n",
            " - 1s - loss: 0.6886 - acc: 0.5812 - val_loss: 0.6375 - val_acc: 0.6562\n",
            "\n",
            "Epoch 00031: val_loss did not improve from 0.54051\n",
            "Epoch 32/50\n",
            " - 1s - loss: 0.6019 - acc: 0.7188 - val_loss: 0.6065 - val_acc: 0.8065\n",
            "\n",
            "Epoch 00032: val_loss did not improve from 0.54051\n",
            "Epoch 33/50\n",
            " - 1s - loss: 0.4290 - acc: 0.9125 - val_loss: 0.5581 - val_acc: 0.8125\n",
            "\n",
            "Epoch 00033: val_loss did not improve from 0.54051\n",
            "Epoch 34/50\n",
            " - 1s - loss: 0.3341 - acc: 0.8812 - val_loss: 0.5039 - val_acc: 0.7812\n",
            "\n",
            "Epoch 00034: val_loss improved from 0.54051 to 0.50395, saving model to drive/My Drive/Resultado/weights_architecture_2.hdf5\n",
            "Epoch 35/50\n",
            " - 1s - loss: 0.8080 - acc: 0.7000 - val_loss: 0.5774 - val_acc: 0.7500\n",
            "\n",
            "Epoch 00035: val_loss did not improve from 0.50395\n",
            "Epoch 36/50\n",
            " - 1s - loss: 0.4588 - acc: 0.8937 - val_loss: 0.4820 - val_acc: 0.9062\n",
            "\n",
            "Epoch 00036: val_loss improved from 0.50395 to 0.48205, saving model to drive/My Drive/Resultado/weights_architecture_2.hdf5\n",
            "Epoch 37/50\n",
            " - 1s - loss: 0.4469 - acc: 0.8563 - val_loss: 0.4221 - val_acc: 0.9062\n",
            "\n",
            "Epoch 00037: val_loss improved from 0.48205 to 0.42207, saving model to drive/My Drive/Resultado/weights_architecture_2.hdf5\n",
            "Epoch 38/50\n",
            " - 1s - loss: 0.3663 - acc: 0.8563 - val_loss: 0.6232 - val_acc: 0.6250\n",
            "\n",
            "Epoch 00038: val_loss did not improve from 0.42207\n",
            "Epoch 39/50\n",
            " - 1s - loss: 0.4439 - acc: 0.8063 - val_loss: 0.7182 - val_acc: 0.6250\n",
            "\n",
            "Epoch 00039: val_loss did not improve from 0.42207\n",
            "Epoch 40/50\n",
            " - 1s - loss: 0.5553 - acc: 0.7375 - val_loss: 0.8568 - val_acc: 0.3750\n",
            "\n",
            "Epoch 00040: val_loss did not improve from 0.42207\n",
            "Epoch 41/50\n",
            " - 1s - loss: 0.4474 - acc: 0.8125 - val_loss: 0.4564 - val_acc: 0.9062\n",
            "\n",
            "Epoch 00041: val_loss did not improve from 0.42207\n",
            "Epoch 42/50\n",
            " - 1s - loss: 0.3378 - acc: 0.9188 - val_loss: 0.5949 - val_acc: 0.6875\n",
            "\n",
            "Epoch 00042: val_loss did not improve from 0.42207\n",
            "Epoch 43/50\n",
            " - 1s - loss: 0.5712 - acc: 0.7438 - val_loss: 0.4554 - val_acc: 0.9375\n",
            "\n",
            "Epoch 00043: val_loss did not improve from 0.42207\n",
            "Epoch 44/50\n",
            " - 1s - loss: 0.5073 - acc: 0.7562 - val_loss: 0.4639 - val_acc: 0.9375\n",
            "\n",
            "Epoch 00044: val_loss did not improve from 0.42207\n",
            "Epoch 45/50\n",
            " - 1s - loss: 0.2919 - acc: 0.9313 - val_loss: 0.5435 - val_acc: 0.7500\n",
            "\n",
            "Epoch 00045: val_loss did not improve from 0.42207\n",
            "Epoch 46/50\n",
            " - 1s - loss: 0.2765 - acc: 0.9000 - val_loss: 0.5366 - val_acc: 0.7500\n",
            "\n",
            "Epoch 00046: val_loss did not improve from 0.42207\n",
            "Epoch 47/50\n",
            " - 1s - loss: 0.5215 - acc: 0.7938 - val_loss: 0.4321 - val_acc: 0.9062\n",
            "\n",
            "Epoch 00047: val_loss did not improve from 0.42207\n",
            "Epoch 48/50\n",
            " - 1s - loss: 0.4395 - acc: 0.8125 - val_loss: 0.5380 - val_acc: 0.7812\n",
            "\n",
            "Epoch 00048: val_loss did not improve from 0.42207\n",
            "Epoch 49/50\n",
            " - 1s - loss: 0.4057 - acc: 0.8250 - val_loss: 0.6162 - val_acc: 0.6250\n",
            "\n",
            "Epoch 00049: val_loss did not improve from 0.42207\n",
            "Epoch 50/50\n",
            " - 1s - loss: 0.4672 - acc: 0.8000 - val_loss: 0.4583 - val_acc: 0.8750\n",
            "\n",
            "Epoch 00050: val_loss did not improve from 0.42207\n"
          ],
          "name": "stdout"
        }
      ]
    },
    {
      "metadata": {
        "colab_type": "code",
        "id": "37HQ427_jnNY",
        "outputId": "b32bf9b2-22a3-470c-a535-bc85c3e14951",
        "colab": {
          "base_uri": "https://localhost:8080/",
          "height": 380
        }
      },
      "cell_type": "code",
      "source": [
        "# plotar loss e accuracy para os datasets 'train' e 'test'\n",
        "plt.style.use(\"ggplot\")\n",
        "plt.figure()\n",
        "plt.plot(training.history['acc'], label='Accuracy')\n",
        "plt.plot(training.history['loss'], label='Loss')\n",
        "plt.xlabel('Epochs')\n",
        "plt.ylabel('Accuracy')\n",
        "plt.title(\"Training Loss and Accuracy\")\n",
        "plt.ylabel(\"Loss/Accuracy\")\n",
        "plt.legend()\n",
        "plt.savefig('drive/My Drive/Resultado/' + arquiteture + '.png', bbox_inches='tight')"
      ],
      "execution_count": 28,
      "outputs": [
        {
          "output_type": "display_data",
          "data": {
            "image/png": "[encoded data removed]",
            "text/plain": [
              "<matplotlib.figure.Figure at 0x7f734b4a4a58>"
            ]
          },
          "metadata": {
            "tags": []
          }
        }
      ]
    },
    {
      "metadata": {
        "colab_type": "code",
        "id": "bpfoCpyTjnNk",
        "outputId": "83b8f694-0895-49bb-f99a-24cd46e934fc",
        "colab": {
          "base_uri": "https://localhost:8080/",
          "height": 74
        }
      },
      "cell_type": "code",
      "source": [
        "y_true, y_predict = ler_images_teste(arquiteture)"
      ],
      "execution_count": 29,
      "outputs": [
        {
          "output_type": "stream",
          "text": [
            "/usr/local/lib/python3.6/dist-packages/skimage/transform/_warps.py:84: UserWarning: The default mode, 'constant', will be changed to 'reflect' in skimage 0.15.\n",
            "  warn(\"The default mode, 'constant', will be changed to 'reflect' in \"\n"
          ],
          "name": "stderr"
        }
      ]
    },
    {
      "metadata": {
        "colab_type": "code",
        "id": "37KhZdImjnNs",
        "outputId": "41f427b9-fa14-43d1-98e4-c5c4ccdae65d",
        "colab": {
          "base_uri": "https://localhost:8080/",
          "height": 35
        }
      },
      "cell_type": "code",
      "source": [
        "results[arquiteture] = precision_score(y_true, y_predict, average='binary')\n",
        "print('Test Precision: {:.2f}%'\n",
        "      .format(100 * results[arquiteture]))"
      ],
      "execution_count": 30,
      "outputs": [
        {
          "output_type": "stream",
          "text": [
            "Test Precision: 3.63%\n"
          ],
          "name": "stdout"
        }
      ]
    },
    {
      "metadata": {
        "id": "r7RpE8wBe4JQ",
        "colab_type": "text"
      },
      "cell_type": "markdown",
      "source": [
        "### 3 tentativa Precision: 7.92%"
      ]
    },
    {
      "metadata": {
        "id": "vdP4Yo8OgB4B",
        "colab_type": "text"
      },
      "cell_type": "markdown",
      "source": [
        "Modelo criado pelo **Lucas Valentim**\n",
        "\n",
        "https://github.com/lucasvalentim/chromosome-recognizer/blob/master/chromosome_recognizer.ipynb"
      ]
    },
    {
      "metadata": {
        "id": "3nTNgnrCe33x",
        "colab_type": "code",
        "colab": {}
      },
      "cell_type": "code",
      "source": [
        "from keras.layers import Conv2D, MaxPooling2D, GlobalMaxPooling2D, BatchNormalization\n",
        "from keras.regularizers import l2\n",
        "\n",
        "model = Sequential()\n",
        "\n",
        "model.add(Conv2D(32, (3, 3), activation='relu', kernel_regularizer=l2(1e-4), \n",
        "                 input_shape=(None, None, 3)))\n",
        "model.add(BatchNormalization())\n",
        "model.add(Conv2D(32, (3, 3), activation='relu', kernel_regularizer=l2(1e-4)))\n",
        "model.add(BatchNormalization())\n",
        "model.add(MaxPooling2D((2, 2)))\n",
        "model.add(Dropout(0.25))\n",
        "\n",
        "model.add(Conv2D(64, (3, 3), activation='relu', kernel_regularizer=l2(1e-4)))\n",
        "model.add(BatchNormalization())\n",
        "model.add(Conv2D(64, (3, 3), activation='relu', kernel_regularizer=l2(1e-4)))\n",
        "model.add(BatchNormalization())\n",
        "model.add(MaxPooling2D((2, 2)))\n",
        "model.add(Dropout(0.25))\n",
        "\n",
        "model.add(Conv2D(128, (1,1), kernel_regularizer=l2(1e-4)))\n",
        "model.add(GlobalMaxPooling2D())\n",
        "\n",
        "model.add(Dense(256, activation='relu', kernel_regularizer=l2(1e-4)))\n",
        "model.add(Dropout(0.5))\n",
        "model.add(Dense(2, activation='sigmoid', kernel_regularizer=l2(1e-4)))"
      ],
      "execution_count": 0,
      "outputs": []
    },
    {
      "metadata": {
        "id": "g1okz4QbiBnE",
        "colab_type": "code",
        "colab": {}
      },
      "cell_type": "code",
      "source": [
        "model.compile(optimizer='adam', loss='binary_crossentropy', metrics=['accuracy'])"
      ],
      "execution_count": 0,
      "outputs": []
    },
    {
      "metadata": {
        "colab_type": "code",
        "id": "qGOLNR-RjvlL",
        "colab": {}
      },
      "cell_type": "code",
      "source": [
        "arquiteture = 'architecture_3'"
      ],
      "execution_count": 0,
      "outputs": []
    },
    {
      "metadata": {
        "colab_type": "code",
        "id": "Zd6E33WLk6B5",
        "colab": {}
      },
      "cell_type": "code",
      "source": [
        "checkpointer = ModelCheckpoint(filepath='drive/My Drive/Resultado/weights_' + arquiteture + '.hdf5', verbose=1, save_best_only=True)"
      ],
      "execution_count": 0,
      "outputs": []
    },
    {
      "metadata": {
        "colab_type": "code",
        "id": "57QCc4Rz3JmS",
        "outputId": "73b04672-d434-4ae7-bb04-514176cb2ec5",
        "colab": {
          "base_uri": "https://localhost:8080/",
          "height": 3710
        }
      },
      "cell_type": "code",
      "source": [
        "training = model.fit_generator(train_batches, steps_per_epoch=stepsPerEpoche, \n",
        "                   validation_data=validation_batches, validation_steps=validationSteps,\n",
        "                   epochs=50, verbose=2, callbacks=[checkpointer])"
      ],
      "execution_count": 35,
      "outputs": [
        {
          "output_type": "stream",
          "text": [
            "Epoch 1/50\n",
            " - 4s - loss: 1.0499 - acc: 0.6312 - val_loss: 0.7675 - val_acc: 0.7500\n",
            "\n",
            "Epoch 00001: val_loss improved from inf to 0.76754, saving model to drive/My Drive/Resultado/weights_architecture_3.hdf5\n",
            "Epoch 2/50\n",
            " - 1s - loss: 0.7301 - acc: 0.7812 - val_loss: 0.6437 - val_acc: 0.8226\n",
            "\n",
            "Epoch 00002: val_loss improved from 0.76754 to 0.64373, saving model to drive/My Drive/Resultado/weights_architecture_3.hdf5\n",
            "Epoch 3/50\n",
            " - 0s - loss: 0.5460 - acc: 0.7875 - val_loss: 0.6689 - val_acc: 0.7500\n",
            "\n",
            "Epoch 00003: val_loss did not improve from 0.64373\n",
            "Epoch 4/50\n",
            " - 0s - loss: 0.3277 - acc: 0.8812 - val_loss: 0.8635 - val_acc: 0.6250\n",
            "\n",
            "Epoch 00004: val_loss did not improve from 0.64373\n",
            "Epoch 5/50\n",
            " - 0s - loss: 0.3967 - acc: 0.8719 - val_loss: 1.4883 - val_acc: 0.5938\n",
            "\n",
            "Epoch 00005: val_loss did not improve from 0.64373\n",
            "Epoch 6/50\n",
            " - 1s - loss: 0.3751 - acc: 0.8527 - val_loss: 0.4857 - val_acc: 0.7656\n",
            "\n",
            "Epoch 00006: val_loss improved from 0.64373 to 0.48565, saving model to drive/My Drive/Resultado/weights_architecture_3.hdf5\n",
            "Epoch 7/50\n",
            " - 0s - loss: 0.4963 - acc: 0.8531 - val_loss: 0.5257 - val_acc: 0.8281\n",
            "\n",
            "Epoch 00007: val_loss did not improve from 0.48565\n",
            "Epoch 8/50\n",
            " - 0s - loss: 0.3453 - acc: 0.8719 - val_loss: 0.3206 - val_acc: 0.8906\n",
            "\n",
            "Epoch 00008: val_loss improved from 0.48565 to 0.32056, saving model to drive/My Drive/Resultado/weights_architecture_3.hdf5\n",
            "Epoch 9/50\n",
            " - 0s - loss: 0.4416 - acc: 0.8031 - val_loss: 0.3681 - val_acc: 0.9062\n",
            "\n",
            "Epoch 00009: val_loss did not improve from 0.32056\n",
            "Epoch 10/50\n",
            " - 0s - loss: 0.3736 - acc: 0.8500 - val_loss: 0.5127 - val_acc: 0.7812\n",
            "\n",
            "Epoch 00010: val_loss did not improve from 0.32056\n",
            "Epoch 11/50\n",
            " - 0s - loss: 0.2802 - acc: 0.9031 - val_loss: 0.4438 - val_acc: 0.8438\n",
            "\n",
            "Epoch 00011: val_loss did not improve from 0.32056\n",
            "Epoch 12/50\n",
            " - 1s - loss: 0.2733 - acc: 0.9031 - val_loss: 0.4045 - val_acc: 0.8281\n",
            "\n",
            "Epoch 00012: val_loss did not improve from 0.32056\n",
            "Epoch 13/50\n",
            " - 1s - loss: 0.3648 - acc: 0.8844 - val_loss: 0.4200 - val_acc: 0.8281\n",
            "\n",
            "Epoch 00013: val_loss did not improve from 0.32056\n",
            "Epoch 14/50\n",
            " - 1s - loss: 0.2575 - acc: 0.9156 - val_loss: 0.6058 - val_acc: 0.6406\n",
            "\n",
            "Epoch 00014: val_loss did not improve from 0.32056\n",
            "Epoch 15/50\n",
            " - 1s - loss: 0.2172 - acc: 0.9156 - val_loss: 0.6896 - val_acc: 0.6094\n",
            "\n",
            "Epoch 00015: val_loss did not improve from 0.32056\n",
            "Epoch 16/50\n",
            " - 1s - loss: 0.2604 - acc: 0.9125 - val_loss: 0.3706 - val_acc: 0.8438\n",
            "\n",
            "Epoch 00016: val_loss did not improve from 0.32056\n",
            "Epoch 17/50\n",
            " - 1s - loss: 0.2428 - acc: 0.9375 - val_loss: 0.8437 - val_acc: 0.5469\n",
            "\n",
            "Epoch 00017: val_loss did not improve from 0.32056\n",
            "Epoch 18/50\n",
            " - 1s - loss: 0.2253 - acc: 0.9344 - val_loss: 0.4954 - val_acc: 0.7969\n",
            "\n",
            "Epoch 00018: val_loss did not improve from 0.32056\n",
            "Epoch 19/50\n",
            " - 1s - loss: 0.1826 - acc: 0.9437 - val_loss: 0.3113 - val_acc: 0.8906\n",
            "\n",
            "Epoch 00019: val_loss improved from 0.32056 to 0.31135, saving model to drive/My Drive/Resultado/weights_architecture_3.hdf5\n",
            "Epoch 20/50\n",
            " - 1s - loss: 0.3546 - acc: 0.8469 - val_loss: 0.4498 - val_acc: 0.7500\n",
            "\n",
            "Epoch 00020: val_loss did not improve from 0.31135\n",
            "Epoch 21/50\n",
            " - 1s - loss: 0.2644 - acc: 0.9125 - val_loss: 0.4291 - val_acc: 0.8281\n",
            "\n",
            "Epoch 00021: val_loss did not improve from 0.31135\n",
            "Epoch 22/50\n",
            " - 1s - loss: 0.2670 - acc: 0.9188 - val_loss: 0.7030 - val_acc: 0.5781\n",
            "\n",
            "Epoch 00022: val_loss did not improve from 0.31135\n",
            "Epoch 23/50\n",
            " - 1s - loss: 0.2924 - acc: 0.8937 - val_loss: 1.2339 - val_acc: 0.5312\n",
            "\n",
            "Epoch 00023: val_loss did not improve from 0.31135\n",
            "Epoch 24/50\n",
            " - 1s - loss: 0.2352 - acc: 0.9188 - val_loss: 0.3684 - val_acc: 0.8125\n",
            "\n",
            "Epoch 00024: val_loss did not improve from 0.31135\n",
            "Epoch 25/50\n",
            " - 1s - loss: 0.2026 - acc: 0.9344 - val_loss: 0.3652 - val_acc: 0.8438\n",
            "\n",
            "Epoch 00025: val_loss did not improve from 0.31135\n",
            "Epoch 26/50\n",
            " - 1s - loss: 0.2229 - acc: 0.9406 - val_loss: 0.5540 - val_acc: 0.6562\n",
            "\n",
            "Epoch 00026: val_loss did not improve from 0.31135\n",
            "Epoch 27/50\n",
            " - 1s - loss: 0.2911 - acc: 0.8906 - val_loss: 0.8225 - val_acc: 0.5312\n",
            "\n",
            "Epoch 00027: val_loss did not improve from 0.31135\n",
            "Epoch 28/50\n",
            " - 1s - loss: 0.2613 - acc: 0.9094 - val_loss: 2.2492 - val_acc: 0.4219\n",
            "\n",
            "Epoch 00028: val_loss did not improve from 0.31135\n",
            "Epoch 29/50\n",
            " - 1s - loss: 0.1989 - acc: 0.9625 - val_loss: 2.4514 - val_acc: 0.5000\n",
            "\n",
            "Epoch 00029: val_loss did not improve from 0.31135\n",
            "Epoch 30/50\n",
            " - 1s - loss: 0.1999 - acc: 0.9437 - val_loss: 0.8153 - val_acc: 0.6875\n",
            "\n",
            "Epoch 00030: val_loss did not improve from 0.31135\n",
            "Epoch 31/50\n",
            " - 1s - loss: 0.2145 - acc: 0.9219 - val_loss: 0.4389 - val_acc: 0.7969\n",
            "\n",
            "Epoch 00031: val_loss did not improve from 0.31135\n",
            "Epoch 32/50\n",
            " - 1s - loss: 0.2557 - acc: 0.9250 - val_loss: 0.4214 - val_acc: 0.8750\n",
            "\n",
            "Epoch 00032: val_loss did not improve from 0.31135\n",
            "Epoch 33/50\n",
            " - 1s - loss: 0.2363 - acc: 0.9110 - val_loss: 0.3164 - val_acc: 0.9032\n",
            "\n",
            "Epoch 00033: val_loss did not improve from 0.31135\n",
            "Epoch 34/50\n",
            " - 1s - loss: 0.2514 - acc: 0.9281 - val_loss: 0.2865 - val_acc: 0.8906\n",
            "\n",
            "Epoch 00034: val_loss improved from 0.31135 to 0.28646, saving model to drive/My Drive/Resultado/weights_architecture_3.hdf5\n",
            "Epoch 35/50\n",
            " - 1s - loss: 0.2722 - acc: 0.8844 - val_loss: 0.3031 - val_acc: 0.9062\n",
            "\n",
            "Epoch 00035: val_loss did not improve from 0.28646\n",
            "Epoch 36/50\n",
            " - 1s - loss: 0.2398 - acc: 0.9219 - val_loss: 0.6330 - val_acc: 0.6562\n",
            "\n",
            "Epoch 00036: val_loss did not improve from 0.28646\n",
            "Epoch 37/50\n",
            " - 1s - loss: 0.2084 - acc: 0.9281 - val_loss: 1.1901 - val_acc: 0.5469\n",
            "\n",
            "Epoch 00037: val_loss did not improve from 0.28646\n",
            "Epoch 38/50\n",
            " - 1s - loss: 0.2686 - acc: 0.9250 - val_loss: 1.0411 - val_acc: 0.5469\n",
            "\n",
            "Epoch 00038: val_loss did not improve from 0.28646\n",
            "Epoch 39/50\n",
            " - 1s - loss: 0.3098 - acc: 0.8781 - val_loss: 2.2684 - val_acc: 0.5625\n",
            "\n",
            "Epoch 00039: val_loss did not improve from 0.28646\n",
            "Epoch 40/50\n",
            " - 1s - loss: 0.2455 - acc: 0.9313 - val_loss: 0.9077 - val_acc: 0.5156\n",
            "\n",
            "Epoch 00040: val_loss did not improve from 0.28646\n",
            "Epoch 41/50\n",
            " - 1s - loss: 0.2355 - acc: 0.9156 - val_loss: 0.9765 - val_acc: 0.5469\n",
            "\n",
            "Epoch 00041: val_loss did not improve from 0.28646\n",
            "Epoch 42/50\n",
            " - 1s - loss: 0.2498 - acc: 0.9219 - val_loss: 1.1111 - val_acc: 0.5000\n",
            "\n",
            "Epoch 00042: val_loss did not improve from 0.28646\n",
            "Epoch 43/50\n",
            " - 1s - loss: 0.1823 - acc: 0.9469 - val_loss: 1.0331 - val_acc: 0.5000\n",
            "\n",
            "Epoch 00043: val_loss did not improve from 0.28646\n",
            "Epoch 44/50\n",
            " - 1s - loss: 0.2677 - acc: 0.9062 - val_loss: 0.9130 - val_acc: 0.4844\n",
            "\n",
            "Epoch 00044: val_loss did not improve from 0.28646\n",
            "Epoch 45/50\n",
            " - 1s - loss: 0.1685 - acc: 0.9562 - val_loss: 0.5324 - val_acc: 0.7500\n",
            "\n",
            "Epoch 00045: val_loss did not improve from 0.28646\n",
            "Epoch 46/50\n",
            " - 1s - loss: 0.3545 - acc: 0.8937 - val_loss: 0.3066 - val_acc: 0.8594\n",
            "\n",
            "Epoch 00046: val_loss did not improve from 0.28646\n",
            "Epoch 47/50\n",
            " - 1s - loss: 0.2890 - acc: 0.9000 - val_loss: 0.3820 - val_acc: 0.8125\n",
            "\n",
            "Epoch 00047: val_loss did not improve from 0.28646\n",
            "Epoch 48/50\n",
            " - 1s - loss: 0.2953 - acc: 0.8937 - val_loss: 0.3610 - val_acc: 0.8750\n",
            "\n",
            "Epoch 00048: val_loss did not improve from 0.28646\n",
            "Epoch 49/50\n",
            " - 1s - loss: 0.2459 - acc: 0.9250 - val_loss: 0.3872 - val_acc: 0.8281\n",
            "\n",
            "Epoch 00049: val_loss did not improve from 0.28646\n",
            "Epoch 50/50\n",
            " - 1s - loss: 0.2337 - acc: 0.9437 - val_loss: 0.3122 - val_acc: 0.8594\n",
            "\n",
            "Epoch 00050: val_loss did not improve from 0.28646\n"
          ],
          "name": "stdout"
        }
      ]
    },
    {
      "metadata": {
        "colab_type": "code",
        "id": "UbMAcdw1jvlY",
        "outputId": "f09f69ad-0ec7-49fc-caa0-6f18a3eee90c",
        "colab": {
          "base_uri": "https://localhost:8080/",
          "height": 380
        }
      },
      "cell_type": "code",
      "source": [
        "# plotar loss e accuracy para os datasets 'train' e 'test'\n",
        "plt.style.use(\"ggplot\")\n",
        "plt.figure()\n",
        "plt.plot(training.history['acc'], label='Accuracy')\n",
        "plt.plot(training.history['loss'], label='Loss')\n",
        "plt.xlabel('Epochs')\n",
        "plt.ylabel('Accuracy')\n",
        "plt.title(\"Training Loss and Accuracy\")\n",
        "plt.ylabel(\"Loss/Accuracy\")\n",
        "plt.legend()\n",
        "plt.savefig('drive/My Drive/Resultado/' + arquiteture + '.png', bbox_inches='tight')"
      ],
      "execution_count": 36,
      "outputs": [
        {
          "output_type": "display_data",
          "data": {
            "image/png": "[encoded data removed]",
            "text/plain": [
              "<matplotlib.figure.Figure at 0x7f732f77d160>"
            ]
          },
          "metadata": {
            "tags": []
          }
        }
      ]
    },
    {
      "metadata": {
        "colab_type": "code",
        "id": "JZXZyAjrjvli",
        "outputId": "6d1cf56a-c026-4f68-a821-50ce1a6adb19",
        "colab": {
          "base_uri": "https://localhost:8080/",
          "height": 74
        }
      },
      "cell_type": "code",
      "source": [
        "y_true, y_predict = ler_images_teste(arquiteture)"
      ],
      "execution_count": 37,
      "outputs": [
        {
          "output_type": "stream",
          "text": [
            "/usr/local/lib/python3.6/dist-packages/skimage/transform/_warps.py:84: UserWarning: The default mode, 'constant', will be changed to 'reflect' in skimage 0.15.\n",
            "  warn(\"The default mode, 'constant', will be changed to 'reflect' in \"\n"
          ],
          "name": "stderr"
        }
      ]
    },
    {
      "metadata": {
        "colab_type": "code",
        "id": "rRqF6tcYjvlm",
        "outputId": "dc03542f-8bcc-4566-a395-a9cbb3dacf30",
        "colab": {
          "base_uri": "https://localhost:8080/",
          "height": 35
        }
      },
      "cell_type": "code",
      "source": [
        "results[arquiteture] = precision_score(y_true, y_predict, average='binary')\n",
        "print('Test Precision: {:.2f}%'\n",
        "      .format(100 * results[arquiteture]))"
      ],
      "execution_count": 38,
      "outputs": [
        {
          "output_type": "stream",
          "text": [
            "Test Precision: 7.92%\n"
          ],
          "name": "stdout"
        }
      ]
    },
    {
      "metadata": {
        "id": "jkrlEFjlw030",
        "colab_type": "text"
      },
      "cell_type": "markdown",
      "source": [
        "### 4 tentativa Precision: 16.41%"
      ]
    },
    {
      "metadata": {
        "id": "UJ7JELAiw2kb",
        "colab_type": "text"
      },
      "cell_type": "markdown",
      "source": [
        "Modelo adaptado do **Lucas Albertins**\n",
        "\n",
        "*   Sem os **dropout**\n"
      ]
    },
    {
      "metadata": {
        "colab_type": "code",
        "id": "4N0B_5a2xB3T",
        "colab": {}
      },
      "cell_type": "code",
      "source": [
        "from keras.layers import Conv2D, MaxPooling2D, GlobalMaxPooling2D, BatchNormalization\n",
        "from keras.regularizers import l2\n",
        "\n",
        "model = Sequential()\n",
        "\n",
        "model.add(Conv2D(32, (3, 3), activation='relu', kernel_regularizer=l2(1e-4), \n",
        "                 input_shape=(None, None, 3)))\n",
        "model.add(BatchNormalization())\n",
        "model.add(Conv2D(32, (3, 3), activation='relu', kernel_regularizer=l2(1e-4)))\n",
        "model.add(BatchNormalization())\n",
        "model.add(MaxPooling2D((2, 2)))\n",
        "\n",
        "model.add(Conv2D(64, (3, 3), activation='relu', kernel_regularizer=l2(1e-4)))\n",
        "model.add(BatchNormalization())\n",
        "model.add(Conv2D(64, (3, 3), activation='relu', kernel_regularizer=l2(1e-4)))\n",
        "model.add(BatchNormalization())\n",
        "model.add(MaxPooling2D((2, 2)))\n",
        "\n",
        "model.add(Conv2D(128, (1,1), kernel_regularizer=l2(1e-4)))\n",
        "model.add(GlobalMaxPooling2D())\n",
        "\n",
        "model.add(Dense(256, activation='relu', kernel_regularizer=l2(1e-4)))\n",
        "model.add(BatchNormalization())\n",
        "model.add(Dense(2, activation='sigmoid', kernel_regularizer=l2(1e-4)))"
      ],
      "execution_count": 0,
      "outputs": []
    },
    {
      "metadata": {
        "colab_type": "code",
        "id": "V9VHjygmxB3k",
        "colab": {}
      },
      "cell_type": "code",
      "source": [
        "model.compile(optimizer='adam', loss='binary_crossentropy', metrics=['accuracy'])"
      ],
      "execution_count": 0,
      "outputs": []
    },
    {
      "metadata": {
        "colab_type": "code",
        "id": "VMLmVlASj26i",
        "colab": {}
      },
      "cell_type": "code",
      "source": [
        "arquiteture = 'architecture_4'"
      ],
      "execution_count": 0,
      "outputs": []
    },
    {
      "metadata": {
        "colab_type": "code",
        "id": "dZRIAn0Bk37B",
        "colab": {}
      },
      "cell_type": "code",
      "source": [
        "checkpointer = ModelCheckpoint(filepath='drive/My Drive/Resultado/weights_' + arquiteture + '.hdf5', verbose=1, save_best_only=True)"
      ],
      "execution_count": 0,
      "outputs": []
    },
    {
      "metadata": {
        "colab_type": "code",
        "id": "gE1pEJNR4RmV",
        "outputId": "c890121f-98b8-4fb5-a48d-55d624dc1003",
        "colab": {
          "base_uri": "https://localhost:8080/",
          "height": 3710
        }
      },
      "cell_type": "code",
      "source": [
        "training = model.fit_generator(train_batches, steps_per_epoch=stepsPerEpoche, \n",
        "                   validation_data=validation_batches, validation_steps=validationSteps,\n",
        "                   epochs=50, verbose=2, callbacks=[checkpointer])"
      ],
      "execution_count": 43,
      "outputs": [
        {
          "output_type": "stream",
          "text": [
            "Epoch 1/50\n",
            " - 3s - loss: 0.5663 - acc: 0.7469 - val_loss: 0.6861 - val_acc: 0.7031\n",
            "\n",
            "Epoch 00001: val_loss improved from inf to 0.68608, saving model to drive/My Drive/Resultado/weights_architecture_4.hdf5\n",
            "Epoch 2/50\n",
            " - 0s - loss: 0.3162 - acc: 0.8844 - val_loss: 0.4349 - val_acc: 0.8125\n",
            "\n",
            "Epoch 00002: val_loss improved from 0.68608 to 0.43491, saving model to drive/My Drive/Resultado/weights_architecture_4.hdf5\n",
            "Epoch 3/50\n",
            " - 0s - loss: 0.2917 - acc: 0.8875 - val_loss: 1.0054 - val_acc: 0.6774\n",
            "\n",
            "Epoch 00003: val_loss did not improve from 0.43491\n",
            "Epoch 4/50\n",
            " - 0s - loss: 0.3465 - acc: 0.8812 - val_loss: 0.5652 - val_acc: 0.7812\n",
            "\n",
            "Epoch 00004: val_loss did not improve from 0.43491\n",
            "Epoch 5/50\n",
            " - 0s - loss: 0.1625 - acc: 0.9625 - val_loss: 1.2103 - val_acc: 0.6875\n",
            "\n",
            "Epoch 00005: val_loss did not improve from 0.43491\n",
            "Epoch 6/50\n",
            " - 0s - loss: 0.1870 - acc: 0.9656 - val_loss: 0.7741 - val_acc: 0.8125\n",
            "\n",
            "Epoch 00006: val_loss did not improve from 0.43491\n",
            "Epoch 7/50\n",
            " - 0s - loss: 0.2493 - acc: 0.9031 - val_loss: 0.6767 - val_acc: 0.7969\n",
            "\n",
            "Epoch 00007: val_loss did not improve from 0.43491\n",
            "Epoch 8/50\n",
            " - 0s - loss: 0.2217 - acc: 0.9281 - val_loss: 0.7436 - val_acc: 0.7812\n",
            "\n",
            "Epoch 00008: val_loss did not improve from 0.43491\n",
            "Epoch 9/50\n",
            " - 1s - loss: 0.2521 - acc: 0.9094 - val_loss: 0.5482 - val_acc: 0.8438\n",
            "\n",
            "Epoch 00009: val_loss did not improve from 0.43491\n",
            "Epoch 10/50\n",
            " - 1s - loss: 0.3134 - acc: 0.8773 - val_loss: 0.5530 - val_acc: 0.8438\n",
            "\n",
            "Epoch 00010: val_loss did not improve from 0.43491\n",
            "Epoch 11/50\n",
            " - 1s - loss: 0.2487 - acc: 0.9000 - val_loss: 1.1654 - val_acc: 0.7500\n",
            "\n",
            "Epoch 00011: val_loss did not improve from 0.43491\n",
            "Epoch 12/50\n",
            " - 1s - loss: 0.2506 - acc: 0.9125 - val_loss: 0.3711 - val_acc: 0.8125\n",
            "\n",
            "Epoch 00012: val_loss improved from 0.43491 to 0.37109, saving model to drive/My Drive/Resultado/weights_architecture_4.hdf5\n",
            "Epoch 13/50\n",
            " - 1s - loss: 0.1876 - acc: 0.9531 - val_loss: 0.3192 - val_acc: 0.8906\n",
            "\n",
            "Epoch 00013: val_loss improved from 0.37109 to 0.31916, saving model to drive/My Drive/Resultado/weights_architecture_4.hdf5\n",
            "Epoch 14/50\n",
            " - 1s - loss: 0.2388 - acc: 0.9250 - val_loss: 0.5291 - val_acc: 0.8438\n",
            "\n",
            "Epoch 00014: val_loss did not improve from 0.31916\n",
            "Epoch 15/50\n",
            " - 1s - loss: 0.2555 - acc: 0.9313 - val_loss: 0.4105 - val_acc: 0.9062\n",
            "\n",
            "Epoch 00015: val_loss did not improve from 0.31916\n",
            "Epoch 16/50\n",
            " - 1s - loss: 0.2830 - acc: 0.8844 - val_loss: 0.2024 - val_acc: 0.9375\n",
            "\n",
            "Epoch 00016: val_loss improved from 0.31916 to 0.20238, saving model to drive/My Drive/Resultado/weights_architecture_4.hdf5\n",
            "Epoch 17/50\n",
            " - 1s - loss: 0.2866 - acc: 0.8906 - val_loss: 0.1520 - val_acc: 0.9531\n",
            "\n",
            "Epoch 00017: val_loss improved from 0.20238 to 0.15198, saving model to drive/My Drive/Resultado/weights_architecture_4.hdf5\n",
            "Epoch 18/50\n",
            " - 1s - loss: 0.3787 - acc: 0.8594 - val_loss: 0.7179 - val_acc: 0.7188\n",
            "\n",
            "Epoch 00018: val_loss did not improve from 0.15198\n",
            "Epoch 19/50\n",
            " - 1s - loss: 0.1819 - acc: 0.9437 - val_loss: 1.0420 - val_acc: 0.5781\n",
            "\n",
            "Epoch 00019: val_loss did not improve from 0.15198\n",
            "Epoch 20/50\n",
            " - 1s - loss: 0.2052 - acc: 0.9313 - val_loss: 1.1429 - val_acc: 0.5938\n",
            "\n",
            "Epoch 00020: val_loss did not improve from 0.15198\n",
            "Epoch 21/50\n",
            " - 1s - loss: 0.2102 - acc: 0.9437 - val_loss: 1.6887 - val_acc: 0.4688\n",
            "\n",
            "Epoch 00021: val_loss did not improve from 0.15198\n",
            "Epoch 22/50\n",
            " - 1s - loss: 0.1876 - acc: 0.9469 - val_loss: 1.4601 - val_acc: 0.4531\n",
            "\n",
            "Epoch 00022: val_loss did not improve from 0.15198\n",
            "Epoch 23/50\n",
            " - 1s - loss: 0.2158 - acc: 0.9188 - val_loss: 1.7574 - val_acc: 0.5781\n",
            "\n",
            "Epoch 00023: val_loss did not improve from 0.15198\n",
            "Epoch 24/50\n",
            " - 1s - loss: 0.1608 - acc: 0.9625 - val_loss: 0.2572 - val_acc: 0.8594\n",
            "\n",
            "Epoch 00024: val_loss did not improve from 0.15198\n",
            "Epoch 25/50\n",
            " - 1s - loss: 0.2665 - acc: 0.9500 - val_loss: 0.2192 - val_acc: 0.9375\n",
            "\n",
            "Epoch 00025: val_loss did not improve from 0.15198\n",
            "Epoch 26/50\n",
            " - 1s - loss: 0.2723 - acc: 0.9281 - val_loss: 0.3399 - val_acc: 0.8906\n",
            "\n",
            "Epoch 00026: val_loss did not improve from 0.15198\n",
            "Epoch 27/50\n",
            " - 1s - loss: 0.1955 - acc: 0.9125 - val_loss: 0.5929 - val_acc: 0.8125\n",
            "\n",
            "Epoch 00027: val_loss did not improve from 0.15198\n",
            "Epoch 28/50\n",
            " - 1s - loss: 0.1930 - acc: 0.9281 - val_loss: 0.4780 - val_acc: 0.8125\n",
            "\n",
            "Epoch 00028: val_loss did not improve from 0.15198\n",
            "Epoch 29/50\n",
            " - 1s - loss: 0.1854 - acc: 0.9469 - val_loss: 0.4140 - val_acc: 0.8594\n",
            "\n",
            "Epoch 00029: val_loss did not improve from 0.15198\n",
            "Epoch 30/50\n",
            " - 1s - loss: 0.2975 - acc: 0.9125 - val_loss: 0.2157 - val_acc: 0.8906\n",
            "\n",
            "Epoch 00030: val_loss did not improve from 0.15198\n",
            "Epoch 31/50\n",
            " - 1s - loss: 0.2176 - acc: 0.9313 - val_loss: 0.2061 - val_acc: 0.9219\n",
            "\n",
            "Epoch 00031: val_loss did not improve from 0.15198\n",
            "Epoch 32/50\n",
            " - 1s - loss: 0.1441 - acc: 0.9562 - val_loss: 0.1490 - val_acc: 0.9688\n",
            "\n",
            "Epoch 00032: val_loss improved from 0.15198 to 0.14905, saving model to drive/My Drive/Resultado/weights_architecture_4.hdf5\n",
            "Epoch 33/50\n",
            " - 1s - loss: 0.2067 - acc: 0.9281 - val_loss: 0.2255 - val_acc: 0.9531\n",
            "\n",
            "Epoch 00033: val_loss did not improve from 0.14905\n",
            "Epoch 34/50\n",
            " - 1s - loss: 0.2096 - acc: 0.9375 - val_loss: 0.3649 - val_acc: 0.8226\n",
            "\n",
            "Epoch 00034: val_loss did not improve from 0.14905\n",
            "Epoch 35/50\n",
            " - 1s - loss: 0.2066 - acc: 0.9375 - val_loss: 0.2103 - val_acc: 0.9219\n",
            "\n",
            "Epoch 00035: val_loss did not improve from 0.14905\n",
            "Epoch 36/50\n",
            " - 1s - loss: 0.1979 - acc: 0.9500 - val_loss: 0.3409 - val_acc: 0.8594\n",
            "\n",
            "Epoch 00036: val_loss did not improve from 0.14905\n",
            "Epoch 37/50\n",
            " - 1s - loss: 0.2354 - acc: 0.9406 - val_loss: 0.2320 - val_acc: 0.8906\n",
            "\n",
            "Epoch 00037: val_loss did not improve from 0.14905\n",
            "Epoch 38/50\n",
            " - 1s - loss: 0.2114 - acc: 0.9445 - val_loss: 0.4619 - val_acc: 0.8438\n",
            "\n",
            "Epoch 00038: val_loss did not improve from 0.14905\n",
            "Epoch 39/50\n",
            " - 1s - loss: 0.2490 - acc: 0.9281 - val_loss: 0.3214 - val_acc: 0.8594\n",
            "\n",
            "Epoch 00039: val_loss did not improve from 0.14905\n",
            "Epoch 40/50\n",
            " - 1s - loss: 0.2408 - acc: 0.9000 - val_loss: 0.4314 - val_acc: 0.8438\n",
            "\n",
            "Epoch 00040: val_loss did not improve from 0.14905\n",
            "Epoch 41/50\n",
            " - 1s - loss: 0.1815 - acc: 0.9500 - val_loss: 1.1630 - val_acc: 0.5781\n",
            "\n",
            "Epoch 00041: val_loss did not improve from 0.14905\n",
            "Epoch 42/50\n",
            " - 1s - loss: 0.2380 - acc: 0.9250 - val_loss: 1.2140 - val_acc: 0.6094\n",
            "\n",
            "Epoch 00042: val_loss did not improve from 0.14905\n",
            "Epoch 43/50\n",
            " - 1s - loss: 0.1997 - acc: 0.9594 - val_loss: 1.0634 - val_acc: 0.6094\n",
            "\n",
            "Epoch 00043: val_loss did not improve from 0.14905\n",
            "Epoch 44/50\n",
            " - 1s - loss: 0.1956 - acc: 0.9437 - val_loss: 0.9576 - val_acc: 0.6562\n",
            "\n",
            "Epoch 00044: val_loss did not improve from 0.14905\n",
            "Epoch 45/50\n",
            " - 1s - loss: 0.1510 - acc: 0.9594 - val_loss: 0.4845 - val_acc: 0.7969\n",
            "\n",
            "Epoch 00045: val_loss did not improve from 0.14905\n",
            "Epoch 46/50\n",
            " - 1s - loss: 0.2296 - acc: 0.9031 - val_loss: 0.9282 - val_acc: 0.5938\n",
            "\n",
            "Epoch 00046: val_loss did not improve from 0.14905\n",
            "Epoch 47/50\n",
            " - 1s - loss: 0.1749 - acc: 0.9594 - val_loss: 0.5924 - val_acc: 0.8281\n",
            "\n",
            "Epoch 00047: val_loss did not improve from 0.14905\n",
            "Epoch 48/50\n",
            " - 1s - loss: 0.2465 - acc: 0.9281 - val_loss: 1.3566 - val_acc: 0.6094\n",
            "\n",
            "Epoch 00048: val_loss did not improve from 0.14905\n",
            "Epoch 49/50\n",
            " - 1s - loss: 0.2126 - acc: 0.9313 - val_loss: 0.8774 - val_acc: 0.6406\n",
            "\n",
            "Epoch 00049: val_loss did not improve from 0.14905\n",
            "Epoch 50/50\n",
            " - 1s - loss: 0.2995 - acc: 0.9188 - val_loss: 0.9058 - val_acc: 0.6562\n",
            "\n",
            "Epoch 00050: val_loss did not improve from 0.14905\n"
          ],
          "name": "stdout"
        }
      ]
    },
    {
      "metadata": {
        "colab_type": "code",
        "id": "J32DdUl5j261",
        "outputId": "dc000bd1-96c1-4bdf-a6cc-488e0d99c0e9",
        "colab": {
          "base_uri": "https://localhost:8080/",
          "height": 380
        }
      },
      "cell_type": "code",
      "source": [
        "# plotar loss e accuracy para os datasets 'train' e 'test'\n",
        "plt.style.use(\"ggplot\")\n",
        "plt.figure()\n",
        "plt.plot(training.history['acc'], label='Accuracy')\n",
        "plt.plot(training.history['loss'], label='Loss')\n",
        "plt.xlabel('Epochs')\n",
        "plt.ylabel('Accuracy')\n",
        "plt.title(\"Training Loss and Accuracy\")\n",
        "plt.ylabel(\"Loss/Accuracy\")\n",
        "plt.legend()\n",
        "plt.savefig('drive/My Drive/Resultado/' + arquiteture + '.png', bbox_inches='tight')"
      ],
      "execution_count": 44,
      "outputs": [
        {
          "output_type": "display_data",
          "data": {
            "image/png": "[encoded data removed]",
            "text/plain": [
              "<matplotlib.figure.Figure at 0x7f734b502f60>"
            ]
          },
          "metadata": {
            "tags": []
          }
        }
      ]
    },
    {
      "metadata": {
        "colab_type": "code",
        "id": "w0epZConj269",
        "outputId": "d92479c6-36c7-4230-ec33-402a9bdd0960",
        "colab": {
          "base_uri": "https://localhost:8080/",
          "height": 74
        }
      },
      "cell_type": "code",
      "source": [
        "y_true, y_predict = ler_images_teste(arquiteture)"
      ],
      "execution_count": 45,
      "outputs": [
        {
          "output_type": "stream",
          "text": [
            "/usr/local/lib/python3.6/dist-packages/skimage/transform/_warps.py:84: UserWarning: The default mode, 'constant', will be changed to 'reflect' in skimage 0.15.\n",
            "  warn(\"The default mode, 'constant', will be changed to 'reflect' in \"\n"
          ],
          "name": "stderr"
        }
      ]
    },
    {
      "metadata": {
        "colab_type": "code",
        "id": "raSeJjACj27G",
        "outputId": "71e76170-53b6-449f-846f-bf0ab66b5c1e",
        "colab": {
          "base_uri": "https://localhost:8080/",
          "height": 35
        }
      },
      "cell_type": "code",
      "source": [
        "results[arquiteture] = precision_score(y_true, y_predict, average='binary')\n",
        "print('Test Precision: {:.2f}%'\n",
        "      .format(100 * results[arquiteture]))"
      ],
      "execution_count": 46,
      "outputs": [
        {
          "output_type": "stream",
          "text": [
            "Test Precision: 16.41%\n"
          ],
          "name": "stdout"
        }
      ]
    },
    {
      "metadata": {
        "id": "lX3WANMgB1Ew",
        "colab_type": "text"
      },
      "cell_type": "markdown",
      "source": [
        "### 5 tentativa Precision: 13.57%"
      ]
    },
    {
      "metadata": {
        "colab_type": "text",
        "id": "dqed1VQh6WXg"
      },
      "cell_type": "markdown",
      "source": [
        "Modelo adaptado do **Lucas Albertins**\n",
        "\n",
        "*   Sem os **dropout**\n",
        "*   Função **SGD** para compilação\n"
      ]
    },
    {
      "metadata": {
        "colab_type": "code",
        "id": "z9mlUa4mB-ER",
        "colab": {}
      },
      "cell_type": "code",
      "source": [
        "from keras.layers import Conv2D, MaxPooling2D, GlobalMaxPooling2D, BatchNormalization\n",
        "from keras.regularizers import l2\n",
        "\n",
        "model = Sequential()\n",
        "\n",
        "model.add(Conv2D(32, (3, 3), activation='relu', kernel_regularizer=l2(1e-4), \n",
        "                 input_shape=(None, None, 3)))\n",
        "model.add(BatchNormalization())\n",
        "model.add(Conv2D(32, (3, 3), activation='relu', kernel_regularizer=l2(1e-4)))\n",
        "model.add(BatchNormalization())\n",
        "model.add(MaxPooling2D((2, 2)))\n",
        "model.add(Dropout(0.25))\n",
        "\n",
        "model.add(Conv2D(64, (3, 3), activation='relu', kernel_regularizer=l2(1e-4)))\n",
        "model.add(BatchNormalization())\n",
        "model.add(Conv2D(64, (3, 3), activation='relu', kernel_regularizer=l2(1e-4)))\n",
        "model.add(BatchNormalization())\n",
        "model.add(MaxPooling2D((2, 2)))\n",
        "model.add(Dropout(0.25))\n",
        "\n",
        "model.add(Conv2D(128, (1,1), kernel_regularizer=l2(1e-4)))\n",
        "model.add(GlobalMaxPooling2D())\n",
        "\n",
        "model.add(Dense(256, activation='relu', kernel_regularizer=l2(1e-4)))\n",
        "model.add(Dropout(0.5))\n",
        "model.add(Dense(2, activation='sigmoid', kernel_regularizer=l2(1e-4)))"
      ],
      "execution_count": 0,
      "outputs": []
    },
    {
      "metadata": {
        "id": "ukvJwM-lCHtB",
        "colab_type": "code",
        "colab": {}
      },
      "cell_type": "code",
      "source": [
        "model.compile(SGD(lr=0.01, momentum=0.0, decay=0.0, nesterov=False), \n",
        "              loss='binary_crossentropy', metrics=['accuracy'])"
      ],
      "execution_count": 0,
      "outputs": []
    },
    {
      "metadata": {
        "colab_type": "code",
        "id": "HA_KKMyaj6-L",
        "colab": {}
      },
      "cell_type": "code",
      "source": [
        "arquiteture = 'architecture_5'"
      ],
      "execution_count": 0,
      "outputs": []
    },
    {
      "metadata": {
        "colab_type": "code",
        "id": "eWpMObq1k1cL",
        "colab": {}
      },
      "cell_type": "code",
      "source": [
        "checkpointer = ModelCheckpoint(filepath='drive/My Drive/Resultado/weights_' + arquiteture + '.hdf5', verbose=1, save_best_only=True)"
      ],
      "execution_count": 0,
      "outputs": []
    },
    {
      "metadata": {
        "colab_type": "code",
        "id": "06GSgiIj4gfo",
        "outputId": "ef7d480b-7497-4f47-eeed-3856f6f62709",
        "colab": {
          "base_uri": "https://localhost:8080/",
          "height": 3710
        }
      },
      "cell_type": "code",
      "source": [
        "training = model.fit_generator(train_batches, steps_per_epoch=stepsPerEpoche, \n",
        "                   validation_data=validation_batches, validation_steps=validationSteps,\n",
        "                   epochs=50, verbose=2, callbacks=[checkpointer])"
      ],
      "execution_count": 51,
      "outputs": [
        {
          "output_type": "stream",
          "text": [
            "Epoch 1/50\n",
            " - 3s - loss: 1.2862 - acc: 0.5469 - val_loss: 0.6809 - val_acc: 0.6562\n",
            "\n",
            "Epoch 00001: val_loss improved from inf to 0.68092, saving model to drive/My Drive/Resultado/weights_architecture_5.hdf5\n",
            "Epoch 2/50\n",
            " - 0s - loss: 0.8029 - acc: 0.6344 - val_loss: 0.7161 - val_acc: 0.6406\n",
            "\n",
            "Epoch 00002: val_loss did not improve from 0.68092\n",
            "Epoch 3/50\n",
            " - 0s - loss: 0.6709 - acc: 0.7469 - val_loss: 0.8114 - val_acc: 0.5625\n",
            "\n",
            "Epoch 00003: val_loss did not improve from 0.68092\n",
            "Epoch 4/50\n",
            " - 0s - loss: 0.5083 - acc: 0.7906 - val_loss: 0.6559 - val_acc: 0.6613\n",
            "\n",
            "Epoch 00004: val_loss improved from 0.68092 to 0.65587, saving model to drive/My Drive/Resultado/weights_architecture_5.hdf5\n",
            "Epoch 5/50\n",
            " - 0s - loss: 0.6568 - acc: 0.7500 - val_loss: 0.7105 - val_acc: 0.7500\n",
            "\n",
            "Epoch 00005: val_loss did not improve from 0.65587\n",
            "Epoch 6/50\n",
            " - 0s - loss: 0.4236 - acc: 0.8438 - val_loss: 0.7516 - val_acc: 0.6406\n",
            "\n",
            "Epoch 00006: val_loss did not improve from 0.65587\n",
            "Epoch 7/50\n",
            " - 0s - loss: 0.5186 - acc: 0.7875 - val_loss: 0.5869 - val_acc: 0.8125\n",
            "\n",
            "Epoch 00007: val_loss improved from 0.65587 to 0.58691, saving model to drive/My Drive/Resultado/weights_architecture_5.hdf5\n",
            "Epoch 8/50\n",
            " - 1s - loss: 0.4227 - acc: 0.8312 - val_loss: 0.4081 - val_acc: 0.8906\n",
            "\n",
            "Epoch 00008: val_loss improved from 0.58691 to 0.40809, saving model to drive/My Drive/Resultado/weights_architecture_5.hdf5\n",
            "Epoch 9/50\n",
            " - 1s - loss: 0.4128 - acc: 0.8656 - val_loss: 0.6079 - val_acc: 0.7656\n",
            "\n",
            "Epoch 00009: val_loss did not improve from 0.40809\n",
            "Epoch 10/50\n",
            " - 1s - loss: 0.2600 - acc: 0.9156 - val_loss: 0.5826 - val_acc: 0.8438\n",
            "\n",
            "Epoch 00010: val_loss did not improve from 0.40809\n",
            "Epoch 11/50\n",
            " - 1s - loss: 0.3155 - acc: 0.9094 - val_loss: 0.5879 - val_acc: 0.7812\n",
            "\n",
            "Epoch 00011: val_loss did not improve from 0.40809\n",
            "Epoch 12/50\n",
            " - 1s - loss: 0.3602 - acc: 0.8906 - val_loss: 0.5457 - val_acc: 0.7500\n",
            "\n",
            "Epoch 00012: val_loss did not improve from 0.40809\n",
            "Epoch 13/50\n",
            " - 1s - loss: 0.2776 - acc: 0.9156 - val_loss: 0.5589 - val_acc: 0.7812\n",
            "\n",
            "Epoch 00013: val_loss did not improve from 0.40809\n",
            "Epoch 14/50\n",
            " - 1s - loss: 0.3697 - acc: 0.8781 - val_loss: 0.7569 - val_acc: 0.6094\n",
            "\n",
            "Epoch 00014: val_loss did not improve from 0.40809\n",
            "Epoch 15/50\n",
            " - 1s - loss: 0.3008 - acc: 0.8914 - val_loss: 0.4120 - val_acc: 0.8594\n",
            "\n",
            "Epoch 00015: val_loss did not improve from 0.40809\n",
            "Epoch 16/50\n",
            " - 1s - loss: 0.4095 - acc: 0.8781 - val_loss: 0.8872 - val_acc: 0.4531\n",
            "\n",
            "Epoch 00016: val_loss did not improve from 0.40809\n",
            "Epoch 17/50\n",
            " - 1s - loss: 0.3223 - acc: 0.9094 - val_loss: 0.5667 - val_acc: 0.7031\n",
            "\n",
            "Epoch 00017: val_loss did not improve from 0.40809\n",
            "Epoch 18/50\n",
            " - 1s - loss: 0.3513 - acc: 0.9125 - val_loss: 0.5998 - val_acc: 0.7188\n",
            "\n",
            "Epoch 00018: val_loss did not improve from 0.40809\n",
            "Epoch 19/50\n",
            " - 1s - loss: 0.3185 - acc: 0.8906 - val_loss: 0.9666 - val_acc: 0.5000\n",
            "\n",
            "Epoch 00019: val_loss did not improve from 0.40809\n",
            "Epoch 20/50\n",
            " - 1s - loss: 0.3121 - acc: 0.8969 - val_loss: 0.5947 - val_acc: 0.6250\n",
            "\n",
            "Epoch 00020: val_loss did not improve from 0.40809\n",
            "Epoch 21/50\n",
            " - 1s - loss: 0.2681 - acc: 0.9188 - val_loss: 0.4569 - val_acc: 0.8281\n",
            "\n",
            "Epoch 00021: val_loss did not improve from 0.40809\n",
            "Epoch 22/50\n",
            " - 1s - loss: 0.2568 - acc: 0.9375 - val_loss: 0.5892 - val_acc: 0.7656\n",
            "\n",
            "Epoch 00022: val_loss did not improve from 0.40809\n",
            "Epoch 23/50\n",
            " - 1s - loss: 0.3525 - acc: 0.8531 - val_loss: 0.4212 - val_acc: 0.8125\n",
            "\n",
            "Epoch 00023: val_loss did not improve from 0.40809\n",
            "Epoch 24/50\n",
            " - 1s - loss: 0.2123 - acc: 0.9406 - val_loss: 0.3352 - val_acc: 0.9062\n",
            "\n",
            "Epoch 00024: val_loss improved from 0.40809 to 0.33516, saving model to drive/My Drive/Resultado/weights_architecture_5.hdf5\n",
            "Epoch 25/50\n",
            " - 1s - loss: 0.3612 - acc: 0.8875 - val_loss: 0.4763 - val_acc: 0.7500\n",
            "\n",
            "Epoch 00025: val_loss did not improve from 0.33516\n",
            "Epoch 26/50\n",
            " - 1s - loss: 0.2672 - acc: 0.9250 - val_loss: 0.4420 - val_acc: 0.8438\n",
            "\n",
            "Epoch 00026: val_loss did not improve from 0.33516\n",
            "Epoch 27/50\n",
            " - 1s - loss: 0.2649 - acc: 0.9094 - val_loss: 0.5690 - val_acc: 0.7500\n",
            "\n",
            "Epoch 00027: val_loss did not improve from 0.33516\n",
            "Epoch 28/50\n",
            " - 1s - loss: 0.2734 - acc: 0.9250 - val_loss: 0.2874 - val_acc: 0.9375\n",
            "\n",
            "Epoch 00028: val_loss improved from 0.33516 to 0.28742, saving model to drive/My Drive/Resultado/weights_architecture_5.hdf5\n",
            "Epoch 29/50\n",
            " - 1s - loss: 0.3347 - acc: 0.8812 - val_loss: 0.2994 - val_acc: 0.9375\n",
            "\n",
            "Epoch 00029: val_loss did not improve from 0.28742\n",
            "Epoch 30/50\n",
            " - 1s - loss: 0.2596 - acc: 0.9219 - val_loss: 0.3687 - val_acc: 0.8750\n",
            "\n",
            "Epoch 00030: val_loss did not improve from 0.28742\n",
            "Epoch 31/50\n",
            " - 1s - loss: 0.3598 - acc: 0.8688 - val_loss: 0.3444 - val_acc: 0.9062\n",
            "\n",
            "Epoch 00031: val_loss did not improve from 0.28742\n",
            "Epoch 32/50\n",
            " - 1s - loss: 0.2480 - acc: 0.9125 - val_loss: 0.4050 - val_acc: 0.8594\n",
            "\n",
            "Epoch 00032: val_loss did not improve from 0.28742\n",
            "Epoch 33/50\n",
            " - 1s - loss: 0.2976 - acc: 0.9031 - val_loss: 0.5101 - val_acc: 0.7812\n",
            "\n",
            "Epoch 00033: val_loss did not improve from 0.28742\n",
            "Epoch 34/50\n",
            " - 1s - loss: 0.3009 - acc: 0.8812 - val_loss: 0.3504 - val_acc: 0.8906\n",
            "\n",
            "Epoch 00034: val_loss did not improve from 0.28742\n",
            "Epoch 35/50\n",
            " - 1s - loss: 0.2957 - acc: 0.8937 - val_loss: 0.4400 - val_acc: 0.7581\n",
            "\n",
            "Epoch 00035: val_loss did not improve from 0.28742\n",
            "Epoch 36/50\n",
            " - 1s - loss: 0.2281 - acc: 0.9313 - val_loss: 0.3527 - val_acc: 0.8750\n",
            "\n",
            "Epoch 00036: val_loss did not improve from 0.28742\n",
            "Epoch 37/50\n",
            " - 1s - loss: 0.1921 - acc: 0.9406 - val_loss: 0.5291 - val_acc: 0.7188\n",
            "\n",
            "Epoch 00037: val_loss did not improve from 0.28742\n",
            "Epoch 38/50\n",
            " - 1s - loss: 0.2416 - acc: 0.9344 - val_loss: 0.3359 - val_acc: 0.8750\n",
            "\n",
            "Epoch 00038: val_loss did not improve from 0.28742\n",
            "Epoch 39/50\n",
            " - 1s - loss: 0.2075 - acc: 0.9375 - val_loss: 0.3400 - val_acc: 0.8906\n",
            "\n",
            "Epoch 00039: val_loss did not improve from 0.28742\n",
            "Epoch 40/50\n",
            " - 1s - loss: 0.2593 - acc: 0.9094 - val_loss: 0.5197 - val_acc: 0.7812\n",
            "\n",
            "Epoch 00040: val_loss did not improve from 0.28742\n",
            "Epoch 41/50\n",
            " - 1s - loss: 0.2632 - acc: 0.9406 - val_loss: 1.0277 - val_acc: 0.5781\n",
            "\n",
            "Epoch 00041: val_loss did not improve from 0.28742\n",
            "Epoch 42/50\n",
            " - 1s - loss: 0.3565 - acc: 0.8744 - val_loss: 0.4640 - val_acc: 0.7812\n",
            "\n",
            "Epoch 00042: val_loss did not improve from 0.28742\n",
            "Epoch 43/50\n",
            " - 1s - loss: 0.3668 - acc: 0.8875 - val_loss: 0.3477 - val_acc: 0.9062\n",
            "\n",
            "Epoch 00043: val_loss did not improve from 0.28742\n",
            "Epoch 44/50\n",
            " - 1s - loss: 0.2836 - acc: 0.9062 - val_loss: 0.4882 - val_acc: 0.7969\n",
            "\n",
            "Epoch 00044: val_loss did not improve from 0.28742\n",
            "Epoch 45/50\n",
            " - 1s - loss: 0.2338 - acc: 0.9219 - val_loss: 0.3614 - val_acc: 0.9062\n",
            "\n",
            "Epoch 00045: val_loss did not improve from 0.28742\n",
            "Epoch 46/50\n",
            " - 1s - loss: 0.2161 - acc: 0.9406 - val_loss: 0.6210 - val_acc: 0.7031\n",
            "\n",
            "Epoch 00046: val_loss did not improve from 0.28742\n",
            "Epoch 47/50\n",
            " - 1s - loss: 0.2216 - acc: 0.9469 - val_loss: 0.3027 - val_acc: 0.9219\n",
            "\n",
            "Epoch 00047: val_loss did not improve from 0.28742\n",
            "Epoch 48/50\n",
            " - 1s - loss: 0.2547 - acc: 0.8937 - val_loss: 0.9789 - val_acc: 0.5781\n",
            "\n",
            "Epoch 00048: val_loss did not improve from 0.28742\n",
            "Epoch 49/50\n",
            " - 1s - loss: 0.2237 - acc: 0.9125 - val_loss: 0.3731 - val_acc: 0.8125\n",
            "\n",
            "Epoch 00049: val_loss did not improve from 0.28742\n",
            "Epoch 50/50\n",
            " - 1s - loss: 0.2514 - acc: 0.9250 - val_loss: 0.8692 - val_acc: 0.6250\n",
            "\n",
            "Epoch 00050: val_loss did not improve from 0.28742\n"
          ],
          "name": "stdout"
        }
      ]
    },
    {
      "metadata": {
        "colab_type": "code",
        "id": "bqNxaqg5j6-Q",
        "outputId": "5b9faa76-fa32-4436-c2de-8e57bf2f06ac",
        "colab": {
          "base_uri": "https://localhost:8080/",
          "height": 380
        }
      },
      "cell_type": "code",
      "source": [
        "# plotar loss e accuracy para os datasets 'train' e 'test'\n",
        "plt.style.use(\"ggplot\")\n",
        "plt.figure()\n",
        "plt.plot(training.history['acc'], label='Accuracy')\n",
        "plt.plot(training.history['loss'], label='Loss')\n",
        "plt.xlabel('Epochs')\n",
        "plt.ylabel('Accuracy')\n",
        "plt.title(\"Training Loss and Accuracy\")\n",
        "plt.ylabel(\"Loss/Accuracy\")\n",
        "plt.legend()\n",
        "plt.savefig('drive/My Drive/Resultado/' + arquiteture + '.png', bbox_inches='tight')"
      ],
      "execution_count": 52,
      "outputs": [
        {
          "output_type": "display_data",
          "data": {
            "image/png": "[encoded data removed]",
            "text/plain": [
              "<matplotlib.figure.Figure at 0x7f732deaeda0>"
            ]
          },
          "metadata": {
            "tags": []
          }
        }
      ]
    },
    {
      "metadata": {
        "colab_type": "code",
        "id": "PNDCeMfZj6-X",
        "outputId": "103ab418-7d8f-4b1f-8978-a8cf186cbe7f",
        "colab": {
          "base_uri": "https://localhost:8080/",
          "height": 74
        }
      },
      "cell_type": "code",
      "source": [
        "y_true, y_predict = ler_images_teste(arquiteture)"
      ],
      "execution_count": 53,
      "outputs": [
        {
          "output_type": "stream",
          "text": [
            "/usr/local/lib/python3.6/dist-packages/skimage/transform/_warps.py:84: UserWarning: The default mode, 'constant', will be changed to 'reflect' in skimage 0.15.\n",
            "  warn(\"The default mode, 'constant', will be changed to 'reflect' in \"\n"
          ],
          "name": "stderr"
        }
      ]
    },
    {
      "metadata": {
        "colab_type": "code",
        "id": "atPv7K2Jj6-g",
        "outputId": "20fc2457-eba0-442b-c99e-2140a0e21bcb",
        "colab": {
          "base_uri": "https://localhost:8080/",
          "height": 35
        }
      },
      "cell_type": "code",
      "source": [
        "results[arquiteture] = precision_score(y_true, y_predict, average='binary')\n",
        "print('Test Precision: {:.2f}%'\n",
        "      .format(100 * results[arquiteture]))"
      ],
      "execution_count": 54,
      "outputs": [
        {
          "output_type": "stream",
          "text": [
            "Test Precision: 13.57%\n"
          ],
          "name": "stdout"
        }
      ]
    },
    {
      "metadata": {
        "id": "apfIeirYD2N7",
        "colab_type": "text"
      },
      "cell_type": "markdown",
      "source": [
        "### 6 tentativa Precision: 3.78%"
      ]
    },
    {
      "metadata": {
        "colab_type": "text",
        "id": "xaxcjuxn7BAH"
      },
      "cell_type": "markdown",
      "source": [
        "Modelo adaptado do **Lucas Albertins**\n",
        "\n",
        "*   Sem os **dropout**\n",
        "*   Função **SGD** para compilação\n",
        "*   **BatchNormalization** antes da ultima camada Dense\n"
      ]
    },
    {
      "metadata": {
        "colab_type": "code",
        "id": "C2UuO-jqD44u",
        "colab": {}
      },
      "cell_type": "code",
      "source": [
        "from keras.layers import Conv2D, MaxPooling2D, GlobalMaxPooling2D, BatchNormalization\n",
        "from keras.regularizers import l2\n",
        "\n",
        "model = Sequential()\n",
        "\n",
        "model.add(Conv2D(32, (3, 3), activation='relu', kernel_regularizer=l2(1e-4), \n",
        "                 input_shape=(None, None, 3)))\n",
        "model.add(BatchNormalization())\n",
        "model.add(Conv2D(32, (3, 3), activation='relu', kernel_regularizer=l2(1e-4)))\n",
        "model.add(BatchNormalization())\n",
        "model.add(MaxPooling2D((2, 2)))\n",
        "\n",
        "model.add(Conv2D(64, (3, 3), activation='relu', kernel_regularizer=l2(1e-4)))\n",
        "model.add(BatchNormalization())\n",
        "model.add(Conv2D(64, (3, 3), activation='relu', kernel_regularizer=l2(1e-4)))\n",
        "model.add(BatchNormalization())\n",
        "model.add(MaxPooling2D((2, 2)))\n",
        "\n",
        "model.add(Conv2D(128, (1,1), kernel_regularizer=l2(1e-4)))\n",
        "model.add(GlobalMaxPooling2D())\n",
        "\n",
        "model.add(Dense(256, activation='relu', kernel_regularizer=l2(1e-4)))\n",
        "model.add(BatchNormalization())\n",
        "model.add(Dense(2, activation='sigmoid', kernel_regularizer=l2(1e-4)))"
      ],
      "execution_count": 0,
      "outputs": []
    },
    {
      "metadata": {
        "colab_type": "code",
        "id": "I7mu97znD45M",
        "colab": {}
      },
      "cell_type": "code",
      "source": [
        "model.compile(SGD(lr=0.03, momentum=0.0, decay=0.0, nesterov=False), \n",
        "              loss='binary_crossentropy', metrics=['accuracy'])"
      ],
      "execution_count": 0,
      "outputs": []
    },
    {
      "metadata": {
        "colab_type": "code",
        "id": "QQFrxD_Rj9wz",
        "colab": {}
      },
      "cell_type": "code",
      "source": [
        "arquiteture = 'architecture_6'"
      ],
      "execution_count": 0,
      "outputs": []
    },
    {
      "metadata": {
        "colab_type": "code",
        "id": "ihB-VbCRkyUR",
        "colab": {}
      },
      "cell_type": "code",
      "source": [
        "checkpointer = ModelCheckpoint(filepath='drive/My Drive/Resultado/weights_' + arquiteture + '.hdf5', verbose=1, save_best_only=True)"
      ],
      "execution_count": 0,
      "outputs": []
    },
    {
      "metadata": {
        "colab_type": "code",
        "id": "HRAakAz46scS",
        "outputId": "5e3e26f8-a8df-460c-bcdd-14fc7d40cbde",
        "colab": {
          "base_uri": "https://localhost:8080/",
          "height": 3710
        }
      },
      "cell_type": "code",
      "source": [
        "training = model.fit_generator(train_batches, steps_per_epoch=stepsPerEpoche, \n",
        "                   validation_data=validation_batches, validation_steps=validationSteps,\n",
        "                   epochs=50, verbose=2, callbacks=[checkpointer])"
      ],
      "execution_count": 59,
      "outputs": [
        {
          "output_type": "stream",
          "text": [
            "Epoch 1/50\n",
            " - 3s - loss: 0.6126 - acc: 0.7250 - val_loss: 1.0934 - val_acc: 0.6562\n",
            "\n",
            "Epoch 00001: val_loss improved from inf to 1.09342, saving model to drive/My Drive/Resultado/weights_architecture_6.hdf5\n",
            "Epoch 2/50\n",
            " - 0s - loss: 0.4338 - acc: 0.8312 - val_loss: 7.1653 - val_acc: 0.4688\n",
            "\n",
            "Epoch 00002: val_loss did not improve from 1.09342\n",
            "Epoch 3/50\n",
            " - 0s - loss: 0.3310 - acc: 0.8969 - val_loss: 2.8625 - val_acc: 0.4062\n",
            "\n",
            "Epoch 00003: val_loss did not improve from 1.09342\n",
            "Epoch 4/50\n",
            " - 0s - loss: 0.3737 - acc: 0.8844 - val_loss: 0.7879 - val_acc: 0.7188\n",
            "\n",
            "Epoch 00004: val_loss improved from 1.09342 to 0.78787, saving model to drive/My Drive/Resultado/weights_architecture_6.hdf5\n",
            "Epoch 5/50\n",
            " - 0s - loss: 0.2709 - acc: 0.9188 - val_loss: 0.6055 - val_acc: 0.7258\n",
            "\n",
            "Epoch 00005: val_loss improved from 0.78787 to 0.60550, saving model to drive/My Drive/Resultado/weights_architecture_6.hdf5\n",
            "Epoch 6/50\n",
            " - 0s - loss: 0.1983 - acc: 0.9406 - val_loss: 0.7085 - val_acc: 0.6719\n",
            "\n",
            "Epoch 00006: val_loss did not improve from 0.60550\n",
            "Epoch 7/50\n",
            " - 0s - loss: 0.3285 - acc: 0.8906 - val_loss: 0.5890 - val_acc: 0.7812\n",
            "\n",
            "Epoch 00007: val_loss improved from 0.60550 to 0.58904, saving model to drive/My Drive/Resultado/weights_architecture_6.hdf5\n",
            "Epoch 8/50\n",
            " - 1s - loss: 0.2302 - acc: 0.9406 - val_loss: 0.7791 - val_acc: 0.7031\n",
            "\n",
            "Epoch 00008: val_loss did not improve from 0.58904\n",
            "Epoch 9/50\n",
            " - 1s - loss: 0.2155 - acc: 0.9406 - val_loss: 0.5925 - val_acc: 0.7969\n",
            "\n",
            "Epoch 00009: val_loss did not improve from 0.58904\n",
            "Epoch 10/50\n",
            " - 1s - loss: 0.2483 - acc: 0.9344 - val_loss: 0.4317 - val_acc: 0.8125\n",
            "\n",
            "Epoch 00010: val_loss improved from 0.58904 to 0.43168, saving model to drive/My Drive/Resultado/weights_architecture_6.hdf5\n",
            "Epoch 11/50\n",
            " - 1s - loss: 0.2825 - acc: 0.8875 - val_loss: 0.3365 - val_acc: 0.8750\n",
            "\n",
            "Epoch 00011: val_loss improved from 0.43168 to 0.33646, saving model to drive/My Drive/Resultado/weights_architecture_6.hdf5\n",
            "Epoch 12/50\n",
            " - 1s - loss: 0.3998 - acc: 0.8719 - val_loss: 0.6629 - val_acc: 0.7656\n",
            "\n",
            "Epoch 00012: val_loss did not improve from 0.33646\n",
            "Epoch 13/50\n",
            " - 1s - loss: 0.2922 - acc: 0.9313 - val_loss: 0.5263 - val_acc: 0.8438\n",
            "\n",
            "Epoch 00013: val_loss did not improve from 0.33646\n",
            "Epoch 14/50\n",
            " - 1s - loss: 0.2267 - acc: 0.9188 - val_loss: 0.3248 - val_acc: 0.9219\n",
            "\n",
            "Epoch 00014: val_loss improved from 0.33646 to 0.32484, saving model to drive/My Drive/Resultado/weights_architecture_6.hdf5\n",
            "Epoch 15/50\n",
            " - 1s - loss: 0.3232 - acc: 0.8969 - val_loss: 0.9687 - val_acc: 0.6875\n",
            "\n",
            "Epoch 00015: val_loss did not improve from 0.32484\n",
            "Epoch 16/50\n",
            " - 1s - loss: 0.3334 - acc: 0.8812 - val_loss: 0.5862 - val_acc: 0.7344\n",
            "\n",
            "Epoch 00016: val_loss did not improve from 0.32484\n",
            "Epoch 17/50\n",
            " - 1s - loss: 0.2619 - acc: 0.9156 - val_loss: 1.0140 - val_acc: 0.6562\n",
            "\n",
            "Epoch 00017: val_loss did not improve from 0.32484\n",
            "Epoch 18/50\n",
            " - 1s - loss: 0.3127 - acc: 0.8812 - val_loss: 3.1560 - val_acc: 0.5312\n",
            "\n",
            "Epoch 00018: val_loss did not improve from 0.32484\n",
            "Epoch 19/50\n",
            " - 1s - loss: 0.2947 - acc: 0.9142 - val_loss: 1.4623 - val_acc: 0.6094\n",
            "\n",
            "Epoch 00019: val_loss did not improve from 0.32484\n",
            "Epoch 20/50\n",
            " - 1s - loss: 0.2103 - acc: 0.9313 - val_loss: 0.6021 - val_acc: 0.7344\n",
            "\n",
            "Epoch 00020: val_loss did not improve from 0.32484\n",
            "Epoch 21/50\n",
            " - 1s - loss: 0.2895 - acc: 0.8844 - val_loss: 1.3082 - val_acc: 0.5781\n",
            "\n",
            "Epoch 00021: val_loss did not improve from 0.32484\n",
            "Epoch 22/50\n",
            " - 1s - loss: 0.3138 - acc: 0.9031 - val_loss: 0.6036 - val_acc: 0.7500\n",
            "\n",
            "Epoch 00022: val_loss did not improve from 0.32484\n",
            "Epoch 23/50\n",
            " - 1s - loss: 0.1880 - acc: 0.9500 - val_loss: 0.4985 - val_acc: 0.8125\n",
            "\n",
            "Epoch 00023: val_loss did not improve from 0.32484\n",
            "Epoch 24/50\n",
            " - 1s - loss: 0.2187 - acc: 0.9219 - val_loss: 0.4846 - val_acc: 0.8281\n",
            "\n",
            "Epoch 00024: val_loss did not improve from 0.32484\n",
            "Epoch 25/50\n",
            " - 1s - loss: 0.2519 - acc: 0.9188 - val_loss: 0.5264 - val_acc: 0.7656\n",
            "\n",
            "Epoch 00025: val_loss did not improve from 0.32484\n",
            "Epoch 26/50\n",
            " - 1s - loss: 0.3021 - acc: 0.9000 - val_loss: 0.2319 - val_acc: 0.9375\n",
            "\n",
            "Epoch 00026: val_loss improved from 0.32484 to 0.23189, saving model to drive/My Drive/Resultado/weights_architecture_6.hdf5\n",
            "Epoch 27/50\n",
            " - 1s - loss: 0.2257 - acc: 0.9313 - val_loss: 1.7511 - val_acc: 0.5469\n",
            "\n",
            "Epoch 00027: val_loss did not improve from 0.23189\n",
            "Epoch 28/50\n",
            " - 1s - loss: 0.2358 - acc: 0.9313 - val_loss: 1.9511 - val_acc: 0.4688\n",
            "\n",
            "Epoch 00028: val_loss did not improve from 0.23189\n",
            "Epoch 29/50\n",
            " - 1s - loss: 0.1676 - acc: 0.9656 - val_loss: 0.3424 - val_acc: 0.8281\n",
            "\n",
            "Epoch 00029: val_loss did not improve from 0.23189\n",
            "Epoch 30/50\n",
            " - 1s - loss: 0.2281 - acc: 0.9031 - val_loss: 0.0945 - val_acc: 1.0000\n",
            "\n",
            "Epoch 00030: val_loss improved from 0.23189 to 0.09446, saving model to drive/My Drive/Resultado/weights_architecture_6.hdf5\n",
            "Epoch 31/50\n",
            " - 1s - loss: 0.2331 - acc: 0.9156 - val_loss: 0.3589 - val_acc: 0.8906\n",
            "\n",
            "Epoch 00031: val_loss did not improve from 0.09446\n",
            "Epoch 32/50\n",
            " - 1s - loss: 0.2725 - acc: 0.9062 - val_loss: 0.3613 - val_acc: 0.8594\n",
            "\n",
            "Epoch 00032: val_loss did not improve from 0.09446\n",
            "Epoch 33/50\n",
            " - 1s - loss: 0.1961 - acc: 0.9219 - val_loss: 1.6378 - val_acc: 0.6250\n",
            "\n",
            "Epoch 00033: val_loss did not improve from 0.09446\n",
            "Epoch 34/50\n",
            " - 1s - loss: 0.1883 - acc: 0.9344 - val_loss: 1.3467 - val_acc: 0.6562\n",
            "\n",
            "Epoch 00034: val_loss did not improve from 0.09446\n",
            "Epoch 35/50\n",
            " - 1s - loss: 0.2811 - acc: 0.8875 - val_loss: 0.7786 - val_acc: 0.6875\n",
            "\n",
            "Epoch 00035: val_loss did not improve from 0.09446\n",
            "Epoch 36/50\n",
            " - 1s - loss: 0.2308 - acc: 0.9500 - val_loss: 0.5268 - val_acc: 0.7258\n",
            "\n",
            "Epoch 00036: val_loss did not improve from 0.09446\n",
            "Epoch 37/50\n",
            " - 1s - loss: 0.2618 - acc: 0.9156 - val_loss: 0.6121 - val_acc: 0.6719\n",
            "\n",
            "Epoch 00037: val_loss did not improve from 0.09446\n",
            "Epoch 38/50\n",
            " - 1s - loss: 0.2290 - acc: 0.9313 - val_loss: 0.4279 - val_acc: 0.8281\n",
            "\n",
            "Epoch 00038: val_loss did not improve from 0.09446\n",
            "Epoch 39/50\n",
            " - 1s - loss: 0.2596 - acc: 0.9031 - val_loss: 0.4985 - val_acc: 0.8281\n",
            "\n",
            "Epoch 00039: val_loss did not improve from 0.09446\n",
            "Epoch 40/50\n",
            " - 1s - loss: 0.1860 - acc: 0.9406 - val_loss: 0.4610 - val_acc: 0.8125\n",
            "\n",
            "Epoch 00040: val_loss did not improve from 0.09446\n",
            "Epoch 41/50\n",
            " - 1s - loss: 0.3413 - acc: 0.8563 - val_loss: 0.6048 - val_acc: 0.8438\n",
            "\n",
            "Epoch 00041: val_loss did not improve from 0.09446\n",
            "Epoch 42/50\n",
            " - 1s - loss: 0.1591 - acc: 0.9656 - val_loss: 0.8779 - val_acc: 0.6250\n",
            "\n",
            "Epoch 00042: val_loss did not improve from 0.09446\n",
            "Epoch 43/50\n",
            " - 1s - loss: 0.2564 - acc: 0.9094 - val_loss: 0.2679 - val_acc: 0.9219\n",
            "\n",
            "Epoch 00043: val_loss did not improve from 0.09446\n",
            "Epoch 44/50\n",
            " - 1s - loss: 0.2103 - acc: 0.9250 - val_loss: 1.0956 - val_acc: 0.6875\n",
            "\n",
            "Epoch 00044: val_loss did not improve from 0.09446\n",
            "Epoch 45/50\n",
            " - 1s - loss: 0.2428 - acc: 0.9094 - val_loss: 1.7606 - val_acc: 0.5156\n",
            "\n",
            "Epoch 00045: val_loss did not improve from 0.09446\n",
            "Epoch 46/50\n",
            " - 1s - loss: 0.1868 - acc: 0.9562 - val_loss: 1.2375 - val_acc: 0.6562\n",
            "\n",
            "Epoch 00046: val_loss did not improve from 0.09446\n",
            "Epoch 47/50\n",
            " - 1s - loss: 0.2986 - acc: 0.9255 - val_loss: 0.2312 - val_acc: 0.9062\n",
            "\n",
            "Epoch 00047: val_loss did not improve from 0.09446\n",
            "Epoch 48/50\n",
            " - 1s - loss: 0.2047 - acc: 0.9469 - val_loss: 0.6312 - val_acc: 0.7656\n",
            "\n",
            "Epoch 00048: val_loss did not improve from 0.09446\n",
            "Epoch 49/50\n",
            " - 1s - loss: 0.1817 - acc: 0.9375 - val_loss: 0.3736 - val_acc: 0.8281\n",
            "\n",
            "Epoch 00049: val_loss did not improve from 0.09446\n",
            "Epoch 50/50\n",
            " - 1s - loss: 0.2208 - acc: 0.9344 - val_loss: 0.3723 - val_acc: 0.9062\n",
            "\n",
            "Epoch 00050: val_loss did not improve from 0.09446\n"
          ],
          "name": "stdout"
        }
      ]
    },
    {
      "metadata": {
        "colab_type": "code",
        "id": "OqkWIHX3j9w7",
        "outputId": "8f63fc0d-224b-475b-caf6-851b738f28cc",
        "colab": {
          "base_uri": "https://localhost:8080/",
          "height": 380
        }
      },
      "cell_type": "code",
      "source": [
        "# plotar loss e accuracy para os datasets 'train' e 'test'\n",
        "plt.style.use(\"ggplot\")\n",
        "plt.figure()\n",
        "plt.plot(training.history['acc'], label='Accuracy')\n",
        "plt.plot(training.history['loss'], label='Loss')\n",
        "plt.xlabel('Epochs')\n",
        "plt.ylabel('Accuracy')\n",
        "plt.title(\"Training Loss and Accuracy\")\n",
        "plt.ylabel(\"Loss/Accuracy\")\n",
        "plt.legend()\n",
        "plt.savefig('drive/My Drive/Resultado/' + arquiteture + '.png', bbox_inches='tight')"
      ],
      "execution_count": 60,
      "outputs": [
        {
          "output_type": "display_data",
          "data": {
            "image/png": "[encoded data removed]",
            "text/plain": [
              "<matplotlib.figure.Figure at 0x7f732d5d4240>"
            ]
          },
          "metadata": {
            "tags": []
          }
        }
      ]
    },
    {
      "metadata": {
        "colab_type": "code",
        "id": "4Gkm9_wVj9w_",
        "outputId": "fac8a799-b414-45f0-c3f1-3a32c159a7fe",
        "colab": {
          "base_uri": "https://localhost:8080/",
          "height": 74
        }
      },
      "cell_type": "code",
      "source": [
        "y_true, y_predict = ler_images_teste(arquiteture)"
      ],
      "execution_count": 61,
      "outputs": [
        {
          "output_type": "stream",
          "text": [
            "/usr/local/lib/python3.6/dist-packages/skimage/transform/_warps.py:84: UserWarning: The default mode, 'constant', will be changed to 'reflect' in skimage 0.15.\n",
            "  warn(\"The default mode, 'constant', will be changed to 'reflect' in \"\n"
          ],
          "name": "stderr"
        }
      ]
    },
    {
      "metadata": {
        "colab_type": "code",
        "id": "seI9o-8_j9xD",
        "outputId": "a152136e-1fad-4cbb-8956-5bc434fd5ffc",
        "colab": {
          "base_uri": "https://localhost:8080/",
          "height": 35
        }
      },
      "cell_type": "code",
      "source": [
        "results[arquiteture] = precision_score(y_true, y_predict, average='binary')\n",
        "print('Test Precision: {:.2f}%'\n",
        "      .format(100 * results[arquiteture]))"
      ],
      "execution_count": 62,
      "outputs": [
        {
          "output_type": "stream",
          "text": [
            "Test Precision: 3.78%\n"
          ],
          "name": "stdout"
        }
      ]
    },
    {
      "metadata": {
        "id": "5gk7vmYPHddj",
        "colab_type": "text"
      },
      "cell_type": "markdown",
      "source": [
        "### 7 tentativa Precision: 1.19%"
      ]
    },
    {
      "metadata": {
        "colab_type": "text",
        "id": "lxzyd-4L422r"
      },
      "cell_type": "markdown",
      "source": [
        "Modelo adaptado do **Lucas Albertins**\n",
        "\n",
        "*   Sem os **dropout**\n",
        "*   Função **Adadelta** para compilação\n",
        "*   **BatchNormalization** antes da ultima camada Dense\n"
      ]
    },
    {
      "metadata": {
        "colab_type": "code",
        "id": "sIBEdGsyHhJN",
        "colab": {}
      },
      "cell_type": "code",
      "source": [
        "from keras.layers import Conv2D, MaxPooling2D, GlobalMaxPooling2D, BatchNormalization\n",
        "from keras.regularizers import l2\n",
        "from keras.optimizers import Adadelta\n",
        "\n",
        "model = Sequential()\n",
        "\n",
        "model.add(Conv2D(32, (3, 3), activation='relu', kernel_regularizer=l2(1e-4), \n",
        "                 input_shape=(None, None, 3)))\n",
        "model.add(BatchNormalization())\n",
        "model.add(Conv2D(32, (3, 3), activation='relu', kernel_regularizer=l2(1e-4)))\n",
        "model.add(BatchNormalization())\n",
        "model.add(MaxPooling2D((2, 2)))\n",
        "\n",
        "model.add(Conv2D(64, (3, 3), activation='relu', kernel_regularizer=l2(1e-4)))\n",
        "model.add(BatchNormalization())\n",
        "model.add(Conv2D(64, (3, 3), activation='relu', kernel_regularizer=l2(1e-4)))\n",
        "model.add(BatchNormalization())\n",
        "model.add(MaxPooling2D((2, 2)))\n",
        "\n",
        "model.add(Conv2D(128, (1,1), kernel_regularizer=l2(1e-4)))\n",
        "model.add(GlobalMaxPooling2D())\n",
        "\n",
        "model.add(Dense(256, activation='relu', kernel_regularizer=l2(1e-4)))\n",
        "model.add(BatchNormalization())\n",
        "model.add(Dense(2, activation='sigmoid', kernel_regularizer=l2(1e-4)))"
      ],
      "execution_count": 0,
      "outputs": []
    },
    {
      "metadata": {
        "colab_type": "code",
        "id": "P6ZvobfGHhJb",
        "colab": {}
      },
      "cell_type": "code",
      "source": [
        "model.compile(Adadelta(lr=1.0, rho=0.95, epsilon=None, decay=0.0), \n",
        "              loss='binary_crossentropy', metrics=['accuracy'])"
      ],
      "execution_count": 0,
      "outputs": []
    },
    {
      "metadata": {
        "colab_type": "code",
        "id": "ufy24IuYkBYc",
        "colab": {}
      },
      "cell_type": "code",
      "source": [
        "arquiteture = 'architecture_7'"
      ],
      "execution_count": 0,
      "outputs": []
    },
    {
      "metadata": {
        "colab_type": "code",
        "id": "TayAngUFkwJa",
        "colab": {}
      },
      "cell_type": "code",
      "source": [
        "checkpointer = ModelCheckpoint(filepath='drive/My Drive/Resultado/weights_' + arquiteture + '.hdf5', verbose=1, save_best_only=True)"
      ],
      "execution_count": 0,
      "outputs": []
    },
    {
      "metadata": {
        "colab_type": "code",
        "id": "mXDKyOFa4l2t",
        "outputId": "52a6d49d-68f6-40dc-da32-d53d84d49f34",
        "colab": {
          "base_uri": "https://localhost:8080/",
          "height": 3710
        }
      },
      "cell_type": "code",
      "source": [
        "training = model.fit_generator(train_batches, steps_per_epoch=stepsPerEpoche, \n",
        "                   validation_data=validation_batches, validation_steps=validationSteps,\n",
        "                   epochs=50, verbose=2, callbacks=[checkpointer])"
      ],
      "execution_count": 67,
      "outputs": [
        {
          "output_type": "stream",
          "text": [
            "Epoch 1/50\n",
            " - 4s - loss: 0.6239 - acc: 0.7031 - val_loss: 0.7158 - val_acc: 0.7500\n",
            "\n",
            "Epoch 00001: val_loss improved from inf to 0.71578, saving model to drive/My Drive/Resultado/weights_architecture_7.hdf5\n",
            "Epoch 2/50\n",
            " - 0s - loss: 0.3491 - acc: 0.8750 - val_loss: 0.4855 - val_acc: 0.7812\n",
            "\n",
            "Epoch 00002: val_loss improved from 0.71578 to 0.48552, saving model to drive/My Drive/Resultado/weights_architecture_7.hdf5\n",
            "Epoch 3/50\n",
            " - 0s - loss: 0.4890 - acc: 0.7906 - val_loss: 0.7749 - val_acc: 0.6875\n",
            "\n",
            "Epoch 00003: val_loss did not improve from 0.48552\n",
            "Epoch 4/50\n",
            " - 0s - loss: 0.3713 - acc: 0.8781 - val_loss: 1.7963 - val_acc: 0.5469\n",
            "\n",
            "Epoch 00004: val_loss did not improve from 0.48552\n",
            "Epoch 5/50\n",
            " - 0s - loss: 0.3695 - acc: 0.8812 - val_loss: 1.5663 - val_acc: 0.4375\n",
            "\n",
            "Epoch 00005: val_loss did not improve from 0.48552\n",
            "Epoch 6/50\n",
            " - 0s - loss: 0.2370 - acc: 0.9219 - val_loss: 0.5581 - val_acc: 0.7581\n",
            "\n",
            "Epoch 00006: val_loss did not improve from 0.48552\n",
            "Epoch 7/50\n",
            " - 0s - loss: 0.3289 - acc: 0.8844 - val_loss: 1.7630 - val_acc: 0.6406\n",
            "\n",
            "Epoch 00007: val_loss did not improve from 0.48552\n",
            "Epoch 8/50\n",
            " - 0s - loss: 0.2738 - acc: 0.9313 - val_loss: 0.5116 - val_acc: 0.7656\n",
            "\n",
            "Epoch 00008: val_loss did not improve from 0.48552\n",
            "Epoch 9/50\n",
            " - 1s - loss: 0.3657 - acc: 0.8625 - val_loss: 0.1747 - val_acc: 0.9688\n",
            "\n",
            "Epoch 00009: val_loss improved from 0.48552 to 0.17469, saving model to drive/My Drive/Resultado/weights_architecture_7.hdf5\n",
            "Epoch 10/50\n",
            " - 1s - loss: 0.2342 - acc: 0.9281 - val_loss: 0.6536 - val_acc: 0.7344\n",
            "\n",
            "Epoch 00010: val_loss did not improve from 0.17469\n",
            "Epoch 11/50\n",
            " - 1s - loss: 0.2006 - acc: 0.9500 - val_loss: 0.2944 - val_acc: 0.8906\n",
            "\n",
            "Epoch 00011: val_loss did not improve from 0.17469\n",
            "Epoch 12/50\n",
            " - 1s - loss: 0.2428 - acc: 0.8937 - val_loss: 0.5838 - val_acc: 0.7969\n",
            "\n",
            "Epoch 00012: val_loss did not improve from 0.17469\n",
            "Epoch 13/50\n",
            " - 1s - loss: 0.2658 - acc: 0.9219 - val_loss: 1.3399 - val_acc: 0.4844\n",
            "\n",
            "Epoch 00013: val_loss did not improve from 0.17469\n",
            "Epoch 14/50\n",
            " - 1s - loss: 0.2426 - acc: 0.9156 - val_loss: 0.4831 - val_acc: 0.7969\n",
            "\n",
            "Epoch 00014: val_loss did not improve from 0.17469\n",
            "Epoch 15/50\n",
            " - 1s - loss: 0.1580 - acc: 0.9562 - val_loss: 1.5582 - val_acc: 0.5000\n",
            "\n",
            "Epoch 00015: val_loss did not improve from 0.17469\n",
            "Epoch 16/50\n",
            " - 1s - loss: 0.2424 - acc: 0.9500 - val_loss: 0.3613 - val_acc: 0.8906\n",
            "\n",
            "Epoch 00016: val_loss did not improve from 0.17469\n",
            "Epoch 17/50\n",
            " - 1s - loss: 0.2164 - acc: 0.9344 - val_loss: 0.4437 - val_acc: 0.7500\n",
            "\n",
            "Epoch 00017: val_loss did not improve from 0.17469\n",
            "Epoch 18/50\n",
            " - 1s - loss: 0.2616 - acc: 0.9156 - val_loss: 0.2575 - val_acc: 0.9375\n",
            "\n",
            "Epoch 00018: val_loss did not improve from 0.17469\n",
            "Epoch 19/50\n",
            " - 1s - loss: 0.1904 - acc: 0.9406 - val_loss: 1.4159 - val_acc: 0.5781\n",
            "\n",
            "Epoch 00019: val_loss did not improve from 0.17469\n",
            "Epoch 20/50\n",
            " - 1s - loss: 0.2037 - acc: 0.9375 - val_loss: 0.5259 - val_acc: 0.8125\n",
            "\n",
            "Epoch 00020: val_loss did not improve from 0.17469\n",
            "Epoch 21/50\n",
            " - 1s - loss: 0.3374 - acc: 0.8906 - val_loss: 0.5309 - val_acc: 0.8125\n",
            "\n",
            "Epoch 00021: val_loss did not improve from 0.17469\n",
            "Epoch 22/50\n",
            " - 1s - loss: 0.2876 - acc: 0.8875 - val_loss: 0.4416 - val_acc: 0.8125\n",
            "\n",
            "Epoch 00022: val_loss did not improve from 0.17469\n",
            "Epoch 23/50\n",
            " - 1s - loss: 0.2640 - acc: 0.9188 - val_loss: 0.3824 - val_acc: 0.8750\n",
            "\n",
            "Epoch 00023: val_loss did not improve from 0.17469\n",
            "Epoch 24/50\n",
            " - 1s - loss: 0.2547 - acc: 0.9096 - val_loss: 0.3539 - val_acc: 0.7969\n",
            "\n",
            "Epoch 00024: val_loss did not improve from 0.17469\n",
            "Epoch 25/50\n",
            " - 1s - loss: 0.2272 - acc: 0.9219 - val_loss: 1.0061 - val_acc: 0.7188\n",
            "\n",
            "Epoch 00025: val_loss did not improve from 0.17469\n",
            "Epoch 26/50\n",
            " - 1s - loss: 0.1891 - acc: 0.9469 - val_loss: 0.3663 - val_acc: 0.8281\n",
            "\n",
            "Epoch 00026: val_loss did not improve from 0.17469\n",
            "Epoch 27/50\n",
            " - 1s - loss: 0.4018 - acc: 0.8688 - val_loss: 0.4481 - val_acc: 0.8438\n",
            "\n",
            "Epoch 00027: val_loss did not improve from 0.17469\n",
            "Epoch 28/50\n",
            " - 1s - loss: 0.2559 - acc: 0.9125 - val_loss: 0.4021 - val_acc: 0.7812\n",
            "\n",
            "Epoch 00028: val_loss did not improve from 0.17469\n",
            "Epoch 29/50\n",
            " - 1s - loss: 0.2573 - acc: 0.9313 - val_loss: 0.6341 - val_acc: 0.7188\n",
            "\n",
            "Epoch 00029: val_loss did not improve from 0.17469\n",
            "Epoch 30/50\n",
            " - 1s - loss: 0.1981 - acc: 0.9656 - val_loss: 0.7836 - val_acc: 0.7188\n",
            "\n",
            "Epoch 00030: val_loss did not improve from 0.17469\n",
            "Epoch 31/50\n",
            " - 1s - loss: 0.1662 - acc: 0.9562 - val_loss: 0.6065 - val_acc: 0.7188\n",
            "\n",
            "Epoch 00031: val_loss did not improve from 0.17469\n",
            "Epoch 32/50\n",
            " - 1s - loss: 0.1370 - acc: 0.9625 - val_loss: 1.1879 - val_acc: 0.6250\n",
            "\n",
            "Epoch 00032: val_loss did not improve from 0.17469\n",
            "Epoch 33/50\n",
            " - 1s - loss: 0.3403 - acc: 0.8750 - val_loss: 0.4117 - val_acc: 0.8281\n",
            "\n",
            "Epoch 00033: val_loss did not improve from 0.17469\n",
            "Epoch 34/50\n",
            " - 1s - loss: 0.3163 - acc: 0.8750 - val_loss: 0.3519 - val_acc: 0.8594\n",
            "\n",
            "Epoch 00034: val_loss did not improve from 0.17469\n",
            "Epoch 35/50\n",
            " - 1s - loss: 0.3418 - acc: 0.8719 - val_loss: 0.8855 - val_acc: 0.6562\n",
            "\n",
            "Epoch 00035: val_loss did not improve from 0.17469\n",
            "Epoch 36/50\n",
            " - 1s - loss: 0.2367 - acc: 0.9437 - val_loss: 0.5195 - val_acc: 0.8438\n",
            "\n",
            "Epoch 00036: val_loss did not improve from 0.17469\n",
            "Epoch 37/50\n",
            " - 1s - loss: 0.1968 - acc: 0.9406 - val_loss: 0.7828 - val_acc: 0.6613\n",
            "\n",
            "Epoch 00037: val_loss did not improve from 0.17469\n",
            "Epoch 38/50\n",
            " - 1s - loss: 0.1414 - acc: 0.9688 - val_loss: 0.6057 - val_acc: 0.7031\n",
            "\n",
            "Epoch 00038: val_loss did not improve from 0.17469\n",
            "Epoch 39/50\n",
            " - 1s - loss: 0.2532 - acc: 0.8969 - val_loss: 0.4048 - val_acc: 0.8906\n",
            "\n",
            "Epoch 00039: val_loss did not improve from 0.17469\n",
            "Epoch 40/50\n",
            " - 1s - loss: 0.1747 - acc: 0.9500 - val_loss: 0.7171 - val_acc: 0.7188\n",
            "\n",
            "Epoch 00040: val_loss did not improve from 0.17469\n",
            "Epoch 41/50\n",
            " - 1s - loss: 0.1792 - acc: 0.9469 - val_loss: 0.4063 - val_acc: 0.8438\n",
            "\n",
            "Epoch 00041: val_loss did not improve from 0.17469\n",
            "Epoch 42/50\n",
            " - 1s - loss: 0.1621 - acc: 0.9656 - val_loss: 0.8754 - val_acc: 0.6875\n",
            "\n",
            "Epoch 00042: val_loss did not improve from 0.17469\n",
            "Epoch 43/50\n",
            " - 1s - loss: 0.3091 - acc: 0.8781 - val_loss: 0.2607 - val_acc: 0.9219\n",
            "\n",
            "Epoch 00043: val_loss did not improve from 0.17469\n",
            "Epoch 44/50\n",
            " - 1s - loss: 0.2268 - acc: 0.9188 - val_loss: 0.2293 - val_acc: 0.9531\n",
            "\n",
            "Epoch 00044: val_loss did not improve from 0.17469\n",
            "Epoch 45/50\n",
            " - 1s - loss: 0.2502 - acc: 0.9219 - val_loss: 1.4686 - val_acc: 0.5312\n",
            "\n",
            "Epoch 00045: val_loss did not improve from 0.17469\n",
            "Epoch 46/50\n",
            " - 1s - loss: 0.1506 - acc: 0.9625 - val_loss: 0.6043 - val_acc: 0.7344\n",
            "\n",
            "Epoch 00046: val_loss did not improve from 0.17469\n",
            "Epoch 47/50\n",
            " - 1s - loss: 0.1702 - acc: 0.9562 - val_loss: 0.4473 - val_acc: 0.8125\n",
            "\n",
            "Epoch 00047: val_loss did not improve from 0.17469\n",
            "Epoch 48/50\n",
            " - 1s - loss: 0.2363 - acc: 0.9313 - val_loss: 0.9377 - val_acc: 0.5625\n",
            "\n",
            "Epoch 00048: val_loss did not improve from 0.17469\n",
            "Epoch 49/50\n",
            " - 1s - loss: 0.2494 - acc: 0.9250 - val_loss: 0.1776 - val_acc: 0.9688\n",
            "\n",
            "Epoch 00049: val_loss did not improve from 0.17469\n",
            "Epoch 50/50\n",
            " - 1s - loss: 0.1468 - acc: 0.9531 - val_loss: 0.4841 - val_acc: 0.8438\n",
            "\n",
            "Epoch 00050: val_loss did not improve from 0.17469\n"
          ],
          "name": "stdout"
        }
      ]
    },
    {
      "metadata": {
        "colab_type": "code",
        "id": "g3H7fijRkBYt",
        "outputId": "778e6a7f-91a5-42ef-c11a-40d59bd12772",
        "colab": {
          "base_uri": "https://localhost:8080/",
          "height": 380
        }
      },
      "cell_type": "code",
      "source": [
        "# plotar loss e accuracy para os datasets 'train' e 'test'\n",
        "plt.style.use(\"ggplot\")\n",
        "plt.figure()\n",
        "plt.plot(training.history['acc'], label='Accuracy')\n",
        "plt.plot(training.history['loss'], label='Loss')\n",
        "plt.xlabel('Epochs')\n",
        "plt.ylabel('Accuracy')\n",
        "plt.title(\"Training Loss and Accuracy\")\n",
        "plt.ylabel(\"Loss/Accuracy\")\n",
        "plt.legend()\n",
        "plt.savefig('drive/My Drive/Resultado/' + arquiteture + '.png', bbox_inches='tight')"
      ],
      "execution_count": 68,
      "outputs": [
        {
          "output_type": "display_data",
          "data": {
            "image/png": "[encoded data removed]",
            "text/plain": [
              "<matplotlib.figure.Figure at 0x7f732d014208>"
            ]
          },
          "metadata": {
            "tags": []
          }
        }
      ]
    },
    {
      "metadata": {
        "colab_type": "code",
        "id": "AXYT6WUakBY3",
        "outputId": "896610a4-2149-4a3c-e973-d4d86f2d78a3",
        "colab": {
          "base_uri": "https://localhost:8080/",
          "height": 74
        }
      },
      "cell_type": "code",
      "source": [
        "y_true, y_predict = ler_images_teste(arquiteture)"
      ],
      "execution_count": 69,
      "outputs": [
        {
          "output_type": "stream",
          "text": [
            "/usr/local/lib/python3.6/dist-packages/skimage/transform/_warps.py:84: UserWarning: The default mode, 'constant', will be changed to 'reflect' in skimage 0.15.\n",
            "  warn(\"The default mode, 'constant', will be changed to 'reflect' in \"\n"
          ],
          "name": "stderr"
        }
      ]
    },
    {
      "metadata": {
        "colab_type": "code",
        "id": "zKvHFps_kBZA",
        "outputId": "9ef0ca10-f27b-49e0-db2d-1280354270e5",
        "colab": {
          "base_uri": "https://localhost:8080/",
          "height": 35
        }
      },
      "cell_type": "code",
      "source": [
        "results[arquiteture] = precision_score(y_true, y_predict, average='binary')\n",
        "print('Test Precision: {:.2f}%'\n",
        "      .format(100 * results[arquiteture]))"
      ],
      "execution_count": 70,
      "outputs": [
        {
          "output_type": "stream",
          "text": [
            "Test Precision: 1.19%\n"
          ],
          "name": "stdout"
        }
      ]
    },
    {
      "metadata": {
        "id": "xBqqHjZrnDFP",
        "colab_type": "text"
      },
      "cell_type": "markdown",
      "source": [
        "### 8 tentativa Precision: 0.00%"
      ]
    },
    {
      "metadata": {
        "colab_type": "text",
        "id": "3Qg1zWbo5W6V"
      },
      "cell_type": "markdown",
      "source": [
        "Modelo adaptado do **Lucas Albertins**\n",
        "\n",
        "*   Função **Adadelta** para compilação\n"
      ]
    },
    {
      "metadata": {
        "colab_type": "code",
        "id": "MvjKH9LWpGsi",
        "colab": {}
      },
      "cell_type": "code",
      "source": [
        "from keras.layers import Conv2D, MaxPooling2D, GlobalMaxPooling2D, BatchNormalization\n",
        "from keras.regularizers import l2\n",
        "from keras.optimizers import Adadelta\n",
        "\n",
        "model = Sequential()\n",
        "\n",
        "model.add(Conv2D(32, (3, 3), activation='relu', kernel_regularizer=l2(1e-4), \n",
        "                 input_shape=(None, None, 3)))\n",
        "model.add(BatchNormalization())\n",
        "model.add(Conv2D(32, (3, 3), activation='relu', kernel_regularizer=l2(1e-4)))\n",
        "model.add(BatchNormalization())\n",
        "model.add(MaxPooling2D((2, 2)))\n",
        "model.add(Dropout(0.25))\n",
        "\n",
        "model.add(Conv2D(64, (3, 3), activation='relu', kernel_regularizer=l2(1e-4)))\n",
        "model.add(BatchNormalization())\n",
        "model.add(Conv2D(64, (3, 3), activation='relu', kernel_regularizer=l2(1e-4)))\n",
        "model.add(BatchNormalization())\n",
        "model.add(MaxPooling2D((2, 2)))\n",
        "model.add(Dropout(0.25))\n",
        "\n",
        "model.add(Conv2D(128, (1,1), kernel_regularizer=l2(1e-4)))\n",
        "model.add(GlobalMaxPooling2D())\n",
        "\n",
        "model.add(Dense(256, activation='relu', kernel_regularizer=l2(1e-4)))\n",
        "model.add(Dropout(0.5))\n",
        "model.add(Dense(2, activation='sigmoid', kernel_regularizer=l2(1e-4)))"
      ],
      "execution_count": 0,
      "outputs": []
    },
    {
      "metadata": {
        "colab_type": "code",
        "id": "civjmdynpGsy",
        "colab": {}
      },
      "cell_type": "code",
      "source": [
        "model.compile(Adadelta(lr=1.0, rho=0.95, epsilon=None, decay=0.0), \n",
        "              loss='binary_crossentropy', metrics=['accuracy'])"
      ],
      "execution_count": 0,
      "outputs": []
    },
    {
      "metadata": {
        "colab_type": "code",
        "id": "lmwfJa_fkEKz",
        "colab": {}
      },
      "cell_type": "code",
      "source": [
        "arquiteture = 'architecture_8'"
      ],
      "execution_count": 0,
      "outputs": []
    },
    {
      "metadata": {
        "colab_type": "code",
        "id": "cl6Lxs-6ktsK",
        "colab": {}
      },
      "cell_type": "code",
      "source": [
        "checkpointer = ModelCheckpoint(filepath='drive/My Drive/Resultado/weights_' + arquiteture + '.hdf5', verbose=1, save_best_only=True)"
      ],
      "execution_count": 0,
      "outputs": []
    },
    {
      "metadata": {
        "colab_type": "code",
        "id": "w7LbZJly5iOF",
        "outputId": "1edd898a-96ea-48e7-c604-7a8770e6ed6c",
        "colab": {
          "base_uri": "https://localhost:8080/",
          "height": 3710
        }
      },
      "cell_type": "code",
      "source": [
        "training = model.fit_generator(train_batches, steps_per_epoch=stepsPerEpoche, \n",
        "                   validation_data=validation_batches, validation_steps=validationSteps,\n",
        "                   epochs=50, verbose=2, callbacks=[checkpointer])"
      ],
      "execution_count": 75,
      "outputs": [
        {
          "output_type": "stream",
          "text": [
            "Epoch 1/50\n",
            " - 4s - loss: 1.0968 - acc: 0.6363 - val_loss: 0.6315 - val_acc: 0.7344\n",
            "\n",
            "Epoch 00001: val_loss improved from inf to 0.63154, saving model to drive/My Drive/Resultado/weights_architecture_8.hdf5\n",
            "Epoch 2/50\n",
            " - 1s - loss: 0.8788 - acc: 0.7062 - val_loss: 1.1126 - val_acc: 0.6562\n",
            "\n",
            "Epoch 00002: val_loss did not improve from 0.63154\n",
            "Epoch 3/50\n",
            " - 1s - loss: 0.5118 - acc: 0.8250 - val_loss: 1.0024 - val_acc: 0.6094\n",
            "\n",
            "Epoch 00003: val_loss did not improve from 0.63154\n",
            "Epoch 4/50\n",
            " - 0s - loss: 0.5449 - acc: 0.8344 - val_loss: 0.8068 - val_acc: 0.6406\n",
            "\n",
            "Epoch 00004: val_loss did not improve from 0.63154\n",
            "Epoch 5/50\n",
            " - 1s - loss: 0.5823 - acc: 0.8031 - val_loss: 1.4141 - val_acc: 0.5000\n",
            "\n",
            "Epoch 00005: val_loss did not improve from 0.63154\n",
            "Epoch 6/50\n",
            " - 0s - loss: 0.5744 - acc: 0.8063 - val_loss: 0.7118 - val_acc: 0.6250\n",
            "\n",
            "Epoch 00006: val_loss did not improve from 0.63154\n",
            "Epoch 7/50\n",
            " - 0s - loss: 0.4444 - acc: 0.8625 - val_loss: 0.3146 - val_acc: 0.9355\n",
            "\n",
            "Epoch 00007: val_loss improved from 0.63154 to 0.31458, saving model to drive/My Drive/Resultado/weights_architecture_8.hdf5\n",
            "Epoch 8/50\n",
            " - 0s - loss: 0.4802 - acc: 0.8344 - val_loss: 0.6736 - val_acc: 0.6875\n",
            "\n",
            "Epoch 00008: val_loss did not improve from 0.31458\n",
            "Epoch 9/50\n",
            " - 1s - loss: 0.3243 - acc: 0.8750 - val_loss: 0.3070 - val_acc: 0.8906\n",
            "\n",
            "Epoch 00009: val_loss improved from 0.31458 to 0.30702, saving model to drive/My Drive/Resultado/weights_architecture_8.hdf5\n",
            "Epoch 10/50\n",
            " - 0s - loss: 0.3590 - acc: 0.8688 - val_loss: 0.3657 - val_acc: 0.8750\n",
            "\n",
            "Epoch 00010: val_loss did not improve from 0.30702\n",
            "Epoch 11/50\n",
            " - 1s - loss: 0.3467 - acc: 0.8875 - val_loss: 0.2901 - val_acc: 0.9375\n",
            "\n",
            "Epoch 00011: val_loss improved from 0.30702 to 0.29011, saving model to drive/My Drive/Resultado/weights_architecture_8.hdf5\n",
            "Epoch 12/50\n",
            " - 1s - loss: 0.3436 - acc: 0.8563 - val_loss: 0.4269 - val_acc: 0.8125\n",
            "\n",
            "Epoch 00012: val_loss did not improve from 0.29011\n",
            "Epoch 13/50\n",
            " - 1s - loss: 0.3488 - acc: 0.8719 - val_loss: 0.3899 - val_acc: 0.8438\n",
            "\n",
            "Epoch 00013: val_loss did not improve from 0.29011\n",
            "Epoch 14/50\n",
            " - 1s - loss: 0.2298 - acc: 0.9125 - val_loss: 0.6492 - val_acc: 0.7500\n",
            "\n",
            "Epoch 00014: val_loss did not improve from 0.29011\n",
            "Epoch 15/50\n",
            " - 1s - loss: 0.4587 - acc: 0.8594 - val_loss: 0.8897 - val_acc: 0.6094\n",
            "\n",
            "Epoch 00015: val_loss did not improve from 0.29011\n",
            "Epoch 16/50\n",
            " - 1s - loss: 0.4434 - acc: 0.8219 - val_loss: 1.3813 - val_acc: 0.4531\n",
            "\n",
            "Epoch 00016: val_loss did not improve from 0.29011\n",
            "Epoch 17/50\n",
            " - 1s - loss: 0.3372 - acc: 0.8906 - val_loss: 1.1028 - val_acc: 0.5312\n",
            "\n",
            "Epoch 00017: val_loss did not improve from 0.29011\n",
            "Epoch 18/50\n",
            " - 1s - loss: 0.2548 - acc: 0.9250 - val_loss: 1.3518 - val_acc: 0.4844\n",
            "\n",
            "Epoch 00018: val_loss did not improve from 0.29011\n",
            "Epoch 19/50\n",
            " - 1s - loss: 0.3134 - acc: 0.9000 - val_loss: 0.8650 - val_acc: 0.5469\n",
            "\n",
            "Epoch 00019: val_loss did not improve from 0.29011\n",
            "Epoch 20/50\n",
            " - 1s - loss: 0.2614 - acc: 0.9094 - val_loss: 0.6834 - val_acc: 0.6719\n",
            "\n",
            "Epoch 00020: val_loss did not improve from 0.29011\n",
            "Epoch 21/50\n",
            " - 1s - loss: 0.2590 - acc: 0.9094 - val_loss: 1.1463 - val_acc: 0.4844\n",
            "\n",
            "Epoch 00021: val_loss did not improve from 0.29011\n",
            "Epoch 22/50\n",
            " - 1s - loss: 0.2041 - acc: 0.9375 - val_loss: 1.5197 - val_acc: 0.4688\n",
            "\n",
            "Epoch 00022: val_loss did not improve from 0.29011\n",
            "Epoch 23/50\n",
            " - 1s - loss: 0.2538 - acc: 0.9313 - val_loss: 0.4817 - val_acc: 0.7812\n",
            "\n",
            "Epoch 00023: val_loss did not improve from 0.29011\n",
            "Epoch 24/50\n",
            " - 1s - loss: 0.2664 - acc: 0.9313 - val_loss: 1.2700 - val_acc: 0.4219\n",
            "\n",
            "Epoch 00024: val_loss did not improve from 0.29011\n",
            "Epoch 25/50\n",
            " - 1s - loss: 0.2942 - acc: 0.9031 - val_loss: 1.2464 - val_acc: 0.4688\n",
            "\n",
            "Epoch 00025: val_loss did not improve from 0.29011\n",
            "Epoch 26/50\n",
            " - 1s - loss: 0.3470 - acc: 0.8844 - val_loss: 0.8572 - val_acc: 0.6250\n",
            "\n",
            "Epoch 00026: val_loss did not improve from 0.29011\n",
            "Epoch 27/50\n",
            " - 1s - loss: 0.2592 - acc: 0.9062 - val_loss: 1.1560 - val_acc: 0.4531\n",
            "\n",
            "Epoch 00027: val_loss did not improve from 0.29011\n",
            "Epoch 28/50\n",
            " - 1s - loss: 0.2525 - acc: 0.8923 - val_loss: 1.3958 - val_acc: 0.5625\n",
            "\n",
            "Epoch 00028: val_loss did not improve from 0.29011\n",
            "Epoch 29/50\n",
            " - 1s - loss: 0.3237 - acc: 0.8906 - val_loss: 1.1801 - val_acc: 0.5625\n",
            "\n",
            "Epoch 00029: val_loss did not improve from 0.29011\n",
            "Epoch 30/50\n",
            " - 1s - loss: 0.3429 - acc: 0.9031 - val_loss: 0.9445 - val_acc: 0.5938\n",
            "\n",
            "Epoch 00030: val_loss did not improve from 0.29011\n",
            "Epoch 31/50\n",
            " - 1s - loss: 0.2478 - acc: 0.9469 - val_loss: 1.1026 - val_acc: 0.6562\n",
            "\n",
            "Epoch 00031: val_loss did not improve from 0.29011\n",
            "Epoch 32/50\n",
            " - 1s - loss: 0.2909 - acc: 0.9250 - val_loss: 1.2026 - val_acc: 0.4844\n",
            "\n",
            "Epoch 00032: val_loss did not improve from 0.29011\n",
            "Epoch 33/50\n",
            " - 1s - loss: 0.3543 - acc: 0.8656 - val_loss: 0.3990 - val_acc: 0.8594\n",
            "\n",
            "Epoch 00033: val_loss did not improve from 0.29011\n",
            "Epoch 34/50\n",
            " - 1s - loss: 0.2895 - acc: 0.9094 - val_loss: 0.4212 - val_acc: 0.7656\n",
            "\n",
            "Epoch 00034: val_loss did not improve from 0.29011\n",
            "Epoch 35/50\n",
            " - 1s - loss: 0.3592 - acc: 0.8812 - val_loss: 0.8598 - val_acc: 0.5938\n",
            "\n",
            "Epoch 00035: val_loss did not improve from 0.29011\n",
            "Epoch 36/50\n",
            " - 1s - loss: 0.2997 - acc: 0.9094 - val_loss: 0.4242 - val_acc: 0.8438\n",
            "\n",
            "Epoch 00036: val_loss did not improve from 0.29011\n",
            "Epoch 37/50\n",
            " - 1s - loss: 0.2593 - acc: 0.9313 - val_loss: 0.4551 - val_acc: 0.7812\n",
            "\n",
            "Epoch 00037: val_loss did not improve from 0.29011\n",
            "Epoch 38/50\n",
            " - 1s - loss: 0.3172 - acc: 0.8906 - val_loss: 0.4158 - val_acc: 0.8065\n",
            "\n",
            "Epoch 00038: val_loss did not improve from 0.29011\n",
            "Epoch 39/50\n",
            " - 1s - loss: 0.2221 - acc: 0.9125 - val_loss: 1.2430 - val_acc: 0.4688\n",
            "\n",
            "Epoch 00039: val_loss did not improve from 0.29011\n",
            "Epoch 40/50\n",
            " - 1s - loss: 0.2720 - acc: 0.9250 - val_loss: 0.6737 - val_acc: 0.6406\n",
            "\n",
            "Epoch 00040: val_loss did not improve from 0.29011\n",
            "Epoch 41/50\n",
            " - 1s - loss: 0.1988 - acc: 0.9594 - val_loss: 1.0355 - val_acc: 0.5625\n",
            "\n",
            "Epoch 00041: val_loss did not improve from 0.29011\n",
            "Epoch 42/50\n",
            " - 1s - loss: 0.1864 - acc: 0.9344 - val_loss: 0.9137 - val_acc: 0.5625\n",
            "\n",
            "Epoch 00042: val_loss did not improve from 0.29011\n",
            "Epoch 43/50\n",
            " - 1s - loss: 0.1639 - acc: 0.9594 - val_loss: 1.0946 - val_acc: 0.4531\n",
            "\n",
            "Epoch 00043: val_loss did not improve from 0.29011\n",
            "Epoch 44/50\n",
            " - 1s - loss: 0.3834 - acc: 0.8750 - val_loss: 1.6645 - val_acc: 0.3125\n",
            "\n",
            "Epoch 00044: val_loss did not improve from 0.29011\n",
            "Epoch 45/50\n",
            " - 1s - loss: 0.2644 - acc: 0.9250 - val_loss: 0.6624 - val_acc: 0.6719\n",
            "\n",
            "Epoch 00045: val_loss did not improve from 0.29011\n",
            "Epoch 46/50\n",
            " - 1s - loss: 0.2545 - acc: 0.9062 - val_loss: 0.5544 - val_acc: 0.7812\n",
            "\n",
            "Epoch 00046: val_loss did not improve from 0.29011\n",
            "Epoch 47/50\n",
            " - 1s - loss: 0.4117 - acc: 0.8438 - val_loss: 1.3059 - val_acc: 0.5938\n",
            "\n",
            "Epoch 00047: val_loss did not improve from 0.29011\n",
            "Epoch 48/50\n",
            " - 1s - loss: 0.3354 - acc: 0.8812 - val_loss: 1.6820 - val_acc: 0.4688\n",
            "\n",
            "Epoch 00048: val_loss did not improve from 0.29011\n",
            "Epoch 49/50\n",
            " - 1s - loss: 0.2999 - acc: 0.8937 - val_loss: 1.7457 - val_acc: 0.4375\n",
            "\n",
            "Epoch 00049: val_loss did not improve from 0.29011\n",
            "Epoch 50/50\n",
            " - 1s - loss: 0.2912 - acc: 0.8688 - val_loss: 1.5018 - val_acc: 0.4688\n",
            "\n",
            "Epoch 00050: val_loss did not improve from 0.29011\n"
          ],
          "name": "stdout"
        }
      ]
    },
    {
      "metadata": {
        "colab_type": "code",
        "id": "8zBVma0TkELH",
        "outputId": "64dfef76-9888-4b25-f57f-d082177eb27c",
        "colab": {
          "base_uri": "https://localhost:8080/",
          "height": 380
        }
      },
      "cell_type": "code",
      "source": [
        "# plotar loss e accuracy para os datasets 'train' e 'test'\n",
        "plt.style.use(\"ggplot\")\n",
        "plt.figure()\n",
        "plt.plot(training.history['acc'], label='Accuracy')\n",
        "plt.plot(training.history['loss'], label='Loss')\n",
        "plt.xlabel('Epochs')\n",
        "plt.ylabel('Accuracy')\n",
        "plt.title(\"Training Loss and Accuracy\")\n",
        "plt.ylabel(\"Loss/Accuracy\")\n",
        "plt.legend()\n",
        "plt.savefig('drive/My Drive/Resultado/' + arquiteture + '.png', bbox_inches='tight')"
      ],
      "execution_count": 76,
      "outputs": [
        {
          "output_type": "display_data",
          "data": {
            "image/png": "[encoded data removed]",
            "text/plain": [
              "<matplotlib.figure.Figure at 0x7f732aca0ef0>"
            ]
          },
          "metadata": {
            "tags": []
          }
        }
      ]
    },
    {
      "metadata": {
        "colab_type": "code",
        "id": "5B4aLvCvkELT",
        "outputId": "4d08a550-8183-4288-e5ba-84fdbae6b270",
        "colab": {
          "base_uri": "https://localhost:8080/",
          "height": 74
        }
      },
      "cell_type": "code",
      "source": [
        "y_true, y_predict = ler_images_teste(arquiteture)"
      ],
      "execution_count": 77,
      "outputs": [
        {
          "output_type": "stream",
          "text": [
            "/usr/local/lib/python3.6/dist-packages/skimage/transform/_warps.py:84: UserWarning: The default mode, 'constant', will be changed to 'reflect' in skimage 0.15.\n",
            "  warn(\"The default mode, 'constant', will be changed to 'reflect' in \"\n"
          ],
          "name": "stderr"
        }
      ]
    },
    {
      "metadata": {
        "colab_type": "code",
        "id": "8qEpN64tkELc",
        "outputId": "4b53aec5-9d46-4227-9cd9-3d91b9941f9c",
        "colab": {
          "base_uri": "https://localhost:8080/",
          "height": 35
        }
      },
      "cell_type": "code",
      "source": [
        "results[arquiteture] = precision_score(y_true, y_predict, average='binary')\n",
        "print('Test Precision: {:.2f}%'\n",
        "      .format(100 * results[arquiteture]))"
      ],
      "execution_count": 78,
      "outputs": [
        {
          "output_type": "stream",
          "text": [
            "Test Precision: 0.00%\n"
          ],
          "name": "stdout"
        }
      ]
    },
    {
      "metadata": {
        "id": "csBCokNgxgbn",
        "colab_type": "text"
      },
      "cell_type": "markdown",
      "source": [
        "### 9 tentativa Precision: 3.37%"
      ]
    },
    {
      "metadata": {
        "colab_type": "text",
        "id": "qLtNH8xk63El"
      },
      "cell_type": "markdown",
      "source": [
        "Modelo adaptado do **Lucas Albertins**\n",
        "\n",
        "*   Função **SGD** para compilação\n"
      ]
    },
    {
      "metadata": {
        "colab_type": "code",
        "id": "EJjS6pK1xj1f",
        "colab": {}
      },
      "cell_type": "code",
      "source": [
        "from keras.layers import Conv2D, MaxPooling2D, GlobalMaxPooling2D, BatchNormalization\n",
        "from keras.regularizers import l2\n",
        "\n",
        "model = Sequential()\n",
        "\n",
        "model.add(Conv2D(32, (3, 3), activation='relu', kernel_regularizer=l2(1e-4), \n",
        "                 input_shape=(None, None, 3)))\n",
        "model.add(BatchNormalization())\n",
        "model.add(Conv2D(32, (3, 3), activation='relu', kernel_regularizer=l2(1e-4)))\n",
        "model.add(BatchNormalization())\n",
        "model.add(MaxPooling2D((2, 2)))\n",
        "model.add(Dropout(0.25))\n",
        "\n",
        "model.add(Conv2D(64, (3, 3), activation='relu', kernel_regularizer=l2(1e-4)))\n",
        "model.add(BatchNormalization())\n",
        "model.add(Conv2D(64, (3, 3), activation='relu', kernel_regularizer=l2(1e-4)))\n",
        "model.add(BatchNormalization())\n",
        "model.add(MaxPooling2D((2, 2)))\n",
        "model.add(Dropout(0.25))\n",
        "\n",
        "model.add(Conv2D(128, (1,1), kernel_regularizer=l2(1e-4)))\n",
        "model.add(GlobalMaxPooling2D())\n",
        "\n",
        "model.add(Dense(256, activation='relu', kernel_regularizer=l2(1e-4)))\n",
        "model.add(Dropout(0.5))\n",
        "model.add(Dense(2, activation='sigmoid', kernel_regularizer=l2(1e-4)))"
      ],
      "execution_count": 0,
      "outputs": []
    },
    {
      "metadata": {
        "colab_type": "code",
        "id": "9ezdguEZxsWT",
        "colab": {}
      },
      "cell_type": "code",
      "source": [
        "model.compile(SGD(lr=0.03, momentum=0.0, decay=0.0, nesterov=False), \n",
        "              loss='binary_crossentropy', metrics=['accuracy'])"
      ],
      "execution_count": 0,
      "outputs": []
    },
    {
      "metadata": {
        "colab_type": "code",
        "id": "474-g6XskHLD",
        "colab": {}
      },
      "cell_type": "code",
      "source": [
        "arquiteture = 'architecture_9'"
      ],
      "execution_count": 0,
      "outputs": []
    },
    {
      "metadata": {
        "colab_type": "code",
        "id": "L_3cTA3AkqpU",
        "colab": {}
      },
      "cell_type": "code",
      "source": [
        "checkpointer = ModelCheckpoint(filepath='drive/My Drive/Resultado/weights_' + arquiteture + '.hdf5', verbose=1, save_best_only=True)"
      ],
      "execution_count": 0,
      "outputs": []
    },
    {
      "metadata": {
        "colab_type": "code",
        "id": "6jYgi71R6XO2",
        "outputId": "f0c30449-bd04-483c-b886-00426f6a75a1",
        "colab": {
          "base_uri": "https://localhost:8080/",
          "height": 3710
        }
      },
      "cell_type": "code",
      "source": [
        "training = model.fit_generator(train_batches, steps_per_epoch=stepsPerEpoche, \n",
        "                   validation_data=validation_batches, validation_steps=validationSteps,\n",
        "                   epochs=50, verbose=2, callbacks=[checkpointer])"
      ],
      "execution_count": 83,
      "outputs": [
        {
          "output_type": "stream",
          "text": [
            "Epoch 1/50\n",
            " - 4s - loss: 1.3540 - acc: 0.5750 - val_loss: 0.6640 - val_acc: 0.6094\n",
            "\n",
            "Epoch 00001: val_loss improved from inf to 0.66397, saving model to drive/My Drive/Resultado/weights_architecture_9.hdf5\n",
            "Epoch 2/50\n",
            " - 0s - loss: 1.1479 - acc: 0.6312 - val_loss: 0.6724 - val_acc: 0.7188\n",
            "\n",
            "Epoch 00002: val_loss did not improve from 0.66397\n",
            "Epoch 3/50\n",
            " - 0s - loss: 0.6243 - acc: 0.7594 - val_loss: 0.5420 - val_acc: 0.7500\n",
            "\n",
            "Epoch 00003: val_loss improved from 0.66397 to 0.54202, saving model to drive/My Drive/Resultado/weights_architecture_9.hdf5\n",
            "Epoch 4/50\n",
            " - 0s - loss: 0.5261 - acc: 0.8125 - val_loss: 0.6570 - val_acc: 0.7500\n",
            "\n",
            "Epoch 00004: val_loss did not improve from 0.54202\n",
            "Epoch 5/50\n",
            " - 0s - loss: 0.3513 - acc: 0.9062 - val_loss: 0.7637 - val_acc: 0.5156\n",
            "\n",
            "Epoch 00005: val_loss did not improve from 0.54202\n",
            "Epoch 6/50\n",
            " - 0s - loss: 0.4515 - acc: 0.8481 - val_loss: 0.6037 - val_acc: 0.7188\n",
            "\n",
            "Epoch 00006: val_loss did not improve from 0.54202\n",
            "Epoch 7/50\n",
            " - 0s - loss: 0.2704 - acc: 0.9125 - val_loss: 0.4187 - val_acc: 0.8438\n",
            "\n",
            "Epoch 00007: val_loss improved from 0.54202 to 0.41868, saving model to drive/My Drive/Resultado/weights_architecture_9.hdf5\n",
            "Epoch 8/50\n",
            " - 0s - loss: 0.4884 - acc: 0.8312 - val_loss: 1.0265 - val_acc: 0.5161\n",
            "\n",
            "Epoch 00008: val_loss did not improve from 0.41868\n",
            "Epoch 9/50\n",
            " - 1s - loss: 0.2749 - acc: 0.9250 - val_loss: 0.9397 - val_acc: 0.4688\n",
            "\n",
            "Epoch 00009: val_loss did not improve from 0.41868\n",
            "Epoch 10/50\n",
            " - 1s - loss: 0.4561 - acc: 0.8688 - val_loss: 0.5502 - val_acc: 0.7500\n",
            "\n",
            "Epoch 00010: val_loss did not improve from 0.41868\n",
            "Epoch 11/50\n",
            " - 1s - loss: 0.3433 - acc: 0.8844 - val_loss: 0.6779 - val_acc: 0.6875\n",
            "\n",
            "Epoch 00011: val_loss did not improve from 0.41868\n",
            "Epoch 12/50\n",
            " - 1s - loss: 0.3889 - acc: 0.8531 - val_loss: 0.4781 - val_acc: 0.7812\n",
            "\n",
            "Epoch 00012: val_loss did not improve from 0.41868\n",
            "Epoch 13/50\n",
            " - 1s - loss: 0.3249 - acc: 0.8937 - val_loss: 0.7328 - val_acc: 0.6406\n",
            "\n",
            "Epoch 00013: val_loss did not improve from 0.41868\n",
            "Epoch 14/50\n",
            " - 1s - loss: 0.3261 - acc: 0.9031 - val_loss: 0.4231 - val_acc: 0.9219\n",
            "\n",
            "Epoch 00014: val_loss did not improve from 0.41868\n",
            "Epoch 15/50\n",
            " - 1s - loss: 0.2514 - acc: 0.9188 - val_loss: 0.5240 - val_acc: 0.7344\n",
            "\n",
            "Epoch 00015: val_loss did not improve from 0.41868\n",
            "Epoch 16/50\n",
            " - 1s - loss: 0.2628 - acc: 0.9156 - val_loss: 0.4691 - val_acc: 0.7656\n",
            "\n",
            "Epoch 00016: val_loss did not improve from 0.41868\n",
            "Epoch 17/50\n",
            " - 1s - loss: 0.3253 - acc: 0.9125 - val_loss: 1.0455 - val_acc: 0.3594\n",
            "\n",
            "Epoch 00017: val_loss did not improve from 0.41868\n",
            "Epoch 18/50\n",
            " - 1s - loss: 0.4701 - acc: 0.8250 - val_loss: 1.4793 - val_acc: 0.4375\n",
            "\n",
            "Epoch 00018: val_loss did not improve from 0.41868\n",
            "Epoch 19/50\n",
            " - 1s - loss: 0.3374 - acc: 0.9000 - val_loss: 0.7935 - val_acc: 0.5781\n",
            "\n",
            "Epoch 00019: val_loss did not improve from 0.41868\n",
            "Epoch 20/50\n",
            " - 1s - loss: 0.3205 - acc: 0.8844 - val_loss: 1.1725 - val_acc: 0.5781\n",
            "\n",
            "Epoch 00020: val_loss did not improve from 0.41868\n",
            "Epoch 21/50\n",
            " - 1s - loss: 0.3060 - acc: 0.8812 - val_loss: 1.1554 - val_acc: 0.5469\n",
            "\n",
            "Epoch 00021: val_loss did not improve from 0.41868\n",
            "Epoch 22/50\n",
            " - 1s - loss: 0.3245 - acc: 0.8937 - val_loss: 0.9269 - val_acc: 0.4688\n",
            "\n",
            "Epoch 00022: val_loss did not improve from 0.41868\n",
            "Epoch 23/50\n",
            " - 1s - loss: 0.3517 - acc: 0.8781 - val_loss: 0.5760 - val_acc: 0.7500\n",
            "\n",
            "Epoch 00023: val_loss did not improve from 0.41868\n",
            "Epoch 24/50\n",
            " - 1s - loss: 0.2770 - acc: 0.9250 - val_loss: 0.6448 - val_acc: 0.6094\n",
            "\n",
            "Epoch 00024: val_loss did not improve from 0.41868\n",
            "Epoch 25/50\n",
            " - 1s - loss: 0.3035 - acc: 0.9000 - val_loss: 0.4470 - val_acc: 0.7812\n",
            "\n",
            "Epoch 00025: val_loss did not improve from 0.41868\n",
            "Epoch 26/50\n",
            " - 1s - loss: 0.2361 - acc: 0.9250 - val_loss: 0.4339 - val_acc: 0.8125\n",
            "\n",
            "Epoch 00026: val_loss did not improve from 0.41868\n",
            "Epoch 27/50\n",
            " - 1s - loss: 0.3150 - acc: 0.8937 - val_loss: 0.6206 - val_acc: 0.6562\n",
            "\n",
            "Epoch 00027: val_loss did not improve from 0.41868\n",
            "Epoch 28/50\n",
            " - 1s - loss: 0.1729 - acc: 0.9625 - val_loss: 1.8152 - val_acc: 0.2812\n",
            "\n",
            "Epoch 00028: val_loss did not improve from 0.41868\n",
            "Epoch 29/50\n",
            " - 1s - loss: 0.2006 - acc: 0.9344 - val_loss: 1.3251 - val_acc: 0.3750\n",
            "\n",
            "Epoch 00029: val_loss did not improve from 0.41868\n",
            "Epoch 30/50\n",
            " - 1s - loss: 0.3083 - acc: 0.8906 - val_loss: 0.4946 - val_acc: 0.7969\n",
            "\n",
            "Epoch 00030: val_loss did not improve from 0.41868\n",
            "Epoch 31/50\n",
            " - 1s - loss: 0.3755 - acc: 0.8656 - val_loss: 0.5242 - val_acc: 0.7188\n",
            "\n",
            "Epoch 00031: val_loss did not improve from 0.41868\n",
            "Epoch 32/50\n",
            " - 1s - loss: 0.2305 - acc: 0.9437 - val_loss: 0.5371 - val_acc: 0.8281\n",
            "\n",
            "Epoch 00032: val_loss did not improve from 0.41868\n",
            "Epoch 33/50\n",
            " - 1s - loss: 0.1901 - acc: 0.9495 - val_loss: 0.2574 - val_acc: 0.9844\n",
            "\n",
            "Epoch 00033: val_loss improved from 0.41868 to 0.25741, saving model to drive/My Drive/Resultado/weights_architecture_9.hdf5\n",
            "Epoch 34/50\n",
            " - 1s - loss: 0.3485 - acc: 0.8594 - val_loss: 0.4754 - val_acc: 0.7969\n",
            "\n",
            "Epoch 00034: val_loss did not improve from 0.25741\n",
            "Epoch 35/50\n",
            " - 1s - loss: 0.3036 - acc: 0.8812 - val_loss: 0.6875 - val_acc: 0.6562\n",
            "\n",
            "Epoch 00035: val_loss did not improve from 0.25741\n",
            "Epoch 36/50\n",
            " - 1s - loss: 0.2067 - acc: 0.9406 - val_loss: 0.4648 - val_acc: 0.7500\n",
            "\n",
            "Epoch 00036: val_loss did not improve from 0.25741\n",
            "Epoch 37/50\n",
            " - 1s - loss: 0.2623 - acc: 0.9313 - val_loss: 0.5384 - val_acc: 0.6875\n",
            "\n",
            "Epoch 00037: val_loss did not improve from 0.25741\n",
            "Epoch 38/50\n",
            " - 1s - loss: 0.2698 - acc: 0.9125 - val_loss: 0.4748 - val_acc: 0.7500\n",
            "\n",
            "Epoch 00038: val_loss did not improve from 0.25741\n",
            "Epoch 39/50\n",
            " - 1s - loss: 0.1750 - acc: 0.9562 - val_loss: 0.8315 - val_acc: 0.5645\n",
            "\n",
            "Epoch 00039: val_loss did not improve from 0.25741\n",
            "Epoch 40/50\n",
            " - 1s - loss: 0.2871 - acc: 0.9000 - val_loss: 0.6334 - val_acc: 0.5938\n",
            "\n",
            "Epoch 00040: val_loss did not improve from 0.25741\n",
            "Epoch 41/50\n",
            " - 1s - loss: 0.2825 - acc: 0.9094 - val_loss: 0.5254 - val_acc: 0.7656\n",
            "\n",
            "Epoch 00041: val_loss did not improve from 0.25741\n",
            "Epoch 42/50\n",
            " - 1s - loss: 0.2316 - acc: 0.9344 - val_loss: 0.9383 - val_acc: 0.5312\n",
            "\n",
            "Epoch 00042: val_loss did not improve from 0.25741\n",
            "Epoch 43/50\n",
            " - 1s - loss: 0.2717 - acc: 0.8969 - val_loss: 0.4926 - val_acc: 0.7188\n",
            "\n",
            "Epoch 00043: val_loss did not improve from 0.25741\n",
            "Epoch 44/50\n",
            " - 1s - loss: 0.3001 - acc: 0.9125 - val_loss: 0.4321 - val_acc: 0.7812\n",
            "\n",
            "Epoch 00044: val_loss did not improve from 0.25741\n",
            "Epoch 45/50\n",
            " - 1s - loss: 0.2734 - acc: 0.9156 - val_loss: 0.2755 - val_acc: 0.9219\n",
            "\n",
            "Epoch 00045: val_loss did not improve from 0.25741\n",
            "Epoch 46/50\n",
            " - 1s - loss: 0.1745 - acc: 0.9625 - val_loss: 0.4027 - val_acc: 0.8281\n",
            "\n",
            "Epoch 00046: val_loss did not improve from 0.25741\n",
            "Epoch 47/50\n",
            " - 1s - loss: 0.3023 - acc: 0.9188 - val_loss: 0.4675 - val_acc: 0.7969\n",
            "\n",
            "Epoch 00047: val_loss did not improve from 0.25741\n",
            "Epoch 48/50\n",
            " - 1s - loss: 0.2484 - acc: 0.9031 - val_loss: 0.2702 - val_acc: 0.9688\n",
            "\n",
            "Epoch 00048: val_loss did not improve from 0.25741\n",
            "Epoch 49/50\n",
            " - 1s - loss: 0.2848 - acc: 0.8875 - val_loss: 0.5997 - val_acc: 0.6719\n",
            "\n",
            "Epoch 00049: val_loss did not improve from 0.25741\n",
            "Epoch 50/50\n",
            " - 1s - loss: 0.3037 - acc: 0.9000 - val_loss: 0.5915 - val_acc: 0.7031\n",
            "\n",
            "Epoch 00050: val_loss did not improve from 0.25741\n"
          ],
          "name": "stdout"
        }
      ]
    },
    {
      "metadata": {
        "colab_type": "code",
        "id": "M6Yz3lQwkHLX",
        "outputId": "7c5601da-e147-486e-f77e-5df175c222f1",
        "colab": {
          "base_uri": "https://localhost:8080/",
          "height": 380
        }
      },
      "cell_type": "code",
      "source": [
        "# plotar loss e accuracy para os datasets 'train' e 'test'\n",
        "plt.style.use(\"ggplot\")\n",
        "plt.figure()\n",
        "plt.plot(training.history['acc'], label='Accuracy')\n",
        "plt.plot(training.history['loss'], label='Loss')\n",
        "plt.xlabel('Epochs')\n",
        "plt.ylabel('Accuracy')\n",
        "plt.title(\"Training Loss and Accuracy\")\n",
        "plt.ylabel(\"Loss/Accuracy\")\n",
        "plt.legend()\n",
        "plt.savefig('drive/My Drive/Resultado/' + arquiteture + '.png', bbox_inches='tight')"
      ],
      "execution_count": 84,
      "outputs": [
        {
          "output_type": "display_data",
          "data": {
            "image/png": "[encoded data removed]",
            "text/plain": [
              "<matplotlib.figure.Figure at 0x7f732a385358>"
            ]
          },
          "metadata": {
            "tags": []
          }
        }
      ]
    },
    {
      "metadata": {
        "colab_type": "code",
        "id": "5LAzY6JfkHLh",
        "outputId": "57df9205-d027-4bdb-ce39-e9348af1842a",
        "colab": {
          "base_uri": "https://localhost:8080/",
          "height": 74
        }
      },
      "cell_type": "code",
      "source": [
        "y_true, y_predict = ler_images_teste(arquiteture)"
      ],
      "execution_count": 85,
      "outputs": [
        {
          "output_type": "stream",
          "text": [
            "/usr/local/lib/python3.6/dist-packages/skimage/transform/_warps.py:84: UserWarning: The default mode, 'constant', will be changed to 'reflect' in skimage 0.15.\n",
            "  warn(\"The default mode, 'constant', will be changed to 'reflect' in \"\n"
          ],
          "name": "stderr"
        }
      ]
    },
    {
      "metadata": {
        "colab_type": "code",
        "id": "8X-QY2SokHLo",
        "outputId": "1ac7faa3-8d7a-48d8-af4d-d7a363ad47e3",
        "colab": {
          "base_uri": "https://localhost:8080/",
          "height": 35
        }
      },
      "cell_type": "code",
      "source": [
        "results[arquiteture] = precision_score(y_true, y_predict, average='binary')\n",
        "print('Test Precision: {:.2f}%'\n",
        "      .format(100 * results[arquiteture]))"
      ],
      "execution_count": 86,
      "outputs": [
        {
          "output_type": "stream",
          "text": [
            "Test Precision: 3.37%\n"
          ],
          "name": "stdout"
        }
      ]
    },
    {
      "metadata": {
        "id": "I_6RPRqZ0ooK",
        "colab_type": "text"
      },
      "cell_type": "markdown",
      "source": [
        "### 10 tentativa Precision: 10.95%"
      ]
    },
    {
      "metadata": {
        "colab_type": "text",
        "id": "drBpwd1s7PE3"
      },
      "cell_type": "markdown",
      "source": [
        "Modelo adaptado do **Lucas Albertins**\n",
        "\n",
        "*   Função **adam** para compilação\n",
        "*   Adicionado mais 2 camadas convolutivas"
      ]
    },
    {
      "metadata": {
        "colab_type": "code",
        "id": "6LGTLObK0u-Y",
        "colab": {}
      },
      "cell_type": "code",
      "source": [
        "from keras.layers import Conv2D, MaxPooling2D, GlobalMaxPooling2D, BatchNormalization\n",
        "from keras.regularizers import l2\n",
        "\n",
        "model = Sequential()\n",
        "\n",
        "model.add(Conv2D(32, (3, 3), activation='relu', kernel_regularizer=l2(1e-4), \n",
        "                 input_shape=(None, None, 3)))\n",
        "model.add(BatchNormalization())\n",
        "model.add(Conv2D(32, (3, 3), activation='relu', kernel_regularizer=l2(1e-4)))\n",
        "model.add(BatchNormalization())\n",
        "model.add(MaxPooling2D((2, 2)))\n",
        "model.add(Dropout(0.25))\n",
        "\n",
        "model.add(Conv2D(64, (3, 3), activation='relu', kernel_regularizer=l2(1e-4)))\n",
        "model.add(BatchNormalization())\n",
        "model.add(Conv2D(64, (3, 3), activation='relu', kernel_regularizer=l2(1e-4)))\n",
        "model.add(BatchNormalization())\n",
        "model.add(MaxPooling2D((2, 2)))\n",
        "model.add(Dropout(0.25))\n",
        "\n",
        "model.add(Conv2D(96, (3, 3),activation='relu', kernel_regularizer=l2(1e-4)))\n",
        "model.add(BatchNormalization())\n",
        "model.add(Conv2D(96, (3, 3),activation='relu', kernel_regularizer=l2(1e-4)))\n",
        "model.add(BatchNormalization())\n",
        "model.add(MaxPooling2D((2, 2)))\n",
        "model.add(Dropout(0.25))\n",
        "\n",
        "model.add(Conv2D(128, (1,1), kernel_regularizer=l2(1e-4)))\n",
        "model.add(GlobalMaxPooling2D())\n",
        "\n",
        "model.add(Dense(256, activation='relu', kernel_regularizer=l2(1e-4)))\n",
        "model.add(Dropout(0.5))\n",
        "model.add(Dense(2, activation='sigmoid', kernel_regularizer=l2(1e-4)))"
      ],
      "execution_count": 0,
      "outputs": []
    },
    {
      "metadata": {
        "colab_type": "code",
        "id": "vB92aUkR0u-p",
        "colab": {}
      },
      "cell_type": "code",
      "source": [
        "model.compile(optimizer='adam', loss='binary_crossentropy', metrics=['accuracy'])"
      ],
      "execution_count": 0,
      "outputs": []
    },
    {
      "metadata": {
        "colab_type": "code",
        "id": "7CD_MICYkLAi",
        "colab": {}
      },
      "cell_type": "code",
      "source": [
        "arquiteture = 'architecture_10'"
      ],
      "execution_count": 0,
      "outputs": []
    },
    {
      "metadata": {
        "colab_type": "code",
        "id": "aGtfVb9qknXd",
        "colab": {}
      },
      "cell_type": "code",
      "source": [
        "checkpointer = ModelCheckpoint(filepath='drive/My Drive/Resultado/weights_' + arquiteture + '.hdf5', verbose=1, save_best_only=True)"
      ],
      "execution_count": 0,
      "outputs": []
    },
    {
      "metadata": {
        "colab_type": "code",
        "id": "mUqvoI5Y7bLp",
        "outputId": "25497c07-07da-4025-eb25-a8160cc75046",
        "colab": {
          "base_uri": "https://localhost:8080/",
          "height": 3710
        }
      },
      "cell_type": "code",
      "source": [
        "training = model.fit_generator(train_batches, steps_per_epoch=stepsPerEpoche, \n",
        "                   validation_data=validation_batches, validation_steps=validationSteps,\n",
        "                   epochs=50, verbose=2, callbacks=[checkpointer])"
      ],
      "execution_count": 91,
      "outputs": [
        {
          "output_type": "stream",
          "text": [
            "Epoch 1/50\n",
            " - 5s - loss: 0.9090 - acc: 0.6469 - val_loss: 0.4879 - val_acc: 0.7969\n",
            "\n",
            "Epoch 00001: val_loss improved from inf to 0.48790, saving model to drive/My Drive/Resultado/weights_architecture_10.hdf5\n",
            "Epoch 2/50\n",
            " - 1s - loss: 0.4742 - acc: 0.8250 - val_loss: 0.5206 - val_acc: 0.7656\n",
            "\n",
            "Epoch 00002: val_loss did not improve from 0.48790\n",
            "Epoch 3/50\n",
            " - 1s - loss: 0.2838 - acc: 0.9219 - val_loss: 0.4175 - val_acc: 0.8125\n",
            "\n",
            "Epoch 00003: val_loss improved from 0.48790 to 0.41754, saving model to drive/My Drive/Resultado/weights_architecture_10.hdf5\n",
            "Epoch 4/50\n",
            " - 1s - loss: 0.5616 - acc: 0.8438 - val_loss: 0.4731 - val_acc: 0.8438\n",
            "\n",
            "Epoch 00004: val_loss did not improve from 0.41754\n",
            "Epoch 5/50\n",
            " - 1s - loss: 0.5000 - acc: 0.8531 - val_loss: 0.7097 - val_acc: 0.7500\n",
            "\n",
            "Epoch 00005: val_loss did not improve from 0.41754\n",
            "Epoch 6/50\n",
            " - 1s - loss: 0.5071 - acc: 0.8250 - val_loss: 0.5962 - val_acc: 0.7969\n",
            "\n",
            "Epoch 00006: val_loss did not improve from 0.41754\n",
            "Epoch 7/50\n",
            " - 1s - loss: 0.3922 - acc: 0.8625 - val_loss: 0.8486 - val_acc: 0.6562\n",
            "\n",
            "Epoch 00007: val_loss did not improve from 0.41754\n",
            "Epoch 8/50\n",
            " - 1s - loss: 0.3086 - acc: 0.9031 - val_loss: 0.4677 - val_acc: 0.7969\n",
            "\n",
            "Epoch 00008: val_loss did not improve from 0.41754\n",
            "Epoch 9/50\n",
            " - 1s - loss: 0.4323 - acc: 0.8812 - val_loss: 0.5543 - val_acc: 0.8387\n",
            "\n",
            "Epoch 00009: val_loss did not improve from 0.41754\n",
            "Epoch 10/50\n",
            " - 1s - loss: 0.3328 - acc: 0.8863 - val_loss: 0.5903 - val_acc: 0.7969\n",
            "\n",
            "Epoch 00010: val_loss did not improve from 0.41754\n",
            "Epoch 11/50\n",
            " - 1s - loss: 0.2863 - acc: 0.9125 - val_loss: 0.4447 - val_acc: 0.7969\n",
            "\n",
            "Epoch 00011: val_loss did not improve from 0.41754\n",
            "Epoch 12/50\n",
            " - 1s - loss: 0.2936 - acc: 0.9062 - val_loss: 0.3153 - val_acc: 0.9531\n",
            "\n",
            "Epoch 00012: val_loss improved from 0.41754 to 0.31531, saving model to drive/My Drive/Resultado/weights_architecture_10.hdf5\n",
            "Epoch 13/50\n",
            " - 1s - loss: 0.2896 - acc: 0.9125 - val_loss: 0.2819 - val_acc: 0.8750\n",
            "\n",
            "Epoch 00013: val_loss improved from 0.31531 to 0.28194, saving model to drive/My Drive/Resultado/weights_architecture_10.hdf5\n",
            "Epoch 14/50\n",
            " - 1s - loss: 0.2077 - acc: 0.9469 - val_loss: 0.2904 - val_acc: 0.9062\n",
            "\n",
            "Epoch 00014: val_loss did not improve from 0.28194\n",
            "Epoch 15/50\n",
            " - 1s - loss: 0.2857 - acc: 0.9188 - val_loss: 0.1894 - val_acc: 0.9688\n",
            "\n",
            "Epoch 00015: val_loss improved from 0.28194 to 0.18943, saving model to drive/My Drive/Resultado/weights_architecture_10.hdf5\n",
            "Epoch 16/50\n",
            " - 1s - loss: 0.3168 - acc: 0.9094 - val_loss: 0.5200 - val_acc: 0.8438\n",
            "\n",
            "Epoch 00016: val_loss did not improve from 0.18943\n",
            "Epoch 17/50\n",
            " - 1s - loss: 0.2110 - acc: 0.9500 - val_loss: 0.4338 - val_acc: 0.8438\n",
            "\n",
            "Epoch 00017: val_loss did not improve from 0.18943\n",
            "Epoch 18/50\n",
            " - 1s - loss: 0.2763 - acc: 0.9219 - val_loss: 0.3645 - val_acc: 0.8438\n",
            "\n",
            "Epoch 00018: val_loss did not improve from 0.18943\n",
            "Epoch 19/50\n",
            " - 1s - loss: 0.2595 - acc: 0.9125 - val_loss: 0.4193 - val_acc: 0.8750\n",
            "\n",
            "Epoch 00019: val_loss did not improve from 0.18943\n",
            "Epoch 20/50\n",
            " - 1s - loss: 0.2697 - acc: 0.9062 - val_loss: 0.5970 - val_acc: 0.7812\n",
            "\n",
            "Epoch 00020: val_loss did not improve from 0.18943\n",
            "Epoch 21/50\n",
            " - 1s - loss: 0.2670 - acc: 0.9250 - val_loss: 0.3364 - val_acc: 0.8438\n",
            "\n",
            "Epoch 00021: val_loss did not improve from 0.18943\n",
            "Epoch 22/50\n",
            " - 1s - loss: 0.3081 - acc: 0.9125 - val_loss: 0.3876 - val_acc: 0.8438\n",
            "\n",
            "Epoch 00022: val_loss did not improve from 0.18943\n",
            "Epoch 23/50\n",
            " - 1s - loss: 0.3765 - acc: 0.8812 - val_loss: 0.4541 - val_acc: 0.7656\n",
            "\n",
            "Epoch 00023: val_loss did not improve from 0.18943\n",
            "Epoch 24/50\n",
            " - 1s - loss: 0.2817 - acc: 0.9188 - val_loss: 0.2611 - val_acc: 0.9062\n",
            "\n",
            "Epoch 00024: val_loss did not improve from 0.18943\n",
            "Epoch 25/50\n",
            " - 1s - loss: 0.2301 - acc: 0.9344 - val_loss: 1.0142 - val_acc: 0.6094\n",
            "\n",
            "Epoch 00025: val_loss did not improve from 0.18943\n",
            "Epoch 26/50\n",
            " - 1s - loss: 0.3616 - acc: 0.8594 - val_loss: 1.4780 - val_acc: 0.4844\n",
            "\n",
            "Epoch 00026: val_loss did not improve from 0.18943\n",
            "Epoch 27/50\n",
            " - 1s - loss: 0.2878 - acc: 0.8844 - val_loss: 1.0916 - val_acc: 0.4219\n",
            "\n",
            "Epoch 00027: val_loss did not improve from 0.18943\n",
            "Epoch 28/50\n",
            " - 1s - loss: 0.2767 - acc: 0.9094 - val_loss: 1.8564 - val_acc: 0.3750\n",
            "\n",
            "Epoch 00028: val_loss did not improve from 0.18943\n",
            "Epoch 29/50\n",
            " - 1s - loss: 0.2692 - acc: 0.9250 - val_loss: 0.7666 - val_acc: 0.8438\n",
            "\n",
            "Epoch 00029: val_loss did not improve from 0.18943\n",
            "Epoch 30/50\n",
            " - 1s - loss: 0.3456 - acc: 0.9125 - val_loss: 0.6899 - val_acc: 0.8438\n",
            "\n",
            "Epoch 00030: val_loss did not improve from 0.18943\n",
            "Epoch 31/50\n",
            " - 1s - loss: 0.2406 - acc: 0.9344 - val_loss: 0.7723 - val_acc: 0.7500\n",
            "\n",
            "Epoch 00031: val_loss did not improve from 0.18943\n",
            "Epoch 32/50\n",
            " - 1s - loss: 0.3361 - acc: 0.9031 - val_loss: 0.5304 - val_acc: 0.7812\n",
            "\n",
            "Epoch 00032: val_loss did not improve from 0.18943\n",
            "Epoch 33/50\n",
            " - 1s - loss: 0.2548 - acc: 0.9281 - val_loss: 0.5541 - val_acc: 0.7812\n",
            "\n",
            "Epoch 00033: val_loss did not improve from 0.18943\n",
            "Epoch 34/50\n",
            " - 1s - loss: 0.2513 - acc: 0.9219 - val_loss: 0.4462 - val_acc: 0.8438\n",
            "\n",
            "Epoch 00034: val_loss did not improve from 0.18943\n",
            "Epoch 35/50\n",
            " - 1s - loss: 0.2423 - acc: 0.9188 - val_loss: 0.4568 - val_acc: 0.8750\n",
            "\n",
            "Epoch 00035: val_loss did not improve from 0.18943\n",
            "Epoch 36/50\n",
            " - 1s - loss: 0.2848 - acc: 0.9250 - val_loss: 0.2937 - val_acc: 0.9062\n",
            "\n",
            "Epoch 00036: val_loss did not improve from 0.18943\n",
            "Epoch 37/50\n",
            " - 1s - loss: 0.4572 - acc: 0.8812 - val_loss: 0.3205 - val_acc: 0.8750\n",
            "\n",
            "Epoch 00037: val_loss did not improve from 0.18943\n",
            "Epoch 38/50\n",
            " - 1s - loss: 0.2942 - acc: 0.9173 - val_loss: 0.2080 - val_acc: 0.9688\n",
            "\n",
            "Epoch 00038: val_loss did not improve from 0.18943\n",
            "Epoch 39/50\n",
            " - 1s - loss: 0.3058 - acc: 0.9031 - val_loss: 0.2539 - val_acc: 0.9219\n",
            "\n",
            "Epoch 00039: val_loss did not improve from 0.18943\n",
            "Epoch 40/50\n",
            " - 1s - loss: 0.2044 - acc: 0.9562 - val_loss: 0.3126 - val_acc: 0.8710\n",
            "\n",
            "Epoch 00040: val_loss did not improve from 0.18943\n",
            "Epoch 41/50\n",
            " - 1s - loss: 0.1813 - acc: 0.9594 - val_loss: 0.2460 - val_acc: 0.9375\n",
            "\n",
            "Epoch 00041: val_loss did not improve from 0.18943\n",
            "Epoch 42/50\n",
            " - 1s - loss: 0.3153 - acc: 0.9125 - val_loss: 0.2615 - val_acc: 0.9062\n",
            "\n",
            "Epoch 00042: val_loss did not improve from 0.18943\n",
            "Epoch 43/50\n",
            " - 1s - loss: 0.3019 - acc: 0.9062 - val_loss: 0.5383 - val_acc: 0.7500\n",
            "\n",
            "Epoch 00043: val_loss did not improve from 0.18943\n",
            "Epoch 44/50\n",
            " - 1s - loss: 0.1820 - acc: 0.9500 - val_loss: 0.2923 - val_acc: 0.8906\n",
            "\n",
            "Epoch 00044: val_loss did not improve from 0.18943\n",
            "Epoch 45/50\n",
            " - 1s - loss: 0.2604 - acc: 0.9125 - val_loss: 0.2836 - val_acc: 0.9219\n",
            "\n",
            "Epoch 00045: val_loss did not improve from 0.18943\n",
            "Epoch 46/50\n",
            " - 1s - loss: 0.2099 - acc: 0.9469 - val_loss: 0.5010 - val_acc: 0.8750\n",
            "\n",
            "Epoch 00046: val_loss did not improve from 0.18943\n",
            "Epoch 47/50\n",
            " - 1s - loss: 0.1910 - acc: 0.9594 - val_loss: 0.3922 - val_acc: 0.8594\n",
            "\n",
            "Epoch 00047: val_loss did not improve from 0.18943\n",
            "Epoch 48/50\n",
            " - 1s - loss: 0.2561 - acc: 0.9281 - val_loss: 0.4356 - val_acc: 0.8750\n",
            "\n",
            "Epoch 00048: val_loss did not improve from 0.18943\n",
            "Epoch 49/50\n",
            " - 1s - loss: 0.2230 - acc: 0.9562 - val_loss: 0.2550 - val_acc: 0.9375\n",
            "\n",
            "Epoch 00049: val_loss did not improve from 0.18943\n",
            "Epoch 50/50\n",
            " - 1s - loss: 0.2240 - acc: 0.9281 - val_loss: 0.2654 - val_acc: 0.9062\n",
            "\n",
            "Epoch 00050: val_loss did not improve from 0.18943\n"
          ],
          "name": "stdout"
        }
      ]
    },
    {
      "metadata": {
        "colab_type": "code",
        "id": "4mLcVI5OkLAx",
        "outputId": "1c3a57df-4461-43b1-8f0a-bae36f03ec73",
        "colab": {
          "base_uri": "https://localhost:8080/",
          "height": 380
        }
      },
      "cell_type": "code",
      "source": [
        "# plotar loss e accuracy para os datasets 'train' e 'test'\n",
        "plt.style.use(\"ggplot\")\n",
        "plt.figure()\n",
        "plt.plot(training.history['acc'], label='Accuracy')\n",
        "plt.plot(training.history['loss'], label='Loss')\n",
        "plt.xlabel('Epochs')\n",
        "plt.ylabel('Accuracy')\n",
        "plt.title(\"Training Loss and Accuracy\")\n",
        "plt.ylabel(\"Loss/Accuracy\")\n",
        "plt.legend()\n",
        "plt.savefig('drive/My Drive/Resultado/' + arquiteture + '.png', bbox_inches='tight')"
      ],
      "execution_count": 92,
      "outputs": [
        {
          "output_type": "display_data",
          "data": {
            "image/png": "[encoded data removed]",
            "text/plain": [
              "<matplotlib.figure.Figure at 0x7f7324729a90>"
            ]
          },
          "metadata": {
            "tags": []
          }
        }
      ]
    },
    {
      "metadata": {
        "colab_type": "code",
        "id": "MXfjnNaekLA8",
        "outputId": "188e0dec-c42b-483c-9b09-9178d2e06a06",
        "colab": {
          "base_uri": "https://localhost:8080/",
          "height": 74
        }
      },
      "cell_type": "code",
      "source": [
        "y_true, y_predict = ler_images_teste(arquiteture)"
      ],
      "execution_count": 93,
      "outputs": [
        {
          "output_type": "stream",
          "text": [
            "/usr/local/lib/python3.6/dist-packages/skimage/transform/_warps.py:84: UserWarning: The default mode, 'constant', will be changed to 'reflect' in skimage 0.15.\n",
            "  warn(\"The default mode, 'constant', will be changed to 'reflect' in \"\n"
          ],
          "name": "stderr"
        }
      ]
    },
    {
      "metadata": {
        "colab_type": "code",
        "id": "mxweJBcKkLBA",
        "outputId": "22ee79b5-3c52-4a95-a0d3-1a3f20e3eb27",
        "colab": {
          "base_uri": "https://localhost:8080/",
          "height": 35
        }
      },
      "cell_type": "code",
      "source": [
        "results[arquiteture] = precision_score(y_true, y_predict, average='binary')\n",
        "print('Test Precision: {:.2f}%'\n",
        "      .format(100 * results[arquiteture]))"
      ],
      "execution_count": 94,
      "outputs": [
        {
          "output_type": "stream",
          "text": [
            "Test Precision: 10.95%\n"
          ],
          "name": "stdout"
        }
      ]
    },
    {
      "metadata": {
        "id": "t-JuICq46CWp",
        "colab_type": "text"
      },
      "cell_type": "markdown",
      "source": [
        "### 11 tentativa Precision: 0.00%"
      ]
    },
    {
      "metadata": {
        "colab_type": "text",
        "id": "MdaiMXVY8RWc"
      },
      "cell_type": "markdown",
      "source": [
        "Modelo adaptado do **Lucas Albertins**\n",
        "\n",
        "*   Função **SGD** para compilação\n",
        "*   Adicionado mais 2 camadas convolutivas"
      ]
    },
    {
      "metadata": {
        "colab_type": "code",
        "id": "vLy1nlhs6HHL",
        "colab": {}
      },
      "cell_type": "code",
      "source": [
        "from keras.layers import Conv2D, MaxPooling2D, GlobalMaxPooling2D, BatchNormalization\n",
        "from keras.regularizers import l2\n",
        "\n",
        "model = Sequential()\n",
        "\n",
        "model.add(Conv2D(32, (3, 3), activation='relu', kernel_regularizer=l2(1e-4), \n",
        "                 input_shape=(None, None, 3)))\n",
        "model.add(BatchNormalization())\n",
        "model.add(Conv2D(32, (3, 3), activation='relu', kernel_regularizer=l2(1e-4)))\n",
        "model.add(BatchNormalization())\n",
        "model.add(MaxPooling2D((2, 2)))\n",
        "model.add(Dropout(0.25))\n",
        "\n",
        "model.add(Conv2D(64, (3, 3), activation='relu', kernel_regularizer=l2(1e-4)))\n",
        "model.add(BatchNormalization())\n",
        "model.add(Conv2D(64, (3, 3), activation='relu', kernel_regularizer=l2(1e-4)))\n",
        "model.add(BatchNormalization())\n",
        "model.add(MaxPooling2D((2, 2)))\n",
        "model.add(Dropout(0.25))\n",
        "\n",
        "model.add(Conv2D(96, (3, 3),activation='relu', kernel_regularizer=l2(1e-4)))\n",
        "model.add(BatchNormalization())\n",
        "model.add(Conv2D(96, (3, 3),activation='relu', kernel_regularizer=l2(1e-4)))\n",
        "model.add(BatchNormalization())\n",
        "model.add(MaxPooling2D((2, 2)))\n",
        "model.add(Dropout(0.25))\n",
        "\n",
        "model.add(Conv2D(128, (1,1), kernel_regularizer=l2(1e-4)))\n",
        "model.add(GlobalMaxPooling2D())\n",
        "\n",
        "model.add(Dense(256, activation='relu', kernel_regularizer=l2(1e-4)))\n",
        "model.add(Dropout(0.5))\n",
        "model.add(Dense(2, activation='sigmoid', kernel_regularizer=l2(1e-4)))"
      ],
      "execution_count": 0,
      "outputs": []
    },
    {
      "metadata": {
        "colab_type": "code",
        "id": "QKpy_s8Z6HHZ",
        "colab": {}
      },
      "cell_type": "code",
      "source": [
        "model.compile(SGD(lr=0.01, momentum=0.0, decay=0.0, nesterov=False), \n",
        "              loss='binary_crossentropy', metrics=['accuracy'])"
      ],
      "execution_count": 0,
      "outputs": []
    },
    {
      "metadata": {
        "colab_type": "code",
        "id": "oGVeMLcZkPCr",
        "colab": {}
      },
      "cell_type": "code",
      "source": [
        "arquiteture = 'architecture_11'"
      ],
      "execution_count": 0,
      "outputs": []
    },
    {
      "metadata": {
        "colab_type": "code",
        "id": "rvsDdCnxkjhS",
        "colab": {}
      },
      "cell_type": "code",
      "source": [
        "checkpointer = ModelCheckpoint(filepath='drive/My Drive/Resultado/weights_' + arquiteture + '.hdf5', verbose=1, save_best_only=True)"
      ],
      "execution_count": 0,
      "outputs": []
    },
    {
      "metadata": {
        "colab_type": "code",
        "id": "KGy9-eyM7t1c",
        "outputId": "11b036fd-e8db-40b6-f0e8-a1dd15ab6eb2",
        "colab": {
          "base_uri": "https://localhost:8080/",
          "height": 3710
        }
      },
      "cell_type": "code",
      "source": [
        "training = model.fit_generator(train_batches, steps_per_epoch=stepsPerEpoche, \n",
        "                   validation_data=validation_batches, validation_steps=validationSteps,\n",
        "                   epochs=50, verbose=2, callbacks=[checkpointer])"
      ],
      "execution_count": 99,
      "outputs": [
        {
          "output_type": "stream",
          "text": [
            "Epoch 1/50\n",
            " - 5s - loss: 1.3846 - acc: 0.5531 - val_loss: 0.9178 - val_acc: 0.3594\n",
            "\n",
            "Epoch 00001: val_loss improved from inf to 0.91780, saving model to drive/My Drive/Resultado/weights_architecture_11.hdf5\n",
            "Epoch 2/50\n",
            " - 1s - loss: 0.8960 - acc: 0.6781 - val_loss: 0.7459 - val_acc: 0.7344\n",
            "\n",
            "Epoch 00002: val_loss improved from 0.91780 to 0.74590, saving model to drive/My Drive/Resultado/weights_architecture_11.hdf5\n",
            "Epoch 3/50\n",
            " - 1s - loss: 0.8150 - acc: 0.7406 - val_loss: 0.6554 - val_acc: 0.7656\n",
            "\n",
            "Epoch 00003: val_loss improved from 0.74590 to 0.65542, saving model to drive/My Drive/Resultado/weights_architecture_11.hdf5\n",
            "Epoch 4/50\n",
            " - 1s - loss: 0.5528 - acc: 0.8406 - val_loss: 0.6185 - val_acc: 0.7656\n",
            "\n",
            "Epoch 00004: val_loss improved from 0.65542 to 0.61846, saving model to drive/My Drive/Resultado/weights_architecture_11.hdf5\n",
            "Epoch 5/50\n",
            " - 1s - loss: 0.4620 - acc: 0.8406 - val_loss: 0.5250 - val_acc: 0.7812\n",
            "\n",
            "Epoch 00005: val_loss improved from 0.61846 to 0.52498, saving model to drive/My Drive/Resultado/weights_architecture_11.hdf5\n",
            "Epoch 6/50\n",
            " - 1s - loss: 0.4758 - acc: 0.8438 - val_loss: 0.5346 - val_acc: 0.7969\n",
            "\n",
            "Epoch 00006: val_loss did not improve from 0.52498\n",
            "Epoch 7/50\n",
            " - 1s - loss: 0.4670 - acc: 0.8812 - val_loss: 0.5508 - val_acc: 0.7969\n",
            "\n",
            "Epoch 00007: val_loss did not improve from 0.52498\n",
            "Epoch 8/50\n",
            " - 1s - loss: 0.3654 - acc: 0.8969 - val_loss: 0.4163 - val_acc: 0.9219\n",
            "\n",
            "Epoch 00008: val_loss improved from 0.52498 to 0.41626, saving model to drive/My Drive/Resultado/weights_architecture_11.hdf5\n",
            "Epoch 9/50\n",
            " - 1s - loss: 0.4753 - acc: 0.8500 - val_loss: 0.2822 - val_acc: 0.9375\n",
            "\n",
            "Epoch 00009: val_loss improved from 0.41626 to 0.28217, saving model to drive/My Drive/Resultado/weights_architecture_11.hdf5\n",
            "Epoch 10/50\n",
            " - 1s - loss: 0.3793 - acc: 0.9062 - val_loss: 0.4477 - val_acc: 0.8387\n",
            "\n",
            "Epoch 00010: val_loss did not improve from 0.28217\n",
            "Epoch 11/50\n",
            " - 1s - loss: 0.4213 - acc: 0.8781 - val_loss: 0.3298 - val_acc: 0.9531\n",
            "\n",
            "Epoch 00011: val_loss did not improve from 0.28217\n",
            "Epoch 12/50\n",
            " - 1s - loss: 0.5274 - acc: 0.8000 - val_loss: 0.7342 - val_acc: 0.5938\n",
            "\n",
            "Epoch 00012: val_loss did not improve from 0.28217\n",
            "Epoch 13/50\n",
            " - 1s - loss: 0.3822 - acc: 0.8750 - val_loss: 1.2549 - val_acc: 0.4844\n",
            "\n",
            "Epoch 00013: val_loss did not improve from 0.28217\n",
            "Epoch 14/50\n",
            " - 1s - loss: 0.3106 - acc: 0.8875 - val_loss: 1.1286 - val_acc: 0.4844\n",
            "\n",
            "Epoch 00014: val_loss did not improve from 0.28217\n",
            "Epoch 15/50\n",
            " - 1s - loss: 0.3013 - acc: 0.9232 - val_loss: 1.0904 - val_acc: 0.4844\n",
            "\n",
            "Epoch 00015: val_loss did not improve from 0.28217\n",
            "Epoch 16/50\n",
            " - 1s - loss: 0.3183 - acc: 0.8875 - val_loss: 0.4050 - val_acc: 0.8125\n",
            "\n",
            "Epoch 00016: val_loss did not improve from 0.28217\n",
            "Epoch 17/50\n",
            " - 1s - loss: 0.3707 - acc: 0.8594 - val_loss: 0.8170 - val_acc: 0.6406\n",
            "\n",
            "Epoch 00017: val_loss did not improve from 0.28217\n",
            "Epoch 18/50\n",
            " - 1s - loss: 0.3860 - acc: 0.8812 - val_loss: 0.6930 - val_acc: 0.7031\n",
            "\n",
            "Epoch 00018: val_loss did not improve from 0.28217\n",
            "Epoch 19/50\n",
            " - 1s - loss: 0.3491 - acc: 0.8969 - val_loss: 1.1003 - val_acc: 0.5781\n",
            "\n",
            "Epoch 00019: val_loss did not improve from 0.28217\n",
            "Epoch 20/50\n",
            " - 1s - loss: 0.4039 - acc: 0.8688 - val_loss: 0.6867 - val_acc: 0.6406\n",
            "\n",
            "Epoch 00020: val_loss did not improve from 0.28217\n",
            "Epoch 21/50\n",
            " - 1s - loss: 0.3414 - acc: 0.9031 - val_loss: 0.6431 - val_acc: 0.6719\n",
            "\n",
            "Epoch 00021: val_loss did not improve from 0.28217\n",
            "Epoch 22/50\n",
            " - 1s - loss: 0.3472 - acc: 0.8844 - val_loss: 0.4367 - val_acc: 0.8125\n",
            "\n",
            "Epoch 00022: val_loss did not improve from 0.28217\n",
            "Epoch 23/50\n",
            " - 1s - loss: 0.3133 - acc: 0.9094 - val_loss: 0.8189 - val_acc: 0.5938\n",
            "\n",
            "Epoch 00023: val_loss did not improve from 0.28217\n",
            "Epoch 24/50\n",
            " - 1s - loss: 0.2705 - acc: 0.9188 - val_loss: 0.9230 - val_acc: 0.5000\n",
            "\n",
            "Epoch 00024: val_loss did not improve from 0.28217\n",
            "Epoch 25/50\n",
            " - 1s - loss: 0.2719 - acc: 0.9125 - val_loss: 0.9223 - val_acc: 0.5000\n",
            "\n",
            "Epoch 00025: val_loss did not improve from 0.28217\n",
            "Epoch 26/50\n",
            " - 1s - loss: 0.3736 - acc: 0.8656 - val_loss: 0.7750 - val_acc: 0.6094\n",
            "\n",
            "Epoch 00026: val_loss did not improve from 0.28217\n",
            "Epoch 27/50\n",
            " - 1s - loss: 0.3024 - acc: 0.9031 - val_loss: 1.0484 - val_acc: 0.5156\n",
            "\n",
            "Epoch 00027: val_loss did not improve from 0.28217\n",
            "Epoch 28/50\n",
            " - 1s - loss: 0.3170 - acc: 0.9125 - val_loss: 1.2684 - val_acc: 0.5000\n",
            "\n",
            "Epoch 00028: val_loss did not improve from 0.28217\n",
            "Epoch 29/50\n",
            " - 1s - loss: 0.2610 - acc: 0.9250 - val_loss: 1.4044 - val_acc: 0.5000\n",
            "\n",
            "Epoch 00029: val_loss did not improve from 0.28217\n",
            "Epoch 30/50\n",
            " - 1s - loss: 0.3903 - acc: 0.8688 - val_loss: 1.0201 - val_acc: 0.5000\n",
            "\n",
            "Epoch 00030: val_loss did not improve from 0.28217\n",
            "Epoch 31/50\n",
            " - 1s - loss: 0.3763 - acc: 0.8625 - val_loss: 0.9383 - val_acc: 0.4844\n",
            "\n",
            "Epoch 00031: val_loss did not improve from 0.28217\n",
            "Epoch 32/50\n",
            " - 1s - loss: 0.2784 - acc: 0.9250 - val_loss: 0.6727 - val_acc: 0.6250\n",
            "\n",
            "Epoch 00032: val_loss did not improve from 0.28217\n",
            "Epoch 33/50\n",
            " - 1s - loss: 0.2927 - acc: 0.9188 - val_loss: 0.8077 - val_acc: 0.5938\n",
            "\n",
            "Epoch 00033: val_loss did not improve from 0.28217\n",
            "Epoch 34/50\n",
            " - 1s - loss: 0.2523 - acc: 0.9500 - val_loss: 1.0359 - val_acc: 0.4375\n",
            "\n",
            "Epoch 00034: val_loss did not improve from 0.28217\n",
            "Epoch 35/50\n",
            " - 1s - loss: 0.2767 - acc: 0.9188 - val_loss: 1.1707 - val_acc: 0.4062\n",
            "\n",
            "Epoch 00035: val_loss did not improve from 0.28217\n",
            "Epoch 36/50\n",
            " - 1s - loss: 0.3199 - acc: 0.9031 - val_loss: 0.9724 - val_acc: 0.5625\n",
            "\n",
            "Epoch 00036: val_loss did not improve from 0.28217\n",
            "Epoch 37/50\n",
            " - 1s - loss: 0.1711 - acc: 0.9625 - val_loss: 1.2293 - val_acc: 0.4688\n",
            "\n",
            "Epoch 00037: val_loss did not improve from 0.28217\n",
            "Epoch 38/50\n",
            " - 1s - loss: 0.3492 - acc: 0.8937 - val_loss: 0.7142 - val_acc: 0.6875\n",
            "\n",
            "Epoch 00038: val_loss did not improve from 0.28217\n",
            "Epoch 39/50\n",
            " - 1s - loss: 0.2739 - acc: 0.9281 - val_loss: 1.1140 - val_acc: 0.5312\n",
            "\n",
            "Epoch 00039: val_loss did not improve from 0.28217\n",
            "Epoch 40/50\n",
            " - 1s - loss: 0.3317 - acc: 0.8844 - val_loss: 0.9968 - val_acc: 0.5000\n",
            "\n",
            "Epoch 00040: val_loss did not improve from 0.28217\n",
            "Epoch 41/50\n",
            " - 1s - loss: 0.2783 - acc: 0.9000 - val_loss: 0.9242 - val_acc: 0.5968\n",
            "\n",
            "Epoch 00041: val_loss did not improve from 0.28217\n",
            "Epoch 42/50\n",
            " - 1s - loss: 0.2071 - acc: 0.9332 - val_loss: 0.9040 - val_acc: 0.6250\n",
            "\n",
            "Epoch 00042: val_loss did not improve from 0.28217\n",
            "Epoch 43/50\n",
            " - 1s - loss: 0.2385 - acc: 0.9250 - val_loss: 1.3024 - val_acc: 0.5312\n",
            "\n",
            "Epoch 00043: val_loss did not improve from 0.28217\n",
            "Epoch 44/50\n",
            " - 1s - loss: 0.3231 - acc: 0.9031 - val_loss: 0.9128 - val_acc: 0.6406\n",
            "\n",
            "Epoch 00044: val_loss did not improve from 0.28217\n",
            "Epoch 45/50\n",
            " - 1s - loss: 0.3603 - acc: 0.8844 - val_loss: 0.7792 - val_acc: 0.6094\n",
            "\n",
            "Epoch 00045: val_loss did not improve from 0.28217\n",
            "Epoch 46/50\n",
            " - 1s - loss: 0.2788 - acc: 0.9156 - val_loss: 0.9566 - val_acc: 0.5156\n",
            "\n",
            "Epoch 00046: val_loss did not improve from 0.28217\n",
            "Epoch 47/50\n",
            " - 1s - loss: 0.2442 - acc: 0.9219 - val_loss: 1.0975 - val_acc: 0.5625\n",
            "\n",
            "Epoch 00047: val_loss did not improve from 0.28217\n",
            "Epoch 48/50\n",
            " - 1s - loss: 0.2002 - acc: 0.9562 - val_loss: 0.7105 - val_acc: 0.7500\n",
            "\n",
            "Epoch 00048: val_loss did not improve from 0.28217\n",
            "Epoch 49/50\n",
            " - 1s - loss: 0.2064 - acc: 0.9406 - val_loss: 0.8395 - val_acc: 0.7188\n",
            "\n",
            "Epoch 00049: val_loss did not improve from 0.28217\n",
            "Epoch 50/50\n",
            " - 1s - loss: 0.3235 - acc: 0.8969 - val_loss: 0.9710 - val_acc: 0.5938\n",
            "\n",
            "Epoch 00050: val_loss did not improve from 0.28217\n"
          ],
          "name": "stdout"
        }
      ]
    },
    {
      "metadata": {
        "colab_type": "code",
        "id": "n6AWbI6ikPC5",
        "outputId": "51ca0c6f-979f-490d-e87c-858081b99cc2",
        "colab": {
          "base_uri": "https://localhost:8080/",
          "height": 380
        }
      },
      "cell_type": "code",
      "source": [
        "# plotar loss e accuracy para os datasets 'train' e 'test'\n",
        "plt.style.use(\"ggplot\")\n",
        "plt.figure()\n",
        "plt.plot(training.history['acc'], label='Accuracy')\n",
        "plt.plot(training.history['loss'], label='Loss')\n",
        "plt.xlabel('Epochs')\n",
        "plt.ylabel('Accuracy')\n",
        "plt.title(\"Training Loss and Accuracy\")\n",
        "plt.ylabel(\"Loss/Accuracy\")\n",
        "plt.legend()\n",
        "plt.savefig('drive/My Drive/Resultado/' + arquiteture + '.png', bbox_inches='tight')"
      ],
      "execution_count": 100,
      "outputs": [
        {
          "output_type": "display_data",
          "data": {
            "image/png": "[encoded data removed]",
            "text/plain": [
              "<matplotlib.figure.Figure at 0x7f7323e26978>"
            ]
          },
          "metadata": {
            "tags": []
          }
        }
      ]
    },
    {
      "metadata": {
        "colab_type": "code",
        "id": "SspLcUTBkPDF",
        "outputId": "aad317bc-dcf3-4745-a4d0-b8bdfcfa6400",
        "colab": {
          "base_uri": "https://localhost:8080/",
          "height": 74
        }
      },
      "cell_type": "code",
      "source": [
        "y_true, y_predict = ler_images_teste(arquiteture)"
      ],
      "execution_count": 101,
      "outputs": [
        {
          "output_type": "stream",
          "text": [
            "/usr/local/lib/python3.6/dist-packages/skimage/transform/_warps.py:84: UserWarning: The default mode, 'constant', will be changed to 'reflect' in skimage 0.15.\n",
            "  warn(\"The default mode, 'constant', will be changed to 'reflect' in \"\n"
          ],
          "name": "stderr"
        }
      ]
    },
    {
      "metadata": {
        "colab_type": "code",
        "id": "ppoXzpt-kPDO",
        "outputId": "240686e1-352e-4b40-bbe6-a4aef255a73c",
        "colab": {
          "base_uri": "https://localhost:8080/",
          "height": 35
        }
      },
      "cell_type": "code",
      "source": [
        "results[arquiteture] = precision_score(y_true, y_predict, average='binary')\n",
        "print('Test Precision: {:.2f}%'\n",
        "      .format(100 * results[arquiteture]))"
      ],
      "execution_count": 102,
      "outputs": [
        {
          "output_type": "stream",
          "text": [
            "Test Precision: 0.00%\n"
          ],
          "name": "stdout"
        }
      ]
    },
    {
      "metadata": {
        "id": "26BCkdp9MAna",
        "colab_type": "text"
      },
      "cell_type": "markdown",
      "source": [
        "### 12 tentativa Precision: 1.24%"
      ]
    },
    {
      "metadata": {
        "colab_type": "text",
        "id": "MLvKG40a84F9"
      },
      "cell_type": "markdown",
      "source": [
        "Modelo adaptado do **Lucas Albertins**\n",
        "\n",
        "*   Sem utilização das funções de regularização\n",
        "*   Função **SGD** para compilação\n",
        "*   Adicionado mais 2 camadas convolutivas"
      ]
    },
    {
      "metadata": {
        "colab_type": "code",
        "id": "9LrDSy5AMFDO",
        "colab": {}
      },
      "cell_type": "code",
      "source": [
        "from keras.layers import Conv2D, MaxPooling2D, GlobalMaxPooling2D, BatchNormalization\n",
        "from keras.regularizers import l2\n",
        "\n",
        "model = Sequential()\n",
        "\n",
        "model.add(Conv2D(32, (3, 3), activation='relu',input_shape=(None, None, 3)))\n",
        "model.add(BatchNormalization())\n",
        "model.add(Conv2D(32, (3, 3), activation='relu'))\n",
        "model.add(BatchNormalization())\n",
        "model.add(MaxPooling2D((2, 2)))\n",
        "model.add(Dropout(0.25))\n",
        "\n",
        "model.add(Conv2D(64, (3, 3), activation='relu'))\n",
        "model.add(BatchNormalization())\n",
        "model.add(Conv2D(64, (3, 3), activation='relu'))\n",
        "model.add(BatchNormalization())\n",
        "model.add(MaxPooling2D((2, 2)))\n",
        "model.add(Dropout(0.25))\n",
        "\n",
        "model.add(Conv2D(96, (3, 3),activation='relu'))\n",
        "model.add(BatchNormalization())\n",
        "model.add(Conv2D(96, (3, 3),activation='relu'))\n",
        "model.add(BatchNormalization())\n",
        "model.add(MaxPooling2D((2, 2)))\n",
        "model.add(Dropout(0.25))\n",
        "\n",
        "model.add(Conv2D(128, (1,1)))\n",
        "model.add(GlobalMaxPooling2D())\n",
        "\n",
        "model.add(Dense(256, activation='relu'))\n",
        "model.add(Dropout(0.5))\n",
        "model.add(Dense(2, activation='sigmoid'))"
      ],
      "execution_count": 0,
      "outputs": []
    },
    {
      "metadata": {
        "colab_type": "code",
        "id": "EUZ-2eyUMSxQ",
        "colab": {}
      },
      "cell_type": "code",
      "source": [
        "model.compile(SGD(lr=0.01, momentum=0.0, decay=0.0, nesterov=False), \n",
        "              loss='binary_crossentropy', metrics=['accuracy'])"
      ],
      "execution_count": 0,
      "outputs": []
    },
    {
      "metadata": {
        "colab_type": "code",
        "id": "-_TE6KwakRoT",
        "colab": {}
      },
      "cell_type": "code",
      "source": [
        "arquiteture = 'architecture_12'"
      ],
      "execution_count": 0,
      "outputs": []
    },
    {
      "metadata": {
        "colab_type": "code",
        "id": "t9LJH3RP9H7J",
        "colab": {}
      },
      "cell_type": "code",
      "source": [
        "checkpointer = ModelCheckpoint(filepath='drive/My Drive/Resultado/weights_' + arquiteture + '.hdf5', verbose=1, save_best_only=True)"
      ],
      "execution_count": 0,
      "outputs": []
    },
    {
      "metadata": {
        "colab_type": "code",
        "id": "nnQVNSzq9H7S",
        "outputId": "024eaa0b-0d79-42e9-eeea-c5d191d59202",
        "colab": {
          "base_uri": "https://localhost:8080/",
          "height": 3710
        }
      },
      "cell_type": "code",
      "source": [
        "training = model.fit_generator(train_batches, steps_per_epoch=stepsPerEpoche, \n",
        "                   validation_data=validation_batches, validation_steps=validationSteps,\n",
        "                   epochs=50, verbose=2, callbacks=[checkpointer])"
      ],
      "execution_count": 107,
      "outputs": [
        {
          "output_type": "stream",
          "text": [
            "Epoch 1/50\n",
            " - 5s - loss: 1.1525 - acc: 0.5625 - val_loss: 0.6676 - val_acc: 0.6562\n",
            "\n",
            "Epoch 00001: val_loss improved from inf to 0.66763, saving model to drive/My Drive/Resultado/weights_architecture_12.hdf5\n",
            "Epoch 2/50\n",
            " - 1s - loss: 0.7208 - acc: 0.7062 - val_loss: 0.5182 - val_acc: 0.7812\n",
            "\n",
            "Epoch 00002: val_loss improved from 0.66763 to 0.51817, saving model to drive/My Drive/Resultado/weights_architecture_12.hdf5\n",
            "Epoch 3/50\n",
            " - 1s - loss: 0.5096 - acc: 0.7562 - val_loss: 0.6822 - val_acc: 0.7031\n",
            "\n",
            "Epoch 00003: val_loss did not improve from 0.51817\n",
            "Epoch 4/50\n",
            " - 1s - loss: 0.4759 - acc: 0.8281 - val_loss: 0.4975 - val_acc: 0.7969\n",
            "\n",
            "Epoch 00004: val_loss improved from 0.51817 to 0.49751, saving model to drive/My Drive/Resultado/weights_architecture_12.hdf5\n",
            "Epoch 5/50\n",
            " - 1s - loss: 0.4077 - acc: 0.8469 - val_loss: 0.5922 - val_acc: 0.7031\n",
            "\n",
            "Epoch 00005: val_loss did not improve from 0.49751\n",
            "Epoch 6/50\n",
            " - 1s - loss: 0.3078 - acc: 0.8688 - val_loss: 0.4497 - val_acc: 0.8125\n",
            "\n",
            "Epoch 00006: val_loss improved from 0.49751 to 0.44969, saving model to drive/My Drive/Resultado/weights_architecture_12.hdf5\n",
            "Epoch 7/50\n",
            " - 1s - loss: 0.3573 - acc: 0.8656 - val_loss: 0.3750 - val_acc: 0.8594\n",
            "\n",
            "Epoch 00007: val_loss improved from 0.44969 to 0.37500, saving model to drive/My Drive/Resultado/weights_architecture_12.hdf5\n",
            "Epoch 8/50\n",
            " - 1s - loss: 0.2830 - acc: 0.8906 - val_loss: 0.4728 - val_acc: 0.8125\n",
            "\n",
            "Epoch 00008: val_loss did not improve from 0.37500\n",
            "Epoch 9/50\n",
            " - 1s - loss: 0.2101 - acc: 0.9375 - val_loss: 0.3116 - val_acc: 0.9219\n",
            "\n",
            "Epoch 00009: val_loss improved from 0.37500 to 0.31162, saving model to drive/My Drive/Resultado/weights_architecture_12.hdf5\n",
            "Epoch 10/50\n",
            " - 1s - loss: 0.2553 - acc: 0.9031 - val_loss: 0.5885 - val_acc: 0.7656\n",
            "\n",
            "Epoch 00010: val_loss did not improve from 0.31162\n",
            "Epoch 11/50\n",
            " - 1s - loss: 0.3800 - acc: 0.8500 - val_loss: 0.2487 - val_acc: 0.9677\n",
            "\n",
            "Epoch 00011: val_loss improved from 0.31162 to 0.24874, saving model to drive/My Drive/Resultado/weights_architecture_12.hdf5\n",
            "Epoch 12/50\n",
            " - 1s - loss: 0.3324 - acc: 0.8750 - val_loss: 0.6745 - val_acc: 0.6719\n",
            "\n",
            "Epoch 00012: val_loss did not improve from 0.24874\n",
            "Epoch 13/50\n",
            " - 1s - loss: 0.3257 - acc: 0.8594 - val_loss: 0.6257 - val_acc: 0.6250\n",
            "\n",
            "Epoch 00013: val_loss did not improve from 0.24874\n",
            "Epoch 14/50\n",
            " - 1s - loss: 0.3168 - acc: 0.8844 - val_loss: 0.2667 - val_acc: 0.9062\n",
            "\n",
            "Epoch 00014: val_loss did not improve from 0.24874\n",
            "Epoch 15/50\n",
            " - 1s - loss: 0.2569 - acc: 0.9031 - val_loss: 0.4220 - val_acc: 0.7656\n",
            "\n",
            "Epoch 00015: val_loss did not improve from 0.24874\n",
            "Epoch 16/50\n",
            " - 1s - loss: 0.2712 - acc: 0.9000 - val_loss: 0.6333 - val_acc: 0.6875\n",
            "\n",
            "Epoch 00016: val_loss did not improve from 0.24874\n",
            "Epoch 17/50\n",
            " - 1s - loss: 0.3012 - acc: 0.8906 - val_loss: 0.3486 - val_acc: 0.9219\n",
            "\n",
            "Epoch 00017: val_loss did not improve from 0.24874\n",
            "Epoch 18/50\n",
            " - 1s - loss: 0.3318 - acc: 0.8656 - val_loss: 0.3787 - val_acc: 0.8438\n",
            "\n",
            "Epoch 00018: val_loss did not improve from 0.24874\n",
            "Epoch 19/50\n",
            " - 1s - loss: 0.4968 - acc: 0.8175 - val_loss: 0.4754 - val_acc: 0.8125\n",
            "\n",
            "Epoch 00019: val_loss did not improve from 0.24874\n",
            "Epoch 20/50\n",
            " - 1s - loss: 0.2747 - acc: 0.9062 - val_loss: 0.2624 - val_acc: 0.9062\n",
            "\n",
            "Epoch 00020: val_loss did not improve from 0.24874\n",
            "Epoch 21/50\n",
            " - 1s - loss: 0.1918 - acc: 0.9281 - val_loss: 0.4314 - val_acc: 0.8594\n",
            "\n",
            "Epoch 00021: val_loss did not improve from 0.24874\n",
            "Epoch 22/50\n",
            " - 1s - loss: 0.2279 - acc: 0.9125 - val_loss: 0.3271 - val_acc: 0.9062\n",
            "\n",
            "Epoch 00022: val_loss did not improve from 0.24874\n",
            "Epoch 23/50\n",
            " - 1s - loss: 0.2961 - acc: 0.9000 - val_loss: 0.5630 - val_acc: 0.6875\n",
            "\n",
            "Epoch 00023: val_loss did not improve from 0.24874\n",
            "Epoch 24/50\n",
            " - 1s - loss: 0.2727 - acc: 0.9000 - val_loss: 0.3048 - val_acc: 0.9219\n",
            "\n",
            "Epoch 00024: val_loss did not improve from 0.24874\n",
            "Epoch 25/50\n",
            " - 1s - loss: 0.2649 - acc: 0.8906 - val_loss: 0.3536 - val_acc: 0.8750\n",
            "\n",
            "Epoch 00025: val_loss did not improve from 0.24874\n",
            "Epoch 26/50\n",
            " - 1s - loss: 0.2056 - acc: 0.9250 - val_loss: 0.3480 - val_acc: 0.8438\n",
            "\n",
            "Epoch 00026: val_loss did not improve from 0.24874\n",
            "Epoch 27/50\n",
            " - 1s - loss: 0.1565 - acc: 0.9313 - val_loss: 0.2376 - val_acc: 0.9219\n",
            "\n",
            "Epoch 00027: val_loss improved from 0.24874 to 0.23760, saving model to drive/My Drive/Resultado/weights_architecture_12.hdf5\n",
            "Epoch 28/50\n",
            " - 1s - loss: 0.1492 - acc: 0.9469 - val_loss: 0.6674 - val_acc: 0.6562\n",
            "\n",
            "Epoch 00028: val_loss did not improve from 0.23760\n",
            "Epoch 29/50\n",
            " - 1s - loss: 0.2140 - acc: 0.9000 - val_loss: 0.5807 - val_acc: 0.6719\n",
            "\n",
            "Epoch 00029: val_loss did not improve from 0.23760\n",
            "Epoch 30/50\n",
            " - 1s - loss: 0.2123 - acc: 0.9344 - val_loss: 0.4094 - val_acc: 0.7969\n",
            "\n",
            "Epoch 00030: val_loss did not improve from 0.23760\n",
            "Epoch 31/50\n",
            " - 1s - loss: 0.2161 - acc: 0.9062 - val_loss: 0.3841 - val_acc: 0.8438\n",
            "\n",
            "Epoch 00031: val_loss did not improve from 0.23760\n",
            "Epoch 32/50\n",
            " - 1s - loss: 0.2384 - acc: 0.9219 - val_loss: 0.5905 - val_acc: 0.6875\n",
            "\n",
            "Epoch 00032: val_loss did not improve from 0.23760\n",
            "Epoch 33/50\n",
            " - 1s - loss: 0.1333 - acc: 0.9437 - val_loss: 0.5182 - val_acc: 0.7344\n",
            "\n",
            "Epoch 00033: val_loss did not improve from 0.23760\n",
            "Epoch 34/50\n",
            " - 1s - loss: 0.2088 - acc: 0.9344 - val_loss: 0.4528 - val_acc: 0.7031\n",
            "\n",
            "Epoch 00034: val_loss did not improve from 0.23760\n",
            "Epoch 35/50\n",
            " - 1s - loss: 0.2539 - acc: 0.8969 - val_loss: 0.9753 - val_acc: 0.6250\n",
            "\n",
            "Epoch 00035: val_loss did not improve from 0.23760\n",
            "Epoch 36/50\n",
            " - 1s - loss: 0.1741 - acc: 0.9406 - val_loss: 0.3010 - val_acc: 0.9062\n",
            "\n",
            "Epoch 00036: val_loss did not improve from 0.23760\n",
            "Epoch 37/50\n",
            " - 1s - loss: 0.2254 - acc: 0.9062 - val_loss: 0.2451 - val_acc: 0.9531\n",
            "\n",
            "Epoch 00037: val_loss did not improve from 0.23760\n",
            "Epoch 38/50\n",
            " - 1s - loss: 0.2331 - acc: 0.9188 - val_loss: 0.8193 - val_acc: 0.6250\n",
            "\n",
            "Epoch 00038: val_loss did not improve from 0.23760\n",
            "Epoch 39/50\n",
            " - 1s - loss: 0.2158 - acc: 0.9250 - val_loss: 0.5010 - val_acc: 0.7188\n",
            "\n",
            "Epoch 00039: val_loss did not improve from 0.23760\n",
            "Epoch 40/50\n",
            " - 1s - loss: 0.2231 - acc: 0.9250 - val_loss: 0.4045 - val_acc: 0.7188\n",
            "\n",
            "Epoch 00040: val_loss did not improve from 0.23760\n",
            "Epoch 41/50\n",
            " - 1s - loss: 0.1706 - acc: 0.9406 - val_loss: 1.2323 - val_acc: 0.4844\n",
            "\n",
            "Epoch 00041: val_loss did not improve from 0.23760\n",
            "Epoch 42/50\n",
            " - 1s - loss: 0.1619 - acc: 0.9375 - val_loss: 0.7281 - val_acc: 0.6452\n",
            "\n",
            "Epoch 00042: val_loss did not improve from 0.23760\n",
            "Epoch 43/50\n",
            " - 1s - loss: 0.2335 - acc: 0.9156 - val_loss: 0.6118 - val_acc: 0.7656\n",
            "\n",
            "Epoch 00043: val_loss did not improve from 0.23760\n",
            "Epoch 44/50\n",
            " - 1s - loss: 0.1644 - acc: 0.9313 - val_loss: 0.5255 - val_acc: 0.7031\n",
            "\n",
            "Epoch 00044: val_loss did not improve from 0.23760\n",
            "Epoch 45/50\n",
            " - 1s - loss: 0.1153 - acc: 0.9625 - val_loss: 0.6244 - val_acc: 0.7031\n",
            "\n",
            "Epoch 00045: val_loss did not improve from 0.23760\n",
            "Epoch 46/50\n",
            " - 1s - loss: 0.1154 - acc: 0.9500 - val_loss: 0.7391 - val_acc: 0.6875\n",
            "\n",
            "Epoch 00046: val_loss did not improve from 0.23760\n",
            "Epoch 47/50\n",
            " - 1s - loss: 0.2744 - acc: 0.8954 - val_loss: 0.3603 - val_acc: 0.8438\n",
            "\n",
            "Epoch 00047: val_loss did not improve from 0.23760\n",
            "Epoch 48/50\n",
            " - 1s - loss: 0.1648 - acc: 0.9313 - val_loss: 0.4335 - val_acc: 0.8281\n",
            "\n",
            "Epoch 00048: val_loss did not improve from 0.23760\n",
            "Epoch 49/50\n",
            " - 1s - loss: 0.1774 - acc: 0.9313 - val_loss: 0.9464 - val_acc: 0.5312\n",
            "\n",
            "Epoch 00049: val_loss did not improve from 0.23760\n",
            "Epoch 50/50\n",
            " - 1s - loss: 0.2261 - acc: 0.9000 - val_loss: 1.0467 - val_acc: 0.6094\n",
            "\n",
            "Epoch 00050: val_loss did not improve from 0.23760\n"
          ],
          "name": "stdout"
        }
      ]
    },
    {
      "metadata": {
        "colab_type": "code",
        "id": "5Z2o5TCGkRoi",
        "outputId": "4d1b919b-493e-4f11-8ff8-2a88ca6acd9a",
        "colab": {
          "base_uri": "https://localhost:8080/",
          "height": 380
        }
      },
      "cell_type": "code",
      "source": [
        "# plotar loss e accuracy para os datasets 'train' e 'test'\n",
        "plt.style.use(\"ggplot\")\n",
        "plt.figure()\n",
        "plt.plot(training.history['acc'], label='Accuracy')\n",
        "plt.plot(training.history['loss'], label='Loss')\n",
        "plt.xlabel('Epochs')\n",
        "plt.ylabel('Accuracy')\n",
        "plt.title(\"Training Loss and Accuracy\")\n",
        "plt.ylabel(\"Loss/Accuracy\")\n",
        "plt.legend()\n",
        "plt.savefig('drive/My Drive/Resultado/' + arquiteture + '.png', bbox_inches='tight')"
      ],
      "execution_count": 108,
      "outputs": [
        {
          "output_type": "display_data",
          "data": {
            "image/png": "[encoded data removed]",
            "text/plain": [
              "<matplotlib.figure.Figure at 0x7f7324e9afd0>"
            ]
          },
          "metadata": {
            "tags": []
          }
        }
      ]
    },
    {
      "metadata": {
        "colab_type": "code",
        "id": "gNjIuvcfkRou",
        "outputId": "9d2209ef-45d1-42ca-f033-137834d46a6c",
        "colab": {
          "base_uri": "https://localhost:8080/",
          "height": 74
        }
      },
      "cell_type": "code",
      "source": [
        "y_true, y_predict = ler_images_teste(arquiteture)"
      ],
      "execution_count": 109,
      "outputs": [
        {
          "output_type": "stream",
          "text": [
            "/usr/local/lib/python3.6/dist-packages/skimage/transform/_warps.py:84: UserWarning: The default mode, 'constant', will be changed to 'reflect' in skimage 0.15.\n",
            "  warn(\"The default mode, 'constant', will be changed to 'reflect' in \"\n"
          ],
          "name": "stderr"
        }
      ]
    },
    {
      "metadata": {
        "colab_type": "code",
        "id": "GpyaeT1LkRo2",
        "outputId": "62f63f94-23f6-4650-f608-2ceb797dceaa",
        "colab": {
          "base_uri": "https://localhost:8080/",
          "height": 35
        }
      },
      "cell_type": "code",
      "source": [
        "results[arquiteture] = precision_score(y_true, y_predict, average='binary')\n",
        "print('Test Precision: {:.2f}%'\n",
        "      .format(100 * results[arquiteture]))"
      ],
      "execution_count": 110,
      "outputs": [
        {
          "output_type": "stream",
          "text": [
            "Test Precision: 1.24%\n"
          ],
          "name": "stdout"
        }
      ]
    },
    {
      "metadata": {
        "colab_type": "text",
        "id": "Un9HtbTIqkXS"
      },
      "cell_type": "markdown",
      "source": [
        "### 13 tentativa Precision: 4.30%"
      ]
    },
    {
      "metadata": {
        "colab_type": "text",
        "id": "HNDvvOwsqkXW"
      },
      "cell_type": "markdown",
      "source": [
        "Modelo adaptado do **Lucas Albertins**\n",
        "\n",
        "*   Utilizado outra função de normalização, diferente da utilizada por ele."
      ]
    },
    {
      "metadata": {
        "colab_type": "code",
        "id": "iTG2TFqBqkXa",
        "colab": {}
      },
      "cell_type": "code",
      "source": [
        "from keras.layers import Conv2D, MaxPooling2D, GlobalMaxPooling2D, BatchNormalization\n",
        "from keras.regularizers import l2\n",
        "\n",
        "model = Sequential()\n",
        "\n",
        "model.add(Conv2D(32, (3, 3), activation='relu',input_shape=(None, None, 3)))\n",
        "model.add(MaxPooling2D((2, 2)))\n",
        "model.add(BatchNormalization())\n",
        "model.add(Dropout(0.25))\n",
        "\n",
        "model.add(Conv2D(64, (5, 5), activation='relu'))\n",
        "model.add(MaxPooling2D((2, 2)))\n",
        "model.add(BatchNormalization())\n",
        "model.add(Dropout(0.25))\n",
        "\n",
        "model.add(Conv2D(128, (7, 7),activation='relu'))\n",
        "model.add(MaxPooling2D((2, 2)))\n",
        "model.add(BatchNormalization())\n",
        "model.add(Dropout(0.25))\n",
        "\n",
        "model.add(Conv2D(128, (1,1)))\n",
        "model.add(GlobalMaxPooling2D())\n",
        "\n",
        "model.add(Dense(256, activation='relu'))\n",
        "model.add(Dropout(0.5))\n",
        "model.add(Dense(2, activation='sigmoid'))"
      ],
      "execution_count": 0,
      "outputs": []
    },
    {
      "metadata": {
        "colab_type": "code",
        "id": "xbd43caBqkXj",
        "colab": {}
      },
      "cell_type": "code",
      "source": [
        "model.compile(optimizer='adam', loss='binary_crossentropy', metrics=['accuracy'])"
      ],
      "execution_count": 0,
      "outputs": []
    },
    {
      "metadata": {
        "colab_type": "code",
        "id": "_lp8G0SCqkXt",
        "colab": {}
      },
      "cell_type": "code",
      "source": [
        "arquiteture = 'architecture_13'"
      ],
      "execution_count": 0,
      "outputs": []
    },
    {
      "metadata": {
        "colab_type": "code",
        "id": "n4GGlT-uqkX1",
        "colab": {}
      },
      "cell_type": "code",
      "source": [
        "checkpointer = ModelCheckpoint(filepath='drive/My Drive/Resultado/weights_' + arquiteture + '.hdf5', verbose=1, save_best_only=True)"
      ],
      "execution_count": 0,
      "outputs": []
    },
    {
      "metadata": {
        "colab_type": "code",
        "id": "smcZvzFyqkX7",
        "colab": {
          "base_uri": "https://localhost:8080/",
          "height": 3710
        },
        "outputId": "d0d198ae-9c10-48b6-dac7-8a6f54b8bfac"
      },
      "cell_type": "code",
      "source": [
        "training = model.fit_generator(train_batches, steps_per_epoch=stepsPerEpoche, \n",
        "                   validation_data=validation_batches, validation_steps=validationSteps,\n",
        "                   epochs=50, verbose=2, callbacks=[checkpointer])"
      ],
      "execution_count": 115,
      "outputs": [
        {
          "output_type": "stream",
          "text": [
            "Epoch 1/50\n",
            " - 5s - loss: 0.5903 - acc: 0.7625 - val_loss: 1.0837 - val_acc: 0.6250\n",
            "\n",
            "Epoch 00001: val_loss improved from inf to 1.08373, saving model to drive/My Drive/Resultado/weights_architecture_13.hdf5\n",
            "Epoch 2/50\n",
            " - 0s - loss: 0.4334 - acc: 0.8594 - val_loss: 0.6367 - val_acc: 0.8125\n",
            "\n",
            "Epoch 00002: val_loss improved from 1.08373 to 0.63672, saving model to drive/My Drive/Resultado/weights_architecture_13.hdf5\n",
            "Epoch 3/50\n",
            " - 0s - loss: 0.5863 - acc: 0.8594 - val_loss: 0.4870 - val_acc: 0.7656\n",
            "\n",
            "Epoch 00003: val_loss improved from 0.63672 to 0.48700, saving model to drive/My Drive/Resultado/weights_architecture_13.hdf5\n",
            "Epoch 4/50\n",
            " - 0s - loss: 0.4010 - acc: 0.8563 - val_loss: 0.4656 - val_acc: 0.7812\n",
            "\n",
            "Epoch 00004: val_loss improved from 0.48700 to 0.46557, saving model to drive/My Drive/Resultado/weights_architecture_13.hdf5\n",
            "Epoch 5/50\n",
            " - 0s - loss: 0.4443 - acc: 0.8438 - val_loss: 0.2855 - val_acc: 0.8906\n",
            "\n",
            "Epoch 00005: val_loss improved from 0.46557 to 0.28555, saving model to drive/My Drive/Resultado/weights_architecture_13.hdf5\n",
            "Epoch 6/50\n",
            " - 1s - loss: 0.3208 - acc: 0.8969 - val_loss: 0.4364 - val_acc: 0.8125\n",
            "\n",
            "Epoch 00006: val_loss did not improve from 0.28555\n",
            "Epoch 7/50\n",
            " - 1s - loss: 0.1861 - acc: 0.9469 - val_loss: 0.1240 - val_acc: 0.9688\n",
            "\n",
            "Epoch 00007: val_loss improved from 0.28555 to 0.12395, saving model to drive/My Drive/Resultado/weights_architecture_13.hdf5\n",
            "Epoch 8/50\n",
            " - 1s - loss: 0.3491 - acc: 0.9094 - val_loss: 0.1773 - val_acc: 0.9375\n",
            "\n",
            "Epoch 00008: val_loss did not improve from 0.12395\n",
            "Epoch 9/50\n",
            " - 1s - loss: 0.2899 - acc: 0.9062 - val_loss: 0.2573 - val_acc: 0.8750\n",
            "\n",
            "Epoch 00009: val_loss did not improve from 0.12395\n",
            "Epoch 10/50\n",
            " - 1s - loss: 0.2172 - acc: 0.9219 - val_loss: 0.0733 - val_acc: 0.9531\n",
            "\n",
            "Epoch 00010: val_loss improved from 0.12395 to 0.07328, saving model to drive/My Drive/Resultado/weights_architecture_13.hdf5\n",
            "Epoch 11/50\n",
            " - 1s - loss: 0.4071 - acc: 0.8281 - val_loss: 0.2463 - val_acc: 0.9219\n",
            "\n",
            "Epoch 00011: val_loss did not improve from 0.07328\n",
            "Epoch 12/50\n",
            " - 1s - loss: 0.3048 - acc: 0.8750 - val_loss: 0.6265 - val_acc: 0.7097\n",
            "\n",
            "Epoch 00012: val_loss did not improve from 0.07328\n",
            "Epoch 13/50\n",
            " - 1s - loss: 0.4187 - acc: 0.8219 - val_loss: 0.9149 - val_acc: 0.5469\n",
            "\n",
            "Epoch 00013: val_loss did not improve from 0.07328\n",
            "Epoch 14/50\n",
            " - 1s - loss: 0.2481 - acc: 0.8969 - val_loss: 0.2036 - val_acc: 0.9375\n",
            "\n",
            "Epoch 00014: val_loss did not improve from 0.07328\n",
            "Epoch 15/50\n",
            " - 1s - loss: 0.2577 - acc: 0.9125 - val_loss: 0.5164 - val_acc: 0.8750\n",
            "\n",
            "Epoch 00015: val_loss did not improve from 0.07328\n",
            "Epoch 16/50\n",
            " - 1s - loss: 0.2084 - acc: 0.9219 - val_loss: 0.3613 - val_acc: 0.9375\n",
            "\n",
            "Epoch 00016: val_loss did not improve from 0.07328\n",
            "Epoch 17/50\n",
            " - 1s - loss: 0.1447 - acc: 0.9562 - val_loss: 0.6188 - val_acc: 0.7500\n",
            "\n",
            "Epoch 00017: val_loss did not improve from 0.07328\n",
            "Epoch 18/50\n",
            " - 1s - loss: 0.2887 - acc: 0.9031 - val_loss: 0.4242 - val_acc: 0.8594\n",
            "\n",
            "Epoch 00018: val_loss did not improve from 0.07328\n",
            "Epoch 19/50\n",
            " - 1s - loss: 0.2282 - acc: 0.9125 - val_loss: 0.3090 - val_acc: 0.8594\n",
            "\n",
            "Epoch 00019: val_loss did not improve from 0.07328\n",
            "Epoch 20/50\n",
            " - 1s - loss: 0.2280 - acc: 0.8969 - val_loss: 0.4092 - val_acc: 0.7812\n",
            "\n",
            "Epoch 00020: val_loss did not improve from 0.07328\n",
            "Epoch 21/50\n",
            " - 1s - loss: 0.2184 - acc: 0.9156 - val_loss: 0.4138 - val_acc: 0.8281\n",
            "\n",
            "Epoch 00021: val_loss did not improve from 0.07328\n",
            "Epoch 22/50\n",
            " - 1s - loss: 0.2537 - acc: 0.9031 - val_loss: 0.4632 - val_acc: 0.7656\n",
            "\n",
            "Epoch 00022: val_loss did not improve from 0.07328\n",
            "Epoch 23/50\n",
            " - 1s - loss: 0.2399 - acc: 0.9062 - val_loss: 0.4290 - val_acc: 0.8125\n",
            "\n",
            "Epoch 00023: val_loss did not improve from 0.07328\n",
            "Epoch 24/50\n",
            " - 1s - loss: 0.1978 - acc: 0.9064 - val_loss: 0.2468 - val_acc: 0.9062\n",
            "\n",
            "Epoch 00024: val_loss did not improve from 0.07328\n",
            "Epoch 25/50\n",
            " - 1s - loss: 0.1951 - acc: 0.9188 - val_loss: 0.1216 - val_acc: 0.9688\n",
            "\n",
            "Epoch 00025: val_loss did not improve from 0.07328\n",
            "Epoch 26/50\n",
            " - 1s - loss: 0.2525 - acc: 0.9156 - val_loss: 0.3271 - val_acc: 0.8125\n",
            "\n",
            "Epoch 00026: val_loss did not improve from 0.07328\n",
            "Epoch 27/50\n",
            " - 1s - loss: 0.1404 - acc: 0.9625 - val_loss: 0.6643 - val_acc: 0.7656\n",
            "\n",
            "Epoch 00027: val_loss did not improve from 0.07328\n",
            "Epoch 28/50\n",
            " - 1s - loss: 0.1590 - acc: 0.9406 - val_loss: 0.3244 - val_acc: 0.7812\n",
            "\n",
            "Epoch 00028: val_loss did not improve from 0.07328\n",
            "Epoch 29/50\n",
            " - 1s - loss: 0.1854 - acc: 0.9281 - val_loss: 0.6267 - val_acc: 0.6406\n",
            "\n",
            "Epoch 00029: val_loss did not improve from 0.07328\n",
            "Epoch 30/50\n",
            " - 1s - loss: 0.2056 - acc: 0.9344 - val_loss: 0.9476 - val_acc: 0.6406\n",
            "\n",
            "Epoch 00030: val_loss did not improve from 0.07328\n",
            "Epoch 31/50\n",
            " - 1s - loss: 0.1464 - acc: 0.9625 - val_loss: 1.3939 - val_acc: 0.4062\n",
            "\n",
            "Epoch 00031: val_loss did not improve from 0.07328\n",
            "Epoch 32/50\n",
            " - 1s - loss: 0.1312 - acc: 0.9531 - val_loss: 0.5360 - val_acc: 0.7031\n",
            "\n",
            "Epoch 00032: val_loss did not improve from 0.07328\n",
            "Epoch 33/50\n",
            " - 1s - loss: 0.2118 - acc: 0.9219 - val_loss: 0.6221 - val_acc: 0.7188\n",
            "\n",
            "Epoch 00033: val_loss did not improve from 0.07328\n",
            "Epoch 34/50\n",
            " - 1s - loss: 0.3209 - acc: 0.8812 - val_loss: 0.7395 - val_acc: 0.7188\n",
            "\n",
            "Epoch 00034: val_loss did not improve from 0.07328\n",
            "Epoch 35/50\n",
            " - 1s - loss: 0.2297 - acc: 0.9000 - val_loss: 0.7841 - val_acc: 0.5469\n",
            "\n",
            "Epoch 00035: val_loss did not improve from 0.07328\n",
            "Epoch 36/50\n",
            " - 1s - loss: 0.2807 - acc: 0.8844 - val_loss: 0.3072 - val_acc: 0.7969\n",
            "\n",
            "Epoch 00036: val_loss did not improve from 0.07328\n",
            "Epoch 37/50\n",
            " - 1s - loss: 0.1729 - acc: 0.9219 - val_loss: 0.5610 - val_acc: 0.7969\n",
            "\n",
            "Epoch 00037: val_loss did not improve from 0.07328\n",
            "Epoch 38/50\n",
            " - 1s - loss: 0.1757 - acc: 0.9281 - val_loss: 0.6033 - val_acc: 0.7188\n",
            "\n",
            "Epoch 00038: val_loss did not improve from 0.07328\n",
            "Epoch 39/50\n",
            " - 1s - loss: 0.2566 - acc: 0.8937 - val_loss: 0.2641 - val_acc: 0.8906\n",
            "\n",
            "Epoch 00039: val_loss did not improve from 0.07328\n",
            "Epoch 40/50\n",
            " - 1s - loss: 0.2907 - acc: 0.8781 - val_loss: 0.2548 - val_acc: 0.9062\n",
            "\n",
            "Epoch 00040: val_loss did not improve from 0.07328\n",
            "Epoch 41/50\n",
            " - 1s - loss: 0.2055 - acc: 0.9125 - val_loss: 0.1566 - val_acc: 0.9375\n",
            "\n",
            "Epoch 00041: val_loss did not improve from 0.07328\n",
            "Epoch 42/50\n",
            " - 1s - loss: 0.2224 - acc: 0.9094 - val_loss: 0.2658 - val_acc: 0.8906\n",
            "\n",
            "Epoch 00042: val_loss did not improve from 0.07328\n",
            "Epoch 43/50\n",
            " - 1s - loss: 0.1673 - acc: 0.9500 - val_loss: 0.3045 - val_acc: 0.8871\n",
            "\n",
            "Epoch 00043: val_loss did not improve from 0.07328\n",
            "Epoch 44/50\n",
            " - 1s - loss: 0.1384 - acc: 0.9500 - val_loss: 0.3750 - val_acc: 0.8438\n",
            "\n",
            "Epoch 00044: val_loss did not improve from 0.07328\n",
            "Epoch 45/50\n",
            " - 1s - loss: 0.1814 - acc: 0.9250 - val_loss: 0.3416 - val_acc: 0.8281\n",
            "\n",
            "Epoch 00045: val_loss did not improve from 0.07328\n",
            "Epoch 46/50\n",
            " - 1s - loss: 0.1875 - acc: 0.9094 - val_loss: 0.5699 - val_acc: 0.7031\n",
            "\n",
            "Epoch 00046: val_loss did not improve from 0.07328\n",
            "Epoch 47/50\n",
            " - 1s - loss: 0.1945 - acc: 0.9281 - val_loss: 0.3319 - val_acc: 0.8125\n",
            "\n",
            "Epoch 00047: val_loss did not improve from 0.07328\n",
            "Epoch 48/50\n",
            " - 1s - loss: 0.1077 - acc: 0.9531 - val_loss: 1.2412 - val_acc: 0.6719\n",
            "\n",
            "Epoch 00048: val_loss did not improve from 0.07328\n",
            "Epoch 49/50\n",
            " - 1s - loss: 0.1915 - acc: 0.9406 - val_loss: 0.5074 - val_acc: 0.7812\n",
            "\n",
            "Epoch 00049: val_loss did not improve from 0.07328\n",
            "Epoch 50/50\n",
            " - 1s - loss: 0.1513 - acc: 0.9375 - val_loss: 0.4333 - val_acc: 0.8906\n",
            "\n",
            "Epoch 00050: val_loss did not improve from 0.07328\n"
          ],
          "name": "stdout"
        }
      ]
    },
    {
      "metadata": {
        "colab_type": "code",
        "id": "3R7d3EckqkYB",
        "colab": {
          "base_uri": "https://localhost:8080/",
          "height": 380
        },
        "outputId": "684c0555-b7e7-4f52-f673-6bc866e1ba79"
      },
      "cell_type": "code",
      "source": [
        "# plotar loss e accuracy para os datasets 'train' e 'test'\n",
        "plt.style.use(\"ggplot\")\n",
        "plt.figure()\n",
        "plt.plot(training.history['acc'], label='Accuracy')\n",
        "plt.plot(training.history['loss'], label='Loss')\n",
        "plt.xlabel('Epochs')\n",
        "plt.ylabel('Accuracy')\n",
        "plt.title(\"Training Loss and Accuracy\")\n",
        "plt.ylabel(\"Loss/Accuracy\")\n",
        "plt.legend()\n",
        "plt.savefig('drive/My Drive/Resultado/' + arquiteture + '.png', bbox_inches='tight')"
      ],
      "execution_count": 116,
      "outputs": [
        {
          "output_type": "display_data",
          "data": {
            "image/png": "[encoded data removed]",
            "text/plain": [
              "<matplotlib.figure.Figure at 0x7f7324fb7eb8>"
            ]
          },
          "metadata": {
            "tags": []
          }
        }
      ]
    },
    {
      "metadata": {
        "colab_type": "code",
        "id": "7Z7zuKAgqkYH",
        "colab": {
          "base_uri": "https://localhost:8080/",
          "height": 74
        },
        "outputId": "cf67eed8-68b4-4aef-b5db-e8c60a01e387"
      },
      "cell_type": "code",
      "source": [
        "y_true, y_predict = ler_images_teste(arquiteture)"
      ],
      "execution_count": 117,
      "outputs": [
        {
          "output_type": "stream",
          "text": [
            "/usr/local/lib/python3.6/dist-packages/skimage/transform/_warps.py:84: UserWarning: The default mode, 'constant', will be changed to 'reflect' in skimage 0.15.\n",
            "  warn(\"The default mode, 'constant', will be changed to 'reflect' in \"\n"
          ],
          "name": "stderr"
        }
      ]
    },
    {
      "metadata": {
        "colab_type": "code",
        "id": "qSEvKX_YqkYP",
        "colab": {
          "base_uri": "https://localhost:8080/",
          "height": 35
        },
        "outputId": "47f604c0-52e2-4487-8ffe-122edf2adf7e"
      },
      "cell_type": "code",
      "source": [
        "results[arquiteture] = precision_score(y_true, y_predict, average='binary')\n",
        "print('Test Precision: {:.2f}%'\n",
        "      .format(100 * results[arquiteture]))"
      ],
      "execution_count": 118,
      "outputs": [
        {
          "output_type": "stream",
          "text": [
            "Test Precision: 4.30%\n"
          ],
          "name": "stdout"
        }
      ]
    }
  ]
}