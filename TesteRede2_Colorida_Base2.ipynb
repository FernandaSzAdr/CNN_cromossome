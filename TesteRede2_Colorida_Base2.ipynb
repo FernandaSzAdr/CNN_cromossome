{
  "nbformat": 4,
  "nbformat_minor": 0,
  "metadata": {
    "colab": {
      "name": "TesteRede2_Colorida_Base2.ipynb",
      "version": "0.3.2",
      "provenance": [],
      "toc_visible": true,
      "include_colab_link": true
    },
    "kernelspec": {
      "name": "python3",
      "display_name": "Python 3"
    },
    "accelerator": "GPU"
  },
  "cells": [
    {
      "cell_type": "markdown",
      "metadata": {
        "id": "view-in-github",
        "colab_type": "text"
      },
      "source": [
        "<a href=\"https://colab.research.google.com/github/FernandaSzAdr/KNN_cromossome/blob/master/TesteRede2_Colorida_Base2.ipynb\" target=\"_parent\"><img src=\"https://colab.research.google.com/assets/colab-badge.svg\" alt=\"Open In Colab\"/></a>"
      ]
    },
    {
      "metadata": {
        "id": "xN-oUTtcif3Q",
        "colab_type": "code",
        "outputId": "c41803a0-ec4e-4c21-f2aa-f69343d37cc8",
        "colab": {
          "base_uri": "https://localhost:8080/",
          "height": 55
        }
      },
      "cell_type": "code",
      "source": [
        "# Load the Drive helper and mount\n",
        "from google.colab import drive\n",
        "\n",
        "# This will prompt for authorization.\n",
        "drive.mount('/content/drive/')"
      ],
      "execution_count": 113,
      "outputs": [
        {
          "output_type": "stream",
          "text": [
            "Drive already mounted at /content/drive/; to attempt to forcibly remount, call drive.mount(\"/content/drive/\", force_remount=True).\n"
          ],
          "name": "stdout"
        }
      ]
    },
    {
      "metadata": {
        "id": "gzcuEGSklnwS",
        "colab_type": "code",
        "outputId": "b4d5079e-8dfb-4075-ad35-7cc509eb2123",
        "colab": {
          "base_uri": "https://localhost:8080/",
          "height": 35
        }
      },
      "cell_type": "code",
      "source": [
        "import os\n",
        "import cv2\n",
        "import csv\n",
        "!pip install imutils\n",
        "import imutils\n",
        "from skimage import transform\n",
        "import numpy as np\n",
        "import keras\n",
        "from keras import backend as K\n",
        "from keras.models import Sequential\n",
        "from keras.layers import Activation\n",
        "from keras.optimizers import SGD\n",
        "from keras.layers.core import Dense, Flatten, Dropout\n",
        "from keras.preprocessing.image import ImageDataGenerator\n",
        "from keras.layers.normalization import BatchNormalization\n",
        "from keras.layers.convolutional import *\n",
        "from keras.callbacks import ModelCheckpoint\n",
        "from matplotlib import pyplot as plt\n",
        "from sklearn.metrics import confusion_matrix\n",
        "from sklearn.metrics import accuracy_score\n",
        "import itertools\n",
        "import matplotlib.pyplot as plt"
      ],
      "execution_count": 114,
      "outputs": [
        {
          "output_type": "stream",
          "text": [
            "Requirement already satisfied: imutils in /usr/local/lib/python3.6/dist-packages (0.5.1)\n"
          ],
          "name": "stdout"
        }
      ]
    },
    {
      "metadata": {
        "id": "ITtEfxrilym7",
        "colab_type": "code",
        "colab": {}
      },
      "cell_type": "code",
      "source": [
        "train_path = 'drive/My Drive/Base_CNN/Colorido2/Train'\n",
        "test_path = 'drive/My Drive/Base_CNN/Colorido2/Test'\n",
        "validation_path = 'drive/My Drive/Base_CNN/Colorido2/Validation'"
      ],
      "execution_count": 0,
      "outputs": []
    },
    {
      "metadata": {
        "id": "e835RSQgEgA6",
        "colab_type": "code",
        "colab": {}
      },
      "cell_type": "code",
      "source": [
        "def converte(regiao):\n",
        "   regiao = np.array(regiao).astype('float32')/255\n",
        "   regiao = transform.resize(regiao, (120, 120, 3))\n",
        "   regiao = np.expand_dims(regiao, axis=0)\n",
        "   return regiao\n"
      ],
      "execution_count": 0,
      "outputs": []
    },
    {
      "metadata": {
        "id": "9ERJTQ3AgFJb",
        "colab_type": "code",
        "colab": {}
      },
      "cell_type": "code",
      "source": [
        "def ler_images_teste(arquiteture):\n",
        "  y_true = []\n",
        "  y_predict = []\n",
        "  images_test = os.listdir(test_path)\n",
        "  local = 'drive/My Drive/Base_CNN/Colorido2/Resultado_Image/' + arquiteture\n",
        "  if os.path.isdir(local) == False:\n",
        "    os.mkdir(local)\n",
        "  \n",
        "  for img in images_test:\n",
        "    # Pega cada imagem separadamente do folder de teste\n",
        "    image = cv2.imread(test_path + '/' + img)\n",
        "    image = imutils.resize(image, width=1000)\n",
        "    f = open('drive/My Drive/Base_CNN/Binarizado2/posicoes_segmentada.csv', 'r')\n",
        "    \n",
        "    copia = image.copy()\n",
        "\n",
        "    try:\n",
        "      leitor = csv.reader(f)\n",
        "      leitor = list(leitor)\n",
        "      leitor.pop(0)\n",
        "      for linha in leitor:\n",
        "        if len(linha) > 0:\n",
        "          # Para cada região dessa imagem:\n",
        "          if linha[0] == img:\n",
        "            posicoes = []\n",
        "            x = int(linha[3])\n",
        "            y = int(linha[4])\n",
        "            w = int(linha[5])\n",
        "            h = int(linha[6])\n",
        "            \n",
        "            # Label da região\n",
        "            label = linha[1]\n",
        "            if label == 'NC':\n",
        "              y_true.append(1)\n",
        "            else:\n",
        "              y_true.append(0)\n",
        "            \n",
        "            # Região\n",
        "            regiao = image[y: y + h, x: x + w]\n",
        "            regiao = converte(regiao)\n",
        "            \n",
        "            # Coloca a região na função e obtem o resultado\n",
        "            predicao = model.predict(regiao,batch_size=bSize,verbose=0)\n",
        "            \n",
        "            # Se é um cromossomo:\n",
        "            if predicao[0][0] > predicao[0][1]:\n",
        "              y_predict.append(0)\n",
        "              cv2.rectangle(copia,(x, y),(x+w, y+h),(0,255,0), 1)\n",
        "            # Se não for um cromossomo:\n",
        "            else:\n",
        "              y_predict.append(1)\n",
        "              cv2.rectangle(copia,(x, y),(x+w, y+h),(0,0,255), 1)\n",
        "                        \n",
        "    finally:\n",
        "      f.close()\n",
        "    \n",
        "    cv2.imwrite(local + '/' + img, copia)\n",
        "  \n",
        "  return y_true, y_predict\n"
      ],
      "execution_count": 0,
      "outputs": []
    },
    {
      "metadata": {
        "id": "WlPBqB_v3x2A",
        "colab_type": "text"
      },
      "cell_type": "markdown",
      "source": [
        "\n",
        "\n",
        "---\n",
        "\n"
      ]
    },
    {
      "metadata": {
        "id": "8KTtm8K7qg1n",
        "colab_type": "text"
      },
      "cell_type": "markdown",
      "source": [
        "## Implementação"
      ]
    },
    {
      "metadata": {
        "id": "ZNfohSUpo1n0",
        "colab_type": "text"
      },
      "cell_type": "markdown",
      "source": [
        "\n",
        "\n",
        "*   Batch size = 32\n",
        "*   Image size = 120x120\n",
        "\n"
      ]
    },
    {
      "metadata": {
        "id": "_TFWtLbQ2fUI",
        "colab_type": "code",
        "colab": {}
      },
      "cell_type": "code",
      "source": [
        "results = {}"
      ],
      "execution_count": 0,
      "outputs": []
    },
    {
      "metadata": {
        "id": "W3zmFDRmnYem",
        "colab_type": "code",
        "colab": {}
      },
      "cell_type": "code",
      "source": [
        "bSize = 32"
      ],
      "execution_count": 0,
      "outputs": []
    },
    {
      "metadata": {
        "id": "dCNH0jPl3WTV",
        "colab_type": "code",
        "colab": {}
      },
      "cell_type": "code",
      "source": [
        "datagen = ImageDataGenerator(rescale=1/255.)"
      ],
      "execution_count": 0,
      "outputs": []
    },
    {
      "metadata": {
        "id": "YiMXe23Vmbo-",
        "colab_type": "code",
        "outputId": "526d7d3a-18e9-49f4-a14f-f4b7feb9628c",
        "colab": {
          "base_uri": "https://localhost:8080/",
          "height": 54
        }
      },
      "cell_type": "code",
      "source": [
        "train_batches = datagen.flow_from_directory(train_path, target_size=(120, 120), \n",
        "                                            classes=['C', 'NC'], \n",
        "                                            batch_size=bSize)\n",
        "validation_batches = datagen.flow_from_directory(validation_path, \n",
        "                                                 target_size=(120, 120), \n",
        "                                                 classes=['C', 'NC'], \n",
        "                                                 batch_size=bSize)"
      ],
      "execution_count": 121,
      "outputs": [
        {
          "output_type": "stream",
          "text": [
            "Found 4369 images belonging to 2 classes.\n",
            "Found 991 images belonging to 2 classes.\n"
          ],
          "name": "stdout"
        }
      ]
    },
    {
      "metadata": {
        "id": "vE-dZtSv5mde",
        "colab_type": "code",
        "colab": {}
      },
      "cell_type": "code",
      "source": [
        "stepsPerEpoche = len(train_batches)/bSize\n",
        "validationSteps = len(validation_batches)/bSize"
      ],
      "execution_count": 0,
      "outputs": []
    },
    {
      "metadata": {
        "id": "tY7Fxpczz0wk",
        "colab_type": "text"
      },
      "cell_type": "markdown",
      "source": [
        "\n",
        "\n",
        "---\n",
        "\n"
      ]
    },
    {
      "metadata": {
        "id": "wH56YdE5rlnU",
        "colab_type": "text"
      },
      "cell_type": "markdown",
      "source": [
        "### 1 tentativa Accuracy: 80.36%"
      ]
    },
    {
      "metadata": {
        "id": "NBCIFVOlompR",
        "colab_type": "text"
      },
      "cell_type": "markdown",
      "source": [
        "**Descrição**\n",
        "\n",
        "\n",
        "*   Modelo descrito no artigo \"Crowdsourcing for Chromosome Segmentation and Deep Classification\"\n",
        "\n"
      ]
    },
    {
      "metadata": {
        "id": "rNosdG-ioNYU",
        "colab_type": "code",
        "colab": {}
      },
      "cell_type": "code",
      "source": [
        "model = Sequential([\n",
        "    Conv2D(64, (3, 3), activation='relu', input_shape=(120, 120, 3)),\n",
        "    Conv2D(64, (3, 3), activation='relu'),\n",
        "    Dropout(0.2),\n",
        "    MaxPooling2D(pool_size=(2, 2)),\n",
        "   \n",
        "    Conv2D(32, (3, 3), activation='relu'),\n",
        "    Conv2D(32, (3, 3), activation='relu'),\n",
        "    Dropout(0.2),\n",
        "    MaxPooling2D(pool_size=(2, 2)),\n",
        "   \n",
        "    Conv2D(16, (3, 3), activation='relu'),\n",
        "    Conv2D(16, (3, 3), activation='relu'),\n",
        "    Dropout(0.2),\n",
        "    MaxPooling2D(pool_size=(2, 2)),\n",
        "   \n",
        "    Conv2D(8, (3, 3), activation='relu'),\n",
        "    Conv2D(8, (3, 3), activation='relu'),\n",
        "    Dropout(0.2),\n",
        "    MaxPooling2D(pool_size=(2, 2)),\n",
        "    \n",
        "    Flatten(),\n",
        "    Dense(1024, activation='sigmoid'),\n",
        "    Dense(512, activation='sigmoid'),\n",
        "   \n",
        "    Dense(2, activation='softmax')\n",
        "]\n",
        ")"
      ],
      "execution_count": 0,
      "outputs": []
    },
    {
      "metadata": {
        "id": "UBqwdK2Bxagj",
        "colab_type": "code",
        "colab": {}
      },
      "cell_type": "code",
      "source": [
        "model.compile(SGD(lr=0.01, momentum=0.0, decay=0.0, nesterov=False), \n",
        "              loss='categorical_crossentropy', metrics=['accuracy'])"
      ],
      "execution_count": 0,
      "outputs": []
    },
    {
      "metadata": {
        "id": "iclhpyXmi_DU",
        "colab_type": "code",
        "colab": {}
      },
      "cell_type": "code",
      "source": [
        "arquiteture = 'architecture_1'"
      ],
      "execution_count": 0,
      "outputs": []
    },
    {
      "metadata": {
        "colab_type": "code",
        "id": "LqOsSip-k_v7",
        "colab": {}
      },
      "cell_type": "code",
      "source": [
        "checkpointer = ModelCheckpoint(filepath='drive/My Drive/Resultado/weights_' + arquiteture + '.hdf5', verbose=1, save_best_only=True)"
      ],
      "execution_count": 0,
      "outputs": []
    },
    {
      "metadata": {
        "id": "PeyX7Mzf5lDw",
        "colab_type": "code",
        "outputId": "4bbb092e-1daa-432e-d12d-62e9953c498e",
        "colab": {
          "base_uri": "https://localhost:8080/",
          "height": 3710
        }
      },
      "cell_type": "code",
      "source": [
        "training = model.fit_generator(train_batches, steps_per_epoch=stepsPerEpoche, \n",
        "                   validation_data=validation_batches, validation_steps=validationSteps,\n",
        "                   epochs=50, verbose=2, callbacks=[checkpointer])"
      ],
      "execution_count": 158,
      "outputs": [
        {
          "output_type": "stream",
          "text": [
            "Epoch 1/50\n",
            " - 5s - loss: 0.7037 - acc: 0.4813 - val_loss: 0.6874 - val_acc: 0.5625\n",
            "\n",
            "Epoch 00001: val_loss improved from inf to 0.68743, saving model to drive/My Drive/Resultado/weights_architecture_1.hdf5\n",
            "Epoch 2/50\n",
            " - 1s - loss: 0.6945 - acc: 0.5312 - val_loss: 0.7089 - val_acc: 0.5000\n",
            "\n",
            "Epoch 00002: val_loss did not improve from 0.68743\n",
            "Epoch 3/50\n",
            " - 1s - loss: 0.7113 - acc: 0.4438 - val_loss: 0.6938 - val_acc: 0.5000\n",
            "\n",
            "Epoch 00003: val_loss did not improve from 0.68743\n",
            "Epoch 4/50\n",
            " - 1s - loss: 0.7054 - acc: 0.4875 - val_loss: 0.6960 - val_acc: 0.5000\n",
            "\n",
            "Epoch 00004: val_loss did not improve from 0.68743\n",
            "Epoch 5/50\n",
            " - 1s - loss: 0.6973 - acc: 0.5062 - val_loss: 0.7077 - val_acc: 0.4375\n",
            "\n",
            "Epoch 00005: val_loss did not improve from 0.68743\n",
            "Epoch 6/50\n",
            " - 1s - loss: 0.6951 - acc: 0.5250 - val_loss: 0.7163 - val_acc: 0.4375\n",
            "\n",
            "Epoch 00006: val_loss did not improve from 0.68743\n",
            "Epoch 7/50\n",
            " - 1s - loss: 0.7030 - acc: 0.5874 - val_loss: 0.6826 - val_acc: 0.5938\n",
            "\n",
            "Epoch 00007: val_loss improved from 0.68743 to 0.68264, saving model to drive/My Drive/Resultado/weights_architecture_1.hdf5\n",
            "Epoch 8/50\n",
            " - 1s - loss: 0.7022 - acc: 0.5250 - val_loss: 0.6952 - val_acc: 0.4688\n",
            "\n",
            "Epoch 00008: val_loss did not improve from 0.68264\n",
            "Epoch 9/50\n",
            " - 1s - loss: 0.6887 - acc: 0.5062 - val_loss: 0.8438 - val_acc: 0.5000\n",
            "\n",
            "Epoch 00009: val_loss did not improve from 0.68264\n",
            "Epoch 10/50\n",
            " - 1s - loss: 0.7496 - acc: 0.4875 - val_loss: 0.6712 - val_acc: 0.6250\n",
            "\n",
            "Epoch 00010: val_loss improved from 0.68264 to 0.67124, saving model to drive/My Drive/Resultado/weights_architecture_1.hdf5\n",
            "Epoch 11/50\n",
            " - 1s - loss: 0.7108 - acc: 0.4500 - val_loss: 0.6997 - val_acc: 0.4375\n",
            "\n",
            "Epoch 00011: val_loss did not improve from 0.67124\n",
            "Epoch 12/50\n",
            " - 1s - loss: 0.7501 - acc: 0.3875 - val_loss: 0.7071 - val_acc: 0.3125\n",
            "\n",
            "Epoch 00012: val_loss did not improve from 0.67124\n",
            "Epoch 13/50\n",
            " - 1s - loss: 0.7209 - acc: 0.5250 - val_loss: 0.7262 - val_acc: 0.4375\n",
            "\n",
            "Epoch 00013: val_loss did not improve from 0.67124\n",
            "Epoch 14/50\n",
            " - 1s - loss: 0.7143 - acc: 0.4250 - val_loss: 0.7371 - val_acc: 0.4375\n",
            "\n",
            "Epoch 00014: val_loss did not improve from 0.67124\n",
            "Epoch 15/50\n",
            " - 1s - loss: 0.6979 - acc: 0.5187 - val_loss: 0.7126 - val_acc: 0.4688\n",
            "\n",
            "Epoch 00015: val_loss did not improve from 0.67124\n",
            "Epoch 16/50\n",
            " - 1s - loss: 0.7063 - acc: 0.5000 - val_loss: 0.6916 - val_acc: 0.5312\n",
            "\n",
            "Epoch 00016: val_loss did not improve from 0.67124\n",
            "Epoch 17/50\n",
            " - 1s - loss: 0.7094 - acc: 0.4750 - val_loss: 0.7030 - val_acc: 0.5000\n",
            "\n",
            "Epoch 00017: val_loss did not improve from 0.67124\n",
            "Epoch 18/50\n",
            " - 1s - loss: 0.6987 - acc: 0.4937 - val_loss: 0.6640 - val_acc: 0.6562\n",
            "\n",
            "Epoch 00018: val_loss improved from 0.67124 to 0.66400, saving model to drive/My Drive/Resultado/weights_architecture_1.hdf5\n",
            "Epoch 19/50\n",
            " - 1s - loss: 0.7113 - acc: 0.5312 - val_loss: 0.6509 - val_acc: 0.7188\n",
            "\n",
            "Epoch 00019: val_loss improved from 0.66400 to 0.65094, saving model to drive/My Drive/Resultado/weights_architecture_1.hdf5\n",
            "Epoch 20/50\n",
            " - 1s - loss: 0.7019 - acc: 0.5500 - val_loss: 0.6880 - val_acc: 0.5938\n",
            "\n",
            "Epoch 00020: val_loss did not improve from 0.65094\n",
            "Epoch 21/50\n",
            " - 1s - loss: 0.7133 - acc: 0.5500 - val_loss: 0.6733 - val_acc: 0.6774\n",
            "\n",
            "Epoch 00021: val_loss did not improve from 0.65094\n",
            "Epoch 22/50\n",
            " - 1s - loss: 0.7009 - acc: 0.4688 - val_loss: 0.6940 - val_acc: 0.5000\n",
            "\n",
            "Epoch 00022: val_loss did not improve from 0.65094\n",
            "Epoch 23/50\n",
            " - 1s - loss: 0.7025 - acc: 0.5438 - val_loss: 0.6986 - val_acc: 0.5000\n",
            "\n",
            "Epoch 00023: val_loss did not improve from 0.65094\n",
            "Epoch 24/50\n",
            " - 1s - loss: 0.6939 - acc: 0.5687 - val_loss: 0.7422 - val_acc: 0.4375\n",
            "\n",
            "Epoch 00024: val_loss did not improve from 0.65094\n",
            "Epoch 25/50\n",
            " - 1s - loss: 0.7046 - acc: 0.4875 - val_loss: 0.7091 - val_acc: 0.3750\n",
            "\n",
            "Epoch 00025: val_loss did not improve from 0.65094\n",
            "Epoch 26/50\n",
            " - 1s - loss: 0.6918 - acc: 0.5000 - val_loss: 0.7224 - val_acc: 0.5000\n",
            "\n",
            "Epoch 00026: val_loss did not improve from 0.65094\n",
            "Epoch 27/50\n",
            " - 1s - loss: 0.6938 - acc: 0.5563 - val_loss: 0.6854 - val_acc: 0.5625\n",
            "\n",
            "Epoch 00027: val_loss did not improve from 0.65094\n",
            "Epoch 28/50\n",
            " - 1s - loss: 0.6998 - acc: 0.5375 - val_loss: 0.6942 - val_acc: 0.4688\n",
            "\n",
            "Epoch 00028: val_loss did not improve from 0.65094\n",
            "Epoch 29/50\n",
            " - 1s - loss: 0.7040 - acc: 0.5312 - val_loss: 0.7646 - val_acc: 0.4062\n",
            "\n",
            "Epoch 00029: val_loss did not improve from 0.65094\n",
            "Epoch 30/50\n",
            " - 1s - loss: 0.7181 - acc: 0.4688 - val_loss: 0.7295 - val_acc: 0.5000\n",
            "\n",
            "Epoch 00030: val_loss did not improve from 0.65094\n",
            "Epoch 31/50\n",
            " - 1s - loss: 0.7056 - acc: 0.4875 - val_loss: 0.6915 - val_acc: 0.5938\n",
            "\n",
            "Epoch 00031: val_loss did not improve from 0.65094\n",
            "Epoch 32/50\n",
            " - 1s - loss: 0.7109 - acc: 0.4562 - val_loss: 0.6958 - val_acc: 0.5000\n",
            "\n",
            "Epoch 00032: val_loss did not improve from 0.65094\n",
            "Epoch 33/50\n",
            " - 1s - loss: 0.6898 - acc: 0.5250 - val_loss: 0.7254 - val_acc: 0.5000\n",
            "\n",
            "Epoch 00033: val_loss did not improve from 0.65094\n",
            "Epoch 34/50\n",
            " - 1s - loss: 0.7156 - acc: 0.4645 - val_loss: 0.6906 - val_acc: 0.5625\n",
            "\n",
            "Epoch 00034: val_loss did not improve from 0.65094\n",
            "Epoch 35/50\n",
            " - 1s - loss: 0.7130 - acc: 0.4813 - val_loss: 0.6955 - val_acc: 0.4062\n",
            "\n",
            "Epoch 00035: val_loss did not improve from 0.65094\n",
            "Epoch 36/50\n",
            " - 1s - loss: 0.6916 - acc: 0.5500 - val_loss: 0.7264 - val_acc: 0.3750\n",
            "\n",
            "Epoch 00036: val_loss did not improve from 0.65094\n",
            "Epoch 37/50\n",
            " - 1s - loss: 0.6999 - acc: 0.4875 - val_loss: 0.6970 - val_acc: 0.4375\n",
            "\n",
            "Epoch 00037: val_loss did not improve from 0.65094\n",
            "Epoch 38/50\n",
            " - 1s - loss: 0.7000 - acc: 0.5187 - val_loss: 0.7157 - val_acc: 0.4688\n",
            "\n",
            "Epoch 00038: val_loss did not improve from 0.65094\n",
            "Epoch 39/50\n",
            " - 1s - loss: 0.6991 - acc: 0.4813 - val_loss: 0.6920 - val_acc: 0.5625\n",
            "\n",
            "Epoch 00039: val_loss did not improve from 0.65094\n",
            "Epoch 40/50\n",
            " - 1s - loss: 0.6968 - acc: 0.5125 - val_loss: 0.6903 - val_acc: 0.5625\n",
            "\n",
            "Epoch 00040: val_loss did not improve from 0.65094\n",
            "Epoch 41/50\n",
            " - 1s - loss: 0.6955 - acc: 0.5000 - val_loss: 0.7004 - val_acc: 0.4375\n",
            "\n",
            "Epoch 00041: val_loss did not improve from 0.65094\n",
            "Epoch 42/50\n",
            " - 1s - loss: 0.6964 - acc: 0.4750 - val_loss: 0.6876 - val_acc: 0.5625\n",
            "\n",
            "Epoch 00042: val_loss did not improve from 0.65094\n",
            "Epoch 43/50\n",
            " - 1s - loss: 0.7118 - acc: 0.5062 - val_loss: 0.6849 - val_acc: 0.5938\n",
            "\n",
            "Epoch 00043: val_loss did not improve from 0.65094\n",
            "Epoch 44/50\n",
            " - 1s - loss: 0.7043 - acc: 0.4875 - val_loss: 0.6951 - val_acc: 0.5000\n",
            "\n",
            "Epoch 00044: val_loss did not improve from 0.65094\n",
            "Epoch 45/50\n",
            " - 1s - loss: 0.7087 - acc: 0.4562 - val_loss: 0.6962 - val_acc: 0.4688\n",
            "\n",
            "Epoch 00045: val_loss did not improve from 0.65094\n",
            "Epoch 46/50\n",
            " - 1s - loss: 0.7048 - acc: 0.4937 - val_loss: 0.7645 - val_acc: 0.4688\n",
            "\n",
            "Epoch 00046: val_loss did not improve from 0.65094\n",
            "Epoch 47/50\n",
            " - 1s - loss: 0.6980 - acc: 0.5187 - val_loss: 0.6938 - val_acc: 0.4688\n",
            "\n",
            "Epoch 00047: val_loss did not improve from 0.65094\n",
            "Epoch 48/50\n",
            " - 1s - loss: 0.6943 - acc: 0.4937 - val_loss: 0.6941 - val_acc: 0.5000\n",
            "\n",
            "Epoch 00048: val_loss did not improve from 0.65094\n",
            "Epoch 49/50\n",
            " - 1s - loss: 0.6913 - acc: 0.5563 - val_loss: 0.7116 - val_acc: 0.4375\n",
            "\n",
            "Epoch 00049: val_loss did not improve from 0.65094\n",
            "Epoch 50/50\n",
            " - 1s - loss: 0.6962 - acc: 0.5000 - val_loss: 0.6954 - val_acc: 0.4688\n",
            "\n",
            "Epoch 00050: val_loss did not improve from 0.65094\n"
          ],
          "name": "stdout"
        }
      ]
    },
    {
      "metadata": {
        "id": "c1LR04eV6AJ5",
        "colab_type": "code",
        "colab": {}
      },
      "cell_type": "code",
      "source": [
        "model.load_weights('drive/My Drive/Resultado/weights_architecture_1.hdf5')"
      ],
      "execution_count": 0,
      "outputs": []
    },
    {
      "metadata": {
        "id": "VeLCe59ltne5",
        "colab_type": "code",
        "outputId": "ec81b29e-d162-4779-b98a-0f4d13819ea1",
        "colab": {
          "base_uri": "https://localhost:8080/",
          "height": 380
        }
      },
      "cell_type": "code",
      "source": [
        "# plotar loss e accuracy para os datasets 'train' e 'test'\n",
        "plt.style.use(\"ggplot\")\n",
        "plt.figure()\n",
        "plt.plot(training.history['acc'], label='Accuracy')\n",
        "plt.plot(training.history['loss'], label='Loss')\n",
        "plt.xlabel('Epochs')\n",
        "plt.ylabel('Accuracy')\n",
        "plt.title(\"Training Loss and Accuracy\")\n",
        "plt.ylabel(\"Loss/Accuracy\")\n",
        "plt.legend()\n",
        "plt.savefig('drive/My Drive/Resultado/' + arquiteture + '.png', bbox_inches='tight')"
      ],
      "execution_count": 160,
      "outputs": [
        {
          "output_type": "display_data",
          "data": {
            "image/png": "[encoded data removed]",
            "text/plain": [
              "<matplotlib.figure.Figure at 0x7f567ce3a6d8>"
            ]
          },
          "metadata": {
            "tags": []
          }
        }
      ]
    },
    {
      "metadata": {
        "id": "CuxP4w361rkP",
        "colab_type": "code",
        "outputId": "357e767f-77e9-4beb-abc8-ff20643ef3c4",
        "colab": {
          "base_uri": "https://localhost:8080/",
          "height": 74
        }
      },
      "cell_type": "code",
      "source": [
        "y_true, y_predict = ler_images_teste(arquiteture)"
      ],
      "execution_count": 161,
      "outputs": [
        {
          "output_type": "stream",
          "text": [
            "/usr/local/lib/python3.6/dist-packages/skimage/transform/_warps.py:84: UserWarning: The default mode, 'constant', will be changed to 'reflect' in skimage 0.15.\n",
            "  warn(\"The default mode, 'constant', will be changed to 'reflect' in \"\n"
          ],
          "name": "stderr"
        }
      ]
    },
    {
      "metadata": {
        "id": "Juqn8SXr0VvZ",
        "colab_type": "code",
        "outputId": "8eec9f49-4881-472f-ef8b-2c8ae03357dc",
        "colab": {
          "base_uri": "https://localhost:8080/",
          "height": 35
        }
      },
      "cell_type": "code",
      "source": [
        "results[arquiteture] = accuracy_score(y_true, y_predict)\n",
        "print('Test Accuracy: {:.2f}%'.format(100 * results[arquiteture]))"
      ],
      "execution_count": 162,
      "outputs": [
        {
          "output_type": "stream",
          "text": [
            "Test Accuracy: 80.36%\n"
          ],
          "name": "stdout"
        }
      ]
    },
    {
      "metadata": {
        "id": "71jZE6lXsmgW",
        "colab_type": "text"
      },
      "cell_type": "markdown",
      "source": [
        "\n",
        "\n",
        "---\n",
        "\n"
      ]
    },
    {
      "metadata": {
        "id": "T7nOK0TDr6Hc",
        "colab_type": "text"
      },
      "cell_type": "markdown",
      "source": [
        "### 2 tentativa  Accuracy: 70.04%"
      ]
    },
    {
      "metadata": {
        "colab_type": "text",
        "id": "-DJtvxKNp9sb"
      },
      "cell_type": "markdown",
      "source": [
        "**Descrição**\n",
        "\n",
        "\n",
        "*   Modelo descrito no artigo \"Crowdsourcing for Chromosome Segmentation and Deep Classification\"\n",
        "*   Alteração nas duas ultimas camadas Dense\n",
        "\n",
        "\n",
        "\n"
      ]
    },
    {
      "metadata": {
        "colab_type": "code",
        "id": "2PSEo_Mzr8zK",
        "colab": {}
      },
      "cell_type": "code",
      "source": [
        "model = Sequential([\n",
        "    Conv2D(64, (3, 3), activation='relu', input_shape=(120, 120, 3)),\n",
        "    Conv2D(64, (3, 3), activation='relu'),\n",
        "    Dropout(0.2),\n",
        "    MaxPooling2D(pool_size=(2, 2)),\n",
        "   \n",
        "    Conv2D(32, (3, 3), activation='relu'),\n",
        "    Conv2D(32, (3, 3), activation='relu'),\n",
        "    Dropout(0.2),\n",
        "    MaxPooling2D(pool_size=(2, 2)),\n",
        "   \n",
        "    Conv2D(16, (3, 3), activation='relu'),\n",
        "    Conv2D(16, (3, 3), activation='relu'),\n",
        "    Dropout(0.2),\n",
        "    MaxPooling2D(pool_size=(2, 2)),\n",
        "   \n",
        "    Conv2D(8, (3, 3), activation='relu'),\n",
        "    Conv2D(8, (3, 3), activation='relu'),\n",
        "    Dropout(0.2),\n",
        "    MaxPooling2D(pool_size=(2, 2)),\n",
        "    \n",
        "    Flatten(),\n",
        "    Dense(512, activation='relu'),\n",
        "   \n",
        "    Dense(2, activation='softmax')\n",
        "]\n",
        ")"
      ],
      "execution_count": 0,
      "outputs": []
    },
    {
      "metadata": {
        "colab_type": "code",
        "id": "wTvCLywPr8zj",
        "colab": {}
      },
      "cell_type": "code",
      "source": [
        "model.compile(SGD(lr=0.01, momentum=0.0, decay=0.0, nesterov=False), \n",
        "              loss='categorical_crossentropy', metrics=['accuracy'])"
      ],
      "execution_count": 0,
      "outputs": []
    },
    {
      "metadata": {
        "colab_type": "code",
        "id": "B1aiec4IjnND",
        "colab": {}
      },
      "cell_type": "code",
      "source": [
        "arquiteture = 'architecture_2'"
      ],
      "execution_count": 0,
      "outputs": []
    },
    {
      "metadata": {
        "colab_type": "code",
        "id": "KF_vnzR7k8bw",
        "colab": {}
      },
      "cell_type": "code",
      "source": [
        "checkpointer = ModelCheckpoint(filepath='drive/My Drive/Resultado/weights_' + arquiteture + '.hdf5', verbose=1, save_best_only=True)"
      ],
      "execution_count": 0,
      "outputs": []
    },
    {
      "metadata": {
        "colab_type": "code",
        "id": "P5mNUnc52wDQ",
        "outputId": "91b3759c-296f-4228-8164-2bc8238ef685",
        "colab": {
          "base_uri": "https://localhost:8080/",
          "height": 3710
        }
      },
      "cell_type": "code",
      "source": [
        "training = model.fit_generator(train_batches, steps_per_epoch=stepsPerEpoche, \n",
        "                   validation_data=validation_batches, validation_steps=validationSteps,\n",
        "                   epochs=50, verbose=2, callbacks=[checkpointer])"
      ],
      "execution_count": 167,
      "outputs": [
        {
          "output_type": "stream",
          "text": [
            "Epoch 1/50\n",
            " - 6s - loss: 0.6926 - acc: 0.5500 - val_loss: 0.6956 - val_acc: 0.4062\n",
            "\n",
            "Epoch 00001: val_loss improved from inf to 0.69560, saving model to drive/My Drive/Resultado/weights_architecture_2.hdf5\n",
            "Epoch 2/50\n",
            " - 1s - loss: 0.6954 - acc: 0.5000 - val_loss: 0.6927 - val_acc: 0.5938\n",
            "\n",
            "Epoch 00002: val_loss improved from 0.69560 to 0.69273, saving model to drive/My Drive/Resultado/weights_architecture_2.hdf5\n",
            "Epoch 3/50\n",
            " - 1s - loss: 0.6928 - acc: 0.5375 - val_loss: 0.6920 - val_acc: 0.5625\n",
            "\n",
            "Epoch 00003: val_loss improved from 0.69273 to 0.69203, saving model to drive/My Drive/Resultado/weights_architecture_2.hdf5\n",
            "Epoch 4/50\n",
            " - 1s - loss: 0.6919 - acc: 0.5938 - val_loss: 0.6930 - val_acc: 0.4688\n",
            "\n",
            "Epoch 00004: val_loss did not improve from 0.69203\n",
            "Epoch 5/50\n",
            " - 1s - loss: 0.6913 - acc: 0.5812 - val_loss: 0.6908 - val_acc: 0.5938\n",
            "\n",
            "Epoch 00005: val_loss improved from 0.69203 to 0.69085, saving model to drive/My Drive/Resultado/weights_architecture_2.hdf5\n",
            "Epoch 6/50\n",
            " - 1s - loss: 0.6909 - acc: 0.6312 - val_loss: 0.6920 - val_acc: 0.5625\n",
            "\n",
            "Epoch 00006: val_loss did not improve from 0.69085\n",
            "Epoch 7/50\n",
            " - 1s - loss: 0.6904 - acc: 0.7375 - val_loss: 0.6925 - val_acc: 0.5000\n",
            "\n",
            "Epoch 00007: val_loss did not improve from 0.69085\n",
            "Epoch 8/50\n",
            " - 1s - loss: 0.6895 - acc: 0.8563 - val_loss: 0.6912 - val_acc: 0.5312\n",
            "\n",
            "Epoch 00008: val_loss did not improve from 0.69085\n",
            "Epoch 9/50\n",
            " - 1s - loss: 0.6887 - acc: 0.7875 - val_loss: 0.6901 - val_acc: 0.5938\n",
            "\n",
            "Epoch 00009: val_loss improved from 0.69085 to 0.69010, saving model to drive/My Drive/Resultado/weights_architecture_2.hdf5\n",
            "Epoch 10/50\n",
            " - 1s - loss: 0.6887 - acc: 0.7438 - val_loss: 0.6929 - val_acc: 0.4688\n",
            "\n",
            "Epoch 00010: val_loss did not improve from 0.69010\n",
            "Epoch 11/50\n",
            " - 1s - loss: 0.6877 - acc: 0.7845 - val_loss: 0.6900 - val_acc: 0.5625\n",
            "\n",
            "Epoch 00011: val_loss improved from 0.69010 to 0.69002, saving model to drive/My Drive/Resultado/weights_architecture_2.hdf5\n",
            "Epoch 12/50\n",
            " - 1s - loss: 0.6858 - acc: 0.8375 - val_loss: 0.6896 - val_acc: 0.5625\n",
            "\n",
            "Epoch 00012: val_loss improved from 0.69002 to 0.68960, saving model to drive/My Drive/Resultado/weights_architecture_2.hdf5\n",
            "Epoch 13/50\n",
            " - 1s - loss: 0.6853 - acc: 0.8187 - val_loss: 0.6879 - val_acc: 0.5938\n",
            "\n",
            "Epoch 00013: val_loss improved from 0.68960 to 0.68787, saving model to drive/My Drive/Resultado/weights_architecture_2.hdf5\n",
            "Epoch 14/50\n",
            " - 1s - loss: 0.6835 - acc: 0.7812 - val_loss: 0.6916 - val_acc: 0.4688\n",
            "\n",
            "Epoch 00014: val_loss did not improve from 0.68787\n",
            "Epoch 15/50\n",
            " - 1s - loss: 0.6832 - acc: 0.8438 - val_loss: 0.6879 - val_acc: 0.5625\n",
            "\n",
            "Epoch 00015: val_loss improved from 0.68787 to 0.68787, saving model to drive/My Drive/Resultado/weights_architecture_2.hdf5\n",
            "Epoch 16/50\n",
            " - 1s - loss: 0.6821 - acc: 0.7438 - val_loss: 0.6889 - val_acc: 0.5625\n",
            "\n",
            "Epoch 00016: val_loss did not improve from 0.68787\n",
            "Epoch 17/50\n",
            " - 1s - loss: 0.6784 - acc: 0.8375 - val_loss: 0.6885 - val_acc: 0.5938\n",
            "\n",
            "Epoch 00017: val_loss did not improve from 0.68787\n",
            "Epoch 18/50\n",
            " - 1s - loss: 0.6793 - acc: 0.8688 - val_loss: 0.6875 - val_acc: 0.5312\n",
            "\n",
            "Epoch 00018: val_loss improved from 0.68787 to 0.68748, saving model to drive/My Drive/Resultado/weights_architecture_2.hdf5\n",
            "Epoch 19/50\n",
            " - 1s - loss: 0.6762 - acc: 0.8063 - val_loss: 0.6834 - val_acc: 0.6875\n",
            "\n",
            "Epoch 00019: val_loss improved from 0.68748 to 0.68339, saving model to drive/My Drive/Resultado/weights_architecture_2.hdf5\n",
            "Epoch 20/50\n",
            " - 1s - loss: 0.6736 - acc: 0.8125 - val_loss: 0.6949 - val_acc: 0.4062\n",
            "\n",
            "Epoch 00020: val_loss did not improve from 0.68339\n",
            "Epoch 21/50\n",
            " - 1s - loss: 0.6719 - acc: 0.8250 - val_loss: 0.6935 - val_acc: 0.4375\n",
            "\n",
            "Epoch 00021: val_loss did not improve from 0.68339\n",
            "Epoch 22/50\n",
            " - 1s - loss: 0.6689 - acc: 0.8812 - val_loss: 0.6852 - val_acc: 0.6129\n",
            "\n",
            "Epoch 00022: val_loss did not improve from 0.68339\n",
            "Epoch 23/50\n",
            " - 1s - loss: 0.6633 - acc: 0.8625 - val_loss: 0.6977 - val_acc: 0.4375\n",
            "\n",
            "Epoch 00023: val_loss did not improve from 0.68339\n",
            "Epoch 24/50\n",
            " - 1s - loss: 0.6697 - acc: 0.7000 - val_loss: 0.6734 - val_acc: 0.9062\n",
            "\n",
            "Epoch 00024: val_loss improved from 0.68339 to 0.67338, saving model to drive/My Drive/Resultado/weights_architecture_2.hdf5\n",
            "Epoch 25/50\n",
            " - 1s - loss: 0.6583 - acc: 0.8187 - val_loss: 0.6789 - val_acc: 0.6250\n",
            "\n",
            "Epoch 00025: val_loss did not improve from 0.67338\n",
            "Epoch 26/50\n",
            " - 1s - loss: 0.6500 - acc: 0.7500 - val_loss: 0.6751 - val_acc: 0.6875\n",
            "\n",
            "Epoch 00026: val_loss did not improve from 0.67338\n",
            "Epoch 27/50\n",
            " - 1s - loss: 0.6533 - acc: 0.6750 - val_loss: 0.6839 - val_acc: 0.5938\n",
            "\n",
            "Epoch 00027: val_loss did not improve from 0.67338\n",
            "Epoch 28/50\n",
            " - 1s - loss: 0.6431 - acc: 0.7375 - val_loss: 0.6658 - val_acc: 0.7812\n",
            "\n",
            "Epoch 00028: val_loss improved from 0.67338 to 0.66579, saving model to drive/My Drive/Resultado/weights_architecture_2.hdf5\n",
            "Epoch 29/50\n",
            " - 1s - loss: 0.6240 - acc: 0.7750 - val_loss: 0.6621 - val_acc: 0.8125\n",
            "\n",
            "Epoch 00029: val_loss improved from 0.66579 to 0.66213, saving model to drive/My Drive/Resultado/weights_architecture_2.hdf5\n",
            "Epoch 30/50\n",
            " - 1s - loss: 0.6060 - acc: 0.6875 - val_loss: 0.6942 - val_acc: 0.5000\n",
            "\n",
            "Epoch 00030: val_loss did not improve from 0.66213\n",
            "Epoch 31/50\n",
            " - 1s - loss: 0.6284 - acc: 0.7062 - val_loss: 0.6386 - val_acc: 0.8125\n",
            "\n",
            "Epoch 00031: val_loss improved from 0.66213 to 0.63856, saving model to drive/My Drive/Resultado/weights_architecture_2.hdf5\n",
            "Epoch 32/50\n",
            " - 1s - loss: 0.6021 - acc: 0.7313 - val_loss: 0.6363 - val_acc: 0.8438\n",
            "\n",
            "Epoch 00032: val_loss improved from 0.63856 to 0.63630, saving model to drive/My Drive/Resultado/weights_architecture_2.hdf5\n",
            "Epoch 33/50\n",
            " - 1s - loss: 0.5633 - acc: 0.7562 - val_loss: 0.6513 - val_acc: 0.7188\n",
            "\n",
            "Epoch 00033: val_loss did not improve from 0.63630\n",
            "Epoch 34/50\n",
            " - 1s - loss: 0.5678 - acc: 0.7188 - val_loss: 0.6133 - val_acc: 0.6875\n",
            "\n",
            "Epoch 00034: val_loss improved from 0.63630 to 0.61333, saving model to drive/My Drive/Resultado/weights_architecture_2.hdf5\n",
            "Epoch 35/50\n",
            " - 1s - loss: 0.7089 - acc: 0.6625 - val_loss: 0.6092 - val_acc: 0.9062\n",
            "\n",
            "Epoch 00035: val_loss improved from 0.61333 to 0.60924, saving model to drive/My Drive/Resultado/weights_architecture_2.hdf5\n",
            "Epoch 36/50\n",
            " - 1s - loss: 0.5696 - acc: 0.8688 - val_loss: 0.6044 - val_acc: 0.8438\n",
            "\n",
            "Epoch 00036: val_loss improved from 0.60924 to 0.60442, saving model to drive/My Drive/Resultado/weights_architecture_2.hdf5\n",
            "Epoch 37/50\n",
            " - 1s - loss: 0.5940 - acc: 0.6375 - val_loss: 0.6678 - val_acc: 0.6250\n",
            "\n",
            "Epoch 00037: val_loss did not improve from 0.60442\n",
            "Epoch 38/50\n",
            " - 1s - loss: 0.5439 - acc: 0.7687 - val_loss: 0.6452 - val_acc: 0.7188\n",
            "\n",
            "Epoch 00038: val_loss did not improve from 0.60442\n",
            "Epoch 39/50\n",
            " - 1s - loss: 0.5597 - acc: 0.7602 - val_loss: 0.6421 - val_acc: 0.6875\n",
            "\n",
            "Epoch 00039: val_loss did not improve from 0.60442\n",
            "Epoch 40/50\n",
            " - 1s - loss: 0.5748 - acc: 0.6625 - val_loss: 0.6367 - val_acc: 0.6250\n",
            "\n",
            "Epoch 00040: val_loss did not improve from 0.60442\n",
            "Epoch 41/50\n",
            " - 1s - loss: 0.7434 - acc: 0.4750 - val_loss: 0.6777 - val_acc: 0.5312\n",
            "\n",
            "Epoch 00041: val_loss did not improve from 0.60442\n",
            "Epoch 42/50\n",
            " - 1s - loss: 0.5067 - acc: 0.8750 - val_loss: 0.5892 - val_acc: 0.9062\n",
            "\n",
            "Epoch 00042: val_loss improved from 0.60442 to 0.58924, saving model to drive/My Drive/Resultado/weights_architecture_2.hdf5\n",
            "Epoch 43/50\n",
            " - 1s - loss: 0.4347 - acc: 0.8500 - val_loss: 0.5458 - val_acc: 0.8125\n",
            "\n",
            "Epoch 00043: val_loss improved from 0.58924 to 0.54576, saving model to drive/My Drive/Resultado/weights_architecture_2.hdf5\n",
            "Epoch 44/50\n",
            " - 1s - loss: 0.5070 - acc: 0.8000 - val_loss: 0.6245 - val_acc: 0.7188\n",
            "\n",
            "Epoch 00044: val_loss did not improve from 0.54576\n",
            "Epoch 45/50\n",
            " - 1s - loss: 0.7372 - acc: 0.5500 - val_loss: 0.7409 - val_acc: 0.4062\n",
            "\n",
            "Epoch 00045: val_loss did not improve from 0.54576\n",
            "Epoch 46/50\n",
            " - 1s - loss: 0.7161 - acc: 0.4750 - val_loss: 0.6962 - val_acc: 0.5312\n",
            "\n",
            "Epoch 00046: val_loss did not improve from 0.54576\n",
            "Epoch 47/50\n",
            " - 1s - loss: 0.6981 - acc: 0.5250 - val_loss: 0.6956 - val_acc: 0.5312\n",
            "\n",
            "Epoch 00047: val_loss did not improve from 0.54576\n",
            "Epoch 48/50\n",
            " - 1s - loss: 0.7013 - acc: 0.4937 - val_loss: 0.6914 - val_acc: 0.5312\n",
            "\n",
            "Epoch 00048: val_loss did not improve from 0.54576\n",
            "Epoch 49/50\n",
            " - 1s - loss: 0.6865 - acc: 0.5563 - val_loss: 0.6738 - val_acc: 0.5938\n",
            "\n",
            "Epoch 00049: val_loss did not improve from 0.54576\n",
            "Epoch 50/50\n",
            " - 1s - loss: 0.6642 - acc: 0.6437 - val_loss: 0.6782 - val_acc: 0.6875\n",
            "\n",
            "Epoch 00050: val_loss did not improve from 0.54576\n"
          ],
          "name": "stdout"
        }
      ]
    },
    {
      "metadata": {
        "colab_type": "code",
        "id": "37HQ427_jnNY",
        "outputId": "cff1e510-7107-43ae-e67e-dd70e851c5f0",
        "colab": {
          "base_uri": "https://localhost:8080/",
          "height": 380
        }
      },
      "cell_type": "code",
      "source": [
        "# plotar loss e accuracy para os datasets 'train' e 'test'\n",
        "plt.style.use(\"ggplot\")\n",
        "plt.figure()\n",
        "plt.plot(training.history['acc'], label='Accuracy')\n",
        "plt.plot(training.history['loss'], label='Loss')\n",
        "plt.xlabel('Epochs')\n",
        "plt.ylabel('Accuracy')\n",
        "plt.title(\"Training Loss and Accuracy\")\n",
        "plt.ylabel(\"Loss/Accuracy\")\n",
        "plt.legend()\n",
        "plt.savefig('drive/My Drive/Resultado/' + arquiteture + '.png', bbox_inches='tight')"
      ],
      "execution_count": 168,
      "outputs": [
        {
          "output_type": "display_data",
          "data": {
            "image/png": "[encoded data removed]",
            "text/plain": [
              "<matplotlib.figure.Figure at 0x7f568226c710>"
            ]
          },
          "metadata": {
            "tags": []
          }
        }
      ]
    },
    {
      "metadata": {
        "colab_type": "code",
        "id": "bpfoCpyTjnNk",
        "outputId": "18b72f2d-77b2-4db4-8293-1fa66b76971a",
        "colab": {
          "base_uri": "https://localhost:8080/",
          "height": 74
        }
      },
      "cell_type": "code",
      "source": [
        "y_true, y_predict = ler_images_teste(arquiteture)"
      ],
      "execution_count": 169,
      "outputs": [
        {
          "output_type": "stream",
          "text": [
            "/usr/local/lib/python3.6/dist-packages/skimage/transform/_warps.py:84: UserWarning: The default mode, 'constant', will be changed to 'reflect' in skimage 0.15.\n",
            "  warn(\"The default mode, 'constant', will be changed to 'reflect' in \"\n"
          ],
          "name": "stderr"
        }
      ]
    },
    {
      "metadata": {
        "colab_type": "code",
        "id": "37KhZdImjnNs",
        "outputId": "46fd54c1-141f-4628-88ba-ea8ad114830a",
        "colab": {
          "base_uri": "https://localhost:8080/",
          "height": 35
        }
      },
      "cell_type": "code",
      "source": [
        "results[arquiteture] = accuracy_score(y_true, y_predict)\n",
        "print('Test Accuracy: {:.2f}%'.format(100 * results[arquiteture]))"
      ],
      "execution_count": 170,
      "outputs": [
        {
          "output_type": "stream",
          "text": [
            "Test Accuracy: 70.04%\n"
          ],
          "name": "stdout"
        }
      ]
    },
    {
      "metadata": {
        "id": "r7RpE8wBe4JQ",
        "colab_type": "text"
      },
      "cell_type": "markdown",
      "source": [
        "### 3 tentativa Accuracy: 42.56%"
      ]
    },
    {
      "metadata": {
        "id": "vdP4Yo8OgB4B",
        "colab_type": "text"
      },
      "cell_type": "markdown",
      "source": [
        "Modelo criado pelo **Lucas Valentim**\n",
        "\n",
        "https://github.com/lucasvalentim/chromosome-recognizer/blob/master/chromosome_recognizer.ipynb"
      ]
    },
    {
      "metadata": {
        "id": "3nTNgnrCe33x",
        "colab_type": "code",
        "colab": {}
      },
      "cell_type": "code",
      "source": [
        "from keras.layers import Conv2D, MaxPooling2D, GlobalMaxPooling2D, BatchNormalization\n",
        "from keras.regularizers import l2\n",
        "\n",
        "model = Sequential()\n",
        "\n",
        "model.add(Conv2D(32, (3, 3), activation='relu', kernel_regularizer=l2(1e-4), \n",
        "                 input_shape=(None, None, 3)))\n",
        "model.add(BatchNormalization())\n",
        "model.add(Conv2D(32, (3, 3), activation='relu', kernel_regularizer=l2(1e-4)))\n",
        "model.add(BatchNormalization())\n",
        "model.add(MaxPooling2D((2, 2)))\n",
        "model.add(Dropout(0.25))\n",
        "\n",
        "model.add(Conv2D(64, (3, 3), activation='relu', kernel_regularizer=l2(1e-4)))\n",
        "model.add(BatchNormalization())\n",
        "model.add(Conv2D(64, (3, 3), activation='relu', kernel_regularizer=l2(1e-4)))\n",
        "model.add(BatchNormalization())\n",
        "model.add(MaxPooling2D((2, 2)))\n",
        "model.add(Dropout(0.25))\n",
        "\n",
        "model.add(Conv2D(128, (1,1), kernel_regularizer=l2(1e-4)))\n",
        "model.add(GlobalMaxPooling2D())\n",
        "\n",
        "model.add(Dense(256, activation='relu', kernel_regularizer=l2(1e-4)))\n",
        "model.add(Dropout(0.5))\n",
        "model.add(Dense(2, activation='sigmoid', kernel_regularizer=l2(1e-4)))"
      ],
      "execution_count": 0,
      "outputs": []
    },
    {
      "metadata": {
        "id": "g1okz4QbiBnE",
        "colab_type": "code",
        "colab": {}
      },
      "cell_type": "code",
      "source": [
        "model.compile(optimizer='adam', loss='binary_crossentropy', metrics=['accuracy'])"
      ],
      "execution_count": 0,
      "outputs": []
    },
    {
      "metadata": {
        "colab_type": "code",
        "id": "qGOLNR-RjvlL",
        "colab": {}
      },
      "cell_type": "code",
      "source": [
        "arquiteture = 'architecture_3'"
      ],
      "execution_count": 0,
      "outputs": []
    },
    {
      "metadata": {
        "colab_type": "code",
        "id": "Zd6E33WLk6B5",
        "colab": {}
      },
      "cell_type": "code",
      "source": [
        "checkpointer = ModelCheckpoint(filepath='drive/My Drive/Resultado/weights_' + arquiteture + '.hdf5', verbose=1, save_best_only=True)"
      ],
      "execution_count": 0,
      "outputs": []
    },
    {
      "metadata": {
        "colab_type": "code",
        "id": "57QCc4Rz3JmS",
        "outputId": "6439f4ea-e2fa-459c-d6c0-bc29cbaba393",
        "colab": {
          "base_uri": "https://localhost:8080/",
          "height": 3710
        }
      },
      "cell_type": "code",
      "source": [
        "training = model.fit_generator(train_batches, steps_per_epoch=stepsPerEpoche, \n",
        "                   validation_data=validation_batches, validation_steps=validationSteps,\n",
        "                   epochs=50, verbose=2, callbacks=[checkpointer])"
      ],
      "execution_count": 175,
      "outputs": [
        {
          "output_type": "stream",
          "text": [
            "Epoch 1/50\n",
            " - 7s - loss: 1.1266 - acc: 0.6250 - val_loss: 0.5112 - val_acc: 0.7969\n",
            "\n",
            "Epoch 00001: val_loss improved from inf to 0.51117, saving model to drive/My Drive/Resultado/weights_architecture_3.hdf5\n",
            "Epoch 2/50\n",
            " - 1s - loss: 0.8316 - acc: 0.7406 - val_loss: 1.1860 - val_acc: 0.6250\n",
            "\n",
            "Epoch 00002: val_loss did not improve from 0.51117\n",
            "Epoch 3/50\n",
            " - 1s - loss: 0.5275 - acc: 0.8312 - val_loss: 0.8363 - val_acc: 0.7188\n",
            "\n",
            "Epoch 00003: val_loss did not improve from 0.51117\n",
            "Epoch 4/50\n",
            " - 1s - loss: 0.4668 - acc: 0.8875 - val_loss: 0.5216 - val_acc: 0.8594\n",
            "\n",
            "Epoch 00004: val_loss did not improve from 0.51117\n",
            "Epoch 5/50\n",
            " - 0s - loss: 0.4510 - acc: 0.8438 - val_loss: 0.6863 - val_acc: 0.7031\n",
            "\n",
            "Epoch 00005: val_loss did not improve from 0.51117\n",
            "Epoch 6/50\n",
            " - 0s - loss: 0.3686 - acc: 0.8719 - val_loss: 0.3056 - val_acc: 0.8750\n",
            "\n",
            "Epoch 00006: val_loss improved from 0.51117 to 0.30563, saving model to drive/My Drive/Resultado/weights_architecture_3.hdf5\n",
            "Epoch 7/50\n",
            " - 0s - loss: 0.3319 - acc: 0.8750 - val_loss: 0.7053 - val_acc: 0.7969\n",
            "\n",
            "Epoch 00007: val_loss did not improve from 0.30563\n",
            "Epoch 8/50\n",
            " - 1s - loss: 0.2924 - acc: 0.8844 - val_loss: 0.1949 - val_acc: 0.9375\n",
            "\n",
            "Epoch 00008: val_loss improved from 0.30563 to 0.19485, saving model to drive/My Drive/Resultado/weights_architecture_3.hdf5\n",
            "Epoch 9/50\n",
            " - 1s - loss: 0.4324 - acc: 0.8438 - val_loss: 0.5428 - val_acc: 0.7812\n",
            "\n",
            "Epoch 00009: val_loss did not improve from 0.19485\n",
            "Epoch 10/50\n",
            " - 1s - loss: 0.2927 - acc: 0.8969 - val_loss: 0.3318 - val_acc: 0.8750\n",
            "\n",
            "Epoch 00010: val_loss did not improve from 0.19485\n",
            "Epoch 11/50\n",
            " - 1s - loss: 0.4222 - acc: 0.8875 - val_loss: 0.3085 - val_acc: 0.9062\n",
            "\n",
            "Epoch 00011: val_loss did not improve from 0.19485\n",
            "Epoch 12/50\n",
            " - 1s - loss: 0.3033 - acc: 0.8969 - val_loss: 0.6102 - val_acc: 0.7812\n",
            "\n",
            "Epoch 00012: val_loss did not improve from 0.19485\n",
            "Epoch 13/50\n",
            " - 1s - loss: 0.2801 - acc: 0.8875 - val_loss: 0.6239 - val_acc: 0.6875\n",
            "\n",
            "Epoch 00013: val_loss did not improve from 0.19485\n",
            "Epoch 14/50\n",
            " - 1s - loss: 0.2645 - acc: 0.9094 - val_loss: 0.2886 - val_acc: 0.8594\n",
            "\n",
            "Epoch 00014: val_loss did not improve from 0.19485\n",
            "Epoch 15/50\n",
            " - 1s - loss: 0.4074 - acc: 0.8844 - val_loss: 0.5235 - val_acc: 0.7344\n",
            "\n",
            "Epoch 00015: val_loss did not improve from 0.19485\n",
            "Epoch 16/50\n",
            " - 1s - loss: 0.2415 - acc: 0.9163 - val_loss: 0.3342 - val_acc: 0.9062\n",
            "\n",
            "Epoch 00016: val_loss did not improve from 0.19485\n",
            "Epoch 17/50\n",
            " - 1s - loss: 0.2636 - acc: 0.9031 - val_loss: 0.4654 - val_acc: 0.7656\n",
            "\n",
            "Epoch 00017: val_loss did not improve from 0.19485\n",
            "Epoch 18/50\n",
            " - 1s - loss: 0.2802 - acc: 0.9188 - val_loss: 0.3114 - val_acc: 0.8125\n",
            "\n",
            "Epoch 00018: val_loss did not improve from 0.19485\n",
            "Epoch 19/50\n",
            " - 1s - loss: 0.3015 - acc: 0.8969 - val_loss: 1.1080 - val_acc: 0.5000\n",
            "\n",
            "Epoch 00019: val_loss did not improve from 0.19485\n",
            "Epoch 20/50\n",
            " - 1s - loss: 0.3249 - acc: 0.8906 - val_loss: 0.3652 - val_acc: 0.7969\n",
            "\n",
            "Epoch 00020: val_loss did not improve from 0.19485\n",
            "Epoch 21/50\n",
            " - 1s - loss: 0.3352 - acc: 0.9125 - val_loss: 0.5070 - val_acc: 0.7344\n",
            "\n",
            "Epoch 00021: val_loss did not improve from 0.19485\n",
            "Epoch 22/50\n",
            " - 1s - loss: 0.2826 - acc: 0.9156 - val_loss: 1.1726 - val_acc: 0.5469\n",
            "\n",
            "Epoch 00022: val_loss did not improve from 0.19485\n",
            "Epoch 23/50\n",
            " - 1s - loss: 0.2641 - acc: 0.9188 - val_loss: 0.7466 - val_acc: 0.7419\n",
            "\n",
            "Epoch 00023: val_loss did not improve from 0.19485\n",
            "Epoch 24/50\n",
            " - 1s - loss: 0.2640 - acc: 0.9219 - val_loss: 0.6100 - val_acc: 0.7188\n",
            "\n",
            "Epoch 00024: val_loss did not improve from 0.19485\n",
            "Epoch 25/50\n",
            " - 1s - loss: 0.2958 - acc: 0.9125 - val_loss: 0.7300 - val_acc: 0.6562\n",
            "\n",
            "Epoch 00025: val_loss did not improve from 0.19485\n",
            "Epoch 26/50\n",
            " - 1s - loss: 0.2468 - acc: 0.9125 - val_loss: 1.5106 - val_acc: 0.6250\n",
            "\n",
            "Epoch 00026: val_loss did not improve from 0.19485\n",
            "Epoch 27/50\n",
            " - 1s - loss: 0.2778 - acc: 0.9094 - val_loss: 1.7303 - val_acc: 0.5156\n",
            "\n",
            "Epoch 00027: val_loss did not improve from 0.19485\n",
            "Epoch 28/50\n",
            " - 1s - loss: 0.2264 - acc: 0.9281 - val_loss: 0.7459 - val_acc: 0.5938\n",
            "\n",
            "Epoch 00028: val_loss did not improve from 0.19485\n",
            "Epoch 29/50\n",
            " - 1s - loss: 0.3113 - acc: 0.9094 - val_loss: 1.0735 - val_acc: 0.5000\n",
            "\n",
            "Epoch 00029: val_loss did not improve from 0.19485\n",
            "Epoch 30/50\n",
            " - 1s - loss: 0.2817 - acc: 0.9125 - val_loss: 0.6725 - val_acc: 0.6719\n",
            "\n",
            "Epoch 00030: val_loss did not improve from 0.19485\n",
            "Epoch 31/50\n",
            " - 1s - loss: 0.2335 - acc: 0.9188 - val_loss: 0.2960 - val_acc: 0.9062\n",
            "\n",
            "Epoch 00031: val_loss did not improve from 0.19485\n",
            "Epoch 32/50\n",
            " - 1s - loss: 0.2833 - acc: 0.9188 - val_loss: 0.6776 - val_acc: 0.6562\n",
            "\n",
            "Epoch 00032: val_loss did not improve from 0.19485\n",
            "Epoch 33/50\n",
            " - 1s - loss: 0.1924 - acc: 0.9562 - val_loss: 0.7872 - val_acc: 0.6250\n",
            "\n",
            "Epoch 00033: val_loss did not improve from 0.19485\n",
            "Epoch 34/50\n",
            " - 1s - loss: 0.1748 - acc: 0.9531 - val_loss: 0.4876 - val_acc: 0.7500\n",
            "\n",
            "Epoch 00034: val_loss did not improve from 0.19485\n",
            "Epoch 35/50\n",
            " - 1s - loss: 0.2708 - acc: 0.8969 - val_loss: 0.6218 - val_acc: 0.6719\n",
            "\n",
            "Epoch 00035: val_loss did not improve from 0.19485\n",
            "Epoch 36/50\n",
            " - 1s - loss: 0.2099 - acc: 0.9344 - val_loss: 0.4764 - val_acc: 0.8125\n",
            "\n",
            "Epoch 00036: val_loss did not improve from 0.19485\n",
            "Epoch 37/50\n",
            " - 1s - loss: 0.2063 - acc: 0.9250 - val_loss: 0.6661 - val_acc: 0.6875\n",
            "\n",
            "Epoch 00037: val_loss did not improve from 0.19485\n",
            "Epoch 38/50\n",
            " - 1s - loss: 0.2159 - acc: 0.9469 - val_loss: 1.2260 - val_acc: 0.6250\n",
            "\n",
            "Epoch 00038: val_loss did not improve from 0.19485\n",
            "Epoch 39/50\n",
            " - 1s - loss: 0.2381 - acc: 0.9344 - val_loss: 0.5213 - val_acc: 0.7344\n",
            "\n",
            "Epoch 00039: val_loss did not improve from 0.19485\n",
            "Epoch 40/50\n",
            " - 1s - loss: 0.2131 - acc: 0.9531 - val_loss: 0.4708 - val_acc: 0.7500\n",
            "\n",
            "Epoch 00040: val_loss did not improve from 0.19485\n",
            "Epoch 41/50\n",
            " - 1s - loss: 0.3036 - acc: 0.9094 - val_loss: 0.4391 - val_acc: 0.7969\n",
            "\n",
            "Epoch 00041: val_loss did not improve from 0.19485\n",
            "Epoch 42/50\n",
            " - 1s - loss: 0.2609 - acc: 0.9125 - val_loss: 0.4629 - val_acc: 0.8438\n",
            "\n",
            "Epoch 00042: val_loss did not improve from 0.19485\n",
            "Epoch 43/50\n",
            " - 1s - loss: 0.2972 - acc: 0.8986 - val_loss: 0.7666 - val_acc: 0.7031\n",
            "\n",
            "Epoch 00043: val_loss did not improve from 0.19485\n",
            "Epoch 44/50\n",
            " - 1s - loss: 0.2248 - acc: 0.9406 - val_loss: 0.3740 - val_acc: 0.8750\n",
            "\n",
            "Epoch 00044: val_loss did not improve from 0.19485\n",
            "Epoch 45/50\n",
            " - 1s - loss: 0.2200 - acc: 0.9531 - val_loss: 0.3611 - val_acc: 0.8906\n",
            "\n",
            "Epoch 00045: val_loss did not improve from 0.19485\n",
            "Epoch 46/50\n",
            " - 1s - loss: 0.2081 - acc: 0.9469 - val_loss: 0.2431 - val_acc: 0.9531\n",
            "\n",
            "Epoch 00046: val_loss did not improve from 0.19485\n",
            "Epoch 47/50\n",
            " - 1s - loss: 0.1967 - acc: 0.9344 - val_loss: 0.4059 - val_acc: 0.8281\n",
            "\n",
            "Epoch 00047: val_loss did not improve from 0.19485\n",
            "Epoch 48/50\n",
            " - 1s - loss: 0.2410 - acc: 0.9188 - val_loss: 0.2113 - val_acc: 1.0000\n",
            "\n",
            "Epoch 00048: val_loss did not improve from 0.19485\n",
            "Epoch 49/50\n",
            " - 1s - loss: 0.1479 - acc: 0.9656 - val_loss: 0.6561 - val_acc: 0.7188\n",
            "\n",
            "Epoch 00049: val_loss did not improve from 0.19485\n",
            "Epoch 50/50\n",
            " - 1s - loss: 0.2042 - acc: 0.9219 - val_loss: 0.4906 - val_acc: 0.8125\n",
            "\n",
            "Epoch 00050: val_loss did not improve from 0.19485\n"
          ],
          "name": "stdout"
        }
      ]
    },
    {
      "metadata": {
        "colab_type": "code",
        "id": "UbMAcdw1jvlY",
        "outputId": "eb2c877a-3766-4c7c-bd46-ac9f0f599e6b",
        "colab": {
          "base_uri": "https://localhost:8080/",
          "height": 380
        }
      },
      "cell_type": "code",
      "source": [
        "# plotar loss e accuracy para os datasets 'train' e 'test'\n",
        "plt.style.use(\"ggplot\")\n",
        "plt.figure()\n",
        "plt.plot(training.history['acc'], label='Accuracy')\n",
        "plt.plot(training.history['loss'], label='Loss')\n",
        "plt.xlabel('Epochs')\n",
        "plt.ylabel('Accuracy')\n",
        "plt.title(\"Training Loss and Accuracy\")\n",
        "plt.ylabel(\"Loss/Accuracy\")\n",
        "plt.legend()\n",
        "plt.savefig('drive/My Drive/Resultado/' + arquiteture + '.png', bbox_inches='tight')"
      ],
      "execution_count": 176,
      "outputs": [
        {
          "output_type": "display_data",
          "data": {
            "image/png": "[encoded data removed]",
            "text/plain": [
              "<matplotlib.figure.Figure at 0x7f5682104438>"
            ]
          },
          "metadata": {
            "tags": []
          }
        }
      ]
    },
    {
      "metadata": {
        "colab_type": "code",
        "id": "JZXZyAjrjvli",
        "outputId": "6c9b2acc-d564-4be7-84f5-64d408fbd22b",
        "colab": {
          "base_uri": "https://localhost:8080/",
          "height": 74
        }
      },
      "cell_type": "code",
      "source": [
        "y_true, y_predict = ler_images_teste(arquiteture)"
      ],
      "execution_count": 177,
      "outputs": [
        {
          "output_type": "stream",
          "text": [
            "/usr/local/lib/python3.6/dist-packages/skimage/transform/_warps.py:84: UserWarning: The default mode, 'constant', will be changed to 'reflect' in skimage 0.15.\n",
            "  warn(\"The default mode, 'constant', will be changed to 'reflect' in \"\n"
          ],
          "name": "stderr"
        }
      ]
    },
    {
      "metadata": {
        "colab_type": "code",
        "id": "rRqF6tcYjvlm",
        "outputId": "23c601eb-8ea6-4fe0-9bd7-b58af26b27f8",
        "colab": {
          "base_uri": "https://localhost:8080/",
          "height": 35
        }
      },
      "cell_type": "code",
      "source": [
        "results[arquiteture] = accuracy_score(y_true, y_predict)\n",
        "print('Test Accuracy: {:.2f}%'.format(100 * results[arquiteture]))"
      ],
      "execution_count": 178,
      "outputs": [
        {
          "output_type": "stream",
          "text": [
            "Test Accuracy: 42.56%\n"
          ],
          "name": "stdout"
        }
      ]
    },
    {
      "metadata": {
        "id": "jkrlEFjlw030",
        "colab_type": "text"
      },
      "cell_type": "markdown",
      "source": [
        "### 4 tentativa  Accuracy: 67.40%"
      ]
    },
    {
      "metadata": {
        "id": "UJ7JELAiw2kb",
        "colab_type": "text"
      },
      "cell_type": "markdown",
      "source": [
        "Modelo adaptado do **Lucas Albertins**\n",
        "\n",
        "*   Sem os **dropout**\n"
      ]
    },
    {
      "metadata": {
        "colab_type": "code",
        "id": "4N0B_5a2xB3T",
        "colab": {}
      },
      "cell_type": "code",
      "source": [
        "from keras.layers import Conv2D, MaxPooling2D, GlobalMaxPooling2D, BatchNormalization\n",
        "from keras.regularizers import l2\n",
        "\n",
        "model = Sequential()\n",
        "\n",
        "model.add(Conv2D(32, (3, 3), activation='relu', kernel_regularizer=l2(1e-4), \n",
        "                 input_shape=(None, None, 3)))\n",
        "model.add(BatchNormalization())\n",
        "model.add(Conv2D(32, (3, 3), activation='relu', kernel_regularizer=l2(1e-4)))\n",
        "model.add(BatchNormalization())\n",
        "model.add(MaxPooling2D((2, 2)))\n",
        "\n",
        "model.add(Conv2D(64, (3, 3), activation='relu', kernel_regularizer=l2(1e-4)))\n",
        "model.add(BatchNormalization())\n",
        "model.add(Conv2D(64, (3, 3), activation='relu', kernel_regularizer=l2(1e-4)))\n",
        "model.add(BatchNormalization())\n",
        "model.add(MaxPooling2D((2, 2)))\n",
        "\n",
        "model.add(Conv2D(128, (1,1), kernel_regularizer=l2(1e-4)))\n",
        "model.add(GlobalMaxPooling2D())\n",
        "\n",
        "model.add(Dense(256, activation='relu', kernel_regularizer=l2(1e-4)))\n",
        "model.add(BatchNormalization())\n",
        "model.add(Dense(2, activation='sigmoid', kernel_regularizer=l2(1e-4)))"
      ],
      "execution_count": 0,
      "outputs": []
    },
    {
      "metadata": {
        "colab_type": "code",
        "id": "V9VHjygmxB3k",
        "colab": {}
      },
      "cell_type": "code",
      "source": [
        "model.compile(optimizer='adam', loss='binary_crossentropy', metrics=['accuracy'])"
      ],
      "execution_count": 0,
      "outputs": []
    },
    {
      "metadata": {
        "colab_type": "code",
        "id": "VMLmVlASj26i",
        "colab": {}
      },
      "cell_type": "code",
      "source": [
        "arquiteture = 'architecture_4'"
      ],
      "execution_count": 0,
      "outputs": []
    },
    {
      "metadata": {
        "colab_type": "code",
        "id": "dZRIAn0Bk37B",
        "colab": {}
      },
      "cell_type": "code",
      "source": [
        "checkpointer = ModelCheckpoint(filepath='drive/My Drive/Resultado/weights_' + arquiteture + '.hdf5', verbose=1, save_best_only=True)"
      ],
      "execution_count": 0,
      "outputs": []
    },
    {
      "metadata": {
        "colab_type": "code",
        "id": "gE1pEJNR4RmV",
        "outputId": "2d644a0e-e890-474f-fc26-4e5b7692121f",
        "colab": {
          "base_uri": "https://localhost:8080/",
          "height": 3710
        }
      },
      "cell_type": "code",
      "source": [
        "training = model.fit_generator(train_batches, steps_per_epoch=stepsPerEpoche, \n",
        "                   validation_data=validation_batches, validation_steps=validationSteps,\n",
        "                   epochs=50, verbose=2, callbacks=[checkpointer])"
      ],
      "execution_count": 183,
      "outputs": [
        {
          "output_type": "stream",
          "text": [
            "Epoch 1/50\n",
            " - 8s - loss: 0.6967 - acc: 0.7188 - val_loss: 0.5998 - val_acc: 0.7188\n",
            "\n",
            "Epoch 00001: val_loss improved from inf to 0.59978, saving model to drive/My Drive/Resultado/weights_architecture_4.hdf5\n",
            "Epoch 2/50\n",
            " - 1s - loss: 0.3879 - acc: 0.8812 - val_loss: 0.6627 - val_acc: 0.7656\n",
            "\n",
            "Epoch 00002: val_loss did not improve from 0.59978\n",
            "Epoch 3/50\n",
            " - 1s - loss: 0.2741 - acc: 0.9219 - val_loss: 0.7518 - val_acc: 0.7656\n",
            "\n",
            "Epoch 00003: val_loss did not improve from 0.59978\n",
            "Epoch 4/50\n",
            " - 1s - loss: 0.2616 - acc: 0.9250 - val_loss: 0.5703 - val_acc: 0.8125\n",
            "\n",
            "Epoch 00004: val_loss improved from 0.59978 to 0.57033, saving model to drive/My Drive/Resultado/weights_architecture_4.hdf5\n",
            "Epoch 5/50\n",
            " - 0s - loss: 0.2480 - acc: 0.9156 - val_loss: 0.4118 - val_acc: 0.8906\n",
            "\n",
            "Epoch 00005: val_loss improved from 0.57033 to 0.41183, saving model to drive/My Drive/Resultado/weights_architecture_4.hdf5\n",
            "Epoch 6/50\n",
            " - 0s - loss: 0.3293 - acc: 0.8688 - val_loss: 1.5122 - val_acc: 0.6562\n",
            "\n",
            "Epoch 00006: val_loss did not improve from 0.41183\n",
            "Epoch 7/50\n",
            " - 1s - loss: 0.4912 - acc: 0.8281 - val_loss: 0.6370 - val_acc: 0.7500\n",
            "\n",
            "Epoch 00007: val_loss did not improve from 0.41183\n",
            "Epoch 8/50\n",
            " - 1s - loss: 0.2017 - acc: 0.9406 - val_loss: 0.4010 - val_acc: 0.8906\n",
            "\n",
            "Epoch 00008: val_loss improved from 0.41183 to 0.40097, saving model to drive/My Drive/Resultado/weights_architecture_4.hdf5\n",
            "Epoch 9/50\n",
            " - 1s - loss: 0.2393 - acc: 0.9156 - val_loss: 0.4470 - val_acc: 0.8594\n",
            "\n",
            "Epoch 00009: val_loss did not improve from 0.40097\n",
            "Epoch 10/50\n",
            " - 1s - loss: 0.2892 - acc: 0.8875 - val_loss: 0.6620 - val_acc: 0.7500\n",
            "\n",
            "Epoch 00010: val_loss did not improve from 0.40097\n",
            "Epoch 11/50\n",
            " - 1s - loss: 0.3337 - acc: 0.8812 - val_loss: 0.6789 - val_acc: 0.7969\n",
            "\n",
            "Epoch 00011: val_loss did not improve from 0.40097\n",
            "Epoch 12/50\n",
            " - 1s - loss: 0.2110 - acc: 0.9344 - val_loss: 0.5816 - val_acc: 0.7969\n",
            "\n",
            "Epoch 00012: val_loss did not improve from 0.40097\n",
            "Epoch 13/50\n",
            " - 1s - loss: 0.3161 - acc: 0.8688 - val_loss: 1.1722 - val_acc: 0.6562\n",
            "\n",
            "Epoch 00013: val_loss did not improve from 0.40097\n",
            "Epoch 14/50\n",
            " - 1s - loss: 0.2393 - acc: 0.9188 - val_loss: 1.9855 - val_acc: 0.6250\n",
            "\n",
            "Epoch 00014: val_loss did not improve from 0.40097\n",
            "Epoch 15/50\n",
            " - 1s - loss: 0.3458 - acc: 0.8906 - val_loss: 2.4042 - val_acc: 0.6094\n",
            "\n",
            "Epoch 00015: val_loss did not improve from 0.40097\n",
            "Epoch 16/50\n",
            " - 1s - loss: 0.2787 - acc: 0.8969 - val_loss: 2.1431 - val_acc: 0.5625\n",
            "\n",
            "Epoch 00016: val_loss did not improve from 0.40097\n",
            "Epoch 17/50\n",
            " - 1s - loss: 0.2202 - acc: 0.9344 - val_loss: 0.8873 - val_acc: 0.7656\n",
            "\n",
            "Epoch 00017: val_loss did not improve from 0.40097\n",
            "Epoch 18/50\n",
            " - 1s - loss: 0.1994 - acc: 0.9437 - val_loss: 0.3857 - val_acc: 0.8438\n",
            "\n",
            "Epoch 00018: val_loss improved from 0.40097 to 0.38568, saving model to drive/My Drive/Resultado/weights_architecture_4.hdf5\n",
            "Epoch 19/50\n",
            " - 1s - loss: 0.2389 - acc: 0.9125 - val_loss: 1.3805 - val_acc: 0.6250\n",
            "\n",
            "Epoch 00019: val_loss did not improve from 0.38568\n",
            "Epoch 20/50\n",
            " - 1s - loss: 0.2297 - acc: 0.9364 - val_loss: 1.4460 - val_acc: 0.6719\n",
            "\n",
            "Epoch 00020: val_loss did not improve from 0.38568\n",
            "Epoch 21/50\n",
            " - 1s - loss: 0.4224 - acc: 0.8594 - val_loss: 0.3733 - val_acc: 0.8438\n",
            "\n",
            "Epoch 00021: val_loss improved from 0.38568 to 0.37326, saving model to drive/My Drive/Resultado/weights_architecture_4.hdf5\n",
            "Epoch 22/50\n",
            " - 1s - loss: 0.2518 - acc: 0.9281 - val_loss: 0.7694 - val_acc: 0.6875\n",
            "\n",
            "Epoch 00022: val_loss did not improve from 0.37326\n",
            "Epoch 23/50\n",
            " - 1s - loss: 0.2499 - acc: 0.9250 - val_loss: 0.8411 - val_acc: 0.6875\n",
            "\n",
            "Epoch 00023: val_loss did not improve from 0.37326\n",
            "Epoch 24/50\n",
            " - 1s - loss: 0.2462 - acc: 0.9094 - val_loss: 1.5374 - val_acc: 0.4677\n",
            "\n",
            "Epoch 00024: val_loss did not improve from 0.37326\n",
            "Epoch 25/50\n",
            " - 1s - loss: 0.1619 - acc: 0.9531 - val_loss: 0.9476 - val_acc: 0.6250\n",
            "\n",
            "Epoch 00025: val_loss did not improve from 0.37326\n",
            "Epoch 26/50\n",
            " - 1s - loss: 0.1948 - acc: 0.9469 - val_loss: 0.5994 - val_acc: 0.6719\n",
            "\n",
            "Epoch 00026: val_loss did not improve from 0.37326\n",
            "Epoch 27/50\n",
            " - 1s - loss: 0.2472 - acc: 0.9281 - val_loss: 0.7227 - val_acc: 0.7188\n",
            "\n",
            "Epoch 00027: val_loss did not improve from 0.37326\n",
            "Epoch 28/50\n",
            " - 1s - loss: 0.2019 - acc: 0.9375 - val_loss: 1.0399 - val_acc: 0.6562\n",
            "\n",
            "Epoch 00028: val_loss did not improve from 0.37326\n",
            "Epoch 29/50\n",
            " - 1s - loss: 0.2076 - acc: 0.9406 - val_loss: 0.3461 - val_acc: 0.8906\n",
            "\n",
            "Epoch 00029: val_loss improved from 0.37326 to 0.34606, saving model to drive/My Drive/Resultado/weights_architecture_4.hdf5\n",
            "Epoch 30/50\n",
            " - 1s - loss: 0.1718 - acc: 0.9562 - val_loss: 0.2432 - val_acc: 0.9375\n",
            "\n",
            "Epoch 00030: val_loss improved from 0.34606 to 0.24319, saving model to drive/My Drive/Resultado/weights_architecture_4.hdf5\n",
            "Epoch 31/50\n",
            " - 1s - loss: 0.1743 - acc: 0.9562 - val_loss: 0.3131 - val_acc: 0.9062\n",
            "\n",
            "Epoch 00031: val_loss did not improve from 0.24319\n",
            "Epoch 32/50\n",
            " - 1s - loss: 0.2397 - acc: 0.9219 - val_loss: 0.4477 - val_acc: 0.8438\n",
            "\n",
            "Epoch 00032: val_loss did not improve from 0.24319\n",
            "Epoch 33/50\n",
            " - 1s - loss: 0.3005 - acc: 0.9375 - val_loss: 0.6003 - val_acc: 0.7812\n",
            "\n",
            "Epoch 00033: val_loss did not improve from 0.24319\n",
            "Epoch 34/50\n",
            " - 1s - loss: 0.1978 - acc: 0.9281 - val_loss: 0.3810 - val_acc: 0.8750\n",
            "\n",
            "Epoch 00034: val_loss did not improve from 0.24319\n",
            "Epoch 35/50\n",
            " - 1s - loss: 0.2854 - acc: 0.9000 - val_loss: 0.6244 - val_acc: 0.6250\n",
            "\n",
            "Epoch 00035: val_loss did not improve from 0.24319\n",
            "Epoch 36/50\n",
            " - 1s - loss: 0.1521 - acc: 0.9656 - val_loss: 0.9938 - val_acc: 0.5938\n",
            "\n",
            "Epoch 00036: val_loss did not improve from 0.24319\n",
            "Epoch 37/50\n",
            " - 1s - loss: 0.1955 - acc: 0.9531 - val_loss: 1.3363 - val_acc: 0.5938\n",
            "\n",
            "Epoch 00037: val_loss did not improve from 0.24319\n",
            "Epoch 38/50\n",
            " - 1s - loss: 0.1316 - acc: 0.9625 - val_loss: 1.2765 - val_acc: 0.6094\n",
            "\n",
            "Epoch 00038: val_loss did not improve from 0.24319\n",
            "Epoch 39/50\n",
            " - 1s - loss: 0.2594 - acc: 0.9094 - val_loss: 0.4802 - val_acc: 0.7656\n",
            "\n",
            "Epoch 00039: val_loss did not improve from 0.24319\n",
            "Epoch 40/50\n",
            " - 1s - loss: 0.1870 - acc: 0.9437 - val_loss: 0.1905 - val_acc: 0.9531\n",
            "\n",
            "Epoch 00040: val_loss improved from 0.24319 to 0.19046, saving model to drive/My Drive/Resultado/weights_architecture_4.hdf5\n",
            "Epoch 41/50\n",
            " - 1s - loss: 0.2199 - acc: 0.9250 - val_loss: 0.3847 - val_acc: 0.7969\n",
            "\n",
            "Epoch 00041: val_loss did not improve from 0.19046\n",
            "Epoch 42/50\n",
            " - 1s - loss: 0.2144 - acc: 0.9344 - val_loss: 0.2503 - val_acc: 0.8594\n",
            "\n",
            "Epoch 00042: val_loss did not improve from 0.19046\n",
            "Epoch 43/50\n",
            " - 1s - loss: 0.2567 - acc: 0.9250 - val_loss: 0.3947 - val_acc: 0.8594\n",
            "\n",
            "Epoch 00043: val_loss did not improve from 0.19046\n",
            "Epoch 44/50\n",
            " - 1s - loss: 0.2098 - acc: 0.9281 - val_loss: 0.4222 - val_acc: 0.8438\n",
            "\n",
            "Epoch 00044: val_loss did not improve from 0.19046\n",
            "Epoch 45/50\n",
            " - 1s - loss: 0.1693 - acc: 0.9500 - val_loss: 0.1417 - val_acc: 0.9688\n",
            "\n",
            "Epoch 00045: val_loss improved from 0.19046 to 0.14169, saving model to drive/My Drive/Resultado/weights_architecture_4.hdf5\n",
            "Epoch 46/50\n",
            " - 1s - loss: 0.1636 - acc: 0.9625 - val_loss: 0.1860 - val_acc: 0.9219\n",
            "\n",
            "Epoch 00046: val_loss did not improve from 0.14169\n",
            "Epoch 47/50\n",
            " - 1s - loss: 0.1960 - acc: 0.9344 - val_loss: 0.7041 - val_acc: 0.6094\n",
            "\n",
            "Epoch 00047: val_loss did not improve from 0.14169\n",
            "Epoch 48/50\n",
            " - 1s - loss: 0.1963 - acc: 0.9445 - val_loss: 0.3598 - val_acc: 0.8594\n",
            "\n",
            "Epoch 00048: val_loss did not improve from 0.14169\n",
            "Epoch 49/50\n",
            " - 1s - loss: 0.2018 - acc: 0.9594 - val_loss: 0.3522 - val_acc: 0.8750\n",
            "\n",
            "Epoch 00049: val_loss did not improve from 0.14169\n",
            "Epoch 50/50\n",
            " - 1s - loss: 0.1729 - acc: 0.9625 - val_loss: 0.3256 - val_acc: 0.7969\n",
            "\n",
            "Epoch 00050: val_loss did not improve from 0.14169\n"
          ],
          "name": "stdout"
        }
      ]
    },
    {
      "metadata": {
        "colab_type": "code",
        "id": "J32DdUl5j261",
        "outputId": "1246c44c-1048-40ec-a657-63f989c6b4c3",
        "colab": {
          "base_uri": "https://localhost:8080/",
          "height": 380
        }
      },
      "cell_type": "code",
      "source": [
        "# plotar loss e accuracy para os datasets 'train' e 'test'\n",
        "plt.style.use(\"ggplot\")\n",
        "plt.figure()\n",
        "plt.plot(training.history['acc'], label='Accuracy')\n",
        "plt.plot(training.history['loss'], label='Loss')\n",
        "plt.xlabel('Epochs')\n",
        "plt.ylabel('Accuracy')\n",
        "plt.title(\"Training Loss and Accuracy\")\n",
        "plt.ylabel(\"Loss/Accuracy\")\n",
        "plt.legend()\n",
        "plt.savefig('drive/My Drive/Resultado/' + arquiteture + '.png', bbox_inches='tight')"
      ],
      "execution_count": 184,
      "outputs": [
        {
          "output_type": "display_data",
          "data": {
            "image/png": "[encoded data removed]",
            "text/plain": [
              "<matplotlib.figure.Figure at 0x7f567e529fd0>"
            ]
          },
          "metadata": {
            "tags": []
          }
        }
      ]
    },
    {
      "metadata": {
        "colab_type": "code",
        "id": "w0epZConj269",
        "outputId": "3704524f-b825-4722-875a-7600096ef87e",
        "colab": {
          "base_uri": "https://localhost:8080/",
          "height": 74
        }
      },
      "cell_type": "code",
      "source": [
        "y_true, y_predict = ler_images_teste(arquiteture)"
      ],
      "execution_count": 185,
      "outputs": [
        {
          "output_type": "stream",
          "text": [
            "/usr/local/lib/python3.6/dist-packages/skimage/transform/_warps.py:84: UserWarning: The default mode, 'constant', will be changed to 'reflect' in skimage 0.15.\n",
            "  warn(\"The default mode, 'constant', will be changed to 'reflect' in \"\n"
          ],
          "name": "stderr"
        }
      ]
    },
    {
      "metadata": {
        "colab_type": "code",
        "id": "raSeJjACj27G",
        "outputId": "21b0bd18-1d5e-4a66-d9d3-e94710a1d1c3",
        "colab": {
          "base_uri": "https://localhost:8080/",
          "height": 35
        }
      },
      "cell_type": "code",
      "source": [
        "results[arquiteture] = accuracy_score(y_true, y_predict)\n",
        "print('Test Accuracy: {:.2f}%'.format(100 * results[arquiteture]))"
      ],
      "execution_count": 186,
      "outputs": [
        {
          "output_type": "stream",
          "text": [
            "Test Accuracy: 67.40%\n"
          ],
          "name": "stdout"
        }
      ]
    },
    {
      "metadata": {
        "id": "lX3WANMgB1Ew",
        "colab_type": "text"
      },
      "cell_type": "markdown",
      "source": [
        "### 5 tentativa Accuracy: 38.43%"
      ]
    },
    {
      "metadata": {
        "colab_type": "text",
        "id": "dqed1VQh6WXg"
      },
      "cell_type": "markdown",
      "source": [
        "Modelo adaptado do **Lucas Albertins**\n",
        "\n",
        "*   Sem os **dropout**\n",
        "*   Função **SGD** para compilação\n"
      ]
    },
    {
      "metadata": {
        "colab_type": "code",
        "id": "z9mlUa4mB-ER",
        "colab": {}
      },
      "cell_type": "code",
      "source": [
        "from keras.layers import Conv2D, MaxPooling2D, GlobalMaxPooling2D, BatchNormalization\n",
        "from keras.regularizers import l2\n",
        "\n",
        "model = Sequential()\n",
        "\n",
        "model.add(Conv2D(32, (3, 3), activation='relu', kernel_regularizer=l2(1e-4), \n",
        "                 input_shape=(None, None, 3)))\n",
        "model.add(BatchNormalization())\n",
        "model.add(Conv2D(32, (3, 3), activation='relu', kernel_regularizer=l2(1e-4)))\n",
        "model.add(BatchNormalization())\n",
        "model.add(MaxPooling2D((2, 2)))\n",
        "model.add(Dropout(0.25))\n",
        "\n",
        "model.add(Conv2D(64, (3, 3), activation='relu', kernel_regularizer=l2(1e-4)))\n",
        "model.add(BatchNormalization())\n",
        "model.add(Conv2D(64, (3, 3), activation='relu', kernel_regularizer=l2(1e-4)))\n",
        "model.add(BatchNormalization())\n",
        "model.add(MaxPooling2D((2, 2)))\n",
        "model.add(Dropout(0.25))\n",
        "\n",
        "model.add(Conv2D(128, (1,1), kernel_regularizer=l2(1e-4)))\n",
        "model.add(GlobalMaxPooling2D())\n",
        "\n",
        "model.add(Dense(256, activation='relu', kernel_regularizer=l2(1e-4)))\n",
        "model.add(Dropout(0.5))\n",
        "model.add(Dense(2, activation='sigmoid', kernel_regularizer=l2(1e-4)))"
      ],
      "execution_count": 0,
      "outputs": []
    },
    {
      "metadata": {
        "id": "ukvJwM-lCHtB",
        "colab_type": "code",
        "colab": {}
      },
      "cell_type": "code",
      "source": [
        "model.compile(SGD(lr=0.01, momentum=0.0, decay=0.0, nesterov=False), \n",
        "              loss='binary_crossentropy', metrics=['accuracy'])"
      ],
      "execution_count": 0,
      "outputs": []
    },
    {
      "metadata": {
        "colab_type": "code",
        "id": "HA_KKMyaj6-L",
        "colab": {}
      },
      "cell_type": "code",
      "source": [
        "arquiteture = 'architecture_5'"
      ],
      "execution_count": 0,
      "outputs": []
    },
    {
      "metadata": {
        "colab_type": "code",
        "id": "eWpMObq1k1cL",
        "colab": {}
      },
      "cell_type": "code",
      "source": [
        "checkpointer = ModelCheckpoint(filepath='drive/My Drive/Resultado/weights_' + arquiteture + '.hdf5', verbose=1, save_best_only=True)"
      ],
      "execution_count": 0,
      "outputs": []
    },
    {
      "metadata": {
        "colab_type": "code",
        "id": "06GSgiIj4gfo",
        "outputId": "122edd2d-eae9-48e2-81a0-8c119e060ee7",
        "colab": {
          "base_uri": "https://localhost:8080/",
          "height": 3710
        }
      },
      "cell_type": "code",
      "source": [
        "training = model.fit_generator(train_batches, steps_per_epoch=stepsPerEpoche, \n",
        "                   validation_data=validation_batches, validation_steps=validationSteps,\n",
        "                   epochs=50, verbose=2, callbacks=[checkpointer])"
      ],
      "execution_count": 191,
      "outputs": [
        {
          "output_type": "stream",
          "text": [
            "Epoch 1/50\n",
            " - 7s - loss: 1.3269 - acc: 0.5563 - val_loss: 0.8755 - val_acc: 0.6719\n",
            "\n",
            "Epoch 00001: val_loss improved from inf to 0.87554, saving model to drive/My Drive/Resultado/weights_architecture_5.hdf5\n",
            "Epoch 2/50\n",
            " - 1s - loss: 0.6389 - acc: 0.7313 - val_loss: 0.7639 - val_acc: 0.6719\n",
            "\n",
            "Epoch 00002: val_loss improved from 0.87554 to 0.76392, saving model to drive/My Drive/Resultado/weights_architecture_5.hdf5\n",
            "Epoch 3/50\n",
            " - 0s - loss: 0.7879 - acc: 0.7031 - val_loss: 0.5979 - val_acc: 0.7344\n",
            "\n",
            "Epoch 00003: val_loss improved from 0.76392 to 0.59793, saving model to drive/My Drive/Resultado/weights_architecture_5.hdf5\n",
            "Epoch 4/50\n",
            " - 0s - loss: 0.4664 - acc: 0.8438 - val_loss: 0.6260 - val_acc: 0.7344\n",
            "\n",
            "Epoch 00004: val_loss did not improve from 0.59793\n",
            "Epoch 5/50\n",
            " - 0s - loss: 0.4896 - acc: 0.8312 - val_loss: 0.7854 - val_acc: 0.5938\n",
            "\n",
            "Epoch 00005: val_loss did not improve from 0.59793\n",
            "Epoch 6/50\n",
            " - 0s - loss: 0.5911 - acc: 0.7844 - val_loss: 0.5027 - val_acc: 0.8750\n",
            "\n",
            "Epoch 00006: val_loss improved from 0.59793 to 0.50274, saving model to drive/My Drive/Resultado/weights_architecture_5.hdf5\n",
            "Epoch 7/50\n",
            " - 0s - loss: 0.5464 - acc: 0.7969 - val_loss: 1.4158 - val_acc: 0.4844\n",
            "\n",
            "Epoch 00007: val_loss did not improve from 0.50274\n",
            "Epoch 8/50\n",
            " - 1s - loss: 0.3884 - acc: 0.8781 - val_loss: 0.6961 - val_acc: 0.5469\n",
            "\n",
            "Epoch 00008: val_loss did not improve from 0.50274\n",
            "Epoch 9/50\n",
            " - 1s - loss: 0.3331 - acc: 0.8969 - val_loss: 0.4851 - val_acc: 0.8125\n",
            "\n",
            "Epoch 00009: val_loss improved from 0.50274 to 0.48505, saving model to drive/My Drive/Resultado/weights_architecture_5.hdf5\n",
            "Epoch 10/50\n",
            " - 1s - loss: 0.4452 - acc: 0.8344 - val_loss: 0.5596 - val_acc: 0.7656\n",
            "\n",
            "Epoch 00010: val_loss did not improve from 0.48505\n",
            "Epoch 11/50\n",
            " - 1s - loss: 0.4417 - acc: 0.8406 - val_loss: 0.7178 - val_acc: 0.5469\n",
            "\n",
            "Epoch 00011: val_loss did not improve from 0.48505\n",
            "Epoch 12/50\n",
            " - 1s - loss: 0.4729 - acc: 0.8469 - val_loss: 1.9181 - val_acc: 0.4062\n",
            "\n",
            "Epoch 00012: val_loss did not improve from 0.48505\n",
            "Epoch 13/50\n",
            " - 1s - loss: 0.3899 - acc: 0.8500 - val_loss: 0.4917 - val_acc: 0.8281\n",
            "\n",
            "Epoch 00013: val_loss did not improve from 0.48505\n",
            "Epoch 14/50\n",
            " - 1s - loss: 0.3434 - acc: 0.8844 - val_loss: 0.4317 - val_acc: 0.7969\n",
            "\n",
            "Epoch 00014: val_loss improved from 0.48505 to 0.43173, saving model to drive/My Drive/Resultado/weights_architecture_5.hdf5\n",
            "Epoch 15/50\n",
            " - 1s - loss: 0.3921 - acc: 0.8469 - val_loss: 0.4682 - val_acc: 0.8750\n",
            "\n",
            "Epoch 00015: val_loss did not improve from 0.43173\n",
            "Epoch 16/50\n",
            " - 1s - loss: 0.2952 - acc: 0.8844 - val_loss: 0.6080 - val_acc: 0.7500\n",
            "\n",
            "Epoch 00016: val_loss did not improve from 0.43173\n",
            "Epoch 17/50\n",
            " - 1s - loss: 0.3157 - acc: 0.8875 - val_loss: 0.5966 - val_acc: 0.7656\n",
            "\n",
            "Epoch 00017: val_loss did not improve from 0.43173\n",
            "Epoch 18/50\n",
            " - 1s - loss: 0.2298 - acc: 0.9406 - val_loss: 0.9694 - val_acc: 0.4531\n",
            "\n",
            "Epoch 00018: val_loss did not improve from 0.43173\n",
            "Epoch 19/50\n",
            " - 1s - loss: 0.3095 - acc: 0.8969 - val_loss: 0.8192 - val_acc: 0.6719\n",
            "\n",
            "Epoch 00019: val_loss did not improve from 0.43173\n",
            "Epoch 20/50\n",
            " - 1s - loss: 0.2867 - acc: 0.9000 - val_loss: 0.5322 - val_acc: 0.7812\n",
            "\n",
            "Epoch 00020: val_loss did not improve from 0.43173\n",
            "Epoch 21/50\n",
            " - 1s - loss: 0.2684 - acc: 0.9125 - val_loss: 0.7178 - val_acc: 0.5000\n",
            "\n",
            "Epoch 00021: val_loss did not improve from 0.43173\n",
            "Epoch 22/50\n",
            " - 1s - loss: 0.2928 - acc: 0.9000 - val_loss: 0.4463 - val_acc: 0.7969\n",
            "\n",
            "Epoch 00022: val_loss did not improve from 0.43173\n",
            "Epoch 23/50\n",
            " - 1s - loss: 0.4376 - acc: 0.8469 - val_loss: 0.5258 - val_acc: 0.6562\n",
            "\n",
            "Epoch 00023: val_loss did not improve from 0.43173\n",
            "Epoch 24/50\n",
            " - 1s - loss: 0.3710 - acc: 0.8906 - val_loss: 0.8177 - val_acc: 0.5625\n",
            "\n",
            "Epoch 00024: val_loss did not improve from 0.43173\n",
            "Epoch 25/50\n",
            " - 1s - loss: 0.3812 - acc: 0.8571 - val_loss: 0.5311 - val_acc: 0.8548\n",
            "\n",
            "Epoch 00025: val_loss did not improve from 0.43173\n",
            "Epoch 26/50\n",
            " - 1s - loss: 0.3391 - acc: 0.8844 - val_loss: 0.4949 - val_acc: 0.7969\n",
            "\n",
            "Epoch 00026: val_loss did not improve from 0.43173\n",
            "Epoch 27/50\n",
            " - 1s - loss: 0.3283 - acc: 0.9094 - val_loss: 0.6960 - val_acc: 0.5469\n",
            "\n",
            "Epoch 00027: val_loss did not improve from 0.43173\n",
            "Epoch 28/50\n",
            " - 1s - loss: 0.3182 - acc: 0.8875 - val_loss: 0.4441 - val_acc: 0.8594\n",
            "\n",
            "Epoch 00028: val_loss did not improve from 0.43173\n",
            "Epoch 29/50\n",
            " - 1s - loss: 0.4090 - acc: 0.8438 - val_loss: 0.7854 - val_acc: 0.6094\n",
            "\n",
            "Epoch 00029: val_loss did not improve from 0.43173\n",
            "Epoch 30/50\n",
            " - 1s - loss: 0.3427 - acc: 0.8875 - val_loss: 0.9141 - val_acc: 0.5312\n",
            "\n",
            "Epoch 00030: val_loss did not improve from 0.43173\n",
            "Epoch 31/50\n",
            " - 1s - loss: 0.2781 - acc: 0.9219 - val_loss: 0.5343 - val_acc: 0.7188\n",
            "\n",
            "Epoch 00031: val_loss did not improve from 0.43173\n",
            "Epoch 32/50\n",
            " - 1s - loss: 0.2642 - acc: 0.9125 - val_loss: 0.4179 - val_acc: 0.8438\n",
            "\n",
            "Epoch 00032: val_loss improved from 0.43173 to 0.41791, saving model to drive/My Drive/Resultado/weights_architecture_5.hdf5\n",
            "Epoch 33/50\n",
            " - 1s - loss: 0.2213 - acc: 0.9406 - val_loss: 0.4566 - val_acc: 0.7969\n",
            "\n",
            "Epoch 00033: val_loss did not improve from 0.41791\n",
            "Epoch 34/50\n",
            " - 1s - loss: 0.3787 - acc: 0.8906 - val_loss: 0.5867 - val_acc: 0.6719\n",
            "\n",
            "Epoch 00034: val_loss did not improve from 0.41791\n",
            "Epoch 35/50\n",
            " - 1s - loss: 0.2609 - acc: 0.9219 - val_loss: 0.4982 - val_acc: 0.7812\n",
            "\n",
            "Epoch 00035: val_loss did not improve from 0.41791\n",
            "Epoch 36/50\n",
            " - 1s - loss: 0.2594 - acc: 0.9188 - val_loss: 0.5840 - val_acc: 0.7031\n",
            "\n",
            "Epoch 00036: val_loss did not improve from 0.41791\n",
            "Epoch 37/50\n",
            " - 1s - loss: 0.2756 - acc: 0.9000 - val_loss: 0.6276 - val_acc: 0.6562\n",
            "\n",
            "Epoch 00037: val_loss did not improve from 0.41791\n",
            "Epoch 38/50\n",
            " - 1s - loss: 0.3285 - acc: 0.8875 - val_loss: 0.6833 - val_acc: 0.5625\n",
            "\n",
            "Epoch 00038: val_loss did not improve from 0.41791\n",
            "Epoch 39/50\n",
            " - 1s - loss: 0.2277 - acc: 0.9281 - val_loss: 0.7302 - val_acc: 0.6562\n",
            "\n",
            "Epoch 00039: val_loss did not improve from 0.41791\n",
            "Epoch 40/50\n",
            " - 1s - loss: 0.3286 - acc: 0.8781 - val_loss: 0.7483 - val_acc: 0.5312\n",
            "\n",
            "Epoch 00040: val_loss did not improve from 0.41791\n",
            "Epoch 41/50\n",
            " - 1s - loss: 0.2904 - acc: 0.8875 - val_loss: 0.7829 - val_acc: 0.4844\n",
            "\n",
            "Epoch 00041: val_loss did not improve from 0.41791\n",
            "Epoch 42/50\n",
            " - 1s - loss: 0.2151 - acc: 0.9250 - val_loss: 0.8565 - val_acc: 0.4531\n",
            "\n",
            "Epoch 00042: val_loss did not improve from 0.41791\n",
            "Epoch 43/50\n",
            " - 1s - loss: 0.2229 - acc: 0.9281 - val_loss: 0.7435 - val_acc: 0.5938\n",
            "\n",
            "Epoch 00043: val_loss did not improve from 0.41791\n",
            "Epoch 44/50\n",
            " - 1s - loss: 0.3451 - acc: 0.9031 - val_loss: 0.9068 - val_acc: 0.5469\n",
            "\n",
            "Epoch 00044: val_loss did not improve from 0.41791\n",
            "Epoch 45/50\n",
            " - 1s - loss: 0.3326 - acc: 0.8719 - val_loss: 1.2197 - val_acc: 0.4375\n",
            "\n",
            "Epoch 00045: val_loss did not improve from 0.41791\n",
            "Epoch 46/50\n",
            " - 1s - loss: 0.2759 - acc: 0.9031 - val_loss: 0.7779 - val_acc: 0.5469\n",
            "\n",
            "Epoch 00046: val_loss did not improve from 0.41791\n",
            "Epoch 47/50\n",
            " - 1s - loss: 0.1746 - acc: 0.9656 - val_loss: 0.7594 - val_acc: 0.6250\n",
            "\n",
            "Epoch 00047: val_loss did not improve from 0.41791\n",
            "Epoch 48/50\n",
            " - 1s - loss: 0.2489 - acc: 0.9062 - val_loss: 0.5741 - val_acc: 0.7500\n",
            "\n",
            "Epoch 00048: val_loss did not improve from 0.41791\n",
            "Epoch 49/50\n",
            " - 1s - loss: 0.1826 - acc: 0.9500 - val_loss: 0.9811 - val_acc: 0.5312\n",
            "\n",
            "Epoch 00049: val_loss did not improve from 0.41791\n",
            "Epoch 50/50\n",
            " - 1s - loss: 0.2530 - acc: 0.9406 - val_loss: 0.6775 - val_acc: 0.6094\n",
            "\n",
            "Epoch 00050: val_loss did not improve from 0.41791\n"
          ],
          "name": "stdout"
        }
      ]
    },
    {
      "metadata": {
        "colab_type": "code",
        "id": "bqNxaqg5j6-Q",
        "outputId": "34b0c14e-9e75-48d6-a5a5-83c971b80599",
        "colab": {
          "base_uri": "https://localhost:8080/",
          "height": 380
        }
      },
      "cell_type": "code",
      "source": [
        "# plotar loss e accuracy para os datasets 'train' e 'test'\n",
        "plt.style.use(\"ggplot\")\n",
        "plt.figure()\n",
        "plt.plot(training.history['acc'], label='Accuracy')\n",
        "plt.plot(training.history['loss'], label='Loss')\n",
        "plt.xlabel('Epochs')\n",
        "plt.ylabel('Accuracy')\n",
        "plt.title(\"Training Loss and Accuracy\")\n",
        "plt.ylabel(\"Loss/Accuracy\")\n",
        "plt.legend()\n",
        "plt.savefig('drive/My Drive/Resultado/' + arquiteture + '.png', bbox_inches='tight')"
      ],
      "execution_count": 192,
      "outputs": [
        {
          "output_type": "display_data",
          "data": {
            "image/png": "[encoded data removed]",
            "text/plain": [
              "<matplotlib.figure.Figure at 0x7f567f2ea668>"
            ]
          },
          "metadata": {
            "tags": []
          }
        }
      ]
    },
    {
      "metadata": {
        "colab_type": "code",
        "id": "PNDCeMfZj6-X",
        "outputId": "573f2fe9-cf9f-4d0f-db39-54f2eb457457",
        "colab": {
          "base_uri": "https://localhost:8080/",
          "height": 74
        }
      },
      "cell_type": "code",
      "source": [
        "y_true, y_predict = ler_images_teste(arquiteture)"
      ],
      "execution_count": 193,
      "outputs": [
        {
          "output_type": "stream",
          "text": [
            "/usr/local/lib/python3.6/dist-packages/skimage/transform/_warps.py:84: UserWarning: The default mode, 'constant', will be changed to 'reflect' in skimage 0.15.\n",
            "  warn(\"The default mode, 'constant', will be changed to 'reflect' in \"\n"
          ],
          "name": "stderr"
        }
      ]
    },
    {
      "metadata": {
        "colab_type": "code",
        "id": "atPv7K2Jj6-g",
        "outputId": "13e466ae-9ca5-435b-ba1b-7f9b92abab2a",
        "colab": {
          "base_uri": "https://localhost:8080/",
          "height": 35
        }
      },
      "cell_type": "code",
      "source": [
        "results[arquiteture] = accuracy_score(y_true, y_predict)\n",
        "print('Test Accuracy: {:.2f}%'.format(100 * results[arquiteture]))"
      ],
      "execution_count": 194,
      "outputs": [
        {
          "output_type": "stream",
          "text": [
            "Test Accuracy: 38.43%\n"
          ],
          "name": "stdout"
        }
      ]
    },
    {
      "metadata": {
        "id": "apfIeirYD2N7",
        "colab_type": "text"
      },
      "cell_type": "markdown",
      "source": [
        "### 6 tentativa Accuracy: 74.07%"
      ]
    },
    {
      "metadata": {
        "colab_type": "text",
        "id": "xaxcjuxn7BAH"
      },
      "cell_type": "markdown",
      "source": [
        "Modelo adaptado do **Lucas Albertins**\n",
        "\n",
        "*   Sem os **dropout**\n",
        "*   Função **SGD** para compilação\n",
        "*   **BatchNormalization** antes da ultima camada Dense\n"
      ]
    },
    {
      "metadata": {
        "colab_type": "code",
        "id": "C2UuO-jqD44u",
        "colab": {}
      },
      "cell_type": "code",
      "source": [
        "from keras.layers import Conv2D, MaxPooling2D, GlobalMaxPooling2D, BatchNormalization\n",
        "from keras.regularizers import l2\n",
        "\n",
        "model = Sequential()\n",
        "\n",
        "model.add(Conv2D(32, (3, 3), activation='relu', kernel_regularizer=l2(1e-4), \n",
        "                 input_shape=(None, None, 3)))\n",
        "model.add(BatchNormalization())\n",
        "model.add(Conv2D(32, (3, 3), activation='relu', kernel_regularizer=l2(1e-4)))\n",
        "model.add(BatchNormalization())\n",
        "model.add(MaxPooling2D((2, 2)))\n",
        "\n",
        "model.add(Conv2D(64, (3, 3), activation='relu', kernel_regularizer=l2(1e-4)))\n",
        "model.add(BatchNormalization())\n",
        "model.add(Conv2D(64, (3, 3), activation='relu', kernel_regularizer=l2(1e-4)))\n",
        "model.add(BatchNormalization())\n",
        "model.add(MaxPooling2D((2, 2)))\n",
        "\n",
        "model.add(Conv2D(128, (1,1), kernel_regularizer=l2(1e-4)))\n",
        "model.add(GlobalMaxPooling2D())\n",
        "\n",
        "model.add(Dense(256, activation='relu', kernel_regularizer=l2(1e-4)))\n",
        "model.add(BatchNormalization())\n",
        "model.add(Dense(2, activation='sigmoid', kernel_regularizer=l2(1e-4)))"
      ],
      "execution_count": 0,
      "outputs": []
    },
    {
      "metadata": {
        "colab_type": "code",
        "id": "I7mu97znD45M",
        "colab": {}
      },
      "cell_type": "code",
      "source": [
        "model.compile(SGD(lr=0.03, momentum=0.0, decay=0.0, nesterov=False), \n",
        "              loss='binary_crossentropy', metrics=['accuracy'])"
      ],
      "execution_count": 0,
      "outputs": []
    },
    {
      "metadata": {
        "colab_type": "code",
        "id": "QQFrxD_Rj9wz",
        "colab": {}
      },
      "cell_type": "code",
      "source": [
        "arquiteture = 'architecture_6'"
      ],
      "execution_count": 0,
      "outputs": []
    },
    {
      "metadata": {
        "colab_type": "code",
        "id": "ihB-VbCRkyUR",
        "colab": {}
      },
      "cell_type": "code",
      "source": [
        "checkpointer = ModelCheckpoint(filepath='drive/My Drive/Resultado/weights_' + arquiteture + '.hdf5', verbose=1, save_best_only=True)"
      ],
      "execution_count": 0,
      "outputs": []
    },
    {
      "metadata": {
        "colab_type": "code",
        "id": "HRAakAz46scS",
        "outputId": "2232266b-d8d9-4693-f74d-590b3b23d829",
        "colab": {
          "base_uri": "https://localhost:8080/",
          "height": 3710
        }
      },
      "cell_type": "code",
      "source": [
        "training = model.fit_generator(train_batches, steps_per_epoch=stepsPerEpoche, \n",
        "                   validation_data=validation_batches, validation_steps=validationSteps,\n",
        "                   epochs=50, verbose=2, callbacks=[checkpointer])"
      ],
      "execution_count": 199,
      "outputs": [
        {
          "output_type": "stream",
          "text": [
            "Epoch 1/50\n",
            " - 7s - loss: 0.5166 - acc: 0.7625 - val_loss: 1.9967 - val_acc: 0.4688\n",
            "\n",
            "Epoch 00001: val_loss improved from inf to 1.99675, saving model to drive/My Drive/Resultado/weights_architecture_6.hdf5\n",
            "Epoch 2/50\n",
            " - 0s - loss: 0.3811 - acc: 0.8582 - val_loss: 1.4380 - val_acc: 0.5781\n",
            "\n",
            "Epoch 00002: val_loss improved from 1.99675 to 1.43801, saving model to drive/My Drive/Resultado/weights_architecture_6.hdf5\n",
            "Epoch 3/50\n",
            " - 0s - loss: 0.3726 - acc: 0.8688 - val_loss: 1.1871 - val_acc: 0.6562\n",
            "\n",
            "Epoch 00003: val_loss improved from 1.43801 to 1.18709, saving model to drive/My Drive/Resultado/weights_architecture_6.hdf5\n",
            "Epoch 4/50\n",
            " - 0s - loss: 0.3521 - acc: 0.8781 - val_loss: 1.1999 - val_acc: 0.6250\n",
            "\n",
            "Epoch 00004: val_loss did not improve from 1.18709\n",
            "Epoch 5/50\n",
            " - 0s - loss: 0.3344 - acc: 0.8719 - val_loss: 0.5523 - val_acc: 0.7344\n",
            "\n",
            "Epoch 00005: val_loss improved from 1.18709 to 0.55230, saving model to drive/My Drive/Resultado/weights_architecture_6.hdf5\n",
            "Epoch 6/50\n",
            " - 0s - loss: 0.3945 - acc: 0.8438 - val_loss: 1.1434 - val_acc: 0.5156\n",
            "\n",
            "Epoch 00006: val_loss did not improve from 0.55230\n",
            "Epoch 7/50\n",
            " - 1s - loss: 0.3537 - acc: 0.9000 - val_loss: 0.4469 - val_acc: 0.7812\n",
            "\n",
            "Epoch 00007: val_loss improved from 0.55230 to 0.44687, saving model to drive/My Drive/Resultado/weights_architecture_6.hdf5\n",
            "Epoch 8/50\n",
            " - 1s - loss: 0.2675 - acc: 0.9125 - val_loss: 0.6816 - val_acc: 0.6875\n",
            "\n",
            "Epoch 00008: val_loss did not improve from 0.44687\n",
            "Epoch 9/50\n",
            " - 1s - loss: 0.2910 - acc: 0.8937 - val_loss: 0.9186 - val_acc: 0.5469\n",
            "\n",
            "Epoch 00009: val_loss did not improve from 0.44687\n",
            "Epoch 10/50\n",
            " - 1s - loss: 0.2829 - acc: 0.9094 - val_loss: 0.9596 - val_acc: 0.5781\n",
            "\n",
            "Epoch 00010: val_loss did not improve from 0.44687\n",
            "Epoch 11/50\n",
            " - 1s - loss: 0.3363 - acc: 0.8844 - val_loss: 0.9451 - val_acc: 0.6719\n",
            "\n",
            "Epoch 00011: val_loss did not improve from 0.44687\n",
            "Epoch 12/50\n",
            " - 1s - loss: 0.4714 - acc: 0.8094 - val_loss: 0.5525 - val_acc: 0.7500\n",
            "\n",
            "Epoch 00012: val_loss did not improve from 0.44687\n",
            "Epoch 13/50\n",
            " - 1s - loss: 0.3806 - acc: 0.8500 - val_loss: 0.5591 - val_acc: 0.8125\n",
            "\n",
            "Epoch 00013: val_loss did not improve from 0.44687\n",
            "Epoch 14/50\n",
            " - 1s - loss: 0.3210 - acc: 0.8812 - val_loss: 0.5469 - val_acc: 0.7812\n",
            "\n",
            "Epoch 00014: val_loss did not improve from 0.44687\n",
            "Epoch 15/50\n",
            " - 1s - loss: 0.2584 - acc: 0.9281 - val_loss: 0.5073 - val_acc: 0.8125\n",
            "\n",
            "Epoch 00015: val_loss did not improve from 0.44687\n",
            "Epoch 16/50\n",
            " - 1s - loss: 0.3398 - acc: 0.8781 - val_loss: 0.9906 - val_acc: 0.5625\n",
            "\n",
            "Epoch 00016: val_loss did not improve from 0.44687\n",
            "Epoch 17/50\n",
            " - 1s - loss: 0.3012 - acc: 0.8781 - val_loss: 0.9093 - val_acc: 0.6719\n",
            "\n",
            "Epoch 00017: val_loss did not improve from 0.44687\n",
            "Epoch 18/50\n",
            " - 1s - loss: 0.2667 - acc: 0.9125 - val_loss: 0.8080 - val_acc: 0.6875\n",
            "\n",
            "Epoch 00018: val_loss did not improve from 0.44687\n",
            "Epoch 19/50\n",
            " - 1s - loss: 0.2739 - acc: 0.8969 - val_loss: 0.4097 - val_acc: 0.8594\n",
            "\n",
            "Epoch 00019: val_loss improved from 0.44687 to 0.40973, saving model to drive/My Drive/Resultado/weights_architecture_6.hdf5\n",
            "Epoch 20/50\n",
            " - 1s - loss: 0.3172 - acc: 0.9000 - val_loss: 0.6899 - val_acc: 0.8125\n",
            "\n",
            "Epoch 00020: val_loss did not improve from 0.40973\n",
            "Epoch 21/50\n",
            " - 1s - loss: 0.1925 - acc: 0.9562 - val_loss: 0.8331 - val_acc: 0.6406\n",
            "\n",
            "Epoch 00021: val_loss did not improve from 0.40973\n",
            "Epoch 22/50\n",
            " - 1s - loss: 0.3124 - acc: 0.8750 - val_loss: 0.4306 - val_acc: 0.8594\n",
            "\n",
            "Epoch 00022: val_loss did not improve from 0.40973\n",
            "Epoch 23/50\n",
            " - 1s - loss: 0.2726 - acc: 0.9031 - val_loss: 0.8898 - val_acc: 0.6875\n",
            "\n",
            "Epoch 00023: val_loss did not improve from 0.40973\n",
            "Epoch 24/50\n",
            " - 1s - loss: 0.3059 - acc: 0.8844 - val_loss: 0.7514 - val_acc: 0.6875\n",
            "\n",
            "Epoch 00024: val_loss did not improve from 0.40973\n",
            "Epoch 25/50\n",
            " - 1s - loss: 0.2232 - acc: 0.9219 - val_loss: 1.0038 - val_acc: 0.5938\n",
            "\n",
            "Epoch 00025: val_loss did not improve from 0.40973\n",
            "Epoch 26/50\n",
            " - 1s - loss: 0.2245 - acc: 0.9219 - val_loss: 1.1457 - val_acc: 0.7097\n",
            "\n",
            "Epoch 00026: val_loss did not improve from 0.40973\n",
            "Epoch 27/50\n",
            " - 1s - loss: 0.2029 - acc: 0.9437 - val_loss: 0.6693 - val_acc: 0.7812\n",
            "\n",
            "Epoch 00027: val_loss did not improve from 0.40973\n",
            "Epoch 28/50\n",
            " - 1s - loss: 0.1546 - acc: 0.9469 - val_loss: 0.6141 - val_acc: 0.7656\n",
            "\n",
            "Epoch 00028: val_loss did not improve from 0.40973\n",
            "Epoch 29/50\n",
            " - 1s - loss: 0.1987 - acc: 0.9350 - val_loss: 1.1538 - val_acc: 0.6250\n",
            "\n",
            "Epoch 00029: val_loss did not improve from 0.40973\n",
            "Epoch 30/50\n",
            " - 1s - loss: 0.2175 - acc: 0.9375 - val_loss: 1.1660 - val_acc: 0.5781\n",
            "\n",
            "Epoch 00030: val_loss did not improve from 0.40973\n",
            "Epoch 31/50\n",
            " - 1s - loss: 0.2460 - acc: 0.9281 - val_loss: 0.2665 - val_acc: 0.9062\n",
            "\n",
            "Epoch 00031: val_loss improved from 0.40973 to 0.26652, saving model to drive/My Drive/Resultado/weights_architecture_6.hdf5\n",
            "Epoch 32/50\n",
            " - 1s - loss: 0.2668 - acc: 0.8781 - val_loss: 0.4326 - val_acc: 0.8594\n",
            "\n",
            "Epoch 00032: val_loss did not improve from 0.26652\n",
            "Epoch 33/50\n",
            " - 1s - loss: 0.2580 - acc: 0.9188 - val_loss: 1.7044 - val_acc: 0.5000\n",
            "\n",
            "Epoch 00033: val_loss did not improve from 0.26652\n",
            "Epoch 34/50\n",
            " - 1s - loss: 0.3192 - acc: 0.8906 - val_loss: 0.7561 - val_acc: 0.6875\n",
            "\n",
            "Epoch 00034: val_loss did not improve from 0.26652\n",
            "Epoch 35/50\n",
            " - 1s - loss: 0.2503 - acc: 0.9094 - val_loss: 0.7106 - val_acc: 0.7031\n",
            "\n",
            "Epoch 00035: val_loss did not improve from 0.26652\n",
            "Epoch 36/50\n",
            " - 1s - loss: 0.2424 - acc: 0.9125 - val_loss: 1.4492 - val_acc: 0.5312\n",
            "\n",
            "Epoch 00036: val_loss did not improve from 0.26652\n",
            "Epoch 37/50\n",
            " - 1s - loss: 0.2299 - acc: 0.9094 - val_loss: 1.7944 - val_acc: 0.5938\n",
            "\n",
            "Epoch 00037: val_loss did not improve from 0.26652\n",
            "Epoch 38/50\n",
            " - 1s - loss: 0.2248 - acc: 0.9219 - val_loss: 0.7036 - val_acc: 0.7031\n",
            "\n",
            "Epoch 00038: val_loss did not improve from 0.26652\n",
            "Epoch 39/50\n",
            " - 1s - loss: 0.2273 - acc: 0.9344 - val_loss: 0.6907 - val_acc: 0.7969\n",
            "\n",
            "Epoch 00039: val_loss did not improve from 0.26652\n",
            "Epoch 40/50\n",
            " - 1s - loss: 0.2511 - acc: 0.9125 - val_loss: 0.5678 - val_acc: 0.7656\n",
            "\n",
            "Epoch 00040: val_loss did not improve from 0.26652\n",
            "Epoch 41/50\n",
            " - 1s - loss: 0.2186 - acc: 0.9281 - val_loss: 0.2850 - val_acc: 0.8750\n",
            "\n",
            "Epoch 00041: val_loss did not improve from 0.26652\n",
            "Epoch 42/50\n",
            " - 1s - loss: 0.1353 - acc: 0.9625 - val_loss: 1.3553 - val_acc: 0.6094\n",
            "\n",
            "Epoch 00042: val_loss did not improve from 0.26652\n",
            "Epoch 43/50\n",
            " - 1s - loss: 0.2214 - acc: 0.9375 - val_loss: 0.8316 - val_acc: 0.7031\n",
            "\n",
            "Epoch 00043: val_loss did not improve from 0.26652\n",
            "Epoch 44/50\n",
            " - 1s - loss: 0.1623 - acc: 0.9562 - val_loss: 0.1442 - val_acc: 0.9844\n",
            "\n",
            "Epoch 00044: val_loss improved from 0.26652 to 0.14419, saving model to drive/My Drive/Resultado/weights_architecture_6.hdf5\n",
            "Epoch 45/50\n",
            " - 1s - loss: 0.1416 - acc: 0.9625 - val_loss: 0.7494 - val_acc: 0.7500\n",
            "\n",
            "Epoch 00045: val_loss did not improve from 0.14419\n",
            "Epoch 46/50\n",
            " - 1s - loss: 0.1260 - acc: 0.9688 - val_loss: 0.3575 - val_acc: 0.8750\n",
            "\n",
            "Epoch 00046: val_loss did not improve from 0.14419\n",
            "Epoch 47/50\n",
            " - 1s - loss: 0.2109 - acc: 0.9375 - val_loss: 0.7693 - val_acc: 0.6719\n",
            "\n",
            "Epoch 00047: val_loss did not improve from 0.14419\n",
            "Epoch 48/50\n",
            " - 1s - loss: 0.2157 - acc: 0.9562 - val_loss: 0.1777 - val_acc: 0.9375\n",
            "\n",
            "Epoch 00048: val_loss did not improve from 0.14419\n",
            "Epoch 49/50\n",
            " - 1s - loss: 0.2037 - acc: 0.9156 - val_loss: 0.2884 - val_acc: 0.8750\n",
            "\n",
            "Epoch 00049: val_loss did not improve from 0.14419\n",
            "Epoch 50/50\n",
            " - 1s - loss: 0.2091 - acc: 0.9250 - val_loss: 0.3387 - val_acc: 0.9062\n",
            "\n",
            "Epoch 00050: val_loss did not improve from 0.14419\n"
          ],
          "name": "stdout"
        }
      ]
    },
    {
      "metadata": {
        "colab_type": "code",
        "id": "OqkWIHX3j9w7",
        "outputId": "f4f3cdf9-3d69-4da7-9aae-152726d33471",
        "colab": {
          "base_uri": "https://localhost:8080/",
          "height": 380
        }
      },
      "cell_type": "code",
      "source": [
        "# plotar loss e accuracy para os datasets 'train' e 'test'\n",
        "plt.style.use(\"ggplot\")\n",
        "plt.figure()\n",
        "plt.plot(training.history['acc'], label='Accuracy')\n",
        "plt.plot(training.history['loss'], label='Loss')\n",
        "plt.xlabel('Epochs')\n",
        "plt.ylabel('Accuracy')\n",
        "plt.title(\"Training Loss and Accuracy\")\n",
        "plt.ylabel(\"Loss/Accuracy\")\n",
        "plt.legend()\n",
        "plt.savefig('drive/My Drive/Resultado/' + arquiteture + '.png', bbox_inches='tight')"
      ],
      "execution_count": 200,
      "outputs": [
        {
          "output_type": "display_data",
          "data": {
            "image/png": "[encoded data removed]",
            "text/plain": [
              "<matplotlib.figure.Figure at 0x7f567d9cfbe0>"
            ]
          },
          "metadata": {
            "tags": []
          }
        }
      ]
    },
    {
      "metadata": {
        "colab_type": "code",
        "id": "4Gkm9_wVj9w_",
        "outputId": "9dfa981b-0a9b-4e3a-9608-d72e9ce0111f",
        "colab": {
          "base_uri": "https://localhost:8080/",
          "height": 74
        }
      },
      "cell_type": "code",
      "source": [
        "y_true, y_predict = ler_images_teste(arquiteture)"
      ],
      "execution_count": 201,
      "outputs": [
        {
          "output_type": "stream",
          "text": [
            "/usr/local/lib/python3.6/dist-packages/skimage/transform/_warps.py:84: UserWarning: The default mode, 'constant', will be changed to 'reflect' in skimage 0.15.\n",
            "  warn(\"The default mode, 'constant', will be changed to 'reflect' in \"\n"
          ],
          "name": "stderr"
        }
      ]
    },
    {
      "metadata": {
        "colab_type": "code",
        "id": "seI9o-8_j9xD",
        "outputId": "a5c28cad-b55e-41d2-9f0b-c2d5497de233",
        "colab": {
          "base_uri": "https://localhost:8080/",
          "height": 35
        }
      },
      "cell_type": "code",
      "source": [
        "results[arquiteture] = accuracy_score(y_true, y_predict)\n",
        "print('Test Accuracy: {:.2f}%'.format(100 * results[arquiteture]))"
      ],
      "execution_count": 202,
      "outputs": [
        {
          "output_type": "stream",
          "text": [
            "Test Accuracy: 74.07%\n"
          ],
          "name": "stdout"
        }
      ]
    },
    {
      "metadata": {
        "id": "5gk7vmYPHddj",
        "colab_type": "text"
      },
      "cell_type": "markdown",
      "source": [
        "### 7 tentativa Accuracy: 67.97% "
      ]
    },
    {
      "metadata": {
        "colab_type": "text",
        "id": "lxzyd-4L422r"
      },
      "cell_type": "markdown",
      "source": [
        "Modelo adaptado do **Lucas Albertins**\n",
        "\n",
        "*   Sem os **dropout**\n",
        "*   Função **Adadelta** para compilação\n",
        "*   **BatchNormalization** antes da ultima camada Dense\n"
      ]
    },
    {
      "metadata": {
        "colab_type": "code",
        "id": "sIBEdGsyHhJN",
        "colab": {}
      },
      "cell_type": "code",
      "source": [
        "from keras.layers import Conv2D, MaxPooling2D, GlobalMaxPooling2D, BatchNormalization\n",
        "from keras.regularizers import l2\n",
        "from keras.optimizers import Adadelta\n",
        "\n",
        "model = Sequential()\n",
        "\n",
        "model.add(Conv2D(32, (3, 3), activation='relu', kernel_regularizer=l2(1e-4), \n",
        "                 input_shape=(None, None, 3)))\n",
        "model.add(BatchNormalization())\n",
        "model.add(Conv2D(32, (3, 3), activation='relu', kernel_regularizer=l2(1e-4)))\n",
        "model.add(BatchNormalization())\n",
        "model.add(MaxPooling2D((2, 2)))\n",
        "\n",
        "model.add(Conv2D(64, (3, 3), activation='relu', kernel_regularizer=l2(1e-4)))\n",
        "model.add(BatchNormalization())\n",
        "model.add(Conv2D(64, (3, 3), activation='relu', kernel_regularizer=l2(1e-4)))\n",
        "model.add(BatchNormalization())\n",
        "model.add(MaxPooling2D((2, 2)))\n",
        "\n",
        "model.add(Conv2D(128, (1,1), kernel_regularizer=l2(1e-4)))\n",
        "model.add(GlobalMaxPooling2D())\n",
        "\n",
        "model.add(Dense(256, activation='relu', kernel_regularizer=l2(1e-4)))\n",
        "model.add(BatchNormalization())\n",
        "model.add(Dense(2, activation='sigmoid', kernel_regularizer=l2(1e-4)))"
      ],
      "execution_count": 0,
      "outputs": []
    },
    {
      "metadata": {
        "colab_type": "code",
        "id": "P6ZvobfGHhJb",
        "colab": {}
      },
      "cell_type": "code",
      "source": [
        "model.compile(Adadelta(lr=1.0, rho=0.95, epsilon=None, decay=0.0), \n",
        "              loss='binary_crossentropy', metrics=['accuracy'])"
      ],
      "execution_count": 0,
      "outputs": []
    },
    {
      "metadata": {
        "colab_type": "code",
        "id": "ufy24IuYkBYc",
        "colab": {}
      },
      "cell_type": "code",
      "source": [
        "arquiteture = 'architecture_7'"
      ],
      "execution_count": 0,
      "outputs": []
    },
    {
      "metadata": {
        "colab_type": "code",
        "id": "TayAngUFkwJa",
        "colab": {}
      },
      "cell_type": "code",
      "source": [
        "checkpointer = ModelCheckpoint(filepath='drive/My Drive/Resultado/weights_' + arquiteture + '.hdf5', verbose=1, save_best_only=True)"
      ],
      "execution_count": 0,
      "outputs": []
    },
    {
      "metadata": {
        "colab_type": "code",
        "id": "mXDKyOFa4l2t",
        "outputId": "33bc3e31-faa6-4e6e-8ed5-3f02bbe722ee",
        "colab": {
          "base_uri": "https://localhost:8080/",
          "height": 3710
        }
      },
      "cell_type": "code",
      "source": [
        "training = model.fit_generator(train_batches, steps_per_epoch=stepsPerEpoche, \n",
        "                   validation_data=validation_batches, validation_steps=validationSteps,\n",
        "                   epochs=50, verbose=2, callbacks=[checkpointer])"
      ],
      "execution_count": 207,
      "outputs": [
        {
          "output_type": "stream",
          "text": [
            "Epoch 1/50\n",
            " - 8s - loss: 0.4815 - acc: 0.7906 - val_loss: 0.6974 - val_acc: 0.7031\n",
            "\n",
            "Epoch 00001: val_loss improved from inf to 0.69738, saving model to drive/My Drive/Resultado/weights_architecture_7.hdf5\n",
            "Epoch 2/50\n",
            " - 1s - loss: 0.4348 - acc: 0.8531 - val_loss: 1.4162 - val_acc: 0.6406\n",
            "\n",
            "Epoch 00002: val_loss did not improve from 0.69738\n",
            "Epoch 3/50\n",
            " - 1s - loss: 0.2679 - acc: 0.9250 - val_loss: 0.3155 - val_acc: 0.8750\n",
            "\n",
            "Epoch 00003: val_loss improved from 0.69738 to 0.31546, saving model to drive/My Drive/Resultado/weights_architecture_7.hdf5\n",
            "Epoch 4/50\n",
            " - 1s - loss: 0.3308 - acc: 0.8750 - val_loss: 0.7426 - val_acc: 0.7656\n",
            "\n",
            "Epoch 00004: val_loss did not improve from 0.31546\n",
            "Epoch 5/50\n",
            " - 1s - loss: 0.3004 - acc: 0.9156 - val_loss: 0.3924 - val_acc: 0.8125\n",
            "\n",
            "Epoch 00005: val_loss did not improve from 0.31546\n",
            "Epoch 6/50\n",
            " - 1s - loss: 0.2901 - acc: 0.8969 - val_loss: 0.7253 - val_acc: 0.6719\n",
            "\n",
            "Epoch 00006: val_loss did not improve from 0.31546\n",
            "Epoch 7/50\n",
            " - 0s - loss: 0.2366 - acc: 0.9281 - val_loss: 0.6462 - val_acc: 0.8281\n",
            "\n",
            "Epoch 00007: val_loss did not improve from 0.31546\n",
            "Epoch 8/50\n",
            " - 1s - loss: 0.3000 - acc: 0.8906 - val_loss: 0.4925 - val_acc: 0.7500\n",
            "\n",
            "Epoch 00008: val_loss did not improve from 0.31546\n",
            "Epoch 9/50\n",
            " - 1s - loss: 0.2506 - acc: 0.9062 - val_loss: 0.7679 - val_acc: 0.7188\n",
            "\n",
            "Epoch 00009: val_loss did not improve from 0.31546\n",
            "Epoch 10/50\n",
            " - 1s - loss: 0.2237 - acc: 0.9375 - val_loss: 0.5462 - val_acc: 0.8125\n",
            "\n",
            "Epoch 00010: val_loss did not improve from 0.31546\n",
            "Epoch 11/50\n",
            " - 1s - loss: 0.3376 - acc: 0.8719 - val_loss: 1.0517 - val_acc: 0.7188\n",
            "\n",
            "Epoch 00011: val_loss did not improve from 0.31546\n",
            "Epoch 12/50\n",
            " - 1s - loss: 0.3634 - acc: 0.8750 - val_loss: 0.6760 - val_acc: 0.7344\n",
            "\n",
            "Epoch 00012: val_loss did not improve from 0.31546\n",
            "Epoch 13/50\n",
            " - 1s - loss: 0.2399 - acc: 0.9281 - val_loss: 0.5031 - val_acc: 0.8594\n",
            "\n",
            "Epoch 00013: val_loss did not improve from 0.31546\n",
            "Epoch 14/50\n",
            " - 1s - loss: 0.2899 - acc: 0.8844 - val_loss: 0.4484 - val_acc: 0.8906\n",
            "\n",
            "Epoch 00014: val_loss did not improve from 0.31546\n",
            "Epoch 15/50\n",
            " - 1s - loss: 0.2532 - acc: 0.9156 - val_loss: 0.4336 - val_acc: 0.8594\n",
            "\n",
            "Epoch 00015: val_loss did not improve from 0.31546\n",
            "Epoch 16/50\n",
            " - 1s - loss: 0.2821 - acc: 0.9031 - val_loss: 0.4754 - val_acc: 0.8750\n",
            "\n",
            "Epoch 00016: val_loss did not improve from 0.31546\n",
            "Epoch 17/50\n",
            " - 1s - loss: 0.2927 - acc: 0.8844 - val_loss: 1.5936 - val_acc: 0.5625\n",
            "\n",
            "Epoch 00017: val_loss did not improve from 0.31546\n",
            "Epoch 18/50\n",
            " - 1s - loss: 0.2577 - acc: 0.9375 - val_loss: 1.0851 - val_acc: 0.7344\n",
            "\n",
            "Epoch 00018: val_loss did not improve from 0.31546\n",
            "Epoch 19/50\n",
            " - 1s - loss: 0.2629 - acc: 0.9062 - val_loss: 0.8969 - val_acc: 0.7031\n",
            "\n",
            "Epoch 00019: val_loss did not improve from 0.31546\n",
            "Epoch 20/50\n",
            " - 1s - loss: 0.3378 - acc: 0.8906 - val_loss: 0.8595 - val_acc: 0.6875\n",
            "\n",
            "Epoch 00020: val_loss did not improve from 0.31546\n",
            "Epoch 21/50\n",
            " - 1s - loss: 0.2739 - acc: 0.9094 - val_loss: 1.5428 - val_acc: 0.5312\n",
            "\n",
            "Epoch 00021: val_loss did not improve from 0.31546\n",
            "Epoch 22/50\n",
            " - 1s - loss: 0.2444 - acc: 0.9250 - val_loss: 1.0435 - val_acc: 0.6250\n",
            "\n",
            "Epoch 00022: val_loss did not improve from 0.31546\n",
            "Epoch 23/50\n",
            " - 1s - loss: 0.3199 - acc: 0.8781 - val_loss: 0.8022 - val_acc: 0.7188\n",
            "\n",
            "Epoch 00023: val_loss did not improve from 0.31546\n",
            "Epoch 24/50\n",
            " - 1s - loss: 0.1798 - acc: 0.9531 - val_loss: 0.4746 - val_acc: 0.8125\n",
            "\n",
            "Epoch 00024: val_loss did not improve from 0.31546\n",
            "Epoch 25/50\n",
            " - 1s - loss: 0.1780 - acc: 0.9531 - val_loss: 0.7339 - val_acc: 0.7344\n",
            "\n",
            "Epoch 00025: val_loss did not improve from 0.31546\n",
            "Epoch 26/50\n",
            " - 1s - loss: 0.2314 - acc: 0.9219 - val_loss: 0.4937 - val_acc: 0.7656\n",
            "\n",
            "Epoch 00026: val_loss did not improve from 0.31546\n",
            "Epoch 27/50\n",
            " - 1s - loss: 0.1972 - acc: 0.9437 - val_loss: 0.8711 - val_acc: 0.7903\n",
            "\n",
            "Epoch 00027: val_loss did not improve from 0.31546\n",
            "Epoch 28/50\n",
            " - 1s - loss: 0.2399 - acc: 0.9250 - val_loss: 0.6401 - val_acc: 0.7500\n",
            "\n",
            "Epoch 00028: val_loss did not improve from 0.31546\n",
            "Epoch 29/50\n",
            " - 1s - loss: 0.2501 - acc: 0.9281 - val_loss: 1.0117 - val_acc: 0.7344\n",
            "\n",
            "Epoch 00029: val_loss did not improve from 0.31546\n",
            "Epoch 30/50\n",
            " - 1s - loss: 0.3207 - acc: 0.9094 - val_loss: 0.4566 - val_acc: 0.8438\n",
            "\n",
            "Epoch 00030: val_loss did not improve from 0.31546\n",
            "Epoch 31/50\n",
            " - 1s - loss: 0.3520 - acc: 0.8719 - val_loss: 0.2980 - val_acc: 0.8750\n",
            "\n",
            "Epoch 00031: val_loss improved from 0.31546 to 0.29795, saving model to drive/My Drive/Resultado/weights_architecture_7.hdf5\n",
            "Epoch 32/50\n",
            " - 1s - loss: 0.2456 - acc: 0.9062 - val_loss: 0.3969 - val_acc: 0.8750\n",
            "\n",
            "Epoch 00032: val_loss did not improve from 0.29795\n",
            "Epoch 33/50\n",
            " - 1s - loss: 0.3240 - acc: 0.8875 - val_loss: 0.3484 - val_acc: 0.9062\n",
            "\n",
            "Epoch 00033: val_loss did not improve from 0.29795\n",
            "Epoch 34/50\n",
            " - 1s - loss: 0.1771 - acc: 0.9532 - val_loss: 0.3515 - val_acc: 0.8594\n",
            "\n",
            "Epoch 00034: val_loss did not improve from 0.29795\n",
            "Epoch 35/50\n",
            " - 1s - loss: 0.1809 - acc: 0.9469 - val_loss: 0.6471 - val_acc: 0.8594\n",
            "\n",
            "Epoch 00035: val_loss did not improve from 0.29795\n",
            "Epoch 36/50\n",
            " - 1s - loss: 0.2264 - acc: 0.9406 - val_loss: 0.5884 - val_acc: 0.7812\n",
            "\n",
            "Epoch 00036: val_loss did not improve from 0.29795\n",
            "Epoch 37/50\n",
            " - 1s - loss: 0.1958 - acc: 0.9469 - val_loss: 0.2439 - val_acc: 0.9219\n",
            "\n",
            "Epoch 00037: val_loss improved from 0.29795 to 0.24392, saving model to drive/My Drive/Resultado/weights_architecture_7.hdf5\n",
            "Epoch 38/50\n",
            " - 1s - loss: 0.2307 - acc: 0.9344 - val_loss: 0.2764 - val_acc: 0.8750\n",
            "\n",
            "Epoch 00038: val_loss did not improve from 0.24392\n",
            "Epoch 39/50\n",
            " - 1s - loss: 0.1887 - acc: 0.9469 - val_loss: 0.4840 - val_acc: 0.8438\n",
            "\n",
            "Epoch 00039: val_loss did not improve from 0.24392\n",
            "Epoch 40/50\n",
            " - 1s - loss: 0.3409 - acc: 0.8812 - val_loss: 1.1002 - val_acc: 0.5938\n",
            "\n",
            "Epoch 00040: val_loss did not improve from 0.24392\n",
            "Epoch 41/50\n",
            " - 1s - loss: 0.2192 - acc: 0.9219 - val_loss: 2.4984 - val_acc: 0.4531\n",
            "\n",
            "Epoch 00041: val_loss did not improve from 0.24392\n",
            "Epoch 42/50\n",
            " - 1s - loss: 0.2461 - acc: 0.9219 - val_loss: 0.4293 - val_acc: 0.8750\n",
            "\n",
            "Epoch 00042: val_loss did not improve from 0.24392\n",
            "Epoch 43/50\n",
            " - 1s - loss: 0.1655 - acc: 0.9500 - val_loss: 0.2452 - val_acc: 0.9688\n",
            "\n",
            "Epoch 00043: val_loss did not improve from 0.24392\n",
            "Epoch 44/50\n",
            " - 1s - loss: 0.2241 - acc: 0.9562 - val_loss: 0.3578 - val_acc: 0.8906\n",
            "\n",
            "Epoch 00044: val_loss did not improve from 0.24392\n",
            "Epoch 45/50\n",
            " - 1s - loss: 0.1783 - acc: 0.9500 - val_loss: 0.5686 - val_acc: 0.8438\n",
            "\n",
            "Epoch 00045: val_loss did not improve from 0.24392\n",
            "Epoch 46/50\n",
            " - 1s - loss: 0.2382 - acc: 0.9219 - val_loss: 0.5247 - val_acc: 0.8906\n",
            "\n",
            "Epoch 00046: val_loss did not improve from 0.24392\n",
            "Epoch 47/50\n",
            " - 1s - loss: 0.2643 - acc: 0.9062 - val_loss: 1.0661 - val_acc: 0.7188\n",
            "\n",
            "Epoch 00047: val_loss did not improve from 0.24392\n",
            "Epoch 48/50\n",
            " - 1s - loss: 0.2307 - acc: 0.9156 - val_loss: 0.8701 - val_acc: 0.6875\n",
            "\n",
            "Epoch 00048: val_loss did not improve from 0.24392\n",
            "Epoch 49/50\n",
            " - 1s - loss: 0.2096 - acc: 0.9344 - val_loss: 0.5490 - val_acc: 0.7500\n",
            "\n",
            "Epoch 00049: val_loss did not improve from 0.24392\n",
            "Epoch 50/50\n",
            " - 1s - loss: 0.1638 - acc: 0.9469 - val_loss: 0.3413 - val_acc: 0.8750\n",
            "\n",
            "Epoch 00050: val_loss did not improve from 0.24392\n"
          ],
          "name": "stdout"
        }
      ]
    },
    {
      "metadata": {
        "colab_type": "code",
        "id": "g3H7fijRkBYt",
        "outputId": "1c422487-4774-4063-e2df-dde4d76aed52",
        "colab": {
          "base_uri": "https://localhost:8080/",
          "height": 380
        }
      },
      "cell_type": "code",
      "source": [
        "# plotar loss e accuracy para os datasets 'train' e 'test'\n",
        "plt.style.use(\"ggplot\")\n",
        "plt.figure()\n",
        "plt.plot(training.history['acc'], label='Accuracy')\n",
        "plt.plot(training.history['loss'], label='Loss')\n",
        "plt.xlabel('Epochs')\n",
        "plt.ylabel('Accuracy')\n",
        "plt.title(\"Training Loss and Accuracy\")\n",
        "plt.ylabel(\"Loss/Accuracy\")\n",
        "plt.legend()\n",
        "plt.savefig('drive/My Drive/Resultado/' + arquiteture + '.png', bbox_inches='tight')"
      ],
      "execution_count": 208,
      "outputs": [
        {
          "output_type": "display_data",
          "data": {
            "image/png": "[encoded data removed]",
            "text/plain": [
              "<matplotlib.figure.Figure at 0x7f567be39fd0>"
            ]
          },
          "metadata": {
            "tags": []
          }
        }
      ]
    },
    {
      "metadata": {
        "colab_type": "code",
        "id": "AXYT6WUakBY3",
        "outputId": "cbe59ca5-a2f7-41f3-eb7b-4087a7f77cb3",
        "colab": {
          "base_uri": "https://localhost:8080/",
          "height": 74
        }
      },
      "cell_type": "code",
      "source": [
        "y_true, y_predict = ler_images_teste(arquiteture)"
      ],
      "execution_count": 209,
      "outputs": [
        {
          "output_type": "stream",
          "text": [
            "/usr/local/lib/python3.6/dist-packages/skimage/transform/_warps.py:84: UserWarning: The default mode, 'constant', will be changed to 'reflect' in skimage 0.15.\n",
            "  warn(\"The default mode, 'constant', will be changed to 'reflect' in \"\n"
          ],
          "name": "stderr"
        }
      ]
    },
    {
      "metadata": {
        "colab_type": "code",
        "id": "zKvHFps_kBZA",
        "outputId": "12655a0f-b621-4b23-ece6-514ffee373b5",
        "colab": {
          "base_uri": "https://localhost:8080/",
          "height": 35
        }
      },
      "cell_type": "code",
      "source": [
        "results[arquiteture] = accuracy_score(y_true, y_predict)\n",
        "print('Test Accuracy: {:.2f}%'.format(100 * results[arquiteture]))"
      ],
      "execution_count": 210,
      "outputs": [
        {
          "output_type": "stream",
          "text": [
            "Test Accuracy: 67.97%\n"
          ],
          "name": "stdout"
        }
      ]
    },
    {
      "metadata": {
        "id": "xBqqHjZrnDFP",
        "colab_type": "text"
      },
      "cell_type": "markdown",
      "source": [
        "### 8 tentativa Accuracy: 23.07%"
      ]
    },
    {
      "metadata": {
        "colab_type": "text",
        "id": "3Qg1zWbo5W6V"
      },
      "cell_type": "markdown",
      "source": [
        "Modelo adaptado do **Lucas Albertins**\n",
        "\n",
        "*   Função **Adadelta** para compilação\n"
      ]
    },
    {
      "metadata": {
        "colab_type": "code",
        "id": "MvjKH9LWpGsi",
        "colab": {}
      },
      "cell_type": "code",
      "source": [
        "from keras.layers import Conv2D, MaxPooling2D, GlobalMaxPooling2D, BatchNormalization\n",
        "from keras.regularizers import l2\n",
        "from keras.optimizers import Adadelta\n",
        "\n",
        "model = Sequential()\n",
        "\n",
        "model.add(Conv2D(32, (3, 3), activation='relu', kernel_regularizer=l2(1e-4), \n",
        "                 input_shape=(None, None, 3)))\n",
        "model.add(BatchNormalization())\n",
        "model.add(Conv2D(32, (3, 3), activation='relu', kernel_regularizer=l2(1e-4)))\n",
        "model.add(BatchNormalization())\n",
        "model.add(MaxPooling2D((2, 2)))\n",
        "model.add(Dropout(0.25))\n",
        "\n",
        "model.add(Conv2D(64, (3, 3), activation='relu', kernel_regularizer=l2(1e-4)))\n",
        "model.add(BatchNormalization())\n",
        "model.add(Conv2D(64, (3, 3), activation='relu', kernel_regularizer=l2(1e-4)))\n",
        "model.add(BatchNormalization())\n",
        "model.add(MaxPooling2D((2, 2)))\n",
        "model.add(Dropout(0.25))\n",
        "\n",
        "model.add(Conv2D(128, (1,1), kernel_regularizer=l2(1e-4)))\n",
        "model.add(GlobalMaxPooling2D())\n",
        "\n",
        "model.add(Dense(256, activation='relu', kernel_regularizer=l2(1e-4)))\n",
        "model.add(Dropout(0.5))\n",
        "model.add(Dense(2, activation='sigmoid', kernel_regularizer=l2(1e-4)))"
      ],
      "execution_count": 0,
      "outputs": []
    },
    {
      "metadata": {
        "colab_type": "code",
        "id": "civjmdynpGsy",
        "colab": {}
      },
      "cell_type": "code",
      "source": [
        "model.compile(Adadelta(lr=1.0, rho=0.95, epsilon=None, decay=0.0), \n",
        "              loss='binary_crossentropy', metrics=['accuracy'])"
      ],
      "execution_count": 0,
      "outputs": []
    },
    {
      "metadata": {
        "colab_type": "code",
        "id": "lmwfJa_fkEKz",
        "colab": {}
      },
      "cell_type": "code",
      "source": [
        "arquiteture = 'architecture_8'"
      ],
      "execution_count": 0,
      "outputs": []
    },
    {
      "metadata": {
        "colab_type": "code",
        "id": "cl6Lxs-6ktsK",
        "colab": {}
      },
      "cell_type": "code",
      "source": [
        "checkpointer = ModelCheckpoint(filepath='drive/My Drive/Resultado/weights_' + arquiteture + '.hdf5', verbose=1, save_best_only=True)"
      ],
      "execution_count": 0,
      "outputs": []
    },
    {
      "metadata": {
        "colab_type": "code",
        "id": "w7LbZJly5iOF",
        "outputId": "a1d4471a-9f00-4839-9dc3-c3d38867c89d",
        "colab": {
          "base_uri": "https://localhost:8080/",
          "height": 3710
        }
      },
      "cell_type": "code",
      "source": [
        "training = model.fit_generator(train_batches, steps_per_epoch=stepsPerEpoche, \n",
        "                   validation_data=validation_batches, validation_steps=validationSteps,\n",
        "                   epochs=50, verbose=2, callbacks=[checkpointer])"
      ],
      "execution_count": 215,
      "outputs": [
        {
          "output_type": "stream",
          "text": [
            "Epoch 1/50\n",
            " - 8s - loss: 1.0471 - acc: 0.6437 - val_loss: 0.8397 - val_acc: 0.6562\n",
            "\n",
            "Epoch 00001: val_loss improved from inf to 0.83969, saving model to drive/My Drive/Resultado/weights_architecture_8.hdf5\n",
            "Epoch 2/50\n",
            " - 1s - loss: 0.8319 - acc: 0.7156 - val_loss: 1.5907 - val_acc: 0.5625\n",
            "\n",
            "Epoch 00002: val_loss did not improve from 0.83969\n",
            "Epoch 3/50\n",
            " - 1s - loss: 0.5192 - acc: 0.8406 - val_loss: 0.3439 - val_acc: 0.8594\n",
            "\n",
            "Epoch 00003: val_loss improved from 0.83969 to 0.34388, saving model to drive/My Drive/Resultado/weights_architecture_8.hdf5\n",
            "Epoch 4/50\n",
            " - 1s - loss: 0.5768 - acc: 0.8000 - val_loss: 1.0527 - val_acc: 0.5938\n",
            "\n",
            "Epoch 00004: val_loss did not improve from 0.34388\n",
            "Epoch 5/50\n",
            " - 1s - loss: 0.3279 - acc: 0.9031 - val_loss: 0.4408 - val_acc: 0.7969\n",
            "\n",
            "Epoch 00005: val_loss did not improve from 0.34388\n",
            "Epoch 6/50\n",
            " - 1s - loss: 0.4277 - acc: 0.8438 - val_loss: 0.4778 - val_acc: 0.7812\n",
            "\n",
            "Epoch 00006: val_loss did not improve from 0.34388\n",
            "Epoch 7/50\n",
            " - 1s - loss: 0.4166 - acc: 0.8719 - val_loss: 0.5955 - val_acc: 0.8125\n",
            "\n",
            "Epoch 00007: val_loss did not improve from 0.34388\n",
            "Epoch 8/50\n",
            " - 1s - loss: 0.4083 - acc: 0.8625 - val_loss: 0.5161 - val_acc: 0.7656\n",
            "\n",
            "Epoch 00008: val_loss did not improve from 0.34388\n",
            "Epoch 9/50\n",
            " - 1s - loss: 0.4021 - acc: 0.8625 - val_loss: 0.4170 - val_acc: 0.7812\n",
            "\n",
            "Epoch 00009: val_loss did not improve from 0.34388\n",
            "Epoch 10/50\n",
            " - 1s - loss: 0.2780 - acc: 0.9219 - val_loss: 0.4097 - val_acc: 0.7656\n",
            "\n",
            "Epoch 00010: val_loss did not improve from 0.34388\n",
            "Epoch 11/50\n",
            " - 1s - loss: 0.2749 - acc: 0.9223 - val_loss: 0.4721 - val_acc: 0.7812\n",
            "\n",
            "Epoch 00011: val_loss did not improve from 0.34388\n",
            "Epoch 12/50\n",
            " - 1s - loss: 0.2066 - acc: 0.9500 - val_loss: 0.4234 - val_acc: 0.7031\n",
            "\n",
            "Epoch 00012: val_loss did not improve from 0.34388\n",
            "Epoch 13/50\n",
            " - 1s - loss: 0.3750 - acc: 0.8531 - val_loss: 0.3930 - val_acc: 0.8438\n",
            "\n",
            "Epoch 00013: val_loss did not improve from 0.34388\n",
            "Epoch 14/50\n",
            " - 1s - loss: 0.3474 - acc: 0.9094 - val_loss: 0.2554 - val_acc: 0.9062\n",
            "\n",
            "Epoch 00014: val_loss improved from 0.34388 to 0.25538, saving model to drive/My Drive/Resultado/weights_architecture_8.hdf5\n",
            "Epoch 15/50\n",
            " - 1s - loss: 0.2614 - acc: 0.9219 - val_loss: 0.6633 - val_acc: 0.7969\n",
            "\n",
            "Epoch 00015: val_loss did not improve from 0.25538\n",
            "Epoch 16/50\n",
            " - 1s - loss: 0.3895 - acc: 0.8469 - val_loss: 0.4286 - val_acc: 0.8281\n",
            "\n",
            "Epoch 00016: val_loss did not improve from 0.25538\n",
            "Epoch 17/50\n",
            " - 1s - loss: 0.3611 - acc: 0.8781 - val_loss: 0.4554 - val_acc: 0.8438\n",
            "\n",
            "Epoch 00017: val_loss did not improve from 0.25538\n",
            "Epoch 18/50\n",
            " - 1s - loss: 0.3494 - acc: 0.8719 - val_loss: 1.3114 - val_acc: 0.6250\n",
            "\n",
            "Epoch 00018: val_loss did not improve from 0.25538\n",
            "Epoch 19/50\n",
            " - 1s - loss: 0.2791 - acc: 0.9219 - val_loss: 0.2585 - val_acc: 0.9062\n",
            "\n",
            "Epoch 00019: val_loss did not improve from 0.25538\n",
            "Epoch 20/50\n",
            " - 1s - loss: 0.3710 - acc: 0.8875 - val_loss: 0.3897 - val_acc: 0.8438\n",
            "\n",
            "Epoch 00020: val_loss did not improve from 0.25538\n",
            "Epoch 21/50\n",
            " - 1s - loss: 0.3057 - acc: 0.8750 - val_loss: 0.2754 - val_acc: 0.8906\n",
            "\n",
            "Epoch 00021: val_loss did not improve from 0.25538\n",
            "Epoch 22/50\n",
            " - 1s - loss: 0.2792 - acc: 0.9375 - val_loss: 0.5768 - val_acc: 0.7031\n",
            "\n",
            "Epoch 00022: val_loss did not improve from 0.25538\n",
            "Epoch 23/50\n",
            " - 1s - loss: 0.2768 - acc: 0.9094 - val_loss: 0.6345 - val_acc: 0.6719\n",
            "\n",
            "Epoch 00023: val_loss did not improve from 0.25538\n",
            "Epoch 24/50\n",
            " - 1s - loss: 0.2689 - acc: 0.9000 - val_loss: 0.3176 - val_acc: 0.8750\n",
            "\n",
            "Epoch 00024: val_loss did not improve from 0.25538\n",
            "Epoch 25/50\n",
            " - 1s - loss: 0.2204 - acc: 0.9250 - val_loss: 0.2504 - val_acc: 0.9219\n",
            "\n",
            "Epoch 00025: val_loss improved from 0.25538 to 0.25035, saving model to drive/My Drive/Resultado/weights_architecture_8.hdf5\n",
            "Epoch 26/50\n",
            " - 1s - loss: 0.3394 - acc: 0.8812 - val_loss: 0.4886 - val_acc: 0.6875\n",
            "\n",
            "Epoch 00026: val_loss did not improve from 0.25035\n",
            "Epoch 27/50\n",
            " - 1s - loss: 0.2799 - acc: 0.8781 - val_loss: 0.3583 - val_acc: 0.8594\n",
            "\n",
            "Epoch 00027: val_loss did not improve from 0.25035\n",
            "Epoch 28/50\n",
            " - 1s - loss: 0.3325 - acc: 0.8875 - val_loss: 1.5286 - val_acc: 0.4516\n",
            "\n",
            "Epoch 00028: val_loss did not improve from 0.25035\n",
            "Epoch 29/50\n",
            " - 1s - loss: 0.2174 - acc: 0.9406 - val_loss: 1.1891 - val_acc: 0.5625\n",
            "\n",
            "Epoch 00029: val_loss did not improve from 0.25035\n",
            "Epoch 30/50\n",
            " - 1s - loss: 0.2178 - acc: 0.9375 - val_loss: 0.3743 - val_acc: 0.8438\n",
            "\n",
            "Epoch 00030: val_loss did not improve from 0.25035\n",
            "Epoch 31/50\n",
            " - 1s - loss: 0.2359 - acc: 0.9250 - val_loss: 0.3468 - val_acc: 0.8750\n",
            "\n",
            "Epoch 00031: val_loss did not improve from 0.25035\n",
            "Epoch 32/50\n",
            " - 1s - loss: 0.3311 - acc: 0.9219 - val_loss: 0.5174 - val_acc: 0.7500\n",
            "\n",
            "Epoch 00032: val_loss did not improve from 0.25035\n",
            "Epoch 33/50\n",
            " - 1s - loss: 0.3117 - acc: 0.8812 - val_loss: 0.2411 - val_acc: 0.9375\n",
            "\n",
            "Epoch 00033: val_loss improved from 0.25035 to 0.24115, saving model to drive/My Drive/Resultado/weights_architecture_8.hdf5\n",
            "Epoch 34/50\n",
            " - 1s - loss: 0.2528 - acc: 0.9250 - val_loss: 0.4257 - val_acc: 0.8750\n",
            "\n",
            "Epoch 00034: val_loss did not improve from 0.24115\n",
            "Epoch 35/50\n",
            " - 1s - loss: 0.2021 - acc: 0.9469 - val_loss: 0.4726 - val_acc: 0.7344\n",
            "\n",
            "Epoch 00035: val_loss did not improve from 0.24115\n",
            "Epoch 36/50\n",
            " - 1s - loss: 0.1891 - acc: 0.9406 - val_loss: 0.2264 - val_acc: 0.9688\n",
            "\n",
            "Epoch 00036: val_loss improved from 0.24115 to 0.22641, saving model to drive/My Drive/Resultado/weights_architecture_8.hdf5\n",
            "Epoch 37/50\n",
            " - 1s - loss: 0.2207 - acc: 0.9250 - val_loss: 0.2779 - val_acc: 0.9062\n",
            "\n",
            "Epoch 00037: val_loss did not improve from 0.22641\n",
            "Epoch 38/50\n",
            " - 1s - loss: 0.3595 - acc: 0.8750 - val_loss: 1.5028 - val_acc: 0.4688\n",
            "\n",
            "Epoch 00038: val_loss did not improve from 0.22641\n",
            "Epoch 39/50\n",
            " - 1s - loss: 0.2431 - acc: 0.9163 - val_loss: 0.4331 - val_acc: 0.7969\n",
            "\n",
            "Epoch 00039: val_loss did not improve from 0.22641\n",
            "Epoch 40/50\n",
            " - 1s - loss: 0.2764 - acc: 0.9125 - val_loss: 0.3499 - val_acc: 0.8438\n",
            "\n",
            "Epoch 00040: val_loss did not improve from 0.22641\n",
            "Epoch 41/50\n",
            " - 1s - loss: 0.2548 - acc: 0.9125 - val_loss: 0.5647 - val_acc: 0.8125\n",
            "\n",
            "Epoch 00041: val_loss did not improve from 0.22641\n",
            "Epoch 42/50\n",
            " - 1s - loss: 0.2438 - acc: 0.9375 - val_loss: 0.4595 - val_acc: 0.8594\n",
            "\n",
            "Epoch 00042: val_loss did not improve from 0.22641\n",
            "Epoch 43/50\n",
            " - 1s - loss: 0.2142 - acc: 0.9313 - val_loss: 1.5501 - val_acc: 0.4375\n",
            "\n",
            "Epoch 00043: val_loss did not improve from 0.22641\n",
            "Epoch 44/50\n",
            " - 1s - loss: 0.2778 - acc: 0.9125 - val_loss: 1.2067 - val_acc: 0.5625\n",
            "\n",
            "Epoch 00044: val_loss did not improve from 0.22641\n",
            "Epoch 45/50\n",
            " - 1s - loss: 0.2690 - acc: 0.9156 - val_loss: 1.3972 - val_acc: 0.4375\n",
            "\n",
            "Epoch 00045: val_loss did not improve from 0.22641\n",
            "Epoch 46/50\n",
            " - 1s - loss: 0.1931 - acc: 0.9406 - val_loss: 0.5776 - val_acc: 0.7031\n",
            "\n",
            "Epoch 00046: val_loss did not improve from 0.22641\n",
            "Epoch 47/50\n",
            " - 1s - loss: 0.3428 - acc: 0.9062 - val_loss: 1.8926 - val_acc: 0.4688\n",
            "\n",
            "Epoch 00047: val_loss did not improve from 0.22641\n",
            "Epoch 48/50\n",
            " - 1s - loss: 0.2518 - acc: 0.9094 - val_loss: 0.5969 - val_acc: 0.6250\n",
            "\n",
            "Epoch 00048: val_loss did not improve from 0.22641\n",
            "Epoch 49/50\n",
            " - 1s - loss: 0.2758 - acc: 0.9125 - val_loss: 1.5278 - val_acc: 0.5938\n",
            "\n",
            "Epoch 00049: val_loss did not improve from 0.22641\n",
            "Epoch 50/50\n",
            " - 1s - loss: 0.3138 - acc: 0.9031 - val_loss: 2.1660 - val_acc: 0.4375\n",
            "\n",
            "Epoch 00050: val_loss did not improve from 0.22641\n"
          ],
          "name": "stdout"
        }
      ]
    },
    {
      "metadata": {
        "colab_type": "code",
        "id": "8zBVma0TkELH",
        "outputId": "3a7f9992-63cd-46c2-83a3-bec2faebf579",
        "colab": {
          "base_uri": "https://localhost:8080/",
          "height": 380
        }
      },
      "cell_type": "code",
      "source": [
        "# plotar loss e accuracy para os datasets 'train' e 'test'\n",
        "plt.style.use(\"ggplot\")\n",
        "plt.figure()\n",
        "plt.plot(training.history['acc'], label='Accuracy')\n",
        "plt.plot(training.history['loss'], label='Loss')\n",
        "plt.xlabel('Epochs')\n",
        "plt.ylabel('Accuracy')\n",
        "plt.title(\"Training Loss and Accuracy\")\n",
        "plt.ylabel(\"Loss/Accuracy\")\n",
        "plt.legend()\n",
        "plt.savefig('drive/My Drive/Resultado/' + arquiteture + '.png', bbox_inches='tight')"
      ],
      "execution_count": 216,
      "outputs": [
        {
          "output_type": "display_data",
          "data": {
            "image/png": "[encoded data removed]",
            "text/plain": [
              "<matplotlib.figure.Figure at 0x7f567abf0be0>"
            ]
          },
          "metadata": {
            "tags": []
          }
        }
      ]
    },
    {
      "metadata": {
        "colab_type": "code",
        "id": "5B4aLvCvkELT",
        "outputId": "5cfa5a68-6a47-4931-a145-1534a485d319",
        "colab": {
          "base_uri": "https://localhost:8080/",
          "height": 74
        }
      },
      "cell_type": "code",
      "source": [
        "y_true, y_predict = ler_images_teste(arquiteture)"
      ],
      "execution_count": 217,
      "outputs": [
        {
          "output_type": "stream",
          "text": [
            "/usr/local/lib/python3.6/dist-packages/skimage/transform/_warps.py:84: UserWarning: The default mode, 'constant', will be changed to 'reflect' in skimage 0.15.\n",
            "  warn(\"The default mode, 'constant', will be changed to 'reflect' in \"\n"
          ],
          "name": "stderr"
        }
      ]
    },
    {
      "metadata": {
        "colab_type": "code",
        "id": "8qEpN64tkELc",
        "outputId": "1fdaf155-145f-44d4-fcbc-6c2696acb9aa",
        "colab": {
          "base_uri": "https://localhost:8080/",
          "height": 35
        }
      },
      "cell_type": "code",
      "source": [
        "results[arquiteture] = accuracy_score(y_true, y_predict)\n",
        "print('Test Accuracy: {:.2f}%'.format(100 * results[arquiteture]))"
      ],
      "execution_count": 218,
      "outputs": [
        {
          "output_type": "stream",
          "text": [
            "Test Accuracy: 23.07%\n"
          ],
          "name": "stdout"
        }
      ]
    },
    {
      "metadata": {
        "id": "csBCokNgxgbn",
        "colab_type": "text"
      },
      "cell_type": "markdown",
      "source": [
        "### 9 tentativa Accuracy: 64.27%"
      ]
    },
    {
      "metadata": {
        "colab_type": "text",
        "id": "qLtNH8xk63El"
      },
      "cell_type": "markdown",
      "source": [
        "Modelo adaptado do **Lucas Albertins**\n",
        "\n",
        "*   Função **SGD** para compilação\n"
      ]
    },
    {
      "metadata": {
        "colab_type": "code",
        "id": "EJjS6pK1xj1f",
        "colab": {}
      },
      "cell_type": "code",
      "source": [
        "from keras.layers import Conv2D, MaxPooling2D, GlobalMaxPooling2D, BatchNormalization\n",
        "from keras.regularizers import l2\n",
        "\n",
        "model = Sequential()\n",
        "\n",
        "model.add(Conv2D(32, (3, 3), activation='relu', kernel_regularizer=l2(1e-4), \n",
        "                 input_shape=(None, None, 3)))\n",
        "model.add(BatchNormalization())\n",
        "model.add(Conv2D(32, (3, 3), activation='relu', kernel_regularizer=l2(1e-4)))\n",
        "model.add(BatchNormalization())\n",
        "model.add(MaxPooling2D((2, 2)))\n",
        "model.add(Dropout(0.25))\n",
        "\n",
        "model.add(Conv2D(64, (3, 3), activation='relu', kernel_regularizer=l2(1e-4)))\n",
        "model.add(BatchNormalization())\n",
        "model.add(Conv2D(64, (3, 3), activation='relu', kernel_regularizer=l2(1e-4)))\n",
        "model.add(BatchNormalization())\n",
        "model.add(MaxPooling2D((2, 2)))\n",
        "model.add(Dropout(0.25))\n",
        "\n",
        "model.add(Conv2D(128, (1,1), kernel_regularizer=l2(1e-4)))\n",
        "model.add(GlobalMaxPooling2D())\n",
        "\n",
        "model.add(Dense(256, activation='relu', kernel_regularizer=l2(1e-4)))\n",
        "model.add(Dropout(0.5))\n",
        "model.add(Dense(2, activation='sigmoid', kernel_regularizer=l2(1e-4)))"
      ],
      "execution_count": 0,
      "outputs": []
    },
    {
      "metadata": {
        "colab_type": "code",
        "id": "9ezdguEZxsWT",
        "colab": {}
      },
      "cell_type": "code",
      "source": [
        "model.compile(SGD(lr=0.03, momentum=0.0, decay=0.0, nesterov=False), \n",
        "              loss='binary_crossentropy', metrics=['accuracy'])"
      ],
      "execution_count": 0,
      "outputs": []
    },
    {
      "metadata": {
        "colab_type": "code",
        "id": "474-g6XskHLD",
        "colab": {}
      },
      "cell_type": "code",
      "source": [
        "arquiteture = 'architecture_9'"
      ],
      "execution_count": 0,
      "outputs": []
    },
    {
      "metadata": {
        "colab_type": "code",
        "id": "L_3cTA3AkqpU",
        "colab": {}
      },
      "cell_type": "code",
      "source": [
        "checkpointer = ModelCheckpoint(filepath='drive/My Drive/Resultado/weights_' + arquiteture + '.hdf5', verbose=1, save_best_only=True)"
      ],
      "execution_count": 0,
      "outputs": []
    },
    {
      "metadata": {
        "colab_type": "code",
        "id": "6jYgi71R6XO2",
        "outputId": "69d2fe81-9ab9-4f2f-9264-a0304479486d",
        "colab": {
          "base_uri": "https://localhost:8080/",
          "height": 3710
        }
      },
      "cell_type": "code",
      "source": [
        "training = model.fit_generator(train_batches, steps_per_epoch=stepsPerEpoche, \n",
        "                   validation_data=validation_batches, validation_steps=validationSteps,\n",
        "                   epochs=50, verbose=2, callbacks=[checkpointer])"
      ],
      "execution_count": 223,
      "outputs": [
        {
          "output_type": "stream",
          "text": [
            "Epoch 1/50\n",
            " - 9s - loss: 1.1129 - acc: 0.6219 - val_loss: 1.1445 - val_acc: 0.5938\n",
            "\n",
            "Epoch 00001: val_loss improved from inf to 1.14455, saving model to drive/My Drive/Resultado/weights_architecture_9.hdf5\n",
            "Epoch 2/50\n",
            " - 1s - loss: 0.8380 - acc: 0.7687 - val_loss: 0.4795 - val_acc: 0.7188\n",
            "\n",
            "Epoch 00002: val_loss improved from 1.14455 to 0.47952, saving model to drive/My Drive/Resultado/weights_architecture_9.hdf5\n",
            "Epoch 3/50\n",
            " - 1s - loss: 0.5669 - acc: 0.8063 - val_loss: 0.6377 - val_acc: 0.6406\n",
            "\n",
            "Epoch 00003: val_loss did not improve from 0.47952\n",
            "Epoch 4/50\n",
            " - 0s - loss: 0.6407 - acc: 0.7812 - val_loss: 1.2300 - val_acc: 0.5000\n",
            "\n",
            "Epoch 00004: val_loss did not improve from 0.47952\n",
            "Epoch 5/50\n",
            " - 0s - loss: 1.0150 - acc: 0.7000 - val_loss: 0.7864 - val_acc: 0.6250\n",
            "\n",
            "Epoch 00005: val_loss did not improve from 0.47952\n",
            "Epoch 6/50\n",
            " - 0s - loss: 0.4353 - acc: 0.8781 - val_loss: 0.6695 - val_acc: 0.6875\n",
            "\n",
            "Epoch 00006: val_loss did not improve from 0.47952\n",
            "Epoch 7/50\n",
            " - 0s - loss: 0.4522 - acc: 0.8344 - val_loss: 0.7362 - val_acc: 0.5156\n",
            "\n",
            "Epoch 00007: val_loss did not improve from 0.47952\n",
            "Epoch 8/50\n",
            " - 1s - loss: 0.3856 - acc: 0.8406 - val_loss: 0.8758 - val_acc: 0.5156\n",
            "\n",
            "Epoch 00008: val_loss did not improve from 0.47952\n",
            "Epoch 9/50\n",
            " - 1s - loss: 0.3392 - acc: 0.8906 - val_loss: 0.6992 - val_acc: 0.6094\n",
            "\n",
            "Epoch 00009: val_loss did not improve from 0.47952\n",
            "Epoch 10/50\n",
            " - 1s - loss: 0.3464 - acc: 0.8812 - val_loss: 0.6466 - val_acc: 0.6875\n",
            "\n",
            "Epoch 00010: val_loss did not improve from 0.47952\n",
            "Epoch 11/50\n",
            " - 1s - loss: 0.4589 - acc: 0.8438 - val_loss: 0.5851 - val_acc: 0.7188\n",
            "\n",
            "Epoch 00011: val_loss did not improve from 0.47952\n",
            "Epoch 12/50\n",
            " - 1s - loss: 0.4110 - acc: 0.8344 - val_loss: 0.7413 - val_acc: 0.6094\n",
            "\n",
            "Epoch 00012: val_loss did not improve from 0.47952\n",
            "Epoch 13/50\n",
            " - 1s - loss: 0.3505 - acc: 0.8719 - val_loss: 0.9817 - val_acc: 0.3750\n",
            "\n",
            "Epoch 00013: val_loss did not improve from 0.47952\n",
            "Epoch 14/50\n",
            " - 1s - loss: 0.2515 - acc: 0.9313 - val_loss: 0.6573 - val_acc: 0.6719\n",
            "\n",
            "Epoch 00014: val_loss did not improve from 0.47952\n",
            "Epoch 15/50\n",
            " - 1s - loss: 0.3376 - acc: 0.9094 - val_loss: 0.6940 - val_acc: 0.6562\n",
            "\n",
            "Epoch 00015: val_loss did not improve from 0.47952\n",
            "Epoch 16/50\n",
            " - 1s - loss: 0.3652 - acc: 0.9015 - val_loss: 0.9772 - val_acc: 0.5312\n",
            "\n",
            "Epoch 00016: val_loss did not improve from 0.47952\n",
            "Epoch 17/50\n",
            " - 1s - loss: 0.3174 - acc: 0.8875 - val_loss: 0.5070 - val_acc: 0.7500\n",
            "\n",
            "Epoch 00017: val_loss did not improve from 0.47952\n",
            "Epoch 18/50\n",
            " - 1s - loss: 0.4399 - acc: 0.8312 - val_loss: 1.2338 - val_acc: 0.6406\n",
            "\n",
            "Epoch 00018: val_loss did not improve from 0.47952\n",
            "Epoch 19/50\n",
            " - 1s - loss: 0.3657 - acc: 0.8781 - val_loss: 0.7047 - val_acc: 0.5625\n",
            "\n",
            "Epoch 00019: val_loss did not improve from 0.47952\n",
            "Epoch 20/50\n",
            " - 1s - loss: 0.2883 - acc: 0.9188 - val_loss: 0.6615 - val_acc: 0.7656\n",
            "\n",
            "Epoch 00020: val_loss did not improve from 0.47952\n",
            "Epoch 21/50\n",
            " - 1s - loss: 0.2833 - acc: 0.8969 - val_loss: 0.7487 - val_acc: 0.5000\n",
            "\n",
            "Epoch 00021: val_loss did not improve from 0.47952\n",
            "Epoch 22/50\n",
            " - 1s - loss: 0.3044 - acc: 0.9281 - val_loss: 0.6419 - val_acc: 0.7344\n",
            "\n",
            "Epoch 00022: val_loss did not improve from 0.47952\n",
            "Epoch 23/50\n",
            " - 1s - loss: 0.2623 - acc: 0.9344 - val_loss: 0.7857 - val_acc: 0.5000\n",
            "\n",
            "Epoch 00023: val_loss did not improve from 0.47952\n",
            "Epoch 24/50\n",
            " - 1s - loss: 0.2697 - acc: 0.9156 - val_loss: 0.6736 - val_acc: 0.6094\n",
            "\n",
            "Epoch 00024: val_loss did not improve from 0.47952\n",
            "Epoch 25/50\n",
            " - 1s - loss: 0.3930 - acc: 0.8688 - val_loss: 0.8020 - val_acc: 0.4688\n",
            "\n",
            "Epoch 00025: val_loss did not improve from 0.47952\n",
            "Epoch 26/50\n",
            " - 1s - loss: 0.2871 - acc: 0.9156 - val_loss: 0.4726 - val_acc: 0.8281\n",
            "\n",
            "Epoch 00026: val_loss improved from 0.47952 to 0.47264, saving model to drive/My Drive/Resultado/weights_architecture_9.hdf5\n",
            "Epoch 27/50\n",
            " - 1s - loss: 0.3269 - acc: 0.8937 - val_loss: 0.7411 - val_acc: 0.5625\n",
            "\n",
            "Epoch 00027: val_loss did not improve from 0.47264\n",
            "Epoch 28/50\n",
            " - 1s - loss: 0.3868 - acc: 0.8344 - val_loss: 0.7567 - val_acc: 0.4531\n",
            "\n",
            "Epoch 00028: val_loss did not improve from 0.47264\n",
            "Epoch 29/50\n",
            " - 1s - loss: 0.3726 - acc: 0.8406 - val_loss: 0.5329 - val_acc: 0.8871\n",
            "\n",
            "Epoch 00029: val_loss did not improve from 0.47264\n",
            "Epoch 30/50\n",
            " - 1s - loss: 0.2631 - acc: 0.9156 - val_loss: 0.6439 - val_acc: 0.6406\n",
            "\n",
            "Epoch 00030: val_loss did not improve from 0.47264\n",
            "Epoch 31/50\n",
            " - 1s - loss: 0.2321 - acc: 0.9375 - val_loss: 0.5477 - val_acc: 0.7344\n",
            "\n",
            "Epoch 00031: val_loss did not improve from 0.47264\n",
            "Epoch 32/50\n",
            " - 1s - loss: 0.2118 - acc: 0.9531 - val_loss: 0.5241 - val_acc: 0.7656\n",
            "\n",
            "Epoch 00032: val_loss did not improve from 0.47264\n",
            "Epoch 33/50\n",
            " - 1s - loss: 0.2413 - acc: 0.9344 - val_loss: 1.2322 - val_acc: 0.3750\n",
            "\n",
            "Epoch 00033: val_loss did not improve from 0.47264\n",
            "Epoch 34/50\n",
            " - 1s - loss: 0.2120 - acc: 0.9344 - val_loss: 0.8854 - val_acc: 0.6562\n",
            "\n",
            "Epoch 00034: val_loss did not improve from 0.47264\n",
            "Epoch 35/50\n",
            " - 1s - loss: 0.3784 - acc: 0.8656 - val_loss: 0.9431 - val_acc: 0.5625\n",
            "\n",
            "Epoch 00035: val_loss did not improve from 0.47264\n",
            "Epoch 36/50\n",
            " - 1s - loss: 0.2701 - acc: 0.9281 - val_loss: 1.0451 - val_acc: 0.5469\n",
            "\n",
            "Epoch 00036: val_loss did not improve from 0.47264\n",
            "Epoch 37/50\n",
            " - 1s - loss: 0.2094 - acc: 0.9437 - val_loss: 0.8459 - val_acc: 0.5469\n",
            "\n",
            "Epoch 00037: val_loss did not improve from 0.47264\n",
            "Epoch 38/50\n",
            " - 1s - loss: 0.2223 - acc: 0.9250 - val_loss: 0.9389 - val_acc: 0.5625\n",
            "\n",
            "Epoch 00038: val_loss did not improve from 0.47264\n",
            "Epoch 39/50\n",
            " - 1s - loss: 0.2365 - acc: 0.9281 - val_loss: 1.1505 - val_acc: 0.4844\n",
            "\n",
            "Epoch 00039: val_loss did not improve from 0.47264\n",
            "Epoch 40/50\n",
            " - 1s - loss: 0.1860 - acc: 0.9313 - val_loss: 0.8095 - val_acc: 0.6562\n",
            "\n",
            "Epoch 00040: val_loss did not improve from 0.47264\n",
            "Epoch 41/50\n",
            " - 1s - loss: 0.2684 - acc: 0.9094 - val_loss: 0.8303 - val_acc: 0.5625\n",
            "\n",
            "Epoch 00041: val_loss did not improve from 0.47264\n",
            "Epoch 42/50\n",
            " - 1s - loss: 0.1779 - acc: 0.9406 - val_loss: 0.6327 - val_acc: 0.7344\n",
            "\n",
            "Epoch 00042: val_loss did not improve from 0.47264\n",
            "Epoch 43/50\n",
            " - 1s - loss: 0.3742 - acc: 0.9004 - val_loss: 0.6802 - val_acc: 0.6875\n",
            "\n",
            "Epoch 00043: val_loss did not improve from 0.47264\n",
            "Epoch 44/50\n",
            " - 1s - loss: 0.2676 - acc: 0.9219 - val_loss: 0.4447 - val_acc: 0.8281\n",
            "\n",
            "Epoch 00044: val_loss improved from 0.47264 to 0.44473, saving model to drive/My Drive/Resultado/weights_architecture_9.hdf5\n",
            "Epoch 45/50\n",
            " - 1s - loss: 0.2622 - acc: 0.9125 - val_loss: 0.5714 - val_acc: 0.6250\n",
            "\n",
            "Epoch 00045: val_loss did not improve from 0.44473\n",
            "Epoch 46/50\n",
            " - 1s - loss: 0.2015 - acc: 0.9594 - val_loss: 0.7664 - val_acc: 0.6875\n",
            "\n",
            "Epoch 00046: val_loss did not improve from 0.44473\n",
            "Epoch 47/50\n",
            " - 1s - loss: 0.2421 - acc: 0.9250 - val_loss: 0.6500 - val_acc: 0.6406\n",
            "\n",
            "Epoch 00047: val_loss did not improve from 0.44473\n",
            "Epoch 48/50\n",
            " - 1s - loss: 0.3279 - acc: 0.8969 - val_loss: 0.6554 - val_acc: 0.7344\n",
            "\n",
            "Epoch 00048: val_loss did not improve from 0.44473\n",
            "Epoch 49/50\n",
            " - 1s - loss: 0.2967 - acc: 0.9031 - val_loss: 0.4807 - val_acc: 0.7031\n",
            "\n",
            "Epoch 00049: val_loss did not improve from 0.44473\n",
            "Epoch 50/50\n",
            " - 1s - loss: 0.2608 - acc: 0.9125 - val_loss: 0.3998 - val_acc: 0.8906\n",
            "\n",
            "Epoch 00050: val_loss improved from 0.44473 to 0.39982, saving model to drive/My Drive/Resultado/weights_architecture_9.hdf5\n"
          ],
          "name": "stdout"
        }
      ]
    },
    {
      "metadata": {
        "colab_type": "code",
        "id": "M6Yz3lQwkHLX",
        "outputId": "db5d8904-a9b7-4cbb-ea20-1947d33c0ab3",
        "colab": {
          "base_uri": "https://localhost:8080/",
          "height": 380
        }
      },
      "cell_type": "code",
      "source": [
        "# plotar loss e accuracy para os datasets 'train' e 'test'\n",
        "plt.style.use(\"ggplot\")\n",
        "plt.figure()\n",
        "plt.plot(training.history['acc'], label='Accuracy')\n",
        "plt.plot(training.history['loss'], label='Loss')\n",
        "plt.xlabel('Epochs')\n",
        "plt.ylabel('Accuracy')\n",
        "plt.title(\"Training Loss and Accuracy\")\n",
        "plt.ylabel(\"Loss/Accuracy\")\n",
        "plt.legend()\n",
        "plt.savefig('drive/My Drive/Resultado/' + arquiteture + '.png', bbox_inches='tight')"
      ],
      "execution_count": 224,
      "outputs": [
        {
          "output_type": "display_data",
          "data": {
            "image/png": "[encoded data removed]",
            "text/plain": [
              "<matplotlib.figure.Figure at 0x7f567a5f41d0>"
            ]
          },
          "metadata": {
            "tags": []
          }
        }
      ]
    },
    {
      "metadata": {
        "colab_type": "code",
        "id": "5LAzY6JfkHLh",
        "outputId": "da9c81b6-7fdc-46cd-fa4c-3205dd34fe85",
        "colab": {
          "base_uri": "https://localhost:8080/",
          "height": 74
        }
      },
      "cell_type": "code",
      "source": [
        "y_true, y_predict = ler_images_teste(arquiteture)"
      ],
      "execution_count": 225,
      "outputs": [
        {
          "output_type": "stream",
          "text": [
            "/usr/local/lib/python3.6/dist-packages/skimage/transform/_warps.py:84: UserWarning: The default mode, 'constant', will be changed to 'reflect' in skimage 0.15.\n",
            "  warn(\"The default mode, 'constant', will be changed to 'reflect' in \"\n"
          ],
          "name": "stderr"
        }
      ]
    },
    {
      "metadata": {
        "colab_type": "code",
        "id": "8X-QY2SokHLo",
        "outputId": "e427da2c-e84c-49f1-8c33-a5836d64de06",
        "colab": {
          "base_uri": "https://localhost:8080/",
          "height": 35
        }
      },
      "cell_type": "code",
      "source": [
        "results[arquiteture] = accuracy_score(y_true, y_predict)\n",
        "print('Test Accuracy: {:.2f}%'.format(100 * results[arquiteture]))"
      ],
      "execution_count": 226,
      "outputs": [
        {
          "output_type": "stream",
          "text": [
            "Test Accuracy: 64.27%\n"
          ],
          "name": "stdout"
        }
      ]
    },
    {
      "metadata": {
        "id": "I_6RPRqZ0ooK",
        "colab_type": "text"
      },
      "cell_type": "markdown",
      "source": [
        "### 10 tentativa Accuracy: 81.51%"
      ]
    },
    {
      "metadata": {
        "colab_type": "text",
        "id": "drBpwd1s7PE3"
      },
      "cell_type": "markdown",
      "source": [
        "Modelo adaptado do **Lucas Albertins**\n",
        "\n",
        "*   Função **adam** para compilação\n",
        "*   Adicionado mais 2 camadas convolutivas"
      ]
    },
    {
      "metadata": {
        "colab_type": "code",
        "id": "6LGTLObK0u-Y",
        "colab": {}
      },
      "cell_type": "code",
      "source": [
        "from keras.layers import Conv2D, MaxPooling2D, GlobalMaxPooling2D, BatchNormalization\n",
        "from keras.regularizers import l2\n",
        "\n",
        "model = Sequential()\n",
        "\n",
        "model.add(Conv2D(32, (3, 3), activation='relu', kernel_regularizer=l2(1e-4), \n",
        "                 input_shape=(None, None, 3)))\n",
        "model.add(BatchNormalization())\n",
        "model.add(Conv2D(32, (3, 3), activation='relu', kernel_regularizer=l2(1e-4)))\n",
        "model.add(BatchNormalization())\n",
        "model.add(MaxPooling2D((2, 2)))\n",
        "model.add(Dropout(0.25))\n",
        "\n",
        "model.add(Conv2D(64, (3, 3), activation='relu', kernel_regularizer=l2(1e-4)))\n",
        "model.add(BatchNormalization())\n",
        "model.add(Conv2D(64, (3, 3), activation='relu', kernel_regularizer=l2(1e-4)))\n",
        "model.add(BatchNormalization())\n",
        "model.add(MaxPooling2D((2, 2)))\n",
        "model.add(Dropout(0.25))\n",
        "\n",
        "model.add(Conv2D(96, (3, 3),activation='relu', kernel_regularizer=l2(1e-4)))\n",
        "model.add(BatchNormalization())\n",
        "model.add(Conv2D(96, (3, 3),activation='relu', kernel_regularizer=l2(1e-4)))\n",
        "model.add(BatchNormalization())\n",
        "model.add(MaxPooling2D((2, 2)))\n",
        "model.add(Dropout(0.25))\n",
        "\n",
        "model.add(Conv2D(128, (1,1), kernel_regularizer=l2(1e-4)))\n",
        "model.add(GlobalMaxPooling2D())\n",
        "\n",
        "model.add(Dense(256, activation='relu', kernel_regularizer=l2(1e-4)))\n",
        "model.add(Dropout(0.5))\n",
        "model.add(Dense(2, activation='sigmoid', kernel_regularizer=l2(1e-4)))"
      ],
      "execution_count": 0,
      "outputs": []
    },
    {
      "metadata": {
        "colab_type": "code",
        "id": "vB92aUkR0u-p",
        "colab": {}
      },
      "cell_type": "code",
      "source": [
        "model.compile(optimizer='adam', loss='binary_crossentropy', metrics=['accuracy'])"
      ],
      "execution_count": 0,
      "outputs": []
    },
    {
      "metadata": {
        "colab_type": "code",
        "id": "7CD_MICYkLAi",
        "colab": {}
      },
      "cell_type": "code",
      "source": [
        "arquiteture = 'architecture_10'"
      ],
      "execution_count": 0,
      "outputs": []
    },
    {
      "metadata": {
        "colab_type": "code",
        "id": "aGtfVb9qknXd",
        "colab": {}
      },
      "cell_type": "code",
      "source": [
        "checkpointer = ModelCheckpoint(filepath='drive/My Drive/Resultado/weights_' + arquiteture + '.hdf5', verbose=1, save_best_only=True)"
      ],
      "execution_count": 0,
      "outputs": []
    },
    {
      "metadata": {
        "colab_type": "code",
        "id": "mUqvoI5Y7bLp",
        "outputId": "05ea6241-856d-4120-ba49-18db8211123b",
        "colab": {
          "base_uri": "https://localhost:8080/",
          "height": 3710
        }
      },
      "cell_type": "code",
      "source": [
        "training = model.fit_generator(train_batches, steps_per_epoch=stepsPerEpoche, \n",
        "                   validation_data=validation_batches, validation_steps=validationSteps,\n",
        "                   epochs=50, verbose=2, callbacks=[checkpointer])"
      ],
      "execution_count": 231,
      "outputs": [
        {
          "output_type": "stream",
          "text": [
            "Epoch 1/50\n",
            " - 9s - loss: 1.4200 - acc: 0.5812 - val_loss: 1.0637 - val_acc: 0.6250\n",
            "\n",
            "Epoch 00001: val_loss improved from inf to 1.06369, saving model to drive/My Drive/Resultado/weights_architecture_10.hdf5\n",
            "Epoch 2/50\n",
            " - 1s - loss: 0.6042 - acc: 0.7875 - val_loss: 1.5121 - val_acc: 0.5625\n",
            "\n",
            "Epoch 00002: val_loss did not improve from 1.06369\n",
            "Epoch 3/50\n",
            " - 1s - loss: 0.5335 - acc: 0.8625 - val_loss: 1.8823 - val_acc: 0.5469\n",
            "\n",
            "Epoch 00003: val_loss did not improve from 1.06369\n",
            "Epoch 4/50\n",
            " - 1s - loss: 0.5167 - acc: 0.8219 - val_loss: 1.0633 - val_acc: 0.6719\n",
            "\n",
            "Epoch 00004: val_loss improved from 1.06369 to 1.06330, saving model to drive/My Drive/Resultado/weights_architecture_10.hdf5\n",
            "Epoch 5/50\n",
            " - 1s - loss: 0.3487 - acc: 0.8937 - val_loss: 1.3120 - val_acc: 0.6562\n",
            "\n",
            "Epoch 00005: val_loss did not improve from 1.06330\n",
            "Epoch 6/50\n",
            " - 1s - loss: 0.2567 - acc: 0.9375 - val_loss: 1.3505 - val_acc: 0.6406\n",
            "\n",
            "Epoch 00006: val_loss did not improve from 1.06330\n",
            "Epoch 7/50\n",
            " - 1s - loss: 0.3488 - acc: 0.8969 - val_loss: 1.2091 - val_acc: 0.7188\n",
            "\n",
            "Epoch 00007: val_loss did not improve from 1.06330\n",
            "Epoch 8/50\n",
            " - 1s - loss: 0.3377 - acc: 0.9188 - val_loss: 1.5638 - val_acc: 0.5000\n",
            "\n",
            "Epoch 00008: val_loss did not improve from 1.06330\n",
            "Epoch 9/50\n",
            " - 1s - loss: 0.3182 - acc: 0.9219 - val_loss: 0.3086 - val_acc: 0.8438\n",
            "\n",
            "Epoch 00009: val_loss improved from 1.06330 to 0.30856, saving model to drive/My Drive/Resultado/weights_architecture_10.hdf5\n",
            "Epoch 10/50\n",
            " - 1s - loss: 0.3436 - acc: 0.8812 - val_loss: 1.6248 - val_acc: 0.4062\n",
            "\n",
            "Epoch 00010: val_loss did not improve from 0.30856\n",
            "Epoch 11/50\n",
            " - 1s - loss: 0.3776 - acc: 0.8812 - val_loss: 1.0033 - val_acc: 0.6406\n",
            "\n",
            "Epoch 00011: val_loss did not improve from 0.30856\n",
            "Epoch 12/50\n",
            " - 1s - loss: 0.2881 - acc: 0.8969 - val_loss: 0.8350 - val_acc: 0.7500\n",
            "\n",
            "Epoch 00012: val_loss did not improve from 0.30856\n",
            "Epoch 13/50\n",
            " - 1s - loss: 0.3704 - acc: 0.8906 - val_loss: 0.6950 - val_acc: 0.7500\n",
            "\n",
            "Epoch 00013: val_loss did not improve from 0.30856\n",
            "Epoch 14/50\n",
            " - 1s - loss: 0.4070 - acc: 0.8969 - val_loss: 0.2145 - val_acc: 0.9531\n",
            "\n",
            "Epoch 00014: val_loss improved from 0.30856 to 0.21450, saving model to drive/My Drive/Resultado/weights_architecture_10.hdf5\n",
            "Epoch 15/50\n",
            " - 1s - loss: 0.3922 - acc: 0.8500 - val_loss: 0.4443 - val_acc: 0.8438\n",
            "\n",
            "Epoch 00015: val_loss did not improve from 0.21450\n",
            "Epoch 16/50\n",
            " - 1s - loss: 0.2822 - acc: 0.9094 - val_loss: 0.3500 - val_acc: 0.8594\n",
            "\n",
            "Epoch 00016: val_loss did not improve from 0.21450\n",
            "Epoch 17/50\n",
            " - 1s - loss: 0.2683 - acc: 0.9250 - val_loss: 0.4673 - val_acc: 0.8906\n",
            "\n",
            "Epoch 00017: val_loss did not improve from 0.21450\n",
            "Epoch 18/50\n",
            " - 1s - loss: 0.2806 - acc: 0.9250 - val_loss: 0.3496 - val_acc: 0.9375\n",
            "\n",
            "Epoch 00018: val_loss did not improve from 0.21450\n",
            "Epoch 19/50\n",
            " - 1s - loss: 0.3794 - acc: 0.8781 - val_loss: 0.6689 - val_acc: 0.6719\n",
            "\n",
            "Epoch 00019: val_loss did not improve from 0.21450\n",
            "Epoch 20/50\n",
            " - 1s - loss: 0.2488 - acc: 0.9177 - val_loss: 0.3200 - val_acc: 0.8750\n",
            "\n",
            "Epoch 00020: val_loss did not improve from 0.21450\n",
            "Epoch 21/50\n",
            " - 1s - loss: 0.2398 - acc: 0.9406 - val_loss: 0.5139 - val_acc: 0.7500\n",
            "\n",
            "Epoch 00021: val_loss did not improve from 0.21450\n",
            "Epoch 22/50\n",
            " - 1s - loss: 0.2685 - acc: 0.9156 - val_loss: 1.1401 - val_acc: 0.5625\n",
            "\n",
            "Epoch 00022: val_loss did not improve from 0.21450\n",
            "Epoch 23/50\n",
            " - 1s - loss: 0.3673 - acc: 0.8625 - val_loss: 0.5387 - val_acc: 0.7656\n",
            "\n",
            "Epoch 00023: val_loss did not improve from 0.21450\n",
            "Epoch 24/50\n",
            " - 1s - loss: 0.2254 - acc: 0.9313 - val_loss: 0.2646 - val_acc: 0.9062\n",
            "\n",
            "Epoch 00024: val_loss did not improve from 0.21450\n",
            "Epoch 25/50\n",
            " - 1s - loss: 0.2821 - acc: 0.9250 - val_loss: 0.4260 - val_acc: 0.8594\n",
            "\n",
            "Epoch 00025: val_loss did not improve from 0.21450\n",
            "Epoch 26/50\n",
            " - 1s - loss: 0.1451 - acc: 0.9656 - val_loss: 0.2177 - val_acc: 0.9531\n",
            "\n",
            "Epoch 00026: val_loss did not improve from 0.21450\n",
            "Epoch 27/50\n",
            " - 1s - loss: 0.2065 - acc: 0.9375 - val_loss: 0.2401 - val_acc: 0.9062\n",
            "\n",
            "Epoch 00027: val_loss did not improve from 0.21450\n",
            "Epoch 28/50\n",
            " - 1s - loss: 0.3175 - acc: 0.8969 - val_loss: 0.3243 - val_acc: 0.8750\n",
            "\n",
            "Epoch 00028: val_loss did not improve from 0.21450\n",
            "Epoch 29/50\n",
            " - 1s - loss: 0.3398 - acc: 0.9094 - val_loss: 0.3367 - val_acc: 0.9688\n",
            "\n",
            "Epoch 00029: val_loss did not improve from 0.21450\n",
            "Epoch 30/50\n",
            " - 1s - loss: 0.4273 - acc: 0.8812 - val_loss: 0.3407 - val_acc: 0.9355\n",
            "\n",
            "Epoch 00030: val_loss did not improve from 0.21450\n",
            "Epoch 31/50\n",
            " - 1s - loss: 0.3114 - acc: 0.9031 - val_loss: 0.4418 - val_acc: 0.7969\n",
            "\n",
            "Epoch 00031: val_loss did not improve from 0.21450\n",
            "Epoch 32/50\n",
            " - 1s - loss: 0.2606 - acc: 0.9344 - val_loss: 0.5049 - val_acc: 0.7500\n",
            "\n",
            "Epoch 00032: val_loss did not improve from 0.21450\n",
            "Epoch 33/50\n",
            " - 1s - loss: 0.2284 - acc: 0.9469 - val_loss: 0.4337 - val_acc: 0.8438\n",
            "\n",
            "Epoch 00033: val_loss did not improve from 0.21450\n",
            "Epoch 34/50\n",
            " - 1s - loss: 0.1849 - acc: 0.9719 - val_loss: 0.4174 - val_acc: 0.8125\n",
            "\n",
            "Epoch 00034: val_loss did not improve from 0.21450\n",
            "Epoch 35/50\n",
            " - 1s - loss: 0.2348 - acc: 0.9406 - val_loss: 0.4932 - val_acc: 0.7500\n",
            "\n",
            "Epoch 00035: val_loss did not improve from 0.21450\n",
            "Epoch 36/50\n",
            " - 1s - loss: 0.3547 - acc: 0.8937 - val_loss: 0.4422 - val_acc: 0.9062\n",
            "\n",
            "Epoch 00036: val_loss did not improve from 0.21450\n",
            "Epoch 37/50\n",
            " - 1s - loss: 0.2710 - acc: 0.9094 - val_loss: 0.2344 - val_acc: 0.9219\n",
            "\n",
            "Epoch 00037: val_loss did not improve from 0.21450\n",
            "Epoch 38/50\n",
            " - 1s - loss: 0.2514 - acc: 0.9188 - val_loss: 0.3042 - val_acc: 0.9062\n",
            "\n",
            "Epoch 00038: val_loss did not improve from 0.21450\n",
            "Epoch 39/50\n",
            " - 1s - loss: 0.3652 - acc: 0.9031 - val_loss: 2.2139 - val_acc: 0.4844\n",
            "\n",
            "Epoch 00039: val_loss did not improve from 0.21450\n",
            "Epoch 40/50\n",
            " - 1s - loss: 0.2297 - acc: 0.9469 - val_loss: 0.6710 - val_acc: 0.7500\n",
            "\n",
            "Epoch 00040: val_loss did not improve from 0.21450\n",
            "Epoch 41/50\n",
            " - 1s - loss: 0.3419 - acc: 0.9000 - val_loss: 0.3810 - val_acc: 0.9062\n",
            "\n",
            "Epoch 00041: val_loss did not improve from 0.21450\n",
            "Epoch 42/50\n",
            " - 1s - loss: 0.1948 - acc: 0.9625 - val_loss: 0.2996 - val_acc: 0.8750\n",
            "\n",
            "Epoch 00042: val_loss did not improve from 0.21450\n",
            "Epoch 43/50\n",
            " - 1s - loss: 0.2114 - acc: 0.9500 - val_loss: 0.2384 - val_acc: 0.9375\n",
            "\n",
            "Epoch 00043: val_loss did not improve from 0.21450\n",
            "Epoch 44/50\n",
            " - 1s - loss: 0.1878 - acc: 0.9375 - val_loss: 0.7753 - val_acc: 0.6875\n",
            "\n",
            "Epoch 00044: val_loss did not improve from 0.21450\n",
            "Epoch 45/50\n",
            " - 1s - loss: 0.2202 - acc: 0.9375 - val_loss: 0.2589 - val_acc: 0.9375\n",
            "\n",
            "Epoch 00045: val_loss did not improve from 0.21450\n",
            "Epoch 46/50\n",
            " - 1s - loss: 0.2696 - acc: 0.9094 - val_loss: 1.0106 - val_acc: 0.6250\n",
            "\n",
            "Epoch 00046: val_loss did not improve from 0.21450\n",
            "Epoch 47/50\n",
            " - 1s - loss: 0.2611 - acc: 0.9281 - val_loss: 0.7835 - val_acc: 0.7188\n",
            "\n",
            "Epoch 00047: val_loss did not improve from 0.21450\n",
            "Epoch 48/50\n",
            " - 1s - loss: 0.2595 - acc: 0.9269 - val_loss: 0.2382 - val_acc: 0.8750\n",
            "\n",
            "Epoch 00048: val_loss did not improve from 0.21450\n",
            "Epoch 49/50\n",
            " - 1s - loss: 0.1976 - acc: 0.9281 - val_loss: 1.2116 - val_acc: 0.6875\n",
            "\n",
            "Epoch 00049: val_loss did not improve from 0.21450\n",
            "Epoch 50/50\n",
            " - 1s - loss: 0.3416 - acc: 0.9000 - val_loss: 0.7135 - val_acc: 0.6250\n",
            "\n",
            "Epoch 00050: val_loss did not improve from 0.21450\n"
          ],
          "name": "stdout"
        }
      ]
    },
    {
      "metadata": {
        "colab_type": "code",
        "id": "4mLcVI5OkLAx",
        "outputId": "06a399ba-e616-4c9b-9eba-7555a6ba8471",
        "colab": {
          "base_uri": "https://localhost:8080/",
          "height": 380
        }
      },
      "cell_type": "code",
      "source": [
        "# plotar loss e accuracy para os datasets 'train' e 'test'\n",
        "plt.style.use(\"ggplot\")\n",
        "plt.figure()\n",
        "plt.plot(training.history['acc'], label='Accuracy')\n",
        "plt.plot(training.history['loss'], label='Loss')\n",
        "plt.xlabel('Epochs')\n",
        "plt.ylabel('Accuracy')\n",
        "plt.title(\"Training Loss and Accuracy\")\n",
        "plt.ylabel(\"Loss/Accuracy\")\n",
        "plt.legend()\n",
        "plt.savefig('drive/My Drive/Resultado/' + arquiteture + '.png', bbox_inches='tight')"
      ],
      "execution_count": 232,
      "outputs": [
        {
          "output_type": "display_data",
          "data": {
            "image/png": "[encoded data removed]",
            "text/plain": [
              "<matplotlib.figure.Figure at 0x7f5677dfdbe0>"
            ]
          },
          "metadata": {
            "tags": []
          }
        }
      ]
    },
    {
      "metadata": {
        "colab_type": "code",
        "id": "MXfjnNaekLA8",
        "outputId": "54f051c6-0e3a-4560-dc60-80fe656575b9",
        "colab": {
          "base_uri": "https://localhost:8080/",
          "height": 74
        }
      },
      "cell_type": "code",
      "source": [
        "y_true, y_predict = ler_images_teste(arquiteture)"
      ],
      "execution_count": 233,
      "outputs": [
        {
          "output_type": "stream",
          "text": [
            "/usr/local/lib/python3.6/dist-packages/skimage/transform/_warps.py:84: UserWarning: The default mode, 'constant', will be changed to 'reflect' in skimage 0.15.\n",
            "  warn(\"The default mode, 'constant', will be changed to 'reflect' in \"\n"
          ],
          "name": "stderr"
        }
      ]
    },
    {
      "metadata": {
        "colab_type": "code",
        "id": "mxweJBcKkLBA",
        "outputId": "15c29497-5a27-4027-fc79-c87ca6915790",
        "colab": {
          "base_uri": "https://localhost:8080/",
          "height": 35
        }
      },
      "cell_type": "code",
      "source": [
        "results[arquiteture] = accuracy_score(y_true, y_predict)\n",
        "print('Test Accuracy: {:.2f}%'.format(100 * results[arquiteture]))"
      ],
      "execution_count": 234,
      "outputs": [
        {
          "output_type": "stream",
          "text": [
            "Test Accuracy: 81.51%\n"
          ],
          "name": "stdout"
        }
      ]
    },
    {
      "metadata": {
        "id": "t-JuICq46CWp",
        "colab_type": "text"
      },
      "cell_type": "markdown",
      "source": [
        "### 11 tentativa Accuracy: 78.42%"
      ]
    },
    {
      "metadata": {
        "colab_type": "text",
        "id": "MdaiMXVY8RWc"
      },
      "cell_type": "markdown",
      "source": [
        "Modelo adaptado do **Lucas Albertins**\n",
        "\n",
        "*   Função **SGD** para compilação\n",
        "*   Adicionado mais 2 camadas convolutivas"
      ]
    },
    {
      "metadata": {
        "colab_type": "code",
        "id": "vLy1nlhs6HHL",
        "colab": {}
      },
      "cell_type": "code",
      "source": [
        "from keras.layers import Conv2D, MaxPooling2D, GlobalMaxPooling2D, BatchNormalization\n",
        "from keras.regularizers import l2\n",
        "\n",
        "model = Sequential()\n",
        "\n",
        "model.add(Conv2D(32, (3, 3), activation='relu', kernel_regularizer=l2(1e-4), \n",
        "                 input_shape=(None, None, 3)))\n",
        "model.add(BatchNormalization())\n",
        "model.add(Conv2D(32, (3, 3), activation='relu', kernel_regularizer=l2(1e-4)))\n",
        "model.add(BatchNormalization())\n",
        "model.add(MaxPooling2D((2, 2)))\n",
        "model.add(Dropout(0.25))\n",
        "\n",
        "model.add(Conv2D(64, (3, 3), activation='relu', kernel_regularizer=l2(1e-4)))\n",
        "model.add(BatchNormalization())\n",
        "model.add(Conv2D(64, (3, 3), activation='relu', kernel_regularizer=l2(1e-4)))\n",
        "model.add(BatchNormalization())\n",
        "model.add(MaxPooling2D((2, 2)))\n",
        "model.add(Dropout(0.25))\n",
        "\n",
        "model.add(Conv2D(96, (3, 3),activation='relu', kernel_regularizer=l2(1e-4)))\n",
        "model.add(BatchNormalization())\n",
        "model.add(Conv2D(96, (3, 3),activation='relu', kernel_regularizer=l2(1e-4)))\n",
        "model.add(BatchNormalization())\n",
        "model.add(MaxPooling2D((2, 2)))\n",
        "model.add(Dropout(0.25))\n",
        "\n",
        "model.add(Conv2D(128, (1,1), kernel_regularizer=l2(1e-4)))\n",
        "model.add(GlobalMaxPooling2D())\n",
        "\n",
        "model.add(Dense(256, activation='relu', kernel_regularizer=l2(1e-4)))\n",
        "model.add(Dropout(0.5))\n",
        "model.add(Dense(2, activation='sigmoid', kernel_regularizer=l2(1e-4)))"
      ],
      "execution_count": 0,
      "outputs": []
    },
    {
      "metadata": {
        "colab_type": "code",
        "id": "QKpy_s8Z6HHZ",
        "colab": {}
      },
      "cell_type": "code",
      "source": [
        "model.compile(SGD(lr=0.01, momentum=0.0, decay=0.0, nesterov=False), \n",
        "              loss='binary_crossentropy', metrics=['accuracy'])"
      ],
      "execution_count": 0,
      "outputs": []
    },
    {
      "metadata": {
        "colab_type": "code",
        "id": "oGVeMLcZkPCr",
        "colab": {}
      },
      "cell_type": "code",
      "source": [
        "arquiteture = 'architecture_11'"
      ],
      "execution_count": 0,
      "outputs": []
    },
    {
      "metadata": {
        "colab_type": "code",
        "id": "rvsDdCnxkjhS",
        "colab": {}
      },
      "cell_type": "code",
      "source": [
        "checkpointer = ModelCheckpoint(filepath='drive/My Drive/Resultado/weights_' + arquiteture + '.hdf5', verbose=1, save_best_only=True)"
      ],
      "execution_count": 0,
      "outputs": []
    },
    {
      "metadata": {
        "colab_type": "code",
        "id": "KGy9-eyM7t1c",
        "outputId": "b0d4aeed-a1fc-4a8d-b806-0a4f0eb9ae7d",
        "colab": {
          "base_uri": "https://localhost:8080/",
          "height": 3710
        }
      },
      "cell_type": "code",
      "source": [
        "training = model.fit_generator(train_batches, steps_per_epoch=stepsPerEpoche, \n",
        "                   validation_data=validation_batches, validation_steps=validationSteps,\n",
        "                   epochs=50, verbose=2, callbacks=[checkpointer])"
      ],
      "execution_count": 239,
      "outputs": [
        {
          "output_type": "stream",
          "text": [
            "Epoch 1/50\n",
            " - 9s - loss: 1.1565 - acc: 0.6063 - val_loss: 0.8243 - val_acc: 0.5156\n",
            "\n",
            "Epoch 00001: val_loss improved from inf to 0.82430, saving model to drive/My Drive/Resultado/weights_architecture_11.hdf5\n",
            "Epoch 2/50\n",
            " - 1s - loss: 0.7155 - acc: 0.7156 - val_loss: 0.6780 - val_acc: 0.6406\n",
            "\n",
            "Epoch 00002: val_loss improved from 0.82430 to 0.67802, saving model to drive/My Drive/Resultado/weights_architecture_11.hdf5\n",
            "Epoch 3/50\n",
            " - 1s - loss: 0.6226 - acc: 0.7812 - val_loss: 0.7340 - val_acc: 0.6719\n",
            "\n",
            "Epoch 00003: val_loss did not improve from 0.67802\n",
            "Epoch 4/50\n",
            " - 1s - loss: 0.4548 - acc: 0.8563 - val_loss: 1.1356 - val_acc: 0.4531\n",
            "\n",
            "Epoch 00004: val_loss did not improve from 0.67802\n",
            "Epoch 5/50\n",
            " - 1s - loss: 0.4769 - acc: 0.8625 - val_loss: 0.9908 - val_acc: 0.4844\n",
            "\n",
            "Epoch 00005: val_loss did not improve from 0.67802\n",
            "Epoch 6/50\n",
            " - 1s - loss: 0.4545 - acc: 0.8625 - val_loss: 0.5924 - val_acc: 0.8125\n",
            "\n",
            "Epoch 00006: val_loss improved from 0.67802 to 0.59241, saving model to drive/My Drive/Resultado/weights_architecture_11.hdf5\n",
            "Epoch 7/50\n",
            " - 1s - loss: 0.4972 - acc: 0.8531 - val_loss: 1.2624 - val_acc: 0.2812\n",
            "\n",
            "Epoch 00007: val_loss did not improve from 0.59241\n",
            "Epoch 8/50\n",
            " - 1s - loss: 0.3923 - acc: 0.8937 - val_loss: 0.5334 - val_acc: 0.8125\n",
            "\n",
            "Epoch 00008: val_loss improved from 0.59241 to 0.53340, saving model to drive/My Drive/Resultado/weights_architecture_11.hdf5\n",
            "Epoch 9/50\n",
            " - 1s - loss: 0.3885 - acc: 0.8781 - val_loss: 1.0435 - val_acc: 0.3750\n",
            "\n",
            "Epoch 00009: val_loss did not improve from 0.53340\n",
            "Epoch 10/50\n",
            " - 1s - loss: 0.5247 - acc: 0.8438 - val_loss: 0.9240 - val_acc: 0.5781\n",
            "\n",
            "Epoch 00010: val_loss did not improve from 0.53340\n",
            "Epoch 11/50\n",
            " - 1s - loss: 0.3194 - acc: 0.9094 - val_loss: 1.0051 - val_acc: 0.4219\n",
            "\n",
            "Epoch 00011: val_loss did not improve from 0.53340\n",
            "Epoch 12/50\n",
            " - 1s - loss: 0.4628 - acc: 0.8531 - val_loss: 0.4008 - val_acc: 0.8906\n",
            "\n",
            "Epoch 00012: val_loss improved from 0.53340 to 0.40084, saving model to drive/My Drive/Resultado/weights_architecture_11.hdf5\n",
            "Epoch 13/50\n",
            " - 1s - loss: 0.4018 - acc: 0.8875 - val_loss: 0.5349 - val_acc: 0.7500\n",
            "\n",
            "Epoch 00013: val_loss did not improve from 0.40084\n",
            "Epoch 14/50\n",
            " - 1s - loss: 0.2464 - acc: 0.9344 - val_loss: 0.2287 - val_acc: 0.9688\n",
            "\n",
            "Epoch 00014: val_loss improved from 0.40084 to 0.22867, saving model to drive/My Drive/Resultado/weights_architecture_11.hdf5\n",
            "Epoch 15/50\n",
            " - 1s - loss: 0.3172 - acc: 0.9219 - val_loss: 0.5733 - val_acc: 0.7656\n",
            "\n",
            "Epoch 00015: val_loss did not improve from 0.22867\n",
            "Epoch 16/50\n",
            " - 1s - loss: 0.4200 - acc: 0.8406 - val_loss: 0.5629 - val_acc: 0.7500\n",
            "\n",
            "Epoch 00016: val_loss did not improve from 0.22867\n",
            "Epoch 17/50\n",
            " - 1s - loss: 0.3218 - acc: 0.9344 - val_loss: 0.7040 - val_acc: 0.6250\n",
            "\n",
            "Epoch 00017: val_loss did not improve from 0.22867\n",
            "Epoch 18/50\n",
            " - 1s - loss: 0.4188 - acc: 0.8812 - val_loss: 1.0940 - val_acc: 0.4844\n",
            "\n",
            "Epoch 00018: val_loss did not improve from 0.22867\n",
            "Epoch 19/50\n",
            " - 1s - loss: 0.3198 - acc: 0.9094 - val_loss: 0.2739 - val_acc: 0.9531\n",
            "\n",
            "Epoch 00019: val_loss did not improve from 0.22867\n",
            "Epoch 20/50\n",
            " - 1s - loss: 0.2716 - acc: 0.9188 - val_loss: 0.6623 - val_acc: 0.7344\n",
            "\n",
            "Epoch 00020: val_loss did not improve from 0.22867\n",
            "Epoch 21/50\n",
            " - 1s - loss: 0.2785 - acc: 0.9250 - val_loss: 0.4942 - val_acc: 0.8438\n",
            "\n",
            "Epoch 00021: val_loss did not improve from 0.22867\n",
            "Epoch 22/50\n",
            " - 1s - loss: 0.3823 - acc: 0.8875 - val_loss: 0.8938 - val_acc: 0.5000\n",
            "\n",
            "Epoch 00022: val_loss did not improve from 0.22867\n",
            "Epoch 23/50\n",
            " - 1s - loss: 0.4262 - acc: 0.8750 - val_loss: 0.7068 - val_acc: 0.7188\n",
            "\n",
            "Epoch 00023: val_loss did not improve from 0.22867\n",
            "Epoch 24/50\n",
            " - 1s - loss: 0.2757 - acc: 0.9375 - val_loss: 0.4741 - val_acc: 0.7656\n",
            "\n",
            "Epoch 00024: val_loss did not improve from 0.22867\n",
            "Epoch 25/50\n",
            " - 1s - loss: 0.2640 - acc: 0.9278 - val_loss: 0.4090 - val_acc: 0.9062\n",
            "\n",
            "Epoch 00025: val_loss did not improve from 0.22867\n",
            "Epoch 26/50\n",
            " - 1s - loss: 0.3617 - acc: 0.9000 - val_loss: 0.4797 - val_acc: 0.8750\n",
            "\n",
            "Epoch 00026: val_loss did not improve from 0.22867\n",
            "Epoch 27/50\n",
            " - 1s - loss: 0.1913 - acc: 0.9594 - val_loss: 0.4030 - val_acc: 0.8906\n",
            "\n",
            "Epoch 00027: val_loss did not improve from 0.22867\n",
            "Epoch 28/50\n",
            " - 1s - loss: 0.2680 - acc: 0.9313 - val_loss: 0.5147 - val_acc: 0.7031\n",
            "\n",
            "Epoch 00028: val_loss did not improve from 0.22867\n",
            "Epoch 29/50\n",
            " - 1s - loss: 0.3085 - acc: 0.9062 - val_loss: 0.9391 - val_acc: 0.5781\n",
            "\n",
            "Epoch 00029: val_loss did not improve from 0.22867\n",
            "Epoch 30/50\n",
            " - 1s - loss: 0.2062 - acc: 0.9656 - val_loss: 0.5583 - val_acc: 0.7969\n",
            "\n",
            "Epoch 00030: val_loss did not improve from 0.22867\n",
            "Epoch 31/50\n",
            " - 1s - loss: 0.2036 - acc: 0.9594 - val_loss: 0.6081 - val_acc: 0.6774\n",
            "\n",
            "Epoch 00031: val_loss did not improve from 0.22867\n",
            "Epoch 32/50\n",
            " - 1s - loss: 0.2521 - acc: 0.9344 - val_loss: 0.3631 - val_acc: 0.9219\n",
            "\n",
            "Epoch 00032: val_loss did not improve from 0.22867\n",
            "Epoch 33/50\n",
            " - 1s - loss: 0.3189 - acc: 0.9094 - val_loss: 0.3758 - val_acc: 0.8906\n",
            "\n",
            "Epoch 00033: val_loss did not improve from 0.22867\n",
            "Epoch 34/50\n",
            " - 1s - loss: 0.2958 - acc: 0.9219 - val_loss: 0.3889 - val_acc: 0.8906\n",
            "\n",
            "Epoch 00034: val_loss did not improve from 0.22867\n",
            "Epoch 35/50\n",
            " - 1s - loss: 0.2825 - acc: 0.9219 - val_loss: 0.3344 - val_acc: 0.8750\n",
            "\n",
            "Epoch 00035: val_loss did not improve from 0.22867\n",
            "Epoch 36/50\n",
            " - 1s - loss: 0.2617 - acc: 0.9188 - val_loss: 0.8353 - val_acc: 0.6250\n",
            "\n",
            "Epoch 00036: val_loss did not improve from 0.22867\n",
            "Epoch 37/50\n",
            " - 1s - loss: 0.4926 - acc: 0.8469 - val_loss: 0.8253 - val_acc: 0.5469\n",
            "\n",
            "Epoch 00037: val_loss did not improve from 0.22867\n",
            "Epoch 38/50\n",
            " - 1s - loss: 0.3265 - acc: 0.9156 - val_loss: 0.4723 - val_acc: 0.7969\n",
            "\n",
            "Epoch 00038: val_loss did not improve from 0.22867\n",
            "Epoch 39/50\n",
            " - 1s - loss: 0.2875 - acc: 0.9188 - val_loss: 0.9680 - val_acc: 0.5312\n",
            "\n",
            "Epoch 00039: val_loss did not improve from 0.22867\n",
            "Epoch 40/50\n",
            " - 1s - loss: 0.2835 - acc: 0.9156 - val_loss: 0.9863 - val_acc: 0.5469\n",
            "\n",
            "Epoch 00040: val_loss did not improve from 0.22867\n",
            "Epoch 41/50\n",
            " - 1s - loss: 0.3323 - acc: 0.9062 - val_loss: 0.3594 - val_acc: 0.9062\n",
            "\n",
            "Epoch 00041: val_loss did not improve from 0.22867\n",
            "Epoch 42/50\n",
            " - 1s - loss: 0.2712 - acc: 0.9031 - val_loss: 0.5285 - val_acc: 0.7500\n",
            "\n",
            "Epoch 00042: val_loss did not improve from 0.22867\n",
            "Epoch 43/50\n",
            " - 1s - loss: 0.3169 - acc: 0.9062 - val_loss: 0.4409 - val_acc: 0.8594\n",
            "\n",
            "Epoch 00043: val_loss did not improve from 0.22867\n",
            "Epoch 44/50\n",
            " - 1s - loss: 0.1826 - acc: 0.9469 - val_loss: 0.3897 - val_acc: 0.8906\n",
            "\n",
            "Epoch 00044: val_loss did not improve from 0.22867\n",
            "Epoch 45/50\n",
            " - 1s - loss: 0.2344 - acc: 0.9375 - val_loss: 0.8137 - val_acc: 0.5625\n",
            "\n",
            "Epoch 00045: val_loss did not improve from 0.22867\n",
            "Epoch 46/50\n",
            " - 1s - loss: 0.2197 - acc: 0.9531 - val_loss: 0.6437 - val_acc: 0.6562\n",
            "\n",
            "Epoch 00046: val_loss did not improve from 0.22867\n",
            "Epoch 47/50\n",
            " - 1s - loss: 0.3292 - acc: 0.8937 - val_loss: 0.4963 - val_acc: 0.8281\n",
            "\n",
            "Epoch 00047: val_loss did not improve from 0.22867\n",
            "Epoch 48/50\n",
            " - 1s - loss: 0.2014 - acc: 0.9469 - val_loss: 0.3770 - val_acc: 0.8125\n",
            "\n",
            "Epoch 00048: val_loss did not improve from 0.22867\n",
            "Epoch 49/50\n",
            " - 1s - loss: 0.2290 - acc: 0.9188 - val_loss: 0.4787 - val_acc: 0.8750\n",
            "\n",
            "Epoch 00049: val_loss did not improve from 0.22867\n",
            "Epoch 50/50\n",
            " - 1s - loss: 0.1538 - acc: 0.9719 - val_loss: 0.3005 - val_acc: 0.9219\n",
            "\n",
            "Epoch 00050: val_loss did not improve from 0.22867\n"
          ],
          "name": "stdout"
        }
      ]
    },
    {
      "metadata": {
        "colab_type": "code",
        "id": "n6AWbI6ikPC5",
        "outputId": "874aa4d6-91a4-4929-ef5d-d019f946041f",
        "colab": {
          "base_uri": "https://localhost:8080/",
          "height": 380
        }
      },
      "cell_type": "code",
      "source": [
        "# plotar loss e accuracy para os datasets 'train' e 'test'\n",
        "plt.style.use(\"ggplot\")\n",
        "plt.figure()\n",
        "plt.plot(training.history['acc'], label='Accuracy')\n",
        "plt.plot(training.history['loss'], label='Loss')\n",
        "plt.xlabel('Epochs')\n",
        "plt.ylabel('Accuracy')\n",
        "plt.title(\"Training Loss and Accuracy\")\n",
        "plt.ylabel(\"Loss/Accuracy\")\n",
        "plt.legend()\n",
        "plt.savefig('drive/My Drive/Resultado/' + arquiteture + '.png', bbox_inches='tight')"
      ],
      "execution_count": 240,
      "outputs": [
        {
          "output_type": "display_data",
          "data": {
            "image/png": "[encoded data removed]",
            "text/plain": [
              "<matplotlib.figure.Figure at 0x7f56775620b8>"
            ]
          },
          "metadata": {
            "tags": []
          }
        }
      ]
    },
    {
      "metadata": {
        "colab_type": "code",
        "id": "SspLcUTBkPDF",
        "outputId": "86c1a069-239d-4ad0-f9ee-e289e13d050a",
        "colab": {
          "base_uri": "https://localhost:8080/",
          "height": 74
        }
      },
      "cell_type": "code",
      "source": [
        "y_true, y_predict = ler_images_teste(arquiteture)"
      ],
      "execution_count": 241,
      "outputs": [
        {
          "output_type": "stream",
          "text": [
            "/usr/local/lib/python3.6/dist-packages/skimage/transform/_warps.py:84: UserWarning: The default mode, 'constant', will be changed to 'reflect' in skimage 0.15.\n",
            "  warn(\"The default mode, 'constant', will be changed to 'reflect' in \"\n"
          ],
          "name": "stderr"
        }
      ]
    },
    {
      "metadata": {
        "colab_type": "code",
        "id": "ppoXzpt-kPDO",
        "outputId": "b265211a-c11b-4b59-c9c2-6f5bf472771d",
        "colab": {
          "base_uri": "https://localhost:8080/",
          "height": 35
        }
      },
      "cell_type": "code",
      "source": [
        "results[arquiteture] = accuracy_score(y_true, y_predict)\n",
        "print('Test Accuracy: {:.2f}%'.format(100 * results[arquiteture]))"
      ],
      "execution_count": 242,
      "outputs": [
        {
          "output_type": "stream",
          "text": [
            "Test Accuracy: 78.42%\n"
          ],
          "name": "stdout"
        }
      ]
    },
    {
      "metadata": {
        "id": "26BCkdp9MAna",
        "colab_type": "text"
      },
      "cell_type": "markdown",
      "source": [
        "### 12 tentativa Accuracy: 70.98%"
      ]
    },
    {
      "metadata": {
        "colab_type": "text",
        "id": "MLvKG40a84F9"
      },
      "cell_type": "markdown",
      "source": [
        "Modelo adaptado do **Lucas Albertins**\n",
        "\n",
        "*   Sem utilização das funções de regularização\n",
        "*   Função **SGD** para compilação\n",
        "*   Adicionado mais 2 camadas convolutivas"
      ]
    },
    {
      "metadata": {
        "colab_type": "code",
        "id": "9LrDSy5AMFDO",
        "colab": {}
      },
      "cell_type": "code",
      "source": [
        "from keras.layers import Conv2D, MaxPooling2D, GlobalMaxPooling2D, BatchNormalization\n",
        "from keras.regularizers import l2\n",
        "\n",
        "model = Sequential()\n",
        "\n",
        "model.add(Conv2D(32, (3, 3), activation='relu',input_shape=(None, None, 3)))\n",
        "model.add(BatchNormalization())\n",
        "model.add(Conv2D(32, (3, 3), activation='relu'))\n",
        "model.add(BatchNormalization())\n",
        "model.add(MaxPooling2D((2, 2)))\n",
        "model.add(Dropout(0.25))\n",
        "\n",
        "model.add(Conv2D(64, (3, 3), activation='relu'))\n",
        "model.add(BatchNormalization())\n",
        "model.add(Conv2D(64, (3, 3), activation='relu'))\n",
        "model.add(BatchNormalization())\n",
        "model.add(MaxPooling2D((2, 2)))\n",
        "model.add(Dropout(0.25))\n",
        "\n",
        "model.add(Conv2D(96, (3, 3),activation='relu'))\n",
        "model.add(BatchNormalization())\n",
        "model.add(Conv2D(96, (3, 3),activation='relu'))\n",
        "model.add(BatchNormalization())\n",
        "model.add(MaxPooling2D((2, 2)))\n",
        "model.add(Dropout(0.25))\n",
        "\n",
        "model.add(Conv2D(128, (1,1)))\n",
        "model.add(GlobalMaxPooling2D())\n",
        "\n",
        "model.add(Dense(256, activation='relu'))\n",
        "model.add(Dropout(0.5))\n",
        "model.add(Dense(2, activation='sigmoid'))"
      ],
      "execution_count": 0,
      "outputs": []
    },
    {
      "metadata": {
        "colab_type": "code",
        "id": "EUZ-2eyUMSxQ",
        "colab": {}
      },
      "cell_type": "code",
      "source": [
        "model.compile(SGD(lr=0.01, momentum=0.0, decay=0.0, nesterov=False), \n",
        "              loss='binary_crossentropy', metrics=['accuracy'])"
      ],
      "execution_count": 0,
      "outputs": []
    },
    {
      "metadata": {
        "colab_type": "code",
        "id": "-_TE6KwakRoT",
        "colab": {}
      },
      "cell_type": "code",
      "source": [
        "arquiteture = 'architecture_12'"
      ],
      "execution_count": 0,
      "outputs": []
    },
    {
      "metadata": {
        "colab_type": "code",
        "id": "t9LJH3RP9H7J",
        "colab": {}
      },
      "cell_type": "code",
      "source": [
        "checkpointer = ModelCheckpoint(filepath='drive/My Drive/Resultado/weights_' + arquiteture + '.hdf5', verbose=1, save_best_only=True)"
      ],
      "execution_count": 0,
      "outputs": []
    },
    {
      "metadata": {
        "colab_type": "code",
        "id": "nnQVNSzq9H7S",
        "outputId": "e0bbc0e9-f33c-4c02-f7ee-57d7d380f67d",
        "colab": {
          "base_uri": "https://localhost:8080/",
          "height": 3710
        }
      },
      "cell_type": "code",
      "source": [
        "training = model.fit_generator(train_batches, steps_per_epoch=stepsPerEpoche, \n",
        "                   validation_data=validation_batches, validation_steps=validationSteps,\n",
        "                   epochs=50, verbose=2, callbacks=[checkpointer])"
      ],
      "execution_count": 247,
      "outputs": [
        {
          "output_type": "stream",
          "text": [
            "Epoch 1/50\n",
            " - 10s - loss: 1.5212 - acc: 0.5375 - val_loss: 0.7730 - val_acc: 0.4839\n",
            "\n",
            "Epoch 00001: val_loss improved from inf to 0.77298, saving model to drive/My Drive/Resultado/weights_architecture_12.hdf5\n",
            "Epoch 2/50\n",
            " - 1s - loss: 0.7406 - acc: 0.7300 - val_loss: 0.6674 - val_acc: 0.5938\n",
            "\n",
            "Epoch 00002: val_loss improved from 0.77298 to 0.66738, saving model to drive/My Drive/Resultado/weights_architecture_12.hdf5\n",
            "Epoch 3/50\n",
            " - 1s - loss: 0.5735 - acc: 0.7875 - val_loss: 0.6112 - val_acc: 0.8750\n",
            "\n",
            "Epoch 00003: val_loss improved from 0.66738 to 0.61115, saving model to drive/My Drive/Resultado/weights_architecture_12.hdf5\n",
            "Epoch 4/50\n",
            " - 1s - loss: 0.5547 - acc: 0.8063 - val_loss: 0.4528 - val_acc: 0.8750\n",
            "\n",
            "Epoch 00004: val_loss improved from 0.61115 to 0.45281, saving model to drive/My Drive/Resultado/weights_architecture_12.hdf5\n",
            "Epoch 5/50\n",
            " - 1s - loss: 0.7799 - acc: 0.7375 - val_loss: 0.6921 - val_acc: 0.5625\n",
            "\n",
            "Epoch 00005: val_loss did not improve from 0.45281\n",
            "Epoch 6/50\n",
            " - 1s - loss: 0.4122 - acc: 0.8281 - val_loss: 0.5111 - val_acc: 0.7344\n",
            "\n",
            "Epoch 00006: val_loss did not improve from 0.45281\n",
            "Epoch 7/50\n",
            " - 1s - loss: 0.3639 - acc: 0.8375 - val_loss: 0.3898 - val_acc: 0.8594\n",
            "\n",
            "Epoch 00007: val_loss improved from 0.45281 to 0.38980, saving model to drive/My Drive/Resultado/weights_architecture_12.hdf5\n",
            "Epoch 8/50\n",
            " - 1s - loss: 0.2424 - acc: 0.9094 - val_loss: 0.3532 - val_acc: 0.8281\n",
            "\n",
            "Epoch 00008: val_loss improved from 0.38980 to 0.35320, saving model to drive/My Drive/Resultado/weights_architecture_12.hdf5\n",
            "Epoch 9/50\n",
            " - 1s - loss: 0.2689 - acc: 0.8937 - val_loss: 0.3566 - val_acc: 0.8438\n",
            "\n",
            "Epoch 00009: val_loss did not improve from 0.35320\n",
            "Epoch 10/50\n",
            " - 1s - loss: 0.2710 - acc: 0.9031 - val_loss: 1.0018 - val_acc: 0.5156\n",
            "\n",
            "Epoch 00010: val_loss did not improve from 0.35320\n",
            "Epoch 11/50\n",
            " - 1s - loss: 0.3821 - acc: 0.8563 - val_loss: 0.6477 - val_acc: 0.7188\n",
            "\n",
            "Epoch 00011: val_loss did not improve from 0.35320\n",
            "Epoch 12/50\n",
            " - 1s - loss: 0.2499 - acc: 0.9094 - val_loss: 0.3758 - val_acc: 0.8750\n",
            "\n",
            "Epoch 00012: val_loss did not improve from 0.35320\n",
            "Epoch 13/50\n",
            " - 1s - loss: 0.2852 - acc: 0.8969 - val_loss: 0.5188 - val_acc: 0.6406\n",
            "\n",
            "Epoch 00013: val_loss did not improve from 0.35320\n",
            "Epoch 14/50\n",
            " - 1s - loss: 0.3251 - acc: 0.8750 - val_loss: 0.8350 - val_acc: 0.5625\n",
            "\n",
            "Epoch 00014: val_loss did not improve from 0.35320\n",
            "Epoch 15/50\n",
            " - 1s - loss: 0.2323 - acc: 0.9188 - val_loss: 0.2671 - val_acc: 0.9375\n",
            "\n",
            "Epoch 00015: val_loss improved from 0.35320 to 0.26708, saving model to drive/My Drive/Resultado/weights_architecture_12.hdf5\n",
            "Epoch 16/50\n",
            " - 1s - loss: 0.3536 - acc: 0.8844 - val_loss: 0.8648 - val_acc: 0.5938\n",
            "\n",
            "Epoch 00016: val_loss did not improve from 0.26708\n",
            "Epoch 17/50\n",
            " - 1s - loss: 0.2814 - acc: 0.8750 - val_loss: 0.6882 - val_acc: 0.6875\n",
            "\n",
            "Epoch 00017: val_loss did not improve from 0.26708\n",
            "Epoch 18/50\n",
            " - 1s - loss: 0.2905 - acc: 0.8937 - val_loss: 0.5803 - val_acc: 0.7500\n",
            "\n",
            "Epoch 00018: val_loss did not improve from 0.26708\n",
            "Epoch 19/50\n",
            " - 1s - loss: 0.3156 - acc: 0.8750 - val_loss: 0.5525 - val_acc: 0.7344\n",
            "\n",
            "Epoch 00019: val_loss did not improve from 0.26708\n",
            "Epoch 20/50\n",
            " - 1s - loss: 0.1964 - acc: 0.9219 - val_loss: 0.5211 - val_acc: 0.6719\n",
            "\n",
            "Epoch 00020: val_loss did not improve from 0.26708\n",
            "Epoch 21/50\n",
            " - 1s - loss: 0.1820 - acc: 0.9219 - val_loss: 1.0096 - val_acc: 0.6094\n",
            "\n",
            "Epoch 00021: val_loss did not improve from 0.26708\n",
            "Epoch 22/50\n",
            " - 1s - loss: 0.2859 - acc: 0.9031 - val_loss: 0.9960 - val_acc: 0.4688\n",
            "\n",
            "Epoch 00022: val_loss did not improve from 0.26708\n",
            "Epoch 23/50\n",
            " - 1s - loss: 0.2558 - acc: 0.9125 - val_loss: 0.8875 - val_acc: 0.6250\n",
            "\n",
            "Epoch 00023: val_loss did not improve from 0.26708\n",
            "Epoch 24/50\n",
            " - 1s - loss: 0.3638 - acc: 0.8750 - val_loss: 0.9447 - val_acc: 0.4688\n",
            "\n",
            "Epoch 00024: val_loss did not improve from 0.26708\n",
            "Epoch 25/50\n",
            " - 1s - loss: 0.3491 - acc: 0.8469 - val_loss: 0.3989 - val_acc: 0.8125\n",
            "\n",
            "Epoch 00025: val_loss did not improve from 0.26708\n",
            "Epoch 26/50\n",
            " - 1s - loss: 0.2839 - acc: 0.8812 - val_loss: 0.2733 - val_acc: 0.8906\n",
            "\n",
            "Epoch 00026: val_loss did not improve from 0.26708\n",
            "Epoch 27/50\n",
            " - 1s - loss: 0.1803 - acc: 0.9375 - val_loss: 0.4455 - val_acc: 0.7969\n",
            "\n",
            "Epoch 00027: val_loss did not improve from 0.26708\n",
            "Epoch 28/50\n",
            " - 1s - loss: 0.2767 - acc: 0.8844 - val_loss: 0.5438 - val_acc: 0.7656\n",
            "\n",
            "Epoch 00028: val_loss did not improve from 0.26708\n",
            "Epoch 29/50\n",
            " - 1s - loss: 0.2386 - acc: 0.9159 - val_loss: 0.2947 - val_acc: 0.8281\n",
            "\n",
            "Epoch 00029: val_loss did not improve from 0.26708\n",
            "Epoch 30/50\n",
            " - 1s - loss: 0.2461 - acc: 0.9094 - val_loss: 0.2966 - val_acc: 0.8438\n",
            "\n",
            "Epoch 00030: val_loss did not improve from 0.26708\n",
            "Epoch 31/50\n",
            " - 1s - loss: 0.2042 - acc: 0.9281 - val_loss: 0.3704 - val_acc: 0.8438\n",
            "\n",
            "Epoch 00031: val_loss did not improve from 0.26708\n",
            "Epoch 32/50\n",
            " - 1s - loss: 0.1844 - acc: 0.9437 - val_loss: 0.2860 - val_acc: 0.9194\n",
            "\n",
            "Epoch 00032: val_loss did not improve from 0.26708\n",
            "Epoch 33/50\n",
            " - 1s - loss: 0.2479 - acc: 0.8969 - val_loss: 0.4034 - val_acc: 0.8438\n",
            "\n",
            "Epoch 00033: val_loss did not improve from 0.26708\n",
            "Epoch 34/50\n",
            " - 1s - loss: 0.2374 - acc: 0.9188 - val_loss: 0.3344 - val_acc: 0.8438\n",
            "\n",
            "Epoch 00034: val_loss did not improve from 0.26708\n",
            "Epoch 35/50\n",
            " - 1s - loss: 0.1796 - acc: 0.9344 - val_loss: 0.3928 - val_acc: 0.7344\n",
            "\n",
            "Epoch 00035: val_loss did not improve from 0.26708\n",
            "Epoch 36/50\n",
            " - 1s - loss: 0.1599 - acc: 0.9531 - val_loss: 0.3640 - val_acc: 0.8438\n",
            "\n",
            "Epoch 00036: val_loss did not improve from 0.26708\n",
            "Epoch 37/50\n",
            " - 1s - loss: 0.2876 - acc: 0.8844 - val_loss: 0.2790 - val_acc: 0.8750\n",
            "\n",
            "Epoch 00037: val_loss did not improve from 0.26708\n",
            "Epoch 38/50\n",
            " - 1s - loss: 0.1753 - acc: 0.9281 - val_loss: 0.6204 - val_acc: 0.6719\n",
            "\n",
            "Epoch 00038: val_loss did not improve from 0.26708\n",
            "Epoch 39/50\n",
            " - 1s - loss: 0.2177 - acc: 0.9188 - val_loss: 0.2863 - val_acc: 0.8750\n",
            "\n",
            "Epoch 00039: val_loss did not improve from 0.26708\n",
            "Epoch 40/50\n",
            " - 1s - loss: 0.3037 - acc: 0.8937 - val_loss: 0.7200 - val_acc: 0.6719\n",
            "\n",
            "Epoch 00040: val_loss did not improve from 0.26708\n",
            "Epoch 41/50\n",
            " - 1s - loss: 0.2049 - acc: 0.9313 - val_loss: 0.7454 - val_acc: 0.6406\n",
            "\n",
            "Epoch 00041: val_loss did not improve from 0.26708\n",
            "Epoch 42/50\n",
            " - 1s - loss: 0.2893 - acc: 0.8844 - val_loss: 0.2117 - val_acc: 0.9375\n",
            "\n",
            "Epoch 00042: val_loss improved from 0.26708 to 0.21166, saving model to drive/My Drive/Resultado/weights_architecture_12.hdf5\n",
            "Epoch 43/50\n",
            " - 1s - loss: 0.1569 - acc: 0.9281 - val_loss: 0.3339 - val_acc: 0.8750\n",
            "\n",
            "Epoch 00043: val_loss did not improve from 0.21166\n",
            "Epoch 44/50\n",
            " - 1s - loss: 0.2611 - acc: 0.9031 - val_loss: 0.1941 - val_acc: 0.9531\n",
            "\n",
            "Epoch 00044: val_loss improved from 0.21166 to 0.19408, saving model to drive/My Drive/Resultado/weights_architecture_12.hdf5\n",
            "Epoch 45/50\n",
            " - 1s - loss: 0.2040 - acc: 0.9250 - val_loss: 0.3351 - val_acc: 0.8281\n",
            "\n",
            "Epoch 00045: val_loss did not improve from 0.19408\n",
            "Epoch 46/50\n",
            " - 1s - loss: 0.1960 - acc: 0.9250 - val_loss: 1.2870 - val_acc: 0.4375\n",
            "\n",
            "Epoch 00046: val_loss did not improve from 0.19408\n",
            "Epoch 47/50\n",
            " - 1s - loss: 0.2734 - acc: 0.9125 - val_loss: 0.9633 - val_acc: 0.5312\n",
            "\n",
            "Epoch 00047: val_loss did not improve from 0.19408\n",
            "Epoch 48/50\n",
            " - 1s - loss: 0.2744 - acc: 0.9031 - val_loss: 0.4101 - val_acc: 0.7969\n",
            "\n",
            "Epoch 00048: val_loss did not improve from 0.19408\n",
            "Epoch 49/50\n",
            " - 1s - loss: 0.1493 - acc: 0.9344 - val_loss: 0.3159 - val_acc: 0.8594\n",
            "\n",
            "Epoch 00049: val_loss did not improve from 0.19408\n",
            "Epoch 50/50\n",
            " - 1s - loss: 0.2837 - acc: 0.9031 - val_loss: 0.4173 - val_acc: 0.7969\n",
            "\n",
            "Epoch 00050: val_loss did not improve from 0.19408\n"
          ],
          "name": "stdout"
        }
      ]
    },
    {
      "metadata": {
        "colab_type": "code",
        "id": "5Z2o5TCGkRoi",
        "outputId": "72a870a9-7cc6-4574-d5dc-453fd5238984",
        "colab": {
          "base_uri": "https://localhost:8080/",
          "height": 380
        }
      },
      "cell_type": "code",
      "source": [
        "# plotar loss e accuracy para os datasets 'train' e 'test'\n",
        "plt.style.use(\"ggplot\")\n",
        "plt.figure()\n",
        "plt.plot(training.history['acc'], label='Accuracy')\n",
        "plt.plot(training.history['loss'], label='Loss')\n",
        "plt.xlabel('Epochs')\n",
        "plt.ylabel('Accuracy')\n",
        "plt.title(\"Training Loss and Accuracy\")\n",
        "plt.ylabel(\"Loss/Accuracy\")\n",
        "plt.legend()\n",
        "plt.savefig('drive/My Drive/Resultado/' + arquiteture + '.png', bbox_inches='tight')"
      ],
      "execution_count": 248,
      "outputs": [
        {
          "output_type": "display_data",
          "data": {
            "image/png": "[encoded data removed]",
            "text/plain": [
              "<matplotlib.figure.Figure at 0x7f5677424860>"
            ]
          },
          "metadata": {
            "tags": []
          }
        }
      ]
    },
    {
      "metadata": {
        "colab_type": "code",
        "id": "gNjIuvcfkRou",
        "outputId": "fb5ce161-ebaa-4a3d-ba75-f79a6c58bf7e",
        "colab": {
          "base_uri": "https://localhost:8080/",
          "height": 74
        }
      },
      "cell_type": "code",
      "source": [
        "y_true, y_predict = ler_images_teste(arquiteture)"
      ],
      "execution_count": 249,
      "outputs": [
        {
          "output_type": "stream",
          "text": [
            "/usr/local/lib/python3.6/dist-packages/skimage/transform/_warps.py:84: UserWarning: The default mode, 'constant', will be changed to 'reflect' in skimage 0.15.\n",
            "  warn(\"The default mode, 'constant', will be changed to 'reflect' in \"\n"
          ],
          "name": "stderr"
        }
      ]
    },
    {
      "metadata": {
        "colab_type": "code",
        "id": "GpyaeT1LkRo2",
        "outputId": "ea142964-e490-4a22-eb91-3a1e4eadff58",
        "colab": {
          "base_uri": "https://localhost:8080/",
          "height": 35
        }
      },
      "cell_type": "code",
      "source": [
        "results[arquiteture] = accuracy_score(y_true, y_predict)\n",
        "print('Test Accuracy: {:.2f}%'.format(100 * results[arquiteture]))"
      ],
      "execution_count": 250,
      "outputs": [
        {
          "output_type": "stream",
          "text": [
            "Test Accuracy: 70.98%\n"
          ],
          "name": "stdout"
        }
      ]
    }
  ]
}