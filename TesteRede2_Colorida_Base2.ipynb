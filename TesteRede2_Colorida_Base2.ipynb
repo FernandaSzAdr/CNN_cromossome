{
  "nbformat": 4,
  "nbformat_minor": 0,
  "metadata": {
    "colab": {
      "name": "TesteRede2_Colorida_Base2.ipynb",
      "version": "0.3.2",
      "provenance": [],
      "include_colab_link": true
    },
    "kernelspec": {
      "name": "python3",
      "display_name": "Python 3"
    },
    "accelerator": "GPU"
  },
  "cells": [
    {
      "cell_type": "markdown",
      "metadata": {
        "id": "view-in-github",
        "colab_type": "text"
      },
      "source": [
        "<a href=\"https://colab.research.google.com/github/FernandaSzAdr/KNN_cromossome/blob/master/TesteRede2_Colorida_Base2.ipynb\" target=\"_parent\"><img src=\"https://colab.research.google.com/assets/colab-badge.svg\" alt=\"Open In Colab\"/></a>"
      ]
    },
    {
      "metadata": {
        "id": "xN-oUTtcif3Q",
        "colab_type": "code",
        "outputId": "1299ee97-36d2-4541-99f1-166eb3a43222",
        "colab": {
          "base_uri": "https://localhost:8080/",
          "height": 129
        }
      },
      "cell_type": "code",
      "source": [
        "# Load the Drive helper and mount\n",
        "from google.colab import drive\n",
        "\n",
        "# This will prompt for authorization.\n",
        "drive.mount('/content/drive/')"
      ],
      "execution_count": 1,
      "outputs": [
        {
          "output_type": "stream",
          "text": [
            "Go to this URL in a browser: https://accounts.google.com/o/oauth2/auth?client_id=947318989803-6bn6qk8qdgf4n4g3pfee6491hc0brc4i.apps.googleusercontent.com&redirect_uri=urn%3Aietf%3Awg%3Aoauth%3A2.0%3Aoob&scope=email%20https%3A%2F%2Fwww.googleapis.com%2Fauth%2Fdocs.test%20https%3A%2F%2Fwww.googleapis.com%2Fauth%2Fdrive%20https%3A%2F%2Fwww.googleapis.com%2Fauth%2Fdrive.photos.readonly%20https%3A%2F%2Fwww.googleapis.com%2Fauth%2Fpeopleapi.readonly&response_type=code\n",
            "\n",
            "Enter your authorization code:\n",
            "··········\n",
            "Mounted at /content/drive/\n"
          ],
          "name": "stdout"
        }
      ]
    },
    {
      "metadata": {
        "id": "w6ISJXHD4N4K",
        "colab_type": "text"
      },
      "cell_type": "markdown",
      "source": [
        "\n",
        "\n",
        "---\n",
        "\n"
      ]
    },
    {
      "metadata": {
        "id": "gzcuEGSklnwS",
        "colab_type": "code",
        "outputId": "27493eba-7303-45cb-f33e-26b957cac162",
        "colab": {
          "base_uri": "https://localhost:8080/",
          "height": 202
        }
      },
      "cell_type": "code",
      "source": [
        "import os\n",
        "import cv2\n",
        "import csv\n",
        "!pip install imutils\n",
        "import imutils\n",
        "from skimage import transform\n",
        "import numpy as np\n",
        "import keras\n",
        "from keras import backend as K\n",
        "from keras.models import Sequential\n",
        "from keras.layers import Activation\n",
        "from keras.optimizers import SGD\n",
        "from keras.layers.core import Dense, Flatten, Dropout\n",
        "from keras.preprocessing.image import ImageDataGenerator\n",
        "from keras.layers.normalization import BatchNormalization\n",
        "from keras.layers.convolutional import *\n",
        "from keras.callbacks import ModelCheckpoint\n",
        "from matplotlib import pyplot as plt\n",
        "from sklearn.metrics import confusion_matrix\n",
        "from sklearn.metrics import recall_score\n",
        "from sklearn.metrics import precision_score\n",
        "import itertools\n",
        "import matplotlib.pyplot as plt"
      ],
      "execution_count": 2,
      "outputs": [
        {
          "output_type": "stream",
          "text": [
            "Collecting imutils\n",
            "  Downloading https://files.pythonhosted.org/packages/ee/29/6b20a2f2444be479cbd74b8fb0dd2ee92671e1c52360f1cb022c6c00e052/imutils-0.5.1.tar.gz\n",
            "Building wheels for collected packages: imutils\n",
            "  Running setup.py bdist_wheel for imutils ... \u001b[?25l-\b \b\\\b \bdone\n",
            "\u001b[?25h  Stored in directory: /root/.cache/pip/wheels/4c/ff/aa/824fb9efc5b8c740d54cd8bc19c7e85fbb8d115c77e56812c7\n",
            "Successfully built imutils\n",
            "Installing collected packages: imutils\n",
            "Successfully installed imutils-0.5.1\n"
          ],
          "name": "stdout"
        },
        {
          "output_type": "stream",
          "text": [
            "Using TensorFlow backend.\n"
          ],
          "name": "stderr"
        }
      ]
    },
    {
      "metadata": {
        "id": "CBvSHus84he5",
        "colab_type": "text"
      },
      "cell_type": "markdown",
      "source": [
        "\n",
        "\n",
        "---\n",
        "\n"
      ]
    },
    {
      "metadata": {
        "id": "6wA_R_Dc4k1P",
        "colab_type": "text"
      },
      "cell_type": "markdown",
      "source": [
        "## Funções"
      ]
    },
    {
      "metadata": {
        "id": "ITtEfxrilym7",
        "colab_type": "code",
        "colab": {}
      },
      "cell_type": "code",
      "source": [
        "train_path = 'drive/My Drive/Base_CNN/Colorido2/Train'\n",
        "test_path = 'drive/My Drive/Base_CNN/Colorido2/Test'\n",
        "validation_path = 'drive/My Drive/Base_CNN/Colorido2/Validation'"
      ],
      "execution_count": 0,
      "outputs": []
    },
    {
      "metadata": {
        "id": "e835RSQgEgA6",
        "colab_type": "code",
        "colab": {}
      },
      "cell_type": "code",
      "source": [
        "def converte(regiao):\n",
        "   regiao = np.array(regiao).astype('float32')/255\n",
        "   regiao = transform.resize(regiao, (120, 120, 3))\n",
        "   regiao = np.expand_dims(regiao, axis=0)\n",
        "   return regiao\n"
      ],
      "execution_count": 0,
      "outputs": []
    },
    {
      "metadata": {
        "id": "9ERJTQ3AgFJb",
        "colab_type": "code",
        "colab": {}
      },
      "cell_type": "code",
      "source": [
        "def ler_images_teste(arquiteture):\n",
        "  y_true = []\n",
        "  y_predict = []\n",
        "  images_test = os.listdir(test_path)\n",
        "  local = 'drive/My Drive/Base_CNN/Colorido2/Resultado_Image/' + arquiteture\n",
        "  if os.path.isdir(local) == False:\n",
        "    os.mkdir(local)\n",
        "  \n",
        "  for img in images_test:\n",
        "    # Pega cada imagem separadamente do folder de teste\n",
        "    image = cv2.imread(test_path + '/' + img)\n",
        "    image = imutils.resize(image, width=1000)\n",
        "    f = open('drive/My Drive/Base_CNN/Binarizado2/posicoes_segmentada.csv', 'r')\n",
        "    \n",
        "    copia = image.copy()\n",
        "\n",
        "    try:\n",
        "      leitor = csv.reader(f)\n",
        "      leitor = list(leitor)\n",
        "      leitor.pop(0)\n",
        "      for linha in leitor:\n",
        "        if len(linha) > 0:\n",
        "          # Para cada região dessa imagem:\n",
        "          if linha[0] == img:\n",
        "            posicoes = []\n",
        "            x = int(linha[3])\n",
        "            y = int(linha[4])\n",
        "            w = int(linha[5])\n",
        "            h = int(linha[6])\n",
        "            \n",
        "            # Label da região\n",
        "            label = linha[1]\n",
        "            if label == 'NC':\n",
        "              y_true.append(1)\n",
        "            else:\n",
        "              y_true.append(0)\n",
        "            \n",
        "            # Região\n",
        "            regiao = image[y: y + h, x: x + w]\n",
        "            regiao = converte(regiao)\n",
        "            \n",
        "            # Coloca a região na função e obtem o resultado\n",
        "            predicao = model.predict(regiao,batch_size=bSize,verbose=0)\n",
        "            \n",
        "            # Se é um cromossomo:\n",
        "            if predicao[0][0] > predicao[0][1]:\n",
        "              y_predict.append(0)\n",
        "              cv2.rectangle(copia,(x, y),(x+w, y+h),(0,0,255), 1)\n",
        "            # Se não for um cromossomo:\n",
        "            else:\n",
        "              y_predict.append(1)\n",
        "              cv2.rectangle(copia,(x, y),(x+w, y+h),(0,255,0), 1)\n",
        "                        \n",
        "    finally:\n",
        "      f.close()\n",
        "    \n",
        "    cv2.imwrite(local + '/' + img, copia)\n",
        "  \n",
        "  return y_true, y_predict\n"
      ],
      "execution_count": 0,
      "outputs": []
    },
    {
      "metadata": {
        "id": "WlPBqB_v3x2A",
        "colab_type": "text"
      },
      "cell_type": "markdown",
      "source": [
        "\n",
        "\n",
        "---\n",
        "\n"
      ]
    },
    {
      "metadata": {
        "id": "8KTtm8K7qg1n",
        "colab_type": "text"
      },
      "cell_type": "markdown",
      "source": [
        "## Implementação"
      ]
    },
    {
      "metadata": {
        "id": "ZNfohSUpo1n0",
        "colab_type": "text"
      },
      "cell_type": "markdown",
      "source": [
        "\n",
        "\n",
        "*   Batch size = 32\n",
        "*   Image size = 120x120\n",
        "\n"
      ]
    },
    {
      "metadata": {
        "id": "_TFWtLbQ2fUI",
        "colab_type": "code",
        "colab": {}
      },
      "cell_type": "code",
      "source": [
        "results = {}"
      ],
      "execution_count": 0,
      "outputs": []
    },
    {
      "metadata": {
        "id": "W3zmFDRmnYem",
        "colab_type": "code",
        "colab": {}
      },
      "cell_type": "code",
      "source": [
        "bSize = 32"
      ],
      "execution_count": 0,
      "outputs": []
    },
    {
      "metadata": {
        "id": "dCNH0jPl3WTV",
        "colab_type": "code",
        "colab": {}
      },
      "cell_type": "code",
      "source": [
        "datagen = ImageDataGenerator(rescale=1/255.)"
      ],
      "execution_count": 0,
      "outputs": []
    },
    {
      "metadata": {
        "id": "YiMXe23Vmbo-",
        "colab_type": "code",
        "outputId": "b38e853f-c5b6-4d07-901f-c4de504caf18",
        "colab": {
          "base_uri": "https://localhost:8080/",
          "height": 54
        }
      },
      "cell_type": "code",
      "source": [
        "train_batches = datagen.flow_from_directory(train_path, target_size=(120, 120), \n",
        "                                            classes=['NC', 'C'], \n",
        "                                            batch_size=bSize)\n",
        "validation_batches = datagen.flow_from_directory(validation_path, \n",
        "                                                 target_size=(120, 120), \n",
        "                                                 classes=['NC', 'C'], \n",
        "                                                 batch_size=bSize)"
      ],
      "execution_count": 9,
      "outputs": [
        {
          "output_type": "stream",
          "text": [
            "Found 4369 images belonging to 2 classes.\n",
            "Found 991 images belonging to 2 classes.\n"
          ],
          "name": "stdout"
        }
      ]
    },
    {
      "metadata": {
        "id": "vE-dZtSv5mde",
        "colab_type": "code",
        "colab": {}
      },
      "cell_type": "code",
      "source": [
        "stepsPerEpoche = len(train_batches)/bSize\n",
        "validationSteps = len(validation_batches)/bSize"
      ],
      "execution_count": 0,
      "outputs": []
    },
    {
      "metadata": {
        "id": "pOQMFxK5VUPa",
        "colab_type": "code",
        "outputId": "9f004983-b5ec-4481-a38c-8de5fb5da426",
        "colab": {
          "base_uri": "https://localhost:8080/",
          "height": 35
        }
      },
      "cell_type": "code",
      "source": [
        "train_batches.class_indices"
      ],
      "execution_count": 11,
      "outputs": [
        {
          "output_type": "execute_result",
          "data": {
            "text/plain": [
              "{'C': 1, 'NC': 0}"
            ]
          },
          "metadata": {
            "tags": []
          },
          "execution_count": 11
        }
      ]
    },
    {
      "metadata": {
        "id": "tY7Fxpczz0wk",
        "colab_type": "text"
      },
      "cell_type": "markdown",
      "source": [
        "\n",
        "\n",
        "---\n",
        "\n"
      ]
    },
    {
      "metadata": {
        "id": "wH56YdE5rlnU",
        "colab_type": "text"
      },
      "cell_type": "markdown",
      "source": [
        "### 1 tentativa Precision: 0.00%"
      ]
    },
    {
      "metadata": {
        "id": "NBCIFVOlompR",
        "colab_type": "text"
      },
      "cell_type": "markdown",
      "source": [
        "**Descrição**\n",
        "\n",
        "\n",
        "*   Modelo descrito no artigo \"Crowdsourcing for Chromosome Segmentation and Deep Classification\"\n",
        "\n"
      ]
    },
    {
      "metadata": {
        "id": "rNosdG-ioNYU",
        "colab_type": "code",
        "colab": {}
      },
      "cell_type": "code",
      "source": [
        "model = Sequential([\n",
        "    Conv2D(64, (3, 3), activation='relu', input_shape=(120, 120, 3)),\n",
        "    Conv2D(64, (3, 3), activation='relu'),\n",
        "    Dropout(0.2),\n",
        "    MaxPooling2D(pool_size=(2, 2)),\n",
        "   \n",
        "    Conv2D(32, (3, 3), activation='relu'),\n",
        "    Conv2D(32, (3, 3), activation='relu'),\n",
        "    Dropout(0.2),\n",
        "    MaxPooling2D(pool_size=(2, 2)),\n",
        "   \n",
        "    Conv2D(16, (3, 3), activation='relu'),\n",
        "    Conv2D(16, (3, 3), activation='relu'),\n",
        "    Dropout(0.2),\n",
        "    MaxPooling2D(pool_size=(2, 2)),\n",
        "   \n",
        "    Conv2D(8, (3, 3), activation='relu'),\n",
        "    Conv2D(8, (3, 3), activation='relu'),\n",
        "    Dropout(0.2),\n",
        "    MaxPooling2D(pool_size=(2, 2)),\n",
        "    \n",
        "    Flatten(),\n",
        "    Dense(1024, activation='sigmoid'),\n",
        "    Dense(512, activation='sigmoid'),\n",
        "   \n",
        "    Dense(2, activation='softmax')\n",
        "]\n",
        ")"
      ],
      "execution_count": 0,
      "outputs": []
    },
    {
      "metadata": {
        "id": "UBqwdK2Bxagj",
        "colab_type": "code",
        "colab": {}
      },
      "cell_type": "code",
      "source": [
        "model.compile(SGD(lr=0.01, momentum=0.0, decay=0.0, nesterov=False), \n",
        "              loss='categorical_crossentropy', metrics=['accuracy'])"
      ],
      "execution_count": 0,
      "outputs": []
    },
    {
      "metadata": {
        "id": "iclhpyXmi_DU",
        "colab_type": "code",
        "colab": {}
      },
      "cell_type": "code",
      "source": [
        "arquiteture = 'architecture_1'"
      ],
      "execution_count": 0,
      "outputs": []
    },
    {
      "metadata": {
        "colab_type": "code",
        "id": "LqOsSip-k_v7",
        "colab": {}
      },
      "cell_type": "code",
      "source": [
        "checkpointer = ModelCheckpoint(filepath='drive/My Drive/Resultado/weights_' + arquiteture + '.hdf5', verbose=1, save_best_only=True)"
      ],
      "execution_count": 0,
      "outputs": []
    },
    {
      "metadata": {
        "id": "PeyX7Mzf5lDw",
        "colab_type": "code",
        "outputId": "0147f952-2a7c-458c-a2c3-0b3cecc505a9",
        "colab": {
          "base_uri": "https://localhost:8080/",
          "height": 3710
        }
      },
      "cell_type": "code",
      "source": [
        "training = model.fit_generator(train_batches, steps_per_epoch=stepsPerEpoche, \n",
        "                   validation_data=validation_batches, validation_steps=validationSteps,\n",
        "                   epochs=50, verbose=2, callbacks=[checkpointer])"
      ],
      "execution_count": 114,
      "outputs": [
        {
          "output_type": "stream",
          "text": [
            "Epoch 1/50\n",
            " - 4s - loss: 0.7503 - acc: 0.4688 - val_loss: 0.6922 - val_acc: 0.5625\n",
            "\n",
            "Epoch 00001: val_loss improved from inf to 0.69216, saving model to drive/My Drive/Resultado/weights_architecture_1.hdf5\n",
            "Epoch 2/50\n",
            " - 1s - loss: 0.7224 - acc: 0.4875 - val_loss: 0.7067 - val_acc: 0.4062\n",
            "\n",
            "Epoch 00002: val_loss did not improve from 0.69216\n",
            "Epoch 3/50\n",
            " - 1s - loss: 0.6923 - acc: 0.5500 - val_loss: 0.7001 - val_acc: 0.5000\n",
            "\n",
            "Epoch 00003: val_loss did not improve from 0.69216\n",
            "Epoch 4/50\n",
            " - 1s - loss: 0.6747 - acc: 0.5938 - val_loss: 0.8005 - val_acc: 0.3750\n",
            "\n",
            "Epoch 00004: val_loss did not improve from 0.69216\n",
            "Epoch 5/50\n",
            " - 1s - loss: 0.7339 - acc: 0.4375 - val_loss: 0.7194 - val_acc: 0.4062\n",
            "\n",
            "Epoch 00005: val_loss did not improve from 0.69216\n",
            "Epoch 6/50\n",
            " - 1s - loss: 0.6987 - acc: 0.5625 - val_loss: 0.6901 - val_acc: 0.5625\n",
            "\n",
            "Epoch 00006: val_loss improved from 0.69216 to 0.69007, saving model to drive/My Drive/Resultado/weights_architecture_1.hdf5\n",
            "Epoch 7/50\n",
            " - 1s - loss: 0.6820 - acc: 0.5500 - val_loss: 0.6872 - val_acc: 0.5938\n",
            "\n",
            "Epoch 00007: val_loss improved from 0.69007 to 0.68715, saving model to drive/My Drive/Resultado/weights_architecture_1.hdf5\n",
            "Epoch 8/50\n",
            " - 1s - loss: 0.7067 - acc: 0.4937 - val_loss: 0.7375 - val_acc: 0.5625\n",
            "\n",
            "Epoch 00008: val_loss did not improve from 0.68715\n",
            "Epoch 9/50\n",
            " - 1s - loss: 0.7174 - acc: 0.5375 - val_loss: 0.7117 - val_acc: 0.5312\n",
            "\n",
            "Epoch 00009: val_loss did not improve from 0.68715\n",
            "Epoch 10/50\n",
            " - 1s - loss: 0.7052 - acc: 0.4625 - val_loss: 0.7628 - val_acc: 0.4688\n",
            "\n",
            "Epoch 00010: val_loss did not improve from 0.68715\n",
            "Epoch 11/50\n",
            " - 1s - loss: 0.6939 - acc: 0.5250 - val_loss: 0.6959 - val_acc: 0.4062\n",
            "\n",
            "Epoch 00011: val_loss did not improve from 0.68715\n",
            "Epoch 12/50\n",
            " - 1s - loss: 0.7038 - acc: 0.4562 - val_loss: 0.7081 - val_acc: 0.5484\n",
            "\n",
            "Epoch 00012: val_loss did not improve from 0.68715\n",
            "Epoch 13/50\n",
            " - 1s - loss: 0.7526 - acc: 0.4625 - val_loss: 0.7121 - val_acc: 0.5000\n",
            "\n",
            "Epoch 00013: val_loss did not improve from 0.68715\n",
            "Epoch 14/50\n",
            " - 1s - loss: 0.7026 - acc: 0.5187 - val_loss: 0.6842 - val_acc: 0.5938\n",
            "\n",
            "Epoch 00014: val_loss improved from 0.68715 to 0.68420, saving model to drive/My Drive/Resultado/weights_architecture_1.hdf5\n",
            "Epoch 15/50\n",
            " - 1s - loss: 0.7021 - acc: 0.4937 - val_loss: 0.6942 - val_acc: 0.5000\n",
            "\n",
            "Epoch 00015: val_loss did not improve from 0.68420\n",
            "Epoch 16/50\n",
            " - 1s - loss: 0.6958 - acc: 0.5125 - val_loss: 0.7415 - val_acc: 0.4688\n",
            "\n",
            "Epoch 00016: val_loss did not improve from 0.68420\n",
            "Epoch 17/50\n",
            " - 1s - loss: 0.7098 - acc: 0.5062 - val_loss: 0.6875 - val_acc: 0.5625\n",
            "\n",
            "Epoch 00017: val_loss did not improve from 0.68420\n",
            "Epoch 18/50\n",
            " - 1s - loss: 0.7043 - acc: 0.4500 - val_loss: 0.7127 - val_acc: 0.4375\n",
            "\n",
            "Epoch 00018: val_loss did not improve from 0.68420\n",
            "Epoch 19/50\n",
            " - 1s - loss: 0.6931 - acc: 0.5687 - val_loss: 0.7290 - val_acc: 0.5312\n",
            "\n",
            "Epoch 00019: val_loss did not improve from 0.68420\n",
            "Epoch 20/50\n",
            " - 1s - loss: 0.6964 - acc: 0.5312 - val_loss: 0.6938 - val_acc: 0.4375\n",
            "\n",
            "Epoch 00020: val_loss did not improve from 0.68420\n",
            "Epoch 21/50\n",
            " - 1s - loss: 0.6908 - acc: 0.5312 - val_loss: 0.8269 - val_acc: 0.3750\n",
            "\n",
            "Epoch 00021: val_loss did not improve from 0.68420\n",
            "Epoch 22/50\n",
            " - 1s - loss: 0.7063 - acc: 0.4937 - val_loss: 0.6854 - val_acc: 0.5938\n",
            "\n",
            "Epoch 00022: val_loss did not improve from 0.68420\n",
            "Epoch 23/50\n",
            " - 1s - loss: 0.6960 - acc: 0.5037 - val_loss: 0.7168 - val_acc: 0.4688\n",
            "\n",
            "Epoch 00023: val_loss did not improve from 0.68420\n",
            "Epoch 24/50\n",
            " - 1s - loss: 0.7094 - acc: 0.4500 - val_loss: 0.7131 - val_acc: 0.3125\n",
            "\n",
            "Epoch 00024: val_loss did not improve from 0.68420\n",
            "Epoch 25/50\n",
            " - 1s - loss: 0.6984 - acc: 0.4875 - val_loss: 0.7062 - val_acc: 0.5000\n",
            "\n",
            "Epoch 00025: val_loss did not improve from 0.68420\n",
            "Epoch 26/50\n",
            " - 1s - loss: 0.7096 - acc: 0.5125 - val_loss: 0.7201 - val_acc: 0.5000\n",
            "\n",
            "Epoch 00026: val_loss did not improve from 0.68420\n",
            "Epoch 27/50\n",
            " - 1s - loss: 0.7042 - acc: 0.5062 - val_loss: 0.7449 - val_acc: 0.4688\n",
            "\n",
            "Epoch 00027: val_loss did not improve from 0.68420\n",
            "Epoch 28/50\n",
            " - 1s - loss: 0.6970 - acc: 0.5875 - val_loss: 0.7335 - val_acc: 0.5000\n",
            "\n",
            "Epoch 00028: val_loss did not improve from 0.68420\n",
            "Epoch 29/50\n",
            " - 1s - loss: 0.7044 - acc: 0.5250 - val_loss: 0.6912 - val_acc: 0.5312\n",
            "\n",
            "Epoch 00029: val_loss did not improve from 0.68420\n",
            "Epoch 30/50\n",
            " - 1s - loss: 0.6967 - acc: 0.4688 - val_loss: 0.7143 - val_acc: 0.5000\n",
            "\n",
            "Epoch 00030: val_loss did not improve from 0.68420\n",
            "Epoch 31/50\n",
            " - 1s - loss: 0.7044 - acc: 0.4813 - val_loss: 0.6829 - val_acc: 0.6562\n",
            "\n",
            "Epoch 00031: val_loss improved from 0.68420 to 0.68285, saving model to drive/My Drive/Resultado/weights_architecture_1.hdf5\n",
            "Epoch 32/50\n",
            " - 1s - loss: 0.6921 - acc: 0.5187 - val_loss: 0.7293 - val_acc: 0.3750\n",
            "\n",
            "Epoch 00032: val_loss did not improve from 0.68285\n",
            "Epoch 33/50\n",
            " - 1s - loss: 0.7401 - acc: 0.5062 - val_loss: 0.6925 - val_acc: 0.5312\n",
            "\n",
            "Epoch 00033: val_loss did not improve from 0.68285\n",
            "Epoch 34/50\n",
            " - 1s - loss: 0.7123 - acc: 0.4750 - val_loss: 0.6950 - val_acc: 0.5000\n",
            "\n",
            "Epoch 00034: val_loss did not improve from 0.68285\n",
            "Epoch 35/50\n",
            " - 1s - loss: 0.7256 - acc: 0.4937 - val_loss: 0.5948 - val_acc: 0.7188\n",
            "\n",
            "Epoch 00035: val_loss improved from 0.68285 to 0.59478, saving model to drive/My Drive/Resultado/weights_architecture_1.hdf5\n",
            "Epoch 36/50\n",
            " - 1s - loss: 0.6988 - acc: 0.5750 - val_loss: 0.7619 - val_acc: 0.3750\n",
            "\n",
            "Epoch 00036: val_loss did not improve from 0.59478\n",
            "Epoch 37/50\n",
            " - 1s - loss: 0.7022 - acc: 0.4937 - val_loss: 0.6912 - val_acc: 0.5312\n",
            "\n",
            "Epoch 00037: val_loss did not improve from 0.59478\n",
            "Epoch 38/50\n",
            " - 1s - loss: 0.7061 - acc: 0.4688 - val_loss: 0.7441 - val_acc: 0.4062\n",
            "\n",
            "Epoch 00038: val_loss did not improve from 0.59478\n",
            "Epoch 39/50\n",
            " - 1s - loss: 0.7030 - acc: 0.4688 - val_loss: 0.6881 - val_acc: 0.5938\n",
            "\n",
            "Epoch 00039: val_loss did not improve from 0.59478\n",
            "Epoch 40/50\n",
            " - 1s - loss: 0.6977 - acc: 0.5000 - val_loss: 0.6928 - val_acc: 0.5938\n",
            "\n",
            "Epoch 00040: val_loss did not improve from 0.59478\n",
            "Epoch 41/50\n",
            " - 1s - loss: 0.7015 - acc: 0.5000 - val_loss: 0.6721 - val_acc: 0.6250\n",
            "\n",
            "Epoch 00041: val_loss did not improve from 0.59478\n",
            "Epoch 42/50\n",
            " - 1s - loss: 0.6941 - acc: 0.5250 - val_loss: 0.6909 - val_acc: 0.5938\n",
            "\n",
            "Epoch 00042: val_loss did not improve from 0.59478\n",
            "Epoch 43/50\n",
            " - 1s - loss: 0.7093 - acc: 0.5250 - val_loss: 0.6938 - val_acc: 0.5161\n",
            "\n",
            "Epoch 00043: val_loss did not improve from 0.59478\n",
            "Epoch 44/50\n",
            " - 1s - loss: 0.7111 - acc: 0.4438 - val_loss: 0.7387 - val_acc: 0.4375\n",
            "\n",
            "Epoch 00044: val_loss did not improve from 0.59478\n",
            "Epoch 45/50\n",
            " - 1s - loss: 0.7176 - acc: 0.4813 - val_loss: 0.6977 - val_acc: 0.5000\n",
            "\n",
            "Epoch 00045: val_loss did not improve from 0.59478\n",
            "Epoch 46/50\n",
            " - 1s - loss: 0.7185 - acc: 0.4813 - val_loss: 0.6932 - val_acc: 0.5000\n",
            "\n",
            "Epoch 00046: val_loss did not improve from 0.59478\n",
            "Epoch 47/50\n",
            " - 1s - loss: 0.7335 - acc: 0.3875 - val_loss: 0.7303 - val_acc: 0.5000\n",
            "\n",
            "Epoch 00047: val_loss did not improve from 0.59478\n",
            "Epoch 48/50\n",
            " - 1s - loss: 0.7176 - acc: 0.4937 - val_loss: 0.7295 - val_acc: 0.3750\n",
            "\n",
            "Epoch 00048: val_loss did not improve from 0.59478\n",
            "Epoch 49/50\n",
            " - 1s - loss: 0.7082 - acc: 0.5563 - val_loss: 0.6917 - val_acc: 0.5312\n",
            "\n",
            "Epoch 00049: val_loss did not improve from 0.59478\n",
            "Epoch 50/50\n",
            " - 1s - loss: 0.7072 - acc: 0.4853 - val_loss: 0.7026 - val_acc: 0.5312\n",
            "\n",
            "Epoch 00050: val_loss did not improve from 0.59478\n"
          ],
          "name": "stdout"
        }
      ]
    },
    {
      "metadata": {
        "id": "c1LR04eV6AJ5",
        "colab_type": "code",
        "colab": {}
      },
      "cell_type": "code",
      "source": [
        "model.load_weights('drive/My Drive/Resultado/weights_architecture_1.hdf5')"
      ],
      "execution_count": 0,
      "outputs": []
    },
    {
      "metadata": {
        "id": "VeLCe59ltne5",
        "colab_type": "code",
        "colab": {
          "base_uri": "https://localhost:8080/",
          "height": 380
        },
        "outputId": "a0a6c236-12ef-42a9-89b1-b08159a1ef56"
      },
      "cell_type": "code",
      "source": [
        "# plotar loss e accuracy para os datasets 'train' e 'test'\n",
        "plt.style.use(\"ggplot\")\n",
        "plt.figure()\n",
        "plt.plot(training.history['acc'], label='Accuracy')\n",
        "plt.plot(training.history['loss'], label='Loss')\n",
        "plt.xlabel('Epochs')\n",
        "plt.ylabel('Accuracy')\n",
        "plt.title(\"Training Loss and Accuracy\")\n",
        "plt.ylabel(\"Loss/Accuracy\")\n",
        "plt.legend()\n",
        "plt.savefig('drive/My Drive/Resultado/' + arquiteture + '.png', bbox_inches='tight')"
      ],
      "execution_count": 116,
      "outputs": [
        {
          "output_type": "display_data",
          "data": {
            "image/png": "[encoded data removed]",
            "text/plain": [
              "<matplotlib.figure.Figure at 0x7f1ceeabe278>"
            ]
          },
          "metadata": {
            "tags": []
          }
        }
      ]
    },
    {
      "metadata": {
        "id": "CuxP4w361rkP",
        "colab_type": "code",
        "colab": {
          "base_uri": "https://localhost:8080/",
          "height": 74
        },
        "outputId": "a59ffc81-a233-42c5-f784-b563365ac86f"
      },
      "cell_type": "code",
      "source": [
        "y_true, y_predict = ler_images_teste(arquiteture)"
      ],
      "execution_count": 117,
      "outputs": [
        {
          "output_type": "stream",
          "text": [
            "/usr/local/lib/python3.6/dist-packages/skimage/transform/_warps.py:84: UserWarning: The default mode, 'constant', will be changed to 'reflect' in skimage 0.15.\n",
            "  warn(\"The default mode, 'constant', will be changed to 'reflect' in \"\n"
          ],
          "name": "stderr"
        }
      ]
    },
    {
      "metadata": {
        "id": "Juqn8SXr0VvZ",
        "colab_type": "code",
        "colab": {
          "base_uri": "https://localhost:8080/",
          "height": 92
        },
        "outputId": "6a983349-8caa-4484-a46c-689c5d539c83"
      },
      "cell_type": "code",
      "source": [
        "results[arquiteture] = precision_score(y_true, y_predict, average='binary')\n",
        "print('Test Precision: {:.2f}%'\n",
        "      .format(100 * results[arquiteture]))"
      ],
      "execution_count": 118,
      "outputs": [
        {
          "output_type": "stream",
          "text": [
            "Test Precision: 0.00%\n"
          ],
          "name": "stdout"
        },
        {
          "output_type": "stream",
          "text": [
            "/usr/local/lib/python3.6/dist-packages/sklearn/metrics/classification.py:1135: UndefinedMetricWarning: Precision is ill-defined and being set to 0.0 due to no predicted samples.\n",
            "  'precision', 'predicted', average, warn_for)\n"
          ],
          "name": "stderr"
        }
      ]
    },
    {
      "metadata": {
        "id": "71jZE6lXsmgW",
        "colab_type": "text"
      },
      "cell_type": "markdown",
      "source": [
        "\n",
        "\n",
        "---\n",
        "\n"
      ]
    },
    {
      "metadata": {
        "id": "T7nOK0TDr6Hc",
        "colab_type": "text"
      },
      "cell_type": "markdown",
      "source": [
        "### 2 tentativa  Precision: 73.14%"
      ]
    },
    {
      "metadata": {
        "colab_type": "text",
        "id": "-DJtvxKNp9sb"
      },
      "cell_type": "markdown",
      "source": [
        "**Descrição**\n",
        "\n",
        "\n",
        "*   Modelo descrito no artigo \"Crowdsourcing for Chromosome Segmentation and Deep Classification\"\n",
        "*   Alteração nas duas ultimas camadas Dense\n",
        "\n",
        "\n",
        "\n"
      ]
    },
    {
      "metadata": {
        "colab_type": "code",
        "id": "2PSEo_Mzr8zK",
        "colab": {}
      },
      "cell_type": "code",
      "source": [
        "model = Sequential([\n",
        "    Conv2D(64, (3, 3), activation='relu', input_shape=(120, 120, 3)),\n",
        "    Conv2D(64, (3, 3), activation='relu'),\n",
        "    Dropout(0.2),\n",
        "    MaxPooling2D(pool_size=(2, 2)),\n",
        "   \n",
        "    Conv2D(32, (3, 3), activation='relu'),\n",
        "    Conv2D(32, (3, 3), activation='relu'),\n",
        "    Dropout(0.2),\n",
        "    MaxPooling2D(pool_size=(2, 2)),\n",
        "   \n",
        "    Conv2D(16, (3, 3), activation='relu'),\n",
        "    Conv2D(16, (3, 3), activation='relu'),\n",
        "    Dropout(0.2),\n",
        "    MaxPooling2D(pool_size=(2, 2)),\n",
        "   \n",
        "    Conv2D(8, (3, 3), activation='relu'),\n",
        "    Conv2D(8, (3, 3), activation='relu'),\n",
        "    Dropout(0.2),\n",
        "    MaxPooling2D(pool_size=(2, 2)),\n",
        "    \n",
        "    Flatten(),\n",
        "    Dense(512, activation='relu'),\n",
        "   \n",
        "    Dense(2, activation='softmax')\n",
        "]\n",
        ")"
      ],
      "execution_count": 0,
      "outputs": []
    },
    {
      "metadata": {
        "colab_type": "code",
        "id": "wTvCLywPr8zj",
        "colab": {}
      },
      "cell_type": "code",
      "source": [
        "model.compile(SGD(lr=0.01, momentum=0.0, decay=0.0, nesterov=False), \n",
        "              loss='categorical_crossentropy', metrics=['accuracy'])"
      ],
      "execution_count": 0,
      "outputs": []
    },
    {
      "metadata": {
        "colab_type": "code",
        "id": "B1aiec4IjnND",
        "colab": {}
      },
      "cell_type": "code",
      "source": [
        "arquiteture = 'architecture_2'"
      ],
      "execution_count": 0,
      "outputs": []
    },
    {
      "metadata": {
        "colab_type": "code",
        "id": "KF_vnzR7k8bw",
        "colab": {}
      },
      "cell_type": "code",
      "source": [
        "checkpointer = ModelCheckpoint(filepath='drive/My Drive/Resultado/weights_' + arquiteture + '.hdf5', verbose=1, save_best_only=True)"
      ],
      "execution_count": 0,
      "outputs": []
    },
    {
      "metadata": {
        "colab_type": "code",
        "id": "P5mNUnc52wDQ",
        "outputId": "28cfd46c-3273-47b9-b4a6-b8fc6b8ee78b",
        "colab": {
          "base_uri": "https://localhost:8080/",
          "height": 3710
        }
      },
      "cell_type": "code",
      "source": [
        "training = model.fit_generator(train_batches, steps_per_epoch=stepsPerEpoche, \n",
        "                   validation_data=validation_batches, validation_steps=validationSteps,\n",
        "                   epochs=50, verbose=2, callbacks=[checkpointer])"
      ],
      "execution_count": 123,
      "outputs": [
        {
          "output_type": "stream",
          "text": [
            "Epoch 1/50\n",
            " - 5s - loss: 0.6930 - acc: 0.4937 - val_loss: 0.6930 - val_acc: 0.4375\n",
            "\n",
            "Epoch 00001: val_loss improved from inf to 0.69301, saving model to drive/My Drive/Resultado/weights_architecture_2.hdf5\n",
            "Epoch 2/50\n",
            " - 1s - loss: 0.6926 - acc: 0.6063 - val_loss: 0.6929 - val_acc: 0.4688\n",
            "\n",
            "Epoch 00002: val_loss improved from 0.69301 to 0.69290, saving model to drive/My Drive/Resultado/weights_architecture_2.hdf5\n",
            "Epoch 3/50\n",
            " - 1s - loss: 0.6921 - acc: 0.6625 - val_loss: 0.6909 - val_acc: 0.6250\n",
            "\n",
            "Epoch 00003: val_loss improved from 0.69290 to 0.69088, saving model to drive/My Drive/Resultado/weights_architecture_2.hdf5\n",
            "Epoch 4/50\n",
            " - 1s - loss: 0.6941 - acc: 0.4250 - val_loss: 0.6924 - val_acc: 0.5000\n",
            "\n",
            "Epoch 00004: val_loss did not improve from 0.69088\n",
            "Epoch 5/50\n",
            " - 1s - loss: 0.6917 - acc: 0.6688 - val_loss: 0.6925 - val_acc: 0.5625\n",
            "\n",
            "Epoch 00005: val_loss did not improve from 0.69088\n",
            "Epoch 6/50\n",
            " - 1s - loss: 0.6919 - acc: 0.5875 - val_loss: 0.6909 - val_acc: 0.5312\n",
            "\n",
            "Epoch 00006: val_loss did not improve from 0.69088\n",
            "Epoch 7/50\n",
            " - 1s - loss: 0.6913 - acc: 0.5625 - val_loss: 0.6939 - val_acc: 0.2812\n",
            "\n",
            "Epoch 00007: val_loss did not improve from 0.69088\n",
            "Epoch 8/50\n",
            " - 1s - loss: 0.6917 - acc: 0.6750 - val_loss: 0.6898 - val_acc: 0.5938\n",
            "\n",
            "Epoch 00008: val_loss improved from 0.69088 to 0.68982, saving model to drive/My Drive/Resultado/weights_architecture_2.hdf5\n",
            "Epoch 9/50\n",
            " - 1s - loss: 0.6903 - acc: 0.6813 - val_loss: 0.6943 - val_acc: 0.3438\n",
            "\n",
            "Epoch 00009: val_loss did not improve from 0.68982\n",
            "Epoch 10/50\n",
            " - 1s - loss: 0.6880 - acc: 0.8000 - val_loss: 0.6904 - val_acc: 0.7188\n",
            "\n",
            "Epoch 00010: val_loss did not improve from 0.68982\n",
            "Epoch 11/50\n",
            " - 1s - loss: 0.6920 - acc: 0.5687 - val_loss: 0.6923 - val_acc: 0.5312\n",
            "\n",
            "Epoch 00011: val_loss did not improve from 0.68982\n",
            "Epoch 12/50\n",
            " - 1s - loss: 0.6911 - acc: 0.6125 - val_loss: 0.6910 - val_acc: 0.8438\n",
            "\n",
            "Epoch 00012: val_loss did not improve from 0.68982\n",
            "Epoch 13/50\n",
            " - 1s - loss: 0.6880 - acc: 0.6312 - val_loss: 0.6840 - val_acc: 0.7742\n",
            "\n",
            "Epoch 00013: val_loss improved from 0.68982 to 0.68402, saving model to drive/My Drive/Resultado/weights_architecture_2.hdf5\n",
            "Epoch 14/50\n",
            " - 1s - loss: 0.6896 - acc: 0.6125 - val_loss: 0.6888 - val_acc: 0.8125\n",
            "\n",
            "Epoch 00014: val_loss did not improve from 0.68402\n",
            "Epoch 15/50\n",
            " - 1s - loss: 0.6861 - acc: 0.7375 - val_loss: 0.6893 - val_acc: 0.5312\n",
            "\n",
            "Epoch 00015: val_loss did not improve from 0.68402\n",
            "Epoch 16/50\n",
            " - 1s - loss: 0.6842 - acc: 0.7812 - val_loss: 0.6871 - val_acc: 0.5625\n",
            "\n",
            "Epoch 00016: val_loss did not improve from 0.68402\n",
            "Epoch 17/50\n",
            " - 1s - loss: 0.6829 - acc: 0.8000 - val_loss: 0.6933 - val_acc: 0.4375\n",
            "\n",
            "Epoch 00017: val_loss did not improve from 0.68402\n",
            "Epoch 18/50\n",
            " - 1s - loss: 0.6828 - acc: 0.7625 - val_loss: 0.6862 - val_acc: 0.6875\n",
            "\n",
            "Epoch 00018: val_loss did not improve from 0.68402\n",
            "Epoch 19/50\n",
            " - 1s - loss: 0.6783 - acc: 0.8063 - val_loss: 0.6810 - val_acc: 0.6562\n",
            "\n",
            "Epoch 00019: val_loss improved from 0.68402 to 0.68100, saving model to drive/My Drive/Resultado/weights_architecture_2.hdf5\n",
            "Epoch 20/50\n",
            " - 1s - loss: 0.6806 - acc: 0.7938 - val_loss: 0.6872 - val_acc: 0.6875\n",
            "\n",
            "Epoch 00020: val_loss did not improve from 0.68100\n",
            "Epoch 21/50\n",
            " - 1s - loss: 0.6801 - acc: 0.7938 - val_loss: 0.6857 - val_acc: 0.5938\n",
            "\n",
            "Epoch 00021: val_loss did not improve from 0.68100\n",
            "Epoch 22/50\n",
            " - 1s - loss: 0.6832 - acc: 0.6875 - val_loss: 0.6852 - val_acc: 0.7188\n",
            "\n",
            "Epoch 00022: val_loss did not improve from 0.68100\n",
            "Epoch 23/50\n",
            " - 1s - loss: 0.6778 - acc: 0.7313 - val_loss: 0.6855 - val_acc: 0.6875\n",
            "\n",
            "Epoch 00023: val_loss did not improve from 0.68100\n",
            "Epoch 24/50\n",
            " - 1s - loss: 0.6772 - acc: 0.7562 - val_loss: 0.6788 - val_acc: 0.8438\n",
            "\n",
            "Epoch 00024: val_loss improved from 0.68100 to 0.67875, saving model to drive/My Drive/Resultado/weights_architecture_2.hdf5\n",
            "Epoch 25/50\n",
            " - 1s - loss: 0.6715 - acc: 0.8187 - val_loss: 0.6837 - val_acc: 0.5312\n",
            "\n",
            "Epoch 00025: val_loss did not improve from 0.67875\n",
            "Epoch 26/50\n",
            " - 1s - loss: 0.6662 - acc: 0.8753 - val_loss: 0.6821 - val_acc: 0.7188\n",
            "\n",
            "Epoch 00026: val_loss did not improve from 0.67875\n",
            "Epoch 27/50\n",
            " - 1s - loss: 0.6717 - acc: 0.7500 - val_loss: 0.6806 - val_acc: 0.8125\n",
            "\n",
            "Epoch 00027: val_loss did not improve from 0.67875\n",
            "Epoch 28/50\n",
            " - 1s - loss: 0.6670 - acc: 0.8125 - val_loss: 0.6710 - val_acc: 0.9375\n",
            "\n",
            "Epoch 00028: val_loss improved from 0.67875 to 0.67104, saving model to drive/My Drive/Resultado/weights_architecture_2.hdf5\n",
            "Epoch 29/50\n",
            " - 1s - loss: 0.6606 - acc: 0.8875 - val_loss: 0.6943 - val_acc: 0.4688\n",
            "\n",
            "Epoch 00029: val_loss did not improve from 0.67104\n",
            "Epoch 30/50\n",
            " - 1s - loss: 0.6778 - acc: 0.6437 - val_loss: 0.6684 - val_acc: 0.8438\n",
            "\n",
            "Epoch 00030: val_loss improved from 0.67104 to 0.66837, saving model to drive/My Drive/Resultado/weights_architecture_2.hdf5\n",
            "Epoch 31/50\n",
            " - 1s - loss: 0.6653 - acc: 0.7875 - val_loss: 0.6889 - val_acc: 0.5000\n",
            "\n",
            "Epoch 00031: val_loss did not improve from 0.66837\n",
            "Epoch 32/50\n",
            " - 1s - loss: 0.6617 - acc: 0.8063 - val_loss: 0.6706 - val_acc: 0.8125\n",
            "\n",
            "Epoch 00032: val_loss did not improve from 0.66837\n",
            "Epoch 33/50\n",
            " - 1s - loss: 0.6629 - acc: 0.7750 - val_loss: 0.6677 - val_acc: 0.8438\n",
            "\n",
            "Epoch 00033: val_loss improved from 0.66837 to 0.66766, saving model to drive/My Drive/Resultado/weights_architecture_2.hdf5\n",
            "Epoch 34/50\n",
            " - 1s - loss: 0.6782 - acc: 0.6375 - val_loss: 0.6786 - val_acc: 0.6250\n",
            "\n",
            "Epoch 00034: val_loss did not improve from 0.66766\n",
            "Epoch 35/50\n",
            " - 1s - loss: 0.6678 - acc: 0.7188 - val_loss: 0.6640 - val_acc: 0.8750\n",
            "\n",
            "Epoch 00035: val_loss improved from 0.66766 to 0.66399, saving model to drive/My Drive/Resultado/weights_architecture_2.hdf5\n",
            "Epoch 36/50\n",
            " - 1s - loss: 0.6460 - acc: 0.8812 - val_loss: 0.6705 - val_acc: 0.7812\n",
            "\n",
            "Epoch 00036: val_loss did not improve from 0.66399\n",
            "Epoch 37/50\n",
            " - 1s - loss: 0.6590 - acc: 0.7500 - val_loss: 0.6583 - val_acc: 0.9375\n",
            "\n",
            "Epoch 00037: val_loss improved from 0.66399 to 0.65829, saving model to drive/My Drive/Resultado/weights_architecture_2.hdf5\n",
            "Epoch 38/50\n",
            " - 1s - loss: 0.6434 - acc: 0.8563 - val_loss: 0.6574 - val_acc: 0.8438\n",
            "\n",
            "Epoch 00038: val_loss improved from 0.65829 to 0.65743, saving model to drive/My Drive/Resultado/weights_architecture_2.hdf5\n",
            "Epoch 39/50\n",
            " - 1s - loss: 0.6422 - acc: 0.8688 - val_loss: 0.6779 - val_acc: 0.5938\n",
            "\n",
            "Epoch 00039: val_loss did not improve from 0.65743\n",
            "Epoch 40/50\n",
            " - 1s - loss: 0.6421 - acc: 0.8375 - val_loss: 0.6586 - val_acc: 0.8125\n",
            "\n",
            "Epoch 00040: val_loss did not improve from 0.65743\n",
            "Epoch 41/50\n",
            " - 1s - loss: 0.6493 - acc: 0.7875 - val_loss: 0.6519 - val_acc: 0.8438\n",
            "\n",
            "Epoch 00041: val_loss improved from 0.65743 to 0.65185, saving model to drive/My Drive/Resultado/weights_architecture_2.hdf5\n",
            "Epoch 42/50\n",
            " - 1s - loss: 0.6239 - acc: 0.9062 - val_loss: 0.6661 - val_acc: 0.6250\n",
            "\n",
            "Epoch 00042: val_loss did not improve from 0.65185\n",
            "Epoch 43/50\n",
            " - 1s - loss: 0.6511 - acc: 0.7375 - val_loss: 0.6843 - val_acc: 0.5000\n",
            "\n",
            "Epoch 00043: val_loss did not improve from 0.65185\n",
            "Epoch 44/50\n",
            " - 1s - loss: 0.6191 - acc: 0.8750 - val_loss: 0.6347 - val_acc: 0.8065\n",
            "\n",
            "Epoch 00044: val_loss improved from 0.65185 to 0.63474, saving model to drive/My Drive/Resultado/weights_architecture_2.hdf5\n",
            "Epoch 45/50\n",
            " - 1s - loss: 0.6287 - acc: 0.8312 - val_loss: 0.6717 - val_acc: 0.5938\n",
            "\n",
            "Epoch 00045: val_loss did not improve from 0.63474\n",
            "Epoch 46/50\n",
            " - 1s - loss: 0.6676 - acc: 0.6312 - val_loss: 0.6534 - val_acc: 0.7188\n",
            "\n",
            "Epoch 00046: val_loss did not improve from 0.63474\n",
            "Epoch 47/50\n",
            " - 1s - loss: 0.6144 - acc: 0.8688 - val_loss: 0.6286 - val_acc: 0.8750\n",
            "\n",
            "Epoch 00047: val_loss improved from 0.63474 to 0.62865, saving model to drive/My Drive/Resultado/weights_architecture_2.hdf5\n",
            "Epoch 48/50\n",
            " - 1s - loss: 0.6008 - acc: 0.8937 - val_loss: 0.6558 - val_acc: 0.6562\n",
            "\n",
            "Epoch 00048: val_loss did not improve from 0.62865\n",
            "Epoch 49/50\n",
            " - 1s - loss: 0.6172 - acc: 0.8250 - val_loss: 0.6456 - val_acc: 0.7500\n",
            "\n",
            "Epoch 00049: val_loss did not improve from 0.62865\n",
            "Epoch 50/50\n",
            " - 1s - loss: 0.6052 - acc: 0.8438 - val_loss: 0.6481 - val_acc: 0.6875\n",
            "\n",
            "Epoch 00050: val_loss did not improve from 0.62865\n"
          ],
          "name": "stdout"
        }
      ]
    },
    {
      "metadata": {
        "colab_type": "code",
        "id": "37HQ427_jnNY",
        "outputId": "28d6ce7e-3808-4ebf-c383-8076e471ccab",
        "colab": {
          "base_uri": "https://localhost:8080/",
          "height": 380
        }
      },
      "cell_type": "code",
      "source": [
        "# plotar loss e accuracy para os datasets 'train' e 'test'\n",
        "plt.style.use(\"ggplot\")\n",
        "plt.figure()\n",
        "plt.plot(training.history['acc'], label='Accuracy')\n",
        "plt.plot(training.history['loss'], label='Loss')\n",
        "plt.xlabel('Epochs')\n",
        "plt.ylabel('Accuracy')\n",
        "plt.title(\"Training Loss and Accuracy\")\n",
        "plt.ylabel(\"Loss/Accuracy\")\n",
        "plt.legend()\n",
        "plt.savefig('drive/My Drive/Resultado/' + arquiteture + '.png', bbox_inches='tight')"
      ],
      "execution_count": 124,
      "outputs": [
        {
          "output_type": "display_data",
          "data": {
            "image/png": "[encoded data removed]",
            "text/plain": [
              "<matplotlib.figure.Figure at 0x7f1cea9daa90>"
            ]
          },
          "metadata": {
            "tags": []
          }
        }
      ]
    },
    {
      "metadata": {
        "colab_type": "code",
        "id": "bpfoCpyTjnNk",
        "outputId": "dc361145-acd0-49d0-8bd5-469b933bc6c4",
        "colab": {
          "base_uri": "https://localhost:8080/",
          "height": 74
        }
      },
      "cell_type": "code",
      "source": [
        "y_true, y_predict = ler_images_teste(arquiteture)"
      ],
      "execution_count": 125,
      "outputs": [
        {
          "output_type": "stream",
          "text": [
            "/usr/local/lib/python3.6/dist-packages/skimage/transform/_warps.py:84: UserWarning: The default mode, 'constant', will be changed to 'reflect' in skimage 0.15.\n",
            "  warn(\"The default mode, 'constant', will be changed to 'reflect' in \"\n"
          ],
          "name": "stderr"
        }
      ]
    },
    {
      "metadata": {
        "colab_type": "code",
        "id": "37KhZdImjnNs",
        "outputId": "b7900d1a-aedc-46b7-e5fe-4973f6d7ad44",
        "colab": {
          "base_uri": "https://localhost:8080/",
          "height": 35
        }
      },
      "cell_type": "code",
      "source": [
        "results[arquiteture] = precision_score(y_true, y_predict, average='binary')\n",
        "print('Test Precision: {:.2f}%'\n",
        "      .format(100 * results[arquiteture]))"
      ],
      "execution_count": 126,
      "outputs": [
        {
          "output_type": "stream",
          "text": [
            "Test Precision: 73.14%\n"
          ],
          "name": "stdout"
        }
      ]
    },
    {
      "metadata": {
        "id": "r7RpE8wBe4JQ",
        "colab_type": "text"
      },
      "cell_type": "markdown",
      "source": [
        "### 3 tentativa Precision: 76.40%"
      ]
    },
    {
      "metadata": {
        "id": "vdP4Yo8OgB4B",
        "colab_type": "text"
      },
      "cell_type": "markdown",
      "source": [
        "Modelo criado pelo **Lucas Valentim**\n",
        "\n",
        "https://github.com/lucasvalentim/chromosome-recognizer/blob/master/chromosome_recognizer.ipynb"
      ]
    },
    {
      "metadata": {
        "id": "3nTNgnrCe33x",
        "colab_type": "code",
        "colab": {}
      },
      "cell_type": "code",
      "source": [
        "from keras.layers import Conv2D, MaxPooling2D, GlobalMaxPooling2D, BatchNormalization\n",
        "from keras.regularizers import l2\n",
        "\n",
        "model = Sequential()\n",
        "\n",
        "model.add(Conv2D(32, (3, 3), activation='relu', kernel_regularizer=l2(1e-4), \n",
        "                 input_shape=(None, None, 3)))\n",
        "model.add(BatchNormalization())\n",
        "model.add(Conv2D(32, (3, 3), activation='relu', kernel_regularizer=l2(1e-4)))\n",
        "model.add(BatchNormalization())\n",
        "model.add(MaxPooling2D((2, 2)))\n",
        "model.add(Dropout(0.25))\n",
        "\n",
        "model.add(Conv2D(64, (3, 3), activation='relu', kernel_regularizer=l2(1e-4)))\n",
        "model.add(BatchNormalization())\n",
        "model.add(Conv2D(64, (3, 3), activation='relu', kernel_regularizer=l2(1e-4)))\n",
        "model.add(BatchNormalization())\n",
        "model.add(MaxPooling2D((2, 2)))\n",
        "model.add(Dropout(0.25))\n",
        "\n",
        "model.add(Conv2D(128, (1,1), kernel_regularizer=l2(1e-4)))\n",
        "model.add(GlobalMaxPooling2D())\n",
        "\n",
        "model.add(Dense(256, activation='relu', kernel_regularizer=l2(1e-4)))\n",
        "model.add(Dropout(0.5))\n",
        "model.add(Dense(2, activation='sigmoid', kernel_regularizer=l2(1e-4)))"
      ],
      "execution_count": 0,
      "outputs": []
    },
    {
      "metadata": {
        "id": "g1okz4QbiBnE",
        "colab_type": "code",
        "colab": {}
      },
      "cell_type": "code",
      "source": [
        "model.compile(optimizer='adam', loss='binary_crossentropy', metrics=['accuracy'])"
      ],
      "execution_count": 0,
      "outputs": []
    },
    {
      "metadata": {
        "colab_type": "code",
        "id": "qGOLNR-RjvlL",
        "colab": {}
      },
      "cell_type": "code",
      "source": [
        "arquiteture = 'architecture_3'"
      ],
      "execution_count": 0,
      "outputs": []
    },
    {
      "metadata": {
        "colab_type": "code",
        "id": "Zd6E33WLk6B5",
        "colab": {}
      },
      "cell_type": "code",
      "source": [
        "checkpointer = ModelCheckpoint(filepath='drive/My Drive/Resultado/weights_' + arquiteture + '.hdf5', verbose=1, save_best_only=True)"
      ],
      "execution_count": 0,
      "outputs": []
    },
    {
      "metadata": {
        "colab_type": "code",
        "id": "57QCc4Rz3JmS",
        "outputId": "20a3d905-ef75-4a26-e193-4d6da3aa6633",
        "colab": {
          "base_uri": "https://localhost:8080/",
          "height": 3710
        }
      },
      "cell_type": "code",
      "source": [
        "training = model.fit_generator(train_batches, steps_per_epoch=stepsPerEpoche, \n",
        "                   validation_data=validation_batches, validation_steps=validationSteps,\n",
        "                   epochs=50, verbose=2, callbacks=[checkpointer])"
      ],
      "execution_count": 131,
      "outputs": [
        {
          "output_type": "stream",
          "text": [
            "Epoch 1/50\n",
            " - 6s - loss: 0.7080 - acc: 0.7409 - val_loss: 0.4686 - val_acc: 0.7969\n",
            "\n",
            "Epoch 00001: val_loss improved from inf to 0.46861, saving model to drive/My Drive/Resultado/weights_architecture_3.hdf5\n",
            "Epoch 2/50\n",
            " - 1s - loss: 0.5140 - acc: 0.8312 - val_loss: 0.7639 - val_acc: 0.7344\n",
            "\n",
            "Epoch 00002: val_loss did not improve from 0.46861\n",
            "Epoch 3/50\n",
            " - 0s - loss: 0.5224 - acc: 0.8375 - val_loss: 0.4423 - val_acc: 0.7969\n",
            "\n",
            "Epoch 00003: val_loss improved from 0.46861 to 0.44228, saving model to drive/My Drive/Resultado/weights_architecture_3.hdf5\n",
            "Epoch 4/50\n",
            " - 0s - loss: 0.3518 - acc: 0.8812 - val_loss: 0.3331 - val_acc: 0.8438\n",
            "\n",
            "Epoch 00004: val_loss improved from 0.44228 to 0.33312, saving model to drive/My Drive/Resultado/weights_architecture_3.hdf5\n",
            "Epoch 5/50\n",
            " - 0s - loss: 0.3499 - acc: 0.8812 - val_loss: 0.8334 - val_acc: 0.6875\n",
            "\n",
            "Epoch 00005: val_loss did not improve from 0.33312\n",
            "Epoch 6/50\n",
            " - 0s - loss: 0.4731 - acc: 0.8375 - val_loss: 0.3826 - val_acc: 0.8281\n",
            "\n",
            "Epoch 00006: val_loss did not improve from 0.33312\n",
            "Epoch 7/50\n",
            " - 0s - loss: 0.4254 - acc: 0.8344 - val_loss: 0.2499 - val_acc: 0.9062\n",
            "\n",
            "Epoch 00007: val_loss improved from 0.33312 to 0.24993, saving model to drive/My Drive/Resultado/weights_architecture_3.hdf5\n",
            "Epoch 8/50\n",
            " - 0s - loss: 0.4305 - acc: 0.8656 - val_loss: 1.0693 - val_acc: 0.6875\n",
            "\n",
            "Epoch 00008: val_loss did not improve from 0.24993\n",
            "Epoch 9/50\n",
            " - 0s - loss: 0.2534 - acc: 0.9281 - val_loss: 1.9148 - val_acc: 0.4062\n",
            "\n",
            "Epoch 00009: val_loss did not improve from 0.24993\n",
            "Epoch 10/50\n",
            " - 0s - loss: 0.3393 - acc: 0.8844 - val_loss: 0.3353 - val_acc: 0.8750\n",
            "\n",
            "Epoch 00010: val_loss did not improve from 0.24993\n",
            "Epoch 11/50\n",
            " - 1s - loss: 0.2696 - acc: 0.9125 - val_loss: 0.5858 - val_acc: 0.7500\n",
            "\n",
            "Epoch 00011: val_loss did not improve from 0.24993\n",
            "Epoch 12/50\n",
            " - 1s - loss: 0.2616 - acc: 0.9031 - val_loss: 0.4652 - val_acc: 0.7969\n",
            "\n",
            "Epoch 00012: val_loss did not improve from 0.24993\n",
            "Epoch 13/50\n",
            " - 1s - loss: 0.3602 - acc: 0.8875 - val_loss: 0.3381 - val_acc: 0.7656\n",
            "\n",
            "Epoch 00013: val_loss did not improve from 0.24993\n",
            "Epoch 14/50\n",
            " - 1s - loss: 0.3867 - acc: 0.8937 - val_loss: 0.6328 - val_acc: 0.6935\n",
            "\n",
            "Epoch 00014: val_loss did not improve from 0.24993\n",
            "Epoch 15/50\n",
            " - 1s - loss: 0.2366 - acc: 0.9344 - val_loss: 0.2487 - val_acc: 0.9062\n",
            "\n",
            "Epoch 00015: val_loss improved from 0.24993 to 0.24867, saving model to drive/My Drive/Resultado/weights_architecture_3.hdf5\n",
            "Epoch 16/50\n",
            " - 1s - loss: 0.2459 - acc: 0.9219 - val_loss: 0.6898 - val_acc: 0.5781\n",
            "\n",
            "Epoch 00016: val_loss did not improve from 0.24867\n",
            "Epoch 17/50\n",
            " - 1s - loss: 0.2795 - acc: 0.9031 - val_loss: 0.6063 - val_acc: 0.7500\n",
            "\n",
            "Epoch 00017: val_loss did not improve from 0.24867\n",
            "Epoch 18/50\n",
            " - 1s - loss: 0.3253 - acc: 0.8812 - val_loss: 0.2555 - val_acc: 0.9531\n",
            "\n",
            "Epoch 00018: val_loss did not improve from 0.24867\n",
            "Epoch 19/50\n",
            " - 1s - loss: 0.3157 - acc: 0.8563 - val_loss: 0.1982 - val_acc: 0.9844\n",
            "\n",
            "Epoch 00019: val_loss improved from 0.24867 to 0.19821, saving model to drive/My Drive/Resultado/weights_architecture_3.hdf5\n",
            "Epoch 20/50\n",
            " - 1s - loss: 0.2869 - acc: 0.9219 - val_loss: 0.2990 - val_acc: 0.8594\n",
            "\n",
            "Epoch 00020: val_loss did not improve from 0.19821\n",
            "Epoch 21/50\n",
            " - 1s - loss: 0.2791 - acc: 0.9188 - val_loss: 0.7929 - val_acc: 0.6719\n",
            "\n",
            "Epoch 00021: val_loss did not improve from 0.19821\n",
            "Epoch 22/50\n",
            " - 1s - loss: 0.2515 - acc: 0.8906 - val_loss: 0.3885 - val_acc: 0.8438\n",
            "\n",
            "Epoch 00022: val_loss did not improve from 0.19821\n",
            "Epoch 23/50\n",
            " - 1s - loss: 0.1906 - acc: 0.9375 - val_loss: 0.4181 - val_acc: 0.8438\n",
            "\n",
            "Epoch 00023: val_loss did not improve from 0.19821\n",
            "Epoch 24/50\n",
            " - 1s - loss: 0.3901 - acc: 0.8969 - val_loss: 0.4505 - val_acc: 0.7812\n",
            "\n",
            "Epoch 00024: val_loss did not improve from 0.19821\n",
            "Epoch 25/50\n",
            " - 1s - loss: 0.3073 - acc: 0.8719 - val_loss: 0.3259 - val_acc: 0.9062\n",
            "\n",
            "Epoch 00025: val_loss did not improve from 0.19821\n",
            "Epoch 26/50\n",
            " - 1s - loss: 0.3086 - acc: 0.9250 - val_loss: 0.3836 - val_acc: 0.8438\n",
            "\n",
            "Epoch 00026: val_loss did not improve from 0.19821\n",
            "Epoch 27/50\n",
            " - 1s - loss: 0.2511 - acc: 0.9188 - val_loss: 0.4191 - val_acc: 0.8125\n",
            "\n",
            "Epoch 00027: val_loss did not improve from 0.19821\n",
            "Epoch 28/50\n",
            " - 1s - loss: 0.1985 - acc: 0.9318 - val_loss: 0.3872 - val_acc: 0.7969\n",
            "\n",
            "Epoch 00028: val_loss did not improve from 0.19821\n",
            "Epoch 29/50\n",
            " - 1s - loss: 0.2392 - acc: 0.9031 - val_loss: 0.3041 - val_acc: 0.8750\n",
            "\n",
            "Epoch 00029: val_loss did not improve from 0.19821\n",
            "Epoch 30/50\n",
            " - 1s - loss: 0.2686 - acc: 0.9156 - val_loss: 0.3232 - val_acc: 0.8750\n",
            "\n",
            "Epoch 00030: val_loss did not improve from 0.19821\n",
            "Epoch 31/50\n",
            " - 1s - loss: 0.2619 - acc: 0.9219 - val_loss: 0.1783 - val_acc: 0.9688\n",
            "\n",
            "Epoch 00031: val_loss improved from 0.19821 to 0.17825, saving model to drive/My Drive/Resultado/weights_architecture_3.hdf5\n",
            "Epoch 32/50\n",
            " - 1s - loss: 0.2225 - acc: 0.9375 - val_loss: 0.3139 - val_acc: 0.8906\n",
            "\n",
            "Epoch 00032: val_loss did not improve from 0.17825\n",
            "Epoch 33/50\n",
            " - 1s - loss: 0.2590 - acc: 0.8969 - val_loss: 0.4012 - val_acc: 0.7969\n",
            "\n",
            "Epoch 00033: val_loss did not improve from 0.17825\n",
            "Epoch 34/50\n",
            " - 1s - loss: 0.1829 - acc: 0.9437 - val_loss: 0.3657 - val_acc: 0.9062\n",
            "\n",
            "Epoch 00034: val_loss did not improve from 0.17825\n",
            "Epoch 35/50\n",
            " - 1s - loss: 0.2326 - acc: 0.9281 - val_loss: 0.7249 - val_acc: 0.6562\n",
            "\n",
            "Epoch 00035: val_loss did not improve from 0.17825\n",
            "Epoch 36/50\n",
            " - 1s - loss: 0.2231 - acc: 0.9281 - val_loss: 0.5369 - val_acc: 0.7500\n",
            "\n",
            "Epoch 00036: val_loss did not improve from 0.17825\n",
            "Epoch 37/50\n",
            " - 1s - loss: 0.2613 - acc: 0.9094 - val_loss: 0.2499 - val_acc: 0.9219\n",
            "\n",
            "Epoch 00037: val_loss did not improve from 0.17825\n",
            "Epoch 38/50\n",
            " - 1s - loss: 0.2984 - acc: 0.8875 - val_loss: 0.3428 - val_acc: 0.8438\n",
            "\n",
            "Epoch 00038: val_loss did not improve from 0.17825\n",
            "Epoch 39/50\n",
            " - 1s - loss: 0.2992 - acc: 0.9000 - val_loss: 0.5001 - val_acc: 0.7188\n",
            "\n",
            "Epoch 00039: val_loss did not improve from 0.17825\n",
            "Epoch 40/50\n",
            " - 1s - loss: 0.2385 - acc: 0.9406 - val_loss: 0.4511 - val_acc: 0.8438\n",
            "\n",
            "Epoch 00040: val_loss did not improve from 0.17825\n",
            "Epoch 41/50\n",
            " - 1s - loss: 0.1620 - acc: 0.9500 - val_loss: 0.2954 - val_acc: 0.9062\n",
            "\n",
            "Epoch 00041: val_loss did not improve from 0.17825\n",
            "Epoch 42/50\n",
            " - 1s - loss: 0.2864 - acc: 0.9094 - val_loss: 0.3077 - val_acc: 0.9062\n",
            "\n",
            "Epoch 00042: val_loss did not improve from 0.17825\n",
            "Epoch 43/50\n",
            " - 1s - loss: 0.2266 - acc: 0.9313 - val_loss: 0.3301 - val_acc: 0.8594\n",
            "\n",
            "Epoch 00043: val_loss did not improve from 0.17825\n",
            "Epoch 44/50\n",
            " - 1s - loss: 0.2385 - acc: 0.9250 - val_loss: 0.4912 - val_acc: 0.7500\n",
            "\n",
            "Epoch 00044: val_loss did not improve from 0.17825\n",
            "Epoch 45/50\n",
            " - 1s - loss: 0.2332 - acc: 0.9031 - val_loss: 0.2554 - val_acc: 0.9355\n",
            "\n",
            "Epoch 00045: val_loss did not improve from 0.17825\n",
            "Epoch 46/50\n",
            " - 1s - loss: 0.2220 - acc: 0.9188 - val_loss: 0.3369 - val_acc: 0.8438\n",
            "\n",
            "Epoch 00046: val_loss did not improve from 0.17825\n",
            "Epoch 47/50\n",
            " - 1s - loss: 0.1625 - acc: 0.9625 - val_loss: 0.3709 - val_acc: 0.8438\n",
            "\n",
            "Epoch 00047: val_loss did not improve from 0.17825\n",
            "Epoch 48/50\n",
            " - 1s - loss: 0.2494 - acc: 0.9094 - val_loss: 0.3709 - val_acc: 0.8438\n",
            "\n",
            "Epoch 00048: val_loss did not improve from 0.17825\n",
            "Epoch 49/50\n",
            " - 1s - loss: 0.2558 - acc: 0.9250 - val_loss: 0.6701 - val_acc: 0.6875\n",
            "\n",
            "Epoch 00049: val_loss did not improve from 0.17825\n",
            "Epoch 50/50\n",
            " - 1s - loss: 0.2010 - acc: 0.9344 - val_loss: 0.5789 - val_acc: 0.7656\n",
            "\n",
            "Epoch 00050: val_loss did not improve from 0.17825\n"
          ],
          "name": "stdout"
        }
      ]
    },
    {
      "metadata": {
        "colab_type": "code",
        "id": "UbMAcdw1jvlY",
        "outputId": "e9ad4f46-659a-48c1-95e2-18958e812fec",
        "colab": {
          "base_uri": "https://localhost:8080/",
          "height": 380
        }
      },
      "cell_type": "code",
      "source": [
        "# plotar loss e accuracy para os datasets 'train' e 'test'\n",
        "plt.style.use(\"ggplot\")\n",
        "plt.figure()\n",
        "plt.plot(training.history['acc'], label='Accuracy')\n",
        "plt.plot(training.history['loss'], label='Loss')\n",
        "plt.xlabel('Epochs')\n",
        "plt.ylabel('Accuracy')\n",
        "plt.title(\"Training Loss and Accuracy\")\n",
        "plt.ylabel(\"Loss/Accuracy\")\n",
        "plt.legend()\n",
        "plt.savefig('drive/My Drive/Resultado/' + arquiteture + '.png', bbox_inches='tight')"
      ],
      "execution_count": 132,
      "outputs": [
        {
          "output_type": "display_data",
          "data": {
            "image/png": "[encoded data removed]",
            "text/plain": [
              "<matplotlib.figure.Figure at 0x7f1ce8654978>"
            ]
          },
          "metadata": {
            "tags": []
          }
        }
      ]
    },
    {
      "metadata": {
        "colab_type": "code",
        "id": "JZXZyAjrjvli",
        "outputId": "ab84949f-8efd-48ef-9873-2f9276e8b5bd",
        "colab": {
          "base_uri": "https://localhost:8080/",
          "height": 74
        }
      },
      "cell_type": "code",
      "source": [
        "y_true, y_predict = ler_images_teste(arquiteture)"
      ],
      "execution_count": 133,
      "outputs": [
        {
          "output_type": "stream",
          "text": [
            "/usr/local/lib/python3.6/dist-packages/skimage/transform/_warps.py:84: UserWarning: The default mode, 'constant', will be changed to 'reflect' in skimage 0.15.\n",
            "  warn(\"The default mode, 'constant', will be changed to 'reflect' in \"\n"
          ],
          "name": "stderr"
        }
      ]
    },
    {
      "metadata": {
        "colab_type": "code",
        "id": "rRqF6tcYjvlm",
        "outputId": "4c71940b-08bb-4af1-e1cc-d31b514b65fb",
        "colab": {
          "base_uri": "https://localhost:8080/",
          "height": 35
        }
      },
      "cell_type": "code",
      "source": [
        "results[arquiteture] = precision_score(y_true, y_predict, average='binary')\n",
        "print('Test Precision: {:.2f}%'\n",
        "      .format(100 * results[arquiteture]))"
      ],
      "execution_count": 134,
      "outputs": [
        {
          "output_type": "stream",
          "text": [
            "Test Precision: 76.40%\n"
          ],
          "name": "stdout"
        }
      ]
    },
    {
      "metadata": {
        "id": "jkrlEFjlw030",
        "colab_type": "text"
      },
      "cell_type": "markdown",
      "source": [
        "### 4 tentativa Precision: 58.29%"
      ]
    },
    {
      "metadata": {
        "id": "UJ7JELAiw2kb",
        "colab_type": "text"
      },
      "cell_type": "markdown",
      "source": [
        "Modelo adaptado do **Lucas Albertins**\n",
        "\n",
        "*   Sem os **dropout**\n"
      ]
    },
    {
      "metadata": {
        "colab_type": "code",
        "id": "4N0B_5a2xB3T",
        "colab": {}
      },
      "cell_type": "code",
      "source": [
        "from keras.layers import Conv2D, MaxPooling2D, GlobalMaxPooling2D, BatchNormalization\n",
        "from keras.regularizers import l2\n",
        "\n",
        "model = Sequential()\n",
        "\n",
        "model.add(Conv2D(32, (3, 3), activation='relu', kernel_regularizer=l2(1e-4), \n",
        "                 input_shape=(None, None, 3)))\n",
        "model.add(BatchNormalization())\n",
        "model.add(Conv2D(32, (3, 3), activation='relu', kernel_regularizer=l2(1e-4)))\n",
        "model.add(BatchNormalization())\n",
        "model.add(MaxPooling2D((2, 2)))\n",
        "\n",
        "model.add(Conv2D(64, (3, 3), activation='relu', kernel_regularizer=l2(1e-4)))\n",
        "model.add(BatchNormalization())\n",
        "model.add(Conv2D(64, (3, 3), activation='relu', kernel_regularizer=l2(1e-4)))\n",
        "model.add(BatchNormalization())\n",
        "model.add(MaxPooling2D((2, 2)))\n",
        "\n",
        "model.add(Conv2D(128, (1,1), kernel_regularizer=l2(1e-4)))\n",
        "model.add(GlobalMaxPooling2D())\n",
        "\n",
        "model.add(Dense(256, activation='relu', kernel_regularizer=l2(1e-4)))\n",
        "model.add(BatchNormalization())\n",
        "model.add(Dense(2, activation='sigmoid', kernel_regularizer=l2(1e-4)))"
      ],
      "execution_count": 0,
      "outputs": []
    },
    {
      "metadata": {
        "colab_type": "code",
        "id": "V9VHjygmxB3k",
        "colab": {}
      },
      "cell_type": "code",
      "source": [
        "model.compile(optimizer='adam', loss='binary_crossentropy', metrics=['accuracy'])"
      ],
      "execution_count": 0,
      "outputs": []
    },
    {
      "metadata": {
        "colab_type": "code",
        "id": "VMLmVlASj26i",
        "colab": {}
      },
      "cell_type": "code",
      "source": [
        "arquiteture = 'architecture_4'"
      ],
      "execution_count": 0,
      "outputs": []
    },
    {
      "metadata": {
        "colab_type": "code",
        "id": "dZRIAn0Bk37B",
        "colab": {}
      },
      "cell_type": "code",
      "source": [
        "checkpointer = ModelCheckpoint(filepath='drive/My Drive/Resultado/weights_' + arquiteture + '.hdf5', verbose=1, save_best_only=True)"
      ],
      "execution_count": 0,
      "outputs": []
    },
    {
      "metadata": {
        "colab_type": "code",
        "id": "gE1pEJNR4RmV",
        "outputId": "6ff59f43-fa77-4930-b1cc-8dbaf9a2053f",
        "colab": {
          "base_uri": "https://localhost:8080/",
          "height": 3710
        }
      },
      "cell_type": "code",
      "source": [
        "training = model.fit_generator(train_batches, steps_per_epoch=stepsPerEpoche, \n",
        "                   validation_data=validation_batches, validation_steps=validationSteps,\n",
        "                   epochs=50, verbose=2, callbacks=[checkpointer])"
      ],
      "execution_count": 139,
      "outputs": [
        {
          "output_type": "stream",
          "text": [
            "Epoch 1/50\n",
            " - 6s - loss: 0.5043 - acc: 0.7687 - val_loss: 1.0212 - val_acc: 0.6406\n",
            "\n",
            "Epoch 00001: val_loss improved from inf to 1.02120, saving model to drive/My Drive/Resultado/weights_architecture_4.hdf5\n",
            "Epoch 2/50\n",
            " - 0s - loss: 0.3826 - acc: 0.8594 - val_loss: 0.6653 - val_acc: 0.8438\n",
            "\n",
            "Epoch 00002: val_loss improved from 1.02120 to 0.66535, saving model to drive/My Drive/Resultado/weights_architecture_4.hdf5\n",
            "Epoch 3/50\n",
            " - 0s - loss: 0.3986 - acc: 0.8375 - val_loss: 0.4515 - val_acc: 0.8906\n",
            "\n",
            "Epoch 00003: val_loss improved from 0.66535 to 0.45148, saving model to drive/My Drive/Resultado/weights_architecture_4.hdf5\n",
            "Epoch 4/50\n",
            " - 0s - loss: 0.3253 - acc: 0.9031 - val_loss: 0.7345 - val_acc: 0.7188\n",
            "\n",
            "Epoch 00004: val_loss did not improve from 0.45148\n",
            "Epoch 5/50\n",
            " - 0s - loss: 0.4242 - acc: 0.8423 - val_loss: 0.5291 - val_acc: 0.7656\n",
            "\n",
            "Epoch 00005: val_loss did not improve from 0.45148\n",
            "Epoch 6/50\n",
            " - 0s - loss: 0.3652 - acc: 0.8688 - val_loss: 0.5613 - val_acc: 0.8438\n",
            "\n",
            "Epoch 00006: val_loss did not improve from 0.45148\n",
            "Epoch 7/50\n",
            " - 0s - loss: 0.3120 - acc: 0.8969 - val_loss: 0.4698 - val_acc: 0.7812\n",
            "\n",
            "Epoch 00007: val_loss did not improve from 0.45148\n",
            "Epoch 8/50\n",
            " - 0s - loss: 0.2916 - acc: 0.9125 - val_loss: 0.9871 - val_acc: 0.7500\n",
            "\n",
            "Epoch 00008: val_loss did not improve from 0.45148\n",
            "Epoch 9/50\n",
            " - 0s - loss: 0.3540 - acc: 0.8656 - val_loss: 0.7326 - val_acc: 0.7656\n",
            "\n",
            "Epoch 00009: val_loss did not improve from 0.45148\n",
            "Epoch 10/50\n",
            " - 1s - loss: 0.2721 - acc: 0.9188 - val_loss: 0.3715 - val_acc: 0.8750\n",
            "\n",
            "Epoch 00010: val_loss improved from 0.45148 to 0.37148, saving model to drive/My Drive/Resultado/weights_architecture_4.hdf5\n",
            "Epoch 11/50\n",
            " - 1s - loss: 0.2038 - acc: 0.9250 - val_loss: 0.3365 - val_acc: 0.8438\n",
            "\n",
            "Epoch 00011: val_loss improved from 0.37148 to 0.33651, saving model to drive/My Drive/Resultado/weights_architecture_4.hdf5\n",
            "Epoch 12/50\n",
            " - 1s - loss: 0.3399 - acc: 0.8688 - val_loss: 0.4950 - val_acc: 0.7969\n",
            "\n",
            "Epoch 00012: val_loss did not improve from 0.33651\n",
            "Epoch 13/50\n",
            " - 1s - loss: 0.2441 - acc: 0.9188 - val_loss: 0.9512 - val_acc: 0.6094\n",
            "\n",
            "Epoch 00013: val_loss did not improve from 0.33651\n",
            "Epoch 14/50\n",
            " - 1s - loss: 0.3009 - acc: 0.9156 - val_loss: 1.0982 - val_acc: 0.7031\n",
            "\n",
            "Epoch 00014: val_loss did not improve from 0.33651\n",
            "Epoch 15/50\n",
            " - 1s - loss: 0.1909 - acc: 0.9313 - val_loss: 0.5907 - val_acc: 0.8065\n",
            "\n",
            "Epoch 00015: val_loss did not improve from 0.33651\n",
            "Epoch 16/50\n",
            " - 1s - loss: 0.2990 - acc: 0.8812 - val_loss: 0.8613 - val_acc: 0.7969\n",
            "\n",
            "Epoch 00016: val_loss did not improve from 0.33651\n",
            "Epoch 17/50\n",
            " - 1s - loss: 0.2050 - acc: 0.9406 - val_loss: 0.6339 - val_acc: 0.8125\n",
            "\n",
            "Epoch 00017: val_loss did not improve from 0.33651\n",
            "Epoch 18/50\n",
            " - 1s - loss: 0.2086 - acc: 0.9437 - val_loss: 0.9358 - val_acc: 0.7031\n",
            "\n",
            "Epoch 00018: val_loss did not improve from 0.33651\n",
            "Epoch 19/50\n",
            " - 1s - loss: 0.1798 - acc: 0.9375 - val_loss: 0.4038 - val_acc: 0.7969\n",
            "\n",
            "Epoch 00019: val_loss did not improve from 0.33651\n",
            "Epoch 20/50\n",
            " - 1s - loss: 0.1884 - acc: 0.9531 - val_loss: 0.3651 - val_acc: 0.8438\n",
            "\n",
            "Epoch 00020: val_loss did not improve from 0.33651\n",
            "Epoch 21/50\n",
            " - 1s - loss: 0.2503 - acc: 0.9344 - val_loss: 0.2554 - val_acc: 0.8594\n",
            "\n",
            "Epoch 00021: val_loss improved from 0.33651 to 0.25539, saving model to drive/My Drive/Resultado/weights_architecture_4.hdf5\n",
            "Epoch 22/50\n",
            " - 1s - loss: 0.2967 - acc: 0.8625 - val_loss: 0.6247 - val_acc: 0.7500\n",
            "\n",
            "Epoch 00022: val_loss did not improve from 0.25539\n",
            "Epoch 23/50\n",
            " - 1s - loss: 0.2602 - acc: 0.9188 - val_loss: 0.9097 - val_acc: 0.7031\n",
            "\n",
            "Epoch 00023: val_loss did not improve from 0.25539\n",
            "Epoch 24/50\n",
            " - 1s - loss: 0.3006 - acc: 0.8844 - val_loss: 1.8550 - val_acc: 0.6406\n",
            "\n",
            "Epoch 00024: val_loss did not improve from 0.25539\n",
            "Epoch 25/50\n",
            " - 1s - loss: 0.2038 - acc: 0.9406 - val_loss: 1.6672 - val_acc: 0.5938\n",
            "\n",
            "Epoch 00025: val_loss did not improve from 0.25539\n",
            "Epoch 26/50\n",
            " - 1s - loss: 0.2276 - acc: 0.9250 - val_loss: 2.2443 - val_acc: 0.5469\n",
            "\n",
            "Epoch 00026: val_loss did not improve from 0.25539\n",
            "Epoch 27/50\n",
            " - 1s - loss: 0.1816 - acc: 0.9688 - val_loss: 0.9736 - val_acc: 0.8594\n",
            "\n",
            "Epoch 00027: val_loss did not improve from 0.25539\n",
            "Epoch 28/50\n",
            " - 1s - loss: 0.2298 - acc: 0.9281 - val_loss: 0.6998 - val_acc: 0.8281\n",
            "\n",
            "Epoch 00028: val_loss did not improve from 0.25539\n",
            "Epoch 29/50\n",
            " - 1s - loss: 0.1867 - acc: 0.9500 - val_loss: 0.7378 - val_acc: 0.7344\n",
            "\n",
            "Epoch 00029: val_loss did not improve from 0.25539\n",
            "Epoch 30/50\n",
            " - 1s - loss: 0.1968 - acc: 0.9344 - val_loss: 1.2127 - val_acc: 0.7031\n",
            "\n",
            "Epoch 00030: val_loss did not improve from 0.25539\n",
            "Epoch 31/50\n",
            " - 1s - loss: 0.1763 - acc: 0.9375 - val_loss: 0.2659 - val_acc: 0.9219\n",
            "\n",
            "Epoch 00031: val_loss did not improve from 0.25539\n",
            "Epoch 32/50\n",
            " - 1s - loss: 0.2012 - acc: 0.9281 - val_loss: 0.2277 - val_acc: 0.9219\n",
            "\n",
            "Epoch 00032: val_loss improved from 0.25539 to 0.22767, saving model to drive/My Drive/Resultado/weights_architecture_4.hdf5\n",
            "Epoch 33/50\n",
            " - 1s - loss: 0.2088 - acc: 0.9399 - val_loss: 0.5481 - val_acc: 0.8906\n",
            "\n",
            "Epoch 00033: val_loss did not improve from 0.22767\n",
            "Epoch 34/50\n",
            " - 1s - loss: 0.1750 - acc: 0.9594 - val_loss: 0.4455 - val_acc: 0.7656\n",
            "\n",
            "Epoch 00034: val_loss did not improve from 0.22767\n",
            "Epoch 35/50\n",
            " - 1s - loss: 0.1431 - acc: 0.9656 - val_loss: 0.4809 - val_acc: 0.7500\n",
            "\n",
            "Epoch 00035: val_loss did not improve from 0.22767\n",
            "Epoch 36/50\n",
            " - 1s - loss: 0.1691 - acc: 0.9406 - val_loss: 0.4461 - val_acc: 0.7812\n",
            "\n",
            "Epoch 00036: val_loss did not improve from 0.22767\n",
            "Epoch 37/50\n",
            " - 1s - loss: 0.2501 - acc: 0.9188 - val_loss: 1.8450 - val_acc: 0.5469\n",
            "\n",
            "Epoch 00037: val_loss did not improve from 0.22767\n",
            "Epoch 38/50\n",
            " - 1s - loss: 0.2062 - acc: 0.9281 - val_loss: 0.9002 - val_acc: 0.5938\n",
            "\n",
            "Epoch 00038: val_loss did not improve from 0.22767\n",
            "Epoch 39/50\n",
            " - 1s - loss: 0.1978 - acc: 0.9562 - val_loss: 0.2741 - val_acc: 0.9062\n",
            "\n",
            "Epoch 00039: val_loss did not improve from 0.22767\n",
            "Epoch 40/50\n",
            " - 1s - loss: 0.2328 - acc: 0.9281 - val_loss: 0.4674 - val_acc: 0.8281\n",
            "\n",
            "Epoch 00040: val_loss did not improve from 0.22767\n",
            "Epoch 41/50\n",
            " - 1s - loss: 0.3163 - acc: 0.9031 - val_loss: 0.2810 - val_acc: 0.9219\n",
            "\n",
            "Epoch 00041: val_loss did not improve from 0.22767\n",
            "Epoch 42/50\n",
            " - 1s - loss: 0.1835 - acc: 0.9437 - val_loss: 0.2885 - val_acc: 0.8594\n",
            "\n",
            "Epoch 00042: val_loss did not improve from 0.22767\n",
            "Epoch 43/50\n",
            " - 1s - loss: 0.1161 - acc: 0.9781 - val_loss: 0.4849 - val_acc: 0.8281\n",
            "\n",
            "Epoch 00043: val_loss did not improve from 0.22767\n",
            "Epoch 44/50\n",
            " - 1s - loss: 0.1847 - acc: 0.9531 - val_loss: 0.2962 - val_acc: 0.9062\n",
            "\n",
            "Epoch 00044: val_loss did not improve from 0.22767\n",
            "Epoch 45/50\n",
            " - 1s - loss: 0.2424 - acc: 0.9062 - val_loss: 0.3338 - val_acc: 0.9062\n",
            "\n",
            "Epoch 00045: val_loss did not improve from 0.22767\n",
            "Epoch 46/50\n",
            " - 1s - loss: 0.1903 - acc: 0.9469 - val_loss: 0.5719 - val_acc: 0.7903\n",
            "\n",
            "Epoch 00046: val_loss did not improve from 0.22767\n",
            "Epoch 47/50\n",
            " - 1s - loss: 0.2213 - acc: 0.9313 - val_loss: 0.7704 - val_acc: 0.7500\n",
            "\n",
            "Epoch 00047: val_loss did not improve from 0.22767\n",
            "Epoch 48/50\n",
            " - 1s - loss: 0.2844 - acc: 0.9031 - val_loss: 0.2523 - val_acc: 0.9375\n",
            "\n",
            "Epoch 00048: val_loss did not improve from 0.22767\n",
            "Epoch 49/50\n",
            " - 1s - loss: 0.1655 - acc: 0.9594 - val_loss: 0.4196 - val_acc: 0.7500\n",
            "\n",
            "Epoch 00049: val_loss did not improve from 0.22767\n",
            "Epoch 50/50\n",
            " - 1s - loss: 0.2382 - acc: 0.9219 - val_loss: 0.2855 - val_acc: 0.9062\n",
            "\n",
            "Epoch 00050: val_loss did not improve from 0.22767\n"
          ],
          "name": "stdout"
        }
      ]
    },
    {
      "metadata": {
        "colab_type": "code",
        "id": "J32DdUl5j261",
        "outputId": "5d1d694d-c1c8-453d-d895-38d52e9b0ef0",
        "colab": {
          "base_uri": "https://localhost:8080/",
          "height": 380
        }
      },
      "cell_type": "code",
      "source": [
        "# plotar loss e accuracy para os datasets 'train' e 'test'\n",
        "plt.style.use(\"ggplot\")\n",
        "plt.figure()\n",
        "plt.plot(training.history['acc'], label='Accuracy')\n",
        "plt.plot(training.history['loss'], label='Loss')\n",
        "plt.xlabel('Epochs')\n",
        "plt.ylabel('Accuracy')\n",
        "plt.title(\"Training Loss and Accuracy\")\n",
        "plt.ylabel(\"Loss/Accuracy\")\n",
        "plt.legend()\n",
        "plt.savefig('drive/My Drive/Resultado/' + arquiteture + '.png', bbox_inches='tight')"
      ],
      "execution_count": 140,
      "outputs": [
        {
          "output_type": "display_data",
          "data": {
            "image/png": "[encoded data removed]",
            "text/plain": [
              "<matplotlib.figure.Figure at 0x7f1ce84ea5f8>"
            ]
          },
          "metadata": {
            "tags": []
          }
        }
      ]
    },
    {
      "metadata": {
        "colab_type": "code",
        "id": "w0epZConj269",
        "outputId": "38dce16e-7543-4e64-e2b3-23e9c564505f",
        "colab": {
          "base_uri": "https://localhost:8080/",
          "height": 74
        }
      },
      "cell_type": "code",
      "source": [
        "y_true, y_predict = ler_images_teste(arquiteture)"
      ],
      "execution_count": 141,
      "outputs": [
        {
          "output_type": "stream",
          "text": [
            "/usr/local/lib/python3.6/dist-packages/skimage/transform/_warps.py:84: UserWarning: The default mode, 'constant', will be changed to 'reflect' in skimage 0.15.\n",
            "  warn(\"The default mode, 'constant', will be changed to 'reflect' in \"\n"
          ],
          "name": "stderr"
        }
      ]
    },
    {
      "metadata": {
        "colab_type": "code",
        "id": "raSeJjACj27G",
        "outputId": "441002c8-39df-4bad-9181-b24038d8cc2a",
        "colab": {
          "base_uri": "https://localhost:8080/",
          "height": 35
        }
      },
      "cell_type": "code",
      "source": [
        "results[arquiteture] = precision_score(y_true, y_predict, average='binary')\n",
        "print('Test Precision: {:.2f}%'\n",
        "      .format(100 * results[arquiteture]))"
      ],
      "execution_count": 142,
      "outputs": [
        {
          "output_type": "stream",
          "text": [
            "Test Precision: 58.29%\n"
          ],
          "name": "stdout"
        }
      ]
    },
    {
      "metadata": {
        "id": "lX3WANMgB1Ew",
        "colab_type": "text"
      },
      "cell_type": "markdown",
      "source": [
        "### 5 tentativa Precision: 47.45%"
      ]
    },
    {
      "metadata": {
        "colab_type": "text",
        "id": "dqed1VQh6WXg"
      },
      "cell_type": "markdown",
      "source": [
        "Modelo adaptado do **Lucas Albertins**\n",
        "\n",
        "*   Sem os **dropout**\n",
        "*   Função **SGD** para compilação\n"
      ]
    },
    {
      "metadata": {
        "colab_type": "code",
        "id": "z9mlUa4mB-ER",
        "colab": {}
      },
      "cell_type": "code",
      "source": [
        "from keras.layers import Conv2D, MaxPooling2D, GlobalMaxPooling2D, BatchNormalization\n",
        "from keras.regularizers import l2\n",
        "\n",
        "model = Sequential()\n",
        "\n",
        "model.add(Conv2D(32, (3, 3), activation='relu', kernel_regularizer=l2(1e-4), \n",
        "                 input_shape=(None, None, 3)))\n",
        "model.add(BatchNormalization())\n",
        "model.add(Conv2D(32, (3, 3), activation='relu', kernel_regularizer=l2(1e-4)))\n",
        "model.add(BatchNormalization())\n",
        "model.add(MaxPooling2D((2, 2)))\n",
        "model.add(Dropout(0.25))\n",
        "\n",
        "model.add(Conv2D(64, (3, 3), activation='relu', kernel_regularizer=l2(1e-4)))\n",
        "model.add(BatchNormalization())\n",
        "model.add(Conv2D(64, (3, 3), activation='relu', kernel_regularizer=l2(1e-4)))\n",
        "model.add(BatchNormalization())\n",
        "model.add(MaxPooling2D((2, 2)))\n",
        "model.add(Dropout(0.25))\n",
        "\n",
        "model.add(Conv2D(128, (1,1), kernel_regularizer=l2(1e-4)))\n",
        "model.add(GlobalMaxPooling2D())\n",
        "\n",
        "model.add(Dense(256, activation='relu', kernel_regularizer=l2(1e-4)))\n",
        "model.add(Dropout(0.5))\n",
        "model.add(Dense(2, activation='sigmoid', kernel_regularizer=l2(1e-4)))"
      ],
      "execution_count": 0,
      "outputs": []
    },
    {
      "metadata": {
        "id": "ukvJwM-lCHtB",
        "colab_type": "code",
        "colab": {}
      },
      "cell_type": "code",
      "source": [
        "model.compile(SGD(lr=0.01, momentum=0.0, decay=0.0, nesterov=False), \n",
        "              loss='binary_crossentropy', metrics=['accuracy'])"
      ],
      "execution_count": 0,
      "outputs": []
    },
    {
      "metadata": {
        "colab_type": "code",
        "id": "HA_KKMyaj6-L",
        "colab": {}
      },
      "cell_type": "code",
      "source": [
        "arquiteture = 'architecture_5'"
      ],
      "execution_count": 0,
      "outputs": []
    },
    {
      "metadata": {
        "colab_type": "code",
        "id": "eWpMObq1k1cL",
        "colab": {}
      },
      "cell_type": "code",
      "source": [
        "checkpointer = ModelCheckpoint(filepath='drive/My Drive/Resultado/weights_' + arquiteture + '.hdf5', verbose=1, save_best_only=True)"
      ],
      "execution_count": 0,
      "outputs": []
    },
    {
      "metadata": {
        "colab_type": "code",
        "id": "06GSgiIj4gfo",
        "outputId": "bf62f5e7-02fa-4893-d1b7-7b4a42d97f24",
        "colab": {
          "base_uri": "https://localhost:8080/",
          "height": 3710
        }
      },
      "cell_type": "code",
      "source": [
        "training = model.fit_generator(train_batches, steps_per_epoch=stepsPerEpoche, \n",
        "                   validation_data=validation_batches, validation_steps=validationSteps,\n",
        "                   epochs=50, verbose=2, callbacks=[checkpointer])"
      ],
      "execution_count": 147,
      "outputs": [
        {
          "output_type": "stream",
          "text": [
            "Epoch 1/50\n",
            " - 6s - loss: 1.1651 - acc: 0.5750 - val_loss: 0.7766 - val_acc: 0.5312\n",
            "\n",
            "Epoch 00001: val_loss improved from inf to 0.77656, saving model to drive/My Drive/Resultado/weights_architecture_5.hdf5\n",
            "Epoch 2/50\n",
            " - 0s - loss: 1.0820 - acc: 0.6437 - val_loss: 0.7309 - val_acc: 0.6406\n",
            "\n",
            "Epoch 00002: val_loss improved from 0.77656 to 0.73087, saving model to drive/My Drive/Resultado/weights_architecture_5.hdf5\n",
            "Epoch 3/50\n",
            " - 0s - loss: 0.7966 - acc: 0.6906 - val_loss: 1.0350 - val_acc: 0.5938\n",
            "\n",
            "Epoch 00003: val_loss did not improve from 0.73087\n",
            "Epoch 4/50\n",
            " - 0s - loss: 0.5574 - acc: 0.7938 - val_loss: 1.2529 - val_acc: 0.4531\n",
            "\n",
            "Epoch 00004: val_loss did not improve from 0.73087\n",
            "Epoch 5/50\n",
            " - 0s - loss: 0.6186 - acc: 0.7875 - val_loss: 0.6987 - val_acc: 0.7344\n",
            "\n",
            "Epoch 00005: val_loss improved from 0.73087 to 0.69870, saving model to drive/My Drive/Resultado/weights_architecture_5.hdf5\n",
            "Epoch 6/50\n",
            " - 0s - loss: 0.4229 - acc: 0.8688 - val_loss: 1.1014 - val_acc: 0.4844\n",
            "\n",
            "Epoch 00006: val_loss did not improve from 0.69870\n",
            "Epoch 7/50\n",
            " - 0s - loss: 0.5813 - acc: 0.7938 - val_loss: 1.1380 - val_acc: 0.5312\n",
            "\n",
            "Epoch 00007: val_loss did not improve from 0.69870\n",
            "Epoch 8/50\n",
            " - 0s - loss: 0.5592 - acc: 0.7969 - val_loss: 0.5701 - val_acc: 0.7969\n",
            "\n",
            "Epoch 00008: val_loss improved from 0.69870 to 0.57012, saving model to drive/My Drive/Resultado/weights_architecture_5.hdf5\n",
            "Epoch 9/50\n",
            " - 0s - loss: 0.4141 - acc: 0.8719 - val_loss: 0.5379 - val_acc: 0.7656\n",
            "\n",
            "Epoch 00009: val_loss improved from 0.57012 to 0.53792, saving model to drive/My Drive/Resultado/weights_architecture_5.hdf5\n",
            "Epoch 10/50\n",
            " - 0s - loss: 0.4108 - acc: 0.8527 - val_loss: 0.8367 - val_acc: 0.6406\n",
            "\n",
            "Epoch 00010: val_loss did not improve from 0.53792\n",
            "Epoch 11/50\n",
            " - 1s - loss: 0.4384 - acc: 0.8563 - val_loss: 0.5858 - val_acc: 0.7656\n",
            "\n",
            "Epoch 00011: val_loss did not improve from 0.53792\n",
            "Epoch 12/50\n",
            " - 1s - loss: 0.4445 - acc: 0.8688 - val_loss: 1.1754 - val_acc: 0.5000\n",
            "\n",
            "Epoch 00012: val_loss did not improve from 0.53792\n",
            "Epoch 13/50\n",
            " - 1s - loss: 0.3315 - acc: 0.8844 - val_loss: 0.3292 - val_acc: 0.9062\n",
            "\n",
            "Epoch 00013: val_loss improved from 0.53792 to 0.32920, saving model to drive/My Drive/Resultado/weights_architecture_5.hdf5\n",
            "Epoch 14/50\n",
            " - 1s - loss: 0.3688 - acc: 0.8844 - val_loss: 0.5745 - val_acc: 0.7656\n",
            "\n",
            "Epoch 00014: val_loss did not improve from 0.32920\n",
            "Epoch 15/50\n",
            " - 1s - loss: 0.2679 - acc: 0.9062 - val_loss: 0.4087 - val_acc: 0.7969\n",
            "\n",
            "Epoch 00015: val_loss did not improve from 0.32920\n",
            "Epoch 16/50\n",
            " - 1s - loss: 0.4208 - acc: 0.8563 - val_loss: 0.5338 - val_acc: 0.7903\n",
            "\n",
            "Epoch 00016: val_loss did not improve from 0.32920\n",
            "Epoch 17/50\n",
            " - 1s - loss: 0.4693 - acc: 0.8500 - val_loss: 1.2370 - val_acc: 0.5625\n",
            "\n",
            "Epoch 00017: val_loss did not improve from 0.32920\n",
            "Epoch 18/50\n",
            " - 1s - loss: 0.3993 - acc: 0.8625 - val_loss: 1.2106 - val_acc: 0.5156\n",
            "\n",
            "Epoch 00018: val_loss did not improve from 0.32920\n",
            "Epoch 19/50\n",
            " - 1s - loss: 0.3304 - acc: 0.9062 - val_loss: 0.9987 - val_acc: 0.5000\n",
            "\n",
            "Epoch 00019: val_loss did not improve from 0.32920\n",
            "Epoch 20/50\n",
            " - 1s - loss: 0.5595 - acc: 0.7906 - val_loss: 0.7092 - val_acc: 0.7656\n",
            "\n",
            "Epoch 00020: val_loss did not improve from 0.32920\n",
            "Epoch 21/50\n",
            " - 1s - loss: 0.3555 - acc: 0.8688 - val_loss: 0.3838 - val_acc: 0.8281\n",
            "\n",
            "Epoch 00021: val_loss did not improve from 0.32920\n",
            "Epoch 22/50\n",
            " - 1s - loss: 0.2802 - acc: 0.9094 - val_loss: 0.5023 - val_acc: 0.7656\n",
            "\n",
            "Epoch 00022: val_loss did not improve from 0.32920\n",
            "Epoch 23/50\n",
            " - 1s - loss: 0.2144 - acc: 0.9281 - val_loss: 0.6818 - val_acc: 0.7344\n",
            "\n",
            "Epoch 00023: val_loss did not improve from 0.32920\n",
            "Epoch 24/50\n",
            " - 1s - loss: 0.4319 - acc: 0.8594 - val_loss: 0.6373 - val_acc: 0.7188\n",
            "\n",
            "Epoch 00024: val_loss did not improve from 0.32920\n",
            "Epoch 25/50\n",
            " - 1s - loss: 0.3054 - acc: 0.8875 - val_loss: 0.6857 - val_acc: 0.6250\n",
            "\n",
            "Epoch 00025: val_loss did not improve from 0.32920\n",
            "Epoch 26/50\n",
            " - 1s - loss: 0.3698 - acc: 0.8781 - val_loss: 0.5042 - val_acc: 0.7500\n",
            "\n",
            "Epoch 00026: val_loss did not improve from 0.32920\n",
            "Epoch 27/50\n",
            " - 1s - loss: 0.3315 - acc: 0.8937 - val_loss: 0.4110 - val_acc: 0.8438\n",
            "\n",
            "Epoch 00027: val_loss did not improve from 0.32920\n",
            "Epoch 28/50\n",
            " - 1s - loss: 0.2560 - acc: 0.9281 - val_loss: 0.9938 - val_acc: 0.4844\n",
            "\n",
            "Epoch 00028: val_loss did not improve from 0.32920\n",
            "Epoch 29/50\n",
            " - 1s - loss: 0.3197 - acc: 0.9125 - val_loss: 0.4637 - val_acc: 0.8281\n",
            "\n",
            "Epoch 00029: val_loss did not improve from 0.32920\n",
            "Epoch 30/50\n",
            " - 1s - loss: 0.2752 - acc: 0.9156 - val_loss: 0.7220 - val_acc: 0.6719\n",
            "\n",
            "Epoch 00030: val_loss did not improve from 0.32920\n",
            "Epoch 31/50\n",
            " - 1s - loss: 0.2716 - acc: 0.8937 - val_loss: 0.5060 - val_acc: 0.8750\n",
            "\n",
            "Epoch 00031: val_loss did not improve from 0.32920\n",
            "Epoch 32/50\n",
            " - 1s - loss: 0.3179 - acc: 0.9000 - val_loss: 0.2438 - val_acc: 0.9375\n",
            "\n",
            "Epoch 00032: val_loss improved from 0.32920 to 0.24381, saving model to drive/My Drive/Resultado/weights_architecture_5.hdf5\n",
            "Epoch 33/50\n",
            " - 1s - loss: 0.3109 - acc: 0.8906 - val_loss: 0.4348 - val_acc: 0.8438\n",
            "\n",
            "Epoch 00033: val_loss did not improve from 0.24381\n",
            "Epoch 34/50\n",
            " - 1s - loss: 0.2816 - acc: 0.9125 - val_loss: 0.2978 - val_acc: 0.9219\n",
            "\n",
            "Epoch 00034: val_loss did not improve from 0.24381\n",
            "Epoch 35/50\n",
            " - 1s - loss: 0.1923 - acc: 0.9344 - val_loss: 0.4726 - val_acc: 0.7812\n",
            "\n",
            "Epoch 00035: val_loss did not improve from 0.24381\n",
            "Epoch 36/50\n",
            " - 1s - loss: 0.2696 - acc: 0.9094 - val_loss: 0.4574 - val_acc: 0.8125\n",
            "\n",
            "Epoch 00036: val_loss did not improve from 0.24381\n",
            "Epoch 37/50\n",
            " - 1s - loss: 0.2885 - acc: 0.9168 - val_loss: 0.5632 - val_acc: 0.7812\n",
            "\n",
            "Epoch 00037: val_loss did not improve from 0.24381\n",
            "Epoch 38/50\n",
            " - 1s - loss: 0.3366 - acc: 0.8781 - val_loss: 0.4353 - val_acc: 0.8438\n",
            "\n",
            "Epoch 00038: val_loss did not improve from 0.24381\n",
            "Epoch 39/50\n",
            " - 1s - loss: 0.2388 - acc: 0.9219 - val_loss: 0.4596 - val_acc: 0.8594\n",
            "\n",
            "Epoch 00039: val_loss did not improve from 0.24381\n",
            "Epoch 40/50\n",
            " - 1s - loss: 0.2217 - acc: 0.9281 - val_loss: 0.5612 - val_acc: 0.7500\n",
            "\n",
            "Epoch 00040: val_loss did not improve from 0.24381\n",
            "Epoch 41/50\n",
            " - 1s - loss: 0.2824 - acc: 0.9094 - val_loss: 0.5511 - val_acc: 0.7812\n",
            "\n",
            "Epoch 00041: val_loss did not improve from 0.24381\n",
            "Epoch 42/50\n",
            " - 1s - loss: 0.2421 - acc: 0.9375 - val_loss: 1.3403 - val_acc: 0.5625\n",
            "\n",
            "Epoch 00042: val_loss did not improve from 0.24381\n",
            "Epoch 43/50\n",
            " - 1s - loss: 0.3282 - acc: 0.8875 - val_loss: 0.5887 - val_acc: 0.7188\n",
            "\n",
            "Epoch 00043: val_loss did not improve from 0.24381\n",
            "Epoch 44/50\n",
            " - 1s - loss: 0.2713 - acc: 0.9094 - val_loss: 0.4540 - val_acc: 0.7812\n",
            "\n",
            "Epoch 00044: val_loss did not improve from 0.24381\n",
            "Epoch 45/50\n",
            " - 1s - loss: 0.2642 - acc: 0.9156 - val_loss: 0.4815 - val_acc: 0.8906\n",
            "\n",
            "Epoch 00045: val_loss did not improve from 0.24381\n",
            "Epoch 46/50\n",
            " - 1s - loss: 0.2887 - acc: 0.8875 - val_loss: 0.5830 - val_acc: 0.7031\n",
            "\n",
            "Epoch 00046: val_loss did not improve from 0.24381\n",
            "Epoch 47/50\n",
            " - 1s - loss: 0.2177 - acc: 0.9531 - val_loss: 0.6603 - val_acc: 0.7097\n",
            "\n",
            "Epoch 00047: val_loss did not improve from 0.24381\n",
            "Epoch 48/50\n",
            " - 1s - loss: 0.2783 - acc: 0.9062 - val_loss: 1.5244 - val_acc: 0.5000\n",
            "\n",
            "Epoch 00048: val_loss did not improve from 0.24381\n",
            "Epoch 49/50\n",
            " - 1s - loss: 0.3074 - acc: 0.9062 - val_loss: 0.6712 - val_acc: 0.6875\n",
            "\n",
            "Epoch 00049: val_loss did not improve from 0.24381\n",
            "Epoch 50/50\n",
            " - 1s - loss: 0.2750 - acc: 0.9031 - val_loss: 0.5274 - val_acc: 0.7344\n",
            "\n",
            "Epoch 00050: val_loss did not improve from 0.24381\n"
          ],
          "name": "stdout"
        }
      ]
    },
    {
      "metadata": {
        "colab_type": "code",
        "id": "bqNxaqg5j6-Q",
        "outputId": "f4370d28-9e24-4270-c1bc-dd318cd6ed3c",
        "colab": {
          "base_uri": "https://localhost:8080/",
          "height": 380
        }
      },
      "cell_type": "code",
      "source": [
        "# plotar loss e accuracy para os datasets 'train' e 'test'\n",
        "plt.style.use(\"ggplot\")\n",
        "plt.figure()\n",
        "plt.plot(training.history['acc'], label='Accuracy')\n",
        "plt.plot(training.history['loss'], label='Loss')\n",
        "plt.xlabel('Epochs')\n",
        "plt.ylabel('Accuracy')\n",
        "plt.title(\"Training Loss and Accuracy\")\n",
        "plt.ylabel(\"Loss/Accuracy\")\n",
        "plt.legend()\n",
        "plt.savefig('drive/My Drive/Resultado/' + arquiteture + '.png', bbox_inches='tight')"
      ],
      "execution_count": 148,
      "outputs": [
        {
          "output_type": "display_data",
          "data": {
            "image/png": "[encoded data removed]",
            "text/plain": [
              "<matplotlib.figure.Figure at 0x7f1ce99c1a90>"
            ]
          },
          "metadata": {
            "tags": []
          }
        }
      ]
    },
    {
      "metadata": {
        "colab_type": "code",
        "id": "PNDCeMfZj6-X",
        "outputId": "9d416602-dd55-4d8b-ddc4-98a86c4417cd",
        "colab": {
          "base_uri": "https://localhost:8080/",
          "height": 74
        }
      },
      "cell_type": "code",
      "source": [
        "y_true, y_predict = ler_images_teste(arquiteture)"
      ],
      "execution_count": 149,
      "outputs": [
        {
          "output_type": "stream",
          "text": [
            "/usr/local/lib/python3.6/dist-packages/skimage/transform/_warps.py:84: UserWarning: The default mode, 'constant', will be changed to 'reflect' in skimage 0.15.\n",
            "  warn(\"The default mode, 'constant', will be changed to 'reflect' in \"\n"
          ],
          "name": "stderr"
        }
      ]
    },
    {
      "metadata": {
        "colab_type": "code",
        "id": "atPv7K2Jj6-g",
        "outputId": "dd960f1e-f43a-4377-f72b-2af9d5389c68",
        "colab": {
          "base_uri": "https://localhost:8080/",
          "height": 35
        }
      },
      "cell_type": "code",
      "source": [
        "results[arquiteture] = precision_score(y_true, y_predict, average='binary')\n",
        "print('Test Precision: {:.2f}%'\n",
        "      .format(100 * results[arquiteture]))"
      ],
      "execution_count": 150,
      "outputs": [
        {
          "output_type": "stream",
          "text": [
            "Test Precision: 47.45%\n"
          ],
          "name": "stdout"
        }
      ]
    },
    {
      "metadata": {
        "id": "apfIeirYD2N7",
        "colab_type": "text"
      },
      "cell_type": "markdown",
      "source": [
        "### 6 tentativa Precision: 35.57%"
      ]
    },
    {
      "metadata": {
        "colab_type": "text",
        "id": "xaxcjuxn7BAH"
      },
      "cell_type": "markdown",
      "source": [
        "Modelo adaptado do **Lucas Albertins**\n",
        "\n",
        "*   Sem os **dropout**\n",
        "*   Função **SGD** para compilação\n",
        "*   **BatchNormalization** antes da ultima camada Dense\n"
      ]
    },
    {
      "metadata": {
        "colab_type": "code",
        "id": "C2UuO-jqD44u",
        "colab": {}
      },
      "cell_type": "code",
      "source": [
        "from keras.layers import Conv2D, MaxPooling2D, GlobalMaxPooling2D, BatchNormalization\n",
        "from keras.regularizers import l2\n",
        "\n",
        "model = Sequential()\n",
        "\n",
        "model.add(Conv2D(32, (3, 3), activation='relu', kernel_regularizer=l2(1e-4), \n",
        "                 input_shape=(None, None, 3)))\n",
        "model.add(BatchNormalization())\n",
        "model.add(Conv2D(32, (3, 3), activation='relu', kernel_regularizer=l2(1e-4)))\n",
        "model.add(BatchNormalization())\n",
        "model.add(MaxPooling2D((2, 2)))\n",
        "\n",
        "model.add(Conv2D(64, (3, 3), activation='relu', kernel_regularizer=l2(1e-4)))\n",
        "model.add(BatchNormalization())\n",
        "model.add(Conv2D(64, (3, 3), activation='relu', kernel_regularizer=l2(1e-4)))\n",
        "model.add(BatchNormalization())\n",
        "model.add(MaxPooling2D((2, 2)))\n",
        "\n",
        "model.add(Conv2D(128, (1,1), kernel_regularizer=l2(1e-4)))\n",
        "model.add(GlobalMaxPooling2D())\n",
        "\n",
        "model.add(Dense(256, activation='relu', kernel_regularizer=l2(1e-4)))\n",
        "model.add(BatchNormalization())\n",
        "model.add(Dense(2, activation='sigmoid', kernel_regularizer=l2(1e-4)))"
      ],
      "execution_count": 0,
      "outputs": []
    },
    {
      "metadata": {
        "colab_type": "code",
        "id": "I7mu97znD45M",
        "colab": {}
      },
      "cell_type": "code",
      "source": [
        "model.compile(SGD(lr=0.03, momentum=0.0, decay=0.0, nesterov=False), \n",
        "              loss='binary_crossentropy', metrics=['accuracy'])"
      ],
      "execution_count": 0,
      "outputs": []
    },
    {
      "metadata": {
        "colab_type": "code",
        "id": "QQFrxD_Rj9wz",
        "colab": {}
      },
      "cell_type": "code",
      "source": [
        "arquiteture = 'architecture_6'"
      ],
      "execution_count": 0,
      "outputs": []
    },
    {
      "metadata": {
        "colab_type": "code",
        "id": "ihB-VbCRkyUR",
        "colab": {}
      },
      "cell_type": "code",
      "source": [
        "checkpointer = ModelCheckpoint(filepath='drive/My Drive/Resultado/weights_' + arquiteture + '.hdf5', verbose=1, save_best_only=True)"
      ],
      "execution_count": 0,
      "outputs": []
    },
    {
      "metadata": {
        "colab_type": "code",
        "id": "HRAakAz46scS",
        "outputId": "6b6366c3-8f37-4127-fa0a-230b119b8a09",
        "colab": {
          "base_uri": "https://localhost:8080/",
          "height": 3710
        }
      },
      "cell_type": "code",
      "source": [
        "training = model.fit_generator(train_batches, steps_per_epoch=stepsPerEpoche, \n",
        "                   validation_data=validation_batches, validation_steps=validationSteps,\n",
        "                   epochs=50, verbose=2, callbacks=[checkpointer])"
      ],
      "execution_count": 155,
      "outputs": [
        {
          "output_type": "stream",
          "text": [
            "Epoch 1/50\n",
            " - 6s - loss: 0.6172 - acc: 0.7344 - val_loss: 2.0658 - val_acc: 0.4688\n",
            "\n",
            "Epoch 00001: val_loss improved from inf to 2.06582, saving model to drive/My Drive/Resultado/weights_architecture_6.hdf5\n",
            "Epoch 2/50\n",
            " - 0s - loss: 0.4981 - acc: 0.7969 - val_loss: 0.8045 - val_acc: 0.7031\n",
            "\n",
            "Epoch 00002: val_loss improved from 2.06582 to 0.80447, saving model to drive/My Drive/Resultado/weights_architecture_6.hdf5\n",
            "Epoch 3/50\n",
            " - 0s - loss: 0.3304 - acc: 0.8750 - val_loss: 0.6025 - val_acc: 0.7656\n",
            "\n",
            "Epoch 00003: val_loss improved from 0.80447 to 0.60249, saving model to drive/My Drive/Resultado/weights_architecture_6.hdf5\n",
            "Epoch 4/50\n",
            " - 0s - loss: 0.3604 - acc: 0.8594 - val_loss: 0.7214 - val_acc: 0.8125\n",
            "\n",
            "Epoch 00004: val_loss did not improve from 0.60249\n",
            "Epoch 5/50\n",
            " - 0s - loss: 0.3553 - acc: 0.8844 - val_loss: 2.0796 - val_acc: 0.4844\n",
            "\n",
            "Epoch 00005: val_loss did not improve from 0.60249\n",
            "Epoch 6/50\n",
            " - 0s - loss: 0.3260 - acc: 0.8812 - val_loss: 0.9448 - val_acc: 0.6875\n",
            "\n",
            "Epoch 00006: val_loss did not improve from 0.60249\n",
            "Epoch 7/50\n",
            " - 0s - loss: 0.2678 - acc: 0.9156 - val_loss: 1.0530 - val_acc: 0.5938\n",
            "\n",
            "Epoch 00007: val_loss did not improve from 0.60249\n",
            "Epoch 8/50\n",
            " - 1s - loss: 0.3454 - acc: 0.8531 - val_loss: 1.4387 - val_acc: 0.5781\n",
            "\n",
            "Epoch 00008: val_loss did not improve from 0.60249\n",
            "Epoch 9/50\n",
            " - 1s - loss: 0.3208 - acc: 0.9000 - val_loss: 0.7835 - val_acc: 0.7344\n",
            "\n",
            "Epoch 00009: val_loss did not improve from 0.60249\n",
            "Epoch 10/50\n",
            " - 1s - loss: 0.2579 - acc: 0.9125 - val_loss: 0.4349 - val_acc: 0.8750\n",
            "\n",
            "Epoch 00010: val_loss improved from 0.60249 to 0.43491, saving model to drive/My Drive/Resultado/weights_architecture_6.hdf5\n",
            "Epoch 11/50\n",
            " - 1s - loss: 0.3071 - acc: 0.9031 - val_loss: 0.6250 - val_acc: 0.7500\n",
            "\n",
            "Epoch 00011: val_loss did not improve from 0.43491\n",
            "Epoch 12/50\n",
            " - 1s - loss: 0.3040 - acc: 0.8656 - val_loss: 0.8177 - val_acc: 0.7656\n",
            "\n",
            "Epoch 00012: val_loss did not improve from 0.43491\n",
            "Epoch 13/50\n",
            " - 1s - loss: 0.3096 - acc: 0.8969 - val_loss: 0.8677 - val_acc: 0.6406\n",
            "\n",
            "Epoch 00013: val_loss did not improve from 0.43491\n",
            "Epoch 14/50\n",
            " - 1s - loss: 0.3546 - acc: 0.8580 - val_loss: 1.7878 - val_acc: 0.6406\n",
            "\n",
            "Epoch 00014: val_loss did not improve from 0.43491\n",
            "Epoch 15/50\n",
            " - 1s - loss: 0.2761 - acc: 0.9000 - val_loss: 0.8867 - val_acc: 0.6406\n",
            "\n",
            "Epoch 00015: val_loss did not improve from 0.43491\n",
            "Epoch 16/50\n",
            " - 1s - loss: 0.1893 - acc: 0.9469 - val_loss: 0.5386 - val_acc: 0.8438\n",
            "\n",
            "Epoch 00016: val_loss did not improve from 0.43491\n",
            "Epoch 17/50\n",
            " - 1s - loss: 0.2856 - acc: 0.9094 - val_loss: 0.3909 - val_acc: 0.8226\n",
            "\n",
            "Epoch 00017: val_loss improved from 0.43491 to 0.39093, saving model to drive/My Drive/Resultado/weights_architecture_6.hdf5\n",
            "Epoch 18/50\n",
            " - 1s - loss: 0.2263 - acc: 0.9219 - val_loss: 0.5081 - val_acc: 0.7812\n",
            "\n",
            "Epoch 00018: val_loss did not improve from 0.39093\n",
            "Epoch 19/50\n",
            " - 1s - loss: 0.2047 - acc: 0.9344 - val_loss: 0.8812 - val_acc: 0.7031\n",
            "\n",
            "Epoch 00019: val_loss did not improve from 0.39093\n",
            "Epoch 20/50\n",
            " - 1s - loss: 0.2156 - acc: 0.9375 - val_loss: 0.7904 - val_acc: 0.7969\n",
            "\n",
            "Epoch 00020: val_loss did not improve from 0.39093\n",
            "Epoch 21/50\n",
            " - 1s - loss: 0.3059 - acc: 0.8875 - val_loss: 0.8226 - val_acc: 0.6406\n",
            "\n",
            "Epoch 00021: val_loss did not improve from 0.39093\n",
            "Epoch 22/50\n",
            " - 1s - loss: 0.1951 - acc: 0.9375 - val_loss: 0.4356 - val_acc: 0.8125\n",
            "\n",
            "Epoch 00022: val_loss did not improve from 0.39093\n",
            "Epoch 23/50\n",
            " - 1s - loss: 0.3242 - acc: 0.8937 - val_loss: 1.6826 - val_acc: 0.4531\n",
            "\n",
            "Epoch 00023: val_loss did not improve from 0.39093\n",
            "Epoch 24/50\n",
            " - 1s - loss: 0.2432 - acc: 0.9313 - val_loss: 0.3072 - val_acc: 0.8594\n",
            "\n",
            "Epoch 00024: val_loss improved from 0.39093 to 0.30723, saving model to drive/My Drive/Resultado/weights_architecture_6.hdf5\n",
            "Epoch 25/50\n",
            " - 1s - loss: 0.2505 - acc: 0.9000 - val_loss: 1.2294 - val_acc: 0.5781\n",
            "\n",
            "Epoch 00025: val_loss did not improve from 0.30723\n",
            "Epoch 26/50\n",
            " - 1s - loss: 0.2453 - acc: 0.9281 - val_loss: 0.2925 - val_acc: 0.8906\n",
            "\n",
            "Epoch 00026: val_loss improved from 0.30723 to 0.29253, saving model to drive/My Drive/Resultado/weights_architecture_6.hdf5\n",
            "Epoch 27/50\n",
            " - 1s - loss: 0.1831 - acc: 0.9469 - val_loss: 0.5958 - val_acc: 0.7344\n",
            "\n",
            "Epoch 00027: val_loss did not improve from 0.29253\n",
            "Epoch 28/50\n",
            " - 1s - loss: 0.2264 - acc: 0.9500 - val_loss: 1.0593 - val_acc: 0.6406\n",
            "\n",
            "Epoch 00028: val_loss did not improve from 0.29253\n",
            "Epoch 29/50\n",
            " - 1s - loss: 0.1961 - acc: 0.9469 - val_loss: 0.2931 - val_acc: 0.9375\n",
            "\n",
            "Epoch 00029: val_loss did not improve from 0.29253\n",
            "Epoch 30/50\n",
            " - 1s - loss: 0.1826 - acc: 0.9437 - val_loss: 0.1980 - val_acc: 0.9375\n",
            "\n",
            "Epoch 00030: val_loss improved from 0.29253 to 0.19800, saving model to drive/My Drive/Resultado/weights_architecture_6.hdf5\n",
            "Epoch 31/50\n",
            " - 1s - loss: 0.3724 - acc: 0.8875 - val_loss: 0.3502 - val_acc: 0.8906\n",
            "\n",
            "Epoch 00031: val_loss did not improve from 0.19800\n",
            "Epoch 32/50\n",
            " - 1s - loss: 0.2179 - acc: 0.9406 - val_loss: 0.8286 - val_acc: 0.6719\n",
            "\n",
            "Epoch 00032: val_loss did not improve from 0.19800\n",
            "Epoch 33/50\n",
            " - 1s - loss: 0.1814 - acc: 0.9500 - val_loss: 0.5726 - val_acc: 0.7656\n",
            "\n",
            "Epoch 00033: val_loss did not improve from 0.19800\n",
            "Epoch 34/50\n",
            " - 1s - loss: 0.1805 - acc: 0.9531 - val_loss: 0.3948 - val_acc: 0.8750\n",
            "\n",
            "Epoch 00034: val_loss did not improve from 0.19800\n",
            "Epoch 35/50\n",
            " - 1s - loss: 0.2704 - acc: 0.9125 - val_loss: 0.4159 - val_acc: 0.8125\n",
            "\n",
            "Epoch 00035: val_loss did not improve from 0.19800\n",
            "Epoch 36/50\n",
            " - 1s - loss: 0.2477 - acc: 0.9219 - val_loss: 1.0866 - val_acc: 0.5781\n",
            "\n",
            "Epoch 00036: val_loss did not improve from 0.19800\n",
            "Epoch 37/50\n",
            " - 1s - loss: 0.3142 - acc: 0.8875 - val_loss: 0.2600 - val_acc: 0.9531\n",
            "\n",
            "Epoch 00037: val_loss did not improve from 0.19800\n",
            "Epoch 38/50\n",
            " - 1s - loss: 0.2243 - acc: 0.9188 - val_loss: 0.2626 - val_acc: 0.9062\n",
            "\n",
            "Epoch 00038: val_loss did not improve from 0.19800\n",
            "Epoch 39/50\n",
            " - 1s - loss: 0.2703 - acc: 0.9313 - val_loss: 0.4374 - val_acc: 0.8594\n",
            "\n",
            "Epoch 00039: val_loss did not improve from 0.19800\n",
            "Epoch 40/50\n",
            " - 1s - loss: 0.2580 - acc: 0.9313 - val_loss: 0.3668 - val_acc: 0.8438\n",
            "\n",
            "Epoch 00040: val_loss did not improve from 0.19800\n",
            "Epoch 41/50\n",
            " - 1s - loss: 0.2361 - acc: 0.9375 - val_loss: 0.4810 - val_acc: 0.8125\n",
            "\n",
            "Epoch 00041: val_loss did not improve from 0.19800\n",
            "Epoch 42/50\n",
            " - 1s - loss: 0.1789 - acc: 0.9564 - val_loss: 0.2900 - val_acc: 0.8906\n",
            "\n",
            "Epoch 00042: val_loss did not improve from 0.19800\n",
            "Epoch 43/50\n",
            " - 1s - loss: 0.2238 - acc: 0.9406 - val_loss: 0.4984 - val_acc: 0.8281\n",
            "\n",
            "Epoch 00043: val_loss did not improve from 0.19800\n",
            "Epoch 44/50\n",
            " - 1s - loss: 0.2587 - acc: 0.8969 - val_loss: 2.0277 - val_acc: 0.4375\n",
            "\n",
            "Epoch 00044: val_loss did not improve from 0.19800\n",
            "Epoch 45/50\n",
            " - 1s - loss: 0.2347 - acc: 0.9344 - val_loss: 0.7153 - val_acc: 0.7656\n",
            "\n",
            "Epoch 00045: val_loss did not improve from 0.19800\n",
            "Epoch 46/50\n",
            " - 1s - loss: 0.1903 - acc: 0.9469 - val_loss: 0.3780 - val_acc: 0.8594\n",
            "\n",
            "Epoch 00046: val_loss did not improve from 0.19800\n",
            "Epoch 47/50\n",
            " - 1s - loss: 0.1942 - acc: 0.9406 - val_loss: 0.7956 - val_acc: 0.6719\n",
            "\n",
            "Epoch 00047: val_loss did not improve from 0.19800\n",
            "Epoch 48/50\n",
            " - 1s - loss: 0.2190 - acc: 0.9250 - val_loss: 0.9702 - val_acc: 0.6452\n",
            "\n",
            "Epoch 00048: val_loss did not improve from 0.19800\n",
            "Epoch 49/50\n",
            " - 1s - loss: 0.1749 - acc: 0.9688 - val_loss: 1.2937 - val_acc: 0.6094\n",
            "\n",
            "Epoch 00049: val_loss did not improve from 0.19800\n",
            "Epoch 50/50\n",
            " - 1s - loss: 0.1873 - acc: 0.9500 - val_loss: 0.6979 - val_acc: 0.7500\n",
            "\n",
            "Epoch 00050: val_loss did not improve from 0.19800\n"
          ],
          "name": "stdout"
        }
      ]
    },
    {
      "metadata": {
        "colab_type": "code",
        "id": "OqkWIHX3j9w7",
        "outputId": "d45bb6b5-ffdc-487d-d537-cc29a4d02560",
        "colab": {
          "base_uri": "https://localhost:8080/",
          "height": 380
        }
      },
      "cell_type": "code",
      "source": [
        "# plotar loss e accuracy para os datasets 'train' e 'test'\n",
        "plt.style.use(\"ggplot\")\n",
        "plt.figure()\n",
        "plt.plot(training.history['acc'], label='Accuracy')\n",
        "plt.plot(training.history['loss'], label='Loss')\n",
        "plt.xlabel('Epochs')\n",
        "plt.ylabel('Accuracy')\n",
        "plt.title(\"Training Loss and Accuracy\")\n",
        "plt.ylabel(\"Loss/Accuracy\")\n",
        "plt.legend()\n",
        "plt.savefig('drive/My Drive/Resultado/' + arquiteture + '.png', bbox_inches='tight')"
      ],
      "execution_count": 156,
      "outputs": [
        {
          "output_type": "display_data",
          "data": {
            "image/png": "[encoded data removed]",
            "text/plain": [
              "<matplotlib.figure.Figure at 0x7f1ce5a6b898>"
            ]
          },
          "metadata": {
            "tags": []
          }
        }
      ]
    },
    {
      "metadata": {
        "colab_type": "code",
        "id": "4Gkm9_wVj9w_",
        "outputId": "1599265b-78c5-4312-be52-e58ba2951f3c",
        "colab": {
          "base_uri": "https://localhost:8080/",
          "height": 74
        }
      },
      "cell_type": "code",
      "source": [
        "y_true, y_predict = ler_images_teste(arquiteture)"
      ],
      "execution_count": 157,
      "outputs": [
        {
          "output_type": "stream",
          "text": [
            "/usr/local/lib/python3.6/dist-packages/skimage/transform/_warps.py:84: UserWarning: The default mode, 'constant', will be changed to 'reflect' in skimage 0.15.\n",
            "  warn(\"The default mode, 'constant', will be changed to 'reflect' in \"\n"
          ],
          "name": "stderr"
        }
      ]
    },
    {
      "metadata": {
        "colab_type": "code",
        "id": "seI9o-8_j9xD",
        "outputId": "1cf9f9f6-76f3-4da0-8634-1b101352275b",
        "colab": {
          "base_uri": "https://localhost:8080/",
          "height": 35
        }
      },
      "cell_type": "code",
      "source": [
        "results[arquiteture] = precision_score(y_true, y_predict, average='binary')\n",
        "print('Test Precision: {:.2f}%'\n",
        "      .format(100 * results[arquiteture]))"
      ],
      "execution_count": 158,
      "outputs": [
        {
          "output_type": "stream",
          "text": [
            "Test Precision: 35.57%\n"
          ],
          "name": "stdout"
        }
      ]
    },
    {
      "metadata": {
        "id": "5gk7vmYPHddj",
        "colab_type": "text"
      },
      "cell_type": "markdown",
      "source": [
        "### 7 tentativa Precision: 75.84%"
      ]
    },
    {
      "metadata": {
        "colab_type": "text",
        "id": "lxzyd-4L422r"
      },
      "cell_type": "markdown",
      "source": [
        "Modelo adaptado do **Lucas Albertins**\n",
        "\n",
        "*   Sem os **dropout**\n",
        "*   Função **Adadelta** para compilação\n",
        "*   **BatchNormalization** antes da ultima camada Dense\n"
      ]
    },
    {
      "metadata": {
        "colab_type": "code",
        "id": "sIBEdGsyHhJN",
        "colab": {}
      },
      "cell_type": "code",
      "source": [
        "from keras.layers import Conv2D, MaxPooling2D, GlobalMaxPooling2D, BatchNormalization\n",
        "from keras.regularizers import l2\n",
        "from keras.optimizers import Adadelta\n",
        "\n",
        "model = Sequential()\n",
        "\n",
        "model.add(Conv2D(32, (3, 3), activation='relu', kernel_regularizer=l2(1e-4), \n",
        "                 input_shape=(None, None, 3)))\n",
        "model.add(BatchNormalization())\n",
        "model.add(Conv2D(32, (3, 3), activation='relu', kernel_regularizer=l2(1e-4)))\n",
        "model.add(BatchNormalization())\n",
        "model.add(MaxPooling2D((2, 2)))\n",
        "\n",
        "model.add(Conv2D(64, (3, 3), activation='relu', kernel_regularizer=l2(1e-4)))\n",
        "model.add(BatchNormalization())\n",
        "model.add(Conv2D(64, (3, 3), activation='relu', kernel_regularizer=l2(1e-4)))\n",
        "model.add(BatchNormalization())\n",
        "model.add(MaxPooling2D((2, 2)))\n",
        "\n",
        "model.add(Conv2D(128, (1,1), kernel_regularizer=l2(1e-4)))\n",
        "model.add(GlobalMaxPooling2D())\n",
        "\n",
        "model.add(Dense(256, activation='relu', kernel_regularizer=l2(1e-4)))\n",
        "model.add(BatchNormalization())\n",
        "model.add(Dense(2, activation='sigmoid', kernel_regularizer=l2(1e-4)))"
      ],
      "execution_count": 0,
      "outputs": []
    },
    {
      "metadata": {
        "colab_type": "code",
        "id": "P6ZvobfGHhJb",
        "colab": {}
      },
      "cell_type": "code",
      "source": [
        "model.compile(Adadelta(lr=1.0, rho=0.95, epsilon=None, decay=0.0), \n",
        "              loss='binary_crossentropy', metrics=['accuracy'])"
      ],
      "execution_count": 0,
      "outputs": []
    },
    {
      "metadata": {
        "colab_type": "code",
        "id": "ufy24IuYkBYc",
        "colab": {}
      },
      "cell_type": "code",
      "source": [
        "arquiteture = 'architecture_7'"
      ],
      "execution_count": 0,
      "outputs": []
    },
    {
      "metadata": {
        "colab_type": "code",
        "id": "TayAngUFkwJa",
        "colab": {}
      },
      "cell_type": "code",
      "source": [
        "checkpointer = ModelCheckpoint(filepath='drive/My Drive/Resultado/weights_' + arquiteture + '.hdf5', verbose=1, save_best_only=True)"
      ],
      "execution_count": 0,
      "outputs": []
    },
    {
      "metadata": {
        "colab_type": "code",
        "id": "mXDKyOFa4l2t",
        "outputId": "d08883d6-8925-4e9f-970c-8a4d64068e60",
        "colab": {
          "base_uri": "https://localhost:8080/",
          "height": 3710
        }
      },
      "cell_type": "code",
      "source": [
        "training = model.fit_generator(train_batches, steps_per_epoch=stepsPerEpoche, \n",
        "                   validation_data=validation_batches, validation_steps=validationSteps,\n",
        "                   epochs=50, verbose=2, callbacks=[checkpointer])"
      ],
      "execution_count": 163,
      "outputs": [
        {
          "output_type": "stream",
          "text": [
            "Epoch 1/50\n",
            " - 7s - loss: 0.5243 - acc: 0.7438 - val_loss: 1.2001 - val_acc: 0.6406\n",
            "\n",
            "Epoch 00001: val_loss improved from inf to 1.20007, saving model to drive/My Drive/Resultado/weights_architecture_7.hdf5\n",
            "Epoch 2/50\n",
            " - 0s - loss: 0.4916 - acc: 0.8375 - val_loss: 1.0478 - val_acc: 0.7188\n",
            "\n",
            "Epoch 00002: val_loss improved from 1.20007 to 1.04781, saving model to drive/My Drive/Resultado/weights_architecture_7.hdf5\n",
            "Epoch 3/50\n",
            " - 0s - loss: 0.2961 - acc: 0.9062 - val_loss: 1.2981 - val_acc: 0.5156\n",
            "\n",
            "Epoch 00003: val_loss did not improve from 1.04781\n",
            "Epoch 4/50\n",
            " - 0s - loss: 0.2670 - acc: 0.9219 - val_loss: 0.9689 - val_acc: 0.6875\n",
            "\n",
            "Epoch 00004: val_loss improved from 1.04781 to 0.96891, saving model to drive/My Drive/Resultado/weights_architecture_7.hdf5\n",
            "Epoch 5/50\n",
            " - 0s - loss: 0.3309 - acc: 0.8781 - val_loss: 0.3610 - val_acc: 0.9062\n",
            "\n",
            "Epoch 00005: val_loss improved from 0.96891 to 0.36100, saving model to drive/My Drive/Resultado/weights_architecture_7.hdf5\n",
            "Epoch 6/50\n",
            " - 0s - loss: 0.3419 - acc: 0.8937 - val_loss: 1.9126 - val_acc: 0.6094\n",
            "\n",
            "Epoch 00006: val_loss did not improve from 0.36100\n",
            "Epoch 7/50\n",
            " - 0s - loss: 0.4137 - acc: 0.8469 - val_loss: 0.9563 - val_acc: 0.7188\n",
            "\n",
            "Epoch 00007: val_loss did not improve from 0.36100\n",
            "Epoch 8/50\n",
            " - 0s - loss: 0.3555 - acc: 0.8719 - val_loss: 0.6923 - val_acc: 0.7812\n",
            "\n",
            "Epoch 00008: val_loss did not improve from 0.36100\n",
            "Epoch 9/50\n",
            " - 0s - loss: 0.3095 - acc: 0.8937 - val_loss: 2.0552 - val_acc: 0.5469\n",
            "\n",
            "Epoch 00009: val_loss did not improve from 0.36100\n",
            "Epoch 10/50\n",
            " - 0s - loss: 0.2298 - acc: 0.9281 - val_loss: 2.6962 - val_acc: 0.4688\n",
            "\n",
            "Epoch 00010: val_loss did not improve from 0.36100\n",
            "Epoch 11/50\n",
            " - 1s - loss: 0.2368 - acc: 0.9219 - val_loss: 4.3674 - val_acc: 0.5000\n",
            "\n",
            "Epoch 00011: val_loss did not improve from 0.36100\n",
            "Epoch 12/50\n",
            " - 1s - loss: 0.4267 - acc: 0.8844 - val_loss: 0.6193 - val_acc: 0.7656\n",
            "\n",
            "Epoch 00012: val_loss did not improve from 0.36100\n",
            "Epoch 13/50\n",
            " - 1s - loss: 0.3594 - acc: 0.8563 - val_loss: 0.4951 - val_acc: 0.7812\n",
            "\n",
            "Epoch 00013: val_loss did not improve from 0.36100\n",
            "Epoch 14/50\n",
            " - 1s - loss: 0.3483 - acc: 0.8844 - val_loss: 1.3866 - val_acc: 0.7188\n",
            "\n",
            "Epoch 00014: val_loss did not improve from 0.36100\n",
            "Epoch 15/50\n",
            " - 1s - loss: 0.2375 - acc: 0.9344 - val_loss: 0.2113 - val_acc: 0.9062\n",
            "\n",
            "Epoch 00015: val_loss improved from 0.36100 to 0.21130, saving model to drive/My Drive/Resultado/weights_architecture_7.hdf5\n",
            "Epoch 16/50\n",
            " - 1s - loss: 0.2994 - acc: 0.9062 - val_loss: 0.8591 - val_acc: 0.7344\n",
            "\n",
            "Epoch 00016: val_loss did not improve from 0.21130\n",
            "Epoch 17/50\n",
            " - 1s - loss: 0.2327 - acc: 0.9531 - val_loss: 0.7715 - val_acc: 0.7500\n",
            "\n",
            "Epoch 00017: val_loss did not improve from 0.21130\n",
            "Epoch 18/50\n",
            " - 1s - loss: 0.2423 - acc: 0.9156 - val_loss: 0.2621 - val_acc: 0.9194\n",
            "\n",
            "Epoch 00018: val_loss did not improve from 0.21130\n",
            "Epoch 19/50\n",
            " - 1s - loss: 0.2901 - acc: 0.9096 - val_loss: 0.6440 - val_acc: 0.7969\n",
            "\n",
            "Epoch 00019: val_loss did not improve from 0.21130\n",
            "Epoch 20/50\n",
            " - 1s - loss: 0.1864 - acc: 0.9437 - val_loss: 0.3290 - val_acc: 0.8594\n",
            "\n",
            "Epoch 00020: val_loss did not improve from 0.21130\n",
            "Epoch 21/50\n",
            " - 1s - loss: 0.2319 - acc: 0.9281 - val_loss: 0.2925 - val_acc: 0.9219\n",
            "\n",
            "Epoch 00021: val_loss did not improve from 0.21130\n",
            "Epoch 22/50\n",
            " - 1s - loss: 0.1703 - acc: 0.9688 - val_loss: 0.5885 - val_acc: 0.7812\n",
            "\n",
            "Epoch 00022: val_loss did not improve from 0.21130\n",
            "Epoch 23/50\n",
            " - 1s - loss: 0.2394 - acc: 0.9094 - val_loss: 1.1015 - val_acc: 0.5781\n",
            "\n",
            "Epoch 00023: val_loss did not improve from 0.21130\n",
            "Epoch 24/50\n",
            " - 1s - loss: 0.2344 - acc: 0.9313 - val_loss: 0.8349 - val_acc: 0.6719\n",
            "\n",
            "Epoch 00024: val_loss did not improve from 0.21130\n",
            "Epoch 25/50\n",
            " - 1s - loss: 0.1940 - acc: 0.9250 - val_loss: 0.3362 - val_acc: 0.8438\n",
            "\n",
            "Epoch 00025: val_loss did not improve from 0.21130\n",
            "Epoch 26/50\n",
            " - 1s - loss: 0.1369 - acc: 0.9500 - val_loss: 0.9299 - val_acc: 0.6719\n",
            "\n",
            "Epoch 00026: val_loss did not improve from 0.21130\n",
            "Epoch 27/50\n",
            " - 1s - loss: 0.1680 - acc: 0.9656 - val_loss: 0.4680 - val_acc: 0.9062\n",
            "\n",
            "Epoch 00027: val_loss did not improve from 0.21130\n",
            "Epoch 28/50\n",
            " - 1s - loss: 0.1290 - acc: 0.9594 - val_loss: 0.4707 - val_acc: 0.7812\n",
            "\n",
            "Epoch 00028: val_loss did not improve from 0.21130\n",
            "Epoch 29/50\n",
            " - 1s - loss: 0.2303 - acc: 0.9313 - val_loss: 0.2881 - val_acc: 0.9062\n",
            "\n",
            "Epoch 00029: val_loss did not improve from 0.21130\n",
            "Epoch 30/50\n",
            " - 1s - loss: 0.2530 - acc: 0.9250 - val_loss: 1.7559 - val_acc: 0.5625\n",
            "\n",
            "Epoch 00030: val_loss did not improve from 0.21130\n",
            "Epoch 31/50\n",
            " - 1s - loss: 0.2496 - acc: 0.9156 - val_loss: 2.0909 - val_acc: 0.5469\n",
            "\n",
            "Epoch 00031: val_loss did not improve from 0.21130\n",
            "Epoch 32/50\n",
            " - 1s - loss: 0.2800 - acc: 0.8875 - val_loss: 1.7225 - val_acc: 0.5312\n",
            "\n",
            "Epoch 00032: val_loss did not improve from 0.21130\n",
            "Epoch 33/50\n",
            " - 1s - loss: 0.3368 - acc: 0.9156 - val_loss: 0.7673 - val_acc: 0.8438\n",
            "\n",
            "Epoch 00033: val_loss did not improve from 0.21130\n",
            "Epoch 34/50\n",
            " - 1s - loss: 0.1706 - acc: 0.9531 - val_loss: 0.1854 - val_acc: 0.9688\n",
            "\n",
            "Epoch 00034: val_loss improved from 0.21130 to 0.18542, saving model to drive/My Drive/Resultado/weights_architecture_7.hdf5\n",
            "Epoch 35/50\n",
            " - 1s - loss: 0.1354 - acc: 0.9719 - val_loss: 0.4971 - val_acc: 0.8281\n",
            "\n",
            "Epoch 00035: val_loss did not improve from 0.18542\n",
            "Epoch 36/50\n",
            " - 1s - loss: 0.2785 - acc: 0.9062 - val_loss: 0.3507 - val_acc: 0.8125\n",
            "\n",
            "Epoch 00036: val_loss did not improve from 0.18542\n",
            "Epoch 37/50\n",
            " - 1s - loss: 0.2618 - acc: 0.9281 - val_loss: 0.2529 - val_acc: 0.9062\n",
            "\n",
            "Epoch 00037: val_loss did not improve from 0.18542\n",
            "Epoch 38/50\n",
            " - 1s - loss: 0.2281 - acc: 0.9313 - val_loss: 0.3536 - val_acc: 0.9062\n",
            "\n",
            "Epoch 00038: val_loss did not improve from 0.18542\n",
            "Epoch 39/50\n",
            " - 1s - loss: 0.2858 - acc: 0.9125 - val_loss: 0.1287 - val_acc: 0.9531\n",
            "\n",
            "Epoch 00039: val_loss improved from 0.18542 to 0.12869, saving model to drive/My Drive/Resultado/weights_architecture_7.hdf5\n",
            "Epoch 40/50\n",
            " - 1s - loss: 0.3119 - acc: 0.8875 - val_loss: 0.1555 - val_acc: 0.9531\n",
            "\n",
            "Epoch 00040: val_loss did not improve from 0.12869\n",
            "Epoch 41/50\n",
            " - 1s - loss: 0.1880 - acc: 0.9406 - val_loss: 0.6499 - val_acc: 0.7812\n",
            "\n",
            "Epoch 00041: val_loss did not improve from 0.12869\n",
            "Epoch 42/50\n",
            " - 1s - loss: 0.1930 - acc: 0.9500 - val_loss: 0.6033 - val_acc: 0.8750\n",
            "\n",
            "Epoch 00042: val_loss did not improve from 0.12869\n",
            "Epoch 43/50\n",
            " - 1s - loss: 0.2176 - acc: 0.9125 - val_loss: 0.9382 - val_acc: 0.7031\n",
            "\n",
            "Epoch 00043: val_loss did not improve from 0.12869\n",
            "Epoch 44/50\n",
            " - 1s - loss: 0.1919 - acc: 0.9594 - val_loss: 0.3827 - val_acc: 0.8125\n",
            "\n",
            "Epoch 00044: val_loss did not improve from 0.12869\n",
            "Epoch 45/50\n",
            " - 1s - loss: 0.2686 - acc: 0.9000 - val_loss: 0.8315 - val_acc: 0.7656\n",
            "\n",
            "Epoch 00045: val_loss did not improve from 0.12869\n",
            "Epoch 46/50\n",
            " - 1s - loss: 0.2779 - acc: 0.9082 - val_loss: 0.1923 - val_acc: 0.9062\n",
            "\n",
            "Epoch 00046: val_loss did not improve from 0.12869\n",
            "Epoch 47/50\n",
            " - 1s - loss: 0.2456 - acc: 0.9281 - val_loss: 0.6948 - val_acc: 0.8125\n",
            "\n",
            "Epoch 00047: val_loss did not improve from 0.12869\n",
            "Epoch 48/50\n",
            " - 1s - loss: 0.2154 - acc: 0.9313 - val_loss: 0.4435 - val_acc: 0.8594\n",
            "\n",
            "Epoch 00048: val_loss did not improve from 0.12869\n",
            "Epoch 49/50\n",
            " - 1s - loss: 0.2198 - acc: 0.9344 - val_loss: 0.4984 - val_acc: 0.7742\n",
            "\n",
            "Epoch 00049: val_loss did not improve from 0.12869\n",
            "Epoch 50/50\n",
            " - 1s - loss: 0.2709 - acc: 0.9156 - val_loss: 0.4284 - val_acc: 0.8438\n",
            "\n",
            "Epoch 00050: val_loss did not improve from 0.12869\n"
          ],
          "name": "stdout"
        }
      ]
    },
    {
      "metadata": {
        "colab_type": "code",
        "id": "g3H7fijRkBYt",
        "outputId": "f62d084d-2bec-47a8-ee39-e4db07572cd5",
        "colab": {
          "base_uri": "https://localhost:8080/",
          "height": 380
        }
      },
      "cell_type": "code",
      "source": [
        "# plotar loss e accuracy para os datasets 'train' e 'test'\n",
        "plt.style.use(\"ggplot\")\n",
        "plt.figure()\n",
        "plt.plot(training.history['acc'], label='Accuracy')\n",
        "plt.plot(training.history['loss'], label='Loss')\n",
        "plt.xlabel('Epochs')\n",
        "plt.ylabel('Accuracy')\n",
        "plt.title(\"Training Loss and Accuracy\")\n",
        "plt.ylabel(\"Loss/Accuracy\")\n",
        "plt.legend()\n",
        "plt.savefig('drive/My Drive/Resultado/' + arquiteture + '.png', bbox_inches='tight')"
      ],
      "execution_count": 164,
      "outputs": [
        {
          "output_type": "display_data",
          "data": {
            "image/png": "[encoded data removed]",
            "text/plain": [
              "<matplotlib.figure.Figure at 0x7f1ce4485b00>"
            ]
          },
          "metadata": {
            "tags": []
          }
        }
      ]
    },
    {
      "metadata": {
        "colab_type": "code",
        "id": "AXYT6WUakBY3",
        "outputId": "451ba3d8-7328-4439-94ad-722bee5e886c",
        "colab": {
          "base_uri": "https://localhost:8080/",
          "height": 74
        }
      },
      "cell_type": "code",
      "source": [
        "y_true, y_predict = ler_images_teste(arquiteture)"
      ],
      "execution_count": 165,
      "outputs": [
        {
          "output_type": "stream",
          "text": [
            "/usr/local/lib/python3.6/dist-packages/skimage/transform/_warps.py:84: UserWarning: The default mode, 'constant', will be changed to 'reflect' in skimage 0.15.\n",
            "  warn(\"The default mode, 'constant', will be changed to 'reflect' in \"\n"
          ],
          "name": "stderr"
        }
      ]
    },
    {
      "metadata": {
        "colab_type": "code",
        "id": "zKvHFps_kBZA",
        "outputId": "ac546744-db24-4b4e-8422-38ac3f5f0ec5",
        "colab": {
          "base_uri": "https://localhost:8080/",
          "height": 35
        }
      },
      "cell_type": "code",
      "source": [
        "results[arquiteture] = precision_score(y_true, y_predict, average='binary')\n",
        "print('Test Precision: {:.2f}%'\n",
        "      .format(100 * results[arquiteture]))"
      ],
      "execution_count": 166,
      "outputs": [
        {
          "output_type": "stream",
          "text": [
            "Test Precision: 75.84%\n"
          ],
          "name": "stdout"
        }
      ]
    },
    {
      "metadata": {
        "id": "xBqqHjZrnDFP",
        "colab_type": "text"
      },
      "cell_type": "markdown",
      "source": [
        "### 8 tentativa Precision: 62.88%"
      ]
    },
    {
      "metadata": {
        "colab_type": "text",
        "id": "3Qg1zWbo5W6V"
      },
      "cell_type": "markdown",
      "source": [
        "Modelo adaptado do **Lucas Albertins**\n",
        "\n",
        "*   Função **Adadelta** para compilação\n"
      ]
    },
    {
      "metadata": {
        "colab_type": "code",
        "id": "MvjKH9LWpGsi",
        "colab": {}
      },
      "cell_type": "code",
      "source": [
        "from keras.layers import Conv2D, MaxPooling2D, GlobalMaxPooling2D, BatchNormalization\n",
        "from keras.regularizers import l2\n",
        "from keras.optimizers import Adadelta\n",
        "\n",
        "model = Sequential()\n",
        "\n",
        "model.add(Conv2D(32, (3, 3), activation='relu', kernel_regularizer=l2(1e-4), \n",
        "                 input_shape=(None, None, 3)))\n",
        "model.add(BatchNormalization())\n",
        "model.add(Conv2D(32, (3, 3), activation='relu', kernel_regularizer=l2(1e-4)))\n",
        "model.add(BatchNormalization())\n",
        "model.add(MaxPooling2D((2, 2)))\n",
        "model.add(Dropout(0.25))\n",
        "\n",
        "model.add(Conv2D(64, (3, 3), activation='relu', kernel_regularizer=l2(1e-4)))\n",
        "model.add(BatchNormalization())\n",
        "model.add(Conv2D(64, (3, 3), activation='relu', kernel_regularizer=l2(1e-4)))\n",
        "model.add(BatchNormalization())\n",
        "model.add(MaxPooling2D((2, 2)))\n",
        "model.add(Dropout(0.25))\n",
        "\n",
        "model.add(Conv2D(128, (1,1), kernel_regularizer=l2(1e-4)))\n",
        "model.add(GlobalMaxPooling2D())\n",
        "\n",
        "model.add(Dense(256, activation='relu', kernel_regularizer=l2(1e-4)))\n",
        "model.add(Dropout(0.5))\n",
        "model.add(Dense(2, activation='sigmoid', kernel_regularizer=l2(1e-4)))"
      ],
      "execution_count": 0,
      "outputs": []
    },
    {
      "metadata": {
        "colab_type": "code",
        "id": "civjmdynpGsy",
        "colab": {}
      },
      "cell_type": "code",
      "source": [
        "model.compile(Adadelta(lr=1.0, rho=0.95, epsilon=None, decay=0.0), \n",
        "              loss='binary_crossentropy', metrics=['accuracy'])"
      ],
      "execution_count": 0,
      "outputs": []
    },
    {
      "metadata": {
        "colab_type": "code",
        "id": "lmwfJa_fkEKz",
        "colab": {}
      },
      "cell_type": "code",
      "source": [
        "arquiteture = 'architecture_8'"
      ],
      "execution_count": 0,
      "outputs": []
    },
    {
      "metadata": {
        "colab_type": "code",
        "id": "cl6Lxs-6ktsK",
        "colab": {}
      },
      "cell_type": "code",
      "source": [
        "checkpointer = ModelCheckpoint(filepath='drive/My Drive/Resultado/weights_' + arquiteture + '.hdf5', verbose=1, save_best_only=True)"
      ],
      "execution_count": 0,
      "outputs": []
    },
    {
      "metadata": {
        "colab_type": "code",
        "id": "w7LbZJly5iOF",
        "outputId": "e7066857-12f5-42cb-f20a-46c7bbfe86d3",
        "colab": {
          "base_uri": "https://localhost:8080/",
          "height": 3710
        }
      },
      "cell_type": "code",
      "source": [
        "training = model.fit_generator(train_batches, steps_per_epoch=stepsPerEpoche, \n",
        "                   validation_data=validation_batches, validation_steps=validationSteps,\n",
        "                   epochs=50, verbose=2, callbacks=[checkpointer])"
      ],
      "execution_count": 171,
      "outputs": [
        {
          "output_type": "stream",
          "text": [
            "Epoch 1/50\n",
            " - 7s - loss: 1.1638 - acc: 0.6250 - val_loss: 0.8995 - val_acc: 0.7031\n",
            "\n",
            "Epoch 00001: val_loss improved from inf to 0.89950, saving model to drive/My Drive/Resultado/weights_architecture_8.hdf5\n",
            "Epoch 2/50\n",
            " - 1s - loss: 0.6986 - acc: 0.8031 - val_loss: 0.6203 - val_acc: 0.6719\n",
            "\n",
            "Epoch 00002: val_loss improved from 0.89950 to 0.62032, saving model to drive/My Drive/Resultado/weights_architecture_8.hdf5\n",
            "Epoch 3/50\n",
            " - 0s - loss: 0.4504 - acc: 0.8500 - val_loss: 0.7674 - val_acc: 0.6719\n",
            "\n",
            "Epoch 00003: val_loss did not improve from 0.62032\n",
            "Epoch 4/50\n",
            " - 1s - loss: 0.6302 - acc: 0.7500 - val_loss: 0.7706 - val_acc: 0.6406\n",
            "\n",
            "Epoch 00004: val_loss did not improve from 0.62032\n",
            "Epoch 5/50\n",
            " - 0s - loss: 0.5646 - acc: 0.8281 - val_loss: 0.6161 - val_acc: 0.8125\n",
            "\n",
            "Epoch 00005: val_loss improved from 0.62032 to 0.61605, saving model to drive/My Drive/Resultado/weights_architecture_8.hdf5\n",
            "Epoch 6/50\n",
            " - 1s - loss: 0.4519 - acc: 0.8375 - val_loss: 1.0722 - val_acc: 0.4531\n",
            "\n",
            "Epoch 00006: val_loss did not improve from 0.61605\n",
            "Epoch 7/50\n",
            " - 0s - loss: 0.4639 - acc: 0.8688 - val_loss: 0.7449 - val_acc: 0.7188\n",
            "\n",
            "Epoch 00007: val_loss did not improve from 0.61605\n",
            "Epoch 8/50\n",
            " - 1s - loss: 0.4286 - acc: 0.8438 - val_loss: 0.3486 - val_acc: 0.8281\n",
            "\n",
            "Epoch 00008: val_loss improved from 0.61605 to 0.34865, saving model to drive/My Drive/Resultado/weights_architecture_8.hdf5\n",
            "Epoch 9/50\n",
            " - 1s - loss: 0.3965 - acc: 0.8500 - val_loss: 0.6489 - val_acc: 0.7031\n",
            "\n",
            "Epoch 00009: val_loss did not improve from 0.34865\n",
            "Epoch 10/50\n",
            " - 1s - loss: 0.3160 - acc: 0.8656 - val_loss: 1.0400 - val_acc: 0.4844\n",
            "\n",
            "Epoch 00010: val_loss did not improve from 0.34865\n",
            "Epoch 11/50\n",
            " - 1s - loss: 0.3215 - acc: 0.8875 - val_loss: 0.3147 - val_acc: 0.9219\n",
            "\n",
            "Epoch 00011: val_loss improved from 0.34865 to 0.31470, saving model to drive/My Drive/Resultado/weights_architecture_8.hdf5\n",
            "Epoch 12/50\n",
            " - 1s - loss: 0.3254 - acc: 0.8781 - val_loss: 0.3675 - val_acc: 0.8438\n",
            "\n",
            "Epoch 00012: val_loss did not improve from 0.31470\n",
            "Epoch 13/50\n",
            " - 1s - loss: 0.3016 - acc: 0.9062 - val_loss: 0.4762 - val_acc: 0.7969\n",
            "\n",
            "Epoch 00013: val_loss did not improve from 0.31470\n",
            "Epoch 14/50\n",
            " - 1s - loss: 0.3585 - acc: 0.8531 - val_loss: 0.5247 - val_acc: 0.7812\n",
            "\n",
            "Epoch 00014: val_loss did not improve from 0.31470\n",
            "Epoch 15/50\n",
            " - 1s - loss: 0.2701 - acc: 0.9094 - val_loss: 0.5639 - val_acc: 0.7656\n",
            "\n",
            "Epoch 00015: val_loss did not improve from 0.31470\n",
            "Epoch 16/50\n",
            " - 1s - loss: 0.3189 - acc: 0.9094 - val_loss: 0.3825 - val_acc: 0.8438\n",
            "\n",
            "Epoch 00016: val_loss did not improve from 0.31470\n",
            "Epoch 17/50\n",
            " - 1s - loss: 0.2893 - acc: 0.9062 - val_loss: 0.7529 - val_acc: 0.6250\n",
            "\n",
            "Epoch 00017: val_loss did not improve from 0.31470\n",
            "Epoch 18/50\n",
            " - 1s - loss: 0.2170 - acc: 0.9375 - val_loss: 0.3332 - val_acc: 0.8750\n",
            "\n",
            "Epoch 00018: val_loss did not improve from 0.31470\n",
            "Epoch 19/50\n",
            " - 1s - loss: 0.2872 - acc: 0.9031 - val_loss: 0.5505 - val_acc: 0.7258\n",
            "\n",
            "Epoch 00019: val_loss did not improve from 0.31470\n",
            "Epoch 20/50\n",
            " - 1s - loss: 0.3449 - acc: 0.8875 - val_loss: 1.0179 - val_acc: 0.6562\n",
            "\n",
            "Epoch 00020: val_loss did not improve from 0.31470\n",
            "Epoch 21/50\n",
            " - 1s - loss: 0.2517 - acc: 0.9281 - val_loss: 0.4592 - val_acc: 0.8125\n",
            "\n",
            "Epoch 00021: val_loss did not improve from 0.31470\n",
            "Epoch 22/50\n",
            " - 1s - loss: 0.4049 - acc: 0.8406 - val_loss: 0.2411 - val_acc: 0.9688\n",
            "\n",
            "Epoch 00022: val_loss improved from 0.31470 to 0.24107, saving model to drive/My Drive/Resultado/weights_architecture_8.hdf5\n",
            "Epoch 23/50\n",
            " - 1s - loss: 0.2504 - acc: 0.9364 - val_loss: 0.3082 - val_acc: 0.9062\n",
            "\n",
            "Epoch 00023: val_loss did not improve from 0.24107\n",
            "Epoch 24/50\n",
            " - 1s - loss: 0.1944 - acc: 0.9281 - val_loss: 0.3287 - val_acc: 0.9062\n",
            "\n",
            "Epoch 00024: val_loss did not improve from 0.24107\n",
            "Epoch 25/50\n",
            " - 1s - loss: 0.1881 - acc: 0.9344 - val_loss: 0.4799 - val_acc: 0.7812\n",
            "\n",
            "Epoch 00025: val_loss did not improve from 0.24107\n",
            "Epoch 26/50\n",
            " - 1s - loss: 0.2773 - acc: 0.9219 - val_loss: 0.3764 - val_acc: 0.8750\n",
            "\n",
            "Epoch 00026: val_loss did not improve from 0.24107\n",
            "Epoch 27/50\n",
            " - 1s - loss: 0.3362 - acc: 0.8688 - val_loss: 0.3719 - val_acc: 0.8750\n",
            "\n",
            "Epoch 00027: val_loss did not improve from 0.24107\n",
            "Epoch 28/50\n",
            " - 1s - loss: 0.2998 - acc: 0.9062 - val_loss: 0.4346 - val_acc: 0.8281\n",
            "\n",
            "Epoch 00028: val_loss did not improve from 0.24107\n",
            "Epoch 29/50\n",
            " - 1s - loss: 0.2290 - acc: 0.9250 - val_loss: 0.4452 - val_acc: 0.7812\n",
            "\n",
            "Epoch 00029: val_loss did not improve from 0.24107\n",
            "Epoch 30/50\n",
            " - 1s - loss: 0.2513 - acc: 0.9219 - val_loss: 0.7192 - val_acc: 0.6250\n",
            "\n",
            "Epoch 00030: val_loss did not improve from 0.24107\n",
            "Epoch 31/50\n",
            " - 1s - loss: 0.2397 - acc: 0.9375 - val_loss: 0.5831 - val_acc: 0.7031\n",
            "\n",
            "Epoch 00031: val_loss did not improve from 0.24107\n",
            "Epoch 32/50\n",
            " - 1s - loss: 0.2197 - acc: 0.9437 - val_loss: 0.3378 - val_acc: 0.9062\n",
            "\n",
            "Epoch 00032: val_loss did not improve from 0.24107\n",
            "Epoch 33/50\n",
            " - 1s - loss: 0.2897 - acc: 0.8969 - val_loss: 0.3556 - val_acc: 0.8438\n",
            "\n",
            "Epoch 00033: val_loss did not improve from 0.24107\n",
            "Epoch 34/50\n",
            " - 1s - loss: 0.2278 - acc: 0.9156 - val_loss: 0.4166 - val_acc: 0.7969\n",
            "\n",
            "Epoch 00034: val_loss did not improve from 0.24107\n",
            "Epoch 35/50\n",
            " - 1s - loss: 0.1684 - acc: 0.9437 - val_loss: 0.3265 - val_acc: 0.8906\n",
            "\n",
            "Epoch 00035: val_loss did not improve from 0.24107\n",
            "Epoch 36/50\n",
            " - 1s - loss: 0.2646 - acc: 0.9062 - val_loss: 0.8593 - val_acc: 0.5781\n",
            "\n",
            "Epoch 00036: val_loss did not improve from 0.24107\n",
            "Epoch 37/50\n",
            " - 1s - loss: 0.2381 - acc: 0.9344 - val_loss: 1.6182 - val_acc: 0.3594\n",
            "\n",
            "Epoch 00037: val_loss did not improve from 0.24107\n",
            "Epoch 38/50\n",
            " - 1s - loss: 0.2907 - acc: 0.8937 - val_loss: 0.8391 - val_acc: 0.6719\n",
            "\n",
            "Epoch 00038: val_loss did not improve from 0.24107\n",
            "Epoch 39/50\n",
            " - 1s - loss: 0.2708 - acc: 0.8875 - val_loss: 0.4134 - val_acc: 0.7969\n",
            "\n",
            "Epoch 00039: val_loss did not improve from 0.24107\n",
            "Epoch 40/50\n",
            " - 1s - loss: 0.2303 - acc: 0.9125 - val_loss: 0.3013 - val_acc: 0.8750\n",
            "\n",
            "Epoch 00040: val_loss did not improve from 0.24107\n",
            "Epoch 41/50\n",
            " - 1s - loss: 0.2803 - acc: 0.8969 - val_loss: 0.3203 - val_acc: 0.8750\n",
            "\n",
            "Epoch 00041: val_loss did not improve from 0.24107\n",
            "Epoch 42/50\n",
            " - 1s - loss: 0.2480 - acc: 0.9031 - val_loss: 0.3085 - val_acc: 0.9062\n",
            "\n",
            "Epoch 00042: val_loss did not improve from 0.24107\n",
            "Epoch 43/50\n",
            " - 1s - loss: 0.2847 - acc: 0.9094 - val_loss: 0.4325 - val_acc: 0.8906\n",
            "\n",
            "Epoch 00043: val_loss did not improve from 0.24107\n",
            "Epoch 44/50\n",
            " - 1s - loss: 0.2051 - acc: 0.9344 - val_loss: 0.2586 - val_acc: 0.9531\n",
            "\n",
            "Epoch 00044: val_loss did not improve from 0.24107\n",
            "Epoch 45/50\n",
            " - 1s - loss: 0.2954 - acc: 0.8781 - val_loss: 0.6094 - val_acc: 0.7188\n",
            "\n",
            "Epoch 00045: val_loss did not improve from 0.24107\n",
            "Epoch 46/50\n",
            " - 1s - loss: 0.2360 - acc: 0.9281 - val_loss: 1.0830 - val_acc: 0.5938\n",
            "\n",
            "Epoch 00046: val_loss did not improve from 0.24107\n",
            "Epoch 47/50\n",
            " - 1s - loss: 0.2243 - acc: 0.9156 - val_loss: 0.3781 - val_acc: 0.8125\n",
            "\n",
            "Epoch 00047: val_loss did not improve from 0.24107\n",
            "Epoch 48/50\n",
            " - 1s - loss: 0.3325 - acc: 0.9156 - val_loss: 0.7396 - val_acc: 0.6875\n",
            "\n",
            "Epoch 00048: val_loss did not improve from 0.24107\n",
            "Epoch 49/50\n",
            " - 1s - loss: 0.2275 - acc: 0.9531 - val_loss: 0.6131 - val_acc: 0.7656\n",
            "\n",
            "Epoch 00049: val_loss did not improve from 0.24107\n",
            "Epoch 50/50\n",
            " - 1s - loss: 0.2231 - acc: 0.9125 - val_loss: 0.2055 - val_acc: 0.9677\n",
            "\n",
            "Epoch 00050: val_loss improved from 0.24107 to 0.20549, saving model to drive/My Drive/Resultado/weights_architecture_8.hdf5\n"
          ],
          "name": "stdout"
        }
      ]
    },
    {
      "metadata": {
        "colab_type": "code",
        "id": "8zBVma0TkELH",
        "outputId": "8dac48c3-9512-4c20-8ace-fd542f66a07a",
        "colab": {
          "base_uri": "https://localhost:8080/",
          "height": 380
        }
      },
      "cell_type": "code",
      "source": [
        "# plotar loss e accuracy para os datasets 'train' e 'test'\n",
        "plt.style.use(\"ggplot\")\n",
        "plt.figure()\n",
        "plt.plot(training.history['acc'], label='Accuracy')\n",
        "plt.plot(training.history['loss'], label='Loss')\n",
        "plt.xlabel('Epochs')\n",
        "plt.ylabel('Accuracy')\n",
        "plt.title(\"Training Loss and Accuracy\")\n",
        "plt.ylabel(\"Loss/Accuracy\")\n",
        "plt.legend()\n",
        "plt.savefig('drive/My Drive/Resultado/' + arquiteture + '.png', bbox_inches='tight')"
      ],
      "execution_count": 172,
      "outputs": [
        {
          "output_type": "display_data",
          "data": {
            "image/png": "[encoded data removed]",
            "text/plain": [
              "<matplotlib.figure.Figure at 0x7f1ce3c80d68>"
            ]
          },
          "metadata": {
            "tags": []
          }
        }
      ]
    },
    {
      "metadata": {
        "colab_type": "code",
        "id": "5B4aLvCvkELT",
        "outputId": "9a042862-97ef-44dd-8e5c-786139253059",
        "colab": {
          "base_uri": "https://localhost:8080/",
          "height": 74
        }
      },
      "cell_type": "code",
      "source": [
        "y_true, y_predict = ler_images_teste(arquiteture)"
      ],
      "execution_count": 173,
      "outputs": [
        {
          "output_type": "stream",
          "text": [
            "/usr/local/lib/python3.6/dist-packages/skimage/transform/_warps.py:84: UserWarning: The default mode, 'constant', will be changed to 'reflect' in skimage 0.15.\n",
            "  warn(\"The default mode, 'constant', will be changed to 'reflect' in \"\n"
          ],
          "name": "stderr"
        }
      ]
    },
    {
      "metadata": {
        "colab_type": "code",
        "id": "8qEpN64tkELc",
        "outputId": "dc7a7672-a8f6-4dc8-ed70-8fe5894446f4",
        "colab": {
          "base_uri": "https://localhost:8080/",
          "height": 35
        }
      },
      "cell_type": "code",
      "source": [
        "results[arquiteture] = precision_score(y_true, y_predict, average='binary')\n",
        "print('Test Precision: {:.2f}%'\n",
        "      .format(100 * results[arquiteture]))"
      ],
      "execution_count": 174,
      "outputs": [
        {
          "output_type": "stream",
          "text": [
            "Test Precision: 62.88%\n"
          ],
          "name": "stdout"
        }
      ]
    },
    {
      "metadata": {
        "id": "csBCokNgxgbn",
        "colab_type": "text"
      },
      "cell_type": "markdown",
      "source": [
        "### 9 tentativa Precision: 43.07%"
      ]
    },
    {
      "metadata": {
        "colab_type": "text",
        "id": "qLtNH8xk63El"
      },
      "cell_type": "markdown",
      "source": [
        "Modelo adaptado do **Lucas Albertins**\n",
        "\n",
        "*   Função **SGD** para compilação\n"
      ]
    },
    {
      "metadata": {
        "colab_type": "code",
        "id": "EJjS6pK1xj1f",
        "colab": {}
      },
      "cell_type": "code",
      "source": [
        "from keras.layers import Conv2D, MaxPooling2D, GlobalMaxPooling2D, BatchNormalization\n",
        "from keras.regularizers import l2\n",
        "\n",
        "model = Sequential()\n",
        "\n",
        "model.add(Conv2D(32, (3, 3), activation='relu', kernel_regularizer=l2(1e-4), \n",
        "                 input_shape=(None, None, 3)))\n",
        "model.add(BatchNormalization())\n",
        "model.add(Conv2D(32, (3, 3), activation='relu', kernel_regularizer=l2(1e-4)))\n",
        "model.add(BatchNormalization())\n",
        "model.add(MaxPooling2D((2, 2)))\n",
        "model.add(Dropout(0.25))\n",
        "\n",
        "model.add(Conv2D(64, (3, 3), activation='relu', kernel_regularizer=l2(1e-4)))\n",
        "model.add(BatchNormalization())\n",
        "model.add(Conv2D(64, (3, 3), activation='relu', kernel_regularizer=l2(1e-4)))\n",
        "model.add(BatchNormalization())\n",
        "model.add(MaxPooling2D((2, 2)))\n",
        "model.add(Dropout(0.25))\n",
        "\n",
        "model.add(Conv2D(128, (1,1), kernel_regularizer=l2(1e-4)))\n",
        "model.add(GlobalMaxPooling2D())\n",
        "\n",
        "model.add(Dense(256, activation='relu', kernel_regularizer=l2(1e-4)))\n",
        "model.add(Dropout(0.5))\n",
        "model.add(Dense(2, activation='sigmoid', kernel_regularizer=l2(1e-4)))"
      ],
      "execution_count": 0,
      "outputs": []
    },
    {
      "metadata": {
        "colab_type": "code",
        "id": "9ezdguEZxsWT",
        "colab": {}
      },
      "cell_type": "code",
      "source": [
        "model.compile(SGD(lr=0.03, momentum=0.0, decay=0.0, nesterov=False), \n",
        "              loss='binary_crossentropy', metrics=['accuracy'])"
      ],
      "execution_count": 0,
      "outputs": []
    },
    {
      "metadata": {
        "colab_type": "code",
        "id": "474-g6XskHLD",
        "colab": {}
      },
      "cell_type": "code",
      "source": [
        "arquiteture = 'architecture_9'"
      ],
      "execution_count": 0,
      "outputs": []
    },
    {
      "metadata": {
        "colab_type": "code",
        "id": "L_3cTA3AkqpU",
        "colab": {}
      },
      "cell_type": "code",
      "source": [
        "checkpointer = ModelCheckpoint(filepath='drive/My Drive/Resultado/weights_' + arquiteture + '.hdf5', verbose=1, save_best_only=True)"
      ],
      "execution_count": 0,
      "outputs": []
    },
    {
      "metadata": {
        "colab_type": "code",
        "id": "6jYgi71R6XO2",
        "outputId": "9c65bba9-a414-4032-d716-dcb6d139c50a",
        "colab": {
          "base_uri": "https://localhost:8080/",
          "height": 3710
        }
      },
      "cell_type": "code",
      "source": [
        "training = model.fit_generator(train_batches, steps_per_epoch=stepsPerEpoche, \n",
        "                   validation_data=validation_batches, validation_steps=validationSteps,\n",
        "                   epochs=50, verbose=2, callbacks=[checkpointer])"
      ],
      "execution_count": 179,
      "outputs": [
        {
          "output_type": "stream",
          "text": [
            "Epoch 1/50\n",
            " - 7s - loss: 2.0479 - acc: 0.4937 - val_loss: 0.7120 - val_acc: 0.6250\n",
            "\n",
            "Epoch 00001: val_loss improved from inf to 0.71202, saving model to drive/My Drive/Resultado/weights_architecture_9.hdf5\n",
            "Epoch 2/50\n",
            " - 1s - loss: 0.6587 - acc: 0.7062 - val_loss: 0.8204 - val_acc: 0.7188\n",
            "\n",
            "Epoch 00002: val_loss did not improve from 0.71202\n",
            "Epoch 3/50\n",
            " - 0s - loss: 0.5437 - acc: 0.7969 - val_loss: 0.7251 - val_acc: 0.7812\n",
            "\n",
            "Epoch 00003: val_loss did not improve from 0.71202\n",
            "Epoch 4/50\n",
            " - 0s - loss: 0.5352 - acc: 0.8344 - val_loss: 0.5716 - val_acc: 0.7969\n",
            "\n",
            "Epoch 00004: val_loss improved from 0.71202 to 0.57158, saving model to drive/My Drive/Resultado/weights_architecture_9.hdf5\n",
            "Epoch 5/50\n",
            " - 0s - loss: 0.3452 - acc: 0.8937 - val_loss: 0.6403 - val_acc: 0.6719\n",
            "\n",
            "Epoch 00005: val_loss did not improve from 0.57158\n",
            "Epoch 6/50\n",
            " - 0s - loss: 0.3216 - acc: 0.8937 - val_loss: 0.9578 - val_acc: 0.4844\n",
            "\n",
            "Epoch 00006: val_loss did not improve from 0.57158\n",
            "Epoch 7/50\n",
            " - 0s - loss: 0.3978 - acc: 0.8500 - val_loss: 0.6618 - val_acc: 0.6562\n",
            "\n",
            "Epoch 00007: val_loss did not improve from 0.57158\n",
            "Epoch 8/50\n",
            " - 0s - loss: 0.5375 - acc: 0.8063 - val_loss: 1.6086 - val_acc: 0.6250\n",
            "\n",
            "Epoch 00008: val_loss did not improve from 0.57158\n",
            "Epoch 9/50\n",
            " - 0s - loss: 0.3881 - acc: 0.8531 - val_loss: 1.0570 - val_acc: 0.6094\n",
            "\n",
            "Epoch 00009: val_loss did not improve from 0.57158\n",
            "Epoch 10/50\n",
            " - 1s - loss: 0.3352 - acc: 0.8625 - val_loss: 0.6907 - val_acc: 0.6562\n",
            "\n",
            "Epoch 00010: val_loss did not improve from 0.57158\n",
            "Epoch 11/50\n",
            " - 1s - loss: 0.3813 - acc: 0.8594 - val_loss: 1.8859 - val_acc: 0.5312\n",
            "\n",
            "Epoch 00011: val_loss did not improve from 0.57158\n",
            "Epoch 12/50\n",
            " - 1s - loss: 0.3503 - acc: 0.8719 - val_loss: 0.5688 - val_acc: 0.7500\n",
            "\n",
            "Epoch 00012: val_loss improved from 0.57158 to 0.56878, saving model to drive/My Drive/Resultado/weights_architecture_9.hdf5\n",
            "Epoch 13/50\n",
            " - 1s - loss: 0.3765 - acc: 0.8563 - val_loss: 0.5238 - val_acc: 0.7344\n",
            "\n",
            "Epoch 00013: val_loss improved from 0.56878 to 0.52382, saving model to drive/My Drive/Resultado/weights_architecture_9.hdf5\n",
            "Epoch 14/50\n",
            " - 1s - loss: 0.3087 - acc: 0.8750 - val_loss: 1.2756 - val_acc: 0.5312\n",
            "\n",
            "Epoch 00014: val_loss did not improve from 0.52382\n",
            "Epoch 15/50\n",
            " - 1s - loss: 0.3716 - acc: 0.8688 - val_loss: 0.6630 - val_acc: 0.6094\n",
            "\n",
            "Epoch 00015: val_loss did not improve from 0.52382\n",
            "Epoch 16/50\n",
            " - 1s - loss: 0.2967 - acc: 0.8969 - val_loss: 0.5336 - val_acc: 0.7812\n",
            "\n",
            "Epoch 00016: val_loss did not improve from 0.52382\n",
            "Epoch 17/50\n",
            " - 1s - loss: 0.3951 - acc: 0.8750 - val_loss: 0.5213 - val_acc: 0.7656\n",
            "\n",
            "Epoch 00017: val_loss improved from 0.52382 to 0.52129, saving model to drive/My Drive/Resultado/weights_architecture_9.hdf5\n",
            "Epoch 18/50\n",
            " - 1s - loss: 0.2371 - acc: 0.9406 - val_loss: 0.6485 - val_acc: 0.7031\n",
            "\n",
            "Epoch 00018: val_loss did not improve from 0.52129\n",
            "Epoch 19/50\n",
            " - 1s - loss: 0.2856 - acc: 0.9062 - val_loss: 1.1770 - val_acc: 0.4844\n",
            "\n",
            "Epoch 00019: val_loss did not improve from 0.52129\n",
            "Epoch 20/50\n",
            " - 1s - loss: 0.3534 - acc: 0.8812 - val_loss: 0.3394 - val_acc: 0.9032\n",
            "\n",
            "Epoch 00020: val_loss improved from 0.52129 to 0.33938, saving model to drive/My Drive/Resultado/weights_architecture_9.hdf5\n",
            "Epoch 21/50\n",
            " - 1s - loss: 0.3183 - acc: 0.8906 - val_loss: 0.3816 - val_acc: 0.8906\n",
            "\n",
            "Epoch 00021: val_loss did not improve from 0.33938\n",
            "Epoch 22/50\n",
            " - 1s - loss: 0.3731 - acc: 0.8563 - val_loss: 0.3430 - val_acc: 0.9062\n",
            "\n",
            "Epoch 00022: val_loss did not improve from 0.33938\n",
            "Epoch 23/50\n",
            " - 1s - loss: 0.3060 - acc: 0.9000 - val_loss: 0.4325 - val_acc: 0.8125\n",
            "\n",
            "Epoch 00023: val_loss did not improve from 0.33938\n",
            "Epoch 24/50\n",
            " - 1s - loss: 0.2817 - acc: 0.9062 - val_loss: 0.5237 - val_acc: 0.7656\n",
            "\n",
            "Epoch 00024: val_loss did not improve from 0.33938\n",
            "Epoch 25/50\n",
            " - 1s - loss: 0.2630 - acc: 0.9250 - val_loss: 0.7539 - val_acc: 0.6562\n",
            "\n",
            "Epoch 00025: val_loss did not improve from 0.33938\n",
            "Epoch 26/50\n",
            " - 1s - loss: 0.2324 - acc: 0.9406 - val_loss: 1.3684 - val_acc: 0.4062\n",
            "\n",
            "Epoch 00026: val_loss did not improve from 0.33938\n",
            "Epoch 27/50\n",
            " - 1s - loss: 0.2371 - acc: 0.9219 - val_loss: 0.3131 - val_acc: 0.9531\n",
            "\n",
            "Epoch 00027: val_loss improved from 0.33938 to 0.31310, saving model to drive/My Drive/Resultado/weights_architecture_9.hdf5\n",
            "Epoch 28/50\n",
            " - 1s - loss: 0.3964 - acc: 0.8686 - val_loss: 0.6764 - val_acc: 0.7188\n",
            "\n",
            "Epoch 00028: val_loss did not improve from 0.31310\n",
            "Epoch 29/50\n",
            " - 1s - loss: 0.2585 - acc: 0.9281 - val_loss: 0.4857 - val_acc: 0.7500\n",
            "\n",
            "Epoch 00029: val_loss did not improve from 0.31310\n",
            "Epoch 30/50\n",
            " - 1s - loss: 0.2819 - acc: 0.9344 - val_loss: 0.6550 - val_acc: 0.7031\n",
            "\n",
            "Epoch 00030: val_loss did not improve from 0.31310\n",
            "Epoch 31/50\n",
            " - 1s - loss: 0.2951 - acc: 0.9094 - val_loss: 0.7705 - val_acc: 0.6250\n",
            "\n",
            "Epoch 00031: val_loss did not improve from 0.31310\n",
            "Epoch 32/50\n",
            " - 1s - loss: 0.2128 - acc: 0.9437 - val_loss: 0.3768 - val_acc: 0.8438\n",
            "\n",
            "Epoch 00032: val_loss did not improve from 0.31310\n",
            "Epoch 33/50\n",
            " - 1s - loss: 0.3270 - acc: 0.8750 - val_loss: 0.8516 - val_acc: 0.6094\n",
            "\n",
            "Epoch 00033: val_loss did not improve from 0.31310\n",
            "Epoch 34/50\n",
            " - 1s - loss: 0.2252 - acc: 0.9313 - val_loss: 1.4689 - val_acc: 0.5000\n",
            "\n",
            "Epoch 00034: val_loss did not improve from 0.31310\n",
            "Epoch 35/50\n",
            " - 1s - loss: 0.1877 - acc: 0.9406 - val_loss: 1.1633 - val_acc: 0.5625\n",
            "\n",
            "Epoch 00035: val_loss did not improve from 0.31310\n",
            "Epoch 36/50\n",
            " - 1s - loss: 0.1682 - acc: 0.9500 - val_loss: 1.6438 - val_acc: 0.3125\n",
            "\n",
            "Epoch 00036: val_loss did not improve from 0.31310\n",
            "Epoch 37/50\n",
            " - 1s - loss: 0.4297 - acc: 0.8594 - val_loss: 1.0705 - val_acc: 0.5156\n",
            "\n",
            "Epoch 00037: val_loss did not improve from 0.31310\n",
            "Epoch 38/50\n",
            " - 1s - loss: 0.2206 - acc: 0.9344 - val_loss: 1.2233 - val_acc: 0.5625\n",
            "\n",
            "Epoch 00038: val_loss did not improve from 0.31310\n",
            "Epoch 39/50\n",
            " - 1s - loss: 0.3426 - acc: 0.8812 - val_loss: 0.8007 - val_acc: 0.6250\n",
            "\n",
            "Epoch 00039: val_loss did not improve from 0.31310\n",
            "Epoch 40/50\n",
            " - 1s - loss: 0.2771 - acc: 0.8969 - val_loss: 0.6288 - val_acc: 0.7031\n",
            "\n",
            "Epoch 00040: val_loss did not improve from 0.31310\n",
            "Epoch 41/50\n",
            " - 1s - loss: 0.2336 - acc: 0.9406 - val_loss: 1.1051 - val_acc: 0.5469\n",
            "\n",
            "Epoch 00041: val_loss did not improve from 0.31310\n",
            "Epoch 42/50\n",
            " - 1s - loss: 0.2827 - acc: 0.9094 - val_loss: 1.2628 - val_acc: 0.4688\n",
            "\n",
            "Epoch 00042: val_loss did not improve from 0.31310\n",
            "Epoch 43/50\n",
            " - 1s - loss: 0.3212 - acc: 0.8906 - val_loss: 1.2868 - val_acc: 0.4375\n",
            "\n",
            "Epoch 00043: val_loss did not improve from 0.31310\n",
            "Epoch 44/50\n",
            " - 1s - loss: 0.3228 - acc: 0.8906 - val_loss: 0.5692 - val_acc: 0.7188\n",
            "\n",
            "Epoch 00044: val_loss did not improve from 0.31310\n",
            "Epoch 45/50\n",
            " - 1s - loss: 0.3129 - acc: 0.8875 - val_loss: 0.6074 - val_acc: 0.6875\n",
            "\n",
            "Epoch 00045: val_loss did not improve from 0.31310\n",
            "Epoch 46/50\n",
            " - 1s - loss: 0.4285 - acc: 0.8406 - val_loss: 0.7833 - val_acc: 0.6875\n",
            "\n",
            "Epoch 00046: val_loss did not improve from 0.31310\n",
            "Epoch 47/50\n",
            " - 1s - loss: 0.2909 - acc: 0.8844 - val_loss: 0.3494 - val_acc: 0.8906\n",
            "\n",
            "Epoch 00047: val_loss did not improve from 0.31310\n",
            "Epoch 48/50\n",
            " - 1s - loss: 0.2518 - acc: 0.9125 - val_loss: 0.6274 - val_acc: 0.6406\n",
            "\n",
            "Epoch 00048: val_loss did not improve from 0.31310\n",
            "Epoch 49/50\n",
            " - 1s - loss: 0.3005 - acc: 0.8937 - val_loss: 0.3316 - val_acc: 0.9375\n",
            "\n",
            "Epoch 00049: val_loss did not improve from 0.31310\n",
            "Epoch 50/50\n",
            " - 1s - loss: 0.2528 - acc: 0.9156 - val_loss: 0.3632 - val_acc: 0.8594\n",
            "\n",
            "Epoch 00050: val_loss did not improve from 0.31310\n"
          ],
          "name": "stdout"
        }
      ]
    },
    {
      "metadata": {
        "colab_type": "code",
        "id": "M6Yz3lQwkHLX",
        "outputId": "8775e11f-2ce2-403c-d027-c261d198619c",
        "colab": {
          "base_uri": "https://localhost:8080/",
          "height": 380
        }
      },
      "cell_type": "code",
      "source": [
        "# plotar loss e accuracy para os datasets 'train' e 'test'\n",
        "plt.style.use(\"ggplot\")\n",
        "plt.figure()\n",
        "plt.plot(training.history['acc'], label='Accuracy')\n",
        "plt.plot(training.history['loss'], label='Loss')\n",
        "plt.xlabel('Epochs')\n",
        "plt.ylabel('Accuracy')\n",
        "plt.title(\"Training Loss and Accuracy\")\n",
        "plt.ylabel(\"Loss/Accuracy\")\n",
        "plt.legend()\n",
        "plt.savefig('drive/My Drive/Resultado/' + arquiteture + '.png', bbox_inches='tight')"
      ],
      "execution_count": 180,
      "outputs": [
        {
          "output_type": "display_data",
          "data": {
            "image/png": "[encoded data removed]",
            "text/plain": [
              "<matplotlib.figure.Figure at 0x7f1cde8a8470>"
            ]
          },
          "metadata": {
            "tags": []
          }
        }
      ]
    },
    {
      "metadata": {
        "colab_type": "code",
        "id": "5LAzY6JfkHLh",
        "outputId": "715a4cc0-0fd8-478a-e30a-5ec782ada21d",
        "colab": {
          "base_uri": "https://localhost:8080/",
          "height": 74
        }
      },
      "cell_type": "code",
      "source": [
        "y_true, y_predict = ler_images_teste(arquiteture)"
      ],
      "execution_count": 181,
      "outputs": [
        {
          "output_type": "stream",
          "text": [
            "/usr/local/lib/python3.6/dist-packages/skimage/transform/_warps.py:84: UserWarning: The default mode, 'constant', will be changed to 'reflect' in skimage 0.15.\n",
            "  warn(\"The default mode, 'constant', will be changed to 'reflect' in \"\n"
          ],
          "name": "stderr"
        }
      ]
    },
    {
      "metadata": {
        "colab_type": "code",
        "id": "8X-QY2SokHLo",
        "outputId": "749ab7ae-d68c-4be7-cc11-cabe94791a13",
        "colab": {
          "base_uri": "https://localhost:8080/",
          "height": 35
        }
      },
      "cell_type": "code",
      "source": [
        "results[arquiteture] = precision_score(y_true, y_predict, average='binary')\n",
        "print('Test Precision: {:.2f}%'\n",
        "      .format(100 * results[arquiteture]))"
      ],
      "execution_count": 182,
      "outputs": [
        {
          "output_type": "stream",
          "text": [
            "Test Precision: 43.07%\n"
          ],
          "name": "stdout"
        }
      ]
    },
    {
      "metadata": {
        "id": "I_6RPRqZ0ooK",
        "colab_type": "text"
      },
      "cell_type": "markdown",
      "source": [
        "### 10 tentativa Precision: 73.43%"
      ]
    },
    {
      "metadata": {
        "colab_type": "text",
        "id": "drBpwd1s7PE3"
      },
      "cell_type": "markdown",
      "source": [
        "Modelo adaptado do **Lucas Albertins**\n",
        "\n",
        "*   Função **adam** para compilação\n",
        "*   Adicionado mais 2 camadas convolutivas"
      ]
    },
    {
      "metadata": {
        "colab_type": "code",
        "id": "6LGTLObK0u-Y",
        "colab": {}
      },
      "cell_type": "code",
      "source": [
        "from keras.layers import Conv2D, MaxPooling2D, GlobalMaxPooling2D, BatchNormalization\n",
        "from keras.regularizers import l2\n",
        "\n",
        "model = Sequential()\n",
        "\n",
        "model.add(Conv2D(32, (3, 3), activation='relu', kernel_regularizer=l2(1e-4), \n",
        "                 input_shape=(None, None, 3)))\n",
        "model.add(BatchNormalization())\n",
        "model.add(Conv2D(32, (3, 3), activation='relu', kernel_regularizer=l2(1e-4)))\n",
        "model.add(BatchNormalization())\n",
        "model.add(MaxPooling2D((2, 2)))\n",
        "model.add(Dropout(0.25))\n",
        "\n",
        "model.add(Conv2D(64, (3, 3), activation='relu', kernel_regularizer=l2(1e-4)))\n",
        "model.add(BatchNormalization())\n",
        "model.add(Conv2D(64, (3, 3), activation='relu', kernel_regularizer=l2(1e-4)))\n",
        "model.add(BatchNormalization())\n",
        "model.add(MaxPooling2D((2, 2)))\n",
        "model.add(Dropout(0.25))\n",
        "\n",
        "model.add(Conv2D(96, (3, 3),activation='relu', kernel_regularizer=l2(1e-4)))\n",
        "model.add(BatchNormalization())\n",
        "model.add(Conv2D(96, (3, 3),activation='relu', kernel_regularizer=l2(1e-4)))\n",
        "model.add(BatchNormalization())\n",
        "model.add(MaxPooling2D((2, 2)))\n",
        "model.add(Dropout(0.25))\n",
        "\n",
        "model.add(Conv2D(128, (1,1), kernel_regularizer=l2(1e-4)))\n",
        "model.add(GlobalMaxPooling2D())\n",
        "\n",
        "model.add(Dense(256, activation='relu', kernel_regularizer=l2(1e-4)))\n",
        "model.add(Dropout(0.5))\n",
        "model.add(Dense(2, activation='sigmoid', kernel_regularizer=l2(1e-4)))"
      ],
      "execution_count": 0,
      "outputs": []
    },
    {
      "metadata": {
        "colab_type": "code",
        "id": "vB92aUkR0u-p",
        "colab": {}
      },
      "cell_type": "code",
      "source": [
        "model.compile(optimizer='adam', loss='binary_crossentropy', metrics=['accuracy'])"
      ],
      "execution_count": 0,
      "outputs": []
    },
    {
      "metadata": {
        "colab_type": "code",
        "id": "7CD_MICYkLAi",
        "colab": {}
      },
      "cell_type": "code",
      "source": [
        "arquiteture = 'architecture_10'"
      ],
      "execution_count": 0,
      "outputs": []
    },
    {
      "metadata": {
        "colab_type": "code",
        "id": "aGtfVb9qknXd",
        "colab": {}
      },
      "cell_type": "code",
      "source": [
        "checkpointer = ModelCheckpoint(filepath='drive/My Drive/Resultado/weights_' + arquiteture + '.hdf5', verbose=1, save_best_only=True)"
      ],
      "execution_count": 0,
      "outputs": []
    },
    {
      "metadata": {
        "colab_type": "code",
        "id": "mUqvoI5Y7bLp",
        "outputId": "9203e522-8f55-4499-ecb5-bbd72e2bf135",
        "colab": {
          "base_uri": "https://localhost:8080/",
          "height": 3710
        }
      },
      "cell_type": "code",
      "source": [
        "training = model.fit_generator(train_batches, steps_per_epoch=stepsPerEpoche, \n",
        "                   validation_data=validation_batches, validation_steps=validationSteps,\n",
        "                   epochs=50, verbose=2, callbacks=[checkpointer])"
      ],
      "execution_count": 187,
      "outputs": [
        {
          "output_type": "stream",
          "text": [
            "Epoch 1/50\n",
            " - 8s - loss: 1.1902 - acc: 0.6031 - val_loss: 0.9242 - val_acc: 0.6875\n",
            "\n",
            "Epoch 00001: val_loss improved from inf to 0.92422, saving model to drive/My Drive/Resultado/weights_architecture_10.hdf5\n",
            "Epoch 2/50\n",
            " - 1s - loss: 0.6728 - acc: 0.8125 - val_loss: 0.6754 - val_acc: 0.7188\n",
            "\n",
            "Epoch 00002: val_loss improved from 0.92422 to 0.67543, saving model to drive/My Drive/Resultado/weights_architecture_10.hdf5\n",
            "Epoch 3/50\n",
            " - 1s - loss: 0.6976 - acc: 0.7625 - val_loss: 0.5994 - val_acc: 0.7188\n",
            "\n",
            "Epoch 00003: val_loss improved from 0.67543 to 0.59938, saving model to drive/My Drive/Resultado/weights_architecture_10.hdf5\n",
            "Epoch 4/50\n",
            " - 1s - loss: 0.2907 - acc: 0.8906 - val_loss: 0.6290 - val_acc: 0.7500\n",
            "\n",
            "Epoch 00004: val_loss did not improve from 0.59938\n",
            "Epoch 5/50\n",
            " - 1s - loss: 0.5164 - acc: 0.8282 - val_loss: 0.4016 - val_acc: 0.8125\n",
            "\n",
            "Epoch 00005: val_loss improved from 0.59938 to 0.40162, saving model to drive/My Drive/Resultado/weights_architecture_10.hdf5\n",
            "Epoch 6/50\n",
            " - 1s - loss: 0.4707 - acc: 0.8219 - val_loss: 0.7202 - val_acc: 0.7188\n",
            "\n",
            "Epoch 00006: val_loss did not improve from 0.40162\n",
            "Epoch 7/50\n",
            " - 1s - loss: 0.3523 - acc: 0.8906 - val_loss: 0.9749 - val_acc: 0.6719\n",
            "\n",
            "Epoch 00007: val_loss did not improve from 0.40162\n",
            "Epoch 8/50\n",
            " - 1s - loss: 0.4093 - acc: 0.8750 - val_loss: 1.5226 - val_acc: 0.6406\n",
            "\n",
            "Epoch 00008: val_loss did not improve from 0.40162\n",
            "Epoch 9/50\n",
            " - 1s - loss: 0.2882 - acc: 0.9094 - val_loss: 0.6556 - val_acc: 0.6875\n",
            "\n",
            "Epoch 00009: val_loss did not improve from 0.40162\n",
            "Epoch 10/50\n",
            " - 1s - loss: 0.3384 - acc: 0.8937 - val_loss: 0.3924 - val_acc: 0.8281\n",
            "\n",
            "Epoch 00010: val_loss improved from 0.40162 to 0.39236, saving model to drive/My Drive/Resultado/weights_architecture_10.hdf5\n",
            "Epoch 11/50\n",
            " - 1s - loss: 0.2575 - acc: 0.9344 - val_loss: 0.4094 - val_acc: 0.8281\n",
            "\n",
            "Epoch 00011: val_loss did not improve from 0.39236\n",
            "Epoch 12/50\n",
            " - 1s - loss: 0.2583 - acc: 0.9219 - val_loss: 0.4432 - val_acc: 0.8281\n",
            "\n",
            "Epoch 00012: val_loss did not improve from 0.39236\n",
            "Epoch 13/50\n",
            " - 1s - loss: 0.2418 - acc: 0.9469 - val_loss: 0.5537 - val_acc: 0.8281\n",
            "\n",
            "Epoch 00013: val_loss did not improve from 0.39236\n",
            "Epoch 14/50\n",
            " - 1s - loss: 0.1743 - acc: 0.9688 - val_loss: 0.2636 - val_acc: 0.9375\n",
            "\n",
            "Epoch 00014: val_loss improved from 0.39236 to 0.26363, saving model to drive/My Drive/Resultado/weights_architecture_10.hdf5\n",
            "Epoch 15/50\n",
            " - 1s - loss: 0.2440 - acc: 0.9188 - val_loss: 0.6478 - val_acc: 0.6875\n",
            "\n",
            "Epoch 00015: val_loss did not improve from 0.26363\n",
            "Epoch 16/50\n",
            " - 1s - loss: 0.3037 - acc: 0.9094 - val_loss: 0.5649 - val_acc: 0.7812\n",
            "\n",
            "Epoch 00016: val_loss did not improve from 0.26363\n",
            "Epoch 17/50\n",
            " - 1s - loss: 0.2212 - acc: 0.9437 - val_loss: 0.6416 - val_acc: 0.7656\n",
            "\n",
            "Epoch 00017: val_loss did not improve from 0.26363\n",
            "Epoch 18/50\n",
            " - 1s - loss: 0.2580 - acc: 0.9156 - val_loss: 1.2473 - val_acc: 0.6094\n",
            "\n",
            "Epoch 00018: val_loss did not improve from 0.26363\n",
            "Epoch 19/50\n",
            " - 1s - loss: 0.2964 - acc: 0.9437 - val_loss: 0.5168 - val_acc: 0.8125\n",
            "\n",
            "Epoch 00019: val_loss did not improve from 0.26363\n",
            "Epoch 20/50\n",
            " - 1s - loss: 0.2672 - acc: 0.9031 - val_loss: 0.2444 - val_acc: 0.9375\n",
            "\n",
            "Epoch 00020: val_loss improved from 0.26363 to 0.24439, saving model to drive/My Drive/Resultado/weights_architecture_10.hdf5\n",
            "Epoch 21/50\n",
            " - 1s - loss: 0.2294 - acc: 0.9406 - val_loss: 0.1805 - val_acc: 0.9355\n",
            "\n",
            "Epoch 00021: val_loss improved from 0.24439 to 0.18048, saving model to drive/My Drive/Resultado/weights_architecture_10.hdf5\n",
            "Epoch 22/50\n",
            " - 1s - loss: 0.3355 - acc: 0.9031 - val_loss: 0.3204 - val_acc: 0.9375\n",
            "\n",
            "Epoch 00022: val_loss did not improve from 0.18048\n",
            "Epoch 23/50\n",
            " - 1s - loss: 0.2738 - acc: 0.9313 - val_loss: 0.1916 - val_acc: 0.9219\n",
            "\n",
            "Epoch 00023: val_loss did not improve from 0.18048\n",
            "Epoch 24/50\n",
            " - 1s - loss: 0.2093 - acc: 0.9500 - val_loss: 0.6150 - val_acc: 0.7969\n",
            "\n",
            "Epoch 00024: val_loss did not improve from 0.18048\n",
            "Epoch 25/50\n",
            " - 1s - loss: 0.3256 - acc: 0.8812 - val_loss: 0.3089 - val_acc: 0.8750\n",
            "\n",
            "Epoch 00025: val_loss did not improve from 0.18048\n",
            "Epoch 26/50\n",
            " - 1s - loss: 0.2446 - acc: 0.9406 - val_loss: 0.8699 - val_acc: 0.7188\n",
            "\n",
            "Epoch 00026: val_loss did not improve from 0.18048\n",
            "Epoch 27/50\n",
            " - 1s - loss: 0.2539 - acc: 0.9156 - val_loss: 2.2847 - val_acc: 0.4062\n",
            "\n",
            "Epoch 00027: val_loss did not improve from 0.18048\n",
            "Epoch 28/50\n",
            " - 1s - loss: 0.3301 - acc: 0.8656 - val_loss: 0.5311 - val_acc: 0.8438\n",
            "\n",
            "Epoch 00028: val_loss did not improve from 0.18048\n",
            "Epoch 29/50\n",
            " - 1s - loss: 0.2279 - acc: 0.9375 - val_loss: 0.3400 - val_acc: 0.8750\n",
            "\n",
            "Epoch 00029: val_loss did not improve from 0.18048\n",
            "Epoch 30/50\n",
            " - 1s - loss: 0.2465 - acc: 0.9094 - val_loss: 0.4153 - val_acc: 0.7969\n",
            "\n",
            "Epoch 00030: val_loss did not improve from 0.18048\n",
            "Epoch 31/50\n",
            " - 1s - loss: 0.2747 - acc: 0.9031 - val_loss: 0.6106 - val_acc: 0.7500\n",
            "\n",
            "Epoch 00031: val_loss did not improve from 0.18048\n",
            "Epoch 32/50\n",
            " - 1s - loss: 0.2176 - acc: 0.9396 - val_loss: 1.4192 - val_acc: 0.6875\n",
            "\n",
            "Epoch 00032: val_loss did not improve from 0.18048\n",
            "Epoch 33/50\n",
            " - 1s - loss: 0.3058 - acc: 0.9062 - val_loss: 0.3192 - val_acc: 0.8594\n",
            "\n",
            "Epoch 00033: val_loss did not improve from 0.18048\n",
            "Epoch 34/50\n",
            " - 1s - loss: 0.2998 - acc: 0.8969 - val_loss: 0.2740 - val_acc: 0.9375\n",
            "\n",
            "Epoch 00034: val_loss did not improve from 0.18048\n",
            "Epoch 35/50\n",
            " - 1s - loss: 0.2908 - acc: 0.8937 - val_loss: 1.4917 - val_acc: 0.6406\n",
            "\n",
            "Epoch 00035: val_loss did not improve from 0.18048\n",
            "Epoch 36/50\n",
            " - 1s - loss: 0.3114 - acc: 0.9188 - val_loss: 0.3339 - val_acc: 0.8438\n",
            "\n",
            "Epoch 00036: val_loss did not improve from 0.18048\n",
            "Epoch 37/50\n",
            " - 1s - loss: 0.1954 - acc: 0.9531 - val_loss: 0.4854 - val_acc: 0.8125\n",
            "\n",
            "Epoch 00037: val_loss did not improve from 0.18048\n",
            "Epoch 38/50\n",
            " - 1s - loss: 0.3207 - acc: 0.9000 - val_loss: 0.3905 - val_acc: 0.8438\n",
            "\n",
            "Epoch 00038: val_loss did not improve from 0.18048\n",
            "Epoch 39/50\n",
            " - 1s - loss: 0.2525 - acc: 0.9344 - val_loss: 0.6215 - val_acc: 0.8438\n",
            "\n",
            "Epoch 00039: val_loss did not improve from 0.18048\n",
            "Epoch 40/50\n",
            " - 1s - loss: 0.3300 - acc: 0.8781 - val_loss: 0.8967 - val_acc: 0.6250\n",
            "\n",
            "Epoch 00040: val_loss did not improve from 0.18048\n",
            "Epoch 41/50\n",
            " - 1s - loss: 0.2108 - acc: 0.9469 - val_loss: 1.5243 - val_acc: 0.5938\n",
            "\n",
            "Epoch 00041: val_loss did not improve from 0.18048\n",
            "Epoch 42/50\n",
            " - 1s - loss: 0.1839 - acc: 0.9562 - val_loss: 0.3398 - val_acc: 0.8750\n",
            "\n",
            "Epoch 00042: val_loss did not improve from 0.18048\n",
            "Epoch 43/50\n",
            " - 1s - loss: 0.2134 - acc: 0.9437 - val_loss: 0.6511 - val_acc: 0.7812\n",
            "\n",
            "Epoch 00043: val_loss did not improve from 0.18048\n",
            "Epoch 44/50\n",
            " - 1s - loss: 0.2132 - acc: 0.9531 - val_loss: 0.6822 - val_acc: 0.7812\n",
            "\n",
            "Epoch 00044: val_loss did not improve from 0.18048\n",
            "Epoch 45/50\n",
            " - 1s - loss: 0.2311 - acc: 0.9375 - val_loss: 0.5818 - val_acc: 0.7969\n",
            "\n",
            "Epoch 00045: val_loss did not improve from 0.18048\n",
            "Epoch 46/50\n",
            " - 1s - loss: 0.2026 - acc: 0.9469 - val_loss: 0.5716 - val_acc: 0.8281\n",
            "\n",
            "Epoch 00046: val_loss did not improve from 0.18048\n",
            "Epoch 47/50\n",
            " - 1s - loss: 0.2727 - acc: 0.9000 - val_loss: 0.3824 - val_acc: 0.8750\n",
            "\n",
            "Epoch 00047: val_loss did not improve from 0.18048\n",
            "Epoch 48/50\n",
            " - 1s - loss: 0.2368 - acc: 0.9031 - val_loss: 0.4843 - val_acc: 0.7656\n",
            "\n",
            "Epoch 00048: val_loss did not improve from 0.18048\n",
            "Epoch 49/50\n",
            " - 1s - loss: 0.2395 - acc: 0.9344 - val_loss: 0.1411 - val_acc: 1.0000\n",
            "\n",
            "Epoch 00049: val_loss improved from 0.18048 to 0.14113, saving model to drive/My Drive/Resultado/weights_architecture_10.hdf5\n",
            "Epoch 50/50\n",
            " - 1s - loss: 0.2570 - acc: 0.9344 - val_loss: 0.4615 - val_acc: 0.8438\n",
            "\n",
            "Epoch 00050: val_loss did not improve from 0.14113\n"
          ],
          "name": "stdout"
        }
      ]
    },
    {
      "metadata": {
        "colab_type": "code",
        "id": "4mLcVI5OkLAx",
        "outputId": "abe50d2e-38b6-450d-e848-fd8a3d0f4909",
        "colab": {
          "base_uri": "https://localhost:8080/",
          "height": 380
        }
      },
      "cell_type": "code",
      "source": [
        "# plotar loss e accuracy para os datasets 'train' e 'test'\n",
        "plt.style.use(\"ggplot\")\n",
        "plt.figure()\n",
        "plt.plot(training.history['acc'], label='Accuracy')\n",
        "plt.plot(training.history['loss'], label='Loss')\n",
        "plt.xlabel('Epochs')\n",
        "plt.ylabel('Accuracy')\n",
        "plt.title(\"Training Loss and Accuracy\")\n",
        "plt.ylabel(\"Loss/Accuracy\")\n",
        "plt.legend()\n",
        "plt.savefig('drive/My Drive/Resultado/' + arquiteture + '.png', bbox_inches='tight')"
      ],
      "execution_count": 188,
      "outputs": [
        {
          "output_type": "display_data",
          "data": {
            "image/png": "[encoded data removed]",
            "text/plain": [
              "<matplotlib.figure.Figure at 0x7f1ce3c80e80>"
            ]
          },
          "metadata": {
            "tags": []
          }
        }
      ]
    },
    {
      "metadata": {
        "colab_type": "code",
        "id": "MXfjnNaekLA8",
        "outputId": "24ca23a6-226d-4401-c030-d46173b468f9",
        "colab": {
          "base_uri": "https://localhost:8080/",
          "height": 74
        }
      },
      "cell_type": "code",
      "source": [
        "y_true, y_predict = ler_images_teste(arquiteture)"
      ],
      "execution_count": 189,
      "outputs": [
        {
          "output_type": "stream",
          "text": [
            "/usr/local/lib/python3.6/dist-packages/skimage/transform/_warps.py:84: UserWarning: The default mode, 'constant', will be changed to 'reflect' in skimage 0.15.\n",
            "  warn(\"The default mode, 'constant', will be changed to 'reflect' in \"\n"
          ],
          "name": "stderr"
        }
      ]
    },
    {
      "metadata": {
        "colab_type": "code",
        "id": "mxweJBcKkLBA",
        "outputId": "1e207aae-a7d8-46ea-a493-4d43174fc293",
        "colab": {
          "base_uri": "https://localhost:8080/",
          "height": 35
        }
      },
      "cell_type": "code",
      "source": [
        "results[arquiteture] = precision_score(y_true, y_predict, average='binary')\n",
        "print('Test Precision: {:.2f}%'\n",
        "      .format(100 * results[arquiteture]))"
      ],
      "execution_count": 190,
      "outputs": [
        {
          "output_type": "stream",
          "text": [
            "Test Precision: 73.43%\n"
          ],
          "name": "stdout"
        }
      ]
    },
    {
      "metadata": {
        "id": "t-JuICq46CWp",
        "colab_type": "text"
      },
      "cell_type": "markdown",
      "source": [
        "### 11 tentativa Precision: 77.76%"
      ]
    },
    {
      "metadata": {
        "colab_type": "text",
        "id": "MdaiMXVY8RWc"
      },
      "cell_type": "markdown",
      "source": [
        "Modelo adaptado do **Lucas Albertins**\n",
        "\n",
        "*   Função **SGD** para compilação\n",
        "*   Adicionado mais 2 camadas convolutivas"
      ]
    },
    {
      "metadata": {
        "colab_type": "code",
        "id": "vLy1nlhs6HHL",
        "colab": {}
      },
      "cell_type": "code",
      "source": [
        "from keras.layers import Conv2D, MaxPooling2D, GlobalMaxPooling2D, BatchNormalization\n",
        "from keras.regularizers import l2\n",
        "\n",
        "model = Sequential()\n",
        "\n",
        "model.add(Conv2D(32, (3, 3), activation='relu', kernel_regularizer=l2(1e-4), \n",
        "                 input_shape=(None, None, 3)))\n",
        "model.add(BatchNormalization())\n",
        "model.add(Conv2D(32, (3, 3), activation='relu', kernel_regularizer=l2(1e-4)))\n",
        "model.add(BatchNormalization())\n",
        "model.add(MaxPooling2D((2, 2)))\n",
        "model.add(Dropout(0.25))\n",
        "\n",
        "model.add(Conv2D(64, (3, 3), activation='relu', kernel_regularizer=l2(1e-4)))\n",
        "model.add(BatchNormalization())\n",
        "model.add(Conv2D(64, (3, 3), activation='relu', kernel_regularizer=l2(1e-4)))\n",
        "model.add(BatchNormalization())\n",
        "model.add(MaxPooling2D((2, 2)))\n",
        "model.add(Dropout(0.25))\n",
        "\n",
        "model.add(Conv2D(96, (3, 3),activation='relu', kernel_regularizer=l2(1e-4)))\n",
        "model.add(BatchNormalization())\n",
        "model.add(Conv2D(96, (3, 3),activation='relu', kernel_regularizer=l2(1e-4)))\n",
        "model.add(BatchNormalization())\n",
        "model.add(MaxPooling2D((2, 2)))\n",
        "model.add(Dropout(0.25))\n",
        "\n",
        "model.add(Conv2D(128, (1,1), kernel_regularizer=l2(1e-4)))\n",
        "model.add(GlobalMaxPooling2D())\n",
        "\n",
        "model.add(Dense(256, activation='relu', kernel_regularizer=l2(1e-4)))\n",
        "model.add(Dropout(0.5))\n",
        "model.add(Dense(2, activation='sigmoid', kernel_regularizer=l2(1e-4)))"
      ],
      "execution_count": 0,
      "outputs": []
    },
    {
      "metadata": {
        "colab_type": "code",
        "id": "QKpy_s8Z6HHZ",
        "colab": {}
      },
      "cell_type": "code",
      "source": [
        "model.compile(SGD(lr=0.01, momentum=0.0, decay=0.0, nesterov=False), \n",
        "              loss='binary_crossentropy', metrics=['accuracy'])"
      ],
      "execution_count": 0,
      "outputs": []
    },
    {
      "metadata": {
        "colab_type": "code",
        "id": "oGVeMLcZkPCr",
        "colab": {}
      },
      "cell_type": "code",
      "source": [
        "arquiteture = 'architecture_11'"
      ],
      "execution_count": 0,
      "outputs": []
    },
    {
      "metadata": {
        "colab_type": "code",
        "id": "rvsDdCnxkjhS",
        "colab": {}
      },
      "cell_type": "code",
      "source": [
        "checkpointer = ModelCheckpoint(filepath='drive/My Drive/Resultado/weights_' + arquiteture + '.hdf5', verbose=1, save_best_only=True)"
      ],
      "execution_count": 0,
      "outputs": []
    },
    {
      "metadata": {
        "colab_type": "code",
        "id": "KGy9-eyM7t1c",
        "outputId": "012aa710-f269-4b3c-9d65-bf2e17d341bb",
        "colab": {
          "base_uri": "https://localhost:8080/",
          "height": 3710
        }
      },
      "cell_type": "code",
      "source": [
        "training = model.fit_generator(train_batches, steps_per_epoch=stepsPerEpoche, \n",
        "                   validation_data=validation_batches, validation_steps=validationSteps,\n",
        "                   epochs=50, verbose=2, callbacks=[checkpointer])"
      ],
      "execution_count": 195,
      "outputs": [
        {
          "output_type": "stream",
          "text": [
            "Epoch 1/50\n",
            " - 8s - loss: 1.0777 - acc: 0.6188 - val_loss: 0.7039 - val_acc: 0.5938\n",
            "\n",
            "Epoch 00001: val_loss improved from inf to 0.70392, saving model to drive/My Drive/Resultado/weights_architecture_11.hdf5\n",
            "Epoch 2/50\n",
            " - 1s - loss: 0.8167 - acc: 0.6844 - val_loss: 0.5762 - val_acc: 0.7812\n",
            "\n",
            "Epoch 00002: val_loss improved from 0.70392 to 0.57619, saving model to drive/My Drive/Resultado/weights_architecture_11.hdf5\n",
            "Epoch 3/50\n",
            " - 1s - loss: 0.7145 - acc: 0.7125 - val_loss: 0.5546 - val_acc: 0.7344\n",
            "\n",
            "Epoch 00003: val_loss improved from 0.57619 to 0.55457, saving model to drive/My Drive/Resultado/weights_architecture_11.hdf5\n",
            "Epoch 4/50\n",
            " - 1s - loss: 0.6045 - acc: 0.7906 - val_loss: 0.6703 - val_acc: 0.5781\n",
            "\n",
            "Epoch 00004: val_loss did not improve from 0.55457\n",
            "Epoch 5/50\n",
            " - 1s - loss: 0.4560 - acc: 0.8500 - val_loss: 0.4205 - val_acc: 0.8750\n",
            "\n",
            "Epoch 00005: val_loss improved from 0.55457 to 0.42053, saving model to drive/My Drive/Resultado/weights_architecture_11.hdf5\n",
            "Epoch 6/50\n",
            " - 1s - loss: 0.4486 - acc: 0.8469 - val_loss: 0.5421 - val_acc: 0.7969\n",
            "\n",
            "Epoch 00006: val_loss did not improve from 0.42053\n",
            "Epoch 7/50\n",
            " - 1s - loss: 0.4125 - acc: 0.8781 - val_loss: 0.4564 - val_acc: 0.8438\n",
            "\n",
            "Epoch 00007: val_loss did not improve from 0.42053\n",
            "Epoch 8/50\n",
            " - 1s - loss: 0.5469 - acc: 0.8000 - val_loss: 0.7895 - val_acc: 0.6875\n",
            "\n",
            "Epoch 00008: val_loss did not improve from 0.42053\n",
            "Epoch 9/50\n",
            " - 1s - loss: 0.4123 - acc: 0.8841 - val_loss: 0.5213 - val_acc: 0.7812\n",
            "\n",
            "Epoch 00009: val_loss did not improve from 0.42053\n",
            "Epoch 10/50\n",
            " - 1s - loss: 0.5454 - acc: 0.8187 - val_loss: 0.5125 - val_acc: 0.8438\n",
            "\n",
            "Epoch 00010: val_loss did not improve from 0.42053\n",
            "Epoch 11/50\n",
            " - 1s - loss: 0.4337 - acc: 0.8812 - val_loss: 0.4446 - val_acc: 0.8281\n",
            "\n",
            "Epoch 00011: val_loss did not improve from 0.42053\n",
            "Epoch 12/50\n",
            " - 1s - loss: 0.3690 - acc: 0.8812 - val_loss: 0.7152 - val_acc: 0.7344\n",
            "\n",
            "Epoch 00012: val_loss did not improve from 0.42053\n",
            "Epoch 13/50\n",
            " - 1s - loss: 0.3833 - acc: 0.8969 - val_loss: 0.3204 - val_acc: 0.8906\n",
            "\n",
            "Epoch 00013: val_loss improved from 0.42053 to 0.32040, saving model to drive/My Drive/Resultado/weights_architecture_11.hdf5\n",
            "Epoch 14/50\n",
            " - 1s - loss: 0.4138 - acc: 0.8563 - val_loss: 0.4373 - val_acc: 0.8125\n",
            "\n",
            "Epoch 00014: val_loss did not improve from 0.32040\n",
            "Epoch 15/50\n",
            " - 1s - loss: 0.3350 - acc: 0.8844 - val_loss: 0.5660 - val_acc: 0.7500\n",
            "\n",
            "Epoch 00015: val_loss did not improve from 0.32040\n",
            "Epoch 16/50\n",
            " - 1s - loss: 0.2694 - acc: 0.9281 - val_loss: 0.6373 - val_acc: 0.7188\n",
            "\n",
            "Epoch 00016: val_loss did not improve from 0.32040\n",
            "Epoch 17/50\n",
            " - 1s - loss: 0.3483 - acc: 0.8719 - val_loss: 0.5608 - val_acc: 0.7969\n",
            "\n",
            "Epoch 00017: val_loss did not improve from 0.32040\n",
            "Epoch 18/50\n",
            " - 1s - loss: 0.3176 - acc: 0.9125 - val_loss: 0.9167 - val_acc: 0.6094\n",
            "\n",
            "Epoch 00018: val_loss did not improve from 0.32040\n",
            "Epoch 19/50\n",
            " - 1s - loss: 0.3625 - acc: 0.8875 - val_loss: 0.5575 - val_acc: 0.7031\n",
            "\n",
            "Epoch 00019: val_loss did not improve from 0.32040\n",
            "Epoch 20/50\n",
            " - 1s - loss: 0.2109 - acc: 0.9281 - val_loss: 0.6033 - val_acc: 0.6562\n",
            "\n",
            "Epoch 00020: val_loss did not improve from 0.32040\n",
            "Epoch 21/50\n",
            " - 1s - loss: 0.3543 - acc: 0.8969 - val_loss: 0.5525 - val_acc: 0.7188\n",
            "\n",
            "Epoch 00021: val_loss did not improve from 0.32040\n",
            "Epoch 22/50\n",
            " - 1s - loss: 0.2983 - acc: 0.9062 - val_loss: 0.3715 - val_acc: 0.8710\n",
            "\n",
            "Epoch 00022: val_loss did not improve from 0.32040\n",
            "Epoch 23/50\n",
            " - 1s - loss: 0.2516 - acc: 0.9531 - val_loss: 0.4571 - val_acc: 0.8125\n",
            "\n",
            "Epoch 00023: val_loss did not improve from 0.32040\n",
            "Epoch 24/50\n",
            " - 1s - loss: 0.2719 - acc: 0.9281 - val_loss: 0.4884 - val_acc: 0.8594\n",
            "\n",
            "Epoch 00024: val_loss did not improve from 0.32040\n",
            "Epoch 25/50\n",
            " - 1s - loss: 0.2485 - acc: 0.9281 - val_loss: 0.4508 - val_acc: 0.8906\n",
            "\n",
            "Epoch 00025: val_loss did not improve from 0.32040\n",
            "Epoch 26/50\n",
            " - 1s - loss: 0.3591 - acc: 0.8812 - val_loss: 0.9141 - val_acc: 0.5312\n",
            "\n",
            "Epoch 00026: val_loss did not improve from 0.32040\n",
            "Epoch 27/50\n",
            " - 1s - loss: 0.3308 - acc: 0.8937 - val_loss: 0.8907 - val_acc: 0.5312\n",
            "\n",
            "Epoch 00027: val_loss did not improve from 0.32040\n",
            "Epoch 28/50\n",
            " - 1s - loss: 0.2873 - acc: 0.8906 - val_loss: 1.1598 - val_acc: 0.5156\n",
            "\n",
            "Epoch 00028: val_loss did not improve from 0.32040\n",
            "Epoch 29/50\n",
            " - 1s - loss: 0.2910 - acc: 0.9219 - val_loss: 0.8373 - val_acc: 0.5781\n",
            "\n",
            "Epoch 00029: val_loss did not improve from 0.32040\n",
            "Epoch 30/50\n",
            " - 1s - loss: 0.2737 - acc: 0.9094 - val_loss: 0.6158 - val_acc: 0.7031\n",
            "\n",
            "Epoch 00030: val_loss did not improve from 0.32040\n",
            "Epoch 31/50\n",
            " - 1s - loss: 0.1979 - acc: 0.9625 - val_loss: 1.0577 - val_acc: 0.5938\n",
            "\n",
            "Epoch 00031: val_loss did not improve from 0.32040\n",
            "Epoch 32/50\n",
            " - 1s - loss: 0.3078 - acc: 0.9062 - val_loss: 1.1732 - val_acc: 0.5000\n",
            "\n",
            "Epoch 00032: val_loss did not improve from 0.32040\n",
            "Epoch 33/50\n",
            " - 1s - loss: 0.1950 - acc: 0.9531 - val_loss: 0.7455 - val_acc: 0.6250\n",
            "\n",
            "Epoch 00033: val_loss did not improve from 0.32040\n",
            "Epoch 34/50\n",
            " - 1s - loss: 0.2984 - acc: 0.9437 - val_loss: 0.5202 - val_acc: 0.7031\n",
            "\n",
            "Epoch 00034: val_loss did not improve from 0.32040\n",
            "Epoch 35/50\n",
            " - 1s - loss: 0.2690 - acc: 0.9219 - val_loss: 0.8441 - val_acc: 0.6562\n",
            "\n",
            "Epoch 00035: val_loss did not improve from 0.32040\n",
            "Epoch 36/50\n",
            " - 1s - loss: 0.2671 - acc: 0.9281 - val_loss: 0.6799 - val_acc: 0.6406\n",
            "\n",
            "Epoch 00036: val_loss did not improve from 0.32040\n",
            "Epoch 37/50\n",
            " - 1s - loss: 0.3058 - acc: 0.9154 - val_loss: 1.0986 - val_acc: 0.4688\n",
            "\n",
            "Epoch 00037: val_loss did not improve from 0.32040\n",
            "Epoch 38/50\n",
            " - 1s - loss: 0.3008 - acc: 0.9062 - val_loss: 0.9047 - val_acc: 0.5625\n",
            "\n",
            "Epoch 00038: val_loss did not improve from 0.32040\n",
            "Epoch 39/50\n",
            " - 1s - loss: 0.2899 - acc: 0.9188 - val_loss: 0.8658 - val_acc: 0.5938\n",
            "\n",
            "Epoch 00039: val_loss did not improve from 0.32040\n",
            "Epoch 40/50\n",
            " - 1s - loss: 0.4028 - acc: 0.8719 - val_loss: 0.5531 - val_acc: 0.7344\n",
            "\n",
            "Epoch 00040: val_loss did not improve from 0.32040\n",
            "Epoch 41/50\n",
            " - 1s - loss: 0.3508 - acc: 0.9062 - val_loss: 0.3365 - val_acc: 0.8750\n",
            "\n",
            "Epoch 00041: val_loss did not improve from 0.32040\n",
            "Epoch 42/50\n",
            " - 1s - loss: 0.3319 - acc: 0.8875 - val_loss: 0.9936 - val_acc: 0.5781\n",
            "\n",
            "Epoch 00042: val_loss did not improve from 0.32040\n",
            "Epoch 43/50\n",
            " - 1s - loss: 0.3406 - acc: 0.8969 - val_loss: 1.2819 - val_acc: 0.3594\n",
            "\n",
            "Epoch 00043: val_loss did not improve from 0.32040\n",
            "Epoch 44/50\n",
            " - 1s - loss: 0.1686 - acc: 0.9688 - val_loss: 1.0362 - val_acc: 0.5781\n",
            "\n",
            "Epoch 00044: val_loss did not improve from 0.32040\n",
            "Epoch 45/50\n",
            " - 1s - loss: 0.2492 - acc: 0.9156 - val_loss: 1.6837 - val_acc: 0.4375\n",
            "\n",
            "Epoch 00045: val_loss did not improve from 0.32040\n",
            "Epoch 46/50\n",
            " - 1s - loss: 0.1963 - acc: 0.9469 - val_loss: 1.0698 - val_acc: 0.5312\n",
            "\n",
            "Epoch 00046: val_loss did not improve from 0.32040\n",
            "Epoch 47/50\n",
            " - 1s - loss: 0.2539 - acc: 0.9125 - val_loss: 0.5605 - val_acc: 0.7812\n",
            "\n",
            "Epoch 00047: val_loss did not improve from 0.32040\n",
            "Epoch 48/50\n",
            " - 1s - loss: 0.2543 - acc: 0.9469 - val_loss: 0.7325 - val_acc: 0.6875\n",
            "\n",
            "Epoch 00048: val_loss did not improve from 0.32040\n",
            "Epoch 49/50\n",
            " - 1s - loss: 0.3583 - acc: 0.8688 - val_loss: 1.6959 - val_acc: 0.4375\n",
            "\n",
            "Epoch 00049: val_loss did not improve from 0.32040\n",
            "Epoch 50/50\n",
            " - 1s - loss: 0.2732 - acc: 0.9281 - val_loss: 1.1983 - val_acc: 0.5000\n",
            "\n",
            "Epoch 00050: val_loss did not improve from 0.32040\n"
          ],
          "name": "stdout"
        }
      ]
    },
    {
      "metadata": {
        "colab_type": "code",
        "id": "n6AWbI6ikPC5",
        "outputId": "38280aca-3201-491c-f70f-ca45d8c19d78",
        "colab": {
          "base_uri": "https://localhost:8080/",
          "height": 380
        }
      },
      "cell_type": "code",
      "source": [
        "# plotar loss e accuracy para os datasets 'train' e 'test'\n",
        "plt.style.use(\"ggplot\")\n",
        "plt.figure()\n",
        "plt.plot(training.history['acc'], label='Accuracy')\n",
        "plt.plot(training.history['loss'], label='Loss')\n",
        "plt.xlabel('Epochs')\n",
        "plt.ylabel('Accuracy')\n",
        "plt.title(\"Training Loss and Accuracy\")\n",
        "plt.ylabel(\"Loss/Accuracy\")\n",
        "plt.legend()\n",
        "plt.savefig('drive/My Drive/Resultado/' + arquiteture + '.png', bbox_inches='tight')"
      ],
      "execution_count": 196,
      "outputs": [
        {
          "output_type": "display_data",
          "data": {
            "image/png": "[encoded data removed]",
            "text/plain": [
              "<matplotlib.figure.Figure at 0x7f1cdf618630>"
            ]
          },
          "metadata": {
            "tags": []
          }
        }
      ]
    },
    {
      "metadata": {
        "colab_type": "code",
        "id": "SspLcUTBkPDF",
        "outputId": "16aed94f-8f4c-45ef-b67c-60cf0ed545fc",
        "colab": {
          "base_uri": "https://localhost:8080/",
          "height": 74
        }
      },
      "cell_type": "code",
      "source": [
        "y_true, y_predict = ler_images_teste(arquiteture)"
      ],
      "execution_count": 197,
      "outputs": [
        {
          "output_type": "stream",
          "text": [
            "/usr/local/lib/python3.6/dist-packages/skimage/transform/_warps.py:84: UserWarning: The default mode, 'constant', will be changed to 'reflect' in skimage 0.15.\n",
            "  warn(\"The default mode, 'constant', will be changed to 'reflect' in \"\n"
          ],
          "name": "stderr"
        }
      ]
    },
    {
      "metadata": {
        "colab_type": "code",
        "id": "ppoXzpt-kPDO",
        "outputId": "8920b9e9-7d03-4af2-8977-b4624275f391",
        "colab": {
          "base_uri": "https://localhost:8080/",
          "height": 35
        }
      },
      "cell_type": "code",
      "source": [
        "results[arquiteture] = precision_score(y_true, y_predict, average='binary')\n",
        "print('Test Precision: {:.2f}%'\n",
        "      .format(100 * results[arquiteture]))"
      ],
      "execution_count": 198,
      "outputs": [
        {
          "output_type": "stream",
          "text": [
            "Test Precision: 77.76%\n"
          ],
          "name": "stdout"
        }
      ]
    },
    {
      "metadata": {
        "id": "26BCkdp9MAna",
        "colab_type": "text"
      },
      "cell_type": "markdown",
      "source": [
        "### 12 tentativa Precision: 71.85%"
      ]
    },
    {
      "metadata": {
        "colab_type": "text",
        "id": "MLvKG40a84F9"
      },
      "cell_type": "markdown",
      "source": [
        "Modelo adaptado do **Lucas Albertins**\n",
        "\n",
        "*   Sem utilização das funções de regularização\n",
        "*   Função **SGD** para compilação\n",
        "*   Adicionado mais 2 camadas convolutivas"
      ]
    },
    {
      "metadata": {
        "colab_type": "code",
        "id": "9LrDSy5AMFDO",
        "colab": {}
      },
      "cell_type": "code",
      "source": [
        "from keras.layers import Conv2D, MaxPooling2D, GlobalMaxPooling2D, BatchNormalization\n",
        "from keras.regularizers import l2\n",
        "\n",
        "model = Sequential()\n",
        "\n",
        "model.add(Conv2D(32, (3, 3), activation='relu',input_shape=(None, None, 3)))\n",
        "model.add(BatchNormalization())\n",
        "model.add(Conv2D(32, (3, 3), activation='relu'))\n",
        "model.add(BatchNormalization())\n",
        "model.add(MaxPooling2D((2, 2)))\n",
        "model.add(Dropout(0.25))\n",
        "\n",
        "model.add(Conv2D(64, (3, 3), activation='relu'))\n",
        "model.add(BatchNormalization())\n",
        "model.add(Conv2D(64, (3, 3), activation='relu'))\n",
        "model.add(BatchNormalization())\n",
        "model.add(MaxPooling2D((2, 2)))\n",
        "model.add(Dropout(0.25))\n",
        "\n",
        "model.add(Conv2D(96, (3, 3),activation='relu'))\n",
        "model.add(BatchNormalization())\n",
        "model.add(Conv2D(96, (3, 3),activation='relu'))\n",
        "model.add(BatchNormalization())\n",
        "model.add(MaxPooling2D((2, 2)))\n",
        "model.add(Dropout(0.25))\n",
        "\n",
        "model.add(Conv2D(128, (1,1)))\n",
        "model.add(GlobalMaxPooling2D())\n",
        "\n",
        "model.add(Dense(256, activation='relu'))\n",
        "model.add(Dropout(0.5))\n",
        "model.add(Dense(2, activation='sigmoid'))"
      ],
      "execution_count": 0,
      "outputs": []
    },
    {
      "metadata": {
        "colab_type": "code",
        "id": "EUZ-2eyUMSxQ",
        "colab": {}
      },
      "cell_type": "code",
      "source": [
        "model.compile(SGD(lr=0.01, momentum=0.0, decay=0.0, nesterov=False), \n",
        "              loss='binary_crossentropy', metrics=['accuracy'])"
      ],
      "execution_count": 0,
      "outputs": []
    },
    {
      "metadata": {
        "colab_type": "code",
        "id": "-_TE6KwakRoT",
        "colab": {}
      },
      "cell_type": "code",
      "source": [
        "arquiteture = 'architecture_12'"
      ],
      "execution_count": 0,
      "outputs": []
    },
    {
      "metadata": {
        "colab_type": "code",
        "id": "t9LJH3RP9H7J",
        "colab": {}
      },
      "cell_type": "code",
      "source": [
        "checkpointer = ModelCheckpoint(filepath='drive/My Drive/Resultado/weights_' + arquiteture + '.hdf5', verbose=1, save_best_only=True)"
      ],
      "execution_count": 0,
      "outputs": []
    },
    {
      "metadata": {
        "colab_type": "code",
        "id": "nnQVNSzq9H7S",
        "outputId": "f7229f2e-1d69-4bff-ec57-729f1e553b0c",
        "colab": {
          "base_uri": "https://localhost:8080/",
          "height": 3710
        }
      },
      "cell_type": "code",
      "source": [
        "training = model.fit_generator(train_batches, steps_per_epoch=stepsPerEpoche, \n",
        "                   validation_data=validation_batches, validation_steps=validationSteps,\n",
        "                   epochs=50, verbose=2, callbacks=[checkpointer])"
      ],
      "execution_count": 203,
      "outputs": [
        {
          "output_type": "stream",
          "text": [
            "Epoch 1/50\n",
            " - 8s - loss: 1.2209 - acc: 0.5781 - val_loss: 0.5452 - val_acc: 0.7188\n",
            "\n",
            "Epoch 00001: val_loss improved from inf to 0.54518, saving model to drive/My Drive/Resultado/weights_architecture_12.hdf5\n",
            "Epoch 2/50\n",
            " - 1s - loss: 0.7901 - acc: 0.7031 - val_loss: 0.9458 - val_acc: 0.6250\n",
            "\n",
            "Epoch 00002: val_loss did not improve from 0.54518\n",
            "Epoch 3/50\n",
            " - 1s - loss: 0.5478 - acc: 0.8063 - val_loss: 0.6003 - val_acc: 0.7344\n",
            "\n",
            "Epoch 00003: val_loss did not improve from 0.54518\n",
            "Epoch 4/50\n",
            " - 1s - loss: 0.4753 - acc: 0.8031 - val_loss: 0.5875 - val_acc: 0.6719\n",
            "\n",
            "Epoch 00004: val_loss did not improve from 0.54518\n",
            "Epoch 5/50\n",
            " - 1s - loss: 0.3704 - acc: 0.8781 - val_loss: 0.3952 - val_acc: 0.9219\n",
            "\n",
            "Epoch 00005: val_loss improved from 0.54518 to 0.39520, saving model to drive/My Drive/Resultado/weights_architecture_12.hdf5\n",
            "Epoch 6/50\n",
            " - 1s - loss: 0.6030 - acc: 0.7750 - val_loss: 0.7102 - val_acc: 0.6562\n",
            "\n",
            "Epoch 00006: val_loss did not improve from 0.39520\n",
            "Epoch 7/50\n",
            " - 1s - loss: 0.3535 - acc: 0.8750 - val_loss: 0.7768 - val_acc: 0.5781\n",
            "\n",
            "Epoch 00007: val_loss did not improve from 0.39520\n",
            "Epoch 8/50\n",
            " - 1s - loss: 0.3655 - acc: 0.8594 - val_loss: 0.5527 - val_acc: 0.7031\n",
            "\n",
            "Epoch 00008: val_loss did not improve from 0.39520\n",
            "Epoch 9/50\n",
            " - 1s - loss: 0.1791 - acc: 0.9375 - val_loss: 1.0245 - val_acc: 0.5469\n",
            "\n",
            "Epoch 00009: val_loss did not improve from 0.39520\n",
            "Epoch 10/50\n",
            " - 1s - loss: 0.2867 - acc: 0.8969 - val_loss: 0.5871 - val_acc: 0.7031\n",
            "\n",
            "Epoch 00010: val_loss did not improve from 0.39520\n",
            "Epoch 11/50\n",
            " - 1s - loss: 0.2108 - acc: 0.9250 - val_loss: 0.4892 - val_acc: 0.7812\n",
            "\n",
            "Epoch 00011: val_loss did not improve from 0.39520\n",
            "Epoch 12/50\n",
            " - 1s - loss: 0.4969 - acc: 0.8250 - val_loss: 0.4769 - val_acc: 0.7500\n",
            "\n",
            "Epoch 00012: val_loss did not improve from 0.39520\n",
            "Epoch 13/50\n",
            " - 1s - loss: 0.2429 - acc: 0.9344 - val_loss: 0.6175 - val_acc: 0.6094\n",
            "\n",
            "Epoch 00013: val_loss did not improve from 0.39520\n",
            "Epoch 14/50\n",
            " - 0s - loss: 0.2850 - acc: 0.9223 - val_loss: 0.3745 - val_acc: 0.9219\n",
            "\n",
            "Epoch 00014: val_loss improved from 0.39520 to 0.37454, saving model to drive/My Drive/Resultado/weights_architecture_12.hdf5\n",
            "Epoch 15/50\n",
            " - 1s - loss: 0.2723 - acc: 0.9031 - val_loss: 0.4084 - val_acc: 0.7656\n",
            "\n",
            "Epoch 00015: val_loss did not improve from 0.37454\n",
            "Epoch 16/50\n",
            " - 1s - loss: 0.2411 - acc: 0.9094 - val_loss: 1.0506 - val_acc: 0.4688\n",
            "\n",
            "Epoch 00016: val_loss did not improve from 0.37454\n",
            "Epoch 17/50\n",
            " - 1s - loss: 0.2445 - acc: 0.9000 - val_loss: 0.9563 - val_acc: 0.5000\n",
            "\n",
            "Epoch 00017: val_loss did not improve from 0.37454\n",
            "Epoch 18/50\n",
            " - 1s - loss: 0.3002 - acc: 0.8875 - val_loss: 0.2493 - val_acc: 0.9375\n",
            "\n",
            "Epoch 00018: val_loss improved from 0.37454 to 0.24931, saving model to drive/My Drive/Resultado/weights_architecture_12.hdf5\n",
            "Epoch 19/50\n",
            " - 1s - loss: 0.2264 - acc: 0.9094 - val_loss: 0.5253 - val_acc: 0.7500\n",
            "\n",
            "Epoch 00019: val_loss did not improve from 0.24931\n",
            "Epoch 20/50\n",
            " - 1s - loss: 0.1980 - acc: 0.9250 - val_loss: 0.2849 - val_acc: 0.8750\n",
            "\n",
            "Epoch 00020: val_loss did not improve from 0.24931\n",
            "Epoch 21/50\n",
            " - 1s - loss: 0.1894 - acc: 0.9375 - val_loss: 0.5434 - val_acc: 0.7031\n",
            "\n",
            "Epoch 00021: val_loss did not improve from 0.24931\n",
            "Epoch 22/50\n",
            " - 1s - loss: 0.2853 - acc: 0.9094 - val_loss: 1.1530 - val_acc: 0.6250\n",
            "\n",
            "Epoch 00022: val_loss did not improve from 0.24931\n",
            "Epoch 23/50\n",
            " - 1s - loss: 0.2544 - acc: 0.8812 - val_loss: 0.6843 - val_acc: 0.7419\n",
            "\n",
            "Epoch 00023: val_loss did not improve from 0.24931\n",
            "Epoch 24/50\n",
            " - 1s - loss: 0.2221 - acc: 0.9313 - val_loss: 0.5090 - val_acc: 0.6406\n",
            "\n",
            "Epoch 00024: val_loss did not improve from 0.24931\n",
            "Epoch 25/50\n",
            " - 1s - loss: 0.2337 - acc: 0.9125 - val_loss: 0.7462 - val_acc: 0.5000\n",
            "\n",
            "Epoch 00025: val_loss did not improve from 0.24931\n",
            "Epoch 26/50\n",
            " - 1s - loss: 0.2120 - acc: 0.9250 - val_loss: 0.4409 - val_acc: 0.7188\n",
            "\n",
            "Epoch 00026: val_loss did not improve from 0.24931\n",
            "Epoch 27/50\n",
            " - 1s - loss: 0.2794 - acc: 0.8969 - val_loss: 0.4110 - val_acc: 0.9219\n",
            "\n",
            "Epoch 00027: val_loss did not improve from 0.24931\n",
            "Epoch 28/50\n",
            " - 1s - loss: 0.2452 - acc: 0.9125 - val_loss: 0.5120 - val_acc: 0.7812\n",
            "\n",
            "Epoch 00028: val_loss did not improve from 0.24931\n",
            "Epoch 29/50\n",
            " - 1s - loss: 0.2300 - acc: 0.9125 - val_loss: 0.4410 - val_acc: 0.8125\n",
            "\n",
            "Epoch 00029: val_loss did not improve from 0.24931\n",
            "Epoch 30/50\n",
            " - 1s - loss: 0.1219 - acc: 0.9625 - val_loss: 0.3133 - val_acc: 0.8594\n",
            "\n",
            "Epoch 00030: val_loss did not improve from 0.24931\n",
            "Epoch 31/50\n",
            " - 1s - loss: 0.1885 - acc: 0.9281 - val_loss: 0.5838 - val_acc: 0.6875\n",
            "\n",
            "Epoch 00031: val_loss did not improve from 0.24931\n",
            "Epoch 32/50\n",
            " - 1s - loss: 0.1922 - acc: 0.9313 - val_loss: 0.5406 - val_acc: 0.7344\n",
            "\n",
            "Epoch 00032: val_loss did not improve from 0.24931\n",
            "Epoch 33/50\n",
            " - 1s - loss: 0.1556 - acc: 0.9469 - val_loss: 0.4318 - val_acc: 0.7500\n",
            "\n",
            "Epoch 00033: val_loss did not improve from 0.24931\n",
            "Epoch 34/50\n",
            " - 1s - loss: 0.2693 - acc: 0.8906 - val_loss: 0.5999 - val_acc: 0.6719\n",
            "\n",
            "Epoch 00034: val_loss did not improve from 0.24931\n",
            "Epoch 35/50\n",
            " - 1s - loss: 0.2474 - acc: 0.9125 - val_loss: 0.5814 - val_acc: 0.7031\n",
            "\n",
            "Epoch 00035: val_loss did not improve from 0.24931\n",
            "Epoch 36/50\n",
            " - 1s - loss: 0.4007 - acc: 0.8625 - val_loss: 0.6689 - val_acc: 0.6250\n",
            "\n",
            "Epoch 00036: val_loss did not improve from 0.24931\n",
            "Epoch 37/50\n",
            " - 1s - loss: 0.1740 - acc: 0.9375 - val_loss: 0.5493 - val_acc: 0.7500\n",
            "\n",
            "Epoch 00037: val_loss did not improve from 0.24931\n",
            "Epoch 38/50\n",
            " - 1s - loss: 0.1336 - acc: 0.9562 - val_loss: 0.6473 - val_acc: 0.6875\n",
            "\n",
            "Epoch 00038: val_loss did not improve from 0.24931\n",
            "Epoch 39/50\n",
            " - 1s - loss: 0.3126 - acc: 0.8875 - val_loss: 0.8071 - val_acc: 0.4688\n",
            "\n",
            "Epoch 00039: val_loss did not improve from 0.24931\n",
            "Epoch 40/50\n",
            " - 1s - loss: 0.2060 - acc: 0.9219 - val_loss: 0.9037 - val_acc: 0.5938\n",
            "\n",
            "Epoch 00040: val_loss did not improve from 0.24931\n",
            "Epoch 41/50\n",
            " - 1s - loss: 0.2350 - acc: 0.9223 - val_loss: 0.8373 - val_acc: 0.5625\n",
            "\n",
            "Epoch 00041: val_loss did not improve from 0.24931\n",
            "Epoch 42/50\n",
            " - 1s - loss: 0.2459 - acc: 0.9062 - val_loss: 1.2755 - val_acc: 0.4531\n",
            "\n",
            "Epoch 00042: val_loss did not improve from 0.24931\n",
            "Epoch 43/50\n",
            " - 1s - loss: 0.2706 - acc: 0.9000 - val_loss: 0.4857 - val_acc: 0.7344\n",
            "\n",
            "Epoch 00043: val_loss did not improve from 0.24931\n",
            "Epoch 44/50\n",
            " - 1s - loss: 0.2340 - acc: 0.8937 - val_loss: 0.3492 - val_acc: 0.8438\n",
            "\n",
            "Epoch 00044: val_loss did not improve from 0.24931\n",
            "Epoch 45/50\n",
            " - 1s - loss: 0.3078 - acc: 0.8625 - val_loss: 0.4831 - val_acc: 0.7812\n",
            "\n",
            "Epoch 00045: val_loss did not improve from 0.24931\n",
            "Epoch 46/50\n",
            " - 1s - loss: 0.2036 - acc: 0.9156 - val_loss: 0.4348 - val_acc: 0.8281\n",
            "\n",
            "Epoch 00046: val_loss did not improve from 0.24931\n",
            "Epoch 47/50\n",
            " - 1s - loss: 0.1987 - acc: 0.9250 - val_loss: 0.4194 - val_acc: 0.8281\n",
            "\n",
            "Epoch 00047: val_loss did not improve from 0.24931\n",
            "Epoch 48/50\n",
            " - 1s - loss: 0.1730 - acc: 0.9313 - val_loss: 0.4066 - val_acc: 0.8750\n",
            "\n",
            "Epoch 00048: val_loss did not improve from 0.24931\n",
            "Epoch 49/50\n",
            " - 1s - loss: 0.1189 - acc: 0.9750 - val_loss: 0.2756 - val_acc: 0.9219\n",
            "\n",
            "Epoch 00049: val_loss did not improve from 0.24931\n",
            "Epoch 50/50\n",
            " - 1s - loss: 0.1296 - acc: 0.9469 - val_loss: 0.5710 - val_acc: 0.6875\n",
            "\n",
            "Epoch 00050: val_loss did not improve from 0.24931\n"
          ],
          "name": "stdout"
        }
      ]
    },
    {
      "metadata": {
        "colab_type": "code",
        "id": "5Z2o5TCGkRoi",
        "outputId": "2e32f91b-d42c-4617-c20e-3f784b80b454",
        "colab": {
          "base_uri": "https://localhost:8080/",
          "height": 380
        }
      },
      "cell_type": "code",
      "source": [
        "# plotar loss e accuracy para os datasets 'train' e 'test'\n",
        "plt.style.use(\"ggplot\")\n",
        "plt.figure()\n",
        "plt.plot(training.history['acc'], label='Accuracy')\n",
        "plt.plot(training.history['loss'], label='Loss')\n",
        "plt.xlabel('Epochs')\n",
        "plt.ylabel('Accuracy')\n",
        "plt.title(\"Training Loss and Accuracy\")\n",
        "plt.ylabel(\"Loss/Accuracy\")\n",
        "plt.legend()\n",
        "plt.savefig('drive/My Drive/Resultado/' + arquiteture + '.png', bbox_inches='tight')"
      ],
      "execution_count": 204,
      "outputs": [
        {
          "output_type": "display_data",
          "data": {
            "image/png": "[encoded data removed]",
            "text/plain": [
              "<matplotlib.figure.Figure at 0x7f1cdf4d9860>"
            ]
          },
          "metadata": {
            "tags": []
          }
        }
      ]
    },
    {
      "metadata": {
        "colab_type": "code",
        "id": "gNjIuvcfkRou",
        "outputId": "3d2e2d5b-1770-4c91-f72b-daa7503443d1",
        "colab": {
          "base_uri": "https://localhost:8080/",
          "height": 74
        }
      },
      "cell_type": "code",
      "source": [
        "y_true, y_predict = ler_images_teste(arquiteture)"
      ],
      "execution_count": 205,
      "outputs": [
        {
          "output_type": "stream",
          "text": [
            "/usr/local/lib/python3.6/dist-packages/skimage/transform/_warps.py:84: UserWarning: The default mode, 'constant', will be changed to 'reflect' in skimage 0.15.\n",
            "  warn(\"The default mode, 'constant', will be changed to 'reflect' in \"\n"
          ],
          "name": "stderr"
        }
      ]
    },
    {
      "metadata": {
        "colab_type": "code",
        "id": "GpyaeT1LkRo2",
        "outputId": "897fafab-4277-4389-ec7c-140afaa3719d",
        "colab": {
          "base_uri": "https://localhost:8080/",
          "height": 35
        }
      },
      "cell_type": "code",
      "source": [
        "results[arquiteture] = precision_score(y_true, y_predict, average='binary')\n",
        "print('Test Precision: {:.2f}%'\n",
        "      .format(100 * results[arquiteture]))"
      ],
      "execution_count": 206,
      "outputs": [
        {
          "output_type": "stream",
          "text": [
            "Test Precision: 71.85%\n"
          ],
          "name": "stdout"
        }
      ]
    }
  ]
}